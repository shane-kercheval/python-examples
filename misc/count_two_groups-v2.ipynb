{
 "cells": [
  {
   "cell_type": "code",
   "execution_count": 1,
   "id": "74ba7ee3",
   "metadata": {},
   "outputs": [],
   "source": [
    "import pandas as pd\n",
    "import numpy as np\n",
    "from html import escape\n",
    "import helpsk as hlp"
   ]
  },
  {
   "cell_type": "code",
   "execution_count": 2,
   "id": "8c861966",
   "metadata": {},
   "outputs": [],
   "source": [
    "from sklearn.datasets import fetch_openml\n",
    "credit_g = fetch_openml('credit-g', version=1)\n",
    "data = credit_g['data']\n",
    "data['target'] = credit_g['target']"
   ]
  },
  {
   "cell_type": "code",
   "execution_count": 3,
   "id": "c46c90e2",
   "metadata": {},
   "outputs": [],
   "source": [
    "data.loc[:, 'target'] = data['target'] == 'good'\n",
    "data.loc[0:10, 'target'] = np.nan\n",
    "data.loc[:, 'target'] = data['target'].astype('boolean')\n",
    "data.loc[9:20, 'checking_status'] = np.nan\n",
    "data.loc[19:30, 'credit_amount'] = np.nan"
   ]
  },
  {
   "cell_type": "code",
   "execution_count": 4,
   "id": "9499a92d",
   "metadata": {},
   "outputs": [],
   "source": [
    "outer_group_by = 'checking_status'\n",
    "inner_group_by = 'target'\n",
    "sum_by = 'credit_amount'"
   ]
  },
  {
   "cell_type": "code",
   "execution_count": 5,
   "id": "c68a90a6",
   "metadata": {},
   "outputs": [],
   "source": [
    "outer_group_by = 'target'\n",
    "inner_group_by = 'checking_status'\n",
    "sum_by = 'credit_amount'"
   ]
  },
  {
   "cell_type": "code",
   "execution_count": 6,
   "id": "104fbae5",
   "metadata": {},
   "outputs": [
    {
     "data": {
      "text/html": [
       "<div>\n",
       "<style scoped>\n",
       "    .dataframe tbody tr th:only-of-type {\n",
       "        vertical-align: middle;\n",
       "    }\n",
       "\n",
       "    .dataframe tbody tr th {\n",
       "        vertical-align: top;\n",
       "    }\n",
       "\n",
       "    .dataframe thead th {\n",
       "        text-align: right;\n",
       "    }\n",
       "</style>\n",
       "<table border=\"1\" class=\"dataframe\">\n",
       "  <thead>\n",
       "    <tr style=\"text-align: right;\">\n",
       "      <th></th>\n",
       "      <th>target</th>\n",
       "      <th>checking_status</th>\n",
       "      <th>credit_amount</th>\n",
       "    </tr>\n",
       "  </thead>\n",
       "  <tbody>\n",
       "    <tr>\n",
       "      <th>0</th>\n",
       "      <td>&lt;NA&gt;</td>\n",
       "      <td>&lt;0</td>\n",
       "      <td>1169.0</td>\n",
       "    </tr>\n",
       "    <tr>\n",
       "      <th>1</th>\n",
       "      <td>&lt;NA&gt;</td>\n",
       "      <td>0&lt;=X&lt;200</td>\n",
       "      <td>5951.0</td>\n",
       "    </tr>\n",
       "    <tr>\n",
       "      <th>2</th>\n",
       "      <td>&lt;NA&gt;</td>\n",
       "      <td>no checking</td>\n",
       "      <td>2096.0</td>\n",
       "    </tr>\n",
       "    <tr>\n",
       "      <th>3</th>\n",
       "      <td>&lt;NA&gt;</td>\n",
       "      <td>&lt;0</td>\n",
       "      <td>7882.0</td>\n",
       "    </tr>\n",
       "    <tr>\n",
       "      <th>4</th>\n",
       "      <td>&lt;NA&gt;</td>\n",
       "      <td>&lt;0</td>\n",
       "      <td>4870.0</td>\n",
       "    </tr>\n",
       "    <tr>\n",
       "      <th>5</th>\n",
       "      <td>&lt;NA&gt;</td>\n",
       "      <td>no checking</td>\n",
       "      <td>9055.0</td>\n",
       "    </tr>\n",
       "    <tr>\n",
       "      <th>6</th>\n",
       "      <td>&lt;NA&gt;</td>\n",
       "      <td>no checking</td>\n",
       "      <td>2835.0</td>\n",
       "    </tr>\n",
       "    <tr>\n",
       "      <th>7</th>\n",
       "      <td>&lt;NA&gt;</td>\n",
       "      <td>0&lt;=X&lt;200</td>\n",
       "      <td>6948.0</td>\n",
       "    </tr>\n",
       "    <tr>\n",
       "      <th>8</th>\n",
       "      <td>&lt;NA&gt;</td>\n",
       "      <td>no checking</td>\n",
       "      <td>3059.0</td>\n",
       "    </tr>\n",
       "    <tr>\n",
       "      <th>9</th>\n",
       "      <td>&lt;NA&gt;</td>\n",
       "      <td>NaN</td>\n",
       "      <td>5234.0</td>\n",
       "    </tr>\n",
       "    <tr>\n",
       "      <th>10</th>\n",
       "      <td>&lt;NA&gt;</td>\n",
       "      <td>NaN</td>\n",
       "      <td>1295.0</td>\n",
       "    </tr>\n",
       "    <tr>\n",
       "      <th>11</th>\n",
       "      <td>False</td>\n",
       "      <td>NaN</td>\n",
       "      <td>4308.0</td>\n",
       "    </tr>\n",
       "    <tr>\n",
       "      <th>12</th>\n",
       "      <td>True</td>\n",
       "      <td>NaN</td>\n",
       "      <td>1567.0</td>\n",
       "    </tr>\n",
       "    <tr>\n",
       "      <th>13</th>\n",
       "      <td>False</td>\n",
       "      <td>NaN</td>\n",
       "      <td>1199.0</td>\n",
       "    </tr>\n",
       "    <tr>\n",
       "      <th>14</th>\n",
       "      <td>True</td>\n",
       "      <td>NaN</td>\n",
       "      <td>1403.0</td>\n",
       "    </tr>\n",
       "    <tr>\n",
       "      <th>15</th>\n",
       "      <td>False</td>\n",
       "      <td>NaN</td>\n",
       "      <td>1282.0</td>\n",
       "    </tr>\n",
       "    <tr>\n",
       "      <th>16</th>\n",
       "      <td>True</td>\n",
       "      <td>NaN</td>\n",
       "      <td>2424.0</td>\n",
       "    </tr>\n",
       "    <tr>\n",
       "      <th>17</th>\n",
       "      <td>True</td>\n",
       "      <td>NaN</td>\n",
       "      <td>8072.0</td>\n",
       "    </tr>\n",
       "    <tr>\n",
       "      <th>18</th>\n",
       "      <td>False</td>\n",
       "      <td>NaN</td>\n",
       "      <td>12579.0</td>\n",
       "    </tr>\n",
       "    <tr>\n",
       "      <th>19</th>\n",
       "      <td>True</td>\n",
       "      <td>NaN</td>\n",
       "      <td>NaN</td>\n",
       "    </tr>\n",
       "  </tbody>\n",
       "</table>\n",
       "</div>"
      ],
      "text/plain": [
       "    target checking_status  credit_amount\n",
       "0     <NA>              <0         1169.0\n",
       "1     <NA>        0<=X<200         5951.0\n",
       "2     <NA>     no checking         2096.0\n",
       "3     <NA>              <0         7882.0\n",
       "4     <NA>              <0         4870.0\n",
       "5     <NA>     no checking         9055.0\n",
       "6     <NA>     no checking         2835.0\n",
       "7     <NA>        0<=X<200         6948.0\n",
       "8     <NA>     no checking         3059.0\n",
       "9     <NA>             NaN         5234.0\n",
       "10    <NA>             NaN         1295.0\n",
       "11   False             NaN         4308.0\n",
       "12    True             NaN         1567.0\n",
       "13   False             NaN         1199.0\n",
       "14    True             NaN         1403.0\n",
       "15   False             NaN         1282.0\n",
       "16    True             NaN         2424.0\n",
       "17    True             NaN         8072.0\n",
       "18   False             NaN        12579.0\n",
       "19    True             NaN            NaN"
      ]
     },
     "execution_count": 6,
     "metadata": {},
     "output_type": "execute_result"
    }
   ],
   "source": [
    "data = data[[outer_group_by, inner_group_by, sum_by]]\n",
    "data.head(20)"
   ]
  },
  {
   "cell_type": "code",
   "execution_count": 7,
   "id": "d68b1465",
   "metadata": {},
   "outputs": [
    {
     "name": "stderr",
     "output_type": "stream",
     "text": [
      "/Users/shanekercheval/opt/anaconda3/envs/python-examples/lib/python3.9/site-packages/pandas/core/indexing.py:1773: SettingWithCopyWarning: \n",
      "A value is trying to be set on a copy of a slice from a DataFrame.\n",
      "Try using .loc[row_indexer,col_indexer] = value instead\n",
      "\n",
      "See the caveats in the documentation: https://pandas.pydata.org/pandas-docs/stable/user_guide/indexing.html#returning-a-view-versus-a-copy\n",
      "  self._setitem_single_column(ilocs[0], value, pi)\n"
     ]
    }
   ],
   "source": [
    "data.loc[:, outer_group_by] = hlp.pandas.fill_na(data[outer_group_by])\n",
    "data.loc[:, inner_group_by] = hlp.pandas.fill_na(data[inner_group_by])"
   ]
  },
  {
   "cell_type": "code",
   "execution_count": 8,
   "id": "c3c7bdf6",
   "metadata": {},
   "outputs": [
    {
     "data": {
      "text/html": [
       "<div>\n",
       "<style scoped>\n",
       "    .dataframe tbody tr th:only-of-type {\n",
       "        vertical-align: middle;\n",
       "    }\n",
       "\n",
       "    .dataframe tbody tr th {\n",
       "        vertical-align: top;\n",
       "    }\n",
       "\n",
       "    .dataframe thead th {\n",
       "        text-align: right;\n",
       "    }\n",
       "</style>\n",
       "<table border=\"1\" class=\"dataframe\">\n",
       "  <thead>\n",
       "    <tr style=\"text-align: right;\">\n",
       "      <th></th>\n",
       "      <th>target</th>\n",
       "      <th>checking_status</th>\n",
       "      <th>credit_amount</th>\n",
       "    </tr>\n",
       "  </thead>\n",
       "  <tbody>\n",
       "    <tr>\n",
       "      <th>0</th>\n",
       "      <td>&lt;Missing&gt;</td>\n",
       "      <td>&lt;0</td>\n",
       "      <td>1169.0</td>\n",
       "    </tr>\n",
       "    <tr>\n",
       "      <th>1</th>\n",
       "      <td>&lt;Missing&gt;</td>\n",
       "      <td>0&lt;=X&lt;200</td>\n",
       "      <td>5951.0</td>\n",
       "    </tr>\n",
       "    <tr>\n",
       "      <th>2</th>\n",
       "      <td>&lt;Missing&gt;</td>\n",
       "      <td>no checking</td>\n",
       "      <td>2096.0</td>\n",
       "    </tr>\n",
       "    <tr>\n",
       "      <th>3</th>\n",
       "      <td>&lt;Missing&gt;</td>\n",
       "      <td>&lt;0</td>\n",
       "      <td>7882.0</td>\n",
       "    </tr>\n",
       "    <tr>\n",
       "      <th>4</th>\n",
       "      <td>&lt;Missing&gt;</td>\n",
       "      <td>&lt;0</td>\n",
       "      <td>4870.0</td>\n",
       "    </tr>\n",
       "    <tr>\n",
       "      <th>5</th>\n",
       "      <td>&lt;Missing&gt;</td>\n",
       "      <td>no checking</td>\n",
       "      <td>9055.0</td>\n",
       "    </tr>\n",
       "    <tr>\n",
       "      <th>6</th>\n",
       "      <td>&lt;Missing&gt;</td>\n",
       "      <td>no checking</td>\n",
       "      <td>2835.0</td>\n",
       "    </tr>\n",
       "    <tr>\n",
       "      <th>7</th>\n",
       "      <td>&lt;Missing&gt;</td>\n",
       "      <td>0&lt;=X&lt;200</td>\n",
       "      <td>6948.0</td>\n",
       "    </tr>\n",
       "    <tr>\n",
       "      <th>8</th>\n",
       "      <td>&lt;Missing&gt;</td>\n",
       "      <td>no checking</td>\n",
       "      <td>3059.0</td>\n",
       "    </tr>\n",
       "    <tr>\n",
       "      <th>9</th>\n",
       "      <td>&lt;Missing&gt;</td>\n",
       "      <td>&lt;Missing&gt;</td>\n",
       "      <td>5234.0</td>\n",
       "    </tr>\n",
       "    <tr>\n",
       "      <th>10</th>\n",
       "      <td>&lt;Missing&gt;</td>\n",
       "      <td>&lt;Missing&gt;</td>\n",
       "      <td>1295.0</td>\n",
       "    </tr>\n",
       "    <tr>\n",
       "      <th>11</th>\n",
       "      <td>False</td>\n",
       "      <td>&lt;Missing&gt;</td>\n",
       "      <td>4308.0</td>\n",
       "    </tr>\n",
       "    <tr>\n",
       "      <th>12</th>\n",
       "      <td>True</td>\n",
       "      <td>&lt;Missing&gt;</td>\n",
       "      <td>1567.0</td>\n",
       "    </tr>\n",
       "    <tr>\n",
       "      <th>13</th>\n",
       "      <td>False</td>\n",
       "      <td>&lt;Missing&gt;</td>\n",
       "      <td>1199.0</td>\n",
       "    </tr>\n",
       "    <tr>\n",
       "      <th>14</th>\n",
       "      <td>True</td>\n",
       "      <td>&lt;Missing&gt;</td>\n",
       "      <td>1403.0</td>\n",
       "    </tr>\n",
       "    <tr>\n",
       "      <th>15</th>\n",
       "      <td>False</td>\n",
       "      <td>&lt;Missing&gt;</td>\n",
       "      <td>1282.0</td>\n",
       "    </tr>\n",
       "    <tr>\n",
       "      <th>16</th>\n",
       "      <td>True</td>\n",
       "      <td>&lt;Missing&gt;</td>\n",
       "      <td>2424.0</td>\n",
       "    </tr>\n",
       "    <tr>\n",
       "      <th>17</th>\n",
       "      <td>True</td>\n",
       "      <td>&lt;Missing&gt;</td>\n",
       "      <td>8072.0</td>\n",
       "    </tr>\n",
       "    <tr>\n",
       "      <th>18</th>\n",
       "      <td>False</td>\n",
       "      <td>&lt;Missing&gt;</td>\n",
       "      <td>12579.0</td>\n",
       "    </tr>\n",
       "    <tr>\n",
       "      <th>19</th>\n",
       "      <td>True</td>\n",
       "      <td>&lt;Missing&gt;</td>\n",
       "      <td>NaN</td>\n",
       "    </tr>\n",
       "  </tbody>\n",
       "</table>\n",
       "</div>"
      ],
      "text/plain": [
       "       target checking_status  credit_amount\n",
       "0   <Missing>              <0         1169.0\n",
       "1   <Missing>        0<=X<200         5951.0\n",
       "2   <Missing>     no checking         2096.0\n",
       "3   <Missing>              <0         7882.0\n",
       "4   <Missing>              <0         4870.0\n",
       "5   <Missing>     no checking         9055.0\n",
       "6   <Missing>     no checking         2835.0\n",
       "7   <Missing>        0<=X<200         6948.0\n",
       "8   <Missing>     no checking         3059.0\n",
       "9   <Missing>       <Missing>         5234.0\n",
       "10  <Missing>       <Missing>         1295.0\n",
       "11      False       <Missing>         4308.0\n",
       "12       True       <Missing>         1567.0\n",
       "13      False       <Missing>         1199.0\n",
       "14       True       <Missing>         1403.0\n",
       "15      False       <Missing>         1282.0\n",
       "16       True       <Missing>         2424.0\n",
       "17       True       <Missing>         8072.0\n",
       "18      False       <Missing>        12579.0\n",
       "19       True       <Missing>            NaN"
      ]
     },
     "execution_count": 8,
     "metadata": {},
     "output_type": "execute_result"
    }
   ],
   "source": [
    "data.head(20)"
   ]
  },
  {
   "cell_type": "code",
   "execution_count": null,
   "id": "477ee328",
   "metadata": {},
   "outputs": [],
   "source": []
  },
  {
   "cell_type": "code",
   "execution_count": null,
   "id": "a1ed2e90",
   "metadata": {},
   "outputs": [],
   "source": []
  },
  {
   "cell_type": "code",
   "execution_count": null,
   "id": "d26e706a",
   "metadata": {},
   "outputs": [],
   "source": []
  },
  {
   "cell_type": "code",
   "execution_count": 9,
   "id": "7b98e1fb",
   "metadata": {},
   "outputs": [],
   "source": [
    "def f(x, label):\n",
    "    d = {}\n",
    "    d[f'{label} Count'] = x.shape[0]\n",
    "    d[f'{label} Sum'] = x[sum_by].sum()\n",
    "    return pd.Series(d)"
   ]
  },
  {
   "cell_type": "code",
   "execution_count": 10,
   "id": "cd81fffa",
   "metadata": {},
   "outputs": [
    {
     "data": {
      "text/html": [
       "<div>\n",
       "<style scoped>\n",
       "    .dataframe tbody tr th:only-of-type {\n",
       "        vertical-align: middle;\n",
       "    }\n",
       "\n",
       "    .dataframe tbody tr th {\n",
       "        vertical-align: top;\n",
       "    }\n",
       "\n",
       "    .dataframe thead th {\n",
       "        text-align: right;\n",
       "    }\n",
       "</style>\n",
       "<table border=\"1\" class=\"dataframe\">\n",
       "  <thead>\n",
       "    <tr style=\"text-align: right;\">\n",
       "      <th></th>\n",
       "      <th>target</th>\n",
       "      <th>Outer Count</th>\n",
       "      <th>Outer Sum</th>\n",
       "    </tr>\n",
       "  </thead>\n",
       "  <tbody>\n",
       "    <tr>\n",
       "      <th>0</th>\n",
       "      <td>False</td>\n",
       "      <td>296.0</td>\n",
       "      <td>1157252.0</td>\n",
       "    </tr>\n",
       "    <tr>\n",
       "      <th>1</th>\n",
       "      <td>True</td>\n",
       "      <td>693.0</td>\n",
       "      <td>2035914.0</td>\n",
       "    </tr>\n",
       "    <tr>\n",
       "      <th>2</th>\n",
       "      <td>&lt;Missing&gt;</td>\n",
       "      <td>11.0</td>\n",
       "      <td>50394.0</td>\n",
       "    </tr>\n",
       "  </tbody>\n",
       "</table>\n",
       "</div>"
      ],
      "text/plain": [
       "      target  Outer Count  Outer Sum\n",
       "0      False        296.0  1157252.0\n",
       "1       True        693.0  2035914.0\n",
       "2  <Missing>         11.0    50394.0"
      ]
     },
     "execution_count": 10,
     "metadata": {},
     "output_type": "execute_result"
    }
   ],
   "source": [
    "outer_totals = data.groupby(outer_group_by).apply(f, 'Outer')\n",
    "#outer_totals.columns = pd.MultiIndex.from_tuples([(outer_group_by, 'Count1'), (outer_group_by, 'Sum1')])\n",
    "outer_totals = outer_totals.reset_index(level=0, drop=False)\n",
    "outer_totals"
   ]
  },
  {
   "cell_type": "code",
   "execution_count": 11,
   "id": "1eedf0da",
   "metadata": {},
   "outputs": [],
   "source": [
    "hlp.validation.assert_true(outer_totals['Outer Count'].sum() == data.shape[0])"
   ]
  },
  {
   "cell_type": "code",
   "execution_count": 12,
   "id": "2236298e",
   "metadata": {},
   "outputs": [],
   "source": [
    "hlp.validation.assert_true(outer_totals['Outer Sum'].sum() == data[sum_by].sum())"
   ]
  },
  {
   "cell_type": "code",
   "execution_count": 13,
   "id": "1d3acf3c",
   "metadata": {},
   "outputs": [
    {
     "data": {
      "text/html": [
       "<div>\n",
       "<style scoped>\n",
       "    .dataframe tbody tr th:only-of-type {\n",
       "        vertical-align: middle;\n",
       "    }\n",
       "\n",
       "    .dataframe tbody tr th {\n",
       "        vertical-align: top;\n",
       "    }\n",
       "\n",
       "    .dataframe thead th {\n",
       "        text-align: right;\n",
       "    }\n",
       "</style>\n",
       "<table border=\"1\" class=\"dataframe\">\n",
       "  <thead>\n",
       "    <tr style=\"text-align: right;\">\n",
       "      <th></th>\n",
       "      <th>target</th>\n",
       "      <th>Outer Count</th>\n",
       "      <th>Outer Sum</th>\n",
       "      <th>Outer Count Perc</th>\n",
       "      <th>Outer Sum Perc</th>\n",
       "    </tr>\n",
       "  </thead>\n",
       "  <tbody>\n",
       "    <tr>\n",
       "      <th>0</th>\n",
       "      <td>False</td>\n",
       "      <td>296.0</td>\n",
       "      <td>1157252.0</td>\n",
       "      <td>0.296</td>\n",
       "      <td>0.356785</td>\n",
       "    </tr>\n",
       "    <tr>\n",
       "      <th>1</th>\n",
       "      <td>True</td>\n",
       "      <td>693.0</td>\n",
       "      <td>2035914.0</td>\n",
       "      <td>0.693</td>\n",
       "      <td>0.627679</td>\n",
       "    </tr>\n",
       "    <tr>\n",
       "      <th>2</th>\n",
       "      <td>&lt;Missing&gt;</td>\n",
       "      <td>11.0</td>\n",
       "      <td>50394.0</td>\n",
       "      <td>0.011</td>\n",
       "      <td>0.015537</td>\n",
       "    </tr>\n",
       "  </tbody>\n",
       "</table>\n",
       "</div>"
      ],
      "text/plain": [
       "      target  Outer Count  Outer Sum  Outer Count Perc  Outer Sum Perc\n",
       "0      False        296.0  1157252.0             0.296        0.356785\n",
       "1       True        693.0  2035914.0             0.693        0.627679\n",
       "2  <Missing>         11.0    50394.0             0.011        0.015537"
      ]
     },
     "execution_count": 13,
     "metadata": {},
     "output_type": "execute_result"
    }
   ],
   "source": [
    "outer_totals['Outer Count Perc'] = outer_totals['Outer Count'] / data.shape[0]\n",
    "outer_totals['Outer Sum Perc'] = outer_totals['Outer Sum'] / data[sum_by].sum()\n",
    "outer_totals"
   ]
  },
  {
   "cell_type": "code",
   "execution_count": 14,
   "id": "dbf68254",
   "metadata": {},
   "outputs": [],
   "source": [
    "hlp.validation.assert_is_close(outer_totals['Outer Count Perc'].sum(), 1)"
   ]
  },
  {
   "cell_type": "code",
   "execution_count": 15,
   "id": "ab1c23cc",
   "metadata": {},
   "outputs": [],
   "source": [
    "hlp.validation.assert_is_close(outer_totals['Outer Sum Perc'].sum(), 1)"
   ]
  },
  {
   "cell_type": "code",
   "execution_count": 17,
   "id": "3949756e",
   "metadata": {},
   "outputs": [
    {
     "data": {
      "text/html": [
       "<div>\n",
       "<style scoped>\n",
       "    .dataframe tbody tr th:only-of-type {\n",
       "        vertical-align: middle;\n",
       "    }\n",
       "\n",
       "    .dataframe tbody tr th {\n",
       "        vertical-align: top;\n",
       "    }\n",
       "\n",
       "    .dataframe thead th {\n",
       "        text-align: right;\n",
       "    }\n",
       "</style>\n",
       "<table border=\"1\" class=\"dataframe\">\n",
       "  <thead>\n",
       "    <tr style=\"text-align: right;\">\n",
       "      <th></th>\n",
       "      <th>target</th>\n",
       "      <th>Outer Count</th>\n",
       "      <th>Outer Count Perc</th>\n",
       "      <th>Outer Sum</th>\n",
       "      <th>Outer Sum Perc</th>\n",
       "    </tr>\n",
       "  </thead>\n",
       "  <tbody>\n",
       "    <tr>\n",
       "      <th>0</th>\n",
       "      <td>False</td>\n",
       "      <td>296.0</td>\n",
       "      <td>0.296</td>\n",
       "      <td>1157252.0</td>\n",
       "      <td>0.356785</td>\n",
       "    </tr>\n",
       "    <tr>\n",
       "      <th>1</th>\n",
       "      <td>True</td>\n",
       "      <td>693.0</td>\n",
       "      <td>0.693</td>\n",
       "      <td>2035914.0</td>\n",
       "      <td>0.627679</td>\n",
       "    </tr>\n",
       "    <tr>\n",
       "      <th>2</th>\n",
       "      <td>&lt;Missing&gt;</td>\n",
       "      <td>11.0</td>\n",
       "      <td>0.011</td>\n",
       "      <td>50394.0</td>\n",
       "      <td>0.015537</td>\n",
       "    </tr>\n",
       "  </tbody>\n",
       "</table>\n",
       "</div>"
      ],
      "text/plain": [
       "      target  Outer Count  Outer Count Perc  Outer Sum  Outer Sum Perc\n",
       "0      False        296.0             0.296  1157252.0        0.356785\n",
       "1       True        693.0             0.693  2035914.0        0.627679\n",
       "2  <Missing>         11.0             0.011    50394.0        0.015537"
      ]
     },
     "execution_count": 17,
     "metadata": {},
     "output_type": "execute_result"
    }
   ],
   "source": [
    "outer_totals = outer_totals[[outer_group_by, 'Outer Count', 'Outer Count Perc', 'Outer Sum', 'Outer Sum Perc']]\n",
    "outer_totals"
   ]
  },
  {
   "cell_type": "code",
   "execution_count": null,
   "id": "45b417e0",
   "metadata": {},
   "outputs": [],
   "source": [
    "inner_totals = data.groupby([outer_group_by, inner_group_by]).apply(f, 'Inner')\n",
    "inner_totals = inner_totals.reset_index(level=1, drop=False)\n",
    "inner_totals = inner_totals.reset_index(level=0, drop=False)\n",
    "inner_totals"
   ]
  },
  {
   "cell_type": "code",
   "execution_count": null,
   "id": "ba94ea6f",
   "metadata": {},
   "outputs": [],
   "source": [
    "final = outer_totals.merge(inner_totals, on=outer_group_by, how='left')\n",
    "final"
   ]
  },
  {
   "cell_type": "code",
   "execution_count": null,
   "id": "5a2aced2",
   "metadata": {},
   "outputs": [],
   "source": [
    "final['Inner Count Perc'] = final['Inner Count'] / final['Outer Count']\n",
    "final['Inner Sum Perc'] = final['Inner Sum'] / final['Outer Sum']\n",
    "final"
   ]
  },
  {
   "cell_type": "code",
   "execution_count": null,
   "id": "d8b662ea",
   "metadata": {},
   "outputs": [],
   "source": [
    "new_column_order = final.columns[0:7].tolist() + [final.columns[8]] + [final.columns[7]] + [final.columns[9]]\n",
    "final = final[new_column_order]"
   ]
  },
  {
   "cell_type": "code",
   "execution_count": null,
   "id": "654ab698",
   "metadata": {},
   "outputs": [],
   "source": [
    "final"
   ]
  },
  {
   "cell_type": "code",
   "execution_count": null,
   "id": "e1de3db2",
   "metadata": {},
   "outputs": [],
   "source": [
    "outer_shifted = final[outer_group_by].shift(1)\n",
    "is_first = final[outer_group_by] != outer_shifted\n",
    "is_first"
   ]
  },
  {
   "cell_type": "code",
   "execution_count": null,
   "id": "7bc3908e",
   "metadata": {},
   "outputs": [],
   "source": [
    "no_style_result = final\n",
    "no_style_result['Outer Count'] = no_style_result['Outer Count'].where(is_first, np.nan)\n",
    "no_style_result['Outer Sum'] = no_style_result['Outer Sum'].where(is_first, np.nan)\n",
    "no_style_result['Outer Count Perc'] = no_style_result['Outer Count Perc'].where(is_first, np.nan)\n",
    "no_style_result['Outer Sum Perc'] = no_style_result['Outer Sum Perc'].where(is_first, np.nan)\n",
    "#final['Outer Sum'] = no_style_result['Outer Sum'].astype(str).where(is_first, '')\n",
    "no_style_result"
   ]
  },
  {
   "cell_type": "code",
   "execution_count": null,
   "id": "5fdd9735",
   "metadata": {},
   "outputs": [],
   "source": [
    "new_columns = pd.MultiIndex.from_tuples([\n",
    "    (outer_group_by, outer_group_by),\n",
    "    (outer_group_by, 'Count'),\n",
    "    (outer_group_by, 'Count Perc'),\n",
    "    (outer_group_by, 'Sum'),\n",
    "    (outer_group_by, 'Sum Perc'),\n",
    "    (inner_group_by, inner_group_by),\n",
    "    (inner_group_by, 'Count'),\n",
    "    (inner_group_by, 'Count Perc'),\n",
    "    (inner_group_by, 'Sum'),\n",
    "    (inner_group_by, 'Sum Perc'),\n",
    "])\n",
    "no_style_result.columns = new_columns\n",
    "no_style_result"
   ]
  },
  {
   "cell_type": "code",
   "execution_count": null,
   "id": "e4ba1785",
   "metadata": {},
   "outputs": [],
   "source": []
  },
  {
   "cell_type": "code",
   "execution_count": null,
   "id": "95855918",
   "metadata": {},
   "outputs": [],
   "source": []
  },
  {
   "cell_type": "code",
   "execution_count": null,
   "id": "341d4927",
   "metadata": {},
   "outputs": [],
   "source": []
  },
  {
   "cell_type": "markdown",
   "id": "c5931966",
   "metadata": {},
   "source": [
    "style:"
   ]
  },
  {
   "cell_type": "code",
   "execution_count": null,
   "id": "4af3a816",
   "metadata": {},
   "outputs": [],
   "source": [
    "style_result = no_style_result\n",
    "style_result[outer_group_by] = style_result[outer_group_by].where(is_first, np.nan)\n",
    "style_result"
   ]
  },
  {
   "cell_type": "code",
   "execution_count": null,
   "id": "b386dc3e",
   "metadata": {},
   "outputs": [],
   "source": []
  },
  {
   "cell_type": "code",
   "execution_count": null,
   "id": "e1ac1514",
   "metadata": {},
   "outputs": [],
   "source": [
    "sum_precision = 1\n",
    "style_result.style.\\\n",
    "    format(subset=idx[:, idx[(outer_group_by, 'target')]], na_rep='').\\\n",
    "    format(subset=idx[:, idx[(outer_group_by, 'Count')]], precision=0, na_rep='').\\\n",
    "    format(subset=idx[:, idx[(outer_group_by, 'Count Perc')]], precision=4, na_rep='', formatter='{:,.2%}'.format).\\\n",
    "    bar(subset=idx[:, idx[(outer_group_by, 'Count Perc')]], vmin=0, vmax=1, color=hlp.color.GRAY).\\\n",
    "    format(subset=idx[:, idx[(outer_group_by, 'Sum')]], precision=sum_precision, na_rep='').\\\n",
    "    format(subset=idx[:, idx[(outer_group_by, 'Sum Perc')]], precision=4, na_rep='', formatter='{:,.2%}'.format).\\\n",
    "    bar(subset=idx[:, idx[(outer_group_by, 'Sum Perc')]], vmin=0, vmax=1, color=hlp.color.GRAY).\\\n",
    "    format(subset=idx[:, idx[(inner_group_by, 'Count')]], precision=0).\\\n",
    "    format(subset=idx[:, idx[(inner_group_by, 'Count Perc')]], precision=4, na_rep='', formatter='{:,.2%}'.format).\\\n",
    "    bar(subset=idx[:, idx[(inner_group_by, 'Count Perc')]], vmin=0, vmax=1, color=hlp.color.GRAY).\\\n",
    "    format(subset=idx[:, idx[(inner_group_by, 'Sum')]], precision=sum_precision).\\\n",
    "    format(subset=idx[:, idx[(inner_group_by, 'Sum Perc')]], precision=4, formatter='{:,.2%}'.format).\\\n",
    "    bar(subset=idx[:, idx[(inner_group_by, 'Sum Perc')]], vmin=0, vmax=1, color=hlp.color.GRAY)"
   ]
  },
  {
   "cell_type": "code",
   "execution_count": null,
   "id": "ffafa9a7",
   "metadata": {},
   "outputs": [],
   "source": []
  },
  {
   "cell_type": "code",
   "execution_count": null,
   "id": "85c50839",
   "metadata": {},
   "outputs": [],
   "source": []
  },
  {
   "cell_type": "code",
   "execution_count": null,
   "id": "65b4d7e9",
   "metadata": {},
   "outputs": [],
   "source": []
  },
  {
   "cell_type": "code",
   "execution_count": null,
   "id": "912f13d2",
   "metadata": {},
   "outputs": [],
   "source": []
  },
  {
   "cell_type": "code",
   "execution_count": null,
   "id": "499cf9af",
   "metadata": {},
   "outputs": [],
   "source": []
  },
  {
   "cell_type": "code",
   "execution_count": null,
   "id": "6558b4bc",
   "metadata": {},
   "outputs": [],
   "source": []
  },
  {
   "cell_type": "code",
   "execution_count": null,
   "id": "a33e58d7",
   "metadata": {},
   "outputs": [],
   "source": []
  },
  {
   "cell_type": "code",
   "execution_count": null,
   "id": "e2e04542",
   "metadata": {},
   "outputs": [],
   "source": []
  },
  {
   "cell_type": "code",
   "execution_count": null,
   "id": "bfaaf104",
   "metadata": {},
   "outputs": [],
   "source": []
  },
  {
   "cell_type": "code",
   "execution_count": null,
   "id": "bfdd0bef",
   "metadata": {},
   "outputs": [],
   "source": []
  },
  {
   "cell_type": "code",
   "execution_count": null,
   "id": "7db52e19",
   "metadata": {},
   "outputs": [],
   "source": []
  },
  {
   "cell_type": "code",
   "execution_count": null,
   "id": "da6f4ccb",
   "metadata": {},
   "outputs": [],
   "source": [
    "sum_precision = 1\n",
    "style_result.style.\\\n",
    "    format(subset=idx[:, idx[('target', 'target')]], na_rep='').\\\n",
    "    format(subset=idx[:, idx[('target', 'Count')]], precision=0, na_rep='').\\\n",
    "    bar(subset=idx[:, idx[('target', 'Count')]], vmin=0, vmax=data.shape[0], color=hlp.color.GRAY).\\\n",
    "    format(subset=idx[:, idx[('target', 'Count Perc')]], precision=4, na_rep='', formatter='{:,.2%}'.format).\\\n",
    "    bar(subset=idx[:, idx[('target', 'Count Perc')]], vmin=0, vmax=1, color=hlp.color.GRAY).\\\n",
    "    format(subset=idx[:, idx[('target', 'Sum')]], precision=sum_precision, na_rep='').\\\n",
    "    bar(subset=idx[:, idx[('target', 'Sum')]], vmin=0, vmax=data[sum_by].sum(), color=hlp.color.GRAY).\\\n",
    "    format(subset=idx[:, idx[('target', 'Sum Perc')]], precision=4, na_rep='', formatter='{:,.2%}'.format).\\\n",
    "    bar(subset=idx[:, idx[('target', 'Sum Perc')]], vmin=0, vmax=1, color=hlp.color.GRAY)"
   ]
  },
  {
   "cell_type": "code",
   "execution_count": null,
   "id": "94320c52",
   "metadata": {},
   "outputs": [],
   "source": []
  },
  {
   "cell_type": "code",
   "execution_count": null,
   "id": "071668a0",
   "metadata": {},
   "outputs": [],
   "source": []
  },
  {
   "cell_type": "code",
   "execution_count": null,
   "id": "a880ef27",
   "metadata": {},
   "outputs": [],
   "source": []
  },
  {
   "cell_type": "code",
   "execution_count": null,
   "id": "ba70a80b",
   "metadata": {},
   "outputs": [],
   "source": []
  },
  {
   "cell_type": "code",
   "execution_count": null,
   "id": "28549e4d",
   "metadata": {},
   "outputs": [],
   "source": []
  },
  {
   "cell_type": "code",
   "execution_count": null,
   "id": "62bb229d",
   "metadata": {},
   "outputs": [],
   "source": []
  },
  {
   "cell_type": "code",
   "execution_count": null,
   "id": "7169d5fb",
   "metadata": {},
   "outputs": [],
   "source": []
  },
  {
   "cell_type": "code",
   "execution_count": null,
   "id": "89916912",
   "metadata": {},
   "outputs": [],
   "source": [
    "final[outer_group_by] = final[outer_group_by].astype(str).where(is_first, '')\n",
    "final['Outer Count'] = final['Outer Count'].astype(str).where(is_first, '')\n",
    "final['Outer Sum'] = final['Outer Sum'].astype(str).where(is_first, '')\n",
    "final"
   ]
  },
  {
   "cell_type": "code",
   "execution_count": null,
   "id": "f979a567",
   "metadata": {},
   "outputs": [],
   "source": [
    "final = final[['target', 'Outer Count', 'checking_status', 'Inner Count', 'Perc', 'Outer Sum', 'Inner Sum', 'Sum']]\n",
    "final"
   ]
  },
  {
   "cell_type": "code",
   "execution_count": null,
   "id": "1ac6ce26",
   "metadata": {},
   "outputs": [],
   "source": [
    "final.style.bar(vmin=0)"
   ]
  },
  {
   "cell_type": "code",
   "execution_count": null,
   "id": "344c81a1",
   "metadata": {},
   "outputs": [],
   "source": []
  },
  {
   "cell_type": "code",
   "execution_count": null,
   "id": "9e0b71bb",
   "metadata": {},
   "outputs": [],
   "source": []
  }
 ],
 "metadata": {
  "kernelspec": {
   "display_name": "Python 3 (ipykernel)",
   "language": "python",
   "name": "python3"
  },
  "language_info": {
   "codemirror_mode": {
    "name": "ipython",
    "version": 3
   },
   "file_extension": ".py",
   "mimetype": "text/x-python",
   "name": "python",
   "nbconvert_exporter": "python",
   "pygments_lexer": "ipython3",
   "version": "3.9.6"
  },
  "toc": {
   "base_numbering": 1,
   "nav_menu": {},
   "number_sections": false,
   "sideBar": true,
   "skip_h1_title": false,
   "title_cell": "Table of Contents",
   "title_sidebar": "Contents",
   "toc_cell": false,
   "toc_position": {},
   "toc_section_display": true,
   "toc_window_display": false
  }
 },
 "nbformat": 4,
 "nbformat_minor": 5
}
