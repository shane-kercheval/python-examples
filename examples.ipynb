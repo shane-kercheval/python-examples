{
 "cells": [
  {
   "cell_type": "markdown",
   "id": "c2375eaf",
   "metadata": {},
   "source": [
    "# Setup"
   ]
  },
  {
   "cell_type": "code",
   "execution_count": 1,
   "id": "17b729cf",
   "metadata": {},
   "outputs": [
    {
     "name": "stdout",
     "output_type": "stream",
     "text": [
      "Python 3.9.5\r\n"
     ]
    }
   ],
   "source": [
    "!python --version"
   ]
  },
  {
   "cell_type": "code",
   "execution_count": 2,
   "id": "3b601992",
   "metadata": {},
   "outputs": [
    {
     "name": "stdout",
     "output_type": "stream",
     "text": [
      "Requirement already satisfied: helpsk in /Users/shanekercheval/opt/anaconda3/envs/python-examples/lib/python3.9/site-packages (0.0.7)\r\n"
     ]
    }
   ],
   "source": [
    "!pip install helpsk --upgrade"
   ]
  },
  {
   "cell_type": "code",
   "execution_count": 3,
   "id": "b186beaf",
   "metadata": {},
   "outputs": [],
   "source": [
    "import pandas as pd\n",
    "import numpy as np\n",
    "from helpsk import string"
   ]
  },
  {
   "cell_type": "markdown",
   "id": "9983ff5a",
   "metadata": {},
   "source": [
    "# `is` vs `==`"
   ]
  },
  {
   "cell_type": "markdown",
   "id": "15ecc270",
   "metadata": {},
   "source": [
    "`==` is an equality test. It checks whether the right hand side and the left hand side are equal objects (according to their __eq__ or __cmp__ methods.)"
   ]
  },
  {
   "cell_type": "markdown",
   "id": "0e06157a",
   "metadata": {},
   "source": [
    "is is an identity test. It checks whether the right hand side and the left hand side are the very same object. No methodcalls are done, objects can't influence the is operation."
   ]
  },
  {
   "cell_type": "markdown",
   "id": "78d95485",
   "metadata": {},
   "source": [
    "You use `is` (and `is not`) for `singletons`, like `None`, where you don't care about objects that might want to pretend to be None or where you want to protect against objects breaking when being compared against None."
   ]
  },
  {
   "cell_type": "markdown",
   "id": "f89bae83",
   "metadata": {},
   "source": [
    "# List & DataFrame Equality"
   ]
  },
  {
   "cell_type": "code",
   "execution_count": 4,
   "id": "8afb5bf8",
   "metadata": {},
   "outputs": [
    {
     "data": {
      "text/plain": [
       "True"
      ]
     },
     "execution_count": 4,
     "metadata": {},
     "output_type": "execute_result"
    }
   ],
   "source": [
    "[1, 2, 3] == [1, 2, 3]"
   ]
  },
  {
   "cell_type": "code",
   "execution_count": 5,
   "id": "69105061",
   "metadata": {},
   "outputs": [
    {
     "data": {
      "text/plain": [
       "False"
      ]
     },
     "execution_count": 5,
     "metadata": {},
     "output_type": "execute_result"
    }
   ],
   "source": [
    "[1, 2, 3] == [1, 2, 3.00001]"
   ]
  },
  {
   "cell_type": "code",
   "execution_count": 6,
   "id": "cd146627",
   "metadata": {},
   "outputs": [
    {
     "data": {
      "text/plain": [
       "True"
      ]
     },
     "execution_count": 6,
     "metadata": {},
     "output_type": "execute_result"
    }
   ],
   "source": [
    "['a', 'b', 'c'] == ['a', 'b', 'c']"
   ]
  },
  {
   "cell_type": "code",
   "execution_count": 7,
   "id": "761c8c0b",
   "metadata": {},
   "outputs": [
    {
     "data": {
      "text/plain": [
       "True"
      ]
     },
     "execution_count": 7,
     "metadata": {},
     "output_type": "execute_result"
    }
   ],
   "source": [
    "['a', 'b', None] == ['a', 'b', None]"
   ]
  },
  {
   "cell_type": "code",
   "execution_count": 8,
   "id": "e14efbcd",
   "metadata": {},
   "outputs": [
    {
     "data": {
      "text/plain": [
       "False"
      ]
     },
     "execution_count": 8,
     "metadata": {},
     "output_type": "execute_result"
    }
   ],
   "source": [
    "['a', 'b', 'c'] == ['a', 'b', None]"
   ]
  },
  {
   "cell_type": "code",
   "execution_count": 9,
   "id": "aef36e72",
   "metadata": {},
   "outputs": [
    {
     "data": {
      "text/plain": [
       "True"
      ]
     },
     "execution_count": 9,
     "metadata": {},
     "output_type": "execute_result"
    }
   ],
   "source": [
    "pd.DataFrame([[1, 2], [2, 3]]).equals(pd.DataFrame([[1, 2], [2, 3]]))"
   ]
  },
  {
   "cell_type": "code",
   "execution_count": 10,
   "id": "0d8a3238",
   "metadata": {},
   "outputs": [
    {
     "data": {
      "text/plain": [
       "False"
      ]
     },
     "execution_count": 10,
     "metadata": {},
     "output_type": "execute_result"
    }
   ],
   "source": [
    "pd.DataFrame([[1, 2], [2, 3]]).equals(pd.DataFrame([[1, 2], [2, 3.001]]))"
   ]
  },
  {
   "cell_type": "code",
   "execution_count": 11,
   "id": "02d49f1f",
   "metadata": {},
   "outputs": [
    {
     "data": {
      "text/plain": [
       "True"
      ]
     },
     "execution_count": 11,
     "metadata": {},
     "output_type": "execute_result"
    }
   ],
   "source": [
    "pd.DataFrame([[1, None], [2, 3.001]]).equals(pd.DataFrame([[1, None], [2, 3.001]]))"
   ]
  },
  {
   "cell_type": "markdown",
   "id": "38a93465",
   "metadata": {},
   "source": [
    "# Checking for Empty Containers"
   ]
  },
  {
   "cell_type": "code",
   "execution_count": 12,
   "id": "5aadbb76",
   "metadata": {},
   "outputs": [
    {
     "data": {
      "text/plain": [
       "True"
      ]
     },
     "execution_count": 12,
     "metadata": {},
     "output_type": "execute_result"
    }
   ],
   "source": [
    "a = []\n",
    "\n",
    "len(a) == 0  # not Pythonic"
   ]
  },
  {
   "cell_type": "code",
   "execution_count": 13,
   "id": "248a5061",
   "metadata": {},
   "outputs": [
    {
     "data": {
      "text/plain": [
       "True"
      ]
     },
     "execution_count": 13,
     "metadata": {},
     "output_type": "execute_result"
    }
   ],
   "source": [
    "not a  # Pythonic"
   ]
  },
  {
   "cell_type": "code",
   "execution_count": 14,
   "id": "0d7bd228",
   "metadata": {},
   "outputs": [
    {
     "name": "stdout",
     "output_type": "stream",
     "text": [
      "Not Pythonic\n",
      "Pythonic\n"
     ]
    }
   ],
   "source": [
    "if len(a) == 0:\n",
    "    print('Not Pythonic')\n",
    "\n",
    "if not a:\n",
    "    print('Pythonic')\n"
   ]
  },
  {
   "cell_type": "code",
   "execution_count": 15,
   "id": "7831583a",
   "metadata": {},
   "outputs": [
    {
     "name": "stdout",
     "output_type": "stream",
     "text": [
      "Not Pythonic\n",
      "Pythonic\n"
     ]
    }
   ],
   "source": [
    "a = ['a']\n",
    "\n",
    "if len(a) != 0:\n",
    "    print('Not Pythonic')\n",
    "\n",
    "if a:\n",
    "    print('Pythonic')"
   ]
  },
  {
   "cell_type": "markdown",
   "id": "9b7a499d",
   "metadata": {},
   "source": [
    "# Multi-lines"
   ]
  },
  {
   "cell_type": "code",
   "execution_count": 16,
   "id": "ce6e7aa4",
   "metadata": {},
   "outputs": [
    {
     "name": "stdout",
     "output_type": "stream",
     "text": [
      "3\n",
      "3\n"
     ]
    }
   ],
   "source": [
    "# not Pythonic\n",
    "a = 1 + \\\n",
    "    2\n",
    "print(a)\n",
    "\n",
    "a = (1 +  # Pythonic\n",
    "     2)\n",
    "print(a)"
   ]
  },
  {
   "cell_type": "markdown",
   "id": "7ad14bd4",
   "metadata": {},
   "source": [
    "# Strings"
   ]
  },
  {
   "cell_type": "markdown",
   "id": "a044cdc5",
   "metadata": {},
   "source": [
    "## Formatting (F-Strings)\n",
    "\n",
    "options: https://docs.python.org/3/library/string.html"
   ]
  },
  {
   "cell_type": "code",
   "execution_count": 202,
   "id": "ed8e224a",
   "metadata": {},
   "outputs": [],
   "source": [
    "my_variable = \"Some value\"\n",
    "another_variable = 987654321.123456789"
   ]
  },
  {
   "cell_type": "code",
   "execution_count": 204,
   "id": "e3eb8aca",
   "metadata": {},
   "outputs": [
    {
     "data": {
      "text/plain": [
       "\"The value of 'Some value          ' is 987654321.1234568. {Also, here's how to espace the bracks.}\""
      ]
     },
     "execution_count": 204,
     "metadata": {},
     "output_type": "execute_result"
    }
   ],
   "source": [
    "f\"The value of '{my_variable:<20}' is {another_variable}. {{Also, here's how to espace the bracks.}}\""
   ]
  },
  {
   "cell_type": "code",
   "execution_count": 221,
   "id": "7eebe8f2",
   "metadata": {},
   "outputs": [
    {
     "data": {
      "text/plain": [
       "\"The value of 'Some value' is 987,654,321.12346. {Also, here's how to espace the bracks.}\""
      ]
     },
     "execution_count": 221,
     "metadata": {},
     "output_type": "execute_result"
    }
   ],
   "source": [
    "f\"The value of '{my_variable}' is {another_variable:,.5f}. {{Also, here's how to espace the bracks.}}\""
   ]
  },
  {
   "cell_type": "markdown",
   "id": "ab8a8059",
   "metadata": {},
   "source": [
    "# Classes"
   ]
  },
  {
   "cell_type": "markdown",
   "id": "6e551fd7",
   "metadata": {},
   "source": [
    "## Private vs Protected"
   ]
  },
  {
   "cell_type": "code",
   "execution_count": 17,
   "id": "4b8eba20",
   "metadata": {},
   "outputs": [],
   "source": [
    "class Example:\n",
    "    def __init__(self):\n",
    "        self.__private_variable = 'private'\n",
    "        self._protected_variable = 'protected'\n",
    "    \n",
    "    def instance_method(self):\n",
    "        return 'instance method ' + self.__private_variable + self._protected_variable\n",
    "    \n",
    "    @staticmethod\n",
    "    def static_method(x):\n",
    "        return 'static method ' + x\n",
    "    \n",
    "    @classmethod\n",
    "    def class_method(cls, x):\n",
    "        return 'class method ' + x"
   ]
  },
  {
   "cell_type": "code",
   "execution_count": 18,
   "id": "54256299",
   "metadata": {},
   "outputs": [
    {
     "data": {
      "text/plain": [
       "'protected'"
      ]
     },
     "execution_count": 18,
     "metadata": {},
     "output_type": "execute_result"
    }
   ],
   "source": [
    "ex = Example()\n",
    "ex._protected_variable"
   ]
  },
  {
   "cell_type": "code",
   "execution_count": 19,
   "id": "d07f5a2d",
   "metadata": {},
   "outputs": [
    {
     "name": "stdout",
     "output_type": "stream",
     "text": [
      "'Example' object has no attribute '__private_variable'\n"
     ]
    }
   ],
   "source": [
    "try:\n",
    "  print(ex.__private_variable)\n",
    "except Exception as e:\n",
    "  print(e)"
   ]
  },
  {
   "cell_type": "code",
   "execution_count": 20,
   "id": "23078c86",
   "metadata": {},
   "outputs": [
    {
     "data": {
      "text/plain": [
       "'private'"
      ]
     },
     "execution_count": 20,
     "metadata": {},
     "output_type": "execute_result"
    }
   ],
   "source": [
    "ex._Example__private_variable"
   ]
  },
  {
   "cell_type": "code",
   "execution_count": 21,
   "id": "9726af9f",
   "metadata": {},
   "outputs": [
    {
     "data": {
      "text/plain": [
       "'instance method privateprotected'"
      ]
     },
     "execution_count": 21,
     "metadata": {},
     "output_type": "execute_result"
    }
   ],
   "source": [
    "ex.instance_method()"
   ]
  },
  {
   "cell_type": "code",
   "execution_count": 22,
   "id": "8fae01f6",
   "metadata": {},
   "outputs": [
    {
     "data": {
      "text/plain": [
       "'static method a'"
      ]
     },
     "execution_count": 22,
     "metadata": {},
     "output_type": "execute_result"
    }
   ],
   "source": [
    "ex.static_method('a')  # not sure how this is useful"
   ]
  },
  {
   "cell_type": "code",
   "execution_count": 23,
   "id": "567df0ff",
   "metadata": {},
   "outputs": [
    {
     "data": {
      "text/plain": [
       "'class method a'"
      ]
     },
     "execution_count": 23,
     "metadata": {},
     "output_type": "execute_result"
    }
   ],
   "source": [
    "Example.class_method('a')  # no instance"
   ]
  },
  {
   "cell_type": "markdown",
   "id": "a6b66631",
   "metadata": {},
   "source": [
    "## Getters / Setters"
   ]
  },
  {
   "cell_type": "code",
   "execution_count": 24,
   "id": "58ea6ca7",
   "metadata": {},
   "outputs": [],
   "source": [
    "class ExampleClass:\n",
    "\n",
    "    def __init__(self, my_variable=0):\n",
    "        self._my_variable = my_variable\n",
    "\n",
    "    @property\n",
    "    def my_variable(self):\n",
    "        \"\"\"I'm the 'my_variable' property.\"\"\"\n",
    "        print(\"getter of my_variable called\")\n",
    "        return self._my_variable\n",
    "\n",
    "    @my_variable.setter\n",
    "    def my_variable(self, value):\n",
    "        print(\"setter of my_variable called\")\n",
    "        self._my_variable = value"
   ]
  },
  {
   "cell_type": "code",
   "execution_count": 25,
   "id": "068d2a06",
   "metadata": {},
   "outputs": [
    {
     "name": "stdout",
     "output_type": "stream",
     "text": [
      "getter of my_variable called\n"
     ]
    },
    {
     "data": {
      "text/plain": [
       "True"
      ]
     },
     "execution_count": 25,
     "metadata": {},
     "output_type": "execute_result"
    }
   ],
   "source": [
    "example = ExampleClass()\n",
    "example.my_variable == 0"
   ]
  },
  {
   "cell_type": "code",
   "execution_count": 26,
   "id": "64d3ee34",
   "metadata": {},
   "outputs": [
    {
     "name": "stdout",
     "output_type": "stream",
     "text": [
      "setter of my_variable called\n"
     ]
    }
   ],
   "source": [
    "example.my_variable = 0"
   ]
  },
  {
   "cell_type": "markdown",
   "id": "6ae6d8be",
   "metadata": {},
   "source": [
    "# Pandas"
   ]
  },
  {
   "cell_type": "code",
   "execution_count": 27,
   "id": "8a6e75a9",
   "metadata": {},
   "outputs": [],
   "source": [
    "import numpy as np\n",
    "import pandas as pd\n",
    "\n",
    "dates = pd.date_range(\"20210809\", periods=6)\n",
    "df = pd.DataFrame(np.random.randn(6, 4),\n",
    "                  index=dates,\n",
    "                  columns=list(\"ABCD\"))"
   ]
  },
  {
   "cell_type": "code",
   "execution_count": 28,
   "id": "b6fbccb1",
   "metadata": {},
   "outputs": [
    {
     "data": {
      "text/plain": [
       "DatetimeIndex(['2021-08-09', '2021-08-10', '2021-08-11', '2021-08-12',\n",
       "               '2021-08-13', '2021-08-14'],\n",
       "              dtype='datetime64[ns]', freq='D')"
      ]
     },
     "execution_count": 28,
     "metadata": {},
     "output_type": "execute_result"
    }
   ],
   "source": [
    "dates"
   ]
  },
  {
   "cell_type": "code",
   "execution_count": 29,
   "id": "af0070db",
   "metadata": {},
   "outputs": [
    {
     "data": {
      "text/html": [
       "<div>\n",
       "<style scoped>\n",
       "    .dataframe tbody tr th:only-of-type {\n",
       "        vertical-align: middle;\n",
       "    }\n",
       "\n",
       "    .dataframe tbody tr th {\n",
       "        vertical-align: top;\n",
       "    }\n",
       "\n",
       "    .dataframe thead th {\n",
       "        text-align: right;\n",
       "    }\n",
       "</style>\n",
       "<table border=\"1\" class=\"dataframe\">\n",
       "  <thead>\n",
       "    <tr style=\"text-align: right;\">\n",
       "      <th></th>\n",
       "      <th>A</th>\n",
       "      <th>B</th>\n",
       "      <th>C</th>\n",
       "      <th>D</th>\n",
       "    </tr>\n",
       "  </thead>\n",
       "  <tbody>\n",
       "    <tr>\n",
       "      <th>2021-08-09</th>\n",
       "      <td>-0.172463</td>\n",
       "      <td>0.837738</td>\n",
       "      <td>-0.363259</td>\n",
       "      <td>-0.178903</td>\n",
       "    </tr>\n",
       "    <tr>\n",
       "      <th>2021-08-10</th>\n",
       "      <td>0.337003</td>\n",
       "      <td>0.312294</td>\n",
       "      <td>1.178289</td>\n",
       "      <td>1.859434</td>\n",
       "    </tr>\n",
       "    <tr>\n",
       "      <th>2021-08-11</th>\n",
       "      <td>-0.338736</td>\n",
       "      <td>-0.350792</td>\n",
       "      <td>0.628887</td>\n",
       "      <td>-0.671186</td>\n",
       "    </tr>\n",
       "    <tr>\n",
       "      <th>2021-08-12</th>\n",
       "      <td>2.031639</td>\n",
       "      <td>0.798231</td>\n",
       "      <td>0.807028</td>\n",
       "      <td>-1.399698</td>\n",
       "    </tr>\n",
       "    <tr>\n",
       "      <th>2021-08-13</th>\n",
       "      <td>-0.183317</td>\n",
       "      <td>-1.488023</td>\n",
       "      <td>-0.029879</td>\n",
       "      <td>1.134928</td>\n",
       "    </tr>\n",
       "    <tr>\n",
       "      <th>2021-08-14</th>\n",
       "      <td>-0.206648</td>\n",
       "      <td>-0.766554</td>\n",
       "      <td>0.242564</td>\n",
       "      <td>-0.755466</td>\n",
       "    </tr>\n",
       "  </tbody>\n",
       "</table>\n",
       "</div>"
      ],
      "text/plain": [
       "                   A         B         C         D\n",
       "2021-08-09 -0.172463  0.837738 -0.363259 -0.178903\n",
       "2021-08-10  0.337003  0.312294  1.178289  1.859434\n",
       "2021-08-11 -0.338736 -0.350792  0.628887 -0.671186\n",
       "2021-08-12  2.031639  0.798231  0.807028 -1.399698\n",
       "2021-08-13 -0.183317 -1.488023 -0.029879  1.134928\n",
       "2021-08-14 -0.206648 -0.766554  0.242564 -0.755466"
      ]
     },
     "execution_count": 29,
     "metadata": {},
     "output_type": "execute_result"
    }
   ],
   "source": [
    "df"
   ]
  },
  {
   "cell_type": "markdown",
   "id": "c67f8fe0",
   "metadata": {},
   "source": [
    "## Copy by Reference"
   ]
  },
  {
   "cell_type": "code",
   "execution_count": 30,
   "id": "0562359d",
   "metadata": {},
   "outputs": [],
   "source": [
    "df_2 = df"
   ]
  },
  {
   "cell_type": "code",
   "execution_count": 31,
   "id": "7e1eba5d",
   "metadata": {},
   "outputs": [],
   "source": [
    "df.iat[0, 0] = np.nan"
   ]
  },
  {
   "cell_type": "code",
   "execution_count": 32,
   "id": "ed0223ad",
   "metadata": {},
   "outputs": [
    {
     "data": {
      "text/plain": [
       "A         NaN\n",
       "B    0.837738\n",
       "C   -0.363259\n",
       "D   -0.178903\n",
       "Name: 2021-08-09 00:00:00, dtype: float64"
      ]
     },
     "execution_count": 32,
     "metadata": {},
     "output_type": "execute_result"
    }
   ],
   "source": [
    "df.iloc[0, :]"
   ]
  },
  {
   "cell_type": "code",
   "execution_count": 33,
   "id": "477640e1",
   "metadata": {},
   "outputs": [
    {
     "data": {
      "text/plain": [
       "A         NaN\n",
       "B    0.837738\n",
       "C   -0.363259\n",
       "D   -0.178903\n",
       "Name: 2021-08-09 00:00:00, dtype: float64"
      ]
     },
     "execution_count": 33,
     "metadata": {},
     "output_type": "execute_result"
    }
   ],
   "source": [
    "df_2.iloc[0, :]"
   ]
  },
  {
   "cell_type": "markdown",
   "id": "a61e3eea",
   "metadata": {},
   "source": [
    "### Use `.copy()` for deep copy"
   ]
  },
  {
   "cell_type": "code",
   "execution_count": 34,
   "id": "8670ddfc",
   "metadata": {},
   "outputs": [],
   "source": [
    "df_2 = df.copy()"
   ]
  },
  {
   "cell_type": "code",
   "execution_count": 35,
   "id": "fd84a2ef",
   "metadata": {},
   "outputs": [],
   "source": [
    "df.iat[0, 1] = np.nan"
   ]
  },
  {
   "cell_type": "code",
   "execution_count": 36,
   "id": "32a43c28",
   "metadata": {},
   "outputs": [
    {
     "data": {
      "text/plain": [
       "A         NaN\n",
       "B         NaN\n",
       "C   -0.363259\n",
       "D   -0.178903\n",
       "Name: 2021-08-09 00:00:00, dtype: float64"
      ]
     },
     "execution_count": 36,
     "metadata": {},
     "output_type": "execute_result"
    }
   ],
   "source": [
    "df.iloc[0, :]"
   ]
  },
  {
   "cell_type": "code",
   "execution_count": 37,
   "id": "86a23681",
   "metadata": {},
   "outputs": [
    {
     "data": {
      "text/plain": [
       "A         NaN\n",
       "B    0.837738\n",
       "C   -0.363259\n",
       "D   -0.178903\n",
       "Name: 2021-08-09 00:00:00, dtype: float64"
      ]
     },
     "execution_count": 37,
     "metadata": {},
     "output_type": "execute_result"
    }
   ],
   "source": [
    "df_2.iloc[0, :]"
   ]
  },
  {
   "cell_type": "markdown",
   "id": "8c6acc10",
   "metadata": {},
   "source": [
    "## Selection"
   ]
  },
  {
   "cell_type": "code",
   "execution_count": 38,
   "id": "841c5f51",
   "metadata": {},
   "outputs": [
    {
     "data": {
      "text/plain": [
       "2021-08-09         NaN\n",
       "2021-08-10    0.337003\n",
       "2021-08-11   -0.338736\n",
       "2021-08-12    2.031639\n",
       "2021-08-13   -0.183317\n",
       "2021-08-14   -0.206648\n",
       "Freq: D, Name: A, dtype: float64"
      ]
     },
     "execution_count": 38,
     "metadata": {},
     "output_type": "execute_result"
    }
   ],
   "source": [
    "df.A"
   ]
  },
  {
   "cell_type": "code",
   "execution_count": 39,
   "id": "3fb6e6e4",
   "metadata": {},
   "outputs": [
    {
     "data": {
      "text/plain": [
       "2021-08-09         NaN\n",
       "2021-08-10    0.337003\n",
       "2021-08-11   -0.338736\n",
       "2021-08-12    2.031639\n",
       "2021-08-13   -0.183317\n",
       "2021-08-14   -0.206648\n",
       "Freq: D, Name: A, dtype: float64"
      ]
     },
     "execution_count": 39,
     "metadata": {},
     "output_type": "execute_result"
    }
   ],
   "source": [
    "df['A']  # all rows of single column"
   ]
  },
  {
   "cell_type": "code",
   "execution_count": 40,
   "id": "5c135388",
   "metadata": {},
   "outputs": [
    {
     "data": {
      "text/html": [
       "<div>\n",
       "<style scoped>\n",
       "    .dataframe tbody tr th:only-of-type {\n",
       "        vertical-align: middle;\n",
       "    }\n",
       "\n",
       "    .dataframe tbody tr th {\n",
       "        vertical-align: top;\n",
       "    }\n",
       "\n",
       "    .dataframe thead th {\n",
       "        text-align: right;\n",
       "    }\n",
       "</style>\n",
       "<table border=\"1\" class=\"dataframe\">\n",
       "  <thead>\n",
       "    <tr style=\"text-align: right;\">\n",
       "      <th></th>\n",
       "      <th>A</th>\n",
       "      <th>B</th>\n",
       "      <th>C</th>\n",
       "      <th>D</th>\n",
       "    </tr>\n",
       "  </thead>\n",
       "  <tbody>\n",
       "    <tr>\n",
       "      <th>2021-08-09</th>\n",
       "      <td>NaN</td>\n",
       "      <td>NaN</td>\n",
       "      <td>-0.363259</td>\n",
       "      <td>-0.178903</td>\n",
       "    </tr>\n",
       "  </tbody>\n",
       "</table>\n",
       "</div>"
      ],
      "text/plain": [
       "             A   B         C         D\n",
       "2021-08-09 NaN NaN -0.363259 -0.178903"
      ]
     },
     "execution_count": 40,
     "metadata": {},
     "output_type": "execute_result"
    }
   ],
   "source": [
    "df[0:1]  # slices rows; excludes last index"
   ]
  },
  {
   "cell_type": "code",
   "execution_count": 41,
   "id": "9b623d7a",
   "metadata": {},
   "outputs": [
    {
     "data": {
      "text/html": [
       "<div>\n",
       "<style scoped>\n",
       "    .dataframe tbody tr th:only-of-type {\n",
       "        vertical-align: middle;\n",
       "    }\n",
       "\n",
       "    .dataframe tbody tr th {\n",
       "        vertical-align: top;\n",
       "    }\n",
       "\n",
       "    .dataframe thead th {\n",
       "        text-align: right;\n",
       "    }\n",
       "</style>\n",
       "<table border=\"1\" class=\"dataframe\">\n",
       "  <thead>\n",
       "    <tr style=\"text-align: right;\">\n",
       "      <th></th>\n",
       "      <th>A</th>\n",
       "    </tr>\n",
       "  </thead>\n",
       "  <tbody>\n",
       "    <tr>\n",
       "      <th>2021-08-09</th>\n",
       "      <td>NaN</td>\n",
       "    </tr>\n",
       "    <tr>\n",
       "      <th>2021-08-10</th>\n",
       "      <td>0.337003</td>\n",
       "    </tr>\n",
       "    <tr>\n",
       "      <th>2021-08-11</th>\n",
       "      <td>-0.338736</td>\n",
       "    </tr>\n",
       "    <tr>\n",
       "      <th>2021-08-12</th>\n",
       "      <td>2.031639</td>\n",
       "    </tr>\n",
       "    <tr>\n",
       "      <th>2021-08-13</th>\n",
       "      <td>-0.183317</td>\n",
       "    </tr>\n",
       "    <tr>\n",
       "      <th>2021-08-14</th>\n",
       "      <td>-0.206648</td>\n",
       "    </tr>\n",
       "  </tbody>\n",
       "</table>\n",
       "</div>"
      ],
      "text/plain": [
       "                   A\n",
       "2021-08-09       NaN\n",
       "2021-08-10  0.337003\n",
       "2021-08-11 -0.338736\n",
       "2021-08-12  2.031639\n",
       "2021-08-13 -0.183317\n",
       "2021-08-14 -0.206648"
      ]
     },
     "execution_count": 41,
     "metadata": {},
     "output_type": "execute_result"
    }
   ],
   "source": [
    "df[['A']]"
   ]
  },
  {
   "cell_type": "markdown",
   "id": "a5135d95",
   "metadata": {},
   "source": [
    "If passing a single value to `.loc`, a Series is returned; if passing a list to `.loc` a DataFrame is returned"
   ]
  },
  {
   "cell_type": "code",
   "execution_count": 42,
   "id": "56e00d9c",
   "metadata": {},
   "outputs": [
    {
     "data": {
      "text/plain": [
       "A         NaN\n",
       "B         NaN\n",
       "C   -0.363259\n",
       "D   -0.178903\n",
       "Name: 2021-08-09 00:00:00, dtype: float64"
      ]
     },
     "execution_count": 42,
     "metadata": {},
     "output_type": "execute_result"
    }
   ],
   "source": [
    "df.loc[pd.to_datetime('2021-08-09')]"
   ]
  },
  {
   "cell_type": "code",
   "execution_count": 43,
   "id": "4f465b6c",
   "metadata": {},
   "outputs": [
    {
     "data": {
      "text/html": [
       "<div>\n",
       "<style scoped>\n",
       "    .dataframe tbody tr th:only-of-type {\n",
       "        vertical-align: middle;\n",
       "    }\n",
       "\n",
       "    .dataframe tbody tr th {\n",
       "        vertical-align: top;\n",
       "    }\n",
       "\n",
       "    .dataframe thead th {\n",
       "        text-align: right;\n",
       "    }\n",
       "</style>\n",
       "<table border=\"1\" class=\"dataframe\">\n",
       "  <thead>\n",
       "    <tr style=\"text-align: right;\">\n",
       "      <th></th>\n",
       "      <th>A</th>\n",
       "      <th>B</th>\n",
       "      <th>C</th>\n",
       "      <th>D</th>\n",
       "    </tr>\n",
       "  </thead>\n",
       "  <tbody>\n",
       "    <tr>\n",
       "      <th>2021-08-09</th>\n",
       "      <td>NaN</td>\n",
       "      <td>NaN</td>\n",
       "      <td>-0.363259</td>\n",
       "      <td>-0.178903</td>\n",
       "    </tr>\n",
       "  </tbody>\n",
       "</table>\n",
       "</div>"
      ],
      "text/plain": [
       "             A   B         C         D\n",
       "2021-08-09 NaN NaN -0.363259 -0.178903"
      ]
     },
     "execution_count": 43,
     "metadata": {},
     "output_type": "execute_result"
    }
   ],
   "source": [
    "df.loc[[pd.to_datetime('2021-08-09')]]"
   ]
  },
  {
   "cell_type": "code",
   "execution_count": 44,
   "id": "9cc87475",
   "metadata": {},
   "outputs": [
    {
     "data": {
      "text/html": [
       "<div>\n",
       "<style scoped>\n",
       "    .dataframe tbody tr th:only-of-type {\n",
       "        vertical-align: middle;\n",
       "    }\n",
       "\n",
       "    .dataframe tbody tr th {\n",
       "        vertical-align: top;\n",
       "    }\n",
       "\n",
       "    .dataframe thead th {\n",
       "        text-align: right;\n",
       "    }\n",
       "</style>\n",
       "<table border=\"1\" class=\"dataframe\">\n",
       "  <thead>\n",
       "    <tr style=\"text-align: right;\">\n",
       "      <th></th>\n",
       "      <th>A</th>\n",
       "      <th>B</th>\n",
       "      <th>C</th>\n",
       "      <th>D</th>\n",
       "    </tr>\n",
       "  </thead>\n",
       "  <tbody>\n",
       "    <tr>\n",
       "      <th>2021-08-09</th>\n",
       "      <td>NaN</td>\n",
       "      <td>NaN</td>\n",
       "      <td>-0.363259</td>\n",
       "      <td>-0.178903</td>\n",
       "    </tr>\n",
       "    <tr>\n",
       "      <th>2021-08-10</th>\n",
       "      <td>0.337003</td>\n",
       "      <td>0.312294</td>\n",
       "      <td>1.178289</td>\n",
       "      <td>1.859434</td>\n",
       "    </tr>\n",
       "  </tbody>\n",
       "</table>\n",
       "</div>"
      ],
      "text/plain": [
       "                   A         B         C         D\n",
       "2021-08-09       NaN       NaN -0.363259 -0.178903\n",
       "2021-08-10  0.337003  0.312294  1.178289  1.859434"
      ]
     },
     "execution_count": 44,
     "metadata": {},
     "output_type": "execute_result"
    }
   ],
   "source": [
    "df.loc[[pd.to_datetime('2021-08-09'), pd.to_datetime('2021-08-10')]]"
   ]
  },
  {
   "cell_type": "markdown",
   "id": "152c5955",
   "metadata": {},
   "source": [
    "### `at` vs `loc`"
   ]
  },
  {
   "cell_type": "markdown",
   "id": "0cec13b8",
   "metadata": {},
   "source": [
    "- `df.at` is faster\n",
    "- `df.at` can only access a single value at a time.\n",
    "- `df.loc` can select multiple rows and/or columns.\n",
    "\n",
    "\n",
    "https://stackoverflow.com/questions/37216485/pandas-at-versus-loc"
   ]
  },
  {
   "cell_type": "markdown",
   "id": "063aba6f",
   "metadata": {},
   "source": [
    "## Get\n",
    "\n",
    "method that allows you to index on a collection and return default value if the index is out of range"
   ]
  },
  {
   "cell_type": "markdown",
   "id": "e89d41c0",
   "metadata": {},
   "source": [
    "### Dictionary"
   ]
  },
  {
   "cell_type": "code",
   "execution_count": 45,
   "id": "fa6e9b6e",
   "metadata": {},
   "outputs": [
    {
     "data": {
      "text/plain": [
       "True"
      ]
     },
     "execution_count": 45,
     "metadata": {},
     "output_type": "execute_result"
    }
   ],
   "source": [
    "{'a': 1, 'b': 2}.get('c') is None"
   ]
  },
  {
   "cell_type": "code",
   "execution_count": 46,
   "id": "ff887955",
   "metadata": {},
   "outputs": [
    {
     "data": {
      "text/plain": [
       "0"
      ]
     },
     "execution_count": 46,
     "metadata": {},
     "output_type": "execute_result"
    }
   ],
   "source": [
    "{'a': 1, 'b': 2}.get('c', 0)"
   ]
  },
  {
   "cell_type": "code",
   "execution_count": 47,
   "id": "a4d3c8b7",
   "metadata": {},
   "outputs": [
    {
     "data": {
      "text/plain": [
       "True"
      ]
     },
     "execution_count": 47,
     "metadata": {},
     "output_type": "execute_result"
    }
   ],
   "source": [
    "# ['c'] raises KeyError\n",
    "from helpsk import validation\n",
    "validation.raises_exception(lambda: {'a': 1, 'b': 2}['c'], KeyError)"
   ]
  },
  {
   "cell_type": "markdown",
   "id": "faba9836",
   "metadata": {},
   "source": [
    "### Series"
   ]
  },
  {
   "cell_type": "code",
   "execution_count": 48,
   "id": "dcf3d62a",
   "metadata": {},
   "outputs": [
    {
     "data": {
      "text/plain": [
       "Timestamp('2021-08-09 00:00:00', freq='D')"
      ]
     },
     "execution_count": 48,
     "metadata": {},
     "output_type": "execute_result"
    }
   ],
   "source": [
    "dates[0]"
   ]
  },
  {
   "cell_type": "code",
   "execution_count": 49,
   "id": "fa829f67",
   "metadata": {},
   "outputs": [
    {
     "data": {
      "text/plain": [
       "-0.1789031516091203"
      ]
     },
     "execution_count": 49,
     "metadata": {},
     "output_type": "execute_result"
    }
   ],
   "source": [
    "df.D.get(dates[0])"
   ]
  },
  {
   "cell_type": "code",
   "execution_count": 50,
   "id": "e4f2647c",
   "metadata": {},
   "outputs": [
    {
     "data": {
      "text/plain": [
       "True"
      ]
     },
     "execution_count": 50,
     "metadata": {},
     "output_type": "execute_result"
    }
   ],
   "source": [
    "df.D.get(pd.date_range('2021-01-01', periods=1)[0]) is None"
   ]
  },
  {
   "cell_type": "code",
   "execution_count": 51,
   "id": "5d28703e",
   "metadata": {},
   "outputs": [
    {
     "data": {
      "text/plain": [
       "nan"
      ]
     },
     "execution_count": 51,
     "metadata": {},
     "output_type": "execute_result"
    }
   ],
   "source": [
    "df.D.get(pd.date_range('2021-01-01', periods=1)[0], np.NaN)"
   ]
  },
  {
   "cell_type": "markdown",
   "id": "76b4c5ef",
   "metadata": {},
   "source": [
    "## Vectorized Operations - Automatic Alignment\n",
    "\n",
    "A key difference between Series and ndarray is that operations between Series automatically align the data based on label. Thus, you can write computations without giving consideration to whether the Series involved have the same labels.\n",
    "\n",
    "https://pandas.pydata.org/pandas-docs/stable/user_guide/dsintro.html#vectorized-operations-and-label-alignment-with-series"
   ]
  },
  {
   "cell_type": "code",
   "execution_count": 52,
   "id": "26d1d88b",
   "metadata": {},
   "outputs": [
    {
     "data": {
      "text/plain": [
       "A    11\n",
       "B    22\n",
       "C    33\n",
       "D    44\n",
       "E    55\n",
       "dtype: int64"
      ]
     },
     "execution_count": 52,
     "metadata": {},
     "output_type": "execute_result"
    }
   ],
   "source": [
    "s1 = pd.Series([1, 2, 3, 4, 5], index=['A', 'B', 'C', 'D', 'E'])\n",
    "s2 = pd.Series([10, 20, 30, 40, 50], index=['A', 'B', 'C', 'D', 'E'])\n",
    "\n",
    "s1 + s2"
   ]
  },
  {
   "cell_type": "code",
   "execution_count": 53,
   "id": "d46f38a7",
   "metadata": {},
   "outputs": [
    {
     "name": "stdout",
     "output_type": "stream",
     "text": [
      "E    5\n",
      "D    4\n",
      "C    3\n",
      "B    2\n",
      "A    1\n",
      "dtype: int64\n"
     ]
    },
    {
     "data": {
      "text/plain": [
       "A    11\n",
       "B    22\n",
       "C    33\n",
       "D    44\n",
       "E    55\n",
       "dtype: int64"
      ]
     },
     "execution_count": 53,
     "metadata": {},
     "output_type": "execute_result"
    }
   ],
   "source": [
    "print(s1.iloc[[4, 3, 2, 1, 0]])\n",
    "s1.iloc[[4, 3, 2, 1, 0]] + s2"
   ]
  },
  {
   "cell_type": "markdown",
   "id": "1af61939",
   "metadata": {},
   "source": [
    "The result of an operation between unaligned Series will have the union of the indexes involved. If a label is not found in one Series or the other, the result will be marked as missing NaN. "
   ]
  },
  {
   "cell_type": "code",
   "execution_count": 54,
   "id": "4177f49d",
   "metadata": {},
   "outputs": [
    {
     "data": {
      "text/plain": [
       "A     NaN\n",
       "B     NaN\n",
       "C    33.0\n",
       "D    44.0\n",
       "E     NaN\n",
       "dtype: float64"
      ]
     },
     "execution_count": 54,
     "metadata": {},
     "output_type": "execute_result"
    }
   ],
   "source": [
    "s1.iloc[[2, 3, 4]] + s2.iloc[[0, 1, 2, 3]]"
   ]
  },
  {
   "cell_type": "markdown",
   "id": "85d98954",
   "metadata": {},
   "source": [
    "## Applying Functions\n",
    "\n",
    "https://pandas.pydata.org/pandas-docs/stable/user_guide/basics.html#function-application"
   ]
  },
  {
   "cell_type": "markdown",
   "id": "5915ea6e",
   "metadata": {},
   "source": [
    "### Tablewise function application - Chaining Function Calls with `pipe()`"
   ]
  },
  {
   "cell_type": "code",
   "execution_count": 55,
   "id": "b2c58415",
   "metadata": {},
   "outputs": [
    {
     "data": {
      "text/html": [
       "<div>\n",
       "<style scoped>\n",
       "    .dataframe tbody tr th:only-of-type {\n",
       "        vertical-align: middle;\n",
       "    }\n",
       "\n",
       "    .dataframe tbody tr th {\n",
       "        vertical-align: top;\n",
       "    }\n",
       "\n",
       "    .dataframe thead th {\n",
       "        text-align: right;\n",
       "    }\n",
       "</style>\n",
       "<table border=\"1\" class=\"dataframe\">\n",
       "  <thead>\n",
       "    <tr style=\"text-align: right;\">\n",
       "      <th></th>\n",
       "      <th>city_and_code</th>\n",
       "    </tr>\n",
       "  </thead>\n",
       "  <tbody>\n",
       "    <tr>\n",
       "      <th>0</th>\n",
       "      <td>Chicago, IL</td>\n",
       "    </tr>\n",
       "    <tr>\n",
       "      <th>1</th>\n",
       "      <td>Seattle, WA</td>\n",
       "    </tr>\n",
       "  </tbody>\n",
       "</table>\n",
       "</div>"
      ],
      "text/plain": [
       "  city_and_code\n",
       "0   Chicago, IL\n",
       "1   Seattle, WA"
      ]
     },
     "execution_count": 55,
     "metadata": {},
     "output_type": "execute_result"
    }
   ],
   "source": [
    "df_p = pd.DataFrame({\"city_and_code\": [\"Chicago, IL\", \"Seattle, WA\"]})\n",
    "df_p"
   ]
  },
  {
   "cell_type": "code",
   "execution_count": 56,
   "id": "685badc0",
   "metadata": {},
   "outputs": [
    {
     "data": {
      "text/plain": [
       "0    [Chicago,  IL]\n",
       "1    [Seattle,  WA]\n",
       "Name: city_and_code, dtype: object"
      ]
     },
     "execution_count": 56,
     "metadata": {},
     "output_type": "execute_result"
    }
   ],
   "source": [
    "df_p[\"city_and_code\"].str.split(\",\")"
   ]
  },
  {
   "cell_type": "code",
   "execution_count": 57,
   "id": "f84faa5e",
   "metadata": {},
   "outputs": [
    {
     "data": {
      "text/plain": [
       "0     IL\n",
       "1     WA\n",
       "Name: city_and_code, dtype: object"
      ]
     },
     "execution_count": 57,
     "metadata": {},
     "output_type": "execute_result"
    }
   ],
   "source": [
    "df_p[\"city_and_code\"].str.split(\",\").str.get(1)"
   ]
  },
  {
   "cell_type": "code",
   "execution_count": 58,
   "id": "cb47d8ff",
   "metadata": {},
   "outputs": [],
   "source": [
    "def extract_city_name(df):\n",
    "    \"\"\"\n",
    "    Chicago, IL -> Chicago for city_name column\n",
    "    \"\"\"\n",
    "    df[\"city_name\"] = df[\"city_and_code\"].str.split(\",\").str.get(0)\n",
    "    return df\n",
    "\n",
    "def add_country_name(df, country_name=None):\n",
    "    \"\"\"\n",
    "    Chicago -> Chicago-US for city_name column\n",
    "    \"\"\"\n",
    "    col = \"city_name\"\n",
    "    df[\"city_and_country\"] = df[col] + country_name\n",
    "    return df"
   ]
  },
  {
   "cell_type": "code",
   "execution_count": null,
   "id": "19a8ee66",
   "metadata": {},
   "outputs": [],
   "source": []
  },
  {
   "cell_type": "code",
   "execution_count": 59,
   "id": "c2c0a635",
   "metadata": {},
   "outputs": [
    {
     "data": {
      "text/html": [
       "<div>\n",
       "<style scoped>\n",
       "    .dataframe tbody tr th:only-of-type {\n",
       "        vertical-align: middle;\n",
       "    }\n",
       "\n",
       "    .dataframe tbody tr th {\n",
       "        vertical-align: top;\n",
       "    }\n",
       "\n",
       "    .dataframe thead th {\n",
       "        text-align: right;\n",
       "    }\n",
       "</style>\n",
       "<table border=\"1\" class=\"dataframe\">\n",
       "  <thead>\n",
       "    <tr style=\"text-align: right;\">\n",
       "      <th></th>\n",
       "      <th>city_and_code</th>\n",
       "      <th>city_name</th>\n",
       "      <th>city_and_country</th>\n",
       "    </tr>\n",
       "  </thead>\n",
       "  <tbody>\n",
       "    <tr>\n",
       "      <th>0</th>\n",
       "      <td>Chicago, IL</td>\n",
       "      <td>Chicago</td>\n",
       "      <td>ChicagoUS</td>\n",
       "    </tr>\n",
       "    <tr>\n",
       "      <th>1</th>\n",
       "      <td>Seattle, WA</td>\n",
       "      <td>Seattle</td>\n",
       "      <td>SeattleUS</td>\n",
       "    </tr>\n",
       "  </tbody>\n",
       "</table>\n",
       "</div>"
      ],
      "text/plain": [
       "  city_and_code city_name city_and_country\n",
       "0   Chicago, IL   Chicago        ChicagoUS\n",
       "1   Seattle, WA   Seattle        SeattleUS"
      ]
     },
     "execution_count": 59,
     "metadata": {},
     "output_type": "execute_result"
    }
   ],
   "source": [
    "df_p.pipe(extract_city_name).pipe(add_country_name, country_name=\"US\")"
   ]
  },
  {
   "cell_type": "markdown",
   "id": "1582ffe1",
   "metadata": {},
   "source": [
    "Python is pass by reference, so, unlike R, the DataFrame changes without having to make final assignment back into `df_p`. Instaed of returning the DataFrame object we are returning a pointer do the object."
   ]
  },
  {
   "cell_type": "code",
   "execution_count": 60,
   "id": "ba848752",
   "metadata": {},
   "outputs": [
    {
     "data": {
      "text/html": [
       "<div>\n",
       "<style scoped>\n",
       "    .dataframe tbody tr th:only-of-type {\n",
       "        vertical-align: middle;\n",
       "    }\n",
       "\n",
       "    .dataframe tbody tr th {\n",
       "        vertical-align: top;\n",
       "    }\n",
       "\n",
       "    .dataframe thead th {\n",
       "        text-align: right;\n",
       "    }\n",
       "</style>\n",
       "<table border=\"1\" class=\"dataframe\">\n",
       "  <thead>\n",
       "    <tr style=\"text-align: right;\">\n",
       "      <th></th>\n",
       "      <th>city_and_code</th>\n",
       "      <th>city_name</th>\n",
       "      <th>city_and_country</th>\n",
       "    </tr>\n",
       "  </thead>\n",
       "  <tbody>\n",
       "    <tr>\n",
       "      <th>0</th>\n",
       "      <td>Chicago, IL</td>\n",
       "      <td>Chicago</td>\n",
       "      <td>ChicagoUS</td>\n",
       "    </tr>\n",
       "    <tr>\n",
       "      <th>1</th>\n",
       "      <td>Seattle, WA</td>\n",
       "      <td>Seattle</td>\n",
       "      <td>SeattleUS</td>\n",
       "    </tr>\n",
       "  </tbody>\n",
       "</table>\n",
       "</div>"
      ],
      "text/plain": [
       "  city_and_code city_name city_and_country\n",
       "0   Chicago, IL   Chicago        ChicagoUS\n",
       "1   Seattle, WA   Seattle        SeattleUS"
      ]
     },
     "execution_count": 60,
     "metadata": {},
     "output_type": "execute_result"
    }
   ],
   "source": [
    "df_p"
   ]
  },
  {
   "cell_type": "markdown",
   "id": "ddc544c5",
   "metadata": {},
   "source": [
    "### Row/Column wise function application"
   ]
  },
  {
   "cell_type": "markdown",
   "id": "3c3efaa1",
   "metadata": {},
   "source": [
    "https://pandas.pydata.org/pandas-docs/stable/user_guide/basics.html#tablewise-function-application\n",
    "\n",
    "Arbitrary functions can be applied along the axes of a DataFrame using the apply() method, which, like the descriptive statistics methods, takes an optional axis argument:"
   ]
  },
  {
   "cell_type": "code",
   "execution_count": 61,
   "id": "3fbfdf39",
   "metadata": {},
   "outputs": [
    {
     "data": {
      "text/plain": [
       "A    0.327988\n",
       "B   -0.298969\n",
       "C    0.410605\n",
       "D   -0.001815\n",
       "dtype: float64"
      ]
     },
     "execution_count": 61,
     "metadata": {},
     "output_type": "execute_result"
    }
   ],
   "source": [
    "# axis 0 indicates column-wise operations (across the rows, for each column)\n",
    "df.apply(lambda x: x.mean(), axis=0)"
   ]
  },
  {
   "cell_type": "code",
   "execution_count": 62,
   "id": "151ed133",
   "metadata": {},
   "outputs": [
    {
     "data": {
      "text/plain": [
       "2021-08-09   -0.271081\n",
       "2021-08-10    0.921755\n",
       "2021-08-11   -0.182957\n",
       "2021-08-12    0.559300\n",
       "2021-08-13   -0.141573\n",
       "2021-08-14   -0.371526\n",
       "Freq: D, dtype: float64"
      ]
     },
     "execution_count": 62,
     "metadata": {},
     "output_type": "execute_result"
    }
   ],
   "source": [
    "# axis 1 indicates row-wise operations (across the columns, for each row)\n",
    "df.apply(lambda x: x.mean(), axis=1)"
   ]
  },
  {
   "cell_type": "markdown",
   "id": "e9bd555a",
   "metadata": {},
   "source": [
    "## Pandas Aggregations"
   ]
  },
  {
   "cell_type": "code",
   "execution_count": 63,
   "id": "2459d8bb",
   "metadata": {},
   "outputs": [],
   "source": [
    "import pandas as pd\n",
    "import numpy as np\n",
    "\n",
    "data = pd.DataFrame({\n",
    "    'col1':['a','a','a','a','a','b','b','b','b','b'],\n",
    "    'col2':[10, 20, 30, 40, 50, 60, 70, 80, 90, 100],\n",
    "    'col3':[100, 200, 300, 400, 500, 600, 700, 800, 900, 1000],\n",
    "})"
   ]
  },
  {
   "cell_type": "code",
   "execution_count": 64,
   "id": "39e332c4",
   "metadata": {},
   "outputs": [
    {
     "data": {
      "text/html": [
       "<div>\n",
       "<style scoped>\n",
       "    .dataframe tbody tr th:only-of-type {\n",
       "        vertical-align: middle;\n",
       "    }\n",
       "\n",
       "    .dataframe tbody tr th {\n",
       "        vertical-align: top;\n",
       "    }\n",
       "\n",
       "    .dataframe thead th {\n",
       "        text-align: right;\n",
       "    }\n",
       "</style>\n",
       "<table border=\"1\" class=\"dataframe\">\n",
       "  <thead>\n",
       "    <tr style=\"text-align: right;\">\n",
       "      <th></th>\n",
       "      <th>col1</th>\n",
       "      <th>col2</th>\n",
       "      <th>col3</th>\n",
       "    </tr>\n",
       "  </thead>\n",
       "  <tbody>\n",
       "    <tr>\n",
       "      <th>0</th>\n",
       "      <td>a</td>\n",
       "      <td>10</td>\n",
       "      <td>100</td>\n",
       "    </tr>\n",
       "    <tr>\n",
       "      <th>1</th>\n",
       "      <td>a</td>\n",
       "      <td>20</td>\n",
       "      <td>200</td>\n",
       "    </tr>\n",
       "    <tr>\n",
       "      <th>2</th>\n",
       "      <td>a</td>\n",
       "      <td>30</td>\n",
       "      <td>300</td>\n",
       "    </tr>\n",
       "    <tr>\n",
       "      <th>3</th>\n",
       "      <td>a</td>\n",
       "      <td>40</td>\n",
       "      <td>400</td>\n",
       "    </tr>\n",
       "    <tr>\n",
       "      <th>4</th>\n",
       "      <td>a</td>\n",
       "      <td>50</td>\n",
       "      <td>500</td>\n",
       "    </tr>\n",
       "    <tr>\n",
       "      <th>5</th>\n",
       "      <td>b</td>\n",
       "      <td>60</td>\n",
       "      <td>600</td>\n",
       "    </tr>\n",
       "    <tr>\n",
       "      <th>6</th>\n",
       "      <td>b</td>\n",
       "      <td>70</td>\n",
       "      <td>700</td>\n",
       "    </tr>\n",
       "    <tr>\n",
       "      <th>7</th>\n",
       "      <td>b</td>\n",
       "      <td>80</td>\n",
       "      <td>800</td>\n",
       "    </tr>\n",
       "    <tr>\n",
       "      <th>8</th>\n",
       "      <td>b</td>\n",
       "      <td>90</td>\n",
       "      <td>900</td>\n",
       "    </tr>\n",
       "    <tr>\n",
       "      <th>9</th>\n",
       "      <td>b</td>\n",
       "      <td>100</td>\n",
       "      <td>1000</td>\n",
       "    </tr>\n",
       "  </tbody>\n",
       "</table>\n",
       "</div>"
      ],
      "text/plain": [
       "  col1  col2  col3\n",
       "0    a    10   100\n",
       "1    a    20   200\n",
       "2    a    30   300\n",
       "3    a    40   400\n",
       "4    a    50   500\n",
       "5    b    60   600\n",
       "6    b    70   700\n",
       "7    b    80   800\n",
       "8    b    90   900\n",
       "9    b   100  1000"
      ]
     },
     "execution_count": 64,
     "metadata": {},
     "output_type": "execute_result"
    }
   ],
   "source": [
    "data"
   ]
  },
  {
   "cell_type": "markdown",
   "id": "e15e7294",
   "metadata": {},
   "source": [
    "### Use `.agg()` for simple functions on single columns\n",
    "\n",
    "Meaning, there isn't any interaction between columns. (i.e. can't do `col2 + col3`)"
   ]
  },
  {
   "cell_type": "code",
   "execution_count": 65,
   "id": "7f3774b5",
   "metadata": {},
   "outputs": [
    {
     "data": {
      "text/html": [
       "<div>\n",
       "<style scoped>\n",
       "    .dataframe tbody tr th:only-of-type {\n",
       "        vertical-align: middle;\n",
       "    }\n",
       "\n",
       "    .dataframe tbody tr th {\n",
       "        vertical-align: top;\n",
       "    }\n",
       "\n",
       "    .dataframe thead tr th {\n",
       "        text-align: left;\n",
       "    }\n",
       "\n",
       "    .dataframe thead tr:last-of-type th {\n",
       "        text-align: right;\n",
       "    }\n",
       "</style>\n",
       "<table border=\"1\" class=\"dataframe\">\n",
       "  <thead>\n",
       "    <tr>\n",
       "      <th></th>\n",
       "      <th colspan=\"2\" halign=\"left\">col2</th>\n",
       "      <th colspan=\"3\" halign=\"left\">col3</th>\n",
       "    </tr>\n",
       "    <tr>\n",
       "      <th></th>\n",
       "      <th>min</th>\n",
       "      <th>max</th>\n",
       "      <th>min</th>\n",
       "      <th>median</th>\n",
       "      <th>max</th>\n",
       "    </tr>\n",
       "    <tr>\n",
       "      <th>col1</th>\n",
       "      <th></th>\n",
       "      <th></th>\n",
       "      <th></th>\n",
       "      <th></th>\n",
       "      <th></th>\n",
       "    </tr>\n",
       "  </thead>\n",
       "  <tbody>\n",
       "    <tr>\n",
       "      <th>a</th>\n",
       "      <td>10</td>\n",
       "      <td>50</td>\n",
       "      <td>100</td>\n",
       "      <td>300.0</td>\n",
       "      <td>500</td>\n",
       "    </tr>\n",
       "    <tr>\n",
       "      <th>b</th>\n",
       "      <td>60</td>\n",
       "      <td>100</td>\n",
       "      <td>600</td>\n",
       "      <td>800.0</td>\n",
       "      <td>1000</td>\n",
       "    </tr>\n",
       "  </tbody>\n",
       "</table>\n",
       "</div>"
      ],
      "text/plain": [
       "     col2      col3             \n",
       "      min  max  min median   max\n",
       "col1                            \n",
       "a      10   50  100  300.0   500\n",
       "b      60  100  600  800.0  1000"
      ]
     },
     "execution_count": 65,
     "metadata": {},
     "output_type": "execute_result"
    }
   ],
   "source": [
    "data.groupby('col1').agg({'col2': [min, max], 'col3': [min, np.median, max]})"
   ]
  },
  {
   "cell_type": "markdown",
   "id": "a274d07f",
   "metadata": {},
   "source": [
    "### Use .apply() to create interaction among multiple columns"
   ]
  },
  {
   "cell_type": "markdown",
   "id": "0f2c2515",
   "metadata": {},
   "source": [
    "https://stackoverflow.com/questions/10951341/pandas-dataframe-aggregate-function-using-multiple-columns"
   ]
  },
  {
   "cell_type": "code",
   "execution_count": 66,
   "id": "78b4f50e",
   "metadata": {},
   "outputs": [
    {
     "data": {
      "text/html": [
       "<div>\n",
       "<style scoped>\n",
       "    .dataframe tbody tr th:only-of-type {\n",
       "        vertical-align: middle;\n",
       "    }\n",
       "\n",
       "    .dataframe tbody tr th {\n",
       "        vertical-align: top;\n",
       "    }\n",
       "\n",
       "    .dataframe thead th {\n",
       "        text-align: right;\n",
       "    }\n",
       "</style>\n",
       "<table border=\"1\" class=\"dataframe\">\n",
       "  <thead>\n",
       "    <tr style=\"text-align: right;\">\n",
       "      <th></th>\n",
       "      <th>col1</th>\n",
       "      <th>col2</th>\n",
       "      <th>col3</th>\n",
       "    </tr>\n",
       "  </thead>\n",
       "  <tbody>\n",
       "    <tr>\n",
       "      <th>0</th>\n",
       "      <td>a</td>\n",
       "      <td>10</td>\n",
       "      <td>100</td>\n",
       "    </tr>\n",
       "    <tr>\n",
       "      <th>1</th>\n",
       "      <td>a</td>\n",
       "      <td>20</td>\n",
       "      <td>200</td>\n",
       "    </tr>\n",
       "    <tr>\n",
       "      <th>2</th>\n",
       "      <td>a</td>\n",
       "      <td>30</td>\n",
       "      <td>300</td>\n",
       "    </tr>\n",
       "    <tr>\n",
       "      <th>3</th>\n",
       "      <td>a</td>\n",
       "      <td>40</td>\n",
       "      <td>400</td>\n",
       "    </tr>\n",
       "    <tr>\n",
       "      <th>4</th>\n",
       "      <td>a</td>\n",
       "      <td>50</td>\n",
       "      <td>500</td>\n",
       "    </tr>\n",
       "    <tr>\n",
       "      <th>5</th>\n",
       "      <td>b</td>\n",
       "      <td>60</td>\n",
       "      <td>600</td>\n",
       "    </tr>\n",
       "    <tr>\n",
       "      <th>6</th>\n",
       "      <td>b</td>\n",
       "      <td>70</td>\n",
       "      <td>700</td>\n",
       "    </tr>\n",
       "    <tr>\n",
       "      <th>7</th>\n",
       "      <td>b</td>\n",
       "      <td>80</td>\n",
       "      <td>800</td>\n",
       "    </tr>\n",
       "    <tr>\n",
       "      <th>8</th>\n",
       "      <td>b</td>\n",
       "      <td>90</td>\n",
       "      <td>900</td>\n",
       "    </tr>\n",
       "    <tr>\n",
       "      <th>9</th>\n",
       "      <td>b</td>\n",
       "      <td>100</td>\n",
       "      <td>1000</td>\n",
       "    </tr>\n",
       "  </tbody>\n",
       "</table>\n",
       "</div>"
      ],
      "text/plain": [
       "  col1  col2  col3\n",
       "0    a    10   100\n",
       "1    a    20   200\n",
       "2    a    30   300\n",
       "3    a    40   400\n",
       "4    a    50   500\n",
       "5    b    60   600\n",
       "6    b    70   700\n",
       "7    b    80   800\n",
       "8    b    90   900\n",
       "9    b   100  1000"
      ]
     },
     "execution_count": 66,
     "metadata": {},
     "output_type": "execute_result"
    }
   ],
   "source": [
    "data"
   ]
  },
  {
   "cell_type": "markdown",
   "id": "26b0692a",
   "metadata": {},
   "source": [
    "R Equivalent (although not quite because we don't get to name the column; returning column is `col1`, not `result_a`):\n",
    "\n",
    "```\n",
    "data %>%\n",
    "    group_by(col1) %>%\n",
    "    summarise(result_a = sum(col2 * col3))\n",
    "```"
   ]
  },
  {
   "cell_type": "code",
   "execution_count": 67,
   "id": "f9d88ef0",
   "metadata": {},
   "outputs": [
    {
     "data": {
      "text/plain": [
       "col1\n",
       "a     55000\n",
       "b    330000\n",
       "dtype: int64"
      ]
     },
     "execution_count": 67,
     "metadata": {},
     "output_type": "execute_result"
    }
   ],
   "source": [
    "grouped = data.groupby('col1')\n",
    "\n",
    "def my_function(group):\n",
    "    col2 = group['col2']\n",
    "    col3 = group['col3']\n",
    "    return (col2 * col3).sum()\n",
    "\n",
    "result = grouped.apply(my_function)\n",
    "result"
   ]
  },
  {
   "cell_type": "code",
   "execution_count": 68,
   "id": "4073e4f9",
   "metadata": {},
   "outputs": [
    {
     "data": {
      "text/plain": [
       "330000"
      ]
     },
     "execution_count": 68,
     "metadata": {},
     "output_type": "execute_result"
    }
   ],
   "source": [
    "result['b']"
   ]
  },
  {
   "cell_type": "markdown",
   "id": "3306656e",
   "metadata": {},
   "source": [
    "---"
   ]
  },
  {
   "cell_type": "markdown",
   "id": "1d3d5285",
   "metadata": {},
   "source": [
    "Let's remove the .sum() and just multiply across groups, to see what the result is."
   ]
  },
  {
   "cell_type": "code",
   "execution_count": 69,
   "id": "9eaee3d7",
   "metadata": {},
   "outputs": [
    {
     "data": {
      "text/plain": [
       "col1   \n",
       "a     0      1000\n",
       "      1      4000\n",
       "      2      9000\n",
       "      3     16000\n",
       "      4     25000\n",
       "b     5     36000\n",
       "      6     49000\n",
       "      7     64000\n",
       "      8     81000\n",
       "      9    100000\n",
       "dtype: int64"
      ]
     },
     "execution_count": 69,
     "metadata": {},
     "output_type": "execute_result"
    }
   ],
   "source": [
    "grouped = data.groupby('col1')\n",
    "\n",
    "def my_function(group):\n",
    "    col2 = group['col2']\n",
    "    col3 = group['col3']\n",
    "    return (col2 * col3)#.sum()\n",
    "\n",
    "result = grouped.apply(my_function)\n",
    "result"
   ]
  },
  {
   "cell_type": "markdown",
   "id": "8bae588e",
   "metadata": {},
   "source": [
    "---"
   ]
  },
  {
   "cell_type": "markdown",
   "id": "daf61457",
   "metadata": {},
   "source": [
    "### `group_by(...) %>% summarise(...)`\n",
    "\n",
    "The following examples shows the equivalent of R's `group_by(...) %>% summarise(...)`\n",
    "\n",
    "https://stackoverflow.com/questions/14529838/apply-multiple-functions-to-multiple-groupby-columns\n",
    "\n",
    "Unlike the last examples, we can A) name the columns and B) interact the grouped columns."
   ]
  },
  {
   "cell_type": "code",
   "execution_count": 70,
   "id": "eb17b785",
   "metadata": {},
   "outputs": [
    {
     "data": {
      "text/html": [
       "<div>\n",
       "<style scoped>\n",
       "    .dataframe tbody tr th:only-of-type {\n",
       "        vertical-align: middle;\n",
       "    }\n",
       "\n",
       "    .dataframe tbody tr th {\n",
       "        vertical-align: top;\n",
       "    }\n",
       "\n",
       "    .dataframe thead th {\n",
       "        text-align: right;\n",
       "    }\n",
       "</style>\n",
       "<table border=\"1\" class=\"dataframe\">\n",
       "  <thead>\n",
       "    <tr style=\"text-align: right;\">\n",
       "      <th></th>\n",
       "      <th>col1</th>\n",
       "      <th>col2</th>\n",
       "      <th>col3</th>\n",
       "    </tr>\n",
       "  </thead>\n",
       "  <tbody>\n",
       "    <tr>\n",
       "      <th>0</th>\n",
       "      <td>a</td>\n",
       "      <td>10</td>\n",
       "      <td>100</td>\n",
       "    </tr>\n",
       "    <tr>\n",
       "      <th>1</th>\n",
       "      <td>a</td>\n",
       "      <td>20</td>\n",
       "      <td>200</td>\n",
       "    </tr>\n",
       "    <tr>\n",
       "      <th>2</th>\n",
       "      <td>a</td>\n",
       "      <td>30</td>\n",
       "      <td>300</td>\n",
       "    </tr>\n",
       "    <tr>\n",
       "      <th>3</th>\n",
       "      <td>a</td>\n",
       "      <td>40</td>\n",
       "      <td>400</td>\n",
       "    </tr>\n",
       "    <tr>\n",
       "      <th>4</th>\n",
       "      <td>a</td>\n",
       "      <td>50</td>\n",
       "      <td>500</td>\n",
       "    </tr>\n",
       "    <tr>\n",
       "      <th>5</th>\n",
       "      <td>b</td>\n",
       "      <td>60</td>\n",
       "      <td>600</td>\n",
       "    </tr>\n",
       "    <tr>\n",
       "      <th>6</th>\n",
       "      <td>b</td>\n",
       "      <td>70</td>\n",
       "      <td>700</td>\n",
       "    </tr>\n",
       "    <tr>\n",
       "      <th>7</th>\n",
       "      <td>b</td>\n",
       "      <td>80</td>\n",
       "      <td>800</td>\n",
       "    </tr>\n",
       "    <tr>\n",
       "      <th>8</th>\n",
       "      <td>b</td>\n",
       "      <td>90</td>\n",
       "      <td>900</td>\n",
       "    </tr>\n",
       "    <tr>\n",
       "      <th>9</th>\n",
       "      <td>b</td>\n",
       "      <td>100</td>\n",
       "      <td>1000</td>\n",
       "    </tr>\n",
       "  </tbody>\n",
       "</table>\n",
       "</div>"
      ],
      "text/plain": [
       "  col1  col2  col3\n",
       "0    a    10   100\n",
       "1    a    20   200\n",
       "2    a    30   300\n",
       "3    a    40   400\n",
       "4    a    50   500\n",
       "5    b    60   600\n",
       "6    b    70   700\n",
       "7    b    80   800\n",
       "8    b    90   900\n",
       "9    b   100  1000"
      ]
     },
     "execution_count": 70,
     "metadata": {},
     "output_type": "execute_result"
    }
   ],
   "source": [
    "data"
   ]
  },
  {
   "cell_type": "code",
   "execution_count": 71,
   "id": "667059be",
   "metadata": {},
   "outputs": [
    {
     "data": {
      "text/html": [
       "<div>\n",
       "<style scoped>\n",
       "    .dataframe tbody tr th:only-of-type {\n",
       "        vertical-align: middle;\n",
       "    }\n",
       "\n",
       "    .dataframe tbody tr th {\n",
       "        vertical-align: top;\n",
       "    }\n",
       "\n",
       "    .dataframe thead th {\n",
       "        text-align: right;\n",
       "    }\n",
       "</style>\n",
       "<table border=\"1\" class=\"dataframe\">\n",
       "  <thead>\n",
       "    <tr style=\"text-align: right;\">\n",
       "      <th></th>\n",
       "      <th>result_a</th>\n",
       "      <th>result_b</th>\n",
       "      <th>result_c</th>\n",
       "      <th>count</th>\n",
       "      <th>col2_max</th>\n",
       "      <th>col3_max</th>\n",
       "    </tr>\n",
       "    <tr>\n",
       "      <th>col1</th>\n",
       "      <th></th>\n",
       "      <th></th>\n",
       "      <th></th>\n",
       "      <th></th>\n",
       "      <th></th>\n",
       "      <th></th>\n",
       "    </tr>\n",
       "  </thead>\n",
       "  <tbody>\n",
       "    <tr>\n",
       "      <th>a</th>\n",
       "      <td>55000</td>\n",
       "      <td>225000</td>\n",
       "      <td>[110, 220, 330, 440, 550]</td>\n",
       "      <td>5</td>\n",
       "      <td>50</td>\n",
       "      <td>500</td>\n",
       "    </tr>\n",
       "    <tr>\n",
       "      <th>b</th>\n",
       "      <td>330000</td>\n",
       "      <td>1600000</td>\n",
       "      <td>[660, 770, 880, 990, 1100]</td>\n",
       "      <td>5</td>\n",
       "      <td>100</td>\n",
       "      <td>1000</td>\n",
       "    </tr>\n",
       "  </tbody>\n",
       "</table>\n",
       "</div>"
      ],
      "text/plain": [
       "      result_a  result_b                    result_c  count  col2_max  \\\n",
       "col1                                                                    \n",
       "a        55000    225000   [110, 220, 330, 440, 550]      5        50   \n",
       "b       330000   1600000  [660, 770, 880, 990, 1100]      5       100   \n",
       "\n",
       "      col3_max  \n",
       "col1            \n",
       "a          500  \n",
       "b         1000  "
      ]
     },
     "execution_count": 71,
     "metadata": {},
     "output_type": "execute_result"
    }
   ],
   "source": [
    "def f(x):\n",
    "    d = {}\n",
    "    d['result_a'] = (x['col2'] * x['col3']).sum()\n",
    "    d['result_b'] = x['col2'].sum() * x['col3'].sum()\n",
    "    d['result_c'] = (x['col2'] + x['col3']).values\n",
    "    d['count'] = x.shape[0]\n",
    "    d['col2_max'] = x['col2'].max()\n",
    "    d['col3_max'] = x['col3'].max()\n",
    "    return pd.Series(d)\n",
    "\n",
    "data.groupby('col1').apply(f)"
   ]
  },
  {
   "cell_type": "markdown",
   "id": "fc154bce",
   "metadata": {},
   "source": [
    "which is equivalent to:\n",
    "\n",
    "```\n",
    "data %>%\n",
    "    group_by(col1) %>%\n",
    "    summarise(result_a = sum(col2 * col3),\n",
    "              result_b = sum(col2) * sum(col3),\n",
    "              ...)\n",
    "```"
   ]
  },
  {
   "cell_type": "markdown",
   "id": "e42143eb",
   "metadata": {},
   "source": [
    "### `group_by(...) %>% mutate(...)`"
   ]
  },
  {
   "cell_type": "markdown",
   "id": "f430f509",
   "metadata": {},
   "source": [
    "https://gist.github.com/conormm/fd8b1980c28dd21cfaf6975c86c74d07\n",
    "\n",
    "\n",
    "```\n",
    "df %>% group_by(group) %>% mutate(mean_var1 = mean(var1))  # R\n",
    "```"
   ]
  },
  {
   "cell_type": "code",
   "execution_count": 72,
   "id": "6933667f",
   "metadata": {},
   "outputs": [
    {
     "data": {
      "text/html": [
       "<div>\n",
       "<style scoped>\n",
       "    .dataframe tbody tr th:only-of-type {\n",
       "        vertical-align: middle;\n",
       "    }\n",
       "\n",
       "    .dataframe tbody tr th {\n",
       "        vertical-align: top;\n",
       "    }\n",
       "\n",
       "    .dataframe thead th {\n",
       "        text-align: right;\n",
       "    }\n",
       "</style>\n",
       "<table border=\"1\" class=\"dataframe\">\n",
       "  <thead>\n",
       "    <tr style=\"text-align: right;\">\n",
       "      <th></th>\n",
       "      <th>group</th>\n",
       "      <th>var1</th>\n",
       "      <th>var2</th>\n",
       "    </tr>\n",
       "  </thead>\n",
       "  <tbody>\n",
       "    <tr>\n",
       "      <th>0</th>\n",
       "      <td>A</td>\n",
       "      <td>1</td>\n",
       "      <td>40</td>\n",
       "    </tr>\n",
       "    <tr>\n",
       "      <th>1</th>\n",
       "      <td>A</td>\n",
       "      <td>2</td>\n",
       "      <td>30</td>\n",
       "    </tr>\n",
       "    <tr>\n",
       "      <th>2</th>\n",
       "      <td>B</td>\n",
       "      <td>3</td>\n",
       "      <td>20</td>\n",
       "    </tr>\n",
       "    <tr>\n",
       "      <th>3</th>\n",
       "      <td>B</td>\n",
       "      <td>4</td>\n",
       "      <td>10</td>\n",
       "    </tr>\n",
       "  </tbody>\n",
       "</table>\n",
       "</div>"
      ],
      "text/plain": [
       "  group  var1  var2\n",
       "0     A     1    40\n",
       "1     A     2    30\n",
       "2     B     3    20\n",
       "3     B     4    10"
      ]
     },
     "execution_count": 72,
     "metadata": {},
     "output_type": "execute_result"
    }
   ],
   "source": [
    "df = pd.DataFrame(data = {'group': ['A', 'A', 'B', 'B'],\n",
    "                          'var1': [1, 2, 3, 4],\n",
    "                          'var2': [40, 30, 20, 10]})\n",
    "df"
   ]
  },
  {
   "cell_type": "code",
   "execution_count": 73,
   "id": "5789bf52",
   "metadata": {},
   "outputs": [
    {
     "data": {
      "text/html": [
       "<div>\n",
       "<style scoped>\n",
       "    .dataframe tbody tr th:only-of-type {\n",
       "        vertical-align: middle;\n",
       "    }\n",
       "\n",
       "    .dataframe tbody tr th {\n",
       "        vertical-align: top;\n",
       "    }\n",
       "\n",
       "    .dataframe thead th {\n",
       "        text-align: right;\n",
       "    }\n",
       "</style>\n",
       "<table border=\"1\" class=\"dataframe\">\n",
       "  <thead>\n",
       "    <tr style=\"text-align: right;\">\n",
       "      <th></th>\n",
       "      <th>group</th>\n",
       "      <th>var1</th>\n",
       "      <th>var2</th>\n",
       "      <th>mean_var1</th>\n",
       "    </tr>\n",
       "  </thead>\n",
       "  <tbody>\n",
       "    <tr>\n",
       "      <th>0</th>\n",
       "      <td>A</td>\n",
       "      <td>1</td>\n",
       "      <td>40</td>\n",
       "      <td>1.5</td>\n",
       "    </tr>\n",
       "    <tr>\n",
       "      <th>1</th>\n",
       "      <td>A</td>\n",
       "      <td>2</td>\n",
       "      <td>30</td>\n",
       "      <td>1.5</td>\n",
       "    </tr>\n",
       "    <tr>\n",
       "      <th>2</th>\n",
       "      <td>B</td>\n",
       "      <td>3</td>\n",
       "      <td>20</td>\n",
       "      <td>3.5</td>\n",
       "    </tr>\n",
       "    <tr>\n",
       "      <th>3</th>\n",
       "      <td>B</td>\n",
       "      <td>4</td>\n",
       "      <td>10</td>\n",
       "      <td>3.5</td>\n",
       "    </tr>\n",
       "  </tbody>\n",
       "</table>\n",
       "</div>"
      ],
      "text/plain": [
       "  group  var1  var2  mean_var1\n",
       "0     A     1    40        1.5\n",
       "1     A     2    30        1.5\n",
       "2     B     3    20        3.5\n",
       "3     B     4    10        3.5"
      ]
     },
     "execution_count": 73,
     "metadata": {},
     "output_type": "execute_result"
    }
   ],
   "source": [
    "df.assign(mean_var1 = lambda x: x.groupby('group')['var1'].transform('mean'))"
   ]
  },
  {
   "cell_type": "code",
   "execution_count": 74,
   "id": "c1c4b79d",
   "metadata": {},
   "outputs": [
    {
     "data": {
      "text/plain": [
       "0    1.5\n",
       "1    1.5\n",
       "2    3.5\n",
       "3    3.5\n",
       "Name: var1, dtype: float64"
      ]
     },
     "execution_count": 74,
     "metadata": {},
     "output_type": "execute_result"
    }
   ],
   "source": [
    "# here is what the inside of the lambda function above gives without .assign()\n",
    "df.groupby('group')['var1'].transform('mean')"
   ]
  },
  {
   "cell_type": "markdown",
   "id": "76fc1c6c",
   "metadata": {},
   "source": [
    "TODO: show more advanced example of above with column interactions"
   ]
  },
  {
   "cell_type": "code",
   "execution_count": 75,
   "id": "3d47d32d",
   "metadata": {},
   "outputs": [
    {
     "data": {
      "text/html": [
       "<div>\n",
       "<style scoped>\n",
       "    .dataframe tbody tr th:only-of-type {\n",
       "        vertical-align: middle;\n",
       "    }\n",
       "\n",
       "    .dataframe tbody tr th {\n",
       "        vertical-align: top;\n",
       "    }\n",
       "\n",
       "    .dataframe thead th {\n",
       "        text-align: right;\n",
       "    }\n",
       "</style>\n",
       "<table border=\"1\" class=\"dataframe\">\n",
       "  <thead>\n",
       "    <tr style=\"text-align: right;\">\n",
       "      <th></th>\n",
       "      <th>var1</th>\n",
       "      <th>var2</th>\n",
       "    </tr>\n",
       "  </thead>\n",
       "  <tbody>\n",
       "    <tr>\n",
       "      <th>0</th>\n",
       "      <td>1.5</td>\n",
       "      <td>35.0</td>\n",
       "    </tr>\n",
       "    <tr>\n",
       "      <th>1</th>\n",
       "      <td>1.5</td>\n",
       "      <td>35.0</td>\n",
       "    </tr>\n",
       "    <tr>\n",
       "      <th>2</th>\n",
       "      <td>3.5</td>\n",
       "      <td>15.0</td>\n",
       "    </tr>\n",
       "    <tr>\n",
       "      <th>3</th>\n",
       "      <td>3.5</td>\n",
       "      <td>15.0</td>\n",
       "    </tr>\n",
       "  </tbody>\n",
       "</table>\n",
       "</div>"
      ],
      "text/plain": [
       "   var1  var2\n",
       "0   1.5  35.0\n",
       "1   1.5  35.0\n",
       "2   3.5  15.0\n",
       "3   3.5  15.0"
      ]
     },
     "execution_count": 75,
     "metadata": {},
     "output_type": "execute_result"
    }
   ],
   "source": [
    "df.groupby('group').transform('mean')"
   ]
  },
  {
   "cell_type": "markdown",
   "id": "b0cc83f6",
   "metadata": {},
   "source": [
    "---"
   ]
  },
  {
   "cell_type": "code",
   "execution_count": 76,
   "id": "247ee921",
   "metadata": {},
   "outputs": [
    {
     "data": {
      "text/plain": [
       "0    4.0\n",
       "1    3.0\n",
       "2    2.0\n",
       "3    1.0\n",
       "Name: var1, dtype: float64"
      ]
     },
     "execution_count": 76,
     "metadata": {},
     "output_type": "execute_result"
    }
   ],
   "source": [
    "df.var1.rank(ascending=False)"
   ]
  },
  {
   "cell_type": "code",
   "execution_count": 77,
   "id": "a8e59ec5",
   "metadata": {},
   "outputs": [
    {
     "data": {
      "text/plain": [
       "0    2.0\n",
       "1    1.0\n",
       "2    2.0\n",
       "3    1.0\n",
       "Name: var1, dtype: float64"
      ]
     },
     "execution_count": 77,
     "metadata": {},
     "output_type": "execute_result"
    }
   ],
   "source": [
    "df.groupby('group')['var1'].transform(lambda x: x.rank(ascending=False))"
   ]
  },
  {
   "cell_type": "code",
   "execution_count": 78,
   "id": "8157b3a7",
   "metadata": {},
   "outputs": [
    {
     "data": {
      "text/html": [
       "<div>\n",
       "<style scoped>\n",
       "    .dataframe tbody tr th:only-of-type {\n",
       "        vertical-align: middle;\n",
       "    }\n",
       "\n",
       "    .dataframe tbody tr th {\n",
       "        vertical-align: top;\n",
       "    }\n",
       "\n",
       "    .dataframe thead th {\n",
       "        text-align: right;\n",
       "    }\n",
       "</style>\n",
       "<table border=\"1\" class=\"dataframe\">\n",
       "  <thead>\n",
       "    <tr style=\"text-align: right;\">\n",
       "      <th></th>\n",
       "      <th>var1</th>\n",
       "      <th>var2</th>\n",
       "    </tr>\n",
       "  </thead>\n",
       "  <tbody>\n",
       "    <tr>\n",
       "      <th>0</th>\n",
       "      <td>2.0</td>\n",
       "      <td>1.0</td>\n",
       "    </tr>\n",
       "    <tr>\n",
       "      <th>1</th>\n",
       "      <td>1.0</td>\n",
       "      <td>2.0</td>\n",
       "    </tr>\n",
       "    <tr>\n",
       "      <th>2</th>\n",
       "      <td>2.0</td>\n",
       "      <td>1.0</td>\n",
       "    </tr>\n",
       "    <tr>\n",
       "      <th>3</th>\n",
       "      <td>1.0</td>\n",
       "      <td>2.0</td>\n",
       "    </tr>\n",
       "  </tbody>\n",
       "</table>\n",
       "</div>"
      ],
      "text/plain": [
       "   var1  var2\n",
       "0   2.0   1.0\n",
       "1   1.0   2.0\n",
       "2   2.0   1.0\n",
       "3   1.0   2.0"
      ]
     },
     "execution_count": 78,
     "metadata": {},
     "output_type": "execute_result"
    }
   ],
   "source": [
    "\n",
    "\n",
    "df.groupby('group').transform(lambda x: x.rank(ascending=False))"
   ]
  },
  {
   "cell_type": "markdown",
   "id": "46303adb",
   "metadata": {},
   "source": [
    "### `pivot_wider()`"
   ]
  },
  {
   "cell_type": "markdown",
   "id": "ef7c2571",
   "metadata": {},
   "source": [
    "#### via `pivot()`"
   ]
  },
  {
   "cell_type": "markdown",
   "id": "782312cd",
   "metadata": {},
   "source": [
    "https://stackoverflow.com/questions/40229444/trouble-pivoting-in-pandas-spread-in-r"
   ]
  },
  {
   "cell_type": "code",
   "execution_count": 79,
   "id": "94d3f429",
   "metadata": {},
   "outputs": [
    {
     "data": {
      "text/html": [
       "<div>\n",
       "<style scoped>\n",
       "    .dataframe tbody tr th:only-of-type {\n",
       "        vertical-align: middle;\n",
       "    }\n",
       "\n",
       "    .dataframe tbody tr th {\n",
       "        vertical-align: top;\n",
       "    }\n",
       "\n",
       "    .dataframe thead th {\n",
       "        text-align: right;\n",
       "    }\n",
       "</style>\n",
       "<table border=\"1\" class=\"dataframe\">\n",
       "  <thead>\n",
       "    <tr style=\"text-align: right;\">\n",
       "      <th></th>\n",
       "      <th>site_id</th>\n",
       "      <th>dt</th>\n",
       "      <th>eu</th>\n",
       "      <th>kw</th>\n",
       "    </tr>\n",
       "  </thead>\n",
       "  <tbody>\n",
       "    <tr>\n",
       "      <th>0</th>\n",
       "      <td>a</td>\n",
       "      <td>1</td>\n",
       "      <td>FGE</td>\n",
       "      <td>8</td>\n",
       "    </tr>\n",
       "    <tr>\n",
       "      <th>1</th>\n",
       "      <td>a</td>\n",
       "      <td>1</td>\n",
       "      <td>WSH</td>\n",
       "      <td>5</td>\n",
       "    </tr>\n",
       "    <tr>\n",
       "      <th>2</th>\n",
       "      <td>b</td>\n",
       "      <td>1</td>\n",
       "      <td>FGE</td>\n",
       "      <td>3</td>\n",
       "    </tr>\n",
       "    <tr>\n",
       "      <th>3</th>\n",
       "      <td>b</td>\n",
       "      <td>1</td>\n",
       "      <td>WSH</td>\n",
       "      <td>7</td>\n",
       "    </tr>\n",
       "    <tr>\n",
       "      <th>4</th>\n",
       "      <td>c</td>\n",
       "      <td>1</td>\n",
       "      <td>FGE</td>\n",
       "      <td>1</td>\n",
       "    </tr>\n",
       "    <tr>\n",
       "      <th>5</th>\n",
       "      <td>c</td>\n",
       "      <td>1</td>\n",
       "      <td>WSH</td>\n",
       "      <td>5</td>\n",
       "    </tr>\n",
       "    <tr>\n",
       "      <th>6</th>\n",
       "      <td>a</td>\n",
       "      <td>2</td>\n",
       "      <td>FGE</td>\n",
       "      <td>2</td>\n",
       "    </tr>\n",
       "    <tr>\n",
       "      <th>7</th>\n",
       "      <td>a</td>\n",
       "      <td>2</td>\n",
       "      <td>WSH</td>\n",
       "      <td>3</td>\n",
       "    </tr>\n",
       "    <tr>\n",
       "      <th>8</th>\n",
       "      <td>b</td>\n",
       "      <td>2</td>\n",
       "      <td>FGE</td>\n",
       "      <td>5</td>\n",
       "    </tr>\n",
       "    <tr>\n",
       "      <th>9</th>\n",
       "      <td>b</td>\n",
       "      <td>2</td>\n",
       "      <td>WSH</td>\n",
       "      <td>7</td>\n",
       "    </tr>\n",
       "    <tr>\n",
       "      <th>10</th>\n",
       "      <td>c</td>\n",
       "      <td>2</td>\n",
       "      <td>FGE</td>\n",
       "      <td>2</td>\n",
       "    </tr>\n",
       "    <tr>\n",
       "      <th>11</th>\n",
       "      <td>c</td>\n",
       "      <td>2</td>\n",
       "      <td>WSH</td>\n",
       "      <td>5</td>\n",
       "    </tr>\n",
       "  </tbody>\n",
       "</table>\n",
       "</div>"
      ],
      "text/plain": [
       "   site_id  dt   eu kw\n",
       "0        a   1  FGE  8\n",
       "1        a   1  WSH  5\n",
       "2        b   1  FGE  3\n",
       "3        b   1  WSH  7\n",
       "4        c   1  FGE  1\n",
       "5        c   1  WSH  5\n",
       "6        a   2  FGE  2\n",
       "7        a   2  WSH  3\n",
       "8        b   2  FGE  5\n",
       "9        b   2  WSH  7\n",
       "10       c   2  FGE  2\n",
       "11       c   2  WSH  5"
      ]
     },
     "execution_count": 79,
     "metadata": {},
     "output_type": "execute_result"
    }
   ],
   "source": [
    "df = pd.DataFrame({'site_id': {0: 'a', 1: 'a', 2: 'b', 3: 'b', 4: 'c', 5: 'c',6: 'a', 7: 'a', 8: 'b', 9: 'b', 10: 'c', 11: 'c'},\n",
    "                   'dt': {0: 1, 1: 1, 2: 1, 3: 1, 4: 1, 5: 1,6: 2, 7: 2, 8: 2, 9: 2, 10: 2, 11: 2},\n",
    "                   'eu': {0: 'FGE', 1: 'WSH', 2: 'FGE', 3: 'WSH', 4: 'FGE', 5: 'WSH',6: 'FGE', 7: 'WSH', 8: 'FGE', 9: 'WSH', 10: 'FGE', 11: 'WSH'},\n",
    "                   'kw': {0: '8', 1: '5', 2: '3', 3: '7', 4: '1', 5: '5',6: '2', 7: '3', 8: '5', 9: '7', 10: '2', 11: '5'}})\n",
    "df"
   ]
  },
  {
   "cell_type": "code",
   "execution_count": 80,
   "id": "1a375d5b",
   "metadata": {},
   "outputs": [
    {
     "data": {
      "text/html": [
       "<div>\n",
       "<style scoped>\n",
       "    .dataframe tbody tr th:only-of-type {\n",
       "        vertical-align: middle;\n",
       "    }\n",
       "\n",
       "    .dataframe tbody tr th {\n",
       "        vertical-align: top;\n",
       "    }\n",
       "\n",
       "    .dataframe thead th {\n",
       "        text-align: right;\n",
       "    }\n",
       "</style>\n",
       "<table border=\"1\" class=\"dataframe\">\n",
       "  <thead>\n",
       "    <tr style=\"text-align: right;\">\n",
       "      <th></th>\n",
       "      <th>eu</th>\n",
       "      <th>FGE</th>\n",
       "      <th>WSH</th>\n",
       "    </tr>\n",
       "    <tr>\n",
       "      <th>dt</th>\n",
       "      <th>site_id</th>\n",
       "      <th></th>\n",
       "      <th></th>\n",
       "    </tr>\n",
       "  </thead>\n",
       "  <tbody>\n",
       "    <tr>\n",
       "      <th rowspan=\"3\" valign=\"top\">1</th>\n",
       "      <th>a</th>\n",
       "      <td>8</td>\n",
       "      <td>5</td>\n",
       "    </tr>\n",
       "    <tr>\n",
       "      <th>b</th>\n",
       "      <td>3</td>\n",
       "      <td>7</td>\n",
       "    </tr>\n",
       "    <tr>\n",
       "      <th>c</th>\n",
       "      <td>1</td>\n",
       "      <td>5</td>\n",
       "    </tr>\n",
       "    <tr>\n",
       "      <th rowspan=\"3\" valign=\"top\">2</th>\n",
       "      <th>a</th>\n",
       "      <td>2</td>\n",
       "      <td>3</td>\n",
       "    </tr>\n",
       "    <tr>\n",
       "      <th>b</th>\n",
       "      <td>5</td>\n",
       "      <td>7</td>\n",
       "    </tr>\n",
       "    <tr>\n",
       "      <th>c</th>\n",
       "      <td>2</td>\n",
       "      <td>5</td>\n",
       "    </tr>\n",
       "  </tbody>\n",
       "</table>\n",
       "</div>"
      ],
      "text/plain": [
       "eu         FGE WSH\n",
       "dt site_id        \n",
       "1  a         8   5\n",
       "   b         3   7\n",
       "   c         1   5\n",
       "2  a         2   3\n",
       "   b         5   7\n",
       "   c         2   5"
      ]
     },
     "execution_count": 80,
     "metadata": {},
     "output_type": "execute_result"
    }
   ],
   "source": [
    "# notice `dt` is first so it is the first level index\n",
    "df.pivot(index = ['dt', 'site_id'], values = 'kw', columns = 'eu')"
   ]
  },
  {
   "cell_type": "markdown",
   "id": "ab1f1cec",
   "metadata": {},
   "source": [
    "---"
   ]
  },
  {
   "cell_type": "markdown",
   "id": "c86b5977",
   "metadata": {},
   "source": [
    "#### via `set_index()` & 'unstack()`"
   ]
  },
  {
   "cell_type": "code",
   "execution_count": 81,
   "id": "e222a27c",
   "metadata": {},
   "outputs": [
    {
     "data": {
      "text/html": [
       "<div>\n",
       "<style scoped>\n",
       "    .dataframe tbody tr th:only-of-type {\n",
       "        vertical-align: middle;\n",
       "    }\n",
       "\n",
       "    .dataframe tbody tr th {\n",
       "        vertical-align: top;\n",
       "    }\n",
       "\n",
       "    .dataframe thead tr th {\n",
       "        text-align: left;\n",
       "    }\n",
       "\n",
       "    .dataframe thead tr:last-of-type th {\n",
       "        text-align: right;\n",
       "    }\n",
       "</style>\n",
       "<table border=\"1\" class=\"dataframe\">\n",
       "  <thead>\n",
       "    <tr>\n",
       "      <th></th>\n",
       "      <th></th>\n",
       "      <th colspan=\"2\" halign=\"left\">kw</th>\n",
       "    </tr>\n",
       "    <tr>\n",
       "      <th></th>\n",
       "      <th>eu</th>\n",
       "      <th>FGE</th>\n",
       "      <th>WSH</th>\n",
       "    </tr>\n",
       "    <tr>\n",
       "      <th>dt</th>\n",
       "      <th>site_id</th>\n",
       "      <th></th>\n",
       "      <th></th>\n",
       "    </tr>\n",
       "  </thead>\n",
       "  <tbody>\n",
       "    <tr>\n",
       "      <th rowspan=\"3\" valign=\"top\">1</th>\n",
       "      <th>a</th>\n",
       "      <td>8</td>\n",
       "      <td>5</td>\n",
       "    </tr>\n",
       "    <tr>\n",
       "      <th>b</th>\n",
       "      <td>3</td>\n",
       "      <td>7</td>\n",
       "    </tr>\n",
       "    <tr>\n",
       "      <th>c</th>\n",
       "      <td>1</td>\n",
       "      <td>5</td>\n",
       "    </tr>\n",
       "    <tr>\n",
       "      <th rowspan=\"3\" valign=\"top\">2</th>\n",
       "      <th>a</th>\n",
       "      <td>2</td>\n",
       "      <td>3</td>\n",
       "    </tr>\n",
       "    <tr>\n",
       "      <th>b</th>\n",
       "      <td>5</td>\n",
       "      <td>7</td>\n",
       "    </tr>\n",
       "    <tr>\n",
       "      <th>c</th>\n",
       "      <td>2</td>\n",
       "      <td>5</td>\n",
       "    </tr>\n",
       "  </tbody>\n",
       "</table>\n",
       "</div>"
      ],
      "text/plain": [
       "            kw    \n",
       "eu         FGE WSH\n",
       "dt site_id        \n",
       "1  a         8   5\n",
       "   b         3   7\n",
       "   c         1   5\n",
       "2  a         2   3\n",
       "   b         5   7\n",
       "   c         2   5"
      ]
     },
     "execution_count": 81,
     "metadata": {},
     "output_type": "execute_result"
    }
   ],
   "source": [
    "df.set_index(['dt','site_id','eu']).unstack('eu')"
   ]
  },
  {
   "cell_type": "markdown",
   "id": "1bba89aa",
   "metadata": {},
   "source": [
    "---"
   ]
  },
  {
   "cell_type": "markdown",
   "id": "bc6c6957",
   "metadata": {},
   "source": [
    "equivalent to R's `pivot_longer(-site_id)`"
   ]
  },
  {
   "cell_type": "code",
   "execution_count": 82,
   "id": "70978256",
   "metadata": {},
   "outputs": [
    {
     "data": {
      "text/html": [
       "<div>\n",
       "<style scoped>\n",
       "    .dataframe tbody tr th:only-of-type {\n",
       "        vertical-align: middle;\n",
       "    }\n",
       "\n",
       "    .dataframe tbody tr th {\n",
       "        vertical-align: top;\n",
       "    }\n",
       "\n",
       "    .dataframe thead tr th {\n",
       "        text-align: left;\n",
       "    }\n",
       "\n",
       "    .dataframe thead tr:last-of-type th {\n",
       "        text-align: right;\n",
       "    }\n",
       "</style>\n",
       "<table border=\"1\" class=\"dataframe\">\n",
       "  <thead>\n",
       "    <tr>\n",
       "      <th></th>\n",
       "      <th></th>\n",
       "      <th colspan=\"3\" halign=\"left\">kw</th>\n",
       "    </tr>\n",
       "    <tr>\n",
       "      <th></th>\n",
       "      <th>site_id</th>\n",
       "      <th>a</th>\n",
       "      <th>b</th>\n",
       "      <th>c</th>\n",
       "    </tr>\n",
       "    <tr>\n",
       "      <th>dt</th>\n",
       "      <th>eu</th>\n",
       "      <th></th>\n",
       "      <th></th>\n",
       "      <th></th>\n",
       "    </tr>\n",
       "  </thead>\n",
       "  <tbody>\n",
       "    <tr>\n",
       "      <th rowspan=\"2\" valign=\"top\">1</th>\n",
       "      <th>FGE</th>\n",
       "      <td>8</td>\n",
       "      <td>3</td>\n",
       "      <td>1</td>\n",
       "    </tr>\n",
       "    <tr>\n",
       "      <th>WSH</th>\n",
       "      <td>5</td>\n",
       "      <td>7</td>\n",
       "      <td>5</td>\n",
       "    </tr>\n",
       "    <tr>\n",
       "      <th rowspan=\"2\" valign=\"top\">2</th>\n",
       "      <th>FGE</th>\n",
       "      <td>2</td>\n",
       "      <td>5</td>\n",
       "      <td>2</td>\n",
       "    </tr>\n",
       "    <tr>\n",
       "      <th>WSH</th>\n",
       "      <td>3</td>\n",
       "      <td>7</td>\n",
       "      <td>5</td>\n",
       "    </tr>\n",
       "  </tbody>\n",
       "</table>\n",
       "</div>"
      ],
      "text/plain": [
       "        kw      \n",
       "site_id  a  b  c\n",
       "dt eu           \n",
       "1  FGE   8  3  1\n",
       "   WSH   5  7  5\n",
       "2  FGE   2  5  2\n",
       "   WSH   3  7  5"
      ]
     },
     "execution_count": 82,
     "metadata": {},
     "output_type": "execute_result"
    }
   ],
   "source": [
    "df.set_index(['dt','site_id','eu']).unstack('site_id')"
   ]
  },
  {
   "cell_type": "markdown",
   "id": "9c1fc3fc",
   "metadata": {},
   "source": [
    "---"
   ]
  },
  {
   "cell_type": "markdown",
   "id": "a2eb6a1c",
   "metadata": {},
   "source": [
    "#### from wide to long and back"
   ]
  },
  {
   "cell_type": "code",
   "execution_count": 83,
   "id": "2ab52720",
   "metadata": {},
   "outputs": [
    {
     "data": {
      "text/html": [
       "<div>\n",
       "<style scoped>\n",
       "    .dataframe tbody tr th:only-of-type {\n",
       "        vertical-align: middle;\n",
       "    }\n",
       "\n",
       "    .dataframe tbody tr th {\n",
       "        vertical-align: top;\n",
       "    }\n",
       "\n",
       "    .dataframe thead tr th {\n",
       "        text-align: left;\n",
       "    }\n",
       "\n",
       "    .dataframe thead tr:last-of-type th {\n",
       "        text-align: right;\n",
       "    }\n",
       "</style>\n",
       "<table border=\"1\" class=\"dataframe\">\n",
       "  <thead>\n",
       "    <tr>\n",
       "      <th></th>\n",
       "      <th></th>\n",
       "      <th colspan=\"3\" halign=\"left\">kw</th>\n",
       "    </tr>\n",
       "    <tr>\n",
       "      <th></th>\n",
       "      <th>site_id</th>\n",
       "      <th>a</th>\n",
       "      <th>b</th>\n",
       "      <th>c</th>\n",
       "    </tr>\n",
       "    <tr>\n",
       "      <th>dt</th>\n",
       "      <th>eu</th>\n",
       "      <th></th>\n",
       "      <th></th>\n",
       "      <th></th>\n",
       "    </tr>\n",
       "  </thead>\n",
       "  <tbody>\n",
       "    <tr>\n",
       "      <th rowspan=\"2\" valign=\"top\">1</th>\n",
       "      <th>FGE</th>\n",
       "      <td>8</td>\n",
       "      <td>3</td>\n",
       "      <td>1</td>\n",
       "    </tr>\n",
       "    <tr>\n",
       "      <th>WSH</th>\n",
       "      <td>5</td>\n",
       "      <td>7</td>\n",
       "      <td>5</td>\n",
       "    </tr>\n",
       "    <tr>\n",
       "      <th rowspan=\"2\" valign=\"top\">2</th>\n",
       "      <th>FGE</th>\n",
       "      <td>2</td>\n",
       "      <td>5</td>\n",
       "      <td>2</td>\n",
       "    </tr>\n",
       "    <tr>\n",
       "      <th>WSH</th>\n",
       "      <td>3</td>\n",
       "      <td>7</td>\n",
       "      <td>5</td>\n",
       "    </tr>\n",
       "  </tbody>\n",
       "</table>\n",
       "</div>"
      ],
      "text/plain": [
       "        kw      \n",
       "site_id  a  b  c\n",
       "dt eu           \n",
       "1  FGE   8  3  1\n",
       "   WSH   5  7  5\n",
       "2  FGE   2  5  2\n",
       "   WSH   3  7  5"
      ]
     },
     "execution_count": 83,
     "metadata": {},
     "output_type": "execute_result"
    }
   ],
   "source": [
    "df_wider = df.set_index(['dt','site_id','eu']).unstack('site_id')\n",
    "df_wider"
   ]
  },
  {
   "cell_type": "code",
   "execution_count": 84,
   "id": "f9047e38",
   "metadata": {},
   "outputs": [
    {
     "data": {
      "text/html": [
       "<div>\n",
       "<style scoped>\n",
       "    .dataframe tbody tr th:only-of-type {\n",
       "        vertical-align: middle;\n",
       "    }\n",
       "\n",
       "    .dataframe tbody tr th {\n",
       "        vertical-align: top;\n",
       "    }\n",
       "\n",
       "    .dataframe thead th {\n",
       "        text-align: right;\n",
       "    }\n",
       "</style>\n",
       "<table border=\"1\" class=\"dataframe\">\n",
       "  <thead>\n",
       "    <tr style=\"text-align: right;\">\n",
       "      <th></th>\n",
       "      <th></th>\n",
       "      <th></th>\n",
       "      <th>kw</th>\n",
       "    </tr>\n",
       "    <tr>\n",
       "      <th>dt</th>\n",
       "      <th>eu</th>\n",
       "      <th>site_id</th>\n",
       "      <th></th>\n",
       "    </tr>\n",
       "  </thead>\n",
       "  <tbody>\n",
       "    <tr>\n",
       "      <th rowspan=\"6\" valign=\"top\">1</th>\n",
       "      <th rowspan=\"3\" valign=\"top\">FGE</th>\n",
       "      <th>a</th>\n",
       "      <td>8</td>\n",
       "    </tr>\n",
       "    <tr>\n",
       "      <th>b</th>\n",
       "      <td>3</td>\n",
       "    </tr>\n",
       "    <tr>\n",
       "      <th>c</th>\n",
       "      <td>1</td>\n",
       "    </tr>\n",
       "    <tr>\n",
       "      <th rowspan=\"3\" valign=\"top\">WSH</th>\n",
       "      <th>a</th>\n",
       "      <td>5</td>\n",
       "    </tr>\n",
       "    <tr>\n",
       "      <th>b</th>\n",
       "      <td>7</td>\n",
       "    </tr>\n",
       "    <tr>\n",
       "      <th>c</th>\n",
       "      <td>5</td>\n",
       "    </tr>\n",
       "    <tr>\n",
       "      <th rowspan=\"6\" valign=\"top\">2</th>\n",
       "      <th rowspan=\"3\" valign=\"top\">FGE</th>\n",
       "      <th>a</th>\n",
       "      <td>2</td>\n",
       "    </tr>\n",
       "    <tr>\n",
       "      <th>b</th>\n",
       "      <td>5</td>\n",
       "    </tr>\n",
       "    <tr>\n",
       "      <th>c</th>\n",
       "      <td>2</td>\n",
       "    </tr>\n",
       "    <tr>\n",
       "      <th rowspan=\"3\" valign=\"top\">WSH</th>\n",
       "      <th>a</th>\n",
       "      <td>3</td>\n",
       "    </tr>\n",
       "    <tr>\n",
       "      <th>b</th>\n",
       "      <td>7</td>\n",
       "    </tr>\n",
       "    <tr>\n",
       "      <th>c</th>\n",
       "      <td>5</td>\n",
       "    </tr>\n",
       "  </tbody>\n",
       "</table>\n",
       "</div>"
      ],
      "text/plain": [
       "               kw\n",
       "dt eu  site_id   \n",
       "1  FGE a        8\n",
       "       b        3\n",
       "       c        1\n",
       "   WSH a        5\n",
       "       b        7\n",
       "       c        5\n",
       "2  FGE a        2\n",
       "       b        5\n",
       "       c        2\n",
       "   WSH a        3\n",
       "       b        7\n",
       "       c        5"
      ]
     },
     "execution_count": 84,
     "metadata": {},
     "output_type": "execute_result"
    }
   ],
   "source": [
    "# back to longer\n",
    "df_wider.stack()"
   ]
  },
  {
   "cell_type": "code",
   "execution_count": 85,
   "id": "5404823c",
   "metadata": {},
   "outputs": [
    {
     "data": {
      "text/html": [
       "<div>\n",
       "<style scoped>\n",
       "    .dataframe tbody tr th:only-of-type {\n",
       "        vertical-align: middle;\n",
       "    }\n",
       "\n",
       "    .dataframe tbody tr th {\n",
       "        vertical-align: top;\n",
       "    }\n",
       "\n",
       "    .dataframe thead tr th {\n",
       "        text-align: left;\n",
       "    }\n",
       "\n",
       "    .dataframe thead tr:last-of-type th {\n",
       "        text-align: right;\n",
       "    }\n",
       "</style>\n",
       "<table border=\"1\" class=\"dataframe\">\n",
       "  <thead>\n",
       "    <tr>\n",
       "      <th></th>\n",
       "      <th></th>\n",
       "      <th colspan=\"3\" halign=\"left\">kw</th>\n",
       "    </tr>\n",
       "    <tr>\n",
       "      <th></th>\n",
       "      <th>site_id</th>\n",
       "      <th>a</th>\n",
       "      <th>b</th>\n",
       "      <th>c</th>\n",
       "    </tr>\n",
       "    <tr>\n",
       "      <th>dt</th>\n",
       "      <th>eu</th>\n",
       "      <th></th>\n",
       "      <th></th>\n",
       "      <th></th>\n",
       "    </tr>\n",
       "  </thead>\n",
       "  <tbody>\n",
       "    <tr>\n",
       "      <th rowspan=\"2\" valign=\"top\">1</th>\n",
       "      <th>FGE</th>\n",
       "      <td>8</td>\n",
       "      <td>3</td>\n",
       "      <td>1</td>\n",
       "    </tr>\n",
       "    <tr>\n",
       "      <th>WSH</th>\n",
       "      <td>5</td>\n",
       "      <td>7</td>\n",
       "      <td>5</td>\n",
       "    </tr>\n",
       "    <tr>\n",
       "      <th rowspan=\"2\" valign=\"top\">2</th>\n",
       "      <th>FGE</th>\n",
       "      <td>2</td>\n",
       "      <td>5</td>\n",
       "      <td>2</td>\n",
       "    </tr>\n",
       "    <tr>\n",
       "      <th>WSH</th>\n",
       "      <td>3</td>\n",
       "      <td>7</td>\n",
       "      <td>5</td>\n",
       "    </tr>\n",
       "  </tbody>\n",
       "</table>\n",
       "</div>"
      ],
      "text/plain": [
       "        kw      \n",
       "site_id  a  b  c\n",
       "dt eu           \n",
       "1  FGE   8  3  1\n",
       "   WSH   5  7  5\n",
       "2  FGE   2  5  2\n",
       "   WSH   3  7  5"
      ]
     },
     "execution_count": 85,
     "metadata": {},
     "output_type": "execute_result"
    }
   ],
   "source": [
    "# multi-index select\n",
    "df_wider.loc[:, ['kw']]"
   ]
  },
  {
   "cell_type": "code",
   "execution_count": 86,
   "id": "765031a5",
   "metadata": {},
   "outputs": [
    {
     "data": {
      "text/html": [
       "<div>\n",
       "<style scoped>\n",
       "    .dataframe tbody tr th:only-of-type {\n",
       "        vertical-align: middle;\n",
       "    }\n",
       "\n",
       "    .dataframe tbody tr th {\n",
       "        vertical-align: top;\n",
       "    }\n",
       "\n",
       "    .dataframe thead tr th {\n",
       "        text-align: left;\n",
       "    }\n",
       "\n",
       "    .dataframe thead tr:last-of-type th {\n",
       "        text-align: right;\n",
       "    }\n",
       "</style>\n",
       "<table border=\"1\" class=\"dataframe\">\n",
       "  <thead>\n",
       "    <tr>\n",
       "      <th></th>\n",
       "      <th></th>\n",
       "      <th colspan=\"2\" halign=\"left\">kw</th>\n",
       "    </tr>\n",
       "    <tr>\n",
       "      <th></th>\n",
       "      <th>site_id</th>\n",
       "      <th>a</th>\n",
       "      <th>c</th>\n",
       "    </tr>\n",
       "    <tr>\n",
       "      <th>dt</th>\n",
       "      <th>eu</th>\n",
       "      <th></th>\n",
       "      <th></th>\n",
       "    </tr>\n",
       "  </thead>\n",
       "  <tbody>\n",
       "    <tr>\n",
       "      <th>1</th>\n",
       "      <th>FGE</th>\n",
       "      <td>8</td>\n",
       "      <td>1</td>\n",
       "    </tr>\n",
       "    <tr>\n",
       "      <th>2</th>\n",
       "      <th>FGE</th>\n",
       "      <td>2</td>\n",
       "      <td>2</td>\n",
       "    </tr>\n",
       "  </tbody>\n",
       "</table>\n",
       "</div>"
      ],
      "text/plain": [
       "        kw   \n",
       "site_id  a  c\n",
       "dt eu        \n",
       "1  FGE   8  1\n",
       "2  FGE   2  2"
      ]
     },
     "execution_count": 86,
     "metadata": {},
     "output_type": "execute_result"
    }
   ],
   "source": [
    "# multi-index select; pass tuple\n",
    "df_wider.loc[([1, 2], 'FGE'), ('kw', ['a', 'c'])]"
   ]
  },
  {
   "cell_type": "markdown",
   "id": "2afb51ac",
   "metadata": {},
   "source": [
    "### `pivot_longer()`"
   ]
  },
  {
   "cell_type": "markdown",
   "id": "e1ddfe3e",
   "metadata": {},
   "source": [
    "#### `melt()`"
   ]
  },
  {
   "cell_type": "code",
   "execution_count": 87,
   "id": "e8cd6b21",
   "metadata": {},
   "outputs": [
    {
     "data": {
      "text/html": [
       "<div>\n",
       "<style scoped>\n",
       "    .dataframe tbody tr th:only-of-type {\n",
       "        vertical-align: middle;\n",
       "    }\n",
       "\n",
       "    .dataframe tbody tr th {\n",
       "        vertical-align: top;\n",
       "    }\n",
       "\n",
       "    .dataframe thead th {\n",
       "        text-align: right;\n",
       "    }\n",
       "</style>\n",
       "<table border=\"1\" class=\"dataframe\">\n",
       "  <thead>\n",
       "    <tr style=\"text-align: right;\">\n",
       "      <th></th>\n",
       "      <th>A</th>\n",
       "      <th>B</th>\n",
       "      <th>C</th>\n",
       "    </tr>\n",
       "  </thead>\n",
       "  <tbody>\n",
       "    <tr>\n",
       "      <th>0</th>\n",
       "      <td>a</td>\n",
       "      <td>1</td>\n",
       "      <td>2</td>\n",
       "    </tr>\n",
       "    <tr>\n",
       "      <th>1</th>\n",
       "      <td>b</td>\n",
       "      <td>3</td>\n",
       "      <td>4</td>\n",
       "    </tr>\n",
       "    <tr>\n",
       "      <th>2</th>\n",
       "      <td>c</td>\n",
       "      <td>5</td>\n",
       "      <td>6</td>\n",
       "    </tr>\n",
       "  </tbody>\n",
       "</table>\n",
       "</div>"
      ],
      "text/plain": [
       "   A  B  C\n",
       "0  a  1  2\n",
       "1  b  3  4\n",
       "2  c  5  6"
      ]
     },
     "execution_count": 87,
     "metadata": {},
     "output_type": "execute_result"
    }
   ],
   "source": [
    "df = pd.DataFrame({'A': {0: 'a', 1: 'b', 2: 'c'},\n",
    "                   'B': {0: 1, 1: 3, 2: 5},\n",
    "                   'C': {0: 2, 1: 4, 2: 6}})\n",
    "df"
   ]
  },
  {
   "cell_type": "code",
   "execution_count": 88,
   "id": "146f8e23",
   "metadata": {},
   "outputs": [
    {
     "data": {
      "text/html": [
       "<div>\n",
       "<style scoped>\n",
       "    .dataframe tbody tr th:only-of-type {\n",
       "        vertical-align: middle;\n",
       "    }\n",
       "\n",
       "    .dataframe tbody tr th {\n",
       "        vertical-align: top;\n",
       "    }\n",
       "\n",
       "    .dataframe thead th {\n",
       "        text-align: right;\n",
       "    }\n",
       "</style>\n",
       "<table border=\"1\" class=\"dataframe\">\n",
       "  <thead>\n",
       "    <tr style=\"text-align: right;\">\n",
       "      <th></th>\n",
       "      <th>A</th>\n",
       "      <th>variable</th>\n",
       "      <th>value</th>\n",
       "    </tr>\n",
       "  </thead>\n",
       "  <tbody>\n",
       "    <tr>\n",
       "      <th>0</th>\n",
       "      <td>a</td>\n",
       "      <td>B</td>\n",
       "      <td>1</td>\n",
       "    </tr>\n",
       "    <tr>\n",
       "      <th>1</th>\n",
       "      <td>b</td>\n",
       "      <td>B</td>\n",
       "      <td>3</td>\n",
       "    </tr>\n",
       "    <tr>\n",
       "      <th>2</th>\n",
       "      <td>c</td>\n",
       "      <td>B</td>\n",
       "      <td>5</td>\n",
       "    </tr>\n",
       "    <tr>\n",
       "      <th>3</th>\n",
       "      <td>a</td>\n",
       "      <td>C</td>\n",
       "      <td>2</td>\n",
       "    </tr>\n",
       "    <tr>\n",
       "      <th>4</th>\n",
       "      <td>b</td>\n",
       "      <td>C</td>\n",
       "      <td>4</td>\n",
       "    </tr>\n",
       "    <tr>\n",
       "      <th>5</th>\n",
       "      <td>c</td>\n",
       "      <td>C</td>\n",
       "      <td>6</td>\n",
       "    </tr>\n",
       "  </tbody>\n",
       "</table>\n",
       "</div>"
      ],
      "text/plain": [
       "   A variable  value\n",
       "0  a        B      1\n",
       "1  b        B      3\n",
       "2  c        B      5\n",
       "3  a        C      2\n",
       "4  b        C      4\n",
       "5  c        C      6"
      ]
     },
     "execution_count": 88,
     "metadata": {},
     "output_type": "execute_result"
    }
   ],
   "source": [
    "pd.melt(df, id_vars=['A'], value_vars=['B', 'C'])"
   ]
  },
  {
   "cell_type": "markdown",
   "id": "fbdc23f5",
   "metadata": {},
   "source": [
    "#### `wide_to_long()`"
   ]
  },
  {
   "cell_type": "markdown",
   "id": "a3a16ac1",
   "metadata": {},
   "source": [
    "Another way to transform is to use the wide_to_long() panel data convenience function. It is less flexible than melt(), but more user-friendly.\n",
    "\n",
    "https://pandas.pydata.org/pandas-docs/stable/user_guide/reshaping.html\n",
    "\n",
    "> With stubnames [‘A’, ‘B’], this **function expects to find one or more group of columns with format A-suffix1, A-suffix2,…, B-suffix1, B-suffix2,…** You specify what you want to call this suffix in the resulting long format with j (for example j=’year’)"
   ]
  },
  {
   "cell_type": "code",
   "execution_count": 89,
   "id": "a8c44cbe",
   "metadata": {},
   "outputs": [],
   "source": [
    "df = pd.DataFrame({\"A1970\" : {0 : \"a\", 1 : \"b\", 2 : \"c\"},\n",
    "                   \"A1980\" : {0 : \"d\", 1 : \"e\", 2 : \"f\"},\n",
    "                   \"B1970\" : {0 : 2.5, 1 : 1.2, 2 : .7},\n",
    "                   \"B1980\" : {0 : 3.2, 1 : 1.3, 2 : .1},\n",
    "                   \"X\"     : dict(zip(range(3), np.random.randn(3)))\n",
    "                  })\n",
    "df[\"id\"] = df.index"
   ]
  },
  {
   "cell_type": "code",
   "execution_count": 90,
   "id": "4c7a92f8",
   "metadata": {},
   "outputs": [
    {
     "data": {
      "text/html": [
       "<div>\n",
       "<style scoped>\n",
       "    .dataframe tbody tr th:only-of-type {\n",
       "        vertical-align: middle;\n",
       "    }\n",
       "\n",
       "    .dataframe tbody tr th {\n",
       "        vertical-align: top;\n",
       "    }\n",
       "\n",
       "    .dataframe thead th {\n",
       "        text-align: right;\n",
       "    }\n",
       "</style>\n",
       "<table border=\"1\" class=\"dataframe\">\n",
       "  <thead>\n",
       "    <tr style=\"text-align: right;\">\n",
       "      <th></th>\n",
       "      <th>A1970</th>\n",
       "      <th>A1980</th>\n",
       "      <th>B1970</th>\n",
       "      <th>B1980</th>\n",
       "      <th>X</th>\n",
       "      <th>id</th>\n",
       "    </tr>\n",
       "  </thead>\n",
       "  <tbody>\n",
       "    <tr>\n",
       "      <th>0</th>\n",
       "      <td>a</td>\n",
       "      <td>d</td>\n",
       "      <td>2.5</td>\n",
       "      <td>3.2</td>\n",
       "      <td>-0.010910</td>\n",
       "      <td>0</td>\n",
       "    </tr>\n",
       "    <tr>\n",
       "      <th>1</th>\n",
       "      <td>b</td>\n",
       "      <td>e</td>\n",
       "      <td>1.2</td>\n",
       "      <td>1.3</td>\n",
       "      <td>-0.325152</td>\n",
       "      <td>1</td>\n",
       "    </tr>\n",
       "    <tr>\n",
       "      <th>2</th>\n",
       "      <td>c</td>\n",
       "      <td>f</td>\n",
       "      <td>0.7</td>\n",
       "      <td>0.1</td>\n",
       "      <td>-0.791412</td>\n",
       "      <td>2</td>\n",
       "    </tr>\n",
       "  </tbody>\n",
       "</table>\n",
       "</div>"
      ],
      "text/plain": [
       "  A1970 A1980  B1970  B1980         X  id\n",
       "0     a     d    2.5    3.2 -0.010910   0\n",
       "1     b     e    1.2    1.3 -0.325152   1\n",
       "2     c     f    0.7    0.1 -0.791412   2"
      ]
     },
     "execution_count": 90,
     "metadata": {},
     "output_type": "execute_result"
    }
   ],
   "source": [
    "df"
   ]
  },
  {
   "cell_type": "code",
   "execution_count": 91,
   "id": "24e1488d",
   "metadata": {},
   "outputs": [
    {
     "data": {
      "text/html": [
       "<div>\n",
       "<style scoped>\n",
       "    .dataframe tbody tr th:only-of-type {\n",
       "        vertical-align: middle;\n",
       "    }\n",
       "\n",
       "    .dataframe tbody tr th {\n",
       "        vertical-align: top;\n",
       "    }\n",
       "\n",
       "    .dataframe thead th {\n",
       "        text-align: right;\n",
       "    }\n",
       "</style>\n",
       "<table border=\"1\" class=\"dataframe\">\n",
       "  <thead>\n",
       "    <tr style=\"text-align: right;\">\n",
       "      <th></th>\n",
       "      <th></th>\n",
       "      <th>X</th>\n",
       "      <th>A</th>\n",
       "      <th>B</th>\n",
       "    </tr>\n",
       "    <tr>\n",
       "      <th>id</th>\n",
       "      <th>year</th>\n",
       "      <th></th>\n",
       "      <th></th>\n",
       "      <th></th>\n",
       "    </tr>\n",
       "  </thead>\n",
       "  <tbody>\n",
       "    <tr>\n",
       "      <th>0</th>\n",
       "      <th>1970</th>\n",
       "      <td>-0.010910</td>\n",
       "      <td>a</td>\n",
       "      <td>2.5</td>\n",
       "    </tr>\n",
       "    <tr>\n",
       "      <th>1</th>\n",
       "      <th>1970</th>\n",
       "      <td>-0.325152</td>\n",
       "      <td>b</td>\n",
       "      <td>1.2</td>\n",
       "    </tr>\n",
       "    <tr>\n",
       "      <th>2</th>\n",
       "      <th>1970</th>\n",
       "      <td>-0.791412</td>\n",
       "      <td>c</td>\n",
       "      <td>0.7</td>\n",
       "    </tr>\n",
       "    <tr>\n",
       "      <th>0</th>\n",
       "      <th>1980</th>\n",
       "      <td>-0.010910</td>\n",
       "      <td>d</td>\n",
       "      <td>3.2</td>\n",
       "    </tr>\n",
       "    <tr>\n",
       "      <th>1</th>\n",
       "      <th>1980</th>\n",
       "      <td>-0.325152</td>\n",
       "      <td>e</td>\n",
       "      <td>1.3</td>\n",
       "    </tr>\n",
       "    <tr>\n",
       "      <th>2</th>\n",
       "      <th>1980</th>\n",
       "      <td>-0.791412</td>\n",
       "      <td>f</td>\n",
       "      <td>0.1</td>\n",
       "    </tr>\n",
       "  </tbody>\n",
       "</table>\n",
       "</div>"
      ],
      "text/plain": [
       "                X  A    B\n",
       "id year                  \n",
       "0  1970 -0.010910  a  2.5\n",
       "1  1970 -0.325152  b  1.2\n",
       "2  1970 -0.791412  c  0.7\n",
       "0  1980 -0.010910  d  3.2\n",
       "1  1980 -0.325152  e  1.3\n",
       "2  1980 -0.791412  f  0.1"
      ]
     },
     "execution_count": 91,
     "metadata": {},
     "output_type": "execute_result"
    }
   ],
   "source": [
    "pd.wide_to_long(df, [\"A\", \"B\"], i=\"id\", j=\"year\")"
   ]
  },
  {
   "cell_type": "markdown",
   "id": "a919744a",
   "metadata": {},
   "source": [
    "## Misc"
   ]
  },
  {
   "cell_type": "markdown",
   "id": "458dc57f",
   "metadata": {},
   "source": [
    "### Series.str\n",
    "\n",
    "Series is equipped with a set of string processing methods in the str attribute that make it easy to operate on each element of the array, as in the code snippet below. Note that pattern-matching in str generally uses regular expressions by default (and in some cases always uses them).\n",
    "\n",
    "https://pandas.pydata.org/pandas-docs/stable/user_guide/10min.html"
   ]
  },
  {
   "cell_type": "code",
   "execution_count": 92,
   "id": "c1c4f163",
   "metadata": {},
   "outputs": [
    {
     "data": {
      "text/plain": [
       "0       a\n",
       "1       b\n",
       "2       c\n",
       "3    aaba\n",
       "4    baca\n",
       "5     NaN\n",
       "6    caba\n",
       "7     dog\n",
       "8     cat\n",
       "dtype: object"
      ]
     },
     "execution_count": 92,
     "metadata": {},
     "output_type": "execute_result"
    }
   ],
   "source": [
    "s = pd.Series([\"A\", \"B\", \"C\", \"Aaba\", \"Baca\", np.nan, \"CABA\", \"dog\", \"cat\"])\n",
    "s.str.lower()"
   ]
  },
  {
   "cell_type": "code",
   "execution_count": 93,
   "id": "808bfe80",
   "metadata": {},
   "outputs": [
    {
     "data": {
      "text/plain": [
       "0       A\n",
       "1       B\n",
       "2       C\n",
       "3    Aaba\n",
       "4    Baca\n",
       "5     NaN\n",
       "6    Caba\n",
       "7     Dog\n",
       "8     Cat\n",
       "dtype: object"
      ]
     },
     "execution_count": 93,
     "metadata": {},
     "output_type": "execute_result"
    }
   ],
   "source": [
    "s.str.capitalize()"
   ]
  },
  {
   "cell_type": "markdown",
   "id": "0111fc9b",
   "metadata": {},
   "source": [
    "### Recipes"
   ]
  },
  {
   "cell_type": "markdown",
   "id": "d33b2157",
   "metadata": {},
   "source": [
    "#### Get Top N Rows for Each Group"
   ]
  },
  {
   "cell_type": "code",
   "execution_count": 94,
   "id": "074233b2",
   "metadata": {},
   "outputs": [],
   "source": [
    "df = pd.DataFrame({'site_id': {0: 'a', 1: 'a', 2: 'b', 3: 'b', 4: 'c', 5: 'c',6: 'a', 7: 'a', 8: 'b', 9: 'b', 10: 'c', 11: 'c'},\n",
    "                   'dt': {0: 1, 1: 1, 2: 1, 3: 1, 4: 1, 5: 1,6: 2, 7: 2, 8: 2, 9: 2, 10: 2, 11: 2},\n",
    "                   'eu': {0: 'FGE', 1: 'WSH', 2: 'FGE', 3: 'WSH', 4: 'FGE', 5: 'WSH',6: 'FGE', 7: 'WSH', 8: 'FGE', 9: 'WSH', 10: 'FGE', 11: 'WSH'},\n",
    "                   'kw': {0: '8', 1: '5', 2: '3', 3: '7', 4: '1', 5: '5',6: '2', 7: '3', 8: '5', 9: '7', 10: '2', 11: '5'}})\n",
    "df = df.sort_values(by=['site_id', 'kw'])"
   ]
  },
  {
   "cell_type": "code",
   "execution_count": 95,
   "id": "060278fd",
   "metadata": {},
   "outputs": [
    {
     "data": {
      "text/html": [
       "<div>\n",
       "<style scoped>\n",
       "    .dataframe tbody tr th:only-of-type {\n",
       "        vertical-align: middle;\n",
       "    }\n",
       "\n",
       "    .dataframe tbody tr th {\n",
       "        vertical-align: top;\n",
       "    }\n",
       "\n",
       "    .dataframe thead th {\n",
       "        text-align: right;\n",
       "    }\n",
       "</style>\n",
       "<table border=\"1\" class=\"dataframe\">\n",
       "  <thead>\n",
       "    <tr style=\"text-align: right;\">\n",
       "      <th></th>\n",
       "      <th>site_id</th>\n",
       "      <th>dt</th>\n",
       "      <th>eu</th>\n",
       "      <th>kw</th>\n",
       "    </tr>\n",
       "  </thead>\n",
       "  <tbody>\n",
       "    <tr>\n",
       "      <th>6</th>\n",
       "      <td>a</td>\n",
       "      <td>2</td>\n",
       "      <td>FGE</td>\n",
       "      <td>2</td>\n",
       "    </tr>\n",
       "    <tr>\n",
       "      <th>7</th>\n",
       "      <td>a</td>\n",
       "      <td>2</td>\n",
       "      <td>WSH</td>\n",
       "      <td>3</td>\n",
       "    </tr>\n",
       "    <tr>\n",
       "      <th>1</th>\n",
       "      <td>a</td>\n",
       "      <td>1</td>\n",
       "      <td>WSH</td>\n",
       "      <td>5</td>\n",
       "    </tr>\n",
       "    <tr>\n",
       "      <th>0</th>\n",
       "      <td>a</td>\n",
       "      <td>1</td>\n",
       "      <td>FGE</td>\n",
       "      <td>8</td>\n",
       "    </tr>\n",
       "    <tr>\n",
       "      <th>2</th>\n",
       "      <td>b</td>\n",
       "      <td>1</td>\n",
       "      <td>FGE</td>\n",
       "      <td>3</td>\n",
       "    </tr>\n",
       "    <tr>\n",
       "      <th>8</th>\n",
       "      <td>b</td>\n",
       "      <td>2</td>\n",
       "      <td>FGE</td>\n",
       "      <td>5</td>\n",
       "    </tr>\n",
       "    <tr>\n",
       "      <th>3</th>\n",
       "      <td>b</td>\n",
       "      <td>1</td>\n",
       "      <td>WSH</td>\n",
       "      <td>7</td>\n",
       "    </tr>\n",
       "    <tr>\n",
       "      <th>9</th>\n",
       "      <td>b</td>\n",
       "      <td>2</td>\n",
       "      <td>WSH</td>\n",
       "      <td>7</td>\n",
       "    </tr>\n",
       "    <tr>\n",
       "      <th>4</th>\n",
       "      <td>c</td>\n",
       "      <td>1</td>\n",
       "      <td>FGE</td>\n",
       "      <td>1</td>\n",
       "    </tr>\n",
       "    <tr>\n",
       "      <th>10</th>\n",
       "      <td>c</td>\n",
       "      <td>2</td>\n",
       "      <td>FGE</td>\n",
       "      <td>2</td>\n",
       "    </tr>\n",
       "    <tr>\n",
       "      <th>5</th>\n",
       "      <td>c</td>\n",
       "      <td>1</td>\n",
       "      <td>WSH</td>\n",
       "      <td>5</td>\n",
       "    </tr>\n",
       "    <tr>\n",
       "      <th>11</th>\n",
       "      <td>c</td>\n",
       "      <td>2</td>\n",
       "      <td>WSH</td>\n",
       "      <td>5</td>\n",
       "    </tr>\n",
       "  </tbody>\n",
       "</table>\n",
       "</div>"
      ],
      "text/plain": [
       "   site_id  dt   eu kw\n",
       "6        a   2  FGE  2\n",
       "7        a   2  WSH  3\n",
       "1        a   1  WSH  5\n",
       "0        a   1  FGE  8\n",
       "2        b   1  FGE  3\n",
       "8        b   2  FGE  5\n",
       "3        b   1  WSH  7\n",
       "9        b   2  WSH  7\n",
       "4        c   1  FGE  1\n",
       "10       c   2  FGE  2\n",
       "5        c   1  WSH  5\n",
       "11       c   2  WSH  5"
      ]
     },
     "execution_count": 95,
     "metadata": {},
     "output_type": "execute_result"
    }
   ],
   "source": [
    "df"
   ]
  },
  {
   "cell_type": "code",
   "execution_count": 96,
   "id": "c94017e5",
   "metadata": {},
   "outputs": [
    {
     "data": {
      "text/html": [
       "<div>\n",
       "<style scoped>\n",
       "    .dataframe tbody tr th:only-of-type {\n",
       "        vertical-align: middle;\n",
       "    }\n",
       "\n",
       "    .dataframe tbody tr th {\n",
       "        vertical-align: top;\n",
       "    }\n",
       "\n",
       "    .dataframe thead th {\n",
       "        text-align: right;\n",
       "    }\n",
       "</style>\n",
       "<table border=\"1\" class=\"dataframe\">\n",
       "  <thead>\n",
       "    <tr style=\"text-align: right;\">\n",
       "      <th></th>\n",
       "      <th>site_id</th>\n",
       "      <th>dt</th>\n",
       "      <th>eu</th>\n",
       "      <th>kw</th>\n",
       "    </tr>\n",
       "  </thead>\n",
       "  <tbody>\n",
       "    <tr>\n",
       "      <th>9</th>\n",
       "      <td>b</td>\n",
       "      <td>2</td>\n",
       "      <td>WSH</td>\n",
       "      <td>7</td>\n",
       "    </tr>\n",
       "    <tr>\n",
       "      <th>0</th>\n",
       "      <td>a</td>\n",
       "      <td>1</td>\n",
       "      <td>FGE</td>\n",
       "      <td>8</td>\n",
       "    </tr>\n",
       "  </tbody>\n",
       "</table>\n",
       "</div>"
      ],
      "text/plain": [
       "  site_id  dt   eu kw\n",
       "9       b   2  WSH  7\n",
       "0       a   1  FGE  8"
      ]
     },
     "execution_count": 96,
     "metadata": {},
     "output_type": "execute_result"
    }
   ],
   "source": [
    "def top_n(df, n, column):\n",
    "    return df.sort_values(by=column)[-n:]\n",
    "\n",
    "top_n(df, n=2, column='kw')"
   ]
  },
  {
   "cell_type": "code",
   "execution_count": 97,
   "id": "28137e74",
   "metadata": {},
   "outputs": [
    {
     "data": {
      "text/html": [
       "<div>\n",
       "<style scoped>\n",
       "    .dataframe tbody tr th:only-of-type {\n",
       "        vertical-align: middle;\n",
       "    }\n",
       "\n",
       "    .dataframe tbody tr th {\n",
       "        vertical-align: top;\n",
       "    }\n",
       "\n",
       "    .dataframe thead th {\n",
       "        text-align: right;\n",
       "    }\n",
       "</style>\n",
       "<table border=\"1\" class=\"dataframe\">\n",
       "  <thead>\n",
       "    <tr style=\"text-align: right;\">\n",
       "      <th></th>\n",
       "      <th></th>\n",
       "      <th>site_id</th>\n",
       "      <th>dt</th>\n",
       "      <th>eu</th>\n",
       "      <th>kw</th>\n",
       "    </tr>\n",
       "    <tr>\n",
       "      <th>site_id</th>\n",
       "      <th></th>\n",
       "      <th></th>\n",
       "      <th></th>\n",
       "      <th></th>\n",
       "      <th></th>\n",
       "    </tr>\n",
       "  </thead>\n",
       "  <tbody>\n",
       "    <tr>\n",
       "      <th rowspan=\"2\" valign=\"top\">a</th>\n",
       "      <th>1</th>\n",
       "      <td>a</td>\n",
       "      <td>1</td>\n",
       "      <td>WSH</td>\n",
       "      <td>5</td>\n",
       "    </tr>\n",
       "    <tr>\n",
       "      <th>0</th>\n",
       "      <td>a</td>\n",
       "      <td>1</td>\n",
       "      <td>FGE</td>\n",
       "      <td>8</td>\n",
       "    </tr>\n",
       "    <tr>\n",
       "      <th rowspan=\"2\" valign=\"top\">b</th>\n",
       "      <th>3</th>\n",
       "      <td>b</td>\n",
       "      <td>1</td>\n",
       "      <td>WSH</td>\n",
       "      <td>7</td>\n",
       "    </tr>\n",
       "    <tr>\n",
       "      <th>9</th>\n",
       "      <td>b</td>\n",
       "      <td>2</td>\n",
       "      <td>WSH</td>\n",
       "      <td>7</td>\n",
       "    </tr>\n",
       "    <tr>\n",
       "      <th rowspan=\"2\" valign=\"top\">c</th>\n",
       "      <th>5</th>\n",
       "      <td>c</td>\n",
       "      <td>1</td>\n",
       "      <td>WSH</td>\n",
       "      <td>5</td>\n",
       "    </tr>\n",
       "    <tr>\n",
       "      <th>11</th>\n",
       "      <td>c</td>\n",
       "      <td>2</td>\n",
       "      <td>WSH</td>\n",
       "      <td>5</td>\n",
       "    </tr>\n",
       "  </tbody>\n",
       "</table>\n",
       "</div>"
      ],
      "text/plain": [
       "           site_id  dt   eu kw\n",
       "site_id                       \n",
       "a       1        a   1  WSH  5\n",
       "        0        a   1  FGE  8\n",
       "b       3        b   1  WSH  7\n",
       "        9        b   2  WSH  7\n",
       "c       5        c   1  WSH  5\n",
       "        11       c   2  WSH  5"
      ]
     },
     "execution_count": 97,
     "metadata": {},
     "output_type": "execute_result"
    }
   ],
   "source": [
    "df.groupby('site_id').apply(top_n, n=2, column='kw')"
   ]
  },
  {
   "cell_type": "markdown",
   "id": "c42cafe5",
   "metadata": {},
   "source": [
    "## Performance"
   ]
  },
  {
   "cell_type": "markdown",
   "id": "423d0ae3",
   "metadata": {},
   "source": [
    "Accelerated operations\n",
    "\n",
    "https://pandas.pydata.org/pandas-docs/stable/user_guide/basics.html#accelerated-operations\n",
    "\n",
    "\n",
    "pandas has support for accelerating certain types of binary numerical and boolean operations using the numexpr library and the bottleneck libraries.\n",
    "\n",
    "These libraries are especially useful when dealing with large data sets, and provide large speedups. numexpr uses smart chunking, caching, and multiple cores. bottleneck is a set of specialized cython routines that are especially fast when dealing with arrays that have nans.\n",
    "\n",
    "Here is a sample (using 100 column x 100,000 row DataFrames):\n",
    "\n",
    "Operation\n",
    "0.11.0 (ms)\n",
    "Prior Version (ms)\n",
    "Ratio to Prior\n",
    "df1 > df2\n",
    "13.32\n",
    "125.35\n",
    "0.1063\n",
    "df1 * df2\n",
    "21.71\n",
    "36.63\n",
    "0.5928\n",
    "df1 + df2\n",
    "22.04\n",
    "36.50\n",
    "0.6039\n",
    "\n",
    "**You are highly encouraged to install both libraries**. See the section Recommended Dependencies for more installation info.\n",
    "\n",
    "These are both enabled to be used by default, you can control this by setting the options:\n",
    "\n",
    "```\n",
    "pd.set_option(\"compute.use_bottleneck\", False)\n",
    "pd.set_option(\"compute.use_numexpr\", False)\n",
    "```"
   ]
  },
  {
   "cell_type": "markdown",
   "id": "545ba688",
   "metadata": {},
   "source": [
    "# Dates & Times"
   ]
  },
  {
   "cell_type": "markdown",
   "id": "5d8f8d76",
   "metadata": {},
   "source": [
    "## `parse()`"
   ]
  },
  {
   "cell_type": "code",
   "execution_count": 98,
   "id": "bedf311c",
   "metadata": {},
   "outputs": [
    {
     "data": {
      "text/plain": [
       "datetime.datetime(2021, 8, 14, 0, 0)"
      ]
     },
     "execution_count": 98,
     "metadata": {},
     "output_type": "execute_result"
    }
   ],
   "source": [
    "from dateutil.parser import parse\n",
    "parse('2021-08-14')"
   ]
  },
  {
   "cell_type": "code",
   "execution_count": 99,
   "id": "4709accd",
   "metadata": {},
   "outputs": [
    {
     "data": {
      "text/plain": [
       "datetime.datetime(2021, 8, 14, 23, 59, 58)"
      ]
     },
     "execution_count": 99,
     "metadata": {},
     "output_type": "execute_result"
    }
   ],
   "source": [
    "parse('2021-08-14 23:59:58')"
   ]
  },
  {
   "cell_type": "code",
   "execution_count": 100,
   "id": "de939fab",
   "metadata": {},
   "outputs": [
    {
     "data": {
      "text/plain": [
       "[datetime.datetime(2021, 8, 14, 0, 0),\n",
       " datetime.datetime(2021, 8, 15, 0, 0),\n",
       " datetime.datetime(2021, 8, 16, 0, 0),\n",
       " datetime.datetime(2021, 8, 16, 0, 0),\n",
       " datetime.datetime(2021, 9, 1, 0, 0),\n",
       " datetime.datetime(2022, 1, 1, 0, 0)]"
      ]
     },
     "execution_count": 100,
     "metadata": {},
     "output_type": "execute_result"
    }
   ],
   "source": [
    "dates = [parse('2021-08-14'), parse('2021-08-15'), parse('2021-08-16'), parse('2021-08-16'),\n",
    "         parse('2021-09-01'), parse('2022-01-01')]\n",
    "dates"
   ]
  },
  {
   "cell_type": "code",
   "execution_count": 101,
   "id": "d2a9ea56",
   "metadata": {},
   "outputs": [
    {
     "data": {
      "text/html": [
       "<div>\n",
       "<style scoped>\n",
       "    .dataframe tbody tr th:only-of-type {\n",
       "        vertical-align: middle;\n",
       "    }\n",
       "\n",
       "    .dataframe tbody tr th {\n",
       "        vertical-align: top;\n",
       "    }\n",
       "\n",
       "    .dataframe thead th {\n",
       "        text-align: right;\n",
       "    }\n",
       "</style>\n",
       "<table border=\"1\" class=\"dataframe\">\n",
       "  <thead>\n",
       "    <tr style=\"text-align: right;\">\n",
       "      <th></th>\n",
       "      <th>value</th>\n",
       "    </tr>\n",
       "  </thead>\n",
       "  <tbody>\n",
       "    <tr>\n",
       "      <th>2021-08-14</th>\n",
       "      <td>1.0</td>\n",
       "    </tr>\n",
       "    <tr>\n",
       "      <th>2021-08-15</th>\n",
       "      <td>2.0</td>\n",
       "    </tr>\n",
       "    <tr>\n",
       "      <th>2021-08-16</th>\n",
       "      <td>3.0</td>\n",
       "    </tr>\n",
       "    <tr>\n",
       "      <th>2021-08-16</th>\n",
       "      <td>3.1</td>\n",
       "    </tr>\n",
       "    <tr>\n",
       "      <th>2021-09-01</th>\n",
       "      <td>4.0</td>\n",
       "    </tr>\n",
       "    <tr>\n",
       "      <th>2022-01-01</th>\n",
       "      <td>5.0</td>\n",
       "    </tr>\n",
       "  </tbody>\n",
       "</table>\n",
       "</div>"
      ],
      "text/plain": [
       "            value\n",
       "2021-08-14    1.0\n",
       "2021-08-15    2.0\n",
       "2021-08-16    3.0\n",
       "2021-08-16    3.1\n",
       "2021-09-01    4.0\n",
       "2022-01-01    5.0"
      ]
     },
     "execution_count": 101,
     "metadata": {},
     "output_type": "execute_result"
    }
   ],
   "source": [
    "df = pd.DataFrame({'value': [1, 2, 3, 3.1, 4, 5]}, index=dates)\n",
    "df"
   ]
  },
  {
   "cell_type": "code",
   "execution_count": 102,
   "id": "0f055eb5",
   "metadata": {},
   "outputs": [
    {
     "data": {
      "text/plain": [
       "False"
      ]
     },
     "execution_count": 102,
     "metadata": {},
     "output_type": "execute_result"
    }
   ],
   "source": [
    "df.index.is_unique"
   ]
  },
  {
   "cell_type": "code",
   "execution_count": 103,
   "id": "15f119a4",
   "metadata": {},
   "outputs": [
    {
     "data": {
      "text/plain": [
       "value    2.0\n",
       "Name: 2021-08-15 00:00:00, dtype: float64"
      ]
     },
     "execution_count": 103,
     "metadata": {},
     "output_type": "execute_result"
    }
   ],
   "source": [
    "df.loc['2021-08-15']"
   ]
  },
  {
   "cell_type": "code",
   "execution_count": 104,
   "id": "61dde608",
   "metadata": {},
   "outputs": [
    {
     "data": {
      "text/plain": [
       "value    2.0\n",
       "Name: 2021-08-15 00:00:00, dtype: float64"
      ]
     },
     "execution_count": 104,
     "metadata": {},
     "output_type": "execute_result"
    }
   ],
   "source": [
    "df.loc['20210815']"
   ]
  },
  {
   "cell_type": "code",
   "execution_count": 105,
   "id": "46c3d663",
   "metadata": {},
   "outputs": [
    {
     "data": {
      "text/plain": [
       "value    2.0\n",
       "Name: 2021-08-15 00:00:00, dtype: float64"
      ]
     },
     "execution_count": 105,
     "metadata": {},
     "output_type": "execute_result"
    }
   ],
   "source": [
    "df.loc[dates[1]]"
   ]
  },
  {
   "cell_type": "code",
   "execution_count": 106,
   "id": "ccaeb556",
   "metadata": {},
   "outputs": [
    {
     "data": {
      "text/html": [
       "<div>\n",
       "<style scoped>\n",
       "    .dataframe tbody tr th:only-of-type {\n",
       "        vertical-align: middle;\n",
       "    }\n",
       "\n",
       "    .dataframe tbody tr th {\n",
       "        vertical-align: top;\n",
       "    }\n",
       "\n",
       "    .dataframe thead th {\n",
       "        text-align: right;\n",
       "    }\n",
       "</style>\n",
       "<table border=\"1\" class=\"dataframe\">\n",
       "  <thead>\n",
       "    <tr style=\"text-align: right;\">\n",
       "      <th></th>\n",
       "      <th>value</th>\n",
       "    </tr>\n",
       "  </thead>\n",
       "  <tbody>\n",
       "    <tr>\n",
       "      <th>2021-08-14</th>\n",
       "      <td>1.0</td>\n",
       "    </tr>\n",
       "    <tr>\n",
       "      <th>2021-08-15</th>\n",
       "      <td>2.0</td>\n",
       "    </tr>\n",
       "    <tr>\n",
       "      <th>2021-08-16</th>\n",
       "      <td>3.0</td>\n",
       "    </tr>\n",
       "    <tr>\n",
       "      <th>2021-08-16</th>\n",
       "      <td>3.1</td>\n",
       "    </tr>\n",
       "    <tr>\n",
       "      <th>2021-09-01</th>\n",
       "      <td>4.0</td>\n",
       "    </tr>\n",
       "  </tbody>\n",
       "</table>\n",
       "</div>"
      ],
      "text/plain": [
       "            value\n",
       "2021-08-14    1.0\n",
       "2021-08-15    2.0\n",
       "2021-08-16    3.0\n",
       "2021-08-16    3.1\n",
       "2021-09-01    4.0"
      ]
     },
     "execution_count": 106,
     "metadata": {},
     "output_type": "execute_result"
    }
   ],
   "source": [
    "df.loc['2021']"
   ]
  },
  {
   "cell_type": "code",
   "execution_count": 107,
   "id": "a9800595",
   "metadata": {},
   "outputs": [],
   "source": [
    "df.get('2020')"
   ]
  },
  {
   "cell_type": "code",
   "execution_count": 108,
   "id": "802743b4",
   "metadata": {},
   "outputs": [
    {
     "name": "stderr",
     "output_type": "stream",
     "text": [
      "/Users/shanekercheval/opt/anaconda3/envs/python-examples/lib/python3.9/site-packages/pandas/core/generic.py:3996: FutureWarning: Indexing a DataFrame with a datetimelike index using a single string to slice the rows, like `frame[string]`, is deprecated and will be removed in a future version. Use `frame.loc[string]` instead.\n",
      "  return self[key]\n"
     ]
    },
    {
     "data": {
      "text/html": [
       "<div>\n",
       "<style scoped>\n",
       "    .dataframe tbody tr th:only-of-type {\n",
       "        vertical-align: middle;\n",
       "    }\n",
       "\n",
       "    .dataframe tbody tr th {\n",
       "        vertical-align: top;\n",
       "    }\n",
       "\n",
       "    .dataframe thead th {\n",
       "        text-align: right;\n",
       "    }\n",
       "</style>\n",
       "<table border=\"1\" class=\"dataframe\">\n",
       "  <thead>\n",
       "    <tr style=\"text-align: right;\">\n",
       "      <th></th>\n",
       "      <th>value</th>\n",
       "    </tr>\n",
       "  </thead>\n",
       "  <tbody>\n",
       "    <tr>\n",
       "      <th>2021-08-14</th>\n",
       "      <td>1.0</td>\n",
       "    </tr>\n",
       "    <tr>\n",
       "      <th>2021-08-15</th>\n",
       "      <td>2.0</td>\n",
       "    </tr>\n",
       "    <tr>\n",
       "      <th>2021-08-16</th>\n",
       "      <td>3.0</td>\n",
       "    </tr>\n",
       "    <tr>\n",
       "      <th>2021-08-16</th>\n",
       "      <td>3.1</td>\n",
       "    </tr>\n",
       "    <tr>\n",
       "      <th>2021-09-01</th>\n",
       "      <td>4.0</td>\n",
       "    </tr>\n",
       "  </tbody>\n",
       "</table>\n",
       "</div>"
      ],
      "text/plain": [
       "            value\n",
       "2021-08-14    1.0\n",
       "2021-08-15    2.0\n",
       "2021-08-16    3.0\n",
       "2021-08-16    3.1\n",
       "2021-09-01    4.0"
      ]
     },
     "execution_count": 108,
     "metadata": {},
     "output_type": "execute_result"
    }
   ],
   "source": [
    "df.get('2021')"
   ]
  },
  {
   "cell_type": "code",
   "execution_count": 109,
   "id": "619079ea",
   "metadata": {},
   "outputs": [
    {
     "name": "stderr",
     "output_type": "stream",
     "text": [
      "/Users/shanekercheval/opt/anaconda3/envs/python-examples/lib/python3.9/site-packages/pandas/core/generic.py:3996: FutureWarning: Indexing a DataFrame with a datetimelike index using a single string to slice the rows, like `frame[string]`, is deprecated and will be removed in a future version. Use `frame.loc[string]` instead.\n",
      "  return self[key]\n"
     ]
    },
    {
     "data": {
      "text/html": [
       "<div>\n",
       "<style scoped>\n",
       "    .dataframe tbody tr th:only-of-type {\n",
       "        vertical-align: middle;\n",
       "    }\n",
       "\n",
       "    .dataframe tbody tr th {\n",
       "        vertical-align: top;\n",
       "    }\n",
       "\n",
       "    .dataframe thead th {\n",
       "        text-align: right;\n",
       "    }\n",
       "</style>\n",
       "<table border=\"1\" class=\"dataframe\">\n",
       "  <thead>\n",
       "    <tr style=\"text-align: right;\">\n",
       "      <th></th>\n",
       "      <th>value</th>\n",
       "    </tr>\n",
       "  </thead>\n",
       "  <tbody>\n",
       "    <tr>\n",
       "      <th>2021-08-14</th>\n",
       "      <td>1.0</td>\n",
       "    </tr>\n",
       "    <tr>\n",
       "      <th>2021-08-15</th>\n",
       "      <td>2.0</td>\n",
       "    </tr>\n",
       "    <tr>\n",
       "      <th>2021-08-16</th>\n",
       "      <td>3.0</td>\n",
       "    </tr>\n",
       "    <tr>\n",
       "      <th>2021-08-16</th>\n",
       "      <td>3.1</td>\n",
       "    </tr>\n",
       "  </tbody>\n",
       "</table>\n",
       "</div>"
      ],
      "text/plain": [
       "            value\n",
       "2021-08-14    1.0\n",
       "2021-08-15    2.0\n",
       "2021-08-16    3.0\n",
       "2021-08-16    3.1"
      ]
     },
     "execution_count": 109,
     "metadata": {},
     "output_type": "execute_result"
    }
   ],
   "source": [
    "df.get('2021-08')"
   ]
  },
  {
   "cell_type": "code",
   "execution_count": 110,
   "id": "e6a2ed82",
   "metadata": {},
   "outputs": [
    {
     "name": "stderr",
     "output_type": "stream",
     "text": [
      "/Users/shanekercheval/opt/anaconda3/envs/python-examples/lib/python3.9/site-packages/pandas/core/generic.py:3996: FutureWarning: Indexing a DataFrame with a datetimelike index using a single string to slice the rows, like `frame[string]`, is deprecated and will be removed in a future version. Use `frame.loc[string]` instead.\n",
      "  return self[key]\n"
     ]
    },
    {
     "data": {
      "text/html": [
       "<div>\n",
       "<style scoped>\n",
       "    .dataframe tbody tr th:only-of-type {\n",
       "        vertical-align: middle;\n",
       "    }\n",
       "\n",
       "    .dataframe tbody tr th {\n",
       "        vertical-align: top;\n",
       "    }\n",
       "\n",
       "    .dataframe thead th {\n",
       "        text-align: right;\n",
       "    }\n",
       "</style>\n",
       "<table border=\"1\" class=\"dataframe\">\n",
       "  <thead>\n",
       "    <tr style=\"text-align: right;\">\n",
       "      <th></th>\n",
       "      <th>value</th>\n",
       "    </tr>\n",
       "  </thead>\n",
       "  <tbody>\n",
       "    <tr>\n",
       "      <th>2022-01-01</th>\n",
       "      <td>5.0</td>\n",
       "    </tr>\n",
       "  </tbody>\n",
       "</table>\n",
       "</div>"
      ],
      "text/plain": [
       "            value\n",
       "2022-01-01    5.0"
      ]
     },
     "execution_count": 110,
     "metadata": {},
     "output_type": "execute_result"
    }
   ],
   "source": [
    "df.get('2022')"
   ]
  },
  {
   "cell_type": "code",
   "execution_count": 111,
   "id": "5de2f38c",
   "metadata": {},
   "outputs": [
    {
     "data": {
      "text/html": [
       "<div>\n",
       "<style scoped>\n",
       "    .dataframe tbody tr th:only-of-type {\n",
       "        vertical-align: middle;\n",
       "    }\n",
       "\n",
       "    .dataframe tbody tr th {\n",
       "        vertical-align: top;\n",
       "    }\n",
       "\n",
       "    .dataframe thead th {\n",
       "        text-align: right;\n",
       "    }\n",
       "</style>\n",
       "<table border=\"1\" class=\"dataframe\">\n",
       "  <thead>\n",
       "    <tr style=\"text-align: right;\">\n",
       "      <th></th>\n",
       "      <th>value</th>\n",
       "    </tr>\n",
       "  </thead>\n",
       "  <tbody>\n",
       "    <tr>\n",
       "      <th>2021-08-16</th>\n",
       "      <td>3.0</td>\n",
       "    </tr>\n",
       "    <tr>\n",
       "      <th>2021-08-16</th>\n",
       "      <td>3.1</td>\n",
       "    </tr>\n",
       "  </tbody>\n",
       "</table>\n",
       "</div>"
      ],
      "text/plain": [
       "            value\n",
       "2021-08-16    3.0\n",
       "2021-08-16    3.1"
      ]
     },
     "execution_count": 111,
     "metadata": {},
     "output_type": "execute_result"
    }
   ],
   "source": [
    "df.loc['2021-08-16']"
   ]
  },
  {
   "cell_type": "code",
   "execution_count": 112,
   "id": "981e6cb4",
   "metadata": {},
   "outputs": [],
   "source": [
    "df.get('2023')"
   ]
  },
  {
   "cell_type": "code",
   "execution_count": 113,
   "id": "89830861",
   "metadata": {},
   "outputs": [
    {
     "data": {
      "text/html": [
       "<div>\n",
       "<style scoped>\n",
       "    .dataframe tbody tr th:only-of-type {\n",
       "        vertical-align: middle;\n",
       "    }\n",
       "\n",
       "    .dataframe tbody tr th {\n",
       "        vertical-align: top;\n",
       "    }\n",
       "\n",
       "    .dataframe thead th {\n",
       "        text-align: right;\n",
       "    }\n",
       "</style>\n",
       "<table border=\"1\" class=\"dataframe\">\n",
       "  <thead>\n",
       "    <tr style=\"text-align: right;\">\n",
       "      <th></th>\n",
       "      <th>value</th>\n",
       "    </tr>\n",
       "  </thead>\n",
       "  <tbody>\n",
       "    <tr>\n",
       "      <th>2021-08-14</th>\n",
       "      <td>1.0</td>\n",
       "    </tr>\n",
       "    <tr>\n",
       "      <th>2021-08-15</th>\n",
       "      <td>2.0</td>\n",
       "    </tr>\n",
       "    <tr>\n",
       "      <th>2021-08-16</th>\n",
       "      <td>3.0</td>\n",
       "    </tr>\n",
       "    <tr>\n",
       "      <th>2021-08-16</th>\n",
       "      <td>3.1</td>\n",
       "    </tr>\n",
       "    <tr>\n",
       "      <th>2021-09-01</th>\n",
       "      <td>4.0</td>\n",
       "    </tr>\n",
       "  </tbody>\n",
       "</table>\n",
       "</div>"
      ],
      "text/plain": [
       "            value\n",
       "2021-08-14    1.0\n",
       "2021-08-15    2.0\n",
       "2021-08-16    3.0\n",
       "2021-08-16    3.1\n",
       "2021-09-01    4.0"
      ]
     },
     "execution_count": 113,
     "metadata": {},
     "output_type": "execute_result"
    }
   ],
   "source": [
    "# if ordered chronologically, you can slice with timestamp range\n",
    "df['2021-08': '2021-09']"
   ]
  },
  {
   "cell_type": "code",
   "execution_count": 114,
   "id": "334877b1",
   "metadata": {},
   "outputs": [
    {
     "data": {
      "text/html": [
       "<div>\n",
       "<style scoped>\n",
       "    .dataframe tbody tr th:only-of-type {\n",
       "        vertical-align: middle;\n",
       "    }\n",
       "\n",
       "    .dataframe tbody tr th {\n",
       "        vertical-align: top;\n",
       "    }\n",
       "\n",
       "    .dataframe thead th {\n",
       "        text-align: right;\n",
       "    }\n",
       "</style>\n",
       "<table border=\"1\" class=\"dataframe\">\n",
       "  <thead>\n",
       "    <tr style=\"text-align: right;\">\n",
       "      <th></th>\n",
       "      <th>value</th>\n",
       "    </tr>\n",
       "  </thead>\n",
       "  <tbody>\n",
       "    <tr>\n",
       "      <th>2021-08-14</th>\n",
       "      <td>1.0</td>\n",
       "    </tr>\n",
       "    <tr>\n",
       "      <th>2021-08-15</th>\n",
       "      <td>2.0</td>\n",
       "    </tr>\n",
       "    <tr>\n",
       "      <th>2021-08-16</th>\n",
       "      <td>3.0</td>\n",
       "    </tr>\n",
       "    <tr>\n",
       "      <th>2021-08-16</th>\n",
       "      <td>3.1</td>\n",
       "    </tr>\n",
       "    <tr>\n",
       "      <th>2021-09-01</th>\n",
       "      <td>4.0</td>\n",
       "    </tr>\n",
       "  </tbody>\n",
       "</table>\n",
       "</div>"
      ],
      "text/plain": [
       "            value\n",
       "2021-08-14    1.0\n",
       "2021-08-15    2.0\n",
       "2021-08-16    3.0\n",
       "2021-08-16    3.1\n",
       "2021-09-01    4.0"
      ]
     },
     "execution_count": 114,
     "metadata": {},
     "output_type": "execute_result"
    }
   ],
   "source": [
    "df.truncate(after='2021-09')"
   ]
  },
  {
   "cell_type": "code",
   "execution_count": 115,
   "id": "c369d87b",
   "metadata": {},
   "outputs": [
    {
     "data": {
      "text/html": [
       "<div>\n",
       "<style scoped>\n",
       "    .dataframe tbody tr th:only-of-type {\n",
       "        vertical-align: middle;\n",
       "    }\n",
       "\n",
       "    .dataframe tbody tr th {\n",
       "        vertical-align: top;\n",
       "    }\n",
       "\n",
       "    .dataframe thead th {\n",
       "        text-align: right;\n",
       "    }\n",
       "</style>\n",
       "<table border=\"1\" class=\"dataframe\">\n",
       "  <thead>\n",
       "    <tr style=\"text-align: right;\">\n",
       "      <th></th>\n",
       "      <th>value</th>\n",
       "    </tr>\n",
       "  </thead>\n",
       "  <tbody>\n",
       "    <tr>\n",
       "      <th>2021-09-01</th>\n",
       "      <td>4.0</td>\n",
       "    </tr>\n",
       "    <tr>\n",
       "      <th>2022-01-01</th>\n",
       "      <td>5.0</td>\n",
       "    </tr>\n",
       "  </tbody>\n",
       "</table>\n",
       "</div>"
      ],
      "text/plain": [
       "            value\n",
       "2021-09-01    4.0\n",
       "2022-01-01    5.0"
      ]
     },
     "execution_count": 115,
     "metadata": {},
     "output_type": "execute_result"
    }
   ],
   "source": [
    "df.truncate(before='2021-09')"
   ]
  },
  {
   "cell_type": "code",
   "execution_count": 116,
   "id": "73f49ac0",
   "metadata": {},
   "outputs": [
    {
     "data": {
      "text/html": [
       "<div>\n",
       "<style scoped>\n",
       "    .dataframe tbody tr th:only-of-type {\n",
       "        vertical-align: middle;\n",
       "    }\n",
       "\n",
       "    .dataframe tbody tr th {\n",
       "        vertical-align: top;\n",
       "    }\n",
       "\n",
       "    .dataframe thead th {\n",
       "        text-align: right;\n",
       "    }\n",
       "</style>\n",
       "<table border=\"1\" class=\"dataframe\">\n",
       "  <thead>\n",
       "    <tr style=\"text-align: right;\">\n",
       "      <th></th>\n",
       "      <th>value</th>\n",
       "    </tr>\n",
       "  </thead>\n",
       "  <tbody>\n",
       "    <tr>\n",
       "      <th>2021-08-14</th>\n",
       "      <td>1</td>\n",
       "    </tr>\n",
       "    <tr>\n",
       "      <th>2021-08-15</th>\n",
       "      <td>1</td>\n",
       "    </tr>\n",
       "    <tr>\n",
       "      <th>2021-08-16</th>\n",
       "      <td>2</td>\n",
       "    </tr>\n",
       "    <tr>\n",
       "      <th>2021-09-01</th>\n",
       "      <td>1</td>\n",
       "    </tr>\n",
       "    <tr>\n",
       "      <th>2022-01-01</th>\n",
       "      <td>1</td>\n",
       "    </tr>\n",
       "  </tbody>\n",
       "</table>\n",
       "</div>"
      ],
      "text/plain": [
       "            value\n",
       "2021-08-14      1\n",
       "2021-08-15      1\n",
       "2021-08-16      2\n",
       "2021-09-01      1\n",
       "2022-01-01      1"
      ]
     },
     "execution_count": 116,
     "metadata": {},
     "output_type": "execute_result"
    }
   ],
   "source": [
    "df.groupby(level=0).count()"
   ]
  },
  {
   "cell_type": "markdown",
   "id": "b26f76c1",
   "metadata": {},
   "source": [
    "## date_range()"
   ]
  },
  {
   "cell_type": "code",
   "execution_count": 159,
   "id": "c402006d",
   "metadata": {},
   "outputs": [
    {
     "data": {
      "text/plain": [
       "DatetimeIndex(['2021-02-01', '2021-02-02', '2021-02-03', '2021-02-04',\n",
       "               '2021-02-05', '2021-02-06', '2021-02-07', '2021-02-08',\n",
       "               '2021-02-09', '2021-02-10',\n",
       "               ...\n",
       "               '2022-01-22', '2022-01-23', '2022-01-24', '2022-01-25',\n",
       "               '2022-01-26', '2022-01-27', '2022-01-28', '2022-01-29',\n",
       "               '2022-01-30', '2022-01-31'],\n",
       "              dtype='datetime64[ns]', length=365, freq='D')"
      ]
     },
     "execution_count": 159,
     "metadata": {},
     "output_type": "execute_result"
    }
   ],
   "source": [
    "pd.date_range('2021-02', '2022-01-31')"
   ]
  },
  {
   "cell_type": "code",
   "execution_count": 118,
   "id": "d4199821",
   "metadata": {},
   "outputs": [
    {
     "data": {
      "text/plain": [
       "DatetimeIndex(['2021-04-01', '2021-07-01', '2021-10-01', '2022-01-01'], dtype='datetime64[ns]', freq='QS-JAN')"
      ]
     },
     "execution_count": 118,
     "metadata": {},
     "output_type": "execute_result"
    }
   ],
   "source": [
    "# returns the first day of the quarter between the range provided\n",
    "pd.date_range('2021-02', '2022-01-31', freq='QS-JAN')"
   ]
  },
  {
   "cell_type": "code",
   "execution_count": 119,
   "id": "94bab6b7",
   "metadata": {},
   "outputs": [
    {
     "data": {
      "text/plain": [
       "DatetimeIndex(['2021-04-01', '2021-07-01', '2021-10-01', '2022-01-03'], dtype='datetime64[ns]', freq='BQS-JAN')"
      ]
     },
     "execution_count": 119,
     "metadata": {},
     "output_type": "execute_result"
    }
   ],
   "source": [
    "# returns the first *business* day of the quarter between the range provided\n",
    "# Jan 1st 2022 falls on a saturday, the first business day is Monday the 3rd\n",
    "pd.date_range('2021-02', '2022-01-31', freq='BQS-JAN')"
   ]
  },
  {
   "cell_type": "code",
   "execution_count": 120,
   "id": "22c1c0b2",
   "metadata": {},
   "outputs": [
    {
     "data": {
      "text/plain": [
       "DatetimeIndex(['2021-02-01', '2021-05-01', '2021-08-01', '2021-11-01'], dtype='datetime64[ns]', freq='QS-FEB')"
      ]
     },
     "execution_count": 120,
     "metadata": {},
     "output_type": "execute_result"
    }
   ],
   "source": [
    "# returns the first day of the fiscal quarter (first quarter of the year is FEB) \n",
    "# between the range provided\n",
    "pd.date_range('2021-02', '2022-01-31', freq='QS-FEB')"
   ]
  },
  {
   "cell_type": "code",
   "execution_count": 121,
   "id": "9102321c",
   "metadata": {},
   "outputs": [
    {
     "data": {
      "text/plain": [
       "DatetimeIndex(['2021-02-01', '2021-05-03', '2021-08-02', '2021-11-01'], dtype='datetime64[ns]', freq='BQS-FEB')"
      ]
     },
     "execution_count": 121,
     "metadata": {},
     "output_type": "execute_result"
    }
   ],
   "source": [
    "# returns the first *business* day of the fiscal quarter (first quarter of the year is FEB) \n",
    "# between the range provided\n",
    "pd.date_range('2021-02', '2022-01-31', freq='BQS-FEB')"
   ]
  },
  {
   "cell_type": "markdown",
   "id": "8317edee",
   "metadata": {},
   "source": [
    "## Offsets e.g. `MonthEnd()`"
   ]
  },
  {
   "cell_type": "code",
   "execution_count": 122,
   "id": "52a52525",
   "metadata": {},
   "outputs": [
    {
     "data": {
      "text/plain": [
       "DatetimeIndex(['2021-02-28', '2021-03-31', '2021-04-30'], dtype='datetime64[ns]', freq='M')"
      ]
     },
     "execution_count": 122,
     "metadata": {},
     "output_type": "execute_result"
    }
   ],
   "source": [
    "# M = Month End\n",
    "pd.date_range('2021-02', '2021-05', freq='M')"
   ]
  },
  {
   "cell_type": "code",
   "execution_count": 123,
   "id": "705f350a",
   "metadata": {},
   "outputs": [
    {
     "data": {
      "text/plain": [
       "DatetimeIndex(['2021-02-01', '2021-03-01', '2021-04-01', '2021-05-01'], dtype='datetime64[ns]', freq='MS')"
      ]
     },
     "execution_count": 123,
     "metadata": {},
     "output_type": "execute_result"
    }
   ],
   "source": [
    "# MS = Month Start\n",
    "pd.date_range('2021-02', '2021-05', freq='MS')"
   ]
  },
  {
   "cell_type": "markdown",
   "id": "0beaf361",
   "metadata": {},
   "source": [
    "---"
   ]
  },
  {
   "cell_type": "code",
   "execution_count": 124,
   "id": "3f5cacea",
   "metadata": {},
   "outputs": [],
   "source": [
    "from pandas.tseries.offsets import Day, MonthBegin, MonthEnd, QuarterBegin, QuarterEnd"
   ]
  },
  {
   "cell_type": "code",
   "execution_count": 125,
   "id": "a5eaf620",
   "metadata": {},
   "outputs": [
    {
     "data": {
      "text/plain": [
       "DatetimeIndex(['2021-02-28', '2021-03-31', '2021-04-30'], dtype='datetime64[ns]', freq='M')"
      ]
     },
     "execution_count": 125,
     "metadata": {},
     "output_type": "execute_result"
    }
   ],
   "source": [
    "pd.date_range('2021-02', '2021-05', freq='M')"
   ]
  },
  {
   "cell_type": "code",
   "execution_count": 126,
   "id": "58fe9421",
   "metadata": {},
   "outputs": [
    {
     "data": {
      "text/plain": [
       "DatetimeIndex(['2021-03-31', '2021-04-30', '2021-05-31'], dtype='datetime64[ns]', freq=None)"
      ]
     },
     "execution_count": 126,
     "metadata": {},
     "output_type": "execute_result"
    }
   ],
   "source": [
    "# i would have expected no change if doing `+ MonthEnd()` to last day of the month but that isn't the case\n",
    "pd.date_range('2021-02', '2021-05', freq='M') + MonthEnd()"
   ]
  },
  {
   "cell_type": "code",
   "execution_count": 127,
   "id": "cc84c3d7",
   "metadata": {},
   "outputs": [
    {
     "data": {
      "text/plain": [
       "array(['2021-02-01T00:00:00.000000000'], dtype='datetime64[ns]')"
      ]
     },
     "execution_count": 127,
     "metadata": {},
     "output_type": "execute_result"
    }
   ],
   "source": [
    "pd.date_range('2021-02', '2021-02', freq='MS').values"
   ]
  },
  {
   "cell_type": "markdown",
   "id": "06831698",
   "metadata": {},
   "source": [
    "`+ pd.offsets.MonthEnd(n=0) - pd.offsets.MonthBegin(n=1)` seems to get us back to the beginning of the month\n",
    "\n",
    "`MonthBegin` and `MonthEnd` behave oddly when it is the first/last day of the month"
   ]
  },
  {
   "cell_type": "code",
   "execution_count": 160,
   "id": "cc70e501",
   "metadata": {},
   "outputs": [
    {
     "data": {
      "text/plain": [
       "DatetimeIndex(['2021-02-01', '2021-03-01', '2021-04-01', '2021-05-01'], dtype='datetime64[ns]', freq=None)"
      ]
     },
     "execution_count": 160,
     "metadata": {},
     "output_type": "execute_result"
    }
   ],
   "source": [
    "pd.date_range('2021-02', '2021-05', freq='MS') + pd.offsets.MonthEnd(n=0) - pd.offsets.MonthBegin(n=1)"
   ]
  },
  {
   "cell_type": "code",
   "execution_count": 161,
   "id": "841194d9",
   "metadata": {},
   "outputs": [
    {
     "data": {
      "text/plain": [
       "DatetimeIndex(['2021-02-01', '2021-03-01', '2021-04-01'], dtype='datetime64[ns]', freq=None)"
      ]
     },
     "execution_count": 161,
     "metadata": {},
     "output_type": "execute_result"
    }
   ],
   "source": [
    "pd.date_range('2021-02', '2021-05', freq='M') + pd.offsets.MonthEnd(n=0) - pd.offsets.MonthBegin(n=1)"
   ]
  },
  {
   "cell_type": "markdown",
   "id": "5e32555e",
   "metadata": {},
   "source": [
    "however, `rollback` and `rollforward`, below, seem to work as expected"
   ]
  },
  {
   "cell_type": "markdown",
   "id": "4127ce03",
   "metadata": {},
   "source": [
    "---"
   ]
  },
  {
   "cell_type": "code",
   "execution_count": 138,
   "id": "2e39c28a",
   "metadata": {},
   "outputs": [
    {
     "data": {
      "text/plain": [
       "DatetimeIndex(['2021-02-02', '2021-03-02', '2021-04-02', '2021-05-02'], dtype='datetime64[ns]', freq=None)"
      ]
     },
     "execution_count": 138,
     "metadata": {},
     "output_type": "execute_result"
    }
   ],
   "source": [
    "pd.date_range('2021-02', '2021-05', freq='MS') + Day()"
   ]
  },
  {
   "cell_type": "code",
   "execution_count": 139,
   "id": "6c3e6fc0",
   "metadata": {},
   "outputs": [
    {
     "data": {
      "text/plain": [
       "DatetimeIndex(['2021-02-03', '2021-03-03', '2021-04-03', '2021-05-03'], dtype='datetime64[ns]', freq=None)"
      ]
     },
     "execution_count": 139,
     "metadata": {},
     "output_type": "execute_result"
    }
   ],
   "source": [
    "pd.date_range('2021-02', '2021-05', freq='MS') + Day(2)"
   ]
  },
  {
   "cell_type": "markdown",
   "id": "3b6fb093",
   "metadata": {},
   "source": [
    "### `rollforward()` & `rollback()`"
   ]
  },
  {
   "cell_type": "code",
   "execution_count": 140,
   "id": "c0afdaf7",
   "metadata": {},
   "outputs": [],
   "source": [
    "from helpsk import date\n",
    "import datetime"
   ]
  },
  {
   "cell_type": "code",
   "execution_count": 141,
   "id": "3bca346e",
   "metadata": {},
   "outputs": [
    {
     "data": {
      "text/plain": [
       "Timestamp('2021-01-01 00:00:00')"
      ]
     },
     "execution_count": 141,
     "metadata": {},
     "output_type": "execute_result"
    }
   ],
   "source": [
    "MonthBegin().rollback(parse('2021-01-01'))"
   ]
  },
  {
   "cell_type": "code",
   "execution_count": 142,
   "id": "b04aa637",
   "metadata": {},
   "outputs": [
    {
     "data": {
      "text/plain": [
       "Timestamp('2021-01-01 00:00:00')"
      ]
     },
     "execution_count": 142,
     "metadata": {},
     "output_type": "execute_result"
    }
   ],
   "source": [
    "MonthBegin().rollback(parse('2021-01-31'))"
   ]
  },
  {
   "cell_type": "code",
   "execution_count": 143,
   "id": "eff082ec",
   "metadata": {},
   "outputs": [
    {
     "data": {
      "text/plain": [
       "Timestamp('2021-01-31 00:00:00')"
      ]
     },
     "execution_count": 143,
     "metadata": {},
     "output_type": "execute_result"
    }
   ],
   "source": [
    "MonthEnd().rollforward(date.ymd('2021-01-01'))"
   ]
  },
  {
   "cell_type": "code",
   "execution_count": 144,
   "id": "c7fd1db2",
   "metadata": {},
   "outputs": [
    {
     "data": {
      "text/plain": [
       "Timestamp('2021-01-31 00:00:00')"
      ]
     },
     "execution_count": 144,
     "metadata": {},
     "output_type": "execute_result"
    }
   ],
   "source": [
    "MonthEnd().rollforward(date.ymd('2021-01-31'))"
   ]
  },
  {
   "cell_type": "markdown",
   "id": "67c1c3f2",
   "metadata": {},
   "source": [
    "---"
   ]
  },
  {
   "cell_type": "code",
   "execution_count": 145,
   "id": "171b4799",
   "metadata": {},
   "outputs": [
    {
     "data": {
      "text/plain": [
       "Timestamp('2020-12-01 00:00:00')"
      ]
     },
     "execution_count": 145,
     "metadata": {},
     "output_type": "execute_result"
    }
   ],
   "source": [
    "# default value for startingMonth doesn't make sense\n",
    "QuarterBegin().rollback(date.ymd('2021-01-01'))"
   ]
  },
  {
   "cell_type": "markdown",
   "id": "e97e38a8",
   "metadata": {},
   "source": [
    "---"
   ]
  },
  {
   "cell_type": "markdown",
   "id": "148265c3",
   "metadata": {},
   "source": [
    "### Fiscal Quarter with `QuarterBegin(startingMonth=2)`"
   ]
  },
  {
   "cell_type": "code",
   "execution_count": 146,
   "id": "b1515893",
   "metadata": {},
   "outputs": [
    {
     "data": {
      "text/plain": [
       "array(['2021-01-01T00:00:00.000000000', '2021-01-31T00:00:00.000000000',\n",
       "       '2021-02-01T00:00:00.000000000', '2021-02-28T00:00:00.000000000',\n",
       "       '2021-03-01T00:00:00.000000000', '2021-03-31T00:00:00.000000000',\n",
       "       '2021-04-01T00:00:00.000000000', '2021-04-30T00:00:00.000000000',\n",
       "       '2021-05-01T00:00:00.000000000', '2021-05-31T00:00:00.000000000',\n",
       "       '2021-06-01T00:00:00.000000000', '2021-06-30T00:00:00.000000000',\n",
       "       '2021-07-01T00:00:00.000000000', '2021-07-31T00:00:00.000000000',\n",
       "       '2021-08-01T00:00:00.000000000', '2021-08-31T00:00:00.000000000',\n",
       "       '2021-09-01T00:00:00.000000000', '2021-09-30T00:00:00.000000000',\n",
       "       '2021-10-01T00:00:00.000000000', '2021-10-31T00:00:00.000000000',\n",
       "       '2021-11-01T00:00:00.000000000', '2021-11-30T00:00:00.000000000',\n",
       "       '2021-12-01T00:00:00.000000000', '2021-12-31T00:00:00.000000000'],\n",
       "      dtype='datetime64[ns]')"
      ]
     },
     "execution_count": 146,
     "metadata": {},
     "output_type": "execute_result"
    }
   ],
   "source": [
    "dates = np.append(pd.date_range('2021-01', '2021-12-31', freq='MS').values,\n",
    "                  pd.date_range('2021-01', '2021-12-31', freq='M').values)\n",
    "dates.sort()\n",
    "dates"
   ]
  },
  {
   "cell_type": "code",
   "execution_count": 147,
   "id": "e4978f71",
   "metadata": {},
   "outputs": [
    {
     "data": {
      "text/plain": [
       "[('2021-01-01', Timestamp('2021-01-01 00:00:00')),\n",
       " ('2021-01-31', Timestamp('2021-01-01 00:00:00')),\n",
       " ('2021-02-01', Timestamp('2021-01-01 00:00:00')),\n",
       " ('2021-02-28', Timestamp('2021-01-01 00:00:00')),\n",
       " ('2021-03-01', Timestamp('2021-01-01 00:00:00')),\n",
       " ('2021-03-31', Timestamp('2021-01-01 00:00:00')),\n",
       " ('2021-04-01', Timestamp('2021-04-01 00:00:00')),\n",
       " ('2021-04-30', Timestamp('2021-04-01 00:00:00')),\n",
       " ('2021-05-01', Timestamp('2021-04-01 00:00:00')),\n",
       " ('2021-05-31', Timestamp('2021-04-01 00:00:00')),\n",
       " ('2021-06-01', Timestamp('2021-04-01 00:00:00')),\n",
       " ('2021-06-30', Timestamp('2021-04-01 00:00:00')),\n",
       " ('2021-07-01', Timestamp('2021-07-01 00:00:00')),\n",
       " ('2021-07-31', Timestamp('2021-07-01 00:00:00')),\n",
       " ('2021-08-01', Timestamp('2021-07-01 00:00:00')),\n",
       " ('2021-08-31', Timestamp('2021-07-01 00:00:00')),\n",
       " ('2021-09-01', Timestamp('2021-07-01 00:00:00')),\n",
       " ('2021-09-30', Timestamp('2021-07-01 00:00:00')),\n",
       " ('2021-10-01', Timestamp('2021-10-01 00:00:00')),\n",
       " ('2021-10-31', Timestamp('2021-10-01 00:00:00')),\n",
       " ('2021-11-01', Timestamp('2021-10-01 00:00:00')),\n",
       " ('2021-11-30', Timestamp('2021-10-01 00:00:00')),\n",
       " ('2021-12-01', Timestamp('2021-10-01 00:00:00')),\n",
       " ('2021-12-31', Timestamp('2021-10-01 00:00:00'))]"
      ]
     },
     "execution_count": 147,
     "metadata": {},
     "output_type": "execute_result"
    }
   ],
   "source": [
    "[(date.to_string(pd.to_datetime(str(x))),\n",
    "  QuarterBegin(startingMonth=1).rollback(x)) for x in dates]"
   ]
  },
  {
   "cell_type": "code",
   "execution_count": 148,
   "id": "c18755ab",
   "metadata": {},
   "outputs": [
    {
     "data": {
      "text/plain": [
       "[('2021-01-01', Timestamp('2020-11-01 00:00:00')),\n",
       " ('2021-01-31', Timestamp('2020-11-01 00:00:00')),\n",
       " ('2021-02-01', Timestamp('2021-02-01 00:00:00')),\n",
       " ('2021-02-28', Timestamp('2021-02-01 00:00:00')),\n",
       " ('2021-03-01', Timestamp('2021-02-01 00:00:00')),\n",
       " ('2021-03-31', Timestamp('2021-02-01 00:00:00')),\n",
       " ('2021-04-01', Timestamp('2021-02-01 00:00:00')),\n",
       " ('2021-04-30', Timestamp('2021-02-01 00:00:00')),\n",
       " ('2021-05-01', Timestamp('2021-05-01 00:00:00')),\n",
       " ('2021-05-31', Timestamp('2021-05-01 00:00:00')),\n",
       " ('2021-06-01', Timestamp('2021-05-01 00:00:00')),\n",
       " ('2021-06-30', Timestamp('2021-05-01 00:00:00')),\n",
       " ('2021-07-01', Timestamp('2021-05-01 00:00:00')),\n",
       " ('2021-07-31', Timestamp('2021-05-01 00:00:00')),\n",
       " ('2021-08-01', Timestamp('2021-08-01 00:00:00')),\n",
       " ('2021-08-31', Timestamp('2021-08-01 00:00:00')),\n",
       " ('2021-09-01', Timestamp('2021-08-01 00:00:00')),\n",
       " ('2021-09-30', Timestamp('2021-08-01 00:00:00')),\n",
       " ('2021-10-01', Timestamp('2021-08-01 00:00:00')),\n",
       " ('2021-10-31', Timestamp('2021-08-01 00:00:00')),\n",
       " ('2021-11-01', Timestamp('2021-11-01 00:00:00')),\n",
       " ('2021-11-30', Timestamp('2021-11-01 00:00:00')),\n",
       " ('2021-12-01', Timestamp('2021-11-01 00:00:00')),\n",
       " ('2021-12-31', Timestamp('2021-11-01 00:00:00'))]"
      ]
     },
     "execution_count": 148,
     "metadata": {},
     "output_type": "execute_result"
    }
   ],
   "source": [
    "[(date.to_string(pd.to_datetime(str(x))),\n",
    "  QuarterBegin(startingMonth=2).rollback(x)) for x in dates]"
   ]
  },
  {
   "cell_type": "markdown",
   "id": "39119743",
   "metadata": {},
   "source": [
    "### `groupby()` & `rollback()`"
   ]
  },
  {
   "cell_type": "code",
   "execution_count": 149,
   "id": "39ba4545",
   "metadata": {},
   "outputs": [
    {
     "data": {
      "text/plain": [
       "DatetimeIndex(['2021-01-01', '2021-01-02', '2021-01-03', '2021-01-04',\n",
       "               '2021-01-05', '2021-01-06', '2021-01-07', '2021-01-08',\n",
       "               '2021-01-09', '2021-01-10',\n",
       "               ...\n",
       "               '2021-12-22', '2021-12-23', '2021-12-24', '2021-12-25',\n",
       "               '2021-12-26', '2021-12-27', '2021-12-28', '2021-12-29',\n",
       "               '2021-12-30', '2021-12-31'],\n",
       "              dtype='datetime64[ns]', length=365, freq='D')"
      ]
     },
     "execution_count": 149,
     "metadata": {},
     "output_type": "execute_result"
    }
   ],
   "source": [
    "dates = pd.date_range('2021-01-01', '2021-12-31')\n",
    "dates"
   ]
  },
  {
   "cell_type": "code",
   "execution_count": 150,
   "id": "4a74cdac",
   "metadata": {},
   "outputs": [
    {
     "data": {
      "text/html": [
       "<div>\n",
       "<style scoped>\n",
       "    .dataframe tbody tr th:only-of-type {\n",
       "        vertical-align: middle;\n",
       "    }\n",
       "\n",
       "    .dataframe tbody tr th {\n",
       "        vertical-align: top;\n",
       "    }\n",
       "\n",
       "    .dataframe thead th {\n",
       "        text-align: right;\n",
       "    }\n",
       "</style>\n",
       "<table border=\"1\" class=\"dataframe\">\n",
       "  <thead>\n",
       "    <tr style=\"text-align: right;\">\n",
       "      <th></th>\n",
       "      <th>value</th>\n",
       "    </tr>\n",
       "  </thead>\n",
       "  <tbody>\n",
       "    <tr>\n",
       "      <th>2021-01-01</th>\n",
       "      <td>0</td>\n",
       "    </tr>\n",
       "    <tr>\n",
       "      <th>2021-01-02</th>\n",
       "      <td>1</td>\n",
       "    </tr>\n",
       "    <tr>\n",
       "      <th>2021-01-03</th>\n",
       "      <td>2</td>\n",
       "    </tr>\n",
       "    <tr>\n",
       "      <th>2021-01-04</th>\n",
       "      <td>3</td>\n",
       "    </tr>\n",
       "    <tr>\n",
       "      <th>2021-01-05</th>\n",
       "      <td>4</td>\n",
       "    </tr>\n",
       "    <tr>\n",
       "      <th>...</th>\n",
       "      <td>...</td>\n",
       "    </tr>\n",
       "    <tr>\n",
       "      <th>2021-12-27</th>\n",
       "      <td>360</td>\n",
       "    </tr>\n",
       "    <tr>\n",
       "      <th>2021-12-28</th>\n",
       "      <td>361</td>\n",
       "    </tr>\n",
       "    <tr>\n",
       "      <th>2021-12-29</th>\n",
       "      <td>362</td>\n",
       "    </tr>\n",
       "    <tr>\n",
       "      <th>2021-12-30</th>\n",
       "      <td>363</td>\n",
       "    </tr>\n",
       "    <tr>\n",
       "      <th>2021-12-31</th>\n",
       "      <td>364</td>\n",
       "    </tr>\n",
       "  </tbody>\n",
       "</table>\n",
       "<p>365 rows × 1 columns</p>\n",
       "</div>"
      ],
      "text/plain": [
       "            value\n",
       "2021-01-01      0\n",
       "2021-01-02      1\n",
       "2021-01-03      2\n",
       "2021-01-04      3\n",
       "2021-01-05      4\n",
       "...           ...\n",
       "2021-12-27    360\n",
       "2021-12-28    361\n",
       "2021-12-29    362\n",
       "2021-12-30    363\n",
       "2021-12-31    364\n",
       "\n",
       "[365 rows x 1 columns]"
      ]
     },
     "execution_count": 150,
     "metadata": {},
     "output_type": "execute_result"
    }
   ],
   "source": [
    "df = pd.DataFrame({'value': range(0, len(dates))}, index=dates)\n",
    "df"
   ]
  },
  {
   "cell_type": "code",
   "execution_count": 168,
   "id": "096dfca7",
   "metadata": {},
   "outputs": [],
   "source": [
    "from pandas.tseries.offsets import QuarterBegin"
   ]
  },
  {
   "cell_type": "code",
   "execution_count": 169,
   "id": "30f97486",
   "metadata": {
    "scrolled": false
   },
   "outputs": [
    {
     "data": {
      "text/html": [
       "<div>\n",
       "<style scoped>\n",
       "    .dataframe tbody tr th:only-of-type {\n",
       "        vertical-align: middle;\n",
       "    }\n",
       "\n",
       "    .dataframe tbody tr th {\n",
       "        vertical-align: top;\n",
       "    }\n",
       "\n",
       "    .dataframe thead th {\n",
       "        text-align: right;\n",
       "    }\n",
       "</style>\n",
       "<table border=\"1\" class=\"dataframe\">\n",
       "  <thead>\n",
       "    <tr style=\"text-align: right;\">\n",
       "      <th></th>\n",
       "      <th>date</th>\n",
       "      <th>value</th>\n",
       "    </tr>\n",
       "  </thead>\n",
       "  <tbody>\n",
       "    <tr>\n",
       "      <th>0</th>\n",
       "      <td>2021-01-01</td>\n",
       "      <td>0</td>\n",
       "    </tr>\n",
       "    <tr>\n",
       "      <th>1</th>\n",
       "      <td>2021-01-02</td>\n",
       "      <td>1</td>\n",
       "    </tr>\n",
       "    <tr>\n",
       "      <th>2</th>\n",
       "      <td>2021-01-03</td>\n",
       "      <td>2</td>\n",
       "    </tr>\n",
       "    <tr>\n",
       "      <th>3</th>\n",
       "      <td>2021-01-04</td>\n",
       "      <td>3</td>\n",
       "    </tr>\n",
       "    <tr>\n",
       "      <th>4</th>\n",
       "      <td>2021-01-05</td>\n",
       "      <td>4</td>\n",
       "    </tr>\n",
       "    <tr>\n",
       "      <th>...</th>\n",
       "      <td>...</td>\n",
       "      <td>...</td>\n",
       "    </tr>\n",
       "    <tr>\n",
       "      <th>360</th>\n",
       "      <td>2021-12-27</td>\n",
       "      <td>360</td>\n",
       "    </tr>\n",
       "    <tr>\n",
       "      <th>361</th>\n",
       "      <td>2021-12-28</td>\n",
       "      <td>361</td>\n",
       "    </tr>\n",
       "    <tr>\n",
       "      <th>362</th>\n",
       "      <td>2021-12-29</td>\n",
       "      <td>362</td>\n",
       "    </tr>\n",
       "    <tr>\n",
       "      <th>363</th>\n",
       "      <td>2021-12-30</td>\n",
       "      <td>363</td>\n",
       "    </tr>\n",
       "    <tr>\n",
       "      <th>364</th>\n",
       "      <td>2021-12-31</td>\n",
       "      <td>364</td>\n",
       "    </tr>\n",
       "  </tbody>\n",
       "</table>\n",
       "<p>365 rows × 2 columns</p>\n",
       "</div>"
      ],
      "text/plain": [
       "          date  value\n",
       "0   2021-01-01      0\n",
       "1   2021-01-02      1\n",
       "2   2021-01-03      2\n",
       "3   2021-01-04      3\n",
       "4   2021-01-05      4\n",
       "..         ...    ...\n",
       "360 2021-12-27    360\n",
       "361 2021-12-28    361\n",
       "362 2021-12-29    362\n",
       "363 2021-12-30    363\n",
       "364 2021-12-31    364\n",
       "\n",
       "[365 rows x 2 columns]"
      ]
     },
     "execution_count": 169,
     "metadata": {},
     "output_type": "execute_result"
    }
   ],
   "source": [
    "df = pd.DataFrame({'date': dates, 'value': range(0, len(dates))})\n",
    "df"
   ]
  },
  {
   "cell_type": "code",
   "execution_count": 172,
   "id": "47443bcc",
   "metadata": {},
   "outputs": [
    {
     "data": {
      "text/html": [
       "<div>\n",
       "<style scoped>\n",
       "    .dataframe tbody tr th:only-of-type {\n",
       "        vertical-align: middle;\n",
       "    }\n",
       "\n",
       "    .dataframe tbody tr th {\n",
       "        vertical-align: top;\n",
       "    }\n",
       "\n",
       "    .dataframe thead th {\n",
       "        text-align: right;\n",
       "    }\n",
       "</style>\n",
       "<table border=\"1\" class=\"dataframe\">\n",
       "  <thead>\n",
       "    <tr style=\"text-align: right;\">\n",
       "      <th></th>\n",
       "      <th>date</th>\n",
       "      <th>value</th>\n",
       "      <th>quarter_start</th>\n",
       "    </tr>\n",
       "  </thead>\n",
       "  <tbody>\n",
       "    <tr>\n",
       "      <th>0</th>\n",
       "      <td>2021-01-01</td>\n",
       "      <td>0</td>\n",
       "      <td>2021-01-01</td>\n",
       "    </tr>\n",
       "    <tr>\n",
       "      <th>1</th>\n",
       "      <td>2021-01-02</td>\n",
       "      <td>1</td>\n",
       "      <td>2021-01-01</td>\n",
       "    </tr>\n",
       "    <tr>\n",
       "      <th>2</th>\n",
       "      <td>2021-01-03</td>\n",
       "      <td>2</td>\n",
       "      <td>2021-01-01</td>\n",
       "    </tr>\n",
       "    <tr>\n",
       "      <th>3</th>\n",
       "      <td>2021-01-04</td>\n",
       "      <td>3</td>\n",
       "      <td>2021-01-01</td>\n",
       "    </tr>\n",
       "    <tr>\n",
       "      <th>4</th>\n",
       "      <td>2021-01-05</td>\n",
       "      <td>4</td>\n",
       "      <td>2021-01-01</td>\n",
       "    </tr>\n",
       "    <tr>\n",
       "      <th>...</th>\n",
       "      <td>...</td>\n",
       "      <td>...</td>\n",
       "      <td>...</td>\n",
       "    </tr>\n",
       "    <tr>\n",
       "      <th>360</th>\n",
       "      <td>2021-12-27</td>\n",
       "      <td>360</td>\n",
       "      <td>2021-10-01</td>\n",
       "    </tr>\n",
       "    <tr>\n",
       "      <th>361</th>\n",
       "      <td>2021-12-28</td>\n",
       "      <td>361</td>\n",
       "      <td>2021-10-01</td>\n",
       "    </tr>\n",
       "    <tr>\n",
       "      <th>362</th>\n",
       "      <td>2021-12-29</td>\n",
       "      <td>362</td>\n",
       "      <td>2021-10-01</td>\n",
       "    </tr>\n",
       "    <tr>\n",
       "      <th>363</th>\n",
       "      <td>2021-12-30</td>\n",
       "      <td>363</td>\n",
       "      <td>2021-10-01</td>\n",
       "    </tr>\n",
       "    <tr>\n",
       "      <th>364</th>\n",
       "      <td>2021-12-31</td>\n",
       "      <td>364</td>\n",
       "      <td>2021-10-01</td>\n",
       "    </tr>\n",
       "  </tbody>\n",
       "</table>\n",
       "<p>365 rows × 3 columns</p>\n",
       "</div>"
      ],
      "text/plain": [
       "          date  value quarter_start\n",
       "0   2021-01-01      0    2021-01-01\n",
       "1   2021-01-02      1    2021-01-01\n",
       "2   2021-01-03      2    2021-01-01\n",
       "3   2021-01-04      3    2021-01-01\n",
       "4   2021-01-05      4    2021-01-01\n",
       "..         ...    ...           ...\n",
       "360 2021-12-27    360    2021-10-01\n",
       "361 2021-12-28    361    2021-10-01\n",
       "362 2021-12-29    362    2021-10-01\n",
       "363 2021-12-30    363    2021-10-01\n",
       "364 2021-12-31    364    2021-10-01\n",
       "\n",
       "[365 rows x 3 columns]"
      ]
     },
     "execution_count": 172,
     "metadata": {},
     "output_type": "execute_result"
    }
   ],
   "source": [
    "df['quarter_start'] = df.date.apply(QuarterBegin(startingMonth=1).rollback)\n",
    "df"
   ]
  },
  {
   "cell_type": "code",
   "execution_count": 173,
   "id": "f306c698",
   "metadata": {},
   "outputs": [
    {
     "data": {
      "text/html": [
       "<div>\n",
       "<style scoped>\n",
       "    .dataframe tbody tr th:only-of-type {\n",
       "        vertical-align: middle;\n",
       "    }\n",
       "\n",
       "    .dataframe tbody tr th {\n",
       "        vertical-align: top;\n",
       "    }\n",
       "\n",
       "    .dataframe thead tr th {\n",
       "        text-align: left;\n",
       "    }\n",
       "\n",
       "    .dataframe thead tr:last-of-type th {\n",
       "        text-align: right;\n",
       "    }\n",
       "</style>\n",
       "<table border=\"1\" class=\"dataframe\">\n",
       "  <thead>\n",
       "    <tr>\n",
       "      <th></th>\n",
       "      <th colspan=\"3\" halign=\"left\">value</th>\n",
       "    </tr>\n",
       "    <tr>\n",
       "      <th></th>\n",
       "      <th>min</th>\n",
       "      <th>max</th>\n",
       "      <th>len</th>\n",
       "    </tr>\n",
       "    <tr>\n",
       "      <th>quarter_start</th>\n",
       "      <th></th>\n",
       "      <th></th>\n",
       "      <th></th>\n",
       "    </tr>\n",
       "  </thead>\n",
       "  <tbody>\n",
       "    <tr>\n",
       "      <th>2021-01-01</th>\n",
       "      <td>0</td>\n",
       "      <td>89</td>\n",
       "      <td>90</td>\n",
       "    </tr>\n",
       "    <tr>\n",
       "      <th>2021-04-01</th>\n",
       "      <td>90</td>\n",
       "      <td>180</td>\n",
       "      <td>91</td>\n",
       "    </tr>\n",
       "    <tr>\n",
       "      <th>2021-07-01</th>\n",
       "      <td>181</td>\n",
       "      <td>272</td>\n",
       "      <td>92</td>\n",
       "    </tr>\n",
       "    <tr>\n",
       "      <th>2021-10-01</th>\n",
       "      <td>273</td>\n",
       "      <td>364</td>\n",
       "      <td>92</td>\n",
       "    </tr>\n",
       "  </tbody>\n",
       "</table>\n",
       "</div>"
      ],
      "text/plain": [
       "              value         \n",
       "                min  max len\n",
       "quarter_start               \n",
       "2021-01-01        0   89  90\n",
       "2021-04-01       90  180  91\n",
       "2021-07-01      181  272  92\n",
       "2021-10-01      273  364  92"
      ]
     },
     "execution_count": 173,
     "metadata": {},
     "output_type": "execute_result"
    }
   ],
   "source": [
    "df.groupby('quarter_start').agg({'value': [min, max, len]})"
   ]
  },
  {
   "cell_type": "markdown",
   "id": "0b5c0512",
   "metadata": {},
   "source": [
    "Passing in `QuarterBegin(startingMonth=1).rollback` directly doesn't seem to work as I would have thought; I would have guessed it was the same as above."
   ]
  },
  {
   "cell_type": "code",
   "execution_count": 175,
   "id": "b83dd91a",
   "metadata": {},
   "outputs": [
    {
     "data": {
      "text/html": [
       "<div>\n",
       "<style scoped>\n",
       "    .dataframe tbody tr th:only-of-type {\n",
       "        vertical-align: middle;\n",
       "    }\n",
       "\n",
       "    .dataframe tbody tr th {\n",
       "        vertical-align: top;\n",
       "    }\n",
       "\n",
       "    .dataframe thead tr th {\n",
       "        text-align: left;\n",
       "    }\n",
       "</style>\n",
       "<table border=\"1\" class=\"dataframe\">\n",
       "  <thead>\n",
       "    <tr>\n",
       "      <th></th>\n",
       "      <th colspan=\"3\" halign=\"left\">value</th>\n",
       "    </tr>\n",
       "    <tr>\n",
       "      <th></th>\n",
       "      <th>min</th>\n",
       "      <th>max</th>\n",
       "      <th>len</th>\n",
       "    </tr>\n",
       "  </thead>\n",
       "  <tbody>\n",
       "    <tr>\n",
       "      <th>1970-01-01 00:00:00.000000000</th>\n",
       "      <td>0</td>\n",
       "      <td>0</td>\n",
       "      <td>1</td>\n",
       "    </tr>\n",
       "    <tr>\n",
       "      <th>1970-01-01 00:00:00.000000001</th>\n",
       "      <td>1</td>\n",
       "      <td>1</td>\n",
       "      <td>1</td>\n",
       "    </tr>\n",
       "    <tr>\n",
       "      <th>1970-01-01 00:00:00.000000002</th>\n",
       "      <td>2</td>\n",
       "      <td>2</td>\n",
       "      <td>1</td>\n",
       "    </tr>\n",
       "    <tr>\n",
       "      <th>1970-01-01 00:00:00.000000003</th>\n",
       "      <td>3</td>\n",
       "      <td>3</td>\n",
       "      <td>1</td>\n",
       "    </tr>\n",
       "    <tr>\n",
       "      <th>1970-01-01 00:00:00.000000004</th>\n",
       "      <td>4</td>\n",
       "      <td>4</td>\n",
       "      <td>1</td>\n",
       "    </tr>\n",
       "    <tr>\n",
       "      <th>...</th>\n",
       "      <td>...</td>\n",
       "      <td>...</td>\n",
       "      <td>...</td>\n",
       "    </tr>\n",
       "    <tr>\n",
       "      <th>1970-01-01 00:00:00.000000360</th>\n",
       "      <td>360</td>\n",
       "      <td>360</td>\n",
       "      <td>1</td>\n",
       "    </tr>\n",
       "    <tr>\n",
       "      <th>1970-01-01 00:00:00.000000361</th>\n",
       "      <td>361</td>\n",
       "      <td>361</td>\n",
       "      <td>1</td>\n",
       "    </tr>\n",
       "    <tr>\n",
       "      <th>1970-01-01 00:00:00.000000362</th>\n",
       "      <td>362</td>\n",
       "      <td>362</td>\n",
       "      <td>1</td>\n",
       "    </tr>\n",
       "    <tr>\n",
       "      <th>1970-01-01 00:00:00.000000363</th>\n",
       "      <td>363</td>\n",
       "      <td>363</td>\n",
       "      <td>1</td>\n",
       "    </tr>\n",
       "    <tr>\n",
       "      <th>1970-01-01 00:00:00.000000364</th>\n",
       "      <td>364</td>\n",
       "      <td>364</td>\n",
       "      <td>1</td>\n",
       "    </tr>\n",
       "  </tbody>\n",
       "</table>\n",
       "<p>365 rows × 3 columns</p>\n",
       "</div>"
      ],
      "text/plain": [
       "                              value         \n",
       "                                min  max len\n",
       "1970-01-01 00:00:00.000000000     0    0   1\n",
       "1970-01-01 00:00:00.000000001     1    1   1\n",
       "1970-01-01 00:00:00.000000002     2    2   1\n",
       "1970-01-01 00:00:00.000000003     3    3   1\n",
       "1970-01-01 00:00:00.000000004     4    4   1\n",
       "...                             ...  ...  ..\n",
       "1970-01-01 00:00:00.000000360   360  360   1\n",
       "1970-01-01 00:00:00.000000361   361  361   1\n",
       "1970-01-01 00:00:00.000000362   362  362   1\n",
       "1970-01-01 00:00:00.000000363   363  363   1\n",
       "1970-01-01 00:00:00.000000364   364  364   1\n",
       "\n",
       "[365 rows x 3 columns]"
      ]
     },
     "execution_count": 175,
     "metadata": {},
     "output_type": "execute_result"
    }
   ],
   "source": [
    "df.groupby(QuarterBegin(startingMonth=1).rollback).agg({'value': [min, max, len]})"
   ]
  },
  {
   "cell_type": "markdown",
   "id": "333d88a2",
   "metadata": {},
   "source": [
    "# Unexpected Behavior"
   ]
  },
  {
   "cell_type": "markdown",
   "id": "c9aa9405",
   "metadata": {},
   "source": [
    "## Default Arguments"
   ]
  },
  {
   "cell_type": "markdown",
   "id": "45b6005b",
   "metadata": {},
   "source": [
    "Python’s default arguments are evaluated once when the function is defined, not each time the function is called (like it is in say, Ruby). This means that if you use a mutable default argument and mutate it, you will and have mutated that object for all future calls to the function as well.\n",
    "\t* http://docs.python-guide.org/en/latest/writing/gotchas/\n",
    "\t* This means you cannot assign objects as default arguments"
   ]
  },
  {
   "cell_type": "code",
   "execution_count": null,
   "id": "d61b8415",
   "metadata": {},
   "outputs": [],
   "source": []
  },
  {
   "cell_type": "code",
   "execution_count": null,
   "id": "11222ed9",
   "metadata": {},
   "outputs": [],
   "source": []
  },
  {
   "cell_type": "markdown",
   "id": "cf543a2e",
   "metadata": {},
   "source": [
    "## Operations in general exclude missing data.\n",
    "\n",
    "https://pandas.pydata.org/pandas-docs/stable/user_guide/10min.html#stats"
   ]
  },
  {
   "cell_type": "code",
   "execution_count": 156,
   "id": "2910bf90",
   "metadata": {},
   "outputs": [
    {
     "data": {
      "text/html": [
       "<div>\n",
       "<style scoped>\n",
       "    .dataframe tbody tr th:only-of-type {\n",
       "        vertical-align: middle;\n",
       "    }\n",
       "\n",
       "    .dataframe tbody tr th {\n",
       "        vertical-align: top;\n",
       "    }\n",
       "\n",
       "    .dataframe thead th {\n",
       "        text-align: right;\n",
       "    }\n",
       "</style>\n",
       "<table border=\"1\" class=\"dataframe\">\n",
       "  <thead>\n",
       "    <tr style=\"text-align: right;\">\n",
       "      <th></th>\n",
       "      <th>A</th>\n",
       "      <th>B</th>\n",
       "      <th>C</th>\n",
       "      <th>D</th>\n",
       "    </tr>\n",
       "  </thead>\n",
       "  <tbody>\n",
       "    <tr>\n",
       "      <th>0</th>\n",
       "      <td>NaN</td>\n",
       "      <td>2.871469</td>\n",
       "      <td>2.184371</td>\n",
       "      <td>0.194326</td>\n",
       "    </tr>\n",
       "    <tr>\n",
       "      <th>1</th>\n",
       "      <td>0.301330</td>\n",
       "      <td>-0.546467</td>\n",
       "      <td>-1.098570</td>\n",
       "      <td>-0.768290</td>\n",
       "    </tr>\n",
       "    <tr>\n",
       "      <th>2</th>\n",
       "      <td>-1.062999</td>\n",
       "      <td>2.656968</td>\n",
       "      <td>1.372673</td>\n",
       "      <td>1.340727</td>\n",
       "    </tr>\n",
       "    <tr>\n",
       "      <th>3</th>\n",
       "      <td>-0.775027</td>\n",
       "      <td>2.547829</td>\n",
       "      <td>-0.647637</td>\n",
       "      <td>-0.100684</td>\n",
       "    </tr>\n",
       "    <tr>\n",
       "      <th>4</th>\n",
       "      <td>1.299102</td>\n",
       "      <td>0.920292</td>\n",
       "      <td>-1.583688</td>\n",
       "      <td>0.972841</td>\n",
       "    </tr>\n",
       "    <tr>\n",
       "      <th>5</th>\n",
       "      <td>1.102798</td>\n",
       "      <td>0.968852</td>\n",
       "      <td>-0.435754</td>\n",
       "      <td>-0.001409</td>\n",
       "    </tr>\n",
       "  </tbody>\n",
       "</table>\n",
       "</div>"
      ],
      "text/plain": [
       "          A         B         C         D\n",
       "0       NaN  2.871469  2.184371  0.194326\n",
       "1  0.301330 -0.546467 -1.098570 -0.768290\n",
       "2 -1.062999  2.656968  1.372673  1.340727\n",
       "3 -0.775027  2.547829 -0.647637 -0.100684\n",
       "4  1.299102  0.920292 -1.583688  0.972841\n",
       "5  1.102798  0.968852 -0.435754 -0.001409"
      ]
     },
     "execution_count": 156,
     "metadata": {},
     "output_type": "execute_result"
    }
   ],
   "source": [
    "df = pd.DataFrame(np.random.randn(6, 4),\n",
    "                  columns=list(\"ABCD\"))\n",
    "df.iat[0, 0] = np.nan\n",
    "df"
   ]
  },
  {
   "cell_type": "code",
   "execution_count": 157,
   "id": "471446c3",
   "metadata": {},
   "outputs": [
    {
     "data": {
      "text/plain": [
       "A    0.173041\n",
       "B    1.569824\n",
       "C   -0.034768\n",
       "D    0.272918\n",
       "dtype: float64"
      ]
     },
     "execution_count": 157,
     "metadata": {},
     "output_type": "execute_result"
    }
   ],
   "source": [
    "df.mean()  # this works; R equivalent would have returned `NA`"
   ]
  },
  {
   "cell_type": "code",
   "execution_count": 158,
   "id": "c6e1b92d",
   "metadata": {},
   "outputs": [
    {
     "data": {
      "text/plain": [
       "A         NaN\n",
       "B    1.569824\n",
       "C   -0.034768\n",
       "D    0.272918\n",
       "dtype: float64"
      ]
     },
     "execution_count": 158,
     "metadata": {},
     "output_type": "execute_result"
    }
   ],
   "source": [
    "df.mean(skipna=False)  # have to manually set skipna=False to get desired behavior"
   ]
  },
  {
   "cell_type": "markdown",
   "id": "9096e766",
   "metadata": {},
   "source": [
    "---"
   ]
  }
 ],
 "metadata": {
  "kernelspec": {
   "display_name": "Python 3",
   "language": "python",
   "name": "python3"
  },
  "language_info": {
   "codemirror_mode": {
    "name": "ipython",
    "version": 3
   },
   "file_extension": ".py",
   "mimetype": "text/x-python",
   "name": "python",
   "nbconvert_exporter": "python",
   "pygments_lexer": "ipython3",
   "version": "3.9.5"
  },
  "toc": {
   "base_numbering": 1,
   "nav_menu": {},
   "number_sections": false,
   "sideBar": true,
   "skip_h1_title": false,
   "title_cell": "Table of Contents",
   "title_sidebar": "Contents",
   "toc_cell": false,
   "toc_position": {
    "height": "calc(100% - 180px)",
    "left": "10px",
    "top": "150px",
    "width": "314px"
   },
   "toc_section_display": true,
   "toc_window_display": true
  }
 },
 "nbformat": 4,
 "nbformat_minor": 5
}
