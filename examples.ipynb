{
 "cells": [
  {
   "cell_type": "code",
   "execution_count": 1,
   "id": "17b729cf",
   "metadata": {},
   "outputs": [
    {
     "name": "stdout",
     "output_type": "stream",
     "text": [
      "Python 3.9.5\r\n"
     ]
    }
   ],
   "source": [
    "!python --version"
   ]
  },
  {
   "cell_type": "code",
   "execution_count": 2,
   "id": "3b601992",
   "metadata": {},
   "outputs": [
    {
     "name": "stdout",
     "output_type": "stream",
     "text": [
      "Requirement already satisfied: helpsk in /Users/shanekercheval/opt/anaconda3/envs/python-examples/lib/python3.9/site-packages (0.0.6)\r\n"
     ]
    }
   ],
   "source": [
    "!pip install helpsk --upgrade"
   ]
  },
  {
   "cell_type": "code",
   "execution_count": 3,
   "id": "b186beaf",
   "metadata": {},
   "outputs": [],
   "source": [
    "import pandas as pd\n",
    "from helpsk import string"
   ]
  },
  {
   "cell_type": "code",
   "execution_count": 4,
   "id": "380c86ce",
   "metadata": {},
   "outputs": [
    {
     "data": {
      "text/plain": [
       "'abc'"
      ]
     },
     "execution_count": 4,
     "metadata": {},
     "output_type": "execute_result"
    }
   ],
   "source": [
    "string.collapse('a', 'b', 'c')"
   ]
  },
  {
   "cell_type": "code",
   "execution_count": 5,
   "id": "23f4ae6b",
   "metadata": {},
   "outputs": [
    {
     "data": {
      "text/plain": [
       "\"'a','b','c'\""
      ]
     },
     "execution_count": 5,
     "metadata": {},
     "output_type": "execute_result"
    }
   ],
   "source": [
    "string.collapse('a', 'b', 'c', surround=\"'\", separate=\",\")"
   ]
  },
  {
   "cell_type": "code",
   "execution_count": 6,
   "id": "28d6614c",
   "metadata": {},
   "outputs": [],
   "source": [
    "from helpsk import validation as vld\n",
    "vld.assert_true(True)\n",
    "vld.assert_false(False)"
   ]
  },
  {
   "cell_type": "code",
   "execution_count": 7,
   "id": "ba84bf8b",
   "metadata": {},
   "outputs": [
    {
     "name": "stdout",
     "output_type": "stream",
     "text": [
      "getter of my_variable called\n"
     ]
    },
    {
     "data": {
      "text/plain": [
       "0"
      ]
     },
     "execution_count": 7,
     "metadata": {},
     "output_type": "execute_result"
    }
   ],
   "source": [
    "from helpsk import ExampleClass\n",
    "example = ExampleClass()\n",
    "example.my_variable"
   ]
  },
  {
   "cell_type": "code",
   "execution_count": null,
   "id": "30c076e1",
   "metadata": {},
   "outputs": [],
   "source": []
  },
  {
   "cell_type": "markdown",
   "id": "9983ff5a",
   "metadata": {},
   "source": [
    "# `is` vs `==`"
   ]
  },
  {
   "cell_type": "markdown",
   "id": "15ecc270",
   "metadata": {},
   "source": [
    "`==` is an equality test. It checks whether the right hand side and the left hand side are equal objects (according to their __eq__ or __cmp__ methods.)"
   ]
  },
  {
   "cell_type": "markdown",
   "id": "0e06157a",
   "metadata": {},
   "source": [
    "is is an identity test. It checks whether the right hand side and the left hand side are the very same object. No methodcalls are done, objects can't influence the is operation."
   ]
  },
  {
   "cell_type": "markdown",
   "id": "78d95485",
   "metadata": {},
   "source": [
    "You use `is` (and `is not`) for `singletons`, like `None`, where you don't care about objects that might want to pretend to be None or where you want to protect against objects breaking when being compared against None."
   ]
  },
  {
   "cell_type": "markdown",
   "id": "f89bae83",
   "metadata": {},
   "source": [
    "# List & DataFrame Equality"
   ]
  },
  {
   "cell_type": "code",
   "execution_count": 8,
   "id": "8afb5bf8",
   "metadata": {},
   "outputs": [
    {
     "data": {
      "text/plain": [
       "True"
      ]
     },
     "execution_count": 8,
     "metadata": {},
     "output_type": "execute_result"
    }
   ],
   "source": [
    "[1, 2, 3] == [1, 2, 3]"
   ]
  },
  {
   "cell_type": "code",
   "execution_count": 9,
   "id": "69105061",
   "metadata": {},
   "outputs": [
    {
     "data": {
      "text/plain": [
       "False"
      ]
     },
     "execution_count": 9,
     "metadata": {},
     "output_type": "execute_result"
    }
   ],
   "source": [
    "[1, 2, 3] == [1, 2, 3.00001]"
   ]
  },
  {
   "cell_type": "code",
   "execution_count": 10,
   "id": "cd146627",
   "metadata": {},
   "outputs": [
    {
     "data": {
      "text/plain": [
       "True"
      ]
     },
     "execution_count": 10,
     "metadata": {},
     "output_type": "execute_result"
    }
   ],
   "source": [
    "['a', 'b', 'c'] == ['a', 'b', 'c']"
   ]
  },
  {
   "cell_type": "code",
   "execution_count": 11,
   "id": "761c8c0b",
   "metadata": {},
   "outputs": [
    {
     "data": {
      "text/plain": [
       "True"
      ]
     },
     "execution_count": 11,
     "metadata": {},
     "output_type": "execute_result"
    }
   ],
   "source": [
    "['a', 'b', None] == ['a', 'b', None]"
   ]
  },
  {
   "cell_type": "code",
   "execution_count": 12,
   "id": "e14efbcd",
   "metadata": {},
   "outputs": [
    {
     "data": {
      "text/plain": [
       "False"
      ]
     },
     "execution_count": 12,
     "metadata": {},
     "output_type": "execute_result"
    }
   ],
   "source": [
    "['a', 'b', 'c'] == ['a', 'b', None]"
   ]
  },
  {
   "cell_type": "code",
   "execution_count": 13,
   "id": "aef36e72",
   "metadata": {},
   "outputs": [
    {
     "data": {
      "text/plain": [
       "True"
      ]
     },
     "execution_count": 13,
     "metadata": {},
     "output_type": "execute_result"
    }
   ],
   "source": [
    "pd.DataFrame([[1, 2], [2, 3]]).equals(pd.DataFrame([[1, 2], [2, 3]]))"
   ]
  },
  {
   "cell_type": "code",
   "execution_count": 14,
   "id": "0d8a3238",
   "metadata": {},
   "outputs": [
    {
     "data": {
      "text/plain": [
       "False"
      ]
     },
     "execution_count": 14,
     "metadata": {},
     "output_type": "execute_result"
    }
   ],
   "source": [
    "pd.DataFrame([[1, 2], [2, 3]]).equals(pd.DataFrame([[1, 2], [2, 3.001]]))"
   ]
  },
  {
   "cell_type": "code",
   "execution_count": 15,
   "id": "02d49f1f",
   "metadata": {},
   "outputs": [
    {
     "data": {
      "text/plain": [
       "True"
      ]
     },
     "execution_count": 15,
     "metadata": {},
     "output_type": "execute_result"
    }
   ],
   "source": [
    "pd.DataFrame([[1, None], [2, 3.001]]).equals(pd.DataFrame([[1, None], [2, 3.001]]))"
   ]
  },
  {
   "cell_type": "markdown",
   "id": "38a93465",
   "metadata": {},
   "source": [
    "# Checking for Empty Containers"
   ]
  },
  {
   "cell_type": "code",
   "execution_count": 16,
   "id": "5aadbb76",
   "metadata": {},
   "outputs": [
    {
     "data": {
      "text/plain": [
       "True"
      ]
     },
     "execution_count": 16,
     "metadata": {},
     "output_type": "execute_result"
    }
   ],
   "source": [
    "a = []\n",
    "\n",
    "len(a) == 0  # not Pythonic"
   ]
  },
  {
   "cell_type": "code",
   "execution_count": 17,
   "id": "248a5061",
   "metadata": {},
   "outputs": [
    {
     "data": {
      "text/plain": [
       "True"
      ]
     },
     "execution_count": 17,
     "metadata": {},
     "output_type": "execute_result"
    }
   ],
   "source": [
    "not a  # Pythonic"
   ]
  },
  {
   "cell_type": "code",
   "execution_count": 18,
   "id": "0d7bd228",
   "metadata": {},
   "outputs": [
    {
     "name": "stdout",
     "output_type": "stream",
     "text": [
      "Not Pythonic\n",
      "Pythonic\n"
     ]
    }
   ],
   "source": [
    "if len(a) == 0:\n",
    "    print('Not Pythonic')\n",
    "\n",
    "if not a:\n",
    "    print('Pythonic')\n"
   ]
  },
  {
   "cell_type": "code",
   "execution_count": 19,
   "id": "7831583a",
   "metadata": {},
   "outputs": [
    {
     "name": "stdout",
     "output_type": "stream",
     "text": [
      "Not Pythonic\n",
      "Pythonic\n"
     ]
    }
   ],
   "source": [
    "a = ['a']\n",
    "\n",
    "if len(a) != 0:\n",
    "    print('Not Pythonic')\n",
    "\n",
    "if a:\n",
    "    print('Pythonic')"
   ]
  },
  {
   "cell_type": "markdown",
   "id": "9b7a499d",
   "metadata": {},
   "source": [
    "# Multi-lines"
   ]
  },
  {
   "cell_type": "code",
   "execution_count": 20,
   "id": "ce6e7aa4",
   "metadata": {},
   "outputs": [
    {
     "name": "stdout",
     "output_type": "stream",
     "text": [
      "3\n",
      "3\n"
     ]
    }
   ],
   "source": [
    "# not Pythonic\n",
    "a = 1 + \\\n",
    "    2\n",
    "print(a)\n",
    "\n",
    "a = (1 +  # Pythonic\n",
    "     2)\n",
    "print(a)"
   ]
  },
  {
   "cell_type": "markdown",
   "id": "ab8a8059",
   "metadata": {},
   "source": [
    "# Classes"
   ]
  },
  {
   "cell_type": "markdown",
   "id": "6e551fd7",
   "metadata": {},
   "source": [
    "## Private vs Protected"
   ]
  },
  {
   "cell_type": "code",
   "execution_count": 32,
   "id": "4b8eba20",
   "metadata": {},
   "outputs": [],
   "source": [
    "class Example:\n",
    "    def __init__(self):\n",
    "        self.__private_variable = 'private'\n",
    "        self._protected_variable = 'protected'\n",
    "    \n",
    "    def instance_method(self):\n",
    "        return 'instance method ' + self.__private_variable + self._protected_variable\n",
    "    \n",
    "    @staticmethod\n",
    "    def static_method(x):\n",
    "        return 'static method ' + x\n",
    "    \n",
    "    @classmethod\n",
    "    def class_method(cls, x):\n",
    "        return 'class method ' + x"
   ]
  },
  {
   "cell_type": "code",
   "execution_count": 33,
   "id": "54256299",
   "metadata": {},
   "outputs": [
    {
     "data": {
      "text/plain": [
       "'protected'"
      ]
     },
     "execution_count": 33,
     "metadata": {},
     "output_type": "execute_result"
    }
   ],
   "source": [
    "ex = Example()\n",
    "ex._protected_variable"
   ]
  },
  {
   "cell_type": "code",
   "execution_count": 34,
   "id": "d07f5a2d",
   "metadata": {},
   "outputs": [
    {
     "name": "stdout",
     "output_type": "stream",
     "text": [
      "'Example' object has no attribute '__private_variable'\n"
     ]
    }
   ],
   "source": [
    "try:\n",
    "  print(ex.__private_variable)\n",
    "except Exception as e:\n",
    "  print(e)"
   ]
  },
  {
   "cell_type": "code",
   "execution_count": 35,
   "id": "23078c86",
   "metadata": {},
   "outputs": [
    {
     "data": {
      "text/plain": [
       "'private'"
      ]
     },
     "execution_count": 35,
     "metadata": {},
     "output_type": "execute_result"
    }
   ],
   "source": [
    "ex._Example__private_variable"
   ]
  },
  {
   "cell_type": "code",
   "execution_count": 36,
   "id": "9726af9f",
   "metadata": {},
   "outputs": [
    {
     "data": {
      "text/plain": [
       "'instance method privateprotected'"
      ]
     },
     "execution_count": 36,
     "metadata": {},
     "output_type": "execute_result"
    }
   ],
   "source": [
    "ex.instance_method()"
   ]
  },
  {
   "cell_type": "code",
   "execution_count": 37,
   "id": "8fae01f6",
   "metadata": {},
   "outputs": [
    {
     "data": {
      "text/plain": [
       "'static method a'"
      ]
     },
     "execution_count": 37,
     "metadata": {},
     "output_type": "execute_result"
    }
   ],
   "source": [
    "ex.static_method('a')  # not sure how this is useful"
   ]
  },
  {
   "cell_type": "code",
   "execution_count": 38,
   "id": "567df0ff",
   "metadata": {},
   "outputs": [
    {
     "data": {
      "text/plain": [
       "'class method a'"
      ]
     },
     "execution_count": 38,
     "metadata": {},
     "output_type": "execute_result"
    }
   ],
   "source": [
    "Example.class_method('a')  # no instance"
   ]
  },
  {
   "cell_type": "markdown",
   "id": "a6b66631",
   "metadata": {},
   "source": [
    "## Getters / Setters"
   ]
  },
  {
   "cell_type": "code",
   "execution_count": 4,
   "id": "58ea6ca7",
   "metadata": {},
   "outputs": [],
   "source": [
    "class ExampleClass:\n",
    "\n",
    "    def __init__(self, my_variable=0):\n",
    "        self._my_variable = my_variable\n",
    "\n",
    "    @property\n",
    "    def my_variable(self):\n",
    "        \"\"\"I'm the 'my_variable' property.\"\"\"\n",
    "        print(\"getter of my_variable called\")\n",
    "        return self._my_variable\n",
    "\n",
    "    @my_variable.setter\n",
    "    def my_variable(self, value):\n",
    "        print(\"setter of my_variable called\")\n",
    "        self._my_variable = value"
   ]
  },
  {
   "cell_type": "code",
   "execution_count": 5,
   "id": "068d2a06",
   "metadata": {},
   "outputs": [
    {
     "name": "stdout",
     "output_type": "stream",
     "text": [
      "getter of my_variable called\n"
     ]
    },
    {
     "data": {
      "text/plain": [
       "True"
      ]
     },
     "execution_count": 5,
     "metadata": {},
     "output_type": "execute_result"
    }
   ],
   "source": [
    "example = ExampleClass()\n",
    "example.my_variable == 0"
   ]
  },
  {
   "cell_type": "code",
   "execution_count": 6,
   "id": "64d3ee34",
   "metadata": {},
   "outputs": [
    {
     "name": "stdout",
     "output_type": "stream",
     "text": [
      "setter of my_variable called\n"
     ]
    }
   ],
   "source": [
    "example.my_variable = 0"
   ]
  },
  {
   "cell_type": "code",
   "execution_count": null,
   "id": "5b46f856",
   "metadata": {},
   "outputs": [],
   "source": []
  },
  {
   "cell_type": "markdown",
   "id": "5f574e79",
   "metadata": {},
   "source": [
    "# Default Arguments"
   ]
  },
  {
   "cell_type": "code",
   "execution_count": null,
   "id": "d2c18bae",
   "metadata": {},
   "outputs": [],
   "source": []
  },
  {
   "cell_type": "markdown",
   "id": "ef861058",
   "metadata": {},
   "source": [
    "Python’s default arguments are evaluated once when the function is defined, not each time the function is called (like it is in say, Ruby). This means that if you use a mutable default argument and mutate it, you will and have mutated that object for all future calls to the function as well.\n",
    "\t* http://docs.python-guide.org/en/latest/writing/gotchas/\n",
    "\t* This means you cannot assign objects as default arguments"
   ]
  },
  {
   "cell_type": "code",
   "execution_count": null,
   "id": "ddd6fc35",
   "metadata": {},
   "outputs": [],
   "source": []
  },
  {
   "cell_type": "code",
   "execution_count": null,
   "id": "3396f1ca",
   "metadata": {},
   "outputs": [],
   "source": []
  },
  {
   "cell_type": "markdown",
   "id": "6ae6d8be",
   "metadata": {},
   "source": [
    "# Pandas"
   ]
  },
  {
   "cell_type": "code",
   "execution_count": 36,
   "id": "8a6e75a9",
   "metadata": {},
   "outputs": [],
   "source": [
    "import numpy as np\n",
    "import pandas as pd\n",
    "\n",
    "dates = pd.date_range(\"20210809\", periods=6)\n",
    "df = pd.DataFrame(np.random.randn(6, 4),\n",
    "                  index=dates,\n",
    "                  columns=list(\"ABCD\"))"
   ]
  },
  {
   "cell_type": "code",
   "execution_count": 37,
   "id": "b6fbccb1",
   "metadata": {},
   "outputs": [
    {
     "data": {
      "text/plain": [
       "DatetimeIndex(['2021-08-09', '2021-08-10', '2021-08-11', '2021-08-12',\n",
       "               '2021-08-13', '2021-08-14'],\n",
       "              dtype='datetime64[ns]', freq='D')"
      ]
     },
     "execution_count": 37,
     "metadata": {},
     "output_type": "execute_result"
    }
   ],
   "source": [
    "dates"
   ]
  },
  {
   "cell_type": "code",
   "execution_count": 38,
   "id": "af0070db",
   "metadata": {},
   "outputs": [
    {
     "data": {
      "text/html": [
       "<div>\n",
       "<style scoped>\n",
       "    .dataframe tbody tr th:only-of-type {\n",
       "        vertical-align: middle;\n",
       "    }\n",
       "\n",
       "    .dataframe tbody tr th {\n",
       "        vertical-align: top;\n",
       "    }\n",
       "\n",
       "    .dataframe thead th {\n",
       "        text-align: right;\n",
       "    }\n",
       "</style>\n",
       "<table border=\"1\" class=\"dataframe\">\n",
       "  <thead>\n",
       "    <tr style=\"text-align: right;\">\n",
       "      <th></th>\n",
       "      <th>A</th>\n",
       "      <th>B</th>\n",
       "      <th>C</th>\n",
       "      <th>D</th>\n",
       "    </tr>\n",
       "  </thead>\n",
       "  <tbody>\n",
       "    <tr>\n",
       "      <th>2021-08-09</th>\n",
       "      <td>0.616001</td>\n",
       "      <td>0.083380</td>\n",
       "      <td>-1.262269</td>\n",
       "      <td>-0.465193</td>\n",
       "    </tr>\n",
       "    <tr>\n",
       "      <th>2021-08-10</th>\n",
       "      <td>-0.887558</td>\n",
       "      <td>-2.356643</td>\n",
       "      <td>-1.841870</td>\n",
       "      <td>1.643564</td>\n",
       "    </tr>\n",
       "    <tr>\n",
       "      <th>2021-08-11</th>\n",
       "      <td>2.166489</td>\n",
       "      <td>-0.689452</td>\n",
       "      <td>0.971042</td>\n",
       "      <td>0.165095</td>\n",
       "    </tr>\n",
       "    <tr>\n",
       "      <th>2021-08-12</th>\n",
       "      <td>-0.936240</td>\n",
       "      <td>0.503092</td>\n",
       "      <td>-1.407962</td>\n",
       "      <td>-0.267147</td>\n",
       "    </tr>\n",
       "    <tr>\n",
       "      <th>2021-08-13</th>\n",
       "      <td>-0.742352</td>\n",
       "      <td>-0.756808</td>\n",
       "      <td>0.892585</td>\n",
       "      <td>-0.831355</td>\n",
       "    </tr>\n",
       "    <tr>\n",
       "      <th>2021-08-14</th>\n",
       "      <td>0.441767</td>\n",
       "      <td>0.572348</td>\n",
       "      <td>0.167592</td>\n",
       "      <td>2.158319</td>\n",
       "    </tr>\n",
       "  </tbody>\n",
       "</table>\n",
       "</div>"
      ],
      "text/plain": [
       "                   A         B         C         D\n",
       "2021-08-09  0.616001  0.083380 -1.262269 -0.465193\n",
       "2021-08-10 -0.887558 -2.356643 -1.841870  1.643564\n",
       "2021-08-11  2.166489 -0.689452  0.971042  0.165095\n",
       "2021-08-12 -0.936240  0.503092 -1.407962 -0.267147\n",
       "2021-08-13 -0.742352 -0.756808  0.892585 -0.831355\n",
       "2021-08-14  0.441767  0.572348  0.167592  2.158319"
      ]
     },
     "execution_count": 38,
     "metadata": {},
     "output_type": "execute_result"
    }
   ],
   "source": [
    "df"
   ]
  },
  {
   "cell_type": "markdown",
   "id": "c67f8fe0",
   "metadata": {},
   "source": [
    "## Copy by Reference"
   ]
  },
  {
   "cell_type": "code",
   "execution_count": 39,
   "id": "0562359d",
   "metadata": {},
   "outputs": [],
   "source": [
    "df_2 = df"
   ]
  },
  {
   "cell_type": "code",
   "execution_count": 40,
   "id": "7e1eba5d",
   "metadata": {},
   "outputs": [],
   "source": [
    "df.iat[0, 0] = np.nan"
   ]
  },
  {
   "cell_type": "code",
   "execution_count": 41,
   "id": "ed0223ad",
   "metadata": {},
   "outputs": [
    {
     "data": {
      "text/plain": [
       "A         NaN\n",
       "B    0.083380\n",
       "C   -1.262269\n",
       "D   -0.465193\n",
       "Name: 2021-08-09 00:00:00, dtype: float64"
      ]
     },
     "execution_count": 41,
     "metadata": {},
     "output_type": "execute_result"
    }
   ],
   "source": [
    "df.iloc[0, :]"
   ]
  },
  {
   "cell_type": "code",
   "execution_count": 42,
   "id": "477640e1",
   "metadata": {},
   "outputs": [
    {
     "data": {
      "text/plain": [
       "A         NaN\n",
       "B    0.083380\n",
       "C   -1.262269\n",
       "D   -0.465193\n",
       "Name: 2021-08-09 00:00:00, dtype: float64"
      ]
     },
     "execution_count": 42,
     "metadata": {},
     "output_type": "execute_result"
    }
   ],
   "source": [
    "df_2.iloc[0, :]"
   ]
  },
  {
   "cell_type": "markdown",
   "id": "a61e3eea",
   "metadata": {},
   "source": [
    "### Use `.copy()` for deep copy"
   ]
  },
  {
   "cell_type": "code",
   "execution_count": 43,
   "id": "8670ddfc",
   "metadata": {},
   "outputs": [],
   "source": [
    "df_2 = df.copy()"
   ]
  },
  {
   "cell_type": "code",
   "execution_count": 44,
   "id": "fd84a2ef",
   "metadata": {},
   "outputs": [],
   "source": [
    "df.iat[0, 1] = np.nan"
   ]
  },
  {
   "cell_type": "code",
   "execution_count": 45,
   "id": "32a43c28",
   "metadata": {},
   "outputs": [
    {
     "data": {
      "text/plain": [
       "A         NaN\n",
       "B         NaN\n",
       "C   -1.262269\n",
       "D   -0.465193\n",
       "Name: 2021-08-09 00:00:00, dtype: float64"
      ]
     },
     "execution_count": 45,
     "metadata": {},
     "output_type": "execute_result"
    }
   ],
   "source": [
    "df.iloc[0, :]"
   ]
  },
  {
   "cell_type": "code",
   "execution_count": 46,
   "id": "86a23681",
   "metadata": {},
   "outputs": [
    {
     "data": {
      "text/plain": [
       "A         NaN\n",
       "B    0.083380\n",
       "C   -1.262269\n",
       "D   -0.465193\n",
       "Name: 2021-08-09 00:00:00, dtype: float64"
      ]
     },
     "execution_count": 46,
     "metadata": {},
     "output_type": "execute_result"
    }
   ],
   "source": [
    "df_2.iloc[0, :]"
   ]
  },
  {
   "cell_type": "markdown",
   "id": "8c6acc10",
   "metadata": {},
   "source": [
    "## Selection"
   ]
  },
  {
   "cell_type": "code",
   "execution_count": 47,
   "id": "841c5f51",
   "metadata": {},
   "outputs": [
    {
     "data": {
      "text/plain": [
       "2021-08-09         NaN\n",
       "2021-08-10   -0.887558\n",
       "2021-08-11    2.166489\n",
       "2021-08-12   -0.936240\n",
       "2021-08-13   -0.742352\n",
       "2021-08-14    0.441767\n",
       "Freq: D, Name: A, dtype: float64"
      ]
     },
     "execution_count": 47,
     "metadata": {},
     "output_type": "execute_result"
    }
   ],
   "source": [
    "df.A"
   ]
  },
  {
   "cell_type": "code",
   "execution_count": 48,
   "id": "3fb6e6e4",
   "metadata": {},
   "outputs": [
    {
     "data": {
      "text/plain": [
       "2021-08-09         NaN\n",
       "2021-08-10   -0.887558\n",
       "2021-08-11    2.166489\n",
       "2021-08-12   -0.936240\n",
       "2021-08-13   -0.742352\n",
       "2021-08-14    0.441767\n",
       "Freq: D, Name: A, dtype: float64"
      ]
     },
     "execution_count": 48,
     "metadata": {},
     "output_type": "execute_result"
    }
   ],
   "source": [
    "df['A']  # all rows of single column"
   ]
  },
  {
   "cell_type": "code",
   "execution_count": 49,
   "id": "5c135388",
   "metadata": {},
   "outputs": [
    {
     "data": {
      "text/html": [
       "<div>\n",
       "<style scoped>\n",
       "    .dataframe tbody tr th:only-of-type {\n",
       "        vertical-align: middle;\n",
       "    }\n",
       "\n",
       "    .dataframe tbody tr th {\n",
       "        vertical-align: top;\n",
       "    }\n",
       "\n",
       "    .dataframe thead th {\n",
       "        text-align: right;\n",
       "    }\n",
       "</style>\n",
       "<table border=\"1\" class=\"dataframe\">\n",
       "  <thead>\n",
       "    <tr style=\"text-align: right;\">\n",
       "      <th></th>\n",
       "      <th>A</th>\n",
       "      <th>B</th>\n",
       "      <th>C</th>\n",
       "      <th>D</th>\n",
       "    </tr>\n",
       "  </thead>\n",
       "  <tbody>\n",
       "    <tr>\n",
       "      <th>2021-08-09</th>\n",
       "      <td>NaN</td>\n",
       "      <td>NaN</td>\n",
       "      <td>-1.262269</td>\n",
       "      <td>-0.465193</td>\n",
       "    </tr>\n",
       "  </tbody>\n",
       "</table>\n",
       "</div>"
      ],
      "text/plain": [
       "             A   B         C         D\n",
       "2021-08-09 NaN NaN -1.262269 -0.465193"
      ]
     },
     "execution_count": 49,
     "metadata": {},
     "output_type": "execute_result"
    }
   ],
   "source": [
    "df[0:1]  # slices rows; excludes last index"
   ]
  },
  {
   "cell_type": "code",
   "execution_count": 50,
   "id": "9b623d7a",
   "metadata": {},
   "outputs": [
    {
     "data": {
      "text/html": [
       "<div>\n",
       "<style scoped>\n",
       "    .dataframe tbody tr th:only-of-type {\n",
       "        vertical-align: middle;\n",
       "    }\n",
       "\n",
       "    .dataframe tbody tr th {\n",
       "        vertical-align: top;\n",
       "    }\n",
       "\n",
       "    .dataframe thead th {\n",
       "        text-align: right;\n",
       "    }\n",
       "</style>\n",
       "<table border=\"1\" class=\"dataframe\">\n",
       "  <thead>\n",
       "    <tr style=\"text-align: right;\">\n",
       "      <th></th>\n",
       "      <th>A</th>\n",
       "    </tr>\n",
       "  </thead>\n",
       "  <tbody>\n",
       "    <tr>\n",
       "      <th>2021-08-09</th>\n",
       "      <td>NaN</td>\n",
       "    </tr>\n",
       "    <tr>\n",
       "      <th>2021-08-10</th>\n",
       "      <td>-0.887558</td>\n",
       "    </tr>\n",
       "    <tr>\n",
       "      <th>2021-08-11</th>\n",
       "      <td>2.166489</td>\n",
       "    </tr>\n",
       "    <tr>\n",
       "      <th>2021-08-12</th>\n",
       "      <td>-0.936240</td>\n",
       "    </tr>\n",
       "    <tr>\n",
       "      <th>2021-08-13</th>\n",
       "      <td>-0.742352</td>\n",
       "    </tr>\n",
       "    <tr>\n",
       "      <th>2021-08-14</th>\n",
       "      <td>0.441767</td>\n",
       "    </tr>\n",
       "  </tbody>\n",
       "</table>\n",
       "</div>"
      ],
      "text/plain": [
       "                   A\n",
       "2021-08-09       NaN\n",
       "2021-08-10 -0.887558\n",
       "2021-08-11  2.166489\n",
       "2021-08-12 -0.936240\n",
       "2021-08-13 -0.742352\n",
       "2021-08-14  0.441767"
      ]
     },
     "execution_count": 50,
     "metadata": {},
     "output_type": "execute_result"
    }
   ],
   "source": [
    "df[['A']]"
   ]
  },
  {
   "cell_type": "markdown",
   "id": "a5135d95",
   "metadata": {},
   "source": [
    "If passing a single value to `.loc`, a Series is returned; if passing a list to `.loc` a DataFrame is returned"
   ]
  },
  {
   "cell_type": "code",
   "execution_count": 51,
   "id": "56e00d9c",
   "metadata": {},
   "outputs": [
    {
     "data": {
      "text/plain": [
       "A         NaN\n",
       "B         NaN\n",
       "C   -1.262269\n",
       "D   -0.465193\n",
       "Name: 2021-08-09 00:00:00, dtype: float64"
      ]
     },
     "execution_count": 51,
     "metadata": {},
     "output_type": "execute_result"
    }
   ],
   "source": [
    "df.loc[pd.to_datetime('2021-08-09')]"
   ]
  },
  {
   "cell_type": "code",
   "execution_count": 52,
   "id": "4f465b6c",
   "metadata": {},
   "outputs": [
    {
     "data": {
      "text/html": [
       "<div>\n",
       "<style scoped>\n",
       "    .dataframe tbody tr th:only-of-type {\n",
       "        vertical-align: middle;\n",
       "    }\n",
       "\n",
       "    .dataframe tbody tr th {\n",
       "        vertical-align: top;\n",
       "    }\n",
       "\n",
       "    .dataframe thead th {\n",
       "        text-align: right;\n",
       "    }\n",
       "</style>\n",
       "<table border=\"1\" class=\"dataframe\">\n",
       "  <thead>\n",
       "    <tr style=\"text-align: right;\">\n",
       "      <th></th>\n",
       "      <th>A</th>\n",
       "      <th>B</th>\n",
       "      <th>C</th>\n",
       "      <th>D</th>\n",
       "    </tr>\n",
       "  </thead>\n",
       "  <tbody>\n",
       "    <tr>\n",
       "      <th>2021-08-09</th>\n",
       "      <td>NaN</td>\n",
       "      <td>NaN</td>\n",
       "      <td>-1.262269</td>\n",
       "      <td>-0.465193</td>\n",
       "    </tr>\n",
       "  </tbody>\n",
       "</table>\n",
       "</div>"
      ],
      "text/plain": [
       "             A   B         C         D\n",
       "2021-08-09 NaN NaN -1.262269 -0.465193"
      ]
     },
     "execution_count": 52,
     "metadata": {},
     "output_type": "execute_result"
    }
   ],
   "source": [
    "df.loc[[pd.to_datetime('2021-08-09')]]"
   ]
  },
  {
   "cell_type": "code",
   "execution_count": 53,
   "id": "9cc87475",
   "metadata": {},
   "outputs": [
    {
     "data": {
      "text/html": [
       "<div>\n",
       "<style scoped>\n",
       "    .dataframe tbody tr th:only-of-type {\n",
       "        vertical-align: middle;\n",
       "    }\n",
       "\n",
       "    .dataframe tbody tr th {\n",
       "        vertical-align: top;\n",
       "    }\n",
       "\n",
       "    .dataframe thead th {\n",
       "        text-align: right;\n",
       "    }\n",
       "</style>\n",
       "<table border=\"1\" class=\"dataframe\">\n",
       "  <thead>\n",
       "    <tr style=\"text-align: right;\">\n",
       "      <th></th>\n",
       "      <th>A</th>\n",
       "      <th>B</th>\n",
       "      <th>C</th>\n",
       "      <th>D</th>\n",
       "    </tr>\n",
       "  </thead>\n",
       "  <tbody>\n",
       "    <tr>\n",
       "      <th>2021-08-09</th>\n",
       "      <td>NaN</td>\n",
       "      <td>NaN</td>\n",
       "      <td>-1.262269</td>\n",
       "      <td>-0.465193</td>\n",
       "    </tr>\n",
       "    <tr>\n",
       "      <th>2021-08-10</th>\n",
       "      <td>-0.887558</td>\n",
       "      <td>-2.356643</td>\n",
       "      <td>-1.841870</td>\n",
       "      <td>1.643564</td>\n",
       "    </tr>\n",
       "  </tbody>\n",
       "</table>\n",
       "</div>"
      ],
      "text/plain": [
       "                   A         B         C         D\n",
       "2021-08-09       NaN       NaN -1.262269 -0.465193\n",
       "2021-08-10 -0.887558 -2.356643 -1.841870  1.643564"
      ]
     },
     "execution_count": 53,
     "metadata": {},
     "output_type": "execute_result"
    }
   ],
   "source": [
    "df.loc[[pd.to_datetime('2021-08-09'), pd.to_datetime('2021-08-10')]]"
   ]
  },
  {
   "cell_type": "code",
   "execution_count": null,
   "id": "19a081ef",
   "metadata": {},
   "outputs": [],
   "source": []
  },
  {
   "cell_type": "code",
   "execution_count": null,
   "id": "155a1c77",
   "metadata": {},
   "outputs": [],
   "source": []
  },
  {
   "cell_type": "code",
   "execution_count": null,
   "id": "6da84118",
   "metadata": {},
   "outputs": [],
   "source": []
  },
  {
   "cell_type": "code",
   "execution_count": null,
   "id": "32637d90",
   "metadata": {},
   "outputs": [],
   "source": []
  },
  {
   "cell_type": "markdown",
   "id": "152c5955",
   "metadata": {},
   "source": [
    "### `at` vs `loc`"
   ]
  },
  {
   "cell_type": "markdown",
   "id": "0cec13b8",
   "metadata": {},
   "source": [
    "- `df.at` is faster\n",
    "- `df.at` can only access a single value at a time.\n",
    "- `df.loc` can select multiple rows and/or columns.\n",
    "\n",
    "\n",
    "https://stackoverflow.com/questions/37216485/pandas-at-versus-loc"
   ]
  },
  {
   "cell_type": "code",
   "execution_count": null,
   "id": "a256afd5",
   "metadata": {},
   "outputs": [],
   "source": []
  },
  {
   "cell_type": "code",
   "execution_count": null,
   "id": "aa7ec3c7",
   "metadata": {},
   "outputs": [],
   "source": []
  },
  {
   "cell_type": "markdown",
   "id": "85d98954",
   "metadata": {},
   "source": [
    "## Applying Functions\n",
    "\n",
    "https://pandas.pydata.org/pandas-docs/stable/user_guide/basics.html#function-application"
   ]
  },
  {
   "cell_type": "markdown",
   "id": "5915ea6e",
   "metadata": {},
   "source": [
    "### Tablewise function application - Chaining Function Calls with `pipe()`"
   ]
  },
  {
   "cell_type": "code",
   "execution_count": 147,
   "id": "b2c58415",
   "metadata": {},
   "outputs": [
    {
     "data": {
      "text/html": [
       "<div>\n",
       "<style scoped>\n",
       "    .dataframe tbody tr th:only-of-type {\n",
       "        vertical-align: middle;\n",
       "    }\n",
       "\n",
       "    .dataframe tbody tr th {\n",
       "        vertical-align: top;\n",
       "    }\n",
       "\n",
       "    .dataframe thead th {\n",
       "        text-align: right;\n",
       "    }\n",
       "</style>\n",
       "<table border=\"1\" class=\"dataframe\">\n",
       "  <thead>\n",
       "    <tr style=\"text-align: right;\">\n",
       "      <th></th>\n",
       "      <th>city_and_code</th>\n",
       "    </tr>\n",
       "  </thead>\n",
       "  <tbody>\n",
       "    <tr>\n",
       "      <th>0</th>\n",
       "      <td>Chicago, IL</td>\n",
       "    </tr>\n",
       "    <tr>\n",
       "      <th>1</th>\n",
       "      <td>Seattle, WA</td>\n",
       "    </tr>\n",
       "  </tbody>\n",
       "</table>\n",
       "</div>"
      ],
      "text/plain": [
       "  city_and_code\n",
       "0   Chicago, IL\n",
       "1   Seattle, WA"
      ]
     },
     "execution_count": 147,
     "metadata": {},
     "output_type": "execute_result"
    }
   ],
   "source": [
    "df_p = pd.DataFrame({\"city_and_code\": [\"Chicago, IL\", \"Seattle, WA\"]})\n",
    "df_p"
   ]
  },
  {
   "cell_type": "code",
   "execution_count": 144,
   "id": "685badc0",
   "metadata": {},
   "outputs": [
    {
     "data": {
      "text/plain": [
       "0    [Chicago,  IL]\n",
       "1    [Seattle,  WA]\n",
       "Name: city_and_code, dtype: object"
      ]
     },
     "execution_count": 144,
     "metadata": {},
     "output_type": "execute_result"
    }
   ],
   "source": [
    "df_p[\"city_and_code\"].str.split(\",\")"
   ]
  },
  {
   "cell_type": "code",
   "execution_count": 145,
   "id": "f84faa5e",
   "metadata": {},
   "outputs": [
    {
     "data": {
      "text/plain": [
       "0     IL\n",
       "1     WA\n",
       "Name: city_and_code, dtype: object"
      ]
     },
     "execution_count": 145,
     "metadata": {},
     "output_type": "execute_result"
    }
   ],
   "source": [
    "df_p[\"city_and_code\"].str.split(\",\").str.get(1)"
   ]
  },
  {
   "cell_type": "code",
   "execution_count": 148,
   "id": "cb47d8ff",
   "metadata": {},
   "outputs": [],
   "source": [
    "def extract_city_name(df):\n",
    "    \"\"\"\n",
    "    Chicago, IL -> Chicago for city_name column\n",
    "    \"\"\"\n",
    "    df[\"city_name\"] = df[\"city_and_code\"].str.split(\",\").str.get(0)\n",
    "    return df\n",
    "\n",
    "def add_country_name(df, country_name=None):\n",
    "    \"\"\"\n",
    "    Chicago -> Chicago-US for city_name column\n",
    "    \"\"\"\n",
    "    col = \"city_name\"\n",
    "    df[\"city_and_country\"] = df[col] + country_name\n",
    "    return df"
   ]
  },
  {
   "cell_type": "code",
   "execution_count": null,
   "id": "19a8ee66",
   "metadata": {},
   "outputs": [],
   "source": []
  },
  {
   "cell_type": "code",
   "execution_count": 149,
   "id": "c2c0a635",
   "metadata": {},
   "outputs": [
    {
     "data": {
      "text/html": [
       "<div>\n",
       "<style scoped>\n",
       "    .dataframe tbody tr th:only-of-type {\n",
       "        vertical-align: middle;\n",
       "    }\n",
       "\n",
       "    .dataframe tbody tr th {\n",
       "        vertical-align: top;\n",
       "    }\n",
       "\n",
       "    .dataframe thead th {\n",
       "        text-align: right;\n",
       "    }\n",
       "</style>\n",
       "<table border=\"1\" class=\"dataframe\">\n",
       "  <thead>\n",
       "    <tr style=\"text-align: right;\">\n",
       "      <th></th>\n",
       "      <th>city_and_code</th>\n",
       "      <th>city_name</th>\n",
       "      <th>city_and_country</th>\n",
       "    </tr>\n",
       "  </thead>\n",
       "  <tbody>\n",
       "    <tr>\n",
       "      <th>0</th>\n",
       "      <td>Chicago, IL</td>\n",
       "      <td>Chicago</td>\n",
       "      <td>ChicagoUS</td>\n",
       "    </tr>\n",
       "    <tr>\n",
       "      <th>1</th>\n",
       "      <td>Seattle, WA</td>\n",
       "      <td>Seattle</td>\n",
       "      <td>SeattleUS</td>\n",
       "    </tr>\n",
       "  </tbody>\n",
       "</table>\n",
       "</div>"
      ],
      "text/plain": [
       "  city_and_code city_name city_and_country\n",
       "0   Chicago, IL   Chicago        ChicagoUS\n",
       "1   Seattle, WA   Seattle        SeattleUS"
      ]
     },
     "execution_count": 149,
     "metadata": {},
     "output_type": "execute_result"
    }
   ],
   "source": [
    "df_p.pipe(extract_city_name).pipe(add_country_name, country_name=\"US\")"
   ]
  },
  {
   "cell_type": "markdown",
   "id": "1582ffe1",
   "metadata": {},
   "source": [
    "Python is pass by reference, so, unlike R, the DataFrame changes without having to make final assignment back into `df_p`. Instaed of returning the DataFrame object we are returning a pointer do the object."
   ]
  },
  {
   "cell_type": "code",
   "execution_count": 153,
   "id": "ba848752",
   "metadata": {},
   "outputs": [
    {
     "data": {
      "text/html": [
       "<div>\n",
       "<style scoped>\n",
       "    .dataframe tbody tr th:only-of-type {\n",
       "        vertical-align: middle;\n",
       "    }\n",
       "\n",
       "    .dataframe tbody tr th {\n",
       "        vertical-align: top;\n",
       "    }\n",
       "\n",
       "    .dataframe thead th {\n",
       "        text-align: right;\n",
       "    }\n",
       "</style>\n",
       "<table border=\"1\" class=\"dataframe\">\n",
       "  <thead>\n",
       "    <tr style=\"text-align: right;\">\n",
       "      <th></th>\n",
       "      <th>city_and_code</th>\n",
       "      <th>city_name</th>\n",
       "      <th>city_and_country</th>\n",
       "    </tr>\n",
       "  </thead>\n",
       "  <tbody>\n",
       "    <tr>\n",
       "      <th>0</th>\n",
       "      <td>Chicago, IL</td>\n",
       "      <td>Chicago</td>\n",
       "      <td>ChicagoUS</td>\n",
       "    </tr>\n",
       "    <tr>\n",
       "      <th>1</th>\n",
       "      <td>Seattle, WA</td>\n",
       "      <td>Seattle</td>\n",
       "      <td>SeattleUS</td>\n",
       "    </tr>\n",
       "  </tbody>\n",
       "</table>\n",
       "</div>"
      ],
      "text/plain": [
       "  city_and_code city_name city_and_country\n",
       "0   Chicago, IL   Chicago        ChicagoUS\n",
       "1   Seattle, WA   Seattle        SeattleUS"
      ]
     },
     "execution_count": 153,
     "metadata": {},
     "output_type": "execute_result"
    }
   ],
   "source": [
    "df_p"
   ]
  },
  {
   "cell_type": "code",
   "execution_count": null,
   "id": "502f213b",
   "metadata": {},
   "outputs": [],
   "source": []
  },
  {
   "cell_type": "code",
   "execution_count": null,
   "id": "0fae570f",
   "metadata": {},
   "outputs": [],
   "source": []
  },
  {
   "cell_type": "markdown",
   "id": "e9bd555a",
   "metadata": {},
   "source": [
    "## Pandas Aggregations"
   ]
  },
  {
   "cell_type": "code",
   "execution_count": 100,
   "id": "2459d8bb",
   "metadata": {},
   "outputs": [],
   "source": [
    "import pandas as pd\n",
    "data = pd.DataFrame({\n",
    "    'col1':['a','a','a','a','a','b','b','b','b','b'],\n",
    "    'col2':[1,2,3,4,5,6,7,8,9,0],\n",
    "    'col3':[-1,-2,-3,-4,-5,-6,-7,-8,-9,0]\n",
    "})"
   ]
  },
  {
   "cell_type": "code",
   "execution_count": 101,
   "id": "7f3774b5",
   "metadata": {},
   "outputs": [
    {
     "data": {
      "text/html": [
       "<div>\n",
       "<style scoped>\n",
       "    .dataframe tbody tr th:only-of-type {\n",
       "        vertical-align: middle;\n",
       "    }\n",
       "\n",
       "    .dataframe tbody tr th {\n",
       "        vertical-align: top;\n",
       "    }\n",
       "\n",
       "    .dataframe thead th {\n",
       "        text-align: right;\n",
       "    }\n",
       "</style>\n",
       "<table border=\"1\" class=\"dataframe\">\n",
       "  <thead>\n",
       "    <tr style=\"text-align: right;\">\n",
       "      <th></th>\n",
       "      <th>col2</th>\n",
       "      <th>col3</th>\n",
       "    </tr>\n",
       "    <tr>\n",
       "      <th>col1</th>\n",
       "      <th></th>\n",
       "      <th></th>\n",
       "    </tr>\n",
       "  </thead>\n",
       "  <tbody>\n",
       "    <tr>\n",
       "      <th>a</th>\n",
       "      <td>5</td>\n",
       "      <td>-5</td>\n",
       "    </tr>\n",
       "    <tr>\n",
       "      <th>b</th>\n",
       "      <td>9</td>\n",
       "      <td>-9</td>\n",
       "    </tr>\n",
       "  </tbody>\n",
       "</table>\n",
       "</div>"
      ],
      "text/plain": [
       "      col2  col3\n",
       "col1            \n",
       "a        5    -5\n",
       "b        9    -9"
      ]
     },
     "execution_count": 101,
     "metadata": {},
     "output_type": "execute_result"
    }
   ],
   "source": [
    "data.groupby('col1').agg({'col2': 'max', 'col3': 'min'})"
   ]
  },
  {
   "cell_type": "markdown",
   "id": "0f2c2515",
   "metadata": {},
   "source": [
    "\n",
    "https://stackoverflow.com/questions/10951341/pandas-dataframe-aggregate-function-using-multiple-columns"
   ]
  },
  {
   "cell_type": "code",
   "execution_count": 102,
   "id": "78b4f50e",
   "metadata": {},
   "outputs": [
    {
     "data": {
      "text/html": [
       "<div>\n",
       "<style scoped>\n",
       "    .dataframe tbody tr th:only-of-type {\n",
       "        vertical-align: middle;\n",
       "    }\n",
       "\n",
       "    .dataframe tbody tr th {\n",
       "        vertical-align: top;\n",
       "    }\n",
       "\n",
       "    .dataframe thead th {\n",
       "        text-align: right;\n",
       "    }\n",
       "</style>\n",
       "<table border=\"1\" class=\"dataframe\">\n",
       "  <thead>\n",
       "    <tr style=\"text-align: right;\">\n",
       "      <th></th>\n",
       "      <th>col1</th>\n",
       "      <th>col2</th>\n",
       "      <th>col3</th>\n",
       "    </tr>\n",
       "  </thead>\n",
       "  <tbody>\n",
       "    <tr>\n",
       "      <th>0</th>\n",
       "      <td>a</td>\n",
       "      <td>1</td>\n",
       "      <td>-1</td>\n",
       "    </tr>\n",
       "    <tr>\n",
       "      <th>1</th>\n",
       "      <td>a</td>\n",
       "      <td>2</td>\n",
       "      <td>-2</td>\n",
       "    </tr>\n",
       "    <tr>\n",
       "      <th>2</th>\n",
       "      <td>a</td>\n",
       "      <td>3</td>\n",
       "      <td>-3</td>\n",
       "    </tr>\n",
       "    <tr>\n",
       "      <th>3</th>\n",
       "      <td>a</td>\n",
       "      <td>4</td>\n",
       "      <td>-4</td>\n",
       "    </tr>\n",
       "    <tr>\n",
       "      <th>4</th>\n",
       "      <td>a</td>\n",
       "      <td>5</td>\n",
       "      <td>-5</td>\n",
       "    </tr>\n",
       "    <tr>\n",
       "      <th>5</th>\n",
       "      <td>b</td>\n",
       "      <td>6</td>\n",
       "      <td>-6</td>\n",
       "    </tr>\n",
       "    <tr>\n",
       "      <th>6</th>\n",
       "      <td>b</td>\n",
       "      <td>7</td>\n",
       "      <td>-7</td>\n",
       "    </tr>\n",
       "    <tr>\n",
       "      <th>7</th>\n",
       "      <td>b</td>\n",
       "      <td>8</td>\n",
       "      <td>-8</td>\n",
       "    </tr>\n",
       "    <tr>\n",
       "      <th>8</th>\n",
       "      <td>b</td>\n",
       "      <td>9</td>\n",
       "      <td>-9</td>\n",
       "    </tr>\n",
       "    <tr>\n",
       "      <th>9</th>\n",
       "      <td>b</td>\n",
       "      <td>0</td>\n",
       "      <td>0</td>\n",
       "    </tr>\n",
       "  </tbody>\n",
       "</table>\n",
       "</div>"
      ],
      "text/plain": [
       "  col1  col2  col3\n",
       "0    a     1    -1\n",
       "1    a     2    -2\n",
       "2    a     3    -3\n",
       "3    a     4    -4\n",
       "4    a     5    -5\n",
       "5    b     6    -6\n",
       "6    b     7    -7\n",
       "7    b     8    -8\n",
       "8    b     9    -9\n",
       "9    b     0     0"
      ]
     },
     "execution_count": 102,
     "metadata": {},
     "output_type": "execute_result"
    }
   ],
   "source": [
    "data"
   ]
  },
  {
   "cell_type": "markdown",
   "id": "26b0692a",
   "metadata": {},
   "source": [
    "```\n",
    "data %>%\n",
    "    group_by(col1) %>%\n",
    "    summarise(result_a = sum(col2 * col3),\n",
    "              result_b = sum(col2) * sum(col3))\n",
    "```"
   ]
  },
  {
   "cell_type": "code",
   "execution_count": 103,
   "id": "65454097",
   "metadata": {},
   "outputs": [],
   "source": [
    "grouped = data.groupby('col1')"
   ]
  },
  {
   "cell_type": "code",
   "execution_count": 104,
   "id": "f9d88ef0",
   "metadata": {},
   "outputs": [
    {
     "data": {
      "text/plain": [
       "col1\n",
       "a    -55\n",
       "b   -230\n",
       "dtype: int64"
      ]
     },
     "execution_count": 104,
     "metadata": {},
     "output_type": "execute_result"
    }
   ],
   "source": [
    "grouped = data.groupby('col1')\n",
    "\n",
    "def my_function(group):\n",
    "    col2 = group['col2']\n",
    "    col3 = group['col3']\n",
    "    return (col2 * col3).sum()\n",
    "\n",
    "result = grouped.apply(my_function)\n",
    "result"
   ]
  },
  {
   "cell_type": "code",
   "execution_count": 106,
   "id": "4073e4f9",
   "metadata": {},
   "outputs": [
    {
     "data": {
      "text/plain": [
       "-230"
      ]
     },
     "execution_count": 106,
     "metadata": {},
     "output_type": "execute_result"
    }
   ],
   "source": [
    "result['b']"
   ]
  },
  {
   "cell_type": "markdown",
   "id": "8bae588e",
   "metadata": {},
   "source": [
    "---"
   ]
  },
  {
   "cell_type": "markdown",
   "id": "daf61457",
   "metadata": {},
   "source": [
    "The following examples shows the equivalent of R's `group_by(...) %>% summarise(...)`\n",
    "\n",
    "https://stackoverflow.com/questions/14529838/apply-multiple-functions-to-multiple-groupby-columns"
   ]
  },
  {
   "cell_type": "code",
   "execution_count": 109,
   "id": "eb17b785",
   "metadata": {},
   "outputs": [
    {
     "data": {
      "text/html": [
       "<div>\n",
       "<style scoped>\n",
       "    .dataframe tbody tr th:only-of-type {\n",
       "        vertical-align: middle;\n",
       "    }\n",
       "\n",
       "    .dataframe tbody tr th {\n",
       "        vertical-align: top;\n",
       "    }\n",
       "\n",
       "    .dataframe thead th {\n",
       "        text-align: right;\n",
       "    }\n",
       "</style>\n",
       "<table border=\"1\" class=\"dataframe\">\n",
       "  <thead>\n",
       "    <tr style=\"text-align: right;\">\n",
       "      <th></th>\n",
       "      <th>col1</th>\n",
       "      <th>col2</th>\n",
       "      <th>col3</th>\n",
       "    </tr>\n",
       "  </thead>\n",
       "  <tbody>\n",
       "    <tr>\n",
       "      <th>0</th>\n",
       "      <td>a</td>\n",
       "      <td>1</td>\n",
       "      <td>-1</td>\n",
       "    </tr>\n",
       "    <tr>\n",
       "      <th>1</th>\n",
       "      <td>a</td>\n",
       "      <td>2</td>\n",
       "      <td>-2</td>\n",
       "    </tr>\n",
       "    <tr>\n",
       "      <th>2</th>\n",
       "      <td>a</td>\n",
       "      <td>3</td>\n",
       "      <td>-3</td>\n",
       "    </tr>\n",
       "    <tr>\n",
       "      <th>3</th>\n",
       "      <td>a</td>\n",
       "      <td>4</td>\n",
       "      <td>-4</td>\n",
       "    </tr>\n",
       "    <tr>\n",
       "      <th>4</th>\n",
       "      <td>a</td>\n",
       "      <td>5</td>\n",
       "      <td>-5</td>\n",
       "    </tr>\n",
       "    <tr>\n",
       "      <th>5</th>\n",
       "      <td>b</td>\n",
       "      <td>6</td>\n",
       "      <td>-6</td>\n",
       "    </tr>\n",
       "    <tr>\n",
       "      <th>6</th>\n",
       "      <td>b</td>\n",
       "      <td>7</td>\n",
       "      <td>-7</td>\n",
       "    </tr>\n",
       "    <tr>\n",
       "      <th>7</th>\n",
       "      <td>b</td>\n",
       "      <td>8</td>\n",
       "      <td>-8</td>\n",
       "    </tr>\n",
       "    <tr>\n",
       "      <th>8</th>\n",
       "      <td>b</td>\n",
       "      <td>9</td>\n",
       "      <td>-9</td>\n",
       "    </tr>\n",
       "    <tr>\n",
       "      <th>9</th>\n",
       "      <td>b</td>\n",
       "      <td>0</td>\n",
       "      <td>0</td>\n",
       "    </tr>\n",
       "  </tbody>\n",
       "</table>\n",
       "</div>"
      ],
      "text/plain": [
       "  col1  col2  col3\n",
       "0    a     1    -1\n",
       "1    a     2    -2\n",
       "2    a     3    -3\n",
       "3    a     4    -4\n",
       "4    a     5    -5\n",
       "5    b     6    -6\n",
       "6    b     7    -7\n",
       "7    b     8    -8\n",
       "8    b     9    -9\n",
       "9    b     0     0"
      ]
     },
     "execution_count": 109,
     "metadata": {},
     "output_type": "execute_result"
    }
   ],
   "source": [
    "data"
   ]
  },
  {
   "cell_type": "code",
   "execution_count": 110,
   "id": "667059be",
   "metadata": {},
   "outputs": [
    {
     "data": {
      "text/html": [
       "<div>\n",
       "<style scoped>\n",
       "    .dataframe tbody tr th:only-of-type {\n",
       "        vertical-align: middle;\n",
       "    }\n",
       "\n",
       "    .dataframe tbody tr th {\n",
       "        vertical-align: top;\n",
       "    }\n",
       "\n",
       "    .dataframe thead th {\n",
       "        text-align: right;\n",
       "    }\n",
       "</style>\n",
       "<table border=\"1\" class=\"dataframe\">\n",
       "  <thead>\n",
       "    <tr style=\"text-align: right;\">\n",
       "      <th></th>\n",
       "      <th>result_a</th>\n",
       "      <th>result_b</th>\n",
       "      <th>result_c</th>\n",
       "      <th>result_d</th>\n",
       "      <th>count</th>\n",
       "      <th>col2_max</th>\n",
       "      <th>col3_max</th>\n",
       "    </tr>\n",
       "    <tr>\n",
       "      <th>col1</th>\n",
       "      <th></th>\n",
       "      <th></th>\n",
       "      <th></th>\n",
       "      <th></th>\n",
       "      <th></th>\n",
       "      <th></th>\n",
       "      <th></th>\n",
       "    </tr>\n",
       "  </thead>\n",
       "  <tbody>\n",
       "    <tr>\n",
       "      <th>a</th>\n",
       "      <td>-55</td>\n",
       "      <td>-225</td>\n",
       "      <td>5    0\n",
       "6    0\n",
       "7    0\n",
       "8    0\n",
       "9    0\n",
       "dtype: int64</td>\n",
       "      <td>0</td>\n",
       "      <td>5</td>\n",
       "      <td>5</td>\n",
       "      <td>-1</td>\n",
       "    </tr>\n",
       "    <tr>\n",
       "      <th>b</th>\n",
       "      <td>-230</td>\n",
       "      <td>-900</td>\n",
       "      <td>5    0\n",
       "6    0\n",
       "7    0\n",
       "8    0\n",
       "9    0\n",
       "dtype: int64</td>\n",
       "      <td>0</td>\n",
       "      <td>5</td>\n",
       "      <td>9</td>\n",
       "      <td>0</td>\n",
       "    </tr>\n",
       "  </tbody>\n",
       "</table>\n",
       "</div>"
      ],
      "text/plain": [
       "      result_a  result_b                                         result_c  \\\n",
       "col1                                                                        \n",
       "a          -55      -225  5    0\n",
       "6    0\n",
       "7    0\n",
       "8    0\n",
       "9    0\n",
       "dtype: int64   \n",
       "b         -230      -900  5    0\n",
       "6    0\n",
       "7    0\n",
       "8    0\n",
       "9    0\n",
       "dtype: int64   \n",
       "\n",
       "      result_d  count  col2_max  col3_max  \n",
       "col1                                       \n",
       "a            0      5         5        -1  \n",
       "b            0      5         9         0  "
      ]
     },
     "execution_count": 110,
     "metadata": {},
     "output_type": "execute_result"
    }
   ],
   "source": [
    "def f(x):\n",
    "    d = {}\n",
    "    d['result_a'] = (x['col2'] * x['col3']).sum()\n",
    "    d['result_b'] = x['col2'].sum() * x['col3'].sum()\n",
    "    d['result_c'] = x['col2'] + x['col3']\n",
    "    d['result_d'] = (x['col2'] + x['col3']).sum()\n",
    "    d['count'] = x.shape[0]\n",
    "    d['col2_max'] = x['col2'].max()\n",
    "    d['col3_max'] = x['col3'].max()\n",
    "    return pd.Series(d)\n",
    "\n",
    "data.groupby('col1').apply(f)"
   ]
  },
  {
   "cell_type": "markdown",
   "id": "fc154bce",
   "metadata": {},
   "source": [
    "which is equivalent to:\n",
    "\n",
    "```\n",
    "data %>%\n",
    "    group_by(col1) %>%\n",
    "    summarise(result_a = sum(col2 * col3),\n",
    "              result_b = sum(col2) * sum(col3),\n",
    "              ...)\n",
    "```"
   ]
  },
  {
   "cell_type": "markdown",
   "id": "f430f509",
   "metadata": {},
   "source": [
    "https://gist.github.com/conormm/fd8b1980c28dd21cfaf6975c86c74d07\n",
    "\n",
    "\n",
    "```\n",
    "df %>% group_by(group) %>% mutate(mean_var1 = mean(var1))  # R\n",
    "df.groupby('group').assign(mean_var1 = lambda x: np.mean(x.var1)  # Python\n",
    "\n",
    "??? df['mean_var1'] = df.groupby('group').pipe(lambda x: x.var1.transform('mean')) #https://gist.github.com/conormm/fd8b1980c28dd21cfaf6975c86c74d07\n",
    "```"
   ]
  },
  {
   "cell_type": "code",
   "execution_count": null,
   "id": "6933667f",
   "metadata": {},
   "outputs": [],
   "source": []
  },
  {
   "cell_type": "code",
   "execution_count": null,
   "id": "4f96dc36",
   "metadata": {},
   "outputs": [],
   "source": []
  },
  {
   "cell_type": "markdown",
   "id": "a1278670",
   "metadata": {},
   "source": [
    "## Get\n",
    "\n",
    "method that allows you to index on a collection and return default value if the index is out of range"
   ]
  },
  {
   "cell_type": "markdown",
   "id": "01c035a5",
   "metadata": {},
   "source": [
    "### Dictionary"
   ]
  },
  {
   "cell_type": "code",
   "execution_count": 135,
   "id": "e034fece",
   "metadata": {},
   "outputs": [
    {
     "data": {
      "text/plain": [
       "True"
      ]
     },
     "execution_count": 135,
     "metadata": {},
     "output_type": "execute_result"
    }
   ],
   "source": [
    "{'a': 1, 'b': 2}.get('c') is None"
   ]
  },
  {
   "cell_type": "code",
   "execution_count": 136,
   "id": "dbae13d4",
   "metadata": {},
   "outputs": [
    {
     "data": {
      "text/plain": [
       "0"
      ]
     },
     "execution_count": 136,
     "metadata": {},
     "output_type": "execute_result"
    }
   ],
   "source": [
    "{'a': 1, 'b': 2}.get('c', 0)"
   ]
  },
  {
   "cell_type": "code",
   "execution_count": 137,
   "id": "37c99993",
   "metadata": {},
   "outputs": [
    {
     "data": {
      "text/plain": [
       "True"
      ]
     },
     "execution_count": 137,
     "metadata": {},
     "output_type": "execute_result"
    }
   ],
   "source": [
    "# ['c'] raises KeyError\n",
    "from helpsk import validation\n",
    "validation.raises_exception(lambda: {'a': 1, 'b': 2}['c'], KeyError)"
   ]
  },
  {
   "cell_type": "markdown",
   "id": "cfb8b660",
   "metadata": {},
   "source": [
    "### Series"
   ]
  },
  {
   "cell_type": "code",
   "execution_count": 64,
   "id": "57fe04fc",
   "metadata": {},
   "outputs": [
    {
     "data": {
      "text/plain": [
       "Timestamp('2021-08-09 00:00:00', freq='D')"
      ]
     },
     "execution_count": 64,
     "metadata": {},
     "output_type": "execute_result"
    }
   ],
   "source": [
    "dates[0]"
   ]
  },
  {
   "cell_type": "code",
   "execution_count": 68,
   "id": "6ed2647c",
   "metadata": {},
   "outputs": [
    {
     "data": {
      "text/plain": [
       "-0.46519296263591375"
      ]
     },
     "execution_count": 68,
     "metadata": {},
     "output_type": "execute_result"
    }
   ],
   "source": [
    "df.D.get(dates[0])"
   ]
  },
  {
   "cell_type": "code",
   "execution_count": 74,
   "id": "36d59224",
   "metadata": {},
   "outputs": [
    {
     "data": {
      "text/plain": [
       "True"
      ]
     },
     "execution_count": 74,
     "metadata": {},
     "output_type": "execute_result"
    }
   ],
   "source": [
    "df.D.get(pd.date_range('2021-01-01', periods=1)[0]) is None"
   ]
  },
  {
   "cell_type": "code",
   "execution_count": 75,
   "id": "889add5c",
   "metadata": {},
   "outputs": [
    {
     "data": {
      "text/plain": [
       "nan"
      ]
     },
     "execution_count": 75,
     "metadata": {},
     "output_type": "execute_result"
    }
   ],
   "source": [
    "df.D.get(pd.date_range('2021-01-01', periods=1)[0], np.NaN)"
   ]
  },
  {
   "cell_type": "code",
   "execution_count": null,
   "id": "41d3916c",
   "metadata": {},
   "outputs": [],
   "source": []
  },
  {
   "cell_type": "code",
   "execution_count": null,
   "id": "1b81279e",
   "metadata": {},
   "outputs": [],
   "source": []
  },
  {
   "cell_type": "code",
   "execution_count": null,
   "id": "6191a064",
   "metadata": {},
   "outputs": [],
   "source": []
  },
  {
   "cell_type": "code",
   "execution_count": null,
   "id": "e5922464",
   "metadata": {},
   "outputs": [],
   "source": []
  },
  {
   "cell_type": "markdown",
   "id": "03139819",
   "metadata": {},
   "source": [
    "## Vectorized Operations - Automatic Alignment\n",
    "\n",
    "A key difference between Series and ndarray is that operations between Series automatically align the data based on label. Thus, you can write computations without giving consideration to whether the Series involved have the same labels.\n",
    "\n",
    "https://pandas.pydata.org/pandas-docs/stable/user_guide/dsintro.html#vectorized-operations-and-label-alignment-with-series"
   ]
  },
  {
   "cell_type": "code",
   "execution_count": 79,
   "id": "b0853a88",
   "metadata": {},
   "outputs": [
    {
     "data": {
      "text/plain": [
       "A    11\n",
       "B    22\n",
       "C    33\n",
       "D    44\n",
       "E    55\n",
       "dtype: int64"
      ]
     },
     "execution_count": 79,
     "metadata": {},
     "output_type": "execute_result"
    }
   ],
   "source": [
    "s1 = pd.Series([1, 2, 3, 4, 5], index=['A', 'B', 'C', 'D', 'E'])\n",
    "s2 = pd.Series([10, 20, 30, 40, 50], index=['A', 'B', 'C', 'D', 'E'])\n",
    "\n",
    "s1 + s2"
   ]
  },
  {
   "cell_type": "code",
   "execution_count": 94,
   "id": "43ef08d0",
   "metadata": {},
   "outputs": [
    {
     "name": "stdout",
     "output_type": "stream",
     "text": [
      "E    5\n",
      "D    4\n",
      "C    3\n",
      "B    2\n",
      "A    1\n",
      "dtype: int64\n"
     ]
    },
    {
     "data": {
      "text/plain": [
       "A    11\n",
       "B    22\n",
       "C    33\n",
       "D    44\n",
       "E    55\n",
       "dtype: int64"
      ]
     },
     "execution_count": 94,
     "metadata": {},
     "output_type": "execute_result"
    }
   ],
   "source": [
    "print(s1.iloc[[4, 3, 2, 1, 0]])\n",
    "s + s2"
   ]
  },
  {
   "cell_type": "markdown",
   "id": "ebb67567",
   "metadata": {},
   "source": [
    "The result of an operation between unaligned Series will have the union of the indexes involved. If a label is not found in one Series or the other, the result will be marked as missing NaN. "
   ]
  },
  {
   "cell_type": "code",
   "execution_count": 98,
   "id": "ebee2a70",
   "metadata": {},
   "outputs": [
    {
     "data": {
      "text/plain": [
       "A     NaN\n",
       "B     NaN\n",
       "C    33.0\n",
       "D    44.0\n",
       "E     NaN\n",
       "dtype: float64"
      ]
     },
     "execution_count": 98,
     "metadata": {},
     "output_type": "execute_result"
    }
   ],
   "source": [
    "s.iloc[[2, 3, 4]] + s2.iloc[[0, 1, 2, 3]]"
   ]
  },
  {
   "cell_type": "code",
   "execution_count": null,
   "id": "62712598",
   "metadata": {},
   "outputs": [],
   "source": []
  },
  {
   "cell_type": "code",
   "execution_count": null,
   "id": "94d3f429",
   "metadata": {},
   "outputs": [],
   "source": []
  },
  {
   "cell_type": "code",
   "execution_count": null,
   "id": "505a8f47",
   "metadata": {},
   "outputs": [],
   "source": []
  },
  {
   "cell_type": "markdown",
   "id": "a919744a",
   "metadata": {},
   "source": [
    "## Misc"
   ]
  },
  {
   "cell_type": "code",
   "execution_count": 214,
   "id": "c1c4f163",
   "metadata": {},
   "outputs": [
    {
     "data": {
      "text/plain": [
       "0       a\n",
       "1       b\n",
       "2       c\n",
       "3    aaba\n",
       "4    baca\n",
       "5     NaN\n",
       "6    caba\n",
       "7     dog\n",
       "8     cat\n",
       "dtype: object"
      ]
     },
     "execution_count": 214,
     "metadata": {},
     "output_type": "execute_result"
    }
   ],
   "source": [
    "s = pd.Series([\"A\", \"B\", \"C\", \"Aaba\", \"Baca\", np.nan, \"CABA\", \"dog\", \"cat\"])\n",
    "s.str.lower()"
   ]
  },
  {
   "cell_type": "code",
   "execution_count": 215,
   "id": "808bfe80",
   "metadata": {},
   "outputs": [
    {
     "data": {
      "text/plain": [
       "0       A\n",
       "1       B\n",
       "2       C\n",
       "3    Aaba\n",
       "4    Baca\n",
       "5     NaN\n",
       "6    Caba\n",
       "7     Dog\n",
       "8     Cat\n",
       "dtype: object"
      ]
     },
     "execution_count": 215,
     "metadata": {},
     "output_type": "execute_result"
    }
   ],
   "source": [
    "s.str.capitalize()"
   ]
  },
  {
   "cell_type": "code",
   "execution_count": null,
   "id": "cbae9323",
   "metadata": {},
   "outputs": [],
   "source": []
  },
  {
   "cell_type": "markdown",
   "id": "c42cafe5",
   "metadata": {},
   "source": [
    "## Performance"
   ]
  },
  {
   "cell_type": "markdown",
   "id": "423d0ae3",
   "metadata": {},
   "source": [
    "Accelerated operations\n",
    "\n",
    "https://pandas.pydata.org/pandas-docs/stable/user_guide/basics.html#accelerated-operations\n",
    "\n",
    "\n",
    "pandas has support for accelerating certain types of binary numerical and boolean operations using the numexpr library and the bottleneck libraries.\n",
    "\n",
    "These libraries are especially useful when dealing with large data sets, and provide large speedups. numexpr uses smart chunking, caching, and multiple cores. bottleneck is a set of specialized cython routines that are especially fast when dealing with arrays that have nans.\n",
    "\n",
    "Here is a sample (using 100 column x 100,000 row DataFrames):\n",
    "\n",
    "Operation\n",
    "0.11.0 (ms)\n",
    "Prior Version (ms)\n",
    "Ratio to Prior\n",
    "df1 > df2\n",
    "13.32\n",
    "125.35\n",
    "0.1063\n",
    "df1 * df2\n",
    "21.71\n",
    "36.63\n",
    "0.5928\n",
    "df1 + df2\n",
    "22.04\n",
    "36.50\n",
    "0.6039\n",
    "You are highly encouraged to install both libraries. See the section Recommended Dependencies for more installation info.\n",
    "\n",
    "These are both enabled to be used by default, you can control this by setting the options:\n",
    "\n",
    "pd.set_option(\"compute.use_bottleneck\", False)\n",
    "pd.set_option(\"compute.use_numexpr\", False)"
   ]
  },
  {
   "cell_type": "code",
   "execution_count": null,
   "id": "31682e02",
   "metadata": {},
   "outputs": [],
   "source": []
  },
  {
   "cell_type": "code",
   "execution_count": null,
   "id": "5f643735",
   "metadata": {},
   "outputs": [],
   "source": []
  },
  {
   "cell_type": "code",
   "execution_count": null,
   "id": "85f4057d",
   "metadata": {},
   "outputs": [],
   "source": []
  },
  {
   "cell_type": "code",
   "execution_count": null,
   "id": "e3cc7fdc",
   "metadata": {},
   "outputs": [],
   "source": []
  },
  {
   "cell_type": "code",
   "execution_count": null,
   "id": "555e47a6",
   "metadata": {},
   "outputs": [],
   "source": []
  },
  {
   "cell_type": "code",
   "execution_count": null,
   "id": "0329319d",
   "metadata": {},
   "outputs": [],
   "source": []
  },
  {
   "cell_type": "markdown",
   "id": "333d88a2",
   "metadata": {},
   "source": [
    "# Unexpected Behavior"
   ]
  },
  {
   "cell_type": "markdown",
   "id": "cf543a2e",
   "metadata": {},
   "source": [
    "## Operations in general exclude missing data.\n",
    "\n",
    "https://pandas.pydata.org/pandas-docs/stable/user_guide/10min.html#stats"
   ]
  },
  {
   "cell_type": "code",
   "execution_count": 209,
   "id": "2910bf90",
   "metadata": {},
   "outputs": [
    {
     "data": {
      "text/html": [
       "<div>\n",
       "<style scoped>\n",
       "    .dataframe tbody tr th:only-of-type {\n",
       "        vertical-align: middle;\n",
       "    }\n",
       "\n",
       "    .dataframe tbody tr th {\n",
       "        vertical-align: top;\n",
       "    }\n",
       "\n",
       "    .dataframe thead th {\n",
       "        text-align: right;\n",
       "    }\n",
       "</style>\n",
       "<table border=\"1\" class=\"dataframe\">\n",
       "  <thead>\n",
       "    <tr style=\"text-align: right;\">\n",
       "      <th></th>\n",
       "      <th>A</th>\n",
       "      <th>B</th>\n",
       "      <th>C</th>\n",
       "      <th>D</th>\n",
       "    </tr>\n",
       "  </thead>\n",
       "  <tbody>\n",
       "    <tr>\n",
       "      <th>0</th>\n",
       "      <td>NaN</td>\n",
       "      <td>-1.343106</td>\n",
       "      <td>0.025455</td>\n",
       "      <td>1.477582</td>\n",
       "    </tr>\n",
       "    <tr>\n",
       "      <th>1</th>\n",
       "      <td>1.626082</td>\n",
       "      <td>0.544241</td>\n",
       "      <td>0.620942</td>\n",
       "      <td>-0.736149</td>\n",
       "    </tr>\n",
       "    <tr>\n",
       "      <th>2</th>\n",
       "      <td>-1.478041</td>\n",
       "      <td>0.230491</td>\n",
       "      <td>0.426075</td>\n",
       "      <td>0.834510</td>\n",
       "    </tr>\n",
       "    <tr>\n",
       "      <th>3</th>\n",
       "      <td>-0.301862</td>\n",
       "      <td>-0.107032</td>\n",
       "      <td>1.058098</td>\n",
       "      <td>0.710978</td>\n",
       "    </tr>\n",
       "    <tr>\n",
       "      <th>4</th>\n",
       "      <td>-0.903349</td>\n",
       "      <td>1.558083</td>\n",
       "      <td>1.192531</td>\n",
       "      <td>-1.554701</td>\n",
       "    </tr>\n",
       "    <tr>\n",
       "      <th>5</th>\n",
       "      <td>-0.325039</td>\n",
       "      <td>0.857985</td>\n",
       "      <td>-0.200452</td>\n",
       "      <td>-0.661910</td>\n",
       "    </tr>\n",
       "  </tbody>\n",
       "</table>\n",
       "</div>"
      ],
      "text/plain": [
       "          A         B         C         D\n",
       "0       NaN -1.343106  0.025455  1.477582\n",
       "1  1.626082  0.544241  0.620942 -0.736149\n",
       "2 -1.478041  0.230491  0.426075  0.834510\n",
       "3 -0.301862 -0.107032  1.058098  0.710978\n",
       "4 -0.903349  1.558083  1.192531 -1.554701\n",
       "5 -0.325039  0.857985 -0.200452 -0.661910"
      ]
     },
     "execution_count": 209,
     "metadata": {},
     "output_type": "execute_result"
    }
   ],
   "source": [
    "df = pd.DataFrame(np.random.randn(6, 4),\n",
    "                  columns=list(\"ABCD\"))\n",
    "df.iat[0, 0] = np.nan\n",
    "df"
   ]
  },
  {
   "cell_type": "code",
   "execution_count": 212,
   "id": "471446c3",
   "metadata": {},
   "outputs": [
    {
     "data": {
      "text/plain": [
       "A   -0.276442\n",
       "B    0.290110\n",
       "C    0.520442\n",
       "D    0.011719\n",
       "dtype: float64"
      ]
     },
     "execution_count": 212,
     "metadata": {},
     "output_type": "execute_result"
    }
   ],
   "source": [
    "df.mean()  # this works; R equivalent would have returned `NA`"
   ]
  },
  {
   "cell_type": "code",
   "execution_count": 213,
   "id": "c6e1b92d",
   "metadata": {},
   "outputs": [
    {
     "data": {
      "text/plain": [
       "A         NaN\n",
       "B    0.290110\n",
       "C    0.520442\n",
       "D    0.011719\n",
       "dtype: float64"
      ]
     },
     "execution_count": 213,
     "metadata": {},
     "output_type": "execute_result"
    }
   ],
   "source": [
    "df.mean(skipna=False)  # have to manually set skipna=False to get desired behavior"
   ]
  },
  {
   "cell_type": "markdown",
   "id": "9096e766",
   "metadata": {},
   "source": [
    "---"
   ]
  },
  {
   "cell_type": "code",
   "execution_count": null,
   "id": "e32ac276",
   "metadata": {},
   "outputs": [],
   "source": []
  },
  {
   "cell_type": "code",
   "execution_count": null,
   "id": "a819b1d1",
   "metadata": {},
   "outputs": [],
   "source": []
  },
  {
   "cell_type": "code",
   "execution_count": null,
   "id": "bc18e212",
   "metadata": {},
   "outputs": [],
   "source": []
  },
  {
   "cell_type": "code",
   "execution_count": null,
   "id": "d3986f94",
   "metadata": {},
   "outputs": [],
   "source": []
  },
  {
   "cell_type": "code",
   "execution_count": null,
   "id": "ccf70397",
   "metadata": {},
   "outputs": [],
   "source": []
  }
 ],
 "metadata": {
  "kernelspec": {
   "display_name": "Python 3",
   "language": "python",
   "name": "python3"
  },
  "language_info": {
   "codemirror_mode": {
    "name": "ipython",
    "version": 3
   },
   "file_extension": ".py",
   "mimetype": "text/x-python",
   "name": "python",
   "nbconvert_exporter": "python",
   "pygments_lexer": "ipython3",
   "version": "3.9.5"
  },
  "toc": {
   "base_numbering": 1,
   "nav_menu": {},
   "number_sections": false,
   "sideBar": true,
   "skip_h1_title": false,
   "title_cell": "Table of Contents",
   "title_sidebar": "Contents",
   "toc_cell": false,
   "toc_position": {
    "height": "calc(100% - 180px)",
    "left": "10px",
    "top": "150px",
    "width": "288px"
   },
   "toc_section_display": true,
   "toc_window_display": true
  }
 },
 "nbformat": 4,
 "nbformat_minor": 5
}
