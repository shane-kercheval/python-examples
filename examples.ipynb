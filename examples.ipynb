{
 "cells": [
  {
   "cell_type": "markdown",
   "id": "f7509df5",
   "metadata": {},
   "source": [
    "# Setup"
   ]
  },
  {
   "cell_type": "code",
   "execution_count": 1,
   "id": "17b729cf",
   "metadata": {},
   "outputs": [
    {
     "name": "stdout",
     "output_type": "stream",
     "text": [
      "Python 3.9.5\r\n"
     ]
    }
   ],
   "source": [
    "!python --version"
   ]
  },
  {
   "cell_type": "code",
   "execution_count": 2,
   "id": "3b601992",
   "metadata": {},
   "outputs": [
    {
     "name": "stdout",
     "output_type": "stream",
     "text": [
      "Requirement already satisfied: helpsk in /Users/shanekercheval/opt/anaconda3/envs/python-examples/lib/python3.9/site-packages (0.0.7)\r\n"
     ]
    }
   ],
   "source": [
    "!pip install helpsk --upgrade"
   ]
  },
  {
   "cell_type": "code",
   "execution_count": 3,
   "id": "b186beaf",
   "metadata": {},
   "outputs": [],
   "source": [
    "import pandas as pd\n",
    "import numpy as np\n",
    "from helpsk import string"
   ]
  },
  {
   "cell_type": "markdown",
   "id": "9983ff5a",
   "metadata": {},
   "source": [
    "# `is` vs `==`"
   ]
  },
  {
   "cell_type": "markdown",
   "id": "15ecc270",
   "metadata": {},
   "source": [
    "`==` is an equality test. It checks whether the right hand side and the left hand side are equal objects (according to their __eq__ or __cmp__ methods.)"
   ]
  },
  {
   "cell_type": "markdown",
   "id": "0e06157a",
   "metadata": {},
   "source": [
    "is is an identity test. It checks whether the right hand side and the left hand side are the very same object. No methodcalls are done, objects can't influence the is operation."
   ]
  },
  {
   "cell_type": "markdown",
   "id": "78d95485",
   "metadata": {},
   "source": [
    "You use `is` (and `is not`) for `singletons`, like `None`, where you don't care about objects that might want to pretend to be None or where you want to protect against objects breaking when being compared against None."
   ]
  },
  {
   "cell_type": "markdown",
   "id": "f89bae83",
   "metadata": {},
   "source": [
    "# List & DataFrame Equality"
   ]
  },
  {
   "cell_type": "code",
   "execution_count": 4,
   "id": "8afb5bf8",
   "metadata": {},
   "outputs": [
    {
     "data": {
      "text/plain": [
       "True"
      ]
     },
     "execution_count": 4,
     "metadata": {},
     "output_type": "execute_result"
    }
   ],
   "source": [
    "[1, 2, 3] == [1, 2, 3]"
   ]
  },
  {
   "cell_type": "code",
   "execution_count": 5,
   "id": "69105061",
   "metadata": {},
   "outputs": [
    {
     "data": {
      "text/plain": [
       "False"
      ]
     },
     "execution_count": 5,
     "metadata": {},
     "output_type": "execute_result"
    }
   ],
   "source": [
    "[1, 2, 3] == [1, 2, 3.00001]"
   ]
  },
  {
   "cell_type": "code",
   "execution_count": 6,
   "id": "cd146627",
   "metadata": {},
   "outputs": [
    {
     "data": {
      "text/plain": [
       "True"
      ]
     },
     "execution_count": 6,
     "metadata": {},
     "output_type": "execute_result"
    }
   ],
   "source": [
    "['a', 'b', 'c'] == ['a', 'b', 'c']"
   ]
  },
  {
   "cell_type": "code",
   "execution_count": 7,
   "id": "761c8c0b",
   "metadata": {},
   "outputs": [
    {
     "data": {
      "text/plain": [
       "True"
      ]
     },
     "execution_count": 7,
     "metadata": {},
     "output_type": "execute_result"
    }
   ],
   "source": [
    "['a', 'b', None] == ['a', 'b', None]"
   ]
  },
  {
   "cell_type": "code",
   "execution_count": 8,
   "id": "e14efbcd",
   "metadata": {},
   "outputs": [
    {
     "data": {
      "text/plain": [
       "False"
      ]
     },
     "execution_count": 8,
     "metadata": {},
     "output_type": "execute_result"
    }
   ],
   "source": [
    "['a', 'b', 'c'] == ['a', 'b', None]"
   ]
  },
  {
   "cell_type": "code",
   "execution_count": 9,
   "id": "aef36e72",
   "metadata": {},
   "outputs": [
    {
     "data": {
      "text/plain": [
       "True"
      ]
     },
     "execution_count": 9,
     "metadata": {},
     "output_type": "execute_result"
    }
   ],
   "source": [
    "pd.DataFrame([[1, 2], [2, 3]]).equals(pd.DataFrame([[1, 2], [2, 3]]))"
   ]
  },
  {
   "cell_type": "code",
   "execution_count": 10,
   "id": "0d8a3238",
   "metadata": {},
   "outputs": [
    {
     "data": {
      "text/plain": [
       "False"
      ]
     },
     "execution_count": 10,
     "metadata": {},
     "output_type": "execute_result"
    }
   ],
   "source": [
    "pd.DataFrame([[1, 2], [2, 3]]).equals(pd.DataFrame([[1, 2], [2, 3.001]]))"
   ]
  },
  {
   "cell_type": "code",
   "execution_count": 11,
   "id": "02d49f1f",
   "metadata": {},
   "outputs": [
    {
     "data": {
      "text/plain": [
       "True"
      ]
     },
     "execution_count": 11,
     "metadata": {},
     "output_type": "execute_result"
    }
   ],
   "source": [
    "pd.DataFrame([[1, None], [2, 3.001]]).equals(pd.DataFrame([[1, None], [2, 3.001]]))"
   ]
  },
  {
   "cell_type": "markdown",
   "id": "38a93465",
   "metadata": {},
   "source": [
    "# Checking for Empty Containers"
   ]
  },
  {
   "cell_type": "code",
   "execution_count": 12,
   "id": "5aadbb76",
   "metadata": {},
   "outputs": [
    {
     "data": {
      "text/plain": [
       "True"
      ]
     },
     "execution_count": 12,
     "metadata": {},
     "output_type": "execute_result"
    }
   ],
   "source": [
    "a = []\n",
    "\n",
    "len(a) == 0  # not Pythonic"
   ]
  },
  {
   "cell_type": "code",
   "execution_count": 13,
   "id": "248a5061",
   "metadata": {},
   "outputs": [
    {
     "data": {
      "text/plain": [
       "True"
      ]
     },
     "execution_count": 13,
     "metadata": {},
     "output_type": "execute_result"
    }
   ],
   "source": [
    "not a  # Pythonic"
   ]
  },
  {
   "cell_type": "code",
   "execution_count": 14,
   "id": "0d7bd228",
   "metadata": {},
   "outputs": [
    {
     "name": "stdout",
     "output_type": "stream",
     "text": [
      "Not Pythonic\n",
      "Pythonic\n"
     ]
    }
   ],
   "source": [
    "if len(a) == 0:\n",
    "    print('Not Pythonic')\n",
    "\n",
    "if not a:\n",
    "    print('Pythonic')\n"
   ]
  },
  {
   "cell_type": "code",
   "execution_count": 15,
   "id": "7831583a",
   "metadata": {},
   "outputs": [
    {
     "name": "stdout",
     "output_type": "stream",
     "text": [
      "Not Pythonic\n",
      "Pythonic\n"
     ]
    }
   ],
   "source": [
    "a = ['a']\n",
    "\n",
    "if len(a) != 0:\n",
    "    print('Not Pythonic')\n",
    "\n",
    "if a:\n",
    "    print('Pythonic')"
   ]
  },
  {
   "cell_type": "markdown",
   "id": "9b7a499d",
   "metadata": {},
   "source": [
    "# Multi-lines"
   ]
  },
  {
   "cell_type": "code",
   "execution_count": 16,
   "id": "ce6e7aa4",
   "metadata": {},
   "outputs": [
    {
     "name": "stdout",
     "output_type": "stream",
     "text": [
      "3\n",
      "3\n"
     ]
    }
   ],
   "source": [
    "# not Pythonic\n",
    "a = 1 + \\\n",
    "    2\n",
    "print(a)\n",
    "\n",
    "a = (1 +  # Pythonic\n",
    "     2)\n",
    "print(a)"
   ]
  },
  {
   "cell_type": "markdown",
   "id": "ab8a8059",
   "metadata": {},
   "source": [
    "# Classes"
   ]
  },
  {
   "cell_type": "markdown",
   "id": "6e551fd7",
   "metadata": {},
   "source": [
    "## Private vs Protected"
   ]
  },
  {
   "cell_type": "code",
   "execution_count": 17,
   "id": "4b8eba20",
   "metadata": {},
   "outputs": [],
   "source": [
    "class Example:\n",
    "    def __init__(self):\n",
    "        self.__private_variable = 'private'\n",
    "        self._protected_variable = 'protected'\n",
    "    \n",
    "    def instance_method(self):\n",
    "        return 'instance method ' + self.__private_variable + self._protected_variable\n",
    "    \n",
    "    @staticmethod\n",
    "    def static_method(x):\n",
    "        return 'static method ' + x\n",
    "    \n",
    "    @classmethod\n",
    "    def class_method(cls, x):\n",
    "        return 'class method ' + x"
   ]
  },
  {
   "cell_type": "code",
   "execution_count": 18,
   "id": "54256299",
   "metadata": {},
   "outputs": [
    {
     "data": {
      "text/plain": [
       "'protected'"
      ]
     },
     "execution_count": 18,
     "metadata": {},
     "output_type": "execute_result"
    }
   ],
   "source": [
    "ex = Example()\n",
    "ex._protected_variable"
   ]
  },
  {
   "cell_type": "code",
   "execution_count": 19,
   "id": "d07f5a2d",
   "metadata": {},
   "outputs": [
    {
     "name": "stdout",
     "output_type": "stream",
     "text": [
      "'Example' object has no attribute '__private_variable'\n"
     ]
    }
   ],
   "source": [
    "try:\n",
    "  print(ex.__private_variable)\n",
    "except Exception as e:\n",
    "  print(e)"
   ]
  },
  {
   "cell_type": "code",
   "execution_count": 20,
   "id": "23078c86",
   "metadata": {},
   "outputs": [
    {
     "data": {
      "text/plain": [
       "'private'"
      ]
     },
     "execution_count": 20,
     "metadata": {},
     "output_type": "execute_result"
    }
   ],
   "source": [
    "ex._Example__private_variable"
   ]
  },
  {
   "cell_type": "code",
   "execution_count": 21,
   "id": "9726af9f",
   "metadata": {},
   "outputs": [
    {
     "data": {
      "text/plain": [
       "'instance method privateprotected'"
      ]
     },
     "execution_count": 21,
     "metadata": {},
     "output_type": "execute_result"
    }
   ],
   "source": [
    "ex.instance_method()"
   ]
  },
  {
   "cell_type": "code",
   "execution_count": 22,
   "id": "8fae01f6",
   "metadata": {},
   "outputs": [
    {
     "data": {
      "text/plain": [
       "'static method a'"
      ]
     },
     "execution_count": 22,
     "metadata": {},
     "output_type": "execute_result"
    }
   ],
   "source": [
    "ex.static_method('a')  # not sure how this is useful"
   ]
  },
  {
   "cell_type": "code",
   "execution_count": 23,
   "id": "567df0ff",
   "metadata": {},
   "outputs": [
    {
     "data": {
      "text/plain": [
       "'class method a'"
      ]
     },
     "execution_count": 23,
     "metadata": {},
     "output_type": "execute_result"
    }
   ],
   "source": [
    "Example.class_method('a')  # no instance"
   ]
  },
  {
   "cell_type": "markdown",
   "id": "a6b66631",
   "metadata": {},
   "source": [
    "## Getters / Setters"
   ]
  },
  {
   "cell_type": "code",
   "execution_count": 24,
   "id": "58ea6ca7",
   "metadata": {},
   "outputs": [],
   "source": [
    "class ExampleClass:\n",
    "\n",
    "    def __init__(self, my_variable=0):\n",
    "        self._my_variable = my_variable\n",
    "\n",
    "    @property\n",
    "    def my_variable(self):\n",
    "        \"\"\"I'm the 'my_variable' property.\"\"\"\n",
    "        print(\"getter of my_variable called\")\n",
    "        return self._my_variable\n",
    "\n",
    "    @my_variable.setter\n",
    "    def my_variable(self, value):\n",
    "        print(\"setter of my_variable called\")\n",
    "        self._my_variable = value"
   ]
  },
  {
   "cell_type": "code",
   "execution_count": 25,
   "id": "068d2a06",
   "metadata": {},
   "outputs": [
    {
     "name": "stdout",
     "output_type": "stream",
     "text": [
      "getter of my_variable called\n"
     ]
    },
    {
     "data": {
      "text/plain": [
       "True"
      ]
     },
     "execution_count": 25,
     "metadata": {},
     "output_type": "execute_result"
    }
   ],
   "source": [
    "example = ExampleClass()\n",
    "example.my_variable == 0"
   ]
  },
  {
   "cell_type": "code",
   "execution_count": 26,
   "id": "64d3ee34",
   "metadata": {},
   "outputs": [
    {
     "name": "stdout",
     "output_type": "stream",
     "text": [
      "setter of my_variable called\n"
     ]
    }
   ],
   "source": [
    "example.my_variable = 0"
   ]
  },
  {
   "cell_type": "code",
   "execution_count": null,
   "id": "ddd6fc35",
   "metadata": {},
   "outputs": [],
   "source": []
  },
  {
   "cell_type": "code",
   "execution_count": null,
   "id": "3396f1ca",
   "metadata": {},
   "outputs": [],
   "source": []
  },
  {
   "cell_type": "markdown",
   "id": "6ae6d8be",
   "metadata": {},
   "source": [
    "# Pandas"
   ]
  },
  {
   "cell_type": "code",
   "execution_count": 27,
   "id": "8a6e75a9",
   "metadata": {},
   "outputs": [],
   "source": [
    "import numpy as np\n",
    "import pandas as pd\n",
    "\n",
    "dates = pd.date_range(\"20210809\", periods=6)\n",
    "df = pd.DataFrame(np.random.randn(6, 4),\n",
    "                  index=dates,\n",
    "                  columns=list(\"ABCD\"))"
   ]
  },
  {
   "cell_type": "code",
   "execution_count": 28,
   "id": "b6fbccb1",
   "metadata": {},
   "outputs": [
    {
     "data": {
      "text/plain": [
       "DatetimeIndex(['2021-08-09', '2021-08-10', '2021-08-11', '2021-08-12',\n",
       "               '2021-08-13', '2021-08-14'],\n",
       "              dtype='datetime64[ns]', freq='D')"
      ]
     },
     "execution_count": 28,
     "metadata": {},
     "output_type": "execute_result"
    }
   ],
   "source": [
    "dates"
   ]
  },
  {
   "cell_type": "code",
   "execution_count": 29,
   "id": "af0070db",
   "metadata": {},
   "outputs": [
    {
     "data": {
      "text/html": [
       "<div>\n",
       "<style scoped>\n",
       "    .dataframe tbody tr th:only-of-type {\n",
       "        vertical-align: middle;\n",
       "    }\n",
       "\n",
       "    .dataframe tbody tr th {\n",
       "        vertical-align: top;\n",
       "    }\n",
       "\n",
       "    .dataframe thead th {\n",
       "        text-align: right;\n",
       "    }\n",
       "</style>\n",
       "<table border=\"1\" class=\"dataframe\">\n",
       "  <thead>\n",
       "    <tr style=\"text-align: right;\">\n",
       "      <th></th>\n",
       "      <th>A</th>\n",
       "      <th>B</th>\n",
       "      <th>C</th>\n",
       "      <th>D</th>\n",
       "    </tr>\n",
       "  </thead>\n",
       "  <tbody>\n",
       "    <tr>\n",
       "      <th>2021-08-09</th>\n",
       "      <td>1.570481</td>\n",
       "      <td>0.268844</td>\n",
       "      <td>-1.143116</td>\n",
       "      <td>0.583196</td>\n",
       "    </tr>\n",
       "    <tr>\n",
       "      <th>2021-08-10</th>\n",
       "      <td>-1.111954</td>\n",
       "      <td>0.915616</td>\n",
       "      <td>0.728394</td>\n",
       "      <td>-0.463511</td>\n",
       "    </tr>\n",
       "    <tr>\n",
       "      <th>2021-08-11</th>\n",
       "      <td>1.324238</td>\n",
       "      <td>0.854334</td>\n",
       "      <td>-0.184112</td>\n",
       "      <td>-1.052269</td>\n",
       "    </tr>\n",
       "    <tr>\n",
       "      <th>2021-08-12</th>\n",
       "      <td>2.429699</td>\n",
       "      <td>-0.411204</td>\n",
       "      <td>0.028047</td>\n",
       "      <td>0.226879</td>\n",
       "    </tr>\n",
       "    <tr>\n",
       "      <th>2021-08-13</th>\n",
       "      <td>0.751521</td>\n",
       "      <td>0.077251</td>\n",
       "      <td>0.722137</td>\n",
       "      <td>-0.255953</td>\n",
       "    </tr>\n",
       "    <tr>\n",
       "      <th>2021-08-14</th>\n",
       "      <td>-0.259515</td>\n",
       "      <td>-0.933734</td>\n",
       "      <td>0.454261</td>\n",
       "      <td>1.127243</td>\n",
       "    </tr>\n",
       "  </tbody>\n",
       "</table>\n",
       "</div>"
      ],
      "text/plain": [
       "                   A         B         C         D\n",
       "2021-08-09  1.570481  0.268844 -1.143116  0.583196\n",
       "2021-08-10 -1.111954  0.915616  0.728394 -0.463511\n",
       "2021-08-11  1.324238  0.854334 -0.184112 -1.052269\n",
       "2021-08-12  2.429699 -0.411204  0.028047  0.226879\n",
       "2021-08-13  0.751521  0.077251  0.722137 -0.255953\n",
       "2021-08-14 -0.259515 -0.933734  0.454261  1.127243"
      ]
     },
     "execution_count": 29,
     "metadata": {},
     "output_type": "execute_result"
    }
   ],
   "source": [
    "df"
   ]
  },
  {
   "cell_type": "code",
   "execution_count": 30,
   "id": "1b677083",
   "metadata": {},
   "outputs": [
    {
     "data": {
      "text/plain": [
       "A    0.784078\n",
       "B    0.128518\n",
       "C    0.100935\n",
       "D    0.027597\n",
       "dtype: float64"
      ]
     },
     "execution_count": 30,
     "metadata": {},
     "output_type": "execute_result"
    }
   ],
   "source": [
    "# axis 0 indicates column-wise operations\n",
    "df.apply(lambda x: x.mean(), axis=0)"
   ]
  },
  {
   "cell_type": "markdown",
   "id": "c67f8fe0",
   "metadata": {},
   "source": [
    "## Copy by Reference"
   ]
  },
  {
   "cell_type": "code",
   "execution_count": 31,
   "id": "0562359d",
   "metadata": {},
   "outputs": [],
   "source": [
    "df_2 = df"
   ]
  },
  {
   "cell_type": "code",
   "execution_count": 32,
   "id": "7e1eba5d",
   "metadata": {},
   "outputs": [],
   "source": [
    "df.iat[0, 0] = np.nan"
   ]
  },
  {
   "cell_type": "code",
   "execution_count": 33,
   "id": "ed0223ad",
   "metadata": {},
   "outputs": [
    {
     "data": {
      "text/plain": [
       "A         NaN\n",
       "B    0.268844\n",
       "C   -1.143116\n",
       "D    0.583196\n",
       "Name: 2021-08-09 00:00:00, dtype: float64"
      ]
     },
     "execution_count": 33,
     "metadata": {},
     "output_type": "execute_result"
    }
   ],
   "source": [
    "df.iloc[0, :]"
   ]
  },
  {
   "cell_type": "code",
   "execution_count": 34,
   "id": "477640e1",
   "metadata": {},
   "outputs": [
    {
     "data": {
      "text/plain": [
       "A         NaN\n",
       "B    0.268844\n",
       "C   -1.143116\n",
       "D    0.583196\n",
       "Name: 2021-08-09 00:00:00, dtype: float64"
      ]
     },
     "execution_count": 34,
     "metadata": {},
     "output_type": "execute_result"
    }
   ],
   "source": [
    "df_2.iloc[0, :]"
   ]
  },
  {
   "cell_type": "markdown",
   "id": "a61e3eea",
   "metadata": {},
   "source": [
    "### Use `.copy()` for deep copy"
   ]
  },
  {
   "cell_type": "code",
   "execution_count": 35,
   "id": "8670ddfc",
   "metadata": {},
   "outputs": [],
   "source": [
    "df_2 = df.copy()"
   ]
  },
  {
   "cell_type": "code",
   "execution_count": 36,
   "id": "fd84a2ef",
   "metadata": {},
   "outputs": [],
   "source": [
    "df.iat[0, 1] = np.nan"
   ]
  },
  {
   "cell_type": "code",
   "execution_count": 37,
   "id": "32a43c28",
   "metadata": {},
   "outputs": [
    {
     "data": {
      "text/plain": [
       "A         NaN\n",
       "B         NaN\n",
       "C   -1.143116\n",
       "D    0.583196\n",
       "Name: 2021-08-09 00:00:00, dtype: float64"
      ]
     },
     "execution_count": 37,
     "metadata": {},
     "output_type": "execute_result"
    }
   ],
   "source": [
    "df.iloc[0, :]"
   ]
  },
  {
   "cell_type": "code",
   "execution_count": 38,
   "id": "86a23681",
   "metadata": {},
   "outputs": [
    {
     "data": {
      "text/plain": [
       "A         NaN\n",
       "B    0.268844\n",
       "C   -1.143116\n",
       "D    0.583196\n",
       "Name: 2021-08-09 00:00:00, dtype: float64"
      ]
     },
     "execution_count": 38,
     "metadata": {},
     "output_type": "execute_result"
    }
   ],
   "source": [
    "df_2.iloc[0, :]"
   ]
  },
  {
   "cell_type": "markdown",
   "id": "8c6acc10",
   "metadata": {},
   "source": [
    "## Selection"
   ]
  },
  {
   "cell_type": "code",
   "execution_count": 39,
   "id": "841c5f51",
   "metadata": {},
   "outputs": [
    {
     "data": {
      "text/plain": [
       "2021-08-09         NaN\n",
       "2021-08-10   -1.111954\n",
       "2021-08-11    1.324238\n",
       "2021-08-12    2.429699\n",
       "2021-08-13    0.751521\n",
       "2021-08-14   -0.259515\n",
       "Freq: D, Name: A, dtype: float64"
      ]
     },
     "execution_count": 39,
     "metadata": {},
     "output_type": "execute_result"
    }
   ],
   "source": [
    "df.A"
   ]
  },
  {
   "cell_type": "code",
   "execution_count": 40,
   "id": "3fb6e6e4",
   "metadata": {},
   "outputs": [
    {
     "data": {
      "text/plain": [
       "2021-08-09         NaN\n",
       "2021-08-10   -1.111954\n",
       "2021-08-11    1.324238\n",
       "2021-08-12    2.429699\n",
       "2021-08-13    0.751521\n",
       "2021-08-14   -0.259515\n",
       "Freq: D, Name: A, dtype: float64"
      ]
     },
     "execution_count": 40,
     "metadata": {},
     "output_type": "execute_result"
    }
   ],
   "source": [
    "df['A']  # all rows of single column"
   ]
  },
  {
   "cell_type": "code",
   "execution_count": 41,
   "id": "5c135388",
   "metadata": {},
   "outputs": [
    {
     "data": {
      "text/html": [
       "<div>\n",
       "<style scoped>\n",
       "    .dataframe tbody tr th:only-of-type {\n",
       "        vertical-align: middle;\n",
       "    }\n",
       "\n",
       "    .dataframe tbody tr th {\n",
       "        vertical-align: top;\n",
       "    }\n",
       "\n",
       "    .dataframe thead th {\n",
       "        text-align: right;\n",
       "    }\n",
       "</style>\n",
       "<table border=\"1\" class=\"dataframe\">\n",
       "  <thead>\n",
       "    <tr style=\"text-align: right;\">\n",
       "      <th></th>\n",
       "      <th>A</th>\n",
       "      <th>B</th>\n",
       "      <th>C</th>\n",
       "      <th>D</th>\n",
       "    </tr>\n",
       "  </thead>\n",
       "  <tbody>\n",
       "    <tr>\n",
       "      <th>2021-08-09</th>\n",
       "      <td>NaN</td>\n",
       "      <td>NaN</td>\n",
       "      <td>-1.143116</td>\n",
       "      <td>0.583196</td>\n",
       "    </tr>\n",
       "  </tbody>\n",
       "</table>\n",
       "</div>"
      ],
      "text/plain": [
       "             A   B         C         D\n",
       "2021-08-09 NaN NaN -1.143116  0.583196"
      ]
     },
     "execution_count": 41,
     "metadata": {},
     "output_type": "execute_result"
    }
   ],
   "source": [
    "df[0:1]  # slices rows; excludes last index"
   ]
  },
  {
   "cell_type": "code",
   "execution_count": 42,
   "id": "9b623d7a",
   "metadata": {},
   "outputs": [
    {
     "data": {
      "text/html": [
       "<div>\n",
       "<style scoped>\n",
       "    .dataframe tbody tr th:only-of-type {\n",
       "        vertical-align: middle;\n",
       "    }\n",
       "\n",
       "    .dataframe tbody tr th {\n",
       "        vertical-align: top;\n",
       "    }\n",
       "\n",
       "    .dataframe thead th {\n",
       "        text-align: right;\n",
       "    }\n",
       "</style>\n",
       "<table border=\"1\" class=\"dataframe\">\n",
       "  <thead>\n",
       "    <tr style=\"text-align: right;\">\n",
       "      <th></th>\n",
       "      <th>A</th>\n",
       "    </tr>\n",
       "  </thead>\n",
       "  <tbody>\n",
       "    <tr>\n",
       "      <th>2021-08-09</th>\n",
       "      <td>NaN</td>\n",
       "    </tr>\n",
       "    <tr>\n",
       "      <th>2021-08-10</th>\n",
       "      <td>-1.111954</td>\n",
       "    </tr>\n",
       "    <tr>\n",
       "      <th>2021-08-11</th>\n",
       "      <td>1.324238</td>\n",
       "    </tr>\n",
       "    <tr>\n",
       "      <th>2021-08-12</th>\n",
       "      <td>2.429699</td>\n",
       "    </tr>\n",
       "    <tr>\n",
       "      <th>2021-08-13</th>\n",
       "      <td>0.751521</td>\n",
       "    </tr>\n",
       "    <tr>\n",
       "      <th>2021-08-14</th>\n",
       "      <td>-0.259515</td>\n",
       "    </tr>\n",
       "  </tbody>\n",
       "</table>\n",
       "</div>"
      ],
      "text/plain": [
       "                   A\n",
       "2021-08-09       NaN\n",
       "2021-08-10 -1.111954\n",
       "2021-08-11  1.324238\n",
       "2021-08-12  2.429699\n",
       "2021-08-13  0.751521\n",
       "2021-08-14 -0.259515"
      ]
     },
     "execution_count": 42,
     "metadata": {},
     "output_type": "execute_result"
    }
   ],
   "source": [
    "df[['A']]"
   ]
  },
  {
   "cell_type": "markdown",
   "id": "a5135d95",
   "metadata": {},
   "source": [
    "If passing a single value to `.loc`, a Series is returned; if passing a list to `.loc` a DataFrame is returned"
   ]
  },
  {
   "cell_type": "code",
   "execution_count": 43,
   "id": "56e00d9c",
   "metadata": {},
   "outputs": [
    {
     "data": {
      "text/plain": [
       "A         NaN\n",
       "B         NaN\n",
       "C   -1.143116\n",
       "D    0.583196\n",
       "Name: 2021-08-09 00:00:00, dtype: float64"
      ]
     },
     "execution_count": 43,
     "metadata": {},
     "output_type": "execute_result"
    }
   ],
   "source": [
    "df.loc[pd.to_datetime('2021-08-09')]"
   ]
  },
  {
   "cell_type": "code",
   "execution_count": 44,
   "id": "4f465b6c",
   "metadata": {},
   "outputs": [
    {
     "data": {
      "text/html": [
       "<div>\n",
       "<style scoped>\n",
       "    .dataframe tbody tr th:only-of-type {\n",
       "        vertical-align: middle;\n",
       "    }\n",
       "\n",
       "    .dataframe tbody tr th {\n",
       "        vertical-align: top;\n",
       "    }\n",
       "\n",
       "    .dataframe thead th {\n",
       "        text-align: right;\n",
       "    }\n",
       "</style>\n",
       "<table border=\"1\" class=\"dataframe\">\n",
       "  <thead>\n",
       "    <tr style=\"text-align: right;\">\n",
       "      <th></th>\n",
       "      <th>A</th>\n",
       "      <th>B</th>\n",
       "      <th>C</th>\n",
       "      <th>D</th>\n",
       "    </tr>\n",
       "  </thead>\n",
       "  <tbody>\n",
       "    <tr>\n",
       "      <th>2021-08-09</th>\n",
       "      <td>NaN</td>\n",
       "      <td>NaN</td>\n",
       "      <td>-1.143116</td>\n",
       "      <td>0.583196</td>\n",
       "    </tr>\n",
       "  </tbody>\n",
       "</table>\n",
       "</div>"
      ],
      "text/plain": [
       "             A   B         C         D\n",
       "2021-08-09 NaN NaN -1.143116  0.583196"
      ]
     },
     "execution_count": 44,
     "metadata": {},
     "output_type": "execute_result"
    }
   ],
   "source": [
    "df.loc[[pd.to_datetime('2021-08-09')]]"
   ]
  },
  {
   "cell_type": "code",
   "execution_count": 45,
   "id": "9cc87475",
   "metadata": {},
   "outputs": [
    {
     "data": {
      "text/html": [
       "<div>\n",
       "<style scoped>\n",
       "    .dataframe tbody tr th:only-of-type {\n",
       "        vertical-align: middle;\n",
       "    }\n",
       "\n",
       "    .dataframe tbody tr th {\n",
       "        vertical-align: top;\n",
       "    }\n",
       "\n",
       "    .dataframe thead th {\n",
       "        text-align: right;\n",
       "    }\n",
       "</style>\n",
       "<table border=\"1\" class=\"dataframe\">\n",
       "  <thead>\n",
       "    <tr style=\"text-align: right;\">\n",
       "      <th></th>\n",
       "      <th>A</th>\n",
       "      <th>B</th>\n",
       "      <th>C</th>\n",
       "      <th>D</th>\n",
       "    </tr>\n",
       "  </thead>\n",
       "  <tbody>\n",
       "    <tr>\n",
       "      <th>2021-08-09</th>\n",
       "      <td>NaN</td>\n",
       "      <td>NaN</td>\n",
       "      <td>-1.143116</td>\n",
       "      <td>0.583196</td>\n",
       "    </tr>\n",
       "    <tr>\n",
       "      <th>2021-08-10</th>\n",
       "      <td>-1.111954</td>\n",
       "      <td>0.915616</td>\n",
       "      <td>0.728394</td>\n",
       "      <td>-0.463511</td>\n",
       "    </tr>\n",
       "  </tbody>\n",
       "</table>\n",
       "</div>"
      ],
      "text/plain": [
       "                   A         B         C         D\n",
       "2021-08-09       NaN       NaN -1.143116  0.583196\n",
       "2021-08-10 -1.111954  0.915616  0.728394 -0.463511"
      ]
     },
     "execution_count": 45,
     "metadata": {},
     "output_type": "execute_result"
    }
   ],
   "source": [
    "df.loc[[pd.to_datetime('2021-08-09'), pd.to_datetime('2021-08-10')]]"
   ]
  },
  {
   "cell_type": "markdown",
   "id": "152c5955",
   "metadata": {},
   "source": [
    "### `at` vs `loc`"
   ]
  },
  {
   "cell_type": "markdown",
   "id": "0cec13b8",
   "metadata": {},
   "source": [
    "- `df.at` is faster\n",
    "- `df.at` can only access a single value at a time.\n",
    "- `df.loc` can select multiple rows and/or columns.\n",
    "\n",
    "\n",
    "https://stackoverflow.com/questions/37216485/pandas-at-versus-loc"
   ]
  },
  {
   "cell_type": "markdown",
   "id": "23309ee9",
   "metadata": {},
   "source": [
    "## Get\n",
    "\n",
    "method that allows you to index on a collection and return default value if the index is out of range"
   ]
  },
  {
   "cell_type": "markdown",
   "id": "fb77c67f",
   "metadata": {},
   "source": [
    "### Dictionary"
   ]
  },
  {
   "cell_type": "code",
   "execution_count": 46,
   "id": "ea274b81",
   "metadata": {},
   "outputs": [
    {
     "data": {
      "text/plain": [
       "True"
      ]
     },
     "execution_count": 46,
     "metadata": {},
     "output_type": "execute_result"
    }
   ],
   "source": [
    "{'a': 1, 'b': 2}.get('c') is None"
   ]
  },
  {
   "cell_type": "code",
   "execution_count": 47,
   "id": "c5640d18",
   "metadata": {},
   "outputs": [
    {
     "data": {
      "text/plain": [
       "0"
      ]
     },
     "execution_count": 47,
     "metadata": {},
     "output_type": "execute_result"
    }
   ],
   "source": [
    "{'a': 1, 'b': 2}.get('c', 0)"
   ]
  },
  {
   "cell_type": "code",
   "execution_count": 48,
   "id": "869c70d2",
   "metadata": {},
   "outputs": [
    {
     "data": {
      "text/plain": [
       "True"
      ]
     },
     "execution_count": 48,
     "metadata": {},
     "output_type": "execute_result"
    }
   ],
   "source": [
    "# ['c'] raises KeyError\n",
    "from helpsk import validation\n",
    "validation.raises_exception(lambda: {'a': 1, 'b': 2}['c'], KeyError)"
   ]
  },
  {
   "cell_type": "markdown",
   "id": "438bc817",
   "metadata": {},
   "source": [
    "### Series"
   ]
  },
  {
   "cell_type": "code",
   "execution_count": 49,
   "id": "205f7712",
   "metadata": {},
   "outputs": [
    {
     "data": {
      "text/plain": [
       "Timestamp('2021-08-09 00:00:00', freq='D')"
      ]
     },
     "execution_count": 49,
     "metadata": {},
     "output_type": "execute_result"
    }
   ],
   "source": [
    "dates[0]"
   ]
  },
  {
   "cell_type": "code",
   "execution_count": 50,
   "id": "e091fbab",
   "metadata": {},
   "outputs": [
    {
     "data": {
      "text/plain": [
       "0.5831958448204407"
      ]
     },
     "execution_count": 50,
     "metadata": {},
     "output_type": "execute_result"
    }
   ],
   "source": [
    "df.D.get(dates[0])"
   ]
  },
  {
   "cell_type": "code",
   "execution_count": 51,
   "id": "759d3b6c",
   "metadata": {},
   "outputs": [
    {
     "data": {
      "text/plain": [
       "True"
      ]
     },
     "execution_count": 51,
     "metadata": {},
     "output_type": "execute_result"
    }
   ],
   "source": [
    "df.D.get(pd.date_range('2021-01-01', periods=1)[0]) is None"
   ]
  },
  {
   "cell_type": "code",
   "execution_count": 52,
   "id": "0f5b8b36",
   "metadata": {},
   "outputs": [
    {
     "data": {
      "text/plain": [
       "nan"
      ]
     },
     "execution_count": 52,
     "metadata": {},
     "output_type": "execute_result"
    }
   ],
   "source": [
    "df.D.get(pd.date_range('2021-01-01', periods=1)[0], np.NaN)"
   ]
  },
  {
   "cell_type": "markdown",
   "id": "70ee81ed",
   "metadata": {},
   "source": [
    "## Vectorized Operations - Automatic Alignment\n",
    "\n",
    "A key difference between Series and ndarray is that operations between Series automatically align the data based on label. Thus, you can write computations without giving consideration to whether the Series involved have the same labels.\n",
    "\n",
    "https://pandas.pydata.org/pandas-docs/stable/user_guide/dsintro.html#vectorized-operations-and-label-alignment-with-series"
   ]
  },
  {
   "cell_type": "code",
   "execution_count": 53,
   "id": "6bf8e9b4",
   "metadata": {},
   "outputs": [
    {
     "data": {
      "text/plain": [
       "A    11\n",
       "B    22\n",
       "C    33\n",
       "D    44\n",
       "E    55\n",
       "dtype: int64"
      ]
     },
     "execution_count": 53,
     "metadata": {},
     "output_type": "execute_result"
    }
   ],
   "source": [
    "s1 = pd.Series([1, 2, 3, 4, 5], index=['A', 'B', 'C', 'D', 'E'])\n",
    "s2 = pd.Series([10, 20, 30, 40, 50], index=['A', 'B', 'C', 'D', 'E'])\n",
    "\n",
    "s1 + s2"
   ]
  },
  {
   "cell_type": "code",
   "execution_count": 54,
   "id": "1afc0578",
   "metadata": {},
   "outputs": [
    {
     "name": "stdout",
     "output_type": "stream",
     "text": [
      "E    5\n",
      "D    4\n",
      "C    3\n",
      "B    2\n",
      "A    1\n",
      "dtype: int64\n"
     ]
    },
    {
     "ename": "NameError",
     "evalue": "name 's' is not defined",
     "output_type": "error",
     "traceback": [
      "\u001b[0;31m---------------------------------------------------------------------------\u001b[0m",
      "\u001b[0;31mNameError\u001b[0m                                 Traceback (most recent call last)",
      "\u001b[0;32m<ipython-input-54-206029c3d12b>\u001b[0m in \u001b[0;36m<module>\u001b[0;34m\u001b[0m\n\u001b[1;32m      1\u001b[0m \u001b[0mprint\u001b[0m\u001b[0;34m(\u001b[0m\u001b[0ms1\u001b[0m\u001b[0;34m.\u001b[0m\u001b[0miloc\u001b[0m\u001b[0;34m[\u001b[0m\u001b[0;34m[\u001b[0m\u001b[0;36m4\u001b[0m\u001b[0;34m,\u001b[0m \u001b[0;36m3\u001b[0m\u001b[0;34m,\u001b[0m \u001b[0;36m2\u001b[0m\u001b[0;34m,\u001b[0m \u001b[0;36m1\u001b[0m\u001b[0;34m,\u001b[0m \u001b[0;36m0\u001b[0m\u001b[0;34m]\u001b[0m\u001b[0;34m]\u001b[0m\u001b[0;34m)\u001b[0m\u001b[0;34m\u001b[0m\u001b[0;34m\u001b[0m\u001b[0m\n\u001b[0;32m----> 2\u001b[0;31m \u001b[0ms\u001b[0m \u001b[0;34m+\u001b[0m \u001b[0ms2\u001b[0m\u001b[0;34m\u001b[0m\u001b[0;34m\u001b[0m\u001b[0m\n\u001b[0m",
      "\u001b[0;31mNameError\u001b[0m: name 's' is not defined"
     ]
    }
   ],
   "source": [
    "print(s1.iloc[[4, 3, 2, 1, 0]])\n",
    "s + s2"
   ]
  },
  {
   "cell_type": "markdown",
   "id": "d0d202b4",
   "metadata": {},
   "source": [
    "The result of an operation between unaligned Series will have the union of the indexes involved. If a label is not found in one Series or the other, the result will be marked as missing NaN. "
   ]
  },
  {
   "cell_type": "code",
   "execution_count": null,
   "id": "71614094",
   "metadata": {},
   "outputs": [],
   "source": [
    "s.iloc[[2, 3, 4]] + s2.iloc[[0, 1, 2, 3]]"
   ]
  },
  {
   "cell_type": "markdown",
   "id": "85d98954",
   "metadata": {},
   "source": [
    "## Applying Functions\n",
    "\n",
    "https://pandas.pydata.org/pandas-docs/stable/user_guide/basics.html#function-application"
   ]
  },
  {
   "cell_type": "markdown",
   "id": "5915ea6e",
   "metadata": {},
   "source": [
    "### Tablewise function application - Chaining Function Calls with `pipe()`"
   ]
  },
  {
   "cell_type": "code",
   "execution_count": null,
   "id": "b2c58415",
   "metadata": {},
   "outputs": [],
   "source": [
    "df_p = pd.DataFrame({\"city_and_code\": [\"Chicago, IL\", \"Seattle, WA\"]})\n",
    "df_p"
   ]
  },
  {
   "cell_type": "code",
   "execution_count": null,
   "id": "685badc0",
   "metadata": {},
   "outputs": [],
   "source": [
    "df_p[\"city_and_code\"].str.split(\",\")"
   ]
  },
  {
   "cell_type": "code",
   "execution_count": null,
   "id": "f84faa5e",
   "metadata": {},
   "outputs": [],
   "source": [
    "df_p[\"city_and_code\"].str.split(\",\").str.get(1)"
   ]
  },
  {
   "cell_type": "code",
   "execution_count": null,
   "id": "cb47d8ff",
   "metadata": {},
   "outputs": [],
   "source": [
    "def extract_city_name(df):\n",
    "    \"\"\"\n",
    "    Chicago, IL -> Chicago for city_name column\n",
    "    \"\"\"\n",
    "    df[\"city_name\"] = df[\"city_and_code\"].str.split(\",\").str.get(0)\n",
    "    return df\n",
    "\n",
    "def add_country_name(df, country_name=None):\n",
    "    \"\"\"\n",
    "    Chicago -> Chicago-US for city_name column\n",
    "    \"\"\"\n",
    "    col = \"city_name\"\n",
    "    df[\"city_and_country\"] = df[col] + country_name\n",
    "    return df"
   ]
  },
  {
   "cell_type": "code",
   "execution_count": null,
   "id": "19a8ee66",
   "metadata": {},
   "outputs": [],
   "source": []
  },
  {
   "cell_type": "code",
   "execution_count": null,
   "id": "c2c0a635",
   "metadata": {},
   "outputs": [],
   "source": [
    "df_p.pipe(extract_city_name).pipe(add_country_name, country_name=\"US\")"
   ]
  },
  {
   "cell_type": "markdown",
   "id": "1582ffe1",
   "metadata": {},
   "source": [
    "Python is pass by reference, so, unlike R, the DataFrame changes without having to make final assignment back into `df_p`. Instaed of returning the DataFrame object we are returning a pointer do the object."
   ]
  },
  {
   "cell_type": "code",
   "execution_count": null,
   "id": "ba848752",
   "metadata": {},
   "outputs": [],
   "source": [
    "df_p"
   ]
  },
  {
   "cell_type": "code",
   "execution_count": null,
   "id": "502f213b",
   "metadata": {},
   "outputs": [],
   "source": []
  },
  {
   "cell_type": "code",
   "execution_count": null,
   "id": "0fae570f",
   "metadata": {},
   "outputs": [],
   "source": []
  },
  {
   "cell_type": "markdown",
   "id": "e9bd555a",
   "metadata": {},
   "source": [
    "## Pandas Aggregations"
   ]
  },
  {
   "cell_type": "code",
   "execution_count": null,
   "id": "2459d8bb",
   "metadata": {},
   "outputs": [],
   "source": [
    "import pandas as pd\n",
    "import numpy as np\n",
    "\n",
    "data = pd.DataFrame({\n",
    "    'col1':['a','a','a','a','a','b','b','b','b','b'],\n",
    "    'col2':[10, 20, 30, 40, 50, 60, 70, 80, 90, 100],\n",
    "    'col3':[100, 200, 300, 400, 500, 600, 700, 800, 900, 1000],\n",
    "})"
   ]
  },
  {
   "cell_type": "code",
   "execution_count": null,
   "id": "18fbe6d4",
   "metadata": {},
   "outputs": [],
   "source": [
    "data"
   ]
  },
  {
   "cell_type": "markdown",
   "id": "9d9d7cbd",
   "metadata": {},
   "source": [
    "### Use `.agg()` for simple functions on single columns\n",
    "\n",
    "Meaning, there isn't any interaction between columns. (i.e. can't do `col2 + col3`)"
   ]
  },
  {
   "cell_type": "code",
   "execution_count": null,
   "id": "7f3774b5",
   "metadata": {},
   "outputs": [],
   "source": [
    "data.groupby('col1').agg({'col2': [min, max], 'col3': [min, np.median, max]})"
   ]
  },
  {
   "cell_type": "markdown",
   "id": "d1457061",
   "metadata": {},
   "source": [
    "### Use .apply() to create interaction among multiple columns"
   ]
  },
  {
   "cell_type": "markdown",
   "id": "0f2c2515",
   "metadata": {},
   "source": [
    "https://stackoverflow.com/questions/10951341/pandas-dataframe-aggregate-function-using-multiple-columns"
   ]
  },
  {
   "cell_type": "code",
   "execution_count": null,
   "id": "78b4f50e",
   "metadata": {},
   "outputs": [],
   "source": [
    "data"
   ]
  },
  {
   "cell_type": "markdown",
   "id": "26b0692a",
   "metadata": {},
   "source": [
    "R Equivalent (although not quite because we don't get to name the column; returning column is `col1`, not `result_a`):\n",
    "\n",
    "```\n",
    "data %>%\n",
    "    group_by(col1) %>%\n",
    "    summarise(result_a = sum(col2 * col3))\n",
    "```"
   ]
  },
  {
   "cell_type": "code",
   "execution_count": null,
   "id": "f9d88ef0",
   "metadata": {},
   "outputs": [],
   "source": [
    "grouped = data.groupby('col1')\n",
    "\n",
    "def my_function(group):\n",
    "    col2 = group['col2']\n",
    "    col3 = group['col3']\n",
    "    return (col2 * col3).sum()\n",
    "\n",
    "result = grouped.apply(my_function)\n",
    "result"
   ]
  },
  {
   "cell_type": "code",
   "execution_count": null,
   "id": "4073e4f9",
   "metadata": {},
   "outputs": [],
   "source": [
    "result['b']"
   ]
  },
  {
   "cell_type": "markdown",
   "id": "3d541d2a",
   "metadata": {},
   "source": [
    "---"
   ]
  },
  {
   "cell_type": "markdown",
   "id": "d9dc91b8",
   "metadata": {},
   "source": [
    "Let's remove the .sum() and just multiply across groups, to see what the result is."
   ]
  },
  {
   "cell_type": "code",
   "execution_count": null,
   "id": "8b3ce3f4",
   "metadata": {},
   "outputs": [],
   "source": [
    "grouped = data.groupby('col1')\n",
    "\n",
    "def my_function(group):\n",
    "    col2 = group['col2']\n",
    "    col3 = group['col3']\n",
    "    return (col2 * col3)#.sum()\n",
    "\n",
    "result = grouped.apply(my_function)\n",
    "result"
   ]
  },
  {
   "cell_type": "markdown",
   "id": "8bae588e",
   "metadata": {},
   "source": [
    "---"
   ]
  },
  {
   "cell_type": "markdown",
   "id": "daf61457",
   "metadata": {},
   "source": [
    "### `group_by(...) %>% summarise(...)`\n",
    "\n",
    "The following examples shows the equivalent of R's `group_by(...) %>% summarise(...)`\n",
    "\n",
    "https://stackoverflow.com/questions/14529838/apply-multiple-functions-to-multiple-groupby-columns\n",
    "\n",
    "Unlike the last examples, we can A) name the columns and B) interact the grouped columns."
   ]
  },
  {
   "cell_type": "code",
   "execution_count": null,
   "id": "eb17b785",
   "metadata": {},
   "outputs": [],
   "source": [
    "data"
   ]
  },
  {
   "cell_type": "code",
   "execution_count": null,
   "id": "667059be",
   "metadata": {},
   "outputs": [],
   "source": [
    "def f(x):\n",
    "    d = {}\n",
    "    d['result_a'] = (x['col2'] * x['col3']).sum()\n",
    "    d['result_b'] = x['col2'].sum() * x['col3'].sum()\n",
    "    d['result_c'] = (x['col2'] + x['col3']).values\n",
    "    d['count'] = x.shape[0]\n",
    "    d['col2_max'] = x['col2'].max()\n",
    "    d['col3_max'] = x['col3'].max()\n",
    "    return pd.Series(d)\n",
    "\n",
    "data.groupby('col1').apply(f)"
   ]
  },
  {
   "cell_type": "markdown",
   "id": "fc154bce",
   "metadata": {},
   "source": [
    "which is equivalent to:\n",
    "\n",
    "```\n",
    "data %>%\n",
    "    group_by(col1) %>%\n",
    "    summarise(result_a = sum(col2 * col3),\n",
    "              result_b = sum(col2) * sum(col3),\n",
    "              ...)\n",
    "```"
   ]
  },
  {
   "cell_type": "markdown",
   "id": "15f57f25",
   "metadata": {},
   "source": [
    "### `group_by(...) %>% mutate(...)`"
   ]
  },
  {
   "cell_type": "markdown",
   "id": "f430f509",
   "metadata": {},
   "source": [
    "https://gist.github.com/conormm/fd8b1980c28dd21cfaf6975c86c74d07\n",
    "\n",
    "\n",
    "```\n",
    "df %>% group_by(group) %>% mutate(mean_var1 = mean(var1))  # R\n",
    "```"
   ]
  },
  {
   "cell_type": "code",
   "execution_count": null,
   "id": "6933667f",
   "metadata": {},
   "outputs": [],
   "source": [
    "df = pd.DataFrame(data = {'group': ['A', 'A', 'B', 'B'],\n",
    "                          'var1': [1, 2, 3, 4],\n",
    "                          'var2': [40, 30, 20, 10]})\n",
    "df"
   ]
  },
  {
   "cell_type": "code",
   "execution_count": null,
   "id": "4cef1879",
   "metadata": {},
   "outputs": [],
   "source": [
    "df.assign(mean_var1 = lambda x: x.groupby('group')['var1'].transform('mean'))"
   ]
  },
  {
   "cell_type": "code",
   "execution_count": null,
   "id": "f30f572f",
   "metadata": {},
   "outputs": [],
   "source": [
    "# here is what the inside of the lambda function above gives without .assign()\n",
    "df.groupby('group')['var1'].transform('mean')"
   ]
  },
  {
   "cell_type": "markdown",
   "id": "5279769a",
   "metadata": {},
   "source": [
    "TODO: show more advanced example of above with column interactions"
   ]
  },
  {
   "cell_type": "code",
   "execution_count": null,
   "id": "f8b2c0ba",
   "metadata": {},
   "outputs": [],
   "source": [
    "df.groupby('group').transform('mean')"
   ]
  },
  {
   "cell_type": "markdown",
   "id": "9564f9ab",
   "metadata": {},
   "source": [
    "---"
   ]
  },
  {
   "cell_type": "code",
   "execution_count": null,
   "id": "5bbec921",
   "metadata": {},
   "outputs": [],
   "source": [
    "df.var1.rank(ascending=False)"
   ]
  },
  {
   "cell_type": "code",
   "execution_count": null,
   "id": "d0a1b86d",
   "metadata": {},
   "outputs": [],
   "source": [
    "df.groupby('group')['var1'].transform(lambda x: x.rank(ascending=False))"
   ]
  },
  {
   "cell_type": "code",
   "execution_count": null,
   "id": "affc6812",
   "metadata": {},
   "outputs": [],
   "source": [
    "\n",
    "\n",
    "df.groupby('group').transform(lambda x: x.rank(ascending=False))"
   ]
  },
  {
   "cell_type": "markdown",
   "id": "c2a3af0b",
   "metadata": {},
   "source": [
    "### `pivot_wider()`"
   ]
  },
  {
   "cell_type": "markdown",
   "id": "4efbcc99",
   "metadata": {},
   "source": [
    "#### via `pivot()`"
   ]
  },
  {
   "cell_type": "markdown",
   "id": "b6d7f733",
   "metadata": {},
   "source": [
    "https://stackoverflow.com/questions/40229444/trouble-pivoting-in-pandas-spread-in-r"
   ]
  },
  {
   "cell_type": "code",
   "execution_count": null,
   "id": "94d3f429",
   "metadata": {},
   "outputs": [],
   "source": [
    "df = pd.DataFrame({'site_id': {0: 'a', 1: 'a', 2: 'b', 3: 'b', 4: 'c', 5: 'c',6: 'a', 7: 'a', 8: 'b', 9: 'b', 10: 'c', 11: 'c'},\n",
    "                   'dt': {0: 1, 1: 1, 2: 1, 3: 1, 4: 1, 5: 1,6: 2, 7: 2, 8: 2, 9: 2, 10: 2, 11: 2},\n",
    "                   'eu': {0: 'FGE', 1: 'WSH', 2: 'FGE', 3: 'WSH', 4: 'FGE', 5: 'WSH',6: 'FGE', 7: 'WSH', 8: 'FGE', 9: 'WSH', 10: 'FGE', 11: 'WSH'},\n",
    "                   'kw': {0: '8', 1: '5', 2: '3', 3: '7', 4: '1', 5: '5',6: '2', 7: '3', 8: '5', 9: '7', 10: '2', 11: '5'}})\n",
    "df"
   ]
  },
  {
   "cell_type": "code",
   "execution_count": null,
   "id": "42260631",
   "metadata": {},
   "outputs": [],
   "source": [
    "# notice `dt` is first so it is the first level index\n",
    "df.pivot(index = ['dt', 'site_id'], values = 'kw', columns = 'eu')"
   ]
  },
  {
   "cell_type": "markdown",
   "id": "eea83ad5",
   "metadata": {},
   "source": [
    "---"
   ]
  },
  {
   "cell_type": "markdown",
   "id": "35fa5c0f",
   "metadata": {},
   "source": [
    "#### via `set_index()` & 'unstack()`"
   ]
  },
  {
   "cell_type": "code",
   "execution_count": null,
   "id": "1d5cec0f",
   "metadata": {},
   "outputs": [],
   "source": [
    "df.set_index(['dt','site_id','eu']).unstack('eu')"
   ]
  },
  {
   "cell_type": "markdown",
   "id": "a47c630f",
   "metadata": {},
   "source": [
    "---"
   ]
  },
  {
   "cell_type": "markdown",
   "id": "a6936a24",
   "metadata": {},
   "source": [
    "equivalent to R's `pivot_longer(-site_id)`"
   ]
  },
  {
   "cell_type": "code",
   "execution_count": null,
   "id": "6b2d9956",
   "metadata": {},
   "outputs": [],
   "source": [
    "df.set_index(['dt','site_id','eu']).unstack('site_id')"
   ]
  },
  {
   "cell_type": "markdown",
   "id": "d5d2b6a0",
   "metadata": {},
   "source": [
    "---"
   ]
  },
  {
   "cell_type": "markdown",
   "id": "3774942f",
   "metadata": {},
   "source": [
    "#### from wide to long and back"
   ]
  },
  {
   "cell_type": "code",
   "execution_count": null,
   "id": "a002a673",
   "metadata": {},
   "outputs": [],
   "source": [
    "df_wider = df.set_index(['dt','site_id','eu']).unstack('site_id')\n",
    "df_wider"
   ]
  },
  {
   "cell_type": "code",
   "execution_count": null,
   "id": "cefaee10",
   "metadata": {},
   "outputs": [],
   "source": [
    "# back to longer\n",
    "df_wider.stack()"
   ]
  },
  {
   "cell_type": "code",
   "execution_count": null,
   "id": "0203cb0c",
   "metadata": {},
   "outputs": [],
   "source": [
    "# multi-index select\n",
    "df_wider.loc[:, ['kw']]"
   ]
  },
  {
   "cell_type": "code",
   "execution_count": null,
   "id": "8d5e9dbd",
   "metadata": {},
   "outputs": [],
   "source": [
    "# multi-index select; pass tuple\n",
    "df_wider.loc[([1, 2], 'FGE'), ('kw', ['a', 'c'])]"
   ]
  },
  {
   "cell_type": "markdown",
   "id": "7e2c944c",
   "metadata": {},
   "source": [
    "### `pivot_longer()`"
   ]
  },
  {
   "cell_type": "markdown",
   "id": "4b680c88",
   "metadata": {},
   "source": [
    "#### `melt()`"
   ]
  },
  {
   "cell_type": "code",
   "execution_count": null,
   "id": "97b838ac",
   "metadata": {},
   "outputs": [],
   "source": [
    "df = pd.DataFrame({'A': {0: 'a', 1: 'b', 2: 'c'},\n",
    "                   'B': {0: 1, 1: 3, 2: 5},\n",
    "                   'C': {0: 2, 1: 4, 2: 6}})\n",
    "df"
   ]
  },
  {
   "cell_type": "code",
   "execution_count": null,
   "id": "68ca1fa2",
   "metadata": {},
   "outputs": [],
   "source": [
    "pd.melt(df, id_vars=['A'], value_vars=['B', 'C'])"
   ]
  },
  {
   "cell_type": "markdown",
   "id": "9689f05f",
   "metadata": {},
   "source": [
    "#### `wide_to_long()`"
   ]
  },
  {
   "cell_type": "markdown",
   "id": "0b498a40",
   "metadata": {},
   "source": [
    "Another way to transform is to use the wide_to_long() panel data convenience function. It is less flexible than melt(), but more user-friendly.\n",
    "\n",
    "https://pandas.pydata.org/pandas-docs/stable/user_guide/reshaping.html\n",
    "\n",
    "> With stubnames [‘A’, ‘B’], this **function expects to find one or more group of columns with format A-suffix1, A-suffix2,…, B-suffix1, B-suffix2,…** You specify what you want to call this suffix in the resulting long format with j (for example j=’year’)"
   ]
  },
  {
   "cell_type": "code",
   "execution_count": null,
   "id": "8968537d",
   "metadata": {},
   "outputs": [],
   "source": [
    "df = pd.DataFrame({\"A1970\" : {0 : \"a\", 1 : \"b\", 2 : \"c\"},\n",
    "                   \"A1980\" : {0 : \"d\", 1 : \"e\", 2 : \"f\"},\n",
    "                   \"B1970\" : {0 : 2.5, 1 : 1.2, 2 : .7},\n",
    "                   \"B1980\" : {0 : 3.2, 1 : 1.3, 2 : .1},\n",
    "                   \"X\"     : dict(zip(range(3), np.random.randn(3)))\n",
    "                  })\n",
    "df[\"id\"] = df.index"
   ]
  },
  {
   "cell_type": "code",
   "execution_count": null,
   "id": "a03db9cc",
   "metadata": {},
   "outputs": [],
   "source": [
    "df"
   ]
  },
  {
   "cell_type": "code",
   "execution_count": null,
   "id": "463c8ab5",
   "metadata": {},
   "outputs": [],
   "source": [
    "pd.wide_to_long(df, [\"A\", \"B\"], i=\"id\", j=\"year\")"
   ]
  },
  {
   "cell_type": "markdown",
   "id": "a919744a",
   "metadata": {},
   "source": [
    "## Misc"
   ]
  },
  {
   "cell_type": "markdown",
   "id": "8fa004d1",
   "metadata": {},
   "source": [
    "### Series.str\n",
    "\n",
    "Series is equipped with a set of string processing methods in the str attribute that make it easy to operate on each element of the array, as in the code snippet below. Note that pattern-matching in str generally uses regular expressions by default (and in some cases always uses them).\n",
    "\n",
    "https://pandas.pydata.org/pandas-docs/stable/user_guide/10min.html"
   ]
  },
  {
   "cell_type": "code",
   "execution_count": null,
   "id": "c1c4f163",
   "metadata": {},
   "outputs": [],
   "source": [
    "s = pd.Series([\"A\", \"B\", \"C\", \"Aaba\", \"Baca\", np.nan, \"CABA\", \"dog\", \"cat\"])\n",
    "s.str.lower()"
   ]
  },
  {
   "cell_type": "code",
   "execution_count": null,
   "id": "808bfe80",
   "metadata": {},
   "outputs": [],
   "source": [
    "s.str.capitalize()"
   ]
  },
  {
   "cell_type": "markdown",
   "id": "43887c29",
   "metadata": {},
   "source": [
    "### Recipes"
   ]
  },
  {
   "cell_type": "markdown",
   "id": "bdab47cf",
   "metadata": {},
   "source": [
    "#### Get Top N Rows for Each Group"
   ]
  },
  {
   "cell_type": "code",
   "execution_count": null,
   "id": "b950a4df",
   "metadata": {},
   "outputs": [],
   "source": [
    "df = pd.DataFrame({'site_id': {0: 'a', 1: 'a', 2: 'b', 3: 'b', 4: 'c', 5: 'c',6: 'a', 7: 'a', 8: 'b', 9: 'b', 10: 'c', 11: 'c'},\n",
    "                   'dt': {0: 1, 1: 1, 2: 1, 3: 1, 4: 1, 5: 1,6: 2, 7: 2, 8: 2, 9: 2, 10: 2, 11: 2},\n",
    "                   'eu': {0: 'FGE', 1: 'WSH', 2: 'FGE', 3: 'WSH', 4: 'FGE', 5: 'WSH',6: 'FGE', 7: 'WSH', 8: 'FGE', 9: 'WSH', 10: 'FGE', 11: 'WSH'},\n",
    "                   'kw': {0: '8', 1: '5', 2: '3', 3: '7', 4: '1', 5: '5',6: '2', 7: '3', 8: '5', 9: '7', 10: '2', 11: '5'}})\n",
    "df = df.sort_values(by=['site_id', 'kw'])"
   ]
  },
  {
   "cell_type": "code",
   "execution_count": null,
   "id": "b48a9b91",
   "metadata": {},
   "outputs": [],
   "source": [
    "df"
   ]
  },
  {
   "cell_type": "code",
   "execution_count": null,
   "id": "d0a581d3",
   "metadata": {},
   "outputs": [],
   "source": [
    "def top_n(df, n, column):\n",
    "    return df.sort_values(by=column)[-n:]\n",
    "\n",
    "top_n(df, n=2, column='kw')"
   ]
  },
  {
   "cell_type": "code",
   "execution_count": null,
   "id": "5f584a18",
   "metadata": {},
   "outputs": [],
   "source": [
    "df.groupby('site_id').apply(top_n, n=2, column='kw')"
   ]
  },
  {
   "cell_type": "markdown",
   "id": "c42cafe5",
   "metadata": {},
   "source": [
    "## Performance"
   ]
  },
  {
   "cell_type": "markdown",
   "id": "423d0ae3",
   "metadata": {},
   "source": [
    "Accelerated operations\n",
    "\n",
    "https://pandas.pydata.org/pandas-docs/stable/user_guide/basics.html#accelerated-operations\n",
    "\n",
    "\n",
    "pandas has support for accelerating certain types of binary numerical and boolean operations using the numexpr library and the bottleneck libraries.\n",
    "\n",
    "These libraries are especially useful when dealing with large data sets, and provide large speedups. numexpr uses smart chunking, caching, and multiple cores. bottleneck is a set of specialized cython routines that are especially fast when dealing with arrays that have nans.\n",
    "\n",
    "Here is a sample (using 100 column x 100,000 row DataFrames):\n",
    "\n",
    "Operation\n",
    "0.11.0 (ms)\n",
    "Prior Version (ms)\n",
    "Ratio to Prior\n",
    "df1 > df2\n",
    "13.32\n",
    "125.35\n",
    "0.1063\n",
    "df1 * df2\n",
    "21.71\n",
    "36.63\n",
    "0.5928\n",
    "df1 + df2\n",
    "22.04\n",
    "36.50\n",
    "0.6039\n",
    "\n",
    "**You are highly encouraged to install both libraries**. See the section Recommended Dependencies for more installation info.\n",
    "\n",
    "These are both enabled to be used by default, you can control this by setting the options:\n",
    "\n",
    "```\n",
    "pd.set_option(\"compute.use_bottleneck\", False)\n",
    "pd.set_option(\"compute.use_numexpr\", False)\n",
    "```"
   ]
  },
  {
   "cell_type": "markdown",
   "id": "cee8bb01",
   "metadata": {},
   "source": [
    "# Dates & Times"
   ]
  },
  {
   "cell_type": "markdown",
   "id": "3160941e",
   "metadata": {},
   "source": [
    "## `parse()`"
   ]
  },
  {
   "cell_type": "code",
   "execution_count": null,
   "id": "0b9c9e73",
   "metadata": {},
   "outputs": [],
   "source": [
    "from dateutil.parser import parse\n",
    "parse('2021-08-14')"
   ]
  },
  {
   "cell_type": "code",
   "execution_count": null,
   "id": "0cd44f90",
   "metadata": {},
   "outputs": [],
   "source": [
    "parse('2021-08-14 23:59:58')"
   ]
  },
  {
   "cell_type": "code",
   "execution_count": null,
   "id": "3d0e3d51",
   "metadata": {},
   "outputs": [],
   "source": [
    "dates = [parse('2021-08-14'), parse('2021-08-15'), parse('2021-08-16'), parse('2021-08-16'),\n",
    "         parse('2021-09-01'), parse('2022-01-01')]\n",
    "dates"
   ]
  },
  {
   "cell_type": "code",
   "execution_count": null,
   "id": "97db3873",
   "metadata": {},
   "outputs": [],
   "source": [
    "df = pd.DataFrame({'value': [1, 2, 3, 3.1, 4, 5]}, index=dates)\n",
    "df"
   ]
  },
  {
   "cell_type": "code",
   "execution_count": null,
   "id": "8e6a933b",
   "metadata": {},
   "outputs": [],
   "source": [
    "df.index.is_unique"
   ]
  },
  {
   "cell_type": "code",
   "execution_count": null,
   "id": "357f472f",
   "metadata": {},
   "outputs": [],
   "source": [
    "df.loc['2021-08-15']"
   ]
  },
  {
   "cell_type": "code",
   "execution_count": null,
   "id": "60490d3f",
   "metadata": {},
   "outputs": [],
   "source": [
    "df.loc['20210815']"
   ]
  },
  {
   "cell_type": "code",
   "execution_count": null,
   "id": "41900ee6",
   "metadata": {},
   "outputs": [],
   "source": [
    "df.loc[dates[1]]"
   ]
  },
  {
   "cell_type": "code",
   "execution_count": null,
   "id": "7396a62c",
   "metadata": {},
   "outputs": [],
   "source": [
    "df.loc['2021']"
   ]
  },
  {
   "cell_type": "code",
   "execution_count": null,
   "id": "4f77c717",
   "metadata": {},
   "outputs": [],
   "source": [
    "df.get('2020')"
   ]
  },
  {
   "cell_type": "code",
   "execution_count": null,
   "id": "1be48d7d",
   "metadata": {},
   "outputs": [],
   "source": [
    "df.get('2021')"
   ]
  },
  {
   "cell_type": "code",
   "execution_count": null,
   "id": "08a33399",
   "metadata": {},
   "outputs": [],
   "source": [
    "df.get('2021-08')"
   ]
  },
  {
   "cell_type": "code",
   "execution_count": null,
   "id": "ee7dcabf",
   "metadata": {},
   "outputs": [],
   "source": [
    "df.get('2022')"
   ]
  },
  {
   "cell_type": "code",
   "execution_count": null,
   "id": "4caaa2e8",
   "metadata": {},
   "outputs": [],
   "source": [
    "df.loc['2021-08-16']"
   ]
  },
  {
   "cell_type": "code",
   "execution_count": null,
   "id": "1d5b3a5b",
   "metadata": {},
   "outputs": [],
   "source": [
    "df.get('2023')"
   ]
  },
  {
   "cell_type": "code",
   "execution_count": null,
   "id": "c1f67458",
   "metadata": {},
   "outputs": [],
   "source": [
    "# if ordered chronologically, you can slice with timestamp range\n",
    "df['2021-08': '2021-09']"
   ]
  },
  {
   "cell_type": "code",
   "execution_count": null,
   "id": "ee473c2b",
   "metadata": {},
   "outputs": [],
   "source": [
    "df.truncate(after='2021-09')"
   ]
  },
  {
   "cell_type": "code",
   "execution_count": null,
   "id": "10b635f0",
   "metadata": {},
   "outputs": [],
   "source": [
    "df.truncate(before='2021-09')"
   ]
  },
  {
   "cell_type": "code",
   "execution_count": null,
   "id": "644775c6",
   "metadata": {},
   "outputs": [],
   "source": [
    "df.groupby(level=0).count()"
   ]
  },
  {
   "cell_type": "markdown",
   "id": "e9944304",
   "metadata": {},
   "source": [
    "## date_range()"
   ]
  },
  {
   "cell_type": "code",
   "execution_count": null,
   "id": "35833aba",
   "metadata": {},
   "outputs": [],
   "source": [
    "pd.date_range('2021-02', '2022-01-31')"
   ]
  },
  {
   "cell_type": "code",
   "execution_count": null,
   "id": "602a541e",
   "metadata": {},
   "outputs": [],
   "source": [
    "# returns the first day of the quarter between the range provided\n",
    "pd.date_range('2021-02', '2022-01-31', freq='QS-JAN')"
   ]
  },
  {
   "cell_type": "code",
   "execution_count": null,
   "id": "32ffddf0",
   "metadata": {},
   "outputs": [],
   "source": [
    "# returns the first *business* day of the quarter between the range provided\n",
    "# Jan 1st 2022 falls on a saturday, the first business day is Monday the 3rd\n",
    "pd.date_range('2021-02', '2022-01-31', freq='BQS-JAN')"
   ]
  },
  {
   "cell_type": "code",
   "execution_count": null,
   "id": "0dd17853",
   "metadata": {},
   "outputs": [],
   "source": [
    "# returns the first day of the fiscal quarter (first quarter of the year is FEB) \n",
    "# between the range provided\n",
    "pd.date_range('2021-02', '2022-01-31', freq='QS-FEB')"
   ]
  },
  {
   "cell_type": "code",
   "execution_count": null,
   "id": "95236934",
   "metadata": {},
   "outputs": [],
   "source": [
    "# returns the first *business* day of the fiscal quarter (first quarter of the year is FEB) \n",
    "# between the range provided\n",
    "pd.date_range('2021-02', '2022-01-31', freq='BQS-FEB')"
   ]
  },
  {
   "cell_type": "markdown",
   "id": "92772f81",
   "metadata": {},
   "source": [
    "## Offsets e.g. `MonthEnd()`"
   ]
  },
  {
   "cell_type": "code",
   "execution_count": null,
   "id": "1b84a404",
   "metadata": {},
   "outputs": [],
   "source": [
    "# M = Month End\n",
    "pd.date_range('2021-02', '2021-05', freq='M')"
   ]
  },
  {
   "cell_type": "code",
   "execution_count": null,
   "id": "a4d7f723",
   "metadata": {},
   "outputs": [],
   "source": [
    "# MS = Month Start\n",
    "pd.date_range('2021-02', '2021-05', freq='MS')"
   ]
  },
  {
   "cell_type": "markdown",
   "id": "77b2511e",
   "metadata": {},
   "source": [
    "---"
   ]
  },
  {
   "cell_type": "code",
   "execution_count": null,
   "id": "b6c40e12",
   "metadata": {},
   "outputs": [],
   "source": [
    "from pandas.tseries.offsets import Day, MonthBegin, MonthEnd, QuarterBegin, QuarterEnd"
   ]
  },
  {
   "cell_type": "code",
   "execution_count": null,
   "id": "a75e4165",
   "metadata": {},
   "outputs": [],
   "source": [
    "pd.date_range('2021-02', '2021-05', freq='M')"
   ]
  },
  {
   "cell_type": "code",
   "execution_count": null,
   "id": "6560fe70",
   "metadata": {},
   "outputs": [],
   "source": [
    "# i would have expected no change if doing `+ MonthEnd()` to last day of the month but that isn't the case\n",
    "pd.date_range('2021-02', '2021-05', freq='M') + MonthEnd()"
   ]
  },
  {
   "cell_type": "code",
   "execution_count": null,
   "id": "02e203bf",
   "metadata": {},
   "outputs": [],
   "source": [
    "pd.date_range('2021-02', '2021-02', freq='MS').values"
   ]
  },
  {
   "cell_type": "code",
   "execution_count": null,
   "id": "612db990",
   "metadata": {},
   "outputs": [],
   "source": []
  },
  {
   "cell_type": "code",
   "execution_count": null,
   "id": "e66eb26b",
   "metadata": {},
   "outputs": [],
   "source": [
    "pd.date_range('2021-02', '2021-05', freq='MS') + pd.offsets.MonthEnd(n=0) - pd.offsets.MonthBegin(n=1)"
   ]
  },
  {
   "cell_type": "code",
   "execution_count": null,
   "id": "850b6b87",
   "metadata": {},
   "outputs": [],
   "source": [
    "pd.date_range('2021-02', '2021-05', freq='M') + pd.offsets.MonthEnd(n=0) - pd.offsets.MonthBegin(n=1)"
   ]
  },
  {
   "cell_type": "code",
   "execution_count": null,
   "id": "225724a9",
   "metadata": {},
   "outputs": [],
   "source": []
  },
  {
   "cell_type": "code",
   "execution_count": null,
   "id": "3f189f16",
   "metadata": {},
   "outputs": [],
   "source": []
  },
  {
   "cell_type": "code",
   "execution_count": null,
   "id": "41532340",
   "metadata": {},
   "outputs": [],
   "source": []
  },
  {
   "cell_type": "code",
   "execution_count": null,
   "id": "a763118f",
   "metadata": {},
   "outputs": [],
   "source": []
  },
  {
   "cell_type": "code",
   "execution_count": null,
   "id": "893e4a31",
   "metadata": {},
   "outputs": [],
   "source": []
  },
  {
   "cell_type": "code",
   "execution_count": null,
   "id": "5960ec4e",
   "metadata": {},
   "outputs": [],
   "source": []
  },
  {
   "cell_type": "code",
   "execution_count": null,
   "id": "02c8ff81",
   "metadata": {},
   "outputs": [],
   "source": [
    "pd.date_range('2021-02', '2021-05', freq='MS') + MonthEnd()"
   ]
  },
  {
   "cell_type": "code",
   "execution_count": null,
   "id": "ffef0cee",
   "metadata": {},
   "outputs": [],
   "source": [
    "# added MonthBegin() gives the beginning of next month\n",
    "pd.date_range('2021-02', '2021-05', freq='MS') + MonthEnd() + MonthBegin()"
   ]
  },
  {
   "cell_type": "code",
   "execution_count": null,
   "id": "e6dc9421",
   "metadata": {},
   "outputs": [],
   "source": [
    "# subtracting MonthBegin() gives the beginning of current month\n",
    "pd.date_range('2021-02', '2021-05', freq='MS') + MonthEnd() - MonthBegin()"
   ]
  },
  {
   "cell_type": "code",
   "execution_count": null,
   "id": "ecdd0624",
   "metadata": {},
   "outputs": [],
   "source": [
    "pd.date_range('2021-02', '2021-05', freq='MS') + MonthEnd(2)"
   ]
  },
  {
   "cell_type": "markdown",
   "id": "50d7078a",
   "metadata": {},
   "source": [
    "---"
   ]
  },
  {
   "cell_type": "code",
   "execution_count": null,
   "id": "d61e7c20",
   "metadata": {},
   "outputs": [],
   "source": [
    "pd.date_range('2021-01', '2021-12', freq='MS')"
   ]
  },
  {
   "cell_type": "code",
   "execution_count": null,
   "id": "dfbef7e2",
   "metadata": {},
   "outputs": [],
   "source": [
    "pd.date_range('2021-01', '2021-12', freq='MS') - MonthBegin()"
   ]
  },
  {
   "cell_type": "code",
   "execution_count": null,
   "id": "43bc6968",
   "metadata": {},
   "outputs": [],
   "source": [
    "pd.date_range('2021-01', '2021-12', freq='MS') + Day(2) - MonthBegin()"
   ]
  },
  {
   "cell_type": "code",
   "execution_count": null,
   "id": "ae947c1a",
   "metadata": {},
   "outputs": [],
   "source": [
    "starting_fiscal_month = 2\n",
    "quarter_end_month = starting_fiscal_month + 3\n",
    "pd.date_range('2021-01', '2021-12', freq='MS') + QuarterEnd(startingMonth=1)"
   ]
  },
  {
   "cell_type": "code",
   "execution_count": null,
   "id": "88973554",
   "metadata": {},
   "outputs": [],
   "source": []
  },
  {
   "cell_type": "code",
   "execution_count": null,
   "id": "2d4fa07e",
   "metadata": {},
   "outputs": [],
   "source": []
  },
  {
   "cell_type": "markdown",
   "id": "a54080c8",
   "metadata": {},
   "source": [
    "---"
   ]
  },
  {
   "cell_type": "code",
   "execution_count": null,
   "id": "0385e48a",
   "metadata": {},
   "outputs": [],
   "source": [
    "pd.date_range('2021-02', '2021-05', freq='MS') + Day()"
   ]
  },
  {
   "cell_type": "code",
   "execution_count": null,
   "id": "163cb3a3",
   "metadata": {},
   "outputs": [],
   "source": [
    "pd.date_range('2021-02', '2021-05', freq='MS') + Day(2)"
   ]
  },
  {
   "cell_type": "markdown",
   "id": "8442e043",
   "metadata": {},
   "source": [
    "### `rollforward()` & `rollback()`"
   ]
  },
  {
   "cell_type": "code",
   "execution_count": null,
   "id": "b87aa97d",
   "metadata": {},
   "outputs": [],
   "source": [
    "from helpsk import date\n",
    "import datetime"
   ]
  },
  {
   "cell_type": "markdown",
   "id": "31641560",
   "metadata": {},
   "source": [
    "---"
   ]
  },
  {
   "cell_type": "code",
   "execution_count": null,
   "id": "3ff743f6",
   "metadata": {},
   "outputs": [],
   "source": [
    "MonthBegin().rollback(parse('2021-01-01'))"
   ]
  },
  {
   "cell_type": "code",
   "execution_count": null,
   "id": "3ade28b0",
   "metadata": {},
   "outputs": [],
   "source": [
    "MonthBegin().rollback(parse('2021-01-31'))"
   ]
  },
  {
   "cell_type": "code",
   "execution_count": null,
   "id": "2974067e",
   "metadata": {},
   "outputs": [],
   "source": [
    "MonthEnd().rollforward(date.ymd('2021-01-01'))"
   ]
  },
  {
   "cell_type": "code",
   "execution_count": null,
   "id": "f5f79d2b",
   "metadata": {},
   "outputs": [],
   "source": [
    "MonthEnd().rollforward(date.ymd('2021-01-31'))"
   ]
  },
  {
   "cell_type": "markdown",
   "id": "6291d03f",
   "metadata": {},
   "source": [
    "---"
   ]
  },
  {
   "cell_type": "code",
   "execution_count": null,
   "id": "aa4fdfaa",
   "metadata": {},
   "outputs": [],
   "source": [
    "# default value for startingMonth doesn't make sense\n",
    "QuarterBegin().rollback(date.ymd('2021-01-01'))"
   ]
  },
  {
   "cell_type": "markdown",
   "id": "84294aa2",
   "metadata": {},
   "source": [
    "---"
   ]
  },
  {
   "cell_type": "markdown",
   "id": "10355c7f",
   "metadata": {},
   "source": [
    "### Fiscal Quarter with `QuarterBegin(startingMonth=2)`"
   ]
  },
  {
   "cell_type": "code",
   "execution_count": null,
   "id": "b1c98977",
   "metadata": {},
   "outputs": [],
   "source": [
    "dates = np.append(pd.date_range('2021-01', '2021-12-31', freq='MS').values,\n",
    "                  pd.date_range('2021-01', '2021-12-31', freq='M').values)\n",
    "dates.sort()\n",
    "dates"
   ]
  },
  {
   "cell_type": "code",
   "execution_count": null,
   "id": "b41c4c89",
   "metadata": {},
   "outputs": [],
   "source": [
    "[(date.to_string(pd.to_datetime(str(x))),\n",
    "  QuarterBegin(startingMonth=1).rollback(x)) for x in dates]"
   ]
  },
  {
   "cell_type": "code",
   "execution_count": null,
   "id": "94c9ef10",
   "metadata": {},
   "outputs": [],
   "source": [
    "[(date.to_string(pd.to_datetime(str(x))),\n",
    "  QuarterBegin(startingMonth=2).rollback(x)) for x in dates]"
   ]
  },
  {
   "cell_type": "markdown",
   "id": "208c5b46",
   "metadata": {},
   "source": [
    "### `groupby()` & `rollforward()`"
   ]
  },
  {
   "cell_type": "code",
   "execution_count": null,
   "id": "70ca9c8f",
   "metadata": {},
   "outputs": [],
   "source": [
    "dates = pd.date_range('2021-01-01', '2021-12-31')\n",
    "dates"
   ]
  },
  {
   "cell_type": "code",
   "execution_count": null,
   "id": "07731c92",
   "metadata": {},
   "outputs": [],
   "source": [
    "df = pd.DataFrame({'value': range(0, len(dates))}, index=dates)\n",
    "df"
   ]
  },
  {
   "cell_type": "code",
   "execution_count": null,
   "id": "65c129fa",
   "metadata": {},
   "outputs": [],
   "source": [
    "from pandas.tseries.offsets import QuarterBegin"
   ]
  },
  {
   "cell_type": "code",
   "execution_count": null,
   "id": "73bce071",
   "metadata": {
    "scrolled": false
   },
   "outputs": [],
   "source": [
    "df = pd.DataFrame({'date': dates, 'value': range(0, len(dates))})\n",
    "df"
   ]
  },
  {
   "cell_type": "code",
   "execution_count": null,
   "id": "884e7cd1",
   "metadata": {},
   "outputs": [],
   "source": [
    "df['quarter_start'] = df.date.apply(QuarterBegin(startingMonth=1).rollback)\n",
    "df"
   ]
  },
  {
   "cell_type": "code",
   "execution_count": null,
   "id": "81f89bec",
   "metadata": {},
   "outputs": [],
   "source": [
    "df.groupby('quarter_start').agg({'value': [min, max, len]})"
   ]
  },
  {
   "cell_type": "code",
   "execution_count": null,
   "id": "b5c819bf",
   "metadata": {},
   "outputs": [],
   "source": [
    "# doesn't seem like this works, I would have thought it was the same as above\n",
    "df.groupby(QuarterBegin(startingMonth=1).rollback).agg({'value': [min, max, len]})"
   ]
  },
  {
   "cell_type": "markdown",
   "id": "333d88a2",
   "metadata": {},
   "source": [
    "# Unexpected Behavior"
   ]
  },
  {
   "cell_type": "markdown",
   "id": "1bc9364f",
   "metadata": {},
   "source": [
    "## Default Arguments"
   ]
  },
  {
   "cell_type": "markdown",
   "id": "d11f067e",
   "metadata": {},
   "source": [
    "Python’s default arguments are evaluated once when the function is defined, not each time the function is called (like it is in say, Ruby). This means that if you use a mutable default argument and mutate it, you will and have mutated that object for all future calls to the function as well.\n",
    "\t* http://docs.python-guide.org/en/latest/writing/gotchas/\n",
    "\t* This means you cannot assign objects as default arguments"
   ]
  },
  {
   "cell_type": "code",
   "execution_count": null,
   "id": "2a96bd6a",
   "metadata": {},
   "outputs": [],
   "source": []
  },
  {
   "cell_type": "code",
   "execution_count": null,
   "id": "587cbb35",
   "metadata": {},
   "outputs": [],
   "source": []
  },
  {
   "cell_type": "markdown",
   "id": "cf543a2e",
   "metadata": {},
   "source": [
    "## Operations in general exclude missing data.\n",
    "\n",
    "https://pandas.pydata.org/pandas-docs/stable/user_guide/10min.html#stats"
   ]
  },
  {
   "cell_type": "code",
   "execution_count": null,
   "id": "2910bf90",
   "metadata": {},
   "outputs": [],
   "source": [
    "df = pd.DataFrame(np.random.randn(6, 4),\n",
    "                  columns=list(\"ABCD\"))\n",
    "df.iat[0, 0] = np.nan\n",
    "df"
   ]
  },
  {
   "cell_type": "code",
   "execution_count": null,
   "id": "471446c3",
   "metadata": {},
   "outputs": [],
   "source": [
    "df.mean()  # this works; R equivalent would have returned `NA`"
   ]
  },
  {
   "cell_type": "code",
   "execution_count": null,
   "id": "c6e1b92d",
   "metadata": {},
   "outputs": [],
   "source": [
    "df.mean(skipna=False)  # have to manually set skipna=False to get desired behavior"
   ]
  },
  {
   "cell_type": "markdown",
   "id": "9096e766",
   "metadata": {},
   "source": [
    "---"
   ]
  }
 ],
 "metadata": {
  "kernelspec": {
   "display_name": "Python 3",
   "language": "python",
   "name": "python3"
  },
  "language_info": {
   "codemirror_mode": {
    "name": "ipython",
    "version": 3
   },
   "file_extension": ".py",
   "mimetype": "text/x-python",
   "name": "python",
   "nbconvert_exporter": "python",
   "pygments_lexer": "ipython3",
   "version": "3.9.5"
  },
  "toc": {
   "base_numbering": 1,
   "nav_menu": {},
   "number_sections": false,
   "sideBar": true,
   "skip_h1_title": false,
   "title_cell": "Table of Contents",
   "title_sidebar": "Contents",
   "toc_cell": false,
   "toc_position": {
    "height": "calc(100% - 180px)",
    "left": "10px",
    "top": "150px",
    "width": "249px"
   },
   "toc_section_display": true,
   "toc_window_display": true
  }
 },
 "nbformat": 4,
 "nbformat_minor": 5
}
