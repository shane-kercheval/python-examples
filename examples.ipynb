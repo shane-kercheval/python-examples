{
 "cells": [
  {
   "cell_type": "code",
   "execution_count": 9,
   "id": "17b729cf",
   "metadata": {},
   "outputs": [
    {
     "name": "stdout",
     "output_type": "stream",
     "text": [
      "Python 3.9.5\r\n"
     ]
    }
   ],
   "source": [
    "!python --version"
   ]
  },
  {
   "cell_type": "code",
   "execution_count": 2,
   "id": "3b601992",
   "metadata": {},
   "outputs": [
    {
     "name": "stdout",
     "output_type": "stream",
     "text": [
      "Requirement already satisfied: helpsk in /Users/shanekercheval/opt/anaconda3/envs/python-examples/lib/python3.9/site-packages (0.0.6)\r\n"
     ]
    }
   ],
   "source": [
    "!pip install helpsk --upgrade"
   ]
  },
  {
   "cell_type": "code",
   "execution_count": 3,
   "id": "b186beaf",
   "metadata": {},
   "outputs": [],
   "source": [
    "import pandas as pd\n",
    "from helpsk import string"
   ]
  },
  {
   "cell_type": "code",
   "execution_count": 6,
   "id": "380c86ce",
   "metadata": {},
   "outputs": [
    {
     "data": {
      "text/plain": [
       "'abc'"
      ]
     },
     "execution_count": 6,
     "metadata": {},
     "output_type": "execute_result"
    }
   ],
   "source": [
    "string.collapse('a', 'b', 'c')"
   ]
  },
  {
   "cell_type": "code",
   "execution_count": 8,
   "id": "23f4ae6b",
   "metadata": {},
   "outputs": [
    {
     "data": {
      "text/plain": [
       "\"'a','b','c'\""
      ]
     },
     "execution_count": 8,
     "metadata": {},
     "output_type": "execute_result"
    }
   ],
   "source": [
    "string.collapse('a', 'b', 'c', surround=\"'\", separate=\",\")"
   ]
  },
  {
   "cell_type": "code",
   "execution_count": 3,
   "id": "28d6614c",
   "metadata": {},
   "outputs": [],
   "source": [
    "from helpsk import validation as vld\n",
    "vld.assert_true(True)\n",
    "vld.assert_false(False)"
   ]
  },
  {
   "cell_type": "code",
   "execution_count": 4,
   "id": "ba84bf8b",
   "metadata": {},
   "outputs": [
    {
     "name": "stdout",
     "output_type": "stream",
     "text": [
      "getter of my_variable called\n"
     ]
    },
    {
     "data": {
      "text/plain": [
       "0"
      ]
     },
     "execution_count": 4,
     "metadata": {},
     "output_type": "execute_result"
    }
   ],
   "source": [
    "from helpsk import ExampleClass\n",
    "example = ExampleClass()\n",
    "example.my_variable"
   ]
  },
  {
   "cell_type": "code",
   "execution_count": null,
   "id": "30c076e1",
   "metadata": {},
   "outputs": [],
   "source": []
  },
  {
   "cell_type": "markdown",
   "id": "9983ff5a",
   "metadata": {},
   "source": [
    "# `is` vs `==`"
   ]
  },
  {
   "cell_type": "markdown",
   "id": "15ecc270",
   "metadata": {},
   "source": [
    "`==` is an equality test. It checks whether the right hand side and the left hand side are equal objects (according to their __eq__ or __cmp__ methods.)"
   ]
  },
  {
   "cell_type": "markdown",
   "id": "0e06157a",
   "metadata": {},
   "source": [
    "is is an identity test. It checks whether the right hand side and the left hand side are the very same object. No methodcalls are done, objects can't influence the is operation."
   ]
  },
  {
   "cell_type": "markdown",
   "id": "78d95485",
   "metadata": {},
   "source": [
    "You use `is` (and `is not`) for `singletons`, like `None`, where you don't care about objects that might want to pretend to be None or where you want to protect against objects breaking when being compared against None."
   ]
  },
  {
   "cell_type": "markdown",
   "id": "f89bae83",
   "metadata": {},
   "source": [
    "# List & DataFrame Equality"
   ]
  },
  {
   "cell_type": "code",
   "execution_count": 4,
   "id": "8afb5bf8",
   "metadata": {},
   "outputs": [
    {
     "data": {
      "text/plain": [
       "True"
      ]
     },
     "execution_count": 4,
     "metadata": {},
     "output_type": "execute_result"
    }
   ],
   "source": [
    "[1, 2, 3] == [1, 2, 3]"
   ]
  },
  {
   "cell_type": "code",
   "execution_count": 5,
   "id": "69105061",
   "metadata": {},
   "outputs": [
    {
     "data": {
      "text/plain": [
       "False"
      ]
     },
     "execution_count": 5,
     "metadata": {},
     "output_type": "execute_result"
    }
   ],
   "source": [
    "[1, 2, 3] == [1, 2, 3.00001]"
   ]
  },
  {
   "cell_type": "code",
   "execution_count": 6,
   "id": "cd146627",
   "metadata": {},
   "outputs": [
    {
     "data": {
      "text/plain": [
       "True"
      ]
     },
     "execution_count": 6,
     "metadata": {},
     "output_type": "execute_result"
    }
   ],
   "source": [
    "['a', 'b', 'c'] == ['a', 'b', 'c']"
   ]
  },
  {
   "cell_type": "code",
   "execution_count": 7,
   "id": "761c8c0b",
   "metadata": {},
   "outputs": [
    {
     "data": {
      "text/plain": [
       "True"
      ]
     },
     "execution_count": 7,
     "metadata": {},
     "output_type": "execute_result"
    }
   ],
   "source": [
    "['a', 'b', None] == ['a', 'b', None]"
   ]
  },
  {
   "cell_type": "code",
   "execution_count": 8,
   "id": "e14efbcd",
   "metadata": {},
   "outputs": [
    {
     "data": {
      "text/plain": [
       "False"
      ]
     },
     "execution_count": 8,
     "metadata": {},
     "output_type": "execute_result"
    }
   ],
   "source": [
    "['a', 'b', 'c'] == ['a', 'b', None]"
   ]
  },
  {
   "cell_type": "code",
   "execution_count": 10,
   "id": "aef36e72",
   "metadata": {},
   "outputs": [
    {
     "data": {
      "text/plain": [
       "True"
      ]
     },
     "execution_count": 10,
     "metadata": {},
     "output_type": "execute_result"
    }
   ],
   "source": [
    "pd.DataFrame([[1, 2], [2, 3]]).equals(pd.DataFrame([[1, 2], [2, 3]]))"
   ]
  },
  {
   "cell_type": "code",
   "execution_count": 12,
   "id": "0d8a3238",
   "metadata": {},
   "outputs": [
    {
     "data": {
      "text/plain": [
       "False"
      ]
     },
     "execution_count": 12,
     "metadata": {},
     "output_type": "execute_result"
    }
   ],
   "source": [
    "pd.DataFrame([[1, 2], [2, 3]]).equals(pd.DataFrame([[1, 2], [2, 3.001]]))"
   ]
  },
  {
   "cell_type": "code",
   "execution_count": 13,
   "id": "02d49f1f",
   "metadata": {},
   "outputs": [
    {
     "data": {
      "text/plain": [
       "True"
      ]
     },
     "execution_count": 13,
     "metadata": {},
     "output_type": "execute_result"
    }
   ],
   "source": [
    "pd.DataFrame([[1, None], [2, 3.001]]).equals(pd.DataFrame([[1, None], [2, 3.001]]))"
   ]
  },
  {
   "cell_type": "markdown",
   "id": "38a93465",
   "metadata": {},
   "source": [
    "# Checking for Empty Containers"
   ]
  },
  {
   "cell_type": "code",
   "execution_count": 9,
   "id": "5aadbb76",
   "metadata": {},
   "outputs": [
    {
     "data": {
      "text/plain": [
       "True"
      ]
     },
     "execution_count": 9,
     "metadata": {},
     "output_type": "execute_result"
    }
   ],
   "source": [
    "a = []\n",
    "\n",
    "len(a) == 0  # not Pythonic"
   ]
  },
  {
   "cell_type": "code",
   "execution_count": 10,
   "id": "248a5061",
   "metadata": {},
   "outputs": [
    {
     "data": {
      "text/plain": [
       "True"
      ]
     },
     "execution_count": 10,
     "metadata": {},
     "output_type": "execute_result"
    }
   ],
   "source": [
    "not a  # Pythonic"
   ]
  },
  {
   "cell_type": "code",
   "execution_count": 11,
   "id": "0d7bd228",
   "metadata": {},
   "outputs": [
    {
     "name": "stdout",
     "output_type": "stream",
     "text": [
      "Not Pythonic\n",
      "Pythonic\n"
     ]
    }
   ],
   "source": [
    "if len(a) == 0:\n",
    "    print('Not Pythonic')\n",
    "\n",
    "if not a:\n",
    "    print('Pythonic')\n"
   ]
  },
  {
   "cell_type": "code",
   "execution_count": 12,
   "id": "7831583a",
   "metadata": {},
   "outputs": [
    {
     "name": "stdout",
     "output_type": "stream",
     "text": [
      "Not Pythonic\n",
      "Pythonic\n"
     ]
    }
   ],
   "source": [
    "a = ['a']\n",
    "\n",
    "if len(a) != 0:\n",
    "    print('Not Pythonic')\n",
    "\n",
    "if a:\n",
    "    print('Pythonic')"
   ]
  },
  {
   "cell_type": "markdown",
   "id": "9b7a499d",
   "metadata": {},
   "source": [
    "# Multi-lines"
   ]
  },
  {
   "cell_type": "code",
   "execution_count": 13,
   "id": "ce6e7aa4",
   "metadata": {},
   "outputs": [
    {
     "name": "stdout",
     "output_type": "stream",
     "text": [
      "3\n",
      "3\n"
     ]
    }
   ],
   "source": [
    "# not Pythonic\n",
    "a = 1 + \\\n",
    "    2\n",
    "print(a)\n",
    "\n",
    "a = (1 +  # Pythonic\n",
    "     2)\n",
    "print(a)"
   ]
  },
  {
   "cell_type": "markdown",
   "id": "ab8a8059",
   "metadata": {},
   "source": [
    "# Classes"
   ]
  },
  {
   "cell_type": "markdown",
   "id": "6e551fd7",
   "metadata": {},
   "source": [
    "## Private vs Protected"
   ]
  },
  {
   "cell_type": "code",
   "execution_count": 32,
   "id": "4b8eba20",
   "metadata": {},
   "outputs": [],
   "source": [
    "class Example:\n",
    "    def __init__(self):\n",
    "        self.__private_variable = 'private'\n",
    "        self._protected_variable = 'protected'\n",
    "    \n",
    "    def instance_method(self):\n",
    "        return 'instance method ' + self.__private_variable + self._protected_variable\n",
    "    \n",
    "    @staticmethod\n",
    "    def static_method(x):\n",
    "        return 'static method ' + x\n",
    "    \n",
    "    @classmethod\n",
    "    def class_method(cls, x):\n",
    "        return 'class method ' + x"
   ]
  },
  {
   "cell_type": "code",
   "execution_count": 33,
   "id": "54256299",
   "metadata": {},
   "outputs": [
    {
     "data": {
      "text/plain": [
       "'protected'"
      ]
     },
     "execution_count": 33,
     "metadata": {},
     "output_type": "execute_result"
    }
   ],
   "source": [
    "ex = Example()\n",
    "ex._protected_variable"
   ]
  },
  {
   "cell_type": "code",
   "execution_count": 34,
   "id": "d07f5a2d",
   "metadata": {},
   "outputs": [
    {
     "name": "stdout",
     "output_type": "stream",
     "text": [
      "'Example' object has no attribute '__private_variable'\n"
     ]
    }
   ],
   "source": [
    "try:\n",
    "  print(ex.__private_variable)\n",
    "except Exception as e:\n",
    "  print(e)"
   ]
  },
  {
   "cell_type": "code",
   "execution_count": 35,
   "id": "23078c86",
   "metadata": {},
   "outputs": [
    {
     "data": {
      "text/plain": [
       "'private'"
      ]
     },
     "execution_count": 35,
     "metadata": {},
     "output_type": "execute_result"
    }
   ],
   "source": [
    "ex._Example__private_variable"
   ]
  },
  {
   "cell_type": "code",
   "execution_count": 36,
   "id": "9726af9f",
   "metadata": {},
   "outputs": [
    {
     "data": {
      "text/plain": [
       "'instance method privateprotected'"
      ]
     },
     "execution_count": 36,
     "metadata": {},
     "output_type": "execute_result"
    }
   ],
   "source": [
    "ex.instance_method()"
   ]
  },
  {
   "cell_type": "code",
   "execution_count": 37,
   "id": "8fae01f6",
   "metadata": {},
   "outputs": [
    {
     "data": {
      "text/plain": [
       "'static method a'"
      ]
     },
     "execution_count": 37,
     "metadata": {},
     "output_type": "execute_result"
    }
   ],
   "source": [
    "ex.static_method('a')  # not sure how this is useful"
   ]
  },
  {
   "cell_type": "code",
   "execution_count": 38,
   "id": "45755d18",
   "metadata": {},
   "outputs": [
    {
     "data": {
      "text/plain": [
       "'class method a'"
      ]
     },
     "execution_count": 38,
     "metadata": {},
     "output_type": "execute_result"
    }
   ],
   "source": [
    "Example.class_method('a')  # no instance"
   ]
  },
  {
   "cell_type": "markdown",
   "id": "a6b66631",
   "metadata": {},
   "source": [
    "## Getters / Setters"
   ]
  },
  {
   "cell_type": "code",
   "execution_count": 4,
   "id": "58ea6ca7",
   "metadata": {},
   "outputs": [],
   "source": [
    "class ExampleClass:\n",
    "\n",
    "    def __init__(self, my_variable=0):\n",
    "        self._my_variable = my_variable\n",
    "\n",
    "    @property\n",
    "    def my_variable(self):\n",
    "        \"\"\"I'm the 'my_variable' property.\"\"\"\n",
    "        print(\"getter of my_variable called\")\n",
    "        return self._my_variable\n",
    "\n",
    "    @my_variable.setter\n",
    "    def my_variable(self, value):\n",
    "        print(\"setter of my_variable called\")\n",
    "        self._my_variable = value"
   ]
  },
  {
   "cell_type": "code",
   "execution_count": 5,
   "id": "068d2a06",
   "metadata": {},
   "outputs": [
    {
     "name": "stdout",
     "output_type": "stream",
     "text": [
      "getter of my_variable called\n"
     ]
    },
    {
     "data": {
      "text/plain": [
       "True"
      ]
     },
     "execution_count": 5,
     "metadata": {},
     "output_type": "execute_result"
    }
   ],
   "source": [
    "example = ExampleClass()\n",
    "example.my_variable == 0"
   ]
  },
  {
   "cell_type": "code",
   "execution_count": 6,
   "id": "64d3ee34",
   "metadata": {},
   "outputs": [
    {
     "name": "stdout",
     "output_type": "stream",
     "text": [
      "setter of my_variable called\n"
     ]
    }
   ],
   "source": [
    "example.my_variable = 0"
   ]
  },
  {
   "cell_type": "code",
   "execution_count": null,
   "id": "5b46f856",
   "metadata": {},
   "outputs": [],
   "source": []
  },
  {
   "cell_type": "markdown",
   "id": "5f574e79",
   "metadata": {},
   "source": [
    "# Default Arguments"
   ]
  },
  {
   "cell_type": "code",
   "execution_count": null,
   "id": "b014c162",
   "metadata": {},
   "outputs": [],
   "source": []
  },
  {
   "cell_type": "markdown",
   "id": "ef861058",
   "metadata": {},
   "source": [
    "Python’s default arguments are evaluated once when the function is defined, not each time the function is called (like it is in say, Ruby). This means that if you use a mutable default argument and mutate it, you will and have mutated that object for all future calls to the function as well.\n",
    "\t* http://docs.python-guide.org/en/latest/writing/gotchas/\n",
    "\t* This means you cannot assign objects as default arguments"
   ]
  },
  {
   "cell_type": "code",
   "execution_count": null,
   "id": "ddd6fc35",
   "metadata": {},
   "outputs": [],
   "source": []
  },
  {
   "cell_type": "code",
   "execution_count": null,
   "id": "3396f1ca",
   "metadata": {},
   "outputs": [],
   "source": []
  },
  {
   "cell_type": "markdown",
   "id": "64ed102e",
   "metadata": {},
   "source": [
    "# Misc"
   ]
  },
  {
   "cell_type": "code",
   "execution_count": null,
   "id": "adc65fe9",
   "metadata": {},
   "outputs": [],
   "source": []
  },
  {
   "cell_type": "markdown",
   "id": "0b98f232",
   "metadata": {},
   "source": [
    "# Pandas"
   ]
  },
  {
   "cell_type": "code",
   "execution_count": 175,
   "id": "2a669ade",
   "metadata": {},
   "outputs": [],
   "source": [
    "import numpy as np\n",
    "import pandas as pd\n",
    "\n",
    "dates = pd.date_range(\"20210809\", periods=6)\n",
    "df = pd.DataFrame(np.random.randn(6, 4),\n",
    "                  index=dates,\n",
    "                  columns=list(\"ABCD\"))"
   ]
  },
  {
   "cell_type": "code",
   "execution_count": 176,
   "id": "3a0a3be9",
   "metadata": {},
   "outputs": [
    {
     "data": {
      "text/plain": [
       "DatetimeIndex(['2021-08-09', '2021-08-10', '2021-08-11', '2021-08-12',\n",
       "               '2021-08-13', '2021-08-14'],\n",
       "              dtype='datetime64[ns]', freq='D')"
      ]
     },
     "execution_count": 176,
     "metadata": {},
     "output_type": "execute_result"
    }
   ],
   "source": [
    "dates"
   ]
  },
  {
   "cell_type": "code",
   "execution_count": 177,
   "id": "7dea9648",
   "metadata": {},
   "outputs": [
    {
     "data": {
      "text/html": [
       "<div>\n",
       "<style scoped>\n",
       "    .dataframe tbody tr th:only-of-type {\n",
       "        vertical-align: middle;\n",
       "    }\n",
       "\n",
       "    .dataframe tbody tr th {\n",
       "        vertical-align: top;\n",
       "    }\n",
       "\n",
       "    .dataframe thead th {\n",
       "        text-align: right;\n",
       "    }\n",
       "</style>\n",
       "<table border=\"1\" class=\"dataframe\">\n",
       "  <thead>\n",
       "    <tr style=\"text-align: right;\">\n",
       "      <th></th>\n",
       "      <th>A</th>\n",
       "      <th>B</th>\n",
       "      <th>C</th>\n",
       "      <th>D</th>\n",
       "    </tr>\n",
       "  </thead>\n",
       "  <tbody>\n",
       "    <tr>\n",
       "      <th>2021-08-09</th>\n",
       "      <td>-0.186162</td>\n",
       "      <td>0.001660</td>\n",
       "      <td>0.013101</td>\n",
       "      <td>-0.659372</td>\n",
       "    </tr>\n",
       "    <tr>\n",
       "      <th>2021-08-10</th>\n",
       "      <td>-1.105882</td>\n",
       "      <td>1.207941</td>\n",
       "      <td>2.526600</td>\n",
       "      <td>-0.698492</td>\n",
       "    </tr>\n",
       "    <tr>\n",
       "      <th>2021-08-11</th>\n",
       "      <td>-0.680871</td>\n",
       "      <td>-1.449300</td>\n",
       "      <td>0.028325</td>\n",
       "      <td>-0.940038</td>\n",
       "    </tr>\n",
       "    <tr>\n",
       "      <th>2021-08-12</th>\n",
       "      <td>-1.224810</td>\n",
       "      <td>-0.038875</td>\n",
       "      <td>-1.025572</td>\n",
       "      <td>-0.601159</td>\n",
       "    </tr>\n",
       "    <tr>\n",
       "      <th>2021-08-13</th>\n",
       "      <td>-0.141608</td>\n",
       "      <td>1.302390</td>\n",
       "      <td>-0.210668</td>\n",
       "      <td>1.443507</td>\n",
       "    </tr>\n",
       "    <tr>\n",
       "      <th>2021-08-14</th>\n",
       "      <td>0.493285</td>\n",
       "      <td>-0.374523</td>\n",
       "      <td>1.348035</td>\n",
       "      <td>1.654523</td>\n",
       "    </tr>\n",
       "  </tbody>\n",
       "</table>\n",
       "</div>"
      ],
      "text/plain": [
       "                   A         B         C         D\n",
       "2021-08-09 -0.186162  0.001660  0.013101 -0.659372\n",
       "2021-08-10 -1.105882  1.207941  2.526600 -0.698492\n",
       "2021-08-11 -0.680871 -1.449300  0.028325 -0.940038\n",
       "2021-08-12 -1.224810 -0.038875 -1.025572 -0.601159\n",
       "2021-08-13 -0.141608  1.302390 -0.210668  1.443507\n",
       "2021-08-14  0.493285 -0.374523  1.348035  1.654523"
      ]
     },
     "execution_count": 177,
     "metadata": {},
     "output_type": "execute_result"
    }
   ],
   "source": [
    "df"
   ]
  },
  {
   "cell_type": "markdown",
   "id": "0b81fd6f",
   "metadata": {},
   "source": [
    "## Copy by Reference"
   ]
  },
  {
   "cell_type": "code",
   "execution_count": 179,
   "id": "f04ce3ea",
   "metadata": {},
   "outputs": [],
   "source": [
    "df_2 = df"
   ]
  },
  {
   "cell_type": "code",
   "execution_count": 180,
   "id": "e31dbeb1",
   "metadata": {},
   "outputs": [],
   "source": [
    "df.iat[0, 0] = np.nan"
   ]
  },
  {
   "cell_type": "code",
   "execution_count": 181,
   "id": "e4b5c08c",
   "metadata": {},
   "outputs": [
    {
     "data": {
      "text/plain": [
       "A         NaN\n",
       "B    0.001660\n",
       "C    0.013101\n",
       "D   -0.659372\n",
       "Name: 2021-08-09 00:00:00, dtype: float64"
      ]
     },
     "execution_count": 181,
     "metadata": {},
     "output_type": "execute_result"
    }
   ],
   "source": [
    "df.iloc[0, :]"
   ]
  },
  {
   "cell_type": "code",
   "execution_count": 182,
   "id": "9f0850ec",
   "metadata": {},
   "outputs": [
    {
     "data": {
      "text/plain": [
       "A         NaN\n",
       "B    0.001660\n",
       "C    0.013101\n",
       "D   -0.659372\n",
       "Name: 2021-08-09 00:00:00, dtype: float64"
      ]
     },
     "execution_count": 182,
     "metadata": {},
     "output_type": "execute_result"
    }
   ],
   "source": [
    "df_2.iloc[0, :]"
   ]
  },
  {
   "cell_type": "markdown",
   "id": "69495cd4",
   "metadata": {},
   "source": [
    "### Use `.copy()` for deep copy"
   ]
  },
  {
   "cell_type": "code",
   "execution_count": 196,
   "id": "e74f70aa",
   "metadata": {},
   "outputs": [],
   "source": [
    "df_2 = df.copy()"
   ]
  },
  {
   "cell_type": "code",
   "execution_count": 197,
   "id": "dc647149",
   "metadata": {},
   "outputs": [],
   "source": [
    "df.iat[0, 1] = np.nan"
   ]
  },
  {
   "cell_type": "code",
   "execution_count": 198,
   "id": "5d7f22d4",
   "metadata": {},
   "outputs": [
    {
     "data": {
      "text/plain": [
       "A         NaN\n",
       "B         NaN\n",
       "C    0.013101\n",
       "D   -0.659372\n",
       "Name: 2021-08-09 00:00:00, dtype: float64"
      ]
     },
     "execution_count": 198,
     "metadata": {},
     "output_type": "execute_result"
    }
   ],
   "source": [
    "df.iloc[0, :]"
   ]
  },
  {
   "cell_type": "code",
   "execution_count": 199,
   "id": "86096416",
   "metadata": {},
   "outputs": [
    {
     "data": {
      "text/plain": [
       "A         NaN\n",
       "B    0.001660\n",
       "C    0.013101\n",
       "D   -0.659372\n",
       "Name: 2021-08-09 00:00:00, dtype: float64"
      ]
     },
     "execution_count": 199,
     "metadata": {},
     "output_type": "execute_result"
    }
   ],
   "source": [
    "df_2.iloc[0, :]"
   ]
  },
  {
   "cell_type": "markdown",
   "id": "6612af2a",
   "metadata": {},
   "source": [
    "## Selection"
   ]
  },
  {
   "cell_type": "code",
   "execution_count": 183,
   "id": "dd2ca2ce",
   "metadata": {},
   "outputs": [
    {
     "data": {
      "text/plain": [
       "2021-08-09         NaN\n",
       "2021-08-10   -1.105882\n",
       "2021-08-11   -0.680871\n",
       "2021-08-12   -1.224810\n",
       "2021-08-13   -0.141608\n",
       "2021-08-14    0.493285\n",
       "Freq: D, Name: A, dtype: float64"
      ]
     },
     "execution_count": 183,
     "metadata": {},
     "output_type": "execute_result"
    }
   ],
   "source": [
    "df.A"
   ]
  },
  {
   "cell_type": "code",
   "execution_count": 184,
   "id": "106b74f0",
   "metadata": {},
   "outputs": [
    {
     "data": {
      "text/plain": [
       "2021-08-09         NaN\n",
       "2021-08-10   -1.105882\n",
       "2021-08-11   -0.680871\n",
       "2021-08-12   -1.224810\n",
       "2021-08-13   -0.141608\n",
       "2021-08-14    0.493285\n",
       "Freq: D, Name: A, dtype: float64"
      ]
     },
     "execution_count": 184,
     "metadata": {},
     "output_type": "execute_result"
    }
   ],
   "source": [
    "df['A']  # all rows of single column"
   ]
  },
  {
   "cell_type": "code",
   "execution_count": 185,
   "id": "2ca89a6d",
   "metadata": {},
   "outputs": [
    {
     "data": {
      "text/html": [
       "<div>\n",
       "<style scoped>\n",
       "    .dataframe tbody tr th:only-of-type {\n",
       "        vertical-align: middle;\n",
       "    }\n",
       "\n",
       "    .dataframe tbody tr th {\n",
       "        vertical-align: top;\n",
       "    }\n",
       "\n",
       "    .dataframe thead th {\n",
       "        text-align: right;\n",
       "    }\n",
       "</style>\n",
       "<table border=\"1\" class=\"dataframe\">\n",
       "  <thead>\n",
       "    <tr style=\"text-align: right;\">\n",
       "      <th></th>\n",
       "      <th>A</th>\n",
       "      <th>B</th>\n",
       "      <th>C</th>\n",
       "      <th>D</th>\n",
       "    </tr>\n",
       "  </thead>\n",
       "  <tbody>\n",
       "    <tr>\n",
       "      <th>2021-08-09</th>\n",
       "      <td>NaN</td>\n",
       "      <td>0.00166</td>\n",
       "      <td>0.013101</td>\n",
       "      <td>-0.659372</td>\n",
       "    </tr>\n",
       "  </tbody>\n",
       "</table>\n",
       "</div>"
      ],
      "text/plain": [
       "             A        B         C         D\n",
       "2021-08-09 NaN  0.00166  0.013101 -0.659372"
      ]
     },
     "execution_count": 185,
     "metadata": {},
     "output_type": "execute_result"
    }
   ],
   "source": [
    "df[0:1]  # slices rows; excludes last index"
   ]
  },
  {
   "cell_type": "code",
   "execution_count": 186,
   "id": "8cc31da4",
   "metadata": {},
   "outputs": [
    {
     "data": {
      "text/html": [
       "<div>\n",
       "<style scoped>\n",
       "    .dataframe tbody tr th:only-of-type {\n",
       "        vertical-align: middle;\n",
       "    }\n",
       "\n",
       "    .dataframe tbody tr th {\n",
       "        vertical-align: top;\n",
       "    }\n",
       "\n",
       "    .dataframe thead th {\n",
       "        text-align: right;\n",
       "    }\n",
       "</style>\n",
       "<table border=\"1\" class=\"dataframe\">\n",
       "  <thead>\n",
       "    <tr style=\"text-align: right;\">\n",
       "      <th></th>\n",
       "      <th>A</th>\n",
       "    </tr>\n",
       "  </thead>\n",
       "  <tbody>\n",
       "    <tr>\n",
       "      <th>2021-08-09</th>\n",
       "      <td>NaN</td>\n",
       "    </tr>\n",
       "    <tr>\n",
       "      <th>2021-08-10</th>\n",
       "      <td>-1.105882</td>\n",
       "    </tr>\n",
       "    <tr>\n",
       "      <th>2021-08-11</th>\n",
       "      <td>-0.680871</td>\n",
       "    </tr>\n",
       "    <tr>\n",
       "      <th>2021-08-12</th>\n",
       "      <td>-1.224810</td>\n",
       "    </tr>\n",
       "    <tr>\n",
       "      <th>2021-08-13</th>\n",
       "      <td>-0.141608</td>\n",
       "    </tr>\n",
       "    <tr>\n",
       "      <th>2021-08-14</th>\n",
       "      <td>0.493285</td>\n",
       "    </tr>\n",
       "  </tbody>\n",
       "</table>\n",
       "</div>"
      ],
      "text/plain": [
       "                   A\n",
       "2021-08-09       NaN\n",
       "2021-08-10 -1.105882\n",
       "2021-08-11 -0.680871\n",
       "2021-08-12 -1.224810\n",
       "2021-08-13 -0.141608\n",
       "2021-08-14  0.493285"
      ]
     },
     "execution_count": 186,
     "metadata": {},
     "output_type": "execute_result"
    }
   ],
   "source": [
    "df[['A']]"
   ]
  },
  {
   "cell_type": "markdown",
   "id": "94a508a5",
   "metadata": {},
   "source": [
    "If passing a single value to `.loc`, a Series is returned; if passing a list to `.loc` a DataFrame is returned"
   ]
  },
  {
   "cell_type": "code",
   "execution_count": 187,
   "id": "f33d0693",
   "metadata": {},
   "outputs": [
    {
     "data": {
      "text/plain": [
       "A         NaN\n",
       "B    0.001660\n",
       "C    0.013101\n",
       "D   -0.659372\n",
       "Name: 2021-08-09 00:00:00, dtype: float64"
      ]
     },
     "execution_count": 187,
     "metadata": {},
     "output_type": "execute_result"
    }
   ],
   "source": [
    "df.loc[pd.to_datetime('2021-08-09')]"
   ]
  },
  {
   "cell_type": "code",
   "execution_count": 188,
   "id": "b2fd0d10",
   "metadata": {},
   "outputs": [
    {
     "data": {
      "text/html": [
       "<div>\n",
       "<style scoped>\n",
       "    .dataframe tbody tr th:only-of-type {\n",
       "        vertical-align: middle;\n",
       "    }\n",
       "\n",
       "    .dataframe tbody tr th {\n",
       "        vertical-align: top;\n",
       "    }\n",
       "\n",
       "    .dataframe thead th {\n",
       "        text-align: right;\n",
       "    }\n",
       "</style>\n",
       "<table border=\"1\" class=\"dataframe\">\n",
       "  <thead>\n",
       "    <tr style=\"text-align: right;\">\n",
       "      <th></th>\n",
       "      <th>A</th>\n",
       "      <th>B</th>\n",
       "      <th>C</th>\n",
       "      <th>D</th>\n",
       "    </tr>\n",
       "  </thead>\n",
       "  <tbody>\n",
       "    <tr>\n",
       "      <th>2021-08-09</th>\n",
       "      <td>NaN</td>\n",
       "      <td>0.00166</td>\n",
       "      <td>0.013101</td>\n",
       "      <td>-0.659372</td>\n",
       "    </tr>\n",
       "  </tbody>\n",
       "</table>\n",
       "</div>"
      ],
      "text/plain": [
       "             A        B         C         D\n",
       "2021-08-09 NaN  0.00166  0.013101 -0.659372"
      ]
     },
     "execution_count": 188,
     "metadata": {},
     "output_type": "execute_result"
    }
   ],
   "source": [
    "df.loc[[pd.to_datetime('2021-08-09')]]"
   ]
  },
  {
   "cell_type": "code",
   "execution_count": 189,
   "id": "6effd972",
   "metadata": {},
   "outputs": [
    {
     "data": {
      "text/html": [
       "<div>\n",
       "<style scoped>\n",
       "    .dataframe tbody tr th:only-of-type {\n",
       "        vertical-align: middle;\n",
       "    }\n",
       "\n",
       "    .dataframe tbody tr th {\n",
       "        vertical-align: top;\n",
       "    }\n",
       "\n",
       "    .dataframe thead th {\n",
       "        text-align: right;\n",
       "    }\n",
       "</style>\n",
       "<table border=\"1\" class=\"dataframe\">\n",
       "  <thead>\n",
       "    <tr style=\"text-align: right;\">\n",
       "      <th></th>\n",
       "      <th>A</th>\n",
       "      <th>B</th>\n",
       "      <th>C</th>\n",
       "      <th>D</th>\n",
       "    </tr>\n",
       "  </thead>\n",
       "  <tbody>\n",
       "    <tr>\n",
       "      <th>2021-08-09</th>\n",
       "      <td>NaN</td>\n",
       "      <td>0.001660</td>\n",
       "      <td>0.013101</td>\n",
       "      <td>-0.659372</td>\n",
       "    </tr>\n",
       "    <tr>\n",
       "      <th>2021-08-10</th>\n",
       "      <td>-1.105882</td>\n",
       "      <td>1.207941</td>\n",
       "      <td>2.526600</td>\n",
       "      <td>-0.698492</td>\n",
       "    </tr>\n",
       "  </tbody>\n",
       "</table>\n",
       "</div>"
      ],
      "text/plain": [
       "                   A         B         C         D\n",
       "2021-08-09       NaN  0.001660  0.013101 -0.659372\n",
       "2021-08-10 -1.105882  1.207941  2.526600 -0.698492"
      ]
     },
     "execution_count": 189,
     "metadata": {},
     "output_type": "execute_result"
    }
   ],
   "source": [
    "df.loc[[pd.to_datetime('2021-08-09'), pd.to_datetime('2021-08-10')]]"
   ]
  },
  {
   "cell_type": "code",
   "execution_count": null,
   "id": "54270995",
   "metadata": {},
   "outputs": [],
   "source": []
  },
  {
   "cell_type": "code",
   "execution_count": null,
   "id": "09c6f248",
   "metadata": {},
   "outputs": [],
   "source": []
  },
  {
   "cell_type": "code",
   "execution_count": null,
   "id": "5266103e",
   "metadata": {},
   "outputs": [],
   "source": []
  },
  {
   "cell_type": "code",
   "execution_count": null,
   "id": "10c8eb4e",
   "metadata": {},
   "outputs": [],
   "source": []
  },
  {
   "cell_type": "markdown",
   "id": "32c7f155",
   "metadata": {},
   "source": [
    "### `at` vs `loc`"
   ]
  },
  {
   "cell_type": "markdown",
   "id": "a08ef27e",
   "metadata": {},
   "source": [
    "- `df.at` is faster\n",
    "- `df.at` can only access a single value at a time.\n",
    "- `df.loc` can select multiple rows and/or columns.\n",
    "\n",
    "\n",
    "https://stackoverflow.com/questions/37216485/pandas-at-versus-loc"
   ]
  },
  {
   "cell_type": "code",
   "execution_count": null,
   "id": "493ab1ce",
   "metadata": {},
   "outputs": [],
   "source": []
  },
  {
   "cell_type": "code",
   "execution_count": null,
   "id": "c8ce7e50",
   "metadata": {},
   "outputs": [],
   "source": []
  },
  {
   "cell_type": "code",
   "execution_count": 190,
   "id": "3a32e5ce",
   "metadata": {},
   "outputs": [],
   "source": [
    "import pandas as pd\n",
    "data = pd.DataFrame({\n",
    "    'col1':['a','a','a','a','a','b','b','b','b','b'],\n",
    "    'col2':[1,2,3,4,5,6,7,8,9,0],\n",
    "    'col3':[-1,-2,-3,-4,-5,-6,-7,-8,-9,0]\n",
    "})"
   ]
  },
  {
   "cell_type": "code",
   "execution_count": 191,
   "id": "9d1911d6",
   "metadata": {},
   "outputs": [
    {
     "data": {
      "text/html": [
       "<div>\n",
       "<style scoped>\n",
       "    .dataframe tbody tr th:only-of-type {\n",
       "        vertical-align: middle;\n",
       "    }\n",
       "\n",
       "    .dataframe tbody tr th {\n",
       "        vertical-align: top;\n",
       "    }\n",
       "\n",
       "    .dataframe thead th {\n",
       "        text-align: right;\n",
       "    }\n",
       "</style>\n",
       "<table border=\"1\" class=\"dataframe\">\n",
       "  <thead>\n",
       "    <tr style=\"text-align: right;\">\n",
       "      <th></th>\n",
       "      <th>col2</th>\n",
       "      <th>col3</th>\n",
       "    </tr>\n",
       "    <tr>\n",
       "      <th>col1</th>\n",
       "      <th></th>\n",
       "      <th></th>\n",
       "    </tr>\n",
       "  </thead>\n",
       "  <tbody>\n",
       "    <tr>\n",
       "      <th>a</th>\n",
       "      <td>5</td>\n",
       "      <td>-5</td>\n",
       "    </tr>\n",
       "    <tr>\n",
       "      <th>b</th>\n",
       "      <td>9</td>\n",
       "      <td>-9</td>\n",
       "    </tr>\n",
       "  </tbody>\n",
       "</table>\n",
       "</div>"
      ],
      "text/plain": [
       "      col2  col3\n",
       "col1            \n",
       "a        5    -5\n",
       "b        9    -9"
      ]
     },
     "execution_count": 191,
     "metadata": {},
     "output_type": "execute_result"
    }
   ],
   "source": [
    "data.groupby('col1').agg({'col2': 'max', 'col3': 'min'})"
   ]
  },
  {
   "cell_type": "markdown",
   "id": "e88af22e",
   "metadata": {},
   "source": [
    "\n",
    "https://stackoverflow.com/questions/10951341/pandas-dataframe-aggregate-function-using-multiple-columns"
   ]
  },
  {
   "cell_type": "code",
   "execution_count": 192,
   "id": "26f8f5c2",
   "metadata": {},
   "outputs": [
    {
     "data": {
      "text/html": [
       "<div>\n",
       "<style scoped>\n",
       "    .dataframe tbody tr th:only-of-type {\n",
       "        vertical-align: middle;\n",
       "    }\n",
       "\n",
       "    .dataframe tbody tr th {\n",
       "        vertical-align: top;\n",
       "    }\n",
       "\n",
       "    .dataframe thead th {\n",
       "        text-align: right;\n",
       "    }\n",
       "</style>\n",
       "<table border=\"1\" class=\"dataframe\">\n",
       "  <thead>\n",
       "    <tr style=\"text-align: right;\">\n",
       "      <th></th>\n",
       "      <th>col1</th>\n",
       "      <th>col2</th>\n",
       "      <th>col3</th>\n",
       "    </tr>\n",
       "  </thead>\n",
       "  <tbody>\n",
       "    <tr>\n",
       "      <th>0</th>\n",
       "      <td>a</td>\n",
       "      <td>1</td>\n",
       "      <td>-1</td>\n",
       "    </tr>\n",
       "    <tr>\n",
       "      <th>1</th>\n",
       "      <td>a</td>\n",
       "      <td>2</td>\n",
       "      <td>-2</td>\n",
       "    </tr>\n",
       "    <tr>\n",
       "      <th>2</th>\n",
       "      <td>a</td>\n",
       "      <td>3</td>\n",
       "      <td>-3</td>\n",
       "    </tr>\n",
       "    <tr>\n",
       "      <th>3</th>\n",
       "      <td>a</td>\n",
       "      <td>4</td>\n",
       "      <td>-4</td>\n",
       "    </tr>\n",
       "    <tr>\n",
       "      <th>4</th>\n",
       "      <td>a</td>\n",
       "      <td>5</td>\n",
       "      <td>-5</td>\n",
       "    </tr>\n",
       "    <tr>\n",
       "      <th>5</th>\n",
       "      <td>b</td>\n",
       "      <td>6</td>\n",
       "      <td>-6</td>\n",
       "    </tr>\n",
       "    <tr>\n",
       "      <th>6</th>\n",
       "      <td>b</td>\n",
       "      <td>7</td>\n",
       "      <td>-7</td>\n",
       "    </tr>\n",
       "    <tr>\n",
       "      <th>7</th>\n",
       "      <td>b</td>\n",
       "      <td>8</td>\n",
       "      <td>-8</td>\n",
       "    </tr>\n",
       "    <tr>\n",
       "      <th>8</th>\n",
       "      <td>b</td>\n",
       "      <td>9</td>\n",
       "      <td>-9</td>\n",
       "    </tr>\n",
       "    <tr>\n",
       "      <th>9</th>\n",
       "      <td>b</td>\n",
       "      <td>0</td>\n",
       "      <td>0</td>\n",
       "    </tr>\n",
       "  </tbody>\n",
       "</table>\n",
       "</div>"
      ],
      "text/plain": [
       "  col1  col2  col3\n",
       "0    a     1    -1\n",
       "1    a     2    -2\n",
       "2    a     3    -3\n",
       "3    a     4    -4\n",
       "4    a     5    -5\n",
       "5    b     6    -6\n",
       "6    b     7    -7\n",
       "7    b     8    -8\n",
       "8    b     9    -9\n",
       "9    b     0     0"
      ]
     },
     "execution_count": 192,
     "metadata": {},
     "output_type": "execute_result"
    }
   ],
   "source": [
    "data"
   ]
  },
  {
   "cell_type": "markdown",
   "id": "1f75903c",
   "metadata": {},
   "source": [
    "```\n",
    "data %>%\n",
    "    group_by(col1) %>%\n",
    "    summarise(result_a = sum(col2 * col3),\n",
    "              result_b = sum(col2) * sum(col3))\n",
    "```"
   ]
  },
  {
   "cell_type": "code",
   "execution_count": 193,
   "id": "0637ec5f",
   "metadata": {},
   "outputs": [],
   "source": [
    "grouped = data.groupby('col1')"
   ]
  },
  {
   "cell_type": "code",
   "execution_count": 194,
   "id": "efbdefdb",
   "metadata": {},
   "outputs": [
    {
     "data": {
      "text/plain": [
       "col1\n",
       "a    -55\n",
       "b   -230\n",
       "dtype: int64"
      ]
     },
     "execution_count": 194,
     "metadata": {},
     "output_type": "execute_result"
    }
   ],
   "source": [
    "grouped = data.groupby('col1')\n",
    "\n",
    "def my_function(group):\n",
    "    col2 = group['col2']\n",
    "    col3 = group['col3']\n",
    "    return (col2 * col3).sum()\n",
    "\n",
    "result = grouped.apply(my_function)\n",
    "result"
   ]
  },
  {
   "cell_type": "code",
   "execution_count": 115,
   "id": "208d9aea",
   "metadata": {},
   "outputs": [
    {
     "data": {
      "text/plain": [
       "array([ -55, -230])"
      ]
     },
     "execution_count": 115,
     "metadata": {},
     "output_type": "execute_result"
    }
   ],
   "source": [
    "result"
   ]
  },
  {
   "cell_type": "code",
   "execution_count": 123,
   "id": "f47b55ae",
   "metadata": {},
   "outputs": [
    {
     "data": {
      "text/plain": [
       "-230"
      ]
     },
     "execution_count": 123,
     "metadata": {},
     "output_type": "execute_result"
    }
   ],
   "source": [
    "result['b']"
   ]
  },
  {
   "cell_type": "code",
   "execution_count": null,
   "id": "96fa5de7",
   "metadata": {},
   "outputs": [],
   "source": [
    "grouped = data.groupby('col1')\n",
    "\n",
    "def my_function(group):\n",
    "    \n",
    "    return pd.DataFrame({'original': group,\n",
    "                         'demeaned': group - group.mean()})\n",
    "    \n",
    "    col2 = group['col2']\n",
    "    col3 = group['col3']\n",
    "    return (col2 * col3).sum()\n",
    "\n",
    "result = grouped.apply(my_function)\n",
    "result"
   ]
  },
  {
   "cell_type": "markdown",
   "id": "174133ea",
   "metadata": {},
   "source": [
    "```\n",
    "data %>%\n",
    "    group_by(col1) %>%\n",
    "    summarise(result_a = sum(col2 * col3),\n",
    "              result_b = sum(col2) * sum(col3))\n",
    "```\n"
   ]
  },
  {
   "cell_type": "markdown",
   "id": "cbc2917d",
   "metadata": {},
   "source": [
    "https://stackoverflow.com/questions/14529838/apply-multiple-functions-to-multiple-groupby-columns"
   ]
  },
  {
   "cell_type": "code",
   "execution_count": 132,
   "id": "db5689c5",
   "metadata": {},
   "outputs": [
    {
     "data": {
      "text/html": [
       "<div>\n",
       "<style scoped>\n",
       "    .dataframe tbody tr th:only-of-type {\n",
       "        vertical-align: middle;\n",
       "    }\n",
       "\n",
       "    .dataframe tbody tr th {\n",
       "        vertical-align: top;\n",
       "    }\n",
       "\n",
       "    .dataframe thead th {\n",
       "        text-align: right;\n",
       "    }\n",
       "</style>\n",
       "<table border=\"1\" class=\"dataframe\">\n",
       "  <thead>\n",
       "    <tr style=\"text-align: right;\">\n",
       "      <th></th>\n",
       "      <th>col1</th>\n",
       "      <th>col2</th>\n",
       "      <th>col3</th>\n",
       "    </tr>\n",
       "  </thead>\n",
       "  <tbody>\n",
       "    <tr>\n",
       "      <th>0</th>\n",
       "      <td>a</td>\n",
       "      <td>1</td>\n",
       "      <td>-1</td>\n",
       "    </tr>\n",
       "    <tr>\n",
       "      <th>1</th>\n",
       "      <td>a</td>\n",
       "      <td>2</td>\n",
       "      <td>-2</td>\n",
       "    </tr>\n",
       "    <tr>\n",
       "      <th>2</th>\n",
       "      <td>a</td>\n",
       "      <td>3</td>\n",
       "      <td>-3</td>\n",
       "    </tr>\n",
       "    <tr>\n",
       "      <th>3</th>\n",
       "      <td>a</td>\n",
       "      <td>4</td>\n",
       "      <td>-4</td>\n",
       "    </tr>\n",
       "    <tr>\n",
       "      <th>4</th>\n",
       "      <td>a</td>\n",
       "      <td>5</td>\n",
       "      <td>-5</td>\n",
       "    </tr>\n",
       "    <tr>\n",
       "      <th>5</th>\n",
       "      <td>b</td>\n",
       "      <td>6</td>\n",
       "      <td>-6</td>\n",
       "    </tr>\n",
       "    <tr>\n",
       "      <th>6</th>\n",
       "      <td>b</td>\n",
       "      <td>7</td>\n",
       "      <td>-7</td>\n",
       "    </tr>\n",
       "    <tr>\n",
       "      <th>7</th>\n",
       "      <td>b</td>\n",
       "      <td>8</td>\n",
       "      <td>-8</td>\n",
       "    </tr>\n",
       "    <tr>\n",
       "      <th>8</th>\n",
       "      <td>b</td>\n",
       "      <td>9</td>\n",
       "      <td>-9</td>\n",
       "    </tr>\n",
       "    <tr>\n",
       "      <th>9</th>\n",
       "      <td>b</td>\n",
       "      <td>0</td>\n",
       "      <td>0</td>\n",
       "    </tr>\n",
       "  </tbody>\n",
       "</table>\n",
       "</div>"
      ],
      "text/plain": [
       "  col1  col2  col3\n",
       "0    a     1    -1\n",
       "1    a     2    -2\n",
       "2    a     3    -3\n",
       "3    a     4    -4\n",
       "4    a     5    -5\n",
       "5    b     6    -6\n",
       "6    b     7    -7\n",
       "7    b     8    -8\n",
       "8    b     9    -9\n",
       "9    b     0     0"
      ]
     },
     "execution_count": 132,
     "metadata": {},
     "output_type": "execute_result"
    }
   ],
   "source": [
    "data"
   ]
  },
  {
   "cell_type": "code",
   "execution_count": 140,
   "id": "5d24fdf3",
   "metadata": {},
   "outputs": [
    {
     "data": {
      "text/html": [
       "<div>\n",
       "<style scoped>\n",
       "    .dataframe tbody tr th:only-of-type {\n",
       "        vertical-align: middle;\n",
       "    }\n",
       "\n",
       "    .dataframe tbody tr th {\n",
       "        vertical-align: top;\n",
       "    }\n",
       "\n",
       "    .dataframe thead th {\n",
       "        text-align: right;\n",
       "    }\n",
       "</style>\n",
       "<table border=\"1\" class=\"dataframe\">\n",
       "  <thead>\n",
       "    <tr style=\"text-align: right;\">\n",
       "      <th></th>\n",
       "      <th>result_a</th>\n",
       "      <th>result_b</th>\n",
       "      <th>result_c</th>\n",
       "      <th>result_d</th>\n",
       "      <th>count</th>\n",
       "      <th>col2_max</th>\n",
       "      <th>col3_max</th>\n",
       "    </tr>\n",
       "    <tr>\n",
       "      <th>col1</th>\n",
       "      <th></th>\n",
       "      <th></th>\n",
       "      <th></th>\n",
       "      <th></th>\n",
       "      <th></th>\n",
       "      <th></th>\n",
       "      <th></th>\n",
       "    </tr>\n",
       "  </thead>\n",
       "  <tbody>\n",
       "    <tr>\n",
       "      <th>a</th>\n",
       "      <td>-55</td>\n",
       "      <td>-225</td>\n",
       "      <td>5    0\n",
       "6    0\n",
       "7    0\n",
       "8    0\n",
       "9    0\n",
       "dtype: int64</td>\n",
       "      <td>0</td>\n",
       "      <td>5</td>\n",
       "      <td>5</td>\n",
       "      <td>-1</td>\n",
       "    </tr>\n",
       "    <tr>\n",
       "      <th>b</th>\n",
       "      <td>-230</td>\n",
       "      <td>-900</td>\n",
       "      <td>5    0\n",
       "6    0\n",
       "7    0\n",
       "8    0\n",
       "9    0\n",
       "dtype: int64</td>\n",
       "      <td>0</td>\n",
       "      <td>5</td>\n",
       "      <td>9</td>\n",
       "      <td>0</td>\n",
       "    </tr>\n",
       "  </tbody>\n",
       "</table>\n",
       "</div>"
      ],
      "text/plain": [
       "      result_a  result_b                                         result_c  \\\n",
       "col1                                                                        \n",
       "a          -55      -225  5    0\n",
       "6    0\n",
       "7    0\n",
       "8    0\n",
       "9    0\n",
       "dtype: int64   \n",
       "b         -230      -900  5    0\n",
       "6    0\n",
       "7    0\n",
       "8    0\n",
       "9    0\n",
       "dtype: int64   \n",
       "\n",
       "      result_d  count  col2_max  col3_max  \n",
       "col1                                       \n",
       "a            0      5         5        -1  \n",
       "b            0      5         9         0  "
      ]
     },
     "execution_count": 140,
     "metadata": {},
     "output_type": "execute_result"
    }
   ],
   "source": [
    "def f(x):\n",
    "    d = {}\n",
    "    d['result_a'] = (x['col2'] * x['col3']).sum()\n",
    "    d['result_b'] = x['col2'].sum() * x['col3'].sum()\n",
    "    d['result_c'] = x['col2'] + x['col3']\n",
    "    d['result_d'] = (x['col2'] + x['col3']).sum()\n",
    "    d['count'] = x.shape[0]\n",
    "    d['col2_max'] = x['col2'].max()\n",
    "    d['col3_max'] = x['col3'].max()\n",
    "    return pd.Series(d)\n",
    "\n",
    "data.groupby('col1').apply(f)"
   ]
  },
  {
   "cell_type": "code",
   "execution_count": null,
   "id": "338ed22c",
   "metadata": {},
   "outputs": [],
   "source": []
  },
  {
   "cell_type": "code",
   "execution_count": null,
   "id": "0c2d5edb",
   "metadata": {},
   "outputs": [],
   "source": []
  },
  {
   "cell_type": "code",
   "execution_count": null,
   "id": "d82381e5",
   "metadata": {},
   "outputs": [],
   "source": []
  },
  {
   "cell_type": "code",
   "execution_count": null,
   "id": "4e414248",
   "metadata": {},
   "outputs": [],
   "source": []
  },
  {
   "cell_type": "code",
   "execution_count": null,
   "id": "51f9f813",
   "metadata": {},
   "outputs": [],
   "source": []
  },
  {
   "cell_type": "code",
   "execution_count": null,
   "id": "b88d108f",
   "metadata": {},
   "outputs": [],
   "source": []
  },
  {
   "cell_type": "markdown",
   "id": "2f5b2ba5",
   "metadata": {},
   "source": [
    "https://gist.github.com/conormm/fd8b1980c28dd21cfaf6975c86c74d07\n",
    "\n",
    "\n",
    "```\n",
    "df %>% group_by(group) %>% mutate(mean_var1 = mean(var1))  # R\n",
    "df.groupby('group').assign(mean_var1 = lambda x: np.mean(x.var1)  # Python\n",
    "\n",
    "??? df['mean_var1'] = df.groupby('group').pipe(lambda x: x.var1.transform('mean')) #https://gist.github.com/conormm/fd8b1980c28dd21cfaf6975c86c74d07\n",
    "```"
   ]
  },
  {
   "cell_type": "code",
   "execution_count": null,
   "id": "12460128",
   "metadata": {},
   "outputs": [],
   "source": []
  },
  {
   "cell_type": "code",
   "execution_count": null,
   "id": "4aac981e",
   "metadata": {},
   "outputs": [],
   "source": []
  },
  {
   "cell_type": "code",
   "execution_count": null,
   "id": "c7b14e09",
   "metadata": {},
   "outputs": [],
   "source": []
  },
  {
   "cell_type": "code",
   "execution_count": null,
   "id": "c40fb8a5",
   "metadata": {},
   "outputs": [],
   "source": []
  },
  {
   "cell_type": "code",
   "execution_count": null,
   "id": "0e39621a",
   "metadata": {},
   "outputs": [],
   "source": []
  },
  {
   "cell_type": "markdown",
   "id": "b69ea585",
   "metadata": {},
   "source": [
    "# Unexpected Behavior"
   ]
  },
  {
   "cell_type": "markdown",
   "id": "b045002a",
   "metadata": {},
   "source": [
    "## Operations in general exclude missing data.\n",
    "\n",
    "https://pandas.pydata.org/pandas-docs/stable/user_guide/10min.html#stats"
   ]
  },
  {
   "cell_type": "code",
   "execution_count": 209,
   "id": "02d6153d",
   "metadata": {},
   "outputs": [
    {
     "data": {
      "text/html": [
       "<div>\n",
       "<style scoped>\n",
       "    .dataframe tbody tr th:only-of-type {\n",
       "        vertical-align: middle;\n",
       "    }\n",
       "\n",
       "    .dataframe tbody tr th {\n",
       "        vertical-align: top;\n",
       "    }\n",
       "\n",
       "    .dataframe thead th {\n",
       "        text-align: right;\n",
       "    }\n",
       "</style>\n",
       "<table border=\"1\" class=\"dataframe\">\n",
       "  <thead>\n",
       "    <tr style=\"text-align: right;\">\n",
       "      <th></th>\n",
       "      <th>A</th>\n",
       "      <th>B</th>\n",
       "      <th>C</th>\n",
       "      <th>D</th>\n",
       "    </tr>\n",
       "  </thead>\n",
       "  <tbody>\n",
       "    <tr>\n",
       "      <th>0</th>\n",
       "      <td>NaN</td>\n",
       "      <td>-1.343106</td>\n",
       "      <td>0.025455</td>\n",
       "      <td>1.477582</td>\n",
       "    </tr>\n",
       "    <tr>\n",
       "      <th>1</th>\n",
       "      <td>1.626082</td>\n",
       "      <td>0.544241</td>\n",
       "      <td>0.620942</td>\n",
       "      <td>-0.736149</td>\n",
       "    </tr>\n",
       "    <tr>\n",
       "      <th>2</th>\n",
       "      <td>-1.478041</td>\n",
       "      <td>0.230491</td>\n",
       "      <td>0.426075</td>\n",
       "      <td>0.834510</td>\n",
       "    </tr>\n",
       "    <tr>\n",
       "      <th>3</th>\n",
       "      <td>-0.301862</td>\n",
       "      <td>-0.107032</td>\n",
       "      <td>1.058098</td>\n",
       "      <td>0.710978</td>\n",
       "    </tr>\n",
       "    <tr>\n",
       "      <th>4</th>\n",
       "      <td>-0.903349</td>\n",
       "      <td>1.558083</td>\n",
       "      <td>1.192531</td>\n",
       "      <td>-1.554701</td>\n",
       "    </tr>\n",
       "    <tr>\n",
       "      <th>5</th>\n",
       "      <td>-0.325039</td>\n",
       "      <td>0.857985</td>\n",
       "      <td>-0.200452</td>\n",
       "      <td>-0.661910</td>\n",
       "    </tr>\n",
       "  </tbody>\n",
       "</table>\n",
       "</div>"
      ],
      "text/plain": [
       "          A         B         C         D\n",
       "0       NaN -1.343106  0.025455  1.477582\n",
       "1  1.626082  0.544241  0.620942 -0.736149\n",
       "2 -1.478041  0.230491  0.426075  0.834510\n",
       "3 -0.301862 -0.107032  1.058098  0.710978\n",
       "4 -0.903349  1.558083  1.192531 -1.554701\n",
       "5 -0.325039  0.857985 -0.200452 -0.661910"
      ]
     },
     "execution_count": 209,
     "metadata": {},
     "output_type": "execute_result"
    }
   ],
   "source": [
    "df = pd.DataFrame(np.random.randn(6, 4),\n",
    "                  columns=list(\"ABCD\"))\n",
    "df.iat[0, 0] = np.nan\n",
    "df"
   ]
  },
  {
   "cell_type": "code",
   "execution_count": 210,
   "id": "2b220b81",
   "metadata": {},
   "outputs": [
    {
     "data": {
      "text/plain": [
       "-0.27644178620069293"
      ]
     },
     "execution_count": 210,
     "metadata": {},
     "output_type": "execute_result"
    }
   ],
   "source": [
    "df.A.mean()  # this works; R equivalent would have returned `NA`"
   ]
  },
  {
   "cell_type": "code",
   "execution_count": 211,
   "id": "84cedcc5",
   "metadata": {},
   "outputs": [
    {
     "data": {
      "text/plain": [
       "nan"
      ]
     },
     "execution_count": 211,
     "metadata": {},
     "output_type": "execute_result"
    }
   ],
   "source": [
    "df.A.mean(skipna=False)  # have to manually set skipna=False to get desired behavior"
   ]
  },
  {
   "cell_type": "markdown",
   "id": "d28ba52f",
   "metadata": {},
   "source": [
    "---"
   ]
  },
  {
   "cell_type": "code",
   "execution_count": null,
   "id": "54fc8e28",
   "metadata": {},
   "outputs": [],
   "source": []
  },
  {
   "cell_type": "code",
   "execution_count": null,
   "id": "a241cdb0",
   "metadata": {},
   "outputs": [],
   "source": []
  },
  {
   "cell_type": "code",
   "execution_count": null,
   "id": "ad8b6fe6",
   "metadata": {},
   "outputs": [],
   "source": []
  },
  {
   "cell_type": "code",
   "execution_count": null,
   "id": "03594883",
   "metadata": {},
   "outputs": [],
   "source": []
  },
  {
   "cell_type": "code",
   "execution_count": null,
   "id": "91ae4f49",
   "metadata": {},
   "outputs": [],
   "source": []
  }
 ],
 "metadata": {
  "kernelspec": {
   "display_name": "Python 3",
   "language": "python",
   "name": "python3"
  },
  "language_info": {
   "codemirror_mode": {
    "name": "ipython",
    "version": 3
   },
   "file_extension": ".py",
   "mimetype": "text/x-python",
   "name": "python",
   "nbconvert_exporter": "python",
   "pygments_lexer": "ipython3",
   "version": "3.9.5"
  }
 },
 "nbformat": 4,
 "nbformat_minor": 5
}
