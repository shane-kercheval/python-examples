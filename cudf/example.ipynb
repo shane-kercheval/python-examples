{
 "cells": [
  {
   "cell_type": "code",
   "execution_count": 1,
   "metadata": {},
   "outputs": [
    {
     "data": {
      "text/plain": [
       "True"
      ]
     },
     "execution_count": 1,
     "metadata": {},
     "output_type": "execute_result"
    }
   ],
   "source": [
    "import sys\n",
    "import importlib.metadata\n",
    "import torch\n",
    "\n",
    "# check if CUDA is available\n",
    "torch.cuda.is_available()"
   ]
  },
  {
   "cell_type": "code",
   "execution_count": 2,
   "metadata": {},
   "outputs": [],
   "source": [
    "def is_package_installed(package_name):\n",
    "    try:\n",
    "        importlib.metadata.version(package_name)\n",
    "        return True\n",
    "    except importlib.metadata.PackageNotFoundError:\n",
    "        return False"
   ]
  },
  {
   "cell_type": "code",
   "execution_count": 4,
   "metadata": {},
   "outputs": [
    {
     "name": "stdout",
     "output_type": "stream",
     "text": [
      "The cudf.pandas extension is already loaded. To reload it, use:\n",
      "  %reload_ext cudf.pandas\n",
      "Using cudf (23.12.01)\n",
      "1.5.3\n"
     ]
    }
   ],
   "source": [
    "# if cudf package is installed, then import it and load the extension\n",
    "# need to do this before importing pandas\n",
    "if is_package_installed('cudf'):\n",
    "    import cudf\n",
    "    %load_ext cudf.pandas\n",
    "    print(f\"Using cudf ({cudf.__version__})\")\n",
    "\n",
    "import pandas as pd\n",
    "print(pd.__version__)"
   ]
  },
  {
   "cell_type": "code",
   "execution_count": 5,
   "metadata": {},
   "outputs": [],
   "source": [
    "# need to run `pandas-vs-alternatvies.ipynb` first and move medicare_data.parquet to this folder\n",
    "cudf_df = pd.read_parquet('/code/medicare_data.parquet')"
   ]
  },
  {
   "cell_type": "code",
   "execution_count": 6,
   "metadata": {},
   "outputs": [
    {
     "name": "stdout",
     "output_type": "stream",
     "text": [
      "225 ms ± 1 ms per loop (mean ± std. dev. of 7 runs, 1 loop each)\n"
     ]
    }
   ],
   "source": [
    "# this is ~3 seconds in pandas and pandas/pyarrow; ~800ms in polars\n",
    "%timeit cudf_df.\\\n",
    "    groupby(['Rndrng_Prvdr_Crdntls', 'Rndrng_Prvdr_Gndr'])\\\n",
    "    [['Tot_Benes', 'Tot_Srvcs', 'Tot_Bene_Day_Srvcs', 'Avg_Sbmtd_Chrg', 'Avg_Mdcr_Alowd_Amt', 'Avg_Mdcr_Pymt_Amt', 'Avg_Mdcr_Stdzd_Amt']].\\\n",
    "    agg(['mean', 'std', 'min', 'max'])"
   ]
  },
  {
   "cell_type": "code",
   "execution_count": null,
   "metadata": {},
   "outputs": [],
   "source": []
  }
 ],
 "metadata": {
  "kernelspec": {
   "display_name": "Python 3",
   "language": "python",
   "name": "python3"
  },
  "language_info": {
   "codemirror_mode": {
    "name": "ipython",
    "version": 3
   },
   "file_extension": ".py",
   "mimetype": "text/x-python",
   "name": "python",
   "nbconvert_exporter": "python",
   "pygments_lexer": "ipython3",
   "version": "3.10.13"
  }
 },
 "nbformat": 4,
 "nbformat_minor": 2
}
