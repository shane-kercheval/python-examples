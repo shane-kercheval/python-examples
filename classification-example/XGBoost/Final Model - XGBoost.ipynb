{
 "cells": [
  {
   "cell_type": "code",
   "execution_count": 39,
   "id": "c5f3fe51",
   "metadata": {},
   "outputs": [],
   "source": [
    "import pickle\n",
    "import helpsk as hlp\n",
    "import matplotlib.pyplot as plt\n",
    "import pandas as pd\n",
    "import numpy as np\n",
    "from sklearn.datasets import fetch_openml\n",
    "import seaborn as sns\n",
    "\n",
    "from sklearn.pipeline import Pipeline\n",
    "from sklearn.preprocessing import StandardScaler, MinMaxScaler, OneHotEncoder  # , LabelEncoder\n",
    "from sklearn.impute import SimpleImputer\n",
    "from sklearn.model_selection import train_test_split\n",
    "# from sklearn.base import BaseEstimator, TransformerMixin\n",
    "\n",
    "%matplotlib inline"
   ]
  },
  {
   "cell_type": "code",
   "execution_count": 54,
   "id": "d54fb191",
   "metadata": {},
   "outputs": [
    {
     "data": {
      "text/plain": [
       "('Not Defaulted', 'Defaulted')"
      ]
     },
     "execution_count": 54,
     "metadata": {},
     "output_type": "execute_result"
    }
   ],
   "source": [
    "labels_negative_positive = ('Not Defaulted', 'Defaulted')\n",
    "labels_negative_positive"
   ]
  },
  {
   "cell_type": "markdown",
   "id": "8ff88fe0",
   "metadata": {},
   "source": [
    "# Load Data"
   ]
  },
  {
   "cell_type": "code",
   "execution_count": 40,
   "id": "fc98b023",
   "metadata": {},
   "outputs": [
    {
     "data": {
      "text/plain": [
       "{'colsample_bytree': 0.12514061156354356,\n",
       " 'learning_rate': 0.01,\n",
       " 'max_depth': 3,\n",
       " 'n_estimators': 778,\n",
       " 'subsample': 0.5788129146377768,\n",
       " 'encoder': 'CustomOrdinalEncoder()',\n",
       " 'imputer': 'SimpleImputer()',\n",
       " 'scaler': 'MinMaxScaler()'}"
      ]
     },
     "execution_count": 40,
     "metadata": {},
     "output_type": "execute_result"
    }
   ],
   "source": [
    "parser = hlp.sklearn_eval.SearchCVParser.from_yaml_file(yaml_file_name = 'Run 1 - XGBoost - BayesSearchCV.yaml')\n",
    "parser.best_primary_score_params"
   ]
  },
  {
   "cell_type": "code",
   "execution_count": 41,
   "id": "7511e37e",
   "metadata": {},
   "outputs": [
    {
     "name": "stdout",
     "output_type": "stream",
     "text": [
      "(800, 20)\n",
      "800\n",
      "(200, 20)\n",
      "200\n"
     ]
    }
   ],
   "source": [
    "with open('../X_train.pkl', 'rb') as handle:\n",
    "    X_train = pickle.load(handle)\n",
    "    print(X_train.shape)\n",
    "\n",
    "with open('../y_train.pkl', 'rb') as handle:\n",
    "    y_train = pickle.load(handle)\n",
    "    print(len(y_train))\n",
    "\n",
    "with open('../X_test.pkl', 'rb') as handle:\n",
    "    X_test = pickle.load(handle)\n",
    "    print(X_test.shape)\n",
    "\n",
    "with open('../y_test.pkl', 'rb') as handle:\n",
    "    y_test = pickle.load(handle)\n",
    "    print(len(y_test))"
   ]
  },
  {
   "cell_type": "code",
   "execution_count": 42,
   "id": "1e782cdf",
   "metadata": {},
   "outputs": [
    {
     "data": {
      "text/html": [
       "<div>\n",
       "<style scoped>\n",
       "    .dataframe tbody tr th:only-of-type {\n",
       "        vertical-align: middle;\n",
       "    }\n",
       "\n",
       "    .dataframe tbody tr th {\n",
       "        vertical-align: top;\n",
       "    }\n",
       "\n",
       "    .dataframe thead th {\n",
       "        text-align: right;\n",
       "    }\n",
       "</style>\n",
       "<table border=\"1\" class=\"dataframe\">\n",
       "  <thead>\n",
       "    <tr style=\"text-align: right;\">\n",
       "      <th></th>\n",
       "      <th>checking_status</th>\n",
       "      <th>duration</th>\n",
       "      <th>credit_history</th>\n",
       "      <th>purpose</th>\n",
       "      <th>credit_amount</th>\n",
       "      <th>savings_status</th>\n",
       "      <th>employment</th>\n",
       "      <th>installment_commitment</th>\n",
       "      <th>personal_status</th>\n",
       "      <th>other_parties</th>\n",
       "      <th>residence_since</th>\n",
       "      <th>property_magnitude</th>\n",
       "      <th>age</th>\n",
       "      <th>other_payment_plans</th>\n",
       "      <th>housing</th>\n",
       "      <th>existing_credits</th>\n",
       "      <th>job</th>\n",
       "      <th>num_dependents</th>\n",
       "      <th>own_telephone</th>\n",
       "      <th>foreign_worker</th>\n",
       "    </tr>\n",
       "  </thead>\n",
       "  <tbody>\n",
       "    <tr>\n",
       "      <th>29</th>\n",
       "      <td>NaN</td>\n",
       "      <td>NaN</td>\n",
       "      <td>delayed previously</td>\n",
       "      <td>business</td>\n",
       "      <td>0.0</td>\n",
       "      <td>&lt;100</td>\n",
       "      <td>&gt;=7</td>\n",
       "      <td>3.0</td>\n",
       "      <td>male single</td>\n",
       "      <td>none</td>\n",
       "      <td>4.0</td>\n",
       "      <td>no known property</td>\n",
       "      <td>63.0</td>\n",
       "      <td>none</td>\n",
       "      <td>own</td>\n",
       "      <td>2.0</td>\n",
       "      <td>skilled</td>\n",
       "      <td>1.0</td>\n",
       "      <td>yes</td>\n",
       "      <td>yes</td>\n",
       "    </tr>\n",
       "    <tr>\n",
       "      <th>535</th>\n",
       "      <td>&gt;=200</td>\n",
       "      <td>21.0</td>\n",
       "      <td>critical/other existing credit</td>\n",
       "      <td>education</td>\n",
       "      <td>2319.0</td>\n",
       "      <td>&lt;100</td>\n",
       "      <td>&lt;1</td>\n",
       "      <td>2.0</td>\n",
       "      <td>male div/sep</td>\n",
       "      <td>none</td>\n",
       "      <td>1.0</td>\n",
       "      <td>car</td>\n",
       "      <td>33.0</td>\n",
       "      <td>none</td>\n",
       "      <td>rent</td>\n",
       "      <td>1.0</td>\n",
       "      <td>skilled</td>\n",
       "      <td>1.0</td>\n",
       "      <td>none</td>\n",
       "      <td>yes</td>\n",
       "    </tr>\n",
       "    <tr>\n",
       "      <th>695</th>\n",
       "      <td>no checking</td>\n",
       "      <td>6.0</td>\n",
       "      <td>existing paid</td>\n",
       "      <td>used car</td>\n",
       "      <td>1236.0</td>\n",
       "      <td>500&lt;=X&lt;1000</td>\n",
       "      <td>1&lt;=X&lt;4</td>\n",
       "      <td>2.0</td>\n",
       "      <td>male single</td>\n",
       "      <td>none</td>\n",
       "      <td>4.0</td>\n",
       "      <td>life insurance</td>\n",
       "      <td>50.0</td>\n",
       "      <td>none</td>\n",
       "      <td>rent</td>\n",
       "      <td>1.0</td>\n",
       "      <td>skilled</td>\n",
       "      <td>1.0</td>\n",
       "      <td>none</td>\n",
       "      <td>yes</td>\n",
       "    </tr>\n",
       "    <tr>\n",
       "      <th>557</th>\n",
       "      <td>no checking</td>\n",
       "      <td>21.0</td>\n",
       "      <td>no credits/all paid</td>\n",
       "      <td>new car</td>\n",
       "      <td>5003.0</td>\n",
       "      <td>no known savings</td>\n",
       "      <td>1&lt;=X&lt;4</td>\n",
       "      <td>1.0</td>\n",
       "      <td>female div/dep/mar</td>\n",
       "      <td>none</td>\n",
       "      <td>4.0</td>\n",
       "      <td>life insurance</td>\n",
       "      <td>29.0</td>\n",
       "      <td>bank</td>\n",
       "      <td>own</td>\n",
       "      <td>2.0</td>\n",
       "      <td>skilled</td>\n",
       "      <td>1.0</td>\n",
       "      <td>yes</td>\n",
       "      <td>yes</td>\n",
       "    </tr>\n",
       "    <tr>\n",
       "      <th>836</th>\n",
       "      <td>no checking</td>\n",
       "      <td>12.0</td>\n",
       "      <td>existing paid</td>\n",
       "      <td>radio/tv</td>\n",
       "      <td>886.0</td>\n",
       "      <td>no known savings</td>\n",
       "      <td>1&lt;=X&lt;4</td>\n",
       "      <td>4.0</td>\n",
       "      <td>female div/dep/mar</td>\n",
       "      <td>none</td>\n",
       "      <td>2.0</td>\n",
       "      <td>car</td>\n",
       "      <td>21.0</td>\n",
       "      <td>none</td>\n",
       "      <td>own</td>\n",
       "      <td>1.0</td>\n",
       "      <td>skilled</td>\n",
       "      <td>1.0</td>\n",
       "      <td>none</td>\n",
       "      <td>yes</td>\n",
       "    </tr>\n",
       "  </tbody>\n",
       "</table>\n",
       "</div>"
      ],
      "text/plain": [
       "    checking_status  duration                  credit_history    purpose  \\\n",
       "29              NaN       NaN              delayed previously   business   \n",
       "535           >=200      21.0  critical/other existing credit  education   \n",
       "695     no checking       6.0                   existing paid   used car   \n",
       "557     no checking      21.0             no credits/all paid    new car   \n",
       "836     no checking      12.0                   existing paid   radio/tv   \n",
       "\n",
       "     credit_amount    savings_status employment  installment_commitment  \\\n",
       "29             0.0              <100        >=7                     3.0   \n",
       "535         2319.0              <100         <1                     2.0   \n",
       "695         1236.0       500<=X<1000     1<=X<4                     2.0   \n",
       "557         5003.0  no known savings     1<=X<4                     1.0   \n",
       "836          886.0  no known savings     1<=X<4                     4.0   \n",
       "\n",
       "        personal_status other_parties  residence_since property_magnitude  \\\n",
       "29          male single          none              4.0  no known property   \n",
       "535        male div/sep          none              1.0                car   \n",
       "695         male single          none              4.0     life insurance   \n",
       "557  female div/dep/mar          none              4.0     life insurance   \n",
       "836  female div/dep/mar          none              2.0                car   \n",
       "\n",
       "      age other_payment_plans housing  existing_credits      job  \\\n",
       "29   63.0                none     own               2.0  skilled   \n",
       "535  33.0                none    rent               1.0  skilled   \n",
       "695  50.0                none    rent               1.0  skilled   \n",
       "557  29.0                bank     own               2.0  skilled   \n",
       "836  21.0                none     own               1.0  skilled   \n",
       "\n",
       "     num_dependents own_telephone foreign_worker  \n",
       "29              1.0           yes            yes  \n",
       "535             1.0          none            yes  \n",
       "695             1.0          none            yes  \n",
       "557             1.0           yes            yes  \n",
       "836             1.0          none            yes  "
      ]
     },
     "execution_count": 42,
     "metadata": {},
     "output_type": "execute_result"
    }
   ],
   "source": [
    "X_train.head()"
   ]
  },
  {
   "cell_type": "code",
   "execution_count": 43,
   "id": "a9795b35",
   "metadata": {},
   "outputs": [
    {
     "data": {
      "text/plain": [
       "array([1, 1, 0, 1, 0, 1, 0, 1, 1, 0])"
      ]
     },
     "execution_count": 43,
     "metadata": {},
     "output_type": "execute_result"
    }
   ],
   "source": [
    "y_train[0:10]"
   ]
  },
  {
   "cell_type": "code",
   "execution_count": 44,
   "id": "4d20507c",
   "metadata": {},
   "outputs": [
    {
     "data": {
      "text/html": [
       "<div>\n",
       "<style scoped>\n",
       "    .dataframe tbody tr th:only-of-type {\n",
       "        vertical-align: middle;\n",
       "    }\n",
       "\n",
       "    .dataframe tbody tr th {\n",
       "        vertical-align: top;\n",
       "    }\n",
       "\n",
       "    .dataframe thead th {\n",
       "        text-align: right;\n",
       "    }\n",
       "</style>\n",
       "<table border=\"1\" class=\"dataframe\">\n",
       "  <thead>\n",
       "    <tr style=\"text-align: right;\">\n",
       "      <th></th>\n",
       "      <th>checking_status</th>\n",
       "      <th>duration</th>\n",
       "      <th>credit_history</th>\n",
       "      <th>purpose</th>\n",
       "      <th>credit_amount</th>\n",
       "      <th>savings_status</th>\n",
       "      <th>employment</th>\n",
       "      <th>installment_commitment</th>\n",
       "      <th>personal_status</th>\n",
       "      <th>other_parties</th>\n",
       "      <th>residence_since</th>\n",
       "      <th>property_magnitude</th>\n",
       "      <th>age</th>\n",
       "      <th>other_payment_plans</th>\n",
       "      <th>housing</th>\n",
       "      <th>existing_credits</th>\n",
       "      <th>job</th>\n",
       "      <th>num_dependents</th>\n",
       "      <th>own_telephone</th>\n",
       "      <th>foreign_worker</th>\n",
       "    </tr>\n",
       "  </thead>\n",
       "  <tbody>\n",
       "    <tr>\n",
       "      <th>521</th>\n",
       "      <td>&lt;0</td>\n",
       "      <td>18.0</td>\n",
       "      <td>existing paid</td>\n",
       "      <td>radio/tv</td>\n",
       "      <td>3190.0</td>\n",
       "      <td>&lt;100</td>\n",
       "      <td>1&lt;=X&lt;4</td>\n",
       "      <td>2.0</td>\n",
       "      <td>female div/dep/mar</td>\n",
       "      <td>none</td>\n",
       "      <td>2.0</td>\n",
       "      <td>real estate</td>\n",
       "      <td>24.0</td>\n",
       "      <td>none</td>\n",
       "      <td>own</td>\n",
       "      <td>1.0</td>\n",
       "      <td>skilled</td>\n",
       "      <td>1.0</td>\n",
       "      <td>none</td>\n",
       "      <td>yes</td>\n",
       "    </tr>\n",
       "    <tr>\n",
       "      <th>737</th>\n",
       "      <td>&lt;0</td>\n",
       "      <td>18.0</td>\n",
       "      <td>existing paid</td>\n",
       "      <td>new car</td>\n",
       "      <td>4380.0</td>\n",
       "      <td>100&lt;=X&lt;500</td>\n",
       "      <td>1&lt;=X&lt;4</td>\n",
       "      <td>3.0</td>\n",
       "      <td>male single</td>\n",
       "      <td>none</td>\n",
       "      <td>4.0</td>\n",
       "      <td>car</td>\n",
       "      <td>35.0</td>\n",
       "      <td>none</td>\n",
       "      <td>own</td>\n",
       "      <td>1.0</td>\n",
       "      <td>unskilled resident</td>\n",
       "      <td>2.0</td>\n",
       "      <td>yes</td>\n",
       "      <td>yes</td>\n",
       "    </tr>\n",
       "    <tr>\n",
       "      <th>740</th>\n",
       "      <td>&lt;0</td>\n",
       "      <td>24.0</td>\n",
       "      <td>all paid</td>\n",
       "      <td>new car</td>\n",
       "      <td>2325.0</td>\n",
       "      <td>100&lt;=X&lt;500</td>\n",
       "      <td>4&lt;=X&lt;7</td>\n",
       "      <td>2.0</td>\n",
       "      <td>male single</td>\n",
       "      <td>none</td>\n",
       "      <td>3.0</td>\n",
       "      <td>car</td>\n",
       "      <td>32.0</td>\n",
       "      <td>bank</td>\n",
       "      <td>own</td>\n",
       "      <td>1.0</td>\n",
       "      <td>skilled</td>\n",
       "      <td>1.0</td>\n",
       "      <td>none</td>\n",
       "      <td>yes</td>\n",
       "    </tr>\n",
       "    <tr>\n",
       "      <th>660</th>\n",
       "      <td>&gt;=200</td>\n",
       "      <td>12.0</td>\n",
       "      <td>existing paid</td>\n",
       "      <td>radio/tv</td>\n",
       "      <td>1297.0</td>\n",
       "      <td>&lt;100</td>\n",
       "      <td>1&lt;=X&lt;4</td>\n",
       "      <td>3.0</td>\n",
       "      <td>male mar/wid</td>\n",
       "      <td>none</td>\n",
       "      <td>4.0</td>\n",
       "      <td>real estate</td>\n",
       "      <td>23.0</td>\n",
       "      <td>none</td>\n",
       "      <td>rent</td>\n",
       "      <td>1.0</td>\n",
       "      <td>skilled</td>\n",
       "      <td>1.0</td>\n",
       "      <td>none</td>\n",
       "      <td>yes</td>\n",
       "    </tr>\n",
       "    <tr>\n",
       "      <th>411</th>\n",
       "      <td>no checking</td>\n",
       "      <td>33.0</td>\n",
       "      <td>critical/other existing credit</td>\n",
       "      <td>used car</td>\n",
       "      <td>7253.0</td>\n",
       "      <td>&lt;100</td>\n",
       "      <td>4&lt;=X&lt;7</td>\n",
       "      <td>3.0</td>\n",
       "      <td>male single</td>\n",
       "      <td>none</td>\n",
       "      <td>2.0</td>\n",
       "      <td>car</td>\n",
       "      <td>35.0</td>\n",
       "      <td>none</td>\n",
       "      <td>own</td>\n",
       "      <td>2.0</td>\n",
       "      <td>high qualif/self emp/mgmt</td>\n",
       "      <td>1.0</td>\n",
       "      <td>yes</td>\n",
       "      <td>yes</td>\n",
       "    </tr>\n",
       "  </tbody>\n",
       "</table>\n",
       "</div>"
      ],
      "text/plain": [
       "    checking_status  duration                  credit_history   purpose  \\\n",
       "521              <0      18.0                   existing paid  radio/tv   \n",
       "737              <0      18.0                   existing paid   new car   \n",
       "740              <0      24.0                        all paid   new car   \n",
       "660           >=200      12.0                   existing paid  radio/tv   \n",
       "411     no checking      33.0  critical/other existing credit  used car   \n",
       "\n",
       "     credit_amount savings_status employment  installment_commitment  \\\n",
       "521         3190.0           <100     1<=X<4                     2.0   \n",
       "737         4380.0     100<=X<500     1<=X<4                     3.0   \n",
       "740         2325.0     100<=X<500     4<=X<7                     2.0   \n",
       "660         1297.0           <100     1<=X<4                     3.0   \n",
       "411         7253.0           <100     4<=X<7                     3.0   \n",
       "\n",
       "        personal_status other_parties  residence_since property_magnitude  \\\n",
       "521  female div/dep/mar          none              2.0        real estate   \n",
       "737         male single          none              4.0                car   \n",
       "740         male single          none              3.0                car   \n",
       "660        male mar/wid          none              4.0        real estate   \n",
       "411         male single          none              2.0                car   \n",
       "\n",
       "      age other_payment_plans housing  existing_credits  \\\n",
       "521  24.0                none     own               1.0   \n",
       "737  35.0                none     own               1.0   \n",
       "740  32.0                bank     own               1.0   \n",
       "660  23.0                none    rent               1.0   \n",
       "411  35.0                none     own               2.0   \n",
       "\n",
       "                           job  num_dependents own_telephone foreign_worker  \n",
       "521                    skilled             1.0          none            yes  \n",
       "737         unskilled resident             2.0           yes            yes  \n",
       "740                    skilled             1.0          none            yes  \n",
       "660                    skilled             1.0          none            yes  \n",
       "411  high qualif/self emp/mgmt             1.0           yes            yes  "
      ]
     },
     "execution_count": 44,
     "metadata": {},
     "output_type": "execute_result"
    }
   ],
   "source": [
    "X_test.head()"
   ]
  },
  {
   "cell_type": "code",
   "execution_count": 45,
   "id": "c066c30a",
   "metadata": {},
   "outputs": [
    {
     "data": {
      "text/plain": [
       "array([1, 0, 0, 0, 0, 0, 0, 0, 0, 0])"
      ]
     },
     "execution_count": 45,
     "metadata": {},
     "output_type": "execute_result"
    }
   ],
   "source": [
    "y_test[0:10]"
   ]
  },
  {
   "cell_type": "markdown",
   "id": "1ca1d63a",
   "metadata": {},
   "source": [
    "# Training and Test Data"
   ]
  },
  {
   "cell_type": "code",
   "execution_count": 46,
   "id": "86f44647",
   "metadata": {},
   "outputs": [
    {
     "data": {
      "text/plain": [
       "array([1, 1, 0, 1, 0, 1, 0, 1, 1, 0])"
      ]
     },
     "execution_count": 46,
     "metadata": {},
     "output_type": "execute_result"
    }
   ],
   "source": [
    "y_train[0:10]"
   ]
  },
  {
   "cell_type": "code",
   "execution_count": 47,
   "id": "742c6bf1",
   "metadata": {},
   "outputs": [
    {
     "name": "stdout",
     "output_type": "stream",
     "text": [
      "['duration', 'credit_amount', 'installment_commitment', 'residence_since', 'age', 'existing_credits', 'num_dependents']\n",
      "['checking_status', 'credit_history', 'purpose', 'savings_status', 'employment', 'personal_status', 'other_parties', 'property_magnitude', 'other_payment_plans', 'housing', 'job', 'own_telephone', 'foreign_worker']\n"
     ]
    }
   ],
   "source": [
    "numeric_columns = hlp.pandas.get_numeric_columns(X_train)\n",
    "non_numeric_columns = hlp.pandas.get_non_numeric_columns(X_train)\n",
    "print(numeric_columns)\n",
    "print(non_numeric_columns)"
   ]
  },
  {
   "cell_type": "markdown",
   "id": "c215d60a",
   "metadata": {},
   "source": [
    "# Model"
   ]
  },
  {
   "cell_type": "code",
   "execution_count": 48,
   "id": "ce3d4969",
   "metadata": {},
   "outputs": [
    {
     "data": {
      "text/plain": [
       "{'colsample_bytree': 0.12514061156354356,\n",
       " 'learning_rate': 0.01,\n",
       " 'max_depth': 3,\n",
       " 'n_estimators': 778,\n",
       " 'subsample': 0.5788129146377768,\n",
       " 'encoder': 'CustomOrdinalEncoder()',\n",
       " 'imputer': 'SimpleImputer()',\n",
       " 'scaler': 'MinMaxScaler()'}"
      ]
     },
     "execution_count": 48,
     "metadata": {},
     "output_type": "execute_result"
    }
   ],
   "source": [
    "parser.best_primary_score_params"
   ]
  },
  {
   "cell_type": "code",
   "execution_count": 49,
   "id": "29b86589",
   "metadata": {},
   "outputs": [],
   "source": [
    "from sklearn.pipeline import make_pipeline\n",
    "from sklearn.compose import ColumnTransformer\n",
    "from xgboost import XGBClassifier\n",
    "\n",
    "full_pipeline = make_pipeline(\n",
    "    ColumnTransformer([\n",
    "        (\n",
    "            'numeric',\n",
    "            make_pipeline(\n",
    "                SimpleImputer(strategy='mean'),\n",
    "                StandardScaler()\n",
    "            ),\n",
    "            numeric_columns\n",
    "        ),\n",
    "        (\n",
    "            'non_numeric',\n",
    "            make_pipeline(hlp.sklearn_pipeline.CustomOrdinalEncoder()),\n",
    "            non_numeric_columns\n",
    "        )\n",
    "    ]),\n",
    "    XGBClassifier(\n",
    "        colsample_bytree=0.12514061156354356,\n",
    "        learning_rate=0.01,\n",
    "        max_depth=3,\n",
    "        n_estimators=778,\n",
    "        subsample=0.5788129146377768,\n",
    "        random_state=42,\n",
    "        use_label_encoder=False,\n",
    "        eval_metric='logloss'\n",
    "    )\n",
    ")"
   ]
  },
  {
   "cell_type": "code",
   "execution_count": 51,
   "id": "936a9d3f",
   "metadata": {
    "scrolled": true
   },
   "outputs": [],
   "source": [
    "# Show the levels of pipelines/transformers/model\n",
    "#full_pipeline.named_steps"
   ]
  },
  {
   "cell_type": "code",
   "execution_count": 52,
   "id": "e1e4704a",
   "metadata": {},
   "outputs": [],
   "source": [
    "fitted_pipeline = full_pipeline.fit(X_train, y_train)"
   ]
  },
  {
   "cell_type": "code",
   "execution_count": 53,
   "id": "1870f6d1",
   "metadata": {},
   "outputs": [],
   "source": [
    "# fitted_pipeline.predict(X_test)\n",
    "# fitted_pipeline.predict_proba(X_test)\n",
    "# y_test"
   ]
  },
  {
   "cell_type": "markdown",
   "id": "c995ec2a",
   "metadata": {},
   "source": [
    "## Training Set Evaluation"
   ]
  },
  {
   "cell_type": "markdown",
   "id": "42753452",
   "metadata": {},
   "source": [
    "Understand the nature/degree of model overfitting by comparing to `Test Set Evaluation`"
   ]
  },
  {
   "cell_type": "code",
   "execution_count": 67,
   "id": "715baf29",
   "metadata": {},
   "outputs": [],
   "source": [
    "predicted_scores = fitted_pipeline.predict_proba(X_train)[:, 1]"
   ]
  },
  {
   "cell_type": "code",
   "execution_count": 68,
   "id": "19cebd6f",
   "metadata": {},
   "outputs": [
    {
     "data": {
      "image/png": "[encoded data removed]",
      "text/plain": [
       "<Figure size 432x288 with 1 Axes>"
      ]
     },
     "metadata": {
      "needs_background": "light"
     },
     "output_type": "display_data"
    }
   ],
   "source": [
    "sns.histplot(predicted_scores)\n",
    "plt.tight_layout()"
   ]
  },
  {
   "cell_type": "code",
   "execution_count": 69,
   "id": "19afe1a7",
   "metadata": {},
   "outputs": [],
   "source": [
    "evaluator = hlp.sklearn_eval.TwoClassEvaluator(\n",
    "    actual_values=y_train,\n",
    "    predicted_scores=predicted_scores,\n",
    "    labels=labels_negative_positive,\n",
    "    score_threshold=0.5\n",
    ")"
   ]
  },
  {
   "cell_type": "code",
   "execution_count": 70,
   "id": "aa907fdc",
   "metadata": {
    "scrolled": true
   },
   "outputs": [
    {
     "data": {
      "text/html": [
       "<style type=\"text/css\">\n",
       "#T_efbf7_row0_col0 {\n",
       "  width: 10em;\n",
       "  height: 80%;\n",
       "  background: linear-gradient(90deg,#1AAF54 87.2%, transparent 87.2%);\n",
       "}\n",
       "#T_efbf7_row1_col0 {\n",
       "  width: 10em;\n",
       "  height: 80%;\n",
       "  background: linear-gradient(90deg,#1AAF54 36.5%, transparent 36.5%);\n",
       "}\n",
       "#T_efbf7_row2_col0 {\n",
       "  width: 10em;\n",
       "  height: 80%;\n",
       "  background: linear-gradient(90deg,#1AAF54 95.0%, transparent 95.0%);\n",
       "}\n",
       "#T_efbf7_row3_col0 {\n",
       "  width: 10em;\n",
       "  height: 80%;\n",
       "  background: linear-gradient(90deg,#1AAF54 5.0%, transparent 5.0%);\n",
       "  width: 10em;\n",
       "  height: 80%;\n",
       "  background: linear-gradient(90deg,#FF420E 5.0%, transparent 5.0%);\n",
       "}\n",
       "#T_efbf7_row4_col0 {\n",
       "  width: 10em;\n",
       "  height: 80%;\n",
       "  background: linear-gradient(90deg,#1AAF54 63.5%, transparent 63.5%);\n",
       "  width: 10em;\n",
       "  height: 80%;\n",
       "  background: linear-gradient(90deg,#FF420E 63.5%, transparent 63.5%);\n",
       "}\n",
       "#T_efbf7_row5_col0 {\n",
       "  width: 10em;\n",
       "  height: 80%;\n",
       "  background: linear-gradient(90deg,#1AAF54 75.9%, transparent 75.9%);\n",
       "}\n",
       "#T_efbf7_row6_col0 {\n",
       "  width: 10em;\n",
       "  height: 80%;\n",
       "  background: linear-gradient(90deg,#1AAF54 77.6%, transparent 77.6%);\n",
       "}\n",
       "#T_efbf7_row7_col0 {\n",
       "  width: 10em;\n",
       "  height: 80%;\n",
       "  background: linear-gradient(90deg,#1AAF54 49.3%, transparent 49.3%);\n",
       "}\n",
       "#T_efbf7_row8_col0 {\n",
       "  width: 10em;\n",
       "  height: 80%;\n",
       "  background: linear-gradient(90deg,#1AAF54 77.4%, transparent 77.4%);\n",
       "  width: 10em;\n",
       "  height: 80%;\n",
       "  background: linear-gradient(90deg,#B4B7B9 77.4%, transparent 77.4%);\n",
       "}\n",
       "#T_efbf7_row9_col0 {\n",
       "  width: 10em;\n",
       "  height: 80%;\n",
       "  background: linear-gradient(90deg,#1AAF54 22.6%, transparent 22.6%);\n",
       "  width: 10em;\n",
       "  height: 80%;\n",
       "  background: linear-gradient(90deg,#B4B7B9 22.6%, transparent 22.6%);\n",
       "}\n",
       "#T_efbf7_row10_col0 {\n",
       "  width: 10em;\n",
       "  height: 80%;\n",
       "  background: linear-gradient(90deg,#1AAF54 30.1%, transparent 30.1%);\n",
       "  width: 10em;\n",
       "  height: 80%;\n",
       "  background: linear-gradient(90deg,#B4B7B9 30.1%, transparent 30.1%);\n",
       "}\n",
       "</style>\n",
       "<table id=\"T_efbf7_\">\n",
       "  <thead>\n",
       "    <tr>\n",
       "      <th class=\"blank level0\" >&nbsp;</th>\n",
       "      <th class=\"col_heading level0 col0\" >Scores</th>\n",
       "      <th class=\"col_heading level0 col1\" >Details</th>\n",
       "    </tr>\n",
       "  </thead>\n",
       "  <tbody>\n",
       "    <tr>\n",
       "      <th id=\"T_efbf7_level0_row0\" class=\"row_heading level0 row0\" >AUC</th>\n",
       "      <td id=\"T_efbf7_row0_col0\" class=\"data row0 col0\" >0.872</td>\n",
       "      <td id=\"T_efbf7_row0_col1\" class=\"data row0 col1\" >Area under the ROC curve (true pos. rate vs false pos. rate); ranges from 0.5 (purely random classifier) to 1.0 (perfect classifier)</td>\n",
       "    </tr>\n",
       "    <tr>\n",
       "      <th id=\"T_efbf7_level0_row1\" class=\"row_heading level0 row1\" >True Positive Rate</th>\n",
       "      <td id=\"T_efbf7_row1_col0\" class=\"data row1 col0\" >0.365</td>\n",
       "      <td id=\"T_efbf7_row1_col1\" class=\"data row1 col1\" >36.5% of positive instances were correctly identified.; i.e. 88 \"Defaulted\" labels were correctly identified out of 241 instances; a.k.a Sensitivity/Recall</td>\n",
       "    </tr>\n",
       "    <tr>\n",
       "      <th id=\"T_efbf7_level0_row2\" class=\"row_heading level0 row2\" >True Negative Rate</th>\n",
       "      <td id=\"T_efbf7_row2_col0\" class=\"data row2 col0\" >0.950</td>\n",
       "      <td id=\"T_efbf7_row2_col1\" class=\"data row2 col1\" >95.0% of negative instances were correctly identified.; i.e. 531 \"Not Defaulted\" labels were correctly identified out of 559 instances</td>\n",
       "    </tr>\n",
       "    <tr>\n",
       "      <th id=\"T_efbf7_level0_row3\" class=\"row_heading level0 row3\" >False Positive Rate</th>\n",
       "      <td id=\"T_efbf7_row3_col0\" class=\"data row3 col0\" >0.050</td>\n",
       "      <td id=\"T_efbf7_row3_col1\" class=\"data row3 col1\" >5.0% of negative instances were incorrectly identified as positive; i.e. 28 \"Not Defaulted\" labels were incorrectly identified as \"Defaulted\", out of 559 instances</td>\n",
       "    </tr>\n",
       "    <tr>\n",
       "      <th id=\"T_efbf7_level0_row4\" class=\"row_heading level0 row4\" >False Negative Rate</th>\n",
       "      <td id=\"T_efbf7_row4_col0\" class=\"data row4 col0\" >0.635</td>\n",
       "      <td id=\"T_efbf7_row4_col1\" class=\"data row4 col1\" >63.5% of positive instances were incorrectly identified as negative; i.e. 153 \"Defaulted\" labels were incorrectly identified as \"Not Defaulted\", out of 241 instances</td>\n",
       "    </tr>\n",
       "    <tr>\n",
       "      <th id=\"T_efbf7_level0_row5\" class=\"row_heading level0 row5\" >Positive Predictive Value</th>\n",
       "      <td id=\"T_efbf7_row5_col0\" class=\"data row5 col0\" >0.759</td>\n",
       "      <td id=\"T_efbf7_row5_col1\" class=\"data row5 col1\" >When the model claims an instance is positive, it is correct 75.9% of the time; i.e. out of the 116 times the model predicted \"Defaulted\", it was correct 88 times; a.k.a precision</td>\n",
       "    </tr>\n",
       "    <tr>\n",
       "      <th id=\"T_efbf7_level0_row6\" class=\"row_heading level0 row6\" >Negative Predictive Value</th>\n",
       "      <td id=\"T_efbf7_row6_col0\" class=\"data row6 col0\" >0.776</td>\n",
       "      <td id=\"T_efbf7_row6_col1\" class=\"data row6 col1\" >When the model claims an instance is negative, it is correct 77.6% of the time; i.e. out of the 684 times the model predicted \"Not Defaulted\", it was correct 531 times</td>\n",
       "    </tr>\n",
       "    <tr>\n",
       "      <th id=\"T_efbf7_level0_row7\" class=\"row_heading level0 row7\" >F1 Score</th>\n",
       "      <td id=\"T_efbf7_row7_col0\" class=\"data row7 col0\" >0.493</td>\n",
       "      <td id=\"T_efbf7_row7_col1\" class=\"data row7 col1\" >The F1 score can be interpreted as a weighted average of the precision and recall, where an F1 score reaches its best value at 1 and worst score at 0.</td>\n",
       "    </tr>\n",
       "    <tr>\n",
       "      <th id=\"T_efbf7_level0_row8\" class=\"row_heading level0 row8\" >Accuracy</th>\n",
       "      <td id=\"T_efbf7_row8_col0\" class=\"data row8 col0\" >0.774</td>\n",
       "      <td id=\"T_efbf7_row8_col1\" class=\"data row8 col1\" >77.4% of instances were correctly identified</td>\n",
       "    </tr>\n",
       "    <tr>\n",
       "      <th id=\"T_efbf7_level0_row9\" class=\"row_heading level0 row9\" >Error Rate</th>\n",
       "      <td id=\"T_efbf7_row9_col0\" class=\"data row9 col0\" >0.226</td>\n",
       "      <td id=\"T_efbf7_row9_col1\" class=\"data row9 col1\" >22.6% of instances were incorrectly identified</td>\n",
       "    </tr>\n",
       "    <tr>\n",
       "      <th id=\"T_efbf7_level0_row10\" class=\"row_heading level0 row10\" >% Positive</th>\n",
       "      <td id=\"T_efbf7_row10_col0\" class=\"data row10 col0\" >0.301</td>\n",
       "      <td id=\"T_efbf7_row10_col1\" class=\"data row10 col1\" >30.1% of the data are positive; i.e. out of 800 total observations; 241 are labeled as \"Defaulted\"</td>\n",
       "    </tr>\n",
       "    <tr>\n",
       "      <th id=\"T_efbf7_level0_row11\" class=\"row_heading level0 row11\" >Total Observations</th>\n",
       "      <td id=\"T_efbf7_row11_col0\" class=\"data row11 col0\" >800</td>\n",
       "      <td id=\"T_efbf7_row11_col1\" class=\"data row11 col1\" >There are 800 total observations; i.e. sample size</td>\n",
       "    </tr>\n",
       "  </tbody>\n",
       "</table>\n"
      ],
      "text/plain": [
       "<pandas.io.formats.style.Styler at 0x7fed306834f0>"
      ]
     },
     "execution_count": 70,
     "metadata": {},
     "output_type": "execute_result"
    }
   ],
   "source": [
    "evaluator.all_metrics_df(return_style=True, round_by=3)"
   ]
  },
  {
   "cell_type": "code",
   "execution_count": 71,
   "id": "bd7e99d7",
   "metadata": {
    "pycharm": {
     "name": "#%%\n"
    }
   },
   "outputs": [],
   "source": [
    "del predicted_scores"
   ]
  },
  {
   "cell_type": "markdown",
   "id": "99a47e94",
   "metadata": {},
   "source": [
    "## Test Set Evaluation"
   ]
  },
  {
   "cell_type": "code",
   "execution_count": 72,
   "id": "82b97c55",
   "metadata": {},
   "outputs": [],
   "source": [
    "predicted_scores = fitted_pipeline.predict_proba(X_test)[:, 1]"
   ]
  },
  {
   "cell_type": "code",
   "execution_count": 73,
   "id": "61c68884",
   "metadata": {},
   "outputs": [
    {
     "data": {
      "text/plain": [
       "array([0.3364269 , 0.3970507 , 0.5378342 , 0.29817235, 0.15741079,\n",
       "       0.31766537, 0.13673802, 0.39016527, 0.13539012, 0.16803306],\n",
       "      dtype=float32)"
      ]
     },
     "execution_count": 73,
     "metadata": {},
     "output_type": "execute_result"
    }
   ],
   "source": [
    "predicted_scores[0:10]"
   ]
  },
  {
   "cell_type": "code",
   "execution_count": 74,
   "id": "648c23c9",
   "metadata": {},
   "outputs": [
    {
     "data": {
      "image/png": "[encoded data removed]",
      "text/plain": [
       "<Figure size 432x288 with 1 Axes>"
      ]
     },
     "metadata": {
      "needs_background": "light"
     },
     "output_type": "display_data"
    }
   ],
   "source": [
    "sns.histplot(predicted_scores)\n",
    "plt.tight_layout()"
   ]
  },
  {
   "cell_type": "code",
   "execution_count": 75,
   "id": "f6ce7733",
   "metadata": {
    "pycharm": {
     "name": "#%%\n"
    }
   },
   "outputs": [
    {
     "data": {
      "text/plain": [
       "0        Defaulted\n",
       "1    Not Defaulted\n",
       "2    Not Defaulted\n",
       "3    Not Defaulted\n",
       "4    Not Defaulted\n",
       "dtype: object"
      ]
     },
     "execution_count": 75,
     "metadata": {},
     "output_type": "execute_result"
    }
   ],
   "source": [
    "y_test_cat = pd.Series(y_test).replace({1: 'Defaulted', 0: 'Not Defaulted'})\n",
    "y_test_cat.head()"
   ]
  },
  {
   "cell_type": "code",
   "execution_count": 76,
   "id": "38f2c315",
   "metadata": {
    "pycharm": {
     "name": "#%%\n"
    }
   },
   "outputs": [
    {
     "data": {
      "image/png": "[encoded data removed]",
      "text/plain": [
       "<Figure size 720x360 with 2 Axes>"
      ]
     },
     "metadata": {
      "needs_background": "light"
     },
     "output_type": "display_data"
    }
   ],
   "source": [
    "axes = sns.displot(\n",
    "    pd.DataFrame({\n",
    "        'prediction': predicted_scores,\n",
    "        'actual': y_test_cat\n",
    "    }),\n",
    "    x='prediction',\n",
    "    col='actual'\n",
    ")\n",
    "for axis in axes.axes.flat:\n",
    "    axis.axvline(x=0.5, ymin=0, ymax=100, color='red')\n",
    "plt.tight_layout()"
   ]
  },
  {
   "cell_type": "code",
   "execution_count": 77,
   "id": "5d3b9658",
   "metadata": {
    "pycharm": {
     "name": "#%%\n"
    }
   },
   "outputs": [],
   "source": [
    "del y_test_cat\n",
    "del axes"
   ]
  },
  {
   "cell_type": "code",
   "execution_count": 78,
   "id": "4b64e733",
   "metadata": {},
   "outputs": [],
   "source": [
    "evaluator = hlp.sklearn_eval.TwoClassEvaluator(\n",
    "    actual_values=y_test,\n",
    "    predicted_scores=predicted_scores,\n",
    "    labels=labels_negative_positive,\n",
    "    score_threshold=0.5\n",
    ")"
   ]
  },
  {
   "cell_type": "code",
   "execution_count": 79,
   "id": "a17343a2",
   "metadata": {},
   "outputs": [
    {
     "data": {
      "image/png": "[encoded data removed]",
      "text/plain": [
       "<Figure size 432x288 with 2 Axes>"
      ]
     },
     "metadata": {
      "needs_background": "light"
     },
     "output_type": "display_data"
    }
   ],
   "source": [
    "evaluator.plot_confusion_matrix()"
   ]
  },
  {
   "cell_type": "code",
   "execution_count": 80,
   "id": "9516f3bb",
   "metadata": {},
   "outputs": [
    {
     "data": {
      "text/html": [
       "<style type=\"text/css\">\n",
       "#T_c6901_row0_col0 {\n",
       "  width: 10em;\n",
       "  height: 80%;\n",
       "  background: linear-gradient(90deg,#1AAF54 81.1%, transparent 81.1%);\n",
       "}\n",
       "#T_c6901_row1_col0 {\n",
       "  width: 10em;\n",
       "  height: 80%;\n",
       "  background: linear-gradient(90deg,#1AAF54 20.3%, transparent 20.3%);\n",
       "}\n",
       "#T_c6901_row2_col0 {\n",
       "  width: 10em;\n",
       "  height: 80%;\n",
       "  background: linear-gradient(90deg,#1AAF54 96.5%, transparent 96.5%);\n",
       "}\n",
       "#T_c6901_row3_col0 {\n",
       "  width: 10em;\n",
       "  height: 80%;\n",
       "  background: linear-gradient(90deg,#1AAF54 3.5%, transparent 3.5%);\n",
       "  width: 10em;\n",
       "  height: 80%;\n",
       "  background: linear-gradient(90deg,#FF420E 3.5%, transparent 3.5%);\n",
       "}\n",
       "#T_c6901_row4_col0 {\n",
       "  width: 10em;\n",
       "  height: 80%;\n",
       "  background: linear-gradient(90deg,#1AAF54 79.7%, transparent 79.7%);\n",
       "  width: 10em;\n",
       "  height: 80%;\n",
       "  background: linear-gradient(90deg,#FF420E 79.7%, transparent 79.7%);\n",
       "}\n",
       "#T_c6901_row5_col0 {\n",
       "  width: 10em;\n",
       "  height: 80%;\n",
       "  background: linear-gradient(90deg,#1AAF54 70.6%, transparent 70.6%);\n",
       "}\n",
       "#T_c6901_row6_col0 {\n",
       "  width: 10em;\n",
       "  height: 80%;\n",
       "  background: linear-gradient(90deg,#1AAF54 74.3%, transparent 74.3%);\n",
       "}\n",
       "#T_c6901_row7_col0 {\n",
       "  width: 10em;\n",
       "  height: 80%;\n",
       "  background: linear-gradient(90deg,#1AAF54 31.6%, transparent 31.6%);\n",
       "}\n",
       "#T_c6901_row8_col0 {\n",
       "  width: 10em;\n",
       "  height: 80%;\n",
       "  background: linear-gradient(90deg,#1AAF54 74.0%, transparent 74.0%);\n",
       "  width: 10em;\n",
       "  height: 80%;\n",
       "  background: linear-gradient(90deg,#B4B7B9 74.0%, transparent 74.0%);\n",
       "}\n",
       "#T_c6901_row9_col0 {\n",
       "  width: 10em;\n",
       "  height: 80%;\n",
       "  background: linear-gradient(90deg,#1AAF54 26.0%, transparent 26.0%);\n",
       "  width: 10em;\n",
       "  height: 80%;\n",
       "  background: linear-gradient(90deg,#B4B7B9 26.0%, transparent 26.0%);\n",
       "}\n",
       "#T_c6901_row10_col0 {\n",
       "  width: 10em;\n",
       "  height: 80%;\n",
       "  background: linear-gradient(90deg,#1AAF54 29.5%, transparent 29.5%);\n",
       "  width: 10em;\n",
       "  height: 80%;\n",
       "  background: linear-gradient(90deg,#B4B7B9 29.5%, transparent 29.5%);\n",
       "}\n",
       "</style>\n",
       "<table id=\"T_c6901_\">\n",
       "  <thead>\n",
       "    <tr>\n",
       "      <th class=\"blank level0\" >&nbsp;</th>\n",
       "      <th class=\"col_heading level0 col0\" >Scores</th>\n",
       "      <th class=\"col_heading level0 col1\" >Details</th>\n",
       "    </tr>\n",
       "  </thead>\n",
       "  <tbody>\n",
       "    <tr>\n",
       "      <th id=\"T_c6901_level0_row0\" class=\"row_heading level0 row0\" >AUC</th>\n",
       "      <td id=\"T_c6901_row0_col0\" class=\"data row0 col0\" >0.811</td>\n",
       "      <td id=\"T_c6901_row0_col1\" class=\"data row0 col1\" >Area under the ROC curve (true pos. rate vs false pos. rate); ranges from 0.5 (purely random classifier) to 1.0 (perfect classifier)</td>\n",
       "    </tr>\n",
       "    <tr>\n",
       "      <th id=\"T_c6901_level0_row1\" class=\"row_heading level0 row1\" >True Positive Rate</th>\n",
       "      <td id=\"T_c6901_row1_col0\" class=\"data row1 col0\" >0.203</td>\n",
       "      <td id=\"T_c6901_row1_col1\" class=\"data row1 col1\" >20.3% of positive instances were correctly identified.; i.e. 12 \"Defaulted\" labels were correctly identified out of 59 instances; a.k.a Sensitivity/Recall</td>\n",
       "    </tr>\n",
       "    <tr>\n",
       "      <th id=\"T_c6901_level0_row2\" class=\"row_heading level0 row2\" >True Negative Rate</th>\n",
       "      <td id=\"T_c6901_row2_col0\" class=\"data row2 col0\" >0.965</td>\n",
       "      <td id=\"T_c6901_row2_col1\" class=\"data row2 col1\" >96.5% of negative instances were correctly identified.; i.e. 136 \"Not Defaulted\" labels were correctly identified out of 141 instances</td>\n",
       "    </tr>\n",
       "    <tr>\n",
       "      <th id=\"T_c6901_level0_row3\" class=\"row_heading level0 row3\" >False Positive Rate</th>\n",
       "      <td id=\"T_c6901_row3_col0\" class=\"data row3 col0\" >0.035</td>\n",
       "      <td id=\"T_c6901_row3_col1\" class=\"data row3 col1\" >3.5% of negative instances were incorrectly identified as positive; i.e. 5 \"Not Defaulted\" labels were incorrectly identified as \"Defaulted\", out of 141 instances</td>\n",
       "    </tr>\n",
       "    <tr>\n",
       "      <th id=\"T_c6901_level0_row4\" class=\"row_heading level0 row4\" >False Negative Rate</th>\n",
       "      <td id=\"T_c6901_row4_col0\" class=\"data row4 col0\" >0.797</td>\n",
       "      <td id=\"T_c6901_row4_col1\" class=\"data row4 col1\" >79.7% of positive instances were incorrectly identified as negative; i.e. 47 \"Defaulted\" labels were incorrectly identified as \"Not Defaulted\", out of 59 instances</td>\n",
       "    </tr>\n",
       "    <tr>\n",
       "      <th id=\"T_c6901_level0_row5\" class=\"row_heading level0 row5\" >Positive Predictive Value</th>\n",
       "      <td id=\"T_c6901_row5_col0\" class=\"data row5 col0\" >0.706</td>\n",
       "      <td id=\"T_c6901_row5_col1\" class=\"data row5 col1\" >When the model claims an instance is positive, it is correct 70.6% of the time; i.e. out of the 17 times the model predicted \"Defaulted\", it was correct 12 times; a.k.a precision</td>\n",
       "    </tr>\n",
       "    <tr>\n",
       "      <th id=\"T_c6901_level0_row6\" class=\"row_heading level0 row6\" >Negative Predictive Value</th>\n",
       "      <td id=\"T_c6901_row6_col0\" class=\"data row6 col0\" >0.743</td>\n",
       "      <td id=\"T_c6901_row6_col1\" class=\"data row6 col1\" >When the model claims an instance is negative, it is correct 74.3% of the time; i.e. out of the 183 times the model predicted \"Not Defaulted\", it was correct 136 times</td>\n",
       "    </tr>\n",
       "    <tr>\n",
       "      <th id=\"T_c6901_level0_row7\" class=\"row_heading level0 row7\" >F1 Score</th>\n",
       "      <td id=\"T_c6901_row7_col0\" class=\"data row7 col0\" >0.316</td>\n",
       "      <td id=\"T_c6901_row7_col1\" class=\"data row7 col1\" >The F1 score can be interpreted as a weighted average of the precision and recall, where an F1 score reaches its best value at 1 and worst score at 0.</td>\n",
       "    </tr>\n",
       "    <tr>\n",
       "      <th id=\"T_c6901_level0_row8\" class=\"row_heading level0 row8\" >Accuracy</th>\n",
       "      <td id=\"T_c6901_row8_col0\" class=\"data row8 col0\" >0.740</td>\n",
       "      <td id=\"T_c6901_row8_col1\" class=\"data row8 col1\" >74.0% of instances were correctly identified</td>\n",
       "    </tr>\n",
       "    <tr>\n",
       "      <th id=\"T_c6901_level0_row9\" class=\"row_heading level0 row9\" >Error Rate</th>\n",
       "      <td id=\"T_c6901_row9_col0\" class=\"data row9 col0\" >0.260</td>\n",
       "      <td id=\"T_c6901_row9_col1\" class=\"data row9 col1\" >26.0% of instances were incorrectly identified</td>\n",
       "    </tr>\n",
       "    <tr>\n",
       "      <th id=\"T_c6901_level0_row10\" class=\"row_heading level0 row10\" >% Positive</th>\n",
       "      <td id=\"T_c6901_row10_col0\" class=\"data row10 col0\" >0.295</td>\n",
       "      <td id=\"T_c6901_row10_col1\" class=\"data row10 col1\" >29.5% of the data are positive; i.e. out of 200 total observations; 59 are labeled as \"Defaulted\"</td>\n",
       "    </tr>\n",
       "    <tr>\n",
       "      <th id=\"T_c6901_level0_row11\" class=\"row_heading level0 row11\" >Total Observations</th>\n",
       "      <td id=\"T_c6901_row11_col0\" class=\"data row11 col0\" >200</td>\n",
       "      <td id=\"T_c6901_row11_col1\" class=\"data row11 col1\" >There are 200 total observations; i.e. sample size</td>\n",
       "    </tr>\n",
       "  </tbody>\n",
       "</table>\n"
      ],
      "text/plain": [
       "<pandas.io.formats.style.Styler at 0x7fed306b05e0>"
      ]
     },
     "execution_count": 80,
     "metadata": {},
     "output_type": "execute_result"
    }
   ],
   "source": [
    "evaluator.all_metrics_df(return_style=True, round_by=3)"
   ]
  },
  {
   "cell_type": "markdown",
   "id": "09a3204d",
   "metadata": {},
   "source": [
    "Compare results against scores if we predicted all `Good`"
   ]
  },
  {
   "cell_type": "code",
   "execution_count": 81,
   "id": "59c27052",
   "metadata": {},
   "outputs": [],
   "source": [
    "dummy_predicted_scores = np.array([0.99] * len(predicted_scores))"
   ]
  },
  {
   "cell_type": "code",
   "execution_count": 82,
   "id": "f3278fdd",
   "metadata": {},
   "outputs": [
    {
     "data": {
      "text/html": [
       "<style type=\"text/css\">\n",
       "#T_13623_row0_col0 {\n",
       "  width: 10em;\n",
       "  height: 80%;\n",
       "  background: linear-gradient(90deg,#1AAF54 50.0%, transparent 50.0%);\n",
       "}\n",
       "#T_13623_row1_col0 {\n",
       "  width: 10em;\n",
       "  height: 80%;\n",
       "  background: linear-gradient(90deg,#1AAF54 100.0%, transparent 100.0%);\n",
       "}\n",
       "#T_13623_row2_col0, #T_13623_row6_col0 {\n",
       "  width: 10em;\n",
       "  height: 80%;\n",
       "}\n",
       "#T_13623_row3_col0 {\n",
       "  width: 10em;\n",
       "  height: 80%;\n",
       "  background: linear-gradient(90deg,#1AAF54 100.0%, transparent 100.0%);\n",
       "  width: 10em;\n",
       "  height: 80%;\n",
       "  background: linear-gradient(90deg,#FF420E 100.0%, transparent 100.0%);\n",
       "}\n",
       "#T_13623_row4_col0 {\n",
       "  width: 10em;\n",
       "  height: 80%;\n",
       "  width: 10em;\n",
       "  height: 80%;\n",
       "}\n",
       "#T_13623_row5_col0 {\n",
       "  width: 10em;\n",
       "  height: 80%;\n",
       "  background: linear-gradient(90deg,#1AAF54 29.5%, transparent 29.5%);\n",
       "}\n",
       "#T_13623_row7_col0 {\n",
       "  width: 10em;\n",
       "  height: 80%;\n",
       "  background: linear-gradient(90deg,#1AAF54 45.6%, transparent 45.6%);\n",
       "}\n",
       "#T_13623_row8_col0, #T_13623_row10_col0 {\n",
       "  width: 10em;\n",
       "  height: 80%;\n",
       "  background: linear-gradient(90deg,#1AAF54 29.5%, transparent 29.5%);\n",
       "  width: 10em;\n",
       "  height: 80%;\n",
       "  background: linear-gradient(90deg,#B4B7B9 29.5%, transparent 29.5%);\n",
       "}\n",
       "#T_13623_row9_col0 {\n",
       "  width: 10em;\n",
       "  height: 80%;\n",
       "  background: linear-gradient(90deg,#1AAF54 70.5%, transparent 70.5%);\n",
       "  width: 10em;\n",
       "  height: 80%;\n",
       "  background: linear-gradient(90deg,#B4B7B9 70.5%, transparent 70.5%);\n",
       "}\n",
       "</style>\n",
       "<table id=\"T_13623_\">\n",
       "  <thead>\n",
       "    <tr>\n",
       "      <th class=\"blank level0\" >&nbsp;</th>\n",
       "      <th class=\"col_heading level0 col0\" >Scores</th>\n",
       "      <th class=\"col_heading level0 col1\" >Details</th>\n",
       "    </tr>\n",
       "  </thead>\n",
       "  <tbody>\n",
       "    <tr>\n",
       "      <th id=\"T_13623_level0_row0\" class=\"row_heading level0 row0\" >AUC</th>\n",
       "      <td id=\"T_13623_row0_col0\" class=\"data row0 col0\" >0.500</td>\n",
       "      <td id=\"T_13623_row0_col1\" class=\"data row0 col1\" >Area under the ROC curve (true pos. rate vs false pos. rate); ranges from 0.5 (purely random classifier) to 1.0 (perfect classifier)</td>\n",
       "    </tr>\n",
       "    <tr>\n",
       "      <th id=\"T_13623_level0_row1\" class=\"row_heading level0 row1\" >True Positive Rate</th>\n",
       "      <td id=\"T_13623_row1_col0\" class=\"data row1 col0\" >1.000</td>\n",
       "      <td id=\"T_13623_row1_col1\" class=\"data row1 col1\" >100.0% of positive instances were correctly identified.; i.e. 59 \"Good\" labels were correctly identified out of 59 instances; a.k.a Sensitivity/Recall</td>\n",
       "    </tr>\n",
       "    <tr>\n",
       "      <th id=\"T_13623_level0_row2\" class=\"row_heading level0 row2\" >True Negative Rate</th>\n",
       "      <td id=\"T_13623_row2_col0\" class=\"data row2 col0\" >0.000</td>\n",
       "      <td id=\"T_13623_row2_col1\" class=\"data row2 col1\" >0.0% of negative instances were correctly identified.; i.e. 0 \"Bad\" labels were correctly identified out of 141 instances</td>\n",
       "    </tr>\n",
       "    <tr>\n",
       "      <th id=\"T_13623_level0_row3\" class=\"row_heading level0 row3\" >False Positive Rate</th>\n",
       "      <td id=\"T_13623_row3_col0\" class=\"data row3 col0\" >1.000</td>\n",
       "      <td id=\"T_13623_row3_col1\" class=\"data row3 col1\" >100.0% of negative instances were incorrectly identified as positive; i.e. 141 \"Bad\" labels were incorrectly identified as \"Good\", out of 141 instances</td>\n",
       "    </tr>\n",
       "    <tr>\n",
       "      <th id=\"T_13623_level0_row4\" class=\"row_heading level0 row4\" >False Negative Rate</th>\n",
       "      <td id=\"T_13623_row4_col0\" class=\"data row4 col0\" >0.000</td>\n",
       "      <td id=\"T_13623_row4_col1\" class=\"data row4 col1\" >0.0% of positive instances were incorrectly identified as negative; i.e. 0 \"Good\" labels were incorrectly identified as \"Bad\", out of 59 instances</td>\n",
       "    </tr>\n",
       "    <tr>\n",
       "      <th id=\"T_13623_level0_row5\" class=\"row_heading level0 row5\" >Positive Predictive Value</th>\n",
       "      <td id=\"T_13623_row5_col0\" class=\"data row5 col0\" >0.295</td>\n",
       "      <td id=\"T_13623_row5_col1\" class=\"data row5 col1\" >When the model claims an instance is positive, it is correct 29.5% of the time; i.e. out of the 200 times the model predicted \"Good\", it was correct 59 times; a.k.a precision</td>\n",
       "    </tr>\n",
       "    <tr>\n",
       "      <th id=\"T_13623_level0_row6\" class=\"row_heading level0 row6\" >Negative Predictive Value</th>\n",
       "      <td id=\"T_13623_row6_col0\" class=\"data row6 col0\" >0.000</td>\n",
       "      <td id=\"T_13623_row6_col1\" class=\"data row6 col1\" >When the model claims an instance is negative, it is correct 0.0% of the time; i.e. out of the 0 times the model predicted \"Bad\", it was correct 0 times</td>\n",
       "    </tr>\n",
       "    <tr>\n",
       "      <th id=\"T_13623_level0_row7\" class=\"row_heading level0 row7\" >F1 Score</th>\n",
       "      <td id=\"T_13623_row7_col0\" class=\"data row7 col0\" >0.456</td>\n",
       "      <td id=\"T_13623_row7_col1\" class=\"data row7 col1\" >The F1 score can be interpreted as a weighted average of the precision and recall, where an F1 score reaches its best value at 1 and worst score at 0.</td>\n",
       "    </tr>\n",
       "    <tr>\n",
       "      <th id=\"T_13623_level0_row8\" class=\"row_heading level0 row8\" >Accuracy</th>\n",
       "      <td id=\"T_13623_row8_col0\" class=\"data row8 col0\" >0.295</td>\n",
       "      <td id=\"T_13623_row8_col1\" class=\"data row8 col1\" >29.5% of instances were correctly identified</td>\n",
       "    </tr>\n",
       "    <tr>\n",
       "      <th id=\"T_13623_level0_row9\" class=\"row_heading level0 row9\" >Error Rate</th>\n",
       "      <td id=\"T_13623_row9_col0\" class=\"data row9 col0\" >0.705</td>\n",
       "      <td id=\"T_13623_row9_col1\" class=\"data row9 col1\" >70.5% of instances were incorrectly identified</td>\n",
       "    </tr>\n",
       "    <tr>\n",
       "      <th id=\"T_13623_level0_row10\" class=\"row_heading level0 row10\" >% Positive</th>\n",
       "      <td id=\"T_13623_row10_col0\" class=\"data row10 col0\" >0.295</td>\n",
       "      <td id=\"T_13623_row10_col1\" class=\"data row10 col1\" >29.5% of the data are positive; i.e. out of 200 total observations; 59 are labeled as \"Good\"</td>\n",
       "    </tr>\n",
       "    <tr>\n",
       "      <th id=\"T_13623_level0_row11\" class=\"row_heading level0 row11\" >Total Observations</th>\n",
       "      <td id=\"T_13623_row11_col0\" class=\"data row11 col0\" >200</td>\n",
       "      <td id=\"T_13623_row11_col1\" class=\"data row11 col1\" >There are 200 total observations; i.e. sample size</td>\n",
       "    </tr>\n",
       "  </tbody>\n",
       "</table>\n"
      ],
      "text/plain": [
       "<pandas.io.formats.style.Styler at 0x7fed30683520>"
      ]
     },
     "execution_count": 82,
     "metadata": {},
     "output_type": "execute_result"
    }
   ],
   "source": [
    "dummy_eval = hlp.sklearn_eval.TwoClassEvaluator(\n",
    "    actual_values=y_test,\n",
    "    predicted_scores=dummy_predicted_scores,\n",
    "    labels=('Bad', 'Good'),\n",
    "    score_threshold=0.5\n",
    ")\n",
    "dummy_eval.all_metrics_df(return_style=True, round_by=3)"
   ]
  },
  {
   "cell_type": "code",
   "execution_count": 83,
   "id": "78c90230",
   "metadata": {},
   "outputs": [
    {
     "data": {
      "application/vnd.plotly.v1+json": {
       "config": {
        "plotlyServerURL": "https://plot.ly"
       },
       "data": [
        {
         "hovertemplate": "False Positive Rate=%{x}<br>True Positive Rate=%{y}<extra></extra>",
         "legendgroup": "",
         "line": {
          "color": "#7A7A7A",
          "dash": "solid"
         },
         "marker": {
          "symbol": "circle"
         },
         "mode": "lines",
         "name": "",
         "orientation": "v",
         "showlegend": false,
         "type": "scatter",
         "x": [
          1,
          1,
          1,
          1,
          1,
          1,
          0.9929078014184397,
          0.9929078014184397,
          0.9858156028368794,
          0.9787234042553191,
          0.9645390070921985,
          0.9432624113475178,
          0.9219858156028369,
          0.8865248226950354,
          0.8226950354609929,
          0.8014184397163121,
          0.7872340425531915,
          0.7588652482269503,
          0.7021276595744681,
          0.6312056737588653,
          0.574468085106383,
          0.5390070921985816,
          0.5106382978723404,
          0.48226950354609927,
          0.45390070921985815,
          0.41843971631205673,
          0.3617021276595745,
          0.3404255319148936,
          0.3191489361702128,
          0.3049645390070922,
          0.2765957446808511,
          0.2765957446808511,
          0.2553191489361702,
          0.23404255319148937,
          0.2198581560283688,
          0.2127659574468085,
          0.19148936170212766,
          0.18439716312056736,
          0.15602836879432624,
          0.14184397163120568,
          0.09929078014184398,
          0.0851063829787234,
          0.0851063829787234,
          0.0851063829787234,
          0.07801418439716312,
          0.07801418439716312,
          0.07092198581560284,
          0.05673758865248227,
          0.04964539007092199,
          0.0425531914893617,
          0.03546099290780142,
          0.028368794326241134,
          0.028368794326241134,
          0.028368794326241134,
          0.02127659574468085,
          0.014184397163120567,
          0.014184397163120567,
          0.014184397163120567,
          0.0070921985815602835,
          0.0070921985815602835,
          0.0070921985815602835,
          0.0070921985815602835,
          0,
          0,
          0,
          0,
          0,
          0,
          0,
          0,
          0,
          0,
          0,
          0,
          0,
          0,
          0,
          0,
          0,
          0,
          0,
          0,
          0,
          0,
          0,
          0,
          0,
          0,
          0,
          0,
          0,
          0,
          0,
          0,
          0,
          0,
          0,
          0,
          0,
          0,
          0
         ],
         "xaxis": "x",
         "y": [
          1,
          1,
          1,
          1,
          1,
          1,
          1,
          1,
          1,
          1,
          1,
          1,
          1,
          1,
          1,
          1,
          0.9830508474576272,
          0.9661016949152542,
          0.9661016949152542,
          0.9661016949152542,
          0.9152542372881356,
          0.8813559322033898,
          0.8813559322033898,
          0.8813559322033898,
          0.864406779661017,
          0.8305084745762712,
          0.8135593220338984,
          0.7966101694915254,
          0.7966101694915254,
          0.7966101694915254,
          0.7796610169491526,
          0.7627118644067796,
          0.7627118644067796,
          0.7627118644067796,
          0.6949152542372882,
          0.6610169491525424,
          0.6440677966101694,
          0.6440677966101694,
          0.6101694915254238,
          0.576271186440678,
          0.5254237288135594,
          0.4745762711864407,
          0.423728813559322,
          0.423728813559322,
          0.3898305084745763,
          0.3898305084745763,
          0.3728813559322034,
          0.288135593220339,
          0.2711864406779661,
          0.22033898305084745,
          0.2033898305084746,
          0.2033898305084746,
          0.1864406779661017,
          0.15254237288135594,
          0.15254237288135594,
          0.13559322033898305,
          0.13559322033898305,
          0.1016949152542373,
          0.05084745762711865,
          0.05084745762711865,
          0.03389830508474576,
          0.03389830508474576,
          0.03389830508474576,
          0.03389830508474576,
          0.03389830508474576,
          0.01694915254237288,
          0.01694915254237288,
          0.01694915254237288,
          0.01694915254237288,
          0.01694915254237288,
          0.01694915254237288,
          0.01694915254237288,
          0.01694915254237288,
          0.01694915254237288,
          0.01694915254237288,
          0.01694915254237288,
          0.01694915254237288,
          0,
          0,
          0,
          0,
          0,
          0,
          0,
          0,
          0,
          0,
          0,
          0,
          0,
          0,
          0,
          0,
          0,
          0,
          0,
          0,
          0,
          0,
          0,
          0
         ],
         "yaxis": "y"
        },
        {
         "hovertemplate": "False Positive Rate=%{x}<br>True Positive Rate=%{y}<br>threshold=%{marker.color}<extra></extra>",
         "legendgroup": "",
         "marker": {
          "color": [
           0,
           0.01,
           0.02,
           0.03,
           0.04,
           0.05,
           0.06,
           0.07,
           0.08,
           0.09,
           0.1,
           0.11,
           0.12,
           0.13,
           0.14,
           0.15,
           0.16,
           0.17,
           0.18,
           0.19,
           0.2,
           0.21,
           0.22,
           0.23,
           0.24,
           0.25,
           0.26,
           0.27,
           0.28,
           0.29,
           0.3,
           0.31,
           0.32,
           0.33,
           0.34,
           0.35000000000000003,
           0.36,
           0.37,
           0.38,
           0.39,
           0.4,
           0.41000000000000003,
           0.42,
           0.43,
           0.44,
           0.45,
           0.46,
           0.47000000000000003,
           0.48,
           0.49,
           0.5,
           0.51,
           0.52,
           0.53,
           0.54,
           0.55,
           0.56,
           0.5700000000000001,
           0.58,
           0.59,
           0.6,
           0.61,
           0.62,
           0.63,
           0.64,
           0.65,
           0.66,
           0.67,
           0.68,
           0.6900000000000001,
           0.7000000000000001,
           0.71,
           0.72,
           0.73,
           0.74,
           0.75,
           0.76,
           0.77,
           0.78,
           0.79,
           0.8,
           0.81,
           0.8200000000000001,
           0.8300000000000001,
           0.84,
           0.85,
           0.86,
           0.87,
           0.88,
           0.89,
           0.9,
           0.91,
           0.92,
           0.93,
           0.9400000000000001,
           0.9500000000000001,
           0.96,
           0.97,
           0.98,
           0.99,
           1
          ],
          "coloraxis": "coloraxis",
          "symbol": "circle"
         },
         "mode": "markers",
         "name": "",
         "orientation": "v",
         "showlegend": false,
         "type": "scatter",
         "x": [
          1,
          1,
          1,
          1,
          1,
          1,
          0.9929078014184397,
          0.9929078014184397,
          0.9858156028368794,
          0.9787234042553191,
          0.9645390070921985,
          0.9432624113475178,
          0.9219858156028369,
          0.8865248226950354,
          0.8226950354609929,
          0.8014184397163121,
          0.7872340425531915,
          0.7588652482269503,
          0.7021276595744681,
          0.6312056737588653,
          0.574468085106383,
          0.5390070921985816,
          0.5106382978723404,
          0.48226950354609927,
          0.45390070921985815,
          0.41843971631205673,
          0.3617021276595745,
          0.3404255319148936,
          0.3191489361702128,
          0.3049645390070922,
          0.2765957446808511,
          0.2765957446808511,
          0.2553191489361702,
          0.23404255319148937,
          0.2198581560283688,
          0.2127659574468085,
          0.19148936170212766,
          0.18439716312056736,
          0.15602836879432624,
          0.14184397163120568,
          0.09929078014184398,
          0.0851063829787234,
          0.0851063829787234,
          0.0851063829787234,
          0.07801418439716312,
          0.07801418439716312,
          0.07092198581560284,
          0.05673758865248227,
          0.04964539007092199,
          0.0425531914893617,
          0.03546099290780142,
          0.028368794326241134,
          0.028368794326241134,
          0.028368794326241134,
          0.02127659574468085,
          0.014184397163120567,
          0.014184397163120567,
          0.014184397163120567,
          0.0070921985815602835,
          0.0070921985815602835,
          0.0070921985815602835,
          0.0070921985815602835,
          0,
          0,
          0,
          0,
          0,
          0,
          0,
          0,
          0,
          0,
          0,
          0,
          0,
          0,
          0,
          0,
          0,
          0,
          0,
          0,
          0,
          0,
          0,
          0,
          0,
          0,
          0,
          0,
          0,
          0,
          0,
          0,
          0,
          0,
          0,
          0,
          0,
          0,
          0
         ],
         "xaxis": "x",
         "y": [
          1,
          1,
          1,
          1,
          1,
          1,
          1,
          1,
          1,
          1,
          1,
          1,
          1,
          1,
          1,
          1,
          0.9830508474576272,
          0.9661016949152542,
          0.9661016949152542,
          0.9661016949152542,
          0.9152542372881356,
          0.8813559322033898,
          0.8813559322033898,
          0.8813559322033898,
          0.864406779661017,
          0.8305084745762712,
          0.8135593220338984,
          0.7966101694915254,
          0.7966101694915254,
          0.7966101694915254,
          0.7796610169491526,
          0.7627118644067796,
          0.7627118644067796,
          0.7627118644067796,
          0.6949152542372882,
          0.6610169491525424,
          0.6440677966101694,
          0.6440677966101694,
          0.6101694915254238,
          0.576271186440678,
          0.5254237288135594,
          0.4745762711864407,
          0.423728813559322,
          0.423728813559322,
          0.3898305084745763,
          0.3898305084745763,
          0.3728813559322034,
          0.288135593220339,
          0.2711864406779661,
          0.22033898305084745,
          0.2033898305084746,
          0.2033898305084746,
          0.1864406779661017,
          0.15254237288135594,
          0.15254237288135594,
          0.13559322033898305,
          0.13559322033898305,
          0.1016949152542373,
          0.05084745762711865,
          0.05084745762711865,
          0.03389830508474576,
          0.03389830508474576,
          0.03389830508474576,
          0.03389830508474576,
          0.03389830508474576,
          0.01694915254237288,
          0.01694915254237288,
          0.01694915254237288,
          0.01694915254237288,
          0.01694915254237288,
          0.01694915254237288,
          0.01694915254237288,
          0.01694915254237288,
          0.01694915254237288,
          0.01694915254237288,
          0.01694915254237288,
          0.01694915254237288,
          0,
          0,
          0,
          0,
          0,
          0,
          0,
          0,
          0,
          0,
          0,
          0,
          0,
          0,
          0,
          0,
          0,
          0,
          0,
          0,
          0,
          0,
          0,
          0
         ],
         "yaxis": "y"
        },
        {
         "hovertemplate": "False Positive Rate=%{x}<br>True Positive Rate=%{y}<br>size=%{marker.size}<extra></extra>",
         "legendgroup": "",
         "marker": {
          "color": "#636efa",
          "size": [
           2
          ],
          "sizemode": "area",
          "sizeref": 0.005,
          "symbol": "circle"
         },
         "mode": "markers",
         "name": "",
         "orientation": "v",
         "showlegend": false,
         "type": "scatter",
         "x": [
          0.03546099290780142
         ],
         "xaxis": "x",
         "y": [
          0.2033898305084746
         ],
         "yaxis": "y"
        }
       ],
       "layout": {
        "height": 550,
        "legend": {
         "tracegroupgap": 0
        },
        "template": {
         "data": {
          "bar": [
           {
            "error_x": {
             "color": "#2a3f5f"
            },
            "error_y": {
             "color": "#2a3f5f"
            },
            "marker": {
             "line": {
              "color": "#E5ECF6",
              "width": 0.5
             },
             "pattern": {
              "fillmode": "overlay",
              "size": 10,
              "solidity": 0.2
             }
            },
            "type": "bar"
           }
          ],
          "barpolar": [
           {
            "marker": {
             "line": {
              "color": "#E5ECF6",
              "width": 0.5
             },
             "pattern": {
              "fillmode": "overlay",
              "size": 10,
              "solidity": 0.2
             }
            },
            "type": "barpolar"
           }
          ],
          "carpet": [
           {
            "aaxis": {
             "endlinecolor": "#2a3f5f",
             "gridcolor": "white",
             "linecolor": "white",
             "minorgridcolor": "white",
             "startlinecolor": "#2a3f5f"
            },
            "baxis": {
             "endlinecolor": "#2a3f5f",
             "gridcolor": "white",
             "linecolor": "white",
             "minorgridcolor": "white",
             "startlinecolor": "#2a3f5f"
            },
            "type": "carpet"
           }
          ],
          "choropleth": [
           {
            "colorbar": {
             "outlinewidth": 0,
             "ticks": ""
            },
            "type": "choropleth"
           }
          ],
          "contour": [
           {
            "colorbar": {
             "outlinewidth": 0,
             "ticks": ""
            },
            "colorscale": [
             [
              0,
              "#0d0887"
             ],
             [
              0.1111111111111111,
              "#46039f"
             ],
             [
              0.2222222222222222,
              "#7201a8"
             ],
             [
              0.3333333333333333,
              "#9c179e"
             ],
             [
              0.4444444444444444,
              "#bd3786"
             ],
             [
              0.5555555555555556,
              "#d8576b"
             ],
             [
              0.6666666666666666,
              "#ed7953"
             ],
             [
              0.7777777777777778,
              "#fb9f3a"
             ],
             [
              0.8888888888888888,
              "#fdca26"
             ],
             [
              1,
              "#f0f921"
             ]
            ],
            "type": "contour"
           }
          ],
          "contourcarpet": [
           {
            "colorbar": {
             "outlinewidth": 0,
             "ticks": ""
            },
            "type": "contourcarpet"
           }
          ],
          "heatmap": [
           {
            "colorbar": {
             "outlinewidth": 0,
             "ticks": ""
            },
            "colorscale": [
             [
              0,
              "#0d0887"
             ],
             [
              0.1111111111111111,
              "#46039f"
             ],
             [
              0.2222222222222222,
              "#7201a8"
             ],
             [
              0.3333333333333333,
              "#9c179e"
             ],
             [
              0.4444444444444444,
              "#bd3786"
             ],
             [
              0.5555555555555556,
              "#d8576b"
             ],
             [
              0.6666666666666666,
              "#ed7953"
             ],
             [
              0.7777777777777778,
              "#fb9f3a"
             ],
             [
              0.8888888888888888,
              "#fdca26"
             ],
             [
              1,
              "#f0f921"
             ]
            ],
            "type": "heatmap"
           }
          ],
          "heatmapgl": [
           {
            "colorbar": {
             "outlinewidth": 0,
             "ticks": ""
            },
            "colorscale": [
             [
              0,
              "#0d0887"
             ],
             [
              0.1111111111111111,
              "#46039f"
             ],
             [
              0.2222222222222222,
              "#7201a8"
             ],
             [
              0.3333333333333333,
              "#9c179e"
             ],
             [
              0.4444444444444444,
              "#bd3786"
             ],
             [
              0.5555555555555556,
              "#d8576b"
             ],
             [
              0.6666666666666666,
              "#ed7953"
             ],
             [
              0.7777777777777778,
              "#fb9f3a"
             ],
             [
              0.8888888888888888,
              "#fdca26"
             ],
             [
              1,
              "#f0f921"
             ]
            ],
            "type": "heatmapgl"
           }
          ],
          "histogram": [
           {
            "marker": {
             "pattern": {
              "fillmode": "overlay",
              "size": 10,
              "solidity": 0.2
             }
            },
            "type": "histogram"
           }
          ],
          "histogram2d": [
           {
            "colorbar": {
             "outlinewidth": 0,
             "ticks": ""
            },
            "colorscale": [
             [
              0,
              "#0d0887"
             ],
             [
              0.1111111111111111,
              "#46039f"
             ],
             [
              0.2222222222222222,
              "#7201a8"
             ],
             [
              0.3333333333333333,
              "#9c179e"
             ],
             [
              0.4444444444444444,
              "#bd3786"
             ],
             [
              0.5555555555555556,
              "#d8576b"
             ],
             [
              0.6666666666666666,
              "#ed7953"
             ],
             [
              0.7777777777777778,
              "#fb9f3a"
             ],
             [
              0.8888888888888888,
              "#fdca26"
             ],
             [
              1,
              "#f0f921"
             ]
            ],
            "type": "histogram2d"
           }
          ],
          "histogram2dcontour": [
           {
            "colorbar": {
             "outlinewidth": 0,
             "ticks": ""
            },
            "colorscale": [
             [
              0,
              "#0d0887"
             ],
             [
              0.1111111111111111,
              "#46039f"
             ],
             [
              0.2222222222222222,
              "#7201a8"
             ],
             [
              0.3333333333333333,
              "#9c179e"
             ],
             [
              0.4444444444444444,
              "#bd3786"
             ],
             [
              0.5555555555555556,
              "#d8576b"
             ],
             [
              0.6666666666666666,
              "#ed7953"
             ],
             [
              0.7777777777777778,
              "#fb9f3a"
             ],
             [
              0.8888888888888888,
              "#fdca26"
             ],
             [
              1,
              "#f0f921"
             ]
            ],
            "type": "histogram2dcontour"
           }
          ],
          "mesh3d": [
           {
            "colorbar": {
             "outlinewidth": 0,
             "ticks": ""
            },
            "type": "mesh3d"
           }
          ],
          "parcoords": [
           {
            "line": {
             "colorbar": {
              "outlinewidth": 0,
              "ticks": ""
             }
            },
            "type": "parcoords"
           }
          ],
          "pie": [
           {
            "automargin": true,
            "type": "pie"
           }
          ],
          "scatter": [
           {
            "marker": {
             "colorbar": {
              "outlinewidth": 0,
              "ticks": ""
             }
            },
            "type": "scatter"
           }
          ],
          "scatter3d": [
           {
            "line": {
             "colorbar": {
              "outlinewidth": 0,
              "ticks": ""
             }
            },
            "marker": {
             "colorbar": {
              "outlinewidth": 0,
              "ticks": ""
             }
            },
            "type": "scatter3d"
           }
          ],
          "scattercarpet": [
           {
            "marker": {
             "colorbar": {
              "outlinewidth": 0,
              "ticks": ""
             }
            },
            "type": "scattercarpet"
           }
          ],
          "scattergeo": [
           {
            "marker": {
             "colorbar": {
              "outlinewidth": 0,
              "ticks": ""
             }
            },
            "type": "scattergeo"
           }
          ],
          "scattergl": [
           {
            "marker": {
             "colorbar": {
              "outlinewidth": 0,
              "ticks": ""
             }
            },
            "type": "scattergl"
           }
          ],
          "scattermapbox": [
           {
            "marker": {
             "colorbar": {
              "outlinewidth": 0,
              "ticks": ""
             }
            },
            "type": "scattermapbox"
           }
          ],
          "scatterpolar": [
           {
            "marker": {
             "colorbar": {
              "outlinewidth": 0,
              "ticks": ""
             }
            },
            "type": "scatterpolar"
           }
          ],
          "scatterpolargl": [
           {
            "marker": {
             "colorbar": {
              "outlinewidth": 0,
              "ticks": ""
             }
            },
            "type": "scatterpolargl"
           }
          ],
          "scatterternary": [
           {
            "marker": {
             "colorbar": {
              "outlinewidth": 0,
              "ticks": ""
             }
            },
            "type": "scatterternary"
           }
          ],
          "surface": [
           {
            "colorbar": {
             "outlinewidth": 0,
             "ticks": ""
            },
            "colorscale": [
             [
              0,
              "#0d0887"
             ],
             [
              0.1111111111111111,
              "#46039f"
             ],
             [
              0.2222222222222222,
              "#7201a8"
             ],
             [
              0.3333333333333333,
              "#9c179e"
             ],
             [
              0.4444444444444444,
              "#bd3786"
             ],
             [
              0.5555555555555556,
              "#d8576b"
             ],
             [
              0.6666666666666666,
              "#ed7953"
             ],
             [
              0.7777777777777778,
              "#fb9f3a"
             ],
             [
              0.8888888888888888,
              "#fdca26"
             ],
             [
              1,
              "#f0f921"
             ]
            ],
            "type": "surface"
           }
          ],
          "table": [
           {
            "cells": {
             "fill": {
              "color": "#EBF0F8"
             },
             "line": {
              "color": "white"
             }
            },
            "header": {
             "fill": {
              "color": "#C8D4E3"
             },
             "line": {
              "color": "white"
             }
            },
            "type": "table"
           }
          ]
         },
         "layout": {
          "annotationdefaults": {
           "arrowcolor": "#2a3f5f",
           "arrowhead": 0,
           "arrowwidth": 1
          },
          "autotypenumbers": "strict",
          "coloraxis": {
           "colorbar": {
            "outlinewidth": 0,
            "ticks": ""
           }
          },
          "colorscale": {
           "diverging": [
            [
             0,
             "#8e0152"
            ],
            [
             0.1,
             "#c51b7d"
            ],
            [
             0.2,
             "#de77ae"
            ],
            [
             0.3,
             "#f1b6da"
            ],
            [
             0.4,
             "#fde0ef"
            ],
            [
             0.5,
             "#f7f7f7"
            ],
            [
             0.6,
             "#e6f5d0"
            ],
            [
             0.7,
             "#b8e186"
            ],
            [
             0.8,
             "#7fbc41"
            ],
            [
             0.9,
             "#4d9221"
            ],
            [
             1,
             "#276419"
            ]
           ],
           "sequential": [
            [
             0,
             "#0d0887"
            ],
            [
             0.1111111111111111,
             "#46039f"
            ],
            [
             0.2222222222222222,
             "#7201a8"
            ],
            [
             0.3333333333333333,
             "#9c179e"
            ],
            [
             0.4444444444444444,
             "#bd3786"
            ],
            [
             0.5555555555555556,
             "#d8576b"
            ],
            [
             0.6666666666666666,
             "#ed7953"
            ],
            [
             0.7777777777777778,
             "#fb9f3a"
            ],
            [
             0.8888888888888888,
             "#fdca26"
            ],
            [
             1,
             "#f0f921"
            ]
           ],
           "sequentialminus": [
            [
             0,
             "#0d0887"
            ],
            [
             0.1111111111111111,
             "#46039f"
            ],
            [
             0.2222222222222222,
             "#7201a8"
            ],
            [
             0.3333333333333333,
             "#9c179e"
            ],
            [
             0.4444444444444444,
             "#bd3786"
            ],
            [
             0.5555555555555556,
             "#d8576b"
            ],
            [
             0.6666666666666666,
             "#ed7953"
            ],
            [
             0.7777777777777778,
             "#fb9f3a"
            ],
            [
             0.8888888888888888,
             "#fdca26"
            ],
            [
             1,
             "#f0f921"
            ]
           ]
          },
          "colorway": [
           "#636efa",
           "#EF553B",
           "#00cc96",
           "#ab63fa",
           "#FFA15A",
           "#19d3f3",
           "#FF6692",
           "#B6E880",
           "#FF97FF",
           "#FECB52"
          ],
          "font": {
           "color": "#2a3f5f"
          },
          "geo": {
           "bgcolor": "white",
           "lakecolor": "white",
           "landcolor": "#E5ECF6",
           "showlakes": true,
           "showland": true,
           "subunitcolor": "white"
          },
          "hoverlabel": {
           "align": "left"
          },
          "hovermode": "closest",
          "mapbox": {
           "style": "light"
          },
          "paper_bgcolor": "white",
          "plot_bgcolor": "#E5ECF6",
          "polar": {
           "angularaxis": {
            "gridcolor": "white",
            "linecolor": "white",
            "ticks": ""
           },
           "bgcolor": "#E5ECF6",
           "radialaxis": {
            "gridcolor": "white",
            "linecolor": "white",
            "ticks": ""
           }
          },
          "scene": {
           "xaxis": {
            "backgroundcolor": "#E5ECF6",
            "gridcolor": "white",
            "gridwidth": 2,
            "linecolor": "white",
            "showbackground": true,
            "ticks": "",
            "zerolinecolor": "white"
           },
           "yaxis": {
            "backgroundcolor": "#E5ECF6",
            "gridcolor": "white",
            "gridwidth": 2,
            "linecolor": "white",
            "showbackground": true,
            "ticks": "",
            "zerolinecolor": "white"
           },
           "zaxis": {
            "backgroundcolor": "#E5ECF6",
            "gridcolor": "white",
            "gridwidth": 2,
            "linecolor": "white",
            "showbackground": true,
            "ticks": "",
            "zerolinecolor": "white"
           }
          },
          "shapedefaults": {
           "line": {
            "color": "#2a3f5f"
           }
          },
          "ternary": {
           "aaxis": {
            "gridcolor": "white",
            "linecolor": "white",
            "ticks": ""
           },
           "baxis": {
            "gridcolor": "white",
            "linecolor": "white",
            "ticks": ""
           },
           "bgcolor": "#E5ECF6",
           "caxis": {
            "gridcolor": "white",
            "linecolor": "white",
            "ticks": ""
           }
          },
          "title": {
           "x": 0.05
          },
          "xaxis": {
           "automargin": true,
           "gridcolor": "white",
           "linecolor": "white",
           "ticks": "",
           "title": {
            "standoff": 15
           },
           "zerolinecolor": "white",
           "zerolinewidth": 2
          },
          "yaxis": {
           "automargin": true,
           "gridcolor": "white",
           "linecolor": "white",
           "ticks": "",
           "title": {
            "standoff": 15
           },
           "zerolinecolor": "white",
           "zerolinewidth": 2
          }
         }
        },
        "title": {
         "text": "AUC: 0.811<br><sub>The threshold of 0.5 is indicated with a large point.</sub>"
        },
        "width": 889.9186938125,
        "xaxis": {
         "anchor": "y",
         "domain": [
          0,
          1
         ],
         "title": {
          "text": "False Positive Rate"
         }
        },
        "yaxis": {
         "anchor": "x",
         "domain": [
          0,
          1
         ],
         "title": {
          "text": "True Positive Rate"
         }
        }
       }
      },
      "text/html": [
       "<div>                            <div id=\"e5ccae45-dd65-4794-b304-de0f48326adf\" class=\"plotly-graph-div\" style=\"height:550px; width:889.9186938125px;\"></div>            <script type=\"text/javascript\">                require([\"plotly\"], function(Plotly) {                    window.PLOTLYENV=window.PLOTLYENV || {};                                    if (document.getElementById(\"e5ccae45-dd65-4794-b304-de0f48326adf\")) {                    Plotly.newPlot(                        \"e5ccae45-dd65-4794-b304-de0f48326adf\",                        [{\"hovertemplate\":\"False Positive Rate=%{x}<br>True Positive Rate=%{y}<extra></extra>\",\"legendgroup\":\"\",\"line\":{\"color\":\"#7A7A7A\",\"dash\":\"solid\"},\"marker\":{\"symbol\":\"circle\"},\"mode\":\"lines\",\"name\":\"\",\"orientation\":\"v\",\"showlegend\":false,\"x\":[1.0,1.0,1.0,1.0,1.0,1.0,0.9929078014184397,0.9929078014184397,0.9858156028368794,0.9787234042553191,0.9645390070921985,0.9432624113475178,0.9219858156028369,0.8865248226950354,0.8226950354609929,0.8014184397163121,0.7872340425531915,0.7588652482269503,0.7021276595744681,0.6312056737588653,0.574468085106383,0.5390070921985816,0.5106382978723404,0.48226950354609927,0.45390070921985815,0.41843971631205673,0.3617021276595745,0.3404255319148936,0.3191489361702128,0.3049645390070922,0.2765957446808511,0.2765957446808511,0.2553191489361702,0.23404255319148937,0.2198581560283688,0.2127659574468085,0.19148936170212766,0.18439716312056736,0.15602836879432624,0.14184397163120568,0.09929078014184398,0.0851063829787234,0.0851063829787234,0.0851063829787234,0.07801418439716312,0.07801418439716312,0.07092198581560284,0.05673758865248227,0.04964539007092199,0.0425531914893617,0.03546099290780142,0.028368794326241134,0.028368794326241134,0.028368794326241134,0.02127659574468085,0.014184397163120567,0.014184397163120567,0.014184397163120567,0.0070921985815602835,0.0070921985815602835,0.0070921985815602835,0.0070921985815602835,0.0,0.0,0.0,0.0,0.0,0.0,0.0,0.0,0.0,0.0,0.0,0.0,0.0,0.0,0.0,0.0,0.0,0.0,0.0,0.0,0.0,0.0,0.0,0.0,0.0,0.0,0.0,0.0,0.0,0.0,0.0,0.0,0.0,0.0,0.0,0.0,0.0,0.0,0.0],\"xaxis\":\"x\",\"y\":[1.0,1.0,1.0,1.0,1.0,1.0,1.0,1.0,1.0,1.0,1.0,1.0,1.0,1.0,1.0,1.0,0.9830508474576272,0.9661016949152542,0.9661016949152542,0.9661016949152542,0.9152542372881356,0.8813559322033898,0.8813559322033898,0.8813559322033898,0.864406779661017,0.8305084745762712,0.8135593220338984,0.7966101694915254,0.7966101694915254,0.7966101694915254,0.7796610169491526,0.7627118644067796,0.7627118644067796,0.7627118644067796,0.6949152542372882,0.6610169491525424,0.6440677966101694,0.6440677966101694,0.6101694915254238,0.576271186440678,0.5254237288135594,0.4745762711864407,0.423728813559322,0.423728813559322,0.3898305084745763,0.3898305084745763,0.3728813559322034,0.288135593220339,0.2711864406779661,0.22033898305084745,0.2033898305084746,0.2033898305084746,0.1864406779661017,0.15254237288135594,0.15254237288135594,0.13559322033898305,0.13559322033898305,0.1016949152542373,0.05084745762711865,0.05084745762711865,0.03389830508474576,0.03389830508474576,0.03389830508474576,0.03389830508474576,0.03389830508474576,0.01694915254237288,0.01694915254237288,0.01694915254237288,0.01694915254237288,0.01694915254237288,0.01694915254237288,0.01694915254237288,0.01694915254237288,0.01694915254237288,0.01694915254237288,0.01694915254237288,0.01694915254237288,0.0,0.0,0.0,0.0,0.0,0.0,0.0,0.0,0.0,0.0,0.0,0.0,0.0,0.0,0.0,0.0,0.0,0.0,0.0,0.0,0.0,0.0,0.0,0.0],\"yaxis\":\"y\",\"type\":\"scatter\"},{\"hovertemplate\":\"False Positive Rate=%{x}<br>True Positive Rate=%{y}<br>threshold=%{marker.color}<extra></extra>\",\"legendgroup\":\"\",\"marker\":{\"color\":[0.0,0.01,0.02,0.03,0.04,0.05,0.06,0.07,0.08,0.09,0.1,0.11,0.12,0.13,0.14,0.15,0.16,0.17,0.18,0.19,0.2,0.21,0.22,0.23,0.24,0.25,0.26,0.27,0.28,0.29,0.3,0.31,0.32,0.33,0.34,0.35000000000000003,0.36,0.37,0.38,0.39,0.4,0.41000000000000003,0.42,0.43,0.44,0.45,0.46,0.47000000000000003,0.48,0.49,0.5,0.51,0.52,0.53,0.54,0.55,0.56,0.5700000000000001,0.58,0.59,0.6,0.61,0.62,0.63,0.64,0.65,0.66,0.67,0.68,0.6900000000000001,0.7000000000000001,0.71,0.72,0.73,0.74,0.75,0.76,0.77,0.78,0.79,0.8,0.81,0.8200000000000001,0.8300000000000001,0.84,0.85,0.86,0.87,0.88,0.89,0.9,0.91,0.92,0.93,0.9400000000000001,0.9500000000000001,0.96,0.97,0.98,0.99,1.0],\"coloraxis\":\"coloraxis\",\"symbol\":\"circle\"},\"mode\":\"markers\",\"name\":\"\",\"orientation\":\"v\",\"showlegend\":false,\"x\":[1.0,1.0,1.0,1.0,1.0,1.0,0.9929078014184397,0.9929078014184397,0.9858156028368794,0.9787234042553191,0.9645390070921985,0.9432624113475178,0.9219858156028369,0.8865248226950354,0.8226950354609929,0.8014184397163121,0.7872340425531915,0.7588652482269503,0.7021276595744681,0.6312056737588653,0.574468085106383,0.5390070921985816,0.5106382978723404,0.48226950354609927,0.45390070921985815,0.41843971631205673,0.3617021276595745,0.3404255319148936,0.3191489361702128,0.3049645390070922,0.2765957446808511,0.2765957446808511,0.2553191489361702,0.23404255319148937,0.2198581560283688,0.2127659574468085,0.19148936170212766,0.18439716312056736,0.15602836879432624,0.14184397163120568,0.09929078014184398,0.0851063829787234,0.0851063829787234,0.0851063829787234,0.07801418439716312,0.07801418439716312,0.07092198581560284,0.05673758865248227,0.04964539007092199,0.0425531914893617,0.03546099290780142,0.028368794326241134,0.028368794326241134,0.028368794326241134,0.02127659574468085,0.014184397163120567,0.014184397163120567,0.014184397163120567,0.0070921985815602835,0.0070921985815602835,0.0070921985815602835,0.0070921985815602835,0.0,0.0,0.0,0.0,0.0,0.0,0.0,0.0,0.0,0.0,0.0,0.0,0.0,0.0,0.0,0.0,0.0,0.0,0.0,0.0,0.0,0.0,0.0,0.0,0.0,0.0,0.0,0.0,0.0,0.0,0.0,0.0,0.0,0.0,0.0,0.0,0.0,0.0,0.0],\"xaxis\":\"x\",\"y\":[1.0,1.0,1.0,1.0,1.0,1.0,1.0,1.0,1.0,1.0,1.0,1.0,1.0,1.0,1.0,1.0,0.9830508474576272,0.9661016949152542,0.9661016949152542,0.9661016949152542,0.9152542372881356,0.8813559322033898,0.8813559322033898,0.8813559322033898,0.864406779661017,0.8305084745762712,0.8135593220338984,0.7966101694915254,0.7966101694915254,0.7966101694915254,0.7796610169491526,0.7627118644067796,0.7627118644067796,0.7627118644067796,0.6949152542372882,0.6610169491525424,0.6440677966101694,0.6440677966101694,0.6101694915254238,0.576271186440678,0.5254237288135594,0.4745762711864407,0.423728813559322,0.423728813559322,0.3898305084745763,0.3898305084745763,0.3728813559322034,0.288135593220339,0.2711864406779661,0.22033898305084745,0.2033898305084746,0.2033898305084746,0.1864406779661017,0.15254237288135594,0.15254237288135594,0.13559322033898305,0.13559322033898305,0.1016949152542373,0.05084745762711865,0.05084745762711865,0.03389830508474576,0.03389830508474576,0.03389830508474576,0.03389830508474576,0.03389830508474576,0.01694915254237288,0.01694915254237288,0.01694915254237288,0.01694915254237288,0.01694915254237288,0.01694915254237288,0.01694915254237288,0.01694915254237288,0.01694915254237288,0.01694915254237288,0.01694915254237288,0.01694915254237288,0.0,0.0,0.0,0.0,0.0,0.0,0.0,0.0,0.0,0.0,0.0,0.0,0.0,0.0,0.0,0.0,0.0,0.0,0.0,0.0,0.0,0.0,0.0,0.0],\"yaxis\":\"y\",\"type\":\"scatter\"},{\"hovertemplate\":\"False Positive Rate=%{x}<br>True Positive Rate=%{y}<br>size=%{marker.size}<extra></extra>\",\"legendgroup\":\"\",\"marker\":{\"color\":\"#636efa\",\"size\":[2],\"sizemode\":\"area\",\"sizeref\":0.005,\"symbol\":\"circle\"},\"mode\":\"markers\",\"name\":\"\",\"orientation\":\"v\",\"showlegend\":false,\"x\":[0.03546099290780142],\"xaxis\":\"x\",\"y\":[0.2033898305084746],\"yaxis\":\"y\",\"type\":\"scatter\"}],                        {\"template\":{\"data\":{\"bar\":[{\"error_x\":{\"color\":\"#2a3f5f\"},\"error_y\":{\"color\":\"#2a3f5f\"},\"marker\":{\"line\":{\"color\":\"#E5ECF6\",\"width\":0.5},\"pattern\":{\"fillmode\":\"overlay\",\"size\":10,\"solidity\":0.2}},\"type\":\"bar\"}],\"barpolar\":[{\"marker\":{\"line\":{\"color\":\"#E5ECF6\",\"width\":0.5},\"pattern\":{\"fillmode\":\"overlay\",\"size\":10,\"solidity\":0.2}},\"type\":\"barpolar\"}],\"carpet\":[{\"aaxis\":{\"endlinecolor\":\"#2a3f5f\",\"gridcolor\":\"white\",\"linecolor\":\"white\",\"minorgridcolor\":\"white\",\"startlinecolor\":\"#2a3f5f\"},\"baxis\":{\"endlinecolor\":\"#2a3f5f\",\"gridcolor\":\"white\",\"linecolor\":\"white\",\"minorgridcolor\":\"white\",\"startlinecolor\":\"#2a3f5f\"},\"type\":\"carpet\"}],\"choropleth\":[{\"colorbar\":{\"outlinewidth\":0,\"ticks\":\"\"},\"type\":\"choropleth\"}],\"contour\":[{\"colorbar\":{\"outlinewidth\":0,\"ticks\":\"\"},\"colorscale\":[[0.0,\"#0d0887\"],[0.1111111111111111,\"#46039f\"],[0.2222222222222222,\"#7201a8\"],[0.3333333333333333,\"#9c179e\"],[0.4444444444444444,\"#bd3786\"],[0.5555555555555556,\"#d8576b\"],[0.6666666666666666,\"#ed7953\"],[0.7777777777777778,\"#fb9f3a\"],[0.8888888888888888,\"#fdca26\"],[1.0,\"#f0f921\"]],\"type\":\"contour\"}],\"contourcarpet\":[{\"colorbar\":{\"outlinewidth\":0,\"ticks\":\"\"},\"type\":\"contourcarpet\"}],\"heatmap\":[{\"colorbar\":{\"outlinewidth\":0,\"ticks\":\"\"},\"colorscale\":[[0.0,\"#0d0887\"],[0.1111111111111111,\"#46039f\"],[0.2222222222222222,\"#7201a8\"],[0.3333333333333333,\"#9c179e\"],[0.4444444444444444,\"#bd3786\"],[0.5555555555555556,\"#d8576b\"],[0.6666666666666666,\"#ed7953\"],[0.7777777777777778,\"#fb9f3a\"],[0.8888888888888888,\"#fdca26\"],[1.0,\"#f0f921\"]],\"type\":\"heatmap\"}],\"heatmapgl\":[{\"colorbar\":{\"outlinewidth\":0,\"ticks\":\"\"},\"colorscale\":[[0.0,\"#0d0887\"],[0.1111111111111111,\"#46039f\"],[0.2222222222222222,\"#7201a8\"],[0.3333333333333333,\"#9c179e\"],[0.4444444444444444,\"#bd3786\"],[0.5555555555555556,\"#d8576b\"],[0.6666666666666666,\"#ed7953\"],[0.7777777777777778,\"#fb9f3a\"],[0.8888888888888888,\"#fdca26\"],[1.0,\"#f0f921\"]],\"type\":\"heatmapgl\"}],\"histogram\":[{\"marker\":{\"pattern\":{\"fillmode\":\"overlay\",\"size\":10,\"solidity\":0.2}},\"type\":\"histogram\"}],\"histogram2d\":[{\"colorbar\":{\"outlinewidth\":0,\"ticks\":\"\"},\"colorscale\":[[0.0,\"#0d0887\"],[0.1111111111111111,\"#46039f\"],[0.2222222222222222,\"#7201a8\"],[0.3333333333333333,\"#9c179e\"],[0.4444444444444444,\"#bd3786\"],[0.5555555555555556,\"#d8576b\"],[0.6666666666666666,\"#ed7953\"],[0.7777777777777778,\"#fb9f3a\"],[0.8888888888888888,\"#fdca26\"],[1.0,\"#f0f921\"]],\"type\":\"histogram2d\"}],\"histogram2dcontour\":[{\"colorbar\":{\"outlinewidth\":0,\"ticks\":\"\"},\"colorscale\":[[0.0,\"#0d0887\"],[0.1111111111111111,\"#46039f\"],[0.2222222222222222,\"#7201a8\"],[0.3333333333333333,\"#9c179e\"],[0.4444444444444444,\"#bd3786\"],[0.5555555555555556,\"#d8576b\"],[0.6666666666666666,\"#ed7953\"],[0.7777777777777778,\"#fb9f3a\"],[0.8888888888888888,\"#fdca26\"],[1.0,\"#f0f921\"]],\"type\":\"histogram2dcontour\"}],\"mesh3d\":[{\"colorbar\":{\"outlinewidth\":0,\"ticks\":\"\"},\"type\":\"mesh3d\"}],\"parcoords\":[{\"line\":{\"colorbar\":{\"outlinewidth\":0,\"ticks\":\"\"}},\"type\":\"parcoords\"}],\"pie\":[{\"automargin\":true,\"type\":\"pie\"}],\"scatter\":[{\"marker\":{\"colorbar\":{\"outlinewidth\":0,\"ticks\":\"\"}},\"type\":\"scatter\"}],\"scatter3d\":[{\"line\":{\"colorbar\":{\"outlinewidth\":0,\"ticks\":\"\"}},\"marker\":{\"colorbar\":{\"outlinewidth\":0,\"ticks\":\"\"}},\"type\":\"scatter3d\"}],\"scattercarpet\":[{\"marker\":{\"colorbar\":{\"outlinewidth\":0,\"ticks\":\"\"}},\"type\":\"scattercarpet\"}],\"scattergeo\":[{\"marker\":{\"colorbar\":{\"outlinewidth\":0,\"ticks\":\"\"}},\"type\":\"scattergeo\"}],\"scattergl\":[{\"marker\":{\"colorbar\":{\"outlinewidth\":0,\"ticks\":\"\"}},\"type\":\"scattergl\"}],\"scattermapbox\":[{\"marker\":{\"colorbar\":{\"outlinewidth\":0,\"ticks\":\"\"}},\"type\":\"scattermapbox\"}],\"scatterpolar\":[{\"marker\":{\"colorbar\":{\"outlinewidth\":0,\"ticks\":\"\"}},\"type\":\"scatterpolar\"}],\"scatterpolargl\":[{\"marker\":{\"colorbar\":{\"outlinewidth\":0,\"ticks\":\"\"}},\"type\":\"scatterpolargl\"}],\"scatterternary\":[{\"marker\":{\"colorbar\":{\"outlinewidth\":0,\"ticks\":\"\"}},\"type\":\"scatterternary\"}],\"surface\":[{\"colorbar\":{\"outlinewidth\":0,\"ticks\":\"\"},\"colorscale\":[[0.0,\"#0d0887\"],[0.1111111111111111,\"#46039f\"],[0.2222222222222222,\"#7201a8\"],[0.3333333333333333,\"#9c179e\"],[0.4444444444444444,\"#bd3786\"],[0.5555555555555556,\"#d8576b\"],[0.6666666666666666,\"#ed7953\"],[0.7777777777777778,\"#fb9f3a\"],[0.8888888888888888,\"#fdca26\"],[1.0,\"#f0f921\"]],\"type\":\"surface\"}],\"table\":[{\"cells\":{\"fill\":{\"color\":\"#EBF0F8\"},\"line\":{\"color\":\"white\"}},\"header\":{\"fill\":{\"color\":\"#C8D4E3\"},\"line\":{\"color\":\"white\"}},\"type\":\"table\"}]},\"layout\":{\"annotationdefaults\":{\"arrowcolor\":\"#2a3f5f\",\"arrowhead\":0,\"arrowwidth\":1},\"autotypenumbers\":\"strict\",\"coloraxis\":{\"colorbar\":{\"outlinewidth\":0,\"ticks\":\"\"}},\"colorscale\":{\"diverging\":[[0,\"#8e0152\"],[0.1,\"#c51b7d\"],[0.2,\"#de77ae\"],[0.3,\"#f1b6da\"],[0.4,\"#fde0ef\"],[0.5,\"#f7f7f7\"],[0.6,\"#e6f5d0\"],[0.7,\"#b8e186\"],[0.8,\"#7fbc41\"],[0.9,\"#4d9221\"],[1,\"#276419\"]],\"sequential\":[[0.0,\"#0d0887\"],[0.1111111111111111,\"#46039f\"],[0.2222222222222222,\"#7201a8\"],[0.3333333333333333,\"#9c179e\"],[0.4444444444444444,\"#bd3786\"],[0.5555555555555556,\"#d8576b\"],[0.6666666666666666,\"#ed7953\"],[0.7777777777777778,\"#fb9f3a\"],[0.8888888888888888,\"#fdca26\"],[1.0,\"#f0f921\"]],\"sequentialminus\":[[0.0,\"#0d0887\"],[0.1111111111111111,\"#46039f\"],[0.2222222222222222,\"#7201a8\"],[0.3333333333333333,\"#9c179e\"],[0.4444444444444444,\"#bd3786\"],[0.5555555555555556,\"#d8576b\"],[0.6666666666666666,\"#ed7953\"],[0.7777777777777778,\"#fb9f3a\"],[0.8888888888888888,\"#fdca26\"],[1.0,\"#f0f921\"]]},\"colorway\":[\"#636efa\",\"#EF553B\",\"#00cc96\",\"#ab63fa\",\"#FFA15A\",\"#19d3f3\",\"#FF6692\",\"#B6E880\",\"#FF97FF\",\"#FECB52\"],\"font\":{\"color\":\"#2a3f5f\"},\"geo\":{\"bgcolor\":\"white\",\"lakecolor\":\"white\",\"landcolor\":\"#E5ECF6\",\"showlakes\":true,\"showland\":true,\"subunitcolor\":\"white\"},\"hoverlabel\":{\"align\":\"left\"},\"hovermode\":\"closest\",\"mapbox\":{\"style\":\"light\"},\"paper_bgcolor\":\"white\",\"plot_bgcolor\":\"#E5ECF6\",\"polar\":{\"angularaxis\":{\"gridcolor\":\"white\",\"linecolor\":\"white\",\"ticks\":\"\"},\"bgcolor\":\"#E5ECF6\",\"radialaxis\":{\"gridcolor\":\"white\",\"linecolor\":\"white\",\"ticks\":\"\"}},\"scene\":{\"xaxis\":{\"backgroundcolor\":\"#E5ECF6\",\"gridcolor\":\"white\",\"gridwidth\":2,\"linecolor\":\"white\",\"showbackground\":true,\"ticks\":\"\",\"zerolinecolor\":\"white\"},\"yaxis\":{\"backgroundcolor\":\"#E5ECF6\",\"gridcolor\":\"white\",\"gridwidth\":2,\"linecolor\":\"white\",\"showbackground\":true,\"ticks\":\"\",\"zerolinecolor\":\"white\"},\"zaxis\":{\"backgroundcolor\":\"#E5ECF6\",\"gridcolor\":\"white\",\"gridwidth\":2,\"linecolor\":\"white\",\"showbackground\":true,\"ticks\":\"\",\"zerolinecolor\":\"white\"}},\"shapedefaults\":{\"line\":{\"color\":\"#2a3f5f\"}},\"ternary\":{\"aaxis\":{\"gridcolor\":\"white\",\"linecolor\":\"white\",\"ticks\":\"\"},\"baxis\":{\"gridcolor\":\"white\",\"linecolor\":\"white\",\"ticks\":\"\"},\"bgcolor\":\"#E5ECF6\",\"caxis\":{\"gridcolor\":\"white\",\"linecolor\":\"white\",\"ticks\":\"\"}},\"title\":{\"x\":0.05},\"xaxis\":{\"automargin\":true,\"gridcolor\":\"white\",\"linecolor\":\"white\",\"ticks\":\"\",\"title\":{\"standoff\":15},\"zerolinecolor\":\"white\",\"zerolinewidth\":2},\"yaxis\":{\"automargin\":true,\"gridcolor\":\"white\",\"linecolor\":\"white\",\"ticks\":\"\",\"title\":{\"standoff\":15},\"zerolinecolor\":\"white\",\"zerolinewidth\":2}}},\"xaxis\":{\"anchor\":\"y\",\"domain\":[0.0,1.0],\"title\":{\"text\":\"False Positive Rate\"}},\"yaxis\":{\"anchor\":\"x\",\"domain\":[0.0,1.0],\"title\":{\"text\":\"True Positive Rate\"}},\"legend\":{\"tracegroupgap\":0},\"title\":{\"text\":\"AUC: 0.811<br><sub>The threshold of 0.5 is indicated with a large point.</sub>\"},\"height\":550,\"width\":889.9186938125},                        {\"responsive\": true}                    ).then(function(){\n",
       "                            \n",
       "var gd = document.getElementById('e5ccae45-dd65-4794-b304-de0f48326adf');\n",
       "var x = new MutationObserver(function (mutations, observer) {{\n",
       "        var display = window.getComputedStyle(gd).display;\n",
       "        if (!display || display === 'none') {{\n",
       "            console.log([gd, 'removed!']);\n",
       "            Plotly.purge(gd);\n",
       "            observer.disconnect();\n",
       "        }}\n",
       "}});\n",
       "\n",
       "// Listen for the removal of the full notebook cells\n",
       "var notebookContainer = gd.closest('#notebook-container');\n",
       "if (notebookContainer) {{\n",
       "    x.observe(notebookContainer, {childList: true});\n",
       "}}\n",
       "\n",
       "// Listen for the clearing of the current output cell\n",
       "var outputEl = gd.closest('.output');\n",
       "if (outputEl) {{\n",
       "    x.observe(outputEl, {childList: true});\n",
       "}}\n",
       "\n",
       "                        })                };                });            </script>        </div>"
      ]
     },
     "metadata": {},
     "output_type": "display_data"
    },
    {
     "data": {
      "text/plain": [
       "<Figure size 720x444.984 with 0 Axes>"
      ]
     },
     "metadata": {},
     "output_type": "display_data"
    }
   ],
   "source": [
    "fig = evaluator.plot_auc_curve(return_plotly=True)\n",
    "fig.show()"
   ]
  },
  {
   "cell_type": "code",
   "execution_count": 91,
   "id": "44c66aaf",
   "metadata": {},
   "outputs": [
    {
     "data": {
      "application/vnd.plotly.v1+json": {
       "config": {
        "plotlyServerURL": "https://plot.ly"
       },
       "data": [
        {
         "hovertemplate": "Rate Type=True Pos. Rate (Recall)<br>Score Threshold=%{x}<br>Rate=%{y}<extra></extra>",
         "legendgroup": "True Pos. Rate (Recall)",
         "line": {
          "color": "#7AA9CF",
          "dash": "solid"
         },
         "marker": {
          "symbol": "circle"
         },
         "mode": "lines",
         "name": "True Pos. Rate (Recall)",
         "orientation": "v",
         "showlegend": true,
         "type": "scatter",
         "x": [
          0.1,
          0.125,
          0.15,
          0.175,
          0.19999999999999998,
          0.22499999999999998,
          0.24999999999999997,
          0.27499999999999997,
          0.29999999999999993,
          0.32499999999999996,
          0.35,
          0.3749999999999999,
          0.3999999999999999,
          0.42499999999999993,
          0.44999999999999996,
          0.47499999999999987,
          0.4999999999999999,
          0.5249999999999999,
          0.5499999999999999,
          0.5749999999999998
         ],
         "xaxis": "x",
         "y": [
          1,
          1,
          1,
          0.9661016949152542,
          0.9152542372881356,
          0.8813559322033898,
          0.8305084745762712,
          0.7966101694915254,
          0.7796610169491526,
          0.7627118644067796,
          0.6610169491525424,
          0.6440677966101694,
          0.5254237288135594,
          0.423728813559322,
          0.3898305084745763,
          0.2711864406779661,
          0.2033898305084746,
          0.1694915254237288,
          0.13559322033898305,
          0.0847457627118644
         ],
         "yaxis": "y"
        },
        {
         "hovertemplate": "Rate Type=False Pos. Rate<br>Score Threshold=%{x}<br>Rate=%{y}<extra></extra>",
         "legendgroup": "False Pos. Rate",
         "line": {
          "color": "#41B3A3",
          "dash": "solid"
         },
         "marker": {
          "symbol": "circle"
         },
         "mode": "lines",
         "name": "False Pos. Rate",
         "orientation": "v",
         "showlegend": true,
         "type": "scatter",
         "x": [
          0.1,
          0.125,
          0.15,
          0.175,
          0.19999999999999998,
          0.22499999999999998,
          0.24999999999999997,
          0.27499999999999997,
          0.29999999999999993,
          0.32499999999999996,
          0.35,
          0.3749999999999999,
          0.3999999999999999,
          0.42499999999999993,
          0.44999999999999996,
          0.47499999999999987,
          0.4999999999999999,
          0.5249999999999999,
          0.5499999999999999,
          0.5749999999999998
         ],
         "xaxis": "x",
         "y": [
          0.9645390070921985,
          0.900709219858156,
          0.8014184397163121,
          0.723404255319149,
          0.574468085106383,
          0.49645390070921985,
          0.41843971631205673,
          0.3262411347517731,
          0.2765957446808511,
          0.23404255319148937,
          0.2127659574468085,
          0.1773049645390071,
          0.09929078014184398,
          0.0851063829787234,
          0.07801418439716312,
          0.04964539007092199,
          0.03546099290780142,
          0.028368794326241134,
          0.014184397163120567,
          0.0070921985815602835
         ],
         "yaxis": "y"
        },
        {
         "hovertemplate": "Rate Type=Pos. Predictive Value (Precision)<br>Score Threshold=%{x}<br>Rate=%{y}<extra></extra>",
         "legendgroup": "Pos. Predictive Value (Precision)",
         "line": {
          "color": "#F5BE41",
          "dash": "solid"
         },
         "marker": {
          "symbol": "circle"
         },
         "mode": "lines",
         "name": "Pos. Predictive Value (Precision)",
         "orientation": "v",
         "showlegend": true,
         "type": "scatter",
         "x": [
          0.1,
          0.125,
          0.15,
          0.175,
          0.19999999999999998,
          0.22499999999999998,
          0.24999999999999997,
          0.27499999999999997,
          0.29999999999999993,
          0.32499999999999996,
          0.35,
          0.3749999999999999,
          0.3999999999999999,
          0.42499999999999993,
          0.44999999999999996,
          0.47499999999999987,
          0.4999999999999999,
          0.5249999999999999,
          0.5499999999999999,
          0.5749999999999998
         ],
         "xaxis": "x",
         "y": [
          0.30256410256410254,
          0.3172043010752688,
          0.3430232558139535,
          0.3584905660377358,
          0.4,
          0.4262295081967213,
          0.4537037037037037,
          0.5053763440860215,
          0.5411764705882353,
          0.5769230769230769,
          0.5652173913043478,
          0.6031746031746031,
          0.6888888888888889,
          0.6756756756756757,
          0.6764705882352942,
          0.6956521739130435,
          0.7058823529411765,
          0.7142857142857143,
          0.8,
          0.8333333333333334
         ],
         "yaxis": "y"
        },
        {
         "hovertemplate": "Rate Type=False Neg. Rate<br>Score Threshold=%{x}<br>Rate=%{y}<extra></extra>",
         "legendgroup": "False Neg. Rate",
         "line": {
          "color": "#A65B50",
          "dash": "solid"
         },
         "marker": {
          "symbol": "circle"
         },
         "mode": "lines",
         "name": "False Neg. Rate",
         "orientation": "v",
         "showlegend": true,
         "type": "scatter",
         "x": [
          0.1,
          0.125,
          0.15,
          0.175,
          0.19999999999999998,
          0.22499999999999998,
          0.24999999999999997,
          0.27499999999999997,
          0.29999999999999993,
          0.32499999999999996,
          0.35,
          0.3749999999999999,
          0.3999999999999999,
          0.42499999999999993,
          0.44999999999999996,
          0.47499999999999987,
          0.4999999999999999,
          0.5249999999999999,
          0.5499999999999999,
          0.5749999999999998
         ],
         "xaxis": "x",
         "y": [
          0,
          0,
          0,
          0.03389830508474576,
          0.0847457627118644,
          0.11864406779661017,
          0.1694915254237288,
          0.2033898305084746,
          0.22033898305084745,
          0.23728813559322035,
          0.3389830508474576,
          0.3559322033898305,
          0.4745762711864407,
          0.576271186440678,
          0.6101694915254238,
          0.7288135593220338,
          0.7966101694915254,
          0.8305084745762712,
          0.864406779661017,
          0.9152542372881356
         ],
         "yaxis": "y"
        },
        {
         "hovertemplate": "Rate Type=True Neg. Rate (Specificity)<br>Score Threshold=%{x}<br>Rate=%{y}<extra></extra>",
         "legendgroup": "True Neg. Rate (Specificity)",
         "line": {
          "color": "#F28E2B",
          "dash": "solid"
         },
         "marker": {
          "symbol": "circle"
         },
         "mode": "lines",
         "name": "True Neg. Rate (Specificity)",
         "orientation": "v",
         "showlegend": true,
         "type": "scatter",
         "x": [
          0.1,
          0.125,
          0.15,
          0.175,
          0.19999999999999998,
          0.22499999999999998,
          0.24999999999999997,
          0.27499999999999997,
          0.29999999999999993,
          0.32499999999999996,
          0.35,
          0.3749999999999999,
          0.3999999999999999,
          0.42499999999999993,
          0.44999999999999996,
          0.47499999999999987,
          0.4999999999999999,
          0.5249999999999999,
          0.5499999999999999,
          0.5749999999999998
         ],
         "xaxis": "x",
         "y": [
          0.03546099290780142,
          0.09929078014184398,
          0.19858156028368795,
          0.2765957446808511,
          0.425531914893617,
          0.5035460992907801,
          0.5815602836879432,
          0.6737588652482269,
          0.723404255319149,
          0.7659574468085106,
          0.7872340425531915,
          0.8226950354609929,
          0.900709219858156,
          0.9148936170212766,
          0.9219858156028369,
          0.950354609929078,
          0.9645390070921985,
          0.9716312056737588,
          0.9858156028368794,
          0.9929078014184397
         ],
         "yaxis": "y"
        }
       ],
       "layout": {
        "height": 550,
        "legend": {
         "title": {
          "text": "Rate Type"
         },
         "tracegroupgap": 0
        },
        "shapes": [
         {
          "line": {
           "color": "#2A3132"
          },
          "type": "line",
          "x0": 0.5,
          "x1": 0.5,
          "xref": "x",
          "y0": 0,
          "y1": 1,
          "yref": "y domain"
         }
        ],
        "template": {
         "data": {
          "bar": [
           {
            "error_x": {
             "color": "#2a3f5f"
            },
            "error_y": {
             "color": "#2a3f5f"
            },
            "marker": {
             "line": {
              "color": "#E5ECF6",
              "width": 0.5
             },
             "pattern": {
              "fillmode": "overlay",
              "size": 10,
              "solidity": 0.2
             }
            },
            "type": "bar"
           }
          ],
          "barpolar": [
           {
            "marker": {
             "line": {
              "color": "#E5ECF6",
              "width": 0.5
             },
             "pattern": {
              "fillmode": "overlay",
              "size": 10,
              "solidity": 0.2
             }
            },
            "type": "barpolar"
           }
          ],
          "carpet": [
           {
            "aaxis": {
             "endlinecolor": "#2a3f5f",
             "gridcolor": "white",
             "linecolor": "white",
             "minorgridcolor": "white",
             "startlinecolor": "#2a3f5f"
            },
            "baxis": {
             "endlinecolor": "#2a3f5f",
             "gridcolor": "white",
             "linecolor": "white",
             "minorgridcolor": "white",
             "startlinecolor": "#2a3f5f"
            },
            "type": "carpet"
           }
          ],
          "choropleth": [
           {
            "colorbar": {
             "outlinewidth": 0,
             "ticks": ""
            },
            "type": "choropleth"
           }
          ],
          "contour": [
           {
            "colorbar": {
             "outlinewidth": 0,
             "ticks": ""
            },
            "colorscale": [
             [
              0,
              "#0d0887"
             ],
             [
              0.1111111111111111,
              "#46039f"
             ],
             [
              0.2222222222222222,
              "#7201a8"
             ],
             [
              0.3333333333333333,
              "#9c179e"
             ],
             [
              0.4444444444444444,
              "#bd3786"
             ],
             [
              0.5555555555555556,
              "#d8576b"
             ],
             [
              0.6666666666666666,
              "#ed7953"
             ],
             [
              0.7777777777777778,
              "#fb9f3a"
             ],
             [
              0.8888888888888888,
              "#fdca26"
             ],
             [
              1,
              "#f0f921"
             ]
            ],
            "type": "contour"
           }
          ],
          "contourcarpet": [
           {
            "colorbar": {
             "outlinewidth": 0,
             "ticks": ""
            },
            "type": "contourcarpet"
           }
          ],
          "heatmap": [
           {
            "colorbar": {
             "outlinewidth": 0,
             "ticks": ""
            },
            "colorscale": [
             [
              0,
              "#0d0887"
             ],
             [
              0.1111111111111111,
              "#46039f"
             ],
             [
              0.2222222222222222,
              "#7201a8"
             ],
             [
              0.3333333333333333,
              "#9c179e"
             ],
             [
              0.4444444444444444,
              "#bd3786"
             ],
             [
              0.5555555555555556,
              "#d8576b"
             ],
             [
              0.6666666666666666,
              "#ed7953"
             ],
             [
              0.7777777777777778,
              "#fb9f3a"
             ],
             [
              0.8888888888888888,
              "#fdca26"
             ],
             [
              1,
              "#f0f921"
             ]
            ],
            "type": "heatmap"
           }
          ],
          "heatmapgl": [
           {
            "colorbar": {
             "outlinewidth": 0,
             "ticks": ""
            },
            "colorscale": [
             [
              0,
              "#0d0887"
             ],
             [
              0.1111111111111111,
              "#46039f"
             ],
             [
              0.2222222222222222,
              "#7201a8"
             ],
             [
              0.3333333333333333,
              "#9c179e"
             ],
             [
              0.4444444444444444,
              "#bd3786"
             ],
             [
              0.5555555555555556,
              "#d8576b"
             ],
             [
              0.6666666666666666,
              "#ed7953"
             ],
             [
              0.7777777777777778,
              "#fb9f3a"
             ],
             [
              0.8888888888888888,
              "#fdca26"
             ],
             [
              1,
              "#f0f921"
             ]
            ],
            "type": "heatmapgl"
           }
          ],
          "histogram": [
           {
            "marker": {
             "pattern": {
              "fillmode": "overlay",
              "size": 10,
              "solidity": 0.2
             }
            },
            "type": "histogram"
           }
          ],
          "histogram2d": [
           {
            "colorbar": {
             "outlinewidth": 0,
             "ticks": ""
            },
            "colorscale": [
             [
              0,
              "#0d0887"
             ],
             [
              0.1111111111111111,
              "#46039f"
             ],
             [
              0.2222222222222222,
              "#7201a8"
             ],
             [
              0.3333333333333333,
              "#9c179e"
             ],
             [
              0.4444444444444444,
              "#bd3786"
             ],
             [
              0.5555555555555556,
              "#d8576b"
             ],
             [
              0.6666666666666666,
              "#ed7953"
             ],
             [
              0.7777777777777778,
              "#fb9f3a"
             ],
             [
              0.8888888888888888,
              "#fdca26"
             ],
             [
              1,
              "#f0f921"
             ]
            ],
            "type": "histogram2d"
           }
          ],
          "histogram2dcontour": [
           {
            "colorbar": {
             "outlinewidth": 0,
             "ticks": ""
            },
            "colorscale": [
             [
              0,
              "#0d0887"
             ],
             [
              0.1111111111111111,
              "#46039f"
             ],
             [
              0.2222222222222222,
              "#7201a8"
             ],
             [
              0.3333333333333333,
              "#9c179e"
             ],
             [
              0.4444444444444444,
              "#bd3786"
             ],
             [
              0.5555555555555556,
              "#d8576b"
             ],
             [
              0.6666666666666666,
              "#ed7953"
             ],
             [
              0.7777777777777778,
              "#fb9f3a"
             ],
             [
              0.8888888888888888,
              "#fdca26"
             ],
             [
              1,
              "#f0f921"
             ]
            ],
            "type": "histogram2dcontour"
           }
          ],
          "mesh3d": [
           {
            "colorbar": {
             "outlinewidth": 0,
             "ticks": ""
            },
            "type": "mesh3d"
           }
          ],
          "parcoords": [
           {
            "line": {
             "colorbar": {
              "outlinewidth": 0,
              "ticks": ""
             }
            },
            "type": "parcoords"
           }
          ],
          "pie": [
           {
            "automargin": true,
            "type": "pie"
           }
          ],
          "scatter": [
           {
            "marker": {
             "colorbar": {
              "outlinewidth": 0,
              "ticks": ""
             }
            },
            "type": "scatter"
           }
          ],
          "scatter3d": [
           {
            "line": {
             "colorbar": {
              "outlinewidth": 0,
              "ticks": ""
             }
            },
            "marker": {
             "colorbar": {
              "outlinewidth": 0,
              "ticks": ""
             }
            },
            "type": "scatter3d"
           }
          ],
          "scattercarpet": [
           {
            "marker": {
             "colorbar": {
              "outlinewidth": 0,
              "ticks": ""
             }
            },
            "type": "scattercarpet"
           }
          ],
          "scattergeo": [
           {
            "marker": {
             "colorbar": {
              "outlinewidth": 0,
              "ticks": ""
             }
            },
            "type": "scattergeo"
           }
          ],
          "scattergl": [
           {
            "marker": {
             "colorbar": {
              "outlinewidth": 0,
              "ticks": ""
             }
            },
            "type": "scattergl"
           }
          ],
          "scattermapbox": [
           {
            "marker": {
             "colorbar": {
              "outlinewidth": 0,
              "ticks": ""
             }
            },
            "type": "scattermapbox"
           }
          ],
          "scatterpolar": [
           {
            "marker": {
             "colorbar": {
              "outlinewidth": 0,
              "ticks": ""
             }
            },
            "type": "scatterpolar"
           }
          ],
          "scatterpolargl": [
           {
            "marker": {
             "colorbar": {
              "outlinewidth": 0,
              "ticks": ""
             }
            },
            "type": "scatterpolargl"
           }
          ],
          "scatterternary": [
           {
            "marker": {
             "colorbar": {
              "outlinewidth": 0,
              "ticks": ""
             }
            },
            "type": "scatterternary"
           }
          ],
          "surface": [
           {
            "colorbar": {
             "outlinewidth": 0,
             "ticks": ""
            },
            "colorscale": [
             [
              0,
              "#0d0887"
             ],
             [
              0.1111111111111111,
              "#46039f"
             ],
             [
              0.2222222222222222,
              "#7201a8"
             ],
             [
              0.3333333333333333,
              "#9c179e"
             ],
             [
              0.4444444444444444,
              "#bd3786"
             ],
             [
              0.5555555555555556,
              "#d8576b"
             ],
             [
              0.6666666666666666,
              "#ed7953"
             ],
             [
              0.7777777777777778,
              "#fb9f3a"
             ],
             [
              0.8888888888888888,
              "#fdca26"
             ],
             [
              1,
              "#f0f921"
             ]
            ],
            "type": "surface"
           }
          ],
          "table": [
           {
            "cells": {
             "fill": {
              "color": "#EBF0F8"
             },
             "line": {
              "color": "white"
             }
            },
            "header": {
             "fill": {
              "color": "#C8D4E3"
             },
             "line": {
              "color": "white"
             }
            },
            "type": "table"
           }
          ]
         },
         "layout": {
          "annotationdefaults": {
           "arrowcolor": "#2a3f5f",
           "arrowhead": 0,
           "arrowwidth": 1
          },
          "autotypenumbers": "strict",
          "coloraxis": {
           "colorbar": {
            "outlinewidth": 0,
            "ticks": ""
           }
          },
          "colorscale": {
           "diverging": [
            [
             0,
             "#8e0152"
            ],
            [
             0.1,
             "#c51b7d"
            ],
            [
             0.2,
             "#de77ae"
            ],
            [
             0.3,
             "#f1b6da"
            ],
            [
             0.4,
             "#fde0ef"
            ],
            [
             0.5,
             "#f7f7f7"
            ],
            [
             0.6,
             "#e6f5d0"
            ],
            [
             0.7,
             "#b8e186"
            ],
            [
             0.8,
             "#7fbc41"
            ],
            [
             0.9,
             "#4d9221"
            ],
            [
             1,
             "#276419"
            ]
           ],
           "sequential": [
            [
             0,
             "#0d0887"
            ],
            [
             0.1111111111111111,
             "#46039f"
            ],
            [
             0.2222222222222222,
             "#7201a8"
            ],
            [
             0.3333333333333333,
             "#9c179e"
            ],
            [
             0.4444444444444444,
             "#bd3786"
            ],
            [
             0.5555555555555556,
             "#d8576b"
            ],
            [
             0.6666666666666666,
             "#ed7953"
            ],
            [
             0.7777777777777778,
             "#fb9f3a"
            ],
            [
             0.8888888888888888,
             "#fdca26"
            ],
            [
             1,
             "#f0f921"
            ]
           ],
           "sequentialminus": [
            [
             0,
             "#0d0887"
            ],
            [
             0.1111111111111111,
             "#46039f"
            ],
            [
             0.2222222222222222,
             "#7201a8"
            ],
            [
             0.3333333333333333,
             "#9c179e"
            ],
            [
             0.4444444444444444,
             "#bd3786"
            ],
            [
             0.5555555555555556,
             "#d8576b"
            ],
            [
             0.6666666666666666,
             "#ed7953"
            ],
            [
             0.7777777777777778,
             "#fb9f3a"
            ],
            [
             0.8888888888888888,
             "#fdca26"
            ],
            [
             1,
             "#f0f921"
            ]
           ]
          },
          "colorway": [
           "#636efa",
           "#EF553B",
           "#00cc96",
           "#ab63fa",
           "#FFA15A",
           "#19d3f3",
           "#FF6692",
           "#B6E880",
           "#FF97FF",
           "#FECB52"
          ],
          "font": {
           "color": "#2a3f5f"
          },
          "geo": {
           "bgcolor": "white",
           "lakecolor": "white",
           "landcolor": "#E5ECF6",
           "showlakes": true,
           "showland": true,
           "subunitcolor": "white"
          },
          "hoverlabel": {
           "align": "left"
          },
          "hovermode": "closest",
          "mapbox": {
           "style": "light"
          },
          "paper_bgcolor": "white",
          "plot_bgcolor": "#E5ECF6",
          "polar": {
           "angularaxis": {
            "gridcolor": "white",
            "linecolor": "white",
            "ticks": ""
           },
           "bgcolor": "#E5ECF6",
           "radialaxis": {
            "gridcolor": "white",
            "linecolor": "white",
            "ticks": ""
           }
          },
          "scene": {
           "xaxis": {
            "backgroundcolor": "#E5ECF6",
            "gridcolor": "white",
            "gridwidth": 2,
            "linecolor": "white",
            "showbackground": true,
            "ticks": "",
            "zerolinecolor": "white"
           },
           "yaxis": {
            "backgroundcolor": "#E5ECF6",
            "gridcolor": "white",
            "gridwidth": 2,
            "linecolor": "white",
            "showbackground": true,
            "ticks": "",
            "zerolinecolor": "white"
           },
           "zaxis": {
            "backgroundcolor": "#E5ECF6",
            "gridcolor": "white",
            "gridwidth": 2,
            "linecolor": "white",
            "showbackground": true,
            "ticks": "",
            "zerolinecolor": "white"
           }
          },
          "shapedefaults": {
           "line": {
            "color": "#2a3f5f"
           }
          },
          "ternary": {
           "aaxis": {
            "gridcolor": "white",
            "linecolor": "white",
            "ticks": ""
           },
           "baxis": {
            "gridcolor": "white",
            "linecolor": "white",
            "ticks": ""
           },
           "bgcolor": "#E5ECF6",
           "caxis": {
            "gridcolor": "white",
            "linecolor": "white",
            "ticks": ""
           }
          },
          "title": {
           "x": 0.05
          },
          "xaxis": {
           "automargin": true,
           "gridcolor": "white",
           "linecolor": "white",
           "ticks": "",
           "title": {
            "standoff": 15
           },
           "zerolinecolor": "white",
           "zerolinewidth": 2
          },
          "yaxis": {
           "automargin": true,
           "gridcolor": "white",
           "linecolor": "white",
           "ticks": "",
           "title": {
            "standoff": 15
           },
           "zerolinecolor": "white",
           "zerolinewidth": 2
          }
         }
        },
        "title": {
         "text": "Tradeoffs Across Various Score Thresholds<br><sub>Black line is default threshold of 0.5.</sub>"
        },
        "width": 889.9186938125,
        "xaxis": {
         "anchor": "y",
         "domain": [
          0,
          1
         ],
         "title": {
          "text": "Score Threshold"
         }
        },
        "yaxis": {
         "anchor": "x",
         "domain": [
          0,
          1
         ],
         "title": {
          "text": "Rate"
         }
        }
       }
      },
      "text/html": [
       "<div>                            <div id=\"5783ac1d-427c-40f9-bf3c-923605f677eb\" class=\"plotly-graph-div\" style=\"height:550px; width:889.9186938125px;\"></div>            <script type=\"text/javascript\">                require([\"plotly\"], function(Plotly) {                    window.PLOTLYENV=window.PLOTLYENV || {};                                    if (document.getElementById(\"5783ac1d-427c-40f9-bf3c-923605f677eb\")) {                    Plotly.newPlot(                        \"5783ac1d-427c-40f9-bf3c-923605f677eb\",                        [{\"hovertemplate\":\"Rate Type=True Pos. Rate (Recall)<br>Score Threshold=%{x}<br>Rate=%{y}<extra></extra>\",\"legendgroup\":\"True Pos. Rate (Recall)\",\"line\":{\"color\":\"#7AA9CF\",\"dash\":\"solid\"},\"marker\":{\"symbol\":\"circle\"},\"mode\":\"lines\",\"name\":\"True Pos. Rate (Recall)\",\"orientation\":\"v\",\"showlegend\":true,\"x\":[0.1,0.125,0.15,0.175,0.19999999999999998,0.22499999999999998,0.24999999999999997,0.27499999999999997,0.29999999999999993,0.32499999999999996,0.35,0.3749999999999999,0.3999999999999999,0.42499999999999993,0.44999999999999996,0.47499999999999987,0.4999999999999999,0.5249999999999999,0.5499999999999999,0.5749999999999998],\"xaxis\":\"x\",\"y\":[1.0,1.0,1.0,0.9661016949152542,0.9152542372881356,0.8813559322033898,0.8305084745762712,0.7966101694915254,0.7796610169491526,0.7627118644067796,0.6610169491525424,0.6440677966101694,0.5254237288135594,0.423728813559322,0.3898305084745763,0.2711864406779661,0.2033898305084746,0.1694915254237288,0.13559322033898305,0.0847457627118644],\"yaxis\":\"y\",\"type\":\"scatter\"},{\"hovertemplate\":\"Rate Type=False Pos. Rate<br>Score Threshold=%{x}<br>Rate=%{y}<extra></extra>\",\"legendgroup\":\"False Pos. Rate\",\"line\":{\"color\":\"#41B3A3\",\"dash\":\"solid\"},\"marker\":{\"symbol\":\"circle\"},\"mode\":\"lines\",\"name\":\"False Pos. Rate\",\"orientation\":\"v\",\"showlegend\":true,\"x\":[0.1,0.125,0.15,0.175,0.19999999999999998,0.22499999999999998,0.24999999999999997,0.27499999999999997,0.29999999999999993,0.32499999999999996,0.35,0.3749999999999999,0.3999999999999999,0.42499999999999993,0.44999999999999996,0.47499999999999987,0.4999999999999999,0.5249999999999999,0.5499999999999999,0.5749999999999998],\"xaxis\":\"x\",\"y\":[0.9645390070921985,0.900709219858156,0.8014184397163121,0.723404255319149,0.574468085106383,0.49645390070921985,0.41843971631205673,0.3262411347517731,0.2765957446808511,0.23404255319148937,0.2127659574468085,0.1773049645390071,0.09929078014184398,0.0851063829787234,0.07801418439716312,0.04964539007092199,0.03546099290780142,0.028368794326241134,0.014184397163120567,0.0070921985815602835],\"yaxis\":\"y\",\"type\":\"scatter\"},{\"hovertemplate\":\"Rate Type=Pos. Predictive Value (Precision)<br>Score Threshold=%{x}<br>Rate=%{y}<extra></extra>\",\"legendgroup\":\"Pos. Predictive Value (Precision)\",\"line\":{\"color\":\"#F5BE41\",\"dash\":\"solid\"},\"marker\":{\"symbol\":\"circle\"},\"mode\":\"lines\",\"name\":\"Pos. Predictive Value (Precision)\",\"orientation\":\"v\",\"showlegend\":true,\"x\":[0.1,0.125,0.15,0.175,0.19999999999999998,0.22499999999999998,0.24999999999999997,0.27499999999999997,0.29999999999999993,0.32499999999999996,0.35,0.3749999999999999,0.3999999999999999,0.42499999999999993,0.44999999999999996,0.47499999999999987,0.4999999999999999,0.5249999999999999,0.5499999999999999,0.5749999999999998],\"xaxis\":\"x\",\"y\":[0.30256410256410254,0.3172043010752688,0.3430232558139535,0.3584905660377358,0.4,0.4262295081967213,0.4537037037037037,0.5053763440860215,0.5411764705882353,0.5769230769230769,0.5652173913043478,0.6031746031746031,0.6888888888888889,0.6756756756756757,0.6764705882352942,0.6956521739130435,0.7058823529411765,0.7142857142857143,0.8,0.8333333333333334],\"yaxis\":\"y\",\"type\":\"scatter\"},{\"hovertemplate\":\"Rate Type=False Neg. Rate<br>Score Threshold=%{x}<br>Rate=%{y}<extra></extra>\",\"legendgroup\":\"False Neg. Rate\",\"line\":{\"color\":\"#A65B50\",\"dash\":\"solid\"},\"marker\":{\"symbol\":\"circle\"},\"mode\":\"lines\",\"name\":\"False Neg. Rate\",\"orientation\":\"v\",\"showlegend\":true,\"x\":[0.1,0.125,0.15,0.175,0.19999999999999998,0.22499999999999998,0.24999999999999997,0.27499999999999997,0.29999999999999993,0.32499999999999996,0.35,0.3749999999999999,0.3999999999999999,0.42499999999999993,0.44999999999999996,0.47499999999999987,0.4999999999999999,0.5249999999999999,0.5499999999999999,0.5749999999999998],\"xaxis\":\"x\",\"y\":[0.0,0.0,0.0,0.03389830508474576,0.0847457627118644,0.11864406779661017,0.1694915254237288,0.2033898305084746,0.22033898305084745,0.23728813559322035,0.3389830508474576,0.3559322033898305,0.4745762711864407,0.576271186440678,0.6101694915254238,0.7288135593220338,0.7966101694915254,0.8305084745762712,0.864406779661017,0.9152542372881356],\"yaxis\":\"y\",\"type\":\"scatter\"},{\"hovertemplate\":\"Rate Type=True Neg. Rate (Specificity)<br>Score Threshold=%{x}<br>Rate=%{y}<extra></extra>\",\"legendgroup\":\"True Neg. Rate (Specificity)\",\"line\":{\"color\":\"#F28E2B\",\"dash\":\"solid\"},\"marker\":{\"symbol\":\"circle\"},\"mode\":\"lines\",\"name\":\"True Neg. Rate (Specificity)\",\"orientation\":\"v\",\"showlegend\":true,\"x\":[0.1,0.125,0.15,0.175,0.19999999999999998,0.22499999999999998,0.24999999999999997,0.27499999999999997,0.29999999999999993,0.32499999999999996,0.35,0.3749999999999999,0.3999999999999999,0.42499999999999993,0.44999999999999996,0.47499999999999987,0.4999999999999999,0.5249999999999999,0.5499999999999999,0.5749999999999998],\"xaxis\":\"x\",\"y\":[0.03546099290780142,0.09929078014184398,0.19858156028368795,0.2765957446808511,0.425531914893617,0.5035460992907801,0.5815602836879432,0.6737588652482269,0.723404255319149,0.7659574468085106,0.7872340425531915,0.8226950354609929,0.900709219858156,0.9148936170212766,0.9219858156028369,0.950354609929078,0.9645390070921985,0.9716312056737588,0.9858156028368794,0.9929078014184397],\"yaxis\":\"y\",\"type\":\"scatter\"}],                        {\"template\":{\"data\":{\"bar\":[{\"error_x\":{\"color\":\"#2a3f5f\"},\"error_y\":{\"color\":\"#2a3f5f\"},\"marker\":{\"line\":{\"color\":\"#E5ECF6\",\"width\":0.5},\"pattern\":{\"fillmode\":\"overlay\",\"size\":10,\"solidity\":0.2}},\"type\":\"bar\"}],\"barpolar\":[{\"marker\":{\"line\":{\"color\":\"#E5ECF6\",\"width\":0.5},\"pattern\":{\"fillmode\":\"overlay\",\"size\":10,\"solidity\":0.2}},\"type\":\"barpolar\"}],\"carpet\":[{\"aaxis\":{\"endlinecolor\":\"#2a3f5f\",\"gridcolor\":\"white\",\"linecolor\":\"white\",\"minorgridcolor\":\"white\",\"startlinecolor\":\"#2a3f5f\"},\"baxis\":{\"endlinecolor\":\"#2a3f5f\",\"gridcolor\":\"white\",\"linecolor\":\"white\",\"minorgridcolor\":\"white\",\"startlinecolor\":\"#2a3f5f\"},\"type\":\"carpet\"}],\"choropleth\":[{\"colorbar\":{\"outlinewidth\":0,\"ticks\":\"\"},\"type\":\"choropleth\"}],\"contour\":[{\"colorbar\":{\"outlinewidth\":0,\"ticks\":\"\"},\"colorscale\":[[0.0,\"#0d0887\"],[0.1111111111111111,\"#46039f\"],[0.2222222222222222,\"#7201a8\"],[0.3333333333333333,\"#9c179e\"],[0.4444444444444444,\"#bd3786\"],[0.5555555555555556,\"#d8576b\"],[0.6666666666666666,\"#ed7953\"],[0.7777777777777778,\"#fb9f3a\"],[0.8888888888888888,\"#fdca26\"],[1.0,\"#f0f921\"]],\"type\":\"contour\"}],\"contourcarpet\":[{\"colorbar\":{\"outlinewidth\":0,\"ticks\":\"\"},\"type\":\"contourcarpet\"}],\"heatmap\":[{\"colorbar\":{\"outlinewidth\":0,\"ticks\":\"\"},\"colorscale\":[[0.0,\"#0d0887\"],[0.1111111111111111,\"#46039f\"],[0.2222222222222222,\"#7201a8\"],[0.3333333333333333,\"#9c179e\"],[0.4444444444444444,\"#bd3786\"],[0.5555555555555556,\"#d8576b\"],[0.6666666666666666,\"#ed7953\"],[0.7777777777777778,\"#fb9f3a\"],[0.8888888888888888,\"#fdca26\"],[1.0,\"#f0f921\"]],\"type\":\"heatmap\"}],\"heatmapgl\":[{\"colorbar\":{\"outlinewidth\":0,\"ticks\":\"\"},\"colorscale\":[[0.0,\"#0d0887\"],[0.1111111111111111,\"#46039f\"],[0.2222222222222222,\"#7201a8\"],[0.3333333333333333,\"#9c179e\"],[0.4444444444444444,\"#bd3786\"],[0.5555555555555556,\"#d8576b\"],[0.6666666666666666,\"#ed7953\"],[0.7777777777777778,\"#fb9f3a\"],[0.8888888888888888,\"#fdca26\"],[1.0,\"#f0f921\"]],\"type\":\"heatmapgl\"}],\"histogram\":[{\"marker\":{\"pattern\":{\"fillmode\":\"overlay\",\"size\":10,\"solidity\":0.2}},\"type\":\"histogram\"}],\"histogram2d\":[{\"colorbar\":{\"outlinewidth\":0,\"ticks\":\"\"},\"colorscale\":[[0.0,\"#0d0887\"],[0.1111111111111111,\"#46039f\"],[0.2222222222222222,\"#7201a8\"],[0.3333333333333333,\"#9c179e\"],[0.4444444444444444,\"#bd3786\"],[0.5555555555555556,\"#d8576b\"],[0.6666666666666666,\"#ed7953\"],[0.7777777777777778,\"#fb9f3a\"],[0.8888888888888888,\"#fdca26\"],[1.0,\"#f0f921\"]],\"type\":\"histogram2d\"}],\"histogram2dcontour\":[{\"colorbar\":{\"outlinewidth\":0,\"ticks\":\"\"},\"colorscale\":[[0.0,\"#0d0887\"],[0.1111111111111111,\"#46039f\"],[0.2222222222222222,\"#7201a8\"],[0.3333333333333333,\"#9c179e\"],[0.4444444444444444,\"#bd3786\"],[0.5555555555555556,\"#d8576b\"],[0.6666666666666666,\"#ed7953\"],[0.7777777777777778,\"#fb9f3a\"],[0.8888888888888888,\"#fdca26\"],[1.0,\"#f0f921\"]],\"type\":\"histogram2dcontour\"}],\"mesh3d\":[{\"colorbar\":{\"outlinewidth\":0,\"ticks\":\"\"},\"type\":\"mesh3d\"}],\"parcoords\":[{\"line\":{\"colorbar\":{\"outlinewidth\":0,\"ticks\":\"\"}},\"type\":\"parcoords\"}],\"pie\":[{\"automargin\":true,\"type\":\"pie\"}],\"scatter\":[{\"marker\":{\"colorbar\":{\"outlinewidth\":0,\"ticks\":\"\"}},\"type\":\"scatter\"}],\"scatter3d\":[{\"line\":{\"colorbar\":{\"outlinewidth\":0,\"ticks\":\"\"}},\"marker\":{\"colorbar\":{\"outlinewidth\":0,\"ticks\":\"\"}},\"type\":\"scatter3d\"}],\"scattercarpet\":[{\"marker\":{\"colorbar\":{\"outlinewidth\":0,\"ticks\":\"\"}},\"type\":\"scattercarpet\"}],\"scattergeo\":[{\"marker\":{\"colorbar\":{\"outlinewidth\":0,\"ticks\":\"\"}},\"type\":\"scattergeo\"}],\"scattergl\":[{\"marker\":{\"colorbar\":{\"outlinewidth\":0,\"ticks\":\"\"}},\"type\":\"scattergl\"}],\"scattermapbox\":[{\"marker\":{\"colorbar\":{\"outlinewidth\":0,\"ticks\":\"\"}},\"type\":\"scattermapbox\"}],\"scatterpolar\":[{\"marker\":{\"colorbar\":{\"outlinewidth\":0,\"ticks\":\"\"}},\"type\":\"scatterpolar\"}],\"scatterpolargl\":[{\"marker\":{\"colorbar\":{\"outlinewidth\":0,\"ticks\":\"\"}},\"type\":\"scatterpolargl\"}],\"scatterternary\":[{\"marker\":{\"colorbar\":{\"outlinewidth\":0,\"ticks\":\"\"}},\"type\":\"scatterternary\"}],\"surface\":[{\"colorbar\":{\"outlinewidth\":0,\"ticks\":\"\"},\"colorscale\":[[0.0,\"#0d0887\"],[0.1111111111111111,\"#46039f\"],[0.2222222222222222,\"#7201a8\"],[0.3333333333333333,\"#9c179e\"],[0.4444444444444444,\"#bd3786\"],[0.5555555555555556,\"#d8576b\"],[0.6666666666666666,\"#ed7953\"],[0.7777777777777778,\"#fb9f3a\"],[0.8888888888888888,\"#fdca26\"],[1.0,\"#f0f921\"]],\"type\":\"surface\"}],\"table\":[{\"cells\":{\"fill\":{\"color\":\"#EBF0F8\"},\"line\":{\"color\":\"white\"}},\"header\":{\"fill\":{\"color\":\"#C8D4E3\"},\"line\":{\"color\":\"white\"}},\"type\":\"table\"}]},\"layout\":{\"annotationdefaults\":{\"arrowcolor\":\"#2a3f5f\",\"arrowhead\":0,\"arrowwidth\":1},\"autotypenumbers\":\"strict\",\"coloraxis\":{\"colorbar\":{\"outlinewidth\":0,\"ticks\":\"\"}},\"colorscale\":{\"diverging\":[[0,\"#8e0152\"],[0.1,\"#c51b7d\"],[0.2,\"#de77ae\"],[0.3,\"#f1b6da\"],[0.4,\"#fde0ef\"],[0.5,\"#f7f7f7\"],[0.6,\"#e6f5d0\"],[0.7,\"#b8e186\"],[0.8,\"#7fbc41\"],[0.9,\"#4d9221\"],[1,\"#276419\"]],\"sequential\":[[0.0,\"#0d0887\"],[0.1111111111111111,\"#46039f\"],[0.2222222222222222,\"#7201a8\"],[0.3333333333333333,\"#9c179e\"],[0.4444444444444444,\"#bd3786\"],[0.5555555555555556,\"#d8576b\"],[0.6666666666666666,\"#ed7953\"],[0.7777777777777778,\"#fb9f3a\"],[0.8888888888888888,\"#fdca26\"],[1.0,\"#f0f921\"]],\"sequentialminus\":[[0.0,\"#0d0887\"],[0.1111111111111111,\"#46039f\"],[0.2222222222222222,\"#7201a8\"],[0.3333333333333333,\"#9c179e\"],[0.4444444444444444,\"#bd3786\"],[0.5555555555555556,\"#d8576b\"],[0.6666666666666666,\"#ed7953\"],[0.7777777777777778,\"#fb9f3a\"],[0.8888888888888888,\"#fdca26\"],[1.0,\"#f0f921\"]]},\"colorway\":[\"#636efa\",\"#EF553B\",\"#00cc96\",\"#ab63fa\",\"#FFA15A\",\"#19d3f3\",\"#FF6692\",\"#B6E880\",\"#FF97FF\",\"#FECB52\"],\"font\":{\"color\":\"#2a3f5f\"},\"geo\":{\"bgcolor\":\"white\",\"lakecolor\":\"white\",\"landcolor\":\"#E5ECF6\",\"showlakes\":true,\"showland\":true,\"subunitcolor\":\"white\"},\"hoverlabel\":{\"align\":\"left\"},\"hovermode\":\"closest\",\"mapbox\":{\"style\":\"light\"},\"paper_bgcolor\":\"white\",\"plot_bgcolor\":\"#E5ECF6\",\"polar\":{\"angularaxis\":{\"gridcolor\":\"white\",\"linecolor\":\"white\",\"ticks\":\"\"},\"bgcolor\":\"#E5ECF6\",\"radialaxis\":{\"gridcolor\":\"white\",\"linecolor\":\"white\",\"ticks\":\"\"}},\"scene\":{\"xaxis\":{\"backgroundcolor\":\"#E5ECF6\",\"gridcolor\":\"white\",\"gridwidth\":2,\"linecolor\":\"white\",\"showbackground\":true,\"ticks\":\"\",\"zerolinecolor\":\"white\"},\"yaxis\":{\"backgroundcolor\":\"#E5ECF6\",\"gridcolor\":\"white\",\"gridwidth\":2,\"linecolor\":\"white\",\"showbackground\":true,\"ticks\":\"\",\"zerolinecolor\":\"white\"},\"zaxis\":{\"backgroundcolor\":\"#E5ECF6\",\"gridcolor\":\"white\",\"gridwidth\":2,\"linecolor\":\"white\",\"showbackground\":true,\"ticks\":\"\",\"zerolinecolor\":\"white\"}},\"shapedefaults\":{\"line\":{\"color\":\"#2a3f5f\"}},\"ternary\":{\"aaxis\":{\"gridcolor\":\"white\",\"linecolor\":\"white\",\"ticks\":\"\"},\"baxis\":{\"gridcolor\":\"white\",\"linecolor\":\"white\",\"ticks\":\"\"},\"bgcolor\":\"#E5ECF6\",\"caxis\":{\"gridcolor\":\"white\",\"linecolor\":\"white\",\"ticks\":\"\"}},\"title\":{\"x\":0.05},\"xaxis\":{\"automargin\":true,\"gridcolor\":\"white\",\"linecolor\":\"white\",\"ticks\":\"\",\"title\":{\"standoff\":15},\"zerolinecolor\":\"white\",\"zerolinewidth\":2},\"yaxis\":{\"automargin\":true,\"gridcolor\":\"white\",\"linecolor\":\"white\",\"ticks\":\"\",\"title\":{\"standoff\":15},\"zerolinecolor\":\"white\",\"zerolinewidth\":2}}},\"xaxis\":{\"anchor\":\"y\",\"domain\":[0.0,1.0],\"title\":{\"text\":\"Score Threshold\"}},\"yaxis\":{\"anchor\":\"x\",\"domain\":[0.0,1.0],\"title\":{\"text\":\"Rate\"}},\"legend\":{\"title\":{\"text\":\"Rate Type\"},\"tracegroupgap\":0},\"title\":{\"text\":\"Tradeoffs Across Various Score Thresholds<br><sub>Black line is default threshold of 0.5.</sub>\"},\"height\":550,\"width\":889.9186938125,\"shapes\":[{\"line\":{\"color\":\"#2A3132\"},\"type\":\"line\",\"x0\":0.5,\"x1\":0.5,\"xref\":\"x\",\"y0\":0,\"y1\":1,\"yref\":\"y domain\"}]},                        {\"responsive\": true}                    ).then(function(){\n",
       "                            \n",
       "var gd = document.getElementById('5783ac1d-427c-40f9-bf3c-923605f677eb');\n",
       "var x = new MutationObserver(function (mutations, observer) {{\n",
       "        var display = window.getComputedStyle(gd).display;\n",
       "        if (!display || display === 'none') {{\n",
       "            console.log([gd, 'removed!']);\n",
       "            Plotly.purge(gd);\n",
       "            observer.disconnect();\n",
       "        }}\n",
       "}});\n",
       "\n",
       "// Listen for the removal of the full notebook cells\n",
       "var notebookContainer = gd.closest('#notebook-container');\n",
       "if (notebookContainer) {{\n",
       "    x.observe(notebookContainer, {childList: true});\n",
       "}}\n",
       "\n",
       "// Listen for the clearing of the current output cell\n",
       "var outputEl = gd.closest('.output');\n",
       "if (outputEl) {{\n",
       "    x.observe(outputEl, {childList: true});\n",
       "}}\n",
       "\n",
       "                        })                };                });            </script>        </div>"
      ]
     },
     "metadata": {},
     "output_type": "display_data"
    },
    {
     "data": {
      "text/plain": [
       "<Figure size 720x444.984 with 0 Axes>"
      ]
     },
     "metadata": {},
     "output_type": "display_data"
    }
   ],
   "source": [
    "fig = evaluator.plot_threshold_curves(score_threshold_range=(0.1, 0.6),\n",
    "                                      return_plotly=True)\n",
    "fig.show()"
   ]
  },
  {
   "cell_type": "code",
   "execution_count": 92,
   "id": "fcbd22fc",
   "metadata": {},
   "outputs": [
    {
     "data": {
      "application/vnd.plotly.v1+json": {
       "config": {
        "plotlyServerURL": "https://plot.ly"
       },
       "data": [
        {
         "hovertemplate": "Rate=True Pos. Rate (Recall)<br>Score Threshold=%{x}<br>Value=%{y}<extra></extra>",
         "legendgroup": "True Pos. Rate (Recall)",
         "line": {
          "color": "#7AA9CF",
          "dash": "solid"
         },
         "marker": {
          "symbol": "circle"
         },
         "mode": "lines",
         "name": "True Pos. Rate (Recall)",
         "orientation": "v",
         "showlegend": true,
         "type": "scatter",
         "x": [
          0.1,
          0.125,
          0.15,
          0.175,
          0.19999999999999998,
          0.22499999999999998,
          0.24999999999999997,
          0.27499999999999997,
          0.29999999999999993,
          0.32499999999999996,
          0.35,
          0.3749999999999999,
          0.3999999999999999,
          0.42499999999999993,
          0.44999999999999996,
          0.47499999999999987,
          0.4999999999999999,
          0.5249999999999999,
          0.5499999999999999,
          0.5749999999999998
         ],
         "xaxis": "x",
         "y": [
          1,
          1,
          1,
          0.9661016949152542,
          0.9152542372881356,
          0.8813559322033898,
          0.8305084745762712,
          0.7966101694915254,
          0.7796610169491526,
          0.7627118644067796,
          0.6610169491525424,
          0.6440677966101694,
          0.5254237288135594,
          0.423728813559322,
          0.3898305084745763,
          0.2711864406779661,
          0.2033898305084746,
          0.1694915254237288,
          0.13559322033898305,
          0.0847457627118644
         ],
         "yaxis": "y"
        },
        {
         "hovertemplate": "Rate=Pos. Predictive Value (Precision)<br>Score Threshold=%{x}<br>Value=%{y}<extra></extra>",
         "legendgroup": "Pos. Predictive Value (Precision)",
         "line": {
          "color": "#F5BE41",
          "dash": "solid"
         },
         "marker": {
          "symbol": "circle"
         },
         "mode": "lines",
         "name": "Pos. Predictive Value (Precision)",
         "orientation": "v",
         "showlegend": true,
         "type": "scatter",
         "x": [
          0.1,
          0.125,
          0.15,
          0.175,
          0.19999999999999998,
          0.22499999999999998,
          0.24999999999999997,
          0.27499999999999997,
          0.29999999999999993,
          0.32499999999999996,
          0.35,
          0.3749999999999999,
          0.3999999999999999,
          0.42499999999999993,
          0.44999999999999996,
          0.47499999999999987,
          0.4999999999999999,
          0.5249999999999999,
          0.5499999999999999,
          0.5749999999999998
         ],
         "xaxis": "x",
         "y": [
          0.30256410256410254,
          0.3172043010752688,
          0.3430232558139535,
          0.3584905660377358,
          0.4,
          0.4262295081967213,
          0.4537037037037037,
          0.5053763440860215,
          0.5411764705882353,
          0.5769230769230769,
          0.5652173913043478,
          0.6031746031746031,
          0.6888888888888889,
          0.6756756756756757,
          0.6764705882352942,
          0.6956521739130435,
          0.7058823529411765,
          0.7142857142857143,
          0.8,
          0.8333333333333334
         ],
         "yaxis": "y"
        }
       ],
       "layout": {
        "height": 550,
        "legend": {
         "title": {
          "text": "Rate"
         },
         "tracegroupgap": 0
        },
        "shapes": [
         {
          "line": {
           "color": "#2A3132"
          },
          "type": "line",
          "x0": 0.5,
          "x1": 0.5,
          "xref": "x",
          "y0": 0,
          "y1": 1,
          "yref": "y domain"
         }
        ],
        "template": {
         "data": {
          "bar": [
           {
            "error_x": {
             "color": "#2a3f5f"
            },
            "error_y": {
             "color": "#2a3f5f"
            },
            "marker": {
             "line": {
              "color": "#E5ECF6",
              "width": 0.5
             },
             "pattern": {
              "fillmode": "overlay",
              "size": 10,
              "solidity": 0.2
             }
            },
            "type": "bar"
           }
          ],
          "barpolar": [
           {
            "marker": {
             "line": {
              "color": "#E5ECF6",
              "width": 0.5
             },
             "pattern": {
              "fillmode": "overlay",
              "size": 10,
              "solidity": 0.2
             }
            },
            "type": "barpolar"
           }
          ],
          "carpet": [
           {
            "aaxis": {
             "endlinecolor": "#2a3f5f",
             "gridcolor": "white",
             "linecolor": "white",
             "minorgridcolor": "white",
             "startlinecolor": "#2a3f5f"
            },
            "baxis": {
             "endlinecolor": "#2a3f5f",
             "gridcolor": "white",
             "linecolor": "white",
             "minorgridcolor": "white",
             "startlinecolor": "#2a3f5f"
            },
            "type": "carpet"
           }
          ],
          "choropleth": [
           {
            "colorbar": {
             "outlinewidth": 0,
             "ticks": ""
            },
            "type": "choropleth"
           }
          ],
          "contour": [
           {
            "colorbar": {
             "outlinewidth": 0,
             "ticks": ""
            },
            "colorscale": [
             [
              0,
              "#0d0887"
             ],
             [
              0.1111111111111111,
              "#46039f"
             ],
             [
              0.2222222222222222,
              "#7201a8"
             ],
             [
              0.3333333333333333,
              "#9c179e"
             ],
             [
              0.4444444444444444,
              "#bd3786"
             ],
             [
              0.5555555555555556,
              "#d8576b"
             ],
             [
              0.6666666666666666,
              "#ed7953"
             ],
             [
              0.7777777777777778,
              "#fb9f3a"
             ],
             [
              0.8888888888888888,
              "#fdca26"
             ],
             [
              1,
              "#f0f921"
             ]
            ],
            "type": "contour"
           }
          ],
          "contourcarpet": [
           {
            "colorbar": {
             "outlinewidth": 0,
             "ticks": ""
            },
            "type": "contourcarpet"
           }
          ],
          "heatmap": [
           {
            "colorbar": {
             "outlinewidth": 0,
             "ticks": ""
            },
            "colorscale": [
             [
              0,
              "#0d0887"
             ],
             [
              0.1111111111111111,
              "#46039f"
             ],
             [
              0.2222222222222222,
              "#7201a8"
             ],
             [
              0.3333333333333333,
              "#9c179e"
             ],
             [
              0.4444444444444444,
              "#bd3786"
             ],
             [
              0.5555555555555556,
              "#d8576b"
             ],
             [
              0.6666666666666666,
              "#ed7953"
             ],
             [
              0.7777777777777778,
              "#fb9f3a"
             ],
             [
              0.8888888888888888,
              "#fdca26"
             ],
             [
              1,
              "#f0f921"
             ]
            ],
            "type": "heatmap"
           }
          ],
          "heatmapgl": [
           {
            "colorbar": {
             "outlinewidth": 0,
             "ticks": ""
            },
            "colorscale": [
             [
              0,
              "#0d0887"
             ],
             [
              0.1111111111111111,
              "#46039f"
             ],
             [
              0.2222222222222222,
              "#7201a8"
             ],
             [
              0.3333333333333333,
              "#9c179e"
             ],
             [
              0.4444444444444444,
              "#bd3786"
             ],
             [
              0.5555555555555556,
              "#d8576b"
             ],
             [
              0.6666666666666666,
              "#ed7953"
             ],
             [
              0.7777777777777778,
              "#fb9f3a"
             ],
             [
              0.8888888888888888,
              "#fdca26"
             ],
             [
              1,
              "#f0f921"
             ]
            ],
            "type": "heatmapgl"
           }
          ],
          "histogram": [
           {
            "marker": {
             "pattern": {
              "fillmode": "overlay",
              "size": 10,
              "solidity": 0.2
             }
            },
            "type": "histogram"
           }
          ],
          "histogram2d": [
           {
            "colorbar": {
             "outlinewidth": 0,
             "ticks": ""
            },
            "colorscale": [
             [
              0,
              "#0d0887"
             ],
             [
              0.1111111111111111,
              "#46039f"
             ],
             [
              0.2222222222222222,
              "#7201a8"
             ],
             [
              0.3333333333333333,
              "#9c179e"
             ],
             [
              0.4444444444444444,
              "#bd3786"
             ],
             [
              0.5555555555555556,
              "#d8576b"
             ],
             [
              0.6666666666666666,
              "#ed7953"
             ],
             [
              0.7777777777777778,
              "#fb9f3a"
             ],
             [
              0.8888888888888888,
              "#fdca26"
             ],
             [
              1,
              "#f0f921"
             ]
            ],
            "type": "histogram2d"
           }
          ],
          "histogram2dcontour": [
           {
            "colorbar": {
             "outlinewidth": 0,
             "ticks": ""
            },
            "colorscale": [
             [
              0,
              "#0d0887"
             ],
             [
              0.1111111111111111,
              "#46039f"
             ],
             [
              0.2222222222222222,
              "#7201a8"
             ],
             [
              0.3333333333333333,
              "#9c179e"
             ],
             [
              0.4444444444444444,
              "#bd3786"
             ],
             [
              0.5555555555555556,
              "#d8576b"
             ],
             [
              0.6666666666666666,
              "#ed7953"
             ],
             [
              0.7777777777777778,
              "#fb9f3a"
             ],
             [
              0.8888888888888888,
              "#fdca26"
             ],
             [
              1,
              "#f0f921"
             ]
            ],
            "type": "histogram2dcontour"
           }
          ],
          "mesh3d": [
           {
            "colorbar": {
             "outlinewidth": 0,
             "ticks": ""
            },
            "type": "mesh3d"
           }
          ],
          "parcoords": [
           {
            "line": {
             "colorbar": {
              "outlinewidth": 0,
              "ticks": ""
             }
            },
            "type": "parcoords"
           }
          ],
          "pie": [
           {
            "automargin": true,
            "type": "pie"
           }
          ],
          "scatter": [
           {
            "marker": {
             "colorbar": {
              "outlinewidth": 0,
              "ticks": ""
             }
            },
            "type": "scatter"
           }
          ],
          "scatter3d": [
           {
            "line": {
             "colorbar": {
              "outlinewidth": 0,
              "ticks": ""
             }
            },
            "marker": {
             "colorbar": {
              "outlinewidth": 0,
              "ticks": ""
             }
            },
            "type": "scatter3d"
           }
          ],
          "scattercarpet": [
           {
            "marker": {
             "colorbar": {
              "outlinewidth": 0,
              "ticks": ""
             }
            },
            "type": "scattercarpet"
           }
          ],
          "scattergeo": [
           {
            "marker": {
             "colorbar": {
              "outlinewidth": 0,
              "ticks": ""
             }
            },
            "type": "scattergeo"
           }
          ],
          "scattergl": [
           {
            "marker": {
             "colorbar": {
              "outlinewidth": 0,
              "ticks": ""
             }
            },
            "type": "scattergl"
           }
          ],
          "scattermapbox": [
           {
            "marker": {
             "colorbar": {
              "outlinewidth": 0,
              "ticks": ""
             }
            },
            "type": "scattermapbox"
           }
          ],
          "scatterpolar": [
           {
            "marker": {
             "colorbar": {
              "outlinewidth": 0,
              "ticks": ""
             }
            },
            "type": "scatterpolar"
           }
          ],
          "scatterpolargl": [
           {
            "marker": {
             "colorbar": {
              "outlinewidth": 0,
              "ticks": ""
             }
            },
            "type": "scatterpolargl"
           }
          ],
          "scatterternary": [
           {
            "marker": {
             "colorbar": {
              "outlinewidth": 0,
              "ticks": ""
             }
            },
            "type": "scatterternary"
           }
          ],
          "surface": [
           {
            "colorbar": {
             "outlinewidth": 0,
             "ticks": ""
            },
            "colorscale": [
             [
              0,
              "#0d0887"
             ],
             [
              0.1111111111111111,
              "#46039f"
             ],
             [
              0.2222222222222222,
              "#7201a8"
             ],
             [
              0.3333333333333333,
              "#9c179e"
             ],
             [
              0.4444444444444444,
              "#bd3786"
             ],
             [
              0.5555555555555556,
              "#d8576b"
             ],
             [
              0.6666666666666666,
              "#ed7953"
             ],
             [
              0.7777777777777778,
              "#fb9f3a"
             ],
             [
              0.8888888888888888,
              "#fdca26"
             ],
             [
              1,
              "#f0f921"
             ]
            ],
            "type": "surface"
           }
          ],
          "table": [
           {
            "cells": {
             "fill": {
              "color": "#EBF0F8"
             },
             "line": {
              "color": "white"
             }
            },
            "header": {
             "fill": {
              "color": "#C8D4E3"
             },
             "line": {
              "color": "white"
             }
            },
            "type": "table"
           }
          ]
         },
         "layout": {
          "annotationdefaults": {
           "arrowcolor": "#2a3f5f",
           "arrowhead": 0,
           "arrowwidth": 1
          },
          "autotypenumbers": "strict",
          "coloraxis": {
           "colorbar": {
            "outlinewidth": 0,
            "ticks": ""
           }
          },
          "colorscale": {
           "diverging": [
            [
             0,
             "#8e0152"
            ],
            [
             0.1,
             "#c51b7d"
            ],
            [
             0.2,
             "#de77ae"
            ],
            [
             0.3,
             "#f1b6da"
            ],
            [
             0.4,
             "#fde0ef"
            ],
            [
             0.5,
             "#f7f7f7"
            ],
            [
             0.6,
             "#e6f5d0"
            ],
            [
             0.7,
             "#b8e186"
            ],
            [
             0.8,
             "#7fbc41"
            ],
            [
             0.9,
             "#4d9221"
            ],
            [
             1,
             "#276419"
            ]
           ],
           "sequential": [
            [
             0,
             "#0d0887"
            ],
            [
             0.1111111111111111,
             "#46039f"
            ],
            [
             0.2222222222222222,
             "#7201a8"
            ],
            [
             0.3333333333333333,
             "#9c179e"
            ],
            [
             0.4444444444444444,
             "#bd3786"
            ],
            [
             0.5555555555555556,
             "#d8576b"
            ],
            [
             0.6666666666666666,
             "#ed7953"
            ],
            [
             0.7777777777777778,
             "#fb9f3a"
            ],
            [
             0.8888888888888888,
             "#fdca26"
            ],
            [
             1,
             "#f0f921"
            ]
           ],
           "sequentialminus": [
            [
             0,
             "#0d0887"
            ],
            [
             0.1111111111111111,
             "#46039f"
            ],
            [
             0.2222222222222222,
             "#7201a8"
            ],
            [
             0.3333333333333333,
             "#9c179e"
            ],
            [
             0.4444444444444444,
             "#bd3786"
            ],
            [
             0.5555555555555556,
             "#d8576b"
            ],
            [
             0.6666666666666666,
             "#ed7953"
            ],
            [
             0.7777777777777778,
             "#fb9f3a"
            ],
            [
             0.8888888888888888,
             "#fdca26"
            ],
            [
             1,
             "#f0f921"
            ]
           ]
          },
          "colorway": [
           "#636efa",
           "#EF553B",
           "#00cc96",
           "#ab63fa",
           "#FFA15A",
           "#19d3f3",
           "#FF6692",
           "#B6E880",
           "#FF97FF",
           "#FECB52"
          ],
          "font": {
           "color": "#2a3f5f"
          },
          "geo": {
           "bgcolor": "white",
           "lakecolor": "white",
           "landcolor": "#E5ECF6",
           "showlakes": true,
           "showland": true,
           "subunitcolor": "white"
          },
          "hoverlabel": {
           "align": "left"
          },
          "hovermode": "closest",
          "mapbox": {
           "style": "light"
          },
          "paper_bgcolor": "white",
          "plot_bgcolor": "#E5ECF6",
          "polar": {
           "angularaxis": {
            "gridcolor": "white",
            "linecolor": "white",
            "ticks": ""
           },
           "bgcolor": "#E5ECF6",
           "radialaxis": {
            "gridcolor": "white",
            "linecolor": "white",
            "ticks": ""
           }
          },
          "scene": {
           "xaxis": {
            "backgroundcolor": "#E5ECF6",
            "gridcolor": "white",
            "gridwidth": 2,
            "linecolor": "white",
            "showbackground": true,
            "ticks": "",
            "zerolinecolor": "white"
           },
           "yaxis": {
            "backgroundcolor": "#E5ECF6",
            "gridcolor": "white",
            "gridwidth": 2,
            "linecolor": "white",
            "showbackground": true,
            "ticks": "",
            "zerolinecolor": "white"
           },
           "zaxis": {
            "backgroundcolor": "#E5ECF6",
            "gridcolor": "white",
            "gridwidth": 2,
            "linecolor": "white",
            "showbackground": true,
            "ticks": "",
            "zerolinecolor": "white"
           }
          },
          "shapedefaults": {
           "line": {
            "color": "#2a3f5f"
           }
          },
          "ternary": {
           "aaxis": {
            "gridcolor": "white",
            "linecolor": "white",
            "ticks": ""
           },
           "baxis": {
            "gridcolor": "white",
            "linecolor": "white",
            "ticks": ""
           },
           "bgcolor": "#E5ECF6",
           "caxis": {
            "gridcolor": "white",
            "linecolor": "white",
            "ticks": ""
           }
          },
          "title": {
           "x": 0.05
          },
          "xaxis": {
           "automargin": true,
           "gridcolor": "white",
           "linecolor": "white",
           "ticks": "",
           "title": {
            "standoff": 15
           },
           "zerolinecolor": "white",
           "zerolinewidth": 2
          },
          "yaxis": {
           "automargin": true,
           "gridcolor": "white",
           "linecolor": "white",
           "ticks": "",
           "title": {
            "standoff": 15
           },
           "zerolinecolor": "white",
           "zerolinewidth": 2
          }
         }
        },
        "title": {
         "text": "Precision Recall Tradeoff<br><sub>Black line is default threshold of 0.5.</sub>"
        },
        "width": 889.9186938125,
        "xaxis": {
         "anchor": "y",
         "domain": [
          0,
          1
         ],
         "title": {
          "text": "Score Threshold"
         }
        },
        "yaxis": {
         "anchor": "x",
         "domain": [
          0,
          1
         ],
         "title": {
          "text": "Value"
         }
        }
       }
      },
      "text/html": [
       "<div>                            <div id=\"f8bb4117-4ce6-4312-bf2d-231e919234ac\" class=\"plotly-graph-div\" style=\"height:550px; width:889.9186938125px;\"></div>            <script type=\"text/javascript\">                require([\"plotly\"], function(Plotly) {                    window.PLOTLYENV=window.PLOTLYENV || {};                                    if (document.getElementById(\"f8bb4117-4ce6-4312-bf2d-231e919234ac\")) {                    Plotly.newPlot(                        \"f8bb4117-4ce6-4312-bf2d-231e919234ac\",                        [{\"hovertemplate\":\"Rate=True Pos. Rate (Recall)<br>Score Threshold=%{x}<br>Value=%{y}<extra></extra>\",\"legendgroup\":\"True Pos. Rate (Recall)\",\"line\":{\"color\":\"#7AA9CF\",\"dash\":\"solid\"},\"marker\":{\"symbol\":\"circle\"},\"mode\":\"lines\",\"name\":\"True Pos. Rate (Recall)\",\"orientation\":\"v\",\"showlegend\":true,\"x\":[0.1,0.125,0.15,0.175,0.19999999999999998,0.22499999999999998,0.24999999999999997,0.27499999999999997,0.29999999999999993,0.32499999999999996,0.35,0.3749999999999999,0.3999999999999999,0.42499999999999993,0.44999999999999996,0.47499999999999987,0.4999999999999999,0.5249999999999999,0.5499999999999999,0.5749999999999998],\"xaxis\":\"x\",\"y\":[1.0,1.0,1.0,0.9661016949152542,0.9152542372881356,0.8813559322033898,0.8305084745762712,0.7966101694915254,0.7796610169491526,0.7627118644067796,0.6610169491525424,0.6440677966101694,0.5254237288135594,0.423728813559322,0.3898305084745763,0.2711864406779661,0.2033898305084746,0.1694915254237288,0.13559322033898305,0.0847457627118644],\"yaxis\":\"y\",\"type\":\"scatter\"},{\"hovertemplate\":\"Rate=Pos. Predictive Value (Precision)<br>Score Threshold=%{x}<br>Value=%{y}<extra></extra>\",\"legendgroup\":\"Pos. Predictive Value (Precision)\",\"line\":{\"color\":\"#F5BE41\",\"dash\":\"solid\"},\"marker\":{\"symbol\":\"circle\"},\"mode\":\"lines\",\"name\":\"Pos. Predictive Value (Precision)\",\"orientation\":\"v\",\"showlegend\":true,\"x\":[0.1,0.125,0.15,0.175,0.19999999999999998,0.22499999999999998,0.24999999999999997,0.27499999999999997,0.29999999999999993,0.32499999999999996,0.35,0.3749999999999999,0.3999999999999999,0.42499999999999993,0.44999999999999996,0.47499999999999987,0.4999999999999999,0.5249999999999999,0.5499999999999999,0.5749999999999998],\"xaxis\":\"x\",\"y\":[0.30256410256410254,0.3172043010752688,0.3430232558139535,0.3584905660377358,0.4,0.4262295081967213,0.4537037037037037,0.5053763440860215,0.5411764705882353,0.5769230769230769,0.5652173913043478,0.6031746031746031,0.6888888888888889,0.6756756756756757,0.6764705882352942,0.6956521739130435,0.7058823529411765,0.7142857142857143,0.8,0.8333333333333334],\"yaxis\":\"y\",\"type\":\"scatter\"}],                        {\"template\":{\"data\":{\"bar\":[{\"error_x\":{\"color\":\"#2a3f5f\"},\"error_y\":{\"color\":\"#2a3f5f\"},\"marker\":{\"line\":{\"color\":\"#E5ECF6\",\"width\":0.5},\"pattern\":{\"fillmode\":\"overlay\",\"size\":10,\"solidity\":0.2}},\"type\":\"bar\"}],\"barpolar\":[{\"marker\":{\"line\":{\"color\":\"#E5ECF6\",\"width\":0.5},\"pattern\":{\"fillmode\":\"overlay\",\"size\":10,\"solidity\":0.2}},\"type\":\"barpolar\"}],\"carpet\":[{\"aaxis\":{\"endlinecolor\":\"#2a3f5f\",\"gridcolor\":\"white\",\"linecolor\":\"white\",\"minorgridcolor\":\"white\",\"startlinecolor\":\"#2a3f5f\"},\"baxis\":{\"endlinecolor\":\"#2a3f5f\",\"gridcolor\":\"white\",\"linecolor\":\"white\",\"minorgridcolor\":\"white\",\"startlinecolor\":\"#2a3f5f\"},\"type\":\"carpet\"}],\"choropleth\":[{\"colorbar\":{\"outlinewidth\":0,\"ticks\":\"\"},\"type\":\"choropleth\"}],\"contour\":[{\"colorbar\":{\"outlinewidth\":0,\"ticks\":\"\"},\"colorscale\":[[0.0,\"#0d0887\"],[0.1111111111111111,\"#46039f\"],[0.2222222222222222,\"#7201a8\"],[0.3333333333333333,\"#9c179e\"],[0.4444444444444444,\"#bd3786\"],[0.5555555555555556,\"#d8576b\"],[0.6666666666666666,\"#ed7953\"],[0.7777777777777778,\"#fb9f3a\"],[0.8888888888888888,\"#fdca26\"],[1.0,\"#f0f921\"]],\"type\":\"contour\"}],\"contourcarpet\":[{\"colorbar\":{\"outlinewidth\":0,\"ticks\":\"\"},\"type\":\"contourcarpet\"}],\"heatmap\":[{\"colorbar\":{\"outlinewidth\":0,\"ticks\":\"\"},\"colorscale\":[[0.0,\"#0d0887\"],[0.1111111111111111,\"#46039f\"],[0.2222222222222222,\"#7201a8\"],[0.3333333333333333,\"#9c179e\"],[0.4444444444444444,\"#bd3786\"],[0.5555555555555556,\"#d8576b\"],[0.6666666666666666,\"#ed7953\"],[0.7777777777777778,\"#fb9f3a\"],[0.8888888888888888,\"#fdca26\"],[1.0,\"#f0f921\"]],\"type\":\"heatmap\"}],\"heatmapgl\":[{\"colorbar\":{\"outlinewidth\":0,\"ticks\":\"\"},\"colorscale\":[[0.0,\"#0d0887\"],[0.1111111111111111,\"#46039f\"],[0.2222222222222222,\"#7201a8\"],[0.3333333333333333,\"#9c179e\"],[0.4444444444444444,\"#bd3786\"],[0.5555555555555556,\"#d8576b\"],[0.6666666666666666,\"#ed7953\"],[0.7777777777777778,\"#fb9f3a\"],[0.8888888888888888,\"#fdca26\"],[1.0,\"#f0f921\"]],\"type\":\"heatmapgl\"}],\"histogram\":[{\"marker\":{\"pattern\":{\"fillmode\":\"overlay\",\"size\":10,\"solidity\":0.2}},\"type\":\"histogram\"}],\"histogram2d\":[{\"colorbar\":{\"outlinewidth\":0,\"ticks\":\"\"},\"colorscale\":[[0.0,\"#0d0887\"],[0.1111111111111111,\"#46039f\"],[0.2222222222222222,\"#7201a8\"],[0.3333333333333333,\"#9c179e\"],[0.4444444444444444,\"#bd3786\"],[0.5555555555555556,\"#d8576b\"],[0.6666666666666666,\"#ed7953\"],[0.7777777777777778,\"#fb9f3a\"],[0.8888888888888888,\"#fdca26\"],[1.0,\"#f0f921\"]],\"type\":\"histogram2d\"}],\"histogram2dcontour\":[{\"colorbar\":{\"outlinewidth\":0,\"ticks\":\"\"},\"colorscale\":[[0.0,\"#0d0887\"],[0.1111111111111111,\"#46039f\"],[0.2222222222222222,\"#7201a8\"],[0.3333333333333333,\"#9c179e\"],[0.4444444444444444,\"#bd3786\"],[0.5555555555555556,\"#d8576b\"],[0.6666666666666666,\"#ed7953\"],[0.7777777777777778,\"#fb9f3a\"],[0.8888888888888888,\"#fdca26\"],[1.0,\"#f0f921\"]],\"type\":\"histogram2dcontour\"}],\"mesh3d\":[{\"colorbar\":{\"outlinewidth\":0,\"ticks\":\"\"},\"type\":\"mesh3d\"}],\"parcoords\":[{\"line\":{\"colorbar\":{\"outlinewidth\":0,\"ticks\":\"\"}},\"type\":\"parcoords\"}],\"pie\":[{\"automargin\":true,\"type\":\"pie\"}],\"scatter\":[{\"marker\":{\"colorbar\":{\"outlinewidth\":0,\"ticks\":\"\"}},\"type\":\"scatter\"}],\"scatter3d\":[{\"line\":{\"colorbar\":{\"outlinewidth\":0,\"ticks\":\"\"}},\"marker\":{\"colorbar\":{\"outlinewidth\":0,\"ticks\":\"\"}},\"type\":\"scatter3d\"}],\"scattercarpet\":[{\"marker\":{\"colorbar\":{\"outlinewidth\":0,\"ticks\":\"\"}},\"type\":\"scattercarpet\"}],\"scattergeo\":[{\"marker\":{\"colorbar\":{\"outlinewidth\":0,\"ticks\":\"\"}},\"type\":\"scattergeo\"}],\"scattergl\":[{\"marker\":{\"colorbar\":{\"outlinewidth\":0,\"ticks\":\"\"}},\"type\":\"scattergl\"}],\"scattermapbox\":[{\"marker\":{\"colorbar\":{\"outlinewidth\":0,\"ticks\":\"\"}},\"type\":\"scattermapbox\"}],\"scatterpolar\":[{\"marker\":{\"colorbar\":{\"outlinewidth\":0,\"ticks\":\"\"}},\"type\":\"scatterpolar\"}],\"scatterpolargl\":[{\"marker\":{\"colorbar\":{\"outlinewidth\":0,\"ticks\":\"\"}},\"type\":\"scatterpolargl\"}],\"scatterternary\":[{\"marker\":{\"colorbar\":{\"outlinewidth\":0,\"ticks\":\"\"}},\"type\":\"scatterternary\"}],\"surface\":[{\"colorbar\":{\"outlinewidth\":0,\"ticks\":\"\"},\"colorscale\":[[0.0,\"#0d0887\"],[0.1111111111111111,\"#46039f\"],[0.2222222222222222,\"#7201a8\"],[0.3333333333333333,\"#9c179e\"],[0.4444444444444444,\"#bd3786\"],[0.5555555555555556,\"#d8576b\"],[0.6666666666666666,\"#ed7953\"],[0.7777777777777778,\"#fb9f3a\"],[0.8888888888888888,\"#fdca26\"],[1.0,\"#f0f921\"]],\"type\":\"surface\"}],\"table\":[{\"cells\":{\"fill\":{\"color\":\"#EBF0F8\"},\"line\":{\"color\":\"white\"}},\"header\":{\"fill\":{\"color\":\"#C8D4E3\"},\"line\":{\"color\":\"white\"}},\"type\":\"table\"}]},\"layout\":{\"annotationdefaults\":{\"arrowcolor\":\"#2a3f5f\",\"arrowhead\":0,\"arrowwidth\":1},\"autotypenumbers\":\"strict\",\"coloraxis\":{\"colorbar\":{\"outlinewidth\":0,\"ticks\":\"\"}},\"colorscale\":{\"diverging\":[[0,\"#8e0152\"],[0.1,\"#c51b7d\"],[0.2,\"#de77ae\"],[0.3,\"#f1b6da\"],[0.4,\"#fde0ef\"],[0.5,\"#f7f7f7\"],[0.6,\"#e6f5d0\"],[0.7,\"#b8e186\"],[0.8,\"#7fbc41\"],[0.9,\"#4d9221\"],[1,\"#276419\"]],\"sequential\":[[0.0,\"#0d0887\"],[0.1111111111111111,\"#46039f\"],[0.2222222222222222,\"#7201a8\"],[0.3333333333333333,\"#9c179e\"],[0.4444444444444444,\"#bd3786\"],[0.5555555555555556,\"#d8576b\"],[0.6666666666666666,\"#ed7953\"],[0.7777777777777778,\"#fb9f3a\"],[0.8888888888888888,\"#fdca26\"],[1.0,\"#f0f921\"]],\"sequentialminus\":[[0.0,\"#0d0887\"],[0.1111111111111111,\"#46039f\"],[0.2222222222222222,\"#7201a8\"],[0.3333333333333333,\"#9c179e\"],[0.4444444444444444,\"#bd3786\"],[0.5555555555555556,\"#d8576b\"],[0.6666666666666666,\"#ed7953\"],[0.7777777777777778,\"#fb9f3a\"],[0.8888888888888888,\"#fdca26\"],[1.0,\"#f0f921\"]]},\"colorway\":[\"#636efa\",\"#EF553B\",\"#00cc96\",\"#ab63fa\",\"#FFA15A\",\"#19d3f3\",\"#FF6692\",\"#B6E880\",\"#FF97FF\",\"#FECB52\"],\"font\":{\"color\":\"#2a3f5f\"},\"geo\":{\"bgcolor\":\"white\",\"lakecolor\":\"white\",\"landcolor\":\"#E5ECF6\",\"showlakes\":true,\"showland\":true,\"subunitcolor\":\"white\"},\"hoverlabel\":{\"align\":\"left\"},\"hovermode\":\"closest\",\"mapbox\":{\"style\":\"light\"},\"paper_bgcolor\":\"white\",\"plot_bgcolor\":\"#E5ECF6\",\"polar\":{\"angularaxis\":{\"gridcolor\":\"white\",\"linecolor\":\"white\",\"ticks\":\"\"},\"bgcolor\":\"#E5ECF6\",\"radialaxis\":{\"gridcolor\":\"white\",\"linecolor\":\"white\",\"ticks\":\"\"}},\"scene\":{\"xaxis\":{\"backgroundcolor\":\"#E5ECF6\",\"gridcolor\":\"white\",\"gridwidth\":2,\"linecolor\":\"white\",\"showbackground\":true,\"ticks\":\"\",\"zerolinecolor\":\"white\"},\"yaxis\":{\"backgroundcolor\":\"#E5ECF6\",\"gridcolor\":\"white\",\"gridwidth\":2,\"linecolor\":\"white\",\"showbackground\":true,\"ticks\":\"\",\"zerolinecolor\":\"white\"},\"zaxis\":{\"backgroundcolor\":\"#E5ECF6\",\"gridcolor\":\"white\",\"gridwidth\":2,\"linecolor\":\"white\",\"showbackground\":true,\"ticks\":\"\",\"zerolinecolor\":\"white\"}},\"shapedefaults\":{\"line\":{\"color\":\"#2a3f5f\"}},\"ternary\":{\"aaxis\":{\"gridcolor\":\"white\",\"linecolor\":\"white\",\"ticks\":\"\"},\"baxis\":{\"gridcolor\":\"white\",\"linecolor\":\"white\",\"ticks\":\"\"},\"bgcolor\":\"#E5ECF6\",\"caxis\":{\"gridcolor\":\"white\",\"linecolor\":\"white\",\"ticks\":\"\"}},\"title\":{\"x\":0.05},\"xaxis\":{\"automargin\":true,\"gridcolor\":\"white\",\"linecolor\":\"white\",\"ticks\":\"\",\"title\":{\"standoff\":15},\"zerolinecolor\":\"white\",\"zerolinewidth\":2},\"yaxis\":{\"automargin\":true,\"gridcolor\":\"white\",\"linecolor\":\"white\",\"ticks\":\"\",\"title\":{\"standoff\":15},\"zerolinecolor\":\"white\",\"zerolinewidth\":2}}},\"xaxis\":{\"anchor\":\"y\",\"domain\":[0.0,1.0],\"title\":{\"text\":\"Score Threshold\"}},\"yaxis\":{\"anchor\":\"x\",\"domain\":[0.0,1.0],\"title\":{\"text\":\"Value\"}},\"legend\":{\"title\":{\"text\":\"Rate\"},\"tracegroupgap\":0},\"title\":{\"text\":\"Precision Recall Tradeoff<br><sub>Black line is default threshold of 0.5.</sub>\"},\"height\":550,\"width\":889.9186938125,\"shapes\":[{\"line\":{\"color\":\"#2A3132\"},\"type\":\"line\",\"x0\":0.5,\"x1\":0.5,\"xref\":\"x\",\"y0\":0,\"y1\":1,\"yref\":\"y domain\"}]},                        {\"responsive\": true}                    ).then(function(){\n",
       "                            \n",
       "var gd = document.getElementById('f8bb4117-4ce6-4312-bf2d-231e919234ac');\n",
       "var x = new MutationObserver(function (mutations, observer) {{\n",
       "        var display = window.getComputedStyle(gd).display;\n",
       "        if (!display || display === 'none') {{\n",
       "            console.log([gd, 'removed!']);\n",
       "            Plotly.purge(gd);\n",
       "            observer.disconnect();\n",
       "        }}\n",
       "}});\n",
       "\n",
       "// Listen for the removal of the full notebook cells\n",
       "var notebookContainer = gd.closest('#notebook-container');\n",
       "if (notebookContainer) {{\n",
       "    x.observe(notebookContainer, {childList: true});\n",
       "}}\n",
       "\n",
       "// Listen for the clearing of the current output cell\n",
       "var outputEl = gd.closest('.output');\n",
       "if (outputEl) {{\n",
       "    x.observe(outputEl, {childList: true});\n",
       "}}\n",
       "\n",
       "                        })                };                });            </script>        </div>"
      ]
     },
     "metadata": {},
     "output_type": "display_data"
    },
    {
     "data": {
      "text/plain": [
       "<Figure size 720x444.984 with 0 Axes>"
      ]
     },
     "metadata": {},
     "output_type": "display_data"
    }
   ],
   "source": [
    "fig = evaluator.plot_precision_recall_tradeoff(score_threshold_range=(0.1, 0.6),\n",
    "                                               return_plotly=True)\n",
    "fig.show()"
   ]
  },
  {
   "cell_type": "code",
   "execution_count": 87,
   "id": "74863f55",
   "metadata": {},
   "outputs": [
    {
     "data": {
      "text/html": [
       "<style type=\"text/css\">\n",
       "#T_5ee06_row0_col3 {\n",
       "  width: 10em;\n",
       "  height: 80%;\n",
       "  background: linear-gradient(90deg,#7AA9CF 14.0%, transparent 14.0%);\n",
       "}\n",
       "#T_5ee06_row0_col4, #T_5ee06_row16_col3, #T_5ee06_row17_col3, #T_5ee06_row18_col3, #T_5ee06_row19_col3 {\n",
       "  width: 10em;\n",
       "  height: 80%;\n",
       "  background: linear-gradient(90deg,#7AA9CF 100.0%, transparent 100.0%);\n",
       "}\n",
       "#T_5ee06_row1_col3 {\n",
       "  width: 10em;\n",
       "  height: 80%;\n",
       "  background: linear-gradient(90deg,#7AA9CF 24.0%, transparent 24.0%);\n",
       "}\n",
       "#T_5ee06_row1_col4, #T_5ee06_row3_col4 {\n",
       "  width: 10em;\n",
       "  height: 80%;\n",
       "  background: linear-gradient(90deg,#7AA9CF 80.1%, transparent 80.1%);\n",
       "}\n",
       "#T_5ee06_row2_col3 {\n",
       "  width: 10em;\n",
       "  height: 80%;\n",
       "  background: linear-gradient(90deg,#7AA9CF 34.0%, transparent 34.0%);\n",
       "}\n",
       "#T_5ee06_row2_col4 {\n",
       "  width: 10em;\n",
       "  height: 80%;\n",
       "  background: linear-gradient(90deg,#7AA9CF 73.7%, transparent 73.7%);\n",
       "}\n",
       "#T_5ee06_row3_col3 {\n",
       "  width: 10em;\n",
       "  height: 80%;\n",
       "  background: linear-gradient(90deg,#7AA9CF 47.0%, transparent 47.0%);\n",
       "}\n",
       "#T_5ee06_row4_col3 {\n",
       "  width: 10em;\n",
       "  height: 80%;\n",
       "  background: linear-gradient(90deg,#7AA9CF 56.0%, transparent 56.0%);\n",
       "}\n",
       "#T_5ee06_row4_col4 {\n",
       "  width: 10em;\n",
       "  height: 80%;\n",
       "  background: linear-gradient(90deg,#7AA9CF 72.5%, transparent 72.5%);\n",
       "}\n",
       "#T_5ee06_row5_col3 {\n",
       "  width: 10em;\n",
       "  height: 80%;\n",
       "  background: linear-gradient(90deg,#7AA9CF 63.0%, transparent 63.0%);\n",
       "}\n",
       "#T_5ee06_row5_col4 {\n",
       "  width: 10em;\n",
       "  height: 80%;\n",
       "  background: linear-gradient(90deg,#7AA9CF 63.7%, transparent 63.7%);\n",
       "}\n",
       "#T_5ee06_row6_col3 {\n",
       "  width: 10em;\n",
       "  height: 80%;\n",
       "  background: linear-gradient(90deg,#7AA9CF 68.0%, transparent 68.0%);\n",
       "}\n",
       "#T_5ee06_row6_col4 {\n",
       "  width: 10em;\n",
       "  height: 80%;\n",
       "  background: linear-gradient(90deg,#7AA9CF 55.0%, transparent 55.0%);\n",
       "}\n",
       "#T_5ee06_row7_col3 {\n",
       "  width: 10em;\n",
       "  height: 80%;\n",
       "  background: linear-gradient(90deg,#7AA9CF 76.0%, transparent 76.0%);\n",
       "}\n",
       "#T_5ee06_row7_col4 {\n",
       "  width: 10em;\n",
       "  height: 80%;\n",
       "  background: linear-gradient(90deg,#7AA9CF 53.2%, transparent 53.2%);\n",
       "}\n",
       "#T_5ee06_row8_col3 {\n",
       "  width: 10em;\n",
       "  height: 80%;\n",
       "  background: linear-gradient(90deg,#7AA9CF 80.0%, transparent 80.0%);\n",
       "}\n",
       "#T_5ee06_row8_col4 {\n",
       "  width: 10em;\n",
       "  height: 80%;\n",
       "  background: linear-gradient(90deg,#7AA9CF 45.0%, transparent 45.0%);\n",
       "}\n",
       "#T_5ee06_row9_col3 {\n",
       "  width: 10em;\n",
       "  height: 80%;\n",
       "  background: linear-gradient(90deg,#7AA9CF 81.0%, transparent 81.0%);\n",
       "}\n",
       "#T_5ee06_row9_col4 {\n",
       "  width: 10em;\n",
       "  height: 80%;\n",
       "  background: linear-gradient(90deg,#7AA9CF 36.8%, transparent 36.8%);\n",
       "}\n",
       "#T_5ee06_row10_col3 {\n",
       "  width: 10em;\n",
       "  height: 80%;\n",
       "  background: linear-gradient(90deg,#7AA9CF 83.0%, transparent 83.0%);\n",
       "}\n",
       "#T_5ee06_row10_col4 {\n",
       "  width: 10em;\n",
       "  height: 80%;\n",
       "  background: linear-gradient(90deg,#7AA9CF 29.8%, transparent 29.8%);\n",
       "}\n",
       "#T_5ee06_row11_col3 {\n",
       "  width: 10em;\n",
       "  height: 80%;\n",
       "  background: linear-gradient(90deg,#7AA9CF 88.0%, transparent 88.0%);\n",
       "}\n",
       "#T_5ee06_row11_col4 {\n",
       "  width: 10em;\n",
       "  height: 80%;\n",
       "  background: linear-gradient(90deg,#7AA9CF 27.5%, transparent 27.5%);\n",
       "}\n",
       "#T_5ee06_row12_col3 {\n",
       "  width: 10em;\n",
       "  height: 80%;\n",
       "  background: linear-gradient(90deg,#7AA9CF 90.0%, transparent 90.0%);\n",
       "}\n",
       "#T_5ee06_row12_col4 {\n",
       "  width: 10em;\n",
       "  height: 80%;\n",
       "  background: linear-gradient(90deg,#7AA9CF 22.2%, transparent 22.2%);\n",
       "}\n",
       "#T_5ee06_row13_col3 {\n",
       "  width: 10em;\n",
       "  height: 80%;\n",
       "  background: linear-gradient(90deg,#7AA9CF 95.0%, transparent 95.0%);\n",
       "}\n",
       "#T_5ee06_row13_col4 {\n",
       "  width: 10em;\n",
       "  height: 80%;\n",
       "  background: linear-gradient(90deg,#7AA9CF 21.1%, transparent 21.1%);\n",
       "}\n",
       "#T_5ee06_row14_col3, #T_5ee06_row15_col3 {\n",
       "  width: 10em;\n",
       "  height: 80%;\n",
       "  background: linear-gradient(90deg,#7AA9CF 97.0%, transparent 97.0%);\n",
       "}\n",
       "#T_5ee06_row14_col4 {\n",
       "  width: 10em;\n",
       "  height: 80%;\n",
       "  background: linear-gradient(90deg,#7AA9CF 17.0%, transparent 17.0%);\n",
       "}\n",
       "#T_5ee06_row15_col4 {\n",
       "  width: 10em;\n",
       "  height: 80%;\n",
       "  background: linear-gradient(90deg,#7AA9CF 12.3%, transparent 12.3%);\n",
       "}\n",
       "#T_5ee06_row16_col4 {\n",
       "  width: 10em;\n",
       "  height: 80%;\n",
       "  background: linear-gradient(90deg,#7AA9CF 10.5%, transparent 10.5%);\n",
       "}\n",
       "#T_5ee06_row17_col4 {\n",
       "  width: 10em;\n",
       "  height: 80%;\n",
       "  background: linear-gradient(90deg,#7AA9CF 6.4%, transparent 6.4%);\n",
       "}\n",
       "#T_5ee06_row18_col4 {\n",
       "  width: 10em;\n",
       "  height: 80%;\n",
       "  background: linear-gradient(90deg,#7AA9CF 2.9%, transparent 2.9%);\n",
       "}\n",
       "#T_5ee06_row19_col4 {\n",
       "  width: 10em;\n",
       "  height: 80%;\n",
       "}\n",
       "</style>\n",
       "<table id=\"T_5ee06_\">\n",
       "  <thead>\n",
       "    <tr>\n",
       "      <th class=\"blank level0\" >&nbsp;</th>\n",
       "      <th class=\"col_heading level0 col0\" ># of Obs.</th>\n",
       "      <th class=\"col_heading level0 col1\" ># of Pos. Events</th>\n",
       "      <th class=\"col_heading level0 col2\" >Cumul. Pos. Events</th>\n",
       "      <th class=\"col_heading level0 col3\" >Gain</th>\n",
       "      <th class=\"col_heading level0 col4\" >Lift</th>\n",
       "    </tr>\n",
       "    <tr>\n",
       "      <th class=\"index_name level0\" >Percentile</th>\n",
       "      <th class=\"blank col0\" >&nbsp;</th>\n",
       "      <th class=\"blank col1\" >&nbsp;</th>\n",
       "      <th class=\"blank col2\" >&nbsp;</th>\n",
       "      <th class=\"blank col3\" >&nbsp;</th>\n",
       "      <th class=\"blank col4\" >&nbsp;</th>\n",
       "    </tr>\n",
       "  </thead>\n",
       "  <tbody>\n",
       "    <tr>\n",
       "      <th id=\"T_5ee06_level0_row0\" class=\"row_heading level0 row0\" >5</th>\n",
       "      <td id=\"T_5ee06_row0_col0\" class=\"data row0 col0\" >10</td>\n",
       "      <td id=\"T_5ee06_row0_col1\" class=\"data row0 col1\" >8</td>\n",
       "      <td id=\"T_5ee06_row0_col2\" class=\"data row0 col2\" >8</td>\n",
       "      <td id=\"T_5ee06_row0_col3\" class=\"data row0 col3\" >0.14</td>\n",
       "      <td id=\"T_5ee06_row0_col4\" class=\"data row0 col4\" >2.71</td>\n",
       "    </tr>\n",
       "    <tr>\n",
       "      <th id=\"T_5ee06_level0_row1\" class=\"row_heading level0 row1\" >10</th>\n",
       "      <td id=\"T_5ee06_row1_col0\" class=\"data row1 col0\" >10</td>\n",
       "      <td id=\"T_5ee06_row1_col1\" class=\"data row1 col1\" >6</td>\n",
       "      <td id=\"T_5ee06_row1_col2\" class=\"data row1 col2\" >14</td>\n",
       "      <td id=\"T_5ee06_row1_col3\" class=\"data row1 col3\" >0.24</td>\n",
       "      <td id=\"T_5ee06_row1_col4\" class=\"data row1 col4\" >2.37</td>\n",
       "    </tr>\n",
       "    <tr>\n",
       "      <th id=\"T_5ee06_level0_row2\" class=\"row_heading level0 row2\" >15</th>\n",
       "      <td id=\"T_5ee06_row2_col0\" class=\"data row2 col0\" >10</td>\n",
       "      <td id=\"T_5ee06_row2_col1\" class=\"data row2 col1\" >6</td>\n",
       "      <td id=\"T_5ee06_row2_col2\" class=\"data row2 col2\" >20</td>\n",
       "      <td id=\"T_5ee06_row2_col3\" class=\"data row2 col3\" >0.34</td>\n",
       "      <td id=\"T_5ee06_row2_col4\" class=\"data row2 col4\" >2.26</td>\n",
       "    </tr>\n",
       "    <tr>\n",
       "      <th id=\"T_5ee06_level0_row3\" class=\"row_heading level0 row3\" >20</th>\n",
       "      <td id=\"T_5ee06_row3_col0\" class=\"data row3 col0\" >10</td>\n",
       "      <td id=\"T_5ee06_row3_col1\" class=\"data row3 col1\" >8</td>\n",
       "      <td id=\"T_5ee06_row3_col2\" class=\"data row3 col2\" >28</td>\n",
       "      <td id=\"T_5ee06_row3_col3\" class=\"data row3 col3\" >0.47</td>\n",
       "      <td id=\"T_5ee06_row3_col4\" class=\"data row3 col4\" >2.37</td>\n",
       "    </tr>\n",
       "    <tr>\n",
       "      <th id=\"T_5ee06_level0_row4\" class=\"row_heading level0 row4\" >25</th>\n",
       "      <td id=\"T_5ee06_row4_col0\" class=\"data row4 col0\" >10</td>\n",
       "      <td id=\"T_5ee06_row4_col1\" class=\"data row4 col1\" >5</td>\n",
       "      <td id=\"T_5ee06_row4_col2\" class=\"data row4 col2\" >33</td>\n",
       "      <td id=\"T_5ee06_row4_col3\" class=\"data row4 col3\" >0.56</td>\n",
       "      <td id=\"T_5ee06_row4_col4\" class=\"data row4 col4\" >2.24</td>\n",
       "    </tr>\n",
       "    <tr>\n",
       "      <th id=\"T_5ee06_level0_row5\" class=\"row_heading level0 row5\" >30</th>\n",
       "      <td id=\"T_5ee06_row5_col0\" class=\"data row5 col0\" >10</td>\n",
       "      <td id=\"T_5ee06_row5_col1\" class=\"data row5 col1\" >4</td>\n",
       "      <td id=\"T_5ee06_row5_col2\" class=\"data row5 col2\" >37</td>\n",
       "      <td id=\"T_5ee06_row5_col3\" class=\"data row5 col3\" >0.63</td>\n",
       "      <td id=\"T_5ee06_row5_col4\" class=\"data row5 col4\" >2.09</td>\n",
       "    </tr>\n",
       "    <tr>\n",
       "      <th id=\"T_5ee06_level0_row6\" class=\"row_heading level0 row6\" >35</th>\n",
       "      <td id=\"T_5ee06_row6_col0\" class=\"data row6 col0\" >10</td>\n",
       "      <td id=\"T_5ee06_row6_col1\" class=\"data row6 col1\" >3</td>\n",
       "      <td id=\"T_5ee06_row6_col2\" class=\"data row6 col2\" >40</td>\n",
       "      <td id=\"T_5ee06_row6_col3\" class=\"data row6 col3\" >0.68</td>\n",
       "      <td id=\"T_5ee06_row6_col4\" class=\"data row6 col4\" >1.94</td>\n",
       "    </tr>\n",
       "    <tr>\n",
       "      <th id=\"T_5ee06_level0_row7\" class=\"row_heading level0 row7\" >40</th>\n",
       "      <td id=\"T_5ee06_row7_col0\" class=\"data row7 col0\" >10</td>\n",
       "      <td id=\"T_5ee06_row7_col1\" class=\"data row7 col1\" >5</td>\n",
       "      <td id=\"T_5ee06_row7_col2\" class=\"data row7 col2\" >45</td>\n",
       "      <td id=\"T_5ee06_row7_col3\" class=\"data row7 col3\" >0.76</td>\n",
       "      <td id=\"T_5ee06_row7_col4\" class=\"data row7 col4\" >1.91</td>\n",
       "    </tr>\n",
       "    <tr>\n",
       "      <th id=\"T_5ee06_level0_row8\" class=\"row_heading level0 row8\" >45</th>\n",
       "      <td id=\"T_5ee06_row8_col0\" class=\"data row8 col0\" >10</td>\n",
       "      <td id=\"T_5ee06_row8_col1\" class=\"data row8 col1\" >2</td>\n",
       "      <td id=\"T_5ee06_row8_col2\" class=\"data row8 col2\" >47</td>\n",
       "      <td id=\"T_5ee06_row8_col3\" class=\"data row8 col3\" >0.80</td>\n",
       "      <td id=\"T_5ee06_row8_col4\" class=\"data row8 col4\" >1.77</td>\n",
       "    </tr>\n",
       "    <tr>\n",
       "      <th id=\"T_5ee06_level0_row9\" class=\"row_heading level0 row9\" >50</th>\n",
       "      <td id=\"T_5ee06_row9_col0\" class=\"data row9 col0\" >10</td>\n",
       "      <td id=\"T_5ee06_row9_col1\" class=\"data row9 col1\" >1</td>\n",
       "      <td id=\"T_5ee06_row9_col2\" class=\"data row9 col2\" >48</td>\n",
       "      <td id=\"T_5ee06_row9_col3\" class=\"data row9 col3\" >0.81</td>\n",
       "      <td id=\"T_5ee06_row9_col4\" class=\"data row9 col4\" >1.63</td>\n",
       "    </tr>\n",
       "    <tr>\n",
       "      <th id=\"T_5ee06_level0_row10\" class=\"row_heading level0 row10\" >55</th>\n",
       "      <td id=\"T_5ee06_row10_col0\" class=\"data row10 col0\" >10</td>\n",
       "      <td id=\"T_5ee06_row10_col1\" class=\"data row10 col1\" >1</td>\n",
       "      <td id=\"T_5ee06_row10_col2\" class=\"data row10 col2\" >49</td>\n",
       "      <td id=\"T_5ee06_row10_col3\" class=\"data row10 col3\" >0.83</td>\n",
       "      <td id=\"T_5ee06_row10_col4\" class=\"data row10 col4\" >1.51</td>\n",
       "    </tr>\n",
       "    <tr>\n",
       "      <th id=\"T_5ee06_level0_row11\" class=\"row_heading level0 row11\" >60</th>\n",
       "      <td id=\"T_5ee06_row11_col0\" class=\"data row11 col0\" >10</td>\n",
       "      <td id=\"T_5ee06_row11_col1\" class=\"data row11 col1\" >3</td>\n",
       "      <td id=\"T_5ee06_row11_col2\" class=\"data row11 col2\" >52</td>\n",
       "      <td id=\"T_5ee06_row11_col3\" class=\"data row11 col3\" >0.88</td>\n",
       "      <td id=\"T_5ee06_row11_col4\" class=\"data row11 col4\" >1.47</td>\n",
       "    </tr>\n",
       "    <tr>\n",
       "      <th id=\"T_5ee06_level0_row12\" class=\"row_heading level0 row12\" >65</th>\n",
       "      <td id=\"T_5ee06_row12_col0\" class=\"data row12 col0\" >10</td>\n",
       "      <td id=\"T_5ee06_row12_col1\" class=\"data row12 col1\" >1</td>\n",
       "      <td id=\"T_5ee06_row12_col2\" class=\"data row12 col2\" >53</td>\n",
       "      <td id=\"T_5ee06_row12_col3\" class=\"data row12 col3\" >0.90</td>\n",
       "      <td id=\"T_5ee06_row12_col4\" class=\"data row12 col4\" >1.38</td>\n",
       "    </tr>\n",
       "    <tr>\n",
       "      <th id=\"T_5ee06_level0_row13\" class=\"row_heading level0 row13\" >70</th>\n",
       "      <td id=\"T_5ee06_row13_col0\" class=\"data row13 col0\" >10</td>\n",
       "      <td id=\"T_5ee06_row13_col1\" class=\"data row13 col1\" >3</td>\n",
       "      <td id=\"T_5ee06_row13_col2\" class=\"data row13 col2\" >56</td>\n",
       "      <td id=\"T_5ee06_row13_col3\" class=\"data row13 col3\" >0.95</td>\n",
       "      <td id=\"T_5ee06_row13_col4\" class=\"data row13 col4\" >1.36</td>\n",
       "    </tr>\n",
       "    <tr>\n",
       "      <th id=\"T_5ee06_level0_row14\" class=\"row_heading level0 row14\" >75</th>\n",
       "      <td id=\"T_5ee06_row14_col0\" class=\"data row14 col0\" >10</td>\n",
       "      <td id=\"T_5ee06_row14_col1\" class=\"data row14 col1\" >1</td>\n",
       "      <td id=\"T_5ee06_row14_col2\" class=\"data row14 col2\" >57</td>\n",
       "      <td id=\"T_5ee06_row14_col3\" class=\"data row14 col3\" >0.97</td>\n",
       "      <td id=\"T_5ee06_row14_col4\" class=\"data row14 col4\" >1.29</td>\n",
       "    </tr>\n",
       "    <tr>\n",
       "      <th id=\"T_5ee06_level0_row15\" class=\"row_heading level0 row15\" >80</th>\n",
       "      <td id=\"T_5ee06_row15_col0\" class=\"data row15 col0\" >10</td>\n",
       "      <td id=\"T_5ee06_row15_col1\" class=\"data row15 col1\" >0</td>\n",
       "      <td id=\"T_5ee06_row15_col2\" class=\"data row15 col2\" >57</td>\n",
       "      <td id=\"T_5ee06_row15_col3\" class=\"data row15 col3\" >0.97</td>\n",
       "      <td id=\"T_5ee06_row15_col4\" class=\"data row15 col4\" >1.21</td>\n",
       "    </tr>\n",
       "    <tr>\n",
       "      <th id=\"T_5ee06_level0_row16\" class=\"row_heading level0 row16\" >85</th>\n",
       "      <td id=\"T_5ee06_row16_col0\" class=\"data row16 col0\" >10</td>\n",
       "      <td id=\"T_5ee06_row16_col1\" class=\"data row16 col1\" >2</td>\n",
       "      <td id=\"T_5ee06_row16_col2\" class=\"data row16 col2\" >59</td>\n",
       "      <td id=\"T_5ee06_row16_col3\" class=\"data row16 col3\" >1.00</td>\n",
       "      <td id=\"T_5ee06_row16_col4\" class=\"data row16 col4\" >1.18</td>\n",
       "    </tr>\n",
       "    <tr>\n",
       "      <th id=\"T_5ee06_level0_row17\" class=\"row_heading level0 row17\" >90</th>\n",
       "      <td id=\"T_5ee06_row17_col0\" class=\"data row17 col0\" >10</td>\n",
       "      <td id=\"T_5ee06_row17_col1\" class=\"data row17 col1\" >0</td>\n",
       "      <td id=\"T_5ee06_row17_col2\" class=\"data row17 col2\" >59</td>\n",
       "      <td id=\"T_5ee06_row17_col3\" class=\"data row17 col3\" >1.00</td>\n",
       "      <td id=\"T_5ee06_row17_col4\" class=\"data row17 col4\" >1.11</td>\n",
       "    </tr>\n",
       "    <tr>\n",
       "      <th id=\"T_5ee06_level0_row18\" class=\"row_heading level0 row18\" >95</th>\n",
       "      <td id=\"T_5ee06_row18_col0\" class=\"data row18 col0\" >10</td>\n",
       "      <td id=\"T_5ee06_row18_col1\" class=\"data row18 col1\" >0</td>\n",
       "      <td id=\"T_5ee06_row18_col2\" class=\"data row18 col2\" >59</td>\n",
       "      <td id=\"T_5ee06_row18_col3\" class=\"data row18 col3\" >1.00</td>\n",
       "      <td id=\"T_5ee06_row18_col4\" class=\"data row18 col4\" >1.05</td>\n",
       "    </tr>\n",
       "    <tr>\n",
       "      <th id=\"T_5ee06_level0_row19\" class=\"row_heading level0 row19\" >100</th>\n",
       "      <td id=\"T_5ee06_row19_col0\" class=\"data row19 col0\" >10</td>\n",
       "      <td id=\"T_5ee06_row19_col1\" class=\"data row19 col1\" >0</td>\n",
       "      <td id=\"T_5ee06_row19_col2\" class=\"data row19 col2\" >59</td>\n",
       "      <td id=\"T_5ee06_row19_col3\" class=\"data row19 col3\" >1.00</td>\n",
       "      <td id=\"T_5ee06_row19_col4\" class=\"data row19 col4\" >1.00</td>\n",
       "    </tr>\n",
       "  </tbody>\n",
       "</table>\n"
      ],
      "text/plain": [
       "<pandas.io.formats.style.Styler at 0x7fed30d65cd0>"
      ]
     },
     "execution_count": 87,
     "metadata": {},
     "output_type": "execute_result"
    }
   ],
   "source": [
    "evaluator.calculate_lift_gain(return_style=True, include_all_info=True)"
   ]
  },
  {
   "cell_type": "code",
   "execution_count": 88,
   "id": "b9028e2f",
   "metadata": {
    "pycharm": {
     "name": "#%%\n"
    }
   },
   "outputs": [],
   "source": [
    "del predicted_scores"
   ]
  },
  {
   "cell_type": "markdown",
   "id": "6d5b72e3",
   "metadata": {},
   "source": [
    "# Feature Importance\n",
    "\n",
    "https://scikit-learn.org/stable/auto_examples/ensemble/plot_forest_importances.html"
   ]
  },
  {
   "cell_type": "code",
   "execution_count": 89,
   "id": "66a1cb40",
   "metadata": {},
   "outputs": [
    {
     "name": "stdout",
     "output_type": "stream",
     "text": [
      "Elapsed time to compute the importances: 3.930 seconds\n"
     ]
    }
   ],
   "source": [
    "from sklearn.inspection import permutation_importance\n",
    "import time\n",
    "\n",
    "estimator = full_pipeline\n",
    "\n",
    "start_time = time.time()\n",
    "result = permutation_importance(\n",
    "    estimator, X_train, y_train, n_repeats=10, random_state=42, n_jobs=2\n",
    ")\n",
    "elapsed_time = time.time() - start_time\n",
    "print(f\"Elapsed time to compute the importances: {elapsed_time:.3f} seconds\")\n",
    "\n",
    "feature_names = X_train.columns.to_list()\n",
    "forest_importances = pd.Series(result.importances_mean, index=feature_names)\n",
    "forest_importances = forest_importances.sort_values(ascending=False)"
   ]
  },
  {
   "cell_type": "code",
   "execution_count": 90,
   "id": "c04d3bcc",
   "metadata": {},
   "outputs": [
    {
     "data": {
      "image/png": "[encoded data removed]",
      "text/plain": [
       "<Figure size 648x432 with 1 Axes>"
      ]
     },
     "metadata": {
      "needs_background": "light"
     },
     "output_type": "display_data"
    }
   ],
   "source": [
    "import matplotlib.pyplot as plt\n",
    "fig, ax = plt.subplots()\n",
    "forest_importances.plot.bar(yerr=result.importances_std, ax=ax)\n",
    "ax.set_title(\"Feature importances using permutation on full model\")\n",
    "ax.set_ylabel(\"Mean accuracy decrease\")\n",
    "fig.set_size_inches(9, 6)\n",
    "fig.tight_layout()\n",
    "plt.show()"
   ]
  }
 ],
 "metadata": {
  "kernelspec": {
   "display_name": "Python 3 (ipykernel)",
   "language": "python",
   "name": "python3"
  },
  "language_info": {
   "codemirror_mode": {
    "name": "ipython",
    "version": 3
   },
   "file_extension": ".py",
   "mimetype": "text/x-python",
   "name": "python",
   "nbconvert_exporter": "python",
   "pygments_lexer": "ipython3",
   "version": "3.9.6"
  },
  "toc": {
   "base_numbering": 1,
   "nav_menu": {},
   "number_sections": false,
   "sideBar": true,
   "skip_h1_title": false,
   "title_cell": "Table of Contents",
   "title_sidebar": "Contents",
   "toc_cell": false,
   "toc_position": {
    "height": "calc(100% - 180px)",
    "left": "10px",
    "top": "150px",
    "width": "298px"
   },
   "toc_section_display": true,
   "toc_window_display": true
  }
 },
 "nbformat": 4,
 "nbformat_minor": 5
}
