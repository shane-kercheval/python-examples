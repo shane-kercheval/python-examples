{
 "cells": [
  {
   "cell_type": "code",
   "execution_count": 1,
   "id": "c5f3fe51",
   "metadata": {},
   "outputs": [],
   "source": [
    "import pickle\n",
    "import helpsk as hlp\n",
    "import matplotlib.pyplot as plt\n",
    "import pandas as pd\n",
    "import numpy as np\n",
    "from sklearn.datasets import fetch_openml\n",
    "import seaborn as sns\n",
    "\n",
    "from sklearn.pipeline import Pipeline\n",
    "from sklearn.preprocessing import StandardScaler, MinMaxScaler, OneHotEncoder  # , LabelEncoder\n",
    "from sklearn.impute import SimpleImputer\n",
    "from sklearn.model_selection import train_test_split\n",
    "# from sklearn.base import BaseEstimator, TransformerMixin\n",
    "\n",
    "%matplotlib inline"
   ]
  },
  {
   "cell_type": "markdown",
   "id": "8ff88fe0",
   "metadata": {},
   "source": [
    "# Load Data"
   ]
  },
  {
   "cell_type": "code",
   "execution_count": 2,
   "id": "fc98b023",
   "metadata": {},
   "outputs": [
    {
     "data": {
      "text/plain": [
       "{'colsample_bytree': 0.1049484964611341,\n",
       " 'learning_rate': 0.013882012240590661,\n",
       " 'max_depth': 5,\n",
       " 'n_estimators': 843,\n",
       " 'subsample': 0.8790046279648855,\n",
       " 'encoder': 'CustomOrdinalEncoder()',\n",
       " 'imputer': 'SimpleImputer()',\n",
       " 'scaler': 'MinMaxScaler()'}"
      ]
     },
     "execution_count": 2,
     "metadata": {},
     "output_type": "execute_result"
    }
   ],
   "source": [
    "parser = hlp.sklearn_eval.SearchCVParser.from_yaml_file(yaml_file_name = 'Run 1 - XGBoost - BayesSearchCV.yaml')\n",
    "parser.best_primary_score_params"
   ]
  },
  {
   "cell_type": "code",
   "execution_count": 3,
   "id": "7511e37e",
   "metadata": {},
   "outputs": [
    {
     "name": "stdout",
     "output_type": "stream",
     "text": [
      "(800, 20)\n",
      "800\n",
      "(200, 20)\n",
      "200\n"
     ]
    }
   ],
   "source": [
    "with open('../X_train.pkl', 'rb') as handle:\n",
    "    X_train = pickle.load(handle)\n",
    "    print(X_train.shape)\n",
    "\n",
    "with open('../y_train.pkl', 'rb') as handle:\n",
    "    y_train = pickle.load(handle)\n",
    "    print(len(y_train))\n",
    "\n",
    "with open('../X_test.pkl', 'rb') as handle:\n",
    "    X_test = pickle.load(handle)\n",
    "    print(X_test.shape)\n",
    "\n",
    "with open('../y_test.pkl', 'rb') as handle:\n",
    "    y_test = pickle.load(handle)\n",
    "    print(len(y_test))"
   ]
  },
  {
   "cell_type": "code",
   "execution_count": 4,
   "id": "1e782cdf",
   "metadata": {},
   "outputs": [
    {
     "data": {
      "text/html": [
       "<div>\n",
       "<style scoped>\n",
       "    .dataframe tbody tr th:only-of-type {\n",
       "        vertical-align: middle;\n",
       "    }\n",
       "\n",
       "    .dataframe tbody tr th {\n",
       "        vertical-align: top;\n",
       "    }\n",
       "\n",
       "    .dataframe thead th {\n",
       "        text-align: right;\n",
       "    }\n",
       "</style>\n",
       "<table border=\"1\" class=\"dataframe\">\n",
       "  <thead>\n",
       "    <tr style=\"text-align: right;\">\n",
       "      <th></th>\n",
       "      <th>checking_status</th>\n",
       "      <th>duration</th>\n",
       "      <th>credit_history</th>\n",
       "      <th>purpose</th>\n",
       "      <th>credit_amount</th>\n",
       "      <th>savings_status</th>\n",
       "      <th>employment</th>\n",
       "      <th>installment_commitment</th>\n",
       "      <th>personal_status</th>\n",
       "      <th>other_parties</th>\n",
       "      <th>residence_since</th>\n",
       "      <th>property_magnitude</th>\n",
       "      <th>age</th>\n",
       "      <th>other_payment_plans</th>\n",
       "      <th>housing</th>\n",
       "      <th>existing_credits</th>\n",
       "      <th>job</th>\n",
       "      <th>num_dependents</th>\n",
       "      <th>own_telephone</th>\n",
       "      <th>foreign_worker</th>\n",
       "    </tr>\n",
       "  </thead>\n",
       "  <tbody>\n",
       "    <tr>\n",
       "      <th>29</th>\n",
       "      <td>NaN</td>\n",
       "      <td>NaN</td>\n",
       "      <td>delayed previously</td>\n",
       "      <td>business</td>\n",
       "      <td>0.0</td>\n",
       "      <td>&lt;100</td>\n",
       "      <td>&gt;=7</td>\n",
       "      <td>3.0</td>\n",
       "      <td>male single</td>\n",
       "      <td>none</td>\n",
       "      <td>4.0</td>\n",
       "      <td>no known property</td>\n",
       "      <td>63.0</td>\n",
       "      <td>none</td>\n",
       "      <td>own</td>\n",
       "      <td>2.0</td>\n",
       "      <td>skilled</td>\n",
       "      <td>1.0</td>\n",
       "      <td>yes</td>\n",
       "      <td>yes</td>\n",
       "    </tr>\n",
       "    <tr>\n",
       "      <th>535</th>\n",
       "      <td>&gt;=200</td>\n",
       "      <td>21.0</td>\n",
       "      <td>critical/other existing credit</td>\n",
       "      <td>education</td>\n",
       "      <td>2319.0</td>\n",
       "      <td>&lt;100</td>\n",
       "      <td>&lt;1</td>\n",
       "      <td>2.0</td>\n",
       "      <td>male div/sep</td>\n",
       "      <td>none</td>\n",
       "      <td>1.0</td>\n",
       "      <td>car</td>\n",
       "      <td>33.0</td>\n",
       "      <td>none</td>\n",
       "      <td>rent</td>\n",
       "      <td>1.0</td>\n",
       "      <td>skilled</td>\n",
       "      <td>1.0</td>\n",
       "      <td>none</td>\n",
       "      <td>yes</td>\n",
       "    </tr>\n",
       "    <tr>\n",
       "      <th>695</th>\n",
       "      <td>no checking</td>\n",
       "      <td>6.0</td>\n",
       "      <td>existing paid</td>\n",
       "      <td>used car</td>\n",
       "      <td>1236.0</td>\n",
       "      <td>500&lt;=X&lt;1000</td>\n",
       "      <td>1&lt;=X&lt;4</td>\n",
       "      <td>2.0</td>\n",
       "      <td>male single</td>\n",
       "      <td>none</td>\n",
       "      <td>4.0</td>\n",
       "      <td>life insurance</td>\n",
       "      <td>50.0</td>\n",
       "      <td>none</td>\n",
       "      <td>rent</td>\n",
       "      <td>1.0</td>\n",
       "      <td>skilled</td>\n",
       "      <td>1.0</td>\n",
       "      <td>none</td>\n",
       "      <td>yes</td>\n",
       "    </tr>\n",
       "    <tr>\n",
       "      <th>557</th>\n",
       "      <td>no checking</td>\n",
       "      <td>21.0</td>\n",
       "      <td>no credits/all paid</td>\n",
       "      <td>new car</td>\n",
       "      <td>5003.0</td>\n",
       "      <td>no known savings</td>\n",
       "      <td>1&lt;=X&lt;4</td>\n",
       "      <td>1.0</td>\n",
       "      <td>female div/dep/mar</td>\n",
       "      <td>none</td>\n",
       "      <td>4.0</td>\n",
       "      <td>life insurance</td>\n",
       "      <td>29.0</td>\n",
       "      <td>bank</td>\n",
       "      <td>own</td>\n",
       "      <td>2.0</td>\n",
       "      <td>skilled</td>\n",
       "      <td>1.0</td>\n",
       "      <td>yes</td>\n",
       "      <td>yes</td>\n",
       "    </tr>\n",
       "    <tr>\n",
       "      <th>836</th>\n",
       "      <td>no checking</td>\n",
       "      <td>12.0</td>\n",
       "      <td>existing paid</td>\n",
       "      <td>radio/tv</td>\n",
       "      <td>886.0</td>\n",
       "      <td>no known savings</td>\n",
       "      <td>1&lt;=X&lt;4</td>\n",
       "      <td>4.0</td>\n",
       "      <td>female div/dep/mar</td>\n",
       "      <td>none</td>\n",
       "      <td>2.0</td>\n",
       "      <td>car</td>\n",
       "      <td>21.0</td>\n",
       "      <td>none</td>\n",
       "      <td>own</td>\n",
       "      <td>1.0</td>\n",
       "      <td>skilled</td>\n",
       "      <td>1.0</td>\n",
       "      <td>none</td>\n",
       "      <td>yes</td>\n",
       "    </tr>\n",
       "  </tbody>\n",
       "</table>\n",
       "</div>"
      ],
      "text/plain": [
       "    checking_status  duration                  credit_history    purpose  \\\n",
       "29              NaN       NaN              delayed previously   business   \n",
       "535           >=200      21.0  critical/other existing credit  education   \n",
       "695     no checking       6.0                   existing paid   used car   \n",
       "557     no checking      21.0             no credits/all paid    new car   \n",
       "836     no checking      12.0                   existing paid   radio/tv   \n",
       "\n",
       "     credit_amount    savings_status employment  installment_commitment  \\\n",
       "29             0.0              <100        >=7                     3.0   \n",
       "535         2319.0              <100         <1                     2.0   \n",
       "695         1236.0       500<=X<1000     1<=X<4                     2.0   \n",
       "557         5003.0  no known savings     1<=X<4                     1.0   \n",
       "836          886.0  no known savings     1<=X<4                     4.0   \n",
       "\n",
       "        personal_status other_parties  residence_since property_magnitude  \\\n",
       "29          male single          none              4.0  no known property   \n",
       "535        male div/sep          none              1.0                car   \n",
       "695         male single          none              4.0     life insurance   \n",
       "557  female div/dep/mar          none              4.0     life insurance   \n",
       "836  female div/dep/mar          none              2.0                car   \n",
       "\n",
       "      age other_payment_plans housing  existing_credits      job  \\\n",
       "29   63.0                none     own               2.0  skilled   \n",
       "535  33.0                none    rent               1.0  skilled   \n",
       "695  50.0                none    rent               1.0  skilled   \n",
       "557  29.0                bank     own               2.0  skilled   \n",
       "836  21.0                none     own               1.0  skilled   \n",
       "\n",
       "     num_dependents own_telephone foreign_worker  \n",
       "29              1.0           yes            yes  \n",
       "535             1.0          none            yes  \n",
       "695             1.0          none            yes  \n",
       "557             1.0           yes            yes  \n",
       "836             1.0          none            yes  "
      ]
     },
     "execution_count": 4,
     "metadata": {},
     "output_type": "execute_result"
    }
   ],
   "source": [
    "X_train.head()"
   ]
  },
  {
   "cell_type": "code",
   "execution_count": 5,
   "id": "a9795b35",
   "metadata": {},
   "outputs": [
    {
     "data": {
      "text/plain": [
       "array([0, 0, 1, 0, 1, 0, 1, 0, 0, 1])"
      ]
     },
     "execution_count": 5,
     "metadata": {},
     "output_type": "execute_result"
    }
   ],
   "source": [
    "y_train[0:10]"
   ]
  },
  {
   "cell_type": "code",
   "execution_count": 6,
   "id": "4d20507c",
   "metadata": {},
   "outputs": [
    {
     "data": {
      "text/html": [
       "<div>\n",
       "<style scoped>\n",
       "    .dataframe tbody tr th:only-of-type {\n",
       "        vertical-align: middle;\n",
       "    }\n",
       "\n",
       "    .dataframe tbody tr th {\n",
       "        vertical-align: top;\n",
       "    }\n",
       "\n",
       "    .dataframe thead th {\n",
       "        text-align: right;\n",
       "    }\n",
       "</style>\n",
       "<table border=\"1\" class=\"dataframe\">\n",
       "  <thead>\n",
       "    <tr style=\"text-align: right;\">\n",
       "      <th></th>\n",
       "      <th>checking_status</th>\n",
       "      <th>duration</th>\n",
       "      <th>credit_history</th>\n",
       "      <th>purpose</th>\n",
       "      <th>credit_amount</th>\n",
       "      <th>savings_status</th>\n",
       "      <th>employment</th>\n",
       "      <th>installment_commitment</th>\n",
       "      <th>personal_status</th>\n",
       "      <th>other_parties</th>\n",
       "      <th>residence_since</th>\n",
       "      <th>property_magnitude</th>\n",
       "      <th>age</th>\n",
       "      <th>other_payment_plans</th>\n",
       "      <th>housing</th>\n",
       "      <th>existing_credits</th>\n",
       "      <th>job</th>\n",
       "      <th>num_dependents</th>\n",
       "      <th>own_telephone</th>\n",
       "      <th>foreign_worker</th>\n",
       "    </tr>\n",
       "  </thead>\n",
       "  <tbody>\n",
       "    <tr>\n",
       "      <th>521</th>\n",
       "      <td>&lt;0</td>\n",
       "      <td>18.0</td>\n",
       "      <td>existing paid</td>\n",
       "      <td>radio/tv</td>\n",
       "      <td>3190.0</td>\n",
       "      <td>&lt;100</td>\n",
       "      <td>1&lt;=X&lt;4</td>\n",
       "      <td>2.0</td>\n",
       "      <td>female div/dep/mar</td>\n",
       "      <td>none</td>\n",
       "      <td>2.0</td>\n",
       "      <td>real estate</td>\n",
       "      <td>24.0</td>\n",
       "      <td>none</td>\n",
       "      <td>own</td>\n",
       "      <td>1.0</td>\n",
       "      <td>skilled</td>\n",
       "      <td>1.0</td>\n",
       "      <td>none</td>\n",
       "      <td>yes</td>\n",
       "    </tr>\n",
       "    <tr>\n",
       "      <th>737</th>\n",
       "      <td>&lt;0</td>\n",
       "      <td>18.0</td>\n",
       "      <td>existing paid</td>\n",
       "      <td>new car</td>\n",
       "      <td>4380.0</td>\n",
       "      <td>100&lt;=X&lt;500</td>\n",
       "      <td>1&lt;=X&lt;4</td>\n",
       "      <td>3.0</td>\n",
       "      <td>male single</td>\n",
       "      <td>none</td>\n",
       "      <td>4.0</td>\n",
       "      <td>car</td>\n",
       "      <td>35.0</td>\n",
       "      <td>none</td>\n",
       "      <td>own</td>\n",
       "      <td>1.0</td>\n",
       "      <td>unskilled resident</td>\n",
       "      <td>2.0</td>\n",
       "      <td>yes</td>\n",
       "      <td>yes</td>\n",
       "    </tr>\n",
       "    <tr>\n",
       "      <th>740</th>\n",
       "      <td>&lt;0</td>\n",
       "      <td>24.0</td>\n",
       "      <td>all paid</td>\n",
       "      <td>new car</td>\n",
       "      <td>2325.0</td>\n",
       "      <td>100&lt;=X&lt;500</td>\n",
       "      <td>4&lt;=X&lt;7</td>\n",
       "      <td>2.0</td>\n",
       "      <td>male single</td>\n",
       "      <td>none</td>\n",
       "      <td>3.0</td>\n",
       "      <td>car</td>\n",
       "      <td>32.0</td>\n",
       "      <td>bank</td>\n",
       "      <td>own</td>\n",
       "      <td>1.0</td>\n",
       "      <td>skilled</td>\n",
       "      <td>1.0</td>\n",
       "      <td>none</td>\n",
       "      <td>yes</td>\n",
       "    </tr>\n",
       "    <tr>\n",
       "      <th>660</th>\n",
       "      <td>&gt;=200</td>\n",
       "      <td>12.0</td>\n",
       "      <td>existing paid</td>\n",
       "      <td>radio/tv</td>\n",
       "      <td>1297.0</td>\n",
       "      <td>&lt;100</td>\n",
       "      <td>1&lt;=X&lt;4</td>\n",
       "      <td>3.0</td>\n",
       "      <td>male mar/wid</td>\n",
       "      <td>none</td>\n",
       "      <td>4.0</td>\n",
       "      <td>real estate</td>\n",
       "      <td>23.0</td>\n",
       "      <td>none</td>\n",
       "      <td>rent</td>\n",
       "      <td>1.0</td>\n",
       "      <td>skilled</td>\n",
       "      <td>1.0</td>\n",
       "      <td>none</td>\n",
       "      <td>yes</td>\n",
       "    </tr>\n",
       "    <tr>\n",
       "      <th>411</th>\n",
       "      <td>no checking</td>\n",
       "      <td>33.0</td>\n",
       "      <td>critical/other existing credit</td>\n",
       "      <td>used car</td>\n",
       "      <td>7253.0</td>\n",
       "      <td>&lt;100</td>\n",
       "      <td>4&lt;=X&lt;7</td>\n",
       "      <td>3.0</td>\n",
       "      <td>male single</td>\n",
       "      <td>none</td>\n",
       "      <td>2.0</td>\n",
       "      <td>car</td>\n",
       "      <td>35.0</td>\n",
       "      <td>none</td>\n",
       "      <td>own</td>\n",
       "      <td>2.0</td>\n",
       "      <td>high qualif/self emp/mgmt</td>\n",
       "      <td>1.0</td>\n",
       "      <td>yes</td>\n",
       "      <td>yes</td>\n",
       "    </tr>\n",
       "  </tbody>\n",
       "</table>\n",
       "</div>"
      ],
      "text/plain": [
       "    checking_status  duration                  credit_history   purpose  \\\n",
       "521              <0      18.0                   existing paid  radio/tv   \n",
       "737              <0      18.0                   existing paid   new car   \n",
       "740              <0      24.0                        all paid   new car   \n",
       "660           >=200      12.0                   existing paid  radio/tv   \n",
       "411     no checking      33.0  critical/other existing credit  used car   \n",
       "\n",
       "     credit_amount savings_status employment  installment_commitment  \\\n",
       "521         3190.0           <100     1<=X<4                     2.0   \n",
       "737         4380.0     100<=X<500     1<=X<4                     3.0   \n",
       "740         2325.0     100<=X<500     4<=X<7                     2.0   \n",
       "660         1297.0           <100     1<=X<4                     3.0   \n",
       "411         7253.0           <100     4<=X<7                     3.0   \n",
       "\n",
       "        personal_status other_parties  residence_since property_magnitude  \\\n",
       "521  female div/dep/mar          none              2.0        real estate   \n",
       "737         male single          none              4.0                car   \n",
       "740         male single          none              3.0                car   \n",
       "660        male mar/wid          none              4.0        real estate   \n",
       "411         male single          none              2.0                car   \n",
       "\n",
       "      age other_payment_plans housing  existing_credits  \\\n",
       "521  24.0                none     own               1.0   \n",
       "737  35.0                none     own               1.0   \n",
       "740  32.0                bank     own               1.0   \n",
       "660  23.0                none    rent               1.0   \n",
       "411  35.0                none     own               2.0   \n",
       "\n",
       "                           job  num_dependents own_telephone foreign_worker  \n",
       "521                    skilled             1.0          none            yes  \n",
       "737         unskilled resident             2.0           yes            yes  \n",
       "740                    skilled             1.0          none            yes  \n",
       "660                    skilled             1.0          none            yes  \n",
       "411  high qualif/self emp/mgmt             1.0           yes            yes  "
      ]
     },
     "execution_count": 6,
     "metadata": {},
     "output_type": "execute_result"
    }
   ],
   "source": [
    "X_test.head()"
   ]
  },
  {
   "cell_type": "code",
   "execution_count": 7,
   "id": "c066c30a",
   "metadata": {},
   "outputs": [
    {
     "data": {
      "text/plain": [
       "array([0, 1, 1, 1, 1, 1, 1, 1, 1, 1])"
      ]
     },
     "execution_count": 7,
     "metadata": {},
     "output_type": "execute_result"
    }
   ],
   "source": [
    "y_test[0:10]"
   ]
  },
  {
   "cell_type": "markdown",
   "id": "1ca1d63a",
   "metadata": {},
   "source": [
    "# Training and Test Data"
   ]
  },
  {
   "cell_type": "code",
   "execution_count": 8,
   "id": "86f44647",
   "metadata": {},
   "outputs": [
    {
     "data": {
      "text/plain": [
       "array([0, 0, 1, 0, 1, 0, 1, 0, 0, 1])"
      ]
     },
     "execution_count": 8,
     "metadata": {},
     "output_type": "execute_result"
    }
   ],
   "source": [
    "y_train[0:10]"
   ]
  },
  {
   "cell_type": "code",
   "execution_count": 14,
   "id": "742c6bf1",
   "metadata": {},
   "outputs": [
    {
     "name": "stdout",
     "output_type": "stream",
     "text": [
      "['duration', 'credit_amount', 'installment_commitment', 'residence_since', 'age', 'existing_credits', 'num_dependents']\n",
      "['checking_status', 'credit_history', 'purpose', 'savings_status', 'employment', 'personal_status', 'other_parties', 'property_magnitude', 'other_payment_plans', 'housing', 'job', 'own_telephone', 'foreign_worker']\n"
     ]
    }
   ],
   "source": [
    "numeric_columns = hlp.pandas.get_numeric_columns(X_train)\n",
    "non_numeric_columns = hlp.pandas.get_non_numeric_columns(X_train)\n",
    "print(numeric_columns)\n",
    "print(non_numeric_columns)"
   ]
  },
  {
   "cell_type": "code",
   "execution_count": 15,
   "id": "ce3d4969",
   "metadata": {},
   "outputs": [
    {
     "data": {
      "text/plain": [
       "{'colsample_bytree': 0.1049484964611341,\n",
       " 'learning_rate': 0.013882012240590661,\n",
       " 'max_depth': 5,\n",
       " 'n_estimators': 843,\n",
       " 'subsample': 0.8790046279648855,\n",
       " 'encoder': 'CustomOrdinalEncoder()',\n",
       " 'imputer': 'SimpleImputer()',\n",
       " 'scaler': 'MinMaxScaler()'}"
      ]
     },
     "execution_count": 15,
     "metadata": {},
     "output_type": "execute_result"
    }
   ],
   "source": [
    "parser.best_primary_score_params"
   ]
  },
  {
   "cell_type": "code",
   "execution_count": 16,
   "id": "740dc372",
   "metadata": {},
   "outputs": [],
   "source": [
    "numeric_pipeline = Pipeline([\n",
    "    ('imputer', SimpleImputer(strategy='mean')),\n",
    "    ('scaler', MinMaxScaler()),\n",
    "])"
   ]
  },
  {
   "cell_type": "code",
   "execution_count": 17,
   "id": "4ed41bd2",
   "metadata": {},
   "outputs": [],
   "source": [
    "non_numeric_pipeline = Pipeline([\n",
    "    ('encoder', hlp.sklearn_pipeline.CustomOrdinalEncoder()),\n",
    "])"
   ]
  },
  {
   "cell_type": "code",
   "execution_count": 18,
   "id": "8f7f94d0",
   "metadata": {},
   "outputs": [],
   "source": [
    "from sklearn.compose import ColumnTransformer\n",
    "transformations_pipeline = ColumnTransformer([\n",
    "    ('numeric', numeric_pipeline, numeric_columns),\n",
    "    ('non_numeric', non_numeric_pipeline, non_numeric_columns)\n",
    "])"
   ]
  },
  {
   "cell_type": "markdown",
   "id": "c215d60a",
   "metadata": {},
   "source": [
    "# Model"
   ]
  },
  {
   "cell_type": "code",
   "execution_count": 24,
   "id": "3b3ddb87",
   "metadata": {},
   "outputs": [],
   "source": [
    "from xgboost import XGBClassifier\n",
    "random_forest_model = XGBClassifier(\n",
    "    colsample_bytree=0.1049484964611341,\n",
    "    learning_rate=0.013882012240590661,\n",
    "    max_depth=5,\n",
    "    n_estimators=843,\n",
    "    subsample=0.8790046279648855,\n",
    "    random_state=42,\n",
    "    use_label_encoder=False,\n",
    ")"
   ]
  },
  {
   "cell_type": "code",
   "execution_count": 25,
   "id": "d6a81445",
   "metadata": {},
   "outputs": [],
   "source": [
    "full_pipeline = Pipeline([\n",
    "    ('prep', transformations_pipeline),\n",
    "    ('model', random_forest_model)\n",
    "])"
   ]
  },
  {
   "cell_type": "code",
   "execution_count": 26,
   "id": "936a9d3f",
   "metadata": {
    "scrolled": true
   },
   "outputs": [
    {
     "data": {
      "text/plain": [
       "{'prep': ColumnTransformer(transformers=[('numeric',\n",
       "                                  Pipeline(steps=[('imputer', SimpleImputer()),\n",
       "                                                  ('scaler', MinMaxScaler())]),\n",
       "                                  ['duration', 'credit_amount',\n",
       "                                   'installment_commitment', 'residence_since',\n",
       "                                   'age', 'existing_credits',\n",
       "                                   'num_dependents']),\n",
       "                                 ('non_numeric',\n",
       "                                  Pipeline(steps=[('encoder',\n",
       "                                                   CustomOrdinalEncoder())]),\n",
       "                                  ['checking_status', 'credit_history',\n",
       "                                   'purpose', 'savings_status', 'employment',\n",
       "                                   'personal_status', 'other_parties',\n",
       "                                   'property_magnitude', 'other_payment_plans',\n",
       "                                   'housing', 'job', 'own_telephone',\n",
       "                                   'foreign_worker'])]),\n",
       " 'model': XGBClassifier(base_score=None, booster=None, colsample_bylevel=None,\n",
       "               colsample_bynode=None, colsample_bytree=0.1049484964611341,\n",
       "               enable_categorical=False, gamma=None, gpu_id=None,\n",
       "               importance_type=None, interaction_constraints=None,\n",
       "               learning_rate=0.013882012240590661, max_delta_step=None,\n",
       "               max_depth=5, min_child_weight=None, missing=nan,\n",
       "               monotone_constraints=None, n_estimators=843, n_jobs=None,\n",
       "               num_parallel_tree=None, predictor=None, random_state=42,\n",
       "               reg_alpha=None, reg_lambda=None, scale_pos_weight=None,\n",
       "               subsample=0.8790046279648855, tree_method=None,\n",
       "               use_label_encoder=False, validate_parameters=None,\n",
       "               verbosity=None)}"
      ]
     },
     "execution_count": 26,
     "metadata": {},
     "output_type": "execute_result"
    }
   ],
   "source": [
    "# Show the levels of pipelines/transformers/model\n",
    "full_pipeline.named_steps"
   ]
  },
  {
   "cell_type": "code",
   "execution_count": 28,
   "id": "e1e4704a",
   "metadata": {},
   "outputs": [
    {
     "name": "stdout",
     "output_type": "stream",
     "text": [
      "[14:07:37] WARNING: /private/var/folders/7x/wc3jx_91337bggbzk01kpvs40000gn/T/pip-install-9asvcns4/xgboost_6cd18ae4d2a4469e8f54a1f945448b8a/build/temp.macosx-10.9-x86_64-3.9/xgboost/src/learner.cc:1115: Starting in XGBoost 1.3.0, the default evaluation metric used with the objective 'binary:logistic' was changed from 'error' to 'logloss'. Explicitly set eval_metric if you'd like to restore the old behavior.\n"
     ]
    }
   ],
   "source": [
    "fitted_pipeline = full_pipeline.fit(X_train, y_train)"
   ]
  },
  {
   "cell_type": "code",
   "execution_count": 29,
   "id": "1870f6d1",
   "metadata": {},
   "outputs": [
    {
     "data": {
      "text/plain": [
       "array([1, 1, 0, 1, 1, 1, 1, 1, 1, 1, 1, 1, 1, 1, 0, 1, 1, 1, 1, 1, 1, 1,\n",
       "       1, 1, 1, 1, 1, 1, 1, 1, 1, 1, 1, 1, 1, 1, 0, 1, 1, 0, 1, 1, 1, 1,\n",
       "       1, 1, 0, 1, 1, 1, 1, 1, 1, 1, 1, 1, 1, 0, 0, 1, 1, 1, 1, 1, 1, 1,\n",
       "       1, 1, 1, 1, 1, 1, 1, 1, 1, 1, 1, 1, 1, 0, 1, 1, 1, 1, 1, 0, 0, 0,\n",
       "       1, 1, 1, 1, 0, 1, 1, 1, 1, 1, 0, 1, 1, 1, 1, 1, 1, 1, 1, 1, 1, 1,\n",
       "       0, 1, 1, 1, 1, 1, 1, 1, 1, 1, 1, 1, 1, 1, 0, 1, 0, 1, 1, 1, 1, 1,\n",
       "       1, 1, 1, 1, 1, 1, 1, 1, 1, 1, 0, 1, 1, 0, 1, 1, 1, 1, 1, 1, 1, 1,\n",
       "       1, 1, 1, 1, 1, 1, 1, 1, 0, 0, 1, 1, 1, 1, 1, 1, 1, 1, 1, 1, 1, 1,\n",
       "       1, 1, 1, 1, 1, 1, 1, 1, 1, 1, 0, 1, 1, 1, 1, 0, 1, 0, 1, 1, 0, 0,\n",
       "       1, 1])"
      ]
     },
     "execution_count": 29,
     "metadata": {},
     "output_type": "execute_result"
    }
   ],
   "source": [
    "fitted_pipeline.predict(X_test)"
   ]
  },
  {
   "cell_type": "code",
   "execution_count": 30,
   "id": "e72b7ef0",
   "metadata": {},
   "outputs": [
    {
     "data": {
      "text/plain": [
       "array([[0.3033579 , 0.6966421 ],\n",
       "       [0.49178302, 0.508217  ],\n",
       "       [0.63111186, 0.36888814],\n",
       "       [0.31892526, 0.68107474],\n",
       "       [0.09109342, 0.9089066 ],\n",
       "       [0.3190269 , 0.6809731 ],\n",
       "       [0.09450716, 0.90549284],\n",
       "       [0.46342027, 0.5365797 ],\n",
       "       [0.06658894, 0.93341106],\n",
       "       [0.10118395, 0.89881605],\n",
       "       [0.11620831, 0.8837917 ],\n",
       "       [0.44247717, 0.55752283],\n",
       "       [0.15185833, 0.8481417 ],\n",
       "       [0.4746039 , 0.5253961 ],\n",
       "       [0.6371982 , 0.36280182],\n",
       "       [0.48865122, 0.5113488 ],\n",
       "       [0.11916411, 0.8808359 ],\n",
       "       [0.15178114, 0.84821886],\n",
       "       [0.45000905, 0.54999095],\n",
       "       [0.13180804, 0.86819196],\n",
       "       [0.14308423, 0.8569158 ],\n",
       "       [0.37285525, 0.62714475],\n",
       "       [0.12456447, 0.87543553],\n",
       "       [0.02916753, 0.97083247],\n",
       "       [0.0662595 , 0.9337405 ],\n",
       "       [0.45864874, 0.54135126],\n",
       "       [0.47914314, 0.52085686],\n",
       "       [0.49469066, 0.50530934],\n",
       "       [0.17079753, 0.8292025 ],\n",
       "       [0.16941756, 0.83058244],\n",
       "       [0.18755585, 0.81244415],\n",
       "       [0.23940688, 0.7605931 ],\n",
       "       [0.2698081 , 0.7301919 ],\n",
       "       [0.17559028, 0.8244097 ],\n",
       "       [0.17411882, 0.8258812 ],\n",
       "       [0.2120859 , 0.7879141 ],\n",
       "       [0.545529  , 0.45447102],\n",
       "       [0.29212028, 0.7078797 ],\n",
       "       [0.13639992, 0.8636001 ],\n",
       "       [0.54333425, 0.45666578],\n",
       "       [0.33679116, 0.66320884],\n",
       "       [0.15478575, 0.84521425],\n",
       "       [0.17197776, 0.82802224],\n",
       "       [0.14654201, 0.853458  ],\n",
       "       [0.12685144, 0.87314856],\n",
       "       [0.25391215, 0.74608785],\n",
       "       [0.55654824, 0.44345173],\n",
       "       [0.33319318, 0.6668068 ],\n",
       "       [0.30967885, 0.69032115],\n",
       "       [0.1681472 , 0.8318528 ],\n",
       "       [0.46984148, 0.5301585 ],\n",
       "       [0.07603359, 0.9239664 ],\n",
       "       [0.2665553 , 0.7334447 ],\n",
       "       [0.49134576, 0.50865424],\n",
       "       [0.16342723, 0.83657277],\n",
       "       [0.1262539 , 0.8737461 ],\n",
       "       [0.10702735, 0.89297265],\n",
       "       [0.5836301 , 0.41636994],\n",
       "       [0.7044089 , 0.2955911 ],\n",
       "       [0.23363703, 0.76636297],\n",
       "       [0.22767001, 0.77233   ],\n",
       "       [0.46577728, 0.5342227 ],\n",
       "       [0.30531764, 0.69468236],\n",
       "       [0.036605  , 0.963395  ],\n",
       "       [0.41164923, 0.5883508 ],\n",
       "       [0.22881025, 0.77118975],\n",
       "       [0.12238246, 0.87761754],\n",
       "       [0.42339718, 0.5766028 ],\n",
       "       [0.42703444, 0.57296556],\n",
       "       [0.11021996, 0.88978004],\n",
       "       [0.42023808, 0.5797619 ],\n",
       "       [0.08202058, 0.9179794 ],\n",
       "       [0.13045394, 0.86954606],\n",
       "       [0.32956743, 0.67043257],\n",
       "       [0.40459895, 0.59540105],\n",
       "       [0.34227765, 0.65772235],\n",
       "       [0.2762409 , 0.7237591 ],\n",
       "       [0.16314381, 0.8368562 ],\n",
       "       [0.19568062, 0.8043194 ],\n",
       "       [0.5326233 , 0.4673767 ],\n",
       "       [0.15155458, 0.8484454 ],\n",
       "       [0.30833745, 0.69166255],\n",
       "       [0.09529483, 0.90470517],\n",
       "       [0.22390741, 0.7760926 ],\n",
       "       [0.23386872, 0.7661313 ],\n",
       "       [0.5376315 , 0.46236852],\n",
       "       [0.6262398 , 0.37376025],\n",
       "       [0.55776453, 0.4422355 ],\n",
       "       [0.17723203, 0.822768  ],\n",
       "       [0.14499193, 0.85500807],\n",
       "       [0.42588145, 0.57411855],\n",
       "       [0.07153004, 0.92846996],\n",
       "       [0.8728535 , 0.12714651],\n",
       "       [0.48011726, 0.51988274],\n",
       "       [0.07763427, 0.9223657 ],\n",
       "       [0.10699773, 0.8930023 ],\n",
       "       [0.15633005, 0.84366995],\n",
       "       [0.37674928, 0.6232507 ],\n",
       "       [0.73817575, 0.26182422],\n",
       "       [0.43195063, 0.5680494 ],\n",
       "       [0.06517982, 0.9348202 ],\n",
       "       [0.27454275, 0.72545725],\n",
       "       [0.18671554, 0.81328446],\n",
       "       [0.08601475, 0.91398525],\n",
       "       [0.20610237, 0.7938976 ],\n",
       "       [0.22752798, 0.772472  ],\n",
       "       [0.40123087, 0.5987691 ],\n",
       "       [0.4229924 , 0.5770076 ],\n",
       "       [0.25847983, 0.74152017],\n",
       "       [0.47033542, 0.5296646 ],\n",
       "       [0.60457647, 0.39542353],\n",
       "       [0.19536448, 0.8046355 ],\n",
       "       [0.48203605, 0.51796395],\n",
       "       [0.10887629, 0.8911237 ],\n",
       "       [0.30285472, 0.6971453 ],\n",
       "       [0.15477741, 0.8452226 ],\n",
       "       [0.32167786, 0.67832214],\n",
       "       [0.20222986, 0.79777014],\n",
       "       [0.20992851, 0.7900715 ],\n",
       "       [0.3963021 , 0.6036979 ],\n",
       "       [0.26276243, 0.7372376 ],\n",
       "       [0.36852068, 0.6314793 ],\n",
       "       [0.28920102, 0.710799  ],\n",
       "       [0.2753154 , 0.7246846 ],\n",
       "       [0.55821866, 0.44178134],\n",
       "       [0.20412427, 0.7958757 ],\n",
       "       [0.56009877, 0.4399012 ],\n",
       "       [0.19621676, 0.80378324],\n",
       "       [0.09332353, 0.9066765 ],\n",
       "       [0.2731806 , 0.7268194 ],\n",
       "       [0.18606997, 0.81393003],\n",
       "       [0.22860998, 0.77139   ],\n",
       "       [0.22522932, 0.7747707 ],\n",
       "       [0.13366228, 0.8663377 ],\n",
       "       [0.205796  , 0.794204  ],\n",
       "       [0.1494484 , 0.8505516 ],\n",
       "       [0.43612355, 0.56387645],\n",
       "       [0.06039113, 0.9396089 ],\n",
       "       [0.14127183, 0.8587282 ],\n",
       "       [0.34517735, 0.65482265],\n",
       "       [0.2276839 , 0.7723161 ],\n",
       "       [0.31587845, 0.68412155],\n",
       "       [0.60541147, 0.39458853],\n",
       "       [0.1271599 , 0.8728401 ],\n",
       "       [0.17646682, 0.8235332 ],\n",
       "       [0.57422864, 0.42577133],\n",
       "       [0.34469974, 0.65530026],\n",
       "       [0.16217804, 0.83782196],\n",
       "       [0.48097497, 0.519025  ],\n",
       "       [0.45179403, 0.548206  ],\n",
       "       [0.11293936, 0.88706064],\n",
       "       [0.34661132, 0.6533887 ],\n",
       "       [0.26008135, 0.73991865],\n",
       "       [0.37501734, 0.62498266],\n",
       "       [0.06794   , 0.93206   ],\n",
       "       [0.40088558, 0.5991144 ],\n",
       "       [0.43696702, 0.563033  ],\n",
       "       [0.23817384, 0.76182616],\n",
       "       [0.19316679, 0.8068332 ],\n",
       "       [0.37582928, 0.6241707 ],\n",
       "       [0.43090332, 0.5690967 ],\n",
       "       [0.09861934, 0.90138066],\n",
       "       [0.60517526, 0.39482477],\n",
       "       [0.71756566, 0.2824343 ],\n",
       "       [0.25408965, 0.74591035],\n",
       "       [0.49480188, 0.5051981 ],\n",
       "       [0.12484431, 0.8751557 ],\n",
       "       [0.20685363, 0.7931464 ],\n",
       "       [0.05980974, 0.94019026],\n",
       "       [0.38695192, 0.6130481 ],\n",
       "       [0.11119258, 0.8888074 ],\n",
       "       [0.19752187, 0.80247813],\n",
       "       [0.31332552, 0.6866745 ],\n",
       "       [0.15295231, 0.8470477 ],\n",
       "       [0.12185192, 0.8781481 ],\n",
       "       [0.25582337, 0.7441766 ],\n",
       "       [0.19989586, 0.80010414],\n",
       "       [0.06948227, 0.93051773],\n",
       "       [0.36641932, 0.6335807 ],\n",
       "       [0.26178747, 0.7382125 ],\n",
       "       [0.17669702, 0.823303  ],\n",
       "       [0.16683507, 0.83316493],\n",
       "       [0.09435707, 0.9056429 ],\n",
       "       [0.19759738, 0.8024026 ],\n",
       "       [0.14069152, 0.8593085 ],\n",
       "       [0.12753308, 0.8724669 ],\n",
       "       [0.61619055, 0.38380942],\n",
       "       [0.11776155, 0.88223845],\n",
       "       [0.16227382, 0.8377262 ],\n",
       "       [0.10097885, 0.89902115],\n",
       "       [0.14923304, 0.85076696],\n",
       "       [0.61484385, 0.38515612],\n",
       "       [0.47427732, 0.5257227 ],\n",
       "       [0.5261799 , 0.47382012],\n",
       "       [0.16666448, 0.8333355 ],\n",
       "       [0.11510223, 0.88489777],\n",
       "       [0.55469847, 0.44530156],\n",
       "       [0.65748596, 0.342514  ],\n",
       "       [0.43220174, 0.56779826],\n",
       "       [0.2637003 , 0.7362997 ]], dtype=float32)"
      ]
     },
     "execution_count": 30,
     "metadata": {},
     "output_type": "execute_result"
    }
   ],
   "source": [
    "fitted_pipeline.predict_proba(X_test)"
   ]
  },
  {
   "cell_type": "code",
   "execution_count": 31,
   "id": "0b623c32",
   "metadata": {},
   "outputs": [
    {
     "data": {
      "text/plain": [
       "array([0, 1, 1, 1, 1, 1, 1, 1, 1, 1, 1, 0, 1, 0, 0, 0, 1, 1, 0, 1, 1, 0,\n",
       "       1, 1, 1, 0, 1, 1, 1, 1, 1, 1, 0, 1, 1, 1, 1, 1, 1, 0, 1, 1, 1, 1,\n",
       "       1, 1, 0, 0, 0, 1, 0, 1, 1, 0, 1, 1, 1, 0, 1, 1, 1, 0, 0, 1, 1, 1,\n",
       "       1, 1, 1, 0, 1, 1, 1, 1, 1, 0, 0, 1, 0, 0, 1, 1, 1, 1, 1, 0, 0, 0,\n",
       "       1, 1, 1, 1, 0, 1, 1, 1, 1, 1, 0, 0, 1, 0, 0, 1, 1, 1, 1, 1, 1, 0,\n",
       "       0, 1, 1, 1, 1, 1, 0, 0, 1, 1, 1, 1, 1, 1, 0, 0, 0, 1, 1, 1, 1, 0,\n",
       "       0, 1, 1, 1, 0, 1, 1, 1, 0, 1, 0, 1, 1, 0, 1, 1, 0, 0, 1, 1, 1, 0,\n",
       "       1, 1, 1, 1, 1, 0, 0, 1, 0, 1, 1, 0, 1, 1, 1, 1, 1, 1, 1, 1, 1, 1,\n",
       "       1, 1, 1, 0, 1, 1, 1, 1, 1, 0, 0, 1, 1, 1, 0, 1, 0, 0, 0, 1, 0, 1,\n",
       "       1, 1])"
      ]
     },
     "execution_count": 31,
     "metadata": {},
     "output_type": "execute_result"
    }
   ],
   "source": [
    "y_test"
   ]
  },
  {
   "cell_type": "markdown",
   "id": "c995ec2a",
   "metadata": {},
   "source": [
    "## Training Set Evaluation"
   ]
  },
  {
   "cell_type": "markdown",
   "id": "42753452",
   "metadata": {},
   "source": [
    "Understand the nature/degree of model overfitting by comparing to `Test Set Evaluation`"
   ]
  },
  {
   "cell_type": "code",
   "execution_count": 56,
   "id": "715baf29",
   "metadata": {},
   "outputs": [],
   "source": [
    "predicted_scores = fitted_pipeline.predict_proba(X_train)[:, 1]"
   ]
  },
  {
   "cell_type": "code",
   "execution_count": 57,
   "id": "19cebd6f",
   "metadata": {},
   "outputs": [
    {
     "data": {
      "image/png": "[encoded data removed]",
      "text/plain": [
       "<Figure size 432x288 with 1 Axes>"
      ]
     },
     "metadata": {
      "needs_background": "light"
     },
     "output_type": "display_data"
    }
   ],
   "source": [
    "sns.histplot(predicted_scores)\n",
    "plt.tight_layout()"
   ]
  },
  {
   "cell_type": "code",
   "execution_count": 58,
   "id": "19afe1a7",
   "metadata": {},
   "outputs": [],
   "source": [
    "evaluator = hlp.sklearn_eval.TwoClassEvaluator(\n",
    "    actual_values=y_train,\n",
    "    predicted_scores=predicted_scores,\n",
    "    labels=('Bad', 'Good'),\n",
    "    score_threshold=0.5\n",
    ")"
   ]
  },
  {
   "cell_type": "code",
   "execution_count": 59,
   "id": "aa907fdc",
   "metadata": {},
   "outputs": [
    {
     "data": {
      "text/html": [
       "<style type=\"text/css\">\n",
       "#T_6fb4a_row0_col0 {\n",
       "  width: 10em;\n",
       "  height: 80%;\n",
       "  background: linear-gradient(90deg,#1AAF54 93.3%, transparent 93.3%);\n",
       "}\n",
       "#T_6fb4a_row1_col0 {\n",
       "  width: 10em;\n",
       "  height: 80%;\n",
       "  background: linear-gradient(90deg,#1AAF54 97.0%, transparent 97.0%);\n",
       "}\n",
       "#T_6fb4a_row2_col0 {\n",
       "  width: 10em;\n",
       "  height: 80%;\n",
       "  background: linear-gradient(90deg,#1AAF54 58.9%, transparent 58.9%);\n",
       "}\n",
       "#T_6fb4a_row3_col0 {\n",
       "  width: 10em;\n",
       "  height: 80%;\n",
       "  background: linear-gradient(90deg,#1AAF54 41.1%, transparent 41.1%);\n",
       "  width: 10em;\n",
       "  height: 80%;\n",
       "  background: linear-gradient(90deg,#FF420E 41.1%, transparent 41.1%);\n",
       "}\n",
       "#T_6fb4a_row4_col0 {\n",
       "  width: 10em;\n",
       "  height: 80%;\n",
       "  background: linear-gradient(90deg,#1AAF54 3.0%, transparent 3.0%);\n",
       "  width: 10em;\n",
       "  height: 80%;\n",
       "  background: linear-gradient(90deg,#FF420E 3.0%, transparent 3.0%);\n",
       "}\n",
       "#T_6fb4a_row5_col0 {\n",
       "  width: 10em;\n",
       "  height: 80%;\n",
       "  background: linear-gradient(90deg,#1AAF54 84.6%, transparent 84.6%);\n",
       "}\n",
       "#T_6fb4a_row6_col0 {\n",
       "  width: 10em;\n",
       "  height: 80%;\n",
       "  background: linear-gradient(90deg,#1AAF54 89.3%, transparent 89.3%);\n",
       "}\n",
       "#T_6fb4a_row7_col0 {\n",
       "  width: 10em;\n",
       "  height: 80%;\n",
       "  background: linear-gradient(90deg,#1AAF54 90.3%, transparent 90.3%);\n",
       "}\n",
       "#T_6fb4a_row8_col0 {\n",
       "  width: 10em;\n",
       "  height: 80%;\n",
       "  background: linear-gradient(90deg,#1AAF54 85.5%, transparent 85.5%);\n",
       "  width: 10em;\n",
       "  height: 80%;\n",
       "  background: linear-gradient(90deg,#B4B7B9 85.5%, transparent 85.5%);\n",
       "}\n",
       "#T_6fb4a_row9_col0 {\n",
       "  width: 10em;\n",
       "  height: 80%;\n",
       "  background: linear-gradient(90deg,#1AAF54 14.5%, transparent 14.5%);\n",
       "  width: 10em;\n",
       "  height: 80%;\n",
       "  background: linear-gradient(90deg,#B4B7B9 14.5%, transparent 14.5%);\n",
       "}\n",
       "#T_6fb4a_row10_col0 {\n",
       "  width: 10em;\n",
       "  height: 80%;\n",
       "  background: linear-gradient(90deg,#1AAF54 69.9%, transparent 69.9%);\n",
       "  width: 10em;\n",
       "  height: 80%;\n",
       "  background: linear-gradient(90deg,#B4B7B9 69.9%, transparent 69.9%);\n",
       "}\n",
       "</style>\n",
       "<table id=\"T_6fb4a_\">\n",
       "  <thead>\n",
       "    <tr>\n",
       "      <th class=\"blank level0\" >&nbsp;</th>\n",
       "      <th class=\"col_heading level0 col0\" >Scores</th>\n",
       "      <th class=\"col_heading level0 col1\" >Details</th>\n",
       "    </tr>\n",
       "  </thead>\n",
       "  <tbody>\n",
       "    <tr>\n",
       "      <th id=\"T_6fb4a_level0_row0\" class=\"row_heading level0 row0\" >AUC</th>\n",
       "      <td id=\"T_6fb4a_row0_col0\" class=\"data row0 col0\" >0.933</td>\n",
       "      <td id=\"T_6fb4a_row0_col1\" class=\"data row0 col1\" >Area under the ROC curve (true pos. rate vs false pos. rate); ranges from 0.5 (purely random classifier) to 1.0 (perfect classifier)</td>\n",
       "    </tr>\n",
       "    <tr>\n",
       "      <th id=\"T_6fb4a_level0_row1\" class=\"row_heading level0 row1\" >True Positive Rate</th>\n",
       "      <td id=\"T_6fb4a_row1_col0\" class=\"data row1 col0\" >0.970</td>\n",
       "      <td id=\"T_6fb4a_row1_col1\" class=\"data row1 col1\" >97.0% of positive instances were correctly identified.; i.e. 542 \"Good\" labels were correctly identified out of 559 instances; a.k.a Sensitivity/Recall</td>\n",
       "    </tr>\n",
       "    <tr>\n",
       "      <th id=\"T_6fb4a_level0_row2\" class=\"row_heading level0 row2\" >True Negative Rate</th>\n",
       "      <td id=\"T_6fb4a_row2_col0\" class=\"data row2 col0\" >0.589</td>\n",
       "      <td id=\"T_6fb4a_row2_col1\" class=\"data row2 col1\" >58.9% of negative instances were correctly identified.; i.e. 142 \"Bad\" labels were correctly identified out of 241 instances</td>\n",
       "    </tr>\n",
       "    <tr>\n",
       "      <th id=\"T_6fb4a_level0_row3\" class=\"row_heading level0 row3\" >False Positive Rate</th>\n",
       "      <td id=\"T_6fb4a_row3_col0\" class=\"data row3 col0\" >0.411</td>\n",
       "      <td id=\"T_6fb4a_row3_col1\" class=\"data row3 col1\" >41.1% of negative instances were incorrectly identified as positive; i.e. 99 \"Bad\" labels were incorrectly identified as \"Good\", out of 241 instances</td>\n",
       "    </tr>\n",
       "    <tr>\n",
       "      <th id=\"T_6fb4a_level0_row4\" class=\"row_heading level0 row4\" >False Negative Rate</th>\n",
       "      <td id=\"T_6fb4a_row4_col0\" class=\"data row4 col0\" >0.030</td>\n",
       "      <td id=\"T_6fb4a_row4_col1\" class=\"data row4 col1\" >3.0% of positive instances were incorrectly identified as negative; i.e. 17 \"Good\" labels were incorrectly identified as \"Bad\", out of 559 instances</td>\n",
       "    </tr>\n",
       "    <tr>\n",
       "      <th id=\"T_6fb4a_level0_row5\" class=\"row_heading level0 row5\" >Positive Predictive Value</th>\n",
       "      <td id=\"T_6fb4a_row5_col0\" class=\"data row5 col0\" >0.846</td>\n",
       "      <td id=\"T_6fb4a_row5_col1\" class=\"data row5 col1\" >When the model claims an instance is positive, it is correct 84.6% of the time; i.e. out of the 641 times the model predicted \"Good\", it was correct 542 times; a.k.a precision</td>\n",
       "    </tr>\n",
       "    <tr>\n",
       "      <th id=\"T_6fb4a_level0_row6\" class=\"row_heading level0 row6\" >Negative Predictive Value</th>\n",
       "      <td id=\"T_6fb4a_row6_col0\" class=\"data row6 col0\" >0.893</td>\n",
       "      <td id=\"T_6fb4a_row6_col1\" class=\"data row6 col1\" >When the model claims an instance is negative, it is correct 89.3% of the time; i.e. out of the 159 times the model predicted \"Bad\", it was correct 142 times</td>\n",
       "    </tr>\n",
       "    <tr>\n",
       "      <th id=\"T_6fb4a_level0_row7\" class=\"row_heading level0 row7\" >F1 Score</th>\n",
       "      <td id=\"T_6fb4a_row7_col0\" class=\"data row7 col0\" >0.903</td>\n",
       "      <td id=\"T_6fb4a_row7_col1\" class=\"data row7 col1\" >The F1 score can be interpreted as a weighted average of the precision and recall, where an F1 score reaches its best value at 1 and worst score at 0.</td>\n",
       "    </tr>\n",
       "    <tr>\n",
       "      <th id=\"T_6fb4a_level0_row8\" class=\"row_heading level0 row8\" >Accuracy</th>\n",
       "      <td id=\"T_6fb4a_row8_col0\" class=\"data row8 col0\" >0.855</td>\n",
       "      <td id=\"T_6fb4a_row8_col1\" class=\"data row8 col1\" >85.5% of instances were correctly identified</td>\n",
       "    </tr>\n",
       "    <tr>\n",
       "      <th id=\"T_6fb4a_level0_row9\" class=\"row_heading level0 row9\" >Error Rate</th>\n",
       "      <td id=\"T_6fb4a_row9_col0\" class=\"data row9 col0\" >0.145</td>\n",
       "      <td id=\"T_6fb4a_row9_col1\" class=\"data row9 col1\" >14.5% of instances were incorrectly identified</td>\n",
       "    </tr>\n",
       "    <tr>\n",
       "      <th id=\"T_6fb4a_level0_row10\" class=\"row_heading level0 row10\" >% Positive</th>\n",
       "      <td id=\"T_6fb4a_row10_col0\" class=\"data row10 col0\" >0.699</td>\n",
       "      <td id=\"T_6fb4a_row10_col1\" class=\"data row10 col1\" >69.9% of the data are positive; i.e. out of 800 total observations; 559 are labeled as \"Good\"</td>\n",
       "    </tr>\n",
       "    <tr>\n",
       "      <th id=\"T_6fb4a_level0_row11\" class=\"row_heading level0 row11\" >Total Observations</th>\n",
       "      <td id=\"T_6fb4a_row11_col0\" class=\"data row11 col0\" >800</td>\n",
       "      <td id=\"T_6fb4a_row11_col1\" class=\"data row11 col1\" >There are 800 total observations; i.e. sample size</td>\n",
       "    </tr>\n",
       "  </tbody>\n",
       "</table>\n"
      ],
      "text/plain": [
       "<pandas.io.formats.style.Styler at 0x7fdfb9b7d1c0>"
      ]
     },
     "execution_count": 59,
     "metadata": {},
     "output_type": "execute_result"
    }
   ],
   "source": [
    "evaluator.all_metrics_df(return_style=True, round_by=3)"
   ]
  },
  {
   "cell_type": "code",
   "execution_count": 60,
   "id": "bd7e99d7",
   "metadata": {
    "pycharm": {
     "name": "#%%\n"
    }
   },
   "outputs": [],
   "source": [
    "del predicted_scores"
   ]
  },
  {
   "cell_type": "markdown",
   "id": "99a47e94",
   "metadata": {},
   "source": [
    "## Test Set Evaluation"
   ]
  },
  {
   "cell_type": "code",
   "execution_count": 61,
   "id": "82b97c55",
   "metadata": {},
   "outputs": [],
   "source": [
    "predicted_scores = fitted_pipeline.predict_proba(X_test)[:, 1]"
   ]
  },
  {
   "cell_type": "code",
   "execution_count": 62,
   "id": "61c68884",
   "metadata": {},
   "outputs": [
    {
     "data": {
      "text/plain": [
       "array([0.6966421 , 0.508217  , 0.36888814, 0.68107474, 0.9089066 ,\n",
       "       0.6809731 , 0.90549284, 0.5365797 , 0.93341106, 0.89881605],\n",
       "      dtype=float32)"
      ]
     },
     "execution_count": 62,
     "metadata": {},
     "output_type": "execute_result"
    }
   ],
   "source": [
    "predicted_scores[0:10]"
   ]
  },
  {
   "cell_type": "code",
   "execution_count": 63,
   "id": "648c23c9",
   "metadata": {},
   "outputs": [
    {
     "data": {
      "image/png": "[encoded data removed]",
      "text/plain": [
       "<Figure size 432x288 with 1 Axes>"
      ]
     },
     "metadata": {
      "needs_background": "light"
     },
     "output_type": "display_data"
    }
   ],
   "source": [
    "sns.histplot(predicted_scores)\n",
    "plt.tight_layout()"
   ]
  },
  {
   "cell_type": "code",
   "execution_count": 64,
   "id": "f6ce7733",
   "metadata": {
    "pycharm": {
     "name": "#%%\n"
    }
   },
   "outputs": [
    {
     "data": {
      "text/plain": [
       "0    Not Defaulted\n",
       "1        Defaulted\n",
       "2        Defaulted\n",
       "3        Defaulted\n",
       "4        Defaulted\n",
       "dtype: object"
      ]
     },
     "execution_count": 64,
     "metadata": {},
     "output_type": "execute_result"
    }
   ],
   "source": [
    "y_test_cat = pd.Series(y_test).replace({1: 'Defaulted', 0: 'Not Defaulted'})\n",
    "y_test_cat.head()"
   ]
  },
  {
   "cell_type": "code",
   "execution_count": 65,
   "id": "38f2c315",
   "metadata": {
    "pycharm": {
     "name": "#%%\n"
    }
   },
   "outputs": [
    {
     "data": {
      "image/png": "[encoded data removed]",
      "text/plain": [
       "<Figure size 720x360 with 2 Axes>"
      ]
     },
     "metadata": {
      "needs_background": "light"
     },
     "output_type": "display_data"
    }
   ],
   "source": [
    "axes = sns.displot(\n",
    "    pd.DataFrame({\n",
    "        'prediction': predicted_scores,\n",
    "        'actual': y_test_cat\n",
    "    }),\n",
    "    x='prediction',\n",
    "    col='actual'\n",
    ")\n",
    "for axis in axes.axes.flat:\n",
    "    axis.axvline(x=0.5, ymin=0, ymax=100, color='red')\n",
    "plt.tight_layout()"
   ]
  },
  {
   "cell_type": "code",
   "execution_count": 66,
   "id": "5d3b9658",
   "metadata": {
    "pycharm": {
     "name": "#%%\n"
    }
   },
   "outputs": [],
   "source": [
    "del y_test_cat\n",
    "del axes"
   ]
  },
  {
   "cell_type": "code",
   "execution_count": 67,
   "id": "4b64e733",
   "metadata": {},
   "outputs": [],
   "source": [
    "evaluator = hlp.sklearn_eval.TwoClassEvaluator(\n",
    "    actual_values=y_test,\n",
    "    predicted_scores=predicted_scores,\n",
    "    labels=('Bad', 'Good'),\n",
    "    score_threshold=0.5\n",
    ")"
   ]
  },
  {
   "cell_type": "code",
   "execution_count": 68,
   "id": "a17343a2",
   "metadata": {},
   "outputs": [
    {
     "data": {
      "image/png": "[encoded data removed]",
      "text/plain": [
       "<Figure size 432x288 with 2 Axes>"
      ]
     },
     "metadata": {
      "needs_background": "light"
     },
     "output_type": "display_data"
    }
   ],
   "source": [
    "evaluator.plot_confusion_matrix()"
   ]
  },
  {
   "cell_type": "code",
   "execution_count": 69,
   "id": "9516f3bb",
   "metadata": {},
   "outputs": [
    {
     "data": {
      "text/html": [
       "<style type=\"text/css\">\n",
       "#T_bef00_row0_col0 {\n",
       "  width: 10em;\n",
       "  height: 80%;\n",
       "  background: linear-gradient(90deg,#1AAF54 81.4%, transparent 81.4%);\n",
       "}\n",
       "#T_bef00_row1_col0 {\n",
       "  width: 10em;\n",
       "  height: 80%;\n",
       "  background: linear-gradient(90deg,#1AAF54 95.7%, transparent 95.7%);\n",
       "}\n",
       "#T_bef00_row2_col0 {\n",
       "  width: 10em;\n",
       "  height: 80%;\n",
       "  background: linear-gradient(90deg,#1AAF54 32.2%, transparent 32.2%);\n",
       "}\n",
       "#T_bef00_row3_col0 {\n",
       "  width: 10em;\n",
       "  height: 80%;\n",
       "  background: linear-gradient(90deg,#1AAF54 67.8%, transparent 67.8%);\n",
       "  width: 10em;\n",
       "  height: 80%;\n",
       "  background: linear-gradient(90deg,#FF420E 67.8%, transparent 67.8%);\n",
       "}\n",
       "#T_bef00_row4_col0 {\n",
       "  width: 10em;\n",
       "  height: 80%;\n",
       "  background: linear-gradient(90deg,#1AAF54 4.3%, transparent 4.3%);\n",
       "  width: 10em;\n",
       "  height: 80%;\n",
       "  background: linear-gradient(90deg,#FF420E 4.3%, transparent 4.3%);\n",
       "}\n",
       "#T_bef00_row5_col0 {\n",
       "  width: 10em;\n",
       "  height: 80%;\n",
       "  background: linear-gradient(90deg,#1AAF54 77.1%, transparent 77.1%);\n",
       "}\n",
       "#T_bef00_row6_col0 {\n",
       "  width: 10em;\n",
       "  height: 80%;\n",
       "  background: linear-gradient(90deg,#1AAF54 76.0%, transparent 76.0%);\n",
       "}\n",
       "#T_bef00_row7_col0 {\n",
       "  width: 10em;\n",
       "  height: 80%;\n",
       "  background: linear-gradient(90deg,#1AAF54 85.4%, transparent 85.4%);\n",
       "}\n",
       "#T_bef00_row8_col0 {\n",
       "  width: 10em;\n",
       "  height: 80%;\n",
       "  background: linear-gradient(90deg,#1AAF54 77.0%, transparent 77.0%);\n",
       "  width: 10em;\n",
       "  height: 80%;\n",
       "  background: linear-gradient(90deg,#B4B7B9 77.0%, transparent 77.0%);\n",
       "}\n",
       "#T_bef00_row9_col0 {\n",
       "  width: 10em;\n",
       "  height: 80%;\n",
       "  background: linear-gradient(90deg,#1AAF54 23.0%, transparent 23.0%);\n",
       "  width: 10em;\n",
       "  height: 80%;\n",
       "  background: linear-gradient(90deg,#B4B7B9 23.0%, transparent 23.0%);\n",
       "}\n",
       "#T_bef00_row10_col0 {\n",
       "  width: 10em;\n",
       "  height: 80%;\n",
       "  background: linear-gradient(90deg,#1AAF54 70.5%, transparent 70.5%);\n",
       "  width: 10em;\n",
       "  height: 80%;\n",
       "  background: linear-gradient(90deg,#B4B7B9 70.5%, transparent 70.5%);\n",
       "}\n",
       "</style>\n",
       "<table id=\"T_bef00_\">\n",
       "  <thead>\n",
       "    <tr>\n",
       "      <th class=\"blank level0\" >&nbsp;</th>\n",
       "      <th class=\"col_heading level0 col0\" >Scores</th>\n",
       "      <th class=\"col_heading level0 col1\" >Details</th>\n",
       "    </tr>\n",
       "  </thead>\n",
       "  <tbody>\n",
       "    <tr>\n",
       "      <th id=\"T_bef00_level0_row0\" class=\"row_heading level0 row0\" >AUC</th>\n",
       "      <td id=\"T_bef00_row0_col0\" class=\"data row0 col0\" >0.814</td>\n",
       "      <td id=\"T_bef00_row0_col1\" class=\"data row0 col1\" >Area under the ROC curve (true pos. rate vs false pos. rate); ranges from 0.5 (purely random classifier) to 1.0 (perfect classifier)</td>\n",
       "    </tr>\n",
       "    <tr>\n",
       "      <th id=\"T_bef00_level0_row1\" class=\"row_heading level0 row1\" >True Positive Rate</th>\n",
       "      <td id=\"T_bef00_row1_col0\" class=\"data row1 col0\" >0.957</td>\n",
       "      <td id=\"T_bef00_row1_col1\" class=\"data row1 col1\" >95.7% of positive instances were correctly identified.; i.e. 135 \"Good\" labels were correctly identified out of 141 instances; a.k.a Sensitivity/Recall</td>\n",
       "    </tr>\n",
       "    <tr>\n",
       "      <th id=\"T_bef00_level0_row2\" class=\"row_heading level0 row2\" >True Negative Rate</th>\n",
       "      <td id=\"T_bef00_row2_col0\" class=\"data row2 col0\" >0.322</td>\n",
       "      <td id=\"T_bef00_row2_col1\" class=\"data row2 col1\" >32.2% of negative instances were correctly identified.; i.e. 19 \"Bad\" labels were correctly identified out of 59 instances</td>\n",
       "    </tr>\n",
       "    <tr>\n",
       "      <th id=\"T_bef00_level0_row3\" class=\"row_heading level0 row3\" >False Positive Rate</th>\n",
       "      <td id=\"T_bef00_row3_col0\" class=\"data row3 col0\" >0.678</td>\n",
       "      <td id=\"T_bef00_row3_col1\" class=\"data row3 col1\" >67.8% of negative instances were incorrectly identified as positive; i.e. 40 \"Bad\" labels were incorrectly identified as \"Good\", out of 59 instances</td>\n",
       "    </tr>\n",
       "    <tr>\n",
       "      <th id=\"T_bef00_level0_row4\" class=\"row_heading level0 row4\" >False Negative Rate</th>\n",
       "      <td id=\"T_bef00_row4_col0\" class=\"data row4 col0\" >0.043</td>\n",
       "      <td id=\"T_bef00_row4_col1\" class=\"data row4 col1\" >4.3% of positive instances were incorrectly identified as negative; i.e. 6 \"Good\" labels were incorrectly identified as \"Bad\", out of 141 instances</td>\n",
       "    </tr>\n",
       "    <tr>\n",
       "      <th id=\"T_bef00_level0_row5\" class=\"row_heading level0 row5\" >Positive Predictive Value</th>\n",
       "      <td id=\"T_bef00_row5_col0\" class=\"data row5 col0\" >0.771</td>\n",
       "      <td id=\"T_bef00_row5_col1\" class=\"data row5 col1\" >When the model claims an instance is positive, it is correct 77.1% of the time; i.e. out of the 175 times the model predicted \"Good\", it was correct 135 times; a.k.a precision</td>\n",
       "    </tr>\n",
       "    <tr>\n",
       "      <th id=\"T_bef00_level0_row6\" class=\"row_heading level0 row6\" >Negative Predictive Value</th>\n",
       "      <td id=\"T_bef00_row6_col0\" class=\"data row6 col0\" >0.760</td>\n",
       "      <td id=\"T_bef00_row6_col1\" class=\"data row6 col1\" >When the model claims an instance is negative, it is correct 76.0% of the time; i.e. out of the 25 times the model predicted \"Bad\", it was correct 19 times</td>\n",
       "    </tr>\n",
       "    <tr>\n",
       "      <th id=\"T_bef00_level0_row7\" class=\"row_heading level0 row7\" >F1 Score</th>\n",
       "      <td id=\"T_bef00_row7_col0\" class=\"data row7 col0\" >0.854</td>\n",
       "      <td id=\"T_bef00_row7_col1\" class=\"data row7 col1\" >The F1 score can be interpreted as a weighted average of the precision and recall, where an F1 score reaches its best value at 1 and worst score at 0.</td>\n",
       "    </tr>\n",
       "    <tr>\n",
       "      <th id=\"T_bef00_level0_row8\" class=\"row_heading level0 row8\" >Accuracy</th>\n",
       "      <td id=\"T_bef00_row8_col0\" class=\"data row8 col0\" >0.770</td>\n",
       "      <td id=\"T_bef00_row8_col1\" class=\"data row8 col1\" >77.0% of instances were correctly identified</td>\n",
       "    </tr>\n",
       "    <tr>\n",
       "      <th id=\"T_bef00_level0_row9\" class=\"row_heading level0 row9\" >Error Rate</th>\n",
       "      <td id=\"T_bef00_row9_col0\" class=\"data row9 col0\" >0.230</td>\n",
       "      <td id=\"T_bef00_row9_col1\" class=\"data row9 col1\" >23.0% of instances were incorrectly identified</td>\n",
       "    </tr>\n",
       "    <tr>\n",
       "      <th id=\"T_bef00_level0_row10\" class=\"row_heading level0 row10\" >% Positive</th>\n",
       "      <td id=\"T_bef00_row10_col0\" class=\"data row10 col0\" >0.705</td>\n",
       "      <td id=\"T_bef00_row10_col1\" class=\"data row10 col1\" >70.5% of the data are positive; i.e. out of 200 total observations; 141 are labeled as \"Good\"</td>\n",
       "    </tr>\n",
       "    <tr>\n",
       "      <th id=\"T_bef00_level0_row11\" class=\"row_heading level0 row11\" >Total Observations</th>\n",
       "      <td id=\"T_bef00_row11_col0\" class=\"data row11 col0\" >200</td>\n",
       "      <td id=\"T_bef00_row11_col1\" class=\"data row11 col1\" >There are 200 total observations; i.e. sample size</td>\n",
       "    </tr>\n",
       "  </tbody>\n",
       "</table>\n"
      ],
      "text/plain": [
       "<pandas.io.formats.style.Styler at 0x7fdfbc4fdfd0>"
      ]
     },
     "execution_count": 69,
     "metadata": {},
     "output_type": "execute_result"
    }
   ],
   "source": [
    "evaluator.all_metrics_df(return_style=True, round_by=3)"
   ]
  },
  {
   "cell_type": "markdown",
   "id": "09a3204d",
   "metadata": {},
   "source": [
    "Compare results against scores if we predicted all `Good`"
   ]
  },
  {
   "cell_type": "code",
   "execution_count": 70,
   "id": "59c27052",
   "metadata": {},
   "outputs": [],
   "source": [
    "dummy_predicted_scores = np.array([0.99] * len(predicted_scores))"
   ]
  },
  {
   "cell_type": "code",
   "execution_count": 71,
   "id": "f3278fdd",
   "metadata": {},
   "outputs": [
    {
     "data": {
      "text/html": [
       "<style type=\"text/css\">\n",
       "#T_00a8f_row0_col0 {\n",
       "  width: 10em;\n",
       "  height: 80%;\n",
       "  background: linear-gradient(90deg,#1AAF54 50.0%, transparent 50.0%);\n",
       "}\n",
       "#T_00a8f_row1_col0 {\n",
       "  width: 10em;\n",
       "  height: 80%;\n",
       "  background: linear-gradient(90deg,#1AAF54 100.0%, transparent 100.0%);\n",
       "}\n",
       "#T_00a8f_row2_col0, #T_00a8f_row6_col0 {\n",
       "  width: 10em;\n",
       "  height: 80%;\n",
       "}\n",
       "#T_00a8f_row3_col0 {\n",
       "  width: 10em;\n",
       "  height: 80%;\n",
       "  background: linear-gradient(90deg,#1AAF54 100.0%, transparent 100.0%);\n",
       "  width: 10em;\n",
       "  height: 80%;\n",
       "  background: linear-gradient(90deg,#FF420E 100.0%, transparent 100.0%);\n",
       "}\n",
       "#T_00a8f_row4_col0 {\n",
       "  width: 10em;\n",
       "  height: 80%;\n",
       "  width: 10em;\n",
       "  height: 80%;\n",
       "}\n",
       "#T_00a8f_row5_col0 {\n",
       "  width: 10em;\n",
       "  height: 80%;\n",
       "  background: linear-gradient(90deg,#1AAF54 70.5%, transparent 70.5%);\n",
       "}\n",
       "#T_00a8f_row7_col0 {\n",
       "  width: 10em;\n",
       "  height: 80%;\n",
       "  background: linear-gradient(90deg,#1AAF54 82.7%, transparent 82.7%);\n",
       "}\n",
       "#T_00a8f_row8_col0, #T_00a8f_row10_col0 {\n",
       "  width: 10em;\n",
       "  height: 80%;\n",
       "  background: linear-gradient(90deg,#1AAF54 70.5%, transparent 70.5%);\n",
       "  width: 10em;\n",
       "  height: 80%;\n",
       "  background: linear-gradient(90deg,#B4B7B9 70.5%, transparent 70.5%);\n",
       "}\n",
       "#T_00a8f_row9_col0 {\n",
       "  width: 10em;\n",
       "  height: 80%;\n",
       "  background: linear-gradient(90deg,#1AAF54 29.5%, transparent 29.5%);\n",
       "  width: 10em;\n",
       "  height: 80%;\n",
       "  background: linear-gradient(90deg,#B4B7B9 29.5%, transparent 29.5%);\n",
       "}\n",
       "</style>\n",
       "<table id=\"T_00a8f_\">\n",
       "  <thead>\n",
       "    <tr>\n",
       "      <th class=\"blank level0\" >&nbsp;</th>\n",
       "      <th class=\"col_heading level0 col0\" >Scores</th>\n",
       "      <th class=\"col_heading level0 col1\" >Details</th>\n",
       "    </tr>\n",
       "  </thead>\n",
       "  <tbody>\n",
       "    <tr>\n",
       "      <th id=\"T_00a8f_level0_row0\" class=\"row_heading level0 row0\" >AUC</th>\n",
       "      <td id=\"T_00a8f_row0_col0\" class=\"data row0 col0\" >0.500</td>\n",
       "      <td id=\"T_00a8f_row0_col1\" class=\"data row0 col1\" >Area under the ROC curve (true pos. rate vs false pos. rate); ranges from 0.5 (purely random classifier) to 1.0 (perfect classifier)</td>\n",
       "    </tr>\n",
       "    <tr>\n",
       "      <th id=\"T_00a8f_level0_row1\" class=\"row_heading level0 row1\" >True Positive Rate</th>\n",
       "      <td id=\"T_00a8f_row1_col0\" class=\"data row1 col0\" >1.000</td>\n",
       "      <td id=\"T_00a8f_row1_col1\" class=\"data row1 col1\" >100.0% of positive instances were correctly identified.; i.e. 141 \"Good\" labels were correctly identified out of 141 instances; a.k.a Sensitivity/Recall</td>\n",
       "    </tr>\n",
       "    <tr>\n",
       "      <th id=\"T_00a8f_level0_row2\" class=\"row_heading level0 row2\" >True Negative Rate</th>\n",
       "      <td id=\"T_00a8f_row2_col0\" class=\"data row2 col0\" >0.000</td>\n",
       "      <td id=\"T_00a8f_row2_col1\" class=\"data row2 col1\" >0.0% of negative instances were correctly identified.; i.e. 0 \"Bad\" labels were correctly identified out of 59 instances</td>\n",
       "    </tr>\n",
       "    <tr>\n",
       "      <th id=\"T_00a8f_level0_row3\" class=\"row_heading level0 row3\" >False Positive Rate</th>\n",
       "      <td id=\"T_00a8f_row3_col0\" class=\"data row3 col0\" >1.000</td>\n",
       "      <td id=\"T_00a8f_row3_col1\" class=\"data row3 col1\" >100.0% of negative instances were incorrectly identified as positive; i.e. 59 \"Bad\" labels were incorrectly identified as \"Good\", out of 59 instances</td>\n",
       "    </tr>\n",
       "    <tr>\n",
       "      <th id=\"T_00a8f_level0_row4\" class=\"row_heading level0 row4\" >False Negative Rate</th>\n",
       "      <td id=\"T_00a8f_row4_col0\" class=\"data row4 col0\" >0.000</td>\n",
       "      <td id=\"T_00a8f_row4_col1\" class=\"data row4 col1\" >0.0% of positive instances were incorrectly identified as negative; i.e. 0 \"Good\" labels were incorrectly identified as \"Bad\", out of 141 instances</td>\n",
       "    </tr>\n",
       "    <tr>\n",
       "      <th id=\"T_00a8f_level0_row5\" class=\"row_heading level0 row5\" >Positive Predictive Value</th>\n",
       "      <td id=\"T_00a8f_row5_col0\" class=\"data row5 col0\" >0.705</td>\n",
       "      <td id=\"T_00a8f_row5_col1\" class=\"data row5 col1\" >When the model claims an instance is positive, it is correct 70.5% of the time; i.e. out of the 200 times the model predicted \"Good\", it was correct 141 times; a.k.a precision</td>\n",
       "    </tr>\n",
       "    <tr>\n",
       "      <th id=\"T_00a8f_level0_row6\" class=\"row_heading level0 row6\" >Negative Predictive Value</th>\n",
       "      <td id=\"T_00a8f_row6_col0\" class=\"data row6 col0\" >0.000</td>\n",
       "      <td id=\"T_00a8f_row6_col1\" class=\"data row6 col1\" >When the model claims an instance is negative, it is correct 0.0% of the time; i.e. out of the 0 times the model predicted \"Bad\", it was correct 0 times</td>\n",
       "    </tr>\n",
       "    <tr>\n",
       "      <th id=\"T_00a8f_level0_row7\" class=\"row_heading level0 row7\" >F1 Score</th>\n",
       "      <td id=\"T_00a8f_row7_col0\" class=\"data row7 col0\" >0.827</td>\n",
       "      <td id=\"T_00a8f_row7_col1\" class=\"data row7 col1\" >The F1 score can be interpreted as a weighted average of the precision and recall, where an F1 score reaches its best value at 1 and worst score at 0.</td>\n",
       "    </tr>\n",
       "    <tr>\n",
       "      <th id=\"T_00a8f_level0_row8\" class=\"row_heading level0 row8\" >Accuracy</th>\n",
       "      <td id=\"T_00a8f_row8_col0\" class=\"data row8 col0\" >0.705</td>\n",
       "      <td id=\"T_00a8f_row8_col1\" class=\"data row8 col1\" >70.5% of instances were correctly identified</td>\n",
       "    </tr>\n",
       "    <tr>\n",
       "      <th id=\"T_00a8f_level0_row9\" class=\"row_heading level0 row9\" >Error Rate</th>\n",
       "      <td id=\"T_00a8f_row9_col0\" class=\"data row9 col0\" >0.295</td>\n",
       "      <td id=\"T_00a8f_row9_col1\" class=\"data row9 col1\" >29.5% of instances were incorrectly identified</td>\n",
       "    </tr>\n",
       "    <tr>\n",
       "      <th id=\"T_00a8f_level0_row10\" class=\"row_heading level0 row10\" >% Positive</th>\n",
       "      <td id=\"T_00a8f_row10_col0\" class=\"data row10 col0\" >0.705</td>\n",
       "      <td id=\"T_00a8f_row10_col1\" class=\"data row10 col1\" >70.5% of the data are positive; i.e. out of 200 total observations; 141 are labeled as \"Good\"</td>\n",
       "    </tr>\n",
       "    <tr>\n",
       "      <th id=\"T_00a8f_level0_row11\" class=\"row_heading level0 row11\" >Total Observations</th>\n",
       "      <td id=\"T_00a8f_row11_col0\" class=\"data row11 col0\" >200</td>\n",
       "      <td id=\"T_00a8f_row11_col1\" class=\"data row11 col1\" >There are 200 total observations; i.e. sample size</td>\n",
       "    </tr>\n",
       "  </tbody>\n",
       "</table>\n"
      ],
      "text/plain": [
       "<pandas.io.formats.style.Styler at 0x7fdf980a4fd0>"
      ]
     },
     "execution_count": 71,
     "metadata": {},
     "output_type": "execute_result"
    }
   ],
   "source": [
    "dummy_eval = hlp.sklearn_eval.TwoClassEvaluator(\n",
    "    actual_values=y_test,\n",
    "    predicted_scores=dummy_predicted_scores,\n",
    "    labels=('Bad', 'Good'),\n",
    "    score_threshold=0.5\n",
    ")\n",
    "dummy_eval.all_metrics_df(return_style=True, round_by=3)"
   ]
  },
  {
   "cell_type": "code",
   "execution_count": null,
   "id": "cd301370",
   "metadata": {},
   "outputs": [],
   "source": []
  },
  {
   "cell_type": "code",
   "execution_count": 95,
   "id": "d42335d3",
   "metadata": {},
   "outputs": [
    {
     "data": {
      "application/vnd.plotly.v1+json": {
       "config": {
        "plotlyServerURL": "https://plot.ly"
       },
       "data": [
        {
         "hovertemplate": "False Positive Rate=%{x}<br>True Positive Rate=%{y}<extra></extra>",
         "legendgroup": "",
         "line": {
          "color": "#636efa",
          "dash": "solid"
         },
         "marker": {
          "symbol": "circle"
         },
         "mode": "lines",
         "name": "",
         "orientation": "v",
         "showlegend": false,
         "type": "scatter",
         "x": [
          1,
          1,
          1,
          1,
          1,
          1,
          1,
          1,
          1,
          1,
          1,
          1,
          1,
          0.9830508474576272,
          0.9830508474576272,
          0.9830508474576272,
          0.9830508474576272,
          0.9830508474576272,
          0.9830508474576272,
          0.9830508474576272,
          0.9830508474576272,
          0.9830508474576272,
          0.9830508474576272,
          0.9830508474576272,
          0.9830508474576272,
          0.9830508474576272,
          0.9830508474576272,
          0.9661016949152542,
          0.9661016949152542,
          0.9661016949152542,
          0.9661016949152542,
          0.9661016949152542,
          0.9661016949152542,
          0.9661016949152542,
          0.9661016949152542,
          0.9661016949152542,
          0.9661016949152542,
          0.9491525423728814,
          0.9322033898305084,
          0.9152542372881356,
          0.864406779661017,
          0.864406779661017,
          0.847457627118644,
          0.8305084745762712,
          0.8135593220338984,
          0.7457627118644068,
          0.7288135593220338,
          0.6949152542372882,
          0.6779661016949152,
          0.6779661016949152,
          0.6779661016949152,
          0.6440677966101694,
          0.6101694915254238,
          0.559322033898305,
          0.5254237288135594,
          0.4745762711864407,
          0.4576271186440678,
          0.4067796610169492,
          0.4067796610169492,
          0.4067796610169492,
          0.4067796610169492,
          0.4067796610169492,
          0.4067796610169492,
          0.3559322033898305,
          0.3559322033898305,
          0.3559322033898305,
          0.3389830508474576,
          0.3220338983050847,
          0.3050847457627119,
          0.3050847457627119,
          0.2542372881355932,
          0.2542372881355932,
          0.2542372881355932,
          0.22033898305084745,
          0.1864406779661017,
          0.1864406779661017,
          0.1864406779661017,
          0.1864406779661017,
          0.13559322033898305,
          0.13559322033898305,
          0.1016949152542373,
          0.0847457627118644,
          0.06779661016949153,
          0.06779661016949153,
          0.05084745762711865,
          0.05084745762711865,
          0.03389830508474576,
          0.03389830508474576,
          0.01694915254237288,
          0,
          0,
          0,
          0,
          0,
          0,
          0,
          0,
          0,
          0,
          0,
          0
         ],
         "xaxis": "x",
         "y": [
          1,
          1,
          1,
          1,
          1,
          1,
          1,
          1,
          1,
          1,
          1,
          1,
          1,
          1,
          1,
          1,
          1,
          1,
          1,
          1,
          1,
          1,
          1,
          1,
          1,
          1,
          1,
          1,
          1,
          0.9929078014184397,
          0.9858156028368794,
          0.9858156028368794,
          0.9858156028368794,
          0.9858156028368794,
          0.9858156028368794,
          0.9787234042553191,
          0.9787234042553191,
          0.9716312056737588,
          0.9716312056737588,
          0.9645390070921985,
          0.9645390070921985,
          0.9645390070921985,
          0.9645390070921985,
          0.9645390070921985,
          0.9645390070921985,
          0.9645390070921985,
          0.9574468085106383,
          0.9574468085106383,
          0.9574468085106383,
          0.9574468085106383,
          0.9574468085106383,
          0.9432624113475178,
          0.9290780141843972,
          0.9219858156028369,
          0.9148936170212766,
          0.9148936170212766,
          0.9148936170212766,
          0.900709219858156,
          0.8652482269503546,
          0.8581560283687943,
          0.8368794326241135,
          0.8297872340425532,
          0.8226950354609929,
          0.8156028368794326,
          0.8014184397163121,
          0.8014184397163121,
          0.7801418439716312,
          0.7730496453900709,
          0.7659574468085106,
          0.7375886524822695,
          0.723404255319149,
          0.7163120567375887,
          0.7092198581560284,
          0.6950354609929078,
          0.6666666666666666,
          0.6382978723404256,
          0.6382978723404256,
          0.6099290780141844,
          0.5815602836879432,
          0.574468085106383,
          0.5460992907801419,
          0.5035460992907801,
          0.48936170212765956,
          0.4397163120567376,
          0.3900709219858156,
          0.3404255319148936,
          0.2978723404255319,
          0.2695035460992908,
          0.2198581560283688,
          0.1773049645390071,
          0.14184397163120568,
          0.09929078014184398,
          0.0851063829787234,
          0.06382978723404255,
          0.02127659574468085,
          0.014184397163120567,
          0.014184397163120567,
          0.0070921985815602835,
          0,
          0,
          0
         ],
         "yaxis": "y"
        },
        {
         "hovertemplate": "False Positive Rate=%{x}<br>True Positive Rate=%{y}<br>threshold=%{marker.color}<extra></extra>",
         "legendgroup": "",
         "marker": {
          "color": [
           0,
           0.01,
           0.02,
           0.03,
           0.04,
           0.05,
           0.06,
           0.07,
           0.08,
           0.09,
           0.1,
           0.11,
           0.12,
           0.13,
           0.14,
           0.15,
           0.16,
           0.17,
           0.18,
           0.19,
           0.2,
           0.21,
           0.22,
           0.23,
           0.24,
           0.25,
           0.26,
           0.27,
           0.28,
           0.29,
           0.3,
           0.31,
           0.32,
           0.33,
           0.34,
           0.35000000000000003,
           0.36,
           0.37,
           0.38,
           0.39,
           0.4,
           0.41000000000000003,
           0.42,
           0.43,
           0.44,
           0.45,
           0.46,
           0.47000000000000003,
           0.48,
           0.49,
           0.5,
           0.51,
           0.52,
           0.53,
           0.54,
           0.55,
           0.56,
           0.5700000000000001,
           0.58,
           0.59,
           0.6,
           0.61,
           0.62,
           0.63,
           0.64,
           0.65,
           0.66,
           0.67,
           0.68,
           0.6900000000000001,
           0.7000000000000001,
           0.71,
           0.72,
           0.73,
           0.74,
           0.75,
           0.76,
           0.77,
           0.78,
           0.79,
           0.8,
           0.81,
           0.8200000000000001,
           0.8300000000000001,
           0.84,
           0.85,
           0.86,
           0.87,
           0.88,
           0.89,
           0.9,
           0.91,
           0.92,
           0.93,
           0.9400000000000001,
           0.9500000000000001,
           0.96,
           0.97,
           0.98,
           0.99,
           1
          ],
          "coloraxis": "coloraxis",
          "symbol": "circle"
         },
         "mode": "markers",
         "name": "",
         "orientation": "v",
         "showlegend": false,
         "type": "scatter",
         "x": [
          1,
          1,
          1,
          1,
          1,
          1,
          1,
          1,
          1,
          1,
          1,
          1,
          1,
          0.9830508474576272,
          0.9830508474576272,
          0.9830508474576272,
          0.9830508474576272,
          0.9830508474576272,
          0.9830508474576272,
          0.9830508474576272,
          0.9830508474576272,
          0.9830508474576272,
          0.9830508474576272,
          0.9830508474576272,
          0.9830508474576272,
          0.9830508474576272,
          0.9830508474576272,
          0.9661016949152542,
          0.9661016949152542,
          0.9661016949152542,
          0.9661016949152542,
          0.9661016949152542,
          0.9661016949152542,
          0.9661016949152542,
          0.9661016949152542,
          0.9661016949152542,
          0.9661016949152542,
          0.9491525423728814,
          0.9322033898305084,
          0.9152542372881356,
          0.864406779661017,
          0.864406779661017,
          0.847457627118644,
          0.8305084745762712,
          0.8135593220338984,
          0.7457627118644068,
          0.7288135593220338,
          0.6949152542372882,
          0.6779661016949152,
          0.6779661016949152,
          0.6779661016949152,
          0.6440677966101694,
          0.6101694915254238,
          0.559322033898305,
          0.5254237288135594,
          0.4745762711864407,
          0.4576271186440678,
          0.4067796610169492,
          0.4067796610169492,
          0.4067796610169492,
          0.4067796610169492,
          0.4067796610169492,
          0.4067796610169492,
          0.3559322033898305,
          0.3559322033898305,
          0.3559322033898305,
          0.3389830508474576,
          0.3220338983050847,
          0.3050847457627119,
          0.3050847457627119,
          0.2542372881355932,
          0.2542372881355932,
          0.2542372881355932,
          0.22033898305084745,
          0.1864406779661017,
          0.1864406779661017,
          0.1864406779661017,
          0.1864406779661017,
          0.13559322033898305,
          0.13559322033898305,
          0.1016949152542373,
          0.0847457627118644,
          0.06779661016949153,
          0.06779661016949153,
          0.05084745762711865,
          0.05084745762711865,
          0.03389830508474576,
          0.03389830508474576,
          0.01694915254237288,
          0,
          0,
          0,
          0,
          0,
          0,
          0,
          0,
          0,
          0,
          0,
          0
         ],
         "xaxis": "x",
         "y": [
          1,
          1,
          1,
          1,
          1,
          1,
          1,
          1,
          1,
          1,
          1,
          1,
          1,
          1,
          1,
          1,
          1,
          1,
          1,
          1,
          1,
          1,
          1,
          1,
          1,
          1,
          1,
          1,
          1,
          0.9929078014184397,
          0.9858156028368794,
          0.9858156028368794,
          0.9858156028368794,
          0.9858156028368794,
          0.9858156028368794,
          0.9787234042553191,
          0.9787234042553191,
          0.9716312056737588,
          0.9716312056737588,
          0.9645390070921985,
          0.9645390070921985,
          0.9645390070921985,
          0.9645390070921985,
          0.9645390070921985,
          0.9645390070921985,
          0.9645390070921985,
          0.9574468085106383,
          0.9574468085106383,
          0.9574468085106383,
          0.9574468085106383,
          0.9574468085106383,
          0.9432624113475178,
          0.9290780141843972,
          0.9219858156028369,
          0.9148936170212766,
          0.9148936170212766,
          0.9148936170212766,
          0.900709219858156,
          0.8652482269503546,
          0.8581560283687943,
          0.8368794326241135,
          0.8297872340425532,
          0.8226950354609929,
          0.8156028368794326,
          0.8014184397163121,
          0.8014184397163121,
          0.7801418439716312,
          0.7730496453900709,
          0.7659574468085106,
          0.7375886524822695,
          0.723404255319149,
          0.7163120567375887,
          0.7092198581560284,
          0.6950354609929078,
          0.6666666666666666,
          0.6382978723404256,
          0.6382978723404256,
          0.6099290780141844,
          0.5815602836879432,
          0.574468085106383,
          0.5460992907801419,
          0.5035460992907801,
          0.48936170212765956,
          0.4397163120567376,
          0.3900709219858156,
          0.3404255319148936,
          0.2978723404255319,
          0.2695035460992908,
          0.2198581560283688,
          0.1773049645390071,
          0.14184397163120568,
          0.09929078014184398,
          0.0851063829787234,
          0.06382978723404255,
          0.02127659574468085,
          0.014184397163120567,
          0.014184397163120567,
          0.0070921985815602835,
          0,
          0,
          0
         ],
         "yaxis": "y"
        }
       ],
       "layout": {
        "height": 600,
        "legend": {
         "tracegroupgap": 0
        },
        "template": {
         "data": {
          "bar": [
           {
            "error_x": {
             "color": "#2a3f5f"
            },
            "error_y": {
             "color": "#2a3f5f"
            },
            "marker": {
             "line": {
              "color": "#E5ECF6",
              "width": 0.5
             },
             "pattern": {
              "fillmode": "overlay",
              "size": 10,
              "solidity": 0.2
             }
            },
            "type": "bar"
           }
          ],
          "barpolar": [
           {
            "marker": {
             "line": {
              "color": "#E5ECF6",
              "width": 0.5
             },
             "pattern": {
              "fillmode": "overlay",
              "size": 10,
              "solidity": 0.2
             }
            },
            "type": "barpolar"
           }
          ],
          "carpet": [
           {
            "aaxis": {
             "endlinecolor": "#2a3f5f",
             "gridcolor": "white",
             "linecolor": "white",
             "minorgridcolor": "white",
             "startlinecolor": "#2a3f5f"
            },
            "baxis": {
             "endlinecolor": "#2a3f5f",
             "gridcolor": "white",
             "linecolor": "white",
             "minorgridcolor": "white",
             "startlinecolor": "#2a3f5f"
            },
            "type": "carpet"
           }
          ],
          "choropleth": [
           {
            "colorbar": {
             "outlinewidth": 0,
             "ticks": ""
            },
            "type": "choropleth"
           }
          ],
          "contour": [
           {
            "colorbar": {
             "outlinewidth": 0,
             "ticks": ""
            },
            "colorscale": [
             [
              0,
              "#0d0887"
             ],
             [
              0.1111111111111111,
              "#46039f"
             ],
             [
              0.2222222222222222,
              "#7201a8"
             ],
             [
              0.3333333333333333,
              "#9c179e"
             ],
             [
              0.4444444444444444,
              "#bd3786"
             ],
             [
              0.5555555555555556,
              "#d8576b"
             ],
             [
              0.6666666666666666,
              "#ed7953"
             ],
             [
              0.7777777777777778,
              "#fb9f3a"
             ],
             [
              0.8888888888888888,
              "#fdca26"
             ],
             [
              1,
              "#f0f921"
             ]
            ],
            "type": "contour"
           }
          ],
          "contourcarpet": [
           {
            "colorbar": {
             "outlinewidth": 0,
             "ticks": ""
            },
            "type": "contourcarpet"
           }
          ],
          "heatmap": [
           {
            "colorbar": {
             "outlinewidth": 0,
             "ticks": ""
            },
            "colorscale": [
             [
              0,
              "#0d0887"
             ],
             [
              0.1111111111111111,
              "#46039f"
             ],
             [
              0.2222222222222222,
              "#7201a8"
             ],
             [
              0.3333333333333333,
              "#9c179e"
             ],
             [
              0.4444444444444444,
              "#bd3786"
             ],
             [
              0.5555555555555556,
              "#d8576b"
             ],
             [
              0.6666666666666666,
              "#ed7953"
             ],
             [
              0.7777777777777778,
              "#fb9f3a"
             ],
             [
              0.8888888888888888,
              "#fdca26"
             ],
             [
              1,
              "#f0f921"
             ]
            ],
            "type": "heatmap"
           }
          ],
          "heatmapgl": [
           {
            "colorbar": {
             "outlinewidth": 0,
             "ticks": ""
            },
            "colorscale": [
             [
              0,
              "#0d0887"
             ],
             [
              0.1111111111111111,
              "#46039f"
             ],
             [
              0.2222222222222222,
              "#7201a8"
             ],
             [
              0.3333333333333333,
              "#9c179e"
             ],
             [
              0.4444444444444444,
              "#bd3786"
             ],
             [
              0.5555555555555556,
              "#d8576b"
             ],
             [
              0.6666666666666666,
              "#ed7953"
             ],
             [
              0.7777777777777778,
              "#fb9f3a"
             ],
             [
              0.8888888888888888,
              "#fdca26"
             ],
             [
              1,
              "#f0f921"
             ]
            ],
            "type": "heatmapgl"
           }
          ],
          "histogram": [
           {
            "marker": {
             "pattern": {
              "fillmode": "overlay",
              "size": 10,
              "solidity": 0.2
             }
            },
            "type": "histogram"
           }
          ],
          "histogram2d": [
           {
            "colorbar": {
             "outlinewidth": 0,
             "ticks": ""
            },
            "colorscale": [
             [
              0,
              "#0d0887"
             ],
             [
              0.1111111111111111,
              "#46039f"
             ],
             [
              0.2222222222222222,
              "#7201a8"
             ],
             [
              0.3333333333333333,
              "#9c179e"
             ],
             [
              0.4444444444444444,
              "#bd3786"
             ],
             [
              0.5555555555555556,
              "#d8576b"
             ],
             [
              0.6666666666666666,
              "#ed7953"
             ],
             [
              0.7777777777777778,
              "#fb9f3a"
             ],
             [
              0.8888888888888888,
              "#fdca26"
             ],
             [
              1,
              "#f0f921"
             ]
            ],
            "type": "histogram2d"
           }
          ],
          "histogram2dcontour": [
           {
            "colorbar": {
             "outlinewidth": 0,
             "ticks": ""
            },
            "colorscale": [
             [
              0,
              "#0d0887"
             ],
             [
              0.1111111111111111,
              "#46039f"
             ],
             [
              0.2222222222222222,
              "#7201a8"
             ],
             [
              0.3333333333333333,
              "#9c179e"
             ],
             [
              0.4444444444444444,
              "#bd3786"
             ],
             [
              0.5555555555555556,
              "#d8576b"
             ],
             [
              0.6666666666666666,
              "#ed7953"
             ],
             [
              0.7777777777777778,
              "#fb9f3a"
             ],
             [
              0.8888888888888888,
              "#fdca26"
             ],
             [
              1,
              "#f0f921"
             ]
            ],
            "type": "histogram2dcontour"
           }
          ],
          "mesh3d": [
           {
            "colorbar": {
             "outlinewidth": 0,
             "ticks": ""
            },
            "type": "mesh3d"
           }
          ],
          "parcoords": [
           {
            "line": {
             "colorbar": {
              "outlinewidth": 0,
              "ticks": ""
             }
            },
            "type": "parcoords"
           }
          ],
          "pie": [
           {
            "automargin": true,
            "type": "pie"
           }
          ],
          "scatter": [
           {
            "marker": {
             "colorbar": {
              "outlinewidth": 0,
              "ticks": ""
             }
            },
            "type": "scatter"
           }
          ],
          "scatter3d": [
           {
            "line": {
             "colorbar": {
              "outlinewidth": 0,
              "ticks": ""
             }
            },
            "marker": {
             "colorbar": {
              "outlinewidth": 0,
              "ticks": ""
             }
            },
            "type": "scatter3d"
           }
          ],
          "scattercarpet": [
           {
            "marker": {
             "colorbar": {
              "outlinewidth": 0,
              "ticks": ""
             }
            },
            "type": "scattercarpet"
           }
          ],
          "scattergeo": [
           {
            "marker": {
             "colorbar": {
              "outlinewidth": 0,
              "ticks": ""
             }
            },
            "type": "scattergeo"
           }
          ],
          "scattergl": [
           {
            "marker": {
             "colorbar": {
              "outlinewidth": 0,
              "ticks": ""
             }
            },
            "type": "scattergl"
           }
          ],
          "scattermapbox": [
           {
            "marker": {
             "colorbar": {
              "outlinewidth": 0,
              "ticks": ""
             }
            },
            "type": "scattermapbox"
           }
          ],
          "scatterpolar": [
           {
            "marker": {
             "colorbar": {
              "outlinewidth": 0,
              "ticks": ""
             }
            },
            "type": "scatterpolar"
           }
          ],
          "scatterpolargl": [
           {
            "marker": {
             "colorbar": {
              "outlinewidth": 0,
              "ticks": ""
             }
            },
            "type": "scatterpolargl"
           }
          ],
          "scatterternary": [
           {
            "marker": {
             "colorbar": {
              "outlinewidth": 0,
              "ticks": ""
             }
            },
            "type": "scatterternary"
           }
          ],
          "surface": [
           {
            "colorbar": {
             "outlinewidth": 0,
             "ticks": ""
            },
            "colorscale": [
             [
              0,
              "#0d0887"
             ],
             [
              0.1111111111111111,
              "#46039f"
             ],
             [
              0.2222222222222222,
              "#7201a8"
             ],
             [
              0.3333333333333333,
              "#9c179e"
             ],
             [
              0.4444444444444444,
              "#bd3786"
             ],
             [
              0.5555555555555556,
              "#d8576b"
             ],
             [
              0.6666666666666666,
              "#ed7953"
             ],
             [
              0.7777777777777778,
              "#fb9f3a"
             ],
             [
              0.8888888888888888,
              "#fdca26"
             ],
             [
              1,
              "#f0f921"
             ]
            ],
            "type": "surface"
           }
          ],
          "table": [
           {
            "cells": {
             "fill": {
              "color": "#EBF0F8"
             },
             "line": {
              "color": "white"
             }
            },
            "header": {
             "fill": {
              "color": "#C8D4E3"
             },
             "line": {
              "color": "white"
             }
            },
            "type": "table"
           }
          ]
         },
         "layout": {
          "annotationdefaults": {
           "arrowcolor": "#2a3f5f",
           "arrowhead": 0,
           "arrowwidth": 1
          },
          "autotypenumbers": "strict",
          "coloraxis": {
           "colorbar": {
            "outlinewidth": 0,
            "ticks": ""
           }
          },
          "colorscale": {
           "diverging": [
            [
             0,
             "#8e0152"
            ],
            [
             0.1,
             "#c51b7d"
            ],
            [
             0.2,
             "#de77ae"
            ],
            [
             0.3,
             "#f1b6da"
            ],
            [
             0.4,
             "#fde0ef"
            ],
            [
             0.5,
             "#f7f7f7"
            ],
            [
             0.6,
             "#e6f5d0"
            ],
            [
             0.7,
             "#b8e186"
            ],
            [
             0.8,
             "#7fbc41"
            ],
            [
             0.9,
             "#4d9221"
            ],
            [
             1,
             "#276419"
            ]
           ],
           "sequential": [
            [
             0,
             "#0d0887"
            ],
            [
             0.1111111111111111,
             "#46039f"
            ],
            [
             0.2222222222222222,
             "#7201a8"
            ],
            [
             0.3333333333333333,
             "#9c179e"
            ],
            [
             0.4444444444444444,
             "#bd3786"
            ],
            [
             0.5555555555555556,
             "#d8576b"
            ],
            [
             0.6666666666666666,
             "#ed7953"
            ],
            [
             0.7777777777777778,
             "#fb9f3a"
            ],
            [
             0.8888888888888888,
             "#fdca26"
            ],
            [
             1,
             "#f0f921"
            ]
           ],
           "sequentialminus": [
            [
             0,
             "#0d0887"
            ],
            [
             0.1111111111111111,
             "#46039f"
            ],
            [
             0.2222222222222222,
             "#7201a8"
            ],
            [
             0.3333333333333333,
             "#9c179e"
            ],
            [
             0.4444444444444444,
             "#bd3786"
            ],
            [
             0.5555555555555556,
             "#d8576b"
            ],
            [
             0.6666666666666666,
             "#ed7953"
            ],
            [
             0.7777777777777778,
             "#fb9f3a"
            ],
            [
             0.8888888888888888,
             "#fdca26"
            ],
            [
             1,
             "#f0f921"
            ]
           ]
          },
          "colorway": [
           "#636efa",
           "#EF553B",
           "#00cc96",
           "#ab63fa",
           "#FFA15A",
           "#19d3f3",
           "#FF6692",
           "#B6E880",
           "#FF97FF",
           "#FECB52"
          ],
          "font": {
           "color": "#2a3f5f"
          },
          "geo": {
           "bgcolor": "white",
           "lakecolor": "white",
           "landcolor": "#E5ECF6",
           "showlakes": true,
           "showland": true,
           "subunitcolor": "white"
          },
          "hoverlabel": {
           "align": "left"
          },
          "hovermode": "closest",
          "mapbox": {
           "style": "light"
          },
          "paper_bgcolor": "white",
          "plot_bgcolor": "#E5ECF6",
          "polar": {
           "angularaxis": {
            "gridcolor": "white",
            "linecolor": "white",
            "ticks": ""
           },
           "bgcolor": "#E5ECF6",
           "radialaxis": {
            "gridcolor": "white",
            "linecolor": "white",
            "ticks": ""
           }
          },
          "scene": {
           "xaxis": {
            "backgroundcolor": "#E5ECF6",
            "gridcolor": "white",
            "gridwidth": 2,
            "linecolor": "white",
            "showbackground": true,
            "ticks": "",
            "zerolinecolor": "white"
           },
           "yaxis": {
            "backgroundcolor": "#E5ECF6",
            "gridcolor": "white",
            "gridwidth": 2,
            "linecolor": "white",
            "showbackground": true,
            "ticks": "",
            "zerolinecolor": "white"
           },
           "zaxis": {
            "backgroundcolor": "#E5ECF6",
            "gridcolor": "white",
            "gridwidth": 2,
            "linecolor": "white",
            "showbackground": true,
            "ticks": "",
            "zerolinecolor": "white"
           }
          },
          "shapedefaults": {
           "line": {
            "color": "#2a3f5f"
           }
          },
          "ternary": {
           "aaxis": {
            "gridcolor": "white",
            "linecolor": "white",
            "ticks": ""
           },
           "baxis": {
            "gridcolor": "white",
            "linecolor": "white",
            "ticks": ""
           },
           "bgcolor": "#E5ECF6",
           "caxis": {
            "gridcolor": "white",
            "linecolor": "white",
            "ticks": ""
           }
          },
          "title": {
           "x": 0.05
          },
          "xaxis": {
           "automargin": true,
           "gridcolor": "white",
           "linecolor": "white",
           "ticks": "",
           "title": {
            "standoff": 15
           },
           "zerolinecolor": "white",
           "zerolinewidth": 2
          },
          "yaxis": {
           "automargin": true,
           "gridcolor": "white",
           "linecolor": "white",
           "ticks": "",
           "title": {
            "standoff": 15
           },
           "zerolinecolor": "white",
           "zerolinewidth": 2
          }
         }
        },
        "title": {
         "text": "AUC: 0.814"
        },
        "width": 970.8203932499999,
        "xaxis": {
         "anchor": "y",
         "domain": [
          0,
          1
         ],
         "title": {
          "text": "False Positive Rate"
         }
        },
        "yaxis": {
         "anchor": "x",
         "domain": [
          0,
          1
         ],
         "title": {
          "text": "True Positive Rate"
         }
        }
       }
      },
      "text/html": [
       "<div>                            <div id=\"37ddf1b8-16cf-4b9e-a4d8-7afd4ca3d715\" class=\"plotly-graph-div\" style=\"height:600px; width:970.8203932499999px;\"></div>            <script type=\"text/javascript\">                require([\"plotly\"], function(Plotly) {                    window.PLOTLYENV=window.PLOTLYENV || {};                                    if (document.getElementById(\"37ddf1b8-16cf-4b9e-a4d8-7afd4ca3d715\")) {                    Plotly.newPlot(                        \"37ddf1b8-16cf-4b9e-a4d8-7afd4ca3d715\",                        [{\"hovertemplate\":\"False Positive Rate=%{x}<br>True Positive Rate=%{y}<extra></extra>\",\"legendgroup\":\"\",\"line\":{\"color\":\"#636efa\",\"dash\":\"solid\"},\"marker\":{\"symbol\":\"circle\"},\"mode\":\"lines\",\"name\":\"\",\"orientation\":\"v\",\"showlegend\":false,\"x\":[1.0,1.0,1.0,1.0,1.0,1.0,1.0,1.0,1.0,1.0,1.0,1.0,1.0,0.9830508474576272,0.9830508474576272,0.9830508474576272,0.9830508474576272,0.9830508474576272,0.9830508474576272,0.9830508474576272,0.9830508474576272,0.9830508474576272,0.9830508474576272,0.9830508474576272,0.9830508474576272,0.9830508474576272,0.9830508474576272,0.9661016949152542,0.9661016949152542,0.9661016949152542,0.9661016949152542,0.9661016949152542,0.9661016949152542,0.9661016949152542,0.9661016949152542,0.9661016949152542,0.9661016949152542,0.9491525423728814,0.9322033898305084,0.9152542372881356,0.864406779661017,0.864406779661017,0.847457627118644,0.8305084745762712,0.8135593220338984,0.7457627118644068,0.7288135593220338,0.6949152542372882,0.6779661016949152,0.6779661016949152,0.6779661016949152,0.6440677966101694,0.6101694915254238,0.559322033898305,0.5254237288135594,0.4745762711864407,0.4576271186440678,0.4067796610169492,0.4067796610169492,0.4067796610169492,0.4067796610169492,0.4067796610169492,0.4067796610169492,0.3559322033898305,0.3559322033898305,0.3559322033898305,0.3389830508474576,0.3220338983050847,0.3050847457627119,0.3050847457627119,0.2542372881355932,0.2542372881355932,0.2542372881355932,0.22033898305084745,0.1864406779661017,0.1864406779661017,0.1864406779661017,0.1864406779661017,0.13559322033898305,0.13559322033898305,0.1016949152542373,0.0847457627118644,0.06779661016949153,0.06779661016949153,0.05084745762711865,0.05084745762711865,0.03389830508474576,0.03389830508474576,0.01694915254237288,0.0,0.0,0.0,0.0,0.0,0.0,0.0,0.0,0.0,0.0,0.0,0.0],\"xaxis\":\"x\",\"y\":[1.0,1.0,1.0,1.0,1.0,1.0,1.0,1.0,1.0,1.0,1.0,1.0,1.0,1.0,1.0,1.0,1.0,1.0,1.0,1.0,1.0,1.0,1.0,1.0,1.0,1.0,1.0,1.0,1.0,0.9929078014184397,0.9858156028368794,0.9858156028368794,0.9858156028368794,0.9858156028368794,0.9858156028368794,0.9787234042553191,0.9787234042553191,0.9716312056737588,0.9716312056737588,0.9645390070921985,0.9645390070921985,0.9645390070921985,0.9645390070921985,0.9645390070921985,0.9645390070921985,0.9645390070921985,0.9574468085106383,0.9574468085106383,0.9574468085106383,0.9574468085106383,0.9574468085106383,0.9432624113475178,0.9290780141843972,0.9219858156028369,0.9148936170212766,0.9148936170212766,0.9148936170212766,0.900709219858156,0.8652482269503546,0.8581560283687943,0.8368794326241135,0.8297872340425532,0.8226950354609929,0.8156028368794326,0.8014184397163121,0.8014184397163121,0.7801418439716312,0.7730496453900709,0.7659574468085106,0.7375886524822695,0.723404255319149,0.7163120567375887,0.7092198581560284,0.6950354609929078,0.6666666666666666,0.6382978723404256,0.6382978723404256,0.6099290780141844,0.5815602836879432,0.574468085106383,0.5460992907801419,0.5035460992907801,0.48936170212765956,0.4397163120567376,0.3900709219858156,0.3404255319148936,0.2978723404255319,0.2695035460992908,0.2198581560283688,0.1773049645390071,0.14184397163120568,0.09929078014184398,0.0851063829787234,0.06382978723404255,0.02127659574468085,0.014184397163120567,0.014184397163120567,0.0070921985815602835,0.0,0.0,0.0],\"yaxis\":\"y\",\"type\":\"scatter\"},{\"hovertemplate\":\"False Positive Rate=%{x}<br>True Positive Rate=%{y}<br>threshold=%{marker.color}<extra></extra>\",\"legendgroup\":\"\",\"marker\":{\"color\":[0.0,0.01,0.02,0.03,0.04,0.05,0.06,0.07,0.08,0.09,0.1,0.11,0.12,0.13,0.14,0.15,0.16,0.17,0.18,0.19,0.2,0.21,0.22,0.23,0.24,0.25,0.26,0.27,0.28,0.29,0.3,0.31,0.32,0.33,0.34,0.35000000000000003,0.36,0.37,0.38,0.39,0.4,0.41000000000000003,0.42,0.43,0.44,0.45,0.46,0.47000000000000003,0.48,0.49,0.5,0.51,0.52,0.53,0.54,0.55,0.56,0.5700000000000001,0.58,0.59,0.6,0.61,0.62,0.63,0.64,0.65,0.66,0.67,0.68,0.6900000000000001,0.7000000000000001,0.71,0.72,0.73,0.74,0.75,0.76,0.77,0.78,0.79,0.8,0.81,0.8200000000000001,0.8300000000000001,0.84,0.85,0.86,0.87,0.88,0.89,0.9,0.91,0.92,0.93,0.9400000000000001,0.9500000000000001,0.96,0.97,0.98,0.99,1.0],\"coloraxis\":\"coloraxis\",\"symbol\":\"circle\"},\"mode\":\"markers\",\"name\":\"\",\"orientation\":\"v\",\"showlegend\":false,\"x\":[1.0,1.0,1.0,1.0,1.0,1.0,1.0,1.0,1.0,1.0,1.0,1.0,1.0,0.9830508474576272,0.9830508474576272,0.9830508474576272,0.9830508474576272,0.9830508474576272,0.9830508474576272,0.9830508474576272,0.9830508474576272,0.9830508474576272,0.9830508474576272,0.9830508474576272,0.9830508474576272,0.9830508474576272,0.9830508474576272,0.9661016949152542,0.9661016949152542,0.9661016949152542,0.9661016949152542,0.9661016949152542,0.9661016949152542,0.9661016949152542,0.9661016949152542,0.9661016949152542,0.9661016949152542,0.9491525423728814,0.9322033898305084,0.9152542372881356,0.864406779661017,0.864406779661017,0.847457627118644,0.8305084745762712,0.8135593220338984,0.7457627118644068,0.7288135593220338,0.6949152542372882,0.6779661016949152,0.6779661016949152,0.6779661016949152,0.6440677966101694,0.6101694915254238,0.559322033898305,0.5254237288135594,0.4745762711864407,0.4576271186440678,0.4067796610169492,0.4067796610169492,0.4067796610169492,0.4067796610169492,0.4067796610169492,0.4067796610169492,0.3559322033898305,0.3559322033898305,0.3559322033898305,0.3389830508474576,0.3220338983050847,0.3050847457627119,0.3050847457627119,0.2542372881355932,0.2542372881355932,0.2542372881355932,0.22033898305084745,0.1864406779661017,0.1864406779661017,0.1864406779661017,0.1864406779661017,0.13559322033898305,0.13559322033898305,0.1016949152542373,0.0847457627118644,0.06779661016949153,0.06779661016949153,0.05084745762711865,0.05084745762711865,0.03389830508474576,0.03389830508474576,0.01694915254237288,0.0,0.0,0.0,0.0,0.0,0.0,0.0,0.0,0.0,0.0,0.0,0.0],\"xaxis\":\"x\",\"y\":[1.0,1.0,1.0,1.0,1.0,1.0,1.0,1.0,1.0,1.0,1.0,1.0,1.0,1.0,1.0,1.0,1.0,1.0,1.0,1.0,1.0,1.0,1.0,1.0,1.0,1.0,1.0,1.0,1.0,0.9929078014184397,0.9858156028368794,0.9858156028368794,0.9858156028368794,0.9858156028368794,0.9858156028368794,0.9787234042553191,0.9787234042553191,0.9716312056737588,0.9716312056737588,0.9645390070921985,0.9645390070921985,0.9645390070921985,0.9645390070921985,0.9645390070921985,0.9645390070921985,0.9645390070921985,0.9574468085106383,0.9574468085106383,0.9574468085106383,0.9574468085106383,0.9574468085106383,0.9432624113475178,0.9290780141843972,0.9219858156028369,0.9148936170212766,0.9148936170212766,0.9148936170212766,0.900709219858156,0.8652482269503546,0.8581560283687943,0.8368794326241135,0.8297872340425532,0.8226950354609929,0.8156028368794326,0.8014184397163121,0.8014184397163121,0.7801418439716312,0.7730496453900709,0.7659574468085106,0.7375886524822695,0.723404255319149,0.7163120567375887,0.7092198581560284,0.6950354609929078,0.6666666666666666,0.6382978723404256,0.6382978723404256,0.6099290780141844,0.5815602836879432,0.574468085106383,0.5460992907801419,0.5035460992907801,0.48936170212765956,0.4397163120567376,0.3900709219858156,0.3404255319148936,0.2978723404255319,0.2695035460992908,0.2198581560283688,0.1773049645390071,0.14184397163120568,0.09929078014184398,0.0851063829787234,0.06382978723404255,0.02127659574468085,0.014184397163120567,0.014184397163120567,0.0070921985815602835,0.0,0.0,0.0],\"yaxis\":\"y\",\"type\":\"scatter\"}],                        {\"template\":{\"data\":{\"bar\":[{\"error_x\":{\"color\":\"#2a3f5f\"},\"error_y\":{\"color\":\"#2a3f5f\"},\"marker\":{\"line\":{\"color\":\"#E5ECF6\",\"width\":0.5},\"pattern\":{\"fillmode\":\"overlay\",\"size\":10,\"solidity\":0.2}},\"type\":\"bar\"}],\"barpolar\":[{\"marker\":{\"line\":{\"color\":\"#E5ECF6\",\"width\":0.5},\"pattern\":{\"fillmode\":\"overlay\",\"size\":10,\"solidity\":0.2}},\"type\":\"barpolar\"}],\"carpet\":[{\"aaxis\":{\"endlinecolor\":\"#2a3f5f\",\"gridcolor\":\"white\",\"linecolor\":\"white\",\"minorgridcolor\":\"white\",\"startlinecolor\":\"#2a3f5f\"},\"baxis\":{\"endlinecolor\":\"#2a3f5f\",\"gridcolor\":\"white\",\"linecolor\":\"white\",\"minorgridcolor\":\"white\",\"startlinecolor\":\"#2a3f5f\"},\"type\":\"carpet\"}],\"choropleth\":[{\"colorbar\":{\"outlinewidth\":0,\"ticks\":\"\"},\"type\":\"choropleth\"}],\"contour\":[{\"colorbar\":{\"outlinewidth\":0,\"ticks\":\"\"},\"colorscale\":[[0.0,\"#0d0887\"],[0.1111111111111111,\"#46039f\"],[0.2222222222222222,\"#7201a8\"],[0.3333333333333333,\"#9c179e\"],[0.4444444444444444,\"#bd3786\"],[0.5555555555555556,\"#d8576b\"],[0.6666666666666666,\"#ed7953\"],[0.7777777777777778,\"#fb9f3a\"],[0.8888888888888888,\"#fdca26\"],[1.0,\"#f0f921\"]],\"type\":\"contour\"}],\"contourcarpet\":[{\"colorbar\":{\"outlinewidth\":0,\"ticks\":\"\"},\"type\":\"contourcarpet\"}],\"heatmap\":[{\"colorbar\":{\"outlinewidth\":0,\"ticks\":\"\"},\"colorscale\":[[0.0,\"#0d0887\"],[0.1111111111111111,\"#46039f\"],[0.2222222222222222,\"#7201a8\"],[0.3333333333333333,\"#9c179e\"],[0.4444444444444444,\"#bd3786\"],[0.5555555555555556,\"#d8576b\"],[0.6666666666666666,\"#ed7953\"],[0.7777777777777778,\"#fb9f3a\"],[0.8888888888888888,\"#fdca26\"],[1.0,\"#f0f921\"]],\"type\":\"heatmap\"}],\"heatmapgl\":[{\"colorbar\":{\"outlinewidth\":0,\"ticks\":\"\"},\"colorscale\":[[0.0,\"#0d0887\"],[0.1111111111111111,\"#46039f\"],[0.2222222222222222,\"#7201a8\"],[0.3333333333333333,\"#9c179e\"],[0.4444444444444444,\"#bd3786\"],[0.5555555555555556,\"#d8576b\"],[0.6666666666666666,\"#ed7953\"],[0.7777777777777778,\"#fb9f3a\"],[0.8888888888888888,\"#fdca26\"],[1.0,\"#f0f921\"]],\"type\":\"heatmapgl\"}],\"histogram\":[{\"marker\":{\"pattern\":{\"fillmode\":\"overlay\",\"size\":10,\"solidity\":0.2}},\"type\":\"histogram\"}],\"histogram2d\":[{\"colorbar\":{\"outlinewidth\":0,\"ticks\":\"\"},\"colorscale\":[[0.0,\"#0d0887\"],[0.1111111111111111,\"#46039f\"],[0.2222222222222222,\"#7201a8\"],[0.3333333333333333,\"#9c179e\"],[0.4444444444444444,\"#bd3786\"],[0.5555555555555556,\"#d8576b\"],[0.6666666666666666,\"#ed7953\"],[0.7777777777777778,\"#fb9f3a\"],[0.8888888888888888,\"#fdca26\"],[1.0,\"#f0f921\"]],\"type\":\"histogram2d\"}],\"histogram2dcontour\":[{\"colorbar\":{\"outlinewidth\":0,\"ticks\":\"\"},\"colorscale\":[[0.0,\"#0d0887\"],[0.1111111111111111,\"#46039f\"],[0.2222222222222222,\"#7201a8\"],[0.3333333333333333,\"#9c179e\"],[0.4444444444444444,\"#bd3786\"],[0.5555555555555556,\"#d8576b\"],[0.6666666666666666,\"#ed7953\"],[0.7777777777777778,\"#fb9f3a\"],[0.8888888888888888,\"#fdca26\"],[1.0,\"#f0f921\"]],\"type\":\"histogram2dcontour\"}],\"mesh3d\":[{\"colorbar\":{\"outlinewidth\":0,\"ticks\":\"\"},\"type\":\"mesh3d\"}],\"parcoords\":[{\"line\":{\"colorbar\":{\"outlinewidth\":0,\"ticks\":\"\"}},\"type\":\"parcoords\"}],\"pie\":[{\"automargin\":true,\"type\":\"pie\"}],\"scatter\":[{\"marker\":{\"colorbar\":{\"outlinewidth\":0,\"ticks\":\"\"}},\"type\":\"scatter\"}],\"scatter3d\":[{\"line\":{\"colorbar\":{\"outlinewidth\":0,\"ticks\":\"\"}},\"marker\":{\"colorbar\":{\"outlinewidth\":0,\"ticks\":\"\"}},\"type\":\"scatter3d\"}],\"scattercarpet\":[{\"marker\":{\"colorbar\":{\"outlinewidth\":0,\"ticks\":\"\"}},\"type\":\"scattercarpet\"}],\"scattergeo\":[{\"marker\":{\"colorbar\":{\"outlinewidth\":0,\"ticks\":\"\"}},\"type\":\"scattergeo\"}],\"scattergl\":[{\"marker\":{\"colorbar\":{\"outlinewidth\":0,\"ticks\":\"\"}},\"type\":\"scattergl\"}],\"scattermapbox\":[{\"marker\":{\"colorbar\":{\"outlinewidth\":0,\"ticks\":\"\"}},\"type\":\"scattermapbox\"}],\"scatterpolar\":[{\"marker\":{\"colorbar\":{\"outlinewidth\":0,\"ticks\":\"\"}},\"type\":\"scatterpolar\"}],\"scatterpolargl\":[{\"marker\":{\"colorbar\":{\"outlinewidth\":0,\"ticks\":\"\"}},\"type\":\"scatterpolargl\"}],\"scatterternary\":[{\"marker\":{\"colorbar\":{\"outlinewidth\":0,\"ticks\":\"\"}},\"type\":\"scatterternary\"}],\"surface\":[{\"colorbar\":{\"outlinewidth\":0,\"ticks\":\"\"},\"colorscale\":[[0.0,\"#0d0887\"],[0.1111111111111111,\"#46039f\"],[0.2222222222222222,\"#7201a8\"],[0.3333333333333333,\"#9c179e\"],[0.4444444444444444,\"#bd3786\"],[0.5555555555555556,\"#d8576b\"],[0.6666666666666666,\"#ed7953\"],[0.7777777777777778,\"#fb9f3a\"],[0.8888888888888888,\"#fdca26\"],[1.0,\"#f0f921\"]],\"type\":\"surface\"}],\"table\":[{\"cells\":{\"fill\":{\"color\":\"#EBF0F8\"},\"line\":{\"color\":\"white\"}},\"header\":{\"fill\":{\"color\":\"#C8D4E3\"},\"line\":{\"color\":\"white\"}},\"type\":\"table\"}]},\"layout\":{\"annotationdefaults\":{\"arrowcolor\":\"#2a3f5f\",\"arrowhead\":0,\"arrowwidth\":1},\"autotypenumbers\":\"strict\",\"coloraxis\":{\"colorbar\":{\"outlinewidth\":0,\"ticks\":\"\"}},\"colorscale\":{\"diverging\":[[0,\"#8e0152\"],[0.1,\"#c51b7d\"],[0.2,\"#de77ae\"],[0.3,\"#f1b6da\"],[0.4,\"#fde0ef\"],[0.5,\"#f7f7f7\"],[0.6,\"#e6f5d0\"],[0.7,\"#b8e186\"],[0.8,\"#7fbc41\"],[0.9,\"#4d9221\"],[1,\"#276419\"]],\"sequential\":[[0.0,\"#0d0887\"],[0.1111111111111111,\"#46039f\"],[0.2222222222222222,\"#7201a8\"],[0.3333333333333333,\"#9c179e\"],[0.4444444444444444,\"#bd3786\"],[0.5555555555555556,\"#d8576b\"],[0.6666666666666666,\"#ed7953\"],[0.7777777777777778,\"#fb9f3a\"],[0.8888888888888888,\"#fdca26\"],[1.0,\"#f0f921\"]],\"sequentialminus\":[[0.0,\"#0d0887\"],[0.1111111111111111,\"#46039f\"],[0.2222222222222222,\"#7201a8\"],[0.3333333333333333,\"#9c179e\"],[0.4444444444444444,\"#bd3786\"],[0.5555555555555556,\"#d8576b\"],[0.6666666666666666,\"#ed7953\"],[0.7777777777777778,\"#fb9f3a\"],[0.8888888888888888,\"#fdca26\"],[1.0,\"#f0f921\"]]},\"colorway\":[\"#636efa\",\"#EF553B\",\"#00cc96\",\"#ab63fa\",\"#FFA15A\",\"#19d3f3\",\"#FF6692\",\"#B6E880\",\"#FF97FF\",\"#FECB52\"],\"font\":{\"color\":\"#2a3f5f\"},\"geo\":{\"bgcolor\":\"white\",\"lakecolor\":\"white\",\"landcolor\":\"#E5ECF6\",\"showlakes\":true,\"showland\":true,\"subunitcolor\":\"white\"},\"hoverlabel\":{\"align\":\"left\"},\"hovermode\":\"closest\",\"mapbox\":{\"style\":\"light\"},\"paper_bgcolor\":\"white\",\"plot_bgcolor\":\"#E5ECF6\",\"polar\":{\"angularaxis\":{\"gridcolor\":\"white\",\"linecolor\":\"white\",\"ticks\":\"\"},\"bgcolor\":\"#E5ECF6\",\"radialaxis\":{\"gridcolor\":\"white\",\"linecolor\":\"white\",\"ticks\":\"\"}},\"scene\":{\"xaxis\":{\"backgroundcolor\":\"#E5ECF6\",\"gridcolor\":\"white\",\"gridwidth\":2,\"linecolor\":\"white\",\"showbackground\":true,\"ticks\":\"\",\"zerolinecolor\":\"white\"},\"yaxis\":{\"backgroundcolor\":\"#E5ECF6\",\"gridcolor\":\"white\",\"gridwidth\":2,\"linecolor\":\"white\",\"showbackground\":true,\"ticks\":\"\",\"zerolinecolor\":\"white\"},\"zaxis\":{\"backgroundcolor\":\"#E5ECF6\",\"gridcolor\":\"white\",\"gridwidth\":2,\"linecolor\":\"white\",\"showbackground\":true,\"ticks\":\"\",\"zerolinecolor\":\"white\"}},\"shapedefaults\":{\"line\":{\"color\":\"#2a3f5f\"}},\"ternary\":{\"aaxis\":{\"gridcolor\":\"white\",\"linecolor\":\"white\",\"ticks\":\"\"},\"baxis\":{\"gridcolor\":\"white\",\"linecolor\":\"white\",\"ticks\":\"\"},\"bgcolor\":\"#E5ECF6\",\"caxis\":{\"gridcolor\":\"white\",\"linecolor\":\"white\",\"ticks\":\"\"}},\"title\":{\"x\":0.05},\"xaxis\":{\"automargin\":true,\"gridcolor\":\"white\",\"linecolor\":\"white\",\"ticks\":\"\",\"title\":{\"standoff\":15},\"zerolinecolor\":\"white\",\"zerolinewidth\":2},\"yaxis\":{\"automargin\":true,\"gridcolor\":\"white\",\"linecolor\":\"white\",\"ticks\":\"\",\"title\":{\"standoff\":15},\"zerolinecolor\":\"white\",\"zerolinewidth\":2}}},\"xaxis\":{\"anchor\":\"y\",\"domain\":[0.0,1.0],\"title\":{\"text\":\"False Positive Rate\"}},\"yaxis\":{\"anchor\":\"x\",\"domain\":[0.0,1.0],\"title\":{\"text\":\"True Positive Rate\"}},\"legend\":{\"tracegroupgap\":0},\"title\":{\"text\":\"AUC: 0.814\"},\"height\":600,\"width\":970.8203932499999},                        {\"responsive\": true}                    ).then(function(){\n",
       "                            \n",
       "var gd = document.getElementById('37ddf1b8-16cf-4b9e-a4d8-7afd4ca3d715');\n",
       "var x = new MutationObserver(function (mutations, observer) {{\n",
       "        var display = window.getComputedStyle(gd).display;\n",
       "        if (!display || display === 'none') {{\n",
       "            console.log([gd, 'removed!']);\n",
       "            Plotly.purge(gd);\n",
       "            observer.disconnect();\n",
       "        }}\n",
       "}});\n",
       "\n",
       "// Listen for the removal of the full notebook cells\n",
       "var notebookContainer = gd.closest('#notebook-container');\n",
       "if (notebookContainer) {{\n",
       "    x.observe(notebookContainer, {childList: true});\n",
       "}}\n",
       "\n",
       "// Listen for the clearing of the current output cell\n",
       "var outputEl = gd.closest('.output');\n",
       "if (outputEl) {{\n",
       "    x.observe(outputEl, {childList: true});\n",
       "}}\n",
       "\n",
       "                        })                };                });            </script>        </div>"
      ]
     },
     "metadata": {},
     "output_type": "display_data"
    }
   ],
   "source": [
    "def get_true_pos_false_pos(threshold):\n",
    "    temp_eval = hlp.sklearn_eval.TwoClassEvaluator(\n",
    "        actual_values=evaluator._actual_values,\n",
    "        predicted_scores=evaluator._predicted_scores,\n",
    "        labels=('x', 'y'),\n",
    "        score_threshold=threshold\n",
    "    )\n",
    "\n",
    "    return threshold, temp_eval.true_positive_rate, temp_eval.false_positive_rate\n",
    "\n",
    "auc_curve = [get_true_pos_false_pos(threshold=x) for x in np.arange(0.0, 1.01, 0.01)]\n",
    "auc_curve = pd.DataFrame(auc_curve,\n",
    "                         columns=['threshold', 'True Positive Rate', 'False Positive Rate'])\n",
    "\n",
    "import plotly.express as px\n",
    "fig = px.line(\n",
    "    data_frame=auc_curve,\n",
    "    x='False Positive Rate',\n",
    "    y='True Positive Rate',\n",
    "    height=600,\n",
    "    width=600*hlp.plot.GOLDEN_RATIO,\n",
    "    title=f\"AUC: {evaluator.auc:.3f}\"\n",
    ")\n",
    "\n",
    "fig.add_trace(\n",
    "    px.scatter(\n",
    "        data_frame=auc_curve,\n",
    "        x='False Positive Rate',\n",
    "        y='True Positive Rate',\n",
    "        color='threshold',\n",
    "        height=600,\n",
    "        width=600*hlp.plot.GOLDEN_RATIO,\n",
    "    ).data[0]\n",
    ")\n",
    "\n",
    "fig.show()"
   ]
  },
  {
   "cell_type": "code",
   "execution_count": 96,
   "id": "cc60bc2c",
   "metadata": {},
   "outputs": [
    {
     "data": {
      "image/png": "[encoded data removed]",
      "text/plain": [
       "<Figure size 720x444.984 with 1 Axes>"
      ]
     },
     "metadata": {
      "needs_background": "light"
     },
     "output_type": "display_data"
    }
   ],
   "source": [
    "evaluator.plot_auc_curve()\n",
    "plt.grid()"
   ]
  },
  {
   "cell_type": "code",
   "execution_count": 49,
   "id": "44c66aaf",
   "metadata": {},
   "outputs": [
    {
     "data": {
      "image/png": "[encoded data removed]",
      "text/plain": [
       "<Figure size 720x444.984 with 1 Axes>"
      ]
     },
     "metadata": {
      "needs_background": "light"
     },
     "output_type": "display_data"
    }
   ],
   "source": [
    "evaluator.plot_threshold_curves()\n",
    "plt.grid()"
   ]
  },
  {
   "cell_type": "code",
   "execution_count": 50,
   "id": "08f1bf81",
   "metadata": {},
   "outputs": [
    {
     "data": {
      "image/png": "[encoded data removed]",
      "text/plain": [
       "<Figure size 720x444.984 with 1 Axes>"
      ]
     },
     "metadata": {
      "needs_background": "light"
     },
     "output_type": "display_data"
    }
   ],
   "source": [
    "evaluator.plot_precision_recall_tradeoff(score_threshold_range=(0.4, 0.95))\n",
    "plt.grid()"
   ]
  },
  {
   "cell_type": "code",
   "execution_count": 51,
   "id": "74863f55",
   "metadata": {},
   "outputs": [
    {
     "data": {
      "text/html": [
       "<style type=\"text/css\">\n",
       "#T_cdbad_row0_col3 {\n",
       "  width: 10em;\n",
       "  height: 80%;\n",
       "  background: linear-gradient(90deg,#7AA9CF 7.0%, transparent 7.0%);\n",
       "}\n",
       "#T_cdbad_row0_col4, #T_cdbad_row1_col4, #T_cdbad_row19_col3 {\n",
       "  width: 10em;\n",
       "  height: 80%;\n",
       "  background: linear-gradient(90deg,#7AA9CF 100.0%, transparent 100.0%);\n",
       "}\n",
       "#T_cdbad_row1_col3 {\n",
       "  width: 10em;\n",
       "  height: 80%;\n",
       "  background: linear-gradient(90deg,#7AA9CF 14.0%, transparent 14.0%);\n",
       "}\n",
       "#T_cdbad_row2_col3 {\n",
       "  width: 10em;\n",
       "  height: 80%;\n",
       "  background: linear-gradient(90deg,#7AA9CF 21.0%, transparent 21.0%);\n",
       "}\n",
       "#T_cdbad_row2_col4 {\n",
       "  width: 10em;\n",
       "  height: 80%;\n",
       "  background: linear-gradient(90deg,#7AA9CF 88.1%, transparent 88.1%);\n",
       "}\n",
       "#T_cdbad_row3_col3 {\n",
       "  width: 10em;\n",
       "  height: 80%;\n",
       "  background: linear-gradient(90deg,#7AA9CF 27.0%, transparent 27.0%);\n",
       "}\n",
       "#T_cdbad_row3_col4, #T_cdbad_row5_col4 {\n",
       "  width: 10em;\n",
       "  height: 80%;\n",
       "  background: linear-gradient(90deg,#7AA9CF 83.3%, transparent 83.3%);\n",
       "}\n",
       "#T_cdbad_row4_col3 {\n",
       "  width: 10em;\n",
       "  height: 80%;\n",
       "  background: linear-gradient(90deg,#7AA9CF 33.0%, transparent 33.0%);\n",
       "}\n",
       "#T_cdbad_row4_col4 {\n",
       "  width: 10em;\n",
       "  height: 80%;\n",
       "  background: linear-gradient(90deg,#7AA9CF 78.6%, transparent 78.6%);\n",
       "}\n",
       "#T_cdbad_row5_col3 {\n",
       "  width: 10em;\n",
       "  height: 80%;\n",
       "  background: linear-gradient(90deg,#7AA9CF 40.0%, transparent 40.0%);\n",
       "}\n",
       "#T_cdbad_row6_col3 {\n",
       "  width: 10em;\n",
       "  height: 80%;\n",
       "  background: linear-gradient(90deg,#7AA9CF 47.0%, transparent 47.0%);\n",
       "}\n",
       "#T_cdbad_row6_col4 {\n",
       "  width: 10em;\n",
       "  height: 80%;\n",
       "  background: linear-gradient(90deg,#7AA9CF 81.0%, transparent 81.0%);\n",
       "}\n",
       "#T_cdbad_row7_col3 {\n",
       "  width: 10em;\n",
       "  height: 80%;\n",
       "  background: linear-gradient(90deg,#7AA9CF 52.0%, transparent 52.0%);\n",
       "}\n",
       "#T_cdbad_row7_col4 {\n",
       "  width: 10em;\n",
       "  height: 80%;\n",
       "  background: linear-gradient(90deg,#7AA9CF 73.8%, transparent 73.8%);\n",
       "}\n",
       "#T_cdbad_row8_col3 {\n",
       "  width: 10em;\n",
       "  height: 80%;\n",
       "  background: linear-gradient(90deg,#7AA9CF 58.0%, transparent 58.0%);\n",
       "}\n",
       "#T_cdbad_row8_col4 {\n",
       "  width: 10em;\n",
       "  height: 80%;\n",
       "  background: linear-gradient(90deg,#7AA9CF 69.0%, transparent 69.0%);\n",
       "}\n",
       "#T_cdbad_row9_col3 {\n",
       "  width: 10em;\n",
       "  height: 80%;\n",
       "  background: linear-gradient(90deg,#7AA9CF 63.0%, transparent 63.0%);\n",
       "}\n",
       "#T_cdbad_row9_col4, #T_cdbad_row10_col4 {\n",
       "  width: 10em;\n",
       "  height: 80%;\n",
       "  background: linear-gradient(90deg,#7AA9CF 61.9%, transparent 61.9%);\n",
       "}\n",
       "#T_cdbad_row10_col3 {\n",
       "  width: 10em;\n",
       "  height: 80%;\n",
       "  background: linear-gradient(90deg,#7AA9CF 70.0%, transparent 70.0%);\n",
       "}\n",
       "#T_cdbad_row11_col3 {\n",
       "  width: 10em;\n",
       "  height: 80%;\n",
       "  background: linear-gradient(90deg,#7AA9CF 73.0%, transparent 73.0%);\n",
       "}\n",
       "#T_cdbad_row11_col4 {\n",
       "  width: 10em;\n",
       "  height: 80%;\n",
       "  background: linear-gradient(90deg,#7AA9CF 52.4%, transparent 52.4%);\n",
       "}\n",
       "#T_cdbad_row12_col3 {\n",
       "  width: 10em;\n",
       "  height: 80%;\n",
       "  background: linear-gradient(90deg,#7AA9CF 78.0%, transparent 78.0%);\n",
       "}\n",
       "#T_cdbad_row12_col4 {\n",
       "  width: 10em;\n",
       "  height: 80%;\n",
       "  background: linear-gradient(90deg,#7AA9CF 47.6%, transparent 47.6%);\n",
       "}\n",
       "#T_cdbad_row13_col3 {\n",
       "  width: 10em;\n",
       "  height: 80%;\n",
       "  background: linear-gradient(90deg,#7AA9CF 82.0%, transparent 82.0%);\n",
       "}\n",
       "#T_cdbad_row13_col4 {\n",
       "  width: 10em;\n",
       "  height: 80%;\n",
       "  background: linear-gradient(90deg,#7AA9CF 42.9%, transparent 42.9%);\n",
       "}\n",
       "#T_cdbad_row14_col3 {\n",
       "  width: 10em;\n",
       "  height: 80%;\n",
       "  background: linear-gradient(90deg,#7AA9CF 89.0%, transparent 89.0%);\n",
       "}\n",
       "#T_cdbad_row14_col4 {\n",
       "  width: 10em;\n",
       "  height: 80%;\n",
       "  background: linear-gradient(90deg,#7AA9CF 45.2%, transparent 45.2%);\n",
       "}\n",
       "#T_cdbad_row15_col3 {\n",
       "  width: 10em;\n",
       "  height: 80%;\n",
       "  background: linear-gradient(90deg,#7AA9CF 91.0%, transparent 91.0%);\n",
       "}\n",
       "#T_cdbad_row15_col4 {\n",
       "  width: 10em;\n",
       "  height: 80%;\n",
       "  background: linear-gradient(90deg,#7AA9CF 33.3%, transparent 33.3%);\n",
       "}\n",
       "#T_cdbad_row16_col3 {\n",
       "  width: 10em;\n",
       "  height: 80%;\n",
       "  background: linear-gradient(90deg,#7AA9CF 94.0%, transparent 94.0%);\n",
       "}\n",
       "#T_cdbad_row16_col4 {\n",
       "  width: 10em;\n",
       "  height: 80%;\n",
       "  background: linear-gradient(90deg,#7AA9CF 26.2%, transparent 26.2%);\n",
       "}\n",
       "#T_cdbad_row17_col3, #T_cdbad_row18_col3 {\n",
       "  width: 10em;\n",
       "  height: 80%;\n",
       "  background: linear-gradient(90deg,#7AA9CF 96.0%, transparent 96.0%);\n",
       "}\n",
       "#T_cdbad_row17_col4 {\n",
       "  width: 10em;\n",
       "  height: 80%;\n",
       "  background: linear-gradient(90deg,#7AA9CF 16.7%, transparent 16.7%);\n",
       "}\n",
       "#T_cdbad_row18_col4 {\n",
       "  width: 10em;\n",
       "  height: 80%;\n",
       "  background: linear-gradient(90deg,#7AA9CF 4.8%, transparent 4.8%);\n",
       "}\n",
       "#T_cdbad_row19_col4 {\n",
       "  width: 10em;\n",
       "  height: 80%;\n",
       "}\n",
       "</style>\n",
       "<table id=\"T_cdbad_\">\n",
       "  <thead>\n",
       "    <tr>\n",
       "      <th class=\"blank level0\" >&nbsp;</th>\n",
       "      <th class=\"col_heading level0 col0\" ># of Obs.</th>\n",
       "      <th class=\"col_heading level0 col1\" ># of Pos. Events</th>\n",
       "      <th class=\"col_heading level0 col2\" >Cumul. Pos. Events</th>\n",
       "      <th class=\"col_heading level0 col3\" >Gain</th>\n",
       "      <th class=\"col_heading level0 col4\" >Lift</th>\n",
       "    </tr>\n",
       "    <tr>\n",
       "      <th class=\"index_name level0\" >Percentile</th>\n",
       "      <th class=\"blank col0\" >&nbsp;</th>\n",
       "      <th class=\"blank col1\" >&nbsp;</th>\n",
       "      <th class=\"blank col2\" >&nbsp;</th>\n",
       "      <th class=\"blank col3\" >&nbsp;</th>\n",
       "      <th class=\"blank col4\" >&nbsp;</th>\n",
       "    </tr>\n",
       "  </thead>\n",
       "  <tbody>\n",
       "    <tr>\n",
       "      <th id=\"T_cdbad_level0_row0\" class=\"row_heading level0 row0\" >5</th>\n",
       "      <td id=\"T_cdbad_row0_col0\" class=\"data row0 col0\" >10</td>\n",
       "      <td id=\"T_cdbad_row0_col1\" class=\"data row0 col1\" >10</td>\n",
       "      <td id=\"T_cdbad_row0_col2\" class=\"data row0 col2\" >10</td>\n",
       "      <td id=\"T_cdbad_row0_col3\" class=\"data row0 col3\" >0.07</td>\n",
       "      <td id=\"T_cdbad_row0_col4\" class=\"data row0 col4\" >1.42</td>\n",
       "    </tr>\n",
       "    <tr>\n",
       "      <th id=\"T_cdbad_level0_row1\" class=\"row_heading level0 row1\" >10</th>\n",
       "      <td id=\"T_cdbad_row1_col0\" class=\"data row1 col0\" >10</td>\n",
       "      <td id=\"T_cdbad_row1_col1\" class=\"data row1 col1\" >10</td>\n",
       "      <td id=\"T_cdbad_row1_col2\" class=\"data row1 col2\" >20</td>\n",
       "      <td id=\"T_cdbad_row1_col3\" class=\"data row1 col3\" >0.14</td>\n",
       "      <td id=\"T_cdbad_row1_col4\" class=\"data row1 col4\" >1.42</td>\n",
       "    </tr>\n",
       "    <tr>\n",
       "      <th id=\"T_cdbad_level0_row2\" class=\"row_heading level0 row2\" >15</th>\n",
       "      <td id=\"T_cdbad_row2_col0\" class=\"data row2 col0\" >10</td>\n",
       "      <td id=\"T_cdbad_row2_col1\" class=\"data row2 col1\" >9</td>\n",
       "      <td id=\"T_cdbad_row2_col2\" class=\"data row2 col2\" >29</td>\n",
       "      <td id=\"T_cdbad_row2_col3\" class=\"data row2 col3\" >0.21</td>\n",
       "      <td id=\"T_cdbad_row2_col4\" class=\"data row2 col4\" >1.37</td>\n",
       "    </tr>\n",
       "    <tr>\n",
       "      <th id=\"T_cdbad_level0_row3\" class=\"row_heading level0 row3\" >20</th>\n",
       "      <td id=\"T_cdbad_row3_col0\" class=\"data row3 col0\" >10</td>\n",
       "      <td id=\"T_cdbad_row3_col1\" class=\"data row3 col1\" >9</td>\n",
       "      <td id=\"T_cdbad_row3_col2\" class=\"data row3 col2\" >38</td>\n",
       "      <td id=\"T_cdbad_row3_col3\" class=\"data row3 col3\" >0.27</td>\n",
       "      <td id=\"T_cdbad_row3_col4\" class=\"data row3 col4\" >1.35</td>\n",
       "    </tr>\n",
       "    <tr>\n",
       "      <th id=\"T_cdbad_level0_row4\" class=\"row_heading level0 row4\" >25</th>\n",
       "      <td id=\"T_cdbad_row4_col0\" class=\"data row4 col0\" >10</td>\n",
       "      <td id=\"T_cdbad_row4_col1\" class=\"data row4 col1\" >9</td>\n",
       "      <td id=\"T_cdbad_row4_col2\" class=\"data row4 col2\" >47</td>\n",
       "      <td id=\"T_cdbad_row4_col3\" class=\"data row4 col3\" >0.33</td>\n",
       "      <td id=\"T_cdbad_row4_col4\" class=\"data row4 col4\" >1.33</td>\n",
       "    </tr>\n",
       "    <tr>\n",
       "      <th id=\"T_cdbad_level0_row5\" class=\"row_heading level0 row5\" >30</th>\n",
       "      <td id=\"T_cdbad_row5_col0\" class=\"data row5 col0\" >10</td>\n",
       "      <td id=\"T_cdbad_row5_col1\" class=\"data row5 col1\" >10</td>\n",
       "      <td id=\"T_cdbad_row5_col2\" class=\"data row5 col2\" >57</td>\n",
       "      <td id=\"T_cdbad_row5_col3\" class=\"data row5 col3\" >0.40</td>\n",
       "      <td id=\"T_cdbad_row5_col4\" class=\"data row5 col4\" >1.35</td>\n",
       "    </tr>\n",
       "    <tr>\n",
       "      <th id=\"T_cdbad_level0_row6\" class=\"row_heading level0 row6\" >35</th>\n",
       "      <td id=\"T_cdbad_row6_col0\" class=\"data row6 col0\" >10</td>\n",
       "      <td id=\"T_cdbad_row6_col1\" class=\"data row6 col1\" >9</td>\n",
       "      <td id=\"T_cdbad_row6_col2\" class=\"data row6 col2\" >66</td>\n",
       "      <td id=\"T_cdbad_row6_col3\" class=\"data row6 col3\" >0.47</td>\n",
       "      <td id=\"T_cdbad_row6_col4\" class=\"data row6 col4\" >1.34</td>\n",
       "    </tr>\n",
       "    <tr>\n",
       "      <th id=\"T_cdbad_level0_row7\" class=\"row_heading level0 row7\" >40</th>\n",
       "      <td id=\"T_cdbad_row7_col0\" class=\"data row7 col0\" >10</td>\n",
       "      <td id=\"T_cdbad_row7_col1\" class=\"data row7 col1\" >8</td>\n",
       "      <td id=\"T_cdbad_row7_col2\" class=\"data row7 col2\" >74</td>\n",
       "      <td id=\"T_cdbad_row7_col3\" class=\"data row7 col3\" >0.52</td>\n",
       "      <td id=\"T_cdbad_row7_col4\" class=\"data row7 col4\" >1.31</td>\n",
       "    </tr>\n",
       "    <tr>\n",
       "      <th id=\"T_cdbad_level0_row8\" class=\"row_heading level0 row8\" >45</th>\n",
       "      <td id=\"T_cdbad_row8_col0\" class=\"data row8 col0\" >10</td>\n",
       "      <td id=\"T_cdbad_row8_col1\" class=\"data row8 col1\" >8</td>\n",
       "      <td id=\"T_cdbad_row8_col2\" class=\"data row8 col2\" >82</td>\n",
       "      <td id=\"T_cdbad_row8_col3\" class=\"data row8 col3\" >0.58</td>\n",
       "      <td id=\"T_cdbad_row8_col4\" class=\"data row8 col4\" >1.29</td>\n",
       "    </tr>\n",
       "    <tr>\n",
       "      <th id=\"T_cdbad_level0_row9\" class=\"row_heading level0 row9\" >50</th>\n",
       "      <td id=\"T_cdbad_row9_col0\" class=\"data row9 col0\" >10</td>\n",
       "      <td id=\"T_cdbad_row9_col1\" class=\"data row9 col1\" >7</td>\n",
       "      <td id=\"T_cdbad_row9_col2\" class=\"data row9 col2\" >89</td>\n",
       "      <td id=\"T_cdbad_row9_col3\" class=\"data row9 col3\" >0.63</td>\n",
       "      <td id=\"T_cdbad_row9_col4\" class=\"data row9 col4\" >1.26</td>\n",
       "    </tr>\n",
       "    <tr>\n",
       "      <th id=\"T_cdbad_level0_row10\" class=\"row_heading level0 row10\" >55</th>\n",
       "      <td id=\"T_cdbad_row10_col0\" class=\"data row10 col0\" >10</td>\n",
       "      <td id=\"T_cdbad_row10_col1\" class=\"data row10 col1\" >9</td>\n",
       "      <td id=\"T_cdbad_row10_col2\" class=\"data row10 col2\" >98</td>\n",
       "      <td id=\"T_cdbad_row10_col3\" class=\"data row10 col3\" >0.70</td>\n",
       "      <td id=\"T_cdbad_row10_col4\" class=\"data row10 col4\" >1.26</td>\n",
       "    </tr>\n",
       "    <tr>\n",
       "      <th id=\"T_cdbad_level0_row11\" class=\"row_heading level0 row11\" >60</th>\n",
       "      <td id=\"T_cdbad_row11_col0\" class=\"data row11 col0\" >10</td>\n",
       "      <td id=\"T_cdbad_row11_col1\" class=\"data row11 col1\" >5</td>\n",
       "      <td id=\"T_cdbad_row11_col2\" class=\"data row11 col2\" >103</td>\n",
       "      <td id=\"T_cdbad_row11_col3\" class=\"data row11 col3\" >0.73</td>\n",
       "      <td id=\"T_cdbad_row11_col4\" class=\"data row11 col4\" >1.22</td>\n",
       "    </tr>\n",
       "    <tr>\n",
       "      <th id=\"T_cdbad_level0_row12\" class=\"row_heading level0 row12\" >65</th>\n",
       "      <td id=\"T_cdbad_row12_col0\" class=\"data row12 col0\" >10</td>\n",
       "      <td id=\"T_cdbad_row12_col1\" class=\"data row12 col1\" >7</td>\n",
       "      <td id=\"T_cdbad_row12_col2\" class=\"data row12 col2\" >110</td>\n",
       "      <td id=\"T_cdbad_row12_col3\" class=\"data row12 col3\" >0.78</td>\n",
       "      <td id=\"T_cdbad_row12_col4\" class=\"data row12 col4\" >1.20</td>\n",
       "    </tr>\n",
       "    <tr>\n",
       "      <th id=\"T_cdbad_level0_row13\" class=\"row_heading level0 row13\" >70</th>\n",
       "      <td id=\"T_cdbad_row13_col0\" class=\"data row13 col0\" >10</td>\n",
       "      <td id=\"T_cdbad_row13_col1\" class=\"data row13 col1\" >6</td>\n",
       "      <td id=\"T_cdbad_row13_col2\" class=\"data row13 col2\" >116</td>\n",
       "      <td id=\"T_cdbad_row13_col3\" class=\"data row13 col3\" >0.82</td>\n",
       "      <td id=\"T_cdbad_row13_col4\" class=\"data row13 col4\" >1.18</td>\n",
       "    </tr>\n",
       "    <tr>\n",
       "      <th id=\"T_cdbad_level0_row14\" class=\"row_heading level0 row14\" >75</th>\n",
       "      <td id=\"T_cdbad_row14_col0\" class=\"data row14 col0\" >10</td>\n",
       "      <td id=\"T_cdbad_row14_col1\" class=\"data row14 col1\" >10</td>\n",
       "      <td id=\"T_cdbad_row14_col2\" class=\"data row14 col2\" >126</td>\n",
       "      <td id=\"T_cdbad_row14_col3\" class=\"data row14 col3\" >0.89</td>\n",
       "      <td id=\"T_cdbad_row14_col4\" class=\"data row14 col4\" >1.19</td>\n",
       "    </tr>\n",
       "    <tr>\n",
       "      <th id=\"T_cdbad_level0_row15\" class=\"row_heading level0 row15\" >80</th>\n",
       "      <td id=\"T_cdbad_row15_col0\" class=\"data row15 col0\" >10</td>\n",
       "      <td id=\"T_cdbad_row15_col1\" class=\"data row15 col1\" >3</td>\n",
       "      <td id=\"T_cdbad_row15_col2\" class=\"data row15 col2\" >129</td>\n",
       "      <td id=\"T_cdbad_row15_col3\" class=\"data row15 col3\" >0.91</td>\n",
       "      <td id=\"T_cdbad_row15_col4\" class=\"data row15 col4\" >1.14</td>\n",
       "    </tr>\n",
       "    <tr>\n",
       "      <th id=\"T_cdbad_level0_row16\" class=\"row_heading level0 row16\" >85</th>\n",
       "      <td id=\"T_cdbad_row16_col0\" class=\"data row16 col0\" >10</td>\n",
       "      <td id=\"T_cdbad_row16_col1\" class=\"data row16 col1\" >4</td>\n",
       "      <td id=\"T_cdbad_row16_col2\" class=\"data row16 col2\" >133</td>\n",
       "      <td id=\"T_cdbad_row16_col3\" class=\"data row16 col3\" >0.94</td>\n",
       "      <td id=\"T_cdbad_row16_col4\" class=\"data row16 col4\" >1.11</td>\n",
       "    </tr>\n",
       "    <tr>\n",
       "      <th id=\"T_cdbad_level0_row17\" class=\"row_heading level0 row17\" >90</th>\n",
       "      <td id=\"T_cdbad_row17_col0\" class=\"data row17 col0\" >10</td>\n",
       "      <td id=\"T_cdbad_row17_col1\" class=\"data row17 col1\" >3</td>\n",
       "      <td id=\"T_cdbad_row17_col2\" class=\"data row17 col2\" >136</td>\n",
       "      <td id=\"T_cdbad_row17_col3\" class=\"data row17 col3\" >0.96</td>\n",
       "      <td id=\"T_cdbad_row17_col4\" class=\"data row17 col4\" >1.07</td>\n",
       "    </tr>\n",
       "    <tr>\n",
       "      <th id=\"T_cdbad_level0_row18\" class=\"row_heading level0 row18\" >95</th>\n",
       "      <td id=\"T_cdbad_row18_col0\" class=\"data row18 col0\" >10</td>\n",
       "      <td id=\"T_cdbad_row18_col1\" class=\"data row18 col1\" >0</td>\n",
       "      <td id=\"T_cdbad_row18_col2\" class=\"data row18 col2\" >136</td>\n",
       "      <td id=\"T_cdbad_row18_col3\" class=\"data row18 col3\" >0.96</td>\n",
       "      <td id=\"T_cdbad_row18_col4\" class=\"data row18 col4\" >1.02</td>\n",
       "    </tr>\n",
       "    <tr>\n",
       "      <th id=\"T_cdbad_level0_row19\" class=\"row_heading level0 row19\" >100</th>\n",
       "      <td id=\"T_cdbad_row19_col0\" class=\"data row19 col0\" >10</td>\n",
       "      <td id=\"T_cdbad_row19_col1\" class=\"data row19 col1\" >5</td>\n",
       "      <td id=\"T_cdbad_row19_col2\" class=\"data row19 col2\" >141</td>\n",
       "      <td id=\"T_cdbad_row19_col3\" class=\"data row19 col3\" >1.00</td>\n",
       "      <td id=\"T_cdbad_row19_col4\" class=\"data row19 col4\" >1.00</td>\n",
       "    </tr>\n",
       "  </tbody>\n",
       "</table>\n"
      ],
      "text/plain": [
       "<pandas.io.formats.style.Styler at 0x7fdfc89edfd0>"
      ]
     },
     "execution_count": 51,
     "metadata": {},
     "output_type": "execute_result"
    }
   ],
   "source": [
    "evaluator.calculate_lift_gain(return_style=True, include_all_info=True)"
   ]
  },
  {
   "cell_type": "code",
   "execution_count": 52,
   "id": "b9028e2f",
   "metadata": {
    "pycharm": {
     "name": "#%%\n"
    }
   },
   "outputs": [],
   "source": [
    "del predicted_scores"
   ]
  },
  {
   "cell_type": "markdown",
   "id": "6d5b72e3",
   "metadata": {},
   "source": [
    "# Feature Importance\n",
    "\n",
    "https://scikit-learn.org/stable/auto_examples/ensemble/plot_forest_importances.html"
   ]
  },
  {
   "cell_type": "code",
   "execution_count": 53,
   "id": "66a1cb40",
   "metadata": {},
   "outputs": [
    {
     "name": "stdout",
     "output_type": "stream",
     "text": [
      "Elapsed time to compute the importances: 4.504 seconds\n"
     ]
    }
   ],
   "source": [
    "from sklearn.inspection import permutation_importance\n",
    "import time\n",
    "\n",
    "estimator = full_pipeline\n",
    "\n",
    "start_time = time.time()\n",
    "result = permutation_importance(\n",
    "    estimator, X_train, y_train, n_repeats=10, random_state=42, n_jobs=2\n",
    ")\n",
    "elapsed_time = time.time() - start_time\n",
    "print(f\"Elapsed time to compute the importances: {elapsed_time:.3f} seconds\")\n",
    "\n",
    "feature_names = X_train.columns.to_list()\n",
    "forest_importances = pd.Series(result.importances_mean, index=feature_names)\n",
    "forest_importances = forest_importances.sort_values(ascending=False)"
   ]
  },
  {
   "cell_type": "code",
   "execution_count": 54,
   "id": "c04d3bcc",
   "metadata": {},
   "outputs": [
    {
     "data": {
      "image/png": "[encoded data removed]",
      "text/plain": [
       "<Figure size 648x432 with 1 Axes>"
      ]
     },
     "metadata": {
      "needs_background": "light"
     },
     "output_type": "display_data"
    }
   ],
   "source": [
    "import matplotlib.pyplot as plt\n",
    "fig, ax = plt.subplots()\n",
    "forest_importances.plot.bar(yerr=result.importances_std, ax=ax)\n",
    "ax.set_title(\"Feature importances using permutation on full model\")\n",
    "ax.set_ylabel(\"Mean accuracy decrease\")\n",
    "fig.set_size_inches(9, 6)\n",
    "fig.tight_layout()\n",
    "plt.show()"
   ]
  },
  {
   "cell_type": "code",
   "execution_count": null,
   "id": "44ea664d",
   "metadata": {},
   "outputs": [],
   "source": []
  }
 ],
 "metadata": {
  "kernelspec": {
   "display_name": "Python 3 (ipykernel)",
   "language": "python",
   "name": "python3"
  },
  "language_info": {
   "codemirror_mode": {
    "name": "ipython",
    "version": 3
   },
   "file_extension": ".py",
   "mimetype": "text/x-python",
   "name": "python",
   "nbconvert_exporter": "python",
   "pygments_lexer": "ipython3",
   "version": "3.9.6"
  },
  "toc": {
   "base_numbering": 1,
   "nav_menu": {},
   "number_sections": false,
   "sideBar": true,
   "skip_h1_title": false,
   "title_cell": "Table of Contents",
   "title_sidebar": "Contents",
   "toc_cell": false,
   "toc_position": {
    "height": "calc(100% - 180px)",
    "left": "10px",
    "top": "150px",
    "width": "298px"
   },
   "toc_section_display": true,
   "toc_window_display": true
  }
 },
 "nbformat": 4,
 "nbformat_minor": 5
}
