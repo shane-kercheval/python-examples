{
 "cells": [
  {
   "cell_type": "code",
   "execution_count": 2,
   "id": "c5f3fe51",
   "metadata": {},
   "outputs": [],
   "source": [
    "import pickle\n",
    "import helpsk as hlp\n",
    "import matplotlib.pyplot as plt\n",
    "import pandas as pd\n",
    "import numpy as np\n",
    "from sklearn.datasets import fetch_openml\n",
    "import seaborn as sns\n",
    "\n",
    "from sklearn.pipeline import Pipeline\n",
    "from sklearn.preprocessing import StandardScaler, MinMaxScaler, OneHotEncoder  # , LabelEncoder\n",
    "from sklearn.impute import SimpleImputer\n",
    "from sklearn.model_selection import train_test_split\n",
    "# from sklearn.base import BaseEstimator, TransformerMixin\n",
    "\n",
    "%matplotlib inline"
   ]
  },
  {
   "cell_type": "markdown",
   "id": "8ff88fe0",
   "metadata": {},
   "source": [
    "# Load Data"
   ]
  },
  {
   "cell_type": "code",
   "execution_count": 3,
   "id": "fc98b023",
   "metadata": {},
   "outputs": [
    {
     "data": {
      "text/plain": [
       "{'max_features': 0.001062755754765592,\n",
       " 'n_estimators': 4201,\n",
       " 'encoder': 'CustomOrdinalEncoder()',\n",
       " 'imputer': 'SimpleImputer()',\n",
       " 'scaler': 'StandardScaler()'}"
      ]
     },
     "execution_count": 3,
     "metadata": {},
     "output_type": "execute_result"
    }
   ],
   "source": [
    "parser = hlp.sklearn_eval.SearchCVParser.from_yaml_file(yaml_file_name = 'Run 1 - Random Forest - BayesSearchCV.yaml')\n",
    "parser.best_primary_score_params"
   ]
  },
  {
   "cell_type": "code",
   "execution_count": 4,
   "id": "7511e37e",
   "metadata": {},
   "outputs": [
    {
     "name": "stdout",
     "output_type": "stream",
     "text": [
      "(800, 20)\n",
      "800\n",
      "(200, 20)\n",
      "200\n"
     ]
    }
   ],
   "source": [
    "with open('../X_train.pkl', 'rb') as handle:\n",
    "    X_train = pickle.load(handle)\n",
    "    print(X_train.shape)\n",
    "\n",
    "with open('../y_train.pkl', 'rb') as handle:\n",
    "    y_train = pickle.load(handle)\n",
    "    print(len(y_train))\n",
    "\n",
    "with open('../X_test.pkl', 'rb') as handle:\n",
    "    X_test = pickle.load(handle)\n",
    "    print(X_test.shape)\n",
    "\n",
    "with open('../y_test.pkl', 'rb') as handle:\n",
    "    y_test = pickle.load(handle)\n",
    "    print(len(y_test))"
   ]
  },
  {
   "cell_type": "code",
   "execution_count": 5,
   "id": "1e782cdf",
   "metadata": {},
   "outputs": [
    {
     "data": {
      "text/html": [
       "<div>\n",
       "<style scoped>\n",
       "    .dataframe tbody tr th:only-of-type {\n",
       "        vertical-align: middle;\n",
       "    }\n",
       "\n",
       "    .dataframe tbody tr th {\n",
       "        vertical-align: top;\n",
       "    }\n",
       "\n",
       "    .dataframe thead th {\n",
       "        text-align: right;\n",
       "    }\n",
       "</style>\n",
       "<table border=\"1\" class=\"dataframe\">\n",
       "  <thead>\n",
       "    <tr style=\"text-align: right;\">\n",
       "      <th></th>\n",
       "      <th>checking_status</th>\n",
       "      <th>duration</th>\n",
       "      <th>credit_history</th>\n",
       "      <th>purpose</th>\n",
       "      <th>credit_amount</th>\n",
       "      <th>savings_status</th>\n",
       "      <th>employment</th>\n",
       "      <th>installment_commitment</th>\n",
       "      <th>personal_status</th>\n",
       "      <th>other_parties</th>\n",
       "      <th>residence_since</th>\n",
       "      <th>property_magnitude</th>\n",
       "      <th>age</th>\n",
       "      <th>other_payment_plans</th>\n",
       "      <th>housing</th>\n",
       "      <th>existing_credits</th>\n",
       "      <th>job</th>\n",
       "      <th>num_dependents</th>\n",
       "      <th>own_telephone</th>\n",
       "      <th>foreign_worker</th>\n",
       "    </tr>\n",
       "  </thead>\n",
       "  <tbody>\n",
       "    <tr>\n",
       "      <th>29</th>\n",
       "      <td>NaN</td>\n",
       "      <td>NaN</td>\n",
       "      <td>delayed previously</td>\n",
       "      <td>business</td>\n",
       "      <td>0.0</td>\n",
       "      <td>&lt;100</td>\n",
       "      <td>&gt;=7</td>\n",
       "      <td>3.0</td>\n",
       "      <td>male single</td>\n",
       "      <td>none</td>\n",
       "      <td>4.0</td>\n",
       "      <td>no known property</td>\n",
       "      <td>63.0</td>\n",
       "      <td>none</td>\n",
       "      <td>own</td>\n",
       "      <td>2.0</td>\n",
       "      <td>skilled</td>\n",
       "      <td>1.0</td>\n",
       "      <td>yes</td>\n",
       "      <td>yes</td>\n",
       "    </tr>\n",
       "    <tr>\n",
       "      <th>535</th>\n",
       "      <td>&gt;=200</td>\n",
       "      <td>21.0</td>\n",
       "      <td>critical/other existing credit</td>\n",
       "      <td>education</td>\n",
       "      <td>2319.0</td>\n",
       "      <td>&lt;100</td>\n",
       "      <td>&lt;1</td>\n",
       "      <td>2.0</td>\n",
       "      <td>male div/sep</td>\n",
       "      <td>none</td>\n",
       "      <td>1.0</td>\n",
       "      <td>car</td>\n",
       "      <td>33.0</td>\n",
       "      <td>none</td>\n",
       "      <td>rent</td>\n",
       "      <td>1.0</td>\n",
       "      <td>skilled</td>\n",
       "      <td>1.0</td>\n",
       "      <td>none</td>\n",
       "      <td>yes</td>\n",
       "    </tr>\n",
       "    <tr>\n",
       "      <th>695</th>\n",
       "      <td>no checking</td>\n",
       "      <td>6.0</td>\n",
       "      <td>existing paid</td>\n",
       "      <td>used car</td>\n",
       "      <td>1236.0</td>\n",
       "      <td>500&lt;=X&lt;1000</td>\n",
       "      <td>1&lt;=X&lt;4</td>\n",
       "      <td>2.0</td>\n",
       "      <td>male single</td>\n",
       "      <td>none</td>\n",
       "      <td>4.0</td>\n",
       "      <td>life insurance</td>\n",
       "      <td>50.0</td>\n",
       "      <td>none</td>\n",
       "      <td>rent</td>\n",
       "      <td>1.0</td>\n",
       "      <td>skilled</td>\n",
       "      <td>1.0</td>\n",
       "      <td>none</td>\n",
       "      <td>yes</td>\n",
       "    </tr>\n",
       "    <tr>\n",
       "      <th>557</th>\n",
       "      <td>no checking</td>\n",
       "      <td>21.0</td>\n",
       "      <td>no credits/all paid</td>\n",
       "      <td>new car</td>\n",
       "      <td>5003.0</td>\n",
       "      <td>no known savings</td>\n",
       "      <td>1&lt;=X&lt;4</td>\n",
       "      <td>1.0</td>\n",
       "      <td>female div/dep/mar</td>\n",
       "      <td>none</td>\n",
       "      <td>4.0</td>\n",
       "      <td>life insurance</td>\n",
       "      <td>29.0</td>\n",
       "      <td>bank</td>\n",
       "      <td>own</td>\n",
       "      <td>2.0</td>\n",
       "      <td>skilled</td>\n",
       "      <td>1.0</td>\n",
       "      <td>yes</td>\n",
       "      <td>yes</td>\n",
       "    </tr>\n",
       "    <tr>\n",
       "      <th>836</th>\n",
       "      <td>no checking</td>\n",
       "      <td>12.0</td>\n",
       "      <td>existing paid</td>\n",
       "      <td>radio/tv</td>\n",
       "      <td>886.0</td>\n",
       "      <td>no known savings</td>\n",
       "      <td>1&lt;=X&lt;4</td>\n",
       "      <td>4.0</td>\n",
       "      <td>female div/dep/mar</td>\n",
       "      <td>none</td>\n",
       "      <td>2.0</td>\n",
       "      <td>car</td>\n",
       "      <td>21.0</td>\n",
       "      <td>none</td>\n",
       "      <td>own</td>\n",
       "      <td>1.0</td>\n",
       "      <td>skilled</td>\n",
       "      <td>1.0</td>\n",
       "      <td>none</td>\n",
       "      <td>yes</td>\n",
       "    </tr>\n",
       "  </tbody>\n",
       "</table>\n",
       "</div>"
      ],
      "text/plain": [
       "    checking_status  duration                  credit_history    purpose  \\\n",
       "29              NaN       NaN              delayed previously   business   \n",
       "535           >=200      21.0  critical/other existing credit  education   \n",
       "695     no checking       6.0                   existing paid   used car   \n",
       "557     no checking      21.0             no credits/all paid    new car   \n",
       "836     no checking      12.0                   existing paid   radio/tv   \n",
       "\n",
       "     credit_amount    savings_status employment  installment_commitment  \\\n",
       "29             0.0              <100        >=7                     3.0   \n",
       "535         2319.0              <100         <1                     2.0   \n",
       "695         1236.0       500<=X<1000     1<=X<4                     2.0   \n",
       "557         5003.0  no known savings     1<=X<4                     1.0   \n",
       "836          886.0  no known savings     1<=X<4                     4.0   \n",
       "\n",
       "        personal_status other_parties  residence_since property_magnitude  \\\n",
       "29          male single          none              4.0  no known property   \n",
       "535        male div/sep          none              1.0                car   \n",
       "695         male single          none              4.0     life insurance   \n",
       "557  female div/dep/mar          none              4.0     life insurance   \n",
       "836  female div/dep/mar          none              2.0                car   \n",
       "\n",
       "      age other_payment_plans housing  existing_credits      job  \\\n",
       "29   63.0                none     own               2.0  skilled   \n",
       "535  33.0                none    rent               1.0  skilled   \n",
       "695  50.0                none    rent               1.0  skilled   \n",
       "557  29.0                bank     own               2.0  skilled   \n",
       "836  21.0                none     own               1.0  skilled   \n",
       "\n",
       "     num_dependents own_telephone foreign_worker  \n",
       "29              1.0           yes            yes  \n",
       "535             1.0          none            yes  \n",
       "695             1.0          none            yes  \n",
       "557             1.0           yes            yes  \n",
       "836             1.0          none            yes  "
      ]
     },
     "execution_count": 5,
     "metadata": {},
     "output_type": "execute_result"
    }
   ],
   "source": [
    "X_train.head()"
   ]
  },
  {
   "cell_type": "code",
   "execution_count": 6,
   "id": "a9795b35",
   "metadata": {},
   "outputs": [
    {
     "data": {
      "text/plain": [
       "array([0, 0, 1, 0, 1, 0, 1, 0, 0, 1])"
      ]
     },
     "execution_count": 6,
     "metadata": {},
     "output_type": "execute_result"
    }
   ],
   "source": [
    "y_train[0:10]"
   ]
  },
  {
   "cell_type": "code",
   "execution_count": 7,
   "id": "4d20507c",
   "metadata": {},
   "outputs": [
    {
     "data": {
      "text/html": [
       "<div>\n",
       "<style scoped>\n",
       "    .dataframe tbody tr th:only-of-type {\n",
       "        vertical-align: middle;\n",
       "    }\n",
       "\n",
       "    .dataframe tbody tr th {\n",
       "        vertical-align: top;\n",
       "    }\n",
       "\n",
       "    .dataframe thead th {\n",
       "        text-align: right;\n",
       "    }\n",
       "</style>\n",
       "<table border=\"1\" class=\"dataframe\">\n",
       "  <thead>\n",
       "    <tr style=\"text-align: right;\">\n",
       "      <th></th>\n",
       "      <th>checking_status</th>\n",
       "      <th>duration</th>\n",
       "      <th>credit_history</th>\n",
       "      <th>purpose</th>\n",
       "      <th>credit_amount</th>\n",
       "      <th>savings_status</th>\n",
       "      <th>employment</th>\n",
       "      <th>installment_commitment</th>\n",
       "      <th>personal_status</th>\n",
       "      <th>other_parties</th>\n",
       "      <th>residence_since</th>\n",
       "      <th>property_magnitude</th>\n",
       "      <th>age</th>\n",
       "      <th>other_payment_plans</th>\n",
       "      <th>housing</th>\n",
       "      <th>existing_credits</th>\n",
       "      <th>job</th>\n",
       "      <th>num_dependents</th>\n",
       "      <th>own_telephone</th>\n",
       "      <th>foreign_worker</th>\n",
       "    </tr>\n",
       "  </thead>\n",
       "  <tbody>\n",
       "    <tr>\n",
       "      <th>521</th>\n",
       "      <td>&lt;0</td>\n",
       "      <td>18.0</td>\n",
       "      <td>existing paid</td>\n",
       "      <td>radio/tv</td>\n",
       "      <td>3190.0</td>\n",
       "      <td>&lt;100</td>\n",
       "      <td>1&lt;=X&lt;4</td>\n",
       "      <td>2.0</td>\n",
       "      <td>female div/dep/mar</td>\n",
       "      <td>none</td>\n",
       "      <td>2.0</td>\n",
       "      <td>real estate</td>\n",
       "      <td>24.0</td>\n",
       "      <td>none</td>\n",
       "      <td>own</td>\n",
       "      <td>1.0</td>\n",
       "      <td>skilled</td>\n",
       "      <td>1.0</td>\n",
       "      <td>none</td>\n",
       "      <td>yes</td>\n",
       "    </tr>\n",
       "    <tr>\n",
       "      <th>737</th>\n",
       "      <td>&lt;0</td>\n",
       "      <td>18.0</td>\n",
       "      <td>existing paid</td>\n",
       "      <td>new car</td>\n",
       "      <td>4380.0</td>\n",
       "      <td>100&lt;=X&lt;500</td>\n",
       "      <td>1&lt;=X&lt;4</td>\n",
       "      <td>3.0</td>\n",
       "      <td>male single</td>\n",
       "      <td>none</td>\n",
       "      <td>4.0</td>\n",
       "      <td>car</td>\n",
       "      <td>35.0</td>\n",
       "      <td>none</td>\n",
       "      <td>own</td>\n",
       "      <td>1.0</td>\n",
       "      <td>unskilled resident</td>\n",
       "      <td>2.0</td>\n",
       "      <td>yes</td>\n",
       "      <td>yes</td>\n",
       "    </tr>\n",
       "    <tr>\n",
       "      <th>740</th>\n",
       "      <td>&lt;0</td>\n",
       "      <td>24.0</td>\n",
       "      <td>all paid</td>\n",
       "      <td>new car</td>\n",
       "      <td>2325.0</td>\n",
       "      <td>100&lt;=X&lt;500</td>\n",
       "      <td>4&lt;=X&lt;7</td>\n",
       "      <td>2.0</td>\n",
       "      <td>male single</td>\n",
       "      <td>none</td>\n",
       "      <td>3.0</td>\n",
       "      <td>car</td>\n",
       "      <td>32.0</td>\n",
       "      <td>bank</td>\n",
       "      <td>own</td>\n",
       "      <td>1.0</td>\n",
       "      <td>skilled</td>\n",
       "      <td>1.0</td>\n",
       "      <td>none</td>\n",
       "      <td>yes</td>\n",
       "    </tr>\n",
       "    <tr>\n",
       "      <th>660</th>\n",
       "      <td>&gt;=200</td>\n",
       "      <td>12.0</td>\n",
       "      <td>existing paid</td>\n",
       "      <td>radio/tv</td>\n",
       "      <td>1297.0</td>\n",
       "      <td>&lt;100</td>\n",
       "      <td>1&lt;=X&lt;4</td>\n",
       "      <td>3.0</td>\n",
       "      <td>male mar/wid</td>\n",
       "      <td>none</td>\n",
       "      <td>4.0</td>\n",
       "      <td>real estate</td>\n",
       "      <td>23.0</td>\n",
       "      <td>none</td>\n",
       "      <td>rent</td>\n",
       "      <td>1.0</td>\n",
       "      <td>skilled</td>\n",
       "      <td>1.0</td>\n",
       "      <td>none</td>\n",
       "      <td>yes</td>\n",
       "    </tr>\n",
       "    <tr>\n",
       "      <th>411</th>\n",
       "      <td>no checking</td>\n",
       "      <td>33.0</td>\n",
       "      <td>critical/other existing credit</td>\n",
       "      <td>used car</td>\n",
       "      <td>7253.0</td>\n",
       "      <td>&lt;100</td>\n",
       "      <td>4&lt;=X&lt;7</td>\n",
       "      <td>3.0</td>\n",
       "      <td>male single</td>\n",
       "      <td>none</td>\n",
       "      <td>2.0</td>\n",
       "      <td>car</td>\n",
       "      <td>35.0</td>\n",
       "      <td>none</td>\n",
       "      <td>own</td>\n",
       "      <td>2.0</td>\n",
       "      <td>high qualif/self emp/mgmt</td>\n",
       "      <td>1.0</td>\n",
       "      <td>yes</td>\n",
       "      <td>yes</td>\n",
       "    </tr>\n",
       "  </tbody>\n",
       "</table>\n",
       "</div>"
      ],
      "text/plain": [
       "    checking_status  duration                  credit_history   purpose  \\\n",
       "521              <0      18.0                   existing paid  radio/tv   \n",
       "737              <0      18.0                   existing paid   new car   \n",
       "740              <0      24.0                        all paid   new car   \n",
       "660           >=200      12.0                   existing paid  radio/tv   \n",
       "411     no checking      33.0  critical/other existing credit  used car   \n",
       "\n",
       "     credit_amount savings_status employment  installment_commitment  \\\n",
       "521         3190.0           <100     1<=X<4                     2.0   \n",
       "737         4380.0     100<=X<500     1<=X<4                     3.0   \n",
       "740         2325.0     100<=X<500     4<=X<7                     2.0   \n",
       "660         1297.0           <100     1<=X<4                     3.0   \n",
       "411         7253.0           <100     4<=X<7                     3.0   \n",
       "\n",
       "        personal_status other_parties  residence_since property_magnitude  \\\n",
       "521  female div/dep/mar          none              2.0        real estate   \n",
       "737         male single          none              4.0                car   \n",
       "740         male single          none              3.0                car   \n",
       "660        male mar/wid          none              4.0        real estate   \n",
       "411         male single          none              2.0                car   \n",
       "\n",
       "      age other_payment_plans housing  existing_credits  \\\n",
       "521  24.0                none     own               1.0   \n",
       "737  35.0                none     own               1.0   \n",
       "740  32.0                bank     own               1.0   \n",
       "660  23.0                none    rent               1.0   \n",
       "411  35.0                none     own               2.0   \n",
       "\n",
       "                           job  num_dependents own_telephone foreign_worker  \n",
       "521                    skilled             1.0          none            yes  \n",
       "737         unskilled resident             2.0           yes            yes  \n",
       "740                    skilled             1.0          none            yes  \n",
       "660                    skilled             1.0          none            yes  \n",
       "411  high qualif/self emp/mgmt             1.0           yes            yes  "
      ]
     },
     "execution_count": 7,
     "metadata": {},
     "output_type": "execute_result"
    }
   ],
   "source": [
    "X_test.head()"
   ]
  },
  {
   "cell_type": "code",
   "execution_count": 8,
   "id": "c066c30a",
   "metadata": {},
   "outputs": [
    {
     "data": {
      "text/plain": [
       "array([0, 1, 1, 1, 1, 1, 1, 1, 1, 1])"
      ]
     },
     "execution_count": 8,
     "metadata": {},
     "output_type": "execute_result"
    }
   ],
   "source": [
    "y_test[0:10]"
   ]
  },
  {
   "cell_type": "markdown",
   "id": "1ca1d63a",
   "metadata": {},
   "source": [
    "# Training and Test Data"
   ]
  },
  {
   "cell_type": "code",
   "execution_count": 9,
   "id": "86f44647",
   "metadata": {},
   "outputs": [
    {
     "data": {
      "text/plain": [
       "array([0, 0, 1, 0, 1, 0, 1, 0, 0, 1])"
      ]
     },
     "execution_count": 9,
     "metadata": {},
     "output_type": "execute_result"
    }
   ],
   "source": [
    "y_train[0:10]"
   ]
  },
  {
   "cell_type": "code",
   "execution_count": 10,
   "id": "742c6bf1",
   "metadata": {},
   "outputs": [
    {
     "name": "stdout",
     "output_type": "stream",
     "text": [
      "['duration', 'credit_amount', 'installment_commitment', 'residence_since', 'age', 'existing_credits', 'num_dependents']\n",
      "['checking_status', 'credit_history', 'purpose', 'savings_status', 'employment', 'personal_status', 'other_parties', 'property_magnitude', 'other_payment_plans', 'housing', 'job', 'own_telephone', 'foreign_worker']\n"
     ]
    }
   ],
   "source": [
    "numeric_columns = hlp.pandas.get_numeric_columns(X_train)\n",
    "non_numeric_columns = hlp.pandas.get_non_numeric_columns(X_train)\n",
    "print(numeric_columns)\n",
    "print(non_numeric_columns)"
   ]
  },
  {
   "cell_type": "code",
   "execution_count": 11,
   "id": "ce3d4969",
   "metadata": {},
   "outputs": [
    {
     "data": {
      "text/plain": [
       "{'max_features': 0.001062755754765592,\n",
       " 'n_estimators': 4201,\n",
       " 'encoder': 'CustomOrdinalEncoder()',\n",
       " 'imputer': 'SimpleImputer()',\n",
       " 'scaler': 'StandardScaler()'}"
      ]
     },
     "execution_count": 11,
     "metadata": {},
     "output_type": "execute_result"
    }
   ],
   "source": [
    "parser.best_primary_score_params"
   ]
  },
  {
   "cell_type": "code",
   "execution_count": 12,
   "id": "740dc372",
   "metadata": {},
   "outputs": [],
   "source": [
    "numeric_pipeline = Pipeline([\n",
    "    ('imputer', SimpleImputer(strategy='mean')),\n",
    "    ('scaler', StandardScaler()),\n",
    "])"
   ]
  },
  {
   "cell_type": "code",
   "execution_count": 13,
   "id": "4ed41bd2",
   "metadata": {},
   "outputs": [],
   "source": [
    "non_numeric_pipeline = Pipeline([\n",
    "    ('encoder', hlp.sklearn_pipeline.CustomOrdinalEncoder()),\n",
    "])"
   ]
  },
  {
   "cell_type": "code",
   "execution_count": 14,
   "id": "8f7f94d0",
   "metadata": {},
   "outputs": [],
   "source": [
    "from sklearn.compose import ColumnTransformer\n",
    "transformations_pipeline = ColumnTransformer([\n",
    "    ('numeric', numeric_pipeline, numeric_columns),\n",
    "    ('non_numeric', non_numeric_pipeline, non_numeric_columns)\n",
    "])"
   ]
  },
  {
   "cell_type": "markdown",
   "id": "c215d60a",
   "metadata": {},
   "source": [
    "# Model"
   ]
  },
  {
   "cell_type": "code",
   "execution_count": 15,
   "id": "3b3ddb87",
   "metadata": {},
   "outputs": [],
   "source": [
    "from sklearn.ensemble import RandomForestClassifier\n",
    "random_forest_model = RandomForestClassifier(\n",
    "    max_features=0.01,\n",
    "    n_estimators=2500,\n",
    "    random_state=42,\n",
    ")"
   ]
  },
  {
   "cell_type": "code",
   "execution_count": 16,
   "id": "d6a81445",
   "metadata": {},
   "outputs": [],
   "source": [
    "full_pipeline = Pipeline([\n",
    "    ('prep', transformations_pipeline),\n",
    "    ('model', random_forest_model)\n",
    "])"
   ]
  },
  {
   "cell_type": "code",
   "execution_count": 17,
   "id": "936a9d3f",
   "metadata": {
    "scrolled": true
   },
   "outputs": [
    {
     "data": {
      "text/plain": [
       "{'prep': ColumnTransformer(transformers=[('numeric',\n",
       "                                  Pipeline(steps=[('imputer', SimpleImputer()),\n",
       "                                                  ('scaler', StandardScaler())]),\n",
       "                                  ['duration', 'credit_amount',\n",
       "                                   'installment_commitment', 'residence_since',\n",
       "                                   'age', 'existing_credits',\n",
       "                                   'num_dependents']),\n",
       "                                 ('non_numeric',\n",
       "                                  Pipeline(steps=[('encoder',\n",
       "                                                   CustomOrdinalEncoder())]),\n",
       "                                  ['checking_status', 'credit_history',\n",
       "                                   'purpose', 'savings_status', 'employment',\n",
       "                                   'personal_status', 'other_parties',\n",
       "                                   'property_magnitude', 'other_payment_plans',\n",
       "                                   'housing', 'job', 'own_telephone',\n",
       "                                   'foreign_worker'])]),\n",
       " 'model': RandomForestClassifier(max_features=0.01, n_estimators=2500, random_state=42)}"
      ]
     },
     "execution_count": 17,
     "metadata": {},
     "output_type": "execute_result"
    }
   ],
   "source": [
    "# Show the levels of pipelines/transformers/model\n",
    "full_pipeline.named_steps"
   ]
  },
  {
   "cell_type": "code",
   "execution_count": 18,
   "id": "e1e4704a",
   "metadata": {},
   "outputs": [],
   "source": [
    "fitted_pipeline = full_pipeline.fit(X_train, y_train)"
   ]
  },
  {
   "cell_type": "code",
   "execution_count": 19,
   "id": "1870f6d1",
   "metadata": {},
   "outputs": [
    {
     "data": {
      "text/plain": [
       "array([1, 1, 0, 1, 1, 1, 1, 1, 1, 1, 1, 1, 1, 0, 0, 1, 1, 1, 0, 1, 1, 1,\n",
       "       1, 1, 1, 1, 0, 1, 1, 1, 1, 1, 1, 1, 1, 1, 1, 1, 1, 1, 1, 1, 1, 1,\n",
       "       1, 1, 1, 1, 1, 1, 0, 1, 1, 1, 1, 1, 1, 0, 0, 1, 1, 1, 1, 1, 1, 1,\n",
       "       1, 1, 1, 1, 1, 1, 1, 1, 1, 1, 1, 1, 1, 1, 1, 1, 1, 1, 1, 1, 0, 0,\n",
       "       1, 1, 1, 1, 0, 1, 1, 1, 1, 1, 0, 1, 1, 1, 1, 1, 1, 1, 1, 1, 1, 1,\n",
       "       0, 1, 1, 1, 1, 1, 1, 1, 1, 1, 1, 1, 1, 1, 1, 1, 1, 1, 1, 1, 1, 1,\n",
       "       1, 1, 1, 1, 1, 1, 1, 1, 1, 1, 1, 1, 1, 1, 1, 1, 1, 1, 1, 1, 1, 1,\n",
       "       1, 1, 1, 1, 1, 1, 1, 1, 1, 0, 1, 1, 1, 1, 1, 1, 1, 1, 1, 1, 1, 1,\n",
       "       1, 1, 1, 1, 1, 1, 1, 1, 1, 1, 1, 1, 1, 1, 1, 1, 0, 1, 1, 1, 0, 0,\n",
       "       0, 1])"
      ]
     },
     "execution_count": 19,
     "metadata": {},
     "output_type": "execute_result"
    }
   ],
   "source": [
    "fitted_pipeline.predict(X_test)"
   ]
  },
  {
   "cell_type": "code",
   "execution_count": 20,
   "id": "e72b7ef0",
   "metadata": {},
   "outputs": [
    {
     "data": {
      "text/plain": [
       "array([[0.4368, 0.5632],\n",
       "       [0.356 , 0.644 ],\n",
       "       [0.6244, 0.3756],\n",
       "       [0.3364, 0.6636],\n",
       "       [0.144 , 0.856 ],\n",
       "       [0.3376, 0.6624],\n",
       "       [0.1008, 0.8992],\n",
       "       [0.4152, 0.5848],\n",
       "       [0.1152, 0.8848],\n",
       "       [0.202 , 0.798 ],\n",
       "       [0.186 , 0.814 ],\n",
       "       [0.4276, 0.5724],\n",
       "       [0.2112, 0.7888],\n",
       "       [0.576 , 0.424 ],\n",
       "       [0.7116, 0.2884],\n",
       "       [0.3456, 0.6544],\n",
       "       [0.2016, 0.7984],\n",
       "       [0.1648, 0.8352],\n",
       "       [0.5212, 0.4788],\n",
       "       [0.3028, 0.6972],\n",
       "       [0.2784, 0.7216],\n",
       "       [0.2604, 0.7396],\n",
       "       [0.1244, 0.8756],\n",
       "       [0.0248, 0.9752],\n",
       "       [0.0616, 0.9384],\n",
       "       [0.4112, 0.5888],\n",
       "       [0.538 , 0.462 ],\n",
       "       [0.4092, 0.5908],\n",
       "       [0.2784, 0.7216],\n",
       "       [0.196 , 0.804 ],\n",
       "       [0.324 , 0.676 ],\n",
       "       [0.214 , 0.786 ],\n",
       "       [0.3704, 0.6296],\n",
       "       [0.2652, 0.7348],\n",
       "       [0.2172, 0.7828],\n",
       "       [0.2748, 0.7252],\n",
       "       [0.4956, 0.5044],\n",
       "       [0.228 , 0.772 ],\n",
       "       [0.1104, 0.8896],\n",
       "       [0.4852, 0.5148],\n",
       "       [0.2936, 0.7064],\n",
       "       [0.2064, 0.7936],\n",
       "       [0.3368, 0.6632],\n",
       "       [0.2052, 0.7948],\n",
       "       [0.142 , 0.858 ],\n",
       "       [0.266 , 0.734 ],\n",
       "       [0.4376, 0.5624],\n",
       "       [0.3704, 0.6296],\n",
       "       [0.3052, 0.6948],\n",
       "       [0.24  , 0.76  ],\n",
       "       [0.5612, 0.4388],\n",
       "       [0.1368, 0.8632],\n",
       "       [0.2964, 0.7036],\n",
       "       [0.4976, 0.5024],\n",
       "       [0.2564, 0.7436],\n",
       "       [0.2596, 0.7404],\n",
       "       [0.0928, 0.9072],\n",
       "       [0.526 , 0.474 ],\n",
       "       [0.528 , 0.472 ],\n",
       "       [0.1848, 0.8152],\n",
       "       [0.234 , 0.766 ],\n",
       "       [0.396 , 0.604 ],\n",
       "       [0.368 , 0.632 ],\n",
       "       [0.084 , 0.916 ],\n",
       "       [0.3896, 0.6104],\n",
       "       [0.3124, 0.6876],\n",
       "       [0.1412, 0.8588],\n",
       "       [0.4004, 0.5996],\n",
       "       [0.392 , 0.608 ],\n",
       "       [0.2144, 0.7856],\n",
       "       [0.4296, 0.5704],\n",
       "       [0.1452, 0.8548],\n",
       "       [0.238 , 0.762 ],\n",
       "       [0.334 , 0.666 ],\n",
       "       [0.3944, 0.6056],\n",
       "       [0.3308, 0.6692],\n",
       "       [0.2652, 0.7348],\n",
       "       [0.3188, 0.6812],\n",
       "       [0.3156, 0.6844],\n",
       "       [0.366 , 0.634 ],\n",
       "       [0.2468, 0.7532],\n",
       "       [0.2364, 0.7636],\n",
       "       [0.0752, 0.9248],\n",
       "       [0.32  , 0.68  ],\n",
       "       [0.1952, 0.8048],\n",
       "       [0.4348, 0.5652],\n",
       "       [0.5492, 0.4508],\n",
       "       [0.6308, 0.3692],\n",
       "       [0.2308, 0.7692],\n",
       "       [0.1528, 0.8472],\n",
       "       [0.4764, 0.5236],\n",
       "       [0.106 , 0.894 ],\n",
       "       [0.7752, 0.2248],\n",
       "       [0.4456, 0.5544],\n",
       "       [0.0956, 0.9044],\n",
       "       [0.1932, 0.8068],\n",
       "       [0.1528, 0.8472],\n",
       "       [0.3012, 0.6988],\n",
       "       [0.6524, 0.3476],\n",
       "       [0.3516, 0.6484],\n",
       "       [0.0784, 0.9216],\n",
       "       [0.2852, 0.7148],\n",
       "       [0.182 , 0.818 ],\n",
       "       [0.1376, 0.8624],\n",
       "       [0.1772, 0.8228],\n",
       "       [0.2384, 0.7616],\n",
       "       [0.3404, 0.6596],\n",
       "       [0.4248, 0.5752],\n",
       "       [0.2856, 0.7144],\n",
       "       [0.454 , 0.546 ],\n",
       "       [0.5432, 0.4568],\n",
       "       [0.1772, 0.8228],\n",
       "       [0.4404, 0.5596],\n",
       "       [0.1524, 0.8476],\n",
       "       [0.2868, 0.7132],\n",
       "       [0.2752, 0.7248],\n",
       "       [0.3908, 0.6092],\n",
       "       [0.2516, 0.7484],\n",
       "       [0.1144, 0.8856],\n",
       "       [0.3952, 0.6048],\n",
       "       [0.3544, 0.6456],\n",
       "       [0.402 , 0.598 ],\n",
       "       [0.2828, 0.7172],\n",
       "       [0.23  , 0.77  ],\n",
       "       [0.458 , 0.542 ],\n",
       "       [0.24  , 0.76  ],\n",
       "       [0.416 , 0.584 ],\n",
       "       [0.1864, 0.8136],\n",
       "       [0.14  , 0.86  ],\n",
       "       [0.4364, 0.5636],\n",
       "       [0.2104, 0.7896],\n",
       "       [0.188 , 0.812 ],\n",
       "       [0.2948, 0.7052],\n",
       "       [0.2904, 0.7096],\n",
       "       [0.228 , 0.772 ],\n",
       "       [0.2228, 0.7772],\n",
       "       [0.4296, 0.5704],\n",
       "       [0.1472, 0.8528],\n",
       "       [0.2384, 0.7616],\n",
       "       [0.3472, 0.6528],\n",
       "       [0.296 , 0.704 ],\n",
       "       [0.3128, 0.6872],\n",
       "       [0.4864, 0.5136],\n",
       "       [0.1348, 0.8652],\n",
       "       [0.3332, 0.6668],\n",
       "       [0.4356, 0.5644],\n",
       "       [0.3368, 0.6632],\n",
       "       [0.2452, 0.7548],\n",
       "       [0.474 , 0.526 ],\n",
       "       [0.4504, 0.5496],\n",
       "       [0.1392, 0.8608],\n",
       "       [0.34  , 0.66  ],\n",
       "       [0.198 , 0.802 ],\n",
       "       [0.3464, 0.6536],\n",
       "       [0.0712, 0.9288],\n",
       "       [0.4032, 0.5968],\n",
       "       [0.3692, 0.6308],\n",
       "       [0.254 , 0.746 ],\n",
       "       [0.2432, 0.7568],\n",
       "       [0.3576, 0.6424],\n",
       "       [0.3892, 0.6108],\n",
       "       [0.1692, 0.8308],\n",
       "       [0.462 , 0.538 ],\n",
       "       [0.5732, 0.4268],\n",
       "       [0.4436, 0.5564],\n",
       "       [0.3224, 0.6776],\n",
       "       [0.1152, 0.8848],\n",
       "       [0.1996, 0.8004],\n",
       "       [0.0964, 0.9036],\n",
       "       [0.4036, 0.5964],\n",
       "       [0.1236, 0.8764],\n",
       "       [0.2504, 0.7496],\n",
       "       [0.402 , 0.598 ],\n",
       "       [0.312 , 0.688 ],\n",
       "       [0.0936, 0.9064],\n",
       "       [0.274 , 0.726 ],\n",
       "       [0.4056, 0.5944],\n",
       "       [0.142 , 0.858 ],\n",
       "       [0.3948, 0.6052],\n",
       "       [0.496 , 0.504 ],\n",
       "       [0.1056, 0.8944],\n",
       "       [0.2016, 0.7984],\n",
       "       [0.1716, 0.8284],\n",
       "       [0.3192, 0.6808],\n",
       "       [0.2064, 0.7936],\n",
       "       [0.1628, 0.8372],\n",
       "       [0.4068, 0.5932],\n",
       "       [0.1292, 0.8708],\n",
       "       [0.16  , 0.84  ],\n",
       "       [0.1276, 0.8724],\n",
       "       [0.1892, 0.8108],\n",
       "       [0.4704, 0.5296],\n",
       "       [0.5752, 0.4248],\n",
       "       [0.4036, 0.5964],\n",
       "       [0.29  , 0.71  ],\n",
       "       [0.194 , 0.806 ],\n",
       "       [0.6112, 0.3888],\n",
       "       [0.5072, 0.4928],\n",
       "       [0.5192, 0.4808],\n",
       "       [0.3184, 0.6816]])"
      ]
     },
     "execution_count": 20,
     "metadata": {},
     "output_type": "execute_result"
    }
   ],
   "source": [
    "fitted_pipeline.predict_proba(X_test)"
   ]
  },
  {
   "cell_type": "code",
   "execution_count": 21,
   "id": "0b623c32",
   "metadata": {},
   "outputs": [
    {
     "data": {
      "text/plain": [
       "array([0, 1, 1, 1, 1, 1, 1, 1, 1, 1, 1, 0, 1, 0, 0, 0, 1, 1, 0, 1, 1, 0,\n",
       "       1, 1, 1, 0, 1, 1, 1, 1, 1, 1, 0, 1, 1, 1, 1, 1, 1, 0, 1, 1, 1, 1,\n",
       "       1, 1, 0, 0, 0, 1, 0, 1, 1, 0, 1, 1, 1, 0, 1, 1, 1, 0, 0, 1, 1, 1,\n",
       "       1, 1, 1, 0, 1, 1, 1, 1, 1, 0, 0, 1, 0, 0, 1, 1, 1, 1, 1, 0, 0, 0,\n",
       "       1, 1, 1, 1, 0, 1, 1, 1, 1, 1, 0, 0, 1, 0, 0, 1, 1, 1, 1, 1, 1, 0,\n",
       "       0, 1, 1, 1, 1, 1, 0, 0, 1, 1, 1, 1, 1, 1, 0, 0, 0, 1, 1, 1, 1, 0,\n",
       "       0, 1, 1, 1, 0, 1, 1, 1, 0, 1, 0, 1, 1, 0, 1, 1, 0, 0, 1, 1, 1, 0,\n",
       "       1, 1, 1, 1, 1, 0, 0, 1, 0, 1, 1, 0, 1, 1, 1, 1, 1, 1, 1, 1, 1, 1,\n",
       "       1, 1, 1, 0, 1, 1, 1, 1, 1, 0, 0, 1, 1, 1, 0, 1, 0, 0, 0, 1, 0, 1,\n",
       "       1, 1])"
      ]
     },
     "execution_count": 21,
     "metadata": {},
     "output_type": "execute_result"
    }
   ],
   "source": [
    "y_test"
   ]
  },
  {
   "cell_type": "markdown",
   "id": "c995ec2a",
   "metadata": {},
   "source": [
    "## Training Set Evaluation"
   ]
  },
  {
   "cell_type": "markdown",
   "id": "42753452",
   "metadata": {},
   "source": [
    "Understand the nature/degree of model overfitting by comparing to `Test Set Evaluation`"
   ]
  },
  {
   "cell_type": "code",
   "execution_count": 22,
   "id": "715baf29",
   "metadata": {},
   "outputs": [],
   "source": [
    "predicted_scores = fitted_pipeline.predict_proba(X_train)[:, 1]"
   ]
  },
  {
   "cell_type": "code",
   "execution_count": 23,
   "id": "19cebd6f",
   "metadata": {},
   "outputs": [
    {
     "data": {
      "image/png": "[encoded data removed]",
      "text/plain": [
       "<Figure size 432x288 with 1 Axes>"
      ]
     },
     "metadata": {
      "needs_background": "light"
     },
     "output_type": "display_data"
    }
   ],
   "source": [
    "sns.histplot(predicted_scores)\n",
    "plt.tight_layout()"
   ]
  },
  {
   "cell_type": "code",
   "execution_count": 24,
   "id": "19afe1a7",
   "metadata": {},
   "outputs": [],
   "source": [
    "\n",
    "evaluator = hlp.sklearn_eval.TwoClassEvaluator(\n",
    "    actual_values=y_train,\n",
    "    predicted_scores=predicted_scores,\n",
    "    labels=('Bad', 'Good'),\n",
    "    score_threshold=0.5\n",
    ")"
   ]
  },
  {
   "cell_type": "code",
   "execution_count": 25,
   "id": "aa907fdc",
   "metadata": {},
   "outputs": [
    {
     "data": {
      "text/html": [
       "<style type=\"text/css\">\n",
       "#T_596ca_row0_col0, #T_596ca_row1_col0, #T_596ca_row2_col0, #T_596ca_row5_col0, #T_596ca_row6_col0, #T_596ca_row7_col0 {\n",
       "  width: 10em;\n",
       "  height: 80%;\n",
       "  background: linear-gradient(90deg,#1AAF54 100.0%, transparent 100.0%);\n",
       "}\n",
       "#T_596ca_row3_col0, #T_596ca_row4_col0, #T_596ca_row9_col0 {\n",
       "  width: 10em;\n",
       "  height: 80%;\n",
       "  width: 10em;\n",
       "  height: 80%;\n",
       "}\n",
       "#T_596ca_row8_col0 {\n",
       "  width: 10em;\n",
       "  height: 80%;\n",
       "  background: linear-gradient(90deg,#1AAF54 100.0%, transparent 100.0%);\n",
       "  width: 10em;\n",
       "  height: 80%;\n",
       "  background: linear-gradient(90deg,#B4B7B9 100.0%, transparent 100.0%);\n",
       "}\n",
       "#T_596ca_row10_col0 {\n",
       "  width: 10em;\n",
       "  height: 80%;\n",
       "  background: linear-gradient(90deg,#1AAF54 69.9%, transparent 69.9%);\n",
       "  width: 10em;\n",
       "  height: 80%;\n",
       "  background: linear-gradient(90deg,#B4B7B9 69.9%, transparent 69.9%);\n",
       "}\n",
       "</style>\n",
       "<table id=\"T_596ca_\">\n",
       "  <thead>\n",
       "    <tr>\n",
       "      <th class=\"blank level0\" >&nbsp;</th>\n",
       "      <th class=\"col_heading level0 col0\" >Scores</th>\n",
       "      <th class=\"col_heading level0 col1\" >Details</th>\n",
       "    </tr>\n",
       "  </thead>\n",
       "  <tbody>\n",
       "    <tr>\n",
       "      <th id=\"T_596ca_level0_row0\" class=\"row_heading level0 row0\" >AUC</th>\n",
       "      <td id=\"T_596ca_row0_col0\" class=\"data row0 col0\" >1.000</td>\n",
       "      <td id=\"T_596ca_row0_col1\" class=\"data row0 col1\" >Area under the ROC curve (true pos. rate vs false pos. rate); ranges from 0.5 (purely random classifier) to 1.0 (perfect classifier)</td>\n",
       "    </tr>\n",
       "    <tr>\n",
       "      <th id=\"T_596ca_level0_row1\" class=\"row_heading level0 row1\" >True Positive Rate</th>\n",
       "      <td id=\"T_596ca_row1_col0\" class=\"data row1 col0\" >1.000</td>\n",
       "      <td id=\"T_596ca_row1_col1\" class=\"data row1 col1\" >100.0% of positive instances were correctly identified.; i.e. 559 \"Good\" labels were correctly identified out of 559 instances; a.k.a Sensitivity/Recall</td>\n",
       "    </tr>\n",
       "    <tr>\n",
       "      <th id=\"T_596ca_level0_row2\" class=\"row_heading level0 row2\" >True Negative Rate</th>\n",
       "      <td id=\"T_596ca_row2_col0\" class=\"data row2 col0\" >1.000</td>\n",
       "      <td id=\"T_596ca_row2_col1\" class=\"data row2 col1\" >100.0% of negative instances were correctly identified.; i.e. 241 \"Bad\" labels were correctly identified out of 241 instances</td>\n",
       "    </tr>\n",
       "    <tr>\n",
       "      <th id=\"T_596ca_level0_row3\" class=\"row_heading level0 row3\" >False Positive Rate</th>\n",
       "      <td id=\"T_596ca_row3_col0\" class=\"data row3 col0\" >0.000</td>\n",
       "      <td id=\"T_596ca_row3_col1\" class=\"data row3 col1\" >0.0% of negative instances were incorrectly identified as positive; i.e. 0 \"Bad\" labels were incorrectly identified as \"Good\", out of 241 instances</td>\n",
       "    </tr>\n",
       "    <tr>\n",
       "      <th id=\"T_596ca_level0_row4\" class=\"row_heading level0 row4\" >False Negative Rate</th>\n",
       "      <td id=\"T_596ca_row4_col0\" class=\"data row4 col0\" >0.000</td>\n",
       "      <td id=\"T_596ca_row4_col1\" class=\"data row4 col1\" >0.0% of positive instances were incorrectly identified as negative; i.e. 0 \"Good\" labels were incorrectly identified as \"Bad\", out of 559 instances</td>\n",
       "    </tr>\n",
       "    <tr>\n",
       "      <th id=\"T_596ca_level0_row5\" class=\"row_heading level0 row5\" >Positive Predictive Value</th>\n",
       "      <td id=\"T_596ca_row5_col0\" class=\"data row5 col0\" >1.000</td>\n",
       "      <td id=\"T_596ca_row5_col1\" class=\"data row5 col1\" >When the model claims an instance is positive, it is correct 100.0% of the time; i.e. out of the 559 times the model predicted \"Good\", it was correct 559 times; a.k.a precision</td>\n",
       "    </tr>\n",
       "    <tr>\n",
       "      <th id=\"T_596ca_level0_row6\" class=\"row_heading level0 row6\" >Negative Predictive Value</th>\n",
       "      <td id=\"T_596ca_row6_col0\" class=\"data row6 col0\" >1.000</td>\n",
       "      <td id=\"T_596ca_row6_col1\" class=\"data row6 col1\" >When the model claims an instance is negative, it is correct 100.0% of the time; i.e. out of the 241 times the model predicted \"Bad\", it was correct 241 times</td>\n",
       "    </tr>\n",
       "    <tr>\n",
       "      <th id=\"T_596ca_level0_row7\" class=\"row_heading level0 row7\" >F1 Score</th>\n",
       "      <td id=\"T_596ca_row7_col0\" class=\"data row7 col0\" >1.000</td>\n",
       "      <td id=\"T_596ca_row7_col1\" class=\"data row7 col1\" >The F1 score can be interpreted as a weighted average of the precision and recall, where an F1 score reaches its best value at 1 and worst score at 0.</td>\n",
       "    </tr>\n",
       "    <tr>\n",
       "      <th id=\"T_596ca_level0_row8\" class=\"row_heading level0 row8\" >Accuracy</th>\n",
       "      <td id=\"T_596ca_row8_col0\" class=\"data row8 col0\" >1.000</td>\n",
       "      <td id=\"T_596ca_row8_col1\" class=\"data row8 col1\" >100.0% of instances were correctly identified</td>\n",
       "    </tr>\n",
       "    <tr>\n",
       "      <th id=\"T_596ca_level0_row9\" class=\"row_heading level0 row9\" >Error Rate</th>\n",
       "      <td id=\"T_596ca_row9_col0\" class=\"data row9 col0\" >0.000</td>\n",
       "      <td id=\"T_596ca_row9_col1\" class=\"data row9 col1\" >0.0% of instances were incorrectly identified</td>\n",
       "    </tr>\n",
       "    <tr>\n",
       "      <th id=\"T_596ca_level0_row10\" class=\"row_heading level0 row10\" >% Positive</th>\n",
       "      <td id=\"T_596ca_row10_col0\" class=\"data row10 col0\" >0.699</td>\n",
       "      <td id=\"T_596ca_row10_col1\" class=\"data row10 col1\" >69.9% of the data are positive; i.e. out of 800 total observations; 559 are labeled as \"Good\"</td>\n",
       "    </tr>\n",
       "    <tr>\n",
       "      <th id=\"T_596ca_level0_row11\" class=\"row_heading level0 row11\" >Total Observations</th>\n",
       "      <td id=\"T_596ca_row11_col0\" class=\"data row11 col0\" >800</td>\n",
       "      <td id=\"T_596ca_row11_col1\" class=\"data row11 col1\" >There are 800 total observations; i.e. sample size</td>\n",
       "    </tr>\n",
       "  </tbody>\n",
       "</table>\n"
      ],
      "text/plain": [
       "<pandas.io.formats.style.Styler at 0x7fbf850643d0>"
      ]
     },
     "execution_count": 25,
     "metadata": {},
     "output_type": "execute_result"
    }
   ],
   "source": [
    "evaluator.all_metrics_df(return_style=True, round_by=3)"
   ]
  },
  {
   "cell_type": "code",
   "execution_count": 26,
   "id": "bd7e99d7",
   "metadata": {
    "pycharm": {
     "name": "#%%\n"
    }
   },
   "outputs": [],
   "source": [
    "del predicted_scores"
   ]
  },
  {
   "cell_type": "markdown",
   "id": "99a47e94",
   "metadata": {},
   "source": [
    "## Test Set Evaluation"
   ]
  },
  {
   "cell_type": "code",
   "execution_count": 27,
   "id": "82b97c55",
   "metadata": {},
   "outputs": [],
   "source": [
    "predicted_scores = fitted_pipeline.predict_proba(X_test)[:, 1]"
   ]
  },
  {
   "cell_type": "code",
   "execution_count": 28,
   "id": "61c68884",
   "metadata": {},
   "outputs": [
    {
     "data": {
      "text/plain": [
       "array([0.5632, 0.644 , 0.3756, 0.6636, 0.856 , 0.6624, 0.8992, 0.5848,\n",
       "       0.8848, 0.798 ])"
      ]
     },
     "execution_count": 28,
     "metadata": {},
     "output_type": "execute_result"
    }
   ],
   "source": [
    "predicted_scores[0:10]"
   ]
  },
  {
   "cell_type": "code",
   "execution_count": 29,
   "id": "648c23c9",
   "metadata": {},
   "outputs": [
    {
     "data": {
      "image/png": "[encoded data removed]",
      "text/plain": [
       "<Figure size 432x288 with 1 Axes>"
      ]
     },
     "metadata": {
      "needs_background": "light"
     },
     "output_type": "display_data"
    }
   ],
   "source": [
    "sns.histplot(predicted_scores)\n",
    "plt.tight_layout()"
   ]
  },
  {
   "cell_type": "code",
   "execution_count": 30,
   "id": "f6ce7733",
   "metadata": {
    "pycharm": {
     "name": "#%%\n"
    }
   },
   "outputs": [
    {
     "data": {
      "text/plain": [
       "0    Not Defaulted\n",
       "1        Defaulted\n",
       "2        Defaulted\n",
       "3        Defaulted\n",
       "4        Defaulted\n",
       "dtype: object"
      ]
     },
     "execution_count": 30,
     "metadata": {},
     "output_type": "execute_result"
    }
   ],
   "source": [
    "y_test_cat = pd.Series(y_test).replace({1: 'Defaulted', 0: 'Not Defaulted'})\n",
    "y_test_cat.head()"
   ]
  },
  {
   "cell_type": "code",
   "execution_count": 31,
   "id": "38f2c315",
   "metadata": {
    "pycharm": {
     "name": "#%%\n"
    }
   },
   "outputs": [
    {
     "data": {
      "image/png": "[encoded data removed]",
      "text/plain": [
       "<Figure size 720x360 with 2 Axes>"
      ]
     },
     "metadata": {
      "needs_background": "light"
     },
     "output_type": "display_data"
    }
   ],
   "source": [
    "axes = sns.displot(\n",
    "    pd.DataFrame({\n",
    "        'prediction': predicted_scores,\n",
    "        'actual': y_test_cat\n",
    "    }),\n",
    "    x='prediction',\n",
    "    col='actual'\n",
    ")\n",
    "for axis in axes.axes.flat:\n",
    "    axis.axvline(x=0.5, ymin=0, ymax=100, color='red')\n",
    "plt.tight_layout()"
   ]
  },
  {
   "cell_type": "code",
   "execution_count": 32,
   "id": "5d3b9658",
   "metadata": {
    "pycharm": {
     "name": "#%%\n"
    }
   },
   "outputs": [],
   "source": [
    "del y_test_cat\n",
    "del axes"
   ]
  },
  {
   "cell_type": "code",
   "execution_count": 33,
   "id": "4b64e733",
   "metadata": {},
   "outputs": [],
   "source": [
    "evaluator = hlp.sklearn_eval.TwoClassEvaluator(\n",
    "    actual_values=y_test,\n",
    "    predicted_scores=predicted_scores,\n",
    "    labels=('Bad', 'Good'),\n",
    "    score_threshold=0.5\n",
    ")"
   ]
  },
  {
   "cell_type": "code",
   "execution_count": 34,
   "id": "a17343a2",
   "metadata": {},
   "outputs": [
    {
     "data": {
      "image/png": "[encoded data removed]",
      "text/plain": [
       "<Figure size 432x288 with 2 Axes>"
      ]
     },
     "metadata": {
      "needs_background": "light"
     },
     "output_type": "display_data"
    }
   ],
   "source": [
    "evaluator.plot_confusion_matrix()"
   ]
  },
  {
   "cell_type": "code",
   "execution_count": 35,
   "id": "9516f3bb",
   "metadata": {},
   "outputs": [
    {
     "data": {
      "text/html": [
       "<style type=\"text/css\">\n",
       "#T_ec57f_row0_col0 {\n",
       "  width: 10em;\n",
       "  height: 80%;\n",
       "  background: linear-gradient(90deg,#1AAF54 79.9%, transparent 79.9%);\n",
       "}\n",
       "#T_ec57f_row1_col0 {\n",
       "  width: 10em;\n",
       "  height: 80%;\n",
       "  background: linear-gradient(90deg,#1AAF54 95.7%, transparent 95.7%);\n",
       "}\n",
       "#T_ec57f_row2_col0 {\n",
       "  width: 10em;\n",
       "  height: 80%;\n",
       "  background: linear-gradient(90deg,#1AAF54 20.3%, transparent 20.3%);\n",
       "}\n",
       "#T_ec57f_row3_col0 {\n",
       "  width: 10em;\n",
       "  height: 80%;\n",
       "  background: linear-gradient(90deg,#1AAF54 79.7%, transparent 79.7%);\n",
       "  width: 10em;\n",
       "  height: 80%;\n",
       "  background: linear-gradient(90deg,#FF420E 79.7%, transparent 79.7%);\n",
       "}\n",
       "#T_ec57f_row4_col0 {\n",
       "  width: 10em;\n",
       "  height: 80%;\n",
       "  background: linear-gradient(90deg,#1AAF54 4.3%, transparent 4.3%);\n",
       "  width: 10em;\n",
       "  height: 80%;\n",
       "  background: linear-gradient(90deg,#FF420E 4.3%, transparent 4.3%);\n",
       "}\n",
       "#T_ec57f_row5_col0 {\n",
       "  width: 10em;\n",
       "  height: 80%;\n",
       "  background: linear-gradient(90deg,#1AAF54 74.2%, transparent 74.2%);\n",
       "}\n",
       "#T_ec57f_row6_col0 {\n",
       "  width: 10em;\n",
       "  height: 80%;\n",
       "  background: linear-gradient(90deg,#1AAF54 66.7%, transparent 66.7%);\n",
       "}\n",
       "#T_ec57f_row7_col0 {\n",
       "  width: 10em;\n",
       "  height: 80%;\n",
       "  background: linear-gradient(90deg,#1AAF54 83.6%, transparent 83.6%);\n",
       "}\n",
       "#T_ec57f_row8_col0 {\n",
       "  width: 10em;\n",
       "  height: 80%;\n",
       "  background: linear-gradient(90deg,#1AAF54 73.5%, transparent 73.5%);\n",
       "  width: 10em;\n",
       "  height: 80%;\n",
       "  background: linear-gradient(90deg,#B4B7B9 73.5%, transparent 73.5%);\n",
       "}\n",
       "#T_ec57f_row9_col0 {\n",
       "  width: 10em;\n",
       "  height: 80%;\n",
       "  background: linear-gradient(90deg,#1AAF54 26.5%, transparent 26.5%);\n",
       "  width: 10em;\n",
       "  height: 80%;\n",
       "  background: linear-gradient(90deg,#B4B7B9 26.5%, transparent 26.5%);\n",
       "}\n",
       "#T_ec57f_row10_col0 {\n",
       "  width: 10em;\n",
       "  height: 80%;\n",
       "  background: linear-gradient(90deg,#1AAF54 70.5%, transparent 70.5%);\n",
       "  width: 10em;\n",
       "  height: 80%;\n",
       "  background: linear-gradient(90deg,#B4B7B9 70.5%, transparent 70.5%);\n",
       "}\n",
       "</style>\n",
       "<table id=\"T_ec57f_\">\n",
       "  <thead>\n",
       "    <tr>\n",
       "      <th class=\"blank level0\" >&nbsp;</th>\n",
       "      <th class=\"col_heading level0 col0\" >Scores</th>\n",
       "      <th class=\"col_heading level0 col1\" >Details</th>\n",
       "    </tr>\n",
       "  </thead>\n",
       "  <tbody>\n",
       "    <tr>\n",
       "      <th id=\"T_ec57f_level0_row0\" class=\"row_heading level0 row0\" >AUC</th>\n",
       "      <td id=\"T_ec57f_row0_col0\" class=\"data row0 col0\" >0.799</td>\n",
       "      <td id=\"T_ec57f_row0_col1\" class=\"data row0 col1\" >Area under the ROC curve (true pos. rate vs false pos. rate); ranges from 0.5 (purely random classifier) to 1.0 (perfect classifier)</td>\n",
       "    </tr>\n",
       "    <tr>\n",
       "      <th id=\"T_ec57f_level0_row1\" class=\"row_heading level0 row1\" >True Positive Rate</th>\n",
       "      <td id=\"T_ec57f_row1_col0\" class=\"data row1 col0\" >0.957</td>\n",
       "      <td id=\"T_ec57f_row1_col1\" class=\"data row1 col1\" >95.7% of positive instances were correctly identified.; i.e. 135 \"Good\" labels were correctly identified out of 141 instances; a.k.a Sensitivity/Recall</td>\n",
       "    </tr>\n",
       "    <tr>\n",
       "      <th id=\"T_ec57f_level0_row2\" class=\"row_heading level0 row2\" >True Negative Rate</th>\n",
       "      <td id=\"T_ec57f_row2_col0\" class=\"data row2 col0\" >0.203</td>\n",
       "      <td id=\"T_ec57f_row2_col1\" class=\"data row2 col1\" >20.3% of negative instances were correctly identified.; i.e. 12 \"Bad\" labels were correctly identified out of 59 instances</td>\n",
       "    </tr>\n",
       "    <tr>\n",
       "      <th id=\"T_ec57f_level0_row3\" class=\"row_heading level0 row3\" >False Positive Rate</th>\n",
       "      <td id=\"T_ec57f_row3_col0\" class=\"data row3 col0\" >0.797</td>\n",
       "      <td id=\"T_ec57f_row3_col1\" class=\"data row3 col1\" >79.7% of negative instances were incorrectly identified as positive; i.e. 47 \"Bad\" labels were incorrectly identified as \"Good\", out of 59 instances</td>\n",
       "    </tr>\n",
       "    <tr>\n",
       "      <th id=\"T_ec57f_level0_row4\" class=\"row_heading level0 row4\" >False Negative Rate</th>\n",
       "      <td id=\"T_ec57f_row4_col0\" class=\"data row4 col0\" >0.043</td>\n",
       "      <td id=\"T_ec57f_row4_col1\" class=\"data row4 col1\" >4.3% of positive instances were incorrectly identified as negative; i.e. 6 \"Good\" labels were incorrectly identified as \"Bad\", out of 141 instances</td>\n",
       "    </tr>\n",
       "    <tr>\n",
       "      <th id=\"T_ec57f_level0_row5\" class=\"row_heading level0 row5\" >Positive Predictive Value</th>\n",
       "      <td id=\"T_ec57f_row5_col0\" class=\"data row5 col0\" >0.742</td>\n",
       "      <td id=\"T_ec57f_row5_col1\" class=\"data row5 col1\" >When the model claims an instance is positive, it is correct 74.2% of the time; i.e. out of the 182 times the model predicted \"Good\", it was correct 135 times; a.k.a precision</td>\n",
       "    </tr>\n",
       "    <tr>\n",
       "      <th id=\"T_ec57f_level0_row6\" class=\"row_heading level0 row6\" >Negative Predictive Value</th>\n",
       "      <td id=\"T_ec57f_row6_col0\" class=\"data row6 col0\" >0.667</td>\n",
       "      <td id=\"T_ec57f_row6_col1\" class=\"data row6 col1\" >When the model claims an instance is negative, it is correct 66.7% of the time; i.e. out of the 18 times the model predicted \"Bad\", it was correct 12 times</td>\n",
       "    </tr>\n",
       "    <tr>\n",
       "      <th id=\"T_ec57f_level0_row7\" class=\"row_heading level0 row7\" >F1 Score</th>\n",
       "      <td id=\"T_ec57f_row7_col0\" class=\"data row7 col0\" >0.836</td>\n",
       "      <td id=\"T_ec57f_row7_col1\" class=\"data row7 col1\" >The F1 score can be interpreted as a weighted average of the precision and recall, where an F1 score reaches its best value at 1 and worst score at 0.</td>\n",
       "    </tr>\n",
       "    <tr>\n",
       "      <th id=\"T_ec57f_level0_row8\" class=\"row_heading level0 row8\" >Accuracy</th>\n",
       "      <td id=\"T_ec57f_row8_col0\" class=\"data row8 col0\" >0.735</td>\n",
       "      <td id=\"T_ec57f_row8_col1\" class=\"data row8 col1\" >73.5% of instances were correctly identified</td>\n",
       "    </tr>\n",
       "    <tr>\n",
       "      <th id=\"T_ec57f_level0_row9\" class=\"row_heading level0 row9\" >Error Rate</th>\n",
       "      <td id=\"T_ec57f_row9_col0\" class=\"data row9 col0\" >0.265</td>\n",
       "      <td id=\"T_ec57f_row9_col1\" class=\"data row9 col1\" >26.5% of instances were incorrectly identified</td>\n",
       "    </tr>\n",
       "    <tr>\n",
       "      <th id=\"T_ec57f_level0_row10\" class=\"row_heading level0 row10\" >% Positive</th>\n",
       "      <td id=\"T_ec57f_row10_col0\" class=\"data row10 col0\" >0.705</td>\n",
       "      <td id=\"T_ec57f_row10_col1\" class=\"data row10 col1\" >70.5% of the data are positive; i.e. out of 200 total observations; 141 are labeled as \"Good\"</td>\n",
       "    </tr>\n",
       "    <tr>\n",
       "      <th id=\"T_ec57f_level0_row11\" class=\"row_heading level0 row11\" >Total Observations</th>\n",
       "      <td id=\"T_ec57f_row11_col0\" class=\"data row11 col0\" >200</td>\n",
       "      <td id=\"T_ec57f_row11_col1\" class=\"data row11 col1\" >There are 200 total observations; i.e. sample size</td>\n",
       "    </tr>\n",
       "  </tbody>\n",
       "</table>\n"
      ],
      "text/plain": [
       "<pandas.io.formats.style.Styler at 0x7fbf84e35f70>"
      ]
     },
     "execution_count": 35,
     "metadata": {},
     "output_type": "execute_result"
    }
   ],
   "source": [
    "evaluator.all_metrics_df(return_style=True, round_by=3)"
   ]
  },
  {
   "cell_type": "markdown",
   "id": "09a3204d",
   "metadata": {},
   "source": [
    "Compare results against scores if we predicted all `Good`"
   ]
  },
  {
   "cell_type": "code",
   "execution_count": 36,
   "id": "59c27052",
   "metadata": {},
   "outputs": [],
   "source": [
    "dummy_predicted_scores = np.array([0.99] * len(predicted_scores))"
   ]
  },
  {
   "cell_type": "code",
   "execution_count": 37,
   "id": "f3278fdd",
   "metadata": {},
   "outputs": [
    {
     "data": {
      "text/html": [
       "<style type=\"text/css\">\n",
       "#T_bb623_row0_col0 {\n",
       "  width: 10em;\n",
       "  height: 80%;\n",
       "  background: linear-gradient(90deg,#1AAF54 50.0%, transparent 50.0%);\n",
       "}\n",
       "#T_bb623_row1_col0 {\n",
       "  width: 10em;\n",
       "  height: 80%;\n",
       "  background: linear-gradient(90deg,#1AAF54 100.0%, transparent 100.0%);\n",
       "}\n",
       "#T_bb623_row2_col0, #T_bb623_row6_col0 {\n",
       "  width: 10em;\n",
       "  height: 80%;\n",
       "}\n",
       "#T_bb623_row3_col0 {\n",
       "  width: 10em;\n",
       "  height: 80%;\n",
       "  background: linear-gradient(90deg,#1AAF54 100.0%, transparent 100.0%);\n",
       "  width: 10em;\n",
       "  height: 80%;\n",
       "  background: linear-gradient(90deg,#FF420E 100.0%, transparent 100.0%);\n",
       "}\n",
       "#T_bb623_row4_col0 {\n",
       "  width: 10em;\n",
       "  height: 80%;\n",
       "  width: 10em;\n",
       "  height: 80%;\n",
       "}\n",
       "#T_bb623_row5_col0 {\n",
       "  width: 10em;\n",
       "  height: 80%;\n",
       "  background: linear-gradient(90deg,#1AAF54 70.5%, transparent 70.5%);\n",
       "}\n",
       "#T_bb623_row7_col0 {\n",
       "  width: 10em;\n",
       "  height: 80%;\n",
       "  background: linear-gradient(90deg,#1AAF54 82.7%, transparent 82.7%);\n",
       "}\n",
       "#T_bb623_row8_col0, #T_bb623_row10_col0 {\n",
       "  width: 10em;\n",
       "  height: 80%;\n",
       "  background: linear-gradient(90deg,#1AAF54 70.5%, transparent 70.5%);\n",
       "  width: 10em;\n",
       "  height: 80%;\n",
       "  background: linear-gradient(90deg,#B4B7B9 70.5%, transparent 70.5%);\n",
       "}\n",
       "#T_bb623_row9_col0 {\n",
       "  width: 10em;\n",
       "  height: 80%;\n",
       "  background: linear-gradient(90deg,#1AAF54 29.5%, transparent 29.5%);\n",
       "  width: 10em;\n",
       "  height: 80%;\n",
       "  background: linear-gradient(90deg,#B4B7B9 29.5%, transparent 29.5%);\n",
       "}\n",
       "</style>\n",
       "<table id=\"T_bb623_\">\n",
       "  <thead>\n",
       "    <tr>\n",
       "      <th class=\"blank level0\" >&nbsp;</th>\n",
       "      <th class=\"col_heading level0 col0\" >Scores</th>\n",
       "      <th class=\"col_heading level0 col1\" >Details</th>\n",
       "    </tr>\n",
       "  </thead>\n",
       "  <tbody>\n",
       "    <tr>\n",
       "      <th id=\"T_bb623_level0_row0\" class=\"row_heading level0 row0\" >AUC</th>\n",
       "      <td id=\"T_bb623_row0_col0\" class=\"data row0 col0\" >0.500</td>\n",
       "      <td id=\"T_bb623_row0_col1\" class=\"data row0 col1\" >Area under the ROC curve (true pos. rate vs false pos. rate); ranges from 0.5 (purely random classifier) to 1.0 (perfect classifier)</td>\n",
       "    </tr>\n",
       "    <tr>\n",
       "      <th id=\"T_bb623_level0_row1\" class=\"row_heading level0 row1\" >True Positive Rate</th>\n",
       "      <td id=\"T_bb623_row1_col0\" class=\"data row1 col0\" >1.000</td>\n",
       "      <td id=\"T_bb623_row1_col1\" class=\"data row1 col1\" >100.0% of positive instances were correctly identified.; i.e. 141 \"Good\" labels were correctly identified out of 141 instances; a.k.a Sensitivity/Recall</td>\n",
       "    </tr>\n",
       "    <tr>\n",
       "      <th id=\"T_bb623_level0_row2\" class=\"row_heading level0 row2\" >True Negative Rate</th>\n",
       "      <td id=\"T_bb623_row2_col0\" class=\"data row2 col0\" >0.000</td>\n",
       "      <td id=\"T_bb623_row2_col1\" class=\"data row2 col1\" >0.0% of negative instances were correctly identified.; i.e. 0 \"Bad\" labels were correctly identified out of 59 instances</td>\n",
       "    </tr>\n",
       "    <tr>\n",
       "      <th id=\"T_bb623_level0_row3\" class=\"row_heading level0 row3\" >False Positive Rate</th>\n",
       "      <td id=\"T_bb623_row3_col0\" class=\"data row3 col0\" >1.000</td>\n",
       "      <td id=\"T_bb623_row3_col1\" class=\"data row3 col1\" >100.0% of negative instances were incorrectly identified as positive; i.e. 59 \"Bad\" labels were incorrectly identified as \"Good\", out of 59 instances</td>\n",
       "    </tr>\n",
       "    <tr>\n",
       "      <th id=\"T_bb623_level0_row4\" class=\"row_heading level0 row4\" >False Negative Rate</th>\n",
       "      <td id=\"T_bb623_row4_col0\" class=\"data row4 col0\" >0.000</td>\n",
       "      <td id=\"T_bb623_row4_col1\" class=\"data row4 col1\" >0.0% of positive instances were incorrectly identified as negative; i.e. 0 \"Good\" labels were incorrectly identified as \"Bad\", out of 141 instances</td>\n",
       "    </tr>\n",
       "    <tr>\n",
       "      <th id=\"T_bb623_level0_row5\" class=\"row_heading level0 row5\" >Positive Predictive Value</th>\n",
       "      <td id=\"T_bb623_row5_col0\" class=\"data row5 col0\" >0.705</td>\n",
       "      <td id=\"T_bb623_row5_col1\" class=\"data row5 col1\" >When the model claims an instance is positive, it is correct 70.5% of the time; i.e. out of the 200 times the model predicted \"Good\", it was correct 141 times; a.k.a precision</td>\n",
       "    </tr>\n",
       "    <tr>\n",
       "      <th id=\"T_bb623_level0_row6\" class=\"row_heading level0 row6\" >Negative Predictive Value</th>\n",
       "      <td id=\"T_bb623_row6_col0\" class=\"data row6 col0\" >0.000</td>\n",
       "      <td id=\"T_bb623_row6_col1\" class=\"data row6 col1\" >When the model claims an instance is negative, it is correct 0.0% of the time; i.e. out of the 0 times the model predicted \"Bad\", it was correct 0 times</td>\n",
       "    </tr>\n",
       "    <tr>\n",
       "      <th id=\"T_bb623_level0_row7\" class=\"row_heading level0 row7\" >F1 Score</th>\n",
       "      <td id=\"T_bb623_row7_col0\" class=\"data row7 col0\" >0.827</td>\n",
       "      <td id=\"T_bb623_row7_col1\" class=\"data row7 col1\" >The F1 score can be interpreted as a weighted average of the precision and recall, where an F1 score reaches its best value at 1 and worst score at 0.</td>\n",
       "    </tr>\n",
       "    <tr>\n",
       "      <th id=\"T_bb623_level0_row8\" class=\"row_heading level0 row8\" >Accuracy</th>\n",
       "      <td id=\"T_bb623_row8_col0\" class=\"data row8 col0\" >0.705</td>\n",
       "      <td id=\"T_bb623_row8_col1\" class=\"data row8 col1\" >70.5% of instances were correctly identified</td>\n",
       "    </tr>\n",
       "    <tr>\n",
       "      <th id=\"T_bb623_level0_row9\" class=\"row_heading level0 row9\" >Error Rate</th>\n",
       "      <td id=\"T_bb623_row9_col0\" class=\"data row9 col0\" >0.295</td>\n",
       "      <td id=\"T_bb623_row9_col1\" class=\"data row9 col1\" >29.5% of instances were incorrectly identified</td>\n",
       "    </tr>\n",
       "    <tr>\n",
       "      <th id=\"T_bb623_level0_row10\" class=\"row_heading level0 row10\" >% Positive</th>\n",
       "      <td id=\"T_bb623_row10_col0\" class=\"data row10 col0\" >0.705</td>\n",
       "      <td id=\"T_bb623_row10_col1\" class=\"data row10 col1\" >70.5% of the data are positive; i.e. out of 200 total observations; 141 are labeled as \"Good\"</td>\n",
       "    </tr>\n",
       "    <tr>\n",
       "      <th id=\"T_bb623_level0_row11\" class=\"row_heading level0 row11\" >Total Observations</th>\n",
       "      <td id=\"T_bb623_row11_col0\" class=\"data row11 col0\" >200</td>\n",
       "      <td id=\"T_bb623_row11_col1\" class=\"data row11 col1\" >There are 200 total observations; i.e. sample size</td>\n",
       "    </tr>\n",
       "  </tbody>\n",
       "</table>\n"
      ],
      "text/plain": [
       "<pandas.io.formats.style.Styler at 0x7fbf84e08610>"
      ]
     },
     "execution_count": 37,
     "metadata": {},
     "output_type": "execute_result"
    }
   ],
   "source": [
    "dummy_eval = hlp.sklearn_eval.TwoClassEvaluator(\n",
    "    actual_values=y_test,\n",
    "    predicted_scores=dummy_predicted_scores,\n",
    "    labels=('Bad', 'Good'),\n",
    "    score_threshold=0.5\n",
    ")\n",
    "dummy_eval.all_metrics_df(return_style=True, round_by=3)"
   ]
  },
  {
   "cell_type": "code",
   "execution_count": 38,
   "id": "cc60bc2c",
   "metadata": {},
   "outputs": [
    {
     "data": {
      "image/png": "[encoded data removed]",
      "text/plain": [
       "<Figure size 720x444.984 with 1 Axes>"
      ]
     },
     "metadata": {
      "needs_background": "light"
     },
     "output_type": "display_data"
    }
   ],
   "source": [
    "evaluator.plot_auc_curve()\n",
    "plt.grid()"
   ]
  },
  {
   "cell_type": "code",
   "execution_count": 39,
   "id": "44c66aaf",
   "metadata": {},
   "outputs": [
    {
     "data": {
      "image/png": "[encoded data removed]",
      "text/plain": [
       "<Figure size 720x444.984 with 1 Axes>"
      ]
     },
     "metadata": {
      "needs_background": "light"
     },
     "output_type": "display_data"
    }
   ],
   "source": [
    "evaluator.plot_threshold_curves()\n",
    "plt.grid()"
   ]
  },
  {
   "cell_type": "code",
   "execution_count": 40,
   "id": "08f1bf81",
   "metadata": {},
   "outputs": [
    {
     "data": {
      "image/png": "[encoded data removed]",
      "text/plain": [
       "<Figure size 720x444.984 with 1 Axes>"
      ]
     },
     "metadata": {
      "needs_background": "light"
     },
     "output_type": "display_data"
    }
   ],
   "source": [
    "evaluator.plot_precision_recall_tradeoff(score_threshold_range=(0.4, 0.95))\n",
    "plt.grid()"
   ]
  },
  {
   "cell_type": "code",
   "execution_count": 41,
   "id": "74863f55",
   "metadata": {},
   "outputs": [
    {
     "data": {
      "text/html": [
       "<style type=\"text/css\">\n",
       "#T_030e4_row0_col3 {\n",
       "  width: 10em;\n",
       "  height: 80%;\n",
       "  background: linear-gradient(90deg,#7AA9CF 7.0%, transparent 7.0%);\n",
       "}\n",
       "#T_030e4_row0_col4, #T_030e4_row1_col4, #T_030e4_row2_col4, #T_030e4_row19_col3 {\n",
       "  width: 10em;\n",
       "  height: 80%;\n",
       "  background: linear-gradient(90deg,#7AA9CF 100.0%, transparent 100.0%);\n",
       "}\n",
       "#T_030e4_row1_col3 {\n",
       "  width: 10em;\n",
       "  height: 80%;\n",
       "  background: linear-gradient(90deg,#7AA9CF 14.0%, transparent 14.0%);\n",
       "}\n",
       "#T_030e4_row2_col3 {\n",
       "  width: 10em;\n",
       "  height: 80%;\n",
       "  background: linear-gradient(90deg,#7AA9CF 21.0%, transparent 21.0%);\n",
       "}\n",
       "#T_030e4_row3_col3 {\n",
       "  width: 10em;\n",
       "  height: 80%;\n",
       "  background: linear-gradient(90deg,#7AA9CF 28.0%, transparent 28.0%);\n",
       "}\n",
       "#T_030e4_row3_col4 {\n",
       "  width: 10em;\n",
       "  height: 80%;\n",
       "  background: linear-gradient(90deg,#7AA9CF 90.5%, transparent 90.5%);\n",
       "}\n",
       "#T_030e4_row4_col3 {\n",
       "  width: 10em;\n",
       "  height: 80%;\n",
       "  background: linear-gradient(90deg,#7AA9CF 33.0%, transparent 33.0%);\n",
       "}\n",
       "#T_030e4_row4_col4 {\n",
       "  width: 10em;\n",
       "  height: 80%;\n",
       "  background: linear-gradient(90deg,#7AA9CF 71.4%, transparent 71.4%);\n",
       "}\n",
       "#T_030e4_row5_col3 {\n",
       "  width: 10em;\n",
       "  height: 80%;\n",
       "  background: linear-gradient(90deg,#7AA9CF 40.0%, transparent 40.0%);\n",
       "}\n",
       "#T_030e4_row5_col4, #T_030e4_row6_col4 {\n",
       "  width: 10em;\n",
       "  height: 80%;\n",
       "  background: linear-gradient(90deg,#7AA9CF 76.2%, transparent 76.2%);\n",
       "}\n",
       "#T_030e4_row6_col3 {\n",
       "  width: 10em;\n",
       "  height: 80%;\n",
       "  background: linear-gradient(90deg,#7AA9CF 46.0%, transparent 46.0%);\n",
       "}\n",
       "#T_030e4_row7_col3 {\n",
       "  width: 10em;\n",
       "  height: 80%;\n",
       "  background: linear-gradient(90deg,#7AA9CF 52.0%, transparent 52.0%);\n",
       "}\n",
       "#T_030e4_row7_col4 {\n",
       "  width: 10em;\n",
       "  height: 80%;\n",
       "  background: linear-gradient(90deg,#7AA9CF 73.8%, transparent 73.8%);\n",
       "}\n",
       "#T_030e4_row8_col3 {\n",
       "  width: 10em;\n",
       "  height: 80%;\n",
       "  background: linear-gradient(90deg,#7AA9CF 57.0%, transparent 57.0%);\n",
       "}\n",
       "#T_030e4_row8_col4 {\n",
       "  width: 10em;\n",
       "  height: 80%;\n",
       "  background: linear-gradient(90deg,#7AA9CF 66.7%, transparent 66.7%);\n",
       "}\n",
       "#T_030e4_row9_col3 {\n",
       "  width: 10em;\n",
       "  height: 80%;\n",
       "  background: linear-gradient(90deg,#7AA9CF 63.0%, transparent 63.0%);\n",
       "}\n",
       "#T_030e4_row9_col4 {\n",
       "  width: 10em;\n",
       "  height: 80%;\n",
       "  background: linear-gradient(90deg,#7AA9CF 61.9%, transparent 61.9%);\n",
       "}\n",
       "#T_030e4_row10_col3 {\n",
       "  width: 10em;\n",
       "  height: 80%;\n",
       "  background: linear-gradient(90deg,#7AA9CF 68.0%, transparent 68.0%);\n",
       "}\n",
       "#T_030e4_row10_col4 {\n",
       "  width: 10em;\n",
       "  height: 80%;\n",
       "  background: linear-gradient(90deg,#7AA9CF 57.1%, transparent 57.1%);\n",
       "}\n",
       "#T_030e4_row11_col3 {\n",
       "  width: 10em;\n",
       "  height: 80%;\n",
       "  background: linear-gradient(90deg,#7AA9CF 73.0%, transparent 73.0%);\n",
       "}\n",
       "#T_030e4_row11_col4 {\n",
       "  width: 10em;\n",
       "  height: 80%;\n",
       "  background: linear-gradient(90deg,#7AA9CF 52.4%, transparent 52.4%);\n",
       "}\n",
       "#T_030e4_row12_col3 {\n",
       "  width: 10em;\n",
       "  height: 80%;\n",
       "  background: linear-gradient(90deg,#7AA9CF 78.0%, transparent 78.0%);\n",
       "}\n",
       "#T_030e4_row12_col4 {\n",
       "  width: 10em;\n",
       "  height: 80%;\n",
       "  background: linear-gradient(90deg,#7AA9CF 47.6%, transparent 47.6%);\n",
       "}\n",
       "#T_030e4_row13_col3 {\n",
       "  width: 10em;\n",
       "  height: 80%;\n",
       "  background: linear-gradient(90deg,#7AA9CF 81.0%, transparent 81.0%);\n",
       "}\n",
       "#T_030e4_row13_col4 {\n",
       "  width: 10em;\n",
       "  height: 80%;\n",
       "  background: linear-gradient(90deg,#7AA9CF 38.1%, transparent 38.1%);\n",
       "}\n",
       "#T_030e4_row14_col3 {\n",
       "  width: 10em;\n",
       "  height: 80%;\n",
       "  background: linear-gradient(90deg,#7AA9CF 87.0%, transparent 87.0%);\n",
       "}\n",
       "#T_030e4_row14_col4 {\n",
       "  width: 10em;\n",
       "  height: 80%;\n",
       "  background: linear-gradient(90deg,#7AA9CF 35.7%, transparent 35.7%);\n",
       "}\n",
       "#T_030e4_row15_col3 {\n",
       "  width: 10em;\n",
       "  height: 80%;\n",
       "  background: linear-gradient(90deg,#7AA9CF 90.0%, transparent 90.0%);\n",
       "}\n",
       "#T_030e4_row15_col4 {\n",
       "  width: 10em;\n",
       "  height: 80%;\n",
       "  background: linear-gradient(90deg,#7AA9CF 31.0%, transparent 31.0%);\n",
       "}\n",
       "#T_030e4_row16_col3 {\n",
       "  width: 10em;\n",
       "  height: 80%;\n",
       "  background: linear-gradient(90deg,#7AA9CF 94.0%, transparent 94.0%);\n",
       "}\n",
       "#T_030e4_row16_col4 {\n",
       "  width: 10em;\n",
       "  height: 80%;\n",
       "  background: linear-gradient(90deg,#7AA9CF 23.8%, transparent 23.8%);\n",
       "}\n",
       "#T_030e4_row17_col3 {\n",
       "  width: 10em;\n",
       "  height: 80%;\n",
       "  background: linear-gradient(90deg,#7AA9CF 96.0%, transparent 96.0%);\n",
       "}\n",
       "#T_030e4_row17_col4 {\n",
       "  width: 10em;\n",
       "  height: 80%;\n",
       "  background: linear-gradient(90deg,#7AA9CF 14.3%, transparent 14.3%);\n",
       "}\n",
       "#T_030e4_row18_col3 {\n",
       "  width: 10em;\n",
       "  height: 80%;\n",
       "  background: linear-gradient(90deg,#7AA9CF 99.0%, transparent 99.0%);\n",
       "}\n",
       "#T_030e4_row18_col4 {\n",
       "  width: 10em;\n",
       "  height: 80%;\n",
       "  background: linear-gradient(90deg,#7AA9CF 9.5%, transparent 9.5%);\n",
       "}\n",
       "#T_030e4_row19_col4 {\n",
       "  width: 10em;\n",
       "  height: 80%;\n",
       "}\n",
       "</style>\n",
       "<table id=\"T_030e4_\">\n",
       "  <thead>\n",
       "    <tr>\n",
       "      <th class=\"blank level0\" >&nbsp;</th>\n",
       "      <th class=\"col_heading level0 col0\" ># of Obs.</th>\n",
       "      <th class=\"col_heading level0 col1\" ># of Pos. Events</th>\n",
       "      <th class=\"col_heading level0 col2\" >Cumul. Pos. Events</th>\n",
       "      <th class=\"col_heading level0 col3\" >Gain</th>\n",
       "      <th class=\"col_heading level0 col4\" >Lift</th>\n",
       "    </tr>\n",
       "    <tr>\n",
       "      <th class=\"index_name level0\" >Percentile</th>\n",
       "      <th class=\"blank col0\" >&nbsp;</th>\n",
       "      <th class=\"blank col1\" >&nbsp;</th>\n",
       "      <th class=\"blank col2\" >&nbsp;</th>\n",
       "      <th class=\"blank col3\" >&nbsp;</th>\n",
       "      <th class=\"blank col4\" >&nbsp;</th>\n",
       "    </tr>\n",
       "  </thead>\n",
       "  <tbody>\n",
       "    <tr>\n",
       "      <th id=\"T_030e4_level0_row0\" class=\"row_heading level0 row0\" >5</th>\n",
       "      <td id=\"T_030e4_row0_col0\" class=\"data row0 col0\" >10</td>\n",
       "      <td id=\"T_030e4_row0_col1\" class=\"data row0 col1\" >10</td>\n",
       "      <td id=\"T_030e4_row0_col2\" class=\"data row0 col2\" >10</td>\n",
       "      <td id=\"T_030e4_row0_col3\" class=\"data row0 col3\" >0.07</td>\n",
       "      <td id=\"T_030e4_row0_col4\" class=\"data row0 col4\" >1.42</td>\n",
       "    </tr>\n",
       "    <tr>\n",
       "      <th id=\"T_030e4_level0_row1\" class=\"row_heading level0 row1\" >10</th>\n",
       "      <td id=\"T_030e4_row1_col0\" class=\"data row1 col0\" >10</td>\n",
       "      <td id=\"T_030e4_row1_col1\" class=\"data row1 col1\" >10</td>\n",
       "      <td id=\"T_030e4_row1_col2\" class=\"data row1 col2\" >20</td>\n",
       "      <td id=\"T_030e4_row1_col3\" class=\"data row1 col3\" >0.14</td>\n",
       "      <td id=\"T_030e4_row1_col4\" class=\"data row1 col4\" >1.42</td>\n",
       "    </tr>\n",
       "    <tr>\n",
       "      <th id=\"T_030e4_level0_row2\" class=\"row_heading level0 row2\" >15</th>\n",
       "      <td id=\"T_030e4_row2_col0\" class=\"data row2 col0\" >10</td>\n",
       "      <td id=\"T_030e4_row2_col1\" class=\"data row2 col1\" >10</td>\n",
       "      <td id=\"T_030e4_row2_col2\" class=\"data row2 col2\" >30</td>\n",
       "      <td id=\"T_030e4_row2_col3\" class=\"data row2 col3\" >0.21</td>\n",
       "      <td id=\"T_030e4_row2_col4\" class=\"data row2 col4\" >1.42</td>\n",
       "    </tr>\n",
       "    <tr>\n",
       "      <th id=\"T_030e4_level0_row3\" class=\"row_heading level0 row3\" >20</th>\n",
       "      <td id=\"T_030e4_row3_col0\" class=\"data row3 col0\" >10</td>\n",
       "      <td id=\"T_030e4_row3_col1\" class=\"data row3 col1\" >9</td>\n",
       "      <td id=\"T_030e4_row3_col2\" class=\"data row3 col2\" >39</td>\n",
       "      <td id=\"T_030e4_row3_col3\" class=\"data row3 col3\" >0.28</td>\n",
       "      <td id=\"T_030e4_row3_col4\" class=\"data row3 col4\" >1.38</td>\n",
       "    </tr>\n",
       "    <tr>\n",
       "      <th id=\"T_030e4_level0_row4\" class=\"row_heading level0 row4\" >25</th>\n",
       "      <td id=\"T_030e4_row4_col0\" class=\"data row4 col0\" >10</td>\n",
       "      <td id=\"T_030e4_row4_col1\" class=\"data row4 col1\" >7</td>\n",
       "      <td id=\"T_030e4_row4_col2\" class=\"data row4 col2\" >46</td>\n",
       "      <td id=\"T_030e4_row4_col3\" class=\"data row4 col3\" >0.33</td>\n",
       "      <td id=\"T_030e4_row4_col4\" class=\"data row4 col4\" >1.30</td>\n",
       "    </tr>\n",
       "    <tr>\n",
       "      <th id=\"T_030e4_level0_row5\" class=\"row_heading level0 row5\" >30</th>\n",
       "      <td id=\"T_030e4_row5_col0\" class=\"data row5 col0\" >10</td>\n",
       "      <td id=\"T_030e4_row5_col1\" class=\"data row5 col1\" >10</td>\n",
       "      <td id=\"T_030e4_row5_col2\" class=\"data row5 col2\" >56</td>\n",
       "      <td id=\"T_030e4_row5_col3\" class=\"data row5 col3\" >0.40</td>\n",
       "      <td id=\"T_030e4_row5_col4\" class=\"data row5 col4\" >1.32</td>\n",
       "    </tr>\n",
       "    <tr>\n",
       "      <th id=\"T_030e4_level0_row6\" class=\"row_heading level0 row6\" >35</th>\n",
       "      <td id=\"T_030e4_row6_col0\" class=\"data row6 col0\" >10</td>\n",
       "      <td id=\"T_030e4_row6_col1\" class=\"data row6 col1\" >9</td>\n",
       "      <td id=\"T_030e4_row6_col2\" class=\"data row6 col2\" >65</td>\n",
       "      <td id=\"T_030e4_row6_col3\" class=\"data row6 col3\" >0.46</td>\n",
       "      <td id=\"T_030e4_row6_col4\" class=\"data row6 col4\" >1.32</td>\n",
       "    </tr>\n",
       "    <tr>\n",
       "      <th id=\"T_030e4_level0_row7\" class=\"row_heading level0 row7\" >40</th>\n",
       "      <td id=\"T_030e4_row7_col0\" class=\"data row7 col0\" >10</td>\n",
       "      <td id=\"T_030e4_row7_col1\" class=\"data row7 col1\" >9</td>\n",
       "      <td id=\"T_030e4_row7_col2\" class=\"data row7 col2\" >74</td>\n",
       "      <td id=\"T_030e4_row7_col3\" class=\"data row7 col3\" >0.52</td>\n",
       "      <td id=\"T_030e4_row7_col4\" class=\"data row7 col4\" >1.31</td>\n",
       "    </tr>\n",
       "    <tr>\n",
       "      <th id=\"T_030e4_level0_row8\" class=\"row_heading level0 row8\" >45</th>\n",
       "      <td id=\"T_030e4_row8_col0\" class=\"data row8 col0\" >10</td>\n",
       "      <td id=\"T_030e4_row8_col1\" class=\"data row8 col1\" >7</td>\n",
       "      <td id=\"T_030e4_row8_col2\" class=\"data row8 col2\" >81</td>\n",
       "      <td id=\"T_030e4_row8_col3\" class=\"data row8 col3\" >0.57</td>\n",
       "      <td id=\"T_030e4_row8_col4\" class=\"data row8 col4\" >1.28</td>\n",
       "    </tr>\n",
       "    <tr>\n",
       "      <th id=\"T_030e4_level0_row9\" class=\"row_heading level0 row9\" >50</th>\n",
       "      <td id=\"T_030e4_row9_col0\" class=\"data row9 col0\" >10</td>\n",
       "      <td id=\"T_030e4_row9_col1\" class=\"data row9 col1\" >8</td>\n",
       "      <td id=\"T_030e4_row9_col2\" class=\"data row9 col2\" >89</td>\n",
       "      <td id=\"T_030e4_row9_col3\" class=\"data row9 col3\" >0.63</td>\n",
       "      <td id=\"T_030e4_row9_col4\" class=\"data row9 col4\" >1.26</td>\n",
       "    </tr>\n",
       "    <tr>\n",
       "      <th id=\"T_030e4_level0_row10\" class=\"row_heading level0 row10\" >55</th>\n",
       "      <td id=\"T_030e4_row10_col0\" class=\"data row10 col0\" >10</td>\n",
       "      <td id=\"T_030e4_row10_col1\" class=\"data row10 col1\" >7</td>\n",
       "      <td id=\"T_030e4_row10_col2\" class=\"data row10 col2\" >96</td>\n",
       "      <td id=\"T_030e4_row10_col3\" class=\"data row10 col3\" >0.68</td>\n",
       "      <td id=\"T_030e4_row10_col4\" class=\"data row10 col4\" >1.24</td>\n",
       "    </tr>\n",
       "    <tr>\n",
       "      <th id=\"T_030e4_level0_row11\" class=\"row_heading level0 row11\" >60</th>\n",
       "      <td id=\"T_030e4_row11_col0\" class=\"data row11 col0\" >10</td>\n",
       "      <td id=\"T_030e4_row11_col1\" class=\"data row11 col1\" >7</td>\n",
       "      <td id=\"T_030e4_row11_col2\" class=\"data row11 col2\" >103</td>\n",
       "      <td id=\"T_030e4_row11_col3\" class=\"data row11 col3\" >0.73</td>\n",
       "      <td id=\"T_030e4_row11_col4\" class=\"data row11 col4\" >1.22</td>\n",
       "    </tr>\n",
       "    <tr>\n",
       "      <th id=\"T_030e4_level0_row12\" class=\"row_heading level0 row12\" >65</th>\n",
       "      <td id=\"T_030e4_row12_col0\" class=\"data row12 col0\" >10</td>\n",
       "      <td id=\"T_030e4_row12_col1\" class=\"data row12 col1\" >7</td>\n",
       "      <td id=\"T_030e4_row12_col2\" class=\"data row12 col2\" >110</td>\n",
       "      <td id=\"T_030e4_row12_col3\" class=\"data row12 col3\" >0.78</td>\n",
       "      <td id=\"T_030e4_row12_col4\" class=\"data row12 col4\" >1.20</td>\n",
       "    </tr>\n",
       "    <tr>\n",
       "      <th id=\"T_030e4_level0_row13\" class=\"row_heading level0 row13\" >70</th>\n",
       "      <td id=\"T_030e4_row13_col0\" class=\"data row13 col0\" >10</td>\n",
       "      <td id=\"T_030e4_row13_col1\" class=\"data row13 col1\" >4</td>\n",
       "      <td id=\"T_030e4_row13_col2\" class=\"data row13 col2\" >114</td>\n",
       "      <td id=\"T_030e4_row13_col3\" class=\"data row13 col3\" >0.81</td>\n",
       "      <td id=\"T_030e4_row13_col4\" class=\"data row13 col4\" >1.16</td>\n",
       "    </tr>\n",
       "    <tr>\n",
       "      <th id=\"T_030e4_level0_row14\" class=\"row_heading level0 row14\" >75</th>\n",
       "      <td id=\"T_030e4_row14_col0\" class=\"data row14 col0\" >10</td>\n",
       "      <td id=\"T_030e4_row14_col1\" class=\"data row14 col1\" >8</td>\n",
       "      <td id=\"T_030e4_row14_col2\" class=\"data row14 col2\" >122</td>\n",
       "      <td id=\"T_030e4_row14_col3\" class=\"data row14 col3\" >0.87</td>\n",
       "      <td id=\"T_030e4_row14_col4\" class=\"data row14 col4\" >1.15</td>\n",
       "    </tr>\n",
       "    <tr>\n",
       "      <th id=\"T_030e4_level0_row15\" class=\"row_heading level0 row15\" >80</th>\n",
       "      <td id=\"T_030e4_row15_col0\" class=\"data row15 col0\" >10</td>\n",
       "      <td id=\"T_030e4_row15_col1\" class=\"data row15 col1\" >5</td>\n",
       "      <td id=\"T_030e4_row15_col2\" class=\"data row15 col2\" >127</td>\n",
       "      <td id=\"T_030e4_row15_col3\" class=\"data row15 col3\" >0.90</td>\n",
       "      <td id=\"T_030e4_row15_col4\" class=\"data row15 col4\" >1.13</td>\n",
       "    </tr>\n",
       "    <tr>\n",
       "      <th id=\"T_030e4_level0_row16\" class=\"row_heading level0 row16\" >85</th>\n",
       "      <td id=\"T_030e4_row16_col0\" class=\"data row16 col0\" >10</td>\n",
       "      <td id=\"T_030e4_row16_col1\" class=\"data row16 col1\" >5</td>\n",
       "      <td id=\"T_030e4_row16_col2\" class=\"data row16 col2\" >132</td>\n",
       "      <td id=\"T_030e4_row16_col3\" class=\"data row16 col3\" >0.94</td>\n",
       "      <td id=\"T_030e4_row16_col4\" class=\"data row16 col4\" >1.10</td>\n",
       "    </tr>\n",
       "    <tr>\n",
       "      <th id=\"T_030e4_level0_row17\" class=\"row_heading level0 row17\" >90</th>\n",
       "      <td id=\"T_030e4_row17_col0\" class=\"data row17 col0\" >10</td>\n",
       "      <td id=\"T_030e4_row17_col1\" class=\"data row17 col1\" >3</td>\n",
       "      <td id=\"T_030e4_row17_col2\" class=\"data row17 col2\" >135</td>\n",
       "      <td id=\"T_030e4_row17_col3\" class=\"data row17 col3\" >0.96</td>\n",
       "      <td id=\"T_030e4_row17_col4\" class=\"data row17 col4\" >1.06</td>\n",
       "    </tr>\n",
       "    <tr>\n",
       "      <th id=\"T_030e4_level0_row18\" class=\"row_heading level0 row18\" >95</th>\n",
       "      <td id=\"T_030e4_row18_col0\" class=\"data row18 col0\" >10</td>\n",
       "      <td id=\"T_030e4_row18_col1\" class=\"data row18 col1\" >4</td>\n",
       "      <td id=\"T_030e4_row18_col2\" class=\"data row18 col2\" >139</td>\n",
       "      <td id=\"T_030e4_row18_col3\" class=\"data row18 col3\" >0.99</td>\n",
       "      <td id=\"T_030e4_row18_col4\" class=\"data row18 col4\" >1.04</td>\n",
       "    </tr>\n",
       "    <tr>\n",
       "      <th id=\"T_030e4_level0_row19\" class=\"row_heading level0 row19\" >100</th>\n",
       "      <td id=\"T_030e4_row19_col0\" class=\"data row19 col0\" >10</td>\n",
       "      <td id=\"T_030e4_row19_col1\" class=\"data row19 col1\" >2</td>\n",
       "      <td id=\"T_030e4_row19_col2\" class=\"data row19 col2\" >141</td>\n",
       "      <td id=\"T_030e4_row19_col3\" class=\"data row19 col3\" >1.00</td>\n",
       "      <td id=\"T_030e4_row19_col4\" class=\"data row19 col4\" >1.00</td>\n",
       "    </tr>\n",
       "  </tbody>\n",
       "</table>\n"
      ],
      "text/plain": [
       "<pandas.io.formats.style.Styler at 0x7fbf84bb1f10>"
      ]
     },
     "execution_count": 41,
     "metadata": {},
     "output_type": "execute_result"
    }
   ],
   "source": [
    "evaluator.calculate_lift_gain(return_style=True, include_all_info=True)"
   ]
  },
  {
   "cell_type": "code",
   "execution_count": 42,
   "id": "b9028e2f",
   "metadata": {
    "pycharm": {
     "name": "#%%\n"
    }
   },
   "outputs": [],
   "source": [
    "del predicted_scores"
   ]
  },
  {
   "cell_type": "markdown",
   "id": "6d5b72e3",
   "metadata": {},
   "source": [
    "# Feature Importance\n",
    "\n",
    "https://scikit-learn.org/stable/auto_examples/ensemble/plot_forest_importances.html"
   ]
  },
  {
   "cell_type": "code",
   "execution_count": 53,
   "id": "66a1cb40",
   "metadata": {},
   "outputs": [
    {
     "name": "stdout",
     "output_type": "stream",
     "text": [
      "Elapsed time to compute the importances: 54.368 seconds\n"
     ]
    }
   ],
   "source": [
    "from sklearn.inspection import permutation_importance\n",
    "import time\n",
    "\n",
    "estimator = full_pipeline\n",
    "\n",
    "start_time = time.time()\n",
    "result = permutation_importance(\n",
    "    estimator, X_train, y_train, n_repeats=10, random_state=42, n_jobs=2\n",
    ")\n",
    "elapsed_time = time.time() - start_time\n",
    "print(f\"Elapsed time to compute the importances: {elapsed_time:.3f} seconds\")\n",
    "\n",
    "feature_names = X_train.columns.to_list()\n",
    "forest_importances = pd.Series(result.importances_mean, index=feature_names)\n",
    "forest_importances = forest_importances.sort_values(ascending=False)"
   ]
  },
  {
   "cell_type": "code",
   "execution_count": 54,
   "id": "c04d3bcc",
   "metadata": {},
   "outputs": [
    {
     "data": {
      "image/png": "[encoded data removed]",
      "text/plain": [
       "<Figure size 648x432 with 1 Axes>"
      ]
     },
     "metadata": {
      "needs_background": "light"
     },
     "output_type": "display_data"
    }
   ],
   "source": [
    "import matplotlib.pyplot as plt\n",
    "fig, ax = plt.subplots()\n",
    "forest_importances.plot.bar(yerr=result.importances_std, ax=ax)\n",
    "ax.set_title(\"Feature importances using permutation on full model\")\n",
    "ax.set_ylabel(\"Mean accuracy decrease\")\n",
    "fig.set_size_inches(9, 6)\n",
    "fig.tight_layout()\n",
    "plt.show()"
   ]
  }
 ],
 "metadata": {
  "kernelspec": {
   "display_name": "Python 3 (ipykernel)",
   "language": "python",
   "name": "python3"
  },
  "language_info": {
   "codemirror_mode": {
    "name": "ipython",
    "version": 3
   },
   "file_extension": ".py",
   "mimetype": "text/x-python",
   "name": "python",
   "nbconvert_exporter": "python",
   "pygments_lexer": "ipython3",
   "version": "3.9.6"
  },
  "toc": {
   "base_numbering": 1,
   "nav_menu": {},
   "number_sections": false,
   "sideBar": true,
   "skip_h1_title": false,
   "title_cell": "Table of Contents",
   "title_sidebar": "Contents",
   "toc_cell": false,
   "toc_position": {
    "height": "calc(100% - 180px)",
    "left": "10px",
    "top": "150px",
    "width": "298px"
   },
   "toc_section_display": true,
   "toc_window_display": true
  }
 },
 "nbformat": 4,
 "nbformat_minor": 5
}
