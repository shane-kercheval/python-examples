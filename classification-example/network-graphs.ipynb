{
 "cells": [
  {
   "cell_type": "code",
   "execution_count": 19,
   "metadata": {
    "collapsed": true
   },
   "outputs": [],
   "source": [
    "#from https://raw.githubusercontent.com/imohitmayank/got_network_viz_python/main/data/book1.csv\n",
    "got_characters_book_1_string = \"\"\"\n",
    "Source,Target,Type,weight,book\n",
    "Addam-Marbrand,Jaime-Lannister,Undirected,3,1\n",
    "Addam-Marbrand,Tywin-Lannister,Undirected,6,1\n",
    "Aegon-I-Targaryen,Daenerys-Targaryen,Undirected,5,1\n",
    "Aegon-I-Targaryen,Eddard-Stark,Undirected,4,1\n",
    "Aemon-Targaryen-(Maester-Aemon),Alliser-Thorne,Undirected,4,1\n",
    "Aemon-Targaryen-(Maester-Aemon),Bowen-Marsh,Undirected,4,1\n",
    "Aemon-Targaryen-(Maester-Aemon),Chett,Undirected,9,1\n",
    "Aemon-Targaryen-(Maester-Aemon),Clydas,Undirected,5,1\n",
    "Aemon-Targaryen-(Maester-Aemon),Jeor-Mormont,Undirected,13,1\n",
    "Aemon-Targaryen-(Maester-Aemon),Jon-Snow,Undirected,34,1\n",
    "Aemon-Targaryen-(Maester-Aemon),Samwell-Tarly,Undirected,5,1\n",
    "Aerys-II-Targaryen,Brandon-Stark,Undirected,4,1\n",
    "Aerys-II-Targaryen,Eddard-Stark,Undirected,10,1\n",
    "Aerys-II-Targaryen,Gerold-Hightower,Undirected,3,1\n",
    "Aerys-II-Targaryen,Jaime-Lannister,Undirected,5,1\n",
    "Aerys-II-Targaryen,Jon-Arryn,Undirected,3,1\n",
    "Aerys-II-Targaryen,Robert-Baratheon,Undirected,12,1\n",
    "Aggo,Daenerys-Targaryen,Undirected,11,1\n",
    "Aggo,Drogo,Undirected,6,1\n",
    "Aggo,Jhogo,Undirected,4,1\n",
    "Aggo,Jorah-Mormont,Undirected,5,1\n",
    "Aggo,Quaro,Undirected,3,1\n",
    "Aggo,Rakharo,Undirected,7,1\n",
    "Albett,Halder,Undirected,3,1\n",
    "Albett,Jon-Snow,Undirected,5,1\n",
    "Albett,Rast,Undirected,3,1\n",
    "Alliser-Thorne,Bowen-Marsh,Undirected,3,1\n",
    "Alliser-Thorne,Grenn,Undirected,3,1\n",
    "Alliser-Thorne,Halder,Undirected,4,1\n",
    "Alliser-Thorne,Jeor-Mormont,Undirected,10,1\n",
    "Alliser-Thorne,Jon-Snow,Undirected,32,1\n",
    "Alliser-Thorne,Pypar,Undirected,4,1\n",
    "Alliser-Thorne,Rast,Undirected,5,1\n",
    "Alliser-Thorne,Samwell-Tarly,Undirected,8,1\n",
    "Alliser-Thorne,Tyrion-Lannister,Undirected,7,1\n",
    "Alyn,Eddard-Stark,Undirected,11,1\n",
    "Alyn,Harwin,Undirected,6,1\n",
    "Alyn,Jory-Cassel,Undirected,8,1\n",
    "Alyn,Robert-Baratheon,Undirected,4,1\n",
    "Alyn,Tomard,Undirected,3,1\n",
    "Arthur-Dayne,Gerold-Hightower,Undirected,4,1\n",
    "Arya-Stark,Benjen-Stark,Undirected,3,1\n",
    "Arya-Stark,Bran-Stark,Undirected,14,1\n",
    "Arya-Stark,Catelyn-Stark,Undirected,5,1\n",
    "Arya-Stark,Cersei-Lannister,Undirected,12,1\n",
    "Arya-Stark,Desmond,Undirected,3,1\n",
    "Arya-Stark,Eddard-Stark,Undirected,30,1\n",
    "Arya-Stark,Ilyn-Payne,Undirected,5,1\n",
    "Arya-Stark,Jeyne-Poole,Undirected,10,1\n",
    "Arya-Stark,Joffrey-Baratheon,Undirected,39,1\n",
    "Arya-Stark,Jon-Snow,Undirected,37,1\n",
    "Arya-Stark,Jory-Cassel,Undirected,12,1\n",
    "Arya-Stark,Meryn-Trant,Undirected,4,1\n",
    "Arya-Stark,Mordane,Undirected,39,1\n",
    "Arya-Stark,Mycah,Undirected,18,1\n",
    "Arya-Stark,Myrcella-Baratheon,Undirected,13,1\n",
    "Arya-Stark,Petyr-Baelish,Undirected,3,1\n",
    "Arya-Stark,Rickon-Stark,Undirected,7,1\n",
    "Arya-Stark,Robb-Stark,Undirected,15,1\n",
    "Arya-Stark,Robert-Baratheon,Undirected,8,1\n",
    "Arya-Stark,Rodrik-Cassel,Undirected,3,1\n",
    "Arya-Stark,Sandor-Clegane,Undirected,7,1\n",
    "Arya-Stark,Sansa-Stark,Undirected,104,1\n",
    "Arya-Stark,Syrio-Forel,Undirected,20,1\n",
    "Arya-Stark,Tomard,Undirected,6,1\n",
    "Arya-Stark,Tommen-Baratheon,Undirected,5,1\n",
    "Arya-Stark,Vayon-Poole,Undirected,4,1\n",
    "Arya-Stark,Yoren,Undirected,4,1\n",
    "Arys-Oakheart,Cersei-Lannister,Undirected,3,1\n",
    "Balon-Greyjoy,Eddard-Stark,Undirected,3,1\n",
    "Balon-Greyjoy,Robert-Baratheon,Undirected,4,1\n",
    "Balon-Swann,Renly-Baratheon,Undirected,3,1\n",
    "Balon-Swann,Sandor-Clegane,Undirected,3,1\n",
    "Barristan-Selmy,Boros-Blount,Undirected,3,1\n",
    "Barristan-Selmy,Cersei-Lannister,Undirected,12,1\n",
    "Barristan-Selmy,Eddard-Stark,Undirected,28,1\n",
    "Barristan-Selmy,Jaime-Lannister,Undirected,4,1\n",
    "Barristan-Selmy,Joffrey-Baratheon,Undirected,6,1\n",
    "Barristan-Selmy,Jon-Arryn,Undirected,4,1\n",
    "Barristan-Selmy,Meryn-Trant,Undirected,3,1\n",
    "Barristan-Selmy,Petyr-Baelish,Undirected,7,1\n",
    "Barristan-Selmy,Pycelle,Undirected,8,1\n",
    "Barristan-Selmy,Renly-Baratheon,Undirected,13,1\n",
    "Barristan-Selmy,Robert-Baratheon,Undirected,40,1\n",
    "Barristan-Selmy,Sandor-Clegane,Undirected,3,1\n",
    "Barristan-Selmy,Sansa-Stark,Undirected,3,1\n",
    "Barristan-Selmy,Varys,Undirected,9,1\n",
    "Benjen-Stark,Bran-Stark,Undirected,6,1\n",
    "Benjen-Stark,Cersei-Lannister,Undirected,3,1\n",
    "Benjen-Stark,Jaremy-Rykker,Undirected,3,1\n",
    "Benjen-Stark,Jeor-Mormont,Undirected,9,1\n",
    "Benjen-Stark,Jon-Snow,Undirected,41,1\n",
    "Benjen-Stark,Luwin,Undirected,7,1\n",
    "Benjen-Stark,Mance-Rayder,Undirected,3,1\n",
    "Benjen-Stark,Robb-Stark,Undirected,7,1\n",
    "Benjen-Stark,Robert-Baratheon,Undirected,3,1\n",
    "Benjen-Stark,Theon-Greyjoy,Undirected,4,1\n",
    "Benjen-Stark,Tyrion-Lannister,Undirected,8,1\n",
    "Benjen-Stark,Waymar-Royce,Undirected,3,1\n",
    "Benjen-Stark,Yoren,Undirected,4,1\n",
    "Beric-Dondarrion,Eddard-Stark,Undirected,3,1\n",
    "Beric-Dondarrion,Gregor-Clegane,Undirected,6,1\n",
    "Beric-Dondarrion,Loras-Tyrell,Undirected,5,1\n",
    "Beric-Dondarrion,Robert-Baratheon,Undirected,5,1\n",
    "Beric-Dondarrion,Sansa-Stark,Undirected,4,1\n",
    "Beric-Dondarrion,Thoros-of-Myr,Undirected,5,1\n",
    "Boros-Blount,Cersei-Lannister,Undirected,9,1\n",
    "Boros-Blount,Joffrey-Baratheon,Undirected,3,1\n",
    "Boros-Blount,Meryn-Trant,Undirected,5,1\n",
    "Boros-Blount,Sansa-Stark,Undirected,6,1\n",
    "Bowen-Marsh,Jeor-Mormont,Undirected,8,1\n",
    "Bowen-Marsh,Jon-Snow,Undirected,10,1\n",
    "Bowen-Marsh,Samwell-Tarly,Undirected,3,1\n",
    "Bran-Stark,Catelyn-Stark,Undirected,18,1\n",
    "Bran-Stark,Cersei-Lannister,Undirected,6,1\n",
    "Bran-Stark,Eddard-Stark,Undirected,19,1\n",
    "Bran-Stark,Hali,Undirected,3,1\n",
    "Bran-Stark,Hallis-Mollen,Undirected,3,1\n",
    "Bran-Stark,Hodor,Undirected,29,1\n",
    "Bran-Stark,Hullen,Undirected,3,1\n",
    "Bran-Stark,Jeor-Mormont,Undirected,4,1\n",
    "Bran-Stark,Joffrey-Baratheon,Undirected,3,1\n",
    "Bran-Stark,Jon-Arryn,Undirected,7,1\n",
    "Bran-Stark,Jon-Snow,Undirected,56,1\n",
    "Bran-Stark,Jory-Cassel,Undirected,11,1\n",
    "Bran-Stark,Joseth,Undirected,4,1\n",
    "Bran-Stark,Luwin,Undirected,65,1\n",
    "Bran-Stark,Nan,Undirected,17,1\n",
    "Bran-Stark,Osha,Undirected,12,1\n",
    "Bran-Stark,Petyr-Baelish,Undirected,3,1\n",
    "Bran-Stark,Renly-Baratheon,Undirected,3,1\n",
    "Bran-Stark,Rickard-Karstark,Undirected,4,1\n",
    "Bran-Stark,Rickard-Stark,Undirected,4,1\n",
    "Bran-Stark,Rickon-Stark,Undirected,32,1\n",
    "Bran-Stark,Robb-Stark,Undirected,112,1\n",
    "Bran-Stark,Robert-Baratheon,Undirected,11,1\n",
    "Bran-Stark,Rodrik-Cassel,Undirected,6,1\n",
    "Bran-Stark,Sansa-Stark,Undirected,10,1\n",
    "Bran-Stark,Stiv,Undirected,4,1\n",
    "Bran-Stark,Theon-Greyjoy,Undirected,23,1\n",
    "Bran-Stark,Tommen-Baratheon,Undirected,5,1\n",
    "Bran-Stark,Tyrion-Lannister,Undirected,31,1\n",
    "Bran-Stark,Yoren,Undirected,3,1\n",
    "Brandon-Stark,Eddard-Stark,Undirected,11,1\n",
    "Brandon-Stark,Lyanna-Stark,Undirected,4,1\n",
    "Brandon-Stark,Petyr-Baelish,Undirected,14,1\n",
    "Brandon-Stark,Rickard-Stark,Undirected,3,1\n",
    "Brandon-Stark,Robert-Baratheon,Undirected,5,1\n",
    "Bronn,Catelyn-Stark,Undirected,6,1\n",
    "Bronn,Chiggen,Undirected,8,1\n",
    "Bronn,Marillion,Undirected,4,1\n",
    "Bronn,Rodrik-Cassel,Undirected,4,1\n",
    "Bronn,Shae,Undirected,3,1\n",
    "Bronn,Shagga,Undirected,3,1\n",
    "Bronn,Tyrion-Lannister,Undirected,61,1\n",
    "Bronn,Tywin-Lannister,Undirected,4,1\n",
    "Bronn,Vardis-Egen,Undirected,11,1\n",
    "Bronn,Willis-Wode,Undirected,5,1\n",
    "Brynden-Tully,Catelyn-Stark,Undirected,16,1\n",
    "Brynden-Tully,Edmure-Tully,Undirected,3,1\n",
    "Brynden-Tully,Hoster-Tully,Undirected,5,1\n",
    "Brynden-Tully,Jaime-Lannister,Undirected,7,1\n",
    "Brynden-Tully,Lysa-Arryn,Undirected,10,1\n",
    "Brynden-Tully,Nestor-Royce,Undirected,3,1\n",
    "Brynden-Tully,Robb-Stark,Undirected,9,1\n",
    "Brynden-Tully,Theon-Greyjoy,Undirected,6,1\n",
    "Brynden-Tully,Tyrion-Lannister,Undirected,4,1\n",
    "Brynden-Tully,Tywin-Lannister,Undirected,3,1\n",
    "Brynden-Tully,Walder-Frey,Undirected,3,1\n",
    "Catelyn-Stark,Cersei-Lannister,Undirected,12,1\n",
    "Catelyn-Stark,Colemon,Undirected,3,1\n",
    "Catelyn-Stark,Donnel-Waynwood,Undirected,3,1\n",
    "Catelyn-Stark,Eddard-Stark,Undirected,64,1\n",
    "Catelyn-Stark,Edmure-Tully,Undirected,7,1\n",
    "Catelyn-Stark,Eon-Hunter,Undirected,3,1\n",
    "Catelyn-Stark,Hallis-Mollen,Undirected,10,1\n",
    "Catelyn-Stark,Hoster-Tully,Undirected,6,1\n",
    "Catelyn-Stark,Jaime-Lannister,Undirected,9,1\n",
    "Catelyn-Stark,Joffrey-Baratheon,Undirected,4,1\n",
    "Catelyn-Stark,Jon-Arryn,Undirected,11,1\n",
    "Catelyn-Stark,Jon-Snow,Undirected,14,1\n",
    "Catelyn-Stark,Jon-Umber-(Greatjon),Undirected,4,1\n",
    "Catelyn-Stark,Luwin,Undirected,14,1\n",
    "Catelyn-Stark,Lysa-Arryn,Undirected,33,1\n",
    "Catelyn-Stark,Marillion,Undirected,6,1\n",
    "Catelyn-Stark,Masha-Heddle,Undirected,5,1\n",
    "Catelyn-Stark,Moreo-Tumitis,Undirected,3,1\n",
    "Catelyn-Stark,Mya-Stone,Undirected,9,1\n",
    "Catelyn-Stark,Mychel-Redfort,Undirected,3,1\n",
    "Catelyn-Stark,Nestor-Royce,Undirected,3,1\n",
    "Catelyn-Stark,Petyr-Baelish,Undirected,22,1\n",
    "Catelyn-Stark,Rickard-Karstark,Undirected,6,1\n",
    "Catelyn-Stark,Rickon-Stark,Undirected,3,1\n",
    "Catelyn-Stark,Robb-Stark,Undirected,49,1\n",
    "Catelyn-Stark,Robert-Arryn,Undirected,3,1\n",
    "Catelyn-Stark,Robert-Baratheon,Undirected,22,1\n",
    "Catelyn-Stark,Rodrik-Cassel,Undirected,25,1\n",
    "Catelyn-Stark,Sansa-Stark,Undirected,9,1\n",
    "Catelyn-Stark,Stevron-Frey,Undirected,5,1\n",
    "Catelyn-Stark,Theon-Greyjoy,Undirected,9,1\n",
    "Catelyn-Stark,Tyrion-Lannister,Undirected,49,1\n",
    "Catelyn-Stark,Tytos-Blackwood,Undirected,4,1\n",
    "Catelyn-Stark,Tywin-Lannister,Undirected,7,1\n",
    "Catelyn-Stark,Vardis-Egen,Undirected,5,1\n",
    "Catelyn-Stark,Varys,Undirected,10,1\n",
    "Catelyn-Stark,Walder-Frey,Undirected,13,1\n",
    "Catelyn-Stark,Wendel-Manderly,Undirected,3,1\n",
    "Catelyn-Stark,Willis-Wode,Undirected,5,1\n",
    "Cayn,Eddard-Stark,Undirected,7,1\n",
    "Cayn,Renly-Baratheon,Undirected,3,1\n",
    "Cayn,Tomard,Undirected,6,1\n",
    "Cersei-Lannister,Eddard-Stark,Undirected,69,1\n",
    "Cersei-Lannister,Ilyn-Payne,Undirected,4,1\n",
    "Cersei-Lannister,Jaime-Lannister,Undirected,16,1\n",
    "Cersei-Lannister,Janos-Slynt,Undirected,4,1\n",
    "Cersei-Lannister,Joffrey-Baratheon,Undirected,42,1\n",
    "Cersei-Lannister,Jon-Arryn,Undirected,7,1\n",
    "Cersei-Lannister,Jon-Snow,Undirected,4,1\n",
    "Cersei-Lannister,Jory-Cassel,Undirected,5,1\n",
    "Cersei-Lannister,Meryn-Trant,Undirected,4,1\n",
    "Cersei-Lannister,Mordane,Undirected,3,1\n",
    "Cersei-Lannister,Myrcella-Baratheon,Undirected,7,1\n",
    "Cersei-Lannister,Petyr-Baelish,Undirected,13,1\n",
    "Cersei-Lannister,Pycelle,Undirected,9,1\n",
    "Cersei-Lannister,Renly-Baratheon,Undirected,5,1\n",
    "Cersei-Lannister,Robert-Baratheon,Undirected,72,1\n",
    "Cersei-Lannister,Sandor-Clegane,Undirected,5,1\n",
    "Cersei-Lannister,Sansa-Stark,Undirected,29,1\n",
    "Cersei-Lannister,Stannis-Baratheon,Undirected,5,1\n",
    "Cersei-Lannister,Tommen-Baratheon,Undirected,4,1\n",
    "Cersei-Lannister,Tyrion-Lannister,Undirected,27,1\n",
    "Cersei-Lannister,Tywin-Lannister,Undirected,10,1\n",
    "Cersei-Lannister,Varys,Undirected,19,1\n",
    "Cersei-Lannister,Vayon-Poole,Undirected,4,1\n",
    "Chella,Tyrion-Lannister,Undirected,5,1\n",
    "Chett,Jon-Snow,Undirected,4,1\n",
    "Chett,Samwell-Tarly,Undirected,6,1\n",
    "Chiggen,Tyrion-Lannister,Undirected,5,1\n",
    "Chiggen,Willis-Wode,Undirected,3,1\n",
    "Clement-Piper,Karyl-Vance,Undirected,4,1\n",
    "Cohollo,Daenerys-Targaryen,Undirected,7,1\n",
    "Cohollo,Drogo,Undirected,9,1\n",
    "Cohollo,Haggo,Undirected,7,1\n",
    "Cohollo,Qotho,Undirected,6,1\n",
    "Colemon,Vardis-Egen,Undirected,4,1\n",
    "Conn,Coratt,Undirected,5,1\n",
    "Conn,Shagga,Undirected,9,1\n",
    "Conn,Tyrion-Lannister,Undirected,6,1\n",
    "Daenerys-Targaryen,Doreah,Undirected,15,1\n",
    "Daenerys-Targaryen,Drogo,Undirected,101,1\n",
    "Daenerys-Targaryen,Eddard-Stark,Undirected,5,1\n",
    "Daenerys-Targaryen,Eroeh,Undirected,5,1\n",
    "Daenerys-Targaryen,Haggo,Undirected,12,1\n",
    "Daenerys-Targaryen,Illyrio-Mopatis,Undirected,24,1\n",
    "Daenerys-Targaryen,Irri,Undirected,25,1\n",
    "Daenerys-Targaryen,Jhiqui,Undirected,26,1\n",
    "Daenerys-Targaryen,Jhogo,Undirected,17,1\n",
    "Daenerys-Targaryen,Jorah-Mormont,Undirected,75,1\n",
    "Daenerys-Targaryen,Mirri-Maz-Duur,Undirected,31,1\n",
    "Daenerys-Targaryen,Qotho,Undirected,18,1\n",
    "Daenerys-Targaryen,Quaro,Undirected,5,1\n",
    "Daenerys-Targaryen,Rakharo,Undirected,4,1\n",
    "Daenerys-Targaryen,Rhaegar-Targaryen,Undirected,4,1\n",
    "Daenerys-Targaryen,Robert-Baratheon,Undirected,11,1\n",
    "Daenerys-Targaryen,Varys,Undirected,5,1\n",
    "Daenerys-Targaryen,Viserys-Targaryen,Undirected,37,1\n",
    "Danwell-Frey,Hosteen-Frey,Undirected,3,1\n",
    "Danwell-Frey,Jared-Frey,Undirected,3,1\n",
    "Danwell-Frey,Walder-Frey,Undirected,3,1\n",
    "Dareon,Jon-Snow,Undirected,6,1\n",
    "Daryn-Hornwood,Eddard-Stark,Undirected,3,1\n",
    "Daryn-Hornwood,Torrhen-Karstark,Undirected,3,1\n",
    "Desmond,Eddard-Stark,Undirected,4,1\n",
    "Dolf,Shagga,Undirected,7,1\n",
    "Donal-Noye,Jon-Snow,Undirected,7,1\n",
    "Doreah,Drogo,Undirected,5,1\n",
    "Doreah,Irri,Undirected,14,1\n",
    "Doreah,Jhiqui,Undirected,11,1\n",
    "Doreah,Jorah-Mormont,Undirected,3,1\n",
    "Doreah,Viserys-Targaryen,Undirected,3,1\n",
    "Drogo,Haggo,Undirected,9,1\n",
    "Drogo,Illyrio-Mopatis,Undirected,16,1\n",
    "Drogo,Irri,Undirected,9,1\n",
    "Drogo,Jhiqui,Undirected,5,1\n",
    "Drogo,Jhogo,Undirected,7,1\n",
    "Drogo,Jommo,Undirected,3,1\n",
    "Drogo,Jorah-Mormont,Undirected,16,1\n",
    "Drogo,Mirri-Maz-Duur,Undirected,12,1\n",
    "Drogo,Ogo,Undirected,11,1\n",
    "Drogo,Qotho,Undirected,13,1\n",
    "Drogo,Quaro,Undirected,3,1\n",
    "Drogo,Rakharo,Undirected,4,1\n",
    "Drogo,Rhaego,Undirected,5,1\n",
    "Drogo,Robert-Baratheon,Undirected,3,1\n",
    "Drogo,Viserys-Targaryen,Undirected,19,1\n",
    "Dywen,Jon-Snow,Undirected,4,1\n",
    "Eddard-Stark,Edmure-Tully,Undirected,3,1\n",
    "Eddard-Stark,Galbart-Glover,Undirected,4,1\n",
    "Eddard-Stark,Gendry,Undirected,3,1\n",
    "Eddard-Stark,Gerold-Hightower,Undirected,3,1\n",
    "Eddard-Stark,Gregor-Clegane,Undirected,10,1\n",
    "Eddard-Stark,Harwin,Undirected,5,1\n",
    "Eddard-Stark,High-Septon-(fat_one),Undirected,4,1\n",
    "Eddard-Stark,Howland-Reed,Undirected,3,1\n",
    "Eddard-Stark,Ilyn-Payne,Undirected,6,1\n",
    "Eddard-Stark,Jacks,Undirected,4,1\n",
    "Eddard-Stark,Jaime-Lannister,Undirected,27,1\n",
    "Eddard-Stark,Janos-Slynt,Undirected,4,1\n",
    "Eddard-Stark,Joffrey-Baratheon,Undirected,26,1\n",
    "Eddard-Stark,Jon-Arryn,Undirected,47,1\n",
    "Eddard-Stark,Jon-Snow,Undirected,38,1\n",
    "Eddard-Stark,Jory-Cassel,Undirected,32,1\n",
    "Eddard-Stark,Joss,Undirected,5,1\n",
    "Eddard-Stark,Loras-Tyrell,Undirected,12,1\n",
    "Eddard-Stark,Luwin,Undirected,16,1\n",
    "Eddard-Stark,Lyanna-Stark,Undirected,19,1\n",
    "Eddard-Stark,Lysa-Arryn,Undirected,12,1\n",
    "Eddard-Stark,Marq-Piper,Undirected,3,1\n",
    "Eddard-Stark,Mordane,Undirected,11,1\n",
    "Eddard-Stark,Mycah,Undirected,3,1\n",
    "Eddard-Stark,Petyr-Baelish,Undirected,81,1\n",
    "Eddard-Stark,Porther,Undirected,4,1\n",
    "Eddard-Stark,Pycelle,Undirected,33,1\n",
    "Eddard-Stark,Raymun-Darry,Undirected,4,1\n",
    "Eddard-Stark,Renly-Baratheon,Undirected,33,1\n",
    "Eddard-Stark,Rhaegar-Targaryen,Undirected,10,1\n",
    "Eddard-Stark,Rickard-Karstark,Undirected,4,1\n",
    "Eddard-Stark,Rickon-Stark,Undirected,4,1\n",
    "Eddard-Stark,Robb-Stark,Undirected,16,1\n",
    "Eddard-Stark,Robert-Baratheon,Undirected,291,1\n",
    "Eddard-Stark,Rodrik-Cassel,Undirected,7,1\n",
    "Eddard-Stark,Sandor-Clegane,Undirected,10,1\n",
    "Eddard-Stark,Sansa-Stark,Undirected,34,1\n",
    "Eddard-Stark,Stannis-Baratheon,Undirected,18,1\n",
    "Eddard-Stark,Syrio-Forel,Undirected,6,1\n",
    "Eddard-Stark,Theon-Greyjoy,Undirected,5,1\n",
    "Eddard-Stark,Tobho-Mott,Undirected,7,1\n",
    "Eddard-Stark,Tomard,Undirected,15,1\n",
    "Eddard-Stark,Torrhen-Karstark,Undirected,5,1\n",
    "Eddard-Stark,Tregar,Undirected,4,1\n",
    "Eddard-Stark,Tyrion-Lannister,Undirected,21,1\n",
    "Eddard-Stark,Tywin-Lannister,Undirected,18,1\n",
    "Eddard-Stark,Varly,Undirected,4,1\n",
    "Eddard-Stark,Varys,Undirected,61,1\n",
    "Eddard-Stark,Vayon-Poole,Undirected,12,1\n",
    "Eddard-Stark,Wyl-(guard),Undirected,3,1\n",
    "Eddard-Stark,Wylla,Undirected,3,1\n",
    "Edmure-Tully,Hoster-Tully,Undirected,7,1\n",
    "Edmure-Tully,Jaime-Lannister,Undirected,4,1\n",
    "Edmure-Tully,Karyl-Vance,Undirected,4,1\n",
    "Edmure-Tully,Lysa-Arryn,Undirected,5,1\n",
    "Edmure-Tully,Marq-Piper,Undirected,3,1\n",
    "Edmure-Tully,Petyr-Baelish,Undirected,4,1\n",
    "Edmure-Tully,Robb-Stark,Undirected,5,1\n",
    "Edmure-Tully,Tytos-Blackwood,Undirected,3,1\n",
    "Eon-Hunter,Lysa-Arryn,Undirected,3,1\n",
    "Eon-Hunter,Vardis-Egen,Undirected,3,1\n",
    "Fogo,Ogo,Undirected,4,1\n",
    "Galbart-Glover,Jaime-Lannister,Undirected,3,1\n",
    "Galbart-Glover,Jon-Umber-(Greatjon),Undirected,4,1\n",
    "Galbart-Glover,Rickard-Karstark,Undirected,4,1\n",
    "Galbart-Glover,Robb-Stark,Undirected,5,1\n",
    "Galbart-Glover,Roose-Bolton,Undirected,3,1\n",
    "Gared,Jeor-Mormont,Undirected,4,1\n",
    "Gared,Waymar-Royce,Undirected,13,1\n",
    "Gared,Will-(prologue),Undirected,12,1\n",
    "Gerold-Hightower,Oswell-Whent,Undirected,3,1\n",
    "Gerold-Hightower,Robert-Baratheon,Undirected,4,1\n",
    "Gregor-Clegane,Jaime-Lannister,Undirected,3,1\n",
    "Gregor-Clegane,Loras-Tyrell,Undirected,10,1\n",
    "Gregor-Clegane,Marq-Piper,Undirected,6,1\n",
    "Gregor-Clegane,Petyr-Baelish,Undirected,3,1\n",
    "Gregor-Clegane,Pycelle,Undirected,3,1\n",
    "Gregor-Clegane,Robert-Baratheon,Undirected,4,1\n",
    "Gregor-Clegane,Sandor-Clegane,Undirected,11,1\n",
    "Gregor-Clegane,Sansa-Stark,Undirected,5,1\n",
    "Gregor-Clegane,Tyrion-Lannister,Undirected,7,1\n",
    "Gregor-Clegane,Tywin-Lannister,Undirected,6,1\n",
    "Grenn,Halder,Undirected,6,1\n",
    "Grenn,Jeor-Mormont,Undirected,3,1\n",
    "Grenn,Jon-Snow,Undirected,31,1\n",
    "Grenn,Pypar,Undirected,27,1\n",
    "Grenn,Samwell-Tarly,Undirected,8,1\n",
    "Grenn,Todder,Undirected,7,1\n",
    "Gunthor-son-of-Gurn,Tyrion-Lannister,Undirected,7,1\n",
    "Haggo,Mirri-Maz-Duur,Undirected,3,1\n",
    "Haggo,Qotho,Undirected,11,1\n",
    "Haggo,Rakharo,Undirected,3,1\n",
    "Halder,Jon-Snow,Undirected,23,1\n",
    "Halder,Pypar,Undirected,8,1\n",
    "Halder,Rast,Undirected,3,1\n",
    "Halder,Samwell-Tarly,Undirected,6,1\n",
    "Halder,Todder,Undirected,3,1\n",
    "Hallis-Mollen,Luwin,Undirected,4,1\n",
    "Hallis-Mollen,Robb-Stark,Undirected,13,1\n",
    "Hallis-Mollen,Theon-Greyjoy,Undirected,7,1\n",
    "Harwin,Hullen,Undirected,3,1\n",
    "Harwin,Jory-Cassel,Undirected,4,1\n",
    "Harys-Swyft,Jaime-Lannister,Undirected,3,1\n",
    "Heward,Jory-Cassel,Undirected,5,1\n",
    "Heward,Wyl-(guard),Undirected,3,1\n",
    "High-Septon-(fat_one),Joffrey-Baratheon,Undirected,4,1\n",
    "Hobb,Jon-Snow,Undirected,5,1\n",
    "Hodor,Luwin,Undirected,10,1\n",
    "Hodor,Nan,Undirected,8,1\n",
    "Hodor,Robb-Stark,Undirected,5,1\n",
    "Hosteen-Frey,Jared-Frey,Undirected,3,1\n",
    "Hoster-Tully,Lysa-Arryn,Undirected,3,1\n",
    "Hoster-Tully,Robert-Baratheon,Undirected,3,1\n",
    "Hugh,Jon-Arryn,Undirected,3,1\n",
    "Hullen,Jory-Cassel,Undirected,5,1\n",
    "Hullen,Luwin,Undirected,3,1\n",
    "Hullen,Robb-Stark,Undirected,3,1\n",
    "Hullen,Rodrik-Cassel,Undirected,3,1\n",
    "Illyrio-Mopatis,Irri,Undirected,3,1\n",
    "Illyrio-Mopatis,Jorah-Mormont,Undirected,7,1\n",
    "Illyrio-Mopatis,Robert-Baratheon,Undirected,6,1\n",
    "Illyrio-Mopatis,Viserys-Targaryen,Undirected,14,1\n",
    "Ilyn-Payne,Jeyne-Poole,Undirected,3,1\n",
    "Ilyn-Payne,Joffrey-Baratheon,Undirected,4,1\n",
    "Ilyn-Payne,Loras-Tyrell,Undirected,3,1\n",
    "Ilyn-Payne,Robert-Baratheon,Undirected,4,1\n",
    "Ilyn-Payne,Sansa-Stark,Undirected,9,1\n",
    "Ilyn-Payne,Varys,Undirected,5,1\n",
    "Irri,Jhiqui,Undirected,14,1\n",
    "Irri,Jhogo,Undirected,7,1\n",
    "Irri,Jorah-Mormont,Undirected,4,1\n",
    "Irri,Viserys-Targaryen,Undirected,5,1\n",
    "Jafer-Flowers,Jaremy-Rykker,Undirected,3,1\n",
    "Jaime-Lannister,Joffrey-Baratheon,Undirected,12,1\n",
    "Jaime-Lannister,Jon-Arryn,Undirected,5,1\n",
    "Jaime-Lannister,Jory-Cassel,Undirected,4,1\n",
    "Jaime-Lannister,Kevan-Lannister,Undirected,4,1\n",
    "Jaime-Lannister,Loras-Tyrell,Undirected,3,1\n",
    "Jaime-Lannister,Lysa-Arryn,Undirected,6,1\n",
    "Jaime-Lannister,Petyr-Baelish,Undirected,7,1\n",
    "Jaime-Lannister,Renly-Baratheon,Undirected,4,1\n",
    "Jaime-Lannister,Rickard-Karstark,Undirected,3,1\n",
    "Jaime-Lannister,Robb-Stark,Undirected,9,1\n",
    "Jaime-Lannister,Robert-Baratheon,Undirected,24,1\n",
    "Jaime-Lannister,Rodrik-Cassel,Undirected,3,1\n",
    "Jaime-Lannister,Sandor-Clegane,Undirected,12,1\n",
    "Jaime-Lannister,Sansa-Stark,Undirected,3,1\n",
    "Jaime-Lannister,Tyrion-Lannister,Undirected,36,1\n",
    "Jaime-Lannister,Tywin-Lannister,Undirected,16,1\n",
    "Jaime-Lannister,Varys,Undirected,3,1\n",
    "Jaime-Lannister,Wyl-(guard),Undirected,3,1\n",
    "Janos-Slynt,Joffrey-Baratheon,Undirected,4,1\n",
    "Janos-Slynt,Petyr-Baelish,Undirected,3,1\n",
    "Janos-Slynt,Pycelle,Undirected,3,1\n",
    "Janos-Slynt,Robert-Baratheon,Undirected,4,1\n",
    "Janos-Slynt,Sansa-Stark,Undirected,3,1\n",
    "Jaremy-Rykker,Jeor-Mormont,Undirected,11,1\n",
    "Jaremy-Rykker,Jon-Snow,Undirected,7,1\n",
    "Jeor-Mormont,Jon-Snow,Undirected,81,1\n",
    "Jeor-Mormont,Robert-Baratheon,Undirected,4,1\n",
    "Jeor-Mormont,Samwell-Tarly,Undirected,8,1\n",
    "Jeor-Mormont,Tyrion-Lannister,Undirected,23,1\n",
    "Jeor-Mormont,Yoren,Undirected,3,1\n",
    "Jeyne-Poole,Loras-Tyrell,Undirected,4,1\n",
    "Jeyne-Poole,Mordane,Undirected,7,1\n",
    "Jeyne-Poole,Robert-Baratheon,Undirected,3,1\n",
    "Jeyne-Poole,Sansa-Stark,Undirected,27,1\n",
    "Jhiqui,Jorah-Mormont,Undirected,4,1\n",
    "Jhogo,Jorah-Mormont,Undirected,5,1\n",
    "Jhogo,Mirri-Maz-Duur,Undirected,3,1\n",
    "Joffrey-Baratheon,Jon-Snow,Undirected,10,1\n",
    "Joffrey-Baratheon,Loras-Tyrell,Undirected,3,1\n",
    "Joffrey-Baratheon,Meryn-Trant,Undirected,3,1\n",
    "Joffrey-Baratheon,Mordane,Undirected,9,1\n",
    "Joffrey-Baratheon,Mycah,Undirected,14,1\n",
    "Joffrey-Baratheon,Myrcella-Baratheon,Undirected,5,1\n",
    "Joffrey-Baratheon,Petyr-Baelish,Undirected,11,1\n",
    "Joffrey-Baratheon,Pycelle,Undirected,4,1\n",
    "Joffrey-Baratheon,Renly-Baratheon,Undirected,9,1\n",
    "Joffrey-Baratheon,Robb-Stark,Undirected,19,1\n",
    "Joffrey-Baratheon,Robert-Baratheon,Undirected,30,1\n",
    "Joffrey-Baratheon,Rodrik-Cassel,Undirected,9,1\n",
    "Joffrey-Baratheon,Sandor-Clegane,Undirected,24,1\n",
    "Joffrey-Baratheon,Sansa-Stark,Undirected,87,1\n",
    "Joffrey-Baratheon,Stannis-Baratheon,Undirected,7,1\n",
    "Joffrey-Baratheon,Tommen-Baratheon,Undirected,8,1\n",
    "Joffrey-Baratheon,Tyrion-Lannister,Undirected,13,1\n",
    "Joffrey-Baratheon,Tywin-Lannister,Undirected,3,1\n",
    "Joffrey-Baratheon,Varys,Undirected,7,1\n",
    "Jommo,Ogo,Undirected,3,1\n",
    "Jon-Arryn,Lysa-Arryn,Undirected,12,1\n",
    "Jon-Arryn,Petyr-Baelish,Undirected,4,1\n",
    "Jon-Arryn,Pycelle,Undirected,11,1\n",
    "Jon-Arryn,Robert-Baratheon,Undirected,32,1\n",
    "Jon-Arryn,Stannis-Baratheon,Undirected,13,1\n",
    "Jon-Arryn,Tyrion-Lannister,Undirected,5,1\n",
    "Jon-Arryn,Varys,Undirected,5,1\n",
    "Jon-Snow,Jory-Cassel,Undirected,3,1\n",
    "Jon-Snow,Luwin,Undirected,10,1\n",
    "Jon-Snow,Matthar,Undirected,3,1\n",
    "Jon-Snow,Mordane,Undirected,4,1\n",
    "Jon-Snow,Othor,Undirected,5,1\n",
    "Jon-Snow,Pypar,Undirected,45,1\n",
    "Jon-Snow,Rast,Undirected,8,1\n",
    "Jon-Snow,Rickon-Stark,Undirected,11,1\n",
    "Jon-Snow,Robb-Stark,Undirected,53,1\n",
    "Jon-Snow,Robert-Baratheon,Undirected,18,1\n",
    "Jon-Snow,Rodrik-Cassel,Undirected,3,1\n",
    "Jon-Snow,Samwell-Tarly,Undirected,81,1\n",
    "Jon-Snow,Sansa-Stark,Undirected,8,1\n",
    "Jon-Snow,Theon-Greyjoy,Undirected,8,1\n",
    "Jon-Snow,Todder,Undirected,13,1\n",
    "Jon-Snow,Tyrion-Lannister,Undirected,56,1\n",
    "Jon-Snow,Yoren,Undirected,6,1\n",
    "Jon-Umber-(Greatjon),Maege-Mormont,Undirected,5,1\n",
    "Jon-Umber-(Greatjon),Rickard-Karstark,Undirected,7,1\n",
    "Jon-Umber-(Greatjon),Robb-Stark,Undirected,8,1\n",
    "Jon-Umber-(Greatjon),Roose-Bolton,Undirected,3,1\n",
    "Jon-Umber-(Greatjon),Theon-Greyjoy,Undirected,5,1\n",
    "Jon-Umber-(Greatjon),Tywin-Lannister,Undirected,3,1\n",
    "Jonos-Bracken,Tytos-Blackwood,Undirected,3,1\n",
    "Jorah-Mormont,Mirri-Maz-Duur,Undirected,5,1\n",
    "Jorah-Mormont,Qotho,Undirected,7,1\n",
    "Jorah-Mormont,Rhaegar-Targaryen,Undirected,5,1\n",
    "Jorah-Mormont,Robert-Baratheon,Undirected,3,1\n",
    "Jorah-Mormont,Viserys-Targaryen,Undirected,15,1\n",
    "Jory-Cassel,Mordane,Undirected,3,1\n",
    "Jory-Cassel,Petyr-Baelish,Undirected,8,1\n",
    "Jory-Cassel,Robb-Stark,Undirected,9,1\n",
    "Jory-Cassel,Robert-Baratheon,Undirected,7,1\n",
    "Jory-Cassel,Rodrik-Cassel,Undirected,5,1\n",
    "Jory-Cassel,Sansa-Stark,Undirected,9,1\n",
    "Jory-Cassel,Stannis-Baratheon,Undirected,3,1\n",
    "Jory-Cassel,Theon-Greyjoy,Undirected,3,1\n",
    "Jory-Cassel,Tomard,Undirected,5,1\n",
    "Jory-Cassel,Vayon-Poole,Undirected,5,1\n",
    "Jory-Cassel,Wyl-(guard),Undirected,6,1\n",
    "Joseth,Luwin,Undirected,3,1\n",
    "Jyck,Morrec,Undirected,5,1\n",
    "Jyck,Tyrion-Lannister,Undirected,6,1\n",
    "Karyl-Vance,Marq-Piper,Undirected,3,1\n",
    "Kevan-Lannister,Tyrion-Lannister,Undirected,15,1\n",
    "Kevan-Lannister,Tywin-Lannister,Undirected,9,1\n",
    "Kurleket,Tyrion-Lannister,Undirected,5,1\n",
    "Lancel-Lannister,Robert-Baratheon,Undirected,3,1\n",
    "Leo-Lefford,Tyrion-Lannister,Undirected,4,1\n",
    "Loras-Tyrell,Mace-Tyrell,Undirected,3,1\n",
    "Loras-Tyrell,Petyr-Baelish,Undirected,5,1\n",
    "Loras-Tyrell,Renly-Baratheon,Undirected,5,1\n",
    "Loras-Tyrell,Robert-Baratheon,Undirected,4,1\n",
    "Loras-Tyrell,Rodrik-Cassel,Undirected,3,1\n",
    "Loras-Tyrell,Sandor-Clegane,Undirected,4,1\n",
    "Loras-Tyrell,Sansa-Stark,Undirected,14,1\n",
    "Luwin,Nan,Undirected,4,1\n",
    "Luwin,Osha,Undirected,16,1\n",
    "Luwin,Rickard-Karstark,Undirected,3,1\n",
    "Luwin,Rickon-Stark,Undirected,9,1\n",
    "Luwin,Robb-Stark,Undirected,20,1\n",
    "Luwin,Rodrik-Cassel,Undirected,3,1\n",
    "Luwin,Theon-Greyjoy,Undirected,10,1\n",
    "Luwin,Tommen-Baratheon,Undirected,3,1\n",
    "Luwin,Tyrion-Lannister,Undirected,10,1\n",
    "Lyanna-Stark,Robert-Baratheon,Undirected,9,1\n",
    "Lyanna-Stark,Sansa-Stark,Undirected,4,1\n",
    "Lyn-Corbray,Lysa-Arryn,Undirected,3,1\n",
    "Lysa-Arryn,Petyr-Baelish,Undirected,4,1\n",
    "Lysa-Arryn,Robert-Arryn,Undirected,8,1\n",
    "Lysa-Arryn,Robert-Baratheon,Undirected,5,1\n",
    "Lysa-Arryn,Stannis-Baratheon,Undirected,4,1\n",
    "Lysa-Arryn,Tyrion-Lannister,Undirected,25,1\n",
    "Lysa-Arryn,Vardis-Egen,Undirected,5,1\n",
    "Mace-Tyrell,Paxter-Redwyne,Undirected,3,1\n",
    "Maege-Mormont,Rickard-Karstark,Undirected,3,1\n",
    "Maegor-I-Targaryen,Sansa-Stark,Undirected,4,1\n",
    "Marillion,Rodrik-Cassel,Undirected,5,1\n",
    "Marillion,Tyrion-Lannister,Undirected,10,1\n",
    "Marillion,Willis-Wode,Undirected,4,1\n",
    "Marq-Piper,Tywin-Lannister,Undirected,3,1\n",
    "Meryn-Trant,Robert-Baratheon,Undirected,3,1\n",
    "Meryn-Trant,Sandor-Clegane,Undirected,4,1\n",
    "Meryn-Trant,Sansa-Stark,Undirected,5,1\n",
    "Meryn-Trant,Syrio-Forel,Undirected,5,1\n",
    "Mirri-Maz-Duur,Qotho,Undirected,9,1\n",
    "Mord,Tyrion-Lannister,Undirected,20,1\n",
    "Mordane,Myrcella-Baratheon,Undirected,12,1\n",
    "Mordane,Petyr-Baelish,Undirected,3,1\n",
    "Mordane,Robert-Baratheon,Undirected,7,1\n",
    "Mordane,Sansa-Stark,Undirected,43,1\n",
    "Morrec,Tyrion-Lannister,Undirected,5,1\n",
    "Mycah,Sandor-Clegane,Undirected,5,1\n",
    "Mycah,Sansa-Stark,Undirected,10,1\n",
    "Myrcella-Baratheon,Robert-Baratheon,Undirected,3,1\n",
    "Myrcella-Baratheon,Sansa-Stark,Undirected,8,1\n",
    "Myrcella-Baratheon,Tommen-Baratheon,Undirected,6,1\n",
    "Nan,Robb-Stark,Undirected,4,1\n",
    "Osha,Robb-Stark,Undirected,3,1\n",
    "Petyr-Baelish,Pycelle,Undirected,14,1\n",
    "Petyr-Baelish,Renly-Baratheon,Undirected,12,1\n",
    "Petyr-Baelish,Robert-Baratheon,Undirected,30,1\n",
    "Petyr-Baelish,Rodrik-Cassel,Undirected,7,1\n",
    "Petyr-Baelish,Sandor-Clegane,Undirected,3,1\n",
    "Petyr-Baelish,Sansa-Stark,Undirected,8,1\n",
    "Petyr-Baelish,Tomard,Undirected,4,1\n",
    "Petyr-Baelish,Tyrion-Lannister,Undirected,11,1\n",
    "Petyr-Baelish,Varys,Undirected,29,1\n",
    "Pycelle,Renly-Baratheon,Undirected,7,1\n",
    "Pycelle,Robert-Baratheon,Undirected,26,1\n",
    "Pycelle,Sansa-Stark,Undirected,8,1\n",
    "Pycelle,Stannis-Baratheon,Undirected,3,1\n",
    "Pycelle,Tywin-Lannister,Undirected,4,1\n",
    "Pycelle,Varys,Undirected,17,1\n",
    "Pypar,Rast,Undirected,4,1\n",
    "Pypar,Samwell-Tarly,Undirected,11,1\n",
    "Pypar,Todder,Undirected,8,1\n",
    "Qotho,Quaro,Undirected,4,1\n",
    "Quaro,Rakharo,Undirected,6,1\n",
    "Randyll-Tarly,Samwell-Tarly,Undirected,5,1\n",
    "Rast,Samwell-Tarly,Undirected,3,1\n",
    "Raymun-Darry,Robert-Baratheon,Undirected,8,1\n",
    "Renly-Baratheon,Robb-Stark,Undirected,3,1\n",
    "Renly-Baratheon,Robert-Baratheon,Undirected,42,1\n",
    "Renly-Baratheon,Sandor-Clegane,Undirected,7,1\n",
    "Renly-Baratheon,Sansa-Stark,Undirected,5,1\n",
    "Renly-Baratheon,Stannis-Baratheon,Undirected,19,1\n",
    "Renly-Baratheon,Tyrion-Lannister,Undirected,4,1\n",
    "Renly-Baratheon,Varys,Undirected,9,1\n",
    "Rhaegar-Targaryen,Robert-Baratheon,Undirected,22,1\n",
    "Rhaegar-Targaryen,Sansa-Stark,Undirected,3,1\n",
    "Rhaegar-Targaryen,Tywin-Lannister,Undirected,4,1\n",
    "Rhaegar-Targaryen,Viserys-Targaryen,Undirected,5,1\n",
    "Rickard-Karstark,Robb-Stark,Undirected,9,1\n",
    "Rickard-Karstark,Roose-Bolton,Undirected,3,1\n",
    "Rickon-Stark,Robb-Stark,Undirected,20,1\n",
    "Rickon-Stark,Sansa-Stark,Undirected,8,1\n",
    "Rickon-Stark,Tyrion-Lannister,Undirected,4,1\n",
    "Robb-Stark,Robert-Baratheon,Undirected,6,1\n",
    "Robb-Stark,Rodrik-Cassel,Undirected,15,1\n",
    "Robb-Stark,Roose-Bolton,Undirected,6,1\n",
    "Robb-Stark,Samwell-Tarly,Undirected,4,1\n",
    "Robb-Stark,Sansa-Stark,Undirected,13,1\n",
    "Robb-Stark,Stiv,Undirected,3,1\n",
    "Robb-Stark,Theon-Greyjoy,Undirected,37,1\n",
    "Robb-Stark,Torrhen-Karstark,Undirected,3,1\n",
    "Robb-Stark,Tyrion-Lannister,Undirected,11,1\n",
    "Robb-Stark,Tywin-Lannister,Undirected,9,1\n",
    "Robb-Stark,Walder-Frey,Undirected,7,1\n",
    "Robb-Stark,Wendel-Manderly,Undirected,3,1\n",
    "Robb-Stark,Yoren,Undirected,3,1\n",
    "Robert-Arryn,Tyrion-Lannister,Undirected,9,1\n",
    "Robert-Baratheon,Sandor-Clegane,Undirected,9,1\n",
    "Robert-Baratheon,Sansa-Stark,Undirected,26,1\n",
    "Robert-Baratheon,Stannis-Baratheon,Undirected,21,1\n",
    "Robert-Baratheon,Tommen-Baratheon,Undirected,3,1\n",
    "Robert-Baratheon,Tyrion-Lannister,Undirected,18,1\n",
    "Robert-Baratheon,Tywin-Lannister,Undirected,13,1\n",
    "Robert-Baratheon,Varys,Undirected,36,1\n",
    "Robert-Baratheon,Vayon-Poole,Undirected,3,1\n",
    "Robert-Baratheon,Viserys-Targaryen,Undirected,7,1\n",
    "Rodrik-Cassel,Theon-Greyjoy,Undirected,6,1\n",
    "Rodrik-Cassel,Tyrion-Lannister,Undirected,10,1\n",
    "Rodrik-Cassel,Willis-Wode,Undirected,7,1\n",
    "Roose-Bolton,Tywin-Lannister,Undirected,4,1\n",
    "Sandor-Clegane,Sansa-Stark,Undirected,23,1\n",
    "Sandor-Clegane,Tyrion-Lannister,Undirected,5,1\n",
    "Sansa-Stark,Stannis-Baratheon,Undirected,3,1\n",
    "Sansa-Stark,Tomard,Undirected,3,1\n",
    "Sansa-Stark,Tyrion-Lannister,Undirected,3,1\n",
    "Sansa-Stark,Varys,Undirected,4,1\n",
    "Shae,Tyrion-Lannister,Undirected,12,1\n",
    "Shagga,Timett,Undirected,4,1\n",
    "Shagga,Tyrion-Lannister,Undirected,17,1\n",
    "Shagga,Ulf-son-of-Umar,Undirected,4,1\n",
    "Stannis-Baratheon,Tywin-Lannister,Undirected,4,1\n",
    "Stannis-Baratheon,Varys,Undirected,5,1\n",
    "Stevron-Frey,Walder-Frey,Undirected,3,1\n",
    "Theon-Greyjoy,Tyrion-Lannister,Undirected,3,1\n",
    "Theon-Greyjoy,Tywin-Lannister,Undirected,3,1\n",
    "Theon-Greyjoy,Walder-Frey,Undirected,4,1\n",
    "Timett,Tyrion-Lannister,Undirected,3,1\n",
    "Tommen-Baratheon,Tyrion-Lannister,Undirected,3,1\n",
    "Tyrion-Lannister,Tywin-Lannister,Undirected,40,1\n",
    "Tyrion-Lannister,Vardis-Egen,Undirected,9,1\n",
    "Tyrion-Lannister,Varys,Undirected,3,1\n",
    "Tyrion-Lannister,Willis-Wode,Undirected,4,1\n",
    "Tyrion-Lannister,Yoren,Undirected,10,1\n",
    "Tywin-Lannister,Varys,Undirected,4,1\n",
    "Tywin-Lannister,Walder-Frey,Undirected,8,1\n",
    "Waymar-Royce,Will-(prologue),Undirected,18,1\n",
    "\"\"\""
   ]
  },
  {
   "cell_type": "markdown",
   "source": [
    "# Create sample edges_df and nodes_df"
   ],
   "metadata": {
    "collapsed": false,
    "pycharm": {
     "name": "#%% md\n"
    }
   }
  },
  {
   "cell_type": "code",
   "execution_count": 78,
   "outputs": [
    {
     "data": {
      "text/plain": "                            Source              Target        Type  weight  \\\n0                   Addam-Marbrand     Jaime-Lannister  Undirected       3   \n1                   Addam-Marbrand     Tywin-Lannister  Undirected       6   \n2                Aegon-I-Targaryen  Daenerys-Targaryen  Undirected       5   \n3                Aegon-I-Targaryen        Eddard-Stark  Undirected       4   \n4  Aemon-Targaryen-(Maester-Aemon)      Alliser-Thorne  Undirected       4   \n\n   book  \n0     1  \n1     1  \n2     1  \n3     1  \n4     1  ",
      "text/html": "<div>\n<style scoped>\n    .dataframe tbody tr th:only-of-type {\n        vertical-align: middle;\n    }\n\n    .dataframe tbody tr th {\n        vertical-align: top;\n    }\n\n    .dataframe thead th {\n        text-align: right;\n    }\n</style>\n<table border=\"1\" class=\"dataframe\">\n  <thead>\n    <tr style=\"text-align: right;\">\n      <th></th>\n      <th>Source</th>\n      <th>Target</th>\n      <th>Type</th>\n      <th>weight</th>\n      <th>book</th>\n    </tr>\n  </thead>\n  <tbody>\n    <tr>\n      <th>0</th>\n      <td>Addam-Marbrand</td>\n      <td>Jaime-Lannister</td>\n      <td>Undirected</td>\n      <td>3</td>\n      <td>1</td>\n    </tr>\n    <tr>\n      <th>1</th>\n      <td>Addam-Marbrand</td>\n      <td>Tywin-Lannister</td>\n      <td>Undirected</td>\n      <td>6</td>\n      <td>1</td>\n    </tr>\n    <tr>\n      <th>2</th>\n      <td>Aegon-I-Targaryen</td>\n      <td>Daenerys-Targaryen</td>\n      <td>Undirected</td>\n      <td>5</td>\n      <td>1</td>\n    </tr>\n    <tr>\n      <th>3</th>\n      <td>Aegon-I-Targaryen</td>\n      <td>Eddard-Stark</td>\n      <td>Undirected</td>\n      <td>4</td>\n      <td>1</td>\n    </tr>\n    <tr>\n      <th>4</th>\n      <td>Aemon-Targaryen-(Maester-Aemon)</td>\n      <td>Alliser-Thorne</td>\n      <td>Undirected</td>\n      <td>4</td>\n      <td>1</td>\n    </tr>\n  </tbody>\n</table>\n</div>"
     },
     "execution_count": 78,
     "metadata": {},
     "output_type": "execute_result"
    }
   ],
   "source": [
    "import sys\n",
    "from io import StringIO\n",
    "import pandas as pd\n",
    "\n",
    "got_characters_book_1_io = StringIO(got_characters_book_1_string)\n",
    "got_characters_book_1 = pd.read_csv(got_characters_book_1_io)\n",
    "got_characters_book_1.head()"
   ],
   "metadata": {
    "collapsed": false,
    "pycharm": {
     "name": "#%%\n"
    }
   }
  },
  {
   "cell_type": "code",
   "execution_count": 79,
   "outputs": [
    {
     "data": {
      "text/plain": "                source              target  weight\n0       Addam-Marbrand     Jaime-Lannister       3\n1       Addam-Marbrand     Tywin-Lannister       6\n2    Aegon-I-Targaryen  Daenerys-Targaryen       5\n3    Aegon-I-Targaryen        Eddard-Stark       4\n4      Aemon-Targaryen      Alliser-Thorne       4\n5      Aemon-Targaryen         Bowen-Marsh       4\n6      Aemon-Targaryen               Chett       9\n7      Aemon-Targaryen              Clydas       5\n8      Aemon-Targaryen        Jeor-Mormont      13\n9      Aemon-Targaryen            Jon-Snow      34\n10     Aemon-Targaryen       Samwell-Tarly       5\n11  Aerys-II-Targaryen       Brandon-Stark       4\n12  Aerys-II-Targaryen        Eddard-Stark      10\n13  Aerys-II-Targaryen    Gerold-Hightower       3\n14  Aerys-II-Targaryen     Jaime-Lannister       5\n15  Aerys-II-Targaryen           Jon-Arryn       3\n16  Aerys-II-Targaryen    Robert-Baratheon      12\n17                Aggo  Daenerys-Targaryen      11\n18                Aggo               Drogo       6\n19                Aggo               Jhogo       4",
      "text/html": "<div>\n<style scoped>\n    .dataframe tbody tr th:only-of-type {\n        vertical-align: middle;\n    }\n\n    .dataframe tbody tr th {\n        vertical-align: top;\n    }\n\n    .dataframe thead th {\n        text-align: right;\n    }\n</style>\n<table border=\"1\" class=\"dataframe\">\n  <thead>\n    <tr style=\"text-align: right;\">\n      <th></th>\n      <th>source</th>\n      <th>target</th>\n      <th>weight</th>\n    </tr>\n  </thead>\n  <tbody>\n    <tr>\n      <th>0</th>\n      <td>Addam-Marbrand</td>\n      <td>Jaime-Lannister</td>\n      <td>3</td>\n    </tr>\n    <tr>\n      <th>1</th>\n      <td>Addam-Marbrand</td>\n      <td>Tywin-Lannister</td>\n      <td>6</td>\n    </tr>\n    <tr>\n      <th>2</th>\n      <td>Aegon-I-Targaryen</td>\n      <td>Daenerys-Targaryen</td>\n      <td>5</td>\n    </tr>\n    <tr>\n      <th>3</th>\n      <td>Aegon-I-Targaryen</td>\n      <td>Eddard-Stark</td>\n      <td>4</td>\n    </tr>\n    <tr>\n      <th>4</th>\n      <td>Aemon-Targaryen</td>\n      <td>Alliser-Thorne</td>\n      <td>4</td>\n    </tr>\n    <tr>\n      <th>5</th>\n      <td>Aemon-Targaryen</td>\n      <td>Bowen-Marsh</td>\n      <td>4</td>\n    </tr>\n    <tr>\n      <th>6</th>\n      <td>Aemon-Targaryen</td>\n      <td>Chett</td>\n      <td>9</td>\n    </tr>\n    <tr>\n      <th>7</th>\n      <td>Aemon-Targaryen</td>\n      <td>Clydas</td>\n      <td>5</td>\n    </tr>\n    <tr>\n      <th>8</th>\n      <td>Aemon-Targaryen</td>\n      <td>Jeor-Mormont</td>\n      <td>13</td>\n    </tr>\n    <tr>\n      <th>9</th>\n      <td>Aemon-Targaryen</td>\n      <td>Jon-Snow</td>\n      <td>34</td>\n    </tr>\n    <tr>\n      <th>10</th>\n      <td>Aemon-Targaryen</td>\n      <td>Samwell-Tarly</td>\n      <td>5</td>\n    </tr>\n    <tr>\n      <th>11</th>\n      <td>Aerys-II-Targaryen</td>\n      <td>Brandon-Stark</td>\n      <td>4</td>\n    </tr>\n    <tr>\n      <th>12</th>\n      <td>Aerys-II-Targaryen</td>\n      <td>Eddard-Stark</td>\n      <td>10</td>\n    </tr>\n    <tr>\n      <th>13</th>\n      <td>Aerys-II-Targaryen</td>\n      <td>Gerold-Hightower</td>\n      <td>3</td>\n    </tr>\n    <tr>\n      <th>14</th>\n      <td>Aerys-II-Targaryen</td>\n      <td>Jaime-Lannister</td>\n      <td>5</td>\n    </tr>\n    <tr>\n      <th>15</th>\n      <td>Aerys-II-Targaryen</td>\n      <td>Jon-Arryn</td>\n      <td>3</td>\n    </tr>\n    <tr>\n      <th>16</th>\n      <td>Aerys-II-Targaryen</td>\n      <td>Robert-Baratheon</td>\n      <td>12</td>\n    </tr>\n    <tr>\n      <th>17</th>\n      <td>Aggo</td>\n      <td>Daenerys-Targaryen</td>\n      <td>11</td>\n    </tr>\n    <tr>\n      <th>18</th>\n      <td>Aggo</td>\n      <td>Drogo</td>\n      <td>6</td>\n    </tr>\n    <tr>\n      <th>19</th>\n      <td>Aggo</td>\n      <td>Jhogo</td>\n      <td>4</td>\n    </tr>\n  </tbody>\n</table>\n</div>"
     },
     "execution_count": 79,
     "metadata": {},
     "output_type": "execute_result"
    }
   ],
   "source": [
    "edges_df = got_characters_book_1.drop(columns=['book', 'Type'])\n",
    "edges_df.columns = edges_df.columns.str.lower()\n",
    "edges_df.source = edges_df.source.str.replace('-(Maester-Aemon)', '', regex=False)\n",
    "edges_df.target = edges_df.target.str.replace('-(Maester-Aemon)', '', regex=False)\n",
    "edges_df.head(20)"
   ],
   "metadata": {
    "collapsed": false,
    "pycharm": {
     "name": "#%%\n"
    }
   }
  },
  {
   "cell_type": "code",
   "execution_count": 80,
   "outputs": [
    {
     "data": {
      "text/plain": "                  weight\ntarget                  \nRobert-Baratheon     805\nTyrion-Lannister     584\nSansa-Stark          532\nJon-Snow             449\nRobb-Stark           396\n...                  ...\nMoreo-Tumitis          3\nMychel-Redfort         3\nOswell-Whent           3\nPaxter-Redwyne         3\nMatthar                3\n\n[143 rows x 1 columns]",
      "text/html": "<div>\n<style scoped>\n    .dataframe tbody tr th:only-of-type {\n        vertical-align: middle;\n    }\n\n    .dataframe tbody tr th {\n        vertical-align: top;\n    }\n\n    .dataframe thead th {\n        text-align: right;\n    }\n</style>\n<table border=\"1\" class=\"dataframe\">\n  <thead>\n    <tr style=\"text-align: right;\">\n      <th></th>\n      <th>weight</th>\n    </tr>\n    <tr>\n      <th>target</th>\n      <th></th>\n    </tr>\n  </thead>\n  <tbody>\n    <tr>\n      <th>Robert-Baratheon</th>\n      <td>805</td>\n    </tr>\n    <tr>\n      <th>Tyrion-Lannister</th>\n      <td>584</td>\n    </tr>\n    <tr>\n      <th>Sansa-Stark</th>\n      <td>532</td>\n    </tr>\n    <tr>\n      <th>Jon-Snow</th>\n      <td>449</td>\n    </tr>\n    <tr>\n      <th>Robb-Stark</th>\n      <td>396</td>\n    </tr>\n    <tr>\n      <th>...</th>\n      <td>...</td>\n    </tr>\n    <tr>\n      <th>Moreo-Tumitis</th>\n      <td>3</td>\n    </tr>\n    <tr>\n      <th>Mychel-Redfort</th>\n      <td>3</td>\n    </tr>\n    <tr>\n      <th>Oswell-Whent</th>\n      <td>3</td>\n    </tr>\n    <tr>\n      <th>Paxter-Redwyne</th>\n      <td>3</td>\n    </tr>\n    <tr>\n      <th>Matthar</th>\n      <td>3</td>\n    </tr>\n  </tbody>\n</table>\n<p>143 rows × 1 columns</p>\n</div>"
     },
     "execution_count": 80,
     "metadata": {},
     "output_type": "execute_result"
    }
   ],
   "source": [
    "edges_df.groupby('target').agg(sum).sort_values('weight', ascending=False)"
   ],
   "metadata": {
    "collapsed": false,
    "pycharm": {
     "name": "#%%\n"
    }
   }
  },
  {
   "cell_type": "code",
   "execution_count": 81,
   "outputs": [
    {
     "data": {
      "text/plain": "                 name  weight\n42       Eddard-Stark  1284.0\n124  Robert-Baratheon   941.0\n79           Jon-Snow   784.0\n136  Tyrion-Lannister   650.0\n128       Sansa-Stark   545.0",
      "text/html": "<div>\n<style scoped>\n    .dataframe tbody tr th:only-of-type {\n        vertical-align: middle;\n    }\n\n    .dataframe tbody tr th {\n        vertical-align: top;\n    }\n\n    .dataframe thead th {\n        text-align: right;\n    }\n</style>\n<table border=\"1\" class=\"dataframe\">\n  <thead>\n    <tr style=\"text-align: right;\">\n      <th></th>\n      <th>name</th>\n      <th>weight</th>\n    </tr>\n  </thead>\n  <tbody>\n    <tr>\n      <th>42</th>\n      <td>Eddard-Stark</td>\n      <td>1284.0</td>\n    </tr>\n    <tr>\n      <th>124</th>\n      <td>Robert-Baratheon</td>\n      <td>941.0</td>\n    </tr>\n    <tr>\n      <th>79</th>\n      <td>Jon-Snow</td>\n      <td>784.0</td>\n    </tr>\n    <tr>\n      <th>136</th>\n      <td>Tyrion-Lannister</td>\n      <td>650.0</td>\n    </tr>\n    <tr>\n      <th>128</th>\n      <td>Sansa-Stark</td>\n      <td>545.0</td>\n    </tr>\n  </tbody>\n</table>\n</div>"
     },
     "execution_count": 81,
     "metadata": {},
     "output_type": "execute_result"
    }
   ],
   "source": [
    "all_items = list(set(edges_df.source.tolist() + edges_df.target.tolist()))\n",
    "\n",
    "node_df = edges_df.groupby('source').agg(sum).reset_index().merge(\n",
    "    edges_df.groupby('target').agg(sum).reset_index(),\n",
    "    left_on='source',\n",
    "    right_on='target',\n",
    "    how='outer'\n",
    ")\n",
    "node_df['name'] = node_df['source'].combine_first(node_df['target'])\n",
    "node_df['weight'] = node_df['weight_x'].fillna(value=0) + node_df['weight_y'].fillna(value=0)\n",
    "node_df = node_df[['name', 'weight']].sort_values('weight', ascending=False)\n",
    "\n",
    "assert node_df.shape[0] == len(all_items)\n",
    "\n",
    "node_df.head()"
   ],
   "metadata": {
    "collapsed": false,
    "pycharm": {
     "name": "#%%\n"
    }
   }
  },
  {
   "cell_type": "code",
   "execution_count": 82,
   "outputs": [
    {
     "name": "stdout",
     "output_type": "stream",
     "text": [
      "10\n"
     ]
    },
    {
     "data": {
      "text/plain": "['Stark', 'Baratheon', 'Snow', 'Lannister', 'Targaryen', 'Baelish', 'Other', 'Mormont', 'Arryn', 'Cassel']\nCategories (10, object): ['Stark', 'Other', 'Baratheon', 'Lannister', ..., 'Mormont', 'Arryn', 'Baelish', 'Cassel']"
     },
     "execution_count": 82,
     "metadata": {},
     "output_type": "execute_result"
    }
   ],
   "source": [
    "import helpsk as hlp\n",
    "import numpy as np\n",
    "def create_category(x):\n",
    "    names = x.split('-')\n",
    "    if len(names) == 1:\n",
    "        return 'Other'\n",
    "    return names[len(names) - 1]\n",
    "node_df['category'] = node_df['name'].apply(create_category)\n",
    "node_df['category'] = hlp.pandas.top_n_categories(\n",
    "    categorical=node_df['category'],\n",
    "    weights=node_df['weight'],\n",
    "    weight_function=np.sum,\n",
    "    top_n=10\n",
    ")\n",
    "print(len(node_df['category'].unique()))\n",
    "node_df['category'].unique()"
   ],
   "metadata": {
    "collapsed": false,
    "pycharm": {
     "name": "#%%\n"
    }
   }
  },
  {
   "cell_type": "markdown",
   "source": [
    "---"
   ],
   "metadata": {
    "collapsed": false,
    "pycharm": {
     "name": "#%% md\n"
    }
   }
  },
  {
   "cell_type": "code",
   "execution_count": 83,
   "outputs": [
    {
     "data": {
      "text/plain": "              source              target  weight\n0     Addam-Marbrand     Jaime-Lannister       3\n1     Addam-Marbrand     Tywin-Lannister       6\n2  Aegon-I-Targaryen  Daenerys-Targaryen       5\n3  Aegon-I-Targaryen        Eddard-Stark       4\n4    Aemon-Targaryen      Alliser-Thorne       4",
      "text/html": "<div>\n<style scoped>\n    .dataframe tbody tr th:only-of-type {\n        vertical-align: middle;\n    }\n\n    .dataframe tbody tr th {\n        vertical-align: top;\n    }\n\n    .dataframe thead th {\n        text-align: right;\n    }\n</style>\n<table border=\"1\" class=\"dataframe\">\n  <thead>\n    <tr style=\"text-align: right;\">\n      <th></th>\n      <th>source</th>\n      <th>target</th>\n      <th>weight</th>\n    </tr>\n  </thead>\n  <tbody>\n    <tr>\n      <th>0</th>\n      <td>Addam-Marbrand</td>\n      <td>Jaime-Lannister</td>\n      <td>3</td>\n    </tr>\n    <tr>\n      <th>1</th>\n      <td>Addam-Marbrand</td>\n      <td>Tywin-Lannister</td>\n      <td>6</td>\n    </tr>\n    <tr>\n      <th>2</th>\n      <td>Aegon-I-Targaryen</td>\n      <td>Daenerys-Targaryen</td>\n      <td>5</td>\n    </tr>\n    <tr>\n      <th>3</th>\n      <td>Aegon-I-Targaryen</td>\n      <td>Eddard-Stark</td>\n      <td>4</td>\n    </tr>\n    <tr>\n      <th>4</th>\n      <td>Aemon-Targaryen</td>\n      <td>Alliser-Thorne</td>\n      <td>4</td>\n    </tr>\n  </tbody>\n</table>\n</div>"
     },
     "execution_count": 83,
     "metadata": {},
     "output_type": "execute_result"
    }
   ],
   "source": [
    "edges_df.head()"
   ],
   "metadata": {
    "collapsed": false,
    "pycharm": {
     "name": "#%%\n"
    }
   }
  },
  {
   "cell_type": "code",
   "execution_count": 84,
   "outputs": [
    {
     "data": {
      "text/plain": "                 name  weight   category\n42       Eddard-Stark  1284.0      Stark\n124  Robert-Baratheon   941.0  Baratheon\n79           Jon-Snow   784.0       Snow\n136  Tyrion-Lannister   650.0  Lannister\n128       Sansa-Stark   545.0      Stark",
      "text/html": "<div>\n<style scoped>\n    .dataframe tbody tr th:only-of-type {\n        vertical-align: middle;\n    }\n\n    .dataframe tbody tr th {\n        vertical-align: top;\n    }\n\n    .dataframe thead th {\n        text-align: right;\n    }\n</style>\n<table border=\"1\" class=\"dataframe\">\n  <thead>\n    <tr style=\"text-align: right;\">\n      <th></th>\n      <th>name</th>\n      <th>weight</th>\n      <th>category</th>\n    </tr>\n  </thead>\n  <tbody>\n    <tr>\n      <th>42</th>\n      <td>Eddard-Stark</td>\n      <td>1284.0</td>\n      <td>Stark</td>\n    </tr>\n    <tr>\n      <th>124</th>\n      <td>Robert-Baratheon</td>\n      <td>941.0</td>\n      <td>Baratheon</td>\n    </tr>\n    <tr>\n      <th>79</th>\n      <td>Jon-Snow</td>\n      <td>784.0</td>\n      <td>Snow</td>\n    </tr>\n    <tr>\n      <th>136</th>\n      <td>Tyrion-Lannister</td>\n      <td>650.0</td>\n      <td>Lannister</td>\n    </tr>\n    <tr>\n      <th>128</th>\n      <td>Sansa-Stark</td>\n      <td>545.0</td>\n      <td>Stark</td>\n    </tr>\n  </tbody>\n</table>\n</div>"
     },
     "execution_count": 84,
     "metadata": {},
     "output_type": "execute_result"
    }
   ],
   "source": [
    "node_df.head()"
   ],
   "metadata": {
    "collapsed": false,
    "pycharm": {
     "name": "#%%\n"
    }
   }
  },
  {
   "cell_type": "markdown",
   "source": [
    "# Graph Function"
   ],
   "metadata": {
    "collapsed": false,
    "pycharm": {
     "name": "#%% md\n"
    }
   }
  },
  {
   "cell_type": "code",
   "execution_count": 98,
   "outputs": [],
   "source": [
    "def plot_network_graph(edges: pd.DataFrame,\n",
    "                       source: str,\n",
    "                       target: str,\n",
    "                       directional=False,\n",
    "                       edges_weight: str=None,\n",
    "                       nodes: pd.DataFrame=None,\n",
    "                       node_names: str=None,\n",
    "                       nodes_weight: str=None,\n",
    "                       nodes_category: str=None,\n",
    "                       width=900,\n",
    "                       height=900,\n",
    "                       seed=None\n",
    "                       ):\n",
    "    # most of the code is adopted from https://github.com/rweng18/midsummer_network/blob/master/midsummer_graph.ipynb\n",
    "    from sklearn.preprocessing import MinMaxScaler\n",
    "    import plotly.offline as py\n",
    "    import plotly.graph_objects as go\n",
    "    import networkx as nx\n",
    "\n",
    "    assert nodes is None or node_names is not None\n",
    "\n",
    "    def make_edge(x, y, text, width, color):\n",
    "        \"\"\"\n",
    "        Creates a scatter trace for the edge between x's and y's with given width\n",
    "\n",
    "        Parameters\n",
    "        ----------\n",
    "        x    : a tuple of the endpoints' x-coordinates in the form, tuple([x0, x1, None])\n",
    "\n",
    "        y    : a tuple of the endpoints' y-coordinates in the form, tuple([y0, y1, None])\n",
    "\n",
    "        width: the width of the line\n",
    "\n",
    "        Returns\n",
    "        -------\n",
    "        An edge trace that goes between x0 and x1 with specified width.\n",
    "        \"\"\"\n",
    "        return  go.Scatter(\n",
    "            x=x,\n",
    "            y=y,\n",
    "            line=dict(\n",
    "                width=width,\n",
    "                color=color\n",
    "            ),\n",
    "            hoverinfo='text',\n",
    "            text=([text]),\n",
    "            mode='lines'\n",
    "        )\n",
    "\n",
    "    if edges_weight:\n",
    "        edges['edges_size'] = MinMaxScaler(feature_range=(1, 3)).\\\n",
    "            fit_transform(pd.DataFrame(edges.loc[:, edges_weight]))\n",
    "    else:\n",
    "        edges['edges_size'] = 1\n",
    "\n",
    "    if nodes_weight:\n",
    "        nodes['nodes_size'] = MinMaxScaler(feature_range=(1, 5)).\\\n",
    "            fit_transform(pd.DataFrame(nodes.loc[:, nodes_weight]))\n",
    "    else:\n",
    "        nodes['nodes_size'] = 1\n",
    "\n",
    "    node_color_lookup = None\n",
    "    if nodes_category:\n",
    "        color_values = [c.value for c in hlp.color.Colors]\n",
    "        category_values = nodes[nodes_category].unique().tolist()\n",
    "        category_values.sort()\n",
    "        assert len(color_values) > len(category_values)\n",
    "        node_color_lookup = {category: color for category, color in zip(category_values, color_values[0:len(category_values)])}\n",
    "        del color_values, category_values\n",
    "\n",
    "    graph = nx.Graph()\n",
    "    # Add nodes to graph\n",
    "    for row_index in range(0, nodes.shape[0]):\n",
    "        graph.add_node(\n",
    "            nodes.iloc[row_index][node_names],\n",
    "            size = nodes.iloc[row_index]['nodes_size'],\n",
    "            color=node_color_lookup[nodes.iloc[row_index]['category']] if nodes_category else 'gray',\n",
    "            category=nodes.iloc[row_index]['category'],\n",
    "        )\n",
    "\n",
    "    # For each co-appearance between two nodes, add an edge\n",
    "    for row_index in range(0, edges.shape[0]):\n",
    "        instance = edges.iloc[row_index]\n",
    "        graph.add_edge(instance[source],\n",
    "                       instance[target],\n",
    "                       weight = instance['edges_size'])\n",
    "\n",
    "    positions = nx.spring_layout(graph, seed=seed)\n",
    "\n",
    "    edge_trace = []\n",
    "    for edge in graph.edges():\n",
    "        if graph.edges()[edge]['weight'] > 0:\n",
    "            source_value = edge[0]\n",
    "            target_value = edge[1]\n",
    "\n",
    "            x0, y0 = positions[source_value]\n",
    "            x1, y1 = positions[target_value]\n",
    "\n",
    "            text   = source_value + '--' + target_value + ': ' + str(graph.edges()[edge]['weight'])\n",
    "\n",
    "            trace  = make_edge(\n",
    "                x=[x0, x1, None],\n",
    "                y=[y0, y1, None],\n",
    "                text=text,\n",
    "                width=0.3*graph.edges()[edge]['weight']**1.75,\n",
    "                color='blue'\n",
    "                #color='red' if source_value == word_filter else 'blue'\n",
    "            )\n",
    "            edge_trace.append(trace)\n",
    "\n",
    "    # Make a node trace\n",
    "    node_trace = go.Scatter(\n",
    "        x=[],\n",
    "        y=[],\n",
    "        text=[],\n",
    "        textposition=\"top center\",\n",
    "        textfont_size=10,\n",
    "        mode='markers+text',\n",
    "        hoverinfo='none',\n",
    "        marker=dict(color=[],\n",
    "                    size=[],\n",
    "                    line=None)\n",
    "    )\n",
    "    # For each node in midsummer, get the position and size and add to the node_trace\n",
    "    for node in graph.nodes():\n",
    "        x, y = positions[node]\n",
    "        node_trace['x'] += tuple([x])\n",
    "        node_trace['y'] += tuple([y])\n",
    "        #    print(graph.nodes()[node]['color'])\n",
    "        node_trace['marker']['color'] += tuple([graph.nodes()[node]['color']])\n",
    "        node_trace['marker']['size'] += tuple([5*graph.nodes()[node]['size']])\n",
    "        node_text = '<b>' + node + '</b>'\n",
    "        if nodes_category:\n",
    "            node_text += '</br></br><sup>' + graph.nodes()[node]['category'] + '</sup>'\n",
    "        node_trace['text'] += tuple([node_text])\n",
    "\n",
    "    layout = go.Layout(\n",
    "        paper_bgcolor='rgba(0,0,0,0)',\n",
    "        plot_bgcolor='rgba(0,0,0,0)'\n",
    "    )\n",
    "    fig = go.Figure(layout = layout)\n",
    "\n",
    "    for trace in edge_trace:\n",
    "        fig.add_trace(trace)\n",
    "\n",
    "    fig.add_trace(node_trace)\n",
    "    fig.update_layout(\n",
    "        showlegend = False,\n",
    "        width=width,\n",
    "        height=height\n",
    "    )\n",
    "    fig.update_xaxes(showticklabels = False)\n",
    "    fig.update_yaxes(showticklabels = False)\n",
    "    return fig"
   ],
   "metadata": {
    "collapsed": false,
    "pycharm": {
     "name": "#%%\n"
    }
   }
  },
  {
   "cell_type": "code",
   "execution_count": 95,
   "outputs": [
    {
     "data": {
      "text/plain": "              source              target  weight  edges_size\n0     Addam-Marbrand     Jaime-Lannister       3    1.000000\n1     Addam-Marbrand     Tywin-Lannister       6    1.020833\n2  Aegon-I-Targaryen  Daenerys-Targaryen       5    1.013889\n3  Aegon-I-Targaryen        Eddard-Stark       4    1.006944\n4    Aemon-Targaryen      Alliser-Thorne       4    1.006944",
      "text/html": "<div>\n<style scoped>\n    .dataframe tbody tr th:only-of-type {\n        vertical-align: middle;\n    }\n\n    .dataframe tbody tr th {\n        vertical-align: top;\n    }\n\n    .dataframe thead th {\n        text-align: right;\n    }\n</style>\n<table border=\"1\" class=\"dataframe\">\n  <thead>\n    <tr style=\"text-align: right;\">\n      <th></th>\n      <th>source</th>\n      <th>target</th>\n      <th>weight</th>\n      <th>edges_size</th>\n    </tr>\n  </thead>\n  <tbody>\n    <tr>\n      <th>0</th>\n      <td>Addam-Marbrand</td>\n      <td>Jaime-Lannister</td>\n      <td>3</td>\n      <td>1.000000</td>\n    </tr>\n    <tr>\n      <th>1</th>\n      <td>Addam-Marbrand</td>\n      <td>Tywin-Lannister</td>\n      <td>6</td>\n      <td>1.020833</td>\n    </tr>\n    <tr>\n      <th>2</th>\n      <td>Aegon-I-Targaryen</td>\n      <td>Daenerys-Targaryen</td>\n      <td>5</td>\n      <td>1.013889</td>\n    </tr>\n    <tr>\n      <th>3</th>\n      <td>Aegon-I-Targaryen</td>\n      <td>Eddard-Stark</td>\n      <td>4</td>\n      <td>1.006944</td>\n    </tr>\n    <tr>\n      <th>4</th>\n      <td>Aemon-Targaryen</td>\n      <td>Alliser-Thorne</td>\n      <td>4</td>\n      <td>1.006944</td>\n    </tr>\n  </tbody>\n</table>\n</div>"
     },
     "execution_count": 95,
     "metadata": {},
     "output_type": "execute_result"
    }
   ],
   "source": [
    "edges_df.head()"
   ],
   "metadata": {
    "collapsed": false,
    "pycharm": {
     "name": "#%%\n"
    }
   }
  },
  {
   "cell_type": "code",
   "execution_count": 96,
   "outputs": [
    {
     "data": {
      "text/plain": "                 name  weight   category  nodes_size\n42       Eddard-Stark  1284.0      Stark    3.000000\n124  Robert-Baratheon   941.0  Baratheon    2.464481\n79           Jon-Snow   784.0       Snow    2.219360\n136  Tyrion-Lannister   650.0  Lannister    2.010148\n128       Sansa-Stark   545.0      Stark    1.846214",
      "text/html": "<div>\n<style scoped>\n    .dataframe tbody tr th:only-of-type {\n        vertical-align: middle;\n    }\n\n    .dataframe tbody tr th {\n        vertical-align: top;\n    }\n\n    .dataframe thead th {\n        text-align: right;\n    }\n</style>\n<table border=\"1\" class=\"dataframe\">\n  <thead>\n    <tr style=\"text-align: right;\">\n      <th></th>\n      <th>name</th>\n      <th>weight</th>\n      <th>category</th>\n      <th>nodes_size</th>\n    </tr>\n  </thead>\n  <tbody>\n    <tr>\n      <th>42</th>\n      <td>Eddard-Stark</td>\n      <td>1284.0</td>\n      <td>Stark</td>\n      <td>3.000000</td>\n    </tr>\n    <tr>\n      <th>124</th>\n      <td>Robert-Baratheon</td>\n      <td>941.0</td>\n      <td>Baratheon</td>\n      <td>2.464481</td>\n    </tr>\n    <tr>\n      <th>79</th>\n      <td>Jon-Snow</td>\n      <td>784.0</td>\n      <td>Snow</td>\n      <td>2.219360</td>\n    </tr>\n    <tr>\n      <th>136</th>\n      <td>Tyrion-Lannister</td>\n      <td>650.0</td>\n      <td>Lannister</td>\n      <td>2.010148</td>\n    </tr>\n    <tr>\n      <th>128</th>\n      <td>Sansa-Stark</td>\n      <td>545.0</td>\n      <td>Stark</td>\n      <td>1.846214</td>\n    </tr>\n  </tbody>\n</table>\n</div>"
     },
     "execution_count": 96,
     "metadata": {},
     "output_type": "execute_result"
    }
   ],
   "source": [
    "node_df.head()"
   ],
   "metadata": {
    "collapsed": false,
    "pycharm": {
     "name": "#%%\n"
    }
   }
  },
  {
   "cell_type": "code",
   "execution_count": 99,
   "outputs": [
    {
     "data": {
      "application/vnd.plotly.v1+json": {
       "data": [
        {
         "hoverinfo": "text",
         "line": {
          "color": "blue",
          "width": 0.3036553222084388
         },
         "mode": "lines",
         "text": [
          "Eddard-Stark--Aegon-I-Targaryen: 1.0069444444444444"
         ],
         "x": [
          0.10648594579424507,
          0.11077050567470466,
          null
         ],
         "y": [
          0.1121088681224815,
          0.39154871839973115,
          null
         ],
         "type": "scatter"
        },
        {
         "hoverinfo": "text",
         "line": {
          "color": "blue",
          "width": 0.32598420029006264
         },
         "mode": "lines",
         "text": [
          "Eddard-Stark--Aerys-II-Targaryen: 1.0486111111111112"
         ],
         "x": [
          0.10648594579424507,
          0.17880449780327884,
          null
         ],
         "y": [
          0.1121088681224815,
          0.14537326601673276,
          null
         ],
         "type": "scatter"
        },
        {
         "hoverinfo": "text",
         "line": {
          "color": "blue",
          "width": 0.3297715400664042
         },
         "mode": "lines",
         "text": [
          "Eddard-Stark--Alyn: 1.0555555555555556"
         ],
         "x": [
          0.10648594579424507,
          0.024776477722474877,
          null
         ],
         "y": [
          0.1121088681224815,
          0.23769593769761657,
          null
         ],
         "type": "scatter"
        },
        {
         "hoverinfo": "text",
         "line": {
          "color": "blue",
          "width": 0.4052565909026495
         },
         "mode": "lines",
         "text": [
          "Eddard-Stark--Arya-Stark: 1.1875"
         ],
         "x": [
          0.10648594579424507,
          0.03199436451402057,
          null
         ],
         "y": [
          0.1121088681224815,
          0.02078565327859566,
          null
         ],
         "type": "scatter"
        },
        {
         "hoverinfo": "text",
         "line": {
          "color": "blue",
          "width": 0.3
         },
         "mode": "lines",
         "text": [
          "Eddard-Stark--Balon-Greyjoy: 1.0"
         ],
         "x": [
          0.10648594579424507,
          0.12071173045894634,
          null
         ],
         "y": [
          0.1121088681224815,
          0.30050702465491735,
          null
         ],
         "type": "scatter"
        },
        {
         "hoverinfo": "text",
         "line": {
          "color": "blue",
          "width": 0.3969982813217963
         },
         "mode": "lines",
         "text": [
          "Eddard-Stark--Barristan-Selmy: 1.1736111111111112"
         ],
         "x": [
          0.10648594579424507,
          0.12937540553129614,
          null
         ],
         "y": [
          0.1121088681224815,
          0.06281701710849813,
          null
         ],
         "type": "scatter"
        },
        {
         "hoverinfo": "text",
         "line": {
          "color": "blue",
          "width": 0.3
         },
         "mode": "lines",
         "text": [
          "Eddard-Stark--Beric-Dondarrion: 1.0"
         ],
         "x": [
          0.10648594579424507,
          0.2514470848015286,
          null
         ],
         "y": [
          0.1121088681224815,
          0.10344060167222606,
          null
         ],
         "type": "scatter"
        },
        {
         "hoverinfo": "text",
         "line": {
          "color": "blue",
          "width": 0.3607421283056655
         },
         "mode": "lines",
         "text": [
          "Eddard-Stark--Bran-Stark: 1.1111111111111112"
         ],
         "x": [
          0.10648594579424507,
          -0.08490608606434874,
          null
         ],
         "y": [
          0.1121088681224815,
          -9.500509863035247E-4,
          null
         ],
         "type": "scatter"
        },
        {
         "hoverinfo": "text",
         "line": {
          "color": "blue",
          "width": 0.3297715400664042
         },
         "mode": "lines",
         "text": [
          "Eddard-Stark--Brandon-Stark: 1.0555555555555556"
         ],
         "x": [
          0.10648594579424507,
          0.027448936692904862,
          null
         ],
         "y": [
          0.1121088681224815,
          0.20554547129797635,
          null
         ],
         "type": "scatter"
        },
        {
         "hoverinfo": "text",
         "line": {
          "color": "blue",
          "width": 0.5566165951643036
         },
         "mode": "lines",
         "text": [
          "Eddard-Stark--Catelyn-Stark: 1.4236111111111112"
         ],
         "x": [
          0.10648594579424507,
          0.07103519122741635,
          null
         ],
         "y": [
          0.1121088681224815,
          -0.13779150827046416,
          null
         ],
         "type": "scatter"
        },
        {
         "hoverinfo": "text",
         "line": {
          "color": "blue",
          "width": 0.31473489442754443
         },
         "mode": "lines",
         "text": [
          "Eddard-Stark--Cayn: 1.0277777777777777"
         ],
         "x": [
          0.10648594579424507,
          0.21157640129784488,
          null
         ],
         "y": [
          0.1121088681224815,
          0.20613843137589452,
          null
         ],
         "type": "scatter"
        },
        {
         "hoverinfo": "text",
         "line": {
          "color": "blue",
          "width": 0.580591481245713
         },
         "mode": "lines",
         "text": [
          "Eddard-Stark--Cersei-Lannister: 1.4583333333333333"
         ],
         "x": [
          0.10648594579424507,
          0.065324051953967,
          null
         ],
         "y": [
          0.1121088681224815,
          -0.011306557654175996,
          null
         ],
         "type": "scatter"
        },
        {
         "hoverinfo": "text",
         "line": {
          "color": "blue",
          "width": 0.30732960033145773
         },
         "mode": "lines",
         "text": [
          "Eddard-Stark--Daenerys-Targaryen: 1.0138888888888888"
         ],
         "x": [
          0.10648594579424507,
          0.0068743915869946895,
          null
         ],
         "y": [
          0.1121088681224815,
          0.4737306563724346,
          null
         ],
         "type": "scatter"
        },
        {
         "hoverinfo": "text",
         "line": {
          "color": "blue",
          "width": 0.3
         },
         "mode": "lines",
         "text": [
          "Eddard-Stark--Daryn-Hornwood: 1.0"
         ],
         "x": [
          0.10648594579424507,
          0.35265323669429144,
          null
         ],
         "y": [
          0.1121088681224815,
          0.08789264370957128,
          null
         ],
         "type": "scatter"
        },
        {
         "hoverinfo": "text",
         "line": {
          "color": "blue",
          "width": 0.3036553222084388
         },
         "mode": "lines",
         "text": [
          "Eddard-Stark--Desmond: 1.0069444444444444"
         ],
         "x": [
          0.10648594579424507,
          0.14487176533832885,
          null
         ],
         "y": [
          0.1121088681224815,
          0.2267648016858255,
          null
         ],
         "type": "scatter"
        },
        {
         "hoverinfo": "text",
         "line": {
          "color": "blue",
          "width": 0.3
         },
         "mode": "lines",
         "text": [
          "Eddard-Stark--Edmure-Tully: 1.0"
         ],
         "x": [
          0.10648594579424507,
          0.023076472169538148,
          null
         ],
         "y": [
          0.1121088681224815,
          -0.07761245006425639,
          null
         ],
         "type": "scatter"
        },
        {
         "hoverinfo": "text",
         "line": {
          "color": "blue",
          "width": 0.3036553222084388
         },
         "mode": "lines",
         "text": [
          "Eddard-Stark--Galbart-Glover: 1.0069444444444444"
         ],
         "x": [
          0.10648594579424507,
          -0.06014772243512612,
          null
         ],
         "y": [
          0.1121088681224815,
          0.08023590230817076,
          null
         ],
         "type": "scatter"
        },
        {
         "hoverinfo": "text",
         "line": {
          "color": "blue",
          "width": 0.3
         },
         "mode": "lines",
         "text": [
          "Eddard-Stark--Gendry: 1.0"
         ],
         "x": [
          0.10648594579424507,
          0.38772648172092355,
          null
         ],
         "y": [
          0.1121088681224815,
          0.18177160979259743,
          null
         ],
         "type": "scatter"
        },
        {
         "hoverinfo": "text",
         "line": {
          "color": "blue",
          "width": 0.3
         },
         "mode": "lines",
         "text": [
          "Eddard-Stark--Gerold-Hightower: 1.0"
         ],
         "x": [
          0.10648594579424507,
          0.3755499394803089,
          null
         ],
         "y": [
          0.1121088681224815,
          0.12966861194928017,
          null
         ],
         "type": "scatter"
        },
        {
         "hoverinfo": "text",
         "line": {
          "color": "blue",
          "width": 0.32598420029006264
         },
         "mode": "lines",
         "text": [
          "Eddard-Stark--Gregor-Clegane: 1.0486111111111112"
         ],
         "x": [
          0.10648594579424507,
          0.07693119390322473,
          null
         ],
         "y": [
          0.1121088681224815,
          0.04684415948750067,
          null
         ],
         "type": "scatter"
        },
        {
         "hoverinfo": "text",
         "line": {
          "color": "blue",
          "width": 0.30732960033145773
         },
         "mode": "lines",
         "text": [
          "Eddard-Stark--Harwin: 1.0138888888888888"
         ],
         "x": [
          0.10648594579424507,
          -0.05720282117988841,
          null
         ],
         "y": [
          0.1121088681224815,
          0.21711286247210781,
          null
         ],
         "type": "scatter"
        },
        {
         "hoverinfo": "text",
         "line": {
          "color": "blue",
          "width": 0.3036553222084388
         },
         "mode": "lines",
         "text": [
          "Eddard-Stark--High-Septon-(fat_one): 1.0069444444444444"
         ],
         "x": [
          0.10648594579424507,
          0.2795070600245484,
          null
         ],
         "y": [
          0.1121088681224815,
          0.0567282788276434,
          null
         ],
         "type": "scatter"
        },
        {
         "hoverinfo": "text",
         "line": {
          "color": "blue",
          "width": 0.3
         },
         "mode": "lines",
         "text": [
          "Eddard-Stark--Howland-Reed: 1.0"
         ],
         "x": [
          0.10648594579424507,
          0.24432197951418916,
          null
         ],
         "y": [
          0.1121088681224815,
          0.35730575770305933,
          null
         ],
         "type": "scatter"
        },
        {
         "hoverinfo": "text",
         "line": {
          "color": "blue",
          "width": 0.31102280182627423
         },
         "mode": "lines",
         "text": [
          "Eddard-Stark--Ilyn-Payne: 1.0208333333333333"
         ],
         "x": [
          0.10648594579424507,
          0.10493895598371764,
          null
         ],
         "y": [
          0.1121088681224815,
          0.12975215603867807,
          null
         ],
         "type": "scatter"
        },
        {
         "hoverinfo": "text",
         "line": {
          "color": "blue",
          "width": 0.3036553222084388
         },
         "mode": "lines",
         "text": [
          "Eddard-Stark--Jacks: 1.0069444444444444"
         ],
         "x": [
          0.10648594579424507,
          0.28274345320492605,
          null
         ],
         "y": [
          0.1121088681224815,
          0.30913824740378004,
          null
         ],
         "type": "scatter"
        },
        {
         "hoverinfo": "text",
         "line": {
          "color": "blue",
          "width": 0.3928964787632692
         },
         "mode": "lines",
         "text": [
          "Eddard-Stark--Jaime-Lannister: 1.1666666666666665"
         ],
         "x": [
          0.10648594579424507,
          0.08411778299242077,
          null
         ],
         "y": [
          0.1121088681224815,
          -0.0127285298056426,
          null
         ],
         "type": "scatter"
        },
        {
         "hoverinfo": "text",
         "line": {
          "color": "blue",
          "width": 0.3036553222084388
         },
         "mode": "lines",
         "text": [
          "Eddard-Stark--Janos-Slynt: 1.0069444444444444"
         ],
         "x": [
          0.10648594579424507,
          0.13419213924015455,
          null
         ],
         "y": [
          0.1121088681224815,
          0.12636956328109705,
          null
         ],
         "type": "scatter"
        },
        {
         "hoverinfo": "text",
         "line": {
          "color": "blue",
          "width": 0.38881294707719766
         },
         "mode": "lines",
         "text": [
          "Eddard-Stark--Joffrey-Baratheon: 1.159722222222222"
         ],
         "x": [
          0.10648594579424507,
          0.06727571942920114,
          null
         ],
         "y": [
          0.1121088681224815,
          0.009801685120611444,
          null
         ],
         "type": "scatter"
        },
        {
         "hoverinfo": "text",
         "line": {
          "color": "blue",
          "width": 0.47836911200765575
         },
         "mode": "lines",
         "text": [
          "Eddard-Stark--Jon-Arryn: 1.3055555555555556"
         ],
         "x": [
          0.10648594579424507,
          0.017573226254451197,
          null
         ],
         "y": [
          0.1121088681224815,
          0.04811545290389017,
          null
         ],
         "type": "scatter"
        },
        {
         "hoverinfo": "text",
         "line": {
          "color": "blue",
          "width": 0.43901534224005484
         },
         "mode": "lines",
         "text": [
          "Eddard-Stark--Jon-Snow: 1.2430555555555556"
         ],
         "x": [
          0.10648594579424507,
          -0.14172448166879853,
          null
         ],
         "y": [
          0.1121088681224815,
          -0.17936515963381333,
          null
         ],
         "type": "scatter"
        },
        {
         "hoverinfo": "text",
         "line": {
          "color": "blue",
          "width": 0.4135876614931034
         },
         "mode": "lines",
         "text": [
          "Eddard-Stark--Jory-Cassel: 1.2013888888888888"
         ],
         "x": [
          0.10648594579424507,
          -0.014992917689555097,
          null
         ],
         "y": [
          0.1121088681224815,
          0.07085877790405458,
          null
         ],
         "type": "scatter"
        },
        {
         "hoverinfo": "text",
         "line": {
          "color": "blue",
          "width": 0.30732960033145773
         },
         "mode": "lines",
         "text": [
          "Eddard-Stark--Joss: 1.0138888888888888"
         ],
         "x": [
          0.10648594579424507,
          0.343135105403023,
          null
         ],
         "y": [
          0.1121088681224815,
          0.28054377093701804,
          null
         ],
         "type": "scatter"
        },
        {
         "hoverinfo": "text",
         "line": {
          "color": "blue",
          "width": 0.33357761363923993
         },
         "mode": "lines",
         "text": [
          "Eddard-Stark--Loras-Tyrell: 1.0625"
         ],
         "x": [
          0.10648594579424507,
          0.18042954714332093,
          null
         ],
         "y": [
          0.1121088681224815,
          0.10241972177968102,
          null
         ],
         "type": "scatter"
        },
        {
         "hoverinfo": "text",
         "line": {
          "color": "blue",
          "width": 0.3489886358918264
         },
         "mode": "lines",
         "text": [
          "Eddard-Stark--Luwin: 1.0902777777777777"
         ],
         "x": [
          0.10648594579424507,
          -0.09543015503848222,
          null
         ],
         "y": [
          0.1121088681224815,
          -0.033676325759921015,
          null
         ],
         "type": "scatter"
        },
        {
         "hoverinfo": "text",
         "line": {
          "color": "blue",
          "width": 0.3607421283056655
         },
         "mode": "lines",
         "text": [
          "Eddard-Stark--Lyanna-Stark: 1.1111111111111112"
         ],
         "x": [
          0.10648594579424507,
          0.07854020176175182,
          null
         ],
         "y": [
          0.1121088681224815,
          0.24050048357278792,
          null
         ],
         "type": "scatter"
        },
        {
         "hoverinfo": "text",
         "line": {
          "color": "blue",
          "width": 0.33357761363923993
         },
         "mode": "lines",
         "text": [
          "Eddard-Stark--Lysa-Arryn: 1.0625"
         ],
         "x": [
          0.10648594579424507,
          0.12653315489042977,
          null
         ],
         "y": [
          0.1121088681224815,
          -0.09013791103676602,
          null
         ],
         "type": "scatter"
        },
        {
         "hoverinfo": "text",
         "line": {
          "color": "blue",
          "width": 0.3
         },
         "mode": "lines",
         "text": [
          "Eddard-Stark--Marq-Piper: 1.0"
         ],
         "x": [
          0.10648594579424507,
          -0.0813601539025903,
          null
         ],
         "y": [
          0.1121088681224815,
          0.057818626548124384,
          null
         ],
         "type": "scatter"
        },
        {
         "hoverinfo": "text",
         "line": {
          "color": "blue",
          "width": 0.3297715400664042
         },
         "mode": "lines",
         "text": [
          "Eddard-Stark--Mordane: 1.0555555555555556"
         ],
         "x": [
          0.10648594579424507,
          0.02543575930860007,
          null
         ],
         "y": [
          0.1121088681224815,
          -0.009281754547322905,
          null
         ],
         "type": "scatter"
        },
        {
         "hoverinfo": "text",
         "line": {
          "color": "blue",
          "width": 0.3
         },
         "mode": "lines",
         "text": [
          "Eddard-Stark--Mycah: 1.0"
         ],
         "x": [
          0.10648594579424507,
          0.07212180934310158,
          null
         ],
         "y": [
          0.1121088681224815,
          0.14112253354003632,
          null
         ],
         "type": "scatter"
        },
        {
         "hoverinfo": "text",
         "line": {
          "color": "blue",
          "width": 0.6398889327239897
         },
         "mode": "lines",
         "text": [
          "Eddard-Stark--Petyr-Baelish: 1.5416666666666665"
         ],
         "x": [
          0.10648594579424507,
          0.05648083182260479,
          null
         ],
         "y": [
          0.1121088681224815,
          0.03260685690219549,
          null
         ],
         "type": "scatter"
        },
        {
         "hoverinfo": "text",
         "line": {
          "color": "blue",
          "width": 0.3036553222084388
         },
         "mode": "lines",
         "text": [
          "Eddard-Stark--Porther: 1.0069444444444444"
         ],
         "x": [
          0.10648594579424507,
          0.20642246978135045,
          null
         ],
         "y": [
          0.1121088681224815,
          0.36991690910291697,
          null
         ],
         "type": "scatter"
        },
        {
         "hoverinfo": "text",
         "line": {
          "color": "blue",
          "width": 0.41778041604270827
         },
         "mode": "lines",
         "text": [
          "Eddard-Stark--Pycelle: 1.2083333333333333"
         ],
         "x": [
          0.10648594579424507,
          0.0857655486770623,
          null
         ],
         "y": [
          0.1121088681224815,
          0.08225288197648849,
          null
         ],
         "type": "scatter"
        },
        {
         "hoverinfo": "text",
         "line": {
          "color": "blue",
          "width": 0.3036553222084388
         },
         "mode": "lines",
         "text": [
          "Eddard-Stark--Raymun-Darry: 1.0069444444444444"
         ],
         "x": [
          0.10648594579424507,
          0.16783225171148508,
          null
         ],
         "y": [
          0.1121088681224815,
          0.2802025259265742,
          null
         ],
         "type": "scatter"
        },
        {
         "hoverinfo": "text",
         "line": {
          "color": "blue",
          "width": 0.41778041604270827
         },
         "mode": "lines",
         "text": [
          "Eddard-Stark--Renly-Baratheon: 1.2083333333333333"
         ],
         "x": [
          0.10648594579424507,
          0.09935036609841824,
          null
         ],
         "y": [
          0.1121088681224815,
          0.0404126925892233,
          null
         ],
         "type": "scatter"
        },
        {
         "hoverinfo": "text",
         "line": {
          "color": "blue",
          "width": 0.32598420029006264
         },
         "mode": "lines",
         "text": [
          "Eddard-Stark--Rhaegar-Targaryen: 1.0486111111111112"
         ],
         "x": [
          0.10648594579424507,
          0.014653623613678292,
          null
         ],
         "y": [
          0.1121088681224815,
          0.26775314626515023,
          null
         ],
         "type": "scatter"
        },
        {
         "hoverinfo": "text",
         "line": {
          "color": "blue",
          "width": 0.3036553222084388
         },
         "mode": "lines",
         "text": [
          "Eddard-Stark--Rickard-Karstark: 1.0069444444444444"
         ],
         "x": [
          0.10648594579424507,
          -0.07201238999138217,
          null
         ],
         "y": [
          0.1121088681224815,
          0.023898206162544497,
          null
         ],
         "type": "scatter"
        },
        {
         "hoverinfo": "text",
         "line": {
          "color": "blue",
          "width": 0.3036553222084388
         },
         "mode": "lines",
         "text": [
          "Eddard-Stark--Rickon-Stark: 1.0069444444444444"
         ],
         "x": [
          0.10648594579424507,
          -0.031226770640811058,
          null
         ],
         "y": [
          0.1121088681224815,
          -0.04175810966117788,
          null
         ],
         "type": "scatter"
        },
        {
         "hoverinfo": "text",
         "line": {
          "color": "blue",
          "width": 0.3489886358918264
         },
         "mode": "lines",
         "text": [
          "Eddard-Stark--Robb-Stark: 1.0902777777777777"
         ],
         "x": [
          0.10648594579424507,
          -0.043314398094237976,
          null
         ],
         "y": [
          0.1121088681224815,
          -0.05668054863819679,
          null
         ],
         "type": "scatter"
        },
        {
         "hoverinfo": "text",
         "line": {
          "color": "blue",
          "width": 2.051556351259299
         },
         "mode": "lines",
         "text": [
          "Eddard-Stark--Robert-Baratheon: 2.9999999999999996"
         ],
         "x": [
          0.10648594579424507,
          0.04691105159571611,
          null
         ],
         "y": [
          0.1121088681224815,
          0.11908953963479799,
          null
         ],
         "type": "scatter"
        },
        {
         "hoverinfo": "text",
         "line": {
          "color": "blue",
          "width": 0.31473489442754443
         },
         "mode": "lines",
         "text": [
          "Eddard-Stark--Rodrik-Cassel: 1.0277777777777777"
         ],
         "x": [
          0.10648594579424507,
          0.0023389107467837325,
          null
         ],
         "y": [
          0.1121088681224815,
          -0.06416374395556995,
          null
         ],
         "type": "scatter"
        },
        {
         "hoverinfo": "text",
         "line": {
          "color": "blue",
          "width": 0.32598420029006264
         },
         "mode": "lines",
         "text": [
          "Eddard-Stark--Sandor-Clegane: 1.0486111111111112"
         ],
         "x": [
          0.10648594579424507,
          0.12952798707083144,
          null
         ],
         "y": [
          0.1121088681224815,
          0.019266875519648598,
          null
         ],
         "type": "scatter"
        },
        {
         "hoverinfo": "text",
         "line": {
          "color": "blue",
          "width": 0.4219912818774138
         },
         "mode": "lines",
         "text": [
          "Eddard-Stark--Sansa-Stark: 1.2152777777777777"
         ],
         "x": [
          0.10648594579424507,
          0.0456143512727685,
          null
         ],
         "y": [
          0.1121088681224815,
          0.05750169859092548,
          null
         ],
         "type": "scatter"
        },
        {
         "hoverinfo": "text",
         "line": {
          "color": "blue",
          "width": 0.35680576364309297
         },
         "mode": "lines",
         "text": [
          "Eddard-Stark--Stannis-Baratheon: 1.1041666666666665"
         ],
         "x": [
          0.10648594579424507,
          0.10522382841735935,
          null
         ],
         "y": [
          0.1121088681224815,
          0.02502521588793754,
          null
         ],
         "type": "scatter"
        },
        {
         "hoverinfo": "text",
         "line": {
          "color": "blue",
          "width": 0.31102280182627423
         },
         "mode": "lines",
         "text": [
          "Eddard-Stark--Syrio-Forel: 1.0208333333333333"
         ],
         "x": [
          0.10648594579424507,
          0.2280802487449413,
          null
         ],
         "y": [
          0.1121088681224815,
          0.14099773962857906,
          null
         ],
         "type": "scatter"
        },
        {
         "hoverinfo": "text",
         "line": {
          "color": "blue",
          "width": 0.30732960033145773
         },
         "mode": "lines",
         "text": [
          "Eddard-Stark--Theon-Greyjoy: 1.0138888888888888"
         ],
         "x": [
          0.10648594579424507,
          -0.018570992946724544,
          null
         ],
         "y": [
          0.1121088681224815,
          -0.09792368559960818,
          null
         ],
         "type": "scatter"
        },
        {
         "hoverinfo": "text",
         "line": {
          "color": "blue",
          "width": 0.31473489442754443
         },
         "mode": "lines",
         "text": [
          "Eddard-Stark--Tobho-Mott: 1.0277777777777777"
         ],
         "x": [
          0.10648594579424507,
          0.3685118172556936,
          null
         ],
         "y": [
          0.1121088681224815,
          0.21451291763524685,
          null
         ],
         "type": "scatter"
        },
        {
         "hoverinfo": "text",
         "line": {
          "color": "blue",
          "width": 0.34510793151786423
         },
         "mode": "lines",
         "text": [
          "Eddard-Stark--Tomard: 1.0833333333333333"
         ],
         "x": [
          0.10648594579424507,
          0.08399729181974153,
          null
         ],
         "y": [
          0.1121088681224815,
          0.17503157989834955,
          null
         ],
         "type": "scatter"
        },
        {
         "hoverinfo": "text",
         "line": {
          "color": "blue",
          "width": 0.30732960033145773
         },
         "mode": "lines",
         "text": [
          "Eddard-Stark--Torrhen-Karstark: 1.0138888888888888"
         ],
         "x": [
          0.10648594579424507,
          0.23060690400641837,
          null
         ],
         "y": [
          0.1121088681224815,
          0.0017181780161025716,
          null
         ],
         "type": "scatter"
        },
        {
         "hoverinfo": "text",
         "line": {
          "color": "blue",
          "width": 0.3036553222084388
         },
         "mode": "lines",
         "text": [
          "Eddard-Stark--Tregar: 1.0069444444444444"
         ],
         "x": [
          0.10648594579424507,
          0.35167629339609957,
          null
         ],
         "y": [
          0.1121088681224815,
          0.24407204099973195,
          null
         ],
         "type": "scatter"
        },
        {
         "hoverinfo": "text",
         "line": {
          "color": "blue",
          "width": 0.3686703141402487
         },
         "mode": "lines",
         "text": [
          "Eddard-Stark--Tyrion-Lannister: 1.125"
         ],
         "x": [
          0.10648594579424507,
          -0.06482818728114911,
          null
         ],
         "y": [
          0.1121088681224815,
          -0.13603594747656403,
          null
         ],
         "type": "scatter"
        },
        {
         "hoverinfo": "text",
         "line": {
          "color": "blue",
          "width": 0.35680576364309297
         },
         "mode": "lines",
         "text": [
          "Eddard-Stark--Tywin-Lannister: 1.1041666666666665"
         ],
         "x": [
          0.10648594579424507,
          0.032045134513899176,
          null
         ],
         "y": [
          0.1121088681224815,
          -0.039305273695998115,
          null
         ],
         "type": "scatter"
        },
        {
         "hoverinfo": "text",
         "line": {
          "color": "blue",
          "width": 0.3036553222084388
         },
         "mode": "lines",
         "text": [
          "Eddard-Stark--Varly: 1.0069444444444444"
         ],
         "x": [
          0.10648594579424507,
          0.3244816211591838,
          null
         ],
         "y": [
          0.1121088681224815,
          0.3146649178705085,
          null
         ],
         "type": "scatter"
        },
        {
         "hoverinfo": "text",
         "line": {
          "color": "blue",
          "width": 0.5424401034056527
         },
         "mode": "lines",
         "text": [
          "Eddard-Stark--Varys: 1.4027777777777777"
         ],
         "x": [
          0.10648594579424507,
          0.036618960965745066,
          null
         ],
         "y": [
          0.1121088681224815,
          0.0952360213840959,
          null
         ],
         "type": "scatter"
        },
        {
         "hoverinfo": "text",
         "line": {
          "color": "blue",
          "width": 0.33357761363923993
         },
         "mode": "lines",
         "text": [
          "Eddard-Stark--Vayon-Poole: 1.0625"
         ],
         "x": [
          0.10648594579424507,
          0.13920241258330932,
          null
         ],
         "y": [
          0.1121088681224815,
          0.10402928691784472,
          null
         ],
         "type": "scatter"
        },
        {
         "hoverinfo": "text",
         "line": {
          "color": "blue",
          "width": 0.3
         },
         "mode": "lines",
         "text": [
          "Eddard-Stark--Wyl-(guard): 1.0"
         ],
         "x": [
          0.10648594579424507,
          -0.023801432063556165,
          null
         ],
         "y": [
          0.1121088681224815,
          0.18600123264216076,
          null
         ],
         "type": "scatter"
        },
        {
         "hoverinfo": "text",
         "line": {
          "color": "blue",
          "width": 0.3
         },
         "mode": "lines",
         "text": [
          "Eddard-Stark--Wylla: 1.0"
         ],
         "x": [
          0.10648594579424507,
          0.28301864028479395,
          null
         ],
         "y": [
          0.1121088681224815,
          0.34847241783526645,
          null
         ],
         "type": "scatter"
        },
        {
         "hoverinfo": "text",
         "line": {
          "color": "blue",
          "width": 0.33357761363923993
         },
         "mode": "lines",
         "text": [
          "Robert-Baratheon--Aerys-II-Targaryen: 1.0625"
         ],
         "x": [
          0.04691105159571611,
          0.17880449780327884,
          null
         ],
         "y": [
          0.11908953963479799,
          0.14537326601673276,
          null
         ],
         "type": "scatter"
        },
        {
         "hoverinfo": "text",
         "line": {
          "color": "blue",
          "width": 0.3036553222084388
         },
         "mode": "lines",
         "text": [
          "Robert-Baratheon--Alyn: 1.0069444444444444"
         ],
         "x": [
          0.04691105159571611,
          0.024776477722474877,
          null
         ],
         "y": [
          0.11908953963479799,
          0.23769593769761657,
          null
         ],
         "type": "scatter"
        },
        {
         "hoverinfo": "text",
         "line": {
          "color": "blue",
          "width": 0.3184658461431345
         },
         "mode": "lines",
         "text": [
          "Robert-Baratheon--Arya-Stark: 1.034722222222222"
         ],
         "x": [
          0.04691105159571611,
          0.03199436451402057,
          null
         ],
         "y": [
          0.11908953963479799,
          0.02078565327859566,
          null
         ],
         "type": "scatter"
        },
        {
         "hoverinfo": "text",
         "line": {
          "color": "blue",
          "width": 0.3036553222084388
         },
         "mode": "lines",
         "text": [
          "Robert-Baratheon--Balon-Greyjoy: 1.0069444444444444"
         ],
         "x": [
          0.04691105159571611,
          0.12071173045894634,
          null
         ],
         "y": [
          0.11908953963479799,
          0.30050702465491735,
          null
         ],
         "type": "scatter"
        },
        {
         "hoverinfo": "text",
         "line": {
          "color": "blue",
          "width": 0.44763537463299646
         },
         "mode": "lines",
         "text": [
          "Robert-Baratheon--Barristan-Selmy: 1.2569444444444444"
         ],
         "x": [
          0.04691105159571611,
          0.12937540553129614,
          null
         ],
         "y": [
          0.11908953963479799,
          0.06281701710849813,
          null
         ],
         "type": "scatter"
        },
        {
         "hoverinfo": "text",
         "line": {
          "color": "blue",
          "width": 0.3
         },
         "mode": "lines",
         "text": [
          "Robert-Baratheon--Benjen-Stark: 1.0"
         ],
         "x": [
          0.04691105159571611,
          -0.12405528656493038,
          null
         ],
         "y": [
          0.11908953963479799,
          -0.1404897871753785,
          null
         ],
         "type": "scatter"
        },
        {
         "hoverinfo": "text",
         "line": {
          "color": "blue",
          "width": 0.30732960033145773
         },
         "mode": "lines",
         "text": [
          "Robert-Baratheon--Beric-Dondarrion: 1.0138888888888888"
         ],
         "x": [
          0.04691105159571611,
          0.2514470848015286,
          null
         ],
         "y": [
          0.11908953963479799,
          0.10344060167222606,
          null
         ],
         "type": "scatter"
        },
        {
         "hoverinfo": "text",
         "line": {
          "color": "blue",
          "width": 0.3297715400664042
         },
         "mode": "lines",
         "text": [
          "Robert-Baratheon--Bran-Stark: 1.0555555555555556"
         ],
         "x": [
          0.04691105159571611,
          -0.08490608606434874,
          null
         ],
         "y": [
          0.11908953963479799,
          -9.500509863035247E-4,
          null
         ],
         "type": "scatter"
        },
        {
         "hoverinfo": "text",
         "line": {
          "color": "blue",
          "width": 0.30732960033145773
         },
         "mode": "lines",
         "text": [
          "Robert-Baratheon--Brandon-Stark: 1.0138888888888888"
         ],
         "x": [
          0.04691105159571611,
          0.027448936692904862,
          null
         ],
         "y": [
          0.11908953963479799,
          0.20554547129797635,
          null
         ],
         "type": "scatter"
        },
        {
         "hoverinfo": "text",
         "line": {
          "color": "blue",
          "width": 0.37266207796196593
         },
         "mode": "lines",
         "text": [
          "Robert-Baratheon--Catelyn-Stark: 1.1319444444444444"
         ],
         "x": [
          0.04691105159571611,
          0.07103519122741635,
          null
         ],
         "y": [
          0.11908953963479799,
          -0.13779150827046416,
          null
         ],
         "type": "scatter"
        },
        {
         "hoverinfo": "text",
         "line": {
          "color": "blue",
          "width": 0.5951839339063452
         },
         "mode": "lines",
         "text": [
          "Robert-Baratheon--Cersei-Lannister: 1.4791666666666665"
         ],
         "x": [
          0.04691105159571611,
          0.065324051953967,
          null
         ],
         "y": [
          0.11908953963479799,
          -0.011306557654175996,
          null
         ],
         "type": "scatter"
        },
        {
         "hoverinfo": "text",
         "line": {
          "color": "blue",
          "width": 0.3297715400664042
         },
         "mode": "lines",
         "text": [
          "Robert-Baratheon--Daenerys-Targaryen: 1.0555555555555556"
         ],
         "x": [
          0.04691105159571611,
          0.0068743915869946895,
          null
         ],
         "y": [
          0.11908953963479799,
          0.4737306563724346,
          null
         ],
         "type": "scatter"
        },
        {
         "hoverinfo": "text",
         "line": {
          "color": "blue",
          "width": 0.3
         },
         "mode": "lines",
         "text": [
          "Robert-Baratheon--Drogo: 1.0"
         ],
         "x": [
          0.04691105159571611,
          -0.06562876222454485,
          null
         ],
         "y": [
          0.11908953963479799,
          0.5779068024104821,
          null
         ],
         "type": "scatter"
        },
        {
         "hoverinfo": "text",
         "line": {
          "color": "blue",
          "width": 0.3036553222084388
         },
         "mode": "lines",
         "text": [
          "Robert-Baratheon--Gerold-Hightower: 1.0069444444444444"
         ],
         "x": [
          0.04691105159571611,
          0.3755499394803089,
          null
         ],
         "y": [
          0.11908953963479799,
          0.12966861194928017,
          null
         ],
         "type": "scatter"
        },
        {
         "hoverinfo": "text",
         "line": {
          "color": "blue",
          "width": 0.3036553222084388
         },
         "mode": "lines",
         "text": [
          "Robert-Baratheon--Gregor-Clegane: 1.0069444444444444"
         ],
         "x": [
          0.04691105159571611,
          0.07693119390322473,
          null
         ],
         "y": [
          0.11908953963479799,
          0.04684415948750067,
          null
         ],
         "type": "scatter"
        },
        {
         "hoverinfo": "text",
         "line": {
          "color": "blue",
          "width": 0.3
         },
         "mode": "lines",
         "text": [
          "Robert-Baratheon--Hoster-Tully: 1.0"
         ],
         "x": [
          0.04691105159571611,
          0.15596838332473842,
          null
         ],
         "y": [
          0.11908953963479799,
          -0.0920572605417538,
          null
         ],
         "type": "scatter"
        },
        {
         "hoverinfo": "text",
         "line": {
          "color": "blue",
          "width": 0.31102280182627423
         },
         "mode": "lines",
         "text": [
          "Robert-Baratheon--Illyrio-Mopatis: 1.0208333333333333"
         ],
         "x": [
          0.04691105159571611,
          0.001079720675957324,
          null
         ],
         "y": [
          0.11908953963479799,
          0.4279871367525846,
          null
         ],
         "type": "scatter"
        },
        {
         "hoverinfo": "text",
         "line": {
          "color": "blue",
          "width": 0.3036553222084388
         },
         "mode": "lines",
         "text": [
          "Robert-Baratheon--Ilyn-Payne: 1.0069444444444444"
         ],
         "x": [
          0.04691105159571611,
          0.10493895598371764,
          null
         ],
         "y": [
          0.11908953963479799,
          0.12975215603867807,
          null
         ],
         "type": "scatter"
        },
        {
         "hoverinfo": "text",
         "line": {
          "color": "blue",
          "width": 0.38070080568987796
         },
         "mode": "lines",
         "text": [
          "Robert-Baratheon--Jaime-Lannister: 1.1458333333333333"
         ],
         "x": [
          0.04691105159571611,
          0.08411778299242077,
          null
         ],
         "y": [
          0.11908953963479799,
          -0.0127285298056426,
          null
         ],
         "type": "scatter"
        },
        {
         "hoverinfo": "text",
         "line": {
          "color": "blue",
          "width": 0.3036553222084388
         },
         "mode": "lines",
         "text": [
          "Robert-Baratheon--Janos-Slynt: 1.0069444444444444"
         ],
         "x": [
          0.04691105159571611,
          0.13419213924015455,
          null
         ],
         "y": [
          0.11908953963479799,
          0.12636956328109705,
          null
         ],
         "type": "scatter"
        },
        {
         "hoverinfo": "text",
         "line": {
          "color": "blue",
          "width": 0.3036553222084388
         },
         "mode": "lines",
         "text": [
          "Robert-Baratheon--Jeor-Mormont: 1.0069444444444444"
         ],
         "x": [
          0.04691105159571611,
          -0.21544125756345248,
          null
         ],
         "y": [
          0.11908953963479799,
          -0.17131508038589652,
          null
         ],
         "type": "scatter"
        },
        {
         "hoverinfo": "text",
         "line": {
          "color": "blue",
          "width": 0.3
         },
         "mode": "lines",
         "text": [
          "Robert-Baratheon--Jeyne-Poole: 1.0"
         ],
         "x": [
          0.04691105159571611,
          0.15671453143493377,
          null
         ],
         "y": [
          0.11908953963479799,
          0.05471148992048057,
          null
         ],
         "type": "scatter"
        },
        {
         "hoverinfo": "text",
         "line": {
          "color": "blue",
          "width": 0.4052565909026495
         },
         "mode": "lines",
         "text": [
          "Robert-Baratheon--Joffrey-Baratheon: 1.1875"
         ],
         "x": [
          0.04691105159571611,
          0.06727571942920114,
          null
         ],
         "y": [
          0.11908953963479799,
          0.009801685120611444,
          null
         ],
         "type": "scatter"
        },
        {
         "hoverinfo": "text",
         "line": {
          "color": "blue",
          "width": 0.4135876614931034
         },
         "mode": "lines",
         "text": [
          "Robert-Baratheon--Jon-Arryn: 1.2013888888888888"
         ],
         "x": [
          0.04691105159571611,
          0.017573226254451197,
          null
         ],
         "y": [
          0.11908953963479799,
          0.04811545290389017,
          null
         ],
         "type": "scatter"
        },
        {
         "hoverinfo": "text",
         "line": {
          "color": "blue",
          "width": 0.35680576364309297
         },
         "mode": "lines",
         "text": [
          "Robert-Baratheon--Jon-Snow: 1.1041666666666665"
         ],
         "x": [
          0.04691105159571611,
          -0.14172448166879853,
          null
         ],
         "y": [
          0.11908953963479799,
          -0.17936515963381333,
          null
         ],
         "type": "scatter"
        },
        {
         "hoverinfo": "text",
         "line": {
          "color": "blue",
          "width": 0.3
         },
         "mode": "lines",
         "text": [
          "Robert-Baratheon--Jorah-Mormont: 1.0"
         ],
         "x": [
          0.04691105159571611,
          -0.019064354672386447,
          null
         ],
         "y": [
          0.11908953963479799,
          0.48259338219442455,
          null
         ],
         "type": "scatter"
        },
        {
         "hoverinfo": "text",
         "line": {
          "color": "blue",
          "width": 0.31473489442754443
         },
         "mode": "lines",
         "text": [
          "Robert-Baratheon--Jory-Cassel: 1.0277777777777777"
         ],
         "x": [
          0.04691105159571611,
          -0.014992917689555097,
          null
         ],
         "y": [
          0.11908953963479799,
          0.07085877790405458,
          null
         ],
         "type": "scatter"
        },
        {
         "hoverinfo": "text",
         "line": {
          "color": "blue",
          "width": 0.3
         },
         "mode": "lines",
         "text": [
          "Robert-Baratheon--Lancel-Lannister: 1.0"
         ],
         "x": [
          0.04691105159571611,
          0.28203926709016386,
          null
         ],
         "y": [
          0.11908953963479799,
          0.23507073677138712,
          null
         ],
         "type": "scatter"
        },
        {
         "hoverinfo": "text",
         "line": {
          "color": "blue",
          "width": 0.3036553222084388
         },
         "mode": "lines",
         "text": [
          "Robert-Baratheon--Loras-Tyrell: 1.0069444444444444"
         ],
         "x": [
          0.04691105159571611,
          0.18042954714332093,
          null
         ],
         "y": [
          0.11908953963479799,
          0.10241972177968102,
          null
         ],
         "type": "scatter"
        },
        {
         "hoverinfo": "text",
         "line": {
          "color": "blue",
          "width": 0.32221562524998465
         },
         "mode": "lines",
         "text": [
          "Robert-Baratheon--Lyanna-Stark: 1.0416666666666665"
         ],
         "x": [
          0.04691105159571611,
          0.07854020176175182,
          null
         ],
         "y": [
          0.11908953963479799,
          0.24050048357278792,
          null
         ],
         "type": "scatter"
        },
        {
         "hoverinfo": "text",
         "line": {
          "color": "blue",
          "width": 0.30732960033145773
         },
         "mode": "lines",
         "text": [
          "Robert-Baratheon--Lysa-Arryn: 1.0138888888888888"
         ],
         "x": [
          0.04691105159571611,
          0.12653315489042977,
          null
         ],
         "y": [
          0.11908953963479799,
          -0.09013791103676602,
          null
         ],
         "type": "scatter"
        },
        {
         "hoverinfo": "text",
         "line": {
          "color": "blue",
          "width": 0.3
         },
         "mode": "lines",
         "text": [
          "Robert-Baratheon--Meryn-Trant: 1.0"
         ],
         "x": [
          0.04691105159571611,
          0.17832790627769748,
          null
         ],
         "y": [
          0.11908953963479799,
          0.05658916185941756,
          null
         ],
         "type": "scatter"
        },
        {
         "hoverinfo": "text",
         "line": {
          "color": "blue",
          "width": 0.31473489442754443
         },
         "mode": "lines",
         "text": [
          "Robert-Baratheon--Mordane: 1.0277777777777777"
         ],
         "x": [
          0.04691105159571611,
          0.02543575930860007,
          null
         ],
         "y": [
          0.11908953963479799,
          -0.009281754547322905,
          null
         ],
         "type": "scatter"
        },
        {
         "hoverinfo": "text",
         "line": {
          "color": "blue",
          "width": 0.3
         },
         "mode": "lines",
         "text": [
          "Robert-Baratheon--Myrcella-Baratheon: 1.0"
         ],
         "x": [
          0.04691105159571611,
          0.11358554520503127,
          null
         ],
         "y": [
          0.11908953963479799,
          -0.02132348751762153,
          null
         ],
         "type": "scatter"
        },
        {
         "hoverinfo": "text",
         "line": {
          "color": "blue",
          "width": 0.4052565909026495
         },
         "mode": "lines",
         "text": [
          "Robert-Baratheon--Petyr-Baelish: 1.1875"
         ],
         "x": [
          0.04691105159571611,
          0.05648083182260479,
          null
         ],
         "y": [
          0.11908953963479799,
          0.03260685690219549,
          null
         ],
         "type": "scatter"
        },
        {
         "hoverinfo": "text",
         "line": {
          "color": "blue",
          "width": 0.38881294707719766
         },
         "mode": "lines",
         "text": [
          "Robert-Baratheon--Pycelle: 1.159722222222222"
         ],
         "x": [
          0.04691105159571611,
          0.0857655486770623,
          null
         ],
         "y": [
          0.11908953963479799,
          0.08225288197648849,
          null
         ],
         "type": "scatter"
        },
        {
         "hoverinfo": "text",
         "line": {
          "color": "blue",
          "width": 0.3184658461431345
         },
         "mode": "lines",
         "text": [
          "Robert-Baratheon--Raymun-Darry: 1.034722222222222"
         ],
         "x": [
          0.04691105159571611,
          0.16783225171148508,
          null
         ],
         "y": [
          0.11908953963479799,
          0.2802025259265742,
          null
         ],
         "type": "scatter"
        },
        {
         "hoverinfo": "text",
         "line": {
          "color": "blue",
          "width": 0.4563271415025829
         },
         "mode": "lines",
         "text": [
          "Robert-Baratheon--Renly-Baratheon: 1.2708333333333333"
         ],
         "x": [
          0.04691105159571611,
          0.09935036609841824,
          null
         ],
         "y": [
          0.11908953963479799,
          0.0404126925892233,
          null
         ],
         "type": "scatter"
        },
        {
         "hoverinfo": "text",
         "line": {
          "color": "blue",
          "width": 0.37266207796196593
         },
         "mode": "lines",
         "text": [
          "Robert-Baratheon--Rhaegar-Targaryen: 1.1319444444444444"
         ],
         "x": [
          0.04691105159571611,
          0.014653623613678292,
          null
         ],
         "y": [
          0.11908953963479799,
          0.26775314626515023,
          null
         ],
         "type": "scatter"
        },
        {
         "hoverinfo": "text",
         "line": {
          "color": "blue",
          "width": 0.31102280182627423
         },
         "mode": "lines",
         "text": [
          "Robert-Baratheon--Robb-Stark: 1.0208333333333333"
         ],
         "x": [
          0.04691105159571611,
          -0.043314398094237976,
          null
         ],
         "y": [
          0.11908953963479799,
          -0.05668054863819679,
          null
         ],
         "type": "scatter"
        },
        {
         "hoverinfo": "text",
         "line": {
          "color": "blue",
          "width": 0.32221562524998465
         },
         "mode": "lines",
         "text": [
          "Robert-Baratheon--Sandor-Clegane: 1.0416666666666665"
         ],
         "x": [
          0.04691105159571611,
          0.12952798707083144,
          null
         ],
         "y": [
          0.11908953963479799,
          0.019266875519648598,
          null
         ],
         "type": "scatter"
        },
        {
         "hoverinfo": "text",
         "line": {
          "color": "blue",
          "width": 0.38881294707719766
         },
         "mode": "lines",
         "text": [
          "Robert-Baratheon--Sansa-Stark: 1.159722222222222"
         ],
         "x": [
          0.04691105159571611,
          0.0456143512727685,
          null
         ],
         "y": [
          0.11908953963479799,
          0.05750169859092548,
          null
         ],
         "type": "scatter"
        },
        {
         "hoverinfo": "text",
         "line": {
          "color": "blue",
          "width": 0.3686703141402487
         },
         "mode": "lines",
         "text": [
          "Robert-Baratheon--Stannis-Baratheon: 1.125"
         ],
         "x": [
          0.04691105159571611,
          0.10522382841735935,
          null
         ],
         "y": [
          0.11908953963479799,
          0.02502521588793754,
          null
         ],
         "type": "scatter"
        },
        {
         "hoverinfo": "text",
         "line": {
          "color": "blue",
          "width": 0.3
         },
         "mode": "lines",
         "text": [
          "Robert-Baratheon--Tommen-Baratheon: 1.0"
         ],
         "x": [
          0.04691105159571611,
          -0.02099681451767266,
          null
         ],
         "y": [
          0.11908953963479799,
          -0.0021973061319556933,
          null
         ],
         "type": "scatter"
        },
        {
         "hoverinfo": "text",
         "line": {
          "color": "blue",
          "width": 0.35680576364309297
         },
         "mode": "lines",
         "text": [
          "Robert-Baratheon--Tyrion-Lannister: 1.1041666666666665"
         ],
         "x": [
          0.04691105159571611,
          -0.06482818728114911,
          null
         ],
         "y": [
          0.11908953963479799,
          -0.13603594747656403,
          null
         ],
         "type": "scatter"
        },
        {
         "hoverinfo": "text",
         "line": {
          "color": "blue",
          "width": 0.3374023903222028
         },
         "mode": "lines",
         "text": [
          "Robert-Baratheon--Tywin-Lannister: 1.0694444444444444"
         ],
         "x": [
          0.04691105159571611,
          0.032045134513899176,
          null
         ],
         "y": [
          0.11908953963479799,
          -0.039305273695998115,
          null
         ],
         "type": "scatter"
        },
        {
         "hoverinfo": "text",
         "line": {
          "color": "blue",
          "width": 0.4304672438703986
         },
         "mode": "lines",
         "text": [
          "Robert-Baratheon--Varys: 1.2291666666666665"
         ],
         "x": [
          0.04691105159571611,
          0.036618960965745066,
          null
         ],
         "y": [
          0.11908953963479799,
          0.0952360213840959,
          null
         ],
         "type": "scatter"
        },
        {
         "hoverinfo": "text",
         "line": {
          "color": "blue",
          "width": 0.3
         },
         "mode": "lines",
         "text": [
          "Robert-Baratheon--Vayon-Poole: 1.0"
         ],
         "x": [
          0.04691105159571611,
          0.13920241258330932,
          null
         ],
         "y": [
          0.11908953963479799,
          0.10402928691784472,
          null
         ],
         "type": "scatter"
        },
        {
         "hoverinfo": "text",
         "line": {
          "color": "blue",
          "width": 0.31473489442754443
         },
         "mode": "lines",
         "text": [
          "Robert-Baratheon--Viserys-Targaryen: 1.0277777777777777"
         ],
         "x": [
          0.04691105159571611,
          -0.027909544187174198,
          null
         ],
         "y": [
          0.11908953963479799,
          0.42414680182602954,
          null
         ],
         "type": "scatter"
        },
        {
         "hoverinfo": "text",
         "line": {
          "color": "blue",
          "width": 0.4219912818774138
         },
         "mode": "lines",
         "text": [
          "Jon-Snow--Aemon-Targaryen: 1.2152777777777777"
         ],
         "x": [
          -0.14172448166879853,
          -0.3428145406562496,
          null
         ],
         "y": [
          -0.17936515963381333,
          -0.3189554820482568,
          null
         ],
         "type": "scatter"
        },
        {
         "hoverinfo": "text",
         "line": {
          "color": "blue",
          "width": 0.30732960033145773
         },
         "mode": "lines",
         "text": [
          "Jon-Snow--Albett: 1.0138888888888888"
         ],
         "x": [
          -0.14172448166879853,
          -0.24433559030060994,
          null
         ],
         "y": [
          -0.17936515963381333,
          -0.4189665065441949,
          null
         ],
         "type": "scatter"
        },
        {
         "hoverinfo": "text",
         "line": {
          "color": "blue",
          "width": 0.4135876614931034
         },
         "mode": "lines",
         "text": [
          "Jon-Snow--Alliser-Thorne: 1.2013888888888888"
         ],
         "x": [
          -0.14172448166879853,
          -0.230372819930384,
          null
         ],
         "y": [
          -0.17936515963381333,
          -0.27393144522537693,
          null
         ],
         "type": "scatter"
        },
        {
         "hoverinfo": "text",
         "line": {
          "color": "blue",
          "width": 0.43473228872184205
         },
         "mode": "lines",
         "text": [
          "Jon-Snow--Arya-Stark: 1.2361111111111112"
         ],
         "x": [
          -0.14172448166879853,
          0.03199436451402057,
          null
         ],
         "y": [
          -0.17936515963381333,
          0.02078565327859566,
          null
         ],
         "type": "scatter"
        },
        {
         "hoverinfo": "text",
         "line": {
          "color": "blue",
          "width": 0.4519723036221478
         },
         "mode": "lines",
         "text": [
          "Jon-Snow--Benjen-Stark: 1.2638888888888888"
         ],
         "x": [
          -0.14172448166879853,
          -0.12405528656493038,
          null
         ],
         "y": [
          -0.17936515963381333,
          -0.1404897871753785,
          null
         ],
         "type": "scatter"
        },
        {
         "hoverinfo": "text",
         "line": {
          "color": "blue",
          "width": 0.32598420029006264
         },
         "mode": "lines",
         "text": [
          "Jon-Snow--Bowen-Marsh: 1.0486111111111112"
         ],
         "x": [
          -0.14172448166879853,
          -0.3152731669301327,
          null
         ],
         "y": [
          -0.17936515963381333,
          -0.26076046174051876,
          null
         ],
         "type": "scatter"
        },
        {
         "hoverinfo": "text",
         "line": {
          "color": "blue",
          "width": 0.5191618715077455
         },
         "mode": "lines",
         "text": [
          "Jon-Snow--Bran-Stark: 1.3680555555555554"
         ],
         "x": [
          -0.14172448166879853,
          -0.08490608606434874,
          null
         ],
         "y": [
          -0.17936515963381333,
          -9.500509863035247E-4,
          null
         ],
         "type": "scatter"
        },
        {
         "hoverinfo": "text",
         "line": {
          "color": "blue",
          "width": 0.34124583967861705
         },
         "mode": "lines",
         "text": [
          "Jon-Snow--Catelyn-Stark: 1.0763888888888888"
         ],
         "x": [
          -0.14172448166879853,
          0.07103519122741635,
          null
         ],
         "y": [
          -0.17936515963381333,
          -0.13779150827046416,
          null
         ],
         "type": "scatter"
        },
        {
         "hoverinfo": "text",
         "line": {
          "color": "blue",
          "width": 0.3036553222084388
         },
         "mode": "lines",
         "text": [
          "Jon-Snow--Cersei-Lannister: 1.0069444444444444"
         ],
         "x": [
          -0.14172448166879853,
          0.065324051953967,
          null
         ],
         "y": [
          -0.17936515963381333,
          -0.011306557654175996,
          null
         ],
         "type": "scatter"
        },
        {
         "hoverinfo": "text",
         "line": {
          "color": "blue",
          "width": 0.3036553222084388
         },
         "mode": "lines",
         "text": [
          "Jon-Snow--Chett: 1.0069444444444444"
         ],
         "x": [
          -0.14172448166879853,
          -0.36933534667252454,
          null
         ],
         "y": [
          -0.17936515963381333,
          -0.28813122400786007,
          null
         ],
         "type": "scatter"
        },
        {
         "hoverinfo": "text",
         "line": {
          "color": "blue",
          "width": 0.31102280182627423
         },
         "mode": "lines",
         "text": [
          "Jon-Snow--Dareon: 1.0208333333333333"
         ],
         "x": [
          -0.14172448166879853,
          -0.33594387595066927,
          null
         ],
         "y": [
          -0.17936515963381333,
          -0.3951268133519808,
          null
         ],
         "type": "scatter"
        },
        {
         "hoverinfo": "text",
         "line": {
          "color": "blue",
          "width": 0.31473489442754443
         },
         "mode": "lines",
         "text": [
          "Jon-Snow--Donal-Noye: 1.0277777777777777"
         ],
         "x": [
          -0.14172448166879853,
          -0.13816591358780214,
          null
         ],
         "y": [
          -0.17936515963381333,
          -0.44490624763376213,
          null
         ],
         "type": "scatter"
        },
        {
         "hoverinfo": "text",
         "line": {
          "color": "blue",
          "width": 0.3036553222084388
         },
         "mode": "lines",
         "text": [
          "Jon-Snow--Dywen: 1.0069444444444444"
         ],
         "x": [
          -0.14172448166879853,
          -0.27855156243920004,
          null
         ],
         "y": [
          -0.17936515963381333,
          -0.44207753125786103,
          null
         ],
         "type": "scatter"
        },
        {
         "hoverinfo": "text",
         "line": {
          "color": "blue",
          "width": 0.40941304434461595
         },
         "mode": "lines",
         "text": [
          "Jon-Snow--Grenn: 1.1944444444444444"
         ],
         "x": [
          -0.14172448166879853,
          -0.27894341162087527,
          null
         ],
         "y": [
          -0.17936515963381333,
          -0.30013732874856497,
          null
         ],
         "type": "scatter"
        },
        {
         "hoverinfo": "text",
         "line": {
          "color": "blue",
          "width": 0.3766722511877533
         },
         "mode": "lines",
         "text": [
          "Jon-Snow--Halder: 1.1388888888888888"
         ],
         "x": [
          -0.14172448166879853,
          -0.28276418942434495,
          null
         ],
         "y": [
          -0.17936515963381333,
          -0.34724935219928904,
          null
         ],
         "type": "scatter"
        },
        {
         "hoverinfo": "text",
         "line": {
          "color": "blue",
          "width": 0.30732960033145773
         },
         "mode": "lines",
         "text": [
          "Jon-Snow--Hobb: 1.0138888888888888"
         ],
         "x": [
          -0.14172448166879853,
          -0.37573561285877116,
          null
         ],
         "y": [
          -0.17936515963381333,
          -0.3493284146966489,
          null
         ],
         "type": "scatter"
        },
        {
         "hoverinfo": "text",
         "line": {
          "color": "blue",
          "width": 0.31473489442754443
         },
         "mode": "lines",
         "text": [
          "Jon-Snow--Jaremy-Rykker: 1.0277777777777777"
         ],
         "x": [
          -0.14172448166879853,
          -0.20527231708199528,
          null
         ],
         "y": [
          -0.17936515963381333,
          -0.3549798117784053,
          null
         ],
         "type": "scatter"
        },
        {
         "hoverinfo": "text",
         "line": {
          "color": "blue",
          "width": 0.6398889327239897
         },
         "mode": "lines",
         "text": [
          "Jon-Snow--Jeor-Mormont: 1.5416666666666665"
         ],
         "x": [
          -0.14172448166879853,
          -0.21544125756345248,
          null
         ],
         "y": [
          -0.17936515963381333,
          -0.17131508038589652,
          null
         ],
         "type": "scatter"
        },
        {
         "hoverinfo": "text",
         "line": {
          "color": "blue",
          "width": 0.32598420029006264
         },
         "mode": "lines",
         "text": [
          "Jon-Snow--Joffrey-Baratheon: 1.0486111111111112"
         ],
         "x": [
          -0.14172448166879853,
          0.06727571942920114,
          null
         ],
         "y": [
          -0.17936515963381333,
          0.009801685120611444,
          null
         ],
         "type": "scatter"
        },
        {
         "hoverinfo": "text",
         "line": {
          "color": "blue",
          "width": 0.3
         },
         "mode": "lines",
         "text": [
          "Jon-Snow--Jory-Cassel: 1.0"
         ],
         "x": [
          -0.14172448166879853,
          -0.014992917689555097,
          null
         ],
         "y": [
          -0.17936515963381333,
          0.07085877790405458,
          null
         ],
         "type": "scatter"
        },
        {
         "hoverinfo": "text",
         "line": {
          "color": "blue",
          "width": 0.32598420029006264
         },
         "mode": "lines",
         "text": [
          "Jon-Snow--Luwin: 1.0486111111111112"
         ],
         "x": [
          -0.14172448166879853,
          -0.09543015503848222,
          null
         ],
         "y": [
          -0.17936515963381333,
          -0.033676325759921015,
          null
         ],
         "type": "scatter"
        },
        {
         "hoverinfo": "text",
         "line": {
          "color": "blue",
          "width": 0.3
         },
         "mode": "lines",
         "text": [
          "Jon-Snow--Matthar: 1.0"
         ],
         "x": [
          -0.14172448166879853,
          -0.40940545005844886,
          null
         ],
         "y": [
          -0.17936515963381333,
          -0.24393767896380067,
          null
         ],
         "type": "scatter"
        },
        {
         "hoverinfo": "text",
         "line": {
          "color": "blue",
          "width": 0.3036553222084388
         },
         "mode": "lines",
         "text": [
          "Jon-Snow--Mordane: 1.0069444444444444"
         ],
         "x": [
          -0.14172448166879853,
          0.02543575930860007,
          null
         ],
         "y": [
          -0.17936515963381333,
          -0.009281754547322905,
          null
         ],
         "type": "scatter"
        },
        {
         "hoverinfo": "text",
         "line": {
          "color": "blue",
          "width": 0.30732960033145773
         },
         "mode": "lines",
         "text": [
          "Jon-Snow--Othor: 1.0138888888888888"
         ],
         "x": [
          -0.14172448166879853,
          -0.19981011994212527,
          null
         ],
         "y": [
          -0.17936515963381333,
          -0.445874147948303,
          null
         ],
         "type": "scatter"
        },
        {
         "hoverinfo": "text",
         "line": {
          "color": "blue",
          "width": 0.4694988641625526
         },
         "mode": "lines",
         "text": [
          "Jon-Snow--Pypar: 1.2916666666666665"
         ],
         "x": [
          -0.14172448166879853,
          -0.25424319562072223,
          null
         ],
         "y": [
          -0.17936515963381333,
          -0.33328172231759384,
          null
         ],
         "type": "scatter"
        },
        {
         "hoverinfo": "text",
         "line": {
          "color": "blue",
          "width": 0.3184658461431345
         },
         "mode": "lines",
         "text": [
          "Jon-Snow--Rast: 1.034722222222222"
         ],
         "x": [
          -0.14172448166879853,
          -0.2496285260136785,
          null
         ],
         "y": [
          -0.17936515963381333,
          -0.36938882317979926,
          null
         ],
         "type": "scatter"
        },
        {
         "hoverinfo": "text",
         "line": {
          "color": "blue",
          "width": 0.3297715400664042
         },
         "mode": "lines",
         "text": [
          "Jon-Snow--Rickon-Stark: 1.0555555555555556"
         ],
         "x": [
          -0.14172448166879853,
          -0.031226770640811058,
          null
         ],
         "y": [
          -0.17936515963381333,
          -0.04175810966117788,
          null
         ],
         "type": "scatter"
        },
        {
         "hoverinfo": "text",
         "line": {
          "color": "blue",
          "width": 0.5054054501643984
         },
         "mode": "lines",
         "text": [
          "Jon-Snow--Robb-Stark: 1.347222222222222"
         ],
         "x": [
          -0.14172448166879853,
          -0.043314398094237976,
          null
         ],
         "y": [
          -0.17936515963381333,
          -0.05668054863819679,
          null
         ],
         "type": "scatter"
        },
        {
         "hoverinfo": "text",
         "line": {
          "color": "blue",
          "width": 0.3
         },
         "mode": "lines",
         "text": [
          "Jon-Snow--Rodrik-Cassel: 1.0"
         ],
         "x": [
          -0.14172448166879853,
          0.0023389107467837325,
          null
         ],
         "y": [
          -0.17936515963381333,
          -0.06416374395556995,
          null
         ],
         "type": "scatter"
        },
        {
         "hoverinfo": "text",
         "line": {
          "color": "blue",
          "width": 0.6398889327239897
         },
         "mode": "lines",
         "text": [
          "Jon-Snow--Samwell-Tarly: 1.5416666666666665"
         ],
         "x": [
          -0.14172448166879853,
          -0.26837498129823595,
          null
         ],
         "y": [
          -0.17936515963381333,
          -0.26571040585496464,
          null
         ],
         "type": "scatter"
        },
        {
         "hoverinfo": "text",
         "line": {
          "color": "blue",
          "width": 0.3184658461431345
         },
         "mode": "lines",
         "text": [
          "Jon-Snow--Sansa-Stark: 1.034722222222222"
         ],
         "x": [
          -0.14172448166879853,
          0.0456143512727685,
          null
         ],
         "y": [
          -0.17936515963381333,
          0.05750169859092548,
          null
         ],
         "type": "scatter"
        },
        {
         "hoverinfo": "text",
         "line": {
          "color": "blue",
          "width": 0.3184658461431345
         },
         "mode": "lines",
         "text": [
          "Jon-Snow--Theon-Greyjoy: 1.034722222222222"
         ],
         "x": [
          -0.14172448166879853,
          -0.018570992946724544,
          null
         ],
         "y": [
          -0.17936515963381333,
          -0.09792368559960818,
          null
         ],
         "type": "scatter"
        },
        {
         "hoverinfo": "text",
         "line": {
          "color": "blue",
          "width": 0.3374023903222028
         },
         "mode": "lines",
         "text": [
          "Jon-Snow--Todder: 1.0694444444444444"
         ],
         "x": [
          -0.14172448166879853,
          -0.2956201928286358,
          null
         ],
         "y": [
          -0.17936515963381333,
          -0.3796356429562429,
          null
         ],
         "type": "scatter"
        },
        {
         "hoverinfo": "text",
         "line": {
          "color": "blue",
          "width": 0.5191618715077455
         },
         "mode": "lines",
         "text": [
          "Jon-Snow--Tyrion-Lannister: 1.3680555555555554"
         ],
         "x": [
          -0.14172448166879853,
          -0.06482818728114911,
          null
         ],
         "y": [
          -0.17936515963381333,
          -0.13603594747656403,
          null
         ],
         "type": "scatter"
        },
        {
         "hoverinfo": "text",
         "line": {
          "color": "blue",
          "width": 0.31102280182627423
         },
         "mode": "lines",
         "text": [
          "Jon-Snow--Yoren: 1.0208333333333333"
         ],
         "x": [
          -0.14172448166879853,
          -0.13829944821982637,
          null
         ],
         "y": [
          -0.17936515963381333,
          -0.09318015549971584,
          null
         ],
         "type": "scatter"
        },
        {
         "hoverinfo": "text",
         "line": {
          "color": "blue",
          "width": 0.31473489442754443
         },
         "mode": "lines",
         "text": [
          "Tyrion-Lannister--Alliser-Thorne: 1.0277777777777777"
         ],
         "x": [
          -0.06482818728114911,
          -0.230372819930384,
          null
         ],
         "y": [
          -0.13603594747656403,
          -0.27393144522537693,
          null
         ],
         "type": "scatter"
        },
        {
         "hoverinfo": "text",
         "line": {
          "color": "blue",
          "width": 0.3184658461431345
         },
         "mode": "lines",
         "text": [
          "Tyrion-Lannister--Benjen-Stark: 1.034722222222222"
         ],
         "x": [
          -0.06482818728114911,
          -0.12405528656493038,
          null
         ],
         "y": [
          -0.13603594747656403,
          -0.1404897871753785,
          null
         ],
         "type": "scatter"
        },
        {
         "hoverinfo": "text",
         "line": {
          "color": "blue",
          "width": 0.40941304434461595
         },
         "mode": "lines",
         "text": [
          "Tyrion-Lannister--Bran-Stark: 1.1944444444444444"
         ],
         "x": [
          -0.06482818728114911,
          -0.08490608606434874,
          null
         ],
         "y": [
          -0.13603594747656403,
          -9.500509863035247E-4,
          null
         ],
         "type": "scatter"
        },
        {
         "hoverinfo": "text",
         "line": {
          "color": "blue",
          "width": 0.5424401034056527
         },
         "mode": "lines",
         "text": [
          "Tyrion-Lannister--Bronn: 1.4027777777777777"
         ],
         "x": [
          -0.06482818728114911,
          -0.010611193952538631,
          null
         ],
         "y": [
          -0.13603594747656403,
          -0.261238230356099,
          null
         ],
         "type": "scatter"
        },
        {
         "hoverinfo": "text",
         "line": {
          "color": "blue",
          "width": 0.3036553222084388
         },
         "mode": "lines",
         "text": [
          "Tyrion-Lannister--Brynden-Tully: 1.0069444444444444"
         ],
         "x": [
          -0.06482818728114911,
          0.07835692800964725,
          null
         ],
         "y": [
          -0.13603594747656403,
          -0.1613095772366983,
          null
         ],
         "type": "scatter"
        },
        {
         "hoverinfo": "text",
         "line": {
          "color": "blue",
          "width": 0.48731041704040057
         },
         "mode": "lines",
         "text": [
          "Tyrion-Lannister--Catelyn-Stark: 1.3194444444444444"
         ],
         "x": [
          -0.06482818728114911,
          0.07103519122741635,
          null
         ],
         "y": [
          -0.13603594747656403,
          -0.13779150827046416,
          null
         ],
         "type": "scatter"
        },
        {
         "hoverinfo": "text",
         "line": {
          "color": "blue",
          "width": 0.3928964787632692
         },
         "mode": "lines",
         "text": [
          "Tyrion-Lannister--Cersei-Lannister: 1.1666666666666665"
         ],
         "x": [
          -0.06482818728114911,
          0.065324051953967,
          null
         ],
         "y": [
          -0.13603594747656403,
          -0.011306557654175996,
          null
         ],
         "type": "scatter"
        },
        {
         "hoverinfo": "text",
         "line": {
          "color": "blue",
          "width": 0.30732960033145773
         },
         "mode": "lines",
         "text": [
          "Tyrion-Lannister--Chella: 1.0138888888888888"
         ],
         "x": [
          -0.06482818728114911,
          -0.2978344138903758,
          null
         ],
         "y": [
          -0.13603594747656403,
          -0.16343024392794284,
          null
         ],
         "type": "scatter"
        },
        {
         "hoverinfo": "text",
         "line": {
          "color": "blue",
          "width": 0.30732960033145773
         },
         "mode": "lines",
         "text": [
          "Tyrion-Lannister--Chiggen: 1.0138888888888888"
         ],
         "x": [
          -0.06482818728114911,
          -0.04029994691827284,
          null
         ],
         "y": [
          -0.13603594747656403,
          -0.3425045562821123,
          null
         ],
         "type": "scatter"
        },
        {
         "hoverinfo": "text",
         "line": {
          "color": "blue",
          "width": 0.31102280182627423
         },
         "mode": "lines",
         "text": [
          "Tyrion-Lannister--Conn: 1.0208333333333333"
         ],
         "x": [
          -0.06482818728114911,
          -0.14645322420153217,
          null
         ],
         "y": [
          -0.13603594747656403,
          -0.49644141880679776,
          null
         ],
         "type": "scatter"
        },
        {
         "hoverinfo": "text",
         "line": {
          "color": "blue",
          "width": 0.31473489442754443
         },
         "mode": "lines",
         "text": [
          "Tyrion-Lannister--Gregor-Clegane: 1.0277777777777777"
         ],
         "x": [
          -0.06482818728114911,
          0.07693119390322473,
          null
         ],
         "y": [
          -0.13603594747656403,
          0.04684415948750067,
          null
         ],
         "type": "scatter"
        },
        {
         "hoverinfo": "text",
         "line": {
          "color": "blue",
          "width": 0.31473489442754443
         },
         "mode": "lines",
         "text": [
          "Tyrion-Lannister--Gunthor-son-of-Gurn: 1.0277777777777777"
         ],
         "x": [
          -0.06482818728114911,
          -0.3440346576606324,
          null
         ],
         "y": [
          -0.13603594747656403,
          -0.15407580296344667,
          null
         ],
         "type": "scatter"
        },
        {
         "hoverinfo": "text",
         "line": {
          "color": "blue",
          "width": 0.4304672438703986
         },
         "mode": "lines",
         "text": [
          "Tyrion-Lannister--Jaime-Lannister: 1.2291666666666665"
         ],
         "x": [
          -0.06482818728114911,
          0.08411778299242077,
          null
         ],
         "y": [
          -0.13603594747656403,
          -0.0127285298056426,
          null
         ],
         "type": "scatter"
        },
        {
         "hoverinfo": "text",
         "line": {
          "color": "blue",
          "width": 0.3766722511877533
         },
         "mode": "lines",
         "text": [
          "Tyrion-Lannister--Jeor-Mormont: 1.1388888888888888"
         ],
         "x": [
          -0.06482818728114911,
          -0.21544125756345248,
          null
         ],
         "y": [
          -0.13603594747656403,
          -0.17131508038589652,
          null
         ],
         "type": "scatter"
        },
        {
         "hoverinfo": "text",
         "line": {
          "color": "blue",
          "width": 0.3374023903222028
         },
         "mode": "lines",
         "text": [
          "Tyrion-Lannister--Joffrey-Baratheon: 1.0694444444444444"
         ],
         "x": [
          -0.06482818728114911,
          0.06727571942920114,
          null
         ],
         "y": [
          -0.13603594747656403,
          0.009801685120611444,
          null
         ],
         "type": "scatter"
        },
        {
         "hoverinfo": "text",
         "line": {
          "color": "blue",
          "width": 0.30732960033145773
         },
         "mode": "lines",
         "text": [
          "Tyrion-Lannister--Jon-Arryn: 1.0138888888888888"
         ],
         "x": [
          -0.06482818728114911,
          0.017573226254451197,
          null
         ],
         "y": [
          -0.13603594747656403,
          0.04811545290389017,
          null
         ],
         "type": "scatter"
        },
        {
         "hoverinfo": "text",
         "line": {
          "color": "blue",
          "width": 0.31102280182627423
         },
         "mode": "lines",
         "text": [
          "Tyrion-Lannister--Jyck: 1.0208333333333333"
         ],
         "x": [
          -0.06482818728114911,
          -0.2839334301501014,
          null
         ],
         "y": [
          -0.13603594747656403,
          -0.20765598251752873,
          null
         ],
         "type": "scatter"
        },
        {
         "hoverinfo": "text",
         "line": {
          "color": "blue",
          "width": 0.34510793151786423
         },
         "mode": "lines",
         "text": [
          "Tyrion-Lannister--Kevan-Lannister: 1.0833333333333333"
         ],
         "x": [
          -0.06482818728114911,
          0.038725095394137404,
          null
         ],
         "y": [
          -0.13603594747656403,
          -0.17198252621642945,
          null
         ],
         "type": "scatter"
        },
        {
         "hoverinfo": "text",
         "line": {
          "color": "blue",
          "width": 0.30732960033145773
         },
         "mode": "lines",
         "text": [
          "Tyrion-Lannister--Kurleket: 1.0138888888888888"
         ],
         "x": [
          -0.06482818728114911,
          -0.34610266209825746,
          null
         ],
         "y": [
          -0.13603594747656403,
          -0.11436160134328884,
          null
         ],
         "type": "scatter"
        },
        {
         "hoverinfo": "text",
         "line": {
          "color": "blue",
          "width": 0.3036553222084388
         },
         "mode": "lines",
         "text": [
          "Tyrion-Lannister--Leo-Lefford: 1.0069444444444444"
         ],
         "x": [
          -0.06482818728114911,
          -0.33568785814777485,
          null
         ],
         "y": [
          -0.13603594747656403,
          -0.07637760921540732,
          null
         ],
         "type": "scatter"
        },
        {
         "hoverinfo": "text",
         "line": {
          "color": "blue",
          "width": 0.32598420029006264
         },
         "mode": "lines",
         "text": [
          "Tyrion-Lannister--Luwin: 1.0486111111111112"
         ],
         "x": [
          -0.06482818728114911,
          -0.09543015503848222,
          null
         ],
         "y": [
          -0.13603594747656403,
          -0.033676325759921015,
          null
         ],
         "type": "scatter"
        },
        {
         "hoverinfo": "text",
         "line": {
          "color": "blue",
          "width": 0.38474771355418536
         },
         "mode": "lines",
         "text": [
          "Tyrion-Lannister--Lysa-Arryn: 1.1527777777777777"
         ],
         "x": [
          -0.06482818728114911,
          0.12653315489042977,
          null
         ],
         "y": [
          -0.13603594747656403,
          -0.09013791103676602,
          null
         ],
         "type": "scatter"
        },
        {
         "hoverinfo": "text",
         "line": {
          "color": "blue",
          "width": 0.32598420029006264
         },
         "mode": "lines",
         "text": [
          "Tyrion-Lannister--Marillion: 1.0486111111111112"
         ],
         "x": [
          -0.06482818728114911,
          0.009807945683700232,
          null
         ],
         "y": [
          -0.13603594747656403,
          -0.22617742973005572,
          null
         ],
         "type": "scatter"
        },
        {
         "hoverinfo": "text",
         "line": {
          "color": "blue",
          "width": 0.36469698806687256
         },
         "mode": "lines",
         "text": [
          "Tyrion-Lannister--Mord: 1.1180555555555556"
         ],
         "x": [
          -0.06482818728114911,
          -0.28971459286676854,
          null
         ],
         "y": [
          -0.13603594747656403,
          -0.11951445264392645,
          null
         ],
         "type": "scatter"
        },
        {
         "hoverinfo": "text",
         "line": {
          "color": "blue",
          "width": 0.30732960033145773
         },
         "mode": "lines",
         "text": [
          "Tyrion-Lannister--Morrec: 1.0138888888888888"
         ],
         "x": [
          -0.06482818728114911,
          -0.3258417493624405,
          null
         ],
         "y": [
          -0.13603594747656403,
          -0.19817554510506186,
          null
         ],
         "type": "scatter"
        },
        {
         "hoverinfo": "text",
         "line": {
          "color": "blue",
          "width": 0.3297715400664042
         },
         "mode": "lines",
         "text": [
          "Tyrion-Lannister--Petyr-Baelish: 1.0555555555555556"
         ],
         "x": [
          -0.06482818728114911,
          0.05648083182260479,
          null
         ],
         "y": [
          -0.13603594747656403,
          0.03260685690219549,
          null
         ],
         "type": "scatter"
        },
        {
         "hoverinfo": "text",
         "line": {
          "color": "blue",
          "width": 0.3036553222084388
         },
         "mode": "lines",
         "text": [
          "Tyrion-Lannister--Renly-Baratheon: 1.0069444444444444"
         ],
         "x": [
          -0.06482818728114911,
          0.09935036609841824,
          null
         ],
         "y": [
          -0.13603594747656403,
          0.0404126925892233,
          null
         ],
         "type": "scatter"
        },
        {
         "hoverinfo": "text",
         "line": {
          "color": "blue",
          "width": 0.3036553222084388
         },
         "mode": "lines",
         "text": [
          "Tyrion-Lannister--Rickon-Stark: 1.0069444444444444"
         ],
         "x": [
          -0.06482818728114911,
          -0.031226770640811058,
          null
         ],
         "y": [
          -0.13603594747656403,
          -0.04175810966117788,
          null
         ],
         "type": "scatter"
        },
        {
         "hoverinfo": "text",
         "line": {
          "color": "blue",
          "width": 0.3297715400664042
         },
         "mode": "lines",
         "text": [
          "Tyrion-Lannister--Robb-Stark: 1.0555555555555556"
         ],
         "x": [
          -0.06482818728114911,
          -0.043314398094237976,
          null
         ],
         "y": [
          -0.13603594747656403,
          -0.05668054863819679,
          null
         ],
         "type": "scatter"
        },
        {
         "hoverinfo": "text",
         "line": {
          "color": "blue",
          "width": 0.32221562524998465
         },
         "mode": "lines",
         "text": [
          "Tyrion-Lannister--Robert-Arryn: 1.0416666666666665"
         ],
         "x": [
          -0.06482818728114911,
          0.09616131519156314,
          null
         ],
         "y": [
          -0.13603594747656403,
          -0.22373173822578152,
          null
         ],
         "type": "scatter"
        },
        {
         "hoverinfo": "text",
         "line": {
          "color": "blue",
          "width": 0.32598420029006264
         },
         "mode": "lines",
         "text": [
          "Tyrion-Lannister--Rodrik-Cassel: 1.0486111111111112"
         ],
         "x": [
          -0.06482818728114911,
          0.0023389107467837325,
          null
         ],
         "y": [
          -0.13603594747656403,
          -0.06416374395556995,
          null
         ],
         "type": "scatter"
        },
        {
         "hoverinfo": "text",
         "line": {
          "color": "blue",
          "width": 0.30732960033145773
         },
         "mode": "lines",
         "text": [
          "Tyrion-Lannister--Sandor-Clegane: 1.0138888888888888"
         ],
         "x": [
          -0.06482818728114911,
          0.12952798707083144,
          null
         ],
         "y": [
          -0.13603594747656403,
          0.019266875519648598,
          null
         ],
         "type": "scatter"
        },
        {
         "hoverinfo": "text",
         "line": {
          "color": "blue",
          "width": 0.3
         },
         "mode": "lines",
         "text": [
          "Tyrion-Lannister--Sansa-Stark: 1.0"
         ],
         "x": [
          -0.06482818728114911,
          0.0456143512727685,
          null
         ],
         "y": [
          -0.13603594747656403,
          0.05750169859092548,
          null
         ],
         "type": "scatter"
        },
        {
         "hoverinfo": "text",
         "line": {
          "color": "blue",
          "width": 0.33357761363923993
         },
         "mode": "lines",
         "text": [
          "Tyrion-Lannister--Shae: 1.0625"
         ],
         "x": [
          -0.06482818728114911,
          -0.09735053033051182,
          null
         ],
         "y": [
          -0.13603594747656403,
          -0.3312462527729454,
          null
         ],
         "type": "scatter"
        },
        {
         "hoverinfo": "text",
         "line": {
          "color": "blue",
          "width": 0.3528879230914017
         },
         "mode": "lines",
         "text": [
          "Tyrion-Lannister--Shagga: 1.097222222222222"
         ],
         "x": [
          -0.06482818728114911,
          -0.06265965517457163,
          null
         ],
         "y": [
          -0.13603594747656403,
          -0.48662507972631747,
          null
         ],
         "type": "scatter"
        },
        {
         "hoverinfo": "text",
         "line": {
          "color": "blue",
          "width": 0.3
         },
         "mode": "lines",
         "text": [
          "Tyrion-Lannister--Theon-Greyjoy: 1.0"
         ],
         "x": [
          -0.06482818728114911,
          -0.018570992946724544,
          null
         ],
         "y": [
          -0.13603594747656403,
          -0.09792368559960818,
          null
         ],
         "type": "scatter"
        },
        {
         "hoverinfo": "text",
         "line": {
          "color": "blue",
          "width": 0.3
         },
         "mode": "lines",
         "text": [
          "Tyrion-Lannister--Timett: 1.0"
         ],
         "x": [
          -0.06482818728114911,
          -0.09673037189424312,
          null
         ],
         "y": [
          -0.13603594747656403,
          -0.40245672310061986,
          null
         ],
         "type": "scatter"
        },
        {
         "hoverinfo": "text",
         "line": {
          "color": "blue",
          "width": 0.3
         },
         "mode": "lines",
         "text": [
          "Tyrion-Lannister--Tommen-Baratheon: 1.0"
         ],
         "x": [
          -0.06482818728114911,
          -0.02099681451767266,
          null
         ],
         "y": [
          -0.13603594747656403,
          -0.0021973061319556933,
          null
         ],
         "type": "scatter"
        },
        {
         "hoverinfo": "text",
         "line": {
          "color": "blue",
          "width": 0.44763537463299646
         },
         "mode": "lines",
         "text": [
          "Tyrion-Lannister--Tywin-Lannister: 1.2569444444444444"
         ],
         "x": [
          -0.06482818728114911,
          0.032045134513899176,
          null
         ],
         "y": [
          -0.13603594747656403,
          -0.039305273695998115,
          null
         ],
         "type": "scatter"
        },
        {
         "hoverinfo": "text",
         "line": {
          "color": "blue",
          "width": 0.32221562524998465
         },
         "mode": "lines",
         "text": [
          "Tyrion-Lannister--Vardis-Egen: 1.0416666666666665"
         ],
         "x": [
          -0.06482818728114911,
          0.11085422952634162,
          null
         ],
         "y": [
          -0.13603594747656403,
          -0.25076953405138547,
          null
         ],
         "type": "scatter"
        },
        {
         "hoverinfo": "text",
         "line": {
          "color": "blue",
          "width": 0.3
         },
         "mode": "lines",
         "text": [
          "Tyrion-Lannister--Varys: 1.0"
         ],
         "x": [
          -0.06482818728114911,
          0.036618960965745066,
          null
         ],
         "y": [
          -0.13603594747656403,
          0.0952360213840959,
          null
         ],
         "type": "scatter"
        },
        {
         "hoverinfo": "text",
         "line": {
          "color": "blue",
          "width": 0.3036553222084388
         },
         "mode": "lines",
         "text": [
          "Tyrion-Lannister--Willis-Wode: 1.0069444444444444"
         ],
         "x": [
          -0.06482818728114911,
          -0.03202913141501781,
          null
         ],
         "y": [
          -0.13603594747656403,
          -0.24056066045048197,
          null
         ],
         "type": "scatter"
        },
        {
         "hoverinfo": "text",
         "line": {
          "color": "blue",
          "width": 0.32598420029006264
         },
         "mode": "lines",
         "text": [
          "Tyrion-Lannister--Yoren: 1.0486111111111112"
         ],
         "x": [
          -0.06482818728114911,
          -0.13829944821982637,
          null
         ],
         "y": [
          -0.13603594747656403,
          -0.09318015549971584,
          null
         ],
         "type": "scatter"
        },
        {
         "hoverinfo": "text",
         "line": {
          "color": "blue",
          "width": 0.7603744952713045
         },
         "mode": "lines",
         "text": [
          "Sansa-Stark--Arya-Stark: 1.7013888888888888"
         ],
         "x": [
          0.0456143512727685,
          0.03199436451402057,
          null
         ],
         "y": [
          0.05750169859092548,
          0.02078565327859566,
          null
         ],
         "type": "scatter"
        },
        {
         "hoverinfo": "text",
         "line": {
          "color": "blue",
          "width": 0.3
         },
         "mode": "lines",
         "text": [
          "Sansa-Stark--Barristan-Selmy: 1.0"
         ],
         "x": [
          0.0456143512727685,
          0.12937540553129614,
          null
         ],
         "y": [
          0.05750169859092548,
          0.06281701710849813,
          null
         ],
         "type": "scatter"
        },
        {
         "hoverinfo": "text",
         "line": {
          "color": "blue",
          "width": 0.3036553222084388
         },
         "mode": "lines",
         "text": [
          "Sansa-Stark--Beric-Dondarrion: 1.0069444444444444"
         ],
         "x": [
          0.0456143512727685,
          0.2514470848015286,
          null
         ],
         "y": [
          0.05750169859092548,
          0.10344060167222606,
          null
         ],
         "type": "scatter"
        },
        {
         "hoverinfo": "text",
         "line": {
          "color": "blue",
          "width": 0.31102280182627423
         },
         "mode": "lines",
         "text": [
          "Sansa-Stark--Boros-Blount: 1.0208333333333333"
         ],
         "x": [
          0.0456143512727685,
          0.19767877967959777,
          null
         ],
         "y": [
          0.05750169859092548,
          -0.007191383086253683,
          null
         ],
         "type": "scatter"
        },
        {
         "hoverinfo": "text",
         "line": {
          "color": "blue",
          "width": 0.32598420029006264
         },
         "mode": "lines",
         "text": [
          "Sansa-Stark--Bran-Stark: 1.0486111111111112"
         ],
         "x": [
          0.0456143512727685,
          -0.08490608606434874,
          null
         ],
         "y": [
          0.05750169859092548,
          -9.500509863035247E-4,
          null
         ],
         "type": "scatter"
        },
        {
         "hoverinfo": "text",
         "line": {
          "color": "blue",
          "width": 0.32221562524998465
         },
         "mode": "lines",
         "text": [
          "Sansa-Stark--Catelyn-Stark: 1.0416666666666665"
         ],
         "x": [
          0.0456143512727685,
          0.07103519122741635,
          null
         ],
         "y": [
          0.05750169859092548,
          -0.13779150827046416,
          null
         ],
         "type": "scatter"
        },
        {
         "hoverinfo": "text",
         "line": {
          "color": "blue",
          "width": 0.40111832766448136
         },
         "mode": "lines",
         "text": [
          "Sansa-Stark--Cersei-Lannister: 1.1805555555555556"
         ],
         "x": [
          0.0456143512727685,
          0.065324051953967,
          null
         ],
         "y": [
          0.05750169859092548,
          -0.011306557654175996,
          null
         ],
         "type": "scatter"
        },
        {
         "hoverinfo": "text",
         "line": {
          "color": "blue",
          "width": 0.30732960033145773
         },
         "mode": "lines",
         "text": [
          "Sansa-Stark--Gregor-Clegane: 1.0138888888888888"
         ],
         "x": [
          0.0456143512727685,
          0.07693119390322473,
          null
         ],
         "y": [
          0.05750169859092548,
          0.04684415948750067,
          null
         ],
         "type": "scatter"
        },
        {
         "hoverinfo": "text",
         "line": {
          "color": "blue",
          "width": 0.32221562524998465
         },
         "mode": "lines",
         "text": [
          "Sansa-Stark--Ilyn-Payne: 1.0416666666666665"
         ],
         "x": [
          0.0456143512727685,
          0.10493895598371764,
          null
         ],
         "y": [
          0.05750169859092548,
          0.12975215603867807,
          null
         ],
         "type": "scatter"
        },
        {
         "hoverinfo": "text",
         "line": {
          "color": "blue",
          "width": 0.3
         },
         "mode": "lines",
         "text": [
          "Sansa-Stark--Jaime-Lannister: 1.0"
         ],
         "x": [
          0.0456143512727685,
          0.08411778299242077,
          null
         ],
         "y": [
          0.05750169859092548,
          -0.0127285298056426,
          null
         ],
         "type": "scatter"
        },
        {
         "hoverinfo": "text",
         "line": {
          "color": "blue",
          "width": 0.3
         },
         "mode": "lines",
         "text": [
          "Sansa-Stark--Janos-Slynt: 1.0"
         ],
         "x": [
          0.0456143512727685,
          0.13419213924015455,
          null
         ],
         "y": [
          0.05750169859092548,
          0.12636956328109705,
          null
         ],
         "type": "scatter"
        },
        {
         "hoverinfo": "text",
         "line": {
          "color": "blue",
          "width": 0.3928964787632692
         },
         "mode": "lines",
         "text": [
          "Sansa-Stark--Jeyne-Poole: 1.1666666666666665"
         ],
         "x": [
          0.0456143512727685,
          0.15671453143493377,
          null
         ],
         "y": [
          0.05750169859092548,
          0.05471148992048057,
          null
         ],
         "type": "scatter"
        },
        {
         "hoverinfo": "text",
         "line": {
          "color": "blue",
          "width": 0.6704600047593908
         },
         "mode": "lines",
         "text": [
          "Sansa-Stark--Joffrey-Baratheon: 1.5833333333333333"
         ],
         "x": [
          0.0456143512727685,
          0.06727571942920114,
          null
         ],
         "y": [
          0.05750169859092548,
          0.009801685120611444,
          null
         ],
         "type": "scatter"
        },
        {
         "hoverinfo": "text",
         "line": {
          "color": "blue",
          "width": 0.32221562524998465
         },
         "mode": "lines",
         "text": [
          "Sansa-Stark--Jory-Cassel: 1.0416666666666665"
         ],
         "x": [
          0.0456143512727685,
          -0.014992917689555097,
          null
         ],
         "y": [
          0.05750169859092548,
          0.07085877790405458,
          null
         ],
         "type": "scatter"
        },
        {
         "hoverinfo": "text",
         "line": {
          "color": "blue",
          "width": 0.34124583967861705
         },
         "mode": "lines",
         "text": [
          "Sansa-Stark--Loras-Tyrell: 1.0763888888888888"
         ],
         "x": [
          0.0456143512727685,
          0.18042954714332093,
          null
         ],
         "y": [
          0.05750169859092548,
          0.10241972177968102,
          null
         ],
         "type": "scatter"
        },
        {
         "hoverinfo": "text",
         "line": {
          "color": "blue",
          "width": 0.3036553222084388
         },
         "mode": "lines",
         "text": [
          "Sansa-Stark--Lyanna-Stark: 1.0069444444444444"
         ],
         "x": [
          0.0456143512727685,
          0.07854020176175182,
          null
         ],
         "y": [
          0.05750169859092548,
          0.24050048357278792,
          null
         ],
         "type": "scatter"
        },
        {
         "hoverinfo": "text",
         "line": {
          "color": "blue",
          "width": 0.3036553222084388
         },
         "mode": "lines",
         "text": [
          "Sansa-Stark--Maegor-I-Targaryen: 1.0069444444444444"
         ],
         "x": [
          0.0456143512727685,
          -0.1396102611343574,
          null
         ],
         "y": [
          0.05750169859092548,
          0.26577036502076073,
          null
         ],
         "type": "scatter"
        },
        {
         "hoverinfo": "text",
         "line": {
          "color": "blue",
          "width": 0.30732960033145773
         },
         "mode": "lines",
         "text": [
          "Sansa-Stark--Meryn-Trant: 1.0138888888888888"
         ],
         "x": [
          0.0456143512727685,
          0.17832790627769748,
          null
         ],
         "y": [
          0.05750169859092548,
          0.05658916185941756,
          null
         ],
         "type": "scatter"
        },
        {
         "hoverinfo": "text",
         "line": {
          "color": "blue",
          "width": 0.46069986375815514
         },
         "mode": "lines",
         "text": [
          "Sansa-Stark--Mordane: 1.2777777777777777"
         ],
         "x": [
          0.0456143512727685,
          0.02543575930860007,
          null
         ],
         "y": [
          0.05750169859092548,
          -0.009281754547322905,
          null
         ],
         "type": "scatter"
        },
        {
         "hoverinfo": "text",
         "line": {
          "color": "blue",
          "width": 0.32598420029006264
         },
         "mode": "lines",
         "text": [
          "Sansa-Stark--Mycah: 1.0486111111111112"
         ],
         "x": [
          0.0456143512727685,
          0.07212180934310158,
          null
         ],
         "y": [
          0.05750169859092548,
          0.14112253354003632,
          null
         ],
         "type": "scatter"
        },
        {
         "hoverinfo": "text",
         "line": {
          "color": "blue",
          "width": 0.3184658461431345
         },
         "mode": "lines",
         "text": [
          "Sansa-Stark--Myrcella-Baratheon: 1.034722222222222"
         ],
         "x": [
          0.0456143512727685,
          0.11358554520503127,
          null
         ],
         "y": [
          0.05750169859092548,
          -0.02132348751762153,
          null
         ],
         "type": "scatter"
        },
        {
         "hoverinfo": "text",
         "line": {
          "color": "blue",
          "width": 0.3184658461431345
         },
         "mode": "lines",
         "text": [
          "Sansa-Stark--Petyr-Baelish: 1.034722222222222"
         ],
         "x": [
          0.0456143512727685,
          0.05648083182260479,
          null
         ],
         "y": [
          0.05750169859092548,
          0.03260685690219549,
          null
         ],
         "type": "scatter"
        },
        {
         "hoverinfo": "text",
         "line": {
          "color": "blue",
          "width": 0.3184658461431345
         },
         "mode": "lines",
         "text": [
          "Sansa-Stark--Pycelle: 1.034722222222222"
         ],
         "x": [
          0.0456143512727685,
          0.0857655486770623,
          null
         ],
         "y": [
          0.05750169859092548,
          0.08225288197648849,
          null
         ],
         "type": "scatter"
        },
        {
         "hoverinfo": "text",
         "line": {
          "color": "blue",
          "width": 0.30732960033145773
         },
         "mode": "lines",
         "text": [
          "Sansa-Stark--Renly-Baratheon: 1.0138888888888888"
         ],
         "x": [
          0.0456143512727685,
          0.09935036609841824,
          null
         ],
         "y": [
          0.05750169859092548,
          0.0404126925892233,
          null
         ],
         "type": "scatter"
        },
        {
         "hoverinfo": "text",
         "line": {
          "color": "blue",
          "width": 0.3
         },
         "mode": "lines",
         "text": [
          "Sansa-Stark--Rhaegar-Targaryen: 1.0"
         ],
         "x": [
          0.0456143512727685,
          0.014653623613678292,
          null
         ],
         "y": [
          0.05750169859092548,
          0.26775314626515023,
          null
         ],
         "type": "scatter"
        },
        {
         "hoverinfo": "text",
         "line": {
          "color": "blue",
          "width": 0.3184658461431345
         },
         "mode": "lines",
         "text": [
          "Sansa-Stark--Rickon-Stark: 1.034722222222222"
         ],
         "x": [
          0.0456143512727685,
          -0.031226770640811058,
          null
         ],
         "y": [
          0.05750169859092548,
          -0.04175810966117788,
          null
         ],
         "type": "scatter"
        },
        {
         "hoverinfo": "text",
         "line": {
          "color": "blue",
          "width": 0.3374023903222028
         },
         "mode": "lines",
         "text": [
          "Sansa-Stark--Robb-Stark: 1.0694444444444444"
         ],
         "x": [
          0.0456143512727685,
          -0.043314398094237976,
          null
         ],
         "y": [
          0.05750169859092548,
          -0.05668054863819679,
          null
         ],
         "type": "scatter"
        },
        {
         "hoverinfo": "text",
         "line": {
          "color": "blue",
          "width": 0.3766722511877533
         },
         "mode": "lines",
         "text": [
          "Sansa-Stark--Sandor-Clegane: 1.1388888888888888"
         ],
         "x": [
          0.0456143512727685,
          0.12952798707083144,
          null
         ],
         "y": [
          0.05750169859092548,
          0.019266875519648598,
          null
         ],
         "type": "scatter"
        },
        {
         "hoverinfo": "text",
         "line": {
          "color": "blue",
          "width": 0.3
         },
         "mode": "lines",
         "text": [
          "Sansa-Stark--Stannis-Baratheon: 1.0"
         ],
         "x": [
          0.0456143512727685,
          0.10522382841735935,
          null
         ],
         "y": [
          0.05750169859092548,
          0.02502521588793754,
          null
         ],
         "type": "scatter"
        },
        {
         "hoverinfo": "text",
         "line": {
          "color": "blue",
          "width": 0.3
         },
         "mode": "lines",
         "text": [
          "Sansa-Stark--Tomard: 1.0"
         ],
         "x": [
          0.0456143512727685,
          0.08399729181974153,
          null
         ],
         "y": [
          0.05750169859092548,
          0.17503157989834955,
          null
         ],
         "type": "scatter"
        },
        {
         "hoverinfo": "text",
         "line": {
          "color": "blue",
          "width": 0.3036553222084388
         },
         "mode": "lines",
         "text": [
          "Sansa-Stark--Varys: 1.0069444444444444"
         ],
         "x": [
          0.0456143512727685,
          0.036618960965745066,
          null
         ],
         "y": [
          0.05750169859092548,
          0.0952360213840959,
          null
         ],
         "type": "scatter"
        },
        {
         "hoverinfo": "text",
         "line": {
          "color": "blue",
          "width": 0.34124583967861705
         },
         "mode": "lines",
         "text": [
          "Bran-Stark--Arya-Stark: 1.0763888888888888"
         ],
         "x": [
          -0.08490608606434874,
          0.03199436451402057,
          null
         ],
         "y": [
          -9.500509863035247E-4,
          0.02078565327859566,
          null
         ],
         "type": "scatter"
        },
        {
         "hoverinfo": "text",
         "line": {
          "color": "blue",
          "width": 0.31102280182627423
         },
         "mode": "lines",
         "text": [
          "Bran-Stark--Benjen-Stark: 1.0208333333333333"
         ],
         "x": [
          -0.08490608606434874,
          -0.12405528656493038,
          null
         ],
         "y": [
          -9.500509863035247E-4,
          -0.1404897871753785,
          null
         ],
         "type": "scatter"
        },
        {
         "hoverinfo": "text",
         "line": {
          "color": "blue",
          "width": 0.35680576364309297
         },
         "mode": "lines",
         "text": [
          "Bran-Stark--Catelyn-Stark: 1.1041666666666665"
         ],
         "x": [
          -0.08490608606434874,
          0.07103519122741635,
          null
         ],
         "y": [
          -9.500509863035247E-4,
          -0.13779150827046416,
          null
         ],
         "type": "scatter"
        },
        {
         "hoverinfo": "text",
         "line": {
          "color": "blue",
          "width": 0.31102280182627423
         },
         "mode": "lines",
         "text": [
          "Bran-Stark--Cersei-Lannister: 1.0208333333333333"
         ],
         "x": [
          -0.08490608606434874,
          0.065324051953967,
          null
         ],
         "y": [
          -9.500509863035247E-4,
          -0.011306557654175996,
          null
         ],
         "type": "scatter"
        },
        {
         "hoverinfo": "text",
         "line": {
          "color": "blue",
          "width": 0.3
         },
         "mode": "lines",
         "text": [
          "Bran-Stark--Hali: 1.0"
         ],
         "x": [
          -0.08490608606434874,
          -0.33762955600626954,
          null
         ],
         "y": [
          -9.500509863035247E-4,
          0.13601910006038184,
          null
         ],
         "type": "scatter"
        },
        {
         "hoverinfo": "text",
         "line": {
          "color": "blue",
          "width": 0.3
         },
         "mode": "lines",
         "text": [
          "Bran-Stark--Hallis-Mollen: 1.0"
         ],
         "x": [
          -0.08490608606434874,
          -0.08801516159779224,
          null
         ],
         "y": [
          -9.500509863035247E-4,
          -0.12258939900067763,
          null
         ],
         "type": "scatter"
        },
        {
         "hoverinfo": "text",
         "line": {
          "color": "blue",
          "width": 0.40111832766448136
         },
         "mode": "lines",
         "text": [
          "Bran-Stark--Hodor: 1.1805555555555556"
         ],
         "x": [
          -0.08490608606434874,
          -0.2045012168232058,
          null
         ],
         "y": [
          -9.500509863035247E-4,
          0.03751775214914116,
          null
         ],
         "type": "scatter"
        },
        {
         "hoverinfo": "text",
         "line": {
          "color": "blue",
          "width": 0.3
         },
         "mode": "lines",
         "text": [
          "Bran-Stark--Hullen: 1.0"
         ],
         "x": [
          -0.08490608606434874,
          -0.11711798678681166,
          null
         ],
         "y": [
          -9.500509863035247E-4,
          0.08073306188728846,
          null
         ],
         "type": "scatter"
        },
        {
         "hoverinfo": "text",
         "line": {
          "color": "blue",
          "width": 0.3036553222084388
         },
         "mode": "lines",
         "text": [
          "Bran-Stark--Jeor-Mormont: 1.0069444444444444"
         ],
         "x": [
          -0.08490608606434874,
          -0.21544125756345248,
          null
         ],
         "y": [
          -9.500509863035247E-4,
          -0.17131508038589652,
          null
         ],
         "type": "scatter"
        },
        {
         "hoverinfo": "text",
         "line": {
          "color": "blue",
          "width": 0.3
         },
         "mode": "lines",
         "text": [
          "Bran-Stark--Joffrey-Baratheon: 1.0"
         ],
         "x": [
          -0.08490608606434874,
          0.06727571942920114,
          null
         ],
         "y": [
          -9.500509863035247E-4,
          0.009801685120611444,
          null
         ],
         "type": "scatter"
        },
        {
         "hoverinfo": "text",
         "line": {
          "color": "blue",
          "width": 0.31473489442754443
         },
         "mode": "lines",
         "text": [
          "Bran-Stark--Jon-Arryn: 1.0277777777777777"
         ],
         "x": [
          -0.08490608606434874,
          0.017573226254451197,
          null
         ],
         "y": [
          -9.500509863035247E-4,
          0.04811545290389017,
          null
         ],
         "type": "scatter"
        },
        {
         "hoverinfo": "text",
         "line": {
          "color": "blue",
          "width": 0.3297715400664042
         },
         "mode": "lines",
         "text": [
          "Bran-Stark--Jory-Cassel: 1.0555555555555556"
         ],
         "x": [
          -0.08490608606434874,
          -0.014992917689555097,
          null
         ],
         "y": [
          -9.500509863035247E-4,
          0.07085877790405458,
          null
         ],
         "type": "scatter"
        },
        {
         "hoverinfo": "text",
         "line": {
          "color": "blue",
          "width": 0.3036553222084388
         },
         "mode": "lines",
         "text": [
          "Bran-Stark--Joseth: 1.0069444444444444"
         ],
         "x": [
          -0.08490608606434874,
          -0.24871508130847456,
          null
         ],
         "y": [
          -9.500509863035247E-4,
          0.09724784517348031,
          null
         ],
         "type": "scatter"
        },
        {
         "hoverinfo": "text",
         "line": {
          "color": "blue",
          "width": 0.5613768886775448
         },
         "mode": "lines",
         "text": [
          "Bran-Stark--Luwin: 1.4305555555555554"
         ],
         "x": [
          -0.08490608606434874,
          -0.09543015503848222,
          null
         ],
         "y": [
          -9.500509863035247E-4,
          -0.033676325759921015,
          null
         ],
         "type": "scatter"
        },
        {
         "hoverinfo": "text",
         "line": {
          "color": "blue",
          "width": 0.3528879230914017
         },
         "mode": "lines",
         "text": [
          "Bran-Stark--Nan: 1.097222222222222"
         ],
         "x": [
          -0.08490608606434874,
          -0.21240253818389077,
          null
         ],
         "y": [
          -9.500509863035247E-4,
          0.00183968232902158,
          null
         ],
         "type": "scatter"
        },
        {
         "hoverinfo": "text",
         "line": {
          "color": "blue",
          "width": 0.33357761363923993
         },
         "mode": "lines",
         "text": [
          "Bran-Stark--Osha: 1.0625"
         ],
         "x": [
          -0.08490608606434874,
          -0.21335158047053362,
          null
         ],
         "y": [
          -9.500509863035247E-4,
          -0.0406260749759265,
          null
         ],
         "type": "scatter"
        },
        {
         "hoverinfo": "text",
         "line": {
          "color": "blue",
          "width": 0.3
         },
         "mode": "lines",
         "text": [
          "Bran-Stark--Petyr-Baelish: 1.0"
         ],
         "x": [
          -0.08490608606434874,
          0.05648083182260479,
          null
         ],
         "y": [
          -9.500509863035247E-4,
          0.03260685690219549,
          null
         ],
         "type": "scatter"
        },
        {
         "hoverinfo": "text",
         "line": {
          "color": "blue",
          "width": 0.3
         },
         "mode": "lines",
         "text": [
          "Bran-Stark--Renly-Baratheon: 1.0"
         ],
         "x": [
          -0.08490608606434874,
          0.09935036609841824,
          null
         ],
         "y": [
          -9.500509863035247E-4,
          0.0404126925892233,
          null
         ],
         "type": "scatter"
        },
        {
         "hoverinfo": "text",
         "line": {
          "color": "blue",
          "width": 0.3036553222084388
         },
         "mode": "lines",
         "text": [
          "Bran-Stark--Rickard-Karstark: 1.0069444444444444"
         ],
         "x": [
          -0.08490608606434874,
          -0.07201238999138217,
          null
         ],
         "y": [
          -9.500509863035247E-4,
          0.023898206162544497,
          null
         ],
         "type": "scatter"
        },
        {
         "hoverinfo": "text",
         "line": {
          "color": "blue",
          "width": 0.3036553222084388
         },
         "mode": "lines",
         "text": [
          "Bran-Stark--Rickard-Stark: 1.0069444444444444"
         ],
         "x": [
          -0.08490608606434874,
          -0.15523425905447666,
          null
         ],
         "y": [
          -9.500509863035247E-4,
          0.20786219138544812,
          null
         ],
         "type": "scatter"
        },
        {
         "hoverinfo": "text",
         "line": {
          "color": "blue",
          "width": 0.4135876614931034
         },
         "mode": "lines",
         "text": [
          "Bran-Stark--Rickon-Stark: 1.2013888888888888"
         ],
         "x": [
          -0.08490608606434874,
          -0.031226770640811058,
          null
         ],
         "y": [
          -9.500509863035247E-4,
          -0.04175810966117788,
          null
         ],
         "type": "scatter"
        },
        {
         "hoverinfo": "text",
         "line": {
          "color": "blue",
          "width": 0.804355073723119
         },
         "mode": "lines",
         "text": [
          "Bran-Stark--Robb-Stark: 1.7569444444444442"
         ],
         "x": [
          -0.08490608606434874,
          -0.043314398094237976,
          null
         ],
         "y": [
          -9.500509863035247E-4,
          -0.05668054863819679,
          null
         ],
         "type": "scatter"
        },
        {
         "hoverinfo": "text",
         "line": {
          "color": "blue",
          "width": 0.31102280182627423
         },
         "mode": "lines",
         "text": [
          "Bran-Stark--Rodrik-Cassel: 1.0208333333333333"
         ],
         "x": [
          -0.08490608606434874,
          0.0023389107467837325,
          null
         ],
         "y": [
          -9.500509863035247E-4,
          -0.06416374395556995,
          null
         ],
         "type": "scatter"
        },
        {
         "hoverinfo": "text",
         "line": {
          "color": "blue",
          "width": 0.3036553222084388
         },
         "mode": "lines",
         "text": [
          "Bran-Stark--Stiv: 1.0069444444444444"
         ],
         "x": [
          -0.08490608606434874,
          -0.253863738754804,
          null
         ],
         "y": [
          -9.500509863035247E-4,
          0.0017766542400898446,
          null
         ],
         "type": "scatter"
        },
        {
         "hoverinfo": "text",
         "line": {
          "color": "blue",
          "width": 0.3766722511877533
         },
         "mode": "lines",
         "text": [
          "Bran-Stark--Theon-Greyjoy: 1.1388888888888888"
         ],
         "x": [
          -0.08490608606434874,
          -0.018570992946724544,
          null
         ],
         "y": [
          -9.500509863035247E-4,
          -0.09792368559960818,
          null
         ],
         "type": "scatter"
        },
        {
         "hoverinfo": "text",
         "line": {
          "color": "blue",
          "width": 0.30732960033145773
         },
         "mode": "lines",
         "text": [
          "Bran-Stark--Tommen-Baratheon: 1.0138888888888888"
         ],
         "x": [
          -0.08490608606434874,
          -0.02099681451767266,
          null
         ],
         "y": [
          -9.500509863035247E-4,
          -0.0021973061319556933,
          null
         ],
         "type": "scatter"
        },
        {
         "hoverinfo": "text",
         "line": {
          "color": "blue",
          "width": 0.3
         },
         "mode": "lines",
         "text": [
          "Bran-Stark--Yoren: 1.0"
         ],
         "x": [
          -0.08490608606434874,
          -0.13829944821982637,
          null
         ],
         "y": [
          -9.500509863035247E-4,
          -0.09318015549971584,
          null
         ],
         "type": "scatter"
        },
        {
         "hoverinfo": "text",
         "line": {
          "color": "blue",
          "width": 0.30732960033145773
         },
         "mode": "lines",
         "text": [
          "Catelyn-Stark--Arya-Stark: 1.0138888888888888"
         ],
         "x": [
          0.07103519122741635,
          0.03199436451402057,
          null
         ],
         "y": [
          -0.13779150827046416,
          0.02078565327859566,
          null
         ],
         "type": "scatter"
        },
        {
         "hoverinfo": "text",
         "line": {
          "color": "blue",
          "width": 0.31102280182627423
         },
         "mode": "lines",
         "text": [
          "Catelyn-Stark--Bronn: 1.0208333333333333"
         ],
         "x": [
          0.07103519122741635,
          -0.010611193952538631,
          null
         ],
         "y": [
          -0.13779150827046416,
          -0.261238230356099,
          null
         ],
         "type": "scatter"
        },
        {
         "hoverinfo": "text",
         "line": {
          "color": "blue",
          "width": 0.3489886358918264
         },
         "mode": "lines",
         "text": [
          "Catelyn-Stark--Brynden-Tully: 1.0902777777777777"
         ],
         "x": [
          0.07103519122741635,
          0.07835692800964725,
          null
         ],
         "y": [
          -0.13779150827046416,
          -0.1613095772366983,
          null
         ],
         "type": "scatter"
        },
        {
         "hoverinfo": "text",
         "line": {
          "color": "blue",
          "width": 0.33357761363923993
         },
         "mode": "lines",
         "text": [
          "Catelyn-Stark--Cersei-Lannister: 1.0625"
         ],
         "x": [
          0.07103519122741635,
          0.065324051953967,
          null
         ],
         "y": [
          -0.13779150827046416,
          -0.011306557654175996,
          null
         ],
         "type": "scatter"
        },
        {
         "hoverinfo": "text",
         "line": {
          "color": "blue",
          "width": 0.3
         },
         "mode": "lines",
         "text": [
          "Catelyn-Stark--Colemon: 1.0"
         ],
         "x": [
          0.07103519122741635,
          0.18040745154196722,
          null
         ],
         "y": [
          -0.13779150827046416,
          -0.3556137602753549,
          null
         ],
         "type": "scatter"
        },
        {
         "hoverinfo": "text",
         "line": {
          "color": "blue",
          "width": 0.3
         },
         "mode": "lines",
         "text": [
          "Catelyn-Stark--Donnel-Waynwood: 1.0"
         ],
         "x": [
          0.07103519122741635,
          0.22490435256895988,
          null
         ],
         "y": [
          -0.13779150827046416,
          -0.37910512208272845,
          null
         ],
         "type": "scatter"
        },
        {
         "hoverinfo": "text",
         "line": {
          "color": "blue",
          "width": 0.31473489442754443
         },
         "mode": "lines",
         "text": [
          "Catelyn-Stark--Edmure-Tully: 1.0277777777777777"
         ],
         "x": [
          0.07103519122741635,
          0.023076472169538148,
          null
         ],
         "y": [
          -0.13779150827046416,
          -0.07761245006425639,
          null
         ],
         "type": "scatter"
        },
        {
         "hoverinfo": "text",
         "line": {
          "color": "blue",
          "width": 0.3
         },
         "mode": "lines",
         "text": [
          "Catelyn-Stark--Eon-Hunter: 1.0"
         ],
         "x": [
          0.07103519122741635,
          0.21897464053883478,
          null
         ],
         "y": [
          -0.13779150827046416,
          -0.22966591651311055,
          null
         ],
         "type": "scatter"
        },
        {
         "hoverinfo": "text",
         "line": {
          "color": "blue",
          "width": 0.32598420029006264
         },
         "mode": "lines",
         "text": [
          "Catelyn-Stark--Hallis-Mollen: 1.0486111111111112"
         ],
         "x": [
          0.07103519122741635,
          -0.08801516159779224,
          null
         ],
         "y": [
          -0.13779150827046416,
          -0.12258939900067763,
          null
         ],
         "type": "scatter"
        },
        {
         "hoverinfo": "text",
         "line": {
          "color": "blue",
          "width": 0.31102280182627423
         },
         "mode": "lines",
         "text": [
          "Catelyn-Stark--Hoster-Tully: 1.0208333333333333"
         ],
         "x": [
          0.07103519122741635,
          0.15596838332473842,
          null
         ],
         "y": [
          -0.13779150827046416,
          -0.0920572605417538,
          null
         ],
         "type": "scatter"
        },
        {
         "hoverinfo": "text",
         "line": {
          "color": "blue",
          "width": 0.32221562524998465
         },
         "mode": "lines",
         "text": [
          "Catelyn-Stark--Jaime-Lannister: 1.0416666666666665"
         ],
         "x": [
          0.07103519122741635,
          0.08411778299242077,
          null
         ],
         "y": [
          -0.13779150827046416,
          -0.0127285298056426,
          null
         ],
         "type": "scatter"
        },
        {
         "hoverinfo": "text",
         "line": {
          "color": "blue",
          "width": 0.3036553222084388
         },
         "mode": "lines",
         "text": [
          "Catelyn-Stark--Joffrey-Baratheon: 1.0069444444444444"
         ],
         "x": [
          0.07103519122741635,
          0.06727571942920114,
          null
         ],
         "y": [
          -0.13779150827046416,
          0.009801685120611444,
          null
         ],
         "type": "scatter"
        },
        {
         "hoverinfo": "text",
         "line": {
          "color": "blue",
          "width": 0.3297715400664042
         },
         "mode": "lines",
         "text": [
          "Catelyn-Stark--Jon-Arryn: 1.0555555555555556"
         ],
         "x": [
          0.07103519122741635,
          0.017573226254451197,
          null
         ],
         "y": [
          -0.13779150827046416,
          0.04811545290389017,
          null
         ],
         "type": "scatter"
        },
        {
         "hoverinfo": "text",
         "line": {
          "color": "blue",
          "width": 0.3036553222084388
         },
         "mode": "lines",
         "text": [
          "Catelyn-Stark--Jon-Umber-(Greatjon): 1.0069444444444444"
         ],
         "x": [
          0.07103519122741635,
          -0.12111407816859568,
          null
         ],
         "y": [
          -0.13779150827046416,
          -0.027536695165753702,
          null
         ],
         "type": "scatter"
        },
        {
         "hoverinfo": "text",
         "line": {
          "color": "blue",
          "width": 0.34124583967861705
         },
         "mode": "lines",
         "text": [
          "Catelyn-Stark--Luwin: 1.0763888888888888"
         ],
         "x": [
          0.07103519122741635,
          -0.09543015503848222,
          null
         ],
         "y": [
          -0.13779150827046416,
          -0.033676325759921015,
          null
         ],
         "type": "scatter"
        },
        {
         "hoverinfo": "text",
         "line": {
          "color": "blue",
          "width": 0.41778041604270827
         },
         "mode": "lines",
         "text": [
          "Catelyn-Stark--Lysa-Arryn: 1.2083333333333333"
         ],
         "x": [
          0.07103519122741635,
          0.12653315489042977,
          null
         ],
         "y": [
          -0.13779150827046416,
          -0.09013791103676602,
          null
         ],
         "type": "scatter"
        },
        {
         "hoverinfo": "text",
         "line": {
          "color": "blue",
          "width": 0.31102280182627423
         },
         "mode": "lines",
         "text": [
          "Catelyn-Stark--Marillion: 1.0208333333333333"
         ],
         "x": [
          0.07103519122741635,
          0.009807945683700232,
          null
         ],
         "y": [
          -0.13779150827046416,
          -0.22617742973005572,
          null
         ],
         "type": "scatter"
        },
        {
         "hoverinfo": "text",
         "line": {
          "color": "blue",
          "width": 0.30732960033145773
         },
         "mode": "lines",
         "text": [
          "Catelyn-Stark--Masha-Heddle: 1.0138888888888888"
         ],
         "x": [
          0.07103519122741635,
          0.30550982251857833,
          null
         ],
         "y": [
          -0.13779150827046416,
          -0.26999159841945547,
          null
         ],
         "type": "scatter"
        },
        {
         "hoverinfo": "text",
         "line": {
          "color": "blue",
          "width": 0.3
         },
         "mode": "lines",
         "text": [
          "Catelyn-Stark--Moreo-Tumitis: 1.0"
         ],
         "x": [
          0.07103519122741635,
          0.0174810043311655,
          null
         ],
         "y": [
          -0.13779150827046416,
          -0.3526522905287586,
          null
         ],
         "type": "scatter"
        },
        {
         "hoverinfo": "text",
         "line": {
          "color": "blue",
          "width": 0.32221562524998465
         },
         "mode": "lines",
         "text": [
          "Catelyn-Stark--Mya-Stone: 1.0416666666666665"
         ],
         "x": [
          0.07103519122741635,
          0.25410521431873784,
          null
         ],
         "y": [
          -0.13779150827046416,
          -0.3376073529707924,
          null
         ],
         "type": "scatter"
        },
        {
         "hoverinfo": "text",
         "line": {
          "color": "blue",
          "width": 0.3
         },
         "mode": "lines",
         "text": [
          "Catelyn-Stark--Mychel-Redfort: 1.0"
         ],
         "x": [
          0.07103519122741635,
          0.28769278907206747,
          null
         ],
         "y": [
          -0.13779150827046416,
          -0.3112414340482414,
          null
         ],
         "type": "scatter"
        },
        {
         "hoverinfo": "text",
         "line": {
          "color": "blue",
          "width": 0.3
         },
         "mode": "lines",
         "text": [
          "Catelyn-Stark--Nestor-Royce: 1.0"
         ],
         "x": [
          0.07103519122741635,
          0.1717819267667743,
          null
         ],
         "y": [
          -0.13779150827046416,
          -0.30082156866848203,
          null
         ],
         "type": "scatter"
        },
        {
         "hoverinfo": "text",
         "line": {
          "color": "blue",
          "width": 0.37266207796196593
         },
         "mode": "lines",
         "text": [
          "Catelyn-Stark--Petyr-Baelish: 1.1319444444444444"
         ],
         "x": [
          0.07103519122741635,
          0.05648083182260479,
          null
         ],
         "y": [
          -0.13779150827046416,
          0.03260685690219549,
          null
         ],
         "type": "scatter"
        },
        {
         "hoverinfo": "text",
         "line": {
          "color": "blue",
          "width": 0.31102280182627423
         },
         "mode": "lines",
         "text": [
          "Catelyn-Stark--Rickard-Karstark: 1.0208333333333333"
         ],
         "x": [
          0.07103519122741635,
          -0.07201238999138217,
          null
         ],
         "y": [
          -0.13779150827046416,
          0.023898206162544497,
          null
         ],
         "type": "scatter"
        },
        {
         "hoverinfo": "text",
         "line": {
          "color": "blue",
          "width": 0.3
         },
         "mode": "lines",
         "text": [
          "Catelyn-Stark--Rickon-Stark: 1.0"
         ],
         "x": [
          0.07103519122741635,
          -0.031226770640811058,
          null
         ],
         "y": [
          -0.13779150827046416,
          -0.04175810966117788,
          null
         ],
         "type": "scatter"
        },
        {
         "hoverinfo": "text",
         "line": {
          "color": "blue",
          "width": 0.48731041704040057
         },
         "mode": "lines",
         "text": [
          "Catelyn-Stark--Robb-Stark: 1.3194444444444444"
         ],
         "x": [
          0.07103519122741635,
          -0.043314398094237976,
          null
         ],
         "y": [
          -0.13779150827046416,
          -0.05668054863819679,
          null
         ],
         "type": "scatter"
        },
        {
         "hoverinfo": "text",
         "line": {
          "color": "blue",
          "width": 0.3
         },
         "mode": "lines",
         "text": [
          "Catelyn-Stark--Robert-Arryn: 1.0"
         ],
         "x": [
          0.07103519122741635,
          0.09616131519156314,
          null
         ],
         "y": [
          -0.13779150827046416,
          -0.22373173822578152,
          null
         ],
         "type": "scatter"
        },
        {
         "hoverinfo": "text",
         "line": {
          "color": "blue",
          "width": 0.38474771355418536
         },
         "mode": "lines",
         "text": [
          "Catelyn-Stark--Rodrik-Cassel: 1.1527777777777777"
         ],
         "x": [
          0.07103519122741635,
          0.0023389107467837325,
          null
         ],
         "y": [
          -0.13779150827046416,
          -0.06416374395556995,
          null
         ],
         "type": "scatter"
        },
        {
         "hoverinfo": "text",
         "line": {
          "color": "blue",
          "width": 0.30732960033145773
         },
         "mode": "lines",
         "text": [
          "Catelyn-Stark--Stevron-Frey: 1.0138888888888888"
         ],
         "x": [
          0.07103519122741635,
          0.14388716796303816,
          null
         ],
         "y": [
          -0.13779150827046416,
          -0.38083504269794044,
          null
         ],
         "type": "scatter"
        },
        {
         "hoverinfo": "text",
         "line": {
          "color": "blue",
          "width": 0.32221562524998465
         },
         "mode": "lines",
         "text": [
          "Catelyn-Stark--Theon-Greyjoy: 1.0416666666666665"
         ],
         "x": [
          0.07103519122741635,
          -0.018570992946724544,
          null
         ],
         "y": [
          -0.13779150827046416,
          -0.09792368559960818,
          null
         ],
         "type": "scatter"
        },
        {
         "hoverinfo": "text",
         "line": {
          "color": "blue",
          "width": 0.3036553222084388
         },
         "mode": "lines",
         "text": [
          "Catelyn-Stark--Tytos-Blackwood: 1.0069444444444444"
         ],
         "x": [
          0.07103519122741635,
          0.21953606299418665,
          null
         ],
         "y": [
          -0.13779150827046416,
          -0.2881575947262707,
          null
         ],
         "type": "scatter"
        },
        {
         "hoverinfo": "text",
         "line": {
          "color": "blue",
          "width": 0.31473489442754443
         },
         "mode": "lines",
         "text": [
          "Catelyn-Stark--Tywin-Lannister: 1.0277777777777777"
         ],
         "x": [
          0.07103519122741635,
          0.032045134513899176,
          null
         ],
         "y": [
          -0.13779150827046416,
          -0.039305273695998115,
          null
         ],
         "type": "scatter"
        },
        {
         "hoverinfo": "text",
         "line": {
          "color": "blue",
          "width": 0.30732960033145773
         },
         "mode": "lines",
         "text": [
          "Catelyn-Stark--Vardis-Egen: 1.0138888888888888"
         ],
         "x": [
          0.07103519122741635,
          0.11085422952634162,
          null
         ],
         "y": [
          -0.13779150827046416,
          -0.25076953405138547,
          null
         ],
         "type": "scatter"
        },
        {
         "hoverinfo": "text",
         "line": {
          "color": "blue",
          "width": 0.32598420029006264
         },
         "mode": "lines",
         "text": [
          "Catelyn-Stark--Varys: 1.0486111111111112"
         ],
         "x": [
          0.07103519122741635,
          0.036618960965745066,
          null
         ],
         "y": [
          -0.13779150827046416,
          0.0952360213840959,
          null
         ],
         "type": "scatter"
        },
        {
         "hoverinfo": "text",
         "line": {
          "color": "blue",
          "width": 0.3374023903222028
         },
         "mode": "lines",
         "text": [
          "Catelyn-Stark--Walder-Frey: 1.0694444444444444"
         ],
         "x": [
          0.07103519122741635,
          0.10924972152460961,
          null
         ],
         "y": [
          -0.13779150827046416,
          -0.283093941314091,
          null
         ],
         "type": "scatter"
        },
        {
         "hoverinfo": "text",
         "line": {
          "color": "blue",
          "width": 0.3
         },
         "mode": "lines",
         "text": [
          "Catelyn-Stark--Wendel-Manderly: 1.0"
         ],
         "x": [
          0.07103519122741635,
          0.04229755326967206,
          null
         ],
         "y": [
          -0.13779150827046416,
          -0.2624986623493546,
          null
         ],
         "type": "scatter"
        },
        {
         "hoverinfo": "text",
         "line": {
          "color": "blue",
          "width": 0.30732960033145773
         },
         "mode": "lines",
         "text": [
          "Catelyn-Stark--Willis-Wode: 1.0138888888888888"
         ],
         "x": [
          0.07103519122741635,
          -0.03202913141501781,
          null
         ],
         "y": [
          -0.13779150827046416,
          -0.24056066045048197,
          null
         ],
         "type": "scatter"
        },
        {
         "hoverinfo": "text",
         "line": {
          "color": "blue",
          "width": 0.34510793151786423
         },
         "mode": "lines",
         "text": [
          "Robb-Stark--Arya-Stark: 1.0833333333333333"
         ],
         "x": [
          -0.043314398094237976,
          0.03199436451402057,
          null
         ],
         "y": [
          -0.05668054863819679,
          0.02078565327859566,
          null
         ],
         "type": "scatter"
        },
        {
         "hoverinfo": "text",
         "line": {
          "color": "blue",
          "width": 0.31473489442754443
         },
         "mode": "lines",
         "text": [
          "Robb-Stark--Benjen-Stark: 1.0277777777777777"
         ],
         "x": [
          -0.043314398094237976,
          -0.12405528656493038,
          null
         ],
         "y": [
          -0.05668054863819679,
          -0.1404897871753785,
          null
         ],
         "type": "scatter"
        },
        {
         "hoverinfo": "text",
         "line": {
          "color": "blue",
          "width": 0.32221562524998465
         },
         "mode": "lines",
         "text": [
          "Robb-Stark--Brynden-Tully: 1.0416666666666665"
         ],
         "x": [
          -0.043314398094237976,
          0.07835692800964725,
          null
         ],
         "y": [
          -0.05668054863819679,
          -0.1613095772366983,
          null
         ],
         "type": "scatter"
        },
        {
         "hoverinfo": "text",
         "line": {
          "color": "blue",
          "width": 0.30732960033145773
         },
         "mode": "lines",
         "text": [
          "Robb-Stark--Edmure-Tully: 1.0138888888888888"
         ],
         "x": [
          -0.043314398094237976,
          0.023076472169538148,
          null
         ],
         "y": [
          -0.05668054863819679,
          -0.07761245006425639,
          null
         ],
         "type": "scatter"
        },
        {
         "hoverinfo": "text",
         "line": {
          "color": "blue",
          "width": 0.30732960033145773
         },
         "mode": "lines",
         "text": [
          "Robb-Stark--Galbart-Glover: 1.0138888888888888"
         ],
         "x": [
          -0.043314398094237976,
          -0.06014772243512612,
          null
         ],
         "y": [
          -0.05668054863819679,
          0.08023590230817076,
          null
         ],
         "type": "scatter"
        },
        {
         "hoverinfo": "text",
         "line": {
          "color": "blue",
          "width": 0.3374023903222028
         },
         "mode": "lines",
         "text": [
          "Robb-Stark--Hallis-Mollen: 1.0694444444444444"
         ],
         "x": [
          -0.043314398094237976,
          -0.08801516159779224,
          null
         ],
         "y": [
          -0.05668054863819679,
          -0.12258939900067763,
          null
         ],
         "type": "scatter"
        },
        {
         "hoverinfo": "text",
         "line": {
          "color": "blue",
          "width": 0.30732960033145773
         },
         "mode": "lines",
         "text": [
          "Robb-Stark--Hodor: 1.0138888888888888"
         ],
         "x": [
          -0.043314398094237976,
          -0.2045012168232058,
          null
         ],
         "y": [
          -0.05668054863819679,
          0.03751775214914116,
          null
         ],
         "type": "scatter"
        },
        {
         "hoverinfo": "text",
         "line": {
          "color": "blue",
          "width": 0.3
         },
         "mode": "lines",
         "text": [
          "Robb-Stark--Hullen: 1.0"
         ],
         "x": [
          -0.043314398094237976,
          -0.11711798678681166,
          null
         ],
         "y": [
          -0.05668054863819679,
          0.08073306188728846,
          null
         ],
         "type": "scatter"
        },
        {
         "hoverinfo": "text",
         "line": {
          "color": "blue",
          "width": 0.32221562524998465
         },
         "mode": "lines",
         "text": [
          "Robb-Stark--Jaime-Lannister: 1.0416666666666665"
         ],
         "x": [
          -0.043314398094237976,
          0.08411778299242077,
          null
         ],
         "y": [
          -0.05668054863819679,
          -0.0127285298056426,
          null
         ],
         "type": "scatter"
        },
        {
         "hoverinfo": "text",
         "line": {
          "color": "blue",
          "width": 0.3607421283056655
         },
         "mode": "lines",
         "text": [
          "Robb-Stark--Joffrey-Baratheon: 1.1111111111111112"
         ],
         "x": [
          -0.043314398094237976,
          0.06727571942920114,
          null
         ],
         "y": [
          -0.05668054863819679,
          0.009801685120611444,
          null
         ],
         "type": "scatter"
        },
        {
         "hoverinfo": "text",
         "line": {
          "color": "blue",
          "width": 0.3184658461431345
         },
         "mode": "lines",
         "text": [
          "Robb-Stark--Jon-Umber-(Greatjon): 1.034722222222222"
         ],
         "x": [
          -0.043314398094237976,
          -0.12111407816859568,
          null
         ],
         "y": [
          -0.05668054863819679,
          -0.027536695165753702,
          null
         ],
         "type": "scatter"
        },
        {
         "hoverinfo": "text",
         "line": {
          "color": "blue",
          "width": 0.32221562524998465
         },
         "mode": "lines",
         "text": [
          "Robb-Stark--Jory-Cassel: 1.0416666666666665"
         ],
         "x": [
          -0.043314398094237976,
          -0.014992917689555097,
          null
         ],
         "y": [
          -0.05668054863819679,
          0.07085877790405458,
          null
         ],
         "type": "scatter"
        },
        {
         "hoverinfo": "text",
         "line": {
          "color": "blue",
          "width": 0.36469698806687256
         },
         "mode": "lines",
         "text": [
          "Robb-Stark--Luwin: 1.1180555555555556"
         ],
         "x": [
          -0.043314398094237976,
          -0.09543015503848222,
          null
         ],
         "y": [
          -0.05668054863819679,
          -0.033676325759921015,
          null
         ],
         "type": "scatter"
        },
        {
         "hoverinfo": "text",
         "line": {
          "color": "blue",
          "width": 0.3036553222084388
         },
         "mode": "lines",
         "text": [
          "Robb-Stark--Nan: 1.0069444444444444"
         ],
         "x": [
          -0.043314398094237976,
          -0.21240253818389077,
          null
         ],
         "y": [
          -0.05668054863819679,
          0.00183968232902158,
          null
         ],
         "type": "scatter"
        },
        {
         "hoverinfo": "text",
         "line": {
          "color": "blue",
          "width": 0.3
         },
         "mode": "lines",
         "text": [
          "Robb-Stark--Osha: 1.0"
         ],
         "x": [
          -0.043314398094237976,
          -0.21335158047053362,
          null
         ],
         "y": [
          -0.05668054863819679,
          -0.0406260749759265,
          null
         ],
         "type": "scatter"
        },
        {
         "hoverinfo": "text",
         "line": {
          "color": "blue",
          "width": 0.3
         },
         "mode": "lines",
         "text": [
          "Robb-Stark--Renly-Baratheon: 1.0"
         ],
         "x": [
          -0.043314398094237976,
          0.09935036609841824,
          null
         ],
         "y": [
          -0.05668054863819679,
          0.0404126925892233,
          null
         ],
         "type": "scatter"
        },
        {
         "hoverinfo": "text",
         "line": {
          "color": "blue",
          "width": 0.32221562524998465
         },
         "mode": "lines",
         "text": [
          "Robb-Stark--Rickard-Karstark: 1.0416666666666665"
         ],
         "x": [
          -0.043314398094237976,
          -0.07201238999138217,
          null
         ],
         "y": [
          -0.05668054863819679,
          0.023898206162544497,
          null
         ],
         "type": "scatter"
        },
        {
         "hoverinfo": "text",
         "line": {
          "color": "blue",
          "width": 0.36469698806687256
         },
         "mode": "lines",
         "text": [
          "Robb-Stark--Rickon-Stark: 1.1180555555555556"
         ],
         "x": [
          -0.043314398094237976,
          -0.031226770640811058,
          null
         ],
         "y": [
          -0.05668054863819679,
          -0.04175810966117788,
          null
         ],
         "type": "scatter"
        },
        {
         "hoverinfo": "text",
         "line": {
          "color": "blue",
          "width": 0.34510793151786423
         },
         "mode": "lines",
         "text": [
          "Robb-Stark--Rodrik-Cassel: 1.0833333333333333"
         ],
         "x": [
          -0.043314398094237976,
          0.0023389107467837325,
          null
         ],
         "y": [
          -0.05668054863819679,
          -0.06416374395556995,
          null
         ],
         "type": "scatter"
        },
        {
         "hoverinfo": "text",
         "line": {
          "color": "blue",
          "width": 0.31102280182627423
         },
         "mode": "lines",
         "text": [
          "Robb-Stark--Roose-Bolton: 1.0208333333333333"
         ],
         "x": [
          -0.043314398094237976,
          -0.14337801887454882,
          null
         ],
         "y": [
          -0.05668054863819679,
          0.03086387704045434,
          null
         ],
         "type": "scatter"
        },
        {
         "hoverinfo": "text",
         "line": {
          "color": "blue",
          "width": 0.3036553222084388
         },
         "mode": "lines",
         "text": [
          "Robb-Stark--Samwell-Tarly: 1.0069444444444444"
         ],
         "x": [
          -0.043314398094237976,
          -0.26837498129823595,
          null
         ],
         "y": [
          -0.05668054863819679,
          -0.26571040585496464,
          null
         ],
         "type": "scatter"
        },
        {
         "hoverinfo": "text",
         "line": {
          "color": "blue",
          "width": 0.3
         },
         "mode": "lines",
         "text": [
          "Robb-Stark--Stiv: 1.0"
         ],
         "x": [
          -0.043314398094237976,
          -0.253863738754804,
          null
         ],
         "y": [
          -0.05668054863819679,
          0.0017766542400898446,
          null
         ],
         "type": "scatter"
        },
        {
         "hoverinfo": "text",
         "line": {
          "color": "blue",
          "width": 0.43473228872184205
         },
         "mode": "lines",
         "text": [
          "Robb-Stark--Theon-Greyjoy: 1.2361111111111112"
         ],
         "x": [
          -0.043314398094237976,
          -0.018570992946724544,
          null
         ],
         "y": [
          -0.05668054863819679,
          -0.09792368559960818,
          null
         ],
         "type": "scatter"
        },
        {
         "hoverinfo": "text",
         "line": {
          "color": "blue",
          "width": 0.3
         },
         "mode": "lines",
         "text": [
          "Robb-Stark--Torrhen-Karstark: 1.0"
         ],
         "x": [
          -0.043314398094237976,
          0.23060690400641837,
          null
         ],
         "y": [
          -0.05668054863819679,
          0.0017181780161025716,
          null
         ],
         "type": "scatter"
        },
        {
         "hoverinfo": "text",
         "line": {
          "color": "blue",
          "width": 0.32221562524998465
         },
         "mode": "lines",
         "text": [
          "Robb-Stark--Tywin-Lannister: 1.0416666666666665"
         ],
         "x": [
          -0.043314398094237976,
          0.032045134513899176,
          null
         ],
         "y": [
          -0.05668054863819679,
          -0.039305273695998115,
          null
         ],
         "type": "scatter"
        },
        {
         "hoverinfo": "text",
         "line": {
          "color": "blue",
          "width": 0.31473489442754443
         },
         "mode": "lines",
         "text": [
          "Robb-Stark--Walder-Frey: 1.0277777777777777"
         ],
         "x": [
          -0.043314398094237976,
          0.10924972152460961,
          null
         ],
         "y": [
          -0.05668054863819679,
          -0.283093941314091,
          null
         ],
         "type": "scatter"
        },
        {
         "hoverinfo": "text",
         "line": {
          "color": "blue",
          "width": 0.3
         },
         "mode": "lines",
         "text": [
          "Robb-Stark--Wendel-Manderly: 1.0"
         ],
         "x": [
          -0.043314398094237976,
          0.04229755326967206,
          null
         ],
         "y": [
          -0.05668054863819679,
          -0.2624986623493546,
          null
         ],
         "type": "scatter"
        },
        {
         "hoverinfo": "text",
         "line": {
          "color": "blue",
          "width": 0.3
         },
         "mode": "lines",
         "text": [
          "Robb-Stark--Yoren: 1.0"
         ],
         "x": [
          -0.043314398094237976,
          -0.13829944821982637,
          null
         ],
         "y": [
          -0.05668054863819679,
          -0.09318015549971584,
          null
         ],
         "type": "scatter"
        },
        {
         "hoverinfo": "text",
         "line": {
          "color": "blue",
          "width": 0.30732960033145773
         },
         "mode": "lines",
         "text": [
          "Daenerys-Targaryen--Aegon-I-Targaryen: 1.0138888888888888"
         ],
         "x": [
          0.0068743915869946895,
          0.11077050567470466,
          null
         ],
         "y": [
          0.4737306563724346,
          0.39154871839973115,
          null
         ],
         "type": "scatter"
        },
        {
         "hoverinfo": "text",
         "line": {
          "color": "blue",
          "width": 0.3297715400664042
         },
         "mode": "lines",
         "text": [
          "Daenerys-Targaryen--Aggo: 1.0555555555555556"
         ],
         "x": [
          0.0068743915869946895,
          0.017658330818026202,
          null
         ],
         "y": [
          0.4737306563724346,
          0.6461942705341531,
          null
         ],
         "type": "scatter"
        },
        {
         "hoverinfo": "text",
         "line": {
          "color": "blue",
          "width": 0.31473489442754443
         },
         "mode": "lines",
         "text": [
          "Daenerys-Targaryen--Cohollo: 1.0277777777777777"
         ],
         "x": [
          0.0068743915869946895,
          -0.10280686100720865,
          null
         ],
         "y": [
          0.4737306563724346,
          0.6762262571885916,
          null
         ],
         "type": "scatter"
        },
        {
         "hoverinfo": "text",
         "line": {
          "color": "blue",
          "width": 0.34510793151786423
         },
         "mode": "lines",
         "text": [
          "Daenerys-Targaryen--Doreah: 1.0833333333333333"
         ],
         "x": [
          0.0068743915869946895,
          -0.04154279145219459,
          null
         ],
         "y": [
          0.4737306563724346,
          0.5798431442327341,
          null
         ],
         "type": "scatter"
        },
        {
         "hoverinfo": "text",
         "line": {
          "color": "blue",
          "width": 0.744155650915901
         },
         "mode": "lines",
         "text": [
          "Daenerys-Targaryen--Drogo: 1.6805555555555554"
         ],
         "x": [
          0.0068743915869946895,
          -0.06562876222454485,
          null
         ],
         "y": [
          0.4737306563724346,
          0.5779068024104821,
          null
         ],
         "type": "scatter"
        },
        {
         "hoverinfo": "text",
         "line": {
          "color": "blue",
          "width": 0.30732960033145773
         },
         "mode": "lines",
         "text": [
          "Daenerys-Targaryen--Eroeh: 1.0138888888888888"
         ],
         "x": [
          0.0068743915869946895,
          0.09195990522416149,
          null
         ],
         "y": [
          0.4737306563724346,
          0.7164079758909122,
          null
         ],
         "type": "scatter"
        },
        {
         "hoverinfo": "text",
         "line": {
          "color": "blue",
          "width": 0.33357761363923993
         },
         "mode": "lines",
         "text": [
          "Daenerys-Targaryen--Haggo: 1.0625"
         ],
         "x": [
          0.0068743915869946895,
          -0.05808685149545533,
          null
         ],
         "y": [
          0.4737306563724346,
          0.686396356589311,
          null
         ],
         "type": "scatter"
        },
        {
         "hoverinfo": "text",
         "line": {
          "color": "blue",
          "width": 0.38070080568987796
         },
         "mode": "lines",
         "text": [
          "Daenerys-Targaryen--Illyrio-Mopatis: 1.1458333333333333"
         ],
         "x": [
          0.0068743915869946895,
          0.001079720675957324,
          null
         ],
         "y": [
          0.4737306563724346,
          0.4279871367525846,
          null
         ],
         "type": "scatter"
        },
        {
         "hoverinfo": "text",
         "line": {
          "color": "blue",
          "width": 0.38474771355418536
         },
         "mode": "lines",
         "text": [
          "Daenerys-Targaryen--Irri: 1.1527777777777777"
         ],
         "x": [
          0.0068743915869946895,
          -0.014371425948954717,
          null
         ],
         "y": [
          0.4737306563724346,
          0.559054333378203,
          null
         ],
         "type": "scatter"
        },
        {
         "hoverinfo": "text",
         "line": {
          "color": "blue",
          "width": 0.38881294707719766
         },
         "mode": "lines",
         "text": [
          "Daenerys-Targaryen--Jhiqui: 1.159722222222222"
         ],
         "x": [
          0.0068743915869946895,
          -0.09337088732850068,
          null
         ],
         "y": [
          0.4737306563724346,
          0.603861909047303,
          null
         ],
         "type": "scatter"
        },
        {
         "hoverinfo": "text",
         "line": {
          "color": "blue",
          "width": 0.3528879230914017
         },
         "mode": "lines",
         "text": [
          "Daenerys-Targaryen--Jhogo: 1.097222222222222"
         ],
         "x": [
          0.0068743915869946895,
          0.01830446134818916,
          null
         ],
         "y": [
          0.4737306563724346,
          0.6141754614620935,
          null
         ],
         "type": "scatter"
        },
        {
         "hoverinfo": "text",
         "line": {
          "color": "blue",
          "width": 0.6099313524366452
         },
         "mode": "lines",
         "text": [
          "Daenerys-Targaryen--Jorah-Mormont: 1.5"
         ],
         "x": [
          0.0068743915869946895,
          -0.019064354672386447,
          null
         ],
         "y": [
          0.4737306563724346,
          0.48259338219442455,
          null
         ],
         "type": "scatter"
        },
        {
         "hoverinfo": "text",
         "line": {
          "color": "blue",
          "width": 0.40941304434461595
         },
         "mode": "lines",
         "text": [
          "Daenerys-Targaryen--Mirri-Maz-Duur: 1.1944444444444444"
         ],
         "x": [
          0.0068743915869946895,
          -0.024755329664524837,
          null
         ],
         "y": [
          0.4737306563724346,
          0.632344800738363,
          null
         ],
         "type": "scatter"
        },
        {
         "hoverinfo": "text",
         "line": {
          "color": "blue",
          "width": 0.35680576364309297
         },
         "mode": "lines",
         "text": [
          "Daenerys-Targaryen--Qotho: 1.1041666666666665"
         ],
         "x": [
          0.0068743915869946895,
          -0.0644145317183468,
          null
         ],
         "y": [
          0.4737306563724346,
          0.6399533884998166,
          null
         ],
         "type": "scatter"
        },
        {
         "hoverinfo": "text",
         "line": {
          "color": "blue",
          "width": 0.30732960033145773
         },
         "mode": "lines",
         "text": [
          "Daenerys-Targaryen--Quaro: 1.0138888888888888"
         ],
         "x": [
          0.0068743915869946895,
          -0.02160750082307075,
          null
         ],
         "y": [
          0.4737306563724346,
          0.6967630051148899,
          null
         ],
         "type": "scatter"
        },
        {
         "hoverinfo": "text",
         "line": {
          "color": "blue",
          "width": 0.3036553222084388
         },
         "mode": "lines",
         "text": [
          "Daenerys-Targaryen--Rakharo: 1.0069444444444444"
         ],
         "x": [
          0.0068743915869946895,
          0.008411991256053361,
          null
         ],
         "y": [
          0.4737306563724346,
          0.6967729280253329,
          null
         ],
         "type": "scatter"
        },
        {
         "hoverinfo": "text",
         "line": {
          "color": "blue",
          "width": 0.3036553222084388
         },
         "mode": "lines",
         "text": [
          "Daenerys-Targaryen--Rhaegar-Targaryen: 1.0069444444444444"
         ],
         "x": [
          0.0068743915869946895,
          0.014653623613678292,
          null
         ],
         "y": [
          0.4737306563724346,
          0.26775314626515023,
          null
         ],
         "type": "scatter"
        },
        {
         "hoverinfo": "text",
         "line": {
          "color": "blue",
          "width": 0.30732960033145773
         },
         "mode": "lines",
         "text": [
          "Daenerys-Targaryen--Varys: 1.0138888888888888"
         ],
         "x": [
          0.0068743915869946895,
          0.036618960965745066,
          null
         ],
         "y": [
          0.4737306563724346,
          0.0952360213840959,
          null
         ],
         "type": "scatter"
        },
        {
         "hoverinfo": "text",
         "line": {
          "color": "blue",
          "width": 0.43473228872184205
         },
         "mode": "lines",
         "text": [
          "Daenerys-Targaryen--Viserys-Targaryen: 1.2361111111111112"
         ],
         "x": [
          0.0068743915869946895,
          -0.027909544187174198,
          null
         ],
         "y": [
          0.4737306563724346,
          0.42414680182602954,
          null
         ],
         "type": "scatter"
        },
        {
         "hoverinfo": "text",
         "line": {
          "color": "blue",
          "width": 0.3
         },
         "mode": "lines",
         "text": [
          "Arya-Stark--Benjen-Stark: 1.0"
         ],
         "x": [
          0.03199436451402057,
          -0.12405528656493038,
          null
         ],
         "y": [
          0.02078565327859566,
          -0.1404897871753785,
          null
         ],
         "type": "scatter"
        },
        {
         "hoverinfo": "text",
         "line": {
          "color": "blue",
          "width": 0.33357761363923993
         },
         "mode": "lines",
         "text": [
          "Arya-Stark--Cersei-Lannister: 1.0625"
         ],
         "x": [
          0.03199436451402057,
          0.065324051953967,
          null
         ],
         "y": [
          0.02078565327859566,
          -0.011306557654175996,
          null
         ],
         "type": "scatter"
        },
        {
         "hoverinfo": "text",
         "line": {
          "color": "blue",
          "width": 0.3
         },
         "mode": "lines",
         "text": [
          "Arya-Stark--Desmond: 1.0"
         ],
         "x": [
          0.03199436451402057,
          0.14487176533832885,
          null
         ],
         "y": [
          0.02078565327859566,
          0.2267648016858255,
          null
         ],
         "type": "scatter"
        },
        {
         "hoverinfo": "text",
         "line": {
          "color": "blue",
          "width": 0.30732960033145773
         },
         "mode": "lines",
         "text": [
          "Arya-Stark--Ilyn-Payne: 1.0138888888888888"
         ],
         "x": [
          0.03199436451402057,
          0.10493895598371764,
          null
         ],
         "y": [
          0.02078565327859566,
          0.12975215603867807,
          null
         ],
         "type": "scatter"
        },
        {
         "hoverinfo": "text",
         "line": {
          "color": "blue",
          "width": 0.32598420029006264
         },
         "mode": "lines",
         "text": [
          "Arya-Stark--Jeyne-Poole: 1.0486111111111112"
         ],
         "x": [
          0.03199436451402057,
          0.15671453143493377,
          null
         ],
         "y": [
          0.02078565327859566,
          0.05471148992048057,
          null
         ],
         "type": "scatter"
        },
        {
         "hoverinfo": "text",
         "line": {
          "color": "blue",
          "width": 0.44331637922023864
         },
         "mode": "lines",
         "text": [
          "Arya-Stark--Joffrey-Baratheon: 1.25"
         ],
         "x": [
          0.03199436451402057,
          0.06727571942920114,
          null
         ],
         "y": [
          0.02078565327859566,
          0.009801685120611444,
          null
         ],
         "type": "scatter"
        },
        {
         "hoverinfo": "text",
         "line": {
          "color": "blue",
          "width": 0.33357761363923993
         },
         "mode": "lines",
         "text": [
          "Arya-Stark--Jory-Cassel: 1.0625"
         ],
         "x": [
          0.03199436451402057,
          -0.014992917689555097,
          null
         ],
         "y": [
          0.02078565327859566,
          0.07085877790405458,
          null
         ],
         "type": "scatter"
        },
        {
         "hoverinfo": "text",
         "line": {
          "color": "blue",
          "width": 0.3036553222084388
         },
         "mode": "lines",
         "text": [
          "Arya-Stark--Meryn-Trant: 1.0069444444444444"
         ],
         "x": [
          0.03199436451402057,
          0.17832790627769748,
          null
         ],
         "y": [
          0.02078565327859566,
          0.05658916185941756,
          null
         ],
         "type": "scatter"
        },
        {
         "hoverinfo": "text",
         "line": {
          "color": "blue",
          "width": 0.44331637922023864
         },
         "mode": "lines",
         "text": [
          "Arya-Stark--Mordane: 1.25"
         ],
         "x": [
          0.03199436451402057,
          0.02543575930860007,
          null
         ],
         "y": [
          0.02078565327859566,
          -0.009281754547322905,
          null
         ],
         "type": "scatter"
        },
        {
         "hoverinfo": "text",
         "line": {
          "color": "blue",
          "width": 0.35680576364309297
         },
         "mode": "lines",
         "text": [
          "Arya-Stark--Mycah: 1.1041666666666665"
         ],
         "x": [
          0.03199436451402057,
          0.07212180934310158,
          null
         ],
         "y": [
          0.02078565327859566,
          0.14112253354003632,
          null
         ],
         "type": "scatter"
        },
        {
         "hoverinfo": "text",
         "line": {
          "color": "blue",
          "width": 0.3374023903222028
         },
         "mode": "lines",
         "text": [
          "Arya-Stark--Myrcella-Baratheon: 1.0694444444444444"
         ],
         "x": [
          0.03199436451402057,
          0.11358554520503127,
          null
         ],
         "y": [
          0.02078565327859566,
          -0.02132348751762153,
          null
         ],
         "type": "scatter"
        },
        {
         "hoverinfo": "text",
         "line": {
          "color": "blue",
          "width": 0.3
         },
         "mode": "lines",
         "text": [
          "Arya-Stark--Petyr-Baelish: 1.0"
         ],
         "x": [
          0.03199436451402057,
          0.05648083182260479,
          null
         ],
         "y": [
          0.02078565327859566,
          0.03260685690219549,
          null
         ],
         "type": "scatter"
        },
        {
         "hoverinfo": "text",
         "line": {
          "color": "blue",
          "width": 0.31473489442754443
         },
         "mode": "lines",
         "text": [
          "Arya-Stark--Rickon-Stark: 1.0277777777777777"
         ],
         "x": [
          0.03199436451402057,
          -0.031226770640811058,
          null
         ],
         "y": [
          0.02078565327859566,
          -0.04175810966117788,
          null
         ],
         "type": "scatter"
        },
        {
         "hoverinfo": "text",
         "line": {
          "color": "blue",
          "width": 0.3
         },
         "mode": "lines",
         "text": [
          "Arya-Stark--Rodrik-Cassel: 1.0"
         ],
         "x": [
          0.03199436451402057,
          0.0023389107467837325,
          null
         ],
         "y": [
          0.02078565327859566,
          -0.06416374395556995,
          null
         ],
         "type": "scatter"
        },
        {
         "hoverinfo": "text",
         "line": {
          "color": "blue",
          "width": 0.31473489442754443
         },
         "mode": "lines",
         "text": [
          "Arya-Stark--Sandor-Clegane: 1.0277777777777777"
         ],
         "x": [
          0.03199436451402057,
          0.12952798707083144,
          null
         ],
         "y": [
          0.02078565327859566,
          0.019266875519648598,
          null
         ],
         "type": "scatter"
        },
        {
         "hoverinfo": "text",
         "line": {
          "color": "blue",
          "width": 0.36469698806687256
         },
         "mode": "lines",
         "text": [
          "Arya-Stark--Syrio-Forel: 1.1180555555555556"
         ],
         "x": [
          0.03199436451402057,
          0.2280802487449413,
          null
         ],
         "y": [
          0.02078565327859566,
          0.14099773962857906,
          null
         ],
         "type": "scatter"
        },
        {
         "hoverinfo": "text",
         "line": {
          "color": "blue",
          "width": 0.31102280182627423
         },
         "mode": "lines",
         "text": [
          "Arya-Stark--Tomard: 1.0208333333333333"
         ],
         "x": [
          0.03199436451402057,
          0.08399729181974153,
          null
         ],
         "y": [
          0.02078565327859566,
          0.17503157989834955,
          null
         ],
         "type": "scatter"
        },
        {
         "hoverinfo": "text",
         "line": {
          "color": "blue",
          "width": 0.30732960033145773
         },
         "mode": "lines",
         "text": [
          "Arya-Stark--Tommen-Baratheon: 1.0138888888888888"
         ],
         "x": [
          0.03199436451402057,
          -0.02099681451767266,
          null
         ],
         "y": [
          0.02078565327859566,
          -0.0021973061319556933,
          null
         ],
         "type": "scatter"
        },
        {
         "hoverinfo": "text",
         "line": {
          "color": "blue",
          "width": 0.3036553222084388
         },
         "mode": "lines",
         "text": [
          "Arya-Stark--Vayon-Poole: 1.0069444444444444"
         ],
         "x": [
          0.03199436451402057,
          0.13920241258330932,
          null
         ],
         "y": [
          0.02078565327859566,
          0.10402928691784472,
          null
         ],
         "type": "scatter"
        },
        {
         "hoverinfo": "text",
         "line": {
          "color": "blue",
          "width": 0.3036553222084388
         },
         "mode": "lines",
         "text": [
          "Arya-Stark--Yoren: 1.0069444444444444"
         ],
         "x": [
          0.03199436451402057,
          -0.13829944821982637,
          null
         ],
         "y": [
          0.02078565327859566,
          -0.09318015549971584,
          null
         ],
         "type": "scatter"
        },
        {
         "hoverinfo": "text",
         "line": {
          "color": "blue",
          "width": 0.3
         },
         "mode": "lines",
         "text": [
          "Cersei-Lannister--Arys-Oakheart: 1.0"
         ],
         "x": [
          0.065324051953967,
          0.3375789713019098,
          null
         ],
         "y": [
          -0.011306557654175996,
          -0.07646121379706596,
          null
         ],
         "type": "scatter"
        },
        {
         "hoverinfo": "text",
         "line": {
          "color": "blue",
          "width": 0.33357761363923993
         },
         "mode": "lines",
         "text": [
          "Cersei-Lannister--Barristan-Selmy: 1.0625"
         ],
         "x": [
          0.065324051953967,
          0.12937540553129614,
          null
         ],
         "y": [
          -0.011306557654175996,
          0.06281701710849813,
          null
         ],
         "type": "scatter"
        },
        {
         "hoverinfo": "text",
         "line": {
          "color": "blue",
          "width": 0.3
         },
         "mode": "lines",
         "text": [
          "Cersei-Lannister--Benjen-Stark: 1.0"
         ],
         "x": [
          0.065324051953967,
          -0.12405528656493038,
          null
         ],
         "y": [
          -0.011306557654175996,
          -0.1404897871753785,
          null
         ],
         "type": "scatter"
        },
        {
         "hoverinfo": "text",
         "line": {
          "color": "blue",
          "width": 0.32221562524998465
         },
         "mode": "lines",
         "text": [
          "Cersei-Lannister--Boros-Blount: 1.0416666666666665"
         ],
         "x": [
          0.065324051953967,
          0.19767877967959777,
          null
         ],
         "y": [
          -0.011306557654175996,
          -0.007191383086253683,
          null
         ],
         "type": "scatter"
        },
        {
         "hoverinfo": "text",
         "line": {
          "color": "blue",
          "width": 0.3036553222084388
         },
         "mode": "lines",
         "text": [
          "Cersei-Lannister--Ilyn-Payne: 1.0069444444444444"
         ],
         "x": [
          0.065324051953967,
          0.10493895598371764,
          null
         ],
         "y": [
          -0.011306557654175996,
          0.12975215603867807,
          null
         ],
         "type": "scatter"
        },
        {
         "hoverinfo": "text",
         "line": {
          "color": "blue",
          "width": 0.3489886358918264
         },
         "mode": "lines",
         "text": [
          "Cersei-Lannister--Jaime-Lannister: 1.0902777777777777"
         ],
         "x": [
          0.065324051953967,
          0.08411778299242077,
          null
         ],
         "y": [
          -0.011306557654175996,
          -0.0127285298056426,
          null
         ],
         "type": "scatter"
        },
        {
         "hoverinfo": "text",
         "line": {
          "color": "blue",
          "width": 0.3036553222084388
         },
         "mode": "lines",
         "text": [
          "Cersei-Lannister--Janos-Slynt: 1.0069444444444444"
         ],
         "x": [
          0.065324051953967,
          0.13419213924015455,
          null
         ],
         "y": [
          -0.011306557654175996,
          0.12636956328109705,
          null
         ],
         "type": "scatter"
        },
        {
         "hoverinfo": "text",
         "line": {
          "color": "blue",
          "width": 0.4563271415025829
         },
         "mode": "lines",
         "text": [
          "Cersei-Lannister--Joffrey-Baratheon: 1.2708333333333333"
         ],
         "x": [
          0.065324051953967,
          0.06727571942920114,
          null
         ],
         "y": [
          -0.011306557654175996,
          0.009801685120611444,
          null
         ],
         "type": "scatter"
        },
        {
         "hoverinfo": "text",
         "line": {
          "color": "blue",
          "width": 0.31473489442754443
         },
         "mode": "lines",
         "text": [
          "Cersei-Lannister--Jon-Arryn: 1.0277777777777777"
         ],
         "x": [
          0.065324051953967,
          0.017573226254451197,
          null
         ],
         "y": [
          -0.011306557654175996,
          0.04811545290389017,
          null
         ],
         "type": "scatter"
        },
        {
         "hoverinfo": "text",
         "line": {
          "color": "blue",
          "width": 0.30732960033145773
         },
         "mode": "lines",
         "text": [
          "Cersei-Lannister--Jory-Cassel: 1.0138888888888888"
         ],
         "x": [
          0.065324051953967,
          -0.014992917689555097,
          null
         ],
         "y": [
          -0.011306557654175996,
          0.07085877790405458,
          null
         ],
         "type": "scatter"
        },
        {
         "hoverinfo": "text",
         "line": {
          "color": "blue",
          "width": 0.3036553222084388
         },
         "mode": "lines",
         "text": [
          "Cersei-Lannister--Meryn-Trant: 1.0069444444444444"
         ],
         "x": [
          0.065324051953967,
          0.17832790627769748,
          null
         ],
         "y": [
          -0.011306557654175996,
          0.05658916185941756,
          null
         ],
         "type": "scatter"
        },
        {
         "hoverinfo": "text",
         "line": {
          "color": "blue",
          "width": 0.3
         },
         "mode": "lines",
         "text": [
          "Cersei-Lannister--Mordane: 1.0"
         ],
         "x": [
          0.065324051953967,
          0.02543575930860007,
          null
         ],
         "y": [
          -0.011306557654175996,
          -0.009281754547322905,
          null
         ],
         "type": "scatter"
        },
        {
         "hoverinfo": "text",
         "line": {
          "color": "blue",
          "width": 0.31473489442754443
         },
         "mode": "lines",
         "text": [
          "Cersei-Lannister--Myrcella-Baratheon: 1.0277777777777777"
         ],
         "x": [
          0.065324051953967,
          0.11358554520503127,
          null
         ],
         "y": [
          -0.011306557654175996,
          -0.02132348751762153,
          null
         ],
         "type": "scatter"
        },
        {
         "hoverinfo": "text",
         "line": {
          "color": "blue",
          "width": 0.3374023903222028
         },
         "mode": "lines",
         "text": [
          "Cersei-Lannister--Petyr-Baelish: 1.0694444444444444"
         ],
         "x": [
          0.065324051953967,
          0.05648083182260479,
          null
         ],
         "y": [
          -0.011306557654175996,
          0.03260685690219549,
          null
         ],
         "type": "scatter"
        },
        {
         "hoverinfo": "text",
         "line": {
          "color": "blue",
          "width": 0.32221562524998465
         },
         "mode": "lines",
         "text": [
          "Cersei-Lannister--Pycelle: 1.0416666666666665"
         ],
         "x": [
          0.065324051953967,
          0.0857655486770623,
          null
         ],
         "y": [
          -0.011306557654175996,
          0.08225288197648849,
          null
         ],
         "type": "scatter"
        },
        {
         "hoverinfo": "text",
         "line": {
          "color": "blue",
          "width": 0.30732960033145773
         },
         "mode": "lines",
         "text": [
          "Cersei-Lannister--Renly-Baratheon: 1.0138888888888888"
         ],
         "x": [
          0.065324051953967,
          0.09935036609841824,
          null
         ],
         "y": [
          -0.011306557654175996,
          0.0404126925892233,
          null
         ],
         "type": "scatter"
        },
        {
         "hoverinfo": "text",
         "line": {
          "color": "blue",
          "width": 0.30732960033145773
         },
         "mode": "lines",
         "text": [
          "Cersei-Lannister--Sandor-Clegane: 1.0138888888888888"
         ],
         "x": [
          0.065324051953967,
          0.12952798707083144,
          null
         ],
         "y": [
          -0.011306557654175996,
          0.019266875519648598,
          null
         ],
         "type": "scatter"
        },
        {
         "hoverinfo": "text",
         "line": {
          "color": "blue",
          "width": 0.30732960033145773
         },
         "mode": "lines",
         "text": [
          "Cersei-Lannister--Stannis-Baratheon: 1.0138888888888888"
         ],
         "x": [
          0.065324051953967,
          0.10522382841735935,
          null
         ],
         "y": [
          -0.011306557654175996,
          0.02502521588793754,
          null
         ],
         "type": "scatter"
        },
        {
         "hoverinfo": "text",
         "line": {
          "color": "blue",
          "width": 0.3036553222084388
         },
         "mode": "lines",
         "text": [
          "Cersei-Lannister--Tommen-Baratheon: 1.0069444444444444"
         ],
         "x": [
          0.065324051953967,
          -0.02099681451767266,
          null
         ],
         "y": [
          -0.011306557654175996,
          -0.0021973061319556933,
          null
         ],
         "type": "scatter"
        },
        {
         "hoverinfo": "text",
         "line": {
          "color": "blue",
          "width": 0.32598420029006264
         },
         "mode": "lines",
         "text": [
          "Cersei-Lannister--Tywin-Lannister: 1.0486111111111112"
         ],
         "x": [
          0.065324051953967,
          0.032045134513899176,
          null
         ],
         "y": [
          -0.011306557654175996,
          -0.039305273695998115,
          null
         ],
         "type": "scatter"
        },
        {
         "hoverinfo": "text",
         "line": {
          "color": "blue",
          "width": 0.3607421283056655
         },
         "mode": "lines",
         "text": [
          "Cersei-Lannister--Varys: 1.1111111111111112"
         ],
         "x": [
          0.065324051953967,
          0.036618960965745066,
          null
         ],
         "y": [
          -0.011306557654175996,
          0.0952360213840959,
          null
         ],
         "type": "scatter"
        },
        {
         "hoverinfo": "text",
         "line": {
          "color": "blue",
          "width": 0.3036553222084388
         },
         "mode": "lines",
         "text": [
          "Cersei-Lannister--Vayon-Poole: 1.0069444444444444"
         ],
         "x": [
          0.065324051953967,
          0.13920241258330932,
          null
         ],
         "y": [
          -0.011306557654175996,
          0.10402928691784472,
          null
         ],
         "type": "scatter"
        },
        {
         "hoverinfo": "text",
         "line": {
          "color": "blue",
          "width": 0.31102280182627423
         },
         "mode": "lines",
         "text": [
          "Joffrey-Baratheon--Barristan-Selmy: 1.0208333333333333"
         ],
         "x": [
          0.06727571942920114,
          0.12937540553129614,
          null
         ],
         "y": [
          0.009801685120611444,
          0.06281701710849813,
          null
         ],
         "type": "scatter"
        },
        {
         "hoverinfo": "text",
         "line": {
          "color": "blue",
          "width": 0.3
         },
         "mode": "lines",
         "text": [
          "Joffrey-Baratheon--Boros-Blount: 1.0"
         ],
         "x": [
          0.06727571942920114,
          0.19767877967959777,
          null
         ],
         "y": [
          0.009801685120611444,
          -0.007191383086253683,
          null
         ],
         "type": "scatter"
        },
        {
         "hoverinfo": "text",
         "line": {
          "color": "blue",
          "width": 0.3036553222084388
         },
         "mode": "lines",
         "text": [
          "Joffrey-Baratheon--High-Septon-(fat_one): 1.0069444444444444"
         ],
         "x": [
          0.06727571942920114,
          0.2795070600245484,
          null
         ],
         "y": [
          0.009801685120611444,
          0.0567282788276434,
          null
         ],
         "type": "scatter"
        },
        {
         "hoverinfo": "text",
         "line": {
          "color": "blue",
          "width": 0.3036553222084388
         },
         "mode": "lines",
         "text": [
          "Joffrey-Baratheon--Ilyn-Payne: 1.0069444444444444"
         ],
         "x": [
          0.06727571942920114,
          0.10493895598371764,
          null
         ],
         "y": [
          0.009801685120611444,
          0.12975215603867807,
          null
         ],
         "type": "scatter"
        },
        {
         "hoverinfo": "text",
         "line": {
          "color": "blue",
          "width": 0.33357761363923993
         },
         "mode": "lines",
         "text": [
          "Joffrey-Baratheon--Jaime-Lannister: 1.0625"
         ],
         "x": [
          0.06727571942920114,
          0.08411778299242077,
          null
         ],
         "y": [
          0.009801685120611444,
          -0.0127285298056426,
          null
         ],
         "type": "scatter"
        },
        {
         "hoverinfo": "text",
         "line": {
          "color": "blue",
          "width": 0.3036553222084388
         },
         "mode": "lines",
         "text": [
          "Joffrey-Baratheon--Janos-Slynt: 1.0069444444444444"
         ],
         "x": [
          0.06727571942920114,
          0.13419213924015455,
          null
         ],
         "y": [
          0.009801685120611444,
          0.12636956328109705,
          null
         ],
         "type": "scatter"
        },
        {
         "hoverinfo": "text",
         "line": {
          "color": "blue",
          "width": 0.3
         },
         "mode": "lines",
         "text": [
          "Joffrey-Baratheon--Loras-Tyrell: 1.0"
         ],
         "x": [
          0.06727571942920114,
          0.18042954714332093,
          null
         ],
         "y": [
          0.009801685120611444,
          0.10241972177968102,
          null
         ],
         "type": "scatter"
        },
        {
         "hoverinfo": "text",
         "line": {
          "color": "blue",
          "width": 0.3
         },
         "mode": "lines",
         "text": [
          "Joffrey-Baratheon--Meryn-Trant: 1.0"
         ],
         "x": [
          0.06727571942920114,
          0.17832790627769748,
          null
         ],
         "y": [
          0.009801685120611444,
          0.05658916185941756,
          null
         ],
         "type": "scatter"
        },
        {
         "hoverinfo": "text",
         "line": {
          "color": "blue",
          "width": 0.32221562524998465
         },
         "mode": "lines",
         "text": [
          "Joffrey-Baratheon--Mordane: 1.0416666666666665"
         ],
         "x": [
          0.06727571942920114,
          0.02543575930860007,
          null
         ],
         "y": [
          0.009801685120611444,
          -0.009281754547322905,
          null
         ],
         "type": "scatter"
        },
        {
         "hoverinfo": "text",
         "line": {
          "color": "blue",
          "width": 0.34124583967861705
         },
         "mode": "lines",
         "text": [
          "Joffrey-Baratheon--Mycah: 1.0763888888888888"
         ],
         "x": [
          0.06727571942920114,
          0.07212180934310158,
          null
         ],
         "y": [
          0.009801685120611444,
          0.14112253354003632,
          null
         ],
         "type": "scatter"
        },
        {
         "hoverinfo": "text",
         "line": {
          "color": "blue",
          "width": 0.30732960033145773
         },
         "mode": "lines",
         "text": [
          "Joffrey-Baratheon--Myrcella-Baratheon: 1.0138888888888888"
         ],
         "x": [
          0.06727571942920114,
          0.11358554520503127,
          null
         ],
         "y": [
          0.009801685120611444,
          -0.02132348751762153,
          null
         ],
         "type": "scatter"
        },
        {
         "hoverinfo": "text",
         "line": {
          "color": "blue",
          "width": 0.3297715400664042
         },
         "mode": "lines",
         "text": [
          "Joffrey-Baratheon--Petyr-Baelish: 1.0555555555555556"
         ],
         "x": [
          0.06727571942920114,
          0.05648083182260479,
          null
         ],
         "y": [
          0.009801685120611444,
          0.03260685690219549,
          null
         ],
         "type": "scatter"
        },
        {
         "hoverinfo": "text",
         "line": {
          "color": "blue",
          "width": 0.3036553222084388
         },
         "mode": "lines",
         "text": [
          "Joffrey-Baratheon--Pycelle: 1.0069444444444444"
         ],
         "x": [
          0.06727571942920114,
          0.0857655486770623,
          null
         ],
         "y": [
          0.009801685120611444,
          0.08225288197648849,
          null
         ],
         "type": "scatter"
        },
        {
         "hoverinfo": "text",
         "line": {
          "color": "blue",
          "width": 0.32221562524998465
         },
         "mode": "lines",
         "text": [
          "Joffrey-Baratheon--Renly-Baratheon: 1.0416666666666665"
         ],
         "x": [
          0.06727571942920114,
          0.09935036609841824,
          null
         ],
         "y": [
          0.009801685120611444,
          0.0404126925892233,
          null
         ],
         "type": "scatter"
        },
        {
         "hoverinfo": "text",
         "line": {
          "color": "blue",
          "width": 0.32221562524998465
         },
         "mode": "lines",
         "text": [
          "Joffrey-Baratheon--Rodrik-Cassel: 1.0416666666666665"
         ],
         "x": [
          0.06727571942920114,
          0.0023389107467837325,
          null
         ],
         "y": [
          0.009801685120611444,
          -0.06416374395556995,
          null
         ],
         "type": "scatter"
        },
        {
         "hoverinfo": "text",
         "line": {
          "color": "blue",
          "width": 0.38070080568987796
         },
         "mode": "lines",
         "text": [
          "Joffrey-Baratheon--Sandor-Clegane: 1.1458333333333333"
         ],
         "x": [
          0.06727571942920114,
          0.12952798707083144,
          null
         ],
         "y": [
          0.009801685120611444,
          0.019266875519648598,
          null
         ],
         "type": "scatter"
        },
        {
         "hoverinfo": "text",
         "line": {
          "color": "blue",
          "width": 0.31473489442754443
         },
         "mode": "lines",
         "text": [
          "Joffrey-Baratheon--Stannis-Baratheon: 1.0277777777777777"
         ],
         "x": [
          0.06727571942920114,
          0.10522382841735935,
          null
         ],
         "y": [
          0.009801685120611444,
          0.02502521588793754,
          null
         ],
         "type": "scatter"
        },
        {
         "hoverinfo": "text",
         "line": {
          "color": "blue",
          "width": 0.3184658461431345
         },
         "mode": "lines",
         "text": [
          "Joffrey-Baratheon--Tommen-Baratheon: 1.034722222222222"
         ],
         "x": [
          0.06727571942920114,
          -0.02099681451767266,
          null
         ],
         "y": [
          0.009801685120611444,
          -0.0021973061319556933,
          null
         ],
         "type": "scatter"
        },
        {
         "hoverinfo": "text",
         "line": {
          "color": "blue",
          "width": 0.3
         },
         "mode": "lines",
         "text": [
          "Joffrey-Baratheon--Tywin-Lannister: 1.0"
         ],
         "x": [
          0.06727571942920114,
          0.032045134513899176,
          null
         ],
         "y": [
          0.009801685120611444,
          -0.039305273695998115,
          null
         ],
         "type": "scatter"
        },
        {
         "hoverinfo": "text",
         "line": {
          "color": "blue",
          "width": 0.31473489442754443
         },
         "mode": "lines",
         "text": [
          "Joffrey-Baratheon--Varys: 1.0277777777777777"
         ],
         "x": [
          0.06727571942920114,
          0.036618960965745066,
          null
         ],
         "y": [
          0.009801685120611444,
          0.0952360213840959,
          null
         ],
         "type": "scatter"
        },
        {
         "hoverinfo": "text",
         "line": {
          "color": "blue",
          "width": 0.31473489442754443
         },
         "mode": "lines",
         "text": [
          "Petyr-Baelish--Barristan-Selmy: 1.0277777777777777"
         ],
         "x": [
          0.05648083182260479,
          0.12937540553129614,
          null
         ],
         "y": [
          0.03260685690219549,
          0.06281701710849813,
          null
         ],
         "type": "scatter"
        },
        {
         "hoverinfo": "text",
         "line": {
          "color": "blue",
          "width": 0.34124583967861705
         },
         "mode": "lines",
         "text": [
          "Petyr-Baelish--Brandon-Stark: 1.0763888888888888"
         ],
         "x": [
          0.05648083182260479,
          0.027448936692904862,
          null
         ],
         "y": [
          0.03260685690219549,
          0.20554547129797635,
          null
         ],
         "type": "scatter"
        },
        {
         "hoverinfo": "text",
         "line": {
          "color": "blue",
          "width": 0.3036553222084388
         },
         "mode": "lines",
         "text": [
          "Petyr-Baelish--Edmure-Tully: 1.0069444444444444"
         ],
         "x": [
          0.05648083182260479,
          0.023076472169538148,
          null
         ],
         "y": [
          0.03260685690219549,
          -0.07761245006425639,
          null
         ],
         "type": "scatter"
        },
        {
         "hoverinfo": "text",
         "line": {
          "color": "blue",
          "width": 0.3
         },
         "mode": "lines",
         "text": [
          "Petyr-Baelish--Gregor-Clegane: 1.0"
         ],
         "x": [
          0.05648083182260479,
          0.07693119390322473,
          null
         ],
         "y": [
          0.03260685690219549,
          0.04684415948750067,
          null
         ],
         "type": "scatter"
        },
        {
         "hoverinfo": "text",
         "line": {
          "color": "blue",
          "width": 0.31473489442754443
         },
         "mode": "lines",
         "text": [
          "Petyr-Baelish--Jaime-Lannister: 1.0277777777777777"
         ],
         "x": [
          0.05648083182260479,
          0.08411778299242077,
          null
         ],
         "y": [
          0.03260685690219549,
          -0.0127285298056426,
          null
         ],
         "type": "scatter"
        },
        {
         "hoverinfo": "text",
         "line": {
          "color": "blue",
          "width": 0.3
         },
         "mode": "lines",
         "text": [
          "Petyr-Baelish--Janos-Slynt: 1.0"
         ],
         "x": [
          0.05648083182260479,
          0.13419213924015455,
          null
         ],
         "y": [
          0.03260685690219549,
          0.12636956328109705,
          null
         ],
         "type": "scatter"
        },
        {
         "hoverinfo": "text",
         "line": {
          "color": "blue",
          "width": 0.3036553222084388
         },
         "mode": "lines",
         "text": [
          "Petyr-Baelish--Jon-Arryn: 1.0069444444444444"
         ],
         "x": [
          0.05648083182260479,
          0.017573226254451197,
          null
         ],
         "y": [
          0.03260685690219549,
          0.04811545290389017,
          null
         ],
         "type": "scatter"
        },
        {
         "hoverinfo": "text",
         "line": {
          "color": "blue",
          "width": 0.3184658461431345
         },
         "mode": "lines",
         "text": [
          "Petyr-Baelish--Jory-Cassel: 1.034722222222222"
         ],
         "x": [
          0.05648083182260479,
          -0.014992917689555097,
          null
         ],
         "y": [
          0.03260685690219549,
          0.07085877790405458,
          null
         ],
         "type": "scatter"
        },
        {
         "hoverinfo": "text",
         "line": {
          "color": "blue",
          "width": 0.30732960033145773
         },
         "mode": "lines",
         "text": [
          "Petyr-Baelish--Loras-Tyrell: 1.0138888888888888"
         ],
         "x": [
          0.05648083182260479,
          0.18042954714332093,
          null
         ],
         "y": [
          0.03260685690219549,
          0.10241972177968102,
          null
         ],
         "type": "scatter"
        },
        {
         "hoverinfo": "text",
         "line": {
          "color": "blue",
          "width": 0.3036553222084388
         },
         "mode": "lines",
         "text": [
          "Petyr-Baelish--Lysa-Arryn: 1.0069444444444444"
         ],
         "x": [
          0.05648083182260479,
          0.12653315489042977,
          null
         ],
         "y": [
          0.03260685690219549,
          -0.09013791103676602,
          null
         ],
         "type": "scatter"
        },
        {
         "hoverinfo": "text",
         "line": {
          "color": "blue",
          "width": 0.3
         },
         "mode": "lines",
         "text": [
          "Petyr-Baelish--Mordane: 1.0"
         ],
         "x": [
          0.05648083182260479,
          0.02543575930860007,
          null
         ],
         "y": [
          0.03260685690219549,
          -0.009281754547322905,
          null
         ],
         "type": "scatter"
        },
        {
         "hoverinfo": "text",
         "line": {
          "color": "blue",
          "width": 0.34124583967861705
         },
         "mode": "lines",
         "text": [
          "Petyr-Baelish--Pycelle: 1.0763888888888888"
         ],
         "x": [
          0.05648083182260479,
          0.0857655486770623,
          null
         ],
         "y": [
          0.03260685690219549,
          0.08225288197648849,
          null
         ],
         "type": "scatter"
        },
        {
         "hoverinfo": "text",
         "line": {
          "color": "blue",
          "width": 0.33357761363923993
         },
         "mode": "lines",
         "text": [
          "Petyr-Baelish--Renly-Baratheon: 1.0625"
         ],
         "x": [
          0.05648083182260479,
          0.09935036609841824,
          null
         ],
         "y": [
          0.03260685690219549,
          0.0404126925892233,
          null
         ],
         "type": "scatter"
        },
        {
         "hoverinfo": "text",
         "line": {
          "color": "blue",
          "width": 0.31473489442754443
         },
         "mode": "lines",
         "text": [
          "Petyr-Baelish--Rodrik-Cassel: 1.0277777777777777"
         ],
         "x": [
          0.05648083182260479,
          0.0023389107467837325,
          null
         ],
         "y": [
          0.03260685690219549,
          -0.06416374395556995,
          null
         ],
         "type": "scatter"
        },
        {
         "hoverinfo": "text",
         "line": {
          "color": "blue",
          "width": 0.3
         },
         "mode": "lines",
         "text": [
          "Petyr-Baelish--Sandor-Clegane: 1.0"
         ],
         "x": [
          0.05648083182260479,
          0.12952798707083144,
          null
         ],
         "y": [
          0.03260685690219549,
          0.019266875519648598,
          null
         ],
         "type": "scatter"
        },
        {
         "hoverinfo": "text",
         "line": {
          "color": "blue",
          "width": 0.3036553222084388
         },
         "mode": "lines",
         "text": [
          "Petyr-Baelish--Tomard: 1.0069444444444444"
         ],
         "x": [
          0.05648083182260479,
          0.08399729181974153,
          null
         ],
         "y": [
          0.03260685690219549,
          0.17503157989834955,
          null
         ],
         "type": "scatter"
        },
        {
         "hoverinfo": "text",
         "line": {
          "color": "blue",
          "width": 0.40111832766448136
         },
         "mode": "lines",
         "text": [
          "Petyr-Baelish--Varys: 1.1805555555555556"
         ],
         "x": [
          0.05648083182260479,
          0.036618960965745066,
          null
         ],
         "y": [
          0.03260685690219549,
          0.0952360213840959,
          null
         ],
         "type": "scatter"
        },
        {
         "hoverinfo": "text",
         "line": {
          "color": "blue",
          "width": 0.31102280182627423
         },
         "mode": "lines",
         "text": [
          "Drogo--Aggo: 1.0208333333333333"
         ],
         "x": [
          -0.06562876222454485,
          0.017658330818026202,
          null
         ],
         "y": [
          0.5779068024104821,
          0.6461942705341531,
          null
         ],
         "type": "scatter"
        },
        {
         "hoverinfo": "text",
         "line": {
          "color": "blue",
          "width": 0.32221562524998465
         },
         "mode": "lines",
         "text": [
          "Drogo--Cohollo: 1.0416666666666665"
         ],
         "x": [
          -0.06562876222454485,
          -0.10280686100720865,
          null
         ],
         "y": [
          0.5779068024104821,
          0.6762262571885916,
          null
         ],
         "type": "scatter"
        },
        {
         "hoverinfo": "text",
         "line": {
          "color": "blue",
          "width": 0.30732960033145773
         },
         "mode": "lines",
         "text": [
          "Drogo--Doreah: 1.0138888888888888"
         ],
         "x": [
          -0.06562876222454485,
          -0.04154279145219459,
          null
         ],
         "y": [
          0.5779068024104821,
          0.5798431442327341,
          null
         ],
         "type": "scatter"
        },
        {
         "hoverinfo": "text",
         "line": {
          "color": "blue",
          "width": 0.32221562524998465
         },
         "mode": "lines",
         "text": [
          "Drogo--Haggo: 1.0416666666666665"
         ],
         "x": [
          -0.06562876222454485,
          -0.05808685149545533,
          null
         ],
         "y": [
          0.5779068024104821,
          0.686396356589311,
          null
         ],
         "type": "scatter"
        },
        {
         "hoverinfo": "text",
         "line": {
          "color": "blue",
          "width": 0.3489886358918264
         },
         "mode": "lines",
         "text": [
          "Drogo--Illyrio-Mopatis: 1.0902777777777777"
         ],
         "x": [
          -0.06562876222454485,
          0.001079720675957324,
          null
         ],
         "y": [
          0.5779068024104821,
          0.4279871367525846,
          null
         ],
         "type": "scatter"
        },
        {
         "hoverinfo": "text",
         "line": {
          "color": "blue",
          "width": 0.32221562524998465
         },
         "mode": "lines",
         "text": [
          "Drogo--Irri: 1.0416666666666665"
         ],
         "x": [
          -0.06562876222454485,
          -0.014371425948954717,
          null
         ],
         "y": [
          0.5779068024104821,
          0.559054333378203,
          null
         ],
         "type": "scatter"
        },
        {
         "hoverinfo": "text",
         "line": {
          "color": "blue",
          "width": 0.30732960033145773
         },
         "mode": "lines",
         "text": [
          "Drogo--Jhiqui: 1.0138888888888888"
         ],
         "x": [
          -0.06562876222454485,
          -0.09337088732850068,
          null
         ],
         "y": [
          0.5779068024104821,
          0.603861909047303,
          null
         ],
         "type": "scatter"
        },
        {
         "hoverinfo": "text",
         "line": {
          "color": "blue",
          "width": 0.31473489442754443
         },
         "mode": "lines",
         "text": [
          "Drogo--Jhogo: 1.0277777777777777"
         ],
         "x": [
          -0.06562876222454485,
          0.01830446134818916,
          null
         ],
         "y": [
          0.5779068024104821,
          0.6141754614620935,
          null
         ],
         "type": "scatter"
        },
        {
         "hoverinfo": "text",
         "line": {
          "color": "blue",
          "width": 0.3
         },
         "mode": "lines",
         "text": [
          "Drogo--Jommo: 1.0"
         ],
         "x": [
          -0.06562876222454485,
          -0.18375787116317716,
          null
         ],
         "y": [
          0.5779068024104821,
          0.7857540610139122,
          null
         ],
         "type": "scatter"
        },
        {
         "hoverinfo": "text",
         "line": {
          "color": "blue",
          "width": 0.3489886358918264
         },
         "mode": "lines",
         "text": [
          "Drogo--Jorah-Mormont: 1.0902777777777777"
         ],
         "x": [
          -0.06562876222454485,
          -0.019064354672386447,
          null
         ],
         "y": [
          0.5779068024104821,
          0.48259338219442455,
          null
         ],
         "type": "scatter"
        },
        {
         "hoverinfo": "text",
         "line": {
          "color": "blue",
          "width": 0.33357761363923993
         },
         "mode": "lines",
         "text": [
          "Drogo--Mirri-Maz-Duur: 1.0625"
         ],
         "x": [
          -0.06562876222454485,
          -0.024755329664524837,
          null
         ],
         "y": [
          0.5779068024104821,
          0.632344800738363,
          null
         ],
         "type": "scatter"
        },
        {
         "hoverinfo": "text",
         "line": {
          "color": "blue",
          "width": 0.3297715400664042
         },
         "mode": "lines",
         "text": [
          "Drogo--Ogo: 1.0555555555555556"
         ],
         "x": [
          -0.06562876222454485,
          -0.22439677649777381,
          null
         ],
         "y": [
          0.5779068024104821,
          0.8300676277419687,
          null
         ],
         "type": "scatter"
        },
        {
         "hoverinfo": "text",
         "line": {
          "color": "blue",
          "width": 0.3374023903222028
         },
         "mode": "lines",
         "text": [
          "Drogo--Qotho: 1.0694444444444444"
         ],
         "x": [
          -0.06562876222454485,
          -0.0644145317183468,
          null
         ],
         "y": [
          0.5779068024104821,
          0.6399533884998166,
          null
         ],
         "type": "scatter"
        },
        {
         "hoverinfo": "text",
         "line": {
          "color": "blue",
          "width": 0.3
         },
         "mode": "lines",
         "text": [
          "Drogo--Quaro: 1.0"
         ],
         "x": [
          -0.06562876222454485,
          -0.02160750082307075,
          null
         ],
         "y": [
          0.5779068024104821,
          0.6967630051148899,
          null
         ],
         "type": "scatter"
        },
        {
         "hoverinfo": "text",
         "line": {
          "color": "blue",
          "width": 0.3036553222084388
         },
         "mode": "lines",
         "text": [
          "Drogo--Rakharo: 1.0069444444444444"
         ],
         "x": [
          -0.06562876222454485,
          0.008411991256053361,
          null
         ],
         "y": [
          0.5779068024104821,
          0.6967729280253329,
          null
         ],
         "type": "scatter"
        },
        {
         "hoverinfo": "text",
         "line": {
          "color": "blue",
          "width": 0.30732960033145773
         },
         "mode": "lines",
         "text": [
          "Drogo--Rhaego: 1.0138888888888888"
         ],
         "x": [
          -0.06562876222454485,
          -0.11679073796796821,
          null
         ],
         "y": [
          0.5779068024104821,
          0.8127074410429442,
          null
         ],
         "type": "scatter"
        },
        {
         "hoverinfo": "text",
         "line": {
          "color": "blue",
          "width": 0.3607421283056655
         },
         "mode": "lines",
         "text": [
          "Drogo--Viserys-Targaryen: 1.1111111111111112"
         ],
         "x": [
          -0.06562876222454485,
          -0.027909544187174198,
          null
         ],
         "y": [
          0.5779068024104821,
          0.42414680182602954,
          null
         ],
         "type": "scatter"
        },
        {
         "hoverinfo": "text",
         "line": {
          "color": "blue",
          "width": 0.3
         },
         "mode": "lines",
         "text": [
          "Jaime-Lannister--Addam-Marbrand: 1.0"
         ],
         "x": [
          0.08411778299242077,
          0.2221634716219403,
          null
         ],
         "y": [
          -0.0127285298056426,
          -0.11998429019297317,
          null
         ],
         "type": "scatter"
        },
        {
         "hoverinfo": "text",
         "line": {
          "color": "blue",
          "width": 0.30732960033145773
         },
         "mode": "lines",
         "text": [
          "Jaime-Lannister--Aerys-II-Targaryen: 1.0138888888888888"
         ],
         "x": [
          0.08411778299242077,
          0.17880449780327884,
          null
         ],
         "y": [
          -0.0127285298056426,
          0.14537326601673276,
          null
         ],
         "type": "scatter"
        },
        {
         "hoverinfo": "text",
         "line": {
          "color": "blue",
          "width": 0.3036553222084388
         },
         "mode": "lines",
         "text": [
          "Jaime-Lannister--Barristan-Selmy: 1.0069444444444444"
         ],
         "x": [
          0.08411778299242077,
          0.12937540553129614,
          null
         ],
         "y": [
          -0.0127285298056426,
          0.06281701710849813,
          null
         ],
         "type": "scatter"
        },
        {
         "hoverinfo": "text",
         "line": {
          "color": "blue",
          "width": 0.31473489442754443
         },
         "mode": "lines",
         "text": [
          "Jaime-Lannister--Brynden-Tully: 1.0277777777777777"
         ],
         "x": [
          0.08411778299242077,
          0.07835692800964725,
          null
         ],
         "y": [
          -0.0127285298056426,
          -0.1613095772366983,
          null
         ],
         "type": "scatter"
        },
        {
         "hoverinfo": "text",
         "line": {
          "color": "blue",
          "width": 0.3036553222084388
         },
         "mode": "lines",
         "text": [
          "Jaime-Lannister--Edmure-Tully: 1.0069444444444444"
         ],
         "x": [
          0.08411778299242077,
          0.023076472169538148,
          null
         ],
         "y": [
          -0.0127285298056426,
          -0.07761245006425639,
          null
         ],
         "type": "scatter"
        },
        {
         "hoverinfo": "text",
         "line": {
          "color": "blue",
          "width": 0.3
         },
         "mode": "lines",
         "text": [
          "Jaime-Lannister--Galbart-Glover: 1.0"
         ],
         "x": [
          0.08411778299242077,
          -0.06014772243512612,
          null
         ],
         "y": [
          -0.0127285298056426,
          0.08023590230817076,
          null
         ],
         "type": "scatter"
        },
        {
         "hoverinfo": "text",
         "line": {
          "color": "blue",
          "width": 0.3
         },
         "mode": "lines",
         "text": [
          "Jaime-Lannister--Gregor-Clegane: 1.0"
         ],
         "x": [
          0.08411778299242077,
          0.07693119390322473,
          null
         ],
         "y": [
          -0.0127285298056426,
          0.04684415948750067,
          null
         ],
         "type": "scatter"
        },
        {
         "hoverinfo": "text",
         "line": {
          "color": "blue",
          "width": 0.3
         },
         "mode": "lines",
         "text": [
          "Jaime-Lannister--Harys-Swyft: 1.0"
         ],
         "x": [
          0.08411778299242077,
          0.3401245727414853,
          null
         ],
         "y": [
          -0.0127285298056426,
          -0.11888428352771802,
          null
         ],
         "type": "scatter"
        },
        {
         "hoverinfo": "text",
         "line": {
          "color": "blue",
          "width": 0.30732960033145773
         },
         "mode": "lines",
         "text": [
          "Jaime-Lannister--Jon-Arryn: 1.0138888888888888"
         ],
         "x": [
          0.08411778299242077,
          0.017573226254451197,
          null
         ],
         "y": [
          -0.0127285298056426,
          0.04811545290389017,
          null
         ],
         "type": "scatter"
        },
        {
         "hoverinfo": "text",
         "line": {
          "color": "blue",
          "width": 0.3036553222084388
         },
         "mode": "lines",
         "text": [
          "Jaime-Lannister--Jory-Cassel: 1.0069444444444444"
         ],
         "x": [
          0.08411778299242077,
          -0.014992917689555097,
          null
         ],
         "y": [
          -0.0127285298056426,
          0.07085877790405458,
          null
         ],
         "type": "scatter"
        },
        {
         "hoverinfo": "text",
         "line": {
          "color": "blue",
          "width": 0.3036553222084388
         },
         "mode": "lines",
         "text": [
          "Jaime-Lannister--Kevan-Lannister: 1.0069444444444444"
         ],
         "x": [
          0.08411778299242077,
          0.038725095394137404,
          null
         ],
         "y": [
          -0.0127285298056426,
          -0.17198252621642945,
          null
         ],
         "type": "scatter"
        },
        {
         "hoverinfo": "text",
         "line": {
          "color": "blue",
          "width": 0.3
         },
         "mode": "lines",
         "text": [
          "Jaime-Lannister--Loras-Tyrell: 1.0"
         ],
         "x": [
          0.08411778299242077,
          0.18042954714332093,
          null
         ],
         "y": [
          -0.0127285298056426,
          0.10241972177968102,
          null
         ],
         "type": "scatter"
        },
        {
         "hoverinfo": "text",
         "line": {
          "color": "blue",
          "width": 0.31102280182627423
         },
         "mode": "lines",
         "text": [
          "Jaime-Lannister--Lysa-Arryn: 1.0208333333333333"
         ],
         "x": [
          0.08411778299242077,
          0.12653315489042977,
          null
         ],
         "y": [
          -0.0127285298056426,
          -0.09013791103676602,
          null
         ],
         "type": "scatter"
        },
        {
         "hoverinfo": "text",
         "line": {
          "color": "blue",
          "width": 0.3036553222084388
         },
         "mode": "lines",
         "text": [
          "Jaime-Lannister--Renly-Baratheon: 1.0069444444444444"
         ],
         "x": [
          0.08411778299242077,
          0.09935036609841824,
          null
         ],
         "y": [
          -0.0127285298056426,
          0.0404126925892233,
          null
         ],
         "type": "scatter"
        },
        {
         "hoverinfo": "text",
         "line": {
          "color": "blue",
          "width": 0.3
         },
         "mode": "lines",
         "text": [
          "Jaime-Lannister--Rickard-Karstark: 1.0"
         ],
         "x": [
          0.08411778299242077,
          -0.07201238999138217,
          null
         ],
         "y": [
          -0.0127285298056426,
          0.023898206162544497,
          null
         ],
         "type": "scatter"
        },
        {
         "hoverinfo": "text",
         "line": {
          "color": "blue",
          "width": 0.3
         },
         "mode": "lines",
         "text": [
          "Jaime-Lannister--Rodrik-Cassel: 1.0"
         ],
         "x": [
          0.08411778299242077,
          0.0023389107467837325,
          null
         ],
         "y": [
          -0.0127285298056426,
          -0.06416374395556995,
          null
         ],
         "type": "scatter"
        },
        {
         "hoverinfo": "text",
         "line": {
          "color": "blue",
          "width": 0.33357761363923993
         },
         "mode": "lines",
         "text": [
          "Jaime-Lannister--Sandor-Clegane: 1.0625"
         ],
         "x": [
          0.08411778299242077,
          0.12952798707083144,
          null
         ],
         "y": [
          -0.0127285298056426,
          0.019266875519648598,
          null
         ],
         "type": "scatter"
        },
        {
         "hoverinfo": "text",
         "line": {
          "color": "blue",
          "width": 0.3489886358918264
         },
         "mode": "lines",
         "text": [
          "Jaime-Lannister--Tywin-Lannister: 1.0902777777777777"
         ],
         "x": [
          0.08411778299242077,
          0.032045134513899176,
          null
         ],
         "y": [
          -0.0127285298056426,
          -0.039305273695998115,
          null
         ],
         "type": "scatter"
        },
        {
         "hoverinfo": "text",
         "line": {
          "color": "blue",
          "width": 0.3
         },
         "mode": "lines",
         "text": [
          "Jaime-Lannister--Varys: 1.0"
         ],
         "x": [
          0.08411778299242077,
          0.036618960965745066,
          null
         ],
         "y": [
          -0.0127285298056426,
          0.0952360213840959,
          null
         ],
         "type": "scatter"
        },
        {
         "hoverinfo": "text",
         "line": {
          "color": "blue",
          "width": 0.3
         },
         "mode": "lines",
         "text": [
          "Jaime-Lannister--Wyl-(guard): 1.0"
         ],
         "x": [
          0.08411778299242077,
          -0.023801432063556165,
          null
         ],
         "y": [
          -0.0127285298056426,
          0.18600123264216076,
          null
         ],
         "type": "scatter"
        },
        {
         "hoverinfo": "text",
         "line": {
          "color": "blue",
          "width": 0.32221562524998465
         },
         "mode": "lines",
         "text": [
          "Varys--Barristan-Selmy: 1.0416666666666665"
         ],
         "x": [
          0.036618960965745066,
          0.12937540553129614,
          null
         ],
         "y": [
          0.0952360213840959,
          0.06281701710849813,
          null
         ],
         "type": "scatter"
        },
        {
         "hoverinfo": "text",
         "line": {
          "color": "blue",
          "width": 0.30732960033145773
         },
         "mode": "lines",
         "text": [
          "Varys--Ilyn-Payne: 1.0138888888888888"
         ],
         "x": [
          0.036618960965745066,
          0.10493895598371764,
          null
         ],
         "y": [
          0.0952360213840959,
          0.12975215603867807,
          null
         ],
         "type": "scatter"
        },
        {
         "hoverinfo": "text",
         "line": {
          "color": "blue",
          "width": 0.30732960033145773
         },
         "mode": "lines",
         "text": [
          "Varys--Jon-Arryn: 1.0138888888888888"
         ],
         "x": [
          0.036618960965745066,
          0.017573226254451197,
          null
         ],
         "y": [
          0.0952360213840959,
          0.04811545290389017,
          null
         ],
         "type": "scatter"
        },
        {
         "hoverinfo": "text",
         "line": {
          "color": "blue",
          "width": 0.3528879230914017
         },
         "mode": "lines",
         "text": [
          "Varys--Pycelle: 1.097222222222222"
         ],
         "x": [
          0.036618960965745066,
          0.0857655486770623,
          null
         ],
         "y": [
          0.0952360213840959,
          0.08225288197648849,
          null
         ],
         "type": "scatter"
        },
        {
         "hoverinfo": "text",
         "line": {
          "color": "blue",
          "width": 0.32221562524998465
         },
         "mode": "lines",
         "text": [
          "Varys--Renly-Baratheon: 1.0416666666666665"
         ],
         "x": [
          0.036618960965745066,
          0.09935036609841824,
          null
         ],
         "y": [
          0.0952360213840959,
          0.0404126925892233,
          null
         ],
         "type": "scatter"
        },
        {
         "hoverinfo": "text",
         "line": {
          "color": "blue",
          "width": 0.30732960033145773
         },
         "mode": "lines",
         "text": [
          "Varys--Stannis-Baratheon: 1.0138888888888888"
         ],
         "x": [
          0.036618960965745066,
          0.10522382841735935,
          null
         ],
         "y": [
          0.0952360213840959,
          0.02502521588793754,
          null
         ],
         "type": "scatter"
        },
        {
         "hoverinfo": "text",
         "line": {
          "color": "blue",
          "width": 0.3036553222084388
         },
         "mode": "lines",
         "text": [
          "Varys--Tywin-Lannister: 1.0069444444444444"
         ],
         "x": [
          0.036618960965745066,
          0.032045134513899176,
          null
         ],
         "y": [
          0.0952360213840959,
          -0.039305273695998115,
          null
         ],
         "type": "scatter"
        },
        {
         "hoverinfo": "text",
         "line": {
          "color": "blue",
          "width": 0.31473489442754443
         },
         "mode": "lines",
         "text": [
          "Luwin--Benjen-Stark: 1.0277777777777777"
         ],
         "x": [
          -0.09543015503848222,
          -0.12405528656493038,
          null
         ],
         "y": [
          -0.033676325759921015,
          -0.1404897871753785,
          null
         ],
         "type": "scatter"
        },
        {
         "hoverinfo": "text",
         "line": {
          "color": "blue",
          "width": 0.3036553222084388
         },
         "mode": "lines",
         "text": [
          "Luwin--Hallis-Mollen: 1.0069444444444444"
         ],
         "x": [
          -0.09543015503848222,
          -0.08801516159779224,
          null
         ],
         "y": [
          -0.033676325759921015,
          -0.12258939900067763,
          null
         ],
         "type": "scatter"
        },
        {
         "hoverinfo": "text",
         "line": {
          "color": "blue",
          "width": 0.32598420029006264
         },
         "mode": "lines",
         "text": [
          "Luwin--Hodor: 1.0486111111111112"
         ],
         "x": [
          -0.09543015503848222,
          -0.2045012168232058,
          null
         ],
         "y": [
          -0.033676325759921015,
          0.03751775214914116,
          null
         ],
         "type": "scatter"
        },
        {
         "hoverinfo": "text",
         "line": {
          "color": "blue",
          "width": 0.3
         },
         "mode": "lines",
         "text": [
          "Luwin--Hullen: 1.0"
         ],
         "x": [
          -0.09543015503848222,
          -0.11711798678681166,
          null
         ],
         "y": [
          -0.033676325759921015,
          0.08073306188728846,
          null
         ],
         "type": "scatter"
        },
        {
         "hoverinfo": "text",
         "line": {
          "color": "blue",
          "width": 0.3
         },
         "mode": "lines",
         "text": [
          "Luwin--Joseth: 1.0"
         ],
         "x": [
          -0.09543015503848222,
          -0.24871508130847456,
          null
         ],
         "y": [
          -0.033676325759921015,
          0.09724784517348031,
          null
         ],
         "type": "scatter"
        },
        {
         "hoverinfo": "text",
         "line": {
          "color": "blue",
          "width": 0.3036553222084388
         },
         "mode": "lines",
         "text": [
          "Luwin--Nan: 1.0069444444444444"
         ],
         "x": [
          -0.09543015503848222,
          -0.21240253818389077,
          null
         ],
         "y": [
          -0.033676325759921015,
          0.00183968232902158,
          null
         ],
         "type": "scatter"
        },
        {
         "hoverinfo": "text",
         "line": {
          "color": "blue",
          "width": 0.3489886358918264
         },
         "mode": "lines",
         "text": [
          "Luwin--Osha: 1.0902777777777777"
         ],
         "x": [
          -0.09543015503848222,
          -0.21335158047053362,
          null
         ],
         "y": [
          -0.033676325759921015,
          -0.0406260749759265,
          null
         ],
         "type": "scatter"
        },
        {
         "hoverinfo": "text",
         "line": {
          "color": "blue",
          "width": 0.3
         },
         "mode": "lines",
         "text": [
          "Luwin--Rickard-Karstark: 1.0"
         ],
         "x": [
          -0.09543015503848222,
          -0.07201238999138217,
          null
         ],
         "y": [
          -0.033676325759921015,
          0.023898206162544497,
          null
         ],
         "type": "scatter"
        },
        {
         "hoverinfo": "text",
         "line": {
          "color": "blue",
          "width": 0.32221562524998465
         },
         "mode": "lines",
         "text": [
          "Luwin--Rickon-Stark: 1.0416666666666665"
         ],
         "x": [
          -0.09543015503848222,
          -0.031226770640811058,
          null
         ],
         "y": [
          -0.033676325759921015,
          -0.04175810966117788,
          null
         ],
         "type": "scatter"
        },
        {
         "hoverinfo": "text",
         "line": {
          "color": "blue",
          "width": 0.3
         },
         "mode": "lines",
         "text": [
          "Luwin--Rodrik-Cassel: 1.0"
         ],
         "x": [
          -0.09543015503848222,
          0.0023389107467837325,
          null
         ],
         "y": [
          -0.033676325759921015,
          -0.06416374395556995,
          null
         ],
         "type": "scatter"
        },
        {
         "hoverinfo": "text",
         "line": {
          "color": "blue",
          "width": 0.32598420029006264
         },
         "mode": "lines",
         "text": [
          "Luwin--Theon-Greyjoy: 1.0486111111111112"
         ],
         "x": [
          -0.09543015503848222,
          -0.018570992946724544,
          null
         ],
         "y": [
          -0.033676325759921015,
          -0.09792368559960818,
          null
         ],
         "type": "scatter"
        },
        {
         "hoverinfo": "text",
         "line": {
          "color": "blue",
          "width": 0.3
         },
         "mode": "lines",
         "text": [
          "Luwin--Tommen-Baratheon: 1.0"
         ],
         "x": [
          -0.09543015503848222,
          -0.02099681451767266,
          null
         ],
         "y": [
          -0.033676325759921015,
          -0.0021973061319556933,
          null
         ],
         "type": "scatter"
        },
        {
         "hoverinfo": "text",
         "line": {
          "color": "blue",
          "width": 0.3
         },
         "mode": "lines",
         "text": [
          "Renly-Baratheon--Balon-Swann: 1.0"
         ],
         "x": [
          0.09935036609841824,
          0.31963611576040496,
          null
         ],
         "y": [
          0.0404126925892233,
          0.013691041133270949,
          null
         ],
         "type": "scatter"
        },
        {
         "hoverinfo": "text",
         "line": {
          "color": "blue",
          "width": 0.3374023903222028
         },
         "mode": "lines",
         "text": [
          "Renly-Baratheon--Barristan-Selmy: 1.0694444444444444"
         ],
         "x": [
          0.09935036609841824,
          0.12937540553129614,
          null
         ],
         "y": [
          0.0404126925892233,
          0.06281701710849813,
          null
         ],
         "type": "scatter"
        },
        {
         "hoverinfo": "text",
         "line": {
          "color": "blue",
          "width": 0.3
         },
         "mode": "lines",
         "text": [
          "Renly-Baratheon--Cayn: 1.0"
         ],
         "x": [
          0.09935036609841824,
          0.21157640129784488,
          null
         ],
         "y": [
          0.0404126925892233,
          0.20613843137589452,
          null
         ],
         "type": "scatter"
        },
        {
         "hoverinfo": "text",
         "line": {
          "color": "blue",
          "width": 0.30732960033145773
         },
         "mode": "lines",
         "text": [
          "Renly-Baratheon--Loras-Tyrell: 1.0138888888888888"
         ],
         "x": [
          0.09935036609841824,
          0.18042954714332093,
          null
         ],
         "y": [
          0.0404126925892233,
          0.10241972177968102,
          null
         ],
         "type": "scatter"
        },
        {
         "hoverinfo": "text",
         "line": {
          "color": "blue",
          "width": 0.31473489442754443
         },
         "mode": "lines",
         "text": [
          "Renly-Baratheon--Pycelle: 1.0277777777777777"
         ],
         "x": [
          0.09935036609841824,
          0.0857655486770623,
          null
         ],
         "y": [
          0.0404126925892233,
          0.08225288197648849,
          null
         ],
         "type": "scatter"
        },
        {
         "hoverinfo": "text",
         "line": {
          "color": "blue",
          "width": 0.31473489442754443
         },
         "mode": "lines",
         "text": [
          "Renly-Baratheon--Sandor-Clegane: 1.0277777777777777"
         ],
         "x": [
          0.09935036609841824,
          0.12952798707083144,
          null
         ],
         "y": [
          0.0404126925892233,
          0.019266875519648598,
          null
         ],
         "type": "scatter"
        },
        {
         "hoverinfo": "text",
         "line": {
          "color": "blue",
          "width": 0.3607421283056655
         },
         "mode": "lines",
         "text": [
          "Renly-Baratheon--Stannis-Baratheon: 1.1111111111111112"
         ],
         "x": [
          0.09935036609841824,
          0.10522382841735935,
          null
         ],
         "y": [
          0.0404126925892233,
          0.02502521588793754,
          null
         ],
         "type": "scatter"
        },
        {
         "hoverinfo": "text",
         "line": {
          "color": "blue",
          "width": 0.31102280182627423
         },
         "mode": "lines",
         "text": [
          "Tywin-Lannister--Addam-Marbrand: 1.0208333333333333"
         ],
         "x": [
          0.032045134513899176,
          0.2221634716219403,
          null
         ],
         "y": [
          -0.039305273695998115,
          -0.11998429019297317,
          null
         ],
         "type": "scatter"
        },
        {
         "hoverinfo": "text",
         "line": {
          "color": "blue",
          "width": 0.3036553222084388
         },
         "mode": "lines",
         "text": [
          "Tywin-Lannister--Bronn: 1.0069444444444444"
         ],
         "x": [
          0.032045134513899176,
          -0.010611193952538631,
          null
         ],
         "y": [
          -0.039305273695998115,
          -0.261238230356099,
          null
         ],
         "type": "scatter"
        },
        {
         "hoverinfo": "text",
         "line": {
          "color": "blue",
          "width": 0.3
         },
         "mode": "lines",
         "text": [
          "Tywin-Lannister--Brynden-Tully: 1.0"
         ],
         "x": [
          0.032045134513899176,
          0.07835692800964725,
          null
         ],
         "y": [
          -0.039305273695998115,
          -0.1613095772366983,
          null
         ],
         "type": "scatter"
        },
        {
         "hoverinfo": "text",
         "line": {
          "color": "blue",
          "width": 0.31102280182627423
         },
         "mode": "lines",
         "text": [
          "Tywin-Lannister--Gregor-Clegane: 1.0208333333333333"
         ],
         "x": [
          0.032045134513899176,
          0.07693119390322473,
          null
         ],
         "y": [
          -0.039305273695998115,
          0.04684415948750067,
          null
         ],
         "type": "scatter"
        },
        {
         "hoverinfo": "text",
         "line": {
          "color": "blue",
          "width": 0.3
         },
         "mode": "lines",
         "text": [
          "Tywin-Lannister--Jon-Umber-(Greatjon): 1.0"
         ],
         "x": [
          0.032045134513899176,
          -0.12111407816859568,
          null
         ],
         "y": [
          -0.039305273695998115,
          -0.027536695165753702,
          null
         ],
         "type": "scatter"
        },
        {
         "hoverinfo": "text",
         "line": {
          "color": "blue",
          "width": 0.32221562524998465
         },
         "mode": "lines",
         "text": [
          "Tywin-Lannister--Kevan-Lannister: 1.0416666666666665"
         ],
         "x": [
          0.032045134513899176,
          0.038725095394137404,
          null
         ],
         "y": [
          -0.039305273695998115,
          -0.17198252621642945,
          null
         ],
         "type": "scatter"
        },
        {
         "hoverinfo": "text",
         "line": {
          "color": "blue",
          "width": 0.3
         },
         "mode": "lines",
         "text": [
          "Tywin-Lannister--Marq-Piper: 1.0"
         ],
         "x": [
          0.032045134513899176,
          -0.0813601539025903,
          null
         ],
         "y": [
          -0.039305273695998115,
          0.057818626548124384,
          null
         ],
         "type": "scatter"
        },
        {
         "hoverinfo": "text",
         "line": {
          "color": "blue",
          "width": 0.3036553222084388
         },
         "mode": "lines",
         "text": [
          "Tywin-Lannister--Pycelle: 1.0069444444444444"
         ],
         "x": [
          0.032045134513899176,
          0.0857655486770623,
          null
         ],
         "y": [
          -0.039305273695998115,
          0.08225288197648849,
          null
         ],
         "type": "scatter"
        },
        {
         "hoverinfo": "text",
         "line": {
          "color": "blue",
          "width": 0.3036553222084388
         },
         "mode": "lines",
         "text": [
          "Tywin-Lannister--Rhaegar-Targaryen: 1.0069444444444444"
         ],
         "x": [
          0.032045134513899176,
          0.014653623613678292,
          null
         ],
         "y": [
          -0.039305273695998115,
          0.26775314626515023,
          null
         ],
         "type": "scatter"
        },
        {
         "hoverinfo": "text",
         "line": {
          "color": "blue",
          "width": 0.3036553222084388
         },
         "mode": "lines",
         "text": [
          "Tywin-Lannister--Roose-Bolton: 1.0069444444444444"
         ],
         "x": [
          0.032045134513899176,
          -0.14337801887454882,
          null
         ],
         "y": [
          -0.039305273695998115,
          0.03086387704045434,
          null
         ],
         "type": "scatter"
        },
        {
         "hoverinfo": "text",
         "line": {
          "color": "blue",
          "width": 0.3036553222084388
         },
         "mode": "lines",
         "text": [
          "Tywin-Lannister--Stannis-Baratheon: 1.0069444444444444"
         ],
         "x": [
          0.032045134513899176,
          0.10522382841735935,
          null
         ],
         "y": [
          -0.039305273695998115,
          0.02502521588793754,
          null
         ],
         "type": "scatter"
        },
        {
         "hoverinfo": "text",
         "line": {
          "color": "blue",
          "width": 0.3
         },
         "mode": "lines",
         "text": [
          "Tywin-Lannister--Theon-Greyjoy: 1.0"
         ],
         "x": [
          0.032045134513899176,
          -0.018570992946724544,
          null
         ],
         "y": [
          -0.039305273695998115,
          -0.09792368559960818,
          null
         ],
         "type": "scatter"
        },
        {
         "hoverinfo": "text",
         "line": {
          "color": "blue",
          "width": 0.3184658461431345
         },
         "mode": "lines",
         "text": [
          "Tywin-Lannister--Walder-Frey: 1.034722222222222"
         ],
         "x": [
          0.032045134513899176,
          0.10924972152460961,
          null
         ],
         "y": [
          -0.039305273695998115,
          -0.283093941314091,
          null
         ],
         "type": "scatter"
        },
        {
         "hoverinfo": "text",
         "line": {
          "color": "blue",
          "width": 0.3374023903222028
         },
         "mode": "lines",
         "text": [
          "Jeor-Mormont--Aemon-Targaryen: 1.0694444444444444"
         ],
         "x": [
          -0.21544125756345248,
          -0.3428145406562496,
          null
         ],
         "y": [
          -0.17131508038589652,
          -0.3189554820482568,
          null
         ],
         "type": "scatter"
        },
        {
         "hoverinfo": "text",
         "line": {
          "color": "blue",
          "width": 0.32598420029006264
         },
         "mode": "lines",
         "text": [
          "Jeor-Mormont--Alliser-Thorne: 1.0486111111111112"
         ],
         "x": [
          -0.21544125756345248,
          -0.230372819930384,
          null
         ],
         "y": [
          -0.17131508038589652,
          -0.27393144522537693,
          null
         ],
         "type": "scatter"
        },
        {
         "hoverinfo": "text",
         "line": {
          "color": "blue",
          "width": 0.32221562524998465
         },
         "mode": "lines",
         "text": [
          "Jeor-Mormont--Benjen-Stark: 1.0416666666666665"
         ],
         "x": [
          -0.21544125756345248,
          -0.12405528656493038,
          null
         ],
         "y": [
          -0.17131508038589652,
          -0.1404897871753785,
          null
         ],
         "type": "scatter"
        },
        {
         "hoverinfo": "text",
         "line": {
          "color": "blue",
          "width": 0.3184658461431345
         },
         "mode": "lines",
         "text": [
          "Jeor-Mormont--Bowen-Marsh: 1.034722222222222"
         ],
         "x": [
          -0.21544125756345248,
          -0.3152731669301327,
          null
         ],
         "y": [
          -0.17131508038589652,
          -0.26076046174051876,
          null
         ],
         "type": "scatter"
        },
        {
         "hoverinfo": "text",
         "line": {
          "color": "blue",
          "width": 0.3036553222084388
         },
         "mode": "lines",
         "text": [
          "Jeor-Mormont--Gared: 1.0069444444444444"
         ],
         "x": [
          -0.21544125756345248,
          -0.506655319321173,
          null
         ],
         "y": [
          -0.17131508038589652,
          -0.26548366816239566,
          null
         ],
         "type": "scatter"
        },
        {
         "hoverinfo": "text",
         "line": {
          "color": "blue",
          "width": 0.3
         },
         "mode": "lines",
         "text": [
          "Jeor-Mormont--Grenn: 1.0"
         ],
         "x": [
          -0.21544125756345248,
          -0.27894341162087527,
          null
         ],
         "y": [
          -0.17131508038589652,
          -0.30013732874856497,
          null
         ],
         "type": "scatter"
        },
        {
         "hoverinfo": "text",
         "line": {
          "color": "blue",
          "width": 0.3297715400664042
         },
         "mode": "lines",
         "text": [
          "Jeor-Mormont--Jaremy-Rykker: 1.0555555555555556"
         ],
         "x": [
          -0.21544125756345248,
          -0.20527231708199528,
          null
         ],
         "y": [
          -0.17131508038589652,
          -0.3549798117784053,
          null
         ],
         "type": "scatter"
        },
        {
         "hoverinfo": "text",
         "line": {
          "color": "blue",
          "width": 0.3184658461431345
         },
         "mode": "lines",
         "text": [
          "Jeor-Mormont--Samwell-Tarly: 1.034722222222222"
         ],
         "x": [
          -0.21544125756345248,
          -0.26837498129823595,
          null
         ],
         "y": [
          -0.17131508038589652,
          -0.26571040585496464,
          null
         ],
         "type": "scatter"
        },
        {
         "hoverinfo": "text",
         "line": {
          "color": "blue",
          "width": 0.3
         },
         "mode": "lines",
         "text": [
          "Jeor-Mormont--Yoren: 1.0"
         ],
         "x": [
          -0.21544125756345248,
          -0.13829944821982637,
          null
         ],
         "y": [
          -0.17131508038589652,
          -0.09318015549971584,
          null
         ],
         "type": "scatter"
        },
        {
         "hoverinfo": "text",
         "line": {
          "color": "blue",
          "width": 0.3
         },
         "mode": "lines",
         "text": [
          "Jon-Arryn--Aerys-II-Targaryen: 1.0"
         ],
         "x": [
          0.017573226254451197,
          0.17880449780327884,
          null
         ],
         "y": [
          0.04811545290389017,
          0.14537326601673276,
          null
         ],
         "type": "scatter"
        },
        {
         "hoverinfo": "text",
         "line": {
          "color": "blue",
          "width": 0.3036553222084388
         },
         "mode": "lines",
         "text": [
          "Jon-Arryn--Barristan-Selmy: 1.0069444444444444"
         ],
         "x": [
          0.017573226254451197,
          0.12937540553129614,
          null
         ],
         "y": [
          0.04811545290389017,
          0.06281701710849813,
          null
         ],
         "type": "scatter"
        },
        {
         "hoverinfo": "text",
         "line": {
          "color": "blue",
          "width": 0.3
         },
         "mode": "lines",
         "text": [
          "Jon-Arryn--Hugh: 1.0"
         ],
         "x": [
          0.017573226254451197,
          -0.2001611467886124,
          null
         ],
         "y": [
          0.04811545290389017,
          0.22658719476541003,
          null
         ],
         "type": "scatter"
        },
        {
         "hoverinfo": "text",
         "line": {
          "color": "blue",
          "width": 0.33357761363923993
         },
         "mode": "lines",
         "text": [
          "Jon-Arryn--Lysa-Arryn: 1.0625"
         ],
         "x": [
          0.017573226254451197,
          0.12653315489042977,
          null
         ],
         "y": [
          0.04811545290389017,
          -0.09013791103676602,
          null
         ],
         "type": "scatter"
        },
        {
         "hoverinfo": "text",
         "line": {
          "color": "blue",
          "width": 0.3297715400664042
         },
         "mode": "lines",
         "text": [
          "Jon-Arryn--Pycelle: 1.0555555555555556"
         ],
         "x": [
          0.017573226254451197,
          0.0857655486770623,
          null
         ],
         "y": [
          0.04811545290389017,
          0.08225288197648849,
          null
         ],
         "type": "scatter"
        },
        {
         "hoverinfo": "text",
         "line": {
          "color": "blue",
          "width": 0.3374023903222028
         },
         "mode": "lines",
         "text": [
          "Jon-Arryn--Stannis-Baratheon: 1.0694444444444444"
         ],
         "x": [
          0.017573226254451197,
          0.10522382841735935,
          null
         ],
         "y": [
          0.04811545290389017,
          0.02502521588793754,
          null
         ],
         "type": "scatter"
        },
        {
         "hoverinfo": "text",
         "line": {
          "color": "blue",
          "width": 0.30732960033145773
         },
         "mode": "lines",
         "text": [
          "Jorah-Mormont--Aggo: 1.0138888888888888"
         ],
         "x": [
          -0.019064354672386447,
          0.017658330818026202,
          null
         ],
         "y": [
          0.48259338219442455,
          0.6461942705341531,
          null
         ],
         "type": "scatter"
        },
        {
         "hoverinfo": "text",
         "line": {
          "color": "blue",
          "width": 0.3
         },
         "mode": "lines",
         "text": [
          "Jorah-Mormont--Doreah: 1.0"
         ],
         "x": [
          -0.019064354672386447,
          -0.04154279145219459,
          null
         ],
         "y": [
          0.48259338219442455,
          0.5798431442327341,
          null
         ],
         "type": "scatter"
        },
        {
         "hoverinfo": "text",
         "line": {
          "color": "blue",
          "width": 0.31473489442754443
         },
         "mode": "lines",
         "text": [
          "Jorah-Mormont--Illyrio-Mopatis: 1.0277777777777777"
         ],
         "x": [
          -0.019064354672386447,
          0.001079720675957324,
          null
         ],
         "y": [
          0.48259338219442455,
          0.4279871367525846,
          null
         ],
         "type": "scatter"
        },
        {
         "hoverinfo": "text",
         "line": {
          "color": "blue",
          "width": 0.3036553222084388
         },
         "mode": "lines",
         "text": [
          "Jorah-Mormont--Irri: 1.0069444444444444"
         ],
         "x": [
          -0.019064354672386447,
          -0.014371425948954717,
          null
         ],
         "y": [
          0.48259338219442455,
          0.559054333378203,
          null
         ],
         "type": "scatter"
        },
        {
         "hoverinfo": "text",
         "line": {
          "color": "blue",
          "width": 0.3036553222084388
         },
         "mode": "lines",
         "text": [
          "Jorah-Mormont--Jhiqui: 1.0069444444444444"
         ],
         "x": [
          -0.019064354672386447,
          -0.09337088732850068,
          null
         ],
         "y": [
          0.48259338219442455,
          0.603861909047303,
          null
         ],
         "type": "scatter"
        },
        {
         "hoverinfo": "text",
         "line": {
          "color": "blue",
          "width": 0.30732960033145773
         },
         "mode": "lines",
         "text": [
          "Jorah-Mormont--Jhogo: 1.0138888888888888"
         ],
         "x": [
          -0.019064354672386447,
          0.01830446134818916,
          null
         ],
         "y": [
          0.48259338219442455,
          0.6141754614620935,
          null
         ],
         "type": "scatter"
        },
        {
         "hoverinfo": "text",
         "line": {
          "color": "blue",
          "width": 0.30732960033145773
         },
         "mode": "lines",
         "text": [
          "Jorah-Mormont--Mirri-Maz-Duur: 1.0138888888888888"
         ],
         "x": [
          -0.019064354672386447,
          -0.024755329664524837,
          null
         ],
         "y": [
          0.48259338219442455,
          0.632344800738363,
          null
         ],
         "type": "scatter"
        },
        {
         "hoverinfo": "text",
         "line": {
          "color": "blue",
          "width": 0.31473489442754443
         },
         "mode": "lines",
         "text": [
          "Jorah-Mormont--Qotho: 1.0277777777777777"
         ],
         "x": [
          -0.019064354672386447,
          -0.0644145317183468,
          null
         ],
         "y": [
          0.48259338219442455,
          0.6399533884998166,
          null
         ],
         "type": "scatter"
        },
        {
         "hoverinfo": "text",
         "line": {
          "color": "blue",
          "width": 0.30732960033145773
         },
         "mode": "lines",
         "text": [
          "Jorah-Mormont--Rhaegar-Targaryen: 1.0138888888888888"
         ],
         "x": [
          -0.019064354672386447,
          0.014653623613678292,
          null
         ],
         "y": [
          0.48259338219442455,
          0.26775314626515023,
          null
         ],
         "type": "scatter"
        },
        {
         "hoverinfo": "text",
         "line": {
          "color": "blue",
          "width": 0.34510793151786423
         },
         "mode": "lines",
         "text": [
          "Jorah-Mormont--Viserys-Targaryen: 1.0833333333333333"
         ],
         "x": [
          -0.019064354672386447,
          -0.027909544187174198,
          null
         ],
         "y": [
          0.48259338219442455,
          0.42414680182602954,
          null
         ],
         "type": "scatter"
        },
        {
         "hoverinfo": "text",
         "line": {
          "color": "blue",
          "width": 0.3184658461431345
         },
         "mode": "lines",
         "text": [
          "Jory-Cassel--Alyn: 1.034722222222222"
         ],
         "x": [
          -0.014992917689555097,
          0.024776477722474877,
          null
         ],
         "y": [
          0.07085877790405458,
          0.23769593769761657,
          null
         ],
         "type": "scatter"
        },
        {
         "hoverinfo": "text",
         "line": {
          "color": "blue",
          "width": 0.3036553222084388
         },
         "mode": "lines",
         "text": [
          "Jory-Cassel--Harwin: 1.0069444444444444"
         ],
         "x": [
          -0.014992917689555097,
          -0.05720282117988841,
          null
         ],
         "y": [
          0.07085877790405458,
          0.21711286247210781,
          null
         ],
         "type": "scatter"
        },
        {
         "hoverinfo": "text",
         "line": {
          "color": "blue",
          "width": 0.30732960033145773
         },
         "mode": "lines",
         "text": [
          "Jory-Cassel--Heward: 1.0138888888888888"
         ],
         "x": [
          -0.014992917689555097,
          -0.10784701806901942,
          null
         ],
         "y": [
          0.07085877790405458,
          0.28413969505424014,
          null
         ],
         "type": "scatter"
        },
        {
         "hoverinfo": "text",
         "line": {
          "color": "blue",
          "width": 0.30732960033145773
         },
         "mode": "lines",
         "text": [
          "Jory-Cassel--Hullen: 1.0138888888888888"
         ],
         "x": [
          -0.014992917689555097,
          -0.11711798678681166,
          null
         ],
         "y": [
          0.07085877790405458,
          0.08073306188728846,
          null
         ],
         "type": "scatter"
        },
        {
         "hoverinfo": "text",
         "line": {
          "color": "blue",
          "width": 0.3
         },
         "mode": "lines",
         "text": [
          "Jory-Cassel--Mordane: 1.0"
         ],
         "x": [
          -0.014992917689555097,
          0.02543575930860007,
          null
         ],
         "y": [
          0.07085877790405458,
          -0.009281754547322905,
          null
         ],
         "type": "scatter"
        },
        {
         "hoverinfo": "text",
         "line": {
          "color": "blue",
          "width": 0.30732960033145773
         },
         "mode": "lines",
         "text": [
          "Jory-Cassel--Rodrik-Cassel: 1.0138888888888888"
         ],
         "x": [
          -0.014992917689555097,
          0.0023389107467837325,
          null
         ],
         "y": [
          0.07085877790405458,
          -0.06416374395556995,
          null
         ],
         "type": "scatter"
        },
        {
         "hoverinfo": "text",
         "line": {
          "color": "blue",
          "width": 0.3
         },
         "mode": "lines",
         "text": [
          "Jory-Cassel--Stannis-Baratheon: 1.0"
         ],
         "x": [
          -0.014992917689555097,
          0.10522382841735935,
          null
         ],
         "y": [
          0.07085877790405458,
          0.02502521588793754,
          null
         ],
         "type": "scatter"
        },
        {
         "hoverinfo": "text",
         "line": {
          "color": "blue",
          "width": 0.3
         },
         "mode": "lines",
         "text": [
          "Jory-Cassel--Theon-Greyjoy: 1.0"
         ],
         "x": [
          -0.014992917689555097,
          -0.018570992946724544,
          null
         ],
         "y": [
          0.07085877790405458,
          -0.09792368559960818,
          null
         ],
         "type": "scatter"
        },
        {
         "hoverinfo": "text",
         "line": {
          "color": "blue",
          "width": 0.30732960033145773
         },
         "mode": "lines",
         "text": [
          "Jory-Cassel--Tomard: 1.0138888888888888"
         ],
         "x": [
          -0.014992917689555097,
          0.08399729181974153,
          null
         ],
         "y": [
          0.07085877790405458,
          0.17503157989834955,
          null
         ],
         "type": "scatter"
        },
        {
         "hoverinfo": "text",
         "line": {
          "color": "blue",
          "width": 0.30732960033145773
         },
         "mode": "lines",
         "text": [
          "Jory-Cassel--Vayon-Poole: 1.0138888888888888"
         ],
         "x": [
          -0.014992917689555097,
          0.13920241258330932,
          null
         ],
         "y": [
          0.07085877790405458,
          0.10402928691784472,
          null
         ],
         "type": "scatter"
        },
        {
         "hoverinfo": "text",
         "line": {
          "color": "blue",
          "width": 0.31102280182627423
         },
         "mode": "lines",
         "text": [
          "Jory-Cassel--Wyl-(guard): 1.0208333333333333"
         ],
         "x": [
          -0.014992917689555097,
          -0.023801432063556165,
          null
         ],
         "y": [
          0.07085877790405458,
          0.18600123264216076,
          null
         ],
         "type": "scatter"
        },
        {
         "hoverinfo": "text",
         "line": {
          "color": "blue",
          "width": 0.3184658461431345
         },
         "mode": "lines",
         "text": [
          "Pycelle--Barristan-Selmy: 1.034722222222222"
         ],
         "x": [
          0.0857655486770623,
          0.12937540553129614,
          null
         ],
         "y": [
          0.08225288197648849,
          0.06281701710849813,
          null
         ],
         "type": "scatter"
        },
        {
         "hoverinfo": "text",
         "line": {
          "color": "blue",
          "width": 0.3
         },
         "mode": "lines",
         "text": [
          "Pycelle--Gregor-Clegane: 1.0"
         ],
         "x": [
          0.0857655486770623,
          0.07693119390322473,
          null
         ],
         "y": [
          0.08225288197648849,
          0.04684415948750067,
          null
         ],
         "type": "scatter"
        },
        {
         "hoverinfo": "text",
         "line": {
          "color": "blue",
          "width": 0.3
         },
         "mode": "lines",
         "text": [
          "Pycelle--Janos-Slynt: 1.0"
         ],
         "x": [
          0.0857655486770623,
          0.13419213924015455,
          null
         ],
         "y": [
          0.08225288197648849,
          0.12636956328109705,
          null
         ],
         "type": "scatter"
        },
        {
         "hoverinfo": "text",
         "line": {
          "color": "blue",
          "width": 0.3
         },
         "mode": "lines",
         "text": [
          "Pycelle--Stannis-Baratheon: 1.0"
         ],
         "x": [
          0.0857655486770623,
          0.10522382841735935,
          null
         ],
         "y": [
          0.08225288197648849,
          0.02502521588793754,
          null
         ],
         "type": "scatter"
        },
        {
         "hoverinfo": "text",
         "line": {
          "color": "blue",
          "width": 0.30732960033145773
         },
         "mode": "lines",
         "text": [
          "Samwell-Tarly--Aemon-Targaryen: 1.0138888888888888"
         ],
         "x": [
          -0.26837498129823595,
          -0.3428145406562496,
          null
         ],
         "y": [
          -0.26571040585496464,
          -0.3189554820482568,
          null
         ],
         "type": "scatter"
        },
        {
         "hoverinfo": "text",
         "line": {
          "color": "blue",
          "width": 0.3184658461431345
         },
         "mode": "lines",
         "text": [
          "Samwell-Tarly--Alliser-Thorne: 1.034722222222222"
         ],
         "x": [
          -0.26837498129823595,
          -0.230372819930384,
          null
         ],
         "y": [
          -0.26571040585496464,
          -0.27393144522537693,
          null
         ],
         "type": "scatter"
        },
        {
         "hoverinfo": "text",
         "line": {
          "color": "blue",
          "width": 0.3
         },
         "mode": "lines",
         "text": [
          "Samwell-Tarly--Bowen-Marsh: 1.0"
         ],
         "x": [
          -0.26837498129823595,
          -0.3152731669301327,
          null
         ],
         "y": [
          -0.26571040585496464,
          -0.26076046174051876,
          null
         ],
         "type": "scatter"
        },
        {
         "hoverinfo": "text",
         "line": {
          "color": "blue",
          "width": 0.31102280182627423
         },
         "mode": "lines",
         "text": [
          "Samwell-Tarly--Chett: 1.0208333333333333"
         ],
         "x": [
          -0.26837498129823595,
          -0.36933534667252454,
          null
         ],
         "y": [
          -0.26571040585496464,
          -0.28813122400786007,
          null
         ],
         "type": "scatter"
        },
        {
         "hoverinfo": "text",
         "line": {
          "color": "blue",
          "width": 0.3184658461431345
         },
         "mode": "lines",
         "text": [
          "Samwell-Tarly--Grenn: 1.034722222222222"
         ],
         "x": [
          -0.26837498129823595,
          -0.27894341162087527,
          null
         ],
         "y": [
          -0.26571040585496464,
          -0.30013732874856497,
          null
         ],
         "type": "scatter"
        },
        {
         "hoverinfo": "text",
         "line": {
          "color": "blue",
          "width": 0.31102280182627423
         },
         "mode": "lines",
         "text": [
          "Samwell-Tarly--Halder: 1.0208333333333333"
         ],
         "x": [
          -0.26837498129823595,
          -0.28276418942434495,
          null
         ],
         "y": [
          -0.26571040585496464,
          -0.34724935219928904,
          null
         ],
         "type": "scatter"
        },
        {
         "hoverinfo": "text",
         "line": {
          "color": "blue",
          "width": 0.3297715400664042
         },
         "mode": "lines",
         "text": [
          "Samwell-Tarly--Pypar: 1.0555555555555556"
         ],
         "x": [
          -0.26837498129823595,
          -0.25424319562072223,
          null
         ],
         "y": [
          -0.26571040585496464,
          -0.33328172231759384,
          null
         ],
         "type": "scatter"
        },
        {
         "hoverinfo": "text",
         "line": {
          "color": "blue",
          "width": 0.30732960033145773
         },
         "mode": "lines",
         "text": [
          "Samwell-Tarly--Randyll-Tarly: 1.0138888888888888"
         ],
         "x": [
          -0.26837498129823595,
          -0.47670374198125887,
          null
         ],
         "y": [
          -0.26571040585496464,
          -0.4306599846466103,
          null
         ],
         "type": "scatter"
        },
        {
         "hoverinfo": "text",
         "line": {
          "color": "blue",
          "width": 0.3
         },
         "mode": "lines",
         "text": [
          "Samwell-Tarly--Rast: 1.0"
         ],
         "x": [
          -0.26837498129823595,
          -0.2496285260136785,
          null
         ],
         "y": [
          -0.26571040585496464,
          -0.36938882317979926,
          null
         ],
         "type": "scatter"
        },
        {
         "hoverinfo": "text",
         "line": {
          "color": "blue",
          "width": 0.3
         },
         "mode": "lines",
         "text": [
          "Barristan-Selmy--Boros-Blount: 1.0"
         ],
         "x": [
          0.12937540553129614,
          0.19767877967959777,
          null
         ],
         "y": [
          0.06281701710849813,
          -0.007191383086253683,
          null
         ],
         "type": "scatter"
        },
        {
         "hoverinfo": "text",
         "line": {
          "color": "blue",
          "width": 0.3
         },
         "mode": "lines",
         "text": [
          "Barristan-Selmy--Meryn-Trant: 1.0"
         ],
         "x": [
          0.12937540553129614,
          0.17832790627769748,
          null
         ],
         "y": [
          0.06281701710849813,
          0.05658916185941756,
          null
         ],
         "type": "scatter"
        },
        {
         "hoverinfo": "text",
         "line": {
          "color": "blue",
          "width": 0.3
         },
         "mode": "lines",
         "text": [
          "Barristan-Selmy--Sandor-Clegane: 1.0"
         ],
         "x": [
          0.12937540553129614,
          0.12952798707083144,
          null
         ],
         "y": [
          0.06281701710849813,
          0.019266875519648598,
          null
         ],
         "type": "scatter"
        },
        {
         "hoverinfo": "text",
         "line": {
          "color": "blue",
          "width": 0.31473489442754443
         },
         "mode": "lines",
         "text": [
          "Mordane--Jeyne-Poole: 1.0277777777777777"
         ],
         "x": [
          0.02543575930860007,
          0.15671453143493377,
          null
         ],
         "y": [
          -0.009281754547322905,
          0.05471148992048057,
          null
         ],
         "type": "scatter"
        },
        {
         "hoverinfo": "text",
         "line": {
          "color": "blue",
          "width": 0.33357761363923993
         },
         "mode": "lines",
         "text": [
          "Mordane--Myrcella-Baratheon: 1.0625"
         ],
         "x": [
          0.02543575930860007,
          0.11358554520503127,
          null
         ],
         "y": [
          -0.009281754547322905,
          -0.02132348751762153,
          null
         ],
         "type": "scatter"
        },
        {
         "hoverinfo": "text",
         "line": {
          "color": "blue",
          "width": 0.32598420029006264
         },
         "mode": "lines",
         "text": [
          "Lysa-Arryn--Brynden-Tully: 1.0486111111111112"
         ],
         "x": [
          0.12653315489042977,
          0.07835692800964725,
          null
         ],
         "y": [
          -0.09013791103676602,
          -0.1613095772366983,
          null
         ],
         "type": "scatter"
        },
        {
         "hoverinfo": "text",
         "line": {
          "color": "blue",
          "width": 0.30732960033145773
         },
         "mode": "lines",
         "text": [
          "Lysa-Arryn--Edmure-Tully: 1.0138888888888888"
         ],
         "x": [
          0.12653315489042977,
          0.023076472169538148,
          null
         ],
         "y": [
          -0.09013791103676602,
          -0.07761245006425639,
          null
         ],
         "type": "scatter"
        },
        {
         "hoverinfo": "text",
         "line": {
          "color": "blue",
          "width": 0.3
         },
         "mode": "lines",
         "text": [
          "Lysa-Arryn--Eon-Hunter: 1.0"
         ],
         "x": [
          0.12653315489042977,
          0.21897464053883478,
          null
         ],
         "y": [
          -0.09013791103676602,
          -0.22966591651311055,
          null
         ],
         "type": "scatter"
        },
        {
         "hoverinfo": "text",
         "line": {
          "color": "blue",
          "width": 0.3
         },
         "mode": "lines",
         "text": [
          "Lysa-Arryn--Hoster-Tully: 1.0"
         ],
         "x": [
          0.12653315489042977,
          0.15596838332473842,
          null
         ],
         "y": [
          -0.09013791103676602,
          -0.0920572605417538,
          null
         ],
         "type": "scatter"
        },
        {
         "hoverinfo": "text",
         "line": {
          "color": "blue",
          "width": 0.3
         },
         "mode": "lines",
         "text": [
          "Lysa-Arryn--Lyn-Corbray: 1.0"
         ],
         "x": [
          0.12653315489042977,
          0.3773848866650795,
          null
         ],
         "y": [
          -0.09013791103676602,
          -0.2092881444568755,
          null
         ],
         "type": "scatter"
        },
        {
         "hoverinfo": "text",
         "line": {
          "color": "blue",
          "width": 0.3184658461431345
         },
         "mode": "lines",
         "text": [
          "Lysa-Arryn--Robert-Arryn: 1.034722222222222"
         ],
         "x": [
          0.12653315489042977,
          0.09616131519156314,
          null
         ],
         "y": [
          -0.09013791103676602,
          -0.22373173822578152,
          null
         ],
         "type": "scatter"
        },
        {
         "hoverinfo": "text",
         "line": {
          "color": "blue",
          "width": 0.3036553222084388
         },
         "mode": "lines",
         "text": [
          "Lysa-Arryn--Stannis-Baratheon: 1.0069444444444444"
         ],
         "x": [
          0.12653315489042977,
          0.10522382841735935,
          null
         ],
         "y": [
          -0.09013791103676602,
          0.02502521588793754,
          null
         ],
         "type": "scatter"
        },
        {
         "hoverinfo": "text",
         "line": {
          "color": "blue",
          "width": 0.30732960033145773
         },
         "mode": "lines",
         "text": [
          "Lysa-Arryn--Vardis-Egen: 1.0138888888888888"
         ],
         "x": [
          0.12653315489042977,
          0.11085422952634162,
          null
         ],
         "y": [
          -0.09013791103676602,
          -0.25076953405138547,
          null
         ],
         "type": "scatter"
        },
        {
         "hoverinfo": "text",
         "line": {
          "color": "blue",
          "width": 0.3
         },
         "mode": "lines",
         "text": [
          "Sandor-Clegane--Balon-Swann: 1.0"
         ],
         "x": [
          0.12952798707083144,
          0.31963611576040496,
          null
         ],
         "y": [
          0.019266875519648598,
          0.013691041133270949,
          null
         ],
         "type": "scatter"
        },
        {
         "hoverinfo": "text",
         "line": {
          "color": "blue",
          "width": 0.3297715400664042
         },
         "mode": "lines",
         "text": [
          "Sandor-Clegane--Gregor-Clegane: 1.0555555555555556"
         ],
         "x": [
          0.12952798707083144,
          0.07693119390322473,
          null
         ],
         "y": [
          0.019266875519648598,
          0.04684415948750067,
          null
         ],
         "type": "scatter"
        },
        {
         "hoverinfo": "text",
         "line": {
          "color": "blue",
          "width": 0.3036553222084388
         },
         "mode": "lines",
         "text": [
          "Sandor-Clegane--Loras-Tyrell: 1.0069444444444444"
         ],
         "x": [
          0.12952798707083144,
          0.18042954714332093,
          null
         ],
         "y": [
          0.019266875519648598,
          0.10241972177968102,
          null
         ],
         "type": "scatter"
        },
        {
         "hoverinfo": "text",
         "line": {
          "color": "blue",
          "width": 0.3036553222084388
         },
         "mode": "lines",
         "text": [
          "Sandor-Clegane--Meryn-Trant: 1.0069444444444444"
         ],
         "x": [
          0.12952798707083144,
          0.17832790627769748,
          null
         ],
         "y": [
          0.019266875519648598,
          0.05658916185941756,
          null
         ],
         "type": "scatter"
        },
        {
         "hoverinfo": "text",
         "line": {
          "color": "blue",
          "width": 0.30732960033145773
         },
         "mode": "lines",
         "text": [
          "Sandor-Clegane--Mycah: 1.0138888888888888"
         ],
         "x": [
          0.12952798707083144,
          0.07212180934310158,
          null
         ],
         "y": [
          0.019266875519648598,
          0.14112253354003632,
          null
         ],
         "type": "scatter"
        },
        {
         "hoverinfo": "text",
         "line": {
          "color": "blue",
          "width": 0.3036553222084388
         },
         "mode": "lines",
         "text": [
          "Theon-Greyjoy--Benjen-Stark: 1.0069444444444444"
         ],
         "x": [
          -0.018570992946724544,
          -0.12405528656493038,
          null
         ],
         "y": [
          -0.09792368559960818,
          -0.1404897871753785,
          null
         ],
         "type": "scatter"
        },
        {
         "hoverinfo": "text",
         "line": {
          "color": "blue",
          "width": 0.31102280182627423
         },
         "mode": "lines",
         "text": [
          "Theon-Greyjoy--Brynden-Tully: 1.0208333333333333"
         ],
         "x": [
          -0.018570992946724544,
          0.07835692800964725,
          null
         ],
         "y": [
          -0.09792368559960818,
          -0.1613095772366983,
          null
         ],
         "type": "scatter"
        },
        {
         "hoverinfo": "text",
         "line": {
          "color": "blue",
          "width": 0.31473489442754443
         },
         "mode": "lines",
         "text": [
          "Theon-Greyjoy--Hallis-Mollen: 1.0277777777777777"
         ],
         "x": [
          -0.018570992946724544,
          -0.08801516159779224,
          null
         ],
         "y": [
          -0.09792368559960818,
          -0.12258939900067763,
          null
         ],
         "type": "scatter"
        },
        {
         "hoverinfo": "text",
         "line": {
          "color": "blue",
          "width": 0.30732960033145773
         },
         "mode": "lines",
         "text": [
          "Theon-Greyjoy--Jon-Umber-(Greatjon): 1.0138888888888888"
         ],
         "x": [
          -0.018570992946724544,
          -0.12111407816859568,
          null
         ],
         "y": [
          -0.09792368559960818,
          -0.027536695165753702,
          null
         ],
         "type": "scatter"
        },
        {
         "hoverinfo": "text",
         "line": {
          "color": "blue",
          "width": 0.31102280182627423
         },
         "mode": "lines",
         "text": [
          "Theon-Greyjoy--Rodrik-Cassel: 1.0208333333333333"
         ],
         "x": [
          -0.018570992946724544,
          0.0023389107467837325,
          null
         ],
         "y": [
          -0.09792368559960818,
          -0.06416374395556995,
          null
         ],
         "type": "scatter"
        },
        {
         "hoverinfo": "text",
         "line": {
          "color": "blue",
          "width": 0.3036553222084388
         },
         "mode": "lines",
         "text": [
          "Theon-Greyjoy--Walder-Frey: 1.0069444444444444"
         ],
         "x": [
          -0.018570992946724544,
          0.10924972152460961,
          null
         ],
         "y": [
          -0.09792368559960818,
          -0.283093941314091,
          null
         ],
         "type": "scatter"
        },
        {
         "hoverinfo": "text",
         "line": {
          "color": "blue",
          "width": 0.3036553222084388
         },
         "mode": "lines",
         "text": [
          "Rodrik-Cassel--Bronn: 1.0069444444444444"
         ],
         "x": [
          0.0023389107467837325,
          -0.010611193952538631,
          null
         ],
         "y": [
          -0.06416374395556995,
          -0.261238230356099,
          null
         ],
         "type": "scatter"
        },
        {
         "hoverinfo": "text",
         "line": {
          "color": "blue",
          "width": 0.3
         },
         "mode": "lines",
         "text": [
          "Rodrik-Cassel--Hullen: 1.0"
         ],
         "x": [
          0.0023389107467837325,
          -0.11711798678681166,
          null
         ],
         "y": [
          -0.06416374395556995,
          0.08073306188728846,
          null
         ],
         "type": "scatter"
        },
        {
         "hoverinfo": "text",
         "line": {
          "color": "blue",
          "width": 0.3
         },
         "mode": "lines",
         "text": [
          "Rodrik-Cassel--Loras-Tyrell: 1.0"
         ],
         "x": [
          0.0023389107467837325,
          0.18042954714332093,
          null
         ],
         "y": [
          -0.06416374395556995,
          0.10241972177968102,
          null
         ],
         "type": "scatter"
        },
        {
         "hoverinfo": "text",
         "line": {
          "color": "blue",
          "width": 0.30732960033145773
         },
         "mode": "lines",
         "text": [
          "Rodrik-Cassel--Marillion: 1.0138888888888888"
         ],
         "x": [
          0.0023389107467837325,
          0.009807945683700232,
          null
         ],
         "y": [
          -0.06416374395556995,
          -0.22617742973005572,
          null
         ],
         "type": "scatter"
        },
        {
         "hoverinfo": "text",
         "line": {
          "color": "blue",
          "width": 0.31473489442754443
         },
         "mode": "lines",
         "text": [
          "Rodrik-Cassel--Willis-Wode: 1.0277777777777777"
         ],
         "x": [
          0.0023389107467837325,
          -0.03202913141501781,
          null
         ],
         "y": [
          -0.06416374395556995,
          -0.24056066045048197,
          null
         ],
         "type": "scatter"
        },
        {
         "hoverinfo": "text",
         "line": {
          "color": "blue",
          "width": 0.3184658461431345
         },
         "mode": "lines",
         "text": [
          "Bronn--Chiggen: 1.034722222222222"
         ],
         "x": [
          -0.010611193952538631,
          -0.04029994691827284,
          null
         ],
         "y": [
          -0.261238230356099,
          -0.3425045562821123,
          null
         ],
         "type": "scatter"
        },
        {
         "hoverinfo": "text",
         "line": {
          "color": "blue",
          "width": 0.3036553222084388
         },
         "mode": "lines",
         "text": [
          "Bronn--Marillion: 1.0069444444444444"
         ],
         "x": [
          -0.010611193952538631,
          0.009807945683700232,
          null
         ],
         "y": [
          -0.261238230356099,
          -0.22617742973005572,
          null
         ],
         "type": "scatter"
        },
        {
         "hoverinfo": "text",
         "line": {
          "color": "blue",
          "width": 0.3
         },
         "mode": "lines",
         "text": [
          "Bronn--Shae: 1.0"
         ],
         "x": [
          -0.010611193952538631,
          -0.09735053033051182,
          null
         ],
         "y": [
          -0.261238230356099,
          -0.3312462527729454,
          null
         ],
         "type": "scatter"
        },
        {
         "hoverinfo": "text",
         "line": {
          "color": "blue",
          "width": 0.3
         },
         "mode": "lines",
         "text": [
          "Bronn--Shagga: 1.0"
         ],
         "x": [
          -0.010611193952538631,
          -0.06265965517457163,
          null
         ],
         "y": [
          -0.261238230356099,
          -0.48662507972631747,
          null
         ],
         "type": "scatter"
        },
        {
         "hoverinfo": "text",
         "line": {
          "color": "blue",
          "width": 0.3297715400664042
         },
         "mode": "lines",
         "text": [
          "Bronn--Vardis-Egen: 1.0555555555555556"
         ],
         "x": [
          -0.010611193952538631,
          0.11085422952634162,
          null
         ],
         "y": [
          -0.261238230356099,
          -0.25076953405138547,
          null
         ],
         "type": "scatter"
        },
        {
         "hoverinfo": "text",
         "line": {
          "color": "blue",
          "width": 0.30732960033145773
         },
         "mode": "lines",
         "text": [
          "Bronn--Willis-Wode: 1.0138888888888888"
         ],
         "x": [
          -0.010611193952538631,
          -0.03202913141501781,
          null
         ],
         "y": [
          -0.261238230356099,
          -0.24056066045048197,
          null
         ],
         "type": "scatter"
        },
        {
         "hoverinfo": "text",
         "line": {
          "color": "blue",
          "width": 0.3036553222084388
         },
         "mode": "lines",
         "text": [
          "Pypar--Alliser-Thorne: 1.0069444444444444"
         ],
         "x": [
          -0.25424319562072223,
          -0.230372819930384,
          null
         ],
         "y": [
          -0.33328172231759384,
          -0.27393144522537693,
          null
         ],
         "type": "scatter"
        },
        {
         "hoverinfo": "text",
         "line": {
          "color": "blue",
          "width": 0.3928964787632692
         },
         "mode": "lines",
         "text": [
          "Pypar--Grenn: 1.1666666666666665"
         ],
         "x": [
          -0.25424319562072223,
          -0.27894341162087527,
          null
         ],
         "y": [
          -0.33328172231759384,
          -0.30013732874856497,
          null
         ],
         "type": "scatter"
        },
        {
         "hoverinfo": "text",
         "line": {
          "color": "blue",
          "width": 0.3184658461431345
         },
         "mode": "lines",
         "text": [
          "Pypar--Halder: 1.034722222222222"
         ],
         "x": [
          -0.25424319562072223,
          -0.28276418942434495,
          null
         ],
         "y": [
          -0.33328172231759384,
          -0.34724935219928904,
          null
         ],
         "type": "scatter"
        },
        {
         "hoverinfo": "text",
         "line": {
          "color": "blue",
          "width": 0.3036553222084388
         },
         "mode": "lines",
         "text": [
          "Pypar--Rast: 1.0069444444444444"
         ],
         "x": [
          -0.25424319562072223,
          -0.2496285260136785,
          null
         ],
         "y": [
          -0.33328172231759384,
          -0.36938882317979926,
          null
         ],
         "type": "scatter"
        },
        {
         "hoverinfo": "text",
         "line": {
          "color": "blue",
          "width": 0.3184658461431345
         },
         "mode": "lines",
         "text": [
          "Pypar--Todder: 1.034722222222222"
         ],
         "x": [
          -0.25424319562072223,
          -0.2956201928286358,
          null
         ],
         "y": [
          -0.33328172231759384,
          -0.3796356429562429,
          null
         ],
         "type": "scatter"
        },
        {
         "hoverinfo": "text",
         "line": {
          "color": "blue",
          "width": 0.3
         },
         "mode": "lines",
         "text": [
          "Viserys-Targaryen--Doreah: 1.0"
         ],
         "x": [
          -0.027909544187174198,
          -0.04154279145219459,
          null
         ],
         "y": [
          0.42414680182602954,
          0.5798431442327341,
          null
         ],
         "type": "scatter"
        },
        {
         "hoverinfo": "text",
         "line": {
          "color": "blue",
          "width": 0.34124583967861705
         },
         "mode": "lines",
         "text": [
          "Viserys-Targaryen--Illyrio-Mopatis: 1.0763888888888888"
         ],
         "x": [
          -0.027909544187174198,
          0.001079720675957324,
          null
         ],
         "y": [
          0.42414680182602954,
          0.4279871367525846,
          null
         ],
         "type": "scatter"
        },
        {
         "hoverinfo": "text",
         "line": {
          "color": "blue",
          "width": 0.30732960033145773
         },
         "mode": "lines",
         "text": [
          "Viserys-Targaryen--Irri: 1.0138888888888888"
         ],
         "x": [
          -0.027909544187174198,
          -0.014371425948954717,
          null
         ],
         "y": [
          0.42414680182602954,
          0.559054333378203,
          null
         ],
         "type": "scatter"
        },
        {
         "hoverinfo": "text",
         "line": {
          "color": "blue",
          "width": 0.30732960033145773
         },
         "mode": "lines",
         "text": [
          "Viserys-Targaryen--Rhaegar-Targaryen: 1.0138888888888888"
         ],
         "x": [
          -0.027909544187174198,
          0.014653623613678292,
          null
         ],
         "y": [
          0.42414680182602954,
          0.26775314626515023,
          null
         ],
         "type": "scatter"
        },
        {
         "hoverinfo": "text",
         "line": {
          "color": "blue",
          "width": 0.3
         },
         "mode": "lines",
         "text": [
          "Benjen-Stark--Jaremy-Rykker: 1.0"
         ],
         "x": [
          -0.12405528656493038,
          -0.20527231708199528,
          null
         ],
         "y": [
          -0.1404897871753785,
          -0.3549798117784053,
          null
         ],
         "type": "scatter"
        },
        {
         "hoverinfo": "text",
         "line": {
          "color": "blue",
          "width": 0.3
         },
         "mode": "lines",
         "text": [
          "Benjen-Stark--Mance-Rayder: 1.0"
         ],
         "x": [
          -0.12405528656493038,
          -0.07202237068564803,
          null
         ],
         "y": [
          -0.1404897871753785,
          -0.40771895621341314,
          null
         ],
         "type": "scatter"
        },
        {
         "hoverinfo": "text",
         "line": {
          "color": "blue",
          "width": 0.3
         },
         "mode": "lines",
         "text": [
          "Benjen-Stark--Waymar-Royce: 1.0"
         ],
         "x": [
          -0.12405528656493038,
          -0.4542887097797289,
          null
         ],
         "y": [
          -0.1404897871753785,
          -0.2591263923936027,
          null
         ],
         "type": "scatter"
        },
        {
         "hoverinfo": "text",
         "line": {
          "color": "blue",
          "width": 0.3036553222084388
         },
         "mode": "lines",
         "text": [
          "Benjen-Stark--Yoren: 1.0069444444444444"
         ],
         "x": [
          -0.12405528656493038,
          -0.13829944821982637,
          null
         ],
         "y": [
          -0.1404897871753785,
          -0.09318015549971584,
          null
         ],
         "type": "scatter"
        },
        {
         "hoverinfo": "text",
         "line": {
          "color": "blue",
          "width": 0.3
         },
         "mode": "lines",
         "text": [
          "Grenn--Alliser-Thorne: 1.0"
         ],
         "x": [
          -0.27894341162087527,
          -0.230372819930384,
          null
         ],
         "y": [
          -0.30013732874856497,
          -0.27393144522537693,
          null
         ],
         "type": "scatter"
        },
        {
         "hoverinfo": "text",
         "line": {
          "color": "blue",
          "width": 0.31102280182627423
         },
         "mode": "lines",
         "text": [
          "Grenn--Halder: 1.0208333333333333"
         ],
         "x": [
          -0.27894341162087527,
          -0.28276418942434495,
          null
         ],
         "y": [
          -0.30013732874856497,
          -0.34724935219928904,
          null
         ],
         "type": "scatter"
        },
        {
         "hoverinfo": "text",
         "line": {
          "color": "blue",
          "width": 0.31473489442754443
         },
         "mode": "lines",
         "text": [
          "Grenn--Todder: 1.0277777777777777"
         ],
         "x": [
          -0.27894341162087527,
          -0.2956201928286358,
          null
         ],
         "y": [
          -0.30013732874856497,
          -0.3796356429562429,
          null
         ],
         "type": "scatter"
        },
        {
         "hoverinfo": "text",
         "line": {
          "color": "blue",
          "width": 0.34124583967861705
         },
         "mode": "lines",
         "text": [
          "Irri--Doreah: 1.0763888888888888"
         ],
         "x": [
          -0.014371425948954717,
          -0.04154279145219459,
          null
         ],
         "y": [
          0.559054333378203,
          0.5798431442327341,
          null
         ],
         "type": "scatter"
        },
        {
         "hoverinfo": "text",
         "line": {
          "color": "blue",
          "width": 0.3
         },
         "mode": "lines",
         "text": [
          "Irri--Illyrio-Mopatis: 1.0"
         ],
         "x": [
          -0.014371425948954717,
          0.001079720675957324,
          null
         ],
         "y": [
          0.559054333378203,
          0.4279871367525846,
          null
         ],
         "type": "scatter"
        },
        {
         "hoverinfo": "text",
         "line": {
          "color": "blue",
          "width": 0.34124583967861705
         },
         "mode": "lines",
         "text": [
          "Irri--Jhiqui: 1.0763888888888888"
         ],
         "x": [
          -0.014371425948954717,
          -0.09337088732850068,
          null
         ],
         "y": [
          0.559054333378203,
          0.603861909047303,
          null
         ],
         "type": "scatter"
        },
        {
         "hoverinfo": "text",
         "line": {
          "color": "blue",
          "width": 0.31473489442754443
         },
         "mode": "lines",
         "text": [
          "Irri--Jhogo: 1.0277777777777777"
         ],
         "x": [
          -0.014371425948954717,
          0.01830446134818916,
          null
         ],
         "y": [
          0.559054333378203,
          0.6141754614620935,
          null
         ],
         "type": "scatter"
        },
        {
         "hoverinfo": "text",
         "line": {
          "color": "blue",
          "width": 0.3036553222084388
         },
         "mode": "lines",
         "text": [
          "Alliser-Thorne--Aemon-Targaryen: 1.0069444444444444"
         ],
         "x": [
          -0.230372819930384,
          -0.3428145406562496,
          null
         ],
         "y": [
          -0.27393144522537693,
          -0.3189554820482568,
          null
         ],
         "type": "scatter"
        },
        {
         "hoverinfo": "text",
         "line": {
          "color": "blue",
          "width": 0.3
         },
         "mode": "lines",
         "text": [
          "Alliser-Thorne--Bowen-Marsh: 1.0"
         ],
         "x": [
          -0.230372819930384,
          -0.3152731669301327,
          null
         ],
         "y": [
          -0.27393144522537693,
          -0.26076046174051876,
          null
         ],
         "type": "scatter"
        },
        {
         "hoverinfo": "text",
         "line": {
          "color": "blue",
          "width": 0.3036553222084388
         },
         "mode": "lines",
         "text": [
          "Alliser-Thorne--Halder: 1.0069444444444444"
         ],
         "x": [
          -0.230372819930384,
          -0.28276418942434495,
          null
         ],
         "y": [
          -0.27393144522537693,
          -0.34724935219928904,
          null
         ],
         "type": "scatter"
        },
        {
         "hoverinfo": "text",
         "line": {
          "color": "blue",
          "width": 0.30732960033145773
         },
         "mode": "lines",
         "text": [
          "Alliser-Thorne--Rast: 1.0138888888888888"
         ],
         "x": [
          -0.230372819930384,
          -0.2496285260136785,
          null
         ],
         "y": [
          -0.27393144522537693,
          -0.36938882317979926,
          null
         ],
         "type": "scatter"
        },
        {
         "hoverinfo": "text",
         "line": {
          "color": "blue",
          "width": 0.30732960033145773
         },
         "mode": "lines",
         "text": [
          "Loras-Tyrell--Beric-Dondarrion: 1.0138888888888888"
         ],
         "x": [
          0.18042954714332093,
          0.2514470848015286,
          null
         ],
         "y": [
          0.10241972177968102,
          0.10344060167222606,
          null
         ],
         "type": "scatter"
        },
        {
         "hoverinfo": "text",
         "line": {
          "color": "blue",
          "width": 0.32598420029006264
         },
         "mode": "lines",
         "text": [
          "Loras-Tyrell--Gregor-Clegane: 1.0486111111111112"
         ],
         "x": [
          0.18042954714332093,
          0.07693119390322473,
          null
         ],
         "y": [
          0.10241972177968102,
          0.04684415948750067,
          null
         ],
         "type": "scatter"
        },
        {
         "hoverinfo": "text",
         "line": {
          "color": "blue",
          "width": 0.3
         },
         "mode": "lines",
         "text": [
          "Loras-Tyrell--Ilyn-Payne: 1.0"
         ],
         "x": [
          0.18042954714332093,
          0.10493895598371764,
          null
         ],
         "y": [
          0.10241972177968102,
          0.12975215603867807,
          null
         ],
         "type": "scatter"
        },
        {
         "hoverinfo": "text",
         "line": {
          "color": "blue",
          "width": 0.3036553222084388
         },
         "mode": "lines",
         "text": [
          "Loras-Tyrell--Jeyne-Poole: 1.0069444444444444"
         ],
         "x": [
          0.18042954714332093,
          0.15671453143493377,
          null
         ],
         "y": [
          0.10241972177968102,
          0.05471148992048057,
          null
         ],
         "type": "scatter"
        },
        {
         "hoverinfo": "text",
         "line": {
          "color": "blue",
          "width": 0.3
         },
         "mode": "lines",
         "text": [
          "Loras-Tyrell--Mace-Tyrell: 1.0"
         ],
         "x": [
          0.18042954714332093,
          0.4616907850654088,
          null
         ],
         "y": [
          0.10241972177968102,
          0.33420994533850534,
          null
         ],
         "type": "scatter"
        },
        {
         "hoverinfo": "text",
         "line": {
          "color": "blue",
          "width": 0.3036553222084388
         },
         "mode": "lines",
         "text": [
          "Aemon-Targaryen--Bowen-Marsh: 1.0069444444444444"
         ],
         "x": [
          -0.3428145406562496,
          -0.3152731669301327,
          null
         ],
         "y": [
          -0.3189554820482568,
          -0.26076046174051876,
          null
         ],
         "type": "scatter"
        },
        {
         "hoverinfo": "text",
         "line": {
          "color": "blue",
          "width": 0.32221562524998465
         },
         "mode": "lines",
         "text": [
          "Aemon-Targaryen--Chett: 1.0416666666666665"
         ],
         "x": [
          -0.3428145406562496,
          -0.36933534667252454,
          null
         ],
         "y": [
          -0.3189554820482568,
          -0.28813122400786007,
          null
         ],
         "type": "scatter"
        },
        {
         "hoverinfo": "text",
         "line": {
          "color": "blue",
          "width": 0.30732960033145773
         },
         "mode": "lines",
         "text": [
          "Aemon-Targaryen--Clydas: 1.0138888888888888"
         ],
         "x": [
          -0.3428145406562496,
          -0.5369588011419857,
          null
         ],
         "y": [
          -0.3189554820482568,
          -0.48902384481666417,
          null
         ],
         "type": "scatter"
        },
        {
         "hoverinfo": "text",
         "line": {
          "color": "blue",
          "width": 0.31102280182627423
         },
         "mode": "lines",
         "text": [
          "Gregor-Clegane--Beric-Dondarrion: 1.0208333333333333"
         ],
         "x": [
          0.07693119390322473,
          0.2514470848015286,
          null
         ],
         "y": [
          0.04684415948750067,
          0.10344060167222606,
          null
         ],
         "type": "scatter"
        },
        {
         "hoverinfo": "text",
         "line": {
          "color": "blue",
          "width": 0.31102280182627423
         },
         "mode": "lines",
         "text": [
          "Gregor-Clegane--Marq-Piper: 1.0208333333333333"
         ],
         "x": [
          0.07693119390322473,
          -0.0813601539025903,
          null
         ],
         "y": [
          0.04684415948750067,
          0.057818626548124384,
          null
         ],
         "type": "scatter"
        },
        {
         "hoverinfo": "text",
         "line": {
          "color": "blue",
          "width": 0.3
         },
         "mode": "lines",
         "text": [
          "Brynden-Tully--Edmure-Tully: 1.0"
         ],
         "x": [
          0.07835692800964725,
          0.023076472169538148,
          null
         ],
         "y": [
          -0.1613095772366983,
          -0.07761245006425639,
          null
         ],
         "type": "scatter"
        },
        {
         "hoverinfo": "text",
         "line": {
          "color": "blue",
          "width": 0.30732960033145773
         },
         "mode": "lines",
         "text": [
          "Brynden-Tully--Hoster-Tully: 1.0138888888888888"
         ],
         "x": [
          0.07835692800964725,
          0.15596838332473842,
          null
         ],
         "y": [
          -0.1613095772366983,
          -0.0920572605417538,
          null
         ],
         "type": "scatter"
        },
        {
         "hoverinfo": "text",
         "line": {
          "color": "blue",
          "width": 0.3
         },
         "mode": "lines",
         "text": [
          "Brynden-Tully--Nestor-Royce: 1.0"
         ],
         "x": [
          0.07835692800964725,
          0.1717819267667743,
          null
         ],
         "y": [
          -0.1613095772366983,
          -0.30082156866848203,
          null
         ],
         "type": "scatter"
        },
        {
         "hoverinfo": "text",
         "line": {
          "color": "blue",
          "width": 0.3
         },
         "mode": "lines",
         "text": [
          "Brynden-Tully--Walder-Frey: 1.0"
         ],
         "x": [
          0.07835692800964725,
          0.10924972152460961,
          null
         ],
         "y": [
          -0.1613095772366983,
          -0.283093941314091,
          null
         ],
         "type": "scatter"
        },
        {
         "hoverinfo": "text",
         "line": {
          "color": "blue",
          "width": 0.31102280182627423
         },
         "mode": "lines",
         "text": [
          "Qotho--Cohollo: 1.0208333333333333"
         ],
         "x": [
          -0.0644145317183468,
          -0.10280686100720865,
          null
         ],
         "y": [
          0.6399533884998166,
          0.6762262571885916,
          null
         ],
         "type": "scatter"
        },
        {
         "hoverinfo": "text",
         "line": {
          "color": "blue",
          "width": 0.3297715400664042
         },
         "mode": "lines",
         "text": [
          "Qotho--Haggo: 1.0555555555555556"
         ],
         "x": [
          -0.0644145317183468,
          -0.05808685149545533,
          null
         ],
         "y": [
          0.6399533884998166,
          0.686396356589311,
          null
         ],
         "type": "scatter"
        },
        {
         "hoverinfo": "text",
         "line": {
          "color": "blue",
          "width": 0.32221562524998465
         },
         "mode": "lines",
         "text": [
          "Qotho--Mirri-Maz-Duur: 1.0416666666666665"
         ],
         "x": [
          -0.0644145317183468,
          -0.024755329664524837,
          null
         ],
         "y": [
          0.6399533884998166,
          0.632344800738363,
          null
         ],
         "type": "scatter"
        },
        {
         "hoverinfo": "text",
         "line": {
          "color": "blue",
          "width": 0.3036553222084388
         },
         "mode": "lines",
         "text": [
          "Qotho--Quaro: 1.0069444444444444"
         ],
         "x": [
          -0.0644145317183468,
          -0.02160750082307075,
          null
         ],
         "y": [
          0.6399533884998166,
          0.6967630051148899,
          null
         ],
         "type": "scatter"
        },
        {
         "hoverinfo": "text",
         "line": {
          "color": "blue",
          "width": 0.3
         },
         "mode": "lines",
         "text": [
          "Mirri-Maz-Duur--Haggo: 1.0"
         ],
         "x": [
          -0.024755329664524837,
          -0.05808685149545533,
          null
         ],
         "y": [
          0.632344800738363,
          0.686396356589311,
          null
         ],
         "type": "scatter"
        },
        {
         "hoverinfo": "text",
         "line": {
          "color": "blue",
          "width": 0.3
         },
         "mode": "lines",
         "text": [
          "Mirri-Maz-Duur--Jhogo: 1.0"
         ],
         "x": [
          -0.024755329664524837,
          0.01830446134818916,
          null
         ],
         "y": [
          0.632344800738363,
          0.6141754614620935,
          null
         ],
         "type": "scatter"
        },
        {
         "hoverinfo": "text",
         "line": {
          "color": "blue",
          "width": 0.3297715400664042
         },
         "mode": "lines",
         "text": [
          "Jhiqui--Doreah: 1.0555555555555556"
         ],
         "x": [
          -0.09337088732850068,
          -0.04154279145219459,
          null
         ],
         "y": [
          0.603861909047303,
          0.5798431442327341,
          null
         ],
         "type": "scatter"
        },
        {
         "hoverinfo": "text",
         "line": {
          "color": "blue",
          "width": 0.3
         },
         "mode": "lines",
         "text": [
          "Halder--Albett: 1.0"
         ],
         "x": [
          -0.28276418942434495,
          -0.24433559030060994,
          null
         ],
         "y": [
          -0.34724935219928904,
          -0.4189665065441949,
          null
         ],
         "type": "scatter"
        },
        {
         "hoverinfo": "text",
         "line": {
          "color": "blue",
          "width": 0.3
         },
         "mode": "lines",
         "text": [
          "Halder--Rast: 1.0"
         ],
         "x": [
          -0.28276418942434495,
          -0.2496285260136785,
          null
         ],
         "y": [
          -0.34724935219928904,
          -0.36938882317979926,
          null
         ],
         "type": "scatter"
        },
        {
         "hoverinfo": "text",
         "line": {
          "color": "blue",
          "width": 0.3
         },
         "mode": "lines",
         "text": [
          "Halder--Todder: 1.0"
         ],
         "x": [
          -0.28276418942434495,
          -0.2956201928286358,
          null
         ],
         "y": [
          -0.34724935219928904,
          -0.3796356429562429,
          null
         ],
         "type": "scatter"
        },
        {
         "hoverinfo": "text",
         "line": {
          "color": "blue",
          "width": 0.3
         },
         "mode": "lines",
         "text": [
          "Jeyne-Poole--Ilyn-Payne: 1.0"
         ],
         "x": [
          0.15671453143493377,
          0.10493895598371764,
          null
         ],
         "y": [
          0.05471148992048057,
          0.12975215603867807,
          null
         ],
         "type": "scatter"
        },
        {
         "hoverinfo": "text",
         "line": {
          "color": "blue",
          "width": 0.31102280182627423
         },
         "mode": "lines",
         "text": [
          "Myrcella-Baratheon--Tommen-Baratheon: 1.0208333333333333"
         ],
         "x": [
          0.11358554520503127,
          -0.02099681451767266,
          null
         ],
         "y": [
          -0.02132348751762153,
          -0.0021973061319556933,
          null
         ],
         "type": "scatter"
        },
        {
         "hoverinfo": "text",
         "line": {
          "color": "blue",
          "width": 0.3184658461431345
         },
         "mode": "lines",
         "text": [
          "Hodor--Nan: 1.034722222222222"
         ],
         "x": [
          -0.2045012168232058,
          -0.21240253818389077,
          null
         ],
         "y": [
          0.03751775214914116,
          0.00183968232902158,
          null
         ],
         "type": "scatter"
        },
        {
         "hoverinfo": "text",
         "line": {
          "color": "blue",
          "width": 0.31473489442754443
         },
         "mode": "lines",
         "text": [
          "Edmure-Tully--Hoster-Tully: 1.0277777777777777"
         ],
         "x": [
          0.023076472169538148,
          0.15596838332473842,
          null
         ],
         "y": [
          -0.07761245006425639,
          -0.0920572605417538,
          null
         ],
         "type": "scatter"
        },
        {
         "hoverinfo": "text",
         "line": {
          "color": "blue",
          "width": 0.3036553222084388
         },
         "mode": "lines",
         "text": [
          "Edmure-Tully--Karyl-Vance: 1.0069444444444444"
         ],
         "x": [
          0.023076472169538148,
          -0.29079684617635365,
          null
         ],
         "y": [
          -0.07761245006425639,
          0.04128350354796108,
          null
         ],
         "type": "scatter"
        },
        {
         "hoverinfo": "text",
         "line": {
          "color": "blue",
          "width": 0.3
         },
         "mode": "lines",
         "text": [
          "Edmure-Tully--Marq-Piper: 1.0"
         ],
         "x": [
          0.023076472169538148,
          -0.0813601539025903,
          null
         ],
         "y": [
          -0.07761245006425639,
          0.057818626548124384,
          null
         ],
         "type": "scatter"
        },
        {
         "hoverinfo": "text",
         "line": {
          "color": "blue",
          "width": 0.3
         },
         "mode": "lines",
         "text": [
          "Edmure-Tully--Tytos-Blackwood: 1.0"
         ],
         "x": [
          0.023076472169538148,
          0.21953606299418665,
          null
         ],
         "y": [
          -0.07761245006425639,
          -0.2881575947262707,
          null
         ],
         "type": "scatter"
        },
        {
         "hoverinfo": "text",
         "line": {
          "color": "blue",
          "width": 0.3036553222084388
         },
         "mode": "lines",
         "text": [
          "Rickard-Karstark--Galbart-Glover: 1.0069444444444444"
         ],
         "x": [
          -0.07201238999138217,
          -0.06014772243512612,
          null
         ],
         "y": [
          0.023898206162544497,
          0.08023590230817076,
          null
         ],
         "type": "scatter"
        },
        {
         "hoverinfo": "text",
         "line": {
          "color": "blue",
          "width": 0.31473489442754443
         },
         "mode": "lines",
         "text": [
          "Rickard-Karstark--Jon-Umber-(Greatjon): 1.0277777777777777"
         ],
         "x": [
          -0.07201238999138217,
          -0.12111407816859568,
          null
         ],
         "y": [
          0.023898206162544497,
          -0.027536695165753702,
          null
         ],
         "type": "scatter"
        },
        {
         "hoverinfo": "text",
         "line": {
          "color": "blue",
          "width": 0.3
         },
         "mode": "lines",
         "text": [
          "Rickard-Karstark--Maege-Mormont: 1.0"
         ],
         "x": [
          -0.07201238999138217,
          -0.2801632648624272,
          null
         ],
         "y": [
          0.023898206162544497,
          0.08556578307727505,
          null
         ],
         "type": "scatter"
        },
        {
         "hoverinfo": "text",
         "line": {
          "color": "blue",
          "width": 0.3
         },
         "mode": "lines",
         "text": [
          "Rickard-Karstark--Roose-Bolton: 1.0"
         ],
         "x": [
          -0.07201238999138217,
          -0.14337801887454882,
          null
         ],
         "y": [
          0.023898206162544497,
          0.03086387704045434,
          null
         ],
         "type": "scatter"
        },
        {
         "hoverinfo": "text",
         "line": {
          "color": "blue",
          "width": 0.31473489442754443
         },
         "mode": "lines",
         "text": [
          "Haggo--Cohollo: 1.0277777777777777"
         ],
         "x": [
          -0.05808685149545533,
          -0.10280686100720865,
          null
         ],
         "y": [
          0.686396356589311,
          0.6762262571885916,
          null
         ],
         "type": "scatter"
        },
        {
         "hoverinfo": "text",
         "line": {
          "color": "blue",
          "width": 0.3
         },
         "mode": "lines",
         "text": [
          "Haggo--Rakharo: 1.0"
         ],
         "x": [
          -0.05808685149545533,
          0.008411991256053361,
          null
         ],
         "y": [
          0.686396356589311,
          0.6967729280253329,
          null
         ],
         "type": "scatter"
        },
        {
         "hoverinfo": "text",
         "line": {
          "color": "blue",
          "width": 0.32221562524998465
         },
         "mode": "lines",
         "text": [
          "Shagga--Conn: 1.0416666666666665"
         ],
         "x": [
          -0.06265965517457163,
          -0.14645322420153217,
          null
         ],
         "y": [
          -0.48662507972631747,
          -0.49644141880679776,
          null
         ],
         "type": "scatter"
        },
        {
         "hoverinfo": "text",
         "line": {
          "color": "blue",
          "width": 0.31473489442754443
         },
         "mode": "lines",
         "text": [
          "Shagga--Dolf: 1.0277777777777777"
         ],
         "x": [
          -0.06265965517457163,
          -0.0976807148551008,
          null
         ],
         "y": [
          -0.48662507972631747,
          -0.7304481163247641,
          null
         ],
         "type": "scatter"
        },
        {
         "hoverinfo": "text",
         "line": {
          "color": "blue",
          "width": 0.3036553222084388
         },
         "mode": "lines",
         "text": [
          "Shagga--Timett: 1.0069444444444444"
         ],
         "x": [
          -0.06265965517457163,
          -0.09673037189424312,
          null
         ],
         "y": [
          -0.48662507972631747,
          -0.40245672310061986,
          null
         ],
         "type": "scatter"
        },
        {
         "hoverinfo": "text",
         "line": {
          "color": "blue",
          "width": 0.3036553222084388
         },
         "mode": "lines",
         "text": [
          "Shagga--Ulf-son-of-Umar: 1.0069444444444444"
         ],
         "x": [
          -0.06265965517457163,
          -0.04561179896908385,
          null
         ],
         "y": [
          -0.48662507972631747,
          -0.7335529475468804,
          null
         ],
         "type": "scatter"
        },
        {
         "hoverinfo": "text",
         "line": {
          "color": "blue",
          "width": 0.3036553222084388
         },
         "mode": "lines",
         "text": [
          "Jhogo--Aggo: 1.0069444444444444"
         ],
         "x": [
          0.01830446134818916,
          0.017658330818026202,
          null
         ],
         "y": [
          0.6141754614620935,
          0.6461942705341531,
          null
         ],
         "type": "scatter"
        },
        {
         "hoverinfo": "text",
         "line": {
          "color": "blue",
          "width": 0.3
         },
         "mode": "lines",
         "text": [
          "Tomard--Alyn: 1.0"
         ],
         "x": [
          0.08399729181974153,
          0.024776477722474877,
          null
         ],
         "y": [
          0.17503157989834955,
          0.23769593769761657,
          null
         ],
         "type": "scatter"
        },
        {
         "hoverinfo": "text",
         "line": {
          "color": "blue",
          "width": 0.31102280182627423
         },
         "mode": "lines",
         "text": [
          "Tomard--Cayn: 1.0208333333333333"
         ],
         "x": [
          0.08399729181974153,
          0.21157640129784488,
          null
         ],
         "y": [
          0.17503157989834955,
          0.20613843137589452,
          null
         ],
         "type": "scatter"
        },
        {
         "hoverinfo": "text",
         "line": {
          "color": "blue",
          "width": 0.3
         },
         "mode": "lines",
         "text": [
          "Walder-Frey--Danwell-Frey: 1.0"
         ],
         "x": [
          0.10924972152460961,
          0.29367858056872226,
          null
         ],
         "y": [
          -0.283093941314091,
          -0.6239133141166978,
          null
         ],
         "type": "scatter"
        },
        {
         "hoverinfo": "text",
         "line": {
          "color": "blue",
          "width": 0.3
         },
         "mode": "lines",
         "text": [
          "Walder-Frey--Stevron-Frey: 1.0"
         ],
         "x": [
          0.10924972152460961,
          0.14388716796303816,
          null
         ],
         "y": [
          -0.283093941314091,
          -0.38083504269794044,
          null
         ],
         "type": "scatter"
        },
        {
         "hoverinfo": "text",
         "line": {
          "color": "blue",
          "width": 0.3036553222084388
         },
         "mode": "lines",
         "text": [
          "Brandon-Stark--Aerys-II-Targaryen: 1.0069444444444444"
         ],
         "x": [
          0.027448936692904862,
          0.17880449780327884,
          null
         ],
         "y": [
          0.20554547129797635,
          0.14537326601673276,
          null
         ],
         "type": "scatter"
        },
        {
         "hoverinfo": "text",
         "line": {
          "color": "blue",
          "width": 0.3036553222084388
         },
         "mode": "lines",
         "text": [
          "Brandon-Stark--Lyanna-Stark: 1.0069444444444444"
         ],
         "x": [
          0.027448936692904862,
          0.07854020176175182,
          null
         ],
         "y": [
          0.20554547129797635,
          0.24050048357278792,
          null
         ],
         "type": "scatter"
        },
        {
         "hoverinfo": "text",
         "line": {
          "color": "blue",
          "width": 0.3
         },
         "mode": "lines",
         "text": [
          "Brandon-Stark--Rickard-Stark: 1.0"
         ],
         "x": [
          0.027448936692904862,
          -0.15523425905447666,
          null
         ],
         "y": [
          0.20554547129797635,
          0.20786219138544812,
          null
         ],
         "type": "scatter"
        },
        {
         "hoverinfo": "text",
         "line": {
          "color": "blue",
          "width": 0.3036553222084388
         },
         "mode": "lines",
         "text": [
          "Jon-Umber-(Greatjon)--Galbart-Glover: 1.0069444444444444"
         ],
         "x": [
          -0.12111407816859568,
          -0.06014772243512612,
          null
         ],
         "y": [
          -0.027536695165753702,
          0.08023590230817076,
          null
         ],
         "type": "scatter"
        },
        {
         "hoverinfo": "text",
         "line": {
          "color": "blue",
          "width": 0.30732960033145773
         },
         "mode": "lines",
         "text": [
          "Jon-Umber-(Greatjon)--Maege-Mormont: 1.0138888888888888"
         ],
         "x": [
          -0.12111407816859568,
          -0.2801632648624272,
          null
         ],
         "y": [
          -0.027536695165753702,
          0.08556578307727505,
          null
         ],
         "type": "scatter"
        },
        {
         "hoverinfo": "text",
         "line": {
          "color": "blue",
          "width": 0.3
         },
         "mode": "lines",
         "text": [
          "Jon-Umber-(Greatjon)--Roose-Bolton: 1.0"
         ],
         "x": [
          -0.12111407816859568,
          -0.14337801887454882,
          null
         ],
         "y": [
          -0.027536695165753702,
          0.03086387704045434,
          null
         ],
         "type": "scatter"
        },
        {
         "hoverinfo": "text",
         "line": {
          "color": "blue",
          "width": 0.3
         },
         "mode": "lines",
         "text": [
          "Aerys-II-Targaryen--Gerold-Hightower: 1.0"
         ],
         "x": [
          0.17880449780327884,
          0.3755499394803089,
          null
         ],
         "y": [
          0.14537326601673276,
          0.12966861194928017,
          null
         ],
         "type": "scatter"
        },
        {
         "hoverinfo": "text",
         "line": {
          "color": "blue",
          "width": 0.3036553222084388
         },
         "mode": "lines",
         "text": [
          "Vardis-Egen--Colemon: 1.0069444444444444"
         ],
         "x": [
          0.11085422952634162,
          0.18040745154196722,
          null
         ],
         "y": [
          -0.25076953405138547,
          -0.3556137602753549,
          null
         ],
         "type": "scatter"
        },
        {
         "hoverinfo": "text",
         "line": {
          "color": "blue",
          "width": 0.3
         },
         "mode": "lines",
         "text": [
          "Vardis-Egen--Eon-Hunter: 1.0"
         ],
         "x": [
          0.11085422952634162,
          0.21897464053883478,
          null
         ],
         "y": [
          -0.25076953405138547,
          -0.22966591651311055,
          null
         ],
         "type": "scatter"
        },
        {
         "hoverinfo": "text",
         "line": {
          "color": "blue",
          "width": 0.30732960033145773
         },
         "mode": "lines",
         "text": [
          "Meryn-Trant--Boros-Blount: 1.0138888888888888"
         ],
         "x": [
          0.17832790627769748,
          0.19767877967959777,
          null
         ],
         "y": [
          0.05658916185941756,
          -0.007191383086253683,
          null
         ],
         "type": "scatter"
        },
        {
         "hoverinfo": "text",
         "line": {
          "color": "blue",
          "width": 0.30732960033145773
         },
         "mode": "lines",
         "text": [
          "Meryn-Trant--Syrio-Forel: 1.0138888888888888"
         ],
         "x": [
          0.17832790627769748,
          0.2280802487449413,
          null
         ],
         "y": [
          0.05658916185941756,
          0.14099773962857906,
          null
         ],
         "type": "scatter"
        },
        {
         "hoverinfo": "text",
         "line": {
          "color": "blue",
          "width": 0.3
         },
         "mode": "lines",
         "text": [
          "Aggo--Quaro: 1.0"
         ],
         "x": [
          0.017658330818026202,
          -0.02160750082307075,
          null
         ],
         "y": [
          0.6461942705341531,
          0.6967630051148899,
          null
         ],
         "type": "scatter"
        },
        {
         "hoverinfo": "text",
         "line": {
          "color": "blue",
          "width": 0.31473489442754443
         },
         "mode": "lines",
         "text": [
          "Aggo--Rakharo: 1.0277777777777777"
         ],
         "x": [
          0.017658330818026202,
          0.008411991256053361,
          null
         ],
         "y": [
          0.6461942705341531,
          0.6967729280253329,
          null
         ],
         "type": "scatter"
        },
        {
         "hoverinfo": "text",
         "line": {
          "color": "blue",
          "width": 0.3374023903222028
         },
         "mode": "lines",
         "text": [
          "Waymar-Royce--Gared: 1.0694444444444444"
         ],
         "x": [
          -0.4542887097797289,
          -0.506655319321173,
          null
         ],
         "y": [
          -0.2591263923936027,
          -0.26548366816239566,
          null
         ],
         "type": "scatter"
        },
        {
         "hoverinfo": "text",
         "line": {
          "color": "blue",
          "width": 0.35680576364309297
         },
         "mode": "lines",
         "text": [
          "Waymar-Royce--Will-(prologue): 1.1041666666666665"
         ],
         "x": [
          -0.4542887097797289,
          -0.6345393374116545,
          null
         ],
         "y": [
          -0.2591263923936027,
          -0.3334580270401733,
          null
         ],
         "type": "scatter"
        },
        {
         "hoverinfo": "text",
         "line": {
          "color": "blue",
          "width": 0.31102280182627423
         },
         "mode": "lines",
         "text": [
          "Alyn--Harwin: 1.0208333333333333"
         ],
         "x": [
          0.024776477722474877,
          -0.05720282117988841,
          null
         ],
         "y": [
          0.23769593769761657,
          0.21711286247210781,
          null
         ],
         "type": "scatter"
        },
        {
         "hoverinfo": "text",
         "line": {
          "color": "blue",
          "width": 0.33357761363923993
         },
         "mode": "lines",
         "text": [
          "Will-(prologue)--Gared: 1.0625"
         ],
         "x": [
          -0.6345393374116545,
          -0.506655319321173,
          null
         ],
         "y": [
          -0.3334580270401733,
          -0.26548366816239566,
          null
         ],
         "type": "scatter"
        },
        {
         "hoverinfo": "text",
         "line": {
          "color": "blue",
          "width": 0.3036553222084388
         },
         "mode": "lines",
         "text": [
          "Marillion--Willis-Wode: 1.0069444444444444"
         ],
         "x": [
          0.009807945683700232,
          -0.03202913141501781,
          null
         ],
         "y": [
          -0.22617742973005572,
          -0.24056066045048197,
          null
         ],
         "type": "scatter"
        },
        {
         "hoverinfo": "text",
         "line": {
          "color": "blue",
          "width": 0.3
         },
         "mode": "lines",
         "text": [
          "Willis-Wode--Chiggen: 1.0"
         ],
         "x": [
          -0.03202913141501781,
          -0.04029994691827284,
          null
         ],
         "y": [
          -0.24056066045048197,
          -0.3425045562821123,
          null
         ],
         "type": "scatter"
        },
        {
         "hoverinfo": "text",
         "line": {
          "color": "blue",
          "width": 0.30732960033145773
         },
         "mode": "lines",
         "text": [
          "Beric-Dondarrion--Thoros-of-Myr: 1.0138888888888888"
         ],
         "x": [
          0.2514470848015286,
          0.5172502223743907,
          null
         ],
         "y": [
          0.10344060167222606,
          0.10240336312088454,
          null
         ],
         "type": "scatter"
        },
        {
         "hoverinfo": "text",
         "line": {
          "color": "blue",
          "width": 0.3
         },
         "mode": "lines",
         "text": [
          "Rast--Albett: 1.0"
         ],
         "x": [
          -0.2496285260136785,
          -0.24433559030060994,
          null
         ],
         "y": [
          -0.36938882317979926,
          -0.4189665065441949,
          null
         ],
         "type": "scatter"
        },
        {
         "hoverinfo": "text",
         "line": {
          "color": "blue",
          "width": 0.31102280182627423
         },
         "mode": "lines",
         "text": [
          "Rakharo--Quaro: 1.0208333333333333"
         ],
         "x": [
          0.008411991256053361,
          -0.02160750082307075,
          null
         ],
         "y": [
          0.6967729280253329,
          0.6967630051148899,
          null
         ],
         "type": "scatter"
        },
        {
         "hoverinfo": "text",
         "line": {
          "color": "blue",
          "width": 0.3
         },
         "mode": "lines",
         "text": [
          "Jaremy-Rykker--Jafer-Flowers: 1.0"
         ],
         "x": [
          -0.20527231708199528,
          -0.2889232178917337,
          null
         ],
         "y": [
          -0.3549798117784053,
          -0.6001755448664708,
          null
         ],
         "type": "scatter"
        },
        {
         "hoverinfo": "text",
         "line": {
          "color": "blue",
          "width": 0.3
         },
         "mode": "lines",
         "text": [
          "Galbart-Glover--Roose-Bolton: 1.0"
         ],
         "x": [
          -0.06014772243512612,
          -0.14337801887454882,
          null
         ],
         "y": [
          0.08023590230817076,
          0.03086387704045434,
          null
         ],
         "type": "scatter"
        },
        {
         "hoverinfo": "text",
         "line": {
          "color": "blue",
          "width": 0.30732960033145773
         },
         "mode": "lines",
         "text": [
          "Conn--Coratt: 1.0138888888888888"
         ],
         "x": [
          -0.14645322420153217,
          -0.23277851031558439,
          null
         ],
         "y": [
          -0.49644141880679776,
          -0.730752647910173,
          null
         ],
         "type": "scatter"
        },
        {
         "hoverinfo": "text",
         "line": {
          "color": "blue",
          "width": 0.3
         },
         "mode": "lines",
         "text": [
          "Hullen--Harwin: 1.0"
         ],
         "x": [
          -0.11711798678681166,
          -0.05720282117988841,
          null
         ],
         "y": [
          0.08073306188728846,
          0.21711286247210781,
          null
         ],
         "type": "scatter"
        },
        {
         "hoverinfo": "text",
         "line": {
          "color": "blue",
          "width": 0.3036553222084388
         },
         "mode": "lines",
         "text": [
          "Ogo--Fogo: 1.0069444444444444"
         ],
         "x": [
          -0.22439677649777381,
          -0.33729371085009,
          null
         ],
         "y": [
          0.8300676277419687,
          1.0,
          null
         ],
         "type": "scatter"
        },
        {
         "hoverinfo": "text",
         "line": {
          "color": "blue",
          "width": 0.3
         },
         "mode": "lines",
         "text": [
          "Ogo--Jommo: 1.0"
         ],
         "x": [
          -0.22439677649777381,
          -0.18375787116317716,
          null
         ],
         "y": [
          0.8300676277419687,
          0.7857540610139122,
          null
         ],
         "type": "scatter"
        },
        {
         "hoverinfo": "text",
         "line": {
          "color": "blue",
          "width": 0.3
         },
         "mode": "lines",
         "text": [
          "Marq-Piper--Karyl-Vance: 1.0"
         ],
         "x": [
          -0.0813601539025903,
          -0.29079684617635365,
          null
         ],
         "y": [
          0.057818626548124384,
          0.04128350354796108,
          null
         ],
         "type": "scatter"
        },
        {
         "hoverinfo": "text",
         "line": {
          "color": "blue",
          "width": 0.3036553222084388
         },
         "mode": "lines",
         "text": [
          "Gerold-Hightower--Arthur-Dayne: 1.0069444444444444"
         ],
         "x": [
          0.3755499394803089,
          0.635654113960773,
          null
         ],
         "y": [
          0.12966861194928017,
          0.1083413621289803,
          null
         ],
         "type": "scatter"
        },
        {
         "hoverinfo": "text",
         "line": {
          "color": "blue",
          "width": 0.3
         },
         "mode": "lines",
         "text": [
          "Gerold-Hightower--Oswell-Whent: 1.0"
         ],
         "x": [
          0.3755499394803089,
          0.6330287103641878,
          null
         ],
         "y": [
          0.12966861194928017,
          0.16456660295288403,
          null
         ],
         "type": "scatter"
        },
        {
         "hoverinfo": "text",
         "line": {
          "color": "blue",
          "width": 0.3
         },
         "mode": "lines",
         "text": [
          "Wyl-(guard)--Heward: 1.0"
         ],
         "x": [
          -0.023801432063556165,
          -0.10784701806901942,
          null
         ],
         "y": [
          0.18600123264216076,
          0.28413969505424014,
          null
         ],
         "type": "scatter"
        },
        {
         "hoverinfo": "text",
         "line": {
          "color": "blue",
          "width": 0.3036553222084388
         },
         "mode": "lines",
         "text": [
          "Karyl-Vance--Clement-Piper: 1.0069444444444444"
         ],
         "x": [
          -0.29079684617635365,
          -0.5480718902189856,
          null
         ],
         "y": [
          0.04128350354796108,
          0.10329084895582098,
          null
         ],
         "type": "scatter"
        },
        {
         "hoverinfo": "text",
         "line": {
          "color": "blue",
          "width": 0.30732960033145773
         },
         "mode": "lines",
         "text": [
          "Jyck--Morrec: 1.0138888888888888"
         ],
         "x": [
          -0.2839334301501014,
          -0.3258417493624405,
          null
         ],
         "y": [
          -0.20765598251752873,
          -0.19817554510506186,
          null
         ],
         "type": "scatter"
        },
        {
         "hoverinfo": "text",
         "line": {
          "color": "blue",
          "width": 0.3
         },
         "mode": "lines",
         "text": [
          "Torrhen-Karstark--Daryn-Hornwood: 1.0"
         ],
         "x": [
          0.23060690400641837,
          0.35265323669429144,
          null
         ],
         "y": [
          0.0017181780161025716,
          0.08789264370957128,
          null
         ],
         "type": "scatter"
        },
        {
         "hoverinfo": "text",
         "line": {
          "color": "blue",
          "width": 0.3
         },
         "mode": "lines",
         "text": [
          "Tytos-Blackwood--Jonos-Bracken: 1.0"
         ],
         "x": [
          0.21953606299418665,
          0.3917341246761284,
          null
         ],
         "y": [
          -0.2881575947262707,
          -0.4729578740484326,
          null
         ],
         "type": "scatter"
        },
        {
         "hoverinfo": "text",
         "line": {
          "color": "blue",
          "width": 0.3
         },
         "mode": "lines",
         "text": [
          "Danwell-Frey--Hosteen-Frey: 1.0"
         ],
         "x": [
          0.29367858056872226,
          0.41846518306961744,
          null
         ],
         "y": [
          -0.6239133141166978,
          -0.8055001208801081,
          null
         ],
         "type": "scatter"
        },
        {
         "hoverinfo": "text",
         "line": {
          "color": "blue",
          "width": 0.3
         },
         "mode": "lines",
         "text": [
          "Danwell-Frey--Jared-Frey: 1.0"
         ],
         "x": [
          0.29367858056872226,
          0.3807309312850634,
          null
         ],
         "y": [
          -0.6239133141166978,
          -0.8273480609307851,
          null
         ],
         "type": "scatter"
        },
        {
         "hoverinfo": "text",
         "line": {
          "color": "blue",
          "width": 0.3
         },
         "mode": "lines",
         "text": [
          "Hosteen-Frey--Jared-Frey: 1.0"
         ],
         "x": [
          0.41846518306961744,
          0.3807309312850634,
          null
         ],
         "y": [
          -0.8055001208801081,
          -0.8273480609307851,
          null
         ],
         "type": "scatter"
        },
        {
         "hoverinfo": "text",
         "line": {
          "color": "blue",
          "width": 0.3
         },
         "mode": "lines",
         "text": [
          "Mace-Tyrell--Paxter-Redwyne: 1.0"
         ],
         "x": [
          0.4616907850654088,
          0.6388764223728481,
          null
         ],
         "y": [
          0.33420994533850534,
          0.4919013919132946,
          null
         ],
         "type": "scatter"
        },
        {
         "hoverinfo": "none",
         "marker": {
          "color": [
           "#F4CC70",
           "#41B3A3",
           "#4E79A7",
           "#7A7A7A",
           "#F4CC70",
           "#F4CC70",
           "#F4CC70",
           "#F4CC70",
           "#258039",
           "#F4CC70",
           "#7A7A7A",
           "#41B3A3",
           "#EBB13E",
           "#F28E2B",
           "#7A7A7A",
           "#F28E2B",
           "#F28E2B",
           "#41B3A3",
           "#7A7A7A",
           "#C38D9E",
           "#7AA9CF",
           "#C38D9E",
           "#A65B50",
           "#F28E2B",
           "#F28E2B",
           "#F28E2B",
           "#F28E2B",
           "#7AA9CF",
           "#F28E2B",
           "#F28E2B",
           "#A65B50",
           "#F28E2B",
           "#F28E2B",
           "#41B3A3",
           "#258039",
           "#F4CC70",
           "#F4CC70",
           "#F28E2B",
           "#F28E2B",
           "#F28E2B",
           "#F28E2B",
           "#258039",
           "#F28E2B",
           "#F28E2B",
           "#F28E2B",
           "#F28E2B",
           "#F28E2B",
           "#F28E2B",
           "#F28E2B",
           "#F28E2B",
           "#41B3A3",
           "#258039",
           "#F28E2B",
           "#F28E2B",
           "#F28E2B",
           "#F28E2B",
           "#F28E2B",
           "#F28E2B",
           "#F28E2B",
           "#F28E2B",
           "#F28E2B",
           "#F28E2B",
           "#F28E2B",
           "#F4CC70",
           "#F28E2B",
           "#258039",
           "#F28E2B",
           "#41B3A3",
           "#F28E2B",
           "#F28E2B",
           "#F28E2B",
           "#F4CC70",
           "#F28E2B",
           "#F28E2B",
           "#F28E2B",
           "#F28E2B",
           "#F28E2B",
           "#F28E2B",
           "#F28E2B",
           "#F28E2B",
           "#F28E2B",
           "#F28E2B",
           "#F28E2B",
           "#F28E2B",
           "#F28E2B",
           "#F28E2B",
           "#F28E2B",
           "#7A7A7A",
           "#F28E2B",
           "#F28E2B",
           "#F28E2B",
           "#F28E2B",
           "#F28E2B",
           "#F28E2B",
           "#F28E2B",
           "#F28E2B",
           "#F28E2B",
           "#F28E2B",
           "#7AA9CF",
           "#F28E2B",
           "#F28E2B",
           "#F28E2B",
           "#F28E2B",
           "#F28E2B",
           "#F28E2B",
           "#F28E2B",
           "#F28E2B",
           "#F28E2B",
           "#F28E2B",
           "#F28E2B",
           "#F28E2B",
           "#F28E2B",
           "#F28E2B",
           "#F28E2B",
           "#F28E2B",
           "#F28E2B",
           "#F28E2B",
           "#F28E2B",
           "#F28E2B",
           "#258039",
           "#F28E2B",
           "#F28E2B",
           "#C38D9E",
           "#F28E2B",
           "#F28E2B",
           "#F28E2B",
           "#F4CC70",
           "#F28E2B",
           "#F28E2B",
           "#F28E2B",
           "#F28E2B",
           "#F28E2B",
           "#F28E2B",
           "#F28E2B",
           "#F28E2B",
           "#F28E2B",
           "#F28E2B",
           "#F28E2B",
           "#F28E2B",
           "#F28E2B",
           "#F28E2B",
           "#F28E2B",
           "#F28E2B",
           "#F28E2B",
           "#F28E2B",
           "#F28E2B",
           "#F28E2B",
           "#F28E2B",
           "#F28E2B",
           "#F28E2B",
           "#F28E2B",
           "#F28E2B",
           "#F28E2B",
           "#F28E2B",
           "#F28E2B",
           "#F28E2B",
           "#F28E2B",
           "#F28E2B",
           "#F28E2B",
           "#F28E2B",
           "#F28E2B",
           "#F28E2B",
           "#F28E2B",
           "#F28E2B",
           "#F28E2B",
           "#F28E2B",
           "#258039",
           "#F28E2B",
           "#F28E2B",
           "#F28E2B",
           "#F28E2B",
           "#F28E2B",
           "#F28E2B",
           "#F28E2B",
           "#F28E2B",
           "#F28E2B",
           "#F28E2B",
           "#F28E2B",
           "#F28E2B",
           "#F28E2B",
           "#F28E2B",
           "#F28E2B",
           "#F28E2B",
           "#F28E2B",
           "#7A7A7A",
           "#F28E2B",
           "#F28E2B"
          ],
          "size": [
           25.0,
           19.6448087431694,
           17.193598750975802,
           15.101483216237314,
           13.462138953942233,
           13.243559718969555,
           13.071818891491024,
           13.00936768149883,
           11.869633099141295,
           11.666666666666664,
           11.572989851678376,
           11.541764246682277,
           9.839968774395004,
           8.950039032006245,
           8.715846994535518,
           8.559718969555036,
           8.231850117096018,
           7.857142857142857,
           7.779078844652615,
           7.779078844652615,
           7.5917252146760354,
           7.357533177205308,
           7.3263075722092115,
           7.295081967213115,
           7.263856362217018,
           7.185792349726777,
           7.15456674473068,
           7.107728337236534,
           7.060889929742389,
           7.029664324746292,
           6.889149102263856,
           6.65495706479313,
           6.623731459797034,
           6.592505854800937,
           6.592505854800937,
           6.5768930523028875,
           6.483216237314597,
           6.280249804839969,
           6.217798594847776,
           6.202185792349727,
           6.17096018735363,
           6.108508977361437,
           6.108508977361437,
           6.046057767369243,
           6.030444964871195,
           6.014832162373146,
           5.936768149882904,
           5.889929742388759,
           5.827478532396565,
           5.796252927400468,
           5.796252927400468,
           5.78064012490242,
           5.7650273224043715,
           5.749414519906323,
           5.733801717408275,
           5.702576112412178,
           5.671350507416081,
           5.655737704918033,
           5.640124902419984,
           5.624512099921936,
           5.624512099921936,
           5.608899297423887,
           5.593286494925839,
           5.593286494925839,
           5.562060889929742,
           5.530835284933645,
           5.530835284933645,
           5.530835284933645,
           5.530835284933645,
           5.515222482435597,
           5.515222482435597,
           5.515222482435597,
           5.483996877439501,
           5.4683840749414525,
           5.4683840749414525,
           5.452771272443404,
           5.437158469945356,
           5.437158469945356,
           5.437158469945356,
           5.421545667447307,
           5.405932864949259,
           5.405932864949259,
           5.405932864949259,
           5.39032006245121,
           5.39032006245121,
           5.39032006245121,
           5.39032006245121,
           5.39032006245121,
           5.359094457455114,
           5.359094457455114,
           5.343481654957065,
           5.327868852459017,
           5.327868852459017,
           5.327868852459017,
           5.312256049960968,
           5.2810304449648715,
           5.265417642466823,
           5.265417642466823,
           5.265417642466823,
           5.265417642466823,
           5.249804839968775,
           5.249804839968775,
           5.234192037470726,
           5.234192037470726,
           5.234192037470726,
           5.218579234972678,
           5.202966432474629,
           5.202966432474629,
           5.187353629976581,
           5.187353629976581,
           5.140515222482436,
           5.124902419984387,
           5.124902419984387,
           5.124902419984387,
           5.124902419984387,
           5.109289617486339,
           5.109289617486339,
           5.0936768149882905,
           5.0936768149882905,
           5.0936768149882905,
           5.0936768149882905,
           5.0936768149882905,
           5.078064012490242,
           5.078064012490242,
           5.078064012490242,
           5.078064012490242,
           5.062451209992194,
           5.062451209992194,
           5.062451209992194,
           5.062451209992194,
           5.062451209992194,
           5.062451209992194,
           5.062451209992194,
           5.062451209992194,
           5.062451209992194,
           5.062451209992194,
           5.062451209992194,
           5.046838407494145,
           5.046838407494145,
           5.046838407494145,
           5.046838407494145,
           5.046838407494145,
           5.046838407494145,
           5.046838407494145,
           5.046838407494145,
           5.046838407494145,
           5.031225604996097,
           5.031225604996097,
           5.031225604996097,
           5.031225604996097,
           5.031225604996097,
           5.031225604996097,
           5.031225604996097,
           5.031225604996097,
           5.031225604996097,
           5.031225604996097,
           5.031225604996097,
           5.031225604996097,
           5.015612802498048,
           5.015612802498048,
           5.015612802498048,
           5.015612802498048,
           5.015612802498048,
           5.015612802498048,
           5.015612802498048,
           5.015612802498048,
           5.015612802498048,
           5.015612802498048,
           5.015612802498048,
           5.0,
           5.0,
           5.0,
           5.0,
           5.0,
           5.0,
           5.0,
           5.0,
           5.0,
           5.0,
           5.0,
           5.0,
           5.0,
           5.0,
           5.0,
           5.0,
           5.0,
           5.0
          ]
         },
         "mode": "markers+text",
         "text": [
          "<b>Eddard-Stark</b></br></br><sup>Stark</sup>",
          "<b>Robert-Baratheon</b></br></br><sup>Baratheon</sup>",
          "<b>Jon-Snow</b></br></br><sup>Snow</sup>",
          "<b>Tyrion-Lannister</b></br></br><sup>Lannister</sup>",
          "<b>Sansa-Stark</b></br></br><sup>Stark</sup>",
          "<b>Bran-Stark</b></br></br><sup>Stark</sup>",
          "<b>Catelyn-Stark</b></br></br><sup>Stark</sup>",
          "<b>Robb-Stark</b></br></br><sup>Stark</sup>",
          "<b>Daenerys-Targaryen</b></br></br><sup>Targaryen</sup>",
          "<b>Arya-Stark</b></br></br><sup>Stark</sup>",
          "<b>Cersei-Lannister</b></br></br><sup>Lannister</sup>",
          "<b>Joffrey-Baratheon</b></br></br><sup>Baratheon</sup>",
          "<b>Petyr-Baelish</b></br></br><sup>Baelish</sup>",
          "<b>Drogo</b></br></br><sup>Other</sup>",
          "<b>Jaime-Lannister</b></br></br><sup>Lannister</sup>",
          "<b>Varys</b></br></br><sup>Other</sup>",
          "<b>Luwin</b></br></br><sup>Other</sup>",
          "<b>Renly-Baratheon</b></br></br><sup>Baratheon</sup>",
          "<b>Tywin-Lannister</b></br></br><sup>Lannister</sup>",
          "<b>Jeor-Mormont</b></br></br><sup>Mormont</sup>",
          "<b>Jon-Arryn</b></br></br><sup>Arryn</sup>",
          "<b>Jorah-Mormont</b></br></br><sup>Mormont</sup>",
          "<b>Jory-Cassel</b></br></br><sup>Cassel</sup>",
          "<b>Pycelle</b></br></br><sup>Other</sup>",
          "<b>Samwell-Tarly</b></br></br><sup>Other</sup>",
          "<b>Barristan-Selmy</b></br></br><sup>Other</sup>",
          "<b>Mordane</b></br></br><sup>Other</sup>",
          "<b>Lysa-Arryn</b></br></br><sup>Arryn</sup>",
          "<b>Sandor-Clegane</b></br></br><sup>Other</sup>",
          "<b>Theon-Greyjoy</b></br></br><sup>Other</sup>",
          "<b>Rodrik-Cassel</b></br></br><sup>Cassel</sup>",
          "<b>Bronn</b></br></br><sup>Other</sup>",
          "<b>Pypar</b></br></br><sup>Other</sup>",
          "<b>Stannis-Baratheon</b></br></br><sup>Baratheon</sup>",
          "<b>Viserys-Targaryen</b></br></br><sup>Targaryen</sup>",
          "<b>Benjen-Stark</b></br></br><sup>Stark</sup>",
          "<b>Rickon-Stark</b></br></br><sup>Stark</sup>",
          "<b>Grenn</b></br></br><sup>Other</sup>",
          "<b>Irri</b></br></br><sup>Other</sup>",
          "<b>Alliser-Thorne</b></br></br><sup>Other</sup>",
          "<b>Loras-Tyrell</b></br></br><sup>Other</sup>",
          "<b>Aemon-Targaryen</b></br></br><sup>Targaryen</sup>",
          "<b>Gregor-Clegane</b></br></br><sup>Other</sup>",
          "<b>Illyrio-Mopatis</b></br></br><sup>Other</sup>",
          "<b>Brynden-Tully</b></br></br><sup>Other</sup>",
          "<b>Qotho</b></br></br><sup>Other</sup>",
          "<b>Mirri-Maz-Duur</b></br></br><sup>Other</sup>",
          "<b>Jhiqui</b></br></br><sup>Other</sup>",
          "<b>Halder</b></br></br><sup>Other</sup>",
          "<b>Jeyne-Poole</b></br></br><sup>Other</sup>",
          "<b>Myrcella-Baratheon</b></br></br><sup>Baratheon</sup>",
          "<b>Rhaegar-Targaryen</b></br></br><sup>Targaryen</sup>",
          "<b>Hodor</b></br></br><sup>Other</sup>",
          "<b>Doreah</b></br></br><sup>Other</sup>",
          "<b>Mycah</b></br></br><sup>Other</sup>",
          "<b>Edmure-Tully</b></br></br><sup>Other</sup>",
          "<b>Rickard-Karstark</b></br></br><sup>Other</sup>",
          "<b>Haggo</b></br></br><sup>Other</sup>",
          "<b>Shagga</b></br></br><sup>Other</sup>",
          "<b>Jhogo</b></br></br><sup>Other</sup>",
          "<b>Ilyn-Payne</b></br></br><sup>Other</sup>",
          "<b>Tomard</b></br></br><sup>Other</sup>",
          "<b>Walder-Frey</b></br></br><sup>Other</sup>",
          "<b>Brandon-Stark</b></br></br><sup>Stark</sup>",
          "<b>Jon-Umber-(Greatjon)</b></br></br><sup>Other</sup>",
          "<b>Aerys-II-Targaryen</b></br></br><sup>Targaryen</sup>",
          "<b>Vardis-Egen</b></br></br><sup>Other</sup>",
          "<b>Tommen-Baratheon</b></br></br><sup>Baratheon</sup>",
          "<b>Hallis-Mollen</b></br></br><sup>Other</sup>",
          "<b>Meryn-Trant</b></br></br><sup>Other</sup>",
          "<b>Aggo</b></br></br><sup>Other</sup>",
          "<b>Lyanna-Stark</b></br></br><sup>Stark</sup>",
          "<b>Waymar-Royce</b></br></br><sup>Other</sup>",
          "<b>Nan</b></br></br><sup>Other</sup>",
          "<b>Yoren</b></br></br><sup>Other</sup>",
          "<b>Alyn</b></br></br><sup>Other</sup>",
          "<b>Osha</b></br></br><sup>Other</sup>",
          "<b>Todder</b></br></br><sup>Other</sup>",
          "<b>Syrio-Forel</b></br></br><sup>Other</sup>",
          "<b>Will-(prologue)</b></br></br><sup>Other</sup>",
          "<b>Gared</b></br></br><sup>Other</sup>",
          "<b>Marillion</b></br></br><sup>Other</sup>",
          "<b>Cohollo</b></br></br><sup>Other</sup>",
          "<b>Bowen-Marsh</b></br></br><sup>Other</sup>",
          "<b>Willis-Wode</b></br></br><sup>Other</sup>",
          "<b>Vayon-Poole</b></br></br><sup>Other</sup>",
          "<b>Beric-Dondarrion</b></br></br><sup>Other</sup>",
          "<b>Kevan-Lannister</b></br></br><sup>Lannister</sup>",
          "<b>Rast</b></br></br><sup>Other</sup>",
          "<b>Boros-Blount</b></br></br><sup>Other</sup>",
          "<b>Janos-Slynt</b></br></br><sup>Other</sup>",
          "<b>Rakharo</b></br></br><sup>Other</sup>",
          "<b>Hoster-Tully</b></br></br><sup>Other</sup>",
          "<b>Jaremy-Rykker</b></br></br><sup>Other</sup>",
          "<b>Galbart-Glover</b></br></br><sup>Other</sup>",
          "<b>Quaro</b></br></br><sup>Other</sup>",
          "<b>Mord</b></br></br><sup>Other</sup>",
          "<b>Conn</b></br></br><sup>Other</sup>",
          "<b>Robert-Arryn</b></br></br><sup>Arryn</sup>",
          "<b>Hullen</b></br></br><sup>Other</sup>",
          "<b>Roose-Bolton</b></br></br><sup>Other</sup>",
          "<b>Chett</b></br></br><sup>Other</sup>",
          "<b>Harwin</b></br></br><sup>Other</sup>",
          "<b>Ogo</b></br></br><sup>Other</sup>",
          "<b>Marq-Piper</b></br></br><sup>Other</sup>",
          "<b>Gerold-Hightower</b></br></br><sup>Other</sup>",
          "<b>Chiggen</b></br></br><sup>Other</sup>",
          "<b>Cayn</b></br></br><sup>Other</sup>",
          "<b>Wyl-(guard)</b></br></br><sup>Other</sup>",
          "<b>Shae</b></br></br><sup>Other</sup>",
          "<b>Raymun-Darry</b></br></br><sup>Other</sup>",
          "<b>Karyl-Vance</b></br></br><sup>Other</sup>",
          "<b>Jyck</b></br></br><sup>Other</sup>",
          "<b>Torrhen-Karstark</b></br></br><sup>Other</sup>",
          "<b>Albett</b></br></br><sup>Other</sup>",
          "<b>Tytos-Blackwood</b></br></br><sup>Other</sup>",
          "<b>Morrec</b></br></br><sup>Other</sup>",
          "<b>Mya-Stone</b></br></br><sup>Other</sup>",
          "<b>Danwell-Frey</b></br></br><sup>Other</sup>",
          "<b>Aegon-I-Targaryen</b></br></br><sup>Targaryen</sup>",
          "<b>Addam-Marbrand</b></br></br><sup>Other</sup>",
          "<b>Eon-Hunter</b></br></br><sup>Other</sup>",
          "<b>Maege-Mormont</b></br></br><sup>Mormont</sup>",
          "<b>Heward</b></br></br><sup>Other</sup>",
          "<b>High-Septon-(fat_one)</b></br></br><sup>Other</sup>",
          "<b>Stevron-Frey</b></br></br><sup>Other</sup>",
          "<b>Rickard-Stark</b></br></br><sup>Stark</sup>",
          "<b>Gunthor-son-of-Gurn</b></br></br><sup>Other</sup>",
          "<b>Timett</b></br></br><sup>Other</sup>",
          "<b>Stiv</b></br></br><sup>Other</sup>",
          "<b>Joseth</b></br></br><sup>Other</sup>",
          "<b>Dolf</b></br></br><sup>Other</sup>",
          "<b>Tobho-Mott</b></br></br><sup>Other</sup>",
          "<b>Colemon</b></br></br><sup>Other</sup>",
          "<b>Desmond</b></br></br><sup>Other</sup>",
          "<b>Balon-Greyjoy</b></br></br><sup>Other</sup>",
          "<b>Donal-Noye</b></br></br><sup>Other</sup>",
          "<b>Wendel-Manderly</b></br></br><sup>Other</sup>",
          "<b>Hosteen-Frey</b></br></br><sup>Other</sup>",
          "<b>Balon-Swann</b></br></br><sup>Other</sup>",
          "<b>Nestor-Royce</b></br></br><sup>Other</sup>",
          "<b>Daryn-Hornwood</b></br></br><sup>Other</sup>",
          "<b>Dareon</b></br></br><sup>Other</sup>",
          "<b>Jared-Frey</b></br></br><sup>Other</sup>",
          "<b>Mace-Tyrell</b></br></br><sup>Other</sup>",
          "<b>Jommo</b></br></br><sup>Other</sup>",
          "<b>Clydas</b></br></br><sup>Other</sup>",
          "<b>Hobb</b></br></br><sup>Other</sup>",
          "<b>Thoros-of-Myr</b></br></br><sup>Other</sup>",
          "<b>Chella</b></br></br><sup>Other</sup>",
          "<b>Randyll-Tarly</b></br></br><sup>Other</sup>",
          "<b>Kurleket</b></br></br><sup>Other</sup>",
          "<b>Rhaego</b></br></br><sup>Other</sup>",
          "<b>Eroeh</b></br></br><sup>Other</sup>",
          "<b>Othor</b></br></br><sup>Other</sup>",
          "<b>Coratt</b></br></br><sup>Other</sup>",
          "<b>Masha-Heddle</b></br></br><sup>Other</sup>",
          "<b>Joss</b></br></br><sup>Other</sup>",
          "<b>Arthur-Dayne</b></br></br><sup>Other</sup>",
          "<b>Porther</b></br></br><sup>Other</sup>",
          "<b>Varly</b></br></br><sup>Other</sup>",
          "<b>Dywen</b></br></br><sup>Other</sup>",
          "<b>Ulf-son-of-Umar</b></br></br><sup>Other</sup>",
          "<b>Leo-Lefford</b></br></br><sup>Other</sup>",
          "<b>Jacks</b></br></br><sup>Other</sup>",
          "<b>Clement-Piper</b></br></br><sup>Other</sup>",
          "<b>Maegor-I-Targaryen</b></br></br><sup>Targaryen</sup>",
          "<b>Fogo</b></br></br><sup>Other</sup>",
          "<b>Tregar</b></br></br><sup>Other</sup>",
          "<b>Arys-Oakheart</b></br></br><sup>Other</sup>",
          "<b>Jonos-Bracken</b></br></br><sup>Other</sup>",
          "<b>Hugh</b></br></br><sup>Other</sup>",
          "<b>Wylla</b></br></br><sup>Other</sup>",
          "<b>Jafer-Flowers</b></br></br><sup>Other</sup>",
          "<b>Mychel-Redfort</b></br></br><sup>Other</sup>",
          "<b>Paxter-Redwyne</b></br></br><sup>Other</sup>",
          "<b>Oswell-Whent</b></br></br><sup>Other</sup>",
          "<b>Moreo-Tumitis</b></br></br><sup>Other</sup>",
          "<b>Matthar</b></br></br><sup>Other</sup>",
          "<b>Mance-Rayder</b></br></br><sup>Other</sup>",
          "<b>Howland-Reed</b></br></br><sup>Other</sup>",
          "<b>Harys-Swyft</b></br></br><sup>Other</sup>",
          "<b>Gendry</b></br></br><sup>Other</sup>",
          "<b>Donnel-Waynwood</b></br></br><sup>Other</sup>",
          "<b>Lancel-Lannister</b></br></br><sup>Lannister</sup>",
          "<b>Lyn-Corbray</b></br></br><sup>Other</sup>",
          "<b>Hali</b></br></br><sup>Other</sup>"
         ],
         "textfont": {
          "size": 10
         },
         "textposition": "top center",
         "x": [
          0.10648594579424507,
          0.04691105159571611,
          -0.14172448166879853,
          -0.06482818728114911,
          0.0456143512727685,
          -0.08490608606434874,
          0.07103519122741635,
          -0.043314398094237976,
          0.0068743915869946895,
          0.03199436451402057,
          0.065324051953967,
          0.06727571942920114,
          0.05648083182260479,
          -0.06562876222454485,
          0.08411778299242077,
          0.036618960965745066,
          -0.09543015503848222,
          0.09935036609841824,
          0.032045134513899176,
          -0.21544125756345248,
          0.017573226254451197,
          -0.019064354672386447,
          -0.014992917689555097,
          0.0857655486770623,
          -0.26837498129823595,
          0.12937540553129614,
          0.02543575930860007,
          0.12653315489042977,
          0.12952798707083144,
          -0.018570992946724544,
          0.0023389107467837325,
          -0.010611193952538631,
          -0.25424319562072223,
          0.10522382841735935,
          -0.027909544187174198,
          -0.12405528656493038,
          -0.031226770640811058,
          -0.27894341162087527,
          -0.014371425948954717,
          -0.230372819930384,
          0.18042954714332093,
          -0.3428145406562496,
          0.07693119390322473,
          0.001079720675957324,
          0.07835692800964725,
          -0.0644145317183468,
          -0.024755329664524837,
          -0.09337088732850068,
          -0.28276418942434495,
          0.15671453143493377,
          0.11358554520503127,
          0.014653623613678292,
          -0.2045012168232058,
          -0.04154279145219459,
          0.07212180934310158,
          0.023076472169538148,
          -0.07201238999138217,
          -0.05808685149545533,
          -0.06265965517457163,
          0.01830446134818916,
          0.10493895598371764,
          0.08399729181974153,
          0.10924972152460961,
          0.027448936692904862,
          -0.12111407816859568,
          0.17880449780327884,
          0.11085422952634162,
          -0.02099681451767266,
          -0.08801516159779224,
          0.17832790627769748,
          0.017658330818026202,
          0.07854020176175182,
          -0.4542887097797289,
          -0.21240253818389077,
          -0.13829944821982637,
          0.024776477722474877,
          -0.21335158047053362,
          -0.2956201928286358,
          0.2280802487449413,
          -0.6345393374116545,
          -0.506655319321173,
          0.009807945683700232,
          -0.10280686100720865,
          -0.3152731669301327,
          -0.03202913141501781,
          0.13920241258330932,
          0.2514470848015286,
          0.038725095394137404,
          -0.2496285260136785,
          0.19767877967959777,
          0.13419213924015455,
          0.008411991256053361,
          0.15596838332473842,
          -0.20527231708199528,
          -0.06014772243512612,
          -0.02160750082307075,
          -0.28971459286676854,
          -0.14645322420153217,
          0.09616131519156314,
          -0.11711798678681166,
          -0.14337801887454882,
          -0.36933534667252454,
          -0.05720282117988841,
          -0.22439677649777381,
          -0.0813601539025903,
          0.3755499394803089,
          -0.04029994691827284,
          0.21157640129784488,
          -0.023801432063556165,
          -0.09735053033051182,
          0.16783225171148508,
          -0.29079684617635365,
          -0.2839334301501014,
          0.23060690400641837,
          -0.24433559030060994,
          0.21953606299418665,
          -0.3258417493624405,
          0.25410521431873784,
          0.29367858056872226,
          0.11077050567470466,
          0.2221634716219403,
          0.21897464053883478,
          -0.2801632648624272,
          -0.10784701806901942,
          0.2795070600245484,
          0.14388716796303816,
          -0.15523425905447666,
          -0.3440346576606324,
          -0.09673037189424312,
          -0.253863738754804,
          -0.24871508130847456,
          -0.0976807148551008,
          0.3685118172556936,
          0.18040745154196722,
          0.14487176533832885,
          0.12071173045894634,
          -0.13816591358780214,
          0.04229755326967206,
          0.41846518306961744,
          0.31963611576040496,
          0.1717819267667743,
          0.35265323669429144,
          -0.33594387595066927,
          0.3807309312850634,
          0.4616907850654088,
          -0.18375787116317716,
          -0.5369588011419857,
          -0.37573561285877116,
          0.5172502223743907,
          -0.2978344138903758,
          -0.47670374198125887,
          -0.34610266209825746,
          -0.11679073796796821,
          0.09195990522416149,
          -0.19981011994212527,
          -0.23277851031558439,
          0.30550982251857833,
          0.343135105403023,
          0.635654113960773,
          0.20642246978135045,
          0.3244816211591838,
          -0.27855156243920004,
          -0.04561179896908385,
          -0.33568785814777485,
          0.28274345320492605,
          -0.5480718902189856,
          -0.1396102611343574,
          -0.33729371085009,
          0.35167629339609957,
          0.3375789713019098,
          0.3917341246761284,
          -0.2001611467886124,
          0.28301864028479395,
          -0.2889232178917337,
          0.28769278907206747,
          0.6388764223728481,
          0.6330287103641878,
          0.0174810043311655,
          -0.40940545005844886,
          -0.07202237068564803,
          0.24432197951418916,
          0.3401245727414853,
          0.38772648172092355,
          0.22490435256895988,
          0.28203926709016386,
          0.3773848866650795,
          -0.33762955600626954
         ],
         "y": [
          0.1121088681224815,
          0.11908953963479799,
          -0.17936515963381333,
          -0.13603594747656403,
          0.05750169859092548,
          -9.500509863035247E-4,
          -0.13779150827046416,
          -0.05668054863819679,
          0.4737306563724346,
          0.02078565327859566,
          -0.011306557654175996,
          0.009801685120611444,
          0.03260685690219549,
          0.5779068024104821,
          -0.0127285298056426,
          0.0952360213840959,
          -0.033676325759921015,
          0.0404126925892233,
          -0.039305273695998115,
          -0.17131508038589652,
          0.04811545290389017,
          0.48259338219442455,
          0.07085877790405458,
          0.08225288197648849,
          -0.26571040585496464,
          0.06281701710849813,
          -0.009281754547322905,
          -0.09013791103676602,
          0.019266875519648598,
          -0.09792368559960818,
          -0.06416374395556995,
          -0.261238230356099,
          -0.33328172231759384,
          0.02502521588793754,
          0.42414680182602954,
          -0.1404897871753785,
          -0.04175810966117788,
          -0.30013732874856497,
          0.559054333378203,
          -0.27393144522537693,
          0.10241972177968102,
          -0.3189554820482568,
          0.04684415948750067,
          0.4279871367525846,
          -0.1613095772366983,
          0.6399533884998166,
          0.632344800738363,
          0.603861909047303,
          -0.34724935219928904,
          0.05471148992048057,
          -0.02132348751762153,
          0.26775314626515023,
          0.03751775214914116,
          0.5798431442327341,
          0.14112253354003632,
          -0.07761245006425639,
          0.023898206162544497,
          0.686396356589311,
          -0.48662507972631747,
          0.6141754614620935,
          0.12975215603867807,
          0.17503157989834955,
          -0.283093941314091,
          0.20554547129797635,
          -0.027536695165753702,
          0.14537326601673276,
          -0.25076953405138547,
          -0.0021973061319556933,
          -0.12258939900067763,
          0.05658916185941756,
          0.6461942705341531,
          0.24050048357278792,
          -0.2591263923936027,
          0.00183968232902158,
          -0.09318015549971584,
          0.23769593769761657,
          -0.0406260749759265,
          -0.3796356429562429,
          0.14099773962857906,
          -0.3334580270401733,
          -0.26548366816239566,
          -0.22617742973005572,
          0.6762262571885916,
          -0.26076046174051876,
          -0.24056066045048197,
          0.10402928691784472,
          0.10344060167222606,
          -0.17198252621642945,
          -0.36938882317979926,
          -0.007191383086253683,
          0.12636956328109705,
          0.6967729280253329,
          -0.0920572605417538,
          -0.3549798117784053,
          0.08023590230817076,
          0.6967630051148899,
          -0.11951445264392645,
          -0.49644141880679776,
          -0.22373173822578152,
          0.08073306188728846,
          0.03086387704045434,
          -0.28813122400786007,
          0.21711286247210781,
          0.8300676277419687,
          0.057818626548124384,
          0.12966861194928017,
          -0.3425045562821123,
          0.20613843137589452,
          0.18600123264216076,
          -0.3312462527729454,
          0.2802025259265742,
          0.04128350354796108,
          -0.20765598251752873,
          0.0017181780161025716,
          -0.4189665065441949,
          -0.2881575947262707,
          -0.19817554510506186,
          -0.3376073529707924,
          -0.6239133141166978,
          0.39154871839973115,
          -0.11998429019297317,
          -0.22966591651311055,
          0.08556578307727505,
          0.28413969505424014,
          0.0567282788276434,
          -0.38083504269794044,
          0.20786219138544812,
          -0.15407580296344667,
          -0.40245672310061986,
          0.0017766542400898446,
          0.09724784517348031,
          -0.7304481163247641,
          0.21451291763524685,
          -0.3556137602753549,
          0.2267648016858255,
          0.30050702465491735,
          -0.44490624763376213,
          -0.2624986623493546,
          -0.8055001208801081,
          0.013691041133270949,
          -0.30082156866848203,
          0.08789264370957128,
          -0.3951268133519808,
          -0.8273480609307851,
          0.33420994533850534,
          0.7857540610139122,
          -0.48902384481666417,
          -0.3493284146966489,
          0.10240336312088454,
          -0.16343024392794284,
          -0.4306599846466103,
          -0.11436160134328884,
          0.8127074410429442,
          0.7164079758909122,
          -0.445874147948303,
          -0.730752647910173,
          -0.26999159841945547,
          0.28054377093701804,
          0.1083413621289803,
          0.36991690910291697,
          0.3146649178705085,
          -0.44207753125786103,
          -0.7335529475468804,
          -0.07637760921540732,
          0.30913824740378004,
          0.10329084895582098,
          0.26577036502076073,
          1.0,
          0.24407204099973195,
          -0.07646121379706596,
          -0.4729578740484326,
          0.22658719476541003,
          0.34847241783526645,
          -0.6001755448664708,
          -0.3112414340482414,
          0.4919013919132946,
          0.16456660295288403,
          -0.3526522905287586,
          -0.24393767896380067,
          -0.40771895621341314,
          0.35730575770305933,
          -0.11888428352771802,
          0.18177160979259743,
          -0.37910512208272845,
          0.23507073677138712,
          -0.2092881444568755,
          0.13601910006038184
         ],
         "type": "scatter"
        }
       ],
       "layout": {
        "paper_bgcolor": "rgba(0,0,0,0)",
        "plot_bgcolor": "rgba(0,0,0,0)",
        "template": {
         "data": {
          "bar": [
           {
            "error_x": {
             "color": "#2a3f5f"
            },
            "error_y": {
             "color": "#2a3f5f"
            },
            "marker": {
             "line": {
              "color": "#E5ECF6",
              "width": 0.5
             },
             "pattern": {
              "fillmode": "overlay",
              "size": 10,
              "solidity": 0.2
             }
            },
            "type": "bar"
           }
          ],
          "barpolar": [
           {
            "marker": {
             "line": {
              "color": "#E5ECF6",
              "width": 0.5
             },
             "pattern": {
              "fillmode": "overlay",
              "size": 10,
              "solidity": 0.2
             }
            },
            "type": "barpolar"
           }
          ],
          "carpet": [
           {
            "aaxis": {
             "endlinecolor": "#2a3f5f",
             "gridcolor": "white",
             "linecolor": "white",
             "minorgridcolor": "white",
             "startlinecolor": "#2a3f5f"
            },
            "baxis": {
             "endlinecolor": "#2a3f5f",
             "gridcolor": "white",
             "linecolor": "white",
             "minorgridcolor": "white",
             "startlinecolor": "#2a3f5f"
            },
            "type": "carpet"
           }
          ],
          "choropleth": [
           {
            "colorbar": {
             "outlinewidth": 0,
             "ticks": ""
            },
            "type": "choropleth"
           }
          ],
          "contour": [
           {
            "colorbar": {
             "outlinewidth": 0,
             "ticks": ""
            },
            "colorscale": [
             [
              0.0,
              "#0d0887"
             ],
             [
              0.1111111111111111,
              "#46039f"
             ],
             [
              0.2222222222222222,
              "#7201a8"
             ],
             [
              0.3333333333333333,
              "#9c179e"
             ],
             [
              0.4444444444444444,
              "#bd3786"
             ],
             [
              0.5555555555555556,
              "#d8576b"
             ],
             [
              0.6666666666666666,
              "#ed7953"
             ],
             [
              0.7777777777777778,
              "#fb9f3a"
             ],
             [
              0.8888888888888888,
              "#fdca26"
             ],
             [
              1.0,
              "#f0f921"
             ]
            ],
            "type": "contour"
           }
          ],
          "contourcarpet": [
           {
            "colorbar": {
             "outlinewidth": 0,
             "ticks": ""
            },
            "type": "contourcarpet"
           }
          ],
          "heatmap": [
           {
            "colorbar": {
             "outlinewidth": 0,
             "ticks": ""
            },
            "colorscale": [
             [
              0.0,
              "#0d0887"
             ],
             [
              0.1111111111111111,
              "#46039f"
             ],
             [
              0.2222222222222222,
              "#7201a8"
             ],
             [
              0.3333333333333333,
              "#9c179e"
             ],
             [
              0.4444444444444444,
              "#bd3786"
             ],
             [
              0.5555555555555556,
              "#d8576b"
             ],
             [
              0.6666666666666666,
              "#ed7953"
             ],
             [
              0.7777777777777778,
              "#fb9f3a"
             ],
             [
              0.8888888888888888,
              "#fdca26"
             ],
             [
              1.0,
              "#f0f921"
             ]
            ],
            "type": "heatmap"
           }
          ],
          "heatmapgl": [
           {
            "colorbar": {
             "outlinewidth": 0,
             "ticks": ""
            },
            "colorscale": [
             [
              0.0,
              "#0d0887"
             ],
             [
              0.1111111111111111,
              "#46039f"
             ],
             [
              0.2222222222222222,
              "#7201a8"
             ],
             [
              0.3333333333333333,
              "#9c179e"
             ],
             [
              0.4444444444444444,
              "#bd3786"
             ],
             [
              0.5555555555555556,
              "#d8576b"
             ],
             [
              0.6666666666666666,
              "#ed7953"
             ],
             [
              0.7777777777777778,
              "#fb9f3a"
             ],
             [
              0.8888888888888888,
              "#fdca26"
             ],
             [
              1.0,
              "#f0f921"
             ]
            ],
            "type": "heatmapgl"
           }
          ],
          "histogram": [
           {
            "marker": {
             "pattern": {
              "fillmode": "overlay",
              "size": 10,
              "solidity": 0.2
             }
            },
            "type": "histogram"
           }
          ],
          "histogram2d": [
           {
            "colorbar": {
             "outlinewidth": 0,
             "ticks": ""
            },
            "colorscale": [
             [
              0.0,
              "#0d0887"
             ],
             [
              0.1111111111111111,
              "#46039f"
             ],
             [
              0.2222222222222222,
              "#7201a8"
             ],
             [
              0.3333333333333333,
              "#9c179e"
             ],
             [
              0.4444444444444444,
              "#bd3786"
             ],
             [
              0.5555555555555556,
              "#d8576b"
             ],
             [
              0.6666666666666666,
              "#ed7953"
             ],
             [
              0.7777777777777778,
              "#fb9f3a"
             ],
             [
              0.8888888888888888,
              "#fdca26"
             ],
             [
              1.0,
              "#f0f921"
             ]
            ],
            "type": "histogram2d"
           }
          ],
          "histogram2dcontour": [
           {
            "colorbar": {
             "outlinewidth": 0,
             "ticks": ""
            },
            "colorscale": [
             [
              0.0,
              "#0d0887"
             ],
             [
              0.1111111111111111,
              "#46039f"
             ],
             [
              0.2222222222222222,
              "#7201a8"
             ],
             [
              0.3333333333333333,
              "#9c179e"
             ],
             [
              0.4444444444444444,
              "#bd3786"
             ],
             [
              0.5555555555555556,
              "#d8576b"
             ],
             [
              0.6666666666666666,
              "#ed7953"
             ],
             [
              0.7777777777777778,
              "#fb9f3a"
             ],
             [
              0.8888888888888888,
              "#fdca26"
             ],
             [
              1.0,
              "#f0f921"
             ]
            ],
            "type": "histogram2dcontour"
           }
          ],
          "mesh3d": [
           {
            "colorbar": {
             "outlinewidth": 0,
             "ticks": ""
            },
            "type": "mesh3d"
           }
          ],
          "parcoords": [
           {
            "line": {
             "colorbar": {
              "outlinewidth": 0,
              "ticks": ""
             }
            },
            "type": "parcoords"
           }
          ],
          "pie": [
           {
            "automargin": true,
            "type": "pie"
           }
          ],
          "scatter": [
           {
            "marker": {
             "colorbar": {
              "outlinewidth": 0,
              "ticks": ""
             }
            },
            "type": "scatter"
           }
          ],
          "scatter3d": [
           {
            "line": {
             "colorbar": {
              "outlinewidth": 0,
              "ticks": ""
             }
            },
            "marker": {
             "colorbar": {
              "outlinewidth": 0,
              "ticks": ""
             }
            },
            "type": "scatter3d"
           }
          ],
          "scattercarpet": [
           {
            "marker": {
             "colorbar": {
              "outlinewidth": 0,
              "ticks": ""
             }
            },
            "type": "scattercarpet"
           }
          ],
          "scattergeo": [
           {
            "marker": {
             "colorbar": {
              "outlinewidth": 0,
              "ticks": ""
             }
            },
            "type": "scattergeo"
           }
          ],
          "scattergl": [
           {
            "marker": {
             "colorbar": {
              "outlinewidth": 0,
              "ticks": ""
             }
            },
            "type": "scattergl"
           }
          ],
          "scattermapbox": [
           {
            "marker": {
             "colorbar": {
              "outlinewidth": 0,
              "ticks": ""
             }
            },
            "type": "scattermapbox"
           }
          ],
          "scatterpolar": [
           {
            "marker": {
             "colorbar": {
              "outlinewidth": 0,
              "ticks": ""
             }
            },
            "type": "scatterpolar"
           }
          ],
          "scatterpolargl": [
           {
            "marker": {
             "colorbar": {
              "outlinewidth": 0,
              "ticks": ""
             }
            },
            "type": "scatterpolargl"
           }
          ],
          "scatterternary": [
           {
            "marker": {
             "colorbar": {
              "outlinewidth": 0,
              "ticks": ""
             }
            },
            "type": "scatterternary"
           }
          ],
          "surface": [
           {
            "colorbar": {
             "outlinewidth": 0,
             "ticks": ""
            },
            "colorscale": [
             [
              0.0,
              "#0d0887"
             ],
             [
              0.1111111111111111,
              "#46039f"
             ],
             [
              0.2222222222222222,
              "#7201a8"
             ],
             [
              0.3333333333333333,
              "#9c179e"
             ],
             [
              0.4444444444444444,
              "#bd3786"
             ],
             [
              0.5555555555555556,
              "#d8576b"
             ],
             [
              0.6666666666666666,
              "#ed7953"
             ],
             [
              0.7777777777777778,
              "#fb9f3a"
             ],
             [
              0.8888888888888888,
              "#fdca26"
             ],
             [
              1.0,
              "#f0f921"
             ]
            ],
            "type": "surface"
           }
          ],
          "table": [
           {
            "cells": {
             "fill": {
              "color": "#EBF0F8"
             },
             "line": {
              "color": "white"
             }
            },
            "header": {
             "fill": {
              "color": "#C8D4E3"
             },
             "line": {
              "color": "white"
             }
            },
            "type": "table"
           }
          ]
         },
         "layout": {
          "annotationdefaults": {
           "arrowcolor": "#2a3f5f",
           "arrowhead": 0,
           "arrowwidth": 1
          },
          "autotypenumbers": "strict",
          "coloraxis": {
           "colorbar": {
            "outlinewidth": 0,
            "ticks": ""
           }
          },
          "colorscale": {
           "diverging": [
            [
             0,
             "#8e0152"
            ],
            [
             0.1,
             "#c51b7d"
            ],
            [
             0.2,
             "#de77ae"
            ],
            [
             0.3,
             "#f1b6da"
            ],
            [
             0.4,
             "#fde0ef"
            ],
            [
             0.5,
             "#f7f7f7"
            ],
            [
             0.6,
             "#e6f5d0"
            ],
            [
             0.7,
             "#b8e186"
            ],
            [
             0.8,
             "#7fbc41"
            ],
            [
             0.9,
             "#4d9221"
            ],
            [
             1,
             "#276419"
            ]
           ],
           "sequential": [
            [
             0.0,
             "#0d0887"
            ],
            [
             0.1111111111111111,
             "#46039f"
            ],
            [
             0.2222222222222222,
             "#7201a8"
            ],
            [
             0.3333333333333333,
             "#9c179e"
            ],
            [
             0.4444444444444444,
             "#bd3786"
            ],
            [
             0.5555555555555556,
             "#d8576b"
            ],
            [
             0.6666666666666666,
             "#ed7953"
            ],
            [
             0.7777777777777778,
             "#fb9f3a"
            ],
            [
             0.8888888888888888,
             "#fdca26"
            ],
            [
             1.0,
             "#f0f921"
            ]
           ],
           "sequentialminus": [
            [
             0.0,
             "#0d0887"
            ],
            [
             0.1111111111111111,
             "#46039f"
            ],
            [
             0.2222222222222222,
             "#7201a8"
            ],
            [
             0.3333333333333333,
             "#9c179e"
            ],
            [
             0.4444444444444444,
             "#bd3786"
            ],
            [
             0.5555555555555556,
             "#d8576b"
            ],
            [
             0.6666666666666666,
             "#ed7953"
            ],
            [
             0.7777777777777778,
             "#fb9f3a"
            ],
            [
             0.8888888888888888,
             "#fdca26"
            ],
            [
             1.0,
             "#f0f921"
            ]
           ]
          },
          "colorway": [
           "#636efa",
           "#EF553B",
           "#00cc96",
           "#ab63fa",
           "#FFA15A",
           "#19d3f3",
           "#FF6692",
           "#B6E880",
           "#FF97FF",
           "#FECB52"
          ],
          "font": {
           "color": "#2a3f5f"
          },
          "geo": {
           "bgcolor": "white",
           "lakecolor": "white",
           "landcolor": "#E5ECF6",
           "showlakes": true,
           "showland": true,
           "subunitcolor": "white"
          },
          "hoverlabel": {
           "align": "left"
          },
          "hovermode": "closest",
          "mapbox": {
           "style": "light"
          },
          "paper_bgcolor": "white",
          "plot_bgcolor": "#E5ECF6",
          "polar": {
           "angularaxis": {
            "gridcolor": "white",
            "linecolor": "white",
            "ticks": ""
           },
           "bgcolor": "#E5ECF6",
           "radialaxis": {
            "gridcolor": "white",
            "linecolor": "white",
            "ticks": ""
           }
          },
          "scene": {
           "xaxis": {
            "backgroundcolor": "#E5ECF6",
            "gridcolor": "white",
            "gridwidth": 2,
            "linecolor": "white",
            "showbackground": true,
            "ticks": "",
            "zerolinecolor": "white"
           },
           "yaxis": {
            "backgroundcolor": "#E5ECF6",
            "gridcolor": "white",
            "gridwidth": 2,
            "linecolor": "white",
            "showbackground": true,
            "ticks": "",
            "zerolinecolor": "white"
           },
           "zaxis": {
            "backgroundcolor": "#E5ECF6",
            "gridcolor": "white",
            "gridwidth": 2,
            "linecolor": "white",
            "showbackground": true,
            "ticks": "",
            "zerolinecolor": "white"
           }
          },
          "shapedefaults": {
           "line": {
            "color": "#2a3f5f"
           }
          },
          "ternary": {
           "aaxis": {
            "gridcolor": "white",
            "linecolor": "white",
            "ticks": ""
           },
           "baxis": {
            "gridcolor": "white",
            "linecolor": "white",
            "ticks": ""
           },
           "bgcolor": "#E5ECF6",
           "caxis": {
            "gridcolor": "white",
            "linecolor": "white",
            "ticks": ""
           }
          },
          "title": {
           "x": 0.05
          },
          "xaxis": {
           "automargin": true,
           "gridcolor": "white",
           "linecolor": "white",
           "ticks": "",
           "title": {
            "standoff": 15
           },
           "zerolinecolor": "white",
           "zerolinewidth": 2
          },
          "yaxis": {
           "automargin": true,
           "gridcolor": "white",
           "linecolor": "white",
           "ticks": "",
           "title": {
            "standoff": 15
           },
           "zerolinecolor": "white",
           "zerolinewidth": 2
          }
         }
        },
        "showlegend": false,
        "width": 1000,
        "height": 1000,
        "xaxis": {
         "showticklabels": false
        },
        "yaxis": {
         "showticklabels": false
        }
       },
       "config": {
        "plotlyServerURL": "https://plot.ly"
       }
      },
      "text/html": "<div>                            <div id=\"6f23257d-b82b-4bbc-a63d-6cef51a00417\" class=\"plotly-graph-div\" style=\"height:1000px; width:1000px;\"></div>            <script type=\"text/javascript\">                require([\"plotly\"], function(Plotly) {                    window.PLOTLYENV=window.PLOTLYENV || {};                                    if (document.getElementById(\"6f23257d-b82b-4bbc-a63d-6cef51a00417\")) {                    Plotly.newPlot(                        \"6f23257d-b82b-4bbc-a63d-6cef51a00417\",                        [{\"hoverinfo\":\"text\",\"line\":{\"color\":\"blue\",\"width\":0.3036553222084388},\"mode\":\"lines\",\"text\":[\"Eddard-Stark--Aegon-I-Targaryen: 1.0069444444444444\"],\"x\":[0.10648594579424507,0.11077050567470466,null],\"y\":[0.1121088681224815,0.39154871839973115,null],\"type\":\"scatter\"},{\"hoverinfo\":\"text\",\"line\":{\"color\":\"blue\",\"width\":0.32598420029006264},\"mode\":\"lines\",\"text\":[\"Eddard-Stark--Aerys-II-Targaryen: 1.0486111111111112\"],\"x\":[0.10648594579424507,0.17880449780327884,null],\"y\":[0.1121088681224815,0.14537326601673276,null],\"type\":\"scatter\"},{\"hoverinfo\":\"text\",\"line\":{\"color\":\"blue\",\"width\":0.3297715400664042},\"mode\":\"lines\",\"text\":[\"Eddard-Stark--Alyn: 1.0555555555555556\"],\"x\":[0.10648594579424507,0.024776477722474877,null],\"y\":[0.1121088681224815,0.23769593769761657,null],\"type\":\"scatter\"},{\"hoverinfo\":\"text\",\"line\":{\"color\":\"blue\",\"width\":0.4052565909026495},\"mode\":\"lines\",\"text\":[\"Eddard-Stark--Arya-Stark: 1.1875\"],\"x\":[0.10648594579424507,0.03199436451402057,null],\"y\":[0.1121088681224815,0.02078565327859566,null],\"type\":\"scatter\"},{\"hoverinfo\":\"text\",\"line\":{\"color\":\"blue\",\"width\":0.3},\"mode\":\"lines\",\"text\":[\"Eddard-Stark--Balon-Greyjoy: 1.0\"],\"x\":[0.10648594579424507,0.12071173045894634,null],\"y\":[0.1121088681224815,0.30050702465491735,null],\"type\":\"scatter\"},{\"hoverinfo\":\"text\",\"line\":{\"color\":\"blue\",\"width\":0.3969982813217963},\"mode\":\"lines\",\"text\":[\"Eddard-Stark--Barristan-Selmy: 1.1736111111111112\"],\"x\":[0.10648594579424507,0.12937540553129614,null],\"y\":[0.1121088681224815,0.06281701710849813,null],\"type\":\"scatter\"},{\"hoverinfo\":\"text\",\"line\":{\"color\":\"blue\",\"width\":0.3},\"mode\":\"lines\",\"text\":[\"Eddard-Stark--Beric-Dondarrion: 1.0\"],\"x\":[0.10648594579424507,0.2514470848015286,null],\"y\":[0.1121088681224815,0.10344060167222606,null],\"type\":\"scatter\"},{\"hoverinfo\":\"text\",\"line\":{\"color\":\"blue\",\"width\":0.3607421283056655},\"mode\":\"lines\",\"text\":[\"Eddard-Stark--Bran-Stark: 1.1111111111111112\"],\"x\":[0.10648594579424507,-0.08490608606434874,null],\"y\":[0.1121088681224815,-0.0009500509863035247,null],\"type\":\"scatter\"},{\"hoverinfo\":\"text\",\"line\":{\"color\":\"blue\",\"width\":0.3297715400664042},\"mode\":\"lines\",\"text\":[\"Eddard-Stark--Brandon-Stark: 1.0555555555555556\"],\"x\":[0.10648594579424507,0.027448936692904862,null],\"y\":[0.1121088681224815,0.20554547129797635,null],\"type\":\"scatter\"},{\"hoverinfo\":\"text\",\"line\":{\"color\":\"blue\",\"width\":0.5566165951643036},\"mode\":\"lines\",\"text\":[\"Eddard-Stark--Catelyn-Stark: 1.4236111111111112\"],\"x\":[0.10648594579424507,0.07103519122741635,null],\"y\":[0.1121088681224815,-0.13779150827046416,null],\"type\":\"scatter\"},{\"hoverinfo\":\"text\",\"line\":{\"color\":\"blue\",\"width\":0.31473489442754443},\"mode\":\"lines\",\"text\":[\"Eddard-Stark--Cayn: 1.0277777777777777\"],\"x\":[0.10648594579424507,0.21157640129784488,null],\"y\":[0.1121088681224815,0.20613843137589452,null],\"type\":\"scatter\"},{\"hoverinfo\":\"text\",\"line\":{\"color\":\"blue\",\"width\":0.580591481245713},\"mode\":\"lines\",\"text\":[\"Eddard-Stark--Cersei-Lannister: 1.4583333333333333\"],\"x\":[0.10648594579424507,0.065324051953967,null],\"y\":[0.1121088681224815,-0.011306557654175996,null],\"type\":\"scatter\"},{\"hoverinfo\":\"text\",\"line\":{\"color\":\"blue\",\"width\":0.30732960033145773},\"mode\":\"lines\",\"text\":[\"Eddard-Stark--Daenerys-Targaryen: 1.0138888888888888\"],\"x\":[0.10648594579424507,0.0068743915869946895,null],\"y\":[0.1121088681224815,0.4737306563724346,null],\"type\":\"scatter\"},{\"hoverinfo\":\"text\",\"line\":{\"color\":\"blue\",\"width\":0.3},\"mode\":\"lines\",\"text\":[\"Eddard-Stark--Daryn-Hornwood: 1.0\"],\"x\":[0.10648594579424507,0.35265323669429144,null],\"y\":[0.1121088681224815,0.08789264370957128,null],\"type\":\"scatter\"},{\"hoverinfo\":\"text\",\"line\":{\"color\":\"blue\",\"width\":0.3036553222084388},\"mode\":\"lines\",\"text\":[\"Eddard-Stark--Desmond: 1.0069444444444444\"],\"x\":[0.10648594579424507,0.14487176533832885,null],\"y\":[0.1121088681224815,0.2267648016858255,null],\"type\":\"scatter\"},{\"hoverinfo\":\"text\",\"line\":{\"color\":\"blue\",\"width\":0.3},\"mode\":\"lines\",\"text\":[\"Eddard-Stark--Edmure-Tully: 1.0\"],\"x\":[0.10648594579424507,0.023076472169538148,null],\"y\":[0.1121088681224815,-0.07761245006425639,null],\"type\":\"scatter\"},{\"hoverinfo\":\"text\",\"line\":{\"color\":\"blue\",\"width\":0.3036553222084388},\"mode\":\"lines\",\"text\":[\"Eddard-Stark--Galbart-Glover: 1.0069444444444444\"],\"x\":[0.10648594579424507,-0.06014772243512612,null],\"y\":[0.1121088681224815,0.08023590230817076,null],\"type\":\"scatter\"},{\"hoverinfo\":\"text\",\"line\":{\"color\":\"blue\",\"width\":0.3},\"mode\":\"lines\",\"text\":[\"Eddard-Stark--Gendry: 1.0\"],\"x\":[0.10648594579424507,0.38772648172092355,null],\"y\":[0.1121088681224815,0.18177160979259743,null],\"type\":\"scatter\"},{\"hoverinfo\":\"text\",\"line\":{\"color\":\"blue\",\"width\":0.3},\"mode\":\"lines\",\"text\":[\"Eddard-Stark--Gerold-Hightower: 1.0\"],\"x\":[0.10648594579424507,0.3755499394803089,null],\"y\":[0.1121088681224815,0.12966861194928017,null],\"type\":\"scatter\"},{\"hoverinfo\":\"text\",\"line\":{\"color\":\"blue\",\"width\":0.32598420029006264},\"mode\":\"lines\",\"text\":[\"Eddard-Stark--Gregor-Clegane: 1.0486111111111112\"],\"x\":[0.10648594579424507,0.07693119390322473,null],\"y\":[0.1121088681224815,0.04684415948750067,null],\"type\":\"scatter\"},{\"hoverinfo\":\"text\",\"line\":{\"color\":\"blue\",\"width\":0.30732960033145773},\"mode\":\"lines\",\"text\":[\"Eddard-Stark--Harwin: 1.0138888888888888\"],\"x\":[0.10648594579424507,-0.05720282117988841,null],\"y\":[0.1121088681224815,0.21711286247210781,null],\"type\":\"scatter\"},{\"hoverinfo\":\"text\",\"line\":{\"color\":\"blue\",\"width\":0.3036553222084388},\"mode\":\"lines\",\"text\":[\"Eddard-Stark--High-Septon-(fat_one): 1.0069444444444444\"],\"x\":[0.10648594579424507,0.2795070600245484,null],\"y\":[0.1121088681224815,0.0567282788276434,null],\"type\":\"scatter\"},{\"hoverinfo\":\"text\",\"line\":{\"color\":\"blue\",\"width\":0.3},\"mode\":\"lines\",\"text\":[\"Eddard-Stark--Howland-Reed: 1.0\"],\"x\":[0.10648594579424507,0.24432197951418916,null],\"y\":[0.1121088681224815,0.35730575770305933,null],\"type\":\"scatter\"},{\"hoverinfo\":\"text\",\"line\":{\"color\":\"blue\",\"width\":0.31102280182627423},\"mode\":\"lines\",\"text\":[\"Eddard-Stark--Ilyn-Payne: 1.0208333333333333\"],\"x\":[0.10648594579424507,0.10493895598371764,null],\"y\":[0.1121088681224815,0.12975215603867807,null],\"type\":\"scatter\"},{\"hoverinfo\":\"text\",\"line\":{\"color\":\"blue\",\"width\":0.3036553222084388},\"mode\":\"lines\",\"text\":[\"Eddard-Stark--Jacks: 1.0069444444444444\"],\"x\":[0.10648594579424507,0.28274345320492605,null],\"y\":[0.1121088681224815,0.30913824740378004,null],\"type\":\"scatter\"},{\"hoverinfo\":\"text\",\"line\":{\"color\":\"blue\",\"width\":0.3928964787632692},\"mode\":\"lines\",\"text\":[\"Eddard-Stark--Jaime-Lannister: 1.1666666666666665\"],\"x\":[0.10648594579424507,0.08411778299242077,null],\"y\":[0.1121088681224815,-0.0127285298056426,null],\"type\":\"scatter\"},{\"hoverinfo\":\"text\",\"line\":{\"color\":\"blue\",\"width\":0.3036553222084388},\"mode\":\"lines\",\"text\":[\"Eddard-Stark--Janos-Slynt: 1.0069444444444444\"],\"x\":[0.10648594579424507,0.13419213924015455,null],\"y\":[0.1121088681224815,0.12636956328109705,null],\"type\":\"scatter\"},{\"hoverinfo\":\"text\",\"line\":{\"color\":\"blue\",\"width\":0.38881294707719766},\"mode\":\"lines\",\"text\":[\"Eddard-Stark--Joffrey-Baratheon: 1.159722222222222\"],\"x\":[0.10648594579424507,0.06727571942920114,null],\"y\":[0.1121088681224815,0.009801685120611444,null],\"type\":\"scatter\"},{\"hoverinfo\":\"text\",\"line\":{\"color\":\"blue\",\"width\":0.47836911200765575},\"mode\":\"lines\",\"text\":[\"Eddard-Stark--Jon-Arryn: 1.3055555555555556\"],\"x\":[0.10648594579424507,0.017573226254451197,null],\"y\":[0.1121088681224815,0.04811545290389017,null],\"type\":\"scatter\"},{\"hoverinfo\":\"text\",\"line\":{\"color\":\"blue\",\"width\":0.43901534224005484},\"mode\":\"lines\",\"text\":[\"Eddard-Stark--Jon-Snow: 1.2430555555555556\"],\"x\":[0.10648594579424507,-0.14172448166879853,null],\"y\":[0.1121088681224815,-0.17936515963381333,null],\"type\":\"scatter\"},{\"hoverinfo\":\"text\",\"line\":{\"color\":\"blue\",\"width\":0.4135876614931034},\"mode\":\"lines\",\"text\":[\"Eddard-Stark--Jory-Cassel: 1.2013888888888888\"],\"x\":[0.10648594579424507,-0.014992917689555097,null],\"y\":[0.1121088681224815,0.07085877790405458,null],\"type\":\"scatter\"},{\"hoverinfo\":\"text\",\"line\":{\"color\":\"blue\",\"width\":0.30732960033145773},\"mode\":\"lines\",\"text\":[\"Eddard-Stark--Joss: 1.0138888888888888\"],\"x\":[0.10648594579424507,0.343135105403023,null],\"y\":[0.1121088681224815,0.28054377093701804,null],\"type\":\"scatter\"},{\"hoverinfo\":\"text\",\"line\":{\"color\":\"blue\",\"width\":0.33357761363923993},\"mode\":\"lines\",\"text\":[\"Eddard-Stark--Loras-Tyrell: 1.0625\"],\"x\":[0.10648594579424507,0.18042954714332093,null],\"y\":[0.1121088681224815,0.10241972177968102,null],\"type\":\"scatter\"},{\"hoverinfo\":\"text\",\"line\":{\"color\":\"blue\",\"width\":0.3489886358918264},\"mode\":\"lines\",\"text\":[\"Eddard-Stark--Luwin: 1.0902777777777777\"],\"x\":[0.10648594579424507,-0.09543015503848222,null],\"y\":[0.1121088681224815,-0.033676325759921015,null],\"type\":\"scatter\"},{\"hoverinfo\":\"text\",\"line\":{\"color\":\"blue\",\"width\":0.3607421283056655},\"mode\":\"lines\",\"text\":[\"Eddard-Stark--Lyanna-Stark: 1.1111111111111112\"],\"x\":[0.10648594579424507,0.07854020176175182,null],\"y\":[0.1121088681224815,0.24050048357278792,null],\"type\":\"scatter\"},{\"hoverinfo\":\"text\",\"line\":{\"color\":\"blue\",\"width\":0.33357761363923993},\"mode\":\"lines\",\"text\":[\"Eddard-Stark--Lysa-Arryn: 1.0625\"],\"x\":[0.10648594579424507,0.12653315489042977,null],\"y\":[0.1121088681224815,-0.09013791103676602,null],\"type\":\"scatter\"},{\"hoverinfo\":\"text\",\"line\":{\"color\":\"blue\",\"width\":0.3},\"mode\":\"lines\",\"text\":[\"Eddard-Stark--Marq-Piper: 1.0\"],\"x\":[0.10648594579424507,-0.0813601539025903,null],\"y\":[0.1121088681224815,0.057818626548124384,null],\"type\":\"scatter\"},{\"hoverinfo\":\"text\",\"line\":{\"color\":\"blue\",\"width\":0.3297715400664042},\"mode\":\"lines\",\"text\":[\"Eddard-Stark--Mordane: 1.0555555555555556\"],\"x\":[0.10648594579424507,0.02543575930860007,null],\"y\":[0.1121088681224815,-0.009281754547322905,null],\"type\":\"scatter\"},{\"hoverinfo\":\"text\",\"line\":{\"color\":\"blue\",\"width\":0.3},\"mode\":\"lines\",\"text\":[\"Eddard-Stark--Mycah: 1.0\"],\"x\":[0.10648594579424507,0.07212180934310158,null],\"y\":[0.1121088681224815,0.14112253354003632,null],\"type\":\"scatter\"},{\"hoverinfo\":\"text\",\"line\":{\"color\":\"blue\",\"width\":0.6398889327239897},\"mode\":\"lines\",\"text\":[\"Eddard-Stark--Petyr-Baelish: 1.5416666666666665\"],\"x\":[0.10648594579424507,0.05648083182260479,null],\"y\":[0.1121088681224815,0.03260685690219549,null],\"type\":\"scatter\"},{\"hoverinfo\":\"text\",\"line\":{\"color\":\"blue\",\"width\":0.3036553222084388},\"mode\":\"lines\",\"text\":[\"Eddard-Stark--Porther: 1.0069444444444444\"],\"x\":[0.10648594579424507,0.20642246978135045,null],\"y\":[0.1121088681224815,0.36991690910291697,null],\"type\":\"scatter\"},{\"hoverinfo\":\"text\",\"line\":{\"color\":\"blue\",\"width\":0.41778041604270827},\"mode\":\"lines\",\"text\":[\"Eddard-Stark--Pycelle: 1.2083333333333333\"],\"x\":[0.10648594579424507,0.0857655486770623,null],\"y\":[0.1121088681224815,0.08225288197648849,null],\"type\":\"scatter\"},{\"hoverinfo\":\"text\",\"line\":{\"color\":\"blue\",\"width\":0.3036553222084388},\"mode\":\"lines\",\"text\":[\"Eddard-Stark--Raymun-Darry: 1.0069444444444444\"],\"x\":[0.10648594579424507,0.16783225171148508,null],\"y\":[0.1121088681224815,0.2802025259265742,null],\"type\":\"scatter\"},{\"hoverinfo\":\"text\",\"line\":{\"color\":\"blue\",\"width\":0.41778041604270827},\"mode\":\"lines\",\"text\":[\"Eddard-Stark--Renly-Baratheon: 1.2083333333333333\"],\"x\":[0.10648594579424507,0.09935036609841824,null],\"y\":[0.1121088681224815,0.0404126925892233,null],\"type\":\"scatter\"},{\"hoverinfo\":\"text\",\"line\":{\"color\":\"blue\",\"width\":0.32598420029006264},\"mode\":\"lines\",\"text\":[\"Eddard-Stark--Rhaegar-Targaryen: 1.0486111111111112\"],\"x\":[0.10648594579424507,0.014653623613678292,null],\"y\":[0.1121088681224815,0.26775314626515023,null],\"type\":\"scatter\"},{\"hoverinfo\":\"text\",\"line\":{\"color\":\"blue\",\"width\":0.3036553222084388},\"mode\":\"lines\",\"text\":[\"Eddard-Stark--Rickard-Karstark: 1.0069444444444444\"],\"x\":[0.10648594579424507,-0.07201238999138217,null],\"y\":[0.1121088681224815,0.023898206162544497,null],\"type\":\"scatter\"},{\"hoverinfo\":\"text\",\"line\":{\"color\":\"blue\",\"width\":0.3036553222084388},\"mode\":\"lines\",\"text\":[\"Eddard-Stark--Rickon-Stark: 1.0069444444444444\"],\"x\":[0.10648594579424507,-0.031226770640811058,null],\"y\":[0.1121088681224815,-0.04175810966117788,null],\"type\":\"scatter\"},{\"hoverinfo\":\"text\",\"line\":{\"color\":\"blue\",\"width\":0.3489886358918264},\"mode\":\"lines\",\"text\":[\"Eddard-Stark--Robb-Stark: 1.0902777777777777\"],\"x\":[0.10648594579424507,-0.043314398094237976,null],\"y\":[0.1121088681224815,-0.05668054863819679,null],\"type\":\"scatter\"},{\"hoverinfo\":\"text\",\"line\":{\"color\":\"blue\",\"width\":2.051556351259299},\"mode\":\"lines\",\"text\":[\"Eddard-Stark--Robert-Baratheon: 2.9999999999999996\"],\"x\":[0.10648594579424507,0.04691105159571611,null],\"y\":[0.1121088681224815,0.11908953963479799,null],\"type\":\"scatter\"},{\"hoverinfo\":\"text\",\"line\":{\"color\":\"blue\",\"width\":0.31473489442754443},\"mode\":\"lines\",\"text\":[\"Eddard-Stark--Rodrik-Cassel: 1.0277777777777777\"],\"x\":[0.10648594579424507,0.0023389107467837325,null],\"y\":[0.1121088681224815,-0.06416374395556995,null],\"type\":\"scatter\"},{\"hoverinfo\":\"text\",\"line\":{\"color\":\"blue\",\"width\":0.32598420029006264},\"mode\":\"lines\",\"text\":[\"Eddard-Stark--Sandor-Clegane: 1.0486111111111112\"],\"x\":[0.10648594579424507,0.12952798707083144,null],\"y\":[0.1121088681224815,0.019266875519648598,null],\"type\":\"scatter\"},{\"hoverinfo\":\"text\",\"line\":{\"color\":\"blue\",\"width\":0.4219912818774138},\"mode\":\"lines\",\"text\":[\"Eddard-Stark--Sansa-Stark: 1.2152777777777777\"],\"x\":[0.10648594579424507,0.0456143512727685,null],\"y\":[0.1121088681224815,0.05750169859092548,null],\"type\":\"scatter\"},{\"hoverinfo\":\"text\",\"line\":{\"color\":\"blue\",\"width\":0.35680576364309297},\"mode\":\"lines\",\"text\":[\"Eddard-Stark--Stannis-Baratheon: 1.1041666666666665\"],\"x\":[0.10648594579424507,0.10522382841735935,null],\"y\":[0.1121088681224815,0.02502521588793754,null],\"type\":\"scatter\"},{\"hoverinfo\":\"text\",\"line\":{\"color\":\"blue\",\"width\":0.31102280182627423},\"mode\":\"lines\",\"text\":[\"Eddard-Stark--Syrio-Forel: 1.0208333333333333\"],\"x\":[0.10648594579424507,0.2280802487449413,null],\"y\":[0.1121088681224815,0.14099773962857906,null],\"type\":\"scatter\"},{\"hoverinfo\":\"text\",\"line\":{\"color\":\"blue\",\"width\":0.30732960033145773},\"mode\":\"lines\",\"text\":[\"Eddard-Stark--Theon-Greyjoy: 1.0138888888888888\"],\"x\":[0.10648594579424507,-0.018570992946724544,null],\"y\":[0.1121088681224815,-0.09792368559960818,null],\"type\":\"scatter\"},{\"hoverinfo\":\"text\",\"line\":{\"color\":\"blue\",\"width\":0.31473489442754443},\"mode\":\"lines\",\"text\":[\"Eddard-Stark--Tobho-Mott: 1.0277777777777777\"],\"x\":[0.10648594579424507,0.3685118172556936,null],\"y\":[0.1121088681224815,0.21451291763524685,null],\"type\":\"scatter\"},{\"hoverinfo\":\"text\",\"line\":{\"color\":\"blue\",\"width\":0.34510793151786423},\"mode\":\"lines\",\"text\":[\"Eddard-Stark--Tomard: 1.0833333333333333\"],\"x\":[0.10648594579424507,0.08399729181974153,null],\"y\":[0.1121088681224815,0.17503157989834955,null],\"type\":\"scatter\"},{\"hoverinfo\":\"text\",\"line\":{\"color\":\"blue\",\"width\":0.30732960033145773},\"mode\":\"lines\",\"text\":[\"Eddard-Stark--Torrhen-Karstark: 1.0138888888888888\"],\"x\":[0.10648594579424507,0.23060690400641837,null],\"y\":[0.1121088681224815,0.0017181780161025716,null],\"type\":\"scatter\"},{\"hoverinfo\":\"text\",\"line\":{\"color\":\"blue\",\"width\":0.3036553222084388},\"mode\":\"lines\",\"text\":[\"Eddard-Stark--Tregar: 1.0069444444444444\"],\"x\":[0.10648594579424507,0.35167629339609957,null],\"y\":[0.1121088681224815,0.24407204099973195,null],\"type\":\"scatter\"},{\"hoverinfo\":\"text\",\"line\":{\"color\":\"blue\",\"width\":0.3686703141402487},\"mode\":\"lines\",\"text\":[\"Eddard-Stark--Tyrion-Lannister: 1.125\"],\"x\":[0.10648594579424507,-0.06482818728114911,null],\"y\":[0.1121088681224815,-0.13603594747656403,null],\"type\":\"scatter\"},{\"hoverinfo\":\"text\",\"line\":{\"color\":\"blue\",\"width\":0.35680576364309297},\"mode\":\"lines\",\"text\":[\"Eddard-Stark--Tywin-Lannister: 1.1041666666666665\"],\"x\":[0.10648594579424507,0.032045134513899176,null],\"y\":[0.1121088681224815,-0.039305273695998115,null],\"type\":\"scatter\"},{\"hoverinfo\":\"text\",\"line\":{\"color\":\"blue\",\"width\":0.3036553222084388},\"mode\":\"lines\",\"text\":[\"Eddard-Stark--Varly: 1.0069444444444444\"],\"x\":[0.10648594579424507,0.3244816211591838,null],\"y\":[0.1121088681224815,0.3146649178705085,null],\"type\":\"scatter\"},{\"hoverinfo\":\"text\",\"line\":{\"color\":\"blue\",\"width\":0.5424401034056527},\"mode\":\"lines\",\"text\":[\"Eddard-Stark--Varys: 1.4027777777777777\"],\"x\":[0.10648594579424507,0.036618960965745066,null],\"y\":[0.1121088681224815,0.0952360213840959,null],\"type\":\"scatter\"},{\"hoverinfo\":\"text\",\"line\":{\"color\":\"blue\",\"width\":0.33357761363923993},\"mode\":\"lines\",\"text\":[\"Eddard-Stark--Vayon-Poole: 1.0625\"],\"x\":[0.10648594579424507,0.13920241258330932,null],\"y\":[0.1121088681224815,0.10402928691784472,null],\"type\":\"scatter\"},{\"hoverinfo\":\"text\",\"line\":{\"color\":\"blue\",\"width\":0.3},\"mode\":\"lines\",\"text\":[\"Eddard-Stark--Wyl-(guard): 1.0\"],\"x\":[0.10648594579424507,-0.023801432063556165,null],\"y\":[0.1121088681224815,0.18600123264216076,null],\"type\":\"scatter\"},{\"hoverinfo\":\"text\",\"line\":{\"color\":\"blue\",\"width\":0.3},\"mode\":\"lines\",\"text\":[\"Eddard-Stark--Wylla: 1.0\"],\"x\":[0.10648594579424507,0.28301864028479395,null],\"y\":[0.1121088681224815,0.34847241783526645,null],\"type\":\"scatter\"},{\"hoverinfo\":\"text\",\"line\":{\"color\":\"blue\",\"width\":0.33357761363923993},\"mode\":\"lines\",\"text\":[\"Robert-Baratheon--Aerys-II-Targaryen: 1.0625\"],\"x\":[0.04691105159571611,0.17880449780327884,null],\"y\":[0.11908953963479799,0.14537326601673276,null],\"type\":\"scatter\"},{\"hoverinfo\":\"text\",\"line\":{\"color\":\"blue\",\"width\":0.3036553222084388},\"mode\":\"lines\",\"text\":[\"Robert-Baratheon--Alyn: 1.0069444444444444\"],\"x\":[0.04691105159571611,0.024776477722474877,null],\"y\":[0.11908953963479799,0.23769593769761657,null],\"type\":\"scatter\"},{\"hoverinfo\":\"text\",\"line\":{\"color\":\"blue\",\"width\":0.3184658461431345},\"mode\":\"lines\",\"text\":[\"Robert-Baratheon--Arya-Stark: 1.034722222222222\"],\"x\":[0.04691105159571611,0.03199436451402057,null],\"y\":[0.11908953963479799,0.02078565327859566,null],\"type\":\"scatter\"},{\"hoverinfo\":\"text\",\"line\":{\"color\":\"blue\",\"width\":0.3036553222084388},\"mode\":\"lines\",\"text\":[\"Robert-Baratheon--Balon-Greyjoy: 1.0069444444444444\"],\"x\":[0.04691105159571611,0.12071173045894634,null],\"y\":[0.11908953963479799,0.30050702465491735,null],\"type\":\"scatter\"},{\"hoverinfo\":\"text\",\"line\":{\"color\":\"blue\",\"width\":0.44763537463299646},\"mode\":\"lines\",\"text\":[\"Robert-Baratheon--Barristan-Selmy: 1.2569444444444444\"],\"x\":[0.04691105159571611,0.12937540553129614,null],\"y\":[0.11908953963479799,0.06281701710849813,null],\"type\":\"scatter\"},{\"hoverinfo\":\"text\",\"line\":{\"color\":\"blue\",\"width\":0.3},\"mode\":\"lines\",\"text\":[\"Robert-Baratheon--Benjen-Stark: 1.0\"],\"x\":[0.04691105159571611,-0.12405528656493038,null],\"y\":[0.11908953963479799,-0.1404897871753785,null],\"type\":\"scatter\"},{\"hoverinfo\":\"text\",\"line\":{\"color\":\"blue\",\"width\":0.30732960033145773},\"mode\":\"lines\",\"text\":[\"Robert-Baratheon--Beric-Dondarrion: 1.0138888888888888\"],\"x\":[0.04691105159571611,0.2514470848015286,null],\"y\":[0.11908953963479799,0.10344060167222606,null],\"type\":\"scatter\"},{\"hoverinfo\":\"text\",\"line\":{\"color\":\"blue\",\"width\":0.3297715400664042},\"mode\":\"lines\",\"text\":[\"Robert-Baratheon--Bran-Stark: 1.0555555555555556\"],\"x\":[0.04691105159571611,-0.08490608606434874,null],\"y\":[0.11908953963479799,-0.0009500509863035247,null],\"type\":\"scatter\"},{\"hoverinfo\":\"text\",\"line\":{\"color\":\"blue\",\"width\":0.30732960033145773},\"mode\":\"lines\",\"text\":[\"Robert-Baratheon--Brandon-Stark: 1.0138888888888888\"],\"x\":[0.04691105159571611,0.027448936692904862,null],\"y\":[0.11908953963479799,0.20554547129797635,null],\"type\":\"scatter\"},{\"hoverinfo\":\"text\",\"line\":{\"color\":\"blue\",\"width\":0.37266207796196593},\"mode\":\"lines\",\"text\":[\"Robert-Baratheon--Catelyn-Stark: 1.1319444444444444\"],\"x\":[0.04691105159571611,0.07103519122741635,null],\"y\":[0.11908953963479799,-0.13779150827046416,null],\"type\":\"scatter\"},{\"hoverinfo\":\"text\",\"line\":{\"color\":\"blue\",\"width\":0.5951839339063452},\"mode\":\"lines\",\"text\":[\"Robert-Baratheon--Cersei-Lannister: 1.4791666666666665\"],\"x\":[0.04691105159571611,0.065324051953967,null],\"y\":[0.11908953963479799,-0.011306557654175996,null],\"type\":\"scatter\"},{\"hoverinfo\":\"text\",\"line\":{\"color\":\"blue\",\"width\":0.3297715400664042},\"mode\":\"lines\",\"text\":[\"Robert-Baratheon--Daenerys-Targaryen: 1.0555555555555556\"],\"x\":[0.04691105159571611,0.0068743915869946895,null],\"y\":[0.11908953963479799,0.4737306563724346,null],\"type\":\"scatter\"},{\"hoverinfo\":\"text\",\"line\":{\"color\":\"blue\",\"width\":0.3},\"mode\":\"lines\",\"text\":[\"Robert-Baratheon--Drogo: 1.0\"],\"x\":[0.04691105159571611,-0.06562876222454485,null],\"y\":[0.11908953963479799,0.5779068024104821,null],\"type\":\"scatter\"},{\"hoverinfo\":\"text\",\"line\":{\"color\":\"blue\",\"width\":0.3036553222084388},\"mode\":\"lines\",\"text\":[\"Robert-Baratheon--Gerold-Hightower: 1.0069444444444444\"],\"x\":[0.04691105159571611,0.3755499394803089,null],\"y\":[0.11908953963479799,0.12966861194928017,null],\"type\":\"scatter\"},{\"hoverinfo\":\"text\",\"line\":{\"color\":\"blue\",\"width\":0.3036553222084388},\"mode\":\"lines\",\"text\":[\"Robert-Baratheon--Gregor-Clegane: 1.0069444444444444\"],\"x\":[0.04691105159571611,0.07693119390322473,null],\"y\":[0.11908953963479799,0.04684415948750067,null],\"type\":\"scatter\"},{\"hoverinfo\":\"text\",\"line\":{\"color\":\"blue\",\"width\":0.3},\"mode\":\"lines\",\"text\":[\"Robert-Baratheon--Hoster-Tully: 1.0\"],\"x\":[0.04691105159571611,0.15596838332473842,null],\"y\":[0.11908953963479799,-0.0920572605417538,null],\"type\":\"scatter\"},{\"hoverinfo\":\"text\",\"line\":{\"color\":\"blue\",\"width\":0.31102280182627423},\"mode\":\"lines\",\"text\":[\"Robert-Baratheon--Illyrio-Mopatis: 1.0208333333333333\"],\"x\":[0.04691105159571611,0.001079720675957324,null],\"y\":[0.11908953963479799,0.4279871367525846,null],\"type\":\"scatter\"},{\"hoverinfo\":\"text\",\"line\":{\"color\":\"blue\",\"width\":0.3036553222084388},\"mode\":\"lines\",\"text\":[\"Robert-Baratheon--Ilyn-Payne: 1.0069444444444444\"],\"x\":[0.04691105159571611,0.10493895598371764,null],\"y\":[0.11908953963479799,0.12975215603867807,null],\"type\":\"scatter\"},{\"hoverinfo\":\"text\",\"line\":{\"color\":\"blue\",\"width\":0.38070080568987796},\"mode\":\"lines\",\"text\":[\"Robert-Baratheon--Jaime-Lannister: 1.1458333333333333\"],\"x\":[0.04691105159571611,0.08411778299242077,null],\"y\":[0.11908953963479799,-0.0127285298056426,null],\"type\":\"scatter\"},{\"hoverinfo\":\"text\",\"line\":{\"color\":\"blue\",\"width\":0.3036553222084388},\"mode\":\"lines\",\"text\":[\"Robert-Baratheon--Janos-Slynt: 1.0069444444444444\"],\"x\":[0.04691105159571611,0.13419213924015455,null],\"y\":[0.11908953963479799,0.12636956328109705,null],\"type\":\"scatter\"},{\"hoverinfo\":\"text\",\"line\":{\"color\":\"blue\",\"width\":0.3036553222084388},\"mode\":\"lines\",\"text\":[\"Robert-Baratheon--Jeor-Mormont: 1.0069444444444444\"],\"x\":[0.04691105159571611,-0.21544125756345248,null],\"y\":[0.11908953963479799,-0.17131508038589652,null],\"type\":\"scatter\"},{\"hoverinfo\":\"text\",\"line\":{\"color\":\"blue\",\"width\":0.3},\"mode\":\"lines\",\"text\":[\"Robert-Baratheon--Jeyne-Poole: 1.0\"],\"x\":[0.04691105159571611,0.15671453143493377,null],\"y\":[0.11908953963479799,0.05471148992048057,null],\"type\":\"scatter\"},{\"hoverinfo\":\"text\",\"line\":{\"color\":\"blue\",\"width\":0.4052565909026495},\"mode\":\"lines\",\"text\":[\"Robert-Baratheon--Joffrey-Baratheon: 1.1875\"],\"x\":[0.04691105159571611,0.06727571942920114,null],\"y\":[0.11908953963479799,0.009801685120611444,null],\"type\":\"scatter\"},{\"hoverinfo\":\"text\",\"line\":{\"color\":\"blue\",\"width\":0.4135876614931034},\"mode\":\"lines\",\"text\":[\"Robert-Baratheon--Jon-Arryn: 1.2013888888888888\"],\"x\":[0.04691105159571611,0.017573226254451197,null],\"y\":[0.11908953963479799,0.04811545290389017,null],\"type\":\"scatter\"},{\"hoverinfo\":\"text\",\"line\":{\"color\":\"blue\",\"width\":0.35680576364309297},\"mode\":\"lines\",\"text\":[\"Robert-Baratheon--Jon-Snow: 1.1041666666666665\"],\"x\":[0.04691105159571611,-0.14172448166879853,null],\"y\":[0.11908953963479799,-0.17936515963381333,null],\"type\":\"scatter\"},{\"hoverinfo\":\"text\",\"line\":{\"color\":\"blue\",\"width\":0.3},\"mode\":\"lines\",\"text\":[\"Robert-Baratheon--Jorah-Mormont: 1.0\"],\"x\":[0.04691105159571611,-0.019064354672386447,null],\"y\":[0.11908953963479799,0.48259338219442455,null],\"type\":\"scatter\"},{\"hoverinfo\":\"text\",\"line\":{\"color\":\"blue\",\"width\":0.31473489442754443},\"mode\":\"lines\",\"text\":[\"Robert-Baratheon--Jory-Cassel: 1.0277777777777777\"],\"x\":[0.04691105159571611,-0.014992917689555097,null],\"y\":[0.11908953963479799,0.07085877790405458,null],\"type\":\"scatter\"},{\"hoverinfo\":\"text\",\"line\":{\"color\":\"blue\",\"width\":0.3},\"mode\":\"lines\",\"text\":[\"Robert-Baratheon--Lancel-Lannister: 1.0\"],\"x\":[0.04691105159571611,0.28203926709016386,null],\"y\":[0.11908953963479799,0.23507073677138712,null],\"type\":\"scatter\"},{\"hoverinfo\":\"text\",\"line\":{\"color\":\"blue\",\"width\":0.3036553222084388},\"mode\":\"lines\",\"text\":[\"Robert-Baratheon--Loras-Tyrell: 1.0069444444444444\"],\"x\":[0.04691105159571611,0.18042954714332093,null],\"y\":[0.11908953963479799,0.10241972177968102,null],\"type\":\"scatter\"},{\"hoverinfo\":\"text\",\"line\":{\"color\":\"blue\",\"width\":0.32221562524998465},\"mode\":\"lines\",\"text\":[\"Robert-Baratheon--Lyanna-Stark: 1.0416666666666665\"],\"x\":[0.04691105159571611,0.07854020176175182,null],\"y\":[0.11908953963479799,0.24050048357278792,null],\"type\":\"scatter\"},{\"hoverinfo\":\"text\",\"line\":{\"color\":\"blue\",\"width\":0.30732960033145773},\"mode\":\"lines\",\"text\":[\"Robert-Baratheon--Lysa-Arryn: 1.0138888888888888\"],\"x\":[0.04691105159571611,0.12653315489042977,null],\"y\":[0.11908953963479799,-0.09013791103676602,null],\"type\":\"scatter\"},{\"hoverinfo\":\"text\",\"line\":{\"color\":\"blue\",\"width\":0.3},\"mode\":\"lines\",\"text\":[\"Robert-Baratheon--Meryn-Trant: 1.0\"],\"x\":[0.04691105159571611,0.17832790627769748,null],\"y\":[0.11908953963479799,0.05658916185941756,null],\"type\":\"scatter\"},{\"hoverinfo\":\"text\",\"line\":{\"color\":\"blue\",\"width\":0.31473489442754443},\"mode\":\"lines\",\"text\":[\"Robert-Baratheon--Mordane: 1.0277777777777777\"],\"x\":[0.04691105159571611,0.02543575930860007,null],\"y\":[0.11908953963479799,-0.009281754547322905,null],\"type\":\"scatter\"},{\"hoverinfo\":\"text\",\"line\":{\"color\":\"blue\",\"width\":0.3},\"mode\":\"lines\",\"text\":[\"Robert-Baratheon--Myrcella-Baratheon: 1.0\"],\"x\":[0.04691105159571611,0.11358554520503127,null],\"y\":[0.11908953963479799,-0.02132348751762153,null],\"type\":\"scatter\"},{\"hoverinfo\":\"text\",\"line\":{\"color\":\"blue\",\"width\":0.4052565909026495},\"mode\":\"lines\",\"text\":[\"Robert-Baratheon--Petyr-Baelish: 1.1875\"],\"x\":[0.04691105159571611,0.05648083182260479,null],\"y\":[0.11908953963479799,0.03260685690219549,null],\"type\":\"scatter\"},{\"hoverinfo\":\"text\",\"line\":{\"color\":\"blue\",\"width\":0.38881294707719766},\"mode\":\"lines\",\"text\":[\"Robert-Baratheon--Pycelle: 1.159722222222222\"],\"x\":[0.04691105159571611,0.0857655486770623,null],\"y\":[0.11908953963479799,0.08225288197648849,null],\"type\":\"scatter\"},{\"hoverinfo\":\"text\",\"line\":{\"color\":\"blue\",\"width\":0.3184658461431345},\"mode\":\"lines\",\"text\":[\"Robert-Baratheon--Raymun-Darry: 1.034722222222222\"],\"x\":[0.04691105159571611,0.16783225171148508,null],\"y\":[0.11908953963479799,0.2802025259265742,null],\"type\":\"scatter\"},{\"hoverinfo\":\"text\",\"line\":{\"color\":\"blue\",\"width\":0.4563271415025829},\"mode\":\"lines\",\"text\":[\"Robert-Baratheon--Renly-Baratheon: 1.2708333333333333\"],\"x\":[0.04691105159571611,0.09935036609841824,null],\"y\":[0.11908953963479799,0.0404126925892233,null],\"type\":\"scatter\"},{\"hoverinfo\":\"text\",\"line\":{\"color\":\"blue\",\"width\":0.37266207796196593},\"mode\":\"lines\",\"text\":[\"Robert-Baratheon--Rhaegar-Targaryen: 1.1319444444444444\"],\"x\":[0.04691105159571611,0.014653623613678292,null],\"y\":[0.11908953963479799,0.26775314626515023,null],\"type\":\"scatter\"},{\"hoverinfo\":\"text\",\"line\":{\"color\":\"blue\",\"width\":0.31102280182627423},\"mode\":\"lines\",\"text\":[\"Robert-Baratheon--Robb-Stark: 1.0208333333333333\"],\"x\":[0.04691105159571611,-0.043314398094237976,null],\"y\":[0.11908953963479799,-0.05668054863819679,null],\"type\":\"scatter\"},{\"hoverinfo\":\"text\",\"line\":{\"color\":\"blue\",\"width\":0.32221562524998465},\"mode\":\"lines\",\"text\":[\"Robert-Baratheon--Sandor-Clegane: 1.0416666666666665\"],\"x\":[0.04691105159571611,0.12952798707083144,null],\"y\":[0.11908953963479799,0.019266875519648598,null],\"type\":\"scatter\"},{\"hoverinfo\":\"text\",\"line\":{\"color\":\"blue\",\"width\":0.38881294707719766},\"mode\":\"lines\",\"text\":[\"Robert-Baratheon--Sansa-Stark: 1.159722222222222\"],\"x\":[0.04691105159571611,0.0456143512727685,null],\"y\":[0.11908953963479799,0.05750169859092548,null],\"type\":\"scatter\"},{\"hoverinfo\":\"text\",\"line\":{\"color\":\"blue\",\"width\":0.3686703141402487},\"mode\":\"lines\",\"text\":[\"Robert-Baratheon--Stannis-Baratheon: 1.125\"],\"x\":[0.04691105159571611,0.10522382841735935,null],\"y\":[0.11908953963479799,0.02502521588793754,null],\"type\":\"scatter\"},{\"hoverinfo\":\"text\",\"line\":{\"color\":\"blue\",\"width\":0.3},\"mode\":\"lines\",\"text\":[\"Robert-Baratheon--Tommen-Baratheon: 1.0\"],\"x\":[0.04691105159571611,-0.02099681451767266,null],\"y\":[0.11908953963479799,-0.0021973061319556933,null],\"type\":\"scatter\"},{\"hoverinfo\":\"text\",\"line\":{\"color\":\"blue\",\"width\":0.35680576364309297},\"mode\":\"lines\",\"text\":[\"Robert-Baratheon--Tyrion-Lannister: 1.1041666666666665\"],\"x\":[0.04691105159571611,-0.06482818728114911,null],\"y\":[0.11908953963479799,-0.13603594747656403,null],\"type\":\"scatter\"},{\"hoverinfo\":\"text\",\"line\":{\"color\":\"blue\",\"width\":0.3374023903222028},\"mode\":\"lines\",\"text\":[\"Robert-Baratheon--Tywin-Lannister: 1.0694444444444444\"],\"x\":[0.04691105159571611,0.032045134513899176,null],\"y\":[0.11908953963479799,-0.039305273695998115,null],\"type\":\"scatter\"},{\"hoverinfo\":\"text\",\"line\":{\"color\":\"blue\",\"width\":0.4304672438703986},\"mode\":\"lines\",\"text\":[\"Robert-Baratheon--Varys: 1.2291666666666665\"],\"x\":[0.04691105159571611,0.036618960965745066,null],\"y\":[0.11908953963479799,0.0952360213840959,null],\"type\":\"scatter\"},{\"hoverinfo\":\"text\",\"line\":{\"color\":\"blue\",\"width\":0.3},\"mode\":\"lines\",\"text\":[\"Robert-Baratheon--Vayon-Poole: 1.0\"],\"x\":[0.04691105159571611,0.13920241258330932,null],\"y\":[0.11908953963479799,0.10402928691784472,null],\"type\":\"scatter\"},{\"hoverinfo\":\"text\",\"line\":{\"color\":\"blue\",\"width\":0.31473489442754443},\"mode\":\"lines\",\"text\":[\"Robert-Baratheon--Viserys-Targaryen: 1.0277777777777777\"],\"x\":[0.04691105159571611,-0.027909544187174198,null],\"y\":[0.11908953963479799,0.42414680182602954,null],\"type\":\"scatter\"},{\"hoverinfo\":\"text\",\"line\":{\"color\":\"blue\",\"width\":0.4219912818774138},\"mode\":\"lines\",\"text\":[\"Jon-Snow--Aemon-Targaryen: 1.2152777777777777\"],\"x\":[-0.14172448166879853,-0.3428145406562496,null],\"y\":[-0.17936515963381333,-0.3189554820482568,null],\"type\":\"scatter\"},{\"hoverinfo\":\"text\",\"line\":{\"color\":\"blue\",\"width\":0.30732960033145773},\"mode\":\"lines\",\"text\":[\"Jon-Snow--Albett: 1.0138888888888888\"],\"x\":[-0.14172448166879853,-0.24433559030060994,null],\"y\":[-0.17936515963381333,-0.4189665065441949,null],\"type\":\"scatter\"},{\"hoverinfo\":\"text\",\"line\":{\"color\":\"blue\",\"width\":0.4135876614931034},\"mode\":\"lines\",\"text\":[\"Jon-Snow--Alliser-Thorne: 1.2013888888888888\"],\"x\":[-0.14172448166879853,-0.230372819930384,null],\"y\":[-0.17936515963381333,-0.27393144522537693,null],\"type\":\"scatter\"},{\"hoverinfo\":\"text\",\"line\":{\"color\":\"blue\",\"width\":0.43473228872184205},\"mode\":\"lines\",\"text\":[\"Jon-Snow--Arya-Stark: 1.2361111111111112\"],\"x\":[-0.14172448166879853,0.03199436451402057,null],\"y\":[-0.17936515963381333,0.02078565327859566,null],\"type\":\"scatter\"},{\"hoverinfo\":\"text\",\"line\":{\"color\":\"blue\",\"width\":0.4519723036221478},\"mode\":\"lines\",\"text\":[\"Jon-Snow--Benjen-Stark: 1.2638888888888888\"],\"x\":[-0.14172448166879853,-0.12405528656493038,null],\"y\":[-0.17936515963381333,-0.1404897871753785,null],\"type\":\"scatter\"},{\"hoverinfo\":\"text\",\"line\":{\"color\":\"blue\",\"width\":0.32598420029006264},\"mode\":\"lines\",\"text\":[\"Jon-Snow--Bowen-Marsh: 1.0486111111111112\"],\"x\":[-0.14172448166879853,-0.3152731669301327,null],\"y\":[-0.17936515963381333,-0.26076046174051876,null],\"type\":\"scatter\"},{\"hoverinfo\":\"text\",\"line\":{\"color\":\"blue\",\"width\":0.5191618715077455},\"mode\":\"lines\",\"text\":[\"Jon-Snow--Bran-Stark: 1.3680555555555554\"],\"x\":[-0.14172448166879853,-0.08490608606434874,null],\"y\":[-0.17936515963381333,-0.0009500509863035247,null],\"type\":\"scatter\"},{\"hoverinfo\":\"text\",\"line\":{\"color\":\"blue\",\"width\":0.34124583967861705},\"mode\":\"lines\",\"text\":[\"Jon-Snow--Catelyn-Stark: 1.0763888888888888\"],\"x\":[-0.14172448166879853,0.07103519122741635,null],\"y\":[-0.17936515963381333,-0.13779150827046416,null],\"type\":\"scatter\"},{\"hoverinfo\":\"text\",\"line\":{\"color\":\"blue\",\"width\":0.3036553222084388},\"mode\":\"lines\",\"text\":[\"Jon-Snow--Cersei-Lannister: 1.0069444444444444\"],\"x\":[-0.14172448166879853,0.065324051953967,null],\"y\":[-0.17936515963381333,-0.011306557654175996,null],\"type\":\"scatter\"},{\"hoverinfo\":\"text\",\"line\":{\"color\":\"blue\",\"width\":0.3036553222084388},\"mode\":\"lines\",\"text\":[\"Jon-Snow--Chett: 1.0069444444444444\"],\"x\":[-0.14172448166879853,-0.36933534667252454,null],\"y\":[-0.17936515963381333,-0.28813122400786007,null],\"type\":\"scatter\"},{\"hoverinfo\":\"text\",\"line\":{\"color\":\"blue\",\"width\":0.31102280182627423},\"mode\":\"lines\",\"text\":[\"Jon-Snow--Dareon: 1.0208333333333333\"],\"x\":[-0.14172448166879853,-0.33594387595066927,null],\"y\":[-0.17936515963381333,-0.3951268133519808,null],\"type\":\"scatter\"},{\"hoverinfo\":\"text\",\"line\":{\"color\":\"blue\",\"width\":0.31473489442754443},\"mode\":\"lines\",\"text\":[\"Jon-Snow--Donal-Noye: 1.0277777777777777\"],\"x\":[-0.14172448166879853,-0.13816591358780214,null],\"y\":[-0.17936515963381333,-0.44490624763376213,null],\"type\":\"scatter\"},{\"hoverinfo\":\"text\",\"line\":{\"color\":\"blue\",\"width\":0.3036553222084388},\"mode\":\"lines\",\"text\":[\"Jon-Snow--Dywen: 1.0069444444444444\"],\"x\":[-0.14172448166879853,-0.27855156243920004,null],\"y\":[-0.17936515963381333,-0.44207753125786103,null],\"type\":\"scatter\"},{\"hoverinfo\":\"text\",\"line\":{\"color\":\"blue\",\"width\":0.40941304434461595},\"mode\":\"lines\",\"text\":[\"Jon-Snow--Grenn: 1.1944444444444444\"],\"x\":[-0.14172448166879853,-0.27894341162087527,null],\"y\":[-0.17936515963381333,-0.30013732874856497,null],\"type\":\"scatter\"},{\"hoverinfo\":\"text\",\"line\":{\"color\":\"blue\",\"width\":0.3766722511877533},\"mode\":\"lines\",\"text\":[\"Jon-Snow--Halder: 1.1388888888888888\"],\"x\":[-0.14172448166879853,-0.28276418942434495,null],\"y\":[-0.17936515963381333,-0.34724935219928904,null],\"type\":\"scatter\"},{\"hoverinfo\":\"text\",\"line\":{\"color\":\"blue\",\"width\":0.30732960033145773},\"mode\":\"lines\",\"text\":[\"Jon-Snow--Hobb: 1.0138888888888888\"],\"x\":[-0.14172448166879853,-0.37573561285877116,null],\"y\":[-0.17936515963381333,-0.3493284146966489,null],\"type\":\"scatter\"},{\"hoverinfo\":\"text\",\"line\":{\"color\":\"blue\",\"width\":0.31473489442754443},\"mode\":\"lines\",\"text\":[\"Jon-Snow--Jaremy-Rykker: 1.0277777777777777\"],\"x\":[-0.14172448166879853,-0.20527231708199528,null],\"y\":[-0.17936515963381333,-0.3549798117784053,null],\"type\":\"scatter\"},{\"hoverinfo\":\"text\",\"line\":{\"color\":\"blue\",\"width\":0.6398889327239897},\"mode\":\"lines\",\"text\":[\"Jon-Snow--Jeor-Mormont: 1.5416666666666665\"],\"x\":[-0.14172448166879853,-0.21544125756345248,null],\"y\":[-0.17936515963381333,-0.17131508038589652,null],\"type\":\"scatter\"},{\"hoverinfo\":\"text\",\"line\":{\"color\":\"blue\",\"width\":0.32598420029006264},\"mode\":\"lines\",\"text\":[\"Jon-Snow--Joffrey-Baratheon: 1.0486111111111112\"],\"x\":[-0.14172448166879853,0.06727571942920114,null],\"y\":[-0.17936515963381333,0.009801685120611444,null],\"type\":\"scatter\"},{\"hoverinfo\":\"text\",\"line\":{\"color\":\"blue\",\"width\":0.3},\"mode\":\"lines\",\"text\":[\"Jon-Snow--Jory-Cassel: 1.0\"],\"x\":[-0.14172448166879853,-0.014992917689555097,null],\"y\":[-0.17936515963381333,0.07085877790405458,null],\"type\":\"scatter\"},{\"hoverinfo\":\"text\",\"line\":{\"color\":\"blue\",\"width\":0.32598420029006264},\"mode\":\"lines\",\"text\":[\"Jon-Snow--Luwin: 1.0486111111111112\"],\"x\":[-0.14172448166879853,-0.09543015503848222,null],\"y\":[-0.17936515963381333,-0.033676325759921015,null],\"type\":\"scatter\"},{\"hoverinfo\":\"text\",\"line\":{\"color\":\"blue\",\"width\":0.3},\"mode\":\"lines\",\"text\":[\"Jon-Snow--Matthar: 1.0\"],\"x\":[-0.14172448166879853,-0.40940545005844886,null],\"y\":[-0.17936515963381333,-0.24393767896380067,null],\"type\":\"scatter\"},{\"hoverinfo\":\"text\",\"line\":{\"color\":\"blue\",\"width\":0.3036553222084388},\"mode\":\"lines\",\"text\":[\"Jon-Snow--Mordane: 1.0069444444444444\"],\"x\":[-0.14172448166879853,0.02543575930860007,null],\"y\":[-0.17936515963381333,-0.009281754547322905,null],\"type\":\"scatter\"},{\"hoverinfo\":\"text\",\"line\":{\"color\":\"blue\",\"width\":0.30732960033145773},\"mode\":\"lines\",\"text\":[\"Jon-Snow--Othor: 1.0138888888888888\"],\"x\":[-0.14172448166879853,-0.19981011994212527,null],\"y\":[-0.17936515963381333,-0.445874147948303,null],\"type\":\"scatter\"},{\"hoverinfo\":\"text\",\"line\":{\"color\":\"blue\",\"width\":0.4694988641625526},\"mode\":\"lines\",\"text\":[\"Jon-Snow--Pypar: 1.2916666666666665\"],\"x\":[-0.14172448166879853,-0.25424319562072223,null],\"y\":[-0.17936515963381333,-0.33328172231759384,null],\"type\":\"scatter\"},{\"hoverinfo\":\"text\",\"line\":{\"color\":\"blue\",\"width\":0.3184658461431345},\"mode\":\"lines\",\"text\":[\"Jon-Snow--Rast: 1.034722222222222\"],\"x\":[-0.14172448166879853,-0.2496285260136785,null],\"y\":[-0.17936515963381333,-0.36938882317979926,null],\"type\":\"scatter\"},{\"hoverinfo\":\"text\",\"line\":{\"color\":\"blue\",\"width\":0.3297715400664042},\"mode\":\"lines\",\"text\":[\"Jon-Snow--Rickon-Stark: 1.0555555555555556\"],\"x\":[-0.14172448166879853,-0.031226770640811058,null],\"y\":[-0.17936515963381333,-0.04175810966117788,null],\"type\":\"scatter\"},{\"hoverinfo\":\"text\",\"line\":{\"color\":\"blue\",\"width\":0.5054054501643984},\"mode\":\"lines\",\"text\":[\"Jon-Snow--Robb-Stark: 1.347222222222222\"],\"x\":[-0.14172448166879853,-0.043314398094237976,null],\"y\":[-0.17936515963381333,-0.05668054863819679,null],\"type\":\"scatter\"},{\"hoverinfo\":\"text\",\"line\":{\"color\":\"blue\",\"width\":0.3},\"mode\":\"lines\",\"text\":[\"Jon-Snow--Rodrik-Cassel: 1.0\"],\"x\":[-0.14172448166879853,0.0023389107467837325,null],\"y\":[-0.17936515963381333,-0.06416374395556995,null],\"type\":\"scatter\"},{\"hoverinfo\":\"text\",\"line\":{\"color\":\"blue\",\"width\":0.6398889327239897},\"mode\":\"lines\",\"text\":[\"Jon-Snow--Samwell-Tarly: 1.5416666666666665\"],\"x\":[-0.14172448166879853,-0.26837498129823595,null],\"y\":[-0.17936515963381333,-0.26571040585496464,null],\"type\":\"scatter\"},{\"hoverinfo\":\"text\",\"line\":{\"color\":\"blue\",\"width\":0.3184658461431345},\"mode\":\"lines\",\"text\":[\"Jon-Snow--Sansa-Stark: 1.034722222222222\"],\"x\":[-0.14172448166879853,0.0456143512727685,null],\"y\":[-0.17936515963381333,0.05750169859092548,null],\"type\":\"scatter\"},{\"hoverinfo\":\"text\",\"line\":{\"color\":\"blue\",\"width\":0.3184658461431345},\"mode\":\"lines\",\"text\":[\"Jon-Snow--Theon-Greyjoy: 1.034722222222222\"],\"x\":[-0.14172448166879853,-0.018570992946724544,null],\"y\":[-0.17936515963381333,-0.09792368559960818,null],\"type\":\"scatter\"},{\"hoverinfo\":\"text\",\"line\":{\"color\":\"blue\",\"width\":0.3374023903222028},\"mode\":\"lines\",\"text\":[\"Jon-Snow--Todder: 1.0694444444444444\"],\"x\":[-0.14172448166879853,-0.2956201928286358,null],\"y\":[-0.17936515963381333,-0.3796356429562429,null],\"type\":\"scatter\"},{\"hoverinfo\":\"text\",\"line\":{\"color\":\"blue\",\"width\":0.5191618715077455},\"mode\":\"lines\",\"text\":[\"Jon-Snow--Tyrion-Lannister: 1.3680555555555554\"],\"x\":[-0.14172448166879853,-0.06482818728114911,null],\"y\":[-0.17936515963381333,-0.13603594747656403,null],\"type\":\"scatter\"},{\"hoverinfo\":\"text\",\"line\":{\"color\":\"blue\",\"width\":0.31102280182627423},\"mode\":\"lines\",\"text\":[\"Jon-Snow--Yoren: 1.0208333333333333\"],\"x\":[-0.14172448166879853,-0.13829944821982637,null],\"y\":[-0.17936515963381333,-0.09318015549971584,null],\"type\":\"scatter\"},{\"hoverinfo\":\"text\",\"line\":{\"color\":\"blue\",\"width\":0.31473489442754443},\"mode\":\"lines\",\"text\":[\"Tyrion-Lannister--Alliser-Thorne: 1.0277777777777777\"],\"x\":[-0.06482818728114911,-0.230372819930384,null],\"y\":[-0.13603594747656403,-0.27393144522537693,null],\"type\":\"scatter\"},{\"hoverinfo\":\"text\",\"line\":{\"color\":\"blue\",\"width\":0.3184658461431345},\"mode\":\"lines\",\"text\":[\"Tyrion-Lannister--Benjen-Stark: 1.034722222222222\"],\"x\":[-0.06482818728114911,-0.12405528656493038,null],\"y\":[-0.13603594747656403,-0.1404897871753785,null],\"type\":\"scatter\"},{\"hoverinfo\":\"text\",\"line\":{\"color\":\"blue\",\"width\":0.40941304434461595},\"mode\":\"lines\",\"text\":[\"Tyrion-Lannister--Bran-Stark: 1.1944444444444444\"],\"x\":[-0.06482818728114911,-0.08490608606434874,null],\"y\":[-0.13603594747656403,-0.0009500509863035247,null],\"type\":\"scatter\"},{\"hoverinfo\":\"text\",\"line\":{\"color\":\"blue\",\"width\":0.5424401034056527},\"mode\":\"lines\",\"text\":[\"Tyrion-Lannister--Bronn: 1.4027777777777777\"],\"x\":[-0.06482818728114911,-0.010611193952538631,null],\"y\":[-0.13603594747656403,-0.261238230356099,null],\"type\":\"scatter\"},{\"hoverinfo\":\"text\",\"line\":{\"color\":\"blue\",\"width\":0.3036553222084388},\"mode\":\"lines\",\"text\":[\"Tyrion-Lannister--Brynden-Tully: 1.0069444444444444\"],\"x\":[-0.06482818728114911,0.07835692800964725,null],\"y\":[-0.13603594747656403,-0.1613095772366983,null],\"type\":\"scatter\"},{\"hoverinfo\":\"text\",\"line\":{\"color\":\"blue\",\"width\":0.48731041704040057},\"mode\":\"lines\",\"text\":[\"Tyrion-Lannister--Catelyn-Stark: 1.3194444444444444\"],\"x\":[-0.06482818728114911,0.07103519122741635,null],\"y\":[-0.13603594747656403,-0.13779150827046416,null],\"type\":\"scatter\"},{\"hoverinfo\":\"text\",\"line\":{\"color\":\"blue\",\"width\":0.3928964787632692},\"mode\":\"lines\",\"text\":[\"Tyrion-Lannister--Cersei-Lannister: 1.1666666666666665\"],\"x\":[-0.06482818728114911,0.065324051953967,null],\"y\":[-0.13603594747656403,-0.011306557654175996,null],\"type\":\"scatter\"},{\"hoverinfo\":\"text\",\"line\":{\"color\":\"blue\",\"width\":0.30732960033145773},\"mode\":\"lines\",\"text\":[\"Tyrion-Lannister--Chella: 1.0138888888888888\"],\"x\":[-0.06482818728114911,-0.2978344138903758,null],\"y\":[-0.13603594747656403,-0.16343024392794284,null],\"type\":\"scatter\"},{\"hoverinfo\":\"text\",\"line\":{\"color\":\"blue\",\"width\":0.30732960033145773},\"mode\":\"lines\",\"text\":[\"Tyrion-Lannister--Chiggen: 1.0138888888888888\"],\"x\":[-0.06482818728114911,-0.04029994691827284,null],\"y\":[-0.13603594747656403,-0.3425045562821123,null],\"type\":\"scatter\"},{\"hoverinfo\":\"text\",\"line\":{\"color\":\"blue\",\"width\":0.31102280182627423},\"mode\":\"lines\",\"text\":[\"Tyrion-Lannister--Conn: 1.0208333333333333\"],\"x\":[-0.06482818728114911,-0.14645322420153217,null],\"y\":[-0.13603594747656403,-0.49644141880679776,null],\"type\":\"scatter\"},{\"hoverinfo\":\"text\",\"line\":{\"color\":\"blue\",\"width\":0.31473489442754443},\"mode\":\"lines\",\"text\":[\"Tyrion-Lannister--Gregor-Clegane: 1.0277777777777777\"],\"x\":[-0.06482818728114911,0.07693119390322473,null],\"y\":[-0.13603594747656403,0.04684415948750067,null],\"type\":\"scatter\"},{\"hoverinfo\":\"text\",\"line\":{\"color\":\"blue\",\"width\":0.31473489442754443},\"mode\":\"lines\",\"text\":[\"Tyrion-Lannister--Gunthor-son-of-Gurn: 1.0277777777777777\"],\"x\":[-0.06482818728114911,-0.3440346576606324,null],\"y\":[-0.13603594747656403,-0.15407580296344667,null],\"type\":\"scatter\"},{\"hoverinfo\":\"text\",\"line\":{\"color\":\"blue\",\"width\":0.4304672438703986},\"mode\":\"lines\",\"text\":[\"Tyrion-Lannister--Jaime-Lannister: 1.2291666666666665\"],\"x\":[-0.06482818728114911,0.08411778299242077,null],\"y\":[-0.13603594747656403,-0.0127285298056426,null],\"type\":\"scatter\"},{\"hoverinfo\":\"text\",\"line\":{\"color\":\"blue\",\"width\":0.3766722511877533},\"mode\":\"lines\",\"text\":[\"Tyrion-Lannister--Jeor-Mormont: 1.1388888888888888\"],\"x\":[-0.06482818728114911,-0.21544125756345248,null],\"y\":[-0.13603594747656403,-0.17131508038589652,null],\"type\":\"scatter\"},{\"hoverinfo\":\"text\",\"line\":{\"color\":\"blue\",\"width\":0.3374023903222028},\"mode\":\"lines\",\"text\":[\"Tyrion-Lannister--Joffrey-Baratheon: 1.0694444444444444\"],\"x\":[-0.06482818728114911,0.06727571942920114,null],\"y\":[-0.13603594747656403,0.009801685120611444,null],\"type\":\"scatter\"},{\"hoverinfo\":\"text\",\"line\":{\"color\":\"blue\",\"width\":0.30732960033145773},\"mode\":\"lines\",\"text\":[\"Tyrion-Lannister--Jon-Arryn: 1.0138888888888888\"],\"x\":[-0.06482818728114911,0.017573226254451197,null],\"y\":[-0.13603594747656403,0.04811545290389017,null],\"type\":\"scatter\"},{\"hoverinfo\":\"text\",\"line\":{\"color\":\"blue\",\"width\":0.31102280182627423},\"mode\":\"lines\",\"text\":[\"Tyrion-Lannister--Jyck: 1.0208333333333333\"],\"x\":[-0.06482818728114911,-0.2839334301501014,null],\"y\":[-0.13603594747656403,-0.20765598251752873,null],\"type\":\"scatter\"},{\"hoverinfo\":\"text\",\"line\":{\"color\":\"blue\",\"width\":0.34510793151786423},\"mode\":\"lines\",\"text\":[\"Tyrion-Lannister--Kevan-Lannister: 1.0833333333333333\"],\"x\":[-0.06482818728114911,0.038725095394137404,null],\"y\":[-0.13603594747656403,-0.17198252621642945,null],\"type\":\"scatter\"},{\"hoverinfo\":\"text\",\"line\":{\"color\":\"blue\",\"width\":0.30732960033145773},\"mode\":\"lines\",\"text\":[\"Tyrion-Lannister--Kurleket: 1.0138888888888888\"],\"x\":[-0.06482818728114911,-0.34610266209825746,null],\"y\":[-0.13603594747656403,-0.11436160134328884,null],\"type\":\"scatter\"},{\"hoverinfo\":\"text\",\"line\":{\"color\":\"blue\",\"width\":0.3036553222084388},\"mode\":\"lines\",\"text\":[\"Tyrion-Lannister--Leo-Lefford: 1.0069444444444444\"],\"x\":[-0.06482818728114911,-0.33568785814777485,null],\"y\":[-0.13603594747656403,-0.07637760921540732,null],\"type\":\"scatter\"},{\"hoverinfo\":\"text\",\"line\":{\"color\":\"blue\",\"width\":0.32598420029006264},\"mode\":\"lines\",\"text\":[\"Tyrion-Lannister--Luwin: 1.0486111111111112\"],\"x\":[-0.06482818728114911,-0.09543015503848222,null],\"y\":[-0.13603594747656403,-0.033676325759921015,null],\"type\":\"scatter\"},{\"hoverinfo\":\"text\",\"line\":{\"color\":\"blue\",\"width\":0.38474771355418536},\"mode\":\"lines\",\"text\":[\"Tyrion-Lannister--Lysa-Arryn: 1.1527777777777777\"],\"x\":[-0.06482818728114911,0.12653315489042977,null],\"y\":[-0.13603594747656403,-0.09013791103676602,null],\"type\":\"scatter\"},{\"hoverinfo\":\"text\",\"line\":{\"color\":\"blue\",\"width\":0.32598420029006264},\"mode\":\"lines\",\"text\":[\"Tyrion-Lannister--Marillion: 1.0486111111111112\"],\"x\":[-0.06482818728114911,0.009807945683700232,null],\"y\":[-0.13603594747656403,-0.22617742973005572,null],\"type\":\"scatter\"},{\"hoverinfo\":\"text\",\"line\":{\"color\":\"blue\",\"width\":0.36469698806687256},\"mode\":\"lines\",\"text\":[\"Tyrion-Lannister--Mord: 1.1180555555555556\"],\"x\":[-0.06482818728114911,-0.28971459286676854,null],\"y\":[-0.13603594747656403,-0.11951445264392645,null],\"type\":\"scatter\"},{\"hoverinfo\":\"text\",\"line\":{\"color\":\"blue\",\"width\":0.30732960033145773},\"mode\":\"lines\",\"text\":[\"Tyrion-Lannister--Morrec: 1.0138888888888888\"],\"x\":[-0.06482818728114911,-0.3258417493624405,null],\"y\":[-0.13603594747656403,-0.19817554510506186,null],\"type\":\"scatter\"},{\"hoverinfo\":\"text\",\"line\":{\"color\":\"blue\",\"width\":0.3297715400664042},\"mode\":\"lines\",\"text\":[\"Tyrion-Lannister--Petyr-Baelish: 1.0555555555555556\"],\"x\":[-0.06482818728114911,0.05648083182260479,null],\"y\":[-0.13603594747656403,0.03260685690219549,null],\"type\":\"scatter\"},{\"hoverinfo\":\"text\",\"line\":{\"color\":\"blue\",\"width\":0.3036553222084388},\"mode\":\"lines\",\"text\":[\"Tyrion-Lannister--Renly-Baratheon: 1.0069444444444444\"],\"x\":[-0.06482818728114911,0.09935036609841824,null],\"y\":[-0.13603594747656403,0.0404126925892233,null],\"type\":\"scatter\"},{\"hoverinfo\":\"text\",\"line\":{\"color\":\"blue\",\"width\":0.3036553222084388},\"mode\":\"lines\",\"text\":[\"Tyrion-Lannister--Rickon-Stark: 1.0069444444444444\"],\"x\":[-0.06482818728114911,-0.031226770640811058,null],\"y\":[-0.13603594747656403,-0.04175810966117788,null],\"type\":\"scatter\"},{\"hoverinfo\":\"text\",\"line\":{\"color\":\"blue\",\"width\":0.3297715400664042},\"mode\":\"lines\",\"text\":[\"Tyrion-Lannister--Robb-Stark: 1.0555555555555556\"],\"x\":[-0.06482818728114911,-0.043314398094237976,null],\"y\":[-0.13603594747656403,-0.05668054863819679,null],\"type\":\"scatter\"},{\"hoverinfo\":\"text\",\"line\":{\"color\":\"blue\",\"width\":0.32221562524998465},\"mode\":\"lines\",\"text\":[\"Tyrion-Lannister--Robert-Arryn: 1.0416666666666665\"],\"x\":[-0.06482818728114911,0.09616131519156314,null],\"y\":[-0.13603594747656403,-0.22373173822578152,null],\"type\":\"scatter\"},{\"hoverinfo\":\"text\",\"line\":{\"color\":\"blue\",\"width\":0.32598420029006264},\"mode\":\"lines\",\"text\":[\"Tyrion-Lannister--Rodrik-Cassel: 1.0486111111111112\"],\"x\":[-0.06482818728114911,0.0023389107467837325,null],\"y\":[-0.13603594747656403,-0.06416374395556995,null],\"type\":\"scatter\"},{\"hoverinfo\":\"text\",\"line\":{\"color\":\"blue\",\"width\":0.30732960033145773},\"mode\":\"lines\",\"text\":[\"Tyrion-Lannister--Sandor-Clegane: 1.0138888888888888\"],\"x\":[-0.06482818728114911,0.12952798707083144,null],\"y\":[-0.13603594747656403,0.019266875519648598,null],\"type\":\"scatter\"},{\"hoverinfo\":\"text\",\"line\":{\"color\":\"blue\",\"width\":0.3},\"mode\":\"lines\",\"text\":[\"Tyrion-Lannister--Sansa-Stark: 1.0\"],\"x\":[-0.06482818728114911,0.0456143512727685,null],\"y\":[-0.13603594747656403,0.05750169859092548,null],\"type\":\"scatter\"},{\"hoverinfo\":\"text\",\"line\":{\"color\":\"blue\",\"width\":0.33357761363923993},\"mode\":\"lines\",\"text\":[\"Tyrion-Lannister--Shae: 1.0625\"],\"x\":[-0.06482818728114911,-0.09735053033051182,null],\"y\":[-0.13603594747656403,-0.3312462527729454,null],\"type\":\"scatter\"},{\"hoverinfo\":\"text\",\"line\":{\"color\":\"blue\",\"width\":0.3528879230914017},\"mode\":\"lines\",\"text\":[\"Tyrion-Lannister--Shagga: 1.097222222222222\"],\"x\":[-0.06482818728114911,-0.06265965517457163,null],\"y\":[-0.13603594747656403,-0.48662507972631747,null],\"type\":\"scatter\"},{\"hoverinfo\":\"text\",\"line\":{\"color\":\"blue\",\"width\":0.3},\"mode\":\"lines\",\"text\":[\"Tyrion-Lannister--Theon-Greyjoy: 1.0\"],\"x\":[-0.06482818728114911,-0.018570992946724544,null],\"y\":[-0.13603594747656403,-0.09792368559960818,null],\"type\":\"scatter\"},{\"hoverinfo\":\"text\",\"line\":{\"color\":\"blue\",\"width\":0.3},\"mode\":\"lines\",\"text\":[\"Tyrion-Lannister--Timett: 1.0\"],\"x\":[-0.06482818728114911,-0.09673037189424312,null],\"y\":[-0.13603594747656403,-0.40245672310061986,null],\"type\":\"scatter\"},{\"hoverinfo\":\"text\",\"line\":{\"color\":\"blue\",\"width\":0.3},\"mode\":\"lines\",\"text\":[\"Tyrion-Lannister--Tommen-Baratheon: 1.0\"],\"x\":[-0.06482818728114911,-0.02099681451767266,null],\"y\":[-0.13603594747656403,-0.0021973061319556933,null],\"type\":\"scatter\"},{\"hoverinfo\":\"text\",\"line\":{\"color\":\"blue\",\"width\":0.44763537463299646},\"mode\":\"lines\",\"text\":[\"Tyrion-Lannister--Tywin-Lannister: 1.2569444444444444\"],\"x\":[-0.06482818728114911,0.032045134513899176,null],\"y\":[-0.13603594747656403,-0.039305273695998115,null],\"type\":\"scatter\"},{\"hoverinfo\":\"text\",\"line\":{\"color\":\"blue\",\"width\":0.32221562524998465},\"mode\":\"lines\",\"text\":[\"Tyrion-Lannister--Vardis-Egen: 1.0416666666666665\"],\"x\":[-0.06482818728114911,0.11085422952634162,null],\"y\":[-0.13603594747656403,-0.25076953405138547,null],\"type\":\"scatter\"},{\"hoverinfo\":\"text\",\"line\":{\"color\":\"blue\",\"width\":0.3},\"mode\":\"lines\",\"text\":[\"Tyrion-Lannister--Varys: 1.0\"],\"x\":[-0.06482818728114911,0.036618960965745066,null],\"y\":[-0.13603594747656403,0.0952360213840959,null],\"type\":\"scatter\"},{\"hoverinfo\":\"text\",\"line\":{\"color\":\"blue\",\"width\":0.3036553222084388},\"mode\":\"lines\",\"text\":[\"Tyrion-Lannister--Willis-Wode: 1.0069444444444444\"],\"x\":[-0.06482818728114911,-0.03202913141501781,null],\"y\":[-0.13603594747656403,-0.24056066045048197,null],\"type\":\"scatter\"},{\"hoverinfo\":\"text\",\"line\":{\"color\":\"blue\",\"width\":0.32598420029006264},\"mode\":\"lines\",\"text\":[\"Tyrion-Lannister--Yoren: 1.0486111111111112\"],\"x\":[-0.06482818728114911,-0.13829944821982637,null],\"y\":[-0.13603594747656403,-0.09318015549971584,null],\"type\":\"scatter\"},{\"hoverinfo\":\"text\",\"line\":{\"color\":\"blue\",\"width\":0.7603744952713045},\"mode\":\"lines\",\"text\":[\"Sansa-Stark--Arya-Stark: 1.7013888888888888\"],\"x\":[0.0456143512727685,0.03199436451402057,null],\"y\":[0.05750169859092548,0.02078565327859566,null],\"type\":\"scatter\"},{\"hoverinfo\":\"text\",\"line\":{\"color\":\"blue\",\"width\":0.3},\"mode\":\"lines\",\"text\":[\"Sansa-Stark--Barristan-Selmy: 1.0\"],\"x\":[0.0456143512727685,0.12937540553129614,null],\"y\":[0.05750169859092548,0.06281701710849813,null],\"type\":\"scatter\"},{\"hoverinfo\":\"text\",\"line\":{\"color\":\"blue\",\"width\":0.3036553222084388},\"mode\":\"lines\",\"text\":[\"Sansa-Stark--Beric-Dondarrion: 1.0069444444444444\"],\"x\":[0.0456143512727685,0.2514470848015286,null],\"y\":[0.05750169859092548,0.10344060167222606,null],\"type\":\"scatter\"},{\"hoverinfo\":\"text\",\"line\":{\"color\":\"blue\",\"width\":0.31102280182627423},\"mode\":\"lines\",\"text\":[\"Sansa-Stark--Boros-Blount: 1.0208333333333333\"],\"x\":[0.0456143512727685,0.19767877967959777,null],\"y\":[0.05750169859092548,-0.007191383086253683,null],\"type\":\"scatter\"},{\"hoverinfo\":\"text\",\"line\":{\"color\":\"blue\",\"width\":0.32598420029006264},\"mode\":\"lines\",\"text\":[\"Sansa-Stark--Bran-Stark: 1.0486111111111112\"],\"x\":[0.0456143512727685,-0.08490608606434874,null],\"y\":[0.05750169859092548,-0.0009500509863035247,null],\"type\":\"scatter\"},{\"hoverinfo\":\"text\",\"line\":{\"color\":\"blue\",\"width\":0.32221562524998465},\"mode\":\"lines\",\"text\":[\"Sansa-Stark--Catelyn-Stark: 1.0416666666666665\"],\"x\":[0.0456143512727685,0.07103519122741635,null],\"y\":[0.05750169859092548,-0.13779150827046416,null],\"type\":\"scatter\"},{\"hoverinfo\":\"text\",\"line\":{\"color\":\"blue\",\"width\":0.40111832766448136},\"mode\":\"lines\",\"text\":[\"Sansa-Stark--Cersei-Lannister: 1.1805555555555556\"],\"x\":[0.0456143512727685,0.065324051953967,null],\"y\":[0.05750169859092548,-0.011306557654175996,null],\"type\":\"scatter\"},{\"hoverinfo\":\"text\",\"line\":{\"color\":\"blue\",\"width\":0.30732960033145773},\"mode\":\"lines\",\"text\":[\"Sansa-Stark--Gregor-Clegane: 1.0138888888888888\"],\"x\":[0.0456143512727685,0.07693119390322473,null],\"y\":[0.05750169859092548,0.04684415948750067,null],\"type\":\"scatter\"},{\"hoverinfo\":\"text\",\"line\":{\"color\":\"blue\",\"width\":0.32221562524998465},\"mode\":\"lines\",\"text\":[\"Sansa-Stark--Ilyn-Payne: 1.0416666666666665\"],\"x\":[0.0456143512727685,0.10493895598371764,null],\"y\":[0.05750169859092548,0.12975215603867807,null],\"type\":\"scatter\"},{\"hoverinfo\":\"text\",\"line\":{\"color\":\"blue\",\"width\":0.3},\"mode\":\"lines\",\"text\":[\"Sansa-Stark--Jaime-Lannister: 1.0\"],\"x\":[0.0456143512727685,0.08411778299242077,null],\"y\":[0.05750169859092548,-0.0127285298056426,null],\"type\":\"scatter\"},{\"hoverinfo\":\"text\",\"line\":{\"color\":\"blue\",\"width\":0.3},\"mode\":\"lines\",\"text\":[\"Sansa-Stark--Janos-Slynt: 1.0\"],\"x\":[0.0456143512727685,0.13419213924015455,null],\"y\":[0.05750169859092548,0.12636956328109705,null],\"type\":\"scatter\"},{\"hoverinfo\":\"text\",\"line\":{\"color\":\"blue\",\"width\":0.3928964787632692},\"mode\":\"lines\",\"text\":[\"Sansa-Stark--Jeyne-Poole: 1.1666666666666665\"],\"x\":[0.0456143512727685,0.15671453143493377,null],\"y\":[0.05750169859092548,0.05471148992048057,null],\"type\":\"scatter\"},{\"hoverinfo\":\"text\",\"line\":{\"color\":\"blue\",\"width\":0.6704600047593908},\"mode\":\"lines\",\"text\":[\"Sansa-Stark--Joffrey-Baratheon: 1.5833333333333333\"],\"x\":[0.0456143512727685,0.06727571942920114,null],\"y\":[0.05750169859092548,0.009801685120611444,null],\"type\":\"scatter\"},{\"hoverinfo\":\"text\",\"line\":{\"color\":\"blue\",\"width\":0.32221562524998465},\"mode\":\"lines\",\"text\":[\"Sansa-Stark--Jory-Cassel: 1.0416666666666665\"],\"x\":[0.0456143512727685,-0.014992917689555097,null],\"y\":[0.05750169859092548,0.07085877790405458,null],\"type\":\"scatter\"},{\"hoverinfo\":\"text\",\"line\":{\"color\":\"blue\",\"width\":0.34124583967861705},\"mode\":\"lines\",\"text\":[\"Sansa-Stark--Loras-Tyrell: 1.0763888888888888\"],\"x\":[0.0456143512727685,0.18042954714332093,null],\"y\":[0.05750169859092548,0.10241972177968102,null],\"type\":\"scatter\"},{\"hoverinfo\":\"text\",\"line\":{\"color\":\"blue\",\"width\":0.3036553222084388},\"mode\":\"lines\",\"text\":[\"Sansa-Stark--Lyanna-Stark: 1.0069444444444444\"],\"x\":[0.0456143512727685,0.07854020176175182,null],\"y\":[0.05750169859092548,0.24050048357278792,null],\"type\":\"scatter\"},{\"hoverinfo\":\"text\",\"line\":{\"color\":\"blue\",\"width\":0.3036553222084388},\"mode\":\"lines\",\"text\":[\"Sansa-Stark--Maegor-I-Targaryen: 1.0069444444444444\"],\"x\":[0.0456143512727685,-0.1396102611343574,null],\"y\":[0.05750169859092548,0.26577036502076073,null],\"type\":\"scatter\"},{\"hoverinfo\":\"text\",\"line\":{\"color\":\"blue\",\"width\":0.30732960033145773},\"mode\":\"lines\",\"text\":[\"Sansa-Stark--Meryn-Trant: 1.0138888888888888\"],\"x\":[0.0456143512727685,0.17832790627769748,null],\"y\":[0.05750169859092548,0.05658916185941756,null],\"type\":\"scatter\"},{\"hoverinfo\":\"text\",\"line\":{\"color\":\"blue\",\"width\":0.46069986375815514},\"mode\":\"lines\",\"text\":[\"Sansa-Stark--Mordane: 1.2777777777777777\"],\"x\":[0.0456143512727685,0.02543575930860007,null],\"y\":[0.05750169859092548,-0.009281754547322905,null],\"type\":\"scatter\"},{\"hoverinfo\":\"text\",\"line\":{\"color\":\"blue\",\"width\":0.32598420029006264},\"mode\":\"lines\",\"text\":[\"Sansa-Stark--Mycah: 1.0486111111111112\"],\"x\":[0.0456143512727685,0.07212180934310158,null],\"y\":[0.05750169859092548,0.14112253354003632,null],\"type\":\"scatter\"},{\"hoverinfo\":\"text\",\"line\":{\"color\":\"blue\",\"width\":0.3184658461431345},\"mode\":\"lines\",\"text\":[\"Sansa-Stark--Myrcella-Baratheon: 1.034722222222222\"],\"x\":[0.0456143512727685,0.11358554520503127,null],\"y\":[0.05750169859092548,-0.02132348751762153,null],\"type\":\"scatter\"},{\"hoverinfo\":\"text\",\"line\":{\"color\":\"blue\",\"width\":0.3184658461431345},\"mode\":\"lines\",\"text\":[\"Sansa-Stark--Petyr-Baelish: 1.034722222222222\"],\"x\":[0.0456143512727685,0.05648083182260479,null],\"y\":[0.05750169859092548,0.03260685690219549,null],\"type\":\"scatter\"},{\"hoverinfo\":\"text\",\"line\":{\"color\":\"blue\",\"width\":0.3184658461431345},\"mode\":\"lines\",\"text\":[\"Sansa-Stark--Pycelle: 1.034722222222222\"],\"x\":[0.0456143512727685,0.0857655486770623,null],\"y\":[0.05750169859092548,0.08225288197648849,null],\"type\":\"scatter\"},{\"hoverinfo\":\"text\",\"line\":{\"color\":\"blue\",\"width\":0.30732960033145773},\"mode\":\"lines\",\"text\":[\"Sansa-Stark--Renly-Baratheon: 1.0138888888888888\"],\"x\":[0.0456143512727685,0.09935036609841824,null],\"y\":[0.05750169859092548,0.0404126925892233,null],\"type\":\"scatter\"},{\"hoverinfo\":\"text\",\"line\":{\"color\":\"blue\",\"width\":0.3},\"mode\":\"lines\",\"text\":[\"Sansa-Stark--Rhaegar-Targaryen: 1.0\"],\"x\":[0.0456143512727685,0.014653623613678292,null],\"y\":[0.05750169859092548,0.26775314626515023,null],\"type\":\"scatter\"},{\"hoverinfo\":\"text\",\"line\":{\"color\":\"blue\",\"width\":0.3184658461431345},\"mode\":\"lines\",\"text\":[\"Sansa-Stark--Rickon-Stark: 1.034722222222222\"],\"x\":[0.0456143512727685,-0.031226770640811058,null],\"y\":[0.05750169859092548,-0.04175810966117788,null],\"type\":\"scatter\"},{\"hoverinfo\":\"text\",\"line\":{\"color\":\"blue\",\"width\":0.3374023903222028},\"mode\":\"lines\",\"text\":[\"Sansa-Stark--Robb-Stark: 1.0694444444444444\"],\"x\":[0.0456143512727685,-0.043314398094237976,null],\"y\":[0.05750169859092548,-0.05668054863819679,null],\"type\":\"scatter\"},{\"hoverinfo\":\"text\",\"line\":{\"color\":\"blue\",\"width\":0.3766722511877533},\"mode\":\"lines\",\"text\":[\"Sansa-Stark--Sandor-Clegane: 1.1388888888888888\"],\"x\":[0.0456143512727685,0.12952798707083144,null],\"y\":[0.05750169859092548,0.019266875519648598,null],\"type\":\"scatter\"},{\"hoverinfo\":\"text\",\"line\":{\"color\":\"blue\",\"width\":0.3},\"mode\":\"lines\",\"text\":[\"Sansa-Stark--Stannis-Baratheon: 1.0\"],\"x\":[0.0456143512727685,0.10522382841735935,null],\"y\":[0.05750169859092548,0.02502521588793754,null],\"type\":\"scatter\"},{\"hoverinfo\":\"text\",\"line\":{\"color\":\"blue\",\"width\":0.3},\"mode\":\"lines\",\"text\":[\"Sansa-Stark--Tomard: 1.0\"],\"x\":[0.0456143512727685,0.08399729181974153,null],\"y\":[0.05750169859092548,0.17503157989834955,null],\"type\":\"scatter\"},{\"hoverinfo\":\"text\",\"line\":{\"color\":\"blue\",\"width\":0.3036553222084388},\"mode\":\"lines\",\"text\":[\"Sansa-Stark--Varys: 1.0069444444444444\"],\"x\":[0.0456143512727685,0.036618960965745066,null],\"y\":[0.05750169859092548,0.0952360213840959,null],\"type\":\"scatter\"},{\"hoverinfo\":\"text\",\"line\":{\"color\":\"blue\",\"width\":0.34124583967861705},\"mode\":\"lines\",\"text\":[\"Bran-Stark--Arya-Stark: 1.0763888888888888\"],\"x\":[-0.08490608606434874,0.03199436451402057,null],\"y\":[-0.0009500509863035247,0.02078565327859566,null],\"type\":\"scatter\"},{\"hoverinfo\":\"text\",\"line\":{\"color\":\"blue\",\"width\":0.31102280182627423},\"mode\":\"lines\",\"text\":[\"Bran-Stark--Benjen-Stark: 1.0208333333333333\"],\"x\":[-0.08490608606434874,-0.12405528656493038,null],\"y\":[-0.0009500509863035247,-0.1404897871753785,null],\"type\":\"scatter\"},{\"hoverinfo\":\"text\",\"line\":{\"color\":\"blue\",\"width\":0.35680576364309297},\"mode\":\"lines\",\"text\":[\"Bran-Stark--Catelyn-Stark: 1.1041666666666665\"],\"x\":[-0.08490608606434874,0.07103519122741635,null],\"y\":[-0.0009500509863035247,-0.13779150827046416,null],\"type\":\"scatter\"},{\"hoverinfo\":\"text\",\"line\":{\"color\":\"blue\",\"width\":0.31102280182627423},\"mode\":\"lines\",\"text\":[\"Bran-Stark--Cersei-Lannister: 1.0208333333333333\"],\"x\":[-0.08490608606434874,0.065324051953967,null],\"y\":[-0.0009500509863035247,-0.011306557654175996,null],\"type\":\"scatter\"},{\"hoverinfo\":\"text\",\"line\":{\"color\":\"blue\",\"width\":0.3},\"mode\":\"lines\",\"text\":[\"Bran-Stark--Hali: 1.0\"],\"x\":[-0.08490608606434874,-0.33762955600626954,null],\"y\":[-0.0009500509863035247,0.13601910006038184,null],\"type\":\"scatter\"},{\"hoverinfo\":\"text\",\"line\":{\"color\":\"blue\",\"width\":0.3},\"mode\":\"lines\",\"text\":[\"Bran-Stark--Hallis-Mollen: 1.0\"],\"x\":[-0.08490608606434874,-0.08801516159779224,null],\"y\":[-0.0009500509863035247,-0.12258939900067763,null],\"type\":\"scatter\"},{\"hoverinfo\":\"text\",\"line\":{\"color\":\"blue\",\"width\":0.40111832766448136},\"mode\":\"lines\",\"text\":[\"Bran-Stark--Hodor: 1.1805555555555556\"],\"x\":[-0.08490608606434874,-0.2045012168232058,null],\"y\":[-0.0009500509863035247,0.03751775214914116,null],\"type\":\"scatter\"},{\"hoverinfo\":\"text\",\"line\":{\"color\":\"blue\",\"width\":0.3},\"mode\":\"lines\",\"text\":[\"Bran-Stark--Hullen: 1.0\"],\"x\":[-0.08490608606434874,-0.11711798678681166,null],\"y\":[-0.0009500509863035247,0.08073306188728846,null],\"type\":\"scatter\"},{\"hoverinfo\":\"text\",\"line\":{\"color\":\"blue\",\"width\":0.3036553222084388},\"mode\":\"lines\",\"text\":[\"Bran-Stark--Jeor-Mormont: 1.0069444444444444\"],\"x\":[-0.08490608606434874,-0.21544125756345248,null],\"y\":[-0.0009500509863035247,-0.17131508038589652,null],\"type\":\"scatter\"},{\"hoverinfo\":\"text\",\"line\":{\"color\":\"blue\",\"width\":0.3},\"mode\":\"lines\",\"text\":[\"Bran-Stark--Joffrey-Baratheon: 1.0\"],\"x\":[-0.08490608606434874,0.06727571942920114,null],\"y\":[-0.0009500509863035247,0.009801685120611444,null],\"type\":\"scatter\"},{\"hoverinfo\":\"text\",\"line\":{\"color\":\"blue\",\"width\":0.31473489442754443},\"mode\":\"lines\",\"text\":[\"Bran-Stark--Jon-Arryn: 1.0277777777777777\"],\"x\":[-0.08490608606434874,0.017573226254451197,null],\"y\":[-0.0009500509863035247,0.04811545290389017,null],\"type\":\"scatter\"},{\"hoverinfo\":\"text\",\"line\":{\"color\":\"blue\",\"width\":0.3297715400664042},\"mode\":\"lines\",\"text\":[\"Bran-Stark--Jory-Cassel: 1.0555555555555556\"],\"x\":[-0.08490608606434874,-0.014992917689555097,null],\"y\":[-0.0009500509863035247,0.07085877790405458,null],\"type\":\"scatter\"},{\"hoverinfo\":\"text\",\"line\":{\"color\":\"blue\",\"width\":0.3036553222084388},\"mode\":\"lines\",\"text\":[\"Bran-Stark--Joseth: 1.0069444444444444\"],\"x\":[-0.08490608606434874,-0.24871508130847456,null],\"y\":[-0.0009500509863035247,0.09724784517348031,null],\"type\":\"scatter\"},{\"hoverinfo\":\"text\",\"line\":{\"color\":\"blue\",\"width\":0.5613768886775448},\"mode\":\"lines\",\"text\":[\"Bran-Stark--Luwin: 1.4305555555555554\"],\"x\":[-0.08490608606434874,-0.09543015503848222,null],\"y\":[-0.0009500509863035247,-0.033676325759921015,null],\"type\":\"scatter\"},{\"hoverinfo\":\"text\",\"line\":{\"color\":\"blue\",\"width\":0.3528879230914017},\"mode\":\"lines\",\"text\":[\"Bran-Stark--Nan: 1.097222222222222\"],\"x\":[-0.08490608606434874,-0.21240253818389077,null],\"y\":[-0.0009500509863035247,0.00183968232902158,null],\"type\":\"scatter\"},{\"hoverinfo\":\"text\",\"line\":{\"color\":\"blue\",\"width\":0.33357761363923993},\"mode\":\"lines\",\"text\":[\"Bran-Stark--Osha: 1.0625\"],\"x\":[-0.08490608606434874,-0.21335158047053362,null],\"y\":[-0.0009500509863035247,-0.0406260749759265,null],\"type\":\"scatter\"},{\"hoverinfo\":\"text\",\"line\":{\"color\":\"blue\",\"width\":0.3},\"mode\":\"lines\",\"text\":[\"Bran-Stark--Petyr-Baelish: 1.0\"],\"x\":[-0.08490608606434874,0.05648083182260479,null],\"y\":[-0.0009500509863035247,0.03260685690219549,null],\"type\":\"scatter\"},{\"hoverinfo\":\"text\",\"line\":{\"color\":\"blue\",\"width\":0.3},\"mode\":\"lines\",\"text\":[\"Bran-Stark--Renly-Baratheon: 1.0\"],\"x\":[-0.08490608606434874,0.09935036609841824,null],\"y\":[-0.0009500509863035247,0.0404126925892233,null],\"type\":\"scatter\"},{\"hoverinfo\":\"text\",\"line\":{\"color\":\"blue\",\"width\":0.3036553222084388},\"mode\":\"lines\",\"text\":[\"Bran-Stark--Rickard-Karstark: 1.0069444444444444\"],\"x\":[-0.08490608606434874,-0.07201238999138217,null],\"y\":[-0.0009500509863035247,0.023898206162544497,null],\"type\":\"scatter\"},{\"hoverinfo\":\"text\",\"line\":{\"color\":\"blue\",\"width\":0.3036553222084388},\"mode\":\"lines\",\"text\":[\"Bran-Stark--Rickard-Stark: 1.0069444444444444\"],\"x\":[-0.08490608606434874,-0.15523425905447666,null],\"y\":[-0.0009500509863035247,0.20786219138544812,null],\"type\":\"scatter\"},{\"hoverinfo\":\"text\",\"line\":{\"color\":\"blue\",\"width\":0.4135876614931034},\"mode\":\"lines\",\"text\":[\"Bran-Stark--Rickon-Stark: 1.2013888888888888\"],\"x\":[-0.08490608606434874,-0.031226770640811058,null],\"y\":[-0.0009500509863035247,-0.04175810966117788,null],\"type\":\"scatter\"},{\"hoverinfo\":\"text\",\"line\":{\"color\":\"blue\",\"width\":0.804355073723119},\"mode\":\"lines\",\"text\":[\"Bran-Stark--Robb-Stark: 1.7569444444444442\"],\"x\":[-0.08490608606434874,-0.043314398094237976,null],\"y\":[-0.0009500509863035247,-0.05668054863819679,null],\"type\":\"scatter\"},{\"hoverinfo\":\"text\",\"line\":{\"color\":\"blue\",\"width\":0.31102280182627423},\"mode\":\"lines\",\"text\":[\"Bran-Stark--Rodrik-Cassel: 1.0208333333333333\"],\"x\":[-0.08490608606434874,0.0023389107467837325,null],\"y\":[-0.0009500509863035247,-0.06416374395556995,null],\"type\":\"scatter\"},{\"hoverinfo\":\"text\",\"line\":{\"color\":\"blue\",\"width\":0.3036553222084388},\"mode\":\"lines\",\"text\":[\"Bran-Stark--Stiv: 1.0069444444444444\"],\"x\":[-0.08490608606434874,-0.253863738754804,null],\"y\":[-0.0009500509863035247,0.0017766542400898446,null],\"type\":\"scatter\"},{\"hoverinfo\":\"text\",\"line\":{\"color\":\"blue\",\"width\":0.3766722511877533},\"mode\":\"lines\",\"text\":[\"Bran-Stark--Theon-Greyjoy: 1.1388888888888888\"],\"x\":[-0.08490608606434874,-0.018570992946724544,null],\"y\":[-0.0009500509863035247,-0.09792368559960818,null],\"type\":\"scatter\"},{\"hoverinfo\":\"text\",\"line\":{\"color\":\"blue\",\"width\":0.30732960033145773},\"mode\":\"lines\",\"text\":[\"Bran-Stark--Tommen-Baratheon: 1.0138888888888888\"],\"x\":[-0.08490608606434874,-0.02099681451767266,null],\"y\":[-0.0009500509863035247,-0.0021973061319556933,null],\"type\":\"scatter\"},{\"hoverinfo\":\"text\",\"line\":{\"color\":\"blue\",\"width\":0.3},\"mode\":\"lines\",\"text\":[\"Bran-Stark--Yoren: 1.0\"],\"x\":[-0.08490608606434874,-0.13829944821982637,null],\"y\":[-0.0009500509863035247,-0.09318015549971584,null],\"type\":\"scatter\"},{\"hoverinfo\":\"text\",\"line\":{\"color\":\"blue\",\"width\":0.30732960033145773},\"mode\":\"lines\",\"text\":[\"Catelyn-Stark--Arya-Stark: 1.0138888888888888\"],\"x\":[0.07103519122741635,0.03199436451402057,null],\"y\":[-0.13779150827046416,0.02078565327859566,null],\"type\":\"scatter\"},{\"hoverinfo\":\"text\",\"line\":{\"color\":\"blue\",\"width\":0.31102280182627423},\"mode\":\"lines\",\"text\":[\"Catelyn-Stark--Bronn: 1.0208333333333333\"],\"x\":[0.07103519122741635,-0.010611193952538631,null],\"y\":[-0.13779150827046416,-0.261238230356099,null],\"type\":\"scatter\"},{\"hoverinfo\":\"text\",\"line\":{\"color\":\"blue\",\"width\":0.3489886358918264},\"mode\":\"lines\",\"text\":[\"Catelyn-Stark--Brynden-Tully: 1.0902777777777777\"],\"x\":[0.07103519122741635,0.07835692800964725,null],\"y\":[-0.13779150827046416,-0.1613095772366983,null],\"type\":\"scatter\"},{\"hoverinfo\":\"text\",\"line\":{\"color\":\"blue\",\"width\":0.33357761363923993},\"mode\":\"lines\",\"text\":[\"Catelyn-Stark--Cersei-Lannister: 1.0625\"],\"x\":[0.07103519122741635,0.065324051953967,null],\"y\":[-0.13779150827046416,-0.011306557654175996,null],\"type\":\"scatter\"},{\"hoverinfo\":\"text\",\"line\":{\"color\":\"blue\",\"width\":0.3},\"mode\":\"lines\",\"text\":[\"Catelyn-Stark--Colemon: 1.0\"],\"x\":[0.07103519122741635,0.18040745154196722,null],\"y\":[-0.13779150827046416,-0.3556137602753549,null],\"type\":\"scatter\"},{\"hoverinfo\":\"text\",\"line\":{\"color\":\"blue\",\"width\":0.3},\"mode\":\"lines\",\"text\":[\"Catelyn-Stark--Donnel-Waynwood: 1.0\"],\"x\":[0.07103519122741635,0.22490435256895988,null],\"y\":[-0.13779150827046416,-0.37910512208272845,null],\"type\":\"scatter\"},{\"hoverinfo\":\"text\",\"line\":{\"color\":\"blue\",\"width\":0.31473489442754443},\"mode\":\"lines\",\"text\":[\"Catelyn-Stark--Edmure-Tully: 1.0277777777777777\"],\"x\":[0.07103519122741635,0.023076472169538148,null],\"y\":[-0.13779150827046416,-0.07761245006425639,null],\"type\":\"scatter\"},{\"hoverinfo\":\"text\",\"line\":{\"color\":\"blue\",\"width\":0.3},\"mode\":\"lines\",\"text\":[\"Catelyn-Stark--Eon-Hunter: 1.0\"],\"x\":[0.07103519122741635,0.21897464053883478,null],\"y\":[-0.13779150827046416,-0.22966591651311055,null],\"type\":\"scatter\"},{\"hoverinfo\":\"text\",\"line\":{\"color\":\"blue\",\"width\":0.32598420029006264},\"mode\":\"lines\",\"text\":[\"Catelyn-Stark--Hallis-Mollen: 1.0486111111111112\"],\"x\":[0.07103519122741635,-0.08801516159779224,null],\"y\":[-0.13779150827046416,-0.12258939900067763,null],\"type\":\"scatter\"},{\"hoverinfo\":\"text\",\"line\":{\"color\":\"blue\",\"width\":0.31102280182627423},\"mode\":\"lines\",\"text\":[\"Catelyn-Stark--Hoster-Tully: 1.0208333333333333\"],\"x\":[0.07103519122741635,0.15596838332473842,null],\"y\":[-0.13779150827046416,-0.0920572605417538,null],\"type\":\"scatter\"},{\"hoverinfo\":\"text\",\"line\":{\"color\":\"blue\",\"width\":0.32221562524998465},\"mode\":\"lines\",\"text\":[\"Catelyn-Stark--Jaime-Lannister: 1.0416666666666665\"],\"x\":[0.07103519122741635,0.08411778299242077,null],\"y\":[-0.13779150827046416,-0.0127285298056426,null],\"type\":\"scatter\"},{\"hoverinfo\":\"text\",\"line\":{\"color\":\"blue\",\"width\":0.3036553222084388},\"mode\":\"lines\",\"text\":[\"Catelyn-Stark--Joffrey-Baratheon: 1.0069444444444444\"],\"x\":[0.07103519122741635,0.06727571942920114,null],\"y\":[-0.13779150827046416,0.009801685120611444,null],\"type\":\"scatter\"},{\"hoverinfo\":\"text\",\"line\":{\"color\":\"blue\",\"width\":0.3297715400664042},\"mode\":\"lines\",\"text\":[\"Catelyn-Stark--Jon-Arryn: 1.0555555555555556\"],\"x\":[0.07103519122741635,0.017573226254451197,null],\"y\":[-0.13779150827046416,0.04811545290389017,null],\"type\":\"scatter\"},{\"hoverinfo\":\"text\",\"line\":{\"color\":\"blue\",\"width\":0.3036553222084388},\"mode\":\"lines\",\"text\":[\"Catelyn-Stark--Jon-Umber-(Greatjon): 1.0069444444444444\"],\"x\":[0.07103519122741635,-0.12111407816859568,null],\"y\":[-0.13779150827046416,-0.027536695165753702,null],\"type\":\"scatter\"},{\"hoverinfo\":\"text\",\"line\":{\"color\":\"blue\",\"width\":0.34124583967861705},\"mode\":\"lines\",\"text\":[\"Catelyn-Stark--Luwin: 1.0763888888888888\"],\"x\":[0.07103519122741635,-0.09543015503848222,null],\"y\":[-0.13779150827046416,-0.033676325759921015,null],\"type\":\"scatter\"},{\"hoverinfo\":\"text\",\"line\":{\"color\":\"blue\",\"width\":0.41778041604270827},\"mode\":\"lines\",\"text\":[\"Catelyn-Stark--Lysa-Arryn: 1.2083333333333333\"],\"x\":[0.07103519122741635,0.12653315489042977,null],\"y\":[-0.13779150827046416,-0.09013791103676602,null],\"type\":\"scatter\"},{\"hoverinfo\":\"text\",\"line\":{\"color\":\"blue\",\"width\":0.31102280182627423},\"mode\":\"lines\",\"text\":[\"Catelyn-Stark--Marillion: 1.0208333333333333\"],\"x\":[0.07103519122741635,0.009807945683700232,null],\"y\":[-0.13779150827046416,-0.22617742973005572,null],\"type\":\"scatter\"},{\"hoverinfo\":\"text\",\"line\":{\"color\":\"blue\",\"width\":0.30732960033145773},\"mode\":\"lines\",\"text\":[\"Catelyn-Stark--Masha-Heddle: 1.0138888888888888\"],\"x\":[0.07103519122741635,0.30550982251857833,null],\"y\":[-0.13779150827046416,-0.26999159841945547,null],\"type\":\"scatter\"},{\"hoverinfo\":\"text\",\"line\":{\"color\":\"blue\",\"width\":0.3},\"mode\":\"lines\",\"text\":[\"Catelyn-Stark--Moreo-Tumitis: 1.0\"],\"x\":[0.07103519122741635,0.0174810043311655,null],\"y\":[-0.13779150827046416,-0.3526522905287586,null],\"type\":\"scatter\"},{\"hoverinfo\":\"text\",\"line\":{\"color\":\"blue\",\"width\":0.32221562524998465},\"mode\":\"lines\",\"text\":[\"Catelyn-Stark--Mya-Stone: 1.0416666666666665\"],\"x\":[0.07103519122741635,0.25410521431873784,null],\"y\":[-0.13779150827046416,-0.3376073529707924,null],\"type\":\"scatter\"},{\"hoverinfo\":\"text\",\"line\":{\"color\":\"blue\",\"width\":0.3},\"mode\":\"lines\",\"text\":[\"Catelyn-Stark--Mychel-Redfort: 1.0\"],\"x\":[0.07103519122741635,0.28769278907206747,null],\"y\":[-0.13779150827046416,-0.3112414340482414,null],\"type\":\"scatter\"},{\"hoverinfo\":\"text\",\"line\":{\"color\":\"blue\",\"width\":0.3},\"mode\":\"lines\",\"text\":[\"Catelyn-Stark--Nestor-Royce: 1.0\"],\"x\":[0.07103519122741635,0.1717819267667743,null],\"y\":[-0.13779150827046416,-0.30082156866848203,null],\"type\":\"scatter\"},{\"hoverinfo\":\"text\",\"line\":{\"color\":\"blue\",\"width\":0.37266207796196593},\"mode\":\"lines\",\"text\":[\"Catelyn-Stark--Petyr-Baelish: 1.1319444444444444\"],\"x\":[0.07103519122741635,0.05648083182260479,null],\"y\":[-0.13779150827046416,0.03260685690219549,null],\"type\":\"scatter\"},{\"hoverinfo\":\"text\",\"line\":{\"color\":\"blue\",\"width\":0.31102280182627423},\"mode\":\"lines\",\"text\":[\"Catelyn-Stark--Rickard-Karstark: 1.0208333333333333\"],\"x\":[0.07103519122741635,-0.07201238999138217,null],\"y\":[-0.13779150827046416,0.023898206162544497,null],\"type\":\"scatter\"},{\"hoverinfo\":\"text\",\"line\":{\"color\":\"blue\",\"width\":0.3},\"mode\":\"lines\",\"text\":[\"Catelyn-Stark--Rickon-Stark: 1.0\"],\"x\":[0.07103519122741635,-0.031226770640811058,null],\"y\":[-0.13779150827046416,-0.04175810966117788,null],\"type\":\"scatter\"},{\"hoverinfo\":\"text\",\"line\":{\"color\":\"blue\",\"width\":0.48731041704040057},\"mode\":\"lines\",\"text\":[\"Catelyn-Stark--Robb-Stark: 1.3194444444444444\"],\"x\":[0.07103519122741635,-0.043314398094237976,null],\"y\":[-0.13779150827046416,-0.05668054863819679,null],\"type\":\"scatter\"},{\"hoverinfo\":\"text\",\"line\":{\"color\":\"blue\",\"width\":0.3},\"mode\":\"lines\",\"text\":[\"Catelyn-Stark--Robert-Arryn: 1.0\"],\"x\":[0.07103519122741635,0.09616131519156314,null],\"y\":[-0.13779150827046416,-0.22373173822578152,null],\"type\":\"scatter\"},{\"hoverinfo\":\"text\",\"line\":{\"color\":\"blue\",\"width\":0.38474771355418536},\"mode\":\"lines\",\"text\":[\"Catelyn-Stark--Rodrik-Cassel: 1.1527777777777777\"],\"x\":[0.07103519122741635,0.0023389107467837325,null],\"y\":[-0.13779150827046416,-0.06416374395556995,null],\"type\":\"scatter\"},{\"hoverinfo\":\"text\",\"line\":{\"color\":\"blue\",\"width\":0.30732960033145773},\"mode\":\"lines\",\"text\":[\"Catelyn-Stark--Stevron-Frey: 1.0138888888888888\"],\"x\":[0.07103519122741635,0.14388716796303816,null],\"y\":[-0.13779150827046416,-0.38083504269794044,null],\"type\":\"scatter\"},{\"hoverinfo\":\"text\",\"line\":{\"color\":\"blue\",\"width\":0.32221562524998465},\"mode\":\"lines\",\"text\":[\"Catelyn-Stark--Theon-Greyjoy: 1.0416666666666665\"],\"x\":[0.07103519122741635,-0.018570992946724544,null],\"y\":[-0.13779150827046416,-0.09792368559960818,null],\"type\":\"scatter\"},{\"hoverinfo\":\"text\",\"line\":{\"color\":\"blue\",\"width\":0.3036553222084388},\"mode\":\"lines\",\"text\":[\"Catelyn-Stark--Tytos-Blackwood: 1.0069444444444444\"],\"x\":[0.07103519122741635,0.21953606299418665,null],\"y\":[-0.13779150827046416,-0.2881575947262707,null],\"type\":\"scatter\"},{\"hoverinfo\":\"text\",\"line\":{\"color\":\"blue\",\"width\":0.31473489442754443},\"mode\":\"lines\",\"text\":[\"Catelyn-Stark--Tywin-Lannister: 1.0277777777777777\"],\"x\":[0.07103519122741635,0.032045134513899176,null],\"y\":[-0.13779150827046416,-0.039305273695998115,null],\"type\":\"scatter\"},{\"hoverinfo\":\"text\",\"line\":{\"color\":\"blue\",\"width\":0.30732960033145773},\"mode\":\"lines\",\"text\":[\"Catelyn-Stark--Vardis-Egen: 1.0138888888888888\"],\"x\":[0.07103519122741635,0.11085422952634162,null],\"y\":[-0.13779150827046416,-0.25076953405138547,null],\"type\":\"scatter\"},{\"hoverinfo\":\"text\",\"line\":{\"color\":\"blue\",\"width\":0.32598420029006264},\"mode\":\"lines\",\"text\":[\"Catelyn-Stark--Varys: 1.0486111111111112\"],\"x\":[0.07103519122741635,0.036618960965745066,null],\"y\":[-0.13779150827046416,0.0952360213840959,null],\"type\":\"scatter\"},{\"hoverinfo\":\"text\",\"line\":{\"color\":\"blue\",\"width\":0.3374023903222028},\"mode\":\"lines\",\"text\":[\"Catelyn-Stark--Walder-Frey: 1.0694444444444444\"],\"x\":[0.07103519122741635,0.10924972152460961,null],\"y\":[-0.13779150827046416,-0.283093941314091,null],\"type\":\"scatter\"},{\"hoverinfo\":\"text\",\"line\":{\"color\":\"blue\",\"width\":0.3},\"mode\":\"lines\",\"text\":[\"Catelyn-Stark--Wendel-Manderly: 1.0\"],\"x\":[0.07103519122741635,0.04229755326967206,null],\"y\":[-0.13779150827046416,-0.2624986623493546,null],\"type\":\"scatter\"},{\"hoverinfo\":\"text\",\"line\":{\"color\":\"blue\",\"width\":0.30732960033145773},\"mode\":\"lines\",\"text\":[\"Catelyn-Stark--Willis-Wode: 1.0138888888888888\"],\"x\":[0.07103519122741635,-0.03202913141501781,null],\"y\":[-0.13779150827046416,-0.24056066045048197,null],\"type\":\"scatter\"},{\"hoverinfo\":\"text\",\"line\":{\"color\":\"blue\",\"width\":0.34510793151786423},\"mode\":\"lines\",\"text\":[\"Robb-Stark--Arya-Stark: 1.0833333333333333\"],\"x\":[-0.043314398094237976,0.03199436451402057,null],\"y\":[-0.05668054863819679,0.02078565327859566,null],\"type\":\"scatter\"},{\"hoverinfo\":\"text\",\"line\":{\"color\":\"blue\",\"width\":0.31473489442754443},\"mode\":\"lines\",\"text\":[\"Robb-Stark--Benjen-Stark: 1.0277777777777777\"],\"x\":[-0.043314398094237976,-0.12405528656493038,null],\"y\":[-0.05668054863819679,-0.1404897871753785,null],\"type\":\"scatter\"},{\"hoverinfo\":\"text\",\"line\":{\"color\":\"blue\",\"width\":0.32221562524998465},\"mode\":\"lines\",\"text\":[\"Robb-Stark--Brynden-Tully: 1.0416666666666665\"],\"x\":[-0.043314398094237976,0.07835692800964725,null],\"y\":[-0.05668054863819679,-0.1613095772366983,null],\"type\":\"scatter\"},{\"hoverinfo\":\"text\",\"line\":{\"color\":\"blue\",\"width\":0.30732960033145773},\"mode\":\"lines\",\"text\":[\"Robb-Stark--Edmure-Tully: 1.0138888888888888\"],\"x\":[-0.043314398094237976,0.023076472169538148,null],\"y\":[-0.05668054863819679,-0.07761245006425639,null],\"type\":\"scatter\"},{\"hoverinfo\":\"text\",\"line\":{\"color\":\"blue\",\"width\":0.30732960033145773},\"mode\":\"lines\",\"text\":[\"Robb-Stark--Galbart-Glover: 1.0138888888888888\"],\"x\":[-0.043314398094237976,-0.06014772243512612,null],\"y\":[-0.05668054863819679,0.08023590230817076,null],\"type\":\"scatter\"},{\"hoverinfo\":\"text\",\"line\":{\"color\":\"blue\",\"width\":0.3374023903222028},\"mode\":\"lines\",\"text\":[\"Robb-Stark--Hallis-Mollen: 1.0694444444444444\"],\"x\":[-0.043314398094237976,-0.08801516159779224,null],\"y\":[-0.05668054863819679,-0.12258939900067763,null],\"type\":\"scatter\"},{\"hoverinfo\":\"text\",\"line\":{\"color\":\"blue\",\"width\":0.30732960033145773},\"mode\":\"lines\",\"text\":[\"Robb-Stark--Hodor: 1.0138888888888888\"],\"x\":[-0.043314398094237976,-0.2045012168232058,null],\"y\":[-0.05668054863819679,0.03751775214914116,null],\"type\":\"scatter\"},{\"hoverinfo\":\"text\",\"line\":{\"color\":\"blue\",\"width\":0.3},\"mode\":\"lines\",\"text\":[\"Robb-Stark--Hullen: 1.0\"],\"x\":[-0.043314398094237976,-0.11711798678681166,null],\"y\":[-0.05668054863819679,0.08073306188728846,null],\"type\":\"scatter\"},{\"hoverinfo\":\"text\",\"line\":{\"color\":\"blue\",\"width\":0.32221562524998465},\"mode\":\"lines\",\"text\":[\"Robb-Stark--Jaime-Lannister: 1.0416666666666665\"],\"x\":[-0.043314398094237976,0.08411778299242077,null],\"y\":[-0.05668054863819679,-0.0127285298056426,null],\"type\":\"scatter\"},{\"hoverinfo\":\"text\",\"line\":{\"color\":\"blue\",\"width\":0.3607421283056655},\"mode\":\"lines\",\"text\":[\"Robb-Stark--Joffrey-Baratheon: 1.1111111111111112\"],\"x\":[-0.043314398094237976,0.06727571942920114,null],\"y\":[-0.05668054863819679,0.009801685120611444,null],\"type\":\"scatter\"},{\"hoverinfo\":\"text\",\"line\":{\"color\":\"blue\",\"width\":0.3184658461431345},\"mode\":\"lines\",\"text\":[\"Robb-Stark--Jon-Umber-(Greatjon): 1.034722222222222\"],\"x\":[-0.043314398094237976,-0.12111407816859568,null],\"y\":[-0.05668054863819679,-0.027536695165753702,null],\"type\":\"scatter\"},{\"hoverinfo\":\"text\",\"line\":{\"color\":\"blue\",\"width\":0.32221562524998465},\"mode\":\"lines\",\"text\":[\"Robb-Stark--Jory-Cassel: 1.0416666666666665\"],\"x\":[-0.043314398094237976,-0.014992917689555097,null],\"y\":[-0.05668054863819679,0.07085877790405458,null],\"type\":\"scatter\"},{\"hoverinfo\":\"text\",\"line\":{\"color\":\"blue\",\"width\":0.36469698806687256},\"mode\":\"lines\",\"text\":[\"Robb-Stark--Luwin: 1.1180555555555556\"],\"x\":[-0.043314398094237976,-0.09543015503848222,null],\"y\":[-0.05668054863819679,-0.033676325759921015,null],\"type\":\"scatter\"},{\"hoverinfo\":\"text\",\"line\":{\"color\":\"blue\",\"width\":0.3036553222084388},\"mode\":\"lines\",\"text\":[\"Robb-Stark--Nan: 1.0069444444444444\"],\"x\":[-0.043314398094237976,-0.21240253818389077,null],\"y\":[-0.05668054863819679,0.00183968232902158,null],\"type\":\"scatter\"},{\"hoverinfo\":\"text\",\"line\":{\"color\":\"blue\",\"width\":0.3},\"mode\":\"lines\",\"text\":[\"Robb-Stark--Osha: 1.0\"],\"x\":[-0.043314398094237976,-0.21335158047053362,null],\"y\":[-0.05668054863819679,-0.0406260749759265,null],\"type\":\"scatter\"},{\"hoverinfo\":\"text\",\"line\":{\"color\":\"blue\",\"width\":0.3},\"mode\":\"lines\",\"text\":[\"Robb-Stark--Renly-Baratheon: 1.0\"],\"x\":[-0.043314398094237976,0.09935036609841824,null],\"y\":[-0.05668054863819679,0.0404126925892233,null],\"type\":\"scatter\"},{\"hoverinfo\":\"text\",\"line\":{\"color\":\"blue\",\"width\":0.32221562524998465},\"mode\":\"lines\",\"text\":[\"Robb-Stark--Rickard-Karstark: 1.0416666666666665\"],\"x\":[-0.043314398094237976,-0.07201238999138217,null],\"y\":[-0.05668054863819679,0.023898206162544497,null],\"type\":\"scatter\"},{\"hoverinfo\":\"text\",\"line\":{\"color\":\"blue\",\"width\":0.36469698806687256},\"mode\":\"lines\",\"text\":[\"Robb-Stark--Rickon-Stark: 1.1180555555555556\"],\"x\":[-0.043314398094237976,-0.031226770640811058,null],\"y\":[-0.05668054863819679,-0.04175810966117788,null],\"type\":\"scatter\"},{\"hoverinfo\":\"text\",\"line\":{\"color\":\"blue\",\"width\":0.34510793151786423},\"mode\":\"lines\",\"text\":[\"Robb-Stark--Rodrik-Cassel: 1.0833333333333333\"],\"x\":[-0.043314398094237976,0.0023389107467837325,null],\"y\":[-0.05668054863819679,-0.06416374395556995,null],\"type\":\"scatter\"},{\"hoverinfo\":\"text\",\"line\":{\"color\":\"blue\",\"width\":0.31102280182627423},\"mode\":\"lines\",\"text\":[\"Robb-Stark--Roose-Bolton: 1.0208333333333333\"],\"x\":[-0.043314398094237976,-0.14337801887454882,null],\"y\":[-0.05668054863819679,0.03086387704045434,null],\"type\":\"scatter\"},{\"hoverinfo\":\"text\",\"line\":{\"color\":\"blue\",\"width\":0.3036553222084388},\"mode\":\"lines\",\"text\":[\"Robb-Stark--Samwell-Tarly: 1.0069444444444444\"],\"x\":[-0.043314398094237976,-0.26837498129823595,null],\"y\":[-0.05668054863819679,-0.26571040585496464,null],\"type\":\"scatter\"},{\"hoverinfo\":\"text\",\"line\":{\"color\":\"blue\",\"width\":0.3},\"mode\":\"lines\",\"text\":[\"Robb-Stark--Stiv: 1.0\"],\"x\":[-0.043314398094237976,-0.253863738754804,null],\"y\":[-0.05668054863819679,0.0017766542400898446,null],\"type\":\"scatter\"},{\"hoverinfo\":\"text\",\"line\":{\"color\":\"blue\",\"width\":0.43473228872184205},\"mode\":\"lines\",\"text\":[\"Robb-Stark--Theon-Greyjoy: 1.2361111111111112\"],\"x\":[-0.043314398094237976,-0.018570992946724544,null],\"y\":[-0.05668054863819679,-0.09792368559960818,null],\"type\":\"scatter\"},{\"hoverinfo\":\"text\",\"line\":{\"color\":\"blue\",\"width\":0.3},\"mode\":\"lines\",\"text\":[\"Robb-Stark--Torrhen-Karstark: 1.0\"],\"x\":[-0.043314398094237976,0.23060690400641837,null],\"y\":[-0.05668054863819679,0.0017181780161025716,null],\"type\":\"scatter\"},{\"hoverinfo\":\"text\",\"line\":{\"color\":\"blue\",\"width\":0.32221562524998465},\"mode\":\"lines\",\"text\":[\"Robb-Stark--Tywin-Lannister: 1.0416666666666665\"],\"x\":[-0.043314398094237976,0.032045134513899176,null],\"y\":[-0.05668054863819679,-0.039305273695998115,null],\"type\":\"scatter\"},{\"hoverinfo\":\"text\",\"line\":{\"color\":\"blue\",\"width\":0.31473489442754443},\"mode\":\"lines\",\"text\":[\"Robb-Stark--Walder-Frey: 1.0277777777777777\"],\"x\":[-0.043314398094237976,0.10924972152460961,null],\"y\":[-0.05668054863819679,-0.283093941314091,null],\"type\":\"scatter\"},{\"hoverinfo\":\"text\",\"line\":{\"color\":\"blue\",\"width\":0.3},\"mode\":\"lines\",\"text\":[\"Robb-Stark--Wendel-Manderly: 1.0\"],\"x\":[-0.043314398094237976,0.04229755326967206,null],\"y\":[-0.05668054863819679,-0.2624986623493546,null],\"type\":\"scatter\"},{\"hoverinfo\":\"text\",\"line\":{\"color\":\"blue\",\"width\":0.3},\"mode\":\"lines\",\"text\":[\"Robb-Stark--Yoren: 1.0\"],\"x\":[-0.043314398094237976,-0.13829944821982637,null],\"y\":[-0.05668054863819679,-0.09318015549971584,null],\"type\":\"scatter\"},{\"hoverinfo\":\"text\",\"line\":{\"color\":\"blue\",\"width\":0.30732960033145773},\"mode\":\"lines\",\"text\":[\"Daenerys-Targaryen--Aegon-I-Targaryen: 1.0138888888888888\"],\"x\":[0.0068743915869946895,0.11077050567470466,null],\"y\":[0.4737306563724346,0.39154871839973115,null],\"type\":\"scatter\"},{\"hoverinfo\":\"text\",\"line\":{\"color\":\"blue\",\"width\":0.3297715400664042},\"mode\":\"lines\",\"text\":[\"Daenerys-Targaryen--Aggo: 1.0555555555555556\"],\"x\":[0.0068743915869946895,0.017658330818026202,null],\"y\":[0.4737306563724346,0.6461942705341531,null],\"type\":\"scatter\"},{\"hoverinfo\":\"text\",\"line\":{\"color\":\"blue\",\"width\":0.31473489442754443},\"mode\":\"lines\",\"text\":[\"Daenerys-Targaryen--Cohollo: 1.0277777777777777\"],\"x\":[0.0068743915869946895,-0.10280686100720865,null],\"y\":[0.4737306563724346,0.6762262571885916,null],\"type\":\"scatter\"},{\"hoverinfo\":\"text\",\"line\":{\"color\":\"blue\",\"width\":0.34510793151786423},\"mode\":\"lines\",\"text\":[\"Daenerys-Targaryen--Doreah: 1.0833333333333333\"],\"x\":[0.0068743915869946895,-0.04154279145219459,null],\"y\":[0.4737306563724346,0.5798431442327341,null],\"type\":\"scatter\"},{\"hoverinfo\":\"text\",\"line\":{\"color\":\"blue\",\"width\":0.744155650915901},\"mode\":\"lines\",\"text\":[\"Daenerys-Targaryen--Drogo: 1.6805555555555554\"],\"x\":[0.0068743915869946895,-0.06562876222454485,null],\"y\":[0.4737306563724346,0.5779068024104821,null],\"type\":\"scatter\"},{\"hoverinfo\":\"text\",\"line\":{\"color\":\"blue\",\"width\":0.30732960033145773},\"mode\":\"lines\",\"text\":[\"Daenerys-Targaryen--Eroeh: 1.0138888888888888\"],\"x\":[0.0068743915869946895,0.09195990522416149,null],\"y\":[0.4737306563724346,0.7164079758909122,null],\"type\":\"scatter\"},{\"hoverinfo\":\"text\",\"line\":{\"color\":\"blue\",\"width\":0.33357761363923993},\"mode\":\"lines\",\"text\":[\"Daenerys-Targaryen--Haggo: 1.0625\"],\"x\":[0.0068743915869946895,-0.05808685149545533,null],\"y\":[0.4737306563724346,0.686396356589311,null],\"type\":\"scatter\"},{\"hoverinfo\":\"text\",\"line\":{\"color\":\"blue\",\"width\":0.38070080568987796},\"mode\":\"lines\",\"text\":[\"Daenerys-Targaryen--Illyrio-Mopatis: 1.1458333333333333\"],\"x\":[0.0068743915869946895,0.001079720675957324,null],\"y\":[0.4737306563724346,0.4279871367525846,null],\"type\":\"scatter\"},{\"hoverinfo\":\"text\",\"line\":{\"color\":\"blue\",\"width\":0.38474771355418536},\"mode\":\"lines\",\"text\":[\"Daenerys-Targaryen--Irri: 1.1527777777777777\"],\"x\":[0.0068743915869946895,-0.014371425948954717,null],\"y\":[0.4737306563724346,0.559054333378203,null],\"type\":\"scatter\"},{\"hoverinfo\":\"text\",\"line\":{\"color\":\"blue\",\"width\":0.38881294707719766},\"mode\":\"lines\",\"text\":[\"Daenerys-Targaryen--Jhiqui: 1.159722222222222\"],\"x\":[0.0068743915869946895,-0.09337088732850068,null],\"y\":[0.4737306563724346,0.603861909047303,null],\"type\":\"scatter\"},{\"hoverinfo\":\"text\",\"line\":{\"color\":\"blue\",\"width\":0.3528879230914017},\"mode\":\"lines\",\"text\":[\"Daenerys-Targaryen--Jhogo: 1.097222222222222\"],\"x\":[0.0068743915869946895,0.01830446134818916,null],\"y\":[0.4737306563724346,0.6141754614620935,null],\"type\":\"scatter\"},{\"hoverinfo\":\"text\",\"line\":{\"color\":\"blue\",\"width\":0.6099313524366452},\"mode\":\"lines\",\"text\":[\"Daenerys-Targaryen--Jorah-Mormont: 1.5\"],\"x\":[0.0068743915869946895,-0.019064354672386447,null],\"y\":[0.4737306563724346,0.48259338219442455,null],\"type\":\"scatter\"},{\"hoverinfo\":\"text\",\"line\":{\"color\":\"blue\",\"width\":0.40941304434461595},\"mode\":\"lines\",\"text\":[\"Daenerys-Targaryen--Mirri-Maz-Duur: 1.1944444444444444\"],\"x\":[0.0068743915869946895,-0.024755329664524837,null],\"y\":[0.4737306563724346,0.632344800738363,null],\"type\":\"scatter\"},{\"hoverinfo\":\"text\",\"line\":{\"color\":\"blue\",\"width\":0.35680576364309297},\"mode\":\"lines\",\"text\":[\"Daenerys-Targaryen--Qotho: 1.1041666666666665\"],\"x\":[0.0068743915869946895,-0.0644145317183468,null],\"y\":[0.4737306563724346,0.6399533884998166,null],\"type\":\"scatter\"},{\"hoverinfo\":\"text\",\"line\":{\"color\":\"blue\",\"width\":0.30732960033145773},\"mode\":\"lines\",\"text\":[\"Daenerys-Targaryen--Quaro: 1.0138888888888888\"],\"x\":[0.0068743915869946895,-0.02160750082307075,null],\"y\":[0.4737306563724346,0.6967630051148899,null],\"type\":\"scatter\"},{\"hoverinfo\":\"text\",\"line\":{\"color\":\"blue\",\"width\":0.3036553222084388},\"mode\":\"lines\",\"text\":[\"Daenerys-Targaryen--Rakharo: 1.0069444444444444\"],\"x\":[0.0068743915869946895,0.008411991256053361,null],\"y\":[0.4737306563724346,0.6967729280253329,null],\"type\":\"scatter\"},{\"hoverinfo\":\"text\",\"line\":{\"color\":\"blue\",\"width\":0.3036553222084388},\"mode\":\"lines\",\"text\":[\"Daenerys-Targaryen--Rhaegar-Targaryen: 1.0069444444444444\"],\"x\":[0.0068743915869946895,0.014653623613678292,null],\"y\":[0.4737306563724346,0.26775314626515023,null],\"type\":\"scatter\"},{\"hoverinfo\":\"text\",\"line\":{\"color\":\"blue\",\"width\":0.30732960033145773},\"mode\":\"lines\",\"text\":[\"Daenerys-Targaryen--Varys: 1.0138888888888888\"],\"x\":[0.0068743915869946895,0.036618960965745066,null],\"y\":[0.4737306563724346,0.0952360213840959,null],\"type\":\"scatter\"},{\"hoverinfo\":\"text\",\"line\":{\"color\":\"blue\",\"width\":0.43473228872184205},\"mode\":\"lines\",\"text\":[\"Daenerys-Targaryen--Viserys-Targaryen: 1.2361111111111112\"],\"x\":[0.0068743915869946895,-0.027909544187174198,null],\"y\":[0.4737306563724346,0.42414680182602954,null],\"type\":\"scatter\"},{\"hoverinfo\":\"text\",\"line\":{\"color\":\"blue\",\"width\":0.3},\"mode\":\"lines\",\"text\":[\"Arya-Stark--Benjen-Stark: 1.0\"],\"x\":[0.03199436451402057,-0.12405528656493038,null],\"y\":[0.02078565327859566,-0.1404897871753785,null],\"type\":\"scatter\"},{\"hoverinfo\":\"text\",\"line\":{\"color\":\"blue\",\"width\":0.33357761363923993},\"mode\":\"lines\",\"text\":[\"Arya-Stark--Cersei-Lannister: 1.0625\"],\"x\":[0.03199436451402057,0.065324051953967,null],\"y\":[0.02078565327859566,-0.011306557654175996,null],\"type\":\"scatter\"},{\"hoverinfo\":\"text\",\"line\":{\"color\":\"blue\",\"width\":0.3},\"mode\":\"lines\",\"text\":[\"Arya-Stark--Desmond: 1.0\"],\"x\":[0.03199436451402057,0.14487176533832885,null],\"y\":[0.02078565327859566,0.2267648016858255,null],\"type\":\"scatter\"},{\"hoverinfo\":\"text\",\"line\":{\"color\":\"blue\",\"width\":0.30732960033145773},\"mode\":\"lines\",\"text\":[\"Arya-Stark--Ilyn-Payne: 1.0138888888888888\"],\"x\":[0.03199436451402057,0.10493895598371764,null],\"y\":[0.02078565327859566,0.12975215603867807,null],\"type\":\"scatter\"},{\"hoverinfo\":\"text\",\"line\":{\"color\":\"blue\",\"width\":0.32598420029006264},\"mode\":\"lines\",\"text\":[\"Arya-Stark--Jeyne-Poole: 1.0486111111111112\"],\"x\":[0.03199436451402057,0.15671453143493377,null],\"y\":[0.02078565327859566,0.05471148992048057,null],\"type\":\"scatter\"},{\"hoverinfo\":\"text\",\"line\":{\"color\":\"blue\",\"width\":0.44331637922023864},\"mode\":\"lines\",\"text\":[\"Arya-Stark--Joffrey-Baratheon: 1.25\"],\"x\":[0.03199436451402057,0.06727571942920114,null],\"y\":[0.02078565327859566,0.009801685120611444,null],\"type\":\"scatter\"},{\"hoverinfo\":\"text\",\"line\":{\"color\":\"blue\",\"width\":0.33357761363923993},\"mode\":\"lines\",\"text\":[\"Arya-Stark--Jory-Cassel: 1.0625\"],\"x\":[0.03199436451402057,-0.014992917689555097,null],\"y\":[0.02078565327859566,0.07085877790405458,null],\"type\":\"scatter\"},{\"hoverinfo\":\"text\",\"line\":{\"color\":\"blue\",\"width\":0.3036553222084388},\"mode\":\"lines\",\"text\":[\"Arya-Stark--Meryn-Trant: 1.0069444444444444\"],\"x\":[0.03199436451402057,0.17832790627769748,null],\"y\":[0.02078565327859566,0.05658916185941756,null],\"type\":\"scatter\"},{\"hoverinfo\":\"text\",\"line\":{\"color\":\"blue\",\"width\":0.44331637922023864},\"mode\":\"lines\",\"text\":[\"Arya-Stark--Mordane: 1.25\"],\"x\":[0.03199436451402057,0.02543575930860007,null],\"y\":[0.02078565327859566,-0.009281754547322905,null],\"type\":\"scatter\"},{\"hoverinfo\":\"text\",\"line\":{\"color\":\"blue\",\"width\":0.35680576364309297},\"mode\":\"lines\",\"text\":[\"Arya-Stark--Mycah: 1.1041666666666665\"],\"x\":[0.03199436451402057,0.07212180934310158,null],\"y\":[0.02078565327859566,0.14112253354003632,null],\"type\":\"scatter\"},{\"hoverinfo\":\"text\",\"line\":{\"color\":\"blue\",\"width\":0.3374023903222028},\"mode\":\"lines\",\"text\":[\"Arya-Stark--Myrcella-Baratheon: 1.0694444444444444\"],\"x\":[0.03199436451402057,0.11358554520503127,null],\"y\":[0.02078565327859566,-0.02132348751762153,null],\"type\":\"scatter\"},{\"hoverinfo\":\"text\",\"line\":{\"color\":\"blue\",\"width\":0.3},\"mode\":\"lines\",\"text\":[\"Arya-Stark--Petyr-Baelish: 1.0\"],\"x\":[0.03199436451402057,0.05648083182260479,null],\"y\":[0.02078565327859566,0.03260685690219549,null],\"type\":\"scatter\"},{\"hoverinfo\":\"text\",\"line\":{\"color\":\"blue\",\"width\":0.31473489442754443},\"mode\":\"lines\",\"text\":[\"Arya-Stark--Rickon-Stark: 1.0277777777777777\"],\"x\":[0.03199436451402057,-0.031226770640811058,null],\"y\":[0.02078565327859566,-0.04175810966117788,null],\"type\":\"scatter\"},{\"hoverinfo\":\"text\",\"line\":{\"color\":\"blue\",\"width\":0.3},\"mode\":\"lines\",\"text\":[\"Arya-Stark--Rodrik-Cassel: 1.0\"],\"x\":[0.03199436451402057,0.0023389107467837325,null],\"y\":[0.02078565327859566,-0.06416374395556995,null],\"type\":\"scatter\"},{\"hoverinfo\":\"text\",\"line\":{\"color\":\"blue\",\"width\":0.31473489442754443},\"mode\":\"lines\",\"text\":[\"Arya-Stark--Sandor-Clegane: 1.0277777777777777\"],\"x\":[0.03199436451402057,0.12952798707083144,null],\"y\":[0.02078565327859566,0.019266875519648598,null],\"type\":\"scatter\"},{\"hoverinfo\":\"text\",\"line\":{\"color\":\"blue\",\"width\":0.36469698806687256},\"mode\":\"lines\",\"text\":[\"Arya-Stark--Syrio-Forel: 1.1180555555555556\"],\"x\":[0.03199436451402057,0.2280802487449413,null],\"y\":[0.02078565327859566,0.14099773962857906,null],\"type\":\"scatter\"},{\"hoverinfo\":\"text\",\"line\":{\"color\":\"blue\",\"width\":0.31102280182627423},\"mode\":\"lines\",\"text\":[\"Arya-Stark--Tomard: 1.0208333333333333\"],\"x\":[0.03199436451402057,0.08399729181974153,null],\"y\":[0.02078565327859566,0.17503157989834955,null],\"type\":\"scatter\"},{\"hoverinfo\":\"text\",\"line\":{\"color\":\"blue\",\"width\":0.30732960033145773},\"mode\":\"lines\",\"text\":[\"Arya-Stark--Tommen-Baratheon: 1.0138888888888888\"],\"x\":[0.03199436451402057,-0.02099681451767266,null],\"y\":[0.02078565327859566,-0.0021973061319556933,null],\"type\":\"scatter\"},{\"hoverinfo\":\"text\",\"line\":{\"color\":\"blue\",\"width\":0.3036553222084388},\"mode\":\"lines\",\"text\":[\"Arya-Stark--Vayon-Poole: 1.0069444444444444\"],\"x\":[0.03199436451402057,0.13920241258330932,null],\"y\":[0.02078565327859566,0.10402928691784472,null],\"type\":\"scatter\"},{\"hoverinfo\":\"text\",\"line\":{\"color\":\"blue\",\"width\":0.3036553222084388},\"mode\":\"lines\",\"text\":[\"Arya-Stark--Yoren: 1.0069444444444444\"],\"x\":[0.03199436451402057,-0.13829944821982637,null],\"y\":[0.02078565327859566,-0.09318015549971584,null],\"type\":\"scatter\"},{\"hoverinfo\":\"text\",\"line\":{\"color\":\"blue\",\"width\":0.3},\"mode\":\"lines\",\"text\":[\"Cersei-Lannister--Arys-Oakheart: 1.0\"],\"x\":[0.065324051953967,0.3375789713019098,null],\"y\":[-0.011306557654175996,-0.07646121379706596,null],\"type\":\"scatter\"},{\"hoverinfo\":\"text\",\"line\":{\"color\":\"blue\",\"width\":0.33357761363923993},\"mode\":\"lines\",\"text\":[\"Cersei-Lannister--Barristan-Selmy: 1.0625\"],\"x\":[0.065324051953967,0.12937540553129614,null],\"y\":[-0.011306557654175996,0.06281701710849813,null],\"type\":\"scatter\"},{\"hoverinfo\":\"text\",\"line\":{\"color\":\"blue\",\"width\":0.3},\"mode\":\"lines\",\"text\":[\"Cersei-Lannister--Benjen-Stark: 1.0\"],\"x\":[0.065324051953967,-0.12405528656493038,null],\"y\":[-0.011306557654175996,-0.1404897871753785,null],\"type\":\"scatter\"},{\"hoverinfo\":\"text\",\"line\":{\"color\":\"blue\",\"width\":0.32221562524998465},\"mode\":\"lines\",\"text\":[\"Cersei-Lannister--Boros-Blount: 1.0416666666666665\"],\"x\":[0.065324051953967,0.19767877967959777,null],\"y\":[-0.011306557654175996,-0.007191383086253683,null],\"type\":\"scatter\"},{\"hoverinfo\":\"text\",\"line\":{\"color\":\"blue\",\"width\":0.3036553222084388},\"mode\":\"lines\",\"text\":[\"Cersei-Lannister--Ilyn-Payne: 1.0069444444444444\"],\"x\":[0.065324051953967,0.10493895598371764,null],\"y\":[-0.011306557654175996,0.12975215603867807,null],\"type\":\"scatter\"},{\"hoverinfo\":\"text\",\"line\":{\"color\":\"blue\",\"width\":0.3489886358918264},\"mode\":\"lines\",\"text\":[\"Cersei-Lannister--Jaime-Lannister: 1.0902777777777777\"],\"x\":[0.065324051953967,0.08411778299242077,null],\"y\":[-0.011306557654175996,-0.0127285298056426,null],\"type\":\"scatter\"},{\"hoverinfo\":\"text\",\"line\":{\"color\":\"blue\",\"width\":0.3036553222084388},\"mode\":\"lines\",\"text\":[\"Cersei-Lannister--Janos-Slynt: 1.0069444444444444\"],\"x\":[0.065324051953967,0.13419213924015455,null],\"y\":[-0.011306557654175996,0.12636956328109705,null],\"type\":\"scatter\"},{\"hoverinfo\":\"text\",\"line\":{\"color\":\"blue\",\"width\":0.4563271415025829},\"mode\":\"lines\",\"text\":[\"Cersei-Lannister--Joffrey-Baratheon: 1.2708333333333333\"],\"x\":[0.065324051953967,0.06727571942920114,null],\"y\":[-0.011306557654175996,0.009801685120611444,null],\"type\":\"scatter\"},{\"hoverinfo\":\"text\",\"line\":{\"color\":\"blue\",\"width\":0.31473489442754443},\"mode\":\"lines\",\"text\":[\"Cersei-Lannister--Jon-Arryn: 1.0277777777777777\"],\"x\":[0.065324051953967,0.017573226254451197,null],\"y\":[-0.011306557654175996,0.04811545290389017,null],\"type\":\"scatter\"},{\"hoverinfo\":\"text\",\"line\":{\"color\":\"blue\",\"width\":0.30732960033145773},\"mode\":\"lines\",\"text\":[\"Cersei-Lannister--Jory-Cassel: 1.0138888888888888\"],\"x\":[0.065324051953967,-0.014992917689555097,null],\"y\":[-0.011306557654175996,0.07085877790405458,null],\"type\":\"scatter\"},{\"hoverinfo\":\"text\",\"line\":{\"color\":\"blue\",\"width\":0.3036553222084388},\"mode\":\"lines\",\"text\":[\"Cersei-Lannister--Meryn-Trant: 1.0069444444444444\"],\"x\":[0.065324051953967,0.17832790627769748,null],\"y\":[-0.011306557654175996,0.05658916185941756,null],\"type\":\"scatter\"},{\"hoverinfo\":\"text\",\"line\":{\"color\":\"blue\",\"width\":0.3},\"mode\":\"lines\",\"text\":[\"Cersei-Lannister--Mordane: 1.0\"],\"x\":[0.065324051953967,0.02543575930860007,null],\"y\":[-0.011306557654175996,-0.009281754547322905,null],\"type\":\"scatter\"},{\"hoverinfo\":\"text\",\"line\":{\"color\":\"blue\",\"width\":0.31473489442754443},\"mode\":\"lines\",\"text\":[\"Cersei-Lannister--Myrcella-Baratheon: 1.0277777777777777\"],\"x\":[0.065324051953967,0.11358554520503127,null],\"y\":[-0.011306557654175996,-0.02132348751762153,null],\"type\":\"scatter\"},{\"hoverinfo\":\"text\",\"line\":{\"color\":\"blue\",\"width\":0.3374023903222028},\"mode\":\"lines\",\"text\":[\"Cersei-Lannister--Petyr-Baelish: 1.0694444444444444\"],\"x\":[0.065324051953967,0.05648083182260479,null],\"y\":[-0.011306557654175996,0.03260685690219549,null],\"type\":\"scatter\"},{\"hoverinfo\":\"text\",\"line\":{\"color\":\"blue\",\"width\":0.32221562524998465},\"mode\":\"lines\",\"text\":[\"Cersei-Lannister--Pycelle: 1.0416666666666665\"],\"x\":[0.065324051953967,0.0857655486770623,null],\"y\":[-0.011306557654175996,0.08225288197648849,null],\"type\":\"scatter\"},{\"hoverinfo\":\"text\",\"line\":{\"color\":\"blue\",\"width\":0.30732960033145773},\"mode\":\"lines\",\"text\":[\"Cersei-Lannister--Renly-Baratheon: 1.0138888888888888\"],\"x\":[0.065324051953967,0.09935036609841824,null],\"y\":[-0.011306557654175996,0.0404126925892233,null],\"type\":\"scatter\"},{\"hoverinfo\":\"text\",\"line\":{\"color\":\"blue\",\"width\":0.30732960033145773},\"mode\":\"lines\",\"text\":[\"Cersei-Lannister--Sandor-Clegane: 1.0138888888888888\"],\"x\":[0.065324051953967,0.12952798707083144,null],\"y\":[-0.011306557654175996,0.019266875519648598,null],\"type\":\"scatter\"},{\"hoverinfo\":\"text\",\"line\":{\"color\":\"blue\",\"width\":0.30732960033145773},\"mode\":\"lines\",\"text\":[\"Cersei-Lannister--Stannis-Baratheon: 1.0138888888888888\"],\"x\":[0.065324051953967,0.10522382841735935,null],\"y\":[-0.011306557654175996,0.02502521588793754,null],\"type\":\"scatter\"},{\"hoverinfo\":\"text\",\"line\":{\"color\":\"blue\",\"width\":0.3036553222084388},\"mode\":\"lines\",\"text\":[\"Cersei-Lannister--Tommen-Baratheon: 1.0069444444444444\"],\"x\":[0.065324051953967,-0.02099681451767266,null],\"y\":[-0.011306557654175996,-0.0021973061319556933,null],\"type\":\"scatter\"},{\"hoverinfo\":\"text\",\"line\":{\"color\":\"blue\",\"width\":0.32598420029006264},\"mode\":\"lines\",\"text\":[\"Cersei-Lannister--Tywin-Lannister: 1.0486111111111112\"],\"x\":[0.065324051953967,0.032045134513899176,null],\"y\":[-0.011306557654175996,-0.039305273695998115,null],\"type\":\"scatter\"},{\"hoverinfo\":\"text\",\"line\":{\"color\":\"blue\",\"width\":0.3607421283056655},\"mode\":\"lines\",\"text\":[\"Cersei-Lannister--Varys: 1.1111111111111112\"],\"x\":[0.065324051953967,0.036618960965745066,null],\"y\":[-0.011306557654175996,0.0952360213840959,null],\"type\":\"scatter\"},{\"hoverinfo\":\"text\",\"line\":{\"color\":\"blue\",\"width\":0.3036553222084388},\"mode\":\"lines\",\"text\":[\"Cersei-Lannister--Vayon-Poole: 1.0069444444444444\"],\"x\":[0.065324051953967,0.13920241258330932,null],\"y\":[-0.011306557654175996,0.10402928691784472,null],\"type\":\"scatter\"},{\"hoverinfo\":\"text\",\"line\":{\"color\":\"blue\",\"width\":0.31102280182627423},\"mode\":\"lines\",\"text\":[\"Joffrey-Baratheon--Barristan-Selmy: 1.0208333333333333\"],\"x\":[0.06727571942920114,0.12937540553129614,null],\"y\":[0.009801685120611444,0.06281701710849813,null],\"type\":\"scatter\"},{\"hoverinfo\":\"text\",\"line\":{\"color\":\"blue\",\"width\":0.3},\"mode\":\"lines\",\"text\":[\"Joffrey-Baratheon--Boros-Blount: 1.0\"],\"x\":[0.06727571942920114,0.19767877967959777,null],\"y\":[0.009801685120611444,-0.007191383086253683,null],\"type\":\"scatter\"},{\"hoverinfo\":\"text\",\"line\":{\"color\":\"blue\",\"width\":0.3036553222084388},\"mode\":\"lines\",\"text\":[\"Joffrey-Baratheon--High-Septon-(fat_one): 1.0069444444444444\"],\"x\":[0.06727571942920114,0.2795070600245484,null],\"y\":[0.009801685120611444,0.0567282788276434,null],\"type\":\"scatter\"},{\"hoverinfo\":\"text\",\"line\":{\"color\":\"blue\",\"width\":0.3036553222084388},\"mode\":\"lines\",\"text\":[\"Joffrey-Baratheon--Ilyn-Payne: 1.0069444444444444\"],\"x\":[0.06727571942920114,0.10493895598371764,null],\"y\":[0.009801685120611444,0.12975215603867807,null],\"type\":\"scatter\"},{\"hoverinfo\":\"text\",\"line\":{\"color\":\"blue\",\"width\":0.33357761363923993},\"mode\":\"lines\",\"text\":[\"Joffrey-Baratheon--Jaime-Lannister: 1.0625\"],\"x\":[0.06727571942920114,0.08411778299242077,null],\"y\":[0.009801685120611444,-0.0127285298056426,null],\"type\":\"scatter\"},{\"hoverinfo\":\"text\",\"line\":{\"color\":\"blue\",\"width\":0.3036553222084388},\"mode\":\"lines\",\"text\":[\"Joffrey-Baratheon--Janos-Slynt: 1.0069444444444444\"],\"x\":[0.06727571942920114,0.13419213924015455,null],\"y\":[0.009801685120611444,0.12636956328109705,null],\"type\":\"scatter\"},{\"hoverinfo\":\"text\",\"line\":{\"color\":\"blue\",\"width\":0.3},\"mode\":\"lines\",\"text\":[\"Joffrey-Baratheon--Loras-Tyrell: 1.0\"],\"x\":[0.06727571942920114,0.18042954714332093,null],\"y\":[0.009801685120611444,0.10241972177968102,null],\"type\":\"scatter\"},{\"hoverinfo\":\"text\",\"line\":{\"color\":\"blue\",\"width\":0.3},\"mode\":\"lines\",\"text\":[\"Joffrey-Baratheon--Meryn-Trant: 1.0\"],\"x\":[0.06727571942920114,0.17832790627769748,null],\"y\":[0.009801685120611444,0.05658916185941756,null],\"type\":\"scatter\"},{\"hoverinfo\":\"text\",\"line\":{\"color\":\"blue\",\"width\":0.32221562524998465},\"mode\":\"lines\",\"text\":[\"Joffrey-Baratheon--Mordane: 1.0416666666666665\"],\"x\":[0.06727571942920114,0.02543575930860007,null],\"y\":[0.009801685120611444,-0.009281754547322905,null],\"type\":\"scatter\"},{\"hoverinfo\":\"text\",\"line\":{\"color\":\"blue\",\"width\":0.34124583967861705},\"mode\":\"lines\",\"text\":[\"Joffrey-Baratheon--Mycah: 1.0763888888888888\"],\"x\":[0.06727571942920114,0.07212180934310158,null],\"y\":[0.009801685120611444,0.14112253354003632,null],\"type\":\"scatter\"},{\"hoverinfo\":\"text\",\"line\":{\"color\":\"blue\",\"width\":0.30732960033145773},\"mode\":\"lines\",\"text\":[\"Joffrey-Baratheon--Myrcella-Baratheon: 1.0138888888888888\"],\"x\":[0.06727571942920114,0.11358554520503127,null],\"y\":[0.009801685120611444,-0.02132348751762153,null],\"type\":\"scatter\"},{\"hoverinfo\":\"text\",\"line\":{\"color\":\"blue\",\"width\":0.3297715400664042},\"mode\":\"lines\",\"text\":[\"Joffrey-Baratheon--Petyr-Baelish: 1.0555555555555556\"],\"x\":[0.06727571942920114,0.05648083182260479,null],\"y\":[0.009801685120611444,0.03260685690219549,null],\"type\":\"scatter\"},{\"hoverinfo\":\"text\",\"line\":{\"color\":\"blue\",\"width\":0.3036553222084388},\"mode\":\"lines\",\"text\":[\"Joffrey-Baratheon--Pycelle: 1.0069444444444444\"],\"x\":[0.06727571942920114,0.0857655486770623,null],\"y\":[0.009801685120611444,0.08225288197648849,null],\"type\":\"scatter\"},{\"hoverinfo\":\"text\",\"line\":{\"color\":\"blue\",\"width\":0.32221562524998465},\"mode\":\"lines\",\"text\":[\"Joffrey-Baratheon--Renly-Baratheon: 1.0416666666666665\"],\"x\":[0.06727571942920114,0.09935036609841824,null],\"y\":[0.009801685120611444,0.0404126925892233,null],\"type\":\"scatter\"},{\"hoverinfo\":\"text\",\"line\":{\"color\":\"blue\",\"width\":0.32221562524998465},\"mode\":\"lines\",\"text\":[\"Joffrey-Baratheon--Rodrik-Cassel: 1.0416666666666665\"],\"x\":[0.06727571942920114,0.0023389107467837325,null],\"y\":[0.009801685120611444,-0.06416374395556995,null],\"type\":\"scatter\"},{\"hoverinfo\":\"text\",\"line\":{\"color\":\"blue\",\"width\":0.38070080568987796},\"mode\":\"lines\",\"text\":[\"Joffrey-Baratheon--Sandor-Clegane: 1.1458333333333333\"],\"x\":[0.06727571942920114,0.12952798707083144,null],\"y\":[0.009801685120611444,0.019266875519648598,null],\"type\":\"scatter\"},{\"hoverinfo\":\"text\",\"line\":{\"color\":\"blue\",\"width\":0.31473489442754443},\"mode\":\"lines\",\"text\":[\"Joffrey-Baratheon--Stannis-Baratheon: 1.0277777777777777\"],\"x\":[0.06727571942920114,0.10522382841735935,null],\"y\":[0.009801685120611444,0.02502521588793754,null],\"type\":\"scatter\"},{\"hoverinfo\":\"text\",\"line\":{\"color\":\"blue\",\"width\":0.3184658461431345},\"mode\":\"lines\",\"text\":[\"Joffrey-Baratheon--Tommen-Baratheon: 1.034722222222222\"],\"x\":[0.06727571942920114,-0.02099681451767266,null],\"y\":[0.009801685120611444,-0.0021973061319556933,null],\"type\":\"scatter\"},{\"hoverinfo\":\"text\",\"line\":{\"color\":\"blue\",\"width\":0.3},\"mode\":\"lines\",\"text\":[\"Joffrey-Baratheon--Tywin-Lannister: 1.0\"],\"x\":[0.06727571942920114,0.032045134513899176,null],\"y\":[0.009801685120611444,-0.039305273695998115,null],\"type\":\"scatter\"},{\"hoverinfo\":\"text\",\"line\":{\"color\":\"blue\",\"width\":0.31473489442754443},\"mode\":\"lines\",\"text\":[\"Joffrey-Baratheon--Varys: 1.0277777777777777\"],\"x\":[0.06727571942920114,0.036618960965745066,null],\"y\":[0.009801685120611444,0.0952360213840959,null],\"type\":\"scatter\"},{\"hoverinfo\":\"text\",\"line\":{\"color\":\"blue\",\"width\":0.31473489442754443},\"mode\":\"lines\",\"text\":[\"Petyr-Baelish--Barristan-Selmy: 1.0277777777777777\"],\"x\":[0.05648083182260479,0.12937540553129614,null],\"y\":[0.03260685690219549,0.06281701710849813,null],\"type\":\"scatter\"},{\"hoverinfo\":\"text\",\"line\":{\"color\":\"blue\",\"width\":0.34124583967861705},\"mode\":\"lines\",\"text\":[\"Petyr-Baelish--Brandon-Stark: 1.0763888888888888\"],\"x\":[0.05648083182260479,0.027448936692904862,null],\"y\":[0.03260685690219549,0.20554547129797635,null],\"type\":\"scatter\"},{\"hoverinfo\":\"text\",\"line\":{\"color\":\"blue\",\"width\":0.3036553222084388},\"mode\":\"lines\",\"text\":[\"Petyr-Baelish--Edmure-Tully: 1.0069444444444444\"],\"x\":[0.05648083182260479,0.023076472169538148,null],\"y\":[0.03260685690219549,-0.07761245006425639,null],\"type\":\"scatter\"},{\"hoverinfo\":\"text\",\"line\":{\"color\":\"blue\",\"width\":0.3},\"mode\":\"lines\",\"text\":[\"Petyr-Baelish--Gregor-Clegane: 1.0\"],\"x\":[0.05648083182260479,0.07693119390322473,null],\"y\":[0.03260685690219549,0.04684415948750067,null],\"type\":\"scatter\"},{\"hoverinfo\":\"text\",\"line\":{\"color\":\"blue\",\"width\":0.31473489442754443},\"mode\":\"lines\",\"text\":[\"Petyr-Baelish--Jaime-Lannister: 1.0277777777777777\"],\"x\":[0.05648083182260479,0.08411778299242077,null],\"y\":[0.03260685690219549,-0.0127285298056426,null],\"type\":\"scatter\"},{\"hoverinfo\":\"text\",\"line\":{\"color\":\"blue\",\"width\":0.3},\"mode\":\"lines\",\"text\":[\"Petyr-Baelish--Janos-Slynt: 1.0\"],\"x\":[0.05648083182260479,0.13419213924015455,null],\"y\":[0.03260685690219549,0.12636956328109705,null],\"type\":\"scatter\"},{\"hoverinfo\":\"text\",\"line\":{\"color\":\"blue\",\"width\":0.3036553222084388},\"mode\":\"lines\",\"text\":[\"Petyr-Baelish--Jon-Arryn: 1.0069444444444444\"],\"x\":[0.05648083182260479,0.017573226254451197,null],\"y\":[0.03260685690219549,0.04811545290389017,null],\"type\":\"scatter\"},{\"hoverinfo\":\"text\",\"line\":{\"color\":\"blue\",\"width\":0.3184658461431345},\"mode\":\"lines\",\"text\":[\"Petyr-Baelish--Jory-Cassel: 1.034722222222222\"],\"x\":[0.05648083182260479,-0.014992917689555097,null],\"y\":[0.03260685690219549,0.07085877790405458,null],\"type\":\"scatter\"},{\"hoverinfo\":\"text\",\"line\":{\"color\":\"blue\",\"width\":0.30732960033145773},\"mode\":\"lines\",\"text\":[\"Petyr-Baelish--Loras-Tyrell: 1.0138888888888888\"],\"x\":[0.05648083182260479,0.18042954714332093,null],\"y\":[0.03260685690219549,0.10241972177968102,null],\"type\":\"scatter\"},{\"hoverinfo\":\"text\",\"line\":{\"color\":\"blue\",\"width\":0.3036553222084388},\"mode\":\"lines\",\"text\":[\"Petyr-Baelish--Lysa-Arryn: 1.0069444444444444\"],\"x\":[0.05648083182260479,0.12653315489042977,null],\"y\":[0.03260685690219549,-0.09013791103676602,null],\"type\":\"scatter\"},{\"hoverinfo\":\"text\",\"line\":{\"color\":\"blue\",\"width\":0.3},\"mode\":\"lines\",\"text\":[\"Petyr-Baelish--Mordane: 1.0\"],\"x\":[0.05648083182260479,0.02543575930860007,null],\"y\":[0.03260685690219549,-0.009281754547322905,null],\"type\":\"scatter\"},{\"hoverinfo\":\"text\",\"line\":{\"color\":\"blue\",\"width\":0.34124583967861705},\"mode\":\"lines\",\"text\":[\"Petyr-Baelish--Pycelle: 1.0763888888888888\"],\"x\":[0.05648083182260479,0.0857655486770623,null],\"y\":[0.03260685690219549,0.08225288197648849,null],\"type\":\"scatter\"},{\"hoverinfo\":\"text\",\"line\":{\"color\":\"blue\",\"width\":0.33357761363923993},\"mode\":\"lines\",\"text\":[\"Petyr-Baelish--Renly-Baratheon: 1.0625\"],\"x\":[0.05648083182260479,0.09935036609841824,null],\"y\":[0.03260685690219549,0.0404126925892233,null],\"type\":\"scatter\"},{\"hoverinfo\":\"text\",\"line\":{\"color\":\"blue\",\"width\":0.31473489442754443},\"mode\":\"lines\",\"text\":[\"Petyr-Baelish--Rodrik-Cassel: 1.0277777777777777\"],\"x\":[0.05648083182260479,0.0023389107467837325,null],\"y\":[0.03260685690219549,-0.06416374395556995,null],\"type\":\"scatter\"},{\"hoverinfo\":\"text\",\"line\":{\"color\":\"blue\",\"width\":0.3},\"mode\":\"lines\",\"text\":[\"Petyr-Baelish--Sandor-Clegane: 1.0\"],\"x\":[0.05648083182260479,0.12952798707083144,null],\"y\":[0.03260685690219549,0.019266875519648598,null],\"type\":\"scatter\"},{\"hoverinfo\":\"text\",\"line\":{\"color\":\"blue\",\"width\":0.3036553222084388},\"mode\":\"lines\",\"text\":[\"Petyr-Baelish--Tomard: 1.0069444444444444\"],\"x\":[0.05648083182260479,0.08399729181974153,null],\"y\":[0.03260685690219549,0.17503157989834955,null],\"type\":\"scatter\"},{\"hoverinfo\":\"text\",\"line\":{\"color\":\"blue\",\"width\":0.40111832766448136},\"mode\":\"lines\",\"text\":[\"Petyr-Baelish--Varys: 1.1805555555555556\"],\"x\":[0.05648083182260479,0.036618960965745066,null],\"y\":[0.03260685690219549,0.0952360213840959,null],\"type\":\"scatter\"},{\"hoverinfo\":\"text\",\"line\":{\"color\":\"blue\",\"width\":0.31102280182627423},\"mode\":\"lines\",\"text\":[\"Drogo--Aggo: 1.0208333333333333\"],\"x\":[-0.06562876222454485,0.017658330818026202,null],\"y\":[0.5779068024104821,0.6461942705341531,null],\"type\":\"scatter\"},{\"hoverinfo\":\"text\",\"line\":{\"color\":\"blue\",\"width\":0.32221562524998465},\"mode\":\"lines\",\"text\":[\"Drogo--Cohollo: 1.0416666666666665\"],\"x\":[-0.06562876222454485,-0.10280686100720865,null],\"y\":[0.5779068024104821,0.6762262571885916,null],\"type\":\"scatter\"},{\"hoverinfo\":\"text\",\"line\":{\"color\":\"blue\",\"width\":0.30732960033145773},\"mode\":\"lines\",\"text\":[\"Drogo--Doreah: 1.0138888888888888\"],\"x\":[-0.06562876222454485,-0.04154279145219459,null],\"y\":[0.5779068024104821,0.5798431442327341,null],\"type\":\"scatter\"},{\"hoverinfo\":\"text\",\"line\":{\"color\":\"blue\",\"width\":0.32221562524998465},\"mode\":\"lines\",\"text\":[\"Drogo--Haggo: 1.0416666666666665\"],\"x\":[-0.06562876222454485,-0.05808685149545533,null],\"y\":[0.5779068024104821,0.686396356589311,null],\"type\":\"scatter\"},{\"hoverinfo\":\"text\",\"line\":{\"color\":\"blue\",\"width\":0.3489886358918264},\"mode\":\"lines\",\"text\":[\"Drogo--Illyrio-Mopatis: 1.0902777777777777\"],\"x\":[-0.06562876222454485,0.001079720675957324,null],\"y\":[0.5779068024104821,0.4279871367525846,null],\"type\":\"scatter\"},{\"hoverinfo\":\"text\",\"line\":{\"color\":\"blue\",\"width\":0.32221562524998465},\"mode\":\"lines\",\"text\":[\"Drogo--Irri: 1.0416666666666665\"],\"x\":[-0.06562876222454485,-0.014371425948954717,null],\"y\":[0.5779068024104821,0.559054333378203,null],\"type\":\"scatter\"},{\"hoverinfo\":\"text\",\"line\":{\"color\":\"blue\",\"width\":0.30732960033145773},\"mode\":\"lines\",\"text\":[\"Drogo--Jhiqui: 1.0138888888888888\"],\"x\":[-0.06562876222454485,-0.09337088732850068,null],\"y\":[0.5779068024104821,0.603861909047303,null],\"type\":\"scatter\"},{\"hoverinfo\":\"text\",\"line\":{\"color\":\"blue\",\"width\":0.31473489442754443},\"mode\":\"lines\",\"text\":[\"Drogo--Jhogo: 1.0277777777777777\"],\"x\":[-0.06562876222454485,0.01830446134818916,null],\"y\":[0.5779068024104821,0.6141754614620935,null],\"type\":\"scatter\"},{\"hoverinfo\":\"text\",\"line\":{\"color\":\"blue\",\"width\":0.3},\"mode\":\"lines\",\"text\":[\"Drogo--Jommo: 1.0\"],\"x\":[-0.06562876222454485,-0.18375787116317716,null],\"y\":[0.5779068024104821,0.7857540610139122,null],\"type\":\"scatter\"},{\"hoverinfo\":\"text\",\"line\":{\"color\":\"blue\",\"width\":0.3489886358918264},\"mode\":\"lines\",\"text\":[\"Drogo--Jorah-Mormont: 1.0902777777777777\"],\"x\":[-0.06562876222454485,-0.019064354672386447,null],\"y\":[0.5779068024104821,0.48259338219442455,null],\"type\":\"scatter\"},{\"hoverinfo\":\"text\",\"line\":{\"color\":\"blue\",\"width\":0.33357761363923993},\"mode\":\"lines\",\"text\":[\"Drogo--Mirri-Maz-Duur: 1.0625\"],\"x\":[-0.06562876222454485,-0.024755329664524837,null],\"y\":[0.5779068024104821,0.632344800738363,null],\"type\":\"scatter\"},{\"hoverinfo\":\"text\",\"line\":{\"color\":\"blue\",\"width\":0.3297715400664042},\"mode\":\"lines\",\"text\":[\"Drogo--Ogo: 1.0555555555555556\"],\"x\":[-0.06562876222454485,-0.22439677649777381,null],\"y\":[0.5779068024104821,0.8300676277419687,null],\"type\":\"scatter\"},{\"hoverinfo\":\"text\",\"line\":{\"color\":\"blue\",\"width\":0.3374023903222028},\"mode\":\"lines\",\"text\":[\"Drogo--Qotho: 1.0694444444444444\"],\"x\":[-0.06562876222454485,-0.0644145317183468,null],\"y\":[0.5779068024104821,0.6399533884998166,null],\"type\":\"scatter\"},{\"hoverinfo\":\"text\",\"line\":{\"color\":\"blue\",\"width\":0.3},\"mode\":\"lines\",\"text\":[\"Drogo--Quaro: 1.0\"],\"x\":[-0.06562876222454485,-0.02160750082307075,null],\"y\":[0.5779068024104821,0.6967630051148899,null],\"type\":\"scatter\"},{\"hoverinfo\":\"text\",\"line\":{\"color\":\"blue\",\"width\":0.3036553222084388},\"mode\":\"lines\",\"text\":[\"Drogo--Rakharo: 1.0069444444444444\"],\"x\":[-0.06562876222454485,0.008411991256053361,null],\"y\":[0.5779068024104821,0.6967729280253329,null],\"type\":\"scatter\"},{\"hoverinfo\":\"text\",\"line\":{\"color\":\"blue\",\"width\":0.30732960033145773},\"mode\":\"lines\",\"text\":[\"Drogo--Rhaego: 1.0138888888888888\"],\"x\":[-0.06562876222454485,-0.11679073796796821,null],\"y\":[0.5779068024104821,0.8127074410429442,null],\"type\":\"scatter\"},{\"hoverinfo\":\"text\",\"line\":{\"color\":\"blue\",\"width\":0.3607421283056655},\"mode\":\"lines\",\"text\":[\"Drogo--Viserys-Targaryen: 1.1111111111111112\"],\"x\":[-0.06562876222454485,-0.027909544187174198,null],\"y\":[0.5779068024104821,0.42414680182602954,null],\"type\":\"scatter\"},{\"hoverinfo\":\"text\",\"line\":{\"color\":\"blue\",\"width\":0.3},\"mode\":\"lines\",\"text\":[\"Jaime-Lannister--Addam-Marbrand: 1.0\"],\"x\":[0.08411778299242077,0.2221634716219403,null],\"y\":[-0.0127285298056426,-0.11998429019297317,null],\"type\":\"scatter\"},{\"hoverinfo\":\"text\",\"line\":{\"color\":\"blue\",\"width\":0.30732960033145773},\"mode\":\"lines\",\"text\":[\"Jaime-Lannister--Aerys-II-Targaryen: 1.0138888888888888\"],\"x\":[0.08411778299242077,0.17880449780327884,null],\"y\":[-0.0127285298056426,0.14537326601673276,null],\"type\":\"scatter\"},{\"hoverinfo\":\"text\",\"line\":{\"color\":\"blue\",\"width\":0.3036553222084388},\"mode\":\"lines\",\"text\":[\"Jaime-Lannister--Barristan-Selmy: 1.0069444444444444\"],\"x\":[0.08411778299242077,0.12937540553129614,null],\"y\":[-0.0127285298056426,0.06281701710849813,null],\"type\":\"scatter\"},{\"hoverinfo\":\"text\",\"line\":{\"color\":\"blue\",\"width\":0.31473489442754443},\"mode\":\"lines\",\"text\":[\"Jaime-Lannister--Brynden-Tully: 1.0277777777777777\"],\"x\":[0.08411778299242077,0.07835692800964725,null],\"y\":[-0.0127285298056426,-0.1613095772366983,null],\"type\":\"scatter\"},{\"hoverinfo\":\"text\",\"line\":{\"color\":\"blue\",\"width\":0.3036553222084388},\"mode\":\"lines\",\"text\":[\"Jaime-Lannister--Edmure-Tully: 1.0069444444444444\"],\"x\":[0.08411778299242077,0.023076472169538148,null],\"y\":[-0.0127285298056426,-0.07761245006425639,null],\"type\":\"scatter\"},{\"hoverinfo\":\"text\",\"line\":{\"color\":\"blue\",\"width\":0.3},\"mode\":\"lines\",\"text\":[\"Jaime-Lannister--Galbart-Glover: 1.0\"],\"x\":[0.08411778299242077,-0.06014772243512612,null],\"y\":[-0.0127285298056426,0.08023590230817076,null],\"type\":\"scatter\"},{\"hoverinfo\":\"text\",\"line\":{\"color\":\"blue\",\"width\":0.3},\"mode\":\"lines\",\"text\":[\"Jaime-Lannister--Gregor-Clegane: 1.0\"],\"x\":[0.08411778299242077,0.07693119390322473,null],\"y\":[-0.0127285298056426,0.04684415948750067,null],\"type\":\"scatter\"},{\"hoverinfo\":\"text\",\"line\":{\"color\":\"blue\",\"width\":0.3},\"mode\":\"lines\",\"text\":[\"Jaime-Lannister--Harys-Swyft: 1.0\"],\"x\":[0.08411778299242077,0.3401245727414853,null],\"y\":[-0.0127285298056426,-0.11888428352771802,null],\"type\":\"scatter\"},{\"hoverinfo\":\"text\",\"line\":{\"color\":\"blue\",\"width\":0.30732960033145773},\"mode\":\"lines\",\"text\":[\"Jaime-Lannister--Jon-Arryn: 1.0138888888888888\"],\"x\":[0.08411778299242077,0.017573226254451197,null],\"y\":[-0.0127285298056426,0.04811545290389017,null],\"type\":\"scatter\"},{\"hoverinfo\":\"text\",\"line\":{\"color\":\"blue\",\"width\":0.3036553222084388},\"mode\":\"lines\",\"text\":[\"Jaime-Lannister--Jory-Cassel: 1.0069444444444444\"],\"x\":[0.08411778299242077,-0.014992917689555097,null],\"y\":[-0.0127285298056426,0.07085877790405458,null],\"type\":\"scatter\"},{\"hoverinfo\":\"text\",\"line\":{\"color\":\"blue\",\"width\":0.3036553222084388},\"mode\":\"lines\",\"text\":[\"Jaime-Lannister--Kevan-Lannister: 1.0069444444444444\"],\"x\":[0.08411778299242077,0.038725095394137404,null],\"y\":[-0.0127285298056426,-0.17198252621642945,null],\"type\":\"scatter\"},{\"hoverinfo\":\"text\",\"line\":{\"color\":\"blue\",\"width\":0.3},\"mode\":\"lines\",\"text\":[\"Jaime-Lannister--Loras-Tyrell: 1.0\"],\"x\":[0.08411778299242077,0.18042954714332093,null],\"y\":[-0.0127285298056426,0.10241972177968102,null],\"type\":\"scatter\"},{\"hoverinfo\":\"text\",\"line\":{\"color\":\"blue\",\"width\":0.31102280182627423},\"mode\":\"lines\",\"text\":[\"Jaime-Lannister--Lysa-Arryn: 1.0208333333333333\"],\"x\":[0.08411778299242077,0.12653315489042977,null],\"y\":[-0.0127285298056426,-0.09013791103676602,null],\"type\":\"scatter\"},{\"hoverinfo\":\"text\",\"line\":{\"color\":\"blue\",\"width\":0.3036553222084388},\"mode\":\"lines\",\"text\":[\"Jaime-Lannister--Renly-Baratheon: 1.0069444444444444\"],\"x\":[0.08411778299242077,0.09935036609841824,null],\"y\":[-0.0127285298056426,0.0404126925892233,null],\"type\":\"scatter\"},{\"hoverinfo\":\"text\",\"line\":{\"color\":\"blue\",\"width\":0.3},\"mode\":\"lines\",\"text\":[\"Jaime-Lannister--Rickard-Karstark: 1.0\"],\"x\":[0.08411778299242077,-0.07201238999138217,null],\"y\":[-0.0127285298056426,0.023898206162544497,null],\"type\":\"scatter\"},{\"hoverinfo\":\"text\",\"line\":{\"color\":\"blue\",\"width\":0.3},\"mode\":\"lines\",\"text\":[\"Jaime-Lannister--Rodrik-Cassel: 1.0\"],\"x\":[0.08411778299242077,0.0023389107467837325,null],\"y\":[-0.0127285298056426,-0.06416374395556995,null],\"type\":\"scatter\"},{\"hoverinfo\":\"text\",\"line\":{\"color\":\"blue\",\"width\":0.33357761363923993},\"mode\":\"lines\",\"text\":[\"Jaime-Lannister--Sandor-Clegane: 1.0625\"],\"x\":[0.08411778299242077,0.12952798707083144,null],\"y\":[-0.0127285298056426,0.019266875519648598,null],\"type\":\"scatter\"},{\"hoverinfo\":\"text\",\"line\":{\"color\":\"blue\",\"width\":0.3489886358918264},\"mode\":\"lines\",\"text\":[\"Jaime-Lannister--Tywin-Lannister: 1.0902777777777777\"],\"x\":[0.08411778299242077,0.032045134513899176,null],\"y\":[-0.0127285298056426,-0.039305273695998115,null],\"type\":\"scatter\"},{\"hoverinfo\":\"text\",\"line\":{\"color\":\"blue\",\"width\":0.3},\"mode\":\"lines\",\"text\":[\"Jaime-Lannister--Varys: 1.0\"],\"x\":[0.08411778299242077,0.036618960965745066,null],\"y\":[-0.0127285298056426,0.0952360213840959,null],\"type\":\"scatter\"},{\"hoverinfo\":\"text\",\"line\":{\"color\":\"blue\",\"width\":0.3},\"mode\":\"lines\",\"text\":[\"Jaime-Lannister--Wyl-(guard): 1.0\"],\"x\":[0.08411778299242077,-0.023801432063556165,null],\"y\":[-0.0127285298056426,0.18600123264216076,null],\"type\":\"scatter\"},{\"hoverinfo\":\"text\",\"line\":{\"color\":\"blue\",\"width\":0.32221562524998465},\"mode\":\"lines\",\"text\":[\"Varys--Barristan-Selmy: 1.0416666666666665\"],\"x\":[0.036618960965745066,0.12937540553129614,null],\"y\":[0.0952360213840959,0.06281701710849813,null],\"type\":\"scatter\"},{\"hoverinfo\":\"text\",\"line\":{\"color\":\"blue\",\"width\":0.30732960033145773},\"mode\":\"lines\",\"text\":[\"Varys--Ilyn-Payne: 1.0138888888888888\"],\"x\":[0.036618960965745066,0.10493895598371764,null],\"y\":[0.0952360213840959,0.12975215603867807,null],\"type\":\"scatter\"},{\"hoverinfo\":\"text\",\"line\":{\"color\":\"blue\",\"width\":0.30732960033145773},\"mode\":\"lines\",\"text\":[\"Varys--Jon-Arryn: 1.0138888888888888\"],\"x\":[0.036618960965745066,0.017573226254451197,null],\"y\":[0.0952360213840959,0.04811545290389017,null],\"type\":\"scatter\"},{\"hoverinfo\":\"text\",\"line\":{\"color\":\"blue\",\"width\":0.3528879230914017},\"mode\":\"lines\",\"text\":[\"Varys--Pycelle: 1.097222222222222\"],\"x\":[0.036618960965745066,0.0857655486770623,null],\"y\":[0.0952360213840959,0.08225288197648849,null],\"type\":\"scatter\"},{\"hoverinfo\":\"text\",\"line\":{\"color\":\"blue\",\"width\":0.32221562524998465},\"mode\":\"lines\",\"text\":[\"Varys--Renly-Baratheon: 1.0416666666666665\"],\"x\":[0.036618960965745066,0.09935036609841824,null],\"y\":[0.0952360213840959,0.0404126925892233,null],\"type\":\"scatter\"},{\"hoverinfo\":\"text\",\"line\":{\"color\":\"blue\",\"width\":0.30732960033145773},\"mode\":\"lines\",\"text\":[\"Varys--Stannis-Baratheon: 1.0138888888888888\"],\"x\":[0.036618960965745066,0.10522382841735935,null],\"y\":[0.0952360213840959,0.02502521588793754,null],\"type\":\"scatter\"},{\"hoverinfo\":\"text\",\"line\":{\"color\":\"blue\",\"width\":0.3036553222084388},\"mode\":\"lines\",\"text\":[\"Varys--Tywin-Lannister: 1.0069444444444444\"],\"x\":[0.036618960965745066,0.032045134513899176,null],\"y\":[0.0952360213840959,-0.039305273695998115,null],\"type\":\"scatter\"},{\"hoverinfo\":\"text\",\"line\":{\"color\":\"blue\",\"width\":0.31473489442754443},\"mode\":\"lines\",\"text\":[\"Luwin--Benjen-Stark: 1.0277777777777777\"],\"x\":[-0.09543015503848222,-0.12405528656493038,null],\"y\":[-0.033676325759921015,-0.1404897871753785,null],\"type\":\"scatter\"},{\"hoverinfo\":\"text\",\"line\":{\"color\":\"blue\",\"width\":0.3036553222084388},\"mode\":\"lines\",\"text\":[\"Luwin--Hallis-Mollen: 1.0069444444444444\"],\"x\":[-0.09543015503848222,-0.08801516159779224,null],\"y\":[-0.033676325759921015,-0.12258939900067763,null],\"type\":\"scatter\"},{\"hoverinfo\":\"text\",\"line\":{\"color\":\"blue\",\"width\":0.32598420029006264},\"mode\":\"lines\",\"text\":[\"Luwin--Hodor: 1.0486111111111112\"],\"x\":[-0.09543015503848222,-0.2045012168232058,null],\"y\":[-0.033676325759921015,0.03751775214914116,null],\"type\":\"scatter\"},{\"hoverinfo\":\"text\",\"line\":{\"color\":\"blue\",\"width\":0.3},\"mode\":\"lines\",\"text\":[\"Luwin--Hullen: 1.0\"],\"x\":[-0.09543015503848222,-0.11711798678681166,null],\"y\":[-0.033676325759921015,0.08073306188728846,null],\"type\":\"scatter\"},{\"hoverinfo\":\"text\",\"line\":{\"color\":\"blue\",\"width\":0.3},\"mode\":\"lines\",\"text\":[\"Luwin--Joseth: 1.0\"],\"x\":[-0.09543015503848222,-0.24871508130847456,null],\"y\":[-0.033676325759921015,0.09724784517348031,null],\"type\":\"scatter\"},{\"hoverinfo\":\"text\",\"line\":{\"color\":\"blue\",\"width\":0.3036553222084388},\"mode\":\"lines\",\"text\":[\"Luwin--Nan: 1.0069444444444444\"],\"x\":[-0.09543015503848222,-0.21240253818389077,null],\"y\":[-0.033676325759921015,0.00183968232902158,null],\"type\":\"scatter\"},{\"hoverinfo\":\"text\",\"line\":{\"color\":\"blue\",\"width\":0.3489886358918264},\"mode\":\"lines\",\"text\":[\"Luwin--Osha: 1.0902777777777777\"],\"x\":[-0.09543015503848222,-0.21335158047053362,null],\"y\":[-0.033676325759921015,-0.0406260749759265,null],\"type\":\"scatter\"},{\"hoverinfo\":\"text\",\"line\":{\"color\":\"blue\",\"width\":0.3},\"mode\":\"lines\",\"text\":[\"Luwin--Rickard-Karstark: 1.0\"],\"x\":[-0.09543015503848222,-0.07201238999138217,null],\"y\":[-0.033676325759921015,0.023898206162544497,null],\"type\":\"scatter\"},{\"hoverinfo\":\"text\",\"line\":{\"color\":\"blue\",\"width\":0.32221562524998465},\"mode\":\"lines\",\"text\":[\"Luwin--Rickon-Stark: 1.0416666666666665\"],\"x\":[-0.09543015503848222,-0.031226770640811058,null],\"y\":[-0.033676325759921015,-0.04175810966117788,null],\"type\":\"scatter\"},{\"hoverinfo\":\"text\",\"line\":{\"color\":\"blue\",\"width\":0.3},\"mode\":\"lines\",\"text\":[\"Luwin--Rodrik-Cassel: 1.0\"],\"x\":[-0.09543015503848222,0.0023389107467837325,null],\"y\":[-0.033676325759921015,-0.06416374395556995,null],\"type\":\"scatter\"},{\"hoverinfo\":\"text\",\"line\":{\"color\":\"blue\",\"width\":0.32598420029006264},\"mode\":\"lines\",\"text\":[\"Luwin--Theon-Greyjoy: 1.0486111111111112\"],\"x\":[-0.09543015503848222,-0.018570992946724544,null],\"y\":[-0.033676325759921015,-0.09792368559960818,null],\"type\":\"scatter\"},{\"hoverinfo\":\"text\",\"line\":{\"color\":\"blue\",\"width\":0.3},\"mode\":\"lines\",\"text\":[\"Luwin--Tommen-Baratheon: 1.0\"],\"x\":[-0.09543015503848222,-0.02099681451767266,null],\"y\":[-0.033676325759921015,-0.0021973061319556933,null],\"type\":\"scatter\"},{\"hoverinfo\":\"text\",\"line\":{\"color\":\"blue\",\"width\":0.3},\"mode\":\"lines\",\"text\":[\"Renly-Baratheon--Balon-Swann: 1.0\"],\"x\":[0.09935036609841824,0.31963611576040496,null],\"y\":[0.0404126925892233,0.013691041133270949,null],\"type\":\"scatter\"},{\"hoverinfo\":\"text\",\"line\":{\"color\":\"blue\",\"width\":0.3374023903222028},\"mode\":\"lines\",\"text\":[\"Renly-Baratheon--Barristan-Selmy: 1.0694444444444444\"],\"x\":[0.09935036609841824,0.12937540553129614,null],\"y\":[0.0404126925892233,0.06281701710849813,null],\"type\":\"scatter\"},{\"hoverinfo\":\"text\",\"line\":{\"color\":\"blue\",\"width\":0.3},\"mode\":\"lines\",\"text\":[\"Renly-Baratheon--Cayn: 1.0\"],\"x\":[0.09935036609841824,0.21157640129784488,null],\"y\":[0.0404126925892233,0.20613843137589452,null],\"type\":\"scatter\"},{\"hoverinfo\":\"text\",\"line\":{\"color\":\"blue\",\"width\":0.30732960033145773},\"mode\":\"lines\",\"text\":[\"Renly-Baratheon--Loras-Tyrell: 1.0138888888888888\"],\"x\":[0.09935036609841824,0.18042954714332093,null],\"y\":[0.0404126925892233,0.10241972177968102,null],\"type\":\"scatter\"},{\"hoverinfo\":\"text\",\"line\":{\"color\":\"blue\",\"width\":0.31473489442754443},\"mode\":\"lines\",\"text\":[\"Renly-Baratheon--Pycelle: 1.0277777777777777\"],\"x\":[0.09935036609841824,0.0857655486770623,null],\"y\":[0.0404126925892233,0.08225288197648849,null],\"type\":\"scatter\"},{\"hoverinfo\":\"text\",\"line\":{\"color\":\"blue\",\"width\":0.31473489442754443},\"mode\":\"lines\",\"text\":[\"Renly-Baratheon--Sandor-Clegane: 1.0277777777777777\"],\"x\":[0.09935036609841824,0.12952798707083144,null],\"y\":[0.0404126925892233,0.019266875519648598,null],\"type\":\"scatter\"},{\"hoverinfo\":\"text\",\"line\":{\"color\":\"blue\",\"width\":0.3607421283056655},\"mode\":\"lines\",\"text\":[\"Renly-Baratheon--Stannis-Baratheon: 1.1111111111111112\"],\"x\":[0.09935036609841824,0.10522382841735935,null],\"y\":[0.0404126925892233,0.02502521588793754,null],\"type\":\"scatter\"},{\"hoverinfo\":\"text\",\"line\":{\"color\":\"blue\",\"width\":0.31102280182627423},\"mode\":\"lines\",\"text\":[\"Tywin-Lannister--Addam-Marbrand: 1.0208333333333333\"],\"x\":[0.032045134513899176,0.2221634716219403,null],\"y\":[-0.039305273695998115,-0.11998429019297317,null],\"type\":\"scatter\"},{\"hoverinfo\":\"text\",\"line\":{\"color\":\"blue\",\"width\":0.3036553222084388},\"mode\":\"lines\",\"text\":[\"Tywin-Lannister--Bronn: 1.0069444444444444\"],\"x\":[0.032045134513899176,-0.010611193952538631,null],\"y\":[-0.039305273695998115,-0.261238230356099,null],\"type\":\"scatter\"},{\"hoverinfo\":\"text\",\"line\":{\"color\":\"blue\",\"width\":0.3},\"mode\":\"lines\",\"text\":[\"Tywin-Lannister--Brynden-Tully: 1.0\"],\"x\":[0.032045134513899176,0.07835692800964725,null],\"y\":[-0.039305273695998115,-0.1613095772366983,null],\"type\":\"scatter\"},{\"hoverinfo\":\"text\",\"line\":{\"color\":\"blue\",\"width\":0.31102280182627423},\"mode\":\"lines\",\"text\":[\"Tywin-Lannister--Gregor-Clegane: 1.0208333333333333\"],\"x\":[0.032045134513899176,0.07693119390322473,null],\"y\":[-0.039305273695998115,0.04684415948750067,null],\"type\":\"scatter\"},{\"hoverinfo\":\"text\",\"line\":{\"color\":\"blue\",\"width\":0.3},\"mode\":\"lines\",\"text\":[\"Tywin-Lannister--Jon-Umber-(Greatjon): 1.0\"],\"x\":[0.032045134513899176,-0.12111407816859568,null],\"y\":[-0.039305273695998115,-0.027536695165753702,null],\"type\":\"scatter\"},{\"hoverinfo\":\"text\",\"line\":{\"color\":\"blue\",\"width\":0.32221562524998465},\"mode\":\"lines\",\"text\":[\"Tywin-Lannister--Kevan-Lannister: 1.0416666666666665\"],\"x\":[0.032045134513899176,0.038725095394137404,null],\"y\":[-0.039305273695998115,-0.17198252621642945,null],\"type\":\"scatter\"},{\"hoverinfo\":\"text\",\"line\":{\"color\":\"blue\",\"width\":0.3},\"mode\":\"lines\",\"text\":[\"Tywin-Lannister--Marq-Piper: 1.0\"],\"x\":[0.032045134513899176,-0.0813601539025903,null],\"y\":[-0.039305273695998115,0.057818626548124384,null],\"type\":\"scatter\"},{\"hoverinfo\":\"text\",\"line\":{\"color\":\"blue\",\"width\":0.3036553222084388},\"mode\":\"lines\",\"text\":[\"Tywin-Lannister--Pycelle: 1.0069444444444444\"],\"x\":[0.032045134513899176,0.0857655486770623,null],\"y\":[-0.039305273695998115,0.08225288197648849,null],\"type\":\"scatter\"},{\"hoverinfo\":\"text\",\"line\":{\"color\":\"blue\",\"width\":0.3036553222084388},\"mode\":\"lines\",\"text\":[\"Tywin-Lannister--Rhaegar-Targaryen: 1.0069444444444444\"],\"x\":[0.032045134513899176,0.014653623613678292,null],\"y\":[-0.039305273695998115,0.26775314626515023,null],\"type\":\"scatter\"},{\"hoverinfo\":\"text\",\"line\":{\"color\":\"blue\",\"width\":0.3036553222084388},\"mode\":\"lines\",\"text\":[\"Tywin-Lannister--Roose-Bolton: 1.0069444444444444\"],\"x\":[0.032045134513899176,-0.14337801887454882,null],\"y\":[-0.039305273695998115,0.03086387704045434,null],\"type\":\"scatter\"},{\"hoverinfo\":\"text\",\"line\":{\"color\":\"blue\",\"width\":0.3036553222084388},\"mode\":\"lines\",\"text\":[\"Tywin-Lannister--Stannis-Baratheon: 1.0069444444444444\"],\"x\":[0.032045134513899176,0.10522382841735935,null],\"y\":[-0.039305273695998115,0.02502521588793754,null],\"type\":\"scatter\"},{\"hoverinfo\":\"text\",\"line\":{\"color\":\"blue\",\"width\":0.3},\"mode\":\"lines\",\"text\":[\"Tywin-Lannister--Theon-Greyjoy: 1.0\"],\"x\":[0.032045134513899176,-0.018570992946724544,null],\"y\":[-0.039305273695998115,-0.09792368559960818,null],\"type\":\"scatter\"},{\"hoverinfo\":\"text\",\"line\":{\"color\":\"blue\",\"width\":0.3184658461431345},\"mode\":\"lines\",\"text\":[\"Tywin-Lannister--Walder-Frey: 1.034722222222222\"],\"x\":[0.032045134513899176,0.10924972152460961,null],\"y\":[-0.039305273695998115,-0.283093941314091,null],\"type\":\"scatter\"},{\"hoverinfo\":\"text\",\"line\":{\"color\":\"blue\",\"width\":0.3374023903222028},\"mode\":\"lines\",\"text\":[\"Jeor-Mormont--Aemon-Targaryen: 1.0694444444444444\"],\"x\":[-0.21544125756345248,-0.3428145406562496,null],\"y\":[-0.17131508038589652,-0.3189554820482568,null],\"type\":\"scatter\"},{\"hoverinfo\":\"text\",\"line\":{\"color\":\"blue\",\"width\":0.32598420029006264},\"mode\":\"lines\",\"text\":[\"Jeor-Mormont--Alliser-Thorne: 1.0486111111111112\"],\"x\":[-0.21544125756345248,-0.230372819930384,null],\"y\":[-0.17131508038589652,-0.27393144522537693,null],\"type\":\"scatter\"},{\"hoverinfo\":\"text\",\"line\":{\"color\":\"blue\",\"width\":0.32221562524998465},\"mode\":\"lines\",\"text\":[\"Jeor-Mormont--Benjen-Stark: 1.0416666666666665\"],\"x\":[-0.21544125756345248,-0.12405528656493038,null],\"y\":[-0.17131508038589652,-0.1404897871753785,null],\"type\":\"scatter\"},{\"hoverinfo\":\"text\",\"line\":{\"color\":\"blue\",\"width\":0.3184658461431345},\"mode\":\"lines\",\"text\":[\"Jeor-Mormont--Bowen-Marsh: 1.034722222222222\"],\"x\":[-0.21544125756345248,-0.3152731669301327,null],\"y\":[-0.17131508038589652,-0.26076046174051876,null],\"type\":\"scatter\"},{\"hoverinfo\":\"text\",\"line\":{\"color\":\"blue\",\"width\":0.3036553222084388},\"mode\":\"lines\",\"text\":[\"Jeor-Mormont--Gared: 1.0069444444444444\"],\"x\":[-0.21544125756345248,-0.506655319321173,null],\"y\":[-0.17131508038589652,-0.26548366816239566,null],\"type\":\"scatter\"},{\"hoverinfo\":\"text\",\"line\":{\"color\":\"blue\",\"width\":0.3},\"mode\":\"lines\",\"text\":[\"Jeor-Mormont--Grenn: 1.0\"],\"x\":[-0.21544125756345248,-0.27894341162087527,null],\"y\":[-0.17131508038589652,-0.30013732874856497,null],\"type\":\"scatter\"},{\"hoverinfo\":\"text\",\"line\":{\"color\":\"blue\",\"width\":0.3297715400664042},\"mode\":\"lines\",\"text\":[\"Jeor-Mormont--Jaremy-Rykker: 1.0555555555555556\"],\"x\":[-0.21544125756345248,-0.20527231708199528,null],\"y\":[-0.17131508038589652,-0.3549798117784053,null],\"type\":\"scatter\"},{\"hoverinfo\":\"text\",\"line\":{\"color\":\"blue\",\"width\":0.3184658461431345},\"mode\":\"lines\",\"text\":[\"Jeor-Mormont--Samwell-Tarly: 1.034722222222222\"],\"x\":[-0.21544125756345248,-0.26837498129823595,null],\"y\":[-0.17131508038589652,-0.26571040585496464,null],\"type\":\"scatter\"},{\"hoverinfo\":\"text\",\"line\":{\"color\":\"blue\",\"width\":0.3},\"mode\":\"lines\",\"text\":[\"Jeor-Mormont--Yoren: 1.0\"],\"x\":[-0.21544125756345248,-0.13829944821982637,null],\"y\":[-0.17131508038589652,-0.09318015549971584,null],\"type\":\"scatter\"},{\"hoverinfo\":\"text\",\"line\":{\"color\":\"blue\",\"width\":0.3},\"mode\":\"lines\",\"text\":[\"Jon-Arryn--Aerys-II-Targaryen: 1.0\"],\"x\":[0.017573226254451197,0.17880449780327884,null],\"y\":[0.04811545290389017,0.14537326601673276,null],\"type\":\"scatter\"},{\"hoverinfo\":\"text\",\"line\":{\"color\":\"blue\",\"width\":0.3036553222084388},\"mode\":\"lines\",\"text\":[\"Jon-Arryn--Barristan-Selmy: 1.0069444444444444\"],\"x\":[0.017573226254451197,0.12937540553129614,null],\"y\":[0.04811545290389017,0.06281701710849813,null],\"type\":\"scatter\"},{\"hoverinfo\":\"text\",\"line\":{\"color\":\"blue\",\"width\":0.3},\"mode\":\"lines\",\"text\":[\"Jon-Arryn--Hugh: 1.0\"],\"x\":[0.017573226254451197,-0.2001611467886124,null],\"y\":[0.04811545290389017,0.22658719476541003,null],\"type\":\"scatter\"},{\"hoverinfo\":\"text\",\"line\":{\"color\":\"blue\",\"width\":0.33357761363923993},\"mode\":\"lines\",\"text\":[\"Jon-Arryn--Lysa-Arryn: 1.0625\"],\"x\":[0.017573226254451197,0.12653315489042977,null],\"y\":[0.04811545290389017,-0.09013791103676602,null],\"type\":\"scatter\"},{\"hoverinfo\":\"text\",\"line\":{\"color\":\"blue\",\"width\":0.3297715400664042},\"mode\":\"lines\",\"text\":[\"Jon-Arryn--Pycelle: 1.0555555555555556\"],\"x\":[0.017573226254451197,0.0857655486770623,null],\"y\":[0.04811545290389017,0.08225288197648849,null],\"type\":\"scatter\"},{\"hoverinfo\":\"text\",\"line\":{\"color\":\"blue\",\"width\":0.3374023903222028},\"mode\":\"lines\",\"text\":[\"Jon-Arryn--Stannis-Baratheon: 1.0694444444444444\"],\"x\":[0.017573226254451197,0.10522382841735935,null],\"y\":[0.04811545290389017,0.02502521588793754,null],\"type\":\"scatter\"},{\"hoverinfo\":\"text\",\"line\":{\"color\":\"blue\",\"width\":0.30732960033145773},\"mode\":\"lines\",\"text\":[\"Jorah-Mormont--Aggo: 1.0138888888888888\"],\"x\":[-0.019064354672386447,0.017658330818026202,null],\"y\":[0.48259338219442455,0.6461942705341531,null],\"type\":\"scatter\"},{\"hoverinfo\":\"text\",\"line\":{\"color\":\"blue\",\"width\":0.3},\"mode\":\"lines\",\"text\":[\"Jorah-Mormont--Doreah: 1.0\"],\"x\":[-0.019064354672386447,-0.04154279145219459,null],\"y\":[0.48259338219442455,0.5798431442327341,null],\"type\":\"scatter\"},{\"hoverinfo\":\"text\",\"line\":{\"color\":\"blue\",\"width\":0.31473489442754443},\"mode\":\"lines\",\"text\":[\"Jorah-Mormont--Illyrio-Mopatis: 1.0277777777777777\"],\"x\":[-0.019064354672386447,0.001079720675957324,null],\"y\":[0.48259338219442455,0.4279871367525846,null],\"type\":\"scatter\"},{\"hoverinfo\":\"text\",\"line\":{\"color\":\"blue\",\"width\":0.3036553222084388},\"mode\":\"lines\",\"text\":[\"Jorah-Mormont--Irri: 1.0069444444444444\"],\"x\":[-0.019064354672386447,-0.014371425948954717,null],\"y\":[0.48259338219442455,0.559054333378203,null],\"type\":\"scatter\"},{\"hoverinfo\":\"text\",\"line\":{\"color\":\"blue\",\"width\":0.3036553222084388},\"mode\":\"lines\",\"text\":[\"Jorah-Mormont--Jhiqui: 1.0069444444444444\"],\"x\":[-0.019064354672386447,-0.09337088732850068,null],\"y\":[0.48259338219442455,0.603861909047303,null],\"type\":\"scatter\"},{\"hoverinfo\":\"text\",\"line\":{\"color\":\"blue\",\"width\":0.30732960033145773},\"mode\":\"lines\",\"text\":[\"Jorah-Mormont--Jhogo: 1.0138888888888888\"],\"x\":[-0.019064354672386447,0.01830446134818916,null],\"y\":[0.48259338219442455,0.6141754614620935,null],\"type\":\"scatter\"},{\"hoverinfo\":\"text\",\"line\":{\"color\":\"blue\",\"width\":0.30732960033145773},\"mode\":\"lines\",\"text\":[\"Jorah-Mormont--Mirri-Maz-Duur: 1.0138888888888888\"],\"x\":[-0.019064354672386447,-0.024755329664524837,null],\"y\":[0.48259338219442455,0.632344800738363,null],\"type\":\"scatter\"},{\"hoverinfo\":\"text\",\"line\":{\"color\":\"blue\",\"width\":0.31473489442754443},\"mode\":\"lines\",\"text\":[\"Jorah-Mormont--Qotho: 1.0277777777777777\"],\"x\":[-0.019064354672386447,-0.0644145317183468,null],\"y\":[0.48259338219442455,0.6399533884998166,null],\"type\":\"scatter\"},{\"hoverinfo\":\"text\",\"line\":{\"color\":\"blue\",\"width\":0.30732960033145773},\"mode\":\"lines\",\"text\":[\"Jorah-Mormont--Rhaegar-Targaryen: 1.0138888888888888\"],\"x\":[-0.019064354672386447,0.014653623613678292,null],\"y\":[0.48259338219442455,0.26775314626515023,null],\"type\":\"scatter\"},{\"hoverinfo\":\"text\",\"line\":{\"color\":\"blue\",\"width\":0.34510793151786423},\"mode\":\"lines\",\"text\":[\"Jorah-Mormont--Viserys-Targaryen: 1.0833333333333333\"],\"x\":[-0.019064354672386447,-0.027909544187174198,null],\"y\":[0.48259338219442455,0.42414680182602954,null],\"type\":\"scatter\"},{\"hoverinfo\":\"text\",\"line\":{\"color\":\"blue\",\"width\":0.3184658461431345},\"mode\":\"lines\",\"text\":[\"Jory-Cassel--Alyn: 1.034722222222222\"],\"x\":[-0.014992917689555097,0.024776477722474877,null],\"y\":[0.07085877790405458,0.23769593769761657,null],\"type\":\"scatter\"},{\"hoverinfo\":\"text\",\"line\":{\"color\":\"blue\",\"width\":0.3036553222084388},\"mode\":\"lines\",\"text\":[\"Jory-Cassel--Harwin: 1.0069444444444444\"],\"x\":[-0.014992917689555097,-0.05720282117988841,null],\"y\":[0.07085877790405458,0.21711286247210781,null],\"type\":\"scatter\"},{\"hoverinfo\":\"text\",\"line\":{\"color\":\"blue\",\"width\":0.30732960033145773},\"mode\":\"lines\",\"text\":[\"Jory-Cassel--Heward: 1.0138888888888888\"],\"x\":[-0.014992917689555097,-0.10784701806901942,null],\"y\":[0.07085877790405458,0.28413969505424014,null],\"type\":\"scatter\"},{\"hoverinfo\":\"text\",\"line\":{\"color\":\"blue\",\"width\":0.30732960033145773},\"mode\":\"lines\",\"text\":[\"Jory-Cassel--Hullen: 1.0138888888888888\"],\"x\":[-0.014992917689555097,-0.11711798678681166,null],\"y\":[0.07085877790405458,0.08073306188728846,null],\"type\":\"scatter\"},{\"hoverinfo\":\"text\",\"line\":{\"color\":\"blue\",\"width\":0.3},\"mode\":\"lines\",\"text\":[\"Jory-Cassel--Mordane: 1.0\"],\"x\":[-0.014992917689555097,0.02543575930860007,null],\"y\":[0.07085877790405458,-0.009281754547322905,null],\"type\":\"scatter\"},{\"hoverinfo\":\"text\",\"line\":{\"color\":\"blue\",\"width\":0.30732960033145773},\"mode\":\"lines\",\"text\":[\"Jory-Cassel--Rodrik-Cassel: 1.0138888888888888\"],\"x\":[-0.014992917689555097,0.0023389107467837325,null],\"y\":[0.07085877790405458,-0.06416374395556995,null],\"type\":\"scatter\"},{\"hoverinfo\":\"text\",\"line\":{\"color\":\"blue\",\"width\":0.3},\"mode\":\"lines\",\"text\":[\"Jory-Cassel--Stannis-Baratheon: 1.0\"],\"x\":[-0.014992917689555097,0.10522382841735935,null],\"y\":[0.07085877790405458,0.02502521588793754,null],\"type\":\"scatter\"},{\"hoverinfo\":\"text\",\"line\":{\"color\":\"blue\",\"width\":0.3},\"mode\":\"lines\",\"text\":[\"Jory-Cassel--Theon-Greyjoy: 1.0\"],\"x\":[-0.014992917689555097,-0.018570992946724544,null],\"y\":[0.07085877790405458,-0.09792368559960818,null],\"type\":\"scatter\"},{\"hoverinfo\":\"text\",\"line\":{\"color\":\"blue\",\"width\":0.30732960033145773},\"mode\":\"lines\",\"text\":[\"Jory-Cassel--Tomard: 1.0138888888888888\"],\"x\":[-0.014992917689555097,0.08399729181974153,null],\"y\":[0.07085877790405458,0.17503157989834955,null],\"type\":\"scatter\"},{\"hoverinfo\":\"text\",\"line\":{\"color\":\"blue\",\"width\":0.30732960033145773},\"mode\":\"lines\",\"text\":[\"Jory-Cassel--Vayon-Poole: 1.0138888888888888\"],\"x\":[-0.014992917689555097,0.13920241258330932,null],\"y\":[0.07085877790405458,0.10402928691784472,null],\"type\":\"scatter\"},{\"hoverinfo\":\"text\",\"line\":{\"color\":\"blue\",\"width\":0.31102280182627423},\"mode\":\"lines\",\"text\":[\"Jory-Cassel--Wyl-(guard): 1.0208333333333333\"],\"x\":[-0.014992917689555097,-0.023801432063556165,null],\"y\":[0.07085877790405458,0.18600123264216076,null],\"type\":\"scatter\"},{\"hoverinfo\":\"text\",\"line\":{\"color\":\"blue\",\"width\":0.3184658461431345},\"mode\":\"lines\",\"text\":[\"Pycelle--Barristan-Selmy: 1.034722222222222\"],\"x\":[0.0857655486770623,0.12937540553129614,null],\"y\":[0.08225288197648849,0.06281701710849813,null],\"type\":\"scatter\"},{\"hoverinfo\":\"text\",\"line\":{\"color\":\"blue\",\"width\":0.3},\"mode\":\"lines\",\"text\":[\"Pycelle--Gregor-Clegane: 1.0\"],\"x\":[0.0857655486770623,0.07693119390322473,null],\"y\":[0.08225288197648849,0.04684415948750067,null],\"type\":\"scatter\"},{\"hoverinfo\":\"text\",\"line\":{\"color\":\"blue\",\"width\":0.3},\"mode\":\"lines\",\"text\":[\"Pycelle--Janos-Slynt: 1.0\"],\"x\":[0.0857655486770623,0.13419213924015455,null],\"y\":[0.08225288197648849,0.12636956328109705,null],\"type\":\"scatter\"},{\"hoverinfo\":\"text\",\"line\":{\"color\":\"blue\",\"width\":0.3},\"mode\":\"lines\",\"text\":[\"Pycelle--Stannis-Baratheon: 1.0\"],\"x\":[0.0857655486770623,0.10522382841735935,null],\"y\":[0.08225288197648849,0.02502521588793754,null],\"type\":\"scatter\"},{\"hoverinfo\":\"text\",\"line\":{\"color\":\"blue\",\"width\":0.30732960033145773},\"mode\":\"lines\",\"text\":[\"Samwell-Tarly--Aemon-Targaryen: 1.0138888888888888\"],\"x\":[-0.26837498129823595,-0.3428145406562496,null],\"y\":[-0.26571040585496464,-0.3189554820482568,null],\"type\":\"scatter\"},{\"hoverinfo\":\"text\",\"line\":{\"color\":\"blue\",\"width\":0.3184658461431345},\"mode\":\"lines\",\"text\":[\"Samwell-Tarly--Alliser-Thorne: 1.034722222222222\"],\"x\":[-0.26837498129823595,-0.230372819930384,null],\"y\":[-0.26571040585496464,-0.27393144522537693,null],\"type\":\"scatter\"},{\"hoverinfo\":\"text\",\"line\":{\"color\":\"blue\",\"width\":0.3},\"mode\":\"lines\",\"text\":[\"Samwell-Tarly--Bowen-Marsh: 1.0\"],\"x\":[-0.26837498129823595,-0.3152731669301327,null],\"y\":[-0.26571040585496464,-0.26076046174051876,null],\"type\":\"scatter\"},{\"hoverinfo\":\"text\",\"line\":{\"color\":\"blue\",\"width\":0.31102280182627423},\"mode\":\"lines\",\"text\":[\"Samwell-Tarly--Chett: 1.0208333333333333\"],\"x\":[-0.26837498129823595,-0.36933534667252454,null],\"y\":[-0.26571040585496464,-0.28813122400786007,null],\"type\":\"scatter\"},{\"hoverinfo\":\"text\",\"line\":{\"color\":\"blue\",\"width\":0.3184658461431345},\"mode\":\"lines\",\"text\":[\"Samwell-Tarly--Grenn: 1.034722222222222\"],\"x\":[-0.26837498129823595,-0.27894341162087527,null],\"y\":[-0.26571040585496464,-0.30013732874856497,null],\"type\":\"scatter\"},{\"hoverinfo\":\"text\",\"line\":{\"color\":\"blue\",\"width\":0.31102280182627423},\"mode\":\"lines\",\"text\":[\"Samwell-Tarly--Halder: 1.0208333333333333\"],\"x\":[-0.26837498129823595,-0.28276418942434495,null],\"y\":[-0.26571040585496464,-0.34724935219928904,null],\"type\":\"scatter\"},{\"hoverinfo\":\"text\",\"line\":{\"color\":\"blue\",\"width\":0.3297715400664042},\"mode\":\"lines\",\"text\":[\"Samwell-Tarly--Pypar: 1.0555555555555556\"],\"x\":[-0.26837498129823595,-0.25424319562072223,null],\"y\":[-0.26571040585496464,-0.33328172231759384,null],\"type\":\"scatter\"},{\"hoverinfo\":\"text\",\"line\":{\"color\":\"blue\",\"width\":0.30732960033145773},\"mode\":\"lines\",\"text\":[\"Samwell-Tarly--Randyll-Tarly: 1.0138888888888888\"],\"x\":[-0.26837498129823595,-0.47670374198125887,null],\"y\":[-0.26571040585496464,-0.4306599846466103,null],\"type\":\"scatter\"},{\"hoverinfo\":\"text\",\"line\":{\"color\":\"blue\",\"width\":0.3},\"mode\":\"lines\",\"text\":[\"Samwell-Tarly--Rast: 1.0\"],\"x\":[-0.26837498129823595,-0.2496285260136785,null],\"y\":[-0.26571040585496464,-0.36938882317979926,null],\"type\":\"scatter\"},{\"hoverinfo\":\"text\",\"line\":{\"color\":\"blue\",\"width\":0.3},\"mode\":\"lines\",\"text\":[\"Barristan-Selmy--Boros-Blount: 1.0\"],\"x\":[0.12937540553129614,0.19767877967959777,null],\"y\":[0.06281701710849813,-0.007191383086253683,null],\"type\":\"scatter\"},{\"hoverinfo\":\"text\",\"line\":{\"color\":\"blue\",\"width\":0.3},\"mode\":\"lines\",\"text\":[\"Barristan-Selmy--Meryn-Trant: 1.0\"],\"x\":[0.12937540553129614,0.17832790627769748,null],\"y\":[0.06281701710849813,0.05658916185941756,null],\"type\":\"scatter\"},{\"hoverinfo\":\"text\",\"line\":{\"color\":\"blue\",\"width\":0.3},\"mode\":\"lines\",\"text\":[\"Barristan-Selmy--Sandor-Clegane: 1.0\"],\"x\":[0.12937540553129614,0.12952798707083144,null],\"y\":[0.06281701710849813,0.019266875519648598,null],\"type\":\"scatter\"},{\"hoverinfo\":\"text\",\"line\":{\"color\":\"blue\",\"width\":0.31473489442754443},\"mode\":\"lines\",\"text\":[\"Mordane--Jeyne-Poole: 1.0277777777777777\"],\"x\":[0.02543575930860007,0.15671453143493377,null],\"y\":[-0.009281754547322905,0.05471148992048057,null],\"type\":\"scatter\"},{\"hoverinfo\":\"text\",\"line\":{\"color\":\"blue\",\"width\":0.33357761363923993},\"mode\":\"lines\",\"text\":[\"Mordane--Myrcella-Baratheon: 1.0625\"],\"x\":[0.02543575930860007,0.11358554520503127,null],\"y\":[-0.009281754547322905,-0.02132348751762153,null],\"type\":\"scatter\"},{\"hoverinfo\":\"text\",\"line\":{\"color\":\"blue\",\"width\":0.32598420029006264},\"mode\":\"lines\",\"text\":[\"Lysa-Arryn--Brynden-Tully: 1.0486111111111112\"],\"x\":[0.12653315489042977,0.07835692800964725,null],\"y\":[-0.09013791103676602,-0.1613095772366983,null],\"type\":\"scatter\"},{\"hoverinfo\":\"text\",\"line\":{\"color\":\"blue\",\"width\":0.30732960033145773},\"mode\":\"lines\",\"text\":[\"Lysa-Arryn--Edmure-Tully: 1.0138888888888888\"],\"x\":[0.12653315489042977,0.023076472169538148,null],\"y\":[-0.09013791103676602,-0.07761245006425639,null],\"type\":\"scatter\"},{\"hoverinfo\":\"text\",\"line\":{\"color\":\"blue\",\"width\":0.3},\"mode\":\"lines\",\"text\":[\"Lysa-Arryn--Eon-Hunter: 1.0\"],\"x\":[0.12653315489042977,0.21897464053883478,null],\"y\":[-0.09013791103676602,-0.22966591651311055,null],\"type\":\"scatter\"},{\"hoverinfo\":\"text\",\"line\":{\"color\":\"blue\",\"width\":0.3},\"mode\":\"lines\",\"text\":[\"Lysa-Arryn--Hoster-Tully: 1.0\"],\"x\":[0.12653315489042977,0.15596838332473842,null],\"y\":[-0.09013791103676602,-0.0920572605417538,null],\"type\":\"scatter\"},{\"hoverinfo\":\"text\",\"line\":{\"color\":\"blue\",\"width\":0.3},\"mode\":\"lines\",\"text\":[\"Lysa-Arryn--Lyn-Corbray: 1.0\"],\"x\":[0.12653315489042977,0.3773848866650795,null],\"y\":[-0.09013791103676602,-0.2092881444568755,null],\"type\":\"scatter\"},{\"hoverinfo\":\"text\",\"line\":{\"color\":\"blue\",\"width\":0.3184658461431345},\"mode\":\"lines\",\"text\":[\"Lysa-Arryn--Robert-Arryn: 1.034722222222222\"],\"x\":[0.12653315489042977,0.09616131519156314,null],\"y\":[-0.09013791103676602,-0.22373173822578152,null],\"type\":\"scatter\"},{\"hoverinfo\":\"text\",\"line\":{\"color\":\"blue\",\"width\":0.3036553222084388},\"mode\":\"lines\",\"text\":[\"Lysa-Arryn--Stannis-Baratheon: 1.0069444444444444\"],\"x\":[0.12653315489042977,0.10522382841735935,null],\"y\":[-0.09013791103676602,0.02502521588793754,null],\"type\":\"scatter\"},{\"hoverinfo\":\"text\",\"line\":{\"color\":\"blue\",\"width\":0.30732960033145773},\"mode\":\"lines\",\"text\":[\"Lysa-Arryn--Vardis-Egen: 1.0138888888888888\"],\"x\":[0.12653315489042977,0.11085422952634162,null],\"y\":[-0.09013791103676602,-0.25076953405138547,null],\"type\":\"scatter\"},{\"hoverinfo\":\"text\",\"line\":{\"color\":\"blue\",\"width\":0.3},\"mode\":\"lines\",\"text\":[\"Sandor-Clegane--Balon-Swann: 1.0\"],\"x\":[0.12952798707083144,0.31963611576040496,null],\"y\":[0.019266875519648598,0.013691041133270949,null],\"type\":\"scatter\"},{\"hoverinfo\":\"text\",\"line\":{\"color\":\"blue\",\"width\":0.3297715400664042},\"mode\":\"lines\",\"text\":[\"Sandor-Clegane--Gregor-Clegane: 1.0555555555555556\"],\"x\":[0.12952798707083144,0.07693119390322473,null],\"y\":[0.019266875519648598,0.04684415948750067,null],\"type\":\"scatter\"},{\"hoverinfo\":\"text\",\"line\":{\"color\":\"blue\",\"width\":0.3036553222084388},\"mode\":\"lines\",\"text\":[\"Sandor-Clegane--Loras-Tyrell: 1.0069444444444444\"],\"x\":[0.12952798707083144,0.18042954714332093,null],\"y\":[0.019266875519648598,0.10241972177968102,null],\"type\":\"scatter\"},{\"hoverinfo\":\"text\",\"line\":{\"color\":\"blue\",\"width\":0.3036553222084388},\"mode\":\"lines\",\"text\":[\"Sandor-Clegane--Meryn-Trant: 1.0069444444444444\"],\"x\":[0.12952798707083144,0.17832790627769748,null],\"y\":[0.019266875519648598,0.05658916185941756,null],\"type\":\"scatter\"},{\"hoverinfo\":\"text\",\"line\":{\"color\":\"blue\",\"width\":0.30732960033145773},\"mode\":\"lines\",\"text\":[\"Sandor-Clegane--Mycah: 1.0138888888888888\"],\"x\":[0.12952798707083144,0.07212180934310158,null],\"y\":[0.019266875519648598,0.14112253354003632,null],\"type\":\"scatter\"},{\"hoverinfo\":\"text\",\"line\":{\"color\":\"blue\",\"width\":0.3036553222084388},\"mode\":\"lines\",\"text\":[\"Theon-Greyjoy--Benjen-Stark: 1.0069444444444444\"],\"x\":[-0.018570992946724544,-0.12405528656493038,null],\"y\":[-0.09792368559960818,-0.1404897871753785,null],\"type\":\"scatter\"},{\"hoverinfo\":\"text\",\"line\":{\"color\":\"blue\",\"width\":0.31102280182627423},\"mode\":\"lines\",\"text\":[\"Theon-Greyjoy--Brynden-Tully: 1.0208333333333333\"],\"x\":[-0.018570992946724544,0.07835692800964725,null],\"y\":[-0.09792368559960818,-0.1613095772366983,null],\"type\":\"scatter\"},{\"hoverinfo\":\"text\",\"line\":{\"color\":\"blue\",\"width\":0.31473489442754443},\"mode\":\"lines\",\"text\":[\"Theon-Greyjoy--Hallis-Mollen: 1.0277777777777777\"],\"x\":[-0.018570992946724544,-0.08801516159779224,null],\"y\":[-0.09792368559960818,-0.12258939900067763,null],\"type\":\"scatter\"},{\"hoverinfo\":\"text\",\"line\":{\"color\":\"blue\",\"width\":0.30732960033145773},\"mode\":\"lines\",\"text\":[\"Theon-Greyjoy--Jon-Umber-(Greatjon): 1.0138888888888888\"],\"x\":[-0.018570992946724544,-0.12111407816859568,null],\"y\":[-0.09792368559960818,-0.027536695165753702,null],\"type\":\"scatter\"},{\"hoverinfo\":\"text\",\"line\":{\"color\":\"blue\",\"width\":0.31102280182627423},\"mode\":\"lines\",\"text\":[\"Theon-Greyjoy--Rodrik-Cassel: 1.0208333333333333\"],\"x\":[-0.018570992946724544,0.0023389107467837325,null],\"y\":[-0.09792368559960818,-0.06416374395556995,null],\"type\":\"scatter\"},{\"hoverinfo\":\"text\",\"line\":{\"color\":\"blue\",\"width\":0.3036553222084388},\"mode\":\"lines\",\"text\":[\"Theon-Greyjoy--Walder-Frey: 1.0069444444444444\"],\"x\":[-0.018570992946724544,0.10924972152460961,null],\"y\":[-0.09792368559960818,-0.283093941314091,null],\"type\":\"scatter\"},{\"hoverinfo\":\"text\",\"line\":{\"color\":\"blue\",\"width\":0.3036553222084388},\"mode\":\"lines\",\"text\":[\"Rodrik-Cassel--Bronn: 1.0069444444444444\"],\"x\":[0.0023389107467837325,-0.010611193952538631,null],\"y\":[-0.06416374395556995,-0.261238230356099,null],\"type\":\"scatter\"},{\"hoverinfo\":\"text\",\"line\":{\"color\":\"blue\",\"width\":0.3},\"mode\":\"lines\",\"text\":[\"Rodrik-Cassel--Hullen: 1.0\"],\"x\":[0.0023389107467837325,-0.11711798678681166,null],\"y\":[-0.06416374395556995,0.08073306188728846,null],\"type\":\"scatter\"},{\"hoverinfo\":\"text\",\"line\":{\"color\":\"blue\",\"width\":0.3},\"mode\":\"lines\",\"text\":[\"Rodrik-Cassel--Loras-Tyrell: 1.0\"],\"x\":[0.0023389107467837325,0.18042954714332093,null],\"y\":[-0.06416374395556995,0.10241972177968102,null],\"type\":\"scatter\"},{\"hoverinfo\":\"text\",\"line\":{\"color\":\"blue\",\"width\":0.30732960033145773},\"mode\":\"lines\",\"text\":[\"Rodrik-Cassel--Marillion: 1.0138888888888888\"],\"x\":[0.0023389107467837325,0.009807945683700232,null],\"y\":[-0.06416374395556995,-0.22617742973005572,null],\"type\":\"scatter\"},{\"hoverinfo\":\"text\",\"line\":{\"color\":\"blue\",\"width\":0.31473489442754443},\"mode\":\"lines\",\"text\":[\"Rodrik-Cassel--Willis-Wode: 1.0277777777777777\"],\"x\":[0.0023389107467837325,-0.03202913141501781,null],\"y\":[-0.06416374395556995,-0.24056066045048197,null],\"type\":\"scatter\"},{\"hoverinfo\":\"text\",\"line\":{\"color\":\"blue\",\"width\":0.3184658461431345},\"mode\":\"lines\",\"text\":[\"Bronn--Chiggen: 1.034722222222222\"],\"x\":[-0.010611193952538631,-0.04029994691827284,null],\"y\":[-0.261238230356099,-0.3425045562821123,null],\"type\":\"scatter\"},{\"hoverinfo\":\"text\",\"line\":{\"color\":\"blue\",\"width\":0.3036553222084388},\"mode\":\"lines\",\"text\":[\"Bronn--Marillion: 1.0069444444444444\"],\"x\":[-0.010611193952538631,0.009807945683700232,null],\"y\":[-0.261238230356099,-0.22617742973005572,null],\"type\":\"scatter\"},{\"hoverinfo\":\"text\",\"line\":{\"color\":\"blue\",\"width\":0.3},\"mode\":\"lines\",\"text\":[\"Bronn--Shae: 1.0\"],\"x\":[-0.010611193952538631,-0.09735053033051182,null],\"y\":[-0.261238230356099,-0.3312462527729454,null],\"type\":\"scatter\"},{\"hoverinfo\":\"text\",\"line\":{\"color\":\"blue\",\"width\":0.3},\"mode\":\"lines\",\"text\":[\"Bronn--Shagga: 1.0\"],\"x\":[-0.010611193952538631,-0.06265965517457163,null],\"y\":[-0.261238230356099,-0.48662507972631747,null],\"type\":\"scatter\"},{\"hoverinfo\":\"text\",\"line\":{\"color\":\"blue\",\"width\":0.3297715400664042},\"mode\":\"lines\",\"text\":[\"Bronn--Vardis-Egen: 1.0555555555555556\"],\"x\":[-0.010611193952538631,0.11085422952634162,null],\"y\":[-0.261238230356099,-0.25076953405138547,null],\"type\":\"scatter\"},{\"hoverinfo\":\"text\",\"line\":{\"color\":\"blue\",\"width\":0.30732960033145773},\"mode\":\"lines\",\"text\":[\"Bronn--Willis-Wode: 1.0138888888888888\"],\"x\":[-0.010611193952538631,-0.03202913141501781,null],\"y\":[-0.261238230356099,-0.24056066045048197,null],\"type\":\"scatter\"},{\"hoverinfo\":\"text\",\"line\":{\"color\":\"blue\",\"width\":0.3036553222084388},\"mode\":\"lines\",\"text\":[\"Pypar--Alliser-Thorne: 1.0069444444444444\"],\"x\":[-0.25424319562072223,-0.230372819930384,null],\"y\":[-0.33328172231759384,-0.27393144522537693,null],\"type\":\"scatter\"},{\"hoverinfo\":\"text\",\"line\":{\"color\":\"blue\",\"width\":0.3928964787632692},\"mode\":\"lines\",\"text\":[\"Pypar--Grenn: 1.1666666666666665\"],\"x\":[-0.25424319562072223,-0.27894341162087527,null],\"y\":[-0.33328172231759384,-0.30013732874856497,null],\"type\":\"scatter\"},{\"hoverinfo\":\"text\",\"line\":{\"color\":\"blue\",\"width\":0.3184658461431345},\"mode\":\"lines\",\"text\":[\"Pypar--Halder: 1.034722222222222\"],\"x\":[-0.25424319562072223,-0.28276418942434495,null],\"y\":[-0.33328172231759384,-0.34724935219928904,null],\"type\":\"scatter\"},{\"hoverinfo\":\"text\",\"line\":{\"color\":\"blue\",\"width\":0.3036553222084388},\"mode\":\"lines\",\"text\":[\"Pypar--Rast: 1.0069444444444444\"],\"x\":[-0.25424319562072223,-0.2496285260136785,null],\"y\":[-0.33328172231759384,-0.36938882317979926,null],\"type\":\"scatter\"},{\"hoverinfo\":\"text\",\"line\":{\"color\":\"blue\",\"width\":0.3184658461431345},\"mode\":\"lines\",\"text\":[\"Pypar--Todder: 1.034722222222222\"],\"x\":[-0.25424319562072223,-0.2956201928286358,null],\"y\":[-0.33328172231759384,-0.3796356429562429,null],\"type\":\"scatter\"},{\"hoverinfo\":\"text\",\"line\":{\"color\":\"blue\",\"width\":0.3},\"mode\":\"lines\",\"text\":[\"Viserys-Targaryen--Doreah: 1.0\"],\"x\":[-0.027909544187174198,-0.04154279145219459,null],\"y\":[0.42414680182602954,0.5798431442327341,null],\"type\":\"scatter\"},{\"hoverinfo\":\"text\",\"line\":{\"color\":\"blue\",\"width\":0.34124583967861705},\"mode\":\"lines\",\"text\":[\"Viserys-Targaryen--Illyrio-Mopatis: 1.0763888888888888\"],\"x\":[-0.027909544187174198,0.001079720675957324,null],\"y\":[0.42414680182602954,0.4279871367525846,null],\"type\":\"scatter\"},{\"hoverinfo\":\"text\",\"line\":{\"color\":\"blue\",\"width\":0.30732960033145773},\"mode\":\"lines\",\"text\":[\"Viserys-Targaryen--Irri: 1.0138888888888888\"],\"x\":[-0.027909544187174198,-0.014371425948954717,null],\"y\":[0.42414680182602954,0.559054333378203,null],\"type\":\"scatter\"},{\"hoverinfo\":\"text\",\"line\":{\"color\":\"blue\",\"width\":0.30732960033145773},\"mode\":\"lines\",\"text\":[\"Viserys-Targaryen--Rhaegar-Targaryen: 1.0138888888888888\"],\"x\":[-0.027909544187174198,0.014653623613678292,null],\"y\":[0.42414680182602954,0.26775314626515023,null],\"type\":\"scatter\"},{\"hoverinfo\":\"text\",\"line\":{\"color\":\"blue\",\"width\":0.3},\"mode\":\"lines\",\"text\":[\"Benjen-Stark--Jaremy-Rykker: 1.0\"],\"x\":[-0.12405528656493038,-0.20527231708199528,null],\"y\":[-0.1404897871753785,-0.3549798117784053,null],\"type\":\"scatter\"},{\"hoverinfo\":\"text\",\"line\":{\"color\":\"blue\",\"width\":0.3},\"mode\":\"lines\",\"text\":[\"Benjen-Stark--Mance-Rayder: 1.0\"],\"x\":[-0.12405528656493038,-0.07202237068564803,null],\"y\":[-0.1404897871753785,-0.40771895621341314,null],\"type\":\"scatter\"},{\"hoverinfo\":\"text\",\"line\":{\"color\":\"blue\",\"width\":0.3},\"mode\":\"lines\",\"text\":[\"Benjen-Stark--Waymar-Royce: 1.0\"],\"x\":[-0.12405528656493038,-0.4542887097797289,null],\"y\":[-0.1404897871753785,-0.2591263923936027,null],\"type\":\"scatter\"},{\"hoverinfo\":\"text\",\"line\":{\"color\":\"blue\",\"width\":0.3036553222084388},\"mode\":\"lines\",\"text\":[\"Benjen-Stark--Yoren: 1.0069444444444444\"],\"x\":[-0.12405528656493038,-0.13829944821982637,null],\"y\":[-0.1404897871753785,-0.09318015549971584,null],\"type\":\"scatter\"},{\"hoverinfo\":\"text\",\"line\":{\"color\":\"blue\",\"width\":0.3},\"mode\":\"lines\",\"text\":[\"Grenn--Alliser-Thorne: 1.0\"],\"x\":[-0.27894341162087527,-0.230372819930384,null],\"y\":[-0.30013732874856497,-0.27393144522537693,null],\"type\":\"scatter\"},{\"hoverinfo\":\"text\",\"line\":{\"color\":\"blue\",\"width\":0.31102280182627423},\"mode\":\"lines\",\"text\":[\"Grenn--Halder: 1.0208333333333333\"],\"x\":[-0.27894341162087527,-0.28276418942434495,null],\"y\":[-0.30013732874856497,-0.34724935219928904,null],\"type\":\"scatter\"},{\"hoverinfo\":\"text\",\"line\":{\"color\":\"blue\",\"width\":0.31473489442754443},\"mode\":\"lines\",\"text\":[\"Grenn--Todder: 1.0277777777777777\"],\"x\":[-0.27894341162087527,-0.2956201928286358,null],\"y\":[-0.30013732874856497,-0.3796356429562429,null],\"type\":\"scatter\"},{\"hoverinfo\":\"text\",\"line\":{\"color\":\"blue\",\"width\":0.34124583967861705},\"mode\":\"lines\",\"text\":[\"Irri--Doreah: 1.0763888888888888\"],\"x\":[-0.014371425948954717,-0.04154279145219459,null],\"y\":[0.559054333378203,0.5798431442327341,null],\"type\":\"scatter\"},{\"hoverinfo\":\"text\",\"line\":{\"color\":\"blue\",\"width\":0.3},\"mode\":\"lines\",\"text\":[\"Irri--Illyrio-Mopatis: 1.0\"],\"x\":[-0.014371425948954717,0.001079720675957324,null],\"y\":[0.559054333378203,0.4279871367525846,null],\"type\":\"scatter\"},{\"hoverinfo\":\"text\",\"line\":{\"color\":\"blue\",\"width\":0.34124583967861705},\"mode\":\"lines\",\"text\":[\"Irri--Jhiqui: 1.0763888888888888\"],\"x\":[-0.014371425948954717,-0.09337088732850068,null],\"y\":[0.559054333378203,0.603861909047303,null],\"type\":\"scatter\"},{\"hoverinfo\":\"text\",\"line\":{\"color\":\"blue\",\"width\":0.31473489442754443},\"mode\":\"lines\",\"text\":[\"Irri--Jhogo: 1.0277777777777777\"],\"x\":[-0.014371425948954717,0.01830446134818916,null],\"y\":[0.559054333378203,0.6141754614620935,null],\"type\":\"scatter\"},{\"hoverinfo\":\"text\",\"line\":{\"color\":\"blue\",\"width\":0.3036553222084388},\"mode\":\"lines\",\"text\":[\"Alliser-Thorne--Aemon-Targaryen: 1.0069444444444444\"],\"x\":[-0.230372819930384,-0.3428145406562496,null],\"y\":[-0.27393144522537693,-0.3189554820482568,null],\"type\":\"scatter\"},{\"hoverinfo\":\"text\",\"line\":{\"color\":\"blue\",\"width\":0.3},\"mode\":\"lines\",\"text\":[\"Alliser-Thorne--Bowen-Marsh: 1.0\"],\"x\":[-0.230372819930384,-0.3152731669301327,null],\"y\":[-0.27393144522537693,-0.26076046174051876,null],\"type\":\"scatter\"},{\"hoverinfo\":\"text\",\"line\":{\"color\":\"blue\",\"width\":0.3036553222084388},\"mode\":\"lines\",\"text\":[\"Alliser-Thorne--Halder: 1.0069444444444444\"],\"x\":[-0.230372819930384,-0.28276418942434495,null],\"y\":[-0.27393144522537693,-0.34724935219928904,null],\"type\":\"scatter\"},{\"hoverinfo\":\"text\",\"line\":{\"color\":\"blue\",\"width\":0.30732960033145773},\"mode\":\"lines\",\"text\":[\"Alliser-Thorne--Rast: 1.0138888888888888\"],\"x\":[-0.230372819930384,-0.2496285260136785,null],\"y\":[-0.27393144522537693,-0.36938882317979926,null],\"type\":\"scatter\"},{\"hoverinfo\":\"text\",\"line\":{\"color\":\"blue\",\"width\":0.30732960033145773},\"mode\":\"lines\",\"text\":[\"Loras-Tyrell--Beric-Dondarrion: 1.0138888888888888\"],\"x\":[0.18042954714332093,0.2514470848015286,null],\"y\":[0.10241972177968102,0.10344060167222606,null],\"type\":\"scatter\"},{\"hoverinfo\":\"text\",\"line\":{\"color\":\"blue\",\"width\":0.32598420029006264},\"mode\":\"lines\",\"text\":[\"Loras-Tyrell--Gregor-Clegane: 1.0486111111111112\"],\"x\":[0.18042954714332093,0.07693119390322473,null],\"y\":[0.10241972177968102,0.04684415948750067,null],\"type\":\"scatter\"},{\"hoverinfo\":\"text\",\"line\":{\"color\":\"blue\",\"width\":0.3},\"mode\":\"lines\",\"text\":[\"Loras-Tyrell--Ilyn-Payne: 1.0\"],\"x\":[0.18042954714332093,0.10493895598371764,null],\"y\":[0.10241972177968102,0.12975215603867807,null],\"type\":\"scatter\"},{\"hoverinfo\":\"text\",\"line\":{\"color\":\"blue\",\"width\":0.3036553222084388},\"mode\":\"lines\",\"text\":[\"Loras-Tyrell--Jeyne-Poole: 1.0069444444444444\"],\"x\":[0.18042954714332093,0.15671453143493377,null],\"y\":[0.10241972177968102,0.05471148992048057,null],\"type\":\"scatter\"},{\"hoverinfo\":\"text\",\"line\":{\"color\":\"blue\",\"width\":0.3},\"mode\":\"lines\",\"text\":[\"Loras-Tyrell--Mace-Tyrell: 1.0\"],\"x\":[0.18042954714332093,0.4616907850654088,null],\"y\":[0.10241972177968102,0.33420994533850534,null],\"type\":\"scatter\"},{\"hoverinfo\":\"text\",\"line\":{\"color\":\"blue\",\"width\":0.3036553222084388},\"mode\":\"lines\",\"text\":[\"Aemon-Targaryen--Bowen-Marsh: 1.0069444444444444\"],\"x\":[-0.3428145406562496,-0.3152731669301327,null],\"y\":[-0.3189554820482568,-0.26076046174051876,null],\"type\":\"scatter\"},{\"hoverinfo\":\"text\",\"line\":{\"color\":\"blue\",\"width\":0.32221562524998465},\"mode\":\"lines\",\"text\":[\"Aemon-Targaryen--Chett: 1.0416666666666665\"],\"x\":[-0.3428145406562496,-0.36933534667252454,null],\"y\":[-0.3189554820482568,-0.28813122400786007,null],\"type\":\"scatter\"},{\"hoverinfo\":\"text\",\"line\":{\"color\":\"blue\",\"width\":0.30732960033145773},\"mode\":\"lines\",\"text\":[\"Aemon-Targaryen--Clydas: 1.0138888888888888\"],\"x\":[-0.3428145406562496,-0.5369588011419857,null],\"y\":[-0.3189554820482568,-0.48902384481666417,null],\"type\":\"scatter\"},{\"hoverinfo\":\"text\",\"line\":{\"color\":\"blue\",\"width\":0.31102280182627423},\"mode\":\"lines\",\"text\":[\"Gregor-Clegane--Beric-Dondarrion: 1.0208333333333333\"],\"x\":[0.07693119390322473,0.2514470848015286,null],\"y\":[0.04684415948750067,0.10344060167222606,null],\"type\":\"scatter\"},{\"hoverinfo\":\"text\",\"line\":{\"color\":\"blue\",\"width\":0.31102280182627423},\"mode\":\"lines\",\"text\":[\"Gregor-Clegane--Marq-Piper: 1.0208333333333333\"],\"x\":[0.07693119390322473,-0.0813601539025903,null],\"y\":[0.04684415948750067,0.057818626548124384,null],\"type\":\"scatter\"},{\"hoverinfo\":\"text\",\"line\":{\"color\":\"blue\",\"width\":0.3},\"mode\":\"lines\",\"text\":[\"Brynden-Tully--Edmure-Tully: 1.0\"],\"x\":[0.07835692800964725,0.023076472169538148,null],\"y\":[-0.1613095772366983,-0.07761245006425639,null],\"type\":\"scatter\"},{\"hoverinfo\":\"text\",\"line\":{\"color\":\"blue\",\"width\":0.30732960033145773},\"mode\":\"lines\",\"text\":[\"Brynden-Tully--Hoster-Tully: 1.0138888888888888\"],\"x\":[0.07835692800964725,0.15596838332473842,null],\"y\":[-0.1613095772366983,-0.0920572605417538,null],\"type\":\"scatter\"},{\"hoverinfo\":\"text\",\"line\":{\"color\":\"blue\",\"width\":0.3},\"mode\":\"lines\",\"text\":[\"Brynden-Tully--Nestor-Royce: 1.0\"],\"x\":[0.07835692800964725,0.1717819267667743,null],\"y\":[-0.1613095772366983,-0.30082156866848203,null],\"type\":\"scatter\"},{\"hoverinfo\":\"text\",\"line\":{\"color\":\"blue\",\"width\":0.3},\"mode\":\"lines\",\"text\":[\"Brynden-Tully--Walder-Frey: 1.0\"],\"x\":[0.07835692800964725,0.10924972152460961,null],\"y\":[-0.1613095772366983,-0.283093941314091,null],\"type\":\"scatter\"},{\"hoverinfo\":\"text\",\"line\":{\"color\":\"blue\",\"width\":0.31102280182627423},\"mode\":\"lines\",\"text\":[\"Qotho--Cohollo: 1.0208333333333333\"],\"x\":[-0.0644145317183468,-0.10280686100720865,null],\"y\":[0.6399533884998166,0.6762262571885916,null],\"type\":\"scatter\"},{\"hoverinfo\":\"text\",\"line\":{\"color\":\"blue\",\"width\":0.3297715400664042},\"mode\":\"lines\",\"text\":[\"Qotho--Haggo: 1.0555555555555556\"],\"x\":[-0.0644145317183468,-0.05808685149545533,null],\"y\":[0.6399533884998166,0.686396356589311,null],\"type\":\"scatter\"},{\"hoverinfo\":\"text\",\"line\":{\"color\":\"blue\",\"width\":0.32221562524998465},\"mode\":\"lines\",\"text\":[\"Qotho--Mirri-Maz-Duur: 1.0416666666666665\"],\"x\":[-0.0644145317183468,-0.024755329664524837,null],\"y\":[0.6399533884998166,0.632344800738363,null],\"type\":\"scatter\"},{\"hoverinfo\":\"text\",\"line\":{\"color\":\"blue\",\"width\":0.3036553222084388},\"mode\":\"lines\",\"text\":[\"Qotho--Quaro: 1.0069444444444444\"],\"x\":[-0.0644145317183468,-0.02160750082307075,null],\"y\":[0.6399533884998166,0.6967630051148899,null],\"type\":\"scatter\"},{\"hoverinfo\":\"text\",\"line\":{\"color\":\"blue\",\"width\":0.3},\"mode\":\"lines\",\"text\":[\"Mirri-Maz-Duur--Haggo: 1.0\"],\"x\":[-0.024755329664524837,-0.05808685149545533,null],\"y\":[0.632344800738363,0.686396356589311,null],\"type\":\"scatter\"},{\"hoverinfo\":\"text\",\"line\":{\"color\":\"blue\",\"width\":0.3},\"mode\":\"lines\",\"text\":[\"Mirri-Maz-Duur--Jhogo: 1.0\"],\"x\":[-0.024755329664524837,0.01830446134818916,null],\"y\":[0.632344800738363,0.6141754614620935,null],\"type\":\"scatter\"},{\"hoverinfo\":\"text\",\"line\":{\"color\":\"blue\",\"width\":0.3297715400664042},\"mode\":\"lines\",\"text\":[\"Jhiqui--Doreah: 1.0555555555555556\"],\"x\":[-0.09337088732850068,-0.04154279145219459,null],\"y\":[0.603861909047303,0.5798431442327341,null],\"type\":\"scatter\"},{\"hoverinfo\":\"text\",\"line\":{\"color\":\"blue\",\"width\":0.3},\"mode\":\"lines\",\"text\":[\"Halder--Albett: 1.0\"],\"x\":[-0.28276418942434495,-0.24433559030060994,null],\"y\":[-0.34724935219928904,-0.4189665065441949,null],\"type\":\"scatter\"},{\"hoverinfo\":\"text\",\"line\":{\"color\":\"blue\",\"width\":0.3},\"mode\":\"lines\",\"text\":[\"Halder--Rast: 1.0\"],\"x\":[-0.28276418942434495,-0.2496285260136785,null],\"y\":[-0.34724935219928904,-0.36938882317979926,null],\"type\":\"scatter\"},{\"hoverinfo\":\"text\",\"line\":{\"color\":\"blue\",\"width\":0.3},\"mode\":\"lines\",\"text\":[\"Halder--Todder: 1.0\"],\"x\":[-0.28276418942434495,-0.2956201928286358,null],\"y\":[-0.34724935219928904,-0.3796356429562429,null],\"type\":\"scatter\"},{\"hoverinfo\":\"text\",\"line\":{\"color\":\"blue\",\"width\":0.3},\"mode\":\"lines\",\"text\":[\"Jeyne-Poole--Ilyn-Payne: 1.0\"],\"x\":[0.15671453143493377,0.10493895598371764,null],\"y\":[0.05471148992048057,0.12975215603867807,null],\"type\":\"scatter\"},{\"hoverinfo\":\"text\",\"line\":{\"color\":\"blue\",\"width\":0.31102280182627423},\"mode\":\"lines\",\"text\":[\"Myrcella-Baratheon--Tommen-Baratheon: 1.0208333333333333\"],\"x\":[0.11358554520503127,-0.02099681451767266,null],\"y\":[-0.02132348751762153,-0.0021973061319556933,null],\"type\":\"scatter\"},{\"hoverinfo\":\"text\",\"line\":{\"color\":\"blue\",\"width\":0.3184658461431345},\"mode\":\"lines\",\"text\":[\"Hodor--Nan: 1.034722222222222\"],\"x\":[-0.2045012168232058,-0.21240253818389077,null],\"y\":[0.03751775214914116,0.00183968232902158,null],\"type\":\"scatter\"},{\"hoverinfo\":\"text\",\"line\":{\"color\":\"blue\",\"width\":0.31473489442754443},\"mode\":\"lines\",\"text\":[\"Edmure-Tully--Hoster-Tully: 1.0277777777777777\"],\"x\":[0.023076472169538148,0.15596838332473842,null],\"y\":[-0.07761245006425639,-0.0920572605417538,null],\"type\":\"scatter\"},{\"hoverinfo\":\"text\",\"line\":{\"color\":\"blue\",\"width\":0.3036553222084388},\"mode\":\"lines\",\"text\":[\"Edmure-Tully--Karyl-Vance: 1.0069444444444444\"],\"x\":[0.023076472169538148,-0.29079684617635365,null],\"y\":[-0.07761245006425639,0.04128350354796108,null],\"type\":\"scatter\"},{\"hoverinfo\":\"text\",\"line\":{\"color\":\"blue\",\"width\":0.3},\"mode\":\"lines\",\"text\":[\"Edmure-Tully--Marq-Piper: 1.0\"],\"x\":[0.023076472169538148,-0.0813601539025903,null],\"y\":[-0.07761245006425639,0.057818626548124384,null],\"type\":\"scatter\"},{\"hoverinfo\":\"text\",\"line\":{\"color\":\"blue\",\"width\":0.3},\"mode\":\"lines\",\"text\":[\"Edmure-Tully--Tytos-Blackwood: 1.0\"],\"x\":[0.023076472169538148,0.21953606299418665,null],\"y\":[-0.07761245006425639,-0.2881575947262707,null],\"type\":\"scatter\"},{\"hoverinfo\":\"text\",\"line\":{\"color\":\"blue\",\"width\":0.3036553222084388},\"mode\":\"lines\",\"text\":[\"Rickard-Karstark--Galbart-Glover: 1.0069444444444444\"],\"x\":[-0.07201238999138217,-0.06014772243512612,null],\"y\":[0.023898206162544497,0.08023590230817076,null],\"type\":\"scatter\"},{\"hoverinfo\":\"text\",\"line\":{\"color\":\"blue\",\"width\":0.31473489442754443},\"mode\":\"lines\",\"text\":[\"Rickard-Karstark--Jon-Umber-(Greatjon): 1.0277777777777777\"],\"x\":[-0.07201238999138217,-0.12111407816859568,null],\"y\":[0.023898206162544497,-0.027536695165753702,null],\"type\":\"scatter\"},{\"hoverinfo\":\"text\",\"line\":{\"color\":\"blue\",\"width\":0.3},\"mode\":\"lines\",\"text\":[\"Rickard-Karstark--Maege-Mormont: 1.0\"],\"x\":[-0.07201238999138217,-0.2801632648624272,null],\"y\":[0.023898206162544497,0.08556578307727505,null],\"type\":\"scatter\"},{\"hoverinfo\":\"text\",\"line\":{\"color\":\"blue\",\"width\":0.3},\"mode\":\"lines\",\"text\":[\"Rickard-Karstark--Roose-Bolton: 1.0\"],\"x\":[-0.07201238999138217,-0.14337801887454882,null],\"y\":[0.023898206162544497,0.03086387704045434,null],\"type\":\"scatter\"},{\"hoverinfo\":\"text\",\"line\":{\"color\":\"blue\",\"width\":0.31473489442754443},\"mode\":\"lines\",\"text\":[\"Haggo--Cohollo: 1.0277777777777777\"],\"x\":[-0.05808685149545533,-0.10280686100720865,null],\"y\":[0.686396356589311,0.6762262571885916,null],\"type\":\"scatter\"},{\"hoverinfo\":\"text\",\"line\":{\"color\":\"blue\",\"width\":0.3},\"mode\":\"lines\",\"text\":[\"Haggo--Rakharo: 1.0\"],\"x\":[-0.05808685149545533,0.008411991256053361,null],\"y\":[0.686396356589311,0.6967729280253329,null],\"type\":\"scatter\"},{\"hoverinfo\":\"text\",\"line\":{\"color\":\"blue\",\"width\":0.32221562524998465},\"mode\":\"lines\",\"text\":[\"Shagga--Conn: 1.0416666666666665\"],\"x\":[-0.06265965517457163,-0.14645322420153217,null],\"y\":[-0.48662507972631747,-0.49644141880679776,null],\"type\":\"scatter\"},{\"hoverinfo\":\"text\",\"line\":{\"color\":\"blue\",\"width\":0.31473489442754443},\"mode\":\"lines\",\"text\":[\"Shagga--Dolf: 1.0277777777777777\"],\"x\":[-0.06265965517457163,-0.0976807148551008,null],\"y\":[-0.48662507972631747,-0.7304481163247641,null],\"type\":\"scatter\"},{\"hoverinfo\":\"text\",\"line\":{\"color\":\"blue\",\"width\":0.3036553222084388},\"mode\":\"lines\",\"text\":[\"Shagga--Timett: 1.0069444444444444\"],\"x\":[-0.06265965517457163,-0.09673037189424312,null],\"y\":[-0.48662507972631747,-0.40245672310061986,null],\"type\":\"scatter\"},{\"hoverinfo\":\"text\",\"line\":{\"color\":\"blue\",\"width\":0.3036553222084388},\"mode\":\"lines\",\"text\":[\"Shagga--Ulf-son-of-Umar: 1.0069444444444444\"],\"x\":[-0.06265965517457163,-0.04561179896908385,null],\"y\":[-0.48662507972631747,-0.7335529475468804,null],\"type\":\"scatter\"},{\"hoverinfo\":\"text\",\"line\":{\"color\":\"blue\",\"width\":0.3036553222084388},\"mode\":\"lines\",\"text\":[\"Jhogo--Aggo: 1.0069444444444444\"],\"x\":[0.01830446134818916,0.017658330818026202,null],\"y\":[0.6141754614620935,0.6461942705341531,null],\"type\":\"scatter\"},{\"hoverinfo\":\"text\",\"line\":{\"color\":\"blue\",\"width\":0.3},\"mode\":\"lines\",\"text\":[\"Tomard--Alyn: 1.0\"],\"x\":[0.08399729181974153,0.024776477722474877,null],\"y\":[0.17503157989834955,0.23769593769761657,null],\"type\":\"scatter\"},{\"hoverinfo\":\"text\",\"line\":{\"color\":\"blue\",\"width\":0.31102280182627423},\"mode\":\"lines\",\"text\":[\"Tomard--Cayn: 1.0208333333333333\"],\"x\":[0.08399729181974153,0.21157640129784488,null],\"y\":[0.17503157989834955,0.20613843137589452,null],\"type\":\"scatter\"},{\"hoverinfo\":\"text\",\"line\":{\"color\":\"blue\",\"width\":0.3},\"mode\":\"lines\",\"text\":[\"Walder-Frey--Danwell-Frey: 1.0\"],\"x\":[0.10924972152460961,0.29367858056872226,null],\"y\":[-0.283093941314091,-0.6239133141166978,null],\"type\":\"scatter\"},{\"hoverinfo\":\"text\",\"line\":{\"color\":\"blue\",\"width\":0.3},\"mode\":\"lines\",\"text\":[\"Walder-Frey--Stevron-Frey: 1.0\"],\"x\":[0.10924972152460961,0.14388716796303816,null],\"y\":[-0.283093941314091,-0.38083504269794044,null],\"type\":\"scatter\"},{\"hoverinfo\":\"text\",\"line\":{\"color\":\"blue\",\"width\":0.3036553222084388},\"mode\":\"lines\",\"text\":[\"Brandon-Stark--Aerys-II-Targaryen: 1.0069444444444444\"],\"x\":[0.027448936692904862,0.17880449780327884,null],\"y\":[0.20554547129797635,0.14537326601673276,null],\"type\":\"scatter\"},{\"hoverinfo\":\"text\",\"line\":{\"color\":\"blue\",\"width\":0.3036553222084388},\"mode\":\"lines\",\"text\":[\"Brandon-Stark--Lyanna-Stark: 1.0069444444444444\"],\"x\":[0.027448936692904862,0.07854020176175182,null],\"y\":[0.20554547129797635,0.24050048357278792,null],\"type\":\"scatter\"},{\"hoverinfo\":\"text\",\"line\":{\"color\":\"blue\",\"width\":0.3},\"mode\":\"lines\",\"text\":[\"Brandon-Stark--Rickard-Stark: 1.0\"],\"x\":[0.027448936692904862,-0.15523425905447666,null],\"y\":[0.20554547129797635,0.20786219138544812,null],\"type\":\"scatter\"},{\"hoverinfo\":\"text\",\"line\":{\"color\":\"blue\",\"width\":0.3036553222084388},\"mode\":\"lines\",\"text\":[\"Jon-Umber-(Greatjon)--Galbart-Glover: 1.0069444444444444\"],\"x\":[-0.12111407816859568,-0.06014772243512612,null],\"y\":[-0.027536695165753702,0.08023590230817076,null],\"type\":\"scatter\"},{\"hoverinfo\":\"text\",\"line\":{\"color\":\"blue\",\"width\":0.30732960033145773},\"mode\":\"lines\",\"text\":[\"Jon-Umber-(Greatjon)--Maege-Mormont: 1.0138888888888888\"],\"x\":[-0.12111407816859568,-0.2801632648624272,null],\"y\":[-0.027536695165753702,0.08556578307727505,null],\"type\":\"scatter\"},{\"hoverinfo\":\"text\",\"line\":{\"color\":\"blue\",\"width\":0.3},\"mode\":\"lines\",\"text\":[\"Jon-Umber-(Greatjon)--Roose-Bolton: 1.0\"],\"x\":[-0.12111407816859568,-0.14337801887454882,null],\"y\":[-0.027536695165753702,0.03086387704045434,null],\"type\":\"scatter\"},{\"hoverinfo\":\"text\",\"line\":{\"color\":\"blue\",\"width\":0.3},\"mode\":\"lines\",\"text\":[\"Aerys-II-Targaryen--Gerold-Hightower: 1.0\"],\"x\":[0.17880449780327884,0.3755499394803089,null],\"y\":[0.14537326601673276,0.12966861194928017,null],\"type\":\"scatter\"},{\"hoverinfo\":\"text\",\"line\":{\"color\":\"blue\",\"width\":0.3036553222084388},\"mode\":\"lines\",\"text\":[\"Vardis-Egen--Colemon: 1.0069444444444444\"],\"x\":[0.11085422952634162,0.18040745154196722,null],\"y\":[-0.25076953405138547,-0.3556137602753549,null],\"type\":\"scatter\"},{\"hoverinfo\":\"text\",\"line\":{\"color\":\"blue\",\"width\":0.3},\"mode\":\"lines\",\"text\":[\"Vardis-Egen--Eon-Hunter: 1.0\"],\"x\":[0.11085422952634162,0.21897464053883478,null],\"y\":[-0.25076953405138547,-0.22966591651311055,null],\"type\":\"scatter\"},{\"hoverinfo\":\"text\",\"line\":{\"color\":\"blue\",\"width\":0.30732960033145773},\"mode\":\"lines\",\"text\":[\"Meryn-Trant--Boros-Blount: 1.0138888888888888\"],\"x\":[0.17832790627769748,0.19767877967959777,null],\"y\":[0.05658916185941756,-0.007191383086253683,null],\"type\":\"scatter\"},{\"hoverinfo\":\"text\",\"line\":{\"color\":\"blue\",\"width\":0.30732960033145773},\"mode\":\"lines\",\"text\":[\"Meryn-Trant--Syrio-Forel: 1.0138888888888888\"],\"x\":[0.17832790627769748,0.2280802487449413,null],\"y\":[0.05658916185941756,0.14099773962857906,null],\"type\":\"scatter\"},{\"hoverinfo\":\"text\",\"line\":{\"color\":\"blue\",\"width\":0.3},\"mode\":\"lines\",\"text\":[\"Aggo--Quaro: 1.0\"],\"x\":[0.017658330818026202,-0.02160750082307075,null],\"y\":[0.6461942705341531,0.6967630051148899,null],\"type\":\"scatter\"},{\"hoverinfo\":\"text\",\"line\":{\"color\":\"blue\",\"width\":0.31473489442754443},\"mode\":\"lines\",\"text\":[\"Aggo--Rakharo: 1.0277777777777777\"],\"x\":[0.017658330818026202,0.008411991256053361,null],\"y\":[0.6461942705341531,0.6967729280253329,null],\"type\":\"scatter\"},{\"hoverinfo\":\"text\",\"line\":{\"color\":\"blue\",\"width\":0.3374023903222028},\"mode\":\"lines\",\"text\":[\"Waymar-Royce--Gared: 1.0694444444444444\"],\"x\":[-0.4542887097797289,-0.506655319321173,null],\"y\":[-0.2591263923936027,-0.26548366816239566,null],\"type\":\"scatter\"},{\"hoverinfo\":\"text\",\"line\":{\"color\":\"blue\",\"width\":0.35680576364309297},\"mode\":\"lines\",\"text\":[\"Waymar-Royce--Will-(prologue): 1.1041666666666665\"],\"x\":[-0.4542887097797289,-0.6345393374116545,null],\"y\":[-0.2591263923936027,-0.3334580270401733,null],\"type\":\"scatter\"},{\"hoverinfo\":\"text\",\"line\":{\"color\":\"blue\",\"width\":0.31102280182627423},\"mode\":\"lines\",\"text\":[\"Alyn--Harwin: 1.0208333333333333\"],\"x\":[0.024776477722474877,-0.05720282117988841,null],\"y\":[0.23769593769761657,0.21711286247210781,null],\"type\":\"scatter\"},{\"hoverinfo\":\"text\",\"line\":{\"color\":\"blue\",\"width\":0.33357761363923993},\"mode\":\"lines\",\"text\":[\"Will-(prologue)--Gared: 1.0625\"],\"x\":[-0.6345393374116545,-0.506655319321173,null],\"y\":[-0.3334580270401733,-0.26548366816239566,null],\"type\":\"scatter\"},{\"hoverinfo\":\"text\",\"line\":{\"color\":\"blue\",\"width\":0.3036553222084388},\"mode\":\"lines\",\"text\":[\"Marillion--Willis-Wode: 1.0069444444444444\"],\"x\":[0.009807945683700232,-0.03202913141501781,null],\"y\":[-0.22617742973005572,-0.24056066045048197,null],\"type\":\"scatter\"},{\"hoverinfo\":\"text\",\"line\":{\"color\":\"blue\",\"width\":0.3},\"mode\":\"lines\",\"text\":[\"Willis-Wode--Chiggen: 1.0\"],\"x\":[-0.03202913141501781,-0.04029994691827284,null],\"y\":[-0.24056066045048197,-0.3425045562821123,null],\"type\":\"scatter\"},{\"hoverinfo\":\"text\",\"line\":{\"color\":\"blue\",\"width\":0.30732960033145773},\"mode\":\"lines\",\"text\":[\"Beric-Dondarrion--Thoros-of-Myr: 1.0138888888888888\"],\"x\":[0.2514470848015286,0.5172502223743907,null],\"y\":[0.10344060167222606,0.10240336312088454,null],\"type\":\"scatter\"},{\"hoverinfo\":\"text\",\"line\":{\"color\":\"blue\",\"width\":0.3},\"mode\":\"lines\",\"text\":[\"Rast--Albett: 1.0\"],\"x\":[-0.2496285260136785,-0.24433559030060994,null],\"y\":[-0.36938882317979926,-0.4189665065441949,null],\"type\":\"scatter\"},{\"hoverinfo\":\"text\",\"line\":{\"color\":\"blue\",\"width\":0.31102280182627423},\"mode\":\"lines\",\"text\":[\"Rakharo--Quaro: 1.0208333333333333\"],\"x\":[0.008411991256053361,-0.02160750082307075,null],\"y\":[0.6967729280253329,0.6967630051148899,null],\"type\":\"scatter\"},{\"hoverinfo\":\"text\",\"line\":{\"color\":\"blue\",\"width\":0.3},\"mode\":\"lines\",\"text\":[\"Jaremy-Rykker--Jafer-Flowers: 1.0\"],\"x\":[-0.20527231708199528,-0.2889232178917337,null],\"y\":[-0.3549798117784053,-0.6001755448664708,null],\"type\":\"scatter\"},{\"hoverinfo\":\"text\",\"line\":{\"color\":\"blue\",\"width\":0.3},\"mode\":\"lines\",\"text\":[\"Galbart-Glover--Roose-Bolton: 1.0\"],\"x\":[-0.06014772243512612,-0.14337801887454882,null],\"y\":[0.08023590230817076,0.03086387704045434,null],\"type\":\"scatter\"},{\"hoverinfo\":\"text\",\"line\":{\"color\":\"blue\",\"width\":0.30732960033145773},\"mode\":\"lines\",\"text\":[\"Conn--Coratt: 1.0138888888888888\"],\"x\":[-0.14645322420153217,-0.23277851031558439,null],\"y\":[-0.49644141880679776,-0.730752647910173,null],\"type\":\"scatter\"},{\"hoverinfo\":\"text\",\"line\":{\"color\":\"blue\",\"width\":0.3},\"mode\":\"lines\",\"text\":[\"Hullen--Harwin: 1.0\"],\"x\":[-0.11711798678681166,-0.05720282117988841,null],\"y\":[0.08073306188728846,0.21711286247210781,null],\"type\":\"scatter\"},{\"hoverinfo\":\"text\",\"line\":{\"color\":\"blue\",\"width\":0.3036553222084388},\"mode\":\"lines\",\"text\":[\"Ogo--Fogo: 1.0069444444444444\"],\"x\":[-0.22439677649777381,-0.33729371085009,null],\"y\":[0.8300676277419687,1.0,null],\"type\":\"scatter\"},{\"hoverinfo\":\"text\",\"line\":{\"color\":\"blue\",\"width\":0.3},\"mode\":\"lines\",\"text\":[\"Ogo--Jommo: 1.0\"],\"x\":[-0.22439677649777381,-0.18375787116317716,null],\"y\":[0.8300676277419687,0.7857540610139122,null],\"type\":\"scatter\"},{\"hoverinfo\":\"text\",\"line\":{\"color\":\"blue\",\"width\":0.3},\"mode\":\"lines\",\"text\":[\"Marq-Piper--Karyl-Vance: 1.0\"],\"x\":[-0.0813601539025903,-0.29079684617635365,null],\"y\":[0.057818626548124384,0.04128350354796108,null],\"type\":\"scatter\"},{\"hoverinfo\":\"text\",\"line\":{\"color\":\"blue\",\"width\":0.3036553222084388},\"mode\":\"lines\",\"text\":[\"Gerold-Hightower--Arthur-Dayne: 1.0069444444444444\"],\"x\":[0.3755499394803089,0.635654113960773,null],\"y\":[0.12966861194928017,0.1083413621289803,null],\"type\":\"scatter\"},{\"hoverinfo\":\"text\",\"line\":{\"color\":\"blue\",\"width\":0.3},\"mode\":\"lines\",\"text\":[\"Gerold-Hightower--Oswell-Whent: 1.0\"],\"x\":[0.3755499394803089,0.6330287103641878,null],\"y\":[0.12966861194928017,0.16456660295288403,null],\"type\":\"scatter\"},{\"hoverinfo\":\"text\",\"line\":{\"color\":\"blue\",\"width\":0.3},\"mode\":\"lines\",\"text\":[\"Wyl-(guard)--Heward: 1.0\"],\"x\":[-0.023801432063556165,-0.10784701806901942,null],\"y\":[0.18600123264216076,0.28413969505424014,null],\"type\":\"scatter\"},{\"hoverinfo\":\"text\",\"line\":{\"color\":\"blue\",\"width\":0.3036553222084388},\"mode\":\"lines\",\"text\":[\"Karyl-Vance--Clement-Piper: 1.0069444444444444\"],\"x\":[-0.29079684617635365,-0.5480718902189856,null],\"y\":[0.04128350354796108,0.10329084895582098,null],\"type\":\"scatter\"},{\"hoverinfo\":\"text\",\"line\":{\"color\":\"blue\",\"width\":0.30732960033145773},\"mode\":\"lines\",\"text\":[\"Jyck--Morrec: 1.0138888888888888\"],\"x\":[-0.2839334301501014,-0.3258417493624405,null],\"y\":[-0.20765598251752873,-0.19817554510506186,null],\"type\":\"scatter\"},{\"hoverinfo\":\"text\",\"line\":{\"color\":\"blue\",\"width\":0.3},\"mode\":\"lines\",\"text\":[\"Torrhen-Karstark--Daryn-Hornwood: 1.0\"],\"x\":[0.23060690400641837,0.35265323669429144,null],\"y\":[0.0017181780161025716,0.08789264370957128,null],\"type\":\"scatter\"},{\"hoverinfo\":\"text\",\"line\":{\"color\":\"blue\",\"width\":0.3},\"mode\":\"lines\",\"text\":[\"Tytos-Blackwood--Jonos-Bracken: 1.0\"],\"x\":[0.21953606299418665,0.3917341246761284,null],\"y\":[-0.2881575947262707,-0.4729578740484326,null],\"type\":\"scatter\"},{\"hoverinfo\":\"text\",\"line\":{\"color\":\"blue\",\"width\":0.3},\"mode\":\"lines\",\"text\":[\"Danwell-Frey--Hosteen-Frey: 1.0\"],\"x\":[0.29367858056872226,0.41846518306961744,null],\"y\":[-0.6239133141166978,-0.8055001208801081,null],\"type\":\"scatter\"},{\"hoverinfo\":\"text\",\"line\":{\"color\":\"blue\",\"width\":0.3},\"mode\":\"lines\",\"text\":[\"Danwell-Frey--Jared-Frey: 1.0\"],\"x\":[0.29367858056872226,0.3807309312850634,null],\"y\":[-0.6239133141166978,-0.8273480609307851,null],\"type\":\"scatter\"},{\"hoverinfo\":\"text\",\"line\":{\"color\":\"blue\",\"width\":0.3},\"mode\":\"lines\",\"text\":[\"Hosteen-Frey--Jared-Frey: 1.0\"],\"x\":[0.41846518306961744,0.3807309312850634,null],\"y\":[-0.8055001208801081,-0.8273480609307851,null],\"type\":\"scatter\"},{\"hoverinfo\":\"text\",\"line\":{\"color\":\"blue\",\"width\":0.3},\"mode\":\"lines\",\"text\":[\"Mace-Tyrell--Paxter-Redwyne: 1.0\"],\"x\":[0.4616907850654088,0.6388764223728481,null],\"y\":[0.33420994533850534,0.4919013919132946,null],\"type\":\"scatter\"},{\"hoverinfo\":\"none\",\"marker\":{\"color\":[\"#F4CC70\",\"#41B3A3\",\"#4E79A7\",\"#7A7A7A\",\"#F4CC70\",\"#F4CC70\",\"#F4CC70\",\"#F4CC70\",\"#258039\",\"#F4CC70\",\"#7A7A7A\",\"#41B3A3\",\"#EBB13E\",\"#F28E2B\",\"#7A7A7A\",\"#F28E2B\",\"#F28E2B\",\"#41B3A3\",\"#7A7A7A\",\"#C38D9E\",\"#7AA9CF\",\"#C38D9E\",\"#A65B50\",\"#F28E2B\",\"#F28E2B\",\"#F28E2B\",\"#F28E2B\",\"#7AA9CF\",\"#F28E2B\",\"#F28E2B\",\"#A65B50\",\"#F28E2B\",\"#F28E2B\",\"#41B3A3\",\"#258039\",\"#F4CC70\",\"#F4CC70\",\"#F28E2B\",\"#F28E2B\",\"#F28E2B\",\"#F28E2B\",\"#258039\",\"#F28E2B\",\"#F28E2B\",\"#F28E2B\",\"#F28E2B\",\"#F28E2B\",\"#F28E2B\",\"#F28E2B\",\"#F28E2B\",\"#41B3A3\",\"#258039\",\"#F28E2B\",\"#F28E2B\",\"#F28E2B\",\"#F28E2B\",\"#F28E2B\",\"#F28E2B\",\"#F28E2B\",\"#F28E2B\",\"#F28E2B\",\"#F28E2B\",\"#F28E2B\",\"#F4CC70\",\"#F28E2B\",\"#258039\",\"#F28E2B\",\"#41B3A3\",\"#F28E2B\",\"#F28E2B\",\"#F28E2B\",\"#F4CC70\",\"#F28E2B\",\"#F28E2B\",\"#F28E2B\",\"#F28E2B\",\"#F28E2B\",\"#F28E2B\",\"#F28E2B\",\"#F28E2B\",\"#F28E2B\",\"#F28E2B\",\"#F28E2B\",\"#F28E2B\",\"#F28E2B\",\"#F28E2B\",\"#F28E2B\",\"#7A7A7A\",\"#F28E2B\",\"#F28E2B\",\"#F28E2B\",\"#F28E2B\",\"#F28E2B\",\"#F28E2B\",\"#F28E2B\",\"#F28E2B\",\"#F28E2B\",\"#F28E2B\",\"#7AA9CF\",\"#F28E2B\",\"#F28E2B\",\"#F28E2B\",\"#F28E2B\",\"#F28E2B\",\"#F28E2B\",\"#F28E2B\",\"#F28E2B\",\"#F28E2B\",\"#F28E2B\",\"#F28E2B\",\"#F28E2B\",\"#F28E2B\",\"#F28E2B\",\"#F28E2B\",\"#F28E2B\",\"#F28E2B\",\"#F28E2B\",\"#F28E2B\",\"#F28E2B\",\"#258039\",\"#F28E2B\",\"#F28E2B\",\"#C38D9E\",\"#F28E2B\",\"#F28E2B\",\"#F28E2B\",\"#F4CC70\",\"#F28E2B\",\"#F28E2B\",\"#F28E2B\",\"#F28E2B\",\"#F28E2B\",\"#F28E2B\",\"#F28E2B\",\"#F28E2B\",\"#F28E2B\",\"#F28E2B\",\"#F28E2B\",\"#F28E2B\",\"#F28E2B\",\"#F28E2B\",\"#F28E2B\",\"#F28E2B\",\"#F28E2B\",\"#F28E2B\",\"#F28E2B\",\"#F28E2B\",\"#F28E2B\",\"#F28E2B\",\"#F28E2B\",\"#F28E2B\",\"#F28E2B\",\"#F28E2B\",\"#F28E2B\",\"#F28E2B\",\"#F28E2B\",\"#F28E2B\",\"#F28E2B\",\"#F28E2B\",\"#F28E2B\",\"#F28E2B\",\"#F28E2B\",\"#F28E2B\",\"#F28E2B\",\"#F28E2B\",\"#F28E2B\",\"#258039\",\"#F28E2B\",\"#F28E2B\",\"#F28E2B\",\"#F28E2B\",\"#F28E2B\",\"#F28E2B\",\"#F28E2B\",\"#F28E2B\",\"#F28E2B\",\"#F28E2B\",\"#F28E2B\",\"#F28E2B\",\"#F28E2B\",\"#F28E2B\",\"#F28E2B\",\"#F28E2B\",\"#F28E2B\",\"#7A7A7A\",\"#F28E2B\",\"#F28E2B\"],\"size\":[25.0,19.6448087431694,17.193598750975802,15.101483216237314,13.462138953942233,13.243559718969555,13.071818891491024,13.00936768149883,11.869633099141295,11.666666666666664,11.572989851678376,11.541764246682277,9.839968774395004,8.950039032006245,8.715846994535518,8.559718969555036,8.231850117096018,7.857142857142857,7.779078844652615,7.779078844652615,7.5917252146760354,7.357533177205308,7.3263075722092115,7.295081967213115,7.263856362217018,7.185792349726777,7.15456674473068,7.107728337236534,7.060889929742389,7.029664324746292,6.889149102263856,6.65495706479313,6.623731459797034,6.592505854800937,6.592505854800937,6.5768930523028875,6.483216237314597,6.280249804839969,6.217798594847776,6.202185792349727,6.17096018735363,6.108508977361437,6.108508977361437,6.046057767369243,6.030444964871195,6.014832162373146,5.936768149882904,5.889929742388759,5.827478532396565,5.796252927400468,5.796252927400468,5.78064012490242,5.7650273224043715,5.749414519906323,5.733801717408275,5.702576112412178,5.671350507416081,5.655737704918033,5.640124902419984,5.624512099921936,5.624512099921936,5.608899297423887,5.593286494925839,5.593286494925839,5.562060889929742,5.530835284933645,5.530835284933645,5.530835284933645,5.530835284933645,5.515222482435597,5.515222482435597,5.515222482435597,5.483996877439501,5.4683840749414525,5.4683840749414525,5.452771272443404,5.437158469945356,5.437158469945356,5.437158469945356,5.421545667447307,5.405932864949259,5.405932864949259,5.405932864949259,5.39032006245121,5.39032006245121,5.39032006245121,5.39032006245121,5.39032006245121,5.359094457455114,5.359094457455114,5.343481654957065,5.327868852459017,5.327868852459017,5.327868852459017,5.312256049960968,5.2810304449648715,5.265417642466823,5.265417642466823,5.265417642466823,5.265417642466823,5.249804839968775,5.249804839968775,5.234192037470726,5.234192037470726,5.234192037470726,5.218579234972678,5.202966432474629,5.202966432474629,5.187353629976581,5.187353629976581,5.140515222482436,5.124902419984387,5.124902419984387,5.124902419984387,5.124902419984387,5.109289617486339,5.109289617486339,5.0936768149882905,5.0936768149882905,5.0936768149882905,5.0936768149882905,5.0936768149882905,5.078064012490242,5.078064012490242,5.078064012490242,5.078064012490242,5.062451209992194,5.062451209992194,5.062451209992194,5.062451209992194,5.062451209992194,5.062451209992194,5.062451209992194,5.062451209992194,5.062451209992194,5.062451209992194,5.062451209992194,5.046838407494145,5.046838407494145,5.046838407494145,5.046838407494145,5.046838407494145,5.046838407494145,5.046838407494145,5.046838407494145,5.046838407494145,5.031225604996097,5.031225604996097,5.031225604996097,5.031225604996097,5.031225604996097,5.031225604996097,5.031225604996097,5.031225604996097,5.031225604996097,5.031225604996097,5.031225604996097,5.031225604996097,5.015612802498048,5.015612802498048,5.015612802498048,5.015612802498048,5.015612802498048,5.015612802498048,5.015612802498048,5.015612802498048,5.015612802498048,5.015612802498048,5.015612802498048,5.0,5.0,5.0,5.0,5.0,5.0,5.0,5.0,5.0,5.0,5.0,5.0,5.0,5.0,5.0,5.0,5.0,5.0]},\"mode\":\"markers+text\",\"text\":[\"<b>Eddard-Stark</b></br></br><sup>Stark</sup>\",\"<b>Robert-Baratheon</b></br></br><sup>Baratheon</sup>\",\"<b>Jon-Snow</b></br></br><sup>Snow</sup>\",\"<b>Tyrion-Lannister</b></br></br><sup>Lannister</sup>\",\"<b>Sansa-Stark</b></br></br><sup>Stark</sup>\",\"<b>Bran-Stark</b></br></br><sup>Stark</sup>\",\"<b>Catelyn-Stark</b></br></br><sup>Stark</sup>\",\"<b>Robb-Stark</b></br></br><sup>Stark</sup>\",\"<b>Daenerys-Targaryen</b></br></br><sup>Targaryen</sup>\",\"<b>Arya-Stark</b></br></br><sup>Stark</sup>\",\"<b>Cersei-Lannister</b></br></br><sup>Lannister</sup>\",\"<b>Joffrey-Baratheon</b></br></br><sup>Baratheon</sup>\",\"<b>Petyr-Baelish</b></br></br><sup>Baelish</sup>\",\"<b>Drogo</b></br></br><sup>Other</sup>\",\"<b>Jaime-Lannister</b></br></br><sup>Lannister</sup>\",\"<b>Varys</b></br></br><sup>Other</sup>\",\"<b>Luwin</b></br></br><sup>Other</sup>\",\"<b>Renly-Baratheon</b></br></br><sup>Baratheon</sup>\",\"<b>Tywin-Lannister</b></br></br><sup>Lannister</sup>\",\"<b>Jeor-Mormont</b></br></br><sup>Mormont</sup>\",\"<b>Jon-Arryn</b></br></br><sup>Arryn</sup>\",\"<b>Jorah-Mormont</b></br></br><sup>Mormont</sup>\",\"<b>Jory-Cassel</b></br></br><sup>Cassel</sup>\",\"<b>Pycelle</b></br></br><sup>Other</sup>\",\"<b>Samwell-Tarly</b></br></br><sup>Other</sup>\",\"<b>Barristan-Selmy</b></br></br><sup>Other</sup>\",\"<b>Mordane</b></br></br><sup>Other</sup>\",\"<b>Lysa-Arryn</b></br></br><sup>Arryn</sup>\",\"<b>Sandor-Clegane</b></br></br><sup>Other</sup>\",\"<b>Theon-Greyjoy</b></br></br><sup>Other</sup>\",\"<b>Rodrik-Cassel</b></br></br><sup>Cassel</sup>\",\"<b>Bronn</b></br></br><sup>Other</sup>\",\"<b>Pypar</b></br></br><sup>Other</sup>\",\"<b>Stannis-Baratheon</b></br></br><sup>Baratheon</sup>\",\"<b>Viserys-Targaryen</b></br></br><sup>Targaryen</sup>\",\"<b>Benjen-Stark</b></br></br><sup>Stark</sup>\",\"<b>Rickon-Stark</b></br></br><sup>Stark</sup>\",\"<b>Grenn</b></br></br><sup>Other</sup>\",\"<b>Irri</b></br></br><sup>Other</sup>\",\"<b>Alliser-Thorne</b></br></br><sup>Other</sup>\",\"<b>Loras-Tyrell</b></br></br><sup>Other</sup>\",\"<b>Aemon-Targaryen</b></br></br><sup>Targaryen</sup>\",\"<b>Gregor-Clegane</b></br></br><sup>Other</sup>\",\"<b>Illyrio-Mopatis</b></br></br><sup>Other</sup>\",\"<b>Brynden-Tully</b></br></br><sup>Other</sup>\",\"<b>Qotho</b></br></br><sup>Other</sup>\",\"<b>Mirri-Maz-Duur</b></br></br><sup>Other</sup>\",\"<b>Jhiqui</b></br></br><sup>Other</sup>\",\"<b>Halder</b></br></br><sup>Other</sup>\",\"<b>Jeyne-Poole</b></br></br><sup>Other</sup>\",\"<b>Myrcella-Baratheon</b></br></br><sup>Baratheon</sup>\",\"<b>Rhaegar-Targaryen</b></br></br><sup>Targaryen</sup>\",\"<b>Hodor</b></br></br><sup>Other</sup>\",\"<b>Doreah</b></br></br><sup>Other</sup>\",\"<b>Mycah</b></br></br><sup>Other</sup>\",\"<b>Edmure-Tully</b></br></br><sup>Other</sup>\",\"<b>Rickard-Karstark</b></br></br><sup>Other</sup>\",\"<b>Haggo</b></br></br><sup>Other</sup>\",\"<b>Shagga</b></br></br><sup>Other</sup>\",\"<b>Jhogo</b></br></br><sup>Other</sup>\",\"<b>Ilyn-Payne</b></br></br><sup>Other</sup>\",\"<b>Tomard</b></br></br><sup>Other</sup>\",\"<b>Walder-Frey</b></br></br><sup>Other</sup>\",\"<b>Brandon-Stark</b></br></br><sup>Stark</sup>\",\"<b>Jon-Umber-(Greatjon)</b></br></br><sup>Other</sup>\",\"<b>Aerys-II-Targaryen</b></br></br><sup>Targaryen</sup>\",\"<b>Vardis-Egen</b></br></br><sup>Other</sup>\",\"<b>Tommen-Baratheon</b></br></br><sup>Baratheon</sup>\",\"<b>Hallis-Mollen</b></br></br><sup>Other</sup>\",\"<b>Meryn-Trant</b></br></br><sup>Other</sup>\",\"<b>Aggo</b></br></br><sup>Other</sup>\",\"<b>Lyanna-Stark</b></br></br><sup>Stark</sup>\",\"<b>Waymar-Royce</b></br></br><sup>Other</sup>\",\"<b>Nan</b></br></br><sup>Other</sup>\",\"<b>Yoren</b></br></br><sup>Other</sup>\",\"<b>Alyn</b></br></br><sup>Other</sup>\",\"<b>Osha</b></br></br><sup>Other</sup>\",\"<b>Todder</b></br></br><sup>Other</sup>\",\"<b>Syrio-Forel</b></br></br><sup>Other</sup>\",\"<b>Will-(prologue)</b></br></br><sup>Other</sup>\",\"<b>Gared</b></br></br><sup>Other</sup>\",\"<b>Marillion</b></br></br><sup>Other</sup>\",\"<b>Cohollo</b></br></br><sup>Other</sup>\",\"<b>Bowen-Marsh</b></br></br><sup>Other</sup>\",\"<b>Willis-Wode</b></br></br><sup>Other</sup>\",\"<b>Vayon-Poole</b></br></br><sup>Other</sup>\",\"<b>Beric-Dondarrion</b></br></br><sup>Other</sup>\",\"<b>Kevan-Lannister</b></br></br><sup>Lannister</sup>\",\"<b>Rast</b></br></br><sup>Other</sup>\",\"<b>Boros-Blount</b></br></br><sup>Other</sup>\",\"<b>Janos-Slynt</b></br></br><sup>Other</sup>\",\"<b>Rakharo</b></br></br><sup>Other</sup>\",\"<b>Hoster-Tully</b></br></br><sup>Other</sup>\",\"<b>Jaremy-Rykker</b></br></br><sup>Other</sup>\",\"<b>Galbart-Glover</b></br></br><sup>Other</sup>\",\"<b>Quaro</b></br></br><sup>Other</sup>\",\"<b>Mord</b></br></br><sup>Other</sup>\",\"<b>Conn</b></br></br><sup>Other</sup>\",\"<b>Robert-Arryn</b></br></br><sup>Arryn</sup>\",\"<b>Hullen</b></br></br><sup>Other</sup>\",\"<b>Roose-Bolton</b></br></br><sup>Other</sup>\",\"<b>Chett</b></br></br><sup>Other</sup>\",\"<b>Harwin</b></br></br><sup>Other</sup>\",\"<b>Ogo</b></br></br><sup>Other</sup>\",\"<b>Marq-Piper</b></br></br><sup>Other</sup>\",\"<b>Gerold-Hightower</b></br></br><sup>Other</sup>\",\"<b>Chiggen</b></br></br><sup>Other</sup>\",\"<b>Cayn</b></br></br><sup>Other</sup>\",\"<b>Wyl-(guard)</b></br></br><sup>Other</sup>\",\"<b>Shae</b></br></br><sup>Other</sup>\",\"<b>Raymun-Darry</b></br></br><sup>Other</sup>\",\"<b>Karyl-Vance</b></br></br><sup>Other</sup>\",\"<b>Jyck</b></br></br><sup>Other</sup>\",\"<b>Torrhen-Karstark</b></br></br><sup>Other</sup>\",\"<b>Albett</b></br></br><sup>Other</sup>\",\"<b>Tytos-Blackwood</b></br></br><sup>Other</sup>\",\"<b>Morrec</b></br></br><sup>Other</sup>\",\"<b>Mya-Stone</b></br></br><sup>Other</sup>\",\"<b>Danwell-Frey</b></br></br><sup>Other</sup>\",\"<b>Aegon-I-Targaryen</b></br></br><sup>Targaryen</sup>\",\"<b>Addam-Marbrand</b></br></br><sup>Other</sup>\",\"<b>Eon-Hunter</b></br></br><sup>Other</sup>\",\"<b>Maege-Mormont</b></br></br><sup>Mormont</sup>\",\"<b>Heward</b></br></br><sup>Other</sup>\",\"<b>High-Septon-(fat_one)</b></br></br><sup>Other</sup>\",\"<b>Stevron-Frey</b></br></br><sup>Other</sup>\",\"<b>Rickard-Stark</b></br></br><sup>Stark</sup>\",\"<b>Gunthor-son-of-Gurn</b></br></br><sup>Other</sup>\",\"<b>Timett</b></br></br><sup>Other</sup>\",\"<b>Stiv</b></br></br><sup>Other</sup>\",\"<b>Joseth</b></br></br><sup>Other</sup>\",\"<b>Dolf</b></br></br><sup>Other</sup>\",\"<b>Tobho-Mott</b></br></br><sup>Other</sup>\",\"<b>Colemon</b></br></br><sup>Other</sup>\",\"<b>Desmond</b></br></br><sup>Other</sup>\",\"<b>Balon-Greyjoy</b></br></br><sup>Other</sup>\",\"<b>Donal-Noye</b></br></br><sup>Other</sup>\",\"<b>Wendel-Manderly</b></br></br><sup>Other</sup>\",\"<b>Hosteen-Frey</b></br></br><sup>Other</sup>\",\"<b>Balon-Swann</b></br></br><sup>Other</sup>\",\"<b>Nestor-Royce</b></br></br><sup>Other</sup>\",\"<b>Daryn-Hornwood</b></br></br><sup>Other</sup>\",\"<b>Dareon</b></br></br><sup>Other</sup>\",\"<b>Jared-Frey</b></br></br><sup>Other</sup>\",\"<b>Mace-Tyrell</b></br></br><sup>Other</sup>\",\"<b>Jommo</b></br></br><sup>Other</sup>\",\"<b>Clydas</b></br></br><sup>Other</sup>\",\"<b>Hobb</b></br></br><sup>Other</sup>\",\"<b>Thoros-of-Myr</b></br></br><sup>Other</sup>\",\"<b>Chella</b></br></br><sup>Other</sup>\",\"<b>Randyll-Tarly</b></br></br><sup>Other</sup>\",\"<b>Kurleket</b></br></br><sup>Other</sup>\",\"<b>Rhaego</b></br></br><sup>Other</sup>\",\"<b>Eroeh</b></br></br><sup>Other</sup>\",\"<b>Othor</b></br></br><sup>Other</sup>\",\"<b>Coratt</b></br></br><sup>Other</sup>\",\"<b>Masha-Heddle</b></br></br><sup>Other</sup>\",\"<b>Joss</b></br></br><sup>Other</sup>\",\"<b>Arthur-Dayne</b></br></br><sup>Other</sup>\",\"<b>Porther</b></br></br><sup>Other</sup>\",\"<b>Varly</b></br></br><sup>Other</sup>\",\"<b>Dywen</b></br></br><sup>Other</sup>\",\"<b>Ulf-son-of-Umar</b></br></br><sup>Other</sup>\",\"<b>Leo-Lefford</b></br></br><sup>Other</sup>\",\"<b>Jacks</b></br></br><sup>Other</sup>\",\"<b>Clement-Piper</b></br></br><sup>Other</sup>\",\"<b>Maegor-I-Targaryen</b></br></br><sup>Targaryen</sup>\",\"<b>Fogo</b></br></br><sup>Other</sup>\",\"<b>Tregar</b></br></br><sup>Other</sup>\",\"<b>Arys-Oakheart</b></br></br><sup>Other</sup>\",\"<b>Jonos-Bracken</b></br></br><sup>Other</sup>\",\"<b>Hugh</b></br></br><sup>Other</sup>\",\"<b>Wylla</b></br></br><sup>Other</sup>\",\"<b>Jafer-Flowers</b></br></br><sup>Other</sup>\",\"<b>Mychel-Redfort</b></br></br><sup>Other</sup>\",\"<b>Paxter-Redwyne</b></br></br><sup>Other</sup>\",\"<b>Oswell-Whent</b></br></br><sup>Other</sup>\",\"<b>Moreo-Tumitis</b></br></br><sup>Other</sup>\",\"<b>Matthar</b></br></br><sup>Other</sup>\",\"<b>Mance-Rayder</b></br></br><sup>Other</sup>\",\"<b>Howland-Reed</b></br></br><sup>Other</sup>\",\"<b>Harys-Swyft</b></br></br><sup>Other</sup>\",\"<b>Gendry</b></br></br><sup>Other</sup>\",\"<b>Donnel-Waynwood</b></br></br><sup>Other</sup>\",\"<b>Lancel-Lannister</b></br></br><sup>Lannister</sup>\",\"<b>Lyn-Corbray</b></br></br><sup>Other</sup>\",\"<b>Hali</b></br></br><sup>Other</sup>\"],\"textfont\":{\"size\":10},\"textposition\":\"top center\",\"x\":[0.10648594579424507,0.04691105159571611,-0.14172448166879853,-0.06482818728114911,0.0456143512727685,-0.08490608606434874,0.07103519122741635,-0.043314398094237976,0.0068743915869946895,0.03199436451402057,0.065324051953967,0.06727571942920114,0.05648083182260479,-0.06562876222454485,0.08411778299242077,0.036618960965745066,-0.09543015503848222,0.09935036609841824,0.032045134513899176,-0.21544125756345248,0.017573226254451197,-0.019064354672386447,-0.014992917689555097,0.0857655486770623,-0.26837498129823595,0.12937540553129614,0.02543575930860007,0.12653315489042977,0.12952798707083144,-0.018570992946724544,0.0023389107467837325,-0.010611193952538631,-0.25424319562072223,0.10522382841735935,-0.027909544187174198,-0.12405528656493038,-0.031226770640811058,-0.27894341162087527,-0.014371425948954717,-0.230372819930384,0.18042954714332093,-0.3428145406562496,0.07693119390322473,0.001079720675957324,0.07835692800964725,-0.0644145317183468,-0.024755329664524837,-0.09337088732850068,-0.28276418942434495,0.15671453143493377,0.11358554520503127,0.014653623613678292,-0.2045012168232058,-0.04154279145219459,0.07212180934310158,0.023076472169538148,-0.07201238999138217,-0.05808685149545533,-0.06265965517457163,0.01830446134818916,0.10493895598371764,0.08399729181974153,0.10924972152460961,0.027448936692904862,-0.12111407816859568,0.17880449780327884,0.11085422952634162,-0.02099681451767266,-0.08801516159779224,0.17832790627769748,0.017658330818026202,0.07854020176175182,-0.4542887097797289,-0.21240253818389077,-0.13829944821982637,0.024776477722474877,-0.21335158047053362,-0.2956201928286358,0.2280802487449413,-0.6345393374116545,-0.506655319321173,0.009807945683700232,-0.10280686100720865,-0.3152731669301327,-0.03202913141501781,0.13920241258330932,0.2514470848015286,0.038725095394137404,-0.2496285260136785,0.19767877967959777,0.13419213924015455,0.008411991256053361,0.15596838332473842,-0.20527231708199528,-0.06014772243512612,-0.02160750082307075,-0.28971459286676854,-0.14645322420153217,0.09616131519156314,-0.11711798678681166,-0.14337801887454882,-0.36933534667252454,-0.05720282117988841,-0.22439677649777381,-0.0813601539025903,0.3755499394803089,-0.04029994691827284,0.21157640129784488,-0.023801432063556165,-0.09735053033051182,0.16783225171148508,-0.29079684617635365,-0.2839334301501014,0.23060690400641837,-0.24433559030060994,0.21953606299418665,-0.3258417493624405,0.25410521431873784,0.29367858056872226,0.11077050567470466,0.2221634716219403,0.21897464053883478,-0.2801632648624272,-0.10784701806901942,0.2795070600245484,0.14388716796303816,-0.15523425905447666,-0.3440346576606324,-0.09673037189424312,-0.253863738754804,-0.24871508130847456,-0.0976807148551008,0.3685118172556936,0.18040745154196722,0.14487176533832885,0.12071173045894634,-0.13816591358780214,0.04229755326967206,0.41846518306961744,0.31963611576040496,0.1717819267667743,0.35265323669429144,-0.33594387595066927,0.3807309312850634,0.4616907850654088,-0.18375787116317716,-0.5369588011419857,-0.37573561285877116,0.5172502223743907,-0.2978344138903758,-0.47670374198125887,-0.34610266209825746,-0.11679073796796821,0.09195990522416149,-0.19981011994212527,-0.23277851031558439,0.30550982251857833,0.343135105403023,0.635654113960773,0.20642246978135045,0.3244816211591838,-0.27855156243920004,-0.04561179896908385,-0.33568785814777485,0.28274345320492605,-0.5480718902189856,-0.1396102611343574,-0.33729371085009,0.35167629339609957,0.3375789713019098,0.3917341246761284,-0.2001611467886124,0.28301864028479395,-0.2889232178917337,0.28769278907206747,0.6388764223728481,0.6330287103641878,0.0174810043311655,-0.40940545005844886,-0.07202237068564803,0.24432197951418916,0.3401245727414853,0.38772648172092355,0.22490435256895988,0.28203926709016386,0.3773848866650795,-0.33762955600626954],\"y\":[0.1121088681224815,0.11908953963479799,-0.17936515963381333,-0.13603594747656403,0.05750169859092548,-0.0009500509863035247,-0.13779150827046416,-0.05668054863819679,0.4737306563724346,0.02078565327859566,-0.011306557654175996,0.009801685120611444,0.03260685690219549,0.5779068024104821,-0.0127285298056426,0.0952360213840959,-0.033676325759921015,0.0404126925892233,-0.039305273695998115,-0.17131508038589652,0.04811545290389017,0.48259338219442455,0.07085877790405458,0.08225288197648849,-0.26571040585496464,0.06281701710849813,-0.009281754547322905,-0.09013791103676602,0.019266875519648598,-0.09792368559960818,-0.06416374395556995,-0.261238230356099,-0.33328172231759384,0.02502521588793754,0.42414680182602954,-0.1404897871753785,-0.04175810966117788,-0.30013732874856497,0.559054333378203,-0.27393144522537693,0.10241972177968102,-0.3189554820482568,0.04684415948750067,0.4279871367525846,-0.1613095772366983,0.6399533884998166,0.632344800738363,0.603861909047303,-0.34724935219928904,0.05471148992048057,-0.02132348751762153,0.26775314626515023,0.03751775214914116,0.5798431442327341,0.14112253354003632,-0.07761245006425639,0.023898206162544497,0.686396356589311,-0.48662507972631747,0.6141754614620935,0.12975215603867807,0.17503157989834955,-0.283093941314091,0.20554547129797635,-0.027536695165753702,0.14537326601673276,-0.25076953405138547,-0.0021973061319556933,-0.12258939900067763,0.05658916185941756,0.6461942705341531,0.24050048357278792,-0.2591263923936027,0.00183968232902158,-0.09318015549971584,0.23769593769761657,-0.0406260749759265,-0.3796356429562429,0.14099773962857906,-0.3334580270401733,-0.26548366816239566,-0.22617742973005572,0.6762262571885916,-0.26076046174051876,-0.24056066045048197,0.10402928691784472,0.10344060167222606,-0.17198252621642945,-0.36938882317979926,-0.007191383086253683,0.12636956328109705,0.6967729280253329,-0.0920572605417538,-0.3549798117784053,0.08023590230817076,0.6967630051148899,-0.11951445264392645,-0.49644141880679776,-0.22373173822578152,0.08073306188728846,0.03086387704045434,-0.28813122400786007,0.21711286247210781,0.8300676277419687,0.057818626548124384,0.12966861194928017,-0.3425045562821123,0.20613843137589452,0.18600123264216076,-0.3312462527729454,0.2802025259265742,0.04128350354796108,-0.20765598251752873,0.0017181780161025716,-0.4189665065441949,-0.2881575947262707,-0.19817554510506186,-0.3376073529707924,-0.6239133141166978,0.39154871839973115,-0.11998429019297317,-0.22966591651311055,0.08556578307727505,0.28413969505424014,0.0567282788276434,-0.38083504269794044,0.20786219138544812,-0.15407580296344667,-0.40245672310061986,0.0017766542400898446,0.09724784517348031,-0.7304481163247641,0.21451291763524685,-0.3556137602753549,0.2267648016858255,0.30050702465491735,-0.44490624763376213,-0.2624986623493546,-0.8055001208801081,0.013691041133270949,-0.30082156866848203,0.08789264370957128,-0.3951268133519808,-0.8273480609307851,0.33420994533850534,0.7857540610139122,-0.48902384481666417,-0.3493284146966489,0.10240336312088454,-0.16343024392794284,-0.4306599846466103,-0.11436160134328884,0.8127074410429442,0.7164079758909122,-0.445874147948303,-0.730752647910173,-0.26999159841945547,0.28054377093701804,0.1083413621289803,0.36991690910291697,0.3146649178705085,-0.44207753125786103,-0.7335529475468804,-0.07637760921540732,0.30913824740378004,0.10329084895582098,0.26577036502076073,1.0,0.24407204099973195,-0.07646121379706596,-0.4729578740484326,0.22658719476541003,0.34847241783526645,-0.6001755448664708,-0.3112414340482414,0.4919013919132946,0.16456660295288403,-0.3526522905287586,-0.24393767896380067,-0.40771895621341314,0.35730575770305933,-0.11888428352771802,0.18177160979259743,-0.37910512208272845,0.23507073677138712,-0.2092881444568755,0.13601910006038184],\"type\":\"scatter\"}],                        {\"paper_bgcolor\":\"rgba(0,0,0,0)\",\"plot_bgcolor\":\"rgba(0,0,0,0)\",\"template\":{\"data\":{\"bar\":[{\"error_x\":{\"color\":\"#2a3f5f\"},\"error_y\":{\"color\":\"#2a3f5f\"},\"marker\":{\"line\":{\"color\":\"#E5ECF6\",\"width\":0.5},\"pattern\":{\"fillmode\":\"overlay\",\"size\":10,\"solidity\":0.2}},\"type\":\"bar\"}],\"barpolar\":[{\"marker\":{\"line\":{\"color\":\"#E5ECF6\",\"width\":0.5},\"pattern\":{\"fillmode\":\"overlay\",\"size\":10,\"solidity\":0.2}},\"type\":\"barpolar\"}],\"carpet\":[{\"aaxis\":{\"endlinecolor\":\"#2a3f5f\",\"gridcolor\":\"white\",\"linecolor\":\"white\",\"minorgridcolor\":\"white\",\"startlinecolor\":\"#2a3f5f\"},\"baxis\":{\"endlinecolor\":\"#2a3f5f\",\"gridcolor\":\"white\",\"linecolor\":\"white\",\"minorgridcolor\":\"white\",\"startlinecolor\":\"#2a3f5f\"},\"type\":\"carpet\"}],\"choropleth\":[{\"colorbar\":{\"outlinewidth\":0,\"ticks\":\"\"},\"type\":\"choropleth\"}],\"contour\":[{\"colorbar\":{\"outlinewidth\":0,\"ticks\":\"\"},\"colorscale\":[[0.0,\"#0d0887\"],[0.1111111111111111,\"#46039f\"],[0.2222222222222222,\"#7201a8\"],[0.3333333333333333,\"#9c179e\"],[0.4444444444444444,\"#bd3786\"],[0.5555555555555556,\"#d8576b\"],[0.6666666666666666,\"#ed7953\"],[0.7777777777777778,\"#fb9f3a\"],[0.8888888888888888,\"#fdca26\"],[1.0,\"#f0f921\"]],\"type\":\"contour\"}],\"contourcarpet\":[{\"colorbar\":{\"outlinewidth\":0,\"ticks\":\"\"},\"type\":\"contourcarpet\"}],\"heatmap\":[{\"colorbar\":{\"outlinewidth\":0,\"ticks\":\"\"},\"colorscale\":[[0.0,\"#0d0887\"],[0.1111111111111111,\"#46039f\"],[0.2222222222222222,\"#7201a8\"],[0.3333333333333333,\"#9c179e\"],[0.4444444444444444,\"#bd3786\"],[0.5555555555555556,\"#d8576b\"],[0.6666666666666666,\"#ed7953\"],[0.7777777777777778,\"#fb9f3a\"],[0.8888888888888888,\"#fdca26\"],[1.0,\"#f0f921\"]],\"type\":\"heatmap\"}],\"heatmapgl\":[{\"colorbar\":{\"outlinewidth\":0,\"ticks\":\"\"},\"colorscale\":[[0.0,\"#0d0887\"],[0.1111111111111111,\"#46039f\"],[0.2222222222222222,\"#7201a8\"],[0.3333333333333333,\"#9c179e\"],[0.4444444444444444,\"#bd3786\"],[0.5555555555555556,\"#d8576b\"],[0.6666666666666666,\"#ed7953\"],[0.7777777777777778,\"#fb9f3a\"],[0.8888888888888888,\"#fdca26\"],[1.0,\"#f0f921\"]],\"type\":\"heatmapgl\"}],\"histogram\":[{\"marker\":{\"pattern\":{\"fillmode\":\"overlay\",\"size\":10,\"solidity\":0.2}},\"type\":\"histogram\"}],\"histogram2d\":[{\"colorbar\":{\"outlinewidth\":0,\"ticks\":\"\"},\"colorscale\":[[0.0,\"#0d0887\"],[0.1111111111111111,\"#46039f\"],[0.2222222222222222,\"#7201a8\"],[0.3333333333333333,\"#9c179e\"],[0.4444444444444444,\"#bd3786\"],[0.5555555555555556,\"#d8576b\"],[0.6666666666666666,\"#ed7953\"],[0.7777777777777778,\"#fb9f3a\"],[0.8888888888888888,\"#fdca26\"],[1.0,\"#f0f921\"]],\"type\":\"histogram2d\"}],\"histogram2dcontour\":[{\"colorbar\":{\"outlinewidth\":0,\"ticks\":\"\"},\"colorscale\":[[0.0,\"#0d0887\"],[0.1111111111111111,\"#46039f\"],[0.2222222222222222,\"#7201a8\"],[0.3333333333333333,\"#9c179e\"],[0.4444444444444444,\"#bd3786\"],[0.5555555555555556,\"#d8576b\"],[0.6666666666666666,\"#ed7953\"],[0.7777777777777778,\"#fb9f3a\"],[0.8888888888888888,\"#fdca26\"],[1.0,\"#f0f921\"]],\"type\":\"histogram2dcontour\"}],\"mesh3d\":[{\"colorbar\":{\"outlinewidth\":0,\"ticks\":\"\"},\"type\":\"mesh3d\"}],\"parcoords\":[{\"line\":{\"colorbar\":{\"outlinewidth\":0,\"ticks\":\"\"}},\"type\":\"parcoords\"}],\"pie\":[{\"automargin\":true,\"type\":\"pie\"}],\"scatter\":[{\"marker\":{\"colorbar\":{\"outlinewidth\":0,\"ticks\":\"\"}},\"type\":\"scatter\"}],\"scatter3d\":[{\"line\":{\"colorbar\":{\"outlinewidth\":0,\"ticks\":\"\"}},\"marker\":{\"colorbar\":{\"outlinewidth\":0,\"ticks\":\"\"}},\"type\":\"scatter3d\"}],\"scattercarpet\":[{\"marker\":{\"colorbar\":{\"outlinewidth\":0,\"ticks\":\"\"}},\"type\":\"scattercarpet\"}],\"scattergeo\":[{\"marker\":{\"colorbar\":{\"outlinewidth\":0,\"ticks\":\"\"}},\"type\":\"scattergeo\"}],\"scattergl\":[{\"marker\":{\"colorbar\":{\"outlinewidth\":0,\"ticks\":\"\"}},\"type\":\"scattergl\"}],\"scattermapbox\":[{\"marker\":{\"colorbar\":{\"outlinewidth\":0,\"ticks\":\"\"}},\"type\":\"scattermapbox\"}],\"scatterpolar\":[{\"marker\":{\"colorbar\":{\"outlinewidth\":0,\"ticks\":\"\"}},\"type\":\"scatterpolar\"}],\"scatterpolargl\":[{\"marker\":{\"colorbar\":{\"outlinewidth\":0,\"ticks\":\"\"}},\"type\":\"scatterpolargl\"}],\"scatterternary\":[{\"marker\":{\"colorbar\":{\"outlinewidth\":0,\"ticks\":\"\"}},\"type\":\"scatterternary\"}],\"surface\":[{\"colorbar\":{\"outlinewidth\":0,\"ticks\":\"\"},\"colorscale\":[[0.0,\"#0d0887\"],[0.1111111111111111,\"#46039f\"],[0.2222222222222222,\"#7201a8\"],[0.3333333333333333,\"#9c179e\"],[0.4444444444444444,\"#bd3786\"],[0.5555555555555556,\"#d8576b\"],[0.6666666666666666,\"#ed7953\"],[0.7777777777777778,\"#fb9f3a\"],[0.8888888888888888,\"#fdca26\"],[1.0,\"#f0f921\"]],\"type\":\"surface\"}],\"table\":[{\"cells\":{\"fill\":{\"color\":\"#EBF0F8\"},\"line\":{\"color\":\"white\"}},\"header\":{\"fill\":{\"color\":\"#C8D4E3\"},\"line\":{\"color\":\"white\"}},\"type\":\"table\"}]},\"layout\":{\"annotationdefaults\":{\"arrowcolor\":\"#2a3f5f\",\"arrowhead\":0,\"arrowwidth\":1},\"autotypenumbers\":\"strict\",\"coloraxis\":{\"colorbar\":{\"outlinewidth\":0,\"ticks\":\"\"}},\"colorscale\":{\"diverging\":[[0,\"#8e0152\"],[0.1,\"#c51b7d\"],[0.2,\"#de77ae\"],[0.3,\"#f1b6da\"],[0.4,\"#fde0ef\"],[0.5,\"#f7f7f7\"],[0.6,\"#e6f5d0\"],[0.7,\"#b8e186\"],[0.8,\"#7fbc41\"],[0.9,\"#4d9221\"],[1,\"#276419\"]],\"sequential\":[[0.0,\"#0d0887\"],[0.1111111111111111,\"#46039f\"],[0.2222222222222222,\"#7201a8\"],[0.3333333333333333,\"#9c179e\"],[0.4444444444444444,\"#bd3786\"],[0.5555555555555556,\"#d8576b\"],[0.6666666666666666,\"#ed7953\"],[0.7777777777777778,\"#fb9f3a\"],[0.8888888888888888,\"#fdca26\"],[1.0,\"#f0f921\"]],\"sequentialminus\":[[0.0,\"#0d0887\"],[0.1111111111111111,\"#46039f\"],[0.2222222222222222,\"#7201a8\"],[0.3333333333333333,\"#9c179e\"],[0.4444444444444444,\"#bd3786\"],[0.5555555555555556,\"#d8576b\"],[0.6666666666666666,\"#ed7953\"],[0.7777777777777778,\"#fb9f3a\"],[0.8888888888888888,\"#fdca26\"],[1.0,\"#f0f921\"]]},\"colorway\":[\"#636efa\",\"#EF553B\",\"#00cc96\",\"#ab63fa\",\"#FFA15A\",\"#19d3f3\",\"#FF6692\",\"#B6E880\",\"#FF97FF\",\"#FECB52\"],\"font\":{\"color\":\"#2a3f5f\"},\"geo\":{\"bgcolor\":\"white\",\"lakecolor\":\"white\",\"landcolor\":\"#E5ECF6\",\"showlakes\":true,\"showland\":true,\"subunitcolor\":\"white\"},\"hoverlabel\":{\"align\":\"left\"},\"hovermode\":\"closest\",\"mapbox\":{\"style\":\"light\"},\"paper_bgcolor\":\"white\",\"plot_bgcolor\":\"#E5ECF6\",\"polar\":{\"angularaxis\":{\"gridcolor\":\"white\",\"linecolor\":\"white\",\"ticks\":\"\"},\"bgcolor\":\"#E5ECF6\",\"radialaxis\":{\"gridcolor\":\"white\",\"linecolor\":\"white\",\"ticks\":\"\"}},\"scene\":{\"xaxis\":{\"backgroundcolor\":\"#E5ECF6\",\"gridcolor\":\"white\",\"gridwidth\":2,\"linecolor\":\"white\",\"showbackground\":true,\"ticks\":\"\",\"zerolinecolor\":\"white\"},\"yaxis\":{\"backgroundcolor\":\"#E5ECF6\",\"gridcolor\":\"white\",\"gridwidth\":2,\"linecolor\":\"white\",\"showbackground\":true,\"ticks\":\"\",\"zerolinecolor\":\"white\"},\"zaxis\":{\"backgroundcolor\":\"#E5ECF6\",\"gridcolor\":\"white\",\"gridwidth\":2,\"linecolor\":\"white\",\"showbackground\":true,\"ticks\":\"\",\"zerolinecolor\":\"white\"}},\"shapedefaults\":{\"line\":{\"color\":\"#2a3f5f\"}},\"ternary\":{\"aaxis\":{\"gridcolor\":\"white\",\"linecolor\":\"white\",\"ticks\":\"\"},\"baxis\":{\"gridcolor\":\"white\",\"linecolor\":\"white\",\"ticks\":\"\"},\"bgcolor\":\"#E5ECF6\",\"caxis\":{\"gridcolor\":\"white\",\"linecolor\":\"white\",\"ticks\":\"\"}},\"title\":{\"x\":0.05},\"xaxis\":{\"automargin\":true,\"gridcolor\":\"white\",\"linecolor\":\"white\",\"ticks\":\"\",\"title\":{\"standoff\":15},\"zerolinecolor\":\"white\",\"zerolinewidth\":2},\"yaxis\":{\"automargin\":true,\"gridcolor\":\"white\",\"linecolor\":\"white\",\"ticks\":\"\",\"title\":{\"standoff\":15},\"zerolinecolor\":\"white\",\"zerolinewidth\":2}}},\"showlegend\":false,\"width\":1000,\"height\":1000,\"xaxis\":{\"showticklabels\":false},\"yaxis\":{\"showticklabels\":false}},                        {\"responsive\": true}                    ).then(function(){\n                            \nvar gd = document.getElementById('6f23257d-b82b-4bbc-a63d-6cef51a00417');\nvar x = new MutationObserver(function (mutations, observer) {{\n        var display = window.getComputedStyle(gd).display;\n        if (!display || display === 'none') {{\n            console.log([gd, 'removed!']);\n            Plotly.purge(gd);\n            observer.disconnect();\n        }}\n}});\n\n// Listen for the removal of the full notebook cells\nvar notebookContainer = gd.closest('#notebook-container');\nif (notebookContainer) {{\n    x.observe(notebookContainer, {childList: true});\n}}\n\n// Listen for the clearing of the current output cell\nvar outputEl = gd.closest('.output');\nif (outputEl) {{\n    x.observe(outputEl, {childList: true});\n}}\n\n                        })                };                });            </script>        </div>"
     },
     "metadata": {},
     "output_type": "display_data"
    }
   ],
   "source": [
    "plot_network_graph(\n",
    "    edges=edges_df,\n",
    "    source='source',\n",
    "    target='target',\n",
    "    directional=False,\n",
    "    edges_weight='weight',\n",
    "    nodes=node_df,\n",
    "    node_names='name',\n",
    "    nodes_weight='weight',\n",
    "    nodes_category='category',\n",
    "    width=1000,\n",
    "    height=1000,\n",
    "    seed=42,\n",
    ")"
   ],
   "metadata": {
    "collapsed": false,
    "pycharm": {
     "name": "#%%\n"
    }
   }
  },
  {
   "cell_type": "code",
   "execution_count": null,
   "outputs": [],
   "source": [
    "#"
   ],
   "metadata": {
    "collapsed": false,
    "pycharm": {
     "name": "#%%\n"
    }
   }
  }
 ],
 "metadata": {
  "kernelspec": {
   "display_name": "Python 3",
   "language": "python",
   "name": "python3"
  },
  "language_info": {
   "codemirror_mode": {
    "name": "ipython",
    "version": 2
   },
   "file_extension": ".py",
   "mimetype": "text/x-python",
   "name": "python",
   "nbconvert_exporter": "python",
   "pygments_lexer": "ipython2",
   "version": "2.7.6"
  }
 },
 "nbformat": 4,
 "nbformat_minor": 0
}