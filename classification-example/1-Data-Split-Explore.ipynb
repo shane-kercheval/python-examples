{
 "cells": [
  {
   "cell_type": "markdown",
   "source": [
    "This files creates the training and test datasets for all other notebooks and scripts to reuse. This is the file I would typically use for an exploratory analysis."
   ],
   "metadata": {
    "collapsed": false,
    "pycharm": {
     "name": "#%% md\n"
    }
   }
  },
  {
   "cell_type": "code",
   "execution_count": 13,
   "outputs": [],
   "source": [
    "import pickle\n",
    "import helpsk as hlp\n",
    "import numpy as np\n",
    "from sklearn.datasets import fetch_openml\n",
    "from sklearn.model_selection import train_test_split\n",
    "\n",
    "%matplotlib inline"
   ],
   "metadata": {
    "collapsed": false,
    "pycharm": {
     "name": "#%%\n"
    }
   }
  },
  {
   "cell_type": "markdown",
   "source": [
    "# Load Data"
   ],
   "metadata": {
    "collapsed": false
   }
  },
  {
   "cell_type": "code",
   "execution_count": 2,
   "outputs": [
    {
     "name": "stdout",
     "output_type": "stream",
     "text": [
      "(1000, 21)\n"
     ]
    }
   ],
   "source": [
    "#https://www.openml.org/d/31\n",
    "credit_g = fetch_openml('credit-g', version=1)\n",
    "credit_data = credit_g['data']\n",
    "credit_data['target'] = credit_g['target']\n",
    "print(credit_data.shape)\n",
    "\n",
    "del credit_g"
   ],
   "metadata": {
    "collapsed": false,
    "pycharm": {
     "name": "#%%\n"
    }
   }
  },
  {
   "cell_type": "code",
   "execution_count": 3,
   "outputs": [
    {
     "name": "stderr",
     "output_type": "stream",
     "text": [
      "/Users/shanekercheval/opt/anaconda3/envs/python-examples/lib/python3.9/site-packages/pandas/core/indexing.py:1732: SettingWithCopyWarning: \n",
      "A value is trying to be set on a copy of a slice from a DataFrame\n",
      "\n",
      "See the caveats in the documentation: https://pandas.pydata.org/pandas-docs/stable/user_guide/indexing.html#returning-a-view-versus-a-copy\n",
      "  self._setitem_single_block(indexer, value, name)\n"
     ]
    }
   ],
   "source": [
    "## Create Missing Values\n",
    "credit_data['duration'].iloc[0:46] = np.nan\n",
    "credit_data['checking_status'].iloc[25:75] = np.nan\n",
    "credit_data['credit_amount'].iloc[10:54] = 0"
   ],
   "metadata": {
    "collapsed": false,
    "pycharm": {
     "name": "#%%\n"
    }
   }
  },
  {
   "cell_type": "code",
   "execution_count": 4,
   "outputs": [
    {
     "data": {
      "text/plain": "<pandas.io.formats.style.Styler at 0x7fa4806e91f0>",
      "text/html": "<style type=\"text/css\">\n#T_7a9e2_row0_col1, #T_7a9e2_row1_col3 {\n  background-color: #EBB13E;\n}\n#T_7a9e2_row0_col2 {\n  width: 10em;\n  height: 80%;\n  background: linear-gradient(90deg,#CF3721 5.0%, transparent 5.0%);\n}\n#T_7a9e2_row0_col4, #T_7a9e2_row1_col2, #T_7a9e2_row2_col2, #T_7a9e2_row2_col4, #T_7a9e2_row3_col2, #T_7a9e2_row3_col4, #T_7a9e2_row4_col2, #T_7a9e2_row4_col4, #T_7a9e2_row5_col2, #T_7a9e2_row5_col4, #T_7a9e2_row6_col2, #T_7a9e2_row6_col4 {\n  width: 10em;\n  height: 80%;\n}\n#T_7a9e2_row0_col7 {\n  width: 10em;\n  height: 80%;\n  background: linear-gradient(90deg,#B4B7B9 57.0%, transparent 57.0%);\n}\n#T_7a9e2_row0_col8 {\n  width: 10em;\n  height: 80%;\n  background: linear-gradient(90deg, transparent 50.0%, #B4B7B9 50.0%, #B4B7B9 77.5%, transparent 77.5%);\n}\n#T_7a9e2_row1_col4 {\n  width: 10em;\n  height: 80%;\n  background: linear-gradient(90deg,#B4B7B9 4.0%, transparent 4.0%);\n}\n#T_7a9e2_row1_col7 {\n  width: 10em;\n  height: 80%;\n  background: linear-gradient(90deg,#B4B7B9 91.0%, transparent 91.0%);\n}\n#T_7a9e2_row1_col8 {\n  width: 10em;\n  height: 80%;\n  background: linear-gradient(90deg, transparent 50.0%, #B4B7B9 50.0%, #B4B7B9 98.0%, transparent 98.0%);\n}\n#T_7a9e2_row2_col7 {\n  width: 10em;\n  height: 80%;\n  background: linear-gradient(90deg,#B4B7B9 38.0%, transparent 38.0%);\n}\n#T_7a9e2_row2_col8 {\n  width: 10em;\n  height: 80%;\n  background: linear-gradient(90deg, transparent 36.7%, #B4B7B9 36.7%, #B4B7B9 50.0%, transparent 50.0%);\n}\n#T_7a9e2_row3_col7 {\n  width: 10em;\n  height: 80%;\n  background: linear-gradient(90deg,#B4B7B9 39.0%, transparent 39.0%);\n}\n#T_7a9e2_row3_col8 {\n  width: 10em;\n  height: 80%;\n  background: linear-gradient(90deg, transparent 43.2%, #B4B7B9 43.2%, #B4B7B9 50.0%, transparent 50.0%);\n}\n#T_7a9e2_row4_col7 {\n  width: 10em;\n  height: 80%;\n  background: linear-gradient(90deg,#B4B7B9 32.0%, transparent 32.0%);\n}\n#T_7a9e2_row4_col8 {\n  width: 10em;\n  height: 80%;\n  background: linear-gradient(90deg, transparent 50.0%, #B4B7B9 50.0%, #B4B7B9 75.5%, transparent 75.5%);\n}\n#T_7a9e2_row5_col7 {\n  width: 10em;\n  height: 80%;\n  background: linear-gradient(90deg,#B4B7B9 41.0%, transparent 41.0%);\n}\n#T_7a9e2_row5_col8 {\n  width: 10em;\n  height: 80%;\n  background: linear-gradient(90deg, transparent 50.0%, #B4B7B9 50.0%, #B4B7B9 81.7%, transparent 81.7%);\n}\n#T_7a9e2_row6_col7 {\n  width: 10em;\n  height: 80%;\n  background: linear-gradient(90deg,#B4B7B9 31.0%, transparent 31.0%);\n}\n#T_7a9e2_row6_col8 {\n  width: 10em;\n  height: 80%;\n  background: linear-gradient(90deg, transparent 50.0%, #B4B7B9 50.0%, #B4B7B9 97.7%, transparent 97.7%);\n}\n</style>\n<table id=\"T_7a9e2_\">\n  <thead>\n    <tr>\n      <th class=\"blank level0\" >&nbsp;</th>\n      <th class=\"col_heading level0 col0\" ># of Non-Nulls</th>\n      <th class=\"col_heading level0 col1\" ># of Nulls</th>\n      <th class=\"col_heading level0 col2\" >% Nulls</th>\n      <th class=\"col_heading level0 col3\" ># of Zeros</th>\n      <th class=\"col_heading level0 col4\" >% Zeros</th>\n      <th class=\"col_heading level0 col5\" >Mean</th>\n      <th class=\"col_heading level0 col6\" >St Dev.</th>\n      <th class=\"col_heading level0 col7\" >Coef of Var</th>\n      <th class=\"col_heading level0 col8\" >Skewness</th>\n      <th class=\"col_heading level0 col9\" >Kurtosis</th>\n      <th class=\"col_heading level0 col10\" >Min</th>\n      <th class=\"col_heading level0 col11\" >10%</th>\n      <th class=\"col_heading level0 col12\" >25%</th>\n      <th class=\"col_heading level0 col13\" >50%</th>\n      <th class=\"col_heading level0 col14\" >75%</th>\n      <th class=\"col_heading level0 col15\" >90%</th>\n      <th class=\"col_heading level0 col16\" >Max</th>\n    </tr>\n  </thead>\n  <tbody>\n    <tr>\n      <th id=\"T_7a9e2_level0_row0\" class=\"row_heading level0 row0\" >duration</th>\n      <td id=\"T_7a9e2_row0_col0\" class=\"data row0 col0\" >954</td>\n      <td id=\"T_7a9e2_row0_col1\" class=\"data row0 col1\" >46</td>\n      <td id=\"T_7a9e2_row0_col2\" class=\"data row0 col2\" >5.0%</td>\n      <td id=\"T_7a9e2_row0_col3\" class=\"data row0 col3\" >0</td>\n      <td id=\"T_7a9e2_row0_col4\" class=\"data row0 col4\" >0.0%</td>\n      <td id=\"T_7a9e2_row0_col5\" class=\"data row0 col5\" >20.9</td>\n      <td id=\"T_7a9e2_row0_col6\" class=\"data row0 col6\" >12.0</td>\n      <td id=\"T_7a9e2_row0_col7\" class=\"data row0 col7\" >0.6</td>\n      <td id=\"T_7a9e2_row0_col8\" class=\"data row0 col8\" >1.1</td>\n      <td id=\"T_7a9e2_row0_col9\" class=\"data row0 col9\" >1.0</td>\n      <td id=\"T_7a9e2_row0_col10\" class=\"data row0 col10\" >4.0</td>\n      <td id=\"T_7a9e2_row0_col11\" class=\"data row0 col11\" >9.0</td>\n      <td id=\"T_7a9e2_row0_col12\" class=\"data row0 col12\" >12.0</td>\n      <td id=\"T_7a9e2_row0_col13\" class=\"data row0 col13\" >18.0</td>\n      <td id=\"T_7a9e2_row0_col14\" class=\"data row0 col14\" >24.0</td>\n      <td id=\"T_7a9e2_row0_col15\" class=\"data row0 col15\" >36.0</td>\n      <td id=\"T_7a9e2_row0_col16\" class=\"data row0 col16\" >72.0</td>\n    </tr>\n    <tr>\n      <th id=\"T_7a9e2_level0_row1\" class=\"row_heading level0 row1\" >credit_amount</th>\n      <td id=\"T_7a9e2_row1_col0\" class=\"data row1 col0\" >1,000</td>\n      <td id=\"T_7a9e2_row1_col1\" class=\"data row1 col1\" >0</td>\n      <td id=\"T_7a9e2_row1_col2\" class=\"data row1 col2\" >0.0%</td>\n      <td id=\"T_7a9e2_row1_col3\" class=\"data row1 col3\" >44</td>\n      <td id=\"T_7a9e2_row1_col4\" class=\"data row1 col4\" >4.0%</td>\n      <td id=\"T_7a9e2_row1_col5\" class=\"data row1 col5\" >3,132.9</td>\n      <td id=\"T_7a9e2_row1_col6\" class=\"data row1 col6\" >2,853.4</td>\n      <td id=\"T_7a9e2_row1_col7\" class=\"data row1 col7\" >0.9</td>\n      <td id=\"T_7a9e2_row1_col8\" class=\"data row1 col8\" >1.9</td>\n      <td id=\"T_7a9e2_row1_col9\" class=\"data row1 col9\" >4.3</td>\n      <td id=\"T_7a9e2_row1_col10\" class=\"data row1 col10\" >0.0</td>\n      <td id=\"T_7a9e2_row1_col11\" class=\"data row1 col11\" >740.0</td>\n      <td id=\"T_7a9e2_row1_col12\" class=\"data row1 col12\" >1,287.8</td>\n      <td id=\"T_7a9e2_row1_col13\" class=\"data row1 col13\" >2,224.0</td>\n      <td id=\"T_7a9e2_row1_col14\" class=\"data row1 col14\" >3,873.5</td>\n      <td id=\"T_7a9e2_row1_col15\" class=\"data row1 col15\" >7,119.8</td>\n      <td id=\"T_7a9e2_row1_col16\" class=\"data row1 col16\" >18,424.0</td>\n    </tr>\n    <tr>\n      <th id=\"T_7a9e2_level0_row2\" class=\"row_heading level0 row2\" >installment_commitment</th>\n      <td id=\"T_7a9e2_row2_col0\" class=\"data row2 col0\" >1,000</td>\n      <td id=\"T_7a9e2_row2_col1\" class=\"data row2 col1\" >0</td>\n      <td id=\"T_7a9e2_row2_col2\" class=\"data row2 col2\" >0.0%</td>\n      <td id=\"T_7a9e2_row2_col3\" class=\"data row2 col3\" >0</td>\n      <td id=\"T_7a9e2_row2_col4\" class=\"data row2 col4\" >0.0%</td>\n      <td id=\"T_7a9e2_row2_col5\" class=\"data row2 col5\" >3.0</td>\n      <td id=\"T_7a9e2_row2_col6\" class=\"data row2 col6\" >1.1</td>\n      <td id=\"T_7a9e2_row2_col7\" class=\"data row2 col7\" >0.4</td>\n      <td id=\"T_7a9e2_row2_col8\" class=\"data row2 col8\" >-0.5</td>\n      <td id=\"T_7a9e2_row2_col9\" class=\"data row2 col9\" >-1.2</td>\n      <td id=\"T_7a9e2_row2_col10\" class=\"data row2 col10\" >1.0</td>\n      <td id=\"T_7a9e2_row2_col11\" class=\"data row2 col11\" >1.0</td>\n      <td id=\"T_7a9e2_row2_col12\" class=\"data row2 col12\" >2.0</td>\n      <td id=\"T_7a9e2_row2_col13\" class=\"data row2 col13\" >3.0</td>\n      <td id=\"T_7a9e2_row2_col14\" class=\"data row2 col14\" >4.0</td>\n      <td id=\"T_7a9e2_row2_col15\" class=\"data row2 col15\" >4.0</td>\n      <td id=\"T_7a9e2_row2_col16\" class=\"data row2 col16\" >4.0</td>\n    </tr>\n    <tr>\n      <th id=\"T_7a9e2_level0_row3\" class=\"row_heading level0 row3\" >residence_since</th>\n      <td id=\"T_7a9e2_row3_col0\" class=\"data row3 col0\" >1,000</td>\n      <td id=\"T_7a9e2_row3_col1\" class=\"data row3 col1\" >0</td>\n      <td id=\"T_7a9e2_row3_col2\" class=\"data row3 col2\" >0.0%</td>\n      <td id=\"T_7a9e2_row3_col3\" class=\"data row3 col3\" >0</td>\n      <td id=\"T_7a9e2_row3_col4\" class=\"data row3 col4\" >0.0%</td>\n      <td id=\"T_7a9e2_row3_col5\" class=\"data row3 col5\" >2.9</td>\n      <td id=\"T_7a9e2_row3_col6\" class=\"data row3 col6\" >1.1</td>\n      <td id=\"T_7a9e2_row3_col7\" class=\"data row3 col7\" >0.4</td>\n      <td id=\"T_7a9e2_row3_col8\" class=\"data row3 col8\" >-0.3</td>\n      <td id=\"T_7a9e2_row3_col9\" class=\"data row3 col9\" >-1.4</td>\n      <td id=\"T_7a9e2_row3_col10\" class=\"data row3 col10\" >1.0</td>\n      <td id=\"T_7a9e2_row3_col11\" class=\"data row3 col11\" >1.0</td>\n      <td id=\"T_7a9e2_row3_col12\" class=\"data row3 col12\" >2.0</td>\n      <td id=\"T_7a9e2_row3_col13\" class=\"data row3 col13\" >3.0</td>\n      <td id=\"T_7a9e2_row3_col14\" class=\"data row3 col14\" >4.0</td>\n      <td id=\"T_7a9e2_row3_col15\" class=\"data row3 col15\" >4.0</td>\n      <td id=\"T_7a9e2_row3_col16\" class=\"data row3 col16\" >4.0</td>\n    </tr>\n    <tr>\n      <th id=\"T_7a9e2_level0_row4\" class=\"row_heading level0 row4\" >age</th>\n      <td id=\"T_7a9e2_row4_col0\" class=\"data row4 col0\" >1,000</td>\n      <td id=\"T_7a9e2_row4_col1\" class=\"data row4 col1\" >0</td>\n      <td id=\"T_7a9e2_row4_col2\" class=\"data row4 col2\" >0.0%</td>\n      <td id=\"T_7a9e2_row4_col3\" class=\"data row4 col3\" >0</td>\n      <td id=\"T_7a9e2_row4_col4\" class=\"data row4 col4\" >0.0%</td>\n      <td id=\"T_7a9e2_row4_col5\" class=\"data row4 col5\" >35.5</td>\n      <td id=\"T_7a9e2_row4_col6\" class=\"data row4 col6\" >11.4</td>\n      <td id=\"T_7a9e2_row4_col7\" class=\"data row4 col7\" >0.3</td>\n      <td id=\"T_7a9e2_row4_col8\" class=\"data row4 col8\" >1.0</td>\n      <td id=\"T_7a9e2_row4_col9\" class=\"data row4 col9\" >0.6</td>\n      <td id=\"T_7a9e2_row4_col10\" class=\"data row4 col10\" >19.0</td>\n      <td id=\"T_7a9e2_row4_col11\" class=\"data row4 col11\" >23.0</td>\n      <td id=\"T_7a9e2_row4_col12\" class=\"data row4 col12\" >27.0</td>\n      <td id=\"T_7a9e2_row4_col13\" class=\"data row4 col13\" >33.0</td>\n      <td id=\"T_7a9e2_row4_col14\" class=\"data row4 col14\" >42.0</td>\n      <td id=\"T_7a9e2_row4_col15\" class=\"data row4 col15\" >52.0</td>\n      <td id=\"T_7a9e2_row4_col16\" class=\"data row4 col16\" >75.0</td>\n    </tr>\n    <tr>\n      <th id=\"T_7a9e2_level0_row5\" class=\"row_heading level0 row5\" >existing_credits</th>\n      <td id=\"T_7a9e2_row5_col0\" class=\"data row5 col0\" >1,000</td>\n      <td id=\"T_7a9e2_row5_col1\" class=\"data row5 col1\" >0</td>\n      <td id=\"T_7a9e2_row5_col2\" class=\"data row5 col2\" >0.0%</td>\n      <td id=\"T_7a9e2_row5_col3\" class=\"data row5 col3\" >0</td>\n      <td id=\"T_7a9e2_row5_col4\" class=\"data row5 col4\" >0.0%</td>\n      <td id=\"T_7a9e2_row5_col5\" class=\"data row5 col5\" >1.4</td>\n      <td id=\"T_7a9e2_row5_col6\" class=\"data row5 col6\" >0.6</td>\n      <td id=\"T_7a9e2_row5_col7\" class=\"data row5 col7\" >0.4</td>\n      <td id=\"T_7a9e2_row5_col8\" class=\"data row5 col8\" >1.3</td>\n      <td id=\"T_7a9e2_row5_col9\" class=\"data row5 col9\" >1.6</td>\n      <td id=\"T_7a9e2_row5_col10\" class=\"data row5 col10\" >1.0</td>\n      <td id=\"T_7a9e2_row5_col11\" class=\"data row5 col11\" >1.0</td>\n      <td id=\"T_7a9e2_row5_col12\" class=\"data row5 col12\" >1.0</td>\n      <td id=\"T_7a9e2_row5_col13\" class=\"data row5 col13\" >1.0</td>\n      <td id=\"T_7a9e2_row5_col14\" class=\"data row5 col14\" >2.0</td>\n      <td id=\"T_7a9e2_row5_col15\" class=\"data row5 col15\" >2.0</td>\n      <td id=\"T_7a9e2_row5_col16\" class=\"data row5 col16\" >4.0</td>\n    </tr>\n    <tr>\n      <th id=\"T_7a9e2_level0_row6\" class=\"row_heading level0 row6\" >num_dependents</th>\n      <td id=\"T_7a9e2_row6_col0\" class=\"data row6 col0\" >1,000</td>\n      <td id=\"T_7a9e2_row6_col1\" class=\"data row6 col1\" >0</td>\n      <td id=\"T_7a9e2_row6_col2\" class=\"data row6 col2\" >0.0%</td>\n      <td id=\"T_7a9e2_row6_col3\" class=\"data row6 col3\" >0</td>\n      <td id=\"T_7a9e2_row6_col4\" class=\"data row6 col4\" >0.0%</td>\n      <td id=\"T_7a9e2_row6_col5\" class=\"data row6 col5\" >1.2</td>\n      <td id=\"T_7a9e2_row6_col6\" class=\"data row6 col6\" >0.4</td>\n      <td id=\"T_7a9e2_row6_col7\" class=\"data row6 col7\" >0.3</td>\n      <td id=\"T_7a9e2_row6_col8\" class=\"data row6 col8\" >1.9</td>\n      <td id=\"T_7a9e2_row6_col9\" class=\"data row6 col9\" >1.6</td>\n      <td id=\"T_7a9e2_row6_col10\" class=\"data row6 col10\" >1.0</td>\n      <td id=\"T_7a9e2_row6_col11\" class=\"data row6 col11\" >1.0</td>\n      <td id=\"T_7a9e2_row6_col12\" class=\"data row6 col12\" >1.0</td>\n      <td id=\"T_7a9e2_row6_col13\" class=\"data row6 col13\" >1.0</td>\n      <td id=\"T_7a9e2_row6_col14\" class=\"data row6 col14\" >1.0</td>\n      <td id=\"T_7a9e2_row6_col15\" class=\"data row6 col15\" >2.0</td>\n      <td id=\"T_7a9e2_row6_col16\" class=\"data row6 col16\" >2.0</td>\n    </tr>\n  </tbody>\n</table>\n"
     },
     "execution_count": 4,
     "metadata": {},
     "output_type": "execute_result"
    }
   ],
   "source": [
    "hlp.pandas.numeric_summary(credit_data, return_style=True)"
   ],
   "metadata": {
    "collapsed": false,
    "pycharm": {
     "name": "#%%\n"
    }
   }
  },
  {
   "cell_type": "code",
   "execution_count": 5,
   "outputs": [
    {
     "data": {
      "text/plain": "<pandas.io.formats.style.Styler at 0x7fa48070f1c0>",
      "text/html": "<style type=\"text/css\">\n#T_99ffd_row0_col1 {\n  background-color: #EBB13E;\n}\n#T_99ffd_row0_col2 {\n  width: 10em;\n  height: 80%;\n  background: linear-gradient(90deg,#CF3721 5.0%, transparent 5.0%);\n}\n#T_99ffd_row0_col5, #T_99ffd_row5_col5, #T_99ffd_row7_col5, #T_99ffd_row10_col5 {\n  width: 10em;\n  height: 80%;\n  background: linear-gradient(90deg,#B4B7B9 0.4%, transparent 0.4%);\n}\n#T_99ffd_row1_col2, #T_99ffd_row2_col2, #T_99ffd_row3_col2, #T_99ffd_row4_col2, #T_99ffd_row5_col2, #T_99ffd_row6_col2, #T_99ffd_row7_col2, #T_99ffd_row8_col2, #T_99ffd_row9_col2, #T_99ffd_row10_col2, #T_99ffd_row11_col2, #T_99ffd_row12_col2, #T_99ffd_row13_col2 {\n  width: 10em;\n  height: 80%;\n}\n#T_99ffd_row1_col5, #T_99ffd_row3_col5, #T_99ffd_row4_col5 {\n  width: 10em;\n  height: 80%;\n  background: linear-gradient(90deg,#B4B7B9 0.5%, transparent 0.5%);\n}\n#T_99ffd_row2_col5 {\n  width: 10em;\n  height: 80%;\n  background: linear-gradient(90deg,#B4B7B9 1.0%, transparent 1.0%);\n}\n#T_99ffd_row6_col5, #T_99ffd_row8_col5, #T_99ffd_row9_col5 {\n  width: 10em;\n  height: 80%;\n  background: linear-gradient(90deg,#B4B7B9 0.3%, transparent 0.3%);\n}\n#T_99ffd_row11_col5, #T_99ffd_row12_col5, #T_99ffd_row13_col5 {\n  width: 10em;\n  height: 80%;\n  background: linear-gradient(90deg,#B4B7B9 0.2%, transparent 0.2%);\n}\n</style>\n<table id=\"T_99ffd_\">\n  <thead>\n    <tr>\n      <th class=\"blank level0\" >&nbsp;</th>\n      <th class=\"col_heading level0 col0\" ># of Non-Nulls</th>\n      <th class=\"col_heading level0 col1\" ># of Nulls</th>\n      <th class=\"col_heading level0 col2\" >% Nulls</th>\n      <th class=\"col_heading level0 col3\" >Most Freq. Value</th>\n      <th class=\"col_heading level0 col4\" ># of Unique</th>\n      <th class=\"col_heading level0 col5\" >% Unique</th>\n    </tr>\n  </thead>\n  <tbody>\n    <tr>\n      <th id=\"T_99ffd_level0_row0\" class=\"row_heading level0 row0\" >checking_status</th>\n      <td id=\"T_99ffd_row0_col0\" class=\"data row0 col0\" >950</td>\n      <td id=\"T_99ffd_row0_col1\" class=\"data row0 col1\" >50</td>\n      <td id=\"T_99ffd_row0_col2\" class=\"data row0 col2\" >5.0%</td>\n      <td id=\"T_99ffd_row0_col3\" class=\"data row0 col3\" >no checking</td>\n      <td id=\"T_99ffd_row0_col4\" class=\"data row0 col4\" >4</td>\n      <td id=\"T_99ffd_row0_col5\" class=\"data row0 col5\" >0.4%</td>\n    </tr>\n    <tr>\n      <th id=\"T_99ffd_level0_row1\" class=\"row_heading level0 row1\" >credit_history</th>\n      <td id=\"T_99ffd_row1_col0\" class=\"data row1 col0\" >1,000</td>\n      <td id=\"T_99ffd_row1_col1\" class=\"data row1 col1\" >0</td>\n      <td id=\"T_99ffd_row1_col2\" class=\"data row1 col2\" >0.0%</td>\n      <td id=\"T_99ffd_row1_col3\" class=\"data row1 col3\" >existing paid</td>\n      <td id=\"T_99ffd_row1_col4\" class=\"data row1 col4\" >5</td>\n      <td id=\"T_99ffd_row1_col5\" class=\"data row1 col5\" >0.5%</td>\n    </tr>\n    <tr>\n      <th id=\"T_99ffd_level0_row2\" class=\"row_heading level0 row2\" >purpose</th>\n      <td id=\"T_99ffd_row2_col0\" class=\"data row2 col0\" >1,000</td>\n      <td id=\"T_99ffd_row2_col1\" class=\"data row2 col1\" >0</td>\n      <td id=\"T_99ffd_row2_col2\" class=\"data row2 col2\" >0.0%</td>\n      <td id=\"T_99ffd_row2_col3\" class=\"data row2 col3\" >radio/tv</td>\n      <td id=\"T_99ffd_row2_col4\" class=\"data row2 col4\" >10</td>\n      <td id=\"T_99ffd_row2_col5\" class=\"data row2 col5\" >1.0%</td>\n    </tr>\n    <tr>\n      <th id=\"T_99ffd_level0_row3\" class=\"row_heading level0 row3\" >savings_status</th>\n      <td id=\"T_99ffd_row3_col0\" class=\"data row3 col0\" >1,000</td>\n      <td id=\"T_99ffd_row3_col1\" class=\"data row3 col1\" >0</td>\n      <td id=\"T_99ffd_row3_col2\" class=\"data row3 col2\" >0.0%</td>\n      <td id=\"T_99ffd_row3_col3\" class=\"data row3 col3\" >&lt;100</td>\n      <td id=\"T_99ffd_row3_col4\" class=\"data row3 col4\" >5</td>\n      <td id=\"T_99ffd_row3_col5\" class=\"data row3 col5\" >0.5%</td>\n    </tr>\n    <tr>\n      <th id=\"T_99ffd_level0_row4\" class=\"row_heading level0 row4\" >employment</th>\n      <td id=\"T_99ffd_row4_col0\" class=\"data row4 col0\" >1,000</td>\n      <td id=\"T_99ffd_row4_col1\" class=\"data row4 col1\" >0</td>\n      <td id=\"T_99ffd_row4_col2\" class=\"data row4 col2\" >0.0%</td>\n      <td id=\"T_99ffd_row4_col3\" class=\"data row4 col3\" >1&lt;=X&lt;4</td>\n      <td id=\"T_99ffd_row4_col4\" class=\"data row4 col4\" >5</td>\n      <td id=\"T_99ffd_row4_col5\" class=\"data row4 col5\" >0.5%</td>\n    </tr>\n    <tr>\n      <th id=\"T_99ffd_level0_row5\" class=\"row_heading level0 row5\" >personal_status</th>\n      <td id=\"T_99ffd_row5_col0\" class=\"data row5 col0\" >1,000</td>\n      <td id=\"T_99ffd_row5_col1\" class=\"data row5 col1\" >0</td>\n      <td id=\"T_99ffd_row5_col2\" class=\"data row5 col2\" >0.0%</td>\n      <td id=\"T_99ffd_row5_col3\" class=\"data row5 col3\" >male single</td>\n      <td id=\"T_99ffd_row5_col4\" class=\"data row5 col4\" >4</td>\n      <td id=\"T_99ffd_row5_col5\" class=\"data row5 col5\" >0.4%</td>\n    </tr>\n    <tr>\n      <th id=\"T_99ffd_level0_row6\" class=\"row_heading level0 row6\" >other_parties</th>\n      <td id=\"T_99ffd_row6_col0\" class=\"data row6 col0\" >1,000</td>\n      <td id=\"T_99ffd_row6_col1\" class=\"data row6 col1\" >0</td>\n      <td id=\"T_99ffd_row6_col2\" class=\"data row6 col2\" >0.0%</td>\n      <td id=\"T_99ffd_row6_col3\" class=\"data row6 col3\" >none</td>\n      <td id=\"T_99ffd_row6_col4\" class=\"data row6 col4\" >3</td>\n      <td id=\"T_99ffd_row6_col5\" class=\"data row6 col5\" >0.3%</td>\n    </tr>\n    <tr>\n      <th id=\"T_99ffd_level0_row7\" class=\"row_heading level0 row7\" >property_magnitude</th>\n      <td id=\"T_99ffd_row7_col0\" class=\"data row7 col0\" >1,000</td>\n      <td id=\"T_99ffd_row7_col1\" class=\"data row7 col1\" >0</td>\n      <td id=\"T_99ffd_row7_col2\" class=\"data row7 col2\" >0.0%</td>\n      <td id=\"T_99ffd_row7_col3\" class=\"data row7 col3\" >car</td>\n      <td id=\"T_99ffd_row7_col4\" class=\"data row7 col4\" >4</td>\n      <td id=\"T_99ffd_row7_col5\" class=\"data row7 col5\" >0.4%</td>\n    </tr>\n    <tr>\n      <th id=\"T_99ffd_level0_row8\" class=\"row_heading level0 row8\" >other_payment_plans</th>\n      <td id=\"T_99ffd_row8_col0\" class=\"data row8 col0\" >1,000</td>\n      <td id=\"T_99ffd_row8_col1\" class=\"data row8 col1\" >0</td>\n      <td id=\"T_99ffd_row8_col2\" class=\"data row8 col2\" >0.0%</td>\n      <td id=\"T_99ffd_row8_col3\" class=\"data row8 col3\" >none</td>\n      <td id=\"T_99ffd_row8_col4\" class=\"data row8 col4\" >3</td>\n      <td id=\"T_99ffd_row8_col5\" class=\"data row8 col5\" >0.3%</td>\n    </tr>\n    <tr>\n      <th id=\"T_99ffd_level0_row9\" class=\"row_heading level0 row9\" >housing</th>\n      <td id=\"T_99ffd_row9_col0\" class=\"data row9 col0\" >1,000</td>\n      <td id=\"T_99ffd_row9_col1\" class=\"data row9 col1\" >0</td>\n      <td id=\"T_99ffd_row9_col2\" class=\"data row9 col2\" >0.0%</td>\n      <td id=\"T_99ffd_row9_col3\" class=\"data row9 col3\" >own</td>\n      <td id=\"T_99ffd_row9_col4\" class=\"data row9 col4\" >3</td>\n      <td id=\"T_99ffd_row9_col5\" class=\"data row9 col5\" >0.3%</td>\n    </tr>\n    <tr>\n      <th id=\"T_99ffd_level0_row10\" class=\"row_heading level0 row10\" >job</th>\n      <td id=\"T_99ffd_row10_col0\" class=\"data row10 col0\" >1,000</td>\n      <td id=\"T_99ffd_row10_col1\" class=\"data row10 col1\" >0</td>\n      <td id=\"T_99ffd_row10_col2\" class=\"data row10 col2\" >0.0%</td>\n      <td id=\"T_99ffd_row10_col3\" class=\"data row10 col3\" >skilled</td>\n      <td id=\"T_99ffd_row10_col4\" class=\"data row10 col4\" >4</td>\n      <td id=\"T_99ffd_row10_col5\" class=\"data row10 col5\" >0.4%</td>\n    </tr>\n    <tr>\n      <th id=\"T_99ffd_level0_row11\" class=\"row_heading level0 row11\" >own_telephone</th>\n      <td id=\"T_99ffd_row11_col0\" class=\"data row11 col0\" >1,000</td>\n      <td id=\"T_99ffd_row11_col1\" class=\"data row11 col1\" >0</td>\n      <td id=\"T_99ffd_row11_col2\" class=\"data row11 col2\" >0.0%</td>\n      <td id=\"T_99ffd_row11_col3\" class=\"data row11 col3\" >none</td>\n      <td id=\"T_99ffd_row11_col4\" class=\"data row11 col4\" >2</td>\n      <td id=\"T_99ffd_row11_col5\" class=\"data row11 col5\" >0.2%</td>\n    </tr>\n    <tr>\n      <th id=\"T_99ffd_level0_row12\" class=\"row_heading level0 row12\" >foreign_worker</th>\n      <td id=\"T_99ffd_row12_col0\" class=\"data row12 col0\" >1,000</td>\n      <td id=\"T_99ffd_row12_col1\" class=\"data row12 col1\" >0</td>\n      <td id=\"T_99ffd_row12_col2\" class=\"data row12 col2\" >0.0%</td>\n      <td id=\"T_99ffd_row12_col3\" class=\"data row12 col3\" >yes</td>\n      <td id=\"T_99ffd_row12_col4\" class=\"data row12 col4\" >2</td>\n      <td id=\"T_99ffd_row12_col5\" class=\"data row12 col5\" >0.2%</td>\n    </tr>\n    <tr>\n      <th id=\"T_99ffd_level0_row13\" class=\"row_heading level0 row13\" >target</th>\n      <td id=\"T_99ffd_row13_col0\" class=\"data row13 col0\" >1,000</td>\n      <td id=\"T_99ffd_row13_col1\" class=\"data row13 col1\" >0</td>\n      <td id=\"T_99ffd_row13_col2\" class=\"data row13 col2\" >0.0%</td>\n      <td id=\"T_99ffd_row13_col3\" class=\"data row13 col3\" >good</td>\n      <td id=\"T_99ffd_row13_col4\" class=\"data row13 col4\" >2</td>\n      <td id=\"T_99ffd_row13_col5\" class=\"data row13 col5\" >0.2%</td>\n    </tr>\n  </tbody>\n</table>\n"
     },
     "execution_count": 5,
     "metadata": {},
     "output_type": "execute_result"
    }
   ],
   "source": [
    "hlp.pandas.non_numeric_summary(credit_data, return_style=True)"
   ],
   "metadata": {
    "collapsed": false,
    "pycharm": {
     "name": "#%%\n"
    }
   }
  },
  {
   "cell_type": "markdown",
   "source": [
    "# Training and Test Data"
   ],
   "metadata": {
    "collapsed": false
   }
  },
  {
   "cell_type": "code",
   "execution_count": 6,
   "outputs": [],
   "source": [
    "y_full = credit_data['target']\n",
    "X_full = credit_data.drop(columns='target')\n",
    "\n",
    "del credit_data"
   ],
   "metadata": {
    "collapsed": false,
    "pycharm": {
     "name": "#%%\n"
    }
   }
  },
  {
   "cell_type": "code",
   "execution_count": 7,
   "outputs": [
    {
     "data": {
      "text/plain": "      Frequency  Percent\ngood        700      0.7\nbad         300      0.3",
      "text/html": "<div>\n<style scoped>\n    .dataframe tbody tr th:only-of-type {\n        vertical-align: middle;\n    }\n\n    .dataframe tbody tr th {\n        vertical-align: top;\n    }\n\n    .dataframe thead th {\n        text-align: right;\n    }\n</style>\n<table border=\"1\" class=\"dataframe\">\n  <thead>\n    <tr style=\"text-align: right;\">\n      <th></th>\n      <th>Frequency</th>\n      <th>Percent</th>\n    </tr>\n  </thead>\n  <tbody>\n    <tr>\n      <th>good</th>\n      <td>700</td>\n      <td>0.7</td>\n    </tr>\n    <tr>\n      <th>bad</th>\n      <td>300</td>\n      <td>0.3</td>\n    </tr>\n  </tbody>\n</table>\n</div>"
     },
     "execution_count": 7,
     "metadata": {},
     "output_type": "execute_result"
    }
   ],
   "source": [
    "hlp.pandas.value_frequency(series=y_full)"
   ],
   "metadata": {
    "collapsed": false,
    "pycharm": {
     "name": "#%%\n"
    }
   }
  },
  {
   "cell_type": "code",
   "execution_count": 8,
   "outputs": [
    {
     "data": {
      "text/plain": "0    good\n1     bad\n2    good\n3    good\n4     bad\n5    good\n6    good\n7    good\n8    good\n9     bad\nName: target, dtype: category\nCategories (2, object): ['good', 'bad']"
     },
     "execution_count": 8,
     "metadata": {},
     "output_type": "execute_result"
    }
   ],
   "source": [
    "y_full[0:10]"
   ],
   "metadata": {
    "collapsed": false,
    "pycharm": {
     "name": "#%%\n"
    }
   }
  },
  {
   "cell_type": "code",
   "execution_count": 11,
   "outputs": [],
   "source": [
    "from sklearn.preprocessing import label_binarize\n",
    "y_full = label_binarize(y_full, classes=['bad', 'good']).flatten()"
   ],
   "metadata": {
    "collapsed": false,
    "pycharm": {
     "name": "#%%\n"
    }
   }
  },
  {
   "cell_type": "code",
   "execution_count": 12,
   "outputs": [
    {
     "data": {
      "text/plain": "array([1, 0, 1, 1, 0, 1, 1, 1, 1, 0])"
     },
     "execution_count": 12,
     "metadata": {},
     "output_type": "execute_result"
    }
   ],
   "source": [
    "y_full[0:10]"
   ],
   "metadata": {
    "collapsed": false,
    "pycharm": {
     "name": "#%%\n"
    }
   }
  },
  {
   "cell_type": "code",
   "execution_count": 14,
   "outputs": [],
   "source": [
    "# save the full dataset for creating the fine model\n",
    "with open('X_full.pkl', 'wb') as handle:\n",
    "    pickle.dump(X_full, handle)\n",
    "\n",
    "with open('y_full.pkl', 'wb') as handle:\n",
    "    pickle.dump(y_full, handle)"
   ],
   "metadata": {
    "collapsed": false,
    "pycharm": {
     "name": "#%%\n"
    }
   }
  },
  {
   "cell_type": "code",
   "execution_count": 15,
   "outputs": [],
   "source": [
    "X_train, X_test, y_train, y_test = train_test_split(X_full, y_full, test_size=0.2, random_state=42)\n",
    "del X_full, y_full"
   ],
   "metadata": {
    "collapsed": false,
    "pycharm": {
     "name": "#%%\n"
    }
   }
  },
  {
   "cell_type": "code",
   "execution_count": 16,
   "outputs": [
    {
     "name": "stdout",
     "output_type": "stream",
     "text": [
      "(800, 20)\n",
      "800\n",
      "(200, 20)\n",
      "200\n"
     ]
    }
   ],
   "source": [
    "print(X_train.shape)\n",
    "print(len(y_train))\n",
    "\n",
    "print(X_test.shape)\n",
    "print(len(y_test))"
   ],
   "metadata": {
    "collapsed": false,
    "pycharm": {
     "name": "#%%\n"
    }
   }
  },
  {
   "cell_type": "code",
   "execution_count": 17,
   "outputs": [
    {
     "data": {
      "text/plain": "(array([0, 1]), array([241, 559]))"
     },
     "execution_count": 17,
     "metadata": {},
     "output_type": "execute_result"
    }
   ],
   "source": [
    "np.unique(y_train, return_counts=True)"
   ],
   "metadata": {
    "collapsed": false,
    "pycharm": {
     "name": "#%%\n"
    }
   }
  },
  {
   "cell_type": "code",
   "execution_count": 18,
   "outputs": [
    {
     "data": {
      "text/plain": "array([0.30125, 0.69875])"
     },
     "execution_count": 18,
     "metadata": {},
     "output_type": "execute_result"
    }
   ],
   "source": [
    "np.unique(y_train, return_counts=True)[1] / np.sum(np.unique(y_train, return_counts=True)[1])"
   ],
   "metadata": {
    "collapsed": false,
    "pycharm": {
     "name": "#%%\n"
    }
   }
  },
  {
   "cell_type": "code",
   "execution_count": 19,
   "outputs": [
    {
     "data": {
      "text/plain": "array([0.295, 0.705])"
     },
     "execution_count": 19,
     "metadata": {},
     "output_type": "execute_result"
    }
   ],
   "source": [
    "np.unique(y_test, return_counts=True)[1] / np.sum(np.unique(y_test, return_counts=True)[1])"
   ],
   "metadata": {
    "collapsed": false,
    "pycharm": {
     "name": "#%%\n"
    }
   }
  },
  {
   "cell_type": "code",
   "execution_count": 20,
   "outputs": [],
   "source": [
    "import pickle\n",
    "\n",
    "with open('X_train.pkl', 'wb') as handle:\n",
    "    pickle.dump(X_train, handle)\n",
    "\n",
    "with open('X_test.pkl', 'wb') as handle:\n",
    "    pickle.dump(X_test, handle)\n",
    "\n",
    "with open('y_train.pkl', 'wb') as handle:\n",
    "    pickle.dump(y_train, handle)\n",
    "\n",
    "with open('y_test.pkl', 'wb') as handle:\n",
    "    pickle.dump(y_test, handle)\n",
    "\n",
    "del X_test, y_test"
   ],
   "metadata": {
    "collapsed": false,
    "pycharm": {
     "name": "#%%\n"
    }
   }
  },
  {
   "cell_type": "markdown",
   "source": [
    "# Exploratory\n",
    "\n",
    "Typically I would do an exploratory analysis here."
   ],
   "metadata": {
    "collapsed": false,
    "pycharm": {
     "name": "#%% md\n"
    }
   }
  },
  {
   "cell_type": "code",
   "execution_count": 21,
   "outputs": [
    {
     "data": {
      "text/plain": "    checking_status  duration                  credit_history    purpose  \\\n29              NaN       NaN              delayed previously   business   \n535           >=200      21.0  critical/other existing credit  education   \n695     no checking       6.0                   existing paid   used car   \n557     no checking      21.0             no credits/all paid    new car   \n836     no checking      12.0                   existing paid   radio/tv   \n\n     credit_amount    savings_status employment  installment_commitment  \\\n29             0.0              <100        >=7                     3.0   \n535         2319.0              <100         <1                     2.0   \n695         1236.0       500<=X<1000     1<=X<4                     2.0   \n557         5003.0  no known savings     1<=X<4                     1.0   \n836          886.0  no known savings     1<=X<4                     4.0   \n\n        personal_status other_parties  residence_since property_magnitude  \\\n29          male single          none              4.0  no known property   \n535        male div/sep          none              1.0                car   \n695         male single          none              4.0     life insurance   \n557  female div/dep/mar          none              4.0     life insurance   \n836  female div/dep/mar          none              2.0                car   \n\n      age other_payment_plans housing  existing_credits      job  \\\n29   63.0                none     own               2.0  skilled   \n535  33.0                none    rent               1.0  skilled   \n695  50.0                none    rent               1.0  skilled   \n557  29.0                bank     own               2.0  skilled   \n836  21.0                none     own               1.0  skilled   \n\n     num_dependents own_telephone foreign_worker  \n29              1.0           yes            yes  \n535             1.0          none            yes  \n695             1.0          none            yes  \n557             1.0           yes            yes  \n836             1.0          none            yes  ",
      "text/html": "<div>\n<style scoped>\n    .dataframe tbody tr th:only-of-type {\n        vertical-align: middle;\n    }\n\n    .dataframe tbody tr th {\n        vertical-align: top;\n    }\n\n    .dataframe thead th {\n        text-align: right;\n    }\n</style>\n<table border=\"1\" class=\"dataframe\">\n  <thead>\n    <tr style=\"text-align: right;\">\n      <th></th>\n      <th>checking_status</th>\n      <th>duration</th>\n      <th>credit_history</th>\n      <th>purpose</th>\n      <th>credit_amount</th>\n      <th>savings_status</th>\n      <th>employment</th>\n      <th>installment_commitment</th>\n      <th>personal_status</th>\n      <th>other_parties</th>\n      <th>residence_since</th>\n      <th>property_magnitude</th>\n      <th>age</th>\n      <th>other_payment_plans</th>\n      <th>housing</th>\n      <th>existing_credits</th>\n      <th>job</th>\n      <th>num_dependents</th>\n      <th>own_telephone</th>\n      <th>foreign_worker</th>\n    </tr>\n  </thead>\n  <tbody>\n    <tr>\n      <th>29</th>\n      <td>NaN</td>\n      <td>NaN</td>\n      <td>delayed previously</td>\n      <td>business</td>\n      <td>0.0</td>\n      <td>&lt;100</td>\n      <td>&gt;=7</td>\n      <td>3.0</td>\n      <td>male single</td>\n      <td>none</td>\n      <td>4.0</td>\n      <td>no known property</td>\n      <td>63.0</td>\n      <td>none</td>\n      <td>own</td>\n      <td>2.0</td>\n      <td>skilled</td>\n      <td>1.0</td>\n      <td>yes</td>\n      <td>yes</td>\n    </tr>\n    <tr>\n      <th>535</th>\n      <td>&gt;=200</td>\n      <td>21.0</td>\n      <td>critical/other existing credit</td>\n      <td>education</td>\n      <td>2319.0</td>\n      <td>&lt;100</td>\n      <td>&lt;1</td>\n      <td>2.0</td>\n      <td>male div/sep</td>\n      <td>none</td>\n      <td>1.0</td>\n      <td>car</td>\n      <td>33.0</td>\n      <td>none</td>\n      <td>rent</td>\n      <td>1.0</td>\n      <td>skilled</td>\n      <td>1.0</td>\n      <td>none</td>\n      <td>yes</td>\n    </tr>\n    <tr>\n      <th>695</th>\n      <td>no checking</td>\n      <td>6.0</td>\n      <td>existing paid</td>\n      <td>used car</td>\n      <td>1236.0</td>\n      <td>500&lt;=X&lt;1000</td>\n      <td>1&lt;=X&lt;4</td>\n      <td>2.0</td>\n      <td>male single</td>\n      <td>none</td>\n      <td>4.0</td>\n      <td>life insurance</td>\n      <td>50.0</td>\n      <td>none</td>\n      <td>rent</td>\n      <td>1.0</td>\n      <td>skilled</td>\n      <td>1.0</td>\n      <td>none</td>\n      <td>yes</td>\n    </tr>\n    <tr>\n      <th>557</th>\n      <td>no checking</td>\n      <td>21.0</td>\n      <td>no credits/all paid</td>\n      <td>new car</td>\n      <td>5003.0</td>\n      <td>no known savings</td>\n      <td>1&lt;=X&lt;4</td>\n      <td>1.0</td>\n      <td>female div/dep/mar</td>\n      <td>none</td>\n      <td>4.0</td>\n      <td>life insurance</td>\n      <td>29.0</td>\n      <td>bank</td>\n      <td>own</td>\n      <td>2.0</td>\n      <td>skilled</td>\n      <td>1.0</td>\n      <td>yes</td>\n      <td>yes</td>\n    </tr>\n    <tr>\n      <th>836</th>\n      <td>no checking</td>\n      <td>12.0</td>\n      <td>existing paid</td>\n      <td>radio/tv</td>\n      <td>886.0</td>\n      <td>no known savings</td>\n      <td>1&lt;=X&lt;4</td>\n      <td>4.0</td>\n      <td>female div/dep/mar</td>\n      <td>none</td>\n      <td>2.0</td>\n      <td>car</td>\n      <td>21.0</td>\n      <td>none</td>\n      <td>own</td>\n      <td>1.0</td>\n      <td>skilled</td>\n      <td>1.0</td>\n      <td>none</td>\n      <td>yes</td>\n    </tr>\n  </tbody>\n</table>\n</div>"
     },
     "execution_count": 21,
     "metadata": {},
     "output_type": "execute_result"
    }
   ],
   "source": [
    "X_train.head()"
   ],
   "metadata": {
    "collapsed": false,
    "pycharm": {
     "name": "#%%\n"
    }
   }
  },
  {
   "cell_type": "code",
   "execution_count": 23,
   "outputs": [
    {
     "data": {
      "text/plain": "array([0, 0, 1, 0, 1, 0, 1, 0, 0, 1])"
     },
     "execution_count": 23,
     "metadata": {},
     "output_type": "execute_result"
    }
   ],
   "source": [
    "y_train[0:10]"
   ],
   "metadata": {
    "collapsed": false,
    "pycharm": {
     "name": "#%%\n"
    }
   }
  }
 ],
 "metadata": {
  "kernelspec": {
   "display_name": "Python 3 (ipykernel)",
   "language": "python",
   "name": "python3"
  },
  "language_info": {
   "codemirror_mode": {
    "name": "ipython",
    "version": 3
   },
   "file_extension": ".py",
   "mimetype": "text/x-python",
   "name": "python",
   "nbconvert_exporter": "python",
   "pygments_lexer": "ipython3",
   "version": "3.9.6"
  },
  "toc": {
   "base_numbering": 1,
   "nav_menu": {},
   "number_sections": false,
   "sideBar": true,
   "skip_h1_title": false,
   "title_cell": "Table of Contents",
   "title_sidebar": "Contents",
   "toc_cell": false,
   "toc_position": {
    "height": "calc(100% - 180px)",
    "left": "10px",
    "top": "150px",
    "width": "298px"
   },
   "toc_section_display": true,
   "toc_window_display": true
  }
 },
 "nbformat": 4,
 "nbformat_minor": 5
}