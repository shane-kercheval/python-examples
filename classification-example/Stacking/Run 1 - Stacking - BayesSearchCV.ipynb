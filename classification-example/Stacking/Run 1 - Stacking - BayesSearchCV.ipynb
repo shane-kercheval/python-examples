{
 "cells": [
  {
   "cell_type": "markdown",
   "id": "f47960fc",
   "metadata": {
    "pycharm": {
     "name": "#%% md\n"
    }
   },
   "source": [
    "This files contains an example of tuning a Random Forest model with BayesSearchCV."
   ]
  },
  {
   "cell_type": "code",
   "execution_count": 1,
   "id": "c5f3fe51",
   "metadata": {},
   "outputs": [],
   "source": [
    "import pickle\n",
    "import time\n",
    "\n",
    "import helpsk as hlp\n",
    "import pandas as pd\n",
    "import numpy as np\n",
    "import plotly.express as px\n",
    "from sklearn.impute import SimpleImputer\n",
    "from sklearn.pipeline import Pipeline\n",
    "from sklearn.preprocessing import StandardScaler, MinMaxScaler, OneHotEncoder\n",
    "\n",
    "import plotly.io as pio\n",
    "pio.renderers.default='notebook'"
   ]
  },
  {
   "cell_type": "markdown",
   "id": "8ff88fe0",
   "metadata": {},
   "source": [
    "# Load Data"
   ]
  },
  {
   "cell_type": "code",
   "execution_count": 2,
   "id": "757e287d",
   "metadata": {
    "pycharm": {
     "name": "#%%\n"
    }
   },
   "outputs": [],
   "source": [
    "with open('../X_train.pkl', 'rb') as handle:\n",
    "    X_train = pickle.load(handle)\n",
    "\n",
    "with open('../y_train.pkl', 'rb') as handle:\n",
    "    y_train = pickle.load(handle)"
   ]
  },
  {
   "cell_type": "code",
   "execution_count": 3,
   "id": "172f513d",
   "metadata": {
    "pycharm": {
     "name": "#%%\n"
    }
   },
   "outputs": [
    {
     "data": {
      "text/html": [
       "<style type=\"text/css\">\n",
       "#T_8ec2d_row0_col1, #T_8ec2d_row1_col3 {\n",
       "  background-color: #EBB13E;\n",
       "}\n",
       "#T_8ec2d_row0_col2 {\n",
       "  width: 10em;\n",
       "  height: 80%;\n",
       "  background: linear-gradient(90deg,#CF3721 5.0%, transparent 5.0%);\n",
       "}\n",
       "#T_8ec2d_row0_col4, #T_8ec2d_row1_col2, #T_8ec2d_row2_col2, #T_8ec2d_row2_col4, #T_8ec2d_row3_col2, #T_8ec2d_row3_col4, #T_8ec2d_row4_col2, #T_8ec2d_row4_col4, #T_8ec2d_row5_col2, #T_8ec2d_row5_col4, #T_8ec2d_row6_col2, #T_8ec2d_row6_col4 {\n",
       "  width: 10em;\n",
       "  height: 80%;\n",
       "}\n",
       "#T_8ec2d_row0_col7 {\n",
       "  width: 10em;\n",
       "  height: 80%;\n",
       "  background: linear-gradient(90deg,#B4B7B9 56.0%, transparent 56.0%);\n",
       "}\n",
       "#T_8ec2d_row0_col8 {\n",
       "  width: 10em;\n",
       "  height: 80%;\n",
       "  background: linear-gradient(90deg, transparent 50.0%, #B4B7B9 50.0%, #B4B7B9 75.2%, transparent 75.2%);\n",
       "}\n",
       "#T_8ec2d_row1_col4 {\n",
       "  width: 10em;\n",
       "  height: 80%;\n",
       "  background: linear-gradient(90deg,#B4B7B9 5.0%, transparent 5.0%);\n",
       "}\n",
       "#T_8ec2d_row1_col7 {\n",
       "  width: 10em;\n",
       "  height: 80%;\n",
       "  background: linear-gradient(90deg,#B4B7B9 92.0%, transparent 92.0%);\n",
       "}\n",
       "#T_8ec2d_row1_col8 {\n",
       "  width: 10em;\n",
       "  height: 80%;\n",
       "  background: linear-gradient(90deg, transparent 50.0%, #B4B7B9 50.0%, #B4B7B9 96.7%, transparent 96.7%);\n",
       "}\n",
       "#T_8ec2d_row2_col7 {\n",
       "  width: 10em;\n",
       "  height: 80%;\n",
       "  background: linear-gradient(90deg,#B4B7B9 38.0%, transparent 38.0%);\n",
       "}\n",
       "#T_8ec2d_row2_col8 {\n",
       "  width: 10em;\n",
       "  height: 80%;\n",
       "  background: linear-gradient(90deg, transparent 37.0%, #B4B7B9 37.0%, #B4B7B9 50.0%, transparent 50.0%);\n",
       "}\n",
       "#T_8ec2d_row3_col7 {\n",
       "  width: 10em;\n",
       "  height: 80%;\n",
       "  background: linear-gradient(90deg,#B4B7B9 39.0%, transparent 39.0%);\n",
       "}\n",
       "#T_8ec2d_row3_col8 {\n",
       "  width: 10em;\n",
       "  height: 80%;\n",
       "  background: linear-gradient(90deg, transparent 43.2%, #B4B7B9 43.2%, #B4B7B9 50.0%, transparent 50.0%);\n",
       "}\n",
       "#T_8ec2d_row4_col7 {\n",
       "  width: 10em;\n",
       "  height: 80%;\n",
       "  background: linear-gradient(90deg,#B4B7B9 32.0%, transparent 32.0%);\n",
       "}\n",
       "#T_8ec2d_row4_col8 {\n",
       "  width: 10em;\n",
       "  height: 80%;\n",
       "  background: linear-gradient(90deg, transparent 50.0%, #B4B7B9 50.0%, #B4B7B9 75.7%, transparent 75.7%);\n",
       "}\n",
       "#T_8ec2d_row5_col7 {\n",
       "  width: 10em;\n",
       "  height: 80%;\n",
       "  background: linear-gradient(90deg,#B4B7B9 41.0%, transparent 41.0%);\n",
       "}\n",
       "#T_8ec2d_row5_col8 {\n",
       "  width: 10em;\n",
       "  height: 80%;\n",
       "  background: linear-gradient(90deg, transparent 50.0%, #B4B7B9 50.0%, #B4B7B9 81.5%, transparent 81.5%);\n",
       "}\n",
       "#T_8ec2d_row6_col7 {\n",
       "  width: 10em;\n",
       "  height: 80%;\n",
       "  background: linear-gradient(90deg,#B4B7B9 31.0%, transparent 31.0%);\n",
       "}\n",
       "#T_8ec2d_row6_col8 {\n",
       "  width: 10em;\n",
       "  height: 80%;\n",
       "  background: linear-gradient(90deg, transparent 50.0%, #B4B7B9 50.0%, #B4B7B9 100.0%, transparent 100.0%);\n",
       "}\n",
       "</style>\n",
       "<table id=\"T_8ec2d_\">\n",
       "  <thead>\n",
       "    <tr>\n",
       "      <th class=\"blank level0\" >&nbsp;</th>\n",
       "      <th class=\"col_heading level0 col0\" ># of Non-Nulls</th>\n",
       "      <th class=\"col_heading level0 col1\" ># of Nulls</th>\n",
       "      <th class=\"col_heading level0 col2\" >% Nulls</th>\n",
       "      <th class=\"col_heading level0 col3\" ># of Zeros</th>\n",
       "      <th class=\"col_heading level0 col4\" >% Zeros</th>\n",
       "      <th class=\"col_heading level0 col5\" >Mean</th>\n",
       "      <th class=\"col_heading level0 col6\" >St Dev.</th>\n",
       "      <th class=\"col_heading level0 col7\" >Coef of Var</th>\n",
       "      <th class=\"col_heading level0 col8\" >Skewness</th>\n",
       "      <th class=\"col_heading level0 col9\" >Kurtosis</th>\n",
       "      <th class=\"col_heading level0 col10\" >Min</th>\n",
       "      <th class=\"col_heading level0 col11\" >10%</th>\n",
       "      <th class=\"col_heading level0 col12\" >25%</th>\n",
       "      <th class=\"col_heading level0 col13\" >50%</th>\n",
       "      <th class=\"col_heading level0 col14\" >75%</th>\n",
       "      <th class=\"col_heading level0 col15\" >90%</th>\n",
       "      <th class=\"col_heading level0 col16\" >Max</th>\n",
       "    </tr>\n",
       "  </thead>\n",
       "  <tbody>\n",
       "    <tr>\n",
       "      <th id=\"T_8ec2d_level0_row0\" class=\"row_heading level0 row0\" >duration</th>\n",
       "      <td id=\"T_8ec2d_row0_col0\" class=\"data row0 col0\" >760</td>\n",
       "      <td id=\"T_8ec2d_row0_col1\" class=\"data row0 col1\" >40</td>\n",
       "      <td id=\"T_8ec2d_row0_col2\" class=\"data row0 col2\" >5.0%</td>\n",
       "      <td id=\"T_8ec2d_row0_col3\" class=\"data row0 col3\" >0</td>\n",
       "      <td id=\"T_8ec2d_row0_col4\" class=\"data row0 col4\" >0.0%</td>\n",
       "      <td id=\"T_8ec2d_row0_col5\" class=\"data row0 col5\" >21.0</td>\n",
       "      <td id=\"T_8ec2d_row0_col6\" class=\"data row0 col6\" >11.7</td>\n",
       "      <td id=\"T_8ec2d_row0_col7\" class=\"data row0 col7\" >0.6</td>\n",
       "      <td id=\"T_8ec2d_row0_col8\" class=\"data row0 col8\" >1.0</td>\n",
       "      <td id=\"T_8ec2d_row0_col9\" class=\"data row0 col9\" >0.6</td>\n",
       "      <td id=\"T_8ec2d_row0_col10\" class=\"data row0 col10\" >4.0</td>\n",
       "      <td id=\"T_8ec2d_row0_col11\" class=\"data row0 col11\" >9.0</td>\n",
       "      <td id=\"T_8ec2d_row0_col12\" class=\"data row0 col12\" >12.0</td>\n",
       "      <td id=\"T_8ec2d_row0_col13\" class=\"data row0 col13\" >18.0</td>\n",
       "      <td id=\"T_8ec2d_row0_col14\" class=\"data row0 col14\" >24.0</td>\n",
       "      <td id=\"T_8ec2d_row0_col15\" class=\"data row0 col15\" >36.0</td>\n",
       "      <td id=\"T_8ec2d_row0_col16\" class=\"data row0 col16\" >60.0</td>\n",
       "    </tr>\n",
       "    <tr>\n",
       "      <th id=\"T_8ec2d_level0_row1\" class=\"row_heading level0 row1\" >credit_amount</th>\n",
       "      <td id=\"T_8ec2d_row1_col0\" class=\"data row1 col0\" >800</td>\n",
       "      <td id=\"T_8ec2d_row1_col1\" class=\"data row1 col1\" >0</td>\n",
       "      <td id=\"T_8ec2d_row1_col2\" class=\"data row1 col2\" >0.0%</td>\n",
       "      <td id=\"T_8ec2d_row1_col3\" class=\"data row1 col3\" >38</td>\n",
       "      <td id=\"T_8ec2d_row1_col4\" class=\"data row1 col4\" >5.0%</td>\n",
       "      <td id=\"T_8ec2d_row1_col5\" class=\"data row1 col5\" >3,203.9</td>\n",
       "      <td id=\"T_8ec2d_row1_col6\" class=\"data row1 col6\" >2,932.3</td>\n",
       "      <td id=\"T_8ec2d_row1_col7\" class=\"data row1 col7\" >0.9</td>\n",
       "      <td id=\"T_8ec2d_row1_col8\" class=\"data row1 col8\" >1.9</td>\n",
       "      <td id=\"T_8ec2d_row1_col9\" class=\"data row1 col9\" >3.9</td>\n",
       "      <td id=\"T_8ec2d_row1_col10\" class=\"data row1 col10\" >0.0</td>\n",
       "      <td id=\"T_8ec2d_row1_col11\" class=\"data row1 col11\" >753.9</td>\n",
       "      <td id=\"T_8ec2d_row1_col12\" class=\"data row1 col12\" >1,300.8</td>\n",
       "      <td id=\"T_8ec2d_row1_col13\" class=\"data row1 col13\" >2,236.5</td>\n",
       "      <td id=\"T_8ec2d_row1_col14\" class=\"data row1 col14\" >3,951.5</td>\n",
       "      <td id=\"T_8ec2d_row1_col15\" class=\"data row1 col15\" >7,394.6</td>\n",
       "      <td id=\"T_8ec2d_row1_col16\" class=\"data row1 col16\" >18,424.0</td>\n",
       "    </tr>\n",
       "    <tr>\n",
       "      <th id=\"T_8ec2d_level0_row2\" class=\"row_heading level0 row2\" >installment_commitment</th>\n",
       "      <td id=\"T_8ec2d_row2_col0\" class=\"data row2 col0\" >800</td>\n",
       "      <td id=\"T_8ec2d_row2_col1\" class=\"data row2 col1\" >0</td>\n",
       "      <td id=\"T_8ec2d_row2_col2\" class=\"data row2 col2\" >0.0%</td>\n",
       "      <td id=\"T_8ec2d_row2_col3\" class=\"data row2 col3\" >0</td>\n",
       "      <td id=\"T_8ec2d_row2_col4\" class=\"data row2 col4\" >0.0%</td>\n",
       "      <td id=\"T_8ec2d_row2_col5\" class=\"data row2 col5\" >3.0</td>\n",
       "      <td id=\"T_8ec2d_row2_col6\" class=\"data row2 col6\" >1.1</td>\n",
       "      <td id=\"T_8ec2d_row2_col7\" class=\"data row2 col7\" >0.4</td>\n",
       "      <td id=\"T_8ec2d_row2_col8\" class=\"data row2 col8\" >-0.5</td>\n",
       "      <td id=\"T_8ec2d_row2_col9\" class=\"data row2 col9\" >-1.2</td>\n",
       "      <td id=\"T_8ec2d_row2_col10\" class=\"data row2 col10\" >1.0</td>\n",
       "      <td id=\"T_8ec2d_row2_col11\" class=\"data row2 col11\" >1.0</td>\n",
       "      <td id=\"T_8ec2d_row2_col12\" class=\"data row2 col12\" >2.0</td>\n",
       "      <td id=\"T_8ec2d_row2_col13\" class=\"data row2 col13\" >3.0</td>\n",
       "      <td id=\"T_8ec2d_row2_col14\" class=\"data row2 col14\" >4.0</td>\n",
       "      <td id=\"T_8ec2d_row2_col15\" class=\"data row2 col15\" >4.0</td>\n",
       "      <td id=\"T_8ec2d_row2_col16\" class=\"data row2 col16\" >4.0</td>\n",
       "    </tr>\n",
       "    <tr>\n",
       "      <th id=\"T_8ec2d_level0_row3\" class=\"row_heading level0 row3\" >residence_since</th>\n",
       "      <td id=\"T_8ec2d_row3_col0\" class=\"data row3 col0\" >800</td>\n",
       "      <td id=\"T_8ec2d_row3_col1\" class=\"data row3 col1\" >0</td>\n",
       "      <td id=\"T_8ec2d_row3_col2\" class=\"data row3 col2\" >0.0%</td>\n",
       "      <td id=\"T_8ec2d_row3_col3\" class=\"data row3 col3\" >0</td>\n",
       "      <td id=\"T_8ec2d_row3_col4\" class=\"data row3 col4\" >0.0%</td>\n",
       "      <td id=\"T_8ec2d_row3_col5\" class=\"data row3 col5\" >2.9</td>\n",
       "      <td id=\"T_8ec2d_row3_col6\" class=\"data row3 col6\" >1.1</td>\n",
       "      <td id=\"T_8ec2d_row3_col7\" class=\"data row3 col7\" >0.4</td>\n",
       "      <td id=\"T_8ec2d_row3_col8\" class=\"data row3 col8\" >-0.3</td>\n",
       "      <td id=\"T_8ec2d_row3_col9\" class=\"data row3 col9\" >-1.4</td>\n",
       "      <td id=\"T_8ec2d_row3_col10\" class=\"data row3 col10\" >1.0</td>\n",
       "      <td id=\"T_8ec2d_row3_col11\" class=\"data row3 col11\" >1.0</td>\n",
       "      <td id=\"T_8ec2d_row3_col12\" class=\"data row3 col12\" >2.0</td>\n",
       "      <td id=\"T_8ec2d_row3_col13\" class=\"data row3 col13\" >3.0</td>\n",
       "      <td id=\"T_8ec2d_row3_col14\" class=\"data row3 col14\" >4.0</td>\n",
       "      <td id=\"T_8ec2d_row3_col15\" class=\"data row3 col15\" >4.0</td>\n",
       "      <td id=\"T_8ec2d_row3_col16\" class=\"data row3 col16\" >4.0</td>\n",
       "    </tr>\n",
       "    <tr>\n",
       "      <th id=\"T_8ec2d_level0_row4\" class=\"row_heading level0 row4\" >age</th>\n",
       "      <td id=\"T_8ec2d_row4_col0\" class=\"data row4 col0\" >800</td>\n",
       "      <td id=\"T_8ec2d_row4_col1\" class=\"data row4 col1\" >0</td>\n",
       "      <td id=\"T_8ec2d_row4_col2\" class=\"data row4 col2\" >0.0%</td>\n",
       "      <td id=\"T_8ec2d_row4_col3\" class=\"data row4 col3\" >0</td>\n",
       "      <td id=\"T_8ec2d_row4_col4\" class=\"data row4 col4\" >0.0%</td>\n",
       "      <td id=\"T_8ec2d_row4_col5\" class=\"data row4 col5\" >35.6</td>\n",
       "      <td id=\"T_8ec2d_row4_col6\" class=\"data row4 col6\" >11.4</td>\n",
       "      <td id=\"T_8ec2d_row4_col7\" class=\"data row4 col7\" >0.3</td>\n",
       "      <td id=\"T_8ec2d_row4_col8\" class=\"data row4 col8\" >1.0</td>\n",
       "      <td id=\"T_8ec2d_row4_col9\" class=\"data row4 col9\" >0.7</td>\n",
       "      <td id=\"T_8ec2d_row4_col10\" class=\"data row4 col10\" >19.0</td>\n",
       "      <td id=\"T_8ec2d_row4_col11\" class=\"data row4 col11\" >23.0</td>\n",
       "      <td id=\"T_8ec2d_row4_col12\" class=\"data row4 col12\" >27.0</td>\n",
       "      <td id=\"T_8ec2d_row4_col13\" class=\"data row4 col13\" >33.0</td>\n",
       "      <td id=\"T_8ec2d_row4_col14\" class=\"data row4 col14\" >42.0</td>\n",
       "      <td id=\"T_8ec2d_row4_col15\" class=\"data row4 col15\" >52.0</td>\n",
       "      <td id=\"T_8ec2d_row4_col16\" class=\"data row4 col16\" >75.0</td>\n",
       "    </tr>\n",
       "    <tr>\n",
       "      <th id=\"T_8ec2d_level0_row5\" class=\"row_heading level0 row5\" >existing_credits</th>\n",
       "      <td id=\"T_8ec2d_row5_col0\" class=\"data row5 col0\" >800</td>\n",
       "      <td id=\"T_8ec2d_row5_col1\" class=\"data row5 col1\" >0</td>\n",
       "      <td id=\"T_8ec2d_row5_col2\" class=\"data row5 col2\" >0.0%</td>\n",
       "      <td id=\"T_8ec2d_row5_col3\" class=\"data row5 col3\" >0</td>\n",
       "      <td id=\"T_8ec2d_row5_col4\" class=\"data row5 col4\" >0.0%</td>\n",
       "      <td id=\"T_8ec2d_row5_col5\" class=\"data row5 col5\" >1.4</td>\n",
       "      <td id=\"T_8ec2d_row5_col6\" class=\"data row5 col6\" >0.6</td>\n",
       "      <td id=\"T_8ec2d_row5_col7\" class=\"data row5 col7\" >0.4</td>\n",
       "      <td id=\"T_8ec2d_row5_col8\" class=\"data row5 col8\" >1.3</td>\n",
       "      <td id=\"T_8ec2d_row5_col9\" class=\"data row5 col9\" >1.6</td>\n",
       "      <td id=\"T_8ec2d_row5_col10\" class=\"data row5 col10\" >1.0</td>\n",
       "      <td id=\"T_8ec2d_row5_col11\" class=\"data row5 col11\" >1.0</td>\n",
       "      <td id=\"T_8ec2d_row5_col12\" class=\"data row5 col12\" >1.0</td>\n",
       "      <td id=\"T_8ec2d_row5_col13\" class=\"data row5 col13\" >1.0</td>\n",
       "      <td id=\"T_8ec2d_row5_col14\" class=\"data row5 col14\" >2.0</td>\n",
       "      <td id=\"T_8ec2d_row5_col15\" class=\"data row5 col15\" >2.0</td>\n",
       "      <td id=\"T_8ec2d_row5_col16\" class=\"data row5 col16\" >4.0</td>\n",
       "    </tr>\n",
       "    <tr>\n",
       "      <th id=\"T_8ec2d_level0_row6\" class=\"row_heading level0 row6\" >num_dependents</th>\n",
       "      <td id=\"T_8ec2d_row6_col0\" class=\"data row6 col0\" >800</td>\n",
       "      <td id=\"T_8ec2d_row6_col1\" class=\"data row6 col1\" >0</td>\n",
       "      <td id=\"T_8ec2d_row6_col2\" class=\"data row6 col2\" >0.0%</td>\n",
       "      <td id=\"T_8ec2d_row6_col3\" class=\"data row6 col3\" >0</td>\n",
       "      <td id=\"T_8ec2d_row6_col4\" class=\"data row6 col4\" >0.0%</td>\n",
       "      <td id=\"T_8ec2d_row6_col5\" class=\"data row6 col5\" >1.1</td>\n",
       "      <td id=\"T_8ec2d_row6_col6\" class=\"data row6 col6\" >0.3</td>\n",
       "      <td id=\"T_8ec2d_row6_col7\" class=\"data row6 col7\" >0.3</td>\n",
       "      <td id=\"T_8ec2d_row6_col8\" class=\"data row6 col8\" >2.0</td>\n",
       "      <td id=\"T_8ec2d_row6_col9\" class=\"data row6 col9\" >2.1</td>\n",
       "      <td id=\"T_8ec2d_row6_col10\" class=\"data row6 col10\" >1.0</td>\n",
       "      <td id=\"T_8ec2d_row6_col11\" class=\"data row6 col11\" >1.0</td>\n",
       "      <td id=\"T_8ec2d_row6_col12\" class=\"data row6 col12\" >1.0</td>\n",
       "      <td id=\"T_8ec2d_row6_col13\" class=\"data row6 col13\" >1.0</td>\n",
       "      <td id=\"T_8ec2d_row6_col14\" class=\"data row6 col14\" >1.0</td>\n",
       "      <td id=\"T_8ec2d_row6_col15\" class=\"data row6 col15\" >2.0</td>\n",
       "      <td id=\"T_8ec2d_row6_col16\" class=\"data row6 col16\" >2.0</td>\n",
       "    </tr>\n",
       "  </tbody>\n",
       "</table>\n"
      ],
      "text/plain": [
       "<pandas.io.formats.style.Styler at 0x7f41403475e0>"
      ]
     },
     "execution_count": 3,
     "metadata": {},
     "output_type": "execute_result"
    }
   ],
   "source": [
    "hlp.pandas.numeric_summary(X_train, return_style=True)"
   ]
  },
  {
   "cell_type": "code",
   "execution_count": 4,
   "id": "7e08ebd1",
   "metadata": {
    "pycharm": {
     "name": "#%%\n"
    }
   },
   "outputs": [
    {
     "data": {
      "text/html": [
       "<style type=\"text/css\">\n",
       "#T_9138b_row0_col1 {\n",
       "  background-color: #EBB13E;\n",
       "}\n",
       "#T_9138b_row0_col2 {\n",
       "  width: 10em;\n",
       "  height: 80%;\n",
       "  background: linear-gradient(90deg,#CF3721 4.6%, transparent 4.6%);\n",
       "}\n",
       "#T_9138b_row0_col5, #T_9138b_row5_col5, #T_9138b_row7_col5, #T_9138b_row10_col5 {\n",
       "  width: 10em;\n",
       "  height: 80%;\n",
       "  background: linear-gradient(90deg,#B4B7B9 0.5%, transparent 0.5%);\n",
       "}\n",
       "#T_9138b_row1_col2, #T_9138b_row2_col2, #T_9138b_row3_col2, #T_9138b_row4_col2, #T_9138b_row5_col2, #T_9138b_row6_col2, #T_9138b_row7_col2, #T_9138b_row8_col2, #T_9138b_row9_col2, #T_9138b_row10_col2, #T_9138b_row11_col2, #T_9138b_row12_col2 {\n",
       "  width: 10em;\n",
       "  height: 80%;\n",
       "}\n",
       "#T_9138b_row1_col5, #T_9138b_row3_col5, #T_9138b_row4_col5 {\n",
       "  width: 10em;\n",
       "  height: 80%;\n",
       "  background: linear-gradient(90deg,#B4B7B9 0.6%, transparent 0.6%);\n",
       "}\n",
       "#T_9138b_row2_col5 {\n",
       "  width: 10em;\n",
       "  height: 80%;\n",
       "  background: linear-gradient(90deg,#B4B7B9 1.2%, transparent 1.2%);\n",
       "}\n",
       "#T_9138b_row6_col5, #T_9138b_row8_col5, #T_9138b_row9_col5 {\n",
       "  width: 10em;\n",
       "  height: 80%;\n",
       "  background: linear-gradient(90deg,#B4B7B9 0.4%, transparent 0.4%);\n",
       "}\n",
       "#T_9138b_row11_col5, #T_9138b_row12_col5 {\n",
       "  width: 10em;\n",
       "  height: 80%;\n",
       "  background: linear-gradient(90deg,#B4B7B9 0.2%, transparent 0.2%);\n",
       "}\n",
       "</style>\n",
       "<table id=\"T_9138b_\">\n",
       "  <thead>\n",
       "    <tr>\n",
       "      <th class=\"blank level0\" >&nbsp;</th>\n",
       "      <th class=\"col_heading level0 col0\" ># of Non-Nulls</th>\n",
       "      <th class=\"col_heading level0 col1\" ># of Nulls</th>\n",
       "      <th class=\"col_heading level0 col2\" >% Nulls</th>\n",
       "      <th class=\"col_heading level0 col3\" >Most Freq. Value</th>\n",
       "      <th class=\"col_heading level0 col4\" ># of Unique</th>\n",
       "      <th class=\"col_heading level0 col5\" >% Unique</th>\n",
       "    </tr>\n",
       "  </thead>\n",
       "  <tbody>\n",
       "    <tr>\n",
       "      <th id=\"T_9138b_level0_row0\" class=\"row_heading level0 row0\" >checking_status</th>\n",
       "      <td id=\"T_9138b_row0_col0\" class=\"data row0 col0\" >763</td>\n",
       "      <td id=\"T_9138b_row0_col1\" class=\"data row0 col1\" >37</td>\n",
       "      <td id=\"T_9138b_row0_col2\" class=\"data row0 col2\" >4.6%</td>\n",
       "      <td id=\"T_9138b_row0_col3\" class=\"data row0 col3\" >no checking</td>\n",
       "      <td id=\"T_9138b_row0_col4\" class=\"data row0 col4\" >4</td>\n",
       "      <td id=\"T_9138b_row0_col5\" class=\"data row0 col5\" >0.5%</td>\n",
       "    </tr>\n",
       "    <tr>\n",
       "      <th id=\"T_9138b_level0_row1\" class=\"row_heading level0 row1\" >credit_history</th>\n",
       "      <td id=\"T_9138b_row1_col0\" class=\"data row1 col0\" >800</td>\n",
       "      <td id=\"T_9138b_row1_col1\" class=\"data row1 col1\" >0</td>\n",
       "      <td id=\"T_9138b_row1_col2\" class=\"data row1 col2\" >0.0%</td>\n",
       "      <td id=\"T_9138b_row1_col3\" class=\"data row1 col3\" >existing paid</td>\n",
       "      <td id=\"T_9138b_row1_col4\" class=\"data row1 col4\" >5</td>\n",
       "      <td id=\"T_9138b_row1_col5\" class=\"data row1 col5\" >0.6%</td>\n",
       "    </tr>\n",
       "    <tr>\n",
       "      <th id=\"T_9138b_level0_row2\" class=\"row_heading level0 row2\" >purpose</th>\n",
       "      <td id=\"T_9138b_row2_col0\" class=\"data row2 col0\" >800</td>\n",
       "      <td id=\"T_9138b_row2_col1\" class=\"data row2 col1\" >0</td>\n",
       "      <td id=\"T_9138b_row2_col2\" class=\"data row2 col2\" >0.0%</td>\n",
       "      <td id=\"T_9138b_row2_col3\" class=\"data row2 col3\" >radio/tv</td>\n",
       "      <td id=\"T_9138b_row2_col4\" class=\"data row2 col4\" >10</td>\n",
       "      <td id=\"T_9138b_row2_col5\" class=\"data row2 col5\" >1.2%</td>\n",
       "    </tr>\n",
       "    <tr>\n",
       "      <th id=\"T_9138b_level0_row3\" class=\"row_heading level0 row3\" >savings_status</th>\n",
       "      <td id=\"T_9138b_row3_col0\" class=\"data row3 col0\" >800</td>\n",
       "      <td id=\"T_9138b_row3_col1\" class=\"data row3 col1\" >0</td>\n",
       "      <td id=\"T_9138b_row3_col2\" class=\"data row3 col2\" >0.0%</td>\n",
       "      <td id=\"T_9138b_row3_col3\" class=\"data row3 col3\" >&lt;100</td>\n",
       "      <td id=\"T_9138b_row3_col4\" class=\"data row3 col4\" >5</td>\n",
       "      <td id=\"T_9138b_row3_col5\" class=\"data row3 col5\" >0.6%</td>\n",
       "    </tr>\n",
       "    <tr>\n",
       "      <th id=\"T_9138b_level0_row4\" class=\"row_heading level0 row4\" >employment</th>\n",
       "      <td id=\"T_9138b_row4_col0\" class=\"data row4 col0\" >800</td>\n",
       "      <td id=\"T_9138b_row4_col1\" class=\"data row4 col1\" >0</td>\n",
       "      <td id=\"T_9138b_row4_col2\" class=\"data row4 col2\" >0.0%</td>\n",
       "      <td id=\"T_9138b_row4_col3\" class=\"data row4 col3\" >1&lt;=X&lt;4</td>\n",
       "      <td id=\"T_9138b_row4_col4\" class=\"data row4 col4\" >5</td>\n",
       "      <td id=\"T_9138b_row4_col5\" class=\"data row4 col5\" >0.6%</td>\n",
       "    </tr>\n",
       "    <tr>\n",
       "      <th id=\"T_9138b_level0_row5\" class=\"row_heading level0 row5\" >personal_status</th>\n",
       "      <td id=\"T_9138b_row5_col0\" class=\"data row5 col0\" >800</td>\n",
       "      <td id=\"T_9138b_row5_col1\" class=\"data row5 col1\" >0</td>\n",
       "      <td id=\"T_9138b_row5_col2\" class=\"data row5 col2\" >0.0%</td>\n",
       "      <td id=\"T_9138b_row5_col3\" class=\"data row5 col3\" >male single</td>\n",
       "      <td id=\"T_9138b_row5_col4\" class=\"data row5 col4\" >4</td>\n",
       "      <td id=\"T_9138b_row5_col5\" class=\"data row5 col5\" >0.5%</td>\n",
       "    </tr>\n",
       "    <tr>\n",
       "      <th id=\"T_9138b_level0_row6\" class=\"row_heading level0 row6\" >other_parties</th>\n",
       "      <td id=\"T_9138b_row6_col0\" class=\"data row6 col0\" >800</td>\n",
       "      <td id=\"T_9138b_row6_col1\" class=\"data row6 col1\" >0</td>\n",
       "      <td id=\"T_9138b_row6_col2\" class=\"data row6 col2\" >0.0%</td>\n",
       "      <td id=\"T_9138b_row6_col3\" class=\"data row6 col3\" >none</td>\n",
       "      <td id=\"T_9138b_row6_col4\" class=\"data row6 col4\" >3</td>\n",
       "      <td id=\"T_9138b_row6_col5\" class=\"data row6 col5\" >0.4%</td>\n",
       "    </tr>\n",
       "    <tr>\n",
       "      <th id=\"T_9138b_level0_row7\" class=\"row_heading level0 row7\" >property_magnitude</th>\n",
       "      <td id=\"T_9138b_row7_col0\" class=\"data row7 col0\" >800</td>\n",
       "      <td id=\"T_9138b_row7_col1\" class=\"data row7 col1\" >0</td>\n",
       "      <td id=\"T_9138b_row7_col2\" class=\"data row7 col2\" >0.0%</td>\n",
       "      <td id=\"T_9138b_row7_col3\" class=\"data row7 col3\" >car</td>\n",
       "      <td id=\"T_9138b_row7_col4\" class=\"data row7 col4\" >4</td>\n",
       "      <td id=\"T_9138b_row7_col5\" class=\"data row7 col5\" >0.5%</td>\n",
       "    </tr>\n",
       "    <tr>\n",
       "      <th id=\"T_9138b_level0_row8\" class=\"row_heading level0 row8\" >other_payment_plans</th>\n",
       "      <td id=\"T_9138b_row8_col0\" class=\"data row8 col0\" >800</td>\n",
       "      <td id=\"T_9138b_row8_col1\" class=\"data row8 col1\" >0</td>\n",
       "      <td id=\"T_9138b_row8_col2\" class=\"data row8 col2\" >0.0%</td>\n",
       "      <td id=\"T_9138b_row8_col3\" class=\"data row8 col3\" >none</td>\n",
       "      <td id=\"T_9138b_row8_col4\" class=\"data row8 col4\" >3</td>\n",
       "      <td id=\"T_9138b_row8_col5\" class=\"data row8 col5\" >0.4%</td>\n",
       "    </tr>\n",
       "    <tr>\n",
       "      <th id=\"T_9138b_level0_row9\" class=\"row_heading level0 row9\" >housing</th>\n",
       "      <td id=\"T_9138b_row9_col0\" class=\"data row9 col0\" >800</td>\n",
       "      <td id=\"T_9138b_row9_col1\" class=\"data row9 col1\" >0</td>\n",
       "      <td id=\"T_9138b_row9_col2\" class=\"data row9 col2\" >0.0%</td>\n",
       "      <td id=\"T_9138b_row9_col3\" class=\"data row9 col3\" >own</td>\n",
       "      <td id=\"T_9138b_row9_col4\" class=\"data row9 col4\" >3</td>\n",
       "      <td id=\"T_9138b_row9_col5\" class=\"data row9 col5\" >0.4%</td>\n",
       "    </tr>\n",
       "    <tr>\n",
       "      <th id=\"T_9138b_level0_row10\" class=\"row_heading level0 row10\" >job</th>\n",
       "      <td id=\"T_9138b_row10_col0\" class=\"data row10 col0\" >800</td>\n",
       "      <td id=\"T_9138b_row10_col1\" class=\"data row10 col1\" >0</td>\n",
       "      <td id=\"T_9138b_row10_col2\" class=\"data row10 col2\" >0.0%</td>\n",
       "      <td id=\"T_9138b_row10_col3\" class=\"data row10 col3\" >skilled</td>\n",
       "      <td id=\"T_9138b_row10_col4\" class=\"data row10 col4\" >4</td>\n",
       "      <td id=\"T_9138b_row10_col5\" class=\"data row10 col5\" >0.5%</td>\n",
       "    </tr>\n",
       "    <tr>\n",
       "      <th id=\"T_9138b_level0_row11\" class=\"row_heading level0 row11\" >own_telephone</th>\n",
       "      <td id=\"T_9138b_row11_col0\" class=\"data row11 col0\" >800</td>\n",
       "      <td id=\"T_9138b_row11_col1\" class=\"data row11 col1\" >0</td>\n",
       "      <td id=\"T_9138b_row11_col2\" class=\"data row11 col2\" >0.0%</td>\n",
       "      <td id=\"T_9138b_row11_col3\" class=\"data row11 col3\" >none</td>\n",
       "      <td id=\"T_9138b_row11_col4\" class=\"data row11 col4\" >2</td>\n",
       "      <td id=\"T_9138b_row11_col5\" class=\"data row11 col5\" >0.2%</td>\n",
       "    </tr>\n",
       "    <tr>\n",
       "      <th id=\"T_9138b_level0_row12\" class=\"row_heading level0 row12\" >foreign_worker</th>\n",
       "      <td id=\"T_9138b_row12_col0\" class=\"data row12 col0\" >800</td>\n",
       "      <td id=\"T_9138b_row12_col1\" class=\"data row12 col1\" >0</td>\n",
       "      <td id=\"T_9138b_row12_col2\" class=\"data row12 col2\" >0.0%</td>\n",
       "      <td id=\"T_9138b_row12_col3\" class=\"data row12 col3\" >yes</td>\n",
       "      <td id=\"T_9138b_row12_col4\" class=\"data row12 col4\" >2</td>\n",
       "      <td id=\"T_9138b_row12_col5\" class=\"data row12 col5\" >0.2%</td>\n",
       "    </tr>\n",
       "  </tbody>\n",
       "</table>\n"
      ],
      "text/plain": [
       "<pandas.io.formats.style.Styler at 0x7f41ac663a30>"
      ]
     },
     "execution_count": 4,
     "metadata": {},
     "output_type": "execute_result"
    }
   ],
   "source": [
    "hlp.pandas.non_numeric_summary(X_train, return_style=True)"
   ]
  },
  {
   "cell_type": "code",
   "execution_count": 5,
   "id": "86f44647",
   "metadata": {},
   "outputs": [
    {
     "data": {
      "text/plain": [
       "array([1, 1, 0, 1, 0, 1, 0, 1, 1, 0])"
      ]
     },
     "execution_count": 5,
     "metadata": {},
     "output_type": "execute_result"
    }
   ],
   "source": [
    "y_train[0:10]"
   ]
  },
  {
   "cell_type": "code",
   "execution_count": 6,
   "id": "1662bbac",
   "metadata": {},
   "outputs": [
    {
     "data": {
      "text/plain": [
       "(array([0, 1]), array([559, 241]))"
      ]
     },
     "execution_count": 6,
     "metadata": {},
     "output_type": "execute_result"
    }
   ],
   "source": [
    "np.unique(y_train, return_counts=True)"
   ]
  },
  {
   "cell_type": "code",
   "execution_count": 7,
   "id": "bc038e2c",
   "metadata": {},
   "outputs": [
    {
     "data": {
      "text/plain": [
       "array([0.69875, 0.30125])"
      ]
     },
     "execution_count": 7,
     "metadata": {},
     "output_type": "execute_result"
    }
   ],
   "source": [
    "np.unique(y_train, return_counts=True)[1] / np.sum(np.unique(y_train, return_counts=True)[1])"
   ]
  },
  {
   "cell_type": "markdown",
   "id": "259f5c13",
   "metadata": {},
   "source": [
    "# Transformation Pipeline"
   ]
  },
  {
   "cell_type": "code",
   "execution_count": 8,
   "id": "c9b24b17",
   "metadata": {},
   "outputs": [
    {
     "data": {
      "text/plain": [
       "array([[0., 2.],\n",
       "       [2., 2.],\n",
       "       [9., 1.],\n",
       "       ...,\n",
       "       [9., 3.],\n",
       "       [6., 4.],\n",
       "       [6., 2.]])"
      ]
     },
     "execution_count": 8,
     "metadata": {},
     "output_type": "execute_result"
    }
   ],
   "source": [
    "from sklearn.preprocessing import OrdinalEncoder\n",
    "OrdinalEncoder().fit_transform(X_train[['purpose', 'savings_status']])"
   ]
  },
  {
   "cell_type": "code",
   "execution_count": 9,
   "id": "742c6bf1",
   "metadata": {},
   "outputs": [
    {
     "name": "stdout",
     "output_type": "stream",
     "text": [
      "['duration', 'credit_amount', 'installment_commitment', 'residence_since', 'age', 'existing_credits', 'num_dependents']\n",
      "['checking_status', 'credit_history', 'purpose', 'savings_status', 'employment', 'personal_status', 'other_parties', 'property_magnitude', 'other_payment_plans', 'housing', 'job', 'own_telephone', 'foreign_worker']\n"
     ]
    }
   ],
   "source": [
    "numeric_columns = hlp.pandas.get_numeric_columns(X_train)\n",
    "non_numeric_columns = hlp.pandas.get_non_numeric_columns(X_train)\n",
    "print(numeric_columns)\n",
    "print(non_numeric_columns)"
   ]
  },
  {
   "cell_type": "code",
   "execution_count": 17,
   "id": "70e3a5d3",
   "metadata": {},
   "outputs": [
    {
     "data": {
      "text/plain": [
       "{'C': 0.025537280346410507,\n",
       " 'encoder': 'OneHotEncoder()',\n",
       " 'imputer': 'SimpleImputer()',\n",
       " 'scaler': 'StandardScaler()'}"
      ]
     },
     "execution_count": 17,
     "metadata": {},
     "output_type": "execute_result"
    }
   ],
   "source": [
    "file_name = '../Logistic Regression/Run 1 - Logistic Regression - BayesSearchCV.yaml'\n",
    "log_parser = hlp.sklearn_eval.SearchCVParser.from_yaml_file(yaml_file_name = file_name)\n",
    "log_parser.best_primary_score_params"
   ]
  },
  {
   "cell_type": "code",
   "execution_count": 18,
   "id": "0356641a",
   "metadata": {},
   "outputs": [
    {
     "data": {
      "text/plain": [
       "{'max_features': 0.11861727550540657,\n",
       " 'n_estimators': 4994,\n",
       " 'encoder': 'OneHotEncoder()',\n",
       " 'imputer': 'SimpleImputer()',\n",
       " 'scaler': 'MinMaxScaler()'}"
      ]
     },
     "execution_count": 18,
     "metadata": {},
     "output_type": "execute_result"
    }
   ],
   "source": [
    "file_name = '../Random Forest/Run 1 - Random Forest - BayesSearchCV.yaml'\n",
    "rf_parser = hlp.sklearn_eval.SearchCVParser.from_yaml_file(yaml_file_name = file_name)\n",
    "rf_parser.best_primary_score_params"
   ]
  },
  {
   "cell_type": "code",
   "execution_count": 19,
   "id": "07fa68c0",
   "metadata": {},
   "outputs": [
    {
     "data": {
      "text/plain": [
       "{'colsample_bytree': 0.12514061156354356,\n",
       " 'learning_rate': 0.01,\n",
       " 'max_depth': 3,\n",
       " 'n_estimators': 778,\n",
       " 'subsample': 0.5788129146377768,\n",
       " 'encoder': 'CustomOrdinalEncoder()',\n",
       " 'imputer': 'SimpleImputer()',\n",
       " 'scaler': 'MinMaxScaler()'}"
      ]
     },
     "execution_count": 19,
     "metadata": {},
     "output_type": "execute_result"
    }
   ],
   "source": [
    "file_name = '../XGBoost/Run 1 - XGBoost - BayesSearchCV.yaml'\n",
    "xgb_parser = hlp.sklearn_eval.SearchCVParser.from_yaml_file(yaml_file_name = file_name)\n",
    "xgb_parser.best_primary_score_params"
   ]
  },
  {
   "cell_type": "code",
   "execution_count": 20,
   "id": "fc6a0b1a",
   "metadata": {},
   "outputs": [],
   "source": [
    "from sklearn.pipeline import make_pipeline\n",
    "from sklearn.compose import ColumnTransformer\n",
    "from sklearn.linear_model import LogisticRegression\n",
    "from sklearn.ensemble import RandomForestClassifier\n",
    "from xgboost import XGBClassifier\n",
    "\n",
    "logistic_estimator = make_pipeline(\n",
    "    ColumnTransformer([\n",
    "        (\n",
    "            'numeric',\n",
    "            make_pipeline(\n",
    "                SimpleImputer(strategy='mean'),\n",
    "                 StandardScaler()\n",
    "            ),\n",
    "            numeric_columns\n",
    "        ),\n",
    "        (\n",
    "            'non_numeric',\n",
    "            make_pipeline(OneHotEncoder()),\n",
    "            non_numeric_columns\n",
    "        )\n",
    "    ]),\n",
    "    LogisticRegression(\n",
    "        C=log_parser.best_primary_score_params['C'],\n",
    "        solver='lbfgs',\n",
    "        max_iter=1000,\n",
    "        random_state=42\n",
    "    )\n",
    ")\n",
    "\n",
    "rf_estimator = make_pipeline(\n",
    "    ColumnTransformer([\n",
    "        (\n",
    "            'numeric',\n",
    "            make_pipeline(\n",
    "                SimpleImputer(strategy='mean'),\n",
    "                MinMaxScaler()\n",
    "            ),\n",
    "            numeric_columns\n",
    "        ),\n",
    "        (\n",
    "            'non_numeric',\n",
    "            #make_pipeline(hlp.sklearn_pipeline.CustomOrdinalEncoder()),\n",
    "            make_pipeline(OneHotEncoder()),\n",
    "            non_numeric_columns\n",
    "        )\n",
    "    ]),\n",
    "    RandomForestClassifier(\n",
    "        max_features=rf_parser.best_primary_score_params['max_features'],\n",
    "        n_estimators=rf_parser.best_primary_score_params['n_estimators'],\n",
    "        random_state=42,\n",
    "    )\n",
    ")\n",
    "\n",
    "xgb_estimator = make_pipeline(\n",
    "    ColumnTransformer([\n",
    "        (\n",
    "            'numeric',\n",
    "            make_pipeline(\n",
    "                SimpleImputer(strategy='mean'),\n",
    "                MinMaxScaler()\n",
    "            ),\n",
    "            numeric_columns\n",
    "        ),\n",
    "        (\n",
    "            'non_numeric',\n",
    "            make_pipeline(hlp.sklearn_pipeline.CustomOrdinalEncoder()),\n",
    "            non_numeric_columns\n",
    "        )\n",
    "    ]),\n",
    "    XGBClassifier(\n",
    "        colsample_bytree=xgb_parser.best_primary_score_params['colsample_bytree'],\n",
    "        learning_rate=xgb_parser.best_primary_score_params['learning_rate'],\n",
    "        max_depth=xgb_parser.best_primary_score_params['max_depth'],\n",
    "        n_estimators=xgb_parser.best_primary_score_params['n_estimators'],\n",
    "        subsample=xgb_parser.best_primary_score_params['subsample'],\n",
    "        random_state=42,\n",
    "        use_label_encoder=False,\n",
    "        eval_metric='logloss'\n",
    "    )\n",
    ")\n",
    "\n",
    "estimators = [\n",
    "    ('logistic', logistic_estimator),\n",
    "    ('rf', rf_estimator),\n",
    "    ('xgb', xgb_estimator),\n",
    "]"
   ]
  },
  {
   "cell_type": "markdown",
   "id": "c215d60a",
   "metadata": {},
   "source": [
    "# Model"
   ]
  },
  {
   "cell_type": "markdown",
   "id": "fad06518",
   "metadata": {},
   "source": [
    "`XGBoostError: XGBoost Library (libxgboost.dylib) could not be loaded on Apple Silicon (ARM)`\n",
    "\n",
    "https://github.com/dmlc/xgboost/issues/6909\n",
    "\n",
    "```\n",
    "pip install --upgrade --force-reinstall xgboost --no-binary xgboost -v\n",
    "```"
   ]
  },
  {
   "cell_type": "code",
   "execution_count": 21,
   "id": "8b6a73ac",
   "metadata": {},
   "outputs": [],
   "source": [
    "from sklearn.ensemble import StackingClassifier\n",
    "\n",
    "final_estimator = XGBClassifier(random_state=42,\n",
    "                                eval_metric='logloss',\n",
    "                                use_label_encoder=False)\n",
    "\n",
    "stacking_model = StackingClassifier(estimators=estimators, final_estimator=final_estimator)"
   ]
  },
  {
   "cell_type": "markdown",
   "id": "98b5210c",
   "metadata": {},
   "source": [
    "# skopt.BayesSearchCV\n",
    "\n",
    "[https://scikit-optimize.github.io/stable/auto_examples/sklearn-gridsearchcv-replacement.html](https://scikit-optimize.github.io/stable/auto_examples/sklearn-gridsearchcv-replacement.html)"
   ]
  },
  {
   "cell_type": "code",
   "execution_count": 22,
   "id": "54a179db",
   "metadata": {},
   "outputs": [],
   "source": [
    "from sklearn.metrics import make_scorer, f1_score, precision_score, recall_score  # , roc_auc_score\n",
    "from sklearn.metrics import SCORERS\n",
    "\n",
    "# https://scikit-learn.org/stable/modules/generated/sklearn.metrics.make_scorer.html\n",
    "# https://stackoverflow.com/questions/60615281/different-result-roc-auc-score-and-plot-roc-curve\n",
    "scores = {\n",
    "    # https://github.com/scikit-learn/scikit-learn/blob/2beed5584/sklearn/metrics/_scorer.py#L537\n",
    "    'ROC/AUC':  SCORERS['roc_auc'],\n",
    "    'F1': make_scorer(f1_score, greater_is_better=True),\n",
    "    'Pos. Pred. Val': make_scorer(precision_score, greater_is_better=True),\n",
    "    'True Pos. Rate': make_scorer(recall_score, greater_is_better=True),\n",
    "}"
   ]
  },
  {
   "cell_type": "code",
   "execution_count": 23,
   "id": "e8414f95",
   "metadata": {},
   "outputs": [],
   "source": [
    "num_folds = 5\n",
    "num_repeats = 2"
   ]
  },
  {
   "cell_type": "code",
   "execution_count": 24,
   "id": "437dff7d",
   "metadata": {
    "pycharm": {
     "name": "#%%\n"
    }
   },
   "outputs": [],
   "source": [
    "# pip install scikit-optimize\n",
    "from skopt import BayesSearchCV\n",
    "from skopt.space import Real, Categorical, Integer\n",
    "from sklearn.model_selection import RepeatedKFold"
   ]
  },
  {
   "cell_type": "markdown",
   "id": "90e75414",
   "metadata": {},
   "source": [
    "https://towardsdatascience.com/xgboost-fine-tune-and-optimize-your-model-23d996fab663\n",
    "\n",
    "> max_depth: 3–10\n",
    "> n_estimators: 100 (lots of observations) to 1000 (few observations)\n",
    "> learning_rate: 0.01–0.3\n",
    "> colsample_bytree: 0.5–1\n",
    "> subsample: 0.6–1\n",
    "\n",
    "> Then, you can focus on optimizing max_depth and n_estimators.\n",
    "You can then play along with the learning_rate, and increase it to speed up the model without decreasing the performances. If it becomes faster without losing in performances, you can increase the number of estimators to try to increase the performances."
   ]
  },
  {
   "cell_type": "markdown",
   "id": "9eb66d6c",
   "metadata": {},
   "source": [
    "Find tuning options with:\n",
    "\n",
    "```\n",
    "bayes_search.get_params().keys()\n",
    "```\n",
    "\n",
    "Note that the param will be e.g. `final_estimator__max_depth` even though `bayes_search.get_params().keys()` returns `estimator__final_estimator__max_depth`"
   ]
  },
  {
   "cell_type": "code",
   "execution_count": null,
   "id": "11541e28",
   "metadata": {
    "pycharm": {
     "name": "#%%\n"
    },
    "scrolled": true
   },
   "outputs": [
    {
     "name": "stdout",
     "output_type": "stream",
     "text": [
      "Fitting 10 folds for each of 1 candidates, totalling 10 fits\n"
     ]
    }
   ],
   "source": [
    "search_space = {\n",
    "    'final_estimator__max_depth': Integer(3, 10),\n",
    "    'final_estimator__n_estimators':  Integer(50, 2000),\n",
    "    'final_estimator__learning_rate': Real(0.01, 0.3),\n",
    "    'final_estimator__colsample_bytree': Real(0.01, 1),\n",
    "    'final_estimator__subsample': Real(0.5, 1),\n",
    "}\n",
    "\n",
    "bayes_search = BayesSearchCV(\n",
    "    estimator=stacking_model,\n",
    "    search_spaces=search_space,\n",
    "    n_iter=50,\n",
    "    cv=RepeatedKFold(n_splits=num_folds, n_repeats=num_repeats),\n",
    "    scoring='roc_auc',\n",
    "    # return_train_score=True,\n",
    "    n_jobs=-1,\n",
    "    verbose=1,\n",
    "    random_state=42,\n",
    ")\n",
    "\n",
    "start_time = time.time()\n",
    "bayes_search.fit(X_train, y_train)\n",
    "elapsed_time = time.time() - start_time\n",
    "\n",
    "del search_space"
   ]
  },
  {
   "cell_type": "code",
   "execution_count": null,
   "id": "83d65040",
   "metadata": {},
   "outputs": [],
   "source": [
    "# find tuning options with:\n",
    "# bayes_search.get_params().keys()"
   ]
  },
  {
   "cell_type": "code",
   "execution_count": null,
   "id": "b827b530",
   "metadata": {},
   "outputs": [],
   "source": [
    "print(f\"Elapsed time to run BayesSearchCV: {elapsed_time:.3f} seconds; {elapsed_time / 60:.1f} minutes\")"
   ]
  },
  {
   "cell_type": "code",
   "execution_count": null,
   "id": "eea4e3fa",
   "metadata": {
    "pycharm": {
     "name": "#%%\n"
    }
   },
   "outputs": [],
   "source": [
    "print(bayes_search.cv_results_)"
   ]
  },
  {
   "cell_type": "code",
   "execution_count": null,
   "id": "5a16e6c6",
   "metadata": {},
   "outputs": [],
   "source": [
    "print(bayes_search.best_score_)"
   ]
  },
  {
   "cell_type": "code",
   "execution_count": null,
   "id": "6b4ab22a",
   "metadata": {},
   "outputs": [],
   "source": [
    "print(bayes_search.best_params_)"
   ]
  },
  {
   "cell_type": "markdown",
   "id": "1930b7e6",
   "metadata": {
    "pycharm": {
     "name": "#%% md\n"
    }
   },
   "source": [
    "# Results"
   ]
  },
  {
   "cell_type": "code",
   "execution_count": null,
   "id": "5b8b668f",
   "metadata": {
    "pycharm": {
     "name": "#%%\n"
    }
   },
   "outputs": [],
   "source": [
    "new_param_column_names = {\n",
    "    'final_estimator__max_depth': 'max_depth',\n",
    "    'final_estimator__n_estimators': 'n_estimators',\n",
    "    'final_estimator__learning_rate': 'learning_rate',\n",
    "    'final_estimator__colsample_bytree': 'colsample_bytree',\n",
    "    'final_estimator__subsample': 'subsample',\n",
    "}"
   ]
  },
  {
   "cell_type": "code",
   "execution_count": null,
   "id": "7872e107",
   "metadata": {
    "pycharm": {
     "name": "#%%\n"
    }
   },
   "outputs": [],
   "source": [
    "parser = hlp.sklearn_eval.SearchCVParser(searcher=bayes_search,\n",
    "                                         higher_score_is_better = True,\n",
    "                                         parameter_name_mappings = new_param_column_names)"
   ]
  },
  {
   "cell_type": "code",
   "execution_count": null,
   "id": "a070a6d1",
   "metadata": {
    "pycharm": {
     "name": "#%%\n"
    }
   },
   "outputs": [],
   "source": [
    "parser.to_yaml_file(yaml_file_name = 'Run 1 - Stacking - BayesSearchCV.yaml')"
   ]
  },
  {
   "cell_type": "code",
   "execution_count": null,
   "id": "0d89ec9c",
   "metadata": {
    "pycharm": {
     "name": "#%%\n"
    }
   },
   "outputs": [],
   "source": [
    "parser = hlp.sklearn_eval.SearchCVParser.from_yaml_file(yaml_file_name = 'Run 1 - Stacking - BayesSearchCV.yaml')"
   ]
  },
  {
   "cell_type": "markdown",
   "id": "9a2876d0",
   "metadata": {},
   "source": [
    "## Timings"
   ]
  },
  {
   "cell_type": "code",
   "execution_count": null,
   "id": "2447d666",
   "metadata": {},
   "outputs": [],
   "source": [
    "parser.fit_time_averages"
   ]
  },
  {
   "cell_type": "markdown",
   "id": "352a2dd8",
   "metadata": {},
   "source": [
    "## Best Scores/Params"
   ]
  },
  {
   "cell_type": "code",
   "execution_count": null,
   "id": "31f0b98a",
   "metadata": {
    "pycharm": {
     "name": "#%%\n"
    }
   },
   "outputs": [],
   "source": [
    "parser.best_primary_score"
   ]
  },
  {
   "cell_type": "code",
   "execution_count": null,
   "id": "59c9c626",
   "metadata": {},
   "outputs": [],
   "source": [
    "parser.best_primary_score_params"
   ]
  },
  {
   "cell_type": "code",
   "execution_count": null,
   "id": "5d25ab96",
   "metadata": {
    "pycharm": {
     "name": "#%%\n"
    }
   },
   "outputs": [],
   "source": [
    "parser.to_formatted_dataframe()"
   ]
  },
  {
   "cell_type": "code",
   "execution_count": null,
   "id": "47ce70ff",
   "metadata": {},
   "outputs": [],
   "source": [
    "# gives the score rank for each index\n",
    "# e.g. array([4, 2, 1, 3)\n",
    "# the 1st iteration (i.e. set of params) was the worst\n",
    "# the 3rd iteration was the best.\n",
    "parser.primary_score_iteration_ranking"
   ]
  },
  {
   "cell_type": "code",
   "execution_count": null,
   "id": "c14d60dd",
   "metadata": {},
   "outputs": [],
   "source": [
    "# gives the \n",
    "# e.g. parser.primary_score_iteration_ranking of array([4, 2, 1, 3)\n",
    "# would return [2, 1, 4, 0] because index 2 (i.e. 3rd iteration) was the best, so it is the first index;\n",
    "# and index 0 (i.e. first iteration) was the was\n",
    "parser.primary_score_best_indexes"
   ]
  },
  {
   "cell_type": "code",
   "execution_count": null,
   "id": "85889c08",
   "metadata": {},
   "outputs": [],
   "source": [
    "score_df = parser.to_dataframe(sort_by_score=False)\n",
    "columns = score_df.columns.to_list()  # cache columns to move Iteration column to front\n",
    "score_df['Iteration'] = np.arange(1, parser.number_of_iterations + 1)\n",
    "score_df = score_df[['Iteration'] + columns]\n",
    "# create the labels that will be used in the plotly hover text\n",
    "score_df['labels'] = [x.replace('{', '<br>').replace(', ', '<br>').replace('}', '')\n",
    "                      for x in parser.iteration_labels(order_from_best_to_worst=False)]\n",
    "del columns\n",
    "\n",
    "score_variable = parser.primary_score_name + \" Mean\""
   ]
  },
  {
   "cell_type": "code",
   "execution_count": null,
   "id": "b429501c",
   "metadata": {},
   "outputs": [],
   "source": [
    "score_df.head(1)"
   ]
  },
  {
   "cell_type": "markdown",
   "id": "59fde126",
   "metadata": {},
   "source": [
    "## BayesSearchCV Performance Over Time"
   ]
  },
  {
   "cell_type": "code",
   "execution_count": null,
   "id": "c506473e",
   "metadata": {
    "pycharm": {
     "name": "#%%\n"
    },
    "scrolled": false
   },
   "outputs": [],
   "source": [
    "size_variable = 'learning_rate'\n",
    "color_variable = 'colsample_bytree'\n",
    "fig = px.scatter(\n",
    "    data_frame=score_df,\n",
    "    x='Iteration',\n",
    "    y=score_variable,\n",
    "    size=size_variable,\n",
    "    color=color_variable,\n",
    "    trendline='lowess',\n",
    "    labels={\n",
    "        score_variable: f\"Average Cross Validation Score ({parser.primary_score_name})\",\n",
    "    },\n",
    "    title=f\"Bayesian Performance Over Time<br>\" \\\n",
    "          f\"<sup>Size of point corresponds to '{size_variable}'</sup>\",\n",
    "    custom_data=['labels'],\n",
    "    height=600,\n",
    "    width=600*hlp.plot.GOLDEN_RATIO\n",
    ")\n",
    "fig.update_traces(\n",
    "    hovertemplate=\"<br>\".join([\n",
    "        \"Iteration: %{x}\",\n",
    "        score_variable + \": \" + \"%{y}\",\n",
    "        \"<br>Parameters: %{customdata[0]}\",\n",
    "    ])\n",
    ")\n",
    "fig.show()\n",
    "\n",
    "del size_variable\n",
    "del color_variable"
   ]
  },
  {
   "cell_type": "markdown",
   "id": "a6f5be61",
   "metadata": {},
   "source": [
    "---"
   ]
  },
  {
   "cell_type": "markdown",
   "id": "49f22c15",
   "metadata": {},
   "source": [
    "## Variable Performance Over Time"
   ]
  },
  {
   "cell_type": "code",
   "execution_count": null,
   "id": "205447b3",
   "metadata": {},
   "outputs": [],
   "source": [
    "score_df_long_numeric = pd.melt(score_df,\n",
    "                                id_vars=['Iteration', score_variable, 'labels'],\n",
    "                                value_vars=parser.numeric_parameters)\n",
    "#score_df_long_numeric.head(1)"
   ]
  },
  {
   "cell_type": "code",
   "execution_count": null,
   "id": "e100ea68",
   "metadata": {},
   "outputs": [],
   "source": [
    "color_variable = score_variable\n",
    "fig = px.scatter(\n",
    "    data_frame=score_df_long_numeric,\n",
    "    x='Iteration',\n",
    "    y='value',\n",
    "    color=color_variable,\n",
    "    facet_col='variable',\n",
    "    trendline='lowess',\n",
    "    labels={\n",
    "        'value': 'Parameter Value',\n",
    "    },\n",
    "    title=\"Variable Performance Over Time\",\n",
    "    custom_data=['labels', score_variable],\n",
    "    height=600,\n",
    "    width=600*hlp.plot.GOLDEN_RATIO\n",
    ")\n",
    "fig.update_traces(\n",
    "    hovertemplate=\"<br>\".join([\n",
    "        \"Iteration: %{x}\",\n",
    "        \"Parameter Value: %{y}\",\n",
    "        \"roc_auc Mean: %{customdata[1]}\",\n",
    "        \"<br>Parameters: %{customdata[0]}\",\n",
    "    ])\n",
    ")\n",
    "fig.update_yaxes(matches=None, showticklabels=True)\n",
    "fig.show()\n",
    "\n",
    "del color_variable"
   ]
  },
  {
   "cell_type": "markdown",
   "id": "c6159d18",
   "metadata": {},
   "source": [
    "---"
   ]
  },
  {
   "cell_type": "markdown",
   "id": "ee749684",
   "metadata": {},
   "source": [
    "## Variable Performance - Numeric"
   ]
  },
  {
   "cell_type": "code",
   "execution_count": null,
   "id": "c419d5c7",
   "metadata": {
    "scrolled": false
   },
   "outputs": [],
   "source": [
    "color_variable = score_variable\n",
    "fig = px.scatter(\n",
    "    data_frame=score_df_long_numeric,\n",
    "    x='value',\n",
    "    y=score_variable,\n",
    "    color=color_variable,\n",
    "    facet_col='variable',\n",
    "    facet_col_wrap=2,\n",
    "    trendline='lowess',\n",
    "    labels={\n",
    "#        score_variable: f\"Average Cross Validation Score ({parser.primary_score_name})\",\n",
    "        'value': 'Parameter Value',\n",
    "    },\n",
    "    title=\"Variable Performance<br><sup>Numeric Parameters</sup>\",\n",
    "    custom_data=['labels', score_variable],\n",
    "    height=1000,\n",
    "    width=1000*hlp.plot.GOLDEN_RATIO\n",
    ")\n",
    "fig.update_traces(\n",
    "    hovertemplate=\"<br>\".join([\n",
    "        \"Parameter Value: %{x}\",\n",
    "        \"roc_auc Mean: %{customdata[1]}\",\n",
    "        \"<br>Parameters: %{customdata[0]}\",\n",
    "    ])\n",
    ")\n",
    "fig.update_xaxes(matches=None, showticklabels=True)\n",
    "#fig.update_yaxes(matches=None, showticklabels=True)\n",
    "fig.show()\n",
    "\n",
    "del color_variable"
   ]
  },
  {
   "cell_type": "markdown",
   "id": "b8835e43",
   "metadata": {},
   "source": [
    "---"
   ]
  },
  {
   "cell_type": "markdown",
   "id": "030936ad",
   "metadata": {},
   "source": [
    "## Variable Performance - Non-Numeric\n",
    "\n",
    "**No non-numeric Variables**"
   ]
  },
  {
   "cell_type": "markdown",
   "id": "730f97ee",
   "metadata": {},
   "source": [
    "## Individual Variable Performance"
   ]
  },
  {
   "cell_type": "markdown",
   "id": "ec79358c",
   "metadata": {
    "pycharm": {
     "name": "#%% md\n"
    }
   },
   "source": [
    "---"
   ]
  },
  {
   "cell_type": "code",
   "execution_count": null,
   "id": "d02abaec",
   "metadata": {},
   "outputs": [],
   "source": [
    "x_variable = 'learning_rate'\n",
    "size_variable = 'colsample_bytree'\n",
    "#color_variable = 'scaler'\n",
    "fig = px.scatter(\n",
    "    data_frame=score_df,\n",
    "    x=x_variable,\n",
    "    y=score_variable,\n",
    "    size=size_variable,\n",
    "#    color=color_variable,\n",
    "    trendline='lowess',\n",
    "    labels={\n",
    "        score_variable: f\"Average Cross Validation Score ({parser.primary_score_name})\",\n",
    "    },\n",
    "    title=f\"<b>{x_variable}</b> - Performance<br>\" \\\n",
    "          f\"<sup>Size of point corresponds to '{size_variable}'</sup>\",\n",
    "    custom_data=['labels'],\n",
    "    height=600,\n",
    "    width=600*hlp.plot.GOLDEN_RATIO\n",
    ")\n",
    "fig.update_traces(\n",
    "    hovertemplate=\"<br>\".join([\n",
    "        \"Parameter Value: %{x}\",\n",
    "        score_variable + \": \" + \"%{y}\",\n",
    "        \"<br>Parameters: %{customdata[0]}\",\n",
    "    ])\n",
    ")\n",
    "fig.show()\n",
    "\n",
    "del x_variable\n",
    "del size_variable\n",
    "#del color_variable"
   ]
  },
  {
   "cell_type": "code",
   "execution_count": null,
   "id": "decf6670",
   "metadata": {},
   "outputs": [],
   "source": [
    "size_variable = score_variable\n",
    "\n",
    "from sklearn.preprocessing import MinMaxScaler\n",
    "scaled_size = MinMaxScaler().fit_transform(score_df[[size_variable]]).reshape(1, -1)\n",
    "scaled_size = scaled_size.tolist()[0]\n",
    "\n",
    "x_variable = 'learning_rate'\n",
    "y_variable = 'colsample_bytree'\n",
    "\n",
    "color_variable = score_variable\n",
    "fig = px.scatter(\n",
    "    data_frame=score_df,\n",
    "    x=x_variable,\n",
    "    y=y_variable,\n",
    "#    size=score_df[size_variable],\n",
    "    size=scaled_size,\n",
    "    color=color_variable,\n",
    "    trendline='lowess',\n",
    "#     labels={\n",
    "#         score_variable: f\"Average Cross Validation Score ({parser.primary_score_name})\",\n",
    "#     },\n",
    "    title=f\"Performance of <b>{x_variable}</b> vs <b>{y_variable}</b><br>\" \\\n",
    "          f\"<sup>color and size corresponds to `{score_variable}`</sup>\",\n",
    "    custom_data=['labels', score_variable],\n",
    "    height=600,\n",
    "    width=600*hlp.plot.GOLDEN_RATIO\n",
    ")\n",
    "fig.update_traces(\n",
    "    hovertemplate=\"<br>\".join([\n",
    "        x_variable + \": %{x}\",\n",
    "        y_variable + \": %{y}\",\n",
    "        score_variable + \": \" + \"%{customdata[1]}\",\n",
    "        \"<br>Parameters: %{customdata[0]}\",\n",
    "    ])\n",
    ")\n",
    "fig.show()\n",
    "\n",
    "del x_variable\n",
    "del size_variable\n",
    "del scaled_size\n",
    "del color_variable"
   ]
  },
  {
   "cell_type": "markdown",
   "id": "b09bd440",
   "metadata": {},
   "source": [
    "---"
   ]
  },
  {
   "cell_type": "markdown",
   "id": "3336ac9d",
   "metadata": {},
   "source": [
    "# Regression on `roc_auc Mean`"
   ]
  },
  {
   "cell_type": "code",
   "execution_count": null,
   "id": "9f1055d5",
   "metadata": {},
   "outputs": [],
   "source": [
    "score_variable"
   ]
  },
  {
   "cell_type": "code",
   "execution_count": null,
   "id": "ede3925a",
   "metadata": {},
   "outputs": [],
   "source": [
    "score_dataframe = parser.to_dataframe()\n",
    "score_dataframe = score_dataframe.drop(columns=[x for x in score_dataframe.columns\n",
    "                              if x not in [score_variable] + parser.parameter_names])\n",
    "score_dataframe.head()"
   ]
  },
  {
   "cell_type": "code",
   "execution_count": null,
   "id": "f072893d",
   "metadata": {
    "pycharm": {
     "name": "#%%\n"
    }
   },
   "outputs": [],
   "source": [
    "cleaned_column_names = [''.join(e for e in x.replace(' ', '_') if e == '_' or e.isalnum()) for x in score_dataframe.columns.tolist()]\n",
    "cleaned_column_names = dict(zip(score_dataframe.columns.tolist(), cleaned_column_names))\n",
    "cleaned_column_names"
   ]
  },
  {
   "cell_type": "code",
   "execution_count": null,
   "id": "8616e129",
   "metadata": {
    "pycharm": {
     "name": "#%%\n"
    }
   },
   "outputs": [],
   "source": [
    "score_dataframe = score_dataframe.rename(columns=cleaned_column_names)"
   ]
  },
  {
   "cell_type": "code",
   "execution_count": null,
   "id": "09de3afd",
   "metadata": {
    "pycharm": {
     "name": "#%%\n"
    }
   },
   "outputs": [],
   "source": [
    "import statsmodels.formula.api as smf\n",
    "\n",
    "y_column = 'roc_auc_Mean'\n",
    "X_columns = score_dataframe.columns.tolist()\n",
    "X_columns.remove(y_column)\n",
    "X_columns = hlp.string.collapse(X_columns, separate=\" + \", surround=\"\")\n",
    "\n",
    "formula = f\"{y_column} ~ {X_columns}\"\n",
    "print(formula)\n",
    "model = smf.ols(formula=formula, data = score_dataframe)\n",
    "results = model.fit()\n",
    "print(results.summary())"
   ]
  },
  {
   "cell_type": "code",
   "execution_count": null,
   "id": "d9791bf9",
   "metadata": {
    "pycharm": {
     "name": "#%%\n"
    }
   },
   "outputs": [],
   "source": [
    "from sklearn.preprocessing import StandardScaler\n",
    "from sklearn.compose import ColumnTransformer\n",
    "import pandas as pd\n",
    "\n",
    "scaler = StandardScaler()\n",
    "#scaler.fit_transform(bayes_search_df)\n",
    "\n",
    "numeric_columns = hlp.pandas.get_numeric_columns(score_dataframe)\n",
    "non_numeric_columns = hlp.pandas.get_non_numeric_columns(score_dataframe)\n",
    "\n",
    "print(numeric_columns)\n",
    "print(non_numeric_columns)\n",
    "\n",
    "numeric_pipeline = Pipeline([\n",
    "    ('scaling', StandardScaler()),\n",
    "])\n",
    "\n",
    "transformations_pipeline = ColumnTransformer([\n",
    "    ('numeric_pipeline', numeric_pipeline, numeric_columns),\n",
    "    ('non_numeric_pipeline', 'passthrough', non_numeric_columns)\n",
    "])\n",
    "\n",
    "score_dataframe_transformed = transformations_pipeline.fit_transform(score_dataframe)\n",
    "score_dataframe_transformed = pd.DataFrame(score_dataframe_transformed,\n",
    "                                           columns= numeric_columns + non_numeric_columns)\n",
    "score_dataframe_transformed.head()"
   ]
  },
  {
   "cell_type": "code",
   "execution_count": null,
   "id": "00e391b2",
   "metadata": {},
   "outputs": [],
   "source": [
    "score_dataframe_transformed['roc_auc_Mean'] = score_dataframe_transformed['roc_auc_Mean'].astype('float')\n",
    "score_dataframe_transformed['colsample_bytree'] = score_dataframe_transformed['colsample_bytree'].astype('float')\n",
    "score_dataframe_transformed['learning_rate'] = score_dataframe_transformed['learning_rate'].astype('float')\n",
    "score_dataframe_transformed['max_depth'] = score_dataframe_transformed['max_depth'].astype('float')\n",
    "score_dataframe_transformed['n_estimators'] = score_dataframe_transformed['n_estimators'].astype('float')\n",
    "score_dataframe_transformed['subsample'] = score_dataframe_transformed['subsample'].astype('float')"
   ]
  },
  {
   "cell_type": "code",
   "execution_count": null,
   "id": "5827f79b",
   "metadata": {},
   "outputs": [],
   "source": [
    "print(formula)\n",
    "model = smf.ols(formula=formula,\n",
    "                data = score_dataframe_transformed)\n",
    "results = model.fit()\n",
    "print(results.summary())"
   ]
  },
  {
   "cell_type": "code",
   "execution_count": null,
   "id": "bd528513",
   "metadata": {},
   "outputs": [],
   "source": [
    "coefficients = pd.DataFrame({\n",
    "    'feature': results.params.index,\n",
    "    'coefficient': results.params,\n",
    "    'p_value': results.pvalues,\n",
    "})\n",
    "coefficients = coefficients.query(\"feature != 'Intercept'\")\n",
    "coefficients['Stat Sig'] = coefficients['p_value'] <= 0.05\n",
    "coefficients"
   ]
  },
  {
   "cell_type": "code",
   "execution_count": null,
   "id": "c5122ec5",
   "metadata": {},
   "outputs": [],
   "source": [
    "score_variable"
   ]
  },
  {
   "cell_type": "code",
   "execution_count": null,
   "id": "ae59352b",
   "metadata": {},
   "outputs": [],
   "source": [
    "px.bar(\n",
    "    data_frame=coefficients.reindex(coefficients['coefficient'].abs().sort_values(ascending=True).index),\n",
    "    y='feature',\n",
    "    x='coefficient',\n",
    "    color='Stat Sig',\n",
    "    title=f\"Regression Coefficients of Hyper-parameters against '{score_variable}'\",\n",
    "    height=600,\n",
    "    width=600*hlp.plot.GOLDEN_RATIO\n",
    ")"
   ]
  },
  {
   "cell_type": "markdown",
   "id": "6d5b72e3",
   "metadata": {},
   "source": [
    "# Feature Importance\n",
    "\n",
    "https://scikit-learn.org/stable/auto_examples/ensemble/plot_forest_importances.html"
   ]
  },
  {
   "cell_type": "code",
   "execution_count": null,
   "id": "66a1cb40",
   "metadata": {},
   "outputs": [],
   "source": [
    "from sklearn.inspection import permutation_importance\n",
    "\n",
    "estimator = bayes_search.best_estimator_\n",
    "\n",
    "start_time = time.time()\n",
    "result = permutation_importance(\n",
    "    estimator, X_train, y_train, n_repeats=10, random_state=42, n_jobs=2\n",
    ")\n",
    "elapsed_time = time.time() - start_time\n",
    "print(f\"Elapsed time to compute the importances: {elapsed_time:.3f} seconds\")\n",
    "\n",
    "feature_names = X_train.columns.to_list()\n",
    "forest_importances = pd.Series(result.importances_mean, index=feature_names)\n",
    "forest_importances = forest_importances.sort_values(ascending=False)"
   ]
  },
  {
   "cell_type": "code",
   "execution_count": null,
   "id": "c04d3bcc",
   "metadata": {},
   "outputs": [],
   "source": [
    "import matplotlib.pyplot as plt\n",
    "fig, ax = plt.subplots()\n",
    "forest_importances.plot.bar(yerr=result.importances_std, ax=ax)\n",
    "ax.set_title(\"Feature importances using permutation on full model\")\n",
    "ax.set_ylabel(\"Mean accuracy decrease\")\n",
    "fig.set_size_inches(9, 6)\n",
    "fig.tight_layout()\n",
    "plt.show()"
   ]
  },
  {
   "cell_type": "code",
   "execution_count": null,
   "id": "f0d5aae0",
   "metadata": {},
   "outputs": [],
   "source": [
    "temp = X_train.copy()\n",
    "temp['default'] = y_train\n",
    "temp.groupby('foreign_worker').agg({'default': np.mean})"
   ]
  },
  {
   "cell_type": "code",
   "execution_count": null,
   "id": "6deac1de",
   "metadata": {},
   "outputs": [],
   "source": [
    "fig = px.box(\n",
    "    data_frame=temp,\n",
    "    y='age',\n",
    "    x='default',\n",
    "#    size=size_variable,\n",
    "#    color=color_variable,\n",
    "#    trendline='lowess',\n",
    "#     labels={\n",
    "#         score_variable: f\"Average Cross Validation Score ({parser.primary_score_name})\",\n",
    "#     },\n",
    "#     title=f\"<b>{x_variable}</b> - Performance<br>\" \\\n",
    "#           f\"<sup>Size of point corresponds to '{size_variable}'</sup>\",\n",
    "#     custom_data=['labels'],\n",
    "    height=600,\n",
    "    width=600*hlp.plot.GOLDEN_RATIO\n",
    ")\n",
    "fig.show()"
   ]
  },
  {
   "cell_type": "markdown",
   "id": "fb127277",
   "metadata": {},
   "source": [
    "NOTE: foreign worker seems like it should be important but is ranked last in feature importance."
   ]
  }
 ],
 "metadata": {
  "kernelspec": {
   "display_name": "Python 3 (ipykernel)",
   "language": "python",
   "name": "python3"
  },
  "language_info": {
   "codemirror_mode": {
    "name": "ipython",
    "version": 3
   },
   "file_extension": ".py",
   "mimetype": "text/x-python",
   "name": "python",
   "nbconvert_exporter": "python",
   "pygments_lexer": "ipython3",
   "version": "3.9.6"
  },
  "toc": {
   "base_numbering": 1,
   "nav_menu": {},
   "number_sections": false,
   "sideBar": true,
   "skip_h1_title": false,
   "title_cell": "Table of Contents",
   "title_sidebar": "Contents",
   "toc_cell": false,
   "toc_position": {
    "height": "calc(100% - 180px)",
    "left": "10px",
    "top": "150px",
    "width": "298px"
   },
   "toc_section_display": true,
   "toc_window_display": true
  }
 },
 "nbformat": 4,
 "nbformat_minor": 5
}
