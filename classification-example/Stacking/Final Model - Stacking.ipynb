{
 "cells": [
  {
   "cell_type": "code",
   "execution_count": 1,
   "id": "c5f3fe51",
   "metadata": {},
   "outputs": [],
   "source": [
    "import pickle\n",
    "import helpsk as hlp\n",
    "import matplotlib.pyplot as plt\n",
    "import pandas as pd\n",
    "import numpy as np\n",
    "from sklearn.datasets import fetch_openml\n",
    "import seaborn as sns\n",
    "\n",
    "from sklearn.pipeline import Pipeline\n",
    "from sklearn.preprocessing import StandardScaler, MinMaxScaler, OneHotEncoder  # , LabelEncoder\n",
    "from sklearn.impute import SimpleImputer\n",
    "from sklearn.model_selection import train_test_split\n",
    "# from sklearn.base import BaseEstimator, TransformerMixin\n",
    "\n",
    "%matplotlib inline"
   ]
  },
  {
   "cell_type": "markdown",
   "id": "8ff88fe0",
   "metadata": {},
   "source": [
    "# Load Data"
   ]
  },
  {
   "cell_type": "code",
   "execution_count": 2,
   "id": "bc8c3b94",
   "metadata": {},
   "outputs": [
    {
     "data": {
      "text/plain": [
       "{'colsample_bytree': 0.01,\n",
       " 'learning_rate': 0.06159811010986713,\n",
       " 'max_depth': 3,\n",
       " 'n_estimators': 50,\n",
       " 'subsample': 0.5}"
      ]
     },
     "execution_count": 2,
     "metadata": {},
     "output_type": "execute_result"
    }
   ],
   "source": [
    "parser = hlp.sklearn_eval.SearchCVParser.from_yaml_file(yaml_file_name = 'Run 1 - Stacking - BayesSearchCV.yaml')\n",
    "parser.best_primary_score_params"
   ]
  },
  {
   "cell_type": "code",
   "execution_count": 3,
   "id": "7511e37e",
   "metadata": {},
   "outputs": [
    {
     "name": "stdout",
     "output_type": "stream",
     "text": [
      "(800, 20)\n",
      "800\n",
      "(200, 20)\n",
      "200\n"
     ]
    }
   ],
   "source": [
    "with open('../X_train.pkl', 'rb') as handle:\n",
    "    X_train = pickle.load(handle)\n",
    "    print(X_train.shape)\n",
    "\n",
    "with open('../y_train.pkl', 'rb') as handle:\n",
    "    y_train = pickle.load(handle)\n",
    "    print(len(y_train))\n",
    "\n",
    "with open('../X_test.pkl', 'rb') as handle:\n",
    "    X_test = pickle.load(handle)\n",
    "    print(X_test.shape)\n",
    "\n",
    "with open('../y_test.pkl', 'rb') as handle:\n",
    "    y_test = pickle.load(handle)\n",
    "    print(len(y_test))"
   ]
  },
  {
   "cell_type": "code",
   "execution_count": 4,
   "id": "1e782cdf",
   "metadata": {},
   "outputs": [
    {
     "data": {
      "text/html": [
       "<div>\n",
       "<style scoped>\n",
       "    .dataframe tbody tr th:only-of-type {\n",
       "        vertical-align: middle;\n",
       "    }\n",
       "\n",
       "    .dataframe tbody tr th {\n",
       "        vertical-align: top;\n",
       "    }\n",
       "\n",
       "    .dataframe thead th {\n",
       "        text-align: right;\n",
       "    }\n",
       "</style>\n",
       "<table border=\"1\" class=\"dataframe\">\n",
       "  <thead>\n",
       "    <tr style=\"text-align: right;\">\n",
       "      <th></th>\n",
       "      <th>checking_status</th>\n",
       "      <th>duration</th>\n",
       "      <th>credit_history</th>\n",
       "      <th>purpose</th>\n",
       "      <th>credit_amount</th>\n",
       "      <th>savings_status</th>\n",
       "      <th>employment</th>\n",
       "      <th>installment_commitment</th>\n",
       "      <th>personal_status</th>\n",
       "      <th>other_parties</th>\n",
       "      <th>residence_since</th>\n",
       "      <th>property_magnitude</th>\n",
       "      <th>age</th>\n",
       "      <th>other_payment_plans</th>\n",
       "      <th>housing</th>\n",
       "      <th>existing_credits</th>\n",
       "      <th>job</th>\n",
       "      <th>num_dependents</th>\n",
       "      <th>own_telephone</th>\n",
       "      <th>foreign_worker</th>\n",
       "    </tr>\n",
       "  </thead>\n",
       "  <tbody>\n",
       "    <tr>\n",
       "      <th>29</th>\n",
       "      <td>NaN</td>\n",
       "      <td>NaN</td>\n",
       "      <td>delayed previously</td>\n",
       "      <td>business</td>\n",
       "      <td>0.0</td>\n",
       "      <td>&lt;100</td>\n",
       "      <td>&gt;=7</td>\n",
       "      <td>3.0</td>\n",
       "      <td>male single</td>\n",
       "      <td>none</td>\n",
       "      <td>4.0</td>\n",
       "      <td>no known property</td>\n",
       "      <td>63.0</td>\n",
       "      <td>none</td>\n",
       "      <td>own</td>\n",
       "      <td>2.0</td>\n",
       "      <td>skilled</td>\n",
       "      <td>1.0</td>\n",
       "      <td>yes</td>\n",
       "      <td>yes</td>\n",
       "    </tr>\n",
       "    <tr>\n",
       "      <th>535</th>\n",
       "      <td>&gt;=200</td>\n",
       "      <td>21.0</td>\n",
       "      <td>critical/other existing credit</td>\n",
       "      <td>education</td>\n",
       "      <td>2319.0</td>\n",
       "      <td>&lt;100</td>\n",
       "      <td>&lt;1</td>\n",
       "      <td>2.0</td>\n",
       "      <td>male div/sep</td>\n",
       "      <td>none</td>\n",
       "      <td>1.0</td>\n",
       "      <td>car</td>\n",
       "      <td>33.0</td>\n",
       "      <td>none</td>\n",
       "      <td>rent</td>\n",
       "      <td>1.0</td>\n",
       "      <td>skilled</td>\n",
       "      <td>1.0</td>\n",
       "      <td>none</td>\n",
       "      <td>yes</td>\n",
       "    </tr>\n",
       "    <tr>\n",
       "      <th>695</th>\n",
       "      <td>no checking</td>\n",
       "      <td>6.0</td>\n",
       "      <td>existing paid</td>\n",
       "      <td>used car</td>\n",
       "      <td>1236.0</td>\n",
       "      <td>500&lt;=X&lt;1000</td>\n",
       "      <td>1&lt;=X&lt;4</td>\n",
       "      <td>2.0</td>\n",
       "      <td>male single</td>\n",
       "      <td>none</td>\n",
       "      <td>4.0</td>\n",
       "      <td>life insurance</td>\n",
       "      <td>50.0</td>\n",
       "      <td>none</td>\n",
       "      <td>rent</td>\n",
       "      <td>1.0</td>\n",
       "      <td>skilled</td>\n",
       "      <td>1.0</td>\n",
       "      <td>none</td>\n",
       "      <td>yes</td>\n",
       "    </tr>\n",
       "    <tr>\n",
       "      <th>557</th>\n",
       "      <td>no checking</td>\n",
       "      <td>21.0</td>\n",
       "      <td>no credits/all paid</td>\n",
       "      <td>new car</td>\n",
       "      <td>5003.0</td>\n",
       "      <td>no known savings</td>\n",
       "      <td>1&lt;=X&lt;4</td>\n",
       "      <td>1.0</td>\n",
       "      <td>female div/dep/mar</td>\n",
       "      <td>none</td>\n",
       "      <td>4.0</td>\n",
       "      <td>life insurance</td>\n",
       "      <td>29.0</td>\n",
       "      <td>bank</td>\n",
       "      <td>own</td>\n",
       "      <td>2.0</td>\n",
       "      <td>skilled</td>\n",
       "      <td>1.0</td>\n",
       "      <td>yes</td>\n",
       "      <td>yes</td>\n",
       "    </tr>\n",
       "    <tr>\n",
       "      <th>836</th>\n",
       "      <td>no checking</td>\n",
       "      <td>12.0</td>\n",
       "      <td>existing paid</td>\n",
       "      <td>radio/tv</td>\n",
       "      <td>886.0</td>\n",
       "      <td>no known savings</td>\n",
       "      <td>1&lt;=X&lt;4</td>\n",
       "      <td>4.0</td>\n",
       "      <td>female div/dep/mar</td>\n",
       "      <td>none</td>\n",
       "      <td>2.0</td>\n",
       "      <td>car</td>\n",
       "      <td>21.0</td>\n",
       "      <td>none</td>\n",
       "      <td>own</td>\n",
       "      <td>1.0</td>\n",
       "      <td>skilled</td>\n",
       "      <td>1.0</td>\n",
       "      <td>none</td>\n",
       "      <td>yes</td>\n",
       "    </tr>\n",
       "  </tbody>\n",
       "</table>\n",
       "</div>"
      ],
      "text/plain": [
       "    checking_status  duration                  credit_history    purpose  \\\n",
       "29              NaN       NaN              delayed previously   business   \n",
       "535           >=200      21.0  critical/other existing credit  education   \n",
       "695     no checking       6.0                   existing paid   used car   \n",
       "557     no checking      21.0             no credits/all paid    new car   \n",
       "836     no checking      12.0                   existing paid   radio/tv   \n",
       "\n",
       "     credit_amount    savings_status employment  installment_commitment  \\\n",
       "29             0.0              <100        >=7                     3.0   \n",
       "535         2319.0              <100         <1                     2.0   \n",
       "695         1236.0       500<=X<1000     1<=X<4                     2.0   \n",
       "557         5003.0  no known savings     1<=X<4                     1.0   \n",
       "836          886.0  no known savings     1<=X<4                     4.0   \n",
       "\n",
       "        personal_status other_parties  residence_since property_magnitude  \\\n",
       "29          male single          none              4.0  no known property   \n",
       "535        male div/sep          none              1.0                car   \n",
       "695         male single          none              4.0     life insurance   \n",
       "557  female div/dep/mar          none              4.0     life insurance   \n",
       "836  female div/dep/mar          none              2.0                car   \n",
       "\n",
       "      age other_payment_plans housing  existing_credits      job  \\\n",
       "29   63.0                none     own               2.0  skilled   \n",
       "535  33.0                none    rent               1.0  skilled   \n",
       "695  50.0                none    rent               1.0  skilled   \n",
       "557  29.0                bank     own               2.0  skilled   \n",
       "836  21.0                none     own               1.0  skilled   \n",
       "\n",
       "     num_dependents own_telephone foreign_worker  \n",
       "29              1.0           yes            yes  \n",
       "535             1.0          none            yes  \n",
       "695             1.0          none            yes  \n",
       "557             1.0           yes            yes  \n",
       "836             1.0          none            yes  "
      ]
     },
     "execution_count": 4,
     "metadata": {},
     "output_type": "execute_result"
    }
   ],
   "source": [
    "X_train.head()"
   ]
  },
  {
   "cell_type": "code",
   "execution_count": 5,
   "id": "a9795b35",
   "metadata": {},
   "outputs": [
    {
     "data": {
      "text/plain": [
       "array([0, 0, 1, 0, 1, 0, 1, 0, 0, 1])"
      ]
     },
     "execution_count": 5,
     "metadata": {},
     "output_type": "execute_result"
    }
   ],
   "source": [
    "y_train[0:10]"
   ]
  },
  {
   "cell_type": "code",
   "execution_count": 6,
   "id": "4d20507c",
   "metadata": {},
   "outputs": [
    {
     "data": {
      "text/html": [
       "<div>\n",
       "<style scoped>\n",
       "    .dataframe tbody tr th:only-of-type {\n",
       "        vertical-align: middle;\n",
       "    }\n",
       "\n",
       "    .dataframe tbody tr th {\n",
       "        vertical-align: top;\n",
       "    }\n",
       "\n",
       "    .dataframe thead th {\n",
       "        text-align: right;\n",
       "    }\n",
       "</style>\n",
       "<table border=\"1\" class=\"dataframe\">\n",
       "  <thead>\n",
       "    <tr style=\"text-align: right;\">\n",
       "      <th></th>\n",
       "      <th>checking_status</th>\n",
       "      <th>duration</th>\n",
       "      <th>credit_history</th>\n",
       "      <th>purpose</th>\n",
       "      <th>credit_amount</th>\n",
       "      <th>savings_status</th>\n",
       "      <th>employment</th>\n",
       "      <th>installment_commitment</th>\n",
       "      <th>personal_status</th>\n",
       "      <th>other_parties</th>\n",
       "      <th>residence_since</th>\n",
       "      <th>property_magnitude</th>\n",
       "      <th>age</th>\n",
       "      <th>other_payment_plans</th>\n",
       "      <th>housing</th>\n",
       "      <th>existing_credits</th>\n",
       "      <th>job</th>\n",
       "      <th>num_dependents</th>\n",
       "      <th>own_telephone</th>\n",
       "      <th>foreign_worker</th>\n",
       "    </tr>\n",
       "  </thead>\n",
       "  <tbody>\n",
       "    <tr>\n",
       "      <th>521</th>\n",
       "      <td>&lt;0</td>\n",
       "      <td>18.0</td>\n",
       "      <td>existing paid</td>\n",
       "      <td>radio/tv</td>\n",
       "      <td>3190.0</td>\n",
       "      <td>&lt;100</td>\n",
       "      <td>1&lt;=X&lt;4</td>\n",
       "      <td>2.0</td>\n",
       "      <td>female div/dep/mar</td>\n",
       "      <td>none</td>\n",
       "      <td>2.0</td>\n",
       "      <td>real estate</td>\n",
       "      <td>24.0</td>\n",
       "      <td>none</td>\n",
       "      <td>own</td>\n",
       "      <td>1.0</td>\n",
       "      <td>skilled</td>\n",
       "      <td>1.0</td>\n",
       "      <td>none</td>\n",
       "      <td>yes</td>\n",
       "    </tr>\n",
       "    <tr>\n",
       "      <th>737</th>\n",
       "      <td>&lt;0</td>\n",
       "      <td>18.0</td>\n",
       "      <td>existing paid</td>\n",
       "      <td>new car</td>\n",
       "      <td>4380.0</td>\n",
       "      <td>100&lt;=X&lt;500</td>\n",
       "      <td>1&lt;=X&lt;4</td>\n",
       "      <td>3.0</td>\n",
       "      <td>male single</td>\n",
       "      <td>none</td>\n",
       "      <td>4.0</td>\n",
       "      <td>car</td>\n",
       "      <td>35.0</td>\n",
       "      <td>none</td>\n",
       "      <td>own</td>\n",
       "      <td>1.0</td>\n",
       "      <td>unskilled resident</td>\n",
       "      <td>2.0</td>\n",
       "      <td>yes</td>\n",
       "      <td>yes</td>\n",
       "    </tr>\n",
       "    <tr>\n",
       "      <th>740</th>\n",
       "      <td>&lt;0</td>\n",
       "      <td>24.0</td>\n",
       "      <td>all paid</td>\n",
       "      <td>new car</td>\n",
       "      <td>2325.0</td>\n",
       "      <td>100&lt;=X&lt;500</td>\n",
       "      <td>4&lt;=X&lt;7</td>\n",
       "      <td>2.0</td>\n",
       "      <td>male single</td>\n",
       "      <td>none</td>\n",
       "      <td>3.0</td>\n",
       "      <td>car</td>\n",
       "      <td>32.0</td>\n",
       "      <td>bank</td>\n",
       "      <td>own</td>\n",
       "      <td>1.0</td>\n",
       "      <td>skilled</td>\n",
       "      <td>1.0</td>\n",
       "      <td>none</td>\n",
       "      <td>yes</td>\n",
       "    </tr>\n",
       "    <tr>\n",
       "      <th>660</th>\n",
       "      <td>&gt;=200</td>\n",
       "      <td>12.0</td>\n",
       "      <td>existing paid</td>\n",
       "      <td>radio/tv</td>\n",
       "      <td>1297.0</td>\n",
       "      <td>&lt;100</td>\n",
       "      <td>1&lt;=X&lt;4</td>\n",
       "      <td>3.0</td>\n",
       "      <td>male mar/wid</td>\n",
       "      <td>none</td>\n",
       "      <td>4.0</td>\n",
       "      <td>real estate</td>\n",
       "      <td>23.0</td>\n",
       "      <td>none</td>\n",
       "      <td>rent</td>\n",
       "      <td>1.0</td>\n",
       "      <td>skilled</td>\n",
       "      <td>1.0</td>\n",
       "      <td>none</td>\n",
       "      <td>yes</td>\n",
       "    </tr>\n",
       "    <tr>\n",
       "      <th>411</th>\n",
       "      <td>no checking</td>\n",
       "      <td>33.0</td>\n",
       "      <td>critical/other existing credit</td>\n",
       "      <td>used car</td>\n",
       "      <td>7253.0</td>\n",
       "      <td>&lt;100</td>\n",
       "      <td>4&lt;=X&lt;7</td>\n",
       "      <td>3.0</td>\n",
       "      <td>male single</td>\n",
       "      <td>none</td>\n",
       "      <td>2.0</td>\n",
       "      <td>car</td>\n",
       "      <td>35.0</td>\n",
       "      <td>none</td>\n",
       "      <td>own</td>\n",
       "      <td>2.0</td>\n",
       "      <td>high qualif/self emp/mgmt</td>\n",
       "      <td>1.0</td>\n",
       "      <td>yes</td>\n",
       "      <td>yes</td>\n",
       "    </tr>\n",
       "  </tbody>\n",
       "</table>\n",
       "</div>"
      ],
      "text/plain": [
       "    checking_status  duration                  credit_history   purpose  \\\n",
       "521              <0      18.0                   existing paid  radio/tv   \n",
       "737              <0      18.0                   existing paid   new car   \n",
       "740              <0      24.0                        all paid   new car   \n",
       "660           >=200      12.0                   existing paid  radio/tv   \n",
       "411     no checking      33.0  critical/other existing credit  used car   \n",
       "\n",
       "     credit_amount savings_status employment  installment_commitment  \\\n",
       "521         3190.0           <100     1<=X<4                     2.0   \n",
       "737         4380.0     100<=X<500     1<=X<4                     3.0   \n",
       "740         2325.0     100<=X<500     4<=X<7                     2.0   \n",
       "660         1297.0           <100     1<=X<4                     3.0   \n",
       "411         7253.0           <100     4<=X<7                     3.0   \n",
       "\n",
       "        personal_status other_parties  residence_since property_magnitude  \\\n",
       "521  female div/dep/mar          none              2.0        real estate   \n",
       "737         male single          none              4.0                car   \n",
       "740         male single          none              3.0                car   \n",
       "660        male mar/wid          none              4.0        real estate   \n",
       "411         male single          none              2.0                car   \n",
       "\n",
       "      age other_payment_plans housing  existing_credits  \\\n",
       "521  24.0                none     own               1.0   \n",
       "737  35.0                none     own               1.0   \n",
       "740  32.0                bank     own               1.0   \n",
       "660  23.0                none    rent               1.0   \n",
       "411  35.0                none     own               2.0   \n",
       "\n",
       "                           job  num_dependents own_telephone foreign_worker  \n",
       "521                    skilled             1.0          none            yes  \n",
       "737         unskilled resident             2.0           yes            yes  \n",
       "740                    skilled             1.0          none            yes  \n",
       "660                    skilled             1.0          none            yes  \n",
       "411  high qualif/self emp/mgmt             1.0           yes            yes  "
      ]
     },
     "execution_count": 6,
     "metadata": {},
     "output_type": "execute_result"
    }
   ],
   "source": [
    "X_test.head()"
   ]
  },
  {
   "cell_type": "code",
   "execution_count": 7,
   "id": "c066c30a",
   "metadata": {},
   "outputs": [
    {
     "data": {
      "text/plain": [
       "array([0, 1, 1, 1, 1, 1, 1, 1, 1, 1])"
      ]
     },
     "execution_count": 7,
     "metadata": {},
     "output_type": "execute_result"
    }
   ],
   "source": [
    "y_test[0:10]"
   ]
  },
  {
   "cell_type": "markdown",
   "id": "1ca1d63a",
   "metadata": {},
   "source": [
    "# Training and Test Data"
   ]
  },
  {
   "cell_type": "code",
   "execution_count": 8,
   "id": "86f44647",
   "metadata": {},
   "outputs": [
    {
     "data": {
      "text/plain": [
       "array([0, 0, 1, 0, 1, 0, 1, 0, 0, 1])"
      ]
     },
     "execution_count": 8,
     "metadata": {},
     "output_type": "execute_result"
    }
   ],
   "source": [
    "y_train[0:10]"
   ]
  },
  {
   "cell_type": "code",
   "execution_count": 9,
   "id": "742c6bf1",
   "metadata": {},
   "outputs": [
    {
     "name": "stdout",
     "output_type": "stream",
     "text": [
      "['duration', 'credit_amount', 'installment_commitment', 'residence_since', 'age', 'existing_credits', 'num_dependents']\n",
      "['checking_status', 'credit_history', 'purpose', 'savings_status', 'employment', 'personal_status', 'other_parties', 'property_magnitude', 'other_payment_plans', 'housing', 'job', 'own_telephone', 'foreign_worker']\n"
     ]
    }
   ],
   "source": [
    "numeric_columns = hlp.pandas.get_numeric_columns(X_train)\n",
    "non_numeric_columns = hlp.pandas.get_non_numeric_columns(X_train)\n",
    "print(numeric_columns)\n",
    "print(non_numeric_columns)"
   ]
  },
  {
   "cell_type": "markdown",
   "id": "c215d60a",
   "metadata": {},
   "source": [
    "# Model"
   ]
  },
  {
   "cell_type": "code",
   "execution_count": 10,
   "id": "9546e64c",
   "metadata": {},
   "outputs": [
    {
     "data": {
      "text/plain": [
       "{'colsample_bytree': 0.01,\n",
       " 'learning_rate': 0.06159811010986713,\n",
       " 'max_depth': 3,\n",
       " 'n_estimators': 50,\n",
       " 'subsample': 0.5}"
      ]
     },
     "execution_count": 10,
     "metadata": {},
     "output_type": "execute_result"
    }
   ],
   "source": [
    "parser.best_primary_score_params"
   ]
  },
  {
   "cell_type": "code",
   "execution_count": 11,
   "id": "29b86589",
   "metadata": {},
   "outputs": [],
   "source": [
    "from sklearn.pipeline import make_pipeline\n",
    "from sklearn.compose import ColumnTransformer\n",
    "from sklearn.linear_model import LogisticRegression\n",
    "from sklearn.ensemble import RandomForestClassifier\n",
    "from xgboost import XGBClassifier\n",
    "\n",
    "logistic_estimator = make_pipeline(\n",
    "    ColumnTransformer([\n",
    "        (\n",
    "            'numeric',\n",
    "            make_pipeline(\n",
    "                SimpleImputer(strategy='mean'),\n",
    "#                 StandardScaler()\n",
    "            ),\n",
    "            numeric_columns\n",
    "        ),\n",
    "        (\n",
    "            'non_numeric',\n",
    "            make_pipeline(OneHotEncoder()),\n",
    "            non_numeric_columns\n",
    "        )\n",
    "    ]),\n",
    "    LogisticRegression(\n",
    "        C=0.21380623392192172,\n",
    "        solver='lbfgs',\n",
    "        max_iter=1000,\n",
    "        random_state=42\n",
    "    )\n",
    ")\n",
    "\n",
    "rf_estimator = make_pipeline(\n",
    "    ColumnTransformer([\n",
    "        (\n",
    "            'numeric',\n",
    "            make_pipeline(\n",
    "                SimpleImputer(strategy='mean'),\n",
    "                #StandardScaler()\n",
    "            ),\n",
    "            numeric_columns\n",
    "        ),\n",
    "        (\n",
    "            'non_numeric',\n",
    "            make_pipeline(hlp.sklearn_pipeline.CustomOrdinalEncoder()),\n",
    "            non_numeric_columns\n",
    "        )\n",
    "    ]),\n",
    "    RandomForestClassifier(\n",
    "        max_features=0.001,\n",
    "        n_estimators=2186,\n",
    "        random_state=42,\n",
    "    )\n",
    ")\n",
    "\n",
    "\n",
    "xgb_estimator = make_pipeline(\n",
    "    ColumnTransformer([\n",
    "        (\n",
    "            'numeric',\n",
    "            make_pipeline(\n",
    "                SimpleImputer(strategy='mean'),\n",
    "                StandardScaler()\n",
    "            ),\n",
    "            numeric_columns\n",
    "        ),\n",
    "        (\n",
    "            'non_numeric',\n",
    "            make_pipeline(hlp.sklearn_pipeline.CustomOrdinalEncoder()),\n",
    "            non_numeric_columns\n",
    "        )\n",
    "    ]),\n",
    "    XGBClassifier(\n",
    "        colsample_bytree=0.01,\n",
    "        learning_rate=0.06159811010986713,\n",
    "        max_depth=3,\n",
    "        n_estimators=50,\n",
    "        subsample=0.5,\n",
    "        random_state=42,\n",
    "        use_label_encoder=False,\n",
    "        eval_metric='logloss'\n",
    "    )\n",
    ")\n",
    "\n",
    "estimators = [\n",
    "    ('logistic', logistic_estimator),\n",
    "    ('rf', rf_estimator),\n",
    "    ('xgb', xgb_estimator),\n",
    "]\n",
    "\n",
    "from sklearn.ensemble import StackingClassifier\n",
    "stacking_model = StackingClassifier(estimators=estimators, final_estimator=LogisticRegression())"
   ]
  },
  {
   "cell_type": "code",
   "execution_count": 12,
   "id": "e2b75866",
   "metadata": {},
   "outputs": [],
   "source": [
    "#stacking_model.get_params()"
   ]
  },
  {
   "cell_type": "code",
   "execution_count": 13,
   "id": "e1e4704a",
   "metadata": {},
   "outputs": [
    {
     "data": {
      "text/plain": [
       "StackingClassifier(estimators=[('logistic',\n",
       "                                Pipeline(steps=[('columntransformer',\n",
       "                                                 ColumnTransformer(transformers=[('numeric',\n",
       "                                                                                  Pipeline(steps=[('simpleimputer',\n",
       "                                                                                                   SimpleImputer())]),\n",
       "                                                                                  ['duration',\n",
       "                                                                                   'credit_amount',\n",
       "                                                                                   'installment_commitment',\n",
       "                                                                                   'residence_since',\n",
       "                                                                                   'age',\n",
       "                                                                                   'existing_credits',\n",
       "                                                                                   'num_dependents']),\n",
       "                                                                                 ('non_numeric',\n",
       "                                                                                  Pipeline(steps=[('onehotencoder',\n",
       "                                                                                                   OneHotEncode...\n",
       "                                                               max_delta_step=None,\n",
       "                                                               max_depth=3,\n",
       "                                                               min_child_weight=None,\n",
       "                                                               missing=nan,\n",
       "                                                               monotone_constraints=None,\n",
       "                                                               n_estimators=50,\n",
       "                                                               n_jobs=None,\n",
       "                                                               num_parallel_tree=None,\n",
       "                                                               predictor=None,\n",
       "                                                               random_state=42,\n",
       "                                                               reg_alpha=None,\n",
       "                                                               reg_lambda=None,\n",
       "                                                               scale_pos_weight=None,\n",
       "                                                               subsample=0.5,\n",
       "                                                               tree_method=None,\n",
       "                                                               use_label_encoder=False,\n",
       "                                                               validate_parameters=None,\n",
       "                                                               verbosity=None))]))],\n",
       "                   final_estimator=LogisticRegression())"
      ]
     },
     "execution_count": 13,
     "metadata": {},
     "output_type": "execute_result"
    }
   ],
   "source": [
    "stacking_model.fit(X_train, y_train)"
   ]
  },
  {
   "cell_type": "code",
   "execution_count": 14,
   "id": "1870f6d1",
   "metadata": {},
   "outputs": [],
   "source": [
    "# fitted_pipeline.predict(X_test)\n",
    "# fitted_pipeline.predict_proba(X_test)\n",
    "# y_test"
   ]
  },
  {
   "cell_type": "markdown",
   "id": "c995ec2a",
   "metadata": {},
   "source": [
    "## Training Set Evaluation"
   ]
  },
  {
   "cell_type": "markdown",
   "id": "42753452",
   "metadata": {},
   "source": [
    "Understand the nature/degree of model overfitting by comparing to `Test Set Evaluation`"
   ]
  },
  {
   "cell_type": "code",
   "execution_count": 15,
   "id": "715baf29",
   "metadata": {},
   "outputs": [],
   "source": [
    "predicted_scores = stacking_model.predict_proba(X_train)[:, 1]"
   ]
  },
  {
   "cell_type": "code",
   "execution_count": 16,
   "id": "19cebd6f",
   "metadata": {},
   "outputs": [
    {
     "data": {
      "image/png": "[encoded data removed]",
      "text/plain": [
       "<Figure size 432x288 with 1 Axes>"
      ]
     },
     "metadata": {
      "needs_background": "light"
     },
     "output_type": "display_data"
    }
   ],
   "source": [
    "sns.histplot(predicted_scores)\n",
    "plt.tight_layout()"
   ]
  },
  {
   "cell_type": "code",
   "execution_count": 17,
   "id": "19afe1a7",
   "metadata": {},
   "outputs": [],
   "source": [
    "evaluator = hlp.sklearn_eval.TwoClassEvaluator(\n",
    "    actual_values=y_train,\n",
    "    predicted_scores=predicted_scores,\n",
    "    labels=('Bad', 'Good'),\n",
    "    score_threshold=0.5\n",
    ")"
   ]
  },
  {
   "cell_type": "code",
   "execution_count": 18,
   "id": "aa907fdc",
   "metadata": {
    "scrolled": true
   },
   "outputs": [
    {
     "data": {
      "text/html": [
       "<style type=\"text/css\">\n",
       "#T_d294e_row0_col0 {\n",
       "  width: 10em;\n",
       "  height: 80%;\n",
       "  background: linear-gradient(90deg,#1AAF54 99.9%, transparent 99.9%);\n",
       "}\n",
       "#T_d294e_row1_col0 {\n",
       "  width: 10em;\n",
       "  height: 80%;\n",
       "  background: linear-gradient(90deg,#1AAF54 99.8%, transparent 99.8%);\n",
       "}\n",
       "#T_d294e_row2_col0 {\n",
       "  width: 10em;\n",
       "  height: 80%;\n",
       "  background: linear-gradient(90deg,#1AAF54 87.6%, transparent 87.6%);\n",
       "}\n",
       "#T_d294e_row3_col0 {\n",
       "  width: 10em;\n",
       "  height: 80%;\n",
       "  background: linear-gradient(90deg,#1AAF54 12.4%, transparent 12.4%);\n",
       "  width: 10em;\n",
       "  height: 80%;\n",
       "  background: linear-gradient(90deg,#FF420E 12.4%, transparent 12.4%);\n",
       "}\n",
       "#T_d294e_row4_col0 {\n",
       "  width: 10em;\n",
       "  height: 80%;\n",
       "  background: linear-gradient(90deg,#1AAF54 0.2%, transparent 0.2%);\n",
       "  width: 10em;\n",
       "  height: 80%;\n",
       "  background: linear-gradient(90deg,#FF420E 0.2%, transparent 0.2%);\n",
       "}\n",
       "#T_d294e_row5_col0 {\n",
       "  width: 10em;\n",
       "  height: 80%;\n",
       "  background: linear-gradient(90deg,#1AAF54 94.9%, transparent 94.9%);\n",
       "}\n",
       "#T_d294e_row6_col0 {\n",
       "  width: 10em;\n",
       "  height: 80%;\n",
       "  background: linear-gradient(90deg,#1AAF54 99.5%, transparent 99.5%);\n",
       "}\n",
       "#T_d294e_row7_col0 {\n",
       "  width: 10em;\n",
       "  height: 80%;\n",
       "  background: linear-gradient(90deg,#1AAF54 97.3%, transparent 97.3%);\n",
       "}\n",
       "#T_d294e_row8_col0 {\n",
       "  width: 10em;\n",
       "  height: 80%;\n",
       "  background: linear-gradient(90deg,#1AAF54 96.1%, transparent 96.1%);\n",
       "  width: 10em;\n",
       "  height: 80%;\n",
       "  background: linear-gradient(90deg,#B4B7B9 96.1%, transparent 96.1%);\n",
       "}\n",
       "#T_d294e_row9_col0 {\n",
       "  width: 10em;\n",
       "  height: 80%;\n",
       "  background: linear-gradient(90deg,#1AAF54 3.9%, transparent 3.9%);\n",
       "  width: 10em;\n",
       "  height: 80%;\n",
       "  background: linear-gradient(90deg,#B4B7B9 3.9%, transparent 3.9%);\n",
       "}\n",
       "#T_d294e_row10_col0 {\n",
       "  width: 10em;\n",
       "  height: 80%;\n",
       "  background: linear-gradient(90deg,#1AAF54 69.9%, transparent 69.9%);\n",
       "  width: 10em;\n",
       "  height: 80%;\n",
       "  background: linear-gradient(90deg,#B4B7B9 69.9%, transparent 69.9%);\n",
       "}\n",
       "</style>\n",
       "<table id=\"T_d294e_\">\n",
       "  <thead>\n",
       "    <tr>\n",
       "      <th class=\"blank level0\" >&nbsp;</th>\n",
       "      <th class=\"col_heading level0 col0\" >Scores</th>\n",
       "      <th class=\"col_heading level0 col1\" >Details</th>\n",
       "    </tr>\n",
       "  </thead>\n",
       "  <tbody>\n",
       "    <tr>\n",
       "      <th id=\"T_d294e_level0_row0\" class=\"row_heading level0 row0\" >AUC</th>\n",
       "      <td id=\"T_d294e_row0_col0\" class=\"data row0 col0\" >0.999</td>\n",
       "      <td id=\"T_d294e_row0_col1\" class=\"data row0 col1\" >Area under the ROC curve (true pos. rate vs false pos. rate); ranges from 0.5 (purely random classifier) to 1.0 (perfect classifier)</td>\n",
       "    </tr>\n",
       "    <tr>\n",
       "      <th id=\"T_d294e_level0_row1\" class=\"row_heading level0 row1\" >True Positive Rate</th>\n",
       "      <td id=\"T_d294e_row1_col0\" class=\"data row1 col0\" >0.998</td>\n",
       "      <td id=\"T_d294e_row1_col1\" class=\"data row1 col1\" >99.8% of positive instances were correctly identified.; i.e. 558 \"Good\" labels were correctly identified out of 559 instances; a.k.a Sensitivity/Recall</td>\n",
       "    </tr>\n",
       "    <tr>\n",
       "      <th id=\"T_d294e_level0_row2\" class=\"row_heading level0 row2\" >True Negative Rate</th>\n",
       "      <td id=\"T_d294e_row2_col0\" class=\"data row2 col0\" >0.876</td>\n",
       "      <td id=\"T_d294e_row2_col1\" class=\"data row2 col1\" >87.6% of negative instances were correctly identified.; i.e. 211 \"Bad\" labels were correctly identified out of 241 instances</td>\n",
       "    </tr>\n",
       "    <tr>\n",
       "      <th id=\"T_d294e_level0_row3\" class=\"row_heading level0 row3\" >False Positive Rate</th>\n",
       "      <td id=\"T_d294e_row3_col0\" class=\"data row3 col0\" >0.124</td>\n",
       "      <td id=\"T_d294e_row3_col1\" class=\"data row3 col1\" >12.4% of negative instances were incorrectly identified as positive; i.e. 30 \"Bad\" labels were incorrectly identified as \"Good\", out of 241 instances</td>\n",
       "    </tr>\n",
       "    <tr>\n",
       "      <th id=\"T_d294e_level0_row4\" class=\"row_heading level0 row4\" >False Negative Rate</th>\n",
       "      <td id=\"T_d294e_row4_col0\" class=\"data row4 col0\" >0.002</td>\n",
       "      <td id=\"T_d294e_row4_col1\" class=\"data row4 col1\" >0.2% of positive instances were incorrectly identified as negative; i.e. 1 \"Good\" labels were incorrectly identified as \"Bad\", out of 559 instances</td>\n",
       "    </tr>\n",
       "    <tr>\n",
       "      <th id=\"T_d294e_level0_row5\" class=\"row_heading level0 row5\" >Positive Predictive Value</th>\n",
       "      <td id=\"T_d294e_row5_col0\" class=\"data row5 col0\" >0.949</td>\n",
       "      <td id=\"T_d294e_row5_col1\" class=\"data row5 col1\" >When the model claims an instance is positive, it is correct 94.9% of the time; i.e. out of the 588 times the model predicted \"Good\", it was correct 558 times; a.k.a precision</td>\n",
       "    </tr>\n",
       "    <tr>\n",
       "      <th id=\"T_d294e_level0_row6\" class=\"row_heading level0 row6\" >Negative Predictive Value</th>\n",
       "      <td id=\"T_d294e_row6_col0\" class=\"data row6 col0\" >0.995</td>\n",
       "      <td id=\"T_d294e_row6_col1\" class=\"data row6 col1\" >When the model claims an instance is negative, it is correct 99.5% of the time; i.e. out of the 212 times the model predicted \"Bad\", it was correct 211 times</td>\n",
       "    </tr>\n",
       "    <tr>\n",
       "      <th id=\"T_d294e_level0_row7\" class=\"row_heading level0 row7\" >F1 Score</th>\n",
       "      <td id=\"T_d294e_row7_col0\" class=\"data row7 col0\" >0.973</td>\n",
       "      <td id=\"T_d294e_row7_col1\" class=\"data row7 col1\" >The F1 score can be interpreted as a weighted average of the precision and recall, where an F1 score reaches its best value at 1 and worst score at 0.</td>\n",
       "    </tr>\n",
       "    <tr>\n",
       "      <th id=\"T_d294e_level0_row8\" class=\"row_heading level0 row8\" >Accuracy</th>\n",
       "      <td id=\"T_d294e_row8_col0\" class=\"data row8 col0\" >0.961</td>\n",
       "      <td id=\"T_d294e_row8_col1\" class=\"data row8 col1\" >96.1% of instances were correctly identified</td>\n",
       "    </tr>\n",
       "    <tr>\n",
       "      <th id=\"T_d294e_level0_row9\" class=\"row_heading level0 row9\" >Error Rate</th>\n",
       "      <td id=\"T_d294e_row9_col0\" class=\"data row9 col0\" >0.039</td>\n",
       "      <td id=\"T_d294e_row9_col1\" class=\"data row9 col1\" >3.9% of instances were incorrectly identified</td>\n",
       "    </tr>\n",
       "    <tr>\n",
       "      <th id=\"T_d294e_level0_row10\" class=\"row_heading level0 row10\" >% Positive</th>\n",
       "      <td id=\"T_d294e_row10_col0\" class=\"data row10 col0\" >0.699</td>\n",
       "      <td id=\"T_d294e_row10_col1\" class=\"data row10 col1\" >69.9% of the data are positive; i.e. out of 800 total observations; 559 are labeled as \"Good\"</td>\n",
       "    </tr>\n",
       "    <tr>\n",
       "      <th id=\"T_d294e_level0_row11\" class=\"row_heading level0 row11\" >Total Observations</th>\n",
       "      <td id=\"T_d294e_row11_col0\" class=\"data row11 col0\" >800</td>\n",
       "      <td id=\"T_d294e_row11_col1\" class=\"data row11 col1\" >There are 800 total observations; i.e. sample size</td>\n",
       "    </tr>\n",
       "  </tbody>\n",
       "</table>\n"
      ],
      "text/plain": [
       "<pandas.io.formats.style.Styler at 0x7fb2221fdee0>"
      ]
     },
     "execution_count": 18,
     "metadata": {},
     "output_type": "execute_result"
    }
   ],
   "source": [
    "evaluator.all_metrics_df(return_style=True, round_by=3)"
   ]
  },
  {
   "cell_type": "code",
   "execution_count": 19,
   "id": "bd7e99d7",
   "metadata": {
    "pycharm": {
     "name": "#%%\n"
    }
   },
   "outputs": [],
   "source": [
    "del predicted_scores"
   ]
  },
  {
   "cell_type": "markdown",
   "id": "99a47e94",
   "metadata": {},
   "source": [
    "## Test Set Evaluation"
   ]
  },
  {
   "cell_type": "code",
   "execution_count": 20,
   "id": "82b97c55",
   "metadata": {},
   "outputs": [],
   "source": [
    "predicted_scores = stacking_model.predict_proba(X_test)[:, 1]"
   ]
  },
  {
   "cell_type": "code",
   "execution_count": 21,
   "id": "61c68884",
   "metadata": {},
   "outputs": [
    {
     "data": {
      "text/plain": [
       "array([0.57709602, 0.58642826, 0.29163501, 0.68964467, 0.88938398,\n",
       "       0.70232064, 0.90311447, 0.55262488, 0.8869297 , 0.85137052])"
      ]
     },
     "execution_count": 21,
     "metadata": {},
     "output_type": "execute_result"
    }
   ],
   "source": [
    "predicted_scores[0:10]"
   ]
  },
  {
   "cell_type": "code",
   "execution_count": 22,
   "id": "648c23c9",
   "metadata": {},
   "outputs": [
    {
     "data": {
      "image/png": "[encoded data removed]",
      "text/plain": [
       "<Figure size 432x288 with 1 Axes>"
      ]
     },
     "metadata": {
      "needs_background": "light"
     },
     "output_type": "display_data"
    }
   ],
   "source": [
    "sns.histplot(predicted_scores)\n",
    "plt.tight_layout()"
   ]
  },
  {
   "cell_type": "code",
   "execution_count": 23,
   "id": "f6ce7733",
   "metadata": {
    "pycharm": {
     "name": "#%%\n"
    }
   },
   "outputs": [
    {
     "data": {
      "text/plain": [
       "0    Not Defaulted\n",
       "1        Defaulted\n",
       "2        Defaulted\n",
       "3        Defaulted\n",
       "4        Defaulted\n",
       "dtype: object"
      ]
     },
     "execution_count": 23,
     "metadata": {},
     "output_type": "execute_result"
    }
   ],
   "source": [
    "y_test_cat = pd.Series(y_test).replace({1: 'Defaulted', 0: 'Not Defaulted'})\n",
    "y_test_cat.head()"
   ]
  },
  {
   "cell_type": "code",
   "execution_count": 24,
   "id": "38f2c315",
   "metadata": {
    "pycharm": {
     "name": "#%%\n"
    }
   },
   "outputs": [
    {
     "data": {
      "image/png": "[encoded data removed]",
      "text/plain": [
       "<Figure size 720x360 with 2 Axes>"
      ]
     },
     "metadata": {
      "needs_background": "light"
     },
     "output_type": "display_data"
    }
   ],
   "source": [
    "axes = sns.displot(\n",
    "    pd.DataFrame({\n",
    "        'prediction': predicted_scores,\n",
    "        'actual': y_test_cat\n",
    "    }),\n",
    "    x='prediction',\n",
    "    col='actual'\n",
    ")\n",
    "for axis in axes.axes.flat:\n",
    "    axis.axvline(x=0.5, ymin=0, ymax=100, color='red')\n",
    "plt.tight_layout()"
   ]
  },
  {
   "cell_type": "code",
   "execution_count": 25,
   "id": "5d3b9658",
   "metadata": {
    "pycharm": {
     "name": "#%%\n"
    }
   },
   "outputs": [],
   "source": [
    "del y_test_cat\n",
    "del axes"
   ]
  },
  {
   "cell_type": "code",
   "execution_count": 26,
   "id": "4b64e733",
   "metadata": {},
   "outputs": [],
   "source": [
    "evaluator = hlp.sklearn_eval.TwoClassEvaluator(\n",
    "    actual_values=y_test,\n",
    "    predicted_scores=predicted_scores,\n",
    "    labels=('Bad', 'Good'),\n",
    "    score_threshold=0.5\n",
    ")"
   ]
  },
  {
   "cell_type": "code",
   "execution_count": 27,
   "id": "a17343a2",
   "metadata": {},
   "outputs": [
    {
     "data": {
      "image/png": "[encoded data removed]",
      "text/plain": [
       "<Figure size 432x288 with 2 Axes>"
      ]
     },
     "metadata": {
      "needs_background": "light"
     },
     "output_type": "display_data"
    }
   ],
   "source": [
    "evaluator.plot_confusion_matrix()"
   ]
  },
  {
   "cell_type": "code",
   "execution_count": 28,
   "id": "9516f3bb",
   "metadata": {},
   "outputs": [
    {
     "data": {
      "text/html": [
       "<style type=\"text/css\">\n",
       "#T_eba07_row0_col0 {\n",
       "  width: 10em;\n",
       "  height: 80%;\n",
       "  background: linear-gradient(90deg,#1AAF54 80.1%, transparent 80.1%);\n",
       "}\n",
       "#T_eba07_row1_col0 {\n",
       "  width: 10em;\n",
       "  height: 80%;\n",
       "  background: linear-gradient(90deg,#1AAF54 90.8%, transparent 90.8%);\n",
       "}\n",
       "#T_eba07_row2_col0 {\n",
       "  width: 10em;\n",
       "  height: 80%;\n",
       "  background: linear-gradient(90deg,#1AAF54 44.1%, transparent 44.1%);\n",
       "}\n",
       "#T_eba07_row3_col0 {\n",
       "  width: 10em;\n",
       "  height: 80%;\n",
       "  background: linear-gradient(90deg,#1AAF54 55.9%, transparent 55.9%);\n",
       "  width: 10em;\n",
       "  height: 80%;\n",
       "  background: linear-gradient(90deg,#FF420E 55.9%, transparent 55.9%);\n",
       "}\n",
       "#T_eba07_row4_col0 {\n",
       "  width: 10em;\n",
       "  height: 80%;\n",
       "  background: linear-gradient(90deg,#1AAF54 9.2%, transparent 9.2%);\n",
       "  width: 10em;\n",
       "  height: 80%;\n",
       "  background: linear-gradient(90deg,#FF420E 9.2%, transparent 9.2%);\n",
       "}\n",
       "#T_eba07_row5_col0 {\n",
       "  width: 10em;\n",
       "  height: 80%;\n",
       "  background: linear-gradient(90deg,#1AAF54 79.5%, transparent 79.5%);\n",
       "}\n",
       "#T_eba07_row6_col0 {\n",
       "  width: 10em;\n",
       "  height: 80%;\n",
       "  background: linear-gradient(90deg,#1AAF54 66.7%, transparent 66.7%);\n",
       "}\n",
       "#T_eba07_row7_col0 {\n",
       "  width: 10em;\n",
       "  height: 80%;\n",
       "  background: linear-gradient(90deg,#1AAF54 84.8%, transparent 84.8%);\n",
       "}\n",
       "#T_eba07_row8_col0 {\n",
       "  width: 10em;\n",
       "  height: 80%;\n",
       "  background: linear-gradient(90deg,#1AAF54 77.0%, transparent 77.0%);\n",
       "  width: 10em;\n",
       "  height: 80%;\n",
       "  background: linear-gradient(90deg,#B4B7B9 77.0%, transparent 77.0%);\n",
       "}\n",
       "#T_eba07_row9_col0 {\n",
       "  width: 10em;\n",
       "  height: 80%;\n",
       "  background: linear-gradient(90deg,#1AAF54 23.0%, transparent 23.0%);\n",
       "  width: 10em;\n",
       "  height: 80%;\n",
       "  background: linear-gradient(90deg,#B4B7B9 23.0%, transparent 23.0%);\n",
       "}\n",
       "#T_eba07_row10_col0 {\n",
       "  width: 10em;\n",
       "  height: 80%;\n",
       "  background: linear-gradient(90deg,#1AAF54 70.5%, transparent 70.5%);\n",
       "  width: 10em;\n",
       "  height: 80%;\n",
       "  background: linear-gradient(90deg,#B4B7B9 70.5%, transparent 70.5%);\n",
       "}\n",
       "</style>\n",
       "<table id=\"T_eba07_\">\n",
       "  <thead>\n",
       "    <tr>\n",
       "      <th class=\"blank level0\" >&nbsp;</th>\n",
       "      <th class=\"col_heading level0 col0\" >Scores</th>\n",
       "      <th class=\"col_heading level0 col1\" >Details</th>\n",
       "    </tr>\n",
       "  </thead>\n",
       "  <tbody>\n",
       "    <tr>\n",
       "      <th id=\"T_eba07_level0_row0\" class=\"row_heading level0 row0\" >AUC</th>\n",
       "      <td id=\"T_eba07_row0_col0\" class=\"data row0 col0\" >0.801</td>\n",
       "      <td id=\"T_eba07_row0_col1\" class=\"data row0 col1\" >Area under the ROC curve (true pos. rate vs false pos. rate); ranges from 0.5 (purely random classifier) to 1.0 (perfect classifier)</td>\n",
       "    </tr>\n",
       "    <tr>\n",
       "      <th id=\"T_eba07_level0_row1\" class=\"row_heading level0 row1\" >True Positive Rate</th>\n",
       "      <td id=\"T_eba07_row1_col0\" class=\"data row1 col0\" >0.908</td>\n",
       "      <td id=\"T_eba07_row1_col1\" class=\"data row1 col1\" >90.8% of positive instances were correctly identified.; i.e. 128 \"Good\" labels were correctly identified out of 141 instances; a.k.a Sensitivity/Recall</td>\n",
       "    </tr>\n",
       "    <tr>\n",
       "      <th id=\"T_eba07_level0_row2\" class=\"row_heading level0 row2\" >True Negative Rate</th>\n",
       "      <td id=\"T_eba07_row2_col0\" class=\"data row2 col0\" >0.441</td>\n",
       "      <td id=\"T_eba07_row2_col1\" class=\"data row2 col1\" >44.1% of negative instances were correctly identified.; i.e. 26 \"Bad\" labels were correctly identified out of 59 instances</td>\n",
       "    </tr>\n",
       "    <tr>\n",
       "      <th id=\"T_eba07_level0_row3\" class=\"row_heading level0 row3\" >False Positive Rate</th>\n",
       "      <td id=\"T_eba07_row3_col0\" class=\"data row3 col0\" >0.559</td>\n",
       "      <td id=\"T_eba07_row3_col1\" class=\"data row3 col1\" >55.9% of negative instances were incorrectly identified as positive; i.e. 33 \"Bad\" labels were incorrectly identified as \"Good\", out of 59 instances</td>\n",
       "    </tr>\n",
       "    <tr>\n",
       "      <th id=\"T_eba07_level0_row4\" class=\"row_heading level0 row4\" >False Negative Rate</th>\n",
       "      <td id=\"T_eba07_row4_col0\" class=\"data row4 col0\" >0.092</td>\n",
       "      <td id=\"T_eba07_row4_col1\" class=\"data row4 col1\" >9.2% of positive instances were incorrectly identified as negative; i.e. 13 \"Good\" labels were incorrectly identified as \"Bad\", out of 141 instances</td>\n",
       "    </tr>\n",
       "    <tr>\n",
       "      <th id=\"T_eba07_level0_row5\" class=\"row_heading level0 row5\" >Positive Predictive Value</th>\n",
       "      <td id=\"T_eba07_row5_col0\" class=\"data row5 col0\" >0.795</td>\n",
       "      <td id=\"T_eba07_row5_col1\" class=\"data row5 col1\" >When the model claims an instance is positive, it is correct 79.5% of the time; i.e. out of the 161 times the model predicted \"Good\", it was correct 128 times; a.k.a precision</td>\n",
       "    </tr>\n",
       "    <tr>\n",
       "      <th id=\"T_eba07_level0_row6\" class=\"row_heading level0 row6\" >Negative Predictive Value</th>\n",
       "      <td id=\"T_eba07_row6_col0\" class=\"data row6 col0\" >0.667</td>\n",
       "      <td id=\"T_eba07_row6_col1\" class=\"data row6 col1\" >When the model claims an instance is negative, it is correct 66.7% of the time; i.e. out of the 39 times the model predicted \"Bad\", it was correct 26 times</td>\n",
       "    </tr>\n",
       "    <tr>\n",
       "      <th id=\"T_eba07_level0_row7\" class=\"row_heading level0 row7\" >F1 Score</th>\n",
       "      <td id=\"T_eba07_row7_col0\" class=\"data row7 col0\" >0.848</td>\n",
       "      <td id=\"T_eba07_row7_col1\" class=\"data row7 col1\" >The F1 score can be interpreted as a weighted average of the precision and recall, where an F1 score reaches its best value at 1 and worst score at 0.</td>\n",
       "    </tr>\n",
       "    <tr>\n",
       "      <th id=\"T_eba07_level0_row8\" class=\"row_heading level0 row8\" >Accuracy</th>\n",
       "      <td id=\"T_eba07_row8_col0\" class=\"data row8 col0\" >0.770</td>\n",
       "      <td id=\"T_eba07_row8_col1\" class=\"data row8 col1\" >77.0% of instances were correctly identified</td>\n",
       "    </tr>\n",
       "    <tr>\n",
       "      <th id=\"T_eba07_level0_row9\" class=\"row_heading level0 row9\" >Error Rate</th>\n",
       "      <td id=\"T_eba07_row9_col0\" class=\"data row9 col0\" >0.230</td>\n",
       "      <td id=\"T_eba07_row9_col1\" class=\"data row9 col1\" >23.0% of instances were incorrectly identified</td>\n",
       "    </tr>\n",
       "    <tr>\n",
       "      <th id=\"T_eba07_level0_row10\" class=\"row_heading level0 row10\" >% Positive</th>\n",
       "      <td id=\"T_eba07_row10_col0\" class=\"data row10 col0\" >0.705</td>\n",
       "      <td id=\"T_eba07_row10_col1\" class=\"data row10 col1\" >70.5% of the data are positive; i.e. out of 200 total observations; 141 are labeled as \"Good\"</td>\n",
       "    </tr>\n",
       "    <tr>\n",
       "      <th id=\"T_eba07_level0_row11\" class=\"row_heading level0 row11\" >Total Observations</th>\n",
       "      <td id=\"T_eba07_row11_col0\" class=\"data row11 col0\" >200</td>\n",
       "      <td id=\"T_eba07_row11_col1\" class=\"data row11 col1\" >There are 200 total observations; i.e. sample size</td>\n",
       "    </tr>\n",
       "  </tbody>\n",
       "</table>\n"
      ],
      "text/plain": [
       "<pandas.io.formats.style.Styler at 0x7fb2301c0f70>"
      ]
     },
     "execution_count": 28,
     "metadata": {},
     "output_type": "execute_result"
    }
   ],
   "source": [
    "evaluator.all_metrics_df(return_style=True, round_by=3)"
   ]
  },
  {
   "cell_type": "markdown",
   "id": "09a3204d",
   "metadata": {},
   "source": [
    "Compare results against scores if we predicted all `Good`"
   ]
  },
  {
   "cell_type": "code",
   "execution_count": 29,
   "id": "59c27052",
   "metadata": {},
   "outputs": [],
   "source": [
    "dummy_predicted_scores = np.array([0.99] * len(predicted_scores))"
   ]
  },
  {
   "cell_type": "code",
   "execution_count": 30,
   "id": "f3278fdd",
   "metadata": {},
   "outputs": [
    {
     "data": {
      "text/html": [
       "<style type=\"text/css\">\n",
       "#T_d09b9_row0_col0 {\n",
       "  width: 10em;\n",
       "  height: 80%;\n",
       "  background: linear-gradient(90deg,#1AAF54 50.0%, transparent 50.0%);\n",
       "}\n",
       "#T_d09b9_row1_col0 {\n",
       "  width: 10em;\n",
       "  height: 80%;\n",
       "  background: linear-gradient(90deg,#1AAF54 100.0%, transparent 100.0%);\n",
       "}\n",
       "#T_d09b9_row2_col0, #T_d09b9_row6_col0 {\n",
       "  width: 10em;\n",
       "  height: 80%;\n",
       "}\n",
       "#T_d09b9_row3_col0 {\n",
       "  width: 10em;\n",
       "  height: 80%;\n",
       "  background: linear-gradient(90deg,#1AAF54 100.0%, transparent 100.0%);\n",
       "  width: 10em;\n",
       "  height: 80%;\n",
       "  background: linear-gradient(90deg,#FF420E 100.0%, transparent 100.0%);\n",
       "}\n",
       "#T_d09b9_row4_col0 {\n",
       "  width: 10em;\n",
       "  height: 80%;\n",
       "  width: 10em;\n",
       "  height: 80%;\n",
       "}\n",
       "#T_d09b9_row5_col0 {\n",
       "  width: 10em;\n",
       "  height: 80%;\n",
       "  background: linear-gradient(90deg,#1AAF54 70.5%, transparent 70.5%);\n",
       "}\n",
       "#T_d09b9_row7_col0 {\n",
       "  width: 10em;\n",
       "  height: 80%;\n",
       "  background: linear-gradient(90deg,#1AAF54 82.7%, transparent 82.7%);\n",
       "}\n",
       "#T_d09b9_row8_col0, #T_d09b9_row10_col0 {\n",
       "  width: 10em;\n",
       "  height: 80%;\n",
       "  background: linear-gradient(90deg,#1AAF54 70.5%, transparent 70.5%);\n",
       "  width: 10em;\n",
       "  height: 80%;\n",
       "  background: linear-gradient(90deg,#B4B7B9 70.5%, transparent 70.5%);\n",
       "}\n",
       "#T_d09b9_row9_col0 {\n",
       "  width: 10em;\n",
       "  height: 80%;\n",
       "  background: linear-gradient(90deg,#1AAF54 29.5%, transparent 29.5%);\n",
       "  width: 10em;\n",
       "  height: 80%;\n",
       "  background: linear-gradient(90deg,#B4B7B9 29.5%, transparent 29.5%);\n",
       "}\n",
       "</style>\n",
       "<table id=\"T_d09b9_\">\n",
       "  <thead>\n",
       "    <tr>\n",
       "      <th class=\"blank level0\" >&nbsp;</th>\n",
       "      <th class=\"col_heading level0 col0\" >Scores</th>\n",
       "      <th class=\"col_heading level0 col1\" >Details</th>\n",
       "    </tr>\n",
       "  </thead>\n",
       "  <tbody>\n",
       "    <tr>\n",
       "      <th id=\"T_d09b9_level0_row0\" class=\"row_heading level0 row0\" >AUC</th>\n",
       "      <td id=\"T_d09b9_row0_col0\" class=\"data row0 col0\" >0.500</td>\n",
       "      <td id=\"T_d09b9_row0_col1\" class=\"data row0 col1\" >Area under the ROC curve (true pos. rate vs false pos. rate); ranges from 0.5 (purely random classifier) to 1.0 (perfect classifier)</td>\n",
       "    </tr>\n",
       "    <tr>\n",
       "      <th id=\"T_d09b9_level0_row1\" class=\"row_heading level0 row1\" >True Positive Rate</th>\n",
       "      <td id=\"T_d09b9_row1_col0\" class=\"data row1 col0\" >1.000</td>\n",
       "      <td id=\"T_d09b9_row1_col1\" class=\"data row1 col1\" >100.0% of positive instances were correctly identified.; i.e. 141 \"Good\" labels were correctly identified out of 141 instances; a.k.a Sensitivity/Recall</td>\n",
       "    </tr>\n",
       "    <tr>\n",
       "      <th id=\"T_d09b9_level0_row2\" class=\"row_heading level0 row2\" >True Negative Rate</th>\n",
       "      <td id=\"T_d09b9_row2_col0\" class=\"data row2 col0\" >0.000</td>\n",
       "      <td id=\"T_d09b9_row2_col1\" class=\"data row2 col1\" >0.0% of negative instances were correctly identified.; i.e. 0 \"Bad\" labels were correctly identified out of 59 instances</td>\n",
       "    </tr>\n",
       "    <tr>\n",
       "      <th id=\"T_d09b9_level0_row3\" class=\"row_heading level0 row3\" >False Positive Rate</th>\n",
       "      <td id=\"T_d09b9_row3_col0\" class=\"data row3 col0\" >1.000</td>\n",
       "      <td id=\"T_d09b9_row3_col1\" class=\"data row3 col1\" >100.0% of negative instances were incorrectly identified as positive; i.e. 59 \"Bad\" labels were incorrectly identified as \"Good\", out of 59 instances</td>\n",
       "    </tr>\n",
       "    <tr>\n",
       "      <th id=\"T_d09b9_level0_row4\" class=\"row_heading level0 row4\" >False Negative Rate</th>\n",
       "      <td id=\"T_d09b9_row4_col0\" class=\"data row4 col0\" >0.000</td>\n",
       "      <td id=\"T_d09b9_row4_col1\" class=\"data row4 col1\" >0.0% of positive instances were incorrectly identified as negative; i.e. 0 \"Good\" labels were incorrectly identified as \"Bad\", out of 141 instances</td>\n",
       "    </tr>\n",
       "    <tr>\n",
       "      <th id=\"T_d09b9_level0_row5\" class=\"row_heading level0 row5\" >Positive Predictive Value</th>\n",
       "      <td id=\"T_d09b9_row5_col0\" class=\"data row5 col0\" >0.705</td>\n",
       "      <td id=\"T_d09b9_row5_col1\" class=\"data row5 col1\" >When the model claims an instance is positive, it is correct 70.5% of the time; i.e. out of the 200 times the model predicted \"Good\", it was correct 141 times; a.k.a precision</td>\n",
       "    </tr>\n",
       "    <tr>\n",
       "      <th id=\"T_d09b9_level0_row6\" class=\"row_heading level0 row6\" >Negative Predictive Value</th>\n",
       "      <td id=\"T_d09b9_row6_col0\" class=\"data row6 col0\" >0.000</td>\n",
       "      <td id=\"T_d09b9_row6_col1\" class=\"data row6 col1\" >When the model claims an instance is negative, it is correct 0.0% of the time; i.e. out of the 0 times the model predicted \"Bad\", it was correct 0 times</td>\n",
       "    </tr>\n",
       "    <tr>\n",
       "      <th id=\"T_d09b9_level0_row7\" class=\"row_heading level0 row7\" >F1 Score</th>\n",
       "      <td id=\"T_d09b9_row7_col0\" class=\"data row7 col0\" >0.827</td>\n",
       "      <td id=\"T_d09b9_row7_col1\" class=\"data row7 col1\" >The F1 score can be interpreted as a weighted average of the precision and recall, where an F1 score reaches its best value at 1 and worst score at 0.</td>\n",
       "    </tr>\n",
       "    <tr>\n",
       "      <th id=\"T_d09b9_level0_row8\" class=\"row_heading level0 row8\" >Accuracy</th>\n",
       "      <td id=\"T_d09b9_row8_col0\" class=\"data row8 col0\" >0.705</td>\n",
       "      <td id=\"T_d09b9_row8_col1\" class=\"data row8 col1\" >70.5% of instances were correctly identified</td>\n",
       "    </tr>\n",
       "    <tr>\n",
       "      <th id=\"T_d09b9_level0_row9\" class=\"row_heading level0 row9\" >Error Rate</th>\n",
       "      <td id=\"T_d09b9_row9_col0\" class=\"data row9 col0\" >0.295</td>\n",
       "      <td id=\"T_d09b9_row9_col1\" class=\"data row9 col1\" >29.5% of instances were incorrectly identified</td>\n",
       "    </tr>\n",
       "    <tr>\n",
       "      <th id=\"T_d09b9_level0_row10\" class=\"row_heading level0 row10\" >% Positive</th>\n",
       "      <td id=\"T_d09b9_row10_col0\" class=\"data row10 col0\" >0.705</td>\n",
       "      <td id=\"T_d09b9_row10_col1\" class=\"data row10 col1\" >70.5% of the data are positive; i.e. out of 200 total observations; 141 are labeled as \"Good\"</td>\n",
       "    </tr>\n",
       "    <tr>\n",
       "      <th id=\"T_d09b9_level0_row11\" class=\"row_heading level0 row11\" >Total Observations</th>\n",
       "      <td id=\"T_d09b9_row11_col0\" class=\"data row11 col0\" >200</td>\n",
       "      <td id=\"T_d09b9_row11_col1\" class=\"data row11 col1\" >There are 200 total observations; i.e. sample size</td>\n",
       "    </tr>\n",
       "  </tbody>\n",
       "</table>\n"
      ],
      "text/plain": [
       "<pandas.io.formats.style.Styler at 0x7fb21061b0d0>"
      ]
     },
     "execution_count": 30,
     "metadata": {},
     "output_type": "execute_result"
    }
   ],
   "source": [
    "dummy_eval = hlp.sklearn_eval.TwoClassEvaluator(\n",
    "    actual_values=y_test,\n",
    "    predicted_scores=dummy_predicted_scores,\n",
    "    labels=('Bad', 'Good'),\n",
    "    score_threshold=0.5\n",
    ")\n",
    "dummy_eval.all_metrics_df(return_style=True, round_by=3)"
   ]
  },
  {
   "cell_type": "code",
   "execution_count": 42,
   "id": "cc60bc2c",
   "metadata": {},
   "outputs": [
    {
     "data": {
      "application/vnd.plotly.v1+json": {
       "config": {
        "plotlyServerURL": "https://plot.ly"
       },
       "data": [
        {
         "hovertemplate": "False Positive Rate=%{x}<br>True Positive Rate=%{y}<extra></extra>",
         "legendgroup": "",
         "line": {
          "color": "#7A7A7A",
          "dash": "solid"
         },
         "marker": {
          "symbol": "circle"
         },
         "mode": "lines",
         "name": "",
         "orientation": "v",
         "showlegend": false,
         "type": "scatter",
         "x": [
          1,
          1,
          1,
          1,
          1,
          1,
          1,
          1,
          1,
          1,
          1,
          1,
          1,
          1,
          1,
          1,
          1,
          0.9830508474576272,
          0.9830508474576272,
          0.9661016949152542,
          0.9661016949152542,
          0.9322033898305084,
          0.9152542372881356,
          0.9152542372881356,
          0.8983050847457628,
          0.8983050847457628,
          0.8983050847457628,
          0.8983050847457628,
          0.8983050847457628,
          0.8983050847457628,
          0.8983050847457628,
          0.864406779661017,
          0.864406779661017,
          0.864406779661017,
          0.847457627118644,
          0.8305084745762712,
          0.8305084745762712,
          0.8305084745762712,
          0.8135593220338984,
          0.8135593220338984,
          0.7796610169491526,
          0.7627118644067796,
          0.7627118644067796,
          0.7627118644067796,
          0.7288135593220338,
          0.6779661016949152,
          0.6610169491525424,
          0.6271186440677966,
          0.6101694915254238,
          0.5932203389830508,
          0.559322033898305,
          0.559322033898305,
          0.5254237288135594,
          0.5084745762711864,
          0.4915254237288136,
          0.4745762711864407,
          0.4745762711864407,
          0.4745762711864407,
          0.4406779661016949,
          0.423728813559322,
          0.423728813559322,
          0.423728813559322,
          0.4067796610169492,
          0.3728813559322034,
          0.3559322033898305,
          0.3389830508474576,
          0.3220338983050847,
          0.288135593220339,
          0.288135593220339,
          0.2711864406779661,
          0.2542372881355932,
          0.22033898305084745,
          0.2033898305084746,
          0.2033898305084746,
          0.2033898305084746,
          0.2033898305084746,
          0.2033898305084746,
          0.2033898305084746,
          0.1864406779661017,
          0.1864406779661017,
          0.1694915254237288,
          0.15254237288135594,
          0.11864406779661017,
          0.1016949152542373,
          0.1016949152542373,
          0.05084745762711865,
          0.01694915254237288,
          0.01694915254237288,
          0.01694915254237288,
          0,
          0,
          0,
          0,
          0,
          0,
          0,
          0,
          0,
          0,
          0,
          0
         ],
         "xaxis": "x",
         "y": [
          1,
          1,
          1,
          1,
          1,
          1,
          1,
          1,
          1,
          1,
          1,
          1,
          1,
          1,
          1,
          1,
          1,
          1,
          1,
          1,
          1,
          1,
          1,
          1,
          1,
          1,
          1,
          1,
          1,
          1,
          0.9787234042553191,
          0.9716312056737588,
          0.9716312056737588,
          0.9716312056737588,
          0.9716312056737588,
          0.9645390070921985,
          0.9645390070921985,
          0.9645390070921985,
          0.9645390070921985,
          0.9645390070921985,
          0.9645390070921985,
          0.9645390070921985,
          0.9574468085106383,
          0.950354609929078,
          0.9432624113475178,
          0.9432624113475178,
          0.9361702127659575,
          0.9361702127659575,
          0.9148936170212766,
          0.9148936170212766,
          0.9078014184397163,
          0.900709219858156,
          0.900709219858156,
          0.8936170212765957,
          0.8936170212765957,
          0.8936170212765957,
          0.8865248226950354,
          0.8794326241134752,
          0.8794326241134752,
          0.8652482269503546,
          0.8581560283687943,
          0.8439716312056738,
          0.8439716312056738,
          0.8297872340425532,
          0.8156028368794326,
          0.7872340425531915,
          0.7801418439716312,
          0.7730496453900709,
          0.7659574468085106,
          0.7588652482269503,
          0.7446808510638298,
          0.7092198581560284,
          0.7021276595744681,
          0.7021276595744681,
          0.6808510638297872,
          0.6524822695035462,
          0.6453900709219859,
          0.6312056737588653,
          0.6028368794326241,
          0.5815602836879432,
          0.5319148936170213,
          0.524822695035461,
          0.48936170212765956,
          0.425531914893617,
          0.3900709219858156,
          0.3333333333333333,
          0.2765957446808511,
          0.2553191489361702,
          0.2198581560283688,
          0.1773049645390071,
          0.07801418439716312,
          0.03546099290780142,
          0.02127659574468085,
          0.0070921985815602835,
          0,
          0,
          0,
          0,
          0,
          0,
          0
         ],
         "yaxis": "y"
        },
        {
         "hovertemplate": "False Positive Rate=%{x}<br>True Positive Rate=%{y}<br>threshold=%{marker.color}<extra></extra>",
         "legendgroup": "",
         "marker": {
          "color": [
           0,
           0.01,
           0.02,
           0.03,
           0.04,
           0.05,
           0.06,
           0.07,
           0.08,
           0.09,
           0.1,
           0.11,
           0.12,
           0.13,
           0.14,
           0.15,
           0.16,
           0.17,
           0.18,
           0.19,
           0.2,
           0.21,
           0.22,
           0.23,
           0.24,
           0.25,
           0.26,
           0.27,
           0.28,
           0.29,
           0.3,
           0.31,
           0.32,
           0.33,
           0.34,
           0.35000000000000003,
           0.36,
           0.37,
           0.38,
           0.39,
           0.4,
           0.41000000000000003,
           0.42,
           0.43,
           0.44,
           0.45,
           0.46,
           0.47000000000000003,
           0.48,
           0.49,
           0.5,
           0.51,
           0.52,
           0.53,
           0.54,
           0.55,
           0.56,
           0.5700000000000001,
           0.58,
           0.59,
           0.6,
           0.61,
           0.62,
           0.63,
           0.64,
           0.65,
           0.66,
           0.67,
           0.68,
           0.6900000000000001,
           0.7000000000000001,
           0.71,
           0.72,
           0.73,
           0.74,
           0.75,
           0.76,
           0.77,
           0.78,
           0.79,
           0.8,
           0.81,
           0.8200000000000001,
           0.8300000000000001,
           0.84,
           0.85,
           0.86,
           0.87,
           0.88,
           0.89,
           0.9,
           0.91,
           0.92,
           0.93,
           0.9400000000000001,
           0.9500000000000001,
           0.96,
           0.97,
           0.98,
           0.99,
           1
          ],
          "coloraxis": "coloraxis",
          "symbol": "circle"
         },
         "mode": "markers",
         "name": "",
         "orientation": "v",
         "showlegend": false,
         "type": "scatter",
         "x": [
          1,
          1,
          1,
          1,
          1,
          1,
          1,
          1,
          1,
          1,
          1,
          1,
          1,
          1,
          1,
          1,
          1,
          0.9830508474576272,
          0.9830508474576272,
          0.9661016949152542,
          0.9661016949152542,
          0.9322033898305084,
          0.9152542372881356,
          0.9152542372881356,
          0.8983050847457628,
          0.8983050847457628,
          0.8983050847457628,
          0.8983050847457628,
          0.8983050847457628,
          0.8983050847457628,
          0.8983050847457628,
          0.864406779661017,
          0.864406779661017,
          0.864406779661017,
          0.847457627118644,
          0.8305084745762712,
          0.8305084745762712,
          0.8305084745762712,
          0.8135593220338984,
          0.8135593220338984,
          0.7796610169491526,
          0.7627118644067796,
          0.7627118644067796,
          0.7627118644067796,
          0.7288135593220338,
          0.6779661016949152,
          0.6610169491525424,
          0.6271186440677966,
          0.6101694915254238,
          0.5932203389830508,
          0.559322033898305,
          0.559322033898305,
          0.5254237288135594,
          0.5084745762711864,
          0.4915254237288136,
          0.4745762711864407,
          0.4745762711864407,
          0.4745762711864407,
          0.4406779661016949,
          0.423728813559322,
          0.423728813559322,
          0.423728813559322,
          0.4067796610169492,
          0.3728813559322034,
          0.3559322033898305,
          0.3389830508474576,
          0.3220338983050847,
          0.288135593220339,
          0.288135593220339,
          0.2711864406779661,
          0.2542372881355932,
          0.22033898305084745,
          0.2033898305084746,
          0.2033898305084746,
          0.2033898305084746,
          0.2033898305084746,
          0.2033898305084746,
          0.2033898305084746,
          0.1864406779661017,
          0.1864406779661017,
          0.1694915254237288,
          0.15254237288135594,
          0.11864406779661017,
          0.1016949152542373,
          0.1016949152542373,
          0.05084745762711865,
          0.01694915254237288,
          0.01694915254237288,
          0.01694915254237288,
          0,
          0,
          0,
          0,
          0,
          0,
          0,
          0,
          0,
          0,
          0,
          0
         ],
         "xaxis": "x",
         "y": [
          1,
          1,
          1,
          1,
          1,
          1,
          1,
          1,
          1,
          1,
          1,
          1,
          1,
          1,
          1,
          1,
          1,
          1,
          1,
          1,
          1,
          1,
          1,
          1,
          1,
          1,
          1,
          1,
          1,
          1,
          0.9787234042553191,
          0.9716312056737588,
          0.9716312056737588,
          0.9716312056737588,
          0.9716312056737588,
          0.9645390070921985,
          0.9645390070921985,
          0.9645390070921985,
          0.9645390070921985,
          0.9645390070921985,
          0.9645390070921985,
          0.9645390070921985,
          0.9574468085106383,
          0.950354609929078,
          0.9432624113475178,
          0.9432624113475178,
          0.9361702127659575,
          0.9361702127659575,
          0.9148936170212766,
          0.9148936170212766,
          0.9078014184397163,
          0.900709219858156,
          0.900709219858156,
          0.8936170212765957,
          0.8936170212765957,
          0.8936170212765957,
          0.8865248226950354,
          0.8794326241134752,
          0.8794326241134752,
          0.8652482269503546,
          0.8581560283687943,
          0.8439716312056738,
          0.8439716312056738,
          0.8297872340425532,
          0.8156028368794326,
          0.7872340425531915,
          0.7801418439716312,
          0.7730496453900709,
          0.7659574468085106,
          0.7588652482269503,
          0.7446808510638298,
          0.7092198581560284,
          0.7021276595744681,
          0.7021276595744681,
          0.6808510638297872,
          0.6524822695035462,
          0.6453900709219859,
          0.6312056737588653,
          0.6028368794326241,
          0.5815602836879432,
          0.5319148936170213,
          0.524822695035461,
          0.48936170212765956,
          0.425531914893617,
          0.3900709219858156,
          0.3333333333333333,
          0.2765957446808511,
          0.2553191489361702,
          0.2198581560283688,
          0.1773049645390071,
          0.07801418439716312,
          0.03546099290780142,
          0.02127659574468085,
          0.0070921985815602835,
          0,
          0,
          0,
          0,
          0,
          0,
          0
         ],
         "yaxis": "y"
        },
        {
         "hovertemplate": "False Positive Rate=%{x}<br>True Positive Rate=%{y}<br>size=%{marker.size}<extra></extra>",
         "legendgroup": "",
         "marker": {
          "color": "#636efa",
          "size": [
           2
          ],
          "sizemode": "area",
          "sizeref": 0.005,
          "symbol": "circle"
         },
         "mode": "markers",
         "name": "",
         "orientation": "v",
         "showlegend": false,
         "type": "scatter",
         "x": [
          0.559322033898305
         ],
         "xaxis": "x",
         "y": [
          0.9078014184397163
         ],
         "yaxis": "y"
        }
       ],
       "layout": {
        "height": 550,
        "legend": {
         "tracegroupgap": 0
        },
        "template": {
         "data": {
          "bar": [
           {
            "error_x": {
             "color": "#2a3f5f"
            },
            "error_y": {
             "color": "#2a3f5f"
            },
            "marker": {
             "line": {
              "color": "#E5ECF6",
              "width": 0.5
             },
             "pattern": {
              "fillmode": "overlay",
              "size": 10,
              "solidity": 0.2
             }
            },
            "type": "bar"
           }
          ],
          "barpolar": [
           {
            "marker": {
             "line": {
              "color": "#E5ECF6",
              "width": 0.5
             },
             "pattern": {
              "fillmode": "overlay",
              "size": 10,
              "solidity": 0.2
             }
            },
            "type": "barpolar"
           }
          ],
          "carpet": [
           {
            "aaxis": {
             "endlinecolor": "#2a3f5f",
             "gridcolor": "white",
             "linecolor": "white",
             "minorgridcolor": "white",
             "startlinecolor": "#2a3f5f"
            },
            "baxis": {
             "endlinecolor": "#2a3f5f",
             "gridcolor": "white",
             "linecolor": "white",
             "minorgridcolor": "white",
             "startlinecolor": "#2a3f5f"
            },
            "type": "carpet"
           }
          ],
          "choropleth": [
           {
            "colorbar": {
             "outlinewidth": 0,
             "ticks": ""
            },
            "type": "choropleth"
           }
          ],
          "contour": [
           {
            "colorbar": {
             "outlinewidth": 0,
             "ticks": ""
            },
            "colorscale": [
             [
              0,
              "#0d0887"
             ],
             [
              0.1111111111111111,
              "#46039f"
             ],
             [
              0.2222222222222222,
              "#7201a8"
             ],
             [
              0.3333333333333333,
              "#9c179e"
             ],
             [
              0.4444444444444444,
              "#bd3786"
             ],
             [
              0.5555555555555556,
              "#d8576b"
             ],
             [
              0.6666666666666666,
              "#ed7953"
             ],
             [
              0.7777777777777778,
              "#fb9f3a"
             ],
             [
              0.8888888888888888,
              "#fdca26"
             ],
             [
              1,
              "#f0f921"
             ]
            ],
            "type": "contour"
           }
          ],
          "contourcarpet": [
           {
            "colorbar": {
             "outlinewidth": 0,
             "ticks": ""
            },
            "type": "contourcarpet"
           }
          ],
          "heatmap": [
           {
            "colorbar": {
             "outlinewidth": 0,
             "ticks": ""
            },
            "colorscale": [
             [
              0,
              "#0d0887"
             ],
             [
              0.1111111111111111,
              "#46039f"
             ],
             [
              0.2222222222222222,
              "#7201a8"
             ],
             [
              0.3333333333333333,
              "#9c179e"
             ],
             [
              0.4444444444444444,
              "#bd3786"
             ],
             [
              0.5555555555555556,
              "#d8576b"
             ],
             [
              0.6666666666666666,
              "#ed7953"
             ],
             [
              0.7777777777777778,
              "#fb9f3a"
             ],
             [
              0.8888888888888888,
              "#fdca26"
             ],
             [
              1,
              "#f0f921"
             ]
            ],
            "type": "heatmap"
           }
          ],
          "heatmapgl": [
           {
            "colorbar": {
             "outlinewidth": 0,
             "ticks": ""
            },
            "colorscale": [
             [
              0,
              "#0d0887"
             ],
             [
              0.1111111111111111,
              "#46039f"
             ],
             [
              0.2222222222222222,
              "#7201a8"
             ],
             [
              0.3333333333333333,
              "#9c179e"
             ],
             [
              0.4444444444444444,
              "#bd3786"
             ],
             [
              0.5555555555555556,
              "#d8576b"
             ],
             [
              0.6666666666666666,
              "#ed7953"
             ],
             [
              0.7777777777777778,
              "#fb9f3a"
             ],
             [
              0.8888888888888888,
              "#fdca26"
             ],
             [
              1,
              "#f0f921"
             ]
            ],
            "type": "heatmapgl"
           }
          ],
          "histogram": [
           {
            "marker": {
             "pattern": {
              "fillmode": "overlay",
              "size": 10,
              "solidity": 0.2
             }
            },
            "type": "histogram"
           }
          ],
          "histogram2d": [
           {
            "colorbar": {
             "outlinewidth": 0,
             "ticks": ""
            },
            "colorscale": [
             [
              0,
              "#0d0887"
             ],
             [
              0.1111111111111111,
              "#46039f"
             ],
             [
              0.2222222222222222,
              "#7201a8"
             ],
             [
              0.3333333333333333,
              "#9c179e"
             ],
             [
              0.4444444444444444,
              "#bd3786"
             ],
             [
              0.5555555555555556,
              "#d8576b"
             ],
             [
              0.6666666666666666,
              "#ed7953"
             ],
             [
              0.7777777777777778,
              "#fb9f3a"
             ],
             [
              0.8888888888888888,
              "#fdca26"
             ],
             [
              1,
              "#f0f921"
             ]
            ],
            "type": "histogram2d"
           }
          ],
          "histogram2dcontour": [
           {
            "colorbar": {
             "outlinewidth": 0,
             "ticks": ""
            },
            "colorscale": [
             [
              0,
              "#0d0887"
             ],
             [
              0.1111111111111111,
              "#46039f"
             ],
             [
              0.2222222222222222,
              "#7201a8"
             ],
             [
              0.3333333333333333,
              "#9c179e"
             ],
             [
              0.4444444444444444,
              "#bd3786"
             ],
             [
              0.5555555555555556,
              "#d8576b"
             ],
             [
              0.6666666666666666,
              "#ed7953"
             ],
             [
              0.7777777777777778,
              "#fb9f3a"
             ],
             [
              0.8888888888888888,
              "#fdca26"
             ],
             [
              1,
              "#f0f921"
             ]
            ],
            "type": "histogram2dcontour"
           }
          ],
          "mesh3d": [
           {
            "colorbar": {
             "outlinewidth": 0,
             "ticks": ""
            },
            "type": "mesh3d"
           }
          ],
          "parcoords": [
           {
            "line": {
             "colorbar": {
              "outlinewidth": 0,
              "ticks": ""
             }
            },
            "type": "parcoords"
           }
          ],
          "pie": [
           {
            "automargin": true,
            "type": "pie"
           }
          ],
          "scatter": [
           {
            "marker": {
             "colorbar": {
              "outlinewidth": 0,
              "ticks": ""
             }
            },
            "type": "scatter"
           }
          ],
          "scatter3d": [
           {
            "line": {
             "colorbar": {
              "outlinewidth": 0,
              "ticks": ""
             }
            },
            "marker": {
             "colorbar": {
              "outlinewidth": 0,
              "ticks": ""
             }
            },
            "type": "scatter3d"
           }
          ],
          "scattercarpet": [
           {
            "marker": {
             "colorbar": {
              "outlinewidth": 0,
              "ticks": ""
             }
            },
            "type": "scattercarpet"
           }
          ],
          "scattergeo": [
           {
            "marker": {
             "colorbar": {
              "outlinewidth": 0,
              "ticks": ""
             }
            },
            "type": "scattergeo"
           }
          ],
          "scattergl": [
           {
            "marker": {
             "colorbar": {
              "outlinewidth": 0,
              "ticks": ""
             }
            },
            "type": "scattergl"
           }
          ],
          "scattermapbox": [
           {
            "marker": {
             "colorbar": {
              "outlinewidth": 0,
              "ticks": ""
             }
            },
            "type": "scattermapbox"
           }
          ],
          "scatterpolar": [
           {
            "marker": {
             "colorbar": {
              "outlinewidth": 0,
              "ticks": ""
             }
            },
            "type": "scatterpolar"
           }
          ],
          "scatterpolargl": [
           {
            "marker": {
             "colorbar": {
              "outlinewidth": 0,
              "ticks": ""
             }
            },
            "type": "scatterpolargl"
           }
          ],
          "scatterternary": [
           {
            "marker": {
             "colorbar": {
              "outlinewidth": 0,
              "ticks": ""
             }
            },
            "type": "scatterternary"
           }
          ],
          "surface": [
           {
            "colorbar": {
             "outlinewidth": 0,
             "ticks": ""
            },
            "colorscale": [
             [
              0,
              "#0d0887"
             ],
             [
              0.1111111111111111,
              "#46039f"
             ],
             [
              0.2222222222222222,
              "#7201a8"
             ],
             [
              0.3333333333333333,
              "#9c179e"
             ],
             [
              0.4444444444444444,
              "#bd3786"
             ],
             [
              0.5555555555555556,
              "#d8576b"
             ],
             [
              0.6666666666666666,
              "#ed7953"
             ],
             [
              0.7777777777777778,
              "#fb9f3a"
             ],
             [
              0.8888888888888888,
              "#fdca26"
             ],
             [
              1,
              "#f0f921"
             ]
            ],
            "type": "surface"
           }
          ],
          "table": [
           {
            "cells": {
             "fill": {
              "color": "#EBF0F8"
             },
             "line": {
              "color": "white"
             }
            },
            "header": {
             "fill": {
              "color": "#C8D4E3"
             },
             "line": {
              "color": "white"
             }
            },
            "type": "table"
           }
          ]
         },
         "layout": {
          "annotationdefaults": {
           "arrowcolor": "#2a3f5f",
           "arrowhead": 0,
           "arrowwidth": 1
          },
          "autotypenumbers": "strict",
          "coloraxis": {
           "colorbar": {
            "outlinewidth": 0,
            "ticks": ""
           }
          },
          "colorscale": {
           "diverging": [
            [
             0,
             "#8e0152"
            ],
            [
             0.1,
             "#c51b7d"
            ],
            [
             0.2,
             "#de77ae"
            ],
            [
             0.3,
             "#f1b6da"
            ],
            [
             0.4,
             "#fde0ef"
            ],
            [
             0.5,
             "#f7f7f7"
            ],
            [
             0.6,
             "#e6f5d0"
            ],
            [
             0.7,
             "#b8e186"
            ],
            [
             0.8,
             "#7fbc41"
            ],
            [
             0.9,
             "#4d9221"
            ],
            [
             1,
             "#276419"
            ]
           ],
           "sequential": [
            [
             0,
             "#0d0887"
            ],
            [
             0.1111111111111111,
             "#46039f"
            ],
            [
             0.2222222222222222,
             "#7201a8"
            ],
            [
             0.3333333333333333,
             "#9c179e"
            ],
            [
             0.4444444444444444,
             "#bd3786"
            ],
            [
             0.5555555555555556,
             "#d8576b"
            ],
            [
             0.6666666666666666,
             "#ed7953"
            ],
            [
             0.7777777777777778,
             "#fb9f3a"
            ],
            [
             0.8888888888888888,
             "#fdca26"
            ],
            [
             1,
             "#f0f921"
            ]
           ],
           "sequentialminus": [
            [
             0,
             "#0d0887"
            ],
            [
             0.1111111111111111,
             "#46039f"
            ],
            [
             0.2222222222222222,
             "#7201a8"
            ],
            [
             0.3333333333333333,
             "#9c179e"
            ],
            [
             0.4444444444444444,
             "#bd3786"
            ],
            [
             0.5555555555555556,
             "#d8576b"
            ],
            [
             0.6666666666666666,
             "#ed7953"
            ],
            [
             0.7777777777777778,
             "#fb9f3a"
            ],
            [
             0.8888888888888888,
             "#fdca26"
            ],
            [
             1,
             "#f0f921"
            ]
           ]
          },
          "colorway": [
           "#636efa",
           "#EF553B",
           "#00cc96",
           "#ab63fa",
           "#FFA15A",
           "#19d3f3",
           "#FF6692",
           "#B6E880",
           "#FF97FF",
           "#FECB52"
          ],
          "font": {
           "color": "#2a3f5f"
          },
          "geo": {
           "bgcolor": "white",
           "lakecolor": "white",
           "landcolor": "#E5ECF6",
           "showlakes": true,
           "showland": true,
           "subunitcolor": "white"
          },
          "hoverlabel": {
           "align": "left"
          },
          "hovermode": "closest",
          "mapbox": {
           "style": "light"
          },
          "paper_bgcolor": "white",
          "plot_bgcolor": "#E5ECF6",
          "polar": {
           "angularaxis": {
            "gridcolor": "white",
            "linecolor": "white",
            "ticks": ""
           },
           "bgcolor": "#E5ECF6",
           "radialaxis": {
            "gridcolor": "white",
            "linecolor": "white",
            "ticks": ""
           }
          },
          "scene": {
           "xaxis": {
            "backgroundcolor": "#E5ECF6",
            "gridcolor": "white",
            "gridwidth": 2,
            "linecolor": "white",
            "showbackground": true,
            "ticks": "",
            "zerolinecolor": "white"
           },
           "yaxis": {
            "backgroundcolor": "#E5ECF6",
            "gridcolor": "white",
            "gridwidth": 2,
            "linecolor": "white",
            "showbackground": true,
            "ticks": "",
            "zerolinecolor": "white"
           },
           "zaxis": {
            "backgroundcolor": "#E5ECF6",
            "gridcolor": "white",
            "gridwidth": 2,
            "linecolor": "white",
            "showbackground": true,
            "ticks": "",
            "zerolinecolor": "white"
           }
          },
          "shapedefaults": {
           "line": {
            "color": "#2a3f5f"
           }
          },
          "ternary": {
           "aaxis": {
            "gridcolor": "white",
            "linecolor": "white",
            "ticks": ""
           },
           "baxis": {
            "gridcolor": "white",
            "linecolor": "white",
            "ticks": ""
           },
           "bgcolor": "#E5ECF6",
           "caxis": {
            "gridcolor": "white",
            "linecolor": "white",
            "ticks": ""
           }
          },
          "title": {
           "x": 0.05
          },
          "xaxis": {
           "automargin": true,
           "gridcolor": "white",
           "linecolor": "white",
           "ticks": "",
           "title": {
            "standoff": 15
           },
           "zerolinecolor": "white",
           "zerolinewidth": 2
          },
          "yaxis": {
           "automargin": true,
           "gridcolor": "white",
           "linecolor": "white",
           "ticks": "",
           "title": {
            "standoff": 15
           },
           "zerolinecolor": "white",
           "zerolinewidth": 2
          }
         }
        },
        "title": {
         "text": "AUC: 0.801<br><sub>The threshold of 0.5 is indicated with a large point.</sub>"
        },
        "width": 889.9186938125,
        "xaxis": {
         "anchor": "y",
         "domain": [
          0,
          1
         ],
         "title": {
          "text": "False Positive Rate"
         }
        },
        "yaxis": {
         "anchor": "x",
         "domain": [
          0,
          1
         ],
         "title": {
          "text": "True Positive Rate"
         }
        }
       }
      },
      "text/html": [
       "<div>                            <div id=\"2a9bab2d-d495-452f-a5f2-ff6e8a346f47\" class=\"plotly-graph-div\" style=\"height:550px; width:889.9186938125px;\"></div>            <script type=\"text/javascript\">                require([\"plotly\"], function(Plotly) {                    window.PLOTLYENV=window.PLOTLYENV || {};                                    if (document.getElementById(\"2a9bab2d-d495-452f-a5f2-ff6e8a346f47\")) {                    Plotly.newPlot(                        \"2a9bab2d-d495-452f-a5f2-ff6e8a346f47\",                        [{\"hovertemplate\":\"False Positive Rate=%{x}<br>True Positive Rate=%{y}<extra></extra>\",\"legendgroup\":\"\",\"line\":{\"color\":\"#7A7A7A\",\"dash\":\"solid\"},\"marker\":{\"symbol\":\"circle\"},\"mode\":\"lines\",\"name\":\"\",\"orientation\":\"v\",\"showlegend\":false,\"x\":[1.0,1.0,1.0,1.0,1.0,1.0,1.0,1.0,1.0,1.0,1.0,1.0,1.0,1.0,1.0,1.0,1.0,0.9830508474576272,0.9830508474576272,0.9661016949152542,0.9661016949152542,0.9322033898305084,0.9152542372881356,0.9152542372881356,0.8983050847457628,0.8983050847457628,0.8983050847457628,0.8983050847457628,0.8983050847457628,0.8983050847457628,0.8983050847457628,0.864406779661017,0.864406779661017,0.864406779661017,0.847457627118644,0.8305084745762712,0.8305084745762712,0.8305084745762712,0.8135593220338984,0.8135593220338984,0.7796610169491526,0.7627118644067796,0.7627118644067796,0.7627118644067796,0.7288135593220338,0.6779661016949152,0.6610169491525424,0.6271186440677966,0.6101694915254238,0.5932203389830508,0.559322033898305,0.559322033898305,0.5254237288135594,0.5084745762711864,0.4915254237288136,0.4745762711864407,0.4745762711864407,0.4745762711864407,0.4406779661016949,0.423728813559322,0.423728813559322,0.423728813559322,0.4067796610169492,0.3728813559322034,0.3559322033898305,0.3389830508474576,0.3220338983050847,0.288135593220339,0.288135593220339,0.2711864406779661,0.2542372881355932,0.22033898305084745,0.2033898305084746,0.2033898305084746,0.2033898305084746,0.2033898305084746,0.2033898305084746,0.2033898305084746,0.1864406779661017,0.1864406779661017,0.1694915254237288,0.15254237288135594,0.11864406779661017,0.1016949152542373,0.1016949152542373,0.05084745762711865,0.01694915254237288,0.01694915254237288,0.01694915254237288,0.0,0.0,0.0,0.0,0.0,0.0,0.0,0.0,0.0,0.0,0.0,0.0],\"xaxis\":\"x\",\"y\":[1.0,1.0,1.0,1.0,1.0,1.0,1.0,1.0,1.0,1.0,1.0,1.0,1.0,1.0,1.0,1.0,1.0,1.0,1.0,1.0,1.0,1.0,1.0,1.0,1.0,1.0,1.0,1.0,1.0,1.0,0.9787234042553191,0.9716312056737588,0.9716312056737588,0.9716312056737588,0.9716312056737588,0.9645390070921985,0.9645390070921985,0.9645390070921985,0.9645390070921985,0.9645390070921985,0.9645390070921985,0.9645390070921985,0.9574468085106383,0.950354609929078,0.9432624113475178,0.9432624113475178,0.9361702127659575,0.9361702127659575,0.9148936170212766,0.9148936170212766,0.9078014184397163,0.900709219858156,0.900709219858156,0.8936170212765957,0.8936170212765957,0.8936170212765957,0.8865248226950354,0.8794326241134752,0.8794326241134752,0.8652482269503546,0.8581560283687943,0.8439716312056738,0.8439716312056738,0.8297872340425532,0.8156028368794326,0.7872340425531915,0.7801418439716312,0.7730496453900709,0.7659574468085106,0.7588652482269503,0.7446808510638298,0.7092198581560284,0.7021276595744681,0.7021276595744681,0.6808510638297872,0.6524822695035462,0.6453900709219859,0.6312056737588653,0.6028368794326241,0.5815602836879432,0.5319148936170213,0.524822695035461,0.48936170212765956,0.425531914893617,0.3900709219858156,0.3333333333333333,0.2765957446808511,0.2553191489361702,0.2198581560283688,0.1773049645390071,0.07801418439716312,0.03546099290780142,0.02127659574468085,0.0070921985815602835,0.0,0.0,0.0,0.0,0.0,0.0,0.0],\"yaxis\":\"y\",\"type\":\"scatter\"},{\"hovertemplate\":\"False Positive Rate=%{x}<br>True Positive Rate=%{y}<br>threshold=%{marker.color}<extra></extra>\",\"legendgroup\":\"\",\"marker\":{\"color\":[0.0,0.01,0.02,0.03,0.04,0.05,0.06,0.07,0.08,0.09,0.1,0.11,0.12,0.13,0.14,0.15,0.16,0.17,0.18,0.19,0.2,0.21,0.22,0.23,0.24,0.25,0.26,0.27,0.28,0.29,0.3,0.31,0.32,0.33,0.34,0.35000000000000003,0.36,0.37,0.38,0.39,0.4,0.41000000000000003,0.42,0.43,0.44,0.45,0.46,0.47000000000000003,0.48,0.49,0.5,0.51,0.52,0.53,0.54,0.55,0.56,0.5700000000000001,0.58,0.59,0.6,0.61,0.62,0.63,0.64,0.65,0.66,0.67,0.68,0.6900000000000001,0.7000000000000001,0.71,0.72,0.73,0.74,0.75,0.76,0.77,0.78,0.79,0.8,0.81,0.8200000000000001,0.8300000000000001,0.84,0.85,0.86,0.87,0.88,0.89,0.9,0.91,0.92,0.93,0.9400000000000001,0.9500000000000001,0.96,0.97,0.98,0.99,1.0],\"coloraxis\":\"coloraxis\",\"symbol\":\"circle\"},\"mode\":\"markers\",\"name\":\"\",\"orientation\":\"v\",\"showlegend\":false,\"x\":[1.0,1.0,1.0,1.0,1.0,1.0,1.0,1.0,1.0,1.0,1.0,1.0,1.0,1.0,1.0,1.0,1.0,0.9830508474576272,0.9830508474576272,0.9661016949152542,0.9661016949152542,0.9322033898305084,0.9152542372881356,0.9152542372881356,0.8983050847457628,0.8983050847457628,0.8983050847457628,0.8983050847457628,0.8983050847457628,0.8983050847457628,0.8983050847457628,0.864406779661017,0.864406779661017,0.864406779661017,0.847457627118644,0.8305084745762712,0.8305084745762712,0.8305084745762712,0.8135593220338984,0.8135593220338984,0.7796610169491526,0.7627118644067796,0.7627118644067796,0.7627118644067796,0.7288135593220338,0.6779661016949152,0.6610169491525424,0.6271186440677966,0.6101694915254238,0.5932203389830508,0.559322033898305,0.559322033898305,0.5254237288135594,0.5084745762711864,0.4915254237288136,0.4745762711864407,0.4745762711864407,0.4745762711864407,0.4406779661016949,0.423728813559322,0.423728813559322,0.423728813559322,0.4067796610169492,0.3728813559322034,0.3559322033898305,0.3389830508474576,0.3220338983050847,0.288135593220339,0.288135593220339,0.2711864406779661,0.2542372881355932,0.22033898305084745,0.2033898305084746,0.2033898305084746,0.2033898305084746,0.2033898305084746,0.2033898305084746,0.2033898305084746,0.1864406779661017,0.1864406779661017,0.1694915254237288,0.15254237288135594,0.11864406779661017,0.1016949152542373,0.1016949152542373,0.05084745762711865,0.01694915254237288,0.01694915254237288,0.01694915254237288,0.0,0.0,0.0,0.0,0.0,0.0,0.0,0.0,0.0,0.0,0.0,0.0],\"xaxis\":\"x\",\"y\":[1.0,1.0,1.0,1.0,1.0,1.0,1.0,1.0,1.0,1.0,1.0,1.0,1.0,1.0,1.0,1.0,1.0,1.0,1.0,1.0,1.0,1.0,1.0,1.0,1.0,1.0,1.0,1.0,1.0,1.0,0.9787234042553191,0.9716312056737588,0.9716312056737588,0.9716312056737588,0.9716312056737588,0.9645390070921985,0.9645390070921985,0.9645390070921985,0.9645390070921985,0.9645390070921985,0.9645390070921985,0.9645390070921985,0.9574468085106383,0.950354609929078,0.9432624113475178,0.9432624113475178,0.9361702127659575,0.9361702127659575,0.9148936170212766,0.9148936170212766,0.9078014184397163,0.900709219858156,0.900709219858156,0.8936170212765957,0.8936170212765957,0.8936170212765957,0.8865248226950354,0.8794326241134752,0.8794326241134752,0.8652482269503546,0.8581560283687943,0.8439716312056738,0.8439716312056738,0.8297872340425532,0.8156028368794326,0.7872340425531915,0.7801418439716312,0.7730496453900709,0.7659574468085106,0.7588652482269503,0.7446808510638298,0.7092198581560284,0.7021276595744681,0.7021276595744681,0.6808510638297872,0.6524822695035462,0.6453900709219859,0.6312056737588653,0.6028368794326241,0.5815602836879432,0.5319148936170213,0.524822695035461,0.48936170212765956,0.425531914893617,0.3900709219858156,0.3333333333333333,0.2765957446808511,0.2553191489361702,0.2198581560283688,0.1773049645390071,0.07801418439716312,0.03546099290780142,0.02127659574468085,0.0070921985815602835,0.0,0.0,0.0,0.0,0.0,0.0,0.0],\"yaxis\":\"y\",\"type\":\"scatter\"},{\"hovertemplate\":\"False Positive Rate=%{x}<br>True Positive Rate=%{y}<br>size=%{marker.size}<extra></extra>\",\"legendgroup\":\"\",\"marker\":{\"color\":\"#636efa\",\"size\":[2],\"sizemode\":\"area\",\"sizeref\":0.005,\"symbol\":\"circle\"},\"mode\":\"markers\",\"name\":\"\",\"orientation\":\"v\",\"showlegend\":false,\"x\":[0.559322033898305],\"xaxis\":\"x\",\"y\":[0.9078014184397163],\"yaxis\":\"y\",\"type\":\"scatter\"}],                        {\"template\":{\"data\":{\"bar\":[{\"error_x\":{\"color\":\"#2a3f5f\"},\"error_y\":{\"color\":\"#2a3f5f\"},\"marker\":{\"line\":{\"color\":\"#E5ECF6\",\"width\":0.5},\"pattern\":{\"fillmode\":\"overlay\",\"size\":10,\"solidity\":0.2}},\"type\":\"bar\"}],\"barpolar\":[{\"marker\":{\"line\":{\"color\":\"#E5ECF6\",\"width\":0.5},\"pattern\":{\"fillmode\":\"overlay\",\"size\":10,\"solidity\":0.2}},\"type\":\"barpolar\"}],\"carpet\":[{\"aaxis\":{\"endlinecolor\":\"#2a3f5f\",\"gridcolor\":\"white\",\"linecolor\":\"white\",\"minorgridcolor\":\"white\",\"startlinecolor\":\"#2a3f5f\"},\"baxis\":{\"endlinecolor\":\"#2a3f5f\",\"gridcolor\":\"white\",\"linecolor\":\"white\",\"minorgridcolor\":\"white\",\"startlinecolor\":\"#2a3f5f\"},\"type\":\"carpet\"}],\"choropleth\":[{\"colorbar\":{\"outlinewidth\":0,\"ticks\":\"\"},\"type\":\"choropleth\"}],\"contour\":[{\"colorbar\":{\"outlinewidth\":0,\"ticks\":\"\"},\"colorscale\":[[0.0,\"#0d0887\"],[0.1111111111111111,\"#46039f\"],[0.2222222222222222,\"#7201a8\"],[0.3333333333333333,\"#9c179e\"],[0.4444444444444444,\"#bd3786\"],[0.5555555555555556,\"#d8576b\"],[0.6666666666666666,\"#ed7953\"],[0.7777777777777778,\"#fb9f3a\"],[0.8888888888888888,\"#fdca26\"],[1.0,\"#f0f921\"]],\"type\":\"contour\"}],\"contourcarpet\":[{\"colorbar\":{\"outlinewidth\":0,\"ticks\":\"\"},\"type\":\"contourcarpet\"}],\"heatmap\":[{\"colorbar\":{\"outlinewidth\":0,\"ticks\":\"\"},\"colorscale\":[[0.0,\"#0d0887\"],[0.1111111111111111,\"#46039f\"],[0.2222222222222222,\"#7201a8\"],[0.3333333333333333,\"#9c179e\"],[0.4444444444444444,\"#bd3786\"],[0.5555555555555556,\"#d8576b\"],[0.6666666666666666,\"#ed7953\"],[0.7777777777777778,\"#fb9f3a\"],[0.8888888888888888,\"#fdca26\"],[1.0,\"#f0f921\"]],\"type\":\"heatmap\"}],\"heatmapgl\":[{\"colorbar\":{\"outlinewidth\":0,\"ticks\":\"\"},\"colorscale\":[[0.0,\"#0d0887\"],[0.1111111111111111,\"#46039f\"],[0.2222222222222222,\"#7201a8\"],[0.3333333333333333,\"#9c179e\"],[0.4444444444444444,\"#bd3786\"],[0.5555555555555556,\"#d8576b\"],[0.6666666666666666,\"#ed7953\"],[0.7777777777777778,\"#fb9f3a\"],[0.8888888888888888,\"#fdca26\"],[1.0,\"#f0f921\"]],\"type\":\"heatmapgl\"}],\"histogram\":[{\"marker\":{\"pattern\":{\"fillmode\":\"overlay\",\"size\":10,\"solidity\":0.2}},\"type\":\"histogram\"}],\"histogram2d\":[{\"colorbar\":{\"outlinewidth\":0,\"ticks\":\"\"},\"colorscale\":[[0.0,\"#0d0887\"],[0.1111111111111111,\"#46039f\"],[0.2222222222222222,\"#7201a8\"],[0.3333333333333333,\"#9c179e\"],[0.4444444444444444,\"#bd3786\"],[0.5555555555555556,\"#d8576b\"],[0.6666666666666666,\"#ed7953\"],[0.7777777777777778,\"#fb9f3a\"],[0.8888888888888888,\"#fdca26\"],[1.0,\"#f0f921\"]],\"type\":\"histogram2d\"}],\"histogram2dcontour\":[{\"colorbar\":{\"outlinewidth\":0,\"ticks\":\"\"},\"colorscale\":[[0.0,\"#0d0887\"],[0.1111111111111111,\"#46039f\"],[0.2222222222222222,\"#7201a8\"],[0.3333333333333333,\"#9c179e\"],[0.4444444444444444,\"#bd3786\"],[0.5555555555555556,\"#d8576b\"],[0.6666666666666666,\"#ed7953\"],[0.7777777777777778,\"#fb9f3a\"],[0.8888888888888888,\"#fdca26\"],[1.0,\"#f0f921\"]],\"type\":\"histogram2dcontour\"}],\"mesh3d\":[{\"colorbar\":{\"outlinewidth\":0,\"ticks\":\"\"},\"type\":\"mesh3d\"}],\"parcoords\":[{\"line\":{\"colorbar\":{\"outlinewidth\":0,\"ticks\":\"\"}},\"type\":\"parcoords\"}],\"pie\":[{\"automargin\":true,\"type\":\"pie\"}],\"scatter\":[{\"marker\":{\"colorbar\":{\"outlinewidth\":0,\"ticks\":\"\"}},\"type\":\"scatter\"}],\"scatter3d\":[{\"line\":{\"colorbar\":{\"outlinewidth\":0,\"ticks\":\"\"}},\"marker\":{\"colorbar\":{\"outlinewidth\":0,\"ticks\":\"\"}},\"type\":\"scatter3d\"}],\"scattercarpet\":[{\"marker\":{\"colorbar\":{\"outlinewidth\":0,\"ticks\":\"\"}},\"type\":\"scattercarpet\"}],\"scattergeo\":[{\"marker\":{\"colorbar\":{\"outlinewidth\":0,\"ticks\":\"\"}},\"type\":\"scattergeo\"}],\"scattergl\":[{\"marker\":{\"colorbar\":{\"outlinewidth\":0,\"ticks\":\"\"}},\"type\":\"scattergl\"}],\"scattermapbox\":[{\"marker\":{\"colorbar\":{\"outlinewidth\":0,\"ticks\":\"\"}},\"type\":\"scattermapbox\"}],\"scatterpolar\":[{\"marker\":{\"colorbar\":{\"outlinewidth\":0,\"ticks\":\"\"}},\"type\":\"scatterpolar\"}],\"scatterpolargl\":[{\"marker\":{\"colorbar\":{\"outlinewidth\":0,\"ticks\":\"\"}},\"type\":\"scatterpolargl\"}],\"scatterternary\":[{\"marker\":{\"colorbar\":{\"outlinewidth\":0,\"ticks\":\"\"}},\"type\":\"scatterternary\"}],\"surface\":[{\"colorbar\":{\"outlinewidth\":0,\"ticks\":\"\"},\"colorscale\":[[0.0,\"#0d0887\"],[0.1111111111111111,\"#46039f\"],[0.2222222222222222,\"#7201a8\"],[0.3333333333333333,\"#9c179e\"],[0.4444444444444444,\"#bd3786\"],[0.5555555555555556,\"#d8576b\"],[0.6666666666666666,\"#ed7953\"],[0.7777777777777778,\"#fb9f3a\"],[0.8888888888888888,\"#fdca26\"],[1.0,\"#f0f921\"]],\"type\":\"surface\"}],\"table\":[{\"cells\":{\"fill\":{\"color\":\"#EBF0F8\"},\"line\":{\"color\":\"white\"}},\"header\":{\"fill\":{\"color\":\"#C8D4E3\"},\"line\":{\"color\":\"white\"}},\"type\":\"table\"}]},\"layout\":{\"annotationdefaults\":{\"arrowcolor\":\"#2a3f5f\",\"arrowhead\":0,\"arrowwidth\":1},\"autotypenumbers\":\"strict\",\"coloraxis\":{\"colorbar\":{\"outlinewidth\":0,\"ticks\":\"\"}},\"colorscale\":{\"diverging\":[[0,\"#8e0152\"],[0.1,\"#c51b7d\"],[0.2,\"#de77ae\"],[0.3,\"#f1b6da\"],[0.4,\"#fde0ef\"],[0.5,\"#f7f7f7\"],[0.6,\"#e6f5d0\"],[0.7,\"#b8e186\"],[0.8,\"#7fbc41\"],[0.9,\"#4d9221\"],[1,\"#276419\"]],\"sequential\":[[0.0,\"#0d0887\"],[0.1111111111111111,\"#46039f\"],[0.2222222222222222,\"#7201a8\"],[0.3333333333333333,\"#9c179e\"],[0.4444444444444444,\"#bd3786\"],[0.5555555555555556,\"#d8576b\"],[0.6666666666666666,\"#ed7953\"],[0.7777777777777778,\"#fb9f3a\"],[0.8888888888888888,\"#fdca26\"],[1.0,\"#f0f921\"]],\"sequentialminus\":[[0.0,\"#0d0887\"],[0.1111111111111111,\"#46039f\"],[0.2222222222222222,\"#7201a8\"],[0.3333333333333333,\"#9c179e\"],[0.4444444444444444,\"#bd3786\"],[0.5555555555555556,\"#d8576b\"],[0.6666666666666666,\"#ed7953\"],[0.7777777777777778,\"#fb9f3a\"],[0.8888888888888888,\"#fdca26\"],[1.0,\"#f0f921\"]]},\"colorway\":[\"#636efa\",\"#EF553B\",\"#00cc96\",\"#ab63fa\",\"#FFA15A\",\"#19d3f3\",\"#FF6692\",\"#B6E880\",\"#FF97FF\",\"#FECB52\"],\"font\":{\"color\":\"#2a3f5f\"},\"geo\":{\"bgcolor\":\"white\",\"lakecolor\":\"white\",\"landcolor\":\"#E5ECF6\",\"showlakes\":true,\"showland\":true,\"subunitcolor\":\"white\"},\"hoverlabel\":{\"align\":\"left\"},\"hovermode\":\"closest\",\"mapbox\":{\"style\":\"light\"},\"paper_bgcolor\":\"white\",\"plot_bgcolor\":\"#E5ECF6\",\"polar\":{\"angularaxis\":{\"gridcolor\":\"white\",\"linecolor\":\"white\",\"ticks\":\"\"},\"bgcolor\":\"#E5ECF6\",\"radialaxis\":{\"gridcolor\":\"white\",\"linecolor\":\"white\",\"ticks\":\"\"}},\"scene\":{\"xaxis\":{\"backgroundcolor\":\"#E5ECF6\",\"gridcolor\":\"white\",\"gridwidth\":2,\"linecolor\":\"white\",\"showbackground\":true,\"ticks\":\"\",\"zerolinecolor\":\"white\"},\"yaxis\":{\"backgroundcolor\":\"#E5ECF6\",\"gridcolor\":\"white\",\"gridwidth\":2,\"linecolor\":\"white\",\"showbackground\":true,\"ticks\":\"\",\"zerolinecolor\":\"white\"},\"zaxis\":{\"backgroundcolor\":\"#E5ECF6\",\"gridcolor\":\"white\",\"gridwidth\":2,\"linecolor\":\"white\",\"showbackground\":true,\"ticks\":\"\",\"zerolinecolor\":\"white\"}},\"shapedefaults\":{\"line\":{\"color\":\"#2a3f5f\"}},\"ternary\":{\"aaxis\":{\"gridcolor\":\"white\",\"linecolor\":\"white\",\"ticks\":\"\"},\"baxis\":{\"gridcolor\":\"white\",\"linecolor\":\"white\",\"ticks\":\"\"},\"bgcolor\":\"#E5ECF6\",\"caxis\":{\"gridcolor\":\"white\",\"linecolor\":\"white\",\"ticks\":\"\"}},\"title\":{\"x\":0.05},\"xaxis\":{\"automargin\":true,\"gridcolor\":\"white\",\"linecolor\":\"white\",\"ticks\":\"\",\"title\":{\"standoff\":15},\"zerolinecolor\":\"white\",\"zerolinewidth\":2},\"yaxis\":{\"automargin\":true,\"gridcolor\":\"white\",\"linecolor\":\"white\",\"ticks\":\"\",\"title\":{\"standoff\":15},\"zerolinecolor\":\"white\",\"zerolinewidth\":2}}},\"xaxis\":{\"anchor\":\"y\",\"domain\":[0.0,1.0],\"title\":{\"text\":\"False Positive Rate\"}},\"yaxis\":{\"anchor\":\"x\",\"domain\":[0.0,1.0],\"title\":{\"text\":\"True Positive Rate\"}},\"legend\":{\"tracegroupgap\":0},\"title\":{\"text\":\"AUC: 0.801<br><sub>The threshold of 0.5 is indicated with a large point.</sub>\"},\"height\":550,\"width\":889.9186938125},                        {\"responsive\": true}                    ).then(function(){\n",
       "                            \n",
       "var gd = document.getElementById('2a9bab2d-d495-452f-a5f2-ff6e8a346f47');\n",
       "var x = new MutationObserver(function (mutations, observer) {{\n",
       "        var display = window.getComputedStyle(gd).display;\n",
       "        if (!display || display === 'none') {{\n",
       "            console.log([gd, 'removed!']);\n",
       "            Plotly.purge(gd);\n",
       "            observer.disconnect();\n",
       "        }}\n",
       "}});\n",
       "\n",
       "// Listen for the removal of the full notebook cells\n",
       "var notebookContainer = gd.closest('#notebook-container');\n",
       "if (notebookContainer) {{\n",
       "    x.observe(notebookContainer, {childList: true});\n",
       "}}\n",
       "\n",
       "// Listen for the clearing of the current output cell\n",
       "var outputEl = gd.closest('.output');\n",
       "if (outputEl) {{\n",
       "    x.observe(outputEl, {childList: true});\n",
       "}}\n",
       "\n",
       "                        })                };                });            </script>        </div>"
      ]
     },
     "metadata": {},
     "output_type": "display_data"
    },
    {
     "data": {
      "text/plain": [
       "<Figure size 720x444.984 with 0 Axes>"
      ]
     },
     "metadata": {},
     "output_type": "display_data"
    }
   ],
   "source": [
    "fig = evaluator.plot_auc_curve(return_plotly=True)\n",
    "fig.show()"
   ]
  },
  {
   "cell_type": "code",
   "execution_count": 43,
   "id": "44c66aaf",
   "metadata": {},
   "outputs": [
    {
     "data": {
      "application/vnd.plotly.v1+json": {
       "config": {
        "plotlyServerURL": "https://plot.ly"
       },
       "data": [
        {
         "hovertemplate": "Rate Type=True Pos. Rate (Recall)<br>Score Threshold=%{x}<br>Rate=%{y}<extra></extra>",
         "legendgroup": "True Pos. Rate (Recall)",
         "line": {
          "color": "#7AA9CF",
          "dash": "solid"
         },
         "marker": {
          "symbol": "circle"
         },
         "mode": "lines",
         "name": "True Pos. Rate (Recall)",
         "orientation": "v",
         "showlegend": true,
         "type": "scatter",
         "x": [
          0.3,
          0.325,
          0.35000000000000003,
          0.37500000000000006,
          0.4000000000000001,
          0.4250000000000001,
          0.4500000000000001,
          0.47500000000000014,
          0.5000000000000002,
          0.5250000000000001,
          0.5500000000000003,
          0.5750000000000002,
          0.6000000000000003,
          0.6250000000000002,
          0.6500000000000004,
          0.6750000000000003,
          0.7000000000000004,
          0.7250000000000003,
          0.7500000000000004,
          0.7750000000000004,
          0.8000000000000005,
          0.8250000000000004,
          0.8500000000000005,
          0.8750000000000004,
          0.9000000000000006
         ],
         "xaxis": "x",
         "y": [
          0.9787234042553191,
          0.9716312056737588,
          0.9645390070921985,
          0.9645390070921985,
          0.9645390070921985,
          0.9574468085106383,
          0.9432624113475178,
          0.9290780141843972,
          0.9078014184397163,
          0.900709219858156,
          0.8936170212765957,
          0.8794326241134752,
          0.8581560283687943,
          0.8297872340425532,
          0.7872340425531915,
          0.7730496453900709,
          0.7446808510638298,
          0.7021276595744681,
          0.6524822695035462,
          0.6028368794326241,
          0.5319148936170213,
          0.45390070921985815,
          0.3333333333333333,
          0.2553191489361702,
          0.07801418439716312
         ],
         "yaxis": "y"
        },
        {
         "hovertemplate": "Rate Type=False Pos. Rate<br>Score Threshold=%{x}<br>Rate=%{y}<extra></extra>",
         "legendgroup": "False Pos. Rate",
         "line": {
          "color": "#41B3A3",
          "dash": "solid"
         },
         "marker": {
          "symbol": "circle"
         },
         "mode": "lines",
         "name": "False Pos. Rate",
         "orientation": "v",
         "showlegend": true,
         "type": "scatter",
         "x": [
          0.3,
          0.325,
          0.35000000000000003,
          0.37500000000000006,
          0.4000000000000001,
          0.4250000000000001,
          0.4500000000000001,
          0.47500000000000014,
          0.5000000000000002,
          0.5250000000000001,
          0.5500000000000003,
          0.5750000000000002,
          0.6000000000000003,
          0.6250000000000002,
          0.6500000000000004,
          0.6750000000000003,
          0.7000000000000004,
          0.7250000000000003,
          0.7500000000000004,
          0.7750000000000004,
          0.8000000000000005,
          0.8250000000000004,
          0.8500000000000005,
          0.8750000000000004,
          0.9000000000000006
         ],
         "xaxis": "x",
         "y": [
          0.8983050847457628,
          0.864406779661017,
          0.8305084745762712,
          0.8135593220338984,
          0.7796610169491526,
          0.7627118644067796,
          0.6779661016949152,
          0.6101694915254238,
          0.559322033898305,
          0.5084745762711864,
          0.4745762711864407,
          0.4745762711864407,
          0.423728813559322,
          0.3898305084745763,
          0.3389830508474576,
          0.288135593220339,
          0.2542372881355932,
          0.2033898305084746,
          0.2033898305084746,
          0.2033898305084746,
          0.1694915254237288,
          0.11864406779661017,
          0.05084745762711865,
          0.01694915254237288,
          0
         ],
         "yaxis": "y"
        },
        {
         "hovertemplate": "Rate Type=Pos. Predictive Value (Precision)<br>Score Threshold=%{x}<br>Rate=%{y}<extra></extra>",
         "legendgroup": "Pos. Predictive Value (Precision)",
         "line": {
          "color": "#F5BE41",
          "dash": "solid"
         },
         "marker": {
          "symbol": "circle"
         },
         "mode": "lines",
         "name": "Pos. Predictive Value (Precision)",
         "orientation": "v",
         "showlegend": true,
         "type": "scatter",
         "x": [
          0.3,
          0.325,
          0.35000000000000003,
          0.37500000000000006,
          0.4000000000000001,
          0.4250000000000001,
          0.4500000000000001,
          0.47500000000000014,
          0.5000000000000002,
          0.5250000000000001,
          0.5500000000000003,
          0.5750000000000002,
          0.6000000000000003,
          0.6250000000000002,
          0.6500000000000004,
          0.6750000000000003,
          0.7000000000000004,
          0.7250000000000003,
          0.7500000000000004,
          0.7750000000000004,
          0.8000000000000005,
          0.8250000000000004,
          0.8500000000000005,
          0.8750000000000004,
          0.9000000000000006
         ],
         "xaxis": "x",
         "y": [
          0.7225130890052356,
          0.7287234042553191,
          0.7351351351351352,
          0.7391304347826086,
          0.7472527472527473,
          0.75,
          0.7687861271676301,
          0.7844311377245509,
          0.7950310559006211,
          0.8089171974522293,
          0.8181818181818182,
          0.8157894736842105,
          0.8287671232876712,
          0.8357142857142857,
          0.8473282442748091,
          0.8650793650793651,
          0.875,
          0.8918918918918919,
          0.8846153846153846,
          0.8762886597938144,
          0.8823529411764706,
          0.9014084507042254,
          0.94,
          0.972972972972973,
          1
         ],
         "yaxis": "y"
        },
        {
         "hovertemplate": "Rate Type=False Neg. Rate<br>Score Threshold=%{x}<br>Rate=%{y}<extra></extra>",
         "legendgroup": "False Neg. Rate",
         "line": {
          "color": "#A65B50",
          "dash": "solid"
         },
         "marker": {
          "symbol": "circle"
         },
         "mode": "lines",
         "name": "False Neg. Rate",
         "orientation": "v",
         "showlegend": true,
         "type": "scatter",
         "x": [
          0.3,
          0.325,
          0.35000000000000003,
          0.37500000000000006,
          0.4000000000000001,
          0.4250000000000001,
          0.4500000000000001,
          0.47500000000000014,
          0.5000000000000002,
          0.5250000000000001,
          0.5500000000000003,
          0.5750000000000002,
          0.6000000000000003,
          0.6250000000000002,
          0.6500000000000004,
          0.6750000000000003,
          0.7000000000000004,
          0.7250000000000003,
          0.7500000000000004,
          0.7750000000000004,
          0.8000000000000005,
          0.8250000000000004,
          0.8500000000000005,
          0.8750000000000004,
          0.9000000000000006
         ],
         "xaxis": "x",
         "y": [
          0.02127659574468085,
          0.028368794326241134,
          0.03546099290780142,
          0.03546099290780142,
          0.03546099290780142,
          0.0425531914893617,
          0.05673758865248227,
          0.07092198581560284,
          0.09219858156028368,
          0.09929078014184398,
          0.10638297872340426,
          0.12056737588652482,
          0.14184397163120568,
          0.1702127659574468,
          0.2127659574468085,
          0.22695035460992907,
          0.2553191489361702,
          0.2978723404255319,
          0.3475177304964539,
          0.3971631205673759,
          0.46808510638297873,
          0.5460992907801419,
          0.6666666666666666,
          0.7446808510638298,
          0.9219858156028369
         ],
         "yaxis": "y"
        },
        {
         "hovertemplate": "Rate Type=True Neg. Rate (Specificity)<br>Score Threshold=%{x}<br>Rate=%{y}<extra></extra>",
         "legendgroup": "True Neg. Rate (Specificity)",
         "line": {
          "color": "#F28E2B",
          "dash": "solid"
         },
         "marker": {
          "symbol": "circle"
         },
         "mode": "lines",
         "name": "True Neg. Rate (Specificity)",
         "orientation": "v",
         "showlegend": true,
         "type": "scatter",
         "x": [
          0.3,
          0.325,
          0.35000000000000003,
          0.37500000000000006,
          0.4000000000000001,
          0.4250000000000001,
          0.4500000000000001,
          0.47500000000000014,
          0.5000000000000002,
          0.5250000000000001,
          0.5500000000000003,
          0.5750000000000002,
          0.6000000000000003,
          0.6250000000000002,
          0.6500000000000004,
          0.6750000000000003,
          0.7000000000000004,
          0.7250000000000003,
          0.7500000000000004,
          0.7750000000000004,
          0.8000000000000005,
          0.8250000000000004,
          0.8500000000000005,
          0.8750000000000004,
          0.9000000000000006
         ],
         "xaxis": "x",
         "y": [
          0.1016949152542373,
          0.13559322033898305,
          0.1694915254237288,
          0.1864406779661017,
          0.22033898305084745,
          0.23728813559322035,
          0.3220338983050847,
          0.3898305084745763,
          0.4406779661016949,
          0.4915254237288136,
          0.5254237288135594,
          0.5254237288135594,
          0.576271186440678,
          0.6101694915254238,
          0.6610169491525424,
          0.711864406779661,
          0.7457627118644068,
          0.7966101694915254,
          0.7966101694915254,
          0.7966101694915254,
          0.8305084745762712,
          0.8813559322033898,
          0.9491525423728814,
          0.9830508474576272,
          1
         ],
         "yaxis": "y"
        }
       ],
       "layout": {
        "height": 550,
        "legend": {
         "title": {
          "text": "Rate Type"
         },
         "tracegroupgap": 0
        },
        "shapes": [
         {
          "line": {
           "color": "#2A3132"
          },
          "type": "line",
          "x0": 0.5,
          "x1": 0.5,
          "xref": "x",
          "y0": 0,
          "y1": 1,
          "yref": "y domain"
         }
        ],
        "template": {
         "data": {
          "bar": [
           {
            "error_x": {
             "color": "#2a3f5f"
            },
            "error_y": {
             "color": "#2a3f5f"
            },
            "marker": {
             "line": {
              "color": "#E5ECF6",
              "width": 0.5
             },
             "pattern": {
              "fillmode": "overlay",
              "size": 10,
              "solidity": 0.2
             }
            },
            "type": "bar"
           }
          ],
          "barpolar": [
           {
            "marker": {
             "line": {
              "color": "#E5ECF6",
              "width": 0.5
             },
             "pattern": {
              "fillmode": "overlay",
              "size": 10,
              "solidity": 0.2
             }
            },
            "type": "barpolar"
           }
          ],
          "carpet": [
           {
            "aaxis": {
             "endlinecolor": "#2a3f5f",
             "gridcolor": "white",
             "linecolor": "white",
             "minorgridcolor": "white",
             "startlinecolor": "#2a3f5f"
            },
            "baxis": {
             "endlinecolor": "#2a3f5f",
             "gridcolor": "white",
             "linecolor": "white",
             "minorgridcolor": "white",
             "startlinecolor": "#2a3f5f"
            },
            "type": "carpet"
           }
          ],
          "choropleth": [
           {
            "colorbar": {
             "outlinewidth": 0,
             "ticks": ""
            },
            "type": "choropleth"
           }
          ],
          "contour": [
           {
            "colorbar": {
             "outlinewidth": 0,
             "ticks": ""
            },
            "colorscale": [
             [
              0,
              "#0d0887"
             ],
             [
              0.1111111111111111,
              "#46039f"
             ],
             [
              0.2222222222222222,
              "#7201a8"
             ],
             [
              0.3333333333333333,
              "#9c179e"
             ],
             [
              0.4444444444444444,
              "#bd3786"
             ],
             [
              0.5555555555555556,
              "#d8576b"
             ],
             [
              0.6666666666666666,
              "#ed7953"
             ],
             [
              0.7777777777777778,
              "#fb9f3a"
             ],
             [
              0.8888888888888888,
              "#fdca26"
             ],
             [
              1,
              "#f0f921"
             ]
            ],
            "type": "contour"
           }
          ],
          "contourcarpet": [
           {
            "colorbar": {
             "outlinewidth": 0,
             "ticks": ""
            },
            "type": "contourcarpet"
           }
          ],
          "heatmap": [
           {
            "colorbar": {
             "outlinewidth": 0,
             "ticks": ""
            },
            "colorscale": [
             [
              0,
              "#0d0887"
             ],
             [
              0.1111111111111111,
              "#46039f"
             ],
             [
              0.2222222222222222,
              "#7201a8"
             ],
             [
              0.3333333333333333,
              "#9c179e"
             ],
             [
              0.4444444444444444,
              "#bd3786"
             ],
             [
              0.5555555555555556,
              "#d8576b"
             ],
             [
              0.6666666666666666,
              "#ed7953"
             ],
             [
              0.7777777777777778,
              "#fb9f3a"
             ],
             [
              0.8888888888888888,
              "#fdca26"
             ],
             [
              1,
              "#f0f921"
             ]
            ],
            "type": "heatmap"
           }
          ],
          "heatmapgl": [
           {
            "colorbar": {
             "outlinewidth": 0,
             "ticks": ""
            },
            "colorscale": [
             [
              0,
              "#0d0887"
             ],
             [
              0.1111111111111111,
              "#46039f"
             ],
             [
              0.2222222222222222,
              "#7201a8"
             ],
             [
              0.3333333333333333,
              "#9c179e"
             ],
             [
              0.4444444444444444,
              "#bd3786"
             ],
             [
              0.5555555555555556,
              "#d8576b"
             ],
             [
              0.6666666666666666,
              "#ed7953"
             ],
             [
              0.7777777777777778,
              "#fb9f3a"
             ],
             [
              0.8888888888888888,
              "#fdca26"
             ],
             [
              1,
              "#f0f921"
             ]
            ],
            "type": "heatmapgl"
           }
          ],
          "histogram": [
           {
            "marker": {
             "pattern": {
              "fillmode": "overlay",
              "size": 10,
              "solidity": 0.2
             }
            },
            "type": "histogram"
           }
          ],
          "histogram2d": [
           {
            "colorbar": {
             "outlinewidth": 0,
             "ticks": ""
            },
            "colorscale": [
             [
              0,
              "#0d0887"
             ],
             [
              0.1111111111111111,
              "#46039f"
             ],
             [
              0.2222222222222222,
              "#7201a8"
             ],
             [
              0.3333333333333333,
              "#9c179e"
             ],
             [
              0.4444444444444444,
              "#bd3786"
             ],
             [
              0.5555555555555556,
              "#d8576b"
             ],
             [
              0.6666666666666666,
              "#ed7953"
             ],
             [
              0.7777777777777778,
              "#fb9f3a"
             ],
             [
              0.8888888888888888,
              "#fdca26"
             ],
             [
              1,
              "#f0f921"
             ]
            ],
            "type": "histogram2d"
           }
          ],
          "histogram2dcontour": [
           {
            "colorbar": {
             "outlinewidth": 0,
             "ticks": ""
            },
            "colorscale": [
             [
              0,
              "#0d0887"
             ],
             [
              0.1111111111111111,
              "#46039f"
             ],
             [
              0.2222222222222222,
              "#7201a8"
             ],
             [
              0.3333333333333333,
              "#9c179e"
             ],
             [
              0.4444444444444444,
              "#bd3786"
             ],
             [
              0.5555555555555556,
              "#d8576b"
             ],
             [
              0.6666666666666666,
              "#ed7953"
             ],
             [
              0.7777777777777778,
              "#fb9f3a"
             ],
             [
              0.8888888888888888,
              "#fdca26"
             ],
             [
              1,
              "#f0f921"
             ]
            ],
            "type": "histogram2dcontour"
           }
          ],
          "mesh3d": [
           {
            "colorbar": {
             "outlinewidth": 0,
             "ticks": ""
            },
            "type": "mesh3d"
           }
          ],
          "parcoords": [
           {
            "line": {
             "colorbar": {
              "outlinewidth": 0,
              "ticks": ""
             }
            },
            "type": "parcoords"
           }
          ],
          "pie": [
           {
            "automargin": true,
            "type": "pie"
           }
          ],
          "scatter": [
           {
            "marker": {
             "colorbar": {
              "outlinewidth": 0,
              "ticks": ""
             }
            },
            "type": "scatter"
           }
          ],
          "scatter3d": [
           {
            "line": {
             "colorbar": {
              "outlinewidth": 0,
              "ticks": ""
             }
            },
            "marker": {
             "colorbar": {
              "outlinewidth": 0,
              "ticks": ""
             }
            },
            "type": "scatter3d"
           }
          ],
          "scattercarpet": [
           {
            "marker": {
             "colorbar": {
              "outlinewidth": 0,
              "ticks": ""
             }
            },
            "type": "scattercarpet"
           }
          ],
          "scattergeo": [
           {
            "marker": {
             "colorbar": {
              "outlinewidth": 0,
              "ticks": ""
             }
            },
            "type": "scattergeo"
           }
          ],
          "scattergl": [
           {
            "marker": {
             "colorbar": {
              "outlinewidth": 0,
              "ticks": ""
             }
            },
            "type": "scattergl"
           }
          ],
          "scattermapbox": [
           {
            "marker": {
             "colorbar": {
              "outlinewidth": 0,
              "ticks": ""
             }
            },
            "type": "scattermapbox"
           }
          ],
          "scatterpolar": [
           {
            "marker": {
             "colorbar": {
              "outlinewidth": 0,
              "ticks": ""
             }
            },
            "type": "scatterpolar"
           }
          ],
          "scatterpolargl": [
           {
            "marker": {
             "colorbar": {
              "outlinewidth": 0,
              "ticks": ""
             }
            },
            "type": "scatterpolargl"
           }
          ],
          "scatterternary": [
           {
            "marker": {
             "colorbar": {
              "outlinewidth": 0,
              "ticks": ""
             }
            },
            "type": "scatterternary"
           }
          ],
          "surface": [
           {
            "colorbar": {
             "outlinewidth": 0,
             "ticks": ""
            },
            "colorscale": [
             [
              0,
              "#0d0887"
             ],
             [
              0.1111111111111111,
              "#46039f"
             ],
             [
              0.2222222222222222,
              "#7201a8"
             ],
             [
              0.3333333333333333,
              "#9c179e"
             ],
             [
              0.4444444444444444,
              "#bd3786"
             ],
             [
              0.5555555555555556,
              "#d8576b"
             ],
             [
              0.6666666666666666,
              "#ed7953"
             ],
             [
              0.7777777777777778,
              "#fb9f3a"
             ],
             [
              0.8888888888888888,
              "#fdca26"
             ],
             [
              1,
              "#f0f921"
             ]
            ],
            "type": "surface"
           }
          ],
          "table": [
           {
            "cells": {
             "fill": {
              "color": "#EBF0F8"
             },
             "line": {
              "color": "white"
             }
            },
            "header": {
             "fill": {
              "color": "#C8D4E3"
             },
             "line": {
              "color": "white"
             }
            },
            "type": "table"
           }
          ]
         },
         "layout": {
          "annotationdefaults": {
           "arrowcolor": "#2a3f5f",
           "arrowhead": 0,
           "arrowwidth": 1
          },
          "autotypenumbers": "strict",
          "coloraxis": {
           "colorbar": {
            "outlinewidth": 0,
            "ticks": ""
           }
          },
          "colorscale": {
           "diverging": [
            [
             0,
             "#8e0152"
            ],
            [
             0.1,
             "#c51b7d"
            ],
            [
             0.2,
             "#de77ae"
            ],
            [
             0.3,
             "#f1b6da"
            ],
            [
             0.4,
             "#fde0ef"
            ],
            [
             0.5,
             "#f7f7f7"
            ],
            [
             0.6,
             "#e6f5d0"
            ],
            [
             0.7,
             "#b8e186"
            ],
            [
             0.8,
             "#7fbc41"
            ],
            [
             0.9,
             "#4d9221"
            ],
            [
             1,
             "#276419"
            ]
           ],
           "sequential": [
            [
             0,
             "#0d0887"
            ],
            [
             0.1111111111111111,
             "#46039f"
            ],
            [
             0.2222222222222222,
             "#7201a8"
            ],
            [
             0.3333333333333333,
             "#9c179e"
            ],
            [
             0.4444444444444444,
             "#bd3786"
            ],
            [
             0.5555555555555556,
             "#d8576b"
            ],
            [
             0.6666666666666666,
             "#ed7953"
            ],
            [
             0.7777777777777778,
             "#fb9f3a"
            ],
            [
             0.8888888888888888,
             "#fdca26"
            ],
            [
             1,
             "#f0f921"
            ]
           ],
           "sequentialminus": [
            [
             0,
             "#0d0887"
            ],
            [
             0.1111111111111111,
             "#46039f"
            ],
            [
             0.2222222222222222,
             "#7201a8"
            ],
            [
             0.3333333333333333,
             "#9c179e"
            ],
            [
             0.4444444444444444,
             "#bd3786"
            ],
            [
             0.5555555555555556,
             "#d8576b"
            ],
            [
             0.6666666666666666,
             "#ed7953"
            ],
            [
             0.7777777777777778,
             "#fb9f3a"
            ],
            [
             0.8888888888888888,
             "#fdca26"
            ],
            [
             1,
             "#f0f921"
            ]
           ]
          },
          "colorway": [
           "#636efa",
           "#EF553B",
           "#00cc96",
           "#ab63fa",
           "#FFA15A",
           "#19d3f3",
           "#FF6692",
           "#B6E880",
           "#FF97FF",
           "#FECB52"
          ],
          "font": {
           "color": "#2a3f5f"
          },
          "geo": {
           "bgcolor": "white",
           "lakecolor": "white",
           "landcolor": "#E5ECF6",
           "showlakes": true,
           "showland": true,
           "subunitcolor": "white"
          },
          "hoverlabel": {
           "align": "left"
          },
          "hovermode": "closest",
          "mapbox": {
           "style": "light"
          },
          "paper_bgcolor": "white",
          "plot_bgcolor": "#E5ECF6",
          "polar": {
           "angularaxis": {
            "gridcolor": "white",
            "linecolor": "white",
            "ticks": ""
           },
           "bgcolor": "#E5ECF6",
           "radialaxis": {
            "gridcolor": "white",
            "linecolor": "white",
            "ticks": ""
           }
          },
          "scene": {
           "xaxis": {
            "backgroundcolor": "#E5ECF6",
            "gridcolor": "white",
            "gridwidth": 2,
            "linecolor": "white",
            "showbackground": true,
            "ticks": "",
            "zerolinecolor": "white"
           },
           "yaxis": {
            "backgroundcolor": "#E5ECF6",
            "gridcolor": "white",
            "gridwidth": 2,
            "linecolor": "white",
            "showbackground": true,
            "ticks": "",
            "zerolinecolor": "white"
           },
           "zaxis": {
            "backgroundcolor": "#E5ECF6",
            "gridcolor": "white",
            "gridwidth": 2,
            "linecolor": "white",
            "showbackground": true,
            "ticks": "",
            "zerolinecolor": "white"
           }
          },
          "shapedefaults": {
           "line": {
            "color": "#2a3f5f"
           }
          },
          "ternary": {
           "aaxis": {
            "gridcolor": "white",
            "linecolor": "white",
            "ticks": ""
           },
           "baxis": {
            "gridcolor": "white",
            "linecolor": "white",
            "ticks": ""
           },
           "bgcolor": "#E5ECF6",
           "caxis": {
            "gridcolor": "white",
            "linecolor": "white",
            "ticks": ""
           }
          },
          "title": {
           "x": 0.05
          },
          "xaxis": {
           "automargin": true,
           "gridcolor": "white",
           "linecolor": "white",
           "ticks": "",
           "title": {
            "standoff": 15
           },
           "zerolinecolor": "white",
           "zerolinewidth": 2
          },
          "yaxis": {
           "automargin": true,
           "gridcolor": "white",
           "linecolor": "white",
           "ticks": "",
           "title": {
            "standoff": 15
           },
           "zerolinecolor": "white",
           "zerolinewidth": 2
          }
         }
        },
        "title": {
         "text": "Tradeoffs Across Various Score Thresholds<br><sub>Black line is default threshold of 0.5.</sub>"
        },
        "width": 889.9186938125,
        "xaxis": {
         "anchor": "y",
         "domain": [
          0,
          1
         ],
         "title": {
          "text": "Score Threshold"
         }
        },
        "yaxis": {
         "anchor": "x",
         "domain": [
          0,
          1
         ],
         "title": {
          "text": "Rate"
         }
        }
       }
      },
      "text/html": [
       "<div>                            <div id=\"783e3e18-5328-445e-b984-ff5733555886\" class=\"plotly-graph-div\" style=\"height:550px; width:889.9186938125px;\"></div>            <script type=\"text/javascript\">                require([\"plotly\"], function(Plotly) {                    window.PLOTLYENV=window.PLOTLYENV || {};                                    if (document.getElementById(\"783e3e18-5328-445e-b984-ff5733555886\")) {                    Plotly.newPlot(                        \"783e3e18-5328-445e-b984-ff5733555886\",                        [{\"hovertemplate\":\"Rate Type=True Pos. Rate (Recall)<br>Score Threshold=%{x}<br>Rate=%{y}<extra></extra>\",\"legendgroup\":\"True Pos. Rate (Recall)\",\"line\":{\"color\":\"#7AA9CF\",\"dash\":\"solid\"},\"marker\":{\"symbol\":\"circle\"},\"mode\":\"lines\",\"name\":\"True Pos. Rate (Recall)\",\"orientation\":\"v\",\"showlegend\":true,\"x\":[0.3,0.325,0.35000000000000003,0.37500000000000006,0.4000000000000001,0.4250000000000001,0.4500000000000001,0.47500000000000014,0.5000000000000002,0.5250000000000001,0.5500000000000003,0.5750000000000002,0.6000000000000003,0.6250000000000002,0.6500000000000004,0.6750000000000003,0.7000000000000004,0.7250000000000003,0.7500000000000004,0.7750000000000004,0.8000000000000005,0.8250000000000004,0.8500000000000005,0.8750000000000004,0.9000000000000006],\"xaxis\":\"x\",\"y\":[0.9787234042553191,0.9716312056737588,0.9645390070921985,0.9645390070921985,0.9645390070921985,0.9574468085106383,0.9432624113475178,0.9290780141843972,0.9078014184397163,0.900709219858156,0.8936170212765957,0.8794326241134752,0.8581560283687943,0.8297872340425532,0.7872340425531915,0.7730496453900709,0.7446808510638298,0.7021276595744681,0.6524822695035462,0.6028368794326241,0.5319148936170213,0.45390070921985815,0.3333333333333333,0.2553191489361702,0.07801418439716312],\"yaxis\":\"y\",\"type\":\"scatter\"},{\"hovertemplate\":\"Rate Type=False Pos. Rate<br>Score Threshold=%{x}<br>Rate=%{y}<extra></extra>\",\"legendgroup\":\"False Pos. Rate\",\"line\":{\"color\":\"#41B3A3\",\"dash\":\"solid\"},\"marker\":{\"symbol\":\"circle\"},\"mode\":\"lines\",\"name\":\"False Pos. Rate\",\"orientation\":\"v\",\"showlegend\":true,\"x\":[0.3,0.325,0.35000000000000003,0.37500000000000006,0.4000000000000001,0.4250000000000001,0.4500000000000001,0.47500000000000014,0.5000000000000002,0.5250000000000001,0.5500000000000003,0.5750000000000002,0.6000000000000003,0.6250000000000002,0.6500000000000004,0.6750000000000003,0.7000000000000004,0.7250000000000003,0.7500000000000004,0.7750000000000004,0.8000000000000005,0.8250000000000004,0.8500000000000005,0.8750000000000004,0.9000000000000006],\"xaxis\":\"x\",\"y\":[0.8983050847457628,0.864406779661017,0.8305084745762712,0.8135593220338984,0.7796610169491526,0.7627118644067796,0.6779661016949152,0.6101694915254238,0.559322033898305,0.5084745762711864,0.4745762711864407,0.4745762711864407,0.423728813559322,0.3898305084745763,0.3389830508474576,0.288135593220339,0.2542372881355932,0.2033898305084746,0.2033898305084746,0.2033898305084746,0.1694915254237288,0.11864406779661017,0.05084745762711865,0.01694915254237288,0.0],\"yaxis\":\"y\",\"type\":\"scatter\"},{\"hovertemplate\":\"Rate Type=Pos. Predictive Value (Precision)<br>Score Threshold=%{x}<br>Rate=%{y}<extra></extra>\",\"legendgroup\":\"Pos. Predictive Value (Precision)\",\"line\":{\"color\":\"#F5BE41\",\"dash\":\"solid\"},\"marker\":{\"symbol\":\"circle\"},\"mode\":\"lines\",\"name\":\"Pos. Predictive Value (Precision)\",\"orientation\":\"v\",\"showlegend\":true,\"x\":[0.3,0.325,0.35000000000000003,0.37500000000000006,0.4000000000000001,0.4250000000000001,0.4500000000000001,0.47500000000000014,0.5000000000000002,0.5250000000000001,0.5500000000000003,0.5750000000000002,0.6000000000000003,0.6250000000000002,0.6500000000000004,0.6750000000000003,0.7000000000000004,0.7250000000000003,0.7500000000000004,0.7750000000000004,0.8000000000000005,0.8250000000000004,0.8500000000000005,0.8750000000000004,0.9000000000000006],\"xaxis\":\"x\",\"y\":[0.7225130890052356,0.7287234042553191,0.7351351351351352,0.7391304347826086,0.7472527472527473,0.75,0.7687861271676301,0.7844311377245509,0.7950310559006211,0.8089171974522293,0.8181818181818182,0.8157894736842105,0.8287671232876712,0.8357142857142857,0.8473282442748091,0.8650793650793651,0.875,0.8918918918918919,0.8846153846153846,0.8762886597938144,0.8823529411764706,0.9014084507042254,0.94,0.972972972972973,1.0],\"yaxis\":\"y\",\"type\":\"scatter\"},{\"hovertemplate\":\"Rate Type=False Neg. Rate<br>Score Threshold=%{x}<br>Rate=%{y}<extra></extra>\",\"legendgroup\":\"False Neg. Rate\",\"line\":{\"color\":\"#A65B50\",\"dash\":\"solid\"},\"marker\":{\"symbol\":\"circle\"},\"mode\":\"lines\",\"name\":\"False Neg. Rate\",\"orientation\":\"v\",\"showlegend\":true,\"x\":[0.3,0.325,0.35000000000000003,0.37500000000000006,0.4000000000000001,0.4250000000000001,0.4500000000000001,0.47500000000000014,0.5000000000000002,0.5250000000000001,0.5500000000000003,0.5750000000000002,0.6000000000000003,0.6250000000000002,0.6500000000000004,0.6750000000000003,0.7000000000000004,0.7250000000000003,0.7500000000000004,0.7750000000000004,0.8000000000000005,0.8250000000000004,0.8500000000000005,0.8750000000000004,0.9000000000000006],\"xaxis\":\"x\",\"y\":[0.02127659574468085,0.028368794326241134,0.03546099290780142,0.03546099290780142,0.03546099290780142,0.0425531914893617,0.05673758865248227,0.07092198581560284,0.09219858156028368,0.09929078014184398,0.10638297872340426,0.12056737588652482,0.14184397163120568,0.1702127659574468,0.2127659574468085,0.22695035460992907,0.2553191489361702,0.2978723404255319,0.3475177304964539,0.3971631205673759,0.46808510638297873,0.5460992907801419,0.6666666666666666,0.7446808510638298,0.9219858156028369],\"yaxis\":\"y\",\"type\":\"scatter\"},{\"hovertemplate\":\"Rate Type=True Neg. Rate (Specificity)<br>Score Threshold=%{x}<br>Rate=%{y}<extra></extra>\",\"legendgroup\":\"True Neg. Rate (Specificity)\",\"line\":{\"color\":\"#F28E2B\",\"dash\":\"solid\"},\"marker\":{\"symbol\":\"circle\"},\"mode\":\"lines\",\"name\":\"True Neg. Rate (Specificity)\",\"orientation\":\"v\",\"showlegend\":true,\"x\":[0.3,0.325,0.35000000000000003,0.37500000000000006,0.4000000000000001,0.4250000000000001,0.4500000000000001,0.47500000000000014,0.5000000000000002,0.5250000000000001,0.5500000000000003,0.5750000000000002,0.6000000000000003,0.6250000000000002,0.6500000000000004,0.6750000000000003,0.7000000000000004,0.7250000000000003,0.7500000000000004,0.7750000000000004,0.8000000000000005,0.8250000000000004,0.8500000000000005,0.8750000000000004,0.9000000000000006],\"xaxis\":\"x\",\"y\":[0.1016949152542373,0.13559322033898305,0.1694915254237288,0.1864406779661017,0.22033898305084745,0.23728813559322035,0.3220338983050847,0.3898305084745763,0.4406779661016949,0.4915254237288136,0.5254237288135594,0.5254237288135594,0.576271186440678,0.6101694915254238,0.6610169491525424,0.711864406779661,0.7457627118644068,0.7966101694915254,0.7966101694915254,0.7966101694915254,0.8305084745762712,0.8813559322033898,0.9491525423728814,0.9830508474576272,1.0],\"yaxis\":\"y\",\"type\":\"scatter\"}],                        {\"template\":{\"data\":{\"bar\":[{\"error_x\":{\"color\":\"#2a3f5f\"},\"error_y\":{\"color\":\"#2a3f5f\"},\"marker\":{\"line\":{\"color\":\"#E5ECF6\",\"width\":0.5},\"pattern\":{\"fillmode\":\"overlay\",\"size\":10,\"solidity\":0.2}},\"type\":\"bar\"}],\"barpolar\":[{\"marker\":{\"line\":{\"color\":\"#E5ECF6\",\"width\":0.5},\"pattern\":{\"fillmode\":\"overlay\",\"size\":10,\"solidity\":0.2}},\"type\":\"barpolar\"}],\"carpet\":[{\"aaxis\":{\"endlinecolor\":\"#2a3f5f\",\"gridcolor\":\"white\",\"linecolor\":\"white\",\"minorgridcolor\":\"white\",\"startlinecolor\":\"#2a3f5f\"},\"baxis\":{\"endlinecolor\":\"#2a3f5f\",\"gridcolor\":\"white\",\"linecolor\":\"white\",\"minorgridcolor\":\"white\",\"startlinecolor\":\"#2a3f5f\"},\"type\":\"carpet\"}],\"choropleth\":[{\"colorbar\":{\"outlinewidth\":0,\"ticks\":\"\"},\"type\":\"choropleth\"}],\"contour\":[{\"colorbar\":{\"outlinewidth\":0,\"ticks\":\"\"},\"colorscale\":[[0.0,\"#0d0887\"],[0.1111111111111111,\"#46039f\"],[0.2222222222222222,\"#7201a8\"],[0.3333333333333333,\"#9c179e\"],[0.4444444444444444,\"#bd3786\"],[0.5555555555555556,\"#d8576b\"],[0.6666666666666666,\"#ed7953\"],[0.7777777777777778,\"#fb9f3a\"],[0.8888888888888888,\"#fdca26\"],[1.0,\"#f0f921\"]],\"type\":\"contour\"}],\"contourcarpet\":[{\"colorbar\":{\"outlinewidth\":0,\"ticks\":\"\"},\"type\":\"contourcarpet\"}],\"heatmap\":[{\"colorbar\":{\"outlinewidth\":0,\"ticks\":\"\"},\"colorscale\":[[0.0,\"#0d0887\"],[0.1111111111111111,\"#46039f\"],[0.2222222222222222,\"#7201a8\"],[0.3333333333333333,\"#9c179e\"],[0.4444444444444444,\"#bd3786\"],[0.5555555555555556,\"#d8576b\"],[0.6666666666666666,\"#ed7953\"],[0.7777777777777778,\"#fb9f3a\"],[0.8888888888888888,\"#fdca26\"],[1.0,\"#f0f921\"]],\"type\":\"heatmap\"}],\"heatmapgl\":[{\"colorbar\":{\"outlinewidth\":0,\"ticks\":\"\"},\"colorscale\":[[0.0,\"#0d0887\"],[0.1111111111111111,\"#46039f\"],[0.2222222222222222,\"#7201a8\"],[0.3333333333333333,\"#9c179e\"],[0.4444444444444444,\"#bd3786\"],[0.5555555555555556,\"#d8576b\"],[0.6666666666666666,\"#ed7953\"],[0.7777777777777778,\"#fb9f3a\"],[0.8888888888888888,\"#fdca26\"],[1.0,\"#f0f921\"]],\"type\":\"heatmapgl\"}],\"histogram\":[{\"marker\":{\"pattern\":{\"fillmode\":\"overlay\",\"size\":10,\"solidity\":0.2}},\"type\":\"histogram\"}],\"histogram2d\":[{\"colorbar\":{\"outlinewidth\":0,\"ticks\":\"\"},\"colorscale\":[[0.0,\"#0d0887\"],[0.1111111111111111,\"#46039f\"],[0.2222222222222222,\"#7201a8\"],[0.3333333333333333,\"#9c179e\"],[0.4444444444444444,\"#bd3786\"],[0.5555555555555556,\"#d8576b\"],[0.6666666666666666,\"#ed7953\"],[0.7777777777777778,\"#fb9f3a\"],[0.8888888888888888,\"#fdca26\"],[1.0,\"#f0f921\"]],\"type\":\"histogram2d\"}],\"histogram2dcontour\":[{\"colorbar\":{\"outlinewidth\":0,\"ticks\":\"\"},\"colorscale\":[[0.0,\"#0d0887\"],[0.1111111111111111,\"#46039f\"],[0.2222222222222222,\"#7201a8\"],[0.3333333333333333,\"#9c179e\"],[0.4444444444444444,\"#bd3786\"],[0.5555555555555556,\"#d8576b\"],[0.6666666666666666,\"#ed7953\"],[0.7777777777777778,\"#fb9f3a\"],[0.8888888888888888,\"#fdca26\"],[1.0,\"#f0f921\"]],\"type\":\"histogram2dcontour\"}],\"mesh3d\":[{\"colorbar\":{\"outlinewidth\":0,\"ticks\":\"\"},\"type\":\"mesh3d\"}],\"parcoords\":[{\"line\":{\"colorbar\":{\"outlinewidth\":0,\"ticks\":\"\"}},\"type\":\"parcoords\"}],\"pie\":[{\"automargin\":true,\"type\":\"pie\"}],\"scatter\":[{\"marker\":{\"colorbar\":{\"outlinewidth\":0,\"ticks\":\"\"}},\"type\":\"scatter\"}],\"scatter3d\":[{\"line\":{\"colorbar\":{\"outlinewidth\":0,\"ticks\":\"\"}},\"marker\":{\"colorbar\":{\"outlinewidth\":0,\"ticks\":\"\"}},\"type\":\"scatter3d\"}],\"scattercarpet\":[{\"marker\":{\"colorbar\":{\"outlinewidth\":0,\"ticks\":\"\"}},\"type\":\"scattercarpet\"}],\"scattergeo\":[{\"marker\":{\"colorbar\":{\"outlinewidth\":0,\"ticks\":\"\"}},\"type\":\"scattergeo\"}],\"scattergl\":[{\"marker\":{\"colorbar\":{\"outlinewidth\":0,\"ticks\":\"\"}},\"type\":\"scattergl\"}],\"scattermapbox\":[{\"marker\":{\"colorbar\":{\"outlinewidth\":0,\"ticks\":\"\"}},\"type\":\"scattermapbox\"}],\"scatterpolar\":[{\"marker\":{\"colorbar\":{\"outlinewidth\":0,\"ticks\":\"\"}},\"type\":\"scatterpolar\"}],\"scatterpolargl\":[{\"marker\":{\"colorbar\":{\"outlinewidth\":0,\"ticks\":\"\"}},\"type\":\"scatterpolargl\"}],\"scatterternary\":[{\"marker\":{\"colorbar\":{\"outlinewidth\":0,\"ticks\":\"\"}},\"type\":\"scatterternary\"}],\"surface\":[{\"colorbar\":{\"outlinewidth\":0,\"ticks\":\"\"},\"colorscale\":[[0.0,\"#0d0887\"],[0.1111111111111111,\"#46039f\"],[0.2222222222222222,\"#7201a8\"],[0.3333333333333333,\"#9c179e\"],[0.4444444444444444,\"#bd3786\"],[0.5555555555555556,\"#d8576b\"],[0.6666666666666666,\"#ed7953\"],[0.7777777777777778,\"#fb9f3a\"],[0.8888888888888888,\"#fdca26\"],[1.0,\"#f0f921\"]],\"type\":\"surface\"}],\"table\":[{\"cells\":{\"fill\":{\"color\":\"#EBF0F8\"},\"line\":{\"color\":\"white\"}},\"header\":{\"fill\":{\"color\":\"#C8D4E3\"},\"line\":{\"color\":\"white\"}},\"type\":\"table\"}]},\"layout\":{\"annotationdefaults\":{\"arrowcolor\":\"#2a3f5f\",\"arrowhead\":0,\"arrowwidth\":1},\"autotypenumbers\":\"strict\",\"coloraxis\":{\"colorbar\":{\"outlinewidth\":0,\"ticks\":\"\"}},\"colorscale\":{\"diverging\":[[0,\"#8e0152\"],[0.1,\"#c51b7d\"],[0.2,\"#de77ae\"],[0.3,\"#f1b6da\"],[0.4,\"#fde0ef\"],[0.5,\"#f7f7f7\"],[0.6,\"#e6f5d0\"],[0.7,\"#b8e186\"],[0.8,\"#7fbc41\"],[0.9,\"#4d9221\"],[1,\"#276419\"]],\"sequential\":[[0.0,\"#0d0887\"],[0.1111111111111111,\"#46039f\"],[0.2222222222222222,\"#7201a8\"],[0.3333333333333333,\"#9c179e\"],[0.4444444444444444,\"#bd3786\"],[0.5555555555555556,\"#d8576b\"],[0.6666666666666666,\"#ed7953\"],[0.7777777777777778,\"#fb9f3a\"],[0.8888888888888888,\"#fdca26\"],[1.0,\"#f0f921\"]],\"sequentialminus\":[[0.0,\"#0d0887\"],[0.1111111111111111,\"#46039f\"],[0.2222222222222222,\"#7201a8\"],[0.3333333333333333,\"#9c179e\"],[0.4444444444444444,\"#bd3786\"],[0.5555555555555556,\"#d8576b\"],[0.6666666666666666,\"#ed7953\"],[0.7777777777777778,\"#fb9f3a\"],[0.8888888888888888,\"#fdca26\"],[1.0,\"#f0f921\"]]},\"colorway\":[\"#636efa\",\"#EF553B\",\"#00cc96\",\"#ab63fa\",\"#FFA15A\",\"#19d3f3\",\"#FF6692\",\"#B6E880\",\"#FF97FF\",\"#FECB52\"],\"font\":{\"color\":\"#2a3f5f\"},\"geo\":{\"bgcolor\":\"white\",\"lakecolor\":\"white\",\"landcolor\":\"#E5ECF6\",\"showlakes\":true,\"showland\":true,\"subunitcolor\":\"white\"},\"hoverlabel\":{\"align\":\"left\"},\"hovermode\":\"closest\",\"mapbox\":{\"style\":\"light\"},\"paper_bgcolor\":\"white\",\"plot_bgcolor\":\"#E5ECF6\",\"polar\":{\"angularaxis\":{\"gridcolor\":\"white\",\"linecolor\":\"white\",\"ticks\":\"\"},\"bgcolor\":\"#E5ECF6\",\"radialaxis\":{\"gridcolor\":\"white\",\"linecolor\":\"white\",\"ticks\":\"\"}},\"scene\":{\"xaxis\":{\"backgroundcolor\":\"#E5ECF6\",\"gridcolor\":\"white\",\"gridwidth\":2,\"linecolor\":\"white\",\"showbackground\":true,\"ticks\":\"\",\"zerolinecolor\":\"white\"},\"yaxis\":{\"backgroundcolor\":\"#E5ECF6\",\"gridcolor\":\"white\",\"gridwidth\":2,\"linecolor\":\"white\",\"showbackground\":true,\"ticks\":\"\",\"zerolinecolor\":\"white\"},\"zaxis\":{\"backgroundcolor\":\"#E5ECF6\",\"gridcolor\":\"white\",\"gridwidth\":2,\"linecolor\":\"white\",\"showbackground\":true,\"ticks\":\"\",\"zerolinecolor\":\"white\"}},\"shapedefaults\":{\"line\":{\"color\":\"#2a3f5f\"}},\"ternary\":{\"aaxis\":{\"gridcolor\":\"white\",\"linecolor\":\"white\",\"ticks\":\"\"},\"baxis\":{\"gridcolor\":\"white\",\"linecolor\":\"white\",\"ticks\":\"\"},\"bgcolor\":\"#E5ECF6\",\"caxis\":{\"gridcolor\":\"white\",\"linecolor\":\"white\",\"ticks\":\"\"}},\"title\":{\"x\":0.05},\"xaxis\":{\"automargin\":true,\"gridcolor\":\"white\",\"linecolor\":\"white\",\"ticks\":\"\",\"title\":{\"standoff\":15},\"zerolinecolor\":\"white\",\"zerolinewidth\":2},\"yaxis\":{\"automargin\":true,\"gridcolor\":\"white\",\"linecolor\":\"white\",\"ticks\":\"\",\"title\":{\"standoff\":15},\"zerolinecolor\":\"white\",\"zerolinewidth\":2}}},\"xaxis\":{\"anchor\":\"y\",\"domain\":[0.0,1.0],\"title\":{\"text\":\"Score Threshold\"}},\"yaxis\":{\"anchor\":\"x\",\"domain\":[0.0,1.0],\"title\":{\"text\":\"Rate\"}},\"legend\":{\"title\":{\"text\":\"Rate Type\"},\"tracegroupgap\":0},\"title\":{\"text\":\"Tradeoffs Across Various Score Thresholds<br><sub>Black line is default threshold of 0.5.</sub>\"},\"height\":550,\"width\":889.9186938125,\"shapes\":[{\"line\":{\"color\":\"#2A3132\"},\"type\":\"line\",\"x0\":0.5,\"x1\":0.5,\"xref\":\"x\",\"y0\":0,\"y1\":1,\"yref\":\"y domain\"}]},                        {\"responsive\": true}                    ).then(function(){\n",
       "                            \n",
       "var gd = document.getElementById('783e3e18-5328-445e-b984-ff5733555886');\n",
       "var x = new MutationObserver(function (mutations, observer) {{\n",
       "        var display = window.getComputedStyle(gd).display;\n",
       "        if (!display || display === 'none') {{\n",
       "            console.log([gd, 'removed!']);\n",
       "            Plotly.purge(gd);\n",
       "            observer.disconnect();\n",
       "        }}\n",
       "}});\n",
       "\n",
       "// Listen for the removal of the full notebook cells\n",
       "var notebookContainer = gd.closest('#notebook-container');\n",
       "if (notebookContainer) {{\n",
       "    x.observe(notebookContainer, {childList: true});\n",
       "}}\n",
       "\n",
       "// Listen for the clearing of the current output cell\n",
       "var outputEl = gd.closest('.output');\n",
       "if (outputEl) {{\n",
       "    x.observe(outputEl, {childList: true});\n",
       "}}\n",
       "\n",
       "                        })                };                });            </script>        </div>"
      ]
     },
     "metadata": {},
     "output_type": "display_data"
    },
    {
     "data": {
      "text/plain": [
       "<Figure size 720x444.984 with 0 Axes>"
      ]
     },
     "metadata": {},
     "output_type": "display_data"
    }
   ],
   "source": [
    "fig = evaluator.plot_threshold_curves(return_plotly=True)\n",
    "fig.show()"
   ]
  },
  {
   "cell_type": "code",
   "execution_count": 44,
   "id": "08f1bf81",
   "metadata": {},
   "outputs": [
    {
     "data": {
      "application/vnd.plotly.v1+json": {
       "config": {
        "plotlyServerURL": "https://plot.ly"
       },
       "data": [
        {
         "hovertemplate": "Rate=True Pos. Rate (Recall)<br>Score Threshold=%{x}<br>Value=%{y}<extra></extra>",
         "legendgroup": "True Pos. Rate (Recall)",
         "line": {
          "color": "#7AA9CF",
          "dash": "solid"
         },
         "marker": {
          "symbol": "circle"
         },
         "mode": "lines",
         "name": "True Pos. Rate (Recall)",
         "orientation": "v",
         "showlegend": true,
         "type": "scatter",
         "x": [
          0.4,
          0.42500000000000004,
          0.45000000000000007,
          0.4750000000000001,
          0.5000000000000001,
          0.5250000000000001,
          0.5500000000000002,
          0.5750000000000002,
          0.6000000000000002,
          0.6250000000000002,
          0.6500000000000002,
          0.6750000000000003,
          0.7000000000000003,
          0.7250000000000003,
          0.7500000000000003,
          0.7750000000000004,
          0.8000000000000004,
          0.8250000000000004,
          0.8500000000000004,
          0.8750000000000004,
          0.9000000000000005,
          0.9250000000000005
         ],
         "xaxis": "x",
         "y": [
          0.9645390070921985,
          0.9574468085106383,
          0.9432624113475178,
          0.9290780141843972,
          0.9078014184397163,
          0.900709219858156,
          0.8936170212765957,
          0.8794326241134752,
          0.8581560283687943,
          0.8297872340425532,
          0.7872340425531915,
          0.7730496453900709,
          0.7446808510638298,
          0.7021276595744681,
          0.6524822695035462,
          0.6028368794326241,
          0.5319148936170213,
          0.45390070921985815,
          0.3333333333333333,
          0.2553191489361702,
          0.07801418439716312,
          0.0070921985815602835
         ],
         "yaxis": "y"
        },
        {
         "hovertemplate": "Rate=Pos. Predictive Value (Precision)<br>Score Threshold=%{x}<br>Value=%{y}<extra></extra>",
         "legendgroup": "Pos. Predictive Value (Precision)",
         "line": {
          "color": "#F5BE41",
          "dash": "solid"
         },
         "marker": {
          "symbol": "circle"
         },
         "mode": "lines",
         "name": "Pos. Predictive Value (Precision)",
         "orientation": "v",
         "showlegend": true,
         "type": "scatter",
         "x": [
          0.4,
          0.42500000000000004,
          0.45000000000000007,
          0.4750000000000001,
          0.5000000000000001,
          0.5250000000000001,
          0.5500000000000002,
          0.5750000000000002,
          0.6000000000000002,
          0.6250000000000002,
          0.6500000000000002,
          0.6750000000000003,
          0.7000000000000003,
          0.7250000000000003,
          0.7500000000000003,
          0.7750000000000004,
          0.8000000000000004,
          0.8250000000000004,
          0.8500000000000004,
          0.8750000000000004,
          0.9000000000000005,
          0.9250000000000005
         ],
         "xaxis": "x",
         "y": [
          0.7472527472527473,
          0.75,
          0.7687861271676301,
          0.7844311377245509,
          0.7950310559006211,
          0.8089171974522293,
          0.8181818181818182,
          0.8157894736842105,
          0.8287671232876712,
          0.8357142857142857,
          0.8473282442748091,
          0.8650793650793651,
          0.875,
          0.8918918918918919,
          0.8846153846153846,
          0.8762886597938144,
          0.8823529411764706,
          0.9014084507042254,
          0.94,
          0.972972972972973,
          1,
          1
         ],
         "yaxis": "y"
        }
       ],
       "layout": {
        "height": 550,
        "legend": {
         "title": {
          "text": "Rate"
         },
         "tracegroupgap": 0
        },
        "shapes": [
         {
          "line": {
           "color": "#2A3132"
          },
          "type": "line",
          "x0": 0.5,
          "x1": 0.5,
          "xref": "x",
          "y0": 0,
          "y1": 1,
          "yref": "y domain"
         }
        ],
        "template": {
         "data": {
          "bar": [
           {
            "error_x": {
             "color": "#2a3f5f"
            },
            "error_y": {
             "color": "#2a3f5f"
            },
            "marker": {
             "line": {
              "color": "#E5ECF6",
              "width": 0.5
             },
             "pattern": {
              "fillmode": "overlay",
              "size": 10,
              "solidity": 0.2
             }
            },
            "type": "bar"
           }
          ],
          "barpolar": [
           {
            "marker": {
             "line": {
              "color": "#E5ECF6",
              "width": 0.5
             },
             "pattern": {
              "fillmode": "overlay",
              "size": 10,
              "solidity": 0.2
             }
            },
            "type": "barpolar"
           }
          ],
          "carpet": [
           {
            "aaxis": {
             "endlinecolor": "#2a3f5f",
             "gridcolor": "white",
             "linecolor": "white",
             "minorgridcolor": "white",
             "startlinecolor": "#2a3f5f"
            },
            "baxis": {
             "endlinecolor": "#2a3f5f",
             "gridcolor": "white",
             "linecolor": "white",
             "minorgridcolor": "white",
             "startlinecolor": "#2a3f5f"
            },
            "type": "carpet"
           }
          ],
          "choropleth": [
           {
            "colorbar": {
             "outlinewidth": 0,
             "ticks": ""
            },
            "type": "choropleth"
           }
          ],
          "contour": [
           {
            "colorbar": {
             "outlinewidth": 0,
             "ticks": ""
            },
            "colorscale": [
             [
              0,
              "#0d0887"
             ],
             [
              0.1111111111111111,
              "#46039f"
             ],
             [
              0.2222222222222222,
              "#7201a8"
             ],
             [
              0.3333333333333333,
              "#9c179e"
             ],
             [
              0.4444444444444444,
              "#bd3786"
             ],
             [
              0.5555555555555556,
              "#d8576b"
             ],
             [
              0.6666666666666666,
              "#ed7953"
             ],
             [
              0.7777777777777778,
              "#fb9f3a"
             ],
             [
              0.8888888888888888,
              "#fdca26"
             ],
             [
              1,
              "#f0f921"
             ]
            ],
            "type": "contour"
           }
          ],
          "contourcarpet": [
           {
            "colorbar": {
             "outlinewidth": 0,
             "ticks": ""
            },
            "type": "contourcarpet"
           }
          ],
          "heatmap": [
           {
            "colorbar": {
             "outlinewidth": 0,
             "ticks": ""
            },
            "colorscale": [
             [
              0,
              "#0d0887"
             ],
             [
              0.1111111111111111,
              "#46039f"
             ],
             [
              0.2222222222222222,
              "#7201a8"
             ],
             [
              0.3333333333333333,
              "#9c179e"
             ],
             [
              0.4444444444444444,
              "#bd3786"
             ],
             [
              0.5555555555555556,
              "#d8576b"
             ],
             [
              0.6666666666666666,
              "#ed7953"
             ],
             [
              0.7777777777777778,
              "#fb9f3a"
             ],
             [
              0.8888888888888888,
              "#fdca26"
             ],
             [
              1,
              "#f0f921"
             ]
            ],
            "type": "heatmap"
           }
          ],
          "heatmapgl": [
           {
            "colorbar": {
             "outlinewidth": 0,
             "ticks": ""
            },
            "colorscale": [
             [
              0,
              "#0d0887"
             ],
             [
              0.1111111111111111,
              "#46039f"
             ],
             [
              0.2222222222222222,
              "#7201a8"
             ],
             [
              0.3333333333333333,
              "#9c179e"
             ],
             [
              0.4444444444444444,
              "#bd3786"
             ],
             [
              0.5555555555555556,
              "#d8576b"
             ],
             [
              0.6666666666666666,
              "#ed7953"
             ],
             [
              0.7777777777777778,
              "#fb9f3a"
             ],
             [
              0.8888888888888888,
              "#fdca26"
             ],
             [
              1,
              "#f0f921"
             ]
            ],
            "type": "heatmapgl"
           }
          ],
          "histogram": [
           {
            "marker": {
             "pattern": {
              "fillmode": "overlay",
              "size": 10,
              "solidity": 0.2
             }
            },
            "type": "histogram"
           }
          ],
          "histogram2d": [
           {
            "colorbar": {
             "outlinewidth": 0,
             "ticks": ""
            },
            "colorscale": [
             [
              0,
              "#0d0887"
             ],
             [
              0.1111111111111111,
              "#46039f"
             ],
             [
              0.2222222222222222,
              "#7201a8"
             ],
             [
              0.3333333333333333,
              "#9c179e"
             ],
             [
              0.4444444444444444,
              "#bd3786"
             ],
             [
              0.5555555555555556,
              "#d8576b"
             ],
             [
              0.6666666666666666,
              "#ed7953"
             ],
             [
              0.7777777777777778,
              "#fb9f3a"
             ],
             [
              0.8888888888888888,
              "#fdca26"
             ],
             [
              1,
              "#f0f921"
             ]
            ],
            "type": "histogram2d"
           }
          ],
          "histogram2dcontour": [
           {
            "colorbar": {
             "outlinewidth": 0,
             "ticks": ""
            },
            "colorscale": [
             [
              0,
              "#0d0887"
             ],
             [
              0.1111111111111111,
              "#46039f"
             ],
             [
              0.2222222222222222,
              "#7201a8"
             ],
             [
              0.3333333333333333,
              "#9c179e"
             ],
             [
              0.4444444444444444,
              "#bd3786"
             ],
             [
              0.5555555555555556,
              "#d8576b"
             ],
             [
              0.6666666666666666,
              "#ed7953"
             ],
             [
              0.7777777777777778,
              "#fb9f3a"
             ],
             [
              0.8888888888888888,
              "#fdca26"
             ],
             [
              1,
              "#f0f921"
             ]
            ],
            "type": "histogram2dcontour"
           }
          ],
          "mesh3d": [
           {
            "colorbar": {
             "outlinewidth": 0,
             "ticks": ""
            },
            "type": "mesh3d"
           }
          ],
          "parcoords": [
           {
            "line": {
             "colorbar": {
              "outlinewidth": 0,
              "ticks": ""
             }
            },
            "type": "parcoords"
           }
          ],
          "pie": [
           {
            "automargin": true,
            "type": "pie"
           }
          ],
          "scatter": [
           {
            "marker": {
             "colorbar": {
              "outlinewidth": 0,
              "ticks": ""
             }
            },
            "type": "scatter"
           }
          ],
          "scatter3d": [
           {
            "line": {
             "colorbar": {
              "outlinewidth": 0,
              "ticks": ""
             }
            },
            "marker": {
             "colorbar": {
              "outlinewidth": 0,
              "ticks": ""
             }
            },
            "type": "scatter3d"
           }
          ],
          "scattercarpet": [
           {
            "marker": {
             "colorbar": {
              "outlinewidth": 0,
              "ticks": ""
             }
            },
            "type": "scattercarpet"
           }
          ],
          "scattergeo": [
           {
            "marker": {
             "colorbar": {
              "outlinewidth": 0,
              "ticks": ""
             }
            },
            "type": "scattergeo"
           }
          ],
          "scattergl": [
           {
            "marker": {
             "colorbar": {
              "outlinewidth": 0,
              "ticks": ""
             }
            },
            "type": "scattergl"
           }
          ],
          "scattermapbox": [
           {
            "marker": {
             "colorbar": {
              "outlinewidth": 0,
              "ticks": ""
             }
            },
            "type": "scattermapbox"
           }
          ],
          "scatterpolar": [
           {
            "marker": {
             "colorbar": {
              "outlinewidth": 0,
              "ticks": ""
             }
            },
            "type": "scatterpolar"
           }
          ],
          "scatterpolargl": [
           {
            "marker": {
             "colorbar": {
              "outlinewidth": 0,
              "ticks": ""
             }
            },
            "type": "scatterpolargl"
           }
          ],
          "scatterternary": [
           {
            "marker": {
             "colorbar": {
              "outlinewidth": 0,
              "ticks": ""
             }
            },
            "type": "scatterternary"
           }
          ],
          "surface": [
           {
            "colorbar": {
             "outlinewidth": 0,
             "ticks": ""
            },
            "colorscale": [
             [
              0,
              "#0d0887"
             ],
             [
              0.1111111111111111,
              "#46039f"
             ],
             [
              0.2222222222222222,
              "#7201a8"
             ],
             [
              0.3333333333333333,
              "#9c179e"
             ],
             [
              0.4444444444444444,
              "#bd3786"
             ],
             [
              0.5555555555555556,
              "#d8576b"
             ],
             [
              0.6666666666666666,
              "#ed7953"
             ],
             [
              0.7777777777777778,
              "#fb9f3a"
             ],
             [
              0.8888888888888888,
              "#fdca26"
             ],
             [
              1,
              "#f0f921"
             ]
            ],
            "type": "surface"
           }
          ],
          "table": [
           {
            "cells": {
             "fill": {
              "color": "#EBF0F8"
             },
             "line": {
              "color": "white"
             }
            },
            "header": {
             "fill": {
              "color": "#C8D4E3"
             },
             "line": {
              "color": "white"
             }
            },
            "type": "table"
           }
          ]
         },
         "layout": {
          "annotationdefaults": {
           "arrowcolor": "#2a3f5f",
           "arrowhead": 0,
           "arrowwidth": 1
          },
          "autotypenumbers": "strict",
          "coloraxis": {
           "colorbar": {
            "outlinewidth": 0,
            "ticks": ""
           }
          },
          "colorscale": {
           "diverging": [
            [
             0,
             "#8e0152"
            ],
            [
             0.1,
             "#c51b7d"
            ],
            [
             0.2,
             "#de77ae"
            ],
            [
             0.3,
             "#f1b6da"
            ],
            [
             0.4,
             "#fde0ef"
            ],
            [
             0.5,
             "#f7f7f7"
            ],
            [
             0.6,
             "#e6f5d0"
            ],
            [
             0.7,
             "#b8e186"
            ],
            [
             0.8,
             "#7fbc41"
            ],
            [
             0.9,
             "#4d9221"
            ],
            [
             1,
             "#276419"
            ]
           ],
           "sequential": [
            [
             0,
             "#0d0887"
            ],
            [
             0.1111111111111111,
             "#46039f"
            ],
            [
             0.2222222222222222,
             "#7201a8"
            ],
            [
             0.3333333333333333,
             "#9c179e"
            ],
            [
             0.4444444444444444,
             "#bd3786"
            ],
            [
             0.5555555555555556,
             "#d8576b"
            ],
            [
             0.6666666666666666,
             "#ed7953"
            ],
            [
             0.7777777777777778,
             "#fb9f3a"
            ],
            [
             0.8888888888888888,
             "#fdca26"
            ],
            [
             1,
             "#f0f921"
            ]
           ],
           "sequentialminus": [
            [
             0,
             "#0d0887"
            ],
            [
             0.1111111111111111,
             "#46039f"
            ],
            [
             0.2222222222222222,
             "#7201a8"
            ],
            [
             0.3333333333333333,
             "#9c179e"
            ],
            [
             0.4444444444444444,
             "#bd3786"
            ],
            [
             0.5555555555555556,
             "#d8576b"
            ],
            [
             0.6666666666666666,
             "#ed7953"
            ],
            [
             0.7777777777777778,
             "#fb9f3a"
            ],
            [
             0.8888888888888888,
             "#fdca26"
            ],
            [
             1,
             "#f0f921"
            ]
           ]
          },
          "colorway": [
           "#636efa",
           "#EF553B",
           "#00cc96",
           "#ab63fa",
           "#FFA15A",
           "#19d3f3",
           "#FF6692",
           "#B6E880",
           "#FF97FF",
           "#FECB52"
          ],
          "font": {
           "color": "#2a3f5f"
          },
          "geo": {
           "bgcolor": "white",
           "lakecolor": "white",
           "landcolor": "#E5ECF6",
           "showlakes": true,
           "showland": true,
           "subunitcolor": "white"
          },
          "hoverlabel": {
           "align": "left"
          },
          "hovermode": "closest",
          "mapbox": {
           "style": "light"
          },
          "paper_bgcolor": "white",
          "plot_bgcolor": "#E5ECF6",
          "polar": {
           "angularaxis": {
            "gridcolor": "white",
            "linecolor": "white",
            "ticks": ""
           },
           "bgcolor": "#E5ECF6",
           "radialaxis": {
            "gridcolor": "white",
            "linecolor": "white",
            "ticks": ""
           }
          },
          "scene": {
           "xaxis": {
            "backgroundcolor": "#E5ECF6",
            "gridcolor": "white",
            "gridwidth": 2,
            "linecolor": "white",
            "showbackground": true,
            "ticks": "",
            "zerolinecolor": "white"
           },
           "yaxis": {
            "backgroundcolor": "#E5ECF6",
            "gridcolor": "white",
            "gridwidth": 2,
            "linecolor": "white",
            "showbackground": true,
            "ticks": "",
            "zerolinecolor": "white"
           },
           "zaxis": {
            "backgroundcolor": "#E5ECF6",
            "gridcolor": "white",
            "gridwidth": 2,
            "linecolor": "white",
            "showbackground": true,
            "ticks": "",
            "zerolinecolor": "white"
           }
          },
          "shapedefaults": {
           "line": {
            "color": "#2a3f5f"
           }
          },
          "ternary": {
           "aaxis": {
            "gridcolor": "white",
            "linecolor": "white",
            "ticks": ""
           },
           "baxis": {
            "gridcolor": "white",
            "linecolor": "white",
            "ticks": ""
           },
           "bgcolor": "#E5ECF6",
           "caxis": {
            "gridcolor": "white",
            "linecolor": "white",
            "ticks": ""
           }
          },
          "title": {
           "x": 0.05
          },
          "xaxis": {
           "automargin": true,
           "gridcolor": "white",
           "linecolor": "white",
           "ticks": "",
           "title": {
            "standoff": 15
           },
           "zerolinecolor": "white",
           "zerolinewidth": 2
          },
          "yaxis": {
           "automargin": true,
           "gridcolor": "white",
           "linecolor": "white",
           "ticks": "",
           "title": {
            "standoff": 15
           },
           "zerolinecolor": "white",
           "zerolinewidth": 2
          }
         }
        },
        "title": {
         "text": "Precision Recall Tradeoff<br><sub>Black line is default threshold of 0.5.</sub>"
        },
        "width": 889.9186938125,
        "xaxis": {
         "anchor": "y",
         "domain": [
          0,
          1
         ],
         "title": {
          "text": "Score Threshold"
         }
        },
        "yaxis": {
         "anchor": "x",
         "domain": [
          0,
          1
         ],
         "title": {
          "text": "Value"
         }
        }
       }
      },
      "text/html": [
       "<div>                            <div id=\"7426f259-f5ad-4e0f-addc-2400312f1f65\" class=\"plotly-graph-div\" style=\"height:550px; width:889.9186938125px;\"></div>            <script type=\"text/javascript\">                require([\"plotly\"], function(Plotly) {                    window.PLOTLYENV=window.PLOTLYENV || {};                                    if (document.getElementById(\"7426f259-f5ad-4e0f-addc-2400312f1f65\")) {                    Plotly.newPlot(                        \"7426f259-f5ad-4e0f-addc-2400312f1f65\",                        [{\"hovertemplate\":\"Rate=True Pos. Rate (Recall)<br>Score Threshold=%{x}<br>Value=%{y}<extra></extra>\",\"legendgroup\":\"True Pos. Rate (Recall)\",\"line\":{\"color\":\"#7AA9CF\",\"dash\":\"solid\"},\"marker\":{\"symbol\":\"circle\"},\"mode\":\"lines\",\"name\":\"True Pos. Rate (Recall)\",\"orientation\":\"v\",\"showlegend\":true,\"x\":[0.4,0.42500000000000004,0.45000000000000007,0.4750000000000001,0.5000000000000001,0.5250000000000001,0.5500000000000002,0.5750000000000002,0.6000000000000002,0.6250000000000002,0.6500000000000002,0.6750000000000003,0.7000000000000003,0.7250000000000003,0.7500000000000003,0.7750000000000004,0.8000000000000004,0.8250000000000004,0.8500000000000004,0.8750000000000004,0.9000000000000005,0.9250000000000005],\"xaxis\":\"x\",\"y\":[0.9645390070921985,0.9574468085106383,0.9432624113475178,0.9290780141843972,0.9078014184397163,0.900709219858156,0.8936170212765957,0.8794326241134752,0.8581560283687943,0.8297872340425532,0.7872340425531915,0.7730496453900709,0.7446808510638298,0.7021276595744681,0.6524822695035462,0.6028368794326241,0.5319148936170213,0.45390070921985815,0.3333333333333333,0.2553191489361702,0.07801418439716312,0.0070921985815602835],\"yaxis\":\"y\",\"type\":\"scatter\"},{\"hovertemplate\":\"Rate=Pos. Predictive Value (Precision)<br>Score Threshold=%{x}<br>Value=%{y}<extra></extra>\",\"legendgroup\":\"Pos. Predictive Value (Precision)\",\"line\":{\"color\":\"#F5BE41\",\"dash\":\"solid\"},\"marker\":{\"symbol\":\"circle\"},\"mode\":\"lines\",\"name\":\"Pos. Predictive Value (Precision)\",\"orientation\":\"v\",\"showlegend\":true,\"x\":[0.4,0.42500000000000004,0.45000000000000007,0.4750000000000001,0.5000000000000001,0.5250000000000001,0.5500000000000002,0.5750000000000002,0.6000000000000002,0.6250000000000002,0.6500000000000002,0.6750000000000003,0.7000000000000003,0.7250000000000003,0.7500000000000003,0.7750000000000004,0.8000000000000004,0.8250000000000004,0.8500000000000004,0.8750000000000004,0.9000000000000005,0.9250000000000005],\"xaxis\":\"x\",\"y\":[0.7472527472527473,0.75,0.7687861271676301,0.7844311377245509,0.7950310559006211,0.8089171974522293,0.8181818181818182,0.8157894736842105,0.8287671232876712,0.8357142857142857,0.8473282442748091,0.8650793650793651,0.875,0.8918918918918919,0.8846153846153846,0.8762886597938144,0.8823529411764706,0.9014084507042254,0.94,0.972972972972973,1.0,1.0],\"yaxis\":\"y\",\"type\":\"scatter\"}],                        {\"template\":{\"data\":{\"bar\":[{\"error_x\":{\"color\":\"#2a3f5f\"},\"error_y\":{\"color\":\"#2a3f5f\"},\"marker\":{\"line\":{\"color\":\"#E5ECF6\",\"width\":0.5},\"pattern\":{\"fillmode\":\"overlay\",\"size\":10,\"solidity\":0.2}},\"type\":\"bar\"}],\"barpolar\":[{\"marker\":{\"line\":{\"color\":\"#E5ECF6\",\"width\":0.5},\"pattern\":{\"fillmode\":\"overlay\",\"size\":10,\"solidity\":0.2}},\"type\":\"barpolar\"}],\"carpet\":[{\"aaxis\":{\"endlinecolor\":\"#2a3f5f\",\"gridcolor\":\"white\",\"linecolor\":\"white\",\"minorgridcolor\":\"white\",\"startlinecolor\":\"#2a3f5f\"},\"baxis\":{\"endlinecolor\":\"#2a3f5f\",\"gridcolor\":\"white\",\"linecolor\":\"white\",\"minorgridcolor\":\"white\",\"startlinecolor\":\"#2a3f5f\"},\"type\":\"carpet\"}],\"choropleth\":[{\"colorbar\":{\"outlinewidth\":0,\"ticks\":\"\"},\"type\":\"choropleth\"}],\"contour\":[{\"colorbar\":{\"outlinewidth\":0,\"ticks\":\"\"},\"colorscale\":[[0.0,\"#0d0887\"],[0.1111111111111111,\"#46039f\"],[0.2222222222222222,\"#7201a8\"],[0.3333333333333333,\"#9c179e\"],[0.4444444444444444,\"#bd3786\"],[0.5555555555555556,\"#d8576b\"],[0.6666666666666666,\"#ed7953\"],[0.7777777777777778,\"#fb9f3a\"],[0.8888888888888888,\"#fdca26\"],[1.0,\"#f0f921\"]],\"type\":\"contour\"}],\"contourcarpet\":[{\"colorbar\":{\"outlinewidth\":0,\"ticks\":\"\"},\"type\":\"contourcarpet\"}],\"heatmap\":[{\"colorbar\":{\"outlinewidth\":0,\"ticks\":\"\"},\"colorscale\":[[0.0,\"#0d0887\"],[0.1111111111111111,\"#46039f\"],[0.2222222222222222,\"#7201a8\"],[0.3333333333333333,\"#9c179e\"],[0.4444444444444444,\"#bd3786\"],[0.5555555555555556,\"#d8576b\"],[0.6666666666666666,\"#ed7953\"],[0.7777777777777778,\"#fb9f3a\"],[0.8888888888888888,\"#fdca26\"],[1.0,\"#f0f921\"]],\"type\":\"heatmap\"}],\"heatmapgl\":[{\"colorbar\":{\"outlinewidth\":0,\"ticks\":\"\"},\"colorscale\":[[0.0,\"#0d0887\"],[0.1111111111111111,\"#46039f\"],[0.2222222222222222,\"#7201a8\"],[0.3333333333333333,\"#9c179e\"],[0.4444444444444444,\"#bd3786\"],[0.5555555555555556,\"#d8576b\"],[0.6666666666666666,\"#ed7953\"],[0.7777777777777778,\"#fb9f3a\"],[0.8888888888888888,\"#fdca26\"],[1.0,\"#f0f921\"]],\"type\":\"heatmapgl\"}],\"histogram\":[{\"marker\":{\"pattern\":{\"fillmode\":\"overlay\",\"size\":10,\"solidity\":0.2}},\"type\":\"histogram\"}],\"histogram2d\":[{\"colorbar\":{\"outlinewidth\":0,\"ticks\":\"\"},\"colorscale\":[[0.0,\"#0d0887\"],[0.1111111111111111,\"#46039f\"],[0.2222222222222222,\"#7201a8\"],[0.3333333333333333,\"#9c179e\"],[0.4444444444444444,\"#bd3786\"],[0.5555555555555556,\"#d8576b\"],[0.6666666666666666,\"#ed7953\"],[0.7777777777777778,\"#fb9f3a\"],[0.8888888888888888,\"#fdca26\"],[1.0,\"#f0f921\"]],\"type\":\"histogram2d\"}],\"histogram2dcontour\":[{\"colorbar\":{\"outlinewidth\":0,\"ticks\":\"\"},\"colorscale\":[[0.0,\"#0d0887\"],[0.1111111111111111,\"#46039f\"],[0.2222222222222222,\"#7201a8\"],[0.3333333333333333,\"#9c179e\"],[0.4444444444444444,\"#bd3786\"],[0.5555555555555556,\"#d8576b\"],[0.6666666666666666,\"#ed7953\"],[0.7777777777777778,\"#fb9f3a\"],[0.8888888888888888,\"#fdca26\"],[1.0,\"#f0f921\"]],\"type\":\"histogram2dcontour\"}],\"mesh3d\":[{\"colorbar\":{\"outlinewidth\":0,\"ticks\":\"\"},\"type\":\"mesh3d\"}],\"parcoords\":[{\"line\":{\"colorbar\":{\"outlinewidth\":0,\"ticks\":\"\"}},\"type\":\"parcoords\"}],\"pie\":[{\"automargin\":true,\"type\":\"pie\"}],\"scatter\":[{\"marker\":{\"colorbar\":{\"outlinewidth\":0,\"ticks\":\"\"}},\"type\":\"scatter\"}],\"scatter3d\":[{\"line\":{\"colorbar\":{\"outlinewidth\":0,\"ticks\":\"\"}},\"marker\":{\"colorbar\":{\"outlinewidth\":0,\"ticks\":\"\"}},\"type\":\"scatter3d\"}],\"scattercarpet\":[{\"marker\":{\"colorbar\":{\"outlinewidth\":0,\"ticks\":\"\"}},\"type\":\"scattercarpet\"}],\"scattergeo\":[{\"marker\":{\"colorbar\":{\"outlinewidth\":0,\"ticks\":\"\"}},\"type\":\"scattergeo\"}],\"scattergl\":[{\"marker\":{\"colorbar\":{\"outlinewidth\":0,\"ticks\":\"\"}},\"type\":\"scattergl\"}],\"scattermapbox\":[{\"marker\":{\"colorbar\":{\"outlinewidth\":0,\"ticks\":\"\"}},\"type\":\"scattermapbox\"}],\"scatterpolar\":[{\"marker\":{\"colorbar\":{\"outlinewidth\":0,\"ticks\":\"\"}},\"type\":\"scatterpolar\"}],\"scatterpolargl\":[{\"marker\":{\"colorbar\":{\"outlinewidth\":0,\"ticks\":\"\"}},\"type\":\"scatterpolargl\"}],\"scatterternary\":[{\"marker\":{\"colorbar\":{\"outlinewidth\":0,\"ticks\":\"\"}},\"type\":\"scatterternary\"}],\"surface\":[{\"colorbar\":{\"outlinewidth\":0,\"ticks\":\"\"},\"colorscale\":[[0.0,\"#0d0887\"],[0.1111111111111111,\"#46039f\"],[0.2222222222222222,\"#7201a8\"],[0.3333333333333333,\"#9c179e\"],[0.4444444444444444,\"#bd3786\"],[0.5555555555555556,\"#d8576b\"],[0.6666666666666666,\"#ed7953\"],[0.7777777777777778,\"#fb9f3a\"],[0.8888888888888888,\"#fdca26\"],[1.0,\"#f0f921\"]],\"type\":\"surface\"}],\"table\":[{\"cells\":{\"fill\":{\"color\":\"#EBF0F8\"},\"line\":{\"color\":\"white\"}},\"header\":{\"fill\":{\"color\":\"#C8D4E3\"},\"line\":{\"color\":\"white\"}},\"type\":\"table\"}]},\"layout\":{\"annotationdefaults\":{\"arrowcolor\":\"#2a3f5f\",\"arrowhead\":0,\"arrowwidth\":1},\"autotypenumbers\":\"strict\",\"coloraxis\":{\"colorbar\":{\"outlinewidth\":0,\"ticks\":\"\"}},\"colorscale\":{\"diverging\":[[0,\"#8e0152\"],[0.1,\"#c51b7d\"],[0.2,\"#de77ae\"],[0.3,\"#f1b6da\"],[0.4,\"#fde0ef\"],[0.5,\"#f7f7f7\"],[0.6,\"#e6f5d0\"],[0.7,\"#b8e186\"],[0.8,\"#7fbc41\"],[0.9,\"#4d9221\"],[1,\"#276419\"]],\"sequential\":[[0.0,\"#0d0887\"],[0.1111111111111111,\"#46039f\"],[0.2222222222222222,\"#7201a8\"],[0.3333333333333333,\"#9c179e\"],[0.4444444444444444,\"#bd3786\"],[0.5555555555555556,\"#d8576b\"],[0.6666666666666666,\"#ed7953\"],[0.7777777777777778,\"#fb9f3a\"],[0.8888888888888888,\"#fdca26\"],[1.0,\"#f0f921\"]],\"sequentialminus\":[[0.0,\"#0d0887\"],[0.1111111111111111,\"#46039f\"],[0.2222222222222222,\"#7201a8\"],[0.3333333333333333,\"#9c179e\"],[0.4444444444444444,\"#bd3786\"],[0.5555555555555556,\"#d8576b\"],[0.6666666666666666,\"#ed7953\"],[0.7777777777777778,\"#fb9f3a\"],[0.8888888888888888,\"#fdca26\"],[1.0,\"#f0f921\"]]},\"colorway\":[\"#636efa\",\"#EF553B\",\"#00cc96\",\"#ab63fa\",\"#FFA15A\",\"#19d3f3\",\"#FF6692\",\"#B6E880\",\"#FF97FF\",\"#FECB52\"],\"font\":{\"color\":\"#2a3f5f\"},\"geo\":{\"bgcolor\":\"white\",\"lakecolor\":\"white\",\"landcolor\":\"#E5ECF6\",\"showlakes\":true,\"showland\":true,\"subunitcolor\":\"white\"},\"hoverlabel\":{\"align\":\"left\"},\"hovermode\":\"closest\",\"mapbox\":{\"style\":\"light\"},\"paper_bgcolor\":\"white\",\"plot_bgcolor\":\"#E5ECF6\",\"polar\":{\"angularaxis\":{\"gridcolor\":\"white\",\"linecolor\":\"white\",\"ticks\":\"\"},\"bgcolor\":\"#E5ECF6\",\"radialaxis\":{\"gridcolor\":\"white\",\"linecolor\":\"white\",\"ticks\":\"\"}},\"scene\":{\"xaxis\":{\"backgroundcolor\":\"#E5ECF6\",\"gridcolor\":\"white\",\"gridwidth\":2,\"linecolor\":\"white\",\"showbackground\":true,\"ticks\":\"\",\"zerolinecolor\":\"white\"},\"yaxis\":{\"backgroundcolor\":\"#E5ECF6\",\"gridcolor\":\"white\",\"gridwidth\":2,\"linecolor\":\"white\",\"showbackground\":true,\"ticks\":\"\",\"zerolinecolor\":\"white\"},\"zaxis\":{\"backgroundcolor\":\"#E5ECF6\",\"gridcolor\":\"white\",\"gridwidth\":2,\"linecolor\":\"white\",\"showbackground\":true,\"ticks\":\"\",\"zerolinecolor\":\"white\"}},\"shapedefaults\":{\"line\":{\"color\":\"#2a3f5f\"}},\"ternary\":{\"aaxis\":{\"gridcolor\":\"white\",\"linecolor\":\"white\",\"ticks\":\"\"},\"baxis\":{\"gridcolor\":\"white\",\"linecolor\":\"white\",\"ticks\":\"\"},\"bgcolor\":\"#E5ECF6\",\"caxis\":{\"gridcolor\":\"white\",\"linecolor\":\"white\",\"ticks\":\"\"}},\"title\":{\"x\":0.05},\"xaxis\":{\"automargin\":true,\"gridcolor\":\"white\",\"linecolor\":\"white\",\"ticks\":\"\",\"title\":{\"standoff\":15},\"zerolinecolor\":\"white\",\"zerolinewidth\":2},\"yaxis\":{\"automargin\":true,\"gridcolor\":\"white\",\"linecolor\":\"white\",\"ticks\":\"\",\"title\":{\"standoff\":15},\"zerolinecolor\":\"white\",\"zerolinewidth\":2}}},\"xaxis\":{\"anchor\":\"y\",\"domain\":[0.0,1.0],\"title\":{\"text\":\"Score Threshold\"}},\"yaxis\":{\"anchor\":\"x\",\"domain\":[0.0,1.0],\"title\":{\"text\":\"Value\"}},\"legend\":{\"title\":{\"text\":\"Rate\"},\"tracegroupgap\":0},\"title\":{\"text\":\"Precision Recall Tradeoff<br><sub>Black line is default threshold of 0.5.</sub>\"},\"height\":550,\"width\":889.9186938125,\"shapes\":[{\"line\":{\"color\":\"#2A3132\"},\"type\":\"line\",\"x0\":0.5,\"x1\":0.5,\"xref\":\"x\",\"y0\":0,\"y1\":1,\"yref\":\"y domain\"}]},                        {\"responsive\": true}                    ).then(function(){\n",
       "                            \n",
       "var gd = document.getElementById('7426f259-f5ad-4e0f-addc-2400312f1f65');\n",
       "var x = new MutationObserver(function (mutations, observer) {{\n",
       "        var display = window.getComputedStyle(gd).display;\n",
       "        if (!display || display === 'none') {{\n",
       "            console.log([gd, 'removed!']);\n",
       "            Plotly.purge(gd);\n",
       "            observer.disconnect();\n",
       "        }}\n",
       "}});\n",
       "\n",
       "// Listen for the removal of the full notebook cells\n",
       "var notebookContainer = gd.closest('#notebook-container');\n",
       "if (notebookContainer) {{\n",
       "    x.observe(notebookContainer, {childList: true});\n",
       "}}\n",
       "\n",
       "// Listen for the clearing of the current output cell\n",
       "var outputEl = gd.closest('.output');\n",
       "if (outputEl) {{\n",
       "    x.observe(outputEl, {childList: true});\n",
       "}}\n",
       "\n",
       "                        })                };                });            </script>        </div>"
      ]
     },
     "metadata": {},
     "output_type": "display_data"
    },
    {
     "data": {
      "text/plain": [
       "<Figure size 720x444.984 with 0 Axes>"
      ]
     },
     "metadata": {},
     "output_type": "display_data"
    }
   ],
   "source": [
    "fig = evaluator.plot_precision_recall_tradeoff(score_threshold_range=(0.4, 0.95),\n",
    "                                               return_plotly=True)\n",
    "fig.show()"
   ]
  },
  {
   "cell_type": "code",
   "execution_count": 38,
   "id": "74863f55",
   "metadata": {},
   "outputs": [
    {
     "data": {
      "text/html": [
       "<style type=\"text/css\">\n",
       "#T_41401_row0_col3 {\n",
       "  width: 10em;\n",
       "  height: 80%;\n",
       "  background: linear-gradient(90deg,#7AA9CF 7.0%, transparent 7.0%);\n",
       "}\n",
       "#T_41401_row0_col4, #T_41401_row1_col4, #T_41401_row19_col3 {\n",
       "  width: 10em;\n",
       "  height: 80%;\n",
       "  background: linear-gradient(90deg,#7AA9CF 100.0%, transparent 100.0%);\n",
       "}\n",
       "#T_41401_row1_col3 {\n",
       "  width: 10em;\n",
       "  height: 80%;\n",
       "  background: linear-gradient(90deg,#7AA9CF 14.0%, transparent 14.0%);\n",
       "}\n",
       "#T_41401_row2_col3 {\n",
       "  width: 10em;\n",
       "  height: 80%;\n",
       "  background: linear-gradient(90deg,#7AA9CF 21.0%, transparent 21.0%);\n",
       "}\n",
       "#T_41401_row2_col4 {\n",
       "  width: 10em;\n",
       "  height: 80%;\n",
       "  background: linear-gradient(90deg,#7AA9CF 88.1%, transparent 88.1%);\n",
       "}\n",
       "#T_41401_row3_col3 {\n",
       "  width: 10em;\n",
       "  height: 80%;\n",
       "  background: linear-gradient(90deg,#7AA9CF 28.0%, transparent 28.0%);\n",
       "}\n",
       "#T_41401_row3_col4 {\n",
       "  width: 10em;\n",
       "  height: 80%;\n",
       "  background: linear-gradient(90deg,#7AA9CF 90.5%, transparent 90.5%);\n",
       "}\n",
       "#T_41401_row4_col3 {\n",
       "  width: 10em;\n",
       "  height: 80%;\n",
       "  background: linear-gradient(90deg,#7AA9CF 33.0%, transparent 33.0%);\n",
       "}\n",
       "#T_41401_row4_col4 {\n",
       "  width: 10em;\n",
       "  height: 80%;\n",
       "  background: linear-gradient(90deg,#7AA9CF 78.6%, transparent 78.6%);\n",
       "}\n",
       "#T_41401_row5_col3 {\n",
       "  width: 10em;\n",
       "  height: 80%;\n",
       "  background: linear-gradient(90deg,#7AA9CF 38.0%, transparent 38.0%);\n",
       "}\n",
       "#T_41401_row5_col4, #T_41401_row6_col4 {\n",
       "  width: 10em;\n",
       "  height: 80%;\n",
       "  background: linear-gradient(90deg,#7AA9CF 66.7%, transparent 66.7%);\n",
       "}\n",
       "#T_41401_row6_col3 {\n",
       "  width: 10em;\n",
       "  height: 80%;\n",
       "  background: linear-gradient(90deg,#7AA9CF 45.0%, transparent 45.0%);\n",
       "}\n",
       "#T_41401_row7_col3 {\n",
       "  width: 10em;\n",
       "  height: 80%;\n",
       "  background: linear-gradient(90deg,#7AA9CF 52.0%, transparent 52.0%);\n",
       "}\n",
       "#T_41401_row7_col4 {\n",
       "  width: 10em;\n",
       "  height: 80%;\n",
       "  background: linear-gradient(90deg,#7AA9CF 69.0%, transparent 69.0%);\n",
       "}\n",
       "#T_41401_row8_col3 {\n",
       "  width: 10em;\n",
       "  height: 80%;\n",
       "  background: linear-gradient(90deg,#7AA9CF 56.0%, transparent 56.0%);\n",
       "}\n",
       "#T_41401_row8_col4, #T_41401_row9_col4 {\n",
       "  width: 10em;\n",
       "  height: 80%;\n",
       "  background: linear-gradient(90deg,#7AA9CF 59.5%, transparent 59.5%);\n",
       "}\n",
       "#T_41401_row9_col3 {\n",
       "  width: 10em;\n",
       "  height: 80%;\n",
       "  background: linear-gradient(90deg,#7AA9CF 62.0%, transparent 62.0%);\n",
       "}\n",
       "#T_41401_row10_col3 {\n",
       "  width: 10em;\n",
       "  height: 80%;\n",
       "  background: linear-gradient(90deg,#7AA9CF 70.0%, transparent 70.0%);\n",
       "}\n",
       "#T_41401_row10_col4 {\n",
       "  width: 10em;\n",
       "  height: 80%;\n",
       "  background: linear-gradient(90deg,#7AA9CF 61.9%, transparent 61.9%);\n",
       "}\n",
       "#T_41401_row11_col3 {\n",
       "  width: 10em;\n",
       "  height: 80%;\n",
       "  background: linear-gradient(90deg,#7AA9CF 74.0%, transparent 74.0%);\n",
       "}\n",
       "#T_41401_row11_col4 {\n",
       "  width: 10em;\n",
       "  height: 80%;\n",
       "  background: linear-gradient(90deg,#7AA9CF 57.1%, transparent 57.1%);\n",
       "}\n",
       "#T_41401_row12_col3 {\n",
       "  width: 10em;\n",
       "  height: 80%;\n",
       "  background: linear-gradient(90deg,#7AA9CF 79.0%, transparent 79.0%);\n",
       "}\n",
       "#T_41401_row12_col4 {\n",
       "  width: 10em;\n",
       "  height: 80%;\n",
       "  background: linear-gradient(90deg,#7AA9CF 50.0%, transparent 50.0%);\n",
       "}\n",
       "#T_41401_row13_col3 {\n",
       "  width: 10em;\n",
       "  height: 80%;\n",
       "  background: linear-gradient(90deg,#7AA9CF 83.0%, transparent 83.0%);\n",
       "}\n",
       "#T_41401_row13_col4 {\n",
       "  width: 10em;\n",
       "  height: 80%;\n",
       "  background: linear-gradient(90deg,#7AA9CF 45.2%, transparent 45.2%);\n",
       "}\n",
       "#T_41401_row14_col3 {\n",
       "  width: 10em;\n",
       "  height: 80%;\n",
       "  background: linear-gradient(90deg,#7AA9CF 88.0%, transparent 88.0%);\n",
       "}\n",
       "#T_41401_row14_col4 {\n",
       "  width: 10em;\n",
       "  height: 80%;\n",
       "  background: linear-gradient(90deg,#7AA9CF 40.5%, transparent 40.5%);\n",
       "}\n",
       "#T_41401_row15_col3 {\n",
       "  width: 10em;\n",
       "  height: 80%;\n",
       "  background: linear-gradient(90deg,#7AA9CF 90.0%, transparent 90.0%);\n",
       "}\n",
       "#T_41401_row15_col4 {\n",
       "  width: 10em;\n",
       "  height: 80%;\n",
       "  background: linear-gradient(90deg,#7AA9CF 31.0%, transparent 31.0%);\n",
       "}\n",
       "#T_41401_row16_col3 {\n",
       "  width: 10em;\n",
       "  height: 80%;\n",
       "  background: linear-gradient(90deg,#7AA9CF 94.0%, transparent 94.0%);\n",
       "}\n",
       "#T_41401_row16_col4 {\n",
       "  width: 10em;\n",
       "  height: 80%;\n",
       "  background: linear-gradient(90deg,#7AA9CF 23.8%, transparent 23.8%);\n",
       "}\n",
       "#T_41401_row17_col3 {\n",
       "  width: 10em;\n",
       "  height: 80%;\n",
       "  background: linear-gradient(90deg,#7AA9CF 96.0%, transparent 96.0%);\n",
       "}\n",
       "#T_41401_row17_col4 {\n",
       "  width: 10em;\n",
       "  height: 80%;\n",
       "  background: linear-gradient(90deg,#7AA9CF 14.3%, transparent 14.3%);\n",
       "}\n",
       "#T_41401_row18_col3 {\n",
       "  width: 10em;\n",
       "  height: 80%;\n",
       "  background: linear-gradient(90deg,#7AA9CF 97.0%, transparent 97.0%);\n",
       "}\n",
       "#T_41401_row18_col4 {\n",
       "  width: 10em;\n",
       "  height: 80%;\n",
       "  background: linear-gradient(90deg,#7AA9CF 4.8%, transparent 4.8%);\n",
       "}\n",
       "#T_41401_row19_col4 {\n",
       "  width: 10em;\n",
       "  height: 80%;\n",
       "}\n",
       "</style>\n",
       "<table id=\"T_41401_\">\n",
       "  <thead>\n",
       "    <tr>\n",
       "      <th class=\"blank level0\" >&nbsp;</th>\n",
       "      <th class=\"col_heading level0 col0\" ># of Obs.</th>\n",
       "      <th class=\"col_heading level0 col1\" ># of Pos. Events</th>\n",
       "      <th class=\"col_heading level0 col2\" >Cumul. Pos. Events</th>\n",
       "      <th class=\"col_heading level0 col3\" >Gain</th>\n",
       "      <th class=\"col_heading level0 col4\" >Lift</th>\n",
       "    </tr>\n",
       "    <tr>\n",
       "      <th class=\"index_name level0\" >Percentile</th>\n",
       "      <th class=\"blank col0\" >&nbsp;</th>\n",
       "      <th class=\"blank col1\" >&nbsp;</th>\n",
       "      <th class=\"blank col2\" >&nbsp;</th>\n",
       "      <th class=\"blank col3\" >&nbsp;</th>\n",
       "      <th class=\"blank col4\" >&nbsp;</th>\n",
       "    </tr>\n",
       "  </thead>\n",
       "  <tbody>\n",
       "    <tr>\n",
       "      <th id=\"T_41401_level0_row0\" class=\"row_heading level0 row0\" >5</th>\n",
       "      <td id=\"T_41401_row0_col0\" class=\"data row0 col0\" >10</td>\n",
       "      <td id=\"T_41401_row0_col1\" class=\"data row0 col1\" >10</td>\n",
       "      <td id=\"T_41401_row0_col2\" class=\"data row0 col2\" >10</td>\n",
       "      <td id=\"T_41401_row0_col3\" class=\"data row0 col3\" >0.07</td>\n",
       "      <td id=\"T_41401_row0_col4\" class=\"data row0 col4\" >1.42</td>\n",
       "    </tr>\n",
       "    <tr>\n",
       "      <th id=\"T_41401_level0_row1\" class=\"row_heading level0 row1\" >10</th>\n",
       "      <td id=\"T_41401_row1_col0\" class=\"data row1 col0\" >10</td>\n",
       "      <td id=\"T_41401_row1_col1\" class=\"data row1 col1\" >10</td>\n",
       "      <td id=\"T_41401_row1_col2\" class=\"data row1 col2\" >20</td>\n",
       "      <td id=\"T_41401_row1_col3\" class=\"data row1 col3\" >0.14</td>\n",
       "      <td id=\"T_41401_row1_col4\" class=\"data row1 col4\" >1.42</td>\n",
       "    </tr>\n",
       "    <tr>\n",
       "      <th id=\"T_41401_level0_row2\" class=\"row_heading level0 row2\" >15</th>\n",
       "      <td id=\"T_41401_row2_col0\" class=\"data row2 col0\" >10</td>\n",
       "      <td id=\"T_41401_row2_col1\" class=\"data row2 col1\" >9</td>\n",
       "      <td id=\"T_41401_row2_col2\" class=\"data row2 col2\" >29</td>\n",
       "      <td id=\"T_41401_row2_col3\" class=\"data row2 col3\" >0.21</td>\n",
       "      <td id=\"T_41401_row2_col4\" class=\"data row2 col4\" >1.37</td>\n",
       "    </tr>\n",
       "    <tr>\n",
       "      <th id=\"T_41401_level0_row3\" class=\"row_heading level0 row3\" >20</th>\n",
       "      <td id=\"T_41401_row3_col0\" class=\"data row3 col0\" >10</td>\n",
       "      <td id=\"T_41401_row3_col1\" class=\"data row3 col1\" >10</td>\n",
       "      <td id=\"T_41401_row3_col2\" class=\"data row3 col2\" >39</td>\n",
       "      <td id=\"T_41401_row3_col3\" class=\"data row3 col3\" >0.28</td>\n",
       "      <td id=\"T_41401_row3_col4\" class=\"data row3 col4\" >1.38</td>\n",
       "    </tr>\n",
       "    <tr>\n",
       "      <th id=\"T_41401_level0_row4\" class=\"row_heading level0 row4\" >25</th>\n",
       "      <td id=\"T_41401_row4_col0\" class=\"data row4 col0\" >10</td>\n",
       "      <td id=\"T_41401_row4_col1\" class=\"data row4 col1\" >8</td>\n",
       "      <td id=\"T_41401_row4_col2\" class=\"data row4 col2\" >47</td>\n",
       "      <td id=\"T_41401_row4_col3\" class=\"data row4 col3\" >0.33</td>\n",
       "      <td id=\"T_41401_row4_col4\" class=\"data row4 col4\" >1.33</td>\n",
       "    </tr>\n",
       "    <tr>\n",
       "      <th id=\"T_41401_level0_row5\" class=\"row_heading level0 row5\" >30</th>\n",
       "      <td id=\"T_41401_row5_col0\" class=\"data row5 col0\" >10</td>\n",
       "      <td id=\"T_41401_row5_col1\" class=\"data row5 col1\" >7</td>\n",
       "      <td id=\"T_41401_row5_col2\" class=\"data row5 col2\" >54</td>\n",
       "      <td id=\"T_41401_row5_col3\" class=\"data row5 col3\" >0.38</td>\n",
       "      <td id=\"T_41401_row5_col4\" class=\"data row5 col4\" >1.28</td>\n",
       "    </tr>\n",
       "    <tr>\n",
       "      <th id=\"T_41401_level0_row6\" class=\"row_heading level0 row6\" >35</th>\n",
       "      <td id=\"T_41401_row6_col0\" class=\"data row6 col0\" >10</td>\n",
       "      <td id=\"T_41401_row6_col1\" class=\"data row6 col1\" >9</td>\n",
       "      <td id=\"T_41401_row6_col2\" class=\"data row6 col2\" >63</td>\n",
       "      <td id=\"T_41401_row6_col3\" class=\"data row6 col3\" >0.45</td>\n",
       "      <td id=\"T_41401_row6_col4\" class=\"data row6 col4\" >1.28</td>\n",
       "    </tr>\n",
       "    <tr>\n",
       "      <th id=\"T_41401_level0_row7\" class=\"row_heading level0 row7\" >40</th>\n",
       "      <td id=\"T_41401_row7_col0\" class=\"data row7 col0\" >10</td>\n",
       "      <td id=\"T_41401_row7_col1\" class=\"data row7 col1\" >10</td>\n",
       "      <td id=\"T_41401_row7_col2\" class=\"data row7 col2\" >73</td>\n",
       "      <td id=\"T_41401_row7_col3\" class=\"data row7 col3\" >0.52</td>\n",
       "      <td id=\"T_41401_row7_col4\" class=\"data row7 col4\" >1.29</td>\n",
       "    </tr>\n",
       "    <tr>\n",
       "      <th id=\"T_41401_level0_row8\" class=\"row_heading level0 row8\" >45</th>\n",
       "      <td id=\"T_41401_row8_col0\" class=\"data row8 col0\" >10</td>\n",
       "      <td id=\"T_41401_row8_col1\" class=\"data row8 col1\" >6</td>\n",
       "      <td id=\"T_41401_row8_col2\" class=\"data row8 col2\" >79</td>\n",
       "      <td id=\"T_41401_row8_col3\" class=\"data row8 col3\" >0.56</td>\n",
       "      <td id=\"T_41401_row8_col4\" class=\"data row8 col4\" >1.25</td>\n",
       "    </tr>\n",
       "    <tr>\n",
       "      <th id=\"T_41401_level0_row9\" class=\"row_heading level0 row9\" >50</th>\n",
       "      <td id=\"T_41401_row9_col0\" class=\"data row9 col0\" >10</td>\n",
       "      <td id=\"T_41401_row9_col1\" class=\"data row9 col1\" >9</td>\n",
       "      <td id=\"T_41401_row9_col2\" class=\"data row9 col2\" >88</td>\n",
       "      <td id=\"T_41401_row9_col3\" class=\"data row9 col3\" >0.62</td>\n",
       "      <td id=\"T_41401_row9_col4\" class=\"data row9 col4\" >1.25</td>\n",
       "    </tr>\n",
       "    <tr>\n",
       "      <th id=\"T_41401_level0_row10\" class=\"row_heading level0 row10\" >55</th>\n",
       "      <td id=\"T_41401_row10_col0\" class=\"data row10 col0\" >10</td>\n",
       "      <td id=\"T_41401_row10_col1\" class=\"data row10 col1\" >10</td>\n",
       "      <td id=\"T_41401_row10_col2\" class=\"data row10 col2\" >98</td>\n",
       "      <td id=\"T_41401_row10_col3\" class=\"data row10 col3\" >0.70</td>\n",
       "      <td id=\"T_41401_row10_col4\" class=\"data row10 col4\" >1.26</td>\n",
       "    </tr>\n",
       "    <tr>\n",
       "      <th id=\"T_41401_level0_row11\" class=\"row_heading level0 row11\" >60</th>\n",
       "      <td id=\"T_41401_row11_col0\" class=\"data row11 col0\" >10</td>\n",
       "      <td id=\"T_41401_row11_col1\" class=\"data row11 col1\" >7</td>\n",
       "      <td id=\"T_41401_row11_col2\" class=\"data row11 col2\" >105</td>\n",
       "      <td id=\"T_41401_row11_col3\" class=\"data row11 col3\" >0.74</td>\n",
       "      <td id=\"T_41401_row11_col4\" class=\"data row11 col4\" >1.24</td>\n",
       "    </tr>\n",
       "    <tr>\n",
       "      <th id=\"T_41401_level0_row12\" class=\"row_heading level0 row12\" >65</th>\n",
       "      <td id=\"T_41401_row12_col0\" class=\"data row12 col0\" >10</td>\n",
       "      <td id=\"T_41401_row12_col1\" class=\"data row12 col1\" >6</td>\n",
       "      <td id=\"T_41401_row12_col2\" class=\"data row12 col2\" >111</td>\n",
       "      <td id=\"T_41401_row12_col3\" class=\"data row12 col3\" >0.79</td>\n",
       "      <td id=\"T_41401_row12_col4\" class=\"data row12 col4\" >1.21</td>\n",
       "    </tr>\n",
       "    <tr>\n",
       "      <th id=\"T_41401_level0_row13\" class=\"row_heading level0 row13\" >70</th>\n",
       "      <td id=\"T_41401_row13_col0\" class=\"data row13 col0\" >10</td>\n",
       "      <td id=\"T_41401_row13_col1\" class=\"data row13 col1\" >6</td>\n",
       "      <td id=\"T_41401_row13_col2\" class=\"data row13 col2\" >117</td>\n",
       "      <td id=\"T_41401_row13_col3\" class=\"data row13 col3\" >0.83</td>\n",
       "      <td id=\"T_41401_row13_col4\" class=\"data row13 col4\" >1.19</td>\n",
       "    </tr>\n",
       "    <tr>\n",
       "      <th id=\"T_41401_level0_row14\" class=\"row_heading level0 row14\" >75</th>\n",
       "      <td id=\"T_41401_row14_col0\" class=\"data row14 col0\" >10</td>\n",
       "      <td id=\"T_41401_row14_col1\" class=\"data row14 col1\" >7</td>\n",
       "      <td id=\"T_41401_row14_col2\" class=\"data row14 col2\" >124</td>\n",
       "      <td id=\"T_41401_row14_col3\" class=\"data row14 col3\" >0.88</td>\n",
       "      <td id=\"T_41401_row14_col4\" class=\"data row14 col4\" >1.17</td>\n",
       "    </tr>\n",
       "    <tr>\n",
       "      <th id=\"T_41401_level0_row15\" class=\"row_heading level0 row15\" >80</th>\n",
       "      <td id=\"T_41401_row15_col0\" class=\"data row15 col0\" >10</td>\n",
       "      <td id=\"T_41401_row15_col1\" class=\"data row15 col1\" >3</td>\n",
       "      <td id=\"T_41401_row15_col2\" class=\"data row15 col2\" >127</td>\n",
       "      <td id=\"T_41401_row15_col3\" class=\"data row15 col3\" >0.90</td>\n",
       "      <td id=\"T_41401_row15_col4\" class=\"data row15 col4\" >1.13</td>\n",
       "    </tr>\n",
       "    <tr>\n",
       "      <th id=\"T_41401_level0_row16\" class=\"row_heading level0 row16\" >85</th>\n",
       "      <td id=\"T_41401_row16_col0\" class=\"data row16 col0\" >10</td>\n",
       "      <td id=\"T_41401_row16_col1\" class=\"data row16 col1\" >5</td>\n",
       "      <td id=\"T_41401_row16_col2\" class=\"data row16 col2\" >132</td>\n",
       "      <td id=\"T_41401_row16_col3\" class=\"data row16 col3\" >0.94</td>\n",
       "      <td id=\"T_41401_row16_col4\" class=\"data row16 col4\" >1.10</td>\n",
       "    </tr>\n",
       "    <tr>\n",
       "      <th id=\"T_41401_level0_row17\" class=\"row_heading level0 row17\" >90</th>\n",
       "      <td id=\"T_41401_row17_col0\" class=\"data row17 col0\" >10</td>\n",
       "      <td id=\"T_41401_row17_col1\" class=\"data row17 col1\" >3</td>\n",
       "      <td id=\"T_41401_row17_col2\" class=\"data row17 col2\" >135</td>\n",
       "      <td id=\"T_41401_row17_col3\" class=\"data row17 col3\" >0.96</td>\n",
       "      <td id=\"T_41401_row17_col4\" class=\"data row17 col4\" >1.06</td>\n",
       "    </tr>\n",
       "    <tr>\n",
       "      <th id=\"T_41401_level0_row18\" class=\"row_heading level0 row18\" >95</th>\n",
       "      <td id=\"T_41401_row18_col0\" class=\"data row18 col0\" >10</td>\n",
       "      <td id=\"T_41401_row18_col1\" class=\"data row18 col1\" >2</td>\n",
       "      <td id=\"T_41401_row18_col2\" class=\"data row18 col2\" >137</td>\n",
       "      <td id=\"T_41401_row18_col3\" class=\"data row18 col3\" >0.97</td>\n",
       "      <td id=\"T_41401_row18_col4\" class=\"data row18 col4\" >1.02</td>\n",
       "    </tr>\n",
       "    <tr>\n",
       "      <th id=\"T_41401_level0_row19\" class=\"row_heading level0 row19\" >100</th>\n",
       "      <td id=\"T_41401_row19_col0\" class=\"data row19 col0\" >10</td>\n",
       "      <td id=\"T_41401_row19_col1\" class=\"data row19 col1\" >4</td>\n",
       "      <td id=\"T_41401_row19_col2\" class=\"data row19 col2\" >141</td>\n",
       "      <td id=\"T_41401_row19_col3\" class=\"data row19 col3\" >1.00</td>\n",
       "      <td id=\"T_41401_row19_col4\" class=\"data row19 col4\" >1.00</td>\n",
       "    </tr>\n",
       "  </tbody>\n",
       "</table>\n"
      ],
      "text/plain": [
       "<pandas.io.formats.style.Styler at 0x7fb234e2f250>"
      ]
     },
     "execution_count": 38,
     "metadata": {},
     "output_type": "execute_result"
    }
   ],
   "source": [
    "evaluator.calculate_lift_gain(return_style=True, include_all_info=True)"
   ]
  },
  {
   "cell_type": "code",
   "execution_count": 39,
   "id": "b9028e2f",
   "metadata": {
    "pycharm": {
     "name": "#%%\n"
    }
   },
   "outputs": [],
   "source": [
    "del predicted_scores"
   ]
  },
  {
   "cell_type": "markdown",
   "id": "6d5b72e3",
   "metadata": {},
   "source": [
    "# Feature Importance\n",
    "\n",
    "https://scikit-learn.org/stable/auto_examples/ensemble/plot_forest_importances.html"
   ]
  },
  {
   "cell_type": "code",
   "execution_count": 40,
   "id": "66a1cb40",
   "metadata": {},
   "outputs": [
    {
     "name": "stdout",
     "output_type": "stream",
     "text": [
      "Elapsed time to compute the importances: 35.164 seconds\n"
     ]
    }
   ],
   "source": [
    "from sklearn.inspection import permutation_importance\n",
    "import time\n",
    "\n",
    "estimator = stacking_model\n",
    "\n",
    "start_time = time.time()\n",
    "result = permutation_importance(\n",
    "    estimator, X_train, y_train, n_repeats=10, random_state=42, n_jobs=2\n",
    ")\n",
    "elapsed_time = time.time() - start_time\n",
    "print(f\"Elapsed time to compute the importances: {elapsed_time:.3f} seconds\")\n",
    "\n",
    "feature_names = X_train.columns.to_list()\n",
    "forest_importances = pd.Series(result.importances_mean, index=feature_names)\n",
    "forest_importances = forest_importances.sort_values(ascending=False)"
   ]
  },
  {
   "cell_type": "code",
   "execution_count": 41,
   "id": "c04d3bcc",
   "metadata": {},
   "outputs": [
    {
     "data": {
      "image/png": "[encoded data removed]",
      "text/plain": [
       "<Figure size 648x432 with 1 Axes>"
      ]
     },
     "metadata": {
      "needs_background": "light"
     },
     "output_type": "display_data"
    }
   ],
   "source": [
    "import matplotlib.pyplot as plt\n",
    "fig, ax = plt.subplots()\n",
    "forest_importances.plot.bar(yerr=result.importances_std, ax=ax)\n",
    "ax.set_title(\"Feature importances using permutation on full model\")\n",
    "ax.set_ylabel(\"Mean accuracy decrease\")\n",
    "fig.set_size_inches(9, 6)\n",
    "fig.tight_layout()\n",
    "plt.show()"
   ]
  }
 ],
 "metadata": {
  "kernelspec": {
   "display_name": "Python 3 (ipykernel)",
   "language": "python",
   "name": "python3"
  },
  "language_info": {
   "codemirror_mode": {
    "name": "ipython",
    "version": 3
   },
   "file_extension": ".py",
   "mimetype": "text/x-python",
   "name": "python",
   "nbconvert_exporter": "python",
   "pygments_lexer": "ipython3",
   "version": "3.9.6"
  },
  "toc": {
   "base_numbering": 1,
   "nav_menu": {},
   "number_sections": false,
   "sideBar": true,
   "skip_h1_title": false,
   "title_cell": "Table of Contents",
   "title_sidebar": "Contents",
   "toc_cell": false,
   "toc_position": {
    "height": "calc(100% - 180px)",
    "left": "10px",
    "top": "150px",
    "width": "298px"
   },
   "toc_section_display": true,
   "toc_window_display": true
  }
 },
 "nbformat": 4,
 "nbformat_minor": 5
}
