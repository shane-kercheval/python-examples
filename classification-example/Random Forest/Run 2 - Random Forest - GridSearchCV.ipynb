{
 "cells": [
  {
   "cell_type": "markdown",
   "id": "e1737b9b",
   "metadata": {
    "pycharm": {
     "name": "#%% md\n"
    }
   },
   "source": [
    "This files contains an example of tuning a Random Forest model with BayesSearchCV\n",
    "\n",
    "It saves the BayesSearchCV object to the `cross-validation.pkl`"
   ]
  },
  {
   "cell_type": "code",
   "execution_count": 1,
   "id": "c5f3fe51",
   "metadata": {},
   "outputs": [],
   "source": [
    "import pickle\n",
    "import helpsk as hlp\n",
    "import matplotlib.pyplot as plt\n",
    "import pandas as pd\n",
    "import numpy as np\n",
    "from sklearn.datasets import fetch_openml\n",
    "import seaborn as sns\n",
    "\n",
    "from sklearn.pipeline import Pipeline\n",
    "from sklearn.preprocessing import StandardScaler, MinMaxScaler, OneHotEncoder\n",
    "from sklearn.impute import SimpleImputer\n",
    "from sklearn.model_selection import train_test_split\n",
    "\n",
    "%matplotlib inline"
   ]
  },
  {
   "cell_type": "markdown",
   "id": "8ff88fe0",
   "metadata": {},
   "source": [
    "# Load Data"
   ]
  },
  {
   "cell_type": "code",
   "execution_count": 2,
   "id": "07990064",
   "metadata": {
    "pycharm": {
     "name": "#%%\n"
    }
   },
   "outputs": [],
   "source": [
    "with open('../X_train.pkl', 'rb') as handle:\n",
    "    X_train = pickle.load(handle)\n",
    "\n",
    "with open('../y_train.pkl', 'rb') as handle:\n",
    "    y_train = pickle.load(handle)"
   ]
  },
  {
   "cell_type": "code",
   "execution_count": 3,
   "id": "f7839f66",
   "metadata": {
    "pycharm": {
     "name": "#%%\n"
    }
   },
   "outputs": [
    {
     "data": {
      "text/html": [
       "<style type=\"text/css\">\n",
       "#T_40cae_row0_col1, #T_40cae_row1_col3 {\n",
       "  background-color: #EBB13E;\n",
       "}\n",
       "#T_40cae_row0_col2 {\n",
       "  width: 10em;\n",
       "  height: 80%;\n",
       "  background: linear-gradient(90deg,#CF3721 5.0%, transparent 5.0%);\n",
       "}\n",
       "#T_40cae_row0_col4, #T_40cae_row1_col2, #T_40cae_row2_col2, #T_40cae_row2_col4, #T_40cae_row3_col2, #T_40cae_row3_col4, #T_40cae_row4_col2, #T_40cae_row4_col4, #T_40cae_row5_col2, #T_40cae_row5_col4, #T_40cae_row6_col2, #T_40cae_row6_col4 {\n",
       "  width: 10em;\n",
       "  height: 80%;\n",
       "}\n",
       "#T_40cae_row0_col7 {\n",
       "  width: 10em;\n",
       "  height: 80%;\n",
       "  background: linear-gradient(90deg,#B4B7B9 56.0%, transparent 56.0%);\n",
       "}\n",
       "#T_40cae_row0_col8 {\n",
       "  width: 10em;\n",
       "  height: 80%;\n",
       "  background: linear-gradient(90deg, transparent 50.0%, #B4B7B9 50.0%, #B4B7B9 75.2%, transparent 75.2%);\n",
       "}\n",
       "#T_40cae_row1_col4 {\n",
       "  width: 10em;\n",
       "  height: 80%;\n",
       "  background: linear-gradient(90deg,#B4B7B9 5.0%, transparent 5.0%);\n",
       "}\n",
       "#T_40cae_row1_col7 {\n",
       "  width: 10em;\n",
       "  height: 80%;\n",
       "  background: linear-gradient(90deg,#B4B7B9 92.0%, transparent 92.0%);\n",
       "}\n",
       "#T_40cae_row1_col8 {\n",
       "  width: 10em;\n",
       "  height: 80%;\n",
       "  background: linear-gradient(90deg, transparent 50.0%, #B4B7B9 50.0%, #B4B7B9 96.7%, transparent 96.7%);\n",
       "}\n",
       "#T_40cae_row2_col7 {\n",
       "  width: 10em;\n",
       "  height: 80%;\n",
       "  background: linear-gradient(90deg,#B4B7B9 38.0%, transparent 38.0%);\n",
       "}\n",
       "#T_40cae_row2_col8 {\n",
       "  width: 10em;\n",
       "  height: 80%;\n",
       "  background: linear-gradient(90deg, transparent 37.0%, #B4B7B9 37.0%, #B4B7B9 50.0%, transparent 50.0%);\n",
       "}\n",
       "#T_40cae_row3_col7 {\n",
       "  width: 10em;\n",
       "  height: 80%;\n",
       "  background: linear-gradient(90deg,#B4B7B9 39.0%, transparent 39.0%);\n",
       "}\n",
       "#T_40cae_row3_col8 {\n",
       "  width: 10em;\n",
       "  height: 80%;\n",
       "  background: linear-gradient(90deg, transparent 43.2%, #B4B7B9 43.2%, #B4B7B9 50.0%, transparent 50.0%);\n",
       "}\n",
       "#T_40cae_row4_col7 {\n",
       "  width: 10em;\n",
       "  height: 80%;\n",
       "  background: linear-gradient(90deg,#B4B7B9 32.0%, transparent 32.0%);\n",
       "}\n",
       "#T_40cae_row4_col8 {\n",
       "  width: 10em;\n",
       "  height: 80%;\n",
       "  background: linear-gradient(90deg, transparent 50.0%, #B4B7B9 50.0%, #B4B7B9 75.7%, transparent 75.7%);\n",
       "}\n",
       "#T_40cae_row5_col7 {\n",
       "  width: 10em;\n",
       "  height: 80%;\n",
       "  background: linear-gradient(90deg,#B4B7B9 41.0%, transparent 41.0%);\n",
       "}\n",
       "#T_40cae_row5_col8 {\n",
       "  width: 10em;\n",
       "  height: 80%;\n",
       "  background: linear-gradient(90deg, transparent 50.0%, #B4B7B9 50.0%, #B4B7B9 81.5%, transparent 81.5%);\n",
       "}\n",
       "#T_40cae_row6_col7 {\n",
       "  width: 10em;\n",
       "  height: 80%;\n",
       "  background: linear-gradient(90deg,#B4B7B9 31.0%, transparent 31.0%);\n",
       "}\n",
       "#T_40cae_row6_col8 {\n",
       "  width: 10em;\n",
       "  height: 80%;\n",
       "  background: linear-gradient(90deg, transparent 50.0%, #B4B7B9 50.0%, #B4B7B9 100.0%, transparent 100.0%);\n",
       "}\n",
       "</style>\n",
       "<table id=\"T_40cae_\">\n",
       "  <thead>\n",
       "    <tr>\n",
       "      <th class=\"blank level0\" >&nbsp;</th>\n",
       "      <th class=\"col_heading level0 col0\" ># of Non-Nulls</th>\n",
       "      <th class=\"col_heading level0 col1\" ># of Nulls</th>\n",
       "      <th class=\"col_heading level0 col2\" >% Nulls</th>\n",
       "      <th class=\"col_heading level0 col3\" ># of Zeros</th>\n",
       "      <th class=\"col_heading level0 col4\" >% Zeros</th>\n",
       "      <th class=\"col_heading level0 col5\" >Mean</th>\n",
       "      <th class=\"col_heading level0 col6\" >St Dev.</th>\n",
       "      <th class=\"col_heading level0 col7\" >Coef of Var</th>\n",
       "      <th class=\"col_heading level0 col8\" >Skewness</th>\n",
       "      <th class=\"col_heading level0 col9\" >Kurtosis</th>\n",
       "      <th class=\"col_heading level0 col10\" >Min</th>\n",
       "      <th class=\"col_heading level0 col11\" >10%</th>\n",
       "      <th class=\"col_heading level0 col12\" >25%</th>\n",
       "      <th class=\"col_heading level0 col13\" >50%</th>\n",
       "      <th class=\"col_heading level0 col14\" >75%</th>\n",
       "      <th class=\"col_heading level0 col15\" >90%</th>\n",
       "      <th class=\"col_heading level0 col16\" >Max</th>\n",
       "    </tr>\n",
       "  </thead>\n",
       "  <tbody>\n",
       "    <tr>\n",
       "      <th id=\"T_40cae_level0_row0\" class=\"row_heading level0 row0\" >duration</th>\n",
       "      <td id=\"T_40cae_row0_col0\" class=\"data row0 col0\" >760</td>\n",
       "      <td id=\"T_40cae_row0_col1\" class=\"data row0 col1\" >40</td>\n",
       "      <td id=\"T_40cae_row0_col2\" class=\"data row0 col2\" >5.0%</td>\n",
       "      <td id=\"T_40cae_row0_col3\" class=\"data row0 col3\" >0</td>\n",
       "      <td id=\"T_40cae_row0_col4\" class=\"data row0 col4\" >0.0%</td>\n",
       "      <td id=\"T_40cae_row0_col5\" class=\"data row0 col5\" >21.0</td>\n",
       "      <td id=\"T_40cae_row0_col6\" class=\"data row0 col6\" >11.7</td>\n",
       "      <td id=\"T_40cae_row0_col7\" class=\"data row0 col7\" >0.6</td>\n",
       "      <td id=\"T_40cae_row0_col8\" class=\"data row0 col8\" >1.0</td>\n",
       "      <td id=\"T_40cae_row0_col9\" class=\"data row0 col9\" >0.6</td>\n",
       "      <td id=\"T_40cae_row0_col10\" class=\"data row0 col10\" >4.0</td>\n",
       "      <td id=\"T_40cae_row0_col11\" class=\"data row0 col11\" >9.0</td>\n",
       "      <td id=\"T_40cae_row0_col12\" class=\"data row0 col12\" >12.0</td>\n",
       "      <td id=\"T_40cae_row0_col13\" class=\"data row0 col13\" >18.0</td>\n",
       "      <td id=\"T_40cae_row0_col14\" class=\"data row0 col14\" >24.0</td>\n",
       "      <td id=\"T_40cae_row0_col15\" class=\"data row0 col15\" >36.0</td>\n",
       "      <td id=\"T_40cae_row0_col16\" class=\"data row0 col16\" >60.0</td>\n",
       "    </tr>\n",
       "    <tr>\n",
       "      <th id=\"T_40cae_level0_row1\" class=\"row_heading level0 row1\" >credit_amount</th>\n",
       "      <td id=\"T_40cae_row1_col0\" class=\"data row1 col0\" >800</td>\n",
       "      <td id=\"T_40cae_row1_col1\" class=\"data row1 col1\" >0</td>\n",
       "      <td id=\"T_40cae_row1_col2\" class=\"data row1 col2\" >0.0%</td>\n",
       "      <td id=\"T_40cae_row1_col3\" class=\"data row1 col3\" >38</td>\n",
       "      <td id=\"T_40cae_row1_col4\" class=\"data row1 col4\" >5.0%</td>\n",
       "      <td id=\"T_40cae_row1_col5\" class=\"data row1 col5\" >3,203.9</td>\n",
       "      <td id=\"T_40cae_row1_col6\" class=\"data row1 col6\" >2,932.3</td>\n",
       "      <td id=\"T_40cae_row1_col7\" class=\"data row1 col7\" >0.9</td>\n",
       "      <td id=\"T_40cae_row1_col8\" class=\"data row1 col8\" >1.9</td>\n",
       "      <td id=\"T_40cae_row1_col9\" class=\"data row1 col9\" >3.9</td>\n",
       "      <td id=\"T_40cae_row1_col10\" class=\"data row1 col10\" >0.0</td>\n",
       "      <td id=\"T_40cae_row1_col11\" class=\"data row1 col11\" >753.9</td>\n",
       "      <td id=\"T_40cae_row1_col12\" class=\"data row1 col12\" >1,300.8</td>\n",
       "      <td id=\"T_40cae_row1_col13\" class=\"data row1 col13\" >2,236.5</td>\n",
       "      <td id=\"T_40cae_row1_col14\" class=\"data row1 col14\" >3,951.5</td>\n",
       "      <td id=\"T_40cae_row1_col15\" class=\"data row1 col15\" >7,394.6</td>\n",
       "      <td id=\"T_40cae_row1_col16\" class=\"data row1 col16\" >18,424.0</td>\n",
       "    </tr>\n",
       "    <tr>\n",
       "      <th id=\"T_40cae_level0_row2\" class=\"row_heading level0 row2\" >installment_commitment</th>\n",
       "      <td id=\"T_40cae_row2_col0\" class=\"data row2 col0\" >800</td>\n",
       "      <td id=\"T_40cae_row2_col1\" class=\"data row2 col1\" >0</td>\n",
       "      <td id=\"T_40cae_row2_col2\" class=\"data row2 col2\" >0.0%</td>\n",
       "      <td id=\"T_40cae_row2_col3\" class=\"data row2 col3\" >0</td>\n",
       "      <td id=\"T_40cae_row2_col4\" class=\"data row2 col4\" >0.0%</td>\n",
       "      <td id=\"T_40cae_row2_col5\" class=\"data row2 col5\" >3.0</td>\n",
       "      <td id=\"T_40cae_row2_col6\" class=\"data row2 col6\" >1.1</td>\n",
       "      <td id=\"T_40cae_row2_col7\" class=\"data row2 col7\" >0.4</td>\n",
       "      <td id=\"T_40cae_row2_col8\" class=\"data row2 col8\" >-0.5</td>\n",
       "      <td id=\"T_40cae_row2_col9\" class=\"data row2 col9\" >-1.2</td>\n",
       "      <td id=\"T_40cae_row2_col10\" class=\"data row2 col10\" >1.0</td>\n",
       "      <td id=\"T_40cae_row2_col11\" class=\"data row2 col11\" >1.0</td>\n",
       "      <td id=\"T_40cae_row2_col12\" class=\"data row2 col12\" >2.0</td>\n",
       "      <td id=\"T_40cae_row2_col13\" class=\"data row2 col13\" >3.0</td>\n",
       "      <td id=\"T_40cae_row2_col14\" class=\"data row2 col14\" >4.0</td>\n",
       "      <td id=\"T_40cae_row2_col15\" class=\"data row2 col15\" >4.0</td>\n",
       "      <td id=\"T_40cae_row2_col16\" class=\"data row2 col16\" >4.0</td>\n",
       "    </tr>\n",
       "    <tr>\n",
       "      <th id=\"T_40cae_level0_row3\" class=\"row_heading level0 row3\" >residence_since</th>\n",
       "      <td id=\"T_40cae_row3_col0\" class=\"data row3 col0\" >800</td>\n",
       "      <td id=\"T_40cae_row3_col1\" class=\"data row3 col1\" >0</td>\n",
       "      <td id=\"T_40cae_row3_col2\" class=\"data row3 col2\" >0.0%</td>\n",
       "      <td id=\"T_40cae_row3_col3\" class=\"data row3 col3\" >0</td>\n",
       "      <td id=\"T_40cae_row3_col4\" class=\"data row3 col4\" >0.0%</td>\n",
       "      <td id=\"T_40cae_row3_col5\" class=\"data row3 col5\" >2.9</td>\n",
       "      <td id=\"T_40cae_row3_col6\" class=\"data row3 col6\" >1.1</td>\n",
       "      <td id=\"T_40cae_row3_col7\" class=\"data row3 col7\" >0.4</td>\n",
       "      <td id=\"T_40cae_row3_col8\" class=\"data row3 col8\" >-0.3</td>\n",
       "      <td id=\"T_40cae_row3_col9\" class=\"data row3 col9\" >-1.4</td>\n",
       "      <td id=\"T_40cae_row3_col10\" class=\"data row3 col10\" >1.0</td>\n",
       "      <td id=\"T_40cae_row3_col11\" class=\"data row3 col11\" >1.0</td>\n",
       "      <td id=\"T_40cae_row3_col12\" class=\"data row3 col12\" >2.0</td>\n",
       "      <td id=\"T_40cae_row3_col13\" class=\"data row3 col13\" >3.0</td>\n",
       "      <td id=\"T_40cae_row3_col14\" class=\"data row3 col14\" >4.0</td>\n",
       "      <td id=\"T_40cae_row3_col15\" class=\"data row3 col15\" >4.0</td>\n",
       "      <td id=\"T_40cae_row3_col16\" class=\"data row3 col16\" >4.0</td>\n",
       "    </tr>\n",
       "    <tr>\n",
       "      <th id=\"T_40cae_level0_row4\" class=\"row_heading level0 row4\" >age</th>\n",
       "      <td id=\"T_40cae_row4_col0\" class=\"data row4 col0\" >800</td>\n",
       "      <td id=\"T_40cae_row4_col1\" class=\"data row4 col1\" >0</td>\n",
       "      <td id=\"T_40cae_row4_col2\" class=\"data row4 col2\" >0.0%</td>\n",
       "      <td id=\"T_40cae_row4_col3\" class=\"data row4 col3\" >0</td>\n",
       "      <td id=\"T_40cae_row4_col4\" class=\"data row4 col4\" >0.0%</td>\n",
       "      <td id=\"T_40cae_row4_col5\" class=\"data row4 col5\" >35.6</td>\n",
       "      <td id=\"T_40cae_row4_col6\" class=\"data row4 col6\" >11.4</td>\n",
       "      <td id=\"T_40cae_row4_col7\" class=\"data row4 col7\" >0.3</td>\n",
       "      <td id=\"T_40cae_row4_col8\" class=\"data row4 col8\" >1.0</td>\n",
       "      <td id=\"T_40cae_row4_col9\" class=\"data row4 col9\" >0.7</td>\n",
       "      <td id=\"T_40cae_row4_col10\" class=\"data row4 col10\" >19.0</td>\n",
       "      <td id=\"T_40cae_row4_col11\" class=\"data row4 col11\" >23.0</td>\n",
       "      <td id=\"T_40cae_row4_col12\" class=\"data row4 col12\" >27.0</td>\n",
       "      <td id=\"T_40cae_row4_col13\" class=\"data row4 col13\" >33.0</td>\n",
       "      <td id=\"T_40cae_row4_col14\" class=\"data row4 col14\" >42.0</td>\n",
       "      <td id=\"T_40cae_row4_col15\" class=\"data row4 col15\" >52.0</td>\n",
       "      <td id=\"T_40cae_row4_col16\" class=\"data row4 col16\" >75.0</td>\n",
       "    </tr>\n",
       "    <tr>\n",
       "      <th id=\"T_40cae_level0_row5\" class=\"row_heading level0 row5\" >existing_credits</th>\n",
       "      <td id=\"T_40cae_row5_col0\" class=\"data row5 col0\" >800</td>\n",
       "      <td id=\"T_40cae_row5_col1\" class=\"data row5 col1\" >0</td>\n",
       "      <td id=\"T_40cae_row5_col2\" class=\"data row5 col2\" >0.0%</td>\n",
       "      <td id=\"T_40cae_row5_col3\" class=\"data row5 col3\" >0</td>\n",
       "      <td id=\"T_40cae_row5_col4\" class=\"data row5 col4\" >0.0%</td>\n",
       "      <td id=\"T_40cae_row5_col5\" class=\"data row5 col5\" >1.4</td>\n",
       "      <td id=\"T_40cae_row5_col6\" class=\"data row5 col6\" >0.6</td>\n",
       "      <td id=\"T_40cae_row5_col7\" class=\"data row5 col7\" >0.4</td>\n",
       "      <td id=\"T_40cae_row5_col8\" class=\"data row5 col8\" >1.3</td>\n",
       "      <td id=\"T_40cae_row5_col9\" class=\"data row5 col9\" >1.6</td>\n",
       "      <td id=\"T_40cae_row5_col10\" class=\"data row5 col10\" >1.0</td>\n",
       "      <td id=\"T_40cae_row5_col11\" class=\"data row5 col11\" >1.0</td>\n",
       "      <td id=\"T_40cae_row5_col12\" class=\"data row5 col12\" >1.0</td>\n",
       "      <td id=\"T_40cae_row5_col13\" class=\"data row5 col13\" >1.0</td>\n",
       "      <td id=\"T_40cae_row5_col14\" class=\"data row5 col14\" >2.0</td>\n",
       "      <td id=\"T_40cae_row5_col15\" class=\"data row5 col15\" >2.0</td>\n",
       "      <td id=\"T_40cae_row5_col16\" class=\"data row5 col16\" >4.0</td>\n",
       "    </tr>\n",
       "    <tr>\n",
       "      <th id=\"T_40cae_level0_row6\" class=\"row_heading level0 row6\" >num_dependents</th>\n",
       "      <td id=\"T_40cae_row6_col0\" class=\"data row6 col0\" >800</td>\n",
       "      <td id=\"T_40cae_row6_col1\" class=\"data row6 col1\" >0</td>\n",
       "      <td id=\"T_40cae_row6_col2\" class=\"data row6 col2\" >0.0%</td>\n",
       "      <td id=\"T_40cae_row6_col3\" class=\"data row6 col3\" >0</td>\n",
       "      <td id=\"T_40cae_row6_col4\" class=\"data row6 col4\" >0.0%</td>\n",
       "      <td id=\"T_40cae_row6_col5\" class=\"data row6 col5\" >1.1</td>\n",
       "      <td id=\"T_40cae_row6_col6\" class=\"data row6 col6\" >0.3</td>\n",
       "      <td id=\"T_40cae_row6_col7\" class=\"data row6 col7\" >0.3</td>\n",
       "      <td id=\"T_40cae_row6_col8\" class=\"data row6 col8\" >2.0</td>\n",
       "      <td id=\"T_40cae_row6_col9\" class=\"data row6 col9\" >2.1</td>\n",
       "      <td id=\"T_40cae_row6_col10\" class=\"data row6 col10\" >1.0</td>\n",
       "      <td id=\"T_40cae_row6_col11\" class=\"data row6 col11\" >1.0</td>\n",
       "      <td id=\"T_40cae_row6_col12\" class=\"data row6 col12\" >1.0</td>\n",
       "      <td id=\"T_40cae_row6_col13\" class=\"data row6 col13\" >1.0</td>\n",
       "      <td id=\"T_40cae_row6_col14\" class=\"data row6 col14\" >1.0</td>\n",
       "      <td id=\"T_40cae_row6_col15\" class=\"data row6 col15\" >2.0</td>\n",
       "      <td id=\"T_40cae_row6_col16\" class=\"data row6 col16\" >2.0</td>\n",
       "    </tr>\n",
       "  </tbody>\n",
       "</table>\n"
      ],
      "text/plain": [
       "<pandas.io.formats.style.Styler at 0x7fd9d438c1f0>"
      ]
     },
     "execution_count": 3,
     "metadata": {},
     "output_type": "execute_result"
    }
   ],
   "source": [
    "hlp.pandas.numeric_summary(X_train, return_style=True)"
   ]
  },
  {
   "cell_type": "code",
   "execution_count": 4,
   "id": "9eb2b75a",
   "metadata": {
    "pycharm": {
     "name": "#%%\n"
    }
   },
   "outputs": [
    {
     "data": {
      "text/html": [
       "<style type=\"text/css\">\n",
       "#T_67cff_row0_col1 {\n",
       "  background-color: #EBB13E;\n",
       "}\n",
       "#T_67cff_row0_col2 {\n",
       "  width: 10em;\n",
       "  height: 80%;\n",
       "  background: linear-gradient(90deg,#CF3721 4.6%, transparent 4.6%);\n",
       "}\n",
       "#T_67cff_row0_col5, #T_67cff_row5_col5, #T_67cff_row7_col5, #T_67cff_row10_col5 {\n",
       "  width: 10em;\n",
       "  height: 80%;\n",
       "  background: linear-gradient(90deg,#B4B7B9 0.5%, transparent 0.5%);\n",
       "}\n",
       "#T_67cff_row1_col2, #T_67cff_row2_col2, #T_67cff_row3_col2, #T_67cff_row4_col2, #T_67cff_row5_col2, #T_67cff_row6_col2, #T_67cff_row7_col2, #T_67cff_row8_col2, #T_67cff_row9_col2, #T_67cff_row10_col2, #T_67cff_row11_col2, #T_67cff_row12_col2 {\n",
       "  width: 10em;\n",
       "  height: 80%;\n",
       "}\n",
       "#T_67cff_row1_col5, #T_67cff_row3_col5, #T_67cff_row4_col5 {\n",
       "  width: 10em;\n",
       "  height: 80%;\n",
       "  background: linear-gradient(90deg,#B4B7B9 0.6%, transparent 0.6%);\n",
       "}\n",
       "#T_67cff_row2_col5 {\n",
       "  width: 10em;\n",
       "  height: 80%;\n",
       "  background: linear-gradient(90deg,#B4B7B9 1.2%, transparent 1.2%);\n",
       "}\n",
       "#T_67cff_row6_col5, #T_67cff_row8_col5, #T_67cff_row9_col5 {\n",
       "  width: 10em;\n",
       "  height: 80%;\n",
       "  background: linear-gradient(90deg,#B4B7B9 0.4%, transparent 0.4%);\n",
       "}\n",
       "#T_67cff_row11_col5, #T_67cff_row12_col5 {\n",
       "  width: 10em;\n",
       "  height: 80%;\n",
       "  background: linear-gradient(90deg,#B4B7B9 0.2%, transparent 0.2%);\n",
       "}\n",
       "</style>\n",
       "<table id=\"T_67cff_\">\n",
       "  <thead>\n",
       "    <tr>\n",
       "      <th class=\"blank level0\" >&nbsp;</th>\n",
       "      <th class=\"col_heading level0 col0\" ># of Non-Nulls</th>\n",
       "      <th class=\"col_heading level0 col1\" ># of Nulls</th>\n",
       "      <th class=\"col_heading level0 col2\" >% Nulls</th>\n",
       "      <th class=\"col_heading level0 col3\" >Most Freq. Value</th>\n",
       "      <th class=\"col_heading level0 col4\" ># of Unique</th>\n",
       "      <th class=\"col_heading level0 col5\" >% Unique</th>\n",
       "    </tr>\n",
       "  </thead>\n",
       "  <tbody>\n",
       "    <tr>\n",
       "      <th id=\"T_67cff_level0_row0\" class=\"row_heading level0 row0\" >checking_status</th>\n",
       "      <td id=\"T_67cff_row0_col0\" class=\"data row0 col0\" >763</td>\n",
       "      <td id=\"T_67cff_row0_col1\" class=\"data row0 col1\" >37</td>\n",
       "      <td id=\"T_67cff_row0_col2\" class=\"data row0 col2\" >4.6%</td>\n",
       "      <td id=\"T_67cff_row0_col3\" class=\"data row0 col3\" >no checking</td>\n",
       "      <td id=\"T_67cff_row0_col4\" class=\"data row0 col4\" >4</td>\n",
       "      <td id=\"T_67cff_row0_col5\" class=\"data row0 col5\" >0.5%</td>\n",
       "    </tr>\n",
       "    <tr>\n",
       "      <th id=\"T_67cff_level0_row1\" class=\"row_heading level0 row1\" >credit_history</th>\n",
       "      <td id=\"T_67cff_row1_col0\" class=\"data row1 col0\" >800</td>\n",
       "      <td id=\"T_67cff_row1_col1\" class=\"data row1 col1\" >0</td>\n",
       "      <td id=\"T_67cff_row1_col2\" class=\"data row1 col2\" >0.0%</td>\n",
       "      <td id=\"T_67cff_row1_col3\" class=\"data row1 col3\" >existing paid</td>\n",
       "      <td id=\"T_67cff_row1_col4\" class=\"data row1 col4\" >5</td>\n",
       "      <td id=\"T_67cff_row1_col5\" class=\"data row1 col5\" >0.6%</td>\n",
       "    </tr>\n",
       "    <tr>\n",
       "      <th id=\"T_67cff_level0_row2\" class=\"row_heading level0 row2\" >purpose</th>\n",
       "      <td id=\"T_67cff_row2_col0\" class=\"data row2 col0\" >800</td>\n",
       "      <td id=\"T_67cff_row2_col1\" class=\"data row2 col1\" >0</td>\n",
       "      <td id=\"T_67cff_row2_col2\" class=\"data row2 col2\" >0.0%</td>\n",
       "      <td id=\"T_67cff_row2_col3\" class=\"data row2 col3\" >radio/tv</td>\n",
       "      <td id=\"T_67cff_row2_col4\" class=\"data row2 col4\" >10</td>\n",
       "      <td id=\"T_67cff_row2_col5\" class=\"data row2 col5\" >1.2%</td>\n",
       "    </tr>\n",
       "    <tr>\n",
       "      <th id=\"T_67cff_level0_row3\" class=\"row_heading level0 row3\" >savings_status</th>\n",
       "      <td id=\"T_67cff_row3_col0\" class=\"data row3 col0\" >800</td>\n",
       "      <td id=\"T_67cff_row3_col1\" class=\"data row3 col1\" >0</td>\n",
       "      <td id=\"T_67cff_row3_col2\" class=\"data row3 col2\" >0.0%</td>\n",
       "      <td id=\"T_67cff_row3_col3\" class=\"data row3 col3\" >&lt;100</td>\n",
       "      <td id=\"T_67cff_row3_col4\" class=\"data row3 col4\" >5</td>\n",
       "      <td id=\"T_67cff_row3_col5\" class=\"data row3 col5\" >0.6%</td>\n",
       "    </tr>\n",
       "    <tr>\n",
       "      <th id=\"T_67cff_level0_row4\" class=\"row_heading level0 row4\" >employment</th>\n",
       "      <td id=\"T_67cff_row4_col0\" class=\"data row4 col0\" >800</td>\n",
       "      <td id=\"T_67cff_row4_col1\" class=\"data row4 col1\" >0</td>\n",
       "      <td id=\"T_67cff_row4_col2\" class=\"data row4 col2\" >0.0%</td>\n",
       "      <td id=\"T_67cff_row4_col3\" class=\"data row4 col3\" >1&lt;=X&lt;4</td>\n",
       "      <td id=\"T_67cff_row4_col4\" class=\"data row4 col4\" >5</td>\n",
       "      <td id=\"T_67cff_row4_col5\" class=\"data row4 col5\" >0.6%</td>\n",
       "    </tr>\n",
       "    <tr>\n",
       "      <th id=\"T_67cff_level0_row5\" class=\"row_heading level0 row5\" >personal_status</th>\n",
       "      <td id=\"T_67cff_row5_col0\" class=\"data row5 col0\" >800</td>\n",
       "      <td id=\"T_67cff_row5_col1\" class=\"data row5 col1\" >0</td>\n",
       "      <td id=\"T_67cff_row5_col2\" class=\"data row5 col2\" >0.0%</td>\n",
       "      <td id=\"T_67cff_row5_col3\" class=\"data row5 col3\" >male single</td>\n",
       "      <td id=\"T_67cff_row5_col4\" class=\"data row5 col4\" >4</td>\n",
       "      <td id=\"T_67cff_row5_col5\" class=\"data row5 col5\" >0.5%</td>\n",
       "    </tr>\n",
       "    <tr>\n",
       "      <th id=\"T_67cff_level0_row6\" class=\"row_heading level0 row6\" >other_parties</th>\n",
       "      <td id=\"T_67cff_row6_col0\" class=\"data row6 col0\" >800</td>\n",
       "      <td id=\"T_67cff_row6_col1\" class=\"data row6 col1\" >0</td>\n",
       "      <td id=\"T_67cff_row6_col2\" class=\"data row6 col2\" >0.0%</td>\n",
       "      <td id=\"T_67cff_row6_col3\" class=\"data row6 col3\" >none</td>\n",
       "      <td id=\"T_67cff_row6_col4\" class=\"data row6 col4\" >3</td>\n",
       "      <td id=\"T_67cff_row6_col5\" class=\"data row6 col5\" >0.4%</td>\n",
       "    </tr>\n",
       "    <tr>\n",
       "      <th id=\"T_67cff_level0_row7\" class=\"row_heading level0 row7\" >property_magnitude</th>\n",
       "      <td id=\"T_67cff_row7_col0\" class=\"data row7 col0\" >800</td>\n",
       "      <td id=\"T_67cff_row7_col1\" class=\"data row7 col1\" >0</td>\n",
       "      <td id=\"T_67cff_row7_col2\" class=\"data row7 col2\" >0.0%</td>\n",
       "      <td id=\"T_67cff_row7_col3\" class=\"data row7 col3\" >car</td>\n",
       "      <td id=\"T_67cff_row7_col4\" class=\"data row7 col4\" >4</td>\n",
       "      <td id=\"T_67cff_row7_col5\" class=\"data row7 col5\" >0.5%</td>\n",
       "    </tr>\n",
       "    <tr>\n",
       "      <th id=\"T_67cff_level0_row8\" class=\"row_heading level0 row8\" >other_payment_plans</th>\n",
       "      <td id=\"T_67cff_row8_col0\" class=\"data row8 col0\" >800</td>\n",
       "      <td id=\"T_67cff_row8_col1\" class=\"data row8 col1\" >0</td>\n",
       "      <td id=\"T_67cff_row8_col2\" class=\"data row8 col2\" >0.0%</td>\n",
       "      <td id=\"T_67cff_row8_col3\" class=\"data row8 col3\" >none</td>\n",
       "      <td id=\"T_67cff_row8_col4\" class=\"data row8 col4\" >3</td>\n",
       "      <td id=\"T_67cff_row8_col5\" class=\"data row8 col5\" >0.4%</td>\n",
       "    </tr>\n",
       "    <tr>\n",
       "      <th id=\"T_67cff_level0_row9\" class=\"row_heading level0 row9\" >housing</th>\n",
       "      <td id=\"T_67cff_row9_col0\" class=\"data row9 col0\" >800</td>\n",
       "      <td id=\"T_67cff_row9_col1\" class=\"data row9 col1\" >0</td>\n",
       "      <td id=\"T_67cff_row9_col2\" class=\"data row9 col2\" >0.0%</td>\n",
       "      <td id=\"T_67cff_row9_col3\" class=\"data row9 col3\" >own</td>\n",
       "      <td id=\"T_67cff_row9_col4\" class=\"data row9 col4\" >3</td>\n",
       "      <td id=\"T_67cff_row9_col5\" class=\"data row9 col5\" >0.4%</td>\n",
       "    </tr>\n",
       "    <tr>\n",
       "      <th id=\"T_67cff_level0_row10\" class=\"row_heading level0 row10\" >job</th>\n",
       "      <td id=\"T_67cff_row10_col0\" class=\"data row10 col0\" >800</td>\n",
       "      <td id=\"T_67cff_row10_col1\" class=\"data row10 col1\" >0</td>\n",
       "      <td id=\"T_67cff_row10_col2\" class=\"data row10 col2\" >0.0%</td>\n",
       "      <td id=\"T_67cff_row10_col3\" class=\"data row10 col3\" >skilled</td>\n",
       "      <td id=\"T_67cff_row10_col4\" class=\"data row10 col4\" >4</td>\n",
       "      <td id=\"T_67cff_row10_col5\" class=\"data row10 col5\" >0.5%</td>\n",
       "    </tr>\n",
       "    <tr>\n",
       "      <th id=\"T_67cff_level0_row11\" class=\"row_heading level0 row11\" >own_telephone</th>\n",
       "      <td id=\"T_67cff_row11_col0\" class=\"data row11 col0\" >800</td>\n",
       "      <td id=\"T_67cff_row11_col1\" class=\"data row11 col1\" >0</td>\n",
       "      <td id=\"T_67cff_row11_col2\" class=\"data row11 col2\" >0.0%</td>\n",
       "      <td id=\"T_67cff_row11_col3\" class=\"data row11 col3\" >none</td>\n",
       "      <td id=\"T_67cff_row11_col4\" class=\"data row11 col4\" >2</td>\n",
       "      <td id=\"T_67cff_row11_col5\" class=\"data row11 col5\" >0.2%</td>\n",
       "    </tr>\n",
       "    <tr>\n",
       "      <th id=\"T_67cff_level0_row12\" class=\"row_heading level0 row12\" >foreign_worker</th>\n",
       "      <td id=\"T_67cff_row12_col0\" class=\"data row12 col0\" >800</td>\n",
       "      <td id=\"T_67cff_row12_col1\" class=\"data row12 col1\" >0</td>\n",
       "      <td id=\"T_67cff_row12_col2\" class=\"data row12 col2\" >0.0%</td>\n",
       "      <td id=\"T_67cff_row12_col3\" class=\"data row12 col3\" >yes</td>\n",
       "      <td id=\"T_67cff_row12_col4\" class=\"data row12 col4\" >2</td>\n",
       "      <td id=\"T_67cff_row12_col5\" class=\"data row12 col5\" >0.2%</td>\n",
       "    </tr>\n",
       "  </tbody>\n",
       "</table>\n"
      ],
      "text/plain": [
       "<pandas.io.formats.style.Styler at 0x7fd9d14fe400>"
      ]
     },
     "execution_count": 4,
     "metadata": {},
     "output_type": "execute_result"
    }
   ],
   "source": [
    "hlp.pandas.non_numeric_summary(X_train, return_style=True)"
   ]
  },
  {
   "cell_type": "code",
   "execution_count": 5,
   "id": "86f44647",
   "metadata": {},
   "outputs": [
    {
     "data": {
      "text/plain": [
       "array([0, 0, 1, 0, 1, 0, 1, 0, 0, 1])"
      ]
     },
     "execution_count": 5,
     "metadata": {},
     "output_type": "execute_result"
    }
   ],
   "source": [
    "y_train[0:10]"
   ]
  },
  {
   "cell_type": "code",
   "execution_count": 6,
   "id": "1662bbac",
   "metadata": {},
   "outputs": [
    {
     "data": {
      "text/plain": [
       "(array([0, 1]), array([241, 559]))"
      ]
     },
     "execution_count": 6,
     "metadata": {},
     "output_type": "execute_result"
    }
   ],
   "source": [
    "np.unique(y_train, return_counts=True)"
   ]
  },
  {
   "cell_type": "code",
   "execution_count": 7,
   "id": "bc038e2c",
   "metadata": {},
   "outputs": [
    {
     "data": {
      "text/plain": [
       "array([0.30125, 0.69875])"
      ]
     },
     "execution_count": 7,
     "metadata": {},
     "output_type": "execute_result"
    }
   ],
   "source": [
    "np.unique(y_train, return_counts=True)[1] / np.sum(np.unique(y_train, return_counts=True)[1])"
   ]
  },
  {
   "cell_type": "markdown",
   "id": "259f5c13",
   "metadata": {},
   "source": [
    "# Transformation Pipeline"
   ]
  },
  {
   "cell_type": "code",
   "execution_count": 8,
   "id": "c9b24b17",
   "metadata": {},
   "outputs": [
    {
     "data": {
      "text/plain": [
       "array([[0., 2.],\n",
       "       [2., 2.],\n",
       "       [9., 1.],\n",
       "       ...,\n",
       "       [9., 3.],\n",
       "       [6., 4.],\n",
       "       [6., 2.]])"
      ]
     },
     "execution_count": 8,
     "metadata": {},
     "output_type": "execute_result"
    }
   ],
   "source": [
    "from sklearn.preprocessing import OrdinalEncoder\n",
    "OrdinalEncoder().fit_transform(X_train[['purpose', 'savings_status']])"
   ]
  },
  {
   "cell_type": "code",
   "execution_count": 9,
   "id": "742c6bf1",
   "metadata": {},
   "outputs": [
    {
     "name": "stdout",
     "output_type": "stream",
     "text": [
      "['duration', 'credit_amount', 'installment_commitment', 'residence_since', 'age', 'existing_credits', 'num_dependents']\n",
      "['checking_status', 'credit_history', 'purpose', 'savings_status', 'employment', 'personal_status', 'other_parties', 'property_magnitude', 'other_payment_plans', 'housing', 'job', 'own_telephone', 'foreign_worker']\n"
     ]
    }
   ],
   "source": [
    "numeric_columns = hlp.pandas.get_numeric_columns(X_train)\n",
    "non_numeric_columns = hlp.pandas.get_non_numeric_columns(X_train)\n",
    "print(numeric_columns)\n",
    "print(non_numeric_columns)"
   ]
  },
  {
   "cell_type": "code",
   "execution_count": 10,
   "id": "740dc372",
   "metadata": {},
   "outputs": [],
   "source": [
    "numeric_pipeline = Pipeline([\n",
    "    #tune whether or not we want to impute or simply remove rows with missing values\n",
    "    ('impute', hlp.sklearn_pipeline.TransformerChooser()),\n",
    "    # this is here so that we can select between MinMax and Scaler\n",
    "    # if this pipeline is ran in a context outside of tuning, no transformation will take place\n",
    "    ('scaling', hlp.sklearn_pipeline.TransformerChooser()),\n",
    "])"
   ]
  },
  {
   "cell_type": "code",
   "execution_count": 11,
   "id": "4ed41bd2",
   "metadata": {},
   "outputs": [],
   "source": [
    "non_numeric_pipeline = Pipeline([\n",
    "    ('encoder', hlp.sklearn_pipeline.TransformerChooser()),\n",
    "])"
   ]
  },
  {
   "cell_type": "code",
   "execution_count": 12,
   "id": "8f7f94d0",
   "metadata": {},
   "outputs": [],
   "source": [
    "from sklearn.compose import ColumnTransformer\n",
    "transformations_pipeline = ColumnTransformer([\n",
    "    ('numeric', numeric_pipeline, numeric_columns),\n",
    "    ('non_numeric', non_numeric_pipeline, non_numeric_columns)\n",
    "])"
   ]
  },
  {
   "cell_type": "markdown",
   "id": "c215d60a",
   "metadata": {},
   "source": [
    "# Model"
   ]
  },
  {
   "cell_type": "code",
   "execution_count": 13,
   "id": "3b3ddb87",
   "metadata": {},
   "outputs": [],
   "source": [
    "from sklearn.ensemble import RandomForestClassifier\n",
    "random_forest_model = RandomForestClassifier(random_state=42)"
   ]
  },
  {
   "cell_type": "code",
   "execution_count": 14,
   "id": "d6a81445",
   "metadata": {},
   "outputs": [],
   "source": [
    "full_pipeline = Pipeline([\n",
    "    ('prep', transformations_pipeline),\n",
    "    ('model', random_forest_model)\n",
    "])"
   ]
  },
  {
   "cell_type": "code",
   "execution_count": 15,
   "id": "936a9d3f",
   "metadata": {
    "scrolled": true
   },
   "outputs": [
    {
     "data": {
      "text/plain": [
       "{'prep': ColumnTransformer(transformers=[('numeric',\n",
       "                                  Pipeline(steps=[('impute',\n",
       "                                                   TransformerChooser()),\n",
       "                                                  ('scaling',\n",
       "                                                   TransformerChooser())]),\n",
       "                                  ['duration', 'credit_amount',\n",
       "                                   'installment_commitment', 'residence_since',\n",
       "                                   'age', 'existing_credits',\n",
       "                                   'num_dependents']),\n",
       "                                 ('non_numeric',\n",
       "                                  Pipeline(steps=[('encoder',\n",
       "                                                   TransformerChooser())]),\n",
       "                                  ['checking_status', 'credit_history',\n",
       "                                   'purpose', 'savings_status', 'employment',\n",
       "                                   'personal_status', 'other_parties',\n",
       "                                   'property_magnitude', 'other_payment_plans',\n",
       "                                   'housing', 'job', 'own_telephone',\n",
       "                                   'foreign_worker'])]),\n",
       " 'model': RandomForestClassifier(random_state=42)}"
      ]
     },
     "execution_count": 15,
     "metadata": {},
     "output_type": "execute_result"
    }
   ],
   "source": [
    "# Show the levels of pipelines/transformers/model\n",
    "full_pipeline.named_steps"
   ]
  },
  {
   "cell_type": "markdown",
   "id": "2b2a466f",
   "metadata": {},
   "source": [
    "# GridSearchCV"
   ]
  },
  {
   "cell_type": "code",
   "execution_count": 16,
   "id": "54a179db",
   "metadata": {},
   "outputs": [],
   "source": [
    "from sklearn.metrics import make_scorer, f1_score, precision_score, recall_score  # , roc_auc_score\n",
    "from sklearn.metrics import SCORERS\n",
    "\n",
    "# https://scikit-learn.org/stable/modules/generated/sklearn.metrics.make_scorer.html\n",
    "# https://stackoverflow.com/questions/60615281/different-result-roc-auc-score-and-plot-roc-curve\n",
    "scores = {\n",
    "    # https://github.com/scikit-learn/scikit-learn/blob/2beed5584/sklearn/metrics/_scorer.py#L537\n",
    "    'ROC/AUC':  SCORERS['roc_auc'],\n",
    "    'F1': make_scorer(f1_score, greater_is_better=True),\n",
    "    'Pos. Pred. Val': make_scorer(precision_score, greater_is_better=True),\n",
    "    'True Pos. Rate': make_scorer(recall_score, greater_is_better=True),\n",
    "}"
   ]
  },
  {
   "cell_type": "code",
   "execution_count": 17,
   "id": "2384a500",
   "metadata": {
    "pycharm": {
     "name": "#%%\n"
    }
   },
   "outputs": [],
   "source": [
    "param_grad = [\n",
    "    {\n",
    "        'prep__numeric__impute__transformer': [SimpleImputer(strategy='mean')],\n",
    "        'prep__numeric__scaling__transformer': [MinMaxScaler(), StandardScaler()],\n",
    "        'prep__non_numeric__encoder__transformer': [OneHotEncoder(),\n",
    "                                                    hlp.sklearn_pipeline.CustomOrdinalEncoder()],\n",
    "        'model__max_features': [2, 10, 'auto'],\n",
    "        'model__n_estimators': [50, 100, 500]\n",
    "    },\n",
    "]"
   ]
  },
  {
   "cell_type": "code",
   "execution_count": 18,
   "id": "e8414f95",
   "metadata": {},
   "outputs": [],
   "source": [
    "num_folds = 5\n",
    "num_repeats = 2"
   ]
  },
  {
   "cell_type": "code",
   "execution_count": 19,
   "id": "bff93ea0",
   "metadata": {
    "pycharm": {
     "name": "#%%\n"
    }
   },
   "outputs": [],
   "source": [
    "new_param_column_names = {'model | max_features': 'max_features',\n",
    "                          'model | n_estimators': 'n_estimators',\n",
    "                          'prep | non_numeric | encoder | transformer': 'encoder',\n",
    "                          'prep | numeric | impute | transformer': 'imputer',\n",
    "                          'prep | numeric | scaling | transformer': 'scaler'}"
   ]
  },
  {
   "cell_type": "code",
   "execution_count": null,
   "id": "babd73a2",
   "metadata": {
    "pycharm": {
     "name": "#%%\n"
    }
   },
   "outputs": [],
   "source": []
  },
  {
   "cell_type": "code",
   "execution_count": 21,
   "id": "b095cfe0",
   "metadata": {
    "pycharm": {
     "name": "#%%\n"
    }
   },
   "outputs": [
    {
     "name": "stdout",
     "output_type": "stream",
     "text": [
      "Fitting 10 folds for each of 36 candidates, totalling 360 fits\n"
     ]
    },
    {
     "data": {
      "text/plain": [
       "GridSearchCV(cv=RepeatedKFold(n_repeats=2, n_splits=5, random_state=2),\n",
       "             estimator=Pipeline(steps=[('prep',\n",
       "                                        ColumnTransformer(transformers=[('numeric',\n",
       "                                                                         Pipeline(steps=[('impute',\n",
       "                                                                                          TransformerChooser()),\n",
       "                                                                                         ('scaling',\n",
       "                                                                                          TransformerChooser())]),\n",
       "                                                                         ['duration',\n",
       "                                                                          'credit_amount',\n",
       "                                                                          'installment_commitment',\n",
       "                                                                          'residence_since',\n",
       "                                                                          'age',\n",
       "                                                                          'existing_credits',\n",
       "                                                                          'num_dependents']),\n",
       "                                                                        ('non_...\n",
       "                          'prep__numeric__impute__transformer': [SimpleImputer()],\n",
       "                          'prep__numeric__scaling__transformer': [MinMaxScaler(),\n",
       "                                                                  StandardScaler()]}],\n",
       "             refit='ROC/AUC', return_train_score=True,\n",
       "             scoring={'F1': make_scorer(f1_score),\n",
       "                      'Pos. Pred. Val': make_scorer(precision_score),\n",
       "                      'ROC/AUC': make_scorer(roc_auc_score, needs_threshold=True),\n",
       "                      'True Pos. Rate': make_scorer(recall_score)},\n",
       "             verbose=1)"
      ]
     },
     "execution_count": 21,
     "metadata": {},
     "output_type": "execute_result"
    }
   ],
   "source": [
    "from sklearn.model_selection import RepeatedKFold\n",
    "from sklearn.model_selection import GridSearchCV\n",
    "\n",
    "grid_search = GridSearchCV(\n",
    "    full_pipeline,\n",
    "    param_grid=param_grad,\n",
    "    cv=RepeatedKFold(n_splits=num_folds,\n",
    "                     n_repeats=num_repeats,\n",
    "                     random_state=2),\n",
    "    scoring=scores,\n",
    "    refit='ROC/AUC',\n",
    "    #scoring='roc_auc',\n",
    "    return_train_score=True,\n",
    "    n_jobs=-1,\n",
    "    verbose=1,\n",
    "    random_state=42,\n",
    ")\n",
    "grid_search.fit(X_train, y_train)"
   ]
  },
  {
   "cell_type": "code",
   "execution_count": null,
   "id": "2b4dbfc9",
   "metadata": {
    "pycharm": {
     "name": "#%%\n"
    }
   },
   "outputs": [],
   "source": [
    "print(grid_search.cv_results_)"
   ]
  },
  {
   "cell_type": "code",
   "execution_count": null,
   "id": "0af6814d",
   "metadata": {
    "pycharm": {
     "name": "#%%\n"
    }
   },
   "outputs": [],
   "source": [
    "grid_search.cv"
   ]
  },
  {
   "cell_type": "markdown",
   "id": "aa1fcf6a",
   "metadata": {
    "pycharm": {
     "name": "#%% md\n"
    }
   },
   "source": [
    "## Results"
   ]
  },
  {
   "cell_type": "code",
   "execution_count": null,
   "id": "9e853695",
   "metadata": {
    "pycharm": {
     "name": "#%%\n"
    }
   },
   "outputs": [],
   "source": [
    "print(grid_search.cv.n_repeats)\n",
    "print(grid_search.cv.cvargs['n_splits'])"
   ]
  },
  {
   "cell_type": "code",
   "execution_count": null,
   "id": "2f39d7ca",
   "metadata": {
    "pycharm": {
     "name": "#%%\n"
    }
   },
   "outputs": [],
   "source": [
    "print(grid_search.best_score_)\n",
    "print(grid_search.best_params_)"
   ]
  },
  {
   "cell_type": "code",
   "execution_count": null,
   "id": "5af427ae",
   "metadata": {
    "pycharm": {
     "name": "#%%\n"
    }
   },
   "outputs": [],
   "source": [
    "new_param_column_names"
   ]
  },
  {
   "cell_type": "code",
   "execution_count": null,
   "id": "dce06cc9",
   "metadata": {
    "pycharm": {
     "name": "#%%\n"
    }
   },
   "outputs": [],
   "source": [
    "parser = hlp.sklearn_eval.SearchCVParser(searcher=grid_search,\n",
    "                                                     higher_score_is_better = True,\n",
    "                                                     new_param_column_names=new_param_column_names)"
   ]
  },
  {
   "cell_type": "code",
   "execution_count": null,
   "id": "9e85e99e",
   "metadata": {},
   "outputs": [],
   "source": [
    "parser.to_yaml_file(yaml_file_name = 'Run 2 - Random Forest - GridSearchCV.yaml')"
   ]
  },
  {
   "cell_type": "code",
   "execution_count": null,
   "id": "bd4ff02f",
   "metadata": {},
   "outputs": [],
   "source": [
    "parser = hlp.sklearn_eval.SearchCVParser.from_yaml_file(yaml_file_name = 'Run 2 - Random Forest - GridSearchCV.yaml')"
   ]
  },
  {
   "cell_type": "code",
   "execution_count": null,
   "id": "5dee551c",
   "metadata": {
    "pycharm": {
     "name": "#%%\n"
    }
   },
   "outputs": [],
   "source": [
    "parser.to_formatted_dataframe()"
   ]
  }
 ],
 "metadata": {
  "kernelspec": {
   "display_name": "Python 3 (ipykernel)",
   "language": "python",
   "name": "python3"
  },
  "language_info": {
   "codemirror_mode": {
    "name": "ipython",
    "version": 3
   },
   "file_extension": ".py",
   "mimetype": "text/x-python",
   "name": "python",
   "nbconvert_exporter": "python",
   "pygments_lexer": "ipython3",
   "version": "3.9.6"
  },
  "toc": {
   "base_numbering": 1,
   "nav_menu": {},
   "number_sections": false,
   "sideBar": true,
   "skip_h1_title": false,
   "title_cell": "Table of Contents",
   "title_sidebar": "Contents",
   "toc_cell": false,
   "toc_position": {
    "height": "calc(100% - 180px)",
    "left": "10px",
    "top": "150px",
    "width": "298px"
   },
   "toc_section_display": true,
   "toc_window_display": true
  }
 },
 "nbformat": 4,
 "nbformat_minor": 5
}
