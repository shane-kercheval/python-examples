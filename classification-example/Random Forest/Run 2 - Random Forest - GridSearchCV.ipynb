{
 "cells": [
  {
   "cell_type": "markdown",
   "source": [
    "This files contains an example of tuning a Random Forest model with BayesSearchCV\n",
    "\n",
    "It saves the BayesSearchCV object to the `cross-validation.pkl`"
   ],
   "metadata": {
    "collapsed": false,
    "pycharm": {
     "name": "#%% md\n"
    }
   }
  },
  {
   "cell_type": "code",
   "execution_count": 41,
   "id": "c5f3fe51",
   "metadata": {},
   "outputs": [],
   "source": [
    "import pickle\n",
    "import helpsk as hlp\n",
    "import matplotlib.pyplot as plt\n",
    "import pandas as pd\n",
    "import numpy as np\n",
    "from sklearn.datasets import fetch_openml\n",
    "import seaborn as sns\n",
    "\n",
    "from sklearn.pipeline import Pipeline\n",
    "from sklearn.preprocessing import StandardScaler, MinMaxScaler, OneHotEncoder\n",
    "from sklearn.impute import SimpleImputer\n",
    "from sklearn.model_selection import train_test_split\n",
    "\n",
    "%matplotlib inline"
   ]
  },
  {
   "cell_type": "markdown",
   "id": "8ff88fe0",
   "metadata": {},
   "source": [
    "# Load Data"
   ]
  },
  {
   "cell_type": "code",
   "execution_count": 42,
   "outputs": [],
   "source": [
    "with open('../X_train.pkl', 'rb') as handle:\n",
    "    X_train = pickle.load(handle)\n",
    "\n",
    "with open('../y_train.pkl', 'rb') as handle:\n",
    "    y_train = pickle.load(handle)"
   ],
   "metadata": {
    "collapsed": false,
    "pycharm": {
     "name": "#%%\n"
    }
   }
  },
  {
   "cell_type": "code",
   "execution_count": 43,
   "outputs": [
    {
     "data": {
      "text/plain": "<pandas.io.formats.style.Styler at 0x7f87809d6dc0>",
      "text/html": "<style type=\"text/css\">\n#T_c9547_row0_col1, #T_c9547_row1_col3 {\n  background-color: #EBB13E;\n}\n#T_c9547_row0_col2 {\n  width: 10em;\n  height: 80%;\n  background: linear-gradient(90deg,#CF3721 5.0%, transparent 5.0%);\n}\n#T_c9547_row0_col4, #T_c9547_row1_col2, #T_c9547_row2_col2, #T_c9547_row2_col4, #T_c9547_row3_col2, #T_c9547_row3_col4, #T_c9547_row4_col2, #T_c9547_row4_col4, #T_c9547_row5_col2, #T_c9547_row5_col4, #T_c9547_row6_col2, #T_c9547_row6_col4 {\n  width: 10em;\n  height: 80%;\n}\n#T_c9547_row0_col7 {\n  width: 10em;\n  height: 80%;\n  background: linear-gradient(90deg,#B4B7B9 56.0%, transparent 56.0%);\n}\n#T_c9547_row0_col8 {\n  width: 10em;\n  height: 80%;\n  background: linear-gradient(90deg, transparent 50.0%, #B4B7B9 50.0%, #B4B7B9 75.2%, transparent 75.2%);\n}\n#T_c9547_row1_col4 {\n  width: 10em;\n  height: 80%;\n  background: linear-gradient(90deg,#B4B7B9 5.0%, transparent 5.0%);\n}\n#T_c9547_row1_col7 {\n  width: 10em;\n  height: 80%;\n  background: linear-gradient(90deg,#B4B7B9 92.0%, transparent 92.0%);\n}\n#T_c9547_row1_col8 {\n  width: 10em;\n  height: 80%;\n  background: linear-gradient(90deg, transparent 50.0%, #B4B7B9 50.0%, #B4B7B9 96.7%, transparent 96.7%);\n}\n#T_c9547_row2_col7 {\n  width: 10em;\n  height: 80%;\n  background: linear-gradient(90deg,#B4B7B9 38.0%, transparent 38.0%);\n}\n#T_c9547_row2_col8 {\n  width: 10em;\n  height: 80%;\n  background: linear-gradient(90deg, transparent 37.0%, #B4B7B9 37.0%, #B4B7B9 50.0%, transparent 50.0%);\n}\n#T_c9547_row3_col7 {\n  width: 10em;\n  height: 80%;\n  background: linear-gradient(90deg,#B4B7B9 39.0%, transparent 39.0%);\n}\n#T_c9547_row3_col8 {\n  width: 10em;\n  height: 80%;\n  background: linear-gradient(90deg, transparent 43.2%, #B4B7B9 43.2%, #B4B7B9 50.0%, transparent 50.0%);\n}\n#T_c9547_row4_col7 {\n  width: 10em;\n  height: 80%;\n  background: linear-gradient(90deg,#B4B7B9 32.0%, transparent 32.0%);\n}\n#T_c9547_row4_col8 {\n  width: 10em;\n  height: 80%;\n  background: linear-gradient(90deg, transparent 50.0%, #B4B7B9 50.0%, #B4B7B9 75.7%, transparent 75.7%);\n}\n#T_c9547_row5_col7 {\n  width: 10em;\n  height: 80%;\n  background: linear-gradient(90deg,#B4B7B9 41.0%, transparent 41.0%);\n}\n#T_c9547_row5_col8 {\n  width: 10em;\n  height: 80%;\n  background: linear-gradient(90deg, transparent 50.0%, #B4B7B9 50.0%, #B4B7B9 81.5%, transparent 81.5%);\n}\n#T_c9547_row6_col7 {\n  width: 10em;\n  height: 80%;\n  background: linear-gradient(90deg,#B4B7B9 31.0%, transparent 31.0%);\n}\n#T_c9547_row6_col8 {\n  width: 10em;\n  height: 80%;\n  background: linear-gradient(90deg, transparent 50.0%, #B4B7B9 50.0%, #B4B7B9 100.0%, transparent 100.0%);\n}\n</style>\n<table id=\"T_c9547_\">\n  <thead>\n    <tr>\n      <th class=\"blank level0\" >&nbsp;</th>\n      <th class=\"col_heading level0 col0\" ># of Non-Nulls</th>\n      <th class=\"col_heading level0 col1\" ># of Nulls</th>\n      <th class=\"col_heading level0 col2\" >% Nulls</th>\n      <th class=\"col_heading level0 col3\" ># of Zeros</th>\n      <th class=\"col_heading level0 col4\" >% Zeros</th>\n      <th class=\"col_heading level0 col5\" >Mean</th>\n      <th class=\"col_heading level0 col6\" >St Dev.</th>\n      <th class=\"col_heading level0 col7\" >Coef of Var</th>\n      <th class=\"col_heading level0 col8\" >Skewness</th>\n      <th class=\"col_heading level0 col9\" >Kurtosis</th>\n      <th class=\"col_heading level0 col10\" >Min</th>\n      <th class=\"col_heading level0 col11\" >10%</th>\n      <th class=\"col_heading level0 col12\" >25%</th>\n      <th class=\"col_heading level0 col13\" >50%</th>\n      <th class=\"col_heading level0 col14\" >75%</th>\n      <th class=\"col_heading level0 col15\" >90%</th>\n      <th class=\"col_heading level0 col16\" >Max</th>\n    </tr>\n  </thead>\n  <tbody>\n    <tr>\n      <th id=\"T_c9547_level0_row0\" class=\"row_heading level0 row0\" >duration</th>\n      <td id=\"T_c9547_row0_col0\" class=\"data row0 col0\" >760</td>\n      <td id=\"T_c9547_row0_col1\" class=\"data row0 col1\" >40</td>\n      <td id=\"T_c9547_row0_col2\" class=\"data row0 col2\" >5.0%</td>\n      <td id=\"T_c9547_row0_col3\" class=\"data row0 col3\" >0</td>\n      <td id=\"T_c9547_row0_col4\" class=\"data row0 col4\" >0.0%</td>\n      <td id=\"T_c9547_row0_col5\" class=\"data row0 col5\" >21.0</td>\n      <td id=\"T_c9547_row0_col6\" class=\"data row0 col6\" >11.7</td>\n      <td id=\"T_c9547_row0_col7\" class=\"data row0 col7\" >0.6</td>\n      <td id=\"T_c9547_row0_col8\" class=\"data row0 col8\" >1.0</td>\n      <td id=\"T_c9547_row0_col9\" class=\"data row0 col9\" >0.6</td>\n      <td id=\"T_c9547_row0_col10\" class=\"data row0 col10\" >4.0</td>\n      <td id=\"T_c9547_row0_col11\" class=\"data row0 col11\" >9.0</td>\n      <td id=\"T_c9547_row0_col12\" class=\"data row0 col12\" >12.0</td>\n      <td id=\"T_c9547_row0_col13\" class=\"data row0 col13\" >18.0</td>\n      <td id=\"T_c9547_row0_col14\" class=\"data row0 col14\" >24.0</td>\n      <td id=\"T_c9547_row0_col15\" class=\"data row0 col15\" >36.0</td>\n      <td id=\"T_c9547_row0_col16\" class=\"data row0 col16\" >60.0</td>\n    </tr>\n    <tr>\n      <th id=\"T_c9547_level0_row1\" class=\"row_heading level0 row1\" >credit_amount</th>\n      <td id=\"T_c9547_row1_col0\" class=\"data row1 col0\" >800</td>\n      <td id=\"T_c9547_row1_col1\" class=\"data row1 col1\" >0</td>\n      <td id=\"T_c9547_row1_col2\" class=\"data row1 col2\" >0.0%</td>\n      <td id=\"T_c9547_row1_col3\" class=\"data row1 col3\" >38</td>\n      <td id=\"T_c9547_row1_col4\" class=\"data row1 col4\" >5.0%</td>\n      <td id=\"T_c9547_row1_col5\" class=\"data row1 col5\" >3,203.9</td>\n      <td id=\"T_c9547_row1_col6\" class=\"data row1 col6\" >2,932.3</td>\n      <td id=\"T_c9547_row1_col7\" class=\"data row1 col7\" >0.9</td>\n      <td id=\"T_c9547_row1_col8\" class=\"data row1 col8\" >1.9</td>\n      <td id=\"T_c9547_row1_col9\" class=\"data row1 col9\" >3.9</td>\n      <td id=\"T_c9547_row1_col10\" class=\"data row1 col10\" >0.0</td>\n      <td id=\"T_c9547_row1_col11\" class=\"data row1 col11\" >753.9</td>\n      <td id=\"T_c9547_row1_col12\" class=\"data row1 col12\" >1,300.8</td>\n      <td id=\"T_c9547_row1_col13\" class=\"data row1 col13\" >2,236.5</td>\n      <td id=\"T_c9547_row1_col14\" class=\"data row1 col14\" >3,951.5</td>\n      <td id=\"T_c9547_row1_col15\" class=\"data row1 col15\" >7,394.6</td>\n      <td id=\"T_c9547_row1_col16\" class=\"data row1 col16\" >18,424.0</td>\n    </tr>\n    <tr>\n      <th id=\"T_c9547_level0_row2\" class=\"row_heading level0 row2\" >installment_commitment</th>\n      <td id=\"T_c9547_row2_col0\" class=\"data row2 col0\" >800</td>\n      <td id=\"T_c9547_row2_col1\" class=\"data row2 col1\" >0</td>\n      <td id=\"T_c9547_row2_col2\" class=\"data row2 col2\" >0.0%</td>\n      <td id=\"T_c9547_row2_col3\" class=\"data row2 col3\" >0</td>\n      <td id=\"T_c9547_row2_col4\" class=\"data row2 col4\" >0.0%</td>\n      <td id=\"T_c9547_row2_col5\" class=\"data row2 col5\" >3.0</td>\n      <td id=\"T_c9547_row2_col6\" class=\"data row2 col6\" >1.1</td>\n      <td id=\"T_c9547_row2_col7\" class=\"data row2 col7\" >0.4</td>\n      <td id=\"T_c9547_row2_col8\" class=\"data row2 col8\" >-0.5</td>\n      <td id=\"T_c9547_row2_col9\" class=\"data row2 col9\" >-1.2</td>\n      <td id=\"T_c9547_row2_col10\" class=\"data row2 col10\" >1.0</td>\n      <td id=\"T_c9547_row2_col11\" class=\"data row2 col11\" >1.0</td>\n      <td id=\"T_c9547_row2_col12\" class=\"data row2 col12\" >2.0</td>\n      <td id=\"T_c9547_row2_col13\" class=\"data row2 col13\" >3.0</td>\n      <td id=\"T_c9547_row2_col14\" class=\"data row2 col14\" >4.0</td>\n      <td id=\"T_c9547_row2_col15\" class=\"data row2 col15\" >4.0</td>\n      <td id=\"T_c9547_row2_col16\" class=\"data row2 col16\" >4.0</td>\n    </tr>\n    <tr>\n      <th id=\"T_c9547_level0_row3\" class=\"row_heading level0 row3\" >residence_since</th>\n      <td id=\"T_c9547_row3_col0\" class=\"data row3 col0\" >800</td>\n      <td id=\"T_c9547_row3_col1\" class=\"data row3 col1\" >0</td>\n      <td id=\"T_c9547_row3_col2\" class=\"data row3 col2\" >0.0%</td>\n      <td id=\"T_c9547_row3_col3\" class=\"data row3 col3\" >0</td>\n      <td id=\"T_c9547_row3_col4\" class=\"data row3 col4\" >0.0%</td>\n      <td id=\"T_c9547_row3_col5\" class=\"data row3 col5\" >2.9</td>\n      <td id=\"T_c9547_row3_col6\" class=\"data row3 col6\" >1.1</td>\n      <td id=\"T_c9547_row3_col7\" class=\"data row3 col7\" >0.4</td>\n      <td id=\"T_c9547_row3_col8\" class=\"data row3 col8\" >-0.3</td>\n      <td id=\"T_c9547_row3_col9\" class=\"data row3 col9\" >-1.4</td>\n      <td id=\"T_c9547_row3_col10\" class=\"data row3 col10\" >1.0</td>\n      <td id=\"T_c9547_row3_col11\" class=\"data row3 col11\" >1.0</td>\n      <td id=\"T_c9547_row3_col12\" class=\"data row3 col12\" >2.0</td>\n      <td id=\"T_c9547_row3_col13\" class=\"data row3 col13\" >3.0</td>\n      <td id=\"T_c9547_row3_col14\" class=\"data row3 col14\" >4.0</td>\n      <td id=\"T_c9547_row3_col15\" class=\"data row3 col15\" >4.0</td>\n      <td id=\"T_c9547_row3_col16\" class=\"data row3 col16\" >4.0</td>\n    </tr>\n    <tr>\n      <th id=\"T_c9547_level0_row4\" class=\"row_heading level0 row4\" >age</th>\n      <td id=\"T_c9547_row4_col0\" class=\"data row4 col0\" >800</td>\n      <td id=\"T_c9547_row4_col1\" class=\"data row4 col1\" >0</td>\n      <td id=\"T_c9547_row4_col2\" class=\"data row4 col2\" >0.0%</td>\n      <td id=\"T_c9547_row4_col3\" class=\"data row4 col3\" >0</td>\n      <td id=\"T_c9547_row4_col4\" class=\"data row4 col4\" >0.0%</td>\n      <td id=\"T_c9547_row4_col5\" class=\"data row4 col5\" >35.6</td>\n      <td id=\"T_c9547_row4_col6\" class=\"data row4 col6\" >11.4</td>\n      <td id=\"T_c9547_row4_col7\" class=\"data row4 col7\" >0.3</td>\n      <td id=\"T_c9547_row4_col8\" class=\"data row4 col8\" >1.0</td>\n      <td id=\"T_c9547_row4_col9\" class=\"data row4 col9\" >0.7</td>\n      <td id=\"T_c9547_row4_col10\" class=\"data row4 col10\" >19.0</td>\n      <td id=\"T_c9547_row4_col11\" class=\"data row4 col11\" >23.0</td>\n      <td id=\"T_c9547_row4_col12\" class=\"data row4 col12\" >27.0</td>\n      <td id=\"T_c9547_row4_col13\" class=\"data row4 col13\" >33.0</td>\n      <td id=\"T_c9547_row4_col14\" class=\"data row4 col14\" >42.0</td>\n      <td id=\"T_c9547_row4_col15\" class=\"data row4 col15\" >52.0</td>\n      <td id=\"T_c9547_row4_col16\" class=\"data row4 col16\" >75.0</td>\n    </tr>\n    <tr>\n      <th id=\"T_c9547_level0_row5\" class=\"row_heading level0 row5\" >existing_credits</th>\n      <td id=\"T_c9547_row5_col0\" class=\"data row5 col0\" >800</td>\n      <td id=\"T_c9547_row5_col1\" class=\"data row5 col1\" >0</td>\n      <td id=\"T_c9547_row5_col2\" class=\"data row5 col2\" >0.0%</td>\n      <td id=\"T_c9547_row5_col3\" class=\"data row5 col3\" >0</td>\n      <td id=\"T_c9547_row5_col4\" class=\"data row5 col4\" >0.0%</td>\n      <td id=\"T_c9547_row5_col5\" class=\"data row5 col5\" >1.4</td>\n      <td id=\"T_c9547_row5_col6\" class=\"data row5 col6\" >0.6</td>\n      <td id=\"T_c9547_row5_col7\" class=\"data row5 col7\" >0.4</td>\n      <td id=\"T_c9547_row5_col8\" class=\"data row5 col8\" >1.3</td>\n      <td id=\"T_c9547_row5_col9\" class=\"data row5 col9\" >1.6</td>\n      <td id=\"T_c9547_row5_col10\" class=\"data row5 col10\" >1.0</td>\n      <td id=\"T_c9547_row5_col11\" class=\"data row5 col11\" >1.0</td>\n      <td id=\"T_c9547_row5_col12\" class=\"data row5 col12\" >1.0</td>\n      <td id=\"T_c9547_row5_col13\" class=\"data row5 col13\" >1.0</td>\n      <td id=\"T_c9547_row5_col14\" class=\"data row5 col14\" >2.0</td>\n      <td id=\"T_c9547_row5_col15\" class=\"data row5 col15\" >2.0</td>\n      <td id=\"T_c9547_row5_col16\" class=\"data row5 col16\" >4.0</td>\n    </tr>\n    <tr>\n      <th id=\"T_c9547_level0_row6\" class=\"row_heading level0 row6\" >num_dependents</th>\n      <td id=\"T_c9547_row6_col0\" class=\"data row6 col0\" >800</td>\n      <td id=\"T_c9547_row6_col1\" class=\"data row6 col1\" >0</td>\n      <td id=\"T_c9547_row6_col2\" class=\"data row6 col2\" >0.0%</td>\n      <td id=\"T_c9547_row6_col3\" class=\"data row6 col3\" >0</td>\n      <td id=\"T_c9547_row6_col4\" class=\"data row6 col4\" >0.0%</td>\n      <td id=\"T_c9547_row6_col5\" class=\"data row6 col5\" >1.1</td>\n      <td id=\"T_c9547_row6_col6\" class=\"data row6 col6\" >0.3</td>\n      <td id=\"T_c9547_row6_col7\" class=\"data row6 col7\" >0.3</td>\n      <td id=\"T_c9547_row6_col8\" class=\"data row6 col8\" >2.0</td>\n      <td id=\"T_c9547_row6_col9\" class=\"data row6 col9\" >2.1</td>\n      <td id=\"T_c9547_row6_col10\" class=\"data row6 col10\" >1.0</td>\n      <td id=\"T_c9547_row6_col11\" class=\"data row6 col11\" >1.0</td>\n      <td id=\"T_c9547_row6_col12\" class=\"data row6 col12\" >1.0</td>\n      <td id=\"T_c9547_row6_col13\" class=\"data row6 col13\" >1.0</td>\n      <td id=\"T_c9547_row6_col14\" class=\"data row6 col14\" >1.0</td>\n      <td id=\"T_c9547_row6_col15\" class=\"data row6 col15\" >2.0</td>\n      <td id=\"T_c9547_row6_col16\" class=\"data row6 col16\" >2.0</td>\n    </tr>\n  </tbody>\n</table>\n"
     },
     "execution_count": 43,
     "metadata": {},
     "output_type": "execute_result"
    }
   ],
   "source": [
    "hlp.pandas.numeric_summary(X_train, return_style=True)"
   ],
   "metadata": {
    "collapsed": false,
    "pycharm": {
     "name": "#%%\n"
    }
   }
  },
  {
   "cell_type": "code",
   "execution_count": 44,
   "outputs": [
    {
     "data": {
      "text/plain": "<pandas.io.formats.style.Styler at 0x7f873951b610>",
      "text/html": "<style type=\"text/css\">\n#T_74f76_row0_col1 {\n  background-color: #EBB13E;\n}\n#T_74f76_row0_col2 {\n  width: 10em;\n  height: 80%;\n  background: linear-gradient(90deg,#CF3721 4.6%, transparent 4.6%);\n}\n#T_74f76_row0_col5, #T_74f76_row5_col5, #T_74f76_row7_col5, #T_74f76_row10_col5 {\n  width: 10em;\n  height: 80%;\n  background: linear-gradient(90deg,#B4B7B9 0.5%, transparent 0.5%);\n}\n#T_74f76_row1_col2, #T_74f76_row2_col2, #T_74f76_row3_col2, #T_74f76_row4_col2, #T_74f76_row5_col2, #T_74f76_row6_col2, #T_74f76_row7_col2, #T_74f76_row8_col2, #T_74f76_row9_col2, #T_74f76_row10_col2, #T_74f76_row11_col2, #T_74f76_row12_col2 {\n  width: 10em;\n  height: 80%;\n}\n#T_74f76_row1_col5, #T_74f76_row3_col5, #T_74f76_row4_col5 {\n  width: 10em;\n  height: 80%;\n  background: linear-gradient(90deg,#B4B7B9 0.6%, transparent 0.6%);\n}\n#T_74f76_row2_col5 {\n  width: 10em;\n  height: 80%;\n  background: linear-gradient(90deg,#B4B7B9 1.2%, transparent 1.2%);\n}\n#T_74f76_row6_col5, #T_74f76_row8_col5, #T_74f76_row9_col5 {\n  width: 10em;\n  height: 80%;\n  background: linear-gradient(90deg,#B4B7B9 0.4%, transparent 0.4%);\n}\n#T_74f76_row11_col5, #T_74f76_row12_col5 {\n  width: 10em;\n  height: 80%;\n  background: linear-gradient(90deg,#B4B7B9 0.2%, transparent 0.2%);\n}\n</style>\n<table id=\"T_74f76_\">\n  <thead>\n    <tr>\n      <th class=\"blank level0\" >&nbsp;</th>\n      <th class=\"col_heading level0 col0\" ># of Non-Nulls</th>\n      <th class=\"col_heading level0 col1\" ># of Nulls</th>\n      <th class=\"col_heading level0 col2\" >% Nulls</th>\n      <th class=\"col_heading level0 col3\" >Most Freq. Value</th>\n      <th class=\"col_heading level0 col4\" ># of Unique</th>\n      <th class=\"col_heading level0 col5\" >% Unique</th>\n    </tr>\n  </thead>\n  <tbody>\n    <tr>\n      <th id=\"T_74f76_level0_row0\" class=\"row_heading level0 row0\" >checking_status</th>\n      <td id=\"T_74f76_row0_col0\" class=\"data row0 col0\" >763</td>\n      <td id=\"T_74f76_row0_col1\" class=\"data row0 col1\" >37</td>\n      <td id=\"T_74f76_row0_col2\" class=\"data row0 col2\" >4.6%</td>\n      <td id=\"T_74f76_row0_col3\" class=\"data row0 col3\" >no checking</td>\n      <td id=\"T_74f76_row0_col4\" class=\"data row0 col4\" >4</td>\n      <td id=\"T_74f76_row0_col5\" class=\"data row0 col5\" >0.5%</td>\n    </tr>\n    <tr>\n      <th id=\"T_74f76_level0_row1\" class=\"row_heading level0 row1\" >credit_history</th>\n      <td id=\"T_74f76_row1_col0\" class=\"data row1 col0\" >800</td>\n      <td id=\"T_74f76_row1_col1\" class=\"data row1 col1\" >0</td>\n      <td id=\"T_74f76_row1_col2\" class=\"data row1 col2\" >0.0%</td>\n      <td id=\"T_74f76_row1_col3\" class=\"data row1 col3\" >existing paid</td>\n      <td id=\"T_74f76_row1_col4\" class=\"data row1 col4\" >5</td>\n      <td id=\"T_74f76_row1_col5\" class=\"data row1 col5\" >0.6%</td>\n    </tr>\n    <tr>\n      <th id=\"T_74f76_level0_row2\" class=\"row_heading level0 row2\" >purpose</th>\n      <td id=\"T_74f76_row2_col0\" class=\"data row2 col0\" >800</td>\n      <td id=\"T_74f76_row2_col1\" class=\"data row2 col1\" >0</td>\n      <td id=\"T_74f76_row2_col2\" class=\"data row2 col2\" >0.0%</td>\n      <td id=\"T_74f76_row2_col3\" class=\"data row2 col3\" >radio/tv</td>\n      <td id=\"T_74f76_row2_col4\" class=\"data row2 col4\" >10</td>\n      <td id=\"T_74f76_row2_col5\" class=\"data row2 col5\" >1.2%</td>\n    </tr>\n    <tr>\n      <th id=\"T_74f76_level0_row3\" class=\"row_heading level0 row3\" >savings_status</th>\n      <td id=\"T_74f76_row3_col0\" class=\"data row3 col0\" >800</td>\n      <td id=\"T_74f76_row3_col1\" class=\"data row3 col1\" >0</td>\n      <td id=\"T_74f76_row3_col2\" class=\"data row3 col2\" >0.0%</td>\n      <td id=\"T_74f76_row3_col3\" class=\"data row3 col3\" >&lt;100</td>\n      <td id=\"T_74f76_row3_col4\" class=\"data row3 col4\" >5</td>\n      <td id=\"T_74f76_row3_col5\" class=\"data row3 col5\" >0.6%</td>\n    </tr>\n    <tr>\n      <th id=\"T_74f76_level0_row4\" class=\"row_heading level0 row4\" >employment</th>\n      <td id=\"T_74f76_row4_col0\" class=\"data row4 col0\" >800</td>\n      <td id=\"T_74f76_row4_col1\" class=\"data row4 col1\" >0</td>\n      <td id=\"T_74f76_row4_col2\" class=\"data row4 col2\" >0.0%</td>\n      <td id=\"T_74f76_row4_col3\" class=\"data row4 col3\" >1&lt;=X&lt;4</td>\n      <td id=\"T_74f76_row4_col4\" class=\"data row4 col4\" >5</td>\n      <td id=\"T_74f76_row4_col5\" class=\"data row4 col5\" >0.6%</td>\n    </tr>\n    <tr>\n      <th id=\"T_74f76_level0_row5\" class=\"row_heading level0 row5\" >personal_status</th>\n      <td id=\"T_74f76_row5_col0\" class=\"data row5 col0\" >800</td>\n      <td id=\"T_74f76_row5_col1\" class=\"data row5 col1\" >0</td>\n      <td id=\"T_74f76_row5_col2\" class=\"data row5 col2\" >0.0%</td>\n      <td id=\"T_74f76_row5_col3\" class=\"data row5 col3\" >male single</td>\n      <td id=\"T_74f76_row5_col4\" class=\"data row5 col4\" >4</td>\n      <td id=\"T_74f76_row5_col5\" class=\"data row5 col5\" >0.5%</td>\n    </tr>\n    <tr>\n      <th id=\"T_74f76_level0_row6\" class=\"row_heading level0 row6\" >other_parties</th>\n      <td id=\"T_74f76_row6_col0\" class=\"data row6 col0\" >800</td>\n      <td id=\"T_74f76_row6_col1\" class=\"data row6 col1\" >0</td>\n      <td id=\"T_74f76_row6_col2\" class=\"data row6 col2\" >0.0%</td>\n      <td id=\"T_74f76_row6_col3\" class=\"data row6 col3\" >none</td>\n      <td id=\"T_74f76_row6_col4\" class=\"data row6 col4\" >3</td>\n      <td id=\"T_74f76_row6_col5\" class=\"data row6 col5\" >0.4%</td>\n    </tr>\n    <tr>\n      <th id=\"T_74f76_level0_row7\" class=\"row_heading level0 row7\" >property_magnitude</th>\n      <td id=\"T_74f76_row7_col0\" class=\"data row7 col0\" >800</td>\n      <td id=\"T_74f76_row7_col1\" class=\"data row7 col1\" >0</td>\n      <td id=\"T_74f76_row7_col2\" class=\"data row7 col2\" >0.0%</td>\n      <td id=\"T_74f76_row7_col3\" class=\"data row7 col3\" >car</td>\n      <td id=\"T_74f76_row7_col4\" class=\"data row7 col4\" >4</td>\n      <td id=\"T_74f76_row7_col5\" class=\"data row7 col5\" >0.5%</td>\n    </tr>\n    <tr>\n      <th id=\"T_74f76_level0_row8\" class=\"row_heading level0 row8\" >other_payment_plans</th>\n      <td id=\"T_74f76_row8_col0\" class=\"data row8 col0\" >800</td>\n      <td id=\"T_74f76_row8_col1\" class=\"data row8 col1\" >0</td>\n      <td id=\"T_74f76_row8_col2\" class=\"data row8 col2\" >0.0%</td>\n      <td id=\"T_74f76_row8_col3\" class=\"data row8 col3\" >none</td>\n      <td id=\"T_74f76_row8_col4\" class=\"data row8 col4\" >3</td>\n      <td id=\"T_74f76_row8_col5\" class=\"data row8 col5\" >0.4%</td>\n    </tr>\n    <tr>\n      <th id=\"T_74f76_level0_row9\" class=\"row_heading level0 row9\" >housing</th>\n      <td id=\"T_74f76_row9_col0\" class=\"data row9 col0\" >800</td>\n      <td id=\"T_74f76_row9_col1\" class=\"data row9 col1\" >0</td>\n      <td id=\"T_74f76_row9_col2\" class=\"data row9 col2\" >0.0%</td>\n      <td id=\"T_74f76_row9_col3\" class=\"data row9 col3\" >own</td>\n      <td id=\"T_74f76_row9_col4\" class=\"data row9 col4\" >3</td>\n      <td id=\"T_74f76_row9_col5\" class=\"data row9 col5\" >0.4%</td>\n    </tr>\n    <tr>\n      <th id=\"T_74f76_level0_row10\" class=\"row_heading level0 row10\" >job</th>\n      <td id=\"T_74f76_row10_col0\" class=\"data row10 col0\" >800</td>\n      <td id=\"T_74f76_row10_col1\" class=\"data row10 col1\" >0</td>\n      <td id=\"T_74f76_row10_col2\" class=\"data row10 col2\" >0.0%</td>\n      <td id=\"T_74f76_row10_col3\" class=\"data row10 col3\" >skilled</td>\n      <td id=\"T_74f76_row10_col4\" class=\"data row10 col4\" >4</td>\n      <td id=\"T_74f76_row10_col5\" class=\"data row10 col5\" >0.5%</td>\n    </tr>\n    <tr>\n      <th id=\"T_74f76_level0_row11\" class=\"row_heading level0 row11\" >own_telephone</th>\n      <td id=\"T_74f76_row11_col0\" class=\"data row11 col0\" >800</td>\n      <td id=\"T_74f76_row11_col1\" class=\"data row11 col1\" >0</td>\n      <td id=\"T_74f76_row11_col2\" class=\"data row11 col2\" >0.0%</td>\n      <td id=\"T_74f76_row11_col3\" class=\"data row11 col3\" >none</td>\n      <td id=\"T_74f76_row11_col4\" class=\"data row11 col4\" >2</td>\n      <td id=\"T_74f76_row11_col5\" class=\"data row11 col5\" >0.2%</td>\n    </tr>\n    <tr>\n      <th id=\"T_74f76_level0_row12\" class=\"row_heading level0 row12\" >foreign_worker</th>\n      <td id=\"T_74f76_row12_col0\" class=\"data row12 col0\" >800</td>\n      <td id=\"T_74f76_row12_col1\" class=\"data row12 col1\" >0</td>\n      <td id=\"T_74f76_row12_col2\" class=\"data row12 col2\" >0.0%</td>\n      <td id=\"T_74f76_row12_col3\" class=\"data row12 col3\" >yes</td>\n      <td id=\"T_74f76_row12_col4\" class=\"data row12 col4\" >2</td>\n      <td id=\"T_74f76_row12_col5\" class=\"data row12 col5\" >0.2%</td>\n    </tr>\n  </tbody>\n</table>\n"
     },
     "execution_count": 44,
     "metadata": {},
     "output_type": "execute_result"
    }
   ],
   "source": [
    "hlp.pandas.non_numeric_summary(X_train, return_style=True)"
   ],
   "metadata": {
    "collapsed": false,
    "pycharm": {
     "name": "#%%\n"
    }
   }
  },
  {
   "cell_type": "code",
   "execution_count": 45,
   "id": "86f44647",
   "metadata": {},
   "outputs": [
    {
     "data": {
      "text/plain": "array([0, 0, 1, 0, 1, 0, 1, 0, 0, 1])"
     },
     "execution_count": 45,
     "metadata": {},
     "output_type": "execute_result"
    }
   ],
   "source": [
    "y_train[0:10]"
   ]
  },
  {
   "cell_type": "code",
   "execution_count": 46,
   "id": "1662bbac",
   "metadata": {},
   "outputs": [
    {
     "data": {
      "text/plain": "(array([0, 1]), array([241, 559]))"
     },
     "execution_count": 46,
     "metadata": {},
     "output_type": "execute_result"
    }
   ],
   "source": [
    "np.unique(y_train, return_counts=True)"
   ]
  },
  {
   "cell_type": "code",
   "execution_count": 47,
   "id": "bc038e2c",
   "metadata": {},
   "outputs": [
    {
     "data": {
      "text/plain": "array([0.30125, 0.69875])"
     },
     "execution_count": 47,
     "metadata": {},
     "output_type": "execute_result"
    }
   ],
   "source": [
    "np.unique(y_train, return_counts=True)[1] / np.sum(np.unique(y_train, return_counts=True)[1])"
   ]
  },
  {
   "cell_type": "markdown",
   "id": "259f5c13",
   "metadata": {},
   "source": [
    "# Transformation Pipeline"
   ]
  },
  {
   "cell_type": "code",
   "execution_count": 48,
   "id": "c9b24b17",
   "metadata": {},
   "outputs": [
    {
     "data": {
      "text/plain": "array([[0., 2.],\n       [2., 2.],\n       [9., 1.],\n       ...,\n       [9., 3.],\n       [6., 4.],\n       [6., 2.]])"
     },
     "execution_count": 48,
     "metadata": {},
     "output_type": "execute_result"
    }
   ],
   "source": [
    "from sklearn.preprocessing import OrdinalEncoder\n",
    "OrdinalEncoder().fit_transform(X_train[['purpose', 'savings_status']])"
   ]
  },
  {
   "cell_type": "code",
   "execution_count": 49,
   "id": "742c6bf1",
   "metadata": {},
   "outputs": [
    {
     "name": "stdout",
     "output_type": "stream",
     "text": [
      "['duration', 'credit_amount', 'installment_commitment', 'residence_since', 'age', 'existing_credits', 'num_dependents']\n",
      "['checking_status', 'credit_history', 'purpose', 'savings_status', 'employment', 'personal_status', 'other_parties', 'property_magnitude', 'other_payment_plans', 'housing', 'job', 'own_telephone', 'foreign_worker']\n"
     ]
    }
   ],
   "source": [
    "numeric_columns = hlp.pandas.get_numeric_columns(X_train)\n",
    "non_numeric_columns = hlp.pandas.get_non_numeric_columns(X_train)\n",
    "print(numeric_columns)\n",
    "print(non_numeric_columns)"
   ]
  },
  {
   "cell_type": "code",
   "execution_count": 50,
   "id": "740dc372",
   "metadata": {},
   "outputs": [],
   "source": [
    "numeric_pipeline = Pipeline([\n",
    "    #tune whether or not we want to impute or simply remove rows with missing values\n",
    "    ('impute', hlp.sklearn_pipeline.TransformerChooser()),\n",
    "    # this is here so that we can select between MinMax and Scaler\n",
    "    # if this pipeline is ran in a context outside of tuning, no transformation will take place\n",
    "    ('scaling', hlp.sklearn_pipeline.TransformerChooser()),\n",
    "])"
   ]
  },
  {
   "cell_type": "code",
   "execution_count": 51,
   "id": "4ed41bd2",
   "metadata": {},
   "outputs": [],
   "source": [
    "non_numeric_pipeline = Pipeline([\n",
    "    ('encoder', hlp.sklearn_pipeline.TransformerChooser()),\n",
    "])"
   ]
  },
  {
   "cell_type": "code",
   "execution_count": 52,
   "id": "8f7f94d0",
   "metadata": {},
   "outputs": [],
   "source": [
    "from sklearn.compose import ColumnTransformer\n",
    "transformations_pipeline = ColumnTransformer([\n",
    "    ('numeric', numeric_pipeline, numeric_columns),\n",
    "    ('non_numeric', non_numeric_pipeline, non_numeric_columns)\n",
    "])"
   ]
  },
  {
   "cell_type": "markdown",
   "id": "c215d60a",
   "metadata": {},
   "source": [
    "# Model"
   ]
  },
  {
   "cell_type": "code",
   "execution_count": 53,
   "id": "3b3ddb87",
   "metadata": {},
   "outputs": [],
   "source": [
    "from sklearn.ensemble import RandomForestClassifier\n",
    "random_forest_model = RandomForestClassifier(random_state=42)"
   ]
  },
  {
   "cell_type": "code",
   "execution_count": 54,
   "id": "d6a81445",
   "metadata": {},
   "outputs": [],
   "source": [
    "full_pipeline = Pipeline([\n",
    "    ('prep', transformations_pipeline),\n",
    "    ('model', random_forest_model)\n",
    "])"
   ]
  },
  {
   "cell_type": "code",
   "execution_count": 55,
   "id": "936a9d3f",
   "metadata": {
    "scrolled": true
   },
   "outputs": [
    {
     "data": {
      "text/plain": "{'prep': ColumnTransformer(transformers=[('numeric',\n                                  Pipeline(steps=[('impute',\n                                                   TransformerChooser()),\n                                                  ('scaling',\n                                                   TransformerChooser())]),\n                                  ['duration', 'credit_amount',\n                                   'installment_commitment', 'residence_since',\n                                   'age', 'existing_credits',\n                                   'num_dependents']),\n                                 ('non_numeric',\n                                  Pipeline(steps=[('encoder',\n                                                   TransformerChooser())]),\n                                  ['checking_status', 'credit_history',\n                                   'purpose', 'savings_status', 'employment',\n                                   'personal_status', 'other_parties',\n                                   'property_magnitude', 'other_payment_plans',\n                                   'housing', 'job', 'own_telephone',\n                                   'foreign_worker'])]),\n 'model': RandomForestClassifier(random_state=42)}"
     },
     "execution_count": 55,
     "metadata": {},
     "output_type": "execute_result"
    }
   ],
   "source": [
    "# Show the levels of pipelines/transformers/model\n",
    "full_pipeline.named_steps"
   ]
  },
  {
   "cell_type": "markdown",
   "source": [
    "# GridSearchCV"
   ],
   "metadata": {
    "collapsed": false
   }
  },
  {
   "cell_type": "code",
   "execution_count": 56,
   "id": "54a179db",
   "metadata": {},
   "outputs": [],
   "source": [
    "from sklearn.metrics import make_scorer, f1_score, precision_score, recall_score  # , roc_auc_score\n",
    "from sklearn.metrics import SCORERS\n",
    "\n",
    "# https://scikit-learn.org/stable/modules/generated/sklearn.metrics.make_scorer.html\n",
    "# https://stackoverflow.com/questions/60615281/different-result-roc-auc-score-and-plot-roc-curve\n",
    "scores = {\n",
    "    # https://github.com/scikit-learn/scikit-learn/blob/2beed5584/sklearn/metrics/_scorer.py#L537\n",
    "    'ROC/AUC':  SCORERS['roc_auc'],\n",
    "    'F1': make_scorer(f1_score, greater_is_better=True),\n",
    "    'Pos. Pred. Val': make_scorer(precision_score, greater_is_better=True),\n",
    "    'True Pos. Rate': make_scorer(recall_score, greater_is_better=True),\n",
    "}"
   ]
  },
  {
   "cell_type": "code",
   "execution_count": 57,
   "outputs": [],
   "source": [
    "param_grad = [\n",
    "    {\n",
    "        'prep__numeric__impute__transformer': [SimpleImputer(strategy='mean')],\n",
    "        'prep__numeric__scaling__transformer': [MinMaxScaler(), StandardScaler()],\n",
    "        'prep__non_numeric__encoder__transformer': [OneHotEncoder(),\n",
    "                                                    hlp.sklearn_pipeline.CustomOrdinalEncoder()],\n",
    "        'model__max_features': [2, 10, 'auto'],\n",
    "        'model__n_estimators': [50, 100, 500]\n",
    "    },\n",
    "]"
   ],
   "metadata": {
    "collapsed": false,
    "pycharm": {
     "name": "#%%\n"
    }
   }
  },
  {
   "cell_type": "code",
   "execution_count": 58,
   "id": "e8414f95",
   "metadata": {},
   "outputs": [],
   "source": [
    "num_folds = 5\n",
    "num_repeats = 2"
   ]
  },
  {
   "cell_type": "code",
   "execution_count": 59,
   "outputs": [],
   "source": [
    "new_param_column_names = {'model | max_features': 'max_features',\n",
    "                          'model | n_estimators': 'n_estimators',\n",
    "                          'prep | non_numeric | encoder | transformer': 'encoder',\n",
    "                          'prep | numeric | impute | transformer': 'imputer',\n",
    "                          'prep | numeric | scaling | transformer': 'scaler'}"
   ],
   "metadata": {
    "collapsed": false,
    "pycharm": {
     "name": "#%%\n"
    }
   }
  },
  {
   "cell_type": "code",
   "execution_count": 59,
   "outputs": [],
   "source": [],
   "metadata": {
    "collapsed": false,
    "pycharm": {
     "name": "#%%\n"
    }
   }
  },
  {
   "cell_type": "code",
   "execution_count": 60,
   "outputs": [
    {
     "data": {
      "text/plain": "GridSearchCV(cv=RepeatedKFold(n_repeats=2, n_splits=5, random_state=2),\n             estimator=Pipeline(steps=[('prep',\n                                        ColumnTransformer(transformers=[('numeric',\n                                                                         Pipeline(steps=[('impute',\n                                                                                          TransformerChooser()),\n                                                                                         ('scaling',\n                                                                                          TransformerChooser())]),\n                                                                         ['duration',\n                                                                          'credit_amount',\n                                                                          'installment_commitment',\n                                                                          'residence_since',\n                                                                          'age',\n                                                                          'existing_credits',\n                                                                          'num_dependents']),\n                                                                        ('non_...\n                                                                      CustomOrdinalEncoder()],\n                          'prep__numeric__impute__transformer': [SimpleImputer()],\n                          'prep__numeric__scaling__transformer': [MinMaxScaler(),\n                                                                  StandardScaler()]}],\n             refit='ROC/AUC', return_train_score=True,\n             scoring={'F1': make_scorer(f1_score),\n                      'Pos. Pred. Val': make_scorer(precision_score),\n                      'ROC/AUC': make_scorer(roc_auc_score, needs_threshold=True),\n                      'True Pos. Rate': make_scorer(recall_score)})"
     },
     "execution_count": 60,
     "metadata": {},
     "output_type": "execute_result"
    }
   ],
   "source": [
    "from sklearn.model_selection import RepeatedKFold\n",
    "from sklearn.model_selection import GridSearchCV\n",
    "\n",
    "grid_search = GridSearchCV(full_pipeline,\n",
    "                           param_grid=param_grad,\n",
    "                           cv=RepeatedKFold(n_splits=num_folds,\n",
    "                                            n_repeats=num_repeats,\n",
    "                                            random_state=2),\n",
    "                           scoring=scores,\n",
    "                           refit='ROC/AUC',\n",
    "                           #scoring='roc_auc',\n",
    "                           return_train_score=True\n",
    "                           )\n",
    "grid_search.fit(X_train, y_train)"
   ],
   "metadata": {
    "collapsed": false,
    "pycharm": {
     "name": "#%%\n"
    }
   }
  },
  {
   "cell_type": "code",
   "execution_count": 70,
   "outputs": [
    {
     "name": "stdout",
     "output_type": "stream",
     "text": [
      "{'mean_fit_time': array([0.21950977, 0.13447182, 0.1441529 , 0.07360697, 0.11029053,\n",
      "       0.10768032, 0.21327944, 0.27018371, 0.74392893, 1.00881407,\n",
      "       0.81646128, 1.1857296 , 0.08138123, 0.0734973 , 0.10358696,\n",
      "       0.16368606, 0.3521528 , 0.39671016, 0.37484214, 0.61681886,\n",
      "       2.19434097, 0.98685784, 1.84156377, 1.4716146 , 0.54971724,\n",
      "       0.08778632, 0.08032196, 0.10242209, 0.16960328, 0.27238629,\n",
      "       0.28444185, 0.1537884 , 0.64355445, 0.61625593, 0.57109137,\n",
      "       0.53922842]), 'std_fit_time': array([0.08349742, 0.01577237, 0.07527884, 0.00459968, 0.00720648,\n",
      "       0.00654425, 0.08438533, 0.02780355, 0.35448561, 0.32716557,\n",
      "       0.33475202, 0.35812527, 0.00507889, 0.00302111, 0.0069314 ,\n",
      "       0.05296206, 0.04044515, 0.08663239, 0.13695489, 0.41447897,\n",
      "       1.15901491, 0.43081465, 0.72311275, 0.62709372, 0.53736742,\n",
      "       0.01827482, 0.00687049, 0.02099179, 0.04179248, 0.25434971,\n",
      "       0.17368878, 0.02967505, 0.07818656, 0.07606209, 0.06009813,\n",
      "       0.04710011]), 'mean_score_time': array([0.05126607, 0.04329944, 0.06682267, 0.03177063, 0.02421381,\n",
      "       0.02502775, 0.06604888, 0.09367335, 0.16196535, 0.15777404,\n",
      "       0.15646706, 0.23177962, 0.01978307, 0.01807206, 0.03370011,\n",
      "       0.05258484, 0.05841498, 0.08763716, 0.18750331, 0.21713045,\n",
      "       0.86253741, 0.14495471, 0.29595609, 0.22564554, 0.42121539,\n",
      "       0.02380493, 0.03153136, 0.04067969, 0.03366094, 0.16244245,\n",
      "       0.17343879, 0.04166684, 0.11053894, 0.0943728 , 0.08609443,\n",
      "       0.08219023]), 'std_score_time': array([0.01747789, 0.01135031, 0.04586125, 0.00178037, 0.00173336,\n",
      "       0.00353174, 0.02615065, 0.0202811 , 0.09673503, 0.04112842,\n",
      "       0.11498163, 0.12969964, 0.00207679, 0.00174415, 0.00381687,\n",
      "       0.01904051, 0.01145813, 0.03162657, 0.1531738 , 0.28186513,\n",
      "       0.72275885, 0.07112008, 0.17815834, 0.14502613, 0.49403108,\n",
      "       0.00781424, 0.00320372, 0.01301774, 0.01136741, 0.36977078,\n",
      "       0.19841147, 0.0084354 , 0.04568504, 0.03751023, 0.00910945,\n",
      "       0.00986669]), 'param_model__max_features': masked_array(data=[2, 2, 2, 2, 2, 2, 2, 2, 2, 2, 2, 2, 10, 10, 10, 10, 10,\n",
      "                   10, 10, 10, 10, 10, 10, 10, 'auto', 'auto', 'auto',\n",
      "                   'auto', 'auto', 'auto', 'auto', 'auto', 'auto', 'auto',\n",
      "                   'auto', 'auto'],\n",
      "             mask=[False, False, False, False, False, False, False, False,\n",
      "                   False, False, False, False, False, False, False, False,\n",
      "                   False, False, False, False, False, False, False, False,\n",
      "                   False, False, False, False, False, False, False, False,\n",
      "                   False, False, False, False],\n",
      "       fill_value='?',\n",
      "            dtype=object), 'param_model__n_estimators': masked_array(data=[50, 50, 50, 50, 100, 100, 100, 100, 500, 500, 500, 500,\n",
      "                   50, 50, 50, 50, 100, 100, 100, 100, 500, 500, 500, 500,\n",
      "                   50, 50, 50, 50, 100, 100, 100, 100, 500, 500, 500, 500],\n",
      "             mask=[False, False, False, False, False, False, False, False,\n",
      "                   False, False, False, False, False, False, False, False,\n",
      "                   False, False, False, False, False, False, False, False,\n",
      "                   False, False, False, False, False, False, False, False,\n",
      "                   False, False, False, False],\n",
      "       fill_value='?',\n",
      "            dtype=object), 'param_prep__non_numeric__encoder__transformer': masked_array(data=[OneHotEncoder(), OneHotEncoder(),\n",
      "                   CustomOrdinalEncoder(), CustomOrdinalEncoder(),\n",
      "                   OneHotEncoder(), OneHotEncoder(),\n",
      "                   CustomOrdinalEncoder(), CustomOrdinalEncoder(),\n",
      "                   OneHotEncoder(), OneHotEncoder(),\n",
      "                   CustomOrdinalEncoder(), CustomOrdinalEncoder(),\n",
      "                   OneHotEncoder(), OneHotEncoder(),\n",
      "                   CustomOrdinalEncoder(), CustomOrdinalEncoder(),\n",
      "                   OneHotEncoder(), OneHotEncoder(),\n",
      "                   CustomOrdinalEncoder(), CustomOrdinalEncoder(),\n",
      "                   OneHotEncoder(), OneHotEncoder(),\n",
      "                   CustomOrdinalEncoder(), CustomOrdinalEncoder(),\n",
      "                   OneHotEncoder(), OneHotEncoder(),\n",
      "                   CustomOrdinalEncoder(), CustomOrdinalEncoder(),\n",
      "                   OneHotEncoder(), OneHotEncoder(),\n",
      "                   CustomOrdinalEncoder(), CustomOrdinalEncoder(),\n",
      "                   OneHotEncoder(), OneHotEncoder(),\n",
      "                   CustomOrdinalEncoder(), CustomOrdinalEncoder()],\n",
      "             mask=[False, False, False, False, False, False, False, False,\n",
      "                   False, False, False, False, False, False, False, False,\n",
      "                   False, False, False, False, False, False, False, False,\n",
      "                   False, False, False, False, False, False, False, False,\n",
      "                   False, False, False, False],\n",
      "       fill_value='?',\n",
      "            dtype=object), 'param_prep__numeric__impute__transformer': masked_array(data=[SimpleImputer(), SimpleImputer(), SimpleImputer(),\n",
      "                   SimpleImputer(), SimpleImputer(), SimpleImputer(),\n",
      "                   SimpleImputer(), SimpleImputer(), SimpleImputer(),\n",
      "                   SimpleImputer(), SimpleImputer(), SimpleImputer(),\n",
      "                   SimpleImputer(), SimpleImputer(), SimpleImputer(),\n",
      "                   SimpleImputer(), SimpleImputer(), SimpleImputer(),\n",
      "                   SimpleImputer(), SimpleImputer(), SimpleImputer(),\n",
      "                   SimpleImputer(), SimpleImputer(), SimpleImputer(),\n",
      "                   SimpleImputer(), SimpleImputer(), SimpleImputer(),\n",
      "                   SimpleImputer(), SimpleImputer(), SimpleImputer(),\n",
      "                   SimpleImputer(), SimpleImputer(), SimpleImputer(),\n",
      "                   SimpleImputer(), SimpleImputer(), SimpleImputer()],\n",
      "             mask=[False, False, False, False, False, False, False, False,\n",
      "                   False, False, False, False, False, False, False, False,\n",
      "                   False, False, False, False, False, False, False, False,\n",
      "                   False, False, False, False, False, False, False, False,\n",
      "                   False, False, False, False],\n",
      "       fill_value='?',\n",
      "            dtype=object), 'param_prep__numeric__scaling__transformer': masked_array(data=[MinMaxScaler(), StandardScaler(), MinMaxScaler(),\n",
      "                   StandardScaler(), MinMaxScaler(), StandardScaler(),\n",
      "                   MinMaxScaler(), StandardScaler(), MinMaxScaler(),\n",
      "                   StandardScaler(), MinMaxScaler(), StandardScaler(),\n",
      "                   MinMaxScaler(), StandardScaler(), MinMaxScaler(),\n",
      "                   StandardScaler(), MinMaxScaler(), StandardScaler(),\n",
      "                   MinMaxScaler(), StandardScaler(), MinMaxScaler(),\n",
      "                   StandardScaler(), MinMaxScaler(), StandardScaler(),\n",
      "                   MinMaxScaler(), StandardScaler(), MinMaxScaler(),\n",
      "                   StandardScaler(), MinMaxScaler(), StandardScaler(),\n",
      "                   MinMaxScaler(), StandardScaler(), MinMaxScaler(),\n",
      "                   StandardScaler(), MinMaxScaler(), StandardScaler()],\n",
      "             mask=[False, False, False, False, False, False, False, False,\n",
      "                   False, False, False, False, False, False, False, False,\n",
      "                   False, False, False, False, False, False, False, False,\n",
      "                   False, False, False, False, False, False, False, False,\n",
      "                   False, False, False, False],\n",
      "       fill_value='?',\n",
      "            dtype=object), 'params': [{'model__max_features': 2, 'model__n_estimators': 50, 'prep__non_numeric__encoder__transformer': OneHotEncoder(), 'prep__numeric__impute__transformer': SimpleImputer(), 'prep__numeric__scaling__transformer': MinMaxScaler()}, {'model__max_features': 2, 'model__n_estimators': 50, 'prep__non_numeric__encoder__transformer': OneHotEncoder(), 'prep__numeric__impute__transformer': SimpleImputer(), 'prep__numeric__scaling__transformer': StandardScaler()}, {'model__max_features': 2, 'model__n_estimators': 50, 'prep__non_numeric__encoder__transformer': CustomOrdinalEncoder(), 'prep__numeric__impute__transformer': SimpleImputer(), 'prep__numeric__scaling__transformer': MinMaxScaler()}, {'model__max_features': 2, 'model__n_estimators': 50, 'prep__non_numeric__encoder__transformer': CustomOrdinalEncoder(), 'prep__numeric__impute__transformer': SimpleImputer(), 'prep__numeric__scaling__transformer': StandardScaler()}, {'model__max_features': 2, 'model__n_estimators': 100, 'prep__non_numeric__encoder__transformer': OneHotEncoder(), 'prep__numeric__impute__transformer': SimpleImputer(), 'prep__numeric__scaling__transformer': MinMaxScaler()}, {'model__max_features': 2, 'model__n_estimators': 100, 'prep__non_numeric__encoder__transformer': OneHotEncoder(), 'prep__numeric__impute__transformer': SimpleImputer(), 'prep__numeric__scaling__transformer': StandardScaler()}, {'model__max_features': 2, 'model__n_estimators': 100, 'prep__non_numeric__encoder__transformer': CustomOrdinalEncoder(), 'prep__numeric__impute__transformer': SimpleImputer(), 'prep__numeric__scaling__transformer': MinMaxScaler()}, {'model__max_features': 2, 'model__n_estimators': 100, 'prep__non_numeric__encoder__transformer': CustomOrdinalEncoder(), 'prep__numeric__impute__transformer': SimpleImputer(), 'prep__numeric__scaling__transformer': StandardScaler()}, {'model__max_features': 2, 'model__n_estimators': 500, 'prep__non_numeric__encoder__transformer': OneHotEncoder(), 'prep__numeric__impute__transformer': SimpleImputer(), 'prep__numeric__scaling__transformer': MinMaxScaler()}, {'model__max_features': 2, 'model__n_estimators': 500, 'prep__non_numeric__encoder__transformer': OneHotEncoder(), 'prep__numeric__impute__transformer': SimpleImputer(), 'prep__numeric__scaling__transformer': StandardScaler()}, {'model__max_features': 2, 'model__n_estimators': 500, 'prep__non_numeric__encoder__transformer': CustomOrdinalEncoder(), 'prep__numeric__impute__transformer': SimpleImputer(), 'prep__numeric__scaling__transformer': MinMaxScaler()}, {'model__max_features': 2, 'model__n_estimators': 500, 'prep__non_numeric__encoder__transformer': CustomOrdinalEncoder(), 'prep__numeric__impute__transformer': SimpleImputer(), 'prep__numeric__scaling__transformer': StandardScaler()}, {'model__max_features': 10, 'model__n_estimators': 50, 'prep__non_numeric__encoder__transformer': OneHotEncoder(), 'prep__numeric__impute__transformer': SimpleImputer(), 'prep__numeric__scaling__transformer': MinMaxScaler()}, {'model__max_features': 10, 'model__n_estimators': 50, 'prep__non_numeric__encoder__transformer': OneHotEncoder(), 'prep__numeric__impute__transformer': SimpleImputer(), 'prep__numeric__scaling__transformer': StandardScaler()}, {'model__max_features': 10, 'model__n_estimators': 50, 'prep__non_numeric__encoder__transformer': CustomOrdinalEncoder(), 'prep__numeric__impute__transformer': SimpleImputer(), 'prep__numeric__scaling__transformer': MinMaxScaler()}, {'model__max_features': 10, 'model__n_estimators': 50, 'prep__non_numeric__encoder__transformer': CustomOrdinalEncoder(), 'prep__numeric__impute__transformer': SimpleImputer(), 'prep__numeric__scaling__transformer': StandardScaler()}, {'model__max_features': 10, 'model__n_estimators': 100, 'prep__non_numeric__encoder__transformer': OneHotEncoder(), 'prep__numeric__impute__transformer': SimpleImputer(), 'prep__numeric__scaling__transformer': MinMaxScaler()}, {'model__max_features': 10, 'model__n_estimators': 100, 'prep__non_numeric__encoder__transformer': OneHotEncoder(), 'prep__numeric__impute__transformer': SimpleImputer(), 'prep__numeric__scaling__transformer': StandardScaler()}, {'model__max_features': 10, 'model__n_estimators': 100, 'prep__non_numeric__encoder__transformer': CustomOrdinalEncoder(), 'prep__numeric__impute__transformer': SimpleImputer(), 'prep__numeric__scaling__transformer': MinMaxScaler()}, {'model__max_features': 10, 'model__n_estimators': 100, 'prep__non_numeric__encoder__transformer': CustomOrdinalEncoder(), 'prep__numeric__impute__transformer': SimpleImputer(), 'prep__numeric__scaling__transformer': StandardScaler()}, {'model__max_features': 10, 'model__n_estimators': 500, 'prep__non_numeric__encoder__transformer': OneHotEncoder(), 'prep__numeric__impute__transformer': SimpleImputer(), 'prep__numeric__scaling__transformer': MinMaxScaler()}, {'model__max_features': 10, 'model__n_estimators': 500, 'prep__non_numeric__encoder__transformer': OneHotEncoder(), 'prep__numeric__impute__transformer': SimpleImputer(), 'prep__numeric__scaling__transformer': StandardScaler()}, {'model__max_features': 10, 'model__n_estimators': 500, 'prep__non_numeric__encoder__transformer': CustomOrdinalEncoder(), 'prep__numeric__impute__transformer': SimpleImputer(), 'prep__numeric__scaling__transformer': MinMaxScaler()}, {'model__max_features': 10, 'model__n_estimators': 500, 'prep__non_numeric__encoder__transformer': CustomOrdinalEncoder(), 'prep__numeric__impute__transformer': SimpleImputer(), 'prep__numeric__scaling__transformer': StandardScaler()}, {'model__max_features': 'auto', 'model__n_estimators': 50, 'prep__non_numeric__encoder__transformer': OneHotEncoder(), 'prep__numeric__impute__transformer': SimpleImputer(), 'prep__numeric__scaling__transformer': MinMaxScaler()}, {'model__max_features': 'auto', 'model__n_estimators': 50, 'prep__non_numeric__encoder__transformer': OneHotEncoder(), 'prep__numeric__impute__transformer': SimpleImputer(), 'prep__numeric__scaling__transformer': StandardScaler()}, {'model__max_features': 'auto', 'model__n_estimators': 50, 'prep__non_numeric__encoder__transformer': CustomOrdinalEncoder(), 'prep__numeric__impute__transformer': SimpleImputer(), 'prep__numeric__scaling__transformer': MinMaxScaler()}, {'model__max_features': 'auto', 'model__n_estimators': 50, 'prep__non_numeric__encoder__transformer': CustomOrdinalEncoder(), 'prep__numeric__impute__transformer': SimpleImputer(), 'prep__numeric__scaling__transformer': StandardScaler()}, {'model__max_features': 'auto', 'model__n_estimators': 100, 'prep__non_numeric__encoder__transformer': OneHotEncoder(), 'prep__numeric__impute__transformer': SimpleImputer(), 'prep__numeric__scaling__transformer': MinMaxScaler()}, {'model__max_features': 'auto', 'model__n_estimators': 100, 'prep__non_numeric__encoder__transformer': OneHotEncoder(), 'prep__numeric__impute__transformer': SimpleImputer(), 'prep__numeric__scaling__transformer': StandardScaler()}, {'model__max_features': 'auto', 'model__n_estimators': 100, 'prep__non_numeric__encoder__transformer': CustomOrdinalEncoder(), 'prep__numeric__impute__transformer': SimpleImputer(), 'prep__numeric__scaling__transformer': MinMaxScaler()}, {'model__max_features': 'auto', 'model__n_estimators': 100, 'prep__non_numeric__encoder__transformer': CustomOrdinalEncoder(), 'prep__numeric__impute__transformer': SimpleImputer(), 'prep__numeric__scaling__transformer': StandardScaler()}, {'model__max_features': 'auto', 'model__n_estimators': 500, 'prep__non_numeric__encoder__transformer': OneHotEncoder(), 'prep__numeric__impute__transformer': SimpleImputer(), 'prep__numeric__scaling__transformer': MinMaxScaler()}, {'model__max_features': 'auto', 'model__n_estimators': 500, 'prep__non_numeric__encoder__transformer': OneHotEncoder(), 'prep__numeric__impute__transformer': SimpleImputer(), 'prep__numeric__scaling__transformer': StandardScaler()}, {'model__max_features': 'auto', 'model__n_estimators': 500, 'prep__non_numeric__encoder__transformer': CustomOrdinalEncoder(), 'prep__numeric__impute__transformer': SimpleImputer(), 'prep__numeric__scaling__transformer': MinMaxScaler()}, {'model__max_features': 'auto', 'model__n_estimators': 500, 'prep__non_numeric__encoder__transformer': CustomOrdinalEncoder(), 'prep__numeric__impute__transformer': SimpleImputer(), 'prep__numeric__scaling__transformer': StandardScaler()}], 'split0_test_ROC/AUC': array([0.78808134, 0.79128224, 0.76190924, 0.75560158, 0.794389  ,\n",
      "       0.79646018, 0.77066466, 0.76511015, 0.79749576, 0.79834306,\n",
      "       0.77452457, 0.77188853, 0.78346827, 0.78252683, 0.76652231,\n",
      "       0.76680474, 0.76962907, 0.77047637, 0.77490115, 0.77574845,\n",
      "       0.78648089, 0.78619846, 0.77047637, 0.77028808, 0.75127095,\n",
      "       0.74985878, 0.76341555, 0.76341555, 0.77019394, 0.76859349,\n",
      "       0.75550744, 0.75597816, 0.77198268, 0.77066466, 0.77876106,\n",
      "       0.77904349]), 'split1_test_ROC/AUC': array([0.74731689, 0.74637545, 0.75192996, 0.75437771, 0.7503295 ,\n",
      "       0.75164752, 0.75588401, 0.75842591, 0.77122952, 0.77066466,\n",
      "       0.76190924, 0.76294483, 0.75315383, 0.75418942, 0.73055922,\n",
      "       0.7275466 , 0.77113538, 0.77188853, 0.73997364, 0.74016193,\n",
      "       0.77800791, 0.78007908, 0.75042365, 0.75108266, 0.78186782,\n",
      "       0.78252683, 0.73912634, 0.73959706, 0.78742233, 0.78817548,\n",
      "       0.74919977, 0.75042365, 0.77753719, 0.77687818, 0.76435699,\n",
      "       0.765016  ]), 'split2_test_ROC/AUC': array([0.7486334 , 0.74748722, 0.77190972, 0.77296773, 0.77693528,\n",
      "       0.77587727, 0.79950626, 0.80003527, 0.79862458, 0.79589138,\n",
      "       0.81766884, 0.81555281, 0.79765473, 0.80126962, 0.77966849,\n",
      "       0.78134368, 0.80576618, 0.80691236, 0.78063834, 0.78090284,\n",
      "       0.8070887 , 0.80770587, 0.78416505, 0.78425322, 0.78028566,\n",
      "       0.78363604, 0.77367307, 0.77508376, 0.79113031, 0.79183566,\n",
      "       0.79165932, 0.79201199, 0.80453183, 0.80338565, 0.79818374,\n",
      "       0.79783107]), 'split3_test_ROC/AUC': array([0.75382835, 0.75267094, 0.7275641 , 0.72881054, 0.75934829,\n",
      "       0.75917023, 0.74127493, 0.73993946, 0.76771724, 0.76727208,\n",
      "       0.76816239, 0.7664708 , 0.75195869, 0.74955484, 0.76166311,\n",
      "       0.76175214, 0.76077279, 0.75890313, 0.75498575, 0.75569801,\n",
      "       0.76032764, 0.7602386 , 0.76700499, 0.76549145, 0.76121795,\n",
      "       0.75676638, 0.7457265 , 0.7394943 , 0.75302707, 0.75320513,\n",
      "       0.75623219, 0.7531161 , 0.76237536, 0.76184117, 0.76700499,\n",
      "       0.76433405]), 'split4_test_ROC/AUC': array([0.69602502, 0.69249395, 0.71973366, 0.72165052, 0.73496772,\n",
      "       0.73335351, 0.73880145, 0.73910412, 0.72951977, 0.72982244,\n",
      "       0.70934221, 0.71085553, 0.69087974, 0.69087974, 0.71589992,\n",
      "       0.71963277, 0.71650525, 0.71761501, 0.68674334, 0.68987086,\n",
      "       0.7135795 , 0.71257062, 0.69410815, 0.69642857, 0.72578692,\n",
      "       0.72780468, 0.69471348, 0.69794189, 0.70732446, 0.70772801,\n",
      "       0.68926554, 0.68936642, 0.71731235, 0.71721146, 0.70187651,\n",
      "       0.70127119]), 'split5_test_ROC/AUC': array([0.67561121, 0.67590936, 0.72858279, 0.72818525, 0.67571059,\n",
      "       0.67730074, 0.72261976, 0.72162592, 0.69280461, 0.69161201,\n",
      "       0.71248261, 0.71158815, 0.66497714, 0.66666667, 0.67421984,\n",
      "       0.6701451 , 0.65841781, 0.66050487, 0.68952495, 0.68704035,\n",
      "       0.67223216, 0.67084079, 0.67809581, 0.67680382, 0.70522759,\n",
      "       0.70264361, 0.69240708, 0.69578613, 0.69320215, 0.69141324,\n",
      "       0.70005963, 0.701451  , 0.69509044, 0.69240708, 0.70224607,\n",
      "       0.70214669]), 'split6_test_ROC/AUC': array([0.78751959, 0.78683386, 0.76528213, 0.76498824, 0.76733934,\n",
      "       0.76479232, 0.78027038, 0.7796826 , 0.78791144, 0.78536442,\n",
      "       0.78271944, 0.77880094, 0.78673589, 0.7828174 , 0.75      ,\n",
      "       0.75039185, 0.78967476, 0.7880094 , 0.76890674, 0.76890674,\n",
      "       0.79623824, 0.79486677, 0.77468652, 0.77596003, 0.78467868,\n",
      "       0.78095611, 0.74363245, 0.74490596, 0.79388715, 0.79241771,\n",
      "       0.76890674, 0.76851489, 0.7950627 , 0.79545455, 0.78115204,\n",
      "       0.78076019]), 'split7_test_ROC/AUC': array([0.79426078, 0.79459641, 0.77957711, 0.77655647, 0.8020641 ,\n",
      "       0.80357443, 0.79258265, 0.79140795, 0.80592381, 0.80592381,\n",
      "       0.81120993, 0.81280416, 0.78704481, 0.7869609 , 0.79031717,\n",
      "       0.78964591, 0.79501594, 0.79602282, 0.78838731, 0.78855513,\n",
      "       0.80491693, 0.80659507, 0.7919953 , 0.79157577, 0.79157577,\n",
      "       0.78905857, 0.77168988, 0.77236113, 0.80088941, 0.80005034,\n",
      "       0.7869609 , 0.7869609 , 0.80474912, 0.80617553, 0.80533647,\n",
      "       0.80835711]), 'split8_test_ROC/AUC': array([0.72386533, 0.72293527, 0.75660342, 0.75660342, 0.72721354,\n",
      "       0.72619048, 0.76302083, 0.76153274, 0.76143973, 0.75995164,\n",
      "       0.75864955, 0.75753348, 0.76385789, 0.76264881, 0.70842634,\n",
      "       0.70693824, 0.76320685, 0.76432292, 0.71484375, 0.71037946,\n",
      "       0.74944196, 0.74897693, 0.72228423, 0.72135417, 0.73846726,\n",
      "       0.73428199, 0.73009673, 0.73158482, 0.76134673, 0.75734747,\n",
      "       0.73046875, 0.73195685, 0.7593006 , 0.75744048, 0.74404762,\n",
      "       0.74125744]), 'split9_test_ROC/AUC': array([0.79504801, 0.79570702, 0.77527773, 0.77556016, 0.794389  ,\n",
      "       0.79165882, 0.80314442, 0.80069667, 0.80257955, 0.80361514,\n",
      "       0.80634532, 0.80728676, 0.80982866, 0.81265298, 0.77810205,\n",
      "       0.77744304, 0.81312371, 0.81387686, 0.77452457, 0.77537187,\n",
      "       0.80192054, 0.8018264 , 0.77490115, 0.77556016, 0.78582188,\n",
      "       0.78789305, 0.7813971 , 0.78017323, 0.78845792, 0.79052909,\n",
      "       0.77443043, 0.7756543 , 0.7977782 , 0.79730748, 0.78761062,\n",
      "       0.78836377]), 'mean_test_ROC/AUC': array([0.75101899, 0.75062917, 0.75383699, 0.75353016, 0.75826864,\n",
      "       0.75800255, 0.76677693, 0.76575608, 0.7715246 , 0.77084606,\n",
      "       0.77030141, 0.7695726 , 0.75895597, 0.75901672, 0.74553784,\n",
      "       0.74516441, 0.76432477, 0.76485323, 0.74734295, 0.74726356,\n",
      "       0.76702345, 0.76698986, 0.75081412, 0.75087979, 0.76062005,\n",
      "       0.75954261, 0.74358782, 0.74403438, 0.76468814, 0.76412956,\n",
      "       0.75026907, 0.75054343, 0.76857204, 0.76787662, 0.76305761,\n",
      "       0.7628381 ]), 'std_test_ROC/AUC': array([0.039987  , 0.04085391, 0.02036517, 0.01951622, 0.0365315 ,\n",
      "       0.03637066, 0.02602408, 0.02577626, 0.03450027, 0.03462783,\n",
      "       0.03557836, 0.03536158, 0.04451992, 0.04456392, 0.0353795 ,\n",
      "       0.03626517, 0.04390293, 0.04349353, 0.03597314, 0.03648185,\n",
      "       0.04219868, 0.04281765, 0.03731572, 0.03731254, 0.02805457,\n",
      "       0.02868209, 0.02955028, 0.02845449, 0.03538707, 0.03575941,\n",
      "       0.03269433, 0.0324557 , 0.03521379, 0.03584852, 0.03466702,\n",
      "       0.03532492]), 'rank_test_ROC/AUC': array([25, 28, 23, 24, 21, 22,  9, 10,  1,  2,  3,  4, 20, 19, 33, 34, 13,\n",
      "       11, 31, 32,  7,  8, 27, 26, 17, 18, 36, 35, 12, 14, 30, 29,  5,  6,\n",
      "       15, 16], dtype=int32), 'split0_train_ROC/AUC': array([1., 1., 1., 1., 1., 1., 1., 1., 1., 1., 1., 1., 1., 1., 1., 1., 1.,\n",
      "       1., 1., 1., 1., 1., 1., 1., 1., 1., 1., 1., 1., 1., 1., 1., 1., 1.,\n",
      "       1., 1.]), 'split1_train_ROC/AUC': array([1., 1., 1., 1., 1., 1., 1., 1., 1., 1., 1., 1., 1., 1., 1., 1., 1.,\n",
      "       1., 1., 1., 1., 1., 1., 1., 1., 1., 1., 1., 1., 1., 1., 1., 1., 1.,\n",
      "       1., 1.]), 'split2_train_ROC/AUC': array([1., 1., 1., 1., 1., 1., 1., 1., 1., 1., 1., 1., 1., 1., 1., 1., 1.,\n",
      "       1., 1., 1., 1., 1., 1., 1., 1., 1., 1., 1., 1., 1., 1., 1., 1., 1.,\n",
      "       1., 1.]), 'split3_train_ROC/AUC': array([1., 1., 1., 1., 1., 1., 1., 1., 1., 1., 1., 1., 1., 1., 1., 1., 1.,\n",
      "       1., 1., 1., 1., 1., 1., 1., 1., 1., 1., 1., 1., 1., 1., 1., 1., 1.,\n",
      "       1., 1.]), 'split4_train_ROC/AUC': array([1., 1., 1., 1., 1., 1., 1., 1., 1., 1., 1., 1., 1., 1., 1., 1., 1.,\n",
      "       1., 1., 1., 1., 1., 1., 1., 1., 1., 1., 1., 1., 1., 1., 1., 1., 1.,\n",
      "       1., 1.]), 'split5_train_ROC/AUC': array([1., 1., 1., 1., 1., 1., 1., 1., 1., 1., 1., 1., 1., 1., 1., 1., 1.,\n",
      "       1., 1., 1., 1., 1., 1., 1., 1., 1., 1., 1., 1., 1., 1., 1., 1., 1.,\n",
      "       1., 1.]), 'split6_train_ROC/AUC': array([1., 1., 1., 1., 1., 1., 1., 1., 1., 1., 1., 1., 1., 1., 1., 1., 1.,\n",
      "       1., 1., 1., 1., 1., 1., 1., 1., 1., 1., 1., 1., 1., 1., 1., 1., 1.,\n",
      "       1., 1.]), 'split7_train_ROC/AUC': array([1., 1., 1., 1., 1., 1., 1., 1., 1., 1., 1., 1., 1., 1., 1., 1., 1.,\n",
      "       1., 1., 1., 1., 1., 1., 1., 1., 1., 1., 1., 1., 1., 1., 1., 1., 1.,\n",
      "       1., 1.]), 'split8_train_ROC/AUC': array([1., 1., 1., 1., 1., 1., 1., 1., 1., 1., 1., 1., 1., 1., 1., 1., 1.,\n",
      "       1., 1., 1., 1., 1., 1., 1., 1., 1., 1., 1., 1., 1., 1., 1., 1., 1.,\n",
      "       1., 1.]), 'split9_train_ROC/AUC': array([1., 1., 1., 1., 1., 1., 1., 1., 1., 1., 1., 1., 1., 1., 1., 1., 1.,\n",
      "       1., 1., 1., 1., 1., 1., 1., 1., 1., 1., 1., 1., 1., 1., 1., 1., 1.,\n",
      "       1., 1.]), 'mean_train_ROC/AUC': array([1., 1., 1., 1., 1., 1., 1., 1., 1., 1., 1., 1., 1., 1., 1., 1., 1.,\n",
      "       1., 1., 1., 1., 1., 1., 1., 1., 1., 1., 1., 1., 1., 1., 1., 1., 1.,\n",
      "       1., 1.]), 'std_train_ROC/AUC': array([3.51083347e-17, 0.00000000e+00, 4.96506831e-17, 3.51083347e-17,\n",
      "       0.00000000e+00, 3.51083347e-17, 4.96506831e-17, 4.96506831e-17,\n",
      "       4.96506831e-17, 3.51083347e-17, 3.51083347e-17, 4.96506831e-17,\n",
      "       3.51083347e-17, 3.51083347e-17, 4.96506831e-17, 3.51083347e-17,\n",
      "       4.96506831e-17, 4.96506831e-17, 7.02166694e-17, 3.51083347e-17,\n",
      "       0.00000000e+00, 0.00000000e+00, 6.08094194e-17, 3.51083347e-17,\n",
      "       0.00000000e+00, 0.00000000e+00, 3.51083347e-17, 3.51083347e-17,\n",
      "       3.51083347e-17, 3.51083347e-17, 3.51083347e-17, 0.00000000e+00,\n",
      "       4.96506831e-17, 0.00000000e+00, 8.59975057e-17, 4.96506831e-17]), 'split0_test_F1': array([0.84126984, 0.8458498 , 0.81481481, 0.81481481, 0.84126984,\n",
      "       0.84126984, 0.84552846, 0.83739837, 0.8458498 , 0.8503937 ,\n",
      "       0.832     , 0.83534137, 0.84745763, 0.84745763, 0.84482759,\n",
      "       0.84482759, 0.83898305, 0.83544304, 0.84120172, 0.83760684,\n",
      "       0.85355649, 0.85355649, 0.83544304, 0.83898305, 0.84081633,\n",
      "       0.84081633, 0.825     , 0.82008368, 0.83333333, 0.84297521,\n",
      "       0.82157676, 0.82157676, 0.83333333, 0.83682008, 0.8442623 ,\n",
      "       0.8442623 ]), 'split1_test_F1': array([0.824     , 0.824     , 0.83333333, 0.83682008, 0.82730924,\n",
      "       0.82258065, 0.8244898 , 0.82786885, 0.8458498 , 0.8458498 ,\n",
      "       0.82304527, 0.82304527, 0.84081633, 0.83739837, 0.82051282,\n",
      "       0.8220339 , 0.83265306, 0.83265306, 0.80519481, 0.80519481,\n",
      "       0.84210526, 0.84677419, 0.81196581, 0.81196581, 0.85714286,\n",
      "       0.85020243, 0.81512605, 0.81171548, 0.83739837, 0.83739837,\n",
      "       0.80991736, 0.81967213, 0.83950617, 0.82644628, 0.82008368,\n",
      "       0.82008368]), 'split2_test_F1': array([0.80645161, 0.8097166 , 0.81451613, 0.81451613, 0.83333333,\n",
      "       0.83333333, 0.82730924, 0.82258065, 0.83794466, 0.83794466,\n",
      "       0.83333333, 0.83333333, 0.82845188, 0.82845188, 0.81034483,\n",
      "       0.81385281, 0.8220339 , 0.8220339 , 0.80851064, 0.80851064,\n",
      "       0.82157676, 0.82157676, 0.8       , 0.79487179, 0.8       ,\n",
      "       0.8       , 0.83760684, 0.83760684, 0.82644628, 0.82157676,\n",
      "       0.81171548, 0.80672269, 0.83817427, 0.83817427, 0.81481481,\n",
      "       0.81481481]), 'split3_test_F1': array([0.81666667, 0.81666667, 0.81967213, 0.81481481, 0.8244898 ,\n",
      "       0.8244898 , 0.81300813, 0.79835391, 0.816     , 0.816     ,\n",
      "       0.81781377, 0.81781377, 0.81512605, 0.81355932, 0.7965368 ,\n",
      "       0.7965368 , 0.82008368, 0.81512605, 0.78969957, 0.78969957,\n",
      "       0.82008368, 0.82008368, 0.80851064, 0.80851064, 0.83050847,\n",
      "       0.82553191, 0.79831933, 0.79324895, 0.825     , 0.825     ,\n",
      "       0.80334728, 0.80334728, 0.82157676, 0.82157676, 0.80991736,\n",
      "       0.80991736]), 'split4_test_F1': array([0.87218045, 0.87218045, 0.859375  , 0.8627451 , 0.86142322,\n",
      "       0.85820896, 0.859375  , 0.85603113, 0.86142322, 0.85820896,\n",
      "       0.86046512, 0.86486486, 0.83333333, 0.83665339, 0.832     ,\n",
      "       0.832     , 0.83921569, 0.83921569, 0.81422925, 0.81746032,\n",
      "       0.859375  , 0.859375  , 0.82868526, 0.82539683, 0.84824903,\n",
      "       0.84375   , 0.81781377, 0.81781377, 0.85603113, 0.84824903,\n",
      "       0.82539683, 0.82539683, 0.86046512, 0.85714286, 0.8515625 ,\n",
      "       0.8515625 ]), 'split5_test_F1': array([0.828125  , 0.828125  , 0.848     , 0.83265306, 0.83524904,\n",
      "       0.83076923, 0.85490196, 0.8458498 , 0.84848485, 0.84848485,\n",
      "       0.84046693, 0.8359375 , 0.81451613, 0.81451613, 0.78813559,\n",
      "       0.78297872, 0.816     , 0.82539683, 0.78991597, 0.8       ,\n",
      "       0.81124498, 0.81124498, 0.80165289, 0.80165289, 0.84251969,\n",
      "       0.84251969, 0.82113821, 0.82113821, 0.81746032, 0.81746032,\n",
      "       0.824     , 0.82868526, 0.80478088, 0.80478088, 0.824     ,\n",
      "       0.83333333]), 'split6_test_F1': array([0.84705882, 0.84705882, 0.81666667, 0.81171548, 0.85490196,\n",
      "       0.85490196, 0.83739837, 0.83739837, 0.86956522, 0.86614173,\n",
      "       0.84677419, 0.84677419, 0.84773663, 0.84773663, 0.82987552,\n",
      "       0.82987552, 0.87449393, 0.8699187 , 0.82987552, 0.82987552,\n",
      "       0.87804878, 0.87449393, 0.84388186, 0.83898305, 0.86885246,\n",
      "       0.86885246, 0.84518828, 0.84166667, 0.86885246, 0.86885246,\n",
      "       0.83817427, 0.84773663, 0.86639676, 0.8699187 , 0.83950617,\n",
      "       0.83471074]), 'split7_test_F1': array([0.80991736, 0.80991736, 0.79166667, 0.7966805 , 0.81147541,\n",
      "       0.81147541, 0.7966805 , 0.7966805 , 0.7983871 , 0.7983871 ,\n",
      "       0.80658436, 0.80991736, 0.82051282, 0.82051282, 0.79824561,\n",
      "       0.79824561, 0.8220339 , 0.8220339 , 0.81057269, 0.81057269,\n",
      "       0.82553191, 0.83544304, 0.78947368, 0.78947368, 0.82008368,\n",
      "       0.82008368, 0.80686695, 0.80686695, 0.82352941, 0.82352941,\n",
      "       0.80172414, 0.80519481, 0.83127572, 0.83127572, 0.81196581,\n",
      "       0.81196581]), 'split8_test_F1': array([0.82170543, 0.81712062, 0.83464567, 0.83464567, 0.83206107,\n",
      "       0.82758621, 0.83268482, 0.83268482, 0.82575758, 0.82575758,\n",
      "       0.8372093 , 0.83268482, 0.81481481, 0.81481481, 0.78367347,\n",
      "       0.78861789, 0.816     , 0.81451613, 0.79681275, 0.79681275,\n",
      "       0.80952381, 0.80478088, 0.8       , 0.79681275, 0.80952381,\n",
      "       0.80952381, 0.81481481, 0.80991736, 0.81568627, 0.81102362,\n",
      "       0.80645161, 0.80645161, 0.82352941, 0.81889764, 0.82539683,\n",
      "       0.82071713]), 'split9_test_F1': array([0.87346939, 0.87346939, 0.83265306, 0.83265306, 0.86178862,\n",
      "       0.86178862, 0.84897959, 0.8442623 , 0.864     , 0.872     ,\n",
      "       0.86530612, 0.86530612, 0.85470085, 0.85470085, 0.83478261,\n",
      "       0.83478261, 0.85344828, 0.85344828, 0.83261803, 0.83760684,\n",
      "       0.84848485, 0.84848485, 0.84978541, 0.84978541, 0.84978541,\n",
      "       0.84978541, 0.84615385, 0.84615385, 0.84255319, 0.84255319,\n",
      "       0.84615385, 0.84615385, 0.84120172, 0.84120172, 0.84745763,\n",
      "       0.84745763]), 'mean_test_F1': array([0.83408446, 0.83441047, 0.82653435, 0.82520587, 0.83833015,\n",
      "       0.8366404 , 0.83403559, 0.82991087, 0.84132622, 0.84191684,\n",
      "       0.83629984, 0.83650186, 0.83174665, 0.83158018, 0.81389348,\n",
      "       0.81437514, 0.83349455, 0.83297856, 0.81186309, 0.813334  ,\n",
      "       0.83695315, 0.83758138, 0.81693986, 0.81564359, 0.83674817,\n",
      "       0.83510657, 0.82280281, 0.82062117, 0.83462908, 0.83386184,\n",
      "       0.81884576, 0.82109378, 0.83602401, 0.83462349, 0.82889671,\n",
      "       0.82888253]), 'std_test_F1': array([0.02272421, 0.02283501, 0.01825032, 0.01752147, 0.01573154,\n",
      "       0.0159954 , 0.01849312, 0.01849352, 0.02132277, 0.02175123,\n",
      "       0.01726542, 0.01732917, 0.0145295 , 0.01461698, 0.02038574,\n",
      "       0.02044794, 0.01788107, 0.01668919, 0.0169657 , 0.01604824,\n",
      "       0.02165992, 0.02152316, 0.01985653, 0.02020229, 0.02051088,\n",
      "       0.01987137, 0.01508032, 0.01588736, 0.01624162, 0.01652042,\n",
      "       0.0141908 , 0.0155077 , 0.01712947, 0.01788786, 0.01471725,\n",
      "       0.01462046]), 'rank_test_F1': array([15, 14, 25, 26,  3,  7, 16, 22,  2,  1,  9,  8, 20, 21, 34, 33, 18,\n",
      "       19, 36, 35,  5,  4, 31, 32,  6, 11, 27, 29, 12, 17, 30, 28, 10, 13,\n",
      "       23, 24], dtype=int32), 'split0_train_F1': array([1., 1., 1., 1., 1., 1., 1., 1., 1., 1., 1., 1., 1., 1., 1., 1., 1.,\n",
      "       1., 1., 1., 1., 1., 1., 1., 1., 1., 1., 1., 1., 1., 1., 1., 1., 1.,\n",
      "       1., 1.]), 'split1_train_F1': array([1., 1., 1., 1., 1., 1., 1., 1., 1., 1., 1., 1., 1., 1., 1., 1., 1.,\n",
      "       1., 1., 1., 1., 1., 1., 1., 1., 1., 1., 1., 1., 1., 1., 1., 1., 1.,\n",
      "       1., 1.]), 'split2_train_F1': array([1., 1., 1., 1., 1., 1., 1., 1., 1., 1., 1., 1., 1., 1., 1., 1., 1.,\n",
      "       1., 1., 1., 1., 1., 1., 1., 1., 1., 1., 1., 1., 1., 1., 1., 1., 1.,\n",
      "       1., 1.]), 'split3_train_F1': array([1., 1., 1., 1., 1., 1., 1., 1., 1., 1., 1., 1., 1., 1., 1., 1., 1.,\n",
      "       1., 1., 1., 1., 1., 1., 1., 1., 1., 1., 1., 1., 1., 1., 1., 1., 1.,\n",
      "       1., 1.]), 'split4_train_F1': array([1., 1., 1., 1., 1., 1., 1., 1., 1., 1., 1., 1., 1., 1., 1., 1., 1.,\n",
      "       1., 1., 1., 1., 1., 1., 1., 1., 1., 1., 1., 1., 1., 1., 1., 1., 1.,\n",
      "       1., 1.]), 'split5_train_F1': array([1.        , 1.        , 0.99887006, 0.99887006, 1.        ,\n",
      "       1.        , 1.        , 1.        , 1.        , 1.        ,\n",
      "       1.        , 1.        , 0.99887006, 0.99887006, 0.99887006,\n",
      "       0.99887006, 1.        , 1.        , 1.        , 1.        ,\n",
      "       1.        , 1.        , 1.        , 1.        , 0.99887006,\n",
      "       0.99887006, 0.99887006, 0.99887006, 1.        , 1.        ,\n",
      "       1.        , 1.        , 1.        , 1.        , 1.        ,\n",
      "       1.        ]), 'split6_train_F1': array([1.       , 1.       , 0.9988726, 0.9988726, 1.       , 1.       ,\n",
      "       1.       , 1.       , 1.       , 1.       , 1.       , 1.       ,\n",
      "       0.9988726, 0.9988726, 1.       , 1.       , 1.       , 1.       ,\n",
      "       1.       , 1.       , 1.       , 1.       , 1.       , 1.       ,\n",
      "       0.9988726, 0.9988726, 1.       , 1.       , 1.       , 1.       ,\n",
      "       1.       , 1.       , 1.       , 1.       , 1.       , 1.       ]), 'split7_train_F1': array([1.        , 1.        , 1.        , 1.        , 1.        ,\n",
      "       1.        , 1.        , 1.        , 1.        , 1.        ,\n",
      "       1.        , 1.        , 1.        , 1.        , 0.99890949,\n",
      "       0.99890949, 1.        , 1.        , 1.        , 1.        ,\n",
      "       1.        , 1.        , 1.        , 1.        , 1.        ,\n",
      "       1.        , 0.99890949, 0.99890949, 1.        , 1.        ,\n",
      "       1.        , 1.        , 1.        , 1.        , 1.        ,\n",
      "       1.        ]), 'split8_train_F1': array([1., 1., 1., 1., 1., 1., 1., 1., 1., 1., 1., 1., 1., 1., 1., 1., 1.,\n",
      "       1., 1., 1., 1., 1., 1., 1., 1., 1., 1., 1., 1., 1., 1., 1., 1., 1.,\n",
      "       1., 1.]), 'split9_train_F1': array([1., 1., 1., 1., 1., 1., 1., 1., 1., 1., 1., 1., 1., 1., 1., 1., 1.,\n",
      "       1., 1., 1., 1., 1., 1., 1., 1., 1., 1., 1., 1., 1., 1., 1., 1., 1.,\n",
      "       1., 1.]), 'mean_train_F1': array([1.        , 1.        , 0.99977427, 0.99977427, 1.        ,\n",
      "       1.        , 1.        , 1.        , 1.        , 1.        ,\n",
      "       1.        , 1.        , 0.99977427, 0.99977427, 0.99977795,\n",
      "       0.99977795, 1.        , 1.        , 1.        , 1.        ,\n",
      "       1.        , 1.        , 1.        , 1.        , 0.99977427,\n",
      "       0.99977427, 0.99977795, 0.99977795, 1.        , 1.        ,\n",
      "       1.        , 1.        , 1.        , 1.        , 1.        ,\n",
      "       1.        ]), 'std_train_F1': array([0.        , 0.        , 0.00045147, 0.00045147, 0.        ,\n",
      "       0.        , 0.        , 0.        , 0.        , 0.        ,\n",
      "       0.        , 0.        , 0.00045147, 0.00045147, 0.00044418,\n",
      "       0.00044418, 0.        , 0.        , 0.        , 0.        ,\n",
      "       0.        , 0.        , 0.        , 0.        , 0.00045147,\n",
      "       0.00045147, 0.00044418, 0.00044418, 0.        , 0.        ,\n",
      "       0.        , 0.        , 0.        , 0.        , 0.        ,\n",
      "       0.        ]), 'split0_test_Pos. Pred. Val': array([0.76258993, 0.76428571, 0.76153846, 0.76153846, 0.76258993,\n",
      "       0.76258993, 0.78195489, 0.77443609, 0.76428571, 0.76595745,\n",
      "       0.75912409, 0.76470588, 0.81300813, 0.81300813, 0.82352941,\n",
      "       0.82352941, 0.80487805, 0.7983871 , 0.81666667, 0.80991736,\n",
      "       0.80952381, 0.80952381, 0.7983871 , 0.80487805, 0.78030303,\n",
      "       0.78030303, 0.77952756, 0.77777778, 0.78740157, 0.79069767,\n",
      "       0.7734375 , 0.7734375 , 0.78740157, 0.79365079, 0.78625954,\n",
      "       0.78625954]), 'split1_test_Pos. Pred. Val': array([0.75182482, 0.75182482, 0.78740157, 0.79365079, 0.75735294,\n",
      "       0.75555556, 0.76515152, 0.77099237, 0.76428571, 0.76428571,\n",
      "       0.76923077, 0.76923077, 0.78030303, 0.77443609, 0.79338843,\n",
      "       0.78861789, 0.77272727, 0.77272727, 0.78813559, 0.78813559,\n",
      "       0.7761194 , 0.77777778, 0.78512397, 0.78512397, 0.79545455,\n",
      "       0.78358209, 0.776     , 0.76984127, 0.77443609, 0.77443609,\n",
      "       0.75968992, 0.76335878, 0.78461538, 0.7751938 , 0.77777778,\n",
      "       0.77777778]), 'split2_test_Pos. Pred. Val': array([0.70921986, 0.71428571, 0.71631206, 0.71631206, 0.72413793,\n",
      "       0.72413793, 0.72535211, 0.72340426, 0.7260274 , 0.7260274 ,\n",
      "       0.72413793, 0.72413793, 0.75      , 0.75      , 0.752     ,\n",
      "       0.75806452, 0.75193798, 0.75193798, 0.7421875 , 0.7421875 ,\n",
      "       0.73880597, 0.73880597, 0.734375  , 0.73228346, 0.72180451,\n",
      "       0.72180451, 0.77165354, 0.77165354, 0.74074074, 0.73880597,\n",
      "       0.73484848, 0.73282443, 0.75373134, 0.75373134, 0.72794118,\n",
      "       0.72794118]), 'split3_test_Pos. Pred. Val': array([0.74242424, 0.74242424, 0.73529412, 0.73333333, 0.73722628,\n",
      "       0.73722628, 0.72463768, 0.71851852, 0.71830986, 0.71830986,\n",
      "       0.72661871, 0.72661871, 0.74615385, 0.75      , 0.74796748,\n",
      "       0.74796748, 0.7480916 , 0.74615385, 0.736     , 0.736     ,\n",
      "       0.7480916 , 0.7480916 , 0.7480315 , 0.7480315 , 0.765625  ,\n",
      "       0.76377953, 0.73076923, 0.72868217, 0.75      , 0.75      ,\n",
      "       0.73282443, 0.73282443, 0.7443609 , 0.7443609 , 0.73134328,\n",
      "       0.73134328]), 'split4_test_Pos. Pred. Val': array([0.78378378, 0.78378378, 0.79710145, 0.80291971, 0.77181208,\n",
      "       0.76666667, 0.79710145, 0.79136691, 0.77181208, 0.76666667,\n",
      "       0.79285714, 0.79432624, 0.78358209, 0.78947368, 0.78787879,\n",
      "       0.78787879, 0.7810219 , 0.7810219 , 0.76296296, 0.76865672,\n",
      "       0.79710145, 0.79710145, 0.78195489, 0.7761194 , 0.78417266,\n",
      "       0.7826087 , 0.78294574, 0.78294574, 0.79136691, 0.78417266,\n",
      "       0.7761194 , 0.7761194 , 0.79285714, 0.78723404, 0.78985507,\n",
      "       0.78985507]), 'split5_test_Pos. Pred. Val': array([0.76258993, 0.76258993, 0.79699248, 0.796875  , 0.75694444,\n",
      "       0.75524476, 0.78985507, 0.78676471, 0.76190476, 0.76190476,\n",
      "       0.77142857, 0.76978417, 0.77099237, 0.77099237, 0.78151261,\n",
      "       0.77966102, 0.76691729, 0.77037037, 0.7768595 , 0.7804878 ,\n",
      "       0.76515152, 0.76515152, 0.776     , 0.776     , 0.7810219 ,\n",
      "       0.7810219 , 0.78294574, 0.78294574, 0.76296296, 0.76296296,\n",
      "       0.77443609, 0.7761194 , 0.75373134, 0.75373134, 0.77443609,\n",
      "       0.77777778]), 'split6_test_Pos. Pred. Val': array([0.77697842, 0.77697842, 0.79032258, 0.78861789, 0.78417266,\n",
      "       0.78417266, 0.79230769, 0.79230769, 0.80291971, 0.79710145,\n",
      "       0.79545455, 0.79545455, 0.81102362, 0.81102362, 0.8       ,\n",
      "       0.8       , 0.82442748, 0.82307692, 0.8       , 0.8       ,\n",
      "       0.83076923, 0.82442748, 0.82644628, 0.825     , 0.828125  ,\n",
      "       0.828125  , 0.82113821, 0.81451613, 0.828125  , 0.828125  ,\n",
      "       0.808     , 0.81102362, 0.81679389, 0.82307692, 0.80314961,\n",
      "       0.8015873 ]), 'split7_test_Pos. Pred. Val': array([0.69503546, 0.69503546, 0.68345324, 0.68571429, 0.69230769,\n",
      "       0.69230769, 0.68571429, 0.68571429, 0.67346939, 0.67346939,\n",
      "       0.69014085, 0.69503546, 0.72180451, 0.72180451, 0.71653543,\n",
      "       0.71653543, 0.71851852, 0.71851852, 0.73015873, 0.73015873,\n",
      "       0.7238806 , 0.72794118, 0.70866142, 0.70866142, 0.71014493,\n",
      "       0.71014493, 0.71212121, 0.71212121, 0.71532847, 0.71532847,\n",
      "       0.70992366, 0.71538462, 0.71126761, 0.71126761, 0.71428571,\n",
      "       0.71428571]), 'split8_test_Pos. Pred. Val': array([0.7260274 , 0.72413793, 0.74647887, 0.74647887, 0.72666667,\n",
      "       0.72483221, 0.73793103, 0.73793103, 0.71710526, 0.71710526,\n",
      "       0.73972603, 0.73793103, 0.75572519, 0.75572519, 0.72180451,\n",
      "       0.7238806 , 0.73913043, 0.74264706, 0.71942446, 0.71942446,\n",
      "       0.72857143, 0.72661871, 0.72463768, 0.71942446, 0.72857143,\n",
      "       0.72857143, 0.75572519, 0.75384615, 0.72727273, 0.72535211,\n",
      "       0.73529412, 0.73529412, 0.73426573, 0.73239437, 0.74285714,\n",
      "       0.74100719]), 'split9_test_Pos. Pred. Val': array([0.81060606, 0.81060606, 0.77272727, 0.77272727, 0.79699248,\n",
      "       0.79699248, 0.78787879, 0.78625954, 0.78832117, 0.79562044,\n",
      "       0.8030303 , 0.8030303 , 0.82644628, 0.82644628, 0.82051282,\n",
      "       0.82051282, 0.83193277, 0.83193277, 0.80833333, 0.80991736,\n",
      "       0.83050847, 0.83050847, 0.825     , 0.825     , 0.825     ,\n",
      "       0.825     , 0.81818182, 0.81818182, 0.81147541, 0.81147541,\n",
      "       0.81818182, 0.81818182, 0.81666667, 0.81666667, 0.81300813,\n",
      "       0.81300813]), 'mean_test_Pos. Pred. Val': array([0.75210799, 0.75259521, 0.75876221, 0.75981677, 0.75102031,\n",
      "       0.74997262, 0.75878845, 0.75676954, 0.74884411, 0.74864484,\n",
      "       0.75717489, 0.7580255 , 0.77590391, 0.77629099, 0.77451295,\n",
      "       0.77466479, 0.77395833, 0.77367737, 0.76807288, 0.76848855,\n",
      "       0.77485235, 0.7745948 , 0.77086178, 0.77005223, 0.7720223 ,\n",
      "       0.77049411, 0.77310082, 0.77125115, 0.76891099, 0.76813563,\n",
      "       0.76227554, 0.76345681, 0.76956916, 0.76913078, 0.76609135,\n",
      "       0.7660843 ]), 'std_test_Pos. Pred. Val': array([0.03336822, 0.03296011, 0.03622919, 0.0369299 , 0.02967672,\n",
      "       0.0294356 , 0.03610971, 0.03567047, 0.03714734, 0.03698321,\n",
      "       0.03466516, 0.03399831, 0.03187018, 0.03170097, 0.03619832,\n",
      "       0.03531614, 0.03522176, 0.03427227, 0.03318178, 0.03252598,\n",
      "       0.03843523, 0.03727875, 0.03871583, 0.03974178, 0.03883292,\n",
      "       0.0382526 , 0.03224581, 0.03162913, 0.03462098, 0.03481078,\n",
      "       0.03282586, 0.03264735, 0.03364164, 0.03452696, 0.03261701,\n",
      "       0.03268282]), 'rank_test_Pos. Pred. Val': array([32, 31, 27, 25, 33, 34, 26, 30, 35, 36, 29, 28,  2,  1,  6,  4,  7,\n",
      "        8, 20, 18,  3,  5, 12, 14, 10, 13,  9, 11, 17, 19, 24, 23, 15, 16,\n",
      "       21, 22], dtype=int32), 'split0_train_Pos. Pred. Val': array([1., 1., 1., 1., 1., 1., 1., 1., 1., 1., 1., 1., 1., 1., 1., 1., 1.,\n",
      "       1., 1., 1., 1., 1., 1., 1., 1., 1., 1., 1., 1., 1., 1., 1., 1., 1.,\n",
      "       1., 1.]), 'split1_train_Pos. Pred. Val': array([1., 1., 1., 1., 1., 1., 1., 1., 1., 1., 1., 1., 1., 1., 1., 1., 1.,\n",
      "       1., 1., 1., 1., 1., 1., 1., 1., 1., 1., 1., 1., 1., 1., 1., 1., 1.,\n",
      "       1., 1.]), 'split2_train_Pos. Pred. Val': array([1., 1., 1., 1., 1., 1., 1., 1., 1., 1., 1., 1., 1., 1., 1., 1., 1.,\n",
      "       1., 1., 1., 1., 1., 1., 1., 1., 1., 1., 1., 1., 1., 1., 1., 1., 1.,\n",
      "       1., 1.]), 'split3_train_Pos. Pred. Val': array([1., 1., 1., 1., 1., 1., 1., 1., 1., 1., 1., 1., 1., 1., 1., 1., 1.,\n",
      "       1., 1., 1., 1., 1., 1., 1., 1., 1., 1., 1., 1., 1., 1., 1., 1., 1.,\n",
      "       1., 1.]), 'split4_train_Pos. Pred. Val': array([1., 1., 1., 1., 1., 1., 1., 1., 1., 1., 1., 1., 1., 1., 1., 1., 1.,\n",
      "       1., 1., 1., 1., 1., 1., 1., 1., 1., 1., 1., 1., 1., 1., 1., 1., 1.,\n",
      "       1., 1.]), 'split5_train_Pos. Pred. Val': array([1.        , 1.        , 0.99774266, 0.99774266, 1.        ,\n",
      "       1.        , 1.        , 1.        , 1.        , 1.        ,\n",
      "       1.        , 1.        , 0.99774266, 0.99774266, 0.99774266,\n",
      "       0.99774266, 1.        , 1.        , 1.        , 1.        ,\n",
      "       1.        , 1.        , 1.        , 1.        , 0.99774266,\n",
      "       0.99774266, 0.99774266, 0.99774266, 1.        , 1.        ,\n",
      "       1.        , 1.        , 1.        , 1.        , 1.        ,\n",
      "       1.        ]), 'split6_train_Pos. Pred. Val': array([1.        , 1.        , 0.99774775, 0.99774775, 1.        ,\n",
      "       1.        , 1.        , 1.        , 1.        , 1.        ,\n",
      "       1.        , 1.        , 0.99774775, 0.99774775, 1.        ,\n",
      "       1.        , 1.        , 1.        , 1.        , 1.        ,\n",
      "       1.        , 1.        , 1.        , 1.        , 0.99774775,\n",
      "       0.99774775, 1.        , 1.        , 1.        , 1.        ,\n",
      "       1.        , 1.        , 1.        , 1.        , 1.        ,\n",
      "       1.        ]), 'split7_train_Pos. Pred. Val': array([1.        , 1.        , 1.        , 1.        , 1.        ,\n",
      "       1.        , 1.        , 1.        , 1.        , 1.        ,\n",
      "       1.        , 1.        , 1.        , 1.        , 0.99782135,\n",
      "       0.99782135, 1.        , 1.        , 1.        , 1.        ,\n",
      "       1.        , 1.        , 1.        , 1.        , 1.        ,\n",
      "       1.        , 0.99782135, 0.99782135, 1.        , 1.        ,\n",
      "       1.        , 1.        , 1.        , 1.        , 1.        ,\n",
      "       1.        ]), 'split8_train_Pos. Pred. Val': array([1., 1., 1., 1., 1., 1., 1., 1., 1., 1., 1., 1., 1., 1., 1., 1., 1.,\n",
      "       1., 1., 1., 1., 1., 1., 1., 1., 1., 1., 1., 1., 1., 1., 1., 1., 1.,\n",
      "       1., 1.]), 'split9_train_Pos. Pred. Val': array([1., 1., 1., 1., 1., 1., 1., 1., 1., 1., 1., 1., 1., 1., 1., 1., 1.,\n",
      "       1., 1., 1., 1., 1., 1., 1., 1., 1., 1., 1., 1., 1., 1., 1., 1., 1.,\n",
      "       1., 1.]), 'mean_train_Pos. Pred. Val': array([1.        , 1.        , 0.99954904, 0.99954904, 1.        ,\n",
      "       1.        , 1.        , 1.        , 1.        , 1.        ,\n",
      "       1.        , 1.        , 0.99954904, 0.99954904, 0.9995564 ,\n",
      "       0.9995564 , 1.        , 1.        , 1.        , 1.        ,\n",
      "       1.        , 1.        , 1.        , 1.        , 0.99954904,\n",
      "       0.99954904, 0.9995564 , 0.9995564 , 1.        , 1.        ,\n",
      "       1.        , 1.        , 1.        , 1.        , 1.        ,\n",
      "       1.        ]), 'std_train_Pos. Pred. Val': array([0.        , 0.        , 0.00090192, 0.00090192, 0.        ,\n",
      "       0.        , 0.        , 0.        , 0.        , 0.        ,\n",
      "       0.        , 0.        , 0.00090192, 0.00090192, 0.00088737,\n",
      "       0.00088737, 0.        , 0.        , 0.        , 0.        ,\n",
      "       0.        , 0.        , 0.        , 0.        , 0.00090192,\n",
      "       0.00090192, 0.00088737, 0.00088737, 0.        , 0.        ,\n",
      "       0.        , 0.        , 0.        , 0.        , 0.        ,\n",
      "       0.        ]), 'split0_test_True Pos. Rate': array([0.9380531 , 0.94690265, 0.87610619, 0.87610619, 0.9380531 ,\n",
      "       0.9380531 , 0.92035398, 0.91150442, 0.94690265, 0.95575221,\n",
      "       0.92035398, 0.92035398, 0.88495575, 0.88495575, 0.86725664,\n",
      "       0.86725664, 0.87610619, 0.87610619, 0.86725664, 0.86725664,\n",
      "       0.90265487, 0.90265487, 0.87610619, 0.87610619, 0.91150442,\n",
      "       0.91150442, 0.87610619, 0.86725664, 0.88495575, 0.90265487,\n",
      "       0.87610619, 0.87610619, 0.88495575, 0.88495575, 0.91150442,\n",
      "       0.91150442]), 'split1_test_True Pos. Rate': array([0.91150442, 0.91150442, 0.88495575, 0.88495575, 0.91150442,\n",
      "       0.90265487, 0.89380531, 0.89380531, 0.94690265, 0.94690265,\n",
      "       0.88495575, 0.88495575, 0.91150442, 0.91150442, 0.84955752,\n",
      "       0.85840708, 0.90265487, 0.90265487, 0.82300885, 0.82300885,\n",
      "       0.92035398, 0.92920354, 0.84070796, 0.84070796, 0.92920354,\n",
      "       0.92920354, 0.85840708, 0.85840708, 0.91150442, 0.91150442,\n",
      "       0.86725664, 0.88495575, 0.90265487, 0.88495575, 0.86725664,\n",
      "       0.86725664]), 'split2_test_True Pos. Rate': array([0.93457944, 0.93457944, 0.94392523, 0.94392523, 0.98130841,\n",
      "       0.98130841, 0.96261682, 0.95327103, 0.99065421, 0.99065421,\n",
      "       0.98130841, 0.98130841, 0.92523364, 0.92523364, 0.87850467,\n",
      "       0.87850467, 0.90654206, 0.90654206, 0.88785047, 0.88785047,\n",
      "       0.92523364, 0.92523364, 0.87850467, 0.86915888, 0.89719626,\n",
      "       0.89719626, 0.91588785, 0.91588785, 0.93457944, 0.92523364,\n",
      "       0.90654206, 0.89719626, 0.94392523, 0.94392523, 0.92523364,\n",
      "       0.92523364]), 'split3_test_True Pos. Rate': array([0.90740741, 0.90740741, 0.92592593, 0.91666667, 0.93518519,\n",
      "       0.93518519, 0.92592593, 0.89814815, 0.94444444, 0.94444444,\n",
      "       0.93518519, 0.93518519, 0.89814815, 0.88888889, 0.85185185,\n",
      "       0.85185185, 0.90740741, 0.89814815, 0.85185185, 0.85185185,\n",
      "       0.90740741, 0.90740741, 0.87962963, 0.87962963, 0.90740741,\n",
      "       0.89814815, 0.87962963, 0.87037037, 0.91666667, 0.91666667,\n",
      "       0.88888889, 0.88888889, 0.91666667, 0.91666667, 0.90740741,\n",
      "       0.90740741]), 'split4_test_True Pos. Rate': array([0.98305085, 0.98305085, 0.93220339, 0.93220339, 0.97457627,\n",
      "       0.97457627, 0.93220339, 0.93220339, 0.97457627, 0.97457627,\n",
      "       0.94067797, 0.94915254, 0.88983051, 0.88983051, 0.88135593,\n",
      "       0.88135593, 0.90677966, 0.90677966, 0.87288136, 0.87288136,\n",
      "       0.93220339, 0.93220339, 0.88135593, 0.88135593, 0.92372881,\n",
      "       0.91525424, 0.8559322 , 0.8559322 , 0.93220339, 0.92372881,\n",
      "       0.88135593, 0.88135593, 0.94067797, 0.94067797, 0.92372881,\n",
      "       0.92372881]), 'split5_test_True Pos. Rate': array([0.90598291, 0.90598291, 0.90598291, 0.87179487, 0.93162393,\n",
      "       0.92307692, 0.93162393, 0.91452991, 0.95726496, 0.95726496,\n",
      "       0.92307692, 0.91452991, 0.86324786, 0.86324786, 0.79487179,\n",
      "       0.78632479, 0.87179487, 0.88888889, 0.8034188 , 0.82051282,\n",
      "       0.86324786, 0.86324786, 0.82905983, 0.82905983, 0.91452991,\n",
      "       0.91452991, 0.86324786, 0.86324786, 0.88034188, 0.88034188,\n",
      "       0.88034188, 0.88888889, 0.86324786, 0.86324786, 0.88034188,\n",
      "       0.8974359 ]), 'split6_test_True Pos. Rate': array([0.93103448, 0.93103448, 0.84482759, 0.8362069 , 0.93965517,\n",
      "       0.93965517, 0.88793103, 0.88793103, 0.94827586, 0.94827586,\n",
      "       0.90517241, 0.90517241, 0.88793103, 0.88793103, 0.86206897,\n",
      "       0.86206897, 0.93103448, 0.92241379, 0.86206897, 0.86206897,\n",
      "       0.93103448, 0.93103448, 0.86206897, 0.85344828, 0.9137931 ,\n",
      "       0.9137931 , 0.87068966, 0.87068966, 0.9137931 , 0.9137931 ,\n",
      "       0.87068966, 0.88793103, 0.92241379, 0.92241379, 0.87931034,\n",
      "       0.87068966]), 'split7_test_True Pos. Rate': array([0.97029703, 0.97029703, 0.94059406, 0.95049505, 0.98019802,\n",
      "       0.98019802, 0.95049505, 0.95049505, 0.98019802, 0.98019802,\n",
      "       0.97029703, 0.97029703, 0.95049505, 0.95049505, 0.9009901 ,\n",
      "       0.9009901 , 0.96039604, 0.96039604, 0.91089109, 0.91089109,\n",
      "       0.96039604, 0.98019802, 0.89108911, 0.89108911, 0.97029703,\n",
      "       0.97029703, 0.93069307, 0.93069307, 0.97029703, 0.97029703,\n",
      "       0.92079208, 0.92079208, 1.        , 1.        , 0.94059406,\n",
      "       0.94059406]), 'split8_test_True Pos. Rate': array([0.94642857, 0.9375    , 0.94642857, 0.94642857, 0.97321429,\n",
      "       0.96428571, 0.95535714, 0.95535714, 0.97321429, 0.97321429,\n",
      "       0.96428571, 0.95535714, 0.88392857, 0.88392857, 0.85714286,\n",
      "       0.86607143, 0.91071429, 0.90178571, 0.89285714, 0.89285714,\n",
      "       0.91071429, 0.90178571, 0.89285714, 0.89285714, 0.91071429,\n",
      "       0.91071429, 0.88392857, 0.875     , 0.92857143, 0.91964286,\n",
      "       0.89285714, 0.89285714, 0.9375    , 0.92857143, 0.92857143,\n",
      "       0.91964286]), 'split9_test_True Pos. Rate': array([0.94690265, 0.94690265, 0.90265487, 0.90265487, 0.9380531 ,\n",
      "       0.9380531 , 0.92035398, 0.91150442, 0.95575221, 0.96460177,\n",
      "       0.9380531 , 0.9380531 , 0.88495575, 0.88495575, 0.84955752,\n",
      "       0.84955752, 0.87610619, 0.87610619, 0.85840708, 0.86725664,\n",
      "       0.86725664, 0.86725664, 0.87610619, 0.87610619, 0.87610619,\n",
      "       0.87610619, 0.87610619, 0.87610619, 0.87610619, 0.87610619,\n",
      "       0.87610619, 0.87610619, 0.86725664, 0.86725664, 0.88495575,\n",
      "       0.88495575]), 'mean_test_True Pos. Rate': array([0.93752409, 0.93751618, 0.91036045, 0.90614375, 0.95033719,\n",
      "       0.94770468, 0.92806666, 0.92087499, 0.96181856, 0.96358847,\n",
      "       0.93633665, 0.93543655, 0.89802307, 0.89709715, 0.85931579,\n",
      "       0.8602389 , 0.90495361, 0.90398216, 0.86304922, 0.86564358,\n",
      "       0.91205026, 0.91402256, 0.87074856, 0.86895192, 0.9154481 ,\n",
      "       0.91367471, 0.88106283, 0.87835909, 0.91490193, 0.91399695,\n",
      "       0.88609367, 0.88950784, 0.91792988, 0.91526711, 0.90489044,\n",
      "       0.90484491]), 'std_test_True Pos. Rate': array([0.02438021, 0.02439741, 0.03202003, 0.03638894, 0.02337827,\n",
      "       0.02495174, 0.02319385, 0.0240721 , 0.01565148, 0.01484461,\n",
      "       0.02832403, 0.02835516, 0.0236515 , 0.02380919, 0.02658058,\n",
      "       0.02859708, 0.02562864, 0.02314994, 0.03035414, 0.02719586,\n",
      "       0.02801138, 0.03231584, 0.01981718, 0.02015257, 0.02292008,\n",
      "       0.02321196, 0.02303292, 0.0235349 , 0.02748488, 0.02476478,\n",
      "       0.01588339, 0.01224201, 0.0390025 , 0.03965509, 0.02392701,\n",
      "       0.02313035]), 'rank_test_True Pos. Rate': array([ 5,  6, 19, 20,  3,  4,  9, 10,  2,  1,  7,  8, 25, 26, 36, 35, 21,\n",
      "       24, 34, 33, 18, 15, 31, 32, 12, 17, 29, 30, 14, 16, 28, 27, 11, 13,\n",
      "       22, 23], dtype=int32), 'split0_train_True Pos. Rate': array([1., 1., 1., 1., 1., 1., 1., 1., 1., 1., 1., 1., 1., 1., 1., 1., 1.,\n",
      "       1., 1., 1., 1., 1., 1., 1., 1., 1., 1., 1., 1., 1., 1., 1., 1., 1.,\n",
      "       1., 1.]), 'split1_train_True Pos. Rate': array([1., 1., 1., 1., 1., 1., 1., 1., 1., 1., 1., 1., 1., 1., 1., 1., 1.,\n",
      "       1., 1., 1., 1., 1., 1., 1., 1., 1., 1., 1., 1., 1., 1., 1., 1., 1.,\n",
      "       1., 1.]), 'split2_train_True Pos. Rate': array([1., 1., 1., 1., 1., 1., 1., 1., 1., 1., 1., 1., 1., 1., 1., 1., 1.,\n",
      "       1., 1., 1., 1., 1., 1., 1., 1., 1., 1., 1., 1., 1., 1., 1., 1., 1.,\n",
      "       1., 1.]), 'split3_train_True Pos. Rate': array([1., 1., 1., 1., 1., 1., 1., 1., 1., 1., 1., 1., 1., 1., 1., 1., 1.,\n",
      "       1., 1., 1., 1., 1., 1., 1., 1., 1., 1., 1., 1., 1., 1., 1., 1., 1.,\n",
      "       1., 1.]), 'split4_train_True Pos. Rate': array([1., 1., 1., 1., 1., 1., 1., 1., 1., 1., 1., 1., 1., 1., 1., 1., 1.,\n",
      "       1., 1., 1., 1., 1., 1., 1., 1., 1., 1., 1., 1., 1., 1., 1., 1., 1.,\n",
      "       1., 1.]), 'split5_train_True Pos. Rate': array([1., 1., 1., 1., 1., 1., 1., 1., 1., 1., 1., 1., 1., 1., 1., 1., 1.,\n",
      "       1., 1., 1., 1., 1., 1., 1., 1., 1., 1., 1., 1., 1., 1., 1., 1., 1.,\n",
      "       1., 1.]), 'split6_train_True Pos. Rate': array([1., 1., 1., 1., 1., 1., 1., 1., 1., 1., 1., 1., 1., 1., 1., 1., 1.,\n",
      "       1., 1., 1., 1., 1., 1., 1., 1., 1., 1., 1., 1., 1., 1., 1., 1., 1.,\n",
      "       1., 1.]), 'split7_train_True Pos. Rate': array([1., 1., 1., 1., 1., 1., 1., 1., 1., 1., 1., 1., 1., 1., 1., 1., 1.,\n",
      "       1., 1., 1., 1., 1., 1., 1., 1., 1., 1., 1., 1., 1., 1., 1., 1., 1.,\n",
      "       1., 1.]), 'split8_train_True Pos. Rate': array([1., 1., 1., 1., 1., 1., 1., 1., 1., 1., 1., 1., 1., 1., 1., 1., 1.,\n",
      "       1., 1., 1., 1., 1., 1., 1., 1., 1., 1., 1., 1., 1., 1., 1., 1., 1.,\n",
      "       1., 1.]), 'split9_train_True Pos. Rate': array([1., 1., 1., 1., 1., 1., 1., 1., 1., 1., 1., 1., 1., 1., 1., 1., 1.,\n",
      "       1., 1., 1., 1., 1., 1., 1., 1., 1., 1., 1., 1., 1., 1., 1., 1., 1.,\n",
      "       1., 1.]), 'mean_train_True Pos. Rate': array([1., 1., 1., 1., 1., 1., 1., 1., 1., 1., 1., 1., 1., 1., 1., 1., 1.,\n",
      "       1., 1., 1., 1., 1., 1., 1., 1., 1., 1., 1., 1., 1., 1., 1., 1., 1.,\n",
      "       1., 1.]), 'std_train_True Pos. Rate': array([0., 0., 0., 0., 0., 0., 0., 0., 0., 0., 0., 0., 0., 0., 0., 0., 0.,\n",
      "       0., 0., 0., 0., 0., 0., 0., 0., 0., 0., 0., 0., 0., 0., 0., 0., 0.,\n",
      "       0., 0.])}\n"
     ]
    }
   ],
   "source": [
    "print(grid_search.cv_results_)"
   ],
   "metadata": {
    "collapsed": false,
    "pycharm": {
     "name": "#%%\n"
    }
   }
  },
  {
   "cell_type": "code",
   "execution_count": 62,
   "outputs": [
    {
     "data": {
      "text/plain": "RepeatedKFold(n_repeats=2, n_splits=5, random_state=2)"
     },
     "execution_count": 62,
     "metadata": {},
     "output_type": "execute_result"
    }
   ],
   "source": [
    "grid_search.cv"
   ],
   "metadata": {
    "collapsed": false,
    "pycharm": {
     "name": "#%%\n"
    }
   }
  },
  {
   "cell_type": "markdown",
   "source": [
    "## Results"
   ],
   "metadata": {
    "collapsed": false,
    "pycharm": {
     "name": "#%% md\n"
    }
   }
  },
  {
   "cell_type": "code",
   "execution_count": 63,
   "outputs": [
    {
     "name": "stdout",
     "output_type": "stream",
     "text": [
      "2\n",
      "5\n"
     ]
    }
   ],
   "source": [
    "print(grid_search.cv.n_repeats)\n",
    "print(grid_search.cv.cvargs['n_splits'])"
   ],
   "metadata": {
    "collapsed": false,
    "pycharm": {
     "name": "#%%\n"
    }
   }
  },
  {
   "cell_type": "code",
   "execution_count": 64,
   "outputs": [
    {
     "name": "stdout",
     "output_type": "stream",
     "text": [
      "0.771524602897316\n",
      "{'model__max_features': 2, 'model__n_estimators': 500, 'prep__non_numeric__encoder__transformer': OneHotEncoder(), 'prep__numeric__impute__transformer': SimpleImputer(), 'prep__numeric__scaling__transformer': MinMaxScaler()}\n"
     ]
    }
   ],
   "source": [
    "print(grid_search.best_score_)\n",
    "print(grid_search.best_params_)"
   ],
   "metadata": {
    "collapsed": false,
    "pycharm": {
     "name": "#%%\n"
    }
   }
  },
  {
   "cell_type": "code",
   "execution_count": 65,
   "outputs": [
    {
     "data": {
      "text/plain": "{'model | max_features': 'max_features',\n 'model | n_estimators': 'n_estimators',\n 'prep | non_numeric | encoder | transformer': 'encoder',\n 'prep | numeric | impute | transformer': 'imputer',\n 'prep | numeric | scaling | transformer': 'scaler'}"
     },
     "execution_count": 65,
     "metadata": {},
     "output_type": "execute_result"
    }
   ],
   "source": [
    "new_param_column_names"
   ],
   "metadata": {
    "collapsed": false,
    "pycharm": {
     "name": "#%%\n"
    }
   }
  },
  {
   "cell_type": "code",
   "execution_count": 66,
   "outputs": [],
   "source": [
    "grid_search_parsed = hlp.sklearn_eval.SearchCVParser(searcher=grid_search,\n",
    "                                                     higher_score_is_better = True,\n",
    "                                                     new_param_column_names=new_param_column_names)"
   ],
   "metadata": {
    "collapsed": false,
    "pycharm": {
     "name": "#%%\n"
    }
   }
  },
  {
   "cell_type": "code",
   "execution_count": 1,
   "outputs": [
    {
     "ename": "NameError",
     "evalue": "name 'grid_search_parsed' is not defined",
     "output_type": "error",
     "traceback": [
      "\u001B[0;31m---------------------------------------------------------------------------\u001B[0m",
      "\u001B[0;31mNameError\u001B[0m                                 Traceback (most recent call last)",
      "\u001B[0;32m/var/folders/7x/wc3jx_91337bggbzk01kpvs40000gn/T/ipykernel_49212/1127128536.py\u001B[0m in \u001B[0;36m<module>\u001B[0;34m\u001B[0m\n\u001B[0;32m----> 1\u001B[0;31m \u001B[0mgrid_search_parsed\u001B[0m\u001B[0;34m.\u001B[0m\u001B[0mformatted_results\u001B[0m\u001B[0;34m(\u001B[0m\u001B[0;34m)\u001B[0m\u001B[0;34m\u001B[0m\u001B[0;34m\u001B[0m\u001B[0m\n\u001B[0m",
      "\u001B[0;31mNameError\u001B[0m: name 'grid_search_parsed' is not defined"
     ]
    }
   ],
   "source": [
    "grid_search_parsed.formatted_results()"
   ],
   "metadata": {
    "collapsed": false,
    "pycharm": {
     "name": "#%%\n"
    }
   }
  },
  {
   "cell_type": "code",
   "execution_count": 68,
   "outputs": [
    {
     "data": {
      "text/plain": "<Figure size 432x288 with 1 Axes>",
      "image/png": "[encoded data removed]"
     },
     "metadata": {
      "needs_background": "light"
     },
     "output_type": "display_data"
    }
   ],
   "source": [
    "sns.regplot(x=np.arange(0, len(grid_search_parsed.results)), y=grid_search_parsed.results.sort_index()['ROC/AUC Mean'], lowess=True)\n",
    "plt.title(\"Average ROC_AUC over all iterations\")\n",
    "plt.ylabel(\"Average ROC_AUC\")\n",
    "plt.xlabel(\"Iteration\")\n",
    "plt.tight_layout()"
   ],
   "metadata": {
    "collapsed": false,
    "pycharm": {
     "name": "#%%\n"
    }
   }
  },
  {
   "cell_type": "code",
   "execution_count": 69,
   "outputs": [
    {
     "data": {
      "text/plain": "<Figure size 432x288 with 1 Axes>",
      "image/png": "[encoded data removed]"
     },
     "metadata": {
      "needs_background": "light"
     },
     "output_type": "display_data"
    }
   ],
   "source": [
    "grid_search_parsed.results.sort_index()['ROC/AUC Mean'].plot()\n",
    "plt.title(\"Average ROC_AUC over all iterations\")\n",
    "plt.ylabel(\"Average ROC_AUC\")\n",
    "plt.xlabel(\"Iteration\")\n",
    "plt.tight_layout()"
   ],
   "metadata": {
    "collapsed": false,
    "pycharm": {
     "name": "#%%\n"
    }
   }
  },
  {
   "cell_type": "code",
   "execution_count": 69,
   "outputs": [],
   "source": [],
   "metadata": {
    "collapsed": false,
    "pycharm": {
     "name": "#%%\n"
    }
   }
  }
 ],
 "metadata": {
  "kernelspec": {
   "display_name": "Python 3 (ipykernel)",
   "language": "python",
   "name": "python3"
  },
  "language_info": {
   "codemirror_mode": {
    "name": "ipython",
    "version": 3
   },
   "file_extension": ".py",
   "mimetype": "text/x-python",
   "name": "python",
   "nbconvert_exporter": "python",
   "pygments_lexer": "ipython3",
   "version": "3.9.6"
  },
  "toc": {
   "base_numbering": 1,
   "nav_menu": {},
   "number_sections": false,
   "sideBar": true,
   "skip_h1_title": false,
   "title_cell": "Table of Contents",
   "title_sidebar": "Contents",
   "toc_cell": false,
   "toc_position": {
    "height": "calc(100% - 180px)",
    "left": "10px",
    "top": "150px",
    "width": "298px"
   },
   "toc_section_display": true,
   "toc_window_display": true
  }
 },
 "nbformat": 4,
 "nbformat_minor": 5
}