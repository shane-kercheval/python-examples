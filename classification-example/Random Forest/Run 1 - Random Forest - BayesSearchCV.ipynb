{
 "cells": [
  {
   "cell_type": "markdown",
   "id": "f47960fc",
   "metadata": {
    "pycharm": {
     "name": "#%% md\n"
    }
   },
   "source": [
    "This files contains an example of tuning a Random Forest model with BayesSearchCV\n",
    "\n",
    "It saves the BayesSearchCV object to the `cross-validation.pkl`"
   ]
  },
  {
   "cell_type": "code",
   "execution_count": 1,
   "id": "c5f3fe51",
   "metadata": {},
   "outputs": [],
   "source": [
    "import pickle\n",
    "\n",
    "import helpsk as hlp\n",
    "import numpy as np\n",
    "import plotly.express as px\n",
    "from sklearn.impute import SimpleImputer\n",
    "from sklearn.pipeline import Pipeline\n",
    "from sklearn.preprocessing import StandardScaler, MinMaxScaler, OneHotEncoder\n",
    "\n",
    "import plotly.io as pio\n",
    "pio.renderers.default='notebook'"
   ]
  },
  {
   "cell_type": "markdown",
   "id": "8ff88fe0",
   "metadata": {},
   "source": [
    "# Load Data"
   ]
  },
  {
   "cell_type": "code",
   "execution_count": 2,
   "id": "757e287d",
   "metadata": {
    "pycharm": {
     "name": "#%%\n"
    }
   },
   "outputs": [],
   "source": [
    "with open('../X_train.pkl', 'rb') as handle:\n",
    "    X_train = pickle.load(handle)\n",
    "\n",
    "with open('../y_train.pkl', 'rb') as handle:\n",
    "    y_train = pickle.load(handle)"
   ]
  },
  {
   "cell_type": "code",
   "execution_count": 3,
   "id": "172f513d",
   "metadata": {
    "pycharm": {
     "name": "#%%\n"
    }
   },
   "outputs": [
    {
     "data": {
      "text/html": [
       "<style type=\"text/css\">\n",
       "#T_a6a04_row0_col1, #T_a6a04_row1_col3 {\n",
       "  background-color: #EBB13E;\n",
       "}\n",
       "#T_a6a04_row0_col2 {\n",
       "  width: 10em;\n",
       "  height: 80%;\n",
       "  background: linear-gradient(90deg,#CF3721 5.0%, transparent 5.0%);\n",
       "}\n",
       "#T_a6a04_row0_col4, #T_a6a04_row1_col2, #T_a6a04_row2_col2, #T_a6a04_row2_col4, #T_a6a04_row3_col2, #T_a6a04_row3_col4, #T_a6a04_row4_col2, #T_a6a04_row4_col4, #T_a6a04_row5_col2, #T_a6a04_row5_col4, #T_a6a04_row6_col2, #T_a6a04_row6_col4 {\n",
       "  width: 10em;\n",
       "  height: 80%;\n",
       "}\n",
       "#T_a6a04_row0_col7 {\n",
       "  width: 10em;\n",
       "  height: 80%;\n",
       "  background: linear-gradient(90deg,#B4B7B9 56.0%, transparent 56.0%);\n",
       "}\n",
       "#T_a6a04_row0_col8 {\n",
       "  width: 10em;\n",
       "  height: 80%;\n",
       "  background: linear-gradient(90deg, transparent 50.0%, #B4B7B9 50.0%, #B4B7B9 75.2%, transparent 75.2%);\n",
       "}\n",
       "#T_a6a04_row1_col4 {\n",
       "  width: 10em;\n",
       "  height: 80%;\n",
       "  background: linear-gradient(90deg,#B4B7B9 5.0%, transparent 5.0%);\n",
       "}\n",
       "#T_a6a04_row1_col7 {\n",
       "  width: 10em;\n",
       "  height: 80%;\n",
       "  background: linear-gradient(90deg,#B4B7B9 92.0%, transparent 92.0%);\n",
       "}\n",
       "#T_a6a04_row1_col8 {\n",
       "  width: 10em;\n",
       "  height: 80%;\n",
       "  background: linear-gradient(90deg, transparent 50.0%, #B4B7B9 50.0%, #B4B7B9 96.7%, transparent 96.7%);\n",
       "}\n",
       "#T_a6a04_row2_col7 {\n",
       "  width: 10em;\n",
       "  height: 80%;\n",
       "  background: linear-gradient(90deg,#B4B7B9 38.0%, transparent 38.0%);\n",
       "}\n",
       "#T_a6a04_row2_col8 {\n",
       "  width: 10em;\n",
       "  height: 80%;\n",
       "  background: linear-gradient(90deg, transparent 37.0%, #B4B7B9 37.0%, #B4B7B9 50.0%, transparent 50.0%);\n",
       "}\n",
       "#T_a6a04_row3_col7 {\n",
       "  width: 10em;\n",
       "  height: 80%;\n",
       "  background: linear-gradient(90deg,#B4B7B9 39.0%, transparent 39.0%);\n",
       "}\n",
       "#T_a6a04_row3_col8 {\n",
       "  width: 10em;\n",
       "  height: 80%;\n",
       "  background: linear-gradient(90deg, transparent 43.2%, #B4B7B9 43.2%, #B4B7B9 50.0%, transparent 50.0%);\n",
       "}\n",
       "#T_a6a04_row4_col7 {\n",
       "  width: 10em;\n",
       "  height: 80%;\n",
       "  background: linear-gradient(90deg,#B4B7B9 32.0%, transparent 32.0%);\n",
       "}\n",
       "#T_a6a04_row4_col8 {\n",
       "  width: 10em;\n",
       "  height: 80%;\n",
       "  background: linear-gradient(90deg, transparent 50.0%, #B4B7B9 50.0%, #B4B7B9 75.7%, transparent 75.7%);\n",
       "}\n",
       "#T_a6a04_row5_col7 {\n",
       "  width: 10em;\n",
       "  height: 80%;\n",
       "  background: linear-gradient(90deg,#B4B7B9 41.0%, transparent 41.0%);\n",
       "}\n",
       "#T_a6a04_row5_col8 {\n",
       "  width: 10em;\n",
       "  height: 80%;\n",
       "  background: linear-gradient(90deg, transparent 50.0%, #B4B7B9 50.0%, #B4B7B9 81.5%, transparent 81.5%);\n",
       "}\n",
       "#T_a6a04_row6_col7 {\n",
       "  width: 10em;\n",
       "  height: 80%;\n",
       "  background: linear-gradient(90deg,#B4B7B9 31.0%, transparent 31.0%);\n",
       "}\n",
       "#T_a6a04_row6_col8 {\n",
       "  width: 10em;\n",
       "  height: 80%;\n",
       "  background: linear-gradient(90deg, transparent 50.0%, #B4B7B9 50.0%, #B4B7B9 100.0%, transparent 100.0%);\n",
       "}\n",
       "</style>\n",
       "<table id=\"T_a6a04_\">\n",
       "  <thead>\n",
       "    <tr>\n",
       "      <th class=\"blank level0\" >&nbsp;</th>\n",
       "      <th class=\"col_heading level0 col0\" ># of Non-Nulls</th>\n",
       "      <th class=\"col_heading level0 col1\" ># of Nulls</th>\n",
       "      <th class=\"col_heading level0 col2\" >% Nulls</th>\n",
       "      <th class=\"col_heading level0 col3\" ># of Zeros</th>\n",
       "      <th class=\"col_heading level0 col4\" >% Zeros</th>\n",
       "      <th class=\"col_heading level0 col5\" >Mean</th>\n",
       "      <th class=\"col_heading level0 col6\" >St Dev.</th>\n",
       "      <th class=\"col_heading level0 col7\" >Coef of Var</th>\n",
       "      <th class=\"col_heading level0 col8\" >Skewness</th>\n",
       "      <th class=\"col_heading level0 col9\" >Kurtosis</th>\n",
       "      <th class=\"col_heading level0 col10\" >Min</th>\n",
       "      <th class=\"col_heading level0 col11\" >10%</th>\n",
       "      <th class=\"col_heading level0 col12\" >25%</th>\n",
       "      <th class=\"col_heading level0 col13\" >50%</th>\n",
       "      <th class=\"col_heading level0 col14\" >75%</th>\n",
       "      <th class=\"col_heading level0 col15\" >90%</th>\n",
       "      <th class=\"col_heading level0 col16\" >Max</th>\n",
       "    </tr>\n",
       "  </thead>\n",
       "  <tbody>\n",
       "    <tr>\n",
       "      <th id=\"T_a6a04_level0_row0\" class=\"row_heading level0 row0\" >duration</th>\n",
       "      <td id=\"T_a6a04_row0_col0\" class=\"data row0 col0\" >760</td>\n",
       "      <td id=\"T_a6a04_row0_col1\" class=\"data row0 col1\" >40</td>\n",
       "      <td id=\"T_a6a04_row0_col2\" class=\"data row0 col2\" >5.0%</td>\n",
       "      <td id=\"T_a6a04_row0_col3\" class=\"data row0 col3\" >0</td>\n",
       "      <td id=\"T_a6a04_row0_col4\" class=\"data row0 col4\" >0.0%</td>\n",
       "      <td id=\"T_a6a04_row0_col5\" class=\"data row0 col5\" >21.0</td>\n",
       "      <td id=\"T_a6a04_row0_col6\" class=\"data row0 col6\" >11.7</td>\n",
       "      <td id=\"T_a6a04_row0_col7\" class=\"data row0 col7\" >0.6</td>\n",
       "      <td id=\"T_a6a04_row0_col8\" class=\"data row0 col8\" >1.0</td>\n",
       "      <td id=\"T_a6a04_row0_col9\" class=\"data row0 col9\" >0.6</td>\n",
       "      <td id=\"T_a6a04_row0_col10\" class=\"data row0 col10\" >4.0</td>\n",
       "      <td id=\"T_a6a04_row0_col11\" class=\"data row0 col11\" >9.0</td>\n",
       "      <td id=\"T_a6a04_row0_col12\" class=\"data row0 col12\" >12.0</td>\n",
       "      <td id=\"T_a6a04_row0_col13\" class=\"data row0 col13\" >18.0</td>\n",
       "      <td id=\"T_a6a04_row0_col14\" class=\"data row0 col14\" >24.0</td>\n",
       "      <td id=\"T_a6a04_row0_col15\" class=\"data row0 col15\" >36.0</td>\n",
       "      <td id=\"T_a6a04_row0_col16\" class=\"data row0 col16\" >60.0</td>\n",
       "    </tr>\n",
       "    <tr>\n",
       "      <th id=\"T_a6a04_level0_row1\" class=\"row_heading level0 row1\" >credit_amount</th>\n",
       "      <td id=\"T_a6a04_row1_col0\" class=\"data row1 col0\" >800</td>\n",
       "      <td id=\"T_a6a04_row1_col1\" class=\"data row1 col1\" >0</td>\n",
       "      <td id=\"T_a6a04_row1_col2\" class=\"data row1 col2\" >0.0%</td>\n",
       "      <td id=\"T_a6a04_row1_col3\" class=\"data row1 col3\" >38</td>\n",
       "      <td id=\"T_a6a04_row1_col4\" class=\"data row1 col4\" >5.0%</td>\n",
       "      <td id=\"T_a6a04_row1_col5\" class=\"data row1 col5\" >3,203.9</td>\n",
       "      <td id=\"T_a6a04_row1_col6\" class=\"data row1 col6\" >2,932.3</td>\n",
       "      <td id=\"T_a6a04_row1_col7\" class=\"data row1 col7\" >0.9</td>\n",
       "      <td id=\"T_a6a04_row1_col8\" class=\"data row1 col8\" >1.9</td>\n",
       "      <td id=\"T_a6a04_row1_col9\" class=\"data row1 col9\" >3.9</td>\n",
       "      <td id=\"T_a6a04_row1_col10\" class=\"data row1 col10\" >0.0</td>\n",
       "      <td id=\"T_a6a04_row1_col11\" class=\"data row1 col11\" >753.9</td>\n",
       "      <td id=\"T_a6a04_row1_col12\" class=\"data row1 col12\" >1,300.8</td>\n",
       "      <td id=\"T_a6a04_row1_col13\" class=\"data row1 col13\" >2,236.5</td>\n",
       "      <td id=\"T_a6a04_row1_col14\" class=\"data row1 col14\" >3,951.5</td>\n",
       "      <td id=\"T_a6a04_row1_col15\" class=\"data row1 col15\" >7,394.6</td>\n",
       "      <td id=\"T_a6a04_row1_col16\" class=\"data row1 col16\" >18,424.0</td>\n",
       "    </tr>\n",
       "    <tr>\n",
       "      <th id=\"T_a6a04_level0_row2\" class=\"row_heading level0 row2\" >installment_commitment</th>\n",
       "      <td id=\"T_a6a04_row2_col0\" class=\"data row2 col0\" >800</td>\n",
       "      <td id=\"T_a6a04_row2_col1\" class=\"data row2 col1\" >0</td>\n",
       "      <td id=\"T_a6a04_row2_col2\" class=\"data row2 col2\" >0.0%</td>\n",
       "      <td id=\"T_a6a04_row2_col3\" class=\"data row2 col3\" >0</td>\n",
       "      <td id=\"T_a6a04_row2_col4\" class=\"data row2 col4\" >0.0%</td>\n",
       "      <td id=\"T_a6a04_row2_col5\" class=\"data row2 col5\" >3.0</td>\n",
       "      <td id=\"T_a6a04_row2_col6\" class=\"data row2 col6\" >1.1</td>\n",
       "      <td id=\"T_a6a04_row2_col7\" class=\"data row2 col7\" >0.4</td>\n",
       "      <td id=\"T_a6a04_row2_col8\" class=\"data row2 col8\" >-0.5</td>\n",
       "      <td id=\"T_a6a04_row2_col9\" class=\"data row2 col9\" >-1.2</td>\n",
       "      <td id=\"T_a6a04_row2_col10\" class=\"data row2 col10\" >1.0</td>\n",
       "      <td id=\"T_a6a04_row2_col11\" class=\"data row2 col11\" >1.0</td>\n",
       "      <td id=\"T_a6a04_row2_col12\" class=\"data row2 col12\" >2.0</td>\n",
       "      <td id=\"T_a6a04_row2_col13\" class=\"data row2 col13\" >3.0</td>\n",
       "      <td id=\"T_a6a04_row2_col14\" class=\"data row2 col14\" >4.0</td>\n",
       "      <td id=\"T_a6a04_row2_col15\" class=\"data row2 col15\" >4.0</td>\n",
       "      <td id=\"T_a6a04_row2_col16\" class=\"data row2 col16\" >4.0</td>\n",
       "    </tr>\n",
       "    <tr>\n",
       "      <th id=\"T_a6a04_level0_row3\" class=\"row_heading level0 row3\" >residence_since</th>\n",
       "      <td id=\"T_a6a04_row3_col0\" class=\"data row3 col0\" >800</td>\n",
       "      <td id=\"T_a6a04_row3_col1\" class=\"data row3 col1\" >0</td>\n",
       "      <td id=\"T_a6a04_row3_col2\" class=\"data row3 col2\" >0.0%</td>\n",
       "      <td id=\"T_a6a04_row3_col3\" class=\"data row3 col3\" >0</td>\n",
       "      <td id=\"T_a6a04_row3_col4\" class=\"data row3 col4\" >0.0%</td>\n",
       "      <td id=\"T_a6a04_row3_col5\" class=\"data row3 col5\" >2.9</td>\n",
       "      <td id=\"T_a6a04_row3_col6\" class=\"data row3 col6\" >1.1</td>\n",
       "      <td id=\"T_a6a04_row3_col7\" class=\"data row3 col7\" >0.4</td>\n",
       "      <td id=\"T_a6a04_row3_col8\" class=\"data row3 col8\" >-0.3</td>\n",
       "      <td id=\"T_a6a04_row3_col9\" class=\"data row3 col9\" >-1.4</td>\n",
       "      <td id=\"T_a6a04_row3_col10\" class=\"data row3 col10\" >1.0</td>\n",
       "      <td id=\"T_a6a04_row3_col11\" class=\"data row3 col11\" >1.0</td>\n",
       "      <td id=\"T_a6a04_row3_col12\" class=\"data row3 col12\" >2.0</td>\n",
       "      <td id=\"T_a6a04_row3_col13\" class=\"data row3 col13\" >3.0</td>\n",
       "      <td id=\"T_a6a04_row3_col14\" class=\"data row3 col14\" >4.0</td>\n",
       "      <td id=\"T_a6a04_row3_col15\" class=\"data row3 col15\" >4.0</td>\n",
       "      <td id=\"T_a6a04_row3_col16\" class=\"data row3 col16\" >4.0</td>\n",
       "    </tr>\n",
       "    <tr>\n",
       "      <th id=\"T_a6a04_level0_row4\" class=\"row_heading level0 row4\" >age</th>\n",
       "      <td id=\"T_a6a04_row4_col0\" class=\"data row4 col0\" >800</td>\n",
       "      <td id=\"T_a6a04_row4_col1\" class=\"data row4 col1\" >0</td>\n",
       "      <td id=\"T_a6a04_row4_col2\" class=\"data row4 col2\" >0.0%</td>\n",
       "      <td id=\"T_a6a04_row4_col3\" class=\"data row4 col3\" >0</td>\n",
       "      <td id=\"T_a6a04_row4_col4\" class=\"data row4 col4\" >0.0%</td>\n",
       "      <td id=\"T_a6a04_row4_col5\" class=\"data row4 col5\" >35.6</td>\n",
       "      <td id=\"T_a6a04_row4_col6\" class=\"data row4 col6\" >11.4</td>\n",
       "      <td id=\"T_a6a04_row4_col7\" class=\"data row4 col7\" >0.3</td>\n",
       "      <td id=\"T_a6a04_row4_col8\" class=\"data row4 col8\" >1.0</td>\n",
       "      <td id=\"T_a6a04_row4_col9\" class=\"data row4 col9\" >0.7</td>\n",
       "      <td id=\"T_a6a04_row4_col10\" class=\"data row4 col10\" >19.0</td>\n",
       "      <td id=\"T_a6a04_row4_col11\" class=\"data row4 col11\" >23.0</td>\n",
       "      <td id=\"T_a6a04_row4_col12\" class=\"data row4 col12\" >27.0</td>\n",
       "      <td id=\"T_a6a04_row4_col13\" class=\"data row4 col13\" >33.0</td>\n",
       "      <td id=\"T_a6a04_row4_col14\" class=\"data row4 col14\" >42.0</td>\n",
       "      <td id=\"T_a6a04_row4_col15\" class=\"data row4 col15\" >52.0</td>\n",
       "      <td id=\"T_a6a04_row4_col16\" class=\"data row4 col16\" >75.0</td>\n",
       "    </tr>\n",
       "    <tr>\n",
       "      <th id=\"T_a6a04_level0_row5\" class=\"row_heading level0 row5\" >existing_credits</th>\n",
       "      <td id=\"T_a6a04_row5_col0\" class=\"data row5 col0\" >800</td>\n",
       "      <td id=\"T_a6a04_row5_col1\" class=\"data row5 col1\" >0</td>\n",
       "      <td id=\"T_a6a04_row5_col2\" class=\"data row5 col2\" >0.0%</td>\n",
       "      <td id=\"T_a6a04_row5_col3\" class=\"data row5 col3\" >0</td>\n",
       "      <td id=\"T_a6a04_row5_col4\" class=\"data row5 col4\" >0.0%</td>\n",
       "      <td id=\"T_a6a04_row5_col5\" class=\"data row5 col5\" >1.4</td>\n",
       "      <td id=\"T_a6a04_row5_col6\" class=\"data row5 col6\" >0.6</td>\n",
       "      <td id=\"T_a6a04_row5_col7\" class=\"data row5 col7\" >0.4</td>\n",
       "      <td id=\"T_a6a04_row5_col8\" class=\"data row5 col8\" >1.3</td>\n",
       "      <td id=\"T_a6a04_row5_col9\" class=\"data row5 col9\" >1.6</td>\n",
       "      <td id=\"T_a6a04_row5_col10\" class=\"data row5 col10\" >1.0</td>\n",
       "      <td id=\"T_a6a04_row5_col11\" class=\"data row5 col11\" >1.0</td>\n",
       "      <td id=\"T_a6a04_row5_col12\" class=\"data row5 col12\" >1.0</td>\n",
       "      <td id=\"T_a6a04_row5_col13\" class=\"data row5 col13\" >1.0</td>\n",
       "      <td id=\"T_a6a04_row5_col14\" class=\"data row5 col14\" >2.0</td>\n",
       "      <td id=\"T_a6a04_row5_col15\" class=\"data row5 col15\" >2.0</td>\n",
       "      <td id=\"T_a6a04_row5_col16\" class=\"data row5 col16\" >4.0</td>\n",
       "    </tr>\n",
       "    <tr>\n",
       "      <th id=\"T_a6a04_level0_row6\" class=\"row_heading level0 row6\" >num_dependents</th>\n",
       "      <td id=\"T_a6a04_row6_col0\" class=\"data row6 col0\" >800</td>\n",
       "      <td id=\"T_a6a04_row6_col1\" class=\"data row6 col1\" >0</td>\n",
       "      <td id=\"T_a6a04_row6_col2\" class=\"data row6 col2\" >0.0%</td>\n",
       "      <td id=\"T_a6a04_row6_col3\" class=\"data row6 col3\" >0</td>\n",
       "      <td id=\"T_a6a04_row6_col4\" class=\"data row6 col4\" >0.0%</td>\n",
       "      <td id=\"T_a6a04_row6_col5\" class=\"data row6 col5\" >1.1</td>\n",
       "      <td id=\"T_a6a04_row6_col6\" class=\"data row6 col6\" >0.3</td>\n",
       "      <td id=\"T_a6a04_row6_col7\" class=\"data row6 col7\" >0.3</td>\n",
       "      <td id=\"T_a6a04_row6_col8\" class=\"data row6 col8\" >2.0</td>\n",
       "      <td id=\"T_a6a04_row6_col9\" class=\"data row6 col9\" >2.1</td>\n",
       "      <td id=\"T_a6a04_row6_col10\" class=\"data row6 col10\" >1.0</td>\n",
       "      <td id=\"T_a6a04_row6_col11\" class=\"data row6 col11\" >1.0</td>\n",
       "      <td id=\"T_a6a04_row6_col12\" class=\"data row6 col12\" >1.0</td>\n",
       "      <td id=\"T_a6a04_row6_col13\" class=\"data row6 col13\" >1.0</td>\n",
       "      <td id=\"T_a6a04_row6_col14\" class=\"data row6 col14\" >1.0</td>\n",
       "      <td id=\"T_a6a04_row6_col15\" class=\"data row6 col15\" >2.0</td>\n",
       "      <td id=\"T_a6a04_row6_col16\" class=\"data row6 col16\" >2.0</td>\n",
       "    </tr>\n",
       "  </tbody>\n",
       "</table>\n"
      ],
      "text/plain": [
       "<pandas.io.formats.style.Styler at 0x7fb5ec2a13a0>"
      ]
     },
     "execution_count": 3,
     "metadata": {},
     "output_type": "execute_result"
    }
   ],
   "source": [
    "hlp.pandas.numeric_summary(X_train, return_style=True)"
   ]
  },
  {
   "cell_type": "code",
   "execution_count": 4,
   "id": "7e08ebd1",
   "metadata": {
    "pycharm": {
     "name": "#%%\n"
    }
   },
   "outputs": [
    {
     "data": {
      "text/html": [
       "<style type=\"text/css\">\n",
       "#T_50ba4_row0_col1 {\n",
       "  background-color: #EBB13E;\n",
       "}\n",
       "#T_50ba4_row0_col2 {\n",
       "  width: 10em;\n",
       "  height: 80%;\n",
       "  background: linear-gradient(90deg,#CF3721 4.6%, transparent 4.6%);\n",
       "}\n",
       "#T_50ba4_row0_col5, #T_50ba4_row5_col5, #T_50ba4_row7_col5, #T_50ba4_row10_col5 {\n",
       "  width: 10em;\n",
       "  height: 80%;\n",
       "  background: linear-gradient(90deg,#B4B7B9 0.5%, transparent 0.5%);\n",
       "}\n",
       "#T_50ba4_row1_col2, #T_50ba4_row2_col2, #T_50ba4_row3_col2, #T_50ba4_row4_col2, #T_50ba4_row5_col2, #T_50ba4_row6_col2, #T_50ba4_row7_col2, #T_50ba4_row8_col2, #T_50ba4_row9_col2, #T_50ba4_row10_col2, #T_50ba4_row11_col2, #T_50ba4_row12_col2 {\n",
       "  width: 10em;\n",
       "  height: 80%;\n",
       "}\n",
       "#T_50ba4_row1_col5, #T_50ba4_row3_col5, #T_50ba4_row4_col5 {\n",
       "  width: 10em;\n",
       "  height: 80%;\n",
       "  background: linear-gradient(90deg,#B4B7B9 0.6%, transparent 0.6%);\n",
       "}\n",
       "#T_50ba4_row2_col5 {\n",
       "  width: 10em;\n",
       "  height: 80%;\n",
       "  background: linear-gradient(90deg,#B4B7B9 1.2%, transparent 1.2%);\n",
       "}\n",
       "#T_50ba4_row6_col5, #T_50ba4_row8_col5, #T_50ba4_row9_col5 {\n",
       "  width: 10em;\n",
       "  height: 80%;\n",
       "  background: linear-gradient(90deg,#B4B7B9 0.4%, transparent 0.4%);\n",
       "}\n",
       "#T_50ba4_row11_col5, #T_50ba4_row12_col5 {\n",
       "  width: 10em;\n",
       "  height: 80%;\n",
       "  background: linear-gradient(90deg,#B4B7B9 0.2%, transparent 0.2%);\n",
       "}\n",
       "</style>\n",
       "<table id=\"T_50ba4_\">\n",
       "  <thead>\n",
       "    <tr>\n",
       "      <th class=\"blank level0\" >&nbsp;</th>\n",
       "      <th class=\"col_heading level0 col0\" ># of Non-Nulls</th>\n",
       "      <th class=\"col_heading level0 col1\" ># of Nulls</th>\n",
       "      <th class=\"col_heading level0 col2\" >% Nulls</th>\n",
       "      <th class=\"col_heading level0 col3\" >Most Freq. Value</th>\n",
       "      <th class=\"col_heading level0 col4\" ># of Unique</th>\n",
       "      <th class=\"col_heading level0 col5\" >% Unique</th>\n",
       "    </tr>\n",
       "  </thead>\n",
       "  <tbody>\n",
       "    <tr>\n",
       "      <th id=\"T_50ba4_level0_row0\" class=\"row_heading level0 row0\" >checking_status</th>\n",
       "      <td id=\"T_50ba4_row0_col0\" class=\"data row0 col0\" >763</td>\n",
       "      <td id=\"T_50ba4_row0_col1\" class=\"data row0 col1\" >37</td>\n",
       "      <td id=\"T_50ba4_row0_col2\" class=\"data row0 col2\" >4.6%</td>\n",
       "      <td id=\"T_50ba4_row0_col3\" class=\"data row0 col3\" >no checking</td>\n",
       "      <td id=\"T_50ba4_row0_col4\" class=\"data row0 col4\" >4</td>\n",
       "      <td id=\"T_50ba4_row0_col5\" class=\"data row0 col5\" >0.5%</td>\n",
       "    </tr>\n",
       "    <tr>\n",
       "      <th id=\"T_50ba4_level0_row1\" class=\"row_heading level0 row1\" >credit_history</th>\n",
       "      <td id=\"T_50ba4_row1_col0\" class=\"data row1 col0\" >800</td>\n",
       "      <td id=\"T_50ba4_row1_col1\" class=\"data row1 col1\" >0</td>\n",
       "      <td id=\"T_50ba4_row1_col2\" class=\"data row1 col2\" >0.0%</td>\n",
       "      <td id=\"T_50ba4_row1_col3\" class=\"data row1 col3\" >existing paid</td>\n",
       "      <td id=\"T_50ba4_row1_col4\" class=\"data row1 col4\" >5</td>\n",
       "      <td id=\"T_50ba4_row1_col5\" class=\"data row1 col5\" >0.6%</td>\n",
       "    </tr>\n",
       "    <tr>\n",
       "      <th id=\"T_50ba4_level0_row2\" class=\"row_heading level0 row2\" >purpose</th>\n",
       "      <td id=\"T_50ba4_row2_col0\" class=\"data row2 col0\" >800</td>\n",
       "      <td id=\"T_50ba4_row2_col1\" class=\"data row2 col1\" >0</td>\n",
       "      <td id=\"T_50ba4_row2_col2\" class=\"data row2 col2\" >0.0%</td>\n",
       "      <td id=\"T_50ba4_row2_col3\" class=\"data row2 col3\" >radio/tv</td>\n",
       "      <td id=\"T_50ba4_row2_col4\" class=\"data row2 col4\" >10</td>\n",
       "      <td id=\"T_50ba4_row2_col5\" class=\"data row2 col5\" >1.2%</td>\n",
       "    </tr>\n",
       "    <tr>\n",
       "      <th id=\"T_50ba4_level0_row3\" class=\"row_heading level0 row3\" >savings_status</th>\n",
       "      <td id=\"T_50ba4_row3_col0\" class=\"data row3 col0\" >800</td>\n",
       "      <td id=\"T_50ba4_row3_col1\" class=\"data row3 col1\" >0</td>\n",
       "      <td id=\"T_50ba4_row3_col2\" class=\"data row3 col2\" >0.0%</td>\n",
       "      <td id=\"T_50ba4_row3_col3\" class=\"data row3 col3\" >&lt;100</td>\n",
       "      <td id=\"T_50ba4_row3_col4\" class=\"data row3 col4\" >5</td>\n",
       "      <td id=\"T_50ba4_row3_col5\" class=\"data row3 col5\" >0.6%</td>\n",
       "    </tr>\n",
       "    <tr>\n",
       "      <th id=\"T_50ba4_level0_row4\" class=\"row_heading level0 row4\" >employment</th>\n",
       "      <td id=\"T_50ba4_row4_col0\" class=\"data row4 col0\" >800</td>\n",
       "      <td id=\"T_50ba4_row4_col1\" class=\"data row4 col1\" >0</td>\n",
       "      <td id=\"T_50ba4_row4_col2\" class=\"data row4 col2\" >0.0%</td>\n",
       "      <td id=\"T_50ba4_row4_col3\" class=\"data row4 col3\" >1&lt;=X&lt;4</td>\n",
       "      <td id=\"T_50ba4_row4_col4\" class=\"data row4 col4\" >5</td>\n",
       "      <td id=\"T_50ba4_row4_col5\" class=\"data row4 col5\" >0.6%</td>\n",
       "    </tr>\n",
       "    <tr>\n",
       "      <th id=\"T_50ba4_level0_row5\" class=\"row_heading level0 row5\" >personal_status</th>\n",
       "      <td id=\"T_50ba4_row5_col0\" class=\"data row5 col0\" >800</td>\n",
       "      <td id=\"T_50ba4_row5_col1\" class=\"data row5 col1\" >0</td>\n",
       "      <td id=\"T_50ba4_row5_col2\" class=\"data row5 col2\" >0.0%</td>\n",
       "      <td id=\"T_50ba4_row5_col3\" class=\"data row5 col3\" >male single</td>\n",
       "      <td id=\"T_50ba4_row5_col4\" class=\"data row5 col4\" >4</td>\n",
       "      <td id=\"T_50ba4_row5_col5\" class=\"data row5 col5\" >0.5%</td>\n",
       "    </tr>\n",
       "    <tr>\n",
       "      <th id=\"T_50ba4_level0_row6\" class=\"row_heading level0 row6\" >other_parties</th>\n",
       "      <td id=\"T_50ba4_row6_col0\" class=\"data row6 col0\" >800</td>\n",
       "      <td id=\"T_50ba4_row6_col1\" class=\"data row6 col1\" >0</td>\n",
       "      <td id=\"T_50ba4_row6_col2\" class=\"data row6 col2\" >0.0%</td>\n",
       "      <td id=\"T_50ba4_row6_col3\" class=\"data row6 col3\" >none</td>\n",
       "      <td id=\"T_50ba4_row6_col4\" class=\"data row6 col4\" >3</td>\n",
       "      <td id=\"T_50ba4_row6_col5\" class=\"data row6 col5\" >0.4%</td>\n",
       "    </tr>\n",
       "    <tr>\n",
       "      <th id=\"T_50ba4_level0_row7\" class=\"row_heading level0 row7\" >property_magnitude</th>\n",
       "      <td id=\"T_50ba4_row7_col0\" class=\"data row7 col0\" >800</td>\n",
       "      <td id=\"T_50ba4_row7_col1\" class=\"data row7 col1\" >0</td>\n",
       "      <td id=\"T_50ba4_row7_col2\" class=\"data row7 col2\" >0.0%</td>\n",
       "      <td id=\"T_50ba4_row7_col3\" class=\"data row7 col3\" >car</td>\n",
       "      <td id=\"T_50ba4_row7_col4\" class=\"data row7 col4\" >4</td>\n",
       "      <td id=\"T_50ba4_row7_col5\" class=\"data row7 col5\" >0.5%</td>\n",
       "    </tr>\n",
       "    <tr>\n",
       "      <th id=\"T_50ba4_level0_row8\" class=\"row_heading level0 row8\" >other_payment_plans</th>\n",
       "      <td id=\"T_50ba4_row8_col0\" class=\"data row8 col0\" >800</td>\n",
       "      <td id=\"T_50ba4_row8_col1\" class=\"data row8 col1\" >0</td>\n",
       "      <td id=\"T_50ba4_row8_col2\" class=\"data row8 col2\" >0.0%</td>\n",
       "      <td id=\"T_50ba4_row8_col3\" class=\"data row8 col3\" >none</td>\n",
       "      <td id=\"T_50ba4_row8_col4\" class=\"data row8 col4\" >3</td>\n",
       "      <td id=\"T_50ba4_row8_col5\" class=\"data row8 col5\" >0.4%</td>\n",
       "    </tr>\n",
       "    <tr>\n",
       "      <th id=\"T_50ba4_level0_row9\" class=\"row_heading level0 row9\" >housing</th>\n",
       "      <td id=\"T_50ba4_row9_col0\" class=\"data row9 col0\" >800</td>\n",
       "      <td id=\"T_50ba4_row9_col1\" class=\"data row9 col1\" >0</td>\n",
       "      <td id=\"T_50ba4_row9_col2\" class=\"data row9 col2\" >0.0%</td>\n",
       "      <td id=\"T_50ba4_row9_col3\" class=\"data row9 col3\" >own</td>\n",
       "      <td id=\"T_50ba4_row9_col4\" class=\"data row9 col4\" >3</td>\n",
       "      <td id=\"T_50ba4_row9_col5\" class=\"data row9 col5\" >0.4%</td>\n",
       "    </tr>\n",
       "    <tr>\n",
       "      <th id=\"T_50ba4_level0_row10\" class=\"row_heading level0 row10\" >job</th>\n",
       "      <td id=\"T_50ba4_row10_col0\" class=\"data row10 col0\" >800</td>\n",
       "      <td id=\"T_50ba4_row10_col1\" class=\"data row10 col1\" >0</td>\n",
       "      <td id=\"T_50ba4_row10_col2\" class=\"data row10 col2\" >0.0%</td>\n",
       "      <td id=\"T_50ba4_row10_col3\" class=\"data row10 col3\" >skilled</td>\n",
       "      <td id=\"T_50ba4_row10_col4\" class=\"data row10 col4\" >4</td>\n",
       "      <td id=\"T_50ba4_row10_col5\" class=\"data row10 col5\" >0.5%</td>\n",
       "    </tr>\n",
       "    <tr>\n",
       "      <th id=\"T_50ba4_level0_row11\" class=\"row_heading level0 row11\" >own_telephone</th>\n",
       "      <td id=\"T_50ba4_row11_col0\" class=\"data row11 col0\" >800</td>\n",
       "      <td id=\"T_50ba4_row11_col1\" class=\"data row11 col1\" >0</td>\n",
       "      <td id=\"T_50ba4_row11_col2\" class=\"data row11 col2\" >0.0%</td>\n",
       "      <td id=\"T_50ba4_row11_col3\" class=\"data row11 col3\" >none</td>\n",
       "      <td id=\"T_50ba4_row11_col4\" class=\"data row11 col4\" >2</td>\n",
       "      <td id=\"T_50ba4_row11_col5\" class=\"data row11 col5\" >0.2%</td>\n",
       "    </tr>\n",
       "    <tr>\n",
       "      <th id=\"T_50ba4_level0_row12\" class=\"row_heading level0 row12\" >foreign_worker</th>\n",
       "      <td id=\"T_50ba4_row12_col0\" class=\"data row12 col0\" >800</td>\n",
       "      <td id=\"T_50ba4_row12_col1\" class=\"data row12 col1\" >0</td>\n",
       "      <td id=\"T_50ba4_row12_col2\" class=\"data row12 col2\" >0.0%</td>\n",
       "      <td id=\"T_50ba4_row12_col3\" class=\"data row12 col3\" >yes</td>\n",
       "      <td id=\"T_50ba4_row12_col4\" class=\"data row12 col4\" >2</td>\n",
       "      <td id=\"T_50ba4_row12_col5\" class=\"data row12 col5\" >0.2%</td>\n",
       "    </tr>\n",
       "  </tbody>\n",
       "</table>\n"
      ],
      "text/plain": [
       "<pandas.io.formats.style.Styler at 0x7fb5e9357430>"
      ]
     },
     "execution_count": 4,
     "metadata": {},
     "output_type": "execute_result"
    }
   ],
   "source": [
    "hlp.pandas.non_numeric_summary(X_train, return_style=True)"
   ]
  },
  {
   "cell_type": "code",
   "execution_count": 5,
   "id": "86f44647",
   "metadata": {},
   "outputs": [
    {
     "data": {
      "text/plain": [
       "array([0, 0, 1, 0, 1, 0, 1, 0, 0, 1])"
      ]
     },
     "execution_count": 5,
     "metadata": {},
     "output_type": "execute_result"
    }
   ],
   "source": [
    "y_train[0:10]"
   ]
  },
  {
   "cell_type": "code",
   "execution_count": 6,
   "id": "1662bbac",
   "metadata": {},
   "outputs": [
    {
     "data": {
      "text/plain": [
       "(array([0, 1]), array([241, 559]))"
      ]
     },
     "execution_count": 6,
     "metadata": {},
     "output_type": "execute_result"
    }
   ],
   "source": [
    "np.unique(y_train, return_counts=True)"
   ]
  },
  {
   "cell_type": "code",
   "execution_count": 7,
   "id": "bc038e2c",
   "metadata": {},
   "outputs": [
    {
     "data": {
      "text/plain": [
       "array([0.30125, 0.69875])"
      ]
     },
     "execution_count": 7,
     "metadata": {},
     "output_type": "execute_result"
    }
   ],
   "source": [
    "np.unique(y_train, return_counts=True)[1] / np.sum(np.unique(y_train, return_counts=True)[1])"
   ]
  },
  {
   "cell_type": "markdown",
   "id": "259f5c13",
   "metadata": {},
   "source": [
    "# Transformation Pipeline"
   ]
  },
  {
   "cell_type": "code",
   "execution_count": 8,
   "id": "c9b24b17",
   "metadata": {},
   "outputs": [
    {
     "data": {
      "text/plain": [
       "array([[0., 2.],\n",
       "       [2., 2.],\n",
       "       [9., 1.],\n",
       "       ...,\n",
       "       [9., 3.],\n",
       "       [6., 4.],\n",
       "       [6., 2.]])"
      ]
     },
     "execution_count": 8,
     "metadata": {},
     "output_type": "execute_result"
    }
   ],
   "source": [
    "from sklearn.preprocessing import OrdinalEncoder\n",
    "OrdinalEncoder().fit_transform(X_train[['purpose', 'savings_status']])"
   ]
  },
  {
   "cell_type": "code",
   "execution_count": 9,
   "id": "742c6bf1",
   "metadata": {},
   "outputs": [
    {
     "name": "stdout",
     "output_type": "stream",
     "text": [
      "['duration', 'credit_amount', 'installment_commitment', 'residence_since', 'age', 'existing_credits', 'num_dependents']\n",
      "['checking_status', 'credit_history', 'purpose', 'savings_status', 'employment', 'personal_status', 'other_parties', 'property_magnitude', 'other_payment_plans', 'housing', 'job', 'own_telephone', 'foreign_worker']\n"
     ]
    }
   ],
   "source": [
    "numeric_columns = hlp.pandas.get_numeric_columns(X_train)\n",
    "non_numeric_columns = hlp.pandas.get_non_numeric_columns(X_train)\n",
    "print(numeric_columns)\n",
    "print(non_numeric_columns)"
   ]
  },
  {
   "cell_type": "code",
   "execution_count": 10,
   "id": "740dc372",
   "metadata": {},
   "outputs": [],
   "source": [
    "numeric_pipeline = Pipeline([\n",
    "    #tune whether or not we want to impute or simply remove rows with missing values\n",
    "    ('impute', hlp.sklearn_pipeline.TransformerChooser()),\n",
    "    # this is here so that we can select between MinMax and Scaler\n",
    "    # if this pipeline is ran in a context outside of tuning, no transformation will take place\n",
    "    ('scaling', hlp.sklearn_pipeline.TransformerChooser()),\n",
    "])"
   ]
  },
  {
   "cell_type": "code",
   "execution_count": 11,
   "id": "4ed41bd2",
   "metadata": {},
   "outputs": [],
   "source": [
    "non_numeric_pipeline = Pipeline([\n",
    "    ('encoder', hlp.sklearn_pipeline.TransformerChooser()),\n",
    "])"
   ]
  },
  {
   "cell_type": "code",
   "execution_count": 12,
   "id": "8f7f94d0",
   "metadata": {},
   "outputs": [],
   "source": [
    "from sklearn.compose import ColumnTransformer\n",
    "transformations_pipeline = ColumnTransformer([\n",
    "    ('numeric', numeric_pipeline, numeric_columns),\n",
    "    ('non_numeric', non_numeric_pipeline, non_numeric_columns)\n",
    "])"
   ]
  },
  {
   "cell_type": "markdown",
   "id": "c215d60a",
   "metadata": {},
   "source": [
    "# Model"
   ]
  },
  {
   "cell_type": "code",
   "execution_count": 13,
   "id": "3b3ddb87",
   "metadata": {},
   "outputs": [],
   "source": [
    "from sklearn.ensemble import RandomForestClassifier\n",
    "random_forest_model = RandomForestClassifier(random_state=42)"
   ]
  },
  {
   "cell_type": "code",
   "execution_count": 14,
   "id": "d6a81445",
   "metadata": {},
   "outputs": [],
   "source": [
    "full_pipeline = Pipeline([\n",
    "    ('prep', transformations_pipeline),\n",
    "    ('model', random_forest_model)\n",
    "])"
   ]
  },
  {
   "cell_type": "code",
   "execution_count": 15,
   "id": "936a9d3f",
   "metadata": {
    "scrolled": true
   },
   "outputs": [
    {
     "data": {
      "text/plain": [
       "{'prep': ColumnTransformer(transformers=[('numeric',\n",
       "                                  Pipeline(steps=[('impute',\n",
       "                                                   TransformerChooser()),\n",
       "                                                  ('scaling',\n",
       "                                                   TransformerChooser())]),\n",
       "                                  ['duration', 'credit_amount',\n",
       "                                   'installment_commitment', 'residence_since',\n",
       "                                   'age', 'existing_credits',\n",
       "                                   'num_dependents']),\n",
       "                                 ('non_numeric',\n",
       "                                  Pipeline(steps=[('encoder',\n",
       "                                                   TransformerChooser())]),\n",
       "                                  ['checking_status', 'credit_history',\n",
       "                                   'purpose', 'savings_status', 'employment',\n",
       "                                   'personal_status', 'other_parties',\n",
       "                                   'property_magnitude', 'other_payment_plans',\n",
       "                                   'housing', 'job', 'own_telephone',\n",
       "                                   'foreign_worker'])]),\n",
       " 'model': RandomForestClassifier(random_state=42)}"
      ]
     },
     "execution_count": 15,
     "metadata": {},
     "output_type": "execute_result"
    }
   ],
   "source": [
    "# Show the levels of pipelines/transformers/model\n",
    "full_pipeline.named_steps"
   ]
  },
  {
   "cell_type": "markdown",
   "id": "98b5210c",
   "metadata": {},
   "source": [
    "# skopt.BayesSearchCV\n",
    "\n",
    "[https://scikit-optimize.github.io/stable/auto_examples/sklearn-gridsearchcv-replacement.html](https://scikit-optimize.github.io/stable/auto_examples/sklearn-gridsearchcv-replacement.html)"
   ]
  },
  {
   "cell_type": "code",
   "execution_count": 16,
   "id": "54a179db",
   "metadata": {},
   "outputs": [],
   "source": [
    "from sklearn.metrics import make_scorer, f1_score, precision_score, recall_score  # , roc_auc_score\n",
    "from sklearn.metrics import SCORERS\n",
    "\n",
    "# https://scikit-learn.org/stable/modules/generated/sklearn.metrics.make_scorer.html\n",
    "# https://stackoverflow.com/questions/60615281/different-result-roc-auc-score-and-plot-roc-curve\n",
    "scores = {\n",
    "    # https://github.com/scikit-learn/scikit-learn/blob/2beed5584/sklearn/metrics/_scorer.py#L537\n",
    "    'ROC/AUC':  SCORERS['roc_auc'],\n",
    "    'F1': make_scorer(f1_score, greater_is_better=True),\n",
    "    'Pos. Pred. Val': make_scorer(precision_score, greater_is_better=True),\n",
    "    'True Pos. Rate': make_scorer(recall_score, greater_is_better=True),\n",
    "}"
   ]
  },
  {
   "cell_type": "code",
   "execution_count": 17,
   "id": "e8414f95",
   "metadata": {},
   "outputs": [],
   "source": [
    "num_folds = 5\n",
    "num_repeats = 2"
   ]
  },
  {
   "cell_type": "code",
   "execution_count": 18,
   "id": "437dff7d",
   "metadata": {
    "pycharm": {
     "name": "#%%\n"
    }
   },
   "outputs": [],
   "source": [
    "# pip install scikit-optimize\n",
    "from skopt import BayesSearchCV\n",
    "from skopt.space import Real, Categorical, Integer\n",
    "from sklearn.model_selection import RepeatedKFold"
   ]
  },
  {
   "cell_type": "code",
   "execution_count": 19,
   "id": "11541e28",
   "metadata": {
    "pycharm": {
     "name": "#%%\n"
    }
   },
   "outputs": [
    {
     "name": "stdout",
     "output_type": "stream",
     "text": [
      "Fitting 10 folds for each of 1 candidates, totalling 10 fits\n",
      "Fitting 10 folds for each of 1 candidates, totalling 10 fits\n",
      "Fitting 10 folds for each of 1 candidates, totalling 10 fits\n",
      "Fitting 10 folds for each of 1 candidates, totalling 10 fits\n",
      "Fitting 10 folds for each of 1 candidates, totalling 10 fits\n",
      "Fitting 10 folds for each of 1 candidates, totalling 10 fits\n",
      "Fitting 10 folds for each of 1 candidates, totalling 10 fits\n",
      "Fitting 10 folds for each of 1 candidates, totalling 10 fits\n",
      "Fitting 10 folds for each of 1 candidates, totalling 10 fits\n",
      "Fitting 10 folds for each of 1 candidates, totalling 10 fits\n",
      "Fitting 10 folds for each of 1 candidates, totalling 10 fits\n",
      "Fitting 10 folds for each of 1 candidates, totalling 10 fits\n",
      "Fitting 10 folds for each of 1 candidates, totalling 10 fits\n",
      "Fitting 10 folds for each of 1 candidates, totalling 10 fits\n",
      "Fitting 10 folds for each of 1 candidates, totalling 10 fits\n",
      "Fitting 10 folds for each of 1 candidates, totalling 10 fits\n",
      "Fitting 10 folds for each of 1 candidates, totalling 10 fits\n",
      "Fitting 10 folds for each of 1 candidates, totalling 10 fits\n",
      "Fitting 10 folds for each of 1 candidates, totalling 10 fits\n",
      "Fitting 10 folds for each of 1 candidates, totalling 10 fits\n",
      "Fitting 10 folds for each of 1 candidates, totalling 10 fits\n",
      "Fitting 10 folds for each of 1 candidates, totalling 10 fits\n",
      "Fitting 10 folds for each of 1 candidates, totalling 10 fits\n",
      "Fitting 10 folds for each of 1 candidates, totalling 10 fits\n",
      "Fitting 10 folds for each of 1 candidates, totalling 10 fits\n",
      "Fitting 10 folds for each of 1 candidates, totalling 10 fits\n",
      "Fitting 10 folds for each of 1 candidates, totalling 10 fits\n",
      "Fitting 10 folds for each of 1 candidates, totalling 10 fits\n",
      "Fitting 10 folds for each of 1 candidates, totalling 10 fits\n",
      "Fitting 10 folds for each of 1 candidates, totalling 10 fits\n"
     ]
    }
   ],
   "source": [
    "search_space = {\n",
    "    'prep__numeric__impute__transformer': Categorical([SimpleImputer(strategy='mean')]),\n",
    "    'prep__numeric__scaling__transformer': Categorical([MinMaxScaler(), StandardScaler()]),\n",
    "    'prep__non_numeric__encoder__transformer': Categorical([\n",
    "        OneHotEncoder(),\n",
    "        hlp.sklearn_pipeline.CustomOrdinalEncoder()\n",
    "    ]),\n",
    "    'model__n_estimators': Integer(50, 5000),\n",
    "    # If float, then max_features is a fraction and round(max_features * n_features) features are considered at each split.\n",
    "    'model__max_features':  Real(.01, .99),\n",
    "}\n",
    "\n",
    "bayes_search = BayesSearchCV(\n",
    "    estimator=full_pipeline,\n",
    "    search_spaces=search_space,\n",
    "    n_iter=30,\n",
    "    cv=RepeatedKFold(n_splits=num_folds, n_repeats=num_repeats),\n",
    "    scoring='roc_auc',\n",
    "    #return_train_score=True,\n",
    "    n_jobs=-1,\n",
    "    verbose=1,\n",
    "    random_state=42,\n",
    ")\n",
    "bayes_search.fit(X_train, y_train)\n",
    "\n",
    "del search_space"
   ]
  },
  {
   "cell_type": "code",
   "execution_count": 20,
   "id": "eea4e3fa",
   "metadata": {
    "pycharm": {
     "name": "#%%\n"
    }
   },
   "outputs": [
    {
     "name": "stdout",
     "output_type": "stream",
     "text": [
      "{'mean_fit_time': array([ 6.97221973, 12.69967868,  9.66322381,  2.02044966,  4.75362718,\n",
      "       12.58117998,  9.53103747, 10.5482764 ,  8.10936279,  4.93289454,\n",
      "        0.66682076,  1.00640917,  4.7512696 ,  0.2489856 ,  6.22093594,\n",
      "       10.2782078 ,  3.86154358,  7.83754926,  0.85682049,  6.90920057,\n",
      "        5.36261246,  3.56159992,  4.96366568,  2.43259306,  2.77215679,\n",
      "        4.23899202,  0.31469512,  3.7309411 ,  3.62136981,  0.1612534 ]), 'std_fit_time': array([1.34584963, 1.76542077, 1.46287134, 0.29817295, 0.71954159,\n",
      "       1.77158347, 1.29365293, 1.55321825, 1.10456069, 0.81359502,\n",
      "       0.10899923, 0.15624438, 0.77338842, 0.04491065, 1.06082861,\n",
      "       1.48985042, 0.73429287, 1.22952107, 0.16616703, 1.09705468,\n",
      "       0.94032927, 0.59055745, 0.75528309, 0.38276541, 0.48115369,\n",
      "       0.81171324, 0.05137436, 0.63859133, 0.63309367, 0.03048789]), 'mean_score_time': array([0.52486951, 0.37179453, 0.41650198, 0.08896842, 0.19460638,\n",
      "       0.38579776, 0.33186147, 0.38362889, 0.29931288, 0.38324692,\n",
      "       0.05896013, 0.08020065, 0.36960104, 0.03118591, 0.55122607,\n",
      "       0.26543629, 0.29667466, 0.48509102, 0.07075701, 0.50097251,\n",
      "       0.4168932 , 0.23771062, 0.37322741, 0.12392371, 0.21575477,\n",
      "       0.3059459 , 0.01427865, 0.28854835, 0.2742851 , 0.01705246]), 'std_score_time': array([0.15571494, 0.06210024, 0.08060587, 0.01490279, 0.03194885,\n",
      "       0.06080289, 0.05138963, 0.06236218, 0.04710685, 0.0657015 ,\n",
      "       0.01348207, 0.01322576, 0.05177651, 0.00797967, 0.12049398,\n",
      "       0.04732861, 0.06393124, 0.07619304, 0.01521728, 0.10530832,\n",
      "       0.07389555, 0.04151612, 0.05764219, 0.03344301, 0.04042989,\n",
      "       0.06025139, 0.00610175, 0.04946093, 0.04437519, 0.00998071]), 'param_model__max_features': masked_array(data=[0.4119018796762476, 0.8306405884422187,\n",
      "                   0.4459358620551288, 0.8061480685902161,\n",
      "                   0.7935623727750296, 0.7293474576258571,\n",
      "                   0.61473777133227, 0.5425350063365063,\n",
      "                   0.9463684265837298, 0.013557701109648362,\n",
      "                   0.01059845254936339, 0.14937598890580855, 0.01,\n",
      "                   0.1504309281923324, 0.01, 0.9897553594376771,\n",
      "                   0.010339616430157655, 0.1885825691487686, 0.01,\n",
      "                   0.16407535958814506, 0.01, 0.1863010023894987, 0.01,\n",
      "                   0.31653426526434375, 0.01149102092553551,\n",
      "                   0.010686071148244897, 0.9825428015441334, 0.01, 0.01,\n",
      "                   0.4157144502077677],\n",
      "             mask=[False, False, False, False, False, False, False, False,\n",
      "                   False, False, False, False, False, False, False, False,\n",
      "                   False, False, False, False, False, False, False, False,\n",
      "                   False, False, False, False, False, False],\n",
      "       fill_value='?',\n",
      "            dtype=object), 'param_model__n_estimators': masked_array(data=[3652, 4422, 4598, 901, 2218, 4700, 3888, 4604, 3518,\n",
      "                   4098, 513, 768, 3887, 145, 5000, 3122, 2909, 4910, 617,\n",
      "                   5000, 4328, 2512, 3914, 1269, 2164, 3108, 71, 3042,\n",
      "                   2897, 64],\n",
      "             mask=[False, False, False, False, False, False, False, False,\n",
      "                   False, False, False, False, False, False, False, False,\n",
      "                   False, False, False, False, False, False, False, False,\n",
      "                   False, False, False, False, False, False],\n",
      "       fill_value='?',\n",
      "            dtype=object), 'param_prep__non_numeric__encoder__transformer': masked_array(data=[CustomOrdinalEncoder(), OneHotEncoder(),\n",
      "                   OneHotEncoder(), CustomOrdinalEncoder(),\n",
      "                   CustomOrdinalEncoder(), OneHotEncoder(),\n",
      "                   OneHotEncoder(), OneHotEncoder(),\n",
      "                   CustomOrdinalEncoder(), CustomOrdinalEncoder(),\n",
      "                   OneHotEncoder(), CustomOrdinalEncoder(),\n",
      "                   CustomOrdinalEncoder(), CustomOrdinalEncoder(),\n",
      "                   CustomOrdinalEncoder(), OneHotEncoder(),\n",
      "                   OneHotEncoder(), OneHotEncoder(),\n",
      "                   CustomOrdinalEncoder(), CustomOrdinalEncoder(),\n",
      "                   CustomOrdinalEncoder(), CustomOrdinalEncoder(),\n",
      "                   OneHotEncoder(), OneHotEncoder(),\n",
      "                   CustomOrdinalEncoder(), CustomOrdinalEncoder(),\n",
      "                   OneHotEncoder(), CustomOrdinalEncoder(),\n",
      "                   CustomOrdinalEncoder(), OneHotEncoder()],\n",
      "             mask=[False, False, False, False, False, False, False, False,\n",
      "                   False, False, False, False, False, False, False, False,\n",
      "                   False, False, False, False, False, False, False, False,\n",
      "                   False, False, False, False, False, False],\n",
      "       fill_value='?',\n",
      "            dtype=object), 'param_prep__numeric__impute__transformer': masked_array(data=[SimpleImputer(), SimpleImputer(), SimpleImputer(),\n",
      "                   SimpleImputer(), SimpleImputer(), SimpleImputer(),\n",
      "                   SimpleImputer(), SimpleImputer(), SimpleImputer(),\n",
      "                   SimpleImputer(), SimpleImputer(), SimpleImputer(),\n",
      "                   SimpleImputer(), SimpleImputer(), SimpleImputer(),\n",
      "                   SimpleImputer(), SimpleImputer(), SimpleImputer(),\n",
      "                   SimpleImputer(), SimpleImputer(), SimpleImputer(),\n",
      "                   SimpleImputer(), SimpleImputer(), SimpleImputer(),\n",
      "                   SimpleImputer(), SimpleImputer(), SimpleImputer(),\n",
      "                   SimpleImputer(), SimpleImputer(), SimpleImputer()],\n",
      "             mask=[False, False, False, False, False, False, False, False,\n",
      "                   False, False, False, False, False, False, False, False,\n",
      "                   False, False, False, False, False, False, False, False,\n",
      "                   False, False, False, False, False, False],\n",
      "       fill_value='?',\n",
      "            dtype=object), 'param_prep__numeric__scaling__transformer': masked_array(data=[StandardScaler(), StandardScaler(), MinMaxScaler(),\n",
      "                   StandardScaler(), StandardScaler(), StandardScaler(),\n",
      "                   StandardScaler(), MinMaxScaler(), MinMaxScaler(),\n",
      "                   StandardScaler(), StandardScaler(), MinMaxScaler(),\n",
      "                   MinMaxScaler(), StandardScaler(), StandardScaler(),\n",
      "                   MinMaxScaler(), MinMaxScaler(), StandardScaler(),\n",
      "                   MinMaxScaler(), StandardScaler(), StandardScaler(),\n",
      "                   StandardScaler(), StandardScaler(), StandardScaler(),\n",
      "                   StandardScaler(), StandardScaler(), MinMaxScaler(),\n",
      "                   StandardScaler(), StandardScaler(), MinMaxScaler()],\n",
      "             mask=[False, False, False, False, False, False, False, False,\n",
      "                   False, False, False, False, False, False, False, False,\n",
      "                   False, False, False, False, False, False, False, False,\n",
      "                   False, False, False, False, False, False],\n",
      "       fill_value='?',\n",
      "            dtype=object), 'params': [OrderedDict([('model__max_features', 0.4119018796762476), ('model__n_estimators', 3652), ('prep__non_numeric__encoder__transformer', CustomOrdinalEncoder()), ('prep__numeric__impute__transformer', SimpleImputer()), ('prep__numeric__scaling__transformer', StandardScaler())]), OrderedDict([('model__max_features', 0.8306405884422187), ('model__n_estimators', 4422), ('prep__non_numeric__encoder__transformer', OneHotEncoder()), ('prep__numeric__impute__transformer', SimpleImputer()), ('prep__numeric__scaling__transformer', StandardScaler())]), OrderedDict([('model__max_features', 0.4459358620551288), ('model__n_estimators', 4598), ('prep__non_numeric__encoder__transformer', OneHotEncoder()), ('prep__numeric__impute__transformer', SimpleImputer()), ('prep__numeric__scaling__transformer', MinMaxScaler())]), OrderedDict([('model__max_features', 0.8061480685902161), ('model__n_estimators', 901), ('prep__non_numeric__encoder__transformer', CustomOrdinalEncoder()), ('prep__numeric__impute__transformer', SimpleImputer()), ('prep__numeric__scaling__transformer', StandardScaler())]), OrderedDict([('model__max_features', 0.7935623727750296), ('model__n_estimators', 2218), ('prep__non_numeric__encoder__transformer', CustomOrdinalEncoder()), ('prep__numeric__impute__transformer', SimpleImputer()), ('prep__numeric__scaling__transformer', StandardScaler())]), OrderedDict([('model__max_features', 0.7293474576258571), ('model__n_estimators', 4700), ('prep__non_numeric__encoder__transformer', OneHotEncoder()), ('prep__numeric__impute__transformer', SimpleImputer()), ('prep__numeric__scaling__transformer', StandardScaler())]), OrderedDict([('model__max_features', 0.61473777133227), ('model__n_estimators', 3888), ('prep__non_numeric__encoder__transformer', OneHotEncoder()), ('prep__numeric__impute__transformer', SimpleImputer()), ('prep__numeric__scaling__transformer', StandardScaler())]), OrderedDict([('model__max_features', 0.5425350063365063), ('model__n_estimators', 4604), ('prep__non_numeric__encoder__transformer', OneHotEncoder()), ('prep__numeric__impute__transformer', SimpleImputer()), ('prep__numeric__scaling__transformer', MinMaxScaler())]), OrderedDict([('model__max_features', 0.9463684265837298), ('model__n_estimators', 3518), ('prep__non_numeric__encoder__transformer', CustomOrdinalEncoder()), ('prep__numeric__impute__transformer', SimpleImputer()), ('prep__numeric__scaling__transformer', MinMaxScaler())]), OrderedDict([('model__max_features', 0.013557701109648362), ('model__n_estimators', 4098), ('prep__non_numeric__encoder__transformer', CustomOrdinalEncoder()), ('prep__numeric__impute__transformer', SimpleImputer()), ('prep__numeric__scaling__transformer', StandardScaler())]), OrderedDict([('model__max_features', 0.01059845254936339), ('model__n_estimators', 513), ('prep__non_numeric__encoder__transformer', OneHotEncoder()), ('prep__numeric__impute__transformer', SimpleImputer()), ('prep__numeric__scaling__transformer', StandardScaler())]), OrderedDict([('model__max_features', 0.14937598890580855), ('model__n_estimators', 768), ('prep__non_numeric__encoder__transformer', CustomOrdinalEncoder()), ('prep__numeric__impute__transformer', SimpleImputer()), ('prep__numeric__scaling__transformer', MinMaxScaler())]), OrderedDict([('model__max_features', 0.01), ('model__n_estimators', 3887), ('prep__non_numeric__encoder__transformer', CustomOrdinalEncoder()), ('prep__numeric__impute__transformer', SimpleImputer()), ('prep__numeric__scaling__transformer', MinMaxScaler())]), OrderedDict([('model__max_features', 0.1504309281923324), ('model__n_estimators', 145), ('prep__non_numeric__encoder__transformer', CustomOrdinalEncoder()), ('prep__numeric__impute__transformer', SimpleImputer()), ('prep__numeric__scaling__transformer', StandardScaler())]), OrderedDict([('model__max_features', 0.01), ('model__n_estimators', 5000), ('prep__non_numeric__encoder__transformer', CustomOrdinalEncoder()), ('prep__numeric__impute__transformer', SimpleImputer()), ('prep__numeric__scaling__transformer', StandardScaler())]), OrderedDict([('model__max_features', 0.9897553594376771), ('model__n_estimators', 3122), ('prep__non_numeric__encoder__transformer', OneHotEncoder()), ('prep__numeric__impute__transformer', SimpleImputer()), ('prep__numeric__scaling__transformer', MinMaxScaler())]), OrderedDict([('model__max_features', 0.010339616430157655), ('model__n_estimators', 2909), ('prep__non_numeric__encoder__transformer', OneHotEncoder()), ('prep__numeric__impute__transformer', SimpleImputer()), ('prep__numeric__scaling__transformer', MinMaxScaler())]), OrderedDict([('model__max_features', 0.1885825691487686), ('model__n_estimators', 4910), ('prep__non_numeric__encoder__transformer', OneHotEncoder()), ('prep__numeric__impute__transformer', SimpleImputer()), ('prep__numeric__scaling__transformer', StandardScaler())]), OrderedDict([('model__max_features', 0.01), ('model__n_estimators', 617), ('prep__non_numeric__encoder__transformer', CustomOrdinalEncoder()), ('prep__numeric__impute__transformer', SimpleImputer()), ('prep__numeric__scaling__transformer', MinMaxScaler())]), OrderedDict([('model__max_features', 0.16407535958814506), ('model__n_estimators', 5000), ('prep__non_numeric__encoder__transformer', CustomOrdinalEncoder()), ('prep__numeric__impute__transformer', SimpleImputer()), ('prep__numeric__scaling__transformer', StandardScaler())]), OrderedDict([('model__max_features', 0.01), ('model__n_estimators', 4328), ('prep__non_numeric__encoder__transformer', CustomOrdinalEncoder()), ('prep__numeric__impute__transformer', SimpleImputer()), ('prep__numeric__scaling__transformer', StandardScaler())]), OrderedDict([('model__max_features', 0.1863010023894987), ('model__n_estimators', 2512), ('prep__non_numeric__encoder__transformer', CustomOrdinalEncoder()), ('prep__numeric__impute__transformer', SimpleImputer()), ('prep__numeric__scaling__transformer', StandardScaler())]), OrderedDict([('model__max_features', 0.01), ('model__n_estimators', 3914), ('prep__non_numeric__encoder__transformer', OneHotEncoder()), ('prep__numeric__impute__transformer', SimpleImputer()), ('prep__numeric__scaling__transformer', StandardScaler())]), OrderedDict([('model__max_features', 0.31653426526434375), ('model__n_estimators', 1269), ('prep__non_numeric__encoder__transformer', OneHotEncoder()), ('prep__numeric__impute__transformer', SimpleImputer()), ('prep__numeric__scaling__transformer', StandardScaler())]), OrderedDict([('model__max_features', 0.01149102092553551), ('model__n_estimators', 2164), ('prep__non_numeric__encoder__transformer', CustomOrdinalEncoder()), ('prep__numeric__impute__transformer', SimpleImputer()), ('prep__numeric__scaling__transformer', StandardScaler())]), OrderedDict([('model__max_features', 0.010686071148244897), ('model__n_estimators', 3108), ('prep__non_numeric__encoder__transformer', CustomOrdinalEncoder()), ('prep__numeric__impute__transformer', SimpleImputer()), ('prep__numeric__scaling__transformer', StandardScaler())]), OrderedDict([('model__max_features', 0.9825428015441334), ('model__n_estimators', 71), ('prep__non_numeric__encoder__transformer', OneHotEncoder()), ('prep__numeric__impute__transformer', SimpleImputer()), ('prep__numeric__scaling__transformer', MinMaxScaler())]), OrderedDict([('model__max_features', 0.01), ('model__n_estimators', 3042), ('prep__non_numeric__encoder__transformer', CustomOrdinalEncoder()), ('prep__numeric__impute__transformer', SimpleImputer()), ('prep__numeric__scaling__transformer', StandardScaler())]), OrderedDict([('model__max_features', 0.01), ('model__n_estimators', 2897), ('prep__non_numeric__encoder__transformer', CustomOrdinalEncoder()), ('prep__numeric__impute__transformer', SimpleImputer()), ('prep__numeric__scaling__transformer', StandardScaler())]), OrderedDict([('model__max_features', 0.4157144502077677), ('model__n_estimators', 64), ('prep__non_numeric__encoder__transformer', OneHotEncoder()), ('prep__numeric__impute__transformer', SimpleImputer()), ('prep__numeric__scaling__transformer', MinMaxScaler())])], 'split0_test_score': array([0.76476812, 0.69120693, 0.72844273, 0.69355454, 0.74818841,\n",
      "       0.72570048, 0.69002186, 0.78027038, 0.79725701, 0.76868005,\n",
      "       0.70804729, 0.73267327, 0.77864316, 0.77439614, 0.79537687,\n",
      "       0.70681818, 0.76436096, 0.7232528 , 0.77699373, 0.67527273,\n",
      "       0.77558913, 0.70967411, 0.80434783, 0.81025924, 0.74125744,\n",
      "       0.75437843, 0.7093564 , 0.7515811 , 0.77449275, 0.75685737]), 'split1_test_score': array([0.77421308, 0.7393858 , 0.73256039, 0.79424858, 0.71336207,\n",
      "       0.70801932, 0.82875165, 0.67882898, 0.77507837, 0.81872727,\n",
      "       0.82601881, 0.77124183, 0.76146789, 0.72898065, 0.76796537,\n",
      "       0.81818182, 0.75898484, 0.74216524, 0.79929443, 0.72616323,\n",
      "       0.76704055, 0.75867102, 0.72501747, 0.69854997, 0.83839972,\n",
      "       0.8090755 , 0.79214929, 0.7678299 , 0.80659909, 0.73026316]), 'split2_test_score': array([0.74666667, 0.75282486, 0.72038647, 0.70453319, 0.74493506,\n",
      "       0.8149476 , 0.70584046, 0.71620258, 0.73557692, 0.70173913,\n",
      "       0.80120137, 0.78917071, 0.756     , 0.75577978, 0.72012511,\n",
      "       0.79792171, 0.7977429 , 0.76488577, 0.72836538, 0.78311012,\n",
      "       0.77055226, 0.7303717 , 0.8236481 , 0.81763069, 0.75035868,\n",
      "       0.689836  , 0.74698687, 0.78874978, 0.79848008, 0.75353432]), 'split3_test_score': array([0.79187351, 0.77974828, 0.80034632, 0.79301168, 0.73432499,\n",
      "       0.74851502, 0.77033816, 0.74397275, 0.6808323 , 0.75577978,\n",
      "       0.80250165, 0.73727273, 0.76641482, 0.73539431, 0.7880125 ,\n",
      "       0.67227564, 0.72193237, 0.77306548, 0.72827847, 0.77723971,\n",
      "       0.71012987, 0.82588711, 0.7157704 , 0.70346841, 0.79304348,\n",
      "       0.82211538, 0.74985878, 0.81367555, 0.70621469, 0.77998494]), 'split4_test_score': array([0.75975132, 0.76492186, 0.7667106 , 0.70407706, 0.72936202,\n",
      "       0.72312128, 0.70754717, 0.80763285, 0.75923883, 0.78864583,\n",
      "       0.6695488 , 0.80286198, 0.76925223, 0.78130296, 0.73949033,\n",
      "       0.73197138, 0.7616776 , 0.76103989, 0.75274725, 0.79290043,\n",
      "       0.80711289, 0.76923077, 0.77711162, 0.76170799, 0.72465174,\n",
      "       0.744375  , 0.73731884, 0.68145455, 0.78249021, 0.75014122]), 'split5_test_score': array([0.74782831, 0.75382053, 0.78917071, 0.70454545, 0.81742967,\n",
      "       0.85241503, 0.74466056, 0.75961353, 0.72015637, 0.74994876,\n",
      "       0.75531703, 0.74336129, 0.81458333, 0.70608172, 0.71051664,\n",
      "       0.78077922, 0.74646149, 0.80671296, 0.76603812, 0.78436364,\n",
      "       0.72747105, 0.70981831, 0.78840125, 0.75864418, 0.79800741,\n",
      "       0.81485215, 0.76325   , 0.79718661, 0.78969697, 0.77507246]), 'split6_test_score': array([0.73930432, 0.77362319, 0.68268398, 0.66525424, 0.68852312,\n",
      "       0.72311668, 0.72952279, 0.71428571, 0.7123964 , 0.78859747,\n",
      "       0.81045004, 0.77163462, 0.71198362, 0.77161598, 0.78046812,\n",
      "       0.80135266, 0.75783476, 0.78872775, 0.76707546, 0.75097356,\n",
      "       0.80487805, 0.74545772, 0.69154545, 0.82269926, 0.81837607,\n",
      "       0.84782225, 0.71119062, 0.70691711, 0.77234687, 0.75154294]), 'split7_test_score': array([0.788     , 0.78943452, 0.78072727, 0.82011529, 0.70518478,\n",
      "       0.74804687, 0.70995423, 0.77307399, 0.77964744, 0.75705628,\n",
      "       0.68576942, 0.79288472, 0.77483974, 0.81256039, 0.78856407,\n",
      "       0.6996621 , 0.71408542, 0.76827273, 0.82595791, 0.81284341,\n",
      "       0.75641741, 0.84912634, 0.73237179, 0.7715942 , 0.76869658,\n",
      "       0.74140467, 0.79140097, 0.80440848, 0.72331011, 0.7637101 ]), 'split8_test_score': array([0.76450092, 0.73248626, 0.72455614, 0.75551994, 0.76683983,\n",
      "       0.70346841, 0.80915179, 0.7112069 , 0.6821025 , 0.80630631,\n",
      "       0.75758454, 0.78422143, 0.72658009, 0.79054545, 0.76673212,\n",
      "       0.70490909, 0.77922705, 0.69521792, 0.69459612, 0.692657  ,\n",
      "       0.79917712, 0.76128006, 0.78999256, 0.66512077, 0.80447942,\n",
      "       0.75140097, 0.71869235, 0.72187262, 0.76655052, 0.78434783]), 'split9_test_score': array([0.71864734, 0.76422991, 0.74563242, 0.77288609, 0.71522742,\n",
      "       0.70633207, 0.80400809, 0.76386072, 0.74497768, 0.77111235,\n",
      "       0.80543155, 0.70004238, 0.78520985, 0.7421875 , 0.74342105,\n",
      "       0.74720982, 0.80583856, 0.75208333, 0.71990338, 0.75611326,\n",
      "       0.77226239, 0.7935884 , 0.79740162, 0.74941536, 0.64941485,\n",
      "       0.71323529, 0.70094373, 0.81472578, 0.80730359, 0.74154589]), 'mean_test_score': array([0.75955536, 0.75416822, 0.7471217 , 0.74077461, 0.73633774,\n",
      "       0.74536828, 0.74997968, 0.74489484, 0.73872638, 0.77065932,\n",
      "       0.76218705, 0.7625365 , 0.76449747, 0.75988449, 0.76006722,\n",
      "       0.74610816, 0.76081459, 0.75754239, 0.75592503, 0.75516371,\n",
      "       0.76906307, 0.76531055, 0.76456081, 0.75590901, 0.76866854,\n",
      "       0.76884957, 0.74211479, 0.76484015, 0.77274849, 0.75870002]), 'std_test_score': array([0.02123038, 0.02673594, 0.03471799, 0.05003744, 0.03464623,\n",
      "       0.04729547, 0.0473629 , 0.03717322, 0.0380627 , 0.03133052,\n",
      "       0.053705  , 0.03112653, 0.02747319, 0.03049819, 0.02848493,\n",
      "       0.04814966, 0.02767107, 0.03023063, 0.03748168, 0.04245131,\n",
      "       0.03009887, 0.04399955, 0.04223393, 0.05082945, 0.05226485,\n",
      "       0.04900049, 0.0312395 , 0.04516224, 0.03208848, 0.01631408]), 'rank_test_score': array([15, 21, 23, 28, 30, 25, 22, 26, 29,  2, 11, 10,  9, 14, 13, 24, 12,\n",
      "       17, 18, 20,  3,  6,  8, 19,  5,  4, 27,  7,  1, 16], dtype=int32)}\n"
     ]
    }
   ],
   "source": [
    "print(bayes_search.cv_results_)"
   ]
  },
  {
   "cell_type": "markdown",
   "id": "1930b7e6",
   "metadata": {
    "pycharm": {
     "name": "#%% md\n"
    }
   },
   "source": [
    "# Results"
   ]
  },
  {
   "cell_type": "code",
   "execution_count": 21,
   "id": "5b8b668f",
   "metadata": {
    "pycharm": {
     "name": "#%%\n"
    }
   },
   "outputs": [],
   "source": [
    "new_param_column_names = {'model__max_features': 'max_features',\n",
    "                          'model__n_estimators': 'n_estimators',\n",
    "                          'prep__non_numeric__encoder__transformer': 'encoder',\n",
    "                          'prep__numeric__impute__transformer': 'imputer',\n",
    "                          'prep__numeric__scaling__transformer': 'scaler'}"
   ]
  },
  {
   "cell_type": "code",
   "execution_count": 22,
   "id": "7872e107",
   "metadata": {
    "pycharm": {
     "name": "#%%\n"
    }
   },
   "outputs": [],
   "source": [
    "parser = hlp.sklearn_eval.SearchCVParser(searcher=bayes_search,\n",
    "                                         higher_score_is_better = True,\n",
    "                                         parameter_name_mappings = new_param_column_names)"
   ]
  },
  {
   "cell_type": "code",
   "execution_count": 23,
   "id": "a070a6d1",
   "metadata": {
    "pycharm": {
     "name": "#%%\n"
    }
   },
   "outputs": [],
   "source": [
    "parser.to_yaml_file(yaml_file_name = 'Run 1.yaml')"
   ]
  },
  {
   "cell_type": "code",
   "execution_count": 24,
   "id": "0d89ec9c",
   "metadata": {
    "pycharm": {
     "name": "#%%\n"
    }
   },
   "outputs": [],
   "source": [
    "#parser = hlp.sklearn_eval.SearchCVParser.from_yaml_file(yaml_file_name = 'Run 1.yaml')"
   ]
  },
  {
   "cell_type": "markdown",
   "id": "352a2dd8",
   "metadata": {},
   "source": [
    "## Best Scores/Params"
   ]
  },
  {
   "cell_type": "code",
   "execution_count": 25,
   "id": "5d25ab96",
   "metadata": {
    "pycharm": {
     "name": "#%%\n"
    }
   },
   "outputs": [
    {
     "data": {
      "text/html": [
       "<style type=\"text/css\">\n",
       "#T_4f6d4_row0_col0 {\n",
       "  width: 10em;\n",
       "  height: 80%;\n",
       "  background: linear-gradient(90deg,#1AAF54 100.0%, transparent 100.0%);\n",
       "}\n",
       "#T_4f6d4_row0_col1 {\n",
       "  width: 10em;\n",
       "  height: 80%;\n",
       "  background: linear-gradient(90deg,transparent 100.0%, #B4B7B9 100.0%);\n",
       "}\n",
       "#T_4f6d4_row0_col2 {\n",
       "  width: 10em;\n",
       "  height: 80%;\n",
       "  background: linear-gradient(90deg,#B4B7B9 77.8%, transparent 77.8%);\n",
       "}\n",
       "#T_4f6d4_row0_col3, #T_4f6d4_row0_col4, #T_4f6d4_row0_col5, #T_4f6d4_row0_col6, #T_4f6d4_row1_col3, #T_4f6d4_row1_col4, #T_4f6d4_row1_col5, #T_4f6d4_row1_col6, #T_4f6d4_row2_col3, #T_4f6d4_row2_col4, #T_4f6d4_row2_col5, #T_4f6d4_row2_col6, #T_4f6d4_row3_col3, #T_4f6d4_row3_col4, #T_4f6d4_row3_col5, #T_4f6d4_row3_col6, #T_4f6d4_row4_col3, #T_4f6d4_row4_col4, #T_4f6d4_row4_col5, #T_4f6d4_row4_col6, #T_4f6d4_row5_col3, #T_4f6d4_row5_col4, #T_4f6d4_row5_col5, #T_4f6d4_row5_col6, #T_4f6d4_row6_col3, #T_4f6d4_row6_col4, #T_4f6d4_row6_col5, #T_4f6d4_row6_col6, #T_4f6d4_row7_col3, #T_4f6d4_row7_col4, #T_4f6d4_row7_col5, #T_4f6d4_row7_col6, #T_4f6d4_row8_col3, #T_4f6d4_row8_col4, #T_4f6d4_row8_col5, #T_4f6d4_row8_col6 {\n",
       "  background-color: #7AA9CF;\n",
       "}\n",
       "#T_4f6d4_row1_col0 {\n",
       "  width: 10em;\n",
       "  height: 80%;\n",
       "  background: linear-gradient(90deg,#1AAF54 94.6%, transparent 94.6%);\n",
       "}\n",
       "#T_4f6d4_row1_col1, #T_4f6d4_row2_col1 {\n",
       "  width: 10em;\n",
       "  height: 80%;\n",
       "  background: linear-gradient(90deg,transparent 95.6%, #B4B7B9 95.6%);\n",
       "}\n",
       "#T_4f6d4_row1_col2 {\n",
       "  width: 10em;\n",
       "  height: 80%;\n",
       "  background: linear-gradient(90deg,#B4B7B9 71.1%, transparent 71.1%);\n",
       "}\n",
       "#T_4f6d4_row2_col0, #T_4f6d4_row3_col0, #T_4f6d4_row4_col0 {\n",
       "  width: 10em;\n",
       "  height: 80%;\n",
       "  background: linear-gradient(90deg,#1AAF54 89.2%, transparent 89.2%);\n",
       "}\n",
       "#T_4f6d4_row2_col2 {\n",
       "  width: 10em;\n",
       "  height: 80%;\n",
       "  background: linear-gradient(90deg,#B4B7B9 66.7%, transparent 66.7%);\n",
       "}\n",
       "#T_4f6d4_row3_col1, #T_4f6d4_row5_col1, #T_4f6d4_row7_col1 {\n",
       "  width: 10em;\n",
       "  height: 80%;\n",
       "  background: linear-gradient(90deg,transparent 64.4%, #B4B7B9 64.4%);\n",
       "}\n",
       "#T_4f6d4_row3_col2 {\n",
       "  width: 10em;\n",
       "  height: 80%;\n",
       "  background: linear-gradient(90deg,#B4B7B9 95.6%, transparent 95.6%);\n",
       "}\n",
       "#T_4f6d4_row4_col1 {\n",
       "  width: 10em;\n",
       "  height: 80%;\n",
       "  background: linear-gradient(90deg,transparent 57.8%, #B4B7B9 57.8%);\n",
       "}\n",
       "#T_4f6d4_row4_col2 {\n",
       "  width: 10em;\n",
       "  height: 80%;\n",
       "  background: linear-gradient(90deg,#B4B7B9 100.0%, transparent 100.0%);\n",
       "}\n",
       "#T_4f6d4_row5_col0, #T_4f6d4_row6_col0, #T_4f6d4_row7_col0 {\n",
       "  width: 10em;\n",
       "  height: 80%;\n",
       "  background: linear-gradient(90deg,#1AAF54 78.4%, transparent 78.4%);\n",
       "}\n",
       "#T_4f6d4_row5_col2, #T_4f6d4_row6_col2 {\n",
       "  width: 10em;\n",
       "  height: 80%;\n",
       "  background: linear-gradient(90deg,#B4B7B9 80.0%, transparent 80.0%);\n",
       "}\n",
       "#T_4f6d4_row6_col1 {\n",
       "  width: 10em;\n",
       "  height: 80%;\n",
       "  background: linear-gradient(90deg,transparent 62.2%, #B4B7B9 62.2%);\n",
       "}\n",
       "#T_4f6d4_row7_col2 {\n",
       "  width: 10em;\n",
       "  height: 80%;\n",
       "  background: linear-gradient(90deg,#B4B7B9 75.6%, transparent 75.6%);\n",
       "}\n",
       "#T_4f6d4_row8_col0 {\n",
       "  width: 10em;\n",
       "  height: 80%;\n",
       "  background: linear-gradient(90deg,#1AAF54 75.7%, transparent 75.7%);\n",
       "}\n",
       "#T_4f6d4_row8_col1 {\n",
       "  width: 10em;\n",
       "  height: 80%;\n",
       "  background: linear-gradient(90deg,transparent 88.9%, #B4B7B9 88.9%);\n",
       "}\n",
       "#T_4f6d4_row8_col2, #T_4f6d4_row21_col2 {\n",
       "  width: 10em;\n",
       "  height: 80%;\n",
       "  background: linear-gradient(90deg,#B4B7B9 51.1%, transparent 51.1%);\n",
       "}\n",
       "#T_4f6d4_row9_col0 {\n",
       "  width: 10em;\n",
       "  height: 80%;\n",
       "  background: linear-gradient(90deg,#1AAF54 73.0%, transparent 73.0%);\n",
       "}\n",
       "#T_4f6d4_row9_col1, #T_4f6d4_row12_col1 {\n",
       "  width: 10em;\n",
       "  height: 80%;\n",
       "  background: linear-gradient(90deg,transparent 77.8%, #B4B7B9 77.8%);\n",
       "}\n",
       "#T_4f6d4_row9_col2 {\n",
       "  width: 10em;\n",
       "  height: 80%;\n",
       "  background: linear-gradient(90deg,#B4B7B9 53.3%, transparent 53.3%);\n",
       "}\n",
       "#T_4f6d4_row10_col0 {\n",
       "  width: 10em;\n",
       "  height: 80%;\n",
       "  background: linear-gradient(90deg,#1AAF54 70.3%, transparent 70.3%);\n",
       "}\n",
       "#T_4f6d4_row10_col1 {\n",
       "  width: 10em;\n",
       "  height: 80%;\n",
       "  background: linear-gradient(90deg,transparent 42.2%, #B4B7B9 42.2%);\n",
       "}\n",
       "#T_4f6d4_row10_col2 {\n",
       "  width: 10em;\n",
       "  height: 80%;\n",
       "  background: linear-gradient(90deg,#B4B7B9 88.9%, transparent 88.9%);\n",
       "}\n",
       "#T_4f6d4_row11_col0 {\n",
       "  width: 10em;\n",
       "  height: 80%;\n",
       "  background: linear-gradient(90deg,#1AAF54 67.6%, transparent 67.6%);\n",
       "}\n",
       "#T_4f6d4_row11_col1 {\n",
       "  width: 10em;\n",
       "  height: 80%;\n",
       "  background: linear-gradient(90deg,transparent 80.0%, #B4B7B9 80.0%);\n",
       "}\n",
       "#T_4f6d4_row11_col2, #T_4f6d4_row23_col2 {\n",
       "  width: 10em;\n",
       "  height: 80%;\n",
       "  background: linear-gradient(90deg,#B4B7B9 44.4%, transparent 44.4%);\n",
       "}\n",
       "#T_4f6d4_row12_col0, #T_4f6d4_row13_col0, #T_4f6d4_row14_col0 {\n",
       "  width: 10em;\n",
       "  height: 80%;\n",
       "  background: linear-gradient(90deg,#1AAF54 64.9%, transparent 64.9%);\n",
       "}\n",
       "#T_4f6d4_row12_col2 {\n",
       "  width: 10em;\n",
       "  height: 80%;\n",
       "  background: linear-gradient(90deg,#B4B7B9 42.2%, transparent 42.2%);\n",
       "}\n",
       "#T_4f6d4_row13_col1 {\n",
       "  width: 10em;\n",
       "  height: 80%;\n",
       "  background: linear-gradient(90deg,transparent 73.3%, #B4B7B9 73.3%);\n",
       "}\n",
       "#T_4f6d4_row13_col2 {\n",
       "  width: 10em;\n",
       "  height: 80%;\n",
       "  background: linear-gradient(90deg,#B4B7B9 46.7%, transparent 46.7%);\n",
       "}\n",
       "#T_4f6d4_row14_col1 {\n",
       "  width: 10em;\n",
       "  height: 80%;\n",
       "  background: linear-gradient(90deg,transparent 86.7%, #B4B7B9 86.7%);\n",
       "}\n",
       "#T_4f6d4_row14_col2 {\n",
       "  width: 10em;\n",
       "  height: 80%;\n",
       "  background: linear-gradient(90deg,#B4B7B9 31.1%, transparent 31.1%);\n",
       "}\n",
       "#T_4f6d4_row15_col0 {\n",
       "  width: 10em;\n",
       "  height: 80%;\n",
       "  background: linear-gradient(90deg,#1AAF54 62.2%, transparent 62.2%);\n",
       "}\n",
       "#T_4f6d4_row15_col1 {\n",
       "  width: 10em;\n",
       "  height: 80%;\n",
       "  background: linear-gradient(90deg,transparent 93.3%, #B4B7B9 93.3%);\n",
       "}\n",
       "#T_4f6d4_row15_col2 {\n",
       "  width: 10em;\n",
       "  height: 80%;\n",
       "  background: linear-gradient(90deg,#B4B7B9 20.0%, transparent 20.0%);\n",
       "}\n",
       "#T_4f6d4_row16_col0 {\n",
       "  width: 10em;\n",
       "  height: 80%;\n",
       "  background: linear-gradient(90deg,#1AAF54 59.5%, transparent 59.5%);\n",
       "}\n",
       "#T_4f6d4_row16_col1 {\n",
       "  width: 10em;\n",
       "  height: 80%;\n",
       "  background: linear-gradient(90deg,transparent 68.9%, #B4B7B9 68.9%);\n",
       "}\n",
       "#T_4f6d4_row16_col2, #T_4f6d4_row24_col2 {\n",
       "  width: 10em;\n",
       "  height: 80%;\n",
       "  background: linear-gradient(90deg,#B4B7B9 40.0%, transparent 40.0%);\n",
       "}\n",
       "#T_4f6d4_row17_col0, #T_4f6d4_row18_col0 {\n",
       "  width: 10em;\n",
       "  height: 80%;\n",
       "  background: linear-gradient(90deg,#1AAF54 54.1%, transparent 54.1%);\n",
       "}\n",
       "#T_4f6d4_row17_col1 {\n",
       "  width: 10em;\n",
       "  height: 80%;\n",
       "  background: linear-gradient(90deg,transparent 53.3%, #B4B7B9 53.3%);\n",
       "}\n",
       "#T_4f6d4_row17_col2 {\n",
       "  width: 10em;\n",
       "  height: 80%;\n",
       "  background: linear-gradient(90deg,#B4B7B9 48.9%, transparent 48.9%);\n",
       "}\n",
       "#T_4f6d4_row18_col1, #T_4f6d4_row26_col1 {\n",
       "  width: 10em;\n",
       "  height: 80%;\n",
       "  background: linear-gradient(90deg,transparent 33.3%, #B4B7B9 33.3%);\n",
       "}\n",
       "#T_4f6d4_row18_col2 {\n",
       "  width: 10em;\n",
       "  height: 80%;\n",
       "  background: linear-gradient(90deg,#B4B7B9 68.9%, transparent 68.9%);\n",
       "}\n",
       "#T_4f6d4_row19_col0 {\n",
       "  width: 10em;\n",
       "  height: 80%;\n",
       "  background: linear-gradient(90deg,#1AAF54 51.4%, transparent 51.4%);\n",
       "}\n",
       "#T_4f6d4_row19_col1 {\n",
       "  width: 10em;\n",
       "  height: 80%;\n",
       "  background: linear-gradient(90deg,transparent 44.4%, #B4B7B9 44.4%);\n",
       "}\n",
       "#T_4f6d4_row19_col2 {\n",
       "  width: 10em;\n",
       "  height: 80%;\n",
       "  background: linear-gradient(90deg,#B4B7B9 55.6%, transparent 55.6%);\n",
       "}\n",
       "#T_4f6d4_row20_col0 {\n",
       "  width: 10em;\n",
       "  height: 80%;\n",
       "  background: linear-gradient(90deg,#1AAF54 48.6%, transparent 48.6%);\n",
       "}\n",
       "#T_4f6d4_row20_col1 {\n",
       "  width: 10em;\n",
       "  height: 80%;\n",
       "  background: linear-gradient(90deg,transparent 66.7%, #B4B7B9 66.7%);\n",
       "}\n",
       "#T_4f6d4_row20_col2 {\n",
       "  width: 10em;\n",
       "  height: 80%;\n",
       "  background: linear-gradient(90deg,#B4B7B9 26.7%, transparent 26.7%);\n",
       "}\n",
       "#T_4f6d4_row21_col0 {\n",
       "  width: 10em;\n",
       "  height: 80%;\n",
       "  background: linear-gradient(90deg,#1AAF54 37.8%, transparent 37.8%);\n",
       "}\n",
       "#T_4f6d4_row21_col1 {\n",
       "  width: 10em;\n",
       "  height: 80%;\n",
       "  background: linear-gradient(90deg,transparent 24.4%, #B4B7B9 24.4%);\n",
       "}\n",
       "#T_4f6d4_row22_col0 {\n",
       "  width: 10em;\n",
       "  height: 80%;\n",
       "  background: linear-gradient(90deg,#1AAF54 29.7%, transparent 29.7%);\n",
       "}\n",
       "#T_4f6d4_row22_col1 {\n",
       "  width: 10em;\n",
       "  height: 80%;\n",
       "  background: linear-gradient(90deg,transparent 37.8%, #B4B7B9 37.8%);\n",
       "}\n",
       "#T_4f6d4_row22_col2 {\n",
       "  width: 10em;\n",
       "  height: 80%;\n",
       "  background: linear-gradient(90deg,#B4B7B9 24.4%, transparent 24.4%);\n",
       "}\n",
       "#T_4f6d4_row23_col0 {\n",
       "  width: 10em;\n",
       "  height: 80%;\n",
       "  background: linear-gradient(90deg,#1AAF54 27.0%, transparent 27.0%);\n",
       "}\n",
       "#T_4f6d4_row23_col1, #T_4f6d4_row24_col1, #T_4f6d4_row29_col1 {\n",
       "  width: 10em;\n",
       "  height: 80%;\n",
       "  background: linear-gradient(90deg,transparent 15.6%, #B4B7B9 15.6%);\n",
       "}\n",
       "#T_4f6d4_row24_col0, #T_4f6d4_row25_col0 {\n",
       "  width: 10em;\n",
       "  height: 80%;\n",
       "  background: linear-gradient(90deg,#1AAF54 24.3%, transparent 24.3%);\n",
       "}\n",
       "#T_4f6d4_row25_col1 {\n",
       "  width: 10em;\n",
       "  height: 80%;\n",
       "  background: linear-gradient(90deg,transparent 28.9%, #B4B7B9 28.9%);\n",
       "}\n",
       "#T_4f6d4_row25_col2 {\n",
       "  width: 10em;\n",
       "  height: 80%;\n",
       "  background: linear-gradient(90deg,#B4B7B9 22.2%, transparent 22.2%);\n",
       "}\n",
       "#T_4f6d4_row26_col0 {\n",
       "  width: 10em;\n",
       "  height: 80%;\n",
       "  background: linear-gradient(90deg,#1AAF54 16.2%, transparent 16.2%);\n",
       "}\n",
       "#T_4f6d4_row26_col2 {\n",
       "  width: 10em;\n",
       "  height: 80%;\n",
       "  background: linear-gradient(90deg,#B4B7B9 6.7%, transparent 6.7%);\n",
       "}\n",
       "#T_4f6d4_row27_col0 {\n",
       "  width: 10em;\n",
       "  height: 80%;\n",
       "  background: linear-gradient(90deg,#1AAF54 13.5%, transparent 13.5%);\n",
       "}\n",
       "#T_4f6d4_row27_col1 {\n",
       "  width: 10em;\n",
       "  height: 80%;\n",
       "  background: linear-gradient(90deg, #B4B7B9 100.0%, transparent 100.0%, transparent 100.0%, #B4B7B9 100.0%);\n",
       "}\n",
       "#T_4f6d4_row27_col2 {\n",
       "  width: 10em;\n",
       "  height: 80%;\n",
       "  background: linear-gradient(90deg,#B4B7B9 35.6%, transparent 35.6%);\n",
       "}\n",
       "#T_4f6d4_row28_col0 {\n",
       "  width: 10em;\n",
       "  height: 80%;\n",
       "  background: linear-gradient(90deg,#1AAF54 8.1%, transparent 8.1%);\n",
       "}\n",
       "#T_4f6d4_row28_col1 {\n",
       "  width: 10em;\n",
       "  height: 80%;\n",
       "  background: linear-gradient(90deg,transparent 13.3%, #B4B7B9 13.3%);\n",
       "}\n",
       "#T_4f6d4_row28_col2 {\n",
       "  width: 10em;\n",
       "  height: 80%;\n",
       "  background: linear-gradient(90deg,#B4B7B9 11.1%, transparent 11.1%);\n",
       "}\n",
       "#T_4f6d4_row29_col0, #T_4f6d4_row29_col2 {\n",
       "  width: 10em;\n",
       "  height: 80%;\n",
       "}\n",
       "</style>\n",
       "<table id=\"T_4f6d4_\">\n",
       "  <thead>\n",
       "    <tr>\n",
       "      <th class=\"col_heading level0 col0\" >roc_auc Mean</th>\n",
       "      <th class=\"col_heading level0 col1\" >roc_auc 95CI.LO</th>\n",
       "      <th class=\"col_heading level0 col2\" >roc_auc 95CI.HI</th>\n",
       "      <th class=\"col_heading level0 col3\" >max_features</th>\n",
       "      <th class=\"col_heading level0 col4\" >n_estimators</th>\n",
       "      <th class=\"col_heading level0 col5\" >encoder</th>\n",
       "      <th class=\"col_heading level0 col6\" >scaler</th>\n",
       "    </tr>\n",
       "  </thead>\n",
       "  <tbody>\n",
       "    <tr>\n",
       "      <td id=\"T_4f6d4_row0_col0\" class=\"data row0 col0\" >0.773</td>\n",
       "      <td id=\"T_4f6d4_row0_col1\" class=\"data row0 col1\" >0.750</td>\n",
       "      <td id=\"T_4f6d4_row0_col2\" class=\"data row0 col2\" >0.796</td>\n",
       "      <td id=\"T_4f6d4_row0_col3\" class=\"data row0 col3\" >0.010</td>\n",
       "      <td id=\"T_4f6d4_row0_col4\" class=\"data row0 col4\" >2,897</td>\n",
       "      <td id=\"T_4f6d4_row0_col5\" class=\"data row0 col5\" >CustomOrdinalEncoder()</td>\n",
       "      <td id=\"T_4f6d4_row0_col6\" class=\"data row0 col6\" >StandardScaler()</td>\n",
       "    </tr>\n",
       "    <tr>\n",
       "      <td id=\"T_4f6d4_row1_col0\" class=\"data row1 col0\" >0.771</td>\n",
       "      <td id=\"T_4f6d4_row1_col1\" class=\"data row1 col1\" >0.748</td>\n",
       "      <td id=\"T_4f6d4_row1_col2\" class=\"data row1 col2\" >0.793</td>\n",
       "      <td id=\"T_4f6d4_row1_col3\" class=\"data row1 col3\" >0.014</td>\n",
       "      <td id=\"T_4f6d4_row1_col4\" class=\"data row1 col4\" >4,098</td>\n",
       "      <td id=\"T_4f6d4_row1_col5\" class=\"data row1 col5\" >CustomOrdinalEncoder()</td>\n",
       "      <td id=\"T_4f6d4_row1_col6\" class=\"data row1 col6\" >StandardScaler()</td>\n",
       "    </tr>\n",
       "    <tr>\n",
       "      <td id=\"T_4f6d4_row2_col0\" class=\"data row2 col0\" >0.769</td>\n",
       "      <td id=\"T_4f6d4_row2_col1\" class=\"data row2 col1\" >0.748</td>\n",
       "      <td id=\"T_4f6d4_row2_col2\" class=\"data row2 col2\" >0.791</td>\n",
       "      <td id=\"T_4f6d4_row2_col3\" class=\"data row2 col3\" >0.010</td>\n",
       "      <td id=\"T_4f6d4_row2_col4\" class=\"data row2 col4\" >4,328</td>\n",
       "      <td id=\"T_4f6d4_row2_col5\" class=\"data row2 col5\" >CustomOrdinalEncoder()</td>\n",
       "      <td id=\"T_4f6d4_row2_col6\" class=\"data row2 col6\" >StandardScaler()</td>\n",
       "    </tr>\n",
       "    <tr>\n",
       "      <td id=\"T_4f6d4_row3_col0\" class=\"data row3 col0\" >0.769</td>\n",
       "      <td id=\"T_4f6d4_row3_col1\" class=\"data row3 col1\" >0.734</td>\n",
       "      <td id=\"T_4f6d4_row3_col2\" class=\"data row3 col2\" >0.804</td>\n",
       "      <td id=\"T_4f6d4_row3_col3\" class=\"data row3 col3\" >0.011</td>\n",
       "      <td id=\"T_4f6d4_row3_col4\" class=\"data row3 col4\" >3,108</td>\n",
       "      <td id=\"T_4f6d4_row3_col5\" class=\"data row3 col5\" >CustomOrdinalEncoder()</td>\n",
       "      <td id=\"T_4f6d4_row3_col6\" class=\"data row3 col6\" >StandardScaler()</td>\n",
       "    </tr>\n",
       "    <tr>\n",
       "      <td id=\"T_4f6d4_row4_col0\" class=\"data row4 col0\" >0.769</td>\n",
       "      <td id=\"T_4f6d4_row4_col1\" class=\"data row4 col1\" >0.731</td>\n",
       "      <td id=\"T_4f6d4_row4_col2\" class=\"data row4 col2\" >0.806</td>\n",
       "      <td id=\"T_4f6d4_row4_col3\" class=\"data row4 col3\" >0.011</td>\n",
       "      <td id=\"T_4f6d4_row4_col4\" class=\"data row4 col4\" >2,164</td>\n",
       "      <td id=\"T_4f6d4_row4_col5\" class=\"data row4 col5\" >CustomOrdinalEncoder()</td>\n",
       "      <td id=\"T_4f6d4_row4_col6\" class=\"data row4 col6\" >StandardScaler()</td>\n",
       "    </tr>\n",
       "    <tr>\n",
       "      <td id=\"T_4f6d4_row5_col0\" class=\"data row5 col0\" >0.765</td>\n",
       "      <td id=\"T_4f6d4_row5_col1\" class=\"data row5 col1\" >0.734</td>\n",
       "      <td id=\"T_4f6d4_row5_col2\" class=\"data row5 col2\" >0.797</td>\n",
       "      <td id=\"T_4f6d4_row5_col3\" class=\"data row5 col3\" >0.186</td>\n",
       "      <td id=\"T_4f6d4_row5_col4\" class=\"data row5 col4\" >2,512</td>\n",
       "      <td id=\"T_4f6d4_row5_col5\" class=\"data row5 col5\" >CustomOrdinalEncoder()</td>\n",
       "      <td id=\"T_4f6d4_row5_col6\" class=\"data row5 col6\" >StandardScaler()</td>\n",
       "    </tr>\n",
       "    <tr>\n",
       "      <td id=\"T_4f6d4_row6_col0\" class=\"data row6 col0\" >0.765</td>\n",
       "      <td id=\"T_4f6d4_row6_col1\" class=\"data row6 col1\" >0.733</td>\n",
       "      <td id=\"T_4f6d4_row6_col2\" class=\"data row6 col2\" >0.797</td>\n",
       "      <td id=\"T_4f6d4_row6_col3\" class=\"data row6 col3\" >0.010</td>\n",
       "      <td id=\"T_4f6d4_row6_col4\" class=\"data row6 col4\" >3,042</td>\n",
       "      <td id=\"T_4f6d4_row6_col5\" class=\"data row6 col5\" >CustomOrdinalEncoder()</td>\n",
       "      <td id=\"T_4f6d4_row6_col6\" class=\"data row6 col6\" >StandardScaler()</td>\n",
       "    </tr>\n",
       "    <tr>\n",
       "      <td id=\"T_4f6d4_row7_col0\" class=\"data row7 col0\" >0.765</td>\n",
       "      <td id=\"T_4f6d4_row7_col1\" class=\"data row7 col1\" >0.734</td>\n",
       "      <td id=\"T_4f6d4_row7_col2\" class=\"data row7 col2\" >0.795</td>\n",
       "      <td id=\"T_4f6d4_row7_col3\" class=\"data row7 col3\" >0.010</td>\n",
       "      <td id=\"T_4f6d4_row7_col4\" class=\"data row7 col4\" >3,914</td>\n",
       "      <td id=\"T_4f6d4_row7_col5\" class=\"data row7 col5\" >OneHotEncoder()</td>\n",
       "      <td id=\"T_4f6d4_row7_col6\" class=\"data row7 col6\" >StandardScaler()</td>\n",
       "    </tr>\n",
       "    <tr>\n",
       "      <td id=\"T_4f6d4_row8_col0\" class=\"data row8 col0\" >0.764</td>\n",
       "      <td id=\"T_4f6d4_row8_col1\" class=\"data row8 col1\" >0.745</td>\n",
       "      <td id=\"T_4f6d4_row8_col2\" class=\"data row8 col2\" >0.784</td>\n",
       "      <td id=\"T_4f6d4_row8_col3\" class=\"data row8 col3\" >0.010</td>\n",
       "      <td id=\"T_4f6d4_row8_col4\" class=\"data row8 col4\" >3,887</td>\n",
       "      <td id=\"T_4f6d4_row8_col5\" class=\"data row8 col5\" >CustomOrdinalEncoder()</td>\n",
       "      <td id=\"T_4f6d4_row8_col6\" class=\"data row8 col6\" >MinMaxScaler()</td>\n",
       "    </tr>\n",
       "    <tr>\n",
       "      <td id=\"T_4f6d4_row9_col0\" class=\"data row9 col0\" >0.763</td>\n",
       "      <td id=\"T_4f6d4_row9_col1\" class=\"data row9 col1\" >0.740</td>\n",
       "      <td id=\"T_4f6d4_row9_col2\" class=\"data row9 col2\" >0.785</td>\n",
       "      <td id=\"T_4f6d4_row9_col3\" class=\"data row9 col3\" >0.149</td>\n",
       "      <td id=\"T_4f6d4_row9_col4\" class=\"data row9 col4\" >768</td>\n",
       "      <td id=\"T_4f6d4_row9_col5\" class=\"data row9 col5\" >CustomOrdinalEncoder()</td>\n",
       "      <td id=\"T_4f6d4_row9_col6\" class=\"data row9 col6\" >MinMaxScaler()</td>\n",
       "    </tr>\n",
       "    <tr>\n",
       "      <td id=\"T_4f6d4_row10_col0\" class=\"data row10 col0\" >0.762</td>\n",
       "      <td id=\"T_4f6d4_row10_col1\" class=\"data row10 col1\" >0.724</td>\n",
       "      <td id=\"T_4f6d4_row10_col2\" class=\"data row10 col2\" >0.801</td>\n",
       "      <td id=\"T_4f6d4_row10_col3\" class=\"data row10 col3\" >0.011</td>\n",
       "      <td id=\"T_4f6d4_row10_col4\" class=\"data row10 col4\" >513</td>\n",
       "      <td id=\"T_4f6d4_row10_col5\" class=\"data row10 col5\" >OneHotEncoder()</td>\n",
       "      <td id=\"T_4f6d4_row10_col6\" class=\"data row10 col6\" >StandardScaler()</td>\n",
       "    </tr>\n",
       "    <tr>\n",
       "      <td id=\"T_4f6d4_row11_col0\" class=\"data row11 col0\" >0.761</td>\n",
       "      <td id=\"T_4f6d4_row11_col1\" class=\"data row11 col1\" >0.741</td>\n",
       "      <td id=\"T_4f6d4_row11_col2\" class=\"data row11 col2\" >0.781</td>\n",
       "      <td id=\"T_4f6d4_row11_col3\" class=\"data row11 col3\" >0.010</td>\n",
       "      <td id=\"T_4f6d4_row11_col4\" class=\"data row11 col4\" >2,909</td>\n",
       "      <td id=\"T_4f6d4_row11_col5\" class=\"data row11 col5\" >OneHotEncoder()</td>\n",
       "      <td id=\"T_4f6d4_row11_col6\" class=\"data row11 col6\" >MinMaxScaler()</td>\n",
       "    </tr>\n",
       "    <tr>\n",
       "      <td id=\"T_4f6d4_row12_col0\" class=\"data row12 col0\" >0.760</td>\n",
       "      <td id=\"T_4f6d4_row12_col1\" class=\"data row12 col1\" >0.740</td>\n",
       "      <td id=\"T_4f6d4_row12_col2\" class=\"data row12 col2\" >0.780</td>\n",
       "      <td id=\"T_4f6d4_row12_col3\" class=\"data row12 col3\" >0.010</td>\n",
       "      <td id=\"T_4f6d4_row12_col4\" class=\"data row12 col4\" >5,000</td>\n",
       "      <td id=\"T_4f6d4_row12_col5\" class=\"data row12 col5\" >CustomOrdinalEncoder()</td>\n",
       "      <td id=\"T_4f6d4_row12_col6\" class=\"data row12 col6\" >StandardScaler()</td>\n",
       "    </tr>\n",
       "    <tr>\n",
       "      <td id=\"T_4f6d4_row13_col0\" class=\"data row13 col0\" >0.760</td>\n",
       "      <td id=\"T_4f6d4_row13_col1\" class=\"data row13 col1\" >0.738</td>\n",
       "      <td id=\"T_4f6d4_row13_col2\" class=\"data row13 col2\" >0.782</td>\n",
       "      <td id=\"T_4f6d4_row13_col3\" class=\"data row13 col3\" >0.150</td>\n",
       "      <td id=\"T_4f6d4_row13_col4\" class=\"data row13 col4\" >145</td>\n",
       "      <td id=\"T_4f6d4_row13_col5\" class=\"data row13 col5\" >CustomOrdinalEncoder()</td>\n",
       "      <td id=\"T_4f6d4_row13_col6\" class=\"data row13 col6\" >StandardScaler()</td>\n",
       "    </tr>\n",
       "    <tr>\n",
       "      <td id=\"T_4f6d4_row14_col0\" class=\"data row14 col0\" >0.760</td>\n",
       "      <td id=\"T_4f6d4_row14_col1\" class=\"data row14 col1\" >0.744</td>\n",
       "      <td id=\"T_4f6d4_row14_col2\" class=\"data row14 col2\" >0.775</td>\n",
       "      <td id=\"T_4f6d4_row14_col3\" class=\"data row14 col3\" >0.412</td>\n",
       "      <td id=\"T_4f6d4_row14_col4\" class=\"data row14 col4\" >3,652</td>\n",
       "      <td id=\"T_4f6d4_row14_col5\" class=\"data row14 col5\" >CustomOrdinalEncoder()</td>\n",
       "      <td id=\"T_4f6d4_row14_col6\" class=\"data row14 col6\" >StandardScaler()</td>\n",
       "    </tr>\n",
       "    <tr>\n",
       "      <td id=\"T_4f6d4_row15_col0\" class=\"data row15 col0\" >0.759</td>\n",
       "      <td id=\"T_4f6d4_row15_col1\" class=\"data row15 col1\" >0.747</td>\n",
       "      <td id=\"T_4f6d4_row15_col2\" class=\"data row15 col2\" >0.770</td>\n",
       "      <td id=\"T_4f6d4_row15_col3\" class=\"data row15 col3\" >0.416</td>\n",
       "      <td id=\"T_4f6d4_row15_col4\" class=\"data row15 col4\" >64</td>\n",
       "      <td id=\"T_4f6d4_row15_col5\" class=\"data row15 col5\" >OneHotEncoder()</td>\n",
       "      <td id=\"T_4f6d4_row15_col6\" class=\"data row15 col6\" >MinMaxScaler()</td>\n",
       "    </tr>\n",
       "    <tr>\n",
       "      <td id=\"T_4f6d4_row16_col0\" class=\"data row16 col0\" >0.758</td>\n",
       "      <td id=\"T_4f6d4_row16_col1\" class=\"data row16 col1\" >0.736</td>\n",
       "      <td id=\"T_4f6d4_row16_col2\" class=\"data row16 col2\" >0.779</td>\n",
       "      <td id=\"T_4f6d4_row16_col3\" class=\"data row16 col3\" >0.189</td>\n",
       "      <td id=\"T_4f6d4_row16_col4\" class=\"data row16 col4\" >4,910</td>\n",
       "      <td id=\"T_4f6d4_row16_col5\" class=\"data row16 col5\" >OneHotEncoder()</td>\n",
       "      <td id=\"T_4f6d4_row16_col6\" class=\"data row16 col6\" >StandardScaler()</td>\n",
       "    </tr>\n",
       "    <tr>\n",
       "      <td id=\"T_4f6d4_row17_col0\" class=\"data row17 col0\" >0.756</td>\n",
       "      <td id=\"T_4f6d4_row17_col1\" class=\"data row17 col1\" >0.729</td>\n",
       "      <td id=\"T_4f6d4_row17_col2\" class=\"data row17 col2\" >0.783</td>\n",
       "      <td id=\"T_4f6d4_row17_col3\" class=\"data row17 col3\" >0.010</td>\n",
       "      <td id=\"T_4f6d4_row17_col4\" class=\"data row17 col4\" >617</td>\n",
       "      <td id=\"T_4f6d4_row17_col5\" class=\"data row17 col5\" >CustomOrdinalEncoder()</td>\n",
       "      <td id=\"T_4f6d4_row17_col6\" class=\"data row17 col6\" >MinMaxScaler()</td>\n",
       "    </tr>\n",
       "    <tr>\n",
       "      <td id=\"T_4f6d4_row18_col0\" class=\"data row18 col0\" >0.756</td>\n",
       "      <td id=\"T_4f6d4_row18_col1\" class=\"data row18 col1\" >0.720</td>\n",
       "      <td id=\"T_4f6d4_row18_col2\" class=\"data row18 col2\" >0.792</td>\n",
       "      <td id=\"T_4f6d4_row18_col3\" class=\"data row18 col3\" >0.317</td>\n",
       "      <td id=\"T_4f6d4_row18_col4\" class=\"data row18 col4\" >1,269</td>\n",
       "      <td id=\"T_4f6d4_row18_col5\" class=\"data row18 col5\" >OneHotEncoder()</td>\n",
       "      <td id=\"T_4f6d4_row18_col6\" class=\"data row18 col6\" >StandardScaler()</td>\n",
       "    </tr>\n",
       "    <tr>\n",
       "      <td id=\"T_4f6d4_row19_col0\" class=\"data row19 col0\" >0.755</td>\n",
       "      <td id=\"T_4f6d4_row19_col1\" class=\"data row19 col1\" >0.725</td>\n",
       "      <td id=\"T_4f6d4_row19_col2\" class=\"data row19 col2\" >0.786</td>\n",
       "      <td id=\"T_4f6d4_row19_col3\" class=\"data row19 col3\" >0.164</td>\n",
       "      <td id=\"T_4f6d4_row19_col4\" class=\"data row19 col4\" >5,000</td>\n",
       "      <td id=\"T_4f6d4_row19_col5\" class=\"data row19 col5\" >CustomOrdinalEncoder()</td>\n",
       "      <td id=\"T_4f6d4_row19_col6\" class=\"data row19 col6\" >StandardScaler()</td>\n",
       "    </tr>\n",
       "    <tr>\n",
       "      <td id=\"T_4f6d4_row20_col0\" class=\"data row20 col0\" >0.754</td>\n",
       "      <td id=\"T_4f6d4_row20_col1\" class=\"data row20 col1\" >0.735</td>\n",
       "      <td id=\"T_4f6d4_row20_col2\" class=\"data row20 col2\" >0.773</td>\n",
       "      <td id=\"T_4f6d4_row20_col3\" class=\"data row20 col3\" >0.831</td>\n",
       "      <td id=\"T_4f6d4_row20_col4\" class=\"data row20 col4\" >4,422</td>\n",
       "      <td id=\"T_4f6d4_row20_col5\" class=\"data row20 col5\" >OneHotEncoder()</td>\n",
       "      <td id=\"T_4f6d4_row20_col6\" class=\"data row20 col6\" >StandardScaler()</td>\n",
       "    </tr>\n",
       "    <tr>\n",
       "      <td id=\"T_4f6d4_row21_col0\" class=\"data row21 col0\" >0.750</td>\n",
       "      <td id=\"T_4f6d4_row21_col1\" class=\"data row21 col1\" >0.716</td>\n",
       "      <td id=\"T_4f6d4_row21_col2\" class=\"data row21 col2\" >0.784</td>\n",
       "      <td id=\"T_4f6d4_row21_col3\" class=\"data row21 col3\" >0.615</td>\n",
       "      <td id=\"T_4f6d4_row21_col4\" class=\"data row21 col4\" >3,888</td>\n",
       "      <td id=\"T_4f6d4_row21_col5\" class=\"data row21 col5\" >OneHotEncoder()</td>\n",
       "      <td id=\"T_4f6d4_row21_col6\" class=\"data row21 col6\" >StandardScaler()</td>\n",
       "    </tr>\n",
       "    <tr>\n",
       "      <td id=\"T_4f6d4_row22_col0\" class=\"data row22 col0\" >0.747</td>\n",
       "      <td id=\"T_4f6d4_row22_col1\" class=\"data row22 col1\" >0.722</td>\n",
       "      <td id=\"T_4f6d4_row22_col2\" class=\"data row22 col2\" >0.772</td>\n",
       "      <td id=\"T_4f6d4_row22_col3\" class=\"data row22 col3\" >0.446</td>\n",
       "      <td id=\"T_4f6d4_row22_col4\" class=\"data row22 col4\" >4,598</td>\n",
       "      <td id=\"T_4f6d4_row22_col5\" class=\"data row22 col5\" >OneHotEncoder()</td>\n",
       "      <td id=\"T_4f6d4_row22_col6\" class=\"data row22 col6\" >MinMaxScaler()</td>\n",
       "    </tr>\n",
       "    <tr>\n",
       "      <td id=\"T_4f6d4_row23_col0\" class=\"data row23 col0\" >0.746</td>\n",
       "      <td id=\"T_4f6d4_row23_col1\" class=\"data row23 col1\" >0.712</td>\n",
       "      <td id=\"T_4f6d4_row23_col2\" class=\"data row23 col2\" >0.781</td>\n",
       "      <td id=\"T_4f6d4_row23_col3\" class=\"data row23 col3\" >0.990</td>\n",
       "      <td id=\"T_4f6d4_row23_col4\" class=\"data row23 col4\" >3,122</td>\n",
       "      <td id=\"T_4f6d4_row23_col5\" class=\"data row23 col5\" >OneHotEncoder()</td>\n",
       "      <td id=\"T_4f6d4_row23_col6\" class=\"data row23 col6\" >MinMaxScaler()</td>\n",
       "    </tr>\n",
       "    <tr>\n",
       "      <td id=\"T_4f6d4_row24_col0\" class=\"data row24 col0\" >0.745</td>\n",
       "      <td id=\"T_4f6d4_row24_col1\" class=\"data row24 col1\" >0.712</td>\n",
       "      <td id=\"T_4f6d4_row24_col2\" class=\"data row24 col2\" >0.779</td>\n",
       "      <td id=\"T_4f6d4_row24_col3\" class=\"data row24 col3\" >0.729</td>\n",
       "      <td id=\"T_4f6d4_row24_col4\" class=\"data row24 col4\" >4,700</td>\n",
       "      <td id=\"T_4f6d4_row24_col5\" class=\"data row24 col5\" >OneHotEncoder()</td>\n",
       "      <td id=\"T_4f6d4_row24_col6\" class=\"data row24 col6\" >StandardScaler()</td>\n",
       "    </tr>\n",
       "    <tr>\n",
       "      <td id=\"T_4f6d4_row25_col0\" class=\"data row25 col0\" >0.745</td>\n",
       "      <td id=\"T_4f6d4_row25_col1\" class=\"data row25 col1\" >0.718</td>\n",
       "      <td id=\"T_4f6d4_row25_col2\" class=\"data row25 col2\" >0.771</td>\n",
       "      <td id=\"T_4f6d4_row25_col3\" class=\"data row25 col3\" >0.543</td>\n",
       "      <td id=\"T_4f6d4_row25_col4\" class=\"data row25 col4\" >4,604</td>\n",
       "      <td id=\"T_4f6d4_row25_col5\" class=\"data row25 col5\" >OneHotEncoder()</td>\n",
       "      <td id=\"T_4f6d4_row25_col6\" class=\"data row25 col6\" >MinMaxScaler()</td>\n",
       "    </tr>\n",
       "    <tr>\n",
       "      <td id=\"T_4f6d4_row26_col0\" class=\"data row26 col0\" >0.742</td>\n",
       "      <td id=\"T_4f6d4_row26_col1\" class=\"data row26 col1\" >0.720</td>\n",
       "      <td id=\"T_4f6d4_row26_col2\" class=\"data row26 col2\" >0.764</td>\n",
       "      <td id=\"T_4f6d4_row26_col3\" class=\"data row26 col3\" >0.983</td>\n",
       "      <td id=\"T_4f6d4_row26_col4\" class=\"data row26 col4\" >71</td>\n",
       "      <td id=\"T_4f6d4_row26_col5\" class=\"data row26 col5\" >OneHotEncoder()</td>\n",
       "      <td id=\"T_4f6d4_row26_col6\" class=\"data row26 col6\" >MinMaxScaler()</td>\n",
       "    </tr>\n",
       "    <tr>\n",
       "      <td id=\"T_4f6d4_row27_col0\" class=\"data row27 col0\" >0.741</td>\n",
       "      <td id=\"T_4f6d4_row27_col1\" class=\"data row27 col1\" >0.705</td>\n",
       "      <td id=\"T_4f6d4_row27_col2\" class=\"data row27 col2\" >0.777</td>\n",
       "      <td id=\"T_4f6d4_row27_col3\" class=\"data row27 col3\" >0.806</td>\n",
       "      <td id=\"T_4f6d4_row27_col4\" class=\"data row27 col4\" >901</td>\n",
       "      <td id=\"T_4f6d4_row27_col5\" class=\"data row27 col5\" >CustomOrdinalEncoder()</td>\n",
       "      <td id=\"T_4f6d4_row27_col6\" class=\"data row27 col6\" >StandardScaler()</td>\n",
       "    </tr>\n",
       "    <tr>\n",
       "      <td id=\"T_4f6d4_row28_col0\" class=\"data row28 col0\" >0.739</td>\n",
       "      <td id=\"T_4f6d4_row28_col1\" class=\"data row28 col1\" >0.711</td>\n",
       "      <td id=\"T_4f6d4_row28_col2\" class=\"data row28 col2\" >0.766</td>\n",
       "      <td id=\"T_4f6d4_row28_col3\" class=\"data row28 col3\" >0.946</td>\n",
       "      <td id=\"T_4f6d4_row28_col4\" class=\"data row28 col4\" >3,518</td>\n",
       "      <td id=\"T_4f6d4_row28_col5\" class=\"data row28 col5\" >CustomOrdinalEncoder()</td>\n",
       "      <td id=\"T_4f6d4_row28_col6\" class=\"data row28 col6\" >MinMaxScaler()</td>\n",
       "    </tr>\n",
       "    <tr>\n",
       "      <td id=\"T_4f6d4_row29_col0\" class=\"data row29 col0\" >0.736</td>\n",
       "      <td id=\"T_4f6d4_row29_col1\" class=\"data row29 col1\" >0.712</td>\n",
       "      <td id=\"T_4f6d4_row29_col2\" class=\"data row29 col2\" >0.761</td>\n",
       "      <td id=\"T_4f6d4_row29_col3\" class=\"data row29 col3\" >0.794</td>\n",
       "      <td id=\"T_4f6d4_row29_col4\" class=\"data row29 col4\" >2,218</td>\n",
       "      <td id=\"T_4f6d4_row29_col5\" class=\"data row29 col5\" >CustomOrdinalEncoder()</td>\n",
       "      <td id=\"T_4f6d4_row29_col6\" class=\"data row29 col6\" >StandardScaler()</td>\n",
       "    </tr>\n",
       "  </tbody>\n",
       "</table>\n"
      ],
      "text/plain": [
       "<pandas.io.formats.style.Styler at 0x7fb5a817c2e0>"
      ]
     },
     "execution_count": 25,
     "metadata": {},
     "output_type": "execute_result"
    }
   ],
   "source": [
    "parser.to_formatted_dataframe()"
   ]
  },
  {
   "cell_type": "code",
   "execution_count": 26,
   "id": "47ce70ff",
   "metadata": {},
   "outputs": [
    {
     "data": {
      "text/plain": [
       "array([15, 21, 23, 28, 30, 25, 22, 26, 29,  2, 11, 10,  9, 14, 13, 24, 12,\n",
       "       17, 18, 20,  3,  6,  8, 19,  5,  4, 27,  7,  1, 16])"
      ]
     },
     "execution_count": 26,
     "metadata": {},
     "output_type": "execute_result"
    }
   ],
   "source": [
    "# gives the score rank for each index\n",
    "# e.g. array([4, 2, 1, 3)\n",
    "# the 1st iteration (i.e. set of params) was the worst\n",
    "# the 3rd iteration was the best.\n",
    "parser.primary_score_iteration_ranking"
   ]
  },
  {
   "cell_type": "code",
   "execution_count": 27,
   "id": "c14d60dd",
   "metadata": {},
   "outputs": [
    {
     "data": {
      "text/plain": [
       "array([28,  9, 20, 25, 24, 21, 27, 22, 12, 11, 10, 16, 14, 13,  0, 29, 17,\n",
       "       18, 23, 19,  1,  6,  2, 15,  5,  7, 26,  3,  8,  4])"
      ]
     },
     "execution_count": 27,
     "metadata": {},
     "output_type": "execute_result"
    }
   ],
   "source": [
    "# gives the \n",
    "# e.g. parser.primary_score_iteration_ranking of array([4, 2, 1, 3)\n",
    "# would return [2, 1, 4, 0] because index 2 (i.e. 3rd iteration) was the best, so it is the first index;\n",
    "# and index 0 (i.e. first iteration) was the was\n",
    "parser.primary_score_best_indexes"
   ]
  },
  {
   "cell_type": "code",
   "execution_count": 28,
   "id": "31f0b98a",
   "metadata": {
    "pycharm": {
     "name": "#%%\n"
    }
   },
   "outputs": [
    {
     "data": {
      "text/plain": [
       "0.7727484873094479"
      ]
     },
     "execution_count": 28,
     "metadata": {},
     "output_type": "execute_result"
    }
   ],
   "source": [
    "parser.best_primary_score"
   ]
  },
  {
   "cell_type": "code",
   "execution_count": 29,
   "id": "59c9c626",
   "metadata": {},
   "outputs": [
    {
     "data": {
      "text/plain": [
       "{'max_features': 0.01,\n",
       " 'n_estimators': 2897,\n",
       " 'encoder': 'CustomOrdinalEncoder()',\n",
       " 'imputer': 'SimpleImputer()',\n",
       " 'scaler': 'StandardScaler()'}"
      ]
     },
     "execution_count": 29,
     "metadata": {},
     "output_type": "execute_result"
    }
   ],
   "source": [
    "parser.best_primary_score_params()"
   ]
  },
  {
   "cell_type": "code",
   "execution_count": 30,
   "id": "85889c08",
   "metadata": {},
   "outputs": [],
   "source": [
    "# create the labels that will be used in the plotly hover text\n",
    "score_df = parser.to_dataframe(sort_by_score=False)\n",
    "score_df['labels'] = [x.replace('{', '<br>').replace(', ', '<br>').replace('}', '')\n",
    "                      for x in parser.iteration_labels(order_from_best_to_worst=False)]"
   ]
  },
  {
   "cell_type": "code",
   "execution_count": 31,
   "id": "b429501c",
   "metadata": {},
   "outputs": [
    {
     "data": {
      "text/html": [
       "<div>\n",
       "<style scoped>\n",
       "    .dataframe tbody tr th:only-of-type {\n",
       "        vertical-align: middle;\n",
       "    }\n",
       "\n",
       "    .dataframe tbody tr th {\n",
       "        vertical-align: top;\n",
       "    }\n",
       "\n",
       "    .dataframe thead th {\n",
       "        text-align: right;\n",
       "    }\n",
       "</style>\n",
       "<table border=\"1\" class=\"dataframe\">\n",
       "  <thead>\n",
       "    <tr style=\"text-align: right;\">\n",
       "      <th></th>\n",
       "      <th>roc_auc Mean</th>\n",
       "      <th>roc_auc 95CI.LO</th>\n",
       "      <th>roc_auc 95CI.HI</th>\n",
       "      <th>max_features</th>\n",
       "      <th>n_estimators</th>\n",
       "      <th>encoder</th>\n",
       "      <th>imputer</th>\n",
       "      <th>scaler</th>\n",
       "      <th>labels</th>\n",
       "    </tr>\n",
       "  </thead>\n",
       "  <tbody>\n",
       "    <tr>\n",
       "      <th>0</th>\n",
       "      <td>0.759555</td>\n",
       "      <td>0.744368</td>\n",
       "      <td>0.774743</td>\n",
       "      <td>0.411902</td>\n",
       "      <td>3652</td>\n",
       "      <td>CustomOrdinalEncoder()</td>\n",
       "      <td>SimpleImputer()</td>\n",
       "      <td>StandardScaler()</td>\n",
       "      <td>&lt;br&gt;max_features: 0.4119018796762476&lt;br&gt;n_esti...</td>\n",
       "    </tr>\n",
       "  </tbody>\n",
       "</table>\n",
       "</div>"
      ],
      "text/plain": [
       "   roc_auc Mean  roc_auc 95CI.LO  roc_auc 95CI.HI  max_features  n_estimators  \\\n",
       "0      0.759555         0.744368         0.774743      0.411902          3652   \n",
       "\n",
       "                  encoder          imputer            scaler  \\\n",
       "0  CustomOrdinalEncoder()  SimpleImputer()  StandardScaler()   \n",
       "\n",
       "                                              labels  \n",
       "0  <br>max_features: 0.4119018796762476<br>n_esti...  "
      ]
     },
     "execution_count": 31,
     "metadata": {},
     "output_type": "execute_result"
    }
   ],
   "source": [
    "score_df.head(1)"
   ]
  },
  {
   "cell_type": "markdown",
   "id": "59fde126",
   "metadata": {},
   "source": [
    "## BayesSearchCV Performance Over Time"
   ]
  },
  {
   "cell_type": "code",
   "execution_count": 60,
   "id": "c506473e",
   "metadata": {
    "pycharm": {
     "name": "#%%\n"
    }
   },
   "outputs": [
    {
     "data": {
      "text/html": [
       "<div>                            <div id=\"6e7dc294-0334-48ce-9d4c-1c02ec1099ee\" class=\"plotly-graph-div\" style=\"height:600px; width:970.8203932499999px;\"></div>            <script type=\"text/javascript\">                require([\"plotly\"], function(Plotly) {                    window.PLOTLYENV=window.PLOTLYENV || {};                                    if (document.getElementById(\"6e7dc294-0334-48ce-9d4c-1c02ec1099ee\")) {                    Plotly.newPlot(                        \"6e7dc294-0334-48ce-9d4c-1c02ec1099ee\",                        [{\"customdata\":[[\"<br>max_features: 0.4119018796762476<br>n_estimators: 3652<br>encoder: CustomOrdinalEncoder()<br>imputer: SimpleImputer()<br>scaler: StandardScaler()\"],[\"<br>max_features: 0.8306405884422187<br>n_estimators: 4422<br>encoder: OneHotEncoder()<br>imputer: SimpleImputer()<br>scaler: StandardScaler()\"],[\"<br>max_features: 0.4459358620551288<br>n_estimators: 4598<br>encoder: OneHotEncoder()<br>imputer: SimpleImputer()<br>scaler: MinMaxScaler()\"],[\"<br>max_features: 0.8061480685902161<br>n_estimators: 901<br>encoder: CustomOrdinalEncoder()<br>imputer: SimpleImputer()<br>scaler: StandardScaler()\"],[\"<br>max_features: 0.7935623727750296<br>n_estimators: 2218<br>encoder: CustomOrdinalEncoder()<br>imputer: SimpleImputer()<br>scaler: StandardScaler()\"],[\"<br>max_features: 0.7293474576258571<br>n_estimators: 4700<br>encoder: OneHotEncoder()<br>imputer: SimpleImputer()<br>scaler: StandardScaler()\"],[\"<br>max_features: 0.61473777133227<br>n_estimators: 3888<br>encoder: OneHotEncoder()<br>imputer: SimpleImputer()<br>scaler: StandardScaler()\"],[\"<br>max_features: 0.5425350063365063<br>n_estimators: 4604<br>encoder: OneHotEncoder()<br>imputer: SimpleImputer()<br>scaler: MinMaxScaler()\"],[\"<br>max_features: 0.9463684265837298<br>n_estimators: 3518<br>encoder: CustomOrdinalEncoder()<br>imputer: SimpleImputer()<br>scaler: MinMaxScaler()\"],[\"<br>max_features: 0.013557701109648362<br>n_estimators: 4098<br>encoder: CustomOrdinalEncoder()<br>imputer: SimpleImputer()<br>scaler: StandardScaler()\"],[\"<br>max_features: 0.01059845254936339<br>n_estimators: 513<br>encoder: OneHotEncoder()<br>imputer: SimpleImputer()<br>scaler: StandardScaler()\"],[\"<br>max_features: 0.14937598890580855<br>n_estimators: 768<br>encoder: CustomOrdinalEncoder()<br>imputer: SimpleImputer()<br>scaler: MinMaxScaler()\"],[\"<br>max_features: 0.01<br>n_estimators: 3887<br>encoder: CustomOrdinalEncoder()<br>imputer: SimpleImputer()<br>scaler: MinMaxScaler()\"],[\"<br>max_features: 0.1504309281923324<br>n_estimators: 145<br>encoder: CustomOrdinalEncoder()<br>imputer: SimpleImputer()<br>scaler: StandardScaler()\"],[\"<br>max_features: 0.01<br>n_estimators: 5000<br>encoder: CustomOrdinalEncoder()<br>imputer: SimpleImputer()<br>scaler: StandardScaler()\"],[\"<br>max_features: 0.9897553594376771<br>n_estimators: 3122<br>encoder: OneHotEncoder()<br>imputer: SimpleImputer()<br>scaler: MinMaxScaler()\"],[\"<br>max_features: 0.010339616430157655<br>n_estimators: 2909<br>encoder: OneHotEncoder()<br>imputer: SimpleImputer()<br>scaler: MinMaxScaler()\"],[\"<br>max_features: 0.1885825691487686<br>n_estimators: 4910<br>encoder: OneHotEncoder()<br>imputer: SimpleImputer()<br>scaler: StandardScaler()\"],[\"<br>max_features: 0.01<br>n_estimators: 617<br>encoder: CustomOrdinalEncoder()<br>imputer: SimpleImputer()<br>scaler: MinMaxScaler()\"],[\"<br>max_features: 0.16407535958814506<br>n_estimators: 5000<br>encoder: CustomOrdinalEncoder()<br>imputer: SimpleImputer()<br>scaler: StandardScaler()\"],[\"<br>max_features: 0.01<br>n_estimators: 4328<br>encoder: CustomOrdinalEncoder()<br>imputer: SimpleImputer()<br>scaler: StandardScaler()\"],[\"<br>max_features: 0.1863010023894987<br>n_estimators: 2512<br>encoder: CustomOrdinalEncoder()<br>imputer: SimpleImputer()<br>scaler: StandardScaler()\"],[\"<br>max_features: 0.01<br>n_estimators: 3914<br>encoder: OneHotEncoder()<br>imputer: SimpleImputer()<br>scaler: StandardScaler()\"],[\"<br>max_features: 0.31653426526434375<br>n_estimators: 1269<br>encoder: OneHotEncoder()<br>imputer: SimpleImputer()<br>scaler: StandardScaler()\"],[\"<br>max_features: 0.01149102092553551<br>n_estimators: 2164<br>encoder: CustomOrdinalEncoder()<br>imputer: SimpleImputer()<br>scaler: StandardScaler()\"],[\"<br>max_features: 0.010686071148244897<br>n_estimators: 3108<br>encoder: CustomOrdinalEncoder()<br>imputer: SimpleImputer()<br>scaler: StandardScaler()\"],[\"<br>max_features: 0.9825428015441334<br>n_estimators: 71<br>encoder: OneHotEncoder()<br>imputer: SimpleImputer()<br>scaler: MinMaxScaler()\"],[\"<br>max_features: 0.01<br>n_estimators: 3042<br>encoder: CustomOrdinalEncoder()<br>imputer: SimpleImputer()<br>scaler: StandardScaler()\"],[\"<br>max_features: 0.01<br>n_estimators: 2897<br>encoder: CustomOrdinalEncoder()<br>imputer: SimpleImputer()<br>scaler: StandardScaler()\"],[\"<br>max_features: 0.4157144502077677<br>n_estimators: 64<br>encoder: OneHotEncoder()<br>imputer: SimpleImputer()<br>scaler: MinMaxScaler()\"]],\"hovertemplate\":\"Iteration: %{x}<br>roc_auc Mean: %{y}<br><br>Parameters: %{customdata[0]}\",\"legendgroup\":\"\",\"marker\":{\"color\":[0.4119018796762476,0.8306405884422187,0.4459358620551288,0.8061480685902161,0.7935623727750296,0.7293474576258571,0.61473777133227,0.5425350063365063,0.9463684265837298,0.013557701109648362,0.01059845254936339,0.14937598890580855,0.01,0.1504309281923324,0.01,0.9897553594376771,0.010339616430157655,0.1885825691487686,0.01,0.16407535958814506,0.01,0.1863010023894987,0.01,0.31653426526434375,0.01149102092553551,0.010686071148244897,0.9825428015441334,0.01,0.01,0.4157144502077677],\"coloraxis\":\"coloraxis\",\"size\":[3652,4422,4598,901,2218,4700,3888,4604,3518,4098,513,768,3887,145,5000,3122,2909,4910,617,5000,4328,2512,3914,1269,2164,3108,71,3042,2897,64],\"sizemode\":\"area\",\"sizeref\":12.5,\"symbol\":\"circle\"},\"mode\":\"markers\",\"name\":\"\",\"orientation\":\"v\",\"showlegend\":false,\"x\":[0,1,2,3,4,5,6,7,8,9,10,11,12,13,14,15,16,17,18,19,20,21,22,23,24,25,26,27,28,29],\"xaxis\":\"x\",\"y\":[0.7595553575858905,0.7541682154383448,0.7471217042813556,0.740774605392333,0.7363377356890839,0.7453682770791634,0.7499796767191139,0.7448948382421912,0.7387263823339065,0.7706593234508836,0.7621870502801479,0.7625364955124344,0.7644974737831184,0.7598844876868853,0.7600672179690403,0.7461081617369988,0.760814594655472,0.7575423872746151,0.7559250251236912,0.7551637086893253,0.7690630720847916,0.7653105544511386,0.7645608106633888,0.7559090075342028,0.7686685381422814,0.7688495659789802,0.7421147854872286,0.7648401481176264,0.7727484873094479,0.7587000224539145],\"yaxis\":\"y\",\"type\":\"scatter\"},{\"hovertemplate\":\"Iteration: %{x}<br>roc_auc Mean: %{y}<br><br>Parameters: %{customdata[0]}\",\"legendgroup\":\"\",\"marker\":{\"symbol\":\"circle\"},\"mode\":\"lines\",\"name\":\"\",\"showlegend\":false,\"x\":[0,1,2,3,4,5,6,7,8,9,10,11,12,13,14,15,16,17,18,19,20,21,22,23,24,25,26,27,28,29],\"xaxis\":\"x\",\"y\":[0.7457076747244183,0.7464269070055934,0.7472362385969507,0.7481097016080246,0.7490139381929947,0.7499183503064695,0.7508033199420819,0.7516649843338031,0.7525511105509585,0.7538064803663964,0.75513624154076,0.7563667756449199,0.7573938726556432,0.7582490915656427,0.7589399817918145,0.7593992308433791,0.7595870149086943,0.7597081628364338,0.7599743682132212,0.7603527272195374,0.7608549712590498,0.7614317538597917,0.7619638190762652,0.7624803056478923,0.7629803377728255,0.7634648168429308,0.7639292774183919,0.7643679631563071,0.7647848544709144,0.7651830026249917],\"yaxis\":\"y\",\"type\":\"scatter\"}],                        {\"template\":{\"data\":{\"bar\":[{\"error_x\":{\"color\":\"#2a3f5f\"},\"error_y\":{\"color\":\"#2a3f5f\"},\"marker\":{\"line\":{\"color\":\"#E5ECF6\",\"width\":0.5},\"pattern\":{\"fillmode\":\"overlay\",\"size\":10,\"solidity\":0.2}},\"type\":\"bar\"}],\"barpolar\":[{\"marker\":{\"line\":{\"color\":\"#E5ECF6\",\"width\":0.5},\"pattern\":{\"fillmode\":\"overlay\",\"size\":10,\"solidity\":0.2}},\"type\":\"barpolar\"}],\"carpet\":[{\"aaxis\":{\"endlinecolor\":\"#2a3f5f\",\"gridcolor\":\"white\",\"linecolor\":\"white\",\"minorgridcolor\":\"white\",\"startlinecolor\":\"#2a3f5f\"},\"baxis\":{\"endlinecolor\":\"#2a3f5f\",\"gridcolor\":\"white\",\"linecolor\":\"white\",\"minorgridcolor\":\"white\",\"startlinecolor\":\"#2a3f5f\"},\"type\":\"carpet\"}],\"choropleth\":[{\"colorbar\":{\"outlinewidth\":0,\"ticks\":\"\"},\"type\":\"choropleth\"}],\"contour\":[{\"colorbar\":{\"outlinewidth\":0,\"ticks\":\"\"},\"colorscale\":[[0.0,\"#0d0887\"],[0.1111111111111111,\"#46039f\"],[0.2222222222222222,\"#7201a8\"],[0.3333333333333333,\"#9c179e\"],[0.4444444444444444,\"#bd3786\"],[0.5555555555555556,\"#d8576b\"],[0.6666666666666666,\"#ed7953\"],[0.7777777777777778,\"#fb9f3a\"],[0.8888888888888888,\"#fdca26\"],[1.0,\"#f0f921\"]],\"type\":\"contour\"}],\"contourcarpet\":[{\"colorbar\":{\"outlinewidth\":0,\"ticks\":\"\"},\"type\":\"contourcarpet\"}],\"heatmap\":[{\"colorbar\":{\"outlinewidth\":0,\"ticks\":\"\"},\"colorscale\":[[0.0,\"#0d0887\"],[0.1111111111111111,\"#46039f\"],[0.2222222222222222,\"#7201a8\"],[0.3333333333333333,\"#9c179e\"],[0.4444444444444444,\"#bd3786\"],[0.5555555555555556,\"#d8576b\"],[0.6666666666666666,\"#ed7953\"],[0.7777777777777778,\"#fb9f3a\"],[0.8888888888888888,\"#fdca26\"],[1.0,\"#f0f921\"]],\"type\":\"heatmap\"}],\"heatmapgl\":[{\"colorbar\":{\"outlinewidth\":0,\"ticks\":\"\"},\"colorscale\":[[0.0,\"#0d0887\"],[0.1111111111111111,\"#46039f\"],[0.2222222222222222,\"#7201a8\"],[0.3333333333333333,\"#9c179e\"],[0.4444444444444444,\"#bd3786\"],[0.5555555555555556,\"#d8576b\"],[0.6666666666666666,\"#ed7953\"],[0.7777777777777778,\"#fb9f3a\"],[0.8888888888888888,\"#fdca26\"],[1.0,\"#f0f921\"]],\"type\":\"heatmapgl\"}],\"histogram\":[{\"marker\":{\"pattern\":{\"fillmode\":\"overlay\",\"size\":10,\"solidity\":0.2}},\"type\":\"histogram\"}],\"histogram2d\":[{\"colorbar\":{\"outlinewidth\":0,\"ticks\":\"\"},\"colorscale\":[[0.0,\"#0d0887\"],[0.1111111111111111,\"#46039f\"],[0.2222222222222222,\"#7201a8\"],[0.3333333333333333,\"#9c179e\"],[0.4444444444444444,\"#bd3786\"],[0.5555555555555556,\"#d8576b\"],[0.6666666666666666,\"#ed7953\"],[0.7777777777777778,\"#fb9f3a\"],[0.8888888888888888,\"#fdca26\"],[1.0,\"#f0f921\"]],\"type\":\"histogram2d\"}],\"histogram2dcontour\":[{\"colorbar\":{\"outlinewidth\":0,\"ticks\":\"\"},\"colorscale\":[[0.0,\"#0d0887\"],[0.1111111111111111,\"#46039f\"],[0.2222222222222222,\"#7201a8\"],[0.3333333333333333,\"#9c179e\"],[0.4444444444444444,\"#bd3786\"],[0.5555555555555556,\"#d8576b\"],[0.6666666666666666,\"#ed7953\"],[0.7777777777777778,\"#fb9f3a\"],[0.8888888888888888,\"#fdca26\"],[1.0,\"#f0f921\"]],\"type\":\"histogram2dcontour\"}],\"mesh3d\":[{\"colorbar\":{\"outlinewidth\":0,\"ticks\":\"\"},\"type\":\"mesh3d\"}],\"parcoords\":[{\"line\":{\"colorbar\":{\"outlinewidth\":0,\"ticks\":\"\"}},\"type\":\"parcoords\"}],\"pie\":[{\"automargin\":true,\"type\":\"pie\"}],\"scatter\":[{\"marker\":{\"colorbar\":{\"outlinewidth\":0,\"ticks\":\"\"}},\"type\":\"scatter\"}],\"scatter3d\":[{\"line\":{\"colorbar\":{\"outlinewidth\":0,\"ticks\":\"\"}},\"marker\":{\"colorbar\":{\"outlinewidth\":0,\"ticks\":\"\"}},\"type\":\"scatter3d\"}],\"scattercarpet\":[{\"marker\":{\"colorbar\":{\"outlinewidth\":0,\"ticks\":\"\"}},\"type\":\"scattercarpet\"}],\"scattergeo\":[{\"marker\":{\"colorbar\":{\"outlinewidth\":0,\"ticks\":\"\"}},\"type\":\"scattergeo\"}],\"scattergl\":[{\"marker\":{\"colorbar\":{\"outlinewidth\":0,\"ticks\":\"\"}},\"type\":\"scattergl\"}],\"scattermapbox\":[{\"marker\":{\"colorbar\":{\"outlinewidth\":0,\"ticks\":\"\"}},\"type\":\"scattermapbox\"}],\"scatterpolar\":[{\"marker\":{\"colorbar\":{\"outlinewidth\":0,\"ticks\":\"\"}},\"type\":\"scatterpolar\"}],\"scatterpolargl\":[{\"marker\":{\"colorbar\":{\"outlinewidth\":0,\"ticks\":\"\"}},\"type\":\"scatterpolargl\"}],\"scatterternary\":[{\"marker\":{\"colorbar\":{\"outlinewidth\":0,\"ticks\":\"\"}},\"type\":\"scatterternary\"}],\"surface\":[{\"colorbar\":{\"outlinewidth\":0,\"ticks\":\"\"},\"colorscale\":[[0.0,\"#0d0887\"],[0.1111111111111111,\"#46039f\"],[0.2222222222222222,\"#7201a8\"],[0.3333333333333333,\"#9c179e\"],[0.4444444444444444,\"#bd3786\"],[0.5555555555555556,\"#d8576b\"],[0.6666666666666666,\"#ed7953\"],[0.7777777777777778,\"#fb9f3a\"],[0.8888888888888888,\"#fdca26\"],[1.0,\"#f0f921\"]],\"type\":\"surface\"}],\"table\":[{\"cells\":{\"fill\":{\"color\":\"#EBF0F8\"},\"line\":{\"color\":\"white\"}},\"header\":{\"fill\":{\"color\":\"#C8D4E3\"},\"line\":{\"color\":\"white\"}},\"type\":\"table\"}]},\"layout\":{\"annotationdefaults\":{\"arrowcolor\":\"#2a3f5f\",\"arrowhead\":0,\"arrowwidth\":1},\"autotypenumbers\":\"strict\",\"coloraxis\":{\"colorbar\":{\"outlinewidth\":0,\"ticks\":\"\"}},\"colorscale\":{\"diverging\":[[0,\"#8e0152\"],[0.1,\"#c51b7d\"],[0.2,\"#de77ae\"],[0.3,\"#f1b6da\"],[0.4,\"#fde0ef\"],[0.5,\"#f7f7f7\"],[0.6,\"#e6f5d0\"],[0.7,\"#b8e186\"],[0.8,\"#7fbc41\"],[0.9,\"#4d9221\"],[1,\"#276419\"]],\"sequential\":[[0.0,\"#0d0887\"],[0.1111111111111111,\"#46039f\"],[0.2222222222222222,\"#7201a8\"],[0.3333333333333333,\"#9c179e\"],[0.4444444444444444,\"#bd3786\"],[0.5555555555555556,\"#d8576b\"],[0.6666666666666666,\"#ed7953\"],[0.7777777777777778,\"#fb9f3a\"],[0.8888888888888888,\"#fdca26\"],[1.0,\"#f0f921\"]],\"sequentialminus\":[[0.0,\"#0d0887\"],[0.1111111111111111,\"#46039f\"],[0.2222222222222222,\"#7201a8\"],[0.3333333333333333,\"#9c179e\"],[0.4444444444444444,\"#bd3786\"],[0.5555555555555556,\"#d8576b\"],[0.6666666666666666,\"#ed7953\"],[0.7777777777777778,\"#fb9f3a\"],[0.8888888888888888,\"#fdca26\"],[1.0,\"#f0f921\"]]},\"colorway\":[\"#636efa\",\"#EF553B\",\"#00cc96\",\"#ab63fa\",\"#FFA15A\",\"#19d3f3\",\"#FF6692\",\"#B6E880\",\"#FF97FF\",\"#FECB52\"],\"font\":{\"color\":\"#2a3f5f\"},\"geo\":{\"bgcolor\":\"white\",\"lakecolor\":\"white\",\"landcolor\":\"#E5ECF6\",\"showlakes\":true,\"showland\":true,\"subunitcolor\":\"white\"},\"hoverlabel\":{\"align\":\"left\"},\"hovermode\":\"closest\",\"mapbox\":{\"style\":\"light\"},\"paper_bgcolor\":\"white\",\"plot_bgcolor\":\"#E5ECF6\",\"polar\":{\"angularaxis\":{\"gridcolor\":\"white\",\"linecolor\":\"white\",\"ticks\":\"\"},\"bgcolor\":\"#E5ECF6\",\"radialaxis\":{\"gridcolor\":\"white\",\"linecolor\":\"white\",\"ticks\":\"\"}},\"scene\":{\"xaxis\":{\"backgroundcolor\":\"#E5ECF6\",\"gridcolor\":\"white\",\"gridwidth\":2,\"linecolor\":\"white\",\"showbackground\":true,\"ticks\":\"\",\"zerolinecolor\":\"white\"},\"yaxis\":{\"backgroundcolor\":\"#E5ECF6\",\"gridcolor\":\"white\",\"gridwidth\":2,\"linecolor\":\"white\",\"showbackground\":true,\"ticks\":\"\",\"zerolinecolor\":\"white\"},\"zaxis\":{\"backgroundcolor\":\"#E5ECF6\",\"gridcolor\":\"white\",\"gridwidth\":2,\"linecolor\":\"white\",\"showbackground\":true,\"ticks\":\"\",\"zerolinecolor\":\"white\"}},\"shapedefaults\":{\"line\":{\"color\":\"#2a3f5f\"}},\"ternary\":{\"aaxis\":{\"gridcolor\":\"white\",\"linecolor\":\"white\",\"ticks\":\"\"},\"baxis\":{\"gridcolor\":\"white\",\"linecolor\":\"white\",\"ticks\":\"\"},\"bgcolor\":\"#E5ECF6\",\"caxis\":{\"gridcolor\":\"white\",\"linecolor\":\"white\",\"ticks\":\"\"}},\"title\":{\"x\":0.05},\"xaxis\":{\"automargin\":true,\"gridcolor\":\"white\",\"linecolor\":\"white\",\"ticks\":\"\",\"title\":{\"standoff\":15},\"zerolinecolor\":\"white\",\"zerolinewidth\":2},\"yaxis\":{\"automargin\":true,\"gridcolor\":\"white\",\"linecolor\":\"white\",\"ticks\":\"\",\"title\":{\"standoff\":15},\"zerolinecolor\":\"white\",\"zerolinewidth\":2}}},\"xaxis\":{\"anchor\":\"y\",\"domain\":[0.0,1.0],\"title\":{\"text\":\"Iteration\"}},\"yaxis\":{\"anchor\":\"x\",\"domain\":[0.0,1.0],\"title\":{\"text\":\"Average Cross Validation Score (roc_auc)\"}},\"coloraxis\":{\"colorbar\":{\"title\":{\"text\":\"max_features\"}},\"colorscale\":[[0.0,\"#0d0887\"],[0.1111111111111111,\"#46039f\"],[0.2222222222222222,\"#7201a8\"],[0.3333333333333333,\"#9c179e\"],[0.4444444444444444,\"#bd3786\"],[0.5555555555555556,\"#d8576b\"],[0.6666666666666666,\"#ed7953\"],[0.7777777777777778,\"#fb9f3a\"],[0.8888888888888888,\"#fdca26\"],[1.0,\"#f0f921\"]]},\"legend\":{\"tracegroupgap\":0,\"itemsizing\":\"constant\"},\"title\":{\"text\":\"Bayesian Performance Over Time<br><sup>Size of point corresponds to 'n_estimators'</sup>\"},\"height\":600,\"width\":970.8203932499999},                        {\"responsive\": true}                    ).then(function(){\n",
       "                            \n",
       "var gd = document.getElementById('6e7dc294-0334-48ce-9d4c-1c02ec1099ee');\n",
       "var x = new MutationObserver(function (mutations, observer) {{\n",
       "        var display = window.getComputedStyle(gd).display;\n",
       "        if (!display || display === 'none') {{\n",
       "            console.log([gd, 'removed!']);\n",
       "            Plotly.purge(gd);\n",
       "            observer.disconnect();\n",
       "        }}\n",
       "}});\n",
       "\n",
       "// Listen for the removal of the full notebook cells\n",
       "var notebookContainer = gd.closest('#notebook-container');\n",
       "if (notebookContainer) {{\n",
       "    x.observe(notebookContainer, {childList: true});\n",
       "}}\n",
       "\n",
       "// Listen for the clearing of the current output cell\n",
       "var outputEl = gd.closest('.output');\n",
       "if (outputEl) {{\n",
       "    x.observe(outputEl, {childList: true});\n",
       "}}\n",
       "\n",
       "                        })                };                });            </script>        </div>"
      ]
     },
     "metadata": {},
     "output_type": "display_data"
    }
   ],
   "source": [
    "score_variable = parser.primary_score_name + \" Mean\"\n",
    "size_variable = 'n_estimators'\n",
    "color_variable = 'max_features'\n",
    "fig = px.scatter(\n",
    "    data_frame=score_df,\n",
    "    x=np.arange(0, parser.number_of_iterations),\n",
    "    y=score_variable,\n",
    "    size=size_variable,\n",
    "    color=color_variable,\n",
    "    trendline='lowess',\n",
    "    labels={\n",
    "        'x': 'Iteration',\n",
    "        score_variable: f\"Average Cross Validation Score ({parser.primary_score_name})\",\n",
    "    },\n",
    "    title=f\"Bayesian Performance Over Time<br>\" \\\n",
    "          f\"<sup>Size of point corresponds to '{size_variable}'</sup>\",\n",
    "    custom_data=['labels'],\n",
    "    height=600,\n",
    "    width=600*hlp.plot.GOLDEN_RATIO\n",
    ")\n",
    "fig.update_traces(\n",
    "    hovertemplate=\"<br>\".join([\n",
    "        \"Iteration: %{x}\",\n",
    "        \"roc_auc Mean: %{y}\",\n",
    "        \"<br>Parameters: %{customdata[0]}\",\n",
    "    ])\n",
    ")\n",
    "fig.show()\n",
    "\n",
    "del size_variable"
   ]
  },
  {
   "cell_type": "markdown",
   "id": "5d08a749",
   "metadata": {},
   "source": [
    "---"
   ]
  },
  {
   "cell_type": "code",
   "execution_count": 57,
   "id": "b3d3106a",
   "metadata": {},
   "outputs": [
    {
     "data": {
      "text/html": [
       "<div>                            <div id=\"7ba3bd42-8ef7-4907-a085-97219f6cb1cc\" class=\"plotly-graph-div\" style=\"height:600px; width:970.8203932499999px;\"></div>            <script type=\"text/javascript\">                require([\"plotly\"], function(Plotly) {                    window.PLOTLYENV=window.PLOTLYENV || {};                                    if (document.getElementById(\"7ba3bd42-8ef7-4907-a085-97219f6cb1cc\")) {                    Plotly.newPlot(                        \"7ba3bd42-8ef7-4907-a085-97219f6cb1cc\",                        [{\"customdata\":[[\"<br>max_features: 0.4119018796762476<br>n_estimators: 3652<br>encoder: CustomOrdinalEncoder()<br>imputer: SimpleImputer()<br>scaler: StandardScaler()\"],[\"<br>max_features: 0.8306405884422187<br>n_estimators: 4422<br>encoder: OneHotEncoder()<br>imputer: SimpleImputer()<br>scaler: StandardScaler()\"],[\"<br>max_features: 0.4459358620551288<br>n_estimators: 4598<br>encoder: OneHotEncoder()<br>imputer: SimpleImputer()<br>scaler: MinMaxScaler()\"],[\"<br>max_features: 0.8061480685902161<br>n_estimators: 901<br>encoder: CustomOrdinalEncoder()<br>imputer: SimpleImputer()<br>scaler: StandardScaler()\"],[\"<br>max_features: 0.7935623727750296<br>n_estimators: 2218<br>encoder: CustomOrdinalEncoder()<br>imputer: SimpleImputer()<br>scaler: StandardScaler()\"],[\"<br>max_features: 0.7293474576258571<br>n_estimators: 4700<br>encoder: OneHotEncoder()<br>imputer: SimpleImputer()<br>scaler: StandardScaler()\"],[\"<br>max_features: 0.61473777133227<br>n_estimators: 3888<br>encoder: OneHotEncoder()<br>imputer: SimpleImputer()<br>scaler: StandardScaler()\"],[\"<br>max_features: 0.5425350063365063<br>n_estimators: 4604<br>encoder: OneHotEncoder()<br>imputer: SimpleImputer()<br>scaler: MinMaxScaler()\"],[\"<br>max_features: 0.9463684265837298<br>n_estimators: 3518<br>encoder: CustomOrdinalEncoder()<br>imputer: SimpleImputer()<br>scaler: MinMaxScaler()\"],[\"<br>max_features: 0.013557701109648362<br>n_estimators: 4098<br>encoder: CustomOrdinalEncoder()<br>imputer: SimpleImputer()<br>scaler: StandardScaler()\"],[\"<br>max_features: 0.01059845254936339<br>n_estimators: 513<br>encoder: OneHotEncoder()<br>imputer: SimpleImputer()<br>scaler: StandardScaler()\"],[\"<br>max_features: 0.14937598890580855<br>n_estimators: 768<br>encoder: CustomOrdinalEncoder()<br>imputer: SimpleImputer()<br>scaler: MinMaxScaler()\"],[\"<br>max_features: 0.01<br>n_estimators: 3887<br>encoder: CustomOrdinalEncoder()<br>imputer: SimpleImputer()<br>scaler: MinMaxScaler()\"],[\"<br>max_features: 0.1504309281923324<br>n_estimators: 145<br>encoder: CustomOrdinalEncoder()<br>imputer: SimpleImputer()<br>scaler: StandardScaler()\"],[\"<br>max_features: 0.01<br>n_estimators: 5000<br>encoder: CustomOrdinalEncoder()<br>imputer: SimpleImputer()<br>scaler: StandardScaler()\"],[\"<br>max_features: 0.9897553594376771<br>n_estimators: 3122<br>encoder: OneHotEncoder()<br>imputer: SimpleImputer()<br>scaler: MinMaxScaler()\"],[\"<br>max_features: 0.010339616430157655<br>n_estimators: 2909<br>encoder: OneHotEncoder()<br>imputer: SimpleImputer()<br>scaler: MinMaxScaler()\"],[\"<br>max_features: 0.1885825691487686<br>n_estimators: 4910<br>encoder: OneHotEncoder()<br>imputer: SimpleImputer()<br>scaler: StandardScaler()\"],[\"<br>max_features: 0.01<br>n_estimators: 617<br>encoder: CustomOrdinalEncoder()<br>imputer: SimpleImputer()<br>scaler: MinMaxScaler()\"],[\"<br>max_features: 0.16407535958814506<br>n_estimators: 5000<br>encoder: CustomOrdinalEncoder()<br>imputer: SimpleImputer()<br>scaler: StandardScaler()\"],[\"<br>max_features: 0.01<br>n_estimators: 4328<br>encoder: CustomOrdinalEncoder()<br>imputer: SimpleImputer()<br>scaler: StandardScaler()\"],[\"<br>max_features: 0.1863010023894987<br>n_estimators: 2512<br>encoder: CustomOrdinalEncoder()<br>imputer: SimpleImputer()<br>scaler: StandardScaler()\"],[\"<br>max_features: 0.01<br>n_estimators: 3914<br>encoder: OneHotEncoder()<br>imputer: SimpleImputer()<br>scaler: StandardScaler()\"],[\"<br>max_features: 0.31653426526434375<br>n_estimators: 1269<br>encoder: OneHotEncoder()<br>imputer: SimpleImputer()<br>scaler: StandardScaler()\"],[\"<br>max_features: 0.01149102092553551<br>n_estimators: 2164<br>encoder: CustomOrdinalEncoder()<br>imputer: SimpleImputer()<br>scaler: StandardScaler()\"],[\"<br>max_features: 0.010686071148244897<br>n_estimators: 3108<br>encoder: CustomOrdinalEncoder()<br>imputer: SimpleImputer()<br>scaler: StandardScaler()\"],[\"<br>max_features: 0.9825428015441334<br>n_estimators: 71<br>encoder: OneHotEncoder()<br>imputer: SimpleImputer()<br>scaler: MinMaxScaler()\"],[\"<br>max_features: 0.01<br>n_estimators: 3042<br>encoder: CustomOrdinalEncoder()<br>imputer: SimpleImputer()<br>scaler: StandardScaler()\"],[\"<br>max_features: 0.01<br>n_estimators: 2897<br>encoder: CustomOrdinalEncoder()<br>imputer: SimpleImputer()<br>scaler: StandardScaler()\"],[\"<br>max_features: 0.4157144502077677<br>n_estimators: 64<br>encoder: OneHotEncoder()<br>imputer: SimpleImputer()<br>scaler: MinMaxScaler()\"]],\"hovertemplate\":\"Iteration: %{x}<br>roc_auc Mean: %{y}<br><br>Parameters: %{customdata[0]}\",\"legendgroup\":\"\",\"marker\":{\"color\":[0.7595553575858905,0.7541682154383448,0.7471217042813556,0.740774605392333,0.7363377356890839,0.7453682770791634,0.7499796767191139,0.7448948382421912,0.7387263823339065,0.7706593234508836,0.7621870502801479,0.7625364955124344,0.7644974737831184,0.7598844876868853,0.7600672179690403,0.7461081617369988,0.760814594655472,0.7575423872746151,0.7559250251236912,0.7551637086893253,0.7690630720847916,0.7653105544511386,0.7645608106633888,0.7559090075342028,0.7686685381422814,0.7688495659789802,0.7421147854872286,0.7648401481176264,0.7727484873094479,0.7587000224539145],\"coloraxis\":\"coloraxis\",\"size\":[3652,4422,4598,901,2218,4700,3888,4604,3518,4098,513,768,3887,145,5000,3122,2909,4910,617,5000,4328,2512,3914,1269,2164,3108,71,3042,2897,64],\"sizemode\":\"area\",\"sizeref\":12.5,\"symbol\":\"circle\"},\"mode\":\"markers\",\"name\":\"\",\"orientation\":\"v\",\"showlegend\":false,\"x\":[0,1,2,3,4,5,6,7,8,9,10,11,12,13,14,15,16,17,18,19,20,21,22,23,24,25,26,27,28,29],\"xaxis\":\"x\",\"y\":[0.4119018796762476,0.8306405884422187,0.4459358620551288,0.8061480685902161,0.7935623727750296,0.7293474576258571,0.61473777133227,0.5425350063365063,0.9463684265837298,0.013557701109648362,0.01059845254936339,0.14937598890580855,0.01,0.1504309281923324,0.01,0.9897553594376771,0.010339616430157655,0.1885825691487686,0.01,0.16407535958814506,0.01,0.1863010023894987,0.01,0.31653426526434375,0.01149102092553551,0.010686071148244897,0.9825428015441334,0.01,0.01,0.4157144502077677],\"yaxis\":\"y\",\"type\":\"scatter\"},{\"hovertemplate\":\"Iteration: %{x}<br>roc_auc Mean: %{y}<br><br>Parameters: %{customdata[0]}\",\"legendgroup\":\"\",\"marker\":{\"symbol\":\"circle\"},\"mode\":\"lines\",\"name\":\"\",\"showlegend\":false,\"x\":[0,1,2,3,4,5,6,7,8,9,10,11,12,13,14,15,16,17,18,19,20,21,22,23,24,25,26,27,28,29],\"xaxis\":\"x\",\"y\":[0.8393483549764302,0.7851597283624848,0.7292194074307445,0.6718711513032165,0.613802199998459,0.5557392710941333,0.4982370616459781,0.4414632096215428,0.3844965372069768,0.32173371230436004,0.2604187459352803,0.20336657947708583,0.1539625106004862,0.1150496743393084,0.0905245087028318,0.08074360859878847,0.08145272615342719,0.08502525125539397,0.08763152669482836,0.08916816332761253,0.08934462925367474,0.08639080097169892,0.08905501974157902,0.09395585301011067,0.09945654815154198,0.10480812738437448,0.10978295599284546,0.11444371731779299,0.11895848257202091,0.123648195165152],\"yaxis\":\"y\",\"type\":\"scatter\"}],                        {\"template\":{\"data\":{\"bar\":[{\"error_x\":{\"color\":\"#2a3f5f\"},\"error_y\":{\"color\":\"#2a3f5f\"},\"marker\":{\"line\":{\"color\":\"#E5ECF6\",\"width\":0.5},\"pattern\":{\"fillmode\":\"overlay\",\"size\":10,\"solidity\":0.2}},\"type\":\"bar\"}],\"barpolar\":[{\"marker\":{\"line\":{\"color\":\"#E5ECF6\",\"width\":0.5},\"pattern\":{\"fillmode\":\"overlay\",\"size\":10,\"solidity\":0.2}},\"type\":\"barpolar\"}],\"carpet\":[{\"aaxis\":{\"endlinecolor\":\"#2a3f5f\",\"gridcolor\":\"white\",\"linecolor\":\"white\",\"minorgridcolor\":\"white\",\"startlinecolor\":\"#2a3f5f\"},\"baxis\":{\"endlinecolor\":\"#2a3f5f\",\"gridcolor\":\"white\",\"linecolor\":\"white\",\"minorgridcolor\":\"white\",\"startlinecolor\":\"#2a3f5f\"},\"type\":\"carpet\"}],\"choropleth\":[{\"colorbar\":{\"outlinewidth\":0,\"ticks\":\"\"},\"type\":\"choropleth\"}],\"contour\":[{\"colorbar\":{\"outlinewidth\":0,\"ticks\":\"\"},\"colorscale\":[[0.0,\"#0d0887\"],[0.1111111111111111,\"#46039f\"],[0.2222222222222222,\"#7201a8\"],[0.3333333333333333,\"#9c179e\"],[0.4444444444444444,\"#bd3786\"],[0.5555555555555556,\"#d8576b\"],[0.6666666666666666,\"#ed7953\"],[0.7777777777777778,\"#fb9f3a\"],[0.8888888888888888,\"#fdca26\"],[1.0,\"#f0f921\"]],\"type\":\"contour\"}],\"contourcarpet\":[{\"colorbar\":{\"outlinewidth\":0,\"ticks\":\"\"},\"type\":\"contourcarpet\"}],\"heatmap\":[{\"colorbar\":{\"outlinewidth\":0,\"ticks\":\"\"},\"colorscale\":[[0.0,\"#0d0887\"],[0.1111111111111111,\"#46039f\"],[0.2222222222222222,\"#7201a8\"],[0.3333333333333333,\"#9c179e\"],[0.4444444444444444,\"#bd3786\"],[0.5555555555555556,\"#d8576b\"],[0.6666666666666666,\"#ed7953\"],[0.7777777777777778,\"#fb9f3a\"],[0.8888888888888888,\"#fdca26\"],[1.0,\"#f0f921\"]],\"type\":\"heatmap\"}],\"heatmapgl\":[{\"colorbar\":{\"outlinewidth\":0,\"ticks\":\"\"},\"colorscale\":[[0.0,\"#0d0887\"],[0.1111111111111111,\"#46039f\"],[0.2222222222222222,\"#7201a8\"],[0.3333333333333333,\"#9c179e\"],[0.4444444444444444,\"#bd3786\"],[0.5555555555555556,\"#d8576b\"],[0.6666666666666666,\"#ed7953\"],[0.7777777777777778,\"#fb9f3a\"],[0.8888888888888888,\"#fdca26\"],[1.0,\"#f0f921\"]],\"type\":\"heatmapgl\"}],\"histogram\":[{\"marker\":{\"pattern\":{\"fillmode\":\"overlay\",\"size\":10,\"solidity\":0.2}},\"type\":\"histogram\"}],\"histogram2d\":[{\"colorbar\":{\"outlinewidth\":0,\"ticks\":\"\"},\"colorscale\":[[0.0,\"#0d0887\"],[0.1111111111111111,\"#46039f\"],[0.2222222222222222,\"#7201a8\"],[0.3333333333333333,\"#9c179e\"],[0.4444444444444444,\"#bd3786\"],[0.5555555555555556,\"#d8576b\"],[0.6666666666666666,\"#ed7953\"],[0.7777777777777778,\"#fb9f3a\"],[0.8888888888888888,\"#fdca26\"],[1.0,\"#f0f921\"]],\"type\":\"histogram2d\"}],\"histogram2dcontour\":[{\"colorbar\":{\"outlinewidth\":0,\"ticks\":\"\"},\"colorscale\":[[0.0,\"#0d0887\"],[0.1111111111111111,\"#46039f\"],[0.2222222222222222,\"#7201a8\"],[0.3333333333333333,\"#9c179e\"],[0.4444444444444444,\"#bd3786\"],[0.5555555555555556,\"#d8576b\"],[0.6666666666666666,\"#ed7953\"],[0.7777777777777778,\"#fb9f3a\"],[0.8888888888888888,\"#fdca26\"],[1.0,\"#f0f921\"]],\"type\":\"histogram2dcontour\"}],\"mesh3d\":[{\"colorbar\":{\"outlinewidth\":0,\"ticks\":\"\"},\"type\":\"mesh3d\"}],\"parcoords\":[{\"line\":{\"colorbar\":{\"outlinewidth\":0,\"ticks\":\"\"}},\"type\":\"parcoords\"}],\"pie\":[{\"automargin\":true,\"type\":\"pie\"}],\"scatter\":[{\"marker\":{\"colorbar\":{\"outlinewidth\":0,\"ticks\":\"\"}},\"type\":\"scatter\"}],\"scatter3d\":[{\"line\":{\"colorbar\":{\"outlinewidth\":0,\"ticks\":\"\"}},\"marker\":{\"colorbar\":{\"outlinewidth\":0,\"ticks\":\"\"}},\"type\":\"scatter3d\"}],\"scattercarpet\":[{\"marker\":{\"colorbar\":{\"outlinewidth\":0,\"ticks\":\"\"}},\"type\":\"scattercarpet\"}],\"scattergeo\":[{\"marker\":{\"colorbar\":{\"outlinewidth\":0,\"ticks\":\"\"}},\"type\":\"scattergeo\"}],\"scattergl\":[{\"marker\":{\"colorbar\":{\"outlinewidth\":0,\"ticks\":\"\"}},\"type\":\"scattergl\"}],\"scattermapbox\":[{\"marker\":{\"colorbar\":{\"outlinewidth\":0,\"ticks\":\"\"}},\"type\":\"scattermapbox\"}],\"scatterpolar\":[{\"marker\":{\"colorbar\":{\"outlinewidth\":0,\"ticks\":\"\"}},\"type\":\"scatterpolar\"}],\"scatterpolargl\":[{\"marker\":{\"colorbar\":{\"outlinewidth\":0,\"ticks\":\"\"}},\"type\":\"scatterpolargl\"}],\"scatterternary\":[{\"marker\":{\"colorbar\":{\"outlinewidth\":0,\"ticks\":\"\"}},\"type\":\"scatterternary\"}],\"surface\":[{\"colorbar\":{\"outlinewidth\":0,\"ticks\":\"\"},\"colorscale\":[[0.0,\"#0d0887\"],[0.1111111111111111,\"#46039f\"],[0.2222222222222222,\"#7201a8\"],[0.3333333333333333,\"#9c179e\"],[0.4444444444444444,\"#bd3786\"],[0.5555555555555556,\"#d8576b\"],[0.6666666666666666,\"#ed7953\"],[0.7777777777777778,\"#fb9f3a\"],[0.8888888888888888,\"#fdca26\"],[1.0,\"#f0f921\"]],\"type\":\"surface\"}],\"table\":[{\"cells\":{\"fill\":{\"color\":\"#EBF0F8\"},\"line\":{\"color\":\"white\"}},\"header\":{\"fill\":{\"color\":\"#C8D4E3\"},\"line\":{\"color\":\"white\"}},\"type\":\"table\"}]},\"layout\":{\"annotationdefaults\":{\"arrowcolor\":\"#2a3f5f\",\"arrowhead\":0,\"arrowwidth\":1},\"autotypenumbers\":\"strict\",\"coloraxis\":{\"colorbar\":{\"outlinewidth\":0,\"ticks\":\"\"}},\"colorscale\":{\"diverging\":[[0,\"#8e0152\"],[0.1,\"#c51b7d\"],[0.2,\"#de77ae\"],[0.3,\"#f1b6da\"],[0.4,\"#fde0ef\"],[0.5,\"#f7f7f7\"],[0.6,\"#e6f5d0\"],[0.7,\"#b8e186\"],[0.8,\"#7fbc41\"],[0.9,\"#4d9221\"],[1,\"#276419\"]],\"sequential\":[[0.0,\"#0d0887\"],[0.1111111111111111,\"#46039f\"],[0.2222222222222222,\"#7201a8\"],[0.3333333333333333,\"#9c179e\"],[0.4444444444444444,\"#bd3786\"],[0.5555555555555556,\"#d8576b\"],[0.6666666666666666,\"#ed7953\"],[0.7777777777777778,\"#fb9f3a\"],[0.8888888888888888,\"#fdca26\"],[1.0,\"#f0f921\"]],\"sequentialminus\":[[0.0,\"#0d0887\"],[0.1111111111111111,\"#46039f\"],[0.2222222222222222,\"#7201a8\"],[0.3333333333333333,\"#9c179e\"],[0.4444444444444444,\"#bd3786\"],[0.5555555555555556,\"#d8576b\"],[0.6666666666666666,\"#ed7953\"],[0.7777777777777778,\"#fb9f3a\"],[0.8888888888888888,\"#fdca26\"],[1.0,\"#f0f921\"]]},\"colorway\":[\"#636efa\",\"#EF553B\",\"#00cc96\",\"#ab63fa\",\"#FFA15A\",\"#19d3f3\",\"#FF6692\",\"#B6E880\",\"#FF97FF\",\"#FECB52\"],\"font\":{\"color\":\"#2a3f5f\"},\"geo\":{\"bgcolor\":\"white\",\"lakecolor\":\"white\",\"landcolor\":\"#E5ECF6\",\"showlakes\":true,\"showland\":true,\"subunitcolor\":\"white\"},\"hoverlabel\":{\"align\":\"left\"},\"hovermode\":\"closest\",\"mapbox\":{\"style\":\"light\"},\"paper_bgcolor\":\"white\",\"plot_bgcolor\":\"#E5ECF6\",\"polar\":{\"angularaxis\":{\"gridcolor\":\"white\",\"linecolor\":\"white\",\"ticks\":\"\"},\"bgcolor\":\"#E5ECF6\",\"radialaxis\":{\"gridcolor\":\"white\",\"linecolor\":\"white\",\"ticks\":\"\"}},\"scene\":{\"xaxis\":{\"backgroundcolor\":\"#E5ECF6\",\"gridcolor\":\"white\",\"gridwidth\":2,\"linecolor\":\"white\",\"showbackground\":true,\"ticks\":\"\",\"zerolinecolor\":\"white\"},\"yaxis\":{\"backgroundcolor\":\"#E5ECF6\",\"gridcolor\":\"white\",\"gridwidth\":2,\"linecolor\":\"white\",\"showbackground\":true,\"ticks\":\"\",\"zerolinecolor\":\"white\"},\"zaxis\":{\"backgroundcolor\":\"#E5ECF6\",\"gridcolor\":\"white\",\"gridwidth\":2,\"linecolor\":\"white\",\"showbackground\":true,\"ticks\":\"\",\"zerolinecolor\":\"white\"}},\"shapedefaults\":{\"line\":{\"color\":\"#2a3f5f\"}},\"ternary\":{\"aaxis\":{\"gridcolor\":\"white\",\"linecolor\":\"white\",\"ticks\":\"\"},\"baxis\":{\"gridcolor\":\"white\",\"linecolor\":\"white\",\"ticks\":\"\"},\"bgcolor\":\"#E5ECF6\",\"caxis\":{\"gridcolor\":\"white\",\"linecolor\":\"white\",\"ticks\":\"\"}},\"title\":{\"x\":0.05},\"xaxis\":{\"automargin\":true,\"gridcolor\":\"white\",\"linecolor\":\"white\",\"ticks\":\"\",\"title\":{\"standoff\":15},\"zerolinecolor\":\"white\",\"zerolinewidth\":2},\"yaxis\":{\"automargin\":true,\"gridcolor\":\"white\",\"linecolor\":\"white\",\"ticks\":\"\",\"title\":{\"standoff\":15},\"zerolinecolor\":\"white\",\"zerolinewidth\":2}}},\"xaxis\":{\"anchor\":\"y\",\"domain\":[0.0,1.0],\"title\":{\"text\":\"Iteration\"}},\"yaxis\":{\"anchor\":\"x\",\"domain\":[0.0,1.0],\"title\":{\"text\":\"max_features\"}},\"coloraxis\":{\"colorbar\":{\"title\":{\"text\":\"roc_auc Mean\"}},\"colorscale\":[[0.0,\"#0d0887\"],[0.1111111111111111,\"#46039f\"],[0.2222222222222222,\"#7201a8\"],[0.3333333333333333,\"#9c179e\"],[0.4444444444444444,\"#bd3786\"],[0.5555555555555556,\"#d8576b\"],[0.6666666666666666,\"#ed7953\"],[0.7777777777777778,\"#fb9f3a\"],[0.8888888888888888,\"#fdca26\"],[1.0,\"#f0f921\"]]},\"legend\":{\"tracegroupgap\":0,\"itemsizing\":\"constant\"},\"title\":{\"text\":\"<b>max_features</b> Over Time<br><sup>Size changes depending on 'n_estimators'</sup>\"},\"height\":600,\"width\":970.8203932499999},                        {\"responsive\": true}                    ).then(function(){\n",
       "                            \n",
       "var gd = document.getElementById('7ba3bd42-8ef7-4907-a085-97219f6cb1cc');\n",
       "var x = new MutationObserver(function (mutations, observer) {{\n",
       "        var display = window.getComputedStyle(gd).display;\n",
       "        if (!display || display === 'none') {{\n",
       "            console.log([gd, 'removed!']);\n",
       "            Plotly.purge(gd);\n",
       "            observer.disconnect();\n",
       "        }}\n",
       "}});\n",
       "\n",
       "// Listen for the removal of the full notebook cells\n",
       "var notebookContainer = gd.closest('#notebook-container');\n",
       "if (notebookContainer) {{\n",
       "    x.observe(notebookContainer, {childList: true});\n",
       "}}\n",
       "\n",
       "// Listen for the clearing of the current output cell\n",
       "var outputEl = gd.closest('.output');\n",
       "if (outputEl) {{\n",
       "    x.observe(outputEl, {childList: true});\n",
       "}}\n",
       "\n",
       "                        })                };                });            </script>        </div>"
      ]
     },
     "metadata": {},
     "output_type": "display_data"
    }
   ],
   "source": [
    "y_variable = 'max_features'\n",
    "color_variable = score_variable\n",
    "size_variable = 'n_estimators'\n",
    "fig = px.scatter(\n",
    "    data_frame=score_df,\n",
    "    x=np.arange(0, parser.number_of_iterations),\n",
    "    y=y_variable,\n",
    "    size=size_variable,\n",
    "    color='roc_auc Mean',\n",
    "    trendline='lowess',\n",
    "    labels={\n",
    "        'x': 'Iteration',\n",
    "    },\n",
    "    title=f\"<b>{y_variable}</b> Over Time<br><sup>Size changes depending on '{size_variable}'</sup>\",\n",
    "    custom_data=['labels'],\n",
    "    height=600,\n",
    "    width=600*hlp.plot.GOLDEN_RATIO\n",
    ")\n",
    "fig.update_traces(\n",
    "    hovertemplate=\"<br>\".join([\n",
    "        \"Iteration: %{x}\",\n",
    "        \"roc_auc Mean: %{y}\",\n",
    "        \"<br>Parameters: %{customdata[0]}\",\n",
    "    ])\n",
    ")\n",
    "fig.show()\n",
    "\n",
    "del y_variable\n",
    "del color_variable\n",
    "del size_variable"
   ]
  },
  {
   "cell_type": "markdown",
   "id": "ec79358c",
   "metadata": {
    "pycharm": {
     "name": "#%% md\n"
    }
   },
   "source": [
    "---"
   ]
  },
  {
   "cell_type": "code",
   "execution_count": 40,
   "id": "d02abaec",
   "metadata": {},
   "outputs": [
    {
     "data": {
      "text/html": [
       "<div>                            <div id=\"fb54cdca-e7a9-4197-a696-bd0325868574\" class=\"plotly-graph-div\" style=\"height:600px; width:970.8203932499999px;\"></div>            <script type=\"text/javascript\">                require([\"plotly\"], function(Plotly) {                    window.PLOTLYENV=window.PLOTLYENV || {};                                    if (document.getElementById(\"fb54cdca-e7a9-4197-a696-bd0325868574\")) {                    Plotly.newPlot(                        \"fb54cdca-e7a9-4197-a696-bd0325868574\",                        [{\"customdata\":[[\"<br>max_features: 0.4119018796762476<br>n_estimators: 3652<br>encoder: CustomOrdinalEncoder()<br>imputer: SimpleImputer()<br>scaler: StandardScaler()\"],[\"<br>max_features: 0.8306405884422187<br>n_estimators: 4422<br>encoder: OneHotEncoder()<br>imputer: SimpleImputer()<br>scaler: StandardScaler()\"],[\"<br>max_features: 0.8061480685902161<br>n_estimators: 901<br>encoder: CustomOrdinalEncoder()<br>imputer: SimpleImputer()<br>scaler: StandardScaler()\"],[\"<br>max_features: 0.7935623727750296<br>n_estimators: 2218<br>encoder: CustomOrdinalEncoder()<br>imputer: SimpleImputer()<br>scaler: StandardScaler()\"],[\"<br>max_features: 0.7293474576258571<br>n_estimators: 4700<br>encoder: OneHotEncoder()<br>imputer: SimpleImputer()<br>scaler: StandardScaler()\"],[\"<br>max_features: 0.61473777133227<br>n_estimators: 3888<br>encoder: OneHotEncoder()<br>imputer: SimpleImputer()<br>scaler: StandardScaler()\"],[\"<br>max_features: 0.013557701109648362<br>n_estimators: 4098<br>encoder: CustomOrdinalEncoder()<br>imputer: SimpleImputer()<br>scaler: StandardScaler()\"],[\"<br>max_features: 0.01059845254936339<br>n_estimators: 513<br>encoder: OneHotEncoder()<br>imputer: SimpleImputer()<br>scaler: StandardScaler()\"],[\"<br>max_features: 0.1504309281923324<br>n_estimators: 145<br>encoder: CustomOrdinalEncoder()<br>imputer: SimpleImputer()<br>scaler: StandardScaler()\"],[\"<br>max_features: 0.01<br>n_estimators: 5000<br>encoder: CustomOrdinalEncoder()<br>imputer: SimpleImputer()<br>scaler: StandardScaler()\"],[\"<br>max_features: 0.1885825691487686<br>n_estimators: 4910<br>encoder: OneHotEncoder()<br>imputer: SimpleImputer()<br>scaler: StandardScaler()\"],[\"<br>max_features: 0.16407535958814506<br>n_estimators: 5000<br>encoder: CustomOrdinalEncoder()<br>imputer: SimpleImputer()<br>scaler: StandardScaler()\"],[\"<br>max_features: 0.01<br>n_estimators: 4328<br>encoder: CustomOrdinalEncoder()<br>imputer: SimpleImputer()<br>scaler: StandardScaler()\"],[\"<br>max_features: 0.1863010023894987<br>n_estimators: 2512<br>encoder: CustomOrdinalEncoder()<br>imputer: SimpleImputer()<br>scaler: StandardScaler()\"],[\"<br>max_features: 0.01<br>n_estimators: 3914<br>encoder: OneHotEncoder()<br>imputer: SimpleImputer()<br>scaler: StandardScaler()\"],[\"<br>max_features: 0.31653426526434375<br>n_estimators: 1269<br>encoder: OneHotEncoder()<br>imputer: SimpleImputer()<br>scaler: StandardScaler()\"],[\"<br>max_features: 0.01149102092553551<br>n_estimators: 2164<br>encoder: CustomOrdinalEncoder()<br>imputer: SimpleImputer()<br>scaler: StandardScaler()\"],[\"<br>max_features: 0.010686071148244897<br>n_estimators: 3108<br>encoder: CustomOrdinalEncoder()<br>imputer: SimpleImputer()<br>scaler: StandardScaler()\"],[\"<br>max_features: 0.01<br>n_estimators: 3042<br>encoder: CustomOrdinalEncoder()<br>imputer: SimpleImputer()<br>scaler: StandardScaler()\"],[\"<br>max_features: 0.01<br>n_estimators: 2897<br>encoder: CustomOrdinalEncoder()<br>imputer: SimpleImputer()<br>scaler: StandardScaler()\"]],\"hovertemplate\":\"scaler=StandardScaler()<br>max_features=%{x}<br>roc_auc Mean=%{y}<br>n_estimators=%{marker.size}<extra></extra>\",\"legendgroup\":\"StandardScaler()\",\"marker\":{\"color\":\"#636efa\",\"size\":[3652,4422,901,2218,4700,3888,4098,513,145,5000,4910,5000,4328,2512,3914,1269,2164,3108,3042,2897],\"sizemode\":\"area\",\"sizeref\":12.5,\"symbol\":\"circle\"},\"mode\":\"markers\",\"name\":\"StandardScaler()\",\"orientation\":\"v\",\"showlegend\":true,\"x\":[0.4119018796762476,0.8306405884422187,0.8061480685902161,0.7935623727750296,0.7293474576258571,0.61473777133227,0.013557701109648362,0.01059845254936339,0.1504309281923324,0.01,0.1885825691487686,0.16407535958814506,0.01,0.1863010023894987,0.01,0.31653426526434375,0.01149102092553551,0.010686071148244897,0.01,0.01],\"xaxis\":\"x\",\"y\":[0.7595553575858905,0.7541682154383448,0.740774605392333,0.7363377356890839,0.7453682770791634,0.7499796767191139,0.7706593234508836,0.7621870502801479,0.7598844876868853,0.7600672179690403,0.7575423872746151,0.7551637086893253,0.7690630720847916,0.7653105544511386,0.7645608106633888,0.7559090075342028,0.7686685381422814,0.7688495659789802,0.7648401481176264,0.7727484873094479],\"yaxis\":\"y\",\"type\":\"scatter\"},{\"hovertemplate\":\"<b>LOWESS trendline</b><br><br>scaler=StandardScaler()<br>max_features=%{x}<br>roc_auc Mean=%{y} <b>(trend)</b><extra></extra>\",\"legendgroup\":\"StandardScaler()\",\"marker\":{\"color\":\"#636efa\",\"symbol\":\"circle\"},\"mode\":\"lines\",\"name\":\"StandardScaler()\",\"showlegend\":false,\"x\":[0.01,0.01,0.01,0.01,0.01,0.01059845254936339,0.010686071148244897,0.01149102092553551,0.013557701109648362,0.1504309281923324,0.16407535958814506,0.1863010023894987,0.1885825691487686,0.31653426526434375,0.4119018796762476,0.61473777133227,0.7293474576258571,0.7935623727750296,0.8061480685902161,0.8306405884422187],\"xaxis\":\"x\",\"y\":[0.7670825001187558,0.7670825001187558,0.7670825001187558,0.7670825001187558,0.7670825001187558,0.7670498086503412,0.7670450188464961,0.7670009741116085,0.7668875653771838,0.7580663304914463,0.7586934520832354,0.7588019600684471,0.7587524727635165,0.7582715841393964,0.75529982815972,0.7478416008975325,0.7439707732740567,0.7417182979474063,0.741268451999765,0.7403854143380628],\"yaxis\":\"y\",\"type\":\"scatter\"},{\"customdata\":[[\"<br>max_features: 0.4459358620551288<br>n_estimators: 4598<br>encoder: OneHotEncoder()<br>imputer: SimpleImputer()<br>scaler: MinMaxScaler()\"],[\"<br>max_features: 0.5425350063365063<br>n_estimators: 4604<br>encoder: OneHotEncoder()<br>imputer: SimpleImputer()<br>scaler: MinMaxScaler()\"],[\"<br>max_features: 0.9463684265837298<br>n_estimators: 3518<br>encoder: CustomOrdinalEncoder()<br>imputer: SimpleImputer()<br>scaler: MinMaxScaler()\"],[\"<br>max_features: 0.14937598890580855<br>n_estimators: 768<br>encoder: CustomOrdinalEncoder()<br>imputer: SimpleImputer()<br>scaler: MinMaxScaler()\"],[\"<br>max_features: 0.01<br>n_estimators: 3887<br>encoder: CustomOrdinalEncoder()<br>imputer: SimpleImputer()<br>scaler: MinMaxScaler()\"],[\"<br>max_features: 0.9897553594376771<br>n_estimators: 3122<br>encoder: OneHotEncoder()<br>imputer: SimpleImputer()<br>scaler: MinMaxScaler()\"],[\"<br>max_features: 0.010339616430157655<br>n_estimators: 2909<br>encoder: OneHotEncoder()<br>imputer: SimpleImputer()<br>scaler: MinMaxScaler()\"],[\"<br>max_features: 0.01<br>n_estimators: 617<br>encoder: CustomOrdinalEncoder()<br>imputer: SimpleImputer()<br>scaler: MinMaxScaler()\"],[\"<br>max_features: 0.9825428015441334<br>n_estimators: 71<br>encoder: OneHotEncoder()<br>imputer: SimpleImputer()<br>scaler: MinMaxScaler()\"],[\"<br>max_features: 0.4157144502077677<br>n_estimators: 64<br>encoder: OneHotEncoder()<br>imputer: SimpleImputer()<br>scaler: MinMaxScaler()\"]],\"hovertemplate\":\"scaler=MinMaxScaler()<br>max_features=%{x}<br>roc_auc Mean=%{y}<br>n_estimators=%{marker.size}<extra></extra>\",\"legendgroup\":\"MinMaxScaler()\",\"marker\":{\"color\":\"#EF553B\",\"size\":[4598,4604,3518,768,3887,3122,2909,617,71,64],\"sizemode\":\"area\",\"sizeref\":12.5,\"symbol\":\"circle\"},\"mode\":\"markers\",\"name\":\"MinMaxScaler()\",\"orientation\":\"v\",\"showlegend\":true,\"x\":[0.4459358620551288,0.5425350063365063,0.9463684265837298,0.14937598890580855,0.01,0.9897553594376771,0.010339616430157655,0.01,0.9825428015441334,0.4157144502077677],\"xaxis\":\"x\",\"y\":[0.7471217042813556,0.7448948382421912,0.7387263823339065,0.7625364955124344,0.7644974737831184,0.7461081617369988,0.760814594655472,0.7559250251236912,0.7421147854872286,0.7587000224539145],\"yaxis\":\"y\",\"type\":\"scatter\"},{\"hovertemplate\":\"<b>LOWESS trendline</b><br><br>scaler=MinMaxScaler()<br>max_features=%{x}<br>roc_auc Mean=%{y} <b>(trend)</b><extra></extra>\",\"legendgroup\":\"MinMaxScaler()\",\"marker\":{\"color\":\"#EF553B\",\"symbol\":\"circle\"},\"mode\":\"lines\",\"name\":\"MinMaxScaler()\",\"showlegend\":false,\"x\":[0.01,0.01,0.010339616430157655,0.14937598890580855,0.4157144502077677,0.4459358620551288,0.5425350063365063,0.9463684265837298,0.9825428015441334,0.9897553594376771],\"xaxis\":\"x\",\"y\":[0.760478419375872,0.760478419375872,0.7604831483059061,0.762200093468495,0.7521909428161972,0.7507408745437982,0.7452293789958929,0.7424684745633463,0.7424281739648191,0.7424263721094801],\"yaxis\":\"y\",\"type\":\"scatter\"}],                        {\"template\":{\"data\":{\"bar\":[{\"error_x\":{\"color\":\"#2a3f5f\"},\"error_y\":{\"color\":\"#2a3f5f\"},\"marker\":{\"line\":{\"color\":\"#E5ECF6\",\"width\":0.5},\"pattern\":{\"fillmode\":\"overlay\",\"size\":10,\"solidity\":0.2}},\"type\":\"bar\"}],\"barpolar\":[{\"marker\":{\"line\":{\"color\":\"#E5ECF6\",\"width\":0.5},\"pattern\":{\"fillmode\":\"overlay\",\"size\":10,\"solidity\":0.2}},\"type\":\"barpolar\"}],\"carpet\":[{\"aaxis\":{\"endlinecolor\":\"#2a3f5f\",\"gridcolor\":\"white\",\"linecolor\":\"white\",\"minorgridcolor\":\"white\",\"startlinecolor\":\"#2a3f5f\"},\"baxis\":{\"endlinecolor\":\"#2a3f5f\",\"gridcolor\":\"white\",\"linecolor\":\"white\",\"minorgridcolor\":\"white\",\"startlinecolor\":\"#2a3f5f\"},\"type\":\"carpet\"}],\"choropleth\":[{\"colorbar\":{\"outlinewidth\":0,\"ticks\":\"\"},\"type\":\"choropleth\"}],\"contour\":[{\"colorbar\":{\"outlinewidth\":0,\"ticks\":\"\"},\"colorscale\":[[0.0,\"#0d0887\"],[0.1111111111111111,\"#46039f\"],[0.2222222222222222,\"#7201a8\"],[0.3333333333333333,\"#9c179e\"],[0.4444444444444444,\"#bd3786\"],[0.5555555555555556,\"#d8576b\"],[0.6666666666666666,\"#ed7953\"],[0.7777777777777778,\"#fb9f3a\"],[0.8888888888888888,\"#fdca26\"],[1.0,\"#f0f921\"]],\"type\":\"contour\"}],\"contourcarpet\":[{\"colorbar\":{\"outlinewidth\":0,\"ticks\":\"\"},\"type\":\"contourcarpet\"}],\"heatmap\":[{\"colorbar\":{\"outlinewidth\":0,\"ticks\":\"\"},\"colorscale\":[[0.0,\"#0d0887\"],[0.1111111111111111,\"#46039f\"],[0.2222222222222222,\"#7201a8\"],[0.3333333333333333,\"#9c179e\"],[0.4444444444444444,\"#bd3786\"],[0.5555555555555556,\"#d8576b\"],[0.6666666666666666,\"#ed7953\"],[0.7777777777777778,\"#fb9f3a\"],[0.8888888888888888,\"#fdca26\"],[1.0,\"#f0f921\"]],\"type\":\"heatmap\"}],\"heatmapgl\":[{\"colorbar\":{\"outlinewidth\":0,\"ticks\":\"\"},\"colorscale\":[[0.0,\"#0d0887\"],[0.1111111111111111,\"#46039f\"],[0.2222222222222222,\"#7201a8\"],[0.3333333333333333,\"#9c179e\"],[0.4444444444444444,\"#bd3786\"],[0.5555555555555556,\"#d8576b\"],[0.6666666666666666,\"#ed7953\"],[0.7777777777777778,\"#fb9f3a\"],[0.8888888888888888,\"#fdca26\"],[1.0,\"#f0f921\"]],\"type\":\"heatmapgl\"}],\"histogram\":[{\"marker\":{\"pattern\":{\"fillmode\":\"overlay\",\"size\":10,\"solidity\":0.2}},\"type\":\"histogram\"}],\"histogram2d\":[{\"colorbar\":{\"outlinewidth\":0,\"ticks\":\"\"},\"colorscale\":[[0.0,\"#0d0887\"],[0.1111111111111111,\"#46039f\"],[0.2222222222222222,\"#7201a8\"],[0.3333333333333333,\"#9c179e\"],[0.4444444444444444,\"#bd3786\"],[0.5555555555555556,\"#d8576b\"],[0.6666666666666666,\"#ed7953\"],[0.7777777777777778,\"#fb9f3a\"],[0.8888888888888888,\"#fdca26\"],[1.0,\"#f0f921\"]],\"type\":\"histogram2d\"}],\"histogram2dcontour\":[{\"colorbar\":{\"outlinewidth\":0,\"ticks\":\"\"},\"colorscale\":[[0.0,\"#0d0887\"],[0.1111111111111111,\"#46039f\"],[0.2222222222222222,\"#7201a8\"],[0.3333333333333333,\"#9c179e\"],[0.4444444444444444,\"#bd3786\"],[0.5555555555555556,\"#d8576b\"],[0.6666666666666666,\"#ed7953\"],[0.7777777777777778,\"#fb9f3a\"],[0.8888888888888888,\"#fdca26\"],[1.0,\"#f0f921\"]],\"type\":\"histogram2dcontour\"}],\"mesh3d\":[{\"colorbar\":{\"outlinewidth\":0,\"ticks\":\"\"},\"type\":\"mesh3d\"}],\"parcoords\":[{\"line\":{\"colorbar\":{\"outlinewidth\":0,\"ticks\":\"\"}},\"type\":\"parcoords\"}],\"pie\":[{\"automargin\":true,\"type\":\"pie\"}],\"scatter\":[{\"marker\":{\"colorbar\":{\"outlinewidth\":0,\"ticks\":\"\"}},\"type\":\"scatter\"}],\"scatter3d\":[{\"line\":{\"colorbar\":{\"outlinewidth\":0,\"ticks\":\"\"}},\"marker\":{\"colorbar\":{\"outlinewidth\":0,\"ticks\":\"\"}},\"type\":\"scatter3d\"}],\"scattercarpet\":[{\"marker\":{\"colorbar\":{\"outlinewidth\":0,\"ticks\":\"\"}},\"type\":\"scattercarpet\"}],\"scattergeo\":[{\"marker\":{\"colorbar\":{\"outlinewidth\":0,\"ticks\":\"\"}},\"type\":\"scattergeo\"}],\"scattergl\":[{\"marker\":{\"colorbar\":{\"outlinewidth\":0,\"ticks\":\"\"}},\"type\":\"scattergl\"}],\"scattermapbox\":[{\"marker\":{\"colorbar\":{\"outlinewidth\":0,\"ticks\":\"\"}},\"type\":\"scattermapbox\"}],\"scatterpolar\":[{\"marker\":{\"colorbar\":{\"outlinewidth\":0,\"ticks\":\"\"}},\"type\":\"scatterpolar\"}],\"scatterpolargl\":[{\"marker\":{\"colorbar\":{\"outlinewidth\":0,\"ticks\":\"\"}},\"type\":\"scatterpolargl\"}],\"scatterternary\":[{\"marker\":{\"colorbar\":{\"outlinewidth\":0,\"ticks\":\"\"}},\"type\":\"scatterternary\"}],\"surface\":[{\"colorbar\":{\"outlinewidth\":0,\"ticks\":\"\"},\"colorscale\":[[0.0,\"#0d0887\"],[0.1111111111111111,\"#46039f\"],[0.2222222222222222,\"#7201a8\"],[0.3333333333333333,\"#9c179e\"],[0.4444444444444444,\"#bd3786\"],[0.5555555555555556,\"#d8576b\"],[0.6666666666666666,\"#ed7953\"],[0.7777777777777778,\"#fb9f3a\"],[0.8888888888888888,\"#fdca26\"],[1.0,\"#f0f921\"]],\"type\":\"surface\"}],\"table\":[{\"cells\":{\"fill\":{\"color\":\"#EBF0F8\"},\"line\":{\"color\":\"white\"}},\"header\":{\"fill\":{\"color\":\"#C8D4E3\"},\"line\":{\"color\":\"white\"}},\"type\":\"table\"}]},\"layout\":{\"annotationdefaults\":{\"arrowcolor\":\"#2a3f5f\",\"arrowhead\":0,\"arrowwidth\":1},\"autotypenumbers\":\"strict\",\"coloraxis\":{\"colorbar\":{\"outlinewidth\":0,\"ticks\":\"\"}},\"colorscale\":{\"diverging\":[[0,\"#8e0152\"],[0.1,\"#c51b7d\"],[0.2,\"#de77ae\"],[0.3,\"#f1b6da\"],[0.4,\"#fde0ef\"],[0.5,\"#f7f7f7\"],[0.6,\"#e6f5d0\"],[0.7,\"#b8e186\"],[0.8,\"#7fbc41\"],[0.9,\"#4d9221\"],[1,\"#276419\"]],\"sequential\":[[0.0,\"#0d0887\"],[0.1111111111111111,\"#46039f\"],[0.2222222222222222,\"#7201a8\"],[0.3333333333333333,\"#9c179e\"],[0.4444444444444444,\"#bd3786\"],[0.5555555555555556,\"#d8576b\"],[0.6666666666666666,\"#ed7953\"],[0.7777777777777778,\"#fb9f3a\"],[0.8888888888888888,\"#fdca26\"],[1.0,\"#f0f921\"]],\"sequentialminus\":[[0.0,\"#0d0887\"],[0.1111111111111111,\"#46039f\"],[0.2222222222222222,\"#7201a8\"],[0.3333333333333333,\"#9c179e\"],[0.4444444444444444,\"#bd3786\"],[0.5555555555555556,\"#d8576b\"],[0.6666666666666666,\"#ed7953\"],[0.7777777777777778,\"#fb9f3a\"],[0.8888888888888888,\"#fdca26\"],[1.0,\"#f0f921\"]]},\"colorway\":[\"#636efa\",\"#EF553B\",\"#00cc96\",\"#ab63fa\",\"#FFA15A\",\"#19d3f3\",\"#FF6692\",\"#B6E880\",\"#FF97FF\",\"#FECB52\"],\"font\":{\"color\":\"#2a3f5f\"},\"geo\":{\"bgcolor\":\"white\",\"lakecolor\":\"white\",\"landcolor\":\"#E5ECF6\",\"showlakes\":true,\"showland\":true,\"subunitcolor\":\"white\"},\"hoverlabel\":{\"align\":\"left\"},\"hovermode\":\"closest\",\"mapbox\":{\"style\":\"light\"},\"paper_bgcolor\":\"white\",\"plot_bgcolor\":\"#E5ECF6\",\"polar\":{\"angularaxis\":{\"gridcolor\":\"white\",\"linecolor\":\"white\",\"ticks\":\"\"},\"bgcolor\":\"#E5ECF6\",\"radialaxis\":{\"gridcolor\":\"white\",\"linecolor\":\"white\",\"ticks\":\"\"}},\"scene\":{\"xaxis\":{\"backgroundcolor\":\"#E5ECF6\",\"gridcolor\":\"white\",\"gridwidth\":2,\"linecolor\":\"white\",\"showbackground\":true,\"ticks\":\"\",\"zerolinecolor\":\"white\"},\"yaxis\":{\"backgroundcolor\":\"#E5ECF6\",\"gridcolor\":\"white\",\"gridwidth\":2,\"linecolor\":\"white\",\"showbackground\":true,\"ticks\":\"\",\"zerolinecolor\":\"white\"},\"zaxis\":{\"backgroundcolor\":\"#E5ECF6\",\"gridcolor\":\"white\",\"gridwidth\":2,\"linecolor\":\"white\",\"showbackground\":true,\"ticks\":\"\",\"zerolinecolor\":\"white\"}},\"shapedefaults\":{\"line\":{\"color\":\"#2a3f5f\"}},\"ternary\":{\"aaxis\":{\"gridcolor\":\"white\",\"linecolor\":\"white\",\"ticks\":\"\"},\"baxis\":{\"gridcolor\":\"white\",\"linecolor\":\"white\",\"ticks\":\"\"},\"bgcolor\":\"#E5ECF6\",\"caxis\":{\"gridcolor\":\"white\",\"linecolor\":\"white\",\"ticks\":\"\"}},\"title\":{\"x\":0.05},\"xaxis\":{\"automargin\":true,\"gridcolor\":\"white\",\"linecolor\":\"white\",\"ticks\":\"\",\"title\":{\"standoff\":15},\"zerolinecolor\":\"white\",\"zerolinewidth\":2},\"yaxis\":{\"automargin\":true,\"gridcolor\":\"white\",\"linecolor\":\"white\",\"ticks\":\"\",\"title\":{\"standoff\":15},\"zerolinecolor\":\"white\",\"zerolinewidth\":2}}},\"xaxis\":{\"anchor\":\"y\",\"domain\":[0.0,1.0],\"title\":{\"text\":\"max_features\"}},\"yaxis\":{\"anchor\":\"x\",\"domain\":[0.0,1.0],\"title\":{\"text\":\"roc_auc Mean\"}},\"legend\":{\"title\":{\"text\":\"scaler\"},\"tracegroupgap\":0,\"itemsizing\":\"constant\"},\"title\":{\"text\":\"max_features\"},\"height\":600,\"width\":970.8203932499999},                        {\"responsive\": true}                    ).then(function(){\n",
       "                            \n",
       "var gd = document.getElementById('fb54cdca-e7a9-4197-a696-bd0325868574');\n",
       "var x = new MutationObserver(function (mutations, observer) {{\n",
       "        var display = window.getComputedStyle(gd).display;\n",
       "        if (!display || display === 'none') {{\n",
       "            console.log([gd, 'removed!']);\n",
       "            Plotly.purge(gd);\n",
       "            observer.disconnect();\n",
       "        }}\n",
       "}});\n",
       "\n",
       "// Listen for the removal of the full notebook cells\n",
       "var notebookContainer = gd.closest('#notebook-container');\n",
       "if (notebookContainer) {{\n",
       "    x.observe(notebookContainer, {childList: true});\n",
       "}}\n",
       "\n",
       "// Listen for the clearing of the current output cell\n",
       "var outputEl = gd.closest('.output');\n",
       "if (outputEl) {{\n",
       "    x.observe(outputEl, {childList: true});\n",
       "}}\n",
       "\n",
       "                        })                };                });            </script>        </div>"
      ]
     },
     "metadata": {},
     "output_type": "display_data"
    }
   ],
   "source": [
    "#scatter_trend_line = 'ols'\n",
    "scatter_trend_line = 'lowess'\n",
    "#feature_color = 'encoder'\n",
    "feature_color = 'scaler'\n",
    "fig = px.scatter(\n",
    "    data_frame=score_df,\n",
    "    x='max_features',\n",
    "    y=parser.primary_score_name + \" Mean\",\n",
    "    size='n_estimators',\n",
    "    color=feature_color,\n",
    "    title='max_features',\n",
    "    trendline='lowess',\n",
    "#    facet_col=[]\n",
    "    #labels={'x': 'Iteration'},\n",
    "    custom_data=['labels'],\n",
    "    height=600,\n",
    "    width=600*hlp.plot.GOLDEN_RATIO\n",
    ")\n",
    "\n",
    "fig.show()"
   ]
  },
  {
   "cell_type": "code",
   "execution_count": 34,
   "id": "c2ef5449",
   "metadata": {
    "pycharm": {
     "name": "#%%\n"
    }
   },
   "outputs": [
    {
     "ename": "SyntaxError",
     "evalue": "invalid syntax (2595807486.py, line 9)",
     "output_type": "error",
     "traceback": [
      "\u001b[0;36m  File \u001b[0;32m\"/var/folders/7x/wc3jx_91337bggbzk01kpvs40000gn/T/ipykernel_19213/2595807486.py\"\u001b[0;36m, line \u001b[0;32m9\u001b[0m\n\u001b[0;31m    size=,\u001b[0m\n\u001b[0m         ^\u001b[0m\n\u001b[0;31mSyntaxError\u001b[0m\u001b[0;31m:\u001b[0m invalid syntax\n"
     ]
    }
   ],
   "source": [
    "#scatter_trend_line = 'ols'\n",
    "scatter_trend_line = 'lowess'\n",
    "#feature_color = 'encoder'\n",
    "feature_color = 'scaler'\n",
    "fig = px.scatter(\n",
    "    data_frame=score_df,\n",
    "    x='max_features',\n",
    "    y=parser.primary_score_name + \" Mean\",\n",
    "    size=,\n",
    "    color=None,\n",
    "    title='max_features',\n",
    "    trendline=scatter_trend_line,\n",
    "    #labels={'x': 'Iteration'},\n",
    "    custom_data=['labels'],\n",
    "    height=600,\n",
    "    width=600*hlp.plot.GOLDEN_RATIO\n",
    ")\n",
    "\n",
    "fig.update_traces(\n",
    "    hovertemplate=\"<br>\".join([\n",
    "        \"Iteration: %{x}\",\n",
    "        \"roc_auc Mean: %{y}\",\n",
    "        \"<br>Parameters: %{customdata[0]}\",\n",
    "    ])\n",
    ")\n",
    "\n",
    "fig.show()"
   ]
  },
  {
   "cell_type": "code",
   "execution_count": null,
   "id": "8ecc4ab5",
   "metadata": {
    "pycharm": {
     "name": "#%%\n"
    }
   },
   "outputs": [],
   "source": []
  },
  {
   "cell_type": "markdown",
   "id": "b09bd440",
   "metadata": {},
   "source": [
    "---"
   ]
  },
  {
   "cell_type": "markdown",
   "id": "3336ac9d",
   "metadata": {},
   "source": [
    "# Regression on `roc_auc Mean`"
   ]
  },
  {
   "cell_type": "code",
   "execution_count": null,
   "id": "cc0c6820",
   "metadata": {
    "pycharm": {
     "name": "#%%\n"
    }
   },
   "outputs": [],
   "source": [
    "score_name = parser.primary_score_name + \" Mean\"\n",
    "score_name"
   ]
  },
  {
   "cell_type": "code",
   "execution_count": null,
   "id": "f901701e",
   "metadata": {
    "pycharm": {
     "name": "#%%\n"
    }
   },
   "outputs": [],
   "source": [
    "parser.parameter_names"
   ]
  },
  {
   "cell_type": "code",
   "execution_count": null,
   "id": "9312ac50",
   "metadata": {
    "pycharm": {
     "name": "#%%\n"
    }
   },
   "outputs": [],
   "source": [
    "parser.to_formatted_dataframe()"
   ]
  },
  {
   "cell_type": "code",
   "execution_count": null,
   "id": "ede3925a",
   "metadata": {},
   "outputs": [],
   "source": [
    "score_dataframe = parser.to_dataframe()\n",
    "score_dataframe = score_dataframe.drop(columns=[x for x in score_dataframe.columns\n",
    "                              if x not in [score_name] + parser.parameter_names])\n",
    "score_dataframe.head()"
   ]
  },
  {
   "cell_type": "code",
   "execution_count": null,
   "id": "f072893d",
   "metadata": {
    "pycharm": {
     "name": "#%%\n"
    }
   },
   "outputs": [],
   "source": [
    "cleaned_column_names = [''.join(e for e in x.replace(' ', '_') if e == '_' or e.isalnum()) for x in score_dataframe.columns.tolist()]\n",
    "cleaned_column_names = dict(zip(score_dataframe.columns.tolist(), cleaned_column_names))\n",
    "cleaned_column_names"
   ]
  },
  {
   "cell_type": "code",
   "execution_count": null,
   "id": "8616e129",
   "metadata": {
    "pycharm": {
     "name": "#%%\n"
    }
   },
   "outputs": [],
   "source": [
    "score_dataframe = score_dataframe.rename(columns=cleaned_column_names)"
   ]
  },
  {
   "cell_type": "code",
   "execution_count": null,
   "id": "09de3afd",
   "metadata": {
    "pycharm": {
     "name": "#%%\n"
    }
   },
   "outputs": [],
   "source": [
    "import statsmodels.formula.api as smf\n",
    "\n",
    "y_column = 'roc_auc_Mean'\n",
    "X_columns = score_dataframe.columns.tolist()\n",
    "X_columns.remove(y_column)\n",
    "X_columns = hlp.string.collapse(X_columns, separate=\" + \", surround=\"\")\n",
    "\n",
    "formula = f\"{y_column} ~ {X_columns}\"\n",
    "print(formula)\n",
    "model = smf.ols(formula=formula, data = score_dataframe)\n",
    "results = model.fit()\n",
    "print(results.summary())"
   ]
  },
  {
   "cell_type": "code",
   "execution_count": null,
   "id": "d9791bf9",
   "metadata": {
    "pycharm": {
     "name": "#%%\n"
    }
   },
   "outputs": [],
   "source": [
    "from sklearn.preprocessing import StandardScaler\n",
    "from sklearn.compose import ColumnTransformer\n",
    "import pandas as pd\n",
    "\n",
    "scaler = StandardScaler()\n",
    "#scaler.fit_transform(bayes_search_df)\n",
    "\n",
    "numeric_columns = hlp.pandas.get_numeric_columns(score_dataframe)\n",
    "non_numeric_columns = hlp.pandas.get_non_numeric_columns(score_dataframe)\n",
    "\n",
    "print(numeric_columns)\n",
    "print(non_numeric_columns)\n",
    "\n",
    "numeric_pipeline = Pipeline([\n",
    "    ('scaling', StandardScaler()),\n",
    "])\n",
    "\n",
    "transformations_pipeline = ColumnTransformer([\n",
    "    ('numeric_pipeline', numeric_pipeline, numeric_columns),\n",
    "    ('non_numeric_pipeline', 'passthrough', non_numeric_columns)\n",
    "])\n",
    "\n",
    "score_dataframe_transformed = transformations_pipeline.fit_transform(score_dataframe)\n",
    "score_dataframe_transformed = pd.DataFrame(score_dataframe_transformed,\n",
    "                                           columns= numeric_columns + non_numeric_columns)\n",
    "score_dataframe_transformed"
   ]
  },
  {
   "cell_type": "code",
   "execution_count": null,
   "id": "00e391b2",
   "metadata": {},
   "outputs": [],
   "source": [
    "score_dataframe_transformed['roc_auc_Mean'] = score_dataframe_transformed['roc_auc_Mean'].astype('float')\n",
    "score_dataframe_transformed['max_features'] = score_dataframe_transformed['max_features'].astype('float')\n",
    "score_dataframe_transformed['n_estimators'] = score_dataframe_transformed['n_estimators'].astype('float')"
   ]
  },
  {
   "cell_type": "code",
   "execution_count": null,
   "id": "5827f79b",
   "metadata": {},
   "outputs": [],
   "source": [
    "print(formula)\n",
    "model = smf.ols(formula=formula,\n",
    "                data = score_dataframe_transformed)\n",
    "results = model.fit()\n",
    "print(results.summary())"
   ]
  },
  {
   "cell_type": "code",
   "execution_count": null,
   "id": "4e32cc55",
   "metadata": {},
   "outputs": [],
   "source": [
    "coefficients = results.params[results.params.index != 'Intercept']\n",
    "coefficients = coefficients.reindex(coefficients.abs().sort_values(ascending=False).index)"
   ]
  },
  {
   "cell_type": "code",
   "execution_count": null,
   "id": "663aa107",
   "metadata": {},
   "outputs": [],
   "source": [
    "coefficients"
   ]
  },
  {
   "cell_type": "code",
   "execution_count": null,
   "id": "47da6a2e",
   "metadata": {},
   "outputs": [],
   "source": [
    "coefficients = pd.DataFrame({'regression_coefficient': coefficients}).reset_index().rename(columns={'index': 'feature'})\n",
    "coefficients"
   ]
  },
  {
   "cell_type": "code",
   "execution_count": null,
   "id": "ae59352b",
   "metadata": {},
   "outputs": [],
   "source": [
    "px.bar(data_frame=coefficients.reindex(coefficients['regression_coefficient'].abs().sort_values(ascending=True).index),\n",
    "      y='feature',\n",
    "      x='regression_coefficient')"
   ]
  },
  {
   "cell_type": "code",
   "execution_count": null,
   "id": "25ffd0d2",
   "metadata": {},
   "outputs": [],
   "source": []
  }
 ],
 "metadata": {
  "kernelspec": {
   "display_name": "Python 3 (ipykernel)",
   "language": "python",
   "name": "python3"
  },
  "language_info": {
   "codemirror_mode": {
    "name": "ipython",
    "version": 3
   },
   "file_extension": ".py",
   "mimetype": "text/x-python",
   "name": "python",
   "nbconvert_exporter": "python",
   "pygments_lexer": "ipython3",
   "version": "3.9.6"
  },
  "toc": {
   "base_numbering": 1,
   "nav_menu": {},
   "number_sections": false,
   "sideBar": true,
   "skip_h1_title": false,
   "title_cell": "Table of Contents",
   "title_sidebar": "Contents",
   "toc_cell": false,
   "toc_position": {
    "height": "calc(100% - 180px)",
    "left": "10px",
    "top": "150px",
    "width": "298px"
   },
   "toc_section_display": true,
   "toc_window_display": true
  }
 },
 "nbformat": 4,
 "nbformat_minor": 5
}
