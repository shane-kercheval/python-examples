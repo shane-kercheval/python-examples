{
 "cells": [
  {
   "cell_type": "markdown",
   "id": "f47960fc",
   "metadata": {
    "pycharm": {
     "name": "#%% md\n"
    }
   },
   "source": [
    "This files contains an example of tuning a multiple models with BayesSearchCV."
   ]
  },
  {
   "cell_type": "code",
   "execution_count": 1,
   "id": "c5f3fe51",
   "metadata": {},
   "outputs": [],
   "source": [
    "import pickle\n",
    "import time\n",
    "\n",
    "import helpsk as hlp\n",
    "import pandas as pd\n",
    "import numpy as np\n",
    "import plotly.express as px\n",
    "from sklearn.impute import SimpleImputer\n",
    "from sklearn.pipeline import Pipeline\n",
    "from sklearn.preprocessing import StandardScaler, MinMaxScaler, OneHotEncoder\n",
    "\n",
    "import plotly.io as pio\n",
    "pio.renderers.default='notebook'"
   ]
  },
  {
   "cell_type": "markdown",
   "id": "8ff88fe0",
   "metadata": {},
   "source": [
    "# Load Data"
   ]
  },
  {
   "cell_type": "code",
   "execution_count": 2,
   "id": "757e287d",
   "metadata": {
    "pycharm": {
     "name": "#%%\n"
    }
   },
   "outputs": [],
   "source": [
    "with open('../X_train.pkl', 'rb') as handle:\n",
    "    X_train = pickle.load(handle)\n",
    "\n",
    "with open('../y_train.pkl', 'rb') as handle:\n",
    "    y_train = pickle.load(handle)"
   ]
  },
  {
   "cell_type": "code",
   "execution_count": 3,
   "id": "172f513d",
   "metadata": {
    "pycharm": {
     "name": "#%%\n"
    }
   },
   "outputs": [
    {
     "data": {
      "text/html": [
       "<style type=\"text/css\">\n",
       "#T_de521_row0_col1, #T_de521_row1_col3 {\n",
       "  background-color: #EBB13E;\n",
       "}\n",
       "#T_de521_row0_col2 {\n",
       "  width: 10em;\n",
       "  height: 80%;\n",
       "  background: linear-gradient(90deg,#CF3721 5.0%, transparent 5.0%);\n",
       "}\n",
       "#T_de521_row0_col4, #T_de521_row1_col2, #T_de521_row2_col2, #T_de521_row2_col4, #T_de521_row3_col2, #T_de521_row3_col4, #T_de521_row4_col2, #T_de521_row4_col4, #T_de521_row5_col2, #T_de521_row5_col4, #T_de521_row6_col2, #T_de521_row6_col4 {\n",
       "  width: 10em;\n",
       "  height: 80%;\n",
       "}\n",
       "#T_de521_row0_col7 {\n",
       "  width: 10em;\n",
       "  height: 80%;\n",
       "  background: linear-gradient(90deg,#B4B7B9 56.0%, transparent 56.0%);\n",
       "}\n",
       "#T_de521_row0_col8 {\n",
       "  width: 10em;\n",
       "  height: 80%;\n",
       "  background: linear-gradient(90deg, transparent 50.0%, #B4B7B9 50.0%, #B4B7B9 75.2%, transparent 75.2%);\n",
       "}\n",
       "#T_de521_row1_col4 {\n",
       "  width: 10em;\n",
       "  height: 80%;\n",
       "  background: linear-gradient(90deg,#B4B7B9 5.0%, transparent 5.0%);\n",
       "}\n",
       "#T_de521_row1_col7 {\n",
       "  width: 10em;\n",
       "  height: 80%;\n",
       "  background: linear-gradient(90deg,#B4B7B9 92.0%, transparent 92.0%);\n",
       "}\n",
       "#T_de521_row1_col8 {\n",
       "  width: 10em;\n",
       "  height: 80%;\n",
       "  background: linear-gradient(90deg, transparent 50.0%, #B4B7B9 50.0%, #B4B7B9 96.7%, transparent 96.7%);\n",
       "}\n",
       "#T_de521_row2_col7 {\n",
       "  width: 10em;\n",
       "  height: 80%;\n",
       "  background: linear-gradient(90deg,#B4B7B9 38.0%, transparent 38.0%);\n",
       "}\n",
       "#T_de521_row2_col8 {\n",
       "  width: 10em;\n",
       "  height: 80%;\n",
       "  background: linear-gradient(90deg, transparent 37.0%, #B4B7B9 37.0%, #B4B7B9 50.0%, transparent 50.0%);\n",
       "}\n",
       "#T_de521_row3_col7 {\n",
       "  width: 10em;\n",
       "  height: 80%;\n",
       "  background: linear-gradient(90deg,#B4B7B9 39.0%, transparent 39.0%);\n",
       "}\n",
       "#T_de521_row3_col8 {\n",
       "  width: 10em;\n",
       "  height: 80%;\n",
       "  background: linear-gradient(90deg, transparent 43.2%, #B4B7B9 43.2%, #B4B7B9 50.0%, transparent 50.0%);\n",
       "}\n",
       "#T_de521_row4_col7 {\n",
       "  width: 10em;\n",
       "  height: 80%;\n",
       "  background: linear-gradient(90deg,#B4B7B9 32.0%, transparent 32.0%);\n",
       "}\n",
       "#T_de521_row4_col8 {\n",
       "  width: 10em;\n",
       "  height: 80%;\n",
       "  background: linear-gradient(90deg, transparent 50.0%, #B4B7B9 50.0%, #B4B7B9 75.7%, transparent 75.7%);\n",
       "}\n",
       "#T_de521_row5_col7 {\n",
       "  width: 10em;\n",
       "  height: 80%;\n",
       "  background: linear-gradient(90deg,#B4B7B9 41.0%, transparent 41.0%);\n",
       "}\n",
       "#T_de521_row5_col8 {\n",
       "  width: 10em;\n",
       "  height: 80%;\n",
       "  background: linear-gradient(90deg, transparent 50.0%, #B4B7B9 50.0%, #B4B7B9 81.5%, transparent 81.5%);\n",
       "}\n",
       "#T_de521_row6_col7 {\n",
       "  width: 10em;\n",
       "  height: 80%;\n",
       "  background: linear-gradient(90deg,#B4B7B9 31.0%, transparent 31.0%);\n",
       "}\n",
       "#T_de521_row6_col8 {\n",
       "  width: 10em;\n",
       "  height: 80%;\n",
       "  background: linear-gradient(90deg, transparent 50.0%, #B4B7B9 50.0%, #B4B7B9 100.0%, transparent 100.0%);\n",
       "}\n",
       "</style>\n",
       "<table id=\"T_de521_\">\n",
       "  <thead>\n",
       "    <tr>\n",
       "      <th class=\"blank level0\" >&nbsp;</th>\n",
       "      <th class=\"col_heading level0 col0\" ># of Non-Nulls</th>\n",
       "      <th class=\"col_heading level0 col1\" ># of Nulls</th>\n",
       "      <th class=\"col_heading level0 col2\" >% Nulls</th>\n",
       "      <th class=\"col_heading level0 col3\" ># of Zeros</th>\n",
       "      <th class=\"col_heading level0 col4\" >% Zeros</th>\n",
       "      <th class=\"col_heading level0 col5\" >Mean</th>\n",
       "      <th class=\"col_heading level0 col6\" >St Dev.</th>\n",
       "      <th class=\"col_heading level0 col7\" >Coef of Var</th>\n",
       "      <th class=\"col_heading level0 col8\" >Skewness</th>\n",
       "      <th class=\"col_heading level0 col9\" >Kurtosis</th>\n",
       "      <th class=\"col_heading level0 col10\" >Min</th>\n",
       "      <th class=\"col_heading level0 col11\" >10%</th>\n",
       "      <th class=\"col_heading level0 col12\" >25%</th>\n",
       "      <th class=\"col_heading level0 col13\" >50%</th>\n",
       "      <th class=\"col_heading level0 col14\" >75%</th>\n",
       "      <th class=\"col_heading level0 col15\" >90%</th>\n",
       "      <th class=\"col_heading level0 col16\" >Max</th>\n",
       "    </tr>\n",
       "  </thead>\n",
       "  <tbody>\n",
       "    <tr>\n",
       "      <th id=\"T_de521_level0_row0\" class=\"row_heading level0 row0\" >duration</th>\n",
       "      <td id=\"T_de521_row0_col0\" class=\"data row0 col0\" >760</td>\n",
       "      <td id=\"T_de521_row0_col1\" class=\"data row0 col1\" >40</td>\n",
       "      <td id=\"T_de521_row0_col2\" class=\"data row0 col2\" >5.0%</td>\n",
       "      <td id=\"T_de521_row0_col3\" class=\"data row0 col3\" >0</td>\n",
       "      <td id=\"T_de521_row0_col4\" class=\"data row0 col4\" >0.0%</td>\n",
       "      <td id=\"T_de521_row0_col5\" class=\"data row0 col5\" >21.0</td>\n",
       "      <td id=\"T_de521_row0_col6\" class=\"data row0 col6\" >11.7</td>\n",
       "      <td id=\"T_de521_row0_col7\" class=\"data row0 col7\" >0.6</td>\n",
       "      <td id=\"T_de521_row0_col8\" class=\"data row0 col8\" >1.0</td>\n",
       "      <td id=\"T_de521_row0_col9\" class=\"data row0 col9\" >0.6</td>\n",
       "      <td id=\"T_de521_row0_col10\" class=\"data row0 col10\" >4.0</td>\n",
       "      <td id=\"T_de521_row0_col11\" class=\"data row0 col11\" >9.0</td>\n",
       "      <td id=\"T_de521_row0_col12\" class=\"data row0 col12\" >12.0</td>\n",
       "      <td id=\"T_de521_row0_col13\" class=\"data row0 col13\" >18.0</td>\n",
       "      <td id=\"T_de521_row0_col14\" class=\"data row0 col14\" >24.0</td>\n",
       "      <td id=\"T_de521_row0_col15\" class=\"data row0 col15\" >36.0</td>\n",
       "      <td id=\"T_de521_row0_col16\" class=\"data row0 col16\" >60.0</td>\n",
       "    </tr>\n",
       "    <tr>\n",
       "      <th id=\"T_de521_level0_row1\" class=\"row_heading level0 row1\" >credit_amount</th>\n",
       "      <td id=\"T_de521_row1_col0\" class=\"data row1 col0\" >800</td>\n",
       "      <td id=\"T_de521_row1_col1\" class=\"data row1 col1\" >0</td>\n",
       "      <td id=\"T_de521_row1_col2\" class=\"data row1 col2\" >0.0%</td>\n",
       "      <td id=\"T_de521_row1_col3\" class=\"data row1 col3\" >38</td>\n",
       "      <td id=\"T_de521_row1_col4\" class=\"data row1 col4\" >5.0%</td>\n",
       "      <td id=\"T_de521_row1_col5\" class=\"data row1 col5\" >3,203.9</td>\n",
       "      <td id=\"T_de521_row1_col6\" class=\"data row1 col6\" >2,932.3</td>\n",
       "      <td id=\"T_de521_row1_col7\" class=\"data row1 col7\" >0.9</td>\n",
       "      <td id=\"T_de521_row1_col8\" class=\"data row1 col8\" >1.9</td>\n",
       "      <td id=\"T_de521_row1_col9\" class=\"data row1 col9\" >3.9</td>\n",
       "      <td id=\"T_de521_row1_col10\" class=\"data row1 col10\" >0.0</td>\n",
       "      <td id=\"T_de521_row1_col11\" class=\"data row1 col11\" >753.9</td>\n",
       "      <td id=\"T_de521_row1_col12\" class=\"data row1 col12\" >1,300.8</td>\n",
       "      <td id=\"T_de521_row1_col13\" class=\"data row1 col13\" >2,236.5</td>\n",
       "      <td id=\"T_de521_row1_col14\" class=\"data row1 col14\" >3,951.5</td>\n",
       "      <td id=\"T_de521_row1_col15\" class=\"data row1 col15\" >7,394.6</td>\n",
       "      <td id=\"T_de521_row1_col16\" class=\"data row1 col16\" >18,424.0</td>\n",
       "    </tr>\n",
       "    <tr>\n",
       "      <th id=\"T_de521_level0_row2\" class=\"row_heading level0 row2\" >installment_commitment</th>\n",
       "      <td id=\"T_de521_row2_col0\" class=\"data row2 col0\" >800</td>\n",
       "      <td id=\"T_de521_row2_col1\" class=\"data row2 col1\" >0</td>\n",
       "      <td id=\"T_de521_row2_col2\" class=\"data row2 col2\" >0.0%</td>\n",
       "      <td id=\"T_de521_row2_col3\" class=\"data row2 col3\" >0</td>\n",
       "      <td id=\"T_de521_row2_col4\" class=\"data row2 col4\" >0.0%</td>\n",
       "      <td id=\"T_de521_row2_col5\" class=\"data row2 col5\" >3.0</td>\n",
       "      <td id=\"T_de521_row2_col6\" class=\"data row2 col6\" >1.1</td>\n",
       "      <td id=\"T_de521_row2_col7\" class=\"data row2 col7\" >0.4</td>\n",
       "      <td id=\"T_de521_row2_col8\" class=\"data row2 col8\" >-0.5</td>\n",
       "      <td id=\"T_de521_row2_col9\" class=\"data row2 col9\" >-1.2</td>\n",
       "      <td id=\"T_de521_row2_col10\" class=\"data row2 col10\" >1.0</td>\n",
       "      <td id=\"T_de521_row2_col11\" class=\"data row2 col11\" >1.0</td>\n",
       "      <td id=\"T_de521_row2_col12\" class=\"data row2 col12\" >2.0</td>\n",
       "      <td id=\"T_de521_row2_col13\" class=\"data row2 col13\" >3.0</td>\n",
       "      <td id=\"T_de521_row2_col14\" class=\"data row2 col14\" >4.0</td>\n",
       "      <td id=\"T_de521_row2_col15\" class=\"data row2 col15\" >4.0</td>\n",
       "      <td id=\"T_de521_row2_col16\" class=\"data row2 col16\" >4.0</td>\n",
       "    </tr>\n",
       "    <tr>\n",
       "      <th id=\"T_de521_level0_row3\" class=\"row_heading level0 row3\" >residence_since</th>\n",
       "      <td id=\"T_de521_row3_col0\" class=\"data row3 col0\" >800</td>\n",
       "      <td id=\"T_de521_row3_col1\" class=\"data row3 col1\" >0</td>\n",
       "      <td id=\"T_de521_row3_col2\" class=\"data row3 col2\" >0.0%</td>\n",
       "      <td id=\"T_de521_row3_col3\" class=\"data row3 col3\" >0</td>\n",
       "      <td id=\"T_de521_row3_col4\" class=\"data row3 col4\" >0.0%</td>\n",
       "      <td id=\"T_de521_row3_col5\" class=\"data row3 col5\" >2.9</td>\n",
       "      <td id=\"T_de521_row3_col6\" class=\"data row3 col6\" >1.1</td>\n",
       "      <td id=\"T_de521_row3_col7\" class=\"data row3 col7\" >0.4</td>\n",
       "      <td id=\"T_de521_row3_col8\" class=\"data row3 col8\" >-0.3</td>\n",
       "      <td id=\"T_de521_row3_col9\" class=\"data row3 col9\" >-1.4</td>\n",
       "      <td id=\"T_de521_row3_col10\" class=\"data row3 col10\" >1.0</td>\n",
       "      <td id=\"T_de521_row3_col11\" class=\"data row3 col11\" >1.0</td>\n",
       "      <td id=\"T_de521_row3_col12\" class=\"data row3 col12\" >2.0</td>\n",
       "      <td id=\"T_de521_row3_col13\" class=\"data row3 col13\" >3.0</td>\n",
       "      <td id=\"T_de521_row3_col14\" class=\"data row3 col14\" >4.0</td>\n",
       "      <td id=\"T_de521_row3_col15\" class=\"data row3 col15\" >4.0</td>\n",
       "      <td id=\"T_de521_row3_col16\" class=\"data row3 col16\" >4.0</td>\n",
       "    </tr>\n",
       "    <tr>\n",
       "      <th id=\"T_de521_level0_row4\" class=\"row_heading level0 row4\" >age</th>\n",
       "      <td id=\"T_de521_row4_col0\" class=\"data row4 col0\" >800</td>\n",
       "      <td id=\"T_de521_row4_col1\" class=\"data row4 col1\" >0</td>\n",
       "      <td id=\"T_de521_row4_col2\" class=\"data row4 col2\" >0.0%</td>\n",
       "      <td id=\"T_de521_row4_col3\" class=\"data row4 col3\" >0</td>\n",
       "      <td id=\"T_de521_row4_col4\" class=\"data row4 col4\" >0.0%</td>\n",
       "      <td id=\"T_de521_row4_col5\" class=\"data row4 col5\" >35.6</td>\n",
       "      <td id=\"T_de521_row4_col6\" class=\"data row4 col6\" >11.4</td>\n",
       "      <td id=\"T_de521_row4_col7\" class=\"data row4 col7\" >0.3</td>\n",
       "      <td id=\"T_de521_row4_col8\" class=\"data row4 col8\" >1.0</td>\n",
       "      <td id=\"T_de521_row4_col9\" class=\"data row4 col9\" >0.7</td>\n",
       "      <td id=\"T_de521_row4_col10\" class=\"data row4 col10\" >19.0</td>\n",
       "      <td id=\"T_de521_row4_col11\" class=\"data row4 col11\" >23.0</td>\n",
       "      <td id=\"T_de521_row4_col12\" class=\"data row4 col12\" >27.0</td>\n",
       "      <td id=\"T_de521_row4_col13\" class=\"data row4 col13\" >33.0</td>\n",
       "      <td id=\"T_de521_row4_col14\" class=\"data row4 col14\" >42.0</td>\n",
       "      <td id=\"T_de521_row4_col15\" class=\"data row4 col15\" >52.0</td>\n",
       "      <td id=\"T_de521_row4_col16\" class=\"data row4 col16\" >75.0</td>\n",
       "    </tr>\n",
       "    <tr>\n",
       "      <th id=\"T_de521_level0_row5\" class=\"row_heading level0 row5\" >existing_credits</th>\n",
       "      <td id=\"T_de521_row5_col0\" class=\"data row5 col0\" >800</td>\n",
       "      <td id=\"T_de521_row5_col1\" class=\"data row5 col1\" >0</td>\n",
       "      <td id=\"T_de521_row5_col2\" class=\"data row5 col2\" >0.0%</td>\n",
       "      <td id=\"T_de521_row5_col3\" class=\"data row5 col3\" >0</td>\n",
       "      <td id=\"T_de521_row5_col4\" class=\"data row5 col4\" >0.0%</td>\n",
       "      <td id=\"T_de521_row5_col5\" class=\"data row5 col5\" >1.4</td>\n",
       "      <td id=\"T_de521_row5_col6\" class=\"data row5 col6\" >0.6</td>\n",
       "      <td id=\"T_de521_row5_col7\" class=\"data row5 col7\" >0.4</td>\n",
       "      <td id=\"T_de521_row5_col8\" class=\"data row5 col8\" >1.3</td>\n",
       "      <td id=\"T_de521_row5_col9\" class=\"data row5 col9\" >1.6</td>\n",
       "      <td id=\"T_de521_row5_col10\" class=\"data row5 col10\" >1.0</td>\n",
       "      <td id=\"T_de521_row5_col11\" class=\"data row5 col11\" >1.0</td>\n",
       "      <td id=\"T_de521_row5_col12\" class=\"data row5 col12\" >1.0</td>\n",
       "      <td id=\"T_de521_row5_col13\" class=\"data row5 col13\" >1.0</td>\n",
       "      <td id=\"T_de521_row5_col14\" class=\"data row5 col14\" >2.0</td>\n",
       "      <td id=\"T_de521_row5_col15\" class=\"data row5 col15\" >2.0</td>\n",
       "      <td id=\"T_de521_row5_col16\" class=\"data row5 col16\" >4.0</td>\n",
       "    </tr>\n",
       "    <tr>\n",
       "      <th id=\"T_de521_level0_row6\" class=\"row_heading level0 row6\" >num_dependents</th>\n",
       "      <td id=\"T_de521_row6_col0\" class=\"data row6 col0\" >800</td>\n",
       "      <td id=\"T_de521_row6_col1\" class=\"data row6 col1\" >0</td>\n",
       "      <td id=\"T_de521_row6_col2\" class=\"data row6 col2\" >0.0%</td>\n",
       "      <td id=\"T_de521_row6_col3\" class=\"data row6 col3\" >0</td>\n",
       "      <td id=\"T_de521_row6_col4\" class=\"data row6 col4\" >0.0%</td>\n",
       "      <td id=\"T_de521_row6_col5\" class=\"data row6 col5\" >1.1</td>\n",
       "      <td id=\"T_de521_row6_col6\" class=\"data row6 col6\" >0.3</td>\n",
       "      <td id=\"T_de521_row6_col7\" class=\"data row6 col7\" >0.3</td>\n",
       "      <td id=\"T_de521_row6_col8\" class=\"data row6 col8\" >2.0</td>\n",
       "      <td id=\"T_de521_row6_col9\" class=\"data row6 col9\" >2.1</td>\n",
       "      <td id=\"T_de521_row6_col10\" class=\"data row6 col10\" >1.0</td>\n",
       "      <td id=\"T_de521_row6_col11\" class=\"data row6 col11\" >1.0</td>\n",
       "      <td id=\"T_de521_row6_col12\" class=\"data row6 col12\" >1.0</td>\n",
       "      <td id=\"T_de521_row6_col13\" class=\"data row6 col13\" >1.0</td>\n",
       "      <td id=\"T_de521_row6_col14\" class=\"data row6 col14\" >1.0</td>\n",
       "      <td id=\"T_de521_row6_col15\" class=\"data row6 col15\" >2.0</td>\n",
       "      <td id=\"T_de521_row6_col16\" class=\"data row6 col16\" >2.0</td>\n",
       "    </tr>\n",
       "  </tbody>\n",
       "</table>\n"
      ],
      "text/plain": [
       "<pandas.io.formats.style.Styler at 0x7fc95127bc70>"
      ]
     },
     "execution_count": 3,
     "metadata": {},
     "output_type": "execute_result"
    }
   ],
   "source": [
    "hlp.pandas.numeric_summary(X_train, return_style=True)"
   ]
  },
  {
   "cell_type": "code",
   "execution_count": 4,
   "id": "7e08ebd1",
   "metadata": {
    "pycharm": {
     "name": "#%%\n"
    }
   },
   "outputs": [
    {
     "data": {
      "text/html": [
       "<style type=\"text/css\">\n",
       "#T_44259_row0_col1 {\n",
       "  background-color: #EBB13E;\n",
       "}\n",
       "#T_44259_row0_col2 {\n",
       "  width: 10em;\n",
       "  height: 80%;\n",
       "  background: linear-gradient(90deg,#CF3721 4.6%, transparent 4.6%);\n",
       "}\n",
       "#T_44259_row0_col5, #T_44259_row5_col5, #T_44259_row7_col5, #T_44259_row10_col5 {\n",
       "  width: 10em;\n",
       "  height: 80%;\n",
       "  background: linear-gradient(90deg,#B4B7B9 0.5%, transparent 0.5%);\n",
       "}\n",
       "#T_44259_row1_col2, #T_44259_row2_col2, #T_44259_row3_col2, #T_44259_row4_col2, #T_44259_row5_col2, #T_44259_row6_col2, #T_44259_row7_col2, #T_44259_row8_col2, #T_44259_row9_col2, #T_44259_row10_col2, #T_44259_row11_col2, #T_44259_row12_col2 {\n",
       "  width: 10em;\n",
       "  height: 80%;\n",
       "}\n",
       "#T_44259_row1_col5, #T_44259_row3_col5, #T_44259_row4_col5 {\n",
       "  width: 10em;\n",
       "  height: 80%;\n",
       "  background: linear-gradient(90deg,#B4B7B9 0.6%, transparent 0.6%);\n",
       "}\n",
       "#T_44259_row2_col5 {\n",
       "  width: 10em;\n",
       "  height: 80%;\n",
       "  background: linear-gradient(90deg,#B4B7B9 1.2%, transparent 1.2%);\n",
       "}\n",
       "#T_44259_row6_col5, #T_44259_row8_col5, #T_44259_row9_col5 {\n",
       "  width: 10em;\n",
       "  height: 80%;\n",
       "  background: linear-gradient(90deg,#B4B7B9 0.4%, transparent 0.4%);\n",
       "}\n",
       "#T_44259_row11_col5, #T_44259_row12_col5 {\n",
       "  width: 10em;\n",
       "  height: 80%;\n",
       "  background: linear-gradient(90deg,#B4B7B9 0.2%, transparent 0.2%);\n",
       "}\n",
       "</style>\n",
       "<table id=\"T_44259_\">\n",
       "  <thead>\n",
       "    <tr>\n",
       "      <th class=\"blank level0\" >&nbsp;</th>\n",
       "      <th class=\"col_heading level0 col0\" ># of Non-Nulls</th>\n",
       "      <th class=\"col_heading level0 col1\" ># of Nulls</th>\n",
       "      <th class=\"col_heading level0 col2\" >% Nulls</th>\n",
       "      <th class=\"col_heading level0 col3\" >Most Freq. Value</th>\n",
       "      <th class=\"col_heading level0 col4\" ># of Unique</th>\n",
       "      <th class=\"col_heading level0 col5\" >% Unique</th>\n",
       "    </tr>\n",
       "  </thead>\n",
       "  <tbody>\n",
       "    <tr>\n",
       "      <th id=\"T_44259_level0_row0\" class=\"row_heading level0 row0\" >checking_status</th>\n",
       "      <td id=\"T_44259_row0_col0\" class=\"data row0 col0\" >763</td>\n",
       "      <td id=\"T_44259_row0_col1\" class=\"data row0 col1\" >37</td>\n",
       "      <td id=\"T_44259_row0_col2\" class=\"data row0 col2\" >4.6%</td>\n",
       "      <td id=\"T_44259_row0_col3\" class=\"data row0 col3\" >no checking</td>\n",
       "      <td id=\"T_44259_row0_col4\" class=\"data row0 col4\" >4</td>\n",
       "      <td id=\"T_44259_row0_col5\" class=\"data row0 col5\" >0.5%</td>\n",
       "    </tr>\n",
       "    <tr>\n",
       "      <th id=\"T_44259_level0_row1\" class=\"row_heading level0 row1\" >credit_history</th>\n",
       "      <td id=\"T_44259_row1_col0\" class=\"data row1 col0\" >800</td>\n",
       "      <td id=\"T_44259_row1_col1\" class=\"data row1 col1\" >0</td>\n",
       "      <td id=\"T_44259_row1_col2\" class=\"data row1 col2\" >0.0%</td>\n",
       "      <td id=\"T_44259_row1_col3\" class=\"data row1 col3\" >existing paid</td>\n",
       "      <td id=\"T_44259_row1_col4\" class=\"data row1 col4\" >5</td>\n",
       "      <td id=\"T_44259_row1_col5\" class=\"data row1 col5\" >0.6%</td>\n",
       "    </tr>\n",
       "    <tr>\n",
       "      <th id=\"T_44259_level0_row2\" class=\"row_heading level0 row2\" >purpose</th>\n",
       "      <td id=\"T_44259_row2_col0\" class=\"data row2 col0\" >800</td>\n",
       "      <td id=\"T_44259_row2_col1\" class=\"data row2 col1\" >0</td>\n",
       "      <td id=\"T_44259_row2_col2\" class=\"data row2 col2\" >0.0%</td>\n",
       "      <td id=\"T_44259_row2_col3\" class=\"data row2 col3\" >radio/tv</td>\n",
       "      <td id=\"T_44259_row2_col4\" class=\"data row2 col4\" >10</td>\n",
       "      <td id=\"T_44259_row2_col5\" class=\"data row2 col5\" >1.2%</td>\n",
       "    </tr>\n",
       "    <tr>\n",
       "      <th id=\"T_44259_level0_row3\" class=\"row_heading level0 row3\" >savings_status</th>\n",
       "      <td id=\"T_44259_row3_col0\" class=\"data row3 col0\" >800</td>\n",
       "      <td id=\"T_44259_row3_col1\" class=\"data row3 col1\" >0</td>\n",
       "      <td id=\"T_44259_row3_col2\" class=\"data row3 col2\" >0.0%</td>\n",
       "      <td id=\"T_44259_row3_col3\" class=\"data row3 col3\" >&lt;100</td>\n",
       "      <td id=\"T_44259_row3_col4\" class=\"data row3 col4\" >5</td>\n",
       "      <td id=\"T_44259_row3_col5\" class=\"data row3 col5\" >0.6%</td>\n",
       "    </tr>\n",
       "    <tr>\n",
       "      <th id=\"T_44259_level0_row4\" class=\"row_heading level0 row4\" >employment</th>\n",
       "      <td id=\"T_44259_row4_col0\" class=\"data row4 col0\" >800</td>\n",
       "      <td id=\"T_44259_row4_col1\" class=\"data row4 col1\" >0</td>\n",
       "      <td id=\"T_44259_row4_col2\" class=\"data row4 col2\" >0.0%</td>\n",
       "      <td id=\"T_44259_row4_col3\" class=\"data row4 col3\" >1&lt;=X&lt;4</td>\n",
       "      <td id=\"T_44259_row4_col4\" class=\"data row4 col4\" >5</td>\n",
       "      <td id=\"T_44259_row4_col5\" class=\"data row4 col5\" >0.6%</td>\n",
       "    </tr>\n",
       "    <tr>\n",
       "      <th id=\"T_44259_level0_row5\" class=\"row_heading level0 row5\" >personal_status</th>\n",
       "      <td id=\"T_44259_row5_col0\" class=\"data row5 col0\" >800</td>\n",
       "      <td id=\"T_44259_row5_col1\" class=\"data row5 col1\" >0</td>\n",
       "      <td id=\"T_44259_row5_col2\" class=\"data row5 col2\" >0.0%</td>\n",
       "      <td id=\"T_44259_row5_col3\" class=\"data row5 col3\" >male single</td>\n",
       "      <td id=\"T_44259_row5_col4\" class=\"data row5 col4\" >4</td>\n",
       "      <td id=\"T_44259_row5_col5\" class=\"data row5 col5\" >0.5%</td>\n",
       "    </tr>\n",
       "    <tr>\n",
       "      <th id=\"T_44259_level0_row6\" class=\"row_heading level0 row6\" >other_parties</th>\n",
       "      <td id=\"T_44259_row6_col0\" class=\"data row6 col0\" >800</td>\n",
       "      <td id=\"T_44259_row6_col1\" class=\"data row6 col1\" >0</td>\n",
       "      <td id=\"T_44259_row6_col2\" class=\"data row6 col2\" >0.0%</td>\n",
       "      <td id=\"T_44259_row6_col3\" class=\"data row6 col3\" >none</td>\n",
       "      <td id=\"T_44259_row6_col4\" class=\"data row6 col4\" >3</td>\n",
       "      <td id=\"T_44259_row6_col5\" class=\"data row6 col5\" >0.4%</td>\n",
       "    </tr>\n",
       "    <tr>\n",
       "      <th id=\"T_44259_level0_row7\" class=\"row_heading level0 row7\" >property_magnitude</th>\n",
       "      <td id=\"T_44259_row7_col0\" class=\"data row7 col0\" >800</td>\n",
       "      <td id=\"T_44259_row7_col1\" class=\"data row7 col1\" >0</td>\n",
       "      <td id=\"T_44259_row7_col2\" class=\"data row7 col2\" >0.0%</td>\n",
       "      <td id=\"T_44259_row7_col3\" class=\"data row7 col3\" >car</td>\n",
       "      <td id=\"T_44259_row7_col4\" class=\"data row7 col4\" >4</td>\n",
       "      <td id=\"T_44259_row7_col5\" class=\"data row7 col5\" >0.5%</td>\n",
       "    </tr>\n",
       "    <tr>\n",
       "      <th id=\"T_44259_level0_row8\" class=\"row_heading level0 row8\" >other_payment_plans</th>\n",
       "      <td id=\"T_44259_row8_col0\" class=\"data row8 col0\" >800</td>\n",
       "      <td id=\"T_44259_row8_col1\" class=\"data row8 col1\" >0</td>\n",
       "      <td id=\"T_44259_row8_col2\" class=\"data row8 col2\" >0.0%</td>\n",
       "      <td id=\"T_44259_row8_col3\" class=\"data row8 col3\" >none</td>\n",
       "      <td id=\"T_44259_row8_col4\" class=\"data row8 col4\" >3</td>\n",
       "      <td id=\"T_44259_row8_col5\" class=\"data row8 col5\" >0.4%</td>\n",
       "    </tr>\n",
       "    <tr>\n",
       "      <th id=\"T_44259_level0_row9\" class=\"row_heading level0 row9\" >housing</th>\n",
       "      <td id=\"T_44259_row9_col0\" class=\"data row9 col0\" >800</td>\n",
       "      <td id=\"T_44259_row9_col1\" class=\"data row9 col1\" >0</td>\n",
       "      <td id=\"T_44259_row9_col2\" class=\"data row9 col2\" >0.0%</td>\n",
       "      <td id=\"T_44259_row9_col3\" class=\"data row9 col3\" >own</td>\n",
       "      <td id=\"T_44259_row9_col4\" class=\"data row9 col4\" >3</td>\n",
       "      <td id=\"T_44259_row9_col5\" class=\"data row9 col5\" >0.4%</td>\n",
       "    </tr>\n",
       "    <tr>\n",
       "      <th id=\"T_44259_level0_row10\" class=\"row_heading level0 row10\" >job</th>\n",
       "      <td id=\"T_44259_row10_col0\" class=\"data row10 col0\" >800</td>\n",
       "      <td id=\"T_44259_row10_col1\" class=\"data row10 col1\" >0</td>\n",
       "      <td id=\"T_44259_row10_col2\" class=\"data row10 col2\" >0.0%</td>\n",
       "      <td id=\"T_44259_row10_col3\" class=\"data row10 col3\" >skilled</td>\n",
       "      <td id=\"T_44259_row10_col4\" class=\"data row10 col4\" >4</td>\n",
       "      <td id=\"T_44259_row10_col5\" class=\"data row10 col5\" >0.5%</td>\n",
       "    </tr>\n",
       "    <tr>\n",
       "      <th id=\"T_44259_level0_row11\" class=\"row_heading level0 row11\" >own_telephone</th>\n",
       "      <td id=\"T_44259_row11_col0\" class=\"data row11 col0\" >800</td>\n",
       "      <td id=\"T_44259_row11_col1\" class=\"data row11 col1\" >0</td>\n",
       "      <td id=\"T_44259_row11_col2\" class=\"data row11 col2\" >0.0%</td>\n",
       "      <td id=\"T_44259_row11_col3\" class=\"data row11 col3\" >none</td>\n",
       "      <td id=\"T_44259_row11_col4\" class=\"data row11 col4\" >2</td>\n",
       "      <td id=\"T_44259_row11_col5\" class=\"data row11 col5\" >0.2%</td>\n",
       "    </tr>\n",
       "    <tr>\n",
       "      <th id=\"T_44259_level0_row12\" class=\"row_heading level0 row12\" >foreign_worker</th>\n",
       "      <td id=\"T_44259_row12_col0\" class=\"data row12 col0\" >800</td>\n",
       "      <td id=\"T_44259_row12_col1\" class=\"data row12 col1\" >0</td>\n",
       "      <td id=\"T_44259_row12_col2\" class=\"data row12 col2\" >0.0%</td>\n",
       "      <td id=\"T_44259_row12_col3\" class=\"data row12 col3\" >yes</td>\n",
       "      <td id=\"T_44259_row12_col4\" class=\"data row12 col4\" >2</td>\n",
       "      <td id=\"T_44259_row12_col5\" class=\"data row12 col5\" >0.2%</td>\n",
       "    </tr>\n",
       "  </tbody>\n",
       "</table>\n"
      ],
      "text/plain": [
       "<pandas.io.formats.style.Styler at 0x7fc95129d2b0>"
      ]
     },
     "execution_count": 4,
     "metadata": {},
     "output_type": "execute_result"
    }
   ],
   "source": [
    "hlp.pandas.non_numeric_summary(X_train, return_style=True)"
   ]
  },
  {
   "cell_type": "code",
   "execution_count": 5,
   "id": "86f44647",
   "metadata": {},
   "outputs": [
    {
     "data": {
      "text/plain": [
       "array([1, 1, 0, 1, 0, 1, 0, 1, 1, 0])"
      ]
     },
     "execution_count": 5,
     "metadata": {},
     "output_type": "execute_result"
    }
   ],
   "source": [
    "y_train[0:10]"
   ]
  },
  {
   "cell_type": "code",
   "execution_count": 6,
   "id": "1662bbac",
   "metadata": {},
   "outputs": [
    {
     "data": {
      "text/plain": [
       "(array([0, 1]), array([559, 241]))"
      ]
     },
     "execution_count": 6,
     "metadata": {},
     "output_type": "execute_result"
    }
   ],
   "source": [
    "np.unique(y_train, return_counts=True)"
   ]
  },
  {
   "cell_type": "code",
   "execution_count": 7,
   "id": "bc038e2c",
   "metadata": {},
   "outputs": [
    {
     "data": {
      "text/plain": [
       "array([0.69875, 0.30125])"
      ]
     },
     "execution_count": 7,
     "metadata": {},
     "output_type": "execute_result"
    }
   ],
   "source": [
    "np.unique(y_train, return_counts=True)[1] / np.sum(np.unique(y_train, return_counts=True)[1])"
   ]
  },
  {
   "cell_type": "markdown",
   "id": "259f5c13",
   "metadata": {},
   "source": [
    "# Transformation Pipeline"
   ]
  },
  {
   "cell_type": "code",
   "execution_count": 8,
   "id": "c9b24b17",
   "metadata": {},
   "outputs": [
    {
     "data": {
      "text/plain": [
       "array([[0., 2.],\n",
       "       [2., 2.],\n",
       "       [9., 1.],\n",
       "       ...,\n",
       "       [9., 3.],\n",
       "       [6., 4.],\n",
       "       [6., 2.]])"
      ]
     },
     "execution_count": 8,
     "metadata": {},
     "output_type": "execute_result"
    }
   ],
   "source": [
    "from sklearn.preprocessing import OrdinalEncoder\n",
    "OrdinalEncoder().fit_transform(X_train[['purpose', 'savings_status']])"
   ]
  },
  {
   "cell_type": "code",
   "execution_count": 9,
   "id": "742c6bf1",
   "metadata": {},
   "outputs": [
    {
     "name": "stdout",
     "output_type": "stream",
     "text": [
      "['duration', 'credit_amount', 'installment_commitment', 'residence_since', 'age', 'existing_credits', 'num_dependents']\n",
      "['checking_status', 'credit_history', 'purpose', 'savings_status', 'employment', 'personal_status', 'other_parties', 'property_magnitude', 'other_payment_plans', 'housing', 'job', 'own_telephone', 'foreign_worker']\n"
     ]
    }
   ],
   "source": [
    "numeric_columns = hlp.pandas.get_numeric_columns(X_train)\n",
    "non_numeric_columns = hlp.pandas.get_non_numeric_columns(X_train)\n",
    "print(numeric_columns)\n",
    "print(non_numeric_columns)"
   ]
  },
  {
   "cell_type": "code",
   "execution_count": null,
   "id": "2eff4384",
   "metadata": {},
   "outputs": [],
   "source": []
  },
  {
   "cell_type": "code",
   "execution_count": 111,
   "id": "12c05194",
   "metadata": {},
   "outputs": [],
   "source": [
    "from sklearn.compose import ColumnTransformer\n",
    "from sklearn.dummy import DummyClassifier\n",
    "\n",
    "\n",
    "def build_classifier_search_pipeline(numeric_columns,\n",
    "                                     non_numeric_columns):\n",
    "    numeric_pipeline = Pipeline([\n",
    "        # tune how we want to impute values\n",
    "        # e.g. whether or not we want to impute (and how) or simply remove rows with missing values\n",
    "        ('imputer', hlp.sklearn_pipeline.TransformerChooser()),\n",
    "        # tune how we want to scale values\n",
    "        # e.g. MinMax/Normalization/None\n",
    "        ('scaler', hlp.sklearn_pipeline.TransformerChooser()),\n",
    "    ])\n",
    "    non_numeric_pipeline = Pipeline([\n",
    "        # tune how we handle categoric values\n",
    "        # e.g. One Hot, Custom-OrdinalEncoder\n",
    "        ('encoder', hlp.sklearn_pipeline.TransformerChooser()),\n",
    "    ])\n",
    "    # associate numeric/non-numeric columns with cooresponding pipeline\n",
    "    transformations_pipeline = ColumnTransformer([\n",
    "        ('numeric', numeric_pipeline, numeric_columns),\n",
    "        ('non_numeric', non_numeric_pipeline, non_numeric_columns)\n",
    "    ])\n",
    "    # add model to create the full pipeline\n",
    "    full_pipeline = Pipeline([\n",
    "        ('prep', transformations_pipeline),\n",
    "        ('model', DummyClassifier())\n",
    "    ])\n",
    "\n",
    "    return full_pipeline\n",
    "\n",
    "    "
   ]
  },
  {
   "cell_type": "code",
   "execution_count": 112,
   "id": "1d14765e",
   "metadata": {},
   "outputs": [
    {
     "data": {
      "text/plain": [
       "Pipeline(steps=[('prep',\n",
       "                 ColumnTransformer(transformers=[('numeric',\n",
       "                                                  Pipeline(steps=[('imputer',\n",
       "                                                                   TransformerChooser()),\n",
       "                                                                  ('scaler',\n",
       "                                                                   TransformerChooser())]),\n",
       "                                                  ['duration', 'credit_amount',\n",
       "                                                   'installment_commitment',\n",
       "                                                   'residence_since', 'age',\n",
       "                                                   'existing_credits',\n",
       "                                                   'num_dependents']),\n",
       "                                                 ('non_numeric',\n",
       "                                                  Pipeline(steps=[('encoder',\n",
       "                                                                   TransformerChooser())]),\n",
       "                                                  ['checking_status',\n",
       "                                                   'credit_history', 'purpose',\n",
       "                                                   'savings_status',\n",
       "                                                   'employment',\n",
       "                                                   'personal_status',\n",
       "                                                   'other_parties',\n",
       "                                                   'property_magnitude',\n",
       "                                                   'other_payment_plans',\n",
       "                                                   'housing', 'job',\n",
       "                                                   'own_telephone',\n",
       "                                                   'foreign_worker'])])),\n",
       "                ('model', DummyClassifier())])"
      ]
     },
     "execution_count": 112,
     "metadata": {},
     "output_type": "execute_result"
    }
   ],
   "source": [
    "build_classifier_search_pipeline(numeric_columns=numeric_columns, non_numeric_columns=non_numeric_columns)"
   ]
  },
  {
   "cell_type": "code",
   "execution_count": 165,
   "id": "e53b28aa",
   "metadata": {},
   "outputs": [
    {
     "data": {
      "text/plain": [
       "[None]"
      ]
     },
     "execution_count": 165,
     "metadata": {},
     "output_type": "execute_result"
    }
   ],
   "source": [
    "def build_imputers(strategies):\n",
    "    \n",
    "    if strategies:\n",
    "        imputers = [SimpleImputer(strategy=x) if x else None for x in strategies]\n",
    "    else:\n",
    "        imputers = [None]\n",
    "    \n",
    "    return imputers\n",
    "\n",
    "build_imputers(None)"
   ]
  },
  {
   "cell_type": "code",
   "execution_count": 166,
   "id": "6cf27c42",
   "metadata": {},
   "outputs": [
    {
     "data": {
      "text/plain": [
       "[None,\n",
       " SimpleImputer(),\n",
       " SimpleImputer(strategy='median'),\n",
       " SimpleImputer(strategy='most_frequent')]"
      ]
     },
     "execution_count": 166,
     "metadata": {},
     "output_type": "execute_result"
    }
   ],
   "source": [
    "build_imputers([None, 'mean', 'median', 'most_frequent'])"
   ]
  },
  {
   "cell_type": "code",
   "execution_count": 167,
   "id": "9176ec02",
   "metadata": {},
   "outputs": [
    {
     "data": {
      "text/plain": [
       "[SimpleImputer(),\n",
       " SimpleImputer(strategy='median'),\n",
       " SimpleImputer(strategy='most_frequent')]"
      ]
     },
     "execution_count": 167,
     "metadata": {},
     "output_type": "execute_result"
    }
   ],
   "source": [
    "build_imputers(['mean', 'median', 'most_frequent'])"
   ]
  },
  {
   "cell_type": "code",
   "execution_count": 168,
   "id": "b88dea1d",
   "metadata": {},
   "outputs": [],
   "source": [
    "def build_classifier_search_space_logistic(solver='lbfgs',\n",
    "                                           max_iter=1000,\n",
    "                                           C=(1e-6, 1e+2),\n",
    "                                           C_prior='log-uniform',\n",
    "                                           imputer_strategies=['mean', 'median', 'most_frequent'],\n",
    "                                           random_state=None):\n",
    "    from skopt.space import Real, Categorical, Integer\n",
    "    \n",
    "    model = LogisticRegression(\n",
    "        solver=solver,\n",
    "        max_iter=max_iter,\n",
    "        random_state=random_state\n",
    "    )\n",
    "\n",
    "    logistic_search_space = {\n",
    "        'model': Categorical([model]),\n",
    "        'model__C': Real(C[0], C[1], prior=C_prior),\n",
    "        # these steps correspond to the pipeline built in `build_classifier_search_pipeline()`\n",
    "        'prep__numeric__imputer__transformer': Categorical(build_imputers(imputer_strategies)),\n",
    "        'prep__numeric__scaler__transformer': Categorical([\n",
    "            None,\n",
    "            MinMaxScaler(),\n",
    "            StandardScaler()\n",
    "        ]),\n",
    "        'prep__non_numeric__encoder__transformer': Categorical([\n",
    "            OneHotEncoder(),\n",
    "            hlp.sklearn_pipeline.CustomOrdinalEncoder()\n",
    "        ]),\n",
    "    }\n",
    "    return logistic_search_space\n",
    "\n",
    "\n",
    "def build_classifier_search_space_xgboost(eval_metric='logloss',\n",
    "                                          use_label_encoder=False,\n",
    "                                          max_depth = (3, 10),\n",
    "                                          n_estimators = (50, 1000),\n",
    "                                          learning_rate = (0.01, 0.3),\n",
    "                                          colsample_bytree = (0.01, 1),\n",
    "                                          subsample = (0.1, 1),\n",
    "                                          imputer_strategies=None,\n",
    "                                          random_state=None):\n",
    "    from skopt.space import Real, Categorical, Integer\n",
    "    from xgboost import XGBClassifier\n",
    "    \n",
    "    model = XGBClassifier(\n",
    "        eval_metric=eval_metric,\n",
    "        use_label_encoder=use_label_encoder,\n",
    "        random_state=random_state,\n",
    "    )\n",
    "    # https://towardsdatascience.com/xgboost-fine-tune-and-optimize-your-model-23d996fab663\n",
    "    # max_depth: 3–10\n",
    "    # n_estimators: 100 (lots of observations) to 1000 (few observations)\n",
    "    # learning_rate: 0.01–0.3\n",
    "    # colsample_bytree: 0.5–1\n",
    "    # subsample: 0.6–1\n",
    "    # Then, you can focus on optimizing max_depth and n_estimators.\n",
    "    #You can then play along with the learning_rate, and increase it to speed up the model without decreasing the performances. If it becomes faster without losing in performances, you can increase the number of estimators to try to increase the performances.\n",
    "    \n",
    "    xgb_search_space = {\n",
    "        'model': Categorical([model]),\n",
    "        'model__max_depth': Integer(max_depth[0], max_depth[1]),\n",
    "        'model__n_estimators':  Integer(n_estimators[0], n_estimators[1]),\n",
    "        'model__learning_rate': Real(learning_rate[0], learning_rate[1]),\n",
    "        'model__colsample_bytree': Real(colsample_bytree[0], colsample_bytree[1]),\n",
    "        'model__subsample': Real(subsample[0], subsample[1]),\n",
    "        # these steps correspond to the pipeline built in `build_classifier_search_pipeline()`\n",
    "        'prep__numeric__imputer__transformer': Categorical(build_imputers(imputer_strategies)),\n",
    "        'prep__numeric__scaler__transformer': Categorical([None]),\n",
    "        'prep__non_numeric__encoder__transformer': Categorical([\n",
    "            OneHotEncoder(),\n",
    "            hlp.sklearn_pipeline.CustomOrdinalEncoder()\n",
    "        ]),    \n",
    "    }\n",
    "    \n",
    "    return xgb_search_space\n"
   ]
  },
  {
   "cell_type": "code",
   "execution_count": 169,
   "id": "c08cd009",
   "metadata": {},
   "outputs": [
    {
     "data": {
      "text/plain": [
       "{'model': Categorical(categories=(LogisticRegression(max_iter=1000),), prior=None),\n",
       " 'model__C': Real(low=1e-06, high=100.0, prior='log-uniform', transform='identity'),\n",
       " 'prep__numeric__imputer__transformer': Categorical(categories=(SimpleImputer(), SimpleImputer(strategy='median'), SimpleImputer(strategy='most_frequent')), prior=None),\n",
       " 'prep__numeric__scaler__transformer': Categorical(categories=(None, MinMaxScaler(), StandardScaler()), prior=None),\n",
       " 'prep__non_numeric__encoder__transformer': Categorical(categories=(OneHotEncoder(), CustomOrdinalEncoder()), prior=None)}"
      ]
     },
     "execution_count": 169,
     "metadata": {},
     "output_type": "execute_result"
    }
   ],
   "source": [
    "build_classifier_search_space_logistic()"
   ]
  },
  {
   "cell_type": "code",
   "execution_count": 170,
   "id": "5b75b7a5",
   "metadata": {},
   "outputs": [
    {
     "data": {
      "text/plain": [
       "{'model': Categorical(categories=(XGBClassifier(base_score=None, booster=None, colsample_bylevel=None,\n",
       "               colsample_bynode=None, colsample_bytree=None,\n",
       "               enable_categorical=False, eval_metric='logloss', gamma=None,\n",
       "               gpu_id=None, importance_type=None, interaction_constraints=None,\n",
       "               learning_rate=None, max_delta_step=None, max_depth=None,\n",
       "               min_child_weight=None, missing=nan, monotone_constraints=None,\n",
       "               n_estimators=100, n_jobs=None, num_parallel_tree=None,\n",
       "               predictor=None, random_state=None, reg_alpha=None,\n",
       "               reg_lambda=None, scale_pos_weight=None, subsample=None,\n",
       "               tree_method=None, use_label_encoder=False,\n",
       "               validate_parameters=None, verbosity=None),), prior=None),\n",
       " 'model__max_depth': Integer(low=3, high=10, prior='uniform', transform='identity'),\n",
       " 'model__n_estimators': Integer(low=50, high=1000, prior='uniform', transform='identity'),\n",
       " 'model__learning_rate': Real(low=0.01, high=0.3, prior='uniform', transform='identity'),\n",
       " 'model__colsample_bytree': Real(low=0.01, high=1, prior='uniform', transform='identity'),\n",
       " 'model__subsample': Real(low=0.1, high=1, prior='uniform', transform='identity'),\n",
       " 'prep__numeric__imputer__transformer': Categorical(categories=(None,), prior=None),\n",
       " 'prep__numeric__scaler__transformer': Categorical(categories=(None,), prior=None),\n",
       " 'prep__non_numeric__encoder__transformer': Categorical(categories=(OneHotEncoder(), CustomOrdinalEncoder()), prior=None)}"
      ]
     },
     "execution_count": 170,
     "metadata": {},
     "output_type": "execute_result"
    }
   ],
   "source": [
    "build_classifier_search_space_xgboost()"
   ]
  },
  {
   "cell_type": "markdown",
   "id": "c215d60a",
   "metadata": {},
   "source": [
    "# Model"
   ]
  },
  {
   "cell_type": "markdown",
   "id": "fad06518",
   "metadata": {},
   "source": [
    "`XGBoostError: XGBoost Library (libxgboost.dylib) could not be loaded on Apple Silicon (ARM)`\n",
    "\n",
    "https://github.com/dmlc/xgboost/issues/6909\n",
    "\n",
    "```\n",
    "pip install --upgrade --force-reinstall xgboost --no-binary xgboost -v\n",
    "```"
   ]
  },
  {
   "cell_type": "code",
   "execution_count": 110,
   "id": "3b3ddb87",
   "metadata": {},
   "outputs": [],
   "source": [
    "from xgboost import XGBClassifier\n",
    "from sklearn.linear_model import LogisticRegression"
   ]
  },
  {
   "cell_type": "markdown",
   "id": "98b5210c",
   "metadata": {},
   "source": [
    "# skopt.BayesSearchCV\n",
    "\n",
    "[https://scikit-optimize.github.io/stable/auto_examples/sklearn-gridsearchcv-replacement.html](https://scikit-optimize.github.io/stable/auto_examples/sklearn-gridsearchcv-replacement.html)"
   ]
  },
  {
   "cell_type": "code",
   "execution_count": 184,
   "id": "11541e28",
   "metadata": {
    "pycharm": {
     "name": "#%%\n"
    },
    "scrolled": true
   },
   "outputs": [],
   "source": [
    "# pip install scikit-optimize\n",
    "from skopt import BayesSearchCV\n",
    "from skopt.space import Real, Categorical, Integer\n",
    "from sklearn.model_selection import RepeatedKFold\n",
    "\n",
    "bayes_search = BayesSearchCV(\n",
    "    estimator=full_pipeline,\n",
    "    search_spaces=[\n",
    "        (build_classifier_search_space_logistic(random_state=42), 10),\n",
    "        (build_classifier_search_space_xgboost(random_state=42), 5)\n",
    "    ],\n",
    "    cv=RepeatedKFold(n_splits=5, n_repeats=2),  # 5 fold 2 repeat CV\n",
    "    scoring='roc_auc',\n",
    "    refit=False,  # required if passing in multiple scorers\n",
    "    return_train_score=False,\n",
    "    n_jobs=-1,\n",
    "    verbose=1,\n",
    "    random_state=42,\n",
    ")\n",
    "\n",
    "start_time = time.time()\n",
    "bayes_search.fit(X_train, y_train)\n",
    "elapsed_time = time.time() - start_time"
   ]
  },
  {
   "cell_type": "code",
   "execution_count": 188,
   "id": "b827b530",
   "metadata": {},
   "outputs": [
    {
     "name": "stdout",
     "output_type": "stream",
     "text": [
      "Elapsed time to run BayesSearchCV: 8.606 seconds; 0.1 minutes\n"
     ]
    }
   ],
   "source": [
    "print(f\"Elapsed time to run BayesSearchCV: {elapsed_time:.3f} seconds; {elapsed_time / 60:.1f} minutes\")"
   ]
  },
  {
   "cell_type": "code",
   "execution_count": 189,
   "id": "d092a9d7",
   "metadata": {},
   "outputs": [
    {
     "data": {
      "text/plain": [
       "15"
      ]
     },
     "execution_count": 189,
     "metadata": {},
     "output_type": "execute_result"
    }
   ],
   "source": [
    "len(bayes_search.cv_results_['params'])"
   ]
  },
  {
   "cell_type": "code",
   "execution_count": 190,
   "id": "eea4e3fa",
   "metadata": {
    "pycharm": {
     "name": "#%%\n"
    }
   },
   "outputs": [
    {
     "name": "stdout",
     "output_type": "stream",
     "text": [
      "{'mean_fit_time': array([0.06051054, 0.10598042, 0.02583487, 0.02659779, 0.03183508,\n",
      "       0.02421386, 0.02949219, 0.03935487, 0.0457124 , 0.0136282 ,\n",
      "       1.03107862, 0.30909381, 0.03680489, 1.54989431, 0.60626957]), 'std_fit_time': array([0.02324696, 0.04290568, 0.00602576, 0.0041465 , 0.00547931,\n",
      "       0.00504083, 0.00538445, 0.00561278, 0.00720288, 0.00322588,\n",
      "       0.14631644, 0.04015801, 0.00610768, 0.24432874, 0.07805187]), 'mean_score_time': array([0.01097982, 0.00442014, 0.01263704, 0.0126395 , 0.00493124,\n",
      "       0.00453098, 0.00499773, 0.01179416, 0.01326144, 0.00672998,\n",
      "       0.00992301, 0.02110453, 0.01300373, 0.0112608 , 0.01879139]), 'std_score_time': array([0.00482356, 0.00093698, 0.00432186, 0.00365427, 0.00154421,\n",
      "       0.00100338, 0.00195946, 0.0028985 , 0.00572455, 0.00289348,\n",
      "       0.00276392, 0.00565007, 0.00334486, 0.00399   , 0.0061625 ]), 'param_model': masked_array(data=[LogisticRegression(max_iter=1000, random_state=42),\n",
      "                   LogisticRegression(max_iter=1000, random_state=42),\n",
      "                   LogisticRegression(max_iter=1000, random_state=42),\n",
      "                   LogisticRegression(max_iter=1000, random_state=42),\n",
      "                   LogisticRegression(max_iter=1000, random_state=42),\n",
      "                   LogisticRegression(max_iter=1000, random_state=42),\n",
      "                   LogisticRegression(max_iter=1000, random_state=42),\n",
      "                   LogisticRegression(max_iter=1000, random_state=42),\n",
      "                   LogisticRegression(max_iter=1000, random_state=42),\n",
      "                   LogisticRegression(max_iter=1000, random_state=42),\n",
      "                   XGBClassifier(base_score=None, booster=None, colsample_bylevel=None,\n",
      "                                 colsample_bynode=None, colsample_bytree=None,\n",
      "                                 enable_categorical=False, eval_metric='logloss', gamma=None,\n",
      "                                 gpu_id=None, importance_type=None, interaction_constraints=None,\n",
      "                                 learning_rate=None, max_delta_step=None, max_depth=None,\n",
      "                                 min_child_weight=None, missing=nan, monotone_constraints=None,\n",
      "                                 n_estimators=100, n_jobs=None, num_parallel_tree=None,\n",
      "                                 predictor=None, random_state=42, reg_alpha=None, reg_lambda=None,\n",
      "                                 scale_pos_weight=None, subsample=None, tree_method=None,\n",
      "                                 use_label_encoder=False, validate_parameters=None,\n",
      "                                 verbosity=None)                                                  ,\n",
      "                   XGBClassifier(base_score=None, booster=None, colsample_bylevel=None,\n",
      "                                 colsample_bynode=None, colsample_bytree=None,\n",
      "                                 enable_categorical=False, eval_metric='logloss', gamma=None,\n",
      "                                 gpu_id=None, importance_type=None, interaction_constraints=None,\n",
      "                                 learning_rate=None, max_delta_step=None, max_depth=None,\n",
      "                                 min_child_weight=None, missing=nan, monotone_constraints=None,\n",
      "                                 n_estimators=100, n_jobs=None, num_parallel_tree=None,\n",
      "                                 predictor=None, random_state=42, reg_alpha=None, reg_lambda=None,\n",
      "                                 scale_pos_weight=None, subsample=None, tree_method=None,\n",
      "                                 use_label_encoder=False, validate_parameters=None,\n",
      "                                 verbosity=None)                                                  ,\n",
      "                   XGBClassifier(base_score=None, booster=None, colsample_bylevel=None,\n",
      "                                 colsample_bynode=None, colsample_bytree=None,\n",
      "                                 enable_categorical=False, eval_metric='logloss', gamma=None,\n",
      "                                 gpu_id=None, importance_type=None, interaction_constraints=None,\n",
      "                                 learning_rate=None, max_delta_step=None, max_depth=None,\n",
      "                                 min_child_weight=None, missing=nan, monotone_constraints=None,\n",
      "                                 n_estimators=100, n_jobs=None, num_parallel_tree=None,\n",
      "                                 predictor=None, random_state=42, reg_alpha=None, reg_lambda=None,\n",
      "                                 scale_pos_weight=None, subsample=None, tree_method=None,\n",
      "                                 use_label_encoder=False, validate_parameters=None,\n",
      "                                 verbosity=None)                                                  ,\n",
      "                   XGBClassifier(base_score=None, booster=None, colsample_bylevel=None,\n",
      "                                 colsample_bynode=None, colsample_bytree=None,\n",
      "                                 enable_categorical=False, eval_metric='logloss', gamma=None,\n",
      "                                 gpu_id=None, importance_type=None, interaction_constraints=None,\n",
      "                                 learning_rate=None, max_delta_step=None, max_depth=None,\n",
      "                                 min_child_weight=None, missing=nan, monotone_constraints=None,\n",
      "                                 n_estimators=100, n_jobs=None, num_parallel_tree=None,\n",
      "                                 predictor=None, random_state=42, reg_alpha=None, reg_lambda=None,\n",
      "                                 scale_pos_weight=None, subsample=None, tree_method=None,\n",
      "                                 use_label_encoder=False, validate_parameters=None,\n",
      "                                 verbosity=None)                                                  ,\n",
      "                   XGBClassifier(base_score=None, booster=None, colsample_bylevel=None,\n",
      "                                 colsample_bynode=None, colsample_bytree=None,\n",
      "                                 enable_categorical=False, eval_metric='logloss', gamma=None,\n",
      "                                 gpu_id=None, importance_type=None, interaction_constraints=None,\n",
      "                                 learning_rate=None, max_delta_step=None, max_depth=None,\n",
      "                                 min_child_weight=None, missing=nan, monotone_constraints=None,\n",
      "                                 n_estimators=100, n_jobs=None, num_parallel_tree=None,\n",
      "                                 predictor=None, random_state=42, reg_alpha=None, reg_lambda=None,\n",
      "                                 scale_pos_weight=None, subsample=None, tree_method=None,\n",
      "                                 use_label_encoder=False, validate_parameters=None,\n",
      "                                 verbosity=None)                                                  ],\n",
      "             mask=[False, False, False, False, False, False, False, False,\n",
      "                   False, False, False, False, False, False, False],\n",
      "       fill_value='?',\n",
      "            dtype=object), 'param_model__C': masked_array(data=[11.655266791092009, 22.375882528244357,\n",
      "                   2.3712235042499274e-05, 0.0031932541960563612,\n",
      "                   32.730896501169475, 1.5955669452672732,\n",
      "                   22.91257035436645, 0.402690660245868,\n",
      "                   3.4885114865499216, 0.0007376531147826206, --, --, --,\n",
      "                   --, --],\n",
      "             mask=[False, False, False, False, False, False, False, False,\n",
      "                   False, False,  True,  True,  True,  True,  True],\n",
      "       fill_value='?',\n",
      "            dtype=object), 'param_prep__non_numeric__encoder__transformer': masked_array(data=[OneHotEncoder(), OneHotEncoder(),\n",
      "                   CustomOrdinalEncoder(), CustomOrdinalEncoder(),\n",
      "                   OneHotEncoder(), OneHotEncoder(), OneHotEncoder(),\n",
      "                   CustomOrdinalEncoder(), CustomOrdinalEncoder(),\n",
      "                   OneHotEncoder(), OneHotEncoder(),\n",
      "                   CustomOrdinalEncoder(), CustomOrdinalEncoder(),\n",
      "                   OneHotEncoder(), CustomOrdinalEncoder()],\n",
      "             mask=[False, False, False, False, False, False, False, False,\n",
      "                   False, False, False, False, False, False, False],\n",
      "       fill_value='?',\n",
      "            dtype=object), 'param_prep__numeric__imputer__transformer': masked_array(data=[SimpleImputer(strategy='most_frequent'),\n",
      "                   SimpleImputer(strategy='median'),\n",
      "                   SimpleImputer(strategy='most_frequent'),\n",
      "                   SimpleImputer(strategy='median'), SimpleImputer(),\n",
      "                   SimpleImputer(strategy='most_frequent'),\n",
      "                   SimpleImputer(strategy='most_frequent'),\n",
      "                   SimpleImputer(strategy='median'),\n",
      "                   SimpleImputer(strategy='median'),\n",
      "                   SimpleImputer(strategy='median'), None, None, None,\n",
      "                   None, None],\n",
      "             mask=[False, False, False, False, False, False, False, False,\n",
      "                   False, False, False, False, False, False, False],\n",
      "       fill_value='?',\n",
      "            dtype=object), 'param_prep__numeric__scaler__transformer': masked_array(data=[StandardScaler(), None, MinMaxScaler(),\n",
      "                   StandardScaler(), StandardScaler(), MinMaxScaler(),\n",
      "                   MinMaxScaler(), MinMaxScaler(), MinMaxScaler(),\n",
      "                   MinMaxScaler(), None, None, None, None, None],\n",
      "             mask=[False, False, False, False, False, False, False, False,\n",
      "                   False, False, False, False, False, False, False],\n",
      "       fill_value='?',\n",
      "            dtype=object), 'param_model__colsample_bytree': masked_array(data=[--, --, --, --, --, --, --, --, --, --,\n",
      "                   0.7289270049367463, 0.25005997600913965,\n",
      "                   0.060151839071312996, 0.896257851909419,\n",
      "                   0.8189695543206296],\n",
      "             mask=[ True,  True,  True,  True,  True,  True,  True,  True,\n",
      "                    True,  True, False, False, False, False, False],\n",
      "       fill_value='?',\n",
      "            dtype=object), 'param_model__learning_rate': masked_array(data=[--, --, --, --, --, --, --, --, --, --,\n",
      "                   0.16224607997461757, 0.14091578239296654,\n",
      "                   0.07967714057416676, 0.26809249827380854,\n",
      "                   0.015664695672156365],\n",
      "             mask=[ True,  True,  True,  True,  True,  True,  True,  True,\n",
      "                    True,  True, False, False, False, False, False],\n",
      "       fill_value='?',\n",
      "            dtype=object), 'param_model__max_depth': masked_array(data=[--, --, --, --, --, --, --, --, --, --, 6, 7, 4, 4, 5],\n",
      "             mask=[ True,  True,  True,  True,  True,  True,  True,  True,\n",
      "                    True,  True, False, False, False, False, False],\n",
      "       fill_value='?',\n",
      "            dtype=object), 'param_model__n_estimators': masked_array(data=[--, --, --, --, --, --, --, --, --, --, 816, 427, 68,\n",
      "                   923, 574],\n",
      "             mask=[ True,  True,  True,  True,  True,  True,  True,  True,\n",
      "                    True,  True, False, False, False, False, False],\n",
      "       fill_value='?',\n",
      "            dtype=object), 'param_model__subsample': masked_array(data=[--, --, --, --, --, --, --, --, --, --,\n",
      "                   0.32143400591026466, 0.8416448291104974,\n",
      "                   0.6425260099527534, 0.8129043439261427,\n",
      "                   0.7161075776188451],\n",
      "             mask=[ True,  True,  True,  True,  True,  True,  True,  True,\n",
      "                    True,  True, False, False, False, False, False],\n",
      "       fill_value='?',\n",
      "            dtype=object), 'params': [OrderedDict([('model', LogisticRegression(max_iter=1000, random_state=42)), ('model__C', 11.655266791092009), ('prep__non_numeric__encoder__transformer', OneHotEncoder()), ('prep__numeric__imputer__transformer', SimpleImputer(strategy='most_frequent')), ('prep__numeric__scaler__transformer', StandardScaler())]), OrderedDict([('model', LogisticRegression(max_iter=1000, random_state=42)), ('model__C', 22.375882528244357), ('prep__non_numeric__encoder__transformer', OneHotEncoder()), ('prep__numeric__imputer__transformer', SimpleImputer(strategy='median')), ('prep__numeric__scaler__transformer', None)]), OrderedDict([('model', LogisticRegression(max_iter=1000, random_state=42)), ('model__C', 2.3712235042499274e-05), ('prep__non_numeric__encoder__transformer', CustomOrdinalEncoder()), ('prep__numeric__imputer__transformer', SimpleImputer(strategy='most_frequent')), ('prep__numeric__scaler__transformer', MinMaxScaler())]), OrderedDict([('model', LogisticRegression(max_iter=1000, random_state=42)), ('model__C', 0.0031932541960563612), ('prep__non_numeric__encoder__transformer', CustomOrdinalEncoder()), ('prep__numeric__imputer__transformer', SimpleImputer(strategy='median')), ('prep__numeric__scaler__transformer', StandardScaler())]), OrderedDict([('model', LogisticRegression(max_iter=1000, random_state=42)), ('model__C', 32.730896501169475), ('prep__non_numeric__encoder__transformer', OneHotEncoder()), ('prep__numeric__imputer__transformer', SimpleImputer()), ('prep__numeric__scaler__transformer', StandardScaler())]), OrderedDict([('model', LogisticRegression(max_iter=1000, random_state=42)), ('model__C', 1.5955669452672732), ('prep__non_numeric__encoder__transformer', OneHotEncoder()), ('prep__numeric__imputer__transformer', SimpleImputer(strategy='most_frequent')), ('prep__numeric__scaler__transformer', MinMaxScaler())]), OrderedDict([('model', LogisticRegression(max_iter=1000, random_state=42)), ('model__C', 22.91257035436645), ('prep__non_numeric__encoder__transformer', OneHotEncoder()), ('prep__numeric__imputer__transformer', SimpleImputer(strategy='most_frequent')), ('prep__numeric__scaler__transformer', MinMaxScaler())]), OrderedDict([('model', LogisticRegression(max_iter=1000, random_state=42)), ('model__C', 0.402690660245868), ('prep__non_numeric__encoder__transformer', CustomOrdinalEncoder()), ('prep__numeric__imputer__transformer', SimpleImputer(strategy='median')), ('prep__numeric__scaler__transformer', MinMaxScaler())]), OrderedDict([('model', LogisticRegression(max_iter=1000, random_state=42)), ('model__C', 3.4885114865499216), ('prep__non_numeric__encoder__transformer', CustomOrdinalEncoder()), ('prep__numeric__imputer__transformer', SimpleImputer(strategy='median')), ('prep__numeric__scaler__transformer', MinMaxScaler())]), OrderedDict([('model', LogisticRegression(max_iter=1000, random_state=42)), ('model__C', 0.0007376531147826206), ('prep__non_numeric__encoder__transformer', OneHotEncoder()), ('prep__numeric__imputer__transformer', SimpleImputer(strategy='median')), ('prep__numeric__scaler__transformer', MinMaxScaler())]), OrderedDict([('model', XGBClassifier(base_score=None, booster=None, colsample_bylevel=None,\n",
      "              colsample_bynode=None, colsample_bytree=None,\n",
      "              enable_categorical=False, eval_metric='logloss', gamma=None,\n",
      "              gpu_id=None, importance_type=None, interaction_constraints=None,\n",
      "              learning_rate=None, max_delta_step=None, max_depth=None,\n",
      "              min_child_weight=None, missing=nan, monotone_constraints=None,\n",
      "              n_estimators=100, n_jobs=None, num_parallel_tree=None,\n",
      "              predictor=None, random_state=42, reg_alpha=None, reg_lambda=None,\n",
      "              scale_pos_weight=None, subsample=None, tree_method=None,\n",
      "              use_label_encoder=False, validate_parameters=None,\n",
      "              verbosity=None)), ('model__colsample_bytree', 0.7289270049367463), ('model__learning_rate', 0.16224607997461757), ('model__max_depth', 6), ('model__n_estimators', 816), ('model__subsample', 0.32143400591026466), ('prep__non_numeric__encoder__transformer', OneHotEncoder()), ('prep__numeric__imputer__transformer', None), ('prep__numeric__scaler__transformer', None)]), OrderedDict([('model', XGBClassifier(base_score=None, booster=None, colsample_bylevel=None,\n",
      "              colsample_bynode=None, colsample_bytree=None,\n",
      "              enable_categorical=False, eval_metric='logloss', gamma=None,\n",
      "              gpu_id=None, importance_type=None, interaction_constraints=None,\n",
      "              learning_rate=None, max_delta_step=None, max_depth=None,\n",
      "              min_child_weight=None, missing=nan, monotone_constraints=None,\n",
      "              n_estimators=100, n_jobs=None, num_parallel_tree=None,\n",
      "              predictor=None, random_state=42, reg_alpha=None, reg_lambda=None,\n",
      "              scale_pos_weight=None, subsample=None, tree_method=None,\n",
      "              use_label_encoder=False, validate_parameters=None,\n",
      "              verbosity=None)), ('model__colsample_bytree', 0.25005997600913965), ('model__learning_rate', 0.14091578239296654), ('model__max_depth', 7), ('model__n_estimators', 427), ('model__subsample', 0.8416448291104974), ('prep__non_numeric__encoder__transformer', CustomOrdinalEncoder()), ('prep__numeric__imputer__transformer', None), ('prep__numeric__scaler__transformer', None)]), OrderedDict([('model', XGBClassifier(base_score=None, booster=None, colsample_bylevel=None,\n",
      "              colsample_bynode=None, colsample_bytree=None,\n",
      "              enable_categorical=False, eval_metric='logloss', gamma=None,\n",
      "              gpu_id=None, importance_type=None, interaction_constraints=None,\n",
      "              learning_rate=None, max_delta_step=None, max_depth=None,\n",
      "              min_child_weight=None, missing=nan, monotone_constraints=None,\n",
      "              n_estimators=100, n_jobs=None, num_parallel_tree=None,\n",
      "              predictor=None, random_state=42, reg_alpha=None, reg_lambda=None,\n",
      "              scale_pos_weight=None, subsample=None, tree_method=None,\n",
      "              use_label_encoder=False, validate_parameters=None,\n",
      "              verbosity=None)), ('model__colsample_bytree', 0.060151839071312996), ('model__learning_rate', 0.07967714057416676), ('model__max_depth', 4), ('model__n_estimators', 68), ('model__subsample', 0.6425260099527534), ('prep__non_numeric__encoder__transformer', CustomOrdinalEncoder()), ('prep__numeric__imputer__transformer', None), ('prep__numeric__scaler__transformer', None)]), OrderedDict([('model', XGBClassifier(base_score=None, booster=None, colsample_bylevel=None,\n",
      "              colsample_bynode=None, colsample_bytree=None,\n",
      "              enable_categorical=False, eval_metric='logloss', gamma=None,\n",
      "              gpu_id=None, importance_type=None, interaction_constraints=None,\n",
      "              learning_rate=None, max_delta_step=None, max_depth=None,\n",
      "              min_child_weight=None, missing=nan, monotone_constraints=None,\n",
      "              n_estimators=100, n_jobs=None, num_parallel_tree=None,\n",
      "              predictor=None, random_state=42, reg_alpha=None, reg_lambda=None,\n",
      "              scale_pos_weight=None, subsample=None, tree_method=None,\n",
      "              use_label_encoder=False, validate_parameters=None,\n",
      "              verbosity=None)), ('model__colsample_bytree', 0.896257851909419), ('model__learning_rate', 0.26809249827380854), ('model__max_depth', 4), ('model__n_estimators', 923), ('model__subsample', 0.8129043439261427), ('prep__non_numeric__encoder__transformer', OneHotEncoder()), ('prep__numeric__imputer__transformer', None), ('prep__numeric__scaler__transformer', None)]), OrderedDict([('model', XGBClassifier(base_score=None, booster=None, colsample_bylevel=None,\n",
      "              colsample_bynode=None, colsample_bytree=None,\n",
      "              enable_categorical=False, eval_metric='logloss', gamma=None,\n",
      "              gpu_id=None, importance_type=None, interaction_constraints=None,\n",
      "              learning_rate=None, max_delta_step=None, max_depth=None,\n",
      "              min_child_weight=None, missing=nan, monotone_constraints=None,\n",
      "              n_estimators=100, n_jobs=None, num_parallel_tree=None,\n",
      "              predictor=None, random_state=42, reg_alpha=None, reg_lambda=None,\n",
      "              scale_pos_weight=None, subsample=None, tree_method=None,\n",
      "              use_label_encoder=False, validate_parameters=None,\n",
      "              verbosity=None)), ('model__colsample_bytree', 0.8189695543206296), ('model__learning_rate', 0.015664695672156365), ('model__max_depth', 5), ('model__n_estimators', 574), ('model__subsample', 0.7161075776188451), ('prep__non_numeric__encoder__transformer', CustomOrdinalEncoder()), ('prep__numeric__imputer__transformer', None), ('prep__numeric__scaler__transformer', None)])], 'split0_test_score': array([0.75343249, 0.75183581, 0.74148571, 0.74750518, 0.80154397,\n",
      "       0.78878407, 0.81391304, 0.69158351, 0.67982684, 0.70160727,\n",
      "       0.80205811, 0.68415179, 0.75481202, 0.78565831, 0.72660516]), 'split1_test_score': array([0.74528302, 0.81559878, 0.71558351, 0.68710815, 0.73502428,\n",
      "       0.75889485, 0.77328411, 0.78406926, 0.70821256, 0.78851452,\n",
      "       0.69634985, 0.73324544, 0.80529509, 0.70353889, 0.69382983]), 'split2_test_score': array([0.82092476, 0.80466301, 0.68160422, 0.7630662 , 0.7200246 ,\n",
      "       0.74818182, 0.79849237, 0.6940966 , 0.81766382, 0.75690909,\n",
      "       0.68119068, 0.72      , 0.8354232 , 0.73258959, 0.78095725]), 'split3_test_score': array([0.69111969, 0.76164778, 0.67135989, 0.74257426, 0.7722612 ,\n",
      "       0.77115987, 0.70900538, 0.72418091, 0.71690909, 0.7582299 ,\n",
      "       0.71030303, 0.76254722, 0.72883788, 0.74437849, 0.77047637]), 'split4_test_score': array([0.7687872 , 0.71856815, 0.7039897 , 0.72      , 0.76884332,\n",
      "       0.76836364, 0.71883903, 0.76939655, 0.67111676, 0.77461872,\n",
      "       0.73673074, 0.753     , 0.74519231, 0.66372495, 0.77283323]), 'split5_test_score': array([0.76088873, 0.74381818, 0.67001488, 0.75942029, 0.73561316,\n",
      "       0.78794643, 0.75858967, 0.7734375 , 0.73643411, 0.77441485,\n",
      "       0.69289435, 0.75694444, 0.73055922, 0.73608934, 0.75476735]), 'split6_test_score': array([0.79831933, 0.73945455, 0.73796509, 0.66984531, 0.79454545,\n",
      "       0.77454545, 0.81018182, 0.70594966, 0.80167811, 0.74563636,\n",
      "       0.73967236, 0.69810268, 0.77332621, 0.68475705, 0.74077922]), 'split7_test_score': array([0.73668281, 0.85678871, 0.67789786, 0.75431034, 0.7722612 ,\n",
      "       0.74231829, 0.74216028, 0.69951083, 0.75255411, 0.74638051,\n",
      "       0.69873847, 0.71995192, 0.80697967, 0.73142652, 0.72713337]), 'split8_test_score': array([0.73166369, 0.75145924, 0.73106674, 0.74007835, 0.73396188,\n",
      "       0.74563242, 0.72782875, 0.71649687, 0.70145833, 0.73433048,\n",
      "       0.71680643, 0.8292586 , 0.784598  , 0.70856754, 0.76508621]), 'split9_test_score': array([0.75674786, 0.75055804, 0.70327273, 0.75326236, 0.75036364,\n",
      "       0.76309179, 0.81119792, 0.71557272, 0.68795776, 0.775625  ,\n",
      "       0.73354167, 0.72881356, 0.68279781, 0.69913043, 0.77770714]), 'mean_test_score': array([0.75638496, 0.76943922, 0.70342403, 0.73371704, 0.75844427,\n",
      "       0.76489186, 0.76634924, 0.72742944, 0.72738115, 0.75562667,\n",
      "       0.72082857, 0.73860156, 0.76478214, 0.71898611, 0.75101751]), 'std_test_score': array([0.03389535, 0.04024314, 0.02612673, 0.03012857, 0.02619417,\n",
      "       0.01563907, 0.03866649, 0.03315651, 0.0474521 , 0.02400121,\n",
      "       0.03306578, 0.03841761, 0.04306455, 0.03269423, 0.02686439]), 'rank_test_score': array([ 6,  1, 15, 10,  5,  3,  2, 11, 12,  7, 13,  9,  4, 14,  8],\n",
      "      dtype=int32)}\n"
     ]
    }
   ],
   "source": [
    "print(bayes_search.cv_results_)"
   ]
  },
  {
   "cell_type": "code",
   "execution_count": 191,
   "id": "5a16e6c6",
   "metadata": {},
   "outputs": [
    {
     "name": "stdout",
     "output_type": "stream",
     "text": [
      "0.7694392243012426\n"
     ]
    }
   ],
   "source": [
    "print(bayes_search.best_score_)"
   ]
  },
  {
   "cell_type": "code",
   "execution_count": 192,
   "id": "6b4ab22a",
   "metadata": {},
   "outputs": [
    {
     "name": "stdout",
     "output_type": "stream",
     "text": [
      "OrderedDict([('model', LogisticRegression(max_iter=1000, random_state=42)), ('model__C', 22.375882528244357), ('prep__non_numeric__encoder__transformer', OneHotEncoder()), ('prep__numeric__imputer__transformer', SimpleImputer(strategy='median')), ('prep__numeric__scaler__transformer', None)])\n"
     ]
    }
   ],
   "source": [
    "print(bayes_search.best_params_)"
   ]
  },
  {
   "cell_type": "markdown",
   "id": "1930b7e6",
   "metadata": {
    "pycharm": {
     "name": "#%% md\n"
    }
   },
   "source": [
    "# Results"
   ]
  },
  {
   "cell_type": "code",
   "execution_count": 72,
   "id": "5b8b668f",
   "metadata": {
    "pycharm": {
     "name": "#%%\n"
    }
   },
   "outputs": [],
   "source": [
    "new_param_column_names = {\n",
    "    'model__max_depth': 'max_depth',\n",
    "    'model__n_estimators': 'n_estimators',\n",
    "    'model__learning_rate': 'learning_rate',\n",
    "    'model__colsample_bytree': 'colsample_bytree',\n",
    "    'model__subsample': 'subsample',\n",
    "    'model': 'model',\n",
    "    'prep__non_numeric__encoder__transformer': 'encoder',\n",
    "    'prep__numeric__imputer__transformer': 'imputer',\n",
    "    'prep__numeric__scaler__transformer': 'scaler'\n",
    "}"
   ]
  },
  {
   "cell_type": "code",
   "execution_count": 73,
   "id": "7872e107",
   "metadata": {
    "pycharm": {
     "name": "#%%\n"
    }
   },
   "outputs": [],
   "source": [
    "results = hlp.sklearn_eval.MLExperimentResults.from_sklearn_search_cv(\n",
    "    searcher=bayes_search,                                     \n",
    "    higher_score_is_better = True,\n",
    "#    parameter_name_mappings = new_param_column_names\n",
    ")"
   ]
  },
  {
   "cell_type": "code",
   "execution_count": 74,
   "id": "a070a6d1",
   "metadata": {
    "pycharm": {
     "name": "#%%\n"
    }
   },
   "outputs": [],
   "source": [
    "results.to_yaml_file(yaml_file_name = 'Run 1 - Multi-model - BayesSearchCV.yaml')"
   ]
  },
  {
   "cell_type": "code",
   "execution_count": 43,
   "id": "a14624fd",
   "metadata": {
    "pycharm": {
     "name": "#%%\n"
    }
   },
   "outputs": [],
   "source": [
    "results = hlp.sklearn_eval.MLExperimentResults.from_yaml_file(yaml_file_name = 'Run 1 - Multi-model - BayesSearchCV.yaml')"
   ]
  },
  {
   "cell_type": "markdown",
   "id": "9a2876d0",
   "metadata": {},
   "source": [
    "## Timings"
   ]
  },
  {
   "cell_type": "code",
   "execution_count": 61,
   "id": "2447d666",
   "metadata": {},
   "outputs": [
    {
     "data": {
      "text/plain": [
       "array([1.60655627, 0.9999326 , 0.3302017 , 1.86471026, 2.44035127,\n",
       "       1.02119427, 0.39834414, 0.81119723, 1.34483783, 0.49552124,\n",
       "       0.05250459, 0.10216401, 0.02614782, 0.03648658, 0.09280672,\n",
       "       0.04613495, 0.03238521, 0.0499964 , 0.03288753, 0.03277614])"
      ]
     },
     "execution_count": 61,
     "metadata": {},
     "output_type": "execute_result"
    }
   ],
   "source": [
    "results.fit_time_averages"
   ]
  },
  {
   "cell_type": "markdown",
   "id": "352a2dd8",
   "metadata": {},
   "source": [
    "## Best Scores/Params"
   ]
  },
  {
   "cell_type": "code",
   "execution_count": 62,
   "id": "31f0b98a",
   "metadata": {
    "pycharm": {
     "name": "#%%\n"
    }
   },
   "outputs": [
    {
     "data": {
      "text/plain": [
       "0.7641766738385222"
      ]
     },
     "execution_count": 62,
     "metadata": {},
     "output_type": "execute_result"
    }
   ],
   "source": [
    "results.best_primary_score"
   ]
  },
  {
   "cell_type": "code",
   "execution_count": 63,
   "id": "59c9c626",
   "metadata": {},
   "outputs": [
    {
     "data": {
      "text/plain": [
       "{'model': 'LogisticRegression(max_iter=1000, random_state=42)',\n",
       " 'model__C': 19.364630915887417,\n",
       " 'prep__non_numeric__encoder__transformer': 'OneHotEncoder()',\n",
       " 'prep__numeric__imputer__transformer': 'SimpleImputer()',\n",
       " 'prep__numeric__scaler__transformer': 'None'}"
      ]
     },
     "execution_count": 63,
     "metadata": {},
     "output_type": "execute_result"
    }
   ],
   "source": [
    "results.best_primary_score_params"
   ]
  },
  {
   "cell_type": "code",
   "execution_count": 75,
   "id": "5d25ab96",
   "metadata": {
    "pycharm": {
     "name": "#%%\n"
    }
   },
   "outputs": [
    {
     "data": {
      "text/html": [
       "<style type=\"text/css\">\n",
       "#T_6f074_row0_col0 {\n",
       "  width: 10em;\n",
       "  height: 80%;\n",
       "  background: linear-gradient(90deg,#1AAF54 100.0%, transparent 100.0%);\n",
       "}\n",
       "#T_6f074_row0_col1 {\n",
       "  width: 10em;\n",
       "  height: 80%;\n",
       "  background: linear-gradient(90deg,transparent 93.2%, #B4B7B9 93.2%);\n",
       "}\n",
       "#T_6f074_row0_col2 {\n",
       "  width: 10em;\n",
       "  height: 80%;\n",
       "  background: linear-gradient(90deg,#B4B7B9 100.0%, transparent 100.0%);\n",
       "}\n",
       "#T_6f074_row0_col3, #T_6f074_row0_col9, #T_6f074_row0_col10, #T_6f074_row1_col3, #T_6f074_row1_col9, #T_6f074_row1_col10, #T_6f074_row2_col3, #T_6f074_row2_col9, #T_6f074_row2_col10, #T_6f074_row3_col3, #T_6f074_row3_col9, #T_6f074_row3_col10, #T_6f074_row4_col3, #T_6f074_row4_col9, #T_6f074_row4_col10, #T_6f074_row5_col3, #T_6f074_row5_col9, #T_6f074_row5_col10 {\n",
       "  background-color: #7AA9CF;\n",
       "}\n",
       "#T_6f074_row0_col4, #T_6f074_row0_col5, #T_6f074_row0_col6, #T_6f074_row0_col7, #T_6f074_row0_col8, #T_6f074_row1_col4, #T_6f074_row1_col5, #T_6f074_row1_col6, #T_6f074_row1_col7, #T_6f074_row1_col8, #T_6f074_row2_col4, #T_6f074_row2_col5, #T_6f074_row2_col6, #T_6f074_row2_col7, #T_6f074_row2_col8, #T_6f074_row3_col4, #T_6f074_row3_col5, #T_6f074_row3_col6, #T_6f074_row3_col7, #T_6f074_row3_col8, #T_6f074_row4_col4, #T_6f074_row4_col5, #T_6f074_row4_col6, #T_6f074_row4_col7, #T_6f074_row4_col8, #T_6f074_row5_col4, #T_6f074_row5_col5, #T_6f074_row5_col6, #T_6f074_row5_col7, #T_6f074_row5_col8 {\n",
       "  background-color: #EBB13E;\n",
       "  background-color: #7AA9CF;\n",
       "}\n",
       "#T_6f074_row1_col0 {\n",
       "  width: 10em;\n",
       "  height: 80%;\n",
       "  background: linear-gradient(90deg,#1AAF54 97.1%, transparent 97.1%);\n",
       "}\n",
       "#T_6f074_row1_col1 {\n",
       "  width: 10em;\n",
       "  height: 80%;\n",
       "  background: linear-gradient(90deg,transparent 100.0%, #B4B7B9 100.0%);\n",
       "}\n",
       "#T_6f074_row1_col2 {\n",
       "  width: 10em;\n",
       "  height: 80%;\n",
       "  background: linear-gradient(90deg,#B4B7B9 86.1%, transparent 86.1%);\n",
       "}\n",
       "#T_6f074_row2_col0 {\n",
       "  width: 10em;\n",
       "  height: 80%;\n",
       "  background: linear-gradient(90deg,#1AAF54 94.2%, transparent 94.2%);\n",
       "}\n",
       "#T_6f074_row2_col1 {\n",
       "  width: 10em;\n",
       "  height: 80%;\n",
       "  background: linear-gradient(90deg,transparent 90.4%, #B4B7B9 90.4%);\n",
       "}\n",
       "#T_6f074_row2_col2 {\n",
       "  width: 10em;\n",
       "  height: 80%;\n",
       "  background: linear-gradient(90deg,#B4B7B9 93.1%, transparent 93.1%);\n",
       "}\n",
       "#T_6f074_row3_col0 {\n",
       "  width: 10em;\n",
       "  height: 80%;\n",
       "  background: linear-gradient(90deg,#1AAF54 87.0%, transparent 87.0%);\n",
       "}\n",
       "#T_6f074_row3_col1 {\n",
       "  width: 10em;\n",
       "  height: 80%;\n",
       "  background: linear-gradient(90deg,transparent 78.1%, #B4B7B9 78.1%);\n",
       "}\n",
       "#T_6f074_row3_col2 {\n",
       "  width: 10em;\n",
       "  height: 80%;\n",
       "  background: linear-gradient(90deg,#B4B7B9 88.9%, transparent 88.9%);\n",
       "}\n",
       "#T_6f074_row4_col0, #T_6f074_row5_col0 {\n",
       "  width: 10em;\n",
       "  height: 80%;\n",
       "  background: linear-gradient(90deg,#1AAF54 82.6%, transparent 82.6%);\n",
       "}\n",
       "#T_6f074_row4_col1 {\n",
       "  width: 10em;\n",
       "  height: 80%;\n",
       "  background: linear-gradient(90deg,transparent 80.8%, #B4B7B9 80.8%);\n",
       "}\n",
       "#T_6f074_row4_col2 {\n",
       "  width: 10em;\n",
       "  height: 80%;\n",
       "  background: linear-gradient(90deg,#B4B7B9 80.6%, transparent 80.6%);\n",
       "}\n",
       "#T_6f074_row5_col1 {\n",
       "  width: 10em;\n",
       "  height: 80%;\n",
       "  background: linear-gradient(90deg,transparent 79.5%, #B4B7B9 79.5%);\n",
       "}\n",
       "#T_6f074_row5_col2 {\n",
       "  width: 10em;\n",
       "  height: 80%;\n",
       "  background: linear-gradient(90deg,#B4B7B9 81.9%, transparent 81.9%);\n",
       "}\n",
       "#T_6f074_row6_col0, #T_6f074_row7_col0 {\n",
       "  width: 10em;\n",
       "  height: 80%;\n",
       "  background: linear-gradient(90deg,#1AAF54 52.2%, transparent 52.2%);\n",
       "}\n",
       "#T_6f074_row6_col1, #T_6f074_row8_col1 {\n",
       "  width: 10em;\n",
       "  height: 80%;\n",
       "  background: linear-gradient(90deg,transparent 49.3%, #B4B7B9 49.3%);\n",
       "}\n",
       "#T_6f074_row6_col2 {\n",
       "  width: 10em;\n",
       "  height: 80%;\n",
       "  background: linear-gradient(90deg,#B4B7B9 54.2%, transparent 54.2%);\n",
       "}\n",
       "#T_6f074_row6_col11, #T_6f074_row7_col4, #T_6f074_row7_col5, #T_6f074_row7_col6, #T_6f074_row7_col7, #T_6f074_row7_col8, #T_6f074_row8_col4, #T_6f074_row8_col5, #T_6f074_row8_col6, #T_6f074_row8_col7, #T_6f074_row8_col8, #T_6f074_row9_col4, #T_6f074_row9_col5, #T_6f074_row9_col6, #T_6f074_row9_col7, #T_6f074_row9_col8, #T_6f074_row10_col4, #T_6f074_row10_col5, #T_6f074_row10_col6, #T_6f074_row10_col7, #T_6f074_row10_col8, #T_6f074_row11_col11, #T_6f074_row12_col11, #T_6f074_row13_col11, #T_6f074_row14_col11, #T_6f074_row15_col11, #T_6f074_row16_col11, #T_6f074_row17_col11, #T_6f074_row18_col11, #T_6f074_row19_col11 {\n",
       "  background-color: #EBB13E;\n",
       "}\n",
       "#T_6f074_row7_col1 {\n",
       "  width: 10em;\n",
       "  height: 80%;\n",
       "  background: linear-gradient(90deg,transparent 50.7%, #B4B7B9 50.7%);\n",
       "}\n",
       "#T_6f074_row7_col2 {\n",
       "  width: 10em;\n",
       "  height: 80%;\n",
       "  background: linear-gradient(90deg,#B4B7B9 51.4%, transparent 51.4%);\n",
       "}\n",
       "#T_6f074_row8_col0 {\n",
       "  width: 10em;\n",
       "  height: 80%;\n",
       "  background: linear-gradient(90deg,#1AAF54 50.7%, transparent 50.7%);\n",
       "}\n",
       "#T_6f074_row8_col2, #T_6f074_row9_col2 {\n",
       "  width: 10em;\n",
       "  height: 80%;\n",
       "  background: linear-gradient(90deg,#B4B7B9 48.6%, transparent 48.6%);\n",
       "}\n",
       "#T_6f074_row9_col0 {\n",
       "  width: 10em;\n",
       "  height: 80%;\n",
       "  background: linear-gradient(90deg,#1AAF54 47.8%, transparent 47.8%);\n",
       "}\n",
       "#T_6f074_row9_col1, #T_6f074_row10_col1 {\n",
       "  width: 10em;\n",
       "  height: 80%;\n",
       "  background: linear-gradient(90deg,transparent 45.2%, #B4B7B9 45.2%);\n",
       "}\n",
       "#T_6f074_row10_col0 {\n",
       "  width: 10em;\n",
       "  height: 80%;\n",
       "  background: linear-gradient(90deg,#1AAF54 46.4%, transparent 46.4%);\n",
       "}\n",
       "#T_6f074_row10_col2 {\n",
       "  width: 10em;\n",
       "  height: 80%;\n",
       "  background: linear-gradient(90deg,#B4B7B9 45.8%, transparent 45.8%);\n",
       "}\n",
       "#T_6f074_row11_col0 {\n",
       "  width: 10em;\n",
       "  height: 80%;\n",
       "  background: linear-gradient(90deg,#1AAF54 36.2%, transparent 36.2%);\n",
       "}\n",
       "#T_6f074_row11_col1 {\n",
       "  width: 10em;\n",
       "  height: 80%;\n",
       "  background: linear-gradient(90deg,transparent 47.9%, #B4B7B9 47.9%);\n",
       "}\n",
       "#T_6f074_row11_col2 {\n",
       "  width: 10em;\n",
       "  height: 80%;\n",
       "  background: linear-gradient(90deg,#B4B7B9 23.6%, transparent 23.6%);\n",
       "}\n",
       "#T_6f074_row12_col0 {\n",
       "  width: 10em;\n",
       "  height: 80%;\n",
       "  background: linear-gradient(90deg,#1AAF54 34.8%, transparent 34.8%);\n",
       "}\n",
       "#T_6f074_row12_col1 {\n",
       "  width: 10em;\n",
       "  height: 80%;\n",
       "  background: linear-gradient(90deg,transparent 31.5%, #B4B7B9 31.5%);\n",
       "}\n",
       "#T_6f074_row12_col2 {\n",
       "  width: 10em;\n",
       "  height: 80%;\n",
       "  background: linear-gradient(90deg,#B4B7B9 38.9%, transparent 38.9%);\n",
       "}\n",
       "#T_6f074_row13_col0 {\n",
       "  width: 10em;\n",
       "  height: 80%;\n",
       "  background: linear-gradient(90deg,#1AAF54 29.0%, transparent 29.0%);\n",
       "}\n",
       "#T_6f074_row13_col1 {\n",
       "  width: 10em;\n",
       "  height: 80%;\n",
       "  background: linear-gradient(90deg,transparent 46.6%, #B4B7B9 46.6%);\n",
       "}\n",
       "#T_6f074_row13_col2 {\n",
       "  width: 10em;\n",
       "  height: 80%;\n",
       "  background: linear-gradient(90deg,#B4B7B9 11.1%, transparent 11.1%);\n",
       "}\n",
       "#T_6f074_row14_col0 {\n",
       "  width: 10em;\n",
       "  height: 80%;\n",
       "  background: linear-gradient(90deg,#1AAF54 17.4%, transparent 17.4%);\n",
       "}\n",
       "#T_6f074_row14_col1 {\n",
       "  width: 10em;\n",
       "  height: 80%;\n",
       "  background: linear-gradient(90deg,transparent 32.9%, #B4B7B9 32.9%);\n",
       "}\n",
       "#T_6f074_row14_col2 {\n",
       "  width: 10em;\n",
       "  height: 80%;\n",
       "  background: linear-gradient(90deg,#B4B7B9 2.8%, transparent 2.8%);\n",
       "}\n",
       "#T_6f074_row15_col0 {\n",
       "  width: 10em;\n",
       "  height: 80%;\n",
       "  background: linear-gradient(90deg,#1AAF54 13.0%, transparent 13.0%);\n",
       "}\n",
       "#T_6f074_row15_col1 {\n",
       "  width: 10em;\n",
       "  height: 80%;\n",
       "  background: linear-gradient(90deg,transparent 9.6%, #B4B7B9 9.6%);\n",
       "}\n",
       "#T_6f074_row15_col2, #T_6f074_row16_col2 {\n",
       "  width: 10em;\n",
       "  height: 80%;\n",
       "  background: linear-gradient(90deg,#B4B7B9 18.1%, transparent 18.1%);\n",
       "}\n",
       "#T_6f074_row16_col0 {\n",
       "  width: 10em;\n",
       "  height: 80%;\n",
       "  background: linear-gradient(90deg,#1AAF54 11.6%, transparent 11.6%);\n",
       "}\n",
       "#T_6f074_row16_col1 {\n",
       "  width: 10em;\n",
       "  height: 80%;\n",
       "  background: linear-gradient(90deg,transparent 8.2%, #B4B7B9 8.2%);\n",
       "}\n",
       "#T_6f074_row17_col0 {\n",
       "  width: 10em;\n",
       "  height: 80%;\n",
       "  background: linear-gradient(90deg,#1AAF54 8.7%, transparent 8.7%);\n",
       "}\n",
       "#T_6f074_row17_col1, #T_6f074_row18_col1 {\n",
       "  width: 10em;\n",
       "  height: 80%;\n",
       "  background: linear-gradient(90deg, #B4B7B9 100.0%, transparent 100.0%, transparent 100.0%, #B4B7B9 100.0%);\n",
       "}\n",
       "#T_6f074_row17_col2 {\n",
       "  width: 10em;\n",
       "  height: 80%;\n",
       "  background: linear-gradient(90deg,#B4B7B9 19.4%, transparent 19.4%);\n",
       "}\n",
       "#T_6f074_row18_col0 {\n",
       "  width: 10em;\n",
       "  height: 80%;\n",
       "  background: linear-gradient(90deg,#1AAF54 2.9%, transparent 2.9%);\n",
       "}\n",
       "#T_6f074_row18_col2 {\n",
       "  width: 10em;\n",
       "  height: 80%;\n",
       "  background: linear-gradient(90deg,#B4B7B9 9.7%, transparent 9.7%);\n",
       "}\n",
       "#T_6f074_row19_col0, #T_6f074_row19_col2 {\n",
       "  width: 10em;\n",
       "  height: 80%;\n",
       "}\n",
       "#T_6f074_row19_col1 {\n",
       "  width: 10em;\n",
       "  height: 80%;\n",
       "  background: linear-gradient(90deg,transparent 4.1%, #B4B7B9 4.1%);\n",
       "}\n",
       "</style>\n",
       "<table id=\"T_6f074_\">\n",
       "  <thead>\n",
       "    <tr>\n",
       "      <th class=\"col_heading level0 col0\" >roc_auc Mean</th>\n",
       "      <th class=\"col_heading level0 col1\" >roc_auc 95CI.LO</th>\n",
       "      <th class=\"col_heading level0 col2\" >roc_auc 95CI.HI</th>\n",
       "      <th class=\"col_heading level0 col3\" >model</th>\n",
       "      <th class=\"col_heading level0 col4\" >model__colsample_bytree</th>\n",
       "      <th class=\"col_heading level0 col5\" >model__learning_rate</th>\n",
       "      <th class=\"col_heading level0 col6\" >model__max_depth</th>\n",
       "      <th class=\"col_heading level0 col7\" >model__n_estimators</th>\n",
       "      <th class=\"col_heading level0 col8\" >model__subsample</th>\n",
       "      <th class=\"col_heading level0 col9\" >prep__non_numeric__encoder__transformer</th>\n",
       "      <th class=\"col_heading level0 col10\" >prep__numeric__scaler__transformer</th>\n",
       "      <th class=\"col_heading level0 col11\" >model__C</th>\n",
       "    </tr>\n",
       "  </thead>\n",
       "  <tbody>\n",
       "    <tr>\n",
       "      <td id=\"T_6f074_row0_col0\" class=\"data row0 col0\" >0.764</td>\n",
       "      <td id=\"T_6f074_row0_col1\" class=\"data row0 col1\" >0.735</td>\n",
       "      <td id=\"T_6f074_row0_col2\" class=\"data row0 col2\" >0.793</td>\n",
       "      <td id=\"T_6f074_row0_col3\" class=\"data row0 col3\" >LogisticRegression(max_iter=1000, random_state=42)</td>\n",
       "      <td id=\"T_6f074_row0_col4\" class=\"data row0 col4\" >&lt;NA&gt;</td>\n",
       "      <td id=\"T_6f074_row0_col5\" class=\"data row0 col5\" >&lt;NA&gt;</td>\n",
       "      <td id=\"T_6f074_row0_col6\" class=\"data row0 col6\" >&lt;NA&gt;</td>\n",
       "      <td id=\"T_6f074_row0_col7\" class=\"data row0 col7\" >&lt;NA&gt;</td>\n",
       "      <td id=\"T_6f074_row0_col8\" class=\"data row0 col8\" >&lt;NA&gt;</td>\n",
       "      <td id=\"T_6f074_row0_col9\" class=\"data row0 col9\" >OneHotEncoder()</td>\n",
       "      <td id=\"T_6f074_row0_col10\" class=\"data row0 col10\" >None</td>\n",
       "      <td id=\"T_6f074_row0_col11\" class=\"data row0 col11\" >19.365</td>\n",
       "    </tr>\n",
       "    <tr>\n",
       "      <td id=\"T_6f074_row1_col0\" class=\"data row1 col0\" >0.762</td>\n",
       "      <td id=\"T_6f074_row1_col1\" class=\"data row1 col1\" >0.740</td>\n",
       "      <td id=\"T_6f074_row1_col2\" class=\"data row1 col2\" >0.783</td>\n",
       "      <td id=\"T_6f074_row1_col3\" class=\"data row1 col3\" >LogisticRegression(max_iter=1000, random_state=42)</td>\n",
       "      <td id=\"T_6f074_row1_col4\" class=\"data row1 col4\" >&lt;NA&gt;</td>\n",
       "      <td id=\"T_6f074_row1_col5\" class=\"data row1 col5\" >&lt;NA&gt;</td>\n",
       "      <td id=\"T_6f074_row1_col6\" class=\"data row1 col6\" >&lt;NA&gt;</td>\n",
       "      <td id=\"T_6f074_row1_col7\" class=\"data row1 col7\" >&lt;NA&gt;</td>\n",
       "      <td id=\"T_6f074_row1_col8\" class=\"data row1 col8\" >&lt;NA&gt;</td>\n",
       "      <td id=\"T_6f074_row1_col9\" class=\"data row1 col9\" >OneHotEncoder()</td>\n",
       "      <td id=\"T_6f074_row1_col10\" class=\"data row1 col10\" >MinMaxScaler()</td>\n",
       "      <td id=\"T_6f074_row1_col11\" class=\"data row1 col11\" >4.570</td>\n",
       "    </tr>\n",
       "    <tr>\n",
       "      <td id=\"T_6f074_row2_col0\" class=\"data row2 col0\" >0.760</td>\n",
       "      <td id=\"T_6f074_row2_col1\" class=\"data row2 col1\" >0.733</td>\n",
       "      <td id=\"T_6f074_row2_col2\" class=\"data row2 col2\" >0.788</td>\n",
       "      <td id=\"T_6f074_row2_col3\" class=\"data row2 col3\" >LogisticRegression(max_iter=1000, random_state=42)</td>\n",
       "      <td id=\"T_6f074_row2_col4\" class=\"data row2 col4\" >&lt;NA&gt;</td>\n",
       "      <td id=\"T_6f074_row2_col5\" class=\"data row2 col5\" >&lt;NA&gt;</td>\n",
       "      <td id=\"T_6f074_row2_col6\" class=\"data row2 col6\" >&lt;NA&gt;</td>\n",
       "      <td id=\"T_6f074_row2_col7\" class=\"data row2 col7\" >&lt;NA&gt;</td>\n",
       "      <td id=\"T_6f074_row2_col8\" class=\"data row2 col8\" >&lt;NA&gt;</td>\n",
       "      <td id=\"T_6f074_row2_col9\" class=\"data row2 col9\" >OneHotEncoder()</td>\n",
       "      <td id=\"T_6f074_row2_col10\" class=\"data row2 col10\" >StandardScaler()</td>\n",
       "      <td id=\"T_6f074_row2_col11\" class=\"data row2 col11\" >58.611</td>\n",
       "    </tr>\n",
       "    <tr>\n",
       "      <td id=\"T_6f074_row3_col0\" class=\"data row3 col0\" >0.755</td>\n",
       "      <td id=\"T_6f074_row3_col1\" class=\"data row3 col1\" >0.724</td>\n",
       "      <td id=\"T_6f074_row3_col2\" class=\"data row3 col2\" >0.785</td>\n",
       "      <td id=\"T_6f074_row3_col3\" class=\"data row3 col3\" >LogisticRegression(max_iter=1000, random_state=42)</td>\n",
       "      <td id=\"T_6f074_row3_col4\" class=\"data row3 col4\" >&lt;NA&gt;</td>\n",
       "      <td id=\"T_6f074_row3_col5\" class=\"data row3 col5\" >&lt;NA&gt;</td>\n",
       "      <td id=\"T_6f074_row3_col6\" class=\"data row3 col6\" >&lt;NA&gt;</td>\n",
       "      <td id=\"T_6f074_row3_col7\" class=\"data row3 col7\" >&lt;NA&gt;</td>\n",
       "      <td id=\"T_6f074_row3_col8\" class=\"data row3 col8\" >&lt;NA&gt;</td>\n",
       "      <td id=\"T_6f074_row3_col9\" class=\"data row3 col9\" >OneHotEncoder()</td>\n",
       "      <td id=\"T_6f074_row3_col10\" class=\"data row3 col10\" >MinMaxScaler()</td>\n",
       "      <td id=\"T_6f074_row3_col11\" class=\"data row3 col11\" >55.200</td>\n",
       "    </tr>\n",
       "    <tr>\n",
       "      <td id=\"T_6f074_row4_col0\" class=\"data row4 col0\" >0.752</td>\n",
       "      <td id=\"T_6f074_row4_col1\" class=\"data row4 col1\" >0.726</td>\n",
       "      <td id=\"T_6f074_row4_col2\" class=\"data row4 col2\" >0.779</td>\n",
       "      <td id=\"T_6f074_row4_col3\" class=\"data row4 col3\" >LogisticRegression(max_iter=1000, random_state=42)</td>\n",
       "      <td id=\"T_6f074_row4_col4\" class=\"data row4 col4\" >&lt;NA&gt;</td>\n",
       "      <td id=\"T_6f074_row4_col5\" class=\"data row4 col5\" >&lt;NA&gt;</td>\n",
       "      <td id=\"T_6f074_row4_col6\" class=\"data row4 col6\" >&lt;NA&gt;</td>\n",
       "      <td id=\"T_6f074_row4_col7\" class=\"data row4 col7\" >&lt;NA&gt;</td>\n",
       "      <td id=\"T_6f074_row4_col8\" class=\"data row4 col8\" >&lt;NA&gt;</td>\n",
       "      <td id=\"T_6f074_row4_col9\" class=\"data row4 col9\" >OneHotEncoder()</td>\n",
       "      <td id=\"T_6f074_row4_col10\" class=\"data row4 col10\" >MinMaxScaler()</td>\n",
       "      <td id=\"T_6f074_row4_col11\" class=\"data row4 col11\" >95.313</td>\n",
       "    </tr>\n",
       "    <tr>\n",
       "      <td id=\"T_6f074_row5_col0\" class=\"data row5 col0\" >0.752</td>\n",
       "      <td id=\"T_6f074_row5_col1\" class=\"data row5 col1\" >0.725</td>\n",
       "      <td id=\"T_6f074_row5_col2\" class=\"data row5 col2\" >0.780</td>\n",
       "      <td id=\"T_6f074_row5_col3\" class=\"data row5 col3\" >LogisticRegression(max_iter=1000, random_state=42)</td>\n",
       "      <td id=\"T_6f074_row5_col4\" class=\"data row5 col4\" >&lt;NA&gt;</td>\n",
       "      <td id=\"T_6f074_row5_col5\" class=\"data row5 col5\" >&lt;NA&gt;</td>\n",
       "      <td id=\"T_6f074_row5_col6\" class=\"data row5 col6\" >&lt;NA&gt;</td>\n",
       "      <td id=\"T_6f074_row5_col7\" class=\"data row5 col7\" >&lt;NA&gt;</td>\n",
       "      <td id=\"T_6f074_row5_col8\" class=\"data row5 col8\" >&lt;NA&gt;</td>\n",
       "      <td id=\"T_6f074_row5_col9\" class=\"data row5 col9\" >OneHotEncoder()</td>\n",
       "      <td id=\"T_6f074_row5_col10\" class=\"data row5 col10\" >MinMaxScaler()</td>\n",
       "      <td id=\"T_6f074_row5_col11\" class=\"data row5 col11\" >78.243</td>\n",
       "    </tr>\n",
       "    <tr>\n",
       "      <td id=\"T_6f074_row6_col0\" class=\"data row6 col0\" >0.731</td>\n",
       "      <td id=\"T_6f074_row6_col1\" class=\"data row6 col1\" >0.703</td>\n",
       "      <td id=\"T_6f074_row6_col2\" class=\"data row6 col2\" >0.760</td>\n",
       "      <td id=\"T_6f074_row6_col3\" class=\"data row6 col3\" >XGBClassifier(base_score=None, booster=None, colsample_bylevel=None,\n",
       "              colsample_bynode=None, colsample_bytree=None,\n",
       "              enable_categorical=False, eval_metric='logloss', gamma=None,\n",
       "              gpu_id=None, importance_type=None, interaction_constraints=None,\n",
       "              learning_rate=None, max_delta_step=None, max_depth=None,\n",
       "              min_child_weight=None, missing=nan, monotone_constraints=None,\n",
       "              n_estimators=100, n_jobs=None, num_parallel_tree=None,\n",
       "              predictor=None, random_state=42, reg_alpha=None, reg_lambda=None,\n",
       "              scale_pos_weight=None, subsample=None, tree_method=None,\n",
       "              use_label_encoder=False, validate_parameters=None,\n",
       "              verbosity=None)</td>\n",
       "      <td id=\"T_6f074_row6_col4\" class=\"data row6 col4\" >0.920</td>\n",
       "      <td id=\"T_6f074_row6_col5\" class=\"data row6 col5\" >0.040</td>\n",
       "      <td id=\"T_6f074_row6_col6\" class=\"data row6 col6\" >6.000</td>\n",
       "      <td id=\"T_6f074_row6_col7\" class=\"data row6 col7\" >417.000</td>\n",
       "      <td id=\"T_6f074_row6_col8\" class=\"data row6 col8\" >0.508</td>\n",
       "      <td id=\"T_6f074_row6_col9\" class=\"data row6 col9\" >OneHotEncoder()</td>\n",
       "      <td id=\"T_6f074_row6_col10\" class=\"data row6 col10\" >MinMaxScaler()</td>\n",
       "      <td id=\"T_6f074_row6_col11\" class=\"data row6 col11\" >&lt;NA&gt;</td>\n",
       "    </tr>\n",
       "    <tr>\n",
       "      <td id=\"T_6f074_row7_col0\" class=\"data row7 col0\" >0.731</td>\n",
       "      <td id=\"T_6f074_row7_col1\" class=\"data row7 col1\" >0.704</td>\n",
       "      <td id=\"T_6f074_row7_col2\" class=\"data row7 col2\" >0.758</td>\n",
       "      <td id=\"T_6f074_row7_col3\" class=\"data row7 col3\" >LogisticRegression(max_iter=1000, random_state=42)</td>\n",
       "      <td id=\"T_6f074_row7_col4\" class=\"data row7 col4\" >&lt;NA&gt;</td>\n",
       "      <td id=\"T_6f074_row7_col5\" class=\"data row7 col5\" >&lt;NA&gt;</td>\n",
       "      <td id=\"T_6f074_row7_col6\" class=\"data row7 col6\" >&lt;NA&gt;</td>\n",
       "      <td id=\"T_6f074_row7_col7\" class=\"data row7 col7\" >&lt;NA&gt;</td>\n",
       "      <td id=\"T_6f074_row7_col8\" class=\"data row7 col8\" >&lt;NA&gt;</td>\n",
       "      <td id=\"T_6f074_row7_col9\" class=\"data row7 col9\" >CustomOrdinalEncoder()</td>\n",
       "      <td id=\"T_6f074_row7_col10\" class=\"data row7 col10\" >MinMaxScaler()</td>\n",
       "      <td id=\"T_6f074_row7_col11\" class=\"data row7 col11\" >94.994</td>\n",
       "    </tr>\n",
       "    <tr>\n",
       "      <td id=\"T_6f074_row8_col0\" class=\"data row8 col0\" >0.730</td>\n",
       "      <td id=\"T_6f074_row8_col1\" class=\"data row8 col1\" >0.703</td>\n",
       "      <td id=\"T_6f074_row8_col2\" class=\"data row8 col2\" >0.756</td>\n",
       "      <td id=\"T_6f074_row8_col3\" class=\"data row8 col3\" >LogisticRegression(max_iter=1000, random_state=42)</td>\n",
       "      <td id=\"T_6f074_row8_col4\" class=\"data row8 col4\" >&lt;NA&gt;</td>\n",
       "      <td id=\"T_6f074_row8_col5\" class=\"data row8 col5\" >&lt;NA&gt;</td>\n",
       "      <td id=\"T_6f074_row8_col6\" class=\"data row8 col6\" >&lt;NA&gt;</td>\n",
       "      <td id=\"T_6f074_row8_col7\" class=\"data row8 col7\" >&lt;NA&gt;</td>\n",
       "      <td id=\"T_6f074_row8_col8\" class=\"data row8 col8\" >&lt;NA&gt;</td>\n",
       "      <td id=\"T_6f074_row8_col9\" class=\"data row8 col9\" >CustomOrdinalEncoder()</td>\n",
       "      <td id=\"T_6f074_row8_col10\" class=\"data row8 col10\" >None</td>\n",
       "      <td id=\"T_6f074_row8_col11\" class=\"data row8 col11\" >37.855</td>\n",
       "    </tr>\n",
       "    <tr>\n",
       "      <td id=\"T_6f074_row9_col0\" class=\"data row9 col0\" >0.728</td>\n",
       "      <td id=\"T_6f074_row9_col1\" class=\"data row9 col1\" >0.700</td>\n",
       "      <td id=\"T_6f074_row9_col2\" class=\"data row9 col2\" >0.756</td>\n",
       "      <td id=\"T_6f074_row9_col3\" class=\"data row9 col3\" >LogisticRegression(max_iter=1000, random_state=42)</td>\n",
       "      <td id=\"T_6f074_row9_col4\" class=\"data row9 col4\" >&lt;NA&gt;</td>\n",
       "      <td id=\"T_6f074_row9_col5\" class=\"data row9 col5\" >&lt;NA&gt;</td>\n",
       "      <td id=\"T_6f074_row9_col6\" class=\"data row9 col6\" >&lt;NA&gt;</td>\n",
       "      <td id=\"T_6f074_row9_col7\" class=\"data row9 col7\" >&lt;NA&gt;</td>\n",
       "      <td id=\"T_6f074_row9_col8\" class=\"data row9 col8\" >&lt;NA&gt;</td>\n",
       "      <td id=\"T_6f074_row9_col9\" class=\"data row9 col9\" >CustomOrdinalEncoder()</td>\n",
       "      <td id=\"T_6f074_row9_col10\" class=\"data row9 col10\" >MinMaxScaler()</td>\n",
       "      <td id=\"T_6f074_row9_col11\" class=\"data row9 col11\" >7.071</td>\n",
       "    </tr>\n",
       "    <tr>\n",
       "      <td id=\"T_6f074_row10_col0\" class=\"data row10 col0\" >0.727</td>\n",
       "      <td id=\"T_6f074_row10_col1\" class=\"data row10 col1\" >0.700</td>\n",
       "      <td id=\"T_6f074_row10_col2\" class=\"data row10 col2\" >0.754</td>\n",
       "      <td id=\"T_6f074_row10_col3\" class=\"data row10 col3\" >LogisticRegression(max_iter=1000, random_state=42)</td>\n",
       "      <td id=\"T_6f074_row10_col4\" class=\"data row10 col4\" >&lt;NA&gt;</td>\n",
       "      <td id=\"T_6f074_row10_col5\" class=\"data row10 col5\" >&lt;NA&gt;</td>\n",
       "      <td id=\"T_6f074_row10_col6\" class=\"data row10 col6\" >&lt;NA&gt;</td>\n",
       "      <td id=\"T_6f074_row10_col7\" class=\"data row10 col7\" >&lt;NA&gt;</td>\n",
       "      <td id=\"T_6f074_row10_col8\" class=\"data row10 col8\" >&lt;NA&gt;</td>\n",
       "      <td id=\"T_6f074_row10_col9\" class=\"data row10 col9\" >CustomOrdinalEncoder()</td>\n",
       "      <td id=\"T_6f074_row10_col10\" class=\"data row10 col10\" >MinMaxScaler()</td>\n",
       "      <td id=\"T_6f074_row10_col11\" class=\"data row10 col11\" >58.571</td>\n",
       "    </tr>\n",
       "    <tr>\n",
       "      <td id=\"T_6f074_row11_col0\" class=\"data row11 col0\" >0.720</td>\n",
       "      <td id=\"T_6f074_row11_col1\" class=\"data row11 col1\" >0.702</td>\n",
       "      <td id=\"T_6f074_row11_col2\" class=\"data row11 col2\" >0.738</td>\n",
       "      <td id=\"T_6f074_row11_col3\" class=\"data row11 col3\" >XGBClassifier(base_score=None, booster=None, colsample_bylevel=None,\n",
       "              colsample_bynode=None, colsample_bytree=None,\n",
       "              enable_categorical=False, eval_metric='logloss', gamma=None,\n",
       "              gpu_id=None, importance_type=None, interaction_constraints=None,\n",
       "              learning_rate=None, max_delta_step=None, max_depth=None,\n",
       "              min_child_weight=None, missing=nan, monotone_constraints=None,\n",
       "              n_estimators=100, n_jobs=None, num_parallel_tree=None,\n",
       "              predictor=None, random_state=42, reg_alpha=None, reg_lambda=None,\n",
       "              scale_pos_weight=None, subsample=None, tree_method=None,\n",
       "              use_label_encoder=False, validate_parameters=None,\n",
       "              verbosity=None)</td>\n",
       "      <td id=\"T_6f074_row11_col4\" class=\"data row11 col4\" >0.365</td>\n",
       "      <td id=\"T_6f074_row11_col5\" class=\"data row11 col5\" >0.151</td>\n",
       "      <td id=\"T_6f074_row11_col6\" class=\"data row11 col6\" >7.000</td>\n",
       "      <td id=\"T_6f074_row11_col7\" class=\"data row11 col7\" >758.000</td>\n",
       "      <td id=\"T_6f074_row11_col8\" class=\"data row11 col8\" >0.747</td>\n",
       "      <td id=\"T_6f074_row11_col9\" class=\"data row11 col9\" >CustomOrdinalEncoder()</td>\n",
       "      <td id=\"T_6f074_row11_col10\" class=\"data row11 col10\" >StandardScaler()</td>\n",
       "      <td id=\"T_6f074_row11_col11\" class=\"data row11 col11\" >&lt;NA&gt;</td>\n",
       "    </tr>\n",
       "    <tr>\n",
       "      <td id=\"T_6f074_row12_col0\" class=\"data row12 col0\" >0.719</td>\n",
       "      <td id=\"T_6f074_row12_col1\" class=\"data row12 col1\" >0.690</td>\n",
       "      <td id=\"T_6f074_row12_col2\" class=\"data row12 col2\" >0.749</td>\n",
       "      <td id=\"T_6f074_row12_col3\" class=\"data row12 col3\" >XGBClassifier(base_score=None, booster=None, colsample_bylevel=None,\n",
       "              colsample_bynode=None, colsample_bytree=None,\n",
       "              enable_categorical=False, eval_metric='logloss', gamma=None,\n",
       "              gpu_id=None, importance_type=None, interaction_constraints=None,\n",
       "              learning_rate=None, max_delta_step=None, max_depth=None,\n",
       "              min_child_weight=None, missing=nan, monotone_constraints=None,\n",
       "              n_estimators=100, n_jobs=None, num_parallel_tree=None,\n",
       "              predictor=None, random_state=42, reg_alpha=None, reg_lambda=None,\n",
       "              scale_pos_weight=None, subsample=None, tree_method=None,\n",
       "              use_label_encoder=False, validate_parameters=None,\n",
       "              verbosity=None)</td>\n",
       "      <td id=\"T_6f074_row12_col4\" class=\"data row12 col4\" >0.444</td>\n",
       "      <td id=\"T_6f074_row12_col5\" class=\"data row12 col5\" >0.163</td>\n",
       "      <td id=\"T_6f074_row12_col6\" class=\"data row12 col6\" >8.000</td>\n",
       "      <td id=\"T_6f074_row12_col7\" class=\"data row12 col7\" >1,813.000</td>\n",
       "      <td id=\"T_6f074_row12_col8\" class=\"data row12 col8\" >0.745</td>\n",
       "      <td id=\"T_6f074_row12_col9\" class=\"data row12 col9\" >OneHotEncoder()</td>\n",
       "      <td id=\"T_6f074_row12_col10\" class=\"data row12 col10\" >MinMaxScaler()</td>\n",
       "      <td id=\"T_6f074_row12_col11\" class=\"data row12 col11\" >&lt;NA&gt;</td>\n",
       "    </tr>\n",
       "    <tr>\n",
       "      <td id=\"T_6f074_row13_col0\" class=\"data row13 col0\" >0.715</td>\n",
       "      <td id=\"T_6f074_row13_col1\" class=\"data row13 col1\" >0.701</td>\n",
       "      <td id=\"T_6f074_row13_col2\" class=\"data row13 col2\" >0.729</td>\n",
       "      <td id=\"T_6f074_row13_col3\" class=\"data row13 col3\" >XGBClassifier(base_score=None, booster=None, colsample_bylevel=None,\n",
       "              colsample_bynode=None, colsample_bytree=None,\n",
       "              enable_categorical=False, eval_metric='logloss', gamma=None,\n",
       "              gpu_id=None, importance_type=None, interaction_constraints=None,\n",
       "              learning_rate=None, max_delta_step=None, max_depth=None,\n",
       "              min_child_weight=None, missing=nan, monotone_constraints=None,\n",
       "              n_estimators=100, n_jobs=None, num_parallel_tree=None,\n",
       "              predictor=None, random_state=42, reg_alpha=None, reg_lambda=None,\n",
       "              scale_pos_weight=None, subsample=None, tree_method=None,\n",
       "              use_label_encoder=False, validate_parameters=None,\n",
       "              verbosity=None)</td>\n",
       "      <td id=\"T_6f074_row13_col4\" class=\"data row13 col4\" >0.940</td>\n",
       "      <td id=\"T_6f074_row13_col5\" class=\"data row13 col5\" >0.057</td>\n",
       "      <td id=\"T_6f074_row13_col6\" class=\"data row13 col6\" >4.000</td>\n",
       "      <td id=\"T_6f074_row13_col7\" class=\"data row13 col7\" >1,611.000</td>\n",
       "      <td id=\"T_6f074_row13_col8\" class=\"data row13 col8\" >0.435</td>\n",
       "      <td id=\"T_6f074_row13_col9\" class=\"data row13 col9\" >OneHotEncoder()</td>\n",
       "      <td id=\"T_6f074_row13_col10\" class=\"data row13 col10\" >StandardScaler()</td>\n",
       "      <td id=\"T_6f074_row13_col11\" class=\"data row13 col11\" >&lt;NA&gt;</td>\n",
       "    </tr>\n",
       "    <tr>\n",
       "      <td id=\"T_6f074_row14_col0\" class=\"data row14 col0\" >0.707</td>\n",
       "      <td id=\"T_6f074_row14_col1\" class=\"data row14 col1\" >0.691</td>\n",
       "      <td id=\"T_6f074_row14_col2\" class=\"data row14 col2\" >0.723</td>\n",
       "      <td id=\"T_6f074_row14_col3\" class=\"data row14 col3\" >XGBClassifier(base_score=None, booster=None, colsample_bylevel=None,\n",
       "              colsample_bynode=None, colsample_bytree=None,\n",
       "              enable_categorical=False, eval_metric='logloss', gamma=None,\n",
       "              gpu_id=None, importance_type=None, interaction_constraints=None,\n",
       "              learning_rate=None, max_delta_step=None, max_depth=None,\n",
       "              min_child_weight=None, missing=nan, monotone_constraints=None,\n",
       "              n_estimators=100, n_jobs=None, num_parallel_tree=None,\n",
       "              predictor=None, random_state=42, reg_alpha=None, reg_lambda=None,\n",
       "              scale_pos_weight=None, subsample=None, tree_method=None,\n",
       "              use_label_encoder=False, validate_parameters=None,\n",
       "              verbosity=None)</td>\n",
       "      <td id=\"T_6f074_row14_col4\" class=\"data row14 col4\" >0.778</td>\n",
       "      <td id=\"T_6f074_row14_col5\" class=\"data row14 col5\" >0.114</td>\n",
       "      <td id=\"T_6f074_row14_col6\" class=\"data row14 col6\" >9.000</td>\n",
       "      <td id=\"T_6f074_row14_col7\" class=\"data row14 col7\" >1,206.000</td>\n",
       "      <td id=\"T_6f074_row14_col8\" class=\"data row14 col8\" >0.635</td>\n",
       "      <td id=\"T_6f074_row14_col9\" class=\"data row14 col9\" >CustomOrdinalEncoder()</td>\n",
       "      <td id=\"T_6f074_row14_col10\" class=\"data row14 col10\" >MinMaxScaler()</td>\n",
       "      <td id=\"T_6f074_row14_col11\" class=\"data row14 col11\" >&lt;NA&gt;</td>\n",
       "    </tr>\n",
       "    <tr>\n",
       "      <td id=\"T_6f074_row15_col0\" class=\"data row15 col0\" >0.704</td>\n",
       "      <td id=\"T_6f074_row15_col1\" class=\"data row15 col1\" >0.674</td>\n",
       "      <td id=\"T_6f074_row15_col2\" class=\"data row15 col2\" >0.734</td>\n",
       "      <td id=\"T_6f074_row15_col3\" class=\"data row15 col3\" >XGBClassifier(base_score=None, booster=None, colsample_bylevel=None,\n",
       "              colsample_bynode=None, colsample_bytree=None,\n",
       "              enable_categorical=False, eval_metric='logloss', gamma=None,\n",
       "              gpu_id=None, importance_type=None, interaction_constraints=None,\n",
       "              learning_rate=None, max_delta_step=None, max_depth=None,\n",
       "              min_child_weight=None, missing=nan, monotone_constraints=None,\n",
       "              n_estimators=100, n_jobs=None, num_parallel_tree=None,\n",
       "              predictor=None, random_state=42, reg_alpha=None, reg_lambda=None,\n",
       "              scale_pos_weight=None, subsample=None, tree_method=None,\n",
       "              use_label_encoder=False, validate_parameters=None,\n",
       "              verbosity=None)</td>\n",
       "      <td id=\"T_6f074_row15_col4\" class=\"data row15 col4\" >0.884</td>\n",
       "      <td id=\"T_6f074_row15_col5\" class=\"data row15 col5\" >0.098</td>\n",
       "      <td id=\"T_6f074_row15_col6\" class=\"data row15 col6\" >10.000</td>\n",
       "      <td id=\"T_6f074_row15_col7\" class=\"data row15 col7\" >1,735.000</td>\n",
       "      <td id=\"T_6f074_row15_col8\" class=\"data row15 col8\" >0.156</td>\n",
       "      <td id=\"T_6f074_row15_col9\" class=\"data row15 col9\" >OneHotEncoder()</td>\n",
       "      <td id=\"T_6f074_row15_col10\" class=\"data row15 col10\" >MinMaxScaler()</td>\n",
       "      <td id=\"T_6f074_row15_col11\" class=\"data row15 col11\" >&lt;NA&gt;</td>\n",
       "    </tr>\n",
       "    <tr>\n",
       "      <td id=\"T_6f074_row16_col0\" class=\"data row16 col0\" >0.703</td>\n",
       "      <td id=\"T_6f074_row16_col1\" class=\"data row16 col1\" >0.673</td>\n",
       "      <td id=\"T_6f074_row16_col2\" class=\"data row16 col2\" >0.734</td>\n",
       "      <td id=\"T_6f074_row16_col3\" class=\"data row16 col3\" >XGBClassifier(base_score=None, booster=None, colsample_bylevel=None,\n",
       "              colsample_bynode=None, colsample_bytree=None,\n",
       "              enable_categorical=False, eval_metric='logloss', gamma=None,\n",
       "              gpu_id=None, importance_type=None, interaction_constraints=None,\n",
       "              learning_rate=None, max_delta_step=None, max_depth=None,\n",
       "              min_child_weight=None, missing=nan, monotone_constraints=None,\n",
       "              n_estimators=100, n_jobs=None, num_parallel_tree=None,\n",
       "              predictor=None, random_state=42, reg_alpha=None, reg_lambda=None,\n",
       "              scale_pos_weight=None, subsample=None, tree_method=None,\n",
       "              use_label_encoder=False, validate_parameters=None,\n",
       "              verbosity=None)</td>\n",
       "      <td id=\"T_6f074_row16_col4\" class=\"data row16 col4\" >0.180</td>\n",
       "      <td id=\"T_6f074_row16_col5\" class=\"data row16 col5\" >0.183</td>\n",
       "      <td id=\"T_6f074_row16_col6\" class=\"data row16 col6\" >9.000</td>\n",
       "      <td id=\"T_6f074_row16_col7\" class=\"data row16 col7\" >1,070.000</td>\n",
       "      <td id=\"T_6f074_row16_col8\" class=\"data row16 col8\" >0.186</td>\n",
       "      <td id=\"T_6f074_row16_col9\" class=\"data row16 col9\" >CustomOrdinalEncoder()</td>\n",
       "      <td id=\"T_6f074_row16_col10\" class=\"data row16 col10\" >StandardScaler()</td>\n",
       "      <td id=\"T_6f074_row16_col11\" class=\"data row16 col11\" >&lt;NA&gt;</td>\n",
       "    </tr>\n",
       "    <tr>\n",
       "      <td id=\"T_6f074_row17_col0\" class=\"data row17 col0\" >0.701</td>\n",
       "      <td id=\"T_6f074_row17_col1\" class=\"data row17 col1\" >0.667</td>\n",
       "      <td id=\"T_6f074_row17_col2\" class=\"data row17 col2\" >0.735</td>\n",
       "      <td id=\"T_6f074_row17_col3\" class=\"data row17 col3\" >XGBClassifier(base_score=None, booster=None, colsample_bylevel=None,\n",
       "              colsample_bynode=None, colsample_bytree=None,\n",
       "              enable_categorical=False, eval_metric='logloss', gamma=None,\n",
       "              gpu_id=None, importance_type=None, interaction_constraints=None,\n",
       "              learning_rate=None, max_delta_step=None, max_depth=None,\n",
       "              min_child_weight=None, missing=nan, monotone_constraints=None,\n",
       "              n_estimators=100, n_jobs=None, num_parallel_tree=None,\n",
       "              predictor=None, random_state=42, reg_alpha=None, reg_lambda=None,\n",
       "              scale_pos_weight=None, subsample=None, tree_method=None,\n",
       "              use_label_encoder=False, validate_parameters=None,\n",
       "              verbosity=None)</td>\n",
       "      <td id=\"T_6f074_row17_col4\" class=\"data row17 col4\" >0.704</td>\n",
       "      <td id=\"T_6f074_row17_col5\" class=\"data row17 col5\" >0.263</td>\n",
       "      <td id=\"T_6f074_row17_col6\" class=\"data row17 col6\" >6.000</td>\n",
       "      <td id=\"T_6f074_row17_col7\" class=\"data row17 col7\" >793.000</td>\n",
       "      <td id=\"T_6f074_row17_col8\" class=\"data row17 col8\" >0.290</td>\n",
       "      <td id=\"T_6f074_row17_col9\" class=\"data row17 col9\" >OneHotEncoder()</td>\n",
       "      <td id=\"T_6f074_row17_col10\" class=\"data row17 col10\" >MinMaxScaler()</td>\n",
       "      <td id=\"T_6f074_row17_col11\" class=\"data row17 col11\" >&lt;NA&gt;</td>\n",
       "    </tr>\n",
       "    <tr>\n",
       "      <td id=\"T_6f074_row18_col0\" class=\"data row18 col0\" >0.697</td>\n",
       "      <td id=\"T_6f074_row18_col1\" class=\"data row18 col1\" >0.667</td>\n",
       "      <td id=\"T_6f074_row18_col2\" class=\"data row18 col2\" >0.728</td>\n",
       "      <td id=\"T_6f074_row18_col3\" class=\"data row18 col3\" >XGBClassifier(base_score=None, booster=None, colsample_bylevel=None,\n",
       "              colsample_bynode=None, colsample_bytree=None,\n",
       "              enable_categorical=False, eval_metric='logloss', gamma=None,\n",
       "              gpu_id=None, importance_type=None, interaction_constraints=None,\n",
       "              learning_rate=None, max_delta_step=None, max_depth=None,\n",
       "              min_child_weight=None, missing=nan, monotone_constraints=None,\n",
       "              n_estimators=100, n_jobs=None, num_parallel_tree=None,\n",
       "              predictor=None, random_state=42, reg_alpha=None, reg_lambda=None,\n",
       "              scale_pos_weight=None, subsample=None, tree_method=None,\n",
       "              use_label_encoder=False, validate_parameters=None,\n",
       "              verbosity=None)</td>\n",
       "      <td id=\"T_6f074_row18_col4\" class=\"data row18 col4\" >0.921</td>\n",
       "      <td id=\"T_6f074_row18_col5\" class=\"data row18 col5\" >0.154</td>\n",
       "      <td id=\"T_6f074_row18_col6\" class=\"data row18 col6\" >9.000</td>\n",
       "      <td id=\"T_6f074_row18_col7\" class=\"data row18 col7\" >682.000</td>\n",
       "      <td id=\"T_6f074_row18_col8\" class=\"data row18 col8\" >0.146</td>\n",
       "      <td id=\"T_6f074_row18_col9\" class=\"data row18 col9\" >CustomOrdinalEncoder()</td>\n",
       "      <td id=\"T_6f074_row18_col10\" class=\"data row18 col10\" >MinMaxScaler()</td>\n",
       "      <td id=\"T_6f074_row18_col11\" class=\"data row18 col11\" >&lt;NA&gt;</td>\n",
       "    </tr>\n",
       "    <tr>\n",
       "      <td id=\"T_6f074_row19_col0\" class=\"data row19 col0\" >0.695</td>\n",
       "      <td id=\"T_6f074_row19_col1\" class=\"data row19 col1\" >0.670</td>\n",
       "      <td id=\"T_6f074_row19_col2\" class=\"data row19 col2\" >0.721</td>\n",
       "      <td id=\"T_6f074_row19_col3\" class=\"data row19 col3\" >XGBClassifier(base_score=None, booster=None, colsample_bylevel=None,\n",
       "              colsample_bynode=None, colsample_bytree=None,\n",
       "              enable_categorical=False, eval_metric='logloss', gamma=None,\n",
       "              gpu_id=None, importance_type=None, interaction_constraints=None,\n",
       "              learning_rate=None, max_delta_step=None, max_depth=None,\n",
       "              min_child_weight=None, missing=nan, monotone_constraints=None,\n",
       "              n_estimators=100, n_jobs=None, num_parallel_tree=None,\n",
       "              predictor=None, random_state=42, reg_alpha=None, reg_lambda=None,\n",
       "              scale_pos_weight=None, subsample=None, tree_method=None,\n",
       "              use_label_encoder=False, validate_parameters=None,\n",
       "              verbosity=None)</td>\n",
       "      <td id=\"T_6f074_row19_col4\" class=\"data row19 col4\" >0.820</td>\n",
       "      <td id=\"T_6f074_row19_col5\" class=\"data row19 col5\" >0.225</td>\n",
       "      <td id=\"T_6f074_row19_col6\" class=\"data row19 col6\" >5.000</td>\n",
       "      <td id=\"T_6f074_row19_col7\" class=\"data row19 col7\" >1,178.000</td>\n",
       "      <td id=\"T_6f074_row19_col8\" class=\"data row19 col8\" >0.347</td>\n",
       "      <td id=\"T_6f074_row19_col9\" class=\"data row19 col9\" >OneHotEncoder()</td>\n",
       "      <td id=\"T_6f074_row19_col10\" class=\"data row19 col10\" >StandardScaler()</td>\n",
       "      <td id=\"T_6f074_row19_col11\" class=\"data row19 col11\" >&lt;NA&gt;</td>\n",
       "    </tr>\n",
       "  </tbody>\n",
       "</table>\n"
      ],
      "text/plain": [
       "<pandas.io.formats.style.Styler at 0x7fc9492f47c0>"
      ]
     },
     "execution_count": 75,
     "metadata": {},
     "output_type": "execute_result"
    }
   ],
   "source": [
    "results.to_formatted_dataframe(num_rows=40)"
   ]
  },
  {
   "cell_type": "code",
   "execution_count": 76,
   "id": "47ce70ff",
   "metadata": {},
   "outputs": [
    {
     "data": {
      "text/plain": [
       "array([16,  7, 17, 13, 14, 15, 19, 18, 20, 12, 10,  1,  2,  3,  9, 11,  5,\n",
       "        8,  6,  4])"
      ]
     },
     "execution_count": 76,
     "metadata": {},
     "output_type": "execute_result"
    }
   ],
   "source": [
    "# gives the score rank for each index\n",
    "# e.g. array([4, 2, 1, 3)\n",
    "# the 1st iteration (i.e. set of params) was the worst\n",
    "# the 3rd iteration was the best.\n",
    "results.primary_score_trial_ranking"
   ]
  },
  {
   "cell_type": "code",
   "execution_count": 77,
   "id": "c14d60dd",
   "metadata": {},
   "outputs": [
    {
     "data": {
      "text/plain": [
       "array([11, 12, 13, 19, 16, 18,  1, 17, 14, 10, 15,  9,  3,  4,  5,  0,  2,\n",
       "        7,  6,  8])"
      ]
     },
     "execution_count": 77,
     "metadata": {},
     "output_type": "execute_result"
    }
   ],
   "source": [
    "# gives the \n",
    "# e.g. results.primary_score_iteration_ranking of array([4, 2, 1, 3)\n",
    "# would return [2, 1, 4, 0] because index 2 (i.e. 3rd iteration) was the best, so it is the first index;\n",
    "# and index 0 (i.e. first iteration) was the was\n",
    "results.primary_score_best_indexes"
   ]
  },
  {
   "cell_type": "markdown",
   "id": "59fde126",
   "metadata": {},
   "source": [
    "## BayesSearchCV Performance Over Time"
   ]
  },
  {
   "cell_type": "code",
   "execution_count": 97,
   "id": "99edfa20",
   "metadata": {},
   "outputs": [
    {
     "data": {
      "text/plain": [
       "odict_keys(['model', 'model__colsample_bytree', 'model__learning_rate', 'model__max_depth', 'model__n_estimators', 'model__subsample', 'prep__non_numeric__encoder__transformer', 'prep__numeric__imputer__transformer', 'prep__numeric__scaler__transformer'])"
      ]
     },
     "execution_count": 97,
     "metadata": {},
     "output_type": "execute_result"
    }
   ],
   "source": [
    "bayes_search.cv_results_['params'][0].keys()"
   ]
  },
  {
   "cell_type": "code",
   "execution_count": 96,
   "id": "356af78f",
   "metadata": {},
   "outputs": [
    {
     "data": {
      "text/plain": [
       "odict_keys(['model', 'model__C', 'prep__non_numeric__encoder__transformer', 'prep__numeric__imputer__transformer', 'prep__numeric__scaler__transformer'])"
      ]
     },
     "execution_count": 96,
     "metadata": {},
     "output_type": "execute_result"
    }
   ],
   "source": [
    "bayes_search.cv_results_['params'][11].keys()"
   ]
  },
  {
   "cell_type": "code",
   "execution_count": null,
   "id": "8caf54d3",
   "metadata": {},
   "outputs": [],
   "source": []
  },
  {
   "cell_type": "code",
   "execution_count": null,
   "id": "c3042e40",
   "metadata": {},
   "outputs": [],
   "source": []
  },
  {
   "cell_type": "code",
   "execution_count": null,
   "id": "8197ba85",
   "metadata": {},
   "outputs": [],
   "source": []
  },
  {
   "cell_type": "code",
   "execution_count": 82,
   "id": "de78b4a9",
   "metadata": {},
   "outputs": [
    {
     "data": {
      "text/plain": [
       "['roc_auc Mean',\n",
       " 'roc_auc 95CI.LO',\n",
       " 'roc_auc 95CI.HI',\n",
       " 'model',\n",
       " 'model__colsample_bytree',\n",
       " 'model__learning_rate',\n",
       " 'model__max_depth',\n",
       " 'model__n_estimators',\n",
       " 'model__subsample',\n",
       " 'prep__non_numeric__encoder__transformer',\n",
       " 'prep__numeric__scaler__transformer',\n",
       " 'model__C']"
      ]
     },
     "execution_count": 82,
     "metadata": {},
     "output_type": "execute_result"
    }
   ],
   "source": [
    "labeled_dataframe = results.to_dataframe(sort_by_score=False)  # leave original trial order\n",
    "columns = labeled_dataframe.columns.to_list()  # cache columns to move Iteration column to front\n",
    "columns"
   ]
  },
  {
   "cell_type": "code",
   "execution_count": 90,
   "id": "8ce65188",
   "metadata": {},
   "outputs": [
    {
     "data": {
      "text/plain": [
       "['model',\n",
       " 'model__colsample_bytree',\n",
       " 'model__learning_rate',\n",
       " 'model__max_depth',\n",
       " 'model__n_estimators',\n",
       " 'model__subsample',\n",
       " 'prep__non_numeric__encoder__transformer',\n",
       " 'prep__numeric__imputer__transformer',\n",
       " 'prep__numeric__scaler__transformer']"
      ]
     },
     "execution_count": 90,
     "metadata": {},
     "output_type": "execute_result"
    }
   ],
   "source": [
    "results.parameter_names_original"
   ]
  },
  {
   "cell_type": "code",
   "execution_count": 89,
   "id": "570259f4",
   "metadata": {},
   "outputs": [
    {
     "data": {
      "text/plain": [
       "[\"model: XGBClassifier(base_score=None, booster=None, colsample_bylevel=None,\\n              colsample_bynode=None, colsample_bytree=None,\\n              enable_categorical=False, eval_metric='logloss', gamma=None,\\n              gpu_id=None, importance_type=None, interaction_constraints=None,\\n              learning_rate=None, max_delta_step=None, max_depth=None,\\n              min_child_weight=None, missing=nan, monotone_constraints=None,\\n              n_estimators=100, n_jobs=None, num_parallel_tree=None,\\n              predictor=None, random_state=42, reg_alpha=None, reg_lambda=None,\\n              scale_pos_weight=None, subsample=None, tree_method=None,\\n              use_label_encoder=False, validate_parameters=None,\\n              verbosity=None)\",\n",
       " 'model__colsample_bytree: 0.8844821246070537',\n",
       " 'model__learning_rate: 0.09798893186641074',\n",
       " 'model__max_depth: 10',\n",
       " 'model__n_estimators: 1735',\n",
       " 'model__subsample: 0.15608164675966435',\n",
       " 'prep__non_numeric__encoder__transformer: OneHotEncoder()',\n",
       " 'prep__numeric__imputer__transformer: SimpleImputer()',\n",
       " 'prep__numeric__scaler__transformer: MinMaxScaler()']"
      ]
     },
     "execution_count": 89,
     "metadata": {},
     "output_type": "execute_result"
    }
   ],
   "source": [
    "def create_hyper_param_labels(trial) -> list:\n",
    "    \"\"\"Creates a list of strings that represent the name/value pair for each hyper-parameter.\"\"\"\n",
    "    return [f\"{results.parameter_names_mapping[x] if results.parameter_names_mapping and x in results.parameter_names_mapping else x}: {trial[x]}\"  # pylint: disable=line-too-long  # noqa\n",
    "            for x in results.parameter_names_original]\n",
    "\n",
    "def create_trial_label(trial) -> str:\n",
    "        return f\"{{{hstring.collapse(create_hyper_param_labels(trial), separate=', ')}}}\"\n",
    "\n",
    "create_hyper_param_labels(results.parameter_trials[0])"
   ]
  },
  {
   "cell_type": "code",
   "execution_count": null,
   "id": "5b3623e7",
   "metadata": {},
   "outputs": [],
   "source": []
  },
  {
   "cell_type": "code",
   "execution_count": null,
   "id": "0b1ca1bc",
   "metadata": {},
   "outputs": [],
   "source": []
  },
  {
   "cell_type": "code",
   "execution_count": 84,
   "id": "f9b084da",
   "metadata": {},
   "outputs": [
    {
     "data": {
      "text/plain": [
       "{'model': \"XGBClassifier(base_score=None, booster=None, colsample_bylevel=None,\\n              colsample_bynode=None, colsample_bytree=None,\\n              enable_categorical=False, eval_metric='logloss', gamma=None,\\n              gpu_id=None, importance_type=None, interaction_constraints=None,\\n              learning_rate=None, max_delta_step=None, max_depth=None,\\n              min_child_weight=None, missing=nan, monotone_constraints=None,\\n              n_estimators=100, n_jobs=None, num_parallel_tree=None,\\n              predictor=None, random_state=42, reg_alpha=None, reg_lambda=None,\\n              scale_pos_weight=None, subsample=None, tree_method=None,\\n              use_label_encoder=False, validate_parameters=None,\\n              verbosity=None)\",\n",
       " 'model__colsample_bytree': 0.8844821246070537,\n",
       " 'model__learning_rate': 0.09798893186641074,\n",
       " 'model__max_depth': 10,\n",
       " 'model__n_estimators': 1735,\n",
       " 'model__subsample': 0.15608164675966435,\n",
       " 'prep__non_numeric__encoder__transformer': 'OneHotEncoder()',\n",
       " 'prep__numeric__imputer__transformer': 'SimpleImputer()',\n",
       " 'prep__numeric__scaler__transformer': 'MinMaxScaler()'}"
      ]
     },
     "execution_count": 84,
     "metadata": {},
     "output_type": "execute_result"
    }
   ],
   "source": [
    "results.parameter_trials[0]"
   ]
  },
  {
   "cell_type": "code",
   "execution_count": null,
   "id": "6f35c98e",
   "metadata": {},
   "outputs": [],
   "source": [
    "[x.replace('{', '<br>').replace(', ', '<br>').replace('}', '')\n",
    "                              for x in results.trial_labels(order_from_best_to_worst=False)]"
   ]
  },
  {
   "cell_type": "code",
   "execution_count": 79,
   "id": "29585c02",
   "metadata": {},
   "outputs": [
    {
     "ename": "KeyError",
     "evalue": "'model__colsample_bytree'",
     "output_type": "error",
     "traceback": [
      "\u001b[0;31m---------------------------------------------------------------------------\u001b[0m",
      "\u001b[0;31mKeyError\u001b[0m                                  Traceback (most recent call last)",
      "\u001b[0;32m/var/folders/7x/wc3jx_91337bggbzk01kpvs40000gn/T/ipykernel_1329/1490479209.py\u001b[0m in \u001b[0;36m<module>\u001b[0;34m\u001b[0m\n\u001b[0;32m----> 1\u001b[0;31m \u001b[0mresults\u001b[0m\u001b[0;34m.\u001b[0m\u001b[0mto_labeled_dataframe\u001b[0m\u001b[0;34m(\u001b[0m\u001b[0;34m)\u001b[0m\u001b[0;34m\u001b[0m\u001b[0;34m\u001b[0m\u001b[0m\n\u001b[0m",
      "\u001b[0;32m~/repos/python-helpers/helpsk/sklearn_eval.py\u001b[0m in \u001b[0;36mto_labeled_dataframe\u001b[0;34m(self)\u001b[0m\n\u001b[1;32m    578\u001b[0m             \u001b[0;31m# create the labels that will be used in the plotly hover text\u001b[0m\u001b[0;34m\u001b[0m\u001b[0;34m\u001b[0m\u001b[0;34m\u001b[0m\u001b[0m\n\u001b[1;32m    579\u001b[0m             labeled_dataframe['label'] = [x.replace('{', '<br>').replace(', ', '<br>').replace('}', '')\n\u001b[0;32m--> 580\u001b[0;31m                                           for x in self.trial_labels(order_from_best_to_worst=False)]\n\u001b[0m\u001b[1;32m    581\u001b[0m \u001b[0;34m\u001b[0m\u001b[0m\n\u001b[1;32m    582\u001b[0m             \u001b[0mself\u001b[0m\u001b[0;34m.\u001b[0m\u001b[0m_labeled_dataframe\u001b[0m \u001b[0;34m=\u001b[0m \u001b[0mlabeled_dataframe\u001b[0m\u001b[0;34m\u001b[0m\u001b[0;34m\u001b[0m\u001b[0m\n",
      "\u001b[0;32m~/repos/python-helpers/helpsk/sklearn_eval.py\u001b[0m in \u001b[0;36mtrial_labels\u001b[0;34m(self, order_from_best_to_worst)\u001b[0m\n\u001b[1;32m    686\u001b[0m         \u001b[0;31m# create_trial_label(trial=self.parameter_trials[0])\u001b[0m\u001b[0;34m\u001b[0m\u001b[0;34m\u001b[0m\u001b[0;34m\u001b[0m\u001b[0m\n\u001b[1;32m    687\u001b[0m \u001b[0;34m\u001b[0m\u001b[0m\n\u001b[0;32m--> 688\u001b[0;31m         \u001b[0mlabels\u001b[0m \u001b[0;34m=\u001b[0m \u001b[0;34m[\u001b[0m\u001b[0mcreate_trial_label\u001b[0m\u001b[0;34m(\u001b[0m\u001b[0mx\u001b[0m\u001b[0;34m)\u001b[0m \u001b[0;32mfor\u001b[0m \u001b[0mx\u001b[0m \u001b[0;32min\u001b[0m \u001b[0mself\u001b[0m\u001b[0;34m.\u001b[0m\u001b[0mparameter_trials\u001b[0m\u001b[0;34m]\u001b[0m\u001b[0;34m\u001b[0m\u001b[0;34m\u001b[0m\u001b[0m\n\u001b[0m\u001b[1;32m    689\u001b[0m \u001b[0;34m\u001b[0m\u001b[0m\n\u001b[1;32m    690\u001b[0m         \u001b[0;32mif\u001b[0m \u001b[0morder_from_best_to_worst\u001b[0m\u001b[0;34m:\u001b[0m\u001b[0;34m\u001b[0m\u001b[0;34m\u001b[0m\u001b[0m\n",
      "\u001b[0;32m~/repos/python-helpers/helpsk/sklearn_eval.py\u001b[0m in \u001b[0;36m<listcomp>\u001b[0;34m(.0)\u001b[0m\n\u001b[1;32m    686\u001b[0m         \u001b[0;31m# create_trial_label(trial=self.parameter_trials[0])\u001b[0m\u001b[0;34m\u001b[0m\u001b[0;34m\u001b[0m\u001b[0;34m\u001b[0m\u001b[0m\n\u001b[1;32m    687\u001b[0m \u001b[0;34m\u001b[0m\u001b[0m\n\u001b[0;32m--> 688\u001b[0;31m         \u001b[0mlabels\u001b[0m \u001b[0;34m=\u001b[0m \u001b[0;34m[\u001b[0m\u001b[0mcreate_trial_label\u001b[0m\u001b[0;34m(\u001b[0m\u001b[0mx\u001b[0m\u001b[0;34m)\u001b[0m \u001b[0;32mfor\u001b[0m \u001b[0mx\u001b[0m \u001b[0;32min\u001b[0m \u001b[0mself\u001b[0m\u001b[0;34m.\u001b[0m\u001b[0mparameter_trials\u001b[0m\u001b[0;34m]\u001b[0m\u001b[0;34m\u001b[0m\u001b[0;34m\u001b[0m\u001b[0m\n\u001b[0m\u001b[1;32m    689\u001b[0m \u001b[0;34m\u001b[0m\u001b[0m\n\u001b[1;32m    690\u001b[0m         \u001b[0;32mif\u001b[0m \u001b[0morder_from_best_to_worst\u001b[0m\u001b[0;34m:\u001b[0m\u001b[0;34m\u001b[0m\u001b[0;34m\u001b[0m\u001b[0m\n",
      "\u001b[0;32m~/repos/python-helpers/helpsk/sklearn_eval.py\u001b[0m in \u001b[0;36mcreate_trial_label\u001b[0;34m(trial)\u001b[0m\n\u001b[1;32m    683\u001b[0m \u001b[0;34m\u001b[0m\u001b[0m\n\u001b[1;32m    684\u001b[0m         \u001b[0;32mdef\u001b[0m \u001b[0mcreate_trial_label\u001b[0m\u001b[0;34m(\u001b[0m\u001b[0mtrial\u001b[0m\u001b[0;34m)\u001b[0m \u001b[0;34m->\u001b[0m \u001b[0mstr\u001b[0m\u001b[0;34m:\u001b[0m\u001b[0;34m\u001b[0m\u001b[0;34m\u001b[0m\u001b[0m\n\u001b[0;32m--> 685\u001b[0;31m             \u001b[0;32mreturn\u001b[0m \u001b[0;34mf\"{{{hstring.collapse(create_hyper_param_labels(trial), separate=', ')}}}\"\u001b[0m\u001b[0;34m\u001b[0m\u001b[0;34m\u001b[0m\u001b[0m\n\u001b[0m\u001b[1;32m    686\u001b[0m         \u001b[0;31m# create_trial_label(trial=self.parameter_trials[0])\u001b[0m\u001b[0;34m\u001b[0m\u001b[0;34m\u001b[0m\u001b[0;34m\u001b[0m\u001b[0m\n\u001b[1;32m    687\u001b[0m \u001b[0;34m\u001b[0m\u001b[0m\n",
      "\u001b[0;32m~/repos/python-helpers/helpsk/sklearn_eval.py\u001b[0m in \u001b[0;36mcreate_hyper_param_labels\u001b[0;34m(trial)\u001b[0m\n\u001b[1;32m    678\u001b[0m         \u001b[0;32mdef\u001b[0m \u001b[0mcreate_hyper_param_labels\u001b[0m\u001b[0;34m(\u001b[0m\u001b[0mtrial\u001b[0m\u001b[0;34m)\u001b[0m \u001b[0;34m->\u001b[0m \u001b[0mlist\u001b[0m\u001b[0;34m:\u001b[0m\u001b[0;34m\u001b[0m\u001b[0;34m\u001b[0m\u001b[0m\n\u001b[1;32m    679\u001b[0m             \u001b[0;34m\"\"\"Creates a list of strings that represent the name/value pair for each hyper-parameter.\"\"\"\u001b[0m\u001b[0;34m\u001b[0m\u001b[0;34m\u001b[0m\u001b[0m\n\u001b[0;32m--> 680\u001b[0;31m             return [f\"{self.parameter_names_mapping[x] if self.parameter_names_mapping and x in self.parameter_names_mapping else x}: {trial[x]}\"  # pylint: disable=line-too-long  # noqa\n\u001b[0m\u001b[1;32m    681\u001b[0m                     for x in self.parameter_names_original]\n\u001b[1;32m    682\u001b[0m         \u001b[0;31m# create_hyper_param_labels(trial=self.parameter_trials[0])\u001b[0m\u001b[0;34m\u001b[0m\u001b[0;34m\u001b[0m\u001b[0;34m\u001b[0m\u001b[0m\n",
      "\u001b[0;32m~/repos/python-helpers/helpsk/sklearn_eval.py\u001b[0m in \u001b[0;36m<listcomp>\u001b[0;34m(.0)\u001b[0m\n\u001b[1;32m    678\u001b[0m         \u001b[0;32mdef\u001b[0m \u001b[0mcreate_hyper_param_labels\u001b[0m\u001b[0;34m(\u001b[0m\u001b[0mtrial\u001b[0m\u001b[0;34m)\u001b[0m \u001b[0;34m->\u001b[0m \u001b[0mlist\u001b[0m\u001b[0;34m:\u001b[0m\u001b[0;34m\u001b[0m\u001b[0;34m\u001b[0m\u001b[0m\n\u001b[1;32m    679\u001b[0m             \u001b[0;34m\"\"\"Creates a list of strings that represent the name/value pair for each hyper-parameter.\"\"\"\u001b[0m\u001b[0;34m\u001b[0m\u001b[0;34m\u001b[0m\u001b[0m\n\u001b[0;32m--> 680\u001b[0;31m             return [f\"{self.parameter_names_mapping[x] if self.parameter_names_mapping and x in self.parameter_names_mapping else x}: {trial[x]}\"  # pylint: disable=line-too-long  # noqa\n\u001b[0m\u001b[1;32m    681\u001b[0m                     for x in self.parameter_names_original]\n\u001b[1;32m    682\u001b[0m         \u001b[0;31m# create_hyper_param_labels(trial=self.parameter_trials[0])\u001b[0m\u001b[0;34m\u001b[0m\u001b[0;34m\u001b[0m\u001b[0;34m\u001b[0m\u001b[0m\n",
      "\u001b[0;31mKeyError\u001b[0m: 'model__colsample_bytree'"
     ]
    }
   ],
   "source": [
    "labeled_dataframe = self.to_dataframe(sort_by_score=False)  # leave original trial order\n",
    "columns = labeled_dataframe.columns.to_list()  # cache columns to move Iteration column to front\n",
    "labeled_dataframe['Trial Index'] = np.arange(1, self.number_of_trials + 1)\n",
    "labeled_dataframe = labeled_dataframe[['Trial Index'] + columns]\n",
    "# create the labels that will be used in the plotly hover text\n",
    "labeled_dataframe['label'] = [x.replace('{', '<br>').replace(', ', '<br>').replace('}', '')\n",
    "                              for x in self.trial_labels(order_from_best_to_worst=False)]"
   ]
  },
  {
   "cell_type": "code",
   "execution_count": null,
   "id": "973882eb",
   "metadata": {},
   "outputs": [],
   "source": []
  },
  {
   "cell_type": "code",
   "execution_count": 78,
   "id": "69d93214",
   "metadata": {},
   "outputs": [
    {
     "ename": "KeyError",
     "evalue": "'model__colsample_bytree'",
     "output_type": "error",
     "traceback": [
      "\u001b[0;31m---------------------------------------------------------------------------\u001b[0m",
      "\u001b[0;31mKeyError\u001b[0m                                  Traceback (most recent call last)",
      "\u001b[0;32m/var/folders/7x/wc3jx_91337bggbzk01kpvs40000gn/T/ipykernel_1329/1487604124.py\u001b[0m in \u001b[0;36m<module>\u001b[0;34m\u001b[0m\n\u001b[0;32m----> 1\u001b[0;31m \u001b[0mresults\u001b[0m\u001b[0;34m.\u001b[0m\u001b[0mplot_performance_across_trials\u001b[0m\u001b[0;34m(\u001b[0m\u001b[0;34m)\u001b[0m\u001b[0;34m.\u001b[0m\u001b[0mshow\u001b[0m\u001b[0;34m(\u001b[0m\u001b[0;34m)\u001b[0m\u001b[0;34m\u001b[0m\u001b[0;34m\u001b[0m\u001b[0m\n\u001b[0m",
      "\u001b[0;32m~/repos/python-helpers/helpsk/sklearn_eval.py\u001b[0m in \u001b[0;36mplot_performance_across_trials\u001b[0;34m(self, size, color, color_continuous_scale, height, width)\u001b[0m\n\u001b[1;32m    927\u001b[0m \u001b[0;34m\u001b[0m\u001b[0m\n\u001b[1;32m    928\u001b[0m         fig = px.scatter(\n\u001b[0;32m--> 929\u001b[0;31m             \u001b[0mdata_frame\u001b[0m\u001b[0;34m=\u001b[0m\u001b[0mself\u001b[0m\u001b[0;34m.\u001b[0m\u001b[0mto_labeled_dataframe\u001b[0m\u001b[0;34m(\u001b[0m\u001b[0;34m)\u001b[0m\u001b[0;34m,\u001b[0m\u001b[0;34m\u001b[0m\u001b[0;34m\u001b[0m\u001b[0m\n\u001b[0m\u001b[1;32m    930\u001b[0m             \u001b[0mx\u001b[0m\u001b[0;34m=\u001b[0m\u001b[0;34m'Trial Index'\u001b[0m\u001b[0;34m,\u001b[0m\u001b[0;34m\u001b[0m\u001b[0;34m\u001b[0m\u001b[0m\n\u001b[1;32m    931\u001b[0m             \u001b[0my\u001b[0m\u001b[0;34m=\u001b[0m\u001b[0mscore_column\u001b[0m\u001b[0;34m,\u001b[0m\u001b[0;34m\u001b[0m\u001b[0;34m\u001b[0m\u001b[0m\n",
      "\u001b[0;32m~/repos/python-helpers/helpsk/sklearn_eval.py\u001b[0m in \u001b[0;36mto_labeled_dataframe\u001b[0;34m(self)\u001b[0m\n\u001b[1;32m    578\u001b[0m             \u001b[0;31m# create the labels that will be used in the plotly hover text\u001b[0m\u001b[0;34m\u001b[0m\u001b[0;34m\u001b[0m\u001b[0;34m\u001b[0m\u001b[0m\n\u001b[1;32m    579\u001b[0m             labeled_dataframe['label'] = [x.replace('{', '<br>').replace(', ', '<br>').replace('}', '')\n\u001b[0;32m--> 580\u001b[0;31m                                           for x in self.trial_labels(order_from_best_to_worst=False)]\n\u001b[0m\u001b[1;32m    581\u001b[0m \u001b[0;34m\u001b[0m\u001b[0m\n\u001b[1;32m    582\u001b[0m             \u001b[0mself\u001b[0m\u001b[0;34m.\u001b[0m\u001b[0m_labeled_dataframe\u001b[0m \u001b[0;34m=\u001b[0m \u001b[0mlabeled_dataframe\u001b[0m\u001b[0;34m\u001b[0m\u001b[0;34m\u001b[0m\u001b[0m\n",
      "\u001b[0;32m~/repos/python-helpers/helpsk/sklearn_eval.py\u001b[0m in \u001b[0;36mtrial_labels\u001b[0;34m(self, order_from_best_to_worst)\u001b[0m\n\u001b[1;32m    686\u001b[0m         \u001b[0;31m# create_trial_label(trial=self.parameter_trials[0])\u001b[0m\u001b[0;34m\u001b[0m\u001b[0;34m\u001b[0m\u001b[0;34m\u001b[0m\u001b[0m\n\u001b[1;32m    687\u001b[0m \u001b[0;34m\u001b[0m\u001b[0m\n\u001b[0;32m--> 688\u001b[0;31m         \u001b[0mlabels\u001b[0m \u001b[0;34m=\u001b[0m \u001b[0;34m[\u001b[0m\u001b[0mcreate_trial_label\u001b[0m\u001b[0;34m(\u001b[0m\u001b[0mx\u001b[0m\u001b[0;34m)\u001b[0m \u001b[0;32mfor\u001b[0m \u001b[0mx\u001b[0m \u001b[0;32min\u001b[0m \u001b[0mself\u001b[0m\u001b[0;34m.\u001b[0m\u001b[0mparameter_trials\u001b[0m\u001b[0;34m]\u001b[0m\u001b[0;34m\u001b[0m\u001b[0;34m\u001b[0m\u001b[0m\n\u001b[0m\u001b[1;32m    689\u001b[0m \u001b[0;34m\u001b[0m\u001b[0m\n\u001b[1;32m    690\u001b[0m         \u001b[0;32mif\u001b[0m \u001b[0morder_from_best_to_worst\u001b[0m\u001b[0;34m:\u001b[0m\u001b[0;34m\u001b[0m\u001b[0;34m\u001b[0m\u001b[0m\n",
      "\u001b[0;32m~/repos/python-helpers/helpsk/sklearn_eval.py\u001b[0m in \u001b[0;36m<listcomp>\u001b[0;34m(.0)\u001b[0m\n\u001b[1;32m    686\u001b[0m         \u001b[0;31m# create_trial_label(trial=self.parameter_trials[0])\u001b[0m\u001b[0;34m\u001b[0m\u001b[0;34m\u001b[0m\u001b[0;34m\u001b[0m\u001b[0m\n\u001b[1;32m    687\u001b[0m \u001b[0;34m\u001b[0m\u001b[0m\n\u001b[0;32m--> 688\u001b[0;31m         \u001b[0mlabels\u001b[0m \u001b[0;34m=\u001b[0m \u001b[0;34m[\u001b[0m\u001b[0mcreate_trial_label\u001b[0m\u001b[0;34m(\u001b[0m\u001b[0mx\u001b[0m\u001b[0;34m)\u001b[0m \u001b[0;32mfor\u001b[0m \u001b[0mx\u001b[0m \u001b[0;32min\u001b[0m \u001b[0mself\u001b[0m\u001b[0;34m.\u001b[0m\u001b[0mparameter_trials\u001b[0m\u001b[0;34m]\u001b[0m\u001b[0;34m\u001b[0m\u001b[0;34m\u001b[0m\u001b[0m\n\u001b[0m\u001b[1;32m    689\u001b[0m \u001b[0;34m\u001b[0m\u001b[0m\n\u001b[1;32m    690\u001b[0m         \u001b[0;32mif\u001b[0m \u001b[0morder_from_best_to_worst\u001b[0m\u001b[0;34m:\u001b[0m\u001b[0;34m\u001b[0m\u001b[0;34m\u001b[0m\u001b[0m\n",
      "\u001b[0;32m~/repos/python-helpers/helpsk/sklearn_eval.py\u001b[0m in \u001b[0;36mcreate_trial_label\u001b[0;34m(trial)\u001b[0m\n\u001b[1;32m    683\u001b[0m \u001b[0;34m\u001b[0m\u001b[0m\n\u001b[1;32m    684\u001b[0m         \u001b[0;32mdef\u001b[0m \u001b[0mcreate_trial_label\u001b[0m\u001b[0;34m(\u001b[0m\u001b[0mtrial\u001b[0m\u001b[0;34m)\u001b[0m \u001b[0;34m->\u001b[0m \u001b[0mstr\u001b[0m\u001b[0;34m:\u001b[0m\u001b[0;34m\u001b[0m\u001b[0;34m\u001b[0m\u001b[0m\n\u001b[0;32m--> 685\u001b[0;31m             \u001b[0;32mreturn\u001b[0m \u001b[0;34mf\"{{{hstring.collapse(create_hyper_param_labels(trial), separate=', ')}}}\"\u001b[0m\u001b[0;34m\u001b[0m\u001b[0;34m\u001b[0m\u001b[0m\n\u001b[0m\u001b[1;32m    686\u001b[0m         \u001b[0;31m# create_trial_label(trial=self.parameter_trials[0])\u001b[0m\u001b[0;34m\u001b[0m\u001b[0;34m\u001b[0m\u001b[0;34m\u001b[0m\u001b[0m\n\u001b[1;32m    687\u001b[0m \u001b[0;34m\u001b[0m\u001b[0m\n",
      "\u001b[0;32m~/repos/python-helpers/helpsk/sklearn_eval.py\u001b[0m in \u001b[0;36mcreate_hyper_param_labels\u001b[0;34m(trial)\u001b[0m\n\u001b[1;32m    678\u001b[0m         \u001b[0;32mdef\u001b[0m \u001b[0mcreate_hyper_param_labels\u001b[0m\u001b[0;34m(\u001b[0m\u001b[0mtrial\u001b[0m\u001b[0;34m)\u001b[0m \u001b[0;34m->\u001b[0m \u001b[0mlist\u001b[0m\u001b[0;34m:\u001b[0m\u001b[0;34m\u001b[0m\u001b[0;34m\u001b[0m\u001b[0m\n\u001b[1;32m    679\u001b[0m             \u001b[0;34m\"\"\"Creates a list of strings that represent the name/value pair for each hyper-parameter.\"\"\"\u001b[0m\u001b[0;34m\u001b[0m\u001b[0;34m\u001b[0m\u001b[0m\n\u001b[0;32m--> 680\u001b[0;31m             return [f\"{self.parameter_names_mapping[x] if self.parameter_names_mapping and x in self.parameter_names_mapping else x}: {trial[x]}\"  # pylint: disable=line-too-long  # noqa\n\u001b[0m\u001b[1;32m    681\u001b[0m                     for x in self.parameter_names_original]\n\u001b[1;32m    682\u001b[0m         \u001b[0;31m# create_hyper_param_labels(trial=self.parameter_trials[0])\u001b[0m\u001b[0;34m\u001b[0m\u001b[0;34m\u001b[0m\u001b[0;34m\u001b[0m\u001b[0m\n",
      "\u001b[0;32m~/repos/python-helpers/helpsk/sklearn_eval.py\u001b[0m in \u001b[0;36m<listcomp>\u001b[0;34m(.0)\u001b[0m\n\u001b[1;32m    678\u001b[0m         \u001b[0;32mdef\u001b[0m \u001b[0mcreate_hyper_param_labels\u001b[0m\u001b[0;34m(\u001b[0m\u001b[0mtrial\u001b[0m\u001b[0;34m)\u001b[0m \u001b[0;34m->\u001b[0m \u001b[0mlist\u001b[0m\u001b[0;34m:\u001b[0m\u001b[0;34m\u001b[0m\u001b[0;34m\u001b[0m\u001b[0m\n\u001b[1;32m    679\u001b[0m             \u001b[0;34m\"\"\"Creates a list of strings that represent the name/value pair for each hyper-parameter.\"\"\"\u001b[0m\u001b[0;34m\u001b[0m\u001b[0;34m\u001b[0m\u001b[0m\n\u001b[0;32m--> 680\u001b[0;31m             return [f\"{self.parameter_names_mapping[x] if self.parameter_names_mapping and x in self.parameter_names_mapping else x}: {trial[x]}\"  # pylint: disable=line-too-long  # noqa\n\u001b[0m\u001b[1;32m    681\u001b[0m                     for x in self.parameter_names_original]\n\u001b[1;32m    682\u001b[0m         \u001b[0;31m# create_hyper_param_labels(trial=self.parameter_trials[0])\u001b[0m\u001b[0;34m\u001b[0m\u001b[0;34m\u001b[0m\u001b[0;34m\u001b[0m\u001b[0m\n",
      "\u001b[0;31mKeyError\u001b[0m: 'model__colsample_bytree'"
     ]
    }
   ],
   "source": [
    "results.plot_performance_across_trials().show()"
   ]
  },
  {
   "cell_type": "code",
   "execution_count": null,
   "id": "f129bb10",
   "metadata": {},
   "outputs": [],
   "source": [
    "results.plot_performance_across_trials(size='learning_rate', color='max_depth').show()"
   ]
  },
  {
   "cell_type": "code",
   "execution_count": null,
   "id": "59e32a6a",
   "metadata": {},
   "outputs": [],
   "source": [
    "results.plot_performance_across_trials(size='learning_rate', color='encoder').show()"
   ]
  },
  {
   "cell_type": "markdown",
   "id": "a6f5be61",
   "metadata": {},
   "source": [
    "---"
   ]
  },
  {
   "cell_type": "markdown",
   "id": "49f22c15",
   "metadata": {},
   "source": [
    "## Variable Performance Over Time"
   ]
  },
  {
   "cell_type": "code",
   "execution_count": null,
   "id": "e100ea68",
   "metadata": {},
   "outputs": [],
   "source": [
    "results.plot_parameter_values_across_trials().show()"
   ]
  },
  {
   "cell_type": "markdown",
   "id": "e23227a1",
   "metadata": {},
   "source": [
    "---"
   ]
  },
  {
   "cell_type": "markdown",
   "id": "3a27957a",
   "metadata": {},
   "source": [
    "## Scatter Matrix"
   ]
  },
  {
   "cell_type": "code",
   "execution_count": null,
   "id": "03852712",
   "metadata": {},
   "outputs": [],
   "source": [
    "results.plot_scatter_matrix(height=1000, width=1000 * hlp.plot.GOLDEN_RATIO).show()"
   ]
  },
  {
   "cell_type": "markdown",
   "id": "c6159d18",
   "metadata": {},
   "source": [
    "---"
   ]
  },
  {
   "cell_type": "markdown",
   "id": "ee749684",
   "metadata": {},
   "source": [
    "## Variable Performance - Numeric"
   ]
  },
  {
   "cell_type": "code",
   "execution_count": null,
   "id": "39189dad",
   "metadata": {},
   "outputs": [],
   "source": [
    "results.plot_performance_numeric_params(height=800)"
   ]
  },
  {
   "cell_type": "code",
   "execution_count": null,
   "id": "7a76f2c9",
   "metadata": {},
   "outputs": [],
   "source": [
    "results.plot_parallel_coordinates().show()"
   ]
  },
  {
   "cell_type": "markdown",
   "id": "b8835e43",
   "metadata": {},
   "source": [
    "---"
   ]
  },
  {
   "cell_type": "markdown",
   "id": "030936ad",
   "metadata": {},
   "source": [
    "## Variable Performance - Non-Numeric"
   ]
  },
  {
   "cell_type": "code",
   "execution_count": null,
   "id": "9fe0a693",
   "metadata": {},
   "outputs": [],
   "source": [
    "results.plot_performance_non_numeric_params()"
   ]
  },
  {
   "cell_type": "markdown",
   "id": "ec79358c",
   "metadata": {
    "pycharm": {
     "name": "#%% md\n"
    }
   },
   "source": [
    "---"
   ]
  },
  {
   "cell_type": "markdown",
   "id": "730f97ee",
   "metadata": {},
   "source": [
    "## Individual Variable Performance"
   ]
  },
  {
   "cell_type": "code",
   "execution_count": null,
   "id": "a4cb1cd0",
   "metadata": {},
   "outputs": [],
   "source": [
    "results.plot_score_vs_parameter(\n",
    "    parameter='learning_rate',\n",
    "    size='colsample_bytree',\n",
    "    color='scaler'\n",
    ")"
   ]
  },
  {
   "cell_type": "markdown",
   "id": "b09bd440",
   "metadata": {},
   "source": [
    "---"
   ]
  },
  {
   "cell_type": "code",
   "execution_count": null,
   "id": "05670ea0",
   "metadata": {},
   "outputs": [],
   "source": [
    "results.plot_parameter_vs_parameter(parameter_x='colsample_bytree',\n",
    "                                   parameter_y='learning_rate',\n",
    "                                   size='max_depth'\n",
    "                                  )"
   ]
  },
  {
   "cell_type": "code",
   "execution_count": null,
   "id": "aab85748",
   "metadata": {},
   "outputs": [],
   "source": [
    "results.plot_parameter_vs_parameter(parameter_x='colsample_bytree',\n",
    "                                   parameter_y='learning_rate',\n",
    "                                   size='imputer')"
   ]
  },
  {
   "cell_type": "markdown",
   "id": "3336ac9d",
   "metadata": {},
   "source": [
    "# Regression on `roc_auc Mean`"
   ]
  },
  {
   "cell_type": "code",
   "execution_count": null,
   "id": "9f1055d5",
   "metadata": {},
   "outputs": [],
   "source": [
    "score_variable = results.primary_score_name + ' Mean'"
   ]
  },
  {
   "cell_type": "code",
   "execution_count": null,
   "id": "ede3925a",
   "metadata": {},
   "outputs": [],
   "source": [
    "score_dataframe = results.to_dataframe()\n",
    "score_dataframe = score_dataframe.drop(columns=[x for x in score_dataframe.columns\n",
    "                              if x not in [score_variable] + results.parameter_names])\n",
    "score_dataframe.head()"
   ]
  },
  {
   "cell_type": "code",
   "execution_count": null,
   "id": "f072893d",
   "metadata": {
    "pycharm": {
     "name": "#%%\n"
    }
   },
   "outputs": [],
   "source": [
    "cleaned_column_names = [''.join(e for e in x.replace(' ', '_') if e == '_' or e.isalnum()) for x in score_dataframe.columns.tolist()]\n",
    "cleaned_column_names = dict(zip(score_dataframe.columns.tolist(), cleaned_column_names))\n",
    "cleaned_column_names"
   ]
  },
  {
   "cell_type": "code",
   "execution_count": null,
   "id": "8616e129",
   "metadata": {
    "pycharm": {
     "name": "#%%\n"
    }
   },
   "outputs": [],
   "source": [
    "score_dataframe = score_dataframe.rename(columns=cleaned_column_names)"
   ]
  },
  {
   "cell_type": "code",
   "execution_count": null,
   "id": "09de3afd",
   "metadata": {
    "pycharm": {
     "name": "#%%\n"
    }
   },
   "outputs": [],
   "source": [
    "import statsmodels.formula.api as smf\n",
    "\n",
    "y_column = 'roc_auc_Mean'\n",
    "X_columns = score_dataframe.columns.tolist()\n",
    "X_columns.remove(y_column)\n",
    "X_columns = hlp.string.collapse(X_columns, separate=\" + \", surround=\"\")\n",
    "\n",
    "formula = f\"{y_column} ~ {X_columns}\"\n",
    "print(formula)\n",
    "model = smf.ols(formula=formula, data = score_dataframe)\n",
    "results = model.fit()\n",
    "print(results.summary())"
   ]
  },
  {
   "cell_type": "code",
   "execution_count": null,
   "id": "d9791bf9",
   "metadata": {
    "pycharm": {
     "name": "#%%\n"
    }
   },
   "outputs": [],
   "source": [
    "from sklearn.preprocessing import StandardScaler\n",
    "from sklearn.compose import ColumnTransformer\n",
    "import pandas as pd\n",
    "\n",
    "scaler = StandardScaler()\n",
    "#scaler.fit_transform(bayes_search_df)\n",
    "\n",
    "numeric_columns = hlp.pandas.get_numeric_columns(score_dataframe)\n",
    "non_numeric_columns = hlp.pandas.get_non_numeric_columns(score_dataframe)\n",
    "\n",
    "print(numeric_columns)\n",
    "print(non_numeric_columns)\n",
    "\n",
    "numeric_pipeline = Pipeline([\n",
    "    ('scaling', StandardScaler()),\n",
    "])\n",
    "\n",
    "transformations_pipeline = ColumnTransformer([\n",
    "    ('numeric_pipeline', numeric_pipeline, numeric_columns),\n",
    "    ('non_numeric_pipeline', 'passthrough', non_numeric_columns)\n",
    "])\n",
    "\n",
    "score_dataframe_transformed = transformations_pipeline.fit_transform(score_dataframe)\n",
    "score_dataframe_transformed = pd.DataFrame(score_dataframe_transformed,\n",
    "                                           columns= numeric_columns + non_numeric_columns)\n",
    "score_dataframe_transformed.head()"
   ]
  },
  {
   "cell_type": "code",
   "execution_count": null,
   "id": "00e391b2",
   "metadata": {},
   "outputs": [],
   "source": [
    "score_dataframe_transformed['roc_auc_Mean'] = score_dataframe_transformed['roc_auc_Mean'].astype('float')\n",
    "score_dataframe_transformed['colsample_bytree'] = score_dataframe_transformed['colsample_bytree'].astype('float')\n",
    "score_dataframe_transformed['learning_rate'] = score_dataframe_transformed['learning_rate'].astype('float')\n",
    "score_dataframe_transformed['max_depth'] = score_dataframe_transformed['max_depth'].astype('float')\n",
    "score_dataframe_transformed['n_estimators'] = score_dataframe_transformed['n_estimators'].astype('float')\n",
    "score_dataframe_transformed['subsample'] = score_dataframe_transformed['subsample'].astype('float')"
   ]
  },
  {
   "cell_type": "code",
   "execution_count": null,
   "id": "5827f79b",
   "metadata": {},
   "outputs": [],
   "source": [
    "print(formula)\n",
    "model = smf.ols(formula=formula,\n",
    "                data = score_dataframe_transformed)\n",
    "results = model.fit()\n",
    "print(results.summary())"
   ]
  },
  {
   "cell_type": "code",
   "execution_count": null,
   "id": "bd528513",
   "metadata": {},
   "outputs": [],
   "source": [
    "coefficients = pd.DataFrame({\n",
    "    'feature': results.params.index,\n",
    "    'coefficient': results.params,\n",
    "    'p_value': results.pvalues,\n",
    "})\n",
    "coefficients = coefficients.query(\"feature != 'Intercept'\")\n",
    "coefficients['Stat Sig'] = coefficients['p_value'] <= 0.05\n",
    "coefficients"
   ]
  },
  {
   "cell_type": "code",
   "execution_count": null,
   "id": "c5122ec5",
   "metadata": {},
   "outputs": [],
   "source": [
    "score_variable"
   ]
  },
  {
   "cell_type": "code",
   "execution_count": null,
   "id": "ae59352b",
   "metadata": {},
   "outputs": [],
   "source": [
    "px.bar(\n",
    "    data_frame=coefficients.reindex(coefficients['coefficient'].abs().sort_values(ascending=True).index),\n",
    "    y='feature',\n",
    "    x='coefficient',\n",
    "    color='Stat Sig',\n",
    "    title=f\"Regression Coefficients of Hyper-parameters against '{score_variable}'\",\n",
    "    height=600,\n",
    "    width=600*hlp.plot.GOLDEN_RATIO\n",
    ")"
   ]
  },
  {
   "cell_type": "markdown",
   "id": "6d5b72e3",
   "metadata": {},
   "source": [
    "# Feature Importance\n",
    "\n",
    "https://scikit-learn.org/stable/auto_examples/ensemble/plot_forest_importances.html"
   ]
  },
  {
   "cell_type": "code",
   "execution_count": null,
   "id": "66a1cb40",
   "metadata": {},
   "outputs": [],
   "source": [
    "from sklearn.inspection import permutation_importance\n",
    "\n",
    "estimator = bayes_search.best_estimator_\n",
    "\n",
    "start_time = time.time()\n",
    "result = permutation_importance(\n",
    "    estimator, X_train, y_train, n_repeats=10, random_state=42, n_jobs=2\n",
    ")\n",
    "elapsed_time = time.time() - start_time\n",
    "print(f\"Elapsed time to compute the importances: {elapsed_time:.3f} seconds\")\n",
    "\n",
    "feature_names = X_train.columns.to_list()\n",
    "forest_importances = pd.Series(result.importances_mean, index=feature_names)\n",
    "forest_importances = forest_importances.sort_values(ascending=False)"
   ]
  },
  {
   "cell_type": "code",
   "execution_count": null,
   "id": "c04d3bcc",
   "metadata": {},
   "outputs": [],
   "source": [
    "import matplotlib.pyplot as plt\n",
    "fig, ax = plt.subplots()\n",
    "forest_importances.plot.bar(yerr=result.importances_std, ax=ax)\n",
    "ax.set_title(\"Feature importances using permutation on full model\")\n",
    "ax.set_ylabel(\"Mean accuracy decrease\")\n",
    "fig.set_size_inches(9, 6)\n",
    "fig.tight_layout()\n",
    "plt.show()"
   ]
  },
  {
   "cell_type": "code",
   "execution_count": null,
   "id": "f0d5aae0",
   "metadata": {},
   "outputs": [],
   "source": [
    "temp = X_train.copy()\n",
    "temp['default'] = y_train\n",
    "temp.groupby('foreign_worker').agg({'default': np.mean})"
   ]
  },
  {
   "cell_type": "code",
   "execution_count": null,
   "id": "6deac1de",
   "metadata": {},
   "outputs": [],
   "source": [
    "fig = px.box(\n",
    "    data_frame=temp,\n",
    "    y='age',\n",
    "    x='default',\n",
    "#    size=size_variable,\n",
    "#    color=color_variable,\n",
    "#    trendline='lowess',\n",
    "#     labels={\n",
    "#         score_variable: f\"Average Cross Validation Score ({results.primary_score_name})\",\n",
    "#     },\n",
    "#     title=f\"<b>{x_variable}</b> - Performance<br>\" \\\n",
    "#           f\"<sup>Size of point corresponds to '{size_variable}'</sup>\",\n",
    "#     custom_data=['labels'],\n",
    "    height=600,\n",
    "    width=600*hlp.plot.GOLDEN_RATIO\n",
    ")\n",
    "fig.show()"
   ]
  },
  {
   "cell_type": "markdown",
   "id": "fb127277",
   "metadata": {},
   "source": [
    "NOTE: foreign worker seems like it should be important but is ranked last in feature importance."
   ]
  }
 ],
 "metadata": {
  "kernelspec": {
   "display_name": "Python 3 (ipykernel)",
   "language": "python",
   "name": "python3"
  },
  "language_info": {
   "codemirror_mode": {
    "name": "ipython",
    "version": 3
   },
   "file_extension": ".py",
   "mimetype": "text/x-python",
   "name": "python",
   "nbconvert_exporter": "python",
   "pygments_lexer": "ipython3",
   "version": "3.9.6"
  },
  "toc": {
   "base_numbering": 1,
   "nav_menu": {},
   "number_sections": false,
   "sideBar": true,
   "skip_h1_title": false,
   "title_cell": "Table of Contents",
   "title_sidebar": "Contents",
   "toc_cell": false,
   "toc_position": {
    "height": "calc(100% - 180px)",
    "left": "10px",
    "top": "150px",
    "width": "222px"
   },
   "toc_section_display": true,
   "toc_window_display": true
  }
 },
 "nbformat": 4,
 "nbformat_minor": 5
}
