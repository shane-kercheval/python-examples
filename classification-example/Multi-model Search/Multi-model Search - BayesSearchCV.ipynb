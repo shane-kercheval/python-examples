{
 "cells": [
  {
   "cell_type": "markdown",
   "id": "f47960fc",
   "metadata": {
    "pycharm": {
     "name": "#%% md\n"
    }
   },
   "source": [
    "This files contains an example of tuning a multiple models with BayesSearchCV."
   ]
  },
  {
   "cell_type": "code",
   "execution_count": 1,
   "id": "c5f3fe51",
   "metadata": {},
   "outputs": [],
   "source": [
    "import pickle\n",
    "import time\n",
    "\n",
    "import helpsk as hlp\n",
    "import pandas as pd\n",
    "import numpy as np\n",
    "import plotly.express as px\n",
    "from sklearn.impute import SimpleImputer\n",
    "from sklearn.pipeline import Pipeline\n",
    "from sklearn.preprocessing import StandardScaler, MinMaxScaler, OneHotEncoder\n",
    "\n",
    "import plotly.io as pio\n",
    "pio.renderers.default='notebook'"
   ]
  },
  {
   "cell_type": "markdown",
   "id": "8ff88fe0",
   "metadata": {},
   "source": [
    "# Load Data"
   ]
  },
  {
   "cell_type": "code",
   "execution_count": 2,
   "id": "757e287d",
   "metadata": {
    "pycharm": {
     "name": "#%%\n"
    }
   },
   "outputs": [],
   "source": [
    "with open('../X_train.pkl', 'rb') as handle:\n",
    "    X_train = pickle.load(handle)\n",
    "\n",
    "with open('../y_train.pkl', 'rb') as handle:\n",
    "    y_train = pickle.load(handle)"
   ]
  },
  {
   "cell_type": "code",
   "execution_count": 3,
   "id": "172f513d",
   "metadata": {
    "pycharm": {
     "name": "#%%\n"
    }
   },
   "outputs": [
    {
     "data": {
      "text/html": [
       "<style type=\"text/css\">\n",
       "#T_de521_row0_col1, #T_de521_row1_col3 {\n",
       "  background-color: #EBB13E;\n",
       "}\n",
       "#T_de521_row0_col2 {\n",
       "  width: 10em;\n",
       "  height: 80%;\n",
       "  background: linear-gradient(90deg,#CF3721 5.0%, transparent 5.0%);\n",
       "}\n",
       "#T_de521_row0_col4, #T_de521_row1_col2, #T_de521_row2_col2, #T_de521_row2_col4, #T_de521_row3_col2, #T_de521_row3_col4, #T_de521_row4_col2, #T_de521_row4_col4, #T_de521_row5_col2, #T_de521_row5_col4, #T_de521_row6_col2, #T_de521_row6_col4 {\n",
       "  width: 10em;\n",
       "  height: 80%;\n",
       "}\n",
       "#T_de521_row0_col7 {\n",
       "  width: 10em;\n",
       "  height: 80%;\n",
       "  background: linear-gradient(90deg,#B4B7B9 56.0%, transparent 56.0%);\n",
       "}\n",
       "#T_de521_row0_col8 {\n",
       "  width: 10em;\n",
       "  height: 80%;\n",
       "  background: linear-gradient(90deg, transparent 50.0%, #B4B7B9 50.0%, #B4B7B9 75.2%, transparent 75.2%);\n",
       "}\n",
       "#T_de521_row1_col4 {\n",
       "  width: 10em;\n",
       "  height: 80%;\n",
       "  background: linear-gradient(90deg,#B4B7B9 5.0%, transparent 5.0%);\n",
       "}\n",
       "#T_de521_row1_col7 {\n",
       "  width: 10em;\n",
       "  height: 80%;\n",
       "  background: linear-gradient(90deg,#B4B7B9 92.0%, transparent 92.0%);\n",
       "}\n",
       "#T_de521_row1_col8 {\n",
       "  width: 10em;\n",
       "  height: 80%;\n",
       "  background: linear-gradient(90deg, transparent 50.0%, #B4B7B9 50.0%, #B4B7B9 96.7%, transparent 96.7%);\n",
       "}\n",
       "#T_de521_row2_col7 {\n",
       "  width: 10em;\n",
       "  height: 80%;\n",
       "  background: linear-gradient(90deg,#B4B7B9 38.0%, transparent 38.0%);\n",
       "}\n",
       "#T_de521_row2_col8 {\n",
       "  width: 10em;\n",
       "  height: 80%;\n",
       "  background: linear-gradient(90deg, transparent 37.0%, #B4B7B9 37.0%, #B4B7B9 50.0%, transparent 50.0%);\n",
       "}\n",
       "#T_de521_row3_col7 {\n",
       "  width: 10em;\n",
       "  height: 80%;\n",
       "  background: linear-gradient(90deg,#B4B7B9 39.0%, transparent 39.0%);\n",
       "}\n",
       "#T_de521_row3_col8 {\n",
       "  width: 10em;\n",
       "  height: 80%;\n",
       "  background: linear-gradient(90deg, transparent 43.2%, #B4B7B9 43.2%, #B4B7B9 50.0%, transparent 50.0%);\n",
       "}\n",
       "#T_de521_row4_col7 {\n",
       "  width: 10em;\n",
       "  height: 80%;\n",
       "  background: linear-gradient(90deg,#B4B7B9 32.0%, transparent 32.0%);\n",
       "}\n",
       "#T_de521_row4_col8 {\n",
       "  width: 10em;\n",
       "  height: 80%;\n",
       "  background: linear-gradient(90deg, transparent 50.0%, #B4B7B9 50.0%, #B4B7B9 75.7%, transparent 75.7%);\n",
       "}\n",
       "#T_de521_row5_col7 {\n",
       "  width: 10em;\n",
       "  height: 80%;\n",
       "  background: linear-gradient(90deg,#B4B7B9 41.0%, transparent 41.0%);\n",
       "}\n",
       "#T_de521_row5_col8 {\n",
       "  width: 10em;\n",
       "  height: 80%;\n",
       "  background: linear-gradient(90deg, transparent 50.0%, #B4B7B9 50.0%, #B4B7B9 81.5%, transparent 81.5%);\n",
       "}\n",
       "#T_de521_row6_col7 {\n",
       "  width: 10em;\n",
       "  height: 80%;\n",
       "  background: linear-gradient(90deg,#B4B7B9 31.0%, transparent 31.0%);\n",
       "}\n",
       "#T_de521_row6_col8 {\n",
       "  width: 10em;\n",
       "  height: 80%;\n",
       "  background: linear-gradient(90deg, transparent 50.0%, #B4B7B9 50.0%, #B4B7B9 100.0%, transparent 100.0%);\n",
       "}\n",
       "</style>\n",
       "<table id=\"T_de521_\">\n",
       "  <thead>\n",
       "    <tr>\n",
       "      <th class=\"blank level0\" >&nbsp;</th>\n",
       "      <th class=\"col_heading level0 col0\" ># of Non-Nulls</th>\n",
       "      <th class=\"col_heading level0 col1\" ># of Nulls</th>\n",
       "      <th class=\"col_heading level0 col2\" >% Nulls</th>\n",
       "      <th class=\"col_heading level0 col3\" ># of Zeros</th>\n",
       "      <th class=\"col_heading level0 col4\" >% Zeros</th>\n",
       "      <th class=\"col_heading level0 col5\" >Mean</th>\n",
       "      <th class=\"col_heading level0 col6\" >St Dev.</th>\n",
       "      <th class=\"col_heading level0 col7\" >Coef of Var</th>\n",
       "      <th class=\"col_heading level0 col8\" >Skewness</th>\n",
       "      <th class=\"col_heading level0 col9\" >Kurtosis</th>\n",
       "      <th class=\"col_heading level0 col10\" >Min</th>\n",
       "      <th class=\"col_heading level0 col11\" >10%</th>\n",
       "      <th class=\"col_heading level0 col12\" >25%</th>\n",
       "      <th class=\"col_heading level0 col13\" >50%</th>\n",
       "      <th class=\"col_heading level0 col14\" >75%</th>\n",
       "      <th class=\"col_heading level0 col15\" >90%</th>\n",
       "      <th class=\"col_heading level0 col16\" >Max</th>\n",
       "    </tr>\n",
       "  </thead>\n",
       "  <tbody>\n",
       "    <tr>\n",
       "      <th id=\"T_de521_level0_row0\" class=\"row_heading level0 row0\" >duration</th>\n",
       "      <td id=\"T_de521_row0_col0\" class=\"data row0 col0\" >760</td>\n",
       "      <td id=\"T_de521_row0_col1\" class=\"data row0 col1\" >40</td>\n",
       "      <td id=\"T_de521_row0_col2\" class=\"data row0 col2\" >5.0%</td>\n",
       "      <td id=\"T_de521_row0_col3\" class=\"data row0 col3\" >0</td>\n",
       "      <td id=\"T_de521_row0_col4\" class=\"data row0 col4\" >0.0%</td>\n",
       "      <td id=\"T_de521_row0_col5\" class=\"data row0 col5\" >21.0</td>\n",
       "      <td id=\"T_de521_row0_col6\" class=\"data row0 col6\" >11.7</td>\n",
       "      <td id=\"T_de521_row0_col7\" class=\"data row0 col7\" >0.6</td>\n",
       "      <td id=\"T_de521_row0_col8\" class=\"data row0 col8\" >1.0</td>\n",
       "      <td id=\"T_de521_row0_col9\" class=\"data row0 col9\" >0.6</td>\n",
       "      <td id=\"T_de521_row0_col10\" class=\"data row0 col10\" >4.0</td>\n",
       "      <td id=\"T_de521_row0_col11\" class=\"data row0 col11\" >9.0</td>\n",
       "      <td id=\"T_de521_row0_col12\" class=\"data row0 col12\" >12.0</td>\n",
       "      <td id=\"T_de521_row0_col13\" class=\"data row0 col13\" >18.0</td>\n",
       "      <td id=\"T_de521_row0_col14\" class=\"data row0 col14\" >24.0</td>\n",
       "      <td id=\"T_de521_row0_col15\" class=\"data row0 col15\" >36.0</td>\n",
       "      <td id=\"T_de521_row0_col16\" class=\"data row0 col16\" >60.0</td>\n",
       "    </tr>\n",
       "    <tr>\n",
       "      <th id=\"T_de521_level0_row1\" class=\"row_heading level0 row1\" >credit_amount</th>\n",
       "      <td id=\"T_de521_row1_col0\" class=\"data row1 col0\" >800</td>\n",
       "      <td id=\"T_de521_row1_col1\" class=\"data row1 col1\" >0</td>\n",
       "      <td id=\"T_de521_row1_col2\" class=\"data row1 col2\" >0.0%</td>\n",
       "      <td id=\"T_de521_row1_col3\" class=\"data row1 col3\" >38</td>\n",
       "      <td id=\"T_de521_row1_col4\" class=\"data row1 col4\" >5.0%</td>\n",
       "      <td id=\"T_de521_row1_col5\" class=\"data row1 col5\" >3,203.9</td>\n",
       "      <td id=\"T_de521_row1_col6\" class=\"data row1 col6\" >2,932.3</td>\n",
       "      <td id=\"T_de521_row1_col7\" class=\"data row1 col7\" >0.9</td>\n",
       "      <td id=\"T_de521_row1_col8\" class=\"data row1 col8\" >1.9</td>\n",
       "      <td id=\"T_de521_row1_col9\" class=\"data row1 col9\" >3.9</td>\n",
       "      <td id=\"T_de521_row1_col10\" class=\"data row1 col10\" >0.0</td>\n",
       "      <td id=\"T_de521_row1_col11\" class=\"data row1 col11\" >753.9</td>\n",
       "      <td id=\"T_de521_row1_col12\" class=\"data row1 col12\" >1,300.8</td>\n",
       "      <td id=\"T_de521_row1_col13\" class=\"data row1 col13\" >2,236.5</td>\n",
       "      <td id=\"T_de521_row1_col14\" class=\"data row1 col14\" >3,951.5</td>\n",
       "      <td id=\"T_de521_row1_col15\" class=\"data row1 col15\" >7,394.6</td>\n",
       "      <td id=\"T_de521_row1_col16\" class=\"data row1 col16\" >18,424.0</td>\n",
       "    </tr>\n",
       "    <tr>\n",
       "      <th id=\"T_de521_level0_row2\" class=\"row_heading level0 row2\" >installment_commitment</th>\n",
       "      <td id=\"T_de521_row2_col0\" class=\"data row2 col0\" >800</td>\n",
       "      <td id=\"T_de521_row2_col1\" class=\"data row2 col1\" >0</td>\n",
       "      <td id=\"T_de521_row2_col2\" class=\"data row2 col2\" >0.0%</td>\n",
       "      <td id=\"T_de521_row2_col3\" class=\"data row2 col3\" >0</td>\n",
       "      <td id=\"T_de521_row2_col4\" class=\"data row2 col4\" >0.0%</td>\n",
       "      <td id=\"T_de521_row2_col5\" class=\"data row2 col5\" >3.0</td>\n",
       "      <td id=\"T_de521_row2_col6\" class=\"data row2 col6\" >1.1</td>\n",
       "      <td id=\"T_de521_row2_col7\" class=\"data row2 col7\" >0.4</td>\n",
       "      <td id=\"T_de521_row2_col8\" class=\"data row2 col8\" >-0.5</td>\n",
       "      <td id=\"T_de521_row2_col9\" class=\"data row2 col9\" >-1.2</td>\n",
       "      <td id=\"T_de521_row2_col10\" class=\"data row2 col10\" >1.0</td>\n",
       "      <td id=\"T_de521_row2_col11\" class=\"data row2 col11\" >1.0</td>\n",
       "      <td id=\"T_de521_row2_col12\" class=\"data row2 col12\" >2.0</td>\n",
       "      <td id=\"T_de521_row2_col13\" class=\"data row2 col13\" >3.0</td>\n",
       "      <td id=\"T_de521_row2_col14\" class=\"data row2 col14\" >4.0</td>\n",
       "      <td id=\"T_de521_row2_col15\" class=\"data row2 col15\" >4.0</td>\n",
       "      <td id=\"T_de521_row2_col16\" class=\"data row2 col16\" >4.0</td>\n",
       "    </tr>\n",
       "    <tr>\n",
       "      <th id=\"T_de521_level0_row3\" class=\"row_heading level0 row3\" >residence_since</th>\n",
       "      <td id=\"T_de521_row3_col0\" class=\"data row3 col0\" >800</td>\n",
       "      <td id=\"T_de521_row3_col1\" class=\"data row3 col1\" >0</td>\n",
       "      <td id=\"T_de521_row3_col2\" class=\"data row3 col2\" >0.0%</td>\n",
       "      <td id=\"T_de521_row3_col3\" class=\"data row3 col3\" >0</td>\n",
       "      <td id=\"T_de521_row3_col4\" class=\"data row3 col4\" >0.0%</td>\n",
       "      <td id=\"T_de521_row3_col5\" class=\"data row3 col5\" >2.9</td>\n",
       "      <td id=\"T_de521_row3_col6\" class=\"data row3 col6\" >1.1</td>\n",
       "      <td id=\"T_de521_row3_col7\" class=\"data row3 col7\" >0.4</td>\n",
       "      <td id=\"T_de521_row3_col8\" class=\"data row3 col8\" >-0.3</td>\n",
       "      <td id=\"T_de521_row3_col9\" class=\"data row3 col9\" >-1.4</td>\n",
       "      <td id=\"T_de521_row3_col10\" class=\"data row3 col10\" >1.0</td>\n",
       "      <td id=\"T_de521_row3_col11\" class=\"data row3 col11\" >1.0</td>\n",
       "      <td id=\"T_de521_row3_col12\" class=\"data row3 col12\" >2.0</td>\n",
       "      <td id=\"T_de521_row3_col13\" class=\"data row3 col13\" >3.0</td>\n",
       "      <td id=\"T_de521_row3_col14\" class=\"data row3 col14\" >4.0</td>\n",
       "      <td id=\"T_de521_row3_col15\" class=\"data row3 col15\" >4.0</td>\n",
       "      <td id=\"T_de521_row3_col16\" class=\"data row3 col16\" >4.0</td>\n",
       "    </tr>\n",
       "    <tr>\n",
       "      <th id=\"T_de521_level0_row4\" class=\"row_heading level0 row4\" >age</th>\n",
       "      <td id=\"T_de521_row4_col0\" class=\"data row4 col0\" >800</td>\n",
       "      <td id=\"T_de521_row4_col1\" class=\"data row4 col1\" >0</td>\n",
       "      <td id=\"T_de521_row4_col2\" class=\"data row4 col2\" >0.0%</td>\n",
       "      <td id=\"T_de521_row4_col3\" class=\"data row4 col3\" >0</td>\n",
       "      <td id=\"T_de521_row4_col4\" class=\"data row4 col4\" >0.0%</td>\n",
       "      <td id=\"T_de521_row4_col5\" class=\"data row4 col5\" >35.6</td>\n",
       "      <td id=\"T_de521_row4_col6\" class=\"data row4 col6\" >11.4</td>\n",
       "      <td id=\"T_de521_row4_col7\" class=\"data row4 col7\" >0.3</td>\n",
       "      <td id=\"T_de521_row4_col8\" class=\"data row4 col8\" >1.0</td>\n",
       "      <td id=\"T_de521_row4_col9\" class=\"data row4 col9\" >0.7</td>\n",
       "      <td id=\"T_de521_row4_col10\" class=\"data row4 col10\" >19.0</td>\n",
       "      <td id=\"T_de521_row4_col11\" class=\"data row4 col11\" >23.0</td>\n",
       "      <td id=\"T_de521_row4_col12\" class=\"data row4 col12\" >27.0</td>\n",
       "      <td id=\"T_de521_row4_col13\" class=\"data row4 col13\" >33.0</td>\n",
       "      <td id=\"T_de521_row4_col14\" class=\"data row4 col14\" >42.0</td>\n",
       "      <td id=\"T_de521_row4_col15\" class=\"data row4 col15\" >52.0</td>\n",
       "      <td id=\"T_de521_row4_col16\" class=\"data row4 col16\" >75.0</td>\n",
       "    </tr>\n",
       "    <tr>\n",
       "      <th id=\"T_de521_level0_row5\" class=\"row_heading level0 row5\" >existing_credits</th>\n",
       "      <td id=\"T_de521_row5_col0\" class=\"data row5 col0\" >800</td>\n",
       "      <td id=\"T_de521_row5_col1\" class=\"data row5 col1\" >0</td>\n",
       "      <td id=\"T_de521_row5_col2\" class=\"data row5 col2\" >0.0%</td>\n",
       "      <td id=\"T_de521_row5_col3\" class=\"data row5 col3\" >0</td>\n",
       "      <td id=\"T_de521_row5_col4\" class=\"data row5 col4\" >0.0%</td>\n",
       "      <td id=\"T_de521_row5_col5\" class=\"data row5 col5\" >1.4</td>\n",
       "      <td id=\"T_de521_row5_col6\" class=\"data row5 col6\" >0.6</td>\n",
       "      <td id=\"T_de521_row5_col7\" class=\"data row5 col7\" >0.4</td>\n",
       "      <td id=\"T_de521_row5_col8\" class=\"data row5 col8\" >1.3</td>\n",
       "      <td id=\"T_de521_row5_col9\" class=\"data row5 col9\" >1.6</td>\n",
       "      <td id=\"T_de521_row5_col10\" class=\"data row5 col10\" >1.0</td>\n",
       "      <td id=\"T_de521_row5_col11\" class=\"data row5 col11\" >1.0</td>\n",
       "      <td id=\"T_de521_row5_col12\" class=\"data row5 col12\" >1.0</td>\n",
       "      <td id=\"T_de521_row5_col13\" class=\"data row5 col13\" >1.0</td>\n",
       "      <td id=\"T_de521_row5_col14\" class=\"data row5 col14\" >2.0</td>\n",
       "      <td id=\"T_de521_row5_col15\" class=\"data row5 col15\" >2.0</td>\n",
       "      <td id=\"T_de521_row5_col16\" class=\"data row5 col16\" >4.0</td>\n",
       "    </tr>\n",
       "    <tr>\n",
       "      <th id=\"T_de521_level0_row6\" class=\"row_heading level0 row6\" >num_dependents</th>\n",
       "      <td id=\"T_de521_row6_col0\" class=\"data row6 col0\" >800</td>\n",
       "      <td id=\"T_de521_row6_col1\" class=\"data row6 col1\" >0</td>\n",
       "      <td id=\"T_de521_row6_col2\" class=\"data row6 col2\" >0.0%</td>\n",
       "      <td id=\"T_de521_row6_col3\" class=\"data row6 col3\" >0</td>\n",
       "      <td id=\"T_de521_row6_col4\" class=\"data row6 col4\" >0.0%</td>\n",
       "      <td id=\"T_de521_row6_col5\" class=\"data row6 col5\" >1.1</td>\n",
       "      <td id=\"T_de521_row6_col6\" class=\"data row6 col6\" >0.3</td>\n",
       "      <td id=\"T_de521_row6_col7\" class=\"data row6 col7\" >0.3</td>\n",
       "      <td id=\"T_de521_row6_col8\" class=\"data row6 col8\" >2.0</td>\n",
       "      <td id=\"T_de521_row6_col9\" class=\"data row6 col9\" >2.1</td>\n",
       "      <td id=\"T_de521_row6_col10\" class=\"data row6 col10\" >1.0</td>\n",
       "      <td id=\"T_de521_row6_col11\" class=\"data row6 col11\" >1.0</td>\n",
       "      <td id=\"T_de521_row6_col12\" class=\"data row6 col12\" >1.0</td>\n",
       "      <td id=\"T_de521_row6_col13\" class=\"data row6 col13\" >1.0</td>\n",
       "      <td id=\"T_de521_row6_col14\" class=\"data row6 col14\" >1.0</td>\n",
       "      <td id=\"T_de521_row6_col15\" class=\"data row6 col15\" >2.0</td>\n",
       "      <td id=\"T_de521_row6_col16\" class=\"data row6 col16\" >2.0</td>\n",
       "    </tr>\n",
       "  </tbody>\n",
       "</table>\n"
      ],
      "text/plain": [
       "<pandas.io.formats.style.Styler at 0x7fc95127bc70>"
      ]
     },
     "execution_count": 3,
     "metadata": {},
     "output_type": "execute_result"
    }
   ],
   "source": [
    "hlp.pandas.numeric_summary(X_train, return_style=True)"
   ]
  },
  {
   "cell_type": "code",
   "execution_count": 4,
   "id": "7e08ebd1",
   "metadata": {
    "pycharm": {
     "name": "#%%\n"
    }
   },
   "outputs": [
    {
     "data": {
      "text/html": [
       "<style type=\"text/css\">\n",
       "#T_44259_row0_col1 {\n",
       "  background-color: #EBB13E;\n",
       "}\n",
       "#T_44259_row0_col2 {\n",
       "  width: 10em;\n",
       "  height: 80%;\n",
       "  background: linear-gradient(90deg,#CF3721 4.6%, transparent 4.6%);\n",
       "}\n",
       "#T_44259_row0_col5, #T_44259_row5_col5, #T_44259_row7_col5, #T_44259_row10_col5 {\n",
       "  width: 10em;\n",
       "  height: 80%;\n",
       "  background: linear-gradient(90deg,#B4B7B9 0.5%, transparent 0.5%);\n",
       "}\n",
       "#T_44259_row1_col2, #T_44259_row2_col2, #T_44259_row3_col2, #T_44259_row4_col2, #T_44259_row5_col2, #T_44259_row6_col2, #T_44259_row7_col2, #T_44259_row8_col2, #T_44259_row9_col2, #T_44259_row10_col2, #T_44259_row11_col2, #T_44259_row12_col2 {\n",
       "  width: 10em;\n",
       "  height: 80%;\n",
       "}\n",
       "#T_44259_row1_col5, #T_44259_row3_col5, #T_44259_row4_col5 {\n",
       "  width: 10em;\n",
       "  height: 80%;\n",
       "  background: linear-gradient(90deg,#B4B7B9 0.6%, transparent 0.6%);\n",
       "}\n",
       "#T_44259_row2_col5 {\n",
       "  width: 10em;\n",
       "  height: 80%;\n",
       "  background: linear-gradient(90deg,#B4B7B9 1.2%, transparent 1.2%);\n",
       "}\n",
       "#T_44259_row6_col5, #T_44259_row8_col5, #T_44259_row9_col5 {\n",
       "  width: 10em;\n",
       "  height: 80%;\n",
       "  background: linear-gradient(90deg,#B4B7B9 0.4%, transparent 0.4%);\n",
       "}\n",
       "#T_44259_row11_col5, #T_44259_row12_col5 {\n",
       "  width: 10em;\n",
       "  height: 80%;\n",
       "  background: linear-gradient(90deg,#B4B7B9 0.2%, transparent 0.2%);\n",
       "}\n",
       "</style>\n",
       "<table id=\"T_44259_\">\n",
       "  <thead>\n",
       "    <tr>\n",
       "      <th class=\"blank level0\" >&nbsp;</th>\n",
       "      <th class=\"col_heading level0 col0\" ># of Non-Nulls</th>\n",
       "      <th class=\"col_heading level0 col1\" ># of Nulls</th>\n",
       "      <th class=\"col_heading level0 col2\" >% Nulls</th>\n",
       "      <th class=\"col_heading level0 col3\" >Most Freq. Value</th>\n",
       "      <th class=\"col_heading level0 col4\" ># of Unique</th>\n",
       "      <th class=\"col_heading level0 col5\" >% Unique</th>\n",
       "    </tr>\n",
       "  </thead>\n",
       "  <tbody>\n",
       "    <tr>\n",
       "      <th id=\"T_44259_level0_row0\" class=\"row_heading level0 row0\" >checking_status</th>\n",
       "      <td id=\"T_44259_row0_col0\" class=\"data row0 col0\" >763</td>\n",
       "      <td id=\"T_44259_row0_col1\" class=\"data row0 col1\" >37</td>\n",
       "      <td id=\"T_44259_row0_col2\" class=\"data row0 col2\" >4.6%</td>\n",
       "      <td id=\"T_44259_row0_col3\" class=\"data row0 col3\" >no checking</td>\n",
       "      <td id=\"T_44259_row0_col4\" class=\"data row0 col4\" >4</td>\n",
       "      <td id=\"T_44259_row0_col5\" class=\"data row0 col5\" >0.5%</td>\n",
       "    </tr>\n",
       "    <tr>\n",
       "      <th id=\"T_44259_level0_row1\" class=\"row_heading level0 row1\" >credit_history</th>\n",
       "      <td id=\"T_44259_row1_col0\" class=\"data row1 col0\" >800</td>\n",
       "      <td id=\"T_44259_row1_col1\" class=\"data row1 col1\" >0</td>\n",
       "      <td id=\"T_44259_row1_col2\" class=\"data row1 col2\" >0.0%</td>\n",
       "      <td id=\"T_44259_row1_col3\" class=\"data row1 col3\" >existing paid</td>\n",
       "      <td id=\"T_44259_row1_col4\" class=\"data row1 col4\" >5</td>\n",
       "      <td id=\"T_44259_row1_col5\" class=\"data row1 col5\" >0.6%</td>\n",
       "    </tr>\n",
       "    <tr>\n",
       "      <th id=\"T_44259_level0_row2\" class=\"row_heading level0 row2\" >purpose</th>\n",
       "      <td id=\"T_44259_row2_col0\" class=\"data row2 col0\" >800</td>\n",
       "      <td id=\"T_44259_row2_col1\" class=\"data row2 col1\" >0</td>\n",
       "      <td id=\"T_44259_row2_col2\" class=\"data row2 col2\" >0.0%</td>\n",
       "      <td id=\"T_44259_row2_col3\" class=\"data row2 col3\" >radio/tv</td>\n",
       "      <td id=\"T_44259_row2_col4\" class=\"data row2 col4\" >10</td>\n",
       "      <td id=\"T_44259_row2_col5\" class=\"data row2 col5\" >1.2%</td>\n",
       "    </tr>\n",
       "    <tr>\n",
       "      <th id=\"T_44259_level0_row3\" class=\"row_heading level0 row3\" >savings_status</th>\n",
       "      <td id=\"T_44259_row3_col0\" class=\"data row3 col0\" >800</td>\n",
       "      <td id=\"T_44259_row3_col1\" class=\"data row3 col1\" >0</td>\n",
       "      <td id=\"T_44259_row3_col2\" class=\"data row3 col2\" >0.0%</td>\n",
       "      <td id=\"T_44259_row3_col3\" class=\"data row3 col3\" >&lt;100</td>\n",
       "      <td id=\"T_44259_row3_col4\" class=\"data row3 col4\" >5</td>\n",
       "      <td id=\"T_44259_row3_col5\" class=\"data row3 col5\" >0.6%</td>\n",
       "    </tr>\n",
       "    <tr>\n",
       "      <th id=\"T_44259_level0_row4\" class=\"row_heading level0 row4\" >employment</th>\n",
       "      <td id=\"T_44259_row4_col0\" class=\"data row4 col0\" >800</td>\n",
       "      <td id=\"T_44259_row4_col1\" class=\"data row4 col1\" >0</td>\n",
       "      <td id=\"T_44259_row4_col2\" class=\"data row4 col2\" >0.0%</td>\n",
       "      <td id=\"T_44259_row4_col3\" class=\"data row4 col3\" >1&lt;=X&lt;4</td>\n",
       "      <td id=\"T_44259_row4_col4\" class=\"data row4 col4\" >5</td>\n",
       "      <td id=\"T_44259_row4_col5\" class=\"data row4 col5\" >0.6%</td>\n",
       "    </tr>\n",
       "    <tr>\n",
       "      <th id=\"T_44259_level0_row5\" class=\"row_heading level0 row5\" >personal_status</th>\n",
       "      <td id=\"T_44259_row5_col0\" class=\"data row5 col0\" >800</td>\n",
       "      <td id=\"T_44259_row5_col1\" class=\"data row5 col1\" >0</td>\n",
       "      <td id=\"T_44259_row5_col2\" class=\"data row5 col2\" >0.0%</td>\n",
       "      <td id=\"T_44259_row5_col3\" class=\"data row5 col3\" >male single</td>\n",
       "      <td id=\"T_44259_row5_col4\" class=\"data row5 col4\" >4</td>\n",
       "      <td id=\"T_44259_row5_col5\" class=\"data row5 col5\" >0.5%</td>\n",
       "    </tr>\n",
       "    <tr>\n",
       "      <th id=\"T_44259_level0_row6\" class=\"row_heading level0 row6\" >other_parties</th>\n",
       "      <td id=\"T_44259_row6_col0\" class=\"data row6 col0\" >800</td>\n",
       "      <td id=\"T_44259_row6_col1\" class=\"data row6 col1\" >0</td>\n",
       "      <td id=\"T_44259_row6_col2\" class=\"data row6 col2\" >0.0%</td>\n",
       "      <td id=\"T_44259_row6_col3\" class=\"data row6 col3\" >none</td>\n",
       "      <td id=\"T_44259_row6_col4\" class=\"data row6 col4\" >3</td>\n",
       "      <td id=\"T_44259_row6_col5\" class=\"data row6 col5\" >0.4%</td>\n",
       "    </tr>\n",
       "    <tr>\n",
       "      <th id=\"T_44259_level0_row7\" class=\"row_heading level0 row7\" >property_magnitude</th>\n",
       "      <td id=\"T_44259_row7_col0\" class=\"data row7 col0\" >800</td>\n",
       "      <td id=\"T_44259_row7_col1\" class=\"data row7 col1\" >0</td>\n",
       "      <td id=\"T_44259_row7_col2\" class=\"data row7 col2\" >0.0%</td>\n",
       "      <td id=\"T_44259_row7_col3\" class=\"data row7 col3\" >car</td>\n",
       "      <td id=\"T_44259_row7_col4\" class=\"data row7 col4\" >4</td>\n",
       "      <td id=\"T_44259_row7_col5\" class=\"data row7 col5\" >0.5%</td>\n",
       "    </tr>\n",
       "    <tr>\n",
       "      <th id=\"T_44259_level0_row8\" class=\"row_heading level0 row8\" >other_payment_plans</th>\n",
       "      <td id=\"T_44259_row8_col0\" class=\"data row8 col0\" >800</td>\n",
       "      <td id=\"T_44259_row8_col1\" class=\"data row8 col1\" >0</td>\n",
       "      <td id=\"T_44259_row8_col2\" class=\"data row8 col2\" >0.0%</td>\n",
       "      <td id=\"T_44259_row8_col3\" class=\"data row8 col3\" >none</td>\n",
       "      <td id=\"T_44259_row8_col4\" class=\"data row8 col4\" >3</td>\n",
       "      <td id=\"T_44259_row8_col5\" class=\"data row8 col5\" >0.4%</td>\n",
       "    </tr>\n",
       "    <tr>\n",
       "      <th id=\"T_44259_level0_row9\" class=\"row_heading level0 row9\" >housing</th>\n",
       "      <td id=\"T_44259_row9_col0\" class=\"data row9 col0\" >800</td>\n",
       "      <td id=\"T_44259_row9_col1\" class=\"data row9 col1\" >0</td>\n",
       "      <td id=\"T_44259_row9_col2\" class=\"data row9 col2\" >0.0%</td>\n",
       "      <td id=\"T_44259_row9_col3\" class=\"data row9 col3\" >own</td>\n",
       "      <td id=\"T_44259_row9_col4\" class=\"data row9 col4\" >3</td>\n",
       "      <td id=\"T_44259_row9_col5\" class=\"data row9 col5\" >0.4%</td>\n",
       "    </tr>\n",
       "    <tr>\n",
       "      <th id=\"T_44259_level0_row10\" class=\"row_heading level0 row10\" >job</th>\n",
       "      <td id=\"T_44259_row10_col0\" class=\"data row10 col0\" >800</td>\n",
       "      <td id=\"T_44259_row10_col1\" class=\"data row10 col1\" >0</td>\n",
       "      <td id=\"T_44259_row10_col2\" class=\"data row10 col2\" >0.0%</td>\n",
       "      <td id=\"T_44259_row10_col3\" class=\"data row10 col3\" >skilled</td>\n",
       "      <td id=\"T_44259_row10_col4\" class=\"data row10 col4\" >4</td>\n",
       "      <td id=\"T_44259_row10_col5\" class=\"data row10 col5\" >0.5%</td>\n",
       "    </tr>\n",
       "    <tr>\n",
       "      <th id=\"T_44259_level0_row11\" class=\"row_heading level0 row11\" >own_telephone</th>\n",
       "      <td id=\"T_44259_row11_col0\" class=\"data row11 col0\" >800</td>\n",
       "      <td id=\"T_44259_row11_col1\" class=\"data row11 col1\" >0</td>\n",
       "      <td id=\"T_44259_row11_col2\" class=\"data row11 col2\" >0.0%</td>\n",
       "      <td id=\"T_44259_row11_col3\" class=\"data row11 col3\" >none</td>\n",
       "      <td id=\"T_44259_row11_col4\" class=\"data row11 col4\" >2</td>\n",
       "      <td id=\"T_44259_row11_col5\" class=\"data row11 col5\" >0.2%</td>\n",
       "    </tr>\n",
       "    <tr>\n",
       "      <th id=\"T_44259_level0_row12\" class=\"row_heading level0 row12\" >foreign_worker</th>\n",
       "      <td id=\"T_44259_row12_col0\" class=\"data row12 col0\" >800</td>\n",
       "      <td id=\"T_44259_row12_col1\" class=\"data row12 col1\" >0</td>\n",
       "      <td id=\"T_44259_row12_col2\" class=\"data row12 col2\" >0.0%</td>\n",
       "      <td id=\"T_44259_row12_col3\" class=\"data row12 col3\" >yes</td>\n",
       "      <td id=\"T_44259_row12_col4\" class=\"data row12 col4\" >2</td>\n",
       "      <td id=\"T_44259_row12_col5\" class=\"data row12 col5\" >0.2%</td>\n",
       "    </tr>\n",
       "  </tbody>\n",
       "</table>\n"
      ],
      "text/plain": [
       "<pandas.io.formats.style.Styler at 0x7fc95129d2b0>"
      ]
     },
     "execution_count": 4,
     "metadata": {},
     "output_type": "execute_result"
    }
   ],
   "source": [
    "hlp.pandas.non_numeric_summary(X_train, return_style=True)"
   ]
  },
  {
   "cell_type": "code",
   "execution_count": 5,
   "id": "86f44647",
   "metadata": {},
   "outputs": [
    {
     "data": {
      "text/plain": [
       "array([1, 1, 0, 1, 0, 1, 0, 1, 1, 0])"
      ]
     },
     "execution_count": 5,
     "metadata": {},
     "output_type": "execute_result"
    }
   ],
   "source": [
    "y_train[0:10]"
   ]
  },
  {
   "cell_type": "code",
   "execution_count": 6,
   "id": "1662bbac",
   "metadata": {},
   "outputs": [
    {
     "data": {
      "text/plain": [
       "(array([0, 1]), array([559, 241]))"
      ]
     },
     "execution_count": 6,
     "metadata": {},
     "output_type": "execute_result"
    }
   ],
   "source": [
    "np.unique(y_train, return_counts=True)"
   ]
  },
  {
   "cell_type": "code",
   "execution_count": 7,
   "id": "bc038e2c",
   "metadata": {},
   "outputs": [
    {
     "data": {
      "text/plain": [
       "array([0.69875, 0.30125])"
      ]
     },
     "execution_count": 7,
     "metadata": {},
     "output_type": "execute_result"
    }
   ],
   "source": [
    "np.unique(y_train, return_counts=True)[1] / np.sum(np.unique(y_train, return_counts=True)[1])"
   ]
  },
  {
   "cell_type": "markdown",
   "id": "259f5c13",
   "metadata": {},
   "source": [
    "# Transformation Pipeline"
   ]
  },
  {
   "cell_type": "code",
   "execution_count": 8,
   "id": "c9b24b17",
   "metadata": {},
   "outputs": [
    {
     "data": {
      "text/plain": [
       "array([[0., 2.],\n",
       "       [2., 2.],\n",
       "       [9., 1.],\n",
       "       ...,\n",
       "       [9., 3.],\n",
       "       [6., 4.],\n",
       "       [6., 2.]])"
      ]
     },
     "execution_count": 8,
     "metadata": {},
     "output_type": "execute_result"
    }
   ],
   "source": [
    "from sklearn.preprocessing import OrdinalEncoder\n",
    "OrdinalEncoder().fit_transform(X_train[['purpose', 'savings_status']])"
   ]
  },
  {
   "cell_type": "code",
   "execution_count": 9,
   "id": "742c6bf1",
   "metadata": {},
   "outputs": [
    {
     "name": "stdout",
     "output_type": "stream",
     "text": [
      "['duration', 'credit_amount', 'installment_commitment', 'residence_since', 'age', 'existing_credits', 'num_dependents']\n",
      "['checking_status', 'credit_history', 'purpose', 'savings_status', 'employment', 'personal_status', 'other_parties', 'property_magnitude', 'other_payment_plans', 'housing', 'job', 'own_telephone', 'foreign_worker']\n"
     ]
    }
   ],
   "source": [
    "numeric_columns = hlp.pandas.get_numeric_columns(X_train)\n",
    "non_numeric_columns = hlp.pandas.get_non_numeric_columns(X_train)\n",
    "print(numeric_columns)\n",
    "print(non_numeric_columns)"
   ]
  },
  {
   "cell_type": "code",
   "execution_count": null,
   "id": "d6cc0d26",
   "metadata": {},
   "outputs": [],
   "source": []
  },
  {
   "cell_type": "code",
   "execution_count": null,
   "id": "d53d32ed",
   "metadata": {},
   "outputs": [],
   "source": []
  },
  {
   "cell_type": "code",
   "execution_count": 275,
   "id": "92e15de2",
   "metadata": {},
   "outputs": [],
   "source": [
    "from sklearn.compose import ColumnTransformer\n",
    "from sklearn.dummy import DummyClassifier\n",
    "from enum import unique, Enum, auto\n",
    "\n",
    "@unique\n",
    "class ClassifierSearchSpaceModels(Enum):\n",
    "    LogisticRegression = auto()\n",
    "    XGBoost = auto()\n",
    "\n",
    "\n",
    "#`XGBoostError: XGBoost Library (libxgboost.dylib) could not be loaded on Apple Silicon (ARM)`\n",
    "#https://github.com/dmlc/xgboost/issues/6909\n",
    "#```\n",
    "#pip install --upgrade --force-reinstall xgboost --no-binary xgboost -v\n",
    "#```\n",
    "\n",
    "# need to make sure this works for a single model or multiple models\n",
    "class SklearnClassifierSearchSpace:\n",
    "    def __init__(self,\n",
    "                 # remove these and pass data and get column names directly?\n",
    "                 numeric_column_names,\n",
    "                 non_numeric_column_names,\n",
    "                 models=[\n",
    "                     ClassifierSearchSpaceModels.LogisticRegression,\n",
    "                     ClassifierSearchSpaceModels.XGBoost\n",
    "                 ],\n",
    "                 iterations = [7, 6]):\n",
    "        assert len(models) == len(iterations)\n",
    "        self._numeric_column_names = numeric_column_names\n",
    "        self._non_numeric_column_names = non_numeric_column_names\n",
    "        self._models = models\n",
    "        self._iterations = iterations\n",
    "\n",
    "    def pipeline(self):\n",
    "        numeric_pipeline = Pipeline([\n",
    "            # tune how we want to impute values\n",
    "            # e.g. whether or not we want to impute (and how) or simply remove rows with missing values\n",
    "            ('imputer', hlp.sklearn_pipeline.TransformerChooser()),\n",
    "            # tune how we want to scale values\n",
    "            # e.g. MinMax/Normalization/None\n",
    "            ('scaler', hlp.sklearn_pipeline.TransformerChooser()),\n",
    "        ])\n",
    "        non_numeric_pipeline = Pipeline([\n",
    "            # tune how we handle categoric values\n",
    "            # e.g. One Hot, Custom-OrdinalEncoder\n",
    "            ('encoder', hlp.sklearn_pipeline.TransformerChooser()),\n",
    "        ])\n",
    "        # associate numeric/non-numeric columns with cooresponding pipeline\n",
    "        transformations_pipeline = ColumnTransformer([\n",
    "            ('numeric', numeric_pipeline, self._numeric_column_names),\n",
    "            ('non_numeric', non_numeric_pipeline, self._non_numeric_column_names)\n",
    "        ])\n",
    "        # add model to create the full pipeline\n",
    "        full_pipeline = Pipeline([\n",
    "            ('prep', transformations_pipeline),\n",
    "            ('model', DummyClassifier())\n",
    "        ])\n",
    "\n",
    "        return full_pipeline\n",
    "    \n",
    "    def _build_imputers(strategies):\n",
    "        if strategies:\n",
    "            imputers = [SimpleImputer(strategy=x) if x else None for x in strategies]\n",
    "        else:\n",
    "            imputers = [None]\n",
    "\n",
    "        return imputers\n",
    "    \n",
    "    @staticmethod\n",
    "    def _search_space_logistic(solver='lbfgs',\n",
    "                               max_iter=1000,\n",
    "                               C=(1e-6, 1e+2),\n",
    "                               C_prior='log-uniform',\n",
    "                               imputer_strategies=['mean', 'median', 'most_frequent'],\n",
    "                               random_state=None):\n",
    "        from skopt.space import Real, Categorical, Integer\n",
    "\n",
    "        model = LogisticRegression(\n",
    "            solver=solver,\n",
    "            max_iter=max_iter,\n",
    "            random_state=random_state\n",
    "        )\n",
    "\n",
    "        logistic_search_space = {\n",
    "            'model': Categorical([model]),\n",
    "            'model__C': Real(C[0], C[1], prior=C_prior),\n",
    "            # these steps correspond to the pipeline built in `build_classifier_search_pipeline()`\n",
    "            'prep__numeric__imputer__transformer': Categorical(build_imputers(imputer_strategies)),\n",
    "            'prep__numeric__scaler__transformer': Categorical([\n",
    "                None,\n",
    "                MinMaxScaler(),\n",
    "                StandardScaler()\n",
    "            ]),\n",
    "            'prep__non_numeric__encoder__transformer': Categorical([\n",
    "                OneHotEncoder(),\n",
    "                hlp.sklearn_pipeline.CustomOrdinalEncoder()\n",
    "            ]),\n",
    "        }\n",
    "        return logistic_search_space\n",
    "\n",
    "    @staticmethod\n",
    "    def _search_space_xgboost(eval_metric='logloss',\n",
    "                                          use_label_encoder=False,\n",
    "                                          max_depth = (3, 10),\n",
    "                                          n_estimators = (50, 1000),\n",
    "                                          learning_rate = (0.01, 0.3),\n",
    "                                          colsample_bytree = (0.01, 1),\n",
    "                                          subsample = (0.1, 1),\n",
    "                                          imputer_strategies=None,\n",
    "                                          random_state=None):\n",
    "        from skopt.space import Real, Categorical, Integer\n",
    "        from xgboost import XGBClassifier\n",
    "\n",
    "        model = XGBClassifier(\n",
    "            eval_metric=eval_metric,\n",
    "            use_label_encoder=use_label_encoder,\n",
    "            random_state=random_state,\n",
    "        )\n",
    "        # https://towardsdatascience.com/xgboost-fine-tune-and-optimize-your-model-23d996fab663\n",
    "        # max_depth: 3–10\n",
    "        # n_estimators: 100 (lots of observations) to 1000 (few observations)\n",
    "        # learning_rate: 0.01–0.3\n",
    "        # colsample_bytree: 0.5–1\n",
    "        # subsample: 0.6–1\n",
    "        # Then, you can focus on optimizing max_depth and n_estimators.\n",
    "        #You can then play along with the learning_rate, and increase it to speed up the model without decreasing the performances. If it becomes faster without losing in performances, you can increase the number of estimators to try to increase the performances.\n",
    "        xgb_search_space = {\n",
    "            'model': Categorical([model]),\n",
    "            'model__max_depth': Integer(max_depth[0], max_depth[1]),\n",
    "            'model__n_estimators':  Integer(n_estimators[0], n_estimators[1]),\n",
    "            'model__learning_rate': Real(learning_rate[0], learning_rate[1]),\n",
    "            'model__colsample_bytree': Real(colsample_bytree[0], colsample_bytree[1]),\n",
    "            'model__subsample': Real(subsample[0], subsample[1]),\n",
    "            # these steps correspond to the pipeline built in `build_classifier_search_pipeline()`\n",
    "            'prep__numeric__imputer__transformer': Categorical(build_imputers(imputer_strategies)),\n",
    "            'prep__numeric__scaler__transformer': Categorical([None]),\n",
    "            'prep__non_numeric__encoder__transformer': Categorical([\n",
    "                OneHotEncoder(),\n",
    "                hlp.sklearn_pipeline.CustomOrdinalEncoder()\n",
    "            ]),    \n",
    "        }\n",
    "\n",
    "        return xgb_search_space\n",
    "\n",
    "    def search_spaces(self):\n",
    "        search_spaces = []\n",
    "        for model_enum, num_iterations in zip(self._models, self._iterations):\n",
    "            if model_enum == ClassifierSearchSpaceModels.LogisticRegression:\n",
    "                space = SklearnClassifierSearchSpace._search_space_logistic()\n",
    "            elif model_enum == ClassifierSearchSpaceModels.XGBoost:\n",
    "                space = SklearnClassifierSearchSpace._search_space_xgboost()\n",
    "                \n",
    "            else:\n",
    "                assert False\n",
    "                     \n",
    "            search_spaces = search_spaces + [(space, num_iterations)]\n",
    "        \n",
    "        return search_spaces\n",
    "    \n",
    "    def param_name_mappings(self):\n",
    "        pass\n",
    "\n",
    "    def __str__(self):\n",
    "        return 'asdf'"
   ]
  },
  {
   "cell_type": "code",
   "execution_count": 276,
   "id": "6cefdf50",
   "metadata": {},
   "outputs": [
    {
     "name": "stdout",
     "output_type": "stream",
     "text": [
      "asdf\n"
     ]
    }
   ],
   "source": [
    "search_space = SklearnClassifierSearchSpace(numeric_column_names=numeric_columns,\n",
    "                                            non_numeric_column_names=non_numeric_columns)\n",
    "\n",
    "print(search_space)"
   ]
  },
  {
   "cell_type": "code",
   "execution_count": 277,
   "id": "f6eb414c",
   "metadata": {},
   "outputs": [
    {
     "data": {
      "text/plain": [
       "Pipeline(steps=[('prep',\n",
       "                 ColumnTransformer(transformers=[('numeric',\n",
       "                                                  Pipeline(steps=[('imputer',\n",
       "                                                                   TransformerChooser()),\n",
       "                                                                  ('scaler',\n",
       "                                                                   TransformerChooser())]),\n",
       "                                                  ['duration', 'credit_amount',\n",
       "                                                   'installment_commitment',\n",
       "                                                   'residence_since', 'age',\n",
       "                                                   'existing_credits',\n",
       "                                                   'num_dependents']),\n",
       "                                                 ('non_numeric',\n",
       "                                                  Pipeline(steps=[('encoder',\n",
       "                                                                   TransformerChooser())]),\n",
       "                                                  ['checking_status',\n",
       "                                                   'credit_history', 'purpose',\n",
       "                                                   'savings_status',\n",
       "                                                   'employment',\n",
       "                                                   'personal_status',\n",
       "                                                   'other_parties',\n",
       "                                                   'property_magnitude',\n",
       "                                                   'other_payment_plans',\n",
       "                                                   'housing', 'job',\n",
       "                                                   'own_telephone',\n",
       "                                                   'foreign_worker'])])),\n",
       "                ('model', DummyClassifier())])"
      ]
     },
     "execution_count": 277,
     "metadata": {},
     "output_type": "execute_result"
    }
   ],
   "source": [
    "search_space.pipeline()"
   ]
  },
  {
   "cell_type": "code",
   "execution_count": 278,
   "id": "55782606",
   "metadata": {
    "scrolled": false
   },
   "outputs": [
    {
     "data": {
      "text/plain": [
       "[({'model': Categorical(categories=(LogisticRegression(max_iter=1000),), prior=None),\n",
       "   'model__C': Real(low=1e-06, high=100.0, prior='log-uniform', transform='identity'),\n",
       "   'prep__numeric__imputer__transformer': Categorical(categories=(SimpleImputer(), SimpleImputer(strategy='median'), SimpleImputer(strategy='most_frequent')), prior=None),\n",
       "   'prep__numeric__scaler__transformer': Categorical(categories=(None, MinMaxScaler(), StandardScaler()), prior=None),\n",
       "   'prep__non_numeric__encoder__transformer': Categorical(categories=(OneHotEncoder(), CustomOrdinalEncoder()), prior=None)},\n",
       "  7),\n",
       " ({'model': Categorical(categories=(XGBClassifier(base_score=None, booster=None, colsample_bylevel=None,\n",
       "                 colsample_bynode=None, colsample_bytree=None,\n",
       "                 enable_categorical=False, eval_metric='logloss', gamma=None,\n",
       "                 gpu_id=None, importance_type=None, interaction_constraints=None,\n",
       "                 learning_rate=None, max_delta_step=None, max_depth=None,\n",
       "                 min_child_weight=None, missing=nan, monotone_constraints=None,\n",
       "                 n_estimators=100, n_jobs=None, num_parallel_tree=None,\n",
       "                 predictor=None, random_state=None, reg_alpha=None,\n",
       "                 reg_lambda=None, scale_pos_weight=None, subsample=None,\n",
       "                 tree_method=None, use_label_encoder=False,\n",
       "                 validate_parameters=None, verbosity=None),), prior=None),\n",
       "   'model__max_depth': Integer(low=3, high=10, prior='uniform', transform='identity'),\n",
       "   'model__n_estimators': Integer(low=50, high=1000, prior='uniform', transform='identity'),\n",
       "   'model__learning_rate': Real(low=0.01, high=0.3, prior='uniform', transform='identity'),\n",
       "   'model__colsample_bytree': Real(low=0.01, high=1, prior='uniform', transform='identity'),\n",
       "   'model__subsample': Real(low=0.1, high=1, prior='uniform', transform='identity'),\n",
       "   'prep__numeric__imputer__transformer': Categorical(categories=(None,), prior=None),\n",
       "   'prep__numeric__scaler__transformer': Categorical(categories=(None,), prior=None),\n",
       "   'prep__non_numeric__encoder__transformer': Categorical(categories=(OneHotEncoder(), CustomOrdinalEncoder()), prior=None)},\n",
       "  6)]"
      ]
     },
     "execution_count": 278,
     "metadata": {},
     "output_type": "execute_result"
    }
   ],
   "source": [
    "search_space.search_spaces()"
   ]
  },
  {
   "cell_type": "code",
   "execution_count": 252,
   "id": "03a27f28",
   "metadata": {},
   "outputs": [
    {
     "data": {
      "text/plain": [
       "[None]"
      ]
     },
     "execution_count": 252,
     "metadata": {},
     "output_type": "execute_result"
    }
   ],
   "source": [
    "def build_imputers(strategies):\n",
    "    \n",
    "    if strategies:\n",
    "        imputers = [SimpleImputer(strategy=x) if x else None for x in strategies]\n",
    "    else:\n",
    "        imputers = [None]\n",
    "    \n",
    "    return imputers\n",
    "\n",
    "build_imputers(None)"
   ]
  },
  {
   "cell_type": "code",
   "execution_count": 166,
   "id": "07901041",
   "metadata": {},
   "outputs": [
    {
     "data": {
      "text/plain": [
       "[None,\n",
       " SimpleImputer(),\n",
       " SimpleImputer(strategy='median'),\n",
       " SimpleImputer(strategy='most_frequent')]"
      ]
     },
     "execution_count": 166,
     "metadata": {},
     "output_type": "execute_result"
    }
   ],
   "source": [
    "build_imputers([None, 'mean', 'median', 'most_frequent'])"
   ]
  },
  {
   "cell_type": "code",
   "execution_count": 167,
   "id": "85bd5349",
   "metadata": {},
   "outputs": [
    {
     "data": {
      "text/plain": [
       "[SimpleImputer(),\n",
       " SimpleImputer(strategy='median'),\n",
       " SimpleImputer(strategy='most_frequent')]"
      ]
     },
     "execution_count": 167,
     "metadata": {},
     "output_type": "execute_result"
    }
   ],
   "source": [
    "build_imputers(['mean', 'median', 'most_frequent'])"
   ]
  },
  {
   "cell_type": "code",
   "execution_count": 168,
   "id": "836ec7d4",
   "metadata": {},
   "outputs": [],
   "source": [
    "def build_classifier_search_space_logistic(solver='lbfgs',\n",
    "                                           max_iter=1000,\n",
    "                                           C=(1e-6, 1e+2),\n",
    "                                           C_prior='log-uniform',\n",
    "                                           imputer_strategies=['mean', 'median', 'most_frequent'],\n",
    "                                           random_state=None):\n",
    "    from skopt.space import Real, Categorical, Integer\n",
    "    \n",
    "    model = LogisticRegression(\n",
    "        solver=solver,\n",
    "        max_iter=max_iter,\n",
    "        random_state=random_state\n",
    "    )\n",
    "\n",
    "    logistic_search_space = {\n",
    "        'model': Categorical([model]),\n",
    "        'model__C': Real(C[0], C[1], prior=C_prior),\n",
    "        # these steps correspond to the pipeline built in `build_classifier_search_pipeline()`\n",
    "        'prep__numeric__imputer__transformer': Categorical(build_imputers(imputer_strategies)),\n",
    "        'prep__numeric__scaler__transformer': Categorical([\n",
    "            None,\n",
    "            MinMaxScaler(),\n",
    "            StandardScaler()\n",
    "        ]),\n",
    "        'prep__non_numeric__encoder__transformer': Categorical([\n",
    "            OneHotEncoder(),\n",
    "            hlp.sklearn_pipeline.CustomOrdinalEncoder()\n",
    "        ]),\n",
    "    }\n",
    "    return logistic_search_space\n",
    "\n",
    "def search_space_param_name_mapping_classifier_pipeline():\n",
    "    return {\n",
    "        'prep__non_numeric__encoder__transformer': 'encoder',\n",
    "        'prep__numeric__imputer__transformer': 'imputer',\n",
    "        'prep__numeric__scaler__transformer': 'scaler'\n",
    "    }\n",
    "\n",
    "def search_space_param_name_mapping_classifier_logistic():\n",
    "    return {\n",
    "        'model__C': 'C',\n",
    "    }\n",
    "\n",
    "def search_space_param_name_mapping_classifier_xgboost():\n",
    "    return {\n",
    "        'model__max_depth': 'max_depth',\n",
    "        'model__n_estimators': 'n_estimators',\n",
    "        'model__learning_rate': 'learning_rate',\n",
    "        'model__colsample_bytree': 'colsample_bytree',\n",
    "        'model__subsample': 'subsample',\n",
    "        'model': 'model',\n",
    "    }\n",
    "\n",
    "\n",
    "\n",
    "\n",
    "\n",
    "def build_classifier_search_space_xgboost(eval_metric='logloss',\n",
    "                                          use_label_encoder=False,\n",
    "                                          max_depth = (3, 10),\n",
    "                                          n_estimators = (50, 1000),\n",
    "                                          learning_rate = (0.01, 0.3),\n",
    "                                          colsample_bytree = (0.01, 1),\n",
    "                                          subsample = (0.1, 1),\n",
    "                                          imputer_strategies=None,\n",
    "                                          random_state=None):\n",
    "    from skopt.space import Real, Categorical, Integer\n",
    "    from xgboost import XGBClassifier\n",
    "    \n",
    "    model = XGBClassifier(\n",
    "        eval_metric=eval_metric,\n",
    "        use_label_encoder=use_label_encoder,\n",
    "        random_state=random_state,\n",
    "    )\n",
    "    # https://towardsdatascience.com/xgboost-fine-tune-and-optimize-your-model-23d996fab663\n",
    "    # max_depth: 3–10\n",
    "    # n_estimators: 100 (lots of observations) to 1000 (few observations)\n",
    "    # learning_rate: 0.01–0.3\n",
    "    # colsample_bytree: 0.5–1\n",
    "    # subsample: 0.6–1\n",
    "    # Then, you can focus on optimizing max_depth and n_estimators.\n",
    "    #You can then play along with the learning_rate, and increase it to speed up the model without decreasing the performances. If it becomes faster without losing in performances, you can increase the number of estimators to try to increase the performances.\n",
    "    \n",
    "    xgb_search_space = {\n",
    "        'model': Categorical([model]),\n",
    "        'model__max_depth': Integer(max_depth[0], max_depth[1]),\n",
    "        'model__n_estimators':  Integer(n_estimators[0], n_estimators[1]),\n",
    "        'model__learning_rate': Real(learning_rate[0], learning_rate[1]),\n",
    "        'model__colsample_bytree': Real(colsample_bytree[0], colsample_bytree[1]),\n",
    "        'model__subsample': Real(subsample[0], subsample[1]),\n",
    "        # these steps correspond to the pipeline built in `build_classifier_search_pipeline()`\n",
    "        'prep__numeric__imputer__transformer': Categorical(build_imputers(imputer_strategies)),\n",
    "        'prep__numeric__scaler__transformer': Categorical([None]),\n",
    "        'prep__non_numeric__encoder__transformer': Categorical([\n",
    "            OneHotEncoder(),\n",
    "            hlp.sklearn_pipeline.CustomOrdinalEncoder()\n",
    "        ]),    \n",
    "    }\n",
    "    \n",
    "    return xgb_search_space\n"
   ]
  },
  {
   "cell_type": "code",
   "execution_count": 169,
   "id": "2cffb41d",
   "metadata": {},
   "outputs": [
    {
     "data": {
      "text/plain": [
       "{'model': Categorical(categories=(LogisticRegression(max_iter=1000),), prior=None),\n",
       " 'model__C': Real(low=1e-06, high=100.0, prior='log-uniform', transform='identity'),\n",
       " 'prep__numeric__imputer__transformer': Categorical(categories=(SimpleImputer(), SimpleImputer(strategy='median'), SimpleImputer(strategy='most_frequent')), prior=None),\n",
       " 'prep__numeric__scaler__transformer': Categorical(categories=(None, MinMaxScaler(), StandardScaler()), prior=None),\n",
       " 'prep__non_numeric__encoder__transformer': Categorical(categories=(OneHotEncoder(), CustomOrdinalEncoder()), prior=None)}"
      ]
     },
     "execution_count": 169,
     "metadata": {},
     "output_type": "execute_result"
    }
   ],
   "source": [
    "build_classifier_search_space_logistic()"
   ]
  },
  {
   "cell_type": "code",
   "execution_count": 170,
   "id": "4aba9a80",
   "metadata": {},
   "outputs": [
    {
     "data": {
      "text/plain": [
       "{'model': Categorical(categories=(XGBClassifier(base_score=None, booster=None, colsample_bylevel=None,\n",
       "               colsample_bynode=None, colsample_bytree=None,\n",
       "               enable_categorical=False, eval_metric='logloss', gamma=None,\n",
       "               gpu_id=None, importance_type=None, interaction_constraints=None,\n",
       "               learning_rate=None, max_delta_step=None, max_depth=None,\n",
       "               min_child_weight=None, missing=nan, monotone_constraints=None,\n",
       "               n_estimators=100, n_jobs=None, num_parallel_tree=None,\n",
       "               predictor=None, random_state=None, reg_alpha=None,\n",
       "               reg_lambda=None, scale_pos_weight=None, subsample=None,\n",
       "               tree_method=None, use_label_encoder=False,\n",
       "               validate_parameters=None, verbosity=None),), prior=None),\n",
       " 'model__max_depth': Integer(low=3, high=10, prior='uniform', transform='identity'),\n",
       " 'model__n_estimators': Integer(low=50, high=1000, prior='uniform', transform='identity'),\n",
       " 'model__learning_rate': Real(low=0.01, high=0.3, prior='uniform', transform='identity'),\n",
       " 'model__colsample_bytree': Real(low=0.01, high=1, prior='uniform', transform='identity'),\n",
       " 'model__subsample': Real(low=0.1, high=1, prior='uniform', transform='identity'),\n",
       " 'prep__numeric__imputer__transformer': Categorical(categories=(None,), prior=None),\n",
       " 'prep__numeric__scaler__transformer': Categorical(categories=(None,), prior=None),\n",
       " 'prep__non_numeric__encoder__transformer': Categorical(categories=(OneHotEncoder(), CustomOrdinalEncoder()), prior=None)}"
      ]
     },
     "execution_count": 170,
     "metadata": {},
     "output_type": "execute_result"
    }
   ],
   "source": [
    "build_classifier_search_space_xgboost()"
   ]
  },
  {
   "cell_type": "markdown",
   "id": "c215d60a",
   "metadata": {},
   "source": [
    "# Model"
   ]
  },
  {
   "cell_type": "markdown",
   "id": "fad06518",
   "metadata": {},
   "source": [
    "`XGBoostError: XGBoost Library (libxgboost.dylib) could not be loaded on Apple Silicon (ARM)`\n",
    "\n",
    "https://github.com/dmlc/xgboost/issues/6909\n",
    "\n",
    "```\n",
    "pip install --upgrade --force-reinstall xgboost --no-binary xgboost -v\n",
    "```"
   ]
  },
  {
   "cell_type": "code",
   "execution_count": 110,
   "id": "3b3ddb87",
   "metadata": {},
   "outputs": [],
   "source": [
    "from xgboost import XGBClassifier\n",
    "from sklearn.linear_model import LogisticRegression"
   ]
  },
  {
   "cell_type": "markdown",
   "id": "98b5210c",
   "metadata": {},
   "source": [
    "# skopt.BayesSearchCV\n",
    "\n",
    "[https://scikit-optimize.github.io/stable/auto_examples/sklearn-gridsearchcv-replacement.html](https://scikit-optimize.github.io/stable/auto_examples/sklearn-gridsearchcv-replacement.html)"
   ]
  },
  {
   "cell_type": "code",
   "execution_count": 245,
   "id": "11541e28",
   "metadata": {
    "pycharm": {
     "name": "#%%\n"
    },
    "scrolled": true
   },
   "outputs": [
    {
     "name": "stdout",
     "output_type": "stream",
     "text": [
      "Fitting 10 folds for each of 1 candidates, totalling 10 fits\n",
      "Fitting 10 folds for each of 1 candidates, totalling 10 fits\n",
      "Fitting 10 folds for each of 1 candidates, totalling 10 fits\n",
      "Fitting 10 folds for each of 1 candidates, totalling 10 fits\n",
      "Fitting 10 folds for each of 1 candidates, totalling 10 fits\n",
      "Fitting 10 folds for each of 1 candidates, totalling 10 fits\n",
      "Fitting 10 folds for each of 1 candidates, totalling 10 fits\n",
      "Fitting 10 folds for each of 1 candidates, totalling 10 fits\n",
      "Fitting 10 folds for each of 1 candidates, totalling 10 fits\n",
      "Fitting 10 folds for each of 1 candidates, totalling 10 fits\n",
      "Fitting 10 folds for each of 1 candidates, totalling 10 fits\n",
      "Fitting 10 folds for each of 1 candidates, totalling 10 fits\n",
      "Fitting 10 folds for each of 1 candidates, totalling 10 fits\n"
     ]
    }
   ],
   "source": [
    "# pip install scikit-optimize\n",
    "from skopt import BayesSearchCV\n",
    "from skopt.space import Real, Categorical, Integer\n",
    "from sklearn.model_selection import RepeatedKFold\n",
    "\n",
    "bayes_search = BayesSearchCV(\n",
    "    estimator=search_space.pipeline(),\n",
    "    search_spaces=search_space.search_spaces(),\n",
    "    cv=RepeatedKFold(n_splits=5, n_repeats=2),  # 5 fold 2 repeat CV\n",
    "    scoring='roc_auc',\n",
    "    refit=False,  # required if passing in multiple scorers\n",
    "    return_train_score=False,\n",
    "    n_jobs=-1,\n",
    "    verbose=1,\n",
    "    random_state=42,\n",
    ")\n",
    "\n",
    "start_time = time.time()\n",
    "bayes_search.fit(X_train, y_train)\n",
    "elapsed_time = time.time() - start_time"
   ]
  },
  {
   "cell_type": "code",
   "execution_count": 253,
   "id": "b827b530",
   "metadata": {},
   "outputs": [
    {
     "name": "stdout",
     "output_type": "stream",
     "text": [
      "Elapsed time to run BayesSearchCV: 9.462 seconds; 0.2 minutes\n"
     ]
    }
   ],
   "source": [
    "print(f\"Elapsed time to run BayesSearchCV: {elapsed_time:.3f} seconds; {elapsed_time / 60:.1f} minutes\")"
   ]
  },
  {
   "cell_type": "code",
   "execution_count": 254,
   "id": "d8c71231",
   "metadata": {},
   "outputs": [
    {
     "data": {
      "text/plain": [
       "13"
      ]
     },
     "execution_count": 254,
     "metadata": {},
     "output_type": "execute_result"
    }
   ],
   "source": [
    "len(bayes_search.cv_results_['params'])"
   ]
  },
  {
   "cell_type": "code",
   "execution_count": 255,
   "id": "eea4e3fa",
   "metadata": {
    "pycharm": {
     "name": "#%%\n"
    }
   },
   "outputs": [
    {
     "name": "stdout",
     "output_type": "stream",
     "text": [
      "{'mean_fit_time': array([0.06337442, 0.08440077, 0.03295195, 0.03410697, 0.04040511,\n",
      "       0.0313798 , 0.03787649, 0.54374831, 0.81939776, 0.39988477,\n",
      "       0.46086586, 0.19971857, 0.22375185]), 'std_fit_time': array([0.01938587, 0.02150791, 0.0053874 , 0.00714931, 0.01275391,\n",
      "       0.01019581, 0.01145617, 0.08820914, 0.10021621, 0.073106  ,\n",
      "       0.06117878, 0.01963555, 0.03032959]), 'mean_score_time': array([0.01242173, 0.00629814, 0.01317093, 0.01074312, 0.00674403,\n",
      "       0.00502975, 0.00577927, 0.01492548, 0.01446817, 0.03257031,\n",
      "       0.00977757, 0.01060796, 0.01688228]), 'std_score_time': array([0.00480727, 0.00338586, 0.00428794, 0.00095994, 0.00362272,\n",
      "       0.00159773, 0.0015973 , 0.00627781, 0.00872167, 0.01393961,\n",
      "       0.0033097 , 0.00556017, 0.00653129]), 'param_model': masked_array(data=[LogisticRegression(max_iter=1000),\n",
      "                   LogisticRegression(max_iter=1000),\n",
      "                   LogisticRegression(max_iter=1000),\n",
      "                   LogisticRegression(max_iter=1000),\n",
      "                   LogisticRegression(max_iter=1000),\n",
      "                   LogisticRegression(max_iter=1000),\n",
      "                   LogisticRegression(max_iter=1000),\n",
      "                   XGBClassifier(base_score=None, booster=None, colsample_bylevel=None,\n",
      "                                 colsample_bynode=None, colsample_bytree=None,\n",
      "                                 enable_categorical=False, eval_metric='logloss', gamma=None,\n",
      "                                 gpu_id=None, importance_type=None, interaction_constraints=None,\n",
      "                                 learning_rate=None, max_delta_step=None, max_depth=None,\n",
      "                                 min_child_weight=None, missing=nan, monotone_constraints=None,\n",
      "                                 n_estimators=100, n_jobs=None, num_parallel_tree=None,\n",
      "                                 predictor=None, random_state=None, reg_alpha=None,\n",
      "                                 reg_lambda=None, scale_pos_weight=None, subsample=None,\n",
      "                                 tree_method=None, use_label_encoder=False,\n",
      "                                 validate_parameters=None, verbosity=None)                       ,\n",
      "                   XGBClassifier(base_score=None, booster=None, colsample_bylevel=None,\n",
      "                                 colsample_bynode=None, colsample_bytree=None,\n",
      "                                 enable_categorical=False, eval_metric='logloss', gamma=None,\n",
      "                                 gpu_id=None, importance_type=None, interaction_constraints=None,\n",
      "                                 learning_rate=None, max_delta_step=None, max_depth=None,\n",
      "                                 min_child_weight=None, missing=nan, monotone_constraints=None,\n",
      "                                 n_estimators=100, n_jobs=None, num_parallel_tree=None,\n",
      "                                 predictor=None, random_state=None, reg_alpha=None,\n",
      "                                 reg_lambda=None, scale_pos_weight=None, subsample=None,\n",
      "                                 tree_method=None, use_label_encoder=False,\n",
      "                                 validate_parameters=None, verbosity=None)                       ,\n",
      "                   XGBClassifier(base_score=None, booster=None, colsample_bylevel=None,\n",
      "                                 colsample_bynode=None, colsample_bytree=None,\n",
      "                                 enable_categorical=False, eval_metric='logloss', gamma=None,\n",
      "                                 gpu_id=None, importance_type=None, interaction_constraints=None,\n",
      "                                 learning_rate=None, max_delta_step=None, max_depth=None,\n",
      "                                 min_child_weight=None, missing=nan, monotone_constraints=None,\n",
      "                                 n_estimators=100, n_jobs=None, num_parallel_tree=None,\n",
      "                                 predictor=None, random_state=None, reg_alpha=None,\n",
      "                                 reg_lambda=None, scale_pos_weight=None, subsample=None,\n",
      "                                 tree_method=None, use_label_encoder=False,\n",
      "                                 validate_parameters=None, verbosity=None)                       ,\n",
      "                   XGBClassifier(base_score=None, booster=None, colsample_bylevel=None,\n",
      "                                 colsample_bynode=None, colsample_bytree=None,\n",
      "                                 enable_categorical=False, eval_metric='logloss', gamma=None,\n",
      "                                 gpu_id=None, importance_type=None, interaction_constraints=None,\n",
      "                                 learning_rate=None, max_delta_step=None, max_depth=None,\n",
      "                                 min_child_weight=None, missing=nan, monotone_constraints=None,\n",
      "                                 n_estimators=100, n_jobs=None, num_parallel_tree=None,\n",
      "                                 predictor=None, random_state=None, reg_alpha=None,\n",
      "                                 reg_lambda=None, scale_pos_weight=None, subsample=None,\n",
      "                                 tree_method=None, use_label_encoder=False,\n",
      "                                 validate_parameters=None, verbosity=None)                       ,\n",
      "                   XGBClassifier(base_score=None, booster=None, colsample_bylevel=None,\n",
      "                                 colsample_bynode=None, colsample_bytree=None,\n",
      "                                 enable_categorical=False, eval_metric='logloss', gamma=None,\n",
      "                                 gpu_id=None, importance_type=None, interaction_constraints=None,\n",
      "                                 learning_rate=None, max_delta_step=None, max_depth=None,\n",
      "                                 min_child_weight=None, missing=nan, monotone_constraints=None,\n",
      "                                 n_estimators=100, n_jobs=None, num_parallel_tree=None,\n",
      "                                 predictor=None, random_state=None, reg_alpha=None,\n",
      "                                 reg_lambda=None, scale_pos_weight=None, subsample=None,\n",
      "                                 tree_method=None, use_label_encoder=False,\n",
      "                                 validate_parameters=None, verbosity=None)                       ,\n",
      "                   XGBClassifier(base_score=None, booster=None, colsample_bylevel=None,\n",
      "                                 colsample_bynode=None, colsample_bytree=None,\n",
      "                                 enable_categorical=False, eval_metric='logloss', gamma=None,\n",
      "                                 gpu_id=None, importance_type=None, interaction_constraints=None,\n",
      "                                 learning_rate=None, max_delta_step=None, max_depth=None,\n",
      "                                 min_child_weight=None, missing=nan, monotone_constraints=None,\n",
      "                                 n_estimators=100, n_jobs=None, num_parallel_tree=None,\n",
      "                                 predictor=None, random_state=None, reg_alpha=None,\n",
      "                                 reg_lambda=None, scale_pos_weight=None, subsample=None,\n",
      "                                 tree_method=None, use_label_encoder=False,\n",
      "                                 validate_parameters=None, verbosity=None)                       ],\n",
      "             mask=[False, False, False, False, False, False, False, False,\n",
      "                   False, False, False, False, False],\n",
      "       fill_value='?',\n",
      "            dtype=object), 'param_model__C': masked_array(data=[11.655266791092009, 22.375882528244357,\n",
      "                   2.3712235042499274e-05, 0.0031932541960563612,\n",
      "                   32.730896501169475, 1.5955669452672732,\n",
      "                   22.91257035436645, --, --, --, --, --, --],\n",
      "             mask=[False, False, False, False, False, False, False,  True,\n",
      "                    True,  True,  True,  True,  True],\n",
      "       fill_value='?',\n",
      "            dtype=object), 'param_prep__non_numeric__encoder__transformer': masked_array(data=[OneHotEncoder(), OneHotEncoder(),\n",
      "                   CustomOrdinalEncoder(), CustomOrdinalEncoder(),\n",
      "                   OneHotEncoder(), OneHotEncoder(), OneHotEncoder(),\n",
      "                   OneHotEncoder(), OneHotEncoder(),\n",
      "                   CustomOrdinalEncoder(), OneHotEncoder(),\n",
      "                   OneHotEncoder(), CustomOrdinalEncoder()],\n",
      "             mask=[False, False, False, False, False, False, False, False,\n",
      "                   False, False, False, False, False],\n",
      "       fill_value='?',\n",
      "            dtype=object), 'param_prep__numeric__imputer__transformer': masked_array(data=[SimpleImputer(strategy='most_frequent'),\n",
      "                   SimpleImputer(strategy='median'),\n",
      "                   SimpleImputer(strategy='most_frequent'),\n",
      "                   SimpleImputer(strategy='median'), SimpleImputer(),\n",
      "                   SimpleImputer(strategy='most_frequent'),\n",
      "                   SimpleImputer(strategy='most_frequent'), None, None,\n",
      "                   None, None, None, None],\n",
      "             mask=[False, False, False, False, False, False, False, False,\n",
      "                   False, False, False, False, False],\n",
      "       fill_value='?',\n",
      "            dtype=object), 'param_prep__numeric__scaler__transformer': masked_array(data=[StandardScaler(), None, MinMaxScaler(),\n",
      "                   StandardScaler(), StandardScaler(), MinMaxScaler(),\n",
      "                   MinMaxScaler(), None, None, None, None, None, None],\n",
      "             mask=[False, False, False, False, False, False, False, False,\n",
      "                   False, False, False, False, False],\n",
      "       fill_value='?',\n",
      "            dtype=object), 'param_model__colsample_bytree': masked_array(data=[--, --, --, --, --, --, --, 0.7036152301751524,\n",
      "                   0.819651719467114, 0.3648967073476305,\n",
      "                   0.31418558224985205, 0.0230512052814753,\n",
      "                   0.9217719110822515],\n",
      "             mask=[ True,  True,  True,  True,  True,  True,  True, False,\n",
      "                   False, False, False, False, False],\n",
      "       fill_value='?',\n",
      "            dtype=object), 'param_model__learning_rate': masked_array(data=[--, --, --, --, --, --, --, 0.26277905925433237,\n",
      "                   0.22497199586672792, 0.15108900152803043,\n",
      "                   0.2884605513972653, 0.25653931644187433,\n",
      "                   0.07901529305069929],\n",
      "             mask=[ True,  True,  True,  True,  True,  True,  True, False,\n",
      "                   False, False, False, False, False],\n",
      "       fill_value='?',\n",
      "            dtype=object), 'param_model__max_depth': masked_array(data=[--, --, --, --, --, --, --, 6, 5, 7, 5, 6, 6],\n",
      "             mask=[ True,  True,  True,  True,  True,  True,  True, False,\n",
      "                   False, False, False, False, False],\n",
      "       fill_value='?',\n",
      "            dtype=object), 'param_model__n_estimators': masked_array(data=[--, --, --, --, --, --, --, 412, 600, 395, 517, 808,\n",
      "                   299],\n",
      "             mask=[ True,  True,  True,  True,  True,  True,  True, False,\n",
      "                   False, False, False, False, False],\n",
      "       fill_value='?',\n",
      "            dtype=object), 'param_model__subsample': masked_array(data=[--, --, --, --, --, --, --, 0.29027285854677665,\n",
      "                   0.3472433639518757, 0.7474387830916179,\n",
      "                   0.4474636817262878, 0.25659255025665173,\n",
      "                   0.18774632211884543],\n",
      "             mask=[ True,  True,  True,  True,  True,  True,  True, False,\n",
      "                   False, False, False, False, False],\n",
      "       fill_value='?',\n",
      "            dtype=object), 'params': [OrderedDict([('model', LogisticRegression(max_iter=1000)), ('model__C', 11.655266791092009), ('prep__non_numeric__encoder__transformer', OneHotEncoder()), ('prep__numeric__imputer__transformer', SimpleImputer(strategy='most_frequent')), ('prep__numeric__scaler__transformer', StandardScaler())]), OrderedDict([('model', LogisticRegression(max_iter=1000)), ('model__C', 22.375882528244357), ('prep__non_numeric__encoder__transformer', OneHotEncoder()), ('prep__numeric__imputer__transformer', SimpleImputer(strategy='median')), ('prep__numeric__scaler__transformer', None)]), OrderedDict([('model', LogisticRegression(max_iter=1000)), ('model__C', 2.3712235042499274e-05), ('prep__non_numeric__encoder__transformer', CustomOrdinalEncoder()), ('prep__numeric__imputer__transformer', SimpleImputer(strategy='most_frequent')), ('prep__numeric__scaler__transformer', MinMaxScaler())]), OrderedDict([('model', LogisticRegression(max_iter=1000)), ('model__C', 0.0031932541960563612), ('prep__non_numeric__encoder__transformer', CustomOrdinalEncoder()), ('prep__numeric__imputer__transformer', SimpleImputer(strategy='median')), ('prep__numeric__scaler__transformer', StandardScaler())]), OrderedDict([('model', LogisticRegression(max_iter=1000)), ('model__C', 32.730896501169475), ('prep__non_numeric__encoder__transformer', OneHotEncoder()), ('prep__numeric__imputer__transformer', SimpleImputer()), ('prep__numeric__scaler__transformer', StandardScaler())]), OrderedDict([('model', LogisticRegression(max_iter=1000)), ('model__C', 1.5955669452672732), ('prep__non_numeric__encoder__transformer', OneHotEncoder()), ('prep__numeric__imputer__transformer', SimpleImputer(strategy='most_frequent')), ('prep__numeric__scaler__transformer', MinMaxScaler())]), OrderedDict([('model', LogisticRegression(max_iter=1000)), ('model__C', 22.91257035436645), ('prep__non_numeric__encoder__transformer', OneHotEncoder()), ('prep__numeric__imputer__transformer', SimpleImputer(strategy='most_frequent')), ('prep__numeric__scaler__transformer', MinMaxScaler())]), OrderedDict([('model', XGBClassifier(base_score=None, booster=None, colsample_bylevel=None,\n",
      "              colsample_bynode=None, colsample_bytree=None,\n",
      "              enable_categorical=False, eval_metric='logloss', gamma=None,\n",
      "              gpu_id=None, importance_type=None, interaction_constraints=None,\n",
      "              learning_rate=None, max_delta_step=None, max_depth=None,\n",
      "              min_child_weight=None, missing=nan, monotone_constraints=None,\n",
      "              n_estimators=100, n_jobs=None, num_parallel_tree=None,\n",
      "              predictor=None, random_state=None, reg_alpha=None,\n",
      "              reg_lambda=None, scale_pos_weight=None, subsample=None,\n",
      "              tree_method=None, use_label_encoder=False,\n",
      "              validate_parameters=None, verbosity=None)), ('model__colsample_bytree', 0.7036152301751524), ('model__learning_rate', 0.26277905925433237), ('model__max_depth', 6), ('model__n_estimators', 412), ('model__subsample', 0.29027285854677665), ('prep__non_numeric__encoder__transformer', OneHotEncoder()), ('prep__numeric__imputer__transformer', None), ('prep__numeric__scaler__transformer', None)]), OrderedDict([('model', XGBClassifier(base_score=None, booster=None, colsample_bylevel=None,\n",
      "              colsample_bynode=None, colsample_bytree=None,\n",
      "              enable_categorical=False, eval_metric='logloss', gamma=None,\n",
      "              gpu_id=None, importance_type=None, interaction_constraints=None,\n",
      "              learning_rate=None, max_delta_step=None, max_depth=None,\n",
      "              min_child_weight=None, missing=nan, monotone_constraints=None,\n",
      "              n_estimators=100, n_jobs=None, num_parallel_tree=None,\n",
      "              predictor=None, random_state=None, reg_alpha=None,\n",
      "              reg_lambda=None, scale_pos_weight=None, subsample=None,\n",
      "              tree_method=None, use_label_encoder=False,\n",
      "              validate_parameters=None, verbosity=None)), ('model__colsample_bytree', 0.819651719467114), ('model__learning_rate', 0.22497199586672792), ('model__max_depth', 5), ('model__n_estimators', 600), ('model__subsample', 0.3472433639518757), ('prep__non_numeric__encoder__transformer', OneHotEncoder()), ('prep__numeric__imputer__transformer', None), ('prep__numeric__scaler__transformer', None)]), OrderedDict([('model', XGBClassifier(base_score=None, booster=None, colsample_bylevel=None,\n",
      "              colsample_bynode=None, colsample_bytree=None,\n",
      "              enable_categorical=False, eval_metric='logloss', gamma=None,\n",
      "              gpu_id=None, importance_type=None, interaction_constraints=None,\n",
      "              learning_rate=None, max_delta_step=None, max_depth=None,\n",
      "              min_child_weight=None, missing=nan, monotone_constraints=None,\n",
      "              n_estimators=100, n_jobs=None, num_parallel_tree=None,\n",
      "              predictor=None, random_state=None, reg_alpha=None,\n",
      "              reg_lambda=None, scale_pos_weight=None, subsample=None,\n",
      "              tree_method=None, use_label_encoder=False,\n",
      "              validate_parameters=None, verbosity=None)), ('model__colsample_bytree', 0.3648967073476305), ('model__learning_rate', 0.15108900152803043), ('model__max_depth', 7), ('model__n_estimators', 395), ('model__subsample', 0.7474387830916179), ('prep__non_numeric__encoder__transformer', CustomOrdinalEncoder()), ('prep__numeric__imputer__transformer', None), ('prep__numeric__scaler__transformer', None)]), OrderedDict([('model', XGBClassifier(base_score=None, booster=None, colsample_bylevel=None,\n",
      "              colsample_bynode=None, colsample_bytree=None,\n",
      "              enable_categorical=False, eval_metric='logloss', gamma=None,\n",
      "              gpu_id=None, importance_type=None, interaction_constraints=None,\n",
      "              learning_rate=None, max_delta_step=None, max_depth=None,\n",
      "              min_child_weight=None, missing=nan, monotone_constraints=None,\n",
      "              n_estimators=100, n_jobs=None, num_parallel_tree=None,\n",
      "              predictor=None, random_state=None, reg_alpha=None,\n",
      "              reg_lambda=None, scale_pos_weight=None, subsample=None,\n",
      "              tree_method=None, use_label_encoder=False,\n",
      "              validate_parameters=None, verbosity=None)), ('model__colsample_bytree', 0.31418558224985205), ('model__learning_rate', 0.2884605513972653), ('model__max_depth', 5), ('model__n_estimators', 517), ('model__subsample', 0.4474636817262878), ('prep__non_numeric__encoder__transformer', OneHotEncoder()), ('prep__numeric__imputer__transformer', None), ('prep__numeric__scaler__transformer', None)]), OrderedDict([('model', XGBClassifier(base_score=None, booster=None, colsample_bylevel=None,\n",
      "              colsample_bynode=None, colsample_bytree=None,\n",
      "              enable_categorical=False, eval_metric='logloss', gamma=None,\n",
      "              gpu_id=None, importance_type=None, interaction_constraints=None,\n",
      "              learning_rate=None, max_delta_step=None, max_depth=None,\n",
      "              min_child_weight=None, missing=nan, monotone_constraints=None,\n",
      "              n_estimators=100, n_jobs=None, num_parallel_tree=None,\n",
      "              predictor=None, random_state=None, reg_alpha=None,\n",
      "              reg_lambda=None, scale_pos_weight=None, subsample=None,\n",
      "              tree_method=None, use_label_encoder=False,\n",
      "              validate_parameters=None, verbosity=None)), ('model__colsample_bytree', 0.0230512052814753), ('model__learning_rate', 0.25653931644187433), ('model__max_depth', 6), ('model__n_estimators', 808), ('model__subsample', 0.25659255025665173), ('prep__non_numeric__encoder__transformer', OneHotEncoder()), ('prep__numeric__imputer__transformer', None), ('prep__numeric__scaler__transformer', None)]), OrderedDict([('model', XGBClassifier(base_score=None, booster=None, colsample_bylevel=None,\n",
      "              colsample_bynode=None, colsample_bytree=None,\n",
      "              enable_categorical=False, eval_metric='logloss', gamma=None,\n",
      "              gpu_id=None, importance_type=None, interaction_constraints=None,\n",
      "              learning_rate=None, max_delta_step=None, max_depth=None,\n",
      "              min_child_weight=None, missing=nan, monotone_constraints=None,\n",
      "              n_estimators=100, n_jobs=None, num_parallel_tree=None,\n",
      "              predictor=None, random_state=None, reg_alpha=None,\n",
      "              reg_lambda=None, scale_pos_weight=None, subsample=None,\n",
      "              tree_method=None, use_label_encoder=False,\n",
      "              validate_parameters=None, verbosity=None)), ('model__colsample_bytree', 0.9217719110822515), ('model__learning_rate', 0.07901529305069929), ('model__max_depth', 6), ('model__n_estimators', 299), ('model__subsample', 0.18774632211884543), ('prep__non_numeric__encoder__transformer', CustomOrdinalEncoder()), ('prep__numeric__imputer__transformer', None), ('prep__numeric__scaler__transformer', None)])], 'split0_test_score': array([0.78769231, 0.73231456, 0.767645  , 0.7696415 , 0.75909091,\n",
      "       0.74588558, 0.75373932, 0.77348899, 0.65797839, 0.68115942,\n",
      "       0.64874142, 0.73601148, 0.67981818]), 'split1_test_score': array([0.76219168, 0.7942029 , 0.64354167, 0.70822511, 0.74910577,\n",
      "       0.75411442, 0.70840787, 0.71199856, 0.7289943 , 0.76958689,\n",
      "       0.7565368 , 0.716492  , 0.69571612]), 'split2_test_score': array([0.74353599, 0.77327273, 0.68861306, 0.74118339, 0.74298625,\n",
      "       0.73826228, 0.75242462, 0.74485126, 0.66342867, 0.81064073,\n",
      "       0.68509091, 0.67889588, 0.74180912]), 'split3_test_score': array([0.70891775, 0.804     , 0.64662622, 0.73781818, 0.76067887,\n",
      "       0.75715057, 0.85971014, 0.71313767, 0.73978535, 0.69592476,\n",
      "       0.69368132, 0.73363095, 0.72208624]), 'split4_test_score': array([0.73731602, 0.718125  , 0.72585201, 0.74542334, 0.75466284,\n",
      "       0.8300054 , 0.63988095, 0.65672828, 0.76311688, 0.73497554,\n",
      "       0.71708683, 0.76631734, 0.77201352]), 'split5_test_score': array([0.72972973, 0.75166071, 0.71961758, 0.75213675, 0.7841515 ,\n",
      "       0.68127273, 0.71856815, 0.7395215 , 0.68126781, 0.77973647,\n",
      "       0.63886042, 0.68154762, 0.753125  ]), 'split6_test_score': array([0.70851702, 0.78980655, 0.72886462, 0.80797101, 0.7389372 ,\n",
      "       0.7745975 , 0.76463768, 0.71095571, 0.79017857, 0.73469388,\n",
      "       0.70251716, 0.73709091, 0.74408848]), 'split7_test_score': array([0.76311688, 0.7141495 , 0.67478261, 0.66162228, 0.70554315,\n",
      "       0.7706422 , 0.77436756, 0.66545455, 0.72021944, 0.73005409,\n",
      "       0.6879348 , 0.71813218, 0.69798531]), 'split8_test_score': array([0.8063149 , 0.72043452, 0.69881202, 0.70806425, 0.7826087 ,\n",
      "       0.81235698, 0.75101393, 0.69298701, 0.6951567 , 0.78684157,\n",
      "       0.73236364, 0.72570533, 0.753436  ]), 'split9_test_score': array([0.77391304, 0.81981982, 0.69603356, 0.72697187, 0.76345213,\n",
      "       0.77477964, 0.73184019, 0.70881007, 0.65178744, 0.72801804,\n",
      "       0.74267263, 0.77029915, 0.68273395]), 'mean_test_score': array([0.75212453, 0.76177863, 0.69903883, 0.73590577, 0.75412173,\n",
      "       0.76390673, 0.74545904, 0.71179336, 0.70919135, 0.74516314,\n",
      "       0.70054859, 0.72641228, 0.72428119]), 'std_test_score': array([0.03075972, 0.03738241, 0.03643072, 0.037224  , 0.02146611,\n",
      "       0.0386609 , 0.05275689, 0.03348522, 0.04461564, 0.03882366,\n",
      "       0.03623992, 0.0286616 , 0.03142497]), 'rank_test_score': array([ 4,  2, 13,  7,  3,  1,  5, 10, 11,  6, 12,  8,  9], dtype=int32)}\n"
     ]
    }
   ],
   "source": [
    "print(bayes_search.cv_results_)"
   ]
  },
  {
   "cell_type": "code",
   "execution_count": 256,
   "id": "5a16e6c6",
   "metadata": {},
   "outputs": [
    {
     "name": "stdout",
     "output_type": "stream",
     "text": [
      "0.7639067281356418\n"
     ]
    }
   ],
   "source": [
    "print(bayes_search.best_score_)"
   ]
  },
  {
   "cell_type": "code",
   "execution_count": 257,
   "id": "6b4ab22a",
   "metadata": {},
   "outputs": [
    {
     "name": "stdout",
     "output_type": "stream",
     "text": [
      "OrderedDict([('model', LogisticRegression(max_iter=1000)), ('model__C', 1.5955669452672732), ('prep__non_numeric__encoder__transformer', OneHotEncoder()), ('prep__numeric__imputer__transformer', SimpleImputer(strategy='most_frequent')), ('prep__numeric__scaler__transformer', MinMaxScaler())])\n"
     ]
    }
   ],
   "source": [
    "print(bayes_search.best_params_)"
   ]
  },
  {
   "cell_type": "markdown",
   "id": "1930b7e6",
   "metadata": {
    "pycharm": {
     "name": "#%% md\n"
    }
   },
   "source": [
    "# Results"
   ]
  },
  {
   "cell_type": "code",
   "execution_count": 72,
   "id": "5b8b668f",
   "metadata": {
    "pycharm": {
     "name": "#%%\n"
    }
   },
   "outputs": [],
   "source": [
    "new_param_column_names = {\n",
    "    'model__max_depth': 'max_depth',\n",
    "    'model__n_estimators': 'n_estimators',\n",
    "    'model__learning_rate': 'learning_rate',\n",
    "    'model__colsample_bytree': 'colsample_bytree',\n",
    "    'model__subsample': 'subsample',\n",
    "    'model': 'model',\n",
    "    'prep__non_numeric__encoder__transformer': 'encoder',\n",
    "    'prep__numeric__imputer__transformer': 'imputer',\n",
    "    'prep__numeric__scaler__transformer': 'scaler'\n",
    "}"
   ]
  },
  {
   "cell_type": "code",
   "execution_count": 258,
   "id": "7872e107",
   "metadata": {
    "pycharm": {
     "name": "#%%\n"
    }
   },
   "outputs": [],
   "source": [
    "results = hlp.sklearn_eval.MLExperimentResults.from_sklearn_search_cv(\n",
    "    searcher=bayes_search,                                     \n",
    "    higher_score_is_better = True,\n",
    "#    parameter_name_mappings = new_param_column_names\n",
    ")"
   ]
  },
  {
   "cell_type": "code",
   "execution_count": 259,
   "id": "a070a6d1",
   "metadata": {
    "pycharm": {
     "name": "#%%\n"
    }
   },
   "outputs": [],
   "source": [
    "results.to_yaml_file(yaml_file_name = 'Run 1 - Multi-model - BayesSearchCV.yaml')"
   ]
  },
  {
   "cell_type": "code",
   "execution_count": 260,
   "id": "a14624fd",
   "metadata": {
    "pycharm": {
     "name": "#%%\n"
    }
   },
   "outputs": [],
   "source": [
    "results = hlp.sklearn_eval.MLExperimentResults.from_yaml_file(yaml_file_name = 'Run 1 - Multi-model - BayesSearchCV.yaml')"
   ]
  },
  {
   "cell_type": "markdown",
   "id": "9a2876d0",
   "metadata": {},
   "source": [
    "## Timings"
   ]
  },
  {
   "cell_type": "code",
   "execution_count": 261,
   "id": "2447d666",
   "metadata": {},
   "outputs": [
    {
     "data": {
      "text/plain": [
       "array([0.06337442, 0.08440077, 0.03295195, 0.03410697, 0.04040511,\n",
       "       0.0313798 , 0.03787649, 0.54374831, 0.81939776, 0.39988477,\n",
       "       0.46086586, 0.19971857, 0.22375185])"
      ]
     },
     "execution_count": 261,
     "metadata": {},
     "output_type": "execute_result"
    }
   ],
   "source": [
    "results.fit_time_averages"
   ]
  },
  {
   "cell_type": "markdown",
   "id": "352a2dd8",
   "metadata": {},
   "source": [
    "## Best Scores/Params"
   ]
  },
  {
   "cell_type": "code",
   "execution_count": 262,
   "id": "31f0b98a",
   "metadata": {
    "pycharm": {
     "name": "#%%\n"
    }
   },
   "outputs": [
    {
     "data": {
      "text/plain": [
       "0.7639067281356418"
      ]
     },
     "execution_count": 262,
     "metadata": {},
     "output_type": "execute_result"
    }
   ],
   "source": [
    "results.best_primary_score"
   ]
  },
  {
   "cell_type": "code",
   "execution_count": 263,
   "id": "59c9c626",
   "metadata": {},
   "outputs": [
    {
     "data": {
      "text/plain": [
       "{'model': 'LogisticRegression(max_iter=1000)',\n",
       " 'model__C': 1.5955669452672732,\n",
       " 'prep__non_numeric__encoder__transformer': 'OneHotEncoder()',\n",
       " 'prep__numeric__imputer__transformer': \"SimpleImputer(strategy='most_frequent')\",\n",
       " 'prep__numeric__scaler__transformer': 'MinMaxScaler()'}"
      ]
     },
     "execution_count": 263,
     "metadata": {},
     "output_type": "execute_result"
    }
   ],
   "source": [
    "results.best_primary_score_params"
   ]
  },
  {
   "cell_type": "code",
   "execution_count": 264,
   "id": "5d25ab96",
   "metadata": {
    "pycharm": {
     "name": "#%%\n"
    }
   },
   "outputs": [
    {
     "data": {
      "text/html": [
       "<style type=\"text/css\">\n",
       "#T_eb423_row0_col0 {\n",
       "  width: 10em;\n",
       "  height: 80%;\n",
       "  background: linear-gradient(90deg,#1AAF54 100.0%, transparent 100.0%);\n",
       "}\n",
       "#T_eb423_row0_col1 {\n",
       "  width: 10em;\n",
       "  height: 80%;\n",
       "  background: linear-gradient(90deg,transparent 95.5%, #B4B7B9 95.5%);\n",
       "}\n",
       "#T_eb423_row0_col2 {\n",
       "  width: 10em;\n",
       "  height: 80%;\n",
       "  background: linear-gradient(90deg,#B4B7B9 100.0%, transparent 100.0%);\n",
       "}\n",
       "#T_eb423_row0_col3, #T_eb423_row0_col4, #T_eb423_row0_col5, #T_eb423_row0_col6, #T_eb423_row0_col7, #T_eb423_row1_col3, #T_eb423_row1_col4, #T_eb423_row1_col5, #T_eb423_row1_col6, #T_eb423_row1_col7, #T_eb423_row2_col3, #T_eb423_row2_col4, #T_eb423_row2_col5, #T_eb423_row2_col6, #T_eb423_row2_col7, #T_eb423_row3_col3, #T_eb423_row3_col4, #T_eb423_row3_col5, #T_eb423_row3_col6, #T_eb423_row3_col7 {\n",
       "  background-color: #7AA9CF;\n",
       "}\n",
       "#T_eb423_row0_col8, #T_eb423_row0_col9, #T_eb423_row0_col10, #T_eb423_row0_col11, #T_eb423_row0_col12, #T_eb423_row1_col8, #T_eb423_row1_col9, #T_eb423_row1_col10, #T_eb423_row1_col11, #T_eb423_row1_col12, #T_eb423_row2_col8, #T_eb423_row2_col9, #T_eb423_row2_col10, #T_eb423_row2_col11, #T_eb423_row2_col12, #T_eb423_row3_col8, #T_eb423_row3_col9, #T_eb423_row3_col10, #T_eb423_row3_col11, #T_eb423_row3_col12, #T_eb423_row4_col8, #T_eb423_row4_col9, #T_eb423_row4_col10, #T_eb423_row4_col11, #T_eb423_row4_col12, #T_eb423_row5_col4, #T_eb423_row6_col8, #T_eb423_row6_col9, #T_eb423_row6_col10, #T_eb423_row6_col11, #T_eb423_row6_col12, #T_eb423_row7_col4, #T_eb423_row8_col4, #T_eb423_row9_col4, #T_eb423_row10_col4, #T_eb423_row11_col4, #T_eb423_row12_col8, #T_eb423_row12_col9, #T_eb423_row12_col10, #T_eb423_row12_col11, #T_eb423_row12_col12 {\n",
       "  background-color: #EBB13E;\n",
       "}\n",
       "#T_eb423_row1_col0 {\n",
       "  width: 10em;\n",
       "  height: 80%;\n",
       "  background: linear-gradient(90deg,#1AAF54 96.9%, transparent 96.9%);\n",
       "}\n",
       "#T_eb423_row1_col1 {\n",
       "  width: 10em;\n",
       "  height: 80%;\n",
       "  background: linear-gradient(90deg,transparent 93.9%, #B4B7B9 93.9%);\n",
       "}\n",
       "#T_eb423_row1_col2 {\n",
       "  width: 10em;\n",
       "  height: 80%;\n",
       "  background: linear-gradient(90deg,#B4B7B9 95.5%, transparent 95.5%);\n",
       "}\n",
       "#T_eb423_row2_col0 {\n",
       "  width: 10em;\n",
       "  height: 80%;\n",
       "  background: linear-gradient(90deg,#1AAF54 84.6%, transparent 84.6%);\n",
       "}\n",
       "#T_eb423_row2_col1 {\n",
       "  width: 10em;\n",
       "  height: 80%;\n",
       "  background: linear-gradient(90deg,transparent 100.0%, #B4B7B9 100.0%);\n",
       "}\n",
       "#T_eb423_row2_col2 {\n",
       "  width: 10em;\n",
       "  height: 80%;\n",
       "  background: linear-gradient(90deg,#B4B7B9 65.7%, transparent 65.7%);\n",
       "}\n",
       "#T_eb423_row3_col0 {\n",
       "  width: 10em;\n",
       "  height: 80%;\n",
       "  background: linear-gradient(90deg,#1AAF54 81.5%, transparent 81.5%);\n",
       "}\n",
       "#T_eb423_row3_col1 {\n",
       "  width: 10em;\n",
       "  height: 80%;\n",
       "  background: linear-gradient(90deg,transparent 86.4%, #B4B7B9 86.4%);\n",
       "}\n",
       "#T_eb423_row3_col2 {\n",
       "  width: 10em;\n",
       "  height: 80%;\n",
       "  background: linear-gradient(90deg,#B4B7B9 73.1%, transparent 73.1%);\n",
       "}\n",
       "#T_eb423_row4_col0, #T_eb423_row5_col0 {\n",
       "  width: 10em;\n",
       "  height: 80%;\n",
       "  background: linear-gradient(90deg,#1AAF54 70.8%, transparent 70.8%);\n",
       "}\n",
       "#T_eb423_row4_col1 {\n",
       "  width: 10em;\n",
       "  height: 80%;\n",
       "  background: linear-gradient(90deg,transparent 53.0%, #B4B7B9 53.0%);\n",
       "}\n",
       "#T_eb423_row4_col2 {\n",
       "  width: 10em;\n",
       "  height: 80%;\n",
       "  background: linear-gradient(90deg,#B4B7B9 86.6%, transparent 86.6%);\n",
       "}\n",
       "#T_eb423_row5_col1 {\n",
       "  width: 10em;\n",
       "  height: 80%;\n",
       "  background: linear-gradient(90deg,transparent 66.7%, #B4B7B9 66.7%);\n",
       "}\n",
       "#T_eb423_row5_col2 {\n",
       "  width: 10em;\n",
       "  height: 80%;\n",
       "  background: linear-gradient(90deg,#B4B7B9 71.6%, transparent 71.6%);\n",
       "}\n",
       "#T_eb423_row6_col0 {\n",
       "  width: 10em;\n",
       "  height: 80%;\n",
       "  background: linear-gradient(90deg,#1AAF54 56.9%, transparent 56.9%);\n",
       "}\n",
       "#T_eb423_row6_col1 {\n",
       "  width: 10em;\n",
       "  height: 80%;\n",
       "  background: linear-gradient(90deg,transparent 54.5%, #B4B7B9 54.5%);\n",
       "}\n",
       "#T_eb423_row6_col2 {\n",
       "  width: 10em;\n",
       "  height: 80%;\n",
       "  background: linear-gradient(90deg,#B4B7B9 56.7%, transparent 56.7%);\n",
       "}\n",
       "#T_eb423_row7_col0 {\n",
       "  width: 10em;\n",
       "  height: 80%;\n",
       "  background: linear-gradient(90deg,#1AAF54 41.5%, transparent 41.5%);\n",
       "}\n",
       "#T_eb423_row7_col1 {\n",
       "  width: 10em;\n",
       "  height: 80%;\n",
       "  background: linear-gradient(90deg,transparent 50.0%, #B4B7B9 50.0%);\n",
       "}\n",
       "#T_eb423_row7_col2, #T_eb423_row8_col2 {\n",
       "  width: 10em;\n",
       "  height: 80%;\n",
       "  background: linear-gradient(90deg,#B4B7B9 32.8%, transparent 32.8%);\n",
       "}\n",
       "#T_eb423_row8_col0 {\n",
       "  width: 10em;\n",
       "  height: 80%;\n",
       "  background: linear-gradient(90deg,#1AAF54 38.5%, transparent 38.5%);\n",
       "}\n",
       "#T_eb423_row8_col1 {\n",
       "  width: 10em;\n",
       "  height: 80%;\n",
       "  background: linear-gradient(90deg,transparent 43.9%, #B4B7B9 43.9%);\n",
       "}\n",
       "#T_eb423_row9_col0 {\n",
       "  width: 10em;\n",
       "  height: 80%;\n",
       "  background: linear-gradient(90deg,#1AAF54 20.0%, transparent 20.0%);\n",
       "}\n",
       "#T_eb423_row9_col1 {\n",
       "  width: 10em;\n",
       "  height: 80%;\n",
       "  background: linear-gradient(90deg,transparent 22.7%, #B4B7B9 22.7%);\n",
       "}\n",
       "#T_eb423_row9_col2 {\n",
       "  width: 10em;\n",
       "  height: 80%;\n",
       "  background: linear-gradient(90deg,#B4B7B9 16.4%, transparent 16.4%);\n",
       "}\n",
       "#T_eb423_row10_col0 {\n",
       "  width: 10em;\n",
       "  height: 80%;\n",
       "  background: linear-gradient(90deg,#1AAF54 15.4%, transparent 15.4%);\n",
       "}\n",
       "#T_eb423_row10_col1 {\n",
       "  width: 10em;\n",
       "  height: 80%;\n",
       "  background: linear-gradient(90deg,transparent 6.1%, #B4B7B9 6.1%);\n",
       "}\n",
       "#T_eb423_row10_col2 {\n",
       "  width: 10em;\n",
       "  height: 80%;\n",
       "  background: linear-gradient(90deg,#B4B7B9 23.9%, transparent 23.9%);\n",
       "}\n",
       "#T_eb423_row11_col0 {\n",
       "  width: 10em;\n",
       "  height: 80%;\n",
       "  background: linear-gradient(90deg,#1AAF54 3.1%, transparent 3.1%);\n",
       "}\n",
       "#T_eb423_row11_col1 {\n",
       "  width: 10em;\n",
       "  height: 80%;\n",
       "  background: linear-gradient(90deg,transparent 3.0%, #B4B7B9 3.0%);\n",
       "}\n",
       "#T_eb423_row11_col2 {\n",
       "  width: 10em;\n",
       "  height: 80%;\n",
       "  background: linear-gradient(90deg,#B4B7B9 1.5%, transparent 1.5%);\n",
       "}\n",
       "#T_eb423_row12_col0, #T_eb423_row12_col2 {\n",
       "  width: 10em;\n",
       "  height: 80%;\n",
       "}\n",
       "#T_eb423_row12_col1 {\n",
       "  width: 10em;\n",
       "  height: 80%;\n",
       "  background: linear-gradient(90deg, #B4B7B9 100.0%, transparent 100.0%, transparent 100.0%, #B4B7B9 100.0%);\n",
       "}\n",
       "</style>\n",
       "<table id=\"T_eb423_\">\n",
       "  <thead>\n",
       "    <tr>\n",
       "      <th class=\"col_heading level0 col0\" >roc_auc Mean</th>\n",
       "      <th class=\"col_heading level0 col1\" >roc_auc 95CI.LO</th>\n",
       "      <th class=\"col_heading level0 col2\" >roc_auc 95CI.HI</th>\n",
       "      <th class=\"col_heading level0 col3\" >model</th>\n",
       "      <th class=\"col_heading level0 col4\" >model__C</th>\n",
       "      <th class=\"col_heading level0 col5\" >prep__non_numeric__encoder__transformer</th>\n",
       "      <th class=\"col_heading level0 col6\" >prep__numeric__imputer__transformer</th>\n",
       "      <th class=\"col_heading level0 col7\" >prep__numeric__scaler__transformer</th>\n",
       "      <th class=\"col_heading level0 col8\" >model__colsample_bytree</th>\n",
       "      <th class=\"col_heading level0 col9\" >model__learning_rate</th>\n",
       "      <th class=\"col_heading level0 col10\" >model__max_depth</th>\n",
       "      <th class=\"col_heading level0 col11\" >model__n_estimators</th>\n",
       "      <th class=\"col_heading level0 col12\" >model__subsample</th>\n",
       "    </tr>\n",
       "  </thead>\n",
       "  <tbody>\n",
       "    <tr>\n",
       "      <td id=\"T_eb423_row0_col0\" class=\"data row0 col0\" >0.764</td>\n",
       "      <td id=\"T_eb423_row0_col1\" class=\"data row0 col1\" >0.736</td>\n",
       "      <td id=\"T_eb423_row0_col2\" class=\"data row0 col2\" >0.792</td>\n",
       "      <td id=\"T_eb423_row0_col3\" class=\"data row0 col3\" >LogisticRegression(max_iter=1000)</td>\n",
       "      <td id=\"T_eb423_row0_col4\" class=\"data row0 col4\" >1.596</td>\n",
       "      <td id=\"T_eb423_row0_col5\" class=\"data row0 col5\" >OneHotEncoder()</td>\n",
       "      <td id=\"T_eb423_row0_col6\" class=\"data row0 col6\" >SimpleImputer(strategy='most_frequent')</td>\n",
       "      <td id=\"T_eb423_row0_col7\" class=\"data row0 col7\" >MinMaxScaler()</td>\n",
       "      <td id=\"T_eb423_row0_col8\" class=\"data row0 col8\" >&lt;NA&gt;</td>\n",
       "      <td id=\"T_eb423_row0_col9\" class=\"data row0 col9\" >&lt;NA&gt;</td>\n",
       "      <td id=\"T_eb423_row0_col10\" class=\"data row0 col10\" >&lt;NA&gt;</td>\n",
       "      <td id=\"T_eb423_row0_col11\" class=\"data row0 col11\" >&lt;NA&gt;</td>\n",
       "      <td id=\"T_eb423_row0_col12\" class=\"data row0 col12\" >&lt;NA&gt;</td>\n",
       "    </tr>\n",
       "    <tr>\n",
       "      <td id=\"T_eb423_row1_col0\" class=\"data row1 col0\" >0.762</td>\n",
       "      <td id=\"T_eb423_row1_col1\" class=\"data row1 col1\" >0.735</td>\n",
       "      <td id=\"T_eb423_row1_col2\" class=\"data row1 col2\" >0.789</td>\n",
       "      <td id=\"T_eb423_row1_col3\" class=\"data row1 col3\" >LogisticRegression(max_iter=1000)</td>\n",
       "      <td id=\"T_eb423_row1_col4\" class=\"data row1 col4\" >22.376</td>\n",
       "      <td id=\"T_eb423_row1_col5\" class=\"data row1 col5\" >OneHotEncoder()</td>\n",
       "      <td id=\"T_eb423_row1_col6\" class=\"data row1 col6\" >SimpleImputer(strategy='median')</td>\n",
       "      <td id=\"T_eb423_row1_col7\" class=\"data row1 col7\" >None</td>\n",
       "      <td id=\"T_eb423_row1_col8\" class=\"data row1 col8\" >&lt;NA&gt;</td>\n",
       "      <td id=\"T_eb423_row1_col9\" class=\"data row1 col9\" >&lt;NA&gt;</td>\n",
       "      <td id=\"T_eb423_row1_col10\" class=\"data row1 col10\" >&lt;NA&gt;</td>\n",
       "      <td id=\"T_eb423_row1_col11\" class=\"data row1 col11\" >&lt;NA&gt;</td>\n",
       "      <td id=\"T_eb423_row1_col12\" class=\"data row1 col12\" >&lt;NA&gt;</td>\n",
       "    </tr>\n",
       "    <tr>\n",
       "      <td id=\"T_eb423_row2_col0\" class=\"data row2 col0\" >0.754</td>\n",
       "      <td id=\"T_eb423_row2_col1\" class=\"data row2 col1\" >0.739</td>\n",
       "      <td id=\"T_eb423_row2_col2\" class=\"data row2 col2\" >0.769</td>\n",
       "      <td id=\"T_eb423_row2_col3\" class=\"data row2 col3\" >LogisticRegression(max_iter=1000)</td>\n",
       "      <td id=\"T_eb423_row2_col4\" class=\"data row2 col4\" >32.731</td>\n",
       "      <td id=\"T_eb423_row2_col5\" class=\"data row2 col5\" >OneHotEncoder()</td>\n",
       "      <td id=\"T_eb423_row2_col6\" class=\"data row2 col6\" >SimpleImputer()</td>\n",
       "      <td id=\"T_eb423_row2_col7\" class=\"data row2 col7\" >StandardScaler()</td>\n",
       "      <td id=\"T_eb423_row2_col8\" class=\"data row2 col8\" >&lt;NA&gt;</td>\n",
       "      <td id=\"T_eb423_row2_col9\" class=\"data row2 col9\" >&lt;NA&gt;</td>\n",
       "      <td id=\"T_eb423_row2_col10\" class=\"data row2 col10\" >&lt;NA&gt;</td>\n",
       "      <td id=\"T_eb423_row2_col11\" class=\"data row2 col11\" >&lt;NA&gt;</td>\n",
       "      <td id=\"T_eb423_row2_col12\" class=\"data row2 col12\" >&lt;NA&gt;</td>\n",
       "    </tr>\n",
       "    <tr>\n",
       "      <td id=\"T_eb423_row3_col0\" class=\"data row3 col0\" >0.752</td>\n",
       "      <td id=\"T_eb423_row3_col1\" class=\"data row3 col1\" >0.730</td>\n",
       "      <td id=\"T_eb423_row3_col2\" class=\"data row3 col2\" >0.774</td>\n",
       "      <td id=\"T_eb423_row3_col3\" class=\"data row3 col3\" >LogisticRegression(max_iter=1000)</td>\n",
       "      <td id=\"T_eb423_row3_col4\" class=\"data row3 col4\" >11.655</td>\n",
       "      <td id=\"T_eb423_row3_col5\" class=\"data row3 col5\" >OneHotEncoder()</td>\n",
       "      <td id=\"T_eb423_row3_col6\" class=\"data row3 col6\" >SimpleImputer(strategy='most_frequent')</td>\n",
       "      <td id=\"T_eb423_row3_col7\" class=\"data row3 col7\" >StandardScaler()</td>\n",
       "      <td id=\"T_eb423_row3_col8\" class=\"data row3 col8\" >&lt;NA&gt;</td>\n",
       "      <td id=\"T_eb423_row3_col9\" class=\"data row3 col9\" >&lt;NA&gt;</td>\n",
       "      <td id=\"T_eb423_row3_col10\" class=\"data row3 col10\" >&lt;NA&gt;</td>\n",
       "      <td id=\"T_eb423_row3_col11\" class=\"data row3 col11\" >&lt;NA&gt;</td>\n",
       "      <td id=\"T_eb423_row3_col12\" class=\"data row3 col12\" >&lt;NA&gt;</td>\n",
       "    </tr>\n",
       "    <tr>\n",
       "      <td id=\"T_eb423_row4_col0\" class=\"data row4 col0\" >0.745</td>\n",
       "      <td id=\"T_eb423_row4_col1\" class=\"data row4 col1\" >0.708</td>\n",
       "      <td id=\"T_eb423_row4_col2\" class=\"data row4 col2\" >0.783</td>\n",
       "      <td id=\"T_eb423_row4_col3\" class=\"data row4 col3\" >LogisticRegression(max_iter=1000)</td>\n",
       "      <td id=\"T_eb423_row4_col4\" class=\"data row4 col4\" >22.913</td>\n",
       "      <td id=\"T_eb423_row4_col5\" class=\"data row4 col5\" >OneHotEncoder()</td>\n",
       "      <td id=\"T_eb423_row4_col6\" class=\"data row4 col6\" >SimpleImputer(strategy='most_frequent')</td>\n",
       "      <td id=\"T_eb423_row4_col7\" class=\"data row4 col7\" >MinMaxScaler()</td>\n",
       "      <td id=\"T_eb423_row4_col8\" class=\"data row4 col8\" >&lt;NA&gt;</td>\n",
       "      <td id=\"T_eb423_row4_col9\" class=\"data row4 col9\" >&lt;NA&gt;</td>\n",
       "      <td id=\"T_eb423_row4_col10\" class=\"data row4 col10\" >&lt;NA&gt;</td>\n",
       "      <td id=\"T_eb423_row4_col11\" class=\"data row4 col11\" >&lt;NA&gt;</td>\n",
       "      <td id=\"T_eb423_row4_col12\" class=\"data row4 col12\" >&lt;NA&gt;</td>\n",
       "    </tr>\n",
       "    <tr>\n",
       "      <td id=\"T_eb423_row5_col0\" class=\"data row5 col0\" >0.745</td>\n",
       "      <td id=\"T_eb423_row5_col1\" class=\"data row5 col1\" >0.717</td>\n",
       "      <td id=\"T_eb423_row5_col2\" class=\"data row5 col2\" >0.773</td>\n",
       "      <td id=\"T_eb423_row5_col3\" class=\"data row5 col3\" >XGBClassifier(base_score=None, booster=None, colsample_bylevel=None,\n",
       "              colsample_bynode=None, colsample_bytree=None,\n",
       "              enable_categorical=False, eval_metric='logloss', gamma=None,\n",
       "              gpu_id=None, importance_type=None, interaction_constraints=None,\n",
       "              learning_rate=None, max_delta_step=None, max_depth=None,\n",
       "              min_child_weight=None, missing=nan, monotone_constraints=None,\n",
       "              n_estimators=100, n_jobs=None, num_parallel_tree=None,\n",
       "              predictor=None, random_state=None, reg_alpha=None,\n",
       "              reg_lambda=None, scale_pos_weight=None, subsample=None,\n",
       "              tree_method=None, use_label_encoder=False,\n",
       "              validate_parameters=None, verbosity=None)</td>\n",
       "      <td id=\"T_eb423_row5_col4\" class=\"data row5 col4\" >&lt;NA&gt;</td>\n",
       "      <td id=\"T_eb423_row5_col5\" class=\"data row5 col5\" >CustomOrdinalEncoder()</td>\n",
       "      <td id=\"T_eb423_row5_col6\" class=\"data row5 col6\" >None</td>\n",
       "      <td id=\"T_eb423_row5_col7\" class=\"data row5 col7\" >None</td>\n",
       "      <td id=\"T_eb423_row5_col8\" class=\"data row5 col8\" >0.365</td>\n",
       "      <td id=\"T_eb423_row5_col9\" class=\"data row5 col9\" >0.151</td>\n",
       "      <td id=\"T_eb423_row5_col10\" class=\"data row5 col10\" >7.000</td>\n",
       "      <td id=\"T_eb423_row5_col11\" class=\"data row5 col11\" >395.000</td>\n",
       "      <td id=\"T_eb423_row5_col12\" class=\"data row5 col12\" >0.747</td>\n",
       "    </tr>\n",
       "    <tr>\n",
       "      <td id=\"T_eb423_row6_col0\" class=\"data row6 col0\" >0.736</td>\n",
       "      <td id=\"T_eb423_row6_col1\" class=\"data row6 col1\" >0.709</td>\n",
       "      <td id=\"T_eb423_row6_col2\" class=\"data row6 col2\" >0.763</td>\n",
       "      <td id=\"T_eb423_row6_col3\" class=\"data row6 col3\" >LogisticRegression(max_iter=1000)</td>\n",
       "      <td id=\"T_eb423_row6_col4\" class=\"data row6 col4\" >0.003</td>\n",
       "      <td id=\"T_eb423_row6_col5\" class=\"data row6 col5\" >CustomOrdinalEncoder()</td>\n",
       "      <td id=\"T_eb423_row6_col6\" class=\"data row6 col6\" >SimpleImputer(strategy='median')</td>\n",
       "      <td id=\"T_eb423_row6_col7\" class=\"data row6 col7\" >StandardScaler()</td>\n",
       "      <td id=\"T_eb423_row6_col8\" class=\"data row6 col8\" >&lt;NA&gt;</td>\n",
       "      <td id=\"T_eb423_row6_col9\" class=\"data row6 col9\" >&lt;NA&gt;</td>\n",
       "      <td id=\"T_eb423_row6_col10\" class=\"data row6 col10\" >&lt;NA&gt;</td>\n",
       "      <td id=\"T_eb423_row6_col11\" class=\"data row6 col11\" >&lt;NA&gt;</td>\n",
       "      <td id=\"T_eb423_row6_col12\" class=\"data row6 col12\" >&lt;NA&gt;</td>\n",
       "    </tr>\n",
       "    <tr>\n",
       "      <td id=\"T_eb423_row7_col0\" class=\"data row7 col0\" >0.726</td>\n",
       "      <td id=\"T_eb423_row7_col1\" class=\"data row7 col1\" >0.706</td>\n",
       "      <td id=\"T_eb423_row7_col2\" class=\"data row7 col2\" >0.747</td>\n",
       "      <td id=\"T_eb423_row7_col3\" class=\"data row7 col3\" >XGBClassifier(base_score=None, booster=None, colsample_bylevel=None,\n",
       "              colsample_bynode=None, colsample_bytree=None,\n",
       "              enable_categorical=False, eval_metric='logloss', gamma=None,\n",
       "              gpu_id=None, importance_type=None, interaction_constraints=None,\n",
       "              learning_rate=None, max_delta_step=None, max_depth=None,\n",
       "              min_child_weight=None, missing=nan, monotone_constraints=None,\n",
       "              n_estimators=100, n_jobs=None, num_parallel_tree=None,\n",
       "              predictor=None, random_state=None, reg_alpha=None,\n",
       "              reg_lambda=None, scale_pos_weight=None, subsample=None,\n",
       "              tree_method=None, use_label_encoder=False,\n",
       "              validate_parameters=None, verbosity=None)</td>\n",
       "      <td id=\"T_eb423_row7_col4\" class=\"data row7 col4\" >&lt;NA&gt;</td>\n",
       "      <td id=\"T_eb423_row7_col5\" class=\"data row7 col5\" >OneHotEncoder()</td>\n",
       "      <td id=\"T_eb423_row7_col6\" class=\"data row7 col6\" >None</td>\n",
       "      <td id=\"T_eb423_row7_col7\" class=\"data row7 col7\" >None</td>\n",
       "      <td id=\"T_eb423_row7_col8\" class=\"data row7 col8\" >0.023</td>\n",
       "      <td id=\"T_eb423_row7_col9\" class=\"data row7 col9\" >0.257</td>\n",
       "      <td id=\"T_eb423_row7_col10\" class=\"data row7 col10\" >6.000</td>\n",
       "      <td id=\"T_eb423_row7_col11\" class=\"data row7 col11\" >808.000</td>\n",
       "      <td id=\"T_eb423_row7_col12\" class=\"data row7 col12\" >0.257</td>\n",
       "    </tr>\n",
       "    <tr>\n",
       "      <td id=\"T_eb423_row8_col0\" class=\"data row8 col0\" >0.724</td>\n",
       "      <td id=\"T_eb423_row8_col1\" class=\"data row8 col1\" >0.702</td>\n",
       "      <td id=\"T_eb423_row8_col2\" class=\"data row8 col2\" >0.747</td>\n",
       "      <td id=\"T_eb423_row8_col3\" class=\"data row8 col3\" >XGBClassifier(base_score=None, booster=None, colsample_bylevel=None,\n",
       "              colsample_bynode=None, colsample_bytree=None,\n",
       "              enable_categorical=False, eval_metric='logloss', gamma=None,\n",
       "              gpu_id=None, importance_type=None, interaction_constraints=None,\n",
       "              learning_rate=None, max_delta_step=None, max_depth=None,\n",
       "              min_child_weight=None, missing=nan, monotone_constraints=None,\n",
       "              n_estimators=100, n_jobs=None, num_parallel_tree=None,\n",
       "              predictor=None, random_state=None, reg_alpha=None,\n",
       "              reg_lambda=None, scale_pos_weight=None, subsample=None,\n",
       "              tree_method=None, use_label_encoder=False,\n",
       "              validate_parameters=None, verbosity=None)</td>\n",
       "      <td id=\"T_eb423_row8_col4\" class=\"data row8 col4\" >&lt;NA&gt;</td>\n",
       "      <td id=\"T_eb423_row8_col5\" class=\"data row8 col5\" >CustomOrdinalEncoder()</td>\n",
       "      <td id=\"T_eb423_row8_col6\" class=\"data row8 col6\" >None</td>\n",
       "      <td id=\"T_eb423_row8_col7\" class=\"data row8 col7\" >None</td>\n",
       "      <td id=\"T_eb423_row8_col8\" class=\"data row8 col8\" >0.922</td>\n",
       "      <td id=\"T_eb423_row8_col9\" class=\"data row8 col9\" >0.079</td>\n",
       "      <td id=\"T_eb423_row8_col10\" class=\"data row8 col10\" >6.000</td>\n",
       "      <td id=\"T_eb423_row8_col11\" class=\"data row8 col11\" >299.000</td>\n",
       "      <td id=\"T_eb423_row8_col12\" class=\"data row8 col12\" >0.188</td>\n",
       "    </tr>\n",
       "    <tr>\n",
       "      <td id=\"T_eb423_row9_col0\" class=\"data row9 col0\" >0.712</td>\n",
       "      <td id=\"T_eb423_row9_col1\" class=\"data row9 col1\" >0.688</td>\n",
       "      <td id=\"T_eb423_row9_col2\" class=\"data row9 col2\" >0.736</td>\n",
       "      <td id=\"T_eb423_row9_col3\" class=\"data row9 col3\" >XGBClassifier(base_score=None, booster=None, colsample_bylevel=None,\n",
       "              colsample_bynode=None, colsample_bytree=None,\n",
       "              enable_categorical=False, eval_metric='logloss', gamma=None,\n",
       "              gpu_id=None, importance_type=None, interaction_constraints=None,\n",
       "              learning_rate=None, max_delta_step=None, max_depth=None,\n",
       "              min_child_weight=None, missing=nan, monotone_constraints=None,\n",
       "              n_estimators=100, n_jobs=None, num_parallel_tree=None,\n",
       "              predictor=None, random_state=None, reg_alpha=None,\n",
       "              reg_lambda=None, scale_pos_weight=None, subsample=None,\n",
       "              tree_method=None, use_label_encoder=False,\n",
       "              validate_parameters=None, verbosity=None)</td>\n",
       "      <td id=\"T_eb423_row9_col4\" class=\"data row9 col4\" >&lt;NA&gt;</td>\n",
       "      <td id=\"T_eb423_row9_col5\" class=\"data row9 col5\" >OneHotEncoder()</td>\n",
       "      <td id=\"T_eb423_row9_col6\" class=\"data row9 col6\" >None</td>\n",
       "      <td id=\"T_eb423_row9_col7\" class=\"data row9 col7\" >None</td>\n",
       "      <td id=\"T_eb423_row9_col8\" class=\"data row9 col8\" >0.704</td>\n",
       "      <td id=\"T_eb423_row9_col9\" class=\"data row9 col9\" >0.263</td>\n",
       "      <td id=\"T_eb423_row9_col10\" class=\"data row9 col10\" >6.000</td>\n",
       "      <td id=\"T_eb423_row9_col11\" class=\"data row9 col11\" >412.000</td>\n",
       "      <td id=\"T_eb423_row9_col12\" class=\"data row9 col12\" >0.290</td>\n",
       "    </tr>\n",
       "    <tr>\n",
       "      <td id=\"T_eb423_row10_col0\" class=\"data row10 col0\" >0.709</td>\n",
       "      <td id=\"T_eb423_row10_col1\" class=\"data row10 col1\" >0.677</td>\n",
       "      <td id=\"T_eb423_row10_col2\" class=\"data row10 col2\" >0.741</td>\n",
       "      <td id=\"T_eb423_row10_col3\" class=\"data row10 col3\" >XGBClassifier(base_score=None, booster=None, colsample_bylevel=None,\n",
       "              colsample_bynode=None, colsample_bytree=None,\n",
       "              enable_categorical=False, eval_metric='logloss', gamma=None,\n",
       "              gpu_id=None, importance_type=None, interaction_constraints=None,\n",
       "              learning_rate=None, max_delta_step=None, max_depth=None,\n",
       "              min_child_weight=None, missing=nan, monotone_constraints=None,\n",
       "              n_estimators=100, n_jobs=None, num_parallel_tree=None,\n",
       "              predictor=None, random_state=None, reg_alpha=None,\n",
       "              reg_lambda=None, scale_pos_weight=None, subsample=None,\n",
       "              tree_method=None, use_label_encoder=False,\n",
       "              validate_parameters=None, verbosity=None)</td>\n",
       "      <td id=\"T_eb423_row10_col4\" class=\"data row10 col4\" >&lt;NA&gt;</td>\n",
       "      <td id=\"T_eb423_row10_col5\" class=\"data row10 col5\" >OneHotEncoder()</td>\n",
       "      <td id=\"T_eb423_row10_col6\" class=\"data row10 col6\" >None</td>\n",
       "      <td id=\"T_eb423_row10_col7\" class=\"data row10 col7\" >None</td>\n",
       "      <td id=\"T_eb423_row10_col8\" class=\"data row10 col8\" >0.820</td>\n",
       "      <td id=\"T_eb423_row10_col9\" class=\"data row10 col9\" >0.225</td>\n",
       "      <td id=\"T_eb423_row10_col10\" class=\"data row10 col10\" >5.000</td>\n",
       "      <td id=\"T_eb423_row10_col11\" class=\"data row10 col11\" >600.000</td>\n",
       "      <td id=\"T_eb423_row10_col12\" class=\"data row10 col12\" >0.347</td>\n",
       "    </tr>\n",
       "    <tr>\n",
       "      <td id=\"T_eb423_row11_col0\" class=\"data row11 col0\" >0.701</td>\n",
       "      <td id=\"T_eb423_row11_col1\" class=\"data row11 col1\" >0.675</td>\n",
       "      <td id=\"T_eb423_row11_col2\" class=\"data row11 col2\" >0.726</td>\n",
       "      <td id=\"T_eb423_row11_col3\" class=\"data row11 col3\" >XGBClassifier(base_score=None, booster=None, colsample_bylevel=None,\n",
       "              colsample_bynode=None, colsample_bytree=None,\n",
       "              enable_categorical=False, eval_metric='logloss', gamma=None,\n",
       "              gpu_id=None, importance_type=None, interaction_constraints=None,\n",
       "              learning_rate=None, max_delta_step=None, max_depth=None,\n",
       "              min_child_weight=None, missing=nan, monotone_constraints=None,\n",
       "              n_estimators=100, n_jobs=None, num_parallel_tree=None,\n",
       "              predictor=None, random_state=None, reg_alpha=None,\n",
       "              reg_lambda=None, scale_pos_weight=None, subsample=None,\n",
       "              tree_method=None, use_label_encoder=False,\n",
       "              validate_parameters=None, verbosity=None)</td>\n",
       "      <td id=\"T_eb423_row11_col4\" class=\"data row11 col4\" >&lt;NA&gt;</td>\n",
       "      <td id=\"T_eb423_row11_col5\" class=\"data row11 col5\" >OneHotEncoder()</td>\n",
       "      <td id=\"T_eb423_row11_col6\" class=\"data row11 col6\" >None</td>\n",
       "      <td id=\"T_eb423_row11_col7\" class=\"data row11 col7\" >None</td>\n",
       "      <td id=\"T_eb423_row11_col8\" class=\"data row11 col8\" >0.314</td>\n",
       "      <td id=\"T_eb423_row11_col9\" class=\"data row11 col9\" >0.288</td>\n",
       "      <td id=\"T_eb423_row11_col10\" class=\"data row11 col10\" >5.000</td>\n",
       "      <td id=\"T_eb423_row11_col11\" class=\"data row11 col11\" >517.000</td>\n",
       "      <td id=\"T_eb423_row11_col12\" class=\"data row11 col12\" >0.447</td>\n",
       "    </tr>\n",
       "    <tr>\n",
       "      <td id=\"T_eb423_row12_col0\" class=\"data row12 col0\" >0.699</td>\n",
       "      <td id=\"T_eb423_row12_col1\" class=\"data row12 col1\" >0.673</td>\n",
       "      <td id=\"T_eb423_row12_col2\" class=\"data row12 col2\" >0.725</td>\n",
       "      <td id=\"T_eb423_row12_col3\" class=\"data row12 col3\" >LogisticRegression(max_iter=1000)</td>\n",
       "      <td id=\"T_eb423_row12_col4\" class=\"data row12 col4\" >0.000</td>\n",
       "      <td id=\"T_eb423_row12_col5\" class=\"data row12 col5\" >CustomOrdinalEncoder()</td>\n",
       "      <td id=\"T_eb423_row12_col6\" class=\"data row12 col6\" >SimpleImputer(strategy='most_frequent')</td>\n",
       "      <td id=\"T_eb423_row12_col7\" class=\"data row12 col7\" >MinMaxScaler()</td>\n",
       "      <td id=\"T_eb423_row12_col8\" class=\"data row12 col8\" >&lt;NA&gt;</td>\n",
       "      <td id=\"T_eb423_row12_col9\" class=\"data row12 col9\" >&lt;NA&gt;</td>\n",
       "      <td id=\"T_eb423_row12_col10\" class=\"data row12 col10\" >&lt;NA&gt;</td>\n",
       "      <td id=\"T_eb423_row12_col11\" class=\"data row12 col11\" >&lt;NA&gt;</td>\n",
       "      <td id=\"T_eb423_row12_col12\" class=\"data row12 col12\" >&lt;NA&gt;</td>\n",
       "    </tr>\n",
       "  </tbody>\n",
       "</table>\n"
      ],
      "text/plain": [
       "<pandas.io.formats.style.Styler at 0x7fc9416e2880>"
      ]
     },
     "execution_count": 264,
     "metadata": {},
     "output_type": "execute_result"
    }
   ],
   "source": [
    "results.to_formatted_dataframe(num_rows=40)"
   ]
  },
  {
   "cell_type": "code",
   "execution_count": 76,
   "id": "47ce70ff",
   "metadata": {},
   "outputs": [
    {
     "data": {
      "text/plain": [
       "array([16,  7, 17, 13, 14, 15, 19, 18, 20, 12, 10,  1,  2,  3,  9, 11,  5,\n",
       "        8,  6,  4])"
      ]
     },
     "execution_count": 76,
     "metadata": {},
     "output_type": "execute_result"
    }
   ],
   "source": [
    "# gives the score rank for each index\n",
    "# e.g. array([4, 2, 1, 3)\n",
    "# the 1st iteration (i.e. set of params) was the worst\n",
    "# the 3rd iteration was the best.\n",
    "results.primary_score_trial_ranking"
   ]
  },
  {
   "cell_type": "code",
   "execution_count": 77,
   "id": "c14d60dd",
   "metadata": {},
   "outputs": [
    {
     "data": {
      "text/plain": [
       "array([11, 12, 13, 19, 16, 18,  1, 17, 14, 10, 15,  9,  3,  4,  5,  0,  2,\n",
       "        7,  6,  8])"
      ]
     },
     "execution_count": 77,
     "metadata": {},
     "output_type": "execute_result"
    }
   ],
   "source": [
    "# gives the \n",
    "# e.g. results.primary_score_iteration_ranking of array([4, 2, 1, 3)\n",
    "# would return [2, 1, 4, 0] because index 2 (i.e. 3rd iteration) was the best, so it is the first index;\n",
    "# and index 0 (i.e. first iteration) was the was\n",
    "results.primary_score_best_indexes"
   ]
  },
  {
   "cell_type": "markdown",
   "id": "59fde126",
   "metadata": {},
   "source": [
    "## BayesSearchCV Performance Over Time"
   ]
  },
  {
   "cell_type": "code",
   "execution_count": 97,
   "id": "cf6780a5",
   "metadata": {},
   "outputs": [
    {
     "data": {
      "text/plain": [
       "odict_keys(['model', 'model__colsample_bytree', 'model__learning_rate', 'model__max_depth', 'model__n_estimators', 'model__subsample', 'prep__non_numeric__encoder__transformer', 'prep__numeric__imputer__transformer', 'prep__numeric__scaler__transformer'])"
      ]
     },
     "execution_count": 97,
     "metadata": {},
     "output_type": "execute_result"
    }
   ],
   "source": [
    "bayes_search.cv_results_['params'][0].keys()"
   ]
  },
  {
   "cell_type": "code",
   "execution_count": 96,
   "id": "d8a8914d",
   "metadata": {},
   "outputs": [
    {
     "data": {
      "text/plain": [
       "odict_keys(['model', 'model__C', 'prep__non_numeric__encoder__transformer', 'prep__numeric__imputer__transformer', 'prep__numeric__scaler__transformer'])"
      ]
     },
     "execution_count": 96,
     "metadata": {},
     "output_type": "execute_result"
    }
   ],
   "source": [
    "bayes_search.cv_results_['params'][11].keys()"
   ]
  },
  {
   "cell_type": "code",
   "execution_count": null,
   "id": "d9fe8d46",
   "metadata": {},
   "outputs": [],
   "source": []
  },
  {
   "cell_type": "code",
   "execution_count": null,
   "id": "63ba515f",
   "metadata": {},
   "outputs": [],
   "source": []
  },
  {
   "cell_type": "code",
   "execution_count": null,
   "id": "63a33df8",
   "metadata": {},
   "outputs": [],
   "source": []
  },
  {
   "cell_type": "code",
   "execution_count": 82,
   "id": "cf7867fe",
   "metadata": {},
   "outputs": [
    {
     "data": {
      "text/plain": [
       "['roc_auc Mean',\n",
       " 'roc_auc 95CI.LO',\n",
       " 'roc_auc 95CI.HI',\n",
       " 'model',\n",
       " 'model__colsample_bytree',\n",
       " 'model__learning_rate',\n",
       " 'model__max_depth',\n",
       " 'model__n_estimators',\n",
       " 'model__subsample',\n",
       " 'prep__non_numeric__encoder__transformer',\n",
       " 'prep__numeric__scaler__transformer',\n",
       " 'model__C']"
      ]
     },
     "execution_count": 82,
     "metadata": {},
     "output_type": "execute_result"
    }
   ],
   "source": [
    "labeled_dataframe = results.to_dataframe(sort_by_score=False)  # leave original trial order\n",
    "columns = labeled_dataframe.columns.to_list()  # cache columns to move Iteration column to front\n",
    "columns"
   ]
  },
  {
   "cell_type": "code",
   "execution_count": 90,
   "id": "3c5b5cd5",
   "metadata": {},
   "outputs": [
    {
     "data": {
      "text/plain": [
       "['model',\n",
       " 'model__colsample_bytree',\n",
       " 'model__learning_rate',\n",
       " 'model__max_depth',\n",
       " 'model__n_estimators',\n",
       " 'model__subsample',\n",
       " 'prep__non_numeric__encoder__transformer',\n",
       " 'prep__numeric__imputer__transformer',\n",
       " 'prep__numeric__scaler__transformer']"
      ]
     },
     "execution_count": 90,
     "metadata": {},
     "output_type": "execute_result"
    }
   ],
   "source": [
    "results.parameter_names_original"
   ]
  },
  {
   "cell_type": "code",
   "execution_count": 89,
   "id": "767069f7",
   "metadata": {},
   "outputs": [
    {
     "data": {
      "text/plain": [
       "[\"model: XGBClassifier(base_score=None, booster=None, colsample_bylevel=None,\\n              colsample_bynode=None, colsample_bytree=None,\\n              enable_categorical=False, eval_metric='logloss', gamma=None,\\n              gpu_id=None, importance_type=None, interaction_constraints=None,\\n              learning_rate=None, max_delta_step=None, max_depth=None,\\n              min_child_weight=None, missing=nan, monotone_constraints=None,\\n              n_estimators=100, n_jobs=None, num_parallel_tree=None,\\n              predictor=None, random_state=42, reg_alpha=None, reg_lambda=None,\\n              scale_pos_weight=None, subsample=None, tree_method=None,\\n              use_label_encoder=False, validate_parameters=None,\\n              verbosity=None)\",\n",
       " 'model__colsample_bytree: 0.8844821246070537',\n",
       " 'model__learning_rate: 0.09798893186641074',\n",
       " 'model__max_depth: 10',\n",
       " 'model__n_estimators: 1735',\n",
       " 'model__subsample: 0.15608164675966435',\n",
       " 'prep__non_numeric__encoder__transformer: OneHotEncoder()',\n",
       " 'prep__numeric__imputer__transformer: SimpleImputer()',\n",
       " 'prep__numeric__scaler__transformer: MinMaxScaler()']"
      ]
     },
     "execution_count": 89,
     "metadata": {},
     "output_type": "execute_result"
    }
   ],
   "source": [
    "def create_hyper_param_labels(trial) -> list:\n",
    "    \"\"\"Creates a list of strings that represent the name/value pair for each hyper-parameter.\"\"\"\n",
    "    return [f\"{results.parameter_names_mapping[x] if results.parameter_names_mapping and x in results.parameter_names_mapping else x}: {trial[x]}\"  # pylint: disable=line-too-long  # noqa\n",
    "            for x in results.parameter_names_original]\n",
    "\n",
    "def create_trial_label(trial) -> str:\n",
    "        return f\"{{{hstring.collapse(create_hyper_param_labels(trial), separate=', ')}}}\"\n",
    "\n",
    "create_hyper_param_labels(results.parameter_trials[0])"
   ]
  },
  {
   "cell_type": "code",
   "execution_count": null,
   "id": "ba1ff983",
   "metadata": {},
   "outputs": [],
   "source": []
  },
  {
   "cell_type": "code",
   "execution_count": null,
   "id": "393a8ab4",
   "metadata": {},
   "outputs": [],
   "source": []
  },
  {
   "cell_type": "code",
   "execution_count": 84,
   "id": "8af48959",
   "metadata": {},
   "outputs": [
    {
     "data": {
      "text/plain": [
       "{'model': \"XGBClassifier(base_score=None, booster=None, colsample_bylevel=None,\\n              colsample_bynode=None, colsample_bytree=None,\\n              enable_categorical=False, eval_metric='logloss', gamma=None,\\n              gpu_id=None, importance_type=None, interaction_constraints=None,\\n              learning_rate=None, max_delta_step=None, max_depth=None,\\n              min_child_weight=None, missing=nan, monotone_constraints=None,\\n              n_estimators=100, n_jobs=None, num_parallel_tree=None,\\n              predictor=None, random_state=42, reg_alpha=None, reg_lambda=None,\\n              scale_pos_weight=None, subsample=None, tree_method=None,\\n              use_label_encoder=False, validate_parameters=None,\\n              verbosity=None)\",\n",
       " 'model__colsample_bytree': 0.8844821246070537,\n",
       " 'model__learning_rate': 0.09798893186641074,\n",
       " 'model__max_depth': 10,\n",
       " 'model__n_estimators': 1735,\n",
       " 'model__subsample': 0.15608164675966435,\n",
       " 'prep__non_numeric__encoder__transformer': 'OneHotEncoder()',\n",
       " 'prep__numeric__imputer__transformer': 'SimpleImputer()',\n",
       " 'prep__numeric__scaler__transformer': 'MinMaxScaler()'}"
      ]
     },
     "execution_count": 84,
     "metadata": {},
     "output_type": "execute_result"
    }
   ],
   "source": [
    "results.parameter_trials[0]"
   ]
  },
  {
   "cell_type": "code",
   "execution_count": null,
   "id": "4ea19ad1",
   "metadata": {},
   "outputs": [],
   "source": [
    "[x.replace('{', '<br>').replace(', ', '<br>').replace('}', '')\n",
    "                              for x in results.trial_labels(order_from_best_to_worst=False)]"
   ]
  },
  {
   "cell_type": "code",
   "execution_count": 79,
   "id": "54bbc092",
   "metadata": {},
   "outputs": [
    {
     "ename": "KeyError",
     "evalue": "'model__colsample_bytree'",
     "output_type": "error",
     "traceback": [
      "\u001b[0;31m---------------------------------------------------------------------------\u001b[0m",
      "\u001b[0;31mKeyError\u001b[0m                                  Traceback (most recent call last)",
      "\u001b[0;32m/var/folders/7x/wc3jx_91337bggbzk01kpvs40000gn/T/ipykernel_1329/1490479209.py\u001b[0m in \u001b[0;36m<module>\u001b[0;34m\u001b[0m\n\u001b[0;32m----> 1\u001b[0;31m \u001b[0mresults\u001b[0m\u001b[0;34m.\u001b[0m\u001b[0mto_labeled_dataframe\u001b[0m\u001b[0;34m(\u001b[0m\u001b[0;34m)\u001b[0m\u001b[0;34m\u001b[0m\u001b[0;34m\u001b[0m\u001b[0m\n\u001b[0m",
      "\u001b[0;32m~/repos/python-helpers/helpsk/sklearn_eval.py\u001b[0m in \u001b[0;36mto_labeled_dataframe\u001b[0;34m(self)\u001b[0m\n\u001b[1;32m    578\u001b[0m             \u001b[0;31m# create the labels that will be used in the plotly hover text\u001b[0m\u001b[0;34m\u001b[0m\u001b[0;34m\u001b[0m\u001b[0;34m\u001b[0m\u001b[0m\n\u001b[1;32m    579\u001b[0m             labeled_dataframe['label'] = [x.replace('{', '<br>').replace(', ', '<br>').replace('}', '')\n\u001b[0;32m--> 580\u001b[0;31m                                           for x in self.trial_labels(order_from_best_to_worst=False)]\n\u001b[0m\u001b[1;32m    581\u001b[0m \u001b[0;34m\u001b[0m\u001b[0m\n\u001b[1;32m    582\u001b[0m             \u001b[0mself\u001b[0m\u001b[0;34m.\u001b[0m\u001b[0m_labeled_dataframe\u001b[0m \u001b[0;34m=\u001b[0m \u001b[0mlabeled_dataframe\u001b[0m\u001b[0;34m\u001b[0m\u001b[0;34m\u001b[0m\u001b[0m\n",
      "\u001b[0;32m~/repos/python-helpers/helpsk/sklearn_eval.py\u001b[0m in \u001b[0;36mtrial_labels\u001b[0;34m(self, order_from_best_to_worst)\u001b[0m\n\u001b[1;32m    686\u001b[0m         \u001b[0;31m# create_trial_label(trial=self.parameter_trials[0])\u001b[0m\u001b[0;34m\u001b[0m\u001b[0;34m\u001b[0m\u001b[0;34m\u001b[0m\u001b[0m\n\u001b[1;32m    687\u001b[0m \u001b[0;34m\u001b[0m\u001b[0m\n\u001b[0;32m--> 688\u001b[0;31m         \u001b[0mlabels\u001b[0m \u001b[0;34m=\u001b[0m \u001b[0;34m[\u001b[0m\u001b[0mcreate_trial_label\u001b[0m\u001b[0;34m(\u001b[0m\u001b[0mx\u001b[0m\u001b[0;34m)\u001b[0m \u001b[0;32mfor\u001b[0m \u001b[0mx\u001b[0m \u001b[0;32min\u001b[0m \u001b[0mself\u001b[0m\u001b[0;34m.\u001b[0m\u001b[0mparameter_trials\u001b[0m\u001b[0;34m]\u001b[0m\u001b[0;34m\u001b[0m\u001b[0;34m\u001b[0m\u001b[0m\n\u001b[0m\u001b[1;32m    689\u001b[0m \u001b[0;34m\u001b[0m\u001b[0m\n\u001b[1;32m    690\u001b[0m         \u001b[0;32mif\u001b[0m \u001b[0morder_from_best_to_worst\u001b[0m\u001b[0;34m:\u001b[0m\u001b[0;34m\u001b[0m\u001b[0;34m\u001b[0m\u001b[0m\n",
      "\u001b[0;32m~/repos/python-helpers/helpsk/sklearn_eval.py\u001b[0m in \u001b[0;36m<listcomp>\u001b[0;34m(.0)\u001b[0m\n\u001b[1;32m    686\u001b[0m         \u001b[0;31m# create_trial_label(trial=self.parameter_trials[0])\u001b[0m\u001b[0;34m\u001b[0m\u001b[0;34m\u001b[0m\u001b[0;34m\u001b[0m\u001b[0m\n\u001b[1;32m    687\u001b[0m \u001b[0;34m\u001b[0m\u001b[0m\n\u001b[0;32m--> 688\u001b[0;31m         \u001b[0mlabels\u001b[0m \u001b[0;34m=\u001b[0m \u001b[0;34m[\u001b[0m\u001b[0mcreate_trial_label\u001b[0m\u001b[0;34m(\u001b[0m\u001b[0mx\u001b[0m\u001b[0;34m)\u001b[0m \u001b[0;32mfor\u001b[0m \u001b[0mx\u001b[0m \u001b[0;32min\u001b[0m \u001b[0mself\u001b[0m\u001b[0;34m.\u001b[0m\u001b[0mparameter_trials\u001b[0m\u001b[0;34m]\u001b[0m\u001b[0;34m\u001b[0m\u001b[0;34m\u001b[0m\u001b[0m\n\u001b[0m\u001b[1;32m    689\u001b[0m \u001b[0;34m\u001b[0m\u001b[0m\n\u001b[1;32m    690\u001b[0m         \u001b[0;32mif\u001b[0m \u001b[0morder_from_best_to_worst\u001b[0m\u001b[0;34m:\u001b[0m\u001b[0;34m\u001b[0m\u001b[0;34m\u001b[0m\u001b[0m\n",
      "\u001b[0;32m~/repos/python-helpers/helpsk/sklearn_eval.py\u001b[0m in \u001b[0;36mcreate_trial_label\u001b[0;34m(trial)\u001b[0m\n\u001b[1;32m    683\u001b[0m \u001b[0;34m\u001b[0m\u001b[0m\n\u001b[1;32m    684\u001b[0m         \u001b[0;32mdef\u001b[0m \u001b[0mcreate_trial_label\u001b[0m\u001b[0;34m(\u001b[0m\u001b[0mtrial\u001b[0m\u001b[0;34m)\u001b[0m \u001b[0;34m->\u001b[0m \u001b[0mstr\u001b[0m\u001b[0;34m:\u001b[0m\u001b[0;34m\u001b[0m\u001b[0;34m\u001b[0m\u001b[0m\n\u001b[0;32m--> 685\u001b[0;31m             \u001b[0;32mreturn\u001b[0m \u001b[0;34mf\"{{{hstring.collapse(create_hyper_param_labels(trial), separate=', ')}}}\"\u001b[0m\u001b[0;34m\u001b[0m\u001b[0;34m\u001b[0m\u001b[0m\n\u001b[0m\u001b[1;32m    686\u001b[0m         \u001b[0;31m# create_trial_label(trial=self.parameter_trials[0])\u001b[0m\u001b[0;34m\u001b[0m\u001b[0;34m\u001b[0m\u001b[0;34m\u001b[0m\u001b[0m\n\u001b[1;32m    687\u001b[0m \u001b[0;34m\u001b[0m\u001b[0m\n",
      "\u001b[0;32m~/repos/python-helpers/helpsk/sklearn_eval.py\u001b[0m in \u001b[0;36mcreate_hyper_param_labels\u001b[0;34m(trial)\u001b[0m\n\u001b[1;32m    678\u001b[0m         \u001b[0;32mdef\u001b[0m \u001b[0mcreate_hyper_param_labels\u001b[0m\u001b[0;34m(\u001b[0m\u001b[0mtrial\u001b[0m\u001b[0;34m)\u001b[0m \u001b[0;34m->\u001b[0m \u001b[0mlist\u001b[0m\u001b[0;34m:\u001b[0m\u001b[0;34m\u001b[0m\u001b[0;34m\u001b[0m\u001b[0m\n\u001b[1;32m    679\u001b[0m             \u001b[0;34m\"\"\"Creates a list of strings that represent the name/value pair for each hyper-parameter.\"\"\"\u001b[0m\u001b[0;34m\u001b[0m\u001b[0;34m\u001b[0m\u001b[0m\n\u001b[0;32m--> 680\u001b[0;31m             return [f\"{self.parameter_names_mapping[x] if self.parameter_names_mapping and x in self.parameter_names_mapping else x}: {trial[x]}\"  # pylint: disable=line-too-long  # noqa\n\u001b[0m\u001b[1;32m    681\u001b[0m                     for x in self.parameter_names_original]\n\u001b[1;32m    682\u001b[0m         \u001b[0;31m# create_hyper_param_labels(trial=self.parameter_trials[0])\u001b[0m\u001b[0;34m\u001b[0m\u001b[0;34m\u001b[0m\u001b[0;34m\u001b[0m\u001b[0m\n",
      "\u001b[0;32m~/repos/python-helpers/helpsk/sklearn_eval.py\u001b[0m in \u001b[0;36m<listcomp>\u001b[0;34m(.0)\u001b[0m\n\u001b[1;32m    678\u001b[0m         \u001b[0;32mdef\u001b[0m \u001b[0mcreate_hyper_param_labels\u001b[0m\u001b[0;34m(\u001b[0m\u001b[0mtrial\u001b[0m\u001b[0;34m)\u001b[0m \u001b[0;34m->\u001b[0m \u001b[0mlist\u001b[0m\u001b[0;34m:\u001b[0m\u001b[0;34m\u001b[0m\u001b[0;34m\u001b[0m\u001b[0m\n\u001b[1;32m    679\u001b[0m             \u001b[0;34m\"\"\"Creates a list of strings that represent the name/value pair for each hyper-parameter.\"\"\"\u001b[0m\u001b[0;34m\u001b[0m\u001b[0;34m\u001b[0m\u001b[0m\n\u001b[0;32m--> 680\u001b[0;31m             return [f\"{self.parameter_names_mapping[x] if self.parameter_names_mapping and x in self.parameter_names_mapping else x}: {trial[x]}\"  # pylint: disable=line-too-long  # noqa\n\u001b[0m\u001b[1;32m    681\u001b[0m                     for x in self.parameter_names_original]\n\u001b[1;32m    682\u001b[0m         \u001b[0;31m# create_hyper_param_labels(trial=self.parameter_trials[0])\u001b[0m\u001b[0;34m\u001b[0m\u001b[0;34m\u001b[0m\u001b[0;34m\u001b[0m\u001b[0m\n",
      "\u001b[0;31mKeyError\u001b[0m: 'model__colsample_bytree'"
     ]
    }
   ],
   "source": [
    "labeled_dataframe = self.to_dataframe(sort_by_score=False)  # leave original trial order\n",
    "columns = labeled_dataframe.columns.to_list()  # cache columns to move Iteration column to front\n",
    "labeled_dataframe['Trial Index'] = np.arange(1, self.number_of_trials + 1)\n",
    "labeled_dataframe = labeled_dataframe[['Trial Index'] + columns]\n",
    "# create the labels that will be used in the plotly hover text\n",
    "labeled_dataframe['label'] = [x.replace('{', '<br>').replace(', ', '<br>').replace('}', '')\n",
    "                              for x in self.trial_labels(order_from_best_to_worst=False)]"
   ]
  },
  {
   "cell_type": "code",
   "execution_count": null,
   "id": "56039e70",
   "metadata": {},
   "outputs": [],
   "source": []
  },
  {
   "cell_type": "code",
   "execution_count": 78,
   "id": "69d93214",
   "metadata": {},
   "outputs": [
    {
     "ename": "KeyError",
     "evalue": "'model__colsample_bytree'",
     "output_type": "error",
     "traceback": [
      "\u001b[0;31m---------------------------------------------------------------------------\u001b[0m",
      "\u001b[0;31mKeyError\u001b[0m                                  Traceback (most recent call last)",
      "\u001b[0;32m/var/folders/7x/wc3jx_91337bggbzk01kpvs40000gn/T/ipykernel_1329/1487604124.py\u001b[0m in \u001b[0;36m<module>\u001b[0;34m\u001b[0m\n\u001b[0;32m----> 1\u001b[0;31m \u001b[0mresults\u001b[0m\u001b[0;34m.\u001b[0m\u001b[0mplot_performance_across_trials\u001b[0m\u001b[0;34m(\u001b[0m\u001b[0;34m)\u001b[0m\u001b[0;34m.\u001b[0m\u001b[0mshow\u001b[0m\u001b[0;34m(\u001b[0m\u001b[0;34m)\u001b[0m\u001b[0;34m\u001b[0m\u001b[0;34m\u001b[0m\u001b[0m\n\u001b[0m",
      "\u001b[0;32m~/repos/python-helpers/helpsk/sklearn_eval.py\u001b[0m in \u001b[0;36mplot_performance_across_trials\u001b[0;34m(self, size, color, color_continuous_scale, height, width)\u001b[0m\n\u001b[1;32m    927\u001b[0m \u001b[0;34m\u001b[0m\u001b[0m\n\u001b[1;32m    928\u001b[0m         fig = px.scatter(\n\u001b[0;32m--> 929\u001b[0;31m             \u001b[0mdata_frame\u001b[0m\u001b[0;34m=\u001b[0m\u001b[0mself\u001b[0m\u001b[0;34m.\u001b[0m\u001b[0mto_labeled_dataframe\u001b[0m\u001b[0;34m(\u001b[0m\u001b[0;34m)\u001b[0m\u001b[0;34m,\u001b[0m\u001b[0;34m\u001b[0m\u001b[0;34m\u001b[0m\u001b[0m\n\u001b[0m\u001b[1;32m    930\u001b[0m             \u001b[0mx\u001b[0m\u001b[0;34m=\u001b[0m\u001b[0;34m'Trial Index'\u001b[0m\u001b[0;34m,\u001b[0m\u001b[0;34m\u001b[0m\u001b[0;34m\u001b[0m\u001b[0m\n\u001b[1;32m    931\u001b[0m             \u001b[0my\u001b[0m\u001b[0;34m=\u001b[0m\u001b[0mscore_column\u001b[0m\u001b[0;34m,\u001b[0m\u001b[0;34m\u001b[0m\u001b[0;34m\u001b[0m\u001b[0m\n",
      "\u001b[0;32m~/repos/python-helpers/helpsk/sklearn_eval.py\u001b[0m in \u001b[0;36mto_labeled_dataframe\u001b[0;34m(self)\u001b[0m\n\u001b[1;32m    578\u001b[0m             \u001b[0;31m# create the labels that will be used in the plotly hover text\u001b[0m\u001b[0;34m\u001b[0m\u001b[0;34m\u001b[0m\u001b[0;34m\u001b[0m\u001b[0m\n\u001b[1;32m    579\u001b[0m             labeled_dataframe['label'] = [x.replace('{', '<br>').replace(', ', '<br>').replace('}', '')\n\u001b[0;32m--> 580\u001b[0;31m                                           for x in self.trial_labels(order_from_best_to_worst=False)]\n\u001b[0m\u001b[1;32m    581\u001b[0m \u001b[0;34m\u001b[0m\u001b[0m\n\u001b[1;32m    582\u001b[0m             \u001b[0mself\u001b[0m\u001b[0;34m.\u001b[0m\u001b[0m_labeled_dataframe\u001b[0m \u001b[0;34m=\u001b[0m \u001b[0mlabeled_dataframe\u001b[0m\u001b[0;34m\u001b[0m\u001b[0;34m\u001b[0m\u001b[0m\n",
      "\u001b[0;32m~/repos/python-helpers/helpsk/sklearn_eval.py\u001b[0m in \u001b[0;36mtrial_labels\u001b[0;34m(self, order_from_best_to_worst)\u001b[0m\n\u001b[1;32m    686\u001b[0m         \u001b[0;31m# create_trial_label(trial=self.parameter_trials[0])\u001b[0m\u001b[0;34m\u001b[0m\u001b[0;34m\u001b[0m\u001b[0;34m\u001b[0m\u001b[0m\n\u001b[1;32m    687\u001b[0m \u001b[0;34m\u001b[0m\u001b[0m\n\u001b[0;32m--> 688\u001b[0;31m         \u001b[0mlabels\u001b[0m \u001b[0;34m=\u001b[0m \u001b[0;34m[\u001b[0m\u001b[0mcreate_trial_label\u001b[0m\u001b[0;34m(\u001b[0m\u001b[0mx\u001b[0m\u001b[0;34m)\u001b[0m \u001b[0;32mfor\u001b[0m \u001b[0mx\u001b[0m \u001b[0;32min\u001b[0m \u001b[0mself\u001b[0m\u001b[0;34m.\u001b[0m\u001b[0mparameter_trials\u001b[0m\u001b[0;34m]\u001b[0m\u001b[0;34m\u001b[0m\u001b[0;34m\u001b[0m\u001b[0m\n\u001b[0m\u001b[1;32m    689\u001b[0m \u001b[0;34m\u001b[0m\u001b[0m\n\u001b[1;32m    690\u001b[0m         \u001b[0;32mif\u001b[0m \u001b[0morder_from_best_to_worst\u001b[0m\u001b[0;34m:\u001b[0m\u001b[0;34m\u001b[0m\u001b[0;34m\u001b[0m\u001b[0m\n",
      "\u001b[0;32m~/repos/python-helpers/helpsk/sklearn_eval.py\u001b[0m in \u001b[0;36m<listcomp>\u001b[0;34m(.0)\u001b[0m\n\u001b[1;32m    686\u001b[0m         \u001b[0;31m# create_trial_label(trial=self.parameter_trials[0])\u001b[0m\u001b[0;34m\u001b[0m\u001b[0;34m\u001b[0m\u001b[0;34m\u001b[0m\u001b[0m\n\u001b[1;32m    687\u001b[0m \u001b[0;34m\u001b[0m\u001b[0m\n\u001b[0;32m--> 688\u001b[0;31m         \u001b[0mlabels\u001b[0m \u001b[0;34m=\u001b[0m \u001b[0;34m[\u001b[0m\u001b[0mcreate_trial_label\u001b[0m\u001b[0;34m(\u001b[0m\u001b[0mx\u001b[0m\u001b[0;34m)\u001b[0m \u001b[0;32mfor\u001b[0m \u001b[0mx\u001b[0m \u001b[0;32min\u001b[0m \u001b[0mself\u001b[0m\u001b[0;34m.\u001b[0m\u001b[0mparameter_trials\u001b[0m\u001b[0;34m]\u001b[0m\u001b[0;34m\u001b[0m\u001b[0;34m\u001b[0m\u001b[0m\n\u001b[0m\u001b[1;32m    689\u001b[0m \u001b[0;34m\u001b[0m\u001b[0m\n\u001b[1;32m    690\u001b[0m         \u001b[0;32mif\u001b[0m \u001b[0morder_from_best_to_worst\u001b[0m\u001b[0;34m:\u001b[0m\u001b[0;34m\u001b[0m\u001b[0;34m\u001b[0m\u001b[0m\n",
      "\u001b[0;32m~/repos/python-helpers/helpsk/sklearn_eval.py\u001b[0m in \u001b[0;36mcreate_trial_label\u001b[0;34m(trial)\u001b[0m\n\u001b[1;32m    683\u001b[0m \u001b[0;34m\u001b[0m\u001b[0m\n\u001b[1;32m    684\u001b[0m         \u001b[0;32mdef\u001b[0m \u001b[0mcreate_trial_label\u001b[0m\u001b[0;34m(\u001b[0m\u001b[0mtrial\u001b[0m\u001b[0;34m)\u001b[0m \u001b[0;34m->\u001b[0m \u001b[0mstr\u001b[0m\u001b[0;34m:\u001b[0m\u001b[0;34m\u001b[0m\u001b[0;34m\u001b[0m\u001b[0m\n\u001b[0;32m--> 685\u001b[0;31m             \u001b[0;32mreturn\u001b[0m \u001b[0;34mf\"{{{hstring.collapse(create_hyper_param_labels(trial), separate=', ')}}}\"\u001b[0m\u001b[0;34m\u001b[0m\u001b[0;34m\u001b[0m\u001b[0m\n\u001b[0m\u001b[1;32m    686\u001b[0m         \u001b[0;31m# create_trial_label(trial=self.parameter_trials[0])\u001b[0m\u001b[0;34m\u001b[0m\u001b[0;34m\u001b[0m\u001b[0;34m\u001b[0m\u001b[0m\n\u001b[1;32m    687\u001b[0m \u001b[0;34m\u001b[0m\u001b[0m\n",
      "\u001b[0;32m~/repos/python-helpers/helpsk/sklearn_eval.py\u001b[0m in \u001b[0;36mcreate_hyper_param_labels\u001b[0;34m(trial)\u001b[0m\n\u001b[1;32m    678\u001b[0m         \u001b[0;32mdef\u001b[0m \u001b[0mcreate_hyper_param_labels\u001b[0m\u001b[0;34m(\u001b[0m\u001b[0mtrial\u001b[0m\u001b[0;34m)\u001b[0m \u001b[0;34m->\u001b[0m \u001b[0mlist\u001b[0m\u001b[0;34m:\u001b[0m\u001b[0;34m\u001b[0m\u001b[0;34m\u001b[0m\u001b[0m\n\u001b[1;32m    679\u001b[0m             \u001b[0;34m\"\"\"Creates a list of strings that represent the name/value pair for each hyper-parameter.\"\"\"\u001b[0m\u001b[0;34m\u001b[0m\u001b[0;34m\u001b[0m\u001b[0m\n\u001b[0;32m--> 680\u001b[0;31m             return [f\"{self.parameter_names_mapping[x] if self.parameter_names_mapping and x in self.parameter_names_mapping else x}: {trial[x]}\"  # pylint: disable=line-too-long  # noqa\n\u001b[0m\u001b[1;32m    681\u001b[0m                     for x in self.parameter_names_original]\n\u001b[1;32m    682\u001b[0m         \u001b[0;31m# create_hyper_param_labels(trial=self.parameter_trials[0])\u001b[0m\u001b[0;34m\u001b[0m\u001b[0;34m\u001b[0m\u001b[0;34m\u001b[0m\u001b[0m\n",
      "\u001b[0;32m~/repos/python-helpers/helpsk/sklearn_eval.py\u001b[0m in \u001b[0;36m<listcomp>\u001b[0;34m(.0)\u001b[0m\n\u001b[1;32m    678\u001b[0m         \u001b[0;32mdef\u001b[0m \u001b[0mcreate_hyper_param_labels\u001b[0m\u001b[0;34m(\u001b[0m\u001b[0mtrial\u001b[0m\u001b[0;34m)\u001b[0m \u001b[0;34m->\u001b[0m \u001b[0mlist\u001b[0m\u001b[0;34m:\u001b[0m\u001b[0;34m\u001b[0m\u001b[0;34m\u001b[0m\u001b[0m\n\u001b[1;32m    679\u001b[0m             \u001b[0;34m\"\"\"Creates a list of strings that represent the name/value pair for each hyper-parameter.\"\"\"\u001b[0m\u001b[0;34m\u001b[0m\u001b[0;34m\u001b[0m\u001b[0m\n\u001b[0;32m--> 680\u001b[0;31m             return [f\"{self.parameter_names_mapping[x] if self.parameter_names_mapping and x in self.parameter_names_mapping else x}: {trial[x]}\"  # pylint: disable=line-too-long  # noqa\n\u001b[0m\u001b[1;32m    681\u001b[0m                     for x in self.parameter_names_original]\n\u001b[1;32m    682\u001b[0m         \u001b[0;31m# create_hyper_param_labels(trial=self.parameter_trials[0])\u001b[0m\u001b[0;34m\u001b[0m\u001b[0;34m\u001b[0m\u001b[0;34m\u001b[0m\u001b[0m\n",
      "\u001b[0;31mKeyError\u001b[0m: 'model__colsample_bytree'"
     ]
    }
   ],
   "source": [
    "results.plot_performance_across_trials().show()"
   ]
  },
  {
   "cell_type": "code",
   "execution_count": null,
   "id": "f129bb10",
   "metadata": {},
   "outputs": [],
   "source": [
    "results.plot_performance_across_trials(size='learning_rate', color='max_depth').show()"
   ]
  },
  {
   "cell_type": "code",
   "execution_count": null,
   "id": "59e32a6a",
   "metadata": {},
   "outputs": [],
   "source": [
    "results.plot_performance_across_trials(size='learning_rate', color='encoder').show()"
   ]
  },
  {
   "cell_type": "markdown",
   "id": "a6f5be61",
   "metadata": {},
   "source": [
    "---"
   ]
  },
  {
   "cell_type": "markdown",
   "id": "49f22c15",
   "metadata": {},
   "source": [
    "## Variable Performance Over Time"
   ]
  },
  {
   "cell_type": "code",
   "execution_count": null,
   "id": "e100ea68",
   "metadata": {},
   "outputs": [],
   "source": [
    "results.plot_parameter_values_across_trials().show()"
   ]
  },
  {
   "cell_type": "markdown",
   "id": "e23227a1",
   "metadata": {},
   "source": [
    "---"
   ]
  },
  {
   "cell_type": "markdown",
   "id": "3a27957a",
   "metadata": {},
   "source": [
    "## Scatter Matrix"
   ]
  },
  {
   "cell_type": "code",
   "execution_count": null,
   "id": "03852712",
   "metadata": {},
   "outputs": [],
   "source": [
    "results.plot_scatter_matrix(height=1000, width=1000 * hlp.plot.GOLDEN_RATIO).show()"
   ]
  },
  {
   "cell_type": "markdown",
   "id": "c6159d18",
   "metadata": {},
   "source": [
    "---"
   ]
  },
  {
   "cell_type": "markdown",
   "id": "ee749684",
   "metadata": {},
   "source": [
    "## Variable Performance - Numeric"
   ]
  },
  {
   "cell_type": "code",
   "execution_count": null,
   "id": "39189dad",
   "metadata": {},
   "outputs": [],
   "source": [
    "results.plot_performance_numeric_params(height=800)"
   ]
  },
  {
   "cell_type": "code",
   "execution_count": null,
   "id": "7a76f2c9",
   "metadata": {},
   "outputs": [],
   "source": [
    "results.plot_parallel_coordinates().show()"
   ]
  },
  {
   "cell_type": "markdown",
   "id": "b8835e43",
   "metadata": {},
   "source": [
    "---"
   ]
  },
  {
   "cell_type": "markdown",
   "id": "030936ad",
   "metadata": {},
   "source": [
    "## Variable Performance - Non-Numeric"
   ]
  },
  {
   "cell_type": "code",
   "execution_count": null,
   "id": "9fe0a693",
   "metadata": {},
   "outputs": [],
   "source": [
    "results.plot_performance_non_numeric_params()"
   ]
  },
  {
   "cell_type": "markdown",
   "id": "ec79358c",
   "metadata": {
    "pycharm": {
     "name": "#%% md\n"
    }
   },
   "source": [
    "---"
   ]
  },
  {
   "cell_type": "markdown",
   "id": "730f97ee",
   "metadata": {},
   "source": [
    "## Individual Variable Performance"
   ]
  },
  {
   "cell_type": "code",
   "execution_count": null,
   "id": "a4cb1cd0",
   "metadata": {},
   "outputs": [],
   "source": [
    "results.plot_score_vs_parameter(\n",
    "    parameter='learning_rate',\n",
    "    size='colsample_bytree',\n",
    "    color='scaler'\n",
    ")"
   ]
  },
  {
   "cell_type": "markdown",
   "id": "b09bd440",
   "metadata": {},
   "source": [
    "---"
   ]
  },
  {
   "cell_type": "code",
   "execution_count": null,
   "id": "05670ea0",
   "metadata": {},
   "outputs": [],
   "source": [
    "results.plot_parameter_vs_parameter(parameter_x='colsample_bytree',\n",
    "                                   parameter_y='learning_rate',\n",
    "                                   size='max_depth'\n",
    "                                  )"
   ]
  },
  {
   "cell_type": "code",
   "execution_count": null,
   "id": "aab85748",
   "metadata": {},
   "outputs": [],
   "source": [
    "results.plot_parameter_vs_parameter(parameter_x='colsample_bytree',\n",
    "                                   parameter_y='learning_rate',\n",
    "                                   size='imputer')"
   ]
  },
  {
   "cell_type": "markdown",
   "id": "3336ac9d",
   "metadata": {},
   "source": [
    "# Regression on `roc_auc Mean`"
   ]
  },
  {
   "cell_type": "code",
   "execution_count": null,
   "id": "9f1055d5",
   "metadata": {},
   "outputs": [],
   "source": [
    "score_variable = results.primary_score_name + ' Mean'"
   ]
  },
  {
   "cell_type": "code",
   "execution_count": null,
   "id": "ede3925a",
   "metadata": {},
   "outputs": [],
   "source": [
    "score_dataframe = results.to_dataframe()\n",
    "score_dataframe = score_dataframe.drop(columns=[x for x in score_dataframe.columns\n",
    "                              if x not in [score_variable] + results.parameter_names])\n",
    "score_dataframe.head()"
   ]
  },
  {
   "cell_type": "code",
   "execution_count": null,
   "id": "f072893d",
   "metadata": {
    "pycharm": {
     "name": "#%%\n"
    }
   },
   "outputs": [],
   "source": [
    "cleaned_column_names = [''.join(e for e in x.replace(' ', '_') if e == '_' or e.isalnum()) for x in score_dataframe.columns.tolist()]\n",
    "cleaned_column_names = dict(zip(score_dataframe.columns.tolist(), cleaned_column_names))\n",
    "cleaned_column_names"
   ]
  },
  {
   "cell_type": "code",
   "execution_count": null,
   "id": "8616e129",
   "metadata": {
    "pycharm": {
     "name": "#%%\n"
    }
   },
   "outputs": [],
   "source": [
    "score_dataframe = score_dataframe.rename(columns=cleaned_column_names)"
   ]
  },
  {
   "cell_type": "code",
   "execution_count": null,
   "id": "09de3afd",
   "metadata": {
    "pycharm": {
     "name": "#%%\n"
    }
   },
   "outputs": [],
   "source": [
    "import statsmodels.formula.api as smf\n",
    "\n",
    "y_column = 'roc_auc_Mean'\n",
    "X_columns = score_dataframe.columns.tolist()\n",
    "X_columns.remove(y_column)\n",
    "X_columns = hlp.string.collapse(X_columns, separate=\" + \", surround=\"\")\n",
    "\n",
    "formula = f\"{y_column} ~ {X_columns}\"\n",
    "print(formula)\n",
    "model = smf.ols(formula=formula, data = score_dataframe)\n",
    "results = model.fit()\n",
    "print(results.summary())"
   ]
  },
  {
   "cell_type": "code",
   "execution_count": null,
   "id": "d9791bf9",
   "metadata": {
    "pycharm": {
     "name": "#%%\n"
    }
   },
   "outputs": [],
   "source": [
    "from sklearn.preprocessing import StandardScaler\n",
    "from sklearn.compose import ColumnTransformer\n",
    "import pandas as pd\n",
    "\n",
    "scaler = StandardScaler()\n",
    "#scaler.fit_transform(bayes_search_df)\n",
    "\n",
    "numeric_columns = hlp.pandas.get_numeric_columns(score_dataframe)\n",
    "non_numeric_columns = hlp.pandas.get_non_numeric_columns(score_dataframe)\n",
    "\n",
    "print(numeric_columns)\n",
    "print(non_numeric_columns)\n",
    "\n",
    "numeric_pipeline = Pipeline([\n",
    "    ('scaling', StandardScaler()),\n",
    "])\n",
    "\n",
    "transformations_pipeline = ColumnTransformer([\n",
    "    ('numeric_pipeline', numeric_pipeline, numeric_columns),\n",
    "    ('non_numeric_pipeline', 'passthrough', non_numeric_columns)\n",
    "])\n",
    "\n",
    "score_dataframe_transformed = transformations_pipeline.fit_transform(score_dataframe)\n",
    "score_dataframe_transformed = pd.DataFrame(score_dataframe_transformed,\n",
    "                                           columns= numeric_columns + non_numeric_columns)\n",
    "score_dataframe_transformed.head()"
   ]
  },
  {
   "cell_type": "code",
   "execution_count": null,
   "id": "00e391b2",
   "metadata": {},
   "outputs": [],
   "source": [
    "score_dataframe_transformed['roc_auc_Mean'] = score_dataframe_transformed['roc_auc_Mean'].astype('float')\n",
    "score_dataframe_transformed['colsample_bytree'] = score_dataframe_transformed['colsample_bytree'].astype('float')\n",
    "score_dataframe_transformed['learning_rate'] = score_dataframe_transformed['learning_rate'].astype('float')\n",
    "score_dataframe_transformed['max_depth'] = score_dataframe_transformed['max_depth'].astype('float')\n",
    "score_dataframe_transformed['n_estimators'] = score_dataframe_transformed['n_estimators'].astype('float')\n",
    "score_dataframe_transformed['subsample'] = score_dataframe_transformed['subsample'].astype('float')"
   ]
  },
  {
   "cell_type": "code",
   "execution_count": null,
   "id": "5827f79b",
   "metadata": {},
   "outputs": [],
   "source": [
    "print(formula)\n",
    "model = smf.ols(formula=formula,\n",
    "                data = score_dataframe_transformed)\n",
    "results = model.fit()\n",
    "print(results.summary())"
   ]
  },
  {
   "cell_type": "code",
   "execution_count": null,
   "id": "bd528513",
   "metadata": {},
   "outputs": [],
   "source": [
    "coefficients = pd.DataFrame({\n",
    "    'feature': results.params.index,\n",
    "    'coefficient': results.params,\n",
    "    'p_value': results.pvalues,\n",
    "})\n",
    "coefficients = coefficients.query(\"feature != 'Intercept'\")\n",
    "coefficients['Stat Sig'] = coefficients['p_value'] <= 0.05\n",
    "coefficients"
   ]
  },
  {
   "cell_type": "code",
   "execution_count": null,
   "id": "c5122ec5",
   "metadata": {},
   "outputs": [],
   "source": [
    "score_variable"
   ]
  },
  {
   "cell_type": "code",
   "execution_count": null,
   "id": "ae59352b",
   "metadata": {},
   "outputs": [],
   "source": [
    "px.bar(\n",
    "    data_frame=coefficients.reindex(coefficients['coefficient'].abs().sort_values(ascending=True).index),\n",
    "    y='feature',\n",
    "    x='coefficient',\n",
    "    color='Stat Sig',\n",
    "    title=f\"Regression Coefficients of Hyper-parameters against '{score_variable}'\",\n",
    "    height=600,\n",
    "    width=600*hlp.plot.GOLDEN_RATIO\n",
    ")"
   ]
  },
  {
   "cell_type": "markdown",
   "id": "6d5b72e3",
   "metadata": {},
   "source": [
    "# Feature Importance\n",
    "\n",
    "https://scikit-learn.org/stable/auto_examples/ensemble/plot_forest_importances.html"
   ]
  },
  {
   "cell_type": "code",
   "execution_count": null,
   "id": "66a1cb40",
   "metadata": {},
   "outputs": [],
   "source": [
    "from sklearn.inspection import permutation_importance\n",
    "\n",
    "estimator = bayes_search.best_estimator_\n",
    "\n",
    "start_time = time.time()\n",
    "result = permutation_importance(\n",
    "    estimator, X_train, y_train, n_repeats=10, random_state=42, n_jobs=2\n",
    ")\n",
    "elapsed_time = time.time() - start_time\n",
    "print(f\"Elapsed time to compute the importances: {elapsed_time:.3f} seconds\")\n",
    "\n",
    "feature_names = X_train.columns.to_list()\n",
    "forest_importances = pd.Series(result.importances_mean, index=feature_names)\n",
    "forest_importances = forest_importances.sort_values(ascending=False)"
   ]
  },
  {
   "cell_type": "code",
   "execution_count": null,
   "id": "c04d3bcc",
   "metadata": {},
   "outputs": [],
   "source": [
    "import matplotlib.pyplot as plt\n",
    "fig, ax = plt.subplots()\n",
    "forest_importances.plot.bar(yerr=result.importances_std, ax=ax)\n",
    "ax.set_title(\"Feature importances using permutation on full model\")\n",
    "ax.set_ylabel(\"Mean accuracy decrease\")\n",
    "fig.set_size_inches(9, 6)\n",
    "fig.tight_layout()\n",
    "plt.show()"
   ]
  },
  {
   "cell_type": "code",
   "execution_count": null,
   "id": "f0d5aae0",
   "metadata": {},
   "outputs": [],
   "source": [
    "temp = X_train.copy()\n",
    "temp['default'] = y_train\n",
    "temp.groupby('foreign_worker').agg({'default': np.mean})"
   ]
  },
  {
   "cell_type": "code",
   "execution_count": null,
   "id": "6deac1de",
   "metadata": {},
   "outputs": [],
   "source": [
    "fig = px.box(\n",
    "    data_frame=temp,\n",
    "    y='age',\n",
    "    x='default',\n",
    "#    size=size_variable,\n",
    "#    color=color_variable,\n",
    "#    trendline='lowess',\n",
    "#     labels={\n",
    "#         score_variable: f\"Average Cross Validation Score ({results.primary_score_name})\",\n",
    "#     },\n",
    "#     title=f\"<b>{x_variable}</b> - Performance<br>\" \\\n",
    "#           f\"<sup>Size of point corresponds to '{size_variable}'</sup>\",\n",
    "#     custom_data=['labels'],\n",
    "    height=600,\n",
    "    width=600*hlp.plot.GOLDEN_RATIO\n",
    ")\n",
    "fig.show()"
   ]
  },
  {
   "cell_type": "markdown",
   "id": "fb127277",
   "metadata": {},
   "source": [
    "NOTE: foreign worker seems like it should be important but is ranked last in feature importance."
   ]
  }
 ],
 "metadata": {
  "kernelspec": {
   "display_name": "Python 3 (ipykernel)",
   "language": "python",
   "name": "python3"
  },
  "language_info": {
   "codemirror_mode": {
    "name": "ipython",
    "version": 3
   },
   "file_extension": ".py",
   "mimetype": "text/x-python",
   "name": "python",
   "nbconvert_exporter": "python",
   "pygments_lexer": "ipython3",
   "version": "3.9.6"
  },
  "toc": {
   "base_numbering": 1,
   "nav_menu": {},
   "number_sections": false,
   "sideBar": true,
   "skip_h1_title": false,
   "title_cell": "Table of Contents",
   "title_sidebar": "Contents",
   "toc_cell": false,
   "toc_position": {
    "height": "calc(100% - 180px)",
    "left": "10px",
    "top": "150px",
    "width": "258px"
   },
   "toc_section_display": true,
   "toc_window_display": true
  }
 },
 "nbformat": 4,
 "nbformat_minor": 5
}
