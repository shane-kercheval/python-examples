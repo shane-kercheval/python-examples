{
 "cells": [
  {
   "cell_type": "code",
   "execution_count": 1,
   "id": "c5f3fe51",
   "metadata": {},
   "outputs": [],
   "source": [
    "import pickle\n",
    "import helpsk as hlp\n",
    "import matplotlib.pyplot as plt\n",
    "import pandas as pd\n",
    "import numpy as np\n",
    "from sklearn.datasets import fetch_openml\n",
    "import seaborn as sns\n",
    "\n",
    "from sklearn.pipeline import Pipeline\n",
    "from sklearn.preprocessing import StandardScaler, MinMaxScaler, OneHotEncoder  # , LabelEncoder\n",
    "from sklearn.impute import SimpleImputer\n",
    "from sklearn.model_selection import train_test_split\n",
    "# from sklearn.base import BaseEstimator, TransformerMixin\n",
    "\n",
    "%matplotlib inline"
   ]
  },
  {
   "cell_type": "markdown",
   "id": "8ff88fe0",
   "metadata": {},
   "source": [
    "# Load Data"
   ]
  },
  {
   "cell_type": "code",
   "execution_count": 2,
   "id": "fc98b023",
   "metadata": {},
   "outputs": [
    {
     "data": {
      "text/plain": [
       "{'C': 0.21380623392192172,\n",
       " 'encoder': 'OneHotEncoder()',\n",
       " 'imputer': 'SimpleImputer()',\n",
       " 'scaler': 'None'}"
      ]
     },
     "execution_count": 2,
     "metadata": {},
     "output_type": "execute_result"
    }
   ],
   "source": [
    "parser = hlp.sklearn_eval.SearchCVParser.from_yaml_file(yaml_file_name = 'Run 1 - Logistic Regression - BayesSearchCV.yaml')\n",
    "parser.best_primary_score_params"
   ]
  },
  {
   "cell_type": "code",
   "execution_count": 3,
   "id": "7511e37e",
   "metadata": {},
   "outputs": [
    {
     "name": "stdout",
     "output_type": "stream",
     "text": [
      "(800, 20)\n",
      "800\n",
      "(200, 20)\n",
      "200\n"
     ]
    }
   ],
   "source": [
    "with open('../X_train.pkl', 'rb') as handle:\n",
    "    X_train = pickle.load(handle)\n",
    "    print(X_train.shape)\n",
    "\n",
    "with open('../y_train.pkl', 'rb') as handle:\n",
    "    y_train = pickle.load(handle)\n",
    "    print(len(y_train))\n",
    "\n",
    "with open('../X_test.pkl', 'rb') as handle:\n",
    "    X_test = pickle.load(handle)\n",
    "    print(X_test.shape)\n",
    "\n",
    "with open('../y_test.pkl', 'rb') as handle:\n",
    "    y_test = pickle.load(handle)\n",
    "    print(len(y_test))"
   ]
  },
  {
   "cell_type": "code",
   "execution_count": 4,
   "id": "1e782cdf",
   "metadata": {},
   "outputs": [
    {
     "data": {
      "text/html": [
       "<div>\n",
       "<style scoped>\n",
       "    .dataframe tbody tr th:only-of-type {\n",
       "        vertical-align: middle;\n",
       "    }\n",
       "\n",
       "    .dataframe tbody tr th {\n",
       "        vertical-align: top;\n",
       "    }\n",
       "\n",
       "    .dataframe thead th {\n",
       "        text-align: right;\n",
       "    }\n",
       "</style>\n",
       "<table border=\"1\" class=\"dataframe\">\n",
       "  <thead>\n",
       "    <tr style=\"text-align: right;\">\n",
       "      <th></th>\n",
       "      <th>checking_status</th>\n",
       "      <th>duration</th>\n",
       "      <th>credit_history</th>\n",
       "      <th>purpose</th>\n",
       "      <th>credit_amount</th>\n",
       "      <th>savings_status</th>\n",
       "      <th>employment</th>\n",
       "      <th>installment_commitment</th>\n",
       "      <th>personal_status</th>\n",
       "      <th>other_parties</th>\n",
       "      <th>residence_since</th>\n",
       "      <th>property_magnitude</th>\n",
       "      <th>age</th>\n",
       "      <th>other_payment_plans</th>\n",
       "      <th>housing</th>\n",
       "      <th>existing_credits</th>\n",
       "      <th>job</th>\n",
       "      <th>num_dependents</th>\n",
       "      <th>own_telephone</th>\n",
       "      <th>foreign_worker</th>\n",
       "    </tr>\n",
       "  </thead>\n",
       "  <tbody>\n",
       "    <tr>\n",
       "      <th>29</th>\n",
       "      <td>NaN</td>\n",
       "      <td>NaN</td>\n",
       "      <td>delayed previously</td>\n",
       "      <td>business</td>\n",
       "      <td>0.0</td>\n",
       "      <td>&lt;100</td>\n",
       "      <td>&gt;=7</td>\n",
       "      <td>3.0</td>\n",
       "      <td>male single</td>\n",
       "      <td>none</td>\n",
       "      <td>4.0</td>\n",
       "      <td>no known property</td>\n",
       "      <td>63.0</td>\n",
       "      <td>none</td>\n",
       "      <td>own</td>\n",
       "      <td>2.0</td>\n",
       "      <td>skilled</td>\n",
       "      <td>1.0</td>\n",
       "      <td>yes</td>\n",
       "      <td>yes</td>\n",
       "    </tr>\n",
       "    <tr>\n",
       "      <th>535</th>\n",
       "      <td>&gt;=200</td>\n",
       "      <td>21.0</td>\n",
       "      <td>critical/other existing credit</td>\n",
       "      <td>education</td>\n",
       "      <td>2319.0</td>\n",
       "      <td>&lt;100</td>\n",
       "      <td>&lt;1</td>\n",
       "      <td>2.0</td>\n",
       "      <td>male div/sep</td>\n",
       "      <td>none</td>\n",
       "      <td>1.0</td>\n",
       "      <td>car</td>\n",
       "      <td>33.0</td>\n",
       "      <td>none</td>\n",
       "      <td>rent</td>\n",
       "      <td>1.0</td>\n",
       "      <td>skilled</td>\n",
       "      <td>1.0</td>\n",
       "      <td>none</td>\n",
       "      <td>yes</td>\n",
       "    </tr>\n",
       "    <tr>\n",
       "      <th>695</th>\n",
       "      <td>no checking</td>\n",
       "      <td>6.0</td>\n",
       "      <td>existing paid</td>\n",
       "      <td>used car</td>\n",
       "      <td>1236.0</td>\n",
       "      <td>500&lt;=X&lt;1000</td>\n",
       "      <td>1&lt;=X&lt;4</td>\n",
       "      <td>2.0</td>\n",
       "      <td>male single</td>\n",
       "      <td>none</td>\n",
       "      <td>4.0</td>\n",
       "      <td>life insurance</td>\n",
       "      <td>50.0</td>\n",
       "      <td>none</td>\n",
       "      <td>rent</td>\n",
       "      <td>1.0</td>\n",
       "      <td>skilled</td>\n",
       "      <td>1.0</td>\n",
       "      <td>none</td>\n",
       "      <td>yes</td>\n",
       "    </tr>\n",
       "    <tr>\n",
       "      <th>557</th>\n",
       "      <td>no checking</td>\n",
       "      <td>21.0</td>\n",
       "      <td>no credits/all paid</td>\n",
       "      <td>new car</td>\n",
       "      <td>5003.0</td>\n",
       "      <td>no known savings</td>\n",
       "      <td>1&lt;=X&lt;4</td>\n",
       "      <td>1.0</td>\n",
       "      <td>female div/dep/mar</td>\n",
       "      <td>none</td>\n",
       "      <td>4.0</td>\n",
       "      <td>life insurance</td>\n",
       "      <td>29.0</td>\n",
       "      <td>bank</td>\n",
       "      <td>own</td>\n",
       "      <td>2.0</td>\n",
       "      <td>skilled</td>\n",
       "      <td>1.0</td>\n",
       "      <td>yes</td>\n",
       "      <td>yes</td>\n",
       "    </tr>\n",
       "    <tr>\n",
       "      <th>836</th>\n",
       "      <td>no checking</td>\n",
       "      <td>12.0</td>\n",
       "      <td>existing paid</td>\n",
       "      <td>radio/tv</td>\n",
       "      <td>886.0</td>\n",
       "      <td>no known savings</td>\n",
       "      <td>1&lt;=X&lt;4</td>\n",
       "      <td>4.0</td>\n",
       "      <td>female div/dep/mar</td>\n",
       "      <td>none</td>\n",
       "      <td>2.0</td>\n",
       "      <td>car</td>\n",
       "      <td>21.0</td>\n",
       "      <td>none</td>\n",
       "      <td>own</td>\n",
       "      <td>1.0</td>\n",
       "      <td>skilled</td>\n",
       "      <td>1.0</td>\n",
       "      <td>none</td>\n",
       "      <td>yes</td>\n",
       "    </tr>\n",
       "  </tbody>\n",
       "</table>\n",
       "</div>"
      ],
      "text/plain": [
       "    checking_status  duration                  credit_history    purpose  \\\n",
       "29              NaN       NaN              delayed previously   business   \n",
       "535           >=200      21.0  critical/other existing credit  education   \n",
       "695     no checking       6.0                   existing paid   used car   \n",
       "557     no checking      21.0             no credits/all paid    new car   \n",
       "836     no checking      12.0                   existing paid   radio/tv   \n",
       "\n",
       "     credit_amount    savings_status employment  installment_commitment  \\\n",
       "29             0.0              <100        >=7                     3.0   \n",
       "535         2319.0              <100         <1                     2.0   \n",
       "695         1236.0       500<=X<1000     1<=X<4                     2.0   \n",
       "557         5003.0  no known savings     1<=X<4                     1.0   \n",
       "836          886.0  no known savings     1<=X<4                     4.0   \n",
       "\n",
       "        personal_status other_parties  residence_since property_magnitude  \\\n",
       "29          male single          none              4.0  no known property   \n",
       "535        male div/sep          none              1.0                car   \n",
       "695         male single          none              4.0     life insurance   \n",
       "557  female div/dep/mar          none              4.0     life insurance   \n",
       "836  female div/dep/mar          none              2.0                car   \n",
       "\n",
       "      age other_payment_plans housing  existing_credits      job  \\\n",
       "29   63.0                none     own               2.0  skilled   \n",
       "535  33.0                none    rent               1.0  skilled   \n",
       "695  50.0                none    rent               1.0  skilled   \n",
       "557  29.0                bank     own               2.0  skilled   \n",
       "836  21.0                none     own               1.0  skilled   \n",
       "\n",
       "     num_dependents own_telephone foreign_worker  \n",
       "29              1.0           yes            yes  \n",
       "535             1.0          none            yes  \n",
       "695             1.0          none            yes  \n",
       "557             1.0           yes            yes  \n",
       "836             1.0          none            yes  "
      ]
     },
     "execution_count": 4,
     "metadata": {},
     "output_type": "execute_result"
    }
   ],
   "source": [
    "X_train.head()"
   ]
  },
  {
   "cell_type": "code",
   "execution_count": 5,
   "id": "a9795b35",
   "metadata": {},
   "outputs": [
    {
     "data": {
      "text/plain": [
       "array([0, 0, 1, 0, 1, 0, 1, 0, 0, 1])"
      ]
     },
     "execution_count": 5,
     "metadata": {},
     "output_type": "execute_result"
    }
   ],
   "source": [
    "y_train[0:10]"
   ]
  },
  {
   "cell_type": "code",
   "execution_count": 6,
   "id": "4d20507c",
   "metadata": {},
   "outputs": [
    {
     "data": {
      "text/html": [
       "<div>\n",
       "<style scoped>\n",
       "    .dataframe tbody tr th:only-of-type {\n",
       "        vertical-align: middle;\n",
       "    }\n",
       "\n",
       "    .dataframe tbody tr th {\n",
       "        vertical-align: top;\n",
       "    }\n",
       "\n",
       "    .dataframe thead th {\n",
       "        text-align: right;\n",
       "    }\n",
       "</style>\n",
       "<table border=\"1\" class=\"dataframe\">\n",
       "  <thead>\n",
       "    <tr style=\"text-align: right;\">\n",
       "      <th></th>\n",
       "      <th>checking_status</th>\n",
       "      <th>duration</th>\n",
       "      <th>credit_history</th>\n",
       "      <th>purpose</th>\n",
       "      <th>credit_amount</th>\n",
       "      <th>savings_status</th>\n",
       "      <th>employment</th>\n",
       "      <th>installment_commitment</th>\n",
       "      <th>personal_status</th>\n",
       "      <th>other_parties</th>\n",
       "      <th>residence_since</th>\n",
       "      <th>property_magnitude</th>\n",
       "      <th>age</th>\n",
       "      <th>other_payment_plans</th>\n",
       "      <th>housing</th>\n",
       "      <th>existing_credits</th>\n",
       "      <th>job</th>\n",
       "      <th>num_dependents</th>\n",
       "      <th>own_telephone</th>\n",
       "      <th>foreign_worker</th>\n",
       "    </tr>\n",
       "  </thead>\n",
       "  <tbody>\n",
       "    <tr>\n",
       "      <th>521</th>\n",
       "      <td>&lt;0</td>\n",
       "      <td>18.0</td>\n",
       "      <td>existing paid</td>\n",
       "      <td>radio/tv</td>\n",
       "      <td>3190.0</td>\n",
       "      <td>&lt;100</td>\n",
       "      <td>1&lt;=X&lt;4</td>\n",
       "      <td>2.0</td>\n",
       "      <td>female div/dep/mar</td>\n",
       "      <td>none</td>\n",
       "      <td>2.0</td>\n",
       "      <td>real estate</td>\n",
       "      <td>24.0</td>\n",
       "      <td>none</td>\n",
       "      <td>own</td>\n",
       "      <td>1.0</td>\n",
       "      <td>skilled</td>\n",
       "      <td>1.0</td>\n",
       "      <td>none</td>\n",
       "      <td>yes</td>\n",
       "    </tr>\n",
       "    <tr>\n",
       "      <th>737</th>\n",
       "      <td>&lt;0</td>\n",
       "      <td>18.0</td>\n",
       "      <td>existing paid</td>\n",
       "      <td>new car</td>\n",
       "      <td>4380.0</td>\n",
       "      <td>100&lt;=X&lt;500</td>\n",
       "      <td>1&lt;=X&lt;4</td>\n",
       "      <td>3.0</td>\n",
       "      <td>male single</td>\n",
       "      <td>none</td>\n",
       "      <td>4.0</td>\n",
       "      <td>car</td>\n",
       "      <td>35.0</td>\n",
       "      <td>none</td>\n",
       "      <td>own</td>\n",
       "      <td>1.0</td>\n",
       "      <td>unskilled resident</td>\n",
       "      <td>2.0</td>\n",
       "      <td>yes</td>\n",
       "      <td>yes</td>\n",
       "    </tr>\n",
       "    <tr>\n",
       "      <th>740</th>\n",
       "      <td>&lt;0</td>\n",
       "      <td>24.0</td>\n",
       "      <td>all paid</td>\n",
       "      <td>new car</td>\n",
       "      <td>2325.0</td>\n",
       "      <td>100&lt;=X&lt;500</td>\n",
       "      <td>4&lt;=X&lt;7</td>\n",
       "      <td>2.0</td>\n",
       "      <td>male single</td>\n",
       "      <td>none</td>\n",
       "      <td>3.0</td>\n",
       "      <td>car</td>\n",
       "      <td>32.0</td>\n",
       "      <td>bank</td>\n",
       "      <td>own</td>\n",
       "      <td>1.0</td>\n",
       "      <td>skilled</td>\n",
       "      <td>1.0</td>\n",
       "      <td>none</td>\n",
       "      <td>yes</td>\n",
       "    </tr>\n",
       "    <tr>\n",
       "      <th>660</th>\n",
       "      <td>&gt;=200</td>\n",
       "      <td>12.0</td>\n",
       "      <td>existing paid</td>\n",
       "      <td>radio/tv</td>\n",
       "      <td>1297.0</td>\n",
       "      <td>&lt;100</td>\n",
       "      <td>1&lt;=X&lt;4</td>\n",
       "      <td>3.0</td>\n",
       "      <td>male mar/wid</td>\n",
       "      <td>none</td>\n",
       "      <td>4.0</td>\n",
       "      <td>real estate</td>\n",
       "      <td>23.0</td>\n",
       "      <td>none</td>\n",
       "      <td>rent</td>\n",
       "      <td>1.0</td>\n",
       "      <td>skilled</td>\n",
       "      <td>1.0</td>\n",
       "      <td>none</td>\n",
       "      <td>yes</td>\n",
       "    </tr>\n",
       "    <tr>\n",
       "      <th>411</th>\n",
       "      <td>no checking</td>\n",
       "      <td>33.0</td>\n",
       "      <td>critical/other existing credit</td>\n",
       "      <td>used car</td>\n",
       "      <td>7253.0</td>\n",
       "      <td>&lt;100</td>\n",
       "      <td>4&lt;=X&lt;7</td>\n",
       "      <td>3.0</td>\n",
       "      <td>male single</td>\n",
       "      <td>none</td>\n",
       "      <td>2.0</td>\n",
       "      <td>car</td>\n",
       "      <td>35.0</td>\n",
       "      <td>none</td>\n",
       "      <td>own</td>\n",
       "      <td>2.0</td>\n",
       "      <td>high qualif/self emp/mgmt</td>\n",
       "      <td>1.0</td>\n",
       "      <td>yes</td>\n",
       "      <td>yes</td>\n",
       "    </tr>\n",
       "  </tbody>\n",
       "</table>\n",
       "</div>"
      ],
      "text/plain": [
       "    checking_status  duration                  credit_history   purpose  \\\n",
       "521              <0      18.0                   existing paid  radio/tv   \n",
       "737              <0      18.0                   existing paid   new car   \n",
       "740              <0      24.0                        all paid   new car   \n",
       "660           >=200      12.0                   existing paid  radio/tv   \n",
       "411     no checking      33.0  critical/other existing credit  used car   \n",
       "\n",
       "     credit_amount savings_status employment  installment_commitment  \\\n",
       "521         3190.0           <100     1<=X<4                     2.0   \n",
       "737         4380.0     100<=X<500     1<=X<4                     3.0   \n",
       "740         2325.0     100<=X<500     4<=X<7                     2.0   \n",
       "660         1297.0           <100     1<=X<4                     3.0   \n",
       "411         7253.0           <100     4<=X<7                     3.0   \n",
       "\n",
       "        personal_status other_parties  residence_since property_magnitude  \\\n",
       "521  female div/dep/mar          none              2.0        real estate   \n",
       "737         male single          none              4.0                car   \n",
       "740         male single          none              3.0                car   \n",
       "660        male mar/wid          none              4.0        real estate   \n",
       "411         male single          none              2.0                car   \n",
       "\n",
       "      age other_payment_plans housing  existing_credits  \\\n",
       "521  24.0                none     own               1.0   \n",
       "737  35.0                none     own               1.0   \n",
       "740  32.0                bank     own               1.0   \n",
       "660  23.0                none    rent               1.0   \n",
       "411  35.0                none     own               2.0   \n",
       "\n",
       "                           job  num_dependents own_telephone foreign_worker  \n",
       "521                    skilled             1.0          none            yes  \n",
       "737         unskilled resident             2.0           yes            yes  \n",
       "740                    skilled             1.0          none            yes  \n",
       "660                    skilled             1.0          none            yes  \n",
       "411  high qualif/self emp/mgmt             1.0           yes            yes  "
      ]
     },
     "execution_count": 6,
     "metadata": {},
     "output_type": "execute_result"
    }
   ],
   "source": [
    "X_test.head()"
   ]
  },
  {
   "cell_type": "code",
   "execution_count": 7,
   "id": "c066c30a",
   "metadata": {},
   "outputs": [
    {
     "data": {
      "text/plain": [
       "array([0, 1, 1, 1, 1, 1, 1, 1, 1, 1])"
      ]
     },
     "execution_count": 7,
     "metadata": {},
     "output_type": "execute_result"
    }
   ],
   "source": [
    "y_test[0:10]"
   ]
  },
  {
   "cell_type": "markdown",
   "id": "1ca1d63a",
   "metadata": {},
   "source": [
    "# Training and Test Data"
   ]
  },
  {
   "cell_type": "code",
   "execution_count": 8,
   "id": "86f44647",
   "metadata": {},
   "outputs": [
    {
     "data": {
      "text/plain": [
       "array([0, 0, 1, 0, 1, 0, 1, 0, 0, 1])"
      ]
     },
     "execution_count": 8,
     "metadata": {},
     "output_type": "execute_result"
    }
   ],
   "source": [
    "y_train[0:10]"
   ]
  },
  {
   "cell_type": "code",
   "execution_count": 9,
   "id": "742c6bf1",
   "metadata": {},
   "outputs": [
    {
     "name": "stdout",
     "output_type": "stream",
     "text": [
      "['duration', 'credit_amount', 'installment_commitment', 'residence_since', 'age', 'existing_credits', 'num_dependents']\n",
      "['checking_status', 'credit_history', 'purpose', 'savings_status', 'employment', 'personal_status', 'other_parties', 'property_magnitude', 'other_payment_plans', 'housing', 'job', 'own_telephone', 'foreign_worker']\n"
     ]
    }
   ],
   "source": [
    "numeric_columns = hlp.pandas.get_numeric_columns(X_train)\n",
    "non_numeric_columns = hlp.pandas.get_non_numeric_columns(X_train)\n",
    "print(numeric_columns)\n",
    "print(non_numeric_columns)"
   ]
  },
  {
   "cell_type": "markdown",
   "id": "c215d60a",
   "metadata": {},
   "source": [
    "# Model"
   ]
  },
  {
   "cell_type": "code",
   "execution_count": 10,
   "id": "ce3d4969",
   "metadata": {},
   "outputs": [
    {
     "data": {
      "text/plain": [
       "{'C': 0.21380623392192172,\n",
       " 'encoder': 'OneHotEncoder()',\n",
       " 'imputer': 'SimpleImputer()',\n",
       " 'scaler': 'None'}"
      ]
     },
     "execution_count": 10,
     "metadata": {},
     "output_type": "execute_result"
    }
   ],
   "source": [
    "parser.best_primary_score_params"
   ]
  },
  {
   "cell_type": "code",
   "execution_count": 11,
   "id": "62a4fd61",
   "metadata": {},
   "outputs": [],
   "source": [
    "from sklearn.pipeline import make_pipeline\n",
    "from sklearn.compose import ColumnTransformer\n",
    "from sklearn.linear_model import LogisticRegression\n",
    "\n",
    "full_pipeline = make_pipeline(\n",
    "    ColumnTransformer([\n",
    "        (\n",
    "            'numeric',\n",
    "            make_pipeline(\n",
    "                SimpleImputer(strategy='mean'),\n",
    "#                 StandardScaler()\n",
    "            ),\n",
    "            numeric_columns\n",
    "        ),\n",
    "        (\n",
    "            'non_numeric',\n",
    "            make_pipeline(OneHotEncoder()),\n",
    "            non_numeric_columns\n",
    "        )\n",
    "    ]),\n",
    "    LogisticRegression(\n",
    "        C=0.21380623392192172,\n",
    "        solver='lbfgs',\n",
    "        max_iter=1000,\n",
    "        random_state=42\n",
    "    )\n",
    ")"
   ]
  },
  {
   "cell_type": "code",
   "execution_count": 12,
   "id": "936a9d3f",
   "metadata": {
    "scrolled": true
   },
   "outputs": [
    {
     "data": {
      "text/plain": [
       "{'columntransformer': ColumnTransformer(transformers=[('numeric',\n",
       "                                  Pipeline(steps=[('simpleimputer',\n",
       "                                                   SimpleImputer())]),\n",
       "                                  ['duration', 'credit_amount',\n",
       "                                   'installment_commitment', 'residence_since',\n",
       "                                   'age', 'existing_credits',\n",
       "                                   'num_dependents']),\n",
       "                                 ('non_numeric',\n",
       "                                  Pipeline(steps=[('onehotencoder',\n",
       "                                                   OneHotEncoder())]),\n",
       "                                  ['checking_status', 'credit_history',\n",
       "                                   'purpose', 'savings_status', 'employment',\n",
       "                                   'personal_status', 'other_parties',\n",
       "                                   'property_magnitude', 'other_payment_plans',\n",
       "                                   'housing', 'job', 'own_telephone',\n",
       "                                   'foreign_worker'])]),\n",
       " 'logisticregression': LogisticRegression(C=0.21380623392192172, max_iter=1000, random_state=42)}"
      ]
     },
     "execution_count": 12,
     "metadata": {},
     "output_type": "execute_result"
    }
   ],
   "source": [
    "# Show the levels of pipelines/transformers/model\n",
    "full_pipeline.named_steps"
   ]
  },
  {
   "cell_type": "code",
   "execution_count": 13,
   "id": "e1e4704a",
   "metadata": {},
   "outputs": [],
   "source": [
    "fitted_pipeline = full_pipeline.fit(X_train, y_train)"
   ]
  },
  {
   "cell_type": "code",
   "execution_count": 14,
   "id": "2bda499a",
   "metadata": {},
   "outputs": [],
   "source": [
    "# fitted_pipeline.predict(X_test)\n",
    "# fitted_pipeline.predict_proba(X_test)\n",
    "# y_test"
   ]
  },
  {
   "cell_type": "markdown",
   "id": "c995ec2a",
   "metadata": {},
   "source": [
    "## Training Set Evaluation"
   ]
  },
  {
   "cell_type": "markdown",
   "id": "42753452",
   "metadata": {},
   "source": [
    "Understand the nature/degree of model overfitting by comparing to `Test Set Evaluation`"
   ]
  },
  {
   "cell_type": "code",
   "execution_count": 15,
   "id": "715baf29",
   "metadata": {},
   "outputs": [],
   "source": [
    "predicted_scores = fitted_pipeline.predict_proba(X_train)[:, 1]"
   ]
  },
  {
   "cell_type": "code",
   "execution_count": 16,
   "id": "19cebd6f",
   "metadata": {},
   "outputs": [
    {
     "data": {
      "image/png": "[encoded data removed]",
      "text/plain": [
       "<Figure size 432x288 with 1 Axes>"
      ]
     },
     "metadata": {
      "needs_background": "light"
     },
     "output_type": "display_data"
    }
   ],
   "source": [
    "sns.histplot(predicted_scores)\n",
    "plt.tight_layout()"
   ]
  },
  {
   "cell_type": "code",
   "execution_count": 17,
   "id": "19afe1a7",
   "metadata": {},
   "outputs": [],
   "source": [
    "\n",
    "evaluator = hlp.sklearn_eval.TwoClassEvaluator(\n",
    "    actual_values=y_train,\n",
    "    predicted_scores=predicted_scores,\n",
    "    labels=('Bad', 'Good'),\n",
    "    score_threshold=0.5\n",
    ")"
   ]
  },
  {
   "cell_type": "code",
   "execution_count": 18,
   "id": "aa907fdc",
   "metadata": {},
   "outputs": [
    {
     "data": {
      "text/html": [
       "<style type=\"text/css\">\n",
       "#T_e6944_row0_col0 {\n",
       "  width: 10em;\n",
       "  height: 80%;\n",
       "  background: linear-gradient(90deg,#1AAF54 81.9%, transparent 81.9%);\n",
       "}\n",
       "#T_e6944_row1_col0 {\n",
       "  width: 10em;\n",
       "  height: 80%;\n",
       "  background: linear-gradient(90deg,#1AAF54 89.8%, transparent 89.8%);\n",
       "}\n",
       "#T_e6944_row2_col0 {\n",
       "  width: 10em;\n",
       "  height: 80%;\n",
       "  background: linear-gradient(90deg,#1AAF54 46.1%, transparent 46.1%);\n",
       "}\n",
       "#T_e6944_row3_col0 {\n",
       "  width: 10em;\n",
       "  height: 80%;\n",
       "  background: linear-gradient(90deg,#1AAF54 53.9%, transparent 53.9%);\n",
       "  width: 10em;\n",
       "  height: 80%;\n",
       "  background: linear-gradient(90deg,#FF420E 53.9%, transparent 53.9%);\n",
       "}\n",
       "#T_e6944_row4_col0 {\n",
       "  width: 10em;\n",
       "  height: 80%;\n",
       "  background: linear-gradient(90deg,#1AAF54 10.2%, transparent 10.2%);\n",
       "  width: 10em;\n",
       "  height: 80%;\n",
       "  background: linear-gradient(90deg,#FF420E 10.2%, transparent 10.2%);\n",
       "}\n",
       "#T_e6944_row5_col0 {\n",
       "  width: 10em;\n",
       "  height: 80%;\n",
       "  background: linear-gradient(90deg,#1AAF54 79.4%, transparent 79.4%);\n",
       "}\n",
       "#T_e6944_row6_col0 {\n",
       "  width: 10em;\n",
       "  height: 80%;\n",
       "  background: linear-gradient(90deg,#1AAF54 66.1%, transparent 66.1%);\n",
       "}\n",
       "#T_e6944_row7_col0 {\n",
       "  width: 10em;\n",
       "  height: 80%;\n",
       "  background: linear-gradient(90deg,#1AAF54 84.3%, transparent 84.3%);\n",
       "}\n",
       "#T_e6944_row8_col0 {\n",
       "  width: 10em;\n",
       "  height: 80%;\n",
       "  background: linear-gradient(90deg,#1AAF54 76.6%, transparent 76.6%);\n",
       "  width: 10em;\n",
       "  height: 80%;\n",
       "  background: linear-gradient(90deg,#B4B7B9 76.6%, transparent 76.6%);\n",
       "}\n",
       "#T_e6944_row9_col0 {\n",
       "  width: 10em;\n",
       "  height: 80%;\n",
       "  background: linear-gradient(90deg,#1AAF54 23.4%, transparent 23.4%);\n",
       "  width: 10em;\n",
       "  height: 80%;\n",
       "  background: linear-gradient(90deg,#B4B7B9 23.4%, transparent 23.4%);\n",
       "}\n",
       "#T_e6944_row10_col0 {\n",
       "  width: 10em;\n",
       "  height: 80%;\n",
       "  background: linear-gradient(90deg,#1AAF54 69.9%, transparent 69.9%);\n",
       "  width: 10em;\n",
       "  height: 80%;\n",
       "  background: linear-gradient(90deg,#B4B7B9 69.9%, transparent 69.9%);\n",
       "}\n",
       "</style>\n",
       "<table id=\"T_e6944_\">\n",
       "  <thead>\n",
       "    <tr>\n",
       "      <th class=\"blank level0\" >&nbsp;</th>\n",
       "      <th class=\"col_heading level0 col0\" >Scores</th>\n",
       "      <th class=\"col_heading level0 col1\" >Details</th>\n",
       "    </tr>\n",
       "  </thead>\n",
       "  <tbody>\n",
       "    <tr>\n",
       "      <th id=\"T_e6944_level0_row0\" class=\"row_heading level0 row0\" >AUC</th>\n",
       "      <td id=\"T_e6944_row0_col0\" class=\"data row0 col0\" >0.819</td>\n",
       "      <td id=\"T_e6944_row0_col1\" class=\"data row0 col1\" >Area under the ROC curve (true pos. rate vs false pos. rate); ranges from 0.5 (purely random classifier) to 1.0 (perfect classifier)</td>\n",
       "    </tr>\n",
       "    <tr>\n",
       "      <th id=\"T_e6944_level0_row1\" class=\"row_heading level0 row1\" >True Positive Rate</th>\n",
       "      <td id=\"T_e6944_row1_col0\" class=\"data row1 col0\" >0.898</td>\n",
       "      <td id=\"T_e6944_row1_col1\" class=\"data row1 col1\" >89.8% of positive instances were correctly identified.; i.e. 502 \"Good\" labels were correctly identified out of 559 instances; a.k.a Sensitivity/Recall</td>\n",
       "    </tr>\n",
       "    <tr>\n",
       "      <th id=\"T_e6944_level0_row2\" class=\"row_heading level0 row2\" >True Negative Rate</th>\n",
       "      <td id=\"T_e6944_row2_col0\" class=\"data row2 col0\" >0.461</td>\n",
       "      <td id=\"T_e6944_row2_col1\" class=\"data row2 col1\" >46.1% of negative instances were correctly identified.; i.e. 111 \"Bad\" labels were correctly identified out of 241 instances</td>\n",
       "    </tr>\n",
       "    <tr>\n",
       "      <th id=\"T_e6944_level0_row3\" class=\"row_heading level0 row3\" >False Positive Rate</th>\n",
       "      <td id=\"T_e6944_row3_col0\" class=\"data row3 col0\" >0.539</td>\n",
       "      <td id=\"T_e6944_row3_col1\" class=\"data row3 col1\" >53.9% of negative instances were incorrectly identified as positive; i.e. 130 \"Bad\" labels were incorrectly identified as \"Good\", out of 241 instances</td>\n",
       "    </tr>\n",
       "    <tr>\n",
       "      <th id=\"T_e6944_level0_row4\" class=\"row_heading level0 row4\" >False Negative Rate</th>\n",
       "      <td id=\"T_e6944_row4_col0\" class=\"data row4 col0\" >0.102</td>\n",
       "      <td id=\"T_e6944_row4_col1\" class=\"data row4 col1\" >10.2% of positive instances were incorrectly identified as negative; i.e. 57 \"Good\" labels were incorrectly identified as \"Bad\", out of 559 instances</td>\n",
       "    </tr>\n",
       "    <tr>\n",
       "      <th id=\"T_e6944_level0_row5\" class=\"row_heading level0 row5\" >Positive Predictive Value</th>\n",
       "      <td id=\"T_e6944_row5_col0\" class=\"data row5 col0\" >0.794</td>\n",
       "      <td id=\"T_e6944_row5_col1\" class=\"data row5 col1\" >When the model claims an instance is positive, it is correct 79.4% of the time; i.e. out of the 632 times the model predicted \"Good\", it was correct 502 times; a.k.a precision</td>\n",
       "    </tr>\n",
       "    <tr>\n",
       "      <th id=\"T_e6944_level0_row6\" class=\"row_heading level0 row6\" >Negative Predictive Value</th>\n",
       "      <td id=\"T_e6944_row6_col0\" class=\"data row6 col0\" >0.661</td>\n",
       "      <td id=\"T_e6944_row6_col1\" class=\"data row6 col1\" >When the model claims an instance is negative, it is correct 66.1% of the time; i.e. out of the 168 times the model predicted \"Bad\", it was correct 111 times</td>\n",
       "    </tr>\n",
       "    <tr>\n",
       "      <th id=\"T_e6944_level0_row7\" class=\"row_heading level0 row7\" >F1 Score</th>\n",
       "      <td id=\"T_e6944_row7_col0\" class=\"data row7 col0\" >0.843</td>\n",
       "      <td id=\"T_e6944_row7_col1\" class=\"data row7 col1\" >The F1 score can be interpreted as a weighted average of the precision and recall, where an F1 score reaches its best value at 1 and worst score at 0.</td>\n",
       "    </tr>\n",
       "    <tr>\n",
       "      <th id=\"T_e6944_level0_row8\" class=\"row_heading level0 row8\" >Accuracy</th>\n",
       "      <td id=\"T_e6944_row8_col0\" class=\"data row8 col0\" >0.766</td>\n",
       "      <td id=\"T_e6944_row8_col1\" class=\"data row8 col1\" >76.6% of instances were correctly identified</td>\n",
       "    </tr>\n",
       "    <tr>\n",
       "      <th id=\"T_e6944_level0_row9\" class=\"row_heading level0 row9\" >Error Rate</th>\n",
       "      <td id=\"T_e6944_row9_col0\" class=\"data row9 col0\" >0.234</td>\n",
       "      <td id=\"T_e6944_row9_col1\" class=\"data row9 col1\" >23.4% of instances were incorrectly identified</td>\n",
       "    </tr>\n",
       "    <tr>\n",
       "      <th id=\"T_e6944_level0_row10\" class=\"row_heading level0 row10\" >% Positive</th>\n",
       "      <td id=\"T_e6944_row10_col0\" class=\"data row10 col0\" >0.699</td>\n",
       "      <td id=\"T_e6944_row10_col1\" class=\"data row10 col1\" >69.9% of the data are positive; i.e. out of 800 total observations; 559 are labeled as \"Good\"</td>\n",
       "    </tr>\n",
       "    <tr>\n",
       "      <th id=\"T_e6944_level0_row11\" class=\"row_heading level0 row11\" >Total Observations</th>\n",
       "      <td id=\"T_e6944_row11_col0\" class=\"data row11 col0\" >800</td>\n",
       "      <td id=\"T_e6944_row11_col1\" class=\"data row11 col1\" >There are 800 total observations; i.e. sample size</td>\n",
       "    </tr>\n",
       "  </tbody>\n",
       "</table>\n"
      ],
      "text/plain": [
       "<pandas.io.formats.style.Styler at 0x7fc8d017a220>"
      ]
     },
     "execution_count": 18,
     "metadata": {},
     "output_type": "execute_result"
    }
   ],
   "source": [
    "evaluator.all_metrics_df(return_style=True, round_by=3)"
   ]
  },
  {
   "cell_type": "code",
   "execution_count": 19,
   "id": "bd7e99d7",
   "metadata": {
    "pycharm": {
     "name": "#%%\n"
    }
   },
   "outputs": [],
   "source": [
    "del predicted_scores"
   ]
  },
  {
   "cell_type": "markdown",
   "id": "99a47e94",
   "metadata": {},
   "source": [
    "## Test Set Evaluation"
   ]
  },
  {
   "cell_type": "code",
   "execution_count": 20,
   "id": "82b97c55",
   "metadata": {},
   "outputs": [],
   "source": [
    "predicted_scores = fitted_pipeline.predict_proba(X_test)[:, 1]"
   ]
  },
  {
   "cell_type": "code",
   "execution_count": 21,
   "id": "61c68884",
   "metadata": {},
   "outputs": [
    {
     "data": {
      "text/plain": [
       "array([0.58090596, 0.4811905 , 0.33680934, 0.66523382, 0.93756351,\n",
       "       0.67886115, 0.9233492 , 0.52333656, 0.88671508, 0.86135337])"
      ]
     },
     "execution_count": 21,
     "metadata": {},
     "output_type": "execute_result"
    }
   ],
   "source": [
    "predicted_scores[0:10]"
   ]
  },
  {
   "cell_type": "code",
   "execution_count": 22,
   "id": "648c23c9",
   "metadata": {},
   "outputs": [
    {
     "data": {
      "image/png": "[encoded data removed]",
      "text/plain": [
       "<Figure size 432x288 with 1 Axes>"
      ]
     },
     "metadata": {
      "needs_background": "light"
     },
     "output_type": "display_data"
    }
   ],
   "source": [
    "sns.histplot(predicted_scores)\n",
    "plt.tight_layout()"
   ]
  },
  {
   "cell_type": "code",
   "execution_count": 23,
   "id": "f6ce7733",
   "metadata": {
    "pycharm": {
     "name": "#%%\n"
    }
   },
   "outputs": [
    {
     "data": {
      "text/plain": [
       "0    Not Defaulted\n",
       "1        Defaulted\n",
       "2        Defaulted\n",
       "3        Defaulted\n",
       "4        Defaulted\n",
       "dtype: object"
      ]
     },
     "execution_count": 23,
     "metadata": {},
     "output_type": "execute_result"
    }
   ],
   "source": [
    "y_test_cat = pd.Series(y_test).replace({1: 'Defaulted', 0: 'Not Defaulted'})\n",
    "y_test_cat.head()"
   ]
  },
  {
   "cell_type": "code",
   "execution_count": 24,
   "id": "38f2c315",
   "metadata": {
    "pycharm": {
     "name": "#%%\n"
    }
   },
   "outputs": [
    {
     "data": {
      "image/png": "[encoded data removed]",
      "text/plain": [
       "<Figure size 720x360 with 2 Axes>"
      ]
     },
     "metadata": {
      "needs_background": "light"
     },
     "output_type": "display_data"
    }
   ],
   "source": [
    "axes = sns.displot(\n",
    "    pd.DataFrame({\n",
    "        'prediction': predicted_scores,\n",
    "        'actual': y_test_cat\n",
    "    }),\n",
    "    x='prediction',\n",
    "    col='actual'\n",
    ")\n",
    "for axis in axes.axes.flat:\n",
    "    axis.axvline(x=0.5, ymin=0, ymax=100, color='red')\n",
    "plt.tight_layout()"
   ]
  },
  {
   "cell_type": "code",
   "execution_count": 25,
   "id": "5d3b9658",
   "metadata": {
    "pycharm": {
     "name": "#%%\n"
    }
   },
   "outputs": [],
   "source": [
    "del y_test_cat\n",
    "del axes"
   ]
  },
  {
   "cell_type": "code",
   "execution_count": 26,
   "id": "4b64e733",
   "metadata": {},
   "outputs": [],
   "source": [
    "evaluator = hlp.sklearn_eval.TwoClassEvaluator(\n",
    "    actual_values=y_test,\n",
    "    predicted_scores=predicted_scores,\n",
    "    labels=('Bad', 'Good'),\n",
    "    score_threshold=0.5\n",
    ")"
   ]
  },
  {
   "cell_type": "code",
   "execution_count": 27,
   "id": "a17343a2",
   "metadata": {},
   "outputs": [
    {
     "data": {
      "image/png": "[encoded data removed]",
      "text/plain": [
       "<Figure size 432x288 with 2 Axes>"
      ]
     },
     "metadata": {
      "needs_background": "light"
     },
     "output_type": "display_data"
    }
   ],
   "source": [
    "evaluator.plot_confusion_matrix()"
   ]
  },
  {
   "cell_type": "code",
   "execution_count": 28,
   "id": "9516f3bb",
   "metadata": {},
   "outputs": [
    {
     "data": {
      "text/html": [
       "<style type=\"text/css\">\n",
       "#T_9c61d_row0_col0 {\n",
       "  width: 10em;\n",
       "  height: 80%;\n",
       "  background: linear-gradient(90deg,#1AAF54 78.9%, transparent 78.9%);\n",
       "}\n",
       "#T_9c61d_row1_col0 {\n",
       "  width: 10em;\n",
       "  height: 80%;\n",
       "  background: linear-gradient(90deg,#1AAF54 88.7%, transparent 88.7%);\n",
       "}\n",
       "#T_9c61d_row2_col0 {\n",
       "  width: 10em;\n",
       "  height: 80%;\n",
       "  background: linear-gradient(90deg,#1AAF54 49.2%, transparent 49.2%);\n",
       "}\n",
       "#T_9c61d_row3_col0 {\n",
       "  width: 10em;\n",
       "  height: 80%;\n",
       "  background: linear-gradient(90deg,#1AAF54 50.8%, transparent 50.8%);\n",
       "  width: 10em;\n",
       "  height: 80%;\n",
       "  background: linear-gradient(90deg,#FF420E 50.8%, transparent 50.8%);\n",
       "}\n",
       "#T_9c61d_row4_col0 {\n",
       "  width: 10em;\n",
       "  height: 80%;\n",
       "  background: linear-gradient(90deg,#1AAF54 11.3%, transparent 11.3%);\n",
       "  width: 10em;\n",
       "  height: 80%;\n",
       "  background: linear-gradient(90deg,#FF420E 11.3%, transparent 11.3%);\n",
       "}\n",
       "#T_9c61d_row5_col0 {\n",
       "  width: 10em;\n",
       "  height: 80%;\n",
       "  background: linear-gradient(90deg,#1AAF54 80.6%, transparent 80.6%);\n",
       "}\n",
       "#T_9c61d_row6_col0 {\n",
       "  width: 10em;\n",
       "  height: 80%;\n",
       "  background: linear-gradient(90deg,#1AAF54 64.4%, transparent 64.4%);\n",
       "}\n",
       "#T_9c61d_row7_col0 {\n",
       "  width: 10em;\n",
       "  height: 80%;\n",
       "  background: linear-gradient(90deg,#1AAF54 84.5%, transparent 84.5%);\n",
       "}\n",
       "#T_9c61d_row8_col0 {\n",
       "  width: 10em;\n",
       "  height: 80%;\n",
       "  background: linear-gradient(90deg,#1AAF54 77.0%, transparent 77.0%);\n",
       "  width: 10em;\n",
       "  height: 80%;\n",
       "  background: linear-gradient(90deg,#B4B7B9 77.0%, transparent 77.0%);\n",
       "}\n",
       "#T_9c61d_row9_col0 {\n",
       "  width: 10em;\n",
       "  height: 80%;\n",
       "  background: linear-gradient(90deg,#1AAF54 23.0%, transparent 23.0%);\n",
       "  width: 10em;\n",
       "  height: 80%;\n",
       "  background: linear-gradient(90deg,#B4B7B9 23.0%, transparent 23.0%);\n",
       "}\n",
       "#T_9c61d_row10_col0 {\n",
       "  width: 10em;\n",
       "  height: 80%;\n",
       "  background: linear-gradient(90deg,#1AAF54 70.5%, transparent 70.5%);\n",
       "  width: 10em;\n",
       "  height: 80%;\n",
       "  background: linear-gradient(90deg,#B4B7B9 70.5%, transparent 70.5%);\n",
       "}\n",
       "</style>\n",
       "<table id=\"T_9c61d_\">\n",
       "  <thead>\n",
       "    <tr>\n",
       "      <th class=\"blank level0\" >&nbsp;</th>\n",
       "      <th class=\"col_heading level0 col0\" >Scores</th>\n",
       "      <th class=\"col_heading level0 col1\" >Details</th>\n",
       "    </tr>\n",
       "  </thead>\n",
       "  <tbody>\n",
       "    <tr>\n",
       "      <th id=\"T_9c61d_level0_row0\" class=\"row_heading level0 row0\" >AUC</th>\n",
       "      <td id=\"T_9c61d_row0_col0\" class=\"data row0 col0\" >0.789</td>\n",
       "      <td id=\"T_9c61d_row0_col1\" class=\"data row0 col1\" >Area under the ROC curve (true pos. rate vs false pos. rate); ranges from 0.5 (purely random classifier) to 1.0 (perfect classifier)</td>\n",
       "    </tr>\n",
       "    <tr>\n",
       "      <th id=\"T_9c61d_level0_row1\" class=\"row_heading level0 row1\" >True Positive Rate</th>\n",
       "      <td id=\"T_9c61d_row1_col0\" class=\"data row1 col0\" >0.887</td>\n",
       "      <td id=\"T_9c61d_row1_col1\" class=\"data row1 col1\" >88.7% of positive instances were correctly identified.; i.e. 125 \"Good\" labels were correctly identified out of 141 instances; a.k.a Sensitivity/Recall</td>\n",
       "    </tr>\n",
       "    <tr>\n",
       "      <th id=\"T_9c61d_level0_row2\" class=\"row_heading level0 row2\" >True Negative Rate</th>\n",
       "      <td id=\"T_9c61d_row2_col0\" class=\"data row2 col0\" >0.492</td>\n",
       "      <td id=\"T_9c61d_row2_col1\" class=\"data row2 col1\" >49.2% of negative instances were correctly identified.; i.e. 29 \"Bad\" labels were correctly identified out of 59 instances</td>\n",
       "    </tr>\n",
       "    <tr>\n",
       "      <th id=\"T_9c61d_level0_row3\" class=\"row_heading level0 row3\" >False Positive Rate</th>\n",
       "      <td id=\"T_9c61d_row3_col0\" class=\"data row3 col0\" >0.508</td>\n",
       "      <td id=\"T_9c61d_row3_col1\" class=\"data row3 col1\" >50.8% of negative instances were incorrectly identified as positive; i.e. 30 \"Bad\" labels were incorrectly identified as \"Good\", out of 59 instances</td>\n",
       "    </tr>\n",
       "    <tr>\n",
       "      <th id=\"T_9c61d_level0_row4\" class=\"row_heading level0 row4\" >False Negative Rate</th>\n",
       "      <td id=\"T_9c61d_row4_col0\" class=\"data row4 col0\" >0.113</td>\n",
       "      <td id=\"T_9c61d_row4_col1\" class=\"data row4 col1\" >11.3% of positive instances were incorrectly identified as negative; i.e. 16 \"Good\" labels were incorrectly identified as \"Bad\", out of 141 instances</td>\n",
       "    </tr>\n",
       "    <tr>\n",
       "      <th id=\"T_9c61d_level0_row5\" class=\"row_heading level0 row5\" >Positive Predictive Value</th>\n",
       "      <td id=\"T_9c61d_row5_col0\" class=\"data row5 col0\" >0.806</td>\n",
       "      <td id=\"T_9c61d_row5_col1\" class=\"data row5 col1\" >When the model claims an instance is positive, it is correct 80.6% of the time; i.e. out of the 155 times the model predicted \"Good\", it was correct 125 times; a.k.a precision</td>\n",
       "    </tr>\n",
       "    <tr>\n",
       "      <th id=\"T_9c61d_level0_row6\" class=\"row_heading level0 row6\" >Negative Predictive Value</th>\n",
       "      <td id=\"T_9c61d_row6_col0\" class=\"data row6 col0\" >0.644</td>\n",
       "      <td id=\"T_9c61d_row6_col1\" class=\"data row6 col1\" >When the model claims an instance is negative, it is correct 64.4% of the time; i.e. out of the 45 times the model predicted \"Bad\", it was correct 29 times</td>\n",
       "    </tr>\n",
       "    <tr>\n",
       "      <th id=\"T_9c61d_level0_row7\" class=\"row_heading level0 row7\" >F1 Score</th>\n",
       "      <td id=\"T_9c61d_row7_col0\" class=\"data row7 col0\" >0.845</td>\n",
       "      <td id=\"T_9c61d_row7_col1\" class=\"data row7 col1\" >The F1 score can be interpreted as a weighted average of the precision and recall, where an F1 score reaches its best value at 1 and worst score at 0.</td>\n",
       "    </tr>\n",
       "    <tr>\n",
       "      <th id=\"T_9c61d_level0_row8\" class=\"row_heading level0 row8\" >Accuracy</th>\n",
       "      <td id=\"T_9c61d_row8_col0\" class=\"data row8 col0\" >0.770</td>\n",
       "      <td id=\"T_9c61d_row8_col1\" class=\"data row8 col1\" >77.0% of instances were correctly identified</td>\n",
       "    </tr>\n",
       "    <tr>\n",
       "      <th id=\"T_9c61d_level0_row9\" class=\"row_heading level0 row9\" >Error Rate</th>\n",
       "      <td id=\"T_9c61d_row9_col0\" class=\"data row9 col0\" >0.230</td>\n",
       "      <td id=\"T_9c61d_row9_col1\" class=\"data row9 col1\" >23.0% of instances were incorrectly identified</td>\n",
       "    </tr>\n",
       "    <tr>\n",
       "      <th id=\"T_9c61d_level0_row10\" class=\"row_heading level0 row10\" >% Positive</th>\n",
       "      <td id=\"T_9c61d_row10_col0\" class=\"data row10 col0\" >0.705</td>\n",
       "      <td id=\"T_9c61d_row10_col1\" class=\"data row10 col1\" >70.5% of the data are positive; i.e. out of 200 total observations; 141 are labeled as \"Good\"</td>\n",
       "    </tr>\n",
       "    <tr>\n",
       "      <th id=\"T_9c61d_level0_row11\" class=\"row_heading level0 row11\" >Total Observations</th>\n",
       "      <td id=\"T_9c61d_row11_col0\" class=\"data row11 col0\" >200</td>\n",
       "      <td id=\"T_9c61d_row11_col1\" class=\"data row11 col1\" >There are 200 total observations; i.e. sample size</td>\n",
       "    </tr>\n",
       "  </tbody>\n",
       "</table>\n"
      ],
      "text/plain": [
       "<pandas.io.formats.style.Styler at 0x7fc8f18d0b80>"
      ]
     },
     "execution_count": 28,
     "metadata": {},
     "output_type": "execute_result"
    }
   ],
   "source": [
    "evaluator.all_metrics_df(return_style=True, round_by=3)"
   ]
  },
  {
   "cell_type": "markdown",
   "id": "09a3204d",
   "metadata": {},
   "source": [
    "Compare results against scores if we predicted all `Good`"
   ]
  },
  {
   "cell_type": "code",
   "execution_count": 29,
   "id": "59c27052",
   "metadata": {},
   "outputs": [],
   "source": [
    "dummy_predicted_scores = np.array([0.99] * len(predicted_scores))"
   ]
  },
  {
   "cell_type": "code",
   "execution_count": 30,
   "id": "f3278fdd",
   "metadata": {},
   "outputs": [
    {
     "data": {
      "text/html": [
       "<style type=\"text/css\">\n",
       "#T_ac8fb_row0_col0 {\n",
       "  width: 10em;\n",
       "  height: 80%;\n",
       "  background: linear-gradient(90deg,#1AAF54 50.0%, transparent 50.0%);\n",
       "}\n",
       "#T_ac8fb_row1_col0 {\n",
       "  width: 10em;\n",
       "  height: 80%;\n",
       "  background: linear-gradient(90deg,#1AAF54 100.0%, transparent 100.0%);\n",
       "}\n",
       "#T_ac8fb_row2_col0, #T_ac8fb_row6_col0 {\n",
       "  width: 10em;\n",
       "  height: 80%;\n",
       "}\n",
       "#T_ac8fb_row3_col0 {\n",
       "  width: 10em;\n",
       "  height: 80%;\n",
       "  background: linear-gradient(90deg,#1AAF54 100.0%, transparent 100.0%);\n",
       "  width: 10em;\n",
       "  height: 80%;\n",
       "  background: linear-gradient(90deg,#FF420E 100.0%, transparent 100.0%);\n",
       "}\n",
       "#T_ac8fb_row4_col0 {\n",
       "  width: 10em;\n",
       "  height: 80%;\n",
       "  width: 10em;\n",
       "  height: 80%;\n",
       "}\n",
       "#T_ac8fb_row5_col0 {\n",
       "  width: 10em;\n",
       "  height: 80%;\n",
       "  background: linear-gradient(90deg,#1AAF54 70.5%, transparent 70.5%);\n",
       "}\n",
       "#T_ac8fb_row7_col0 {\n",
       "  width: 10em;\n",
       "  height: 80%;\n",
       "  background: linear-gradient(90deg,#1AAF54 82.7%, transparent 82.7%);\n",
       "}\n",
       "#T_ac8fb_row8_col0, #T_ac8fb_row10_col0 {\n",
       "  width: 10em;\n",
       "  height: 80%;\n",
       "  background: linear-gradient(90deg,#1AAF54 70.5%, transparent 70.5%);\n",
       "  width: 10em;\n",
       "  height: 80%;\n",
       "  background: linear-gradient(90deg,#B4B7B9 70.5%, transparent 70.5%);\n",
       "}\n",
       "#T_ac8fb_row9_col0 {\n",
       "  width: 10em;\n",
       "  height: 80%;\n",
       "  background: linear-gradient(90deg,#1AAF54 29.5%, transparent 29.5%);\n",
       "  width: 10em;\n",
       "  height: 80%;\n",
       "  background: linear-gradient(90deg,#B4B7B9 29.5%, transparent 29.5%);\n",
       "}\n",
       "</style>\n",
       "<table id=\"T_ac8fb_\">\n",
       "  <thead>\n",
       "    <tr>\n",
       "      <th class=\"blank level0\" >&nbsp;</th>\n",
       "      <th class=\"col_heading level0 col0\" >Scores</th>\n",
       "      <th class=\"col_heading level0 col1\" >Details</th>\n",
       "    </tr>\n",
       "  </thead>\n",
       "  <tbody>\n",
       "    <tr>\n",
       "      <th id=\"T_ac8fb_level0_row0\" class=\"row_heading level0 row0\" >AUC</th>\n",
       "      <td id=\"T_ac8fb_row0_col0\" class=\"data row0 col0\" >0.500</td>\n",
       "      <td id=\"T_ac8fb_row0_col1\" class=\"data row0 col1\" >Area under the ROC curve (true pos. rate vs false pos. rate); ranges from 0.5 (purely random classifier) to 1.0 (perfect classifier)</td>\n",
       "    </tr>\n",
       "    <tr>\n",
       "      <th id=\"T_ac8fb_level0_row1\" class=\"row_heading level0 row1\" >True Positive Rate</th>\n",
       "      <td id=\"T_ac8fb_row1_col0\" class=\"data row1 col0\" >1.000</td>\n",
       "      <td id=\"T_ac8fb_row1_col1\" class=\"data row1 col1\" >100.0% of positive instances were correctly identified.; i.e. 141 \"Good\" labels were correctly identified out of 141 instances; a.k.a Sensitivity/Recall</td>\n",
       "    </tr>\n",
       "    <tr>\n",
       "      <th id=\"T_ac8fb_level0_row2\" class=\"row_heading level0 row2\" >True Negative Rate</th>\n",
       "      <td id=\"T_ac8fb_row2_col0\" class=\"data row2 col0\" >0.000</td>\n",
       "      <td id=\"T_ac8fb_row2_col1\" class=\"data row2 col1\" >0.0% of negative instances were correctly identified.; i.e. 0 \"Bad\" labels were correctly identified out of 59 instances</td>\n",
       "    </tr>\n",
       "    <tr>\n",
       "      <th id=\"T_ac8fb_level0_row3\" class=\"row_heading level0 row3\" >False Positive Rate</th>\n",
       "      <td id=\"T_ac8fb_row3_col0\" class=\"data row3 col0\" >1.000</td>\n",
       "      <td id=\"T_ac8fb_row3_col1\" class=\"data row3 col1\" >100.0% of negative instances were incorrectly identified as positive; i.e. 59 \"Bad\" labels were incorrectly identified as \"Good\", out of 59 instances</td>\n",
       "    </tr>\n",
       "    <tr>\n",
       "      <th id=\"T_ac8fb_level0_row4\" class=\"row_heading level0 row4\" >False Negative Rate</th>\n",
       "      <td id=\"T_ac8fb_row4_col0\" class=\"data row4 col0\" >0.000</td>\n",
       "      <td id=\"T_ac8fb_row4_col1\" class=\"data row4 col1\" >0.0% of positive instances were incorrectly identified as negative; i.e. 0 \"Good\" labels were incorrectly identified as \"Bad\", out of 141 instances</td>\n",
       "    </tr>\n",
       "    <tr>\n",
       "      <th id=\"T_ac8fb_level0_row5\" class=\"row_heading level0 row5\" >Positive Predictive Value</th>\n",
       "      <td id=\"T_ac8fb_row5_col0\" class=\"data row5 col0\" >0.705</td>\n",
       "      <td id=\"T_ac8fb_row5_col1\" class=\"data row5 col1\" >When the model claims an instance is positive, it is correct 70.5% of the time; i.e. out of the 200 times the model predicted \"Good\", it was correct 141 times; a.k.a precision</td>\n",
       "    </tr>\n",
       "    <tr>\n",
       "      <th id=\"T_ac8fb_level0_row6\" class=\"row_heading level0 row6\" >Negative Predictive Value</th>\n",
       "      <td id=\"T_ac8fb_row6_col0\" class=\"data row6 col0\" >0.000</td>\n",
       "      <td id=\"T_ac8fb_row6_col1\" class=\"data row6 col1\" >When the model claims an instance is negative, it is correct 0.0% of the time; i.e. out of the 0 times the model predicted \"Bad\", it was correct 0 times</td>\n",
       "    </tr>\n",
       "    <tr>\n",
       "      <th id=\"T_ac8fb_level0_row7\" class=\"row_heading level0 row7\" >F1 Score</th>\n",
       "      <td id=\"T_ac8fb_row7_col0\" class=\"data row7 col0\" >0.827</td>\n",
       "      <td id=\"T_ac8fb_row7_col1\" class=\"data row7 col1\" >The F1 score can be interpreted as a weighted average of the precision and recall, where an F1 score reaches its best value at 1 and worst score at 0.</td>\n",
       "    </tr>\n",
       "    <tr>\n",
       "      <th id=\"T_ac8fb_level0_row8\" class=\"row_heading level0 row8\" >Accuracy</th>\n",
       "      <td id=\"T_ac8fb_row8_col0\" class=\"data row8 col0\" >0.705</td>\n",
       "      <td id=\"T_ac8fb_row8_col1\" class=\"data row8 col1\" >70.5% of instances were correctly identified</td>\n",
       "    </tr>\n",
       "    <tr>\n",
       "      <th id=\"T_ac8fb_level0_row9\" class=\"row_heading level0 row9\" >Error Rate</th>\n",
       "      <td id=\"T_ac8fb_row9_col0\" class=\"data row9 col0\" >0.295</td>\n",
       "      <td id=\"T_ac8fb_row9_col1\" class=\"data row9 col1\" >29.5% of instances were incorrectly identified</td>\n",
       "    </tr>\n",
       "    <tr>\n",
       "      <th id=\"T_ac8fb_level0_row10\" class=\"row_heading level0 row10\" >% Positive</th>\n",
       "      <td id=\"T_ac8fb_row10_col0\" class=\"data row10 col0\" >0.705</td>\n",
       "      <td id=\"T_ac8fb_row10_col1\" class=\"data row10 col1\" >70.5% of the data are positive; i.e. out of 200 total observations; 141 are labeled as \"Good\"</td>\n",
       "    </tr>\n",
       "    <tr>\n",
       "      <th id=\"T_ac8fb_level0_row11\" class=\"row_heading level0 row11\" >Total Observations</th>\n",
       "      <td id=\"T_ac8fb_row11_col0\" class=\"data row11 col0\" >200</td>\n",
       "      <td id=\"T_ac8fb_row11_col1\" class=\"data row11 col1\" >There are 200 total observations; i.e. sample size</td>\n",
       "    </tr>\n",
       "  </tbody>\n",
       "</table>\n"
      ],
      "text/plain": [
       "<pandas.io.formats.style.Styler at 0x7fc8c0363a30>"
      ]
     },
     "execution_count": 30,
     "metadata": {},
     "output_type": "execute_result"
    }
   ],
   "source": [
    "dummy_eval = hlp.sklearn_eval.TwoClassEvaluator(\n",
    "    actual_values=y_test,\n",
    "    predicted_scores=dummy_predicted_scores,\n",
    "    labels=('Bad', 'Good'),\n",
    "    score_threshold=0.5\n",
    ")\n",
    "dummy_eval.all_metrics_df(return_style=True, round_by=3)"
   ]
  },
  {
   "cell_type": "code",
   "execution_count": 31,
   "id": "cc60bc2c",
   "metadata": {},
   "outputs": [
    {
     "data": {
      "image/png": "[encoded data removed]",
      "text/plain": [
       "<Figure size 720x444.984 with 1 Axes>"
      ]
     },
     "metadata": {
      "needs_background": "light"
     },
     "output_type": "display_data"
    }
   ],
   "source": [
    "evaluator.plot_auc_curve()\n",
    "plt.grid()"
   ]
  },
  {
   "cell_type": "code",
   "execution_count": 32,
   "id": "44c66aaf",
   "metadata": {},
   "outputs": [
    {
     "data": {
      "image/png": "[encoded data removed]",
      "text/plain": [
       "<Figure size 720x444.984 with 1 Axes>"
      ]
     },
     "metadata": {
      "needs_background": "light"
     },
     "output_type": "display_data"
    }
   ],
   "source": [
    "evaluator.plot_threshold_curves()\n",
    "plt.grid()"
   ]
  },
  {
   "cell_type": "code",
   "execution_count": 33,
   "id": "08f1bf81",
   "metadata": {},
   "outputs": [
    {
     "data": {
      "image/png": "[encoded data removed]",
      "text/plain": [
       "<Figure size 720x444.984 with 1 Axes>"
      ]
     },
     "metadata": {
      "needs_background": "light"
     },
     "output_type": "display_data"
    }
   ],
   "source": [
    "evaluator.plot_precision_recall_tradeoff(score_threshold_range=(0.4, 0.95))\n",
    "plt.grid()"
   ]
  },
  {
   "cell_type": "code",
   "execution_count": 34,
   "id": "74863f55",
   "metadata": {},
   "outputs": [
    {
     "data": {
      "text/html": [
       "<style type=\"text/css\">\n",
       "#T_5fc34_row0_col3 {\n",
       "  width: 10em;\n",
       "  height: 80%;\n",
       "  background: linear-gradient(90deg,#7AA9CF 7.0%, transparent 7.0%);\n",
       "}\n",
       "#T_5fc34_row0_col4, #T_5fc34_row19_col3 {\n",
       "  width: 10em;\n",
       "  height: 80%;\n",
       "  background: linear-gradient(90deg,#7AA9CF 100.0%, transparent 100.0%);\n",
       "}\n",
       "#T_5fc34_row1_col3 {\n",
       "  width: 10em;\n",
       "  height: 80%;\n",
       "  background: linear-gradient(90deg,#7AA9CF 13.0%, transparent 13.0%);\n",
       "}\n",
       "#T_5fc34_row1_col4, #T_5fc34_row3_col4 {\n",
       "  width: 10em;\n",
       "  height: 80%;\n",
       "  background: linear-gradient(90deg,#7AA9CF 83.3%, transparent 83.3%);\n",
       "}\n",
       "#T_5fc34_row2_col3 {\n",
       "  width: 10em;\n",
       "  height: 80%;\n",
       "  background: linear-gradient(90deg,#7AA9CF 21.0%, transparent 21.0%);\n",
       "}\n",
       "#T_5fc34_row2_col4 {\n",
       "  width: 10em;\n",
       "  height: 80%;\n",
       "  background: linear-gradient(90deg,#7AA9CF 88.1%, transparent 88.1%);\n",
       "}\n",
       "#T_5fc34_row3_col3 {\n",
       "  width: 10em;\n",
       "  height: 80%;\n",
       "  background: linear-gradient(90deg,#7AA9CF 27.0%, transparent 27.0%);\n",
       "}\n",
       "#T_5fc34_row4_col3 {\n",
       "  width: 10em;\n",
       "  height: 80%;\n",
       "  background: linear-gradient(90deg,#7AA9CF 33.0%, transparent 33.0%);\n",
       "}\n",
       "#T_5fc34_row4_col4 {\n",
       "  width: 10em;\n",
       "  height: 80%;\n",
       "  background: linear-gradient(90deg,#7AA9CF 71.4%, transparent 71.4%);\n",
       "}\n",
       "#T_5fc34_row5_col3 {\n",
       "  width: 10em;\n",
       "  height: 80%;\n",
       "  background: linear-gradient(90deg,#7AA9CF 38.0%, transparent 38.0%);\n",
       "}\n",
       "#T_5fc34_row5_col4, #T_5fc34_row6_col4 {\n",
       "  width: 10em;\n",
       "  height: 80%;\n",
       "  background: linear-gradient(90deg,#7AA9CF 66.7%, transparent 66.7%);\n",
       "}\n",
       "#T_5fc34_row6_col3 {\n",
       "  width: 10em;\n",
       "  height: 80%;\n",
       "  background: linear-gradient(90deg,#7AA9CF 45.0%, transparent 45.0%);\n",
       "}\n",
       "#T_5fc34_row7_col3 {\n",
       "  width: 10em;\n",
       "  height: 80%;\n",
       "  background: linear-gradient(90deg,#7AA9CF 50.0%, transparent 50.0%);\n",
       "}\n",
       "#T_5fc34_row7_col4, #T_5fc34_row11_col4 {\n",
       "  width: 10em;\n",
       "  height: 80%;\n",
       "  background: linear-gradient(90deg,#7AA9CF 57.1%, transparent 57.1%);\n",
       "}\n",
       "#T_5fc34_row8_col3 {\n",
       "  width: 10em;\n",
       "  height: 80%;\n",
       "  background: linear-gradient(90deg,#7AA9CF 56.0%, transparent 56.0%);\n",
       "}\n",
       "#T_5fc34_row8_col4, #T_5fc34_row9_col4 {\n",
       "  width: 10em;\n",
       "  height: 80%;\n",
       "  background: linear-gradient(90deg,#7AA9CF 59.5%, transparent 59.5%);\n",
       "}\n",
       "#T_5fc34_row9_col3 {\n",
       "  width: 10em;\n",
       "  height: 80%;\n",
       "  background: linear-gradient(90deg,#7AA9CF 62.0%, transparent 62.0%);\n",
       "}\n",
       "#T_5fc34_row10_col3 {\n",
       "  width: 10em;\n",
       "  height: 80%;\n",
       "  background: linear-gradient(90deg,#7AA9CF 67.0%, transparent 67.0%);\n",
       "}\n",
       "#T_5fc34_row10_col4, #T_5fc34_row12_col4 {\n",
       "  width: 10em;\n",
       "  height: 80%;\n",
       "  background: linear-gradient(90deg,#7AA9CF 54.8%, transparent 54.8%);\n",
       "}\n",
       "#T_5fc34_row11_col3 {\n",
       "  width: 10em;\n",
       "  height: 80%;\n",
       "  background: linear-gradient(90deg,#7AA9CF 74.0%, transparent 74.0%);\n",
       "}\n",
       "#T_5fc34_row12_col3 {\n",
       "  width: 10em;\n",
       "  height: 80%;\n",
       "  background: linear-gradient(90deg,#7AA9CF 80.0%, transparent 80.0%);\n",
       "}\n",
       "#T_5fc34_row13_col3 {\n",
       "  width: 10em;\n",
       "  height: 80%;\n",
       "  background: linear-gradient(90deg,#7AA9CF 83.0%, transparent 83.0%);\n",
       "}\n",
       "#T_5fc34_row13_col4 {\n",
       "  width: 10em;\n",
       "  height: 80%;\n",
       "  background: linear-gradient(90deg,#7AA9CF 45.2%, transparent 45.2%);\n",
       "}\n",
       "#T_5fc34_row14_col3 {\n",
       "  width: 10em;\n",
       "  height: 80%;\n",
       "  background: linear-gradient(90deg,#7AA9CF 87.0%, transparent 87.0%);\n",
       "}\n",
       "#T_5fc34_row14_col4 {\n",
       "  width: 10em;\n",
       "  height: 80%;\n",
       "  background: linear-gradient(90deg,#7AA9CF 35.7%, transparent 35.7%);\n",
       "}\n",
       "#T_5fc34_row15_col3 {\n",
       "  width: 10em;\n",
       "  height: 80%;\n",
       "  background: linear-gradient(90deg,#7AA9CF 90.0%, transparent 90.0%);\n",
       "}\n",
       "#T_5fc34_row15_col4 {\n",
       "  width: 10em;\n",
       "  height: 80%;\n",
       "  background: linear-gradient(90deg,#7AA9CF 31.0%, transparent 31.0%);\n",
       "}\n",
       "#T_5fc34_row16_col3 {\n",
       "  width: 10em;\n",
       "  height: 80%;\n",
       "  background: linear-gradient(90deg,#7AA9CF 94.0%, transparent 94.0%);\n",
       "}\n",
       "#T_5fc34_row16_col4 {\n",
       "  width: 10em;\n",
       "  height: 80%;\n",
       "  background: linear-gradient(90deg,#7AA9CF 23.8%, transparent 23.8%);\n",
       "}\n",
       "#T_5fc34_row17_col3 {\n",
       "  width: 10em;\n",
       "  height: 80%;\n",
       "  background: linear-gradient(90deg,#7AA9CF 95.0%, transparent 95.0%);\n",
       "}\n",
       "#T_5fc34_row17_col4 {\n",
       "  width: 10em;\n",
       "  height: 80%;\n",
       "  background: linear-gradient(90deg,#7AA9CF 14.3%, transparent 14.3%);\n",
       "}\n",
       "#T_5fc34_row18_col3 {\n",
       "  width: 10em;\n",
       "  height: 80%;\n",
       "  background: linear-gradient(90deg,#7AA9CF 99.0%, transparent 99.0%);\n",
       "}\n",
       "#T_5fc34_row18_col4 {\n",
       "  width: 10em;\n",
       "  height: 80%;\n",
       "  background: linear-gradient(90deg,#7AA9CF 9.5%, transparent 9.5%);\n",
       "}\n",
       "#T_5fc34_row19_col4 {\n",
       "  width: 10em;\n",
       "  height: 80%;\n",
       "}\n",
       "</style>\n",
       "<table id=\"T_5fc34_\">\n",
       "  <thead>\n",
       "    <tr>\n",
       "      <th class=\"blank level0\" >&nbsp;</th>\n",
       "      <th class=\"col_heading level0 col0\" ># of Obs.</th>\n",
       "      <th class=\"col_heading level0 col1\" ># of Pos. Events</th>\n",
       "      <th class=\"col_heading level0 col2\" >Cumul. Pos. Events</th>\n",
       "      <th class=\"col_heading level0 col3\" >Gain</th>\n",
       "      <th class=\"col_heading level0 col4\" >Lift</th>\n",
       "    </tr>\n",
       "    <tr>\n",
       "      <th class=\"index_name level0\" >Percentile</th>\n",
       "      <th class=\"blank col0\" >&nbsp;</th>\n",
       "      <th class=\"blank col1\" >&nbsp;</th>\n",
       "      <th class=\"blank col2\" >&nbsp;</th>\n",
       "      <th class=\"blank col3\" >&nbsp;</th>\n",
       "      <th class=\"blank col4\" >&nbsp;</th>\n",
       "    </tr>\n",
       "  </thead>\n",
       "  <tbody>\n",
       "    <tr>\n",
       "      <th id=\"T_5fc34_level0_row0\" class=\"row_heading level0 row0\" >5</th>\n",
       "      <td id=\"T_5fc34_row0_col0\" class=\"data row0 col0\" >10</td>\n",
       "      <td id=\"T_5fc34_row0_col1\" class=\"data row0 col1\" >10</td>\n",
       "      <td id=\"T_5fc34_row0_col2\" class=\"data row0 col2\" >10</td>\n",
       "      <td id=\"T_5fc34_row0_col3\" class=\"data row0 col3\" >0.07</td>\n",
       "      <td id=\"T_5fc34_row0_col4\" class=\"data row0 col4\" >1.42</td>\n",
       "    </tr>\n",
       "    <tr>\n",
       "      <th id=\"T_5fc34_level0_row1\" class=\"row_heading level0 row1\" >10</th>\n",
       "      <td id=\"T_5fc34_row1_col0\" class=\"data row1 col0\" >10</td>\n",
       "      <td id=\"T_5fc34_row1_col1\" class=\"data row1 col1\" >9</td>\n",
       "      <td id=\"T_5fc34_row1_col2\" class=\"data row1 col2\" >19</td>\n",
       "      <td id=\"T_5fc34_row1_col3\" class=\"data row1 col3\" >0.13</td>\n",
       "      <td id=\"T_5fc34_row1_col4\" class=\"data row1 col4\" >1.35</td>\n",
       "    </tr>\n",
       "    <tr>\n",
       "      <th id=\"T_5fc34_level0_row2\" class=\"row_heading level0 row2\" >15</th>\n",
       "      <td id=\"T_5fc34_row2_col0\" class=\"data row2 col0\" >10</td>\n",
       "      <td id=\"T_5fc34_row2_col1\" class=\"data row2 col1\" >10</td>\n",
       "      <td id=\"T_5fc34_row2_col2\" class=\"data row2 col2\" >29</td>\n",
       "      <td id=\"T_5fc34_row2_col3\" class=\"data row2 col3\" >0.21</td>\n",
       "      <td id=\"T_5fc34_row2_col4\" class=\"data row2 col4\" >1.37</td>\n",
       "    </tr>\n",
       "    <tr>\n",
       "      <th id=\"T_5fc34_level0_row3\" class=\"row_heading level0 row3\" >20</th>\n",
       "      <td id=\"T_5fc34_row3_col0\" class=\"data row3 col0\" >10</td>\n",
       "      <td id=\"T_5fc34_row3_col1\" class=\"data row3 col1\" >9</td>\n",
       "      <td id=\"T_5fc34_row3_col2\" class=\"data row3 col2\" >38</td>\n",
       "      <td id=\"T_5fc34_row3_col3\" class=\"data row3 col3\" >0.27</td>\n",
       "      <td id=\"T_5fc34_row3_col4\" class=\"data row3 col4\" >1.35</td>\n",
       "    </tr>\n",
       "    <tr>\n",
       "      <th id=\"T_5fc34_level0_row4\" class=\"row_heading level0 row4\" >25</th>\n",
       "      <td id=\"T_5fc34_row4_col0\" class=\"data row4 col0\" >10</td>\n",
       "      <td id=\"T_5fc34_row4_col1\" class=\"data row4 col1\" >8</td>\n",
       "      <td id=\"T_5fc34_row4_col2\" class=\"data row4 col2\" >46</td>\n",
       "      <td id=\"T_5fc34_row4_col3\" class=\"data row4 col3\" >0.33</td>\n",
       "      <td id=\"T_5fc34_row4_col4\" class=\"data row4 col4\" >1.30</td>\n",
       "    </tr>\n",
       "    <tr>\n",
       "      <th id=\"T_5fc34_level0_row5\" class=\"row_heading level0 row5\" >30</th>\n",
       "      <td id=\"T_5fc34_row5_col0\" class=\"data row5 col0\" >10</td>\n",
       "      <td id=\"T_5fc34_row5_col1\" class=\"data row5 col1\" >8</td>\n",
       "      <td id=\"T_5fc34_row5_col2\" class=\"data row5 col2\" >54</td>\n",
       "      <td id=\"T_5fc34_row5_col3\" class=\"data row5 col3\" >0.38</td>\n",
       "      <td id=\"T_5fc34_row5_col4\" class=\"data row5 col4\" >1.28</td>\n",
       "    </tr>\n",
       "    <tr>\n",
       "      <th id=\"T_5fc34_level0_row6\" class=\"row_heading level0 row6\" >35</th>\n",
       "      <td id=\"T_5fc34_row6_col0\" class=\"data row6 col0\" >10</td>\n",
       "      <td id=\"T_5fc34_row6_col1\" class=\"data row6 col1\" >9</td>\n",
       "      <td id=\"T_5fc34_row6_col2\" class=\"data row6 col2\" >63</td>\n",
       "      <td id=\"T_5fc34_row6_col3\" class=\"data row6 col3\" >0.45</td>\n",
       "      <td id=\"T_5fc34_row6_col4\" class=\"data row6 col4\" >1.28</td>\n",
       "    </tr>\n",
       "    <tr>\n",
       "      <th id=\"T_5fc34_level0_row7\" class=\"row_heading level0 row7\" >40</th>\n",
       "      <td id=\"T_5fc34_row7_col0\" class=\"data row7 col0\" >10</td>\n",
       "      <td id=\"T_5fc34_row7_col1\" class=\"data row7 col1\" >7</td>\n",
       "      <td id=\"T_5fc34_row7_col2\" class=\"data row7 col2\" >70</td>\n",
       "      <td id=\"T_5fc34_row7_col3\" class=\"data row7 col3\" >0.50</td>\n",
       "      <td id=\"T_5fc34_row7_col4\" class=\"data row7 col4\" >1.24</td>\n",
       "    </tr>\n",
       "    <tr>\n",
       "      <th id=\"T_5fc34_level0_row8\" class=\"row_heading level0 row8\" >45</th>\n",
       "      <td id=\"T_5fc34_row8_col0\" class=\"data row8 col0\" >10</td>\n",
       "      <td id=\"T_5fc34_row8_col1\" class=\"data row8 col1\" >9</td>\n",
       "      <td id=\"T_5fc34_row8_col2\" class=\"data row8 col2\" >79</td>\n",
       "      <td id=\"T_5fc34_row8_col3\" class=\"data row8 col3\" >0.56</td>\n",
       "      <td id=\"T_5fc34_row8_col4\" class=\"data row8 col4\" >1.25</td>\n",
       "    </tr>\n",
       "    <tr>\n",
       "      <th id=\"T_5fc34_level0_row9\" class=\"row_heading level0 row9\" >50</th>\n",
       "      <td id=\"T_5fc34_row9_col0\" class=\"data row9 col0\" >10</td>\n",
       "      <td id=\"T_5fc34_row9_col1\" class=\"data row9 col1\" >9</td>\n",
       "      <td id=\"T_5fc34_row9_col2\" class=\"data row9 col2\" >88</td>\n",
       "      <td id=\"T_5fc34_row9_col3\" class=\"data row9 col3\" >0.62</td>\n",
       "      <td id=\"T_5fc34_row9_col4\" class=\"data row9 col4\" >1.25</td>\n",
       "    </tr>\n",
       "    <tr>\n",
       "      <th id=\"T_5fc34_level0_row10\" class=\"row_heading level0 row10\" >55</th>\n",
       "      <td id=\"T_5fc34_row10_col0\" class=\"data row10 col0\" >10</td>\n",
       "      <td id=\"T_5fc34_row10_col1\" class=\"data row10 col1\" >7</td>\n",
       "      <td id=\"T_5fc34_row10_col2\" class=\"data row10 col2\" >95</td>\n",
       "      <td id=\"T_5fc34_row10_col3\" class=\"data row10 col3\" >0.67</td>\n",
       "      <td id=\"T_5fc34_row10_col4\" class=\"data row10 col4\" >1.23</td>\n",
       "    </tr>\n",
       "    <tr>\n",
       "      <th id=\"T_5fc34_level0_row11\" class=\"row_heading level0 row11\" >60</th>\n",
       "      <td id=\"T_5fc34_row11_col0\" class=\"data row11 col0\" >10</td>\n",
       "      <td id=\"T_5fc34_row11_col1\" class=\"data row11 col1\" >10</td>\n",
       "      <td id=\"T_5fc34_row11_col2\" class=\"data row11 col2\" >105</td>\n",
       "      <td id=\"T_5fc34_row11_col3\" class=\"data row11 col3\" >0.74</td>\n",
       "      <td id=\"T_5fc34_row11_col4\" class=\"data row11 col4\" >1.24</td>\n",
       "    </tr>\n",
       "    <tr>\n",
       "      <th id=\"T_5fc34_level0_row12\" class=\"row_heading level0 row12\" >65</th>\n",
       "      <td id=\"T_5fc34_row12_col0\" class=\"data row12 col0\" >10</td>\n",
       "      <td id=\"T_5fc34_row12_col1\" class=\"data row12 col1\" >8</td>\n",
       "      <td id=\"T_5fc34_row12_col2\" class=\"data row12 col2\" >113</td>\n",
       "      <td id=\"T_5fc34_row12_col3\" class=\"data row12 col3\" >0.80</td>\n",
       "      <td id=\"T_5fc34_row12_col4\" class=\"data row12 col4\" >1.23</td>\n",
       "    </tr>\n",
       "    <tr>\n",
       "      <th id=\"T_5fc34_level0_row13\" class=\"row_heading level0 row13\" >70</th>\n",
       "      <td id=\"T_5fc34_row13_col0\" class=\"data row13 col0\" >10</td>\n",
       "      <td id=\"T_5fc34_row13_col1\" class=\"data row13 col1\" >4</td>\n",
       "      <td id=\"T_5fc34_row13_col2\" class=\"data row13 col2\" >117</td>\n",
       "      <td id=\"T_5fc34_row13_col3\" class=\"data row13 col3\" >0.83</td>\n",
       "      <td id=\"T_5fc34_row13_col4\" class=\"data row13 col4\" >1.19</td>\n",
       "    </tr>\n",
       "    <tr>\n",
       "      <th id=\"T_5fc34_level0_row14\" class=\"row_heading level0 row14\" >75</th>\n",
       "      <td id=\"T_5fc34_row14_col0\" class=\"data row14 col0\" >10</td>\n",
       "      <td id=\"T_5fc34_row14_col1\" class=\"data row14 col1\" >5</td>\n",
       "      <td id=\"T_5fc34_row14_col2\" class=\"data row14 col2\" >122</td>\n",
       "      <td id=\"T_5fc34_row14_col3\" class=\"data row14 col3\" >0.87</td>\n",
       "      <td id=\"T_5fc34_row14_col4\" class=\"data row14 col4\" >1.15</td>\n",
       "    </tr>\n",
       "    <tr>\n",
       "      <th id=\"T_5fc34_level0_row15\" class=\"row_heading level0 row15\" >80</th>\n",
       "      <td id=\"T_5fc34_row15_col0\" class=\"data row15 col0\" >10</td>\n",
       "      <td id=\"T_5fc34_row15_col1\" class=\"data row15 col1\" >5</td>\n",
       "      <td id=\"T_5fc34_row15_col2\" class=\"data row15 col2\" >127</td>\n",
       "      <td id=\"T_5fc34_row15_col3\" class=\"data row15 col3\" >0.90</td>\n",
       "      <td id=\"T_5fc34_row15_col4\" class=\"data row15 col4\" >1.13</td>\n",
       "    </tr>\n",
       "    <tr>\n",
       "      <th id=\"T_5fc34_level0_row16\" class=\"row_heading level0 row16\" >85</th>\n",
       "      <td id=\"T_5fc34_row16_col0\" class=\"data row16 col0\" >10</td>\n",
       "      <td id=\"T_5fc34_row16_col1\" class=\"data row16 col1\" >5</td>\n",
       "      <td id=\"T_5fc34_row16_col2\" class=\"data row16 col2\" >132</td>\n",
       "      <td id=\"T_5fc34_row16_col3\" class=\"data row16 col3\" >0.94</td>\n",
       "      <td id=\"T_5fc34_row16_col4\" class=\"data row16 col4\" >1.10</td>\n",
       "    </tr>\n",
       "    <tr>\n",
       "      <th id=\"T_5fc34_level0_row17\" class=\"row_heading level0 row17\" >90</th>\n",
       "      <td id=\"T_5fc34_row17_col0\" class=\"data row17 col0\" >10</td>\n",
       "      <td id=\"T_5fc34_row17_col1\" class=\"data row17 col1\" >2</td>\n",
       "      <td id=\"T_5fc34_row17_col2\" class=\"data row17 col2\" >134</td>\n",
       "      <td id=\"T_5fc34_row17_col3\" class=\"data row17 col3\" >0.95</td>\n",
       "      <td id=\"T_5fc34_row17_col4\" class=\"data row17 col4\" >1.06</td>\n",
       "    </tr>\n",
       "    <tr>\n",
       "      <th id=\"T_5fc34_level0_row18\" class=\"row_heading level0 row18\" >95</th>\n",
       "      <td id=\"T_5fc34_row18_col0\" class=\"data row18 col0\" >10</td>\n",
       "      <td id=\"T_5fc34_row18_col1\" class=\"data row18 col1\" >5</td>\n",
       "      <td id=\"T_5fc34_row18_col2\" class=\"data row18 col2\" >139</td>\n",
       "      <td id=\"T_5fc34_row18_col3\" class=\"data row18 col3\" >0.99</td>\n",
       "      <td id=\"T_5fc34_row18_col4\" class=\"data row18 col4\" >1.04</td>\n",
       "    </tr>\n",
       "    <tr>\n",
       "      <th id=\"T_5fc34_level0_row19\" class=\"row_heading level0 row19\" >100</th>\n",
       "      <td id=\"T_5fc34_row19_col0\" class=\"data row19 col0\" >10</td>\n",
       "      <td id=\"T_5fc34_row19_col1\" class=\"data row19 col1\" >2</td>\n",
       "      <td id=\"T_5fc34_row19_col2\" class=\"data row19 col2\" >141</td>\n",
       "      <td id=\"T_5fc34_row19_col3\" class=\"data row19 col3\" >1.00</td>\n",
       "      <td id=\"T_5fc34_row19_col4\" class=\"data row19 col4\" >1.00</td>\n",
       "    </tr>\n",
       "  </tbody>\n",
       "</table>\n"
      ],
      "text/plain": [
       "<pandas.io.formats.style.Styler at 0x7fc8d0219220>"
      ]
     },
     "execution_count": 34,
     "metadata": {},
     "output_type": "execute_result"
    }
   ],
   "source": [
    "evaluator.calculate_lift_gain(return_style=True, include_all_info=True)"
   ]
  },
  {
   "cell_type": "code",
   "execution_count": 35,
   "id": "b9028e2f",
   "metadata": {
    "pycharm": {
     "name": "#%%\n"
    }
   },
   "outputs": [],
   "source": [
    "del predicted_scores"
   ]
  },
  {
   "cell_type": "markdown",
   "id": "6d5b72e3",
   "metadata": {},
   "source": [
    "# Feature Importance\n",
    "\n",
    "https://scikit-learn.org/stable/auto_examples/ensemble/plot_forest_importances.html"
   ]
  },
  {
   "cell_type": "code",
   "execution_count": 36,
   "id": "66a1cb40",
   "metadata": {},
   "outputs": [
    {
     "name": "stdout",
     "output_type": "stream",
     "text": [
      "Elapsed time to compute the importances: 1.086 seconds\n"
     ]
    }
   ],
   "source": [
    "from sklearn.inspection import permutation_importance\n",
    "import time\n",
    "\n",
    "estimator = full_pipeline\n",
    "\n",
    "start_time = time.time()\n",
    "result = permutation_importance(\n",
    "    estimator, X_train, y_train, n_repeats=10, random_state=42, n_jobs=2\n",
    ")\n",
    "elapsed_time = time.time() - start_time\n",
    "print(f\"Elapsed time to compute the importances: {elapsed_time:.3f} seconds\")\n",
    "\n",
    "feature_names = X_train.columns.to_list()\n",
    "forest_importances = pd.Series(result.importances_mean, index=feature_names)\n",
    "forest_importances = forest_importances.sort_values(ascending=False)"
   ]
  },
  {
   "cell_type": "code",
   "execution_count": 37,
   "id": "c04d3bcc",
   "metadata": {},
   "outputs": [
    {
     "data": {
      "image/png": "[encoded data removed]",
      "text/plain": [
       "<Figure size 648x432 with 1 Axes>"
      ]
     },
     "metadata": {
      "needs_background": "light"
     },
     "output_type": "display_data"
    }
   ],
   "source": [
    "import matplotlib.pyplot as plt\n",
    "fig, ax = plt.subplots()\n",
    "forest_importances.plot.bar(yerr=result.importances_std, ax=ax)\n",
    "ax.set_title(\"Feature importances using permutation on full model\")\n",
    "ax.set_ylabel(\"Mean accuracy decrease\")\n",
    "fig.set_size_inches(9, 6)\n",
    "fig.tight_layout()\n",
    "plt.show()"
   ]
  }
 ],
 "metadata": {
  "kernelspec": {
   "display_name": "Python 3 (ipykernel)",
   "language": "python",
   "name": "python3"
  },
  "language_info": {
   "codemirror_mode": {
    "name": "ipython",
    "version": 3
   },
   "file_extension": ".py",
   "mimetype": "text/x-python",
   "name": "python",
   "nbconvert_exporter": "python",
   "pygments_lexer": "ipython3",
   "version": "3.9.6"
  },
  "toc": {
   "base_numbering": 1,
   "nav_menu": {},
   "number_sections": false,
   "sideBar": true,
   "skip_h1_title": false,
   "title_cell": "Table of Contents",
   "title_sidebar": "Contents",
   "toc_cell": false,
   "toc_position": {
    "height": "calc(100% - 180px)",
    "left": "10px",
    "top": "150px",
    "width": "298px"
   },
   "toc_section_display": true,
   "toc_window_display": true
  }
 },
 "nbformat": 4,
 "nbformat_minor": 5
}
