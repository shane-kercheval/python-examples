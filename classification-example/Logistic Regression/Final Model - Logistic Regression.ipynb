{
 "cells": [
  {
   "cell_type": "code",
   "execution_count": 1,
   "id": "c5f3fe51",
   "metadata": {},
   "outputs": [],
   "source": [
    "import pickle\n",
    "import helpsk as hlp\n",
    "import matplotlib.pyplot as plt\n",
    "import pandas as pd\n",
    "import numpy as np\n",
    "from sklearn.datasets import fetch_openml\n",
    "import seaborn as sns\n",
    "\n",
    "from sklearn.pipeline import Pipeline\n",
    "from sklearn.preprocessing import StandardScaler, MinMaxScaler, OneHotEncoder  # , LabelEncoder\n",
    "from sklearn.impute import SimpleImputer\n",
    "from sklearn.model_selection import train_test_split\n",
    "# from sklearn.base import BaseEstimator, TransformerMixin\n",
    "\n",
    "%matplotlib inline"
   ]
  },
  {
   "cell_type": "markdown",
   "id": "8ff88fe0",
   "metadata": {},
   "source": [
    "# Load Data"
   ]
  },
  {
   "cell_type": "code",
   "execution_count": 2,
   "id": "fc98b023",
   "metadata": {},
   "outputs": [
    {
     "data": {
      "text/plain": [
       "{'C': 0.21380623392192172,\n",
       " 'encoder': 'OneHotEncoder()',\n",
       " 'imputer': 'SimpleImputer()',\n",
       " 'scaler': 'None'}"
      ]
     },
     "execution_count": 2,
     "metadata": {},
     "output_type": "execute_result"
    }
   ],
   "source": [
    "parser = hlp.sklearn_eval.SearchCVParser.from_yaml_file(yaml_file_name = 'Run 1 - Logistic Regression - BayesSearchCV.yaml')\n",
    "parser.best_primary_score_params"
   ]
  },
  {
   "cell_type": "code",
   "execution_count": 3,
   "id": "7511e37e",
   "metadata": {},
   "outputs": [
    {
     "name": "stdout",
     "output_type": "stream",
     "text": [
      "(800, 20)\n",
      "800\n",
      "(200, 20)\n",
      "200\n"
     ]
    }
   ],
   "source": [
    "with open('../X_train.pkl', 'rb') as handle:\n",
    "    X_train = pickle.load(handle)\n",
    "    print(X_train.shape)\n",
    "\n",
    "with open('../y_train.pkl', 'rb') as handle:\n",
    "    y_train = pickle.load(handle)\n",
    "    print(len(y_train))\n",
    "\n",
    "with open('../X_test.pkl', 'rb') as handle:\n",
    "    X_test = pickle.load(handle)\n",
    "    print(X_test.shape)\n",
    "\n",
    "with open('../y_test.pkl', 'rb') as handle:\n",
    "    y_test = pickle.load(handle)\n",
    "    print(len(y_test))"
   ]
  },
  {
   "cell_type": "code",
   "execution_count": 4,
   "id": "1e782cdf",
   "metadata": {},
   "outputs": [
    {
     "data": {
      "text/html": [
       "<div>\n",
       "<style scoped>\n",
       "    .dataframe tbody tr th:only-of-type {\n",
       "        vertical-align: middle;\n",
       "    }\n",
       "\n",
       "    .dataframe tbody tr th {\n",
       "        vertical-align: top;\n",
       "    }\n",
       "\n",
       "    .dataframe thead th {\n",
       "        text-align: right;\n",
       "    }\n",
       "</style>\n",
       "<table border=\"1\" class=\"dataframe\">\n",
       "  <thead>\n",
       "    <tr style=\"text-align: right;\">\n",
       "      <th></th>\n",
       "      <th>checking_status</th>\n",
       "      <th>duration</th>\n",
       "      <th>credit_history</th>\n",
       "      <th>purpose</th>\n",
       "      <th>credit_amount</th>\n",
       "      <th>savings_status</th>\n",
       "      <th>employment</th>\n",
       "      <th>installment_commitment</th>\n",
       "      <th>personal_status</th>\n",
       "      <th>other_parties</th>\n",
       "      <th>residence_since</th>\n",
       "      <th>property_magnitude</th>\n",
       "      <th>age</th>\n",
       "      <th>other_payment_plans</th>\n",
       "      <th>housing</th>\n",
       "      <th>existing_credits</th>\n",
       "      <th>job</th>\n",
       "      <th>num_dependents</th>\n",
       "      <th>own_telephone</th>\n",
       "      <th>foreign_worker</th>\n",
       "    </tr>\n",
       "  </thead>\n",
       "  <tbody>\n",
       "    <tr>\n",
       "      <th>29</th>\n",
       "      <td>NaN</td>\n",
       "      <td>NaN</td>\n",
       "      <td>delayed previously</td>\n",
       "      <td>business</td>\n",
       "      <td>0.0</td>\n",
       "      <td>&lt;100</td>\n",
       "      <td>&gt;=7</td>\n",
       "      <td>3.0</td>\n",
       "      <td>male single</td>\n",
       "      <td>none</td>\n",
       "      <td>4.0</td>\n",
       "      <td>no known property</td>\n",
       "      <td>63.0</td>\n",
       "      <td>none</td>\n",
       "      <td>own</td>\n",
       "      <td>2.0</td>\n",
       "      <td>skilled</td>\n",
       "      <td>1.0</td>\n",
       "      <td>yes</td>\n",
       "      <td>yes</td>\n",
       "    </tr>\n",
       "    <tr>\n",
       "      <th>535</th>\n",
       "      <td>&gt;=200</td>\n",
       "      <td>21.0</td>\n",
       "      <td>critical/other existing credit</td>\n",
       "      <td>education</td>\n",
       "      <td>2319.0</td>\n",
       "      <td>&lt;100</td>\n",
       "      <td>&lt;1</td>\n",
       "      <td>2.0</td>\n",
       "      <td>male div/sep</td>\n",
       "      <td>none</td>\n",
       "      <td>1.0</td>\n",
       "      <td>car</td>\n",
       "      <td>33.0</td>\n",
       "      <td>none</td>\n",
       "      <td>rent</td>\n",
       "      <td>1.0</td>\n",
       "      <td>skilled</td>\n",
       "      <td>1.0</td>\n",
       "      <td>none</td>\n",
       "      <td>yes</td>\n",
       "    </tr>\n",
       "    <tr>\n",
       "      <th>695</th>\n",
       "      <td>no checking</td>\n",
       "      <td>6.0</td>\n",
       "      <td>existing paid</td>\n",
       "      <td>used car</td>\n",
       "      <td>1236.0</td>\n",
       "      <td>500&lt;=X&lt;1000</td>\n",
       "      <td>1&lt;=X&lt;4</td>\n",
       "      <td>2.0</td>\n",
       "      <td>male single</td>\n",
       "      <td>none</td>\n",
       "      <td>4.0</td>\n",
       "      <td>life insurance</td>\n",
       "      <td>50.0</td>\n",
       "      <td>none</td>\n",
       "      <td>rent</td>\n",
       "      <td>1.0</td>\n",
       "      <td>skilled</td>\n",
       "      <td>1.0</td>\n",
       "      <td>none</td>\n",
       "      <td>yes</td>\n",
       "    </tr>\n",
       "    <tr>\n",
       "      <th>557</th>\n",
       "      <td>no checking</td>\n",
       "      <td>21.0</td>\n",
       "      <td>no credits/all paid</td>\n",
       "      <td>new car</td>\n",
       "      <td>5003.0</td>\n",
       "      <td>no known savings</td>\n",
       "      <td>1&lt;=X&lt;4</td>\n",
       "      <td>1.0</td>\n",
       "      <td>female div/dep/mar</td>\n",
       "      <td>none</td>\n",
       "      <td>4.0</td>\n",
       "      <td>life insurance</td>\n",
       "      <td>29.0</td>\n",
       "      <td>bank</td>\n",
       "      <td>own</td>\n",
       "      <td>2.0</td>\n",
       "      <td>skilled</td>\n",
       "      <td>1.0</td>\n",
       "      <td>yes</td>\n",
       "      <td>yes</td>\n",
       "    </tr>\n",
       "    <tr>\n",
       "      <th>836</th>\n",
       "      <td>no checking</td>\n",
       "      <td>12.0</td>\n",
       "      <td>existing paid</td>\n",
       "      <td>radio/tv</td>\n",
       "      <td>886.0</td>\n",
       "      <td>no known savings</td>\n",
       "      <td>1&lt;=X&lt;4</td>\n",
       "      <td>4.0</td>\n",
       "      <td>female div/dep/mar</td>\n",
       "      <td>none</td>\n",
       "      <td>2.0</td>\n",
       "      <td>car</td>\n",
       "      <td>21.0</td>\n",
       "      <td>none</td>\n",
       "      <td>own</td>\n",
       "      <td>1.0</td>\n",
       "      <td>skilled</td>\n",
       "      <td>1.0</td>\n",
       "      <td>none</td>\n",
       "      <td>yes</td>\n",
       "    </tr>\n",
       "  </tbody>\n",
       "</table>\n",
       "</div>"
      ],
      "text/plain": [
       "    checking_status  duration                  credit_history    purpose  \\\n",
       "29              NaN       NaN              delayed previously   business   \n",
       "535           >=200      21.0  critical/other existing credit  education   \n",
       "695     no checking       6.0                   existing paid   used car   \n",
       "557     no checking      21.0             no credits/all paid    new car   \n",
       "836     no checking      12.0                   existing paid   radio/tv   \n",
       "\n",
       "     credit_amount    savings_status employment  installment_commitment  \\\n",
       "29             0.0              <100        >=7                     3.0   \n",
       "535         2319.0              <100         <1                     2.0   \n",
       "695         1236.0       500<=X<1000     1<=X<4                     2.0   \n",
       "557         5003.0  no known savings     1<=X<4                     1.0   \n",
       "836          886.0  no known savings     1<=X<4                     4.0   \n",
       "\n",
       "        personal_status other_parties  residence_since property_magnitude  \\\n",
       "29          male single          none              4.0  no known property   \n",
       "535        male div/sep          none              1.0                car   \n",
       "695         male single          none              4.0     life insurance   \n",
       "557  female div/dep/mar          none              4.0     life insurance   \n",
       "836  female div/dep/mar          none              2.0                car   \n",
       "\n",
       "      age other_payment_plans housing  existing_credits      job  \\\n",
       "29   63.0                none     own               2.0  skilled   \n",
       "535  33.0                none    rent               1.0  skilled   \n",
       "695  50.0                none    rent               1.0  skilled   \n",
       "557  29.0                bank     own               2.0  skilled   \n",
       "836  21.0                none     own               1.0  skilled   \n",
       "\n",
       "     num_dependents own_telephone foreign_worker  \n",
       "29              1.0           yes            yes  \n",
       "535             1.0          none            yes  \n",
       "695             1.0          none            yes  \n",
       "557             1.0           yes            yes  \n",
       "836             1.0          none            yes  "
      ]
     },
     "execution_count": 4,
     "metadata": {},
     "output_type": "execute_result"
    }
   ],
   "source": [
    "X_train.head()"
   ]
  },
  {
   "cell_type": "code",
   "execution_count": 5,
   "id": "a9795b35",
   "metadata": {},
   "outputs": [
    {
     "data": {
      "text/plain": [
       "array([0, 0, 1, 0, 1, 0, 1, 0, 0, 1])"
      ]
     },
     "execution_count": 5,
     "metadata": {},
     "output_type": "execute_result"
    }
   ],
   "source": [
    "y_train[0:10]"
   ]
  },
  {
   "cell_type": "code",
   "execution_count": 6,
   "id": "4d20507c",
   "metadata": {},
   "outputs": [
    {
     "data": {
      "text/html": [
       "<div>\n",
       "<style scoped>\n",
       "    .dataframe tbody tr th:only-of-type {\n",
       "        vertical-align: middle;\n",
       "    }\n",
       "\n",
       "    .dataframe tbody tr th {\n",
       "        vertical-align: top;\n",
       "    }\n",
       "\n",
       "    .dataframe thead th {\n",
       "        text-align: right;\n",
       "    }\n",
       "</style>\n",
       "<table border=\"1\" class=\"dataframe\">\n",
       "  <thead>\n",
       "    <tr style=\"text-align: right;\">\n",
       "      <th></th>\n",
       "      <th>checking_status</th>\n",
       "      <th>duration</th>\n",
       "      <th>credit_history</th>\n",
       "      <th>purpose</th>\n",
       "      <th>credit_amount</th>\n",
       "      <th>savings_status</th>\n",
       "      <th>employment</th>\n",
       "      <th>installment_commitment</th>\n",
       "      <th>personal_status</th>\n",
       "      <th>other_parties</th>\n",
       "      <th>residence_since</th>\n",
       "      <th>property_magnitude</th>\n",
       "      <th>age</th>\n",
       "      <th>other_payment_plans</th>\n",
       "      <th>housing</th>\n",
       "      <th>existing_credits</th>\n",
       "      <th>job</th>\n",
       "      <th>num_dependents</th>\n",
       "      <th>own_telephone</th>\n",
       "      <th>foreign_worker</th>\n",
       "    </tr>\n",
       "  </thead>\n",
       "  <tbody>\n",
       "    <tr>\n",
       "      <th>521</th>\n",
       "      <td>&lt;0</td>\n",
       "      <td>18.0</td>\n",
       "      <td>existing paid</td>\n",
       "      <td>radio/tv</td>\n",
       "      <td>3190.0</td>\n",
       "      <td>&lt;100</td>\n",
       "      <td>1&lt;=X&lt;4</td>\n",
       "      <td>2.0</td>\n",
       "      <td>female div/dep/mar</td>\n",
       "      <td>none</td>\n",
       "      <td>2.0</td>\n",
       "      <td>real estate</td>\n",
       "      <td>24.0</td>\n",
       "      <td>none</td>\n",
       "      <td>own</td>\n",
       "      <td>1.0</td>\n",
       "      <td>skilled</td>\n",
       "      <td>1.0</td>\n",
       "      <td>none</td>\n",
       "      <td>yes</td>\n",
       "    </tr>\n",
       "    <tr>\n",
       "      <th>737</th>\n",
       "      <td>&lt;0</td>\n",
       "      <td>18.0</td>\n",
       "      <td>existing paid</td>\n",
       "      <td>new car</td>\n",
       "      <td>4380.0</td>\n",
       "      <td>100&lt;=X&lt;500</td>\n",
       "      <td>1&lt;=X&lt;4</td>\n",
       "      <td>3.0</td>\n",
       "      <td>male single</td>\n",
       "      <td>none</td>\n",
       "      <td>4.0</td>\n",
       "      <td>car</td>\n",
       "      <td>35.0</td>\n",
       "      <td>none</td>\n",
       "      <td>own</td>\n",
       "      <td>1.0</td>\n",
       "      <td>unskilled resident</td>\n",
       "      <td>2.0</td>\n",
       "      <td>yes</td>\n",
       "      <td>yes</td>\n",
       "    </tr>\n",
       "    <tr>\n",
       "      <th>740</th>\n",
       "      <td>&lt;0</td>\n",
       "      <td>24.0</td>\n",
       "      <td>all paid</td>\n",
       "      <td>new car</td>\n",
       "      <td>2325.0</td>\n",
       "      <td>100&lt;=X&lt;500</td>\n",
       "      <td>4&lt;=X&lt;7</td>\n",
       "      <td>2.0</td>\n",
       "      <td>male single</td>\n",
       "      <td>none</td>\n",
       "      <td>3.0</td>\n",
       "      <td>car</td>\n",
       "      <td>32.0</td>\n",
       "      <td>bank</td>\n",
       "      <td>own</td>\n",
       "      <td>1.0</td>\n",
       "      <td>skilled</td>\n",
       "      <td>1.0</td>\n",
       "      <td>none</td>\n",
       "      <td>yes</td>\n",
       "    </tr>\n",
       "    <tr>\n",
       "      <th>660</th>\n",
       "      <td>&gt;=200</td>\n",
       "      <td>12.0</td>\n",
       "      <td>existing paid</td>\n",
       "      <td>radio/tv</td>\n",
       "      <td>1297.0</td>\n",
       "      <td>&lt;100</td>\n",
       "      <td>1&lt;=X&lt;4</td>\n",
       "      <td>3.0</td>\n",
       "      <td>male mar/wid</td>\n",
       "      <td>none</td>\n",
       "      <td>4.0</td>\n",
       "      <td>real estate</td>\n",
       "      <td>23.0</td>\n",
       "      <td>none</td>\n",
       "      <td>rent</td>\n",
       "      <td>1.0</td>\n",
       "      <td>skilled</td>\n",
       "      <td>1.0</td>\n",
       "      <td>none</td>\n",
       "      <td>yes</td>\n",
       "    </tr>\n",
       "    <tr>\n",
       "      <th>411</th>\n",
       "      <td>no checking</td>\n",
       "      <td>33.0</td>\n",
       "      <td>critical/other existing credit</td>\n",
       "      <td>used car</td>\n",
       "      <td>7253.0</td>\n",
       "      <td>&lt;100</td>\n",
       "      <td>4&lt;=X&lt;7</td>\n",
       "      <td>3.0</td>\n",
       "      <td>male single</td>\n",
       "      <td>none</td>\n",
       "      <td>2.0</td>\n",
       "      <td>car</td>\n",
       "      <td>35.0</td>\n",
       "      <td>none</td>\n",
       "      <td>own</td>\n",
       "      <td>2.0</td>\n",
       "      <td>high qualif/self emp/mgmt</td>\n",
       "      <td>1.0</td>\n",
       "      <td>yes</td>\n",
       "      <td>yes</td>\n",
       "    </tr>\n",
       "  </tbody>\n",
       "</table>\n",
       "</div>"
      ],
      "text/plain": [
       "    checking_status  duration                  credit_history   purpose  \\\n",
       "521              <0      18.0                   existing paid  radio/tv   \n",
       "737              <0      18.0                   existing paid   new car   \n",
       "740              <0      24.0                        all paid   new car   \n",
       "660           >=200      12.0                   existing paid  radio/tv   \n",
       "411     no checking      33.0  critical/other existing credit  used car   \n",
       "\n",
       "     credit_amount savings_status employment  installment_commitment  \\\n",
       "521         3190.0           <100     1<=X<4                     2.0   \n",
       "737         4380.0     100<=X<500     1<=X<4                     3.0   \n",
       "740         2325.0     100<=X<500     4<=X<7                     2.0   \n",
       "660         1297.0           <100     1<=X<4                     3.0   \n",
       "411         7253.0           <100     4<=X<7                     3.0   \n",
       "\n",
       "        personal_status other_parties  residence_since property_magnitude  \\\n",
       "521  female div/dep/mar          none              2.0        real estate   \n",
       "737         male single          none              4.0                car   \n",
       "740         male single          none              3.0                car   \n",
       "660        male mar/wid          none              4.0        real estate   \n",
       "411         male single          none              2.0                car   \n",
       "\n",
       "      age other_payment_plans housing  existing_credits  \\\n",
       "521  24.0                none     own               1.0   \n",
       "737  35.0                none     own               1.0   \n",
       "740  32.0                bank     own               1.0   \n",
       "660  23.0                none    rent               1.0   \n",
       "411  35.0                none     own               2.0   \n",
       "\n",
       "                           job  num_dependents own_telephone foreign_worker  \n",
       "521                    skilled             1.0          none            yes  \n",
       "737         unskilled resident             2.0           yes            yes  \n",
       "740                    skilled             1.0          none            yes  \n",
       "660                    skilled             1.0          none            yes  \n",
       "411  high qualif/self emp/mgmt             1.0           yes            yes  "
      ]
     },
     "execution_count": 6,
     "metadata": {},
     "output_type": "execute_result"
    }
   ],
   "source": [
    "X_test.head()"
   ]
  },
  {
   "cell_type": "code",
   "execution_count": 7,
   "id": "c066c30a",
   "metadata": {},
   "outputs": [
    {
     "data": {
      "text/plain": [
       "array([0, 1, 1, 1, 1, 1, 1, 1, 1, 1])"
      ]
     },
     "execution_count": 7,
     "metadata": {},
     "output_type": "execute_result"
    }
   ],
   "source": [
    "y_test[0:10]"
   ]
  },
  {
   "cell_type": "markdown",
   "id": "1ca1d63a",
   "metadata": {},
   "source": [
    "# Training and Test Data"
   ]
  },
  {
   "cell_type": "code",
   "execution_count": 8,
   "id": "86f44647",
   "metadata": {},
   "outputs": [
    {
     "data": {
      "text/plain": [
       "array([0, 0, 1, 0, 1, 0, 1, 0, 0, 1])"
      ]
     },
     "execution_count": 8,
     "metadata": {},
     "output_type": "execute_result"
    }
   ],
   "source": [
    "y_train[0:10]"
   ]
  },
  {
   "cell_type": "code",
   "execution_count": 9,
   "id": "742c6bf1",
   "metadata": {},
   "outputs": [
    {
     "name": "stdout",
     "output_type": "stream",
     "text": [
      "['duration', 'credit_amount', 'installment_commitment', 'residence_since', 'age', 'existing_credits', 'num_dependents']\n",
      "['checking_status', 'credit_history', 'purpose', 'savings_status', 'employment', 'personal_status', 'other_parties', 'property_magnitude', 'other_payment_plans', 'housing', 'job', 'own_telephone', 'foreign_worker']\n"
     ]
    }
   ],
   "source": [
    "numeric_columns = hlp.pandas.get_numeric_columns(X_train)\n",
    "non_numeric_columns = hlp.pandas.get_non_numeric_columns(X_train)\n",
    "print(numeric_columns)\n",
    "print(non_numeric_columns)"
   ]
  },
  {
   "cell_type": "code",
   "execution_count": 10,
   "id": "ce3d4969",
   "metadata": {},
   "outputs": [
    {
     "data": {
      "text/plain": [
       "{'C': 0.21380623392192172,\n",
       " 'encoder': 'OneHotEncoder()',\n",
       " 'imputer': 'SimpleImputer()',\n",
       " 'scaler': 'None'}"
      ]
     },
     "execution_count": 10,
     "metadata": {},
     "output_type": "execute_result"
    }
   ],
   "source": [
    "parser.best_primary_score_params"
   ]
  },
  {
   "cell_type": "code",
   "execution_count": 12,
   "id": "740dc372",
   "metadata": {},
   "outputs": [],
   "source": [
    "numeric_pipeline = Pipeline([\n",
    "    ('imputer', SimpleImputer(strategy='mean')),\n",
    "#    ('scaler', StandardScaler()),\n",
    "])"
   ]
  },
  {
   "cell_type": "code",
   "execution_count": 13,
   "id": "4ed41bd2",
   "metadata": {},
   "outputs": [],
   "source": [
    "non_numeric_pipeline = Pipeline([\n",
    "    ('encoder', OneHotEncoder()),\n",
    "])"
   ]
  },
  {
   "cell_type": "code",
   "execution_count": 14,
   "id": "8f7f94d0",
   "metadata": {},
   "outputs": [],
   "source": [
    "from sklearn.compose import ColumnTransformer\n",
    "transformations_pipeline = ColumnTransformer([\n",
    "    ('numeric', numeric_pipeline, numeric_columns),\n",
    "    ('non_numeric', non_numeric_pipeline, non_numeric_columns)\n",
    "])"
   ]
  },
  {
   "cell_type": "markdown",
   "id": "c215d60a",
   "metadata": {},
   "source": [
    "# Model"
   ]
  },
  {
   "cell_type": "code",
   "execution_count": 16,
   "id": "3b3ddb87",
   "metadata": {},
   "outputs": [],
   "source": [
    "from sklearn.linear_model import LogisticRegression\n",
    "logistic_model = LogisticRegression(\n",
    "    C=0.21380623392192172,\n",
    "    random_state=42\n",
    ")"
   ]
  },
  {
   "cell_type": "code",
   "execution_count": 17,
   "id": "d6a81445",
   "metadata": {},
   "outputs": [],
   "source": [
    "full_pipeline = Pipeline([\n",
    "    ('prep', transformations_pipeline),\n",
    "    ('model', logistic_model)\n",
    "])"
   ]
  },
  {
   "cell_type": "code",
   "execution_count": 18,
   "id": "936a9d3f",
   "metadata": {
    "scrolled": true
   },
   "outputs": [
    {
     "data": {
      "text/plain": [
       "{'prep': ColumnTransformer(transformers=[('numeric',\n",
       "                                  Pipeline(steps=[('imputer', SimpleImputer())]),\n",
       "                                  ['duration', 'credit_amount',\n",
       "                                   'installment_commitment', 'residence_since',\n",
       "                                   'age', 'existing_credits',\n",
       "                                   'num_dependents']),\n",
       "                                 ('non_numeric',\n",
       "                                  Pipeline(steps=[('encoder', OneHotEncoder())]),\n",
       "                                  ['checking_status', 'credit_history',\n",
       "                                   'purpose', 'savings_status', 'employment',\n",
       "                                   'personal_status', 'other_parties',\n",
       "                                   'property_magnitude', 'other_payment_plans',\n",
       "                                   'housing', 'job', 'own_telephone',\n",
       "                                   'foreign_worker'])]),\n",
       " 'model': LogisticRegression(C=0.21380623392192172, random_state=42)}"
      ]
     },
     "execution_count": 18,
     "metadata": {},
     "output_type": "execute_result"
    }
   ],
   "source": [
    "# Show the levels of pipelines/transformers/model\n",
    "full_pipeline.named_steps"
   ]
  },
  {
   "cell_type": "code",
   "execution_count": 19,
   "id": "e1e4704a",
   "metadata": {},
   "outputs": [
    {
     "name": "stderr",
     "output_type": "stream",
     "text": [
      "/Users/shanekercheval/opt/anaconda3/envs/python-examples/lib/python3.9/site-packages/sklearn/linear_model/_logistic.py:814: ConvergenceWarning: lbfgs failed to converge (status=1):\n",
      "STOP: TOTAL NO. of ITERATIONS REACHED LIMIT.\n",
      "\n",
      "Increase the number of iterations (max_iter) or scale the data as shown in:\n",
      "    https://scikit-learn.org/stable/modules/preprocessing.html\n",
      "Please also refer to the documentation for alternative solver options:\n",
      "    https://scikit-learn.org/stable/modules/linear_model.html#logistic-regression\n",
      "  n_iter_i = _check_optimize_result(\n"
     ]
    }
   ],
   "source": [
    "fitted_pipeline = full_pipeline.fit(X_train, y_train)"
   ]
  },
  {
   "cell_type": "code",
   "execution_count": 20,
   "id": "1870f6d1",
   "metadata": {},
   "outputs": [
    {
     "data": {
      "text/plain": [
       "array([1, 1, 0, 1, 1, 1, 1, 1, 1, 1, 1, 0, 1, 0, 0, 1, 1, 1, 1, 1, 1, 0,\n",
       "       1, 1, 1, 0, 1, 0, 1, 1, 1, 1, 1, 1, 1, 1, 0, 1, 1, 0, 1, 1, 1, 1,\n",
       "       1, 1, 0, 1, 1, 1, 0, 1, 1, 0, 1, 1, 1, 0, 0, 1, 1, 0, 1, 1, 1, 1,\n",
       "       1, 0, 0, 1, 1, 1, 1, 1, 1, 1, 1, 1, 1, 1, 1, 1, 1, 1, 1, 0, 0, 0,\n",
       "       1, 1, 1, 1, 0, 0, 1, 1, 1, 1, 0, 0, 1, 1, 1, 1, 1, 1, 1, 0, 1, 0,\n",
       "       0, 1, 0, 1, 1, 1, 1, 1, 1, 1, 1, 1, 1, 1, 0, 1, 0, 1, 1, 1, 1, 1,\n",
       "       1, 1, 1, 1, 1, 1, 1, 1, 1, 1, 0, 1, 1, 0, 1, 1, 0, 1, 1, 1, 1, 1,\n",
       "       1, 0, 0, 1, 1, 1, 1, 1, 1, 0, 1, 1, 1, 1, 1, 0, 1, 1, 1, 1, 1, 1,\n",
       "       1, 1, 1, 0, 1, 1, 1, 1, 1, 1, 0, 1, 1, 1, 1, 0, 1, 1, 1, 1, 0, 0,\n",
       "       0, 1])"
      ]
     },
     "execution_count": 20,
     "metadata": {},
     "output_type": "execute_result"
    }
   ],
   "source": [
    "fitted_pipeline.predict(X_test)"
   ]
  },
  {
   "cell_type": "code",
   "execution_count": 21,
   "id": "e72b7ef0",
   "metadata": {},
   "outputs": [
    {
     "data": {
      "text/plain": [
       "array([[0.39133458, 0.60866542],\n",
       "       [0.38764565, 0.61235435],\n",
       "       [0.56322495, 0.43677505],\n",
       "       [0.28713212, 0.71286788],\n",
       "       [0.1107422 , 0.8892578 ],\n",
       "       [0.39740299, 0.60259701],\n",
       "       [0.10810512, 0.89189488],\n",
       "       [0.36898769, 0.63101231],\n",
       "       [0.14148353, 0.85851647],\n",
       "       [0.14749026, 0.85250974],\n",
       "       [0.24839334, 0.75160666],\n",
       "       [0.5170161 , 0.4829839 ],\n",
       "       [0.12756213, 0.87243787],\n",
       "       [0.84372269, 0.15627731],\n",
       "       [0.78518629, 0.21481371],\n",
       "       [0.33885196, 0.66114804],\n",
       "       [0.10159725, 0.89840275],\n",
       "       [0.0591789 , 0.9408211 ],\n",
       "       [0.49891624, 0.50108376],\n",
       "       [0.38944216, 0.61055784],\n",
       "       [0.17785033, 0.82214967],\n",
       "       [0.50717241, 0.49282759],\n",
       "       [0.0681376 , 0.9318624 ],\n",
       "       [0.02339895, 0.97660105],\n",
       "       [0.02013237, 0.97986763],\n",
       "       [0.52633868, 0.47366132],\n",
       "       [0.44500433, 0.55499567],\n",
       "       [0.592883  , 0.407117  ],\n",
       "       [0.16969077, 0.83030923],\n",
       "       [0.15055675, 0.84944325],\n",
       "       [0.14830886, 0.85169114],\n",
       "       [0.23492017, 0.76507983],\n",
       "       [0.21793032, 0.78206968],\n",
       "       [0.13588457, 0.86411543],\n",
       "       [0.14559885, 0.85440115],\n",
       "       [0.45343046, 0.54656954],\n",
       "       [0.68194099, 0.31805901],\n",
       "       [0.22477652, 0.77522348],\n",
       "       [0.05807582, 0.94192418],\n",
       "       [0.62977489, 0.37022511],\n",
       "       [0.33562348, 0.66437652],\n",
       "       [0.05235738, 0.94764262],\n",
       "       [0.3771092 , 0.6228908 ],\n",
       "       [0.1370442 , 0.8629558 ],\n",
       "       [0.1169829 , 0.8830171 ],\n",
       "       [0.148986  , 0.851014  ],\n",
       "       [0.64261256, 0.35738744],\n",
       "       [0.40566094, 0.59433906],\n",
       "       [0.43289685, 0.56710315],\n",
       "       [0.1488212 , 0.8511788 ],\n",
       "       [0.6451693 , 0.3548307 ],\n",
       "       [0.04830909, 0.95169091],\n",
       "       [0.32149593, 0.67850407],\n",
       "       [0.53627526, 0.46372474],\n",
       "       [0.11411397, 0.88588603],\n",
       "       [0.24142687, 0.75857313],\n",
       "       [0.28636167, 0.71363833],\n",
       "       [0.67157424, 0.32842576],\n",
       "       [0.65752078, 0.34247922],\n",
       "       [0.1538557 , 0.8461443 ],\n",
       "       [0.16786437, 0.83213563],\n",
       "       [0.58964073, 0.41035927],\n",
       "       [0.41409019, 0.58590981],\n",
       "       [0.0353057 , 0.9646943 ],\n",
       "       [0.40130126, 0.59869874],\n",
       "       [0.24264237, 0.75735763],\n",
       "       [0.08529434, 0.91470566],\n",
       "       [0.63965226, 0.36034774],\n",
       "       [0.58490155, 0.41509845],\n",
       "       [0.18393457, 0.81606543],\n",
       "       [0.3816226 , 0.6183774 ],\n",
       "       [0.10494926, 0.89505074],\n",
       "       [0.09118231, 0.90881769],\n",
       "       [0.32964361, 0.67035639],\n",
       "       [0.48811008, 0.51188992],\n",
       "       [0.38540577, 0.61459423],\n",
       "       [0.45610541, 0.54389459],\n",
       "       [0.18987775, 0.81012225],\n",
       "       [0.15154687, 0.84845313],\n",
       "       [0.34840274, 0.65159726],\n",
       "       [0.15360702, 0.84639298],\n",
       "       [0.37992461, 0.62007539],\n",
       "       [0.0540834 , 0.9459166 ],\n",
       "       [0.32072741, 0.67927259],\n",
       "       [0.10701379, 0.89298621],\n",
       "       [0.56315709, 0.43684291],\n",
       "       [0.67196375, 0.32803625],\n",
       "       [0.85633342, 0.14366658],\n",
       "       [0.18495481, 0.81504519],\n",
       "       [0.15422286, 0.84577714],\n",
       "       [0.27705683, 0.72294317],\n",
       "       [0.10366914, 0.89633086],\n",
       "       [0.73081105, 0.26918895],\n",
       "       [0.59219663, 0.40780337],\n",
       "       [0.0579265 , 0.9420735 ],\n",
       "       [0.09730432, 0.90269568],\n",
       "       [0.1371876 , 0.8628124 ],\n",
       "       [0.395973  , 0.604027  ],\n",
       "       [0.68266402, 0.31733598],\n",
       "       [0.52960104, 0.47039896],\n",
       "       [0.03409605, 0.96590395],\n",
       "       [0.2529493 , 0.7470507 ],\n",
       "       [0.20054189, 0.79945811],\n",
       "       [0.07339737, 0.92660263],\n",
       "       [0.12781612, 0.87218388],\n",
       "       [0.27447239, 0.72552761],\n",
       "       [0.18495423, 0.81504577],\n",
       "       [0.50981855, 0.49018145],\n",
       "       [0.24020518, 0.75979482],\n",
       "       [0.62114141, 0.37885859],\n",
       "       [0.64440572, 0.35559428],\n",
       "       [0.20713433, 0.79286567],\n",
       "       [0.54821175, 0.45178825],\n",
       "       [0.0320153 , 0.9679847 ],\n",
       "       [0.37269523, 0.62730477],\n",
       "       [0.40791063, 0.59208937],\n",
       "       [0.33666657, 0.66333343],\n",
       "       [0.15443555, 0.84556445],\n",
       "       [0.10930136, 0.89069864],\n",
       "       [0.28972803, 0.71027197],\n",
       "       [0.47768372, 0.52231628],\n",
       "       [0.37206092, 0.62793908],\n",
       "       [0.18797465, 0.81202535],\n",
       "       [0.28843982, 0.71156018],\n",
       "       [0.50681127, 0.49318873],\n",
       "       [0.16044053, 0.83955947],\n",
       "       [0.68173309, 0.31826691],\n",
       "       [0.10728347, 0.89271653],\n",
       "       [0.08410619, 0.91589381],\n",
       "       [0.15990858, 0.84009142],\n",
       "       [0.29970532, 0.70029468],\n",
       "       [0.20742049, 0.79257951],\n",
       "       [0.19641334, 0.80358666],\n",
       "       [0.1074331 , 0.8925669 ],\n",
       "       [0.259174  , 0.740826  ],\n",
       "       [0.18188303, 0.81811697],\n",
       "       [0.34516671, 0.65483329],\n",
       "       [0.07829374, 0.92170626],\n",
       "       [0.17428906, 0.82571094],\n",
       "       [0.26600763, 0.73399237],\n",
       "       [0.32358536, 0.67641464],\n",
       "       [0.45974972, 0.54025028],\n",
       "       [0.68333089, 0.31666911],\n",
       "       [0.08120032, 0.91879968],\n",
       "       [0.23716264, 0.76283736],\n",
       "       [0.66785992, 0.33214008],\n",
       "       [0.2823078 , 0.7176922 ],\n",
       "       [0.14851039, 0.85148961],\n",
       "       [0.50480217, 0.49519783],\n",
       "       [0.49732925, 0.50267075],\n",
       "       [0.07349641, 0.92650359],\n",
       "       [0.33957721, 0.66042279],\n",
       "       [0.20226813, 0.79773187],\n",
       "       [0.40723878, 0.59276122],\n",
       "       [0.12725093, 0.87274907],\n",
       "       [0.50886291, 0.49113709],\n",
       "       [0.53053651, 0.46946349],\n",
       "       [0.13114316, 0.86885684],\n",
       "       [0.31525943, 0.68474057],\n",
       "       [0.28911437, 0.71088563],\n",
       "       [0.47494607, 0.52505393],\n",
       "       [0.09230425, 0.90769575],\n",
       "       [0.47668038, 0.52331962],\n",
       "       [0.7856074 , 0.2143926 ],\n",
       "       [0.20074578, 0.79925422],\n",
       "       [0.41300481, 0.58699519],\n",
       "       [0.06997844, 0.93002156],\n",
       "       [0.31781218, 0.68218782],\n",
       "       [0.11097926, 0.88902074],\n",
       "       [0.66613825, 0.33386175],\n",
       "       [0.09882481, 0.90117519],\n",
       "       [0.17077525, 0.82922475],\n",
       "       [0.2990341 , 0.7009659 ],\n",
       "       [0.15150126, 0.84849874],\n",
       "       [0.04627941, 0.95372059],\n",
       "       [0.20182021, 0.79817979],\n",
       "       [0.12826567, 0.87173433],\n",
       "       [0.03353843, 0.96646157],\n",
       "       [0.34514193, 0.65485807],\n",
       "       [0.54428328, 0.45571672],\n",
       "       [0.35855169, 0.64144831],\n",
       "       [0.09641449, 0.90358551],\n",
       "       [0.08918562, 0.91081438],\n",
       "       [0.14217307, 0.85782693],\n",
       "       [0.13249868, 0.86750132],\n",
       "       [0.07077105, 0.92922895],\n",
       "       [0.56769116, 0.43230884],\n",
       "       [0.06709094, 0.93290906],\n",
       "       [0.09984258, 0.90015742],\n",
       "       [0.08676004, 0.91323996],\n",
       "       [0.17862222, 0.82137778],\n",
       "       [0.57419267, 0.42580733],\n",
       "       [0.42851821, 0.57148179],\n",
       "       [0.45018427, 0.54981573],\n",
       "       [0.13753407, 0.86246593],\n",
       "       [0.1224417 , 0.8775583 ],\n",
       "       [0.83149761, 0.16850239],\n",
       "       [0.72344004, 0.27655996],\n",
       "       [0.72539019, 0.27460981],\n",
       "       [0.20866828, 0.79133172]])"
      ]
     },
     "execution_count": 21,
     "metadata": {},
     "output_type": "execute_result"
    }
   ],
   "source": [
    "fitted_pipeline.predict_proba(X_test)"
   ]
  },
  {
   "cell_type": "code",
   "execution_count": 22,
   "id": "0b623c32",
   "metadata": {},
   "outputs": [
    {
     "data": {
      "text/plain": [
       "array([0, 1, 1, 1, 1, 1, 1, 1, 1, 1, 1, 0, 1, 0, 0, 0, 1, 1, 0, 1, 1, 0,\n",
       "       1, 1, 1, 0, 1, 1, 1, 1, 1, 1, 0, 1, 1, 1, 1, 1, 1, 0, 1, 1, 1, 1,\n",
       "       1, 1, 0, 0, 0, 1, 0, 1, 1, 0, 1, 1, 1, 0, 1, 1, 1, 0, 0, 1, 1, 1,\n",
       "       1, 1, 1, 0, 1, 1, 1, 1, 1, 0, 0, 1, 0, 0, 1, 1, 1, 1, 1, 0, 0, 0,\n",
       "       1, 1, 1, 1, 0, 1, 1, 1, 1, 1, 0, 0, 1, 0, 0, 1, 1, 1, 1, 1, 1, 0,\n",
       "       0, 1, 1, 1, 1, 1, 0, 0, 1, 1, 1, 1, 1, 1, 0, 0, 0, 1, 1, 1, 1, 0,\n",
       "       0, 1, 1, 1, 0, 1, 1, 1, 0, 1, 0, 1, 1, 0, 1, 1, 0, 0, 1, 1, 1, 0,\n",
       "       1, 1, 1, 1, 1, 0, 0, 1, 0, 1, 1, 0, 1, 1, 1, 1, 1, 1, 1, 1, 1, 1,\n",
       "       1, 1, 1, 0, 1, 1, 1, 1, 1, 0, 0, 1, 1, 1, 0, 1, 0, 0, 0, 1, 0, 1,\n",
       "       1, 1])"
      ]
     },
     "execution_count": 22,
     "metadata": {},
     "output_type": "execute_result"
    }
   ],
   "source": [
    "y_test"
   ]
  },
  {
   "cell_type": "code",
   "execution_count": null,
   "id": "4a1043bd",
   "metadata": {},
   "outputs": [],
   "source": []
  },
  {
   "cell_type": "markdown",
   "id": "c995ec2a",
   "metadata": {},
   "source": [
    "## Training Set Evaluation"
   ]
  },
  {
   "cell_type": "markdown",
   "id": "42753452",
   "metadata": {},
   "source": [
    "Understand the nature/degree of model overfitting by comparing to `Test Set Evaluation`"
   ]
  },
  {
   "cell_type": "code",
   "execution_count": 23,
   "id": "715baf29",
   "metadata": {},
   "outputs": [],
   "source": [
    "predicted_scores = fitted_pipeline.predict_proba(X_train)[:, 1]"
   ]
  },
  {
   "cell_type": "code",
   "execution_count": 24,
   "id": "19cebd6f",
   "metadata": {},
   "outputs": [
    {
     "data": {
      "image/png": "[encoded data removed]",
      "text/plain": [
       "<Figure size 432x288 with 1 Axes>"
      ]
     },
     "metadata": {
      "needs_background": "light"
     },
     "output_type": "display_data"
    }
   ],
   "source": [
    "sns.histplot(predicted_scores)\n",
    "plt.tight_layout()"
   ]
  },
  {
   "cell_type": "code",
   "execution_count": 25,
   "id": "19afe1a7",
   "metadata": {},
   "outputs": [],
   "source": [
    "\n",
    "evaluator = hlp.sklearn_eval.TwoClassEvaluator(\n",
    "    actual_values=y_train,\n",
    "    predicted_scores=predicted_scores,\n",
    "    labels=('Bad', 'Good'),\n",
    "    score_threshold=0.5\n",
    ")"
   ]
  },
  {
   "cell_type": "code",
   "execution_count": 26,
   "id": "aa907fdc",
   "metadata": {},
   "outputs": [
    {
     "data": {
      "text/html": [
       "<style type=\"text/css\">\n",
       "#T_269d3_row0_col0 {\n",
       "  width: 10em;\n",
       "  height: 80%;\n",
       "  background: linear-gradient(90deg,#1AAF54 80.4%, transparent 80.4%);\n",
       "}\n",
       "#T_269d3_row1_col0 {\n",
       "  width: 10em;\n",
       "  height: 80%;\n",
       "  background: linear-gradient(90deg,#1AAF54 90.3%, transparent 90.3%);\n",
       "}\n",
       "#T_269d3_row2_col0 {\n",
       "  width: 10em;\n",
       "  height: 80%;\n",
       "  background: linear-gradient(90deg,#1AAF54 44.8%, transparent 44.8%);\n",
       "}\n",
       "#T_269d3_row3_col0 {\n",
       "  width: 10em;\n",
       "  height: 80%;\n",
       "  background: linear-gradient(90deg,#1AAF54 55.2%, transparent 55.2%);\n",
       "  width: 10em;\n",
       "  height: 80%;\n",
       "  background: linear-gradient(90deg,#FF420E 55.2%, transparent 55.2%);\n",
       "}\n",
       "#T_269d3_row4_col0 {\n",
       "  width: 10em;\n",
       "  height: 80%;\n",
       "  background: linear-gradient(90deg,#1AAF54 9.7%, transparent 9.7%);\n",
       "  width: 10em;\n",
       "  height: 80%;\n",
       "  background: linear-gradient(90deg,#FF420E 9.7%, transparent 9.7%);\n",
       "}\n",
       "#T_269d3_row5_col0 {\n",
       "  width: 10em;\n",
       "  height: 80%;\n",
       "  background: linear-gradient(90deg,#1AAF54 79.2%, transparent 79.2%);\n",
       "}\n",
       "#T_269d3_row6_col0 {\n",
       "  width: 10em;\n",
       "  height: 80%;\n",
       "  background: linear-gradient(90deg,#1AAF54 66.7%, transparent 66.7%);\n",
       "}\n",
       "#T_269d3_row7_col0 {\n",
       "  width: 10em;\n",
       "  height: 80%;\n",
       "  background: linear-gradient(90deg,#1AAF54 84.4%, transparent 84.4%);\n",
       "}\n",
       "#T_269d3_row8_col0 {\n",
       "  width: 10em;\n",
       "  height: 80%;\n",
       "  background: linear-gradient(90deg,#1AAF54 76.6%, transparent 76.6%);\n",
       "  width: 10em;\n",
       "  height: 80%;\n",
       "  background: linear-gradient(90deg,#B4B7B9 76.6%, transparent 76.6%);\n",
       "}\n",
       "#T_269d3_row9_col0 {\n",
       "  width: 10em;\n",
       "  height: 80%;\n",
       "  background: linear-gradient(90deg,#1AAF54 23.4%, transparent 23.4%);\n",
       "  width: 10em;\n",
       "  height: 80%;\n",
       "  background: linear-gradient(90deg,#B4B7B9 23.4%, transparent 23.4%);\n",
       "}\n",
       "#T_269d3_row10_col0 {\n",
       "  width: 10em;\n",
       "  height: 80%;\n",
       "  background: linear-gradient(90deg,#1AAF54 69.9%, transparent 69.9%);\n",
       "  width: 10em;\n",
       "  height: 80%;\n",
       "  background: linear-gradient(90deg,#B4B7B9 69.9%, transparent 69.9%);\n",
       "}\n",
       "</style>\n",
       "<table id=\"T_269d3_\">\n",
       "  <thead>\n",
       "    <tr>\n",
       "      <th class=\"blank level0\" >&nbsp;</th>\n",
       "      <th class=\"col_heading level0 col0\" >Scores</th>\n",
       "      <th class=\"col_heading level0 col1\" >Details</th>\n",
       "    </tr>\n",
       "  </thead>\n",
       "  <tbody>\n",
       "    <tr>\n",
       "      <th id=\"T_269d3_level0_row0\" class=\"row_heading level0 row0\" >AUC</th>\n",
       "      <td id=\"T_269d3_row0_col0\" class=\"data row0 col0\" >0.804</td>\n",
       "      <td id=\"T_269d3_row0_col1\" class=\"data row0 col1\" >Area under the ROC curve (true pos. rate vs false pos. rate); ranges from 0.5 (purely random classifier) to 1.0 (perfect classifier)</td>\n",
       "    </tr>\n",
       "    <tr>\n",
       "      <th id=\"T_269d3_level0_row1\" class=\"row_heading level0 row1\" >True Positive Rate</th>\n",
       "      <td id=\"T_269d3_row1_col0\" class=\"data row1 col0\" >0.903</td>\n",
       "      <td id=\"T_269d3_row1_col1\" class=\"data row1 col1\" >90.3% of positive instances were correctly identified.; i.e. 505 \"Good\" labels were correctly identified out of 559 instances; a.k.a Sensitivity/Recall</td>\n",
       "    </tr>\n",
       "    <tr>\n",
       "      <th id=\"T_269d3_level0_row2\" class=\"row_heading level0 row2\" >True Negative Rate</th>\n",
       "      <td id=\"T_269d3_row2_col0\" class=\"data row2 col0\" >0.448</td>\n",
       "      <td id=\"T_269d3_row2_col1\" class=\"data row2 col1\" >44.8% of negative instances were correctly identified.; i.e. 108 \"Bad\" labels were correctly identified out of 241 instances</td>\n",
       "    </tr>\n",
       "    <tr>\n",
       "      <th id=\"T_269d3_level0_row3\" class=\"row_heading level0 row3\" >False Positive Rate</th>\n",
       "      <td id=\"T_269d3_row3_col0\" class=\"data row3 col0\" >0.552</td>\n",
       "      <td id=\"T_269d3_row3_col1\" class=\"data row3 col1\" >55.2% of negative instances were incorrectly identified as positive; i.e. 133 \"Bad\" labels were incorrectly identified as \"Good\", out of 241 instances</td>\n",
       "    </tr>\n",
       "    <tr>\n",
       "      <th id=\"T_269d3_level0_row4\" class=\"row_heading level0 row4\" >False Negative Rate</th>\n",
       "      <td id=\"T_269d3_row4_col0\" class=\"data row4 col0\" >0.097</td>\n",
       "      <td id=\"T_269d3_row4_col1\" class=\"data row4 col1\" >9.7% of positive instances were incorrectly identified as negative; i.e. 54 \"Good\" labels were incorrectly identified as \"Bad\", out of 559 instances</td>\n",
       "    </tr>\n",
       "    <tr>\n",
       "      <th id=\"T_269d3_level0_row5\" class=\"row_heading level0 row5\" >Positive Predictive Value</th>\n",
       "      <td id=\"T_269d3_row5_col0\" class=\"data row5 col0\" >0.792</td>\n",
       "      <td id=\"T_269d3_row5_col1\" class=\"data row5 col1\" >When the model claims an instance is positive, it is correct 79.2% of the time; i.e. out of the 638 times the model predicted \"Good\", it was correct 505 times; a.k.a precision</td>\n",
       "    </tr>\n",
       "    <tr>\n",
       "      <th id=\"T_269d3_level0_row6\" class=\"row_heading level0 row6\" >Negative Predictive Value</th>\n",
       "      <td id=\"T_269d3_row6_col0\" class=\"data row6 col0\" >0.667</td>\n",
       "      <td id=\"T_269d3_row6_col1\" class=\"data row6 col1\" >When the model claims an instance is negative, it is correct 66.7% of the time; i.e. out of the 162 times the model predicted \"Bad\", it was correct 108 times</td>\n",
       "    </tr>\n",
       "    <tr>\n",
       "      <th id=\"T_269d3_level0_row7\" class=\"row_heading level0 row7\" >F1 Score</th>\n",
       "      <td id=\"T_269d3_row7_col0\" class=\"data row7 col0\" >0.844</td>\n",
       "      <td id=\"T_269d3_row7_col1\" class=\"data row7 col1\" >The F1 score can be interpreted as a weighted average of the precision and recall, where an F1 score reaches its best value at 1 and worst score at 0.</td>\n",
       "    </tr>\n",
       "    <tr>\n",
       "      <th id=\"T_269d3_level0_row8\" class=\"row_heading level0 row8\" >Accuracy</th>\n",
       "      <td id=\"T_269d3_row8_col0\" class=\"data row8 col0\" >0.766</td>\n",
       "      <td id=\"T_269d3_row8_col1\" class=\"data row8 col1\" >76.6% of instances were correctly identified</td>\n",
       "    </tr>\n",
       "    <tr>\n",
       "      <th id=\"T_269d3_level0_row9\" class=\"row_heading level0 row9\" >Error Rate</th>\n",
       "      <td id=\"T_269d3_row9_col0\" class=\"data row9 col0\" >0.234</td>\n",
       "      <td id=\"T_269d3_row9_col1\" class=\"data row9 col1\" >23.4% of instances were incorrectly identified</td>\n",
       "    </tr>\n",
       "    <tr>\n",
       "      <th id=\"T_269d3_level0_row10\" class=\"row_heading level0 row10\" >% Positive</th>\n",
       "      <td id=\"T_269d3_row10_col0\" class=\"data row10 col0\" >0.699</td>\n",
       "      <td id=\"T_269d3_row10_col1\" class=\"data row10 col1\" >69.9% of the data are positive; i.e. out of 800 total observations; 559 are labeled as \"Good\"</td>\n",
       "    </tr>\n",
       "    <tr>\n",
       "      <th id=\"T_269d3_level0_row11\" class=\"row_heading level0 row11\" >Total Observations</th>\n",
       "      <td id=\"T_269d3_row11_col0\" class=\"data row11 col0\" >800</td>\n",
       "      <td id=\"T_269d3_row11_col1\" class=\"data row11 col1\" >There are 800 total observations; i.e. sample size</td>\n",
       "    </tr>\n",
       "  </tbody>\n",
       "</table>\n"
      ],
      "text/plain": [
       "<pandas.io.formats.style.Styler at 0x7fc548b4d6d0>"
      ]
     },
     "execution_count": 26,
     "metadata": {},
     "output_type": "execute_result"
    }
   ],
   "source": [
    "evaluator.all_metrics_df(return_style=True, round_by=3)"
   ]
  },
  {
   "cell_type": "code",
   "execution_count": 27,
   "id": "bd7e99d7",
   "metadata": {
    "pycharm": {
     "name": "#%%\n"
    }
   },
   "outputs": [],
   "source": [
    "del predicted_scores"
   ]
  },
  {
   "cell_type": "markdown",
   "id": "99a47e94",
   "metadata": {},
   "source": [
    "## Test Set Evaluation"
   ]
  },
  {
   "cell_type": "code",
   "execution_count": 28,
   "id": "82b97c55",
   "metadata": {},
   "outputs": [],
   "source": [
    "predicted_scores = fitted_pipeline.predict_proba(X_test)[:, 1]"
   ]
  },
  {
   "cell_type": "code",
   "execution_count": 29,
   "id": "61c68884",
   "metadata": {},
   "outputs": [
    {
     "data": {
      "text/plain": [
       "array([0.60866542, 0.61235435, 0.43677505, 0.71286788, 0.8892578 ,\n",
       "       0.60259701, 0.89189488, 0.63101231, 0.85851647, 0.85250974])"
      ]
     },
     "execution_count": 29,
     "metadata": {},
     "output_type": "execute_result"
    }
   ],
   "source": [
    "predicted_scores[0:10]"
   ]
  },
  {
   "cell_type": "code",
   "execution_count": 30,
   "id": "648c23c9",
   "metadata": {},
   "outputs": [
    {
     "data": {
      "image/png": "[encoded data removed]",
      "text/plain": [
       "<Figure size 432x288 with 1 Axes>"
      ]
     },
     "metadata": {
      "needs_background": "light"
     },
     "output_type": "display_data"
    }
   ],
   "source": [
    "sns.histplot(predicted_scores)\n",
    "plt.tight_layout()"
   ]
  },
  {
   "cell_type": "code",
   "execution_count": 31,
   "id": "f6ce7733",
   "metadata": {
    "pycharm": {
     "name": "#%%\n"
    }
   },
   "outputs": [
    {
     "data": {
      "text/plain": [
       "0    Not Defaulted\n",
       "1        Defaulted\n",
       "2        Defaulted\n",
       "3        Defaulted\n",
       "4        Defaulted\n",
       "dtype: object"
      ]
     },
     "execution_count": 31,
     "metadata": {},
     "output_type": "execute_result"
    }
   ],
   "source": [
    "y_test_cat = pd.Series(y_test).replace({1: 'Defaulted', 0: 'Not Defaulted'})\n",
    "y_test_cat.head()"
   ]
  },
  {
   "cell_type": "code",
   "execution_count": 32,
   "id": "38f2c315",
   "metadata": {
    "pycharm": {
     "name": "#%%\n"
    }
   },
   "outputs": [
    {
     "data": {
      "image/png": "[encoded data removed]",
      "text/plain": [
       "<Figure size 720x360 with 2 Axes>"
      ]
     },
     "metadata": {
      "needs_background": "light"
     },
     "output_type": "display_data"
    }
   ],
   "source": [
    "axes = sns.displot(\n",
    "    pd.DataFrame({\n",
    "        'prediction': predicted_scores,\n",
    "        'actual': y_test_cat\n",
    "    }),\n",
    "    x='prediction',\n",
    "    col='actual'\n",
    ")\n",
    "for axis in axes.axes.flat:\n",
    "    axis.axvline(x=0.5, ymin=0, ymax=100, color='red')\n",
    "plt.tight_layout()"
   ]
  },
  {
   "cell_type": "code",
   "execution_count": 33,
   "id": "5d3b9658",
   "metadata": {
    "pycharm": {
     "name": "#%%\n"
    }
   },
   "outputs": [],
   "source": [
    "del y_test_cat\n",
    "del axes"
   ]
  },
  {
   "cell_type": "code",
   "execution_count": 34,
   "id": "4b64e733",
   "metadata": {},
   "outputs": [],
   "source": [
    "evaluator = hlp.sklearn_eval.TwoClassEvaluator(\n",
    "    actual_values=y_test,\n",
    "    predicted_scores=predicted_scores,\n",
    "    labels=('Bad', 'Good'),\n",
    "    score_threshold=0.5\n",
    ")"
   ]
  },
  {
   "cell_type": "code",
   "execution_count": 35,
   "id": "a17343a2",
   "metadata": {},
   "outputs": [
    {
     "data": {
      "image/png": "[encoded data removed]",
      "text/plain": [
       "<Figure size 432x288 with 2 Axes>"
      ]
     },
     "metadata": {
      "needs_background": "light"
     },
     "output_type": "display_data"
    }
   ],
   "source": [
    "evaluator.plot_confusion_matrix()"
   ]
  },
  {
   "cell_type": "code",
   "execution_count": 36,
   "id": "9516f3bb",
   "metadata": {},
   "outputs": [
    {
     "data": {
      "text/html": [
       "<style type=\"text/css\">\n",
       "#T_90d90_row0_col0 {\n",
       "  width: 10em;\n",
       "  height: 80%;\n",
       "  background: linear-gradient(90deg,#1AAF54 80.8%, transparent 80.8%);\n",
       "}\n",
       "#T_90d90_row1_col0 {\n",
       "  width: 10em;\n",
       "  height: 80%;\n",
       "  background: linear-gradient(90deg,#1AAF54 88.7%, transparent 88.7%);\n",
       "}\n",
       "#T_90d90_row2_col0 {\n",
       "  width: 10em;\n",
       "  height: 80%;\n",
       "  background: linear-gradient(90deg,#1AAF54 45.8%, transparent 45.8%);\n",
       "}\n",
       "#T_90d90_row3_col0 {\n",
       "  width: 10em;\n",
       "  height: 80%;\n",
       "  background: linear-gradient(90deg,#1AAF54 54.2%, transparent 54.2%);\n",
       "  width: 10em;\n",
       "  height: 80%;\n",
       "  background: linear-gradient(90deg,#FF420E 54.2%, transparent 54.2%);\n",
       "}\n",
       "#T_90d90_row4_col0 {\n",
       "  width: 10em;\n",
       "  height: 80%;\n",
       "  background: linear-gradient(90deg,#1AAF54 11.3%, transparent 11.3%);\n",
       "  width: 10em;\n",
       "  height: 80%;\n",
       "  background: linear-gradient(90deg,#FF420E 11.3%, transparent 11.3%);\n",
       "}\n",
       "#T_90d90_row5_col0 {\n",
       "  width: 10em;\n",
       "  height: 80%;\n",
       "  background: linear-gradient(90deg,#1AAF54 79.6%, transparent 79.6%);\n",
       "}\n",
       "#T_90d90_row6_col0 {\n",
       "  width: 10em;\n",
       "  height: 80%;\n",
       "  background: linear-gradient(90deg,#1AAF54 62.8%, transparent 62.8%);\n",
       "}\n",
       "#T_90d90_row7_col0 {\n",
       "  width: 10em;\n",
       "  height: 80%;\n",
       "  background: linear-gradient(90deg,#1AAF54 83.9%, transparent 83.9%);\n",
       "}\n",
       "#T_90d90_row8_col0 {\n",
       "  width: 10em;\n",
       "  height: 80%;\n",
       "  background: linear-gradient(90deg,#1AAF54 76.0%, transparent 76.0%);\n",
       "  width: 10em;\n",
       "  height: 80%;\n",
       "  background: linear-gradient(90deg,#B4B7B9 76.0%, transparent 76.0%);\n",
       "}\n",
       "#T_90d90_row9_col0 {\n",
       "  width: 10em;\n",
       "  height: 80%;\n",
       "  background: linear-gradient(90deg,#1AAF54 24.0%, transparent 24.0%);\n",
       "  width: 10em;\n",
       "  height: 80%;\n",
       "  background: linear-gradient(90deg,#B4B7B9 24.0%, transparent 24.0%);\n",
       "}\n",
       "#T_90d90_row10_col0 {\n",
       "  width: 10em;\n",
       "  height: 80%;\n",
       "  background: linear-gradient(90deg,#1AAF54 70.5%, transparent 70.5%);\n",
       "  width: 10em;\n",
       "  height: 80%;\n",
       "  background: linear-gradient(90deg,#B4B7B9 70.5%, transparent 70.5%);\n",
       "}\n",
       "</style>\n",
       "<table id=\"T_90d90_\">\n",
       "  <thead>\n",
       "    <tr>\n",
       "      <th class=\"blank level0\" >&nbsp;</th>\n",
       "      <th class=\"col_heading level0 col0\" >Scores</th>\n",
       "      <th class=\"col_heading level0 col1\" >Details</th>\n",
       "    </tr>\n",
       "  </thead>\n",
       "  <tbody>\n",
       "    <tr>\n",
       "      <th id=\"T_90d90_level0_row0\" class=\"row_heading level0 row0\" >AUC</th>\n",
       "      <td id=\"T_90d90_row0_col0\" class=\"data row0 col0\" >0.808</td>\n",
       "      <td id=\"T_90d90_row0_col1\" class=\"data row0 col1\" >Area under the ROC curve (true pos. rate vs false pos. rate); ranges from 0.5 (purely random classifier) to 1.0 (perfect classifier)</td>\n",
       "    </tr>\n",
       "    <tr>\n",
       "      <th id=\"T_90d90_level0_row1\" class=\"row_heading level0 row1\" >True Positive Rate</th>\n",
       "      <td id=\"T_90d90_row1_col0\" class=\"data row1 col0\" >0.887</td>\n",
       "      <td id=\"T_90d90_row1_col1\" class=\"data row1 col1\" >88.7% of positive instances were correctly identified.; i.e. 125 \"Good\" labels were correctly identified out of 141 instances; a.k.a Sensitivity/Recall</td>\n",
       "    </tr>\n",
       "    <tr>\n",
       "      <th id=\"T_90d90_level0_row2\" class=\"row_heading level0 row2\" >True Negative Rate</th>\n",
       "      <td id=\"T_90d90_row2_col0\" class=\"data row2 col0\" >0.458</td>\n",
       "      <td id=\"T_90d90_row2_col1\" class=\"data row2 col1\" >45.8% of negative instances were correctly identified.; i.e. 27 \"Bad\" labels were correctly identified out of 59 instances</td>\n",
       "    </tr>\n",
       "    <tr>\n",
       "      <th id=\"T_90d90_level0_row3\" class=\"row_heading level0 row3\" >False Positive Rate</th>\n",
       "      <td id=\"T_90d90_row3_col0\" class=\"data row3 col0\" >0.542</td>\n",
       "      <td id=\"T_90d90_row3_col1\" class=\"data row3 col1\" >54.2% of negative instances were incorrectly identified as positive; i.e. 32 \"Bad\" labels were incorrectly identified as \"Good\", out of 59 instances</td>\n",
       "    </tr>\n",
       "    <tr>\n",
       "      <th id=\"T_90d90_level0_row4\" class=\"row_heading level0 row4\" >False Negative Rate</th>\n",
       "      <td id=\"T_90d90_row4_col0\" class=\"data row4 col0\" >0.113</td>\n",
       "      <td id=\"T_90d90_row4_col1\" class=\"data row4 col1\" >11.3% of positive instances were incorrectly identified as negative; i.e. 16 \"Good\" labels were incorrectly identified as \"Bad\", out of 141 instances</td>\n",
       "    </tr>\n",
       "    <tr>\n",
       "      <th id=\"T_90d90_level0_row5\" class=\"row_heading level0 row5\" >Positive Predictive Value</th>\n",
       "      <td id=\"T_90d90_row5_col0\" class=\"data row5 col0\" >0.796</td>\n",
       "      <td id=\"T_90d90_row5_col1\" class=\"data row5 col1\" >When the model claims an instance is positive, it is correct 79.6% of the time; i.e. out of the 157 times the model predicted \"Good\", it was correct 125 times; a.k.a precision</td>\n",
       "    </tr>\n",
       "    <tr>\n",
       "      <th id=\"T_90d90_level0_row6\" class=\"row_heading level0 row6\" >Negative Predictive Value</th>\n",
       "      <td id=\"T_90d90_row6_col0\" class=\"data row6 col0\" >0.628</td>\n",
       "      <td id=\"T_90d90_row6_col1\" class=\"data row6 col1\" >When the model claims an instance is negative, it is correct 62.8% of the time; i.e. out of the 43 times the model predicted \"Bad\", it was correct 27 times</td>\n",
       "    </tr>\n",
       "    <tr>\n",
       "      <th id=\"T_90d90_level0_row7\" class=\"row_heading level0 row7\" >F1 Score</th>\n",
       "      <td id=\"T_90d90_row7_col0\" class=\"data row7 col0\" >0.839</td>\n",
       "      <td id=\"T_90d90_row7_col1\" class=\"data row7 col1\" >The F1 score can be interpreted as a weighted average of the precision and recall, where an F1 score reaches its best value at 1 and worst score at 0.</td>\n",
       "    </tr>\n",
       "    <tr>\n",
       "      <th id=\"T_90d90_level0_row8\" class=\"row_heading level0 row8\" >Accuracy</th>\n",
       "      <td id=\"T_90d90_row8_col0\" class=\"data row8 col0\" >0.760</td>\n",
       "      <td id=\"T_90d90_row8_col1\" class=\"data row8 col1\" >76.0% of instances were correctly identified</td>\n",
       "    </tr>\n",
       "    <tr>\n",
       "      <th id=\"T_90d90_level0_row9\" class=\"row_heading level0 row9\" >Error Rate</th>\n",
       "      <td id=\"T_90d90_row9_col0\" class=\"data row9 col0\" >0.240</td>\n",
       "      <td id=\"T_90d90_row9_col1\" class=\"data row9 col1\" >24.0% of instances were incorrectly identified</td>\n",
       "    </tr>\n",
       "    <tr>\n",
       "      <th id=\"T_90d90_level0_row10\" class=\"row_heading level0 row10\" >% Positive</th>\n",
       "      <td id=\"T_90d90_row10_col0\" class=\"data row10 col0\" >0.705</td>\n",
       "      <td id=\"T_90d90_row10_col1\" class=\"data row10 col1\" >70.5% of the data are positive; i.e. out of 200 total observations; 141 are labeled as \"Good\"</td>\n",
       "    </tr>\n",
       "    <tr>\n",
       "      <th id=\"T_90d90_level0_row11\" class=\"row_heading level0 row11\" >Total Observations</th>\n",
       "      <td id=\"T_90d90_row11_col0\" class=\"data row11 col0\" >200</td>\n",
       "      <td id=\"T_90d90_row11_col1\" class=\"data row11 col1\" >There are 200 total observations; i.e. sample size</td>\n",
       "    </tr>\n",
       "  </tbody>\n",
       "</table>\n"
      ],
      "text/plain": [
       "<pandas.io.formats.style.Styler at 0x7fc55859beb0>"
      ]
     },
     "execution_count": 36,
     "metadata": {},
     "output_type": "execute_result"
    }
   ],
   "source": [
    "evaluator.all_metrics_df(return_style=True, round_by=3)"
   ]
  },
  {
   "cell_type": "markdown",
   "id": "09a3204d",
   "metadata": {},
   "source": [
    "Compare results against scores if we predicted all `Good`"
   ]
  },
  {
   "cell_type": "code",
   "execution_count": 37,
   "id": "59c27052",
   "metadata": {},
   "outputs": [],
   "source": [
    "dummy_predicted_scores = np.array([0.99] * len(predicted_scores))"
   ]
  },
  {
   "cell_type": "code",
   "execution_count": 38,
   "id": "f3278fdd",
   "metadata": {},
   "outputs": [
    {
     "data": {
      "text/html": [
       "<style type=\"text/css\">\n",
       "#T_de247_row0_col0 {\n",
       "  width: 10em;\n",
       "  height: 80%;\n",
       "  background: linear-gradient(90deg,#1AAF54 50.0%, transparent 50.0%);\n",
       "}\n",
       "#T_de247_row1_col0 {\n",
       "  width: 10em;\n",
       "  height: 80%;\n",
       "  background: linear-gradient(90deg,#1AAF54 100.0%, transparent 100.0%);\n",
       "}\n",
       "#T_de247_row2_col0, #T_de247_row6_col0 {\n",
       "  width: 10em;\n",
       "  height: 80%;\n",
       "}\n",
       "#T_de247_row3_col0 {\n",
       "  width: 10em;\n",
       "  height: 80%;\n",
       "  background: linear-gradient(90deg,#1AAF54 100.0%, transparent 100.0%);\n",
       "  width: 10em;\n",
       "  height: 80%;\n",
       "  background: linear-gradient(90deg,#FF420E 100.0%, transparent 100.0%);\n",
       "}\n",
       "#T_de247_row4_col0 {\n",
       "  width: 10em;\n",
       "  height: 80%;\n",
       "  width: 10em;\n",
       "  height: 80%;\n",
       "}\n",
       "#T_de247_row5_col0 {\n",
       "  width: 10em;\n",
       "  height: 80%;\n",
       "  background: linear-gradient(90deg,#1AAF54 70.5%, transparent 70.5%);\n",
       "}\n",
       "#T_de247_row7_col0 {\n",
       "  width: 10em;\n",
       "  height: 80%;\n",
       "  background: linear-gradient(90deg,#1AAF54 82.7%, transparent 82.7%);\n",
       "}\n",
       "#T_de247_row8_col0, #T_de247_row10_col0 {\n",
       "  width: 10em;\n",
       "  height: 80%;\n",
       "  background: linear-gradient(90deg,#1AAF54 70.5%, transparent 70.5%);\n",
       "  width: 10em;\n",
       "  height: 80%;\n",
       "  background: linear-gradient(90deg,#B4B7B9 70.5%, transparent 70.5%);\n",
       "}\n",
       "#T_de247_row9_col0 {\n",
       "  width: 10em;\n",
       "  height: 80%;\n",
       "  background: linear-gradient(90deg,#1AAF54 29.5%, transparent 29.5%);\n",
       "  width: 10em;\n",
       "  height: 80%;\n",
       "  background: linear-gradient(90deg,#B4B7B9 29.5%, transparent 29.5%);\n",
       "}\n",
       "</style>\n",
       "<table id=\"T_de247_\">\n",
       "  <thead>\n",
       "    <tr>\n",
       "      <th class=\"blank level0\" >&nbsp;</th>\n",
       "      <th class=\"col_heading level0 col0\" >Scores</th>\n",
       "      <th class=\"col_heading level0 col1\" >Details</th>\n",
       "    </tr>\n",
       "  </thead>\n",
       "  <tbody>\n",
       "    <tr>\n",
       "      <th id=\"T_de247_level0_row0\" class=\"row_heading level0 row0\" >AUC</th>\n",
       "      <td id=\"T_de247_row0_col0\" class=\"data row0 col0\" >0.500</td>\n",
       "      <td id=\"T_de247_row0_col1\" class=\"data row0 col1\" >Area under the ROC curve (true pos. rate vs false pos. rate); ranges from 0.5 (purely random classifier) to 1.0 (perfect classifier)</td>\n",
       "    </tr>\n",
       "    <tr>\n",
       "      <th id=\"T_de247_level0_row1\" class=\"row_heading level0 row1\" >True Positive Rate</th>\n",
       "      <td id=\"T_de247_row1_col0\" class=\"data row1 col0\" >1.000</td>\n",
       "      <td id=\"T_de247_row1_col1\" class=\"data row1 col1\" >100.0% of positive instances were correctly identified.; i.e. 141 \"Good\" labels were correctly identified out of 141 instances; a.k.a Sensitivity/Recall</td>\n",
       "    </tr>\n",
       "    <tr>\n",
       "      <th id=\"T_de247_level0_row2\" class=\"row_heading level0 row2\" >True Negative Rate</th>\n",
       "      <td id=\"T_de247_row2_col0\" class=\"data row2 col0\" >0.000</td>\n",
       "      <td id=\"T_de247_row2_col1\" class=\"data row2 col1\" >0.0% of negative instances were correctly identified.; i.e. 0 \"Bad\" labels were correctly identified out of 59 instances</td>\n",
       "    </tr>\n",
       "    <tr>\n",
       "      <th id=\"T_de247_level0_row3\" class=\"row_heading level0 row3\" >False Positive Rate</th>\n",
       "      <td id=\"T_de247_row3_col0\" class=\"data row3 col0\" >1.000</td>\n",
       "      <td id=\"T_de247_row3_col1\" class=\"data row3 col1\" >100.0% of negative instances were incorrectly identified as positive; i.e. 59 \"Bad\" labels were incorrectly identified as \"Good\", out of 59 instances</td>\n",
       "    </tr>\n",
       "    <tr>\n",
       "      <th id=\"T_de247_level0_row4\" class=\"row_heading level0 row4\" >False Negative Rate</th>\n",
       "      <td id=\"T_de247_row4_col0\" class=\"data row4 col0\" >0.000</td>\n",
       "      <td id=\"T_de247_row4_col1\" class=\"data row4 col1\" >0.0% of positive instances were incorrectly identified as negative; i.e. 0 \"Good\" labels were incorrectly identified as \"Bad\", out of 141 instances</td>\n",
       "    </tr>\n",
       "    <tr>\n",
       "      <th id=\"T_de247_level0_row5\" class=\"row_heading level0 row5\" >Positive Predictive Value</th>\n",
       "      <td id=\"T_de247_row5_col0\" class=\"data row5 col0\" >0.705</td>\n",
       "      <td id=\"T_de247_row5_col1\" class=\"data row5 col1\" >When the model claims an instance is positive, it is correct 70.5% of the time; i.e. out of the 200 times the model predicted \"Good\", it was correct 141 times; a.k.a precision</td>\n",
       "    </tr>\n",
       "    <tr>\n",
       "      <th id=\"T_de247_level0_row6\" class=\"row_heading level0 row6\" >Negative Predictive Value</th>\n",
       "      <td id=\"T_de247_row6_col0\" class=\"data row6 col0\" >0.000</td>\n",
       "      <td id=\"T_de247_row6_col1\" class=\"data row6 col1\" >When the model claims an instance is negative, it is correct 0.0% of the time; i.e. out of the 0 times the model predicted \"Bad\", it was correct 0 times</td>\n",
       "    </tr>\n",
       "    <tr>\n",
       "      <th id=\"T_de247_level0_row7\" class=\"row_heading level0 row7\" >F1 Score</th>\n",
       "      <td id=\"T_de247_row7_col0\" class=\"data row7 col0\" >0.827</td>\n",
       "      <td id=\"T_de247_row7_col1\" class=\"data row7 col1\" >The F1 score can be interpreted as a weighted average of the precision and recall, where an F1 score reaches its best value at 1 and worst score at 0.</td>\n",
       "    </tr>\n",
       "    <tr>\n",
       "      <th id=\"T_de247_level0_row8\" class=\"row_heading level0 row8\" >Accuracy</th>\n",
       "      <td id=\"T_de247_row8_col0\" class=\"data row8 col0\" >0.705</td>\n",
       "      <td id=\"T_de247_row8_col1\" class=\"data row8 col1\" >70.5% of instances were correctly identified</td>\n",
       "    </tr>\n",
       "    <tr>\n",
       "      <th id=\"T_de247_level0_row9\" class=\"row_heading level0 row9\" >Error Rate</th>\n",
       "      <td id=\"T_de247_row9_col0\" class=\"data row9 col0\" >0.295</td>\n",
       "      <td id=\"T_de247_row9_col1\" class=\"data row9 col1\" >29.5% of instances were incorrectly identified</td>\n",
       "    </tr>\n",
       "    <tr>\n",
       "      <th id=\"T_de247_level0_row10\" class=\"row_heading level0 row10\" >% Positive</th>\n",
       "      <td id=\"T_de247_row10_col0\" class=\"data row10 col0\" >0.705</td>\n",
       "      <td id=\"T_de247_row10_col1\" class=\"data row10 col1\" >70.5% of the data are positive; i.e. out of 200 total observations; 141 are labeled as \"Good\"</td>\n",
       "    </tr>\n",
       "    <tr>\n",
       "      <th id=\"T_de247_level0_row11\" class=\"row_heading level0 row11\" >Total Observations</th>\n",
       "      <td id=\"T_de247_row11_col0\" class=\"data row11 col0\" >200</td>\n",
       "      <td id=\"T_de247_row11_col1\" class=\"data row11 col1\" >There are 200 total observations; i.e. sample size</td>\n",
       "    </tr>\n",
       "  </tbody>\n",
       "</table>\n"
      ],
      "text/plain": [
       "<pandas.io.formats.style.Styler at 0x7fc55857f400>"
      ]
     },
     "execution_count": 38,
     "metadata": {},
     "output_type": "execute_result"
    }
   ],
   "source": [
    "dummy_eval = hlp.sklearn_eval.TwoClassEvaluator(\n",
    "    actual_values=y_test,\n",
    "    predicted_scores=dummy_predicted_scores,\n",
    "    labels=('Bad', 'Good'),\n",
    "    score_threshold=0.5\n",
    ")\n",
    "dummy_eval.all_metrics_df(return_style=True, round_by=3)"
   ]
  },
  {
   "cell_type": "code",
   "execution_count": 39,
   "id": "cc60bc2c",
   "metadata": {},
   "outputs": [
    {
     "data": {
      "image/png": "[encoded data removed]",
      "text/plain": [
       "<Figure size 720x444.984 with 1 Axes>"
      ]
     },
     "metadata": {
      "needs_background": "light"
     },
     "output_type": "display_data"
    }
   ],
   "source": [
    "evaluator.plot_auc_curve()\n",
    "plt.grid()"
   ]
  },
  {
   "cell_type": "code",
   "execution_count": 40,
   "id": "44c66aaf",
   "metadata": {},
   "outputs": [
    {
     "data": {
      "image/png": "[encoded data removed]",
      "text/plain": [
       "<Figure size 720x444.984 with 1 Axes>"
      ]
     },
     "metadata": {
      "needs_background": "light"
     },
     "output_type": "display_data"
    }
   ],
   "source": [
    "evaluator.plot_threshold_curves()\n",
    "plt.grid()"
   ]
  },
  {
   "cell_type": "code",
   "execution_count": 41,
   "id": "08f1bf81",
   "metadata": {},
   "outputs": [
    {
     "data": {
      "image/png": "[encoded data removed]",
      "text/plain": [
       "<Figure size 720x444.984 with 1 Axes>"
      ]
     },
     "metadata": {
      "needs_background": "light"
     },
     "output_type": "display_data"
    }
   ],
   "source": [
    "evaluator.plot_precision_recall_tradeoff(score_threshold_range=(0.4, 0.95))\n",
    "plt.grid()"
   ]
  },
  {
   "cell_type": "code",
   "execution_count": 42,
   "id": "74863f55",
   "metadata": {},
   "outputs": [
    {
     "data": {
      "text/html": [
       "<style type=\"text/css\">\n",
       "#T_d9bcc_row0_col3 {\n",
       "  width: 10em;\n",
       "  height: 80%;\n",
       "  background: linear-gradient(90deg,#7AA9CF 7.0%, transparent 7.0%);\n",
       "}\n",
       "#T_d9bcc_row0_col4, #T_d9bcc_row19_col3 {\n",
       "  width: 10em;\n",
       "  height: 80%;\n",
       "  background: linear-gradient(90deg,#7AA9CF 100.0%, transparent 100.0%);\n",
       "}\n",
       "#T_d9bcc_row1_col3 {\n",
       "  width: 10em;\n",
       "  height: 80%;\n",
       "  background: linear-gradient(90deg,#7AA9CF 13.0%, transparent 13.0%);\n",
       "}\n",
       "#T_d9bcc_row1_col4 {\n",
       "  width: 10em;\n",
       "  height: 80%;\n",
       "  background: linear-gradient(90deg,#7AA9CF 83.3%, transparent 83.3%);\n",
       "}\n",
       "#T_d9bcc_row2_col3 {\n",
       "  width: 10em;\n",
       "  height: 80%;\n",
       "  background: linear-gradient(90deg,#7AA9CF 21.0%, transparent 21.0%);\n",
       "}\n",
       "#T_d9bcc_row2_col4, #T_d9bcc_row5_col4 {\n",
       "  width: 10em;\n",
       "  height: 80%;\n",
       "  background: linear-gradient(90deg,#7AA9CF 88.1%, transparent 88.1%);\n",
       "}\n",
       "#T_d9bcc_row3_col3 {\n",
       "  width: 10em;\n",
       "  height: 80%;\n",
       "  background: linear-gradient(90deg,#7AA9CF 28.0%, transparent 28.0%);\n",
       "}\n",
       "#T_d9bcc_row3_col4 {\n",
       "  width: 10em;\n",
       "  height: 80%;\n",
       "  background: linear-gradient(90deg,#7AA9CF 90.5%, transparent 90.5%);\n",
       "}\n",
       "#T_d9bcc_row4_col3 {\n",
       "  width: 10em;\n",
       "  height: 80%;\n",
       "  background: linear-gradient(90deg,#7AA9CF 35.0%, transparent 35.0%);\n",
       "}\n",
       "#T_d9bcc_row4_col4 {\n",
       "  width: 10em;\n",
       "  height: 80%;\n",
       "  background: linear-gradient(90deg,#7AA9CF 92.9%, transparent 92.9%);\n",
       "}\n",
       "#T_d9bcc_row5_col3 {\n",
       "  width: 10em;\n",
       "  height: 80%;\n",
       "  background: linear-gradient(90deg,#7AA9CF 41.0%, transparent 41.0%);\n",
       "}\n",
       "#T_d9bcc_row6_col3 {\n",
       "  width: 10em;\n",
       "  height: 80%;\n",
       "  background: linear-gradient(90deg,#7AA9CF 47.0%, transparent 47.0%);\n",
       "}\n",
       "#T_d9bcc_row6_col4 {\n",
       "  width: 10em;\n",
       "  height: 80%;\n",
       "  background: linear-gradient(90deg,#7AA9CF 81.0%, transparent 81.0%);\n",
       "}\n",
       "#T_d9bcc_row7_col3 {\n",
       "  width: 10em;\n",
       "  height: 80%;\n",
       "  background: linear-gradient(90deg,#7AA9CF 52.0%, transparent 52.0%);\n",
       "}\n",
       "#T_d9bcc_row7_col4, #T_d9bcc_row10_col3 {\n",
       "  width: 10em;\n",
       "  height: 80%;\n",
       "  background: linear-gradient(90deg,#7AA9CF 69.0%, transparent 69.0%);\n",
       "}\n",
       "#T_d9bcc_row8_col3 {\n",
       "  width: 10em;\n",
       "  height: 80%;\n",
       "  background: linear-gradient(90deg,#7AA9CF 57.0%, transparent 57.0%);\n",
       "}\n",
       "#T_d9bcc_row8_col4 {\n",
       "  width: 10em;\n",
       "  height: 80%;\n",
       "  background: linear-gradient(90deg,#7AA9CF 61.9%, transparent 61.9%);\n",
       "}\n",
       "#T_d9bcc_row9_col3 {\n",
       "  width: 10em;\n",
       "  height: 80%;\n",
       "  background: linear-gradient(90deg,#7AA9CF 62.0%, transparent 62.0%);\n",
       "}\n",
       "#T_d9bcc_row9_col4, #T_d9bcc_row10_col4 {\n",
       "  width: 10em;\n",
       "  height: 80%;\n",
       "  background: linear-gradient(90deg,#7AA9CF 59.5%, transparent 59.5%);\n",
       "}\n",
       "#T_d9bcc_row11_col3 {\n",
       "  width: 10em;\n",
       "  height: 80%;\n",
       "  background: linear-gradient(90deg,#7AA9CF 74.0%, transparent 74.0%);\n",
       "}\n",
       "#T_d9bcc_row11_col4 {\n",
       "  width: 10em;\n",
       "  height: 80%;\n",
       "  background: linear-gradient(90deg,#7AA9CF 57.1%, transparent 57.1%);\n",
       "}\n",
       "#T_d9bcc_row12_col3 {\n",
       "  width: 10em;\n",
       "  height: 80%;\n",
       "  background: linear-gradient(90deg,#7AA9CF 79.0%, transparent 79.0%);\n",
       "}\n",
       "#T_d9bcc_row12_col4 {\n",
       "  width: 10em;\n",
       "  height: 80%;\n",
       "  background: linear-gradient(90deg,#7AA9CF 52.4%, transparent 52.4%);\n",
       "}\n",
       "#T_d9bcc_row13_col3 {\n",
       "  width: 10em;\n",
       "  height: 80%;\n",
       "  background: linear-gradient(90deg,#7AA9CF 84.0%, transparent 84.0%);\n",
       "}\n",
       "#T_d9bcc_row13_col4 {\n",
       "  width: 10em;\n",
       "  height: 80%;\n",
       "  background: linear-gradient(90deg,#7AA9CF 50.0%, transparent 50.0%);\n",
       "}\n",
       "#T_d9bcc_row14_col3 {\n",
       "  width: 10em;\n",
       "  height: 80%;\n",
       "  background: linear-gradient(90deg,#7AA9CF 87.0%, transparent 87.0%);\n",
       "}\n",
       "#T_d9bcc_row14_col4 {\n",
       "  width: 10em;\n",
       "  height: 80%;\n",
       "  background: linear-gradient(90deg,#7AA9CF 35.7%, transparent 35.7%);\n",
       "}\n",
       "#T_d9bcc_row15_col3 {\n",
       "  width: 10em;\n",
       "  height: 80%;\n",
       "  background: linear-gradient(90deg,#7AA9CF 89.0%, transparent 89.0%);\n",
       "}\n",
       "#T_d9bcc_row15_col4 {\n",
       "  width: 10em;\n",
       "  height: 80%;\n",
       "  background: linear-gradient(90deg,#7AA9CF 26.2%, transparent 26.2%);\n",
       "}\n",
       "#T_d9bcc_row16_col3 {\n",
       "  width: 10em;\n",
       "  height: 80%;\n",
       "  background: linear-gradient(90deg,#7AA9CF 91.0%, transparent 91.0%);\n",
       "}\n",
       "#T_d9bcc_row16_col4 {\n",
       "  width: 10em;\n",
       "  height: 80%;\n",
       "  background: linear-gradient(90deg,#7AA9CF 19.0%, transparent 19.0%);\n",
       "}\n",
       "#T_d9bcc_row17_col3 {\n",
       "  width: 10em;\n",
       "  height: 80%;\n",
       "  background: linear-gradient(90deg,#7AA9CF 96.0%, transparent 96.0%);\n",
       "}\n",
       "#T_d9bcc_row17_col4 {\n",
       "  width: 10em;\n",
       "  height: 80%;\n",
       "  background: linear-gradient(90deg,#7AA9CF 14.3%, transparent 14.3%);\n",
       "}\n",
       "#T_d9bcc_row18_col3 {\n",
       "  width: 10em;\n",
       "  height: 80%;\n",
       "  background: linear-gradient(90deg,#7AA9CF 98.0%, transparent 98.0%);\n",
       "}\n",
       "#T_d9bcc_row18_col4 {\n",
       "  width: 10em;\n",
       "  height: 80%;\n",
       "  background: linear-gradient(90deg,#7AA9CF 7.1%, transparent 7.1%);\n",
       "}\n",
       "#T_d9bcc_row19_col4 {\n",
       "  width: 10em;\n",
       "  height: 80%;\n",
       "}\n",
       "</style>\n",
       "<table id=\"T_d9bcc_\">\n",
       "  <thead>\n",
       "    <tr>\n",
       "      <th class=\"blank level0\" >&nbsp;</th>\n",
       "      <th class=\"col_heading level0 col0\" ># of Obs.</th>\n",
       "      <th class=\"col_heading level0 col1\" ># of Pos. Events</th>\n",
       "      <th class=\"col_heading level0 col2\" >Cumul. Pos. Events</th>\n",
       "      <th class=\"col_heading level0 col3\" >Gain</th>\n",
       "      <th class=\"col_heading level0 col4\" >Lift</th>\n",
       "    </tr>\n",
       "    <tr>\n",
       "      <th class=\"index_name level0\" >Percentile</th>\n",
       "      <th class=\"blank col0\" >&nbsp;</th>\n",
       "      <th class=\"blank col1\" >&nbsp;</th>\n",
       "      <th class=\"blank col2\" >&nbsp;</th>\n",
       "      <th class=\"blank col3\" >&nbsp;</th>\n",
       "      <th class=\"blank col4\" >&nbsp;</th>\n",
       "    </tr>\n",
       "  </thead>\n",
       "  <tbody>\n",
       "    <tr>\n",
       "      <th id=\"T_d9bcc_level0_row0\" class=\"row_heading level0 row0\" >5</th>\n",
       "      <td id=\"T_d9bcc_row0_col0\" class=\"data row0 col0\" >10</td>\n",
       "      <td id=\"T_d9bcc_row0_col1\" class=\"data row0 col1\" >10</td>\n",
       "      <td id=\"T_d9bcc_row0_col2\" class=\"data row0 col2\" >10</td>\n",
       "      <td id=\"T_d9bcc_row0_col3\" class=\"data row0 col3\" >0.07</td>\n",
       "      <td id=\"T_d9bcc_row0_col4\" class=\"data row0 col4\" >1.42</td>\n",
       "    </tr>\n",
       "    <tr>\n",
       "      <th id=\"T_d9bcc_level0_row1\" class=\"row_heading level0 row1\" >10</th>\n",
       "      <td id=\"T_d9bcc_row1_col0\" class=\"data row1 col0\" >10</td>\n",
       "      <td id=\"T_d9bcc_row1_col1\" class=\"data row1 col1\" >9</td>\n",
       "      <td id=\"T_d9bcc_row1_col2\" class=\"data row1 col2\" >19</td>\n",
       "      <td id=\"T_d9bcc_row1_col3\" class=\"data row1 col3\" >0.13</td>\n",
       "      <td id=\"T_d9bcc_row1_col4\" class=\"data row1 col4\" >1.35</td>\n",
       "    </tr>\n",
       "    <tr>\n",
       "      <th id=\"T_d9bcc_level0_row2\" class=\"row_heading level0 row2\" >15</th>\n",
       "      <td id=\"T_d9bcc_row2_col0\" class=\"data row2 col0\" >10</td>\n",
       "      <td id=\"T_d9bcc_row2_col1\" class=\"data row2 col1\" >10</td>\n",
       "      <td id=\"T_d9bcc_row2_col2\" class=\"data row2 col2\" >29</td>\n",
       "      <td id=\"T_d9bcc_row2_col3\" class=\"data row2 col3\" >0.21</td>\n",
       "      <td id=\"T_d9bcc_row2_col4\" class=\"data row2 col4\" >1.37</td>\n",
       "    </tr>\n",
       "    <tr>\n",
       "      <th id=\"T_d9bcc_level0_row3\" class=\"row_heading level0 row3\" >20</th>\n",
       "      <td id=\"T_d9bcc_row3_col0\" class=\"data row3 col0\" >10</td>\n",
       "      <td id=\"T_d9bcc_row3_col1\" class=\"data row3 col1\" >10</td>\n",
       "      <td id=\"T_d9bcc_row3_col2\" class=\"data row3 col2\" >39</td>\n",
       "      <td id=\"T_d9bcc_row3_col3\" class=\"data row3 col3\" >0.28</td>\n",
       "      <td id=\"T_d9bcc_row3_col4\" class=\"data row3 col4\" >1.38</td>\n",
       "    </tr>\n",
       "    <tr>\n",
       "      <th id=\"T_d9bcc_level0_row4\" class=\"row_heading level0 row4\" >25</th>\n",
       "      <td id=\"T_d9bcc_row4_col0\" class=\"data row4 col0\" >10</td>\n",
       "      <td id=\"T_d9bcc_row4_col1\" class=\"data row4 col1\" >10</td>\n",
       "      <td id=\"T_d9bcc_row4_col2\" class=\"data row4 col2\" >49</td>\n",
       "      <td id=\"T_d9bcc_row4_col3\" class=\"data row4 col3\" >0.35</td>\n",
       "      <td id=\"T_d9bcc_row4_col4\" class=\"data row4 col4\" >1.39</td>\n",
       "    </tr>\n",
       "    <tr>\n",
       "      <th id=\"T_d9bcc_level0_row5\" class=\"row_heading level0 row5\" >30</th>\n",
       "      <td id=\"T_d9bcc_row5_col0\" class=\"data row5 col0\" >10</td>\n",
       "      <td id=\"T_d9bcc_row5_col1\" class=\"data row5 col1\" >9</td>\n",
       "      <td id=\"T_d9bcc_row5_col2\" class=\"data row5 col2\" >58</td>\n",
       "      <td id=\"T_d9bcc_row5_col3\" class=\"data row5 col3\" >0.41</td>\n",
       "      <td id=\"T_d9bcc_row5_col4\" class=\"data row5 col4\" >1.37</td>\n",
       "    </tr>\n",
       "    <tr>\n",
       "      <th id=\"T_d9bcc_level0_row6\" class=\"row_heading level0 row6\" >35</th>\n",
       "      <td id=\"T_d9bcc_row6_col0\" class=\"data row6 col0\" >10</td>\n",
       "      <td id=\"T_d9bcc_row6_col1\" class=\"data row6 col1\" >8</td>\n",
       "      <td id=\"T_d9bcc_row6_col2\" class=\"data row6 col2\" >66</td>\n",
       "      <td id=\"T_d9bcc_row6_col3\" class=\"data row6 col3\" >0.47</td>\n",
       "      <td id=\"T_d9bcc_row6_col4\" class=\"data row6 col4\" >1.34</td>\n",
       "    </tr>\n",
       "    <tr>\n",
       "      <th id=\"T_d9bcc_level0_row7\" class=\"row_heading level0 row7\" >40</th>\n",
       "      <td id=\"T_d9bcc_row7_col0\" class=\"data row7 col0\" >10</td>\n",
       "      <td id=\"T_d9bcc_row7_col1\" class=\"data row7 col1\" >7</td>\n",
       "      <td id=\"T_d9bcc_row7_col2\" class=\"data row7 col2\" >73</td>\n",
       "      <td id=\"T_d9bcc_row7_col3\" class=\"data row7 col3\" >0.52</td>\n",
       "      <td id=\"T_d9bcc_row7_col4\" class=\"data row7 col4\" >1.29</td>\n",
       "    </tr>\n",
       "    <tr>\n",
       "      <th id=\"T_d9bcc_level0_row8\" class=\"row_heading level0 row8\" >45</th>\n",
       "      <td id=\"T_d9bcc_row8_col0\" class=\"data row8 col0\" >10</td>\n",
       "      <td id=\"T_d9bcc_row8_col1\" class=\"data row8 col1\" >7</td>\n",
       "      <td id=\"T_d9bcc_row8_col2\" class=\"data row8 col2\" >80</td>\n",
       "      <td id=\"T_d9bcc_row8_col3\" class=\"data row8 col3\" >0.57</td>\n",
       "      <td id=\"T_d9bcc_row8_col4\" class=\"data row8 col4\" >1.26</td>\n",
       "    </tr>\n",
       "    <tr>\n",
       "      <th id=\"T_d9bcc_level0_row9\" class=\"row_heading level0 row9\" >50</th>\n",
       "      <td id=\"T_d9bcc_row9_col0\" class=\"data row9 col0\" >10</td>\n",
       "      <td id=\"T_d9bcc_row9_col1\" class=\"data row9 col1\" >8</td>\n",
       "      <td id=\"T_d9bcc_row9_col2\" class=\"data row9 col2\" >88</td>\n",
       "      <td id=\"T_d9bcc_row9_col3\" class=\"data row9 col3\" >0.62</td>\n",
       "      <td id=\"T_d9bcc_row9_col4\" class=\"data row9 col4\" >1.25</td>\n",
       "    </tr>\n",
       "    <tr>\n",
       "      <th id=\"T_d9bcc_level0_row10\" class=\"row_heading level0 row10\" >55</th>\n",
       "      <td id=\"T_d9bcc_row10_col0\" class=\"data row10 col0\" >10</td>\n",
       "      <td id=\"T_d9bcc_row10_col1\" class=\"data row10 col1\" >9</td>\n",
       "      <td id=\"T_d9bcc_row10_col2\" class=\"data row10 col2\" >97</td>\n",
       "      <td id=\"T_d9bcc_row10_col3\" class=\"data row10 col3\" >0.69</td>\n",
       "      <td id=\"T_d9bcc_row10_col4\" class=\"data row10 col4\" >1.25</td>\n",
       "    </tr>\n",
       "    <tr>\n",
       "      <th id=\"T_d9bcc_level0_row11\" class=\"row_heading level0 row11\" >60</th>\n",
       "      <td id=\"T_d9bcc_row11_col0\" class=\"data row11 col0\" >10</td>\n",
       "      <td id=\"T_d9bcc_row11_col1\" class=\"data row11 col1\" >8</td>\n",
       "      <td id=\"T_d9bcc_row11_col2\" class=\"data row11 col2\" >105</td>\n",
       "      <td id=\"T_d9bcc_row11_col3\" class=\"data row11 col3\" >0.74</td>\n",
       "      <td id=\"T_d9bcc_row11_col4\" class=\"data row11 col4\" >1.24</td>\n",
       "    </tr>\n",
       "    <tr>\n",
       "      <th id=\"T_d9bcc_level0_row12\" class=\"row_heading level0 row12\" >65</th>\n",
       "      <td id=\"T_d9bcc_row12_col0\" class=\"data row12 col0\" >10</td>\n",
       "      <td id=\"T_d9bcc_row12_col1\" class=\"data row12 col1\" >7</td>\n",
       "      <td id=\"T_d9bcc_row12_col2\" class=\"data row12 col2\" >112</td>\n",
       "      <td id=\"T_d9bcc_row12_col3\" class=\"data row12 col3\" >0.79</td>\n",
       "      <td id=\"T_d9bcc_row12_col4\" class=\"data row12 col4\" >1.22</td>\n",
       "    </tr>\n",
       "    <tr>\n",
       "      <th id=\"T_d9bcc_level0_row13\" class=\"row_heading level0 row13\" >70</th>\n",
       "      <td id=\"T_d9bcc_row13_col0\" class=\"data row13 col0\" >10</td>\n",
       "      <td id=\"T_d9bcc_row13_col1\" class=\"data row13 col1\" >7</td>\n",
       "      <td id=\"T_d9bcc_row13_col2\" class=\"data row13 col2\" >119</td>\n",
       "      <td id=\"T_d9bcc_row13_col3\" class=\"data row13 col3\" >0.84</td>\n",
       "      <td id=\"T_d9bcc_row13_col4\" class=\"data row13 col4\" >1.21</td>\n",
       "    </tr>\n",
       "    <tr>\n",
       "      <th id=\"T_d9bcc_level0_row14\" class=\"row_heading level0 row14\" >75</th>\n",
       "      <td id=\"T_d9bcc_row14_col0\" class=\"data row14 col0\" >10</td>\n",
       "      <td id=\"T_d9bcc_row14_col1\" class=\"data row14 col1\" >3</td>\n",
       "      <td id=\"T_d9bcc_row14_col2\" class=\"data row14 col2\" >122</td>\n",
       "      <td id=\"T_d9bcc_row14_col3\" class=\"data row14 col3\" >0.87</td>\n",
       "      <td id=\"T_d9bcc_row14_col4\" class=\"data row14 col4\" >1.15</td>\n",
       "    </tr>\n",
       "    <tr>\n",
       "      <th id=\"T_d9bcc_level0_row15\" class=\"row_heading level0 row15\" >80</th>\n",
       "      <td id=\"T_d9bcc_row15_col0\" class=\"data row15 col0\" >10</td>\n",
       "      <td id=\"T_d9bcc_row15_col1\" class=\"data row15 col1\" >3</td>\n",
       "      <td id=\"T_d9bcc_row15_col2\" class=\"data row15 col2\" >125</td>\n",
       "      <td id=\"T_d9bcc_row15_col3\" class=\"data row15 col3\" >0.89</td>\n",
       "      <td id=\"T_d9bcc_row15_col4\" class=\"data row15 col4\" >1.11</td>\n",
       "    </tr>\n",
       "    <tr>\n",
       "      <th id=\"T_d9bcc_level0_row16\" class=\"row_heading level0 row16\" >85</th>\n",
       "      <td id=\"T_d9bcc_row16_col0\" class=\"data row16 col0\" >10</td>\n",
       "      <td id=\"T_d9bcc_row16_col1\" class=\"data row16 col1\" >4</td>\n",
       "      <td id=\"T_d9bcc_row16_col2\" class=\"data row16 col2\" >129</td>\n",
       "      <td id=\"T_d9bcc_row16_col3\" class=\"data row16 col3\" >0.91</td>\n",
       "      <td id=\"T_d9bcc_row16_col4\" class=\"data row16 col4\" >1.08</td>\n",
       "    </tr>\n",
       "    <tr>\n",
       "      <th id=\"T_d9bcc_level0_row17\" class=\"row_heading level0 row17\" >90</th>\n",
       "      <td id=\"T_d9bcc_row17_col0\" class=\"data row17 col0\" >10</td>\n",
       "      <td id=\"T_d9bcc_row17_col1\" class=\"data row17 col1\" >6</td>\n",
       "      <td id=\"T_d9bcc_row17_col2\" class=\"data row17 col2\" >135</td>\n",
       "      <td id=\"T_d9bcc_row17_col3\" class=\"data row17 col3\" >0.96</td>\n",
       "      <td id=\"T_d9bcc_row17_col4\" class=\"data row17 col4\" >1.06</td>\n",
       "    </tr>\n",
       "    <tr>\n",
       "      <th id=\"T_d9bcc_level0_row18\" class=\"row_heading level0 row18\" >95</th>\n",
       "      <td id=\"T_d9bcc_row18_col0\" class=\"data row18 col0\" >10</td>\n",
       "      <td id=\"T_d9bcc_row18_col1\" class=\"data row18 col1\" >3</td>\n",
       "      <td id=\"T_d9bcc_row18_col2\" class=\"data row18 col2\" >138</td>\n",
       "      <td id=\"T_d9bcc_row18_col3\" class=\"data row18 col3\" >0.98</td>\n",
       "      <td id=\"T_d9bcc_row18_col4\" class=\"data row18 col4\" >1.03</td>\n",
       "    </tr>\n",
       "    <tr>\n",
       "      <th id=\"T_d9bcc_level0_row19\" class=\"row_heading level0 row19\" >100</th>\n",
       "      <td id=\"T_d9bcc_row19_col0\" class=\"data row19 col0\" >10</td>\n",
       "      <td id=\"T_d9bcc_row19_col1\" class=\"data row19 col1\" >3</td>\n",
       "      <td id=\"T_d9bcc_row19_col2\" class=\"data row19 col2\" >141</td>\n",
       "      <td id=\"T_d9bcc_row19_col3\" class=\"data row19 col3\" >1.00</td>\n",
       "      <td id=\"T_d9bcc_row19_col4\" class=\"data row19 col4\" >1.00</td>\n",
       "    </tr>\n",
       "  </tbody>\n",
       "</table>\n"
      ],
      "text/plain": [
       "<pandas.io.formats.style.Styler at 0x7fc528cfb880>"
      ]
     },
     "execution_count": 42,
     "metadata": {},
     "output_type": "execute_result"
    }
   ],
   "source": [
    "evaluator.calculate_lift_gain(return_style=True, include_all_info=True)"
   ]
  },
  {
   "cell_type": "code",
   "execution_count": 43,
   "id": "b9028e2f",
   "metadata": {
    "pycharm": {
     "name": "#%%\n"
    }
   },
   "outputs": [],
   "source": [
    "del predicted_scores"
   ]
  },
  {
   "cell_type": "markdown",
   "id": "6d5b72e3",
   "metadata": {},
   "source": [
    "# Feature Importance\n",
    "\n",
    "https://scikit-learn.org/stable/auto_examples/ensemble/plot_forest_importances.html"
   ]
  },
  {
   "cell_type": "code",
   "execution_count": 44,
   "id": "66a1cb40",
   "metadata": {},
   "outputs": [
    {
     "name": "stdout",
     "output_type": "stream",
     "text": [
      "Elapsed time to compute the importances: 1.667 seconds\n"
     ]
    }
   ],
   "source": [
    "from sklearn.inspection import permutation_importance\n",
    "import time\n",
    "\n",
    "estimator = full_pipeline\n",
    "\n",
    "start_time = time.time()\n",
    "result = permutation_importance(\n",
    "    estimator, X_train, y_train, n_repeats=10, random_state=42, n_jobs=2\n",
    ")\n",
    "elapsed_time = time.time() - start_time\n",
    "print(f\"Elapsed time to compute the importances: {elapsed_time:.3f} seconds\")\n",
    "\n",
    "feature_names = X_train.columns.to_list()\n",
    "forest_importances = pd.Series(result.importances_mean, index=feature_names)\n",
    "forest_importances = forest_importances.sort_values(ascending=False)"
   ]
  },
  {
   "cell_type": "code",
   "execution_count": 45,
   "id": "c04d3bcc",
   "metadata": {},
   "outputs": [
    {
     "data": {
      "image/png": "[encoded data removed]",
      "text/plain": [
       "<Figure size 648x432 with 1 Axes>"
      ]
     },
     "metadata": {
      "needs_background": "light"
     },
     "output_type": "display_data"
    }
   ],
   "source": [
    "import matplotlib.pyplot as plt\n",
    "fig, ax = plt.subplots()\n",
    "forest_importances.plot.bar(yerr=result.importances_std, ax=ax)\n",
    "ax.set_title(\"Feature importances using permutation on full model\")\n",
    "ax.set_ylabel(\"Mean accuracy decrease\")\n",
    "fig.set_size_inches(9, 6)\n",
    "fig.tight_layout()\n",
    "plt.show()"
   ]
  }
 ],
 "metadata": {
  "kernelspec": {
   "display_name": "Python 3 (ipykernel)",
   "language": "python",
   "name": "python3"
  },
  "language_info": {
   "codemirror_mode": {
    "name": "ipython",
    "version": 3
   },
   "file_extension": ".py",
   "mimetype": "text/x-python",
   "name": "python",
   "nbconvert_exporter": "python",
   "pygments_lexer": "ipython3",
   "version": "3.9.6"
  },
  "toc": {
   "base_numbering": 1,
   "nav_menu": {},
   "number_sections": false,
   "sideBar": true,
   "skip_h1_title": false,
   "title_cell": "Table of Contents",
   "title_sidebar": "Contents",
   "toc_cell": false,
   "toc_position": {
    "height": "calc(100% - 180px)",
    "left": "10px",
    "top": "150px",
    "width": "298px"
   },
   "toc_section_display": true,
   "toc_window_display": true
  }
 },
 "nbformat": 4,
 "nbformat_minor": 5
}
