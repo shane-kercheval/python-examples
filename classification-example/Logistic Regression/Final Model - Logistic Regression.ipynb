{
 "cells": [
  {
   "cell_type": "code",
   "execution_count": 1,
   "id": "c5f3fe51",
   "metadata": {},
   "outputs": [],
   "source": [
    "import pickle\n",
    "import helpsk as hlp\n",
    "import matplotlib.pyplot as plt\n",
    "import pandas as pd\n",
    "import numpy as np\n",
    "from sklearn.datasets import fetch_openml\n",
    "import seaborn as sns\n",
    "\n",
    "from sklearn.pipeline import Pipeline\n",
    "from sklearn.preprocessing import StandardScaler, MinMaxScaler, OneHotEncoder  # , LabelEncoder\n",
    "from sklearn.impute import SimpleImputer\n",
    "from sklearn.model_selection import train_test_split\n",
    "# from sklearn.base import BaseEstimator, TransformerMixin\n",
    "\n",
    "%matplotlib inline"
   ]
  },
  {
   "cell_type": "markdown",
   "id": "8ff88fe0",
   "metadata": {},
   "source": [
    "# Load Data"
   ]
  },
  {
   "cell_type": "code",
   "execution_count": 2,
   "id": "fc98b023",
   "metadata": {},
   "outputs": [
    {
     "data": {
      "text/plain": [
       "{'pca': 'None',\n",
       " 'encoder': 'OneHotEncoder()',\n",
       " 'imputer': 'SimpleImputer()',\n",
       " 'scaler': 'StandardScaler()'}"
      ]
     },
     "execution_count": 2,
     "metadata": {},
     "output_type": "execute_result"
    }
   ],
   "source": [
    "parser = hlp.sklearn_eval.SearchCVParser.from_yaml_file(yaml_file_name = 'Run 1 - Logistic Regression - BayesSearchCV.yaml')\n",
    "parser.best_primary_score_params"
   ]
  },
  {
   "cell_type": "code",
   "execution_count": 3,
   "id": "7511e37e",
   "metadata": {},
   "outputs": [
    {
     "name": "stdout",
     "output_type": "stream",
     "text": [
      "(800, 20)\n",
      "800\n",
      "(200, 20)\n",
      "200\n"
     ]
    }
   ],
   "source": [
    "with open('../X_train.pkl', 'rb') as handle:\n",
    "    X_train = pickle.load(handle)\n",
    "    print(X_train.shape)\n",
    "\n",
    "with open('../y_train.pkl', 'rb') as handle:\n",
    "    y_train = pickle.load(handle)\n",
    "    print(len(y_train))\n",
    "\n",
    "with open('../X_test.pkl', 'rb') as handle:\n",
    "    X_test = pickle.load(handle)\n",
    "    print(X_test.shape)\n",
    "\n",
    "with open('../y_test.pkl', 'rb') as handle:\n",
    "    y_test = pickle.load(handle)\n",
    "    print(len(y_test))"
   ]
  },
  {
   "cell_type": "code",
   "execution_count": 4,
   "id": "1e782cdf",
   "metadata": {},
   "outputs": [
    {
     "data": {
      "text/html": [
       "<div>\n",
       "<style scoped>\n",
       "    .dataframe tbody tr th:only-of-type {\n",
       "        vertical-align: middle;\n",
       "    }\n",
       "\n",
       "    .dataframe tbody tr th {\n",
       "        vertical-align: top;\n",
       "    }\n",
       "\n",
       "    .dataframe thead th {\n",
       "        text-align: right;\n",
       "    }\n",
       "</style>\n",
       "<table border=\"1\" class=\"dataframe\">\n",
       "  <thead>\n",
       "    <tr style=\"text-align: right;\">\n",
       "      <th></th>\n",
       "      <th>checking_status</th>\n",
       "      <th>duration</th>\n",
       "      <th>credit_history</th>\n",
       "      <th>purpose</th>\n",
       "      <th>credit_amount</th>\n",
       "      <th>savings_status</th>\n",
       "      <th>employment</th>\n",
       "      <th>installment_commitment</th>\n",
       "      <th>personal_status</th>\n",
       "      <th>other_parties</th>\n",
       "      <th>residence_since</th>\n",
       "      <th>property_magnitude</th>\n",
       "      <th>age</th>\n",
       "      <th>other_payment_plans</th>\n",
       "      <th>housing</th>\n",
       "      <th>existing_credits</th>\n",
       "      <th>job</th>\n",
       "      <th>num_dependents</th>\n",
       "      <th>own_telephone</th>\n",
       "      <th>foreign_worker</th>\n",
       "    </tr>\n",
       "  </thead>\n",
       "  <tbody>\n",
       "    <tr>\n",
       "      <th>29</th>\n",
       "      <td>NaN</td>\n",
       "      <td>NaN</td>\n",
       "      <td>delayed previously</td>\n",
       "      <td>business</td>\n",
       "      <td>0.0</td>\n",
       "      <td>&lt;100</td>\n",
       "      <td>&gt;=7</td>\n",
       "      <td>3.0</td>\n",
       "      <td>male single</td>\n",
       "      <td>none</td>\n",
       "      <td>4.0</td>\n",
       "      <td>no known property</td>\n",
       "      <td>63.0</td>\n",
       "      <td>none</td>\n",
       "      <td>own</td>\n",
       "      <td>2.0</td>\n",
       "      <td>skilled</td>\n",
       "      <td>1.0</td>\n",
       "      <td>yes</td>\n",
       "      <td>yes</td>\n",
       "    </tr>\n",
       "    <tr>\n",
       "      <th>535</th>\n",
       "      <td>&gt;=200</td>\n",
       "      <td>21.0</td>\n",
       "      <td>critical/other existing credit</td>\n",
       "      <td>education</td>\n",
       "      <td>2319.0</td>\n",
       "      <td>&lt;100</td>\n",
       "      <td>&lt;1</td>\n",
       "      <td>2.0</td>\n",
       "      <td>male div/sep</td>\n",
       "      <td>none</td>\n",
       "      <td>1.0</td>\n",
       "      <td>car</td>\n",
       "      <td>33.0</td>\n",
       "      <td>none</td>\n",
       "      <td>rent</td>\n",
       "      <td>1.0</td>\n",
       "      <td>skilled</td>\n",
       "      <td>1.0</td>\n",
       "      <td>none</td>\n",
       "      <td>yes</td>\n",
       "    </tr>\n",
       "    <tr>\n",
       "      <th>695</th>\n",
       "      <td>no checking</td>\n",
       "      <td>6.0</td>\n",
       "      <td>existing paid</td>\n",
       "      <td>used car</td>\n",
       "      <td>1236.0</td>\n",
       "      <td>500&lt;=X&lt;1000</td>\n",
       "      <td>1&lt;=X&lt;4</td>\n",
       "      <td>2.0</td>\n",
       "      <td>male single</td>\n",
       "      <td>none</td>\n",
       "      <td>4.0</td>\n",
       "      <td>life insurance</td>\n",
       "      <td>50.0</td>\n",
       "      <td>none</td>\n",
       "      <td>rent</td>\n",
       "      <td>1.0</td>\n",
       "      <td>skilled</td>\n",
       "      <td>1.0</td>\n",
       "      <td>none</td>\n",
       "      <td>yes</td>\n",
       "    </tr>\n",
       "    <tr>\n",
       "      <th>557</th>\n",
       "      <td>no checking</td>\n",
       "      <td>21.0</td>\n",
       "      <td>no credits/all paid</td>\n",
       "      <td>new car</td>\n",
       "      <td>5003.0</td>\n",
       "      <td>no known savings</td>\n",
       "      <td>1&lt;=X&lt;4</td>\n",
       "      <td>1.0</td>\n",
       "      <td>female div/dep/mar</td>\n",
       "      <td>none</td>\n",
       "      <td>4.0</td>\n",
       "      <td>life insurance</td>\n",
       "      <td>29.0</td>\n",
       "      <td>bank</td>\n",
       "      <td>own</td>\n",
       "      <td>2.0</td>\n",
       "      <td>skilled</td>\n",
       "      <td>1.0</td>\n",
       "      <td>yes</td>\n",
       "      <td>yes</td>\n",
       "    </tr>\n",
       "    <tr>\n",
       "      <th>836</th>\n",
       "      <td>no checking</td>\n",
       "      <td>12.0</td>\n",
       "      <td>existing paid</td>\n",
       "      <td>radio/tv</td>\n",
       "      <td>886.0</td>\n",
       "      <td>no known savings</td>\n",
       "      <td>1&lt;=X&lt;4</td>\n",
       "      <td>4.0</td>\n",
       "      <td>female div/dep/mar</td>\n",
       "      <td>none</td>\n",
       "      <td>2.0</td>\n",
       "      <td>car</td>\n",
       "      <td>21.0</td>\n",
       "      <td>none</td>\n",
       "      <td>own</td>\n",
       "      <td>1.0</td>\n",
       "      <td>skilled</td>\n",
       "      <td>1.0</td>\n",
       "      <td>none</td>\n",
       "      <td>yes</td>\n",
       "    </tr>\n",
       "  </tbody>\n",
       "</table>\n",
       "</div>"
      ],
      "text/plain": [
       "    checking_status  duration                  credit_history    purpose  \\\n",
       "29              NaN       NaN              delayed previously   business   \n",
       "535           >=200      21.0  critical/other existing credit  education   \n",
       "695     no checking       6.0                   existing paid   used car   \n",
       "557     no checking      21.0             no credits/all paid    new car   \n",
       "836     no checking      12.0                   existing paid   radio/tv   \n",
       "\n",
       "     credit_amount    savings_status employment  installment_commitment  \\\n",
       "29             0.0              <100        >=7                     3.0   \n",
       "535         2319.0              <100         <1                     2.0   \n",
       "695         1236.0       500<=X<1000     1<=X<4                     2.0   \n",
       "557         5003.0  no known savings     1<=X<4                     1.0   \n",
       "836          886.0  no known savings     1<=X<4                     4.0   \n",
       "\n",
       "        personal_status other_parties  residence_since property_magnitude  \\\n",
       "29          male single          none              4.0  no known property   \n",
       "535        male div/sep          none              1.0                car   \n",
       "695         male single          none              4.0     life insurance   \n",
       "557  female div/dep/mar          none              4.0     life insurance   \n",
       "836  female div/dep/mar          none              2.0                car   \n",
       "\n",
       "      age other_payment_plans housing  existing_credits      job  \\\n",
       "29   63.0                none     own               2.0  skilled   \n",
       "535  33.0                none    rent               1.0  skilled   \n",
       "695  50.0                none    rent               1.0  skilled   \n",
       "557  29.0                bank     own               2.0  skilled   \n",
       "836  21.0                none     own               1.0  skilled   \n",
       "\n",
       "     num_dependents own_telephone foreign_worker  \n",
       "29              1.0           yes            yes  \n",
       "535             1.0          none            yes  \n",
       "695             1.0          none            yes  \n",
       "557             1.0           yes            yes  \n",
       "836             1.0          none            yes  "
      ]
     },
     "execution_count": 4,
     "metadata": {},
     "output_type": "execute_result"
    }
   ],
   "source": [
    "X_train.head()"
   ]
  },
  {
   "cell_type": "code",
   "execution_count": 5,
   "id": "a9795b35",
   "metadata": {},
   "outputs": [
    {
     "data": {
      "text/plain": [
       "array([0, 0, 1, 0, 1, 0, 1, 0, 0, 1])"
      ]
     },
     "execution_count": 5,
     "metadata": {},
     "output_type": "execute_result"
    }
   ],
   "source": [
    "y_train[0:10]"
   ]
  },
  {
   "cell_type": "code",
   "execution_count": 6,
   "id": "4d20507c",
   "metadata": {},
   "outputs": [
    {
     "data": {
      "text/html": [
       "<div>\n",
       "<style scoped>\n",
       "    .dataframe tbody tr th:only-of-type {\n",
       "        vertical-align: middle;\n",
       "    }\n",
       "\n",
       "    .dataframe tbody tr th {\n",
       "        vertical-align: top;\n",
       "    }\n",
       "\n",
       "    .dataframe thead th {\n",
       "        text-align: right;\n",
       "    }\n",
       "</style>\n",
       "<table border=\"1\" class=\"dataframe\">\n",
       "  <thead>\n",
       "    <tr style=\"text-align: right;\">\n",
       "      <th></th>\n",
       "      <th>checking_status</th>\n",
       "      <th>duration</th>\n",
       "      <th>credit_history</th>\n",
       "      <th>purpose</th>\n",
       "      <th>credit_amount</th>\n",
       "      <th>savings_status</th>\n",
       "      <th>employment</th>\n",
       "      <th>installment_commitment</th>\n",
       "      <th>personal_status</th>\n",
       "      <th>other_parties</th>\n",
       "      <th>residence_since</th>\n",
       "      <th>property_magnitude</th>\n",
       "      <th>age</th>\n",
       "      <th>other_payment_plans</th>\n",
       "      <th>housing</th>\n",
       "      <th>existing_credits</th>\n",
       "      <th>job</th>\n",
       "      <th>num_dependents</th>\n",
       "      <th>own_telephone</th>\n",
       "      <th>foreign_worker</th>\n",
       "    </tr>\n",
       "  </thead>\n",
       "  <tbody>\n",
       "    <tr>\n",
       "      <th>521</th>\n",
       "      <td>&lt;0</td>\n",
       "      <td>18.0</td>\n",
       "      <td>existing paid</td>\n",
       "      <td>radio/tv</td>\n",
       "      <td>3190.0</td>\n",
       "      <td>&lt;100</td>\n",
       "      <td>1&lt;=X&lt;4</td>\n",
       "      <td>2.0</td>\n",
       "      <td>female div/dep/mar</td>\n",
       "      <td>none</td>\n",
       "      <td>2.0</td>\n",
       "      <td>real estate</td>\n",
       "      <td>24.0</td>\n",
       "      <td>none</td>\n",
       "      <td>own</td>\n",
       "      <td>1.0</td>\n",
       "      <td>skilled</td>\n",
       "      <td>1.0</td>\n",
       "      <td>none</td>\n",
       "      <td>yes</td>\n",
       "    </tr>\n",
       "    <tr>\n",
       "      <th>737</th>\n",
       "      <td>&lt;0</td>\n",
       "      <td>18.0</td>\n",
       "      <td>existing paid</td>\n",
       "      <td>new car</td>\n",
       "      <td>4380.0</td>\n",
       "      <td>100&lt;=X&lt;500</td>\n",
       "      <td>1&lt;=X&lt;4</td>\n",
       "      <td>3.0</td>\n",
       "      <td>male single</td>\n",
       "      <td>none</td>\n",
       "      <td>4.0</td>\n",
       "      <td>car</td>\n",
       "      <td>35.0</td>\n",
       "      <td>none</td>\n",
       "      <td>own</td>\n",
       "      <td>1.0</td>\n",
       "      <td>unskilled resident</td>\n",
       "      <td>2.0</td>\n",
       "      <td>yes</td>\n",
       "      <td>yes</td>\n",
       "    </tr>\n",
       "    <tr>\n",
       "      <th>740</th>\n",
       "      <td>&lt;0</td>\n",
       "      <td>24.0</td>\n",
       "      <td>all paid</td>\n",
       "      <td>new car</td>\n",
       "      <td>2325.0</td>\n",
       "      <td>100&lt;=X&lt;500</td>\n",
       "      <td>4&lt;=X&lt;7</td>\n",
       "      <td>2.0</td>\n",
       "      <td>male single</td>\n",
       "      <td>none</td>\n",
       "      <td>3.0</td>\n",
       "      <td>car</td>\n",
       "      <td>32.0</td>\n",
       "      <td>bank</td>\n",
       "      <td>own</td>\n",
       "      <td>1.0</td>\n",
       "      <td>skilled</td>\n",
       "      <td>1.0</td>\n",
       "      <td>none</td>\n",
       "      <td>yes</td>\n",
       "    </tr>\n",
       "    <tr>\n",
       "      <th>660</th>\n",
       "      <td>&gt;=200</td>\n",
       "      <td>12.0</td>\n",
       "      <td>existing paid</td>\n",
       "      <td>radio/tv</td>\n",
       "      <td>1297.0</td>\n",
       "      <td>&lt;100</td>\n",
       "      <td>1&lt;=X&lt;4</td>\n",
       "      <td>3.0</td>\n",
       "      <td>male mar/wid</td>\n",
       "      <td>none</td>\n",
       "      <td>4.0</td>\n",
       "      <td>real estate</td>\n",
       "      <td>23.0</td>\n",
       "      <td>none</td>\n",
       "      <td>rent</td>\n",
       "      <td>1.0</td>\n",
       "      <td>skilled</td>\n",
       "      <td>1.0</td>\n",
       "      <td>none</td>\n",
       "      <td>yes</td>\n",
       "    </tr>\n",
       "    <tr>\n",
       "      <th>411</th>\n",
       "      <td>no checking</td>\n",
       "      <td>33.0</td>\n",
       "      <td>critical/other existing credit</td>\n",
       "      <td>used car</td>\n",
       "      <td>7253.0</td>\n",
       "      <td>&lt;100</td>\n",
       "      <td>4&lt;=X&lt;7</td>\n",
       "      <td>3.0</td>\n",
       "      <td>male single</td>\n",
       "      <td>none</td>\n",
       "      <td>2.0</td>\n",
       "      <td>car</td>\n",
       "      <td>35.0</td>\n",
       "      <td>none</td>\n",
       "      <td>own</td>\n",
       "      <td>2.0</td>\n",
       "      <td>high qualif/self emp/mgmt</td>\n",
       "      <td>1.0</td>\n",
       "      <td>yes</td>\n",
       "      <td>yes</td>\n",
       "    </tr>\n",
       "  </tbody>\n",
       "</table>\n",
       "</div>"
      ],
      "text/plain": [
       "    checking_status  duration                  credit_history   purpose  \\\n",
       "521              <0      18.0                   existing paid  radio/tv   \n",
       "737              <0      18.0                   existing paid   new car   \n",
       "740              <0      24.0                        all paid   new car   \n",
       "660           >=200      12.0                   existing paid  radio/tv   \n",
       "411     no checking      33.0  critical/other existing credit  used car   \n",
       "\n",
       "     credit_amount savings_status employment  installment_commitment  \\\n",
       "521         3190.0           <100     1<=X<4                     2.0   \n",
       "737         4380.0     100<=X<500     1<=X<4                     3.0   \n",
       "740         2325.0     100<=X<500     4<=X<7                     2.0   \n",
       "660         1297.0           <100     1<=X<4                     3.0   \n",
       "411         7253.0           <100     4<=X<7                     3.0   \n",
       "\n",
       "        personal_status other_parties  residence_since property_magnitude  \\\n",
       "521  female div/dep/mar          none              2.0        real estate   \n",
       "737         male single          none              4.0                car   \n",
       "740         male single          none              3.0                car   \n",
       "660        male mar/wid          none              4.0        real estate   \n",
       "411         male single          none              2.0                car   \n",
       "\n",
       "      age other_payment_plans housing  existing_credits  \\\n",
       "521  24.0                none     own               1.0   \n",
       "737  35.0                none     own               1.0   \n",
       "740  32.0                bank     own               1.0   \n",
       "660  23.0                none    rent               1.0   \n",
       "411  35.0                none     own               2.0   \n",
       "\n",
       "                           job  num_dependents own_telephone foreign_worker  \n",
       "521                    skilled             1.0          none            yes  \n",
       "737         unskilled resident             2.0           yes            yes  \n",
       "740                    skilled             1.0          none            yes  \n",
       "660                    skilled             1.0          none            yes  \n",
       "411  high qualif/self emp/mgmt             1.0           yes            yes  "
      ]
     },
     "execution_count": 6,
     "metadata": {},
     "output_type": "execute_result"
    }
   ],
   "source": [
    "X_test.head()"
   ]
  },
  {
   "cell_type": "code",
   "execution_count": 7,
   "id": "c066c30a",
   "metadata": {},
   "outputs": [
    {
     "data": {
      "text/plain": [
       "array([0, 1, 1, 1, 1, 1, 1, 1, 1, 1])"
      ]
     },
     "execution_count": 7,
     "metadata": {},
     "output_type": "execute_result"
    }
   ],
   "source": [
    "y_test[0:10]"
   ]
  },
  {
   "cell_type": "markdown",
   "id": "1ca1d63a",
   "metadata": {},
   "source": [
    "# Training and Test Data"
   ]
  },
  {
   "cell_type": "code",
   "execution_count": 8,
   "id": "86f44647",
   "metadata": {},
   "outputs": [
    {
     "data": {
      "text/plain": [
       "array([0, 0, 1, 0, 1, 0, 1, 0, 0, 1])"
      ]
     },
     "execution_count": 8,
     "metadata": {},
     "output_type": "execute_result"
    }
   ],
   "source": [
    "y_train[0:10]"
   ]
  },
  {
   "cell_type": "code",
   "execution_count": 9,
   "id": "742c6bf1",
   "metadata": {},
   "outputs": [
    {
     "name": "stdout",
     "output_type": "stream",
     "text": [
      "['duration', 'credit_amount', 'installment_commitment', 'residence_since', 'age', 'existing_credits', 'num_dependents']\n",
      "['checking_status', 'credit_history', 'purpose', 'savings_status', 'employment', 'personal_status', 'other_parties', 'property_magnitude', 'other_payment_plans', 'housing', 'job', 'own_telephone', 'foreign_worker']\n"
     ]
    }
   ],
   "source": [
    "numeric_columns = hlp.pandas.get_numeric_columns(X_train)\n",
    "non_numeric_columns = hlp.pandas.get_non_numeric_columns(X_train)\n",
    "print(numeric_columns)\n",
    "print(non_numeric_columns)"
   ]
  },
  {
   "cell_type": "code",
   "execution_count": 10,
   "id": "ce3d4969",
   "metadata": {},
   "outputs": [
    {
     "data": {
      "text/plain": [
       "{'pca': 'None',\n",
       " 'encoder': 'OneHotEncoder()',\n",
       " 'imputer': 'SimpleImputer()',\n",
       " 'scaler': 'StandardScaler()'}"
      ]
     },
     "execution_count": 10,
     "metadata": {},
     "output_type": "execute_result"
    }
   ],
   "source": [
    "parser.best_primary_score_params"
   ]
  },
  {
   "cell_type": "code",
   "execution_count": 11,
   "id": "740dc372",
   "metadata": {},
   "outputs": [],
   "source": [
    "numeric_pipeline = Pipeline([\n",
    "    ('imputer', SimpleImputer(strategy='mean')),\n",
    "    ('scaler', StandardScaler()),\n",
    "])"
   ]
  },
  {
   "cell_type": "code",
   "execution_count": 12,
   "id": "4ed41bd2",
   "metadata": {},
   "outputs": [],
   "source": [
    "non_numeric_pipeline = Pipeline([\n",
    "    ('encoder', OneHotEncoder()),\n",
    "])"
   ]
  },
  {
   "cell_type": "code",
   "execution_count": 13,
   "id": "8f7f94d0",
   "metadata": {},
   "outputs": [],
   "source": [
    "from sklearn.compose import ColumnTransformer\n",
    "transformations_pipeline = ColumnTransformer([\n",
    "    ('numeric', numeric_pipeline, numeric_columns),\n",
    "    ('non_numeric', non_numeric_pipeline, non_numeric_columns)\n",
    "])"
   ]
  },
  {
   "cell_type": "markdown",
   "id": "c215d60a",
   "metadata": {},
   "source": [
    "# Model"
   ]
  },
  {
   "cell_type": "code",
   "execution_count": 14,
   "id": "3b3ddb87",
   "metadata": {},
   "outputs": [],
   "source": [
    "from sklearn.linear_model import LogisticRegression\n",
    "logistic_model = LogisticRegression(random_state=42)"
   ]
  },
  {
   "cell_type": "code",
   "execution_count": 15,
   "id": "d6a81445",
   "metadata": {},
   "outputs": [],
   "source": [
    "full_pipeline = Pipeline([\n",
    "    ('prep', transformations_pipeline),\n",
    "    ('model', logistic_model)\n",
    "])"
   ]
  },
  {
   "cell_type": "code",
   "execution_count": 16,
   "id": "936a9d3f",
   "metadata": {
    "scrolled": true
   },
   "outputs": [
    {
     "data": {
      "text/plain": [
       "{'prep': ColumnTransformer(transformers=[('numeric',\n",
       "                                  Pipeline(steps=[('imputer', SimpleImputer()),\n",
       "                                                  ('scaler', StandardScaler())]),\n",
       "                                  ['duration', 'credit_amount',\n",
       "                                   'installment_commitment', 'residence_since',\n",
       "                                   'age', 'existing_credits',\n",
       "                                   'num_dependents']),\n",
       "                                 ('non_numeric',\n",
       "                                  Pipeline(steps=[('encoder', OneHotEncoder())]),\n",
       "                                  ['checking_status', 'credit_history',\n",
       "                                   'purpose', 'savings_status', 'employment',\n",
       "                                   'personal_status', 'other_parties',\n",
       "                                   'property_magnitude', 'other_payment_plans',\n",
       "                                   'housing', 'job', 'own_telephone',\n",
       "                                   'foreign_worker'])]),\n",
       " 'model': LogisticRegression(random_state=42)}"
      ]
     },
     "execution_count": 16,
     "metadata": {},
     "output_type": "execute_result"
    }
   ],
   "source": [
    "# Show the levels of pipelines/transformers/model\n",
    "full_pipeline.named_steps"
   ]
  },
  {
   "cell_type": "code",
   "execution_count": 17,
   "id": "e1e4704a",
   "metadata": {},
   "outputs": [],
   "source": [
    "fitted_pipeline = full_pipeline.fit(X_train, y_train)"
   ]
  },
  {
   "cell_type": "code",
   "execution_count": 18,
   "id": "1870f6d1",
   "metadata": {},
   "outputs": [
    {
     "data": {
      "text/plain": [
       "array([1, 0, 0, 1, 1, 1, 1, 0, 1, 1, 1, 0, 1, 0, 0, 1, 1, 1, 0, 1, 1, 0,\n",
       "       1, 1, 1, 0, 1, 0, 1, 1, 1, 1, 1, 1, 1, 1, 0, 1, 1, 0, 1, 1, 1, 1,\n",
       "       1, 1, 0, 1, 1, 1, 0, 1, 1, 0, 1, 1, 1, 0, 0, 1, 1, 0, 1, 1, 1, 1,\n",
       "       1, 0, 1, 1, 1, 1, 1, 1, 1, 1, 1, 1, 1, 1, 1, 1, 1, 1, 1, 0, 0, 0,\n",
       "       1, 1, 1, 1, 0, 0, 1, 1, 1, 0, 0, 0, 1, 1, 1, 1, 1, 1, 1, 1, 1, 0,\n",
       "       0, 1, 0, 1, 1, 1, 1, 1, 1, 1, 1, 1, 1, 1, 0, 1, 0, 1, 1, 1, 1, 1,\n",
       "       1, 1, 1, 1, 1, 1, 1, 1, 1, 1, 0, 1, 1, 0, 1, 1, 1, 0, 1, 1, 1, 1,\n",
       "       1, 1, 0, 1, 1, 1, 0, 1, 0, 0, 1, 1, 1, 1, 1, 1, 1, 1, 1, 1, 1, 1,\n",
       "       1, 1, 1, 0, 1, 1, 1, 1, 1, 1, 0, 1, 1, 1, 1, 0, 0, 1, 1, 1, 0, 0,\n",
       "       1, 1])"
      ]
     },
     "execution_count": 18,
     "metadata": {},
     "output_type": "execute_result"
    }
   ],
   "source": [
    "fitted_pipeline.predict(X_test)"
   ]
  },
  {
   "cell_type": "code",
   "execution_count": 19,
   "id": "e72b7ef0",
   "metadata": {},
   "outputs": [
    {
     "data": {
      "text/plain": [
       "array([[0.42223294, 0.57776706],\n",
       "       [0.55223981, 0.44776019],\n",
       "       [0.68548542, 0.31451458],\n",
       "       [0.32519743, 0.67480257],\n",
       "       [0.04651019, 0.95348981],\n",
       "       [0.40951388, 0.59048612],\n",
       "       [0.05832751, 0.94167249],\n",
       "       [0.52116126, 0.47883874],\n",
       "       [0.04381271, 0.95618729],\n",
       "       [0.06564581, 0.93435419],\n",
       "       [0.15552776, 0.84447224],\n",
       "       [0.57367213, 0.42632787],\n",
       "       [0.10816309, 0.89183691],\n",
       "       [0.88959115, 0.11040885],\n",
       "       [0.87530314, 0.12469686],\n",
       "       [0.29854112, 0.70145888],\n",
       "       [0.04258867, 0.95741133],\n",
       "       [0.03533508, 0.96466492],\n",
       "       [0.55666558, 0.44333442],\n",
       "       [0.35042873, 0.64957127],\n",
       "       [0.05083588, 0.94916412],\n",
       "       [0.65492792, 0.34507208],\n",
       "       [0.07409848, 0.92590152],\n",
       "       [0.01490135, 0.98509865],\n",
       "       [0.0179126 , 0.9820874 ],\n",
       "       [0.63551723, 0.36448277],\n",
       "       [0.47756295, 0.52243705],\n",
       "       [0.76647902, 0.23352098],\n",
       "       [0.07300285, 0.92699715],\n",
       "       [0.18752059, 0.81247941],\n",
       "       [0.10282178, 0.89717822],\n",
       "       [0.1543886 , 0.8456114 ],\n",
       "       [0.26962566, 0.73037434],\n",
       "       [0.23475709, 0.76524291],\n",
       "       [0.18538749, 0.81461251],\n",
       "       [0.27774073, 0.72225927],\n",
       "       [0.64933574, 0.35066426],\n",
       "       [0.17177153, 0.82822847],\n",
       "       [0.08169571, 0.91830429],\n",
       "       [0.57132926, 0.42867074],\n",
       "       [0.30115507, 0.69884493],\n",
       "       [0.04329631, 0.95670369],\n",
       "       [0.29890055, 0.70109945],\n",
       "       [0.10605837, 0.89394163],\n",
       "       [0.04994689, 0.95005311],\n",
       "       [0.1363558 , 0.8636442 ],\n",
       "       [0.73538925, 0.26461075],\n",
       "       [0.39041451, 0.60958549],\n",
       "       [0.28340189, 0.71659811],\n",
       "       [0.11346745, 0.88653255],\n",
       "       [0.64697792, 0.35302208],\n",
       "       [0.03705772, 0.96294228],\n",
       "       [0.35737444, 0.64262556],\n",
       "       [0.74193355, 0.25806645],\n",
       "       [0.051143  , 0.948857  ],\n",
       "       [0.14952075, 0.85047925],\n",
       "       [0.46218109, 0.53781891],\n",
       "       [0.69505802, 0.30494198],\n",
       "       [0.84661192, 0.15338808],\n",
       "       [0.26977178, 0.73022822],\n",
       "       [0.09294118, 0.90705882],\n",
       "       [0.52290027, 0.47709973],\n",
       "       [0.4327396 , 0.5672604 ],\n",
       "       [0.00301259, 0.99698741],\n",
       "       [0.32937504, 0.67062496],\n",
       "       [0.23612693, 0.76387307],\n",
       "       [0.08707996, 0.91292004],\n",
       "       [0.69026075, 0.30973925],\n",
       "       [0.40688167, 0.59311833],\n",
       "       [0.11450674, 0.88549326],\n",
       "       [0.38287247, 0.61712753],\n",
       "       [0.11028472, 0.88971528],\n",
       "       [0.13869506, 0.86130494],\n",
       "       [0.463504  , 0.536496  ],\n",
       "       [0.31401108, 0.68598892],\n",
       "       [0.41422761, 0.58577239],\n",
       "       [0.47317128, 0.52682872],\n",
       "       [0.17168221, 0.82831779],\n",
       "       [0.11662337, 0.88337663],\n",
       "       [0.44620062, 0.55379938],\n",
       "       [0.1384978 , 0.8615022 ],\n",
       "       [0.31834939, 0.68165061],\n",
       "       [0.05419896, 0.94580104],\n",
       "       [0.25752043, 0.74247957],\n",
       "       [0.18482972, 0.81517028],\n",
       "       [0.71783846, 0.28216154],\n",
       "       [0.68071059, 0.31928941],\n",
       "       [0.89699791, 0.10300209],\n",
       "       [0.19108818, 0.80891182],\n",
       "       [0.1331006 , 0.8668994 ],\n",
       "       [0.31316106, 0.68683894],\n",
       "       [0.09752778, 0.90247222],\n",
       "       [0.84142721, 0.15857279],\n",
       "       [0.63338381, 0.36661619],\n",
       "       [0.03401794, 0.96598206],\n",
       "       [0.0972405 , 0.9027595 ],\n",
       "       [0.20084421, 0.79915579],\n",
       "       [0.50064175, 0.49935825],\n",
       "       [0.73998982, 0.26001018],\n",
       "       [0.68727465, 0.31272535],\n",
       "       [0.03073016, 0.96926984],\n",
       "       [0.08119867, 0.91880133],\n",
       "       [0.15428481, 0.84571519],\n",
       "       [0.06889148, 0.93110852],\n",
       "       [0.45446541, 0.54553459],\n",
       "       [0.26392115, 0.73607885],\n",
       "       [0.3264239 , 0.6735761 ],\n",
       "       [0.47349716, 0.52650284],\n",
       "       [0.19025255, 0.80974745],\n",
       "       [0.69476718, 0.30523282],\n",
       "       [0.80925255, 0.19074745],\n",
       "       [0.23224984, 0.76775016],\n",
       "       [0.59056515, 0.40943485],\n",
       "       [0.03798691, 0.96201309],\n",
       "       [0.33957136, 0.66042864],\n",
       "       [0.4248254 , 0.5751746 ],\n",
       "       [0.38645146, 0.61354854],\n",
       "       [0.21451582, 0.78548418],\n",
       "       [0.14846794, 0.85153206],\n",
       "       [0.42559111, 0.57440889],\n",
       "       [0.35900946, 0.64099054],\n",
       "       [0.27728696, 0.72271304],\n",
       "       [0.22629398, 0.77370602],\n",
       "       [0.24436903, 0.75563097],\n",
       "       [0.71281203, 0.28718797],\n",
       "       [0.10171509, 0.89828491],\n",
       "       [0.69706287, 0.30293713],\n",
       "       [0.16567811, 0.83432189],\n",
       "       [0.04741636, 0.95258364],\n",
       "       [0.23461241, 0.76538759],\n",
       "       [0.15849446, 0.84150554],\n",
       "       [0.20869651, 0.79130349],\n",
       "       [0.24659166, 0.75340834],\n",
       "       [0.07311466, 0.92688534],\n",
       "       [0.31580368, 0.68419632],\n",
       "       [0.10300172, 0.89699828],\n",
       "       [0.47250352, 0.52749648],\n",
       "       [0.02457436, 0.97542564],\n",
       "       [0.07978667, 0.92021333],\n",
       "       [0.13024374, 0.86975626],\n",
       "       [0.11665789, 0.88334211],\n",
       "       [0.41427435, 0.58572565],\n",
       "       [0.8442713 , 0.1557287 ],\n",
       "       [0.06293344, 0.93706656],\n",
       "       [0.1761595 , 0.8238405 ],\n",
       "       [0.76478918, 0.23521082],\n",
       "       [0.30551641, 0.69448359],\n",
       "       [0.14020983, 0.85979017],\n",
       "       [0.49964024, 0.50035976],\n",
       "       [0.66460068, 0.33539932],\n",
       "       [0.03890505, 0.96109495],\n",
       "       [0.47506075, 0.52493925],\n",
       "       [0.20071853, 0.79928147],\n",
       "       [0.37267216, 0.62732784],\n",
       "       [0.06236217, 0.93763783],\n",
       "       [0.41467114, 0.58532886],\n",
       "       [0.67123215, 0.32876785],\n",
       "       [0.05033328, 0.94966672],\n",
       "       [0.2744118 , 0.7255882 ],\n",
       "       [0.30444091, 0.69555909],\n",
       "       [0.54265621, 0.45734379],\n",
       "       [0.04315894, 0.95684106],\n",
       "       [0.70669536, 0.29330464],\n",
       "       [0.79143748, 0.20856252],\n",
       "       [0.19199406, 0.80800594],\n",
       "       [0.4846131 , 0.5153869 ],\n",
       "       [0.05782256, 0.94217744],\n",
       "       [0.31518398, 0.68481602],\n",
       "       [0.02981899, 0.97018101],\n",
       "       [0.40578607, 0.59421393],\n",
       "       [0.05793568, 0.94206432],\n",
       "       [0.18494919, 0.81505081],\n",
       "       [0.47426847, 0.52573153],\n",
       "       [0.13154707, 0.86845293],\n",
       "       [0.04206039, 0.95793961],\n",
       "       [0.18027692, 0.81972308],\n",
       "       [0.06720969, 0.93279031],\n",
       "       [0.05716972, 0.94283028],\n",
       "       [0.3234735 , 0.6765265 ],\n",
       "       [0.64801983, 0.35198017],\n",
       "       [0.21647584, 0.78352416],\n",
       "       [0.10681502, 0.89318498],\n",
       "       [0.04387812, 0.95612188],\n",
       "       [0.22376435, 0.77623565],\n",
       "       [0.07941029, 0.92058971],\n",
       "       [0.06148348, 0.93851652],\n",
       "       [0.61993171, 0.38006829],\n",
       "       [0.04961925, 0.95038075],\n",
       "       [0.06303249, 0.93696751],\n",
       "       [0.03463515, 0.96536485],\n",
       "       [0.1654315 , 0.8345685 ],\n",
       "       [0.53190909, 0.46809091],\n",
       "       [0.55592791, 0.44407209],\n",
       "       [0.45152175, 0.54847825],\n",
       "       [0.0668047 , 0.9331953 ],\n",
       "       [0.1508736 , 0.8491264 ],\n",
       "       [0.89556058, 0.10443942],\n",
       "       [0.78764672, 0.21235328],\n",
       "       [0.32890296, 0.67109704],\n",
       "       [0.17013702, 0.82986298]])"
      ]
     },
     "execution_count": 19,
     "metadata": {},
     "output_type": "execute_result"
    }
   ],
   "source": [
    "fitted_pipeline.predict_proba(X_test)"
   ]
  },
  {
   "cell_type": "code",
   "execution_count": 20,
   "id": "0b623c32",
   "metadata": {},
   "outputs": [
    {
     "data": {
      "text/plain": [
       "array([0, 1, 1, 1, 1, 1, 1, 1, 1, 1, 1, 0, 1, 0, 0, 0, 1, 1, 0, 1, 1, 0,\n",
       "       1, 1, 1, 0, 1, 1, 1, 1, 1, 1, 0, 1, 1, 1, 1, 1, 1, 0, 1, 1, 1, 1,\n",
       "       1, 1, 0, 0, 0, 1, 0, 1, 1, 0, 1, 1, 1, 0, 1, 1, 1, 0, 0, 1, 1, 1,\n",
       "       1, 1, 1, 0, 1, 1, 1, 1, 1, 0, 0, 1, 0, 0, 1, 1, 1, 1, 1, 0, 0, 0,\n",
       "       1, 1, 1, 1, 0, 1, 1, 1, 1, 1, 0, 0, 1, 0, 0, 1, 1, 1, 1, 1, 1, 0,\n",
       "       0, 1, 1, 1, 1, 1, 0, 0, 1, 1, 1, 1, 1, 1, 0, 0, 0, 1, 1, 1, 1, 0,\n",
       "       0, 1, 1, 1, 0, 1, 1, 1, 0, 1, 0, 1, 1, 0, 1, 1, 0, 0, 1, 1, 1, 0,\n",
       "       1, 1, 1, 1, 1, 0, 0, 1, 0, 1, 1, 0, 1, 1, 1, 1, 1, 1, 1, 1, 1, 1,\n",
       "       1, 1, 1, 0, 1, 1, 1, 1, 1, 0, 0, 1, 1, 1, 0, 1, 0, 0, 0, 1, 0, 1,\n",
       "       1, 1])"
      ]
     },
     "execution_count": 20,
     "metadata": {},
     "output_type": "execute_result"
    }
   ],
   "source": [
    "y_test"
   ]
  },
  {
   "cell_type": "code",
   "execution_count": null,
   "id": "4a1043bd",
   "metadata": {},
   "outputs": [],
   "source": []
  },
  {
   "cell_type": "markdown",
   "id": "c995ec2a",
   "metadata": {},
   "source": [
    "## Training Set Evaluation"
   ]
  },
  {
   "cell_type": "markdown",
   "id": "42753452",
   "metadata": {},
   "source": [
    "Understand the nature/degree of model overfitting by comparing to `Test Set Evaluation`"
   ]
  },
  {
   "cell_type": "code",
   "execution_count": 21,
   "id": "715baf29",
   "metadata": {},
   "outputs": [],
   "source": [
    "predicted_scores = fitted_pipeline.predict_proba(X_train)[:, 1]"
   ]
  },
  {
   "cell_type": "code",
   "execution_count": 22,
   "id": "19cebd6f",
   "metadata": {},
   "outputs": [
    {
     "data": {
      "image/png": "[encoded data removed]",
      "text/plain": [
       "<Figure size 432x288 with 1 Axes>"
      ]
     },
     "metadata": {
      "needs_background": "light"
     },
     "output_type": "display_data"
    }
   ],
   "source": [
    "sns.histplot(predicted_scores)\n",
    "plt.tight_layout()"
   ]
  },
  {
   "cell_type": "code",
   "execution_count": 23,
   "id": "19afe1a7",
   "metadata": {},
   "outputs": [],
   "source": [
    "\n",
    "evaluator = hlp.sklearn_eval.TwoClassEvaluator(\n",
    "    actual_values=y_train,\n",
    "    predicted_scores=predicted_scores,\n",
    "    labels=('Bad', 'Good'),\n",
    "    score_threshold=0.5\n",
    ")"
   ]
  },
  {
   "cell_type": "code",
   "execution_count": 24,
   "id": "aa907fdc",
   "metadata": {},
   "outputs": [
    {
     "data": {
      "text/html": [
       "<style type=\"text/css\">\n",
       "#T_f7788_row0_col0 {\n",
       "  width: 10em;\n",
       "  height: 80%;\n",
       "  background: linear-gradient(90deg,#1AAF54 82.5%, transparent 82.5%);\n",
       "}\n",
       "#T_f7788_row1_col0 {\n",
       "  width: 10em;\n",
       "  height: 80%;\n",
       "  background: linear-gradient(90deg,#1AAF54 89.3%, transparent 89.3%);\n",
       "}\n",
       "#T_f7788_row2_col0 {\n",
       "  width: 10em;\n",
       "  height: 80%;\n",
       "  background: linear-gradient(90deg,#1AAF54 49.8%, transparent 49.8%);\n",
       "}\n",
       "#T_f7788_row3_col0 {\n",
       "  width: 10em;\n",
       "  height: 80%;\n",
       "  background: linear-gradient(90deg,#1AAF54 50.2%, transparent 50.2%);\n",
       "  width: 10em;\n",
       "  height: 80%;\n",
       "  background: linear-gradient(90deg,#FF420E 50.2%, transparent 50.2%);\n",
       "}\n",
       "#T_f7788_row4_col0 {\n",
       "  width: 10em;\n",
       "  height: 80%;\n",
       "  background: linear-gradient(90deg,#1AAF54 10.7%, transparent 10.7%);\n",
       "  width: 10em;\n",
       "  height: 80%;\n",
       "  background: linear-gradient(90deg,#FF420E 10.7%, transparent 10.7%);\n",
       "}\n",
       "#T_f7788_row5_col0 {\n",
       "  width: 10em;\n",
       "  height: 80%;\n",
       "  background: linear-gradient(90deg,#1AAF54 80.5%, transparent 80.5%);\n",
       "}\n",
       "#T_f7788_row6_col0 {\n",
       "  width: 10em;\n",
       "  height: 80%;\n",
       "  background: linear-gradient(90deg,#1AAF54 66.7%, transparent 66.7%);\n",
       "}\n",
       "#T_f7788_row7_col0 {\n",
       "  width: 10em;\n",
       "  height: 80%;\n",
       "  background: linear-gradient(90deg,#1AAF54 84.6%, transparent 84.6%);\n",
       "}\n",
       "#T_f7788_row8_col0 {\n",
       "  width: 10em;\n",
       "  height: 80%;\n",
       "  background: linear-gradient(90deg,#1AAF54 77.4%, transparent 77.4%);\n",
       "  width: 10em;\n",
       "  height: 80%;\n",
       "  background: linear-gradient(90deg,#B4B7B9 77.4%, transparent 77.4%);\n",
       "}\n",
       "#T_f7788_row9_col0 {\n",
       "  width: 10em;\n",
       "  height: 80%;\n",
       "  background: linear-gradient(90deg,#1AAF54 22.6%, transparent 22.6%);\n",
       "  width: 10em;\n",
       "  height: 80%;\n",
       "  background: linear-gradient(90deg,#B4B7B9 22.6%, transparent 22.6%);\n",
       "}\n",
       "#T_f7788_row10_col0 {\n",
       "  width: 10em;\n",
       "  height: 80%;\n",
       "  background: linear-gradient(90deg,#1AAF54 69.9%, transparent 69.9%);\n",
       "  width: 10em;\n",
       "  height: 80%;\n",
       "  background: linear-gradient(90deg,#B4B7B9 69.9%, transparent 69.9%);\n",
       "}\n",
       "</style>\n",
       "<table id=\"T_f7788_\">\n",
       "  <thead>\n",
       "    <tr>\n",
       "      <th class=\"blank level0\" >&nbsp;</th>\n",
       "      <th class=\"col_heading level0 col0\" >Scores</th>\n",
       "      <th class=\"col_heading level0 col1\" >Details</th>\n",
       "    </tr>\n",
       "  </thead>\n",
       "  <tbody>\n",
       "    <tr>\n",
       "      <th id=\"T_f7788_level0_row0\" class=\"row_heading level0 row0\" >AUC</th>\n",
       "      <td id=\"T_f7788_row0_col0\" class=\"data row0 col0\" >0.825</td>\n",
       "      <td id=\"T_f7788_row0_col1\" class=\"data row0 col1\" >Area under the ROC curve (true pos. rate vs false pos. rate); ranges from 0.5 (purely random classifier) to 1.0 (perfect classifier)</td>\n",
       "    </tr>\n",
       "    <tr>\n",
       "      <th id=\"T_f7788_level0_row1\" class=\"row_heading level0 row1\" >True Positive Rate</th>\n",
       "      <td id=\"T_f7788_row1_col0\" class=\"data row1 col0\" >0.893</td>\n",
       "      <td id=\"T_f7788_row1_col1\" class=\"data row1 col1\" >89.3% of positive instances were correctly identified.; i.e. 499 \"Good\" labels were correctly identified out of 559 instances; a.k.a Sensitivity/Recall</td>\n",
       "    </tr>\n",
       "    <tr>\n",
       "      <th id=\"T_f7788_level0_row2\" class=\"row_heading level0 row2\" >True Negative Rate</th>\n",
       "      <td id=\"T_f7788_row2_col0\" class=\"data row2 col0\" >0.498</td>\n",
       "      <td id=\"T_f7788_row2_col1\" class=\"data row2 col1\" >49.8% of negative instances were correctly identified.; i.e. 120 \"Bad\" labels were correctly identified out of 241 instances</td>\n",
       "    </tr>\n",
       "    <tr>\n",
       "      <th id=\"T_f7788_level0_row3\" class=\"row_heading level0 row3\" >False Positive Rate</th>\n",
       "      <td id=\"T_f7788_row3_col0\" class=\"data row3 col0\" >0.502</td>\n",
       "      <td id=\"T_f7788_row3_col1\" class=\"data row3 col1\" >50.2% of negative instances were incorrectly identified as positive; i.e. 121 \"Bad\" labels were incorrectly identified as \"Good\", out of 241 instances</td>\n",
       "    </tr>\n",
       "    <tr>\n",
       "      <th id=\"T_f7788_level0_row4\" class=\"row_heading level0 row4\" >False Negative Rate</th>\n",
       "      <td id=\"T_f7788_row4_col0\" class=\"data row4 col0\" >0.107</td>\n",
       "      <td id=\"T_f7788_row4_col1\" class=\"data row4 col1\" >10.7% of positive instances were incorrectly identified as negative; i.e. 60 \"Good\" labels were incorrectly identified as \"Bad\", out of 559 instances</td>\n",
       "    </tr>\n",
       "    <tr>\n",
       "      <th id=\"T_f7788_level0_row5\" class=\"row_heading level0 row5\" >Positive Predictive Value</th>\n",
       "      <td id=\"T_f7788_row5_col0\" class=\"data row5 col0\" >0.805</td>\n",
       "      <td id=\"T_f7788_row5_col1\" class=\"data row5 col1\" >When the model claims an instance is positive, it is correct 80.5% of the time; i.e. out of the 620 times the model predicted \"Good\", it was correct 499 times; a.k.a precision</td>\n",
       "    </tr>\n",
       "    <tr>\n",
       "      <th id=\"T_f7788_level0_row6\" class=\"row_heading level0 row6\" >Negative Predictive Value</th>\n",
       "      <td id=\"T_f7788_row6_col0\" class=\"data row6 col0\" >0.667</td>\n",
       "      <td id=\"T_f7788_row6_col1\" class=\"data row6 col1\" >When the model claims an instance is negative, it is correct 66.7% of the time; i.e. out of the 180 times the model predicted \"Bad\", it was correct 120 times</td>\n",
       "    </tr>\n",
       "    <tr>\n",
       "      <th id=\"T_f7788_level0_row7\" class=\"row_heading level0 row7\" >F1 Score</th>\n",
       "      <td id=\"T_f7788_row7_col0\" class=\"data row7 col0\" >0.846</td>\n",
       "      <td id=\"T_f7788_row7_col1\" class=\"data row7 col1\" >The F1 score can be interpreted as a weighted average of the precision and recall, where an F1 score reaches its best value at 1 and worst score at 0.</td>\n",
       "    </tr>\n",
       "    <tr>\n",
       "      <th id=\"T_f7788_level0_row8\" class=\"row_heading level0 row8\" >Accuracy</th>\n",
       "      <td id=\"T_f7788_row8_col0\" class=\"data row8 col0\" >0.774</td>\n",
       "      <td id=\"T_f7788_row8_col1\" class=\"data row8 col1\" >77.4% of instances were correctly identified</td>\n",
       "    </tr>\n",
       "    <tr>\n",
       "      <th id=\"T_f7788_level0_row9\" class=\"row_heading level0 row9\" >Error Rate</th>\n",
       "      <td id=\"T_f7788_row9_col0\" class=\"data row9 col0\" >0.226</td>\n",
       "      <td id=\"T_f7788_row9_col1\" class=\"data row9 col1\" >22.6% of instances were incorrectly identified</td>\n",
       "    </tr>\n",
       "    <tr>\n",
       "      <th id=\"T_f7788_level0_row10\" class=\"row_heading level0 row10\" >% Positive</th>\n",
       "      <td id=\"T_f7788_row10_col0\" class=\"data row10 col0\" >0.699</td>\n",
       "      <td id=\"T_f7788_row10_col1\" class=\"data row10 col1\" >69.9% of the data are positive; i.e. out of 800 total observations; 559 are labeled as \"Good\"</td>\n",
       "    </tr>\n",
       "    <tr>\n",
       "      <th id=\"T_f7788_level0_row11\" class=\"row_heading level0 row11\" >Total Observations</th>\n",
       "      <td id=\"T_f7788_row11_col0\" class=\"data row11 col0\" >800</td>\n",
       "      <td id=\"T_f7788_row11_col1\" class=\"data row11 col1\" >There are 800 total observations; i.e. sample size</td>\n",
       "    </tr>\n",
       "  </tbody>\n",
       "</table>\n"
      ],
      "text/plain": [
       "<pandas.io.formats.style.Styler at 0x7fc674a62f10>"
      ]
     },
     "execution_count": 24,
     "metadata": {},
     "output_type": "execute_result"
    }
   ],
   "source": [
    "evaluator.all_metrics_df(return_style=True, round_by=3)"
   ]
  },
  {
   "cell_type": "code",
   "execution_count": 25,
   "id": "bd7e99d7",
   "metadata": {
    "pycharm": {
     "name": "#%%\n"
    }
   },
   "outputs": [],
   "source": [
    "del predicted_scores"
   ]
  },
  {
   "cell_type": "markdown",
   "id": "99a47e94",
   "metadata": {},
   "source": [
    "## Test Set Evaluation"
   ]
  },
  {
   "cell_type": "code",
   "execution_count": 26,
   "id": "82b97c55",
   "metadata": {},
   "outputs": [],
   "source": [
    "predicted_scores = fitted_pipeline.predict_proba(X_test)[:, 1]"
   ]
  },
  {
   "cell_type": "code",
   "execution_count": 27,
   "id": "61c68884",
   "metadata": {},
   "outputs": [
    {
     "data": {
      "text/plain": [
       "array([0.57776706, 0.44776019, 0.31451458, 0.67480257, 0.95348981,\n",
       "       0.59048612, 0.94167249, 0.47883874, 0.95618729, 0.93435419])"
      ]
     },
     "execution_count": 27,
     "metadata": {},
     "output_type": "execute_result"
    }
   ],
   "source": [
    "predicted_scores[0:10]"
   ]
  },
  {
   "cell_type": "code",
   "execution_count": 28,
   "id": "648c23c9",
   "metadata": {},
   "outputs": [
    {
     "data": {
      "image/png": "[encoded data removed]",
      "text/plain": [
       "<Figure size 432x288 with 1 Axes>"
      ]
     },
     "metadata": {
      "needs_background": "light"
     },
     "output_type": "display_data"
    }
   ],
   "source": [
    "sns.histplot(predicted_scores)\n",
    "plt.tight_layout()"
   ]
  },
  {
   "cell_type": "code",
   "execution_count": 29,
   "id": "f6ce7733",
   "metadata": {
    "pycharm": {
     "name": "#%%\n"
    }
   },
   "outputs": [
    {
     "data": {
      "text/plain": [
       "0    Not Defaulted\n",
       "1        Defaulted\n",
       "2        Defaulted\n",
       "3        Defaulted\n",
       "4        Defaulted\n",
       "dtype: object"
      ]
     },
     "execution_count": 29,
     "metadata": {},
     "output_type": "execute_result"
    }
   ],
   "source": [
    "y_test_cat = pd.Series(y_test).replace({1: 'Defaulted', 0: 'Not Defaulted'})\n",
    "y_test_cat.head()"
   ]
  },
  {
   "cell_type": "code",
   "execution_count": 30,
   "id": "38f2c315",
   "metadata": {
    "pycharm": {
     "name": "#%%\n"
    }
   },
   "outputs": [
    {
     "data": {
      "image/png": "[encoded data removed]",
      "text/plain": [
       "<Figure size 720x360 with 2 Axes>"
      ]
     },
     "metadata": {
      "needs_background": "light"
     },
     "output_type": "display_data"
    }
   ],
   "source": [
    "axes = sns.displot(\n",
    "    pd.DataFrame({\n",
    "        'prediction': predicted_scores,\n",
    "        'actual': y_test_cat\n",
    "    }),\n",
    "    x='prediction',\n",
    "    col='actual'\n",
    ")\n",
    "for axis in axes.axes.flat:\n",
    "    axis.axvline(x=0.5, ymin=0, ymax=100, color='red')\n",
    "plt.tight_layout()"
   ]
  },
  {
   "cell_type": "code",
   "execution_count": 31,
   "id": "5d3b9658",
   "metadata": {
    "pycharm": {
     "name": "#%%\n"
    }
   },
   "outputs": [],
   "source": [
    "del y_test_cat\n",
    "del axes"
   ]
  },
  {
   "cell_type": "code",
   "execution_count": 32,
   "id": "4b64e733",
   "metadata": {},
   "outputs": [],
   "source": [
    "evaluator = hlp.sklearn_eval.TwoClassEvaluator(\n",
    "    actual_values=y_test,\n",
    "    predicted_scores=predicted_scores,\n",
    "    labels=('Bad', 'Good'),\n",
    "    score_threshold=0.5\n",
    ")"
   ]
  },
  {
   "cell_type": "code",
   "execution_count": 33,
   "id": "a17343a2",
   "metadata": {},
   "outputs": [
    {
     "data": {
      "image/png": "[encoded data removed]",
      "text/plain": [
       "<Figure size 432x288 with 2 Axes>"
      ]
     },
     "metadata": {
      "needs_background": "light"
     },
     "output_type": "display_data"
    }
   ],
   "source": [
    "evaluator.plot_confusion_matrix()"
   ]
  },
  {
   "cell_type": "code",
   "execution_count": 34,
   "id": "9516f3bb",
   "metadata": {},
   "outputs": [
    {
     "data": {
      "text/html": [
       "<style type=\"text/css\">\n",
       "#T_2d159_row0_col0 {\n",
       "  width: 10em;\n",
       "  height: 80%;\n",
       "  background: linear-gradient(90deg,#1AAF54 80.6%, transparent 80.6%);\n",
       "}\n",
       "#T_2d159_row1_col0 {\n",
       "  width: 10em;\n",
       "  height: 80%;\n",
       "  background: linear-gradient(90deg,#1AAF54 90.1%, transparent 90.1%);\n",
       "}\n",
       "#T_2d159_row2_col0 {\n",
       "  width: 10em;\n",
       "  height: 80%;\n",
       "  background: linear-gradient(90deg,#1AAF54 52.5%, transparent 52.5%);\n",
       "}\n",
       "#T_2d159_row3_col0 {\n",
       "  width: 10em;\n",
       "  height: 80%;\n",
       "  background: linear-gradient(90deg,#1AAF54 47.5%, transparent 47.5%);\n",
       "  width: 10em;\n",
       "  height: 80%;\n",
       "  background: linear-gradient(90deg,#FF420E 47.5%, transparent 47.5%);\n",
       "}\n",
       "#T_2d159_row4_col0 {\n",
       "  width: 10em;\n",
       "  height: 80%;\n",
       "  background: linear-gradient(90deg,#1AAF54 9.9%, transparent 9.9%);\n",
       "  width: 10em;\n",
       "  height: 80%;\n",
       "  background: linear-gradient(90deg,#FF420E 9.9%, transparent 9.9%);\n",
       "}\n",
       "#T_2d159_row5_col0 {\n",
       "  width: 10em;\n",
       "  height: 80%;\n",
       "  background: linear-gradient(90deg,#1AAF54 81.9%, transparent 81.9%);\n",
       "}\n",
       "#T_2d159_row6_col0 {\n",
       "  width: 10em;\n",
       "  height: 80%;\n",
       "  background: linear-gradient(90deg,#1AAF54 68.9%, transparent 68.9%);\n",
       "}\n",
       "#T_2d159_row7_col0 {\n",
       "  width: 10em;\n",
       "  height: 80%;\n",
       "  background: linear-gradient(90deg,#1AAF54 85.8%, transparent 85.8%);\n",
       "}\n",
       "#T_2d159_row8_col0 {\n",
       "  width: 10em;\n",
       "  height: 80%;\n",
       "  background: linear-gradient(90deg,#1AAF54 79.0%, transparent 79.0%);\n",
       "  width: 10em;\n",
       "  height: 80%;\n",
       "  background: linear-gradient(90deg,#B4B7B9 79.0%, transparent 79.0%);\n",
       "}\n",
       "#T_2d159_row9_col0 {\n",
       "  width: 10em;\n",
       "  height: 80%;\n",
       "  background: linear-gradient(90deg,#1AAF54 21.0%, transparent 21.0%);\n",
       "  width: 10em;\n",
       "  height: 80%;\n",
       "  background: linear-gradient(90deg,#B4B7B9 21.0%, transparent 21.0%);\n",
       "}\n",
       "#T_2d159_row10_col0 {\n",
       "  width: 10em;\n",
       "  height: 80%;\n",
       "  background: linear-gradient(90deg,#1AAF54 70.5%, transparent 70.5%);\n",
       "  width: 10em;\n",
       "  height: 80%;\n",
       "  background: linear-gradient(90deg,#B4B7B9 70.5%, transparent 70.5%);\n",
       "}\n",
       "</style>\n",
       "<table id=\"T_2d159_\">\n",
       "  <thead>\n",
       "    <tr>\n",
       "      <th class=\"blank level0\" >&nbsp;</th>\n",
       "      <th class=\"col_heading level0 col0\" >Scores</th>\n",
       "      <th class=\"col_heading level0 col1\" >Details</th>\n",
       "    </tr>\n",
       "  </thead>\n",
       "  <tbody>\n",
       "    <tr>\n",
       "      <th id=\"T_2d159_level0_row0\" class=\"row_heading level0 row0\" >AUC</th>\n",
       "      <td id=\"T_2d159_row0_col0\" class=\"data row0 col0\" >0.806</td>\n",
       "      <td id=\"T_2d159_row0_col1\" class=\"data row0 col1\" >Area under the ROC curve (true pos. rate vs false pos. rate); ranges from 0.5 (purely random classifier) to 1.0 (perfect classifier)</td>\n",
       "    </tr>\n",
       "    <tr>\n",
       "      <th id=\"T_2d159_level0_row1\" class=\"row_heading level0 row1\" >True Positive Rate</th>\n",
       "      <td id=\"T_2d159_row1_col0\" class=\"data row1 col0\" >0.901</td>\n",
       "      <td id=\"T_2d159_row1_col1\" class=\"data row1 col1\" >90.1% of positive instances were correctly identified.; i.e. 127 \"Good\" labels were correctly identified out of 141 instances; a.k.a Sensitivity/Recall</td>\n",
       "    </tr>\n",
       "    <tr>\n",
       "      <th id=\"T_2d159_level0_row2\" class=\"row_heading level0 row2\" >True Negative Rate</th>\n",
       "      <td id=\"T_2d159_row2_col0\" class=\"data row2 col0\" >0.525</td>\n",
       "      <td id=\"T_2d159_row2_col1\" class=\"data row2 col1\" >52.5% of negative instances were correctly identified.; i.e. 31 \"Bad\" labels were correctly identified out of 59 instances</td>\n",
       "    </tr>\n",
       "    <tr>\n",
       "      <th id=\"T_2d159_level0_row3\" class=\"row_heading level0 row3\" >False Positive Rate</th>\n",
       "      <td id=\"T_2d159_row3_col0\" class=\"data row3 col0\" >0.475</td>\n",
       "      <td id=\"T_2d159_row3_col1\" class=\"data row3 col1\" >47.5% of negative instances were incorrectly identified as positive; i.e. 28 \"Bad\" labels were incorrectly identified as \"Good\", out of 59 instances</td>\n",
       "    </tr>\n",
       "    <tr>\n",
       "      <th id=\"T_2d159_level0_row4\" class=\"row_heading level0 row4\" >False Negative Rate</th>\n",
       "      <td id=\"T_2d159_row4_col0\" class=\"data row4 col0\" >0.099</td>\n",
       "      <td id=\"T_2d159_row4_col1\" class=\"data row4 col1\" >9.9% of positive instances were incorrectly identified as negative; i.e. 14 \"Good\" labels were incorrectly identified as \"Bad\", out of 141 instances</td>\n",
       "    </tr>\n",
       "    <tr>\n",
       "      <th id=\"T_2d159_level0_row5\" class=\"row_heading level0 row5\" >Positive Predictive Value</th>\n",
       "      <td id=\"T_2d159_row5_col0\" class=\"data row5 col0\" >0.819</td>\n",
       "      <td id=\"T_2d159_row5_col1\" class=\"data row5 col1\" >When the model claims an instance is positive, it is correct 81.9% of the time; i.e. out of the 155 times the model predicted \"Good\", it was correct 127 times; a.k.a precision</td>\n",
       "    </tr>\n",
       "    <tr>\n",
       "      <th id=\"T_2d159_level0_row6\" class=\"row_heading level0 row6\" >Negative Predictive Value</th>\n",
       "      <td id=\"T_2d159_row6_col0\" class=\"data row6 col0\" >0.689</td>\n",
       "      <td id=\"T_2d159_row6_col1\" class=\"data row6 col1\" >When the model claims an instance is negative, it is correct 68.9% of the time; i.e. out of the 45 times the model predicted \"Bad\", it was correct 31 times</td>\n",
       "    </tr>\n",
       "    <tr>\n",
       "      <th id=\"T_2d159_level0_row7\" class=\"row_heading level0 row7\" >F1 Score</th>\n",
       "      <td id=\"T_2d159_row7_col0\" class=\"data row7 col0\" >0.858</td>\n",
       "      <td id=\"T_2d159_row7_col1\" class=\"data row7 col1\" >The F1 score can be interpreted as a weighted average of the precision and recall, where an F1 score reaches its best value at 1 and worst score at 0.</td>\n",
       "    </tr>\n",
       "    <tr>\n",
       "      <th id=\"T_2d159_level0_row8\" class=\"row_heading level0 row8\" >Accuracy</th>\n",
       "      <td id=\"T_2d159_row8_col0\" class=\"data row8 col0\" >0.790</td>\n",
       "      <td id=\"T_2d159_row8_col1\" class=\"data row8 col1\" >79.0% of instances were correctly identified</td>\n",
       "    </tr>\n",
       "    <tr>\n",
       "      <th id=\"T_2d159_level0_row9\" class=\"row_heading level0 row9\" >Error Rate</th>\n",
       "      <td id=\"T_2d159_row9_col0\" class=\"data row9 col0\" >0.210</td>\n",
       "      <td id=\"T_2d159_row9_col1\" class=\"data row9 col1\" >21.0% of instances were incorrectly identified</td>\n",
       "    </tr>\n",
       "    <tr>\n",
       "      <th id=\"T_2d159_level0_row10\" class=\"row_heading level0 row10\" >% Positive</th>\n",
       "      <td id=\"T_2d159_row10_col0\" class=\"data row10 col0\" >0.705</td>\n",
       "      <td id=\"T_2d159_row10_col1\" class=\"data row10 col1\" >70.5% of the data are positive; i.e. out of 200 total observations; 141 are labeled as \"Good\"</td>\n",
       "    </tr>\n",
       "    <tr>\n",
       "      <th id=\"T_2d159_level0_row11\" class=\"row_heading level0 row11\" >Total Observations</th>\n",
       "      <td id=\"T_2d159_row11_col0\" class=\"data row11 col0\" >200</td>\n",
       "      <td id=\"T_2d159_row11_col1\" class=\"data row11 col1\" >There are 200 total observations; i.e. sample size</td>\n",
       "    </tr>\n",
       "  </tbody>\n",
       "</table>\n"
      ],
      "text/plain": [
       "<pandas.io.formats.style.Styler at 0x7fc6604ad5e0>"
      ]
     },
     "execution_count": 34,
     "metadata": {},
     "output_type": "execute_result"
    }
   ],
   "source": [
    "evaluator.all_metrics_df(return_style=True, round_by=3)"
   ]
  },
  {
   "cell_type": "markdown",
   "id": "09a3204d",
   "metadata": {},
   "source": [
    "Compare results against scores if we predicted all `Good`"
   ]
  },
  {
   "cell_type": "code",
   "execution_count": 35,
   "id": "59c27052",
   "metadata": {},
   "outputs": [],
   "source": [
    "dummy_predicted_scores = np.array([0.99] * len(predicted_scores))"
   ]
  },
  {
   "cell_type": "code",
   "execution_count": 36,
   "id": "f3278fdd",
   "metadata": {},
   "outputs": [
    {
     "data": {
      "text/html": [
       "<style type=\"text/css\">\n",
       "#T_896fa_row0_col0 {\n",
       "  width: 10em;\n",
       "  height: 80%;\n",
       "  background: linear-gradient(90deg,#1AAF54 50.0%, transparent 50.0%);\n",
       "}\n",
       "#T_896fa_row1_col0 {\n",
       "  width: 10em;\n",
       "  height: 80%;\n",
       "  background: linear-gradient(90deg,#1AAF54 100.0%, transparent 100.0%);\n",
       "}\n",
       "#T_896fa_row2_col0, #T_896fa_row6_col0 {\n",
       "  width: 10em;\n",
       "  height: 80%;\n",
       "}\n",
       "#T_896fa_row3_col0 {\n",
       "  width: 10em;\n",
       "  height: 80%;\n",
       "  background: linear-gradient(90deg,#1AAF54 100.0%, transparent 100.0%);\n",
       "  width: 10em;\n",
       "  height: 80%;\n",
       "  background: linear-gradient(90deg,#FF420E 100.0%, transparent 100.0%);\n",
       "}\n",
       "#T_896fa_row4_col0 {\n",
       "  width: 10em;\n",
       "  height: 80%;\n",
       "  width: 10em;\n",
       "  height: 80%;\n",
       "}\n",
       "#T_896fa_row5_col0 {\n",
       "  width: 10em;\n",
       "  height: 80%;\n",
       "  background: linear-gradient(90deg,#1AAF54 70.5%, transparent 70.5%);\n",
       "}\n",
       "#T_896fa_row7_col0 {\n",
       "  width: 10em;\n",
       "  height: 80%;\n",
       "  background: linear-gradient(90deg,#1AAF54 82.7%, transparent 82.7%);\n",
       "}\n",
       "#T_896fa_row8_col0, #T_896fa_row10_col0 {\n",
       "  width: 10em;\n",
       "  height: 80%;\n",
       "  background: linear-gradient(90deg,#1AAF54 70.5%, transparent 70.5%);\n",
       "  width: 10em;\n",
       "  height: 80%;\n",
       "  background: linear-gradient(90deg,#B4B7B9 70.5%, transparent 70.5%);\n",
       "}\n",
       "#T_896fa_row9_col0 {\n",
       "  width: 10em;\n",
       "  height: 80%;\n",
       "  background: linear-gradient(90deg,#1AAF54 29.5%, transparent 29.5%);\n",
       "  width: 10em;\n",
       "  height: 80%;\n",
       "  background: linear-gradient(90deg,#B4B7B9 29.5%, transparent 29.5%);\n",
       "}\n",
       "</style>\n",
       "<table id=\"T_896fa_\">\n",
       "  <thead>\n",
       "    <tr>\n",
       "      <th class=\"blank level0\" >&nbsp;</th>\n",
       "      <th class=\"col_heading level0 col0\" >Scores</th>\n",
       "      <th class=\"col_heading level0 col1\" >Details</th>\n",
       "    </tr>\n",
       "  </thead>\n",
       "  <tbody>\n",
       "    <tr>\n",
       "      <th id=\"T_896fa_level0_row0\" class=\"row_heading level0 row0\" >AUC</th>\n",
       "      <td id=\"T_896fa_row0_col0\" class=\"data row0 col0\" >0.500</td>\n",
       "      <td id=\"T_896fa_row0_col1\" class=\"data row0 col1\" >Area under the ROC curve (true pos. rate vs false pos. rate); ranges from 0.5 (purely random classifier) to 1.0 (perfect classifier)</td>\n",
       "    </tr>\n",
       "    <tr>\n",
       "      <th id=\"T_896fa_level0_row1\" class=\"row_heading level0 row1\" >True Positive Rate</th>\n",
       "      <td id=\"T_896fa_row1_col0\" class=\"data row1 col0\" >1.000</td>\n",
       "      <td id=\"T_896fa_row1_col1\" class=\"data row1 col1\" >100.0% of positive instances were correctly identified.; i.e. 141 \"Good\" labels were correctly identified out of 141 instances; a.k.a Sensitivity/Recall</td>\n",
       "    </tr>\n",
       "    <tr>\n",
       "      <th id=\"T_896fa_level0_row2\" class=\"row_heading level0 row2\" >True Negative Rate</th>\n",
       "      <td id=\"T_896fa_row2_col0\" class=\"data row2 col0\" >0.000</td>\n",
       "      <td id=\"T_896fa_row2_col1\" class=\"data row2 col1\" >0.0% of negative instances were correctly identified.; i.e. 0 \"Bad\" labels were correctly identified out of 59 instances</td>\n",
       "    </tr>\n",
       "    <tr>\n",
       "      <th id=\"T_896fa_level0_row3\" class=\"row_heading level0 row3\" >False Positive Rate</th>\n",
       "      <td id=\"T_896fa_row3_col0\" class=\"data row3 col0\" >1.000</td>\n",
       "      <td id=\"T_896fa_row3_col1\" class=\"data row3 col1\" >100.0% of negative instances were incorrectly identified as positive; i.e. 59 \"Bad\" labels were incorrectly identified as \"Good\", out of 59 instances</td>\n",
       "    </tr>\n",
       "    <tr>\n",
       "      <th id=\"T_896fa_level0_row4\" class=\"row_heading level0 row4\" >False Negative Rate</th>\n",
       "      <td id=\"T_896fa_row4_col0\" class=\"data row4 col0\" >0.000</td>\n",
       "      <td id=\"T_896fa_row4_col1\" class=\"data row4 col1\" >0.0% of positive instances were incorrectly identified as negative; i.e. 0 \"Good\" labels were incorrectly identified as \"Bad\", out of 141 instances</td>\n",
       "    </tr>\n",
       "    <tr>\n",
       "      <th id=\"T_896fa_level0_row5\" class=\"row_heading level0 row5\" >Positive Predictive Value</th>\n",
       "      <td id=\"T_896fa_row5_col0\" class=\"data row5 col0\" >0.705</td>\n",
       "      <td id=\"T_896fa_row5_col1\" class=\"data row5 col1\" >When the model claims an instance is positive, it is correct 70.5% of the time; i.e. out of the 200 times the model predicted \"Good\", it was correct 141 times; a.k.a precision</td>\n",
       "    </tr>\n",
       "    <tr>\n",
       "      <th id=\"T_896fa_level0_row6\" class=\"row_heading level0 row6\" >Negative Predictive Value</th>\n",
       "      <td id=\"T_896fa_row6_col0\" class=\"data row6 col0\" >0.000</td>\n",
       "      <td id=\"T_896fa_row6_col1\" class=\"data row6 col1\" >When the model claims an instance is negative, it is correct 0.0% of the time; i.e. out of the 0 times the model predicted \"Bad\", it was correct 0 times</td>\n",
       "    </tr>\n",
       "    <tr>\n",
       "      <th id=\"T_896fa_level0_row7\" class=\"row_heading level0 row7\" >F1 Score</th>\n",
       "      <td id=\"T_896fa_row7_col0\" class=\"data row7 col0\" >0.827</td>\n",
       "      <td id=\"T_896fa_row7_col1\" class=\"data row7 col1\" >The F1 score can be interpreted as a weighted average of the precision and recall, where an F1 score reaches its best value at 1 and worst score at 0.</td>\n",
       "    </tr>\n",
       "    <tr>\n",
       "      <th id=\"T_896fa_level0_row8\" class=\"row_heading level0 row8\" >Accuracy</th>\n",
       "      <td id=\"T_896fa_row8_col0\" class=\"data row8 col0\" >0.705</td>\n",
       "      <td id=\"T_896fa_row8_col1\" class=\"data row8 col1\" >70.5% of instances were correctly identified</td>\n",
       "    </tr>\n",
       "    <tr>\n",
       "      <th id=\"T_896fa_level0_row9\" class=\"row_heading level0 row9\" >Error Rate</th>\n",
       "      <td id=\"T_896fa_row9_col0\" class=\"data row9 col0\" >0.295</td>\n",
       "      <td id=\"T_896fa_row9_col1\" class=\"data row9 col1\" >29.5% of instances were incorrectly identified</td>\n",
       "    </tr>\n",
       "    <tr>\n",
       "      <th id=\"T_896fa_level0_row10\" class=\"row_heading level0 row10\" >% Positive</th>\n",
       "      <td id=\"T_896fa_row10_col0\" class=\"data row10 col0\" >0.705</td>\n",
       "      <td id=\"T_896fa_row10_col1\" class=\"data row10 col1\" >70.5% of the data are positive; i.e. out of 200 total observations; 141 are labeled as \"Good\"</td>\n",
       "    </tr>\n",
       "    <tr>\n",
       "      <th id=\"T_896fa_level0_row11\" class=\"row_heading level0 row11\" >Total Observations</th>\n",
       "      <td id=\"T_896fa_row11_col0\" class=\"data row11 col0\" >200</td>\n",
       "      <td id=\"T_896fa_row11_col1\" class=\"data row11 col1\" >There are 200 total observations; i.e. sample size</td>\n",
       "    </tr>\n",
       "  </tbody>\n",
       "</table>\n"
      ],
      "text/plain": [
       "<pandas.io.formats.style.Styler at 0x7fc66068ff70>"
      ]
     },
     "execution_count": 36,
     "metadata": {},
     "output_type": "execute_result"
    }
   ],
   "source": [
    "dummy_eval = hlp.sklearn_eval.TwoClassEvaluator(\n",
    "    actual_values=y_test,\n",
    "    predicted_scores=dummy_predicted_scores,\n",
    "    labels=('Bad', 'Good'),\n",
    "    score_threshold=0.5\n",
    ")\n",
    "dummy_eval.all_metrics_df(return_style=True, round_by=3)"
   ]
  },
  {
   "cell_type": "code",
   "execution_count": 37,
   "id": "cc60bc2c",
   "metadata": {},
   "outputs": [
    {
     "data": {
      "image/png": "[encoded data removed]",
      "text/plain": [
       "<Figure size 720x444.984 with 1 Axes>"
      ]
     },
     "metadata": {
      "needs_background": "light"
     },
     "output_type": "display_data"
    }
   ],
   "source": [
    "evaluator.plot_auc_curve()\n",
    "plt.grid()"
   ]
  },
  {
   "cell_type": "code",
   "execution_count": 38,
   "id": "44c66aaf",
   "metadata": {},
   "outputs": [
    {
     "data": {
      "image/png": "[encoded data removed]",
      "text/plain": [
       "<Figure size 720x444.984 with 1 Axes>"
      ]
     },
     "metadata": {
      "needs_background": "light"
     },
     "output_type": "display_data"
    }
   ],
   "source": [
    "evaluator.plot_threshold_curves()\n",
    "plt.grid()"
   ]
  },
  {
   "cell_type": "code",
   "execution_count": 39,
   "id": "08f1bf81",
   "metadata": {},
   "outputs": [
    {
     "data": {
      "image/png": "[encoded data removed]",
      "text/plain": [
       "<Figure size 720x444.984 with 1 Axes>"
      ]
     },
     "metadata": {
      "needs_background": "light"
     },
     "output_type": "display_data"
    }
   ],
   "source": [
    "evaluator.plot_precision_recall_tradeoff(score_threshold_range=(0.4, 0.95))\n",
    "plt.grid()"
   ]
  },
  {
   "cell_type": "code",
   "execution_count": 40,
   "id": "74863f55",
   "metadata": {},
   "outputs": [
    {
     "data": {
      "text/html": [
       "<style type=\"text/css\">\n",
       "#T_cb894_row0_col3 {\n",
       "  width: 10em;\n",
       "  height: 80%;\n",
       "  background: linear-gradient(90deg,#7AA9CF 7.0%, transparent 7.0%);\n",
       "}\n",
       "#T_cb894_row0_col4, #T_cb894_row1_col4, #T_cb894_row2_col4, #T_cb894_row19_col3 {\n",
       "  width: 10em;\n",
       "  height: 80%;\n",
       "  background: linear-gradient(90deg,#7AA9CF 100.0%, transparent 100.0%);\n",
       "}\n",
       "#T_cb894_row1_col3 {\n",
       "  width: 10em;\n",
       "  height: 80%;\n",
       "  background: linear-gradient(90deg,#7AA9CF 14.0%, transparent 14.0%);\n",
       "}\n",
       "#T_cb894_row2_col3 {\n",
       "  width: 10em;\n",
       "  height: 80%;\n",
       "  background: linear-gradient(90deg,#7AA9CF 21.0%, transparent 21.0%);\n",
       "}\n",
       "#T_cb894_row3_col3 {\n",
       "  width: 10em;\n",
       "  height: 80%;\n",
       "  background: linear-gradient(90deg,#7AA9CF 27.0%, transparent 27.0%);\n",
       "}\n",
       "#T_cb894_row3_col4 {\n",
       "  width: 10em;\n",
       "  height: 80%;\n",
       "  background: linear-gradient(90deg,#7AA9CF 83.3%, transparent 83.3%);\n",
       "}\n",
       "#T_cb894_row4_col3 {\n",
       "  width: 10em;\n",
       "  height: 80%;\n",
       "  background: linear-gradient(90deg,#7AA9CF 33.0%, transparent 33.0%);\n",
       "}\n",
       "#T_cb894_row4_col4 {\n",
       "  width: 10em;\n",
       "  height: 80%;\n",
       "  background: linear-gradient(90deg,#7AA9CF 71.4%, transparent 71.4%);\n",
       "}\n",
       "#T_cb894_row5_col3 {\n",
       "  width: 10em;\n",
       "  height: 80%;\n",
       "  background: linear-gradient(90deg,#7AA9CF 38.0%, transparent 38.0%);\n",
       "}\n",
       "#T_cb894_row5_col4 {\n",
       "  width: 10em;\n",
       "  height: 80%;\n",
       "  background: linear-gradient(90deg,#7AA9CF 59.5%, transparent 59.5%);\n",
       "}\n",
       "#T_cb894_row6_col3 {\n",
       "  width: 10em;\n",
       "  height: 80%;\n",
       "  background: linear-gradient(90deg,#7AA9CF 45.0%, transparent 45.0%);\n",
       "}\n",
       "#T_cb894_row6_col4, #T_cb894_row8_col4 {\n",
       "  width: 10em;\n",
       "  height: 80%;\n",
       "  background: linear-gradient(90deg,#7AA9CF 66.7%, transparent 66.7%);\n",
       "}\n",
       "#T_cb894_row7_col3, #T_cb894_row13_col4 {\n",
       "  width: 10em;\n",
       "  height: 80%;\n",
       "  background: linear-gradient(90deg,#7AA9CF 50.0%, transparent 50.0%);\n",
       "}\n",
       "#T_cb894_row7_col4, #T_cb894_row9_col4 {\n",
       "  width: 10em;\n",
       "  height: 80%;\n",
       "  background: linear-gradient(90deg,#7AA9CF 61.9%, transparent 61.9%);\n",
       "}\n",
       "#T_cb894_row8_col3 {\n",
       "  width: 10em;\n",
       "  height: 80%;\n",
       "  background: linear-gradient(90deg,#7AA9CF 57.0%, transparent 57.0%);\n",
       "}\n",
       "#T_cb894_row9_col3 {\n",
       "  width: 10em;\n",
       "  height: 80%;\n",
       "  background: linear-gradient(90deg,#7AA9CF 63.0%, transparent 63.0%);\n",
       "}\n",
       "#T_cb894_row10_col3 {\n",
       "  width: 10em;\n",
       "  height: 80%;\n",
       "  background: linear-gradient(90deg,#7AA9CF 67.0%, transparent 67.0%);\n",
       "}\n",
       "#T_cb894_row10_col4, #T_cb894_row11_col4, #T_cb894_row12_col4 {\n",
       "  width: 10em;\n",
       "  height: 80%;\n",
       "  background: linear-gradient(90deg,#7AA9CF 54.8%, transparent 54.8%);\n",
       "}\n",
       "#T_cb894_row11_col3 {\n",
       "  width: 10em;\n",
       "  height: 80%;\n",
       "  background: linear-gradient(90deg,#7AA9CF 74.0%, transparent 74.0%);\n",
       "}\n",
       "#T_cb894_row12_col3 {\n",
       "  width: 10em;\n",
       "  height: 80%;\n",
       "  background: linear-gradient(90deg,#7AA9CF 80.0%, transparent 80.0%);\n",
       "}\n",
       "#T_cb894_row13_col3 {\n",
       "  width: 10em;\n",
       "  height: 80%;\n",
       "  background: linear-gradient(90deg,#7AA9CF 84.0%, transparent 84.0%);\n",
       "}\n",
       "#T_cb894_row14_col3 {\n",
       "  width: 10em;\n",
       "  height: 80%;\n",
       "  background: linear-gradient(90deg,#7AA9CF 88.0%, transparent 88.0%);\n",
       "}\n",
       "#T_cb894_row14_col4 {\n",
       "  width: 10em;\n",
       "  height: 80%;\n",
       "  background: linear-gradient(90deg,#7AA9CF 40.5%, transparent 40.5%);\n",
       "}\n",
       "#T_cb894_row15_col3 {\n",
       "  width: 10em;\n",
       "  height: 80%;\n",
       "  background: linear-gradient(90deg,#7AA9CF 92.0%, transparent 92.0%);\n",
       "}\n",
       "#T_cb894_row15_col4 {\n",
       "  width: 10em;\n",
       "  height: 80%;\n",
       "  background: linear-gradient(90deg,#7AA9CF 35.7%, transparent 35.7%);\n",
       "}\n",
       "#T_cb894_row16_col3 {\n",
       "  width: 10em;\n",
       "  height: 80%;\n",
       "  background: linear-gradient(90deg,#7AA9CF 94.0%, transparent 94.0%);\n",
       "}\n",
       "#T_cb894_row16_col4 {\n",
       "  width: 10em;\n",
       "  height: 80%;\n",
       "  background: linear-gradient(90deg,#7AA9CF 26.2%, transparent 26.2%);\n",
       "}\n",
       "#T_cb894_row17_col3 {\n",
       "  width: 10em;\n",
       "  height: 80%;\n",
       "  background: linear-gradient(90deg,#7AA9CF 97.0%, transparent 97.0%);\n",
       "}\n",
       "#T_cb894_row17_col4 {\n",
       "  width: 10em;\n",
       "  height: 80%;\n",
       "  background: linear-gradient(90deg,#7AA9CF 19.0%, transparent 19.0%);\n",
       "}\n",
       "#T_cb894_row18_col3 {\n",
       "  width: 10em;\n",
       "  height: 80%;\n",
       "  background: linear-gradient(90deg,#7AA9CF 98.0%, transparent 98.0%);\n",
       "}\n",
       "#T_cb894_row18_col4 {\n",
       "  width: 10em;\n",
       "  height: 80%;\n",
       "  background: linear-gradient(90deg,#7AA9CF 7.1%, transparent 7.1%);\n",
       "}\n",
       "#T_cb894_row19_col4 {\n",
       "  width: 10em;\n",
       "  height: 80%;\n",
       "}\n",
       "</style>\n",
       "<table id=\"T_cb894_\">\n",
       "  <thead>\n",
       "    <tr>\n",
       "      <th class=\"blank level0\" >&nbsp;</th>\n",
       "      <th class=\"col_heading level0 col0\" ># of Obs.</th>\n",
       "      <th class=\"col_heading level0 col1\" ># of Pos. Events</th>\n",
       "      <th class=\"col_heading level0 col2\" >Cumul. Pos. Events</th>\n",
       "      <th class=\"col_heading level0 col3\" >Gain</th>\n",
       "      <th class=\"col_heading level0 col4\" >Lift</th>\n",
       "    </tr>\n",
       "    <tr>\n",
       "      <th class=\"index_name level0\" >Percentile</th>\n",
       "      <th class=\"blank col0\" >&nbsp;</th>\n",
       "      <th class=\"blank col1\" >&nbsp;</th>\n",
       "      <th class=\"blank col2\" >&nbsp;</th>\n",
       "      <th class=\"blank col3\" >&nbsp;</th>\n",
       "      <th class=\"blank col4\" >&nbsp;</th>\n",
       "    </tr>\n",
       "  </thead>\n",
       "  <tbody>\n",
       "    <tr>\n",
       "      <th id=\"T_cb894_level0_row0\" class=\"row_heading level0 row0\" >5</th>\n",
       "      <td id=\"T_cb894_row0_col0\" class=\"data row0 col0\" >10</td>\n",
       "      <td id=\"T_cb894_row0_col1\" class=\"data row0 col1\" >10</td>\n",
       "      <td id=\"T_cb894_row0_col2\" class=\"data row0 col2\" >10</td>\n",
       "      <td id=\"T_cb894_row0_col3\" class=\"data row0 col3\" >0.07</td>\n",
       "      <td id=\"T_cb894_row0_col4\" class=\"data row0 col4\" >1.42</td>\n",
       "    </tr>\n",
       "    <tr>\n",
       "      <th id=\"T_cb894_level0_row1\" class=\"row_heading level0 row1\" >10</th>\n",
       "      <td id=\"T_cb894_row1_col0\" class=\"data row1 col0\" >10</td>\n",
       "      <td id=\"T_cb894_row1_col1\" class=\"data row1 col1\" >10</td>\n",
       "      <td id=\"T_cb894_row1_col2\" class=\"data row1 col2\" >20</td>\n",
       "      <td id=\"T_cb894_row1_col3\" class=\"data row1 col3\" >0.14</td>\n",
       "      <td id=\"T_cb894_row1_col4\" class=\"data row1 col4\" >1.42</td>\n",
       "    </tr>\n",
       "    <tr>\n",
       "      <th id=\"T_cb894_level0_row2\" class=\"row_heading level0 row2\" >15</th>\n",
       "      <td id=\"T_cb894_row2_col0\" class=\"data row2 col0\" >10</td>\n",
       "      <td id=\"T_cb894_row2_col1\" class=\"data row2 col1\" >10</td>\n",
       "      <td id=\"T_cb894_row2_col2\" class=\"data row2 col2\" >30</td>\n",
       "      <td id=\"T_cb894_row2_col3\" class=\"data row2 col3\" >0.21</td>\n",
       "      <td id=\"T_cb894_row2_col4\" class=\"data row2 col4\" >1.42</td>\n",
       "    </tr>\n",
       "    <tr>\n",
       "      <th id=\"T_cb894_level0_row3\" class=\"row_heading level0 row3\" >20</th>\n",
       "      <td id=\"T_cb894_row3_col0\" class=\"data row3 col0\" >10</td>\n",
       "      <td id=\"T_cb894_row3_col1\" class=\"data row3 col1\" >8</td>\n",
       "      <td id=\"T_cb894_row3_col2\" class=\"data row3 col2\" >38</td>\n",
       "      <td id=\"T_cb894_row3_col3\" class=\"data row3 col3\" >0.27</td>\n",
       "      <td id=\"T_cb894_row3_col4\" class=\"data row3 col4\" >1.35</td>\n",
       "    </tr>\n",
       "    <tr>\n",
       "      <th id=\"T_cb894_level0_row4\" class=\"row_heading level0 row4\" >25</th>\n",
       "      <td id=\"T_cb894_row4_col0\" class=\"data row4 col0\" >10</td>\n",
       "      <td id=\"T_cb894_row4_col1\" class=\"data row4 col1\" >8</td>\n",
       "      <td id=\"T_cb894_row4_col2\" class=\"data row4 col2\" >46</td>\n",
       "      <td id=\"T_cb894_row4_col3\" class=\"data row4 col3\" >0.33</td>\n",
       "      <td id=\"T_cb894_row4_col4\" class=\"data row4 col4\" >1.30</td>\n",
       "    </tr>\n",
       "    <tr>\n",
       "      <th id=\"T_cb894_level0_row5\" class=\"row_heading level0 row5\" >30</th>\n",
       "      <td id=\"T_cb894_row5_col0\" class=\"data row5 col0\" >10</td>\n",
       "      <td id=\"T_cb894_row5_col1\" class=\"data row5 col1\" >7</td>\n",
       "      <td id=\"T_cb894_row5_col2\" class=\"data row5 col2\" >53</td>\n",
       "      <td id=\"T_cb894_row5_col3\" class=\"data row5 col3\" >0.38</td>\n",
       "      <td id=\"T_cb894_row5_col4\" class=\"data row5 col4\" >1.25</td>\n",
       "    </tr>\n",
       "    <tr>\n",
       "      <th id=\"T_cb894_level0_row6\" class=\"row_heading level0 row6\" >35</th>\n",
       "      <td id=\"T_cb894_row6_col0\" class=\"data row6 col0\" >10</td>\n",
       "      <td id=\"T_cb894_row6_col1\" class=\"data row6 col1\" >10</td>\n",
       "      <td id=\"T_cb894_row6_col2\" class=\"data row6 col2\" >63</td>\n",
       "      <td id=\"T_cb894_row6_col3\" class=\"data row6 col3\" >0.45</td>\n",
       "      <td id=\"T_cb894_row6_col4\" class=\"data row6 col4\" >1.28</td>\n",
       "    </tr>\n",
       "    <tr>\n",
       "      <th id=\"T_cb894_level0_row7\" class=\"row_heading level0 row7\" >40</th>\n",
       "      <td id=\"T_cb894_row7_col0\" class=\"data row7 col0\" >10</td>\n",
       "      <td id=\"T_cb894_row7_col1\" class=\"data row7 col1\" >8</td>\n",
       "      <td id=\"T_cb894_row7_col2\" class=\"data row7 col2\" >71</td>\n",
       "      <td id=\"T_cb894_row7_col3\" class=\"data row7 col3\" >0.50</td>\n",
       "      <td id=\"T_cb894_row7_col4\" class=\"data row7 col4\" >1.26</td>\n",
       "    </tr>\n",
       "    <tr>\n",
       "      <th id=\"T_cb894_level0_row8\" class=\"row_heading level0 row8\" >45</th>\n",
       "      <td id=\"T_cb894_row8_col0\" class=\"data row8 col0\" >10</td>\n",
       "      <td id=\"T_cb894_row8_col1\" class=\"data row8 col1\" >10</td>\n",
       "      <td id=\"T_cb894_row8_col2\" class=\"data row8 col2\" >81</td>\n",
       "      <td id=\"T_cb894_row8_col3\" class=\"data row8 col3\" >0.57</td>\n",
       "      <td id=\"T_cb894_row8_col4\" class=\"data row8 col4\" >1.28</td>\n",
       "    </tr>\n",
       "    <tr>\n",
       "      <th id=\"T_cb894_level0_row9\" class=\"row_heading level0 row9\" >50</th>\n",
       "      <td id=\"T_cb894_row9_col0\" class=\"data row9 col0\" >10</td>\n",
       "      <td id=\"T_cb894_row9_col1\" class=\"data row9 col1\" >8</td>\n",
       "      <td id=\"T_cb894_row9_col2\" class=\"data row9 col2\" >89</td>\n",
       "      <td id=\"T_cb894_row9_col3\" class=\"data row9 col3\" >0.63</td>\n",
       "      <td id=\"T_cb894_row9_col4\" class=\"data row9 col4\" >1.26</td>\n",
       "    </tr>\n",
       "    <tr>\n",
       "      <th id=\"T_cb894_level0_row10\" class=\"row_heading level0 row10\" >55</th>\n",
       "      <td id=\"T_cb894_row10_col0\" class=\"data row10 col0\" >10</td>\n",
       "      <td id=\"T_cb894_row10_col1\" class=\"data row10 col1\" >6</td>\n",
       "      <td id=\"T_cb894_row10_col2\" class=\"data row10 col2\" >95</td>\n",
       "      <td id=\"T_cb894_row10_col3\" class=\"data row10 col3\" >0.67</td>\n",
       "      <td id=\"T_cb894_row10_col4\" class=\"data row10 col4\" >1.23</td>\n",
       "    </tr>\n",
       "    <tr>\n",
       "      <th id=\"T_cb894_level0_row11\" class=\"row_heading level0 row11\" >60</th>\n",
       "      <td id=\"T_cb894_row11_col0\" class=\"data row11 col0\" >10</td>\n",
       "      <td id=\"T_cb894_row11_col1\" class=\"data row11 col1\" >9</td>\n",
       "      <td id=\"T_cb894_row11_col2\" class=\"data row11 col2\" >104</td>\n",
       "      <td id=\"T_cb894_row11_col3\" class=\"data row11 col3\" >0.74</td>\n",
       "      <td id=\"T_cb894_row11_col4\" class=\"data row11 col4\" >1.23</td>\n",
       "    </tr>\n",
       "    <tr>\n",
       "      <th id=\"T_cb894_level0_row12\" class=\"row_heading level0 row12\" >65</th>\n",
       "      <td id=\"T_cb894_row12_col0\" class=\"data row12 col0\" >10</td>\n",
       "      <td id=\"T_cb894_row12_col1\" class=\"data row12 col1\" >9</td>\n",
       "      <td id=\"T_cb894_row12_col2\" class=\"data row12 col2\" >113</td>\n",
       "      <td id=\"T_cb894_row12_col3\" class=\"data row12 col3\" >0.80</td>\n",
       "      <td id=\"T_cb894_row12_col4\" class=\"data row12 col4\" >1.23</td>\n",
       "    </tr>\n",
       "    <tr>\n",
       "      <th id=\"T_cb894_level0_row13\" class=\"row_heading level0 row13\" >70</th>\n",
       "      <td id=\"T_cb894_row13_col0\" class=\"data row13 col0\" >10</td>\n",
       "      <td id=\"T_cb894_row13_col1\" class=\"data row13 col1\" >6</td>\n",
       "      <td id=\"T_cb894_row13_col2\" class=\"data row13 col2\" >119</td>\n",
       "      <td id=\"T_cb894_row13_col3\" class=\"data row13 col3\" >0.84</td>\n",
       "      <td id=\"T_cb894_row13_col4\" class=\"data row13 col4\" >1.21</td>\n",
       "    </tr>\n",
       "    <tr>\n",
       "      <th id=\"T_cb894_level0_row14\" class=\"row_heading level0 row14\" >75</th>\n",
       "      <td id=\"T_cb894_row14_col0\" class=\"data row14 col0\" >10</td>\n",
       "      <td id=\"T_cb894_row14_col1\" class=\"data row14 col1\" >5</td>\n",
       "      <td id=\"T_cb894_row14_col2\" class=\"data row14 col2\" >124</td>\n",
       "      <td id=\"T_cb894_row14_col3\" class=\"data row14 col3\" >0.88</td>\n",
       "      <td id=\"T_cb894_row14_col4\" class=\"data row14 col4\" >1.17</td>\n",
       "    </tr>\n",
       "    <tr>\n",
       "      <th id=\"T_cb894_level0_row15\" class=\"row_heading level0 row15\" >80</th>\n",
       "      <td id=\"T_cb894_row15_col0\" class=\"data row15 col0\" >10</td>\n",
       "      <td id=\"T_cb894_row15_col1\" class=\"data row15 col1\" >6</td>\n",
       "      <td id=\"T_cb894_row15_col2\" class=\"data row15 col2\" >130</td>\n",
       "      <td id=\"T_cb894_row15_col3\" class=\"data row15 col3\" >0.92</td>\n",
       "      <td id=\"T_cb894_row15_col4\" class=\"data row15 col4\" >1.15</td>\n",
       "    </tr>\n",
       "    <tr>\n",
       "      <th id=\"T_cb894_level0_row16\" class=\"row_heading level0 row16\" >85</th>\n",
       "      <td id=\"T_cb894_row16_col0\" class=\"data row16 col0\" >10</td>\n",
       "      <td id=\"T_cb894_row16_col1\" class=\"data row16 col1\" >3</td>\n",
       "      <td id=\"T_cb894_row16_col2\" class=\"data row16 col2\" >133</td>\n",
       "      <td id=\"T_cb894_row16_col3\" class=\"data row16 col3\" >0.94</td>\n",
       "      <td id=\"T_cb894_row16_col4\" class=\"data row16 col4\" >1.11</td>\n",
       "    </tr>\n",
       "    <tr>\n",
       "      <th id=\"T_cb894_level0_row17\" class=\"row_heading level0 row17\" >90</th>\n",
       "      <td id=\"T_cb894_row17_col0\" class=\"data row17 col0\" >10</td>\n",
       "      <td id=\"T_cb894_row17_col1\" class=\"data row17 col1\" >4</td>\n",
       "      <td id=\"T_cb894_row17_col2\" class=\"data row17 col2\" >137</td>\n",
       "      <td id=\"T_cb894_row17_col3\" class=\"data row17 col3\" >0.97</td>\n",
       "      <td id=\"T_cb894_row17_col4\" class=\"data row17 col4\" >1.08</td>\n",
       "    </tr>\n",
       "    <tr>\n",
       "      <th id=\"T_cb894_level0_row18\" class=\"row_heading level0 row18\" >95</th>\n",
       "      <td id=\"T_cb894_row18_col0\" class=\"data row18 col0\" >10</td>\n",
       "      <td id=\"T_cb894_row18_col1\" class=\"data row18 col1\" >1</td>\n",
       "      <td id=\"T_cb894_row18_col2\" class=\"data row18 col2\" >138</td>\n",
       "      <td id=\"T_cb894_row18_col3\" class=\"data row18 col3\" >0.98</td>\n",
       "      <td id=\"T_cb894_row18_col4\" class=\"data row18 col4\" >1.03</td>\n",
       "    </tr>\n",
       "    <tr>\n",
       "      <th id=\"T_cb894_level0_row19\" class=\"row_heading level0 row19\" >100</th>\n",
       "      <td id=\"T_cb894_row19_col0\" class=\"data row19 col0\" >10</td>\n",
       "      <td id=\"T_cb894_row19_col1\" class=\"data row19 col1\" >3</td>\n",
       "      <td id=\"T_cb894_row19_col2\" class=\"data row19 col2\" >141</td>\n",
       "      <td id=\"T_cb894_row19_col3\" class=\"data row19 col3\" >1.00</td>\n",
       "      <td id=\"T_cb894_row19_col4\" class=\"data row19 col4\" >1.00</td>\n",
       "    </tr>\n",
       "  </tbody>\n",
       "</table>\n"
      ],
      "text/plain": [
       "<pandas.io.formats.style.Styler at 0x7fc66068f220>"
      ]
     },
     "execution_count": 40,
     "metadata": {},
     "output_type": "execute_result"
    }
   ],
   "source": [
    "evaluator.calculate_lift_gain(return_style=True, include_all_info=True)"
   ]
  },
  {
   "cell_type": "code",
   "execution_count": 41,
   "id": "b9028e2f",
   "metadata": {
    "pycharm": {
     "name": "#%%\n"
    }
   },
   "outputs": [],
   "source": [
    "del predicted_scores"
   ]
  },
  {
   "cell_type": "markdown",
   "id": "6d5b72e3",
   "metadata": {},
   "source": [
    "# Feature Importance\n",
    "\n",
    "https://scikit-learn.org/stable/auto_examples/ensemble/plot_forest_importances.html"
   ]
  },
  {
   "cell_type": "code",
   "execution_count": 42,
   "id": "66a1cb40",
   "metadata": {},
   "outputs": [
    {
     "name": "stdout",
     "output_type": "stream",
     "text": [
      "Elapsed time to compute the importances: 1.127 seconds\n"
     ]
    }
   ],
   "source": [
    "from sklearn.inspection import permutation_importance\n",
    "import time\n",
    "\n",
    "estimator = full_pipeline\n",
    "\n",
    "start_time = time.time()\n",
    "result = permutation_importance(\n",
    "    estimator, X_train, y_train, n_repeats=10, random_state=42, n_jobs=2\n",
    ")\n",
    "elapsed_time = time.time() - start_time\n",
    "print(f\"Elapsed time to compute the importances: {elapsed_time:.3f} seconds\")\n",
    "\n",
    "feature_names = X_train.columns.to_list()\n",
    "forest_importances = pd.Series(result.importances_mean, index=feature_names)\n",
    "forest_importances = forest_importances.sort_values(ascending=False)"
   ]
  },
  {
   "cell_type": "code",
   "execution_count": 43,
   "id": "c04d3bcc",
   "metadata": {},
   "outputs": [
    {
     "data": {
      "image/png": "[encoded data removed]",
      "text/plain": [
       "<Figure size 648x432 with 1 Axes>"
      ]
     },
     "metadata": {
      "needs_background": "light"
     },
     "output_type": "display_data"
    }
   ],
   "source": [
    "import matplotlib.pyplot as plt\n",
    "fig, ax = plt.subplots()\n",
    "forest_importances.plot.bar(yerr=result.importances_std, ax=ax)\n",
    "ax.set_title(\"Feature importances using permutation on full model\")\n",
    "ax.set_ylabel(\"Mean accuracy decrease\")\n",
    "fig.set_size_inches(9, 6)\n",
    "fig.tight_layout()\n",
    "plt.show()"
   ]
  }
 ],
 "metadata": {
  "kernelspec": {
   "display_name": "Python 3 (ipykernel)",
   "language": "python",
   "name": "python3"
  },
  "language_info": {
   "codemirror_mode": {
    "name": "ipython",
    "version": 3
   },
   "file_extension": ".py",
   "mimetype": "text/x-python",
   "name": "python",
   "nbconvert_exporter": "python",
   "pygments_lexer": "ipython3",
   "version": "3.9.6"
  },
  "toc": {
   "base_numbering": 1,
   "nav_menu": {},
   "number_sections": false,
   "sideBar": true,
   "skip_h1_title": false,
   "title_cell": "Table of Contents",
   "title_sidebar": "Contents",
   "toc_cell": false,
   "toc_position": {
    "height": "calc(100% - 180px)",
    "left": "10px",
    "top": "150px",
    "width": "298px"
   },
   "toc_section_display": true,
   "toc_window_display": true
  }
 },
 "nbformat": 4,
 "nbformat_minor": 5
}
