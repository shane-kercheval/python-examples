{
 "cells": [
  {
   "cell_type": "code",
   "execution_count": 1,
   "id": "225ee1f4",
   "metadata": {},
   "outputs": [],
   "source": [
    "import pandas as pd\n",
    "import numpy as np"
   ]
  },
  {
   "cell_type": "markdown",
   "id": "a49934b5",
   "metadata": {},
   "source": [
    "---"
   ]
  },
  {
   "cell_type": "markdown",
   "id": "fe215ac9",
   "metadata": {},
   "source": [
    "Why the would `np.nan` be conveted to `True`? Ideally it would remain as `np.nan` but if anything it should be converted to `False`...."
   ]
  },
  {
   "cell_type": "code",
   "execution_count": 8,
   "id": "e2dc7b5d",
   "metadata": {},
   "outputs": [
    {
     "data": {
      "text/plain": [
       "0     True\n",
       "1    False\n",
       "2    False\n",
       "3     True\n",
       "dtype: bool"
      ]
     },
     "execution_count": 8,
     "metadata": {},
     "output_type": "execute_result"
    }
   ],
   "source": [
    "pd.Series([np.nan, 0, 0, 1]).astype(bool)"
   ]
  },
  {
   "cell_type": "markdown",
   "id": "6e938b51",
   "metadata": {},
   "source": [
    "But it works if `'boolean'` is used"
   ]
  },
  {
   "cell_type": "code",
   "execution_count": 9,
   "id": "d2887f32",
   "metadata": {},
   "outputs": [
    {
     "data": {
      "text/plain": [
       "0     <NA>\n",
       "1    False\n",
       "2    False\n",
       "3     True\n",
       "dtype: boolean"
      ]
     },
     "execution_count": 9,
     "metadata": {},
     "output_type": "execute_result"
    }
   ],
   "source": [
    "pd.Series([np.nan, 0, 0, 1]).astype('boolean')"
   ]
  },
  {
   "cell_type": "markdown",
   "id": "763a6ebc",
   "metadata": {},
   "source": [
    "---"
   ]
  },
  {
   "cell_type": "code",
   "execution_count": 16,
   "id": "0f997cc9",
   "metadata": {},
   "outputs": [
    {
     "data": {
      "text/plain": [
       "False"
      ]
     },
     "execution_count": 16,
     "metadata": {},
     "output_type": "execute_result"
    }
   ],
   "source": [
    "pd.Series([1, 2, 3]).isna().any()"
   ]
  },
  {
   "cell_type": "code",
   "execution_count": 19,
   "id": "753b83a7",
   "metadata": {},
   "outputs": [
    {
     "data": {
      "text/plain": [
       "numpy.bool_"
      ]
     },
     "execution_count": 19,
     "metadata": {},
     "output_type": "execute_result"
    }
   ],
   "source": [
    "type(pd.Series([1, 2, 3]).isna().any())"
   ]
  },
  {
   "cell_type": "markdown",
   "id": "97752552",
   "metadata": {},
   "source": [
    "`pd.Series([1, 2, 3]).isna().any()` returns `False` but using `is False` returns `False` instead of `True`\n",
    "\n",
    "probably because it is `numpy.bool_`"
   ]
  },
  {
   "cell_type": "code",
   "execution_count": 17,
   "id": "60b9b41d",
   "metadata": {},
   "outputs": [
    {
     "data": {
      "text/plain": [
       "False"
      ]
     },
     "execution_count": 17,
     "metadata": {},
     "output_type": "execute_result"
    }
   ],
   "source": [
    "pd.Series([1, 2, 3]).isna().any() is False"
   ]
  },
  {
   "cell_type": "code",
   "execution_count": 18,
   "id": "dd93b472",
   "metadata": {},
   "outputs": [
    {
     "data": {
      "text/plain": [
       "True"
      ]
     },
     "execution_count": 18,
     "metadata": {},
     "output_type": "execute_result"
    }
   ],
   "source": [
    "pd.Series([1, 2, 3]).isna().any() == False"
   ]
  },
  {
   "cell_type": "markdown",
   "id": "58176857",
   "metadata": {},
   "source": [
    "---"
   ]
  },
  {
   "cell_type": "markdown",
   "id": "e9bd9828",
   "metadata": {},
   "source": [
    "# Default Mutable Arguments"
   ]
  },
  {
   "cell_type": "markdown",
   "id": "cdcdc3e5",
   "metadata": {},
   "source": [
    "Python’s default arguments are evaluated once when the function is defined, not each time the function is called (like it is in say, Ruby). This means that if you use a mutable default argument and mutate it, you will and have mutated that object for all future calls to the function as well.\n",
    "\n",
    "- http://docs.python-guide.org/en/latest/writing/gotchas/\n",
    "- **this means that I can’t assign objects as default arguments**"
   ]
  },
  {
   "cell_type": "code",
   "execution_count": 26,
   "id": "caf23cee",
   "metadata": {},
   "outputs": [],
   "source": [
    "def func(key, value, a = {'a': 1}):\n",
    "    a[key] = value\n",
    "    return a"
   ]
  },
  {
   "cell_type": "code",
   "execution_count": 27,
   "id": "c6827a81",
   "metadata": {},
   "outputs": [
    {
     "data": {
      "text/plain": [
       "{'a': 1, 'b': 2}"
      ]
     },
     "execution_count": 27,
     "metadata": {},
     "output_type": "execute_result"
    }
   ],
   "source": [
    "func('b', 2)"
   ]
  },
  {
   "cell_type": "code",
   "execution_count": 28,
   "id": "79c10f51",
   "metadata": {},
   "outputs": [
    {
     "data": {
      "text/plain": [
       "{'a': 1, 'b': 2, 'c': 3}"
      ]
     },
     "execution_count": 28,
     "metadata": {},
     "output_type": "execute_result"
    }
   ],
   "source": [
    "func('c', 3)"
   ]
  },
  {
   "cell_type": "markdown",
   "id": "c2d2992d",
   "metadata": {},
   "source": [
    "**`b: 2` is still added**"
   ]
  }
 ],
 "metadata": {
  "kernelspec": {
   "display_name": "Python 3 (ipykernel)",
   "language": "python",
   "name": "python3"
  },
  "language_info": {
   "codemirror_mode": {
    "name": "ipython",
    "version": 3
   },
   "file_extension": ".py",
   "mimetype": "text/x-python",
   "name": "python",
   "nbconvert_exporter": "python",
   "pygments_lexer": "ipython3",
   "version": "3.9.6"
  },
  "toc": {
   "base_numbering": 1,
   "nav_menu": {},
   "number_sections": false,
   "sideBar": true,
   "skip_h1_title": false,
   "title_cell": "Table of Contents",
   "title_sidebar": "Contents",
   "toc_cell": false,
   "toc_position": {},
   "toc_section_display": true,
   "toc_window_display": false
  }
 },
 "nbformat": 4,
 "nbformat_minor": 5
}
