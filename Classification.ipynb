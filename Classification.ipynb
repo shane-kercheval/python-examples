{
 "cells": [
  {
   "cell_type": "code",
   "execution_count": 62,
   "id": "9cd8adf7",
   "metadata": {},
   "outputs": [],
   "source": [
    "import helpsk as hlp\n",
    "import matplotlib.pyplot as plt\n",
    "import pandas as pd\n",
    "import numpy as np\n",
    "from sklearn.datasets import fetch_openml\n",
    "import seaborn as sns\n",
    "\n",
    "from sklearn.pipeline import Pipeline\n",
    "from sklearn.preprocessing import StandardScaler, OneHotEncoder\n",
    "from sklearn.impute import SimpleImputer\n",
    "from sklearn.model_selection import train_test_split\n",
    "\n",
    "%matplotlib inline"
   ]
  },
  {
   "cell_type": "markdown",
   "id": "b3ca12ea",
   "metadata": {},
   "source": [
    "# Load Data"
   ]
  },
  {
   "cell_type": "code",
   "execution_count": 3,
   "id": "fbc2d5e9",
   "metadata": {},
   "outputs": [],
   "source": [
    "#https://www.openml.org/d/31\n",
    "credit_g = fetch_openml('credit-g', version=1)\n",
    "credit_data = credit_g['data']\n",
    "credit_data['target'] = credit_g['target']\n",
    "credit_data.shape\n",
    "\n",
    "## Create Missing Values\n",
    "\n",
    "credit_data['duration'].iloc[0:50] = np.nan\n",
    "credit_data['checking_status'].iloc[25:75] = np.nan"
   ]
  },
  {
   "cell_type": "code",
   "execution_count": 4,
   "id": "d96f1da4",
   "metadata": {},
   "outputs": [
    {
     "data": {
      "text/html": [
       "<div>\n",
       "<style scoped>\n",
       "    .dataframe tbody tr th:only-of-type {\n",
       "        vertical-align: middle;\n",
       "    }\n",
       "\n",
       "    .dataframe tbody tr th {\n",
       "        vertical-align: top;\n",
       "    }\n",
       "\n",
       "    .dataframe thead th {\n",
       "        text-align: right;\n",
       "    }\n",
       "</style>\n",
       "<table border=\"1\" class=\"dataframe\">\n",
       "  <thead>\n",
       "    <tr style=\"text-align: right;\">\n",
       "      <th></th>\n",
       "      <th># of Non-Nulls</th>\n",
       "      <th># of Nulls</th>\n",
       "      <th>% Nulls</th>\n",
       "      <th># of Zeros</th>\n",
       "      <th>% Zeros</th>\n",
       "      <th>Mean</th>\n",
       "      <th>St Dev.</th>\n",
       "      <th>Coef of Var</th>\n",
       "      <th>Skewness</th>\n",
       "      <th>Kurtosis</th>\n",
       "      <th>Min</th>\n",
       "      <th>10%</th>\n",
       "      <th>25%</th>\n",
       "      <th>50%</th>\n",
       "      <th>75%</th>\n",
       "      <th>90%</th>\n",
       "      <th>Max</th>\n",
       "    </tr>\n",
       "  </thead>\n",
       "  <tbody>\n",
       "    <tr>\n",
       "      <th>duration</th>\n",
       "      <td>950</td>\n",
       "      <td>50</td>\n",
       "      <td>0.05</td>\n",
       "      <td>0</td>\n",
       "      <td>0.0</td>\n",
       "      <td>20.874</td>\n",
       "      <td>11.957</td>\n",
       "      <td>0.573</td>\n",
       "      <td>1.102</td>\n",
       "      <td>0.987</td>\n",
       "      <td>4.0</td>\n",
       "      <td>9.0</td>\n",
       "      <td>12.0</td>\n",
       "      <td>18.0</td>\n",
       "      <td>24.00</td>\n",
       "      <td>36.0</td>\n",
       "      <td>72.0</td>\n",
       "    </tr>\n",
       "    <tr>\n",
       "      <th>credit_amount</th>\n",
       "      <td>1000</td>\n",
       "      <td>0</td>\n",
       "      <td>0.00</td>\n",
       "      <td>0</td>\n",
       "      <td>0.0</td>\n",
       "      <td>3271.258</td>\n",
       "      <td>2822.737</td>\n",
       "      <td>0.863</td>\n",
       "      <td>1.950</td>\n",
       "      <td>4.293</td>\n",
       "      <td>250.0</td>\n",
       "      <td>932.0</td>\n",
       "      <td>1365.5</td>\n",
       "      <td>2319.5</td>\n",
       "      <td>3972.25</td>\n",
       "      <td>7179.4</td>\n",
       "      <td>18424.0</td>\n",
       "    </tr>\n",
       "    <tr>\n",
       "      <th>installment_commitment</th>\n",
       "      <td>1000</td>\n",
       "      <td>0</td>\n",
       "      <td>0.00</td>\n",
       "      <td>0</td>\n",
       "      <td>0.0</td>\n",
       "      <td>2.973</td>\n",
       "      <td>1.119</td>\n",
       "      <td>0.376</td>\n",
       "      <td>-0.531</td>\n",
       "      <td>-1.210</td>\n",
       "      <td>1.0</td>\n",
       "      <td>1.0</td>\n",
       "      <td>2.0</td>\n",
       "      <td>3.0</td>\n",
       "      <td>4.00</td>\n",
       "      <td>4.0</td>\n",
       "      <td>4.0</td>\n",
       "    </tr>\n",
       "    <tr>\n",
       "      <th>residence_since</th>\n",
       "      <td>1000</td>\n",
       "      <td>0</td>\n",
       "      <td>0.00</td>\n",
       "      <td>0</td>\n",
       "      <td>0.0</td>\n",
       "      <td>2.845</td>\n",
       "      <td>1.104</td>\n",
       "      <td>0.388</td>\n",
       "      <td>-0.273</td>\n",
       "      <td>-1.381</td>\n",
       "      <td>1.0</td>\n",
       "      <td>1.0</td>\n",
       "      <td>2.0</td>\n",
       "      <td>3.0</td>\n",
       "      <td>4.00</td>\n",
       "      <td>4.0</td>\n",
       "      <td>4.0</td>\n",
       "    </tr>\n",
       "    <tr>\n",
       "      <th>age</th>\n",
       "      <td>1000</td>\n",
       "      <td>0</td>\n",
       "      <td>0.00</td>\n",
       "      <td>0</td>\n",
       "      <td>0.0</td>\n",
       "      <td>35.546</td>\n",
       "      <td>11.375</td>\n",
       "      <td>0.320</td>\n",
       "      <td>1.021</td>\n",
       "      <td>0.596</td>\n",
       "      <td>19.0</td>\n",
       "      <td>23.0</td>\n",
       "      <td>27.0</td>\n",
       "      <td>33.0</td>\n",
       "      <td>42.00</td>\n",
       "      <td>52.0</td>\n",
       "      <td>75.0</td>\n",
       "    </tr>\n",
       "    <tr>\n",
       "      <th>existing_credits</th>\n",
       "      <td>1000</td>\n",
       "      <td>0</td>\n",
       "      <td>0.00</td>\n",
       "      <td>0</td>\n",
       "      <td>0.0</td>\n",
       "      <td>1.407</td>\n",
       "      <td>0.578</td>\n",
       "      <td>0.411</td>\n",
       "      <td>1.273</td>\n",
       "      <td>1.604</td>\n",
       "      <td>1.0</td>\n",
       "      <td>1.0</td>\n",
       "      <td>1.0</td>\n",
       "      <td>1.0</td>\n",
       "      <td>2.00</td>\n",
       "      <td>2.0</td>\n",
       "      <td>4.0</td>\n",
       "    </tr>\n",
       "    <tr>\n",
       "      <th>num_dependents</th>\n",
       "      <td>1000</td>\n",
       "      <td>0</td>\n",
       "      <td>0.00</td>\n",
       "      <td>0</td>\n",
       "      <td>0.0</td>\n",
       "      <td>1.155</td>\n",
       "      <td>0.362</td>\n",
       "      <td>0.313</td>\n",
       "      <td>1.909</td>\n",
       "      <td>1.649</td>\n",
       "      <td>1.0</td>\n",
       "      <td>1.0</td>\n",
       "      <td>1.0</td>\n",
       "      <td>1.0</td>\n",
       "      <td>1.00</td>\n",
       "      <td>2.0</td>\n",
       "      <td>2.0</td>\n",
       "    </tr>\n",
       "  </tbody>\n",
       "</table>\n",
       "</div>"
      ],
      "text/plain": [
       "                        # of Non-Nulls  # of Nulls  % Nulls  # of Zeros  \\\n",
       "duration                           950          50     0.05           0   \n",
       "credit_amount                     1000           0     0.00           0   \n",
       "installment_commitment            1000           0     0.00           0   \n",
       "residence_since                   1000           0     0.00           0   \n",
       "age                               1000           0     0.00           0   \n",
       "existing_credits                  1000           0     0.00           0   \n",
       "num_dependents                    1000           0     0.00           0   \n",
       "\n",
       "                        % Zeros      Mean   St Dev.  Coef of Var  Skewness  \\\n",
       "duration                    0.0    20.874    11.957        0.573     1.102   \n",
       "credit_amount               0.0  3271.258  2822.737        0.863     1.950   \n",
       "installment_commitment      0.0     2.973     1.119        0.376    -0.531   \n",
       "residence_since             0.0     2.845     1.104        0.388    -0.273   \n",
       "age                         0.0    35.546    11.375        0.320     1.021   \n",
       "existing_credits            0.0     1.407     0.578        0.411     1.273   \n",
       "num_dependents              0.0     1.155     0.362        0.313     1.909   \n",
       "\n",
       "                        Kurtosis    Min    10%     25%     50%      75%  \\\n",
       "duration                   0.987    4.0    9.0    12.0    18.0    24.00   \n",
       "credit_amount              4.293  250.0  932.0  1365.5  2319.5  3972.25   \n",
       "installment_commitment    -1.210    1.0    1.0     2.0     3.0     4.00   \n",
       "residence_since           -1.381    1.0    1.0     2.0     3.0     4.00   \n",
       "age                        0.596   19.0   23.0    27.0    33.0    42.00   \n",
       "existing_credits           1.604    1.0    1.0     1.0     1.0     2.00   \n",
       "num_dependents             1.649    1.0    1.0     1.0     1.0     1.00   \n",
       "\n",
       "                           90%      Max  \n",
       "duration                  36.0     72.0  \n",
       "credit_amount           7179.4  18424.0  \n",
       "installment_commitment     4.0      4.0  \n",
       "residence_since            4.0      4.0  \n",
       "age                       52.0     75.0  \n",
       "existing_credits           2.0      4.0  \n",
       "num_dependents             2.0      2.0  "
      ]
     },
     "execution_count": 4,
     "metadata": {},
     "output_type": "execute_result"
    }
   ],
   "source": [
    "hlp.pandas.numeric_summary(credit_data)"
   ]
  },
  {
   "cell_type": "code",
   "execution_count": 5,
   "id": "644011d3",
   "metadata": {},
   "outputs": [
    {
     "data": {
      "text/html": [
       "<div>\n",
       "<style scoped>\n",
       "    .dataframe tbody tr th:only-of-type {\n",
       "        vertical-align: middle;\n",
       "    }\n",
       "\n",
       "    .dataframe tbody tr th {\n",
       "        vertical-align: top;\n",
       "    }\n",
       "\n",
       "    .dataframe thead th {\n",
       "        text-align: right;\n",
       "    }\n",
       "</style>\n",
       "<table border=\"1\" class=\"dataframe\">\n",
       "  <thead>\n",
       "    <tr style=\"text-align: right;\">\n",
       "      <th></th>\n",
       "      <th># of Non-Nulls</th>\n",
       "      <th># of Nulls</th>\n",
       "      <th>% Null</th>\n",
       "      <th>Most Freq. Value</th>\n",
       "      <th># of Unique</th>\n",
       "      <th>% Unique</th>\n",
       "    </tr>\n",
       "  </thead>\n",
       "  <tbody>\n",
       "    <tr>\n",
       "      <th>checking_status</th>\n",
       "      <td>950</td>\n",
       "      <td>50</td>\n",
       "      <td>0.05</td>\n",
       "      <td>no checking</td>\n",
       "      <td>4</td>\n",
       "      <td>0.004</td>\n",
       "    </tr>\n",
       "    <tr>\n",
       "      <th>credit_history</th>\n",
       "      <td>1000</td>\n",
       "      <td>0</td>\n",
       "      <td>0.00</td>\n",
       "      <td>existing paid</td>\n",
       "      <td>5</td>\n",
       "      <td>0.005</td>\n",
       "    </tr>\n",
       "    <tr>\n",
       "      <th>purpose</th>\n",
       "      <td>1000</td>\n",
       "      <td>0</td>\n",
       "      <td>0.00</td>\n",
       "      <td>radio/tv</td>\n",
       "      <td>10</td>\n",
       "      <td>0.010</td>\n",
       "    </tr>\n",
       "    <tr>\n",
       "      <th>savings_status</th>\n",
       "      <td>1000</td>\n",
       "      <td>0</td>\n",
       "      <td>0.00</td>\n",
       "      <td>&lt;100</td>\n",
       "      <td>5</td>\n",
       "      <td>0.005</td>\n",
       "    </tr>\n",
       "    <tr>\n",
       "      <th>employment</th>\n",
       "      <td>1000</td>\n",
       "      <td>0</td>\n",
       "      <td>0.00</td>\n",
       "      <td>1&lt;=X&lt;4</td>\n",
       "      <td>5</td>\n",
       "      <td>0.005</td>\n",
       "    </tr>\n",
       "    <tr>\n",
       "      <th>personal_status</th>\n",
       "      <td>1000</td>\n",
       "      <td>0</td>\n",
       "      <td>0.00</td>\n",
       "      <td>male single</td>\n",
       "      <td>4</td>\n",
       "      <td>0.004</td>\n",
       "    </tr>\n",
       "    <tr>\n",
       "      <th>other_parties</th>\n",
       "      <td>1000</td>\n",
       "      <td>0</td>\n",
       "      <td>0.00</td>\n",
       "      <td>none</td>\n",
       "      <td>3</td>\n",
       "      <td>0.003</td>\n",
       "    </tr>\n",
       "    <tr>\n",
       "      <th>property_magnitude</th>\n",
       "      <td>1000</td>\n",
       "      <td>0</td>\n",
       "      <td>0.00</td>\n",
       "      <td>car</td>\n",
       "      <td>4</td>\n",
       "      <td>0.004</td>\n",
       "    </tr>\n",
       "    <tr>\n",
       "      <th>other_payment_plans</th>\n",
       "      <td>1000</td>\n",
       "      <td>0</td>\n",
       "      <td>0.00</td>\n",
       "      <td>none</td>\n",
       "      <td>3</td>\n",
       "      <td>0.003</td>\n",
       "    </tr>\n",
       "    <tr>\n",
       "      <th>housing</th>\n",
       "      <td>1000</td>\n",
       "      <td>0</td>\n",
       "      <td>0.00</td>\n",
       "      <td>own</td>\n",
       "      <td>3</td>\n",
       "      <td>0.003</td>\n",
       "    </tr>\n",
       "    <tr>\n",
       "      <th>job</th>\n",
       "      <td>1000</td>\n",
       "      <td>0</td>\n",
       "      <td>0.00</td>\n",
       "      <td>skilled</td>\n",
       "      <td>4</td>\n",
       "      <td>0.004</td>\n",
       "    </tr>\n",
       "    <tr>\n",
       "      <th>own_telephone</th>\n",
       "      <td>1000</td>\n",
       "      <td>0</td>\n",
       "      <td>0.00</td>\n",
       "      <td>none</td>\n",
       "      <td>2</td>\n",
       "      <td>0.002</td>\n",
       "    </tr>\n",
       "    <tr>\n",
       "      <th>foreign_worker</th>\n",
       "      <td>1000</td>\n",
       "      <td>0</td>\n",
       "      <td>0.00</td>\n",
       "      <td>yes</td>\n",
       "      <td>2</td>\n",
       "      <td>0.002</td>\n",
       "    </tr>\n",
       "    <tr>\n",
       "      <th>target</th>\n",
       "      <td>1000</td>\n",
       "      <td>0</td>\n",
       "      <td>0.00</td>\n",
       "      <td>good</td>\n",
       "      <td>2</td>\n",
       "      <td>0.002</td>\n",
       "    </tr>\n",
       "  </tbody>\n",
       "</table>\n",
       "</div>"
      ],
      "text/plain": [
       "                     # of Non-Nulls  # of Nulls  % Null Most Freq. Value  \\\n",
       "checking_status                 950          50    0.05      no checking   \n",
       "credit_history                 1000           0    0.00    existing paid   \n",
       "purpose                        1000           0    0.00         radio/tv   \n",
       "savings_status                 1000           0    0.00             <100   \n",
       "employment                     1000           0    0.00           1<=X<4   \n",
       "personal_status                1000           0    0.00      male single   \n",
       "other_parties                  1000           0    0.00             none   \n",
       "property_magnitude             1000           0    0.00              car   \n",
       "other_payment_plans            1000           0    0.00             none   \n",
       "housing                        1000           0    0.00              own   \n",
       "job                            1000           0    0.00          skilled   \n",
       "own_telephone                  1000           0    0.00             none   \n",
       "foreign_worker                 1000           0    0.00              yes   \n",
       "target                         1000           0    0.00             good   \n",
       "\n",
       "                     # of Unique  % Unique  \n",
       "checking_status                4     0.004  \n",
       "credit_history                 5     0.005  \n",
       "purpose                       10     0.010  \n",
       "savings_status                 5     0.005  \n",
       "employment                     5     0.005  \n",
       "personal_status                4     0.004  \n",
       "other_parties                  3     0.003  \n",
       "property_magnitude             4     0.004  \n",
       "other_payment_plans            3     0.003  \n",
       "housing                        3     0.003  \n",
       "job                            4     0.004  \n",
       "own_telephone                  2     0.002  \n",
       "foreign_worker                 2     0.002  \n",
       "target                         2     0.002  "
      ]
     },
     "execution_count": 5,
     "metadata": {},
     "output_type": "execute_result"
    }
   ],
   "source": [
    "hlp.pandas.non_numeric_summary(credit_data)"
   ]
  },
  {
   "cell_type": "markdown",
   "id": "8e404e66",
   "metadata": {},
   "source": [
    "# Training and Test Data"
   ]
  },
  {
   "cell_type": "code",
   "execution_count": 13,
   "id": "466bb7e9",
   "metadata": {},
   "outputs": [],
   "source": [
    "y_full = credit_data['target']\n",
    "X_full = credit_data.drop(columns='target')"
   ]
  },
  {
   "cell_type": "code",
   "execution_count": 14,
   "id": "0455d864",
   "metadata": {},
   "outputs": [
    {
     "data": {
      "text/html": [
       "<div>\n",
       "<style scoped>\n",
       "    .dataframe tbody tr th:only-of-type {\n",
       "        vertical-align: middle;\n",
       "    }\n",
       "\n",
       "    .dataframe tbody tr th {\n",
       "        vertical-align: top;\n",
       "    }\n",
       "\n",
       "    .dataframe thead th {\n",
       "        text-align: right;\n",
       "    }\n",
       "</style>\n",
       "<table border=\"1\" class=\"dataframe\">\n",
       "  <thead>\n",
       "    <tr style=\"text-align: right;\">\n",
       "      <th></th>\n",
       "      <th>Frequency</th>\n",
       "      <th>Percent</th>\n",
       "    </tr>\n",
       "  </thead>\n",
       "  <tbody>\n",
       "    <tr>\n",
       "      <th>good</th>\n",
       "      <td>700</td>\n",
       "      <td>0.7</td>\n",
       "    </tr>\n",
       "    <tr>\n",
       "      <th>bad</th>\n",
       "      <td>300</td>\n",
       "      <td>0.3</td>\n",
       "    </tr>\n",
       "  </tbody>\n",
       "</table>\n",
       "</div>"
      ],
      "text/plain": [
       "      Frequency  Percent\n",
       "good        700      0.7\n",
       "bad         300      0.3"
      ]
     },
     "execution_count": 14,
     "metadata": {},
     "output_type": "execute_result"
    }
   ],
   "source": [
    "hlp.pandas.value_frequency(series=y_full)"
   ]
  },
  {
   "cell_type": "code",
   "execution_count": 15,
   "id": "e9880096",
   "metadata": {},
   "outputs": [],
   "source": [
    "X_train, X_test, y_train, y_test = train_test_split(X_full, y_full, test_size=0.2, random_state=42)"
   ]
  },
  {
   "cell_type": "code",
   "execution_count": 16,
   "id": "9715328c",
   "metadata": {},
   "outputs": [],
   "source": [
    "del y_full, X_full"
   ]
  },
  {
   "cell_type": "code",
   "execution_count": 17,
   "id": "b3e8e6fa",
   "metadata": {},
   "outputs": [
    {
     "name": "stdout",
     "output_type": "stream",
     "text": [
      "(800, 20)\n",
      "(800,)\n",
      "(200, 20)\n",
      "(200,)\n"
     ]
    }
   ],
   "source": [
    "print(X_train.shape)\n",
    "print(y_train.shape)\n",
    "\n",
    "print(X_test.shape)\n",
    "print(y_test.shape)"
   ]
  },
  {
   "cell_type": "code",
   "execution_count": 19,
   "id": "1a305ec8",
   "metadata": {},
   "outputs": [
    {
     "data": {
      "text/html": [
       "<div>\n",
       "<style scoped>\n",
       "    .dataframe tbody tr th:only-of-type {\n",
       "        vertical-align: middle;\n",
       "    }\n",
       "\n",
       "    .dataframe tbody tr th {\n",
       "        vertical-align: top;\n",
       "    }\n",
       "\n",
       "    .dataframe thead th {\n",
       "        text-align: right;\n",
       "    }\n",
       "</style>\n",
       "<table border=\"1\" class=\"dataframe\">\n",
       "  <thead>\n",
       "    <tr style=\"text-align: right;\">\n",
       "      <th></th>\n",
       "      <th>Frequency</th>\n",
       "      <th>Percent</th>\n",
       "    </tr>\n",
       "  </thead>\n",
       "  <tbody>\n",
       "    <tr>\n",
       "      <th>good</th>\n",
       "      <td>559</td>\n",
       "      <td>0.69875</td>\n",
       "    </tr>\n",
       "    <tr>\n",
       "      <th>bad</th>\n",
       "      <td>241</td>\n",
       "      <td>0.30125</td>\n",
       "    </tr>\n",
       "  </tbody>\n",
       "</table>\n",
       "</div>"
      ],
      "text/plain": [
       "      Frequency  Percent\n",
       "good        559  0.69875\n",
       "bad         241  0.30125"
      ]
     },
     "execution_count": 19,
     "metadata": {},
     "output_type": "execute_result"
    }
   ],
   "source": [
    "hlp.pandas.value_frequency(series=y_train)"
   ]
  },
  {
   "cell_type": "code",
   "execution_count": 18,
   "id": "66338323",
   "metadata": {},
   "outputs": [
    {
     "data": {
      "text/html": [
       "<div>\n",
       "<style scoped>\n",
       "    .dataframe tbody tr th:only-of-type {\n",
       "        vertical-align: middle;\n",
       "    }\n",
       "\n",
       "    .dataframe tbody tr th {\n",
       "        vertical-align: top;\n",
       "    }\n",
       "\n",
       "    .dataframe thead th {\n",
       "        text-align: right;\n",
       "    }\n",
       "</style>\n",
       "<table border=\"1\" class=\"dataframe\">\n",
       "  <thead>\n",
       "    <tr style=\"text-align: right;\">\n",
       "      <th></th>\n",
       "      <th>Frequency</th>\n",
       "      <th>Percent</th>\n",
       "    </tr>\n",
       "  </thead>\n",
       "  <tbody>\n",
       "    <tr>\n",
       "      <th>good</th>\n",
       "      <td>141</td>\n",
       "      <td>0.705</td>\n",
       "    </tr>\n",
       "    <tr>\n",
       "      <th>bad</th>\n",
       "      <td>59</td>\n",
       "      <td>0.295</td>\n",
       "    </tr>\n",
       "  </tbody>\n",
       "</table>\n",
       "</div>"
      ],
      "text/plain": [
       "      Frequency  Percent\n",
       "good        141    0.705\n",
       "bad          59    0.295"
      ]
     },
     "execution_count": 18,
     "metadata": {},
     "output_type": "execute_result"
    }
   ],
   "source": [
    "hlp.pandas.value_frequency(series=y_test)"
   ]
  },
  {
   "cell_type": "markdown",
   "id": "735e4d2d",
   "metadata": {},
   "source": [
    "# Transformation Pipeline"
   ]
  },
  {
   "cell_type": "code",
   "execution_count": 67,
   "id": "186c1558",
   "metadata": {},
   "outputs": [
    {
     "name": "stdout",
     "output_type": "stream",
     "text": [
      "['duration', 'credit_amount', 'installment_commitment', 'residence_since', 'age', 'existing_credits', 'num_dependents']\n",
      "['checking_status', 'credit_history', 'purpose', 'savings_status', 'employment', 'personal_status', 'other_parties', 'property_magnitude', 'other_payment_plans', 'housing', 'job', 'own_telephone', 'foreign_worker']\n"
     ]
    }
   ],
   "source": [
    "numeric_columns = hlp.pandas.get_numeric_columns(X_train)\n",
    "non_numeric_columns = hlp.pandas.get_non_numeric_columns(X_train)\n",
    "print(numeric_columns)\n",
    "print(non_numeric_columns)"
   ]
  },
  {
   "cell_type": "code",
   "execution_count": 68,
   "id": "1a13da8e",
   "metadata": {},
   "outputs": [],
   "source": [
    "numeric_pipeline = Pipeline([\n",
    "    ('imputer', SimpleImputer(strategy='mean')),\n",
    "    ('standard_scaler', StandardScaler()),\n",
    "])"
   ]
  },
  {
   "cell_type": "code",
   "execution_count": 69,
   "id": "da424c04",
   "metadata": {},
   "outputs": [
    {
     "name": "stdout",
     "output_type": "stream",
     "text": [
      "<class 'numpy.ndarray'>\n",
      "(800, 7)\n"
     ]
    }
   ],
   "source": [
    "temp = numeric_pipeline.fit_transform(X_train[numeric_columns])\n",
    "print(type(temp))\n",
    "print(temp.shape)"
   ]
  },
  {
   "cell_type": "code",
   "execution_count": 70,
   "id": "267df040",
   "metadata": {},
   "outputs": [
    {
     "data": {
      "text/plain": [
       "array([-0., -0.,  0.,  0., -0.,  0., -0.])"
      ]
     },
     "execution_count": 70,
     "metadata": {},
     "output_type": "execute_result"
    }
   ],
   "source": [
    "np.mean(temp, axis=0).round(3)"
   ]
  },
  {
   "cell_type": "code",
   "execution_count": 71,
   "id": "bb64b21a",
   "metadata": {},
   "outputs": [
    {
     "data": {
      "text/plain": [
       "array([1., 1., 1., 1., 1., 1., 1.])"
      ]
     },
     "execution_count": 71,
     "metadata": {},
     "output_type": "execute_result"
    }
   ],
   "source": [
    "np.std(temp, axis=0)"
   ]
  },
  {
   "cell_type": "code",
   "execution_count": 72,
   "id": "cb277b0c",
   "metadata": {},
   "outputs": [],
   "source": [
    "non_numeric_pipeline = Pipeline([\n",
    "    ('one_hot_encoder', OneHotEncoder()),\n",
    "])"
   ]
  },
  {
   "cell_type": "code",
   "execution_count": 73,
   "id": "94446db7",
   "metadata": {},
   "outputs": [],
   "source": [
    "temp = non_numeric_pipeline.fit_transform(X_train[non_numeric_columns])"
   ]
  },
  {
   "cell_type": "code",
   "execution_count": 77,
   "id": "0251fca6",
   "metadata": {},
   "outputs": [
    {
     "name": "stdout",
     "output_type": "stream",
     "text": [
      "<class 'scipy.sparse.csr.csr_matrix'>\n",
      "(800, 55)\n"
     ]
    }
   ],
   "source": [
    "print(type(temp))\n",
    "print(temp.shape)"
   ]
  },
  {
   "cell_type": "code",
   "execution_count": 80,
   "id": "050d4379",
   "metadata": {},
   "outputs": [
    {
     "data": {
      "text/plain": [
       "array([[0., 0., 0., 0., 1., 0., 0., 1., 0., 0.],\n",
       "       [0., 0., 1., 0., 0., 0., 1., 0., 0., 0.],\n",
       "       [0., 0., 0., 1., 0., 0., 0., 0., 1., 0.],\n",
       "       [0., 0., 0., 1., 0., 0., 0., 0., 0., 1.],\n",
       "       [0., 0., 0., 1., 0., 0., 0., 0., 1., 0.],\n",
       "       [0., 1., 0., 0., 0., 0., 0., 0., 1., 0.],\n",
       "       [0., 0., 0., 1., 0., 0., 0., 0., 1., 0.],\n",
       "       [0., 1., 0., 0., 0., 0., 0., 0., 1., 0.],\n",
       "       [0., 1., 0., 0., 0., 0., 0., 0., 1., 0.],\n",
       "       [0., 0., 0., 1., 0., 0., 1., 0., 0., 0.]])"
      ]
     },
     "execution_count": 80,
     "metadata": {},
     "output_type": "execute_result"
    }
   ],
   "source": [
    "temp.toarray()[0:10, 0:10]"
   ]
  },
  {
   "cell_type": "code",
   "execution_count": 87,
   "id": "7a148965",
   "metadata": {},
   "outputs": [
    {
     "data": {
      "text/plain": [
       "[array(['0<=X<200', '<0', '>=200', 'no checking', nan], dtype=object),\n",
       " array(['all paid', 'critical/other existing credit', 'delayed previously',\n",
       "        'existing paid', 'no credits/all paid'], dtype=object),\n",
       " array(['business', 'domestic appliance', 'education',\n",
       "        'furniture/equipment', 'new car', 'other', 'radio/tv', 'repairs',\n",
       "        'retraining', 'used car'], dtype=object),\n",
       " array(['100<=X<500', '500<=X<1000', '<100', '>=1000', 'no known savings'],\n",
       "       dtype=object),\n",
       " array(['1<=X<4', '4<=X<7', '<1', '>=7', 'unemployed'], dtype=object),\n",
       " array(['female div/dep/mar', 'male div/sep', 'male mar/wid',\n",
       "        'male single'], dtype=object),\n",
       " array(['co applicant', 'guarantor', 'none'], dtype=object),\n",
       " array(['car', 'life insurance', 'no known property', 'real estate'],\n",
       "       dtype=object),\n",
       " array(['bank', 'none', 'stores'], dtype=object),\n",
       " array(['for free', 'own', 'rent'], dtype=object),\n",
       " array(['high qualif/self emp/mgmt', 'skilled', 'unemp/unskilled non res',\n",
       "        'unskilled resident'], dtype=object),\n",
       " array(['none', 'yes'], dtype=object),\n",
       " array(['no', 'yes'], dtype=object)]"
      ]
     },
     "execution_count": 87,
     "metadata": {},
     "output_type": "execute_result"
    }
   ],
   "source": [
    "non_numeric_pipeline.steps[0][1].categories_"
   ]
  },
  {
   "cell_type": "code",
   "execution_count": 103,
   "id": "0da1bcd6",
   "metadata": {},
   "outputs": [],
   "source": [
    "from sklearn.compose import ColumnTransformer\n",
    "transformations_pipeline = ColumnTransformer([\n",
    "    ('numeric_pipeline', numeric_pipeline, numeric_columns),\n",
    "    ('non_numeric_pipeline', non_numeric_pipeline, non_numeric_columns)\n",
    "])"
   ]
  },
  {
   "cell_type": "code",
   "execution_count": 104,
   "id": "48b9b277",
   "metadata": {},
   "outputs": [],
   "source": [
    "temp = transformations_pipeline.fit_transform(X_train)"
   ]
  },
  {
   "cell_type": "code",
   "execution_count": 105,
   "id": "d75d745e",
   "metadata": {},
   "outputs": [
    {
     "data": {
      "text/plain": [
       "(800, 62)"
      ]
     },
     "execution_count": 105,
     "metadata": {},
     "output_type": "execute_result"
    }
   ],
   "source": [
    "temp.shape"
   ]
  },
  {
   "cell_type": "code",
   "execution_count": 106,
   "id": "42e44cb2",
   "metadata": {},
   "outputs": [
    {
     "data": {
      "text/html": [
       "<div>\n",
       "<style scoped>\n",
       "    .dataframe tbody tr th:only-of-type {\n",
       "        vertical-align: middle;\n",
       "    }\n",
       "\n",
       "    .dataframe tbody tr th {\n",
       "        vertical-align: top;\n",
       "    }\n",
       "\n",
       "    .dataframe thead th {\n",
       "        text-align: right;\n",
       "    }\n",
       "</style>\n",
       "<table border=\"1\" class=\"dataframe\">\n",
       "  <thead>\n",
       "    <tr style=\"text-align: right;\">\n",
       "      <th></th>\n",
       "      <th>0</th>\n",
       "      <th>1</th>\n",
       "      <th>2</th>\n",
       "      <th>3</th>\n",
       "      <th>4</th>\n",
       "      <th>5</th>\n",
       "      <th>6</th>\n",
       "      <th>7</th>\n",
       "      <th>8</th>\n",
       "      <th>9</th>\n",
       "      <th>...</th>\n",
       "      <th>52</th>\n",
       "      <th>53</th>\n",
       "      <th>54</th>\n",
       "      <th>55</th>\n",
       "      <th>56</th>\n",
       "      <th>57</th>\n",
       "      <th>58</th>\n",
       "      <th>59</th>\n",
       "      <th>60</th>\n",
       "      <th>61</th>\n",
       "    </tr>\n",
       "  </thead>\n",
       "  <tbody>\n",
       "    <tr>\n",
       "      <th>0</th>\n",
       "      <td>-3.129740e-16</td>\n",
       "      <td>1.199912</td>\n",
       "      <td>0.031196</td>\n",
       "      <td>1.044509</td>\n",
       "      <td>2.406187</td>\n",
       "      <td>1.017777</td>\n",
       "      <td>-0.409736</td>\n",
       "      <td>0.0</td>\n",
       "      <td>0.0</td>\n",
       "      <td>0.0</td>\n",
       "      <td>...</td>\n",
       "      <td>1.0</td>\n",
       "      <td>0.0</td>\n",
       "      <td>0.0</td>\n",
       "      <td>1.0</td>\n",
       "      <td>0.0</td>\n",
       "      <td>0.0</td>\n",
       "      <td>0.0</td>\n",
       "      <td>1.0</td>\n",
       "      <td>0.0</td>\n",
       "      <td>1.0</td>\n",
       "    </tr>\n",
       "    <tr>\n",
       "      <th>1</th>\n",
       "      <td>-3.728861e-03</td>\n",
       "      <td>-0.359630</td>\n",
       "      <td>-0.860109</td>\n",
       "      <td>-1.671440</td>\n",
       "      <td>-0.224364</td>\n",
       "      <td>-0.710931</td>\n",
       "      <td>-0.409736</td>\n",
       "      <td>0.0</td>\n",
       "      <td>0.0</td>\n",
       "      <td>1.0</td>\n",
       "      <td>...</td>\n",
       "      <td>0.0</td>\n",
       "      <td>1.0</td>\n",
       "      <td>0.0</td>\n",
       "      <td>1.0</td>\n",
       "      <td>0.0</td>\n",
       "      <td>0.0</td>\n",
       "      <td>1.0</td>\n",
       "      <td>0.0</td>\n",
       "      <td>0.0</td>\n",
       "      <td>1.0</td>\n",
       "    </tr>\n",
       "    <tr>\n",
       "      <th>2</th>\n",
       "      <td>-1.325144e+00</td>\n",
       "      <td>-0.733547</td>\n",
       "      <td>-0.860109</td>\n",
       "      <td>1.044509</td>\n",
       "      <td>1.266282</td>\n",
       "      <td>-0.710931</td>\n",
       "      <td>-0.409736</td>\n",
       "      <td>0.0</td>\n",
       "      <td>0.0</td>\n",
       "      <td>0.0</td>\n",
       "      <td>...</td>\n",
       "      <td>0.0</td>\n",
       "      <td>1.0</td>\n",
       "      <td>0.0</td>\n",
       "      <td>1.0</td>\n",
       "      <td>0.0</td>\n",
       "      <td>0.0</td>\n",
       "      <td>1.0</td>\n",
       "      <td>0.0</td>\n",
       "      <td>0.0</td>\n",
       "      <td>1.0</td>\n",
       "    </tr>\n",
       "    <tr>\n",
       "      <th>3</th>\n",
       "      <td>-3.728861e-03</td>\n",
       "      <td>0.567050</td>\n",
       "      <td>-1.751413</td>\n",
       "      <td>1.044509</td>\n",
       "      <td>-0.575104</td>\n",
       "      <td>1.017777</td>\n",
       "      <td>-0.409736</td>\n",
       "      <td>0.0</td>\n",
       "      <td>0.0</td>\n",
       "      <td>0.0</td>\n",
       "      <td>...</td>\n",
       "      <td>1.0</td>\n",
       "      <td>0.0</td>\n",
       "      <td>0.0</td>\n",
       "      <td>1.0</td>\n",
       "      <td>0.0</td>\n",
       "      <td>0.0</td>\n",
       "      <td>0.0</td>\n",
       "      <td>1.0</td>\n",
       "      <td>0.0</td>\n",
       "      <td>1.0</td>\n",
       "    </tr>\n",
       "    <tr>\n",
       "      <th>4</th>\n",
       "      <td>-7.965779e-01</td>\n",
       "      <td>-0.854388</td>\n",
       "      <td>0.922500</td>\n",
       "      <td>-0.766124</td>\n",
       "      <td>-1.276585</td>\n",
       "      <td>-0.710931</td>\n",
       "      <td>-0.409736</td>\n",
       "      <td>0.0</td>\n",
       "      <td>0.0</td>\n",
       "      <td>0.0</td>\n",
       "      <td>...</td>\n",
       "      <td>1.0</td>\n",
       "      <td>0.0</td>\n",
       "      <td>0.0</td>\n",
       "      <td>1.0</td>\n",
       "      <td>0.0</td>\n",
       "      <td>0.0</td>\n",
       "      <td>1.0</td>\n",
       "      <td>0.0</td>\n",
       "      <td>0.0</td>\n",
       "      <td>1.0</td>\n",
       "    </tr>\n",
       "    <tr>\n",
       "      <th>...</th>\n",
       "      <td>...</td>\n",
       "      <td>...</td>\n",
       "      <td>...</td>\n",
       "      <td>...</td>\n",
       "      <td>...</td>\n",
       "      <td>...</td>\n",
       "      <td>...</td>\n",
       "      <td>...</td>\n",
       "      <td>...</td>\n",
       "      <td>...</td>\n",
       "      <td>...</td>\n",
       "      <td>...</td>\n",
       "      <td>...</td>\n",
       "      <td>...</td>\n",
       "      <td>...</td>\n",
       "      <td>...</td>\n",
       "      <td>...</td>\n",
       "      <td>...</td>\n",
       "      <td>...</td>\n",
       "      <td>...</td>\n",
       "      <td>...</td>\n",
       "    </tr>\n",
       "    <tr>\n",
       "      <th>795</th>\n",
       "      <td>-2.680119e-01</td>\n",
       "      <td>1.069404</td>\n",
       "      <td>-0.860109</td>\n",
       "      <td>1.044509</td>\n",
       "      <td>0.301746</td>\n",
       "      <td>1.017777</td>\n",
       "      <td>2.440599</td>\n",
       "      <td>0.0</td>\n",
       "      <td>0.0</td>\n",
       "      <td>0.0</td>\n",
       "      <td>...</td>\n",
       "      <td>1.0</td>\n",
       "      <td>0.0</td>\n",
       "      <td>1.0</td>\n",
       "      <td>0.0</td>\n",
       "      <td>0.0</td>\n",
       "      <td>0.0</td>\n",
       "      <td>0.0</td>\n",
       "      <td>1.0</td>\n",
       "      <td>0.0</td>\n",
       "      <td>1.0</td>\n",
       "    </tr>\n",
       "    <tr>\n",
       "      <th>796</th>\n",
       "      <td>-2.680119e-01</td>\n",
       "      <td>-0.241206</td>\n",
       "      <td>0.922500</td>\n",
       "      <td>0.139192</td>\n",
       "      <td>-0.312049</td>\n",
       "      <td>-0.710931</td>\n",
       "      <td>-0.409736</td>\n",
       "      <td>0.0</td>\n",
       "      <td>0.0</td>\n",
       "      <td>0.0</td>\n",
       "      <td>...</td>\n",
       "      <td>1.0</td>\n",
       "      <td>0.0</td>\n",
       "      <td>0.0</td>\n",
       "      <td>1.0</td>\n",
       "      <td>0.0</td>\n",
       "      <td>0.0</td>\n",
       "      <td>1.0</td>\n",
       "      <td>0.0</td>\n",
       "      <td>1.0</td>\n",
       "      <td>0.0</td>\n",
       "    </tr>\n",
       "    <tr>\n",
       "      <th>797</th>\n",
       "      <td>2.605542e-01</td>\n",
       "      <td>0.843603</td>\n",
       "      <td>0.922500</td>\n",
       "      <td>-0.766124</td>\n",
       "      <td>-0.750474</td>\n",
       "      <td>1.017777</td>\n",
       "      <td>-0.409736</td>\n",
       "      <td>0.0</td>\n",
       "      <td>0.0</td>\n",
       "      <td>0.0</td>\n",
       "      <td>...</td>\n",
       "      <td>1.0</td>\n",
       "      <td>0.0</td>\n",
       "      <td>0.0</td>\n",
       "      <td>1.0</td>\n",
       "      <td>0.0</td>\n",
       "      <td>0.0</td>\n",
       "      <td>1.0</td>\n",
       "      <td>0.0</td>\n",
       "      <td>0.0</td>\n",
       "      <td>1.0</td>\n",
       "    </tr>\n",
       "    <tr>\n",
       "      <th>798</th>\n",
       "      <td>-7.965779e-01</td>\n",
       "      <td>-0.647923</td>\n",
       "      <td>-0.860109</td>\n",
       "      <td>-1.671440</td>\n",
       "      <td>-0.925844</td>\n",
       "      <td>-0.710931</td>\n",
       "      <td>-0.409736</td>\n",
       "      <td>1.0</td>\n",
       "      <td>0.0</td>\n",
       "      <td>0.0</td>\n",
       "      <td>...</td>\n",
       "      <td>1.0</td>\n",
       "      <td>0.0</td>\n",
       "      <td>0.0</td>\n",
       "      <td>1.0</td>\n",
       "      <td>0.0</td>\n",
       "      <td>0.0</td>\n",
       "      <td>0.0</td>\n",
       "      <td>1.0</td>\n",
       "      <td>0.0</td>\n",
       "      <td>1.0</td>\n",
       "    </tr>\n",
       "    <tr>\n",
       "      <th>799</th>\n",
       "      <td>-1.325144e+00</td>\n",
       "      <td>-0.838506</td>\n",
       "      <td>0.031196</td>\n",
       "      <td>-0.766124</td>\n",
       "      <td>-1.013530</td>\n",
       "      <td>-0.710931</td>\n",
       "      <td>-0.409736</td>\n",
       "      <td>0.0</td>\n",
       "      <td>0.0</td>\n",
       "      <td>0.0</td>\n",
       "      <td>...</td>\n",
       "      <td>1.0</td>\n",
       "      <td>0.0</td>\n",
       "      <td>0.0</td>\n",
       "      <td>1.0</td>\n",
       "      <td>0.0</td>\n",
       "      <td>0.0</td>\n",
       "      <td>1.0</td>\n",
       "      <td>0.0</td>\n",
       "      <td>0.0</td>\n",
       "      <td>1.0</td>\n",
       "    </tr>\n",
       "  </tbody>\n",
       "</table>\n",
       "<p>800 rows × 62 columns</p>\n",
       "</div>"
      ],
      "text/plain": [
       "               0         1         2         3         4         5         6   \\\n",
       "0   -3.129740e-16  1.199912  0.031196  1.044509  2.406187  1.017777 -0.409736   \n",
       "1   -3.728861e-03 -0.359630 -0.860109 -1.671440 -0.224364 -0.710931 -0.409736   \n",
       "2   -1.325144e+00 -0.733547 -0.860109  1.044509  1.266282 -0.710931 -0.409736   \n",
       "3   -3.728861e-03  0.567050 -1.751413  1.044509 -0.575104  1.017777 -0.409736   \n",
       "4   -7.965779e-01 -0.854388  0.922500 -0.766124 -1.276585 -0.710931 -0.409736   \n",
       "..            ...       ...       ...       ...       ...       ...       ...   \n",
       "795 -2.680119e-01  1.069404 -0.860109  1.044509  0.301746  1.017777  2.440599   \n",
       "796 -2.680119e-01 -0.241206  0.922500  0.139192 -0.312049 -0.710931 -0.409736   \n",
       "797  2.605542e-01  0.843603  0.922500 -0.766124 -0.750474  1.017777 -0.409736   \n",
       "798 -7.965779e-01 -0.647923 -0.860109 -1.671440 -0.925844 -0.710931 -0.409736   \n",
       "799 -1.325144e+00 -0.838506  0.031196 -0.766124 -1.013530 -0.710931 -0.409736   \n",
       "\n",
       "      7    8    9   ...   52   53   54   55   56   57   58   59   60   61  \n",
       "0    0.0  0.0  0.0  ...  1.0  0.0  0.0  1.0  0.0  0.0  0.0  1.0  0.0  1.0  \n",
       "1    0.0  0.0  1.0  ...  0.0  1.0  0.0  1.0  0.0  0.0  1.0  0.0  0.0  1.0  \n",
       "2    0.0  0.0  0.0  ...  0.0  1.0  0.0  1.0  0.0  0.0  1.0  0.0  0.0  1.0  \n",
       "3    0.0  0.0  0.0  ...  1.0  0.0  0.0  1.0  0.0  0.0  0.0  1.0  0.0  1.0  \n",
       "4    0.0  0.0  0.0  ...  1.0  0.0  0.0  1.0  0.0  0.0  1.0  0.0  0.0  1.0  \n",
       "..   ...  ...  ...  ...  ...  ...  ...  ...  ...  ...  ...  ...  ...  ...  \n",
       "795  0.0  0.0  0.0  ...  1.0  0.0  1.0  0.0  0.0  0.0  0.0  1.0  0.0  1.0  \n",
       "796  0.0  0.0  0.0  ...  1.0  0.0  0.0  1.0  0.0  0.0  1.0  0.0  1.0  0.0  \n",
       "797  0.0  0.0  0.0  ...  1.0  0.0  0.0  1.0  0.0  0.0  1.0  0.0  0.0  1.0  \n",
       "798  1.0  0.0  0.0  ...  1.0  0.0  0.0  1.0  0.0  0.0  0.0  1.0  0.0  1.0  \n",
       "799  0.0  0.0  0.0  ...  1.0  0.0  0.0  1.0  0.0  0.0  1.0  0.0  0.0  1.0  \n",
       "\n",
       "[800 rows x 62 columns]"
      ]
     },
     "execution_count": 106,
     "metadata": {},
     "output_type": "execute_result"
    }
   ],
   "source": [
    "pd.DataFrame(temp)"
   ]
  },
  {
   "cell_type": "code",
   "execution_count": null,
   "id": "ec2c399c",
   "metadata": {},
   "outputs": [],
   "source": []
  },
  {
   "cell_type": "code",
   "execution_count": null,
   "id": "cdfffdb3",
   "metadata": {},
   "outputs": [],
   "source": []
  },
  {
   "cell_type": "code",
   "execution_count": 98,
   "id": "03e16971",
   "metadata": {},
   "outputs": [],
   "source": [
    "from sklearn.ensemble import RandomForestClassifier\n",
    "random_forest_model = RandomForestClassifier()"
   ]
  },
  {
   "cell_type": "code",
   "execution_count": null,
   "id": "b3e9fdd2",
   "metadata": {},
   "outputs": [],
   "source": []
  },
  {
   "cell_type": "code",
   "execution_count": 107,
   "id": "29feee92",
   "metadata": {},
   "outputs": [],
   "source": [
    "full_pipeline = Pipeline([\n",
    "    ('preparation', transformations_pipeline),\n",
    "    #('pca_chooser', ChooserTransform()),  # PCA option lost; didn't include\n",
    "    #('feature_selection', TopFeatureSelector(feature_importances, k)),\n",
    "    ('model', random_forest_model)\n",
    "])"
   ]
  },
  {
   "cell_type": "code",
   "execution_count": 108,
   "id": "35d40ee0",
   "metadata": {},
   "outputs": [
    {
     "data": {
      "text/plain": [
       "{'preparation': ColumnTransformer(transformers=[('numeric_pipeline',\n",
       "                                  Pipeline(steps=[('imputer', SimpleImputer()),\n",
       "                                                  ('standard_scaler',\n",
       "                                                   StandardScaler())]),\n",
       "                                  ['duration', 'credit_amount',\n",
       "                                   'installment_commitment', 'residence_since',\n",
       "                                   'age', 'existing_credits',\n",
       "                                   'num_dependents']),\n",
       "                                 ('non_numeric_pipeline',\n",
       "                                  Pipeline(steps=[('one_hot_encoder',\n",
       "                                                   OneHotEncoder())]),\n",
       "                                  ['checking_status', 'credit_history',\n",
       "                                   'purpose', 'savings_status', 'employment',\n",
       "                                   'personal_status', 'other_parties',\n",
       "                                   'property_magnitude', 'other_payment_plans',\n",
       "                                   'housing', 'job', 'own_telephone',\n",
       "                                   'foreign_worker'])]),\n",
       " 'model': RandomForestClassifier()}"
      ]
     },
     "execution_count": 108,
     "metadata": {},
     "output_type": "execute_result"
    }
   ],
   "source": [
    "full_pipeline.named_steps"
   ]
  },
  {
   "cell_type": "code",
   "execution_count": 111,
   "id": "08013cdf",
   "metadata": {},
   "outputs": [],
   "source": [
    "param_grad = [\n",
    "    {'model__max_features': [2, 10, 40, 'auto']}\n",
    "]"
   ]
  },
  {
   "cell_type": "code",
   "execution_count": 113,
   "id": "4171fe0f",
   "metadata": {},
   "outputs": [
    {
     "data": {
      "text/plain": [
       "GridSearchCV(cv=5,\n",
       "             estimator=Pipeline(steps=[('preparation',\n",
       "                                        ColumnTransformer(transformers=[('numeric_pipeline',\n",
       "                                                                         Pipeline(steps=[('imputer',\n",
       "                                                                                          SimpleImputer()),\n",
       "                                                                                         ('standard_scaler',\n",
       "                                                                                          StandardScaler())]),\n",
       "                                                                         ['duration',\n",
       "                                                                          'credit_amount',\n",
       "                                                                          'installment_commitment',\n",
       "                                                                          'residence_since',\n",
       "                                                                          'age',\n",
       "                                                                          'existing_credits',\n",
       "                                                                          'num_dependents']),\n",
       "                                                                        ('non_numeric_pipeline',\n",
       "                                                                         Pipeline(steps=[(...\n",
       "                                                                                          OneHotEncoder())]),\n",
       "                                                                         ['checking_status',\n",
       "                                                                          'credit_history',\n",
       "                                                                          'purpose',\n",
       "                                                                          'savings_status',\n",
       "                                                                          'employment',\n",
       "                                                                          'personal_status',\n",
       "                                                                          'other_parties',\n",
       "                                                                          'property_magnitude',\n",
       "                                                                          'other_payment_plans',\n",
       "                                                                          'housing',\n",
       "                                                                          'job',\n",
       "                                                                          'own_telephone',\n",
       "                                                                          'foreign_worker'])])),\n",
       "                                       ('model', RandomForestClassifier())]),\n",
       "             param_grid=[{'model__max_features': [2, 10, 40, 'auto']}],\n",
       "             return_train_score=True, scoring='roc_auc')"
      ]
     },
     "execution_count": 113,
     "metadata": {},
     "output_type": "execute_result"
    }
   ],
   "source": [
    "from sklearn.model_selection import GridSearchCV\n",
    "grid_search = GridSearchCV(full_pipeline, param_grid=param_grad, cv=5, scoring='roc_auc', return_train_score=True)\n",
    "grid_search.fit(X_train, y_train)"
   ]
  },
  {
   "cell_type": "code",
   "execution_count": 116,
   "id": "568535bf",
   "metadata": {},
   "outputs": [
    {
     "data": {
      "text/plain": [
       "{'mean_fit_time': array([0.09921227, 0.10989456, 0.18177648, 0.10143366]),\n",
       " 'std_fit_time': array([0.01923734, 0.00116743, 0.00103342, 0.000498  ]),\n",
       " 'mean_score_time': array([0.01016941, 0.00937796, 0.00900736, 0.00913258]),\n",
       " 'std_score_time': array([1.00247187e-03, 2.16596948e-04, 4.84119126e-05, 3.45611230e-05]),\n",
       " 'param_model__max_features': masked_array(data=[2, 10, 40, 'auto'],\n",
       "              mask=[False, False, False, False],\n",
       "        fill_value='?',\n",
       "             dtype=object),\n",
       " 'params': [{'model__max_features': 2},\n",
       "  {'model__max_features': 10},\n",
       "  {'model__max_features': 40},\n",
       "  {'model__max_features': 'auto'}],\n",
       " 'split0_test_score': array([0.76098548, 0.77477477, 0.77973892, 0.76594962]),\n",
       " 'split1_test_score': array([0.73465402, 0.75176711, 0.72265625, 0.73614211]),\n",
       " 'split2_test_score': array([0.71912202, 0.75223214, 0.76376488, 0.75604539]),\n",
       " 'split3_test_score': array([0.82421875, 0.8249628 , 0.80831473, 0.82933408]),\n",
       " 'split4_test_score': array([0.7546503 , 0.75948661, 0.7578125 , 0.75074405]),\n",
       " 'mean_test_score': array([0.75872611, 0.77264469, 0.76645746, 0.76764305]),\n",
       " 'std_test_score': array([0.03594149, 0.0274496 , 0.02803198, 0.03231421]),\n",
       " 'rank_test_score': array([4, 1, 3, 2], dtype=int32),\n",
       " 'split0_train_score': array([1., 1., 1., 1.]),\n",
       " 'split1_train_score': array([1., 1., 1., 1.]),\n",
       " 'split2_train_score': array([1., 1., 1., 1.]),\n",
       " 'split3_train_score': array([1., 1., 1., 1.]),\n",
       " 'split4_train_score': array([1., 1., 1., 1.]),\n",
       " 'mean_train_score': array([1., 1., 1., 1.]),\n",
       " 'std_train_score': array([4.96506831e-17, 0.00000000e+00, 7.02166694e-17, 4.96506831e-17])}"
      ]
     },
     "execution_count": 116,
     "metadata": {},
     "output_type": "execute_result"
    }
   ],
   "source": [
    "grid_search.cv_results_"
   ]
  },
  {
   "cell_type": "code",
   "execution_count": 117,
   "id": "ba02704c",
   "metadata": {},
   "outputs": [
    {
     "data": {
      "text/html": [
       "<div>\n",
       "<style scoped>\n",
       "    .dataframe tbody tr th:only-of-type {\n",
       "        vertical-align: middle;\n",
       "    }\n",
       "\n",
       "    .dataframe tbody tr th {\n",
       "        vertical-align: top;\n",
       "    }\n",
       "\n",
       "    .dataframe thead th {\n",
       "        text-align: right;\n",
       "    }\n",
       "</style>\n",
       "<table border=\"1\" class=\"dataframe\">\n",
       "  <thead>\n",
       "    <tr style=\"text-align: right;\">\n",
       "      <th></th>\n",
       "      <th>mean_score</th>\n",
       "      <th>st_dev_score</th>\n",
       "      <th>model__max_features</th>\n",
       "    </tr>\n",
       "  </thead>\n",
       "  <tbody>\n",
       "    <tr>\n",
       "      <th>1</th>\n",
       "      <td>0.772645</td>\n",
       "      <td>0.027450</td>\n",
       "      <td>10</td>\n",
       "    </tr>\n",
       "    <tr>\n",
       "      <th>3</th>\n",
       "      <td>0.767643</td>\n",
       "      <td>0.032314</td>\n",
       "      <td>auto</td>\n",
       "    </tr>\n",
       "    <tr>\n",
       "      <th>2</th>\n",
       "      <td>0.766457</td>\n",
       "      <td>0.028032</td>\n",
       "      <td>40</td>\n",
       "    </tr>\n",
       "    <tr>\n",
       "      <th>0</th>\n",
       "      <td>0.758726</td>\n",
       "      <td>0.035941</td>\n",
       "      <td>2</td>\n",
       "    </tr>\n",
       "  </tbody>\n",
       "</table>\n",
       "</div>"
      ],
      "text/plain": [
       "   mean_score  st_dev_score model__max_features\n",
       "1    0.772645      0.027450                  10\n",
       "3    0.767643      0.032314                auto\n",
       "2    0.766457      0.028032                  40\n",
       "0    0.758726      0.035941                   2"
      ]
     },
     "execution_count": 117,
     "metadata": {},
     "output_type": "execute_result"
    }
   ],
   "source": [
    "cvres = grid_search.cv_results_\n",
    "results_df = pd.concat([pd.DataFrame({'mean_score': cvres[\"mean_test_score\"], 'st_dev_score': cvres[\"std_test_score\"]}),\n",
    "          pd.DataFrame(cvres[\"params\"])],\n",
    "          axis=1)\n",
    "results_df.sort_values(by=['mean_score'], ascending=False).head(10)"
   ]
  },
  {
   "cell_type": "code",
   "execution_count": 119,
   "id": "efc7b4e7",
   "metadata": {},
   "outputs": [
    {
     "data": {
      "text/plain": [
       "array([0.0754755 , 0.10930985, 0.03194036, 0.03501169, 0.09137456,\n",
       "       0.01725489, 0.00843814, 0.01694168, 0.03699194, 0.00519236,\n",
       "       0.04190846, 0.00586453, 0.00897108, 0.02222291, 0.00895831,\n",
       "       0.01341363, 0.01557162, 0.01043077, 0.00248649, 0.01105474,\n",
       "       0.01361007, 0.0193251 , 0.00170111, 0.01521   , 0.00436435,\n",
       "       0.00093963, 0.0078134 , 0.00762163, 0.00604044, 0.01788119,\n",
       "       0.00411842, 0.01164173, 0.01523977, 0.01113989, 0.01360795,\n",
       "       0.01218306, 0.00995284, 0.01375158, 0.00675196, 0.007414  ,\n",
       "       0.01506316, 0.00495152, 0.00663783, 0.01006701, 0.01553278,\n",
       "       0.01272542, 0.01291412, 0.01389387, 0.01395413, 0.0160065 ,\n",
       "       0.00517882, 0.00761786, 0.01749944, 0.01055352, 0.01163606,\n",
       "       0.01406286, 0.00222072, 0.00978983, 0.0128646 , 0.01309963,\n",
       "       0.00232712, 0.00228156])"
      ]
     },
     "execution_count": 119,
     "metadata": {},
     "output_type": "execute_result"
    }
   ],
   "source": [
    "grid_search.best_estimator_._final_estimator.feature_importances_"
   ]
  },
  {
   "cell_type": "code",
   "execution_count": 120,
   "id": "4e0f1c42",
   "metadata": {},
   "outputs": [
    {
     "data": {
      "text/plain": [
       "(62,)"
      ]
     },
     "execution_count": 120,
     "metadata": {},
     "output_type": "execute_result"
    }
   ],
   "source": [
    "grid_search.best_estimator_._final_estimator.feature_importances_.shape"
   ]
  },
  {
   "cell_type": "code",
   "execution_count": null,
   "id": "b0c7980d",
   "metadata": {},
   "outputs": [],
   "source": []
  },
  {
   "cell_type": "code",
   "execution_count": null,
   "id": "66bac83f",
   "metadata": {},
   "outputs": [],
   "source": []
  },
  {
   "cell_type": "code",
   "execution_count": null,
   "id": "e2a51a7c",
   "metadata": {},
   "outputs": [],
   "source": []
  },
  {
   "cell_type": "markdown",
   "id": "57000f76",
   "metadata": {},
   "source": [
    "# TODO"
   ]
  },
  {
   "cell_type": "markdown",
   "id": "ef879639",
   "metadata": {},
   "source": [
    "- decide between imputing missing values and removing missing data; via tuning parameter(s)"
   ]
  },
  {
   "cell_type": "markdown",
   "id": "c744903d",
   "metadata": {},
   "source": [
    "- get feature importance for model that has various transformations\n",
    "    - https://towardsdatascience.com/how-to-get-feature-importances-from-any-sklearn-pipeline-167a19f1214\n",
    "    - https://stackoverflow.com/questions/38787612/how-to-extract-feature-importances-from-an-sklearn-pipeline"
   ]
  },
  {
   "cell_type": "markdown",
   "id": "1ca74531",
   "metadata": {},
   "source": [
    "- future importance\n",
    "    - https://www.kaggle.com/general/175075\n",
    "        - LOFO (Leave one feature out) for feature importance.\n",
    "    - https://explained.ai/rf-importance/"
   ]
  },
  {
   "cell_type": "markdown",
   "id": "247345ba",
   "metadata": {},
   "source": []
  },
  {
   "cell_type": "markdown",
   "id": "b86507c3",
   "metadata": {},
   "source": []
  },
  {
   "cell_type": "code",
   "execution_count": null,
   "id": "2f3861ff",
   "metadata": {},
   "outputs": [],
   "source": []
  },
  {
   "cell_type": "code",
   "execution_count": null,
   "id": "1a91a638",
   "metadata": {},
   "outputs": [],
   "source": []
  },
  {
   "cell_type": "code",
   "execution_count": null,
   "id": "dacce4e0",
   "metadata": {},
   "outputs": [],
   "source": []
  }
 ],
 "metadata": {
  "kernelspec": {
   "display_name": "Python 3 (ipykernel)",
   "language": "python",
   "name": "python3"
  },
  "language_info": {
   "codemirror_mode": {
    "name": "ipython",
    "version": 3
   },
   "file_extension": ".py",
   "mimetype": "text/x-python",
   "name": "python",
   "nbconvert_exporter": "python",
   "pygments_lexer": "ipython3",
   "version": "3.9.6"
  },
  "toc": {
   "base_numbering": 1,
   "nav_menu": {},
   "number_sections": false,
   "sideBar": true,
   "skip_h1_title": false,
   "title_cell": "Table of Contents",
   "title_sidebar": "Contents",
   "toc_cell": false,
   "toc_position": {
    "height": "calc(100% - 180px)",
    "left": "10px",
    "top": "150px",
    "width": "215px"
   },
   "toc_section_display": true,
   "toc_window_display": true
  }
 },
 "nbformat": 4,
 "nbformat_minor": 5
}
