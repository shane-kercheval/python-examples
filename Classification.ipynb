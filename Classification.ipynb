{
 "cells": [
  {
   "cell_type": "code",
   "execution_count": 1,
   "id": "c5f3fe51",
   "metadata": {},
   "outputs": [],
   "source": [
    "import helpsk as hlp\n",
    "import matplotlib.pyplot as plt\n",
    "import pandas as pd\n",
    "import numpy as np\n",
    "from sklearn.datasets import fetch_openml\n",
    "import seaborn as sns\n",
    "\n",
    "from sklearn.pipeline import Pipeline\n",
    "from sklearn.preprocessing import StandardScaler, MinMaxScaler, OneHotEncoder  # , LabelEncoder\n",
    "from sklearn.impute import SimpleImputer\n",
    "from sklearn.model_selection import train_test_split\n",
    "# from sklearn.base import BaseEstimator, TransformerMixin\n",
    "\n",
    "%matplotlib inline"
   ]
  },
  {
   "cell_type": "markdown",
   "id": "8ff88fe0",
   "metadata": {},
   "source": [
    "# Load Data"
   ]
  },
  {
   "cell_type": "code",
   "execution_count": 2,
   "id": "d0339a90",
   "metadata": {
    "scrolled": true
   },
   "outputs": [
    {
     "data": {
      "text/plain": "(1000, 21)"
     },
     "execution_count": 2,
     "metadata": {},
     "output_type": "execute_result"
    }
   ],
   "source": [
    "#https://www.openml.org/d/31\n",
    "credit_g = fetch_openml('credit-g', version=1)\n",
    "credit_data = credit_g['data']\n",
    "credit_data['target'] = credit_g['target']\n",
    "credit_data.shape"
   ]
  },
  {
   "cell_type": "code",
   "execution_count": 3,
   "id": "600134d0",
   "metadata": {},
   "outputs": [
    {
     "name": "stderr",
     "output_type": "stream",
     "text": [
      "/Users/shanekercheval/opt/anaconda3/envs/python-examples/lib/python3.9/site-packages/pandas/core/indexing.py:1732: SettingWithCopyWarning: \n",
      "A value is trying to be set on a copy of a slice from a DataFrame\n",
      "\n",
      "See the caveats in the documentation: https://pandas.pydata.org/pandas-docs/stable/user_guide/indexing.html#returning-a-view-versus-a-copy\n",
      "  self._setitem_single_block(indexer, value, name)\n"
     ]
    }
   ],
   "source": [
    "## Create Missing Values\n",
    "credit_data['duration'].iloc[0:46] = np.nan\n",
    "credit_data['checking_status'].iloc[25:75] = np.nan\n",
    "credit_data['credit_amount'].iloc[10:54] = 0"
   ]
  },
  {
   "cell_type": "code",
   "execution_count": 4,
   "id": "c3982e40",
   "metadata": {},
   "outputs": [
    {
     "data": {
      "text/plain": "<pandas.io.formats.style.Styler at 0x7fa173529d90>",
      "text/html": "<style type=\"text/css\">\n#T_14cfa_row0_col1, #T_14cfa_row1_col3 {\n  background-color: #EBB13E;\n}\n#T_14cfa_row0_col2 {\n  width: 10em;\n  height: 80%;\n  background: linear-gradient(90deg,#CF3721 5.0%, transparent 5.0%);\n}\n#T_14cfa_row0_col4, #T_14cfa_row1_col2, #T_14cfa_row2_col2, #T_14cfa_row2_col4, #T_14cfa_row3_col2, #T_14cfa_row3_col4, #T_14cfa_row4_col2, #T_14cfa_row4_col4, #T_14cfa_row5_col2, #T_14cfa_row5_col4, #T_14cfa_row6_col2, #T_14cfa_row6_col4 {\n  width: 10em;\n  height: 80%;\n}\n#T_14cfa_row0_col7 {\n  width: 10em;\n  height: 80%;\n  background: linear-gradient(90deg,#B4B7B9 57.0%, transparent 57.0%);\n}\n#T_14cfa_row0_col8 {\n  width: 10em;\n  height: 80%;\n  background: linear-gradient(90deg, transparent 50.0%, #B4B7B9 50.0%, #B4B7B9 77.5%, transparent 77.5%);\n}\n#T_14cfa_row1_col4 {\n  width: 10em;\n  height: 80%;\n  background: linear-gradient(90deg,#B4B7B9 4.0%, transparent 4.0%);\n}\n#T_14cfa_row1_col7 {\n  width: 10em;\n  height: 80%;\n  background: linear-gradient(90deg,#B4B7B9 91.0%, transparent 91.0%);\n}\n#T_14cfa_row1_col8 {\n  width: 10em;\n  height: 80%;\n  background: linear-gradient(90deg, transparent 50.0%, #B4B7B9 50.0%, #B4B7B9 98.0%, transparent 98.0%);\n}\n#T_14cfa_row2_col7 {\n  width: 10em;\n  height: 80%;\n  background: linear-gradient(90deg,#B4B7B9 38.0%, transparent 38.0%);\n}\n#T_14cfa_row2_col8 {\n  width: 10em;\n  height: 80%;\n  background: linear-gradient(90deg, transparent 36.7%, #B4B7B9 36.7%, #B4B7B9 50.0%, transparent 50.0%);\n}\n#T_14cfa_row3_col7 {\n  width: 10em;\n  height: 80%;\n  background: linear-gradient(90deg,#B4B7B9 39.0%, transparent 39.0%);\n}\n#T_14cfa_row3_col8 {\n  width: 10em;\n  height: 80%;\n  background: linear-gradient(90deg, transparent 43.2%, #B4B7B9 43.2%, #B4B7B9 50.0%, transparent 50.0%);\n}\n#T_14cfa_row4_col7 {\n  width: 10em;\n  height: 80%;\n  background: linear-gradient(90deg,#B4B7B9 32.0%, transparent 32.0%);\n}\n#T_14cfa_row4_col8 {\n  width: 10em;\n  height: 80%;\n  background: linear-gradient(90deg, transparent 50.0%, #B4B7B9 50.0%, #B4B7B9 75.5%, transparent 75.5%);\n}\n#T_14cfa_row5_col7 {\n  width: 10em;\n  height: 80%;\n  background: linear-gradient(90deg,#B4B7B9 41.0%, transparent 41.0%);\n}\n#T_14cfa_row5_col8 {\n  width: 10em;\n  height: 80%;\n  background: linear-gradient(90deg, transparent 50.0%, #B4B7B9 50.0%, #B4B7B9 81.7%, transparent 81.7%);\n}\n#T_14cfa_row6_col7 {\n  width: 10em;\n  height: 80%;\n  background: linear-gradient(90deg,#B4B7B9 31.0%, transparent 31.0%);\n}\n#T_14cfa_row6_col8 {\n  width: 10em;\n  height: 80%;\n  background: linear-gradient(90deg, transparent 50.0%, #B4B7B9 50.0%, #B4B7B9 97.7%, transparent 97.7%);\n}\n</style>\n<table id=\"T_14cfa_\">\n  <thead>\n    <tr>\n      <th class=\"blank level0\" >&nbsp;</th>\n      <th class=\"col_heading level0 col0\" ># of Non-Nulls</th>\n      <th class=\"col_heading level0 col1\" ># of Nulls</th>\n      <th class=\"col_heading level0 col2\" >% Nulls</th>\n      <th class=\"col_heading level0 col3\" ># of Zeros</th>\n      <th class=\"col_heading level0 col4\" >% Zeros</th>\n      <th class=\"col_heading level0 col5\" >Mean</th>\n      <th class=\"col_heading level0 col6\" >St Dev.</th>\n      <th class=\"col_heading level0 col7\" >Coef of Var</th>\n      <th class=\"col_heading level0 col8\" >Skewness</th>\n      <th class=\"col_heading level0 col9\" >Kurtosis</th>\n      <th class=\"col_heading level0 col10\" >Min</th>\n      <th class=\"col_heading level0 col11\" >10%</th>\n      <th class=\"col_heading level0 col12\" >25%</th>\n      <th class=\"col_heading level0 col13\" >50%</th>\n      <th class=\"col_heading level0 col14\" >75%</th>\n      <th class=\"col_heading level0 col15\" >90%</th>\n      <th class=\"col_heading level0 col16\" >Max</th>\n    </tr>\n  </thead>\n  <tbody>\n    <tr>\n      <th id=\"T_14cfa_level0_row0\" class=\"row_heading level0 row0\" >duration</th>\n      <td id=\"T_14cfa_row0_col0\" class=\"data row0 col0\" >954</td>\n      <td id=\"T_14cfa_row0_col1\" class=\"data row0 col1\" >46</td>\n      <td id=\"T_14cfa_row0_col2\" class=\"data row0 col2\" >5.0%</td>\n      <td id=\"T_14cfa_row0_col3\" class=\"data row0 col3\" >0</td>\n      <td id=\"T_14cfa_row0_col4\" class=\"data row0 col4\" >0.0%</td>\n      <td id=\"T_14cfa_row0_col5\" class=\"data row0 col5\" >20.9</td>\n      <td id=\"T_14cfa_row0_col6\" class=\"data row0 col6\" >12.0</td>\n      <td id=\"T_14cfa_row0_col7\" class=\"data row0 col7\" >0.6</td>\n      <td id=\"T_14cfa_row0_col8\" class=\"data row0 col8\" >1.1</td>\n      <td id=\"T_14cfa_row0_col9\" class=\"data row0 col9\" >1.0</td>\n      <td id=\"T_14cfa_row0_col10\" class=\"data row0 col10\" >4.0</td>\n      <td id=\"T_14cfa_row0_col11\" class=\"data row0 col11\" >9.0</td>\n      <td id=\"T_14cfa_row0_col12\" class=\"data row0 col12\" >12.0</td>\n      <td id=\"T_14cfa_row0_col13\" class=\"data row0 col13\" >18.0</td>\n      <td id=\"T_14cfa_row0_col14\" class=\"data row0 col14\" >24.0</td>\n      <td id=\"T_14cfa_row0_col15\" class=\"data row0 col15\" >36.0</td>\n      <td id=\"T_14cfa_row0_col16\" class=\"data row0 col16\" >72.0</td>\n    </tr>\n    <tr>\n      <th id=\"T_14cfa_level0_row1\" class=\"row_heading level0 row1\" >credit_amount</th>\n      <td id=\"T_14cfa_row1_col0\" class=\"data row1 col0\" >1,000</td>\n      <td id=\"T_14cfa_row1_col1\" class=\"data row1 col1\" >0</td>\n      <td id=\"T_14cfa_row1_col2\" class=\"data row1 col2\" >0.0%</td>\n      <td id=\"T_14cfa_row1_col3\" class=\"data row1 col3\" >44</td>\n      <td id=\"T_14cfa_row1_col4\" class=\"data row1 col4\" >4.0%</td>\n      <td id=\"T_14cfa_row1_col5\" class=\"data row1 col5\" >3,132.9</td>\n      <td id=\"T_14cfa_row1_col6\" class=\"data row1 col6\" >2,853.4</td>\n      <td id=\"T_14cfa_row1_col7\" class=\"data row1 col7\" >0.9</td>\n      <td id=\"T_14cfa_row1_col8\" class=\"data row1 col8\" >1.9</td>\n      <td id=\"T_14cfa_row1_col9\" class=\"data row1 col9\" >4.3</td>\n      <td id=\"T_14cfa_row1_col10\" class=\"data row1 col10\" >0.0</td>\n      <td id=\"T_14cfa_row1_col11\" class=\"data row1 col11\" >740.0</td>\n      <td id=\"T_14cfa_row1_col12\" class=\"data row1 col12\" >1,287.8</td>\n      <td id=\"T_14cfa_row1_col13\" class=\"data row1 col13\" >2,224.0</td>\n      <td id=\"T_14cfa_row1_col14\" class=\"data row1 col14\" >3,873.5</td>\n      <td id=\"T_14cfa_row1_col15\" class=\"data row1 col15\" >7,119.8</td>\n      <td id=\"T_14cfa_row1_col16\" class=\"data row1 col16\" >18,424.0</td>\n    </tr>\n    <tr>\n      <th id=\"T_14cfa_level0_row2\" class=\"row_heading level0 row2\" >installment_commitment</th>\n      <td id=\"T_14cfa_row2_col0\" class=\"data row2 col0\" >1,000</td>\n      <td id=\"T_14cfa_row2_col1\" class=\"data row2 col1\" >0</td>\n      <td id=\"T_14cfa_row2_col2\" class=\"data row2 col2\" >0.0%</td>\n      <td id=\"T_14cfa_row2_col3\" class=\"data row2 col3\" >0</td>\n      <td id=\"T_14cfa_row2_col4\" class=\"data row2 col4\" >0.0%</td>\n      <td id=\"T_14cfa_row2_col5\" class=\"data row2 col5\" >3.0</td>\n      <td id=\"T_14cfa_row2_col6\" class=\"data row2 col6\" >1.1</td>\n      <td id=\"T_14cfa_row2_col7\" class=\"data row2 col7\" >0.4</td>\n      <td id=\"T_14cfa_row2_col8\" class=\"data row2 col8\" >-0.5</td>\n      <td id=\"T_14cfa_row2_col9\" class=\"data row2 col9\" >-1.2</td>\n      <td id=\"T_14cfa_row2_col10\" class=\"data row2 col10\" >1.0</td>\n      <td id=\"T_14cfa_row2_col11\" class=\"data row2 col11\" >1.0</td>\n      <td id=\"T_14cfa_row2_col12\" class=\"data row2 col12\" >2.0</td>\n      <td id=\"T_14cfa_row2_col13\" class=\"data row2 col13\" >3.0</td>\n      <td id=\"T_14cfa_row2_col14\" class=\"data row2 col14\" >4.0</td>\n      <td id=\"T_14cfa_row2_col15\" class=\"data row2 col15\" >4.0</td>\n      <td id=\"T_14cfa_row2_col16\" class=\"data row2 col16\" >4.0</td>\n    </tr>\n    <tr>\n      <th id=\"T_14cfa_level0_row3\" class=\"row_heading level0 row3\" >residence_since</th>\n      <td id=\"T_14cfa_row3_col0\" class=\"data row3 col0\" >1,000</td>\n      <td id=\"T_14cfa_row3_col1\" class=\"data row3 col1\" >0</td>\n      <td id=\"T_14cfa_row3_col2\" class=\"data row3 col2\" >0.0%</td>\n      <td id=\"T_14cfa_row3_col3\" class=\"data row3 col3\" >0</td>\n      <td id=\"T_14cfa_row3_col4\" class=\"data row3 col4\" >0.0%</td>\n      <td id=\"T_14cfa_row3_col5\" class=\"data row3 col5\" >2.9</td>\n      <td id=\"T_14cfa_row3_col6\" class=\"data row3 col6\" >1.1</td>\n      <td id=\"T_14cfa_row3_col7\" class=\"data row3 col7\" >0.4</td>\n      <td id=\"T_14cfa_row3_col8\" class=\"data row3 col8\" >-0.3</td>\n      <td id=\"T_14cfa_row3_col9\" class=\"data row3 col9\" >-1.4</td>\n      <td id=\"T_14cfa_row3_col10\" class=\"data row3 col10\" >1.0</td>\n      <td id=\"T_14cfa_row3_col11\" class=\"data row3 col11\" >1.0</td>\n      <td id=\"T_14cfa_row3_col12\" class=\"data row3 col12\" >2.0</td>\n      <td id=\"T_14cfa_row3_col13\" class=\"data row3 col13\" >3.0</td>\n      <td id=\"T_14cfa_row3_col14\" class=\"data row3 col14\" >4.0</td>\n      <td id=\"T_14cfa_row3_col15\" class=\"data row3 col15\" >4.0</td>\n      <td id=\"T_14cfa_row3_col16\" class=\"data row3 col16\" >4.0</td>\n    </tr>\n    <tr>\n      <th id=\"T_14cfa_level0_row4\" class=\"row_heading level0 row4\" >age</th>\n      <td id=\"T_14cfa_row4_col0\" class=\"data row4 col0\" >1,000</td>\n      <td id=\"T_14cfa_row4_col1\" class=\"data row4 col1\" >0</td>\n      <td id=\"T_14cfa_row4_col2\" class=\"data row4 col2\" >0.0%</td>\n      <td id=\"T_14cfa_row4_col3\" class=\"data row4 col3\" >0</td>\n      <td id=\"T_14cfa_row4_col4\" class=\"data row4 col4\" >0.0%</td>\n      <td id=\"T_14cfa_row4_col5\" class=\"data row4 col5\" >35.5</td>\n      <td id=\"T_14cfa_row4_col6\" class=\"data row4 col6\" >11.4</td>\n      <td id=\"T_14cfa_row4_col7\" class=\"data row4 col7\" >0.3</td>\n      <td id=\"T_14cfa_row4_col8\" class=\"data row4 col8\" >1.0</td>\n      <td id=\"T_14cfa_row4_col9\" class=\"data row4 col9\" >0.6</td>\n      <td id=\"T_14cfa_row4_col10\" class=\"data row4 col10\" >19.0</td>\n      <td id=\"T_14cfa_row4_col11\" class=\"data row4 col11\" >23.0</td>\n      <td id=\"T_14cfa_row4_col12\" class=\"data row4 col12\" >27.0</td>\n      <td id=\"T_14cfa_row4_col13\" class=\"data row4 col13\" >33.0</td>\n      <td id=\"T_14cfa_row4_col14\" class=\"data row4 col14\" >42.0</td>\n      <td id=\"T_14cfa_row4_col15\" class=\"data row4 col15\" >52.0</td>\n      <td id=\"T_14cfa_row4_col16\" class=\"data row4 col16\" >75.0</td>\n    </tr>\n    <tr>\n      <th id=\"T_14cfa_level0_row5\" class=\"row_heading level0 row5\" >existing_credits</th>\n      <td id=\"T_14cfa_row5_col0\" class=\"data row5 col0\" >1,000</td>\n      <td id=\"T_14cfa_row5_col1\" class=\"data row5 col1\" >0</td>\n      <td id=\"T_14cfa_row5_col2\" class=\"data row5 col2\" >0.0%</td>\n      <td id=\"T_14cfa_row5_col3\" class=\"data row5 col3\" >0</td>\n      <td id=\"T_14cfa_row5_col4\" class=\"data row5 col4\" >0.0%</td>\n      <td id=\"T_14cfa_row5_col5\" class=\"data row5 col5\" >1.4</td>\n      <td id=\"T_14cfa_row5_col6\" class=\"data row5 col6\" >0.6</td>\n      <td id=\"T_14cfa_row5_col7\" class=\"data row5 col7\" >0.4</td>\n      <td id=\"T_14cfa_row5_col8\" class=\"data row5 col8\" >1.3</td>\n      <td id=\"T_14cfa_row5_col9\" class=\"data row5 col9\" >1.6</td>\n      <td id=\"T_14cfa_row5_col10\" class=\"data row5 col10\" >1.0</td>\n      <td id=\"T_14cfa_row5_col11\" class=\"data row5 col11\" >1.0</td>\n      <td id=\"T_14cfa_row5_col12\" class=\"data row5 col12\" >1.0</td>\n      <td id=\"T_14cfa_row5_col13\" class=\"data row5 col13\" >1.0</td>\n      <td id=\"T_14cfa_row5_col14\" class=\"data row5 col14\" >2.0</td>\n      <td id=\"T_14cfa_row5_col15\" class=\"data row5 col15\" >2.0</td>\n      <td id=\"T_14cfa_row5_col16\" class=\"data row5 col16\" >4.0</td>\n    </tr>\n    <tr>\n      <th id=\"T_14cfa_level0_row6\" class=\"row_heading level0 row6\" >num_dependents</th>\n      <td id=\"T_14cfa_row6_col0\" class=\"data row6 col0\" >1,000</td>\n      <td id=\"T_14cfa_row6_col1\" class=\"data row6 col1\" >0</td>\n      <td id=\"T_14cfa_row6_col2\" class=\"data row6 col2\" >0.0%</td>\n      <td id=\"T_14cfa_row6_col3\" class=\"data row6 col3\" >0</td>\n      <td id=\"T_14cfa_row6_col4\" class=\"data row6 col4\" >0.0%</td>\n      <td id=\"T_14cfa_row6_col5\" class=\"data row6 col5\" >1.2</td>\n      <td id=\"T_14cfa_row6_col6\" class=\"data row6 col6\" >0.4</td>\n      <td id=\"T_14cfa_row6_col7\" class=\"data row6 col7\" >0.3</td>\n      <td id=\"T_14cfa_row6_col8\" class=\"data row6 col8\" >1.9</td>\n      <td id=\"T_14cfa_row6_col9\" class=\"data row6 col9\" >1.6</td>\n      <td id=\"T_14cfa_row6_col10\" class=\"data row6 col10\" >1.0</td>\n      <td id=\"T_14cfa_row6_col11\" class=\"data row6 col11\" >1.0</td>\n      <td id=\"T_14cfa_row6_col12\" class=\"data row6 col12\" >1.0</td>\n      <td id=\"T_14cfa_row6_col13\" class=\"data row6 col13\" >1.0</td>\n      <td id=\"T_14cfa_row6_col14\" class=\"data row6 col14\" >1.0</td>\n      <td id=\"T_14cfa_row6_col15\" class=\"data row6 col15\" >2.0</td>\n      <td id=\"T_14cfa_row6_col16\" class=\"data row6 col16\" >2.0</td>\n    </tr>\n  </tbody>\n</table>\n"
     },
     "execution_count": 4,
     "metadata": {},
     "output_type": "execute_result"
    }
   ],
   "source": [
    "hlp.pandas.numeric_summary(credit_data, return_style=True)"
   ]
  },
  {
   "cell_type": "code",
   "execution_count": 6,
   "id": "9bead38f",
   "metadata": {},
   "outputs": [
    {
     "data": {
      "text/plain": "<pandas.io.formats.style.Styler at 0x7fa173ddc7c0>",
      "text/html": "<style type=\"text/css\">\n#T_f2aac_row0_col1 {\n  background-color: #EBB13E;\n}\n#T_f2aac_row0_col2 {\n  width: 10em;\n  height: 80%;\n  background: linear-gradient(90deg,#CF3721 5.0%, transparent 5.0%);\n}\n#T_f2aac_row0_col5, #T_f2aac_row5_col5, #T_f2aac_row7_col5, #T_f2aac_row10_col5 {\n  width: 10em;\n  height: 80%;\n  background: linear-gradient(90deg,#B4B7B9 0.4%, transparent 0.4%);\n}\n#T_f2aac_row1_col2, #T_f2aac_row2_col2, #T_f2aac_row3_col2, #T_f2aac_row4_col2, #T_f2aac_row5_col2, #T_f2aac_row6_col2, #T_f2aac_row7_col2, #T_f2aac_row8_col2, #T_f2aac_row9_col2, #T_f2aac_row10_col2, #T_f2aac_row11_col2, #T_f2aac_row12_col2, #T_f2aac_row13_col2 {\n  width: 10em;\n  height: 80%;\n}\n#T_f2aac_row1_col5, #T_f2aac_row3_col5, #T_f2aac_row4_col5 {\n  width: 10em;\n  height: 80%;\n  background: linear-gradient(90deg,#B4B7B9 0.5%, transparent 0.5%);\n}\n#T_f2aac_row2_col5 {\n  width: 10em;\n  height: 80%;\n  background: linear-gradient(90deg,#B4B7B9 1.0%, transparent 1.0%);\n}\n#T_f2aac_row6_col5, #T_f2aac_row8_col5, #T_f2aac_row9_col5 {\n  width: 10em;\n  height: 80%;\n  background: linear-gradient(90deg,#B4B7B9 0.3%, transparent 0.3%);\n}\n#T_f2aac_row11_col5, #T_f2aac_row12_col5, #T_f2aac_row13_col5 {\n  width: 10em;\n  height: 80%;\n  background: linear-gradient(90deg,#B4B7B9 0.2%, transparent 0.2%);\n}\n</style>\n<table id=\"T_f2aac_\">\n  <thead>\n    <tr>\n      <th class=\"blank level0\" >&nbsp;</th>\n      <th class=\"col_heading level0 col0\" ># of Non-Nulls</th>\n      <th class=\"col_heading level0 col1\" ># of Nulls</th>\n      <th class=\"col_heading level0 col2\" >% Nulls</th>\n      <th class=\"col_heading level0 col3\" >Most Freq. Value</th>\n      <th class=\"col_heading level0 col4\" ># of Unique</th>\n      <th class=\"col_heading level0 col5\" >% Unique</th>\n    </tr>\n  </thead>\n  <tbody>\n    <tr>\n      <th id=\"T_f2aac_level0_row0\" class=\"row_heading level0 row0\" >checking_status</th>\n      <td id=\"T_f2aac_row0_col0\" class=\"data row0 col0\" >950</td>\n      <td id=\"T_f2aac_row0_col1\" class=\"data row0 col1\" >50</td>\n      <td id=\"T_f2aac_row0_col2\" class=\"data row0 col2\" >5.0%</td>\n      <td id=\"T_f2aac_row0_col3\" class=\"data row0 col3\" >no checking</td>\n      <td id=\"T_f2aac_row0_col4\" class=\"data row0 col4\" >4</td>\n      <td id=\"T_f2aac_row0_col5\" class=\"data row0 col5\" >0.4%</td>\n    </tr>\n    <tr>\n      <th id=\"T_f2aac_level0_row1\" class=\"row_heading level0 row1\" >credit_history</th>\n      <td id=\"T_f2aac_row1_col0\" class=\"data row1 col0\" >1,000</td>\n      <td id=\"T_f2aac_row1_col1\" class=\"data row1 col1\" >0</td>\n      <td id=\"T_f2aac_row1_col2\" class=\"data row1 col2\" >0.0%</td>\n      <td id=\"T_f2aac_row1_col3\" class=\"data row1 col3\" >existing paid</td>\n      <td id=\"T_f2aac_row1_col4\" class=\"data row1 col4\" >5</td>\n      <td id=\"T_f2aac_row1_col5\" class=\"data row1 col5\" >0.5%</td>\n    </tr>\n    <tr>\n      <th id=\"T_f2aac_level0_row2\" class=\"row_heading level0 row2\" >purpose</th>\n      <td id=\"T_f2aac_row2_col0\" class=\"data row2 col0\" >1,000</td>\n      <td id=\"T_f2aac_row2_col1\" class=\"data row2 col1\" >0</td>\n      <td id=\"T_f2aac_row2_col2\" class=\"data row2 col2\" >0.0%</td>\n      <td id=\"T_f2aac_row2_col3\" class=\"data row2 col3\" >radio/tv</td>\n      <td id=\"T_f2aac_row2_col4\" class=\"data row2 col4\" >10</td>\n      <td id=\"T_f2aac_row2_col5\" class=\"data row2 col5\" >1.0%</td>\n    </tr>\n    <tr>\n      <th id=\"T_f2aac_level0_row3\" class=\"row_heading level0 row3\" >savings_status</th>\n      <td id=\"T_f2aac_row3_col0\" class=\"data row3 col0\" >1,000</td>\n      <td id=\"T_f2aac_row3_col1\" class=\"data row3 col1\" >0</td>\n      <td id=\"T_f2aac_row3_col2\" class=\"data row3 col2\" >0.0%</td>\n      <td id=\"T_f2aac_row3_col3\" class=\"data row3 col3\" >&lt;100</td>\n      <td id=\"T_f2aac_row3_col4\" class=\"data row3 col4\" >5</td>\n      <td id=\"T_f2aac_row3_col5\" class=\"data row3 col5\" >0.5%</td>\n    </tr>\n    <tr>\n      <th id=\"T_f2aac_level0_row4\" class=\"row_heading level0 row4\" >employment</th>\n      <td id=\"T_f2aac_row4_col0\" class=\"data row4 col0\" >1,000</td>\n      <td id=\"T_f2aac_row4_col1\" class=\"data row4 col1\" >0</td>\n      <td id=\"T_f2aac_row4_col2\" class=\"data row4 col2\" >0.0%</td>\n      <td id=\"T_f2aac_row4_col3\" class=\"data row4 col3\" >1&lt;=X&lt;4</td>\n      <td id=\"T_f2aac_row4_col4\" class=\"data row4 col4\" >5</td>\n      <td id=\"T_f2aac_row4_col5\" class=\"data row4 col5\" >0.5%</td>\n    </tr>\n    <tr>\n      <th id=\"T_f2aac_level0_row5\" class=\"row_heading level0 row5\" >personal_status</th>\n      <td id=\"T_f2aac_row5_col0\" class=\"data row5 col0\" >1,000</td>\n      <td id=\"T_f2aac_row5_col1\" class=\"data row5 col1\" >0</td>\n      <td id=\"T_f2aac_row5_col2\" class=\"data row5 col2\" >0.0%</td>\n      <td id=\"T_f2aac_row5_col3\" class=\"data row5 col3\" >male single</td>\n      <td id=\"T_f2aac_row5_col4\" class=\"data row5 col4\" >4</td>\n      <td id=\"T_f2aac_row5_col5\" class=\"data row5 col5\" >0.4%</td>\n    </tr>\n    <tr>\n      <th id=\"T_f2aac_level0_row6\" class=\"row_heading level0 row6\" >other_parties</th>\n      <td id=\"T_f2aac_row6_col0\" class=\"data row6 col0\" >1,000</td>\n      <td id=\"T_f2aac_row6_col1\" class=\"data row6 col1\" >0</td>\n      <td id=\"T_f2aac_row6_col2\" class=\"data row6 col2\" >0.0%</td>\n      <td id=\"T_f2aac_row6_col3\" class=\"data row6 col3\" >none</td>\n      <td id=\"T_f2aac_row6_col4\" class=\"data row6 col4\" >3</td>\n      <td id=\"T_f2aac_row6_col5\" class=\"data row6 col5\" >0.3%</td>\n    </tr>\n    <tr>\n      <th id=\"T_f2aac_level0_row7\" class=\"row_heading level0 row7\" >property_magnitude</th>\n      <td id=\"T_f2aac_row7_col0\" class=\"data row7 col0\" >1,000</td>\n      <td id=\"T_f2aac_row7_col1\" class=\"data row7 col1\" >0</td>\n      <td id=\"T_f2aac_row7_col2\" class=\"data row7 col2\" >0.0%</td>\n      <td id=\"T_f2aac_row7_col3\" class=\"data row7 col3\" >car</td>\n      <td id=\"T_f2aac_row7_col4\" class=\"data row7 col4\" >4</td>\n      <td id=\"T_f2aac_row7_col5\" class=\"data row7 col5\" >0.4%</td>\n    </tr>\n    <tr>\n      <th id=\"T_f2aac_level0_row8\" class=\"row_heading level0 row8\" >other_payment_plans</th>\n      <td id=\"T_f2aac_row8_col0\" class=\"data row8 col0\" >1,000</td>\n      <td id=\"T_f2aac_row8_col1\" class=\"data row8 col1\" >0</td>\n      <td id=\"T_f2aac_row8_col2\" class=\"data row8 col2\" >0.0%</td>\n      <td id=\"T_f2aac_row8_col3\" class=\"data row8 col3\" >none</td>\n      <td id=\"T_f2aac_row8_col4\" class=\"data row8 col4\" >3</td>\n      <td id=\"T_f2aac_row8_col5\" class=\"data row8 col5\" >0.3%</td>\n    </tr>\n    <tr>\n      <th id=\"T_f2aac_level0_row9\" class=\"row_heading level0 row9\" >housing</th>\n      <td id=\"T_f2aac_row9_col0\" class=\"data row9 col0\" >1,000</td>\n      <td id=\"T_f2aac_row9_col1\" class=\"data row9 col1\" >0</td>\n      <td id=\"T_f2aac_row9_col2\" class=\"data row9 col2\" >0.0%</td>\n      <td id=\"T_f2aac_row9_col3\" class=\"data row9 col3\" >own</td>\n      <td id=\"T_f2aac_row9_col4\" class=\"data row9 col4\" >3</td>\n      <td id=\"T_f2aac_row9_col5\" class=\"data row9 col5\" >0.3%</td>\n    </tr>\n    <tr>\n      <th id=\"T_f2aac_level0_row10\" class=\"row_heading level0 row10\" >job</th>\n      <td id=\"T_f2aac_row10_col0\" class=\"data row10 col0\" >1,000</td>\n      <td id=\"T_f2aac_row10_col1\" class=\"data row10 col1\" >0</td>\n      <td id=\"T_f2aac_row10_col2\" class=\"data row10 col2\" >0.0%</td>\n      <td id=\"T_f2aac_row10_col3\" class=\"data row10 col3\" >skilled</td>\n      <td id=\"T_f2aac_row10_col4\" class=\"data row10 col4\" >4</td>\n      <td id=\"T_f2aac_row10_col5\" class=\"data row10 col5\" >0.4%</td>\n    </tr>\n    <tr>\n      <th id=\"T_f2aac_level0_row11\" class=\"row_heading level0 row11\" >own_telephone</th>\n      <td id=\"T_f2aac_row11_col0\" class=\"data row11 col0\" >1,000</td>\n      <td id=\"T_f2aac_row11_col1\" class=\"data row11 col1\" >0</td>\n      <td id=\"T_f2aac_row11_col2\" class=\"data row11 col2\" >0.0%</td>\n      <td id=\"T_f2aac_row11_col3\" class=\"data row11 col3\" >none</td>\n      <td id=\"T_f2aac_row11_col4\" class=\"data row11 col4\" >2</td>\n      <td id=\"T_f2aac_row11_col5\" class=\"data row11 col5\" >0.2%</td>\n    </tr>\n    <tr>\n      <th id=\"T_f2aac_level0_row12\" class=\"row_heading level0 row12\" >foreign_worker</th>\n      <td id=\"T_f2aac_row12_col0\" class=\"data row12 col0\" >1,000</td>\n      <td id=\"T_f2aac_row12_col1\" class=\"data row12 col1\" >0</td>\n      <td id=\"T_f2aac_row12_col2\" class=\"data row12 col2\" >0.0%</td>\n      <td id=\"T_f2aac_row12_col3\" class=\"data row12 col3\" >yes</td>\n      <td id=\"T_f2aac_row12_col4\" class=\"data row12 col4\" >2</td>\n      <td id=\"T_f2aac_row12_col5\" class=\"data row12 col5\" >0.2%</td>\n    </tr>\n    <tr>\n      <th id=\"T_f2aac_level0_row13\" class=\"row_heading level0 row13\" >target</th>\n      <td id=\"T_f2aac_row13_col0\" class=\"data row13 col0\" >1,000</td>\n      <td id=\"T_f2aac_row13_col1\" class=\"data row13 col1\" >0</td>\n      <td id=\"T_f2aac_row13_col2\" class=\"data row13 col2\" >0.0%</td>\n      <td id=\"T_f2aac_row13_col3\" class=\"data row13 col3\" >good</td>\n      <td id=\"T_f2aac_row13_col4\" class=\"data row13 col4\" >2</td>\n      <td id=\"T_f2aac_row13_col5\" class=\"data row13 col5\" >0.2%</td>\n    </tr>\n  </tbody>\n</table>\n"
     },
     "execution_count": 6,
     "metadata": {},
     "output_type": "execute_result"
    }
   ],
   "source": [
    "hlp.pandas.non_numeric_summary(credit_data, return_style=True)"
   ]
  },
  {
   "cell_type": "markdown",
   "id": "1ca1d63a",
   "metadata": {},
   "source": [
    "# Training and Test Data"
   ]
  },
  {
   "cell_type": "code",
   "execution_count": 7,
   "id": "d545a689",
   "metadata": {},
   "outputs": [],
   "source": [
    "y_full = credit_data['target']\n",
    "X_full = credit_data.drop(columns='target')"
   ]
  },
  {
   "cell_type": "code",
   "execution_count": 8,
   "id": "f880a9ff",
   "metadata": {},
   "outputs": [
    {
     "data": {
      "text/plain": "      Frequency  Percent\ngood        700      0.7\nbad         300      0.3",
      "text/html": "<div>\n<style scoped>\n    .dataframe tbody tr th:only-of-type {\n        vertical-align: middle;\n    }\n\n    .dataframe tbody tr th {\n        vertical-align: top;\n    }\n\n    .dataframe thead th {\n        text-align: right;\n    }\n</style>\n<table border=\"1\" class=\"dataframe\">\n  <thead>\n    <tr style=\"text-align: right;\">\n      <th></th>\n      <th>Frequency</th>\n      <th>Percent</th>\n    </tr>\n  </thead>\n  <tbody>\n    <tr>\n      <th>good</th>\n      <td>700</td>\n      <td>0.7</td>\n    </tr>\n    <tr>\n      <th>bad</th>\n      <td>300</td>\n      <td>0.3</td>\n    </tr>\n  </tbody>\n</table>\n</div>"
     },
     "execution_count": 8,
     "metadata": {},
     "output_type": "execute_result"
    }
   ],
   "source": [
    "hlp.pandas.value_frequency(series=y_full)"
   ]
  },
  {
   "cell_type": "code",
   "execution_count": 9,
   "id": "86f44647",
   "metadata": {},
   "outputs": [
    {
     "data": {
      "text/plain": "0    good\n1     bad\n2    good\n3    good\n4     bad\n5    good\n6    good\n7    good\n8    good\n9     bad\nName: target, dtype: category\nCategories (2, object): ['good', 'bad']"
     },
     "execution_count": 9,
     "metadata": {},
     "output_type": "execute_result"
    }
   ],
   "source": [
    "y_full[0:10]"
   ]
  },
  {
   "cell_type": "code",
   "execution_count": 10,
   "id": "137bff7c",
   "metadata": {},
   "outputs": [],
   "source": [
    "from sklearn.preprocessing import label_binarize\n",
    "y_full = label_binarize(y_full, classes=['bad', 'good']).flatten()"
   ]
  },
  {
   "cell_type": "code",
   "execution_count": 11,
   "id": "87eb76bf",
   "metadata": {},
   "outputs": [
    {
     "data": {
      "text/plain": "array([1, 0, 1, 1, 0, 1, 1, 1, 1, 0])"
     },
     "execution_count": 11,
     "metadata": {},
     "output_type": "execute_result"
    }
   ],
   "source": [
    "y_full[0:10]"
   ]
  },
  {
   "cell_type": "code",
   "execution_count": 12,
   "id": "09fee50b",
   "metadata": {},
   "outputs": [],
   "source": [
    "X_train, X_test, y_train, y_test = train_test_split(X_full, y_full, test_size=0.2, random_state=42)"
   ]
  },
  {
   "cell_type": "code",
   "execution_count": 13,
   "id": "b9287ca3",
   "metadata": {},
   "outputs": [
    {
     "name": "stdout",
     "output_type": "stream",
     "text": [
      "(800, 20)\n",
      "800\n",
      "(200, 20)\n",
      "200\n"
     ]
    }
   ],
   "source": [
    "print(X_train.shape)\n",
    "print(len(y_train))\n",
    "\n",
    "print(X_test.shape)\n",
    "print(len(y_test))"
   ]
  },
  {
   "cell_type": "code",
   "execution_count": 14,
   "id": "1662bbac",
   "metadata": {},
   "outputs": [
    {
     "data": {
      "text/plain": "(array([0, 1]), array([241, 559]))"
     },
     "execution_count": 14,
     "metadata": {},
     "output_type": "execute_result"
    }
   ],
   "source": [
    "np.unique(y_train, return_counts=True)"
   ]
  },
  {
   "cell_type": "code",
   "execution_count": 15,
   "id": "bc038e2c",
   "metadata": {},
   "outputs": [
    {
     "data": {
      "text/plain": "array([0.30125, 0.69875])"
     },
     "execution_count": 15,
     "metadata": {},
     "output_type": "execute_result"
    }
   ],
   "source": [
    "np.unique(y_train, return_counts=True)[1] / np.sum(np.unique(y_train, return_counts=True)[1])"
   ]
  },
  {
   "cell_type": "code",
   "execution_count": 16,
   "id": "8cf0b3b3",
   "metadata": {},
   "outputs": [
    {
     "data": {
      "text/plain": "array([0.295, 0.705])"
     },
     "execution_count": 16,
     "metadata": {},
     "output_type": "execute_result"
    }
   ],
   "source": [
    "np.unique(y_test, return_counts=True)[1] / np.sum(np.unique(y_test, return_counts=True)[1])"
   ]
  },
  {
   "cell_type": "markdown",
   "id": "259f5c13",
   "metadata": {},
   "source": [
    "# Transformation Pipeline"
   ]
  },
  {
   "cell_type": "code",
   "execution_count": 17,
   "id": "c9b24b17",
   "metadata": {},
   "outputs": [
    {
     "data": {
      "text/plain": "array([[0., 2.],\n       [2., 2.],\n       [9., 1.],\n       ...,\n       [9., 3.],\n       [6., 4.],\n       [6., 2.]])"
     },
     "execution_count": 17,
     "metadata": {},
     "output_type": "execute_result"
    }
   ],
   "source": [
    "from sklearn.preprocessing import OrdinalEncoder\n",
    "OrdinalEncoder().fit_transform(X_train[['purpose', 'savings_status']])"
   ]
  },
  {
   "cell_type": "code",
   "execution_count": 19,
   "id": "742c6bf1",
   "metadata": {},
   "outputs": [
    {
     "name": "stdout",
     "output_type": "stream",
     "text": [
      "['duration', 'credit_amount', 'installment_commitment', 'residence_since', 'age', 'existing_credits', 'num_dependents']\n",
      "['checking_status', 'credit_history', 'purpose', 'savings_status', 'employment', 'personal_status', 'other_parties', 'property_magnitude', 'other_payment_plans', 'housing', 'job', 'own_telephone', 'foreign_worker']\n"
     ]
    }
   ],
   "source": [
    "numeric_columns = hlp.pandas.get_numeric_columns(X_train)\n",
    "non_numeric_columns = hlp.pandas.get_non_numeric_columns(X_train)\n",
    "print(numeric_columns)\n",
    "print(non_numeric_columns)"
   ]
  },
  {
   "cell_type": "code",
   "execution_count": 22,
   "id": "740dc372",
   "metadata": {},
   "outputs": [],
   "source": [
    "numeric_pipeline = Pipeline([\n",
    "    #tune whether or not we want to impute or simply remove rows with missing values\n",
    "    ('impute_chooser', hlp.sklearn_pipeline.TransformerChooser()),\n",
    "    # this is here so that we can select between MinMax and Scaler\n",
    "    # if this pipeline is ran in a context outside of tuning, no transformation will take place\n",
    "    ('scaling_chooser', hlp.sklearn_pipeline.TransformerChooser()),\n",
    "])"
   ]
  },
  {
   "cell_type": "code",
   "execution_count": 23,
   "id": "4ed41bd2",
   "metadata": {},
   "outputs": [],
   "source": [
    "non_numeric_pipeline = Pipeline([\n",
    "    ('encoder_chooser', hlp.sklearn_pipeline.TransformerChooser()),\n",
    "])"
   ]
  },
  {
   "cell_type": "code",
   "execution_count": 24,
   "id": "8f7f94d0",
   "metadata": {},
   "outputs": [],
   "source": [
    "from sklearn.compose import ColumnTransformer\n",
    "transformations_pipeline = ColumnTransformer([\n",
    "    ('numeric_pipeline', numeric_pipeline, numeric_columns),\n",
    "    ('non_numeric_pipeline', non_numeric_pipeline, non_numeric_columns)\n",
    "])"
   ]
  },
  {
   "cell_type": "code",
   "execution_count": 25,
   "id": "6a329f44",
   "metadata": {},
   "outputs": [],
   "source": [
    "#pd.DataFrame(temp)"
   ]
  },
  {
   "cell_type": "markdown",
   "id": "c215d60a",
   "metadata": {},
   "source": [
    "# Model"
   ]
  },
  {
   "cell_type": "code",
   "execution_count": 26,
   "id": "3b3ddb87",
   "metadata": {},
   "outputs": [],
   "source": [
    "from sklearn.ensemble import RandomForestClassifier\n",
    "random_forest_model = RandomForestClassifier(random_state=42)"
   ]
  },
  {
   "cell_type": "code",
   "execution_count": 27,
   "id": "d6a81445",
   "metadata": {},
   "outputs": [],
   "source": [
    "full_pipeline = Pipeline([\n",
    "    ('preparation', transformations_pipeline),\n",
    "    ('model', random_forest_model)\n",
    "])"
   ]
  },
  {
   "cell_type": "code",
   "execution_count": 28,
   "id": "936a9d3f",
   "metadata": {
    "scrolled": true
   },
   "outputs": [
    {
     "data": {
      "text/plain": "{'preparation': ColumnTransformer(transformers=[('numeric_pipeline',\n                                  Pipeline(steps=[('impute_chooser',\n                                                   TransformerChooser()),\n                                                  ('scaling_chooser',\n                                                   TransformerChooser())]),\n                                  ['duration', 'credit_amount',\n                                   'installment_commitment', 'residence_since',\n                                   'age', 'existing_credits',\n                                   'num_dependents']),\n                                 ('non_numeric_pipeline',\n                                  Pipeline(steps=[('encoder_chooser',\n                                                   TransformerChooser())]),\n                                  ['checking_status', 'credit_history',\n                                   'purpose', 'savings_status', 'employment',\n                                   'personal_status', 'other_parties',\n                                   'property_magnitude', 'other_payment_plans',\n                                   'housing', 'job', 'own_telephone',\n                                   'foreign_worker'])]),\n 'model': RandomForestClassifier(random_state=42)}"
     },
     "execution_count": 28,
     "metadata": {},
     "output_type": "execute_result"
    }
   ],
   "source": [
    "# Show the levels of pipelines/transformers/model\n",
    "full_pipeline.named_steps"
   ]
  },
  {
   "cell_type": "markdown",
   "id": "30a844d1",
   "metadata": {},
   "source": [
    "# Grid Search"
   ]
  },
  {
   "cell_type": "code",
   "execution_count": 31,
   "id": "feb6f17b",
   "metadata": {},
   "outputs": [],
   "source": [
    "param_grad = [\n",
    "    {\n",
    "        'preparation__numeric_pipeline__impute_chooser__base_transformer': [SimpleImputer(strategy='mean')],\n",
    "        'preparation__numeric_pipeline__scaling_chooser__base_transformer': [MinMaxScaler(), StandardScaler()],\n",
    "        'preparation__non_numeric_pipeline__encoder_chooser__base_transformer': [OneHotEncoder(),\n",
    "                                                                                 hlp.sklearn_pipeline.CustomOrdinalEncoder()],\n",
    "        'model__max_features': [2, 10, 'auto'],\n",
    "        'model__n_estimators': [50, 100, 500]\n",
    "    },\n",
    "]"
   ]
  },
  {
   "cell_type": "code",
   "execution_count": 34,
   "id": "54a179db",
   "metadata": {},
   "outputs": [],
   "source": [
    "from sklearn.metrics import make_scorer, f1_score, precision_score, recall_score  # , roc_auc_score\n",
    "from sklearn.metrics import SCORERS\n",
    "\n",
    "# https://scikit-learn.org/stable/modules/generated/sklearn.metrics.make_scorer.html\n",
    "# https://stackoverflow.com/questions/60615281/different-result-roc-auc-score-and-plot-roc-curve\n",
    "scores = {\n",
    "    # https://github.com/scikit-learn/scikit-learn/blob/2beed5584/sklearn/metrics/_scorer.py#L537\n",
    "    'ROC/AUC':  SCORERS['roc_auc'],\n",
    "    'F1': make_scorer(f1_score, greater_is_better=True),\n",
    "    'Pos. Pred. Val': make_scorer(precision_score, greater_is_better=True),\n",
    "    'True Pos. Rate': make_scorer(recall_score, greater_is_better=True),\n",
    "}"
   ]
  },
  {
   "cell_type": "code",
   "execution_count": 35,
   "id": "e8414f95",
   "metadata": {},
   "outputs": [],
   "source": [
    "num_folds = 5\n",
    "num_repeats = 2"
   ]
  },
  {
   "cell_type": "code",
   "execution_count": 36,
   "id": "411e669d",
   "metadata": {
    "scrolled": true
   },
   "outputs": [
    {
     "data": {
      "text/plain": "GridSearchCV(cv=RepeatedKFold(n_repeats=2, n_splits=5, random_state=2),\n             estimator=Pipeline(steps=[('preparation',\n                                        ColumnTransformer(transformers=[('numeric_pipeline',\n                                                                         Pipeline(steps=[('impute_chooser',\n                                                                                          TransformerChooser()),\n                                                                                         ('scaling_chooser',\n                                                                                          TransformerChooser())]),\n                                                                         ['duration',\n                                                                          'credit_amount',\n                                                                          'installment_commitment',\n                                                                          'residence_since',\n                                                                          'age',\n                                                                          'existing_cr...\n                          'preparation__numeric_pipeline__impute_chooser__base_transformer': [SimpleImputer()],\n                          'preparation__numeric_pipeline__scaling_chooser__base_transformer': [MinMaxScaler(),\n                                                                                               StandardScaler()]}],\n             refit='ROC/AUC', return_train_score=True,\n             scoring={'F1': make_scorer(f1_score),\n                      'Pos. Pred. Val': make_scorer(precision_score),\n                      'ROC/AUC': make_scorer(roc_auc_score, needs_threshold=True),\n                      'True Pos. Rate': make_scorer(recall_score)})"
     },
     "execution_count": 36,
     "metadata": {},
     "output_type": "execute_result"
    }
   ],
   "source": [
    "from sklearn.model_selection import GridSearchCV\n",
    "from sklearn.model_selection import RepeatedKFold\n",
    "grid_search = GridSearchCV(full_pipeline,\n",
    "                           param_grid=param_grad,\n",
    "                           cv=RepeatedKFold(n_splits=num_folds,\n",
    "                                            n_repeats=num_repeats,\n",
    "                                            random_state=2),\n",
    "                           scoring=scores,\n",
    "                           refit='ROC/AUC',\n",
    "                           #scoring='roc_auc',\n",
    "                           return_train_score=True\n",
    "                          )\n",
    "grid_search.fit(X_train, y_train)"
   ]
  },
  {
   "cell_type": "markdown",
   "id": "e5665976",
   "metadata": {},
   "source": [
    "## Results"
   ]
  },
  {
   "cell_type": "code",
   "execution_count": 58,
   "outputs": [
    {
     "name": "stdout",
     "output_type": "stream",
     "text": [
      "0.771524602897316\n",
      "{'model__max_features': 2, 'model__n_estimators': 500, 'preparation__non_numeric_pipeline__encoder_chooser__base_transformer': OneHotEncoder(), 'preparation__numeric_pipeline__impute_chooser__base_transformer': SimpleImputer(), 'preparation__numeric_pipeline__scaling_chooser__base_transformer': MinMaxScaler()}\n"
     ]
    }
   ],
   "source": [
    "print(grid_search.best_score_)\n",
    "print(grid_search.best_params_)"
   ],
   "metadata": {
    "collapsed": false,
    "pycharm": {
     "name": "#%%\n"
    }
   }
  },
  {
   "cell_type": "code",
   "execution_count": 38,
   "id": "389fc46f",
   "metadata": {},
   "outputs": [],
   "source": [
    "grid_search_df = hlp.sklearn_eval.cv_results_to_dataframe(\n",
    "    searcher=grid_search,\n",
    "    num_folds=num_folds,\n",
    "    num_repeats=num_repeats,\n",
    "    return_style=False\n",
    ")"
   ]
  },
  {
   "cell_type": "code",
   "execution_count": 39,
   "id": "5707ddad",
   "metadata": {},
   "outputs": [],
   "source": [
    "column_new_names = {'preparation | non_numeric_pipeline | encoder_chooser | base_transformer': 'transformer | encoder',\n",
    "                    'preparation | numeric_pipeline | impute_chooser | base_transformer': 'transformer | imputer',\n",
    "                    'preparation | numeric_pipeline | scaling_chooser | base_transformer': 'transformer | scaler'}\n",
    "grid_search_df.rename(columns=column_new_names, inplace=True)"
   ]
  },
  {
   "cell_type": "code",
   "execution_count": 41,
   "id": "38f2845e",
   "metadata": {
    "scrolled": true
   },
   "outputs": [
    {
     "data": {
      "text/plain": "    ROC/AUC Mean  ROC/AUC 95CI.LO  ROC/AUC 95CI.HI  ROC/AUC Training Mean  \\\n8          0.772            0.747            0.796                    1.0   \n9          0.771            0.746            0.796                    1.0   \n10         0.770            0.745            0.796                    1.0   \n11         0.770            0.744            0.795                    1.0   \n32         0.769            0.743            0.794                    1.0   \n\n    F1 Mean  F1 95CI.LO  F1 95CI.HI  F1 Training Mean  Pos. Pred. Val Mean  \\\n8     0.841       0.826       0.857               1.0                0.749   \n9     0.842       0.826       0.857               1.0                0.749   \n10    0.836       0.824       0.849               1.0                0.757   \n11    0.837       0.824       0.849               1.0                0.758   \n32    0.836       0.824       0.848               1.0                0.770   \n\n    Pos. Pred. Val 95CI.LO  ...  Pos. Pred. Val Training Mean  \\\n8                    0.722  ...                           1.0   \n9                    0.722  ...                           1.0   \n10                   0.732  ...                           1.0   \n11                   0.734  ...                           1.0   \n32                   0.746  ...                           1.0   \n\n    True Pos. Rate Mean  True Pos. Rate 95CI.LO  True Pos. Rate 95CI.HI  \\\n8                 0.962                   0.951                   0.973   \n9                 0.964                   0.953                   0.974   \n10                0.936                   0.916                   0.957   \n11                0.935                   0.915                   0.956   \n32                0.918                   0.890                   0.946   \n\n    True Pos. Rate Training Mean  model | max_features model | n_estimators  \\\n8                            1.0                     2                  500   \n9                            1.0                     2                  500   \n10                           1.0                     2                  500   \n11                           1.0                     2                  500   \n32                           1.0                  auto                  500   \n\n     transformer | encoder transformer | imputer transformer | scaler  \n8          OneHotEncoder()       SimpleImputer()       MinMaxScaler()  \n9          OneHotEncoder()       SimpleImputer()     StandardScaler()  \n10  CustomOrdinalEncoder()       SimpleImputer()       MinMaxScaler()  \n11  CustomOrdinalEncoder()       SimpleImputer()     StandardScaler()  \n32         OneHotEncoder()       SimpleImputer()       MinMaxScaler()  \n\n[5 rows x 21 columns]",
      "text/html": "<div>\n<style scoped>\n    .dataframe tbody tr th:only-of-type {\n        vertical-align: middle;\n    }\n\n    .dataframe tbody tr th {\n        vertical-align: top;\n    }\n\n    .dataframe thead th {\n        text-align: right;\n    }\n</style>\n<table border=\"1\" class=\"dataframe\">\n  <thead>\n    <tr style=\"text-align: right;\">\n      <th></th>\n      <th>ROC/AUC Mean</th>\n      <th>ROC/AUC 95CI.LO</th>\n      <th>ROC/AUC 95CI.HI</th>\n      <th>ROC/AUC Training Mean</th>\n      <th>F1 Mean</th>\n      <th>F1 95CI.LO</th>\n      <th>F1 95CI.HI</th>\n      <th>F1 Training Mean</th>\n      <th>Pos. Pred. Val Mean</th>\n      <th>Pos. Pred. Val 95CI.LO</th>\n      <th>...</th>\n      <th>Pos. Pred. Val Training Mean</th>\n      <th>True Pos. Rate Mean</th>\n      <th>True Pos. Rate 95CI.LO</th>\n      <th>True Pos. Rate 95CI.HI</th>\n      <th>True Pos. Rate Training Mean</th>\n      <th>model | max_features</th>\n      <th>model | n_estimators</th>\n      <th>transformer | encoder</th>\n      <th>transformer | imputer</th>\n      <th>transformer | scaler</th>\n    </tr>\n  </thead>\n  <tbody>\n    <tr>\n      <th>8</th>\n      <td>0.772</td>\n      <td>0.747</td>\n      <td>0.796</td>\n      <td>1.0</td>\n      <td>0.841</td>\n      <td>0.826</td>\n      <td>0.857</td>\n      <td>1.0</td>\n      <td>0.749</td>\n      <td>0.722</td>\n      <td>...</td>\n      <td>1.0</td>\n      <td>0.962</td>\n      <td>0.951</td>\n      <td>0.973</td>\n      <td>1.0</td>\n      <td>2</td>\n      <td>500</td>\n      <td>OneHotEncoder()</td>\n      <td>SimpleImputer()</td>\n      <td>MinMaxScaler()</td>\n    </tr>\n    <tr>\n      <th>9</th>\n      <td>0.771</td>\n      <td>0.746</td>\n      <td>0.796</td>\n      <td>1.0</td>\n      <td>0.842</td>\n      <td>0.826</td>\n      <td>0.857</td>\n      <td>1.0</td>\n      <td>0.749</td>\n      <td>0.722</td>\n      <td>...</td>\n      <td>1.0</td>\n      <td>0.964</td>\n      <td>0.953</td>\n      <td>0.974</td>\n      <td>1.0</td>\n      <td>2</td>\n      <td>500</td>\n      <td>OneHotEncoder()</td>\n      <td>SimpleImputer()</td>\n      <td>StandardScaler()</td>\n    </tr>\n    <tr>\n      <th>10</th>\n      <td>0.770</td>\n      <td>0.745</td>\n      <td>0.796</td>\n      <td>1.0</td>\n      <td>0.836</td>\n      <td>0.824</td>\n      <td>0.849</td>\n      <td>1.0</td>\n      <td>0.757</td>\n      <td>0.732</td>\n      <td>...</td>\n      <td>1.0</td>\n      <td>0.936</td>\n      <td>0.916</td>\n      <td>0.957</td>\n      <td>1.0</td>\n      <td>2</td>\n      <td>500</td>\n      <td>CustomOrdinalEncoder()</td>\n      <td>SimpleImputer()</td>\n      <td>MinMaxScaler()</td>\n    </tr>\n    <tr>\n      <th>11</th>\n      <td>0.770</td>\n      <td>0.744</td>\n      <td>0.795</td>\n      <td>1.0</td>\n      <td>0.837</td>\n      <td>0.824</td>\n      <td>0.849</td>\n      <td>1.0</td>\n      <td>0.758</td>\n      <td>0.734</td>\n      <td>...</td>\n      <td>1.0</td>\n      <td>0.935</td>\n      <td>0.915</td>\n      <td>0.956</td>\n      <td>1.0</td>\n      <td>2</td>\n      <td>500</td>\n      <td>CustomOrdinalEncoder()</td>\n      <td>SimpleImputer()</td>\n      <td>StandardScaler()</td>\n    </tr>\n    <tr>\n      <th>32</th>\n      <td>0.769</td>\n      <td>0.743</td>\n      <td>0.794</td>\n      <td>1.0</td>\n      <td>0.836</td>\n      <td>0.824</td>\n      <td>0.848</td>\n      <td>1.0</td>\n      <td>0.770</td>\n      <td>0.746</td>\n      <td>...</td>\n      <td>1.0</td>\n      <td>0.918</td>\n      <td>0.890</td>\n      <td>0.946</td>\n      <td>1.0</td>\n      <td>auto</td>\n      <td>500</td>\n      <td>OneHotEncoder()</td>\n      <td>SimpleImputer()</td>\n      <td>MinMaxScaler()</td>\n    </tr>\n  </tbody>\n</table>\n<p>5 rows × 21 columns</p>\n</div>"
     },
     "execution_count": 41,
     "metadata": {},
     "output_type": "execute_result"
    }
   ],
   "source": [
    "grid_search_df.head()"
   ]
  },
  {
   "cell_type": "code",
   "execution_count": 46,
   "id": "89f2d0c0",
   "metadata": {
    "scrolled": false
   },
   "outputs": [
    {
     "data": {
      "text/plain": "<pandas.io.formats.style.Styler at 0x7fa173ebc160>",
      "text/html": "<style type=\"text/css\">\n#T_65ab6_row0_col0, #T_65ab6_row1_col4, #T_65ab6_row1_col12, #T_65ab6_row18_col8, #T_65ab6_row19_col8 {\n  width: 10em;\n  height: 80%;\n  background: linear-gradient(90deg,#1AAF54 100.0%, transparent 100.0%);\n}\n#T_65ab6_row0_col1, #T_65ab6_row9_col1 {\n  width: 10em;\n  height: 80%;\n  background: linear-gradient(90deg,transparent 96.6%, #B4B7B9 96.6%);\n}\n#T_65ab6_row0_col2, #T_65ab6_row1_col2, #T_65ab6_row2_col2, #T_65ab6_row11_col2, #T_65ab6_row12_col2 {\n  width: 10em;\n  height: 80%;\n  background: linear-gradient(90deg,#B4B7B9 94.1%, transparent 94.1%);\n}\n#T_65ab6_row0_col4 {\n  width: 10em;\n  height: 80%;\n  background: linear-gradient(90deg,#1AAF54 96.7%, transparent 96.7%);\n}\n#T_65ab6_row0_col5, #T_65ab6_row1_col5 {\n  width: 10em;\n  height: 80%;\n  background: linear-gradient(90deg,transparent 96.4%, #B4B7B9 96.4%);\n}\n#T_65ab6_row0_col6, #T_65ab6_row1_col6, #T_65ab6_row1_col14, #T_65ab6_row6_col2, #T_65ab6_row7_col10 {\n  width: 10em;\n  height: 80%;\n  background: linear-gradient(90deg,#B4B7B9 100.0%, transparent 100.0%);\n}\n#T_65ab6_row0_col8, #T_65ab6_row1_col8, #T_65ab6_row20_col10, #T_65ab6_row31_col4, #T_65ab6_row31_col6, #T_65ab6_row32_col12, #T_65ab6_row32_col14, #T_65ab6_row34_col0, #T_65ab6_row35_col0, #T_65ab6_row35_col2 {\n  width: 10em;\n  height: 80%;\n}\n#T_65ab6_row0_col9, #T_65ab6_row1_col9, #T_65ab6_row32_col5, #T_65ab6_row32_col13, #T_65ab6_row33_col1, #T_65ab6_row33_col13 {\n  width: 10em;\n  height: 80%;\n  background: linear-gradient(90deg, #B4B7B9 100.0%, transparent 100.0%, transparent 100.0%, #B4B7B9 100.0%);\n}\n#T_65ab6_row0_col10, #T_65ab6_row1_col10 {\n  width: 10em;\n  height: 80%;\n  background: linear-gradient(90deg,#B4B7B9 12.9%, transparent 12.9%);\n}\n#T_65ab6_row0_col12 {\n  width: 10em;\n  height: 80%;\n  background: linear-gradient(90deg,#1AAF54 98.1%, transparent 98.1%);\n}\n#T_65ab6_row0_col13 {\n  width: 10em;\n  height: 80%;\n  background: linear-gradient(90deg,transparent 98.2%, #B4B7B9 98.2%);\n}\n#T_65ab6_row0_col14 {\n  width: 10em;\n  height: 80%;\n  background: linear-gradient(90deg,#B4B7B9 99.0%, transparent 99.0%);\n}\n#T_65ab6_row1_col0 {\n  width: 10em;\n  height: 80%;\n  background: linear-gradient(90deg,#1AAF54 96.4%, transparent 96.4%);\n}\n#T_65ab6_row1_col1 {\n  width: 10em;\n  height: 80%;\n  background: linear-gradient(90deg,transparent 93.1%, #B4B7B9 93.1%);\n}\n#T_65ab6_row1_col13, #T_65ab6_row8_col1, #T_65ab6_row18_col9, #T_65ab6_row21_col5 {\n  width: 10em;\n  height: 80%;\n  background: linear-gradient(90deg,transparent 100.0%, #B4B7B9 100.0%);\n}\n#T_65ab6_row2_col0, #T_65ab6_row3_col0 {\n  width: 10em;\n  height: 80%;\n  background: linear-gradient(90deg,#1AAF54 92.9%, transparent 92.9%);\n}\n#T_65ab6_row2_col1 {\n  width: 10em;\n  height: 80%;\n  background: linear-gradient(90deg,transparent 89.7%, #B4B7B9 89.7%);\n}\n#T_65ab6_row2_col4, #T_65ab6_row4_col4 {\n  width: 10em;\n  height: 80%;\n  background: linear-gradient(90deg,#1AAF54 80.0%, transparent 80.0%);\n}\n#T_65ab6_row2_col5, #T_65ab6_row3_col5, #T_65ab6_row4_col5 {\n  width: 10em;\n  height: 80%;\n  background: linear-gradient(90deg,transparent 89.3%, #B4B7B9 89.3%);\n}\n#T_65ab6_row2_col6, #T_65ab6_row3_col6, #T_65ab6_row17_col6 {\n  width: 10em;\n  height: 80%;\n  background: linear-gradient(90deg,#B4B7B9 75.8%, transparent 75.8%);\n}\n#T_65ab6_row2_col8, #T_65ab6_row9_col8 {\n  width: 10em;\n  height: 80%;\n  background: linear-gradient(90deg,#1AAF54 29.6%, transparent 29.6%);\n}\n#T_65ab6_row2_col9 {\n  width: 10em;\n  height: 80%;\n  background: linear-gradient(90deg,transparent 31.2%, #B4B7B9 31.2%);\n}\n#T_65ab6_row2_col10, #T_65ab6_row3_col10, #T_65ab6_row9_col10 {\n  width: 10em;\n  height: 80%;\n  background: linear-gradient(90deg,#B4B7B9 35.5%, transparent 35.5%);\n}\n#T_65ab6_row2_col12, #T_65ab6_row8_col4, #T_65ab6_row13_col4, #T_65ab6_row25_col4, #T_65ab6_row28_col4 {\n  width: 10em;\n  height: 80%;\n  background: linear-gradient(90deg,#1AAF54 73.3%, transparent 73.3%);\n}\n#T_65ab6_row2_col13 {\n  width: 10em;\n  height: 80%;\n  background: linear-gradient(90deg,transparent 67.3%, #B4B7B9 67.3%);\n}\n#T_65ab6_row2_col14 {\n  width: 10em;\n  height: 80%;\n  background: linear-gradient(90deg,#B4B7B9 82.3%, transparent 82.3%);\n}\n#T_65ab6_row3_col1 {\n  width: 10em;\n  height: 80%;\n  background: linear-gradient(90deg,transparent 86.2%, #B4B7B9 86.2%);\n}\n#T_65ab6_row3_col2 {\n  width: 10em;\n  height: 80%;\n  background: linear-gradient(90deg,#B4B7B9 91.2%, transparent 91.2%);\n}\n#T_65ab6_row3_col4, #T_65ab6_row7_col4, #T_65ab6_row16_col4, #T_65ab6_row20_col4 {\n  width: 10em;\n  height: 80%;\n  background: linear-gradient(90deg,#1AAF54 83.3%, transparent 83.3%);\n}\n#T_65ab6_row3_col8 {\n  width: 10em;\n  height: 80%;\n  background: linear-gradient(90deg,#1AAF54 33.3%, transparent 33.3%);\n}\n#T_65ab6_row3_col9 {\n  width: 10em;\n  height: 80%;\n  background: linear-gradient(90deg,transparent 37.5%, #B4B7B9 37.5%);\n}\n#T_65ab6_row3_col12 {\n  width: 10em;\n  height: 80%;\n  background: linear-gradient(90deg,#1AAF54 72.4%, transparent 72.4%);\n}\n#T_65ab6_row3_col13 {\n  width: 10em;\n  height: 80%;\n  background: linear-gradient(90deg,transparent 66.4%, #B4B7B9 66.4%);\n}\n#T_65ab6_row3_col14 {\n  width: 10em;\n  height: 80%;\n  background: linear-gradient(90deg,#B4B7B9 81.2%, transparent 81.2%);\n}\n#T_65ab6_row4_col0 {\n  width: 10em;\n  height: 80%;\n  background: linear-gradient(90deg,#1AAF54 89.3%, transparent 89.3%);\n}\n#T_65ab6_row4_col1 {\n  width: 10em;\n  height: 80%;\n  background: linear-gradient(90deg,transparent 82.8%, #B4B7B9 82.8%);\n}\n#T_65ab6_row4_col2, #T_65ab6_row5_col2 {\n  width: 10em;\n  height: 80%;\n  background: linear-gradient(90deg,#B4B7B9 88.2%, transparent 88.2%);\n}\n#T_65ab6_row4_col6, #T_65ab6_row20_col6 {\n  width: 10em;\n  height: 80%;\n  background: linear-gradient(90deg,#B4B7B9 72.7%, transparent 72.7%);\n}\n#T_65ab6_row4_col8, #T_65ab6_row17_col8, #T_65ab6_row26_col8 {\n  width: 10em;\n  height: 80%;\n  background: linear-gradient(90deg,#1AAF54 77.8%, transparent 77.8%);\n}\n#T_65ab6_row4_col9 {\n  width: 10em;\n  height: 80%;\n  background: linear-gradient(90deg,transparent 75.0%, #B4B7B9 75.0%);\n}\n#T_65ab6_row4_col10, #T_65ab6_row5_col10, #T_65ab6_row10_col10, #T_65ab6_row35_col10 {\n  width: 10em;\n  height: 80%;\n  background: linear-gradient(90deg,#B4B7B9 74.2%, transparent 74.2%);\n}\n#T_65ab6_row4_col12 {\n  width: 10em;\n  height: 80%;\n  background: linear-gradient(90deg,#1AAF54 56.2%, transparent 56.2%);\n}\n#T_65ab6_row4_col13 {\n  width: 10em;\n  height: 80%;\n  background: linear-gradient(90deg,transparent 44.2%, #B4B7B9 44.2%);\n}\n#T_65ab6_row4_col14 {\n  width: 10em;\n  height: 80%;\n  background: linear-gradient(90deg,#B4B7B9 70.8%, transparent 70.8%);\n}\n#T_65ab6_row5_col0 {\n  width: 10em;\n  height: 80%;\n  background: linear-gradient(90deg,#1AAF54 85.7%, transparent 85.7%);\n}\n#T_65ab6_row5_col1 {\n  width: 10em;\n  height: 80%;\n  background: linear-gradient(90deg,transparent 79.3%, #B4B7B9 79.3%);\n}\n#T_65ab6_row5_col4, #T_65ab6_row10_col4, #T_65ab6_row17_col4 {\n  width: 10em;\n  height: 80%;\n  background: linear-gradient(90deg,#1AAF54 76.7%, transparent 76.7%);\n}\n#T_65ab6_row5_col5, #T_65ab6_row6_col5, #T_65ab6_row13_col5, #T_65ab6_row16_col5 {\n  width: 10em;\n  height: 80%;\n  background: linear-gradient(90deg,transparent 82.1%, #B4B7B9 82.1%);\n}\n#T_65ab6_row5_col6, #T_65ab6_row8_col6 {\n  width: 10em;\n  height: 80%;\n  background: linear-gradient(90deg,#B4B7B9 69.7%, transparent 69.7%);\n}\n#T_65ab6_row5_col8, #T_65ab6_row10_col8 {\n  width: 10em;\n  height: 80%;\n  background: linear-gradient(90deg,#1AAF54 74.1%, transparent 74.1%);\n}\n#T_65ab6_row5_col9, #T_65ab6_row10_col9, #T_65ab6_row16_col9, #T_65ab6_row31_col9 {\n  width: 10em;\n  height: 80%;\n  background: linear-gradient(90deg,transparent 68.7%, #B4B7B9 68.7%);\n}\n#T_65ab6_row5_col12, #T_65ab6_row10_col12, #T_65ab6_row16_col12 {\n  width: 10em;\n  height: 80%;\n  background: linear-gradient(90deg,#1AAF54 53.3%, transparent 53.3%);\n}\n#T_65ab6_row5_col13, #T_65ab6_row11_col13, #T_65ab6_row12_col13, #T_65ab6_row23_col13 {\n  width: 10em;\n  height: 80%;\n  background: linear-gradient(90deg,transparent 41.6%, #B4B7B9 41.6%);\n}\n#T_65ab6_row5_col14 {\n  width: 10em;\n  height: 80%;\n  background: linear-gradient(90deg,#B4B7B9 68.7%, transparent 68.7%);\n}\n#T_65ab6_row6_col0, #T_65ab6_row7_col0, #T_65ab6_row8_col0 {\n  width: 10em;\n  height: 80%;\n  background: linear-gradient(90deg,#1AAF54 82.1%, transparent 82.1%);\n}\n#T_65ab6_row6_col1 {\n  width: 10em;\n  height: 80%;\n  background: linear-gradient(90deg,transparent 58.6%, #B4B7B9 58.6%);\n}\n#T_65ab6_row6_col4, #T_65ab6_row21_col4, #T_65ab6_row21_col12 {\n  width: 10em;\n  height: 80%;\n  background: linear-gradient(90deg,#1AAF54 86.7%, transparent 86.7%);\n}\n#T_65ab6_row6_col6 {\n  width: 10em;\n  height: 80%;\n  background: linear-gradient(90deg,#B4B7B9 87.9%, transparent 87.9%);\n}\n#T_65ab6_row6_col8, #T_65ab6_row7_col8, #T_65ab6_row32_col8, #T_65ab6_row33_col8 {\n  width: 10em;\n  height: 80%;\n  background: linear-gradient(90deg,#1AAF54 96.3%, transparent 96.3%);\n}\n#T_65ab6_row6_col9 {\n  width: 10em;\n  height: 80%;\n  background: linear-gradient(90deg,transparent 81.2%, #B4B7B9 81.2%);\n}\n#T_65ab6_row6_col10 {\n  width: 10em;\n  height: 80%;\n  background: linear-gradient(90deg,#B4B7B9 96.8%, transparent 96.8%);\n}\n#T_65ab6_row6_col12, #T_65ab6_row13_col12, #T_65ab6_row17_col12 {\n  width: 10em;\n  height: 80%;\n  background: linear-gradient(90deg,#1AAF54 52.4%, transparent 52.4%);\n}\n#T_65ab6_row6_col13 {\n  width: 10em;\n  height: 80%;\n  background: linear-gradient(90deg,transparent 45.1%, #B4B7B9 45.1%);\n}\n#T_65ab6_row6_col14 {\n  width: 10em;\n  height: 80%;\n  background: linear-gradient(90deg,#B4B7B9 61.5%, transparent 61.5%);\n}\n#T_65ab6_row7_col1 {\n  width: 10em;\n  height: 80%;\n  background: linear-gradient(90deg,transparent 62.1%, #B4B7B9 62.1%);\n}\n#T_65ab6_row7_col2 {\n  width: 10em;\n  height: 80%;\n  background: linear-gradient(90deg,#B4B7B9 97.1%, transparent 97.1%);\n}\n#T_65ab6_row7_col5, #T_65ab6_row8_col5, #T_65ab6_row11_col5, #T_65ab6_row12_col5, #T_65ab6_row17_col5, #T_65ab6_row18_col5, #T_65ab6_row19_col5 {\n  width: 10em;\n  height: 80%;\n  background: linear-gradient(90deg,transparent 78.6%, #B4B7B9 78.6%);\n}\n#T_65ab6_row7_col6 {\n  width: 10em;\n  height: 80%;\n  background: linear-gradient(90deg,#B4B7B9 84.8%, transparent 84.8%);\n}\n#T_65ab6_row7_col9 {\n  width: 10em;\n  height: 80%;\n  background: linear-gradient(90deg,transparent 78.1%, #B4B7B9 78.1%);\n}\n#T_65ab6_row7_col12 {\n  width: 10em;\n  height: 80%;\n  background: linear-gradient(90deg,#1AAF54 50.5%, transparent 50.5%);\n}\n#T_65ab6_row7_col13 {\n  width: 10em;\n  height: 80%;\n  background: linear-gradient(90deg,transparent 46.0%, #B4B7B9 46.0%);\n}\n#T_65ab6_row7_col14, #T_65ab6_row13_col14, #T_65ab6_row16_col14, #T_65ab6_row22_col14 {\n  width: 10em;\n  height: 80%;\n  background: linear-gradient(90deg,#B4B7B9 56.2%, transparent 56.2%);\n}\n#T_65ab6_row8_col2 {\n  width: 10em;\n  height: 80%;\n  background: linear-gradient(90deg,#B4B7B9 61.8%, transparent 61.8%);\n}\n#T_65ab6_row8_col8, #T_65ab6_row23_col8 {\n  width: 10em;\n  height: 80%;\n  background: linear-gradient(90deg,#1AAF54 37.0%, transparent 37.0%);\n}\n#T_65ab6_row8_col9, #T_65ab6_row22_col9, #T_65ab6_row23_col9 {\n  width: 10em;\n  height: 80%;\n  background: linear-gradient(90deg,transparent 34.4%, #B4B7B9 34.4%);\n}\n#T_65ab6_row8_col10, #T_65ab6_row23_col10 {\n  width: 10em;\n  height: 80%;\n  background: linear-gradient(90deg,#B4B7B9 45.2%, transparent 45.2%);\n}\n#T_65ab6_row8_col12 {\n  width: 10em;\n  height: 80%;\n  background: linear-gradient(90deg,#1AAF54 65.7%, transparent 65.7%);\n}\n#T_65ab6_row8_col13 {\n  width: 10em;\n  height: 80%;\n  background: linear-gradient(90deg,transparent 62.8%, #B4B7B9 62.8%);\n}\n#T_65ab6_row8_col14 {\n  width: 10em;\n  height: 80%;\n  background: linear-gradient(90deg,#B4B7B9 69.8%, transparent 69.8%);\n}\n#T_65ab6_row9_col0 {\n  width: 10em;\n  height: 80%;\n  background: linear-gradient(90deg,#1AAF54 78.6%, transparent 78.6%);\n}\n#T_65ab6_row9_col2, #T_65ab6_row20_col2, #T_65ab6_row21_col2 {\n  width: 10em;\n  height: 80%;\n  background: linear-gradient(90deg,#B4B7B9 58.8%, transparent 58.8%);\n}\n#T_65ab6_row9_col4 {\n  width: 10em;\n  height: 80%;\n  background: linear-gradient(90deg,#1AAF54 60.0%, transparent 60.0%);\n}\n#T_65ab6_row9_col5 {\n  width: 10em;\n  height: 80%;\n  background: linear-gradient(90deg,transparent 64.3%, #B4B7B9 64.3%);\n}\n#T_65ab6_row9_col6 {\n  width: 10em;\n  height: 80%;\n  background: linear-gradient(90deg,#B4B7B9 57.6%, transparent 57.6%);\n}\n#T_65ab6_row9_col9 {\n  width: 10em;\n  height: 80%;\n  background: linear-gradient(90deg,transparent 28.1%, #B4B7B9 28.1%);\n}\n#T_65ab6_row9_col12 {\n  width: 10em;\n  height: 80%;\n  background: linear-gradient(90deg,#1AAF54 59.0%, transparent 59.0%);\n}\n#T_65ab6_row9_col13 {\n  width: 10em;\n  height: 80%;\n  background: linear-gradient(90deg,transparent 56.6%, #B4B7B9 56.6%);\n}\n#T_65ab6_row9_col14 {\n  width: 10em;\n  height: 80%;\n  background: linear-gradient(90deg,#B4B7B9 62.5%, transparent 62.5%);\n}\n#T_65ab6_row10_col0, #T_65ab6_row11_col0 {\n  width: 10em;\n  height: 80%;\n  background: linear-gradient(90deg,#1AAF54 75.0%, transparent 75.0%);\n}\n#T_65ab6_row10_col1, #T_65ab6_row13_col1, #T_65ab6_row17_col1, #T_65ab6_row23_col1 {\n  width: 10em;\n  height: 80%;\n  background: linear-gradient(90deg,transparent 69.0%, #B4B7B9 69.0%);\n}\n#T_65ab6_row10_col2, #T_65ab6_row13_col2 {\n  width: 10em;\n  height: 80%;\n  background: linear-gradient(90deg,#B4B7B9 76.5%, transparent 76.5%);\n}\n#T_65ab6_row10_col5 {\n  width: 10em;\n  height: 80%;\n  background: linear-gradient(90deg,transparent 85.7%, #B4B7B9 85.7%);\n}\n#T_65ab6_row10_col6, #T_65ab6_row12_col6, #T_65ab6_row13_col6 {\n  width: 10em;\n  height: 80%;\n  background: linear-gradient(90deg,#B4B7B9 66.7%, transparent 66.7%);\n}\n#T_65ab6_row10_col13 {\n  width: 10em;\n  height: 80%;\n  background: linear-gradient(90deg,transparent 48.7%, #B4B7B9 48.7%);\n}\n#T_65ab6_row10_col14 {\n  width: 10em;\n  height: 80%;\n  background: linear-gradient(90deg,#B4B7B9 59.4%, transparent 59.4%);\n}\n#T_65ab6_row11_col1 {\n  width: 10em;\n  height: 80%;\n  background: linear-gradient(90deg,transparent 51.7%, #B4B7B9 51.7%);\n}\n#T_65ab6_row11_col4, #T_65ab6_row12_col4 {\n  width: 10em;\n  height: 80%;\n  background: linear-gradient(90deg,#1AAF54 70.0%, transparent 70.0%);\n}\n#T_65ab6_row11_col6 {\n  width: 10em;\n  height: 80%;\n  background: linear-gradient(90deg,#B4B7B9 63.6%, transparent 63.6%);\n}\n#T_65ab6_row11_col8, #T_65ab6_row12_col8 {\n  width: 10em;\n  height: 80%;\n  background: linear-gradient(90deg,#1AAF54 92.6%, transparent 92.6%);\n}\n#T_65ab6_row11_col9, #T_65ab6_row12_col9, #T_65ab6_row32_col9, #T_65ab6_row33_col9, #T_65ab6_row35_col9 {\n  width: 10em;\n  height: 80%;\n  background: linear-gradient(90deg,transparent 84.4%, #B4B7B9 84.4%);\n}\n#T_65ab6_row11_col10, #T_65ab6_row17_col10, #T_65ab6_row26_col10 {\n  width: 10em;\n  height: 80%;\n  background: linear-gradient(90deg,#B4B7B9 87.1%, transparent 87.1%);\n}\n#T_65ab6_row11_col12 {\n  width: 10em;\n  height: 80%;\n  background: linear-gradient(90deg,#1AAF54 42.9%, transparent 42.9%);\n}\n#T_65ab6_row11_col14, #T_65ab6_row14_col14 {\n  width: 10em;\n  height: 80%;\n  background: linear-gradient(90deg,#B4B7B9 44.8%, transparent 44.8%);\n}\n#T_65ab6_row12_col0, #T_65ab6_row13_col0 {\n  width: 10em;\n  height: 80%;\n  background: linear-gradient(90deg,#1AAF54 71.4%, transparent 71.4%);\n}\n#T_65ab6_row12_col1 {\n  width: 10em;\n  height: 80%;\n  background: linear-gradient(90deg,transparent 48.3%, #B4B7B9 48.3%);\n}\n#T_65ab6_row12_col10, #T_65ab6_row18_col10, #T_65ab6_row19_col10, #T_65ab6_row27_col10 {\n  width: 10em;\n  height: 80%;\n  background: linear-gradient(90deg,#B4B7B9 90.3%, transparent 90.3%);\n}\n#T_65ab6_row12_col12, #T_65ab6_row14_col12, #T_65ab6_row15_col12 {\n  width: 10em;\n  height: 80%;\n  background: linear-gradient(90deg,#1AAF54 43.8%, transparent 43.8%);\n}\n#T_65ab6_row12_col14 {\n  width: 10em;\n  height: 80%;\n  background: linear-gradient(90deg,#B4B7B9 46.9%, transparent 46.9%);\n}\n#T_65ab6_row13_col8, #T_65ab6_row30_col8, #T_65ab6_row31_col8 {\n  width: 10em;\n  height: 80%;\n  background: linear-gradient(90deg,#1AAF54 70.4%, transparent 70.4%);\n}\n#T_65ab6_row13_col9, #T_65ab6_row14_col9, #T_65ab6_row15_col9, #T_65ab6_row17_col9, #T_65ab6_row27_col9 {\n  width: 10em;\n  height: 80%;\n  background: linear-gradient(90deg,transparent 65.6%, #B4B7B9 65.6%);\n}\n#T_65ab6_row13_col10 {\n  width: 10em;\n  height: 80%;\n  background: linear-gradient(90deg,#B4B7B9 71.0%, transparent 71.0%);\n}\n#T_65ab6_row13_col13 {\n  width: 10em;\n  height: 80%;\n  background: linear-gradient(90deg,transparent 49.6%, #B4B7B9 49.6%);\n}\n#T_65ab6_row14_col0, #T_65ab6_row15_col0 {\n  width: 10em;\n  height: 80%;\n  background: linear-gradient(90deg,#1AAF54 67.9%, transparent 67.9%);\n}\n#T_65ab6_row14_col1, #T_65ab6_row15_col1 {\n  width: 10em;\n  height: 80%;\n  background: linear-gradient(90deg,transparent 65.5%, #B4B7B9 65.5%);\n}\n#T_65ab6_row14_col2, #T_65ab6_row15_col2 {\n  width: 10em;\n  height: 80%;\n  background: linear-gradient(90deg,#B4B7B9 70.6%, transparent 70.6%);\n}\n#T_65ab6_row14_col4, #T_65ab6_row15_col4 {\n  width: 10em;\n  height: 80%;\n  background: linear-gradient(90deg,#1AAF54 56.7%, transparent 56.7%);\n}\n#T_65ab6_row14_col5, #T_65ab6_row15_col5, #T_65ab6_row25_col5, #T_65ab6_row28_col5 {\n  width: 10em;\n  height: 80%;\n  background: linear-gradient(90deg,transparent 67.9%, #B4B7B9 67.9%);\n}\n#T_65ab6_row14_col6, #T_65ab6_row15_col6 {\n  width: 10em;\n  height: 80%;\n  background: linear-gradient(90deg,#B4B7B9 45.5%, transparent 45.5%);\n}\n#T_65ab6_row14_col8, #T_65ab6_row15_col8 {\n  width: 10em;\n  height: 80%;\n  background: linear-gradient(90deg,#1AAF54 63.0%, transparent 63.0%);\n}\n#T_65ab6_row14_col10, #T_65ab6_row15_col10 {\n  width: 10em;\n  height: 80%;\n  background: linear-gradient(90deg,#B4B7B9 58.1%, transparent 58.1%);\n}\n#T_65ab6_row14_col13, #T_65ab6_row15_col13 {\n  width: 10em;\n  height: 80%;\n  background: linear-gradient(90deg,transparent 42.5%, #B4B7B9 42.5%);\n}\n#T_65ab6_row15_col14 {\n  width: 10em;\n  height: 80%;\n  background: linear-gradient(90deg,#B4B7B9 45.8%, transparent 45.8%);\n}\n#T_65ab6_row16_col0 {\n  width: 10em;\n  height: 80%;\n  background: linear-gradient(90deg,#1AAF54 60.7%, transparent 60.7%);\n}\n#T_65ab6_row16_col1 {\n  width: 10em;\n  height: 80%;\n  background: linear-gradient(90deg,transparent 75.9%, #B4B7B9 75.9%);\n}\n#T_65ab6_row16_col2 {\n  width: 10em;\n  height: 80%;\n  background: linear-gradient(90deg,#B4B7B9 50.0%, transparent 50.0%);\n}\n#T_65ab6_row16_col6, #T_65ab6_row28_col6 {\n  width: 10em;\n  height: 80%;\n  background: linear-gradient(90deg,#B4B7B9 81.8%, transparent 81.8%);\n}\n#T_65ab6_row16_col8 {\n  width: 10em;\n  height: 80%;\n  background: linear-gradient(90deg,#1AAF54 85.2%, transparent 85.2%);\n}\n#T_65ab6_row16_col10, #T_65ab6_row32_col10, #T_65ab6_row33_col10 {\n  width: 10em;\n  height: 80%;\n  background: linear-gradient(90deg,#B4B7B9 93.5%, transparent 93.5%);\n}\n#T_65ab6_row16_col13 {\n  width: 10em;\n  height: 80%;\n  background: linear-gradient(90deg,transparent 52.2%, #B4B7B9 52.2%);\n}\n#T_65ab6_row17_col0 {\n  width: 10em;\n  height: 80%;\n  background: linear-gradient(90deg,#1AAF54 57.1%, transparent 57.1%);\n}\n#T_65ab6_row17_col2, #T_65ab6_row25_col2, #T_65ab6_row28_col2 {\n  width: 10em;\n  height: 80%;\n  background: linear-gradient(90deg,#B4B7B9 47.1%, transparent 47.1%);\n}\n#T_65ab6_row17_col13 {\n  width: 10em;\n  height: 80%;\n  background: linear-gradient(90deg,transparent 50.4%, #B4B7B9 50.4%);\n}\n#T_65ab6_row17_col14 {\n  width: 10em;\n  height: 80%;\n  background: linear-gradient(90deg,#B4B7B9 54.2%, transparent 54.2%);\n}\n#T_65ab6_row18_col0, #T_65ab6_row19_col0 {\n  width: 10em;\n  height: 80%;\n  background: linear-gradient(90deg,#1AAF54 53.6%, transparent 53.6%);\n}\n#T_65ab6_row18_col1, #T_65ab6_row19_col1, #T_65ab6_row24_col1, #T_65ab6_row29_col1 {\n  width: 10em;\n  height: 80%;\n  background: linear-gradient(90deg,transparent 27.6%, #B4B7B9 27.6%);\n}\n#T_65ab6_row18_col2, #T_65ab6_row19_col2 {\n  width: 10em;\n  height: 80%;\n  background: linear-gradient(90deg,#B4B7B9 79.4%, transparent 79.4%);\n}\n#T_65ab6_row18_col4, #T_65ab6_row19_col4 {\n  width: 10em;\n  height: 80%;\n  background: linear-gradient(90deg,#1AAF54 66.7%, transparent 66.7%);\n}\n#T_65ab6_row18_col6, #T_65ab6_row19_col6 {\n  width: 10em;\n  height: 80%;\n  background: linear-gradient(90deg,#B4B7B9 54.5%, transparent 54.5%);\n}\n#T_65ab6_row18_col12 {\n  width: 10em;\n  height: 80%;\n  background: linear-gradient(90deg,#1AAF54 36.2%, transparent 36.2%);\n}\n#T_65ab6_row18_col13, #T_65ab6_row22_col13 {\n  width: 10em;\n  height: 80%;\n  background: linear-gradient(90deg,transparent 35.4%, #B4B7B9 35.4%);\n}\n#T_65ab6_row18_col14 {\n  width: 10em;\n  height: 80%;\n  background: linear-gradient(90deg,#B4B7B9 37.5%, transparent 37.5%);\n}\n#T_65ab6_row19_col9 {\n  width: 10em;\n  height: 80%;\n  background: linear-gradient(90deg,transparent 96.9%, #B4B7B9 96.9%);\n}\n#T_65ab6_row19_col12 {\n  width: 10em;\n  height: 80%;\n  background: linear-gradient(90deg,#1AAF54 37.1%, transparent 37.1%);\n}\n#T_65ab6_row19_col13, #T_65ab6_row24_col13 {\n  width: 10em;\n  height: 80%;\n  background: linear-gradient(90deg,transparent 36.3%, #B4B7B9 36.3%);\n}\n#T_65ab6_row19_col14 {\n  width: 10em;\n  height: 80%;\n  background: linear-gradient(90deg,#B4B7B9 38.5%, transparent 38.5%);\n}\n#T_65ab6_row20_col0, #T_65ab6_row21_col0, #T_65ab6_row23_col4 {\n  width: 10em;\n  height: 80%;\n  background: linear-gradient(90deg,#1AAF54 50.0%, transparent 50.0%);\n}\n#T_65ab6_row20_col1, #T_65ab6_row21_col1 {\n  width: 10em;\n  height: 80%;\n  background: linear-gradient(90deg,transparent 44.8%, #B4B7B9 44.8%);\n}\n#T_65ab6_row20_col5 {\n  width: 10em;\n  height: 80%;\n  background: linear-gradient(90deg,transparent 92.9%, #B4B7B9 92.9%);\n}\n#T_65ab6_row20_col8 {\n  width: 10em;\n  height: 80%;\n  background: linear-gradient(90deg,#1AAF54 3.7%, transparent 3.7%);\n}\n#T_65ab6_row20_col9, #T_65ab6_row28_col9 {\n  width: 10em;\n  height: 80%;\n  background: linear-gradient(90deg,transparent 21.9%, #B4B7B9 21.9%);\n}\n#T_65ab6_row20_col12 {\n  width: 10em;\n  height: 80%;\n  background: linear-gradient(90deg,#1AAF54 84.8%, transparent 84.8%);\n}\n#T_65ab6_row20_col13 {\n  width: 10em;\n  height: 80%;\n  background: linear-gradient(90deg,transparent 79.6%, #B4B7B9 79.6%);\n}\n#T_65ab6_row20_col14 {\n  width: 10em;\n  height: 80%;\n  background: linear-gradient(90deg,#B4B7B9 91.7%, transparent 91.7%);\n}\n#T_65ab6_row21_col6, #T_65ab6_row25_col6 {\n  width: 10em;\n  height: 80%;\n  background: linear-gradient(90deg,#B4B7B9 78.8%, transparent 78.8%);\n}\n#T_65ab6_row21_col8 {\n  width: 10em;\n  height: 80%;\n  background: linear-gradient(90deg,#1AAF54 7.4%, transparent 7.4%);\n}\n#T_65ab6_row21_col9 {\n  width: 10em;\n  height: 80%;\n  background: linear-gradient(90deg,transparent 25.0%, #B4B7B9 25.0%);\n}\n#T_65ab6_row21_col10 {\n  width: 10em;\n  height: 80%;\n  background: linear-gradient(90deg,#B4B7B9 3.2%, transparent 3.2%);\n}\n#T_65ab6_row21_col13 {\n  width: 10em;\n  height: 80%;\n  background: linear-gradient(90deg,transparent 83.2%, #B4B7B9 83.2%);\n}\n#T_65ab6_row21_col14 {\n  width: 10em;\n  height: 80%;\n  background: linear-gradient(90deg,#B4B7B9 92.7%, transparent 92.7%);\n}\n#T_65ab6_row22_col0, #T_65ab6_row23_col0 {\n  width: 10em;\n  height: 80%;\n  background: linear-gradient(90deg,#1AAF54 35.7%, transparent 35.7%);\n}\n#T_65ab6_row22_col1 {\n  width: 10em;\n  height: 80%;\n  background: linear-gradient(90deg,transparent 72.4%, #B4B7B9 72.4%);\n}\n#T_65ab6_row22_col2 {\n  width: 10em;\n  height: 80%;\n  background: linear-gradient(90deg,#B4B7B9 8.8%, transparent 8.8%);\n}\n#T_65ab6_row22_col4 {\n  width: 10em;\n  height: 80%;\n  background: linear-gradient(90deg,#1AAF54 43.3%, transparent 43.3%);\n}\n#T_65ab6_row22_col5, #T_65ab6_row23_col5 {\n  width: 10em;\n  height: 80%;\n  background: linear-gradient(90deg,transparent 50.0%, #B4B7B9 50.0%);\n}\n#T_65ab6_row22_col6 {\n  width: 10em;\n  height: 80%;\n  background: linear-gradient(90deg,#B4B7B9 42.4%, transparent 42.4%);\n}\n#T_65ab6_row22_col8 {\n  width: 10em;\n  height: 80%;\n  background: linear-gradient(90deg,#1AAF54 40.7%, transparent 40.7%);\n}\n#T_65ab6_row22_col10, #T_65ab6_row29_col10 {\n  width: 10em;\n  height: 80%;\n  background: linear-gradient(90deg,#B4B7B9 48.4%, transparent 48.4%);\n}\n#T_65ab6_row22_col12 {\n  width: 10em;\n  height: 80%;\n  background: linear-gradient(90deg,#1AAF54 44.8%, transparent 44.8%);\n}\n#T_65ab6_row23_col2 {\n  width: 10em;\n  height: 80%;\n  background: linear-gradient(90deg,#B4B7B9 11.8%, transparent 11.8%);\n}\n#T_65ab6_row23_col6 {\n  width: 10em;\n  height: 80%;\n  background: linear-gradient(90deg,#B4B7B9 48.5%, transparent 48.5%);\n}\n#T_65ab6_row23_col12 {\n  width: 10em;\n  height: 80%;\n  background: linear-gradient(90deg,#1AAF54 48.6%, transparent 48.6%);\n}\n#T_65ab6_row23_col14 {\n  width: 10em;\n  height: 80%;\n  background: linear-gradient(90deg,#B4B7B9 57.3%, transparent 57.3%);\n}\n#T_65ab6_row24_col0, #T_65ab6_row25_col0, #T_65ab6_row26_col0, #T_65ab6_row27_col0, #T_65ab6_row28_col0 {\n  width: 10em;\n  height: 80%;\n  background: linear-gradient(90deg,#1AAF54 25.0%, transparent 25.0%);\n}\n#T_65ab6_row24_col2, #T_65ab6_row29_col2 {\n  width: 10em;\n  height: 80%;\n  background: linear-gradient(90deg,#B4B7B9 29.4%, transparent 29.4%);\n}\n#T_65ab6_row24_col4, #T_65ab6_row35_col4 {\n  width: 10em;\n  height: 80%;\n  background: linear-gradient(90deg,#1AAF54 30.0%, transparent 30.0%);\n}\n#T_65ab6_row24_col5 {\n  width: 10em;\n  height: 80%;\n  background: linear-gradient(90deg,transparent 39.3%, #B4B7B9 39.3%);\n}\n#T_65ab6_row24_col6, #T_65ab6_row35_col6 {\n  width: 10em;\n  height: 80%;\n  background: linear-gradient(90deg,#B4B7B9 24.2%, transparent 24.2%);\n}\n#T_65ab6_row24_col8 {\n  width: 10em;\n  height: 80%;\n  background: linear-gradient(90deg,#1AAF54 51.9%, transparent 51.9%);\n}\n#T_65ab6_row24_col9 {\n  width: 10em;\n  height: 80%;\n  background: linear-gradient(90deg,transparent 56.2%, #B4B7B9 56.2%);\n}\n#T_65ab6_row24_col10 {\n  width: 10em;\n  height: 80%;\n  background: linear-gradient(90deg,#B4B7B9 51.6%, transparent 51.6%);\n}\n#T_65ab6_row24_col12 {\n  width: 10em;\n  height: 80%;\n  background: linear-gradient(90deg,#1AAF54 29.5%, transparent 29.5%);\n}\n#T_65ab6_row24_col14, #T_65ab6_row34_col14 {\n  width: 10em;\n  height: 80%;\n  background: linear-gradient(90deg,#B4B7B9 20.8%, transparent 20.8%);\n}\n#T_65ab6_row25_col1, #T_65ab6_row31_col1, #T_65ab6_row34_col1 {\n  width: 10em;\n  height: 80%;\n  background: linear-gradient(90deg,transparent 10.3%, #B4B7B9 10.3%);\n}\n#T_65ab6_row25_col8 {\n  width: 10em;\n  height: 80%;\n  background: linear-gradient(90deg,#1AAF54 11.1%, transparent 11.1%);\n}\n#T_65ab6_row25_col9 {\n  width: 10em;\n  height: 80%;\n  background: linear-gradient(90deg,transparent 18.7%, #B4B7B9 18.7%);\n}\n#T_65ab6_row25_col10, #T_65ab6_row28_col10 {\n  width: 10em;\n  height: 80%;\n  background: linear-gradient(90deg,#B4B7B9 16.1%, transparent 16.1%);\n}\n#T_65ab6_row25_col12, #T_65ab6_row28_col12 {\n  width: 10em;\n  height: 80%;\n  background: linear-gradient(90deg,#1AAF54 75.2%, transparent 75.2%);\n}\n#T_65ab6_row25_col13, #T_65ab6_row28_col13 {\n  width: 10em;\n  height: 80%;\n  background: linear-gradient(90deg,transparent 70.8%, #B4B7B9 70.8%);\n}\n#T_65ab6_row25_col14, #T_65ab6_row28_col14 {\n  width: 10em;\n  height: 80%;\n  background: linear-gradient(90deg,#B4B7B9 80.2%, transparent 80.2%);\n}\n#T_65ab6_row26_col1, #T_65ab6_row27_col1, #T_65ab6_row35_col1 {\n  width: 10em;\n  height: 80%;\n  background: linear-gradient(90deg,transparent 17.2%, #B4B7B9 17.2%);\n}\n#T_65ab6_row26_col2, #T_65ab6_row27_col2 {\n  width: 10em;\n  height: 80%;\n  background: linear-gradient(90deg,#B4B7B9 41.2%, transparent 41.2%);\n}\n#T_65ab6_row26_col4 {\n  width: 10em;\n  height: 80%;\n  background: linear-gradient(90deg,#1AAF54 13.3%, transparent 13.3%);\n}\n#T_65ab6_row26_col5 {\n  width: 10em;\n  height: 80%;\n  background: linear-gradient(90deg,transparent 7.1%, #B4B7B9 7.1%);\n}\n#T_65ab6_row26_col6 {\n  width: 10em;\n  height: 80%;\n  background: linear-gradient(90deg,#B4B7B9 18.2%, transparent 18.2%);\n}\n#T_65ab6_row26_col9 {\n  width: 10em;\n  height: 80%;\n  background: linear-gradient(90deg,transparent 62.5%, #B4B7B9 62.5%);\n}\n#T_65ab6_row26_col12 {\n  width: 10em;\n  height: 80%;\n  background: linear-gradient(90deg,#1AAF54 9.5%, transparent 9.5%);\n}\n#T_65ab6_row26_col13 {\n  width: 10em;\n  height: 80%;\n  background: linear-gradient(90deg,transparent 13.3%, #B4B7B9 13.3%);\n}\n#T_65ab6_row26_col14 {\n  width: 10em;\n  height: 80%;\n  background: linear-gradient(90deg,#B4B7B9 5.2%, transparent 5.2%);\n}\n#T_65ab6_row27_col4 {\n  width: 10em;\n  height: 80%;\n  background: linear-gradient(90deg,#1AAF54 16.7%, transparent 16.7%);\n}\n#T_65ab6_row27_col5 {\n  width: 10em;\n  height: 80%;\n  background: linear-gradient(90deg,transparent 14.3%, #B4B7B9 14.3%);\n}\n#T_65ab6_row27_col6 {\n  width: 10em;\n  height: 80%;\n  background: linear-gradient(90deg,#B4B7B9 21.2%, transparent 21.2%);\n}\n#T_65ab6_row27_col8, #T_65ab6_row35_col8 {\n  width: 10em;\n  height: 80%;\n  background: linear-gradient(90deg,#1AAF54 81.5%, transparent 81.5%);\n}\n#T_65ab6_row27_col12 {\n  width: 10em;\n  height: 80%;\n  background: linear-gradient(90deg,#1AAF54 11.4%, transparent 11.4%);\n}\n#T_65ab6_row27_col13 {\n  width: 10em;\n  height: 80%;\n  background: linear-gradient(90deg,transparent 15.0%, #B4B7B9 15.0%);\n}\n#T_65ab6_row27_col14, #T_65ab6_row30_col14, #T_65ab6_row31_col14 {\n  width: 10em;\n  height: 80%;\n  background: linear-gradient(90deg,#B4B7B9 7.3%, transparent 7.3%);\n}\n#T_65ab6_row28_col1, #T_65ab6_row30_col1 {\n  width: 10em;\n  height: 80%;\n  background: linear-gradient(90deg,transparent 6.9%, #B4B7B9 6.9%);\n}\n#T_65ab6_row28_col8 {\n  width: 10em;\n  height: 80%;\n  background: linear-gradient(90deg,#1AAF54 14.8%, transparent 14.8%);\n}\n#T_65ab6_row29_col0 {\n  width: 10em;\n  height: 80%;\n  background: linear-gradient(90deg,#1AAF54 21.4%, transparent 21.4%);\n}\n#T_65ab6_row29_col4 {\n  width: 10em;\n  height: 80%;\n  background: linear-gradient(90deg,#1AAF54 23.3%, transparent 23.3%);\n}\n#T_65ab6_row29_col5, #T_65ab6_row35_col5 {\n  width: 10em;\n  height: 80%;\n  background: linear-gradient(90deg,transparent 35.7%, #B4B7B9 35.7%);\n}\n#T_65ab6_row29_col6, #T_65ab6_row33_col6 {\n  width: 10em;\n  height: 80%;\n  background: linear-gradient(90deg,#B4B7B9 15.2%, transparent 15.2%);\n}\n#T_65ab6_row29_col8 {\n  width: 10em;\n  height: 80%;\n  background: linear-gradient(90deg,#1AAF54 48.1%, transparent 48.1%);\n}\n#T_65ab6_row29_col9 {\n  width: 10em;\n  height: 80%;\n  background: linear-gradient(90deg,transparent 53.1%, #B4B7B9 53.1%);\n}\n#T_65ab6_row29_col12 {\n  width: 10em;\n  height: 80%;\n  background: linear-gradient(90deg,#1AAF54 25.7%, transparent 25.7%);\n}\n#T_65ab6_row29_col13 {\n  width: 10em;\n  height: 80%;\n  background: linear-gradient(90deg,transparent 31.0%, #B4B7B9 31.0%);\n}\n#T_65ab6_row29_col14 {\n  width: 10em;\n  height: 80%;\n  background: linear-gradient(90deg,#B4B7B9 19.8%, transparent 19.8%);\n}\n#T_65ab6_row30_col0, #T_65ab6_row31_col0 {\n  width: 10em;\n  height: 80%;\n  background: linear-gradient(90deg,#1AAF54 10.7%, transparent 10.7%);\n}\n#T_65ab6_row30_col2, #T_65ab6_row31_col2 {\n  width: 10em;\n  height: 80%;\n  background: linear-gradient(90deg,#B4B7B9 26.5%, transparent 26.5%);\n}\n#T_65ab6_row30_col4 {\n  width: 10em;\n  height: 80%;\n  background: linear-gradient(90deg,#1AAF54 3.3%, transparent 3.3%);\n}\n#T_65ab6_row30_col5 {\n  width: 10em;\n  height: 80%;\n  background: linear-gradient(90deg,transparent 10.7%, #B4B7B9 10.7%);\n}\n#T_65ab6_row30_col6 {\n  width: 10em;\n  height: 80%;\n  background: linear-gradient(90deg,#B4B7B9 3.0%, transparent 3.0%);\n}\n#T_65ab6_row30_col9 {\n  width: 10em;\n  height: 80%;\n  background: linear-gradient(90deg,transparent 71.9%, #B4B7B9 71.9%);\n}\n#T_65ab6_row30_col10, #T_65ab6_row31_col10 {\n  width: 10em;\n  height: 80%;\n  background: linear-gradient(90deg,#B4B7B9 67.7%, transparent 67.7%);\n}\n#T_65ab6_row30_col12, #T_65ab6_row32_col4, #T_65ab6_row33_col4 {\n  width: 10em;\n  height: 80%;\n  background: linear-gradient(90deg,#1AAF54 6.7%, transparent 6.7%);\n}\n#T_65ab6_row30_col13 {\n  width: 10em;\n  height: 80%;\n  background: linear-gradient(90deg,transparent 5.3%, #B4B7B9 5.3%);\n}\n#T_65ab6_row31_col5, #T_65ab6_row33_col5 {\n  width: 10em;\n  height: 80%;\n  background: linear-gradient(90deg,transparent 3.6%, #B4B7B9 3.6%);\n}\n#T_65ab6_row31_col12 {\n  width: 10em;\n  height: 80%;\n  background: linear-gradient(90deg,#1AAF54 3.8%, transparent 3.8%);\n}\n#T_65ab6_row31_col13 {\n  width: 10em;\n  height: 80%;\n  background: linear-gradient(90deg,transparent 0.9%, #B4B7B9 0.9%);\n}\n#T_65ab6_row32_col0 {\n  width: 10em;\n  height: 80%;\n  background: linear-gradient(90deg,#1AAF54 7.1%, transparent 7.1%);\n}\n#T_65ab6_row32_col1 {\n  width: 10em;\n  height: 80%;\n  background: linear-gradient(90deg,transparent 3.4%, #B4B7B9 3.4%);\n}\n#T_65ab6_row32_col2, #T_65ab6_row33_col2 {\n  width: 10em;\n  height: 80%;\n  background: linear-gradient(90deg,#B4B7B9 20.6%, transparent 20.6%);\n}\n#T_65ab6_row32_col6 {\n  width: 10em;\n  height: 80%;\n  background: linear-gradient(90deg,#B4B7B9 12.1%, transparent 12.1%);\n}\n#T_65ab6_row33_col0 {\n  width: 10em;\n  height: 80%;\n  background: linear-gradient(90deg,#1AAF54 3.6%, transparent 3.6%);\n}\n#T_65ab6_row33_col12 {\n  width: 10em;\n  height: 80%;\n  background: linear-gradient(90deg,#1AAF54 1.0%, transparent 1.0%);\n}\n#T_65ab6_row33_col14 {\n  width: 10em;\n  height: 80%;\n  background: linear-gradient(90deg,#B4B7B9 3.1%, transparent 3.1%);\n}\n#T_65ab6_row34_col2 {\n  width: 10em;\n  height: 80%;\n  background: linear-gradient(90deg,#B4B7B9 2.9%, transparent 2.9%);\n}\n#T_65ab6_row34_col4 {\n  width: 10em;\n  height: 80%;\n  background: linear-gradient(90deg,#1AAF54 36.7%, transparent 36.7%);\n}\n#T_65ab6_row34_col5 {\n  width: 10em;\n  height: 80%;\n  background: linear-gradient(90deg,transparent 46.4%, #B4B7B9 46.4%);\n}\n#T_65ab6_row34_col6 {\n  width: 10em;\n  height: 80%;\n  background: linear-gradient(90deg,#B4B7B9 30.3%, transparent 30.3%);\n}\n#T_65ab6_row34_col8 {\n  width: 10em;\n  height: 80%;\n  background: linear-gradient(90deg,#1AAF54 88.9%, transparent 88.9%);\n}\n#T_65ab6_row34_col9 {\n  width: 10em;\n  height: 80%;\n  background: linear-gradient(90deg,transparent 87.5%, #B4B7B9 87.5%);\n}\n#T_65ab6_row34_col10 {\n  width: 10em;\n  height: 80%;\n  background: linear-gradient(90deg,#B4B7B9 80.6%, transparent 80.6%);\n}\n#T_65ab6_row34_col12 {\n  width: 10em;\n  height: 80%;\n  background: linear-gradient(90deg,#1AAF54 21.0%, transparent 21.0%);\n}\n#T_65ab6_row34_col13 {\n  width: 10em;\n  height: 80%;\n  background: linear-gradient(90deg,transparent 22.1%, #B4B7B9 22.1%);\n}\n#T_65ab6_row35_col12 {\n  width: 10em;\n  height: 80%;\n  background: linear-gradient(90deg,#1AAF54 18.1%, transparent 18.1%);\n}\n#T_65ab6_row35_col13 {\n  width: 10em;\n  height: 80%;\n  background: linear-gradient(90deg,transparent 19.5%, #B4B7B9 19.5%);\n}\n#T_65ab6_row35_col14 {\n  width: 10em;\n  height: 80%;\n  background: linear-gradient(90deg,#B4B7B9 17.7%, transparent 17.7%);\n}\n</style>\n<table id=\"T_65ab6_\">\n  <thead>\n    <tr>\n      <th class=\"col_heading level0 col0\" >ROC/AUC Mean</th>\n      <th class=\"col_heading level0 col1\" >ROC/AUC 95CI.LO</th>\n      <th class=\"col_heading level0 col2\" >ROC/AUC 95CI.HI</th>\n      <th class=\"col_heading level0 col3\" >ROC/AUC Training Mean</th>\n      <th class=\"col_heading level0 col4\" >F1 Mean</th>\n      <th class=\"col_heading level0 col5\" >F1 95CI.LO</th>\n      <th class=\"col_heading level0 col6\" >F1 95CI.HI</th>\n      <th class=\"col_heading level0 col7\" >F1 Training Mean</th>\n      <th class=\"col_heading level0 col8\" >Pos. Pred. Val Mean</th>\n      <th class=\"col_heading level0 col9\" >Pos. Pred. Val 95CI.LO</th>\n      <th class=\"col_heading level0 col10\" >Pos. Pred. Val 95CI.HI</th>\n      <th class=\"col_heading level0 col11\" >Pos. Pred. Val Training Mean</th>\n      <th class=\"col_heading level0 col12\" >True Pos. Rate Mean</th>\n      <th class=\"col_heading level0 col13\" >True Pos. Rate 95CI.LO</th>\n      <th class=\"col_heading level0 col14\" >True Pos. Rate 95CI.HI</th>\n      <th class=\"col_heading level0 col15\" >True Pos. Rate Training Mean</th>\n      <th class=\"col_heading level0 col16\" >model | max_features</th>\n      <th class=\"col_heading level0 col17\" >model | n_estimators</th>\n      <th class=\"col_heading level0 col18\" >preparation | non_numeric_pipeline | encoder_chooser | base_transformer</th>\n      <th class=\"col_heading level0 col19\" >preparation | numeric_pipeline | impute_chooser | base_transformer</th>\n      <th class=\"col_heading level0 col20\" >preparation | numeric_pipeline | scaling_chooser | base_transformer</th>\n    </tr>\n  </thead>\n  <tbody>\n    <tr>\n      <td id=\"T_65ab6_row0_col0\" class=\"data row0 col0\" >0.772</td>\n      <td id=\"T_65ab6_row0_col1\" class=\"data row0 col1\" >0.747</td>\n      <td id=\"T_65ab6_row0_col2\" class=\"data row0 col2\" >0.796</td>\n      <td id=\"T_65ab6_row0_col3\" class=\"data row0 col3\" >1.000</td>\n      <td id=\"T_65ab6_row0_col4\" class=\"data row0 col4\" >0.841</td>\n      <td id=\"T_65ab6_row0_col5\" class=\"data row0 col5\" >0.826</td>\n      <td id=\"T_65ab6_row0_col6\" class=\"data row0 col6\" >0.857</td>\n      <td id=\"T_65ab6_row0_col7\" class=\"data row0 col7\" >1.000</td>\n      <td id=\"T_65ab6_row0_col8\" class=\"data row0 col8\" >0.749</td>\n      <td id=\"T_65ab6_row0_col9\" class=\"data row0 col9\" >0.722</td>\n      <td id=\"T_65ab6_row0_col10\" class=\"data row0 col10\" >0.775</td>\n      <td id=\"T_65ab6_row0_col11\" class=\"data row0 col11\" >1.000</td>\n      <td id=\"T_65ab6_row0_col12\" class=\"data row0 col12\" >0.962</td>\n      <td id=\"T_65ab6_row0_col13\" class=\"data row0 col13\" >0.951</td>\n      <td id=\"T_65ab6_row0_col14\" class=\"data row0 col14\" >0.973</td>\n      <td id=\"T_65ab6_row0_col15\" class=\"data row0 col15\" >1.000</td>\n      <td id=\"T_65ab6_row0_col16\" class=\"data row0 col16\" >2</td>\n      <td id=\"T_65ab6_row0_col17\" class=\"data row0 col17\" >500</td>\n      <td id=\"T_65ab6_row0_col18\" class=\"data row0 col18\" >OneHotEncoder()</td>\n      <td id=\"T_65ab6_row0_col19\" class=\"data row0 col19\" >SimpleImputer()</td>\n      <td id=\"T_65ab6_row0_col20\" class=\"data row0 col20\" >MinMaxScaler()</td>\n    </tr>\n    <tr>\n      <td id=\"T_65ab6_row1_col0\" class=\"data row1 col0\" >0.771</td>\n      <td id=\"T_65ab6_row1_col1\" class=\"data row1 col1\" >0.746</td>\n      <td id=\"T_65ab6_row1_col2\" class=\"data row1 col2\" >0.796</td>\n      <td id=\"T_65ab6_row1_col3\" class=\"data row1 col3\" >1.000</td>\n      <td id=\"T_65ab6_row1_col4\" class=\"data row1 col4\" >0.842</td>\n      <td id=\"T_65ab6_row1_col5\" class=\"data row1 col5\" >0.826</td>\n      <td id=\"T_65ab6_row1_col6\" class=\"data row1 col6\" >0.857</td>\n      <td id=\"T_65ab6_row1_col7\" class=\"data row1 col7\" >1.000</td>\n      <td id=\"T_65ab6_row1_col8\" class=\"data row1 col8\" >0.749</td>\n      <td id=\"T_65ab6_row1_col9\" class=\"data row1 col9\" >0.722</td>\n      <td id=\"T_65ab6_row1_col10\" class=\"data row1 col10\" >0.775</td>\n      <td id=\"T_65ab6_row1_col11\" class=\"data row1 col11\" >1.000</td>\n      <td id=\"T_65ab6_row1_col12\" class=\"data row1 col12\" >0.964</td>\n      <td id=\"T_65ab6_row1_col13\" class=\"data row1 col13\" >0.953</td>\n      <td id=\"T_65ab6_row1_col14\" class=\"data row1 col14\" >0.974</td>\n      <td id=\"T_65ab6_row1_col15\" class=\"data row1 col15\" >1.000</td>\n      <td id=\"T_65ab6_row1_col16\" class=\"data row1 col16\" >2</td>\n      <td id=\"T_65ab6_row1_col17\" class=\"data row1 col17\" >500</td>\n      <td id=\"T_65ab6_row1_col18\" class=\"data row1 col18\" >OneHotEncoder()</td>\n      <td id=\"T_65ab6_row1_col19\" class=\"data row1 col19\" >SimpleImputer()</td>\n      <td id=\"T_65ab6_row1_col20\" class=\"data row1 col20\" >StandardScaler()</td>\n    </tr>\n    <tr>\n      <td id=\"T_65ab6_row2_col0\" class=\"data row2 col0\" >0.770</td>\n      <td id=\"T_65ab6_row2_col1\" class=\"data row2 col1\" >0.745</td>\n      <td id=\"T_65ab6_row2_col2\" class=\"data row2 col2\" >0.796</td>\n      <td id=\"T_65ab6_row2_col3\" class=\"data row2 col3\" >1.000</td>\n      <td id=\"T_65ab6_row2_col4\" class=\"data row2 col4\" >0.836</td>\n      <td id=\"T_65ab6_row2_col5\" class=\"data row2 col5\" >0.824</td>\n      <td id=\"T_65ab6_row2_col6\" class=\"data row2 col6\" >0.849</td>\n      <td id=\"T_65ab6_row2_col7\" class=\"data row2 col7\" >1.000</td>\n      <td id=\"T_65ab6_row2_col8\" class=\"data row2 col8\" >0.757</td>\n      <td id=\"T_65ab6_row2_col9\" class=\"data row2 col9\" >0.732</td>\n      <td id=\"T_65ab6_row2_col10\" class=\"data row2 col10\" >0.782</td>\n      <td id=\"T_65ab6_row2_col11\" class=\"data row2 col11\" >1.000</td>\n      <td id=\"T_65ab6_row2_col12\" class=\"data row2 col12\" >0.936</td>\n      <td id=\"T_65ab6_row2_col13\" class=\"data row2 col13\" >0.916</td>\n      <td id=\"T_65ab6_row2_col14\" class=\"data row2 col14\" >0.957</td>\n      <td id=\"T_65ab6_row2_col15\" class=\"data row2 col15\" >1.000</td>\n      <td id=\"T_65ab6_row2_col16\" class=\"data row2 col16\" >2</td>\n      <td id=\"T_65ab6_row2_col17\" class=\"data row2 col17\" >500</td>\n      <td id=\"T_65ab6_row2_col18\" class=\"data row2 col18\" >CustomOrdinalEncoder()</td>\n      <td id=\"T_65ab6_row2_col19\" class=\"data row2 col19\" >SimpleImputer()</td>\n      <td id=\"T_65ab6_row2_col20\" class=\"data row2 col20\" >MinMaxScaler()</td>\n    </tr>\n    <tr>\n      <td id=\"T_65ab6_row3_col0\" class=\"data row3 col0\" >0.770</td>\n      <td id=\"T_65ab6_row3_col1\" class=\"data row3 col1\" >0.744</td>\n      <td id=\"T_65ab6_row3_col2\" class=\"data row3 col2\" >0.795</td>\n      <td id=\"T_65ab6_row3_col3\" class=\"data row3 col3\" >1.000</td>\n      <td id=\"T_65ab6_row3_col4\" class=\"data row3 col4\" >0.837</td>\n      <td id=\"T_65ab6_row3_col5\" class=\"data row3 col5\" >0.824</td>\n      <td id=\"T_65ab6_row3_col6\" class=\"data row3 col6\" >0.849</td>\n      <td id=\"T_65ab6_row3_col7\" class=\"data row3 col7\" >1.000</td>\n      <td id=\"T_65ab6_row3_col8\" class=\"data row3 col8\" >0.758</td>\n      <td id=\"T_65ab6_row3_col9\" class=\"data row3 col9\" >0.734</td>\n      <td id=\"T_65ab6_row3_col10\" class=\"data row3 col10\" >0.782</td>\n      <td id=\"T_65ab6_row3_col11\" class=\"data row3 col11\" >1.000</td>\n      <td id=\"T_65ab6_row3_col12\" class=\"data row3 col12\" >0.935</td>\n      <td id=\"T_65ab6_row3_col13\" class=\"data row3 col13\" >0.915</td>\n      <td id=\"T_65ab6_row3_col14\" class=\"data row3 col14\" >0.956</td>\n      <td id=\"T_65ab6_row3_col15\" class=\"data row3 col15\" >1.000</td>\n      <td id=\"T_65ab6_row3_col16\" class=\"data row3 col16\" >2</td>\n      <td id=\"T_65ab6_row3_col17\" class=\"data row3 col17\" >500</td>\n      <td id=\"T_65ab6_row3_col18\" class=\"data row3 col18\" >CustomOrdinalEncoder()</td>\n      <td id=\"T_65ab6_row3_col19\" class=\"data row3 col19\" >SimpleImputer()</td>\n      <td id=\"T_65ab6_row3_col20\" class=\"data row3 col20\" >StandardScaler()</td>\n    </tr>\n    <tr>\n      <td id=\"T_65ab6_row4_col0\" class=\"data row4 col0\" >0.769</td>\n      <td id=\"T_65ab6_row4_col1\" class=\"data row4 col1\" >0.743</td>\n      <td id=\"T_65ab6_row4_col2\" class=\"data row4 col2\" >0.794</td>\n      <td id=\"T_65ab6_row4_col3\" class=\"data row4 col3\" >1.000</td>\n      <td id=\"T_65ab6_row4_col4\" class=\"data row4 col4\" >0.836</td>\n      <td id=\"T_65ab6_row4_col5\" class=\"data row4 col5\" >0.824</td>\n      <td id=\"T_65ab6_row4_col6\" class=\"data row4 col6\" >0.848</td>\n      <td id=\"T_65ab6_row4_col7\" class=\"data row4 col7\" >1.000</td>\n      <td id=\"T_65ab6_row4_col8\" class=\"data row4 col8\" >0.770</td>\n      <td id=\"T_65ab6_row4_col9\" class=\"data row4 col9\" >0.746</td>\n      <td id=\"T_65ab6_row4_col10\" class=\"data row4 col10\" >0.794</td>\n      <td id=\"T_65ab6_row4_col11\" class=\"data row4 col11\" >1.000</td>\n      <td id=\"T_65ab6_row4_col12\" class=\"data row4 col12\" >0.918</td>\n      <td id=\"T_65ab6_row4_col13\" class=\"data row4 col13\" >0.890</td>\n      <td id=\"T_65ab6_row4_col14\" class=\"data row4 col14\" >0.946</td>\n      <td id=\"T_65ab6_row4_col15\" class=\"data row4 col15\" >1.000</td>\n      <td id=\"T_65ab6_row4_col16\" class=\"data row4 col16\" >auto</td>\n      <td id=\"T_65ab6_row4_col17\" class=\"data row4 col17\" >500</td>\n      <td id=\"T_65ab6_row4_col18\" class=\"data row4 col18\" >OneHotEncoder()</td>\n      <td id=\"T_65ab6_row4_col19\" class=\"data row4 col19\" >SimpleImputer()</td>\n      <td id=\"T_65ab6_row4_col20\" class=\"data row4 col20\" >MinMaxScaler()</td>\n    </tr>\n    <tr>\n      <td id=\"T_65ab6_row5_col0\" class=\"data row5 col0\" >0.768</td>\n      <td id=\"T_65ab6_row5_col1\" class=\"data row5 col1\" >0.742</td>\n      <td id=\"T_65ab6_row5_col2\" class=\"data row5 col2\" >0.794</td>\n      <td id=\"T_65ab6_row5_col3\" class=\"data row5 col3\" >1.000</td>\n      <td id=\"T_65ab6_row5_col4\" class=\"data row5 col4\" >0.835</td>\n      <td id=\"T_65ab6_row5_col5\" class=\"data row5 col5\" >0.822</td>\n      <td id=\"T_65ab6_row5_col6\" class=\"data row5 col6\" >0.847</td>\n      <td id=\"T_65ab6_row5_col7\" class=\"data row5 col7\" >1.000</td>\n      <td id=\"T_65ab6_row5_col8\" class=\"data row5 col8\" >0.769</td>\n      <td id=\"T_65ab6_row5_col9\" class=\"data row5 col9\" >0.744</td>\n      <td id=\"T_65ab6_row5_col10\" class=\"data row5 col10\" >0.794</td>\n      <td id=\"T_65ab6_row5_col11\" class=\"data row5 col11\" >1.000</td>\n      <td id=\"T_65ab6_row5_col12\" class=\"data row5 col12\" >0.915</td>\n      <td id=\"T_65ab6_row5_col13\" class=\"data row5 col13\" >0.887</td>\n      <td id=\"T_65ab6_row5_col14\" class=\"data row5 col14\" >0.944</td>\n      <td id=\"T_65ab6_row5_col15\" class=\"data row5 col15\" >1.000</td>\n      <td id=\"T_65ab6_row5_col16\" class=\"data row5 col16\" >auto</td>\n      <td id=\"T_65ab6_row5_col17\" class=\"data row5 col17\" >500</td>\n      <td id=\"T_65ab6_row5_col18\" class=\"data row5 col18\" >OneHotEncoder()</td>\n      <td id=\"T_65ab6_row5_col19\" class=\"data row5 col19\" >SimpleImputer()</td>\n      <td id=\"T_65ab6_row5_col20\" class=\"data row5 col20\" >StandardScaler()</td>\n    </tr>\n    <tr>\n      <td id=\"T_65ab6_row6_col0\" class=\"data row6 col0\" >0.767</td>\n      <td id=\"T_65ab6_row6_col1\" class=\"data row6 col1\" >0.736</td>\n      <td id=\"T_65ab6_row6_col2\" class=\"data row6 col2\" >0.798</td>\n      <td id=\"T_65ab6_row6_col3\" class=\"data row6 col3\" >1.000</td>\n      <td id=\"T_65ab6_row6_col4\" class=\"data row6 col4\" >0.838</td>\n      <td id=\"T_65ab6_row6_col5\" class=\"data row6 col5\" >0.822</td>\n      <td id=\"T_65ab6_row6_col6\" class=\"data row6 col6\" >0.853</td>\n      <td id=\"T_65ab6_row6_col7\" class=\"data row6 col7\" >1.000</td>\n      <td id=\"T_65ab6_row6_col8\" class=\"data row6 col8\" >0.775</td>\n      <td id=\"T_65ab6_row6_col9\" class=\"data row6 col9\" >0.748</td>\n      <td id=\"T_65ab6_row6_col10\" class=\"data row6 col10\" >0.801</td>\n      <td id=\"T_65ab6_row6_col11\" class=\"data row6 col11\" >1.000</td>\n      <td id=\"T_65ab6_row6_col12\" class=\"data row6 col12\" >0.914</td>\n      <td id=\"T_65ab6_row6_col13\" class=\"data row6 col13\" >0.891</td>\n      <td id=\"T_65ab6_row6_col14\" class=\"data row6 col14\" >0.937</td>\n      <td id=\"T_65ab6_row6_col15\" class=\"data row6 col15\" >1.000</td>\n      <td id=\"T_65ab6_row6_col16\" class=\"data row6 col16\" >10</td>\n      <td id=\"T_65ab6_row6_col17\" class=\"data row6 col17\" >500</td>\n      <td id=\"T_65ab6_row6_col18\" class=\"data row6 col18\" >OneHotEncoder()</td>\n      <td id=\"T_65ab6_row6_col19\" class=\"data row6 col19\" >SimpleImputer()</td>\n      <td id=\"T_65ab6_row6_col20\" class=\"data row6 col20\" >StandardScaler()</td>\n    </tr>\n    <tr>\n      <td id=\"T_65ab6_row7_col0\" class=\"data row7 col0\" >0.767</td>\n      <td id=\"T_65ab6_row7_col1\" class=\"data row7 col1\" >0.737</td>\n      <td id=\"T_65ab6_row7_col2\" class=\"data row7 col2\" >0.797</td>\n      <td id=\"T_65ab6_row7_col3\" class=\"data row7 col3\" >1.000</td>\n      <td id=\"T_65ab6_row7_col4\" class=\"data row7 col4\" >0.837</td>\n      <td id=\"T_65ab6_row7_col5\" class=\"data row7 col5\" >0.821</td>\n      <td id=\"T_65ab6_row7_col6\" class=\"data row7 col6\" >0.852</td>\n      <td id=\"T_65ab6_row7_col7\" class=\"data row7 col7\" >1.000</td>\n      <td id=\"T_65ab6_row7_col8\" class=\"data row7 col8\" >0.775</td>\n      <td id=\"T_65ab6_row7_col9\" class=\"data row7 col9\" >0.747</td>\n      <td id=\"T_65ab6_row7_col10\" class=\"data row7 col10\" >0.802</td>\n      <td id=\"T_65ab6_row7_col11\" class=\"data row7 col11\" >1.000</td>\n      <td id=\"T_65ab6_row7_col12\" class=\"data row7 col12\" >0.912</td>\n      <td id=\"T_65ab6_row7_col13\" class=\"data row7 col13\" >0.892</td>\n      <td id=\"T_65ab6_row7_col14\" class=\"data row7 col14\" >0.932</td>\n      <td id=\"T_65ab6_row7_col15\" class=\"data row7 col15\" >1.000</td>\n      <td id=\"T_65ab6_row7_col16\" class=\"data row7 col16\" >10</td>\n      <td id=\"T_65ab6_row7_col17\" class=\"data row7 col17\" >500</td>\n      <td id=\"T_65ab6_row7_col18\" class=\"data row7 col18\" >OneHotEncoder()</td>\n      <td id=\"T_65ab6_row7_col19\" class=\"data row7 col19\" >SimpleImputer()</td>\n      <td id=\"T_65ab6_row7_col20\" class=\"data row7 col20\" >MinMaxScaler()</td>\n    </tr>\n    <tr>\n      <td id=\"T_65ab6_row8_col0\" class=\"data row8 col0\" >0.767</td>\n      <td id=\"T_65ab6_row8_col1\" class=\"data row8 col1\" >0.748</td>\n      <td id=\"T_65ab6_row8_col2\" class=\"data row8 col2\" >0.785</td>\n      <td id=\"T_65ab6_row8_col3\" class=\"data row8 col3\" >1.000</td>\n      <td id=\"T_65ab6_row8_col4\" class=\"data row8 col4\" >0.834</td>\n      <td id=\"T_65ab6_row8_col5\" class=\"data row8 col5\" >0.821</td>\n      <td id=\"T_65ab6_row8_col6\" class=\"data row8 col6\" >0.847</td>\n      <td id=\"T_65ab6_row8_col7\" class=\"data row8 col7\" >1.000</td>\n      <td id=\"T_65ab6_row8_col8\" class=\"data row8 col8\" >0.759</td>\n      <td id=\"T_65ab6_row8_col9\" class=\"data row8 col9\" >0.733</td>\n      <td id=\"T_65ab6_row8_col10\" class=\"data row8 col10\" >0.785</td>\n      <td id=\"T_65ab6_row8_col11\" class=\"data row8 col11\" >1.000</td>\n      <td id=\"T_65ab6_row8_col12\" class=\"data row8 col12\" >0.928</td>\n      <td id=\"T_65ab6_row8_col13\" class=\"data row8 col13\" >0.911</td>\n      <td id=\"T_65ab6_row8_col14\" class=\"data row8 col14\" >0.945</td>\n      <td id=\"T_65ab6_row8_col15\" class=\"data row8 col15\" >1.000</td>\n      <td id=\"T_65ab6_row8_col16\" class=\"data row8 col16\" >2</td>\n      <td id=\"T_65ab6_row8_col17\" class=\"data row8 col17\" >100</td>\n      <td id=\"T_65ab6_row8_col18\" class=\"data row8 col18\" >CustomOrdinalEncoder()</td>\n      <td id=\"T_65ab6_row8_col19\" class=\"data row8 col19\" >SimpleImputer()</td>\n      <td id=\"T_65ab6_row8_col20\" class=\"data row8 col20\" >MinMaxScaler()</td>\n    </tr>\n    <tr>\n      <td id=\"T_65ab6_row9_col0\" class=\"data row9 col0\" >0.766</td>\n      <td id=\"T_65ab6_row9_col1\" class=\"data row9 col1\" >0.747</td>\n      <td id=\"T_65ab6_row9_col2\" class=\"data row9 col2\" >0.784</td>\n      <td id=\"T_65ab6_row9_col3\" class=\"data row9 col3\" >1.000</td>\n      <td id=\"T_65ab6_row9_col4\" class=\"data row9 col4\" >0.830</td>\n      <td id=\"T_65ab6_row9_col5\" class=\"data row9 col5\" >0.817</td>\n      <td id=\"T_65ab6_row9_col6\" class=\"data row9 col6\" >0.843</td>\n      <td id=\"T_65ab6_row9_col7\" class=\"data row9 col7\" >1.000</td>\n      <td id=\"T_65ab6_row9_col8\" class=\"data row9 col8\" >0.757</td>\n      <td id=\"T_65ab6_row9_col9\" class=\"data row9 col9\" >0.731</td>\n      <td id=\"T_65ab6_row9_col10\" class=\"data row9 col10\" >0.782</td>\n      <td id=\"T_65ab6_row9_col11\" class=\"data row9 col11\" >1.000</td>\n      <td id=\"T_65ab6_row9_col12\" class=\"data row9 col12\" >0.921</td>\n      <td id=\"T_65ab6_row9_col13\" class=\"data row9 col13\" >0.904</td>\n      <td id=\"T_65ab6_row9_col14\" class=\"data row9 col14\" >0.938</td>\n      <td id=\"T_65ab6_row9_col15\" class=\"data row9 col15\" >1.000</td>\n      <td id=\"T_65ab6_row9_col16\" class=\"data row9 col16\" >2</td>\n      <td id=\"T_65ab6_row9_col17\" class=\"data row9 col17\" >100</td>\n      <td id=\"T_65ab6_row9_col18\" class=\"data row9 col18\" >CustomOrdinalEncoder()</td>\n      <td id=\"T_65ab6_row9_col19\" class=\"data row9 col19\" >SimpleImputer()</td>\n      <td id=\"T_65ab6_row9_col20\" class=\"data row9 col20\" >StandardScaler()</td>\n    </tr>\n    <tr>\n      <td id=\"T_65ab6_row10_col0\" class=\"data row10 col0\" >0.765</td>\n      <td id=\"T_65ab6_row10_col1\" class=\"data row10 col1\" >0.739</td>\n      <td id=\"T_65ab6_row10_col2\" class=\"data row10 col2\" >0.790</td>\n      <td id=\"T_65ab6_row10_col3\" class=\"data row10 col3\" >1.000</td>\n      <td id=\"T_65ab6_row10_col4\" class=\"data row10 col4\" >0.835</td>\n      <td id=\"T_65ab6_row10_col5\" class=\"data row10 col5\" >0.823</td>\n      <td id=\"T_65ab6_row10_col6\" class=\"data row10 col6\" >0.846</td>\n      <td id=\"T_65ab6_row10_col7\" class=\"data row10 col7\" >1.000</td>\n      <td id=\"T_65ab6_row10_col8\" class=\"data row10 col8\" >0.769</td>\n      <td id=\"T_65ab6_row10_col9\" class=\"data row10 col9\" >0.744</td>\n      <td id=\"T_65ab6_row10_col10\" class=\"data row10 col10\" >0.794</td>\n      <td id=\"T_65ab6_row10_col11\" class=\"data row10 col11\" >1.000</td>\n      <td id=\"T_65ab6_row10_col12\" class=\"data row10 col12\" >0.915</td>\n      <td id=\"T_65ab6_row10_col13\" class=\"data row10 col13\" >0.895</td>\n      <td id=\"T_65ab6_row10_col14\" class=\"data row10 col14\" >0.935</td>\n      <td id=\"T_65ab6_row10_col15\" class=\"data row10 col15\" >1.000</td>\n      <td id=\"T_65ab6_row10_col16\" class=\"data row10 col16\" >auto</td>\n      <td id=\"T_65ab6_row10_col17\" class=\"data row10 col17\" >100</td>\n      <td id=\"T_65ab6_row10_col18\" class=\"data row10 col18\" >OneHotEncoder()</td>\n      <td id=\"T_65ab6_row10_col19\" class=\"data row10 col19\" >SimpleImputer()</td>\n      <td id=\"T_65ab6_row10_col20\" class=\"data row10 col20\" >MinMaxScaler()</td>\n    </tr>\n    <tr>\n      <td id=\"T_65ab6_row11_col0\" class=\"data row11 col0\" >0.765</td>\n      <td id=\"T_65ab6_row11_col1\" class=\"data row11 col1\" >0.734</td>\n      <td id=\"T_65ab6_row11_col2\" class=\"data row11 col2\" >0.796</td>\n      <td id=\"T_65ab6_row11_col3\" class=\"data row11 col3\" >1.000</td>\n      <td id=\"T_65ab6_row11_col4\" class=\"data row11 col4\" >0.833</td>\n      <td id=\"T_65ab6_row11_col5\" class=\"data row11 col5\" >0.821</td>\n      <td id=\"T_65ab6_row11_col6\" class=\"data row11 col6\" >0.845</td>\n      <td id=\"T_65ab6_row11_col7\" class=\"data row11 col7\" >1.000</td>\n      <td id=\"T_65ab6_row11_col8\" class=\"data row11 col8\" >0.774</td>\n      <td id=\"T_65ab6_row11_col9\" class=\"data row11 col9\" >0.749</td>\n      <td id=\"T_65ab6_row11_col10\" class=\"data row11 col10\" >0.798</td>\n      <td id=\"T_65ab6_row11_col11\" class=\"data row11 col11\" >1.000</td>\n      <td id=\"T_65ab6_row11_col12\" class=\"data row11 col12\" >0.904</td>\n      <td id=\"T_65ab6_row11_col13\" class=\"data row11 col13\" >0.887</td>\n      <td id=\"T_65ab6_row11_col14\" class=\"data row11 col14\" >0.921</td>\n      <td id=\"T_65ab6_row11_col15\" class=\"data row11 col15\" >1.000</td>\n      <td id=\"T_65ab6_row11_col16\" class=\"data row11 col16\" >10</td>\n      <td id=\"T_65ab6_row11_col17\" class=\"data row11 col17\" >100</td>\n      <td id=\"T_65ab6_row11_col18\" class=\"data row11 col18\" >OneHotEncoder()</td>\n      <td id=\"T_65ab6_row11_col19\" class=\"data row11 col19\" >SimpleImputer()</td>\n      <td id=\"T_65ab6_row11_col20\" class=\"data row11 col20\" >StandardScaler()</td>\n    </tr>\n    <tr>\n      <td id=\"T_65ab6_row12_col0\" class=\"data row12 col0\" >0.764</td>\n      <td id=\"T_65ab6_row12_col1\" class=\"data row12 col1\" >0.733</td>\n      <td id=\"T_65ab6_row12_col2\" class=\"data row12 col2\" >0.796</td>\n      <td id=\"T_65ab6_row12_col3\" class=\"data row12 col3\" >1.000</td>\n      <td id=\"T_65ab6_row12_col4\" class=\"data row12 col4\" >0.833</td>\n      <td id=\"T_65ab6_row12_col5\" class=\"data row12 col5\" >0.821</td>\n      <td id=\"T_65ab6_row12_col6\" class=\"data row12 col6\" >0.846</td>\n      <td id=\"T_65ab6_row12_col7\" class=\"data row12 col7\" >1.000</td>\n      <td id=\"T_65ab6_row12_col8\" class=\"data row12 col8\" >0.774</td>\n      <td id=\"T_65ab6_row12_col9\" class=\"data row12 col9\" >0.749</td>\n      <td id=\"T_65ab6_row12_col10\" class=\"data row12 col10\" >0.799</td>\n      <td id=\"T_65ab6_row12_col11\" class=\"data row12 col11\" >1.000</td>\n      <td id=\"T_65ab6_row12_col12\" class=\"data row12 col12\" >0.905</td>\n      <td id=\"T_65ab6_row12_col13\" class=\"data row12 col13\" >0.887</td>\n      <td id=\"T_65ab6_row12_col14\" class=\"data row12 col14\" >0.923</td>\n      <td id=\"T_65ab6_row12_col15\" class=\"data row12 col15\" >1.000</td>\n      <td id=\"T_65ab6_row12_col16\" class=\"data row12 col16\" >10</td>\n      <td id=\"T_65ab6_row12_col17\" class=\"data row12 col17\" >100</td>\n      <td id=\"T_65ab6_row12_col18\" class=\"data row12 col18\" >OneHotEncoder()</td>\n      <td id=\"T_65ab6_row12_col19\" class=\"data row12 col19\" >SimpleImputer()</td>\n      <td id=\"T_65ab6_row12_col20\" class=\"data row12 col20\" >MinMaxScaler()</td>\n    </tr>\n    <tr>\n      <td id=\"T_65ab6_row13_col0\" class=\"data row13 col0\" >0.764</td>\n      <td id=\"T_65ab6_row13_col1\" class=\"data row13 col1\" >0.739</td>\n      <td id=\"T_65ab6_row13_col2\" class=\"data row13 col2\" >0.790</td>\n      <td id=\"T_65ab6_row13_col3\" class=\"data row13 col3\" >1.000</td>\n      <td id=\"T_65ab6_row13_col4\" class=\"data row13 col4\" >0.834</td>\n      <td id=\"T_65ab6_row13_col5\" class=\"data row13 col5\" >0.822</td>\n      <td id=\"T_65ab6_row13_col6\" class=\"data row13 col6\" >0.846</td>\n      <td id=\"T_65ab6_row13_col7\" class=\"data row13 col7\" >1.000</td>\n      <td id=\"T_65ab6_row13_col8\" class=\"data row13 col8\" >0.768</td>\n      <td id=\"T_65ab6_row13_col9\" class=\"data row13 col9\" >0.743</td>\n      <td id=\"T_65ab6_row13_col10\" class=\"data row13 col10\" >0.793</td>\n      <td id=\"T_65ab6_row13_col11\" class=\"data row13 col11\" >1.000</td>\n      <td id=\"T_65ab6_row13_col12\" class=\"data row13 col12\" >0.914</td>\n      <td id=\"T_65ab6_row13_col13\" class=\"data row13 col13\" >0.896</td>\n      <td id=\"T_65ab6_row13_col14\" class=\"data row13 col14\" >0.932</td>\n      <td id=\"T_65ab6_row13_col15\" class=\"data row13 col15\" >1.000</td>\n      <td id=\"T_65ab6_row13_col16\" class=\"data row13 col16\" >auto</td>\n      <td id=\"T_65ab6_row13_col17\" class=\"data row13 col17\" >100</td>\n      <td id=\"T_65ab6_row13_col18\" class=\"data row13 col18\" >OneHotEncoder()</td>\n      <td id=\"T_65ab6_row13_col19\" class=\"data row13 col19\" >SimpleImputer()</td>\n      <td id=\"T_65ab6_row13_col20\" class=\"data row13 col20\" >StandardScaler()</td>\n    </tr>\n    <tr>\n      <td id=\"T_65ab6_row14_col0\" class=\"data row14 col0\" >0.763</td>\n      <td id=\"T_65ab6_row14_col1\" class=\"data row14 col1\" >0.738</td>\n      <td id=\"T_65ab6_row14_col2\" class=\"data row14 col2\" >0.788</td>\n      <td id=\"T_65ab6_row14_col3\" class=\"data row14 col3\" >1.000</td>\n      <td id=\"T_65ab6_row14_col4\" class=\"data row14 col4\" >0.829</td>\n      <td id=\"T_65ab6_row14_col5\" class=\"data row14 col5\" >0.818</td>\n      <td id=\"T_65ab6_row14_col6\" class=\"data row14 col6\" >0.839</td>\n      <td id=\"T_65ab6_row14_col7\" class=\"data row14 col7\" >1.000</td>\n      <td id=\"T_65ab6_row14_col8\" class=\"data row14 col8\" >0.766</td>\n      <td id=\"T_65ab6_row14_col9\" class=\"data row14 col9\" >0.743</td>\n      <td id=\"T_65ab6_row14_col10\" class=\"data row14 col10\" >0.789</td>\n      <td id=\"T_65ab6_row14_col11\" class=\"data row14 col11\" >1.000</td>\n      <td id=\"T_65ab6_row14_col12\" class=\"data row14 col12\" >0.905</td>\n      <td id=\"T_65ab6_row14_col13\" class=\"data row14 col13\" >0.888</td>\n      <td id=\"T_65ab6_row14_col14\" class=\"data row14 col14\" >0.921</td>\n      <td id=\"T_65ab6_row14_col15\" class=\"data row14 col15\" >1.000</td>\n      <td id=\"T_65ab6_row14_col16\" class=\"data row14 col16\" >auto</td>\n      <td id=\"T_65ab6_row14_col17\" class=\"data row14 col17\" >500</td>\n      <td id=\"T_65ab6_row14_col18\" class=\"data row14 col18\" >CustomOrdinalEncoder()</td>\n      <td id=\"T_65ab6_row14_col19\" class=\"data row14 col19\" >SimpleImputer()</td>\n      <td id=\"T_65ab6_row14_col20\" class=\"data row14 col20\" >StandardScaler()</td>\n    </tr>\n    <tr>\n      <td id=\"T_65ab6_row15_col0\" class=\"data row15 col0\" >0.763</td>\n      <td id=\"T_65ab6_row15_col1\" class=\"data row15 col1\" >0.738</td>\n      <td id=\"T_65ab6_row15_col2\" class=\"data row15 col2\" >0.788</td>\n      <td id=\"T_65ab6_row15_col3\" class=\"data row15 col3\" >1.000</td>\n      <td id=\"T_65ab6_row15_col4\" class=\"data row15 col4\" >0.829</td>\n      <td id=\"T_65ab6_row15_col5\" class=\"data row15 col5\" >0.818</td>\n      <td id=\"T_65ab6_row15_col6\" class=\"data row15 col6\" >0.839</td>\n      <td id=\"T_65ab6_row15_col7\" class=\"data row15 col7\" >1.000</td>\n      <td id=\"T_65ab6_row15_col8\" class=\"data row15 col8\" >0.766</td>\n      <td id=\"T_65ab6_row15_col9\" class=\"data row15 col9\" >0.743</td>\n      <td id=\"T_65ab6_row15_col10\" class=\"data row15 col10\" >0.789</td>\n      <td id=\"T_65ab6_row15_col11\" class=\"data row15 col11\" >1.000</td>\n      <td id=\"T_65ab6_row15_col12\" class=\"data row15 col12\" >0.905</td>\n      <td id=\"T_65ab6_row15_col13\" class=\"data row15 col13\" >0.888</td>\n      <td id=\"T_65ab6_row15_col14\" class=\"data row15 col14\" >0.922</td>\n      <td id=\"T_65ab6_row15_col15\" class=\"data row15 col15\" >1.000</td>\n      <td id=\"T_65ab6_row15_col16\" class=\"data row15 col16\" >auto</td>\n      <td id=\"T_65ab6_row15_col17\" class=\"data row15 col17\" >500</td>\n      <td id=\"T_65ab6_row15_col18\" class=\"data row15 col18\" >CustomOrdinalEncoder()</td>\n      <td id=\"T_65ab6_row15_col19\" class=\"data row15 col19\" >SimpleImputer()</td>\n      <td id=\"T_65ab6_row15_col20\" class=\"data row15 col20\" >MinMaxScaler()</td>\n    </tr>\n    <tr>\n      <td id=\"T_65ab6_row16_col0\" class=\"data row16 col0\" >0.761</td>\n      <td id=\"T_65ab6_row16_col1\" class=\"data row16 col1\" >0.741</td>\n      <td id=\"T_65ab6_row16_col2\" class=\"data row16 col2\" >0.781</td>\n      <td id=\"T_65ab6_row16_col3\" class=\"data row16 col3\" >1.000</td>\n      <td id=\"T_65ab6_row16_col4\" class=\"data row16 col4\" >0.837</td>\n      <td id=\"T_65ab6_row16_col5\" class=\"data row16 col5\" >0.822</td>\n      <td id=\"T_65ab6_row16_col6\" class=\"data row16 col6\" >0.851</td>\n      <td id=\"T_65ab6_row16_col7\" class=\"data row16 col7\" >1.000</td>\n      <td id=\"T_65ab6_row16_col8\" class=\"data row16 col8\" >0.772</td>\n      <td id=\"T_65ab6_row16_col9\" class=\"data row16 col9\" >0.744</td>\n      <td id=\"T_65ab6_row16_col10\" class=\"data row16 col10\" >0.800</td>\n      <td id=\"T_65ab6_row16_col11\" class=\"data row16 col11\" >1.000</td>\n      <td id=\"T_65ab6_row16_col12\" class=\"data row16 col12\" >0.915</td>\n      <td id=\"T_65ab6_row16_col13\" class=\"data row16 col13\" >0.899</td>\n      <td id=\"T_65ab6_row16_col14\" class=\"data row16 col14\" >0.932</td>\n      <td id=\"T_65ab6_row16_col15\" class=\"data row16 col15\" >1.000</td>\n      <td id=\"T_65ab6_row16_col16\" class=\"data row16 col16\" >auto</td>\n      <td id=\"T_65ab6_row16_col17\" class=\"data row16 col17\" >50</td>\n      <td id=\"T_65ab6_row16_col18\" class=\"data row16 col18\" >OneHotEncoder()</td>\n      <td id=\"T_65ab6_row16_col19\" class=\"data row16 col19\" >SimpleImputer()</td>\n      <td id=\"T_65ab6_row16_col20\" class=\"data row16 col20\" >MinMaxScaler()</td>\n    </tr>\n    <tr>\n      <td id=\"T_65ab6_row17_col0\" class=\"data row17 col0\" >0.760</td>\n      <td id=\"T_65ab6_row17_col1\" class=\"data row17 col1\" >0.739</td>\n      <td id=\"T_65ab6_row17_col2\" class=\"data row17 col2\" >0.780</td>\n      <td id=\"T_65ab6_row17_col3\" class=\"data row17 col3\" >1.000</td>\n      <td id=\"T_65ab6_row17_col4\" class=\"data row17 col4\" >0.835</td>\n      <td id=\"T_65ab6_row17_col5\" class=\"data row17 col5\" >0.821</td>\n      <td id=\"T_65ab6_row17_col6\" class=\"data row17 col6\" >0.849</td>\n      <td id=\"T_65ab6_row17_col7\" class=\"data row17 col7\" >1.000</td>\n      <td id=\"T_65ab6_row17_col8\" class=\"data row17 col8\" >0.770</td>\n      <td id=\"T_65ab6_row17_col9\" class=\"data row17 col9\" >0.743</td>\n      <td id=\"T_65ab6_row17_col10\" class=\"data row17 col10\" >0.798</td>\n      <td id=\"T_65ab6_row17_col11\" class=\"data row17 col11\" >1.000</td>\n      <td id=\"T_65ab6_row17_col12\" class=\"data row17 col12\" >0.914</td>\n      <td id=\"T_65ab6_row17_col13\" class=\"data row17 col13\" >0.897</td>\n      <td id=\"T_65ab6_row17_col14\" class=\"data row17 col14\" >0.930</td>\n      <td id=\"T_65ab6_row17_col15\" class=\"data row17 col15\" >1.000</td>\n      <td id=\"T_65ab6_row17_col16\" class=\"data row17 col16\" >auto</td>\n      <td id=\"T_65ab6_row17_col17\" class=\"data row17 col17\" >50</td>\n      <td id=\"T_65ab6_row17_col18\" class=\"data row17 col18\" >OneHotEncoder()</td>\n      <td id=\"T_65ab6_row17_col19\" class=\"data row17 col19\" >SimpleImputer()</td>\n      <td id=\"T_65ab6_row17_col20\" class=\"data row17 col20\" >StandardScaler()</td>\n    </tr>\n    <tr>\n      <td id=\"T_65ab6_row18_col0\" class=\"data row18 col0\" >0.759</td>\n      <td id=\"T_65ab6_row18_col1\" class=\"data row18 col1\" >0.727</td>\n      <td id=\"T_65ab6_row18_col2\" class=\"data row18 col2\" >0.791</td>\n      <td id=\"T_65ab6_row18_col3\" class=\"data row18 col3\" >1.000</td>\n      <td id=\"T_65ab6_row18_col4\" class=\"data row18 col4\" >0.832</td>\n      <td id=\"T_65ab6_row18_col5\" class=\"data row18 col5\" >0.821</td>\n      <td id=\"T_65ab6_row18_col6\" class=\"data row18 col6\" >0.842</td>\n      <td id=\"T_65ab6_row18_col7\" class=\"data row18 col7\" >1.000</td>\n      <td id=\"T_65ab6_row18_col8\" class=\"data row18 col8\" >0.776</td>\n      <td id=\"T_65ab6_row18_col9\" class=\"data row18 col9\" >0.754</td>\n      <td id=\"T_65ab6_row18_col10\" class=\"data row18 col10\" >0.799</td>\n      <td id=\"T_65ab6_row18_col11\" class=\"data row18 col11\" >1.000</td>\n      <td id=\"T_65ab6_row18_col12\" class=\"data row18 col12\" >0.897</td>\n      <td id=\"T_65ab6_row18_col13\" class=\"data row18 col13\" >0.880</td>\n      <td id=\"T_65ab6_row18_col14\" class=\"data row18 col14\" >0.914</td>\n      <td id=\"T_65ab6_row18_col15\" class=\"data row18 col15\" >1.000</td>\n      <td id=\"T_65ab6_row18_col16\" class=\"data row18 col16\" >10</td>\n      <td id=\"T_65ab6_row18_col17\" class=\"data row18 col17\" >50</td>\n      <td id=\"T_65ab6_row18_col18\" class=\"data row18 col18\" >OneHotEncoder()</td>\n      <td id=\"T_65ab6_row18_col19\" class=\"data row18 col19\" >SimpleImputer()</td>\n      <td id=\"T_65ab6_row18_col20\" class=\"data row18 col20\" >StandardScaler()</td>\n    </tr>\n    <tr>\n      <td id=\"T_65ab6_row19_col0\" class=\"data row19 col0\" >0.759</td>\n      <td id=\"T_65ab6_row19_col1\" class=\"data row19 col1\" >0.727</td>\n      <td id=\"T_65ab6_row19_col2\" class=\"data row19 col2\" >0.791</td>\n      <td id=\"T_65ab6_row19_col3\" class=\"data row19 col3\" >1.000</td>\n      <td id=\"T_65ab6_row19_col4\" class=\"data row19 col4\" >0.832</td>\n      <td id=\"T_65ab6_row19_col5\" class=\"data row19 col5\" >0.821</td>\n      <td id=\"T_65ab6_row19_col6\" class=\"data row19 col6\" >0.842</td>\n      <td id=\"T_65ab6_row19_col7\" class=\"data row19 col7\" >1.000</td>\n      <td id=\"T_65ab6_row19_col8\" class=\"data row19 col8\" >0.776</td>\n      <td id=\"T_65ab6_row19_col9\" class=\"data row19 col9\" >0.753</td>\n      <td id=\"T_65ab6_row19_col10\" class=\"data row19 col10\" >0.799</td>\n      <td id=\"T_65ab6_row19_col11\" class=\"data row19 col11\" >1.000</td>\n      <td id=\"T_65ab6_row19_col12\" class=\"data row19 col12\" >0.898</td>\n      <td id=\"T_65ab6_row19_col13\" class=\"data row19 col13\" >0.881</td>\n      <td id=\"T_65ab6_row19_col14\" class=\"data row19 col14\" >0.915</td>\n      <td id=\"T_65ab6_row19_col15\" class=\"data row19 col15\" >1.000</td>\n      <td id=\"T_65ab6_row19_col16\" class=\"data row19 col16\" >10</td>\n      <td id=\"T_65ab6_row19_col17\" class=\"data row19 col17\" >50</td>\n      <td id=\"T_65ab6_row19_col18\" class=\"data row19 col18\" >OneHotEncoder()</td>\n      <td id=\"T_65ab6_row19_col19\" class=\"data row19 col19\" >SimpleImputer()</td>\n      <td id=\"T_65ab6_row19_col20\" class=\"data row19 col20\" >MinMaxScaler()</td>\n    </tr>\n    <tr>\n      <td id=\"T_65ab6_row20_col0\" class=\"data row20 col0\" >0.758</td>\n      <td id=\"T_65ab6_row20_col1\" class=\"data row20 col1\" >0.732</td>\n      <td id=\"T_65ab6_row20_col2\" class=\"data row20 col2\" >0.784</td>\n      <td id=\"T_65ab6_row20_col3\" class=\"data row20 col3\" >1.000</td>\n      <td id=\"T_65ab6_row20_col4\" class=\"data row20 col4\" >0.837</td>\n      <td id=\"T_65ab6_row20_col5\" class=\"data row20 col5\" >0.825</td>\n      <td id=\"T_65ab6_row20_col6\" class=\"data row20 col6\" >0.848</td>\n      <td id=\"T_65ab6_row20_col7\" class=\"data row20 col7\" >1.000</td>\n      <td id=\"T_65ab6_row20_col8\" class=\"data row20 col8\" >0.750</td>\n      <td id=\"T_65ab6_row20_col9\" class=\"data row20 col9\" >0.729</td>\n      <td id=\"T_65ab6_row20_col10\" class=\"data row20 col10\" >0.771</td>\n      <td id=\"T_65ab6_row20_col11\" class=\"data row20 col11\" >1.000</td>\n      <td id=\"T_65ab6_row20_col12\" class=\"data row20 col12\" >0.948</td>\n      <td id=\"T_65ab6_row20_col13\" class=\"data row20 col13\" >0.930</td>\n      <td id=\"T_65ab6_row20_col14\" class=\"data row20 col14\" >0.966</td>\n      <td id=\"T_65ab6_row20_col15\" class=\"data row20 col15\" >1.000</td>\n      <td id=\"T_65ab6_row20_col16\" class=\"data row20 col16\" >2</td>\n      <td id=\"T_65ab6_row20_col17\" class=\"data row20 col17\" >100</td>\n      <td id=\"T_65ab6_row20_col18\" class=\"data row20 col18\" >OneHotEncoder()</td>\n      <td id=\"T_65ab6_row20_col19\" class=\"data row20 col19\" >SimpleImputer()</td>\n      <td id=\"T_65ab6_row20_col20\" class=\"data row20 col20\" >StandardScaler()</td>\n    </tr>\n    <tr>\n      <td id=\"T_65ab6_row21_col0\" class=\"data row21 col0\" >0.758</td>\n      <td id=\"T_65ab6_row21_col1\" class=\"data row21 col1\" >0.732</td>\n      <td id=\"T_65ab6_row21_col2\" class=\"data row21 col2\" >0.784</td>\n      <td id=\"T_65ab6_row21_col3\" class=\"data row21 col3\" >1.000</td>\n      <td id=\"T_65ab6_row21_col4\" class=\"data row21 col4\" >0.838</td>\n      <td id=\"T_65ab6_row21_col5\" class=\"data row21 col5\" >0.827</td>\n      <td id=\"T_65ab6_row21_col6\" class=\"data row21 col6\" >0.850</td>\n      <td id=\"T_65ab6_row21_col7\" class=\"data row21 col7\" >1.000</td>\n      <td id=\"T_65ab6_row21_col8\" class=\"data row21 col8\" >0.751</td>\n      <td id=\"T_65ab6_row21_col9\" class=\"data row21 col9\" >0.730</td>\n      <td id=\"T_65ab6_row21_col10\" class=\"data row21 col10\" >0.772</td>\n      <td id=\"T_65ab6_row21_col11\" class=\"data row21 col11\" >1.000</td>\n      <td id=\"T_65ab6_row21_col12\" class=\"data row21 col12\" >0.950</td>\n      <td id=\"T_65ab6_row21_col13\" class=\"data row21 col13\" >0.934</td>\n      <td id=\"T_65ab6_row21_col14\" class=\"data row21 col14\" >0.967</td>\n      <td id=\"T_65ab6_row21_col15\" class=\"data row21 col15\" >1.000</td>\n      <td id=\"T_65ab6_row21_col16\" class=\"data row21 col16\" >2</td>\n      <td id=\"T_65ab6_row21_col17\" class=\"data row21 col17\" >100</td>\n      <td id=\"T_65ab6_row21_col18\" class=\"data row21 col18\" >OneHotEncoder()</td>\n      <td id=\"T_65ab6_row21_col19\" class=\"data row21 col19\" >SimpleImputer()</td>\n      <td id=\"T_65ab6_row21_col20\" class=\"data row21 col20\" >MinMaxScaler()</td>\n    </tr>\n    <tr>\n      <td id=\"T_65ab6_row22_col0\" class=\"data row22 col0\" >0.754</td>\n      <td id=\"T_65ab6_row22_col1\" class=\"data row22 col1\" >0.740</td>\n      <td id=\"T_65ab6_row22_col2\" class=\"data row22 col2\" >0.767</td>\n      <td id=\"T_65ab6_row22_col3\" class=\"data row22 col3\" >1.000</td>\n      <td id=\"T_65ab6_row22_col4\" class=\"data row22 col4\" >0.825</td>\n      <td id=\"T_65ab6_row22_col5\" class=\"data row22 col5\" >0.813</td>\n      <td id=\"T_65ab6_row22_col6\" class=\"data row22 col6\" >0.838</td>\n      <td id=\"T_65ab6_row22_col7\" class=\"data row22 col7\" >1.000</td>\n      <td id=\"T_65ab6_row22_col8\" class=\"data row22 col8\" >0.760</td>\n      <td id=\"T_65ab6_row22_col9\" class=\"data row22 col9\" >0.733</td>\n      <td id=\"T_65ab6_row22_col10\" class=\"data row22 col10\" >0.786</td>\n      <td id=\"T_65ab6_row22_col11\" class=\"data row22 col11\" >1.000</td>\n      <td id=\"T_65ab6_row22_col12\" class=\"data row22 col12\" >0.906</td>\n      <td id=\"T_65ab6_row22_col13\" class=\"data row22 col13\" >0.880</td>\n      <td id=\"T_65ab6_row22_col14\" class=\"data row22 col14\" >0.932</td>\n      <td id=\"T_65ab6_row22_col15\" class=\"data row22 col15\" >1.000</td>\n      <td id=\"T_65ab6_row22_col16\" class=\"data row22 col16\" >2</td>\n      <td id=\"T_65ab6_row22_col17\" class=\"data row22 col17\" >50</td>\n      <td id=\"T_65ab6_row22_col18\" class=\"data row22 col18\" >CustomOrdinalEncoder()</td>\n      <td id=\"T_65ab6_row22_col19\" class=\"data row22 col19\" >SimpleImputer()</td>\n      <td id=\"T_65ab6_row22_col20\" class=\"data row22 col20\" >StandardScaler()</td>\n    </tr>\n    <tr>\n      <td id=\"T_65ab6_row23_col0\" class=\"data row23 col0\" >0.754</td>\n      <td id=\"T_65ab6_row23_col1\" class=\"data row23 col1\" >0.739</td>\n      <td id=\"T_65ab6_row23_col2\" class=\"data row23 col2\" >0.768</td>\n      <td id=\"T_65ab6_row23_col3\" class=\"data row23 col3\" >1.000</td>\n      <td id=\"T_65ab6_row23_col4\" class=\"data row23 col4\" >0.827</td>\n      <td id=\"T_65ab6_row23_col5\" class=\"data row23 col5\" >0.813</td>\n      <td id=\"T_65ab6_row23_col6\" class=\"data row23 col6\" >0.840</td>\n      <td id=\"T_65ab6_row23_col7\" class=\"data row23 col7\" >1.000</td>\n      <td id=\"T_65ab6_row23_col8\" class=\"data row23 col8\" >0.759</td>\n      <td id=\"T_65ab6_row23_col9\" class=\"data row23 col9\" >0.733</td>\n      <td id=\"T_65ab6_row23_col10\" class=\"data row23 col10\" >0.785</td>\n      <td id=\"T_65ab6_row23_col11\" class=\"data row23 col11\" >1.000</td>\n      <td id=\"T_65ab6_row23_col12\" class=\"data row23 col12\" >0.910</td>\n      <td id=\"T_65ab6_row23_col13\" class=\"data row23 col13\" >0.887</td>\n      <td id=\"T_65ab6_row23_col14\" class=\"data row23 col14\" >0.933</td>\n      <td id=\"T_65ab6_row23_col15\" class=\"data row23 col15\" >1.000</td>\n      <td id=\"T_65ab6_row23_col16\" class=\"data row23 col16\" >2</td>\n      <td id=\"T_65ab6_row23_col17\" class=\"data row23 col17\" >50</td>\n      <td id=\"T_65ab6_row23_col18\" class=\"data row23 col18\" >CustomOrdinalEncoder()</td>\n      <td id=\"T_65ab6_row23_col19\" class=\"data row23 col19\" >SimpleImputer()</td>\n      <td id=\"T_65ab6_row23_col20\" class=\"data row23 col20\" >MinMaxScaler()</td>\n    </tr>\n    <tr>\n      <td id=\"T_65ab6_row24_col0\" class=\"data row24 col0\" >0.751</td>\n      <td id=\"T_65ab6_row24_col1\" class=\"data row24 col1\" >0.727</td>\n      <td id=\"T_65ab6_row24_col2\" class=\"data row24 col2\" >0.774</td>\n      <td id=\"T_65ab6_row24_col3\" class=\"data row24 col3\" >1.000</td>\n      <td id=\"T_65ab6_row24_col4\" class=\"data row24 col4\" >0.821</td>\n      <td id=\"T_65ab6_row24_col5\" class=\"data row24 col5\" >0.810</td>\n      <td id=\"T_65ab6_row24_col6\" class=\"data row24 col6\" >0.832</td>\n      <td id=\"T_65ab6_row24_col7\" class=\"data row24 col7\" >1.000</td>\n      <td id=\"T_65ab6_row24_col8\" class=\"data row24 col8\" >0.763</td>\n      <td id=\"T_65ab6_row24_col9\" class=\"data row24 col9\" >0.740</td>\n      <td id=\"T_65ab6_row24_col10\" class=\"data row24 col10\" >0.787</td>\n      <td id=\"T_65ab6_row24_col11\" class=\"data row24 col11\" >1.000</td>\n      <td id=\"T_65ab6_row24_col12\" class=\"data row24 col12\" >0.890</td>\n      <td id=\"T_65ab6_row24_col13\" class=\"data row24 col13\" >0.881</td>\n      <td id=\"T_65ab6_row24_col14\" class=\"data row24 col14\" >0.898</td>\n      <td id=\"T_65ab6_row24_col15\" class=\"data row24 col15\" >1.000</td>\n      <td id=\"T_65ab6_row24_col16\" class=\"data row24 col16\" >auto</td>\n      <td id=\"T_65ab6_row24_col17\" class=\"data row24 col17\" >100</td>\n      <td id=\"T_65ab6_row24_col18\" class=\"data row24 col18\" >CustomOrdinalEncoder()</td>\n      <td id=\"T_65ab6_row24_col19\" class=\"data row24 col19\" >SimpleImputer()</td>\n      <td id=\"T_65ab6_row24_col20\" class=\"data row24 col20\" >StandardScaler()</td>\n    </tr>\n    <tr>\n      <td id=\"T_65ab6_row25_col0\" class=\"data row25 col0\" >0.751</td>\n      <td id=\"T_65ab6_row25_col1\" class=\"data row25 col1\" >0.722</td>\n      <td id=\"T_65ab6_row25_col2\" class=\"data row25 col2\" >0.780</td>\n      <td id=\"T_65ab6_row25_col3\" class=\"data row25 col3\" >1.000</td>\n      <td id=\"T_65ab6_row25_col4\" class=\"data row25 col4\" >0.834</td>\n      <td id=\"T_65ab6_row25_col5\" class=\"data row25 col5\" >0.818</td>\n      <td id=\"T_65ab6_row25_col6\" class=\"data row25 col6\" >0.850</td>\n      <td id=\"T_65ab6_row25_col7\" class=\"data row25 col7\" >1.000</td>\n      <td id=\"T_65ab6_row25_col8\" class=\"data row25 col8\" >0.752</td>\n      <td id=\"T_65ab6_row25_col9\" class=\"data row25 col9\" >0.728</td>\n      <td id=\"T_65ab6_row25_col10\" class=\"data row25 col10\" >0.776</td>\n      <td id=\"T_65ab6_row25_col11\" class=\"data row25 col11\" >1.000</td>\n      <td id=\"T_65ab6_row25_col12\" class=\"data row25 col12\" >0.938</td>\n      <td id=\"T_65ab6_row25_col13\" class=\"data row25 col13\" >0.920</td>\n      <td id=\"T_65ab6_row25_col14\" class=\"data row25 col14\" >0.955</td>\n      <td id=\"T_65ab6_row25_col15\" class=\"data row25 col15\" >1.000</td>\n      <td id=\"T_65ab6_row25_col16\" class=\"data row25 col16\" >2</td>\n      <td id=\"T_65ab6_row25_col17\" class=\"data row25 col17\" >50</td>\n      <td id=\"T_65ab6_row25_col18\" class=\"data row25 col18\" >OneHotEncoder()</td>\n      <td id=\"T_65ab6_row25_col19\" class=\"data row25 col19\" >SimpleImputer()</td>\n      <td id=\"T_65ab6_row25_col20\" class=\"data row25 col20\" >MinMaxScaler()</td>\n    </tr>\n    <tr>\n      <td id=\"T_65ab6_row26_col0\" class=\"data row26 col0\" >0.751</td>\n      <td id=\"T_65ab6_row26_col1\" class=\"data row26 col1\" >0.724</td>\n      <td id=\"T_65ab6_row26_col2\" class=\"data row26 col2\" >0.778</td>\n      <td id=\"T_65ab6_row26_col3\" class=\"data row26 col3\" >1.000</td>\n      <td id=\"T_65ab6_row26_col4\" class=\"data row26 col4\" >0.816</td>\n      <td id=\"T_65ab6_row26_col5\" class=\"data row26 col5\" >0.801</td>\n      <td id=\"T_65ab6_row26_col6\" class=\"data row26 col6\" >0.830</td>\n      <td id=\"T_65ab6_row26_col7\" class=\"data row26 col7\" >1.000</td>\n      <td id=\"T_65ab6_row26_col8\" class=\"data row26 col8\" >0.770</td>\n      <td id=\"T_65ab6_row26_col9\" class=\"data row26 col9\" >0.742</td>\n      <td id=\"T_65ab6_row26_col10\" class=\"data row26 col10\" >0.798</td>\n      <td id=\"T_65ab6_row26_col11\" class=\"data row26 col11\" >1.000</td>\n      <td id=\"T_65ab6_row26_col12\" class=\"data row26 col12\" >0.869</td>\n      <td id=\"T_65ab6_row26_col13\" class=\"data row26 col13\" >0.855</td>\n      <td id=\"T_65ab6_row26_col14\" class=\"data row26 col14\" >0.883</td>\n      <td id=\"T_65ab6_row26_col15\" class=\"data row26 col15\" >1.000</td>\n      <td id=\"T_65ab6_row26_col16\" class=\"data row26 col16\" >10</td>\n      <td id=\"T_65ab6_row26_col17\" class=\"data row26 col17\" >500</td>\n      <td id=\"T_65ab6_row26_col18\" class=\"data row26 col18\" >CustomOrdinalEncoder()</td>\n      <td id=\"T_65ab6_row26_col19\" class=\"data row26 col19\" >SimpleImputer()</td>\n      <td id=\"T_65ab6_row26_col20\" class=\"data row26 col20\" >StandardScaler()</td>\n    </tr>\n    <tr>\n      <td id=\"T_65ab6_row27_col0\" class=\"data row27 col0\" >0.751</td>\n      <td id=\"T_65ab6_row27_col1\" class=\"data row27 col1\" >0.724</td>\n      <td id=\"T_65ab6_row27_col2\" class=\"data row27 col2\" >0.778</td>\n      <td id=\"T_65ab6_row27_col3\" class=\"data row27 col3\" >1.000</td>\n      <td id=\"T_65ab6_row27_col4\" class=\"data row27 col4\" >0.817</td>\n      <td id=\"T_65ab6_row27_col5\" class=\"data row27 col5\" >0.803</td>\n      <td id=\"T_65ab6_row27_col6\" class=\"data row27 col6\" >0.831</td>\n      <td id=\"T_65ab6_row27_col7\" class=\"data row27 col7\" >1.000</td>\n      <td id=\"T_65ab6_row27_col8\" class=\"data row27 col8\" >0.771</td>\n      <td id=\"T_65ab6_row27_col9\" class=\"data row27 col9\" >0.743</td>\n      <td id=\"T_65ab6_row27_col10\" class=\"data row27 col10\" >0.799</td>\n      <td id=\"T_65ab6_row27_col11\" class=\"data row27 col11\" >1.000</td>\n      <td id=\"T_65ab6_row27_col12\" class=\"data row27 col12\" >0.871</td>\n      <td id=\"T_65ab6_row27_col13\" class=\"data row27 col13\" >0.857</td>\n      <td id=\"T_65ab6_row27_col14\" class=\"data row27 col14\" >0.885</td>\n      <td id=\"T_65ab6_row27_col15\" class=\"data row27 col15\" >1.000</td>\n      <td id=\"T_65ab6_row27_col16\" class=\"data row27 col16\" >10</td>\n      <td id=\"T_65ab6_row27_col17\" class=\"data row27 col17\" >500</td>\n      <td id=\"T_65ab6_row27_col18\" class=\"data row27 col18\" >CustomOrdinalEncoder()</td>\n      <td id=\"T_65ab6_row27_col19\" class=\"data row27 col19\" >SimpleImputer()</td>\n      <td id=\"T_65ab6_row27_col20\" class=\"data row27 col20\" >MinMaxScaler()</td>\n    </tr>\n    <tr>\n      <td id=\"T_65ab6_row28_col0\" class=\"data row28 col0\" >0.751</td>\n      <td id=\"T_65ab6_row28_col1\" class=\"data row28 col1\" >0.721</td>\n      <td id=\"T_65ab6_row28_col2\" class=\"data row28 col2\" >0.780</td>\n      <td id=\"T_65ab6_row28_col3\" class=\"data row28 col3\" >1.000</td>\n      <td id=\"T_65ab6_row28_col4\" class=\"data row28 col4\" >0.834</td>\n      <td id=\"T_65ab6_row28_col5\" class=\"data row28 col5\" >0.818</td>\n      <td id=\"T_65ab6_row28_col6\" class=\"data row28 col6\" >0.851</td>\n      <td id=\"T_65ab6_row28_col7\" class=\"data row28 col7\" >1.000</td>\n      <td id=\"T_65ab6_row28_col8\" class=\"data row28 col8\" >0.753</td>\n      <td id=\"T_65ab6_row28_col9\" class=\"data row28 col9\" >0.729</td>\n      <td id=\"T_65ab6_row28_col10\" class=\"data row28 col10\" >0.776</td>\n      <td id=\"T_65ab6_row28_col11\" class=\"data row28 col11\" >1.000</td>\n      <td id=\"T_65ab6_row28_col12\" class=\"data row28 col12\" >0.938</td>\n      <td id=\"T_65ab6_row28_col13\" class=\"data row28 col13\" >0.920</td>\n      <td id=\"T_65ab6_row28_col14\" class=\"data row28 col14\" >0.955</td>\n      <td id=\"T_65ab6_row28_col15\" class=\"data row28 col15\" >1.000</td>\n      <td id=\"T_65ab6_row28_col16\" class=\"data row28 col16\" >2</td>\n      <td id=\"T_65ab6_row28_col17\" class=\"data row28 col17\" >50</td>\n      <td id=\"T_65ab6_row28_col18\" class=\"data row28 col18\" >OneHotEncoder()</td>\n      <td id=\"T_65ab6_row28_col19\" class=\"data row28 col19\" >SimpleImputer()</td>\n      <td id=\"T_65ab6_row28_col20\" class=\"data row28 col20\" >StandardScaler()</td>\n    </tr>\n    <tr>\n      <td id=\"T_65ab6_row29_col0\" class=\"data row29 col0\" >0.750</td>\n      <td id=\"T_65ab6_row29_col1\" class=\"data row29 col1\" >0.727</td>\n      <td id=\"T_65ab6_row29_col2\" class=\"data row29 col2\" >0.774</td>\n      <td id=\"T_65ab6_row29_col3\" class=\"data row29 col3\" >1.000</td>\n      <td id=\"T_65ab6_row29_col4\" class=\"data row29 col4\" >0.819</td>\n      <td id=\"T_65ab6_row29_col5\" class=\"data row29 col5\" >0.809</td>\n      <td id=\"T_65ab6_row29_col6\" class=\"data row29 col6\" >0.829</td>\n      <td id=\"T_65ab6_row29_col7\" class=\"data row29 col7\" >1.000</td>\n      <td id=\"T_65ab6_row29_col8\" class=\"data row29 col8\" >0.762</td>\n      <td id=\"T_65ab6_row29_col9\" class=\"data row29 col9\" >0.739</td>\n      <td id=\"T_65ab6_row29_col10\" class=\"data row29 col10\" >0.786</td>\n      <td id=\"T_65ab6_row29_col11\" class=\"data row29 col11\" >1.000</td>\n      <td id=\"T_65ab6_row29_col12\" class=\"data row29 col12\" >0.886</td>\n      <td id=\"T_65ab6_row29_col13\" class=\"data row29 col13\" >0.875</td>\n      <td id=\"T_65ab6_row29_col14\" class=\"data row29 col14\" >0.897</td>\n      <td id=\"T_65ab6_row29_col15\" class=\"data row29 col15\" >1.000</td>\n      <td id=\"T_65ab6_row29_col16\" class=\"data row29 col16\" >auto</td>\n      <td id=\"T_65ab6_row29_col17\" class=\"data row29 col17\" >100</td>\n      <td id=\"T_65ab6_row29_col18\" class=\"data row29 col18\" >CustomOrdinalEncoder()</td>\n      <td id=\"T_65ab6_row29_col19\" class=\"data row29 col19\" >SimpleImputer()</td>\n      <td id=\"T_65ab6_row29_col20\" class=\"data row29 col20\" >MinMaxScaler()</td>\n    </tr>\n    <tr>\n      <td id=\"T_65ab6_row30_col0\" class=\"data row30 col0\" >0.747</td>\n      <td id=\"T_65ab6_row30_col1\" class=\"data row30 col1\" >0.721</td>\n      <td id=\"T_65ab6_row30_col2\" class=\"data row30 col2\" >0.773</td>\n      <td id=\"T_65ab6_row30_col3\" class=\"data row30 col3\" >1.000</td>\n      <td id=\"T_65ab6_row30_col4\" class=\"data row30 col4\" >0.813</td>\n      <td id=\"T_65ab6_row30_col5\" class=\"data row30 col5\" >0.802</td>\n      <td id=\"T_65ab6_row30_col6\" class=\"data row30 col6\" >0.825</td>\n      <td id=\"T_65ab6_row30_col7\" class=\"data row30 col7\" >1.000</td>\n      <td id=\"T_65ab6_row30_col8\" class=\"data row30 col8\" >0.768</td>\n      <td id=\"T_65ab6_row30_col9\" class=\"data row30 col9\" >0.745</td>\n      <td id=\"T_65ab6_row30_col10\" class=\"data row30 col10\" >0.792</td>\n      <td id=\"T_65ab6_row30_col11\" class=\"data row30 col11\" >1.000</td>\n      <td id=\"T_65ab6_row30_col12\" class=\"data row30 col12\" >0.866</td>\n      <td id=\"T_65ab6_row30_col13\" class=\"data row30 col13\" >0.846</td>\n      <td id=\"T_65ab6_row30_col14\" class=\"data row30 col14\" >0.885</td>\n      <td id=\"T_65ab6_row30_col15\" class=\"data row30 col15\" >1.000</td>\n      <td id=\"T_65ab6_row30_col16\" class=\"data row30 col16\" >10</td>\n      <td id=\"T_65ab6_row30_col17\" class=\"data row30 col17\" >100</td>\n      <td id=\"T_65ab6_row30_col18\" class=\"data row30 col18\" >CustomOrdinalEncoder()</td>\n      <td id=\"T_65ab6_row30_col19\" class=\"data row30 col19\" >SimpleImputer()</td>\n      <td id=\"T_65ab6_row30_col20\" class=\"data row30 col20\" >StandardScaler()</td>\n    </tr>\n    <tr>\n      <td id=\"T_65ab6_row31_col0\" class=\"data row31 col0\" >0.747</td>\n      <td id=\"T_65ab6_row31_col1\" class=\"data row31 col1\" >0.722</td>\n      <td id=\"T_65ab6_row31_col2\" class=\"data row31 col2\" >0.773</td>\n      <td id=\"T_65ab6_row31_col3\" class=\"data row31 col3\" >1.000</td>\n      <td id=\"T_65ab6_row31_col4\" class=\"data row31 col4\" >0.812</td>\n      <td id=\"T_65ab6_row31_col5\" class=\"data row31 col5\" >0.800</td>\n      <td id=\"T_65ab6_row31_col6\" class=\"data row31 col6\" >0.824</td>\n      <td id=\"T_65ab6_row31_col7\" class=\"data row31 col7\" >1.000</td>\n      <td id=\"T_65ab6_row31_col8\" class=\"data row31 col8\" >0.768</td>\n      <td id=\"T_65ab6_row31_col9\" class=\"data row31 col9\" >0.744</td>\n      <td id=\"T_65ab6_row31_col10\" class=\"data row31 col10\" >0.792</td>\n      <td id=\"T_65ab6_row31_col11\" class=\"data row31 col11\" >1.000</td>\n      <td id=\"T_65ab6_row31_col12\" class=\"data row31 col12\" >0.863</td>\n      <td id=\"T_65ab6_row31_col13\" class=\"data row31 col13\" >0.841</td>\n      <td id=\"T_65ab6_row31_col14\" class=\"data row31 col14\" >0.885</td>\n      <td id=\"T_65ab6_row31_col15\" class=\"data row31 col15\" >1.000</td>\n      <td id=\"T_65ab6_row31_col16\" class=\"data row31 col16\" >10</td>\n      <td id=\"T_65ab6_row31_col17\" class=\"data row31 col17\" >100</td>\n      <td id=\"T_65ab6_row31_col18\" class=\"data row31 col18\" >CustomOrdinalEncoder()</td>\n      <td id=\"T_65ab6_row31_col19\" class=\"data row31 col19\" >SimpleImputer()</td>\n      <td id=\"T_65ab6_row31_col20\" class=\"data row31 col20\" >MinMaxScaler()</td>\n    </tr>\n    <tr>\n      <td id=\"T_65ab6_row32_col0\" class=\"data row32 col0\" >0.746</td>\n      <td id=\"T_65ab6_row32_col1\" class=\"data row32 col1\" >0.720</td>\n      <td id=\"T_65ab6_row32_col2\" class=\"data row32 col2\" >0.771</td>\n      <td id=\"T_65ab6_row32_col3\" class=\"data row32 col3\" >1.000</td>\n      <td id=\"T_65ab6_row32_col4\" class=\"data row32 col4\" >0.814</td>\n      <td id=\"T_65ab6_row32_col5\" class=\"data row32 col5\" >0.799</td>\n      <td id=\"T_65ab6_row32_col6\" class=\"data row32 col6\" >0.828</td>\n      <td id=\"T_65ab6_row32_col7\" class=\"data row32 col7\" >1.000</td>\n      <td id=\"T_65ab6_row32_col8\" class=\"data row32 col8\" >0.775</td>\n      <td id=\"T_65ab6_row32_col9\" class=\"data row32 col9\" >0.749</td>\n      <td id=\"T_65ab6_row32_col10\" class=\"data row32 col10\" >0.800</td>\n      <td id=\"T_65ab6_row32_col11\" class=\"data row32 col11\" >1.000</td>\n      <td id=\"T_65ab6_row32_col12\" class=\"data row32 col12\" >0.859</td>\n      <td id=\"T_65ab6_row32_col13\" class=\"data row32 col13\" >0.840</td>\n      <td id=\"T_65ab6_row32_col14\" class=\"data row32 col14\" >0.878</td>\n      <td id=\"T_65ab6_row32_col15\" class=\"data row32 col15\" >1.000</td>\n      <td id=\"T_65ab6_row32_col16\" class=\"data row32 col16\" >10</td>\n      <td id=\"T_65ab6_row32_col17\" class=\"data row32 col17\" >50</td>\n      <td id=\"T_65ab6_row32_col18\" class=\"data row32 col18\" >CustomOrdinalEncoder()</td>\n      <td id=\"T_65ab6_row32_col19\" class=\"data row32 col19\" >SimpleImputer()</td>\n      <td id=\"T_65ab6_row32_col20\" class=\"data row32 col20\" >MinMaxScaler()</td>\n    </tr>\n    <tr>\n      <td id=\"T_65ab6_row33_col0\" class=\"data row33 col0\" >0.745</td>\n      <td id=\"T_65ab6_row33_col1\" class=\"data row33 col1\" >0.719</td>\n      <td id=\"T_65ab6_row33_col2\" class=\"data row33 col2\" >0.771</td>\n      <td id=\"T_65ab6_row33_col3\" class=\"data row33 col3\" >1.000</td>\n      <td id=\"T_65ab6_row33_col4\" class=\"data row33 col4\" >0.814</td>\n      <td id=\"T_65ab6_row33_col5\" class=\"data row33 col5\" >0.800</td>\n      <td id=\"T_65ab6_row33_col6\" class=\"data row33 col6\" >0.829</td>\n      <td id=\"T_65ab6_row33_col7\" class=\"data row33 col7\" >1.000</td>\n      <td id=\"T_65ab6_row33_col8\" class=\"data row33 col8\" >0.775</td>\n      <td id=\"T_65ab6_row33_col9\" class=\"data row33 col9\" >0.749</td>\n      <td id=\"T_65ab6_row33_col10\" class=\"data row33 col10\" >0.800</td>\n      <td id=\"T_65ab6_row33_col11\" class=\"data row33 col11\" >1.000</td>\n      <td id=\"T_65ab6_row33_col12\" class=\"data row33 col12\" >0.860</td>\n      <td id=\"T_65ab6_row33_col13\" class=\"data row33 col13\" >0.840</td>\n      <td id=\"T_65ab6_row33_col14\" class=\"data row33 col14\" >0.881</td>\n      <td id=\"T_65ab6_row33_col15\" class=\"data row33 col15\" >1.000</td>\n      <td id=\"T_65ab6_row33_col16\" class=\"data row33 col16\" >10</td>\n      <td id=\"T_65ab6_row33_col17\" class=\"data row33 col17\" >50</td>\n      <td id=\"T_65ab6_row33_col18\" class=\"data row33 col18\" >CustomOrdinalEncoder()</td>\n      <td id=\"T_65ab6_row33_col19\" class=\"data row33 col19\" >SimpleImputer()</td>\n      <td id=\"T_65ab6_row33_col20\" class=\"data row33 col20\" >StandardScaler()</td>\n    </tr>\n    <tr>\n      <td id=\"T_65ab6_row34_col0\" class=\"data row34 col0\" >0.744</td>\n      <td id=\"T_65ab6_row34_col1\" class=\"data row34 col1\" >0.722</td>\n      <td id=\"T_65ab6_row34_col2\" class=\"data row34 col2\" >0.765</td>\n      <td id=\"T_65ab6_row34_col3\" class=\"data row34 col3\" >1.000</td>\n      <td id=\"T_65ab6_row34_col4\" class=\"data row34 col4\" >0.823</td>\n      <td id=\"T_65ab6_row34_col5\" class=\"data row34 col5\" >0.812</td>\n      <td id=\"T_65ab6_row34_col6\" class=\"data row34 col6\" >0.834</td>\n      <td id=\"T_65ab6_row34_col7\" class=\"data row34 col7\" >1.000</td>\n      <td id=\"T_65ab6_row34_col8\" class=\"data row34 col8\" >0.773</td>\n      <td id=\"T_65ab6_row34_col9\" class=\"data row34 col9\" >0.750</td>\n      <td id=\"T_65ab6_row34_col10\" class=\"data row34 col10\" >0.796</td>\n      <td id=\"T_65ab6_row34_col11\" class=\"data row34 col11\" >1.000</td>\n      <td id=\"T_65ab6_row34_col12\" class=\"data row34 col12\" >0.881</td>\n      <td id=\"T_65ab6_row34_col13\" class=\"data row34 col13\" >0.865</td>\n      <td id=\"T_65ab6_row34_col14\" class=\"data row34 col14\" >0.898</td>\n      <td id=\"T_65ab6_row34_col15\" class=\"data row34 col15\" >1.000</td>\n      <td id=\"T_65ab6_row34_col16\" class=\"data row34 col16\" >auto</td>\n      <td id=\"T_65ab6_row34_col17\" class=\"data row34 col17\" >50</td>\n      <td id=\"T_65ab6_row34_col18\" class=\"data row34 col18\" >CustomOrdinalEncoder()</td>\n      <td id=\"T_65ab6_row34_col19\" class=\"data row34 col19\" >SimpleImputer()</td>\n      <td id=\"T_65ab6_row34_col20\" class=\"data row34 col20\" >MinMaxScaler()</td>\n    </tr>\n    <tr>\n      <td id=\"T_65ab6_row35_col0\" class=\"data row35 col0\" >0.744</td>\n      <td id=\"T_65ab6_row35_col1\" class=\"data row35 col1\" >0.724</td>\n      <td id=\"T_65ab6_row35_col2\" class=\"data row35 col2\" >0.764</td>\n      <td id=\"T_65ab6_row35_col3\" class=\"data row35 col3\" >1.000</td>\n      <td id=\"T_65ab6_row35_col4\" class=\"data row35 col4\" >0.821</td>\n      <td id=\"T_65ab6_row35_col5\" class=\"data row35 col5\" >0.809</td>\n      <td id=\"T_65ab6_row35_col6\" class=\"data row35 col6\" >0.832</td>\n      <td id=\"T_65ab6_row35_col7\" class=\"data row35 col7\" >1.000</td>\n      <td id=\"T_65ab6_row35_col8\" class=\"data row35 col8\" >0.771</td>\n      <td id=\"T_65ab6_row35_col9\" class=\"data row35 col9\" >0.749</td>\n      <td id=\"T_65ab6_row35_col10\" class=\"data row35 col10\" >0.794</td>\n      <td id=\"T_65ab6_row35_col11\" class=\"data row35 col11\" >1.000</td>\n      <td id=\"T_65ab6_row35_col12\" class=\"data row35 col12\" >0.878</td>\n      <td id=\"T_65ab6_row35_col13\" class=\"data row35 col13\" >0.862</td>\n      <td id=\"T_65ab6_row35_col14\" class=\"data row35 col14\" >0.895</td>\n      <td id=\"T_65ab6_row35_col15\" class=\"data row35 col15\" >1.000</td>\n      <td id=\"T_65ab6_row35_col16\" class=\"data row35 col16\" >auto</td>\n      <td id=\"T_65ab6_row35_col17\" class=\"data row35 col17\" >50</td>\n      <td id=\"T_65ab6_row35_col18\" class=\"data row35 col18\" >CustomOrdinalEncoder()</td>\n      <td id=\"T_65ab6_row35_col19\" class=\"data row35 col19\" >SimpleImputer()</td>\n      <td id=\"T_65ab6_row35_col20\" class=\"data row35 col20\" >StandardScaler()</td>\n    </tr>\n  </tbody>\n</table>\n"
     },
     "execution_count": 46,
     "metadata": {},
     "output_type": "execute_result"
    }
   ],
   "source": [
    "hlp.sklearn_eval.cv_results_to_dataframe(searcher=grid_search,\n",
    "                                         num_folds=num_folds,\n",
    "                                         num_repeats=num_repeats,\n",
    "                                         return_style=True)"
   ]
  },
  {
   "cell_type": "code",
   "execution_count": 47,
   "id": "7635ca76",
   "metadata": {},
   "outputs": [
    {
     "data": {
      "text/plain": "                        ROC/AUC Mean\ntransformer | encoder               \nOneHotEncoder()             0.762722\nCustomOrdinalEncoder()      0.754611",
      "text/html": "<div>\n<style scoped>\n    .dataframe tbody tr th:only-of-type {\n        vertical-align: middle;\n    }\n\n    .dataframe tbody tr th {\n        vertical-align: top;\n    }\n\n    .dataframe thead th {\n        text-align: right;\n    }\n</style>\n<table border=\"1\" class=\"dataframe\">\n  <thead>\n    <tr style=\"text-align: right;\">\n      <th></th>\n      <th>ROC/AUC Mean</th>\n    </tr>\n    <tr>\n      <th>transformer | encoder</th>\n      <th></th>\n    </tr>\n  </thead>\n  <tbody>\n    <tr>\n      <th>OneHotEncoder()</th>\n      <td>0.762722</td>\n    </tr>\n    <tr>\n      <th>CustomOrdinalEncoder()</th>\n      <td>0.754611</td>\n    </tr>\n  </tbody>\n</table>\n</div>"
     },
     "execution_count": 47,
     "metadata": {},
     "output_type": "execute_result"
    }
   ],
   "source": [
    "grid_search_df.fillna(0).groupby('transformer | encoder').agg({'ROC/AUC Mean': np.mean}).sort_values(by='ROC/AUC Mean', ascending=False)"
   ]
  },
  {
   "cell_type": "code",
   "execution_count": 48,
   "id": "bdcc2b3b",
   "metadata": {},
   "outputs": [
    {
     "data": {
      "text/plain": "                      ROC/AUC Mean\ntransformer | scaler              \nMinMaxScaler()            0.758778\nStandardScaler()          0.758556",
      "text/html": "<div>\n<style scoped>\n    .dataframe tbody tr th:only-of-type {\n        vertical-align: middle;\n    }\n\n    .dataframe tbody tr th {\n        vertical-align: top;\n    }\n\n    .dataframe thead th {\n        text-align: right;\n    }\n</style>\n<table border=\"1\" class=\"dataframe\">\n  <thead>\n    <tr style=\"text-align: right;\">\n      <th></th>\n      <th>ROC/AUC Mean</th>\n    </tr>\n    <tr>\n      <th>transformer | scaler</th>\n      <th></th>\n    </tr>\n  </thead>\n  <tbody>\n    <tr>\n      <th>MinMaxScaler()</th>\n      <td>0.758778</td>\n    </tr>\n    <tr>\n      <th>StandardScaler()</th>\n      <td>0.758556</td>\n    </tr>\n  </tbody>\n</table>\n</div>"
     },
     "execution_count": 48,
     "metadata": {},
     "output_type": "execute_result"
    }
   ],
   "source": [
    "grid_search_df.fillna(0).groupby('transformer | scaler').agg({'ROC/AUC Mean': np.mean}).sort_values(by='ROC/AUC Mean', ascending=False)"
   ]
  },
  {
   "cell_type": "code",
   "execution_count": 49,
   "id": "d475dae7",
   "metadata": {},
   "outputs": [
    {
     "data": {
      "text/plain": "                      ROC/AUC Mean\nmodel | n_estimators              \n500                       0.765167\n100                       0.758500\n50                        0.752333",
      "text/html": "<div>\n<style scoped>\n    .dataframe tbody tr th:only-of-type {\n        vertical-align: middle;\n    }\n\n    .dataframe tbody tr th {\n        vertical-align: top;\n    }\n\n    .dataframe thead th {\n        text-align: right;\n    }\n</style>\n<table border=\"1\" class=\"dataframe\">\n  <thead>\n    <tr style=\"text-align: right;\">\n      <th></th>\n      <th>ROC/AUC Mean</th>\n    </tr>\n    <tr>\n      <th>model | n_estimators</th>\n      <th></th>\n    </tr>\n  </thead>\n  <tbody>\n    <tr>\n      <th>500</th>\n      <td>0.765167</td>\n    </tr>\n    <tr>\n      <th>100</th>\n      <td>0.758500</td>\n    </tr>\n    <tr>\n      <th>50</th>\n      <td>0.752333</td>\n    </tr>\n  </tbody>\n</table>\n</div>"
     },
     "execution_count": 49,
     "metadata": {},
     "output_type": "execute_result"
    }
   ],
   "source": [
    "grid_search_df.fillna(0).groupby('model | n_estimators').agg({'ROC/AUC Mean': np.mean}).sort_values(by='ROC/AUC Mean', ascending=False)"
   ]
  },
  {
   "cell_type": "code",
   "execution_count": 50,
   "id": "22469468",
   "metadata": {},
   "outputs": [
    {
     "data": {
      "text/plain": "                      ROC/AUC Mean\nmodel | max_features              \n2                         0.761833\nauto                      0.758500\n10                        0.755667",
      "text/html": "<div>\n<style scoped>\n    .dataframe tbody tr th:only-of-type {\n        vertical-align: middle;\n    }\n\n    .dataframe tbody tr th {\n        vertical-align: top;\n    }\n\n    .dataframe thead th {\n        text-align: right;\n    }\n</style>\n<table border=\"1\" class=\"dataframe\">\n  <thead>\n    <tr style=\"text-align: right;\">\n      <th></th>\n      <th>ROC/AUC Mean</th>\n    </tr>\n    <tr>\n      <th>model | max_features</th>\n      <th></th>\n    </tr>\n  </thead>\n  <tbody>\n    <tr>\n      <th>2</th>\n      <td>0.761833</td>\n    </tr>\n    <tr>\n      <th>auto</th>\n      <td>0.758500</td>\n    </tr>\n    <tr>\n      <th>10</th>\n      <td>0.755667</td>\n    </tr>\n  </tbody>\n</table>\n</div>"
     },
     "execution_count": 50,
     "metadata": {},
     "output_type": "execute_result"
    }
   ],
   "source": [
    "grid_search_df.fillna(0).groupby('model | max_features').agg({'ROC/AUC Mean': np.mean}).sort_values(by='ROC/AUC Mean', ascending=False)"
   ]
  },
  {
   "cell_type": "markdown",
   "id": "41b9d04c",
   "metadata": {},
   "source": [
    "# Random Search"
   ]
  },
  {
   "cell_type": "code",
   "execution_count": 54,
   "id": "7bbd9dad",
   "metadata": {},
   "outputs": [],
   "source": [
    "from scipy.stats import randint, uniform  # , expon"
   ]
  },
  {
   "cell_type": "code",
   "execution_count": 52,
   "id": "cb8cef5b",
   "metadata": {},
   "outputs": [
    {
     "name": "stdout",
     "output_type": "stream",
     "text": [
      "0.20365929817363626\n",
      "0.9897769618960433\n"
     ]
    },
    {
     "data": {
      "text/plain": "(array([114., 112.,  95., 102.,  81., 111.,  98.,  88., 100.,  99.]),\n array([0.2036593 , 0.28227106, 0.36088283, 0.4394946 , 0.51810636,\n        0.59671813, 0.6753299 , 0.75394166, 0.83255343, 0.9111652 ,\n        0.98977696]),\n <BarContainer object of 10 artists>)"
     },
     "execution_count": 52,
     "metadata": {},
     "output_type": "execute_result"
    },
    {
     "data": {
      "text/plain": "<Figure size 432x288 with 1 Axes>",
      "image/png": "[encoded data removed]"
     },
     "metadata": {
      "needs_background": "light"
     },
     "output_type": "display_data"
    }
   ],
   "source": [
    "np.random.seed(42)\n",
    "s = uniform(.2, .79).rvs(size=1000)\n",
    "print(min(s))\n",
    "print(max(s))\n",
    "plt.hist(s)"
   ]
  },
  {
   "cell_type": "code",
   "execution_count": 53,
   "id": "1f4ce622",
   "metadata": {},
   "outputs": [
    {
     "name": "stdout",
     "output_type": "stream",
     "text": [
      "2\n",
      "99\n"
     ]
    },
    {
     "data": {
      "text/plain": "(array([111., 105., 104.,  95.,  84., 112.,  98.,  89.,  83., 119.]),\n array([ 2. , 11.7, 21.4, 31.1, 40.8, 50.5, 60.2, 69.9, 79.6, 89.3, 99. ]),\n <BarContainer object of 10 artists>)"
     },
     "execution_count": 53,
     "metadata": {},
     "output_type": "execute_result"
    },
    {
     "data": {
      "text/plain": "<Figure size 432x288 with 1 Axes>",
      "image/png": "[encoded data removed]"
     },
     "metadata": {
      "needs_background": "light"
     },
     "output_type": "display_data"
    }
   ],
   "source": [
    "np.random.seed(42)\n",
    "s = randint(2, 100).rvs(size=1000)\n",
    "print(min(s))\n",
    "print(max(s))\n",
    "plt.hist(s)"
   ]
  },
  {
   "cell_type": "code",
   "execution_count": 40,
   "id": "0d5b5287",
   "metadata": {},
   "outputs": [],
   "source": [
    "s = randint(2, 20)"
   ]
  },
  {
   "cell_type": "code",
   "execution_count": 55,
   "id": "766bfcf2",
   "metadata": {},
   "outputs": [],
   "source": [
    "model_param_dict = [\n",
    "    {\n",
    "        'preparation__numeric_pipeline__impute_chooser__base_transformer': [SimpleImputer(strategy='mean')],\n",
    "        'preparation__numeric_pipeline__scaling_chooser__base_transformer': [MinMaxScaler(), StandardScaler()],\n",
    "        'preparation__non_numeric_pipeline__encoder_chooser__base_transformer': [\n",
    "            OneHotEncoder(),\n",
    "            hlp.sklearn_pipeline.CustomOrdinalEncoder()\n",
    "        ],\n",
    "        'model__n_estimators': randint(50, 5000),\n",
    "        # If float, then max_features is a fraction and round(max_features * n_features) features are considered at each split.\n",
    "        'model__max_features':  uniform(.01, .99),\n",
    "    },\n",
    "]"
   ]
  },
  {
   "cell_type": "code",
   "execution_count": 56,
   "id": "ae9b9713",
   "metadata": {},
   "outputs": [],
   "source": [
    "num_folds = 5\n",
    "num_repeats = 2"
   ]
  },
  {
   "cell_type": "code",
   "execution_count": 57,
   "id": "0b57af26",
   "metadata": {},
   "outputs": [
    {
     "data": {
      "text/plain": "RandomizedSearchCV(cv=RepeatedKFold(n_repeats=2, n_splits=5, random_state=None),\n                   estimator=Pipeline(steps=[('preparation',\n                                              ColumnTransformer(transformers=[('numeric_pipeline',\n                                                                               Pipeline(steps=[('impute_chooser',\n                                                                                                TransformerChooser()),\n                                                                                               ('scaling_chooser',\n                                                                                                TransformerChooser())]),\n                                                                               ['duration',\n                                                                                'credit_amount',\n                                                                                'installment_commitment',\n                                                                                'residence_since',\n                                                                                'age',\n                                                                                'ex...\n                                         'model__n_estimators': <scipy.stats._distn_infrastructure.rv_frozen object at 0x7fa1a0f04040>,\n                                         'preparation__non_numeric_pipeline__encoder_chooser__base_transformer': [OneHotEncoder(),\n                                                                                                                  CustomOrdinalEncoder()],\n                                         'preparation__numeric_pipeline__impute_chooser__base_transformer': [SimpleImputer()],\n                                         'preparation__numeric_pipeline__scaling_chooser__base_transformer': [MinMaxScaler(),\n                                                                                                              StandardScaler()]}],\n                   random_state=42, scoring='roc_auc')"
     },
     "execution_count": 57,
     "metadata": {},
     "output_type": "execute_result"
    }
   ],
   "source": [
    "from sklearn.model_selection import RandomizedSearchCV\n",
    "from sklearn.model_selection import RepeatedKFold\n",
    "random_search = RandomizedSearchCV(\n",
    "    estimator=full_pipeline,\n",
    "    param_distributions=model_param_dict,\n",
    "    n_iter=30,\n",
    "    cv=RepeatedKFold(n_splits=num_folds, n_repeats=num_repeats),\n",
    "    scoring='roc_auc',\n",
    "    #return_train_score=True,\n",
    "    n_jobs=-1,\n",
    "    #verbose=2,\n",
    "    random_state=42,\n",
    ")\n",
    "random_search.fit(X_train, y_train)"
   ]
  },
  {
   "cell_type": "markdown",
   "id": "8795bd8f",
   "metadata": {},
   "source": [
    "## Results"
   ]
  },
  {
   "cell_type": "code",
   "execution_count": 59,
   "outputs": [
    {
     "name": "stdout",
     "output_type": "stream",
     "text": [
      "0.761786753072665\n",
      "{'model__max_features': 0.02548004267378199, 'model__n_estimators': 2618, 'preparation__non_numeric_pipeline__encoder_chooser__base_transformer': CustomOrdinalEncoder(), 'preparation__numeric_pipeline__impute_chooser__base_transformer': SimpleImputer(), 'preparation__numeric_pipeline__scaling_chooser__base_transformer': MinMaxScaler()}\n"
     ]
    }
   ],
   "source": [
    "print(random_search.best_score_)\n",
    "print(random_search.best_params_)"
   ],
   "metadata": {
    "collapsed": false,
    "pycharm": {
     "name": "#%%\n"
    }
   }
  },
  {
   "cell_type": "code",
   "execution_count": 61,
   "id": "4d5972d6",
   "metadata": {},
   "outputs": [],
   "source": [
    "random_search_df = hlp.sklearn_eval.cv_results_to_dataframe(\n",
    "    searcher=random_search,\n",
    "    num_folds=num_folds,\n",
    "    num_repeats=num_repeats,\n",
    "    return_style=False\n",
    ")"
   ]
  },
  {
   "cell_type": "code",
   "execution_count": 62,
   "id": "eec51920",
   "metadata": {},
   "outputs": [],
   "source": [
    "column_new_names = {'preparation | non_numeric_pipeline | encoder_chooser | base_transformer': 'transformer | encoder',\n",
    "                    'preparation | numeric_pipeline | impute_chooser | base_transformer': 'transformer | imputer',\n",
    "                    'preparation | numeric_pipeline | scaling_chooser | base_transformer': 'transformer | scaler'}\n",
    "random_search_df.rename(columns=column_new_names, inplace=True)"
   ]
  },
  {
   "cell_type": "code",
   "execution_count": 63,
   "id": "fc129116",
   "metadata": {},
   "outputs": [
    {
     "data": {
      "text/plain": "    roc_auc Mean  roc_auc 95CI.LO  roc_auc 95CI.HI  model | max_features  \\\n26         0.762            0.739            0.784              0.025480   \n6          0.761            0.739            0.783              0.191570   \n19         0.761            0.739            0.783              0.193006   \n15         0.759            0.736            0.782              0.248615   \n4          0.759            0.735            0.783              0.030379   \n\n    model | n_estimators   transformer | encoder transformer | imputer  \\\n26                  2618  CustomOrdinalEncoder()       SimpleImputer()   \n6                   4605  CustomOrdinalEncoder()       SimpleImputer()   \n19                  4848  CustomOrdinalEncoder()       SimpleImputer()   \n15                  1528  CustomOrdinalEncoder()       SimpleImputer()   \n4                    819  CustomOrdinalEncoder()       SimpleImputer()   \n\n   transformer | scaler  \n26       MinMaxScaler()  \n6      StandardScaler()  \n19     StandardScaler()  \n15       MinMaxScaler()  \n4      StandardScaler()  ",
      "text/html": "<div>\n<style scoped>\n    .dataframe tbody tr th:only-of-type {\n        vertical-align: middle;\n    }\n\n    .dataframe tbody tr th {\n        vertical-align: top;\n    }\n\n    .dataframe thead th {\n        text-align: right;\n    }\n</style>\n<table border=\"1\" class=\"dataframe\">\n  <thead>\n    <tr style=\"text-align: right;\">\n      <th></th>\n      <th>roc_auc Mean</th>\n      <th>roc_auc 95CI.LO</th>\n      <th>roc_auc 95CI.HI</th>\n      <th>model | max_features</th>\n      <th>model | n_estimators</th>\n      <th>transformer | encoder</th>\n      <th>transformer | imputer</th>\n      <th>transformer | scaler</th>\n    </tr>\n  </thead>\n  <tbody>\n    <tr>\n      <th>26</th>\n      <td>0.762</td>\n      <td>0.739</td>\n      <td>0.784</td>\n      <td>0.025480</td>\n      <td>2618</td>\n      <td>CustomOrdinalEncoder()</td>\n      <td>SimpleImputer()</td>\n      <td>MinMaxScaler()</td>\n    </tr>\n    <tr>\n      <th>6</th>\n      <td>0.761</td>\n      <td>0.739</td>\n      <td>0.783</td>\n      <td>0.191570</td>\n      <td>4605</td>\n      <td>CustomOrdinalEncoder()</td>\n      <td>SimpleImputer()</td>\n      <td>StandardScaler()</td>\n    </tr>\n    <tr>\n      <th>19</th>\n      <td>0.761</td>\n      <td>0.739</td>\n      <td>0.783</td>\n      <td>0.193006</td>\n      <td>4848</td>\n      <td>CustomOrdinalEncoder()</td>\n      <td>SimpleImputer()</td>\n      <td>StandardScaler()</td>\n    </tr>\n    <tr>\n      <th>15</th>\n      <td>0.759</td>\n      <td>0.736</td>\n      <td>0.782</td>\n      <td>0.248615</td>\n      <td>1528</td>\n      <td>CustomOrdinalEncoder()</td>\n      <td>SimpleImputer()</td>\n      <td>MinMaxScaler()</td>\n    </tr>\n    <tr>\n      <th>4</th>\n      <td>0.759</td>\n      <td>0.735</td>\n      <td>0.783</td>\n      <td>0.030379</td>\n      <td>819</td>\n      <td>CustomOrdinalEncoder()</td>\n      <td>SimpleImputer()</td>\n      <td>StandardScaler()</td>\n    </tr>\n  </tbody>\n</table>\n</div>"
     },
     "execution_count": 63,
     "metadata": {},
     "output_type": "execute_result"
    }
   ],
   "source": [
    "random_search_df.head()"
   ]
  },
  {
   "cell_type": "code",
   "execution_count": 64,
   "id": "d79be626",
   "metadata": {
    "scrolled": false
   },
   "outputs": [
    {
     "data": {
      "text/plain": "<pandas.io.formats.style.Styler at 0x7fa17429f3d0>",
      "text/html": "<style type=\"text/css\">\n#T_e1c89_row0_col0 {\n  width: 10em;\n  height: 80%;\n  background: linear-gradient(90deg,#1AAF54 100.0%, transparent 100.0%);\n}\n#T_e1c89_row0_col1, #T_e1c89_row1_col1, #T_e1c89_row2_col1 {\n  width: 10em;\n  height: 80%;\n  background: linear-gradient(90deg,transparent 100.0%, #B4B7B9 100.0%);\n}\n#T_e1c89_row0_col2 {\n  width: 10em;\n  height: 80%;\n  background: linear-gradient(90deg,#B4B7B9 100.0%, transparent 100.0%);\n}\n#T_e1c89_row1_col0, #T_e1c89_row2_col0 {\n  width: 10em;\n  height: 80%;\n  background: linear-gradient(90deg,#1AAF54 97.1%, transparent 97.1%);\n}\n#T_e1c89_row1_col2, #T_e1c89_row2_col2, #T_e1c89_row4_col2 {\n  width: 10em;\n  height: 80%;\n  background: linear-gradient(90deg,#B4B7B9 97.2%, transparent 97.2%);\n}\n#T_e1c89_row3_col0, #T_e1c89_row4_col0 {\n  width: 10em;\n  height: 80%;\n  background: linear-gradient(90deg,#1AAF54 91.2%, transparent 91.2%);\n}\n#T_e1c89_row3_col1 {\n  width: 10em;\n  height: 80%;\n  background: linear-gradient(90deg,transparent 90.0%, #B4B7B9 90.0%);\n}\n#T_e1c89_row3_col2 {\n  width: 10em;\n  height: 80%;\n  background: linear-gradient(90deg,#B4B7B9 94.4%, transparent 94.4%);\n}\n#T_e1c89_row4_col1, #T_e1c89_row5_col1 {\n  width: 10em;\n  height: 80%;\n  background: linear-gradient(90deg,transparent 86.7%, #B4B7B9 86.7%);\n}\n#T_e1c89_row5_col0 {\n  width: 10em;\n  height: 80%;\n  background: linear-gradient(90deg,#1AAF54 82.4%, transparent 82.4%);\n}\n#T_e1c89_row5_col2, #T_e1c89_row6_col2, #T_e1c89_row8_col2 {\n  width: 10em;\n  height: 80%;\n  background: linear-gradient(90deg,#B4B7B9 77.8%, transparent 77.8%);\n}\n#T_e1c89_row6_col0, #T_e1c89_row7_col0 {\n  width: 10em;\n  height: 80%;\n  background: linear-gradient(90deg,#1AAF54 79.4%, transparent 79.4%);\n}\n#T_e1c89_row6_col1 {\n  width: 10em;\n  height: 80%;\n  background: linear-gradient(90deg,transparent 83.3%, #B4B7B9 83.3%);\n}\n#T_e1c89_row7_col1 {\n  width: 10em;\n  height: 80%;\n  background: linear-gradient(90deg,transparent 80.0%, #B4B7B9 80.0%);\n}\n#T_e1c89_row7_col2 {\n  width: 10em;\n  height: 80%;\n  background: linear-gradient(90deg,#B4B7B9 80.6%, transparent 80.6%);\n}\n#T_e1c89_row8_col0 {\n  width: 10em;\n  height: 80%;\n  background: linear-gradient(90deg,#1AAF54 76.5%, transparent 76.5%);\n}\n#T_e1c89_row8_col1 {\n  width: 10em;\n  height: 80%;\n  background: linear-gradient(90deg,transparent 76.7%, #B4B7B9 76.7%);\n}\n#T_e1c89_row9_col0 {\n  width: 10em;\n  height: 80%;\n  background: linear-gradient(90deg,#1AAF54 70.6%, transparent 70.6%);\n}\n#T_e1c89_row9_col1, #T_e1c89_row10_col1 {\n  width: 10em;\n  height: 80%;\n  background: linear-gradient(90deg,transparent 70.0%, #B4B7B9 70.0%);\n}\n#T_e1c89_row9_col2 {\n  width: 10em;\n  height: 80%;\n  background: linear-gradient(90deg,#B4B7B9 75.0%, transparent 75.0%);\n}\n#T_e1c89_row10_col0 {\n  width: 10em;\n  height: 80%;\n  background: linear-gradient(90deg,#1AAF54 67.6%, transparent 67.6%);\n}\n#T_e1c89_row10_col2, #T_e1c89_row11_col2 {\n  width: 10em;\n  height: 80%;\n  background: linear-gradient(90deg,#B4B7B9 69.4%, transparent 69.4%);\n}\n#T_e1c89_row11_col0, #T_e1c89_row12_col0 {\n  width: 10em;\n  height: 80%;\n  background: linear-gradient(90deg,#1AAF54 64.7%, transparent 64.7%);\n}\n#T_e1c89_row11_col1, #T_e1c89_row12_col1, #T_e1c89_row13_col1 {\n  width: 10em;\n  height: 80%;\n  background: linear-gradient(90deg,transparent 63.3%, #B4B7B9 63.3%);\n}\n#T_e1c89_row12_col2 {\n  width: 10em;\n  height: 80%;\n  background: linear-gradient(90deg,#B4B7B9 66.7%, transparent 66.7%);\n}\n#T_e1c89_row13_col0, #T_e1c89_row14_col0 {\n  width: 10em;\n  height: 80%;\n  background: linear-gradient(90deg,#1AAF54 61.8%, transparent 61.8%);\n}\n#T_e1c89_row13_col2, #T_e1c89_row14_col2, #T_e1c89_row15_col2 {\n  width: 10em;\n  height: 80%;\n  background: linear-gradient(90deg,#B4B7B9 61.1%, transparent 61.1%);\n}\n#T_e1c89_row14_col1 {\n  width: 10em;\n  height: 80%;\n  background: linear-gradient(90deg,transparent 60.0%, #B4B7B9 60.0%);\n}\n#T_e1c89_row15_col0 {\n  width: 10em;\n  height: 80%;\n  background: linear-gradient(90deg,#1AAF54 55.9%, transparent 55.9%);\n}\n#T_e1c89_row15_col1 {\n  width: 10em;\n  height: 80%;\n  background: linear-gradient(90deg,transparent 53.3%, #B4B7B9 53.3%);\n}\n#T_e1c89_row16_col0 {\n  width: 10em;\n  height: 80%;\n  background: linear-gradient(90deg,#1AAF54 52.9%, transparent 52.9%);\n}\n#T_e1c89_row16_col1 {\n  width: 10em;\n  height: 80%;\n  background: linear-gradient(90deg,transparent 50.0%, #B4B7B9 50.0%);\n}\n#T_e1c89_row16_col2, #T_e1c89_row17_col2 {\n  width: 10em;\n  height: 80%;\n  background: linear-gradient(90deg,#B4B7B9 52.8%, transparent 52.8%);\n}\n#T_e1c89_row17_col0 {\n  width: 10em;\n  height: 80%;\n  background: linear-gradient(90deg,#1AAF54 50.0%, transparent 50.0%);\n}\n#T_e1c89_row17_col1 {\n  width: 10em;\n  height: 80%;\n  background: linear-gradient(90deg,transparent 46.7%, #B4B7B9 46.7%);\n}\n#T_e1c89_row18_col0 {\n  width: 10em;\n  height: 80%;\n  background: linear-gradient(90deg,#1AAF54 47.1%, transparent 47.1%);\n}\n#T_e1c89_row18_col1, #T_e1c89_row19_col1 {\n  width: 10em;\n  height: 80%;\n  background: linear-gradient(90deg,transparent 43.3%, #B4B7B9 43.3%);\n}\n#T_e1c89_row18_col2 {\n  width: 10em;\n  height: 80%;\n  background: linear-gradient(90deg,#B4B7B9 50.0%, transparent 50.0%);\n}\n#T_e1c89_row19_col0 {\n  width: 10em;\n  height: 80%;\n  background: linear-gradient(90deg,#1AAF54 44.1%, transparent 44.1%);\n}\n#T_e1c89_row19_col2 {\n  width: 10em;\n  height: 80%;\n  background: linear-gradient(90deg,#B4B7B9 47.2%, transparent 47.2%);\n}\n#T_e1c89_row20_col0 {\n  width: 10em;\n  height: 80%;\n  background: linear-gradient(90deg,#1AAF54 38.2%, transparent 38.2%);\n}\n#T_e1c89_row20_col1, #T_e1c89_row22_col1 {\n  width: 10em;\n  height: 80%;\n  background: linear-gradient(90deg,transparent 33.3%, #B4B7B9 33.3%);\n}\n#T_e1c89_row20_col2, #T_e1c89_row22_col2 {\n  width: 10em;\n  height: 80%;\n  background: linear-gradient(90deg,#B4B7B9 38.9%, transparent 38.9%);\n}\n#T_e1c89_row21_col0, #T_e1c89_row22_col0, #T_e1c89_row23_col0 {\n  width: 10em;\n  height: 80%;\n  background: linear-gradient(90deg,#1AAF54 35.3%, transparent 35.3%);\n}\n#T_e1c89_row21_col1, #T_e1c89_row23_col1, #T_e1c89_row24_col1 {\n  width: 10em;\n  height: 80%;\n  background: linear-gradient(90deg,transparent 30.0%, #B4B7B9 30.0%);\n}\n#T_e1c89_row21_col2, #T_e1c89_row23_col2, #T_e1c89_row24_col2 {\n  width: 10em;\n  height: 80%;\n  background: linear-gradient(90deg,#B4B7B9 36.1%, transparent 36.1%);\n}\n#T_e1c89_row24_col0, #T_e1c89_row25_col0 {\n  width: 10em;\n  height: 80%;\n  background: linear-gradient(90deg,#1AAF54 32.4%, transparent 32.4%);\n}\n#T_e1c89_row25_col1 {\n  width: 10em;\n  height: 80%;\n  background: linear-gradient(90deg,transparent 26.7%, #B4B7B9 26.7%);\n}\n#T_e1c89_row25_col2 {\n  width: 10em;\n  height: 80%;\n  background: linear-gradient(90deg,#B4B7B9 33.3%, transparent 33.3%);\n}\n#T_e1c89_row26_col0, #T_e1c89_row27_col0, #T_e1c89_row28_col0 {\n  width: 10em;\n  height: 80%;\n  background: linear-gradient(90deg,#1AAF54 26.5%, transparent 26.5%);\n}\n#T_e1c89_row26_col1, #T_e1c89_row27_col1, #T_e1c89_row28_col1 {\n  width: 10em;\n  height: 80%;\n  background: linear-gradient(90deg,transparent 20.0%, #B4B7B9 20.0%);\n}\n#T_e1c89_row26_col2, #T_e1c89_row27_col2 {\n  width: 10em;\n  height: 80%;\n  background: linear-gradient(90deg,#B4B7B9 27.8%, transparent 27.8%);\n}\n#T_e1c89_row28_col2 {\n  width: 10em;\n  height: 80%;\n  background: linear-gradient(90deg,#B4B7B9 30.6%, transparent 30.6%);\n}\n#T_e1c89_row29_col0, #T_e1c89_row29_col2 {\n  width: 10em;\n  height: 80%;\n}\n#T_e1c89_row29_col1 {\n  width: 10em;\n  height: 80%;\n  background: linear-gradient(90deg, #B4B7B9 100.0%, transparent 100.0%, transparent 100.0%, #B4B7B9 100.0%);\n}\n</style>\n<table id=\"T_e1c89_\">\n  <thead>\n    <tr>\n      <th class=\"col_heading level0 col0\" >roc_auc Mean</th>\n      <th class=\"col_heading level0 col1\" >roc_auc 95CI.LO</th>\n      <th class=\"col_heading level0 col2\" >roc_auc 95CI.HI</th>\n      <th class=\"col_heading level0 col3\" >model | max_features</th>\n      <th class=\"col_heading level0 col4\" >model | n_estimators</th>\n      <th class=\"col_heading level0 col5\" >preparation | non_numeric_pipeline | encoder_chooser | base_transformer</th>\n      <th class=\"col_heading level0 col6\" >preparation | numeric_pipeline | impute_chooser | base_transformer</th>\n      <th class=\"col_heading level0 col7\" >preparation | numeric_pipeline | scaling_chooser | base_transformer</th>\n    </tr>\n  </thead>\n  <tbody>\n    <tr>\n      <td id=\"T_e1c89_row0_col0\" class=\"data row0 col0\" >0.762</td>\n      <td id=\"T_e1c89_row0_col1\" class=\"data row0 col1\" >0.739</td>\n      <td id=\"T_e1c89_row0_col2\" class=\"data row0 col2\" >0.784</td>\n      <td id=\"T_e1c89_row0_col3\" class=\"data row0 col3\" >0.025</td>\n      <td id=\"T_e1c89_row0_col4\" class=\"data row0 col4\" >2,618</td>\n      <td id=\"T_e1c89_row0_col5\" class=\"data row0 col5\" >CustomOrdinalEncoder()</td>\n      <td id=\"T_e1c89_row0_col6\" class=\"data row0 col6\" >SimpleImputer()</td>\n      <td id=\"T_e1c89_row0_col7\" class=\"data row0 col7\" >MinMaxScaler()</td>\n    </tr>\n    <tr>\n      <td id=\"T_e1c89_row1_col0\" class=\"data row1 col0\" >0.761</td>\n      <td id=\"T_e1c89_row1_col1\" class=\"data row1 col1\" >0.739</td>\n      <td id=\"T_e1c89_row1_col2\" class=\"data row1 col2\" >0.783</td>\n      <td id=\"T_e1c89_row1_col3\" class=\"data row1 col3\" >0.192</td>\n      <td id=\"T_e1c89_row1_col4\" class=\"data row1 col4\" >4,605</td>\n      <td id=\"T_e1c89_row1_col5\" class=\"data row1 col5\" >CustomOrdinalEncoder()</td>\n      <td id=\"T_e1c89_row1_col6\" class=\"data row1 col6\" >SimpleImputer()</td>\n      <td id=\"T_e1c89_row1_col7\" class=\"data row1 col7\" >StandardScaler()</td>\n    </tr>\n    <tr>\n      <td id=\"T_e1c89_row2_col0\" class=\"data row2 col0\" >0.761</td>\n      <td id=\"T_e1c89_row2_col1\" class=\"data row2 col1\" >0.739</td>\n      <td id=\"T_e1c89_row2_col2\" class=\"data row2 col2\" >0.783</td>\n      <td id=\"T_e1c89_row2_col3\" class=\"data row2 col3\" >0.193</td>\n      <td id=\"T_e1c89_row2_col4\" class=\"data row2 col4\" >4,848</td>\n      <td id=\"T_e1c89_row2_col5\" class=\"data row2 col5\" >CustomOrdinalEncoder()</td>\n      <td id=\"T_e1c89_row2_col6\" class=\"data row2 col6\" >SimpleImputer()</td>\n      <td id=\"T_e1c89_row2_col7\" class=\"data row2 col7\" >StandardScaler()</td>\n    </tr>\n    <tr>\n      <td id=\"T_e1c89_row3_col0\" class=\"data row3 col0\" >0.759</td>\n      <td id=\"T_e1c89_row3_col1\" class=\"data row3 col1\" >0.736</td>\n      <td id=\"T_e1c89_row3_col2\" class=\"data row3 col2\" >0.782</td>\n      <td id=\"T_e1c89_row3_col3\" class=\"data row3 col3\" >0.249</td>\n      <td id=\"T_e1c89_row3_col4\" class=\"data row3 col4\" >1,528</td>\n      <td id=\"T_e1c89_row3_col5\" class=\"data row3 col5\" >CustomOrdinalEncoder()</td>\n      <td id=\"T_e1c89_row3_col6\" class=\"data row3 col6\" >SimpleImputer()</td>\n      <td id=\"T_e1c89_row3_col7\" class=\"data row3 col7\" >MinMaxScaler()</td>\n    </tr>\n    <tr>\n      <td id=\"T_e1c89_row4_col0\" class=\"data row4 col0\" >0.759</td>\n      <td id=\"T_e1c89_row4_col1\" class=\"data row4 col1\" >0.735</td>\n      <td id=\"T_e1c89_row4_col2\" class=\"data row4 col2\" >0.783</td>\n      <td id=\"T_e1c89_row4_col3\" class=\"data row4 col3\" >0.030</td>\n      <td id=\"T_e1c89_row4_col4\" class=\"data row4 col4\" >819</td>\n      <td id=\"T_e1c89_row4_col5\" class=\"data row4 col5\" >CustomOrdinalEncoder()</td>\n      <td id=\"T_e1c89_row4_col6\" class=\"data row4 col6\" >SimpleImputer()</td>\n      <td id=\"T_e1c89_row4_col7\" class=\"data row4 col7\" >StandardScaler()</td>\n    </tr>\n    <tr>\n      <td id=\"T_e1c89_row5_col0\" class=\"data row5 col0\" >0.756</td>\n      <td id=\"T_e1c89_row5_col1\" class=\"data row5 col1\" >0.735</td>\n      <td id=\"T_e1c89_row5_col2\" class=\"data row5 col2\" >0.776</td>\n      <td id=\"T_e1c89_row5_col3\" class=\"data row5 col3\" >0.266</td>\n      <td id=\"T_e1c89_row5_col4\" class=\"data row5 col4\" >3,993</td>\n      <td id=\"T_e1c89_row5_col5\" class=\"data row5 col5\" >CustomOrdinalEncoder()</td>\n      <td id=\"T_e1c89_row5_col6\" class=\"data row5 col6\" >SimpleImputer()</td>\n      <td id=\"T_e1c89_row5_col7\" class=\"data row5 col7\" >StandardScaler()</td>\n    </tr>\n    <tr>\n      <td id=\"T_e1c89_row6_col0\" class=\"data row6 col0\" >0.755</td>\n      <td id=\"T_e1c89_row6_col1\" class=\"data row6 col1\" >0.734</td>\n      <td id=\"T_e1c89_row6_col2\" class=\"data row6 col2\" >0.776</td>\n      <td id=\"T_e1c89_row6_col3\" class=\"data row6 col3\" >0.164</td>\n      <td id=\"T_e1c89_row6_col4\" class=\"data row6 col4\" >4,476</td>\n      <td id=\"T_e1c89_row6_col5\" class=\"data row6 col5\" >OneHotEncoder()</td>\n      <td id=\"T_e1c89_row6_col6\" class=\"data row6 col6\" >SimpleImputer()</td>\n      <td id=\"T_e1c89_row6_col7\" class=\"data row6 col7\" >StandardScaler()</td>\n    </tr>\n    <tr>\n      <td id=\"T_e1c89_row7_col0\" class=\"data row7 col0\" >0.755</td>\n      <td id=\"T_e1c89_row7_col1\" class=\"data row7 col1\" >0.733</td>\n      <td id=\"T_e1c89_row7_col2\" class=\"data row7 col2\" >0.777</td>\n      <td id=\"T_e1c89_row7_col3\" class=\"data row7 col3\" >0.340</td>\n      <td id=\"T_e1c89_row7_col4\" class=\"data row7 col4\" >2,969</td>\n      <td id=\"T_e1c89_row7_col5\" class=\"data row7 col5\" >CustomOrdinalEncoder()</td>\n      <td id=\"T_e1c89_row7_col6\" class=\"data row7 col6\" >SimpleImputer()</td>\n      <td id=\"T_e1c89_row7_col7\" class=\"data row7 col7\" >MinMaxScaler()</td>\n    </tr>\n    <tr>\n      <td id=\"T_e1c89_row8_col0\" class=\"data row8 col0\" >0.754</td>\n      <td id=\"T_e1c89_row8_col1\" class=\"data row8 col1\" >0.732</td>\n      <td id=\"T_e1c89_row8_col2\" class=\"data row8 col2\" >0.776</td>\n      <td id=\"T_e1c89_row8_col3\" class=\"data row8 col3\" >0.017</td>\n      <td id=\"T_e1c89_row8_col4\" class=\"data row8 col4\" >2,954</td>\n      <td id=\"T_e1c89_row8_col5\" class=\"data row8 col5\" >OneHotEncoder()</td>\n      <td id=\"T_e1c89_row8_col6\" class=\"data row8 col6\" >SimpleImputer()</td>\n      <td id=\"T_e1c89_row8_col7\" class=\"data row8 col7\" >MinMaxScaler()</td>\n    </tr>\n    <tr>\n      <td id=\"T_e1c89_row9_col0\" class=\"data row9 col0\" >0.752</td>\n      <td id=\"T_e1c89_row9_col1\" class=\"data row9 col1\" >0.730</td>\n      <td id=\"T_e1c89_row9_col2\" class=\"data row9 col2\" >0.775</td>\n      <td id=\"T_e1c89_row9_col3\" class=\"data row9 col3\" >0.207</td>\n      <td id=\"T_e1c89_row9_col4\" class=\"data row9 col4\" >1,545</td>\n      <td id=\"T_e1c89_row9_col5\" class=\"data row9 col5\" >OneHotEncoder()</td>\n      <td id=\"T_e1c89_row9_col6\" class=\"data row9 col6\" >SimpleImputer()</td>\n      <td id=\"T_e1c89_row9_col7\" class=\"data row9 col7\" >MinMaxScaler()</td>\n    </tr>\n    <tr>\n      <td id=\"T_e1c89_row10_col0\" class=\"data row10 col0\" >0.751</td>\n      <td id=\"T_e1c89_row10_col1\" class=\"data row10 col1\" >0.730</td>\n      <td id=\"T_e1c89_row10_col2\" class=\"data row10 col2\" >0.773</td>\n      <td id=\"T_e1c89_row10_col3\" class=\"data row10 col3\" >0.392</td>\n      <td id=\"T_e1c89_row10_col4\" class=\"data row10 col4\" >2,662</td>\n      <td id=\"T_e1c89_row10_col5\" class=\"data row10 col5\" >CustomOrdinalEncoder()</td>\n      <td id=\"T_e1c89_row10_col6\" class=\"data row10 col6\" >SimpleImputer()</td>\n      <td id=\"T_e1c89_row10_col7\" class=\"data row10 col7\" >StandardScaler()</td>\n    </tr>\n    <tr>\n      <td id=\"T_e1c89_row11_col0\" class=\"data row11 col0\" >0.750</td>\n      <td id=\"T_e1c89_row11_col1\" class=\"data row11 col1\" >0.728</td>\n      <td id=\"T_e1c89_row11_col2\" class=\"data row11 col2\" >0.773</td>\n      <td id=\"T_e1c89_row11_col3\" class=\"data row11 col3\" >0.431</td>\n      <td id=\"T_e1c89_row11_col4\" class=\"data row11 col4\" >2,663</td>\n      <td id=\"T_e1c89_row11_col5\" class=\"data row11 col5\" >CustomOrdinalEncoder()</td>\n      <td id=\"T_e1c89_row11_col6\" class=\"data row11 col6\" >SimpleImputer()</td>\n      <td id=\"T_e1c89_row11_col7\" class=\"data row11 col7\" >StandardScaler()</td>\n    </tr>\n    <tr>\n      <td id=\"T_e1c89_row12_col0\" class=\"data row12 col0\" >0.750</td>\n      <td id=\"T_e1c89_row12_col1\" class=\"data row12 col1\" >0.728</td>\n      <td id=\"T_e1c89_row12_col2\" class=\"data row12 col2\" >0.772</td>\n      <td id=\"T_e1c89_row12_col3\" class=\"data row12 col3\" >0.207</td>\n      <td id=\"T_e1c89_row12_col4\" class=\"data row12 col4\" >441</td>\n      <td id=\"T_e1c89_row12_col5\" class=\"data row12 col5\" >OneHotEncoder()</td>\n      <td id=\"T_e1c89_row12_col6\" class=\"data row12 col6\" >SimpleImputer()</td>\n      <td id=\"T_e1c89_row12_col7\" class=\"data row12 col7\" >MinMaxScaler()</td>\n    </tr>\n    <tr>\n      <td id=\"T_e1c89_row13_col0\" class=\"data row13 col0\" >0.749</td>\n      <td id=\"T_e1c89_row13_col1\" class=\"data row13 col1\" >0.728</td>\n      <td id=\"T_e1c89_row13_col2\" class=\"data row13 col2\" >0.770</td>\n      <td id=\"T_e1c89_row13_col3\" class=\"data row13 col3\" >0.283</td>\n      <td id=\"T_e1c89_row13_col4\" class=\"data row13 col4\" >2,112</td>\n      <td id=\"T_e1c89_row13_col5\" class=\"data row13 col5\" >OneHotEncoder()</td>\n      <td id=\"T_e1c89_row13_col6\" class=\"data row13 col6\" >SimpleImputer()</td>\n      <td id=\"T_e1c89_row13_col7\" class=\"data row13 col7\" >MinMaxScaler()</td>\n    </tr>\n    <tr>\n      <td id=\"T_e1c89_row14_col0\" class=\"data row14 col0\" >0.749</td>\n      <td id=\"T_e1c89_row14_col1\" class=\"data row14 col1\" >0.727</td>\n      <td id=\"T_e1c89_row14_col2\" class=\"data row14 col2\" >0.770</td>\n      <td id=\"T_e1c89_row14_col3\" class=\"data row14 col3\" >0.455</td>\n      <td id=\"T_e1c89_row14_col4\" class=\"data row14 col4\" >4,347</td>\n      <td id=\"T_e1c89_row14_col5\" class=\"data row14 col5\" >CustomOrdinalEncoder()</td>\n      <td id=\"T_e1c89_row14_col6\" class=\"data row14 col6\" >SimpleImputer()</td>\n      <td id=\"T_e1c89_row14_col7\" class=\"data row14 col7\" >StandardScaler()</td>\n    </tr>\n    <tr>\n      <td id=\"T_e1c89_row15_col0\" class=\"data row15 col0\" >0.747</td>\n      <td id=\"T_e1c89_row15_col1\" class=\"data row15 col1\" >0.725</td>\n      <td id=\"T_e1c89_row15_col2\" class=\"data row15 col2\" >0.770</td>\n      <td id=\"T_e1c89_row15_col3\" class=\"data row15 col3\" >0.373</td>\n      <td id=\"T_e1c89_row15_col4\" class=\"data row15 col4\" >239</td>\n      <td id=\"T_e1c89_row15_col5\" class=\"data row15 col5\" >CustomOrdinalEncoder()</td>\n      <td id=\"T_e1c89_row15_col6\" class=\"data row15 col6\" >SimpleImputer()</td>\n      <td id=\"T_e1c89_row15_col7\" class=\"data row15 col7\" >MinMaxScaler()</td>\n    </tr>\n    <tr>\n      <td id=\"T_e1c89_row16_col0\" class=\"data row16 col0\" >0.746</td>\n      <td id=\"T_e1c89_row16_col1\" class=\"data row16 col1\" >0.724</td>\n      <td id=\"T_e1c89_row16_col2\" class=\"data row16 col2\" >0.767</td>\n      <td id=\"T_e1c89_row16_col3\" class=\"data row16 col3\" >0.591</td>\n      <td id=\"T_e1c89_row16_col4\" class=\"data row16 col4\" >4,909</td>\n      <td id=\"T_e1c89_row16_col5\" class=\"data row16 col5\" >CustomOrdinalEncoder()</td>\n      <td id=\"T_e1c89_row16_col6\" class=\"data row16 col6\" >SimpleImputer()</td>\n      <td id=\"T_e1c89_row16_col7\" class=\"data row16 col7\" >StandardScaler()</td>\n    </tr>\n    <tr>\n      <td id=\"T_e1c89_row17_col0\" class=\"data row17 col0\" >0.745</td>\n      <td id=\"T_e1c89_row17_col1\" class=\"data row17 col1\" >0.723</td>\n      <td id=\"T_e1c89_row17_col2\" class=\"data row17 col2\" >0.767</td>\n      <td id=\"T_e1c89_row17_col3\" class=\"data row17 col3\" >0.332</td>\n      <td id=\"T_e1c89_row17_col4\" class=\"data row17 col4\" >387</td>\n      <td id=\"T_e1c89_row17_col5\" class=\"data row17 col5\" >OneHotEncoder()</td>\n      <td id=\"T_e1c89_row17_col6\" class=\"data row17 col6\" >SimpleImputer()</td>\n      <td id=\"T_e1c89_row17_col7\" class=\"data row17 col7\" >MinMaxScaler()</td>\n    </tr>\n    <tr>\n      <td id=\"T_e1c89_row18_col0\" class=\"data row18 col0\" >0.744</td>\n      <td id=\"T_e1c89_row18_col1\" class=\"data row18 col1\" >0.722</td>\n      <td id=\"T_e1c89_row18_col2\" class=\"data row18 col2\" >0.766</td>\n      <td id=\"T_e1c89_row18_col3\" class=\"data row18 col3\" >0.616</td>\n      <td id=\"T_e1c89_row18_col4\" class=\"data row18 col4\" >2,097</td>\n      <td id=\"T_e1c89_row18_col5\" class=\"data row18 col5\" >CustomOrdinalEncoder()</td>\n      <td id=\"T_e1c89_row18_col6\" class=\"data row18 col6\" >SimpleImputer()</td>\n      <td id=\"T_e1c89_row18_col7\" class=\"data row18 col7\" >StandardScaler()</td>\n    </tr>\n    <tr>\n      <td id=\"T_e1c89_row19_col0\" class=\"data row19 col0\" >0.743</td>\n      <td id=\"T_e1c89_row19_col1\" class=\"data row19 col1\" >0.722</td>\n      <td id=\"T_e1c89_row19_col2\" class=\"data row19 col2\" >0.765</td>\n      <td id=\"T_e1c89_row19_col3\" class=\"data row19 col3\" >0.381</td>\n      <td id=\"T_e1c89_row19_col4\" class=\"data row19 col4\" >910</td>\n      <td id=\"T_e1c89_row19_col5\" class=\"data row19 col5\" >OneHotEncoder()</td>\n      <td id=\"T_e1c89_row19_col6\" class=\"data row19 col6\" >SimpleImputer()</td>\n      <td id=\"T_e1c89_row19_col7\" class=\"data row19 col7\" >MinMaxScaler()</td>\n    </tr>\n    <tr>\n      <td id=\"T_e1c89_row20_col0\" class=\"data row20 col0\" >0.741</td>\n      <td id=\"T_e1c89_row20_col1\" class=\"data row20 col1\" >0.719</td>\n      <td id=\"T_e1c89_row20_col2\" class=\"data row20 col2\" >0.762</td>\n      <td id=\"T_e1c89_row20_col3\" class=\"data row20 col3\" >0.575</td>\n      <td id=\"T_e1c89_row20_col4\" class=\"data row20 col4\" >1,325</td>\n      <td id=\"T_e1c89_row20_col5\" class=\"data row20 col5\" >OneHotEncoder()</td>\n      <td id=\"T_e1c89_row20_col6\" class=\"data row20 col6\" >SimpleImputer()</td>\n      <td id=\"T_e1c89_row20_col7\" class=\"data row20 col7\" >StandardScaler()</td>\n    </tr>\n    <tr>\n      <td id=\"T_e1c89_row21_col0\" class=\"data row21 col0\" >0.740</td>\n      <td id=\"T_e1c89_row21_col1\" class=\"data row21 col1\" >0.718</td>\n      <td id=\"T_e1c89_row21_col2\" class=\"data row21 col2\" >0.761</td>\n      <td id=\"T_e1c89_row21_col3\" class=\"data row21 col3\" >0.602</td>\n      <td id=\"T_e1c89_row21_col4\" class=\"data row21 col4\" >4,961</td>\n      <td id=\"T_e1c89_row21_col5\" class=\"data row21 col5\" >OneHotEncoder()</td>\n      <td id=\"T_e1c89_row21_col6\" class=\"data row21 col6\" >SimpleImputer()</td>\n      <td id=\"T_e1c89_row21_col7\" class=\"data row21 col7\" >StandardScaler()</td>\n    </tr>\n    <tr>\n      <td id=\"T_e1c89_row22_col0\" class=\"data row22 col0\" >0.740</td>\n      <td id=\"T_e1c89_row22_col1\" class=\"data row22 col1\" >0.719</td>\n      <td id=\"T_e1c89_row22_col2\" class=\"data row22 col2\" >0.762</td>\n      <td id=\"T_e1c89_row22_col3\" class=\"data row22 col3\" >0.596</td>\n      <td id=\"T_e1c89_row22_col4\" class=\"data row22 col4\" >3,252</td>\n      <td id=\"T_e1c89_row22_col5\" class=\"data row22 col5\" >OneHotEncoder()</td>\n      <td id=\"T_e1c89_row22_col6\" class=\"data row22 col6\" >SimpleImputer()</td>\n      <td id=\"T_e1c89_row22_col7\" class=\"data row22 col7\" >MinMaxScaler()</td>\n    </tr>\n    <tr>\n      <td id=\"T_e1c89_row23_col0\" class=\"data row23 col0\" >0.740</td>\n      <td id=\"T_e1c89_row23_col1\" class=\"data row23 col1\" >0.718</td>\n      <td id=\"T_e1c89_row23_col2\" class=\"data row23 col2\" >0.761</td>\n      <td id=\"T_e1c89_row23_col3\" class=\"data row23 col3\" >0.939</td>\n      <td id=\"T_e1c89_row23_col4\" class=\"data row23 col4\" >2,483</td>\n      <td id=\"T_e1c89_row23_col5\" class=\"data row23 col5\" >CustomOrdinalEncoder()</td>\n      <td id=\"T_e1c89_row23_col6\" class=\"data row23 col6\" >SimpleImputer()</td>\n      <td id=\"T_e1c89_row23_col7\" class=\"data row23 col7\" >StandardScaler()</td>\n    </tr>\n    <tr>\n      <td id=\"T_e1c89_row24_col0\" class=\"data row24 col0\" >0.739</td>\n      <td id=\"T_e1c89_row24_col1\" class=\"data row24 col1\" >0.718</td>\n      <td id=\"T_e1c89_row24_col2\" class=\"data row24 col2\" >0.761</td>\n      <td id=\"T_e1c89_row24_col3\" class=\"data row24 col3\" >0.949</td>\n      <td id=\"T_e1c89_row24_col4\" class=\"data row24 col4\" >2,413</td>\n      <td id=\"T_e1c89_row24_col5\" class=\"data row24 col5\" >CustomOrdinalEncoder()</td>\n      <td id=\"T_e1c89_row24_col6\" class=\"data row24 col6\" >SimpleImputer()</td>\n      <td id=\"T_e1c89_row24_col7\" class=\"data row24 col7\" >StandardScaler()</td>\n    </tr>\n    <tr>\n      <td id=\"T_e1c89_row25_col0\" class=\"data row25 col0\" >0.739</td>\n      <td id=\"T_e1c89_row25_col1\" class=\"data row25 col1\" >0.717</td>\n      <td id=\"T_e1c89_row25_col2\" class=\"data row25 col2\" >0.760</td>\n      <td id=\"T_e1c89_row25_col3\" class=\"data row25 col3\" >0.622</td>\n      <td id=\"T_e1c89_row25_col4\" class=\"data row25 col4\" >1,949</td>\n      <td id=\"T_e1c89_row25_col5\" class=\"data row25 col5\" >OneHotEncoder()</td>\n      <td id=\"T_e1c89_row25_col6\" class=\"data row25 col6\" >SimpleImputer()</td>\n      <td id=\"T_e1c89_row25_col7\" class=\"data row25 col7\" >StandardScaler()</td>\n    </tr>\n    <tr>\n      <td id=\"T_e1c89_row26_col0\" class=\"data row26 col0\" >0.737</td>\n      <td id=\"T_e1c89_row26_col1\" class=\"data row26 col1\" >0.715</td>\n      <td id=\"T_e1c89_row26_col2\" class=\"data row26 col2\" >0.758</td>\n      <td id=\"T_e1c89_row26_col3\" class=\"data row26 col3\" >0.782</td>\n      <td id=\"T_e1c89_row26_col4\" class=\"data row26 col4\" >3,142</td>\n      <td id=\"T_e1c89_row26_col5\" class=\"data row26 col5\" >OneHotEncoder()</td>\n      <td id=\"T_e1c89_row26_col6\" class=\"data row26 col6\" >SimpleImputer()</td>\n      <td id=\"T_e1c89_row26_col7\" class=\"data row26 col7\" >StandardScaler()</td>\n    </tr>\n    <tr>\n      <td id=\"T_e1c89_row27_col0\" class=\"data row27 col0\" >0.737</td>\n      <td id=\"T_e1c89_row27_col1\" class=\"data row27 col1\" >0.715</td>\n      <td id=\"T_e1c89_row27_col2\" class=\"data row27 col2\" >0.758</td>\n      <td id=\"T_e1c89_row27_col3\" class=\"data row27 col3\" >0.684</td>\n      <td id=\"T_e1c89_row27_col4\" class=\"data row27 col4\" >2,938</td>\n      <td id=\"T_e1c89_row27_col5\" class=\"data row27 col5\" >OneHotEncoder()</td>\n      <td id=\"T_e1c89_row27_col6\" class=\"data row27 col6\" >SimpleImputer()</td>\n      <td id=\"T_e1c89_row27_col7\" class=\"data row27 col7\" >StandardScaler()</td>\n    </tr>\n    <tr>\n      <td id=\"T_e1c89_row28_col0\" class=\"data row28 col0\" >0.737</td>\n      <td id=\"T_e1c89_row28_col1\" class=\"data row28 col1\" >0.715</td>\n      <td id=\"T_e1c89_row28_col2\" class=\"data row28 col2\" >0.759</td>\n      <td id=\"T_e1c89_row28_col3\" class=\"data row28 col3\" >0.774</td>\n      <td id=\"T_e1c89_row28_col4\" class=\"data row28 col4\" >3,611</td>\n      <td id=\"T_e1c89_row28_col5\" class=\"data row28 col5\" >OneHotEncoder()</td>\n      <td id=\"T_e1c89_row28_col6\" class=\"data row28 col6\" >SimpleImputer()</td>\n      <td id=\"T_e1c89_row28_col7\" class=\"data row28 col7\" >StandardScaler()</td>\n    </tr>\n    <tr>\n      <td id=\"T_e1c89_row29_col0\" class=\"data row29 col0\" >0.728</td>\n      <td id=\"T_e1c89_row29_col1\" class=\"data row29 col1\" >0.709</td>\n      <td id=\"T_e1c89_row29_col2\" class=\"data row29 col2\" >0.748</td>\n      <td id=\"T_e1c89_row29_col3\" class=\"data row29 col3\" >0.835</td>\n      <td id=\"T_e1c89_row29_col4\" class=\"data row29 col4\" >84</td>\n      <td id=\"T_e1c89_row29_col5\" class=\"data row29 col5\" >CustomOrdinalEncoder()</td>\n      <td id=\"T_e1c89_row29_col6\" class=\"data row29 col6\" >SimpleImputer()</td>\n      <td id=\"T_e1c89_row29_col7\" class=\"data row29 col7\" >MinMaxScaler()</td>\n    </tr>\n  </tbody>\n</table>\n"
     },
     "execution_count": 64,
     "metadata": {},
     "output_type": "execute_result"
    }
   ],
   "source": [
    "hlp.sklearn_eval.cv_results_to_dataframe(\n",
    "    searcher=random_search,num_folds=num_folds,\n",
    "    num_repeats=num_repeats,\n",
    "    return_style=True\n",
    ")"
   ]
  },
  {
   "cell_type": "code",
   "execution_count": 65,
   "id": "b7e1288e",
   "metadata": {},
   "outputs": [
    {
     "data": {
      "text/plain": "                        roc_auc Mean\ntransformer | encoder               \nCustomOrdinalEncoder()      0.750437\nOneHotEncoder()             0.744214",
      "text/html": "<div>\n<style scoped>\n    .dataframe tbody tr th:only-of-type {\n        vertical-align: middle;\n    }\n\n    .dataframe tbody tr th {\n        vertical-align: top;\n    }\n\n    .dataframe thead th {\n        text-align: right;\n    }\n</style>\n<table border=\"1\" class=\"dataframe\">\n  <thead>\n    <tr style=\"text-align: right;\">\n      <th></th>\n      <th>roc_auc Mean</th>\n    </tr>\n    <tr>\n      <th>transformer | encoder</th>\n      <th></th>\n    </tr>\n  </thead>\n  <tbody>\n    <tr>\n      <th>CustomOrdinalEncoder()</th>\n      <td>0.750437</td>\n    </tr>\n    <tr>\n      <th>OneHotEncoder()</th>\n      <td>0.744214</td>\n    </tr>\n  </tbody>\n</table>\n</div>"
     },
     "execution_count": 65,
     "metadata": {},
     "output_type": "execute_result"
    }
   ],
   "source": [
    "random_search_df.fillna(0).groupby('transformer | encoder').agg({'roc_auc Mean': np.mean}).sort_values(by='roc_auc Mean', ascending=False)"
   ]
  },
  {
   "cell_type": "code",
   "execution_count": 66,
   "id": "c4b3897a",
   "metadata": {},
   "outputs": [
    {
     "data": {
      "text/plain": "<Figure size 432x288 with 1 Axes>",
      "image/png": "[encoded data removed]"
     },
     "metadata": {
      "needs_background": "light"
     },
     "output_type": "display_data"
    }
   ],
   "source": [
    "import matplotlib.pyplot as plt\n",
    "plt.xlim(0, 1)\n",
    "sns.set(rc={'figure.figsize': hlp.plot.STANDARD_WIDTH_HEIGHT})\n",
    "sns.scatterplot(data=random_search_df, x=\"model | max_features\", y=\"roc_auc Mean\")\n",
    "plt.show()"
   ]
  },
  {
   "cell_type": "code",
   "execution_count": 67,
   "id": "df4a7138",
   "metadata": {},
   "outputs": [
    {
     "data": {
      "text/plain": "<Figure size 720x444.984 with 1 Axes>",
      "image/png": "[encoded data removed]"
     },
     "metadata": {},
     "output_type": "display_data"
    }
   ],
   "source": [
    "sns.set(rc={'figure.figsize': hlp.plot.STANDARD_WIDTH_HEIGHT})\n",
    "sns.scatterplot(data=random_search_df,\n",
    "                x=\"model | n_estimators\",\n",
    "                y=\"roc_auc Mean\",\n",
    "                size='model | max_features')\n",
    "plt.show()"
   ]
  },
  {
   "cell_type": "code",
   "execution_count": 68,
   "id": "ba0c531d",
   "metadata": {},
   "outputs": [
    {
     "data": {
      "text/plain": "<Figure size 720x444.984 with 1 Axes>",
      "image/png": "[encoded data removed]"
     },
     "metadata": {},
     "output_type": "display_data"
    }
   ],
   "source": [
    "sns.set(rc={'figure.figsize': hlp.plot.STANDARD_WIDTH_HEIGHT})\n",
    "sns.lineplot(data=random_search_df,\n",
    "                x=\"model | n_estimators\",\n",
    "                y=\"roc_auc Mean\",\n",
    "                hue=pd.cut(random_search_df['model | max_features'], bins=np.linspace(0,1,11)))\n",
    "plt.show()"
   ]
  },
  {
   "cell_type": "code",
   "execution_count": 69,
   "id": "4adb25bf",
   "metadata": {},
   "outputs": [
    {
     "data": {
      "text/plain": "<Figure size 720x444.984 with 1 Axes>",
      "image/png": "[encoded data removed]"
     },
     "metadata": {},
     "output_type": "display_data"
    }
   ],
   "source": [
    "sns.set(rc={'figure.figsize': hlp.plot.STANDARD_WIDTH_HEIGHT})\n",
    "sns.lineplot(data=random_search_df,\n",
    "                x=\"model | n_estimators\",\n",
    "                y=\"roc_auc Mean\",\n",
    "             hue='transformer | encoder')\n",
    "plt.show()"
   ]
  },
  {
   "cell_type": "code",
   "execution_count": 70,
   "id": "852d05fb",
   "metadata": {},
   "outputs": [
    {
     "data": {
      "text/plain": "<Figure size 844.175x360 with 2 Axes>",
      "image/png": "[encoded data removed]"
     },
     "metadata": {},
     "output_type": "display_data"
    }
   ],
   "source": [
    "sns.set(rc={'figure.figsize': hlp.plot.STANDARD_WIDTH_HEIGHT})\n",
    "sns.relplot(data=random_search_df,\n",
    "            kind='line',\n",
    "            x=\"model | n_estimators\",\n",
    "            y=\"roc_auc Mean\",\n",
    "            hue=pd.cut(random_search_df['model | max_features'], bins=np.linspace(0,1,11)),\n",
    "            col='transformer | encoder')\n",
    "plt.show()"
   ]
  },
  {
   "cell_type": "markdown",
   "source": [
    "# skopt.BayesSearchCV"
   ],
   "metadata": {
    "collapsed": false,
    "pycharm": {
     "name": "#%% md\n"
    }
   }
  },
  {
   "cell_type": "code",
   "execution_count": 71,
   "outputs": [],
   "source": [
    "# pip install scikit-optimize\n",
    "from skopt import BayesSearchCV\n",
    "from skopt.space import Real, Categorical, Integer"
   ],
   "metadata": {
    "collapsed": false,
    "pycharm": {
     "name": "#%%\n"
    }
   }
  },
  {
   "cell_type": "code",
   "execution_count": null,
   "outputs": [],
   "source": [],
   "metadata": {
    "collapsed": false,
    "pycharm": {
     "name": "#%%\n"
    }
   }
  },
  {
   "cell_type": "code",
   "execution_count": null,
   "outputs": [],
   "source": [],
   "metadata": {
    "collapsed": false,
    "pycharm": {
     "name": "#%%\n"
    }
   }
  },
  {
   "cell_type": "code",
   "execution_count": null,
   "outputs": [],
   "source": [],
   "metadata": {
    "collapsed": false,
    "pycharm": {
     "name": "#%%\n"
    }
   }
  },
  {
   "cell_type": "code",
   "execution_count": null,
   "outputs": [],
   "source": [],
   "metadata": {
    "collapsed": false,
    "pycharm": {
     "name": "#%%\n"
    }
   }
  },
  {
   "cell_type": "markdown",
   "id": "43fc5391",
   "metadata": {},
   "source": [
    "# Final Model"
   ]
  },
  {
   "cell_type": "code",
   "execution_count": 54,
   "id": "516fb236",
   "metadata": {},
   "outputs": [],
   "source": [
    "best_model = grid_search.best_estimator_"
   ]
  },
  {
   "cell_type": "code",
   "execution_count": 55,
   "id": "c928887e",
   "metadata": {},
   "outputs": [
    {
     "data": {
      "text/plain": [
       "array([0, 1])"
      ]
     },
     "execution_count": 55,
     "metadata": {},
     "output_type": "execute_result"
    }
   ],
   "source": [
    "best_model.classes_"
   ]
  },
  {
   "cell_type": "markdown",
   "id": "c995ec2a",
   "metadata": {},
   "source": [
    "## Training Set Evaluation"
   ]
  },
  {
   "cell_type": "markdown",
   "id": "42753452",
   "metadata": {},
   "source": [
    "Understand the nature/degree of model overfitting by comparing to `Test Set Evaluation`"
   ]
  },
  {
   "cell_type": "code",
   "execution_count": 56,
   "id": "715baf29",
   "metadata": {},
   "outputs": [],
   "source": [
    "predicted_scores = best_model.predict_proba(X_train)[:, 1]"
   ]
  },
  {
   "cell_type": "code",
   "execution_count": 57,
   "id": "19cebd6f",
   "metadata": {},
   "outputs": [
    {
     "data": {
      "image/png": "[encoded data removed]",
      "text/plain": [
       "<Figure size 720x444.984 with 1 Axes>"
      ]
     },
     "metadata": {},
     "output_type": "display_data"
    }
   ],
   "source": [
    "sns.histplot(predicted_scores)\n",
    "plt.tight_layout()"
   ]
  },
  {
   "cell_type": "code",
   "execution_count": 58,
   "id": "19afe1a7",
   "metadata": {},
   "outputs": [],
   "source": [
    "evaluator = hlp.sklearn.TwoClassEvaluator(\n",
    "    actual_values=y_train,\n",
    "    predicted_scores=predicted_scores,\n",
    "    labels=('Bad', 'Good'),\n",
    "    score_threshold=0.5\n",
    ")"
   ]
  },
  {
   "cell_type": "code",
   "execution_count": 59,
   "id": "aa907fdc",
   "metadata": {},
   "outputs": [
    {
     "data": {
      "text/html": [
       "<style type=\"text/css\">\n",
       "#T_d9c8b_row0_col0, #T_d9c8b_row1_col0, #T_d9c8b_row2_col0, #T_d9c8b_row5_col0, #T_d9c8b_row6_col0, #T_d9c8b_row7_col0 {\n",
       "  width: 10em;\n",
       "  height: 80%;\n",
       "  background: linear-gradient(90deg,#1AAF54 100.0%, transparent 100.0%);\n",
       "}\n",
       "#T_d9c8b_row3_col0, #T_d9c8b_row4_col0, #T_d9c8b_row9_col0 {\n",
       "  width: 10em;\n",
       "  height: 80%;\n",
       "  width: 10em;\n",
       "  height: 80%;\n",
       "}\n",
       "#T_d9c8b_row8_col0 {\n",
       "  width: 10em;\n",
       "  height: 80%;\n",
       "  background: linear-gradient(90deg,#1AAF54 100.0%, transparent 100.0%);\n",
       "  width: 10em;\n",
       "  height: 80%;\n",
       "  background: linear-gradient(90deg,#B4B7B9 100.0%, transparent 100.0%);\n",
       "}\n",
       "#T_d9c8b_row10_col0 {\n",
       "  width: 10em;\n",
       "  height: 80%;\n",
       "  background: linear-gradient(90deg,#1AAF54 69.9%, transparent 69.9%);\n",
       "  width: 10em;\n",
       "  height: 80%;\n",
       "  background: linear-gradient(90deg,#B4B7B9 69.9%, transparent 69.9%);\n",
       "}\n",
       "</style>\n",
       "<table id=\"T_d9c8b_\">\n",
       "  <thead>\n",
       "    <tr>\n",
       "      <th class=\"blank level0\" >&nbsp;</th>\n",
       "      <th class=\"col_heading level0 col0\" >Scores</th>\n",
       "      <th class=\"col_heading level0 col1\" >Details</th>\n",
       "    </tr>\n",
       "  </thead>\n",
       "  <tbody>\n",
       "    <tr>\n",
       "      <th id=\"T_d9c8b_level0_row0\" class=\"row_heading level0 row0\" >AUC</th>\n",
       "      <td id=\"T_d9c8b_row0_col0\" class=\"data row0 col0\" >1.000</td>\n",
       "      <td id=\"T_d9c8b_row0_col1\" class=\"data row0 col1\" >Area under the ROC curve (true pos. rate vs false pos. rate); ranges from 0.5 (purely random classifier) to 1.0 (perfect classifier)</td>\n",
       "    </tr>\n",
       "    <tr>\n",
       "      <th id=\"T_d9c8b_level0_row1\" class=\"row_heading level0 row1\" >True Positive Rate</th>\n",
       "      <td id=\"T_d9c8b_row1_col0\" class=\"data row1 col0\" >1.000</td>\n",
       "      <td id=\"T_d9c8b_row1_col1\" class=\"data row1 col1\" >100.0% of positive instances were correctly identified.; i.e. 559 \"Good\" labels were correctly identified out of 559 instances; a.k.a Sensitivity/Recall</td>\n",
       "    </tr>\n",
       "    <tr>\n",
       "      <th id=\"T_d9c8b_level0_row2\" class=\"row_heading level0 row2\" >True Negative Rate</th>\n",
       "      <td id=\"T_d9c8b_row2_col0\" class=\"data row2 col0\" >1.000</td>\n",
       "      <td id=\"T_d9c8b_row2_col1\" class=\"data row2 col1\" >100.0% of negative instances were correctly identified.; i.e. 241 \"Bad\" labels were correctly identified out of 241 instances</td>\n",
       "    </tr>\n",
       "    <tr>\n",
       "      <th id=\"T_d9c8b_level0_row3\" class=\"row_heading level0 row3\" >False Positive Rate</th>\n",
       "      <td id=\"T_d9c8b_row3_col0\" class=\"data row3 col0\" >0.000</td>\n",
       "      <td id=\"T_d9c8b_row3_col1\" class=\"data row3 col1\" >0.0% of negative instances were incorrectly identified as positive; i.e. 0 \"Bad\" labels were incorrectly identified as \"Good\", out of 241 instances</td>\n",
       "    </tr>\n",
       "    <tr>\n",
       "      <th id=\"T_d9c8b_level0_row4\" class=\"row_heading level0 row4\" >False Negative Rate</th>\n",
       "      <td id=\"T_d9c8b_row4_col0\" class=\"data row4 col0\" >0.000</td>\n",
       "      <td id=\"T_d9c8b_row4_col1\" class=\"data row4 col1\" >0.0% of positive instances were incorrectly identified as negative; i.e. 0 \"Good\" labels were incorrectly identified as \"Bad\", out of 559 instances</td>\n",
       "    </tr>\n",
       "    <tr>\n",
       "      <th id=\"T_d9c8b_level0_row5\" class=\"row_heading level0 row5\" >Positive Predictive Value</th>\n",
       "      <td id=\"T_d9c8b_row5_col0\" class=\"data row5 col0\" >1.000</td>\n",
       "      <td id=\"T_d9c8b_row5_col1\" class=\"data row5 col1\" >When the model claims an instance is positive, it is correct 100.0% of the time; i.e. out of the 559 times the model predicted \"Good\", it was correct 559 times; a.k.a precision</td>\n",
       "    </tr>\n",
       "    <tr>\n",
       "      <th id=\"T_d9c8b_level0_row6\" class=\"row_heading level0 row6\" >Negative Predictive Value</th>\n",
       "      <td id=\"T_d9c8b_row6_col0\" class=\"data row6 col0\" >1.000</td>\n",
       "      <td id=\"T_d9c8b_row6_col1\" class=\"data row6 col1\" >When the model claims an instance is negative, it is correct 100.0% of the time; i.e. out of the 241 times the model predicted \"Bad\", it was correct 241 times</td>\n",
       "    </tr>\n",
       "    <tr>\n",
       "      <th id=\"T_d9c8b_level0_row7\" class=\"row_heading level0 row7\" >F1 Score</th>\n",
       "      <td id=\"T_d9c8b_row7_col0\" class=\"data row7 col0\" >1.000</td>\n",
       "      <td id=\"T_d9c8b_row7_col1\" class=\"data row7 col1\" >The F1 score can be interpreted as a weighted average of the precision and recall, where an F1 score reaches its best value at 1 and worst score at 0.</td>\n",
       "    </tr>\n",
       "    <tr>\n",
       "      <th id=\"T_d9c8b_level0_row8\" class=\"row_heading level0 row8\" >Accuracy</th>\n",
       "      <td id=\"T_d9c8b_row8_col0\" class=\"data row8 col0\" >1.000</td>\n",
       "      <td id=\"T_d9c8b_row8_col1\" class=\"data row8 col1\" >100.0% of instances were correctly identified</td>\n",
       "    </tr>\n",
       "    <tr>\n",
       "      <th id=\"T_d9c8b_level0_row9\" class=\"row_heading level0 row9\" >Error Rate</th>\n",
       "      <td id=\"T_d9c8b_row9_col0\" class=\"data row9 col0\" >0.000</td>\n",
       "      <td id=\"T_d9c8b_row9_col1\" class=\"data row9 col1\" >0.0% of instances were incorrectly identified</td>\n",
       "    </tr>\n",
       "    <tr>\n",
       "      <th id=\"T_d9c8b_level0_row10\" class=\"row_heading level0 row10\" >% Positive</th>\n",
       "      <td id=\"T_d9c8b_row10_col0\" class=\"data row10 col0\" >0.699</td>\n",
       "      <td id=\"T_d9c8b_row10_col1\" class=\"data row10 col1\" >69.9% of the data are positive; i.e. out of 800 total observations; 559 are labeled as \"Good\"</td>\n",
       "    </tr>\n",
       "    <tr>\n",
       "      <th id=\"T_d9c8b_level0_row11\" class=\"row_heading level0 row11\" >Total Observations</th>\n",
       "      <td id=\"T_d9c8b_row11_col0\" class=\"data row11 col0\" >800</td>\n",
       "      <td id=\"T_d9c8b_row11_col1\" class=\"data row11 col1\" >There are 800 total observations; i.e. sample size</td>\n",
       "    </tr>\n",
       "  </tbody>\n",
       "</table>\n"
      ],
      "text/plain": [
       "<pandas.io.formats.style.Styler at 0x7fa090345c70>"
      ]
     },
     "execution_count": 59,
     "metadata": {},
     "output_type": "execute_result"
    }
   ],
   "source": [
    "evaluator.all_metrics_df(return_style=True, round_by=3)"
   ]
  },
  {
   "cell_type": "markdown",
   "id": "99a47e94",
   "metadata": {},
   "source": [
    "## Test Set Evaluation"
   ]
  },
  {
   "cell_type": "code",
   "execution_count": 60,
   "id": "82b97c55",
   "metadata": {},
   "outputs": [],
   "source": [
    "predicted_scores = best_model.predict_proba(X_test)[:, 1]"
   ]
  },
  {
   "cell_type": "code",
   "execution_count": 61,
   "id": "61c68884",
   "metadata": {},
   "outputs": [
    {
     "data": {
      "text/plain": [
       "array([0.594, 0.576, 0.422, 0.64 , 0.914, 0.572, 0.884, 0.588, 0.842,\n",
       "       0.842, 0.82 , 0.546, 0.798, 0.39 , 0.39 , 0.626, 0.798, 0.852,\n",
       "       0.564, 0.708, 0.752, 0.578, 0.932, 0.972, 0.966, 0.6  , 0.548,\n",
       "       0.548, 0.728, 0.794, 0.672, 0.708, 0.552, 0.8  , 0.822, 0.7  ,\n",
       "       0.46 , 0.698, 0.86 , 0.554, 0.636, 0.846, 0.63 , 0.846, 0.9  ,\n",
       "       0.704, 0.49 , 0.644, 0.656, 0.77 , 0.494, 0.88 , 0.724, 0.594,\n",
       "       0.786, 0.76 , 0.922, 0.462, 0.486, 0.822, 0.752, 0.558, 0.652,\n",
       "       0.916, 0.604, 0.712, 0.856, 0.638, 0.626, 0.81 , 0.602, 0.9  ,\n",
       "       0.756, 0.692, 0.69 , 0.574, 0.704, 0.82 , 0.75 , 0.568, 0.804,\n",
       "       0.772, 0.942, 0.752, 0.838, 0.514, 0.442, 0.434, 0.826, 0.864,\n",
       "       0.58 , 0.89 , 0.246, 0.5  , 0.938, 0.802, 0.822, 0.686, 0.452,\n",
       "       0.62 , 0.958, 0.692, 0.758, 0.924, 0.772, 0.694, 0.61 , 0.566,\n",
       "       0.732, 0.524, 0.43 , 0.776, 0.706, 0.832, 0.742, 0.758, 0.62 ,\n",
       "       0.818, 0.838, 0.646, 0.612, 0.56 , 0.764, 0.808, 0.594, 0.786,\n",
       "       0.528, 0.79 , 0.828, 0.7  , 0.688, 0.78 , 0.84 , 0.736, 0.66 ,\n",
       "       0.718, 0.53 , 0.84 , 0.754, 0.642, 0.69 , 0.598, 0.508, 0.858,\n",
       "       0.724, 0.45 , 0.682, 0.722, 0.526, 0.52 , 0.846, 0.678, 0.852,\n",
       "       0.666, 0.9  , 0.592, 0.634, 0.792, 0.738, 0.722, 0.528, 0.808,\n",
       "       0.496, 0.486, 0.54 , 0.612, 0.892, 0.662, 0.872, 0.606, 0.832,\n",
       "       0.764, 0.684, 0.768, 0.874, 0.694, 0.678, 0.878, 0.666, 0.566,\n",
       "       0.874, 0.838, 0.772, 0.67 , 0.814, 0.896, 0.558, 0.864, 0.866,\n",
       "       0.86 , 0.83 , 0.524, 0.478, 0.552, 0.746, 0.828, 0.458, 0.5  ,\n",
       "       0.432, 0.746])"
      ]
     },
     "execution_count": 61,
     "metadata": {},
     "output_type": "execute_result"
    }
   ],
   "source": [
    "predicted_scores"
   ]
  },
  {
   "cell_type": "code",
   "execution_count": 62,
   "id": "648c23c9",
   "metadata": {},
   "outputs": [
    {
     "data": {
      "image/png": "[encoded data removed]",
      "text/plain": [
       "<Figure size 720x444.984 with 1 Axes>"
      ]
     },
     "metadata": {},
     "output_type": "display_data"
    }
   ],
   "source": [
    "sns.histplot(predicted_scores)\n",
    "plt.tight_layout()"
   ]
  },
  {
   "cell_type": "code",
   "execution_count": 63,
   "id": "4b64e733",
   "metadata": {},
   "outputs": [],
   "source": [
    "evaluator = hlp.sklearn.TwoClassEvaluator(\n",
    "    actual_values=y_test,\n",
    "    predicted_scores=predicted_scores,\n",
    "    labels=('Bad', 'Good'),\n",
    "    score_threshold=0.5\n",
    ")"
   ]
  },
  {
   "cell_type": "code",
   "execution_count": 64,
   "id": "a17343a2",
   "metadata": {},
   "outputs": [
    {
     "data": {
      "image/png": "[encoded data removed]",
      "text/plain": [
       "<Figure size 720x444.984 with 2 Axes>"
      ]
     },
     "metadata": {},
     "output_type": "display_data"
    }
   ],
   "source": [
    "evaluator.plot_confusion_matrix()"
   ]
  },
  {
   "cell_type": "code",
   "execution_count": 65,
   "id": "9516f3bb",
   "metadata": {},
   "outputs": [
    {
     "data": {
      "text/html": [
       "<style type=\"text/css\">\n",
       "#T_d3404_row0_col0 {\n",
       "  width: 10em;\n",
       "  height: 80%;\n",
       "  background: linear-gradient(90deg,#1AAF54 80.8%, transparent 80.8%);\n",
       "}\n",
       "#T_d3404_row1_col0 {\n",
       "  width: 10em;\n",
       "  height: 80%;\n",
       "  background: linear-gradient(90deg,#1AAF54 95.0%, transparent 95.0%);\n",
       "}\n",
       "#T_d3404_row2_col0 {\n",
       "  width: 10em;\n",
       "  height: 80%;\n",
       "  background: linear-gradient(90deg,#1AAF54 23.7%, transparent 23.7%);\n",
       "}\n",
       "#T_d3404_row3_col0 {\n",
       "  width: 10em;\n",
       "  height: 80%;\n",
       "  background: linear-gradient(90deg,#1AAF54 76.3%, transparent 76.3%);\n",
       "  width: 10em;\n",
       "  height: 80%;\n",
       "  background: linear-gradient(90deg,#FF420E 76.3%, transparent 76.3%);\n",
       "}\n",
       "#T_d3404_row4_col0 {\n",
       "  width: 10em;\n",
       "  height: 80%;\n",
       "  background: linear-gradient(90deg,#1AAF54 5.0%, transparent 5.0%);\n",
       "  width: 10em;\n",
       "  height: 80%;\n",
       "  background: linear-gradient(90deg,#FF420E 5.0%, transparent 5.0%);\n",
       "}\n",
       "#T_d3404_row5_col0 {\n",
       "  width: 10em;\n",
       "  height: 80%;\n",
       "  background: linear-gradient(90deg,#1AAF54 74.9%, transparent 74.9%);\n",
       "}\n",
       "#T_d3404_row6_col0 {\n",
       "  width: 10em;\n",
       "  height: 80%;\n",
       "  background: linear-gradient(90deg,#1AAF54 66.7%, transparent 66.7%);\n",
       "}\n",
       "#T_d3404_row7_col0 {\n",
       "  width: 10em;\n",
       "  height: 80%;\n",
       "  background: linear-gradient(90deg,#1AAF54 83.8%, transparent 83.8%);\n",
       "}\n",
       "#T_d3404_row8_col0 {\n",
       "  width: 10em;\n",
       "  height: 80%;\n",
       "  background: linear-gradient(90deg,#1AAF54 74.0%, transparent 74.0%);\n",
       "  width: 10em;\n",
       "  height: 80%;\n",
       "  background: linear-gradient(90deg,#B4B7B9 74.0%, transparent 74.0%);\n",
       "}\n",
       "#T_d3404_row9_col0 {\n",
       "  width: 10em;\n",
       "  height: 80%;\n",
       "  background: linear-gradient(90deg,#1AAF54 26.0%, transparent 26.0%);\n",
       "  width: 10em;\n",
       "  height: 80%;\n",
       "  background: linear-gradient(90deg,#B4B7B9 26.0%, transparent 26.0%);\n",
       "}\n",
       "#T_d3404_row10_col0 {\n",
       "  width: 10em;\n",
       "  height: 80%;\n",
       "  background: linear-gradient(90deg,#1AAF54 70.5%, transparent 70.5%);\n",
       "  width: 10em;\n",
       "  height: 80%;\n",
       "  background: linear-gradient(90deg,#B4B7B9 70.5%, transparent 70.5%);\n",
       "}\n",
       "</style>\n",
       "<table id=\"T_d3404_\">\n",
       "  <thead>\n",
       "    <tr>\n",
       "      <th class=\"blank level0\" >&nbsp;</th>\n",
       "      <th class=\"col_heading level0 col0\" >Scores</th>\n",
       "      <th class=\"col_heading level0 col1\" >Details</th>\n",
       "    </tr>\n",
       "  </thead>\n",
       "  <tbody>\n",
       "    <tr>\n",
       "      <th id=\"T_d3404_level0_row0\" class=\"row_heading level0 row0\" >AUC</th>\n",
       "      <td id=\"T_d3404_row0_col0\" class=\"data row0 col0\" >0.808</td>\n",
       "      <td id=\"T_d3404_row0_col1\" class=\"data row0 col1\" >Area under the ROC curve (true pos. rate vs false pos. rate); ranges from 0.5 (purely random classifier) to 1.0 (perfect classifier)</td>\n",
       "    </tr>\n",
       "    <tr>\n",
       "      <th id=\"T_d3404_level0_row1\" class=\"row_heading level0 row1\" >True Positive Rate</th>\n",
       "      <td id=\"T_d3404_row1_col0\" class=\"data row1 col0\" >0.950</td>\n",
       "      <td id=\"T_d3404_row1_col1\" class=\"data row1 col1\" >95.0% of positive instances were correctly identified.; i.e. 134 \"Good\" labels were correctly identified out of 141 instances; a.k.a Sensitivity/Recall</td>\n",
       "    </tr>\n",
       "    <tr>\n",
       "      <th id=\"T_d3404_level0_row2\" class=\"row_heading level0 row2\" >True Negative Rate</th>\n",
       "      <td id=\"T_d3404_row2_col0\" class=\"data row2 col0\" >0.237</td>\n",
       "      <td id=\"T_d3404_row2_col1\" class=\"data row2 col1\" >23.7% of negative instances were correctly identified.; i.e. 14 \"Bad\" labels were correctly identified out of 59 instances</td>\n",
       "    </tr>\n",
       "    <tr>\n",
       "      <th id=\"T_d3404_level0_row3\" class=\"row_heading level0 row3\" >False Positive Rate</th>\n",
       "      <td id=\"T_d3404_row3_col0\" class=\"data row3 col0\" >0.763</td>\n",
       "      <td id=\"T_d3404_row3_col1\" class=\"data row3 col1\" >76.3% of negative instances were incorrectly identified as positive; i.e. 45 \"Bad\" labels were incorrectly identified as \"Good\", out of 59 instances</td>\n",
       "    </tr>\n",
       "    <tr>\n",
       "      <th id=\"T_d3404_level0_row4\" class=\"row_heading level0 row4\" >False Negative Rate</th>\n",
       "      <td id=\"T_d3404_row4_col0\" class=\"data row4 col0\" >0.050</td>\n",
       "      <td id=\"T_d3404_row4_col1\" class=\"data row4 col1\" >5.0% of positive instances were incorrectly identified as negative; i.e. 7 \"Good\" labels were incorrectly identified as \"Bad\", out of 141 instances</td>\n",
       "    </tr>\n",
       "    <tr>\n",
       "      <th id=\"T_d3404_level0_row5\" class=\"row_heading level0 row5\" >Positive Predictive Value</th>\n",
       "      <td id=\"T_d3404_row5_col0\" class=\"data row5 col0\" >0.749</td>\n",
       "      <td id=\"T_d3404_row5_col1\" class=\"data row5 col1\" >When the model claims an instance is positive, it is correct 74.9% of the time; i.e. out of the 179 times the model predicted \"Good\", it was correct 134 times; a.k.a precision</td>\n",
       "    </tr>\n",
       "    <tr>\n",
       "      <th id=\"T_d3404_level0_row6\" class=\"row_heading level0 row6\" >Negative Predictive Value</th>\n",
       "      <td id=\"T_d3404_row6_col0\" class=\"data row6 col0\" >0.667</td>\n",
       "      <td id=\"T_d3404_row6_col1\" class=\"data row6 col1\" >When the model claims an instance is negative, it is correct 66.7% of the time; i.e. out of the 21 times the model predicted \"Bad\", it was correct 14 times</td>\n",
       "    </tr>\n",
       "    <tr>\n",
       "      <th id=\"T_d3404_level0_row7\" class=\"row_heading level0 row7\" >F1 Score</th>\n",
       "      <td id=\"T_d3404_row7_col0\" class=\"data row7 col0\" >0.838</td>\n",
       "      <td id=\"T_d3404_row7_col1\" class=\"data row7 col1\" >The F1 score can be interpreted as a weighted average of the precision and recall, where an F1 score reaches its best value at 1 and worst score at 0.</td>\n",
       "    </tr>\n",
       "    <tr>\n",
       "      <th id=\"T_d3404_level0_row8\" class=\"row_heading level0 row8\" >Accuracy</th>\n",
       "      <td id=\"T_d3404_row8_col0\" class=\"data row8 col0\" >0.740</td>\n",
       "      <td id=\"T_d3404_row8_col1\" class=\"data row8 col1\" >74.0% of instances were correctly identified</td>\n",
       "    </tr>\n",
       "    <tr>\n",
       "      <th id=\"T_d3404_level0_row9\" class=\"row_heading level0 row9\" >Error Rate</th>\n",
       "      <td id=\"T_d3404_row9_col0\" class=\"data row9 col0\" >0.260</td>\n",
       "      <td id=\"T_d3404_row9_col1\" class=\"data row9 col1\" >26.0% of instances were incorrectly identified</td>\n",
       "    </tr>\n",
       "    <tr>\n",
       "      <th id=\"T_d3404_level0_row10\" class=\"row_heading level0 row10\" >% Positive</th>\n",
       "      <td id=\"T_d3404_row10_col0\" class=\"data row10 col0\" >0.705</td>\n",
       "      <td id=\"T_d3404_row10_col1\" class=\"data row10 col1\" >70.5% of the data are positive; i.e. out of 200 total observations; 141 are labeled as \"Good\"</td>\n",
       "    </tr>\n",
       "    <tr>\n",
       "      <th id=\"T_d3404_level0_row11\" class=\"row_heading level0 row11\" >Total Observations</th>\n",
       "      <td id=\"T_d3404_row11_col0\" class=\"data row11 col0\" >200</td>\n",
       "      <td id=\"T_d3404_row11_col1\" class=\"data row11 col1\" >There are 200 total observations; i.e. sample size</td>\n",
       "    </tr>\n",
       "  </tbody>\n",
       "</table>\n"
      ],
      "text/plain": [
       "<pandas.io.formats.style.Styler at 0x7fa0b8f18dc0>"
      ]
     },
     "execution_count": 65,
     "metadata": {},
     "output_type": "execute_result"
    }
   ],
   "source": [
    "evaluator.all_metrics_df(return_style=True, round_by=3)"
   ]
  },
  {
   "cell_type": "markdown",
   "id": "09a3204d",
   "metadata": {},
   "source": [
    "Compare results against scores if we predicted all `Good`"
   ]
  },
  {
   "cell_type": "code",
   "execution_count": 66,
   "id": "59c27052",
   "metadata": {},
   "outputs": [],
   "source": [
    "dummy_predicted_scores = np.array([0.99] * len(predicted_scores))"
   ]
  },
  {
   "cell_type": "code",
   "execution_count": 67,
   "id": "f3278fdd",
   "metadata": {},
   "outputs": [
    {
     "data": {
      "text/html": [
       "<style type=\"text/css\">\n",
       "#T_e22f5_row0_col0 {\n",
       "  width: 10em;\n",
       "  height: 80%;\n",
       "  background: linear-gradient(90deg,#1AAF54 50.0%, transparent 50.0%);\n",
       "}\n",
       "#T_e22f5_row1_col0 {\n",
       "  width: 10em;\n",
       "  height: 80%;\n",
       "  background: linear-gradient(90deg,#1AAF54 100.0%, transparent 100.0%);\n",
       "}\n",
       "#T_e22f5_row2_col0, #T_e22f5_row6_col0 {\n",
       "  width: 10em;\n",
       "  height: 80%;\n",
       "}\n",
       "#T_e22f5_row3_col0 {\n",
       "  width: 10em;\n",
       "  height: 80%;\n",
       "  background: linear-gradient(90deg,#1AAF54 100.0%, transparent 100.0%);\n",
       "  width: 10em;\n",
       "  height: 80%;\n",
       "  background: linear-gradient(90deg,#FF420E 100.0%, transparent 100.0%);\n",
       "}\n",
       "#T_e22f5_row4_col0 {\n",
       "  width: 10em;\n",
       "  height: 80%;\n",
       "  width: 10em;\n",
       "  height: 80%;\n",
       "}\n",
       "#T_e22f5_row5_col0 {\n",
       "  width: 10em;\n",
       "  height: 80%;\n",
       "  background: linear-gradient(90deg,#1AAF54 70.5%, transparent 70.5%);\n",
       "}\n",
       "#T_e22f5_row7_col0 {\n",
       "  width: 10em;\n",
       "  height: 80%;\n",
       "  background: linear-gradient(90deg,#1AAF54 82.7%, transparent 82.7%);\n",
       "}\n",
       "#T_e22f5_row8_col0, #T_e22f5_row10_col0 {\n",
       "  width: 10em;\n",
       "  height: 80%;\n",
       "  background: linear-gradient(90deg,#1AAF54 70.5%, transparent 70.5%);\n",
       "  width: 10em;\n",
       "  height: 80%;\n",
       "  background: linear-gradient(90deg,#B4B7B9 70.5%, transparent 70.5%);\n",
       "}\n",
       "#T_e22f5_row9_col0 {\n",
       "  width: 10em;\n",
       "  height: 80%;\n",
       "  background: linear-gradient(90deg,#1AAF54 29.5%, transparent 29.5%);\n",
       "  width: 10em;\n",
       "  height: 80%;\n",
       "  background: linear-gradient(90deg,#B4B7B9 29.5%, transparent 29.5%);\n",
       "}\n",
       "</style>\n",
       "<table id=\"T_e22f5_\">\n",
       "  <thead>\n",
       "    <tr>\n",
       "      <th class=\"blank level0\" >&nbsp;</th>\n",
       "      <th class=\"col_heading level0 col0\" >Scores</th>\n",
       "      <th class=\"col_heading level0 col1\" >Details</th>\n",
       "    </tr>\n",
       "  </thead>\n",
       "  <tbody>\n",
       "    <tr>\n",
       "      <th id=\"T_e22f5_level0_row0\" class=\"row_heading level0 row0\" >AUC</th>\n",
       "      <td id=\"T_e22f5_row0_col0\" class=\"data row0 col0\" >0.500</td>\n",
       "      <td id=\"T_e22f5_row0_col1\" class=\"data row0 col1\" >Area under the ROC curve (true pos. rate vs false pos. rate); ranges from 0.5 (purely random classifier) to 1.0 (perfect classifier)</td>\n",
       "    </tr>\n",
       "    <tr>\n",
       "      <th id=\"T_e22f5_level0_row1\" class=\"row_heading level0 row1\" >True Positive Rate</th>\n",
       "      <td id=\"T_e22f5_row1_col0\" class=\"data row1 col0\" >1.000</td>\n",
       "      <td id=\"T_e22f5_row1_col1\" class=\"data row1 col1\" >100.0% of positive instances were correctly identified.; i.e. 141 \"Good\" labels were correctly identified out of 141 instances; a.k.a Sensitivity/Recall</td>\n",
       "    </tr>\n",
       "    <tr>\n",
       "      <th id=\"T_e22f5_level0_row2\" class=\"row_heading level0 row2\" >True Negative Rate</th>\n",
       "      <td id=\"T_e22f5_row2_col0\" class=\"data row2 col0\" >0.000</td>\n",
       "      <td id=\"T_e22f5_row2_col1\" class=\"data row2 col1\" >0.0% of negative instances were correctly identified.; i.e. 0 \"Bad\" labels were correctly identified out of 59 instances</td>\n",
       "    </tr>\n",
       "    <tr>\n",
       "      <th id=\"T_e22f5_level0_row3\" class=\"row_heading level0 row3\" >False Positive Rate</th>\n",
       "      <td id=\"T_e22f5_row3_col0\" class=\"data row3 col0\" >1.000</td>\n",
       "      <td id=\"T_e22f5_row3_col1\" class=\"data row3 col1\" >100.0% of negative instances were incorrectly identified as positive; i.e. 59 \"Bad\" labels were incorrectly identified as \"Good\", out of 59 instances</td>\n",
       "    </tr>\n",
       "    <tr>\n",
       "      <th id=\"T_e22f5_level0_row4\" class=\"row_heading level0 row4\" >False Negative Rate</th>\n",
       "      <td id=\"T_e22f5_row4_col0\" class=\"data row4 col0\" >0.000</td>\n",
       "      <td id=\"T_e22f5_row4_col1\" class=\"data row4 col1\" >0.0% of positive instances were incorrectly identified as negative; i.e. 0 \"Good\" labels were incorrectly identified as \"Bad\", out of 141 instances</td>\n",
       "    </tr>\n",
       "    <tr>\n",
       "      <th id=\"T_e22f5_level0_row5\" class=\"row_heading level0 row5\" >Positive Predictive Value</th>\n",
       "      <td id=\"T_e22f5_row5_col0\" class=\"data row5 col0\" >0.705</td>\n",
       "      <td id=\"T_e22f5_row5_col1\" class=\"data row5 col1\" >When the model claims an instance is positive, it is correct 70.5% of the time; i.e. out of the 200 times the model predicted \"Good\", it was correct 141 times; a.k.a precision</td>\n",
       "    </tr>\n",
       "    <tr>\n",
       "      <th id=\"T_e22f5_level0_row6\" class=\"row_heading level0 row6\" >Negative Predictive Value</th>\n",
       "      <td id=\"T_e22f5_row6_col0\" class=\"data row6 col0\" >0.000</td>\n",
       "      <td id=\"T_e22f5_row6_col1\" class=\"data row6 col1\" >When the model claims an instance is negative, it is correct 0.0% of the time; i.e. out of the 0 times the model predicted \"Bad\", it was correct 0 times</td>\n",
       "    </tr>\n",
       "    <tr>\n",
       "      <th id=\"T_e22f5_level0_row7\" class=\"row_heading level0 row7\" >F1 Score</th>\n",
       "      <td id=\"T_e22f5_row7_col0\" class=\"data row7 col0\" >0.827</td>\n",
       "      <td id=\"T_e22f5_row7_col1\" class=\"data row7 col1\" >The F1 score can be interpreted as a weighted average of the precision and recall, where an F1 score reaches its best value at 1 and worst score at 0.</td>\n",
       "    </tr>\n",
       "    <tr>\n",
       "      <th id=\"T_e22f5_level0_row8\" class=\"row_heading level0 row8\" >Accuracy</th>\n",
       "      <td id=\"T_e22f5_row8_col0\" class=\"data row8 col0\" >0.705</td>\n",
       "      <td id=\"T_e22f5_row8_col1\" class=\"data row8 col1\" >70.5% of instances were correctly identified</td>\n",
       "    </tr>\n",
       "    <tr>\n",
       "      <th id=\"T_e22f5_level0_row9\" class=\"row_heading level0 row9\" >Error Rate</th>\n",
       "      <td id=\"T_e22f5_row9_col0\" class=\"data row9 col0\" >0.295</td>\n",
       "      <td id=\"T_e22f5_row9_col1\" class=\"data row9 col1\" >29.5% of instances were incorrectly identified</td>\n",
       "    </tr>\n",
       "    <tr>\n",
       "      <th id=\"T_e22f5_level0_row10\" class=\"row_heading level0 row10\" >% Positive</th>\n",
       "      <td id=\"T_e22f5_row10_col0\" class=\"data row10 col0\" >0.705</td>\n",
       "      <td id=\"T_e22f5_row10_col1\" class=\"data row10 col1\" >70.5% of the data are positive; i.e. out of 200 total observations; 141 are labeled as \"Good\"</td>\n",
       "    </tr>\n",
       "    <tr>\n",
       "      <th id=\"T_e22f5_level0_row11\" class=\"row_heading level0 row11\" >Total Observations</th>\n",
       "      <td id=\"T_e22f5_row11_col0\" class=\"data row11 col0\" >200</td>\n",
       "      <td id=\"T_e22f5_row11_col1\" class=\"data row11 col1\" >There are 200 total observations; i.e. sample size</td>\n",
       "    </tr>\n",
       "  </tbody>\n",
       "</table>\n"
      ],
      "text/plain": [
       "<pandas.io.formats.style.Styler at 0x7fa0b8d00ca0>"
      ]
     },
     "execution_count": 67,
     "metadata": {},
     "output_type": "execute_result"
    }
   ],
   "source": [
    "dummy_eval = hlp.sklearn.TwoClassEvaluator(\n",
    "    actual_values=y_test,\n",
    "    predicted_scores=dummy_predicted_scores,\n",
    "    labels=('Bad', 'Good'),\n",
    "    score_threshold=0.5\n",
    ")\n",
    "dummy_eval.all_metrics_df(return_style=True, round_by=3)"
   ]
  },
  {
   "cell_type": "code",
   "execution_count": 68,
   "id": "cc60bc2c",
   "metadata": {},
   "outputs": [
    {
     "data": {
      "image/png": "[encoded data removed]",
      "text/plain": [
       "<Figure size 720x444.984 with 1 Axes>"
      ]
     },
     "metadata": {},
     "output_type": "display_data"
    }
   ],
   "source": [
    "evaluator.plot_auc_curve()\n",
    "plt.grid()"
   ]
  },
  {
   "cell_type": "code",
   "execution_count": 69,
   "id": "44c66aaf",
   "metadata": {},
   "outputs": [
    {
     "data": {
      "image/png": "[encoded data removed]",
      "text/plain": [
       "<Figure size 720x444.984 with 1 Axes>"
      ]
     },
     "metadata": {},
     "output_type": "display_data"
    }
   ],
   "source": [
    "evaluator.plot_threshold_curves()\n",
    "plt.grid()"
   ]
  },
  {
   "cell_type": "code",
   "execution_count": 87,
   "id": "08f1bf81",
   "metadata": {},
   "outputs": [
    {
     "data": {
      "image/png": "[encoded data removed]",
      "text/plain": [
       "<Figure size 720x444.984 with 1 Axes>"
      ]
     },
     "metadata": {},
     "output_type": "display_data"
    }
   ],
   "source": [
    "evaluator.plot_precision_recall_tradeoff(score_threshold_range=(0.4, 0.95))\n",
    "plt.grid()"
   ]
  },
  {
   "cell_type": "code",
   "execution_count": 71,
   "id": "74863f55",
   "metadata": {},
   "outputs": [
    {
     "data": {
      "text/html": [
       "<style type=\"text/css\">\n",
       "#T_b52de_row0_col3 {\n",
       "  width: 10em;\n",
       "  height: 80%;\n",
       "  background: linear-gradient(90deg,#7AA9CF 7.0%, transparent 7.0%);\n",
       "}\n",
       "#T_b52de_row0_col4, #T_b52de_row19_col3 {\n",
       "  width: 10em;\n",
       "  height: 80%;\n",
       "  background: linear-gradient(90deg,#7AA9CF 100.0%, transparent 100.0%);\n",
       "}\n",
       "#T_b52de_row1_col3 {\n",
       "  width: 10em;\n",
       "  height: 80%;\n",
       "  background: linear-gradient(90deg,#7AA9CF 13.0%, transparent 13.0%);\n",
       "}\n",
       "#T_b52de_row1_col4, #T_b52de_row3_col4, #T_b52de_row7_col4 {\n",
       "  width: 10em;\n",
       "  height: 80%;\n",
       "  background: linear-gradient(90deg,#7AA9CF 66.7%, transparent 66.7%);\n",
       "}\n",
       "#T_b52de_row2_col3 {\n",
       "  width: 10em;\n",
       "  height: 80%;\n",
       "  background: linear-gradient(90deg,#7AA9CF 20.0%, transparent 20.0%);\n",
       "}\n",
       "#T_b52de_row2_col4 {\n",
       "  width: 10em;\n",
       "  height: 80%;\n",
       "  background: linear-gradient(90deg,#7AA9CF 76.2%, transparent 76.2%);\n",
       "}\n",
       "#T_b52de_row3_col3 {\n",
       "  width: 10em;\n",
       "  height: 80%;\n",
       "  background: linear-gradient(90deg,#7AA9CF 26.0%, transparent 26.0%);\n",
       "}\n",
       "#T_b52de_row4_col3 {\n",
       "  width: 10em;\n",
       "  height: 80%;\n",
       "  background: linear-gradient(90deg,#7AA9CF 33.0%, transparent 33.0%);\n",
       "}\n",
       "#T_b52de_row4_col4 {\n",
       "  width: 10em;\n",
       "  height: 80%;\n",
       "  background: linear-gradient(90deg,#7AA9CF 78.6%, transparent 78.6%);\n",
       "}\n",
       "#T_b52de_row5_col3 {\n",
       "  width: 10em;\n",
       "  height: 80%;\n",
       "  background: linear-gradient(90deg,#7AA9CF 39.0%, transparent 39.0%);\n",
       "}\n",
       "#T_b52de_row5_col4 {\n",
       "  width: 10em;\n",
       "  height: 80%;\n",
       "  background: linear-gradient(90deg,#7AA9CF 71.4%, transparent 71.4%);\n",
       "}\n",
       "#T_b52de_row6_col3 {\n",
       "  width: 10em;\n",
       "  height: 80%;\n",
       "  background: linear-gradient(90deg,#7AA9CF 44.0%, transparent 44.0%);\n",
       "}\n",
       "#T_b52de_row6_col4, #T_b52de_row8_col4, #T_b52de_row9_col4 {\n",
       "  width: 10em;\n",
       "  height: 80%;\n",
       "  background: linear-gradient(90deg,#7AA9CF 61.9%, transparent 61.9%);\n",
       "}\n",
       "#T_b52de_row7_col3 {\n",
       "  width: 10em;\n",
       "  height: 80%;\n",
       "  background: linear-gradient(90deg,#7AA9CF 51.0%, transparent 51.0%);\n",
       "}\n",
       "#T_b52de_row8_col3 {\n",
       "  width: 10em;\n",
       "  height: 80%;\n",
       "  background: linear-gradient(90deg,#7AA9CF 57.0%, transparent 57.0%);\n",
       "}\n",
       "#T_b52de_row9_col3 {\n",
       "  width: 10em;\n",
       "  height: 80%;\n",
       "  background: linear-gradient(90deg,#7AA9CF 63.0%, transparent 63.0%);\n",
       "}\n",
       "#T_b52de_row10_col3 {\n",
       "  width: 10em;\n",
       "  height: 80%;\n",
       "  background: linear-gradient(90deg,#7AA9CF 69.0%, transparent 69.0%);\n",
       "}\n",
       "#T_b52de_row10_col4, #T_b52de_row11_col4 {\n",
       "  width: 10em;\n",
       "  height: 80%;\n",
       "  background: linear-gradient(90deg,#7AA9CF 59.5%, transparent 59.5%);\n",
       "}\n",
       "#T_b52de_row11_col3 {\n",
       "  width: 10em;\n",
       "  height: 80%;\n",
       "  background: linear-gradient(90deg,#7AA9CF 75.0%, transparent 75.0%);\n",
       "}\n",
       "#T_b52de_row12_col3 {\n",
       "  width: 10em;\n",
       "  height: 80%;\n",
       "  background: linear-gradient(90deg,#7AA9CF 79.0%, transparent 79.0%);\n",
       "}\n",
       "#T_b52de_row12_col4 {\n",
       "  width: 10em;\n",
       "  height: 80%;\n",
       "  background: linear-gradient(90deg,#7AA9CF 52.4%, transparent 52.4%);\n",
       "}\n",
       "#T_b52de_row13_col3 {\n",
       "  width: 10em;\n",
       "  height: 80%;\n",
       "  background: linear-gradient(90deg,#7AA9CF 84.0%, transparent 84.0%);\n",
       "}\n",
       "#T_b52de_row13_col4 {\n",
       "  width: 10em;\n",
       "  height: 80%;\n",
       "  background: linear-gradient(90deg,#7AA9CF 47.6%, transparent 47.6%);\n",
       "}\n",
       "#T_b52de_row14_col3 {\n",
       "  width: 10em;\n",
       "  height: 80%;\n",
       "  background: linear-gradient(90deg,#7AA9CF 88.0%, transparent 88.0%);\n",
       "}\n",
       "#T_b52de_row14_col4 {\n",
       "  width: 10em;\n",
       "  height: 80%;\n",
       "  background: linear-gradient(90deg,#7AA9CF 40.5%, transparent 40.5%);\n",
       "}\n",
       "#T_b52de_row15_col3 {\n",
       "  width: 10em;\n",
       "  height: 80%;\n",
       "  background: linear-gradient(90deg,#7AA9CF 91.0%, transparent 91.0%);\n",
       "}\n",
       "#T_b52de_row15_col4 {\n",
       "  width: 10em;\n",
       "  height: 80%;\n",
       "  background: linear-gradient(90deg,#7AA9CF 33.3%, transparent 33.3%);\n",
       "}\n",
       "#T_b52de_row16_col3 {\n",
       "  width: 10em;\n",
       "  height: 80%;\n",
       "  background: linear-gradient(90deg,#7AA9CF 94.0%, transparent 94.0%);\n",
       "}\n",
       "#T_b52de_row16_col4 {\n",
       "  width: 10em;\n",
       "  height: 80%;\n",
       "  background: linear-gradient(90deg,#7AA9CF 26.2%, transparent 26.2%);\n",
       "}\n",
       "#T_b52de_row17_col3 {\n",
       "  width: 10em;\n",
       "  height: 80%;\n",
       "  background: linear-gradient(90deg,#7AA9CF 95.0%, transparent 95.0%);\n",
       "}\n",
       "#T_b52de_row17_col4 {\n",
       "  width: 10em;\n",
       "  height: 80%;\n",
       "  background: linear-gradient(90deg,#7AA9CF 14.3%, transparent 14.3%);\n",
       "}\n",
       "#T_b52de_row18_col3 {\n",
       "  width: 10em;\n",
       "  height: 80%;\n",
       "  background: linear-gradient(90deg,#7AA9CF 99.0%, transparent 99.0%);\n",
       "}\n",
       "#T_b52de_row18_col4 {\n",
       "  width: 10em;\n",
       "  height: 80%;\n",
       "  background: linear-gradient(90deg,#7AA9CF 9.5%, transparent 9.5%);\n",
       "}\n",
       "#T_b52de_row19_col4 {\n",
       "  width: 10em;\n",
       "  height: 80%;\n",
       "}\n",
       "</style>\n",
       "<table id=\"T_b52de_\">\n",
       "  <thead>\n",
       "    <tr>\n",
       "      <th class=\"blank level0\" >&nbsp;</th>\n",
       "      <th class=\"col_heading level0 col0\" ># of Obs.</th>\n",
       "      <th class=\"col_heading level0 col1\" ># of Pos. Events</th>\n",
       "      <th class=\"col_heading level0 col2\" >Cumul. Pos. Events</th>\n",
       "      <th class=\"col_heading level0 col3\" >Gain</th>\n",
       "      <th class=\"col_heading level0 col4\" >Lift</th>\n",
       "    </tr>\n",
       "    <tr>\n",
       "      <th class=\"index_name level0\" >Percentile</th>\n",
       "      <th class=\"blank col0\" >&nbsp;</th>\n",
       "      <th class=\"blank col1\" >&nbsp;</th>\n",
       "      <th class=\"blank col2\" >&nbsp;</th>\n",
       "      <th class=\"blank col3\" >&nbsp;</th>\n",
       "      <th class=\"blank col4\" >&nbsp;</th>\n",
       "    </tr>\n",
       "  </thead>\n",
       "  <tbody>\n",
       "    <tr>\n",
       "      <th id=\"T_b52de_level0_row0\" class=\"row_heading level0 row0\" >5</th>\n",
       "      <td id=\"T_b52de_row0_col0\" class=\"data row0 col0\" >10</td>\n",
       "      <td id=\"T_b52de_row0_col1\" class=\"data row0 col1\" >10</td>\n",
       "      <td id=\"T_b52de_row0_col2\" class=\"data row0 col2\" >10</td>\n",
       "      <td id=\"T_b52de_row0_col3\" class=\"data row0 col3\" >0.07</td>\n",
       "      <td id=\"T_b52de_row0_col4\" class=\"data row0 col4\" >1.42</td>\n",
       "    </tr>\n",
       "    <tr>\n",
       "      <th id=\"T_b52de_level0_row1\" class=\"row_heading level0 row1\" >10</th>\n",
       "      <td id=\"T_b52de_row1_col0\" class=\"data row1 col0\" >9</td>\n",
       "      <td id=\"T_b52de_row1_col1\" class=\"data row1 col1\" >8</td>\n",
       "      <td id=\"T_b52de_row1_col2\" class=\"data row1 col2\" >18</td>\n",
       "      <td id=\"T_b52de_row1_col3\" class=\"data row1 col3\" >0.13</td>\n",
       "      <td id=\"T_b52de_row1_col4\" class=\"data row1 col4\" >1.28</td>\n",
       "    </tr>\n",
       "    <tr>\n",
       "      <th id=\"T_b52de_level0_row2\" class=\"row_heading level0 row2\" >15</th>\n",
       "      <td id=\"T_b52de_row2_col0\" class=\"data row2 col0\" >10</td>\n",
       "      <td id=\"T_b52de_row2_col1\" class=\"data row2 col1\" >10</td>\n",
       "      <td id=\"T_b52de_row2_col2\" class=\"data row2 col2\" >28</td>\n",
       "      <td id=\"T_b52de_row2_col3\" class=\"data row2 col3\" >0.20</td>\n",
       "      <td id=\"T_b52de_row2_col4\" class=\"data row2 col4\" >1.32</td>\n",
       "    </tr>\n",
       "    <tr>\n",
       "      <th id=\"T_b52de_level0_row3\" class=\"row_heading level0 row3\" >20</th>\n",
       "      <td id=\"T_b52de_row3_col0\" class=\"data row3 col0\" >9</td>\n",
       "      <td id=\"T_b52de_row3_col1\" class=\"data row3 col1\" >8</td>\n",
       "      <td id=\"T_b52de_row3_col2\" class=\"data row3 col2\" >36</td>\n",
       "      <td id=\"T_b52de_row3_col3\" class=\"data row3 col3\" >0.26</td>\n",
       "      <td id=\"T_b52de_row3_col4\" class=\"data row3 col4\" >1.28</td>\n",
       "    </tr>\n",
       "    <tr>\n",
       "      <th id=\"T_b52de_level0_row4\" class=\"row_heading level0 row4\" >25</th>\n",
       "      <td id=\"T_b52de_row4_col0\" class=\"data row4 col0\" >12</td>\n",
       "      <td id=\"T_b52de_row4_col1\" class=\"data row4 col1\" >11</td>\n",
       "      <td id=\"T_b52de_row4_col2\" class=\"data row4 col2\" >47</td>\n",
       "      <td id=\"T_b52de_row4_col3\" class=\"data row4 col3\" >0.33</td>\n",
       "      <td id=\"T_b52de_row4_col4\" class=\"data row4 col4\" >1.33</td>\n",
       "    </tr>\n",
       "    <tr>\n",
       "      <th id=\"T_b52de_level0_row5\" class=\"row_heading level0 row5\" >30</th>\n",
       "      <td id=\"T_b52de_row5_col0\" class=\"data row5 col0\" >10</td>\n",
       "      <td id=\"T_b52de_row5_col1\" class=\"data row5 col1\" >8</td>\n",
       "      <td id=\"T_b52de_row5_col2\" class=\"data row5 col2\" >55</td>\n",
       "      <td id=\"T_b52de_row5_col3\" class=\"data row5 col3\" >0.39</td>\n",
       "      <td id=\"T_b52de_row5_col4\" class=\"data row5 col4\" >1.30</td>\n",
       "    </tr>\n",
       "    <tr>\n",
       "      <th id=\"T_b52de_level0_row6\" class=\"row_heading level0 row6\" >35</th>\n",
       "      <td id=\"T_b52de_row6_col0\" class=\"data row6 col0\" >9</td>\n",
       "      <td id=\"T_b52de_row6_col1\" class=\"data row6 col1\" >7</td>\n",
       "      <td id=\"T_b52de_row6_col2\" class=\"data row6 col2\" >62</td>\n",
       "      <td id=\"T_b52de_row6_col3\" class=\"data row6 col3\" >0.44</td>\n",
       "      <td id=\"T_b52de_row6_col4\" class=\"data row6 col4\" >1.26</td>\n",
       "    </tr>\n",
       "    <tr>\n",
       "      <th id=\"T_b52de_level0_row7\" class=\"row_heading level0 row7\" >40</th>\n",
       "      <td id=\"T_b52de_row7_col0\" class=\"data row7 col0\" >11</td>\n",
       "      <td id=\"T_b52de_row7_col1\" class=\"data row7 col1\" >10</td>\n",
       "      <td id=\"T_b52de_row7_col2\" class=\"data row7 col2\" >72</td>\n",
       "      <td id=\"T_b52de_row7_col3\" class=\"data row7 col3\" >0.51</td>\n",
       "      <td id=\"T_b52de_row7_col4\" class=\"data row7 col4\" >1.28</td>\n",
       "    </tr>\n",
       "    <tr>\n",
       "      <th id=\"T_b52de_level0_row8\" class=\"row_heading level0 row8\" >45</th>\n",
       "      <td id=\"T_b52de_row8_col0\" class=\"data row8 col0\" >10</td>\n",
       "      <td id=\"T_b52de_row8_col1\" class=\"data row8 col1\" >8</td>\n",
       "      <td id=\"T_b52de_row8_col2\" class=\"data row8 col2\" >80</td>\n",
       "      <td id=\"T_b52de_row8_col3\" class=\"data row8 col3\" >0.57</td>\n",
       "      <td id=\"T_b52de_row8_col4\" class=\"data row8 col4\" >1.26</td>\n",
       "    </tr>\n",
       "    <tr>\n",
       "      <th id=\"T_b52de_level0_row9\" class=\"row_heading level0 row9\" >50</th>\n",
       "      <td id=\"T_b52de_row9_col0\" class=\"data row9 col0\" >10</td>\n",
       "      <td id=\"T_b52de_row9_col1\" class=\"data row9 col1\" >9</td>\n",
       "      <td id=\"T_b52de_row9_col2\" class=\"data row9 col2\" >89</td>\n",
       "      <td id=\"T_b52de_row9_col3\" class=\"data row9 col3\" >0.63</td>\n",
       "      <td id=\"T_b52de_row9_col4\" class=\"data row9 col4\" >1.26</td>\n",
       "    </tr>\n",
       "    <tr>\n",
       "      <th id=\"T_b52de_level0_row10\" class=\"row_heading level0 row10\" >55</th>\n",
       "      <td id=\"T_b52de_row10_col0\" class=\"data row10 col0\" >10</td>\n",
       "      <td id=\"T_b52de_row10_col1\" class=\"data row10 col1\" >8</td>\n",
       "      <td id=\"T_b52de_row10_col2\" class=\"data row10 col2\" >97</td>\n",
       "      <td id=\"T_b52de_row10_col3\" class=\"data row10 col3\" >0.69</td>\n",
       "      <td id=\"T_b52de_row10_col4\" class=\"data row10 col4\" >1.25</td>\n",
       "    </tr>\n",
       "    <tr>\n",
       "      <th id=\"T_b52de_level0_row11\" class=\"row_heading level0 row11\" >60</th>\n",
       "      <td id=\"T_b52de_row11_col0\" class=\"data row11 col0\" >10</td>\n",
       "      <td id=\"T_b52de_row11_col1\" class=\"data row11 col1\" >9</td>\n",
       "      <td id=\"T_b52de_row11_col2\" class=\"data row11 col2\" >106</td>\n",
       "      <td id=\"T_b52de_row11_col3\" class=\"data row11 col3\" >0.75</td>\n",
       "      <td id=\"T_b52de_row11_col4\" class=\"data row11 col4\" >1.25</td>\n",
       "    </tr>\n",
       "    <tr>\n",
       "      <th id=\"T_b52de_level0_row12\" class=\"row_heading level0 row12\" >65</th>\n",
       "      <td id=\"T_b52de_row12_col0\" class=\"data row12 col0\" >10</td>\n",
       "      <td id=\"T_b52de_row12_col1\" class=\"data row12 col1\" >6</td>\n",
       "      <td id=\"T_b52de_row12_col2\" class=\"data row12 col2\" >112</td>\n",
       "      <td id=\"T_b52de_row12_col3\" class=\"data row12 col3\" >0.79</td>\n",
       "      <td id=\"T_b52de_row12_col4\" class=\"data row12 col4\" >1.22</td>\n",
       "    </tr>\n",
       "    <tr>\n",
       "      <th id=\"T_b52de_level0_row13\" class=\"row_heading level0 row13\" >70</th>\n",
       "      <td id=\"T_b52de_row13_col0\" class=\"data row13 col0\" >10</td>\n",
       "      <td id=\"T_b52de_row13_col1\" class=\"data row13 col1\" >6</td>\n",
       "      <td id=\"T_b52de_row13_col2\" class=\"data row13 col2\" >118</td>\n",
       "      <td id=\"T_b52de_row13_col3\" class=\"data row13 col3\" >0.84</td>\n",
       "      <td id=\"T_b52de_row13_col4\" class=\"data row13 col4\" >1.20</td>\n",
       "    </tr>\n",
       "    <tr>\n",
       "      <th id=\"T_b52de_level0_row14\" class=\"row_heading level0 row14\" >75</th>\n",
       "      <td id=\"T_b52de_row14_col0\" class=\"data row14 col0\" >10</td>\n",
       "      <td id=\"T_b52de_row14_col1\" class=\"data row14 col1\" >6</td>\n",
       "      <td id=\"T_b52de_row14_col2\" class=\"data row14 col2\" >124</td>\n",
       "      <td id=\"T_b52de_row14_col3\" class=\"data row14 col3\" >0.88</td>\n",
       "      <td id=\"T_b52de_row14_col4\" class=\"data row14 col4\" >1.17</td>\n",
       "    </tr>\n",
       "    <tr>\n",
       "      <th id=\"T_b52de_level0_row15\" class=\"row_heading level0 row15\" >80</th>\n",
       "      <td id=\"T_b52de_row15_col0\" class=\"data row15 col0\" >10</td>\n",
       "      <td id=\"T_b52de_row15_col1\" class=\"data row15 col1\" >5</td>\n",
       "      <td id=\"T_b52de_row15_col2\" class=\"data row15 col2\" >129</td>\n",
       "      <td id=\"T_b52de_row15_col3\" class=\"data row15 col3\" >0.91</td>\n",
       "      <td id=\"T_b52de_row15_col4\" class=\"data row15 col4\" >1.14</td>\n",
       "    </tr>\n",
       "    <tr>\n",
       "      <th id=\"T_b52de_level0_row16\" class=\"row_heading level0 row16\" >85</th>\n",
       "      <td id=\"T_b52de_row16_col0\" class=\"data row16 col0\" >10</td>\n",
       "      <td id=\"T_b52de_row16_col1\" class=\"data row16 col1\" >4</td>\n",
       "      <td id=\"T_b52de_row16_col2\" class=\"data row16 col2\" >133</td>\n",
       "      <td id=\"T_b52de_row16_col3\" class=\"data row16 col3\" >0.94</td>\n",
       "      <td id=\"T_b52de_row16_col4\" class=\"data row16 col4\" >1.11</td>\n",
       "    </tr>\n",
       "    <tr>\n",
       "      <th id=\"T_b52de_level0_row17\" class=\"row_heading level0 row17\" >90</th>\n",
       "      <td id=\"T_b52de_row17_col0\" class=\"data row17 col0\" >9</td>\n",
       "      <td id=\"T_b52de_row17_col1\" class=\"data row17 col1\" >1</td>\n",
       "      <td id=\"T_b52de_row17_col2\" class=\"data row17 col2\" >134</td>\n",
       "      <td id=\"T_b52de_row17_col3\" class=\"data row17 col3\" >0.95</td>\n",
       "      <td id=\"T_b52de_row17_col4\" class=\"data row17 col4\" >1.06</td>\n",
       "    </tr>\n",
       "    <tr>\n",
       "      <th id=\"T_b52de_level0_row18\" class=\"row_heading level0 row18\" >95</th>\n",
       "      <td id=\"T_b52de_row18_col0\" class=\"data row18 col0\" >11</td>\n",
       "      <td id=\"T_b52de_row18_col1\" class=\"data row18 col1\" >5</td>\n",
       "      <td id=\"T_b52de_row18_col2\" class=\"data row18 col2\" >139</td>\n",
       "      <td id=\"T_b52de_row18_col3\" class=\"data row18 col3\" >0.99</td>\n",
       "      <td id=\"T_b52de_row18_col4\" class=\"data row18 col4\" >1.04</td>\n",
       "    </tr>\n",
       "    <tr>\n",
       "      <th id=\"T_b52de_level0_row19\" class=\"row_heading level0 row19\" >100</th>\n",
       "      <td id=\"T_b52de_row19_col0\" class=\"data row19 col0\" >10</td>\n",
       "      <td id=\"T_b52de_row19_col1\" class=\"data row19 col1\" >2</td>\n",
       "      <td id=\"T_b52de_row19_col2\" class=\"data row19 col2\" >141</td>\n",
       "      <td id=\"T_b52de_row19_col3\" class=\"data row19 col3\" >1.00</td>\n",
       "      <td id=\"T_b52de_row19_col4\" class=\"data row19 col4\" >1.00</td>\n",
       "    </tr>\n",
       "  </tbody>\n",
       "</table>\n"
      ],
      "text/plain": [
       "<pandas.io.formats.style.Styler at 0x7fa08817d340>"
      ]
     },
     "execution_count": 71,
     "metadata": {},
     "output_type": "execute_result"
    }
   ],
   "source": [
    "evaluator.calculate_lift_gain(return_style=True, include_all_info=True)"
   ]
  },
  {
   "cell_type": "markdown",
   "id": "4b0a2ac6",
   "metadata": {},
   "source": [
    "## Feature Importance"
   ]
  },
  {
   "cell_type": "markdown",
   "id": "f1c0374a",
   "metadata": {},
   "source": [
    "todo: how to get features names out of final_estimator?"
   ]
  },
  {
   "cell_type": "markdown",
   "id": "8c8685ba",
   "metadata": {},
   "source": [
    "# Final Model"
   ]
  },
  {
   "cell_type": "code",
   "execution_count": 72,
   "id": "2a178abf",
   "metadata": {},
   "outputs": [
    {
     "data": {
      "text/plain": [
       "{'model__max_features': 2,\n",
       " 'model__n_estimators': 500,\n",
       " 'preparation__non_numeric_pipeline__encoder_chooser__base_transformer': OneHotEncoder(),\n",
       " 'preparation__numeric_pipeline__impute_chooser__base_transformer': SimpleImputer(),\n",
       " 'preparation__numeric_pipeline__scaling_chooser__base_transformer': MinMaxScaler()}"
      ]
     },
     "execution_count": 72,
     "metadata": {},
     "output_type": "execute_result"
    }
   ],
   "source": [
    "grid_search.best_params_"
   ]
  },
  {
   "cell_type": "code",
   "execution_count": 73,
   "id": "a191de47",
   "metadata": {},
   "outputs": [],
   "source": [
    "numeric_pipeline = Pipeline([\n",
    "    ('impute', SimpleImputer()),\n",
    "    ('scale', MinMaxScaler()),\n",
    "])"
   ]
  },
  {
   "cell_type": "code",
   "execution_count": 74,
   "id": "c179e2d7",
   "metadata": {},
   "outputs": [],
   "source": [
    "non_numeric_pipeline = Pipeline([\n",
    "    ('encoder', OneHotEncoder()),\n",
    "])"
   ]
  },
  {
   "cell_type": "code",
   "execution_count": 75,
   "id": "9129f770",
   "metadata": {},
   "outputs": [],
   "source": [
    "transformations_pipeline = ColumnTransformer([\n",
    "    ('numeric_pipeline', numeric_pipeline, numeric_columns),\n",
    "    ('non_numeric_pipeline', non_numeric_pipeline, non_numeric_columns)\n",
    "])"
   ]
  },
  {
   "cell_type": "code",
   "execution_count": 76,
   "id": "36cba36b",
   "metadata": {},
   "outputs": [],
   "source": [
    "random_forest_model = RandomForestClassifier(random_state=42, max_features=10, n_estimators=500)"
   ]
  },
  {
   "cell_type": "code",
   "execution_count": 77,
   "id": "79f0ecb6",
   "metadata": {},
   "outputs": [],
   "source": [
    "full_pipeline = Pipeline([\n",
    "    ('preparation', transformations_pipeline),\n",
    "    ('model', random_forest_model)\n",
    "])"
   ]
  },
  {
   "cell_type": "code",
   "execution_count": 78,
   "id": "9d8d7f4e",
   "metadata": {},
   "outputs": [
    {
     "data": {
      "text/plain": [
       "Pipeline(steps=[('preparation',\n",
       "                 ColumnTransformer(transformers=[('numeric_pipeline',\n",
       "                                                  Pipeline(steps=[('impute',\n",
       "                                                                   SimpleImputer()),\n",
       "                                                                  ('scale',\n",
       "                                                                   MinMaxScaler())]),\n",
       "                                                  ['duration', 'credit_amount',\n",
       "                                                   'installment_commitment',\n",
       "                                                   'residence_since', 'age',\n",
       "                                                   'existing_credits',\n",
       "                                                   'num_dependents']),\n",
       "                                                 ('non_numeric_pipeline',\n",
       "                                                  Pipeline(steps=[('encoder',\n",
       "                                                                   OneHotEncoder())]),\n",
       "                                                  ['checking_status',\n",
       "                                                   'credit_history', 'purpose',\n",
       "                                                   'savings_status',\n",
       "                                                   'employment',\n",
       "                                                   'personal_status',\n",
       "                                                   'other_parties',\n",
       "                                                   'property_magnitude',\n",
       "                                                   'other_payment_plans',\n",
       "                                                   'housing', 'job',\n",
       "                                                   'own_telephone',\n",
       "                                                   'foreign_worker'])])),\n",
       "                ('model',\n",
       "                 RandomForestClassifier(max_features=10, n_estimators=500,\n",
       "                                        random_state=42))])"
      ]
     },
     "execution_count": 78,
     "metadata": {},
     "output_type": "execute_result"
    }
   ],
   "source": [
    "full_pipeline.fit(X=X_full, y=y_full)"
   ]
  },
  {
   "cell_type": "code",
   "execution_count": 79,
   "id": "7404ef31",
   "metadata": {},
   "outputs": [
    {
     "data": {
      "text/plain": [
       "RandomForestClassifier(max_features=10, n_estimators=500, random_state=42)"
      ]
     },
     "execution_count": 79,
     "metadata": {},
     "output_type": "execute_result"
    }
   ],
   "source": [
    "final_model = full_pipeline.named_steps['model']\n",
    "final_model"
   ]
  },
  {
   "cell_type": "markdown",
   "id": "3684718b",
   "metadata": {},
   "source": [
    "https://stackoverflow.com/questions/54646709/sklearn-pipeline-get-feature-names-after-onehotencode-in-columntransformer\n",
    "\n",
    "```\n",
    "clf.named_steps['preparation'].transformers_[1][1]\\\n",
    "   .named_steps['onehot'].get_feature_names(categorical_features)\n",
    "```"
   ]
  },
  {
   "cell_type": "code",
   "execution_count": 80,
   "id": "2e8132a1",
   "metadata": {},
   "outputs": [],
   "source": [
    "new_non_numeric_columns = full_pipeline.named_steps['preparation'].transformers_[1][1].named_steps['encoder'].get_feature_names()\n",
    "new_non_numeric_columns = list(new_non_numeric_columns)"
   ]
  },
  {
   "cell_type": "code",
   "execution_count": 81,
   "id": "37816d54",
   "metadata": {},
   "outputs": [
    {
     "data": {
      "text/plain": [
       "55"
      ]
     },
     "execution_count": 81,
     "metadata": {},
     "output_type": "execute_result"
    }
   ],
   "source": [
    "len(new_non_numeric_columns)"
   ]
  },
  {
   "cell_type": "code",
   "execution_count": 82,
   "id": "f0074669",
   "metadata": {},
   "outputs": [
    {
     "data": {
      "text/plain": [
       "62"
      ]
     },
     "execution_count": 82,
     "metadata": {},
     "output_type": "execute_result"
    }
   ],
   "source": [
    "len(final_model.feature_importances_)"
   ]
  },
  {
   "cell_type": "code",
   "execution_count": 83,
   "id": "198073c1",
   "metadata": {},
   "outputs": [],
   "source": [
    "final_column_names = numeric_columns + new_non_numeric_columns"
   ]
  },
  {
   "cell_type": "code",
   "execution_count": 84,
   "id": "ba79355e",
   "metadata": {
    "scrolled": true
   },
   "outputs": [
    {
     "data": {
      "text/html": [
       "<style type=\"text/css\">\n",
       "#T_268aa_row0_col0, #T_268aa_row0_col1 {\n",
       "  width: 10em;\n",
       "  height: 80%;\n",
       "  background: linear-gradient(90deg,#B4B7B9 100.0%, transparent 100.0%);\n",
       "}\n",
       "#T_268aa_row1_col0 {\n",
       "  width: 10em;\n",
       "  height: 80%;\n",
       "  background: linear-gradient(90deg,#B4B7B9 81.3%, transparent 81.3%);\n",
       "}\n",
       "#T_268aa_row1_col1 {\n",
       "  width: 10em;\n",
       "  height: 80%;\n",
       "  background: linear-gradient(90deg,#B4B7B9 88.1%, transparent 88.1%);\n",
       "}\n",
       "#T_268aa_row2_col0 {\n",
       "  width: 10em;\n",
       "  height: 80%;\n",
       "  background: linear-gradient(90deg,#B4B7B9 72.1%, transparent 72.1%);\n",
       "}\n",
       "#T_268aa_row2_col1 {\n",
       "  width: 10em;\n",
       "  height: 80%;\n",
       "  background: linear-gradient(90deg,#B4B7B9 78.2%, transparent 78.2%);\n",
       "}\n",
       "#T_268aa_row3_col0 {\n",
       "  width: 10em;\n",
       "  height: 80%;\n",
       "  background: linear-gradient(90deg,#B4B7B9 45.6%, transparent 45.6%);\n",
       "}\n",
       "#T_268aa_row3_col1 {\n",
       "  width: 10em;\n",
       "  height: 80%;\n",
       "  background: linear-gradient(90deg,#B4B7B9 41.3%, transparent 41.3%);\n",
       "}\n",
       "#T_268aa_row4_col0 {\n",
       "  width: 10em;\n",
       "  height: 80%;\n",
       "  background: linear-gradient(90deg,#B4B7B9 39.4%, transparent 39.4%);\n",
       "}\n",
       "#T_268aa_row4_col1 {\n",
       "  width: 10em;\n",
       "  height: 80%;\n",
       "  background: linear-gradient(90deg,#B4B7B9 40.4%, transparent 40.4%);\n",
       "}\n",
       "#T_268aa_row5_col0 {\n",
       "  width: 10em;\n",
       "  height: 80%;\n",
       "  background: linear-gradient(90deg,#B4B7B9 33.5%, transparent 33.5%);\n",
       "}\n",
       "#T_268aa_row5_col1 {\n",
       "  width: 10em;\n",
       "  height: 80%;\n",
       "  background: linear-gradient(90deg,#B4B7B9 46.5%, transparent 46.5%);\n",
       "}\n",
       "#T_268aa_row6_col0 {\n",
       "  width: 10em;\n",
       "  height: 80%;\n",
       "  background: linear-gradient(90deg,#B4B7B9 31.6%, transparent 31.6%);\n",
       "}\n",
       "#T_268aa_row6_col1 {\n",
       "  width: 10em;\n",
       "  height: 80%;\n",
       "  background: linear-gradient(90deg,#B4B7B9 45.5%, transparent 45.5%);\n",
       "}\n",
       "#T_268aa_row7_col0 {\n",
       "  width: 10em;\n",
       "  height: 80%;\n",
       "  background: linear-gradient(90deg,#B4B7B9 21.4%, transparent 21.4%);\n",
       "}\n",
       "#T_268aa_row7_col1, #T_268aa_row8_col1 {\n",
       "  width: 10em;\n",
       "  height: 80%;\n",
       "  background: linear-gradient(90deg,#B4B7B9 24.8%, transparent 24.8%);\n",
       "}\n",
       "#T_268aa_row8_col0 {\n",
       "  width: 10em;\n",
       "  height: 80%;\n",
       "  background: linear-gradient(90deg,#B4B7B9 20.0%, transparent 20.0%);\n",
       "}\n",
       "#T_268aa_row9_col0 {\n",
       "  width: 10em;\n",
       "  height: 80%;\n",
       "  background: linear-gradient(90deg,#B4B7B9 18.0%, transparent 18.0%);\n",
       "}\n",
       "#T_268aa_row9_col1 {\n",
       "  width: 10em;\n",
       "  height: 80%;\n",
       "  background: linear-gradient(90deg,#B4B7B9 22.7%, transparent 22.7%);\n",
       "}\n",
       "#T_268aa_row10_col0 {\n",
       "  width: 10em;\n",
       "  height: 80%;\n",
       "  background: linear-gradient(90deg,#B4B7B9 17.3%, transparent 17.3%);\n",
       "}\n",
       "#T_268aa_row10_col1 {\n",
       "  width: 10em;\n",
       "  height: 80%;\n",
       "  background: linear-gradient(90deg,#B4B7B9 24.2%, transparent 24.2%);\n",
       "}\n",
       "#T_268aa_row11_col0, #T_268aa_row12_col0, #T_268aa_row21_col1, #T_268aa_row31_col1, #T_268aa_row35_col1 {\n",
       "  width: 10em;\n",
       "  height: 80%;\n",
       "  background: linear-gradient(90deg,#B4B7B9 15.8%, transparent 15.8%);\n",
       "}\n",
       "#T_268aa_row11_col1 {\n",
       "  width: 10em;\n",
       "  height: 80%;\n",
       "  background: linear-gradient(90deg,#B4B7B9 26.0%, transparent 26.0%);\n",
       "}\n",
       "#T_268aa_row12_col1 {\n",
       "  width: 10em;\n",
       "  height: 80%;\n",
       "  background: linear-gradient(90deg,#B4B7B9 20.6%, transparent 20.6%);\n",
       "}\n",
       "#T_268aa_row13_col0, #T_268aa_row14_col0 {\n",
       "  width: 10em;\n",
       "  height: 80%;\n",
       "  background: linear-gradient(90deg,#B4B7B9 14.5%, transparent 14.5%);\n",
       "}\n",
       "#T_268aa_row13_col1 {\n",
       "  width: 10em;\n",
       "  height: 80%;\n",
       "  background: linear-gradient(90deg,#B4B7B9 19.9%, transparent 19.9%);\n",
       "}\n",
       "#T_268aa_row14_col1 {\n",
       "  width: 10em;\n",
       "  height: 80%;\n",
       "  background: linear-gradient(90deg,#B4B7B9 21.7%, transparent 21.7%);\n",
       "}\n",
       "#T_268aa_row15_col0, #T_268aa_row33_col1 {\n",
       "  width: 10em;\n",
       "  height: 80%;\n",
       "  background: linear-gradient(90deg,#B4B7B9 14.3%, transparent 14.3%);\n",
       "}\n",
       "#T_268aa_row15_col1 {\n",
       "  width: 10em;\n",
       "  height: 80%;\n",
       "  background: linear-gradient(90deg,#B4B7B9 20.9%, transparent 20.9%);\n",
       "}\n",
       "#T_268aa_row16_col0, #T_268aa_row17_col0, #T_268aa_row37_col1 {\n",
       "  width: 10em;\n",
       "  height: 80%;\n",
       "  background: linear-gradient(90deg,#B4B7B9 13.9%, transparent 13.9%);\n",
       "}\n",
       "#T_268aa_row16_col1 {\n",
       "  width: 10em;\n",
       "  height: 80%;\n",
       "  background: linear-gradient(90deg,#B4B7B9 20.3%, transparent 20.3%);\n",
       "}\n",
       "#T_268aa_row17_col1 {\n",
       "  width: 10em;\n",
       "  height: 80%;\n",
       "  background: linear-gradient(90deg,#B4B7B9 20.4%, transparent 20.4%);\n",
       "}\n",
       "#T_268aa_row18_col0 {\n",
       "  width: 10em;\n",
       "  height: 80%;\n",
       "  background: linear-gradient(90deg,#B4B7B9 13.4%, transparent 13.4%);\n",
       "}\n",
       "#T_268aa_row18_col1 {\n",
       "  width: 10em;\n",
       "  height: 80%;\n",
       "  background: linear-gradient(90deg,#B4B7B9 23.0%, transparent 23.0%);\n",
       "}\n",
       "#T_268aa_row19_col0 {\n",
       "  width: 10em;\n",
       "  height: 80%;\n",
       "  background: linear-gradient(90deg,#B4B7B9 13.3%, transparent 13.3%);\n",
       "}\n",
       "#T_268aa_row19_col1 {\n",
       "  width: 10em;\n",
       "  height: 80%;\n",
       "  background: linear-gradient(90deg,#B4B7B9 20.1%, transparent 20.1%);\n",
       "}\n",
       "#T_268aa_row20_col0 {\n",
       "  width: 10em;\n",
       "  height: 80%;\n",
       "  background: linear-gradient(90deg,#B4B7B9 13.2%, transparent 13.2%);\n",
       "}\n",
       "#T_268aa_row20_col1 {\n",
       "  width: 10em;\n",
       "  height: 80%;\n",
       "  background: linear-gradient(90deg,#B4B7B9 17.7%, transparent 17.7%);\n",
       "}\n",
       "#T_268aa_row21_col0 {\n",
       "  width: 10em;\n",
       "  height: 80%;\n",
       "  background: linear-gradient(90deg,#B4B7B9 12.9%, transparent 12.9%);\n",
       "}\n",
       "#T_268aa_row22_col0 {\n",
       "  width: 10em;\n",
       "  height: 80%;\n",
       "  background: linear-gradient(90deg,#B4B7B9 12.8%, transparent 12.8%);\n",
       "}\n",
       "#T_268aa_row22_col1 {\n",
       "  width: 10em;\n",
       "  height: 80%;\n",
       "  background: linear-gradient(90deg,#B4B7B9 16.4%, transparent 16.4%);\n",
       "}\n",
       "#T_268aa_row23_col0, #T_268aa_row24_col0 {\n",
       "  width: 10em;\n",
       "  height: 80%;\n",
       "  background: linear-gradient(90deg,#B4B7B9 12.6%, transparent 12.6%);\n",
       "}\n",
       "#T_268aa_row23_col1 {\n",
       "  width: 10em;\n",
       "  height: 80%;\n",
       "  background: linear-gradient(90deg,#B4B7B9 17.4%, transparent 17.4%);\n",
       "}\n",
       "#T_268aa_row24_col1 {\n",
       "  width: 10em;\n",
       "  height: 80%;\n",
       "  background: linear-gradient(90deg,#B4B7B9 17.2%, transparent 17.2%);\n",
       "}\n",
       "#T_268aa_row25_col0, #T_268aa_row26_col0 {\n",
       "  width: 10em;\n",
       "  height: 80%;\n",
       "  background: linear-gradient(90deg,#B4B7B9 12.4%, transparent 12.4%);\n",
       "}\n",
       "#T_268aa_row25_col1 {\n",
       "  width: 10em;\n",
       "  height: 80%;\n",
       "  background: linear-gradient(90deg,#B4B7B9 19.4%, transparent 19.4%);\n",
       "}\n",
       "#T_268aa_row26_col1 {\n",
       "  width: 10em;\n",
       "  height: 80%;\n",
       "  background: linear-gradient(90deg,#B4B7B9 22.0%, transparent 22.0%);\n",
       "}\n",
       "#T_268aa_row27_col0 {\n",
       "  width: 10em;\n",
       "  height: 80%;\n",
       "  background: linear-gradient(90deg,#B4B7B9 12.3%, transparent 12.3%);\n",
       "}\n",
       "#T_268aa_row27_col1 {\n",
       "  width: 10em;\n",
       "  height: 80%;\n",
       "  background: linear-gradient(90deg,#B4B7B9 20.7%, transparent 20.7%);\n",
       "}\n",
       "#T_268aa_row28_col0, #T_268aa_row36_col1 {\n",
       "  width: 10em;\n",
       "  height: 80%;\n",
       "  background: linear-gradient(90deg,#B4B7B9 11.8%, transparent 11.8%);\n",
       "}\n",
       "#T_268aa_row28_col1, #T_268aa_row29_col1 {\n",
       "  width: 10em;\n",
       "  height: 80%;\n",
       "  background: linear-gradient(90deg,#B4B7B9 19.8%, transparent 19.8%);\n",
       "}\n",
       "#T_268aa_row29_col0 {\n",
       "  width: 10em;\n",
       "  height: 80%;\n",
       "  background: linear-gradient(90deg,#B4B7B9 11.7%, transparent 11.7%);\n",
       "}\n",
       "#T_268aa_row30_col0, #T_268aa_row45_col1 {\n",
       "  width: 10em;\n",
       "  height: 80%;\n",
       "  background: linear-gradient(90deg,#B4B7B9 11.6%, transparent 11.6%);\n",
       "}\n",
       "#T_268aa_row30_col1 {\n",
       "  width: 10em;\n",
       "  height: 80%;\n",
       "  background: linear-gradient(90deg,#B4B7B9 14.8%, transparent 14.8%);\n",
       "}\n",
       "#T_268aa_row31_col0 {\n",
       "  width: 10em;\n",
       "  height: 80%;\n",
       "  background: linear-gradient(90deg,#B4B7B9 11.4%, transparent 11.4%);\n",
       "}\n",
       "#T_268aa_row32_col0 {\n",
       "  width: 10em;\n",
       "  height: 80%;\n",
       "  background: linear-gradient(90deg,#B4B7B9 11.2%, transparent 11.2%);\n",
       "}\n",
       "#T_268aa_row32_col1 {\n",
       "  width: 10em;\n",
       "  height: 80%;\n",
       "  background: linear-gradient(90deg,#B4B7B9 15.1%, transparent 15.1%);\n",
       "}\n",
       "#T_268aa_row33_col0 {\n",
       "  width: 10em;\n",
       "  height: 80%;\n",
       "  background: linear-gradient(90deg,#B4B7B9 10.8%, transparent 10.8%);\n",
       "}\n",
       "#T_268aa_row34_col0, #T_268aa_row44_col1, #T_268aa_row46_col1 {\n",
       "  width: 10em;\n",
       "  height: 80%;\n",
       "  background: linear-gradient(90deg,#B4B7B9 10.7%, transparent 10.7%);\n",
       "}\n",
       "#T_268aa_row34_col1 {\n",
       "  width: 10em;\n",
       "  height: 80%;\n",
       "  background: linear-gradient(90deg,#B4B7B9 16.6%, transparent 16.6%);\n",
       "}\n",
       "#T_268aa_row35_col0 {\n",
       "  width: 10em;\n",
       "  height: 80%;\n",
       "  background: linear-gradient(90deg,#B4B7B9 10.1%, transparent 10.1%);\n",
       "}\n",
       "#T_268aa_row36_col0 {\n",
       "  width: 10em;\n",
       "  height: 80%;\n",
       "  background: linear-gradient(90deg,#B4B7B9 9.9%, transparent 9.9%);\n",
       "}\n",
       "#T_268aa_row37_col0, #T_268aa_row38_col0 {\n",
       "  width: 10em;\n",
       "  height: 80%;\n",
       "  background: linear-gradient(90deg,#B4B7B9 9.5%, transparent 9.5%);\n",
       "}\n",
       "#T_268aa_row38_col1 {\n",
       "  width: 10em;\n",
       "  height: 80%;\n",
       "  background: linear-gradient(90deg,#B4B7B9 11.5%, transparent 11.5%);\n",
       "}\n",
       "#T_268aa_row39_col0 {\n",
       "  width: 10em;\n",
       "  height: 80%;\n",
       "  background: linear-gradient(90deg,#B4B7B9 9.0%, transparent 9.0%);\n",
       "}\n",
       "#T_268aa_row39_col1, #T_268aa_row41_col1 {\n",
       "  width: 10em;\n",
       "  height: 80%;\n",
       "  background: linear-gradient(90deg,#B4B7B9 11.3%, transparent 11.3%);\n",
       "}\n",
       "#T_268aa_row40_col0, #T_268aa_row41_col0 {\n",
       "  width: 10em;\n",
       "  height: 80%;\n",
       "  background: linear-gradient(90deg,#B4B7B9 8.7%, transparent 8.7%);\n",
       "}\n",
       "#T_268aa_row40_col1 {\n",
       "  width: 10em;\n",
       "  height: 80%;\n",
       "  background: linear-gradient(90deg,#B4B7B9 13.7%, transparent 13.7%);\n",
       "}\n",
       "#T_268aa_row42_col0 {\n",
       "  width: 10em;\n",
       "  height: 80%;\n",
       "  background: linear-gradient(90deg,#B4B7B9 8.4%, transparent 8.4%);\n",
       "}\n",
       "#T_268aa_row42_col1, #T_268aa_row47_col1 {\n",
       "  width: 10em;\n",
       "  height: 80%;\n",
       "  background: linear-gradient(90deg,#B4B7B9 12.0%, transparent 12.0%);\n",
       "}\n",
       "#T_268aa_row43_col0 {\n",
       "  width: 10em;\n",
       "  height: 80%;\n",
       "  background: linear-gradient(90deg,#B4B7B9 8.3%, transparent 8.3%);\n",
       "}\n",
       "#T_268aa_row43_col1 {\n",
       "  width: 10em;\n",
       "  height: 80%;\n",
       "  background: linear-gradient(90deg,#B4B7B9 7.3%, transparent 7.3%);\n",
       "}\n",
       "#T_268aa_row44_col0 {\n",
       "  width: 10em;\n",
       "  height: 80%;\n",
       "  background: linear-gradient(90deg,#B4B7B9 8.2%, transparent 8.2%);\n",
       "}\n",
       "#T_268aa_row45_col0, #T_268aa_row51_col1 {\n",
       "  width: 10em;\n",
       "  height: 80%;\n",
       "  background: linear-gradient(90deg,#B4B7B9 7.9%, transparent 7.9%);\n",
       "}\n",
       "#T_268aa_row46_col0 {\n",
       "  width: 10em;\n",
       "  height: 80%;\n",
       "  background: linear-gradient(90deg,#B4B7B9 7.7%, transparent 7.7%);\n",
       "}\n",
       "#T_268aa_row47_col0 {\n",
       "  width: 10em;\n",
       "  height: 80%;\n",
       "  background: linear-gradient(90deg,#B4B7B9 7.0%, transparent 7.0%);\n",
       "}\n",
       "#T_268aa_row48_col0, #T_268aa_row49_col0, #T_268aa_row49_col1 {\n",
       "  width: 10em;\n",
       "  height: 80%;\n",
       "  background: linear-gradient(90deg,#B4B7B9 6.8%, transparent 6.8%);\n",
       "}\n",
       "#T_268aa_row48_col1, #T_268aa_row52_col1, #T_268aa_row55_col1 {\n",
       "  width: 10em;\n",
       "  height: 80%;\n",
       "  background: linear-gradient(90deg,#B4B7B9 7.4%, transparent 7.4%);\n",
       "}\n",
       "#T_268aa_row50_col0 {\n",
       "  width: 10em;\n",
       "  height: 80%;\n",
       "  background: linear-gradient(90deg,#B4B7B9 6.6%, transparent 6.6%);\n",
       "}\n",
       "#T_268aa_row50_col1 {\n",
       "  width: 10em;\n",
       "  height: 80%;\n",
       "  background: linear-gradient(90deg,#B4B7B9 8.0%, transparent 8.0%);\n",
       "}\n",
       "#T_268aa_row51_col0 {\n",
       "  width: 10em;\n",
       "  height: 80%;\n",
       "  background: linear-gradient(90deg,#B4B7B9 6.1%, transparent 6.1%);\n",
       "}\n",
       "#T_268aa_row52_col0 {\n",
       "  width: 10em;\n",
       "  height: 80%;\n",
       "  background: linear-gradient(90deg,#B4B7B9 5.5%, transparent 5.5%);\n",
       "}\n",
       "#T_268aa_row53_col0 {\n",
       "  width: 10em;\n",
       "  height: 80%;\n",
       "  background: linear-gradient(90deg,#B4B7B9 5.4%, transparent 5.4%);\n",
       "}\n",
       "#T_268aa_row53_col1 {\n",
       "  width: 10em;\n",
       "  height: 80%;\n",
       "  background: linear-gradient(90deg,#B4B7B9 8.6%, transparent 8.6%);\n",
       "}\n",
       "#T_268aa_row54_col0 {\n",
       "  width: 10em;\n",
       "  height: 80%;\n",
       "  background: linear-gradient(90deg,#B4B7B9 4.4%, transparent 4.4%);\n",
       "}\n",
       "#T_268aa_row54_col1 {\n",
       "  width: 10em;\n",
       "  height: 80%;\n",
       "  background: linear-gradient(90deg,#B4B7B9 4.8%, transparent 4.8%);\n",
       "}\n",
       "#T_268aa_row55_col0, #T_268aa_row57_col1 {\n",
       "  width: 10em;\n",
       "  height: 80%;\n",
       "  background: linear-gradient(90deg,#B4B7B9 4.2%, transparent 4.2%);\n",
       "}\n",
       "#T_268aa_row56_col0 {\n",
       "  width: 10em;\n",
       "  height: 80%;\n",
       "  background: linear-gradient(90deg,#B4B7B9 3.1%, transparent 3.1%);\n",
       "}\n",
       "#T_268aa_row56_col1, #T_268aa_row60_col1 {\n",
       "  width: 10em;\n",
       "  height: 80%;\n",
       "  background: linear-gradient(90deg,#B4B7B9 3.5%, transparent 3.5%);\n",
       "}\n",
       "#T_268aa_row57_col0 {\n",
       "  width: 10em;\n",
       "  height: 80%;\n",
       "  background: linear-gradient(90deg,#B4B7B9 2.9%, transparent 2.9%);\n",
       "}\n",
       "#T_268aa_row58_col0 {\n",
       "  width: 10em;\n",
       "  height: 80%;\n",
       "  background: linear-gradient(90deg,#B4B7B9 2.4%, transparent 2.4%);\n",
       "}\n",
       "#T_268aa_row58_col1 {\n",
       "  width: 10em;\n",
       "  height: 80%;\n",
       "  background: linear-gradient(90deg,#B4B7B9 3.4%, transparent 3.4%);\n",
       "}\n",
       "#T_268aa_row59_col0 {\n",
       "  width: 10em;\n",
       "  height: 80%;\n",
       "  background: linear-gradient(90deg,#B4B7B9 1.7%, transparent 1.7%);\n",
       "}\n",
       "#T_268aa_row59_col1 {\n",
       "  width: 10em;\n",
       "  height: 80%;\n",
       "  background: linear-gradient(90deg,#B4B7B9 2.8%, transparent 2.8%);\n",
       "}\n",
       "#T_268aa_row60_col0, #T_268aa_row61_col1 {\n",
       "  width: 10em;\n",
       "  height: 80%;\n",
       "  background: linear-gradient(90deg,#B4B7B9 1.6%, transparent 1.6%);\n",
       "}\n",
       "#T_268aa_row61_col0 {\n",
       "  width: 10em;\n",
       "  height: 80%;\n",
       "  background: linear-gradient(90deg,#B4B7B9 0.9%, transparent 0.9%);\n",
       "}\n",
       "</style>\n",
       "<table id=\"T_268aa_\">\n",
       "  <thead>\n",
       "    <tr>\n",
       "      <th class=\"blank level0\" >&nbsp;</th>\n",
       "      <th class=\"col_heading level0 col0\" >importance (final)</th>\n",
       "      <th class=\"col_heading level0 col1\" >importance (cross val)</th>\n",
       "    </tr>\n",
       "  </thead>\n",
       "  <tbody>\n",
       "    <tr>\n",
       "      <th id=\"T_268aa_level0_row0\" class=\"row_heading level0 row0\" >credit_amount</th>\n",
       "      <td id=\"T_268aa_row0_col0\" class=\"data row0 col0\" >0.104054</td>\n",
       "      <td id=\"T_268aa_row0_col1\" class=\"data row0 col1\" >0.081767</td>\n",
       "    </tr>\n",
       "    <tr>\n",
       "      <th id=\"T_268aa_level0_row1\" class=\"row_heading level0 row1\" >age</th>\n",
       "      <td id=\"T_268aa_row1_col0\" class=\"data row1 col0\" >0.084570</td>\n",
       "      <td id=\"T_268aa_row1_col1\" class=\"data row1 col1\" >0.072054</td>\n",
       "    </tr>\n",
       "    <tr>\n",
       "      <th id=\"T_268aa_level0_row2\" class=\"row_heading level0 row2\" >duration</th>\n",
       "      <td id=\"T_268aa_row2_col0\" class=\"data row2 col0\" >0.074995</td>\n",
       "      <td id=\"T_268aa_row2_col1\" class=\"data row2 col1\" >0.063923</td>\n",
       "    </tr>\n",
       "    <tr>\n",
       "      <th id=\"T_268aa_level0_row3\" class=\"row_heading level0 row3\" >x0_no checking</th>\n",
       "      <td id=\"T_268aa_row3_col0\" class=\"data row3 col0\" >0.047417</td>\n",
       "      <td id=\"T_268aa_row3_col1\" class=\"data row3 col1\" >0.033809</td>\n",
       "    </tr>\n",
       "    <tr>\n",
       "      <th id=\"T_268aa_level0_row4\" class=\"row_heading level0 row4\" >x0_<0</th>\n",
       "      <td id=\"T_268aa_row4_col0\" class=\"data row4 col0\" >0.040988</td>\n",
       "      <td id=\"T_268aa_row4_col1\" class=\"data row4 col1\" >0.033009</td>\n",
       "    </tr>\n",
       "    <tr>\n",
       "      <th id=\"T_268aa_level0_row5\" class=\"row_heading level0 row5\" >installment_commitment</th>\n",
       "      <td id=\"T_268aa_row5_col0\" class=\"data row5 col0\" >0.034824</td>\n",
       "      <td id=\"T_268aa_row5_col1\" class=\"data row5 col1\" >0.038051</td>\n",
       "    </tr>\n",
       "    <tr>\n",
       "      <th id=\"T_268aa_level0_row6\" class=\"row_heading level0 row6\" >residence_since</th>\n",
       "      <td id=\"T_268aa_row6_col0\" class=\"data row6 col0\" >0.032843</td>\n",
       "      <td id=\"T_268aa_row6_col1\" class=\"data row6 col1\" >0.037222</td>\n",
       "    </tr>\n",
       "    <tr>\n",
       "      <th id=\"T_268aa_level0_row7\" class=\"row_heading level0 row7\" >x1_critical/other existing credit</th>\n",
       "      <td id=\"T_268aa_row7_col0\" class=\"data row7 col0\" >0.022264</td>\n",
       "      <td id=\"T_268aa_row7_col1\" class=\"data row7 col1\" >0.020246</td>\n",
       "    </tr>\n",
       "    <tr>\n",
       "      <th id=\"T_268aa_level0_row8\" class=\"row_heading level0 row8\" >x3_<100</th>\n",
       "      <td id=\"T_268aa_row8_col0\" class=\"data row8 col0\" >0.020792</td>\n",
       "      <td id=\"T_268aa_row8_col1\" class=\"data row8 col1\" >0.020250</td>\n",
       "    </tr>\n",
       "    <tr>\n",
       "      <th id=\"T_268aa_level0_row9\" class=\"row_heading level0 row9\" >x2_new car</th>\n",
       "      <td id=\"T_268aa_row9_col0\" class=\"data row9 col0\" >0.018736</td>\n",
       "      <td id=\"T_268aa_row9_col1\" class=\"data row9 col1\" >0.018526</td>\n",
       "    </tr>\n",
       "    <tr>\n",
       "      <th id=\"T_268aa_level0_row10\" class=\"row_heading level0 row10\" >x0_0<=X<200</th>\n",
       "      <td id=\"T_268aa_row10_col0\" class=\"data row10 col0\" >0.017998</td>\n",
       "      <td id=\"T_268aa_row10_col1\" class=\"data row10 col1\" >0.019753</td>\n",
       "    </tr>\n",
       "    <tr>\n",
       "      <th id=\"T_268aa_level0_row11\" class=\"row_heading level0 row11\" >existing_credits</th>\n",
       "      <td id=\"T_268aa_row11_col0\" class=\"data row11 col0\" >0.016440</td>\n",
       "      <td id=\"T_268aa_row11_col1\" class=\"data row11 col1\" >0.021282</td>\n",
       "    </tr>\n",
       "    <tr>\n",
       "      <th id=\"T_268aa_level0_row12\" class=\"row_heading level0 row12\" >x8_none</th>\n",
       "      <td id=\"T_268aa_row12_col0\" class=\"data row12 col0\" >0.016405</td>\n",
       "      <td id=\"T_268aa_row12_col1\" class=\"data row12 col1\" >0.016823</td>\n",
       "    </tr>\n",
       "    <tr>\n",
       "      <th id=\"T_268aa_level0_row13\" class=\"row_heading level0 row13\" >x7_real estate</th>\n",
       "      <td id=\"T_268aa_row13_col0\" class=\"data row13 col0\" >0.015057</td>\n",
       "      <td id=\"T_268aa_row13_col1\" class=\"data row13 col1\" >0.016276</td>\n",
       "    </tr>\n",
       "    <tr>\n",
       "      <th id=\"T_268aa_level0_row14\" class=\"row_heading level0 row14\" >x5_male single</th>\n",
       "      <td id=\"T_268aa_row14_col0\" class=\"data row14 col0\" >0.015044</td>\n",
       "      <td id=\"T_268aa_row14_col1\" class=\"data row14 col1\" >0.017725</td>\n",
       "    </tr>\n",
       "    <tr>\n",
       "      <th id=\"T_268aa_level0_row15\" class=\"row_heading level0 row15\" >x10_skilled</th>\n",
       "      <td id=\"T_268aa_row15_col0\" class=\"data row15 col0\" >0.014908</td>\n",
       "      <td id=\"T_268aa_row15_col1\" class=\"data row15 col1\" >0.017067</td>\n",
       "    </tr>\n",
       "    <tr>\n",
       "      <th id=\"T_268aa_level0_row16\" class=\"row_heading level0 row16\" >x5_female div/dep/mar</th>\n",
       "      <td id=\"T_268aa_row16_col0\" class=\"data row16 col0\" >0.014455</td>\n",
       "      <td id=\"T_268aa_row16_col1\" class=\"data row16 col1\" >0.016616</td>\n",
       "    </tr>\n",
       "    <tr>\n",
       "      <th id=\"T_268aa_level0_row17\" class=\"row_heading level0 row17\" >x4_1<=X<4</th>\n",
       "      <td id=\"T_268aa_row17_col0\" class=\"data row17 col0\" >0.014450</td>\n",
       "      <td id=\"T_268aa_row17_col1\" class=\"data row17 col1\" >0.016716</td>\n",
       "    </tr>\n",
       "    <tr>\n",
       "      <th id=\"T_268aa_level0_row18\" class=\"row_heading level0 row18\" >x9_own</th>\n",
       "      <td id=\"T_268aa_row18_col0\" class=\"data row18 col0\" >0.013919</td>\n",
       "      <td id=\"T_268aa_row18_col1\" class=\"data row18 col1\" >0.018806</td>\n",
       "    </tr>\n",
       "    <tr>\n",
       "      <th id=\"T_268aa_level0_row19\" class=\"row_heading level0 row19\" >x7_car</th>\n",
       "      <td id=\"T_268aa_row19_col0\" class=\"data row19 col0\" >0.013849</td>\n",
       "      <td id=\"T_268aa_row19_col1\" class=\"data row19 col1\" >0.016419</td>\n",
       "    </tr>\n",
       "    <tr>\n",
       "      <th id=\"T_268aa_level0_row20\" class=\"row_heading level0 row20\" >x4_<1</th>\n",
       "      <td id=\"T_268aa_row20_col0\" class=\"data row20 col0\" >0.013707</td>\n",
       "      <td id=\"T_268aa_row20_col1\" class=\"data row20 col1\" >0.014465</td>\n",
       "    </tr>\n",
       "    <tr>\n",
       "      <th id=\"T_268aa_level0_row21\" class=\"row_heading level0 row21\" >x3_no known savings</th>\n",
       "      <td id=\"T_268aa_row21_col0\" class=\"data row21 col0\" >0.013429</td>\n",
       "      <td id=\"T_268aa_row21_col1\" class=\"data row21 col1\" >0.012933</td>\n",
       "    </tr>\n",
       "    <tr>\n",
       "      <th id=\"T_268aa_level0_row22\" class=\"row_heading level0 row22\" >x8_bank</th>\n",
       "      <td id=\"T_268aa_row22_col0\" class=\"data row22 col0\" >0.013320</td>\n",
       "      <td id=\"T_268aa_row22_col1\" class=\"data row22 col1\" >0.013436</td>\n",
       "    </tr>\n",
       "    <tr>\n",
       "      <th id=\"T_268aa_level0_row23\" class=\"row_heading level0 row23\" >x7_life insurance</th>\n",
       "      <td id=\"T_268aa_row23_col0\" class=\"data row23 col0\" >0.013148</td>\n",
       "      <td id=\"T_268aa_row23_col1\" class=\"data row23 col1\" >0.014205</td>\n",
       "    </tr>\n",
       "    <tr>\n",
       "      <th id=\"T_268aa_level0_row24\" class=\"row_heading level0 row24\" >x2_furniture/equipment</th>\n",
       "      <td id=\"T_268aa_row24_col0\" class=\"data row24 col0\" >0.013091</td>\n",
       "      <td id=\"T_268aa_row24_col1\" class=\"data row24 col1\" >0.014083</td>\n",
       "    </tr>\n",
       "    <tr>\n",
       "      <th id=\"T_268aa_level0_row25\" class=\"row_heading level0 row25\" >x11_yes</th>\n",
       "      <td id=\"T_268aa_row25_col0\" class=\"data row25 col0\" >0.012933</td>\n",
       "      <td id=\"T_268aa_row25_col1\" class=\"data row25 col1\" >0.015830</td>\n",
       "    </tr>\n",
       "    <tr>\n",
       "      <th id=\"T_268aa_level0_row26\" class=\"row_heading level0 row26\" >x2_radio/tv</th>\n",
       "      <td id=\"T_268aa_row26_col0\" class=\"data row26 col0\" >0.012905</td>\n",
       "      <td id=\"T_268aa_row26_col1\" class=\"data row26 col1\" >0.017948</td>\n",
       "    </tr>\n",
       "    <tr>\n",
       "      <th id=\"T_268aa_level0_row27\" class=\"row_heading level0 row27\" >x1_existing paid</th>\n",
       "      <td id=\"T_268aa_row27_col0\" class=\"data row27 col0\" >0.012789</td>\n",
       "      <td id=\"T_268aa_row27_col1\" class=\"data row27 col1\" >0.016891</td>\n",
       "    </tr>\n",
       "    <tr>\n",
       "      <th id=\"T_268aa_level0_row28\" class=\"row_heading level0 row28\" >x4_>=7</th>\n",
       "      <td id=\"T_268aa_row28_col0\" class=\"data row28 col0\" >0.012320</td>\n",
       "      <td id=\"T_268aa_row28_col1\" class=\"data row28 col1\" >0.016157</td>\n",
       "    </tr>\n",
       "    <tr>\n",
       "      <th id=\"T_268aa_level0_row29\" class=\"row_heading level0 row29\" >x11_none</th>\n",
       "      <td id=\"T_268aa_row29_col0\" class=\"data row29 col0\" >0.012221</td>\n",
       "      <td id=\"T_268aa_row29_col1\" class=\"data row29 col1\" >0.016207</td>\n",
       "    </tr>\n",
       "    <tr>\n",
       "      <th id=\"T_268aa_level0_row30\" class=\"row_heading level0 row30\" >x10_high qualif/self emp/mgmt</th>\n",
       "      <td id=\"T_268aa_row30_col0\" class=\"data row30 col0\" >0.012020</td>\n",
       "      <td id=\"T_268aa_row30_col1\" class=\"data row30 col1\" >0.012109</td>\n",
       "    </tr>\n",
       "    <tr>\n",
       "      <th id=\"T_268aa_level0_row31\" class=\"row_heading level0 row31\" >x7_no known property</th>\n",
       "      <td id=\"T_268aa_row31_col0\" class=\"data row31 col0\" >0.011894</td>\n",
       "      <td id=\"T_268aa_row31_col1\" class=\"data row31 col1\" >0.012893</td>\n",
       "    </tr>\n",
       "    <tr>\n",
       "      <th id=\"T_268aa_level0_row32\" class=\"row_heading level0 row32\" >x1_no credits/all paid</th>\n",
       "      <td id=\"T_268aa_row32_col0\" class=\"data row32 col0\" >0.011655</td>\n",
       "      <td id=\"T_268aa_row32_col1\" class=\"data row32 col1\" >0.012319</td>\n",
       "    </tr>\n",
       "    <tr>\n",
       "      <th id=\"T_268aa_level0_row33\" class=\"row_heading level0 row33\" >x10_unskilled resident</th>\n",
       "      <td id=\"T_268aa_row33_col0\" class=\"data row33 col0\" >0.011243</td>\n",
       "      <td id=\"T_268aa_row33_col1\" class=\"data row33 col1\" >0.011731</td>\n",
       "    </tr>\n",
       "    <tr>\n",
       "      <th id=\"T_268aa_level0_row34\" class=\"row_heading level0 row34\" >x4_4<=X<7</th>\n",
       "      <td id=\"T_268aa_row34_col0\" class=\"data row34 col0\" >0.011171</td>\n",
       "      <td id=\"T_268aa_row34_col1\" class=\"data row34 col1\" >0.013614</td>\n",
       "    </tr>\n",
       "    <tr>\n",
       "      <th id=\"T_268aa_level0_row35\" class=\"row_heading level0 row35\" >x9_rent</th>\n",
       "      <td id=\"T_268aa_row35_col0\" class=\"data row35 col0\" >0.010489</td>\n",
       "      <td id=\"T_268aa_row35_col1\" class=\"data row35 col1\" >0.012915</td>\n",
       "    </tr>\n",
       "    <tr>\n",
       "      <th id=\"T_268aa_level0_row36\" class=\"row_heading level0 row36\" >x1_all paid</th>\n",
       "      <td id=\"T_268aa_row36_col0\" class=\"data row36 col0\" >0.010315</td>\n",
       "      <td id=\"T_268aa_row36_col1\" class=\"data row36 col1\" >0.009681</td>\n",
       "    </tr>\n",
       "    <tr>\n",
       "      <th id=\"T_268aa_level0_row37\" class=\"row_heading level0 row37\" >num_dependents</th>\n",
       "      <td id=\"T_268aa_row37_col0\" class=\"data row37 col0\" >0.009901</td>\n",
       "      <td id=\"T_268aa_row37_col1\" class=\"data row37 col1\" >0.011353</td>\n",
       "    </tr>\n",
       "    <tr>\n",
       "      <th id=\"T_268aa_level0_row38\" class=\"row_heading level0 row38\" >x6_none</th>\n",
       "      <td id=\"T_268aa_row38_col0\" class=\"data row38 col0\" >0.009867</td>\n",
       "      <td id=\"T_268aa_row38_col1\" class=\"data row38 col1\" >0.009405</td>\n",
       "    </tr>\n",
       "    <tr>\n",
       "      <th id=\"T_268aa_level0_row39\" class=\"row_heading level0 row39\" >x4_unemployed</th>\n",
       "      <td id=\"T_268aa_row39_col0\" class=\"data row39 col0\" >0.009314</td>\n",
       "      <td id=\"T_268aa_row39_col1\" class=\"data row39 col1\" >0.009226</td>\n",
       "    </tr>\n",
       "    <tr>\n",
       "      <th id=\"T_268aa_level0_row40\" class=\"row_heading level0 row40\" >x2_business</th>\n",
       "      <td id=\"T_268aa_row40_col0\" class=\"data row40 col0\" >0.009088</td>\n",
       "      <td id=\"T_268aa_row40_col1\" class=\"data row40 col1\" >0.011228</td>\n",
       "    </tr>\n",
       "    <tr>\n",
       "      <th id=\"T_268aa_level0_row41\" class=\"row_heading level0 row41\" >x1_delayed previously</th>\n",
       "      <td id=\"T_268aa_row41_col0\" class=\"data row41 col0\" >0.009041</td>\n",
       "      <td id=\"T_268aa_row41_col1\" class=\"data row41 col1\" >0.009261</td>\n",
       "    </tr>\n",
       "    <tr>\n",
       "      <th id=\"T_268aa_level0_row42\" class=\"row_heading level0 row42\" >x2_used car</th>\n",
       "      <td id=\"T_268aa_row42_col0\" class=\"data row42 col0\" >0.008765</td>\n",
       "      <td id=\"T_268aa_row42_col1\" class=\"data row42 col1\" >0.009792</td>\n",
       "    </tr>\n",
       "    <tr>\n",
       "      <th id=\"T_268aa_level0_row43\" class=\"row_heading level0 row43\" >x6_guarantor</th>\n",
       "      <td id=\"T_268aa_row43_col0\" class=\"data row43 col0\" >0.008618</td>\n",
       "      <td id=\"T_268aa_row43_col1\" class=\"data row43 col1\" >0.005968</td>\n",
       "    </tr>\n",
       "    <tr>\n",
       "      <th id=\"T_268aa_level0_row44\" class=\"row_heading level0 row44\" >x2_education</th>\n",
       "      <td id=\"T_268aa_row44_col0\" class=\"data row44 col0\" >0.008527</td>\n",
       "      <td id=\"T_268aa_row44_col1\" class=\"data row44 col1\" >0.008749</td>\n",
       "    </tr>\n",
       "    <tr>\n",
       "      <th id=\"T_268aa_level0_row45\" class=\"row_heading level0 row45\" >x3_100<=X<500</th>\n",
       "      <td id=\"T_268aa_row45_col0\" class=\"data row45 col0\" >0.008181</td>\n",
       "      <td id=\"T_268aa_row45_col1\" class=\"data row45 col1\" >0.009459</td>\n",
       "    </tr>\n",
       "    <tr>\n",
       "      <th id=\"T_268aa_level0_row46\" class=\"row_heading level0 row46\" >x5_male mar/wid</th>\n",
       "      <td id=\"T_268aa_row46_col0\" class=\"data row46 col0\" >0.007988</td>\n",
       "      <td id=\"T_268aa_row46_col1\" class=\"data row46 col1\" >0.008781</td>\n",
       "    </tr>\n",
       "    <tr>\n",
       "      <th id=\"T_268aa_level0_row47\" class=\"row_heading level0 row47\" >x9_for free</th>\n",
       "      <td id=\"T_268aa_row47_col0\" class=\"data row47 col0\" >0.007294</td>\n",
       "      <td id=\"T_268aa_row47_col1\" class=\"data row47 col1\" >0.009797</td>\n",
       "    </tr>\n",
       "    <tr>\n",
       "      <th id=\"T_268aa_level0_row48\" class=\"row_heading level0 row48\" >x5_male div/sep</th>\n",
       "      <td id=\"T_268aa_row48_col0\" class=\"data row48 col0\" >0.007044</td>\n",
       "      <td id=\"T_268aa_row48_col1\" class=\"data row48 col1\" >0.006028</td>\n",
       "    </tr>\n",
       "    <tr>\n",
       "      <th id=\"T_268aa_level0_row49\" class=\"row_heading level0 row49\" >x6_co applicant</th>\n",
       "      <td id=\"T_268aa_row49_col0\" class=\"data row49 col0\" >0.007039</td>\n",
       "      <td id=\"T_268aa_row49_col1\" class=\"data row49 col1\" >0.005599</td>\n",
       "    </tr>\n",
       "    <tr>\n",
       "      <th id=\"T_268aa_level0_row50\" class=\"row_heading level0 row50\" >x0_>=200</th>\n",
       "      <td id=\"T_268aa_row50_col0\" class=\"data row50 col0\" >0.006848</td>\n",
       "      <td id=\"T_268aa_row50_col1\" class=\"data row50 col1\" >0.006567</td>\n",
       "    </tr>\n",
       "    <tr>\n",
       "      <th id=\"T_268aa_level0_row51\" class=\"row_heading level0 row51\" >x8_stores</th>\n",
       "      <td id=\"T_268aa_row51_col0\" class=\"data row51 col0\" >0.006349</td>\n",
       "      <td id=\"T_268aa_row51_col1\" class=\"data row51 col1\" >0.006470</td>\n",
       "    </tr>\n",
       "    <tr>\n",
       "      <th id=\"T_268aa_level0_row52\" class=\"row_heading level0 row52\" >x0_nan</th>\n",
       "      <td id=\"T_268aa_row52_col0\" class=\"data row52 col0\" >0.005751</td>\n",
       "      <td id=\"T_268aa_row52_col1\" class=\"data row52 col1\" >0.006012</td>\n",
       "    </tr>\n",
       "    <tr>\n",
       "      <th id=\"T_268aa_level0_row53\" class=\"row_heading level0 row53\" >x3_500<=X<1000</th>\n",
       "      <td id=\"T_268aa_row53_col0\" class=\"data row53 col0\" >0.005594</td>\n",
       "      <td id=\"T_268aa_row53_col1\" class=\"data row53 col1\" >0.007011</td>\n",
       "    </tr>\n",
       "    <tr>\n",
       "      <th id=\"T_268aa_level0_row54\" class=\"row_heading level0 row54\" >x2_repairs</th>\n",
       "      <td id=\"T_268aa_row54_col0\" class=\"data row54 col0\" >0.004573</td>\n",
       "      <td id=\"T_268aa_row54_col1\" class=\"data row54 col1\" >0.003939</td>\n",
       "    </tr>\n",
       "    <tr>\n",
       "      <th id=\"T_268aa_level0_row55\" class=\"row_heading level0 row55\" >x3_>=1000</th>\n",
       "      <td id=\"T_268aa_row55_col0\" class=\"data row55 col0\" >0.004392</td>\n",
       "      <td id=\"T_268aa_row55_col1\" class=\"data row55 col1\" >0.006060</td>\n",
       "    </tr>\n",
       "    <tr>\n",
       "      <th id=\"T_268aa_level0_row56\" class=\"row_heading level0 row56\" >x12_yes</th>\n",
       "      <td id=\"T_268aa_row56_col0\" class=\"data row56 col0\" >0.003253</td>\n",
       "      <td id=\"T_268aa_row56_col1\" class=\"data row56 col1\" >0.002832</td>\n",
       "    </tr>\n",
       "    <tr>\n",
       "      <th id=\"T_268aa_level0_row57\" class=\"row_heading level0 row57\" >x12_no</th>\n",
       "      <td id=\"T_268aa_row57_col0\" class=\"data row57 col0\" >0.003014</td>\n",
       "      <td id=\"T_268aa_row57_col1\" class=\"data row57 col1\" >0.003475</td>\n",
       "    </tr>\n",
       "    <tr>\n",
       "      <th id=\"T_268aa_level0_row58\" class=\"row_heading level0 row58\" >x10_unemp/unskilled non res</th>\n",
       "      <td id=\"T_268aa_row58_col0\" class=\"data row58 col0\" >0.002511</td>\n",
       "      <td id=\"T_268aa_row58_col1\" class=\"data row58 col1\" >0.002742</td>\n",
       "    </tr>\n",
       "    <tr>\n",
       "      <th id=\"T_268aa_level0_row59\" class=\"row_heading level0 row59\" >x2_other</th>\n",
       "      <td id=\"T_268aa_row59_col0\" class=\"data row59 col0\" >0.001821</td>\n",
       "      <td id=\"T_268aa_row59_col1\" class=\"data row59 col1\" >0.002322</td>\n",
       "    </tr>\n",
       "    <tr>\n",
       "      <th id=\"T_268aa_level0_row60\" class=\"row_heading level0 row60\" >x2_domestic appliance</th>\n",
       "      <td id=\"T_268aa_row60_col0\" class=\"data row60 col0\" >0.001652</td>\n",
       "      <td id=\"T_268aa_row60_col1\" class=\"data row60 col1\" >0.002882</td>\n",
       "    </tr>\n",
       "    <tr>\n",
       "      <th id=\"T_268aa_level0_row61\" class=\"row_heading level0 row61\" >x2_retraining</th>\n",
       "      <td id=\"T_268aa_row61_col0\" class=\"data row61 col0\" >0.000917</td>\n",
       "      <td id=\"T_268aa_row61_col1\" class=\"data row61 col1\" >0.001286</td>\n",
       "    </tr>\n",
       "  </tbody>\n",
       "</table>\n"
      ],
      "text/plain": [
       "<pandas.io.formats.style.Styler at 0x7fa0b8ef73d0>"
      ]
     },
     "execution_count": 84,
     "metadata": {},
     "output_type": "execute_result"
    }
   ],
   "source": [
    "pd.DataFrame({\n",
    "    'importance (final)': final_model.feature_importances_,\n",
    "    'importance (cross val)': grid_search.best_estimator_._final_estimator.feature_importances_\n",
    "    \n",
    "}, index=final_column_names).\\\n",
    "sort_values(by='importance (final)', ascending=False).\\\n",
    "style.bar(color=hlp.color.GRAY, vmin=0)"
   ]
  },
  {
   "cell_type": "code",
   "execution_count": null,
   "id": "0726b3fb",
   "metadata": {},
   "outputs": [],
   "source": []
  },
  {
   "cell_type": "markdown",
   "id": "54f038aa",
   "metadata": {},
   "source": [
    "# TODO"
   ]
  },
  {
   "cell_type": "markdown",
   "id": "b05b9a02",
   "metadata": {},
   "source": [
    "- get feature importance for model that has various transformations (would have to build pipeline manually based on selected transformers since transformers are being tuned via grid-search)\n",
    "    - https://towardsdatascience.com/how-to-get-feature-importances-from-any-sklearn-pipeline-167a19f1214\n",
    "    - https://stackoverflow.com/questions/38787612/how-to-extract-feature-importances-from-an-sklearn-pipeline\n",
    "   \n",
    "```\n",
    "grid_search.best_estimator_._final_estimator.feature_importances_\n",
    "grid_search.best_estimator_._final_estimator.feature_importances_.shape\n",
    "```\n",
    "\n",
    "right now we can get importances but can't get feature names since it is being"
   ]
  },
  {
   "cell_type": "code",
   "execution_count": 85,
   "id": "c803d778",
   "metadata": {},
   "outputs": [],
   "source": [
    "#grid_search.best_estimator_.named_steps['preparation'].transformers[1][1].named_steps['encoder_chooser'].base_transformer.get_feature_names()"
   ]
  },
  {
   "cell_type": "code",
   "execution_count": 86,
   "id": "845939b7",
   "metadata": {},
   "outputs": [
    {
     "data": {
      "text/plain": [
       "array([0.06392319, 0.08176671, 0.0380507 , 0.03722161, 0.07205391,\n",
       "       0.02128217, 0.01135315, 0.01975279, 0.03300944, 0.00656691,\n",
       "       0.03380932, 0.00601217, 0.00968149, 0.02024632, 0.00926076,\n",
       "       0.01689088, 0.01231891, 0.01122847, 0.0028823 , 0.00874858,\n",
       "       0.01408273, 0.01852644, 0.00232178, 0.01794846, 0.00393875,\n",
       "       0.0012857 , 0.0097917 , 0.00945918, 0.00701141, 0.0202496 ,\n",
       "       0.0060604 , 0.01293276, 0.01671606, 0.01361385, 0.01446542,\n",
       "       0.01615652, 0.00922622, 0.01661636, 0.00602843, 0.00878087,\n",
       "       0.01772468, 0.00559852, 0.00596786, 0.00940453, 0.01641875,\n",
       "       0.01420544, 0.01289265, 0.01627603, 0.01343604, 0.01682256,\n",
       "       0.00647033, 0.00979669, 0.01880648, 0.01291542, 0.01210869,\n",
       "       0.01706706, 0.00274172, 0.0117306 , 0.01620724, 0.0158297 ,\n",
       "       0.00347457, 0.00283206])"
      ]
     },
     "execution_count": 86,
     "metadata": {},
     "output_type": "execute_result"
    }
   ],
   "source": [
    "grid_search.best_estimator_._final_estimator.feature_importances_"
   ]
  },
  {
   "cell_type": "markdown",
   "id": "36e84e7e",
   "metadata": {},
   "source": [
    "- future importance\n",
    "    - https://www.kaggle.com/general/175075\n",
    "        - LOFO (Leave one feature out) for feature importance.\n",
    "    - https://explained.ai/rf-importance/"
   ]
  },
  {
   "cell_type": "markdown",
   "id": "52cb745f",
   "metadata": {},
   "source": []
  }
 ],
 "metadata": {
  "kernelspec": {
   "display_name": "Python 3 (ipykernel)",
   "language": "python",
   "name": "python3"
  },
  "language_info": {
   "codemirror_mode": {
    "name": "ipython",
    "version": 3
   },
   "file_extension": ".py",
   "mimetype": "text/x-python",
   "name": "python",
   "nbconvert_exporter": "python",
   "pygments_lexer": "ipython3",
   "version": "3.9.6"
  },
  "toc": {
   "base_numbering": 1,
   "nav_menu": {},
   "number_sections": false,
   "sideBar": true,
   "skip_h1_title": false,
   "title_cell": "Table of Contents",
   "title_sidebar": "Contents",
   "toc_cell": false,
   "toc_position": {
    "height": "calc(100% - 180px)",
    "left": "10px",
    "top": "150px",
    "width": "298px"
   },
   "toc_section_display": true,
   "toc_window_display": true
  }
 },
 "nbformat": 4,
 "nbformat_minor": 5
}