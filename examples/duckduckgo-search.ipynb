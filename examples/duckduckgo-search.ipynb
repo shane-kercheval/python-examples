{
 "cells": [
  {
   "cell_type": "code",
   "execution_count": 23,
   "metadata": {},
   "outputs": [
    {
     "name": "stdout",
     "output_type": "stream",
     "text": [
      "Requirement already satisfied: duckduckgo-search in /usr/local/lib/python3.10/site-packages (3.8.2)\n",
      "Requirement already satisfied: lxml>=4.9.2 in /usr/local/lib/python3.10/site-packages (from duckduckgo-search) (4.9.2)\n",
      "Requirement already satisfied: httpx[brotli,http2,socks]>=0.24.1 in /usr/local/lib/python3.10/site-packages (from duckduckgo-search) (0.24.1)\n",
      "Requirement already satisfied: aiofiles>=23.1.0 in /usr/local/lib/python3.10/site-packages (from duckduckgo-search) (23.1.0)\n",
      "Requirement already satisfied: click>=8.1.3 in /usr/local/lib/python3.10/site-packages (from duckduckgo-search) (8.1.3)\n",
      "Requirement already satisfied: certifi in /usr/local/lib/python3.10/site-packages (from httpx[brotli,http2,socks]>=0.24.1->duckduckgo-search) (2022.12.7)\n",
      "Requirement already satisfied: sniffio in /usr/local/lib/python3.10/site-packages (from httpx[brotli,http2,socks]>=0.24.1->duckduckgo-search) (1.3.0)\n",
      "Requirement already satisfied: httpcore<0.18.0,>=0.15.0 in /usr/local/lib/python3.10/site-packages (from httpx[brotli,http2,socks]>=0.24.1->duckduckgo-search) (0.17.2)\n",
      "Requirement already satisfied: idna in /usr/local/lib/python3.10/site-packages (from httpx[brotli,http2,socks]>=0.24.1->duckduckgo-search) (3.4)\n",
      "Requirement already satisfied: socksio==1.* in /usr/local/lib/python3.10/site-packages (from httpx[brotli,http2,socks]>=0.24.1->duckduckgo-search) (1.0.0)\n",
      "Requirement already satisfied: brotli in /usr/local/lib/python3.10/site-packages (from httpx[brotli,http2,socks]>=0.24.1->duckduckgo-search) (1.0.9)\n",
      "Requirement already satisfied: h2<5,>=3 in /usr/local/lib/python3.10/site-packages (from httpx[brotli,http2,socks]>=0.24.1->duckduckgo-search) (4.1.0)\n",
      "Requirement already satisfied: hyperframe<7,>=6.0 in /usr/local/lib/python3.10/site-packages (from h2<5,>=3->httpx[brotli,http2,socks]>=0.24.1->duckduckgo-search) (6.0.1)\n",
      "Requirement already satisfied: hpack<5,>=4.0 in /usr/local/lib/python3.10/site-packages (from h2<5,>=3->httpx[brotli,http2,socks]>=0.24.1->duckduckgo-search) (4.0.0)\n",
      "Requirement already satisfied: anyio<5.0,>=3.0 in /usr/local/lib/python3.10/site-packages (from httpcore<0.18.0,>=0.15.0->httpx[brotli,http2,socks]>=0.24.1->duckduckgo-search) (3.6.2)\n",
      "Requirement already satisfied: h11<0.15,>=0.13 in /usr/local/lib/python3.10/site-packages (from httpcore<0.18.0,>=0.15.0->httpx[brotli,http2,socks]>=0.24.1->duckduckgo-search) (0.14.0)\n",
      "\u001b[33mWARNING: Running pip as the 'root' user can result in broken permissions and conflicting behaviour with the system package manager. It is recommended to use a virtual environment instead: https://pip.pypa.io/warnings/venv\u001b[0m\u001b[33m\n",
      "\u001b[0m\n",
      "\u001b[1m[\u001b[0m\u001b[34;49mnotice\u001b[0m\u001b[1;39;49m]\u001b[0m\u001b[39;49m A new release of pip is available: \u001b[0m\u001b[31;49m23.0.1\u001b[0m\u001b[39;49m -> \u001b[0m\u001b[32;49m23.1.2\u001b[0m\n",
      "\u001b[1m[\u001b[0m\u001b[34;49mnotice\u001b[0m\u001b[1;39;49m]\u001b[0m\u001b[39;49m To update, run: \u001b[0m\u001b[32;49mpip install --upgrade pip\u001b[0m\n"
     ]
    }
   ],
   "source": [
    "!pip install --upgrade duckduckgo-search"
   ]
  },
  {
   "cell_type": "code",
   "execution_count": 2,
   "metadata": {},
   "outputs": [
    {
     "data": {
      "text/plain": [
       "[{'title': 'A Complete Guide to LangChain: Building Powerful ...',\n",
       "  'href': 'https://notes.aimodels.fyi/a-complete-guide-to-langchain-building-powerful-applications-with-large-language-models/',\n",
       "  'body': 'LangChain is a powerful framework designed to help developers build end-to-end applications using language models. It offers a suite of tools, components, and interfaces that simplify the process of creating applications powered by large language models (LLMs) and chat models.'},\n",
       " {'title': 'Agents — 🦜🔗 LangChain 0.0.198',\n",
       "  'href': 'https://python.langchain.com/en/latest/modules/agents.html',\n",
       "  'body': \"Conceptual Guide Some applications require not just a predetermined chain of calls to LLMs/other tools, but potentially an unknown chain that depends on the user's input. In these types of chains, there is an agent which has access to a suite of tools . Depending on the user input, the agent can then decide which, if any, of these tools to call.\"},\n",
       " {'title': 'Autonomous Agents & Agent Simulations - LangChain',\n",
       "  'href': 'https://blog.langchain.dev/agents-round/',\n",
       "  'body': 'Agents generally refer to the idea of using a language model as a reasoning engine and connecting it to two key components: tools and memory. Tools help connect the LLM to other sources of data or computation. Examples of tools include search engines, APIs, and other datastores.'},\n",
       " {'title': 'LangChain, chains and agents, a great piece of engineering ...',\n",
       "  'href': 'https://www.datasciencebyexample.com/2023/05/27/understanding-langchain-chains-and-agents/',\n",
       "  'body': 'In these types of chains, there is a \"agent\" which has access to a suite of tools. Depending on the user input, the agent can then decide which, if any, of these tools to call. At the moment, there are two main types of agents in Langchain: \"Action Agents\": these agents decide an action to take and take that action one step at a time'},\n",
       " {'title': 'Welcome to LangChain — 🦜🔗 LangChain 0.0.198',\n",
       "  'href': 'https://python.langchain.com/en/latest/index.html',\n",
       "  'body': 'Agents: An agent is a Chain in which an LLM, given a high-level directive and a set of tools, repeatedly decides an action, executes the action and observes the outcome until the high-level directive is complete.'}]"
      ]
     },
     "execution_count": 2,
     "metadata": {},
     "output_type": "execute_result"
    }
   ],
   "source": [
    "from itertools import islice\n",
    "from duckduckgo_search import DDGS\n",
    "\n",
    "search = \"What is the purpose of agents in langchain?\"\n",
    "top_n_results = 5\n",
    "\n",
    "def duckduckgo_search(query: str, top_n: int = 3):\n",
    "    with DDGS() as ddgs:\n",
    "        ddgs_generator = ddgs.text(query, region='wt-wt', safesearch='Off', timelimit='y')\n",
    "        return [x for x in islice(ddgs_generator, top_n_results)]\n",
    "\n",
    "duckduckgo_search(query=search, top_n=top_n_results)"
   ]
  },
  {
   "attachments": {},
   "cell_type": "markdown",
   "metadata": {},
   "source": [
    "---"
   ]
  },
  {
   "cell_type": "code",
   "execution_count": 2,
   "metadata": {},
   "outputs": [
    {
     "name": "stderr",
     "output_type": "stream",
     "text": [
      "/usr/local/lib/python3.10/site-packages/duckduckgo_search/compat.py:20: UserWarning: ddg is deprecated. Use DDGS().text() generator\n",
      "  warnings.warn(\"ddg is deprecated. Use DDGS().text() generator\")\n",
      "/usr/local/lib/python3.10/site-packages/duckduckgo_search/compat.py:22: UserWarning: parameter time is deprecated, use parameter timelimit\n",
      "  warnings.warn(\"parameter time is deprecated, use parameter timelimit\")\n",
      "/usr/local/lib/python3.10/site-packages/duckduckgo_search/compat.py:24: UserWarning: parameter page is deprecated, use DDGS().text() generator\n",
      "  warnings.warn(\"parameter page is deprecated, use DDGS().text() generator\")\n",
      "/usr/local/lib/python3.10/site-packages/duckduckgo_search/compat.py:26: UserWarning: parameter max_results is deprecated, use DDGS().text()\n",
      "  warnings.warn(\"parameter max_results is deprecated, use DDGS().text()\")\n"
     ]
    },
    {
     "data": {
      "text/plain": [
       "[{'snippet': 'About OpenAI is an AI research and deployment company. Our mission is to ensure that artificial general intelligence benefits all of humanity. Our vision for the future of AGI Our mission is to ensure that artificial general intelligence—AI systems that are generally smarter than humans—benefits all of humanity. Read our plan for AGI',\n",
       "  'title': 'About - OpenAI',\n",
       "  'link': 'https://openai.com/about/'},\n",
       " {'snippet': 'OpenAI is an American artificial intelligence (AI) research laboratory consisting of the non-profit OpenAI Incorporated and its for-profit subsidiary corporation OpenAI Limited Partnership.OpenAI conducts AI research with the declared intention of promoting and developing friendly AI.. OpenAI was founded in 2015 by Ilya Sutskever, Greg Brockman, Trevor Blackwell, Vicki Cheung, Andrej Karpathy ...',\n",
       "  'title': 'OpenAI - Wikipedia',\n",
       "  'link': 'https://en.wikipedia.org/wiki/OpenAI'},\n",
       " {'snippet': \"OpenAI. OpenAI is a private research laboratory that aims to develop and direct artificial intelligence ( AI) in ways that benefit humanity as a whole. The company was founded by Elon Musk, Sam Altman and others in 2015 and is headquartered in San Francisco. OpenAI was created in part because of its founders' existential concerns about the ...\",\n",
       "  'title': 'What is OpenAI? Definition and History from TechTarget',\n",
       "  'link': 'https://www.techtarget.com/searchenterpriseai/definition/OpenAI'},\n",
       " {'snippet': \"05/16/2023 8 contributors Feedback In this article Responsible AI How do I get access to Azure OpenAI? Comparing Azure OpenAI and OpenAI Key concepts Next steps Azure OpenAI Service provides REST API access to OpenAI's powerful language models including the GPT-3, Codex and Embeddings model series.\",\n",
       "  'title': 'What is Azure OpenAI Service? - Azure Cognitive Services',\n",
       "  'link': 'https://learn.microsoft.com/en-us/azure/cognitive-services/openai/overview'},\n",
       " {'snippet': \"November 30, 2022 Authors OpenAI Product, Announcements ChatGPT is a sibling model to InstructGPT, which is trained to follow an instruction in a prompt and provide a detailed response. We are excited to introduce ChatGPT to get users' feedback and learn about its strengths and weaknesses. During the research preview, usage of ChatGPT is free.\",\n",
       "  'title': 'Introducing ChatGPT - OpenAI',\n",
       "  'link': 'https://openai.com/blog/chatgpt'}]"
      ]
     },
     "execution_count": 2,
     "metadata": {},
     "output_type": "execute_result"
    }
   ],
   "source": [
    "from langchain.tools.ddg_search.tool import DuckDuckGoSearchResults\n",
    "ddg_tool = DuckDuckGoSearchResults(num_results=5)\n",
    "results_json_str = ddg_tool.run(\"What is OpenAI\")\n",
    "import ast\n",
    "web_search_results = ast.literal_eval(results_json_str)\n",
    "web_search_results[0:5]"
   ]
  },
  {
   "cell_type": "code",
   "execution_count": null,
   "metadata": {},
   "outputs": [],
   "source": []
  }
 ],
 "metadata": {
  "kernelspec": {
   "display_name": "Python 3",
   "language": "python",
   "name": "python3"
  },
  "language_info": {
   "codemirror_mode": {
    "name": "ipython",
    "version": 3
   },
   "file_extension": ".py",
   "mimetype": "text/x-python",
   "name": "python",
   "nbconvert_exporter": "python",
   "pygments_lexer": "ipython3",
   "version": "3.11.8"
  },
  "orig_nbformat": 4
 },
 "nbformat": 4,
 "nbformat_minor": 2
}
