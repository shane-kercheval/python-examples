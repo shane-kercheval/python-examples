{
 "cells": [
  {
   "cell_type": "markdown",
   "metadata": {},
   "source": [
    "# Benchmarking Different dataframe libraries\n",
    "\n",
    "- https://www.youtube.com/watch?v=zrY2u2_WJ0o\n",
    "- Packages to compare:\n",
    "    - Pandas 2.0 (pyarrow)\n",
    "    - Pandas + cudf\n",
    "    - Polars (python api)\n",
    "\n",
    "1. Gather dataset (large GB+)\n",
    "    - Different data types (date, int, floats, strings, etc.)\n",
    "    - https://data.cms.gov/provider-summary-by-type-of-service/medicare-physician-other-practitioners/medicare-physician-other-practitioners-by-provider/data\n",
    "2. install latest of each library\n",
    "3. create benchmarks to run\n",
    "4. test"
   ]
  },
  {
   "cell_type": "code",
   "execution_count": 1,
   "metadata": {},
   "outputs": [
    {
     "name": "stdout",
     "output_type": "stream",
     "text": [
      "Requirement already satisfied: polars in /usr/local/lib/python3.11/site-packages (0.20.2)\n",
      "\u001b[33mWARNING: Running pip as the 'root' user can result in broken permissions and conflicting behaviour with the system package manager. It is recommended to use a virtual environment instead: https://pip.pypa.io/warnings/venv\u001b[0m\u001b[33m\n",
      "\u001b[0mNote: you may need to restart the kernel to use updated packages.\n"
     ]
    }
   ],
   "source": [
    "%pip install polars"
   ]
  },
  {
   "cell_type": "code",
   "execution_count": 2,
   "metadata": {},
   "outputs": [
    {
     "name": "stdout",
     "output_type": "stream",
     "text": [
      "2.1.4\n",
      "0.20.2\n"
     ]
    }
   ],
   "source": [
    "import pandas as pd\n",
    "import polars as pl\n",
    "import requests\n",
    "import sys\n",
    "import os\n",
    "\n",
    "print(pd.__version__)\n",
    "print(pl.__version__)"
   ]
  },
  {
   "cell_type": "markdown",
   "metadata": {},
   "source": [
    "# Data"
   ]
  },
  {
   "cell_type": "markdown",
   "metadata": {},
   "source": [
    "## Download data"
   ]
  },
  {
   "cell_type": "code",
   "execution_count": 3,
   "metadata": {},
   "outputs": [],
   "source": [
    "# if medicare_data.csv doesn't exist, download it \n",
    "if not os.path.exists('medicare_data.csv'):\n",
    "    url = 'https://data.cms.gov/sites/default/files/2023-05/914a4463-7af3-423f-83a7-b343794e20ee/MUP_PHY_R23_P05_V10_D21_Prov_Svc.csv'\n",
    "    response = requests.get(url)\n",
    "    if response.status_code == 200:\n",
    "        with open('medicare_data.csv', 'wb') as file:\n",
    "            file.write(response.content)\n",
    "        print(\"File downloaded successfully.\")\n",
    "    else:\n",
    "        print(\"Failed to download the file.\")"
   ]
  },
  {
   "cell_type": "markdown",
   "metadata": {},
   "source": [
    "## pandas df (default backend)"
   ]
  },
  {
   "cell_type": "code",
   "execution_count": 4,
   "metadata": {},
   "outputs": [
    {
     "name": "stderr",
     "output_type": "stream",
     "text": [
      "/tmp/ipykernel_5987/330544136.py:1: DtypeWarning: Columns (11,12) have mixed types. Specify dtype option on import or set low_memory=False.\n",
      "  pandas_df = pd.read_csv('medicare_data.csv')\n"
     ]
    },
    {
     "data": {
      "text/plain": [
       "(9886177, 29)"
      ]
     },
     "execution_count": 4,
     "metadata": {},
     "output_type": "execute_result"
    }
   ],
   "source": [
    "pandas_df = pd.read_csv('medicare_data.csv')\n",
    "pandas_df.shape"
   ]
  },
  {
   "cell_type": "code",
   "execution_count": 5,
   "metadata": {},
   "outputs": [
    {
     "name": "stdout",
     "output_type": "stream",
     "text": [
      " 12.65 GB\n"
     ]
    }
   ],
   "source": [
    "print(f\"{sys.getsizeof(pandas_df) / (1024**3): .2f} GB\")"
   ]
  },
  {
   "cell_type": "code",
   "execution_count": 6,
   "metadata": {},
   "outputs": [
    {
     "name": "stdout",
     "output_type": "stream",
     "text": [
      "<class 'pandas.core.frame.DataFrame'>\n",
      "RangeIndex: 9886177 entries, 0 to 9886176\n",
      "Data columns (total 29 columns):\n",
      " #   Column                         Dtype  \n",
      "---  ------                         -----  \n",
      " 0   Rndrng_NPI                     int64  \n",
      " 1   Rndrng_Prvdr_Last_Org_Name     object \n",
      " 2   Rndrng_Prvdr_First_Name        object \n",
      " 3   Rndrng_Prvdr_MI                object \n",
      " 4   Rndrng_Prvdr_Crdntls           object \n",
      " 5   Rndrng_Prvdr_Gndr              object \n",
      " 6   Rndrng_Prvdr_Ent_Cd            object \n",
      " 7   Rndrng_Prvdr_St1               object \n",
      " 8   Rndrng_Prvdr_St2               object \n",
      " 9   Rndrng_Prvdr_City              object \n",
      " 10  Rndrng_Prvdr_State_Abrvtn      object \n",
      " 11  Rndrng_Prvdr_State_FIPS        object \n",
      " 12  Rndrng_Prvdr_Zip5              object \n",
      " 13  Rndrng_Prvdr_RUCA              float64\n",
      " 14  Rndrng_Prvdr_RUCA_Desc         object \n",
      " 15  Rndrng_Prvdr_Cntry             object \n",
      " 16  Rndrng_Prvdr_Type              object \n",
      " 17  Rndrng_Prvdr_Mdcr_Prtcptg_Ind  object \n",
      " 18  HCPCS_Cd                       object \n",
      " 19  HCPCS_Desc                     object \n",
      " 20  HCPCS_Drug_Ind                 object \n",
      " 21  Place_Of_Srvc                  object \n",
      " 22  Tot_Benes                      int64  \n",
      " 23  Tot_Srvcs                      float64\n",
      " 24  Tot_Bene_Day_Srvcs             int64  \n",
      " 25  Avg_Sbmtd_Chrg                 float64\n",
      " 26  Avg_Mdcr_Alowd_Amt             float64\n",
      " 27  Avg_Mdcr_Pymt_Amt              float64\n",
      " 28  Avg_Mdcr_Stdzd_Amt             float64\n",
      "dtypes: float64(6), int64(3), object(20)\n",
      "memory usage: 12.6 GB\n"
     ]
    }
   ],
   "source": [
    "pandas_df.info(memory_usage='deep')"
   ]
  },
  {
   "cell_type": "code",
   "execution_count": 7,
   "metadata": {},
   "outputs": [],
   "source": [
    "pandas_df['Rndrng_Prvdr_Gndr'] = pandas_df['Rndrng_Prvdr_Gndr'].astype('category')\n",
    "pandas_df['Rndrng_Prvdr_State_FIPS'] = pandas_df['Rndrng_Prvdr_State_FIPS'].\\\n",
    "    astype('str').\\\n",
    "    astype('category')\n",
    "pandas_df['Rndrng_Prvdr_Mdcr_Prtcptg_Ind'] = pandas_df['Rndrng_Prvdr_Mdcr_Prtcptg_Ind'].\\\n",
    "    replace({'Y': 1, 'N': 0}).\\\n",
    "    astype('boolean')\n",
    "pandas_df['Rndrng_Prvdr_Zip5'] = pandas_df['Rndrng_Prvdr_Zip5'].astype('str')"
   ]
  },
  {
   "cell_type": "code",
   "execution_count": 8,
   "metadata": {},
   "outputs": [
    {
     "name": "stdout",
     "output_type": "stream",
     "text": [
      "<class 'pandas.core.frame.DataFrame'>\n",
      "RangeIndex: 9886177 entries, 0 to 9886176\n",
      "Data columns (total 29 columns):\n",
      " #   Column                         Dtype   \n",
      "---  ------                         -----   \n",
      " 0   Rndrng_NPI                     int64   \n",
      " 1   Rndrng_Prvdr_Last_Org_Name     object  \n",
      " 2   Rndrng_Prvdr_First_Name        object  \n",
      " 3   Rndrng_Prvdr_MI                object  \n",
      " 4   Rndrng_Prvdr_Crdntls           object  \n",
      " 5   Rndrng_Prvdr_Gndr              category\n",
      " 6   Rndrng_Prvdr_Ent_Cd            object  \n",
      " 7   Rndrng_Prvdr_St1               object  \n",
      " 8   Rndrng_Prvdr_St2               object  \n",
      " 9   Rndrng_Prvdr_City              object  \n",
      " 10  Rndrng_Prvdr_State_Abrvtn      object  \n",
      " 11  Rndrng_Prvdr_State_FIPS        category\n",
      " 12  Rndrng_Prvdr_Zip5              object  \n",
      " 13  Rndrng_Prvdr_RUCA              float64 \n",
      " 14  Rndrng_Prvdr_RUCA_Desc         object  \n",
      " 15  Rndrng_Prvdr_Cntry             object  \n",
      " 16  Rndrng_Prvdr_Type              object  \n",
      " 17  Rndrng_Prvdr_Mdcr_Prtcptg_Ind  boolean \n",
      " 18  HCPCS_Cd                       object  \n",
      " 19  HCPCS_Desc                     object  \n",
      " 20  HCPCS_Drug_Ind                 object  \n",
      " 21  Place_Of_Srvc                  object  \n",
      " 22  Tot_Benes                      int64   \n",
      " 23  Tot_Srvcs                      float64 \n",
      " 24  Tot_Bene_Day_Srvcs             int64   \n",
      " 25  Avg_Sbmtd_Chrg                 float64 \n",
      " 26  Avg_Mdcr_Alowd_Amt             float64 \n",
      " 27  Avg_Mdcr_Pymt_Amt              float64 \n",
      " 28  Avg_Mdcr_Stdzd_Amt             float64 \n",
      "dtypes: boolean(1), category(2), float64(6), int64(3), object(17)\n",
      "memory usage: 11.4 GB\n"
     ]
    }
   ],
   "source": [
    "pandas_df.info(memory_usage='deep')"
   ]
  },
  {
   "cell_type": "markdown",
   "metadata": {},
   "source": [
    "## Build pandas dataframe with Pyarrow backend"
   ]
  },
  {
   "cell_type": "code",
   "execution_count": 9,
   "metadata": {},
   "outputs": [],
   "source": [
    "pandas_df.to_parquet('medicare_data.parquet')"
   ]
  },
  {
   "cell_type": "code",
   "execution_count": null,
   "metadata": {},
   "outputs": [],
   "source": [
    "import os\n",
    "print(f\"{os.path.getsize('medicare_data.csv') / (1024**3): .2f} GB\")\n",
    "print(f\"{os.path.getsize('medicare_data.parquet') / (1024**3): .2f} GB\")"
   ]
  },
  {
   "cell_type": "code",
   "execution_count": null,
   "metadata": {},
   "outputs": [],
   "source": [
    "# read in data with pyarrow backend\n",
    "pyarrow_df = pd.read_parquet('medicare_data.parquet', dtype_backend='pyarrow')"
   ]
  },
  {
   "cell_type": "code",
   "execution_count": null,
   "metadata": {},
   "outputs": [],
   "source": [
    "# 11.4 GB vs 3.5 GB\n",
    "pyarrow_df.info(memory_usage='deep')"
   ]
  },
  {
   "cell_type": "markdown",
   "metadata": {},
   "source": [
    "# Dask"
   ]
  },
  {
   "cell_type": "code",
   "execution_count": null,
   "metadata": {},
   "outputs": [],
   "source": [
    "import dask.dataframe as dd\n",
    "\n",
    "dask_df = dd.from_pandas(pandas_df, npartitions=10)\n",
    "dask_df.info()"
   ]
  },
  {
   "cell_type": "markdown",
   "metadata": {},
   "source": [
    "## Polars"
   ]
  },
  {
   "cell_type": "code",
   "execution_count": null,
   "metadata": {},
   "outputs": [],
   "source": [
    "%pip install polars"
   ]
  },
  {
   "cell_type": "code",
   "execution_count": null,
   "metadata": {},
   "outputs": [],
   "source": [
    "# polars_df = pl.from_pandas(pandas_df)\n",
    "polars_df_scan = pl.scan_parquet('medicare_data.parquet')\n",
    "polars_df_read = pl.read_parquet('medicare_data.parquet')"
   ]
  },
  {
   "cell_type": "markdown",
   "metadata": {},
   "source": [
    "## pandas cuDF"
   ]
  },
  {
   "cell_type": "code",
   "execution_count": null,
   "metadata": {},
   "outputs": [],
   "source": [
    "# %pip install cudf-cu12 rmm-cu12 dask-cudf-cu12 --extra-index-url=https://pypi.ngc.nvidia.com/\n",
    "# %pip install --no-cache-dir --extra-index-url https://pypi.nvidia.com cudf-cu12\n",
    "# %pip install \\\n",
    "#     --extra-index-url=https://pypi.nvidia.com \\\n",
    "#     cudf-cu12==23.12.* dask-cudf-cu12==23.12.* cuml-cu12==23.12.* \\\n",
    "#     cugraph-cu12==23.12.* cuspatial-cu12==23.12.* cuproj-cu12==23.12.* \\\n",
    "#     cuxfilter-cu12==23.12.* cucim-cu12==23.12.* pylibraft-cu12==23.12.* \\\n",
    "#     raft-dask-cu12==23.12.*"
   ]
  },
  {
   "cell_type": "markdown",
   "metadata": {},
   "source": [
    "---"
   ]
  },
  {
   "cell_type": "markdown",
   "metadata": {},
   "source": [
    "# Benchmarks"
   ]
  },
  {
   "cell_type": "code",
   "execution_count": null,
   "metadata": {},
   "outputs": [],
   "source": [
    "# pyarrow slower than pandas\n",
    "%timeit pandas_df['Rndrng_Prvdr_State_FIPS'].value_counts()\n",
    "%timeit pyarrow_df['Rndrng_Prvdr_State_FIPS'].value_counts()\n",
    "%timeit polars_df_read['Rndrng_Prvdr_State_FIPS'].value_counts().sort(-pl.col('count'))\n",
    "%timeit polars_df_scan.group_by('Rndrng_Prvdr_State_FIPS').agg(pl.count()).sort(-pl.col('count')).collect()"
   ]
  },
  {
   "cell_type": "code",
   "execution_count": null,
   "metadata": {},
   "outputs": [],
   "source": [
    "# why dask so slow?\n",
    "%timeit dask_df['Rndrng_Prvdr_State_FIPS'].value_counts().compute()"
   ]
  },
  {
   "cell_type": "markdown",
   "metadata": {},
   "source": [
    "---"
   ]
  },
  {
   "cell_type": "code",
   "execution_count": null,
   "metadata": {},
   "outputs": [],
   "source": [
    "# pyarrow faster than pandas\n",
    "%timeit pandas_df.groupby('Rndrng_Prvdr_Crdntls')['Avg_Sbmtd_Chrg'].mean().sort_values()\n",
    "%timeit pyarrow_df.groupby('Rndrng_Prvdr_Crdntls')['Avg_Sbmtd_Chrg'].mean().sort_values()"
   ]
  },
  {
   "cell_type": "code",
   "execution_count": null,
   "metadata": {},
   "outputs": [],
   "source": [
    "%timeit pandas_df.query(\"Rndrng_Prvdr_Crdntls == '(FNP) FAMILY NURSE P'\")\n",
    "%timeit pyarrow_df.query(\"Rndrng_Prvdr_Crdntls == '(FNP) FAMILY NURSE P'\")"
   ]
  },
  {
   "cell_type": "code",
   "execution_count": null,
   "metadata": {},
   "outputs": [],
   "source": [
    "# dask is terrible for querying\n",
    "%timeit dask_df.query(\"Rndrng_Prvdr_Crdntls == '(FNP) FAMILY NURSE P'\").compute()"
   ]
  },
  {
   "cell_type": "markdown",
   "metadata": {},
   "source": [
    "---"
   ]
  },
  {
   "cell_type": "code",
   "execution_count": null,
   "metadata": {},
   "outputs": [],
   "source": [
    "# observed=False to remove warnings\n",
    "%timeit pandas_df.\\\n",
    "    groupby(['Rndrng_Prvdr_Crdntls', 'Rndrng_Prvdr_Gndr'], observed=False)\\\n",
    "    [['Tot_Benes', 'Tot_Srvcs', 'Tot_Bene_Day_Srvcs', 'Avg_Sbmtd_Chrg', 'Avg_Mdcr_Alowd_Amt', 'Avg_Mdcr_Pymt_Amt', 'Avg_Mdcr_Stdzd_Amt']].\\\n",
    "    agg(['mean', 'std', 'min', 'max'])\n",
    "%timeit pyarrow_df.\\\n",
    "    groupby(['Rndrng_Prvdr_Crdntls', 'Rndrng_Prvdr_Gndr'], observed=False)\\\n",
    "    [['Tot_Benes', 'Tot_Srvcs', 'Tot_Bene_Day_Srvcs', 'Avg_Sbmtd_Chrg', 'Avg_Mdcr_Alowd_Amt', 'Avg_Mdcr_Pymt_Amt', 'Avg_Mdcr_Stdzd_Amt']].\\\n",
    "    agg(['mean', 'std', 'min', 'max'])"
   ]
  },
  {
   "cell_type": "code",
   "execution_count": null,
   "metadata": {},
   "outputs": [],
   "source": [
    "%%timeit\n",
    "\n",
    "results = polars_df_read.group_by(['Rndrng_Prvdr_Crdntls', 'Rndrng_Prvdr_Gndr']).\\\n",
    "    agg([\n",
    "        pl.col('Tot_Benes').mean().alias('Tot_Benes_mean'),\n",
    "        pl.col('Tot_Benes').std().alias('Tot_Benes_std'),\n",
    "        pl.col('Tot_Benes').min().alias('Tot_Benes_min'),\n",
    "        pl.col('Tot_Benes').max().alias('Tot_Benes_max'),\n",
    "\n",
    "        pl.col('Tot_Srvcs').mean().alias('Tot_Srvcs_mean'),\n",
    "        pl.col('Tot_Srvcs').std().alias('Tot_Srvcs_std'),\n",
    "        pl.col('Tot_Srvcs').min().alias('Tot_Srvcs_min'),\n",
    "        pl.col('Tot_Srvcs').max().alias('Tot_Srvcs_max'),\n",
    "\n",
    "        pl.col('Tot_Bene_Day_Srvcs').mean().alias('Tot_Bene_Day_Srvcs_mean'),\n",
    "        pl.col('Tot_Bene_Day_Srvcs').std().alias('Tot_Bene_Day_Srvcs_std'),\n",
    "        pl.col('Tot_Bene_Day_Srvcs').min().alias('Tot_Bene_Day_Srvcs_min'),\n",
    "        pl.col('Tot_Bene_Day_Srvcs').max().alias('Tot_Bene_Day_Srvcs_max'),\n",
    "\n",
    "        pl.col('Avg_Sbmtd_Chrg').mean().alias('Avg_Sbmtd_Chrg_mean'),\n",
    "        pl.col('Avg_Sbmtd_Chrg').std().alias('Avg_Sbmtd_Chrg_std'),\n",
    "        pl.col('Avg_Sbmtd_Chrg').min().alias('Avg_Sbmtd_Chrg_min'),\n",
    "        pl.col('Avg_Sbmtd_Chrg').max().alias('Avg_Sbmtd_Chrg_max'),\n",
    "\n",
    "        pl.col('Avg_Mdcr_Alowd_Amt').mean().alias('Avg_Mdcr_Alowd_Amt_mean'),\n",
    "        pl.col('Avg_Mdcr_Alowd_Amt').std().alias('Avg_Mdcr_Alowd_Amt_std'),\n",
    "        pl.col('Avg_Mdcr_Alowd_Amt').min().alias('Avg_Mdcr_Alowd_Amt_min'),\n",
    "        pl.col('Avg_Mdcr_Alowd_Amt').max().alias('Avg_Mdcr_Alowd_Amt_max'),\n",
    "\n",
    "        pl.col('Avg_Mdcr_Pymt_Amt').mean().alias('Avg_Mdcr_Pymt_Amt_mean'),\n",
    "        pl.col('Avg_Mdcr_Pymt_Amt').std().alias('Avg_Mdcr_Pymt_Amt_std'),\n",
    "        pl.col('Avg_Mdcr_Pymt_Amt').min().alias('Avg_Mdcr_Pymt_Amt_min'),\n",
    "        pl.col('Avg_Mdcr_Pymt_Amt').max().alias('Avg_Mdcr_Pymt_Amt_max'),\n",
    "\n",
    "        pl.col('Avg_Mdcr_Stdzd_Amt').mean().alias('Avg_Mdcr_Stdzd_Amt_mean'),\n",
    "        pl.col('Avg_Mdcr_Stdzd_Amt').std().alias('Avg_Mdcr_Stdzd_Amt_std'),\n",
    "        pl.col('Avg_Mdcr_Stdzd_Amt').min().alias('Avg_Mdcr_Stdzd_Amt_min'),\n",
    "        pl.col('Avg_Mdcr_Stdzd_Amt').max().alias('Avg_Mdcr_Stdzd_Amt_max'),\n",
    "    ]).collect()"
   ]
  },
  {
   "cell_type": "code",
   "execution_count": null,
   "metadata": {},
   "outputs": [],
   "source": [
    "%%timeit\n",
    "\n",
    "results = polars_df_scan.group_by(['Rndrng_Prvdr_Crdntls', 'Rndrng_Prvdr_Gndr']).\\\n",
    "    agg([\n",
    "        pl.col('Tot_Benes').mean().alias('Tot_Benes_mean'),\n",
    "        pl.col('Tot_Benes').std().alias('Tot_Benes_std'),\n",
    "        pl.col('Tot_Benes').min().alias('Tot_Benes_min'),\n",
    "        pl.col('Tot_Benes').max().alias('Tot_Benes_max'),\n",
    "\n",
    "        pl.col('Tot_Srvcs').mean().alias('Tot_Srvcs_mean'),\n",
    "        pl.col('Tot_Srvcs').std().alias('Tot_Srvcs_std'),\n",
    "        pl.col('Tot_Srvcs').min().alias('Tot_Srvcs_min'),\n",
    "        pl.col('Tot_Srvcs').max().alias('Tot_Srvcs_max'),\n",
    "\n",
    "        pl.col('Tot_Bene_Day_Srvcs').mean().alias('Tot_Bene_Day_Srvcs_mean'),\n",
    "        pl.col('Tot_Bene_Day_Srvcs').std().alias('Tot_Bene_Day_Srvcs_std'),\n",
    "        pl.col('Tot_Bene_Day_Srvcs').min().alias('Tot_Bene_Day_Srvcs_min'),\n",
    "        pl.col('Tot_Bene_Day_Srvcs').max().alias('Tot_Bene_Day_Srvcs_max'),\n",
    "\n",
    "        pl.col('Avg_Sbmtd_Chrg').mean().alias('Avg_Sbmtd_Chrg_mean'),\n",
    "        pl.col('Avg_Sbmtd_Chrg').std().alias('Avg_Sbmtd_Chrg_std'),\n",
    "        pl.col('Avg_Sbmtd_Chrg').min().alias('Avg_Sbmtd_Chrg_min'),\n",
    "        pl.col('Avg_Sbmtd_Chrg').max().alias('Avg_Sbmtd_Chrg_max'),\n",
    "\n",
    "        pl.col('Avg_Mdcr_Alowd_Amt').mean().alias('Avg_Mdcr_Alowd_Amt_mean'),\n",
    "        pl.col('Avg_Mdcr_Alowd_Amt').std().alias('Avg_Mdcr_Alowd_Amt_std'),\n",
    "        pl.col('Avg_Mdcr_Alowd_Amt').min().alias('Avg_Mdcr_Alowd_Amt_min'),\n",
    "        pl.col('Avg_Mdcr_Alowd_Amt').max().alias('Avg_Mdcr_Alowd_Amt_max'),\n",
    "\n",
    "        pl.col('Avg_Mdcr_Pymt_Amt').mean().alias('Avg_Mdcr_Pymt_Amt_mean'),\n",
    "        pl.col('Avg_Mdcr_Pymt_Amt').std().alias('Avg_Mdcr_Pymt_Amt_std'),\n",
    "        pl.col('Avg_Mdcr_Pymt_Amt').min().alias('Avg_Mdcr_Pymt_Amt_min'),\n",
    "        pl.col('Avg_Mdcr_Pymt_Amt').max().alias('Avg_Mdcr_Pymt_Amt_max'),\n",
    "\n",
    "        pl.col('Avg_Mdcr_Stdzd_Amt').mean().alias('Avg_Mdcr_Stdzd_Amt_mean'),\n",
    "        pl.col('Avg_Mdcr_Stdzd_Amt').std().alias('Avg_Mdcr_Stdzd_Amt_std'),\n",
    "        pl.col('Avg_Mdcr_Stdzd_Amt').min().alias('Avg_Mdcr_Stdzd_Amt_min'),\n",
    "        pl.col('Avg_Mdcr_Stdzd_Amt').max().alias('Avg_Mdcr_Stdzd_Amt_max'),\n",
    "    ]).collect()"
   ]
  },
  {
   "cell_type": "code",
   "execution_count": null,
   "metadata": {},
   "outputs": [],
   "source": [
    "polars_df_scan.group_by(['Rndrng_Prvdr_Crdntls', 'Rndrng_Prvdr_Gndr']).\\\n",
    "    agg([\n",
    "        pl.col('Tot_Benes').mean().alias('Tot_Benes_mean'),\n",
    "        pl.col('Tot_Benes').std().alias('Tot_Benes_std'),\n",
    "        pl.col('Tot_Benes').min().alias('Tot_Benes_min'),\n",
    "        pl.col('Tot_Benes').max().alias('Tot_Benes_max'),\n",
    "\n",
    "        pl.col('Tot_Srvcs').mean().alias('Tot_Srvcs_mean'),\n",
    "        pl.col('Tot_Srvcs').std().alias('Tot_Srvcs_std'),\n",
    "        pl.col('Tot_Srvcs').min().alias('Tot_Srvcs_min'),\n",
    "        pl.col('Tot_Srvcs').max().alias('Tot_Srvcs_max'),\n",
    "\n",
    "        pl.col('Tot_Bene_Day_Srvcs').mean().alias('Tot_Bene_Day_Srvcs_mean'),\n",
    "        pl.col('Tot_Bene_Day_Srvcs').std().alias('Tot_Bene_Day_Srvcs_std'),\n",
    "        pl.col('Tot_Bene_Day_Srvcs').min().alias('Tot_Bene_Day_Srvcs_min'),\n",
    "        pl.col('Tot_Bene_Day_Srvcs').max().alias('Tot_Bene_Day_Srvcs_max'),\n",
    "\n",
    "        pl.col('Avg_Sbmtd_Chrg').mean().alias('Avg_Sbmtd_Chrg_mean'),\n",
    "        pl.col('Avg_Sbmtd_Chrg').std().alias('Avg_Sbmtd_Chrg_std'),\n",
    "        pl.col('Avg_Sbmtd_Chrg').min().alias('Avg_Sbmtd_Chrg_min'),\n",
    "        pl.col('Avg_Sbmtd_Chrg').max().alias('Avg_Sbmtd_Chrg_max'),\n",
    "\n",
    "        pl.col('Avg_Mdcr_Alowd_Amt').mean().alias('Avg_Mdcr_Alowd_Amt_mean'),\n",
    "        pl.col('Avg_Mdcr_Alowd_Amt').std().alias('Avg_Mdcr_Alowd_Amt_std'),\n",
    "        pl.col('Avg_Mdcr_Alowd_Amt').min().alias('Avg_Mdcr_Alowd_Amt_min'),\n",
    "        pl.col('Avg_Mdcr_Alowd_Amt').max().alias('Avg_Mdcr_Alowd_Amt_max'),\n",
    "\n",
    "        pl.col('Avg_Mdcr_Pymt_Amt').mean().alias('Avg_Mdcr_Pymt_Amt_mean'),\n",
    "        pl.col('Avg_Mdcr_Pymt_Amt').std().alias('Avg_Mdcr_Pymt_Amt_std'),\n",
    "        pl.col('Avg_Mdcr_Pymt_Amt').min().alias('Avg_Mdcr_Pymt_Amt_min'),\n",
    "        pl.col('Avg_Mdcr_Pymt_Amt').max().alias('Avg_Mdcr_Pymt_Amt_max'),\n",
    "\n",
    "        pl.col('Avg_Mdcr_Stdzd_Amt').mean().alias('Avg_Mdcr_Stdzd_Amt_mean'),\n",
    "        pl.col('Avg_Mdcr_Stdzd_Amt').std().alias('Avg_Mdcr_Stdzd_Amt_std'),\n",
    "        pl.col('Avg_Mdcr_Stdzd_Amt').min().alias('Avg_Mdcr_Stdzd_Amt_min'),\n",
    "        pl.col('Avg_Mdcr_Stdzd_Amt').max().alias('Avg_Mdcr_Stdzd_Amt_max'),\n",
    "    ]).collect()"
   ]
  },
  {
   "cell_type": "code",
   "execution_count": null,
   "metadata": {},
   "outputs": [],
   "source": [
    "pandas_df.\\\n",
    "    groupby(['Rndrng_Prvdr_Crdntls', 'Rndrng_Prvdr_Gndr'], observed=False)\\\n",
    "    [['Tot_Benes', 'Tot_Srvcs', 'Tot_Bene_Day_Srvcs', 'Avg_Sbmtd_Chrg', 'Avg_Mdcr_Alowd_Amt', 'Avg_Mdcr_Pymt_Amt', 'Avg_Mdcr_Stdzd_Amt']].\\\n",
    "    agg(['mean', 'std', 'min', 'max'])"
   ]
  },
  {
   "cell_type": "markdown",
   "metadata": {},
   "source": [
    "---"
   ]
  },
  {
   "cell_type": "markdown",
   "metadata": {},
   "source": [
    "# Appendix"
   ]
  },
  {
   "cell_type": "code",
   "execution_count": null,
   "metadata": {},
   "outputs": [],
   "source": [
    "# url = 'https://data.cms.gov/data-api/v1/dataset/5a6f0f6f-0439-403d-bd99-2c7631003cb1/data-viewer?_format=csv'\n",
    "\n",
    "# response = requests.get(url)\n",
    "# # Check if the request was successful\n",
    "# if response.status_code == 200:\n",
    "#     # Use io.BytesIO to treat the response content as a file-like object for zipfile\n",
    "#     zipped_file = zipfile.ZipFile(io.BytesIO(response.content))\n",
    "#     # Extract all the contents into the current directory\n",
    "#     zipped_file.extractall()\n",
    "#     print(\"File downloaded and unzipped successfully.\")\n",
    "# else:\n",
    "#     print(\"Failed to download the file.\")\n",
    "# pandas_df = pd.read_csv('Medicare_Physician_Other_Practitioners_by_Provider_2021.csv')\n",
    "# pandas_df.shape"
   ]
  },
  {
   "cell_type": "markdown",
   "metadata": {},
   "source": []
  }
 ],
 "metadata": {
  "kernelspec": {
   "display_name": "Python 3",
   "language": "python",
   "name": "python3"
  },
  "language_info": {
   "codemirror_mode": {
    "name": "ipython",
    "version": 3
   },
   "file_extension": ".py",
   "mimetype": "text/x-python",
   "name": "python",
   "nbconvert_exporter": "python",
   "pygments_lexer": "ipython3",
   "version": "3.11.7"
  }
 },
 "nbformat": 4,
 "nbformat_minor": 2
}
