{
 "cells": [
  {
   "cell_type": "code",
   "execution_count": null,
   "metadata": {},
   "outputs": [],
   "source": [
    "import yfinance as yf\n",
    "import talib\n",
    "\n",
    "# Get the Dow Jones Industrial Average index data\n",
    "dji = yf.Ticker(\"DJI\").history(period=\"max\")\n",
    "\n",
    "# Calculate the RSI using a 2-period lookback\n",
    "dji[\"RSI\"] = talib.RSI(dji[\"Close\"], timeperiod=2)\n",
    "\n",
    "# Print the RSI values\n",
    "print(dji[\"RSI\"])"
   ]
  },
  {
   "cell_type": "code",
   "execution_count": null,
   "metadata": {},
   "outputs": [],
   "source": []
  },
  {
   "cell_type": "code",
   "execution_count": 26,
   "metadata": {},
   "outputs": [
    {
     "name": "stdout",
     "output_type": "stream",
     "text": [
      "Initial Investment: $1000.00\n",
      "Interest Rate: 0.05%\n",
      "Compounding Frequency: 12\n",
      "Payment: $500.00\n",
      "Investment period in 30\n",
      "Value of Investment: $420597.06\n"
     ]
    }
   ],
   "source": [
    "import numpy_financial as npf\n",
    "\n",
    "initial_investment = 1000;  # Initial investment\n",
    "interest_rate = 0.05; # Annual rate of interest\n",
    "compounding_frequency = 12;    # The interest is compounded every 3 months\n",
    "payment = 500;  # Payment towards investment \n",
    "years = 30;   # Future value of total investment upon expiry of this period\n",
    "\n",
    "future_value = npf.fv(\n",
    "    rate=interest_rate/compounding_frequency,\n",
    "    nper=years*compounding_frequency,\n",
    "    pmt=-payment,\n",
    "    pv=-initial_investment\n",
    ")\n",
    "print(f\"Initial Investment: ${initial_investment:.2f}\")\n",
    "print(f\"Interest Rate: {interest_rate:.2f}%\")\n",
    "print(f\"Compounding Frequency: {compounding_frequency}\")\n",
    "print(f\"Payment: ${payment:.2f}\")\n",
    "print(f\"Investment period in {years}\")\n",
    "print(f\"Value of Investment: ${future_value:.2f}\")"
   ]
  },
  {
   "cell_type": "code",
   "execution_count": 11,
   "metadata": {},
   "outputs": [
    {
     "data": {
      "text/plain": [
       "0.05000000037188687"
      ]
     },
     "execution_count": 11,
     "metadata": {},
     "output_type": "execute_result"
    }
   ],
   "source": [
    "rate = npf.rate(\n",
    "    nper=years*compounding_frequency,\n",
    "    pmt=-payment,\n",
    "    pv=-initial_investment,\n",
    "    fv=future_value\n",
    ")\n",
    "rate * compounding_frequency"
   ]
  },
  {
   "cell_type": "code",
   "execution_count": null,
   "metadata": {},
   "outputs": [],
   "source": []
  },
  {
   "cell_type": "code",
   "execution_count": null,
   "metadata": {},
   "outputs": [],
   "source": []
  },
  {
   "cell_type": "code",
   "execution_count": null,
   "metadata": {},
   "outputs": [],
   "source": []
  },
  {
   "cell_type": "code",
   "execution_count": 28,
   "metadata": {},
   "outputs": [
    {
     "name": "stdout",
     "output_type": "stream",
     "text": [
      "Dollars in 30 years: $420597.06\n",
      "Inflation Rate: 0.03%\n",
      "Today's Value: $173280.42\n"
     ]
    }
   ],
   "source": [
    "import numpy_financial as npf\n",
    "\n",
    "#future_value = 109.27  # \n",
    "interest_rate = 0.03  # Annual inflation\n",
    "compounding_frequency = 1\n",
    "payment = 0  # Payment towards investment \n",
    "years = 30\n",
    "\n",
    "present_value = npf.pv(\n",
    "    rate=interest_rate/compounding_frequency,\n",
    "    nper=years*compounding_frequency,\n",
    "    pmt=-payment,\n",
    "    fv=future_value\n",
    ")\n",
    "present_value *= -1\n",
    "print(f\"Dollars in {years} years: ${future_value:.2f}\")\n",
    "print(f\"Inflation Rate: {interest_rate:.2f}%\")\n",
    "print(f\"Today's Value: ${present_value:.2f}\")"
   ]
  },
  {
   "cell_type": "code",
   "execution_count": null,
   "metadata": {},
   "outputs": [],
   "source": []
  }
 ],
 "metadata": {
  "kernelspec": {
   "display_name": "Python 3",
   "language": "python",
   "name": "python3"
  },
  "language_info": {
   "codemirror_mode": {
    "name": "ipython",
    "version": 3
   },
   "file_extension": ".py",
   "mimetype": "text/x-python",
   "name": "python",
   "nbconvert_exporter": "python",
   "pygments_lexer": "ipython3",
   "version": "3.10.4"
  },
  "orig_nbformat": 4,
  "vscode": {
   "interpreter": {
    "hash": "22a8f25d97056a21c4ed8084e2569b2e2b62dee081f66b4cb0689fa3a919f19c"
   }
  }
 },
 "nbformat": 4,
 "nbformat_minor": 2
}
