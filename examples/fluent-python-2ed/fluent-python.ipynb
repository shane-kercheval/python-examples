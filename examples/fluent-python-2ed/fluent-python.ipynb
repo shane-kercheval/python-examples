{
 "cells": [
  {
   "cell_type": "markdown",
   "metadata": {},
   "source": [
    "code from\n",
    "\n",
    "https://github.com/fluentpython/example-code-2e"
   ]
  },
  {
   "cell_type": "code",
   "execution_count": 80,
   "metadata": {},
   "outputs": [
    {
     "name": "stdout",
     "output_type": "stream",
     "text": [
      "Python 3.10.5\n"
     ]
    }
   ],
   "source": [
    "!python --version"
   ]
  },
  {
   "cell_type": "markdown",
   "metadata": {},
   "source": [
    "# Chapter 1"
   ]
  },
  {
   "cell_type": "markdown",
   "metadata": {},
   "source": [
    "- collections.namedtuple"
   ]
  },
  {
   "cell_type": "code",
   "execution_count": 2,
   "metadata": {},
   "outputs": [
    {
     "name": "stdout",
     "output_type": "stream",
     "text": [
      "<class '__main__.Card'>\n",
      "Card(rank=2, suit='spades')\n",
      "2\n"
     ]
    }
   ],
   "source": [
    "import collections\n",
    "Card = collections.namedtuple('Card', ['rank', 'suit'], )\n",
    "print(Card)\n",
    "spades_2 = Card(2, 'spades')\n",
    "print(spades_2)\n",
    "print(spades_2.rank)\n"
   ]
  },
  {
   "cell_type": "markdown",
   "metadata": {},
   "source": [
    "---"
   ]
  },
  {
   "cell_type": "code",
   "execution_count": 43,
   "metadata": {},
   "outputs": [],
   "source": [
    "import collections\n",
    "\n",
    "Card = collections.namedtuple(typename='Card', field_names=['value', 'suit'])\n",
    "\n",
    "class Card(collections.namedtuple(typename='Card', field_names=['value', 'suit'])):\n",
    "    def __repr__(self) -> str:\n",
    "        return str(self.value) + self.suit\n",
    "\n",
    "class Deck:\n",
    "    values = [str(x) for x in range(2, 11)] + list('JQKA')\n",
    "    suits = list('SCHD')\n",
    "\n",
    "    def __init__(self) -> None:\n",
    "        self.cards = [Card(value=v, suit=s) for s in self.suits for v in self.values]\n",
    "    \n",
    "    def __len__(self):\n",
    "        return len(self.cards)\n",
    "    \n",
    "    def __getitem__(self, position):\n",
    "        return self.cards[position]"
   ]
  },
  {
   "cell_type": "code",
   "execution_count": 44,
   "metadata": {},
   "outputs": [
    {
     "name": "stdout",
     "output_type": "stream",
     "text": [
      "2S\n",
      "['2', '3', '4', '5', '6', '7', '8', '9', '10', 'J', 'Q', 'K', 'A']\n",
      "['S', 'C', 'H', 'D']\n"
     ]
    }
   ],
   "source": [
    "print(Card(value=2, suit='S'))\n",
    "print(Deck.values)\n",
    "print(Deck.suits)"
   ]
  },
  {
   "cell_type": "code",
   "execution_count": 56,
   "metadata": {},
   "outputs": [
    {
     "data": {
      "text/plain": [
       "'2S 3S 4S 5S 6S 7S 8S 9S 10S JS QS KS AS 2C 3C 4C 5C 6C 7C 8C 9C 10C JC QC KC AC 2H 3H 4H 5H 6H 7H 8H 9H 10H JH QH KH AH 2D 3D 4D 5D 6D 7D 8D 9D 10D JD QD KD AD'"
      ]
     },
     "execution_count": 56,
     "metadata": {},
     "output_type": "execute_result"
    }
   ],
   "source": [
    "deck = Deck()\n",
    "' '.join([str(x) for x in deck.cards])"
   ]
  },
  {
   "cell_type": "code",
   "execution_count": 76,
   "metadata": {},
   "outputs": [],
   "source": [
    "def spades_high(card: Card):\n",
    "    suit_values = dict(S=3, H=2, D=1, C=0)\n",
    "    value_index = Deck.values.index(card.value)\n",
    "    return value_index + (suit_values[card.suit] / len(suit_values))\n",
    "\n",
    "def aces_high(card: Card):\n",
    "    suit_values = dict(S=3, H=2, D=1, C=0)\n",
    "    value_index = Deck.values.index(card.value)\n",
    "    return suit_values[card.suit] + (value_index / len(Deck.values))"
   ]
  },
  {
   "cell_type": "code",
   "execution_count": 77,
   "metadata": {},
   "outputs": [
    {
     "name": "stdout",
     "output_type": "stream",
     "text": [
      "QS\n",
      "10.75\n",
      "KS\n",
      "11.75\n"
     ]
    }
   ],
   "source": [
    "print(deck[10])\n",
    "print(spades_high(deck[10]))\n",
    "print(deck[11])\n",
    "print(spades_high(deck[11]))"
   ]
  },
  {
   "cell_type": "code",
   "execution_count": 78,
   "metadata": {},
   "outputs": [
    {
     "name": "stdout",
     "output_type": "stream",
     "text": [
      "[2S, 3S, 4S, 5S, 6S, 7S, 8S, 9S, 10S, JS, QS, KS, AS, 2C, 3C, 4C, 5C, 6C, 7C, 8C, 9C, 10C, JC, QC, KC, AC, 2H, 3H, 4H, 5H, 6H, 7H, 8H, 9H, 10H, JH, QH, KH, AH, 2D, 3D, 4D, 5D, 6D, 7D, 8D, 9D, 10D, JD, QD, KD, AD]\n",
      "[2C, 2D, 2H, 2S, 3C, 3D, 3H, 3S, 4C, 4D, 4H, 4S, 5C, 5D, 5H, 5S, 6C, 6D, 6H, 6S, 7C, 7D, 7H, 7S, 8C, 8D, 8H, 8S, 9C, 9D, 9H, 9S, 10C, 10D, 10H, 10S, JC, JD, JH, JS, QC, QD, QH, QS, KC, KD, KH, KS, AC, AD, AH, AS]\n",
      "[AS, AH, AD, AC, KS, KH, KD, KC, QS, QH, QD, QC, JS, JH, JD, JC, 10S, 10H, 10D, 10C, 9S, 9H, 9D, 9C, 8S, 8H, 8D, 8C, 7S, 7H, 7D, 7C, 6S, 6H, 6D, 6C, 5S, 5H, 5D, 5C, 4S, 4H, 4D, 4C, 3S, 3H, 3D, 3C, 2S, 2H, 2D, 2C]\n"
     ]
    }
   ],
   "source": [
    "print(deck.cards)\n",
    "print(sorted(deck.cards, key=spades_high))\n",
    "print(list(reversed(sorted(deck.cards, key=spades_high))))"
   ]
  },
  {
   "cell_type": "code",
   "execution_count": 79,
   "metadata": {},
   "outputs": [
    {
     "name": "stdout",
     "output_type": "stream",
     "text": [
      "[2S, 3S, 4S, 5S, 6S, 7S, 8S, 9S, 10S, JS, QS, KS, AS, 2C, 3C, 4C, 5C, 6C, 7C, 8C, 9C, 10C, JC, QC, KC, AC, 2H, 3H, 4H, 5H, 6H, 7H, 8H, 9H, 10H, JH, QH, KH, AH, 2D, 3D, 4D, 5D, 6D, 7D, 8D, 9D, 10D, JD, QD, KD, AD]\n",
      "[2C, 3C, 4C, 5C, 6C, 7C, 8C, 9C, 10C, JC, QC, KC, AC, 2D, 3D, 4D, 5D, 6D, 7D, 8D, 9D, 10D, JD, QD, KD, AD, 2H, 3H, 4H, 5H, 6H, 7H, 8H, 9H, 10H, JH, QH, KH, AH, 2S, 3S, 4S, 5S, 6S, 7S, 8S, 9S, 10S, JS, QS, KS, AS]\n",
      "[AS, KS, QS, JS, 10S, 9S, 8S, 7S, 6S, 5S, 4S, 3S, 2S, AH, KH, QH, JH, 10H, 9H, 8H, 7H, 6H, 5H, 4H, 3H, 2H, AD, KD, QD, JD, 10D, 9D, 8D, 7D, 6D, 5D, 4D, 3D, 2D, AC, KC, QC, JC, 10C, 9C, 8C, 7C, 6C, 5C, 4C, 3C, 2C]\n"
     ]
    }
   ],
   "source": [
    "print(deck.cards)\n",
    "print(sorted(deck.cards, key=aces_high))\n",
    "print(list(reversed(sorted(deck.cards, key=aces_high))))"
   ]
  },
  {
   "cell_type": "markdown",
   "metadata": {},
   "source": [
    "---"
   ]
  },
  {
   "cell_type": "code",
   "execution_count": 9,
   "metadata": {},
   "outputs": [
    {
     "data": {
      "text/plain": [
       "52"
      ]
     },
     "execution_count": 9,
     "metadata": {},
     "output_type": "execute_result"
    }
   ],
   "source": [
    "import collections\n",
    "\n",
    "Card = collections.namedtuple('Card', ['rank', 'suit'])\n",
    "\n",
    "class FrenchDeck:\n",
    "    ranks = [str(n) for n in range(2, 11)] + list('JQKA')\n",
    "    suits = 'spades diamonds clubs hearts'.split()\n",
    "\n",
    "    def __init__(self):\n",
    "        self._cards = [Card(rank, suit) for suit in self.suits for rank in self.ranks]\n",
    "\n",
    "    def __len__(self):\n",
    "        return len(self._cards)\n",
    "\n",
    "    def __getitem__(self, position):\n",
    "        return self._cards[position]\n",
    "\n",
    "deck = FrenchDeck()\n",
    "len(deck)"
   ]
  },
  {
   "cell_type": "code",
   "execution_count": 13,
   "metadata": {},
   "outputs": [
    {
     "name": "stdout",
     "output_type": "stream",
     "text": [
      "['2', '3', '4', '5', '6', '7', '8', '9', '10', 'J', 'Q', 'K', 'A']\n",
      "['spades', 'diamonds', 'clubs', 'hearts']\n"
     ]
    }
   ],
   "source": [
    "print(FrenchDeck.ranks)\n",
    "print(FrenchDeck.suits)"
   ]
  },
  {
   "cell_type": "code",
   "execution_count": 20,
   "metadata": {},
   "outputs": [
    {
     "name": "stdout",
     "output_type": "stream",
     "text": [
      "Card(rank='Q', suit='spades')\n",
      "43\n",
      "Card(rank='K', suit='spades')\n",
      "47\n"
     ]
    }
   ],
   "source": [
    "def spades_high(card):\n",
    "    suit_values = dict(spades=3, hearts=2, diamonds=1, clubs=0)\n",
    "    rank_value = FrenchDeck.ranks.index(card.rank)\n",
    "    return rank_value * len(suit_values) + suit_values[card.suit]\n",
    "\n",
    "print(deck[10])\n",
    "print(spades_high(deck[10]))\n",
    "print(deck[11])\n",
    "print(spades_high(deck[11]))\n"
   ]
  },
  {
   "cell_type": "code",
   "execution_count": 19,
   "metadata": {},
   "outputs": [
    {
     "data": {
      "text/plain": [
       "[Card(rank='2', suit='clubs'),\n",
       " Card(rank='2', suit='diamonds'),\n",
       " Card(rank='2', suit='hearts'),\n",
       " Card(rank='2', suit='spades'),\n",
       " Card(rank='3', suit='clubs'),\n",
       " Card(rank='3', suit='diamonds'),\n",
       " Card(rank='3', suit='hearts'),\n",
       " Card(rank='3', suit='spades'),\n",
       " Card(rank='4', suit='clubs'),\n",
       " Card(rank='4', suit='diamonds'),\n",
       " Card(rank='4', suit='hearts'),\n",
       " Card(rank='4', suit='spades'),\n",
       " Card(rank='5', suit='clubs'),\n",
       " Card(rank='5', suit='diamonds'),\n",
       " Card(rank='5', suit='hearts'),\n",
       " Card(rank='5', suit='spades'),\n",
       " Card(rank='6', suit='clubs'),\n",
       " Card(rank='6', suit='diamonds'),\n",
       " Card(rank='6', suit='hearts'),\n",
       " Card(rank='6', suit='spades'),\n",
       " Card(rank='7', suit='clubs'),\n",
       " Card(rank='7', suit='diamonds'),\n",
       " Card(rank='7', suit='hearts'),\n",
       " Card(rank='7', suit='spades'),\n",
       " Card(rank='8', suit='clubs'),\n",
       " Card(rank='8', suit='diamonds'),\n",
       " Card(rank='8', suit='hearts'),\n",
       " Card(rank='8', suit='spades'),\n",
       " Card(rank='9', suit='clubs'),\n",
       " Card(rank='9', suit='diamonds'),\n",
       " Card(rank='9', suit='hearts'),\n",
       " Card(rank='9', suit='spades'),\n",
       " Card(rank='10', suit='clubs'),\n",
       " Card(rank='10', suit='diamonds'),\n",
       " Card(rank='10', suit='hearts'),\n",
       " Card(rank='10', suit='spades'),\n",
       " Card(rank='J', suit='clubs'),\n",
       " Card(rank='J', suit='diamonds'),\n",
       " Card(rank='J', suit='hearts'),\n",
       " Card(rank='J', suit='spades'),\n",
       " Card(rank='Q', suit='clubs'),\n",
       " Card(rank='Q', suit='diamonds'),\n",
       " Card(rank='Q', suit='hearts'),\n",
       " Card(rank='Q', suit='spades'),\n",
       " Card(rank='K', suit='clubs'),\n",
       " Card(rank='K', suit='diamonds'),\n",
       " Card(rank='K', suit='hearts'),\n",
       " Card(rank='K', suit='spades'),\n",
       " Card(rank='A', suit='clubs'),\n",
       " Card(rank='A', suit='diamonds'),\n",
       " Card(rank='A', suit='hearts'),\n",
       " Card(rank='A', suit='spades')]"
      ]
     },
     "execution_count": 19,
     "metadata": {},
     "output_type": "execute_result"
    }
   ],
   "source": [
    "sorted(deck, key=spades_high)\n",
    "# for card in sorted(deck, key=spades_high):\n",
    "#     print(card)"
   ]
  },
  {
   "cell_type": "markdown",
   "metadata": {},
   "source": [
    "# Chapter 2: Sequences"
   ]
  },
  {
   "cell_type": "code",
   "execution_count": 84,
   "metadata": {},
   "outputs": [
    {
     "data": {
      "text/plain": [
       "'ABC'"
      ]
     },
     "execution_count": 84,
     "metadata": {},
     "output_type": "execute_result"
    }
   ],
   "source": [
    "x = 'ABC'\n",
    "x"
   ]
  },
  {
   "cell_type": "code",
   "execution_count": 85,
   "metadata": {},
   "outputs": [
    {
     "data": {
      "text/plain": [
       "[65, 66, 67]"
      ]
     },
     "execution_count": 85,
     "metadata": {},
     "output_type": "execute_result"
    }
   ],
   "source": [
    "# useful for debugging (e.g. passing a to a function that is failing) or checking the last value\n",
    "[last := ord(a) for a in x]"
   ]
  },
  {
   "cell_type": "code",
   "execution_count": 86,
   "metadata": {},
   "outputs": [
    {
     "data": {
      "text/plain": [
       "67"
      ]
     },
     "execution_count": 86,
     "metadata": {},
     "output_type": "execute_result"
    }
   ],
   "source": [
    "last"
   ]
  },
  {
   "cell_type": "code",
   "execution_count": 88,
   "metadata": {},
   "outputs": [
    {
     "data": {
      "text/plain": [
       "[('black', 'S'),\n",
       " ('black', 'M'),\n",
       " ('black', 'L'),\n",
       " ('white', 'S'),\n",
       " ('white', 'M'),\n",
       " ('white', 'L')]"
      ]
     },
     "execution_count": 88,
     "metadata": {},
     "output_type": "execute_result"
    }
   ],
   "source": [
    "# cartesian product\n",
    "colors = ['black', 'white']\n",
    "sizes = ['S', 'M', 'L']\n",
    "tshirts = [(color, size) for color in colors for size in sizes]\n",
    "tshirts"
   ]
  },
  {
   "cell_type": "code",
   "execution_count": 89,
   "metadata": {},
   "outputs": [
    {
     "name": "stdout",
     "output_type": "stream",
     "text": [
      "black S\n",
      "black M\n",
      "black L\n",
      "white S\n",
      "white M\n",
      "white L\n"
     ]
    }
   ],
   "source": [
    "# Cartesian product in a generator expression\n",
    "# the entire cartesian product is not built up and stored in memory\n",
    "# only one item is generated at a time and given to the for loop\n",
    "colors = ['black', 'white']\n",
    "sizes = ['S', 'M', 'L']\n",
    "\n",
    "for tshirt in ('%s %s' % (c, s) for c in colors for s in sizes):\n",
    "    print(tshirt)"
   ]
  },
  {
   "cell_type": "code",
   "execution_count": 102,
   "metadata": {},
   "outputs": [
    {
     "name": "stdout",
     "output_type": "stream",
     "text": [
      "my value  | a: valuessss | b\n",
      "1         | a: asdf      | b\n"
     ]
    }
   ],
   "source": [
    "a = 'valuessss'\n",
    "print(f\"{'my value':10}| a: {a:10}| b\")\n",
    "a = 'asdf'\n",
    "print(f\"{'1':10}| a: {a:10}| b\")"
   ]
  },
  {
   "cell_type": "code",
   "execution_count": 129,
   "metadata": {},
   "outputs": [],
   "source": [
    "def match_func(message: list):\n",
    "    match message:\n",
    "        case ['error', x, y]:\n",
    "            x = str(x)\n",
    "            print(f\"error: x: {x:5}| y: {y}\")\n",
    "        case ['error', x]:\n",
    "            x = str(x)\n",
    "            print(f\"error: x: {x}\")\n",
    "        case ['warning', *y]:\n",
    "            print(f\"warning: {message}\")\n",
    "        case _:\n",
    "            print(f\"Pattern not found: {message}\")"
   ]
  },
  {
   "cell_type": "code",
   "execution_count": 137,
   "metadata": {},
   "outputs": [
    {
     "name": "stdout",
     "output_type": "stream",
     "text": [
      "error: x: 1    | y: 2\n",
      "error: x: val  | y: whatever\n",
      "error: x: val\n",
      "Pattern not found: ['error', 'val', 2, 2, 2]\n",
      "warning: ['warning', 'val', 2, 2, 2]\n",
      "warning: ['warning']\n"
     ]
    }
   ],
   "source": [
    "match_func(['error', 1, 2])\n",
    "match_func(['error', 'val', 'whatever'])\n",
    "match_func(('error', 'val'))  # tuple\n",
    "match_func(['error', 'val', 2, 2, 2])\n",
    "match_func(['warning', 'val', 2, 2, 2])\n",
    "match_func(['warning'])\n"
   ]
  },
  {
   "cell_type": "code",
   "execution_count": 134,
   "metadata": {},
   "outputs": [],
   "source": [
    "# rewritten as tuples\n",
    "def match_func(message: list):\n",
    "    match message:\n",
    "        case ('error', x, y):\n",
    "            x = str(x)\n",
    "            print(f\"error: x: {x:5}| y: {y}\")\n",
    "        case ('error', x):\n",
    "            x = str(x)\n",
    "            print(f\"error: x: {x}\")\n",
    "        case ('warning', *y):\n",
    "            print(f\"warning: {message}\")\n",
    "        case _:\n",
    "            print(f\"Pattern not found: {message}\")"
   ]
  },
  {
   "cell_type": "code",
   "execution_count": 135,
   "metadata": {},
   "outputs": [
    {
     "name": "stdout",
     "output_type": "stream",
     "text": [
      "error: x: 1    | y: 2\n",
      "error: x: val  | y: whatever\n",
      "error: x: val\n",
      "Pattern not found: ['error', 'val', 2, 2, 2]\n",
      "warning: ['warning', 'val', 2, 2, 2]\n",
      "warning: ['warning']\n"
     ]
    }
   ],
   "source": [
    "match_func(['error', 1, 2])\n",
    "match_func(['error', 'val', 'whatever'])\n",
    "match_func(['error', 'val'])\n",
    "match_func(['error', 'val', 2, 2, 2])\n",
    "match_func(['warning', 'val', 2, 2, 2])\n",
    "match_func(['warning'])\n"
   ]
  },
  {
   "cell_type": "code",
   "execution_count": 149,
   "metadata": {},
   "outputs": [],
   "source": [
    "def match_string(phone: str):\n",
    "    match tuple(phone):  # NOTE: converting to tuple\n",
    "        case ['0', *_]:\n",
    "            print('operator')\n",
    "        case ['1', '-', '8', '0', '0', *_]:\n",
    "            print('1-800')\n",
    "        case _:\n",
    "            print(\"Not found\")\n",
    "    "
   ]
  },
  {
   "cell_type": "code",
   "execution_count": 150,
   "metadata": {},
   "outputs": [
    {
     "name": "stdout",
     "output_type": "stream",
     "text": [
      "operator\n",
      "1-800\n",
      "Not found\n"
     ]
    }
   ],
   "source": [
    "match_string(phone='0123')\n",
    "match_string(phone='1-800-whatever')\n",
    "match_string(phone='1800-whatever')"
   ]
  },
  {
   "cell_type": "code",
   "execution_count": 158,
   "metadata": {},
   "outputs": [
    {
     "name": "stdout",
     "output_type": "stream",
     "text": [
      "[('x', 'a'), ('y', 'b'), ('z', 'c')]\n",
      "[('x', 'a'), ('y', 'b'), ('z', 'c')]\n",
      "{'x': 'a', 'y': 'b', 'z': 'c'}\n"
     ]
    }
   ],
   "source": [
    "x = 'xyz'\n",
    "y = 'abc'\n",
    "\n",
    "print([(a, b) for a, b in zip(x, a)])\n",
    "print(list(zip(x, a)))\n",
    "print(dict(zip(x, a)))\n"
   ]
  },
  {
   "cell_type": "code",
   "execution_count": null,
   "metadata": {},
   "outputs": [],
   "source": []
  }
 ],
 "metadata": {
  "kernelspec": {
   "display_name": "Python 3.10.5 64-bit",
   "language": "python",
   "name": "python3"
  },
  "language_info": {
   "codemirror_mode": {
    "name": "ipython",
    "version": 3
   },
   "file_extension": ".py",
   "mimetype": "text/x-python",
   "name": "python",
   "nbconvert_exporter": "python",
   "pygments_lexer": "ipython3",
   "version": "3.10.5"
  },
  "orig_nbformat": 4,
  "vscode": {
   "interpreter": {
    "hash": "949777d72b0d2535278d3dc13498b2535136f6dfe0678499012e853ee9abcab1"
   }
  }
 },
 "nbformat": 4,
 "nbformat_minor": 2
}
