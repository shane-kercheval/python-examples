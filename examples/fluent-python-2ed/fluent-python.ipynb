{
 "cells": [
  {
   "cell_type": "markdown",
   "metadata": {},
   "source": [
    "code from\n",
    "\n",
    "https://github.com/fluentpython/example-code-2e"
   ]
  },
  {
   "cell_type": "code",
   "execution_count": 80,
   "metadata": {},
   "outputs": [
    {
     "name": "stdout",
     "output_type": "stream",
     "text": [
      "Python 3.10.5\n"
     ]
    }
   ],
   "source": [
    "!python --version"
   ]
  },
  {
   "cell_type": "markdown",
   "metadata": {},
   "source": [
    "# Chapter 1"
   ]
  },
  {
   "cell_type": "markdown",
   "metadata": {},
   "source": [
    "- collections.namedtuple"
   ]
  },
  {
   "cell_type": "code",
   "execution_count": 2,
   "metadata": {},
   "outputs": [
    {
     "name": "stdout",
     "output_type": "stream",
     "text": [
      "<class '__main__.Card'>\n",
      "Card(rank=2, suit='spades')\n",
      "2\n"
     ]
    }
   ],
   "source": [
    "import collections\n",
    "Card = collections.namedtuple('Card', ['rank', 'suit'], )\n",
    "print(Card)\n",
    "spades_2 = Card(2, 'spades')\n",
    "print(spades_2)\n",
    "print(spades_2.rank)\n"
   ]
  },
  {
   "cell_type": "markdown",
   "metadata": {},
   "source": [
    "---"
   ]
  },
  {
   "cell_type": "code",
   "execution_count": 43,
   "metadata": {},
   "outputs": [],
   "source": [
    "import collections\n",
    "\n",
    "Card = collections.namedtuple(typename='Card', field_names=['value', 'suit'])\n",
    "\n",
    "class Card(collections.namedtuple(typename='Card', field_names=['value', 'suit'])):\n",
    "    def __repr__(self) -> str:\n",
    "        return str(self.value) + self.suit\n",
    "\n",
    "class Deck:\n",
    "    values = [str(x) for x in range(2, 11)] + list('JQKA')\n",
    "    suits = list('SCHD')\n",
    "\n",
    "    def __init__(self) -> None:\n",
    "        self.cards = [Card(value=v, suit=s) for s in self.suits for v in self.values]\n",
    "    \n",
    "    def __len__(self):\n",
    "        return len(self.cards)\n",
    "    \n",
    "    def __getitem__(self, position):\n",
    "        return self.cards[position]"
   ]
  },
  {
   "cell_type": "code",
   "execution_count": 44,
   "metadata": {},
   "outputs": [
    {
     "name": "stdout",
     "output_type": "stream",
     "text": [
      "2S\n",
      "['2', '3', '4', '5', '6', '7', '8', '9', '10', 'J', 'Q', 'K', 'A']\n",
      "['S', 'C', 'H', 'D']\n"
     ]
    }
   ],
   "source": [
    "print(Card(value=2, suit='S'))\n",
    "print(Deck.values)\n",
    "print(Deck.suits)"
   ]
  },
  {
   "cell_type": "code",
   "execution_count": 56,
   "metadata": {},
   "outputs": [
    {
     "data": {
      "text/plain": [
       "'2S 3S 4S 5S 6S 7S 8S 9S 10S JS QS KS AS 2C 3C 4C 5C 6C 7C 8C 9C 10C JC QC KC AC 2H 3H 4H 5H 6H 7H 8H 9H 10H JH QH KH AH 2D 3D 4D 5D 6D 7D 8D 9D 10D JD QD KD AD'"
      ]
     },
     "execution_count": 56,
     "metadata": {},
     "output_type": "execute_result"
    }
   ],
   "source": [
    "deck = Deck()\n",
    "' '.join([str(x) for x in deck.cards])"
   ]
  },
  {
   "cell_type": "code",
   "execution_count": 76,
   "metadata": {},
   "outputs": [],
   "source": [
    "def spades_high(card: Card):\n",
    "    suit_values = dict(S=3, H=2, D=1, C=0)\n",
    "    value_index = Deck.values.index(card.value)\n",
    "    return value_index + (suit_values[card.suit] / len(suit_values))\n",
    "\n",
    "def aces_high(card: Card):\n",
    "    suit_values = dict(S=3, H=2, D=1, C=0)\n",
    "    value_index = Deck.values.index(card.value)\n",
    "    return suit_values[card.suit] + (value_index / len(Deck.values))"
   ]
  },
  {
   "cell_type": "code",
   "execution_count": 77,
   "metadata": {},
   "outputs": [
    {
     "name": "stdout",
     "output_type": "stream",
     "text": [
      "QS\n",
      "10.75\n",
      "KS\n",
      "11.75\n"
     ]
    }
   ],
   "source": [
    "print(deck[10])\n",
    "print(spades_high(deck[10]))\n",
    "print(deck[11])\n",
    "print(spades_high(deck[11]))"
   ]
  },
  {
   "cell_type": "code",
   "execution_count": 78,
   "metadata": {},
   "outputs": [
    {
     "name": "stdout",
     "output_type": "stream",
     "text": [
      "[2S, 3S, 4S, 5S, 6S, 7S, 8S, 9S, 10S, JS, QS, KS, AS, 2C, 3C, 4C, 5C, 6C, 7C, 8C, 9C, 10C, JC, QC, KC, AC, 2H, 3H, 4H, 5H, 6H, 7H, 8H, 9H, 10H, JH, QH, KH, AH, 2D, 3D, 4D, 5D, 6D, 7D, 8D, 9D, 10D, JD, QD, KD, AD]\n",
      "[2C, 2D, 2H, 2S, 3C, 3D, 3H, 3S, 4C, 4D, 4H, 4S, 5C, 5D, 5H, 5S, 6C, 6D, 6H, 6S, 7C, 7D, 7H, 7S, 8C, 8D, 8H, 8S, 9C, 9D, 9H, 9S, 10C, 10D, 10H, 10S, JC, JD, JH, JS, QC, QD, QH, QS, KC, KD, KH, KS, AC, AD, AH, AS]\n",
      "[AS, AH, AD, AC, KS, KH, KD, KC, QS, QH, QD, QC, JS, JH, JD, JC, 10S, 10H, 10D, 10C, 9S, 9H, 9D, 9C, 8S, 8H, 8D, 8C, 7S, 7H, 7D, 7C, 6S, 6H, 6D, 6C, 5S, 5H, 5D, 5C, 4S, 4H, 4D, 4C, 3S, 3H, 3D, 3C, 2S, 2H, 2D, 2C]\n"
     ]
    }
   ],
   "source": [
    "print(deck.cards)\n",
    "print(sorted(deck.cards, key=spades_high))\n",
    "print(list(reversed(sorted(deck.cards, key=spades_high))))"
   ]
  },
  {
   "cell_type": "code",
   "execution_count": 79,
   "metadata": {},
   "outputs": [
    {
     "name": "stdout",
     "output_type": "stream",
     "text": [
      "[2S, 3S, 4S, 5S, 6S, 7S, 8S, 9S, 10S, JS, QS, KS, AS, 2C, 3C, 4C, 5C, 6C, 7C, 8C, 9C, 10C, JC, QC, KC, AC, 2H, 3H, 4H, 5H, 6H, 7H, 8H, 9H, 10H, JH, QH, KH, AH, 2D, 3D, 4D, 5D, 6D, 7D, 8D, 9D, 10D, JD, QD, KD, AD]\n",
      "[2C, 3C, 4C, 5C, 6C, 7C, 8C, 9C, 10C, JC, QC, KC, AC, 2D, 3D, 4D, 5D, 6D, 7D, 8D, 9D, 10D, JD, QD, KD, AD, 2H, 3H, 4H, 5H, 6H, 7H, 8H, 9H, 10H, JH, QH, KH, AH, 2S, 3S, 4S, 5S, 6S, 7S, 8S, 9S, 10S, JS, QS, KS, AS]\n",
      "[AS, KS, QS, JS, 10S, 9S, 8S, 7S, 6S, 5S, 4S, 3S, 2S, AH, KH, QH, JH, 10H, 9H, 8H, 7H, 6H, 5H, 4H, 3H, 2H, AD, KD, QD, JD, 10D, 9D, 8D, 7D, 6D, 5D, 4D, 3D, 2D, AC, KC, QC, JC, 10C, 9C, 8C, 7C, 6C, 5C, 4C, 3C, 2C]\n"
     ]
    }
   ],
   "source": [
    "print(deck.cards)\n",
    "print(sorted(deck.cards, key=aces_high))\n",
    "print(list(reversed(sorted(deck.cards, key=aces_high))))"
   ]
  },
  {
   "cell_type": "markdown",
   "metadata": {},
   "source": [
    "---"
   ]
  },
  {
   "cell_type": "code",
   "execution_count": 9,
   "metadata": {},
   "outputs": [
    {
     "data": {
      "text/plain": [
       "52"
      ]
     },
     "execution_count": 9,
     "metadata": {},
     "output_type": "execute_result"
    }
   ],
   "source": [
    "import collections\n",
    "\n",
    "Card = collections.namedtuple('Card', ['rank', 'suit'])\n",
    "\n",
    "class FrenchDeck:\n",
    "    ranks = [str(n) for n in range(2, 11)] + list('JQKA')\n",
    "    suits = 'spades diamonds clubs hearts'.split()\n",
    "\n",
    "    def __init__(self):\n",
    "        self._cards = [Card(rank, suit) for suit in self.suits for rank in self.ranks]\n",
    "\n",
    "    def __len__(self):\n",
    "        return len(self._cards)\n",
    "\n",
    "    def __getitem__(self, position):\n",
    "        return self._cards[position]\n",
    "\n",
    "deck = FrenchDeck()\n",
    "len(deck)"
   ]
  },
  {
   "cell_type": "code",
   "execution_count": 13,
   "metadata": {},
   "outputs": [
    {
     "name": "stdout",
     "output_type": "stream",
     "text": [
      "['2', '3', '4', '5', '6', '7', '8', '9', '10', 'J', 'Q', 'K', 'A']\n",
      "['spades', 'diamonds', 'clubs', 'hearts']\n"
     ]
    }
   ],
   "source": [
    "print(FrenchDeck.ranks)\n",
    "print(FrenchDeck.suits)"
   ]
  },
  {
   "cell_type": "code",
   "execution_count": 20,
   "metadata": {},
   "outputs": [
    {
     "name": "stdout",
     "output_type": "stream",
     "text": [
      "Card(rank='Q', suit='spades')\n",
      "43\n",
      "Card(rank='K', suit='spades')\n",
      "47\n"
     ]
    }
   ],
   "source": [
    "def spades_high(card):\n",
    "    suit_values = dict(spades=3, hearts=2, diamonds=1, clubs=0)\n",
    "    rank_value = FrenchDeck.ranks.index(card.rank)\n",
    "    return rank_value * len(suit_values) + suit_values[card.suit]\n",
    "\n",
    "print(deck[10])\n",
    "print(spades_high(deck[10]))\n",
    "print(deck[11])\n",
    "print(spades_high(deck[11]))\n"
   ]
  },
  {
   "cell_type": "code",
   "execution_count": 19,
   "metadata": {},
   "outputs": [
    {
     "data": {
      "text/plain": [
       "[Card(rank='2', suit='clubs'),\n",
       " Card(rank='2', suit='diamonds'),\n",
       " Card(rank='2', suit='hearts'),\n",
       " Card(rank='2', suit='spades'),\n",
       " Card(rank='3', suit='clubs'),\n",
       " Card(rank='3', suit='diamonds'),\n",
       " Card(rank='3', suit='hearts'),\n",
       " Card(rank='3', suit='spades'),\n",
       " Card(rank='4', suit='clubs'),\n",
       " Card(rank='4', suit='diamonds'),\n",
       " Card(rank='4', suit='hearts'),\n",
       " Card(rank='4', suit='spades'),\n",
       " Card(rank='5', suit='clubs'),\n",
       " Card(rank='5', suit='diamonds'),\n",
       " Card(rank='5', suit='hearts'),\n",
       " Card(rank='5', suit='spades'),\n",
       " Card(rank='6', suit='clubs'),\n",
       " Card(rank='6', suit='diamonds'),\n",
       " Card(rank='6', suit='hearts'),\n",
       " Card(rank='6', suit='spades'),\n",
       " Card(rank='7', suit='clubs'),\n",
       " Card(rank='7', suit='diamonds'),\n",
       " Card(rank='7', suit='hearts'),\n",
       " Card(rank='7', suit='spades'),\n",
       " Card(rank='8', suit='clubs'),\n",
       " Card(rank='8', suit='diamonds'),\n",
       " Card(rank='8', suit='hearts'),\n",
       " Card(rank='8', suit='spades'),\n",
       " Card(rank='9', suit='clubs'),\n",
       " Card(rank='9', suit='diamonds'),\n",
       " Card(rank='9', suit='hearts'),\n",
       " Card(rank='9', suit='spades'),\n",
       " Card(rank='10', suit='clubs'),\n",
       " Card(rank='10', suit='diamonds'),\n",
       " Card(rank='10', suit='hearts'),\n",
       " Card(rank='10', suit='spades'),\n",
       " Card(rank='J', suit='clubs'),\n",
       " Card(rank='J', suit='diamonds'),\n",
       " Card(rank='J', suit='hearts'),\n",
       " Card(rank='J', suit='spades'),\n",
       " Card(rank='Q', suit='clubs'),\n",
       " Card(rank='Q', suit='diamonds'),\n",
       " Card(rank='Q', suit='hearts'),\n",
       " Card(rank='Q', suit='spades'),\n",
       " Card(rank='K', suit='clubs'),\n",
       " Card(rank='K', suit='diamonds'),\n",
       " Card(rank='K', suit='hearts'),\n",
       " Card(rank='K', suit='spades'),\n",
       " Card(rank='A', suit='clubs'),\n",
       " Card(rank='A', suit='diamonds'),\n",
       " Card(rank='A', suit='hearts'),\n",
       " Card(rank='A', suit='spades')]"
      ]
     },
     "execution_count": 19,
     "metadata": {},
     "output_type": "execute_result"
    }
   ],
   "source": [
    "sorted(deck, key=spades_high)\n",
    "# for card in sorted(deck, key=spades_high):\n",
    "#     print(card)"
   ]
  },
  {
   "cell_type": "markdown",
   "metadata": {},
   "source": [
    "# Chapter 2: Sequences"
   ]
  },
  {
   "cell_type": "markdown",
   "metadata": {},
   "source": [
    "## `:=` operator"
   ]
  },
  {
   "cell_type": "code",
   "execution_count": 168,
   "metadata": {},
   "outputs": [
    {
     "data": {
      "text/plain": [
       "'ABC'"
      ]
     },
     "execution_count": 168,
     "metadata": {},
     "output_type": "execute_result"
    }
   ],
   "source": [
    "x = 'ABC'\n",
    "x"
   ]
  },
  {
   "cell_type": "code",
   "execution_count": 169,
   "metadata": {},
   "outputs": [
    {
     "data": {
      "text/plain": [
       "[65, 66, 67]"
      ]
     },
     "execution_count": 169,
     "metadata": {},
     "output_type": "execute_result"
    }
   ],
   "source": [
    "# useful for debugging (e.g. passing a to a function that is failing) or checking the last value\n",
    "[last := ord(a) for a in x]"
   ]
  },
  {
   "cell_type": "code",
   "execution_count": 170,
   "metadata": {},
   "outputs": [
    {
     "data": {
      "text/plain": [
       "67"
      ]
     },
     "execution_count": 170,
     "metadata": {},
     "output_type": "execute_result"
    }
   ],
   "source": [
    "last"
   ]
  },
  {
   "cell_type": "code",
   "execution_count": 171,
   "metadata": {},
   "outputs": [
    {
     "data": {
      "text/plain": [
       "<generator object <genexpr> at 0xffff790c3c30>"
      ]
     },
     "execution_count": 171,
     "metadata": {},
     "output_type": "execute_result"
    }
   ],
   "source": [
    "# generator\n",
    "gen = (last2 := ord(a) for a in x)\n",
    "gen"
   ]
  },
  {
   "cell_type": "code",
   "execution_count": 172,
   "metadata": {},
   "outputs": [
    {
     "name": "stdout",
     "output_type": "stream",
     "text": [
      "65\n",
      "65\n",
      "66\n",
      "66\n"
     ]
    }
   ],
   "source": [
    "print(next(gen))\n",
    "print(last2)\n",
    "print(next(gen))\n",
    "print(last2)"
   ]
  },
  {
   "cell_type": "markdown",
   "metadata": {},
   "source": [
    "## Cartesian Product (List/Generators)"
   ]
  },
  {
   "cell_type": "code",
   "execution_count": 88,
   "metadata": {},
   "outputs": [
    {
     "data": {
      "text/plain": [
       "[('black', 'S'),\n",
       " ('black', 'M'),\n",
       " ('black', 'L'),\n",
       " ('white', 'S'),\n",
       " ('white', 'M'),\n",
       " ('white', 'L')]"
      ]
     },
     "execution_count": 88,
     "metadata": {},
     "output_type": "execute_result"
    }
   ],
   "source": [
    "# cartesian product\n",
    "colors = ['black', 'white']\n",
    "sizes = ['S', 'M', 'L']\n",
    "tshirts = [(color, size) for color in colors for size in sizes]\n",
    "tshirts"
   ]
  },
  {
   "cell_type": "code",
   "execution_count": 175,
   "metadata": {},
   "outputs": [
    {
     "name": "stdout",
     "output_type": "stream",
     "text": [
      "black S\n",
      "black M\n",
      "black L\n",
      "white S\n",
      "white M\n",
      "white L\n"
     ]
    }
   ],
   "source": [
    "# Cartesian product in a generator expression\n",
    "# the entire cartesian product is not built up and stored in memory\n",
    "# only one item is generated at a time and given to the for loop\n",
    "colors = ['black', 'white']\n",
    "sizes = ['S', 'M', 'L']\n",
    "\n",
    "for tshirt in ('%s %s' % (c, s) for c in colors for s in sizes):\n",
    "    print(tshirt)"
   ]
  },
  {
   "cell_type": "code",
   "execution_count": 187,
   "metadata": {},
   "outputs": [
    {
     "name": "stdout",
     "output_type": "stream",
     "text": [
      "S\n",
      "M\n",
      "L\n",
      "Length of generator was 3\n"
     ]
    }
   ],
   "source": [
    "sizes_gen = (s for s in sizes)\n",
    "for i, s in enumerate(sizes_gen):\n",
    "    print(s)\n",
    "print(f\"Length of generator was {i + 1}\")"
   ]
  },
  {
   "cell_type": "markdown",
   "metadata": {},
   "source": [
    "## Formatting with padding"
   ]
  },
  {
   "cell_type": "code",
   "execution_count": 102,
   "metadata": {},
   "outputs": [
    {
     "name": "stdout",
     "output_type": "stream",
     "text": [
      "my value  | a: valuessss | b\n",
      "1         | a: asdf      | b\n"
     ]
    }
   ],
   "source": [
    "a = 'valuessss'\n",
    "print(f\"{'my value':10}| a: {a:10}| b\")\n",
    "a = 'asdf'\n",
    "print(f\"{'1':10}| a: {a:10}| b\")"
   ]
  },
  {
   "cell_type": "markdown",
   "metadata": {},
   "source": [
    "## `match` statements"
   ]
  },
  {
   "cell_type": "code",
   "execution_count": 129,
   "metadata": {},
   "outputs": [],
   "source": [
    "def match_func(message: list):\n",
    "    match message:\n",
    "        case ['error', x, y]:\n",
    "            x = str(x)\n",
    "            print(f\"error: x: {x:5}| y: {y}\")\n",
    "        case ['error', x]:\n",
    "            x = str(x)\n",
    "            print(f\"error: x: {x}\")\n",
    "        case ['warning', *y]:\n",
    "            print(f\"warning: {message}\")\n",
    "        case _:\n",
    "            print(f\"Pattern not found: {message}\")"
   ]
  },
  {
   "cell_type": "code",
   "execution_count": 137,
   "metadata": {},
   "outputs": [
    {
     "name": "stdout",
     "output_type": "stream",
     "text": [
      "error: x: 1    | y: 2\n",
      "error: x: val  | y: whatever\n",
      "error: x: val\n",
      "Pattern not found: ['error', 'val', 2, 2, 2]\n",
      "warning: ['warning', 'val', 2, 2, 2]\n",
      "warning: ['warning']\n"
     ]
    }
   ],
   "source": [
    "match_func(['error', 1, 2])\n",
    "match_func(['error', 'val', 'whatever'])\n",
    "match_func(('error', 'val'))  # tuple\n",
    "match_func(['error', 'val', 2, 2, 2])\n",
    "match_func(['warning', 'val', 2, 2, 2])\n",
    "match_func(['warning'])\n"
   ]
  },
  {
   "cell_type": "code",
   "execution_count": 134,
   "metadata": {},
   "outputs": [],
   "source": [
    "# rewritten as tuples\n",
    "def match_func(message: list):\n",
    "    match message:\n",
    "        case ('error', x, y):\n",
    "            x = str(x)\n",
    "            print(f\"error: x: {x:5}| y: {y}\")\n",
    "        case ('error', x):\n",
    "            x = str(x)\n",
    "            print(f\"error: x: {x}\")\n",
    "        case ('warning', *y):\n",
    "            print(f\"warning: {message}\")\n",
    "        case _:\n",
    "            print(f\"Pattern not found: {message}\")"
   ]
  },
  {
   "cell_type": "code",
   "execution_count": 135,
   "metadata": {},
   "outputs": [
    {
     "name": "stdout",
     "output_type": "stream",
     "text": [
      "error: x: 1    | y: 2\n",
      "error: x: val  | y: whatever\n",
      "error: x: val\n",
      "Pattern not found: ['error', 'val', 2, 2, 2]\n",
      "warning: ['warning', 'val', 2, 2, 2]\n",
      "warning: ['warning']\n"
     ]
    }
   ],
   "source": [
    "match_func(['error', 1, 2])\n",
    "match_func(['error', 'val', 'whatever'])\n",
    "match_func(['error', 'val'])\n",
    "match_func(['error', 'val', 2, 2, 2])\n",
    "match_func(['warning', 'val', 2, 2, 2])\n",
    "match_func(['warning'])\n"
   ]
  },
  {
   "cell_type": "code",
   "execution_count": 149,
   "metadata": {},
   "outputs": [],
   "source": [
    "def match_string(phone: str):\n",
    "    match tuple(phone):  # NOTE: converting to tuple\n",
    "        case ['0', *_]:\n",
    "            print('operator')\n",
    "        case ['1', '-', '8', '0', '0', *_]:\n",
    "            print('1-800')\n",
    "        case _:\n",
    "            print(\"Not found\")\n",
    "    "
   ]
  },
  {
   "cell_type": "code",
   "execution_count": 150,
   "metadata": {},
   "outputs": [
    {
     "name": "stdout",
     "output_type": "stream",
     "text": [
      "operator\n",
      "1-800\n",
      "Not found\n"
     ]
    }
   ],
   "source": [
    "match_string(phone='0123')\n",
    "match_string(phone='1-800-whatever')\n",
    "match_string(phone='1800-whatever')"
   ]
  },
  {
   "cell_type": "code",
   "execution_count": 158,
   "metadata": {},
   "outputs": [
    {
     "name": "stdout",
     "output_type": "stream",
     "text": [
      "[('x', 'a'), ('y', 'b'), ('z', 'c')]\n",
      "[('x', 'a'), ('y', 'b'), ('z', 'c')]\n",
      "{'x': 'a', 'y': 'b', 'z': 'c'}\n"
     ]
    }
   ],
   "source": [
    "x = 'xyz'\n",
    "y = 'abc'\n",
    "\n",
    "print([(a, b) for a, b in zip(x, a)])\n",
    "print(list(zip(x, a)))\n",
    "print(dict(zip(x, a)))\n"
   ]
  },
  {
   "cell_type": "markdown",
   "metadata": {},
   "source": [
    "---"
   ]
  },
  {
   "cell_type": "markdown",
   "metadata": {},
   "source": [
    "# Chapter 3: Dictionaries and Sets"
   ]
  },
  {
   "cell_type": "code",
   "execution_count": 14,
   "metadata": {},
   "outputs": [
    {
     "name": "stdout",
     "output_type": "stream",
     "text": [
      "{'a': 1, 'b': 2}\n",
      "{'a': 1, 'b': 2}\n"
     ]
    }
   ],
   "source": [
    "print(dict(**{'a': 1}, **{'b': 2}))  # python <3.9\n",
    "print({**{'a': 1}, **{'b': 2}})  # python <3.9"
   ]
  },
  {
   "cell_type": "code",
   "execution_count": 11,
   "metadata": {},
   "outputs": [
    {
     "data": {
      "text/plain": [
       "{'a': 1, 'b': 2, 'c': 3}"
      ]
     },
     "execution_count": 11,
     "metadata": {},
     "output_type": "execute_result"
    }
   ],
   "source": [
    "{'a': 1, 'b': 1} | {'b': 2, 'c': 3}  # python 3.9"
   ]
  },
  {
   "cell_type": "code",
   "execution_count": 15,
   "metadata": {},
   "outputs": [
    {
     "data": {
      "text/plain": [
       "{'a': 1, 'b': 2, 'c': 3}"
      ]
     },
     "execution_count": 15,
     "metadata": {},
     "output_type": "execute_result"
    }
   ],
   "source": [
    "a = {'a': 1, 'b': 1}\n",
    "a |= {'b': 2, 'c': 3}\n",
    "a"
   ]
  },
  {
   "cell_type": "code",
   "execution_count": 26,
   "metadata": {},
   "outputs": [
    {
     "data": {
      "text/plain": [
       "dict_items([('a', 1), ('b', 2), ('c', 3)])"
      ]
     },
     "execution_count": 26,
     "metadata": {},
     "output_type": "execute_result"
    }
   ],
   "source": [
    "a.items()"
   ]
  },
  {
   "cell_type": "code",
   "execution_count": 27,
   "metadata": {},
   "outputs": [
    {
     "data": {
      "text/plain": [
       "['a', 'b', 'c']"
      ]
     },
     "execution_count": 27,
     "metadata": {},
     "output_type": "execute_result"
    }
   ],
   "source": [
    "sorted(a)"
   ]
  },
  {
   "cell_type": "code",
   "execution_count": 29,
   "metadata": {},
   "outputs": [
    {
     "data": {
      "text/plain": [
       "[('c', 3), ('b', 2), ('a', 1)]"
      ]
     },
     "execution_count": 29,
     "metadata": {},
     "output_type": "execute_result"
    }
   ],
   "source": [
    "sorted(a.items(), reverse=True)"
   ]
  },
  {
   "cell_type": "code",
   "execution_count": 41,
   "metadata": {},
   "outputs": [
    {
     "data": {
      "text/plain": [
       "[('c', 3), ('b', 2), ('a', 1)]"
      ]
     },
     "execution_count": 41,
     "metadata": {},
     "output_type": "execute_result"
    }
   ],
   "source": [
    "def my_reverse(key, value):\n",
    "    return value * -1\n",
    "\n",
    "sorted(a.items(), key = lambda x: my_reverse(*x))"
   ]
  },
  {
   "cell_type": "code",
   "execution_count": 15,
   "metadata": {},
   "outputs": [
    {
     "name": "stdout",
     "output_type": "stream",
     "text": [
      "1-2\n"
     ]
    }
   ],
   "source": [
    "def temp(x, y):\n",
    "    print(f'{x}-{y}')\n",
    "\n",
    "temp(**{'x': 1, 'y': 2})"
   ]
  },
  {
   "cell_type": "code",
   "execution_count": 23,
   "metadata": {},
   "outputs": [
    {
     "name": "stdout",
     "output_type": "stream",
     "text": [
      "c: 3\n"
     ]
    }
   ],
   "source": [
    "def example(subject):\n",
    "    match subject:\n",
    "        case {'a': 1, 'b': 2, 'c': c_value}:\n",
    "            print(f\"c: {c_value}\")\n",
    "        case {'a': 1, **rest}:\n",
    "            print(f\"rest: {rest}\")\n",
    "        case _:\n",
    "            print(\"Not found\")\n",
    "\n",
    "example(subject = {'a': 1, 'b': 2, 'c': 3})"
   ]
  },
  {
   "cell_type": "code",
   "execution_count": 24,
   "metadata": {},
   "outputs": [
    {
     "name": "stdout",
     "output_type": "stream",
     "text": [
      "rest: {'b': 3, 'c': 4}\n"
     ]
    }
   ],
   "source": [
    "example(subject = {'a': 1, 'b': 3, 'c': 4})"
   ]
  },
  {
   "cell_type": "code",
   "execution_count": 25,
   "metadata": {},
   "outputs": [
    {
     "name": "stdout",
     "output_type": "stream",
     "text": [
      "Not found\n"
     ]
    }
   ],
   "source": [
    "example(subject = {'a': 2, 'b': 3, 'c': 4})"
   ]
  },
  {
   "cell_type": "code",
   "execution_count": 42,
   "metadata": {},
   "outputs": [],
   "source": [
    "sentence = \"This is a sentence of words and this sentence has \"\\\n",
    "    \"multiple words and those words repeat occasionally.\""
   ]
  },
  {
   "cell_type": "code",
   "execution_count": 47,
   "metadata": {},
   "outputs": [
    {
     "data": {
      "text/plain": [
       "Counter({'this': 2,\n",
       "         'is': 1,\n",
       "         'a': 1,\n",
       "         'sentence': 2,\n",
       "         'of': 1,\n",
       "         'words': 3,\n",
       "         'and': 2,\n",
       "         'has': 1,\n",
       "         'multiple': 1,\n",
       "         'those': 1,\n",
       "         'repeat': 1,\n",
       "         'occasionally.': 1})"
      ]
     },
     "execution_count": 47,
     "metadata": {},
     "output_type": "execute_result"
    }
   ],
   "source": [
    "from collections import Counter\n",
    "counter = Counter(sentence.lower().split())\n",
    "counter"
   ]
  },
  {
   "cell_type": "code",
   "execution_count": 48,
   "metadata": {},
   "outputs": [
    {
     "data": {
      "text/plain": [
       "[('words', 3), ('this', 2), ('sentence', 2), ('and', 2), ('is', 1)]"
      ]
     },
     "execution_count": 48,
     "metadata": {},
     "output_type": "execute_result"
    }
   ],
   "source": [
    "counter.most_common(5)"
   ]
  },
  {
   "cell_type": "markdown",
   "metadata": {},
   "source": [
    "# Chapter 4: Bytes"
   ]
  },
  {
   "cell_type": "code",
   "execution_count": 50,
   "metadata": {},
   "outputs": [
    {
     "name": "stdout",
     "output_type": "stream",
     "text": [
      "café\n",
      "café\n"
     ]
    },
    {
     "data": {
      "text/plain": [
       "False"
      ]
     },
     "execution_count": 50,
     "metadata": {},
     "output_type": "execute_result"
    }
   ],
   "source": [
    "s1 = 'café'\n",
    "print(s1)\n",
    "s2 = 'cafe\\u0301'\n",
    "print(s2)\n",
    "s1 == s2"
   ]
  },
  {
   "cell_type": "code",
   "execution_count": 70,
   "metadata": {},
   "outputs": [],
   "source": [
    "from unicodedata import normalize\n",
    "\n",
    "def nfc_equal(str1, str2, method='NFC'):\n",
    "    return normalize(method, str1) == normalize(method, str2)\n",
    "\n",
    "def fold_equal(str1, str2, method='NFC'):\n",
    "    return (normalize(method, str1).casefold() == normalize(method, str2).casefold())"
   ]
  },
  {
   "cell_type": "code",
   "execution_count": null,
   "metadata": {},
   "outputs": [],
   "source": [
    "s1_n = normalize('NFC', s1)\n",
    "s2_n = normalize('NFC', s2)\n",
    "print(s1_n)\n",
    "print(len(s1_n))\n",
    "print(s2_n)\n",
    "print(len(s2_n))\n",
    "print(s1_n == s2_n)"
   ]
  },
  {
   "cell_type": "code",
   "execution_count": 58,
   "metadata": {},
   "outputs": [
    {
     "name": "stdout",
     "output_type": "stream",
     "text": [
      "café\n",
      "5\n",
      "café\n",
      "5\n",
      "True\n"
     ]
    }
   ],
   "source": [
    "from unicodedata import normalize\n",
    "s1_n = normalize('NFD', s1)\n",
    "s2_n = normalize('NFD', s2)\n",
    "print(s1_n)\n",
    "print(len(s1_n))\n",
    "print(s2_n)\n",
    "print(len(s2_n))\n",
    "print(s1_n == s2_n)"
   ]
  },
  {
   "cell_type": "code",
   "execution_count": 66,
   "metadata": {},
   "outputs": [
    {
     "name": "stdout",
     "output_type": "stream",
     "text": [
      "½\n",
      "½\n",
      "1⁄2\n",
      "1⁄2\n"
     ]
    }
   ],
   "source": [
    "one_half = '½'\n",
    "print(one_half)\n",
    "print(normalize('NFC', one_half))\n",
    "print(normalize('NFKC', one_half))"
   ]
  },
  {
   "cell_type": "code",
   "execution_count": 69,
   "metadata": {},
   "outputs": [
    {
     "name": "stdout",
     "output_type": "stream",
     "text": [
      "False\n",
      "False\n",
      "True\n"
     ]
    }
   ],
   "source": [
    "print('1' in one_half)\n",
    "print('1' in normalize('NFC', one_half))\n",
    "print('1' in normalize('NFKC', one_half))"
   ]
  },
  {
   "cell_type": "markdown",
   "metadata": {},
   "source": [
    "# Chapter 5: Data Class Builders"
   ]
  },
  {
   "cell_type": "code",
   "execution_count": 63,
   "metadata": {},
   "outputs": [
    {
     "name": "stdout",
     "output_type": "stream",
     "text": [
      "<class '__main__.Coordinate'>\n",
      "True\n",
      "True\n"
     ]
    }
   ],
   "source": [
    "from typing import NamedTuple\n",
    "\n",
    "class Coordinate(NamedTuple):\n",
    "    lat: float\n",
    "    long: float\n",
    "\n",
    "coord = Coordinate(1, 2)\n",
    "print(type(coord))\n",
    "print(isinstance(coord, tuple))\n",
    "print(issubclass(Coordinate, tuple))\n",
    "#print(isinstance(coord, NamedTuple))\n",
    "#print(issubclass(Coordinate, typing.NamedTuple))"
   ]
  },
  {
   "cell_type": "markdown",
   "metadata": {},
   "source": [
    "import dataclass\n",
    "@dataclass\n",
    "class "
   ]
  },
  {
   "cell_type": "markdown",
   "metadata": {},
   "source": []
  },
  {
   "cell_type": "code",
   "execution_count": 93,
   "metadata": {},
   "outputs": [
    {
     "name": "stdout",
     "output_type": "stream",
     "text": [
      "0\n",
      "(2, 4)\n",
      "Record(x=2, y=4, the_list=[])\n",
      "2\n"
     ]
    }
   ],
   "source": [
    "from dataclasses import dataclass, field\n",
    "from typing import Optional\n",
    "\n",
    "@dataclass(frozen=True)\n",
    "class Record:\n",
    "    class_field = 0\n",
    "    x: int\n",
    "    y: int\n",
    "    the_list: list[str] = field(default_factory=list)\n",
    "\n",
    "    def __post_init__(self):\n",
    "        assert self.x > 0\n",
    "        assert self.y > 0\n",
    "\n",
    "        cls = self.__class__\n",
    "        cls.class_field += 1\n",
    "\n",
    "    def __str__(self) -> str:\n",
    "        return f\"({self.x}, {self.y})\"\n",
    "\n",
    "print(Record.class_field)\n",
    "# Record(-1, 0)  # assert\n",
    "print(Record(2, 4))\n",
    "print(f\"{Record(2, 4)!r}\")\n",
    "print(Record.class_field)"
   ]
  },
  {
   "cell_type": "code",
   "execution_count": 94,
   "metadata": {},
   "outputs": [
    {
     "data": {
      "text/plain": [
       "3"
      ]
     },
     "execution_count": 94,
     "metadata": {},
     "output_type": "execute_result"
    }
   ],
   "source": [
    "Record.class_field += 1\n",
    "Record.class_field"
   ]
  },
  {
   "cell_type": "code",
   "execution_count": 97,
   "metadata": {},
   "outputs": [
    {
     "name": "stdout",
     "output_type": "stream",
     "text": [
      "5\n",
      "6\n",
      "2\n",
      "3\n",
      "['test']\n"
     ]
    }
   ],
   "source": [
    "print(Record.class_field)\n",
    "record = Record(2, 3)\n",
    "# record.x = 5\n",
    "record.the_list.append('test')\n",
    "print(record.class_field)\n",
    "print(record.x)\n",
    "print(record.y)\n",
    "print(record.the_list)"
   ]
  },
  {
   "cell_type": "code",
   "execution_count": 98,
   "metadata": {},
   "outputs": [
    {
     "data": {
      "text/plain": [
       "{'x': int, 'y': int, 'the_list': list[str]}"
      ]
     },
     "execution_count": 98,
     "metadata": {},
     "output_type": "execute_result"
    }
   ],
   "source": [
    "import inspect\n",
    "inspect.get_annotations(Record)"
   ]
  },
  {
   "cell_type": "code",
   "execution_count": 99,
   "metadata": {},
   "outputs": [
    {
     "data": {
      "text/plain": [
       "{'x': 2, 'y': 3, 'the_list': ['test']}"
      ]
     },
     "execution_count": 99,
     "metadata": {},
     "output_type": "execute_result"
    }
   ],
   "source": [
    "record.__dict__"
   ]
  },
  {
   "cell_type": "code",
   "execution_count": 100,
   "metadata": {},
   "outputs": [
    {
     "data": {
      "text/plain": [
       "{'x': 2, 'y': 3, 'the_list': ['test']}"
      ]
     },
     "execution_count": 100,
     "metadata": {},
     "output_type": "execute_result"
    }
   ],
   "source": [
    "import dataclasses\n",
    "dataclasses.asdict(record)"
   ]
  },
  {
   "cell_type": "markdown",
   "metadata": {},
   "source": [
    "---"
   ]
  },
  {
   "cell_type": "markdown",
   "metadata": {},
   "source": [
    "# Chapter 7"
   ]
  },
  {
   "cell_type": "code",
   "execution_count": 7,
   "metadata": {},
   "outputs": [
    {
     "data": {
      "text/plain": [
       "15"
      ]
     },
     "execution_count": 7,
     "metadata": {},
     "output_type": "execute_result"
    }
   ],
   "source": [
    "from functools import reduce\n",
    "# For example, reduce(lambda x, y: x+y, [1, 2, 3, 4, 5]) calculates ((((1+2)+3)+4)+5). \n",
    "reduce(lambda x, y: x+y, [1, 2, 3, 4, 5])"
   ]
  },
  {
   "cell_type": "code",
   "execution_count": 3,
   "metadata": {},
   "outputs": [
    {
     "data": {
      "text/plain": [
       "15"
      ]
     },
     "execution_count": 3,
     "metadata": {},
     "output_type": "execute_result"
    }
   ],
   "source": [
    "sum([1, 2, 3, 4, 5])"
   ]
  },
  {
   "cell_type": "code",
   "execution_count": 8,
   "metadata": {},
   "outputs": [
    {
     "name": "stdout",
     "output_type": "stream",
     "text": [
      "(a=1; b=2)\n",
      "(a=2; b=3)\n",
      "(a=6; b=4)\n"
     ]
    },
    {
     "data": {
      "text/plain": [
       "24"
      ]
     },
     "execution_count": 8,
     "metadata": {},
     "output_type": "execute_result"
    }
   ],
   "source": [
    "def temp(a, b):\n",
    "    print(f\"(a={a}; b={b})\")\n",
    "    return a * b\n",
    "\n",
    "reduce(temp, range(1, 5))"
   ]
  },
  {
   "cell_type": "code",
   "execution_count": 9,
   "metadata": {},
   "outputs": [
    {
     "name": "stdout",
     "output_type": "stream",
     "text": [
      "(a=10; b=20)\n",
      "(a=200; b=30)\n",
      "(a=6000; b=40)\n"
     ]
    },
    {
     "data": {
      "text/plain": [
       "240000"
      ]
     },
     "execution_count": 9,
     "metadata": {},
     "output_type": "execute_result"
    }
   ],
   "source": [
    "def multiply(values):\n",
    "    return reduce(temp, values)\n",
    "\n",
    "multiply(values=[10, 20, 30, 40])"
   ]
  },
  {
   "cell_type": "markdown",
   "metadata": {},
   "source": [
    "---"
   ]
  },
  {
   "cell_type": "markdown",
   "metadata": {},
   "source": [
    "# Chapter 8"
   ]
  },
  {
   "cell_type": "code",
   "execution_count": 12,
   "metadata": {},
   "outputs": [
    {
     "name": "stdout",
     "output_type": "stream",
     "text": [
      "30\n",
      "40\n"
     ]
    }
   ],
   "source": [
    "for i in range(5):\n",
    "    if (modified := i * 10) >= 30:\n",
    "        print(modified)"
   ]
  },
  {
   "cell_type": "code",
   "execution_count": 13,
   "metadata": {},
   "outputs": [
    {
     "name": "stdout",
     "output_type": "stream",
     "text": [
      "30\n",
      "40\n"
     ]
    }
   ],
   "source": [
    "for i in range(5):\n",
    "    modified = i * 10\n",
    "    if modified >= 30:\n",
    "        print(modified)"
   ]
  },
  {
   "cell_type": "markdown",
   "metadata": {},
   "source": [
    "# Chapter 9"
   ]
  },
  {
   "cell_type": "code",
   "execution_count": 268,
   "metadata": {},
   "outputs": [
    {
     "data": {
      "text/plain": [
       "True"
      ]
     },
     "execution_count": 268,
     "metadata": {},
     "output_type": "execute_result"
    }
   ],
   "source": [
    "import datetime\n",
    "\n",
    "isinstance(datetime.datetime.now(), datetime.datetime)"
   ]
  },
  {
   "cell_type": "code",
   "execution_count": 280,
   "metadata": {},
   "outputs": [
    {
     "data": {
      "text/plain": [
       "True"
      ]
     },
     "execution_count": 280,
     "metadata": {},
     "output_type": "execute_result"
    }
   ],
   "source": [
    "isinstance(pd.NaT, datetime.date)"
   ]
  },
  {
   "cell_type": "code",
   "execution_count": 277,
   "metadata": {},
   "outputs": [
    {
     "data": {
      "text/plain": [
       "True"
      ]
     },
     "execution_count": 277,
     "metadata": {},
     "output_type": "execute_result"
    }
   ],
   "source": [
    "isinstance(pd.NaT, datetime.datetime)"
   ]
  },
  {
   "cell_type": "code",
   "execution_count": 279,
   "metadata": {},
   "outputs": [
    {
     "data": {
      "text/plain": [
       "False"
      ]
     },
     "execution_count": 279,
     "metadata": {},
     "output_type": "execute_result"
    }
   ],
   "source": [
    "isinstance(pd.NA, datetime.datetime)"
   ]
  },
  {
   "cell_type": "code",
   "execution_count": 271,
   "metadata": {},
   "outputs": [
    {
     "data": {
      "text/plain": [
       "True"
      ]
     },
     "execution_count": 271,
     "metadata": {},
     "output_type": "execute_result"
    }
   ],
   "source": [
    "isinstance(datetime.datetime.now(), datetime.date)"
   ]
  },
  {
   "cell_type": "code",
   "execution_count": 269,
   "metadata": {},
   "outputs": [
    {
     "data": {
      "text/plain": [
       "False"
      ]
     },
     "execution_count": 269,
     "metadata": {},
     "output_type": "execute_result"
    }
   ],
   "source": [
    "isinstance(datetime.date.today(), datetime.datetime)"
   ]
  },
  {
   "cell_type": "code",
   "execution_count": 270,
   "metadata": {},
   "outputs": [
    {
     "data": {
      "text/plain": [
       "True"
      ]
     },
     "execution_count": 270,
     "metadata": {},
     "output_type": "execute_result"
    }
   ],
   "source": [
    "isinstance(datetime.date.today(), datetime.date)"
   ]
  },
  {
   "cell_type": "code",
   "execution_count": 267,
   "metadata": {},
   "outputs": [
    {
     "data": {
      "text/plain": [
       "True"
      ]
     },
     "execution_count": 267,
     "metadata": {},
     "output_type": "execute_result"
    }
   ],
   "source": [
    "from collections.abc import Collection\n",
    "isinstance([], Collection)"
   ]
  },
  {
   "cell_type": "code",
   "execution_count": 275,
   "metadata": {},
   "outputs": [],
   "source": [
    "import datetime\n",
    "from functools import singledispatch\n",
    "from numbers import Number\n",
    "\n",
    "@singledispatch\n",
    "def temp(value: object):\n",
    "    print(f\"object={value}\")\n",
    "\n",
    "@temp.register\n",
    "def _(value: str):\n",
    "    print(f\"str={value}\")\n",
    "\n",
    "@temp.register\n",
    "def _(value: bool):\n",
    "    print(f\"bool={value}\")\n",
    "\n",
    "@temp.register\n",
    "def _(value: Number):\n",
    "    print(f\"Number={value}\")\n",
    "\n",
    "@temp.register\n",
    "def _(value: datetime.datetime):\n",
    "    print(f\"datetime={value}\")\n",
    "\n",
    "@temp.register\n",
    "def _(value: datetime.date):\n",
    "    print(f\"date={value}\")\n"
   ]
  },
  {
   "cell_type": "code",
   "execution_count": 276,
   "metadata": {},
   "outputs": [
    {
     "name": "stdout",
     "output_type": "stream",
     "text": [
      "object=[1, 2, 3]\n",
      "str=asdf\n",
      "Number=1\n",
      "bool=True\n",
      "date=2022-08-01\n",
      "datetime=2022-08-01 05:35:41.956893\n"
     ]
    }
   ],
   "source": [
    "temp([1, 2, 3])\n",
    "temp(\"asdf\")\n",
    "temp(1)\n",
    "temp(True)\n",
    "temp(datetime.date.today())\n",
    "temp(datetime.datetime.now())"
   ]
  },
  {
   "cell_type": "code",
   "execution_count": 44,
   "metadata": {},
   "outputs": [],
   "source": [
    "# NOTE: for classes we need to use **singledispatchmethod**\n",
    "from functools import singledispatchmethod\n",
    "class Example:\n",
    "    @singledispatchmethod\n",
    "    def temp(self, value: object):\n",
    "        print(f\"object={value}\")\n",
    "\n",
    "    @temp.register\n",
    "    def _(self, value: str):\n",
    "        print(f\"str={value}\")\n",
    "\n",
    "    # @temp.register\n",
    "    # def _(self, value: bool):\n",
    "    #     print(f\"bool={value}\")\n",
    "\n",
    "    @temp.register\n",
    "    def _(self, value: Number):\n",
    "        print(f\"Number={value}\")\n"
   ]
  },
  {
   "cell_type": "code",
   "execution_count": 45,
   "metadata": {},
   "outputs": [
    {
     "name": "stdout",
     "output_type": "stream",
     "text": [
      "object=[1, 2, 3]\n",
      "str=asdf\n",
      "Number=1\n",
      "Number=True\n"
     ]
    }
   ],
   "source": [
    "ex = Example()\n",
    "ex.temp([1, 2, 3])\n",
    "ex.temp(\"asdf\")\n",
    "ex.temp(1)\n",
    "ex.temp(True)"
   ]
  },
  {
   "cell_type": "markdown",
   "metadata": {},
   "source": [
    "# Chapter 10"
   ]
  },
  {
   "cell_type": "code",
   "execution_count": null,
   "metadata": {},
   "outputs": [],
   "source": [
    "from typing import Callable, Collection\n",
    "\n",
    "Command = Callable[[object], object]\n",
    "\n",
    "class Pipeline:\n",
    "    \"\"\"A class that contains a ordered collection of Commands to execute.\"\"\"\n",
    "    def __init__(self,\n",
    "                 commands: Collection[Command] | None = None,\n",
    "                 pipelines: Collection['Pipeline'] | None = None) -> None:\n",
    "        \"\"\"TODO: DOCUMENTATION\"\"\"\n",
    "        assert commands or pipelines\n",
    "        if commands:\n",
    "            self.commands = list(commands)\n",
    "        \n",
    "        if pipelines:\n",
    "            self.commands = []\n",
    "            for pipeline in pipelines:\n",
    "                self.commands.extend(pipeline.commands)\n",
    "\n",
    "    def execute(self, value: object) -> object:\n",
    "        \"\"\"TODO: DOCUMENTATION\"\"\"\n",
    "        for command in self.commands:\n",
    "            value = command(value)\n",
    "        \n",
    "        return value\n",
    "\n",
    "    def __call__(self, value: object) -> object:\n",
    "        \n",
    "        return self.execute(value)\n"
   ]
  },
  {
   "cell_type": "code",
   "execution_count": 114,
   "metadata": {},
   "outputs": [],
   "source": [
    "from typing import Callable, Collection\n",
    "\n",
    "\n",
    "Command = Callable[[object], object]\n",
    "\n",
    "class Pipeline(Command):\n",
    "    \"\"\"A class that contains a ordered collection of Commands to execute.\"\"\"\n",
    "    def __init__(self, steps: Collection[Command]) -> None:\n",
    "        \"\"\"TODO: DOCUMENTATION\"\"\"\n",
    "        self.steps = list(steps)\n",
    "\n",
    "    def __call__(self, value: object) -> object:\n",
    "        for step in self.steps:\n",
    "            value = step(value)\n",
    "\n",
    "        return value"
   ]
  },
  {
   "cell_type": "code",
   "execution_count": 115,
   "metadata": {},
   "outputs": [
    {
     "data": {
      "text/plain": [
       "'hello'"
      ]
     },
     "execution_count": 115,
     "metadata": {},
     "output_type": "execute_result"
    }
   ],
   "source": [
    "nlp_pipeline_1 = Pipeline(steps=[\n",
    "    lambda x: x.lower(),\n",
    "    lambda x: x.strip(),\n",
    "])\n",
    "nlp_pipeline_1(\"    HELLO     \")"
   ]
  },
  {
   "cell_type": "code",
   "execution_count": 116,
   "metadata": {},
   "outputs": [
    {
     "data": {
      "text/plain": [
       "'   Hello!   '"
      ]
     },
     "execution_count": 116,
     "metadata": {},
     "output_type": "execute_result"
    }
   ],
   "source": [
    "nlp_pipeline_2 = Pipeline(steps=[\n",
    "    lambda x: x.replace(\"o\", \"o!\")\n",
    "])\n",
    "nlp_pipeline_2(\"   Hello   \")"
   ]
  },
  {
   "cell_type": "code",
   "execution_count": 121,
   "metadata": {},
   "outputs": [
    {
     "data": {
      "text/plain": [
       "'hello!'"
      ]
     },
     "execution_count": 121,
     "metadata": {},
     "output_type": "execute_result"
    }
   ],
   "source": [
    "Pipeline(steps=[nlp_pipeline_1, lambda x: x.replace(\"o\", \"o!\")])('    Hello      ')"
   ]
  },
  {
   "cell_type": "code",
   "execution_count": 117,
   "metadata": {},
   "outputs": [
    {
     "data": {
      "text/plain": [
       "'hello!'"
      ]
     },
     "execution_count": 117,
     "metadata": {},
     "output_type": "execute_result"
    }
   ],
   "source": [
    "pipes = Pipeline(steps=[nlp_pipeline_1, nlp_pipeline_2])\n",
    "pipes(\"    HELLo     \")"
   ]
  },
  {
   "cell_type": "code",
   "execution_count": 118,
   "metadata": {},
   "outputs": [
    {
     "data": {
      "text/plain": [
       "'h3llo!'"
      ]
     },
     "execution_count": 118,
     "metadata": {},
     "output_type": "execute_result"
    }
   ],
   "source": [
    "pipes = Pipeline(steps=[\n",
    "    nlp_pipeline_1,\n",
    "    nlp_pipeline_2,\n",
    "    lambda x: x.replace('e', '3'),\n",
    "])\n",
    "pipes(\"    HELLo     \")"
   ]
  },
  {
   "cell_type": "code",
   "execution_count": 237,
   "metadata": {},
   "outputs": [
    {
     "data": {
      "text/plain": [
       "Node(0)"
      ]
     },
     "execution_count": 237,
     "metadata": {},
     "output_type": "execute_result"
    }
   ],
   "source": [
    "from dataclasses import dataclass\n",
    "\n",
    "@dataclass\n",
    "class Node:\n",
    "    value: object\n",
    "    reference: 'Node' = None\n",
    "\n",
    "    # def __call__(self):\n",
    "    #     return self.value, self.reference\n",
    "    def __repr__(self) -> str:\n",
    "        return f\"Node({str(self.value)})\"\n",
    "    \n",
    "    def __iter__(self):  # for unpacking; not great use here\n",
    "        yield self.value\n",
    "        yield self.reference \n",
    "\n",
    "\n",
    "class LinkedList:\n",
    "    def __init__(self, initial_value: object) -> None:\n",
    "        self.head = Node(value=initial_value)\n",
    "        self.tail = self.head\n",
    "\n",
    "    def append(self, value: object):\n",
    "        self.tail.reference = Node(value)\n",
    "        self.tail = self.tail.reference\n",
    "    \n",
    "    def __call__(self) -> Node:\n",
    "        current_node = self.head\n",
    "        while current_node:\n",
    "            yield current_node\n",
    "            current_node = current_node.reference\n",
    "    \n",
    "    def __repr__(self) -> str:\n",
    "        \"\"\"dangerous if a lot of values\"\"\"\n",
    "        return str([x.value for x in self()])\n",
    "\n",
    "Node(0)"
   ]
  },
  {
   "cell_type": "code",
   "execution_count": 238,
   "metadata": {},
   "outputs": [
    {
     "name": "stdout",
     "output_type": "stream",
     "text": [
      "1\n",
      "Node(2)\n"
     ]
    }
   ],
   "source": [
    "value, ref = Node(value=1, reference=Node(value=2))\n",
    "print(value)\n",
    "print(ref)"
   ]
  },
  {
   "cell_type": "code",
   "execution_count": 203,
   "metadata": {},
   "outputs": [
    {
     "name": "stdout",
     "output_type": "stream",
     "text": [
      "[0, 1, 2]\n",
      "[2, 1, 0]\n"
     ]
    }
   ],
   "source": [
    "def reverse(linked_list: LinkedList):\n",
    "    previous = None\n",
    "    current = linked_list.head\n",
    "    subsequent = current.reference\n",
    "    \n",
    "    while current:\n",
    "        # swap previous/next\n",
    "        current.reference = previous\n",
    "        previous = current\n",
    "        current = subsequent\n",
    "        if subsequent:\n",
    "            subsequent = subsequent.reference\n",
    "    \n",
    "    linked_list.head = previous\n",
    "\n",
    "ll = LinkedList(0)\n",
    "ll.append(1)\n",
    "ll.append(2)\n",
    "\n",
    "print(ll)\n",
    "reverse(ll)\n",
    "print(ll)"
   ]
  },
  {
   "cell_type": "code",
   "execution_count": 204,
   "metadata": {},
   "outputs": [
    {
     "data": {
      "text/plain": [
       "0"
      ]
     },
     "execution_count": 204,
     "metadata": {},
     "output_type": "execute_result"
    }
   ],
   "source": [
    "Node(0)"
   ]
  },
  {
   "cell_type": "code",
   "execution_count": 239,
   "metadata": {},
   "outputs": [
    {
     "data": {
      "text/plain": [
       "[0, 1, 2]"
      ]
     },
     "execution_count": 239,
     "metadata": {},
     "output_type": "execute_result"
    }
   ],
   "source": [
    "def walk(node: Node):\n",
    "    if node:\n",
    "        return [node.value] + walk(node.reference)\n",
    "\n",
    "    return []\n",
    "\n",
    "ll = LinkedList(0)\n",
    "ll.append(1)\n",
    "ll.append(2)\n",
    "walk(ll.head)"
   ]
  },
  {
   "cell_type": "code",
   "execution_count": 213,
   "metadata": {},
   "outputs": [
    {
     "name": "stdout",
     "output_type": "stream",
     "text": [
      "[0, 1, 2]\n"
     ]
    },
    {
     "data": {
      "text/plain": [
       "[2, 1, 0]"
      ]
     },
     "execution_count": 213,
     "metadata": {},
     "output_type": "execute_result"
    }
   ],
   "source": [
    "def walk_reverse(node: Node):\n",
    "    if node:\n",
    "        return walk_reverse(node.reference) + [node.value]\n",
    "    return []\n",
    "\n",
    "ll = LinkedList(0)\n",
    "ll.append(1)\n",
    "ll.append(2)\n",
    "print(ll)\n",
    "walk_reverse(ll.head)"
   ]
  },
  {
   "cell_type": "code",
   "execution_count": 228,
   "metadata": {},
   "outputs": [
    {
     "name": "stdout",
     "output_type": "stream",
     "text": [
      "[0, 1, 2]\n",
      "[2, 1, 0]\n"
     ]
    }
   ],
   "source": [
    "def reverse_recursive(linked_list: LinkedList,\n",
    "                      node: Node | None = None,\n",
    "                      previous: Node | None = None,\n",
    "                      subsequent: Node | None = None):\n",
    "    if not node:\n",
    "        node = linked_list.head\n",
    "    subsequent = node.reference\n",
    "    node.reference = previous\n",
    "\n",
    "    if subsequent:\n",
    "        reverse_recursive(\n",
    "            linked_list=linked_list,\n",
    "            node=subsequent,\n",
    "            previous = node,\n",
    "            subsequent=subsequent.reference\n",
    "        )\n",
    "    else:\n",
    "        linked_list.head = node\n",
    "    \n",
    "ll = LinkedList(0)\n",
    "ll.append(1)\n",
    "ll.append(2)\n",
    "\n",
    "print(ll)\n",
    "reverse_recursive(ll)\n",
    "print(ll)"
   ]
  },
  {
   "cell_type": "code",
   "execution_count": 242,
   "metadata": {},
   "outputs": [
    {
     "data": {
      "text/plain": [
       "[(0, 0), (1, 1), (2, 2), (3, 3), (4, 4)]"
      ]
     },
     "execution_count": 242,
     "metadata": {},
     "output_type": "execute_result"
    }
   ],
   "source": [
    "[(x, y) for x, y in enumerate(range(5))]"
   ]
  },
  {
   "cell_type": "code",
   "execution_count": 245,
   "metadata": {},
   "outputs": [
    {
     "data": {
      "text/plain": [
       "['A', 'B', 'C', 'D', 'E', 'F']"
      ]
     },
     "execution_count": 245,
     "metadata": {},
     "output_type": "execute_result"
    }
   ],
   "source": [
    "from itertools import chain\n",
    "list(chain('ABC', 'DEF'))"
   ]
  },
  {
   "cell_type": "code",
   "execution_count": 259,
   "metadata": {},
   "outputs": [
    {
     "data": {
      "text/plain": [
       "'    asdf'"
      ]
     },
     "execution_count": 259,
     "metadata": {},
     "output_type": "execute_result"
    }
   ],
   "source": [
    "f\"{'':>4}{'asdf'}\""
   ]
  },
  {
   "cell_type": "code",
   "execution_count": 262,
   "metadata": {},
   "outputs": [
    {
     "name": "stderr",
     "output_type": "stream",
     "text": [
      "/tmp/ipykernel_57368/1852703198.py:4: FutureWarning: The default dtype for empty Series will be 'object' instead of 'float64' in a future version. Specify a dtype explicitly to silence this warning.\n",
      "  isinstance(pd.Series(), Iterable)\n"
     ]
    },
    {
     "data": {
      "text/plain": [
       "True"
      ]
     },
     "execution_count": 262,
     "metadata": {},
     "output_type": "execute_result"
    }
   ],
   "source": [
    "from typing import Iterable\n",
    "import pandas as pd\n",
    "\n",
    "isinstance(pd.Series(), Iterable)"
   ]
  },
  {
   "cell_type": "code",
   "execution_count": 263,
   "metadata": {},
   "outputs": [
    {
     "ename": "AttributeError",
     "evalue": "type object 'datetime.date' has no attribute 'date'",
     "output_type": "error",
     "traceback": [
      "\u001b[0;31m---------------------------------------------------------------------------\u001b[0m",
      "\u001b[0;31mAttributeError\u001b[0m                            Traceback (most recent call last)",
      "\u001b[1;32m/code/examples/fluent-python-2ed/fluent-python.ipynb Cell 107\u001b[0m in \u001b[0;36m<cell line: 3>\u001b[0;34m()\u001b[0m\n\u001b[1;32m      <a href='vscode-notebook-cell://attached-container%2B7b22636f6e7461696e65724e616d65223a222f707974686f6e2d6578616d706c65732d626173682d31227d/code/examples/fluent-python-2ed/fluent-python.ipynb#ch0000129vscode-remote?line=0'>1</a>\u001b[0m \u001b[39mfrom\u001b[39;00m \u001b[39mdatetime\u001b[39;00m \u001b[39mimport\u001b[39;00m date\n\u001b[0;32m----> <a href='vscode-notebook-cell://attached-container%2B7b22636f6e7461696e65724e616d65223a222f707974686f6e2d6578616d706c65732d626173682d31227d/code/examples/fluent-python-2ed/fluent-python.ipynb#ch0000129vscode-remote?line=2'>3</a>\u001b[0m date\u001b[39m.\u001b[39;49mdate()\n",
      "\u001b[0;31mAttributeError\u001b[0m: type object 'datetime.date' has no attribute 'date'"
     ]
    }
   ],
   "source": [
    "from datetime import date\n",
    "\n",
    "date.date()"
   ]
  },
  {
   "cell_type": "code",
   "execution_count": null,
   "metadata": {},
   "outputs": [],
   "source": []
  }
 ],
 "metadata": {
  "kernelspec": {
   "display_name": "Python 3.10.5 64-bit",
   "language": "python",
   "name": "python3"
  },
  "language_info": {
   "codemirror_mode": {
    "name": "ipython",
    "version": 3
   },
   "file_extension": ".py",
   "mimetype": "text/x-python",
   "name": "python",
   "nbconvert_exporter": "python",
   "pygments_lexer": "ipython3",
   "version": "3.10.5"
  },
  "orig_nbformat": 4,
  "vscode": {
   "interpreter": {
    "hash": "949777d72b0d2535278d3dc13498b2535136f6dfe0678499012e853ee9abcab1"
   }
  }
 },
 "nbformat": 4,
 "nbformat_minor": 2
}
