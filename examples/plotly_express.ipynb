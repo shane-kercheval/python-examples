{
 "cells": [
  {
   "cell_type": "code",
   "execution_count": 1,
   "metadata": {},
   "outputs": [],
   "source": [
    "#import helpsk as hlp\n",
    "#import matplotlib.pyplot as plt\n",
    "import plotly_express as px\n",
    "import pandas as pd\n",
    "import numpy as np\n",
    "from sklearn.datasets import fetch_openml\n",
    "#from vega_datasets import data\n",
    "# data.list_datasets()\n",
    "# import seaborn as sns\n",
    "\n",
    "# %matplotlib inline"
   ]
  },
  {
   "cell_type": "code",
   "execution_count": 2,
   "metadata": {},
   "outputs": [],
   "source": [
    "from typing import Optional\n",
    "\n",
    "def plotly_title(title: str, subtitle: Optional[str] = None) -> str:\n",
    "    \"\"\"Formats title and subtitle for plotly graphs.\"\"\"\n",
    "    if subtitle:\n",
    "        return f'{title}<br><sup>{subtitle}</sup>'\n",
    "    else:\n",
    "        return title\n",
    "\n",
    "def px_log_10_axis(fig, axis='x', min_value=-10, max_value=20, step=1):\n",
    "    \"\"\"\n",
    "    Use this function to transform the ticks/labels of the x-axis of a plotly-express graph to\n",
    "    log10.\n",
    "\n",
    "    Example:\n",
    "\n",
    "    ```\n",
    "    fig = px.histogram(\n",
    "        np.log10(values),\n",
    "        title=\"Histogram of 'values' (Log10)\"\n",
    "    )\n",
    "    px_log_10_x_axis(fig)\n",
    "    ```\n",
    "    \"\"\"\n",
    "    values = list(range(min_value, max_value, step))\n",
    "    axis_value = dict(\n",
    "        tickvals=values,\n",
    "        ticktext=[10 ** x for x in values],\n",
    "    )\n",
    "    if axis == 'x':\n",
    "        fig.update_layout(xaxis=axis_value)\n",
    "    else:\n",
    "        fig.update_layout(yaxis=axis_value)\n",
    "    return fig\n",
    "\n",
    "\n",
    "def px_3d_log_10_axis(fig, axis='x', min_value=-10, max_value=20, step=1):\n",
    "    \"\"\"\n",
    "    Use this function to transform the ticks/labels of the x-axis of a plotly-express scatter_3d\n",
    "    graph to log10.\n",
    "\n",
    "    Example:\n",
    "\n",
    "    ```\n",
    "    fig = px.histogram(\n",
    "        np.log10(values),\n",
    "        title=\"Histogram of 'values' (Log10)\"\n",
    "    )\n",
    "    px_log_10_x_axis(fig)\n",
    "    ```\n",
    "    \"\"\"\n",
    "    values = list(range(min_value, max_value, step))\n",
    "    axis_value = dict(\n",
    "        tickvals=values,\n",
    "        ticktext=[10 ** x for x in values],\n",
    "    )\n",
    "    if axis == 'x':\n",
    "        fig.update_scenes(xaxis=axis_value)\n",
    "    elif axis == 'y':\n",
    "        fig.update_scenes(yaxis=axis_value)\n",
    "    else:\n",
    "        fig.update_scenes(zaxis=axis_value)\n",
    "    return fig\n"
   ]
  },
  {
   "cell_type": "code",
   "execution_count": 3,
   "metadata": {},
   "outputs": [
    {
     "name": "stderr",
     "output_type": "stream",
     "text": [
      "/Users/shanekercheval/opt/anaconda3/envs/package_recommendations/lib/python3.10/site-packages/sklearn/datasets/_openml.py:932: FutureWarning: The default value of `parser` will change from `'liac-arff'` to `'auto'` in 1.4. You can set `parser='auto'` to silence this warning. Therefore, an `ImportError` will be raised from 1.4 if the dataset is dense and pandas is not installed. Note that the pandas parser may return different data types. See the Notes Section in fetch_openml's API doc for details.\n",
      "  warn(\n"
     ]
    },
    {
     "data": {
      "text/plain": [
       "(1000, 21)"
      ]
     },
     "execution_count": 3,
     "metadata": {},
     "output_type": "execute_result"
    }
   ],
   "source": [
    "#https://www.openml.org/d/31\n",
    "credit_g = fetch_openml('credit-g', version=1)\n",
    "credit_data = credit_g['data']\n",
    "credit_data['target'] = credit_g['target']\n",
    "credit_data.shape"
   ]
  },
  {
   "cell_type": "code",
   "execution_count": 4,
   "metadata": {},
   "outputs": [
    {
     "data": {
      "text/html": [
       "<div>\n",
       "<style scoped>\n",
       "    .dataframe tbody tr th:only-of-type {\n",
       "        vertical-align: middle;\n",
       "    }\n",
       "\n",
       "    .dataframe tbody tr th {\n",
       "        vertical-align: top;\n",
       "    }\n",
       "\n",
       "    .dataframe thead th {\n",
       "        text-align: right;\n",
       "    }\n",
       "</style>\n",
       "<table border=\"1\" class=\"dataframe\">\n",
       "  <thead>\n",
       "    <tr style=\"text-align: right;\">\n",
       "      <th></th>\n",
       "      <th>checking_status</th>\n",
       "      <th>duration</th>\n",
       "      <th>credit_history</th>\n",
       "      <th>purpose</th>\n",
       "      <th>credit_amount</th>\n",
       "      <th>savings_status</th>\n",
       "      <th>employment</th>\n",
       "      <th>installment_commitment</th>\n",
       "      <th>personal_status</th>\n",
       "      <th>other_parties</th>\n",
       "      <th>...</th>\n",
       "      <th>property_magnitude</th>\n",
       "      <th>age</th>\n",
       "      <th>other_payment_plans</th>\n",
       "      <th>housing</th>\n",
       "      <th>existing_credits</th>\n",
       "      <th>job</th>\n",
       "      <th>num_dependents</th>\n",
       "      <th>own_telephone</th>\n",
       "      <th>foreign_worker</th>\n",
       "      <th>target</th>\n",
       "    </tr>\n",
       "  </thead>\n",
       "  <tbody>\n",
       "    <tr>\n",
       "      <th>0</th>\n",
       "      <td>&lt;0</td>\n",
       "      <td>6.0</td>\n",
       "      <td>critical/other existing credit</td>\n",
       "      <td>radio/tv</td>\n",
       "      <td>1169.0</td>\n",
       "      <td>no known savings</td>\n",
       "      <td>&gt;=7</td>\n",
       "      <td>4.0</td>\n",
       "      <td>male single</td>\n",
       "      <td>none</td>\n",
       "      <td>...</td>\n",
       "      <td>real estate</td>\n",
       "      <td>67.0</td>\n",
       "      <td>none</td>\n",
       "      <td>own</td>\n",
       "      <td>2.0</td>\n",
       "      <td>skilled</td>\n",
       "      <td>1.0</td>\n",
       "      <td>yes</td>\n",
       "      <td>yes</td>\n",
       "      <td>good</td>\n",
       "    </tr>\n",
       "    <tr>\n",
       "      <th>1</th>\n",
       "      <td>0&lt;=X&lt;200</td>\n",
       "      <td>48.0</td>\n",
       "      <td>existing paid</td>\n",
       "      <td>radio/tv</td>\n",
       "      <td>5951.0</td>\n",
       "      <td>&lt;100</td>\n",
       "      <td>1&lt;=X&lt;4</td>\n",
       "      <td>2.0</td>\n",
       "      <td>female div/dep/mar</td>\n",
       "      <td>none</td>\n",
       "      <td>...</td>\n",
       "      <td>real estate</td>\n",
       "      <td>22.0</td>\n",
       "      <td>none</td>\n",
       "      <td>own</td>\n",
       "      <td>1.0</td>\n",
       "      <td>skilled</td>\n",
       "      <td>1.0</td>\n",
       "      <td>none</td>\n",
       "      <td>yes</td>\n",
       "      <td>bad</td>\n",
       "    </tr>\n",
       "    <tr>\n",
       "      <th>2</th>\n",
       "      <td>no checking</td>\n",
       "      <td>12.0</td>\n",
       "      <td>critical/other existing credit</td>\n",
       "      <td>education</td>\n",
       "      <td>2096.0</td>\n",
       "      <td>&lt;100</td>\n",
       "      <td>4&lt;=X&lt;7</td>\n",
       "      <td>2.0</td>\n",
       "      <td>male single</td>\n",
       "      <td>none</td>\n",
       "      <td>...</td>\n",
       "      <td>real estate</td>\n",
       "      <td>49.0</td>\n",
       "      <td>none</td>\n",
       "      <td>own</td>\n",
       "      <td>1.0</td>\n",
       "      <td>unskilled resident</td>\n",
       "      <td>2.0</td>\n",
       "      <td>none</td>\n",
       "      <td>yes</td>\n",
       "      <td>good</td>\n",
       "    </tr>\n",
       "    <tr>\n",
       "      <th>3</th>\n",
       "      <td>&lt;0</td>\n",
       "      <td>42.0</td>\n",
       "      <td>existing paid</td>\n",
       "      <td>furniture/equipment</td>\n",
       "      <td>7882.0</td>\n",
       "      <td>&lt;100</td>\n",
       "      <td>4&lt;=X&lt;7</td>\n",
       "      <td>2.0</td>\n",
       "      <td>male single</td>\n",
       "      <td>guarantor</td>\n",
       "      <td>...</td>\n",
       "      <td>life insurance</td>\n",
       "      <td>45.0</td>\n",
       "      <td>none</td>\n",
       "      <td>for free</td>\n",
       "      <td>1.0</td>\n",
       "      <td>skilled</td>\n",
       "      <td>2.0</td>\n",
       "      <td>none</td>\n",
       "      <td>yes</td>\n",
       "      <td>good</td>\n",
       "    </tr>\n",
       "    <tr>\n",
       "      <th>4</th>\n",
       "      <td>&lt;0</td>\n",
       "      <td>24.0</td>\n",
       "      <td>delayed previously</td>\n",
       "      <td>new car</td>\n",
       "      <td>4870.0</td>\n",
       "      <td>&lt;100</td>\n",
       "      <td>1&lt;=X&lt;4</td>\n",
       "      <td>3.0</td>\n",
       "      <td>male single</td>\n",
       "      <td>none</td>\n",
       "      <td>...</td>\n",
       "      <td>no known property</td>\n",
       "      <td>53.0</td>\n",
       "      <td>none</td>\n",
       "      <td>for free</td>\n",
       "      <td>2.0</td>\n",
       "      <td>skilled</td>\n",
       "      <td>2.0</td>\n",
       "      <td>none</td>\n",
       "      <td>yes</td>\n",
       "      <td>bad</td>\n",
       "    </tr>\n",
       "  </tbody>\n",
       "</table>\n",
       "<p>5 rows × 21 columns</p>\n",
       "</div>"
      ],
      "text/plain": [
       "  checking_status  duration                  credit_history  \\\n",
       "0              <0       6.0  critical/other existing credit   \n",
       "1        0<=X<200      48.0                   existing paid   \n",
       "2     no checking      12.0  critical/other existing credit   \n",
       "3              <0      42.0                   existing paid   \n",
       "4              <0      24.0              delayed previously   \n",
       "\n",
       "               purpose  credit_amount    savings_status employment  \\\n",
       "0             radio/tv         1169.0  no known savings        >=7   \n",
       "1             radio/tv         5951.0              <100     1<=X<4   \n",
       "2            education         2096.0              <100     4<=X<7   \n",
       "3  furniture/equipment         7882.0              <100     4<=X<7   \n",
       "4              new car         4870.0              <100     1<=X<4   \n",
       "\n",
       "   installment_commitment     personal_status other_parties  ...  \\\n",
       "0                     4.0         male single          none  ...   \n",
       "1                     2.0  female div/dep/mar          none  ...   \n",
       "2                     2.0         male single          none  ...   \n",
       "3                     2.0         male single     guarantor  ...   \n",
       "4                     3.0         male single          none  ...   \n",
       "\n",
       "   property_magnitude   age  other_payment_plans   housing existing_credits  \\\n",
       "0         real estate  67.0                 none       own              2.0   \n",
       "1         real estate  22.0                 none       own              1.0   \n",
       "2         real estate  49.0                 none       own              1.0   \n",
       "3      life insurance  45.0                 none  for free              1.0   \n",
       "4   no known property  53.0                 none  for free              2.0   \n",
       "\n",
       "                  job num_dependents  own_telephone foreign_worker target  \n",
       "0             skilled            1.0            yes            yes   good  \n",
       "1             skilled            1.0           none            yes    bad  \n",
       "2  unskilled resident            2.0           none            yes   good  \n",
       "3             skilled            2.0           none            yes   good  \n",
       "4             skilled            2.0           none            yes    bad  \n",
       "\n",
       "[5 rows x 21 columns]"
      ]
     },
     "execution_count": 4,
     "metadata": {},
     "output_type": "execute_result"
    }
   ],
   "source": [
    "credit_data.head()"
   ]
  },
  {
   "cell_type": "code",
   "execution_count": 5,
   "metadata": {},
   "outputs": [
    {
     "data": {
      "application/vnd.plotly.v1+json": {
       "config": {
        "plotlyServerURL": "https://plot.ly"
       },
       "data": [
        {
         "alignmentgroup": "True",
         "hovertemplate": "target=bad<br>credit_history=%{x}<br># of Opps=%{text}<extra></extra>",
         "legendgroup": "bad",
         "marker": {
          "color": "#636efa",
          "pattern": {
           "shape": ""
          }
         },
         "name": "bad",
         "offsetgroup": "bad",
         "orientation": "v",
         "showlegend": true,
         "text": [
          28,
          50,
          28,
          169,
          25
         ],
         "textposition": "inside",
         "type": "bar",
         "x": [
          "all paid",
          "critical/other existing credit",
          "delayed previously",
          "existing paid",
          "no credits/all paid"
         ],
         "xaxis": "x",
         "y": [
          28,
          50,
          28,
          169,
          25
         ],
         "yaxis": "y"
        },
        {
         "alignmentgroup": "True",
         "hovertemplate": "target=good<br>credit_history=%{x}<br># of Opps=%{text}<extra></extra>",
         "legendgroup": "good",
         "marker": {
          "color": "#EF553B",
          "pattern": {
           "shape": ""
          }
         },
         "name": "good",
         "offsetgroup": "good",
         "orientation": "v",
         "showlegend": true,
         "text": [
          21,
          243,
          60,
          361,
          15
         ],
         "textposition": "inside",
         "type": "bar",
         "x": [
          "all paid",
          "critical/other existing credit",
          "delayed previously",
          "existing paid",
          "no credits/all paid"
         ],
         "xaxis": "x",
         "y": [
          21,
          243,
          60,
          361,
          15
         ],
         "yaxis": "y"
        }
       ],
       "layout": {
        "barmode": "relative",
        "legend": {
         "title": {
          "text": "target"
         },
         "tracegroupgap": 0
        },
        "template": {
         "data": {
          "bar": [
           {
            "error_x": {
             "color": "#2a3f5f"
            },
            "error_y": {
             "color": "#2a3f5f"
            },
            "marker": {
             "line": {
              "color": "#E5ECF6",
              "width": 0.5
             },
             "pattern": {
              "fillmode": "overlay",
              "size": 10,
              "solidity": 0.2
             }
            },
            "type": "bar"
           }
          ],
          "barpolar": [
           {
            "marker": {
             "line": {
              "color": "#E5ECF6",
              "width": 0.5
             },
             "pattern": {
              "fillmode": "overlay",
              "size": 10,
              "solidity": 0.2
             }
            },
            "type": "barpolar"
           }
          ],
          "carpet": [
           {
            "aaxis": {
             "endlinecolor": "#2a3f5f",
             "gridcolor": "white",
             "linecolor": "white",
             "minorgridcolor": "white",
             "startlinecolor": "#2a3f5f"
            },
            "baxis": {
             "endlinecolor": "#2a3f5f",
             "gridcolor": "white",
             "linecolor": "white",
             "minorgridcolor": "white",
             "startlinecolor": "#2a3f5f"
            },
            "type": "carpet"
           }
          ],
          "choropleth": [
           {
            "colorbar": {
             "outlinewidth": 0,
             "ticks": ""
            },
            "type": "choropleth"
           }
          ],
          "contour": [
           {
            "colorbar": {
             "outlinewidth": 0,
             "ticks": ""
            },
            "colorscale": [
             [
              0,
              "#0d0887"
             ],
             [
              0.1111111111111111,
              "#46039f"
             ],
             [
              0.2222222222222222,
              "#7201a8"
             ],
             [
              0.3333333333333333,
              "#9c179e"
             ],
             [
              0.4444444444444444,
              "#bd3786"
             ],
             [
              0.5555555555555556,
              "#d8576b"
             ],
             [
              0.6666666666666666,
              "#ed7953"
             ],
             [
              0.7777777777777778,
              "#fb9f3a"
             ],
             [
              0.8888888888888888,
              "#fdca26"
             ],
             [
              1,
              "#f0f921"
             ]
            ],
            "type": "contour"
           }
          ],
          "contourcarpet": [
           {
            "colorbar": {
             "outlinewidth": 0,
             "ticks": ""
            },
            "type": "contourcarpet"
           }
          ],
          "heatmap": [
           {
            "colorbar": {
             "outlinewidth": 0,
             "ticks": ""
            },
            "colorscale": [
             [
              0,
              "#0d0887"
             ],
             [
              0.1111111111111111,
              "#46039f"
             ],
             [
              0.2222222222222222,
              "#7201a8"
             ],
             [
              0.3333333333333333,
              "#9c179e"
             ],
             [
              0.4444444444444444,
              "#bd3786"
             ],
             [
              0.5555555555555556,
              "#d8576b"
             ],
             [
              0.6666666666666666,
              "#ed7953"
             ],
             [
              0.7777777777777778,
              "#fb9f3a"
             ],
             [
              0.8888888888888888,
              "#fdca26"
             ],
             [
              1,
              "#f0f921"
             ]
            ],
            "type": "heatmap"
           }
          ],
          "heatmapgl": [
           {
            "colorbar": {
             "outlinewidth": 0,
             "ticks": ""
            },
            "colorscale": [
             [
              0,
              "#0d0887"
             ],
             [
              0.1111111111111111,
              "#46039f"
             ],
             [
              0.2222222222222222,
              "#7201a8"
             ],
             [
              0.3333333333333333,
              "#9c179e"
             ],
             [
              0.4444444444444444,
              "#bd3786"
             ],
             [
              0.5555555555555556,
              "#d8576b"
             ],
             [
              0.6666666666666666,
              "#ed7953"
             ],
             [
              0.7777777777777778,
              "#fb9f3a"
             ],
             [
              0.8888888888888888,
              "#fdca26"
             ],
             [
              1,
              "#f0f921"
             ]
            ],
            "type": "heatmapgl"
           }
          ],
          "histogram": [
           {
            "marker": {
             "pattern": {
              "fillmode": "overlay",
              "size": 10,
              "solidity": 0.2
             }
            },
            "type": "histogram"
           }
          ],
          "histogram2d": [
           {
            "colorbar": {
             "outlinewidth": 0,
             "ticks": ""
            },
            "colorscale": [
             [
              0,
              "#0d0887"
             ],
             [
              0.1111111111111111,
              "#46039f"
             ],
             [
              0.2222222222222222,
              "#7201a8"
             ],
             [
              0.3333333333333333,
              "#9c179e"
             ],
             [
              0.4444444444444444,
              "#bd3786"
             ],
             [
              0.5555555555555556,
              "#d8576b"
             ],
             [
              0.6666666666666666,
              "#ed7953"
             ],
             [
              0.7777777777777778,
              "#fb9f3a"
             ],
             [
              0.8888888888888888,
              "#fdca26"
             ],
             [
              1,
              "#f0f921"
             ]
            ],
            "type": "histogram2d"
           }
          ],
          "histogram2dcontour": [
           {
            "colorbar": {
             "outlinewidth": 0,
             "ticks": ""
            },
            "colorscale": [
             [
              0,
              "#0d0887"
             ],
             [
              0.1111111111111111,
              "#46039f"
             ],
             [
              0.2222222222222222,
              "#7201a8"
             ],
             [
              0.3333333333333333,
              "#9c179e"
             ],
             [
              0.4444444444444444,
              "#bd3786"
             ],
             [
              0.5555555555555556,
              "#d8576b"
             ],
             [
              0.6666666666666666,
              "#ed7953"
             ],
             [
              0.7777777777777778,
              "#fb9f3a"
             ],
             [
              0.8888888888888888,
              "#fdca26"
             ],
             [
              1,
              "#f0f921"
             ]
            ],
            "type": "histogram2dcontour"
           }
          ],
          "mesh3d": [
           {
            "colorbar": {
             "outlinewidth": 0,
             "ticks": ""
            },
            "type": "mesh3d"
           }
          ],
          "parcoords": [
           {
            "line": {
             "colorbar": {
              "outlinewidth": 0,
              "ticks": ""
             }
            },
            "type": "parcoords"
           }
          ],
          "pie": [
           {
            "automargin": true,
            "type": "pie"
           }
          ],
          "scatter": [
           {
            "fillpattern": {
             "fillmode": "overlay",
             "size": 10,
             "solidity": 0.2
            },
            "type": "scatter"
           }
          ],
          "scatter3d": [
           {
            "line": {
             "colorbar": {
              "outlinewidth": 0,
              "ticks": ""
             }
            },
            "marker": {
             "colorbar": {
              "outlinewidth": 0,
              "ticks": ""
             }
            },
            "type": "scatter3d"
           }
          ],
          "scattercarpet": [
           {
            "marker": {
             "colorbar": {
              "outlinewidth": 0,
              "ticks": ""
             }
            },
            "type": "scattercarpet"
           }
          ],
          "scattergeo": [
           {
            "marker": {
             "colorbar": {
              "outlinewidth": 0,
              "ticks": ""
             }
            },
            "type": "scattergeo"
           }
          ],
          "scattergl": [
           {
            "marker": {
             "colorbar": {
              "outlinewidth": 0,
              "ticks": ""
             }
            },
            "type": "scattergl"
           }
          ],
          "scattermapbox": [
           {
            "marker": {
             "colorbar": {
              "outlinewidth": 0,
              "ticks": ""
             }
            },
            "type": "scattermapbox"
           }
          ],
          "scatterpolar": [
           {
            "marker": {
             "colorbar": {
              "outlinewidth": 0,
              "ticks": ""
             }
            },
            "type": "scatterpolar"
           }
          ],
          "scatterpolargl": [
           {
            "marker": {
             "colorbar": {
              "outlinewidth": 0,
              "ticks": ""
             }
            },
            "type": "scatterpolargl"
           }
          ],
          "scatterternary": [
           {
            "marker": {
             "colorbar": {
              "outlinewidth": 0,
              "ticks": ""
             }
            },
            "type": "scatterternary"
           }
          ],
          "surface": [
           {
            "colorbar": {
             "outlinewidth": 0,
             "ticks": ""
            },
            "colorscale": [
             [
              0,
              "#0d0887"
             ],
             [
              0.1111111111111111,
              "#46039f"
             ],
             [
              0.2222222222222222,
              "#7201a8"
             ],
             [
              0.3333333333333333,
              "#9c179e"
             ],
             [
              0.4444444444444444,
              "#bd3786"
             ],
             [
              0.5555555555555556,
              "#d8576b"
             ],
             [
              0.6666666666666666,
              "#ed7953"
             ],
             [
              0.7777777777777778,
              "#fb9f3a"
             ],
             [
              0.8888888888888888,
              "#fdca26"
             ],
             [
              1,
              "#f0f921"
             ]
            ],
            "type": "surface"
           }
          ],
          "table": [
           {
            "cells": {
             "fill": {
              "color": "#EBF0F8"
             },
             "line": {
              "color": "white"
             }
            },
            "header": {
             "fill": {
              "color": "#C8D4E3"
             },
             "line": {
              "color": "white"
             }
            },
            "type": "table"
           }
          ]
         },
         "layout": {
          "annotationdefaults": {
           "arrowcolor": "#2a3f5f",
           "arrowhead": 0,
           "arrowwidth": 1
          },
          "autotypenumbers": "strict",
          "coloraxis": {
           "colorbar": {
            "outlinewidth": 0,
            "ticks": ""
           }
          },
          "colorscale": {
           "diverging": [
            [
             0,
             "#8e0152"
            ],
            [
             0.1,
             "#c51b7d"
            ],
            [
             0.2,
             "#de77ae"
            ],
            [
             0.3,
             "#f1b6da"
            ],
            [
             0.4,
             "#fde0ef"
            ],
            [
             0.5,
             "#f7f7f7"
            ],
            [
             0.6,
             "#e6f5d0"
            ],
            [
             0.7,
             "#b8e186"
            ],
            [
             0.8,
             "#7fbc41"
            ],
            [
             0.9,
             "#4d9221"
            ],
            [
             1,
             "#276419"
            ]
           ],
           "sequential": [
            [
             0,
             "#0d0887"
            ],
            [
             0.1111111111111111,
             "#46039f"
            ],
            [
             0.2222222222222222,
             "#7201a8"
            ],
            [
             0.3333333333333333,
             "#9c179e"
            ],
            [
             0.4444444444444444,
             "#bd3786"
            ],
            [
             0.5555555555555556,
             "#d8576b"
            ],
            [
             0.6666666666666666,
             "#ed7953"
            ],
            [
             0.7777777777777778,
             "#fb9f3a"
            ],
            [
             0.8888888888888888,
             "#fdca26"
            ],
            [
             1,
             "#f0f921"
            ]
           ],
           "sequentialminus": [
            [
             0,
             "#0d0887"
            ],
            [
             0.1111111111111111,
             "#46039f"
            ],
            [
             0.2222222222222222,
             "#7201a8"
            ],
            [
             0.3333333333333333,
             "#9c179e"
            ],
            [
             0.4444444444444444,
             "#bd3786"
            ],
            [
             0.5555555555555556,
             "#d8576b"
            ],
            [
             0.6666666666666666,
             "#ed7953"
            ],
            [
             0.7777777777777778,
             "#fb9f3a"
            ],
            [
             0.8888888888888888,
             "#fdca26"
            ],
            [
             1,
             "#f0f921"
            ]
           ]
          },
          "colorway": [
           "#636efa",
           "#EF553B",
           "#00cc96",
           "#ab63fa",
           "#FFA15A",
           "#19d3f3",
           "#FF6692",
           "#B6E880",
           "#FF97FF",
           "#FECB52"
          ],
          "font": {
           "color": "#2a3f5f"
          },
          "geo": {
           "bgcolor": "white",
           "lakecolor": "white",
           "landcolor": "#E5ECF6",
           "showlakes": true,
           "showland": true,
           "subunitcolor": "white"
          },
          "hoverlabel": {
           "align": "left"
          },
          "hovermode": "closest",
          "mapbox": {
           "style": "light"
          },
          "paper_bgcolor": "white",
          "plot_bgcolor": "#E5ECF6",
          "polar": {
           "angularaxis": {
            "gridcolor": "white",
            "linecolor": "white",
            "ticks": ""
           },
           "bgcolor": "#E5ECF6",
           "radialaxis": {
            "gridcolor": "white",
            "linecolor": "white",
            "ticks": ""
           }
          },
          "scene": {
           "xaxis": {
            "backgroundcolor": "#E5ECF6",
            "gridcolor": "white",
            "gridwidth": 2,
            "linecolor": "white",
            "showbackground": true,
            "ticks": "",
            "zerolinecolor": "white"
           },
           "yaxis": {
            "backgroundcolor": "#E5ECF6",
            "gridcolor": "white",
            "gridwidth": 2,
            "linecolor": "white",
            "showbackground": true,
            "ticks": "",
            "zerolinecolor": "white"
           },
           "zaxis": {
            "backgroundcolor": "#E5ECF6",
            "gridcolor": "white",
            "gridwidth": 2,
            "linecolor": "white",
            "showbackground": true,
            "ticks": "",
            "zerolinecolor": "white"
           }
          },
          "shapedefaults": {
           "line": {
            "color": "#2a3f5f"
           }
          },
          "ternary": {
           "aaxis": {
            "gridcolor": "white",
            "linecolor": "white",
            "ticks": ""
           },
           "baxis": {
            "gridcolor": "white",
            "linecolor": "white",
            "ticks": ""
           },
           "bgcolor": "#E5ECF6",
           "caxis": {
            "gridcolor": "white",
            "linecolor": "white",
            "ticks": ""
           }
          },
          "title": {
           "x": 0.05
          },
          "xaxis": {
           "automargin": true,
           "gridcolor": "white",
           "linecolor": "white",
           "ticks": "",
           "title": {
            "standoff": 15
           },
           "zerolinecolor": "white",
           "zerolinewidth": 2
          },
          "yaxis": {
           "automargin": true,
           "gridcolor": "white",
           "linecolor": "white",
           "ticks": "",
           "title": {
            "standoff": 15
           },
           "zerolinecolor": "white",
           "zerolinewidth": 2
          }
         }
        },
        "title": {
         "text": "Main Title<br><sup>Subtitle</sup>"
        },
        "xaxis": {
         "anchor": "y",
         "domain": [
          0,
          1
         ],
         "title": {
          "text": "credit_history"
         }
        },
        "yaxis": {
         "anchor": "x",
         "domain": [
          0,
          1
         ],
         "title": {
          "text": "# of Opps"
         }
        }
       }
      }
     },
     "metadata": {},
     "output_type": "display_data"
    }
   ],
   "source": [
    "#opps.group\n",
    "fig = px.bar(\n",
    "    credit_data.groupby(['credit_history', 'target']).size().reset_index(),\n",
    "    x='credit_history',\n",
    "    y=0,\n",
    "    color='target',\n",
    "    title=plotly_title(\n",
    "        title=\"Main Title\",\n",
    "        subtitle=\"Subtitle\"\n",
    "    ),\n",
    "    labels={\n",
    "        'arr_difference': \"ARR VARIANCE\",\n",
    "        '0': '# of Opps'\n",
    "    },\n",
    "    #markers=True,\n",
    "    text=0,\n",
    ")\n",
    "fig.update_traces(textposition=\"inside\")"
   ]
  },
  {
   "cell_type": "markdown",
   "metadata": {},
   "source": [
    "---"
   ]
  },
  {
   "cell_type": "code",
   "execution_count": 6,
   "metadata": {},
   "outputs": [
    {
     "data": {
      "application/vnd.plotly.v1+json": {
       "config": {
        "plotlyServerURL": "https://plot.ly"
       },
       "data": [
        {
         "alignmentgroup": "True",
         "hovertemplate": "target=bad<br>credit_history=%{x}<br>Count=%{y}<br>__Text=%{text}<extra></extra>",
         "legendgroup": "bad",
         "marker": {
          "color": "#636efa",
          "pattern": {
           "shape": ""
          }
         },
         "name": "bad",
         "offsetgroup": "bad",
         "orientation": "v",
         "showlegend": true,
         "text": [
          "28 (57.1%)",
          "50 (17.1%)",
          "28 (31.8%)",
          "169 (31.9%)",
          "25 (62.5%)"
         ],
         "textposition": "auto",
         "type": "bar",
         "x": [
          "all paid",
          "critical/other existing credit",
          "delayed previously",
          "existing paid",
          "no credits/all paid"
         ],
         "xaxis": "x",
         "y": [
          28,
          50,
          28,
          169,
          25
         ],
         "yaxis": "y"
        },
        {
         "alignmentgroup": "True",
         "hovertemplate": "target=good<br>credit_history=%{x}<br>Count=%{y}<br>__Text=%{text}<extra></extra>",
         "legendgroup": "good",
         "marker": {
          "color": "#EF553B",
          "pattern": {
           "shape": ""
          }
         },
         "name": "good",
         "offsetgroup": "good",
         "orientation": "v",
         "showlegend": true,
         "text": [
          "21 (42.9%)",
          "243 (82.9%)",
          "60 (68.2%)",
          "361 (68.1%)",
          "15 (37.5%)"
         ],
         "textposition": "auto",
         "type": "bar",
         "x": [
          "all paid",
          "critical/other existing credit",
          "delayed previously",
          "existing paid",
          "no credits/all paid"
         ],
         "xaxis": "x",
         "y": [
          21,
          243,
          60,
          361,
          15
         ],
         "yaxis": "y"
        },
        {
         "hovertemplate": "credit_history=%{x}<br>Count=%{y}<br>__Text=%{text}<extra></extra>",
         "legendgroup": "",
         "marker": {
          "color": "black",
          "symbol": "circle"
         },
         "mode": "markers+text",
         "name": "",
         "orientation": "v",
         "showlegend": false,
         "text": [
          "49 (4.9%)",
          "293 (29.3%)",
          "88 (8.8%)",
          "530 (53.0%)",
          "40 (4.0%)"
         ],
         "textposition": "top center",
         "type": "scatter",
         "x": [
          "all paid",
          "critical/other existing credit",
          "delayed previously",
          "existing paid",
          "no credits/all paid"
         ],
         "xaxis": "x",
         "y": [
          49,
          293,
          88,
          530,
          40
         ],
         "yaxis": "y"
        }
       ],
       "layout": {
        "barmode": "group",
        "legend": {
         "title": {
          "text": "target"
         },
         "tracegroupgap": 0
        },
        "template": {
         "data": {
          "bar": [
           {
            "error_x": {
             "color": "#2a3f5f"
            },
            "error_y": {
             "color": "#2a3f5f"
            },
            "marker": {
             "line": {
              "color": "#E5ECF6",
              "width": 0.5
             },
             "pattern": {
              "fillmode": "overlay",
              "size": 10,
              "solidity": 0.2
             }
            },
            "type": "bar"
           }
          ],
          "barpolar": [
           {
            "marker": {
             "line": {
              "color": "#E5ECF6",
              "width": 0.5
             },
             "pattern": {
              "fillmode": "overlay",
              "size": 10,
              "solidity": 0.2
             }
            },
            "type": "barpolar"
           }
          ],
          "carpet": [
           {
            "aaxis": {
             "endlinecolor": "#2a3f5f",
             "gridcolor": "white",
             "linecolor": "white",
             "minorgridcolor": "white",
             "startlinecolor": "#2a3f5f"
            },
            "baxis": {
             "endlinecolor": "#2a3f5f",
             "gridcolor": "white",
             "linecolor": "white",
             "minorgridcolor": "white",
             "startlinecolor": "#2a3f5f"
            },
            "type": "carpet"
           }
          ],
          "choropleth": [
           {
            "colorbar": {
             "outlinewidth": 0,
             "ticks": ""
            },
            "type": "choropleth"
           }
          ],
          "contour": [
           {
            "colorbar": {
             "outlinewidth": 0,
             "ticks": ""
            },
            "colorscale": [
             [
              0,
              "#0d0887"
             ],
             [
              0.1111111111111111,
              "#46039f"
             ],
             [
              0.2222222222222222,
              "#7201a8"
             ],
             [
              0.3333333333333333,
              "#9c179e"
             ],
             [
              0.4444444444444444,
              "#bd3786"
             ],
             [
              0.5555555555555556,
              "#d8576b"
             ],
             [
              0.6666666666666666,
              "#ed7953"
             ],
             [
              0.7777777777777778,
              "#fb9f3a"
             ],
             [
              0.8888888888888888,
              "#fdca26"
             ],
             [
              1,
              "#f0f921"
             ]
            ],
            "type": "contour"
           }
          ],
          "contourcarpet": [
           {
            "colorbar": {
             "outlinewidth": 0,
             "ticks": ""
            },
            "type": "contourcarpet"
           }
          ],
          "heatmap": [
           {
            "colorbar": {
             "outlinewidth": 0,
             "ticks": ""
            },
            "colorscale": [
             [
              0,
              "#0d0887"
             ],
             [
              0.1111111111111111,
              "#46039f"
             ],
             [
              0.2222222222222222,
              "#7201a8"
             ],
             [
              0.3333333333333333,
              "#9c179e"
             ],
             [
              0.4444444444444444,
              "#bd3786"
             ],
             [
              0.5555555555555556,
              "#d8576b"
             ],
             [
              0.6666666666666666,
              "#ed7953"
             ],
             [
              0.7777777777777778,
              "#fb9f3a"
             ],
             [
              0.8888888888888888,
              "#fdca26"
             ],
             [
              1,
              "#f0f921"
             ]
            ],
            "type": "heatmap"
           }
          ],
          "heatmapgl": [
           {
            "colorbar": {
             "outlinewidth": 0,
             "ticks": ""
            },
            "colorscale": [
             [
              0,
              "#0d0887"
             ],
             [
              0.1111111111111111,
              "#46039f"
             ],
             [
              0.2222222222222222,
              "#7201a8"
             ],
             [
              0.3333333333333333,
              "#9c179e"
             ],
             [
              0.4444444444444444,
              "#bd3786"
             ],
             [
              0.5555555555555556,
              "#d8576b"
             ],
             [
              0.6666666666666666,
              "#ed7953"
             ],
             [
              0.7777777777777778,
              "#fb9f3a"
             ],
             [
              0.8888888888888888,
              "#fdca26"
             ],
             [
              1,
              "#f0f921"
             ]
            ],
            "type": "heatmapgl"
           }
          ],
          "histogram": [
           {
            "marker": {
             "pattern": {
              "fillmode": "overlay",
              "size": 10,
              "solidity": 0.2
             }
            },
            "type": "histogram"
           }
          ],
          "histogram2d": [
           {
            "colorbar": {
             "outlinewidth": 0,
             "ticks": ""
            },
            "colorscale": [
             [
              0,
              "#0d0887"
             ],
             [
              0.1111111111111111,
              "#46039f"
             ],
             [
              0.2222222222222222,
              "#7201a8"
             ],
             [
              0.3333333333333333,
              "#9c179e"
             ],
             [
              0.4444444444444444,
              "#bd3786"
             ],
             [
              0.5555555555555556,
              "#d8576b"
             ],
             [
              0.6666666666666666,
              "#ed7953"
             ],
             [
              0.7777777777777778,
              "#fb9f3a"
             ],
             [
              0.8888888888888888,
              "#fdca26"
             ],
             [
              1,
              "#f0f921"
             ]
            ],
            "type": "histogram2d"
           }
          ],
          "histogram2dcontour": [
           {
            "colorbar": {
             "outlinewidth": 0,
             "ticks": ""
            },
            "colorscale": [
             [
              0,
              "#0d0887"
             ],
             [
              0.1111111111111111,
              "#46039f"
             ],
             [
              0.2222222222222222,
              "#7201a8"
             ],
             [
              0.3333333333333333,
              "#9c179e"
             ],
             [
              0.4444444444444444,
              "#bd3786"
             ],
             [
              0.5555555555555556,
              "#d8576b"
             ],
             [
              0.6666666666666666,
              "#ed7953"
             ],
             [
              0.7777777777777778,
              "#fb9f3a"
             ],
             [
              0.8888888888888888,
              "#fdca26"
             ],
             [
              1,
              "#f0f921"
             ]
            ],
            "type": "histogram2dcontour"
           }
          ],
          "mesh3d": [
           {
            "colorbar": {
             "outlinewidth": 0,
             "ticks": ""
            },
            "type": "mesh3d"
           }
          ],
          "parcoords": [
           {
            "line": {
             "colorbar": {
              "outlinewidth": 0,
              "ticks": ""
             }
            },
            "type": "parcoords"
           }
          ],
          "pie": [
           {
            "automargin": true,
            "type": "pie"
           }
          ],
          "scatter": [
           {
            "fillpattern": {
             "fillmode": "overlay",
             "size": 10,
             "solidity": 0.2
            },
            "type": "scatter"
           }
          ],
          "scatter3d": [
           {
            "line": {
             "colorbar": {
              "outlinewidth": 0,
              "ticks": ""
             }
            },
            "marker": {
             "colorbar": {
              "outlinewidth": 0,
              "ticks": ""
             }
            },
            "type": "scatter3d"
           }
          ],
          "scattercarpet": [
           {
            "marker": {
             "colorbar": {
              "outlinewidth": 0,
              "ticks": ""
             }
            },
            "type": "scattercarpet"
           }
          ],
          "scattergeo": [
           {
            "marker": {
             "colorbar": {
              "outlinewidth": 0,
              "ticks": ""
             }
            },
            "type": "scattergeo"
           }
          ],
          "scattergl": [
           {
            "marker": {
             "colorbar": {
              "outlinewidth": 0,
              "ticks": ""
             }
            },
            "type": "scattergl"
           }
          ],
          "scattermapbox": [
           {
            "marker": {
             "colorbar": {
              "outlinewidth": 0,
              "ticks": ""
             }
            },
            "type": "scattermapbox"
           }
          ],
          "scatterpolar": [
           {
            "marker": {
             "colorbar": {
              "outlinewidth": 0,
              "ticks": ""
             }
            },
            "type": "scatterpolar"
           }
          ],
          "scatterpolargl": [
           {
            "marker": {
             "colorbar": {
              "outlinewidth": 0,
              "ticks": ""
             }
            },
            "type": "scatterpolargl"
           }
          ],
          "scatterternary": [
           {
            "marker": {
             "colorbar": {
              "outlinewidth": 0,
              "ticks": ""
             }
            },
            "type": "scatterternary"
           }
          ],
          "surface": [
           {
            "colorbar": {
             "outlinewidth": 0,
             "ticks": ""
            },
            "colorscale": [
             [
              0,
              "#0d0887"
             ],
             [
              0.1111111111111111,
              "#46039f"
             ],
             [
              0.2222222222222222,
              "#7201a8"
             ],
             [
              0.3333333333333333,
              "#9c179e"
             ],
             [
              0.4444444444444444,
              "#bd3786"
             ],
             [
              0.5555555555555556,
              "#d8576b"
             ],
             [
              0.6666666666666666,
              "#ed7953"
             ],
             [
              0.7777777777777778,
              "#fb9f3a"
             ],
             [
              0.8888888888888888,
              "#fdca26"
             ],
             [
              1,
              "#f0f921"
             ]
            ],
            "type": "surface"
           }
          ],
          "table": [
           {
            "cells": {
             "fill": {
              "color": "#EBF0F8"
             },
             "line": {
              "color": "white"
             }
            },
            "header": {
             "fill": {
              "color": "#C8D4E3"
             },
             "line": {
              "color": "white"
             }
            },
            "type": "table"
           }
          ]
         },
         "layout": {
          "annotationdefaults": {
           "arrowcolor": "#2a3f5f",
           "arrowhead": 0,
           "arrowwidth": 1
          },
          "autotypenumbers": "strict",
          "coloraxis": {
           "colorbar": {
            "outlinewidth": 0,
            "ticks": ""
           }
          },
          "colorscale": {
           "diverging": [
            [
             0,
             "#8e0152"
            ],
            [
             0.1,
             "#c51b7d"
            ],
            [
             0.2,
             "#de77ae"
            ],
            [
             0.3,
             "#f1b6da"
            ],
            [
             0.4,
             "#fde0ef"
            ],
            [
             0.5,
             "#f7f7f7"
            ],
            [
             0.6,
             "#e6f5d0"
            ],
            [
             0.7,
             "#b8e186"
            ],
            [
             0.8,
             "#7fbc41"
            ],
            [
             0.9,
             "#4d9221"
            ],
            [
             1,
             "#276419"
            ]
           ],
           "sequential": [
            [
             0,
             "#0d0887"
            ],
            [
             0.1111111111111111,
             "#46039f"
            ],
            [
             0.2222222222222222,
             "#7201a8"
            ],
            [
             0.3333333333333333,
             "#9c179e"
            ],
            [
             0.4444444444444444,
             "#bd3786"
            ],
            [
             0.5555555555555556,
             "#d8576b"
            ],
            [
             0.6666666666666666,
             "#ed7953"
            ],
            [
             0.7777777777777778,
             "#fb9f3a"
            ],
            [
             0.8888888888888888,
             "#fdca26"
            ],
            [
             1,
             "#f0f921"
            ]
           ],
           "sequentialminus": [
            [
             0,
             "#0d0887"
            ],
            [
             0.1111111111111111,
             "#46039f"
            ],
            [
             0.2222222222222222,
             "#7201a8"
            ],
            [
             0.3333333333333333,
             "#9c179e"
            ],
            [
             0.4444444444444444,
             "#bd3786"
            ],
            [
             0.5555555555555556,
             "#d8576b"
            ],
            [
             0.6666666666666666,
             "#ed7953"
            ],
            [
             0.7777777777777778,
             "#fb9f3a"
            ],
            [
             0.8888888888888888,
             "#fdca26"
            ],
            [
             1,
             "#f0f921"
            ]
           ]
          },
          "colorway": [
           "#636efa",
           "#EF553B",
           "#00cc96",
           "#ab63fa",
           "#FFA15A",
           "#19d3f3",
           "#FF6692",
           "#B6E880",
           "#FF97FF",
           "#FECB52"
          ],
          "font": {
           "color": "#2a3f5f"
          },
          "geo": {
           "bgcolor": "white",
           "lakecolor": "white",
           "landcolor": "#E5ECF6",
           "showlakes": true,
           "showland": true,
           "subunitcolor": "white"
          },
          "hoverlabel": {
           "align": "left"
          },
          "hovermode": "closest",
          "mapbox": {
           "style": "light"
          },
          "paper_bgcolor": "white",
          "plot_bgcolor": "#E5ECF6",
          "polar": {
           "angularaxis": {
            "gridcolor": "white",
            "linecolor": "white",
            "ticks": ""
           },
           "bgcolor": "#E5ECF6",
           "radialaxis": {
            "gridcolor": "white",
            "linecolor": "white",
            "ticks": ""
           }
          },
          "scene": {
           "xaxis": {
            "backgroundcolor": "#E5ECF6",
            "gridcolor": "white",
            "gridwidth": 2,
            "linecolor": "white",
            "showbackground": true,
            "ticks": "",
            "zerolinecolor": "white"
           },
           "yaxis": {
            "backgroundcolor": "#E5ECF6",
            "gridcolor": "white",
            "gridwidth": 2,
            "linecolor": "white",
            "showbackground": true,
            "ticks": "",
            "zerolinecolor": "white"
           },
           "zaxis": {
            "backgroundcolor": "#E5ECF6",
            "gridcolor": "white",
            "gridwidth": 2,
            "linecolor": "white",
            "showbackground": true,
            "ticks": "",
            "zerolinecolor": "white"
           }
          },
          "shapedefaults": {
           "line": {
            "color": "#2a3f5f"
           }
          },
          "ternary": {
           "aaxis": {
            "gridcolor": "white",
            "linecolor": "white",
            "ticks": ""
           },
           "baxis": {
            "gridcolor": "white",
            "linecolor": "white",
            "ticks": ""
           },
           "bgcolor": "#E5ECF6",
           "caxis": {
            "gridcolor": "white",
            "linecolor": "white",
            "ticks": ""
           }
          },
          "title": {
           "x": 0.05
          },
          "xaxis": {
           "automargin": true,
           "gridcolor": "white",
           "linecolor": "white",
           "ticks": "",
           "title": {
            "standoff": 15
           },
           "zerolinecolor": "white",
           "zerolinewidth": 2
          },
          "yaxis": {
           "automargin": true,
           "gridcolor": "white",
           "linecolor": "white",
           "ticks": "",
           "title": {
            "standoff": 15
           },
           "zerolinecolor": "white",
           "zerolinewidth": 2
          }
         }
        },
        "title": {
         "text": "Example<br><sup>Points represent group total.</sup>"
        },
        "xaxis": {
         "anchor": "y",
         "domain": [
          0,
          1
         ],
         "title": {
          "text": "credit_history"
         }
        },
        "yaxis": {
         "anchor": "x",
         "domain": [
          0,
          1
         ],
         "title": {
          "text": "Count"
         }
        }
       }
      }
     },
     "metadata": {},
     "output_type": "display_data"
    }
   ],
   "source": [
    "from helpsk.string import format_number\n",
    "\n",
    "x_var = 'credit_history'\n",
    "color_var = 'target'\n",
    "y_var = 'Count'\n",
    "\n",
    "df = credit_data.groupby(x_var).size().reset_index().rename(columns={0: y_var})\n",
    "df['__Text'] = df.apply(lambda x: f\"{format_number(x[y_var], places=0)} ({round((x[y_var] / sum(df[y_var]) * 100), 1)}%)\", axis=1)\n",
    "\n",
    "fig = px.scatter(\n",
    "    df,\n",
    "    x=x_var,\n",
    "    y=y_var,\n",
    "    color=['black']*len(df),\n",
    "    color_discrete_map=\"identity\",\n",
    "    text='__Text',\n",
    ")\n",
    "fig = fig.update_traces(textposition='top center')\n",
    "\n",
    "df_2 = credit_data.groupby([x_var, color_var]).size().reset_index().rename(columns={0: y_var})\n",
    "df_2['__group_total'] = df_2.groupby(x_var)[y_var].transform(sum)\n",
    "df_2['__Text'] = df_2.apply(lambda x: f\"{format_number(x[y_var], places=0)} ({round((x[y_var] / x['__group_total'] * 100), 1)}%)\", axis=1)\n",
    "\n",
    "fig2 = px.bar(\n",
    "    df_2,\n",
    "    x=x_var,\n",
    "    y=y_var,\n",
    "    color=color_var,\n",
    "    barmode='group',\n",
    "    text='__Text',\n",
    "    title=plotly_title(\n",
    "        title=\"Example\",\n",
    "        subtitle=\"Points represent group total.\"\n",
    "    ),\n",
    ")\n",
    "fig2.update_traces(textposition=\"auto\")\n",
    "fig2.add_trace(fig.data[0])\n",
    "fig2"
   ]
  },
  {
   "cell_type": "markdown",
   "metadata": {},
   "source": [
    "---"
   ]
  },
  {
   "attachments": {},
   "cell_type": "markdown",
   "metadata": {},
   "source": [
    "# Log Axis"
   ]
  },
  {
   "cell_type": "code",
   "execution_count": 7,
   "metadata": {},
   "outputs": [
    {
     "data": {
      "text/html": [
       "<div>\n",
       "<style scoped>\n",
       "    .dataframe tbody tr th:only-of-type {\n",
       "        vertical-align: middle;\n",
       "    }\n",
       "\n",
       "    .dataframe tbody tr th {\n",
       "        vertical-align: top;\n",
       "    }\n",
       "\n",
       "    .dataframe thead th {\n",
       "        text-align: right;\n",
       "    }\n",
       "</style>\n",
       "<table border=\"1\" class=\"dataframe\">\n",
       "  <thead>\n",
       "    <tr style=\"text-align: right;\">\n",
       "      <th></th>\n",
       "      <th>checking_status</th>\n",
       "      <th>duration</th>\n",
       "      <th>credit_history</th>\n",
       "      <th>purpose</th>\n",
       "      <th>credit_amount</th>\n",
       "      <th>savings_status</th>\n",
       "      <th>employment</th>\n",
       "      <th>installment_commitment</th>\n",
       "      <th>personal_status</th>\n",
       "      <th>other_parties</th>\n",
       "      <th>...</th>\n",
       "      <th>property_magnitude</th>\n",
       "      <th>age</th>\n",
       "      <th>other_payment_plans</th>\n",
       "      <th>housing</th>\n",
       "      <th>existing_credits</th>\n",
       "      <th>job</th>\n",
       "      <th>num_dependents</th>\n",
       "      <th>own_telephone</th>\n",
       "      <th>foreign_worker</th>\n",
       "      <th>target</th>\n",
       "    </tr>\n",
       "  </thead>\n",
       "  <tbody>\n",
       "    <tr>\n",
       "      <th>0</th>\n",
       "      <td>&lt;0</td>\n",
       "      <td>6.0</td>\n",
       "      <td>critical/other existing credit</td>\n",
       "      <td>radio/tv</td>\n",
       "      <td>1169.0</td>\n",
       "      <td>no known savings</td>\n",
       "      <td>&gt;=7</td>\n",
       "      <td>4.0</td>\n",
       "      <td>male single</td>\n",
       "      <td>none</td>\n",
       "      <td>...</td>\n",
       "      <td>real estate</td>\n",
       "      <td>67.0</td>\n",
       "      <td>none</td>\n",
       "      <td>own</td>\n",
       "      <td>2.0</td>\n",
       "      <td>skilled</td>\n",
       "      <td>1.0</td>\n",
       "      <td>yes</td>\n",
       "      <td>yes</td>\n",
       "      <td>good</td>\n",
       "    </tr>\n",
       "    <tr>\n",
       "      <th>1</th>\n",
       "      <td>0&lt;=X&lt;200</td>\n",
       "      <td>48.0</td>\n",
       "      <td>existing paid</td>\n",
       "      <td>radio/tv</td>\n",
       "      <td>5951.0</td>\n",
       "      <td>&lt;100</td>\n",
       "      <td>1&lt;=X&lt;4</td>\n",
       "      <td>2.0</td>\n",
       "      <td>female div/dep/mar</td>\n",
       "      <td>none</td>\n",
       "      <td>...</td>\n",
       "      <td>real estate</td>\n",
       "      <td>22.0</td>\n",
       "      <td>none</td>\n",
       "      <td>own</td>\n",
       "      <td>1.0</td>\n",
       "      <td>skilled</td>\n",
       "      <td>1.0</td>\n",
       "      <td>none</td>\n",
       "      <td>yes</td>\n",
       "      <td>bad</td>\n",
       "    </tr>\n",
       "    <tr>\n",
       "      <th>2</th>\n",
       "      <td>no checking</td>\n",
       "      <td>12.0</td>\n",
       "      <td>critical/other existing credit</td>\n",
       "      <td>education</td>\n",
       "      <td>2096.0</td>\n",
       "      <td>&lt;100</td>\n",
       "      <td>4&lt;=X&lt;7</td>\n",
       "      <td>2.0</td>\n",
       "      <td>male single</td>\n",
       "      <td>none</td>\n",
       "      <td>...</td>\n",
       "      <td>real estate</td>\n",
       "      <td>49.0</td>\n",
       "      <td>none</td>\n",
       "      <td>own</td>\n",
       "      <td>1.0</td>\n",
       "      <td>unskilled resident</td>\n",
       "      <td>2.0</td>\n",
       "      <td>none</td>\n",
       "      <td>yes</td>\n",
       "      <td>good</td>\n",
       "    </tr>\n",
       "    <tr>\n",
       "      <th>3</th>\n",
       "      <td>&lt;0</td>\n",
       "      <td>42.0</td>\n",
       "      <td>existing paid</td>\n",
       "      <td>furniture/equipment</td>\n",
       "      <td>7882.0</td>\n",
       "      <td>&lt;100</td>\n",
       "      <td>4&lt;=X&lt;7</td>\n",
       "      <td>2.0</td>\n",
       "      <td>male single</td>\n",
       "      <td>guarantor</td>\n",
       "      <td>...</td>\n",
       "      <td>life insurance</td>\n",
       "      <td>45.0</td>\n",
       "      <td>none</td>\n",
       "      <td>for free</td>\n",
       "      <td>1.0</td>\n",
       "      <td>skilled</td>\n",
       "      <td>2.0</td>\n",
       "      <td>none</td>\n",
       "      <td>yes</td>\n",
       "      <td>good</td>\n",
       "    </tr>\n",
       "    <tr>\n",
       "      <th>4</th>\n",
       "      <td>&lt;0</td>\n",
       "      <td>24.0</td>\n",
       "      <td>delayed previously</td>\n",
       "      <td>new car</td>\n",
       "      <td>4870.0</td>\n",
       "      <td>&lt;100</td>\n",
       "      <td>1&lt;=X&lt;4</td>\n",
       "      <td>3.0</td>\n",
       "      <td>male single</td>\n",
       "      <td>none</td>\n",
       "      <td>...</td>\n",
       "      <td>no known property</td>\n",
       "      <td>53.0</td>\n",
       "      <td>none</td>\n",
       "      <td>for free</td>\n",
       "      <td>2.0</td>\n",
       "      <td>skilled</td>\n",
       "      <td>2.0</td>\n",
       "      <td>none</td>\n",
       "      <td>yes</td>\n",
       "      <td>bad</td>\n",
       "    </tr>\n",
       "    <tr>\n",
       "      <th>...</th>\n",
       "      <td>...</td>\n",
       "      <td>...</td>\n",
       "      <td>...</td>\n",
       "      <td>...</td>\n",
       "      <td>...</td>\n",
       "      <td>...</td>\n",
       "      <td>...</td>\n",
       "      <td>...</td>\n",
       "      <td>...</td>\n",
       "      <td>...</td>\n",
       "      <td>...</td>\n",
       "      <td>...</td>\n",
       "      <td>...</td>\n",
       "      <td>...</td>\n",
       "      <td>...</td>\n",
       "      <td>...</td>\n",
       "      <td>...</td>\n",
       "      <td>...</td>\n",
       "      <td>...</td>\n",
       "      <td>...</td>\n",
       "      <td>...</td>\n",
       "    </tr>\n",
       "    <tr>\n",
       "      <th>995</th>\n",
       "      <td>no checking</td>\n",
       "      <td>12.0</td>\n",
       "      <td>existing paid</td>\n",
       "      <td>furniture/equipment</td>\n",
       "      <td>1736.0</td>\n",
       "      <td>&lt;100</td>\n",
       "      <td>4&lt;=X&lt;7</td>\n",
       "      <td>3.0</td>\n",
       "      <td>female div/dep/mar</td>\n",
       "      <td>none</td>\n",
       "      <td>...</td>\n",
       "      <td>real estate</td>\n",
       "      <td>31.0</td>\n",
       "      <td>none</td>\n",
       "      <td>own</td>\n",
       "      <td>1.0</td>\n",
       "      <td>unskilled resident</td>\n",
       "      <td>1.0</td>\n",
       "      <td>none</td>\n",
       "      <td>yes</td>\n",
       "      <td>good</td>\n",
       "    </tr>\n",
       "    <tr>\n",
       "      <th>996</th>\n",
       "      <td>&lt;0</td>\n",
       "      <td>30.0</td>\n",
       "      <td>existing paid</td>\n",
       "      <td>used car</td>\n",
       "      <td>3857.0</td>\n",
       "      <td>&lt;100</td>\n",
       "      <td>1&lt;=X&lt;4</td>\n",
       "      <td>4.0</td>\n",
       "      <td>male div/sep</td>\n",
       "      <td>none</td>\n",
       "      <td>...</td>\n",
       "      <td>life insurance</td>\n",
       "      <td>40.0</td>\n",
       "      <td>none</td>\n",
       "      <td>own</td>\n",
       "      <td>1.0</td>\n",
       "      <td>high qualif/self emp/mgmt</td>\n",
       "      <td>1.0</td>\n",
       "      <td>yes</td>\n",
       "      <td>yes</td>\n",
       "      <td>good</td>\n",
       "    </tr>\n",
       "    <tr>\n",
       "      <th>997</th>\n",
       "      <td>no checking</td>\n",
       "      <td>12.0</td>\n",
       "      <td>existing paid</td>\n",
       "      <td>radio/tv</td>\n",
       "      <td>804.0</td>\n",
       "      <td>&lt;100</td>\n",
       "      <td>&gt;=7</td>\n",
       "      <td>4.0</td>\n",
       "      <td>male single</td>\n",
       "      <td>none</td>\n",
       "      <td>...</td>\n",
       "      <td>car</td>\n",
       "      <td>38.0</td>\n",
       "      <td>none</td>\n",
       "      <td>own</td>\n",
       "      <td>1.0</td>\n",
       "      <td>skilled</td>\n",
       "      <td>1.0</td>\n",
       "      <td>none</td>\n",
       "      <td>yes</td>\n",
       "      <td>good</td>\n",
       "    </tr>\n",
       "    <tr>\n",
       "      <th>998</th>\n",
       "      <td>&lt;0</td>\n",
       "      <td>45.0</td>\n",
       "      <td>existing paid</td>\n",
       "      <td>radio/tv</td>\n",
       "      <td>1845.0</td>\n",
       "      <td>&lt;100</td>\n",
       "      <td>1&lt;=X&lt;4</td>\n",
       "      <td>4.0</td>\n",
       "      <td>male single</td>\n",
       "      <td>none</td>\n",
       "      <td>...</td>\n",
       "      <td>no known property</td>\n",
       "      <td>23.0</td>\n",
       "      <td>none</td>\n",
       "      <td>for free</td>\n",
       "      <td>1.0</td>\n",
       "      <td>skilled</td>\n",
       "      <td>1.0</td>\n",
       "      <td>yes</td>\n",
       "      <td>yes</td>\n",
       "      <td>bad</td>\n",
       "    </tr>\n",
       "    <tr>\n",
       "      <th>999</th>\n",
       "      <td>0&lt;=X&lt;200</td>\n",
       "      <td>45.0</td>\n",
       "      <td>critical/other existing credit</td>\n",
       "      <td>used car</td>\n",
       "      <td>4576.0</td>\n",
       "      <td>100&lt;=X&lt;500</td>\n",
       "      <td>unemployed</td>\n",
       "      <td>3.0</td>\n",
       "      <td>male single</td>\n",
       "      <td>none</td>\n",
       "      <td>...</td>\n",
       "      <td>car</td>\n",
       "      <td>27.0</td>\n",
       "      <td>none</td>\n",
       "      <td>own</td>\n",
       "      <td>1.0</td>\n",
       "      <td>skilled</td>\n",
       "      <td>1.0</td>\n",
       "      <td>none</td>\n",
       "      <td>yes</td>\n",
       "      <td>good</td>\n",
       "    </tr>\n",
       "  </tbody>\n",
       "</table>\n",
       "<p>1000 rows × 21 columns</p>\n",
       "</div>"
      ],
      "text/plain": [
       "    checking_status  duration                  credit_history  \\\n",
       "0                <0       6.0  critical/other existing credit   \n",
       "1          0<=X<200      48.0                   existing paid   \n",
       "2       no checking      12.0  critical/other existing credit   \n",
       "3                <0      42.0                   existing paid   \n",
       "4                <0      24.0              delayed previously   \n",
       "..              ...       ...                             ...   \n",
       "995     no checking      12.0                   existing paid   \n",
       "996              <0      30.0                   existing paid   \n",
       "997     no checking      12.0                   existing paid   \n",
       "998              <0      45.0                   existing paid   \n",
       "999        0<=X<200      45.0  critical/other existing credit   \n",
       "\n",
       "                 purpose  credit_amount    savings_status  employment  \\\n",
       "0               radio/tv         1169.0  no known savings         >=7   \n",
       "1               radio/tv         5951.0              <100      1<=X<4   \n",
       "2              education         2096.0              <100      4<=X<7   \n",
       "3    furniture/equipment         7882.0              <100      4<=X<7   \n",
       "4                new car         4870.0              <100      1<=X<4   \n",
       "..                   ...            ...               ...         ...   \n",
       "995  furniture/equipment         1736.0              <100      4<=X<7   \n",
       "996             used car         3857.0              <100      1<=X<4   \n",
       "997             radio/tv          804.0              <100         >=7   \n",
       "998             radio/tv         1845.0              <100      1<=X<4   \n",
       "999             used car         4576.0        100<=X<500  unemployed   \n",
       "\n",
       "     installment_commitment     personal_status other_parties  ...  \\\n",
       "0                       4.0         male single          none  ...   \n",
       "1                       2.0  female div/dep/mar          none  ...   \n",
       "2                       2.0         male single          none  ...   \n",
       "3                       2.0         male single     guarantor  ...   \n",
       "4                       3.0         male single          none  ...   \n",
       "..                      ...                 ...           ...  ...   \n",
       "995                     3.0  female div/dep/mar          none  ...   \n",
       "996                     4.0        male div/sep          none  ...   \n",
       "997                     4.0         male single          none  ...   \n",
       "998                     4.0         male single          none  ...   \n",
       "999                     3.0         male single          none  ...   \n",
       "\n",
       "     property_magnitude   age  other_payment_plans   housing existing_credits  \\\n",
       "0           real estate  67.0                 none       own              2.0   \n",
       "1           real estate  22.0                 none       own              1.0   \n",
       "2           real estate  49.0                 none       own              1.0   \n",
       "3        life insurance  45.0                 none  for free              1.0   \n",
       "4     no known property  53.0                 none  for free              2.0   \n",
       "..                  ...   ...                  ...       ...              ...   \n",
       "995         real estate  31.0                 none       own              1.0   \n",
       "996      life insurance  40.0                 none       own              1.0   \n",
       "997                 car  38.0                 none       own              1.0   \n",
       "998   no known property  23.0                 none  for free              1.0   \n",
       "999                 car  27.0                 none       own              1.0   \n",
       "\n",
       "                           job num_dependents  own_telephone foreign_worker  \\\n",
       "0                      skilled            1.0            yes            yes   \n",
       "1                      skilled            1.0           none            yes   \n",
       "2           unskilled resident            2.0           none            yes   \n",
       "3                      skilled            2.0           none            yes   \n",
       "4                      skilled            2.0           none            yes   \n",
       "..                         ...            ...            ...            ...   \n",
       "995         unskilled resident            1.0           none            yes   \n",
       "996  high qualif/self emp/mgmt            1.0            yes            yes   \n",
       "997                    skilled            1.0           none            yes   \n",
       "998                    skilled            1.0            yes            yes   \n",
       "999                    skilled            1.0           none            yes   \n",
       "\n",
       "    target  \n",
       "0     good  \n",
       "1      bad  \n",
       "2     good  \n",
       "3     good  \n",
       "4      bad  \n",
       "..     ...  \n",
       "995   good  \n",
       "996   good  \n",
       "997   good  \n",
       "998    bad  \n",
       "999   good  \n",
       "\n",
       "[1000 rows x 21 columns]"
      ]
     },
     "execution_count": 7,
     "metadata": {},
     "output_type": "execute_result"
    }
   ],
   "source": [
    "credit_data"
   ]
  },
  {
   "cell_type": "code",
   "execution_count": 8,
   "metadata": {},
   "outputs": [
    {
     "data": {
      "text/html": [
       "<div>\n",
       "<style scoped>\n",
       "    .dataframe tbody tr th:only-of-type {\n",
       "        vertical-align: middle;\n",
       "    }\n",
       "\n",
       "    .dataframe tbody tr th {\n",
       "        vertical-align: top;\n",
       "    }\n",
       "\n",
       "    .dataframe thead th {\n",
       "        text-align: right;\n",
       "    }\n",
       "</style>\n",
       "<table border=\"1\" class=\"dataframe\">\n",
       "  <thead>\n",
       "    <tr style=\"text-align: right;\">\n",
       "      <th></th>\n",
       "      <th>duration</th>\n",
       "      <th>credit_amount</th>\n",
       "      <th>age</th>\n",
       "    </tr>\n",
       "  </thead>\n",
       "  <tbody>\n",
       "    <tr>\n",
       "      <th>0</th>\n",
       "      <td>0.778151</td>\n",
       "      <td>3.067815</td>\n",
       "      <td>1.826075</td>\n",
       "    </tr>\n",
       "    <tr>\n",
       "      <th>1</th>\n",
       "      <td>1.681241</td>\n",
       "      <td>3.774590</td>\n",
       "      <td>1.342423</td>\n",
       "    </tr>\n",
       "    <tr>\n",
       "      <th>2</th>\n",
       "      <td>1.079181</td>\n",
       "      <td>3.321391</td>\n",
       "      <td>1.690196</td>\n",
       "    </tr>\n",
       "    <tr>\n",
       "      <th>3</th>\n",
       "      <td>1.623249</td>\n",
       "      <td>3.896636</td>\n",
       "      <td>1.653213</td>\n",
       "    </tr>\n",
       "    <tr>\n",
       "      <th>4</th>\n",
       "      <td>1.380211</td>\n",
       "      <td>3.687529</td>\n",
       "      <td>1.724276</td>\n",
       "    </tr>\n",
       "    <tr>\n",
       "      <th>...</th>\n",
       "      <td>...</td>\n",
       "      <td>...</td>\n",
       "      <td>...</td>\n",
       "    </tr>\n",
       "    <tr>\n",
       "      <th>995</th>\n",
       "      <td>1.079181</td>\n",
       "      <td>3.239550</td>\n",
       "      <td>1.491362</td>\n",
       "    </tr>\n",
       "    <tr>\n",
       "      <th>996</th>\n",
       "      <td>1.477121</td>\n",
       "      <td>3.586250</td>\n",
       "      <td>1.602060</td>\n",
       "    </tr>\n",
       "    <tr>\n",
       "      <th>997</th>\n",
       "      <td>1.079181</td>\n",
       "      <td>2.905256</td>\n",
       "      <td>1.579784</td>\n",
       "    </tr>\n",
       "    <tr>\n",
       "      <th>998</th>\n",
       "      <td>1.653213</td>\n",
       "      <td>3.265996</td>\n",
       "      <td>1.361728</td>\n",
       "    </tr>\n",
       "    <tr>\n",
       "      <th>999</th>\n",
       "      <td>1.653213</td>\n",
       "      <td>3.660486</td>\n",
       "      <td>1.431364</td>\n",
       "    </tr>\n",
       "  </tbody>\n",
       "</table>\n",
       "<p>1000 rows × 3 columns</p>\n",
       "</div>"
      ],
      "text/plain": [
       "     duration  credit_amount       age\n",
       "0    0.778151       3.067815  1.826075\n",
       "1    1.681241       3.774590  1.342423\n",
       "2    1.079181       3.321391  1.690196\n",
       "3    1.623249       3.896636  1.653213\n",
       "4    1.380211       3.687529  1.724276\n",
       "..        ...            ...       ...\n",
       "995  1.079181       3.239550  1.491362\n",
       "996  1.477121       3.586250  1.602060\n",
       "997  1.079181       2.905256  1.579784\n",
       "998  1.653213       3.265996  1.361728\n",
       "999  1.653213       3.660486  1.431364\n",
       "\n",
       "[1000 rows x 3 columns]"
      ]
     },
     "execution_count": 8,
     "metadata": {},
     "output_type": "execute_result"
    }
   ],
   "source": [
    "_log_10 = credit_data[[\n",
    "        'duration',\n",
    "        'credit_amount',\n",
    "        'age',\n",
    "    ]].\\\n",
    "    copy()\n",
    "\n",
    "_log_10['duration'] = np.log10(_log_10['duration'].values)\n",
    "_log_10['credit_amount'] = np.log10(_log_10['credit_amount'].values)\n",
    "_log_10['age'] = np.log10(_log_10['age'].values)\n",
    "_log_10\n"
   ]
  },
  {
   "cell_type": "code",
   "execution_count": 9,
   "metadata": {},
   "outputs": [
    {
     "data": {
      "application/vnd.plotly.v1+json": {
       "config": {
        "plotlyServerURL": "https://plot.ly"
       },
       "data": [
        {
         "hovertemplate": "duration=%{x}<br>credit_amount=%{y}<extra></extra>",
         "legendgroup": "",
         "marker": {
          "color": "#636efa",
          "symbol": "circle"
         },
         "mode": "markers",
         "name": "",
         "orientation": "v",
         "showlegend": false,
         "type": "scatter",
         "x": [
          6,
          48,
          12,
          42,
          24,
          36,
          24,
          36,
          12,
          30,
          12,
          48,
          12,
          24,
          15,
          24,
          24,
          30,
          24,
          24,
          9,
          6,
          10,
          12,
          10,
          6,
          6,
          12,
          7,
          60,
          18,
          24,
          18,
          12,
          12,
          45,
          48,
          18,
          10,
          9,
          30,
          12,
          18,
          30,
          48,
          11,
          36,
          6,
          11,
          12,
          24,
          27,
          12,
          18,
          36,
          6,
          12,
          36,
          18,
          36,
          9,
          15,
          36,
          48,
          24,
          27,
          12,
          12,
          36,
          36,
          36,
          7,
          8,
          42,
          36,
          12,
          42,
          11,
          54,
          30,
          24,
          15,
          18,
          24,
          10,
          12,
          18,
          36,
          18,
          12,
          12,
          12,
          12,
          24,
          12,
          54,
          12,
          18,
          36,
          20,
          24,
          36,
          6,
          9,
          12,
          24,
          18,
          12,
          24,
          14,
          6,
          15,
          18,
          36,
          12,
          48,
          42,
          10,
          33,
          12,
          21,
          24,
          12,
          10,
          18,
          12,
          12,
          12,
          12,
          12,
          48,
          36,
          15,
          18,
          60,
          12,
          27,
          12,
          15,
          12,
          6,
          36,
          27,
          18,
          21,
          48,
          6,
          12,
          36,
          18,
          6,
          10,
          36,
          24,
          24,
          12,
          9,
          12,
          24,
          6,
          24,
          18,
          15,
          10,
          36,
          6,
          18,
          11,
          24,
          24,
          15,
          12,
          24,
          8,
          21,
          30,
          12,
          6,
          12,
          21,
          36,
          36,
          21,
          24,
          18,
          15,
          9,
          16,
          12,
          18,
          24,
          48,
          27,
          6,
          45,
          9,
          6,
          12,
          24,
          18,
          9,
          12,
          27,
          12,
          12,
          30,
          12,
          12,
          24,
          12,
          9,
          36,
          27,
          30,
          36,
          6,
          18,
          36,
          24,
          10,
          12,
          12,
          12,
          24,
          15,
          36,
          48,
          12,
          9,
          24,
          36,
          9,
          12,
          18,
          4,
          24,
          6,
          21,
          12,
          30,
          24,
          6,
          48,
          12,
          12,
          24,
          12,
          6,
          24,
          18,
          6,
          12,
          30,
          24,
          9,
          60,
          24,
          12,
          15,
          11,
          12,
          24,
          18,
          12,
          10,
          15,
          36,
          24,
          14,
          24,
          18,
          12,
          48,
          48,
          30,
          9,
          18,
          12,
          6,
          24,
          15,
          12,
          18,
          15,
          24,
          47,
          48,
          48,
          12,
          24,
          12,
          36,
          24,
          42,
          48,
          48,
          12,
          10,
          18,
          21,
          6,
          36,
          24,
          10,
          48,
          6,
          30,
          12,
          8,
          9,
          48,
          24,
          24,
          12,
          4,
          36,
          12,
          24,
          12,
          15,
          30,
          24,
          24,
          18,
          18,
          8,
          12,
          24,
          36,
          6,
          24,
          18,
          60,
          48,
          24,
          6,
          13,
          15,
          24,
          10,
          24,
          21,
          18,
          18,
          10,
          15,
          13,
          24,
          6,
          9,
          9,
          9,
          18,
          12,
          10,
          24,
          12,
          36,
          12,
          30,
          18,
          12,
          12,
          6,
          18,
          12,
          18,
          18,
          36,
          18,
          36,
          18,
          10,
          60,
          60,
          48,
          18,
          7,
          36,
          6,
          20,
          18,
          22,
          12,
          30,
          18,
          18,
          18,
          15,
          9,
          18,
          12,
          36,
          6,
          9,
          39,
          12,
          36,
          12,
          24,
          18,
          18,
          24,
          14,
          18,
          24,
          24,
          15,
          24,
          12,
          24,
          33,
          12,
          10,
          24,
          36,
          12,
          18,
          21,
          18,
          15,
          12,
          12,
          21,
          12,
          18,
          28,
          18,
          9,
          18,
          5,
          24,
          6,
          24,
          9,
          12,
          6,
          24,
          42,
          12,
          12,
          12,
          20,
          12,
          48,
          9,
          36,
          7,
          12,
          15,
          36,
          6,
          12,
          24,
          24,
          24,
          11,
          12,
          6,
          18,
          36,
          15,
          12,
          12,
          18,
          24,
          24,
          48,
          33,
          24,
          24,
          6,
          9,
          6,
          18,
          18,
          39,
          24,
          12,
          15,
          12,
          24,
          30,
          15,
          12,
          6,
          12,
          24,
          10,
          6,
          12,
          27,
          6,
          6,
          12,
          24,
          36,
          24,
          18,
          6,
          24,
          36,
          9,
          24,
          24,
          10,
          15,
          15,
          24,
          39,
          12,
          36,
          15,
          12,
          24,
          6,
          6,
          36,
          6,
          6,
          24,
          18,
          48,
          24,
          18,
          26,
          15,
          4,
          36,
          6,
          36,
          15,
          12,
          24,
          24,
          21,
          6,
          18,
          48,
          18,
          12,
          24,
          30,
          18,
          12,
          24,
          24,
          24,
          12,
          48,
          12,
          6,
          48,
          12,
          9,
          12,
          18,
          21,
          24,
          18,
          24,
          24,
          6,
          36,
          24,
          24,
          12,
          24,
          48,
          48,
          24,
          30,
          24,
          15,
          9,
          15,
          12,
          24,
          36,
          24,
          18,
          12,
          9,
          36,
          12,
          18,
          9,
          12,
          18,
          12,
          12,
          24,
          21,
          24,
          24,
          6,
          24,
          24,
          18,
          24,
          7,
          9,
          24,
          36,
          10,
          24,
          24,
          36,
          18,
          15,
          12,
          10,
          21,
          24,
          18,
          48,
          60,
          6,
          30,
          12,
          21,
          18,
          48,
          12,
          18,
          15,
          6,
          9,
          42,
          9,
          24,
          18,
          15,
          9,
          24,
          12,
          24,
          60,
          12,
          42,
          18,
          15,
          15,
          24,
          18,
          36,
          30,
          12,
          24,
          12,
          48,
          12,
          24,
          36,
          24,
          14,
          12,
          48,
          30,
          18,
          12,
          12,
          21,
          6,
          6,
          24,
          30,
          48,
          12,
          30,
          24,
          36,
          60,
          6,
          21,
          30,
          24,
          72,
          24,
          18,
          6,
          12,
          15,
          24,
          36,
          60,
          10,
          36,
          9,
          12,
          15,
          15,
          24,
          6,
          24,
          6,
          12,
          12,
          18,
          15,
          12,
          48,
          24,
          30,
          27,
          15,
          48,
          12,
          9,
          9,
          18,
          6,
          21,
          9,
          60,
          30,
          30,
          18,
          24,
          20,
          9,
          6,
          12,
          9,
          27,
          6,
          15,
          18,
          48,
          24,
          24,
          24,
          8,
          24,
          4,
          36,
          24,
          18,
          6,
          30,
          24,
          10,
          21,
          24,
          39,
          13,
          15,
          12,
          21,
          15,
          6,
          18,
          12,
          30,
          12,
          24,
          6,
          15,
          24,
          12,
          15,
          18,
          12,
          21,
          24,
          12,
          30,
          10,
          12,
          12,
          24,
          36,
          21,
          24,
          12,
          24,
          36,
          18,
          36,
          18,
          39,
          24,
          12,
          12,
          20,
          18,
          22,
          48,
          48,
          40,
          21,
          24,
          6,
          24,
          24,
          9,
          18,
          12,
          24,
          9,
          24,
          18,
          20,
          12,
          12,
          36,
          6,
          12,
          42,
          15,
          8,
          6,
          36,
          48,
          48,
          36,
          6,
          6,
          36,
          18,
          12,
          12,
          36,
          8,
          18,
          21,
          18,
          18,
          36,
          48,
          24,
          18,
          45,
          24,
          15,
          12,
          12,
          4,
          24,
          24,
          36,
          21,
          18,
          24,
          18,
          21,
          18,
          24,
          9,
          12,
          20,
          24,
          15,
          18,
          36,
          24,
          10,
          15,
          15,
          9,
          24,
          18,
          24,
          27,
          10,
          15,
          18,
          12,
          36,
          12,
          36,
          6,
          24,
          15,
          12,
          11,
          18,
          36,
          9,
          30,
          24,
          24,
          30,
          18,
          24,
          12,
          24,
          48,
          36,
          28,
          27,
          15,
          12,
          36,
          18,
          36,
          21,
          12,
          15,
          18,
          16,
          20,
          36,
          15,
          24,
          12,
          21,
          36,
          15,
          9,
          36,
          24,
          30,
          11,
          24,
          48,
          10,
          6,
          24,
          24,
          18,
          48,
          9,
          12,
          24,
          12,
          18,
          48,
          30,
          12,
          24,
          9,
          9,
          12,
          12,
          30,
          9,
          6,
          60,
          24,
          12,
          10,
          24,
          4,
          15,
          48,
          24,
          12,
          18,
          24,
          18,
          36,
          24,
          36,
          12,
          24,
          30,
          9,
          28,
          24,
          6,
          21,
          15,
          24,
          6,
          30,
          27,
          15,
          42,
          11,
          15,
          24,
          24,
          60,
          30,
          24,
          6,
          18,
          24,
          15,
          30,
          48,
          21,
          36,
          24,
          15,
          42,
          13,
          24,
          24,
          12,
          15,
          18,
          36,
          12,
          12,
          30,
          12,
          45,
          45
         ],
         "xaxis": "x",
         "y": [
          1169,
          5951,
          2096,
          7882,
          4870,
          9055,
          2835,
          6948,
          3059,
          5234,
          1295,
          4308,
          1567,
          1199,
          1403,
          1282,
          2424,
          8072,
          12579,
          3430,
          2134,
          2647,
          2241,
          1804,
          2069,
          1374,
          426,
          409,
          2415,
          6836,
          1913,
          4020,
          5866,
          1264,
          1474,
          4746,
          6110,
          2100,
          1225,
          458,
          2333,
          1158,
          6204,
          6187,
          6143,
          1393,
          2299,
          1352,
          7228,
          2073,
          2333,
          5965,
          1262,
          3378,
          2225,
          783,
          6468,
          9566,
          1961,
          6229,
          1391,
          1537,
          1953,
          14421,
          3181,
          5190,
          2171,
          1007,
          1819,
          2394,
          8133,
          730,
          1164,
          5954,
          1977,
          1526,
          3965,
          4771,
          9436,
          3832,
          5943,
          1213,
          1568,
          1755,
          2315,
          1412,
          1295,
          12612,
          2249,
          1108,
          618,
          1409,
          797,
          3617,
          1318,
          15945,
          2012,
          2622,
          2337,
          7057,
          1469,
          2323,
          932,
          1919,
          2445,
          11938,
          6458,
          6078,
          7721,
          1410,
          1449,
          392,
          6260,
          7855,
          1680,
          3578,
          7174,
          2132,
          4281,
          2366,
          1835,
          3868,
          1768,
          781,
          1924,
          2121,
          701,
          639,
          1860,
          3499,
          8487,
          6887,
          2708,
          1984,
          10144,
          1240,
          8613,
          766,
          2728,
          1881,
          709,
          4795,
          3416,
          2462,
          2288,
          3566,
          860,
          682,
          5371,
          1582,
          1346,
          1924,
          5848,
          7758,
          6967,
          1282,
          1288,
          339,
          3512,
          1898,
          2872,
          1055,
          1262,
          7308,
          909,
          2978,
          1131,
          1577,
          3972,
          1935,
          950,
          763,
          2064,
          1414,
          3414,
          7485,
          2577,
          338,
          1963,
          571,
          9572,
          4455,
          1647,
          3777,
          884,
          1360,
          5129,
          1175,
          674,
          3244,
          4591,
          3844,
          3915,
          2108,
          3031,
          1501,
          1382,
          951,
          2760,
          4297,
          936,
          1168,
          5117,
          902,
          1495,
          10623,
          1935,
          1424,
          6568,
          1413,
          3074,
          3835,
          5293,
          1908,
          3342,
          932,
          3104,
          3913,
          3021,
          1364,
          625,
          1200,
          707,
          2978,
          4657,
          2613,
          10961,
          7865,
          1478,
          3149,
          4210,
          2507,
          2141,
          866,
          1544,
          1823,
          14555,
          2767,
          1291,
          2522,
          915,
          1595,
          4605,
          1185,
          3447,
          1258,
          717,
          1204,
          1925,
          433,
          666,
          2251,
          2150,
          4151,
          2030,
          7418,
          2684,
          2149,
          3812,
          1154,
          1657,
          1603,
          5302,
          2748,
          1231,
          802,
          6304,
          1533,
          8978,
          999,
          2662,
          1402,
          12169,
          3060,
          11998,
          2697,
          2404,
          1262,
          4611,
          1901,
          3368,
          1574,
          1445,
          1520,
          3878,
          10722,
          4788,
          7582,
          1092,
          1024,
          1076,
          9398,
          6419,
          4796,
          7629,
          9960,
          4675,
          1287,
          2515,
          2745,
          672,
          3804,
          1344,
          1038,
          10127,
          1543,
          4811,
          727,
          1237,
          276,
          5381,
          5511,
          3749,
          685,
          1494,
          2746,
          708,
          4351,
          701,
          3643,
          4249,
          1938,
          2910,
          2659,
          1028,
          3398,
          5801,
          1525,
          4473,
          1068,
          6615,
          1864,
          7408,
          11590,
          4110,
          3384,
          2101,
          1275,
          4169,
          1521,
          5743,
          3599,
          3213,
          4439,
          3949,
          1459,
          882,
          3758,
          1743,
          1136,
          1236,
          959,
          3229,
          6199,
          727,
          1246,
          2331,
          4463,
          776,
          2406,
          1239,
          3399,
          2247,
          1766,
          2473,
          1542,
          3850,
          3650,
          3446,
          3001,
          3079,
          6070,
          2146,
          13756,
          14782,
          7685,
          2320,
          846,
          14318,
          362,
          2212,
          12976,
          1283,
          1330,
          4272,
          2238,
          1126,
          7374,
          2326,
          1449,
          1820,
          983,
          3249,
          1957,
          2406,
          11760,
          2578,
          2348,
          1223,
          1516,
          1473,
          1887,
          8648,
          802,
          2899,
          2039,
          2197,
          1053,
          3235,
          939,
          1967,
          7253,
          2292,
          1597,
          1381,
          5842,
          2579,
          8471,
          2782,
          1042,
          3186,
          2028,
          958,
          1591,
          2762,
          2779,
          2743,
          1149,
          1313,
          1190,
          3448,
          11328,
          1872,
          2058,
          2136,
          1484,
          660,
          1287,
          3394,
          609,
          1884,
          1620,
          2629,
          719,
          5096,
          1244,
          1842,
          2576,
          1424,
          1512,
          11054,
          518,
          2759,
          2670,
          4817,
          2679,
          3905,
          3386,
          343,
          4594,
          3620,
          1721,
          3017,
          754,
          1950,
          2924,
          1659,
          7238,
          2764,
          4679,
          3092,
          448,
          654,
          1238,
          1245,
          3114,
          2569,
          5152,
          1037,
          1478,
          3573,
          1201,
          3622,
          960,
          1163,
          1209,
          3077,
          3757,
          1418,
          3518,
          1934,
          8318,
          1237,
          368,
          2122,
          2996,
          9034,
          1585,
          1301,
          1323,
          3123,
          5493,
          1126,
          1216,
          1207,
          1309,
          2360,
          6850,
          1413,
          8588,
          759,
          4686,
          2687,
          585,
          2255,
          609,
          1361,
          7127,
          1203,
          700,
          5507,
          3190,
          7119,
          3488,
          1113,
          7966,
          1532,
          1503,
          2302,
          662,
          2273,
          2631,
          1503,
          1311,
          3105,
          2319,
          1374,
          3612,
          7763,
          3049,
          1534,
          2032,
          6350,
          2864,
          1255,
          1333,
          2022,
          1552,
          626,
          8858,
          996,
          1750,
          6999,
          1995,
          1199,
          1331,
          2278,
          5003,
          3552,
          1928,
          2964,
          1546,
          683,
          12389,
          4712,
          1553,
          1372,
          2578,
          3979,
          6758,
          3234,
          5954,
          5433,
          806,
          1082,
          2788,
          2930,
          1927,
          2820,
          937,
          1056,
          3124,
          1388,
          2384,
          2133,
          2039,
          2799,
          1289,
          1217,
          2246,
          385,
          1965,
          1572,
          2718,
          1358,
          931,
          1442,
          4241,
          2775,
          3863,
          2329,
          918,
          1837,
          3349,
          1275,
          2828,
          4526,
          2671,
          2051,
          1300,
          741,
          1240,
          3357,
          3632,
          1808,
          12204,
          9157,
          3676,
          3441,
          640,
          3652,
          1530,
          3914,
          1858,
          2600,
          1979,
          2116,
          1437,
          4042,
          3832,
          3660,
          1553,
          1444,
          1980,
          1355,
          1393,
          1376,
          15653,
          1493,
          4370,
          750,
          1308,
          4623,
          1851,
          1880,
          7980,
          4583,
          1386,
          947,
          684,
          7476,
          1922,
          2303,
          8086,
          2346,
          3973,
          888,
          10222,
          4221,
          6361,
          1297,
          900,
          2241,
          1050,
          1047,
          6314,
          3496,
          3609,
          4843,
          3017,
          4139,
          5742,
          10366,
          2080,
          2580,
          4530,
          5150,
          5595,
          2384,
          1453,
          1538,
          2279,
          1478,
          5103,
          9857,
          6527,
          1347,
          2862,
          2753,
          3651,
          975,
          2631,
          2896,
          4716,
          2284,
          1236,
          1103,
          926,
          1800,
          1905,
          1123,
          6331,
          1377,
          2503,
          2528,
          5324,
          6560,
          2969,
          1206,
          2118,
          629,
          1198,
          2476,
          1138,
          14027,
          7596,
          3077,
          1505,
          3148,
          6148,
          1337,
          433,
          1228,
          790,
          2570,
          250,
          1316,
          1882,
          6416,
          1275,
          6403,
          1987,
          760,
          2603,
          3380,
          3990,
          11560,
          4380,
          6761,
          4280,
          2325,
          1048,
          3160,
          2483,
          14179,
          1797,
          2511,
          1274,
          5248,
          3029,
          428,
          976,
          841,
          5771,
          1555,
          1285,
          1299,
          1271,
          1393,
          691,
          5045,
          2124,
          2214,
          12680,
          2463,
          1155,
          3108,
          2901,
          3617,
          1655,
          2812,
          8065,
          3275,
          2223,
          1480,
          1371,
          3535,
          3509,
          5711,
          3872,
          4933,
          1940,
          1410,
          836,
          6468,
          1941,
          2675,
          2751,
          6224,
          5998,
          1188,
          6313,
          1221,
          2892,
          3062,
          2301,
          7511,
          1258,
          717,
          1549,
          1597,
          1795,
          4272,
          976,
          7472,
          9271,
          590,
          930,
          9283,
          1778,
          907,
          484,
          9629,
          3051,
          3931,
          7432,
          1338,
          1554,
          15857,
          1345,
          1101,
          3016,
          2712,
          731,
          3780,
          1602,
          3966,
          4165,
          8335,
          6681,
          2375,
          1216,
          11816,
          5084,
          2327,
          1082,
          886,
          601,
          2957,
          2611,
          5179,
          2993,
          1943,
          1559,
          3422,
          3976,
          6761,
          1249,
          1364,
          709,
          2235,
          4042,
          1471,
          1442,
          10875,
          1474,
          894,
          3343,
          3959,
          3577,
          5804,
          2169,
          2439,
          4526,
          2210,
          2221,
          2389,
          3331,
          7409,
          652,
          7678,
          1343,
          1382,
          874,
          3590,
          1322,
          1940,
          3595,
          1422,
          6742,
          7814,
          9277,
          2181,
          1098,
          4057,
          795,
          2825,
          15672,
          6614,
          7824,
          2442,
          1829,
          2171,
          5800,
          1169,
          8947,
          2606,
          1592,
          2186,
          4153,
          2625,
          3485,
          10477,
          1386,
          1278,
          1107,
          3763,
          3711,
          3594,
          3195,
          4454,
          4736,
          2991,
          2142,
          3161,
          18424,
          2848,
          14896,
          2359,
          3345,
          1817,
          12749,
          1366,
          2002,
          6872,
          697,
          1049,
          10297,
          1867,
          1344,
          1747,
          1670,
          1224,
          522,
          1498,
          1919,
          745,
          2063,
          6288,
          6842,
          3527,
          1546,
          929,
          1455,
          1845,
          8358,
          3349,
          2859,
          1533,
          3621,
          3590,
          2145,
          4113,
          10974,
          1893,
          1231,
          3656,
          1154,
          4006,
          3069,
          1740,
          2353,
          3556,
          2397,
          454,
          1715,
          2520,
          3568,
          7166,
          3939,
          1514,
          7393,
          1193,
          7297,
          2831,
          1258,
          753,
          2427,
          2538,
          1264,
          8386,
          4844,
          2923,
          8229,
          2028,
          1433,
          6289,
          1409,
          6579,
          1743,
          3565,
          1569,
          1936,
          3959,
          2390,
          1736,
          3857,
          804,
          1845,
          4576
         ],
         "yaxis": "y"
        }
       ],
       "layout": {
        "legend": {
         "tracegroupgap": 0
        },
        "margin": {
         "t": 60
        },
        "template": {
         "data": {
          "bar": [
           {
            "error_x": {
             "color": "#2a3f5f"
            },
            "error_y": {
             "color": "#2a3f5f"
            },
            "marker": {
             "line": {
              "color": "#E5ECF6",
              "width": 0.5
             },
             "pattern": {
              "fillmode": "overlay",
              "size": 10,
              "solidity": 0.2
             }
            },
            "type": "bar"
           }
          ],
          "barpolar": [
           {
            "marker": {
             "line": {
              "color": "#E5ECF6",
              "width": 0.5
             },
             "pattern": {
              "fillmode": "overlay",
              "size": 10,
              "solidity": 0.2
             }
            },
            "type": "barpolar"
           }
          ],
          "carpet": [
           {
            "aaxis": {
             "endlinecolor": "#2a3f5f",
             "gridcolor": "white",
             "linecolor": "white",
             "minorgridcolor": "white",
             "startlinecolor": "#2a3f5f"
            },
            "baxis": {
             "endlinecolor": "#2a3f5f",
             "gridcolor": "white",
             "linecolor": "white",
             "minorgridcolor": "white",
             "startlinecolor": "#2a3f5f"
            },
            "type": "carpet"
           }
          ],
          "choropleth": [
           {
            "colorbar": {
             "outlinewidth": 0,
             "ticks": ""
            },
            "type": "choropleth"
           }
          ],
          "contour": [
           {
            "colorbar": {
             "outlinewidth": 0,
             "ticks": ""
            },
            "colorscale": [
             [
              0,
              "#0d0887"
             ],
             [
              0.1111111111111111,
              "#46039f"
             ],
             [
              0.2222222222222222,
              "#7201a8"
             ],
             [
              0.3333333333333333,
              "#9c179e"
             ],
             [
              0.4444444444444444,
              "#bd3786"
             ],
             [
              0.5555555555555556,
              "#d8576b"
             ],
             [
              0.6666666666666666,
              "#ed7953"
             ],
             [
              0.7777777777777778,
              "#fb9f3a"
             ],
             [
              0.8888888888888888,
              "#fdca26"
             ],
             [
              1,
              "#f0f921"
             ]
            ],
            "type": "contour"
           }
          ],
          "contourcarpet": [
           {
            "colorbar": {
             "outlinewidth": 0,
             "ticks": ""
            },
            "type": "contourcarpet"
           }
          ],
          "heatmap": [
           {
            "colorbar": {
             "outlinewidth": 0,
             "ticks": ""
            },
            "colorscale": [
             [
              0,
              "#0d0887"
             ],
             [
              0.1111111111111111,
              "#46039f"
             ],
             [
              0.2222222222222222,
              "#7201a8"
             ],
             [
              0.3333333333333333,
              "#9c179e"
             ],
             [
              0.4444444444444444,
              "#bd3786"
             ],
             [
              0.5555555555555556,
              "#d8576b"
             ],
             [
              0.6666666666666666,
              "#ed7953"
             ],
             [
              0.7777777777777778,
              "#fb9f3a"
             ],
             [
              0.8888888888888888,
              "#fdca26"
             ],
             [
              1,
              "#f0f921"
             ]
            ],
            "type": "heatmap"
           }
          ],
          "heatmapgl": [
           {
            "colorbar": {
             "outlinewidth": 0,
             "ticks": ""
            },
            "colorscale": [
             [
              0,
              "#0d0887"
             ],
             [
              0.1111111111111111,
              "#46039f"
             ],
             [
              0.2222222222222222,
              "#7201a8"
             ],
             [
              0.3333333333333333,
              "#9c179e"
             ],
             [
              0.4444444444444444,
              "#bd3786"
             ],
             [
              0.5555555555555556,
              "#d8576b"
             ],
             [
              0.6666666666666666,
              "#ed7953"
             ],
             [
              0.7777777777777778,
              "#fb9f3a"
             ],
             [
              0.8888888888888888,
              "#fdca26"
             ],
             [
              1,
              "#f0f921"
             ]
            ],
            "type": "heatmapgl"
           }
          ],
          "histogram": [
           {
            "marker": {
             "pattern": {
              "fillmode": "overlay",
              "size": 10,
              "solidity": 0.2
             }
            },
            "type": "histogram"
           }
          ],
          "histogram2d": [
           {
            "colorbar": {
             "outlinewidth": 0,
             "ticks": ""
            },
            "colorscale": [
             [
              0,
              "#0d0887"
             ],
             [
              0.1111111111111111,
              "#46039f"
             ],
             [
              0.2222222222222222,
              "#7201a8"
             ],
             [
              0.3333333333333333,
              "#9c179e"
             ],
             [
              0.4444444444444444,
              "#bd3786"
             ],
             [
              0.5555555555555556,
              "#d8576b"
             ],
             [
              0.6666666666666666,
              "#ed7953"
             ],
             [
              0.7777777777777778,
              "#fb9f3a"
             ],
             [
              0.8888888888888888,
              "#fdca26"
             ],
             [
              1,
              "#f0f921"
             ]
            ],
            "type": "histogram2d"
           }
          ],
          "histogram2dcontour": [
           {
            "colorbar": {
             "outlinewidth": 0,
             "ticks": ""
            },
            "colorscale": [
             [
              0,
              "#0d0887"
             ],
             [
              0.1111111111111111,
              "#46039f"
             ],
             [
              0.2222222222222222,
              "#7201a8"
             ],
             [
              0.3333333333333333,
              "#9c179e"
             ],
             [
              0.4444444444444444,
              "#bd3786"
             ],
             [
              0.5555555555555556,
              "#d8576b"
             ],
             [
              0.6666666666666666,
              "#ed7953"
             ],
             [
              0.7777777777777778,
              "#fb9f3a"
             ],
             [
              0.8888888888888888,
              "#fdca26"
             ],
             [
              1,
              "#f0f921"
             ]
            ],
            "type": "histogram2dcontour"
           }
          ],
          "mesh3d": [
           {
            "colorbar": {
             "outlinewidth": 0,
             "ticks": ""
            },
            "type": "mesh3d"
           }
          ],
          "parcoords": [
           {
            "line": {
             "colorbar": {
              "outlinewidth": 0,
              "ticks": ""
             }
            },
            "type": "parcoords"
           }
          ],
          "pie": [
           {
            "automargin": true,
            "type": "pie"
           }
          ],
          "scatter": [
           {
            "fillpattern": {
             "fillmode": "overlay",
             "size": 10,
             "solidity": 0.2
            },
            "type": "scatter"
           }
          ],
          "scatter3d": [
           {
            "line": {
             "colorbar": {
              "outlinewidth": 0,
              "ticks": ""
             }
            },
            "marker": {
             "colorbar": {
              "outlinewidth": 0,
              "ticks": ""
             }
            },
            "type": "scatter3d"
           }
          ],
          "scattercarpet": [
           {
            "marker": {
             "colorbar": {
              "outlinewidth": 0,
              "ticks": ""
             }
            },
            "type": "scattercarpet"
           }
          ],
          "scattergeo": [
           {
            "marker": {
             "colorbar": {
              "outlinewidth": 0,
              "ticks": ""
             }
            },
            "type": "scattergeo"
           }
          ],
          "scattergl": [
           {
            "marker": {
             "colorbar": {
              "outlinewidth": 0,
              "ticks": ""
             }
            },
            "type": "scattergl"
           }
          ],
          "scattermapbox": [
           {
            "marker": {
             "colorbar": {
              "outlinewidth": 0,
              "ticks": ""
             }
            },
            "type": "scattermapbox"
           }
          ],
          "scatterpolar": [
           {
            "marker": {
             "colorbar": {
              "outlinewidth": 0,
              "ticks": ""
             }
            },
            "type": "scatterpolar"
           }
          ],
          "scatterpolargl": [
           {
            "marker": {
             "colorbar": {
              "outlinewidth": 0,
              "ticks": ""
             }
            },
            "type": "scatterpolargl"
           }
          ],
          "scatterternary": [
           {
            "marker": {
             "colorbar": {
              "outlinewidth": 0,
              "ticks": ""
             }
            },
            "type": "scatterternary"
           }
          ],
          "surface": [
           {
            "colorbar": {
             "outlinewidth": 0,
             "ticks": ""
            },
            "colorscale": [
             [
              0,
              "#0d0887"
             ],
             [
              0.1111111111111111,
              "#46039f"
             ],
             [
              0.2222222222222222,
              "#7201a8"
             ],
             [
              0.3333333333333333,
              "#9c179e"
             ],
             [
              0.4444444444444444,
              "#bd3786"
             ],
             [
              0.5555555555555556,
              "#d8576b"
             ],
             [
              0.6666666666666666,
              "#ed7953"
             ],
             [
              0.7777777777777778,
              "#fb9f3a"
             ],
             [
              0.8888888888888888,
              "#fdca26"
             ],
             [
              1,
              "#f0f921"
             ]
            ],
            "type": "surface"
           }
          ],
          "table": [
           {
            "cells": {
             "fill": {
              "color": "#EBF0F8"
             },
             "line": {
              "color": "white"
             }
            },
            "header": {
             "fill": {
              "color": "#C8D4E3"
             },
             "line": {
              "color": "white"
             }
            },
            "type": "table"
           }
          ]
         },
         "layout": {
          "annotationdefaults": {
           "arrowcolor": "#2a3f5f",
           "arrowhead": 0,
           "arrowwidth": 1
          },
          "autotypenumbers": "strict",
          "coloraxis": {
           "colorbar": {
            "outlinewidth": 0,
            "ticks": ""
           }
          },
          "colorscale": {
           "diverging": [
            [
             0,
             "#8e0152"
            ],
            [
             0.1,
             "#c51b7d"
            ],
            [
             0.2,
             "#de77ae"
            ],
            [
             0.3,
             "#f1b6da"
            ],
            [
             0.4,
             "#fde0ef"
            ],
            [
             0.5,
             "#f7f7f7"
            ],
            [
             0.6,
             "#e6f5d0"
            ],
            [
             0.7,
             "#b8e186"
            ],
            [
             0.8,
             "#7fbc41"
            ],
            [
             0.9,
             "#4d9221"
            ],
            [
             1,
             "#276419"
            ]
           ],
           "sequential": [
            [
             0,
             "#0d0887"
            ],
            [
             0.1111111111111111,
             "#46039f"
            ],
            [
             0.2222222222222222,
             "#7201a8"
            ],
            [
             0.3333333333333333,
             "#9c179e"
            ],
            [
             0.4444444444444444,
             "#bd3786"
            ],
            [
             0.5555555555555556,
             "#d8576b"
            ],
            [
             0.6666666666666666,
             "#ed7953"
            ],
            [
             0.7777777777777778,
             "#fb9f3a"
            ],
            [
             0.8888888888888888,
             "#fdca26"
            ],
            [
             1,
             "#f0f921"
            ]
           ],
           "sequentialminus": [
            [
             0,
             "#0d0887"
            ],
            [
             0.1111111111111111,
             "#46039f"
            ],
            [
             0.2222222222222222,
             "#7201a8"
            ],
            [
             0.3333333333333333,
             "#9c179e"
            ],
            [
             0.4444444444444444,
             "#bd3786"
            ],
            [
             0.5555555555555556,
             "#d8576b"
            ],
            [
             0.6666666666666666,
             "#ed7953"
            ],
            [
             0.7777777777777778,
             "#fb9f3a"
            ],
            [
             0.8888888888888888,
             "#fdca26"
            ],
            [
             1,
             "#f0f921"
            ]
           ]
          },
          "colorway": [
           "#636efa",
           "#EF553B",
           "#00cc96",
           "#ab63fa",
           "#FFA15A",
           "#19d3f3",
           "#FF6692",
           "#B6E880",
           "#FF97FF",
           "#FECB52"
          ],
          "font": {
           "color": "#2a3f5f"
          },
          "geo": {
           "bgcolor": "white",
           "lakecolor": "white",
           "landcolor": "#E5ECF6",
           "showlakes": true,
           "showland": true,
           "subunitcolor": "white"
          },
          "hoverlabel": {
           "align": "left"
          },
          "hovermode": "closest",
          "mapbox": {
           "style": "light"
          },
          "paper_bgcolor": "white",
          "plot_bgcolor": "#E5ECF6",
          "polar": {
           "angularaxis": {
            "gridcolor": "white",
            "linecolor": "white",
            "ticks": ""
           },
           "bgcolor": "#E5ECF6",
           "radialaxis": {
            "gridcolor": "white",
            "linecolor": "white",
            "ticks": ""
           }
          },
          "scene": {
           "xaxis": {
            "backgroundcolor": "#E5ECF6",
            "gridcolor": "white",
            "gridwidth": 2,
            "linecolor": "white",
            "showbackground": true,
            "ticks": "",
            "zerolinecolor": "white"
           },
           "yaxis": {
            "backgroundcolor": "#E5ECF6",
            "gridcolor": "white",
            "gridwidth": 2,
            "linecolor": "white",
            "showbackground": true,
            "ticks": "",
            "zerolinecolor": "white"
           },
           "zaxis": {
            "backgroundcolor": "#E5ECF6",
            "gridcolor": "white",
            "gridwidth": 2,
            "linecolor": "white",
            "showbackground": true,
            "ticks": "",
            "zerolinecolor": "white"
           }
          },
          "shapedefaults": {
           "line": {
            "color": "#2a3f5f"
           }
          },
          "ternary": {
           "aaxis": {
            "gridcolor": "white",
            "linecolor": "white",
            "ticks": ""
           },
           "baxis": {
            "gridcolor": "white",
            "linecolor": "white",
            "ticks": ""
           },
           "bgcolor": "#E5ECF6",
           "caxis": {
            "gridcolor": "white",
            "linecolor": "white",
            "ticks": ""
           }
          },
          "title": {
           "x": 0.05
          },
          "xaxis": {
           "automargin": true,
           "gridcolor": "white",
           "linecolor": "white",
           "ticks": "",
           "title": {
            "standoff": 15
           },
           "zerolinecolor": "white",
           "zerolinewidth": 2
          },
          "yaxis": {
           "automargin": true,
           "gridcolor": "white",
           "linecolor": "white",
           "ticks": "",
           "title": {
            "standoff": 15
           },
           "zerolinecolor": "white",
           "zerolinewidth": 2
          }
         }
        },
        "xaxis": {
         "anchor": "y",
         "domain": [
          0,
          1
         ],
         "title": {
          "text": "duration"
         },
         "type": "log"
        },
        "yaxis": {
         "anchor": "x",
         "domain": [
          0,
          1
         ],
         "title": {
          "text": "credit_amount"
         },
         "type": "log"
        }
       }
      }
     },
     "metadata": {},
     "output_type": "display_data"
    }
   ],
   "source": [
    "px.scatter(\n",
    "    credit_data,\n",
    "    x='duration',\n",
    "    y='credit_amount',\n",
    "    log_x=True,\n",
    "    log_y=True,\n",
    ")"
   ]
  },
  {
   "cell_type": "code",
   "execution_count": 10,
   "metadata": {},
   "outputs": [
    {
     "data": {
      "application/vnd.plotly.v1+json": {
       "config": {
        "plotlyServerURL": "https://plot.ly"
       },
       "data": [
        {
         "hovertemplate": "duration=%{x}<br>credit_amount=%{y}<extra></extra>",
         "legendgroup": "",
         "marker": {
          "color": "#636efa",
          "symbol": "circle"
         },
         "mode": "markers",
         "name": "",
         "orientation": "v",
         "showlegend": false,
         "type": "scatter",
         "x": [
          0.7781512503836436,
          1.6812412373755872,
          1.0791812460476249,
          1.6232492903979006,
          1.380211241711606,
          1.5563025007672873,
          1.380211241711606,
          1.5563025007672873,
          1.0791812460476249,
          1.4771212547196624,
          1.0791812460476249,
          1.6812412373755872,
          1.0791812460476249,
          1.380211241711606,
          1.1760912590556813,
          1.380211241711606,
          1.380211241711606,
          1.4771212547196624,
          1.380211241711606,
          1.380211241711606,
          0.9542425094393249,
          0.7781512503836436,
          1,
          1.0791812460476249,
          1,
          0.7781512503836436,
          0.7781512503836436,
          1.0791812460476249,
          0.8450980400142568,
          1.7781512503836436,
          1.255272505103306,
          1.380211241711606,
          1.255272505103306,
          1.0791812460476249,
          1.0791812460476249,
          1.6532125137753437,
          1.6812412373755872,
          1.255272505103306,
          1,
          0.9542425094393249,
          1.4771212547196624,
          1.0791812460476249,
          1.255272505103306,
          1.4771212547196624,
          1.6812412373755872,
          1.0413926851582251,
          1.5563025007672873,
          0.7781512503836436,
          1.0413926851582251,
          1.0791812460476249,
          1.380211241711606,
          1.4313637641589874,
          1.0791812460476249,
          1.255272505103306,
          1.5563025007672873,
          0.7781512503836436,
          1.0791812460476249,
          1.5563025007672873,
          1.255272505103306,
          1.5563025007672873,
          0.9542425094393249,
          1.1760912590556813,
          1.5563025007672873,
          1.6812412373755872,
          1.380211241711606,
          1.4313637641589874,
          1.0791812460476249,
          1.0791812460476249,
          1.5563025007672873,
          1.5563025007672873,
          1.5563025007672873,
          0.8450980400142568,
          0.9030899869919435,
          1.6232492903979006,
          1.5563025007672873,
          1.0791812460476249,
          1.6232492903979006,
          1.0413926851582251,
          1.7323937598229686,
          1.4771212547196624,
          1.380211241711606,
          1.1760912590556813,
          1.255272505103306,
          1.380211241711606,
          1,
          1.0791812460476249,
          1.255272505103306,
          1.5563025007672873,
          1.255272505103306,
          1.0791812460476249,
          1.0791812460476249,
          1.0791812460476249,
          1.0791812460476249,
          1.380211241711606,
          1.0791812460476249,
          1.7323937598229686,
          1.0791812460476249,
          1.255272505103306,
          1.5563025007672873,
          1.3010299956639813,
          1.380211241711606,
          1.5563025007672873,
          0.7781512503836436,
          0.9542425094393249,
          1.0791812460476249,
          1.380211241711606,
          1.255272505103306,
          1.0791812460476249,
          1.380211241711606,
          1.146128035678238,
          0.7781512503836436,
          1.1760912590556813,
          1.255272505103306,
          1.5563025007672873,
          1.0791812460476249,
          1.6812412373755872,
          1.6232492903979006,
          1,
          1.5185139398778875,
          1.0791812460476249,
          1.3222192947339193,
          1.380211241711606,
          1.0791812460476249,
          1,
          1.255272505103306,
          1.0791812460476249,
          1.0791812460476249,
          1.0791812460476249,
          1.0791812460476249,
          1.0791812460476249,
          1.6812412373755872,
          1.5563025007672873,
          1.1760912590556813,
          1.255272505103306,
          1.7781512503836436,
          1.0791812460476249,
          1.4313637641589874,
          1.0791812460476249,
          1.1760912590556813,
          1.0791812460476249,
          0.7781512503836436,
          1.5563025007672873,
          1.4313637641589874,
          1.255272505103306,
          1.3222192947339193,
          1.6812412373755872,
          0.7781512503836436,
          1.0791812460476249,
          1.5563025007672873,
          1.255272505103306,
          0.7781512503836436,
          1,
          1.5563025007672873,
          1.380211241711606,
          1.380211241711606,
          1.0791812460476249,
          0.9542425094393249,
          1.0791812460476249,
          1.380211241711606,
          0.7781512503836436,
          1.380211241711606,
          1.255272505103306,
          1.1760912590556813,
          1,
          1.5563025007672873,
          0.7781512503836436,
          1.255272505103306,
          1.0413926851582251,
          1.380211241711606,
          1.380211241711606,
          1.1760912590556813,
          1.0791812460476249,
          1.380211241711606,
          0.9030899869919435,
          1.3222192947339193,
          1.4771212547196624,
          1.0791812460476249,
          0.7781512503836436,
          1.0791812460476249,
          1.3222192947339193,
          1.5563025007672873,
          1.5563025007672873,
          1.3222192947339193,
          1.380211241711606,
          1.255272505103306,
          1.1760912590556813,
          0.9542425094393249,
          1.2041199826559248,
          1.0791812460476249,
          1.255272505103306,
          1.380211241711606,
          1.6812412373755872,
          1.4313637641589874,
          0.7781512503836436,
          1.6532125137753437,
          0.9542425094393249,
          0.7781512503836436,
          1.0791812460476249,
          1.380211241711606,
          1.255272505103306,
          0.9542425094393249,
          1.0791812460476249,
          1.4313637641589874,
          1.0791812460476249,
          1.0791812460476249,
          1.4771212547196624,
          1.0791812460476249,
          1.0791812460476249,
          1.380211241711606,
          1.0791812460476249,
          0.9542425094393249,
          1.5563025007672873,
          1.4313637641589874,
          1.4771212547196624,
          1.5563025007672873,
          0.7781512503836436,
          1.255272505103306,
          1.5563025007672873,
          1.380211241711606,
          1,
          1.0791812460476249,
          1.0791812460476249,
          1.0791812460476249,
          1.380211241711606,
          1.1760912590556813,
          1.5563025007672873,
          1.6812412373755872,
          1.0791812460476249,
          0.9542425094393249,
          1.380211241711606,
          1.5563025007672873,
          0.9542425094393249,
          1.0791812460476249,
          1.255272505103306,
          0.6020599913279624,
          1.380211241711606,
          0.7781512503836436,
          1.3222192947339193,
          1.0791812460476249,
          1.4771212547196624,
          1.380211241711606,
          0.7781512503836436,
          1.6812412373755872,
          1.0791812460476249,
          1.0791812460476249,
          1.380211241711606,
          1.0791812460476249,
          0.7781512503836436,
          1.380211241711606,
          1.255272505103306,
          0.7781512503836436,
          1.0791812460476249,
          1.4771212547196624,
          1.380211241711606,
          0.9542425094393249,
          1.7781512503836436,
          1.380211241711606,
          1.0791812460476249,
          1.1760912590556813,
          1.0413926851582251,
          1.0791812460476249,
          1.380211241711606,
          1.255272505103306,
          1.0791812460476249,
          1,
          1.1760912590556813,
          1.5563025007672873,
          1.380211241711606,
          1.146128035678238,
          1.380211241711606,
          1.255272505103306,
          1.0791812460476249,
          1.6812412373755872,
          1.6812412373755872,
          1.4771212547196624,
          0.9542425094393249,
          1.255272505103306,
          1.0791812460476249,
          0.7781512503836436,
          1.380211241711606,
          1.1760912590556813,
          1.0791812460476249,
          1.255272505103306,
          1.1760912590556813,
          1.380211241711606,
          1.6720978579357175,
          1.6812412373755872,
          1.6812412373755872,
          1.0791812460476249,
          1.380211241711606,
          1.0791812460476249,
          1.5563025007672873,
          1.380211241711606,
          1.6232492903979006,
          1.6812412373755872,
          1.6812412373755872,
          1.0791812460476249,
          1,
          1.255272505103306,
          1.3222192947339193,
          0.7781512503836436,
          1.5563025007672873,
          1.380211241711606,
          1,
          1.6812412373755872,
          0.7781512503836436,
          1.4771212547196624,
          1.0791812460476249,
          0.9030899869919435,
          0.9542425094393249,
          1.6812412373755872,
          1.380211241711606,
          1.380211241711606,
          1.0791812460476249,
          0.6020599913279624,
          1.5563025007672873,
          1.0791812460476249,
          1.380211241711606,
          1.0791812460476249,
          1.1760912590556813,
          1.4771212547196624,
          1.380211241711606,
          1.380211241711606,
          1.255272505103306,
          1.255272505103306,
          0.9030899869919435,
          1.0791812460476249,
          1.380211241711606,
          1.5563025007672873,
          0.7781512503836436,
          1.380211241711606,
          1.255272505103306,
          1.7781512503836436,
          1.6812412373755872,
          1.380211241711606,
          0.7781512503836436,
          1.1139433523068367,
          1.1760912590556813,
          1.380211241711606,
          1,
          1.380211241711606,
          1.3222192947339193,
          1.255272505103306,
          1.255272505103306,
          1,
          1.1760912590556813,
          1.1139433523068367,
          1.380211241711606,
          0.7781512503836436,
          0.9542425094393249,
          0.9542425094393249,
          0.9542425094393249,
          1.255272505103306,
          1.0791812460476249,
          1,
          1.380211241711606,
          1.0791812460476249,
          1.5563025007672873,
          1.0791812460476249,
          1.4771212547196624,
          1.255272505103306,
          1.0791812460476249,
          1.0791812460476249,
          0.7781512503836436,
          1.255272505103306,
          1.0791812460476249,
          1.255272505103306,
          1.255272505103306,
          1.5563025007672873,
          1.255272505103306,
          1.5563025007672873,
          1.255272505103306,
          1,
          1.7781512503836436,
          1.7781512503836436,
          1.6812412373755872,
          1.255272505103306,
          0.8450980400142568,
          1.5563025007672873,
          0.7781512503836436,
          1.3010299956639813,
          1.255272505103306,
          1.3424226808222062,
          1.0791812460476249,
          1.4771212547196624,
          1.255272505103306,
          1.255272505103306,
          1.255272505103306,
          1.1760912590556813,
          0.9542425094393249,
          1.255272505103306,
          1.0791812460476249,
          1.5563025007672873,
          0.7781512503836436,
          0.9542425094393249,
          1.591064607026499,
          1.0791812460476249,
          1.5563025007672873,
          1.0791812460476249,
          1.380211241711606,
          1.255272505103306,
          1.255272505103306,
          1.380211241711606,
          1.146128035678238,
          1.255272505103306,
          1.380211241711606,
          1.380211241711606,
          1.1760912590556813,
          1.380211241711606,
          1.0791812460476249,
          1.380211241711606,
          1.5185139398778875,
          1.0791812460476249,
          1,
          1.380211241711606,
          1.5563025007672873,
          1.0791812460476249,
          1.255272505103306,
          1.3222192947339193,
          1.255272505103306,
          1.1760912590556813,
          1.0791812460476249,
          1.0791812460476249,
          1.3222192947339193,
          1.0791812460476249,
          1.255272505103306,
          1.4471580313422192,
          1.255272505103306,
          0.9542425094393249,
          1.255272505103306,
          0.6989700043360189,
          1.380211241711606,
          0.7781512503836436,
          1.380211241711606,
          0.9542425094393249,
          1.0791812460476249,
          0.7781512503836436,
          1.380211241711606,
          1.6232492903979006,
          1.0791812460476249,
          1.0791812460476249,
          1.0791812460476249,
          1.3010299956639813,
          1.0791812460476249,
          1.6812412373755872,
          0.9542425094393249,
          1.5563025007672873,
          0.8450980400142568,
          1.0791812460476249,
          1.1760912590556813,
          1.5563025007672873,
          0.7781512503836436,
          1.0791812460476249,
          1.380211241711606,
          1.380211241711606,
          1.380211241711606,
          1.0413926851582251,
          1.0791812460476249,
          0.7781512503836436,
          1.255272505103306,
          1.5563025007672873,
          1.1760912590556813,
          1.0791812460476249,
          1.0791812460476249,
          1.255272505103306,
          1.380211241711606,
          1.380211241711606,
          1.6812412373755872,
          1.5185139398778875,
          1.380211241711606,
          1.380211241711606,
          0.7781512503836436,
          0.9542425094393249,
          0.7781512503836436,
          1.255272505103306,
          1.255272505103306,
          1.591064607026499,
          1.380211241711606,
          1.0791812460476249,
          1.1760912590556813,
          1.0791812460476249,
          1.380211241711606,
          1.4771212547196624,
          1.1760912590556813,
          1.0791812460476249,
          0.7781512503836436,
          1.0791812460476249,
          1.380211241711606,
          1,
          0.7781512503836436,
          1.0791812460476249,
          1.4313637641589874,
          0.7781512503836436,
          0.7781512503836436,
          1.0791812460476249,
          1.380211241711606,
          1.5563025007672873,
          1.380211241711606,
          1.255272505103306,
          0.7781512503836436,
          1.380211241711606,
          1.5563025007672873,
          0.9542425094393249,
          1.380211241711606,
          1.380211241711606,
          1,
          1.1760912590556813,
          1.1760912590556813,
          1.380211241711606,
          1.591064607026499,
          1.0791812460476249,
          1.5563025007672873,
          1.1760912590556813,
          1.0791812460476249,
          1.380211241711606,
          0.7781512503836436,
          0.7781512503836436,
          1.5563025007672873,
          0.7781512503836436,
          0.7781512503836436,
          1.380211241711606,
          1.255272505103306,
          1.6812412373755872,
          1.380211241711606,
          1.255272505103306,
          1.414973347970818,
          1.1760912590556813,
          0.6020599913279624,
          1.5563025007672873,
          0.7781512503836436,
          1.5563025007672873,
          1.1760912590556813,
          1.0791812460476249,
          1.380211241711606,
          1.380211241711606,
          1.3222192947339193,
          0.7781512503836436,
          1.255272505103306,
          1.6812412373755872,
          1.255272505103306,
          1.0791812460476249,
          1.380211241711606,
          1.4771212547196624,
          1.255272505103306,
          1.0791812460476249,
          1.380211241711606,
          1.380211241711606,
          1.380211241711606,
          1.0791812460476249,
          1.6812412373755872,
          1.0791812460476249,
          0.7781512503836436,
          1.6812412373755872,
          1.0791812460476249,
          0.9542425094393249,
          1.0791812460476249,
          1.255272505103306,
          1.3222192947339193,
          1.380211241711606,
          1.255272505103306,
          1.380211241711606,
          1.380211241711606,
          0.7781512503836436,
          1.5563025007672873,
          1.380211241711606,
          1.380211241711606,
          1.0791812460476249,
          1.380211241711606,
          1.6812412373755872,
          1.6812412373755872,
          1.380211241711606,
          1.4771212547196624,
          1.380211241711606,
          1.1760912590556813,
          0.9542425094393249,
          1.1760912590556813,
          1.0791812460476249,
          1.380211241711606,
          1.5563025007672873,
          1.380211241711606,
          1.255272505103306,
          1.0791812460476249,
          0.9542425094393249,
          1.5563025007672873,
          1.0791812460476249,
          1.255272505103306,
          0.9542425094393249,
          1.0791812460476249,
          1.255272505103306,
          1.0791812460476249,
          1.0791812460476249,
          1.380211241711606,
          1.3222192947339193,
          1.380211241711606,
          1.380211241711606,
          0.7781512503836436,
          1.380211241711606,
          1.380211241711606,
          1.255272505103306,
          1.380211241711606,
          0.8450980400142568,
          0.9542425094393249,
          1.380211241711606,
          1.5563025007672873,
          1,
          1.380211241711606,
          1.380211241711606,
          1.5563025007672873,
          1.255272505103306,
          1.1760912590556813,
          1.0791812460476249,
          1,
          1.3222192947339193,
          1.380211241711606,
          1.255272505103306,
          1.6812412373755872,
          1.7781512503836436,
          0.7781512503836436,
          1.4771212547196624,
          1.0791812460476249,
          1.3222192947339193,
          1.255272505103306,
          1.6812412373755872,
          1.0791812460476249,
          1.255272505103306,
          1.1760912590556813,
          0.7781512503836436,
          0.9542425094393249,
          1.6232492903979006,
          0.9542425094393249,
          1.380211241711606,
          1.255272505103306,
          1.1760912590556813,
          0.9542425094393249,
          1.380211241711606,
          1.0791812460476249,
          1.380211241711606,
          1.7781512503836436,
          1.0791812460476249,
          1.6232492903979006,
          1.255272505103306,
          1.1760912590556813,
          1.1760912590556813,
          1.380211241711606,
          1.255272505103306,
          1.5563025007672873,
          1.4771212547196624,
          1.0791812460476249,
          1.380211241711606,
          1.0791812460476249,
          1.6812412373755872,
          1.0791812460476249,
          1.380211241711606,
          1.5563025007672873,
          1.380211241711606,
          1.146128035678238,
          1.0791812460476249,
          1.6812412373755872,
          1.4771212547196624,
          1.255272505103306,
          1.0791812460476249,
          1.0791812460476249,
          1.3222192947339193,
          0.7781512503836436,
          0.7781512503836436,
          1.380211241711606,
          1.4771212547196624,
          1.6812412373755872,
          1.0791812460476249,
          1.4771212547196624,
          1.380211241711606,
          1.5563025007672873,
          1.7781512503836436,
          0.7781512503836436,
          1.3222192947339193,
          1.4771212547196624,
          1.380211241711606,
          1.8573324964312685,
          1.380211241711606,
          1.255272505103306,
          0.7781512503836436,
          1.0791812460476249,
          1.1760912590556813,
          1.380211241711606,
          1.5563025007672873,
          1.7781512503836436,
          1,
          1.5563025007672873,
          0.9542425094393249,
          1.0791812460476249,
          1.1760912590556813,
          1.1760912590556813,
          1.380211241711606,
          0.7781512503836436,
          1.380211241711606,
          0.7781512503836436,
          1.0791812460476249,
          1.0791812460476249,
          1.255272505103306,
          1.1760912590556813,
          1.0791812460476249,
          1.6812412373755872,
          1.380211241711606,
          1.4771212547196624,
          1.4313637641589874,
          1.1760912590556813,
          1.6812412373755872,
          1.0791812460476249,
          0.9542425094393249,
          0.9542425094393249,
          1.255272505103306,
          0.7781512503836436,
          1.3222192947339193,
          0.9542425094393249,
          1.7781512503836436,
          1.4771212547196624,
          1.4771212547196624,
          1.255272505103306,
          1.380211241711606,
          1.3010299956639813,
          0.9542425094393249,
          0.7781512503836436,
          1.0791812460476249,
          0.9542425094393249,
          1.4313637641589874,
          0.7781512503836436,
          1.1760912590556813,
          1.255272505103306,
          1.6812412373755872,
          1.380211241711606,
          1.380211241711606,
          1.380211241711606,
          0.9030899869919435,
          1.380211241711606,
          0.6020599913279624,
          1.5563025007672873,
          1.380211241711606,
          1.255272505103306,
          0.7781512503836436,
          1.4771212547196624,
          1.380211241711606,
          1,
          1.3222192947339193,
          1.380211241711606,
          1.591064607026499,
          1.1139433523068367,
          1.1760912590556813,
          1.0791812460476249,
          1.3222192947339193,
          1.1760912590556813,
          0.7781512503836436,
          1.255272505103306,
          1.0791812460476249,
          1.4771212547196624,
          1.0791812460476249,
          1.380211241711606,
          0.7781512503836436,
          1.1760912590556813,
          1.380211241711606,
          1.0791812460476249,
          1.1760912590556813,
          1.255272505103306,
          1.0791812460476249,
          1.3222192947339193,
          1.380211241711606,
          1.0791812460476249,
          1.4771212547196624,
          1,
          1.0791812460476249,
          1.0791812460476249,
          1.380211241711606,
          1.5563025007672873,
          1.3222192947339193,
          1.380211241711606,
          1.0791812460476249,
          1.380211241711606,
          1.5563025007672873,
          1.255272505103306,
          1.5563025007672873,
          1.255272505103306,
          1.591064607026499,
          1.380211241711606,
          1.0791812460476249,
          1.0791812460476249,
          1.3010299956639813,
          1.255272505103306,
          1.3424226808222062,
          1.6812412373755872,
          1.6812412373755872,
          1.6020599913279623,
          1.3222192947339193,
          1.380211241711606,
          0.7781512503836436,
          1.380211241711606,
          1.380211241711606,
          0.9542425094393249,
          1.255272505103306,
          1.0791812460476249,
          1.380211241711606,
          0.9542425094393249,
          1.380211241711606,
          1.255272505103306,
          1.3010299956639813,
          1.0791812460476249,
          1.0791812460476249,
          1.5563025007672873,
          0.7781512503836436,
          1.0791812460476249,
          1.6232492903979006,
          1.1760912590556813,
          0.9030899869919435,
          0.7781512503836436,
          1.5563025007672873,
          1.6812412373755872,
          1.6812412373755872,
          1.5563025007672873,
          0.7781512503836436,
          0.7781512503836436,
          1.5563025007672873,
          1.255272505103306,
          1.0791812460476249,
          1.0791812460476249,
          1.5563025007672873,
          0.9030899869919435,
          1.255272505103306,
          1.3222192947339193,
          1.255272505103306,
          1.255272505103306,
          1.5563025007672873,
          1.6812412373755872,
          1.380211241711606,
          1.255272505103306,
          1.6532125137753437,
          1.380211241711606,
          1.1760912590556813,
          1.0791812460476249,
          1.0791812460476249,
          0.6020599913279624,
          1.380211241711606,
          1.380211241711606,
          1.5563025007672873,
          1.3222192947339193,
          1.255272505103306,
          1.380211241711606,
          1.255272505103306,
          1.3222192947339193,
          1.255272505103306,
          1.380211241711606,
          0.9542425094393249,
          1.0791812460476249,
          1.3010299956639813,
          1.380211241711606,
          1.1760912590556813,
          1.255272505103306,
          1.5563025007672873,
          1.380211241711606,
          1,
          1.1760912590556813,
          1.1760912590556813,
          0.9542425094393249,
          1.380211241711606,
          1.255272505103306,
          1.380211241711606,
          1.4313637641589874,
          1,
          1.1760912590556813,
          1.255272505103306,
          1.0791812460476249,
          1.5563025007672873,
          1.0791812460476249,
          1.5563025007672873,
          0.7781512503836436,
          1.380211241711606,
          1.1760912590556813,
          1.0791812460476249,
          1.0413926851582251,
          1.255272505103306,
          1.5563025007672873,
          0.9542425094393249,
          1.4771212547196624,
          1.380211241711606,
          1.380211241711606,
          1.4771212547196624,
          1.255272505103306,
          1.380211241711606,
          1.0791812460476249,
          1.380211241711606,
          1.6812412373755872,
          1.5563025007672873,
          1.4471580313422192,
          1.4313637641589874,
          1.1760912590556813,
          1.0791812460476249,
          1.5563025007672873,
          1.255272505103306,
          1.5563025007672873,
          1.3222192947339193,
          1.0791812460476249,
          1.1760912590556813,
          1.255272505103306,
          1.2041199826559248,
          1.3010299956639813,
          1.5563025007672873,
          1.1760912590556813,
          1.380211241711606,
          1.0791812460476249,
          1.3222192947339193,
          1.5563025007672873,
          1.1760912590556813,
          0.9542425094393249,
          1.5563025007672873,
          1.380211241711606,
          1.4771212547196624,
          1.0413926851582251,
          1.380211241711606,
          1.6812412373755872,
          1,
          0.7781512503836436,
          1.380211241711606,
          1.380211241711606,
          1.255272505103306,
          1.6812412373755872,
          0.9542425094393249,
          1.0791812460476249,
          1.380211241711606,
          1.0791812460476249,
          1.255272505103306,
          1.6812412373755872,
          1.4771212547196624,
          1.0791812460476249,
          1.380211241711606,
          0.9542425094393249,
          0.9542425094393249,
          1.0791812460476249,
          1.0791812460476249,
          1.4771212547196624,
          0.9542425094393249,
          0.7781512503836436,
          1.7781512503836436,
          1.380211241711606,
          1.0791812460476249,
          1,
          1.380211241711606,
          0.6020599913279624,
          1.1760912590556813,
          1.6812412373755872,
          1.380211241711606,
          1.0791812460476249,
          1.255272505103306,
          1.380211241711606,
          1.255272505103306,
          1.5563025007672873,
          1.380211241711606,
          1.5563025007672873,
          1.0791812460476249,
          1.380211241711606,
          1.4771212547196624,
          0.9542425094393249,
          1.4471580313422192,
          1.380211241711606,
          0.7781512503836436,
          1.3222192947339193,
          1.1760912590556813,
          1.380211241711606,
          0.7781512503836436,
          1.4771212547196624,
          1.4313637641589874,
          1.1760912590556813,
          1.6232492903979006,
          1.0413926851582251,
          1.1760912590556813,
          1.380211241711606,
          1.380211241711606,
          1.7781512503836436,
          1.4771212547196624,
          1.380211241711606,
          0.7781512503836436,
          1.255272505103306,
          1.380211241711606,
          1.1760912590556813,
          1.4771212547196624,
          1.6812412373755872,
          1.3222192947339193,
          1.5563025007672873,
          1.380211241711606,
          1.1760912590556813,
          1.6232492903979006,
          1.1139433523068367,
          1.380211241711606,
          1.380211241711606,
          1.0791812460476249,
          1.1760912590556813,
          1.255272505103306,
          1.5563025007672873,
          1.0791812460476249,
          1.0791812460476249,
          1.4771212547196624,
          1.0791812460476249,
          1.6532125137753437,
          1.6532125137753437
         ],
         "xaxis": "x",
         "y": [
          3.0678145111618402,
          3.7745899502647946,
          3.321391278311689,
          3.8966364305295844,
          3.6875289612146345,
          3.9568884546500773,
          3.452553063228925,
          3.841859809775061,
          3.485579476984679,
          3.7188337183038622,
          3.1122697684172707,
          3.634275694625944,
          3.1950689964685903,
          3.0788191830988487,
          3.1470576710283598,
          3.1078880251827985,
          3.3845326154942486,
          3.906981153228854,
          4.099646117123231,
          3.5352941200427703,
          3.329194415088451,
          3.422753941301348,
          3.350441856535061,
          3.256236533205923,
          3.3157604906657347,
          3.137986732723532,
          2.629409599102719,
          2.611723308007342,
          3.382917135087531,
          3.834802054048699,
          3.281714970027296,
          3.60422605308447,
          3.7683420586445333,
          3.1017470739463664,
          3.1684974835230326,
          3.6763277338813203,
          3.786041210242554,
          3.322219294733919,
          3.0881360887005513,
          2.660865478003869,
          3.3679147387937527,
          3.0637085593914173,
          3.7926717891415676,
          3.7914801160200007,
          3.788380515319563,
          3.1439511164239633,
          3.361538971269279,
          3.130976691605617,
          3.8590181438888944,
          3.3165993020938607,
          3.3679147387937527,
          3.775610448006361,
          3.1010593549081156,
          3.5286596452349897,
          3.3473300153169503,
          2.8937617620579434,
          3.8107700112343634,
          3.9807303765359454,
          3.292477593667784,
          3.794418330874141,
          3.143327129992046,
          3.1866738674997452,
          3.2907022432878543,
          4.158995376848309,
          3.502563669107363,
          3.7151673578484576,
          3.3366598234544202,
          3.003029470553618,
          3.2598326990634834,
          3.379124146070392,
          3.910250772300148,
          2.863322860120456,
          3.06595298031387,
          3.774808830310706,
          3.2960066693136723,
          3.1835545336188615,
          3.5982431916536224,
          3.6786094165589263,
          3.974787932213558,
          3.583425500406507,
          3.7740057302582093,
          3.083860800866573,
          3.1953460583484197,
          3.244277120801843,
          3.364550995353972,
          3.149834696715785,
          3.1122697684172707,
          4.100783962075867,
          3.351989455435632,
          3.044539760392411,
          2.790988475088816,
          3.1489109931093564,
          2.9014583213961123,
          3.5583485087616196,
          3.119915410257991,
          4.202624523578978,
          3.30362797638389,
          3.4186326873540653,
          3.368658712392227,
          3.848620117434134,
          3.1670217957902564,
          3.3660492098002353,
          2.9694159123539814,
          3.2830749747354715,
          3.388278863459639,
          4.076931574555656,
          3.810098040681143,
          3.7837606957439243,
          3.8876735524544475,
          3.1492191126553797,
          3.1610683854711747,
          2.593286067020457,
          3.7965743332104296,
          3.895146189375992,
          3.225309281725863,
          3.553640336231354,
          3.855761372339948,
          3.3287872003545345,
          3.631545227834309,
          3.3740147402919116,
          3.263636068588108,
          3.587486465410964,
          3.2474822606770544,
          2.8926510338773004,
          3.284205067701794,
          3.3265406685165617,
          2.8457180179666586,
          2.8055008581584002,
          3.2695129442179165,
          3.5439439424829065,
          3.9287542021766533,
          3.8380300829853202,
          3.4326486600131068,
          3.2975416678181597,
          4.0062092405376575,
          3.093421685162235,
          3.9351544472161684,
          2.884228769632604,
          3.4358443659844413,
          3.274388795550379,
          2.8506462351830666,
          3.6807886115066824,
          3.5335178620169674,
          3.3912880485952974,
          3.3594560201209864,
          3.5521813388393357,
          2.934498451243568,
          2.833784374656479,
          3.7300551523755,
          3.1992064791616577,
          3.1290450598879582,
          3.284205067701794,
          3.767007363949804,
          3.8897497752640375,
          3.8430458105345693,
          3.1078880251827985,
          3.1099158630237933,
          2.530199698203082,
          3.545554507234065,
          3.2782962080912736,
          3.4581844355702627,
          3.0232524596337114,
          3.1010593549081156,
          3.8637985386805003,
          2.9585638832219674,
          3.473924693416157,
          3.053462604925455,
          3.197831693328903,
          3.5990092398233435,
          3.28668096935493,
          2.9777236052888476,
          2.8825245379548803,
          3.314709692955174,
          3.150449409460881,
          3.5332635167787148,
          3.874191804679071,
          3.4111144185509046,
          2.5289167002776547,
          3.292920299600006,
          2.756636108245848,
          3.9810026899413997,
          3.6488477083728936,
          3.2166935991697545,
          3.5771469848275252,
          2.946452265013073,
          3.1335389083702174,
          3.7100326990657537,
          3.070037866607755,
          2.82865989653532,
          3.5110808455391185,
          3.661907292766021,
          3.584783378996508,
          3.592731766393962,
          3.323870606540509,
          3.4815859363676225,
          3.1763806922432702,
          3.1405080430381798,
          2.978180516937414,
          3.4409090820652177,
          3.633165353683903,
          2.971275848738105,
          3.0674428427763805,
          3.7090154169721172,
          2.9552065375419416,
          3.1746411926604483,
          4.026247181477774,
          3.28668096935493,
          3.1535099893008374,
          3.8174331441113845,
          3.1501421618485588,
          3.4877038631637265,
          3.583765368285,
          3.723701893991268,
          3.2805783703680764,
          3.5240064455573727,
          2.9694159123539814,
          3.491921712586151,
          3.59250984790068,
          3.4801507252732806,
          3.13481437032046,
          2.7958800173440754,
          3.0791812460476247,
          2.8494194137968996,
          3.473924693416157,
          3.668106237932731,
          3.4171394097273255,
          4.039850177749664,
          3.8956987269593055,
          3.1696744340588068,
          3.498172660636544,
          3.6242820958356683,
          3.3991543339582164,
          3.3306166672944384,
          2.937517892017347,
          3.188647295999717,
          3.2607866686549762,
          4.16301220977483,
          3.442009159140952,
          3.1109262422664203,
          3.401745082237063,
          2.9614210940664485,
          3.2027606873931997,
          3.663229634532868,
          3.0737183503461227,
          3.5374412834079476,
          3.09968064110925,
          2.8555191556678,
          3.0806264869218056,
          3.2844307338445193,
          2.6364878963533656,
          2.823474229170301,
          3.35237549500052,
          3.3324384599156054,
          3.6181527333785195,
          3.307496037913213,
          3.870286828992591,
          3.4287825114969546,
          3.3322364154914434,
          3.5811528919662887,
          3.0622058088197126,
          3.219322508419337,
          3.204933522354145,
          3.7244397233970745,
          3.4390167283875126,
          3.090258052931316,
          2.9041743682841634,
          3.7996162044814987,
          3.185542154854375,
          3.953179601065634,
          2.9995654882259823,
          3.4252080511386565,
          3.14674801363064,
          4.085254891103877,
          3.48572142648158,
          4.079108857601436,
          3.4308809464528913,
          3.380934463330702,
          3.1010593549081156,
          3.6637951222194074,
          3.278982116865443,
          3.527372082827612,
          3.1970047280230456,
          3.1598678470925665,
          3.1818435879447726,
          3.5886078047426864,
          4.030275802889288,
          3.680154141734373,
          3.8797837800904156,
          3.0382226383687185,
          3.010299956639812,
          3.0318122713303706,
          3.973035440686933,
          3.807467375684278,
          3.6808791744268112,
          3.882467614895371,
          3.998259338423699,
          3.6697816152085365,
          3.1095785469043866,
          3.400537989391946,
          3.4385423487861106,
          2.8273692730538253,
          3.5802405082653763,
          3.1283992687178066,
          3.016197353512439,
          4.005480809979401,
          3.188365926063148,
          3.6822353569025643,
          2.8615344108590377,
          3.0923696996291206,
          2.4409090820652177,
          3.730862992046494,
          3.741230411025471,
          3.5739154404215507,
          2.8356905714924254,
          3.1743505974793798,
          3.4387005329007363,
          2.850033257689769,
          3.638589083292717,
          2.8457180179666586,
          3.561459171241916,
          3.6282867310895144,
          3.2873537727147464,
          3.4638929889859074,
          3.424718337331567,
          3.011993114659257,
          3.5312233745330266,
          3.763502865467597,
          3.1832698436828046,
          3.650598898172657,
          3.0285712526925375,
          3.82052984852352,
          3.2704459080179626,
          3.869700973673878,
          4.064083435963596,
          3.6138418218760693,
          3.529430354366986,
          3.3224260524059526,
          3.1055101847699738,
          3.6200318951262975,
          3.182129214052998,
          3.7591388162811663,
          3.5561818466529114,
          3.506910725551518,
          3.6472851450253665,
          3.5964871337365443,
          3.1640552918934515,
          2.94546858513182,
          3.5749567757645067,
          3.2412973871099933,
          3.055378331375,
          3.092018470752797,
          2.9818186071706636,
          3.5090680450171616,
          3.7923216363515735,
          2.8615344108590377,
          3.095518042323151,
          3.3675422735205767,
          3.6496268868405295,
          2.8898617212581885,
          3.381295623003826,
          3.0930713063760633,
          3.5313511645830595,
          3.351603072419129,
          3.24699069924155,
          3.3932241163612975,
          3.188084373714938,
          3.5854607295085006,
          3.5622928644564746,
          3.53731527311201,
          3.477265995424853,
          3.488409688903198,
          3.7831886910752575,
          3.3316297176299323,
          4.138492167149976,
          4.169733197942518,
          3.885643871835764,
          3.3654879848909,
          2.9273703630390235,
          4.155882358081815,
          2.558708570533166,
          3.344785122632661,
          4.113140836867081,
          3.1082266563749283,
          3.123851640967086,
          3.6306312440205,
          3.3498600821923312,
          3.0515383905153275,
          3.8677031332700977,
          3.3666097103924297,
          3.1610683854711747,
          3.2600713879850747,
          2.9925535178321354,
          3.511749711344983,
          3.2915908256580013,
          3.381295623003826,
          4.070407321740119,
          3.4112829130173843,
          3.370698092575577,
          3.0874264570362855,
          3.1806992012960347,
          3.168202746842631,
          3.2757719001649312,
          3.936915680945254,
          2.9041743682841634,
          3.4622482153549976,
          3.30941722577814,
          3.3418300569205104,
          3.0224283711854865,
          3.5098742850047193,
          2.972665592266111,
          3.2938043599193367,
          3.8605176774617465,
          3.3602146132953523,
          3.203304916138483,
          3.140193678578631,
          3.766561552637531,
          3.4114513421379375,
          3.9279346817411795,
          3.4443571256560275,
          3.0178677189635055,
          3.503245771465113,
          3.3070679506612985,
          2.9813655090785445,
          3.2016701796465816,
          3.4412236742426123,
          3.443888546777372,
          3.4382258076045296,
          3.060320028688285,
          3.118264726089479,
          3.0755469613925306,
          3.5375672571526753,
          4.054153240345694,
          3.2723058444020863,
          3.313445370426414,
          3.3296012483565187,
          3.171433900943008,
          2.8195439355418688,
          3.1095785469043866,
          3.530711837981657,
          2.784617292632875,
          3.2750808984568587,
          3.2095150145426308,
          3.419790586106363,
          2.8567288903828825,
          3.707229419327294,
          3.0948203803548,
          3.26528962586083,
          3.4109458586877746,
          3.1535099893008374,
          3.1795517911651876,
          4.043519460245756,
          2.714329759745233,
          3.4407517004791854,
          3.4265112613645754,
          3.682776646314434,
          3.427972713608209,
          3.591621038213319,
          3.5296869537729165,
          2.5352941200427703,
          3.662190990859007,
          3.558708570533166,
          3.2357808703275603,
          3.4795753101749884,
          2.877371345869774,
          3.290034611362518,
          3.465977368285823,
          3.219846386024361,
          3.8596185787721806,
          3.441538038702161,
          3.67015304519218,
          3.4902394852462875,
          2.651278013998144,
          2.815577748324267,
          3.0927206446840994,
          3.095169351431755,
          3.4933186082321015,
          3.4097641042663462,
          3.711975854351756,
          3.015778756389041,
          3.1696744340588068,
          3.55303301620244,
          3.079543007402906,
          3.5589484459780394,
          2.9822712330395684,
          3.0655797147284485,
          3.0824263008607717,
          3.4881274962474587,
          3.5748411950633847,
          3.151676230847048,
          3.5462958351214424,
          3.286456469746983,
          3.9200189160289147,
          3.0923696996291206,
          2.5658478186735176,
          3.3267453795653217,
          3.4765418090274287,
          3.9558800862253753,
          3.2000292665537704,
          3.1142772965615864,
          3.1215598441875008,
          3.4945719842301988,
          3.739809599021359,
          3.0515383905153275,
          3.084933574936716,
          3.081707270097349,
          3.116939646550756,
          3.3729120029701067,
          3.8356905714924254,
          3.1501421618485588,
          3.933892035764211,
          2.88024177589548,
          3.670802284260944,
          3.4292676664331685,
          2.7671558660821804,
          3.3531465462139796,
          2.784617292632875,
          3.133858125203335,
          3.8529067587969537,
          3.0802656273398448,
          2.845098040014257,
          3.7409150764812824,
          3.503790683057181,
          3.8524189929370016,
          3.5425764762605296,
          3.0464951643347082,
          3.901240302073309,
          3.185258765296585,
          3.176958980586908,
          3.362105319293773,
          2.8208579894397,
          3.356599435724971,
          3.420120848085703,
          3.176958980586908,
          3.117602691690084,
          3.492061604512599,
          3.3653007486379876,
          3.137986732723532,
          3.5577477416414682,
          3.890029586163417,
          3.484157424365381,
          3.185825359612962,
          3.307923703611882,
          3.8027737252919755,
          3.456973013635818,
          3.098643725817057,
          3.1248301494138593,
          3.3057811512549824,
          3.1908917169221698,
          2.7965743332104296,
          3.94733567594874,
          2.998259338423699,
          3.2430380486862944,
          3.845035993513415,
          3.299942900022767,
          3.0788191830988487,
          3.124178055474675,
          3.3575537197430814,
          3.699230502883409,
          3.5504729571065634,
          3.285107029566812,
          3.4718781993072905,
          3.189209489582306,
          2.8344207036815328,
          4.093036252945163,
          3.6732052817790453,
          3.1911714557285586,
          3.137354111370733,
          3.4112829130173843,
          3.599773939146388,
          3.8298181874388777,
          3.509740015570382,
          3.774808830310706,
          3.7350397050337207,
          2.906335041805091,
          3.0342272607705505,
          3.4452927694259716,
          3.4668676203541096,
          3.284881714655453,
          3.450249108319361,
          2.971739590887778,
          3.0236639181977933,
          3.494711025205263,
          3.142389466118836,
          3.377306251068199,
          3.3289908554494287,
          3.30941722577814,
          3.4470028984661623,
          3.110252917353403,
          3.085290578230065,
          3.351409751925439,
          2.5854607295085006,
          3.2933625547114453,
          3.196452541703389,
          3.4342494523964757,
          3.132899769944483,
          2.9689496809813427,
          3.15896526038341,
          3.62746827245971,
          3.443262987458695,
          3.5869247081448203,
          3.367169488534681,
          2.9628426812012423,
          3.2641091563058082,
          3.524915147539867,
          3.1055101847699738,
          3.4514794051248616,
          3.65571454961871,
          3.426673888021373,
          3.3119656603683665,
          3.113943352306837,
          2.869818207979328,
          3.093421685162235,
          3.5259513412480126,
          3.5601458398490475,
          3.2571984261393445,
          4.086502198970369,
          3.9617532141867824,
          3.5653755027140734,
          3.5366846726209302,
          2.806179973983887,
          3.562530768862261,
          3.184691430817599,
          3.5926208213219826,
          3.269045709657623,
          3.4149733479708178,
          3.296445794206396,
          3.325515663363148,
          3.157456768134226,
          3.606596309179285,
          3.583425500406507,
          3.5634810853944106,
          3.1911714557285586,
          3.1595671932336202,
          3.296665190261531,
          3.1319392952104246,
          3.1439511164239633,
          3.1386184338994925,
          4.1945975852425095,
          3.1740598077250253,
          3.640481436970422,
          2.8750612633917,
          3.1166077439882485,
          3.6649238934380817,
          3.267406418752904,
          3.27415784926368,
          3.9020028913507296,
          3.6611498572447867,
          3.141763230275788,
          2.9763499790032735,
          2.835056101720116,
          3.8736692927067944,
          3.2837533833325265,
          3.362293937964231,
          3.9077337369976552,
          3.3703280077795106,
          3.5991185650553628,
          2.948412965778601,
          4.009535876619218,
          3.625415352154408,
          3.8035253955765325,
          3.11293997608408,
          2.9542425094393248,
          3.350441856535061,
          3.0211892990699383,
          3.0199466816788423,
          3.8003045775561985,
          3.5435714239623652,
          3.5573868820595074,
          3.6851144690465394,
          3.4795753101749884,
          3.61689542640076,
          3.759063188160487,
          4.015611204503513,
          3.3180633349627615,
          3.41161970596323,
          3.656098202012832,
          3.711807229041191,
          3.7478000908643687,
          3.377306251068199,
          3.1622656142980214,
          3.1869563354654122,
          3.3577443251803754,
          3.1696744340588068,
          3.7078255683322316,
          3.993744756554462,
          3.814713612695977,
          3.1293675957229854,
          3.4566696294237578,
          3.4398062113933303,
          3.5624118329497274,
          2.989004615698537,
          3.420120848085703,
          3.461798557525109,
          3.6735737964230517,
          3.3586960995738107,
          3.092018470752797,
          3.0425755124401905,
          2.966610986681934,
          3.255272505103306,
          3.279894980011638,
          3.050379756261458,
          3.801472313521471,
          3.1389339402569236,
          3.3984608496082234,
          3.402777069610347,
          3.7262380468026377,
          3.8169038393756605,
          3.472610197596045,
          3.0813473078041325,
          3.325925955771466,
          2.798650645445269,
          3.0784568180532927,
          3.39375064034808,
          3.056142262059052,
          4.146964796989748,
          3.88058495606498,
          3.4881274962474587,
          3.1775364999298623,
          3.498034723687027,
          3.7887338588277073,
          3.1261314072619846,
          2.6364878963533656,
          3.089198366805149,
          2.8976270912904414,
          3.4099331233312946,
          2.3979400086720375,
          3.1192558892779365,
          3.274619619091238,
          3.807264355276107,
          3.1055101847699738,
          3.8063835018241674,
          3.298197867109815,
          2.8808135922807914,
          3.4154741681092355,
          3.5289167002776547,
          3.6009728956867484,
          4.06295783408451,
          3.6414741105040997,
          3.830010935936118,
          3.6314437690131722,
          3.3664229572259727,
          3.0203612826477078,
          3.499687082618404,
          3.394976719554564,
          4.151645602511628,
          3.2545480771089736,
          3.3998467127129226,
          3.1051694279993316,
          3.719993826367604,
          3.481299273332856,
          2.6314437690131722,
          2.9894498176666917,
          2.924795995797912,
          3.761251074308663,
          3.1917303933628562,
          3.1089031276673134,
          3.1136091510730277,
          3.104145550554008,
          3.1439511164239633,
          2.8394780473741985,
          3.7028611705729295,
          3.3271545124094315,
          3.345177616542704,
          4.103119253545714,
          3.3914644118391033,
          3.062581984228163,
          3.4924810101288766,
          3.4625477288026643,
          3.5583485087616196,
          3.2187979981117376,
          3.4490153163477864,
          3.9066043717249803,
          3.515211304327802,
          3.3469394626989906,
          3.1702617153949575,
          3.1370374547895126,
          3.5483894181329183,
          3.5451833682154064,
          3.7567121601647715,
          3.587935348636356,
          3.693111115462141,
          3.287801729930226,
          3.1492191126553797,
          2.9222062774390163,
          3.8107700112343634,
          3.2880255353883627,
          3.427323786357247,
          3.4394905903896835,
          3.7940695839816323,
          3.7780064614235083,
          3.074816440645175,
          3.800235789327354,
          3.0867156639448825,
          3.461198288622493,
          3.486005186362242,
          3.3619166186686433,
          3.875697761980208,
          3.09968064110925,
          2.8555191556678,
          3.190051417759206,
          3.203304916138483,
          3.254064452914338,
          3.6306312440205,
          2.9894498176666917,
          3.873436863222037,
          3.9671265810764127,
          2.7708520116421442,
          2.9684829485539352,
          3.9676883504533125,
          3.249931756634195,
          2.957607287060095,
          2.6848453616444123,
          3.983581186705791,
          3.484442207642407,
          3.5945030438200893,
          3.871105700985585,
          3.1264561134318045,
          3.1914510144648953,
          4.200221026191876,
          3.128722284338427,
          3.041787318971752,
          3.4794313371977363,
          3.433289685195026,
          2.8639173769578603,
          3.5774917998372255,
          3.204662511748219,
          3.598352709869284,
          3.6196150057428063,
          3.920905604164024,
          3.8248414717537007,
          3.3756636139608855,
          3.084933574936716,
          4.072470482303893,
          3.7062055418819706,
          3.36679638328673,
          3.0342272607705505,
          2.9474337218870508,
          2.7788744720027396,
          3.4708513245261177,
          3.4168068718229443,
          3.714245911017894,
          3.4761067168401913,
          3.2884728005997825,
          3.192846115188842,
          3.5342800052050816,
          3.5994463757252757,
          3.830010935936118,
          3.0965624383741357,
          3.13481437032046,
          2.8506462351830666,
          3.3492775274679554,
          3.606596309179285,
          3.16761267272753,
          3.15896526038341,
          4.036429265626675,
          3.1684974835230326,
          2.951337518795918,
          3.5241363765925686,
          3.5975855017522047,
          3.5535189401489697,
          3.7637274037656985,
          3.336259552014193,
          3.3872118003137306,
          3.65571454961871,
          3.3443922736851106,
          3.346548558548474,
          3.378216149749878,
          3.522574632691177,
          3.86975959478241,
          2.81424759573192,
          3.8852481077813863,
          3.1280760126687155,
          3.1405080430381798,
          2.941511432634403,
          3.5550944485783194,
          3.1212314551496214,
          3.287801729930226,
          3.555698894718901,
          3.1528995963937474,
          3.828788748184953,
          3.8928734068887656,
          3.9674075565974727,
          3.3386556655787003,
          3.040602340114073,
          3.6082050077043264,
          2.9003671286564705,
          3.4510184521554574,
          4.19512442298668,
          3.820464190577684,
          3.893428841779545,
          3.3877456596088638,
          3.262213705476417,
          3.3366598234544202,
          3.7634279935629373,
          3.0678145111618402,
          3.951677437343301,
          3.415974411376566,
          3.20194306340165,
          3.339650157613684,
          3.6183619311098782,
          3.4191293077419758,
          3.5422027824340283,
          4.020236943910808,
          3.141763230275788,
          3.1065308538223815,
          3.044147620878723,
          3.575534218319864,
          3.569490954348783,
          3.555578072772955,
          3.504470862494419,
          3.6487502126980194,
          3.6754116937148633,
          3.475816413031318,
          3.330819466495837,
          3.49982449583958,
          4.265383924956175,
          3.4545399849648186,
          4.173069663637268,
          3.3727279408855955,
          3.524396122103842,
          3.2593549273080344,
          4.105476121121821,
          3.1354506993455136,
          3.3014640731433,
          3.8370831508231857,
          2.8432327780980096,
          3.020775488193558,
          4.012710712741787,
          3.2711443179490782,
          3.1283992687178066,
          3.2422929049829308,
          3.2227164711475833,
          3.087781417809542,
          2.717670503002262,
          3.1755118133634475,
          3.2830749747354715,
          2.8721562727482928,
          3.3144992279731516,
          3.7985125330313516,
          3.8351830698490437,
          3.5474054596674898,
          3.189209489582306,
          2.968015713993642,
          3.162862993321926,
          3.265996370495079,
          3.922102366807607,
          3.524915147539867,
          3.456214155357989,
          3.185542154854375,
          3.5588285248170117,
          3.5550944485783194,
          3.331427296520743,
          3.614158709509175,
          4.040364955860061,
          3.277150613963797,
          3.090258052931316,
          3.5630061870617937,
          3.0622058088197126,
          3.6027109449575576,
          3.4869968884318228,
          3.2405492482826,
          3.3716219271760215,
          3.5509617522981762,
          3.379668034033654,
          2.6570558528571038,
          3.2342641243787895,
          3.401400540781544,
          3.5524248457040857,
          3.8552768038300917,
          3.5953859808091417,
          3.180125875164054,
          3.8688207061975173,
          3.076640443670342,
          3.8631443462526676,
          3.451939869365103,
          3.09968064110925,
          2.8767949762007006,
          3.385069776331935,
          3.404491617758686,
          3.1017470739463664,
          3.9235548580675492,
          3.6852041344710145,
          3.4658288153574364,
          3.9153470623241917,
          3.3070679506612985,
          3.1562461903973444,
          3.7985815947285477,
          3.1489109931093564,
          3.8181598863971855,
          3.2412973871099933,
          3.5520595341878844,
          3.1956229435869368,
          3.286905352972375,
          3.5975855017522047,
          3.3783979009481375,
          3.239549720840473,
          3.586249638866042,
          2.905256048748451,
          3.265996370495079,
          3.6604860157849677
         ],
         "yaxis": "y"
        }
       ],
       "layout": {
        "legend": {
         "tracegroupgap": 0
        },
        "margin": {
         "t": 60
        },
        "template": {
         "data": {
          "bar": [
           {
            "error_x": {
             "color": "#2a3f5f"
            },
            "error_y": {
             "color": "#2a3f5f"
            },
            "marker": {
             "line": {
              "color": "#E5ECF6",
              "width": 0.5
             },
             "pattern": {
              "fillmode": "overlay",
              "size": 10,
              "solidity": 0.2
             }
            },
            "type": "bar"
           }
          ],
          "barpolar": [
           {
            "marker": {
             "line": {
              "color": "#E5ECF6",
              "width": 0.5
             },
             "pattern": {
              "fillmode": "overlay",
              "size": 10,
              "solidity": 0.2
             }
            },
            "type": "barpolar"
           }
          ],
          "carpet": [
           {
            "aaxis": {
             "endlinecolor": "#2a3f5f",
             "gridcolor": "white",
             "linecolor": "white",
             "minorgridcolor": "white",
             "startlinecolor": "#2a3f5f"
            },
            "baxis": {
             "endlinecolor": "#2a3f5f",
             "gridcolor": "white",
             "linecolor": "white",
             "minorgridcolor": "white",
             "startlinecolor": "#2a3f5f"
            },
            "type": "carpet"
           }
          ],
          "choropleth": [
           {
            "colorbar": {
             "outlinewidth": 0,
             "ticks": ""
            },
            "type": "choropleth"
           }
          ],
          "contour": [
           {
            "colorbar": {
             "outlinewidth": 0,
             "ticks": ""
            },
            "colorscale": [
             [
              0,
              "#0d0887"
             ],
             [
              0.1111111111111111,
              "#46039f"
             ],
             [
              0.2222222222222222,
              "#7201a8"
             ],
             [
              0.3333333333333333,
              "#9c179e"
             ],
             [
              0.4444444444444444,
              "#bd3786"
             ],
             [
              0.5555555555555556,
              "#d8576b"
             ],
             [
              0.6666666666666666,
              "#ed7953"
             ],
             [
              0.7777777777777778,
              "#fb9f3a"
             ],
             [
              0.8888888888888888,
              "#fdca26"
             ],
             [
              1,
              "#f0f921"
             ]
            ],
            "type": "contour"
           }
          ],
          "contourcarpet": [
           {
            "colorbar": {
             "outlinewidth": 0,
             "ticks": ""
            },
            "type": "contourcarpet"
           }
          ],
          "heatmap": [
           {
            "colorbar": {
             "outlinewidth": 0,
             "ticks": ""
            },
            "colorscale": [
             [
              0,
              "#0d0887"
             ],
             [
              0.1111111111111111,
              "#46039f"
             ],
             [
              0.2222222222222222,
              "#7201a8"
             ],
             [
              0.3333333333333333,
              "#9c179e"
             ],
             [
              0.4444444444444444,
              "#bd3786"
             ],
             [
              0.5555555555555556,
              "#d8576b"
             ],
             [
              0.6666666666666666,
              "#ed7953"
             ],
             [
              0.7777777777777778,
              "#fb9f3a"
             ],
             [
              0.8888888888888888,
              "#fdca26"
             ],
             [
              1,
              "#f0f921"
             ]
            ],
            "type": "heatmap"
           }
          ],
          "heatmapgl": [
           {
            "colorbar": {
             "outlinewidth": 0,
             "ticks": ""
            },
            "colorscale": [
             [
              0,
              "#0d0887"
             ],
             [
              0.1111111111111111,
              "#46039f"
             ],
             [
              0.2222222222222222,
              "#7201a8"
             ],
             [
              0.3333333333333333,
              "#9c179e"
             ],
             [
              0.4444444444444444,
              "#bd3786"
             ],
             [
              0.5555555555555556,
              "#d8576b"
             ],
             [
              0.6666666666666666,
              "#ed7953"
             ],
             [
              0.7777777777777778,
              "#fb9f3a"
             ],
             [
              0.8888888888888888,
              "#fdca26"
             ],
             [
              1,
              "#f0f921"
             ]
            ],
            "type": "heatmapgl"
           }
          ],
          "histogram": [
           {
            "marker": {
             "pattern": {
              "fillmode": "overlay",
              "size": 10,
              "solidity": 0.2
             }
            },
            "type": "histogram"
           }
          ],
          "histogram2d": [
           {
            "colorbar": {
             "outlinewidth": 0,
             "ticks": ""
            },
            "colorscale": [
             [
              0,
              "#0d0887"
             ],
             [
              0.1111111111111111,
              "#46039f"
             ],
             [
              0.2222222222222222,
              "#7201a8"
             ],
             [
              0.3333333333333333,
              "#9c179e"
             ],
             [
              0.4444444444444444,
              "#bd3786"
             ],
             [
              0.5555555555555556,
              "#d8576b"
             ],
             [
              0.6666666666666666,
              "#ed7953"
             ],
             [
              0.7777777777777778,
              "#fb9f3a"
             ],
             [
              0.8888888888888888,
              "#fdca26"
             ],
             [
              1,
              "#f0f921"
             ]
            ],
            "type": "histogram2d"
           }
          ],
          "histogram2dcontour": [
           {
            "colorbar": {
             "outlinewidth": 0,
             "ticks": ""
            },
            "colorscale": [
             [
              0,
              "#0d0887"
             ],
             [
              0.1111111111111111,
              "#46039f"
             ],
             [
              0.2222222222222222,
              "#7201a8"
             ],
             [
              0.3333333333333333,
              "#9c179e"
             ],
             [
              0.4444444444444444,
              "#bd3786"
             ],
             [
              0.5555555555555556,
              "#d8576b"
             ],
             [
              0.6666666666666666,
              "#ed7953"
             ],
             [
              0.7777777777777778,
              "#fb9f3a"
             ],
             [
              0.8888888888888888,
              "#fdca26"
             ],
             [
              1,
              "#f0f921"
             ]
            ],
            "type": "histogram2dcontour"
           }
          ],
          "mesh3d": [
           {
            "colorbar": {
             "outlinewidth": 0,
             "ticks": ""
            },
            "type": "mesh3d"
           }
          ],
          "parcoords": [
           {
            "line": {
             "colorbar": {
              "outlinewidth": 0,
              "ticks": ""
             }
            },
            "type": "parcoords"
           }
          ],
          "pie": [
           {
            "automargin": true,
            "type": "pie"
           }
          ],
          "scatter": [
           {
            "fillpattern": {
             "fillmode": "overlay",
             "size": 10,
             "solidity": 0.2
            },
            "type": "scatter"
           }
          ],
          "scatter3d": [
           {
            "line": {
             "colorbar": {
              "outlinewidth": 0,
              "ticks": ""
             }
            },
            "marker": {
             "colorbar": {
              "outlinewidth": 0,
              "ticks": ""
             }
            },
            "type": "scatter3d"
           }
          ],
          "scattercarpet": [
           {
            "marker": {
             "colorbar": {
              "outlinewidth": 0,
              "ticks": ""
             }
            },
            "type": "scattercarpet"
           }
          ],
          "scattergeo": [
           {
            "marker": {
             "colorbar": {
              "outlinewidth": 0,
              "ticks": ""
             }
            },
            "type": "scattergeo"
           }
          ],
          "scattergl": [
           {
            "marker": {
             "colorbar": {
              "outlinewidth": 0,
              "ticks": ""
             }
            },
            "type": "scattergl"
           }
          ],
          "scattermapbox": [
           {
            "marker": {
             "colorbar": {
              "outlinewidth": 0,
              "ticks": ""
             }
            },
            "type": "scattermapbox"
           }
          ],
          "scatterpolar": [
           {
            "marker": {
             "colorbar": {
              "outlinewidth": 0,
              "ticks": ""
             }
            },
            "type": "scatterpolar"
           }
          ],
          "scatterpolargl": [
           {
            "marker": {
             "colorbar": {
              "outlinewidth": 0,
              "ticks": ""
             }
            },
            "type": "scatterpolargl"
           }
          ],
          "scatterternary": [
           {
            "marker": {
             "colorbar": {
              "outlinewidth": 0,
              "ticks": ""
             }
            },
            "type": "scatterternary"
           }
          ],
          "surface": [
           {
            "colorbar": {
             "outlinewidth": 0,
             "ticks": ""
            },
            "colorscale": [
             [
              0,
              "#0d0887"
             ],
             [
              0.1111111111111111,
              "#46039f"
             ],
             [
              0.2222222222222222,
              "#7201a8"
             ],
             [
              0.3333333333333333,
              "#9c179e"
             ],
             [
              0.4444444444444444,
              "#bd3786"
             ],
             [
              0.5555555555555556,
              "#d8576b"
             ],
             [
              0.6666666666666666,
              "#ed7953"
             ],
             [
              0.7777777777777778,
              "#fb9f3a"
             ],
             [
              0.8888888888888888,
              "#fdca26"
             ],
             [
              1,
              "#f0f921"
             ]
            ],
            "type": "surface"
           }
          ],
          "table": [
           {
            "cells": {
             "fill": {
              "color": "#EBF0F8"
             },
             "line": {
              "color": "white"
             }
            },
            "header": {
             "fill": {
              "color": "#C8D4E3"
             },
             "line": {
              "color": "white"
             }
            },
            "type": "table"
           }
          ]
         },
         "layout": {
          "annotationdefaults": {
           "arrowcolor": "#2a3f5f",
           "arrowhead": 0,
           "arrowwidth": 1
          },
          "autotypenumbers": "strict",
          "coloraxis": {
           "colorbar": {
            "outlinewidth": 0,
            "ticks": ""
           }
          },
          "colorscale": {
           "diverging": [
            [
             0,
             "#8e0152"
            ],
            [
             0.1,
             "#c51b7d"
            ],
            [
             0.2,
             "#de77ae"
            ],
            [
             0.3,
             "#f1b6da"
            ],
            [
             0.4,
             "#fde0ef"
            ],
            [
             0.5,
             "#f7f7f7"
            ],
            [
             0.6,
             "#e6f5d0"
            ],
            [
             0.7,
             "#b8e186"
            ],
            [
             0.8,
             "#7fbc41"
            ],
            [
             0.9,
             "#4d9221"
            ],
            [
             1,
             "#276419"
            ]
           ],
           "sequential": [
            [
             0,
             "#0d0887"
            ],
            [
             0.1111111111111111,
             "#46039f"
            ],
            [
             0.2222222222222222,
             "#7201a8"
            ],
            [
             0.3333333333333333,
             "#9c179e"
            ],
            [
             0.4444444444444444,
             "#bd3786"
            ],
            [
             0.5555555555555556,
             "#d8576b"
            ],
            [
             0.6666666666666666,
             "#ed7953"
            ],
            [
             0.7777777777777778,
             "#fb9f3a"
            ],
            [
             0.8888888888888888,
             "#fdca26"
            ],
            [
             1,
             "#f0f921"
            ]
           ],
           "sequentialminus": [
            [
             0,
             "#0d0887"
            ],
            [
             0.1111111111111111,
             "#46039f"
            ],
            [
             0.2222222222222222,
             "#7201a8"
            ],
            [
             0.3333333333333333,
             "#9c179e"
            ],
            [
             0.4444444444444444,
             "#bd3786"
            ],
            [
             0.5555555555555556,
             "#d8576b"
            ],
            [
             0.6666666666666666,
             "#ed7953"
            ],
            [
             0.7777777777777778,
             "#fb9f3a"
            ],
            [
             0.8888888888888888,
             "#fdca26"
            ],
            [
             1,
             "#f0f921"
            ]
           ]
          },
          "colorway": [
           "#636efa",
           "#EF553B",
           "#00cc96",
           "#ab63fa",
           "#FFA15A",
           "#19d3f3",
           "#FF6692",
           "#B6E880",
           "#FF97FF",
           "#FECB52"
          ],
          "font": {
           "color": "#2a3f5f"
          },
          "geo": {
           "bgcolor": "white",
           "lakecolor": "white",
           "landcolor": "#E5ECF6",
           "showlakes": true,
           "showland": true,
           "subunitcolor": "white"
          },
          "hoverlabel": {
           "align": "left"
          },
          "hovermode": "closest",
          "mapbox": {
           "style": "light"
          },
          "paper_bgcolor": "white",
          "plot_bgcolor": "#E5ECF6",
          "polar": {
           "angularaxis": {
            "gridcolor": "white",
            "linecolor": "white",
            "ticks": ""
           },
           "bgcolor": "#E5ECF6",
           "radialaxis": {
            "gridcolor": "white",
            "linecolor": "white",
            "ticks": ""
           }
          },
          "scene": {
           "xaxis": {
            "backgroundcolor": "#E5ECF6",
            "gridcolor": "white",
            "gridwidth": 2,
            "linecolor": "white",
            "showbackground": true,
            "ticks": "",
            "zerolinecolor": "white"
           },
           "yaxis": {
            "backgroundcolor": "#E5ECF6",
            "gridcolor": "white",
            "gridwidth": 2,
            "linecolor": "white",
            "showbackground": true,
            "ticks": "",
            "zerolinecolor": "white"
           },
           "zaxis": {
            "backgroundcolor": "#E5ECF6",
            "gridcolor": "white",
            "gridwidth": 2,
            "linecolor": "white",
            "showbackground": true,
            "ticks": "",
            "zerolinecolor": "white"
           }
          },
          "shapedefaults": {
           "line": {
            "color": "#2a3f5f"
           }
          },
          "ternary": {
           "aaxis": {
            "gridcolor": "white",
            "linecolor": "white",
            "ticks": ""
           },
           "baxis": {
            "gridcolor": "white",
            "linecolor": "white",
            "ticks": ""
           },
           "bgcolor": "#E5ECF6",
           "caxis": {
            "gridcolor": "white",
            "linecolor": "white",
            "ticks": ""
           }
          },
          "title": {
           "x": 0.05
          },
          "xaxis": {
           "automargin": true,
           "gridcolor": "white",
           "linecolor": "white",
           "ticks": "",
           "title": {
            "standoff": 15
           },
           "zerolinecolor": "white",
           "zerolinewidth": 2
          },
          "yaxis": {
           "automargin": true,
           "gridcolor": "white",
           "linecolor": "white",
           "ticks": "",
           "title": {
            "standoff": 15
           },
           "zerolinecolor": "white",
           "zerolinewidth": 2
          }
         }
        },
        "xaxis": {
         "anchor": "y",
         "domain": [
          0,
          1
         ],
         "ticktext": [
          1e-10,
          1e-9,
          1e-8,
          1e-7,
          0.000001,
          0.00001,
          0.0001,
          0.001,
          0.01,
          0.1,
          1,
          10,
          100,
          1000,
          10000,
          100000,
          1000000,
          10000000,
          100000000,
          1000000000,
          10000000000,
          100000000000,
          1000000000000,
          10000000000000,
          100000000000000,
          1000000000000000,
          10000000000000000,
          100000000000000000,
          1000000000000000000,
          10000000000000000000
         ],
         "tickvals": [
          -10,
          -9,
          -8,
          -7,
          -6,
          -5,
          -4,
          -3,
          -2,
          -1,
          0,
          1,
          2,
          3,
          4,
          5,
          6,
          7,
          8,
          9,
          10,
          11,
          12,
          13,
          14,
          15,
          16,
          17,
          18,
          19
         ],
         "title": {
          "text": "duration"
         }
        },
        "yaxis": {
         "anchor": "x",
         "domain": [
          0,
          1
         ],
         "ticktext": [
          1e-10,
          1e-9,
          1e-8,
          1e-7,
          0.000001,
          0.00001,
          0.0001,
          0.001,
          0.01,
          0.1,
          1,
          10,
          100,
          1000,
          10000,
          100000,
          1000000,
          10000000,
          100000000,
          1000000000,
          10000000000,
          100000000000,
          1000000000000,
          10000000000000,
          100000000000000,
          1000000000000000,
          10000000000000000,
          100000000000000000,
          1000000000000000000,
          10000000000000000000
         ],
         "tickvals": [
          -10,
          -9,
          -8,
          -7,
          -6,
          -5,
          -4,
          -3,
          -2,
          -1,
          0,
          1,
          2,
          3,
          4,
          5,
          6,
          7,
          8,
          9,
          10,
          11,
          12,
          13,
          14,
          15,
          16,
          17,
          18,
          19
         ],
         "title": {
          "text": "credit_amount"
         }
        }
       }
      }
     },
     "metadata": {},
     "output_type": "display_data"
    }
   ],
   "source": [
    "fig = px.scatter(\n",
    "    _log_10,\n",
    "    x='duration',\n",
    "    y='credit_amount',\n",
    "    # log_x=True,\n",
    "    # log_y=True,\n",
    ")\n",
    "px_log_10_axis(fig, axis='x')\n",
    "px_log_10_axis(fig, axis='y')\n",
    "fig"
   ]
  },
  {
   "attachments": {},
   "cell_type": "markdown",
   "metadata": {},
   "source": [
    "---"
   ]
  },
  {
   "cell_type": "code",
   "execution_count": 13,
   "metadata": {},
   "outputs": [
    {
     "data": {
      "text/html": [
       "<div>\n",
       "<style scoped>\n",
       "    .dataframe tbody tr th:only-of-type {\n",
       "        vertical-align: middle;\n",
       "    }\n",
       "\n",
       "    .dataframe tbody tr th {\n",
       "        vertical-align: top;\n",
       "    }\n",
       "\n",
       "    .dataframe thead th {\n",
       "        text-align: right;\n",
       "    }\n",
       "</style>\n",
       "<table border=\"1\" class=\"dataframe\">\n",
       "  <thead>\n",
       "    <tr style=\"text-align: right;\">\n",
       "      <th></th>\n",
       "      <th>checking_status</th>\n",
       "      <th>duration</th>\n",
       "      <th>credit_history</th>\n",
       "      <th>purpose</th>\n",
       "      <th>credit_amount</th>\n",
       "      <th>savings_status</th>\n",
       "      <th>employment</th>\n",
       "      <th>installment_commitment</th>\n",
       "      <th>personal_status</th>\n",
       "      <th>other_parties</th>\n",
       "      <th>...</th>\n",
       "      <th>property_magnitude</th>\n",
       "      <th>age</th>\n",
       "      <th>other_payment_plans</th>\n",
       "      <th>housing</th>\n",
       "      <th>existing_credits</th>\n",
       "      <th>job</th>\n",
       "      <th>num_dependents</th>\n",
       "      <th>own_telephone</th>\n",
       "      <th>foreign_worker</th>\n",
       "      <th>target</th>\n",
       "    </tr>\n",
       "  </thead>\n",
       "  <tbody>\n",
       "    <tr>\n",
       "      <th>0</th>\n",
       "      <td>&lt;0</td>\n",
       "      <td>6.0</td>\n",
       "      <td>critical/other existing credit</td>\n",
       "      <td>radio/tv</td>\n",
       "      <td>1169.0</td>\n",
       "      <td>no known savings</td>\n",
       "      <td>&gt;=7</td>\n",
       "      <td>4.0</td>\n",
       "      <td>male single</td>\n",
       "      <td>none</td>\n",
       "      <td>...</td>\n",
       "      <td>real estate</td>\n",
       "      <td>67.0</td>\n",
       "      <td>none</td>\n",
       "      <td>own</td>\n",
       "      <td>2.0</td>\n",
       "      <td>skilled</td>\n",
       "      <td>1.0</td>\n",
       "      <td>yes</td>\n",
       "      <td>yes</td>\n",
       "      <td>good</td>\n",
       "    </tr>\n",
       "    <tr>\n",
       "      <th>1</th>\n",
       "      <td>0&lt;=X&lt;200</td>\n",
       "      <td>48.0</td>\n",
       "      <td>existing paid</td>\n",
       "      <td>radio/tv</td>\n",
       "      <td>5951.0</td>\n",
       "      <td>&lt;100</td>\n",
       "      <td>1&lt;=X&lt;4</td>\n",
       "      <td>2.0</td>\n",
       "      <td>female div/dep/mar</td>\n",
       "      <td>none</td>\n",
       "      <td>...</td>\n",
       "      <td>real estate</td>\n",
       "      <td>22.0</td>\n",
       "      <td>none</td>\n",
       "      <td>own</td>\n",
       "      <td>1.0</td>\n",
       "      <td>skilled</td>\n",
       "      <td>1.0</td>\n",
       "      <td>none</td>\n",
       "      <td>yes</td>\n",
       "      <td>bad</td>\n",
       "    </tr>\n",
       "    <tr>\n",
       "      <th>2</th>\n",
       "      <td>no checking</td>\n",
       "      <td>12.0</td>\n",
       "      <td>critical/other existing credit</td>\n",
       "      <td>education</td>\n",
       "      <td>2096.0</td>\n",
       "      <td>&lt;100</td>\n",
       "      <td>4&lt;=X&lt;7</td>\n",
       "      <td>2.0</td>\n",
       "      <td>male single</td>\n",
       "      <td>none</td>\n",
       "      <td>...</td>\n",
       "      <td>real estate</td>\n",
       "      <td>49.0</td>\n",
       "      <td>none</td>\n",
       "      <td>own</td>\n",
       "      <td>1.0</td>\n",
       "      <td>unskilled resident</td>\n",
       "      <td>2.0</td>\n",
       "      <td>none</td>\n",
       "      <td>yes</td>\n",
       "      <td>good</td>\n",
       "    </tr>\n",
       "    <tr>\n",
       "      <th>3</th>\n",
       "      <td>&lt;0</td>\n",
       "      <td>42.0</td>\n",
       "      <td>existing paid</td>\n",
       "      <td>furniture/equipment</td>\n",
       "      <td>7882.0</td>\n",
       "      <td>&lt;100</td>\n",
       "      <td>4&lt;=X&lt;7</td>\n",
       "      <td>2.0</td>\n",
       "      <td>male single</td>\n",
       "      <td>guarantor</td>\n",
       "      <td>...</td>\n",
       "      <td>life insurance</td>\n",
       "      <td>45.0</td>\n",
       "      <td>none</td>\n",
       "      <td>for free</td>\n",
       "      <td>1.0</td>\n",
       "      <td>skilled</td>\n",
       "      <td>2.0</td>\n",
       "      <td>none</td>\n",
       "      <td>yes</td>\n",
       "      <td>good</td>\n",
       "    </tr>\n",
       "    <tr>\n",
       "      <th>4</th>\n",
       "      <td>&lt;0</td>\n",
       "      <td>24.0</td>\n",
       "      <td>delayed previously</td>\n",
       "      <td>new car</td>\n",
       "      <td>4870.0</td>\n",
       "      <td>&lt;100</td>\n",
       "      <td>1&lt;=X&lt;4</td>\n",
       "      <td>3.0</td>\n",
       "      <td>male single</td>\n",
       "      <td>none</td>\n",
       "      <td>...</td>\n",
       "      <td>no known property</td>\n",
       "      <td>53.0</td>\n",
       "      <td>none</td>\n",
       "      <td>for free</td>\n",
       "      <td>2.0</td>\n",
       "      <td>skilled</td>\n",
       "      <td>2.0</td>\n",
       "      <td>none</td>\n",
       "      <td>yes</td>\n",
       "      <td>bad</td>\n",
       "    </tr>\n",
       "  </tbody>\n",
       "</table>\n",
       "<p>5 rows × 21 columns</p>\n",
       "</div>"
      ],
      "text/plain": [
       "  checking_status  duration                  credit_history  \\\n",
       "0              <0       6.0  critical/other existing credit   \n",
       "1        0<=X<200      48.0                   existing paid   \n",
       "2     no checking      12.0  critical/other existing credit   \n",
       "3              <0      42.0                   existing paid   \n",
       "4              <0      24.0              delayed previously   \n",
       "\n",
       "               purpose  credit_amount    savings_status employment  \\\n",
       "0             radio/tv         1169.0  no known savings        >=7   \n",
       "1             radio/tv         5951.0              <100     1<=X<4   \n",
       "2            education         2096.0              <100     4<=X<7   \n",
       "3  furniture/equipment         7882.0              <100     4<=X<7   \n",
       "4              new car         4870.0              <100     1<=X<4   \n",
       "\n",
       "   installment_commitment     personal_status other_parties  ...  \\\n",
       "0                     4.0         male single          none  ...   \n",
       "1                     2.0  female div/dep/mar          none  ...   \n",
       "2                     2.0         male single          none  ...   \n",
       "3                     2.0         male single     guarantor  ...   \n",
       "4                     3.0         male single          none  ...   \n",
       "\n",
       "   property_magnitude   age  other_payment_plans   housing existing_credits  \\\n",
       "0         real estate  67.0                 none       own              2.0   \n",
       "1         real estate  22.0                 none       own              1.0   \n",
       "2         real estate  49.0                 none       own              1.0   \n",
       "3      life insurance  45.0                 none  for free              1.0   \n",
       "4   no known property  53.0                 none  for free              2.0   \n",
       "\n",
       "                  job num_dependents  own_telephone foreign_worker target  \n",
       "0             skilled            1.0            yes            yes   good  \n",
       "1             skilled            1.0           none            yes    bad  \n",
       "2  unskilled resident            2.0           none            yes   good  \n",
       "3             skilled            2.0           none            yes   good  \n",
       "4             skilled            2.0           none            yes    bad  \n",
       "\n",
       "[5 rows x 21 columns]"
      ]
     },
     "execution_count": 13,
     "metadata": {},
     "output_type": "execute_result"
    }
   ],
   "source": [
    "credit_data.head()"
   ]
  },
  {
   "cell_type": "code",
   "execution_count": 22,
   "metadata": {},
   "outputs": [
    {
     "data": {
      "application/vnd.plotly.v1+json": {
       "config": {
        "plotlyServerURL": "https://plot.ly"
       },
       "data": [
        {
         "customdata": [
          [
           "<0"
          ],
          [
           "<0"
          ],
          [
           "no checking"
          ],
          [
           "0<=X<200"
          ],
          [
           "no checking"
          ],
          [
           "<0"
          ],
          [
           "0<=X<200"
          ],
          [
           "0<=X<200"
          ],
          [
           "no checking"
          ],
          [
           "<0"
          ],
          [
           "<0"
          ],
          [
           "0<=X<200"
          ],
          [
           ">=200"
          ],
          [
           "no checking"
          ],
          [
           "no checking"
          ],
          [
           "0<=X<200"
          ],
          [
           "0<=X<200"
          ],
          [
           "0<=X<200"
          ],
          [
           "0<=X<200"
          ],
          [
           "0<=X<200"
          ],
          [
           "<0"
          ],
          [
           "<0"
          ],
          [
           "<0"
          ],
          [
           "no checking"
          ],
          [
           "<0"
          ],
          [
           "<0"
          ],
          [
           "<0"
          ],
          [
           "no checking"
          ],
          [
           "0<=X<200"
          ],
          [
           "0<=X<200"
          ],
          [
           "<0"
          ],
          [
           ">=200"
          ],
          [
           "no checking"
          ],
          [
           "0<=X<200"
          ],
          [
           "<0"
          ],
          [
           "<0"
          ],
          [
           "0<=X<200"
          ],
          [
           "0<=X<200"
          ],
          [
           "no checking"
          ],
          [
           "0<=X<200"
          ],
          [
           "no checking"
          ],
          [
           "0<=X<200"
          ],
          [
           "no checking"
          ],
          [
           "0<=X<200"
          ],
          [
           "0<=X<200"
          ],
          [
           "<0"
          ],
          [
           "<0"
          ],
          [
           "<0"
          ],
          [
           "<0"
          ],
          [
           "<0"
          ],
          [
           "no checking"
          ],
          [
           "0<=X<200"
          ],
          [
           "<0"
          ],
          [
           "no checking"
          ],
          [
           "no checking"
          ],
          [
           "no checking"
          ],
          [
           "<0"
          ],
          [
           "<0"
          ],
          [
           "no checking"
          ],
          [
           "<0"
          ],
          [
           "no checking"
          ],
          [
           "<0"
          ],
          [
           "0<=X<200"
          ],
          [
           "no checking"
          ],
          [
           "no checking"
          ],
          [
           "0<=X<200"
          ],
          [
           "0<=X<200"
          ],
          [
           "no checking"
          ],
          [
           ">=200"
          ],
          [
           "0<=X<200"
          ],
          [
           "<0"
          ],
          [
           ">=200"
          ],
          [
           "<0"
          ],
          [
           "<0"
          ],
          [
           "no checking"
          ],
          [
           "no checking"
          ],
          [
           "no checking"
          ],
          [
           "0<=X<200"
          ],
          [
           "<0"
          ],
          [
           ">=200"
          ],
          [
           "no checking"
          ],
          [
           "<0"
          ],
          [
           "no checking"
          ],
          [
           "no checking"
          ],
          [
           ">=200"
          ],
          [
           "no checking"
          ],
          [
           ">=200"
          ],
          [
           "0<=X<200"
          ],
          [
           ">=200"
          ],
          [
           "<0"
          ],
          [
           "no checking"
          ],
          [
           "0<=X<200"
          ],
          [
           "<0"
          ],
          [
           "<0"
          ],
          [
           "0<=X<200"
          ],
          [
           "no checking"
          ],
          [
           "<0"
          ],
          [
           "no checking"
          ],
          [
           "<0"
          ],
          [
           "<0"
          ],
          [
           "no checking"
          ],
          [
           "no checking"
          ],
          [
           "<0"
          ],
          [
           "0<=X<200"
          ],
          [
           "<0"
          ],
          [
           "0<=X<200"
          ],
          [
           "<0"
          ],
          [
           "<0"
          ]
         ],
         "hovertemplate": "housing=for free<br>duration=%{x}<br>credit_amount=%{y}<br>age=%{z}<br>num_dependents=%{marker.size}<br>checking_status=%{customdata[0]}<extra></extra>",
         "legendgroup": "for free",
         "marker": {
          "color": "red",
          "opacity": 0.3,
          "size": [
           2,
           2,
           2,
           1,
           1,
           1,
           1,
           1,
           1,
           2,
           1,
           2,
           1,
           1,
           2,
           1,
           2,
           1,
           2,
           1,
           2,
           1,
           1,
           1,
           2,
           1,
           1,
           1,
           1,
           1,
           2,
           1,
           1,
           1,
           1,
           1,
           1,
           2,
           1,
           1,
           1,
           1,
           1,
           1,
           1,
           2,
           1,
           2,
           1,
           1,
           1,
           1,
           2,
           1,
           1,
           1,
           2,
           1,
           1,
           2,
           1,
           2,
           1,
           1,
           1,
           1,
           1,
           2,
           2,
           1,
           1,
           2,
           1,
           1,
           1,
           1,
           2,
           1,
           1,
           1,
           1,
           1,
           1,
           2,
           1,
           1,
           1,
           1,
           1,
           2,
           2,
           1,
           2,
           1,
           2,
           1,
           2,
           1,
           1,
           1,
           1,
           1,
           2,
           1,
           2,
           1,
           1,
           1
          ],
          "sizemode": "area",
          "sizeref": 0.005,
          "symbol": "circle"
         },
         "mode": "markers",
         "name": "for free",
         "scene": "scene",
         "showlegend": true,
         "type": "scatter3d",
         "x": [
          42,
          24,
          36,
          24,
          48,
          48,
          36,
          36,
          36,
          8,
          12,
          36,
          10,
          18,
          6,
          10,
          9,
          16,
          48,
          24,
          30,
          12,
          24,
          9,
          48,
          12,
          18,
          12,
          48,
          48,
          24,
          42,
          48,
          48,
          24,
          24,
          24,
          9,
          10,
          18,
          60,
          60,
          7,
          36,
          18,
          36,
          12,
          18,
          6,
          12,
          24,
          27,
          36,
          36,
          6,
          24,
          48,
          48,
          24,
          24,
          48,
          24,
          36,
          12,
          24,
          24,
          36,
          15,
          10,
          60,
          18,
          24,
          48,
          14,
          12,
          24,
          60,
          36,
          48,
          24,
          15,
          6,
          18,
          12,
          15,
          21,
          12,
          48,
          24,
          18,
          24,
          42,
          48,
          36,
          48,
          15,
          18,
          15,
          18,
          9,
          24,
          36,
          48,
          60,
          24,
          24,
          24,
          45
         ],
         "y": [
          7882,
          4870,
          9055,
          12579,
          6110,
          6143,
          2225,
          1953,
          1819,
          1164,
          1526,
          12612,
          781,
          1984,
          1346,
          7308,
          5129,
          1175,
          3844,
          2760,
          10623,
          7865,
          3149,
          2507,
          4605,
          2149,
          5302,
          2748,
          12169,
          7582,
          6419,
          4796,
          10127,
          5381,
          2910,
          6615,
          5743,
          1136,
          727,
          1239,
          13756,
          14782,
          846,
          14318,
          12976,
          3249,
          2578,
          1190,
          1872,
          3386,
          3757,
          8318,
          5493,
          4686,
          700,
          5507,
          7119,
          7763,
          2032,
          1333,
          8858,
          2964,
          12389,
          2133,
          3863,
          1837,
          2671,
          1300,
          1240,
          9157,
          2600,
          947,
          7476,
          3973,
          2279,
          5103,
          6527,
          2862,
          6331,
          1377,
          5324,
          1198,
          1505,
          1555,
          1271,
          12680,
          1480,
          6224,
          2892,
          7511,
          1597,
          9283,
          3931,
          8335,
          6681,
          1471,
          1442,
          3343,
          1940,
          1422,
          9277,
          10477,
          10297,
          6288,
          3349,
          3069,
          6579,
          1845
         ],
         "z": [
          45,
          53,
          35,
          44,
          31,
          58,
          57,
          61,
          37,
          51,
          66,
          47,
          63,
          47,
          42,
          70,
          74,
          68,
          34,
          36,
          38,
          53,
          22,
          51,
          24,
          29,
          36,
          57,
          36,
          31,
          44,
          56,
          44,
          40,
          34,
          75,
          24,
          32,
          46,
          61,
          63,
          60,
          36,
          57,
          38,
          39,
          55,
          55,
          36,
          35,
          62,
          42,
          42,
          32,
          36,
          44,
          53,
          42,
          60,
          43,
          35,
          49,
          37,
          52,
          32,
          34,
          50,
          45,
          48,
          27,
          65,
          38,
          50,
          22,
          37,
          47,
          34,
          30,
          46,
          47,
          35,
          35,
          32,
          55,
          39,
          30,
          66,
          50,
          51,
          51,
          54,
          55,
          46,
          47,
          38,
          35,
          32,
          28,
          36,
          27,
          48,
          42,
          39,
          42,
          30,
          30,
          29,
          23
         ]
        },
        {
         "customdata": [
          [
           "0<=X<200"
          ],
          [
           "0<=X<200"
          ],
          [
           "<0"
          ],
          [
           "<0"
          ],
          [
           "<0"
          ],
          [
           "<0"
          ],
          [
           ">=200"
          ],
          [
           "no checking"
          ],
          [
           "<0"
          ],
          [
           "<0"
          ],
          [
           "<0"
          ],
          [
           "no checking"
          ],
          [
           "no checking"
          ],
          [
           ">=200"
          ],
          [
           "0<=X<200"
          ],
          [
           "0<=X<200"
          ],
          [
           "no checking"
          ],
          [
           "0<=X<200"
          ],
          [
           "0<=X<200"
          ],
          [
           "no checking"
          ],
          [
           ">=200"
          ],
          [
           "0<=X<200"
          ],
          [
           "<0"
          ],
          [
           "no checking"
          ],
          [
           "no checking"
          ],
          [
           "0<=X<200"
          ],
          [
           ">=200"
          ],
          [
           "0<=X<200"
          ],
          [
           "0<=X<200"
          ],
          [
           "<0"
          ],
          [
           "no checking"
          ],
          [
           "<0"
          ],
          [
           "no checking"
          ],
          [
           "no checking"
          ],
          [
           "0<=X<200"
          ],
          [
           "0<=X<200"
          ],
          [
           "<0"
          ],
          [
           "<0"
          ],
          [
           "<0"
          ],
          [
           "0<=X<200"
          ],
          [
           "no checking"
          ],
          [
           "no checking"
          ],
          [
           "no checking"
          ],
          [
           "no checking"
          ],
          [
           "no checking"
          ],
          [
           "0<=X<200"
          ],
          [
           "no checking"
          ],
          [
           "no checking"
          ],
          [
           "0<=X<200"
          ],
          [
           "no checking"
          ],
          [
           "no checking"
          ],
          [
           "<0"
          ],
          [
           "<0"
          ],
          [
           "<0"
          ],
          [
           "<0"
          ],
          [
           "0<=X<200"
          ],
          [
           "0<=X<200"
          ],
          [
           "no checking"
          ],
          [
           "<0"
          ],
          [
           "<0"
          ],
          [
           "no checking"
          ],
          [
           "<0"
          ],
          [
           "0<=X<200"
          ],
          [
           "no checking"
          ],
          [
           "<0"
          ],
          [
           "no checking"
          ],
          [
           "no checking"
          ],
          [
           "0<=X<200"
          ],
          [
           "0<=X<200"
          ],
          [
           "0<=X<200"
          ],
          [
           "no checking"
          ],
          [
           "<0"
          ],
          [
           "no checking"
          ],
          [
           "0<=X<200"
          ],
          [
           "no checking"
          ],
          [
           "no checking"
          ],
          [
           "<0"
          ],
          [
           "0<=X<200"
          ],
          [
           "<0"
          ],
          [
           "0<=X<200"
          ],
          [
           "<0"
          ],
          [
           "<0"
          ],
          [
           "no checking"
          ],
          [
           "no checking"
          ],
          [
           "<0"
          ],
          [
           "0<=X<200"
          ],
          [
           "<0"
          ],
          [
           ">=200"
          ],
          [
           "0<=X<200"
          ],
          [
           "no checking"
          ],
          [
           "<0"
          ],
          [
           "0<=X<200"
          ],
          [
           "no checking"
          ],
          [
           ">=200"
          ],
          [
           "0<=X<200"
          ],
          [
           "<0"
          ],
          [
           "0<=X<200"
          ],
          [
           "<0"
          ],
          [
           "no checking"
          ],
          [
           "no checking"
          ],
          [
           "0<=X<200"
          ],
          [
           "<0"
          ],
          [
           "<0"
          ],
          [
           "0<=X<200"
          ],
          [
           "0<=X<200"
          ],
          [
           "<0"
          ],
          [
           "<0"
          ],
          [
           "<0"
          ],
          [
           "0<=X<200"
          ],
          [
           "<0"
          ],
          [
           "no checking"
          ],
          [
           "no checking"
          ],
          [
           "<0"
          ],
          [
           ">=200"
          ],
          [
           "<0"
          ],
          [
           "no checking"
          ],
          [
           "<0"
          ],
          [
           "no checking"
          ],
          [
           ">=200"
          ],
          [
           "no checking"
          ],
          [
           "0<=X<200"
          ],
          [
           "0<=X<200"
          ],
          [
           "no checking"
          ],
          [
           "<0"
          ],
          [
           "0<=X<200"
          ],
          [
           "<0"
          ],
          [
           "no checking"
          ],
          [
           "0<=X<200"
          ],
          [
           "0<=X<200"
          ],
          [
           "<0"
          ],
          [
           "0<=X<200"
          ],
          [
           "<0"
          ],
          [
           "<0"
          ],
          [
           "no checking"
          ],
          [
           "0<=X<200"
          ],
          [
           "<0"
          ],
          [
           "<0"
          ],
          [
           "no checking"
          ],
          [
           "no checking"
          ],
          [
           "no checking"
          ],
          [
           "0<=X<200"
          ],
          [
           "0<=X<200"
          ],
          [
           "0<=X<200"
          ],
          [
           "0<=X<200"
          ],
          [
           "no checking"
          ],
          [
           "<0"
          ],
          [
           "<0"
          ],
          [
           "<0"
          ],
          [
           "no checking"
          ],
          [
           "no checking"
          ],
          [
           "<0"
          ],
          [
           "no checking"
          ],
          [
           "no checking"
          ],
          [
           "no checking"
          ],
          [
           "<0"
          ],
          [
           "no checking"
          ],
          [
           "<0"
          ],
          [
           "no checking"
          ],
          [
           "<0"
          ],
          [
           "no checking"
          ],
          [
           "<0"
          ],
          [
           "<0"
          ],
          [
           "<0"
          ],
          [
           "<0"
          ],
          [
           "0<=X<200"
          ],
          [
           "<0"
          ],
          [
           "0<=X<200"
          ],
          [
           "<0"
          ],
          [
           "0<=X<200"
          ],
          [
           "<0"
          ],
          [
           "no checking"
          ],
          [
           "no checking"
          ],
          [
           "no checking"
          ],
          [
           "<0"
          ],
          [
           "<0"
          ],
          [
           "0<=X<200"
          ],
          [
           "no checking"
          ],
          [
           "<0"
          ],
          [
           "<0"
          ]
         ],
         "hovertemplate": "housing=rent<br>duration=%{x}<br>credit_amount=%{y}<br>age=%{z}<br>num_dependents=%{marker.size}<br>checking_status=%{customdata[0]}<extra></extra>",
         "legendgroup": "rent",
         "marker": {
          "color": "blue",
          "opacity": 0.3,
          "size": [
           1,
           1,
           1,
           1,
           2,
           2,
           1,
           1,
           1,
           1,
           1,
           1,
           1,
           1,
           1,
           2,
           1,
           1,
           1,
           1,
           1,
           1,
           1,
           1,
           1,
           1,
           1,
           1,
           1,
           1,
           1,
           2,
           2,
           1,
           1,
           1,
           1,
           1,
           1,
           1,
           1,
           1,
           1,
           1,
           1,
           1,
           1,
           1,
           1,
           1,
           1,
           2,
           1,
           1,
           1,
           1,
           1,
           1,
           1,
           1,
           1,
           1,
           1,
           1,
           1,
           1,
           1,
           1,
           1,
           1,
           2,
           1,
           1,
           1,
           1,
           1,
           2,
           1,
           1,
           1,
           1,
           1,
           1,
           1,
           2,
           1,
           1,
           1,
           1,
           1,
           1,
           1,
           1,
           1,
           1,
           1,
           1,
           1,
           1,
           1,
           1,
           1,
           2,
           1,
           1,
           1,
           1,
           2,
           1,
           1,
           1,
           1,
           2,
           1,
           1,
           1,
           1,
           1,
           1,
           1,
           1,
           2,
           1,
           1,
           1,
           2,
           1,
           1,
           1,
           1,
           1,
           1,
           1,
           1,
           1,
           1,
           1,
           1,
           1,
           1,
           1,
           1,
           1,
           1,
           1,
           1,
           1,
           1,
           2,
           1,
           1,
           2,
           1,
           1,
           1,
           2,
           1,
           1,
           1,
           1,
           2,
           1,
           1,
           1,
           2,
           1,
           1,
           1,
           1,
           1,
           1,
           1,
           1,
           1,
           1,
           1,
           1,
           1,
           1
          ],
          "sizemode": "area",
          "sizeref": 0.005,
          "symbol": "circle"
         },
         "mode": "markers",
         "name": "rent",
         "scene": "scene",
         "showlegend": true,
         "type": "scatter3d",
         "x": [
          36,
          12,
          48,
          15,
          6,
          10,
          12,
          12,
          30,
          6,
          36,
          7,
          18,
          24,
          54,
          20,
          24,
          36,
          9,
          12,
          15,
          18,
          10,
          24,
          12,
          18,
          12,
          24,
          24,
          12,
          24,
          15,
          12,
          6,
          45,
          12,
          12,
          24,
          12,
          21,
          6,
          18,
          12,
          24,
          15,
          36,
          12,
          30,
          9,
          12,
          48,
          24,
          6,
          15,
          21,
          18,
          24,
          9,
          12,
          30,
          6,
          18,
          18,
          10,
          48,
          22,
          18,
          12,
          39,
          12,
          10,
          18,
          15,
          18,
          6,
          9,
          11,
          12,
          24,
          24,
          18,
          30,
          10,
          6,
          12,
          36,
          24,
          15,
          12,
          36,
          36,
          15,
          12,
          21,
          12,
          24,
          24,
          24,
          24,
          9,
          36,
          18,
          9,
          24,
          24,
          24,
          24,
          6,
          30,
          12,
          9,
          36,
          12,
          12,
          12,
          30,
          24,
          6,
          15,
          12,
          12,
          6,
          27,
          18,
          48,
          24,
          24,
          24,
          30,
          15,
          12,
          24,
          18,
          10,
          12,
          24,
          24,
          24,
          9,
          12,
          18,
          12,
          15,
          36,
          6,
          18,
          18,
          45,
          4,
          18,
          20,
          9,
          10,
          15,
          12,
          28,
          21,
          15,
          16,
          15,
          12,
          24,
          24,
          9,
          12,
          18,
          6,
          15,
          24,
          24,
          6,
          15,
          42,
          24,
          60,
          15,
          48,
          15,
          18
         ],
         "y": [
          6948,
          1295,
          4308,
          1403,
          2647,
          2241,
          409,
          1264,
          6187,
          1352,
          6229,
          730,
          1568,
          3617,
          15945,
          7057,
          1469,
          2323,
          1919,
          2445,
          392,
          6260,
          2132,
          3868,
          1768,
          1924,
          1881,
          7758,
          6967,
          1282,
          3972,
          950,
          1963,
          2108,
          3031,
          951,
          902,
          3021,
          1200,
          2767,
          1204,
          433,
          1402,
          1901,
          3368,
          9398,
          4675,
          4811,
          276,
          5801,
          11590,
          4110,
          3384,
          1275,
          3599,
          3213,
          3758,
          1236,
          6199,
          2406,
          1766,
          3650,
          3001,
          2146,
          7685,
          1283,
          1126,
          983,
          11760,
          1223,
          1597,
          8471,
          3186,
          2779,
          660,
          1244,
          3905,
          3017,
          1659,
          3092,
          3114,
          3622,
          1418,
          3518,
          2122,
          9034,
          1207,
          2687,
          585,
          7127,
          2302,
          2631,
          1503,
          2319,
          1534,
          1546,
          1553,
          3234,
          5433,
          1388,
          2384,
          2039,
          2799,
          1965,
          2718,
          1442,
          3632,
          3676,
          3441,
          1858,
          1980,
          7980,
          684,
          1297,
          4843,
          4530,
          2384,
          1236,
          1905,
          1123,
          2969,
          433,
          2570,
          1882,
          6416,
          1987,
          2603,
          11560,
          4280,
          2511,
          841,
          1285,
          2124,
          2901,
          3617,
          2812,
          1371,
          3062,
          2301,
          1258,
          1795,
          7472,
          1778,
          7432,
          1554,
          3966,
          1216,
          11816,
          601,
          6761,
          2235,
          3577,
          2210,
          2221,
          652,
          7824,
          2606,
          2186,
          2625,
          1386,
          1107,
          3161,
          3345,
          1366,
          2002,
          1049,
          2063,
          1845,
          4113,
          1231,
          1740,
          3568,
          7166,
          1193,
          7297,
          1264,
          4844,
          1433,
          1936
         ],
         "z": [
          35,
          25,
          24,
          28,
          44,
          48,
          42,
          57,
          24,
          23,
          23,
          46,
          24,
          20,
          58,
          36,
          41,
          24,
          35,
          26,
          23,
          28,
          27,
          41,
          24,
          27,
          44,
          29,
          36,
          20,
          25,
          33,
          31,
          29,
          21,
          27,
          21,
          24,
          23,
          61,
          35,
          22,
          37,
          29,
          23,
          28,
          20,
          24,
          22,
          49,
          24,
          23,
          44,
          24,
          26,
          25,
          23,
          23,
          28,
          23,
          21,
          22,
          40,
          23,
          37,
          25,
          21,
          19,
          32,
          46,
          40,
          23,
          20,
          21,
          23,
          41,
          36,
          34,
          29,
          22,
          26,
          57,
          35,
          26,
          39,
          29,
          24,
          26,
          20,
          23,
          31,
          28,
          41,
          33,
          23,
          24,
          23,
          23,
          26,
          26,
          33,
          20,
          36,
          42,
          20,
          23,
          22,
          37,
          21,
          22,
          19,
          27,
          40,
          23,
          43,
          26,
          64,
          50,
          40,
          29,
          25,
          24,
          21,
          25,
          59,
          21,
          28,
          23,
          26,
          23,
          23,
          32,
          24,
          31,
          28,
          26,
          25,
          32,
          22,
          22,
          48,
          24,
          26,
          54,
          24,
          33,
          23,
          29,
          23,
          68,
          33,
          26,
          25,
          20,
          24,
          40,
          28,
          33,
          43,
          40,
          20,
          31,
          39,
          22,
          30,
          21,
          30,
          46,
          28,
          57,
          30,
          54,
          29,
          29,
          36,
          25,
          33,
          25,
          23
         ]
        },
        {
         "customdata": [
          [
           "<0"
          ],
          [
           "0<=X<200"
          ],
          [
           "no checking"
          ],
          [
           "no checking"
          ],
          [
           "no checking"
          ],
          [
           "0<=X<200"
          ],
          [
           "0<=X<200"
          ],
          [
           "<0"
          ],
          [
           "<0"
          ],
          [
           "no checking"
          ],
          [
           "<0"
          ],
          [
           "no checking"
          ],
          [
           "no checking"
          ],
          [
           "0<=X<200"
          ],
          [
           "no checking"
          ],
          [
           "<0"
          ],
          [
           "no checking"
          ],
          [
           "0<=X<200"
          ],
          [
           "<0"
          ],
          [
           "0<=X<200"
          ],
          [
           "<0"
          ],
          [
           "0<=X<200"
          ],
          [
           ">=200"
          ],
          [
           "0<=X<200"
          ],
          [
           ">=200"
          ],
          [
           ">=200"
          ],
          [
           "0<=X<200"
          ],
          [
           "no checking"
          ],
          [
           "0<=X<200"
          ],
          [
           "0<=X<200"
          ],
          [
           "no checking"
          ],
          [
           "no checking"
          ],
          [
           "no checking"
          ],
          [
           "no checking"
          ],
          [
           "0<=X<200"
          ],
          [
           "0<=X<200"
          ],
          [
           "no checking"
          ],
          [
           "no checking"
          ],
          [
           "no checking"
          ],
          [
           "0<=X<200"
          ],
          [
           "no checking"
          ],
          [
           ">=200"
          ],
          [
           "0<=X<200"
          ],
          [
           "0<=X<200"
          ],
          [
           "0<=X<200"
          ],
          [
           "no checking"
          ],
          [
           "no checking"
          ],
          [
           "no checking"
          ],
          [
           "0<=X<200"
          ],
          [
           "no checking"
          ],
          [
           "no checking"
          ],
          [
           "0<=X<200"
          ],
          [
           "<0"
          ],
          [
           "<0"
          ],
          [
           "0<=X<200"
          ],
          [
           "no checking"
          ],
          [
           "0<=X<200"
          ],
          [
           "no checking"
          ],
          [
           "no checking"
          ],
          [
           "<0"
          ],
          [
           "<0"
          ],
          [
           "no checking"
          ],
          [
           "0<=X<200"
          ],
          [
           "<0"
          ],
          [
           "<0"
          ],
          [
           "no checking"
          ],
          [
           "<0"
          ],
          [
           "no checking"
          ],
          [
           "0<=X<200"
          ],
          [
           "no checking"
          ],
          [
           "0<=X<200"
          ],
          [
           "0<=X<200"
          ],
          [
           "no checking"
          ],
          [
           "0<=X<200"
          ],
          [
           "no checking"
          ],
          [
           "0<=X<200"
          ],
          [
           "<0"
          ],
          [
           "0<=X<200"
          ],
          [
           "0<=X<200"
          ],
          [
           "no checking"
          ],
          [
           "<0"
          ],
          [
           "no checking"
          ],
          [
           "<0"
          ],
          [
           "<0"
          ],
          [
           "0<=X<200"
          ],
          [
           "<0"
          ],
          [
           "<0"
          ],
          [
           "<0"
          ],
          [
           "0<=X<200"
          ],
          [
           "0<=X<200"
          ],
          [
           "<0"
          ],
          [
           "0<=X<200"
          ],
          [
           "<0"
          ],
          [
           "no checking"
          ],
          [
           "no checking"
          ],
          [
           "no checking"
          ],
          [
           "no checking"
          ],
          [
           "0<=X<200"
          ],
          [
           "0<=X<200"
          ],
          [
           ">=200"
          ],
          [
           "0<=X<200"
          ],
          [
           "<0"
          ],
          [
           "<0"
          ],
          [
           "no checking"
          ],
          [
           "0<=X<200"
          ],
          [
           "<0"
          ],
          [
           "no checking"
          ],
          [
           "<0"
          ],
          [
           "no checking"
          ],
          [
           "no checking"
          ],
          [
           ">=200"
          ],
          [
           "<0"
          ],
          [
           "<0"
          ],
          [
           "0<=X<200"
          ],
          [
           "no checking"
          ],
          [
           "no checking"
          ],
          [
           "no checking"
          ],
          [
           "no checking"
          ],
          [
           "no checking"
          ],
          [
           "no checking"
          ],
          [
           "<0"
          ],
          [
           "0<=X<200"
          ],
          [
           "0<=X<200"
          ],
          [
           "no checking"
          ],
          [
           "0<=X<200"
          ],
          [
           "0<=X<200"
          ],
          [
           "<0"
          ],
          [
           "no checking"
          ],
          [
           "<0"
          ],
          [
           "<0"
          ],
          [
           "<0"
          ],
          [
           "no checking"
          ],
          [
           "0<=X<200"
          ],
          [
           "<0"
          ],
          [
           "no checking"
          ],
          [
           "0<=X<200"
          ],
          [
           "no checking"
          ],
          [
           "<0"
          ],
          [
           "0<=X<200"
          ],
          [
           "no checking"
          ],
          [
           "0<=X<200"
          ],
          [
           "0<=X<200"
          ],
          [
           "no checking"
          ],
          [
           "0<=X<200"
          ],
          [
           "no checking"
          ],
          [
           "<0"
          ],
          [
           "no checking"
          ],
          [
           "no checking"
          ],
          [
           "no checking"
          ],
          [
           "0<=X<200"
          ],
          [
           "<0"
          ],
          [
           "no checking"
          ],
          [
           "no checking"
          ],
          [
           "no checking"
          ],
          [
           "<0"
          ],
          [
           ">=200"
          ],
          [
           "no checking"
          ],
          [
           "0<=X<200"
          ],
          [
           "<0"
          ],
          [
           ">=200"
          ],
          [
           "no checking"
          ],
          [
           "0<=X<200"
          ],
          [
           "no checking"
          ],
          [
           "no checking"
          ],
          [
           "no checking"
          ],
          [
           "no checking"
          ],
          [
           "0<=X<200"
          ],
          [
           "no checking"
          ],
          [
           ">=200"
          ],
          [
           "no checking"
          ],
          [
           "0<=X<200"
          ],
          [
           "no checking"
          ],
          [
           "<0"
          ],
          [
           "0<=X<200"
          ],
          [
           "no checking"
          ],
          [
           "<0"
          ],
          [
           "<0"
          ],
          [
           "no checking"
          ],
          [
           "no checking"
          ],
          [
           "no checking"
          ],
          [
           "no checking"
          ],
          [
           "no checking"
          ],
          [
           ">=200"
          ],
          [
           "<0"
          ],
          [
           ">=200"
          ],
          [
           "0<=X<200"
          ],
          [
           "no checking"
          ],
          [
           "0<=X<200"
          ],
          [
           "0<=X<200"
          ],
          [
           "no checking"
          ],
          [
           "no checking"
          ],
          [
           "no checking"
          ],
          [
           "<0"
          ],
          [
           "<0"
          ],
          [
           "no checking"
          ],
          [
           "0<=X<200"
          ],
          [
           "no checking"
          ],
          [
           "no checking"
          ],
          [
           "<0"
          ],
          [
           "no checking"
          ],
          [
           "no checking"
          ],
          [
           "0<=X<200"
          ],
          [
           "<0"
          ],
          [
           "no checking"
          ],
          [
           "no checking"
          ],
          [
           "<0"
          ],
          [
           "no checking"
          ],
          [
           "no checking"
          ],
          [
           ">=200"
          ],
          [
           "no checking"
          ],
          [
           "0<=X<200"
          ],
          [
           "<0"
          ],
          [
           "<0"
          ],
          [
           "0<=X<200"
          ],
          [
           "<0"
          ],
          [
           "no checking"
          ],
          [
           "no checking"
          ],
          [
           "0<=X<200"
          ],
          [
           "no checking"
          ],
          [
           "no checking"
          ],
          [
           "0<=X<200"
          ],
          [
           "no checking"
          ],
          [
           "0<=X<200"
          ],
          [
           ">=200"
          ],
          [
           "<0"
          ],
          [
           "no checking"
          ],
          [
           "<0"
          ],
          [
           "0<=X<200"
          ],
          [
           "no checking"
          ],
          [
           ">=200"
          ],
          [
           "0<=X<200"
          ],
          [
           ">=200"
          ],
          [
           "<0"
          ],
          [
           "<0"
          ],
          [
           "0<=X<200"
          ],
          [
           "no checking"
          ],
          [
           "<0"
          ],
          [
           "0<=X<200"
          ],
          [
           "<0"
          ],
          [
           "<0"
          ],
          [
           "no checking"
          ],
          [
           "<0"
          ],
          [
           "no checking"
          ],
          [
           ">=200"
          ],
          [
           "0<=X<200"
          ],
          [
           "no checking"
          ],
          [
           "0<=X<200"
          ],
          [
           "0<=X<200"
          ],
          [
           "<0"
          ],
          [
           "0<=X<200"
          ],
          [
           "0<=X<200"
          ],
          [
           ">=200"
          ],
          [
           "no checking"
          ],
          [
           "0<=X<200"
          ],
          [
           "no checking"
          ],
          [
           "0<=X<200"
          ],
          [
           "no checking"
          ],
          [
           "0<=X<200"
          ],
          [
           "no checking"
          ],
          [
           "no checking"
          ],
          [
           "no checking"
          ],
          [
           ">=200"
          ],
          [
           ">=200"
          ],
          [
           "<0"
          ],
          [
           "no checking"
          ],
          [
           "no checking"
          ],
          [
           "<0"
          ],
          [
           "no checking"
          ],
          [
           "no checking"
          ],
          [
           "no checking"
          ],
          [
           "no checking"
          ],
          [
           "<0"
          ],
          [
           ">=200"
          ],
          [
           "no checking"
          ],
          [
           "no checking"
          ],
          [
           "0<=X<200"
          ],
          [
           "0<=X<200"
          ],
          [
           "no checking"
          ],
          [
           "no checking"
          ],
          [
           "<0"
          ],
          [
           "no checking"
          ],
          [
           "<0"
          ],
          [
           "no checking"
          ],
          [
           "no checking"
          ],
          [
           "0<=X<200"
          ],
          [
           "no checking"
          ],
          [
           "no checking"
          ],
          [
           "0<=X<200"
          ],
          [
           "0<=X<200"
          ],
          [
           "no checking"
          ],
          [
           "<0"
          ],
          [
           "no checking"
          ],
          [
           ">=200"
          ],
          [
           "0<=X<200"
          ],
          [
           "no checking"
          ],
          [
           "no checking"
          ],
          [
           "<0"
          ],
          [
           "no checking"
          ],
          [
           "<0"
          ],
          [
           "no checking"
          ],
          [
           "0<=X<200"
          ],
          [
           "0<=X<200"
          ],
          [
           "0<=X<200"
          ],
          [
           "no checking"
          ],
          [
           "0<=X<200"
          ],
          [
           "no checking"
          ],
          [
           "no checking"
          ],
          [
           "no checking"
          ],
          [
           "no checking"
          ],
          [
           "0<=X<200"
          ],
          [
           "no checking"
          ],
          [
           "<0"
          ],
          [
           "0<=X<200"
          ],
          [
           "no checking"
          ],
          [
           "<0"
          ],
          [
           ">=200"
          ],
          [
           "no checking"
          ],
          [
           "<0"
          ],
          [
           "0<=X<200"
          ],
          [
           "no checking"
          ],
          [
           "0<=X<200"
          ],
          [
           "<0"
          ],
          [
           "0<=X<200"
          ],
          [
           ">=200"
          ],
          [
           "0<=X<200"
          ],
          [
           "no checking"
          ],
          [
           "no checking"
          ],
          [
           "no checking"
          ],
          [
           "no checking"
          ],
          [
           "<0"
          ],
          [
           "no checking"
          ],
          [
           "<0"
          ],
          [
           "no checking"
          ],
          [
           "<0"
          ],
          [
           "<0"
          ],
          [
           "0<=X<200"
          ],
          [
           "no checking"
          ],
          [
           "<0"
          ],
          [
           "no checking"
          ],
          [
           "no checking"
          ],
          [
           "no checking"
          ],
          [
           "<0"
          ],
          [
           "<0"
          ],
          [
           "no checking"
          ],
          [
           "0<=X<200"
          ],
          [
           "no checking"
          ],
          [
           ">=200"
          ],
          [
           "0<=X<200"
          ],
          [
           "<0"
          ],
          [
           "0<=X<200"
          ],
          [
           "0<=X<200"
          ],
          [
           "no checking"
          ],
          [
           "no checking"
          ],
          [
           "0<=X<200"
          ],
          [
           "no checking"
          ],
          [
           "no checking"
          ],
          [
           "no checking"
          ],
          [
           "0<=X<200"
          ],
          [
           "<0"
          ],
          [
           "no checking"
          ],
          [
           "0<=X<200"
          ],
          [
           ">=200"
          ],
          [
           "<0"
          ],
          [
           ">=200"
          ],
          [
           "0<=X<200"
          ],
          [
           "no checking"
          ],
          [
           ">=200"
          ],
          [
           "0<=X<200"
          ],
          [
           "no checking"
          ],
          [
           "no checking"
          ],
          [
           "<0"
          ],
          [
           "no checking"
          ],
          [
           "<0"
          ],
          [
           "<0"
          ],
          [
           "<0"
          ],
          [
           "<0"
          ],
          [
           "no checking"
          ],
          [
           "0<=X<200"
          ],
          [
           "0<=X<200"
          ],
          [
           "no checking"
          ],
          [
           "no checking"
          ],
          [
           "<0"
          ],
          [
           "0<=X<200"
          ],
          [
           "no checking"
          ],
          [
           "no checking"
          ],
          [
           "<0"
          ],
          [
           "0<=X<200"
          ],
          [
           ">=200"
          ],
          [
           "<0"
          ],
          [
           ">=200"
          ],
          [
           "no checking"
          ],
          [
           "no checking"
          ],
          [
           "no checking"
          ],
          [
           "<0"
          ],
          [
           "no checking"
          ],
          [
           "no checking"
          ],
          [
           "<0"
          ],
          [
           "0<=X<200"
          ],
          [
           "0<=X<200"
          ],
          [
           "0<=X<200"
          ],
          [
           "0<=X<200"
          ],
          [
           "no checking"
          ],
          [
           "<0"
          ],
          [
           "0<=X<200"
          ],
          [
           ">=200"
          ],
          [
           "0<=X<200"
          ],
          [
           "<0"
          ],
          [
           "no checking"
          ],
          [
           "0<=X<200"
          ],
          [
           "<0"
          ],
          [
           "no checking"
          ],
          [
           "<0"
          ],
          [
           "0<=X<200"
          ],
          [
           "no checking"
          ],
          [
           "0<=X<200"
          ],
          [
           "no checking"
          ],
          [
           "0<=X<200"
          ],
          [
           "no checking"
          ],
          [
           "0<=X<200"
          ],
          [
           "0<=X<200"
          ],
          [
           "<0"
          ],
          [
           "<0"
          ],
          [
           "<0"
          ],
          [
           "<0"
          ],
          [
           "no checking"
          ],
          [
           "<0"
          ],
          [
           "0<=X<200"
          ],
          [
           "0<=X<200"
          ],
          [
           "no checking"
          ],
          [
           "0<=X<200"
          ],
          [
           "0<=X<200"
          ],
          [
           "no checking"
          ],
          [
           ">=200"
          ],
          [
           "<0"
          ],
          [
           "no checking"
          ],
          [
           "no checking"
          ],
          [
           "<0"
          ],
          [
           "<0"
          ],
          [
           "no checking"
          ],
          [
           "0<=X<200"
          ],
          [
           "no checking"
          ],
          [
           "0<=X<200"
          ],
          [
           "no checking"
          ],
          [
           "no checking"
          ],
          [
           "no checking"
          ],
          [
           ">=200"
          ],
          [
           "0<=X<200"
          ],
          [
           "no checking"
          ],
          [
           "no checking"
          ],
          [
           "<0"
          ],
          [
           "<0"
          ],
          [
           "0<=X<200"
          ],
          [
           "0<=X<200"
          ],
          [
           "no checking"
          ],
          [
           "no checking"
          ],
          [
           "no checking"
          ],
          [
           "no checking"
          ],
          [
           "<0"
          ],
          [
           "<0"
          ],
          [
           "0<=X<200"
          ],
          [
           "no checking"
          ],
          [
           "no checking"
          ],
          [
           "<0"
          ],
          [
           "<0"
          ],
          [
           "no checking"
          ],
          [
           "0<=X<200"
          ],
          [
           "<0"
          ],
          [
           "0<=X<200"
          ],
          [
           "no checking"
          ],
          [
           "0<=X<200"
          ],
          [
           "no checking"
          ],
          [
           "0<=X<200"
          ],
          [
           "0<=X<200"
          ],
          [
           "<0"
          ],
          [
           "no checking"
          ],
          [
           "0<=X<200"
          ],
          [
           ">=200"
          ],
          [
           "no checking"
          ],
          [
           "0<=X<200"
          ],
          [
           "no checking"
          ],
          [
           ">=200"
          ],
          [
           "no checking"
          ],
          [
           "no checking"
          ],
          [
           "no checking"
          ],
          [
           "no checking"
          ],
          [
           "no checking"
          ],
          [
           "no checking"
          ],
          [
           "0<=X<200"
          ],
          [
           "no checking"
          ],
          [
           "no checking"
          ],
          [
           "no checking"
          ],
          [
           "0<=X<200"
          ],
          [
           ">=200"
          ],
          [
           "no checking"
          ],
          [
           "<0"
          ],
          [
           "<0"
          ],
          [
           "0<=X<200"
          ],
          [
           "0<=X<200"
          ],
          [
           "<0"
          ],
          [
           "no checking"
          ],
          [
           "0<=X<200"
          ],
          [
           "no checking"
          ],
          [
           "no checking"
          ],
          [
           "0<=X<200"
          ],
          [
           "0<=X<200"
          ],
          [
           "0<=X<200"
          ],
          [
           "0<=X<200"
          ],
          [
           "0<=X<200"
          ],
          [
           "no checking"
          ],
          [
           "no checking"
          ],
          [
           "<0"
          ],
          [
           "0<=X<200"
          ],
          [
           "no checking"
          ],
          [
           "no checking"
          ],
          [
           ">=200"
          ],
          [
           "0<=X<200"
          ],
          [
           ">=200"
          ],
          [
           "<0"
          ],
          [
           "0<=X<200"
          ],
          [
           "no checking"
          ],
          [
           "no checking"
          ],
          [
           ">=200"
          ],
          [
           "0<=X<200"
          ],
          [
           "0<=X<200"
          ],
          [
           "no checking"
          ],
          [
           "0<=X<200"
          ],
          [
           "<0"
          ],
          [
           "no checking"
          ],
          [
           "<0"
          ],
          [
           "0<=X<200"
          ],
          [
           "no checking"
          ],
          [
           "<0"
          ],
          [
           "<0"
          ],
          [
           "<0"
          ],
          [
           "<0"
          ],
          [
           "no checking"
          ],
          [
           "no checking"
          ],
          [
           "<0"
          ],
          [
           "<0"
          ],
          [
           "no checking"
          ],
          [
           ">=200"
          ],
          [
           "no checking"
          ],
          [
           "<0"
          ],
          [
           "no checking"
          ],
          [
           "<0"
          ],
          [
           "no checking"
          ],
          [
           "0<=X<200"
          ],
          [
           "<0"
          ],
          [
           "no checking"
          ],
          [
           "<0"
          ],
          [
           "no checking"
          ],
          [
           "no checking"
          ],
          [
           "no checking"
          ],
          [
           "<0"
          ],
          [
           "no checking"
          ],
          [
           "0<=X<200"
          ],
          [
           "0<=X<200"
          ],
          [
           "no checking"
          ],
          [
           "0<=X<200"
          ],
          [
           "0<=X<200"
          ],
          [
           "0<=X<200"
          ],
          [
           "0<=X<200"
          ],
          [
           "no checking"
          ],
          [
           "no checking"
          ],
          [
           "<0"
          ],
          [
           "0<=X<200"
          ],
          [
           "no checking"
          ],
          [
           "no checking"
          ],
          [
           "no checking"
          ],
          [
           "0<=X<200"
          ],
          [
           "<0"
          ],
          [
           "no checking"
          ],
          [
           "<0"
          ],
          [
           "0<=X<200"
          ],
          [
           "no checking"
          ],
          [
           "0<=X<200"
          ],
          [
           "0<=X<200"
          ],
          [
           "<0"
          ],
          [
           "<0"
          ],
          [
           "no checking"
          ],
          [
           "<0"
          ],
          [
           "<0"
          ],
          [
           "no checking"
          ],
          [
           ">=200"
          ],
          [
           "<0"
          ],
          [
           "<0"
          ],
          [
           "no checking"
          ],
          [
           "<0"
          ],
          [
           "no checking"
          ],
          [
           "no checking"
          ],
          [
           "0<=X<200"
          ],
          [
           ">=200"
          ],
          [
           "<0"
          ],
          [
           "no checking"
          ],
          [
           "<0"
          ],
          [
           "no checking"
          ],
          [
           "<0"
          ],
          [
           "no checking"
          ],
          [
           "no checking"
          ],
          [
           "no checking"
          ],
          [
           "no checking"
          ],
          [
           "0<=X<200"
          ],
          [
           "no checking"
          ],
          [
           "<0"
          ],
          [
           "<0"
          ],
          [
           "no checking"
          ],
          [
           "no checking"
          ],
          [
           "no checking"
          ],
          [
           "no checking"
          ],
          [
           "<0"
          ],
          [
           "no checking"
          ],
          [
           "no checking"
          ],
          [
           "<0"
          ],
          [
           "no checking"
          ],
          [
           "<0"
          ],
          [
           "no checking"
          ],
          [
           "no checking"
          ],
          [
           "no checking"
          ],
          [
           ">=200"
          ],
          [
           "<0"
          ],
          [
           "no checking"
          ],
          [
           "<0"
          ],
          [
           "0<=X<200"
          ],
          [
           "no checking"
          ],
          [
           "no checking"
          ],
          [
           "no checking"
          ],
          [
           "0<=X<200"
          ],
          [
           "no checking"
          ],
          [
           "0<=X<200"
          ],
          [
           "<0"
          ],
          [
           "0<=X<200"
          ],
          [
           "0<=X<200"
          ],
          [
           "no checking"
          ],
          [
           "<0"
          ],
          [
           "no checking"
          ],
          [
           "<0"
          ],
          [
           "0<=X<200"
          ],
          [
           "no checking"
          ],
          [
           "no checking"
          ],
          [
           "no checking"
          ],
          [
           "<0"
          ],
          [
           "no checking"
          ],
          [
           "no checking"
          ],
          [
           "<0"
          ],
          [
           "0<=X<200"
          ],
          [
           "no checking"
          ],
          [
           "0<=X<200"
          ],
          [
           "no checking"
          ],
          [
           "0<=X<200"
          ],
          [
           "0<=X<200"
          ],
          [
           "no checking"
          ],
          [
           "0<=X<200"
          ],
          [
           "no checking"
          ],
          [
           "<0"
          ],
          [
           "<0"
          ],
          [
           "no checking"
          ],
          [
           "no checking"
          ],
          [
           "<0"
          ],
          [
           "<0"
          ],
          [
           "no checking"
          ],
          [
           "<0"
          ],
          [
           "<0"
          ],
          [
           "0<=X<200"
          ],
          [
           "no checking"
          ],
          [
           "no checking"
          ],
          [
           "<0"
          ],
          [
           "0<=X<200"
          ],
          [
           ">=200"
          ],
          [
           "no checking"
          ],
          [
           "no checking"
          ],
          [
           "no checking"
          ],
          [
           "no checking"
          ],
          [
           "no checking"
          ],
          [
           "0<=X<200"
          ],
          [
           "no checking"
          ],
          [
           "no checking"
          ],
          [
           "no checking"
          ],
          [
           "0<=X<200"
          ],
          [
           "<0"
          ],
          [
           "no checking"
          ],
          [
           "<0"
          ],
          [
           ">=200"
          ],
          [
           "0<=X<200"
          ],
          [
           "<0"
          ],
          [
           "0<=X<200"
          ],
          [
           "no checking"
          ],
          [
           "no checking"
          ],
          [
           "0<=X<200"
          ],
          [
           "0<=X<200"
          ],
          [
           "0<=X<200"
          ],
          [
           "<0"
          ],
          [
           "0<=X<200"
          ],
          [
           "no checking"
          ],
          [
           "no checking"
          ],
          [
           ">=200"
          ],
          [
           "0<=X<200"
          ],
          [
           "0<=X<200"
          ],
          [
           "no checking"
          ],
          [
           "0<=X<200"
          ],
          [
           ">=200"
          ],
          [
           "<0"
          ],
          [
           "no checking"
          ],
          [
           ">=200"
          ],
          [
           "no checking"
          ],
          [
           "0<=X<200"
          ],
          [
           "no checking"
          ],
          [
           "no checking"
          ],
          [
           "<0"
          ],
          [
           "no checking"
          ],
          [
           "no checking"
          ],
          [
           "<0"
          ],
          [
           "no checking"
          ],
          [
           "0<=X<200"
          ]
         ],
         "hovertemplate": "housing=own<br>duration=%{x}<br>credit_amount=%{y}<br>age=%{z}<br>num_dependents=%{marker.size}<br>checking_status=%{customdata[0]}<extra></extra>",
         "legendgroup": "own",
         "marker": {
          "color": "green",
          "opacity": 0.3,
          "size": [
           1,
           1,
           2,
           1,
           1,
           1,
           1,
           1,
           1,
           1,
           1,
           2,
           1,
           1,
           1,
           1,
           1,
           1,
           1,
           1,
           1,
           1,
           1,
           1,
           1,
           1,
           1,
           1,
           1,
           2,
           1,
           1,
           1,
           1,
           1,
           1,
           1,
           1,
           2,
           1,
           1,
           1,
           1,
           1,
           1,
           1,
           2,
           1,
           1,
           1,
           1,
           1,
           1,
           1,
           1,
           2,
           1,
           1,
           1,
           1,
           1,
           1,
           1,
           2,
           1,
           1,
           1,
           2,
           1,
           1,
           1,
           1,
           1,
           2,
           2,
           1,
           1,
           1,
           2,
           1,
           1,
           1,
           1,
           1,
           1,
           1,
           1,
           1,
           1,
           1,
           1,
           1,
           1,
           1,
           1,
           1,
           1,
           1,
           1,
           1,
           1,
           1,
           1,
           1,
           1,
           1,
           1,
           1,
           1,
           1,
           1,
           2,
           1,
           1,
           2,
           2,
           1,
           1,
           1,
           1,
           1,
           1,
           1,
           1,
           1,
           1,
           1,
           1,
           1,
           1,
           1,
           1,
           1,
           2,
           1,
           2,
           1,
           1,
           1,
           1,
           2,
           1,
           1,
           1,
           1,
           1,
           1,
           2,
           1,
           1,
           1,
           1,
           2,
           1,
           1,
           1,
           1,
           1,
           1,
           1,
           1,
           1,
           1,
           2,
           1,
           1,
           1,
           1,
           1,
           1,
           1,
           2,
           2,
           1,
           1,
           2,
           1,
           2,
           1,
           2,
           1,
           1,
           1,
           1,
           1,
           1,
           1,
           1,
           1,
           1,
           1,
           1,
           1,
           1,
           2,
           2,
           1,
           1,
           1,
           1,
           1,
           1,
           1,
           2,
           1,
           1,
           1,
           1,
           1,
           1,
           1,
           1,
           2,
           1,
           1,
           1,
           2,
           1,
           1,
           1,
           1,
           1,
           1,
           2,
           1,
           1,
           1,
           1,
           1,
           1,
           1,
           2,
           1,
           2,
           1,
           1,
           1,
           1,
           1,
           1,
           1,
           1,
           2,
           1,
           2,
           1,
           1,
           1,
           1,
           1,
           1,
           2,
           1,
           1,
           1,
           1,
           1,
           1,
           1,
           1,
           1,
           1,
           1,
           1,
           1,
           1,
           2,
           1,
           1,
           1,
           1,
           1,
           1,
           1,
           1,
           1,
           1,
           1,
           1,
           1,
           1,
           1,
           1,
           1,
           1,
           1,
           1,
           2,
           1,
           2,
           1,
           1,
           1,
           1,
           1,
           1,
           1,
           2,
           2,
           1,
           1,
           1,
           2,
           1,
           1,
           1,
           1,
           1,
           1,
           1,
           1,
           1,
           1,
           1,
           1,
           1,
           1,
           1,
           1,
           2,
           1,
           1,
           1,
           1,
           1,
           1,
           1,
           1,
           1,
           1,
           1,
           1,
           1,
           2,
           1,
           1,
           1,
           2,
           2,
           1,
           1,
           1,
           1,
           2,
           1,
           1,
           1,
           1,
           2,
           1,
           1,
           1,
           1,
           1,
           1,
           1,
           1,
           1,
           1,
           1,
           1,
           2,
           1,
           1,
           2,
           1,
           1,
           2,
           1,
           1,
           1,
           1,
           1,
           2,
           1,
           1,
           1,
           2,
           1,
           1,
           2,
           2,
           2,
           1,
           1,
           1,
           1,
           1,
           1,
           2,
           1,
           1,
           2,
           1,
           1,
           2,
           1,
           1,
           1,
           1,
           1,
           1,
           1,
           1,
           1,
           1,
           1,
           1,
           2,
           1,
           1,
           1,
           1,
           1,
           1,
           1,
           1,
           1,
           1,
           2,
           1,
           1,
           1,
           1,
           1,
           1,
           1,
           1,
           1,
           1,
           1,
           1,
           1,
           1,
           1,
           1,
           1,
           1,
           1,
           1,
           1,
           1,
           1,
           1,
           1,
           1,
           1,
           1,
           1,
           1,
           1,
           1,
           1,
           2,
           1,
           1,
           2,
           2,
           1,
           1,
           1,
           1,
           1,
           1,
           1,
           1,
           1,
           1,
           1,
           2,
           1,
           1,
           1,
           1,
           1,
           1,
           1,
           1,
           2,
           1,
           1,
           1,
           1,
           1,
           1,
           2,
           1,
           1,
           1,
           1,
           1,
           2,
           1,
           1,
           2,
           1,
           1,
           1,
           2,
           1,
           1,
           1,
           1,
           1,
           2,
           1,
           1,
           2,
           1,
           1,
           1,
           1,
           1,
           2,
           1,
           1,
           1,
           1,
           1,
           1,
           1,
           1,
           1,
           1,
           2,
           1,
           2,
           2,
           1,
           1,
           1,
           1,
           1,
           1,
           1,
           1,
           1,
           1,
           1,
           1,
           2,
           1,
           1,
           1,
           1,
           1,
           1,
           1,
           1,
           1,
           1,
           1,
           1,
           1,
           1,
           1,
           1,
           1,
           1,
           1,
           1,
           1,
           1,
           2,
           1,
           2,
           2,
           1,
           1,
           1,
           1,
           1,
           1,
           1,
           1,
           1,
           1,
           1,
           1,
           1,
           1,
           1,
           1,
           1,
           2,
           1,
           1,
           1,
           2,
           2,
           1,
           1,
           1,
           1,
           1,
           1,
           1,
           1,
           1,
           1,
           2,
           1,
           1,
           1,
           1,
           1,
           2,
           1,
           1,
           1,
           1,
           1,
           1,
           2,
           1,
           1,
           1,
           1,
           2,
           1,
           1,
           2,
           1,
           1,
           1,
           1,
           1,
           1,
           1,
           1,
           2,
           1,
           1,
           2,
           1,
           1,
           1,
           1,
           2,
           1,
           1,
           1,
           1,
           1,
           1,
           1,
           1,
           1,
           1,
           1,
           1,
           1,
           2,
           1,
           1,
           1,
           1,
           1,
           1,
           1,
           2,
           1,
           1,
           1,
           2,
           1,
           1,
           1,
           2,
           2,
           2,
           1,
           2,
           1,
           1,
           2,
           1,
           2,
           1,
           1,
           1,
           1,
           1,
           1,
           1,
           1,
           1,
           1,
           1,
           1,
           2,
           1,
           2,
           1,
           1,
           1,
           1,
           2,
           1,
           1,
           2,
           1,
           1,
           1,
           1,
           2,
           2,
           1,
           1,
           1,
           1,
           1,
           1
          ],
          "sizemode": "area",
          "sizeref": 0.005,
          "symbol": "circle"
         },
         "mode": "markers",
         "name": "own",
         "scene": "scene",
         "showlegend": true,
         "type": "scatter3d",
         "x": [
          6,
          48,
          12,
          24,
          12,
          30,
          12,
          24,
          24,
          24,
          30,
          24,
          9,
          12,
          10,
          6,
          6,
          7,
          60,
          18,
          24,
          18,
          12,
          45,
          18,
          10,
          9,
          30,
          12,
          18,
          11,
          36,
          11,
          12,
          24,
          27,
          12,
          18,
          6,
          12,
          36,
          18,
          9,
          15,
          48,
          24,
          27,
          12,
          12,
          36,
          36,
          42,
          36,
          42,
          11,
          54,
          30,
          24,
          15,
          24,
          10,
          12,
          18,
          18,
          12,
          12,
          12,
          12,
          12,
          12,
          18,
          36,
          6,
          24,
          18,
          12,
          24,
          14,
          6,
          36,
          12,
          48,
          42,
          33,
          12,
          21,
          12,
          12,
          12,
          12,
          12,
          48,
          36,
          15,
          60,
          12,
          27,
          12,
          15,
          6,
          36,
          27,
          18,
          21,
          48,
          6,
          12,
          36,
          18,
          10,
          36,
          9,
          12,
          24,
          6,
          24,
          18,
          15,
          36,
          6,
          18,
          11,
          24,
          12,
          24,
          8,
          21,
          30,
          12,
          6,
          21,
          36,
          36,
          21,
          24,
          18,
          15,
          12,
          18,
          24,
          27,
          9,
          6,
          18,
          9,
          12,
          27,
          12,
          12,
          12,
          24,
          12,
          9,
          36,
          27,
          30,
          36,
          6,
          18,
          36,
          10,
          12,
          12,
          24,
          15,
          36,
          48,
          9,
          36,
          12,
          18,
          4,
          24,
          6,
          12,
          30,
          24,
          6,
          12,
          12,
          24,
          12,
          24,
          6,
          12,
          30,
          24,
          9,
          60,
          24,
          15,
          11,
          12,
          24,
          10,
          15,
          36,
          24,
          14,
          24,
          18,
          48,
          30,
          9,
          18,
          12,
          6,
          12,
          18,
          15,
          24,
          47,
          48,
          12,
          24,
          12,
          48,
          48,
          10,
          18,
          21,
          6,
          36,
          24,
          10,
          6,
          12,
          8,
          24,
          24,
          12,
          4,
          36,
          12,
          24,
          12,
          15,
          30,
          24,
          18,
          18,
          8,
          24,
          36,
          6,
          18,
          60,
          13,
          24,
          10,
          18,
          10,
          15,
          13,
          6,
          9,
          18,
          24,
          12,
          36,
          12,
          12,
          12,
          18,
          12,
          18,
          36,
          36,
          18,
          18,
          6,
          20,
          12,
          30,
          18,
          18,
          15,
          9,
          18,
          6,
          9,
          36,
          24,
          18,
          18,
          24,
          14,
          18,
          24,
          24,
          15,
          24,
          12,
          24,
          33,
          12,
          24,
          36,
          12,
          21,
          18,
          12,
          12,
          21,
          12,
          28,
          18,
          9,
          5,
          24,
          24,
          9,
          12,
          24,
          42,
          12,
          12,
          12,
          20,
          12,
          48,
          36,
          7,
          12,
          15,
          36,
          6,
          12,
          24,
          24,
          24,
          6,
          18,
          36,
          15,
          12,
          18,
          24,
          48,
          33,
          24,
          6,
          9,
          6,
          18,
          39,
          24,
          12,
          15,
          12,
          24,
          15,
          12,
          6,
          12,
          12,
          6,
          6,
          24,
          24,
          18,
          6,
          24,
          9,
          24,
          10,
          15,
          15,
          24,
          39,
          12,
          24,
          6,
          6,
          6,
          18,
          24,
          18,
          26,
          15,
          4,
          6,
          36,
          24,
          24,
          6,
          18,
          18,
          30,
          18,
          12,
          24,
          24,
          12,
          12,
          6,
          48,
          12,
          9,
          12,
          18,
          21,
          24,
          18,
          6,
          24,
          12,
          24,
          48,
          48,
          30,
          15,
          9,
          15,
          12,
          24,
          36,
          24,
          18,
          12,
          12,
          18,
          12,
          12,
          21,
          24,
          6,
          24,
          18,
          7,
          9,
          36,
          10,
          24,
          24,
          18,
          12,
          21,
          18,
          48,
          12,
          21,
          18,
          48,
          15,
          6,
          9,
          42,
          9,
          24,
          18,
          15,
          24,
          12,
          24,
          60,
          12,
          42,
          18,
          15,
          15,
          24,
          18,
          30,
          12,
          12,
          24,
          36,
          24,
          12,
          48,
          30,
          18,
          12,
          21,
          6,
          6,
          24,
          30,
          48,
          30,
          24,
          36,
          60,
          6,
          21,
          24,
          72,
          18,
          6,
          15,
          36,
          10,
          9,
          12,
          15,
          15,
          24,
          6,
          24,
          12,
          12,
          18,
          30,
          27,
          48,
          9,
          9,
          18,
          21,
          9,
          60,
          30,
          30,
          24,
          20,
          9,
          12,
          9,
          6,
          15,
          24,
          24,
          8,
          4,
          36,
          18,
          6,
          24,
          10,
          21,
          24,
          39,
          13,
          12,
          21,
          15,
          6,
          18,
          30,
          6,
          24,
          12,
          15,
          12,
          24,
          12,
          30,
          12,
          36,
          21,
          24,
          36,
          18,
          36,
          18,
          39,
          24,
          12,
          12,
          20,
          18,
          22,
          48,
          40,
          21,
          24,
          6,
          24,
          9,
          20,
          12,
          36,
          6,
          12,
          8,
          6,
          36,
          48,
          6,
          36,
          18,
          12,
          12,
          36,
          8,
          18,
          21,
          18,
          24,
          24,
          15,
          12,
          12,
          24,
          24,
          36,
          21,
          18,
          24,
          18,
          21,
          24,
          9,
          12,
          24,
          36,
          24,
          10,
          15,
          24,
          18,
          24,
          27,
          18,
          12,
          36,
          36,
          6,
          24,
          15,
          12,
          11,
          36,
          30,
          24,
          30,
          18,
          24,
          12,
          24,
          48,
          36,
          27,
          15,
          12,
          36,
          18,
          36,
          12,
          18,
          20,
          24,
          21,
          36,
          15,
          9,
          36,
          24,
          30,
          11,
          48,
          10,
          6,
          24,
          18,
          48,
          24,
          12,
          30,
          12,
          24,
          9,
          9,
          12,
          12,
          30,
          9,
          24,
          12,
          10,
          24,
          4,
          48,
          12,
          18,
          24,
          18,
          36,
          36,
          12,
          30,
          9,
          28,
          21,
          15,
          24,
          6,
          30,
          27,
          11,
          15,
          24,
          30,
          24,
          6,
          18,
          24,
          30,
          21,
          36,
          24,
          42,
          13,
          24,
          12,
          15,
          36,
          12,
          12,
          30,
          12,
          45
         ],
         "y": [
          1169,
          5951,
          2096,
          2835,
          3059,
          5234,
          1567,
          1199,
          1282,
          2424,
          8072,
          3430,
          2134,
          1804,
          2069,
          1374,
          426,
          2415,
          6836,
          1913,
          4020,
          5866,
          1474,
          4746,
          2100,
          1225,
          458,
          2333,
          1158,
          6204,
          1393,
          2299,
          7228,
          2073,
          2333,
          5965,
          1262,
          3378,
          783,
          6468,
          9566,
          1961,
          1391,
          1537,
          14421,
          3181,
          5190,
          2171,
          1007,
          2394,
          8133,
          5954,
          1977,
          3965,
          4771,
          9436,
          3832,
          5943,
          1213,
          1755,
          2315,
          1412,
          1295,
          2249,
          1108,
          618,
          1409,
          797,
          1318,
          2012,
          2622,
          2337,
          932,
          11938,
          6458,
          6078,
          7721,
          1410,
          1449,
          7855,
          1680,
          3578,
          7174,
          4281,
          2366,
          1835,
          2121,
          701,
          639,
          1860,
          3499,
          8487,
          6887,
          2708,
          10144,
          1240,
          8613,
          766,
          2728,
          709,
          4795,
          3416,
          2462,
          2288,
          3566,
          860,
          682,
          5371,
          1582,
          1924,
          5848,
          1288,
          339,
          3512,
          1898,
          2872,
          1055,
          1262,
          909,
          2978,
          1131,
          1577,
          1935,
          763,
          2064,
          1414,
          3414,
          7485,
          2577,
          338,
          571,
          9572,
          4455,
          1647,
          3777,
          884,
          1360,
          674,
          3244,
          4591,
          3915,
          1501,
          1382,
          4297,
          936,
          1168,
          5117,
          1495,
          1935,
          1424,
          6568,
          1413,
          3074,
          3835,
          5293,
          1908,
          3342,
          932,
          3104,
          3913,
          1364,
          625,
          707,
          2978,
          4657,
          2613,
          10961,
          1478,
          4210,
          2141,
          866,
          1544,
          1823,
          14555,
          1291,
          2522,
          915,
          1595,
          1185,
          3447,
          1258,
          717,
          1925,
          666,
          2251,
          2150,
          4151,
          2030,
          7418,
          2684,
          3812,
          1154,
          1657,
          1603,
          1231,
          802,
          6304,
          1533,
          8978,
          999,
          2662,
          3060,
          11998,
          2697,
          2404,
          1262,
          4611,
          1574,
          1445,
          1520,
          3878,
          10722,
          4788,
          1092,
          1024,
          1076,
          7629,
          9960,
          1287,
          2515,
          2745,
          672,
          3804,
          1344,
          1038,
          1543,
          727,
          1237,
          5511,
          3749,
          685,
          1494,
          2746,
          708,
          4351,
          701,
          3643,
          4249,
          1938,
          2659,
          1028,
          3398,
          1525,
          4473,
          1068,
          1864,
          7408,
          2101,
          4169,
          1521,
          4439,
          3949,
          1459,
          882,
          1743,
          959,
          3229,
          1246,
          2331,
          4463,
          776,
          3399,
          2247,
          2473,
          1542,
          3850,
          3446,
          3079,
          6070,
          2320,
          362,
          2212,
          1330,
          4272,
          2238,
          7374,
          2326,
          1449,
          1820,
          1957,
          2406,
          2348,
          1516,
          1473,
          1887,
          8648,
          802,
          2899,
          2039,
          2197,
          1053,
          3235,
          939,
          1967,
          7253,
          2292,
          1381,
          5842,
          2579,
          2782,
          1042,
          2028,
          958,
          1591,
          2762,
          2743,
          1149,
          1313,
          3448,
          11328,
          2058,
          2136,
          1484,
          1287,
          3394,
          609,
          1884,
          1620,
          2629,
          719,
          5096,
          1842,
          2576,
          1424,
          1512,
          11054,
          518,
          2759,
          2670,
          4817,
          2679,
          343,
          4594,
          3620,
          1721,
          754,
          1950,
          2924,
          7238,
          2764,
          4679,
          448,
          654,
          1238,
          1245,
          2569,
          5152,
          1037,
          1478,
          3573,
          1201,
          960,
          1163,
          1209,
          3077,
          1934,
          1237,
          368,
          2996,
          1585,
          1301,
          1323,
          3123,
          1126,
          1216,
          1309,
          2360,
          6850,
          1413,
          8588,
          759,
          2255,
          609,
          1361,
          1203,
          3190,
          3488,
          1113,
          7966,
          1532,
          1503,
          662,
          2273,
          1311,
          3105,
          1374,
          3612,
          3049,
          6350,
          2864,
          1255,
          2022,
          1552,
          626,
          996,
          1750,
          6999,
          1995,
          1199,
          1331,
          2278,
          5003,
          3552,
          1928,
          683,
          4712,
          1372,
          2578,
          3979,
          6758,
          5954,
          806,
          1082,
          2788,
          2930,
          1927,
          2820,
          937,
          1056,
          3124,
          1289,
          1217,
          2246,
          385,
          1572,
          1358,
          931,
          4241,
          2775,
          2329,
          918,
          3349,
          1275,
          2828,
          4526,
          2051,
          741,
          3357,
          1808,
          12204,
          640,
          3652,
          1530,
          3914,
          1979,
          2116,
          1437,
          4042,
          3832,
          3660,
          1553,
          1444,
          1355,
          1393,
          1376,
          15653,
          1493,
          4370,
          750,
          1308,
          4623,
          1851,
          1880,
          4583,
          1386,
          1922,
          2303,
          8086,
          2346,
          888,
          10222,
          4221,
          6361,
          900,
          2241,
          1050,
          1047,
          6314,
          3496,
          3609,
          3017,
          4139,
          5742,
          10366,
          2080,
          2580,
          5150,
          5595,
          1453,
          1538,
          1478,
          9857,
          1347,
          2753,
          3651,
          975,
          2631,
          2896,
          4716,
          2284,
          1103,
          926,
          1800,
          2503,
          2528,
          6560,
          1206,
          2118,
          629,
          2476,
          1138,
          14027,
          7596,
          3077,
          3148,
          6148,
          1337,
          1228,
          790,
          250,
          1316,
          1275,
          6403,
          760,
          3380,
          3990,
          4380,
          6761,
          2325,
          1048,
          3160,
          2483,
          14179,
          1797,
          1274,
          5248,
          3029,
          428,
          976,
          5771,
          1299,
          1393,
          691,
          5045,
          2214,
          2463,
          1155,
          3108,
          1655,
          8065,
          3275,
          2223,
          3535,
          3509,
          5711,
          3872,
          4933,
          1940,
          1410,
          836,
          6468,
          1941,
          2675,
          2751,
          5998,
          1188,
          6313,
          1221,
          717,
          1549,
          4272,
          976,
          9271,
          590,
          930,
          907,
          484,
          9629,
          3051,
          1338,
          15857,
          1345,
          1101,
          3016,
          2712,
          731,
          3780,
          1602,
          4165,
          2375,
          5084,
          2327,
          1082,
          886,
          2957,
          2611,
          5179,
          2993,
          1943,
          1559,
          3422,
          3976,
          1249,
          1364,
          709,
          4042,
          10875,
          1474,
          894,
          3959,
          5804,
          2169,
          2439,
          4526,
          2389,
          3331,
          7409,
          7678,
          1343,
          1382,
          874,
          3590,
          1322,
          3595,
          6742,
          7814,
          2181,
          1098,
          4057,
          795,
          2825,
          15672,
          6614,
          2442,
          1829,
          2171,
          5800,
          1169,
          8947,
          1592,
          4153,
          3485,
          1278,
          3763,
          3711,
          3594,
          3195,
          4454,
          4736,
          2991,
          2142,
          18424,
          2848,
          14896,
          2359,
          1817,
          12749,
          6872,
          697,
          1867,
          1344,
          1747,
          1670,
          1224,
          522,
          1498,
          1919,
          745,
          6842,
          3527,
          1546,
          929,
          1455,
          8358,
          2859,
          1533,
          3621,
          3590,
          2145,
          10974,
          1893,
          3656,
          1154,
          4006,
          2353,
          3556,
          2397,
          454,
          1715,
          2520,
          3939,
          1514,
          7393,
          2831,
          1258,
          753,
          2427,
          2538,
          8386,
          2923,
          8229,
          2028,
          6289,
          1409,
          1743,
          3565,
          1569,
          3959,
          2390,
          1736,
          3857,
          804,
          4576
         ],
         "z": [
          67,
          22,
          49,
          53,
          61,
          28,
          22,
          60,
          32,
          53,
          25,
          31,
          48,
          44,
          26,
          36,
          39,
          34,
          63,
          36,
          27,
          30,
          33,
          25,
          37,
          37,
          24,
          30,
          26,
          44,
          35,
          39,
          39,
          28,
          29,
          30,
          25,
          31,
          26,
          52,
          31,
          23,
          27,
          50,
          25,
          26,
          48,
          29,
          22,
          25,
          30,
          41,
          40,
          34,
          51,
          39,
          22,
          44,
          47,
          58,
          52,
          29,
          27,
          30,
          28,
          56,
          54,
          33,
          54,
          61,
          34,
          36,
          24,
          39,
          39,
          32,
          30,
          35,
          31,
          25,
          35,
          47,
          30,
          23,
          36,
          25,
          30,
          40,
          30,
          34,
          29,
          24,
          29,
          27,
          21,
          38,
          27,
          66,
          35,
          27,
          30,
          27,
          22,
          23,
          30,
          39,
          51,
          28,
          46,
          38,
          24,
          48,
          45,
          38,
          34,
          36,
          30,
          36,
          36,
          32,
          33,
          20,
          31,
          26,
          34,
          33,
          26,
          53,
          42,
          52,
          65,
          28,
          30,
          40,
          50,
          36,
          31,
          20,
          33,
          54,
          36,
          34,
          28,
          40,
          52,
          27,
          26,
          38,
          43,
          26,
          21,
          55,
          33,
          45,
          50,
          66,
          51,
          39,
          31,
          23,
          64,
          26,
          30,
          32,
          30,
          27,
          27,
          22,
          26,
          35,
          25,
          42,
          30,
          23,
          35,
          39,
          29,
          51,
          27,
          35,
          25,
          52,
          26,
          39,
          46,
          24,
          35,
          24,
          27,
          35,
          23,
          57,
          27,
          55,
          32,
          37,
          36,
          38,
          45,
          25,
          32,
          28,
          34,
          32,
          26,
          49,
          32,
          50,
          49,
          63,
          37,
          35,
          26,
          49,
          48,
          26,
          46,
          26,
          45,
          43,
          32,
          54,
          42,
          37,
          49,
          33,
          33,
          24,
          25,
          26,
          25,
          29,
          31,
          38,
          48,
          32,
          27,
          28,
          32,
          28,
          36,
          39,
          34,
          31,
          28,
          30,
          24,
          23,
          28,
          31,
          33,
          37,
          43,
          23,
          34,
          29,
          38,
          23,
          49,
          26,
          28,
          37,
          36,
          25,
          36,
          27,
          42,
          36,
          33,
          34,
          52,
          39,
          26,
          26,
          25,
          40,
          27,
          27,
          30,
          31,
          31,
          46,
          43,
          39,
          28,
          27,
          27,
          43,
          22,
          43,
          27,
          26,
          28,
          20,
          35,
          42,
          35,
          35,
          33,
          31,
          33,
          30,
          47,
          34,
          25,
          29,
          46,
          20,
          74,
          29,
          33,
          25,
          25,
          37,
          65,
          26,
          39,
          30,
          29,
          41,
          30,
          34,
          35,
          55,
          61,
          30,
          29,
          34,
          35,
          31,
          29,
          27,
          32,
          37,
          36,
          38,
          34,
          63,
          32,
          26,
          35,
          23,
          28,
          36,
          33,
          24,
          25,
          39,
          44,
          23,
          26,
          30,
          44,
          47,
          52,
          26,
          27,
          38,
          20,
          40,
          32,
          28,
          27,
          49,
          38,
          27,
          36,
          34,
          28,
          45,
          26,
          54,
          37,
          40,
          43,
          24,
          23,
          26,
          30,
          31,
          42,
          41,
          32,
          26,
          25,
          75,
          37,
          45,
          31,
          34,
          61,
          37,
          32,
          24,
          23,
          45,
          34,
          27,
          67,
          22,
          28,
          29,
          27,
          31,
          29,
          37,
          36,
          34,
          41,
          31,
          38,
          22,
          27,
          24,
          27,
          33,
          27,
          27,
          30,
          49,
          21,
          47,
          60,
          58,
          36,
          40,
          32,
          36,
          31,
          45,
          30,
          28,
          23,
          22,
          74,
          33,
          22,
          29,
          22,
          48,
          49,
          27,
          32,
          38,
          35,
          41,
          29,
          36,
          64,
          28,
          44,
          23,
          25,
          47,
          28,
          21,
          34,
          26,
          27,
          38,
          40,
          33,
          32,
          32,
          26,
          37,
          45,
          42,
          35,
          41,
          37,
          28,
          41,
          23,
          50,
          35,
          50,
          27,
          34,
          27,
          47,
          27,
          31,
          42,
          24,
          41,
          33,
          24,
          26,
          56,
          33,
          31,
          27,
          35,
          31,
          25,
          25,
          29,
          44,
          28,
          29,
          38,
          24,
          41,
          32,
          24,
          25,
          37,
          32,
          46,
          25,
          27,
          63,
          40,
          31,
          31,
          34,
          24,
          66,
          41,
          47,
          36,
          33,
          44,
          37,
          29,
          35,
          45,
          32,
          23,
          41,
          22,
          30,
          28,
          37,
          26,
          33,
          49,
          23,
          25,
          74,
          31,
          35,
          59,
          24,
          27,
          40,
          31,
          63,
          25,
          36,
          52,
          37,
          25,
          38,
          67,
          25,
          60,
          31,
          23,
          60,
          35,
          40,
          38,
          27,
          39,
          41,
          27,
          54,
          35,
          24,
          35,
          24,
          26,
          65,
          26,
          28,
          24,
          54,
          62,
          43,
          26,
          27,
          24,
          41,
          47,
          35,
          30,
          36,
          44,
          42,
          25,
          48,
          21,
          63,
          46,
          29,
          28,
          23,
          50,
          47,
          35,
          28,
          59,
          57,
          43,
          45,
          33,
          40,
          29,
          27,
          28,
          35,
          32,
          27,
          42,
          37,
          40,
          46,
          26,
          24,
          29,
          40,
          28,
          36,
          38,
          36,
          65,
          43,
          53,
          34,
          23,
          34,
          43,
          46,
          38,
          34,
          29,
          31,
          35,
          42,
          44,
          36,
          24,
          27,
          46,
          33,
          34,
          25,
          25,
          28,
          32,
          32,
          68,
          33,
          28,
          37,
          55,
          46,
          58,
          43,
          24,
          22,
          30,
          42,
          23,
          30,
          28,
          46,
          45,
          31,
          31,
          42,
          30,
          38,
          43,
          31,
          40,
          24,
          26,
          29,
          49,
          37,
          45,
          47,
          29,
          35,
          22,
          26,
          23,
          40,
          22,
          43,
          33,
          57,
          64,
          42,
          47,
          49,
          28,
          26,
          30,
          33,
          64,
          48,
          37,
          34,
          30,
          50,
          31,
          40,
          38,
          27
         ]
        }
       ],
       "layout": {
        "height": 700,
        "legend": {
         "itemsizing": "constant",
         "title": {
          "text": "housing"
         },
         "tracegroupgap": 0,
         "x": 0.01,
         "xanchor": "left",
         "y": 0.99,
         "yanchor": "top"
        },
        "margin": {
         "b": 5,
         "l": 5,
         "r": 5,
         "t": 20
        },
        "scene": {
         "domain": {
          "x": [
           0,
           1
          ],
          "y": [
           0,
           1
          ]
         },
         "xaxis": {
          "title": {
           "text": "duration"
          },
          "type": "log"
         },
         "yaxis": {
          "title": {
           "text": "credit_amount"
          },
          "type": "log"
         },
         "zaxis": {
          "title": {
           "text": "age"
          }
         }
        },
        "template": {
         "data": {
          "bar": [
           {
            "error_x": {
             "color": "#2a3f5f"
            },
            "error_y": {
             "color": "#2a3f5f"
            },
            "marker": {
             "line": {
              "color": "#E5ECF6",
              "width": 0.5
             },
             "pattern": {
              "fillmode": "overlay",
              "size": 10,
              "solidity": 0.2
             }
            },
            "type": "bar"
           }
          ],
          "barpolar": [
           {
            "marker": {
             "line": {
              "color": "#E5ECF6",
              "width": 0.5
             },
             "pattern": {
              "fillmode": "overlay",
              "size": 10,
              "solidity": 0.2
             }
            },
            "type": "barpolar"
           }
          ],
          "carpet": [
           {
            "aaxis": {
             "endlinecolor": "#2a3f5f",
             "gridcolor": "white",
             "linecolor": "white",
             "minorgridcolor": "white",
             "startlinecolor": "#2a3f5f"
            },
            "baxis": {
             "endlinecolor": "#2a3f5f",
             "gridcolor": "white",
             "linecolor": "white",
             "minorgridcolor": "white",
             "startlinecolor": "#2a3f5f"
            },
            "type": "carpet"
           }
          ],
          "choropleth": [
           {
            "colorbar": {
             "outlinewidth": 0,
             "ticks": ""
            },
            "type": "choropleth"
           }
          ],
          "contour": [
           {
            "colorbar": {
             "outlinewidth": 0,
             "ticks": ""
            },
            "colorscale": [
             [
              0,
              "#0d0887"
             ],
             [
              0.1111111111111111,
              "#46039f"
             ],
             [
              0.2222222222222222,
              "#7201a8"
             ],
             [
              0.3333333333333333,
              "#9c179e"
             ],
             [
              0.4444444444444444,
              "#bd3786"
             ],
             [
              0.5555555555555556,
              "#d8576b"
             ],
             [
              0.6666666666666666,
              "#ed7953"
             ],
             [
              0.7777777777777778,
              "#fb9f3a"
             ],
             [
              0.8888888888888888,
              "#fdca26"
             ],
             [
              1,
              "#f0f921"
             ]
            ],
            "type": "contour"
           }
          ],
          "contourcarpet": [
           {
            "colorbar": {
             "outlinewidth": 0,
             "ticks": ""
            },
            "type": "contourcarpet"
           }
          ],
          "heatmap": [
           {
            "colorbar": {
             "outlinewidth": 0,
             "ticks": ""
            },
            "colorscale": [
             [
              0,
              "#0d0887"
             ],
             [
              0.1111111111111111,
              "#46039f"
             ],
             [
              0.2222222222222222,
              "#7201a8"
             ],
             [
              0.3333333333333333,
              "#9c179e"
             ],
             [
              0.4444444444444444,
              "#bd3786"
             ],
             [
              0.5555555555555556,
              "#d8576b"
             ],
             [
              0.6666666666666666,
              "#ed7953"
             ],
             [
              0.7777777777777778,
              "#fb9f3a"
             ],
             [
              0.8888888888888888,
              "#fdca26"
             ],
             [
              1,
              "#f0f921"
             ]
            ],
            "type": "heatmap"
           }
          ],
          "heatmapgl": [
           {
            "colorbar": {
             "outlinewidth": 0,
             "ticks": ""
            },
            "colorscale": [
             [
              0,
              "#0d0887"
             ],
             [
              0.1111111111111111,
              "#46039f"
             ],
             [
              0.2222222222222222,
              "#7201a8"
             ],
             [
              0.3333333333333333,
              "#9c179e"
             ],
             [
              0.4444444444444444,
              "#bd3786"
             ],
             [
              0.5555555555555556,
              "#d8576b"
             ],
             [
              0.6666666666666666,
              "#ed7953"
             ],
             [
              0.7777777777777778,
              "#fb9f3a"
             ],
             [
              0.8888888888888888,
              "#fdca26"
             ],
             [
              1,
              "#f0f921"
             ]
            ],
            "type": "heatmapgl"
           }
          ],
          "histogram": [
           {
            "marker": {
             "pattern": {
              "fillmode": "overlay",
              "size": 10,
              "solidity": 0.2
             }
            },
            "type": "histogram"
           }
          ],
          "histogram2d": [
           {
            "colorbar": {
             "outlinewidth": 0,
             "ticks": ""
            },
            "colorscale": [
             [
              0,
              "#0d0887"
             ],
             [
              0.1111111111111111,
              "#46039f"
             ],
             [
              0.2222222222222222,
              "#7201a8"
             ],
             [
              0.3333333333333333,
              "#9c179e"
             ],
             [
              0.4444444444444444,
              "#bd3786"
             ],
             [
              0.5555555555555556,
              "#d8576b"
             ],
             [
              0.6666666666666666,
              "#ed7953"
             ],
             [
              0.7777777777777778,
              "#fb9f3a"
             ],
             [
              0.8888888888888888,
              "#fdca26"
             ],
             [
              1,
              "#f0f921"
             ]
            ],
            "type": "histogram2d"
           }
          ],
          "histogram2dcontour": [
           {
            "colorbar": {
             "outlinewidth": 0,
             "ticks": ""
            },
            "colorscale": [
             [
              0,
              "#0d0887"
             ],
             [
              0.1111111111111111,
              "#46039f"
             ],
             [
              0.2222222222222222,
              "#7201a8"
             ],
             [
              0.3333333333333333,
              "#9c179e"
             ],
             [
              0.4444444444444444,
              "#bd3786"
             ],
             [
              0.5555555555555556,
              "#d8576b"
             ],
             [
              0.6666666666666666,
              "#ed7953"
             ],
             [
              0.7777777777777778,
              "#fb9f3a"
             ],
             [
              0.8888888888888888,
              "#fdca26"
             ],
             [
              1,
              "#f0f921"
             ]
            ],
            "type": "histogram2dcontour"
           }
          ],
          "mesh3d": [
           {
            "colorbar": {
             "outlinewidth": 0,
             "ticks": ""
            },
            "type": "mesh3d"
           }
          ],
          "parcoords": [
           {
            "line": {
             "colorbar": {
              "outlinewidth": 0,
              "ticks": ""
             }
            },
            "type": "parcoords"
           }
          ],
          "pie": [
           {
            "automargin": true,
            "type": "pie"
           }
          ],
          "scatter": [
           {
            "fillpattern": {
             "fillmode": "overlay",
             "size": 10,
             "solidity": 0.2
            },
            "type": "scatter"
           }
          ],
          "scatter3d": [
           {
            "line": {
             "colorbar": {
              "outlinewidth": 0,
              "ticks": ""
             }
            },
            "marker": {
             "colorbar": {
              "outlinewidth": 0,
              "ticks": ""
             }
            },
            "type": "scatter3d"
           }
          ],
          "scattercarpet": [
           {
            "marker": {
             "colorbar": {
              "outlinewidth": 0,
              "ticks": ""
             }
            },
            "type": "scattercarpet"
           }
          ],
          "scattergeo": [
           {
            "marker": {
             "colorbar": {
              "outlinewidth": 0,
              "ticks": ""
             }
            },
            "type": "scattergeo"
           }
          ],
          "scattergl": [
           {
            "marker": {
             "colorbar": {
              "outlinewidth": 0,
              "ticks": ""
             }
            },
            "type": "scattergl"
           }
          ],
          "scattermapbox": [
           {
            "marker": {
             "colorbar": {
              "outlinewidth": 0,
              "ticks": ""
             }
            },
            "type": "scattermapbox"
           }
          ],
          "scatterpolar": [
           {
            "marker": {
             "colorbar": {
              "outlinewidth": 0,
              "ticks": ""
             }
            },
            "type": "scatterpolar"
           }
          ],
          "scatterpolargl": [
           {
            "marker": {
             "colorbar": {
              "outlinewidth": 0,
              "ticks": ""
             }
            },
            "type": "scatterpolargl"
           }
          ],
          "scatterternary": [
           {
            "marker": {
             "colorbar": {
              "outlinewidth": 0,
              "ticks": ""
             }
            },
            "type": "scatterternary"
           }
          ],
          "surface": [
           {
            "colorbar": {
             "outlinewidth": 0,
             "ticks": ""
            },
            "colorscale": [
             [
              0,
              "#0d0887"
             ],
             [
              0.1111111111111111,
              "#46039f"
             ],
             [
              0.2222222222222222,
              "#7201a8"
             ],
             [
              0.3333333333333333,
              "#9c179e"
             ],
             [
              0.4444444444444444,
              "#bd3786"
             ],
             [
              0.5555555555555556,
              "#d8576b"
             ],
             [
              0.6666666666666666,
              "#ed7953"
             ],
             [
              0.7777777777777778,
              "#fb9f3a"
             ],
             [
              0.8888888888888888,
              "#fdca26"
             ],
             [
              1,
              "#f0f921"
             ]
            ],
            "type": "surface"
           }
          ],
          "table": [
           {
            "cells": {
             "fill": {
              "color": "#EBF0F8"
             },
             "line": {
              "color": "white"
             }
            },
            "header": {
             "fill": {
              "color": "#C8D4E3"
             },
             "line": {
              "color": "white"
             }
            },
            "type": "table"
           }
          ]
         },
         "layout": {
          "annotationdefaults": {
           "arrowcolor": "#2a3f5f",
           "arrowhead": 0,
           "arrowwidth": 1
          },
          "autotypenumbers": "strict",
          "coloraxis": {
           "colorbar": {
            "outlinewidth": 0,
            "ticks": ""
           }
          },
          "colorscale": {
           "diverging": [
            [
             0,
             "#8e0152"
            ],
            [
             0.1,
             "#c51b7d"
            ],
            [
             0.2,
             "#de77ae"
            ],
            [
             0.3,
             "#f1b6da"
            ],
            [
             0.4,
             "#fde0ef"
            ],
            [
             0.5,
             "#f7f7f7"
            ],
            [
             0.6,
             "#e6f5d0"
            ],
            [
             0.7,
             "#b8e186"
            ],
            [
             0.8,
             "#7fbc41"
            ],
            [
             0.9,
             "#4d9221"
            ],
            [
             1,
             "#276419"
            ]
           ],
           "sequential": [
            [
             0,
             "#0d0887"
            ],
            [
             0.1111111111111111,
             "#46039f"
            ],
            [
             0.2222222222222222,
             "#7201a8"
            ],
            [
             0.3333333333333333,
             "#9c179e"
            ],
            [
             0.4444444444444444,
             "#bd3786"
            ],
            [
             0.5555555555555556,
             "#d8576b"
            ],
            [
             0.6666666666666666,
             "#ed7953"
            ],
            [
             0.7777777777777778,
             "#fb9f3a"
            ],
            [
             0.8888888888888888,
             "#fdca26"
            ],
            [
             1,
             "#f0f921"
            ]
           ],
           "sequentialminus": [
            [
             0,
             "#0d0887"
            ],
            [
             0.1111111111111111,
             "#46039f"
            ],
            [
             0.2222222222222222,
             "#7201a8"
            ],
            [
             0.3333333333333333,
             "#9c179e"
            ],
            [
             0.4444444444444444,
             "#bd3786"
            ],
            [
             0.5555555555555556,
             "#d8576b"
            ],
            [
             0.6666666666666666,
             "#ed7953"
            ],
            [
             0.7777777777777778,
             "#fb9f3a"
            ],
            [
             0.8888888888888888,
             "#fdca26"
            ],
            [
             1,
             "#f0f921"
            ]
           ]
          },
          "colorway": [
           "#636efa",
           "#EF553B",
           "#00cc96",
           "#ab63fa",
           "#FFA15A",
           "#19d3f3",
           "#FF6692",
           "#B6E880",
           "#FF97FF",
           "#FECB52"
          ],
          "font": {
           "color": "#2a3f5f"
          },
          "geo": {
           "bgcolor": "white",
           "lakecolor": "white",
           "landcolor": "#E5ECF6",
           "showlakes": true,
           "showland": true,
           "subunitcolor": "white"
          },
          "hoverlabel": {
           "align": "left"
          },
          "hovermode": "closest",
          "mapbox": {
           "style": "light"
          },
          "paper_bgcolor": "white",
          "plot_bgcolor": "#E5ECF6",
          "polar": {
           "angularaxis": {
            "gridcolor": "white",
            "linecolor": "white",
            "ticks": ""
           },
           "bgcolor": "#E5ECF6",
           "radialaxis": {
            "gridcolor": "white",
            "linecolor": "white",
            "ticks": ""
           }
          },
          "scene": {
           "xaxis": {
            "backgroundcolor": "#E5ECF6",
            "gridcolor": "white",
            "gridwidth": 2,
            "linecolor": "white",
            "showbackground": true,
            "ticks": "",
            "zerolinecolor": "white"
           },
           "yaxis": {
            "backgroundcolor": "#E5ECF6",
            "gridcolor": "white",
            "gridwidth": 2,
            "linecolor": "white",
            "showbackground": true,
            "ticks": "",
            "zerolinecolor": "white"
           },
           "zaxis": {
            "backgroundcolor": "#E5ECF6",
            "gridcolor": "white",
            "gridwidth": 2,
            "linecolor": "white",
            "showbackground": true,
            "ticks": "",
            "zerolinecolor": "white"
           }
          },
          "shapedefaults": {
           "line": {
            "color": "#2a3f5f"
           }
          },
          "ternary": {
           "aaxis": {
            "gridcolor": "white",
            "linecolor": "white",
            "ticks": ""
           },
           "baxis": {
            "gridcolor": "white",
            "linecolor": "white",
            "ticks": ""
           },
           "bgcolor": "#E5ECF6",
           "caxis": {
            "gridcolor": "white",
            "linecolor": "white",
            "ticks": ""
           }
          },
          "title": {
           "x": 0.05
          },
          "xaxis": {
           "automargin": true,
           "gridcolor": "white",
           "linecolor": "white",
           "ticks": "",
           "title": {
            "standoff": 15
           },
           "zerolinecolor": "white",
           "zerolinewidth": 2
          },
          "yaxis": {
           "automargin": true,
           "gridcolor": "white",
           "linecolor": "white",
           "ticks": "",
           "title": {
            "standoff": 15
           },
           "zerolinecolor": "white",
           "zerolinewidth": 2
          }
         }
        },
        "width": 700
       }
      }
     },
     "metadata": {},
     "output_type": "display_data"
    }
   ],
   "source": [
    "fig = px.scatter_3d(\n",
    "    credit_data,\n",
    "    x='duration',\n",
    "    y='credit_amount',\n",
    "    z='age',\n",
    "    # log_z=True,\n",
    "    size='num_dependents',\n",
    "    color='housing',\n",
    "    category_orders={'housing': ['for free', 'rent', 'own']},\n",
    "    color_discrete_map={\n",
    "        'for free': 'red',\n",
    "        'rent': 'blue',\n",
    "        'own': 'green',\n",
    "    },\n",
    "    hover_data={'checking_status': True},\n",
    "    log_x=True,\n",
    "    log_y=True,\n",
    "    opacity=0.3,\n",
    "    width=700,\n",
    "    height=700\n",
    ")\n",
    "fig.update_layout(margin=dict(l=5, r=5, t=20, b=5))\n",
    "fig.update_layout(\n",
    "    legend=dict(\n",
    "        yanchor=\"top\",\n",
    "        y=0.99,\n",
    "        xanchor=\"left\",\n",
    "        x=0.01\n",
    "    )\n",
    ")\n",
    "fig"
   ]
  },
  {
   "attachments": {},
   "cell_type": "markdown",
   "metadata": {},
   "source": [
    "---"
   ]
  },
  {
   "cell_type": "code",
   "execution_count": null,
   "metadata": {},
   "outputs": [],
   "source": []
  },
  {
   "cell_type": "code",
   "execution_count": null,
   "metadata": {},
   "outputs": [],
   "source": []
  },
  {
   "cell_type": "code",
   "execution_count": null,
   "metadata": {},
   "outputs": [],
   "source": []
  },
  {
   "cell_type": "code",
   "execution_count": null,
   "metadata": {},
   "outputs": [],
   "source": []
  },
  {
   "cell_type": "code",
   "execution_count": null,
   "metadata": {},
   "outputs": [],
   "source": []
  }
 ],
 "metadata": {
  "kernelspec": {
   "display_name": "package_recommendations",
   "language": "python",
   "name": "python3"
  },
  "language_info": {
   "codemirror_mode": {
    "name": "ipython",
    "version": 3
   },
   "file_extension": ".py",
   "mimetype": "text/x-python",
   "name": "python",
   "nbconvert_exporter": "python",
   "pygments_lexer": "ipython3",
   "version": "3.10.8"
  },
  "vscode": {
   "interpreter": {
    "hash": "5b49156a5cbafface992b6408146692b147647c013a83426260174ff96dd6067"
   }
  }
 },
 "nbformat": 4,
 "nbformat_minor": 2
}
