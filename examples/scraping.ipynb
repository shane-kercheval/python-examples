{
 "cells": [
  {
   "cell_type": "code",
   "execution_count": 24,
   "metadata": {},
   "outputs": [],
   "source": [
    "import os"
   ]
  },
  {
   "cell_type": "markdown",
   "metadata": {},
   "source": [
    "https://vercel.com/careers"
   ]
  },
  {
   "cell_type": "code",
   "execution_count": 22,
   "metadata": {},
   "outputs": [],
   "source": [
    "url = 'https://www.reuters.com'"
   ]
  },
  {
   "cell_type": "code",
   "execution_count": 25,
   "metadata": {},
   "outputs": [],
   "source": [
    "import urllib.robotparser\n",
    "parser = urllib.robotparser.RobotFileParser()\n",
    "parser.set_url(os.path.join(url, 'robots.txt'))\n",
    "parser.read()"
   ]
  },
  {
   "cell_type": "code",
   "execution_count": 29,
   "metadata": {},
   "outputs": [],
   "source": [
    "assert not parser.can_fetch(\"*\", os.path.join(url, 'search'))\n",
    "assert parser.can_fetch(\"*\", os.path.join(url, 'world'))"
   ]
  },
  {
   "cell_type": "code",
   "execution_count": 31,
   "metadata": {},
   "outputs": [
    {
     "data": {
      "text/plain": [
       "['https://www.reuters.com/arc/outboundfeeds/sitemap-index/?outputType=xml',\n",
       " 'https://www.reuters.com/arc/outboundfeeds/news-sitemap-index/?outputType=xml',\n",
       " 'https://www.reuters.com/sitemap_video_index.xml',\n",
       " 'https://www.reuters.com/brandfeature/sitemap']"
      ]
     },
     "execution_count": 31,
     "metadata": {},
     "output_type": "execute_result"
    }
   ],
   "source": [
    "parser.site_maps()"
   ]
  },
  {
   "cell_type": "code",
   "execution_count": 39,
   "metadata": {},
   "outputs": [],
   "source": [
    "import requests\n",
    "\n",
    "resp = requests.get(parser.site_maps()[0])\n",
    "assert resp.status_code == 200"
   ]
  },
  {
   "cell_type": "code",
   "execution_count": 42,
   "metadata": {},
   "outputs": [
    {
     "data": {
      "text/plain": [
       "'<?xml version=\"1.0\" encoding=\"UTF-8\"?><sitemapindex xmlns=\"http://www.sitemaps.org/schemas/sitemap/0.9\"><sitemap><loc>https://www.reuters.com/arc/outboundfeeds/sitemap/?outputType=xml</loc><lastmod>2022-10-04T16:46:22.136Z</lastmod></sitemap><sitemap><loc>https://www.reuters.com/arc/outboundfeeds/sitemap/?outputType=xml&amp;from=100</loc><lastmod>2022-10-04T16:46:22.136Z</lastmod></sitemap><sitemap><loc>https://www.reuters.com/arc/outboundfeeds/sitemap/?outputType=xml&amp;from=200</loc><lastmod>2022-10-04T16:46:22.136Z</lastmod></sitemap><sitemap><loc>https://www.reuters.com/arc/outboundfeeds/sitemap/?outputType=xml&amp;from=300</loc><lastmod>2022-10-04T16:46:22.136Z</lastmod></sitemap><sitemap><loc>https://www.reuters.com/arc/outboundfeeds/sitemap/?outputType=xml&amp;from=400</loc><lastmod>2022-10-04T16:46:22.136Z</lastmod></sitemap><sitemap><loc>https://www.reuters.com/arc/outboundfeeds/sitemap/?outputType=xml&amp;from=500</loc><lastmod>2022-10-04T16:46:22.136Z</lastmod></sitemap><si'"
      ]
     },
     "execution_count": 42,
     "metadata": {},
     "output_type": "execute_result"
    }
   ],
   "source": [
    "resp.text[0:1000]"
   ]
  },
  {
   "cell_type": "code",
   "execution_count": 43,
   "metadata": {},
   "outputs": [
    {
     "ename": "ModuleNotFoundError",
     "evalue": "No module named 'xmltodict'",
     "output_type": "error",
     "traceback": [
      "\u001b[0;31m---------------------------------------------------------------------------\u001b[0m",
      "\u001b[0;31mModuleNotFoundError\u001b[0m                       Traceback (most recent call last)",
      "\u001b[1;32m/Users/shanekercheval/repos/python-examples/examples/scraping.ipynb Cell 9\u001b[0m in \u001b[0;36m<cell line: 1>\u001b[0;34m()\u001b[0m\n\u001b[0;32m----> <a href='vscode-notebook-cell:/Users/shanekercheval/repos/python-examples/examples/scraping.ipynb#X22sZmlsZQ%3D%3D?line=0'>1</a>\u001b[0m \u001b[39mimport\u001b[39;00m \u001b[39mxmltodict\u001b[39;00m\n\u001b[1;32m      <a href='vscode-notebook-cell:/Users/shanekercheval/repos/python-examples/examples/scraping.ipynb#X22sZmlsZQ%3D%3D?line=1'>2</a>\u001b[0m sitemap \u001b[39m=\u001b[39m xmltodict\u001b[39m.\u001b[39mparse(resp\u001b[39m.\u001b[39mtext)\n",
      "\u001b[0;31mModuleNotFoundError\u001b[0m: No module named 'xmltodict'"
     ]
    }
   ],
   "source": [
    "import xmltodict\n",
    "sitemap = xmltodict.parse(resp.text)"
   ]
  },
  {
   "cell_type": "code",
   "execution_count": null,
   "metadata": {},
   "outputs": [],
   "source": []
  }
 ],
 "metadata": {
  "kernelspec": {
   "display_name": "Python 3.10.4 ('python_examples')",
   "language": "python",
   "name": "python3"
  },
  "language_info": {
   "codemirror_mode": {
    "name": "ipython",
    "version": 3
   },
   "file_extension": ".py",
   "mimetype": "text/x-python",
   "name": "python",
   "nbconvert_exporter": "python",
   "pygments_lexer": "ipython3",
   "version": "3.10.4"
  },
  "orig_nbformat": 4,
  "vscode": {
   "interpreter": {
    "hash": "22a8f25d97056a21c4ed8084e2569b2e2b62dee081f66b4cb0689fa3a919f19c"
   }
  }
 },
 "nbformat": 4,
 "nbformat_minor": 2
}
