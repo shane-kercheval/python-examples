{
 "cells": [
  {
   "cell_type": "code",
   "execution_count": 24,
   "metadata": {},
   "outputs": [],
   "source": [
    "import os"
   ]
  },
  {
   "cell_type": "markdown",
   "metadata": {},
   "source": [
    "https://vercel.com/careers"
   ]
  },
  {
   "cell_type": "code",
   "execution_count": 22,
   "metadata": {},
   "outputs": [],
   "source": [
    "url = 'https://www.reuters.com'"
   ]
  },
  {
   "cell_type": "code",
   "execution_count": 25,
   "metadata": {},
   "outputs": [],
   "source": [
    "import urllib.robotparser\n",
    "parser = urllib.robotparser.RobotFileParser()\n",
    "parser.set_url(os.path.join(url, 'robots.txt'))\n",
    "parser.read()"
   ]
  },
  {
   "cell_type": "code",
   "execution_count": 29,
   "metadata": {},
   "outputs": [],
   "source": [
    "assert not parser.can_fetch(\"*\", os.path.join(url, 'search'))\n",
    "assert parser.can_fetch(\"*\", os.path.join(url, 'world'))"
   ]
  },
  {
   "cell_type": "code",
   "execution_count": 31,
   "metadata": {},
   "outputs": [
    {
     "data": {
      "text/plain": [
       "['https://www.reuters.com/arc/outboundfeeds/sitemap-index/?outputType=xml',\n",
       " 'https://www.reuters.com/arc/outboundfeeds/news-sitemap-index/?outputType=xml',\n",
       " 'https://www.reuters.com/sitemap_video_index.xml',\n",
       " 'https://www.reuters.com/brandfeature/sitemap']"
      ]
     },
     "execution_count": 31,
     "metadata": {},
     "output_type": "execute_result"
    }
   ],
   "source": [
    "parser.site_maps()"
   ]
  },
  {
   "cell_type": "code",
   "execution_count": 39,
   "metadata": {},
   "outputs": [],
   "source": [
    "import requests\n",
    "\n",
    "resp = requests.get(parser.site_maps()[0])\n",
    "assert resp.status_code == 200"
   ]
  },
  {
   "cell_type": "code",
   "execution_count": 42,
   "metadata": {},
   "outputs": [
    {
     "data": {
      "text/plain": [
       "'<?xml version=\"1.0\" encoding=\"UTF-8\"?><sitemapindex xmlns=\"http://www.sitemaps.org/schemas/sitemap/0.9\"><sitemap><loc>https://www.reuters.com/arc/outboundfeeds/sitemap/?outputType=xml</loc><lastmod>2022-10-04T16:46:22.136Z</lastmod></sitemap><sitemap><loc>https://www.reuters.com/arc/outboundfeeds/sitemap/?outputType=xml&amp;from=100</loc><lastmod>2022-10-04T16:46:22.136Z</lastmod></sitemap><sitemap><loc>https://www.reuters.com/arc/outboundfeeds/sitemap/?outputType=xml&amp;from=200</loc><lastmod>2022-10-04T16:46:22.136Z</lastmod></sitemap><sitemap><loc>https://www.reuters.com/arc/outboundfeeds/sitemap/?outputType=xml&amp;from=300</loc><lastmod>2022-10-04T16:46:22.136Z</lastmod></sitemap><sitemap><loc>https://www.reuters.com/arc/outboundfeeds/sitemap/?outputType=xml&amp;from=400</loc><lastmod>2022-10-04T16:46:22.136Z</lastmod></sitemap><sitemap><loc>https://www.reuters.com/arc/outboundfeeds/sitemap/?outputType=xml&amp;from=500</loc><lastmod>2022-10-04T16:46:22.136Z</lastmod></sitemap><si'"
      ]
     },
     "execution_count": 42,
     "metadata": {},
     "output_type": "execute_result"
    }
   ],
   "source": [
    "resp.text[0:1000]"
   ]
  },
  {
   "cell_type": "code",
   "execution_count": 45,
   "metadata": {},
   "outputs": [
    {
     "data": {
      "text/plain": [
       "OrderedDict([('sitemapindex',\n",
       "              OrderedDict([('@xmlns',\n",
       "                            'http://www.sitemaps.org/schemas/sitemap/0.9'),\n",
       "                           ('sitemap',\n",
       "                            [OrderedDict([('loc',\n",
       "                                           'https://www.reuters.com/arc/outboundfeeds/sitemap/?outputType=xml'),\n",
       "                                          ('lastmod',\n",
       "                                           '2022-10-04T16:46:22.136Z')]),\n",
       "                             OrderedDict([('loc',\n",
       "                                           'https://www.reuters.com/arc/outboundfeeds/sitemap/?outputType=xml&from=100'),\n",
       "                                          ('lastmod',\n",
       "                                           '2022-10-04T16:46:22.136Z')]),\n",
       "                             OrderedDict([('loc',\n",
       "                                           'https://www.reuters.com/arc/outboundfeeds/sitemap/?outputType=xml&from=200'),\n",
       "                                          ('lastmod',\n",
       "                                           '2022-10-04T16:46:22.136Z')]),\n",
       "                             OrderedDict([('loc',\n",
       "                                           'https://www.reuters.com/arc/outboundfeeds/sitemap/?outputType=xml&from=300'),\n",
       "                                          ('lastmod',\n",
       "                                           '2022-10-04T16:46:22.136Z')]),\n",
       "                             OrderedDict([('loc',\n",
       "                                           'https://www.reuters.com/arc/outboundfeeds/sitemap/?outputType=xml&from=400'),\n",
       "                                          ('lastmod',\n",
       "                                           '2022-10-04T16:46:22.136Z')]),\n",
       "                             OrderedDict([('loc',\n",
       "                                           'https://www.reuters.com/arc/outboundfeeds/sitemap/?outputType=xml&from=500'),\n",
       "                                          ('lastmod',\n",
       "                                           '2022-10-04T16:46:22.136Z')]),\n",
       "                             OrderedDict([('loc',\n",
       "                                           'https://www.reuters.com/arc/outboundfeeds/sitemap/?outputType=xml&from=600'),\n",
       "                                          ('lastmod',\n",
       "                                           '2022-10-04T16:46:22.136Z')]),\n",
       "                             OrderedDict([('loc',\n",
       "                                           'https://www.reuters.com/arc/outboundfeeds/sitemap/?outputType=xml&from=700'),\n",
       "                                          ('lastmod',\n",
       "                                           '2022-10-04T16:46:22.136Z')]),\n",
       "                             OrderedDict([('loc',\n",
       "                                           'https://www.reuters.com/arc/outboundfeeds/sitemap/?outputType=xml&from=800'),\n",
       "                                          ('lastmod',\n",
       "                                           '2022-10-04T16:46:22.136Z')]),\n",
       "                             OrderedDict([('loc',\n",
       "                                           'https://www.reuters.com/arc/outboundfeeds/sitemap/?outputType=xml&from=900'),\n",
       "                                          ('lastmod',\n",
       "                                           '2022-10-04T16:46:22.136Z')]),\n",
       "                             OrderedDict([('loc',\n",
       "                                           'https://www.reuters.com/arc/outboundfeeds/sitemap/?outputType=xml&from=1000'),\n",
       "                                          ('lastmod',\n",
       "                                           '2022-10-04T16:46:22.136Z')]),\n",
       "                             OrderedDict([('loc',\n",
       "                                           'https://www.reuters.com/arc/outboundfeeds/sitemap/?outputType=xml&from=1100'),\n",
       "                                          ('lastmod',\n",
       "                                           '2022-10-04T16:46:22.136Z')]),\n",
       "                             OrderedDict([('loc',\n",
       "                                           'https://www.reuters.com/arc/outboundfeeds/sitemap/?outputType=xml&from=1200'),\n",
       "                                          ('lastmod',\n",
       "                                           '2022-10-04T16:46:22.136Z')]),\n",
       "                             OrderedDict([('loc',\n",
       "                                           'https://www.reuters.com/arc/outboundfeeds/sitemap/?outputType=xml&from=1300'),\n",
       "                                          ('lastmod',\n",
       "                                           '2022-10-04T16:46:22.136Z')]),\n",
       "                             OrderedDict([('loc',\n",
       "                                           'https://www.reuters.com/arc/outboundfeeds/sitemap/?outputType=xml&from=1400'),\n",
       "                                          ('lastmod',\n",
       "                                           '2022-10-04T16:46:22.136Z')]),\n",
       "                             OrderedDict([('loc',\n",
       "                                           'https://www.reuters.com/arc/outboundfeeds/sitemap/?outputType=xml&from=1500'),\n",
       "                                          ('lastmod',\n",
       "                                           '2022-10-04T16:46:22.136Z')]),\n",
       "                             OrderedDict([('loc',\n",
       "                                           'https://www.reuters.com/arc/outboundfeeds/sitemap/?outputType=xml&from=1600'),\n",
       "                                          ('lastmod',\n",
       "                                           '2022-10-04T16:46:22.136Z')]),\n",
       "                             OrderedDict([('loc',\n",
       "                                           'https://www.reuters.com/arc/outboundfeeds/sitemap/?outputType=xml&from=1700'),\n",
       "                                          ('lastmod',\n",
       "                                           '2022-10-04T16:46:22.136Z')]),\n",
       "                             OrderedDict([('loc',\n",
       "                                           'https://www.reuters.com/arc/outboundfeeds/sitemap/?outputType=xml&from=1800'),\n",
       "                                          ('lastmod',\n",
       "                                           '2022-10-04T16:46:22.136Z')]),\n",
       "                             OrderedDict([('loc',\n",
       "                                           'https://www.reuters.com/arc/outboundfeeds/sitemap/?outputType=xml&from=1900'),\n",
       "                                          ('lastmod',\n",
       "                                           '2022-10-04T16:46:22.136Z')]),\n",
       "                             OrderedDict([('loc',\n",
       "                                           'https://www.reuters.com/arc/outboundfeeds/sitemap/?outputType=xml&from=2000'),\n",
       "                                          ('lastmod',\n",
       "                                           '2022-10-04T16:46:22.136Z')]),\n",
       "                             OrderedDict([('loc',\n",
       "                                           'https://www.reuters.com/arc/outboundfeeds/sitemap/?outputType=xml&from=2100'),\n",
       "                                          ('lastmod',\n",
       "                                           '2022-10-04T16:46:22.136Z')]),\n",
       "                             OrderedDict([('loc',\n",
       "                                           'https://www.reuters.com/arc/outboundfeeds/sitemap/?outputType=xml&from=2200'),\n",
       "                                          ('lastmod',\n",
       "                                           '2022-10-04T16:46:22.136Z')]),\n",
       "                             OrderedDict([('loc',\n",
       "                                           'https://www.reuters.com/arc/outboundfeeds/sitemap/?outputType=xml&from=2300'),\n",
       "                                          ('lastmod',\n",
       "                                           '2022-10-04T16:46:22.136Z')]),\n",
       "                             OrderedDict([('loc',\n",
       "                                           'https://www.reuters.com/arc/outboundfeeds/sitemap/?outputType=xml&from=2400'),\n",
       "                                          ('lastmod',\n",
       "                                           '2022-10-04T16:46:22.136Z')]),\n",
       "                             OrderedDict([('loc',\n",
       "                                           'https://www.reuters.com/arc/outboundfeeds/sitemap/?outputType=xml&from=2500'),\n",
       "                                          ('lastmod',\n",
       "                                           '2022-10-04T16:46:22.136Z')]),\n",
       "                             OrderedDict([('loc',\n",
       "                                           'https://www.reuters.com/arc/outboundfeeds/sitemap/?outputType=xml&from=2600'),\n",
       "                                          ('lastmod',\n",
       "                                           '2022-10-04T16:46:22.136Z')]),\n",
       "                             OrderedDict([('loc',\n",
       "                                           'https://www.reuters.com/arc/outboundfeeds/sitemap/?outputType=xml&from=2700'),\n",
       "                                          ('lastmod',\n",
       "                                           '2022-10-04T16:46:22.136Z')]),\n",
       "                             OrderedDict([('loc',\n",
       "                                           'https://www.reuters.com/arc/outboundfeeds/sitemap/?outputType=xml&from=2800'),\n",
       "                                          ('lastmod',\n",
       "                                           '2022-10-04T16:46:22.136Z')]),\n",
       "                             OrderedDict([('loc',\n",
       "                                           'https://www.reuters.com/arc/outboundfeeds/sitemap/?outputType=xml&from=2900'),\n",
       "                                          ('lastmod',\n",
       "                                           '2022-10-04T16:46:22.136Z')]),\n",
       "                             OrderedDict([('loc',\n",
       "                                           'https://www.reuters.com/arc/outboundfeeds/sitemap/?outputType=xml&from=3000'),\n",
       "                                          ('lastmod',\n",
       "                                           '2022-10-04T16:46:22.136Z')]),\n",
       "                             OrderedDict([('loc',\n",
       "                                           'https://www.reuters.com/arc/outboundfeeds/sitemap/?outputType=xml&from=3100'),\n",
       "                                          ('lastmod',\n",
       "                                           '2022-10-04T16:46:22.136Z')]),\n",
       "                             OrderedDict([('loc',\n",
       "                                           'https://www.reuters.com/arc/outboundfeeds/sitemap/?outputType=xml&from=3200'),\n",
       "                                          ('lastmod',\n",
       "                                           '2022-10-04T16:46:22.136Z')]),\n",
       "                             OrderedDict([('loc',\n",
       "                                           'https://www.reuters.com/arc/outboundfeeds/sitemap/?outputType=xml&from=3300'),\n",
       "                                          ('lastmod',\n",
       "                                           '2022-10-04T16:46:22.136Z')]),\n",
       "                             OrderedDict([('loc',\n",
       "                                           'https://www.reuters.com/arc/outboundfeeds/sitemap/?outputType=xml&from=3400'),\n",
       "                                          ('lastmod',\n",
       "                                           '2022-10-04T16:46:22.136Z')]),\n",
       "                             OrderedDict([('loc',\n",
       "                                           'https://www.reuters.com/arc/outboundfeeds/sitemap/?outputType=xml&from=3500'),\n",
       "                                          ('lastmod',\n",
       "                                           '2022-10-04T16:46:22.136Z')]),\n",
       "                             OrderedDict([('loc',\n",
       "                                           'https://www.reuters.com/arc/outboundfeeds/sitemap/?outputType=xml&from=3600'),\n",
       "                                          ('lastmod',\n",
       "                                           '2022-10-04T16:46:22.136Z')]),\n",
       "                             OrderedDict([('loc',\n",
       "                                           'https://www.reuters.com/arc/outboundfeeds/sitemap/?outputType=xml&from=3700'),\n",
       "                                          ('lastmod',\n",
       "                                           '2022-10-04T16:46:22.136Z')]),\n",
       "                             OrderedDict([('loc',\n",
       "                                           'https://www.reuters.com/arc/outboundfeeds/sitemap/?outputType=xml&from=3800'),\n",
       "                                          ('lastmod',\n",
       "                                           '2022-10-04T16:46:22.136Z')]),\n",
       "                             OrderedDict([('loc',\n",
       "                                           'https://www.reuters.com/arc/outboundfeeds/sitemap/?outputType=xml&from=3900'),\n",
       "                                          ('lastmod',\n",
       "                                           '2022-10-04T16:46:22.136Z')]),\n",
       "                             OrderedDict([('loc',\n",
       "                                           'https://www.reuters.com/arc/outboundfeeds/sitemap/?outputType=xml&from=4000'),\n",
       "                                          ('lastmod',\n",
       "                                           '2022-10-04T16:46:22.136Z')]),\n",
       "                             OrderedDict([('loc',\n",
       "                                           'https://www.reuters.com/arc/outboundfeeds/sitemap/?outputType=xml&from=4100'),\n",
       "                                          ('lastmod',\n",
       "                                           '2022-10-04T16:46:22.136Z')]),\n",
       "                             OrderedDict([('loc',\n",
       "                                           'https://www.reuters.com/arc/outboundfeeds/sitemap/?outputType=xml&from=4200'),\n",
       "                                          ('lastmod',\n",
       "                                           '2022-10-04T16:46:22.136Z')]),\n",
       "                             OrderedDict([('loc',\n",
       "                                           'https://www.reuters.com/arc/outboundfeeds/sitemap/?outputType=xml&from=4300'),\n",
       "                                          ('lastmod',\n",
       "                                           '2022-10-04T16:46:22.136Z')]),\n",
       "                             OrderedDict([('loc',\n",
       "                                           'https://www.reuters.com/arc/outboundfeeds/sitemap/?outputType=xml&from=4400'),\n",
       "                                          ('lastmod',\n",
       "                                           '2022-10-04T16:46:22.136Z')]),\n",
       "                             OrderedDict([('loc',\n",
       "                                           'https://www.reuters.com/arc/outboundfeeds/sitemap/?outputType=xml&from=4500'),\n",
       "                                          ('lastmod',\n",
       "                                           '2022-10-04T16:46:22.136Z')]),\n",
       "                             OrderedDict([('loc',\n",
       "                                           'https://www.reuters.com/arc/outboundfeeds/sitemap/?outputType=xml&from=4600'),\n",
       "                                          ('lastmod',\n",
       "                                           '2022-10-04T16:46:22.136Z')]),\n",
       "                             OrderedDict([('loc',\n",
       "                                           'https://www.reuters.com/arc/outboundfeeds/sitemap/?outputType=xml&from=4700'),\n",
       "                                          ('lastmod',\n",
       "                                           '2022-10-04T16:46:22.136Z')]),\n",
       "                             OrderedDict([('loc',\n",
       "                                           'https://www.reuters.com/arc/outboundfeeds/sitemap/?outputType=xml&from=4800'),\n",
       "                                          ('lastmod',\n",
       "                                           '2022-10-04T16:46:22.136Z')]),\n",
       "                             OrderedDict([('loc',\n",
       "                                           'https://www.reuters.com/arc/outboundfeeds/sitemap/?outputType=xml&from=4900'),\n",
       "                                          ('lastmod',\n",
       "                                           '2022-10-04T16:46:22.136Z')]),\n",
       "                             OrderedDict([('loc',\n",
       "                                           'https://www.reuters.com/arc/outboundfeeds/sitemap/?outputType=xml&from=5000'),\n",
       "                                          ('lastmod',\n",
       "                                           '2022-10-04T16:46:22.136Z')]),\n",
       "                             OrderedDict([('loc',\n",
       "                                           'https://www.reuters.com/arc/outboundfeeds/sitemap/?outputType=xml&from=5100'),\n",
       "                                          ('lastmod',\n",
       "                                           '2022-10-04T16:46:22.136Z')]),\n",
       "                             OrderedDict([('loc',\n",
       "                                           'https://www.reuters.com/arc/outboundfeeds/sitemap/?outputType=xml&from=5200'),\n",
       "                                          ('lastmod',\n",
       "                                           '2022-10-04T16:46:22.136Z')]),\n",
       "                             OrderedDict([('loc',\n",
       "                                           'https://www.reuters.com/arc/outboundfeeds/sitemap/?outputType=xml&from=5300'),\n",
       "                                          ('lastmod',\n",
       "                                           '2022-10-04T16:46:22.136Z')]),\n",
       "                             OrderedDict([('loc',\n",
       "                                           'https://www.reuters.com/arc/outboundfeeds/sitemap/?outputType=xml&from=5400'),\n",
       "                                          ('lastmod',\n",
       "                                           '2022-10-04T16:46:22.136Z')]),\n",
       "                             OrderedDict([('loc',\n",
       "                                           'https://www.reuters.com/arc/outboundfeeds/sitemap/?outputType=xml&from=5500'),\n",
       "                                          ('lastmod',\n",
       "                                           '2022-10-04T16:46:22.136Z')]),\n",
       "                             OrderedDict([('loc',\n",
       "                                           'https://www.reuters.com/arc/outboundfeeds/sitemap/?outputType=xml&from=5600'),\n",
       "                                          ('lastmod',\n",
       "                                           '2022-10-04T16:46:22.136Z')]),\n",
       "                             OrderedDict([('loc',\n",
       "                                           'https://www.reuters.com/arc/outboundfeeds/sitemap/?outputType=xml&from=5700'),\n",
       "                                          ('lastmod',\n",
       "                                           '2022-10-04T16:46:22.136Z')]),\n",
       "                             OrderedDict([('loc',\n",
       "                                           'https://www.reuters.com/arc/outboundfeeds/sitemap/?outputType=xml&from=5800'),\n",
       "                                          ('lastmod',\n",
       "                                           '2022-10-04T16:46:22.136Z')]),\n",
       "                             OrderedDict([('loc',\n",
       "                                           'https://www.reuters.com/arc/outboundfeeds/sitemap/?outputType=xml&from=5900'),\n",
       "                                          ('lastmod',\n",
       "                                           '2022-10-04T16:46:22.136Z')]),\n",
       "                             OrderedDict([('loc',\n",
       "                                           'https://www.reuters.com/arc/outboundfeeds/sitemap/?outputType=xml&from=6000'),\n",
       "                                          ('lastmod',\n",
       "                                           '2022-10-04T16:46:22.136Z')]),\n",
       "                             OrderedDict([('loc',\n",
       "                                           'https://www.reuters.com/arc/outboundfeeds/sitemap/?outputType=xml&from=6100'),\n",
       "                                          ('lastmod',\n",
       "                                           '2022-10-04T16:46:22.136Z')]),\n",
       "                             OrderedDict([('loc',\n",
       "                                           'https://www.reuters.com/arc/outboundfeeds/sitemap/?outputType=xml&from=6200'),\n",
       "                                          ('lastmod',\n",
       "                                           '2022-10-04T16:46:22.136Z')]),\n",
       "                             OrderedDict([('loc',\n",
       "                                           'https://www.reuters.com/arc/outboundfeeds/sitemap/?outputType=xml&from=6300'),\n",
       "                                          ('lastmod',\n",
       "                                           '2022-10-04T16:46:22.136Z')]),\n",
       "                             OrderedDict([('loc',\n",
       "                                           'https://www.reuters.com/arc/outboundfeeds/sitemap/?outputType=xml&from=6400'),\n",
       "                                          ('lastmod',\n",
       "                                           '2022-10-04T16:46:22.136Z')]),\n",
       "                             OrderedDict([('loc',\n",
       "                                           'https://www.reuters.com/arc/outboundfeeds/sitemap/?outputType=xml&from=6500'),\n",
       "                                          ('lastmod',\n",
       "                                           '2022-10-04T16:46:22.136Z')]),\n",
       "                             OrderedDict([('loc',\n",
       "                                           'https://www.reuters.com/arc/outboundfeeds/sitemap/?outputType=xml&from=6600'),\n",
       "                                          ('lastmod',\n",
       "                                           '2022-10-04T16:46:22.136Z')]),\n",
       "                             OrderedDict([('loc',\n",
       "                                           'https://www.reuters.com/arc/outboundfeeds/sitemap/?outputType=xml&from=6700'),\n",
       "                                          ('lastmod',\n",
       "                                           '2022-10-04T16:46:22.136Z')]),\n",
       "                             OrderedDict([('loc',\n",
       "                                           'https://www.reuters.com/arc/outboundfeeds/sitemap/?outputType=xml&from=6800'),\n",
       "                                          ('lastmod',\n",
       "                                           '2022-10-04T16:46:22.136Z')]),\n",
       "                             OrderedDict([('loc',\n",
       "                                           'https://www.reuters.com/arc/outboundfeeds/sitemap/?outputType=xml&from=6900'),\n",
       "                                          ('lastmod',\n",
       "                                           '2022-10-04T16:46:22.136Z')]),\n",
       "                             OrderedDict([('loc',\n",
       "                                           'https://www.reuters.com/arc/outboundfeeds/sitemap/?outputType=xml&from=7000'),\n",
       "                                          ('lastmod',\n",
       "                                           '2022-10-04T16:46:22.136Z')]),\n",
       "                             OrderedDict([('loc',\n",
       "                                           'https://www.reuters.com/arc/outboundfeeds/sitemap/?outputType=xml&from=7100'),\n",
       "                                          ('lastmod',\n",
       "                                           '2022-10-04T16:46:22.136Z')]),\n",
       "                             OrderedDict([('loc',\n",
       "                                           'https://www.reuters.com/arc/outboundfeeds/sitemap/?outputType=xml&from=7200'),\n",
       "                                          ('lastmod',\n",
       "                                           '2022-10-04T16:46:22.136Z')]),\n",
       "                             OrderedDict([('loc',\n",
       "                                           'https://www.reuters.com/arc/outboundfeeds/sitemap/?outputType=xml&from=7300'),\n",
       "                                          ('lastmod',\n",
       "                                           '2022-10-04T16:46:22.136Z')]),\n",
       "                             OrderedDict([('loc',\n",
       "                                           'https://www.reuters.com/arc/outboundfeeds/sitemap/?outputType=xml&from=7400'),\n",
       "                                          ('lastmod',\n",
       "                                           '2022-10-04T16:46:22.136Z')]),\n",
       "                             OrderedDict([('loc',\n",
       "                                           'https://www.reuters.com/arc/outboundfeeds/sitemap/?outputType=xml&from=7500'),\n",
       "                                          ('lastmod',\n",
       "                                           '2022-10-04T16:46:22.136Z')]),\n",
       "                             OrderedDict([('loc',\n",
       "                                           'https://www.reuters.com/arc/outboundfeeds/sitemap/?outputType=xml&from=7600'),\n",
       "                                          ('lastmod',\n",
       "                                           '2022-10-04T16:46:22.136Z')]),\n",
       "                             OrderedDict([('loc',\n",
       "                                           'https://www.reuters.com/arc/outboundfeeds/sitemap/?outputType=xml&from=7700'),\n",
       "                                          ('lastmod',\n",
       "                                           '2022-10-04T16:46:22.136Z')]),\n",
       "                             OrderedDict([('loc',\n",
       "                                           'https://www.reuters.com/arc/outboundfeeds/sitemap/?outputType=xml&from=7800'),\n",
       "                                          ('lastmod',\n",
       "                                           '2022-10-04T16:46:22.136Z')]),\n",
       "                             OrderedDict([('loc',\n",
       "                                           'https://www.reuters.com/arc/outboundfeeds/sitemap/?outputType=xml&from=7900'),\n",
       "                                          ('lastmod',\n",
       "                                           '2022-10-04T16:46:22.136Z')]),\n",
       "                             OrderedDict([('loc',\n",
       "                                           'https://www.reuters.com/arc/outboundfeeds/sitemap/?outputType=xml&from=8000'),\n",
       "                                          ('lastmod',\n",
       "                                           '2022-10-04T16:46:22.136Z')]),\n",
       "                             OrderedDict([('loc',\n",
       "                                           'https://www.reuters.com/arc/outboundfeeds/sitemap/?outputType=xml&from=8100'),\n",
       "                                          ('lastmod',\n",
       "                                           '2022-10-04T16:46:22.136Z')]),\n",
       "                             OrderedDict([('loc',\n",
       "                                           'https://www.reuters.com/arc/outboundfeeds/sitemap/?outputType=xml&from=8200'),\n",
       "                                          ('lastmod',\n",
       "                                           '2022-10-04T16:46:22.136Z')]),\n",
       "                             OrderedDict([('loc',\n",
       "                                           'https://www.reuters.com/arc/outboundfeeds/sitemap/?outputType=xml&from=8300'),\n",
       "                                          ('lastmod',\n",
       "                                           '2022-10-04T16:46:22.136Z')]),\n",
       "                             OrderedDict([('loc',\n",
       "                                           'https://www.reuters.com/arc/outboundfeeds/sitemap/?outputType=xml&from=8400'),\n",
       "                                          ('lastmod',\n",
       "                                           '2022-10-04T16:46:22.136Z')]),\n",
       "                             OrderedDict([('loc',\n",
       "                                           'https://www.reuters.com/arc/outboundfeeds/sitemap/?outputType=xml&from=8500'),\n",
       "                                          ('lastmod',\n",
       "                                           '2022-10-04T16:46:22.136Z')]),\n",
       "                             OrderedDict([('loc',\n",
       "                                           'https://www.reuters.com/arc/outboundfeeds/sitemap/?outputType=xml&from=8600'),\n",
       "                                          ('lastmod',\n",
       "                                           '2022-10-04T16:46:22.136Z')]),\n",
       "                             OrderedDict([('loc',\n",
       "                                           'https://www.reuters.com/arc/outboundfeeds/sitemap/?outputType=xml&from=8700'),\n",
       "                                          ('lastmod',\n",
       "                                           '2022-10-04T16:46:22.136Z')]),\n",
       "                             OrderedDict([('loc',\n",
       "                                           'https://www.reuters.com/arc/outboundfeeds/sitemap/?outputType=xml&from=8800'),\n",
       "                                          ('lastmod',\n",
       "                                           '2022-10-04T16:46:22.136Z')]),\n",
       "                             OrderedDict([('loc',\n",
       "                                           'https://www.reuters.com/arc/outboundfeeds/sitemap/?outputType=xml&from=8900'),\n",
       "                                          ('lastmod',\n",
       "                                           '2022-10-04T16:46:22.136Z')]),\n",
       "                             OrderedDict([('loc',\n",
       "                                           'https://www.reuters.com/arc/outboundfeeds/sitemap/?outputType=xml&from=9000'),\n",
       "                                          ('lastmod',\n",
       "                                           '2022-10-04T16:46:22.136Z')]),\n",
       "                             OrderedDict([('loc',\n",
       "                                           'https://www.reuters.com/arc/outboundfeeds/sitemap/?outputType=xml&from=9100'),\n",
       "                                          ('lastmod',\n",
       "                                           '2022-10-04T16:46:22.136Z')]),\n",
       "                             OrderedDict([('loc',\n",
       "                                           'https://www.reuters.com/arc/outboundfeeds/sitemap/?outputType=xml&from=9200'),\n",
       "                                          ('lastmod',\n",
       "                                           '2022-10-04T16:46:22.136Z')]),\n",
       "                             OrderedDict([('loc',\n",
       "                                           'https://www.reuters.com/arc/outboundfeeds/sitemap/?outputType=xml&from=9300'),\n",
       "                                          ('lastmod',\n",
       "                                           '2022-10-04T16:46:22.136Z')]),\n",
       "                             OrderedDict([('loc',\n",
       "                                           'https://www.reuters.com/arc/outboundfeeds/sitemap/?outputType=xml&from=9400'),\n",
       "                                          ('lastmod',\n",
       "                                           '2022-10-04T16:46:22.136Z')]),\n",
       "                             OrderedDict([('loc',\n",
       "                                           'https://www.reuters.com/arc/outboundfeeds/sitemap/?outputType=xml&from=9500'),\n",
       "                                          ('lastmod',\n",
       "                                           '2022-10-04T16:46:22.136Z')]),\n",
       "                             OrderedDict([('loc',\n",
       "                                           'https://www.reuters.com/arc/outboundfeeds/sitemap/?outputType=xml&from=9600'),\n",
       "                                          ('lastmod',\n",
       "                                           '2022-10-04T16:46:22.136Z')]),\n",
       "                             OrderedDict([('loc',\n",
       "                                           'https://www.reuters.com/arc/outboundfeeds/sitemap/?outputType=xml&from=9700'),\n",
       "                                          ('lastmod',\n",
       "                                           '2022-10-04T16:46:22.136Z')]),\n",
       "                             OrderedDict([('loc',\n",
       "                                           'https://www.reuters.com/arc/outboundfeeds/sitemap/?outputType=xml&from=9800'),\n",
       "                                          ('lastmod',\n",
       "                                           '2022-10-04T16:46:22.136Z')])])]))])"
      ]
     },
     "execution_count": 45,
     "metadata": {},
     "output_type": "execute_result"
    }
   ],
   "source": [
    "import xmltodict\n",
    "sitemap = xmltodict.parse(resp.text)\n",
    "sitemap"
   ]
  },
  {
   "cell_type": "markdown",
   "metadata": {},
   "source": [
    "---"
   ]
  },
  {
   "cell_type": "code",
   "execution_count": 50,
   "metadata": {},
   "outputs": [],
   "source": [
    "url = 'https://vercel.com'\n",
    "url_careers = os.path.join(url, 'careers')"
   ]
  },
  {
   "cell_type": "code",
   "execution_count": 51,
   "metadata": {},
   "outputs": [],
   "source": [
    "import urllib.robotparser\n",
    "parser = urllib.robotparser.RobotFileParser()\n",
    "parser.set_url(os.path.join(url, 'robots.txt'))\n",
    "parser.read()"
   ]
  },
  {
   "cell_type": "code",
   "execution_count": 53,
   "metadata": {},
   "outputs": [],
   "source": [
    "assert parser.can_fetch(useragent='*', url=url_careers)"
   ]
  },
  {
   "cell_type": "code",
   "execution_count": 54,
   "metadata": {},
   "outputs": [],
   "source": [
    "resp = requests.get(url=url_careers)\n",
    "assert resp.status_code == 200\n"
   ]
  },
  {
   "cell_type": "code",
   "execution_count": 56,
   "metadata": {},
   "outputs": [
    {
     "data": {
      "text/plain": [
       "'<!DOCTYPE html><html lang=\"en\"><head><meta charSet=\"utf-8\"/><script>;(function(){try{\\nif(document.cookie && document.cookie.indexOf(\\'isLoggedIn=1\\') > -1) {\\ndocument.documentElement.classList.add(\"logged-in-on-page-load\") }\\n}catch(err){}})()</script><title>Careers – Vercel</title><meta content=\"width=device-width, initial-scale=1.0\" name=\"viewport\"/><meta content=\"en\" http-equiv=\"Content-Language\"/><link href=\"https://vercel.com/careers\" rel=\"canonical\"/><link crossorigin=\"anonymous\" href=\"https://assets.vercel.com\" rel=\"preconnect\"/><link crossorigin=\"anonymous\" href=\"https://avatars.githubusercontent.com\" rel=\"preconnect\"/><meta content=\"summary_large_image\" name=\"twitter:card\"/><meta content=\"@vercel\" name=\"twitter:site\"/><meta content=\"https://assets.vercel.com/image/upload/front/vercel/careers.png\" name=\"twitter:image\"/><meta content=\"Careers – Vercel\" property=\"og:title\"/><meta content=\"https://vercel.com/careers\" property=\"og:url\"/><meta content=\"https://assets.vercel.com/image/u'"
      ]
     },
     "execution_count": 56,
     "metadata": {},
     "output_type": "execute_result"
    }
   ],
   "source": [
    "resp.text[0:1000]"
   ]
  },
  {
   "cell_type": "code",
   "execution_count": 60,
   "metadata": {},
   "outputs": [
    {
     "data": {
      "text/plain": [
       "\"Careers – VercelSkip to contentJoin Next.js Conf →Join an online experience developers love. Next.js Conf →FeaturesTemplatesIntegrationsCustomersEnterprisePricingContactLoginSign UpJoin Us.Help us make the Web. Faster.Open PositionsLearn MoreOur cultureWe base our philosophy on the principles of learning, collaboration, transparency, experimentation and passion. We are goal-driven and dedicated We use our own tools every day We thrive together with our community We are customer obsessed We believe in people's ability to growOur BenefitsWork Happier With UsInclusive Health PackageWe care about your well-being, and offer dental and vision\\n    benefits for you and your family. No stress on health expenses.Flexible Working StyleWe are 100% remote-friendly, work with team mates from different\\n    time zones across the globe.Diversity and InclusionOur strength lies in team members from diverse backgrounds with a\\n    culture of inclusion where everyone feels respected.Learn And GrowWe help yo\""
      ]
     },
     "execution_count": 60,
     "metadata": {},
     "output_type": "execute_result"
    }
   ],
   "source": [
    "from bs4 import BeautifulSoup\n",
    "\n",
    "soup = BeautifulSoup(resp.text, 'html.parser')\n",
    "soup.text[0:1000]"
   ]
  },
  {
   "cell_type": "code",
   "execution_count": 76,
   "metadata": {},
   "outputs": [
    {
     "data": {
      "text/plain": [
       "[<div class=\"job-card_careerContent__RwB0_\"><div class=\"job-card_title__4UZK4\"><h3>Analytics Engineer </h3><span>Apply</span></div><h4>United States, Canada</h4><div class=\"job-card_detail__MEfZo\"></div></div>,\n",
       " <div class=\"job-card_careerContent__RwB0_\"><div class=\"job-card_title__4UZK4\"><h3>Application Security Engineer</h3><span>Apply</span></div><h4>United States</h4><div class=\"job-card_detail__MEfZo\"></div></div>,\n",
       " <div class=\"job-card_careerContent__RwB0_\"><div class=\"job-card_title__4UZK4\"><h3>Business Systems, Analyst </h3><span>Apply</span></div><h4>United States</h4><div class=\"job-card_detail__MEfZo\"></div></div>,\n",
       " <div class=\"job-card_careerContent__RwB0_\"><div class=\"job-card_title__4UZK4\"><h3>Content Engineer</h3><span>Apply</span></div><h4>United States</h4><div class=\"job-card_detail__MEfZo\"></div></div>,\n",
       " <div class=\"job-card_careerContent__RwB0_\"><div class=\"job-card_title__4UZK4\"><h3>Customer Success Manager, APAC</h3><span>Apply</span></div><h4>Australia</h4><div class=\"job-card_detail__MEfZo\"></div></div>,\n",
       " <div class=\"job-card_careerContent__RwB0_\"><div class=\"job-card_title__4UZK4\"><h3>Customer Success Manager, Europe</h3><span>Apply</span></div><h4>Germany, United Kingdom</h4><div class=\"job-card_detail__MEfZo\"></div></div>,\n",
       " <div class=\"job-card_careerContent__RwB0_\"><div class=\"job-card_title__4UZK4\"><h3>Data Engineer</h3><span>Apply</span></div><h4>United States, Germany, United Kingdom</h4><div class=\"job-card_detail__MEfZo\"></div></div>,\n",
       " <div class=\"job-card_careerContent__RwB0_\"><div class=\"job-card_title__4UZK4\"><h3>Data Engineer, Europe</h3><span>Apply</span></div><h4>United States, Germany, United Kingdom</h4><div class=\"job-card_detail__MEfZo\"></div></div>,\n",
       " <div class=\"job-card_careerContent__RwB0_\"><div class=\"job-card_title__4UZK4\"><h3>Data Scientist</h3><span>Apply</span></div><h4>United States</h4><div class=\"job-card_detail__MEfZo\"></div></div>,\n",
       " <div class=\"job-card_careerContent__RwB0_\"><div class=\"job-card_title__4UZK4\"><h3>Director, Commercial Legal</h3><span>Apply</span></div><h4>United States</h4><div class=\"job-card_detail__MEfZo\"></div></div>]"
      ]
     },
     "execution_count": 76,
     "metadata": {},
     "output_type": "execute_result"
    }
   ],
   "source": [
    "soup.select(\"div.job-card_careerContent__RwB0_\")[0:10]"
   ]
  },
  {
   "cell_type": "code",
   "execution_count": 80,
   "metadata": {},
   "outputs": [
    {
     "data": {
      "text/plain": [
       "<a class=\"job-card_jobCard__c0Bpk\" href=\"/careers/analytics-engineer-amer-4486497004\"><li><div class=\"job-card_careerContent__RwB0_\"><div class=\"job-card_title__4UZK4\"><h3>Analytics Engineer </h3><span>Apply</span></div><h4>United States, Canada</h4><div class=\"job-card_detail__MEfZo\"></div></div></li></a>"
      ]
     },
     "execution_count": 80,
     "metadata": {},
     "output_type": "execute_result"
    }
   ],
   "source": [
    "first_job = soup.select(\"a[class^=job-card_jobCard]\")[0]\n",
    "first_job\n"
   ]
  },
  {
   "cell_type": "code",
   "execution_count": null,
   "metadata": {},
   "outputs": [],
   "source": []
  },
  {
   "cell_type": "code",
   "execution_count": 99,
   "metadata": {},
   "outputs": [
    {
     "data": {
      "text/plain": [
       "('Analytics Engineer', '/careers/analytics-engineer-amer-4486497004')"
      ]
     },
     "execution_count": 99,
     "metadata": {},
     "output_type": "execute_result"
    }
   ],
   "source": [
    "from bs4.element import Tag\n",
    "def extract_title_url(tag: Tag):\n",
    "    title = tag.select('h3')\n",
    "    assert len(title) == 1\n",
    "    url = first_job.attrs['href']\n",
    "    return title[0].text.strip(), url\n",
    "\n",
    "extract_title_url(first_job)"
   ]
  },
  {
   "cell_type": "code",
   "execution_count": 103,
   "metadata": {},
   "outputs": [
    {
     "data": {
      "text/plain": [
       "[('Analytics Engineer', '/careers/analytics-engineer-amer-4486497004'),\n",
       " ('Application Security Engineer',\n",
       "  '/careers/analytics-engineer-amer-4486497004'),\n",
       " ('Business Systems, Analyst', '/careers/analytics-engineer-amer-4486497004'),\n",
       " ('Content Engineer', '/careers/analytics-engineer-amer-4486497004'),\n",
       " ('Customer Success Manager, APAC',\n",
       "  '/careers/analytics-engineer-amer-4486497004'),\n",
       " ('Customer Success Manager, Europe',\n",
       "  '/careers/analytics-engineer-amer-4486497004'),\n",
       " ('Data Engineer', '/careers/analytics-engineer-amer-4486497004'),\n",
       " ('Data Engineer, Europe', '/careers/analytics-engineer-amer-4486497004'),\n",
       " ('Data Scientist', '/careers/analytics-engineer-amer-4486497004'),\n",
       " ('Director, Commercial Legal', '/careers/analytics-engineer-amer-4486497004'),\n",
       " ('Director of Revenue Marketing',\n",
       "  '/careers/analytics-engineer-amer-4486497004'),\n",
       " ('Engineering Manager, Edge Network',\n",
       "  '/careers/analytics-engineer-amer-4486497004'),\n",
       " ('Engineering Manager, Turborepo',\n",
       "  '/careers/analytics-engineer-amer-4486497004'),\n",
       " ('Enterprise Account Executive, APAC',\n",
       "  '/careers/analytics-engineer-amer-4486497004'),\n",
       " ('Enterprise Account Executive, Europe',\n",
       "  '/careers/analytics-engineer-amer-4486497004'),\n",
       " ('Field Marketing Manager, West',\n",
       "  '/careers/analytics-engineer-amer-4486497004'),\n",
       " ('Head of Business Operations',\n",
       "  '/careers/analytics-engineer-amer-4486497004'),\n",
       " ('Infrastructure Engineer', '/careers/analytics-engineer-amer-4486497004'),\n",
       " ('Instructional Designer, Europe',\n",
       "  '/careers/analytics-engineer-amer-4486497004'),\n",
       " ('Mid-Market Account Executive, APAC',\n",
       "  '/careers/analytics-engineer-amer-4486497004'),\n",
       " ('Mid-Market Account Executive, Europe',\n",
       "  '/careers/analytics-engineer-amer-4486497004'),\n",
       " ('Multimedia Designer', '/careers/analytics-engineer-amer-4486497004'),\n",
       " ('Partner Manager, Services, APAC',\n",
       "  '/careers/analytics-engineer-amer-4486497004'),\n",
       " ('Partner Manager (Services), Europe',\n",
       "  '/careers/analytics-engineer-amer-4486497004'),\n",
       " ('Product Advocate', '/careers/analytics-engineer-amer-4486497004'),\n",
       " ('Product Manager, Usage and Billing',\n",
       "  '/careers/analytics-engineer-amer-4486497004'),\n",
       " ('Sales Development Lead, APAC',\n",
       "  '/careers/analytics-engineer-amer-4486497004'),\n",
       " ('Sales Development Representative, Enterprise',\n",
       "  '/careers/analytics-engineer-amer-4486497004'),\n",
       " ('Sales Development Representative, Enterprise, Europe',\n",
       "  '/careers/analytics-engineer-amer-4486497004'),\n",
       " ('Sales Development Representative Manager, East',\n",
       "  '/careers/analytics-engineer-amer-4486497004'),\n",
       " ('Sales Development Representative, Mid Market',\n",
       "  '/careers/analytics-engineer-amer-4486497004'),\n",
       " ('Sales Engineer', '/careers/analytics-engineer-amer-4486497004'),\n",
       " ('Sales Engineer, APAC', '/careers/analytics-engineer-amer-4486497004'),\n",
       " ('Sales Engineer, Europe', '/careers/analytics-engineer-amer-4486497004'),\n",
       " ('Salesforce Administrator', '/careers/analytics-engineer-amer-4486497004'),\n",
       " ('Senior Manager, Customer Success Management',\n",
       "  '/careers/analytics-engineer-amer-4486497004'),\n",
       " ('Senior Manager, Trust and Safety',\n",
       "  '/careers/analytics-engineer-amer-4486497004'),\n",
       " ('Senior Marketing Operations Manager',\n",
       "  '/careers/analytics-engineer-amer-4486497004'),\n",
       " ('Senior Product Manager, Collaboration',\n",
       "  '/careers/analytics-engineer-amer-4486497004'),\n",
       " ('Senior Product Manager, Next.js, Europe',\n",
       "  '/careers/analytics-engineer-amer-4486497004'),\n",
       " ('Senior Product Manager, Turborepo',\n",
       "  '/careers/analytics-engineer-amer-4486497004'),\n",
       " ('Senior Visual Web Designer', '/careers/analytics-engineer-amer-4486497004'),\n",
       " ('Software Engineer, Observability,  Europe',\n",
       "  '/careers/analytics-engineer-amer-4486497004'),\n",
       " ('Software Engineer, Support Tools',\n",
       "  '/careers/analytics-engineer-amer-4486497004'),\n",
       " ('Software Engineer, Systems', '/careers/analytics-engineer-amer-4486497004'),\n",
       " ('Solutions Engineer', '/careers/analytics-engineer-amer-4486497004'),\n",
       " ('Solutions Engineer, Europe', '/careers/analytics-engineer-amer-4486497004'),\n",
       " ('Solutions Engineer, Partnerships',\n",
       "  '/careers/analytics-engineer-amer-4486497004'),\n",
       " ('Staff Software Engineer, Systems',\n",
       "  '/careers/analytics-engineer-amer-4486497004'),\n",
       " ('Technical Enablement Lead, Europe',\n",
       "  '/careers/analytics-engineer-amer-4486497004'),\n",
       " ('Technical Inbound Sales Lead, Europe',\n",
       "  '/careers/analytics-engineer-amer-4486497004'),\n",
       " ('Vercel General Application', '/careers/analytics-engineer-amer-4486497004'),\n",
       " ('Vice President, GTM Operations',\n",
       "  '/careers/analytics-engineer-amer-4486497004'),\n",
       " ('Visual Designer, Brand Marketing',\n",
       "  '/careers/analytics-engineer-amer-4486497004')]"
      ]
     },
     "execution_count": 103,
     "metadata": {},
     "output_type": "execute_result"
    }
   ],
   "source": [
    "jobs = soup.select(\"a[class^=job-card_jobCard]\")\n",
    "temp = [extract_title_url(x) for x in jobs]\n",
    "temp"
   ]
  },
  {
   "cell_type": "code",
   "execution_count": 104,
   "metadata": {},
   "outputs": [
    {
     "data": {
      "text/plain": [
       "('Analytics Engineer', '/careers/analytics-engineer-amer-4486497004')"
      ]
     },
     "execution_count": 104,
     "metadata": {},
     "output_type": "execute_result"
    }
   ],
   "source": [
    "temp[0]"
   ]
  },
  {
   "cell_type": "code",
   "execution_count": 106,
   "metadata": {},
   "outputs": [
    {
     "data": {
      "text/plain": [
       "'https://vercel.com'"
      ]
     },
     "execution_count": 106,
     "metadata": {},
     "output_type": "execute_result"
    }
   ],
   "source": [
    "url"
   ]
  },
  {
   "cell_type": "code",
   "execution_count": 110,
   "metadata": {},
   "outputs": [
    {
     "data": {
      "text/plain": [
       "'https://vercel.com/careers/analytics-engineer-amer-4486497004'"
      ]
     },
     "execution_count": 110,
     "metadata": {},
     "output_type": "execute_result"
    }
   ],
   "source": [
    "url + temp[0][1]"
   ]
  },
  {
   "cell_type": "code",
   "execution_count": 111,
   "metadata": {},
   "outputs": [],
   "source": [
    "resp = requests.get(url=url + temp[0][1])\n",
    "assert resp.status_code == 200\n"
   ]
  },
  {
   "cell_type": "code",
   "execution_count": 116,
   "metadata": {},
   "outputs": [
    {
     "data": {
      "text/plain": [
       "'Analytics Engineer  – VercelSkip to contentJoin Next.js Conf →Join an online experience developers love. Next.js Conf →FeaturesTemplatesIntegrationsCustomersEnterprisePricingContactLoginSign Up← Back to CareersAnalytics Engineer DataRemote\\xa0(United StatesCanada)Full TimeApplyAbout Vercel:At Vercel, we believe that liberating the frontend unlocks creativity and open-source is the best way forward.We are building a next-generation internet where developers can create freely and execute new ideas, guaranteeing a more vibrant, personalized internet. Vercel’s platform provides the speed and reliability to create at the moment of inspiration. In other words, our friction-less, real-time deployment makes it possible to start working on projects immediately — anywhere in the world.Our globally-distributed team works asynchronously to lead the React ecosystem and serve developers at large companies. We pride ourselves on our diversity, shared urgency to iterate, team-oriented decision making, an'"
      ]
     },
     "execution_count": 116,
     "metadata": {},
     "output_type": "execute_result"
    }
   ],
   "source": [
    "soup = BeautifulSoup(resp.text, 'html.parser')\n",
    "soup.text[0:1000]"
   ]
  },
  {
   "cell_type": "code",
   "execution_count": 117,
   "metadata": {},
   "outputs": [
    {
     "data": {
      "text/plain": [
       "[<h2 class=\"details_h2__WwNUr\"><b>About Vercel:</b></h2>,\n",
       " <h2 class=\"details_h2__WwNUr\">About the Role:<!-- --></h2>,\n",
       " <h2 class=\"details_h2__WwNUr\"><b>What You Will Do:</b></h2>,\n",
       " <h2 class=\"details_h2__WwNUr\"><b>Responsibilities:</b></h2>,\n",
       " <h2 class=\"details_h2__WwNUr\"><b>About You:</b></h2>,\n",
       " <h2 class=\"details_h2__WwNUr\"><b>Benefits:</b></h2>]"
      ]
     },
     "execution_count": 117,
     "metadata": {},
     "output_type": "execute_result"
    }
   ],
   "source": [
    "soup.select(\"h2[class^=details_h2]\")"
   ]
  },
  {
   "cell_type": "code",
   "execution_count": 138,
   "metadata": {},
   "outputs": [
    {
     "data": {
      "text/plain": [
       "'<div><h2 class=\"details_h2__WwNUr\"><b>About Vercel:</b></h2><p class=\"details_paragraph__Kt_2d\">At V'"
      ]
     },
     "execution_count": 138,
     "metadata": {},
     "output_type": "execute_result"
    }
   ],
   "source": [
    "str(soup.select(\"section[class^=details_container]\")[0].contents[0])[0:100]"
   ]
  },
  {
   "cell_type": "code",
   "execution_count": null,
   "metadata": {},
   "outputs": [],
   "source": []
  },
  {
   "cell_type": "code",
   "execution_count": 140,
   "metadata": {},
   "outputs": [
    {
     "name": "stderr",
     "output_type": "stream",
     "text": [
      "/var/folders/7x/wc3jx_91337bggbzk01kpvs40000gn/T/ipykernel_68782/1556172511.py:1: DeprecationWarning: Importing display from IPython.core.display is deprecated since IPython 7.14, please import from IPython display\n",
      "  from IPython.core.display import display, HTML\n"
     ]
    },
    {
     "data": {
      "text/html": [
       "<div><h2 class=\"details_h2__WwNUr\"><b>About Vercel:</b></h2><p class=\"details_paragraph__Kt_2d\">At Vercel, we believe that liberating the frontend unlocks creativity and open-source is the best way forward.<!-- --></p><p class=\"details_paragraph__Kt_2d\">We are building a next-generation internet where developers can create freely and execute new ideas, guaranteeing a more vibrant, personalized internet. Vercel’s platform provides the speed and reliability to create at the moment of inspiration. In other words, our friction-less, real-time deployment makes it possible to start working on projects immediately — anywhere in the world.<!-- --></p><p class=\"details_paragraph__Kt_2d\">Our globally-distributed team works asynchronously to lead the React ecosystem and serve developers at large companies. We pride ourselves on our diversity, shared urgency to iterate, team-oriented decision making, and drive to dig deep.<!-- --></p><h2 class=\"details_h2__WwNUr\">About the Role:<!-- --></h2><p class=\"details_paragraph__Kt_2d\">The Data Team at Vercel works with the VP of Data who sits on Vercel’s Leadership Team. Our tight-knit team is internationally distributed from different backgrounds in and out of the data world. We try to be intentional and clear in our work. Examples of this include a Request For Comments (FRC) process, virtual off-sites to reflect on and plan our work, and a bi-weekly company newsletter. In our first 90 days, our Data Engineers have already rolled out an outstanding data warehouse using modern tools.<!-- --></p><h2 class=\"details_h2__WwNUr\"><b>What You Will Do:</b></h2><p class=\"details_paragraph__Kt_2d\">As an Analytics Engineer your job is to design and build usable and well-documented data models for company-wide use. You are the bridge between the raw data our Data Engineering pulls in from across the company and our analytical stakeholders. You will need to become knowledgeable in both our upstream data sources and the business context that your stakeholders operate in. Strong working relationships will be key to your success. Your day-to-day will focus on iteratively delivering data sources that stakeholders can understand and ultimately self-service.<!-- --></p><h2 class=\"details_h2__WwNUr\"><b>Responsibilities:</b></h2><ul class=\"details_list__MkkSj\"><li><p class=\"details_paragraph__Kt_2d\">Working with stakeholders to fully understand data long-term data requirements for model development<!-- --></p></li><li><p class=\"details_paragraph__Kt_2d\">Working with Data Engineering, Engineering, and operational partners to understand upstream data sources and limitations, and maintain an overall position of strong data governance<!-- --></p></li><li><p class=\"details_paragraph__Kt_2d\">Use dbt to iteratively deliver usable data models using that enable analyst workflows<!-- --></p></li><li><p class=\"details_paragraph__Kt_2d\">Documenting production data models with an eye towards self-service work flows<!-- --></p></li><li><p class=\"details_paragraph__Kt_2d\">Training stakeholders to be more proficient and independent in our BI tool and in SQL<!-- --></p></li></ul><h2 class=\"details_h2__WwNUr\"><b>About You:</b></h2><ul class=\"details_list__MkkSj\"><li><p class=\"details_paragraph__Kt_2d\">Outstanding SQL skills<!-- --></p></li><li><p class=\"details_paragraph__Kt_2d\">Experience creating data products within a data warehouse environment; preferably with dbt and Snowflake<!-- --></p></li><li><p class=\"details_paragraph__Kt_2d\">Comfortable working from the command line and with git<!-- --></p></li><li><p class=\"details_paragraph__Kt_2d\">Familiar with a modern SQL-based BI tool, especially Superset<!-- --></p></li><li><p class=\"details_paragraph__Kt_2d\">Experience working with a range of data sources and stakeholders from operational and product teams<!-- --></p></li><li><p class=\"details_paragraph__Kt_2d\">Outstanding written and communication skills<!-- --></p></li><li><p class=\"details_paragraph__Kt_2d\">Additional experience in Engineering, Analytics, or Data Science is a plus.<!-- --></p></li><li><p class=\"details_paragraph__Kt_2d\">Kind, positive, and generally passionate about data and Vercel!<!-- --></p></li></ul><h2 class=\"details_h2__WwNUr\"><b>Benefits:</b></h2><ul class=\"details_list__MkkSj\"><li><p class=\"details_paragraph__Kt_2d\">Competitive compensation and stock options<!-- --></p></li><li><p class=\"details_paragraph__Kt_2d\">Inclusive Healthcare Package<!-- --></p></li><li><p class=\"details_paragraph__Kt_2d\">Flexible working style - 100% remote, with teammates located throughout the globe<!-- --></p></li><li><p class=\"details_paragraph__Kt_2d\">Learn and Grow - we provide mentorship and send you to events that help you build your network and skills<!-- --></p></li><li><p class=\"details_paragraph__Kt_2d\">Unlimited PTO - 4 weeks recommended per year. Take time when you need it.<!-- --></p></li><li><p class=\"details_paragraph__Kt_2d\">We will provide you the gear you need to do your role, and a WFH budget for you to outfit your space as needed<!-- --></p></li></ul><p class=\"details_paragraph__Kt_2d\">Vercel is committed to fostering and empowering an inclusive community within our organization. We do not discriminate on the basis of race, religion, color, gender expression or identity, sexual orientation, national origin, citizenship, age, marital status, veteran status, disability status, or any other characteristic protected by law. Vercel encourages everyone to apply for our available positions, even if they don't necessarily check every box on the job description.<!-- --></p></div>"
      ],
      "text/plain": [
       "<IPython.core.display.HTML object>"
      ]
     },
     "metadata": {},
     "output_type": "display_data"
    }
   ],
   "source": [
    "from IPython.core.display import display, HTML\n",
    "display(HTML(str(soup.select(\"section[class^=details_container]\")[0].contents[0])))"
   ]
  },
  {
   "cell_type": "code",
   "execution_count": null,
   "metadata": {},
   "outputs": [],
   "source": []
  }
 ],
 "metadata": {
  "kernelspec": {
   "display_name": "Python 3.10.4 ('python_examples')",
   "language": "python",
   "name": "python3"
  },
  "language_info": {
   "codemirror_mode": {
    "name": "ipython",
    "version": 3
   },
   "file_extension": ".py",
   "mimetype": "text/x-python",
   "name": "python",
   "nbconvert_exporter": "python",
   "pygments_lexer": "ipython3",
   "version": "3.10.4"
  },
  "orig_nbformat": 4,
  "vscode": {
   "interpreter": {
    "hash": "22a8f25d97056a21c4ed8084e2569b2e2b62dee081f66b4cb0689fa3a919f19c"
   }
  }
 },
 "nbformat": 4,
 "nbformat_minor": 2
}
