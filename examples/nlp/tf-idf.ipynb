{
 "cells": [
  {
   "attachments": {},
   "cell_type": "markdown",
   "metadata": {},
   "source": [
    "# TF-IDF\n",
    "\n",
    "This notebook contains an explanation from ChatGPT on TF-IDF. Saving to play with at a later time."
   ]
  },
  {
   "cell_type": "markdown",
   "metadata": {},
   "source": [
    "TF-IDF (Term Frequency-Inverse Document Frequency) is a statistical measure used to evaluate the importance of a word or a group of words (a phrase) in a document or a set of documents. It is commonly used in information retrieval and natural language processing tasks.\n",
    "\n",
    "TF-IDF is calculated by multiplying the term frequency (TF) and the inverse document frequency (IDF). Let's take a closer look at each of these terms:\n",
    "\n",
    "Term frequency (TF): The term frequency is a measure of how often a term appears in a document. It is calculated as the number of times a term appears in a document divided by the total number of terms in the document. For example, if the term \"cat\" appears 3 times in a document with a total of 100 terms, the term frequency for \"cat\" in that document is 0.03.\n",
    "\n",
    "Inverse document frequency (IDF): The inverse document frequency is a measure of how rare a term is across a set of documents. It is calculated as the logarithm of the total number of documents divided by the number of documents that contain the term. For example, if the term \"cat\" appears in 50 out of 1000 documents, the inverse document frequency for \"cat\" is log(1000/50) = 1.3.\n",
    "\n",
    "Here's an example of how to calculate the TF-IDF score for a term in Python:"
   ]
  },
  {
   "cell_type": "code",
   "execution_count": 7,
   "metadata": {},
   "outputs": [
    {
     "name": "stdout",
     "output_type": "stream",
     "text": [
      "0.16666666666666666\n",
      "0.4054651081081644\n",
      "0.06757751801802739\n"
     ]
    }
   ],
   "source": [
    "import math\n",
    "\n",
    "def _tf(term, document):\n",
    "    # Count the number of times the term appears in the document\n",
    "    term_count = document.count(term)\n",
    "\n",
    "    # Calculate the total number of terms in the document\n",
    "    total_terms = len(document.split())\n",
    "\n",
    "    # Calculate the term frequency\n",
    "    tf = term_count / total_terms\n",
    "\n",
    "    return tf\n",
    "\n",
    "def _idf(term, documents):\n",
    "    # Count the number of documents that contain the term\n",
    "    document_count = sum(1 for document in documents if term in document)\n",
    "    # print(document_count)\n",
    "    # Calculate the inverse document frequency\n",
    "    idf = math.log(len(documents) / document_count)\n",
    "\n",
    "    return idf\n",
    "\n",
    "def tf_idf(term, document, documents):\n",
    "    # Calculate the term frequency\n",
    "    tf = _tf(term, document)\n",
    "\n",
    "    # Calculate the inverse document frequency\n",
    "    idf = _idf(term, documents)\n",
    "\n",
    "    # Calculate the TF-IDF score\n",
    "    tf_idf = tf * idf\n",
    "\n",
    "    return tf_idf\n",
    "\n",
    "# Calculate the TF-IDF score for the term \"cat\" in the document \"The cat sat on the mat\"\n",
    "document = \"The cat sat on the mat\"\n",
    "documents = [\"The cat sat on the mat\", \"The dog chased the cat\", \"The dog chased the car\"]\n",
    "term = \"cat\"\n",
    "print(_tf(term=term, document=document))\n",
    "print(_idf(term=term, documents=documents))\n",
    "tf_idf_score = tf_idf(term, document, documents)\n",
    "print(tf_idf_score)"
   ]
  },
  {
   "cell_type": "code",
   "execution_count": 8,
   "metadata": {},
   "outputs": [
    {
     "name": "stdout",
     "output_type": "stream",
     "text": [
      "0.0\n"
     ]
    }
   ],
   "source": [
    "tf_idf_score = tf_idf(term='The', document=document, documents=documents)\n",
    "print(tf_idf_score)"
   ]
  },
  {
   "cell_type": "code",
   "execution_count": 5,
   "metadata": {},
   "outputs": [
    {
     "data": {
      "text/plain": [
       "0.0"
      ]
     },
     "execution_count": 5,
     "metadata": {},
     "output_type": "execute_result"
    }
   ],
   "source": [
    "math.log(1)"
   ]
  },
  {
   "cell_type": "markdown",
   "metadata": {},
   "source": [
    "This code defines three functions: tf(), which calculates the term frequency; idf(), which calculates the inverse document frequency; and tf_idf(), which calculates the TF-IDF score. You can use these functions to calculate the TF-IDF scores for any term in any document or set of documents."
   ]
  }
 ],
 "metadata": {
  "kernelspec": {
   "display_name": "pytorch_test",
   "language": "python",
   "name": "python3"
  },
  "language_info": {
   "codemirror_mode": {
    "name": "ipython",
    "version": 3
   },
   "file_extension": ".py",
   "mimetype": "text/x-python",
   "name": "python",
   "nbconvert_exporter": "python",
   "pygments_lexer": "ipython3",
   "version": "3.9.15"
  },
  "orig_nbformat": 4,
  "vscode": {
   "interpreter": {
    "hash": "d5755745ee437a00fb65ae5056ee6fa870049b4fc4002badcae5ff8863c59aa9"
   }
  }
 },
 "nbformat": 4,
 "nbformat_minor": 2
}
