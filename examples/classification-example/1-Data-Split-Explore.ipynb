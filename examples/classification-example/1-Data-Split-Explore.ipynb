{
 "cells": [
  {
   "cell_type": "markdown",
   "id": "564aa887",
   "metadata": {
    "pycharm": {
     "name": "#%% md\n"
    }
   },
   "source": [
    "This files creates the training and test datasets for all other notebooks and scripts to reuse. This is the file I would typically use for an exploratory analysis."
   ]
  },
  {
   "cell_type": "code",
   "execution_count": 1,
   "id": "ec01c1ce",
   "metadata": {
    "pycharm": {
     "name": "#%%\n"
    }
   },
   "outputs": [],
   "source": [
    "import pickle\n",
    "import helpsk as hlp\n",
    "import numpy as np\n",
    "from sklearn.datasets import fetch_openml\n",
    "from sklearn.model_selection import train_test_split\n",
    "\n",
    "%matplotlib inline"
   ]
  },
  {
   "cell_type": "markdown",
   "id": "f055efe1",
   "metadata": {},
   "source": [
    "# Load Data"
   ]
  },
  {
   "cell_type": "code",
   "execution_count": 2,
   "id": "34f27a03",
   "metadata": {
    "pycharm": {
     "name": "#%%\n"
    }
   },
   "outputs": [
    {
     "name": "stdout",
     "output_type": "stream",
     "text": [
      "(1000, 21)\n"
     ]
    }
   ],
   "source": [
    "#https://www.openml.org/d/31\n",
    "credit_g = fetch_openml('credit-g', version=1)\n",
    "credit_data = credit_g['data']\n",
    "credit_data['target'] = credit_g['target']\n",
    "print(credit_data.shape)\n",
    "\n",
    "del credit_g"
   ]
  },
  {
   "cell_type": "code",
   "execution_count": null,
   "id": "efce506d",
   "metadata": {
    "pycharm": {
     "name": "#%%\n"
    }
   },
   "outputs": [],
   "source": [
    "## Create Missing Values\n",
    "credit_data['duration'].iloc[0:46] = np.nan\n",
    "credit_data['checking_status'].iloc[25:75] = np.nan\n",
    "credit_data['credit_amount'].iloc[10:54] = 0"
   ]
  },
  {
   "cell_type": "code",
   "execution_count": 4,
   "id": "ebea0c53",
   "metadata": {
    "pycharm": {
     "name": "#%%\n"
    }
   },
   "outputs": [
    {
     "data": {
      "text/html": [
       "<style type=\"text/css\">\n",
       "#T_e3661_row0_col1, #T_e3661_row1_col3 {\n",
       "  background-color: #EBB13E;\n",
       "}\n",
       "#T_e3661_row0_col2 {\n",
       "  width: 10em;\n",
       "  height: 80%;\n",
       "  background: linear-gradient(90deg,#CF3721 5.0%, transparent 5.0%);\n",
       "}\n",
       "#T_e3661_row0_col4, #T_e3661_row1_col2, #T_e3661_row2_col2, #T_e3661_row2_col4, #T_e3661_row3_col2, #T_e3661_row3_col4, #T_e3661_row4_col2, #T_e3661_row4_col4, #T_e3661_row5_col2, #T_e3661_row5_col4, #T_e3661_row6_col2, #T_e3661_row6_col4 {\n",
       "  width: 10em;\n",
       "  height: 80%;\n",
       "}\n",
       "#T_e3661_row0_col7 {\n",
       "  width: 10em;\n",
       "  height: 80%;\n",
       "  background: linear-gradient(90deg,#B4B7B9 57.0%, transparent 57.0%);\n",
       "}\n",
       "#T_e3661_row0_col8 {\n",
       "  width: 10em;\n",
       "  height: 80%;\n",
       "  background: linear-gradient(90deg, transparent 50.0%, #B4B7B9 50.0%, #B4B7B9 77.5%, transparent 77.5%);\n",
       "}\n",
       "#T_e3661_row1_col4 {\n",
       "  width: 10em;\n",
       "  height: 80%;\n",
       "  background: linear-gradient(90deg,#B4B7B9 4.0%, transparent 4.0%);\n",
       "}\n",
       "#T_e3661_row1_col7 {\n",
       "  width: 10em;\n",
       "  height: 80%;\n",
       "  background: linear-gradient(90deg,#B4B7B9 91.0%, transparent 91.0%);\n",
       "}\n",
       "#T_e3661_row1_col8 {\n",
       "  width: 10em;\n",
       "  height: 80%;\n",
       "  background: linear-gradient(90deg, transparent 50.0%, #B4B7B9 50.0%, #B4B7B9 98.0%, transparent 98.0%);\n",
       "}\n",
       "#T_e3661_row2_col7 {\n",
       "  width: 10em;\n",
       "  height: 80%;\n",
       "  background: linear-gradient(90deg,#B4B7B9 38.0%, transparent 38.0%);\n",
       "}\n",
       "#T_e3661_row2_col8 {\n",
       "  width: 10em;\n",
       "  height: 80%;\n",
       "  background: linear-gradient(90deg, transparent 36.7%, #B4B7B9 36.7%, #B4B7B9 50.0%, transparent 50.0%);\n",
       "}\n",
       "#T_e3661_row3_col7 {\n",
       "  width: 10em;\n",
       "  height: 80%;\n",
       "  background: linear-gradient(90deg,#B4B7B9 39.0%, transparent 39.0%);\n",
       "}\n",
       "#T_e3661_row3_col8 {\n",
       "  width: 10em;\n",
       "  height: 80%;\n",
       "  background: linear-gradient(90deg, transparent 43.2%, #B4B7B9 43.2%, #B4B7B9 50.0%, transparent 50.0%);\n",
       "}\n",
       "#T_e3661_row4_col7 {\n",
       "  width: 10em;\n",
       "  height: 80%;\n",
       "  background: linear-gradient(90deg,#B4B7B9 32.0%, transparent 32.0%);\n",
       "}\n",
       "#T_e3661_row4_col8 {\n",
       "  width: 10em;\n",
       "  height: 80%;\n",
       "  background: linear-gradient(90deg, transparent 50.0%, #B4B7B9 50.0%, #B4B7B9 75.5%, transparent 75.5%);\n",
       "}\n",
       "#T_e3661_row5_col7 {\n",
       "  width: 10em;\n",
       "  height: 80%;\n",
       "  background: linear-gradient(90deg,#B4B7B9 41.0%, transparent 41.0%);\n",
       "}\n",
       "#T_e3661_row5_col8 {\n",
       "  width: 10em;\n",
       "  height: 80%;\n",
       "  background: linear-gradient(90deg, transparent 50.0%, #B4B7B9 50.0%, #B4B7B9 81.7%, transparent 81.7%);\n",
       "}\n",
       "#T_e3661_row6_col7 {\n",
       "  width: 10em;\n",
       "  height: 80%;\n",
       "  background: linear-gradient(90deg,#B4B7B9 31.0%, transparent 31.0%);\n",
       "}\n",
       "#T_e3661_row6_col8 {\n",
       "  width: 10em;\n",
       "  height: 80%;\n",
       "  background: linear-gradient(90deg, transparent 50.0%, #B4B7B9 50.0%, #B4B7B9 97.7%, transparent 97.7%);\n",
       "}\n",
       "</style>\n",
       "<table id=\"T_e3661_\">\n",
       "  <thead>\n",
       "    <tr>\n",
       "      <th class=\"blank level0\" >&nbsp;</th>\n",
       "      <th class=\"col_heading level0 col0\" ># of Non-Nulls</th>\n",
       "      <th class=\"col_heading level0 col1\" ># of Nulls</th>\n",
       "      <th class=\"col_heading level0 col2\" >% Nulls</th>\n",
       "      <th class=\"col_heading level0 col3\" ># of Zeros</th>\n",
       "      <th class=\"col_heading level0 col4\" >% Zeros</th>\n",
       "      <th class=\"col_heading level0 col5\" >Mean</th>\n",
       "      <th class=\"col_heading level0 col6\" >St Dev.</th>\n",
       "      <th class=\"col_heading level0 col7\" >Coef of Var</th>\n",
       "      <th class=\"col_heading level0 col8\" >Skewness</th>\n",
       "      <th class=\"col_heading level0 col9\" >Kurtosis</th>\n",
       "      <th class=\"col_heading level0 col10\" >Min</th>\n",
       "      <th class=\"col_heading level0 col11\" >10%</th>\n",
       "      <th class=\"col_heading level0 col12\" >25%</th>\n",
       "      <th class=\"col_heading level0 col13\" >50%</th>\n",
       "      <th class=\"col_heading level0 col14\" >75%</th>\n",
       "      <th class=\"col_heading level0 col15\" >90%</th>\n",
       "      <th class=\"col_heading level0 col16\" >Max</th>\n",
       "    </tr>\n",
       "  </thead>\n",
       "  <tbody>\n",
       "    <tr>\n",
       "      <th id=\"T_e3661_level0_row0\" class=\"row_heading level0 row0\" >duration</th>\n",
       "      <td id=\"T_e3661_row0_col0\" class=\"data row0 col0\" >954</td>\n",
       "      <td id=\"T_e3661_row0_col1\" class=\"data row0 col1\" >46</td>\n",
       "      <td id=\"T_e3661_row0_col2\" class=\"data row0 col2\" >5.0%</td>\n",
       "      <td id=\"T_e3661_row0_col3\" class=\"data row0 col3\" >0</td>\n",
       "      <td id=\"T_e3661_row0_col4\" class=\"data row0 col4\" >0.0%</td>\n",
       "      <td id=\"T_e3661_row0_col5\" class=\"data row0 col5\" >20.9</td>\n",
       "      <td id=\"T_e3661_row0_col6\" class=\"data row0 col6\" >12.0</td>\n",
       "      <td id=\"T_e3661_row0_col7\" class=\"data row0 col7\" >0.6</td>\n",
       "      <td id=\"T_e3661_row0_col8\" class=\"data row0 col8\" >1.1</td>\n",
       "      <td id=\"T_e3661_row0_col9\" class=\"data row0 col9\" >1.0</td>\n",
       "      <td id=\"T_e3661_row0_col10\" class=\"data row0 col10\" >4.0</td>\n",
       "      <td id=\"T_e3661_row0_col11\" class=\"data row0 col11\" >9.0</td>\n",
       "      <td id=\"T_e3661_row0_col12\" class=\"data row0 col12\" >12.0</td>\n",
       "      <td id=\"T_e3661_row0_col13\" class=\"data row0 col13\" >18.0</td>\n",
       "      <td id=\"T_e3661_row0_col14\" class=\"data row0 col14\" >24.0</td>\n",
       "      <td id=\"T_e3661_row0_col15\" class=\"data row0 col15\" >36.0</td>\n",
       "      <td id=\"T_e3661_row0_col16\" class=\"data row0 col16\" >72.0</td>\n",
       "    </tr>\n",
       "    <tr>\n",
       "      <th id=\"T_e3661_level0_row1\" class=\"row_heading level0 row1\" >credit_amount</th>\n",
       "      <td id=\"T_e3661_row1_col0\" class=\"data row1 col0\" >1,000</td>\n",
       "      <td id=\"T_e3661_row1_col1\" class=\"data row1 col1\" >0</td>\n",
       "      <td id=\"T_e3661_row1_col2\" class=\"data row1 col2\" >0.0%</td>\n",
       "      <td id=\"T_e3661_row1_col3\" class=\"data row1 col3\" >44</td>\n",
       "      <td id=\"T_e3661_row1_col4\" class=\"data row1 col4\" >4.0%</td>\n",
       "      <td id=\"T_e3661_row1_col5\" class=\"data row1 col5\" >3,132.9</td>\n",
       "      <td id=\"T_e3661_row1_col6\" class=\"data row1 col6\" >2,853.4</td>\n",
       "      <td id=\"T_e3661_row1_col7\" class=\"data row1 col7\" >0.9</td>\n",
       "      <td id=\"T_e3661_row1_col8\" class=\"data row1 col8\" >1.9</td>\n",
       "      <td id=\"T_e3661_row1_col9\" class=\"data row1 col9\" >4.3</td>\n",
       "      <td id=\"T_e3661_row1_col10\" class=\"data row1 col10\" >0.0</td>\n",
       "      <td id=\"T_e3661_row1_col11\" class=\"data row1 col11\" >740.0</td>\n",
       "      <td id=\"T_e3661_row1_col12\" class=\"data row1 col12\" >1,287.8</td>\n",
       "      <td id=\"T_e3661_row1_col13\" class=\"data row1 col13\" >2,224.0</td>\n",
       "      <td id=\"T_e3661_row1_col14\" class=\"data row1 col14\" >3,873.5</td>\n",
       "      <td id=\"T_e3661_row1_col15\" class=\"data row1 col15\" >7,119.8</td>\n",
       "      <td id=\"T_e3661_row1_col16\" class=\"data row1 col16\" >18,424.0</td>\n",
       "    </tr>\n",
       "    <tr>\n",
       "      <th id=\"T_e3661_level0_row2\" class=\"row_heading level0 row2\" >installment_commitment</th>\n",
       "      <td id=\"T_e3661_row2_col0\" class=\"data row2 col0\" >1,000</td>\n",
       "      <td id=\"T_e3661_row2_col1\" class=\"data row2 col1\" >0</td>\n",
       "      <td id=\"T_e3661_row2_col2\" class=\"data row2 col2\" >0.0%</td>\n",
       "      <td id=\"T_e3661_row2_col3\" class=\"data row2 col3\" >0</td>\n",
       "      <td id=\"T_e3661_row2_col4\" class=\"data row2 col4\" >0.0%</td>\n",
       "      <td id=\"T_e3661_row2_col5\" class=\"data row2 col5\" >3.0</td>\n",
       "      <td id=\"T_e3661_row2_col6\" class=\"data row2 col6\" >1.1</td>\n",
       "      <td id=\"T_e3661_row2_col7\" class=\"data row2 col7\" >0.4</td>\n",
       "      <td id=\"T_e3661_row2_col8\" class=\"data row2 col8\" >-0.5</td>\n",
       "      <td id=\"T_e3661_row2_col9\" class=\"data row2 col9\" >-1.2</td>\n",
       "      <td id=\"T_e3661_row2_col10\" class=\"data row2 col10\" >1.0</td>\n",
       "      <td id=\"T_e3661_row2_col11\" class=\"data row2 col11\" >1.0</td>\n",
       "      <td id=\"T_e3661_row2_col12\" class=\"data row2 col12\" >2.0</td>\n",
       "      <td id=\"T_e3661_row2_col13\" class=\"data row2 col13\" >3.0</td>\n",
       "      <td id=\"T_e3661_row2_col14\" class=\"data row2 col14\" >4.0</td>\n",
       "      <td id=\"T_e3661_row2_col15\" class=\"data row2 col15\" >4.0</td>\n",
       "      <td id=\"T_e3661_row2_col16\" class=\"data row2 col16\" >4.0</td>\n",
       "    </tr>\n",
       "    <tr>\n",
       "      <th id=\"T_e3661_level0_row3\" class=\"row_heading level0 row3\" >residence_since</th>\n",
       "      <td id=\"T_e3661_row3_col0\" class=\"data row3 col0\" >1,000</td>\n",
       "      <td id=\"T_e3661_row3_col1\" class=\"data row3 col1\" >0</td>\n",
       "      <td id=\"T_e3661_row3_col2\" class=\"data row3 col2\" >0.0%</td>\n",
       "      <td id=\"T_e3661_row3_col3\" class=\"data row3 col3\" >0</td>\n",
       "      <td id=\"T_e3661_row3_col4\" class=\"data row3 col4\" >0.0%</td>\n",
       "      <td id=\"T_e3661_row3_col5\" class=\"data row3 col5\" >2.9</td>\n",
       "      <td id=\"T_e3661_row3_col6\" class=\"data row3 col6\" >1.1</td>\n",
       "      <td id=\"T_e3661_row3_col7\" class=\"data row3 col7\" >0.4</td>\n",
       "      <td id=\"T_e3661_row3_col8\" class=\"data row3 col8\" >-0.3</td>\n",
       "      <td id=\"T_e3661_row3_col9\" class=\"data row3 col9\" >-1.4</td>\n",
       "      <td id=\"T_e3661_row3_col10\" class=\"data row3 col10\" >1.0</td>\n",
       "      <td id=\"T_e3661_row3_col11\" class=\"data row3 col11\" >1.0</td>\n",
       "      <td id=\"T_e3661_row3_col12\" class=\"data row3 col12\" >2.0</td>\n",
       "      <td id=\"T_e3661_row3_col13\" class=\"data row3 col13\" >3.0</td>\n",
       "      <td id=\"T_e3661_row3_col14\" class=\"data row3 col14\" >4.0</td>\n",
       "      <td id=\"T_e3661_row3_col15\" class=\"data row3 col15\" >4.0</td>\n",
       "      <td id=\"T_e3661_row3_col16\" class=\"data row3 col16\" >4.0</td>\n",
       "    </tr>\n",
       "    <tr>\n",
       "      <th id=\"T_e3661_level0_row4\" class=\"row_heading level0 row4\" >age</th>\n",
       "      <td id=\"T_e3661_row4_col0\" class=\"data row4 col0\" >1,000</td>\n",
       "      <td id=\"T_e3661_row4_col1\" class=\"data row4 col1\" >0</td>\n",
       "      <td id=\"T_e3661_row4_col2\" class=\"data row4 col2\" >0.0%</td>\n",
       "      <td id=\"T_e3661_row4_col3\" class=\"data row4 col3\" >0</td>\n",
       "      <td id=\"T_e3661_row4_col4\" class=\"data row4 col4\" >0.0%</td>\n",
       "      <td id=\"T_e3661_row4_col5\" class=\"data row4 col5\" >35.5</td>\n",
       "      <td id=\"T_e3661_row4_col6\" class=\"data row4 col6\" >11.4</td>\n",
       "      <td id=\"T_e3661_row4_col7\" class=\"data row4 col7\" >0.3</td>\n",
       "      <td id=\"T_e3661_row4_col8\" class=\"data row4 col8\" >1.0</td>\n",
       "      <td id=\"T_e3661_row4_col9\" class=\"data row4 col9\" >0.6</td>\n",
       "      <td id=\"T_e3661_row4_col10\" class=\"data row4 col10\" >19.0</td>\n",
       "      <td id=\"T_e3661_row4_col11\" class=\"data row4 col11\" >23.0</td>\n",
       "      <td id=\"T_e3661_row4_col12\" class=\"data row4 col12\" >27.0</td>\n",
       "      <td id=\"T_e3661_row4_col13\" class=\"data row4 col13\" >33.0</td>\n",
       "      <td id=\"T_e3661_row4_col14\" class=\"data row4 col14\" >42.0</td>\n",
       "      <td id=\"T_e3661_row4_col15\" class=\"data row4 col15\" >52.0</td>\n",
       "      <td id=\"T_e3661_row4_col16\" class=\"data row4 col16\" >75.0</td>\n",
       "    </tr>\n",
       "    <tr>\n",
       "      <th id=\"T_e3661_level0_row5\" class=\"row_heading level0 row5\" >existing_credits</th>\n",
       "      <td id=\"T_e3661_row5_col0\" class=\"data row5 col0\" >1,000</td>\n",
       "      <td id=\"T_e3661_row5_col1\" class=\"data row5 col1\" >0</td>\n",
       "      <td id=\"T_e3661_row5_col2\" class=\"data row5 col2\" >0.0%</td>\n",
       "      <td id=\"T_e3661_row5_col3\" class=\"data row5 col3\" >0</td>\n",
       "      <td id=\"T_e3661_row5_col4\" class=\"data row5 col4\" >0.0%</td>\n",
       "      <td id=\"T_e3661_row5_col5\" class=\"data row5 col5\" >1.4</td>\n",
       "      <td id=\"T_e3661_row5_col6\" class=\"data row5 col6\" >0.6</td>\n",
       "      <td id=\"T_e3661_row5_col7\" class=\"data row5 col7\" >0.4</td>\n",
       "      <td id=\"T_e3661_row5_col8\" class=\"data row5 col8\" >1.3</td>\n",
       "      <td id=\"T_e3661_row5_col9\" class=\"data row5 col9\" >1.6</td>\n",
       "      <td id=\"T_e3661_row5_col10\" class=\"data row5 col10\" >1.0</td>\n",
       "      <td id=\"T_e3661_row5_col11\" class=\"data row5 col11\" >1.0</td>\n",
       "      <td id=\"T_e3661_row5_col12\" class=\"data row5 col12\" >1.0</td>\n",
       "      <td id=\"T_e3661_row5_col13\" class=\"data row5 col13\" >1.0</td>\n",
       "      <td id=\"T_e3661_row5_col14\" class=\"data row5 col14\" >2.0</td>\n",
       "      <td id=\"T_e3661_row5_col15\" class=\"data row5 col15\" >2.0</td>\n",
       "      <td id=\"T_e3661_row5_col16\" class=\"data row5 col16\" >4.0</td>\n",
       "    </tr>\n",
       "    <tr>\n",
       "      <th id=\"T_e3661_level0_row6\" class=\"row_heading level0 row6\" >num_dependents</th>\n",
       "      <td id=\"T_e3661_row6_col0\" class=\"data row6 col0\" >1,000</td>\n",
       "      <td id=\"T_e3661_row6_col1\" class=\"data row6 col1\" >0</td>\n",
       "      <td id=\"T_e3661_row6_col2\" class=\"data row6 col2\" >0.0%</td>\n",
       "      <td id=\"T_e3661_row6_col3\" class=\"data row6 col3\" >0</td>\n",
       "      <td id=\"T_e3661_row6_col4\" class=\"data row6 col4\" >0.0%</td>\n",
       "      <td id=\"T_e3661_row6_col5\" class=\"data row6 col5\" >1.2</td>\n",
       "      <td id=\"T_e3661_row6_col6\" class=\"data row6 col6\" >0.4</td>\n",
       "      <td id=\"T_e3661_row6_col7\" class=\"data row6 col7\" >0.3</td>\n",
       "      <td id=\"T_e3661_row6_col8\" class=\"data row6 col8\" >1.9</td>\n",
       "      <td id=\"T_e3661_row6_col9\" class=\"data row6 col9\" >1.6</td>\n",
       "      <td id=\"T_e3661_row6_col10\" class=\"data row6 col10\" >1.0</td>\n",
       "      <td id=\"T_e3661_row6_col11\" class=\"data row6 col11\" >1.0</td>\n",
       "      <td id=\"T_e3661_row6_col12\" class=\"data row6 col12\" >1.0</td>\n",
       "      <td id=\"T_e3661_row6_col13\" class=\"data row6 col13\" >1.0</td>\n",
       "      <td id=\"T_e3661_row6_col14\" class=\"data row6 col14\" >1.0</td>\n",
       "      <td id=\"T_e3661_row6_col15\" class=\"data row6 col15\" >2.0</td>\n",
       "      <td id=\"T_e3661_row6_col16\" class=\"data row6 col16\" >2.0</td>\n",
       "    </tr>\n",
       "  </tbody>\n",
       "</table>\n"
      ],
      "text/plain": [
       "<pandas.io.formats.style.Styler at 0x7fce7b9cd040>"
      ]
     },
     "execution_count": 4,
     "metadata": {},
     "output_type": "execute_result"
    }
   ],
   "source": [
    "hlp.pandas.numeric_summary(credit_data)"
   ]
  },
  {
   "cell_type": "code",
   "execution_count": 5,
   "id": "81c892b0",
   "metadata": {
    "pycharm": {
     "name": "#%%\n"
    }
   },
   "outputs": [
    {
     "data": {
      "text/html": [
       "<style type=\"text/css\">\n",
       "#T_209b1_row0_col1 {\n",
       "  background-color: #EBB13E;\n",
       "}\n",
       "#T_209b1_row0_col2 {\n",
       "  width: 10em;\n",
       "  height: 80%;\n",
       "  background: linear-gradient(90deg,#CF3721 5.0%, transparent 5.0%);\n",
       "}\n",
       "#T_209b1_row0_col5, #T_209b1_row5_col5, #T_209b1_row7_col5, #T_209b1_row10_col5 {\n",
       "  width: 10em;\n",
       "  height: 80%;\n",
       "  background: linear-gradient(90deg,#B4B7B9 0.4%, transparent 0.4%);\n",
       "}\n",
       "#T_209b1_row1_col2, #T_209b1_row2_col2, #T_209b1_row3_col2, #T_209b1_row4_col2, #T_209b1_row5_col2, #T_209b1_row6_col2, #T_209b1_row7_col2, #T_209b1_row8_col2, #T_209b1_row9_col2, #T_209b1_row10_col2, #T_209b1_row11_col2, #T_209b1_row12_col2, #T_209b1_row13_col2 {\n",
       "  width: 10em;\n",
       "  height: 80%;\n",
       "}\n",
       "#T_209b1_row1_col5, #T_209b1_row3_col5, #T_209b1_row4_col5 {\n",
       "  width: 10em;\n",
       "  height: 80%;\n",
       "  background: linear-gradient(90deg,#B4B7B9 0.5%, transparent 0.5%);\n",
       "}\n",
       "#T_209b1_row2_col5 {\n",
       "  width: 10em;\n",
       "  height: 80%;\n",
       "  background: linear-gradient(90deg,#B4B7B9 1.0%, transparent 1.0%);\n",
       "}\n",
       "#T_209b1_row6_col5, #T_209b1_row8_col5, #T_209b1_row9_col5 {\n",
       "  width: 10em;\n",
       "  height: 80%;\n",
       "  background: linear-gradient(90deg,#B4B7B9 0.3%, transparent 0.3%);\n",
       "}\n",
       "#T_209b1_row11_col5, #T_209b1_row12_col5, #T_209b1_row13_col5 {\n",
       "  width: 10em;\n",
       "  height: 80%;\n",
       "  background: linear-gradient(90deg,#B4B7B9 0.2%, transparent 0.2%);\n",
       "}\n",
       "</style>\n",
       "<table id=\"T_209b1_\">\n",
       "  <thead>\n",
       "    <tr>\n",
       "      <th class=\"blank level0\" >&nbsp;</th>\n",
       "      <th class=\"col_heading level0 col0\" ># of Non-Nulls</th>\n",
       "      <th class=\"col_heading level0 col1\" ># of Nulls</th>\n",
       "      <th class=\"col_heading level0 col2\" >% Nulls</th>\n",
       "      <th class=\"col_heading level0 col3\" >Most Freq. Value</th>\n",
       "      <th class=\"col_heading level0 col4\" ># of Unique</th>\n",
       "      <th class=\"col_heading level0 col5\" >% Unique</th>\n",
       "    </tr>\n",
       "  </thead>\n",
       "  <tbody>\n",
       "    <tr>\n",
       "      <th id=\"T_209b1_level0_row0\" class=\"row_heading level0 row0\" >checking_status</th>\n",
       "      <td id=\"T_209b1_row0_col0\" class=\"data row0 col0\" >950</td>\n",
       "      <td id=\"T_209b1_row0_col1\" class=\"data row0 col1\" >50</td>\n",
       "      <td id=\"T_209b1_row0_col2\" class=\"data row0 col2\" >5.0%</td>\n",
       "      <td id=\"T_209b1_row0_col3\" class=\"data row0 col3\" >no checking</td>\n",
       "      <td id=\"T_209b1_row0_col4\" class=\"data row0 col4\" >4</td>\n",
       "      <td id=\"T_209b1_row0_col5\" class=\"data row0 col5\" >0.4%</td>\n",
       "    </tr>\n",
       "    <tr>\n",
       "      <th id=\"T_209b1_level0_row1\" class=\"row_heading level0 row1\" >credit_history</th>\n",
       "      <td id=\"T_209b1_row1_col0\" class=\"data row1 col0\" >1,000</td>\n",
       "      <td id=\"T_209b1_row1_col1\" class=\"data row1 col1\" >0</td>\n",
       "      <td id=\"T_209b1_row1_col2\" class=\"data row1 col2\" >0.0%</td>\n",
       "      <td id=\"T_209b1_row1_col3\" class=\"data row1 col3\" >existing paid</td>\n",
       "      <td id=\"T_209b1_row1_col4\" class=\"data row1 col4\" >5</td>\n",
       "      <td id=\"T_209b1_row1_col5\" class=\"data row1 col5\" >0.5%</td>\n",
       "    </tr>\n",
       "    <tr>\n",
       "      <th id=\"T_209b1_level0_row2\" class=\"row_heading level0 row2\" >purpose</th>\n",
       "      <td id=\"T_209b1_row2_col0\" class=\"data row2 col0\" >1,000</td>\n",
       "      <td id=\"T_209b1_row2_col1\" class=\"data row2 col1\" >0</td>\n",
       "      <td id=\"T_209b1_row2_col2\" class=\"data row2 col2\" >0.0%</td>\n",
       "      <td id=\"T_209b1_row2_col3\" class=\"data row2 col3\" >radio/tv</td>\n",
       "      <td id=\"T_209b1_row2_col4\" class=\"data row2 col4\" >10</td>\n",
       "      <td id=\"T_209b1_row2_col5\" class=\"data row2 col5\" >1.0%</td>\n",
       "    </tr>\n",
       "    <tr>\n",
       "      <th id=\"T_209b1_level0_row3\" class=\"row_heading level0 row3\" >savings_status</th>\n",
       "      <td id=\"T_209b1_row3_col0\" class=\"data row3 col0\" >1,000</td>\n",
       "      <td id=\"T_209b1_row3_col1\" class=\"data row3 col1\" >0</td>\n",
       "      <td id=\"T_209b1_row3_col2\" class=\"data row3 col2\" >0.0%</td>\n",
       "      <td id=\"T_209b1_row3_col3\" class=\"data row3 col3\" >&lt;100</td>\n",
       "      <td id=\"T_209b1_row3_col4\" class=\"data row3 col4\" >5</td>\n",
       "      <td id=\"T_209b1_row3_col5\" class=\"data row3 col5\" >0.5%</td>\n",
       "    </tr>\n",
       "    <tr>\n",
       "      <th id=\"T_209b1_level0_row4\" class=\"row_heading level0 row4\" >employment</th>\n",
       "      <td id=\"T_209b1_row4_col0\" class=\"data row4 col0\" >1,000</td>\n",
       "      <td id=\"T_209b1_row4_col1\" class=\"data row4 col1\" >0</td>\n",
       "      <td id=\"T_209b1_row4_col2\" class=\"data row4 col2\" >0.0%</td>\n",
       "      <td id=\"T_209b1_row4_col3\" class=\"data row4 col3\" >1&lt;=X&lt;4</td>\n",
       "      <td id=\"T_209b1_row4_col4\" class=\"data row4 col4\" >5</td>\n",
       "      <td id=\"T_209b1_row4_col5\" class=\"data row4 col5\" >0.5%</td>\n",
       "    </tr>\n",
       "    <tr>\n",
       "      <th id=\"T_209b1_level0_row5\" class=\"row_heading level0 row5\" >personal_status</th>\n",
       "      <td id=\"T_209b1_row5_col0\" class=\"data row5 col0\" >1,000</td>\n",
       "      <td id=\"T_209b1_row5_col1\" class=\"data row5 col1\" >0</td>\n",
       "      <td id=\"T_209b1_row5_col2\" class=\"data row5 col2\" >0.0%</td>\n",
       "      <td id=\"T_209b1_row5_col3\" class=\"data row5 col3\" >male single</td>\n",
       "      <td id=\"T_209b1_row5_col4\" class=\"data row5 col4\" >4</td>\n",
       "      <td id=\"T_209b1_row5_col5\" class=\"data row5 col5\" >0.4%</td>\n",
       "    </tr>\n",
       "    <tr>\n",
       "      <th id=\"T_209b1_level0_row6\" class=\"row_heading level0 row6\" >other_parties</th>\n",
       "      <td id=\"T_209b1_row6_col0\" class=\"data row6 col0\" >1,000</td>\n",
       "      <td id=\"T_209b1_row6_col1\" class=\"data row6 col1\" >0</td>\n",
       "      <td id=\"T_209b1_row6_col2\" class=\"data row6 col2\" >0.0%</td>\n",
       "      <td id=\"T_209b1_row6_col3\" class=\"data row6 col3\" >none</td>\n",
       "      <td id=\"T_209b1_row6_col4\" class=\"data row6 col4\" >3</td>\n",
       "      <td id=\"T_209b1_row6_col5\" class=\"data row6 col5\" >0.3%</td>\n",
       "    </tr>\n",
       "    <tr>\n",
       "      <th id=\"T_209b1_level0_row7\" class=\"row_heading level0 row7\" >property_magnitude</th>\n",
       "      <td id=\"T_209b1_row7_col0\" class=\"data row7 col0\" >1,000</td>\n",
       "      <td id=\"T_209b1_row7_col1\" class=\"data row7 col1\" >0</td>\n",
       "      <td id=\"T_209b1_row7_col2\" class=\"data row7 col2\" >0.0%</td>\n",
       "      <td id=\"T_209b1_row7_col3\" class=\"data row7 col3\" >car</td>\n",
       "      <td id=\"T_209b1_row7_col4\" class=\"data row7 col4\" >4</td>\n",
       "      <td id=\"T_209b1_row7_col5\" class=\"data row7 col5\" >0.4%</td>\n",
       "    </tr>\n",
       "    <tr>\n",
       "      <th id=\"T_209b1_level0_row8\" class=\"row_heading level0 row8\" >other_payment_plans</th>\n",
       "      <td id=\"T_209b1_row8_col0\" class=\"data row8 col0\" >1,000</td>\n",
       "      <td id=\"T_209b1_row8_col1\" class=\"data row8 col1\" >0</td>\n",
       "      <td id=\"T_209b1_row8_col2\" class=\"data row8 col2\" >0.0%</td>\n",
       "      <td id=\"T_209b1_row8_col3\" class=\"data row8 col3\" >none</td>\n",
       "      <td id=\"T_209b1_row8_col4\" class=\"data row8 col4\" >3</td>\n",
       "      <td id=\"T_209b1_row8_col5\" class=\"data row8 col5\" >0.3%</td>\n",
       "    </tr>\n",
       "    <tr>\n",
       "      <th id=\"T_209b1_level0_row9\" class=\"row_heading level0 row9\" >housing</th>\n",
       "      <td id=\"T_209b1_row9_col0\" class=\"data row9 col0\" >1,000</td>\n",
       "      <td id=\"T_209b1_row9_col1\" class=\"data row9 col1\" >0</td>\n",
       "      <td id=\"T_209b1_row9_col2\" class=\"data row9 col2\" >0.0%</td>\n",
       "      <td id=\"T_209b1_row9_col3\" class=\"data row9 col3\" >own</td>\n",
       "      <td id=\"T_209b1_row9_col4\" class=\"data row9 col4\" >3</td>\n",
       "      <td id=\"T_209b1_row9_col5\" class=\"data row9 col5\" >0.3%</td>\n",
       "    </tr>\n",
       "    <tr>\n",
       "      <th id=\"T_209b1_level0_row10\" class=\"row_heading level0 row10\" >job</th>\n",
       "      <td id=\"T_209b1_row10_col0\" class=\"data row10 col0\" >1,000</td>\n",
       "      <td id=\"T_209b1_row10_col1\" class=\"data row10 col1\" >0</td>\n",
       "      <td id=\"T_209b1_row10_col2\" class=\"data row10 col2\" >0.0%</td>\n",
       "      <td id=\"T_209b1_row10_col3\" class=\"data row10 col3\" >skilled</td>\n",
       "      <td id=\"T_209b1_row10_col4\" class=\"data row10 col4\" >4</td>\n",
       "      <td id=\"T_209b1_row10_col5\" class=\"data row10 col5\" >0.4%</td>\n",
       "    </tr>\n",
       "    <tr>\n",
       "      <th id=\"T_209b1_level0_row11\" class=\"row_heading level0 row11\" >own_telephone</th>\n",
       "      <td id=\"T_209b1_row11_col0\" class=\"data row11 col0\" >1,000</td>\n",
       "      <td id=\"T_209b1_row11_col1\" class=\"data row11 col1\" >0</td>\n",
       "      <td id=\"T_209b1_row11_col2\" class=\"data row11 col2\" >0.0%</td>\n",
       "      <td id=\"T_209b1_row11_col3\" class=\"data row11 col3\" >none</td>\n",
       "      <td id=\"T_209b1_row11_col4\" class=\"data row11 col4\" >2</td>\n",
       "      <td id=\"T_209b1_row11_col5\" class=\"data row11 col5\" >0.2%</td>\n",
       "    </tr>\n",
       "    <tr>\n",
       "      <th id=\"T_209b1_level0_row12\" class=\"row_heading level0 row12\" >foreign_worker</th>\n",
       "      <td id=\"T_209b1_row12_col0\" class=\"data row12 col0\" >1,000</td>\n",
       "      <td id=\"T_209b1_row12_col1\" class=\"data row12 col1\" >0</td>\n",
       "      <td id=\"T_209b1_row12_col2\" class=\"data row12 col2\" >0.0%</td>\n",
       "      <td id=\"T_209b1_row12_col3\" class=\"data row12 col3\" >yes</td>\n",
       "      <td id=\"T_209b1_row12_col4\" class=\"data row12 col4\" >2</td>\n",
       "      <td id=\"T_209b1_row12_col5\" class=\"data row12 col5\" >0.2%</td>\n",
       "    </tr>\n",
       "    <tr>\n",
       "      <th id=\"T_209b1_level0_row13\" class=\"row_heading level0 row13\" >target</th>\n",
       "      <td id=\"T_209b1_row13_col0\" class=\"data row13 col0\" >1,000</td>\n",
       "      <td id=\"T_209b1_row13_col1\" class=\"data row13 col1\" >0</td>\n",
       "      <td id=\"T_209b1_row13_col2\" class=\"data row13 col2\" >0.0%</td>\n",
       "      <td id=\"T_209b1_row13_col3\" class=\"data row13 col3\" >good</td>\n",
       "      <td id=\"T_209b1_row13_col4\" class=\"data row13 col4\" >2</td>\n",
       "      <td id=\"T_209b1_row13_col5\" class=\"data row13 col5\" >0.2%</td>\n",
       "    </tr>\n",
       "  </tbody>\n",
       "</table>\n"
      ],
      "text/plain": [
       "<pandas.io.formats.style.Styler at 0x7fce790970d0>"
      ]
     },
     "execution_count": 5,
     "metadata": {},
     "output_type": "execute_result"
    }
   ],
   "source": [
    "hlp.pandas.non_numeric_summary(credit_data)"
   ]
  },
  {
   "cell_type": "markdown",
   "id": "d298aa3c",
   "metadata": {},
   "source": [
    "# Training and Test Data"
   ]
  },
  {
   "cell_type": "code",
   "execution_count": 6,
   "id": "ca5943f3",
   "metadata": {
    "pycharm": {
     "name": "#%%\n"
    }
   },
   "outputs": [],
   "source": [
    "y_full = credit_data['target']\n",
    "X_full = credit_data.drop(columns='target')\n",
    "\n",
    "del credit_data"
   ]
  },
  {
   "cell_type": "code",
   "execution_count": 7,
   "id": "e095f482",
   "metadata": {
    "pycharm": {
     "name": "#%%\n"
    }
   },
   "outputs": [
    {
     "data": {
      "text/html": [
       "<div>\n",
       "<style scoped>\n",
       "    .dataframe tbody tr th:only-of-type {\n",
       "        vertical-align: middle;\n",
       "    }\n",
       "\n",
       "    .dataframe tbody tr th {\n",
       "        vertical-align: top;\n",
       "    }\n",
       "\n",
       "    .dataframe thead th {\n",
       "        text-align: right;\n",
       "    }\n",
       "</style>\n",
       "<table border=\"1\" class=\"dataframe\">\n",
       "  <thead>\n",
       "    <tr style=\"text-align: right;\">\n",
       "      <th></th>\n",
       "      <th>Frequency</th>\n",
       "      <th>Percent</th>\n",
       "    </tr>\n",
       "  </thead>\n",
       "  <tbody>\n",
       "    <tr>\n",
       "      <th>good</th>\n",
       "      <td>700</td>\n",
       "      <td>0.7</td>\n",
       "    </tr>\n",
       "    <tr>\n",
       "      <th>bad</th>\n",
       "      <td>300</td>\n",
       "      <td>0.3</td>\n",
       "    </tr>\n",
       "  </tbody>\n",
       "</table>\n",
       "</div>"
      ],
      "text/plain": [
       "      Frequency  Percent\n",
       "good        700      0.7\n",
       "bad         300      0.3"
      ]
     },
     "execution_count": 7,
     "metadata": {},
     "output_type": "execute_result"
    }
   ],
   "source": [
    "hlp.pandas.value_frequency(series=y_full)"
   ]
  },
  {
   "cell_type": "code",
   "execution_count": 8,
   "id": "d02993c3",
   "metadata": {
    "pycharm": {
     "name": "#%%\n"
    }
   },
   "outputs": [
    {
     "data": {
      "text/plain": [
       "0    good\n",
       "1     bad\n",
       "2    good\n",
       "3    good\n",
       "4     bad\n",
       "5    good\n",
       "6    good\n",
       "7    good\n",
       "8    good\n",
       "9     bad\n",
       "Name: target, dtype: category\n",
       "Categories (2, object): ['good', 'bad']"
      ]
     },
     "execution_count": 8,
     "metadata": {},
     "output_type": "execute_result"
    }
   ],
   "source": [
    "y_full[0:10]"
   ]
  },
  {
   "cell_type": "code",
   "execution_count": 9,
   "id": "413d1474",
   "metadata": {
    "pycharm": {
     "name": "#%%\n"
    }
   },
   "outputs": [],
   "source": [
    "from sklearn.preprocessing import label_binarize\n",
    "# i.e. value of 0 is 'good' i.e. 'not default' and value of 1 is bad and what\n",
    "# we want to detect i.e. 'default'\n",
    "y_full = label_binarize(y_full, classes=['good', 'bad']).flatten()"
   ]
  },
  {
   "cell_type": "code",
   "execution_count": 10,
   "id": "c98fd62a",
   "metadata": {
    "pycharm": {
     "name": "#%%\n"
    }
   },
   "outputs": [
    {
     "data": {
      "text/plain": [
       "array([0, 1, 0, 0, 1, 0, 0, 0, 0, 1])"
      ]
     },
     "execution_count": 10,
     "metadata": {},
     "output_type": "execute_result"
    }
   ],
   "source": [
    "y_full[0:10]"
   ]
  },
  {
   "cell_type": "code",
   "execution_count": 11,
   "id": "d73cad12",
   "metadata": {
    "pycharm": {
     "name": "#%%\n"
    }
   },
   "outputs": [],
   "source": [
    "# save the full dataset for creating the fine model\n",
    "with open('X_full.pkl', 'wb') as handle:\n",
    "    pickle.dump(X_full, handle)\n",
    "\n",
    "with open('y_full.pkl', 'wb') as handle:\n",
    "    pickle.dump(y_full, handle)"
   ]
  },
  {
   "cell_type": "code",
   "execution_count": 12,
   "id": "da2dbd5f",
   "metadata": {
    "pycharm": {
     "name": "#%%\n"
    }
   },
   "outputs": [],
   "source": [
    "X_train, X_test, y_train, y_test = train_test_split(X_full, y_full, test_size=0.2, random_state=42)\n",
    "del X_full, y_full"
   ]
  },
  {
   "cell_type": "code",
   "execution_count": 13,
   "id": "6b662a42",
   "metadata": {
    "pycharm": {
     "name": "#%%\n"
    }
   },
   "outputs": [
    {
     "name": "stdout",
     "output_type": "stream",
     "text": [
      "(800, 20)\n",
      "800\n",
      "(200, 20)\n",
      "200\n"
     ]
    }
   ],
   "source": [
    "print(X_train.shape)\n",
    "print(len(y_train))\n",
    "\n",
    "print(X_test.shape)\n",
    "print(len(y_test))"
   ]
  },
  {
   "cell_type": "code",
   "execution_count": 14,
   "id": "6be32fbf",
   "metadata": {
    "pycharm": {
     "name": "#%%\n"
    }
   },
   "outputs": [
    {
     "data": {
      "text/plain": [
       "(array([0, 1]), array([559, 241]))"
      ]
     },
     "execution_count": 14,
     "metadata": {},
     "output_type": "execute_result"
    }
   ],
   "source": [
    "np.unique(y_train, return_counts=True)"
   ]
  },
  {
   "cell_type": "code",
   "execution_count": 15,
   "id": "4ae98fe8",
   "metadata": {
    "pycharm": {
     "name": "#%%\n"
    }
   },
   "outputs": [
    {
     "data": {
      "text/plain": [
       "array([0.69875, 0.30125])"
      ]
     },
     "execution_count": 15,
     "metadata": {},
     "output_type": "execute_result"
    }
   ],
   "source": [
    "np.unique(y_train, return_counts=True)[1] / np.sum(np.unique(y_train, return_counts=True)[1])"
   ]
  },
  {
   "cell_type": "code",
   "execution_count": 16,
   "id": "49e4004b",
   "metadata": {
    "pycharm": {
     "name": "#%%\n"
    }
   },
   "outputs": [
    {
     "data": {
      "text/plain": [
       "array([0.705, 0.295])"
      ]
     },
     "execution_count": 16,
     "metadata": {},
     "output_type": "execute_result"
    }
   ],
   "source": [
    "np.unique(y_test, return_counts=True)[1] / np.sum(np.unique(y_test, return_counts=True)[1])"
   ]
  },
  {
   "cell_type": "code",
   "execution_count": 17,
   "id": "76da3dc6",
   "metadata": {
    "pycharm": {
     "name": "#%%\n"
    }
   },
   "outputs": [],
   "source": [
    "import pickle\n",
    "\n",
    "with open('X_train.pkl', 'wb') as handle:\n",
    "    pickle.dump(X_train, handle)\n",
    "\n",
    "with open('X_test.pkl', 'wb') as handle:\n",
    "    pickle.dump(X_test, handle)\n",
    "\n",
    "with open('y_train.pkl', 'wb') as handle:\n",
    "    pickle.dump(y_train, handle)\n",
    "\n",
    "with open('y_test.pkl', 'wb') as handle:\n",
    "    pickle.dump(y_test, handle)"
   ]
  },
  {
   "cell_type": "markdown",
   "id": "370bce04",
   "metadata": {
    "pycharm": {
     "name": "#%% md\n"
    }
   },
   "source": [
    "# Exploratory\n",
    "\n",
    "Typically I would do an exploratory analysis here."
   ]
  },
  {
   "cell_type": "code",
   "execution_count": 18,
   "id": "c61b19cd",
   "metadata": {
    "pycharm": {
     "name": "#%%\n"
    }
   },
   "outputs": [
    {
     "data": {
      "text/html": [
       "<div>\n",
       "<style scoped>\n",
       "    .dataframe tbody tr th:only-of-type {\n",
       "        vertical-align: middle;\n",
       "    }\n",
       "\n",
       "    .dataframe tbody tr th {\n",
       "        vertical-align: top;\n",
       "    }\n",
       "\n",
       "    .dataframe thead th {\n",
       "        text-align: right;\n",
       "    }\n",
       "</style>\n",
       "<table border=\"1\" class=\"dataframe\">\n",
       "  <thead>\n",
       "    <tr style=\"text-align: right;\">\n",
       "      <th></th>\n",
       "      <th>checking_status</th>\n",
       "      <th>duration</th>\n",
       "      <th>credit_history</th>\n",
       "      <th>purpose</th>\n",
       "      <th>credit_amount</th>\n",
       "      <th>savings_status</th>\n",
       "      <th>employment</th>\n",
       "      <th>installment_commitment</th>\n",
       "      <th>personal_status</th>\n",
       "      <th>other_parties</th>\n",
       "      <th>residence_since</th>\n",
       "      <th>property_magnitude</th>\n",
       "      <th>age</th>\n",
       "      <th>other_payment_plans</th>\n",
       "      <th>housing</th>\n",
       "      <th>existing_credits</th>\n",
       "      <th>job</th>\n",
       "      <th>num_dependents</th>\n",
       "      <th>own_telephone</th>\n",
       "      <th>foreign_worker</th>\n",
       "    </tr>\n",
       "  </thead>\n",
       "  <tbody>\n",
       "    <tr>\n",
       "      <th>29</th>\n",
       "      <td>NaN</td>\n",
       "      <td>NaN</td>\n",
       "      <td>delayed previously</td>\n",
       "      <td>business</td>\n",
       "      <td>0.0</td>\n",
       "      <td>&lt;100</td>\n",
       "      <td>&gt;=7</td>\n",
       "      <td>3.0</td>\n",
       "      <td>male single</td>\n",
       "      <td>none</td>\n",
       "      <td>4.0</td>\n",
       "      <td>no known property</td>\n",
       "      <td>63.0</td>\n",
       "      <td>none</td>\n",
       "      <td>own</td>\n",
       "      <td>2.0</td>\n",
       "      <td>skilled</td>\n",
       "      <td>1.0</td>\n",
       "      <td>yes</td>\n",
       "      <td>yes</td>\n",
       "    </tr>\n",
       "    <tr>\n",
       "      <th>535</th>\n",
       "      <td>&gt;=200</td>\n",
       "      <td>21.0</td>\n",
       "      <td>critical/other existing credit</td>\n",
       "      <td>education</td>\n",
       "      <td>2319.0</td>\n",
       "      <td>&lt;100</td>\n",
       "      <td>&lt;1</td>\n",
       "      <td>2.0</td>\n",
       "      <td>male div/sep</td>\n",
       "      <td>none</td>\n",
       "      <td>1.0</td>\n",
       "      <td>car</td>\n",
       "      <td>33.0</td>\n",
       "      <td>none</td>\n",
       "      <td>rent</td>\n",
       "      <td>1.0</td>\n",
       "      <td>skilled</td>\n",
       "      <td>1.0</td>\n",
       "      <td>none</td>\n",
       "      <td>yes</td>\n",
       "    </tr>\n",
       "    <tr>\n",
       "      <th>695</th>\n",
       "      <td>no checking</td>\n",
       "      <td>6.0</td>\n",
       "      <td>existing paid</td>\n",
       "      <td>used car</td>\n",
       "      <td>1236.0</td>\n",
       "      <td>500&lt;=X&lt;1000</td>\n",
       "      <td>1&lt;=X&lt;4</td>\n",
       "      <td>2.0</td>\n",
       "      <td>male single</td>\n",
       "      <td>none</td>\n",
       "      <td>4.0</td>\n",
       "      <td>life insurance</td>\n",
       "      <td>50.0</td>\n",
       "      <td>none</td>\n",
       "      <td>rent</td>\n",
       "      <td>1.0</td>\n",
       "      <td>skilled</td>\n",
       "      <td>1.0</td>\n",
       "      <td>none</td>\n",
       "      <td>yes</td>\n",
       "    </tr>\n",
       "    <tr>\n",
       "      <th>557</th>\n",
       "      <td>no checking</td>\n",
       "      <td>21.0</td>\n",
       "      <td>no credits/all paid</td>\n",
       "      <td>new car</td>\n",
       "      <td>5003.0</td>\n",
       "      <td>no known savings</td>\n",
       "      <td>1&lt;=X&lt;4</td>\n",
       "      <td>1.0</td>\n",
       "      <td>female div/dep/mar</td>\n",
       "      <td>none</td>\n",
       "      <td>4.0</td>\n",
       "      <td>life insurance</td>\n",
       "      <td>29.0</td>\n",
       "      <td>bank</td>\n",
       "      <td>own</td>\n",
       "      <td>2.0</td>\n",
       "      <td>skilled</td>\n",
       "      <td>1.0</td>\n",
       "      <td>yes</td>\n",
       "      <td>yes</td>\n",
       "    </tr>\n",
       "    <tr>\n",
       "      <th>836</th>\n",
       "      <td>no checking</td>\n",
       "      <td>12.0</td>\n",
       "      <td>existing paid</td>\n",
       "      <td>radio/tv</td>\n",
       "      <td>886.0</td>\n",
       "      <td>no known savings</td>\n",
       "      <td>1&lt;=X&lt;4</td>\n",
       "      <td>4.0</td>\n",
       "      <td>female div/dep/mar</td>\n",
       "      <td>none</td>\n",
       "      <td>2.0</td>\n",
       "      <td>car</td>\n",
       "      <td>21.0</td>\n",
       "      <td>none</td>\n",
       "      <td>own</td>\n",
       "      <td>1.0</td>\n",
       "      <td>skilled</td>\n",
       "      <td>1.0</td>\n",
       "      <td>none</td>\n",
       "      <td>yes</td>\n",
       "    </tr>\n",
       "  </tbody>\n",
       "</table>\n",
       "</div>"
      ],
      "text/plain": [
       "    checking_status  duration                  credit_history    purpose  \\\n",
       "29              NaN       NaN              delayed previously   business   \n",
       "535           >=200      21.0  critical/other existing credit  education   \n",
       "695     no checking       6.0                   existing paid   used car   \n",
       "557     no checking      21.0             no credits/all paid    new car   \n",
       "836     no checking      12.0                   existing paid   radio/tv   \n",
       "\n",
       "     credit_amount    savings_status employment  installment_commitment  \\\n",
       "29             0.0              <100        >=7                     3.0   \n",
       "535         2319.0              <100         <1                     2.0   \n",
       "695         1236.0       500<=X<1000     1<=X<4                     2.0   \n",
       "557         5003.0  no known savings     1<=X<4                     1.0   \n",
       "836          886.0  no known savings     1<=X<4                     4.0   \n",
       "\n",
       "        personal_status other_parties  residence_since property_magnitude  \\\n",
       "29          male single          none              4.0  no known property   \n",
       "535        male div/sep          none              1.0                car   \n",
       "695         male single          none              4.0     life insurance   \n",
       "557  female div/dep/mar          none              4.0     life insurance   \n",
       "836  female div/dep/mar          none              2.0                car   \n",
       "\n",
       "      age other_payment_plans housing  existing_credits      job  \\\n",
       "29   63.0                none     own               2.0  skilled   \n",
       "535  33.0                none    rent               1.0  skilled   \n",
       "695  50.0                none    rent               1.0  skilled   \n",
       "557  29.0                bank     own               2.0  skilled   \n",
       "836  21.0                none     own               1.0  skilled   \n",
       "\n",
       "     num_dependents own_telephone foreign_worker  \n",
       "29              1.0           yes            yes  \n",
       "535             1.0          none            yes  \n",
       "695             1.0          none            yes  \n",
       "557             1.0           yes            yes  \n",
       "836             1.0          none            yes  "
      ]
     },
     "execution_count": 18,
     "metadata": {},
     "output_type": "execute_result"
    }
   ],
   "source": [
    "X_train.head()"
   ]
  },
  {
   "cell_type": "code",
   "execution_count": 19,
   "id": "236e129e",
   "metadata": {
    "pycharm": {
     "name": "#%%\n"
    }
   },
   "outputs": [
    {
     "data": {
      "text/plain": [
       "array([1, 1, 0, 1, 0, 1, 0, 1, 1, 0])"
      ]
     },
     "execution_count": 19,
     "metadata": {},
     "output_type": "execute_result"
    }
   ],
   "source": [
    "y_train[0:10]"
   ]
  },
  {
   "cell_type": "code",
   "execution_count": 20,
   "id": "d5b39b21",
   "metadata": {},
   "outputs": [
    {
     "data": {
      "text/plain": [
       "0.30125"
      ]
     },
     "execution_count": 20,
     "metadata": {},
     "output_type": "execute_result"
    }
   ],
   "source": [
    "y_train.mean()"
   ]
  },
  {
   "cell_type": "code",
   "execution_count": 21,
   "id": "8135ca72",
   "metadata": {},
   "outputs": [
    {
     "data": {
      "text/plain": [
       "0.295"
      ]
     },
     "execution_count": 21,
     "metadata": {},
     "output_type": "execute_result"
    }
   ],
   "source": [
    "y_test.mean()"
   ]
  }
 ],
 "metadata": {
  "kernelspec": {
   "display_name": "Python 3 (ipykernel)",
   "language": "python",
   "name": "python3"
  },
  "language_info": {
   "codemirror_mode": {
    "name": "ipython",
    "version": 3
   },
   "file_extension": ".py",
   "mimetype": "text/x-python",
   "name": "python",
   "nbconvert_exporter": "python",
   "pygments_lexer": "ipython3",
   "version": "3.9.6"
  },
  "toc": {
   "base_numbering": 1,
   "nav_menu": {},
   "number_sections": false,
   "sideBar": true,
   "skip_h1_title": false,
   "title_cell": "Table of Contents",
   "title_sidebar": "Contents",
   "toc_cell": false,
   "toc_position": {
    "height": "calc(100% - 180px)",
    "left": "10px",
    "top": "150px",
    "width": "298px"
   },
   "toc_section_display": true,
   "toc_window_display": true
  }
 },
 "nbformat": 4,
 "nbformat_minor": 5
}
