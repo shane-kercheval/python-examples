{
 "cells": [
  {
   "cell_type": "markdown",
   "metadata": {},
   "source": [
    "The `geometric mean` is a measure of central tendency which represents the central number in a set of numbers by considering the **product** of their values (as opposed to the arithmetic mean, which uses their sum)."
   ]
  },
  {
   "cell_type": "markdown",
   "metadata": {},
   "source": [
    "The geometric mean is a statistical measure that is particularly useful in situations where you are dealing with quantities that have a multiplicative relationship. It is commonly used in various fields including finance, biology, engineering, and more. Here are some scenarios where using the geometric mean is appropriate:\n",
    "\n",
    "    Growth Rates and Compound Interest: When calculating growth rates or compound interest over multiple periods, the geometric mean is preferred. This is because it accurately reflects the compounding effect of growth over time, as opposed to the arithmetic mean, which doesn't account for compounding.\n",
    "\n",
    "    Average Rates of Change: If you're analyzing data that involves rates of change, such as percentage changes in stock prices or population growth rates, the geometric mean can provide a more representative average.\n",
    "\n",
    "    Data with Multiplicative Relationships: When dealing with quantities that interact multiplicatively, such as ratios, indices, and relative changes, the geometric mean is more appropriate. For example, if you want to find the average rate of return for an investment over several periods, you would use the geometric mean.\n",
    "\n",
    "    Normalized Data: If you're comparing values that have different scales and you want to remove the effect of scale differences, the geometric mean can be useful. It tends to give more balanced results when dealing with diverse data points.\n",
    "\n",
    "    Ratios and Proportions: Situations where you're dealing with ratios or proportions, like in analyzing scientific measurements, the geometric mean can provide a more accurate representation of the central tendency.\n",
    "\n",
    "    Certain Biological and Environmental Data: In some cases, biological and environmental data that involves growth rates, concentrations, or other multiplicative relationships are better analyzed using the geometric mean.\n",
    "\n",
    "It's important to note that the geometric mean can be sensitive to extreme values. A single very large or very small value in the dataset can heavily influence the geometric mean. Additionally, the geometric mean is not suitable for data that includes negative values, as it involves the calculation of logarithms.\n",
    "\n",
    "If you're dealing with data that doesn't have a clear multiplicative relationship or you're unsure whether the geometric mean is appropriate, it's a good idea to consider other measures of central tendency like the arithmetic mean or the median. The choice of which measure to use ultimately depends on the nature of your data and the specific goals of your analysis."
   ]
  },
  {
   "cell_type": "code",
   "execution_count": 13,
   "metadata": {},
   "outputs": [
    {
     "name": "stdout",
     "output_type": "stream",
     "text": [
      "Arithmetic Mean of Growth Rates: 8.33%\n",
      "Investment using Arithmetic Mean after 3 years: $127.14\n",
      "Geometric Mean: 1.0784\n",
      "Investment using Geometric Mean after 3 years:  $125.40\n",
      "Investment with Actual Growth after 3 years:    $125.40\n"
     ]
    }
   ],
   "source": [
    "import numpy as np\n",
    "\n",
    "# Given annual growth rates\n",
    "growth_rates = [0.10, 0.20, -0.05]\n",
    "\n",
    "# Compute arithmetic mean\n",
    "arithmetic_mean = sum(growth_rates) / len(growth_rates)\n",
    "\n",
    "# Compute compounded growth for an initial investment of $100\n",
    "initial_investment = 100\n",
    "investment_using_arithmetic_mean = initial_investment\n",
    "for rate in growth_rates:\n",
    "    investment_using_arithmetic_mean += investment_using_arithmetic_mean * arithmetic_mean\n",
    "\n",
    "investment_with_actual_growth = initial_investment\n",
    "for rate in growth_rates:\n",
    "    investment_with_actual_growth *= (1 + rate)\n",
    "\n",
    "geometric_mean = np.prod(np.array([1 + r for r in growth_rates]))**(1/len(growth_rates))\n",
    "\n",
    "investment_using_geometric_mean = initial_investment\n",
    "for rate in growth_rates:\n",
    "    investment_using_geometric_mean *= geometric_mean\n",
    "\n",
    "\n",
    "# Print results\n",
    "print(f\"Arithmetic Mean of Growth Rates: {arithmetic_mean*100:.2f}%\")\n",
    "print(f\"Investment using Arithmetic Mean after 3 years: ${investment_using_arithmetic_mean:.2f}\")\n",
    "print(f\"Geometric Mean: {geometric_mean:.4f}\")\n",
    "print(f\"Investment using Geometric Mean after 3 years:  ${investment_using_geometric_mean:.2f}\")\n",
    "print(f\"Investment with Actual Growth after 3 years:    ${investment_with_actual_growth:.2f}\")"
   ]
  },
  {
   "cell_type": "code",
   "execution_count": 9,
   "metadata": {},
   "outputs": [
    {
     "data": {
      "text/plain": [
       "array([1.1 , 1.2 , 0.95])"
      ]
     },
     "execution_count": 9,
     "metadata": {},
     "output_type": "execute_result"
    }
   ],
   "source": [
    "np.array([1 + r for r in growth_rates])"
   ]
  },
  {
   "cell_type": "code",
   "execution_count": 10,
   "metadata": {},
   "outputs": [
    {
     "name": "stdout",
     "output_type": "stream",
     "text": [
      "Geometric Mean: 1.0784\n"
     ]
    }
   ],
   "source": [
    "import numpy as np\n",
    "\n",
    "\n",
    "geometric_mean = np.prod(np.array([1 + r for r in growth_rates]))**(1/len(growth_rates))\n",
    "print(f\"Geometric Mean: {geometric_mean:.4f}\")"
   ]
  },
  {
   "cell_type": "code",
   "execution_count": null,
   "metadata": {},
   "outputs": [],
   "source": []
  }
 ],
 "metadata": {
  "kernelspec": {
   "display_name": "Python 3",
   "language": "python",
   "name": "python3"
  },
  "language_info": {
   "codemirror_mode": {
    "name": "ipython",
    "version": 3
   },
   "file_extension": ".py",
   "mimetype": "text/x-python",
   "name": "python",
   "nbconvert_exporter": "python",
   "pygments_lexer": "ipython3",
   "version": "3.10.12"
  },
  "orig_nbformat": 4
 },
 "nbformat": 4,
 "nbformat_minor": 2
}
