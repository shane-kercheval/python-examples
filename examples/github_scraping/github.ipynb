{
 "cells": [
  {
   "cell_type": "code",
   "execution_count": 3,
   "metadata": {},
   "outputs": [],
   "source": [
    "# This is needed because openai.text_completion calls asynchronous functions but \n",
    "# Jupyter is already running its own event loop.\n",
    "import os\n",
    "from pathlib import Path\n",
    "import pandas as pd\n",
    "\n",
    "import nest_asyncio\n",
    "nest_asyncio.apply()\n",
    "\n",
    "import github as gh\n",
    "\n",
    "\n",
    "with open(os.path.join(Path.home(), '.github_token'), 'r') as handle:\n",
    "    GITHUB_TOKEN = handle.read()"
   ]
  },
  {
   "cell_type": "code",
   "execution_count": 17,
   "metadata": {},
   "outputs": [
    {
     "name": "stdout",
     "output_type": "stream",
     "text": [
      "We have a rate limit of 5,000 requests, with 4,959 available\n",
      "The rate limit resets at: 2023-04-10T19:06:21\n"
     ]
    }
   ],
   "source": [
    "rate_limits = gh.get_rate_limits(token=GITHUB_TOKEN)\n",
    "print(f\"We have a rate limit of {rate_limits['limit']:,} requests, with {rate_limits['remaining']:,} available\")  # noqa\n",
    "print(f\"The rate limit resets at: {rate_limits['reset_time']}\")"
   ]
  },
  {
   "cell_type": "code",
   "execution_count": 2,
   "metadata": {},
   "outputs": [],
   "source": [
    "github_urls = [\n",
    "    'https://github.com/scikit-learn/scikit-learn/',\n",
    "    'https://github.com/scikit-learn-contrib/imbalanced-learn',\n",
    "    'https://github.com/pandas-dev/pandas',\n",
    "]"
   ]
  },
  {
   "cell_type": "code",
   "execution_count": 6,
   "metadata": {},
   "outputs": [
    {
     "data": {
      "text/plain": [
       "['https://github.com/scikit-learn/scikit-learn',\n",
       " 'https://github.com/scikit-learn-contrib/imbalanced-learn',\n",
       " 'https://github.com/pandas-dev/pandas']"
      ]
     },
     "execution_count": 6,
     "metadata": {},
     "output_type": "execute_result"
    }
   ],
   "source": [
    "github_urls = [gh.clean_github_url(x) for x in github_urls]\n",
    "github_urls"
   ]
  },
  {
   "cell_type": "code",
   "execution_count": 8,
   "metadata": {},
   "outputs": [
    {
     "data": {
      "text/plain": [
       "[('scikit-learn', 'scikit-learn'),\n",
       " ('scikit-learn-contrib', 'imbalanced-learn'),\n",
       " ('pandas-dev', 'pandas')]"
      ]
     },
     "execution_count": 8,
     "metadata": {},
     "output_type": "execute_result"
    }
   ],
   "source": [
    "user_repo_names = [gh.extract_username_reponame(x) for x in github_urls]\n",
    "user_repo_names"
   ]
  },
  {
   "cell_type": "code",
   "execution_count": 9,
   "metadata": {},
   "outputs": [
    {
     "data": {
      "text/plain": [
       "[{'user_name': 'scikit-learn', 'repo_name': 'scikit-learn'},\n",
       " {'user_name': 'scikit-learn-contrib', 'repo_name': 'imbalanced-learn'},\n",
       " {'user_name': 'pandas-dev', 'repo_name': 'pandas'}]"
      ]
     },
     "execution_count": 9,
     "metadata": {},
     "output_type": "execute_result"
    }
   ],
   "source": [
    "user_repo_arguments = [dict(user_name=u, repo_name=r) for u, r in user_repo_names]\n",
    "user_repo_arguments"
   ]
  },
  {
   "cell_type": "code",
   "execution_count": 13,
   "metadata": {},
   "outputs": [
    {
     "name": "stdout",
     "output_type": "stream",
     "text": [
      "Timer Started: Attempting to extract metadata repos via `gh.get_github_metadata`\n",
      "Timer Finished (0.55 seconds)\n"
     ]
    },
    {
     "data": {
      "text/html": [
       "<div>\n",
       "<style scoped>\n",
       "    .dataframe tbody tr th:only-of-type {\n",
       "        vertical-align: middle;\n",
       "    }\n",
       "\n",
       "    .dataframe tbody tr th {\n",
       "        vertical-align: top;\n",
       "    }\n",
       "\n",
       "    .dataframe thead th {\n",
       "        text-align: right;\n",
       "    }\n",
       "</style>\n",
       "<table border=\"1\" class=\"dataframe\">\n",
       "  <thead>\n",
       "    <tr style=\"text-align: right;\">\n",
       "      <th></th>\n",
       "      <th>error</th>\n",
       "      <th>user_name</th>\n",
       "      <th>repo_name</th>\n",
       "      <th>url</th>\n",
       "      <th>description</th>\n",
       "      <th>owner_login</th>\n",
       "      <th>owner_type</th>\n",
       "      <th>homepage</th>\n",
       "      <th>topics</th>\n",
       "      <th>subscribers_count</th>\n",
       "      <th>stargazers_count</th>\n",
       "      <th>forks_count</th>\n",
       "      <th>default_branch</th>\n",
       "      <th>archived</th>\n",
       "      <th>response_header</th>\n",
       "    </tr>\n",
       "  </thead>\n",
       "  <tbody>\n",
       "    <tr>\n",
       "      <th>0</th>\n",
       "      <td>None</td>\n",
       "      <td>scikit-learn</td>\n",
       "      <td>scikit-learn</td>\n",
       "      <td>https://api.github.com/repos/scikit-learn/scik...</td>\n",
       "      <td>scikit-learn: machine learning in Python</td>\n",
       "      <td>scikit-learn</td>\n",
       "      <td>Organization</td>\n",
       "      <td>https://scikit-learn.org</td>\n",
       "      <td>[data-analysis, data-science, machine-learning...</td>\n",
       "      <td>2158</td>\n",
       "      <td>53747</td>\n",
       "      <td>24166</td>\n",
       "      <td>main</td>\n",
       "      <td>False</td>\n",
       "      <td>(Server, Date, Content-Type, Transfer-Encoding...</td>\n",
       "    </tr>\n",
       "    <tr>\n",
       "      <th>1</th>\n",
       "      <td>None</td>\n",
       "      <td>scikit-learn-contrib</td>\n",
       "      <td>imbalanced-learn</td>\n",
       "      <td>https://api.github.com/repos/scikit-learn-cont...</td>\n",
       "      <td>A Python Package to Tackle the Curse of Imbal...</td>\n",
       "      <td>scikit-learn-contrib</td>\n",
       "      <td>Organization</td>\n",
       "      <td>https://imbalanced-learn.org</td>\n",
       "      <td>[data-analysis, data-science, machine-learning...</td>\n",
       "      <td>144</td>\n",
       "      <td>6301</td>\n",
       "      <td>1231</td>\n",
       "      <td>master</td>\n",
       "      <td>False</td>\n",
       "      <td>(Server, Date, Content-Type, Transfer-Encoding...</td>\n",
       "    </tr>\n",
       "    <tr>\n",
       "      <th>2</th>\n",
       "      <td>None</td>\n",
       "      <td>pandas-dev</td>\n",
       "      <td>pandas</td>\n",
       "      <td>https://api.github.com/repos/pandas-dev/pandas</td>\n",
       "      <td>Flexible and powerful data analysis / manipula...</td>\n",
       "      <td>pandas-dev</td>\n",
       "      <td>Organization</td>\n",
       "      <td>https://pandas.pydata.org</td>\n",
       "      <td>[alignment, data-analysis, data-science, flexi...</td>\n",
       "      <td>1109</td>\n",
       "      <td>37889</td>\n",
       "      <td>16052</td>\n",
       "      <td>main</td>\n",
       "      <td>False</td>\n",
       "      <td>(Server, Date, Content-Type, Transfer-Encoding...</td>\n",
       "    </tr>\n",
       "  </tbody>\n",
       "</table>\n",
       "</div>"
      ],
      "text/plain": [
       "  error  ...                                    response_header\n",
       "0  None  ...  (Server, Date, Content-Type, Transfer-Encoding...\n",
       "1  None  ...  (Server, Date, Content-Type, Transfer-Encoding...\n",
       "2  None  ...  (Server, Date, Content-Type, Transfer-Encoding...\n",
       "\n",
       "[3 rows x 15 columns]"
      ]
     },
     "execution_count": 13,
     "metadata": {},
     "output_type": "execute_result"
    }
   ],
   "source": [
    "from helpsk.utility import Timer\n",
    "with Timer(f\"Attempting to extract metadata repos via `gh.get_github_metadata`\"):\n",
    "    results = await gh.run_async(\n",
    "        func=gh.get_github_metadata,\n",
    "        param_kwargs=user_repo_arguments,\n",
    "        token=GITHUB_TOKEN,\n",
    "    )\n",
    "\n",
    "results = pd.DataFrame(results)\n",
    "results"
   ]
  },
  {
   "cell_type": "code",
   "execution_count": 14,
   "metadata": {},
   "outputs": [
    {
     "data": {
      "text/plain": [
       "{'limit': 5000, 'remaining': 4959, 'reset_time': '2023-04-10T19:06:21'}"
      ]
     },
     "execution_count": 14,
     "metadata": {},
     "output_type": "execute_result"
    }
   ],
   "source": [
    "rate_limits = gh.get_rate_limits(token=GITHUB_TOKEN)\n",
    "print(f\"We have a rate limit of {rate_limits['limit']:,} requests, with {rate_limits['remaining']:,} available\")  # noqa\n",
    "print(f\"The rate limit resets at: {rate_limits['reset_time']}\")"
   ]
  },
  {
   "cell_type": "code",
   "execution_count": 18,
   "metadata": {},
   "outputs": [
    {
     "name": "stdout",
     "output_type": "stream",
     "text": [
      "Timer Started: Attempting to extract github readme URL via `gh.get_github_readme_url`\n",
      "Timer Finished (0.74 seconds)\n"
     ]
    },
    {
     "data": {
      "text/html": [
       "<div>\n",
       "<style scoped>\n",
       "    .dataframe tbody tr th:only-of-type {\n",
       "        vertical-align: middle;\n",
       "    }\n",
       "\n",
       "    .dataframe tbody tr th {\n",
       "        vertical-align: top;\n",
       "    }\n",
       "\n",
       "    .dataframe thead th {\n",
       "        text-align: right;\n",
       "    }\n",
       "</style>\n",
       "<table border=\"1\" class=\"dataframe\">\n",
       "  <thead>\n",
       "    <tr style=\"text-align: right;\">\n",
       "      <th></th>\n",
       "      <th>error</th>\n",
       "      <th>user_name</th>\n",
       "      <th>repo_name</th>\n",
       "      <th>url</th>\n",
       "      <th>readme_url</th>\n",
       "      <th>response_header</th>\n",
       "    </tr>\n",
       "  </thead>\n",
       "  <tbody>\n",
       "    <tr>\n",
       "      <th>0</th>\n",
       "      <td>None</td>\n",
       "      <td>scikit-learn</td>\n",
       "      <td>scikit-learn</td>\n",
       "      <td>https://api.github.com/repos/scikit-learn/scik...</td>\n",
       "      <td>https://raw.githubusercontent.com/scikit-learn...</td>\n",
       "      <td>(Server, Date, Content-Type, Transfer-Encoding...</td>\n",
       "    </tr>\n",
       "    <tr>\n",
       "      <th>1</th>\n",
       "      <td>None</td>\n",
       "      <td>scikit-learn-contrib</td>\n",
       "      <td>imbalanced-learn</td>\n",
       "      <td>https://api.github.com/repos/scikit-learn-cont...</td>\n",
       "      <td>https://raw.githubusercontent.com/scikit-learn...</td>\n",
       "      <td>(Server, Date, Content-Type, Transfer-Encoding...</td>\n",
       "    </tr>\n",
       "    <tr>\n",
       "      <th>2</th>\n",
       "      <td>None</td>\n",
       "      <td>pandas-dev</td>\n",
       "      <td>pandas</td>\n",
       "      <td>https://api.github.com/repos/pandas-dev/pandas...</td>\n",
       "      <td>https://raw.githubusercontent.com/pandas-dev/p...</td>\n",
       "      <td>(Server, Date, Content-Type, Transfer-Encoding...</td>\n",
       "    </tr>\n",
       "  </tbody>\n",
       "</table>\n",
       "</div>"
      ],
      "text/plain": [
       "  error  ...                                    response_header\n",
       "0  None  ...  (Server, Date, Content-Type, Transfer-Encoding...\n",
       "1  None  ...  (Server, Date, Content-Type, Transfer-Encoding...\n",
       "2  None  ...  (Server, Date, Content-Type, Transfer-Encoding...\n",
       "\n",
       "[3 rows x 6 columns]"
      ]
     },
     "execution_count": 18,
     "metadata": {},
     "output_type": "execute_result"
    }
   ],
   "source": [
    "from helpsk.utility import Timer\n",
    "with Timer(f\"Attempting to extract github readme URL via `gh.get_github_readme_url`\"):\n",
    "    results = await gh.run_async(\n",
    "        func=gh.get_github_readme_url,\n",
    "        param_kwargs=user_repo_arguments,\n",
    "        token=GITHUB_TOKEN,\n",
    "    )\n",
    "\n",
    "results = pd.DataFrame(results)\n",
    "results"
   ]
  },
  {
   "cell_type": "code",
   "execution_count": 19,
   "metadata": {},
   "outputs": [
    {
     "name": "stdout",
     "output_type": "stream",
     "text": [
      "We have a rate limit of 5,000 requests, with 4,956 available\n",
      "The rate limit resets at: 2023-04-10T19:06:21\n"
     ]
    }
   ],
   "source": [
    "rate_limits = gh.get_rate_limits(token=GITHUB_TOKEN)\n",
    "print(f\"We have a rate limit of {rate_limits['limit']:,} requests, with {rate_limits['remaining']:,} available\")  # noqa\n",
    "print(f\"The rate limit resets at: {rate_limits['reset_time']}\")"
   ]
  },
  {
   "cell_type": "code",
   "execution_count": 20,
   "metadata": {},
   "outputs": [
    {
     "data": {
      "text/plain": [
       "['https://raw.githubusercontent.com/scikit-learn/scikit-learn/main/README.rst',\n",
       " 'https://raw.githubusercontent.com/scikit-learn-contrib/imbalanced-learn/master/README.rst',\n",
       " 'https://raw.githubusercontent.com/pandas-dev/pandas/main/README.md']"
      ]
     },
     "execution_count": 20,
     "metadata": {},
     "output_type": "execute_result"
    }
   ],
   "source": [
    "readme_urls = results['readme_url'].tolist()\n",
    "readme_urls"
   ]
  },
  {
   "cell_type": "code",
   "execution_count": 23,
   "metadata": {},
   "outputs": [
    {
     "data": {
      "text/plain": [
       "[{'url': 'https://raw.githubusercontent.com/scikit-learn/scikit-learn/main/README.rst'},\n",
       " {'url': 'https://raw.githubusercontent.com/scikit-learn-contrib/imbalanced-learn/master/README.rst'},\n",
       " {'url': 'https://raw.githubusercontent.com/pandas-dev/pandas/main/README.md'}]"
      ]
     },
     "execution_count": 23,
     "metadata": {},
     "output_type": "execute_result"
    }
   ],
   "source": [
    "readme_arguments = [dict(url=x) for x in readme_urls]\n",
    "readme_arguments"
   ]
  },
  {
   "cell_type": "code",
   "execution_count": 24,
   "metadata": {},
   "outputs": [
    {
     "name": "stdout",
     "output_type": "stream",
     "text": [
      "Timer Started: Attempting to extract github readme via `gh.get_github_readme_contents`\n",
      "Timer Finished (0.48 seconds)\n"
     ]
    },
    {
     "data": {
      "text/html": [
       "<div>\n",
       "<style scoped>\n",
       "    .dataframe tbody tr th:only-of-type {\n",
       "        vertical-align: middle;\n",
       "    }\n",
       "\n",
       "    .dataframe tbody tr th {\n",
       "        vertical-align: top;\n",
       "    }\n",
       "\n",
       "    .dataframe thead th {\n",
       "        text-align: right;\n",
       "    }\n",
       "</style>\n",
       "<table border=\"1\" class=\"dataframe\">\n",
       "  <thead>\n",
       "    <tr style=\"text-align: right;\">\n",
       "      <th></th>\n",
       "      <th>error</th>\n",
       "      <th>url</th>\n",
       "      <th>readme</th>\n",
       "      <th>response_header</th>\n",
       "    </tr>\n",
       "  </thead>\n",
       "  <tbody>\n",
       "    <tr>\n",
       "      <th>0</th>\n",
       "      <td>None</td>\n",
       "      <td>https://raw.githubusercontent.com/scikit-learn...</td>\n",
       "      <td>.. -*- mode: rst -*-\\n\\n|Azure|_ |CirrusCI|_ |...</td>\n",
       "      <td>(Connection, Content-Length, Cache-Control, Co...</td>\n",
       "    </tr>\n",
       "    <tr>\n",
       "      <th>1</th>\n",
       "      <td>None</td>\n",
       "      <td>https://raw.githubusercontent.com/scikit-learn...</td>\n",
       "      <td>.. -*- mode: rst -*-\\n\\n.. _scikit-learn: http...</td>\n",
       "      <td>(Connection, Content-Length, Cache-Control, Co...</td>\n",
       "    </tr>\n",
       "    <tr>\n",
       "      <th>2</th>\n",
       "      <td>None</td>\n",
       "      <td>https://raw.githubusercontent.com/pandas-dev/p...</td>\n",
       "      <td>&lt;div align=\"center\"&gt;\\n  &lt;img src=\"https://pand...</td>\n",
       "      <td>(Connection, Content-Length, Cache-Control, Co...</td>\n",
       "    </tr>\n",
       "  </tbody>\n",
       "</table>\n",
       "</div>"
      ],
      "text/plain": [
       "  error  ...                                    response_header\n",
       "0  None  ...  (Connection, Content-Length, Cache-Control, Co...\n",
       "1  None  ...  (Connection, Content-Length, Cache-Control, Co...\n",
       "2  None  ...  (Connection, Content-Length, Cache-Control, Co...\n",
       "\n",
       "[3 rows x 4 columns]"
      ]
     },
     "execution_count": 24,
     "metadata": {},
     "output_type": "execute_result"
    }
   ],
   "source": [
    "from helpsk.utility import Timer\n",
    "with Timer(f\"Attempting to extract github readme via `gh.get_github_readme_contents`\"):\n",
    "    results = await gh.run_async(\n",
    "        func=gh.get_github_readme_contents,\n",
    "        param_kwargs=readme_arguments,\n",
    "        token=GITHUB_TOKEN,\n",
    "    )\n",
    "\n",
    "results = pd.DataFrame(results)\n",
    "results"
   ]
  },
  {
   "cell_type": "code",
   "execution_count": 28,
   "metadata": {},
   "outputs": [
    {
     "name": "stdout",
     "output_type": "stream",
     "text": [
      "<div align=\"center\">\n",
      "  <img src=\"https://pandas.pydata.org/static/img/pandas.svg\"><br>\n",
      "</div>\n",
      "\n",
      "-----------------\n",
      "\n",
      "# pandas: powerful Python data analysis toolkit\n",
      "[![PyPI Latest Release](https://img.shields.io/pypi/v/pandas.svg)](https://pypi.org/project/pandas/)\n",
      "[![Conda Latest Release](https://anaconda.org/conda-forge/pandas/badges/version.svg)](https://anaconda.org/anaconda/pandas/)\n",
      "[![DOI](https://zenodo.org/badge/DOI/10.5281/zenodo.3509134.svg)](https://doi.org/10.5281/zenodo.3509134)\n",
      "[![Package Status](https://img.shields.io/pypi/status/pandas.svg)](https://pypi.org/project/pandas/)\n",
      "[![License](https://img.shields.io/pypi/l/pandas.svg)](https://github.com/pandas-dev/pandas/blob/main/LICENSE)\n",
      "[![Coverage](https://codecov.io/github/pandas-dev/pandas/coverage.svg?branch=main)](https://codecov.io/gh/pandas-dev/pandas)\n",
      "[![Downloads](https://static.pepy.tech/personalized-badge/pandas?period=month&units=international_system&left_color=black&right_color=orange&left_text=PyPI%20downloads%20per%20month)](https://pepy.tech/project/pandas)\n",
      "[![Slack](https://img.shields.io/badge/join_Slack-information-brightgreen.svg?logo=slack)](https://pandas.pydata.org/docs/dev/development/community.html?highlight=slack#community-slack)\n",
      "[![Powered by NumFOCUS](https://img.shields.io/badge/powered%20by-NumFOCUS-orange.svg?style=flat&colorA=E1523D&colorB=007D8A)](https://numfocus.org)\n",
      "[![Code style: black](https://img.shields.io/badge/code%20style-black-000000.svg)](https://github.com/psf/black)\n",
      "[![Imports: isort](https://img.shields.io/badge/%20imports-isort-%231674b1?style=flat&labelColor=ef8336)](https://pycqa.github.io/isort/)\n",
      "\n",
      "## What is it?\n",
      "\n",
      "**pandas** is a Python package that provides fast, flexible, and expressive data\n",
      "structures designed to make working with \"relational\" or \"labeled\" data both\n",
      "easy and intuitive. It aims to be the fundamental high-level building block for\n",
      "doing practical, **real world** data analysis in Python. Additionally, it has\n",
      "the broader goal of becoming **the most powerful and flexible open source data\n",
      "analysis / manipulation tool available in any language**. It is already well on\n",
      "its way towards this goal.\n",
      "\n",
      "## Main Features\n",
      "Here are just a few of the things that pandas does well:\n",
      "\n",
      "  - Easy handling of [**missing data**][missing-data] (represented as\n",
      "    `NaN`, `NA`, or `NaT`) in floating point as well as non-floating point data\n",
      "  - Size mutability: columns can be [**inserted and\n",
      "    deleted**][insertion-deletion] from DataFrame and higher dimensional\n",
      "    objects\n",
      "  - Automatic and explicit [**data alignment**][alignment]: objects can\n",
      "    be explicitly aligned to a set of labels, or the user can simply\n",
      "    ignore the labels and let `Series`, `DataFrame`, etc. automatically\n",
      "    align the data for you in computations\n",
      "  - Powerful, flexible [**group by**][groupby] functionality to perform\n",
      "    split-apply-combine operations on data sets, for both aggregating\n",
      "    and transforming data\n",
      "  - Make it [**easy to convert**][conversion] ragged,\n",
      "    differently-indexed data in other Python and NumPy data structures\n",
      "    into DataFrame objects\n",
      "  - Intelligent label-based [**slicing**][slicing], [**fancy\n",
      "    indexing**][fancy-indexing], and [**subsetting**][subsetting] of\n",
      "    large data sets\n",
      "  - Intuitive [**merging**][merging] and [**joining**][joining] data\n",
      "    sets\n",
      "  - Flexible [**reshaping**][reshape] and [**pivoting**][pivot-table] of\n",
      "    data sets\n",
      "  - [**Hierarchical**][mi] labeling of axes (possible to have multiple\n",
      "    labels per tick)\n",
      "  - Robust IO tools for loading data from [**flat files**][flat-files]\n",
      "    (CSV and delimited), [**Excel files**][excel], [**databases**][db],\n",
      "    and saving/loading data from the ultrafast [**HDF5 format**][hdfstore]\n",
      "  - [**Time series**][timeseries]-specific functionality: date range\n",
      "    generation and frequency conversion, moving window statistics,\n",
      "    date shifting and lagging\n",
      "\n",
      "\n",
      "   [missing-data]: https://pandas.pydata.org/pandas-docs/stable/user_guide/missing_data.html\n",
      "   [insertion-deletion]: https://pandas.pydata.org/pandas-docs/stable/user_guide/dsintro.html#column-selection-addition-deletion\n",
      "   [alignment]: https://pandas.pydata.org/pandas-docs/stable/user_guide/dsintro.html?highlight=alignment#intro-to-data-structures\n",
      "   [groupby]: https://pandas.pydata.org/pandas-docs/stable/user_guide/groupby.html#group-by-split-apply-combine\n",
      "   [conversion]: https://pandas.pydata.org/pandas-docs/stable/user_guide/dsintro.html#dataframe\n",
      "   [slicing]: https://pandas.pydata.org/pandas-docs/stable/user_guide/indexing.html#slicing-ranges\n",
      "   [fancy-indexing]: https://pandas.pydata.org/pandas-docs/stable/user_guide/advanced.html#advanced\n",
      "   [subsetting]: https://pandas.pydata.org/pandas-docs/stable/user_guide/indexing.html#boolean-indexing\n",
      "   [merging]: https://pandas.pydata.org/pandas-docs/stable/user_guide/merging.html#database-style-dataframe-or-named-series-joining-merging\n",
      "   [joining]: https://pandas.pydata.org/pandas-docs/stable/user_guide/merging.html#joining-on-index\n",
      "   [reshape]: https://pandas.pydata.org/pandas-docs/stable/user_guide/reshaping.html\n",
      "   [pivot-table]: https://pandas.pydata.org/pandas-docs/stable/user_guide/reshaping.html\n",
      "   [mi]: https://pandas.pydata.org/pandas-docs/stable/user_guide/indexing.html#hierarchical-indexing-multiindex\n",
      "   [flat-files]: https://pandas.pydata.org/pandas-docs/stable/user_guide/io.html#csv-text-files\n",
      "   [excel]: https://pandas.pydata.org/pandas-docs/stable/user_guide/io.html#excel-files\n",
      "   [db]: https://pandas.pydata.org/pandas-docs/stable/user_guide/io.html#sql-queries\n",
      "   [hdfstore]: https://pandas.pydata.org/pandas-docs/stable/user_guide/io.html#hdf5-pytables\n",
      "   [timeseries]: https://pandas.pydata.org/pandas-docs/stable/user_guide/timeseries.html#time-series-date-functionality\n",
      "\n",
      "## Where to get it\n",
      "The source code is currently hosted on GitHub at:\n",
      "https://github.com/pandas-dev/pandas\n",
      "\n",
      "Binary installers for the latest released version are available at the [Python\n",
      "Package Index (PyPI)](https://pypi.org/project/pandas) and on [Conda](https://docs.conda.io/en/latest/).\n",
      "\n",
      "```sh\n",
      "# conda\n",
      "conda install -c conda-forge pandas\n",
      "```\n",
      "\n",
      "```sh\n",
      "# or PyPI\n",
      "pip install pandas\n",
      "```\n",
      "\n",
      "The list of changes to pandas between each release can be found\n",
      "[here](https://pandas.pydata.org/pandas-docs/stable/whatsnew/index.html). For full\n",
      "details, see the commit logs at https://github.com/pandas-dev/pandas.\n",
      "\n",
      "## Dependencies\n",
      "- [NumPy - Adds support for large, multi-dimensional arrays, matrices and high-level mathematical functions to operate on these arrays](https://www.numpy.org)\n",
      "- [python-dateutil - Provides powerful extensions to the standard datetime module](https://dateutil.readthedocs.io/en/stable/index.html)\n",
      "- [pytz - Brings the Olson tz database into Python which allows accurate and cross platform timezone calculations](https://github.com/stub42/pytz)\n",
      "\n",
      "See the [full installation instructions](https://pandas.pydata.org/pandas-docs/stable/install.html#dependencies) for minimum supported versions of required, recommended and optional dependencies.\n",
      "\n",
      "## Installation from sources\n",
      "To install pandas from source you need [Cython](https://cython.org/) in addition to the normal\n",
      "dependencies above. Cython can be installed from PyPI:\n",
      "\n",
      "```sh\n",
      "pip install cython\n",
      "```\n",
      "\n",
      "In the `pandas` directory (same one where you found this file after\n",
      "cloning the git repo), execute:\n",
      "\n",
      "```sh\n",
      "python setup.py install\n",
      "```\n",
      "\n",
      "or for installing in [development mode](https://pip.pypa.io/en/latest/cli/pip_install/#install-editable):\n",
      "\n",
      "\n",
      "```sh\n",
      "python -m pip install -e . --no-build-isolation --no-use-pep517\n",
      "```\n",
      "\n",
      "or alternatively\n",
      "\n",
      "```sh\n",
      "python setup.py develop\n",
      "```\n",
      "\n",
      "See the full instructions for [installing from source](https://pandas.pydata.org/pandas-docs/stable/getting_started/install.html#installing-from-source).\n",
      "\n",
      "## License\n",
      "[BSD 3](LICENSE)\n",
      "\n",
      "## Documentation\n",
      "The official documentation is hosted on PyData.org: https://pandas.pydata.org/pandas-docs/stable\n",
      "\n",
      "## Background\n",
      "Work on ``pandas`` started at [AQR](https://www.aqr.com/) (a quantitative hedge fund) in 2008 and\n",
      "has been under active development since then.\n",
      "\n",
      "## Getting Help\n",
      "\n",
      "For usage questions, the best place to go to is [StackOverflow](https://stackoverflow.com/questions/tagged/pandas).\n",
      "Further, general questions and discussions can also take place on the [pydata mailing list](https://groups.google.com/forum/?fromgroups#!forum/pydata).\n",
      "\n",
      "## Discussion and Development\n",
      "Most development discussions take place on GitHub in this repo. Further, the [pandas-dev mailing list](https://mail.python.org/mailman/listinfo/pandas-dev) can also be used for specialized discussions or design issues, and a [Slack channel](https://pandas.pydata.org/docs/dev/development/community.html?highlight=slack#community-slack) is available for quick development related questions.\n",
      "\n",
      "## Contributing to pandas [![Open Source Helpers](https://www.codetriage.com/pandas-dev/pandas/badges/users.svg)](https://www.codetriage.com/pandas-dev/pandas)\n",
      "\n",
      "All contributions, bug reports, bug fixes, documentation improvements, enhancements, and ideas are welcome.\n",
      "\n",
      "A detailed overview on how to contribute can be found in the **[contributing guide](https://pandas.pydata.org/docs/dev/development/contributing.html)**.\n",
      "\n",
      "If you are simply looking to start working with the pandas codebase, navigate to the [GitHub \"issues\" tab](https://github.com/pandas-dev/pandas/issues) and start looking through interesting issues. There are a number of issues listed under [Docs](https://github.com/pandas-dev/pandas/issues?labels=Docs&sort=updated&state=open) and [good first issue](https://github.com/pandas-dev/pandas/issues?labels=good+first+issue&sort=updated&state=open) where you could start out.\n",
      "\n",
      "You can also triage issues which may include reproducing bug reports, or asking for vital information such as version numbers or reproduction instructions. If you would like to start triaging issues, one easy way to get started is to [subscribe to pandas on CodeTriage](https://www.codetriage.com/pandas-dev/pandas).\n",
      "\n",
      "Or maybe through using pandas you have an idea of your own or are looking for something in the documentation and thinking ‘this can be improved’...you can do something about it!\n",
      "\n",
      "Feel free to ask questions on the [mailing list](https://groups.google.com/forum/?fromgroups#!forum/pydata) or on [Slack](https://pandas.pydata.org/docs/dev/development/community.html?highlight=slack#community-slack).\n",
      "\n",
      "As contributors and maintainers to this project, you are expected to abide by pandas' code of conduct. More information can be found at: [Contributor Code of Conduct](https://github.com/pandas-dev/.github/blob/master/CODE_OF_CONDUCT.md)\n",
      "\n"
     ]
    }
   ],
   "source": [
    "print(results.iloc[2]['readme'])"
   ]
  },
  {
   "cell_type": "code",
   "execution_count": null,
   "metadata": {},
   "outputs": [],
   "source": []
  },
  {
   "cell_type": "code",
   "execution_count": null,
   "metadata": {},
   "outputs": [],
   "source": []
  }
 ],
 "metadata": {
  "kernelspec": {
   "display_name": "package_recommendations",
   "language": "python",
   "name": "python3"
  },
  "language_info": {
   "codemirror_mode": {
    "name": "ipython",
    "version": 3
   },
   "file_extension": ".py",
   "mimetype": "text/x-python",
   "name": "python",
   "nbconvert_exporter": "python",
   "pygments_lexer": "ipython3",
   "version": "3.10.8"
  },
  "orig_nbformat": 4
 },
 "nbformat": 4,
 "nbformat_minor": 2
}
