{
 "cells": [
  {
   "cell_type": "markdown",
   "id": "564aa887",
   "metadata": {
    "pycharm": {
     "name": "#%% md\n"
    }
   },
   "source": [
    "This files creates the training and test datasets for all other notebooks and scripts to reuse. This is the file I would typically use for an exploratory analysis."
   ]
  },
  {
   "cell_type": "code",
   "execution_count": 1,
   "id": "ec01c1ce",
   "metadata": {
    "pycharm": {
     "name": "#%%\n"
    }
   },
   "outputs": [],
   "source": [
    "import pickle\n",
    "import time\n",
    "\n",
    "import numpy as np\n",
    "from sklearn.datasets import fetch_openml\n",
    "from sklearn.model_selection import train_test_split\n",
    "\n",
    "import helpsk as hlp\n",
    "\n",
    "%matplotlib inline"
   ]
  },
  {
   "cell_type": "markdown",
   "id": "f055efe1",
   "metadata": {},
   "source": [
    "# Load Data"
   ]
  },
  {
   "cell_type": "code",
   "execution_count": 2,
   "outputs": [
    {
     "name": "stdout",
     "output_type": "stream",
     "text": [
      "(20640, 9)\n"
     ]
    },
    {
     "data": {
      "text/plain": "   median_income  housing_median_age  total_rooms  total_bedrooms  population  \\\n0         8.3252                41.0        880.0           129.0       322.0   \n1         8.3014                21.0       7099.0          1106.0      2401.0   \n2         7.2574                52.0       1467.0           190.0       496.0   \n3         5.6431                52.0       1274.0           235.0       558.0   \n4         3.8462                52.0       1627.0           280.0       565.0   \n\n   households  latitude  longitude    target  \n0       126.0     37.88    -122.23  452600.0  \n1      1138.0     37.86    -122.22  358500.0  \n2       177.0     37.85    -122.24  352100.0  \n3       219.0     37.85    -122.25  341300.0  \n4       259.0     37.85    -122.25  342200.0  ",
      "text/html": "<div>\n<style scoped>\n    .dataframe tbody tr th:only-of-type {\n        vertical-align: middle;\n    }\n\n    .dataframe tbody tr th {\n        vertical-align: top;\n    }\n\n    .dataframe thead th {\n        text-align: right;\n    }\n</style>\n<table border=\"1\" class=\"dataframe\">\n  <thead>\n    <tr style=\"text-align: right;\">\n      <th></th>\n      <th>median_income</th>\n      <th>housing_median_age</th>\n      <th>total_rooms</th>\n      <th>total_bedrooms</th>\n      <th>population</th>\n      <th>households</th>\n      <th>latitude</th>\n      <th>longitude</th>\n      <th>target</th>\n    </tr>\n  </thead>\n  <tbody>\n    <tr>\n      <th>0</th>\n      <td>8.3252</td>\n      <td>41.0</td>\n      <td>880.0</td>\n      <td>129.0</td>\n      <td>322.0</td>\n      <td>126.0</td>\n      <td>37.88</td>\n      <td>-122.23</td>\n      <td>452600.0</td>\n    </tr>\n    <tr>\n      <th>1</th>\n      <td>8.3014</td>\n      <td>21.0</td>\n      <td>7099.0</td>\n      <td>1106.0</td>\n      <td>2401.0</td>\n      <td>1138.0</td>\n      <td>37.86</td>\n      <td>-122.22</td>\n      <td>358500.0</td>\n    </tr>\n    <tr>\n      <th>2</th>\n      <td>7.2574</td>\n      <td>52.0</td>\n      <td>1467.0</td>\n      <td>190.0</td>\n      <td>496.0</td>\n      <td>177.0</td>\n      <td>37.85</td>\n      <td>-122.24</td>\n      <td>352100.0</td>\n    </tr>\n    <tr>\n      <th>3</th>\n      <td>5.6431</td>\n      <td>52.0</td>\n      <td>1274.0</td>\n      <td>235.0</td>\n      <td>558.0</td>\n      <td>219.0</td>\n      <td>37.85</td>\n      <td>-122.25</td>\n      <td>341300.0</td>\n    </tr>\n    <tr>\n      <th>4</th>\n      <td>3.8462</td>\n      <td>52.0</td>\n      <td>1627.0</td>\n      <td>280.0</td>\n      <td>565.0</td>\n      <td>259.0</td>\n      <td>37.85</td>\n      <td>-122.25</td>\n      <td>342200.0</td>\n    </tr>\n  </tbody>\n</table>\n</div>"
     },
     "execution_count": 2,
     "metadata": {},
     "output_type": "execute_result"
    }
   ],
   "source": [
    "# https://www.openml.org/d/537\n",
    "housing_g = fetch_openml('houses', version=1)\n",
    "\n",
    "housing = housing_g['data']\n",
    "housing['target'] = housing_g['target']\n",
    "del housing_g\n",
    "\n",
    "print(housing.shape)\n",
    "housing.head()"
   ],
   "metadata": {
    "collapsed": false,
    "pycharm": {
     "name": "#%%\n"
    }
   }
  },
  {
   "cell_type": "code",
   "execution_count": 3,
   "id": "efce506d",
   "metadata": {
    "pycharm": {
     "name": "#%%\n"
    }
   },
   "outputs": [],
   "source": [
    "## Create Missing Values\n",
    "housing['median_income'].iloc[0:46] = np.nan\n",
    "housing['housing_median_age'].iloc[25:75] = np.nan\n",
    "housing['total_rooms'].iloc[10:54] = 0"
   ]
  },
  {
   "cell_type": "code",
   "execution_count": 4,
   "id": "ebea0c53",
   "metadata": {
    "pycharm": {
     "name": "#%%\n"
    }
   },
   "outputs": [
    {
     "data": {
      "text/plain": "<pandas.io.formats.style.Styler at 0x7faa51f3e1c0>",
      "text/html": "<style type=\"text/css\">\n#T_b3503_row0_col1, #T_b3503_row1_col1, #T_b3503_row2_col3 {\n  background-color: #EBB13E;\n}\n#T_b3503_row0_col2, #T_b3503_row0_col4, #T_b3503_row1_col2, #T_b3503_row1_col4, #T_b3503_row2_col2, #T_b3503_row2_col4, #T_b3503_row3_col2, #T_b3503_row3_col4, #T_b3503_row4_col2, #T_b3503_row4_col4, #T_b3503_row5_col2, #T_b3503_row5_col4, #T_b3503_row6_col2, #T_b3503_row6_col4, #T_b3503_row7_col2, #T_b3503_row7_col4, #T_b3503_row7_col7, #T_b3503_row8_col2, #T_b3503_row8_col4 {\n  width: 10em;\n  height: 80%;\n}\n#T_b3503_row0_col7 {\n  width: 10em;\n  height: 80%;\n  background: linear-gradient(90deg,#B4B7B9 49.0%, transparent 49.0%);\n}\n#T_b3503_row0_col8 {\n  width: 10em;\n  height: 80%;\n  background: linear-gradient(90deg, transparent 50.0%, #B4B7B9 50.0%, #B4B7B9 91.2%, transparent 91.2%);\n}\n#T_b3503_row1_col7 {\n  width: 10em;\n  height: 80%;\n  background: linear-gradient(90deg,#B4B7B9 44.0%, transparent 44.0%);\n}\n#T_b3503_row1_col8 {\n  width: 10em;\n  height: 80%;\n  background: linear-gradient(90deg, transparent 50.0%, #B4B7B9 50.0%, #B4B7B9 51.5%, transparent 51.5%);\n}\n#T_b3503_row2_col7 {\n  width: 10em;\n  height: 80%;\n  background: linear-gradient(90deg,#B4B7B9 83.0%, transparent 83.0%);\n}\n#T_b3503_row2_col8, #T_b3503_row3_col8, #T_b3503_row4_col8, #T_b3503_row5_col8 {\n  width: 10em;\n  height: 80%;\n  background: linear-gradient(90deg, transparent 50.0%, #B4B7B9 50.0%, #B4B7B9 100.0%, transparent 100.0%);\n}\n#T_b3503_row3_col7 {\n  width: 10em;\n  height: 80%;\n  background: linear-gradient(90deg,#B4B7B9 78.0%, transparent 78.0%);\n}\n#T_b3503_row4_col7 {\n  width: 10em;\n  height: 80%;\n  background: linear-gradient(90deg,#B4B7B9 79.0%, transparent 79.0%);\n}\n#T_b3503_row5_col7 {\n  width: 10em;\n  height: 80%;\n  background: linear-gradient(90deg,#B4B7B9 77.0%, transparent 77.0%);\n}\n#T_b3503_row6_col7 {\n  width: 10em;\n  height: 80%;\n  background: linear-gradient(90deg,#B4B7B9 6.0%, transparent 6.0%);\n}\n#T_b3503_row6_col8 {\n  width: 10em;\n  height: 80%;\n  background: linear-gradient(90deg, transparent 50.0%, #B4B7B9 50.0%, #B4B7B9 61.7%, transparent 61.7%);\n}\n#T_b3503_row7_col8 {\n  width: 10em;\n  height: 80%;\n  background: linear-gradient(90deg, transparent 42.5%, #B4B7B9 42.5%, #B4B7B9 50.0%, transparent 50.0%);\n}\n#T_b3503_row8_col7 {\n  width: 10em;\n  height: 80%;\n  background: linear-gradient(90deg,#B4B7B9 56.0%, transparent 56.0%);\n}\n#T_b3503_row8_col8 {\n  width: 10em;\n  height: 80%;\n  background: linear-gradient(90deg, transparent 50.0%, #B4B7B9 50.0%, #B4B7B9 74.5%, transparent 74.5%);\n}\n</style>\n<table id=\"T_b3503_\">\n  <thead>\n    <tr>\n      <th class=\"blank level0\" >&nbsp;</th>\n      <th class=\"col_heading level0 col0\" ># of Non-Nulls</th>\n      <th class=\"col_heading level0 col1\" ># of Nulls</th>\n      <th class=\"col_heading level0 col2\" >% Nulls</th>\n      <th class=\"col_heading level0 col3\" ># of Zeros</th>\n      <th class=\"col_heading level0 col4\" >% Zeros</th>\n      <th class=\"col_heading level0 col5\" >Mean</th>\n      <th class=\"col_heading level0 col6\" >St Dev.</th>\n      <th class=\"col_heading level0 col7\" >Coef of Var</th>\n      <th class=\"col_heading level0 col8\" >Skewness</th>\n      <th class=\"col_heading level0 col9\" >Kurtosis</th>\n      <th class=\"col_heading level0 col10\" >Min</th>\n      <th class=\"col_heading level0 col11\" >10%</th>\n      <th class=\"col_heading level0 col12\" >25%</th>\n      <th class=\"col_heading level0 col13\" >50%</th>\n      <th class=\"col_heading level0 col14\" >75%</th>\n      <th class=\"col_heading level0 col15\" >90%</th>\n      <th class=\"col_heading level0 col16\" >Max</th>\n    </tr>\n  </thead>\n  <tbody>\n    <tr>\n      <th id=\"T_b3503_level0_row0\" class=\"row_heading level0 row0\" >median_income</th>\n      <td id=\"T_b3503_row0_col0\" class=\"data row0 col0\" >20,594</td>\n      <td id=\"T_b3503_row0_col1\" class=\"data row0 col1\" >46</td>\n      <td id=\"T_b3503_row0_col2\" class=\"data row0 col2\" >0.0%</td>\n      <td id=\"T_b3503_row0_col3\" class=\"data row0 col3\" >0</td>\n      <td id=\"T_b3503_row0_col4\" class=\"data row0 col4\" >0.0%</td>\n      <td id=\"T_b3503_row0_col5\" class=\"data row0 col5\" >3.9</td>\n      <td id=\"T_b3503_row0_col6\" class=\"data row0 col6\" >1.9</td>\n      <td id=\"T_b3503_row0_col7\" class=\"data row0 col7\" >0.5</td>\n      <td id=\"T_b3503_row0_col8\" class=\"data row0 col8\" >1.6</td>\n      <td id=\"T_b3503_row0_col9\" class=\"data row0 col9\" >5.0</td>\n      <td id=\"T_b3503_row0_col10\" class=\"data row0 col10\" >0.5</td>\n      <td id=\"T_b3503_row0_col11\" class=\"data row0 col11\" >1.9</td>\n      <td id=\"T_b3503_row0_col12\" class=\"data row0 col12\" >2.6</td>\n      <td id=\"T_b3503_row0_col13\" class=\"data row0 col13\" >3.5</td>\n      <td id=\"T_b3503_row0_col14\" class=\"data row0 col14\" >4.8</td>\n      <td id=\"T_b3503_row0_col15\" class=\"data row0 col15\" >6.2</td>\n      <td id=\"T_b3503_row0_col16\" class=\"data row0 col16\" >15.0</td>\n    </tr>\n    <tr>\n      <th id=\"T_b3503_level0_row1\" class=\"row_heading level0 row1\" >housing_median_age</th>\n      <td id=\"T_b3503_row1_col0\" class=\"data row1 col0\" >20,590</td>\n      <td id=\"T_b3503_row1_col1\" class=\"data row1 col1\" >50</td>\n      <td id=\"T_b3503_row1_col2\" class=\"data row1 col2\" >0.0%</td>\n      <td id=\"T_b3503_row1_col3\" class=\"data row1 col3\" >0</td>\n      <td id=\"T_b3503_row1_col4\" class=\"data row1 col4\" >0.0%</td>\n      <td id=\"T_b3503_row1_col5\" class=\"data row1 col5\" >28.6</td>\n      <td id=\"T_b3503_row1_col6\" class=\"data row1 col6\" >12.6</td>\n      <td id=\"T_b3503_row1_col7\" class=\"data row1 col7\" >0.4</td>\n      <td id=\"T_b3503_row1_col8\" class=\"data row1 col8\" >0.1</td>\n      <td id=\"T_b3503_row1_col9\" class=\"data row1 col9\" >-0.8</td>\n      <td id=\"T_b3503_row1_col10\" class=\"data row1 col10\" >1.0</td>\n      <td id=\"T_b3503_row1_col11\" class=\"data row1 col11\" >12.0</td>\n      <td id=\"T_b3503_row1_col12\" class=\"data row1 col12\" >18.0</td>\n      <td id=\"T_b3503_row1_col13\" class=\"data row1 col13\" >29.0</td>\n      <td id=\"T_b3503_row1_col14\" class=\"data row1 col14\" >37.0</td>\n      <td id=\"T_b3503_row1_col15\" class=\"data row1 col15\" >46.0</td>\n      <td id=\"T_b3503_row1_col16\" class=\"data row1 col16\" >52.0</td>\n    </tr>\n    <tr>\n      <th id=\"T_b3503_level0_row2\" class=\"row_heading level0 row2\" >total_rooms</th>\n      <td id=\"T_b3503_row2_col0\" class=\"data row2 col0\" >20,640</td>\n      <td id=\"T_b3503_row2_col1\" class=\"data row2 col1\" >0</td>\n      <td id=\"T_b3503_row2_col2\" class=\"data row2 col2\" >0.0%</td>\n      <td id=\"T_b3503_row2_col3\" class=\"data row2 col3\" >44</td>\n      <td id=\"T_b3503_row2_col4\" class=\"data row2 col4\" >0.0%</td>\n      <td id=\"T_b3503_row2_col5\" class=\"data row2 col5\" >2,632.3</td>\n      <td id=\"T_b3503_row2_col6\" class=\"data row2 col6\" >2,184.3</td>\n      <td id=\"T_b3503_row2_col7\" class=\"data row2 col7\" >0.8</td>\n      <td id=\"T_b3503_row2_col8\" class=\"data row2 col8\" >4.1</td>\n      <td id=\"T_b3503_row2_col9\" class=\"data row2 col9\" >32.5</td>\n      <td id=\"T_b3503_row2_col10\" class=\"data row2 col10\" >0.0</td>\n      <td id=\"T_b3503_row2_col11\" class=\"data row2 col11\" >932.0</td>\n      <td id=\"T_b3503_row2_col12\" class=\"data row2 col12\" >1,444.0</td>\n      <td id=\"T_b3503_row2_col13\" class=\"data row2 col13\" >2,125.0</td>\n      <td id=\"T_b3503_row2_col14\" class=\"data row2 col14\" >3,146.2</td>\n      <td id=\"T_b3503_row2_col15\" class=\"data row2 col15\" >4,651.5</td>\n      <td id=\"T_b3503_row2_col16\" class=\"data row2 col16\" >39,320.0</td>\n    </tr>\n    <tr>\n      <th id=\"T_b3503_level0_row3\" class=\"row_heading level0 row3\" >total_bedrooms</th>\n      <td id=\"T_b3503_row3_col0\" class=\"data row3 col0\" >20,640</td>\n      <td id=\"T_b3503_row3_col1\" class=\"data row3 col1\" >0</td>\n      <td id=\"T_b3503_row3_col2\" class=\"data row3 col2\" >0.0%</td>\n      <td id=\"T_b3503_row3_col3\" class=\"data row3 col3\" >0</td>\n      <td id=\"T_b3503_row3_col4\" class=\"data row3 col4\" >0.0%</td>\n      <td id=\"T_b3503_row3_col5\" class=\"data row3 col5\" >537.9</td>\n      <td id=\"T_b3503_row3_col6\" class=\"data row3 col6\" >421.2</td>\n      <td id=\"T_b3503_row3_col7\" class=\"data row3 col7\" >0.8</td>\n      <td id=\"T_b3503_row3_col8\" class=\"data row3 col8\" >3.5</td>\n      <td id=\"T_b3503_row3_col9\" class=\"data row3 col9\" >21.9</td>\n      <td id=\"T_b3503_row3_col10\" class=\"data row3 col10\" >1.0</td>\n      <td id=\"T_b3503_row3_col11\" class=\"data row3 col11\" >198.0</td>\n      <td id=\"T_b3503_row3_col12\" class=\"data row3 col12\" >295.0</td>\n      <td id=\"T_b3503_row3_col13\" class=\"data row3 col13\" >435.0</td>\n      <td id=\"T_b3503_row3_col14\" class=\"data row3 col14\" >647.0</td>\n      <td id=\"T_b3503_row3_col15\" class=\"data row3 col15\" >966.0</td>\n      <td id=\"T_b3503_row3_col16\" class=\"data row3 col16\" >6,445.0</td>\n    </tr>\n    <tr>\n      <th id=\"T_b3503_level0_row4\" class=\"row_heading level0 row4\" >population</th>\n      <td id=\"T_b3503_row4_col0\" class=\"data row4 col0\" >20,640</td>\n      <td id=\"T_b3503_row4_col1\" class=\"data row4 col1\" >0</td>\n      <td id=\"T_b3503_row4_col2\" class=\"data row4 col2\" >0.0%</td>\n      <td id=\"T_b3503_row4_col3\" class=\"data row4 col3\" >0</td>\n      <td id=\"T_b3503_row4_col4\" class=\"data row4 col4\" >0.0%</td>\n      <td id=\"T_b3503_row4_col5\" class=\"data row4 col5\" >1,425.5</td>\n      <td id=\"T_b3503_row4_col6\" class=\"data row4 col6\" >1,132.5</td>\n      <td id=\"T_b3503_row4_col7\" class=\"data row4 col7\" >0.8</td>\n      <td id=\"T_b3503_row4_col8\" class=\"data row4 col8\" >4.9</td>\n      <td id=\"T_b3503_row4_col9\" class=\"data row4 col9\" >73.5</td>\n      <td id=\"T_b3503_row4_col10\" class=\"data row4 col10\" >3.0</td>\n      <td id=\"T_b3503_row4_col11\" class=\"data row4 col11\" >510.0</td>\n      <td id=\"T_b3503_row4_col12\" class=\"data row4 col12\" >787.0</td>\n      <td id=\"T_b3503_row4_col13\" class=\"data row4 col13\" >1,166.0</td>\n      <td id=\"T_b3503_row4_col14\" class=\"data row4 col14\" >1,725.0</td>\n      <td id=\"T_b3503_row4_col15\" class=\"data row4 col15\" >2,566.0</td>\n      <td id=\"T_b3503_row4_col16\" class=\"data row4 col16\" >35,682.0</td>\n    </tr>\n    <tr>\n      <th id=\"T_b3503_level0_row5\" class=\"row_heading level0 row5\" >households</th>\n      <td id=\"T_b3503_row5_col0\" class=\"data row5 col0\" >20,640</td>\n      <td id=\"T_b3503_row5_col1\" class=\"data row5 col1\" >0</td>\n      <td id=\"T_b3503_row5_col2\" class=\"data row5 col2\" >0.0%</td>\n      <td id=\"T_b3503_row5_col3\" class=\"data row5 col3\" >0</td>\n      <td id=\"T_b3503_row5_col4\" class=\"data row5 col4\" >0.0%</td>\n      <td id=\"T_b3503_row5_col5\" class=\"data row5 col5\" >499.5</td>\n      <td id=\"T_b3503_row5_col6\" class=\"data row5 col6\" >382.3</td>\n      <td id=\"T_b3503_row5_col7\" class=\"data row5 col7\" >0.8</td>\n      <td id=\"T_b3503_row5_col8\" class=\"data row5 col8\" >3.4</td>\n      <td id=\"T_b3503_row5_col9\" class=\"data row5 col9\" >22.1</td>\n      <td id=\"T_b3503_row5_col10\" class=\"data row5 col10\" >1.0</td>\n      <td id=\"T_b3503_row5_col11\" class=\"data row5 col11\" >184.0</td>\n      <td id=\"T_b3503_row5_col12\" class=\"data row5 col12\" >280.0</td>\n      <td id=\"T_b3503_row5_col13\" class=\"data row5 col13\" >409.0</td>\n      <td id=\"T_b3503_row5_col14\" class=\"data row5 col14\" >605.0</td>\n      <td id=\"T_b3503_row5_col15\" class=\"data row5 col15\" >890.0</td>\n      <td id=\"T_b3503_row5_col16\" class=\"data row5 col16\" >6,082.0</td>\n    </tr>\n    <tr>\n      <th id=\"T_b3503_level0_row6\" class=\"row_heading level0 row6\" >latitude</th>\n      <td id=\"T_b3503_row6_col0\" class=\"data row6 col0\" >20,640</td>\n      <td id=\"T_b3503_row6_col1\" class=\"data row6 col1\" >0</td>\n      <td id=\"T_b3503_row6_col2\" class=\"data row6 col2\" >0.0%</td>\n      <td id=\"T_b3503_row6_col3\" class=\"data row6 col3\" >0</td>\n      <td id=\"T_b3503_row6_col4\" class=\"data row6 col4\" >0.0%</td>\n      <td id=\"T_b3503_row6_col5\" class=\"data row6 col5\" >35.6</td>\n      <td id=\"T_b3503_row6_col6\" class=\"data row6 col6\" >2.1</td>\n      <td id=\"T_b3503_row6_col7\" class=\"data row6 col7\" >0.1</td>\n      <td id=\"T_b3503_row6_col8\" class=\"data row6 col8\" >0.5</td>\n      <td id=\"T_b3503_row6_col9\" class=\"data row6 col9\" >-1.1</td>\n      <td id=\"T_b3503_row6_col10\" class=\"data row6 col10\" >32.5</td>\n      <td id=\"T_b3503_row6_col11\" class=\"data row6 col11\" >33.6</td>\n      <td id=\"T_b3503_row6_col12\" class=\"data row6 col12\" >33.9</td>\n      <td id=\"T_b3503_row6_col13\" class=\"data row6 col13\" >34.3</td>\n      <td id=\"T_b3503_row6_col14\" class=\"data row6 col14\" >37.7</td>\n      <td id=\"T_b3503_row6_col15\" class=\"data row6 col15\" >38.5</td>\n      <td id=\"T_b3503_row6_col16\" class=\"data row6 col16\" >42.0</td>\n    </tr>\n    <tr>\n      <th id=\"T_b3503_level0_row7\" class=\"row_heading level0 row7\" >longitude</th>\n      <td id=\"T_b3503_row7_col0\" class=\"data row7 col0\" >20,640</td>\n      <td id=\"T_b3503_row7_col1\" class=\"data row7 col1\" >0</td>\n      <td id=\"T_b3503_row7_col2\" class=\"data row7 col2\" >0.0%</td>\n      <td id=\"T_b3503_row7_col3\" class=\"data row7 col3\" >0</td>\n      <td id=\"T_b3503_row7_col4\" class=\"data row7 col4\" >0.0%</td>\n      <td id=\"T_b3503_row7_col5\" class=\"data row7 col5\" >-119.6</td>\n      <td id=\"T_b3503_row7_col6\" class=\"data row7 col6\" >2.0</td>\n      <td id=\"T_b3503_row7_col7\" class=\"data row7 col7\" >-0.0</td>\n      <td id=\"T_b3503_row7_col8\" class=\"data row7 col8\" >-0.3</td>\n      <td id=\"T_b3503_row7_col9\" class=\"data row7 col9\" >-1.3</td>\n      <td id=\"T_b3503_row7_col10\" class=\"data row7 col10\" >-124.3</td>\n      <td id=\"T_b3503_row7_col11\" class=\"data row7 col11\" >-122.3</td>\n      <td id=\"T_b3503_row7_col12\" class=\"data row7 col12\" >-121.8</td>\n      <td id=\"T_b3503_row7_col13\" class=\"data row7 col13\" >-118.5</td>\n      <td id=\"T_b3503_row7_col14\" class=\"data row7 col14\" >-118.0</td>\n      <td id=\"T_b3503_row7_col15\" class=\"data row7 col15\" >-117.2</td>\n      <td id=\"T_b3503_row7_col16\" class=\"data row7 col16\" >-114.3</td>\n    </tr>\n    <tr>\n      <th id=\"T_b3503_level0_row8\" class=\"row_heading level0 row8\" >target</th>\n      <td id=\"T_b3503_row8_col0\" class=\"data row8 col0\" >20,640</td>\n      <td id=\"T_b3503_row8_col1\" class=\"data row8 col1\" >0</td>\n      <td id=\"T_b3503_row8_col2\" class=\"data row8 col2\" >0.0%</td>\n      <td id=\"T_b3503_row8_col3\" class=\"data row8 col3\" >0</td>\n      <td id=\"T_b3503_row8_col4\" class=\"data row8 col4\" >0.0%</td>\n      <td id=\"T_b3503_row8_col5\" class=\"data row8 col5\" >206,855.8</td>\n      <td id=\"T_b3503_row8_col6\" class=\"data row8 col6\" >115,395.6</td>\n      <td id=\"T_b3503_row8_col7\" class=\"data row8 col7\" >0.6</td>\n      <td id=\"T_b3503_row8_col8\" class=\"data row8 col8\" >1.0</td>\n      <td id=\"T_b3503_row8_col9\" class=\"data row8 col9\" >0.3</td>\n      <td id=\"T_b3503_row8_col10\" class=\"data row8 col10\" >14,999.0</td>\n      <td id=\"T_b3503_row8_col11\" class=\"data row8 col11\" >82,300.0</td>\n      <td id=\"T_b3503_row8_col12\" class=\"data row8 col12\" >119,600.0</td>\n      <td id=\"T_b3503_row8_col13\" class=\"data row8 col13\" >179,700.0</td>\n      <td id=\"T_b3503_row8_col14\" class=\"data row8 col14\" >264,725.0</td>\n      <td id=\"T_b3503_row8_col15\" class=\"data row8 col15\" >376,600.0</td>\n      <td id=\"T_b3503_row8_col16\" class=\"data row8 col16\" >500,001.0</td>\n    </tr>\n  </tbody>\n</table>\n"
     },
     "execution_count": 4,
     "metadata": {},
     "output_type": "execute_result"
    }
   ],
   "source": [
    "hlp.pandas.numeric_summary(housing)"
   ]
  },
  {
   "cell_type": "code",
   "execution_count": 5,
   "id": "81c892b0",
   "metadata": {
    "pycharm": {
     "name": "#%%\n"
    }
   },
   "outputs": [],
   "source": [
    "hlp.pandas.non_numeric_summary(housing)"
   ]
  },
  {
   "cell_type": "markdown",
   "id": "d298aa3c",
   "metadata": {},
   "source": [
    "# Training and Test Data"
   ]
  },
  {
   "cell_type": "code",
   "execution_count": 6,
   "id": "ca5943f3",
   "metadata": {
    "pycharm": {
     "name": "#%%\n"
    }
   },
   "outputs": [],
   "source": [
    "y_full = housing['target']\n",
    "X_full = housing.drop(columns='target')\n",
    "\n",
    "del housing"
   ]
  },
  {
   "cell_type": "code",
   "execution_count": 7,
   "outputs": [
    {
     "data": {
      "text/plain": "<AxesSubplot:ylabel='Frequency'>"
     },
     "execution_count": 7,
     "metadata": {},
     "output_type": "execute_result"
    },
    {
     "data": {
      "text/plain": "<Figure size 432x288 with 1 Axes>",
      "image/png": "[encoded data removed]"
     },
     "metadata": {
      "needs_background": "light"
     },
     "output_type": "display_data"
    }
   ],
   "source": [
    "y_full.plot.hist()"
   ],
   "metadata": {
    "collapsed": false,
    "pycharm": {
     "name": "#%%\n"
    }
   }
  },
  {
   "cell_type": "code",
   "execution_count": 8,
   "id": "c98fd62a",
   "metadata": {
    "pycharm": {
     "name": "#%%\n"
    }
   },
   "outputs": [
    {
     "data": {
      "text/plain": "0    452600.0\n1    358500.0\n2    352100.0\n3    341300.0\n4    342200.0\n5    269700.0\n6    299200.0\n7    241400.0\n8    226700.0\n9    261100.0\nName: target, dtype: float64"
     },
     "execution_count": 8,
     "metadata": {},
     "output_type": "execute_result"
    }
   ],
   "source": [
    "y_full[0:10]"
   ]
  },
  {
   "cell_type": "code",
   "execution_count": 10,
   "id": "da2dbd5f",
   "metadata": {
    "pycharm": {
     "name": "#%%\n"
    }
   },
   "outputs": [],
   "source": [
    "X_train, X_test, y_train, y_test = train_test_split(X_full, y_full, test_size=0.2, random_state=42)"
   ]
  },
  {
   "cell_type": "code",
   "execution_count": 11,
   "id": "6b662a42",
   "metadata": {
    "pycharm": {
     "name": "#%%\n"
    }
   },
   "outputs": [
    {
     "name": "stdout",
     "output_type": "stream",
     "text": [
      "(16512, 8)\n",
      "16512\n",
      "(4128, 8)\n",
      "4128\n"
     ]
    }
   ],
   "source": [
    "print(X_train.shape)\n",
    "print(len(y_train))\n",
    "\n",
    "print(X_test.shape)\n",
    "print(len(y_test))"
   ]
  },
  {
   "cell_type": "markdown",
   "source": [],
   "metadata": {
    "collapsed": false,
    "pycharm": {
     "name": "#%% md\n"
    }
   }
  },
  {
   "cell_type": "code",
   "execution_count": 13,
   "outputs": [],
   "source": [
    "from sklearn.metrics import make_scorer, mean_squared_error\n",
    "\n",
    "scores = {\n",
    "    'RMSE': make_scorer(mean_squared_error, greater_is_better=False, squared=False)\n",
    "}"
   ],
   "metadata": {
    "collapsed": false,
    "pycharm": {
     "name": "#%%\n"
    }
   }
  },
  {
   "cell_type": "code",
   "execution_count": 15,
   "outputs": [
    {
     "data": {
      "text/plain": "[({'model': Categorical(categories=(ElasticNet(random_state=42),), prior=None),\n   'model__alpha': Real(low=1e-05, high=10, prior='log-uniform', transform='identity'),\n   'model__l1_ratio': Real(low=0, high=1, prior='uniform', transform='identity'),\n   'prep__numeric__imputer__transformer': Categorical(categories=(SimpleImputer(), SimpleImputer(strategy='median'), SimpleImputer(strategy='most_frequent')), prior=[0.5, 0.25, 0.25]),\n   'prep__numeric__scaler__transformer': Categorical(categories=(StandardScaler(), MinMaxScaler()), prior=[0.65, 0.35]),\n   'prep__numeric__pca__transformer': Categorical(categories=(None, PCA(n_components='mle')), prior=None),\n   'prep__non_numeric__encoder__transformer': Categorical(categories=(OneHotEncoder(handle_unknown='ignore'), CustomOrdinalEncoder()), prior=[0.65, 0.35])},\n  3),\n ({'model': Categorical(categories=(ElasticNet(random_state=42),), prior=None),\n   'prep__numeric__imputer__transformer': Categorical(categories=(SimpleImputer(),), prior=None),\n   'prep__numeric__scaler__transformer': Categorical(categories=(StandardScaler(),), prior=None),\n   'prep__numeric__pca__transformer': Categorical(categories=(None,), prior=None),\n   'prep__non_numeric__encoder__transformer': Categorical(categories=(OneHotEncoder(handle_unknown='ignore'),), prior=None)},\n  1),\n ({'model': Categorical(categories=(ExtraTreesRegressor(bootstrap=True, n_estimators=500, random_state=42),), prior=None),\n   'model__max_features': Real(low=0.01, high=0.95, prior='uniform', transform='identity'),\n   'model__max_depth': Integer(low=1, high=100, prior='uniform', transform='identity'),\n   'model__n_estimators': Integer(low=500, high=2000, prior='uniform', transform='identity'),\n   'model__min_samples_split': Integer(low=2, high=50, prior='uniform', transform='identity'),\n   'model__min_samples_leaf': Integer(low=1, high=50, prior='uniform', transform='identity'),\n   'model__max_samples': Real(low=0.5, high=1.0, prior='uniform', transform='identity'),\n   'model__criterion': Categorical(categories=('squared_error', 'absolute_error', 'poisson'), prior=None),\n   'prep__numeric__imputer__transformer': Categorical(categories=(SimpleImputer(), SimpleImputer(strategy='median'), SimpleImputer(strategy='most_frequent')), prior=[0.5, 0.25, 0.25]),\n   'prep__numeric__scaler__transformer': Categorical(categories=(None,), prior=None),\n   'prep__numeric__pca__transformer': Categorical(categories=(None, PCA(n_components='mle')), prior=None),\n   'prep__non_numeric__encoder__transformer': Categorical(categories=(OneHotEncoder(handle_unknown='ignore'), CustomOrdinalEncoder()), prior=[0.65, 0.35])},\n  3),\n ({'model': Categorical(categories=(ExtraTreesRegressor(bootstrap=True, n_estimators=500, random_state=42),), prior=None),\n   'prep__numeric__imputer__transformer': Categorical(categories=(SimpleImputer(),), prior=None),\n   'prep__numeric__scaler__transformer': Categorical(categories=(None,), prior=None),\n   'prep__numeric__pca__transformer': Categorical(categories=(None,), prior=None),\n   'prep__non_numeric__encoder__transformer': Categorical(categories=(OneHotEncoder(handle_unknown='ignore'),), prior=None)},\n  1),\n ({'model': Categorical(categories=(RandomForestRegressor(n_estimators=500, random_state=42),), prior=None),\n   'model__max_features': Real(low=0.01, high=0.95, prior='uniform', transform='identity'),\n   'model__max_depth': Integer(low=1, high=100, prior='uniform', transform='identity'),\n   'model__n_estimators': Integer(low=500, high=2000, prior='uniform', transform='identity'),\n   'model__min_samples_split': Integer(low=2, high=50, prior='uniform', transform='identity'),\n   'model__min_samples_leaf': Integer(low=1, high=50, prior='uniform', transform='identity'),\n   'model__max_samples': Real(low=0.5, high=1.0, prior='uniform', transform='identity'),\n   'model__criterion': Categorical(categories=('squared_error', 'absolute_error', 'poisson'), prior=None),\n   'prep__numeric__imputer__transformer': Categorical(categories=(SimpleImputer(), SimpleImputer(strategy='median'), SimpleImputer(strategy='most_frequent')), prior=[0.5, 0.25, 0.25]),\n   'prep__numeric__scaler__transformer': Categorical(categories=(None,), prior=None),\n   'prep__numeric__pca__transformer': Categorical(categories=(None, PCA(n_components='mle')), prior=None),\n   'prep__non_numeric__encoder__transformer': Categorical(categories=(OneHotEncoder(handle_unknown='ignore'), CustomOrdinalEncoder()), prior=[0.65, 0.35])},\n  3),\n ({'model': Categorical(categories=(RandomForestRegressor(n_estimators=500, random_state=42),), prior=None),\n   'prep__numeric__imputer__transformer': Categorical(categories=(SimpleImputer(),), prior=None),\n   'prep__numeric__scaler__transformer': Categorical(categories=(None,), prior=None),\n   'prep__numeric__pca__transformer': Categorical(categories=(None,), prior=None),\n   'prep__non_numeric__encoder__transformer': Categorical(categories=(OneHotEncoder(handle_unknown='ignore'),), prior=None)},\n  1),\n ({'model': Categorical(categories=(XGBRegressor(base_score=None, booster=None, colsample_bylevel=None,\n                colsample_bynode=None, colsample_bytree=None,\n                enable_categorical=False, eval_metric='rmse', gamma=None,\n                gpu_id=None, importance_type=None, interaction_constraints=None,\n                learning_rate=None, max_delta_step=None, max_depth=None,\n                min_child_weight=None, missing=nan, monotone_constraints=None,\n                n_estimators=500, n_jobs=None, num_parallel_tree=None,\n                predictor=None, random_state=42, reg_alpha=None, reg_lambda=None,\n                scale_pos_weight=None, subsample=None, tree_method=None,\n                use_label_encoder=False, validate_parameters=None, verbosity=None),), prior=None),\n   'model__max_depth': Integer(low=1, high=20, prior='log-uniform', transform='identity'),\n   'model__learning_rate': Real(low=0.01, high=0.3, prior='log-uniform', transform='identity'),\n   'model__n_estimators': Integer(low=500, high=2000, prior='uniform', transform='identity'),\n   'model__min_child_weight': Integer(low=1, high=50, prior='log-uniform', transform='identity'),\n   'model__subsample': Real(low=0.5, high=1, prior='uniform', transform='identity'),\n   'model__colsample_bytree': Real(low=0.5, high=1, prior='uniform', transform='identity'),\n   'model__colsample_bylevel': Real(low=0.5, high=1, prior='uniform', transform='identity'),\n   'model__reg_alpha': Real(low=0.0001, high=1, prior='log-uniform', transform='identity'),\n   'model__reg_lambda': Real(low=1, high=4, prior='log-uniform', transform='identity'),\n   'prep__numeric__imputer__transformer': Categorical(categories=(SimpleImputer(), SimpleImputer(strategy='median'), SimpleImputer(strategy='most_frequent')), prior=[0.5, 0.25, 0.25]),\n   'prep__numeric__scaler__transformer': Categorical(categories=(None,), prior=None),\n   'prep__numeric__pca__transformer': Categorical(categories=(None, PCA(n_components='mle')), prior=None),\n   'prep__non_numeric__encoder__transformer': Categorical(categories=(OneHotEncoder(handle_unknown='ignore'), CustomOrdinalEncoder()), prior=[0.65, 0.35])},\n  3),\n ({'model': Categorical(categories=(XGBRegressor(base_score=None, booster=None, colsample_bylevel=None,\n                colsample_bynode=None, colsample_bytree=None,\n                enable_categorical=False, eval_metric='rmse', gamma=None,\n                gpu_id=None, importance_type=None, interaction_constraints=None,\n                learning_rate=None, max_delta_step=None, max_depth=None,\n                min_child_weight=None, missing=nan, monotone_constraints=None,\n                n_estimators=500, n_jobs=None, num_parallel_tree=None,\n                predictor=None, random_state=42, reg_alpha=None, reg_lambda=None,\n                scale_pos_weight=None, subsample=None, tree_method=None,\n                use_label_encoder=False, validate_parameters=None, verbosity=None),), prior=None),\n   'prep__numeric__imputer__transformer': Categorical(categories=(SimpleImputer(),), prior=None),\n   'prep__numeric__scaler__transformer': Categorical(categories=(None,), prior=None),\n   'prep__numeric__pca__transformer': Categorical(categories=(None,), prior=None),\n   'prep__non_numeric__encoder__transformer': Categorical(categories=(OneHotEncoder(handle_unknown='ignore'),), prior=None)},\n  1)]"
     },
     "execution_count": 15,
     "metadata": {},
     "output_type": "execute_result"
    }
   ],
   "source": [
    "search_space = hlp.sklearn_search_bayesian.BayesianSearchSpace(\n",
    "    data=X_train,\n",
    "    model_type='regression',\n",
    "    iterations=3,\n",
    "    random_state=42,\n",
    ")\n",
    "search_space.search_spaces()"
   ],
   "metadata": {
    "collapsed": false,
    "pycharm": {
     "name": "#%%\n"
    }
   }
  },
  {
   "cell_type": "code",
   "execution_count": null,
   "outputs": [
    {
     "name": "stdout",
     "output_type": "stream",
     "text": [
      "Fitting 5 folds for each of 1 candidates, totalling 5 fits\n",
      "[CV] END model=ElasticNet(random_state=42), model__alpha=3.3117333277546708, model__l1_ratio=0.49646670359671674, prep__non_numeric__encoder__transformer=CustomOrdinalEncoder(), prep__numeric__imputer__transformer=SimpleImputer(strategy='median'), prep__numeric__pca__transformer=None, prep__numeric__scaler__transformer=MinMaxScaler(); total time=   0.0s\n",
      "[CV] END model=ElasticNet(random_state=42), model__alpha=3.3117333277546708, model__l1_ratio=0.49646670359671674, prep__non_numeric__encoder__transformer=CustomOrdinalEncoder(), prep__numeric__imputer__transformer=SimpleImputer(strategy='median'), prep__numeric__pca__transformer=None, prep__numeric__scaler__transformer=MinMaxScaler(); total time=   0.0s\n",
      "[CV] END model=ElasticNet(random_state=42), model__alpha=3.3117333277546708, model__l1_ratio=0.49646670359671674, prep__non_numeric__encoder__transformer=CustomOrdinalEncoder(), prep__numeric__imputer__transformer=SimpleImputer(strategy='median'), prep__numeric__pca__transformer=None, prep__numeric__scaler__transformer=MinMaxScaler(); total time=   0.0s\n",
      "[CV] END model=ElasticNet(random_state=42), model__alpha=3.3117333277546708, model__l1_ratio=0.49646670359671674, prep__non_numeric__encoder__transformer=CustomOrdinalEncoder(), prep__numeric__imputer__transformer=SimpleImputer(strategy='median'), prep__numeric__pca__transformer=None, prep__numeric__scaler__transformer=MinMaxScaler(); total time=   0.0s\n",
      "[CV] END model=ElasticNet(random_state=42), model__alpha=3.3117333277546708, model__l1_ratio=0.49646670359671674, prep__non_numeric__encoder__transformer=CustomOrdinalEncoder(), prep__numeric__imputer__transformer=SimpleImputer(strategy='median'), prep__numeric__pca__transformer=None, prep__numeric__scaler__transformer=MinMaxScaler(); total time=   0.0s\n",
      "Fitting 5 folds for each of 1 candidates, totalling 5 fits\n",
      "[CV] END model=ElasticNet(random_state=42), model__alpha=0.1598558991826748, model__l1_ratio=0.871651928463215, prep__non_numeric__encoder__transformer=OneHotEncoder(handle_unknown='ignore'), prep__numeric__imputer__transformer=SimpleImputer(strategy='median'), prep__numeric__pca__transformer=None, prep__numeric__scaler__transformer=StandardScaler(); total time=   0.2s\n",
      "[CV] END model=ElasticNet(random_state=42), model__alpha=0.1598558991826748, model__l1_ratio=0.871651928463215, prep__non_numeric__encoder__transformer=OneHotEncoder(handle_unknown='ignore'), prep__numeric__imputer__transformer=SimpleImputer(strategy='median'), prep__numeric__pca__transformer=None, prep__numeric__scaler__transformer=StandardScaler(); total time=   0.2s\n",
      "[CV] END model=ElasticNet(random_state=42), model__alpha=0.1598558991826748, model__l1_ratio=0.871651928463215, prep__non_numeric__encoder__transformer=OneHotEncoder(handle_unknown='ignore'), prep__numeric__imputer__transformer=SimpleImputer(strategy='median'), prep__numeric__pca__transformer=None, prep__numeric__scaler__transformer=StandardScaler(); total time=   0.2s\n",
      "[CV] END model=ElasticNet(random_state=42), model__alpha=0.1598558991826748, model__l1_ratio=0.871651928463215, prep__non_numeric__encoder__transformer=OneHotEncoder(handle_unknown='ignore'), prep__numeric__imputer__transformer=SimpleImputer(strategy='median'), prep__numeric__pca__transformer=None, prep__numeric__scaler__transformer=StandardScaler(); total time=   0.2s\n",
      "[CV] END model=ElasticNet(random_state=42), model__alpha=0.1598558991826748, model__l1_ratio=0.871651928463215, prep__non_numeric__encoder__transformer=OneHotEncoder(handle_unknown='ignore'), prep__numeric__imputer__transformer=SimpleImputer(strategy='median'), prep__numeric__pca__transformer=None, prep__numeric__scaler__transformer=StandardScaler(); total time=   0.2s\n",
      "Fitting 5 folds for each of 1 candidates, totalling 5 fits\n",
      "[CV] END model=ElasticNet(random_state=42), model__alpha=0.8071980758451054, model__l1_ratio=0.7412827443680273, prep__non_numeric__encoder__transformer=OneHotEncoder(handle_unknown='ignore'), prep__numeric__imputer__transformer=SimpleImputer(strategy='median'), prep__numeric__pca__transformer=None, prep__numeric__scaler__transformer=StandardScaler(); total time=   0.1s\n",
      "[CV] END model=ElasticNet(random_state=42), model__alpha=0.8071980758451054, model__l1_ratio=0.7412827443680273, prep__non_numeric__encoder__transformer=OneHotEncoder(handle_unknown='ignore'), prep__numeric__imputer__transformer=SimpleImputer(strategy='median'), prep__numeric__pca__transformer=None, prep__numeric__scaler__transformer=StandardScaler(); total time=   0.1s\n",
      "[CV] END model=ElasticNet(random_state=42), model__alpha=0.8071980758451054, model__l1_ratio=0.7412827443680273, prep__non_numeric__encoder__transformer=OneHotEncoder(handle_unknown='ignore'), prep__numeric__imputer__transformer=SimpleImputer(strategy='median'), prep__numeric__pca__transformer=None, prep__numeric__scaler__transformer=StandardScaler(); total time=   0.1s\n",
      "[CV] END model=ElasticNet(random_state=42), model__alpha=0.8071980758451054, model__l1_ratio=0.7412827443680273, prep__non_numeric__encoder__transformer=OneHotEncoder(handle_unknown='ignore'), prep__numeric__imputer__transformer=SimpleImputer(strategy='median'), prep__numeric__pca__transformer=None, prep__numeric__scaler__transformer=StandardScaler(); total time=   0.1s\n",
      "[CV] END model=ElasticNet(random_state=42), model__alpha=0.8071980758451054, model__l1_ratio=0.7412827443680273, prep__non_numeric__encoder__transformer=OneHotEncoder(handle_unknown='ignore'), prep__numeric__imputer__transformer=SimpleImputer(strategy='median'), prep__numeric__pca__transformer=None, prep__numeric__scaler__transformer=StandardScaler(); total time=   0.1s\n",
      "Fitting 5 folds for each of 1 candidates, totalling 5 fits\n",
      "[CV] END model=ElasticNet(random_state=42), prep__non_numeric__encoder__transformer=OneHotEncoder(handle_unknown='ignore'), prep__numeric__imputer__transformer=SimpleImputer(), prep__numeric__pca__transformer=None, prep__numeric__scaler__transformer=StandardScaler(); total time=   0.0s\n",
      "[CV] END model=ElasticNet(random_state=42), prep__non_numeric__encoder__transformer=OneHotEncoder(handle_unknown='ignore'), prep__numeric__imputer__transformer=SimpleImputer(), prep__numeric__pca__transformer=None, prep__numeric__scaler__transformer=StandardScaler(); total time=   0.0s\n",
      "[CV] END model=ElasticNet(random_state=42), prep__non_numeric__encoder__transformer=OneHotEncoder(handle_unknown='ignore'), prep__numeric__imputer__transformer=SimpleImputer(), prep__numeric__pca__transformer=None, prep__numeric__scaler__transformer=StandardScaler(); total time=   0.0s\n",
      "[CV] END model=ElasticNet(random_state=42), prep__non_numeric__encoder__transformer=OneHotEncoder(handle_unknown='ignore'), prep__numeric__imputer__transformer=SimpleImputer(), prep__numeric__pca__transformer=None, prep__numeric__scaler__transformer=StandardScaler(); total time=   0.0s\n",
      "[CV] END model=ElasticNet(random_state=42), prep__non_numeric__encoder__transformer=OneHotEncoder(handle_unknown='ignore'), prep__numeric__imputer__transformer=SimpleImputer(), prep__numeric__pca__transformer=None, prep__numeric__scaler__transformer=StandardScaler(); total time=   0.0s\n",
      "Fitting 5 folds for each of 1 candidates, totalling 5 fits\n",
      "[CV] END model=ExtraTreesRegressor(bootstrap=True, n_estimators=500, random_state=42), model__criterion=poisson, model__max_depth=96, model__max_features=0.29997689949170153, model__max_samples=0.7455551022408218, model__min_samples_leaf=20, model__min_samples_split=21, model__n_estimators=824, prep__non_numeric__encoder__transformer=OneHotEncoder(handle_unknown='ignore'), prep__numeric__imputer__transformer=SimpleImputer(strategy='most_frequent'), prep__numeric__pca__transformer=PCA(n_components='mle'), prep__numeric__scaler__transformer=None; total time=   1.6s\n",
      "[CV] END model=ExtraTreesRegressor(bootstrap=True, n_estimators=500, random_state=42), model__criterion=poisson, model__max_depth=96, model__max_features=0.29997689949170153, model__max_samples=0.7455551022408218, model__min_samples_leaf=20, model__min_samples_split=21, model__n_estimators=824, prep__non_numeric__encoder__transformer=OneHotEncoder(handle_unknown='ignore'), prep__numeric__imputer__transformer=SimpleImputer(strategy='most_frequent'), prep__numeric__pca__transformer=PCA(n_components='mle'), prep__numeric__scaler__transformer=None; total time=   1.6s\n",
      "[CV] END model=ExtraTreesRegressor(bootstrap=True, n_estimators=500, random_state=42), model__criterion=poisson, model__max_depth=96, model__max_features=0.29997689949170153, model__max_samples=0.7455551022408218, model__min_samples_leaf=20, model__min_samples_split=21, model__n_estimators=824, prep__non_numeric__encoder__transformer=OneHotEncoder(handle_unknown='ignore'), prep__numeric__imputer__transformer=SimpleImputer(strategy='most_frequent'), prep__numeric__pca__transformer=PCA(n_components='mle'), prep__numeric__scaler__transformer=None; total time=   1.5s\n",
      "[CV] END model=ExtraTreesRegressor(bootstrap=True, n_estimators=500, random_state=42), model__criterion=poisson, model__max_depth=96, model__max_features=0.29997689949170153, model__max_samples=0.7455551022408218, model__min_samples_leaf=20, model__min_samples_split=21, model__n_estimators=824, prep__non_numeric__encoder__transformer=OneHotEncoder(handle_unknown='ignore'), prep__numeric__imputer__transformer=SimpleImputer(strategy='most_frequent'), prep__numeric__pca__transformer=PCA(n_components='mle'), prep__numeric__scaler__transformer=None; total time=   1.6s\n",
      "[CV] END model=ExtraTreesRegressor(bootstrap=True, n_estimators=500, random_state=42), model__criterion=poisson, model__max_depth=96, model__max_features=0.29997689949170153, model__max_samples=0.7455551022408218, model__min_samples_leaf=20, model__min_samples_split=21, model__n_estimators=824, prep__non_numeric__encoder__transformer=OneHotEncoder(handle_unknown='ignore'), prep__numeric__imputer__transformer=SimpleImputer(strategy='most_frequent'), prep__numeric__pca__transformer=PCA(n_components='mle'), prep__numeric__scaler__transformer=None; total time=   1.5s\n",
      "Fitting 5 folds for each of 1 candidates, totalling 5 fits\n"
     ]
    }
   ],
   "source": [
    "# pip install scikit-optimize\n",
    "from skopt import BayesSearchCV\n",
    "from sklearn.model_selection import RepeatedKFold\n",
    "\n",
    "bayes_search = BayesSearchCV(\n",
    "    estimator=search_space.pipeline(),\n",
    "    search_spaces=search_space.search_spaces(),\n",
    "    cv=RepeatedKFold(n_splits=5, n_repeats=1, random_state=42),  # 5 fold 2 repeat CV\n",
    "    #scoring='neg_root_mean_squared_error',\n",
    "    scoring='neg_mean_absolute_error',\n",
    "    #scoring=scores,\n",
    "    refit=False,  # required if passing in multiple scorers\n",
    "    return_train_score=False,\n",
    "    #n_jobs=-1,\n",
    "    verbose=2,\n",
    "    random_state=42,\n",
    ")\n",
    "\n",
    "start_time = time.time()\n",
    "bayes_search.fit(X_train, y_train)\n",
    "elapsed_time = time.time() - start_time"
   ],
   "metadata": {
    "collapsed": false,
    "pycharm": {
     "name": "#%%\n",
     "is_executing": true
    }
   }
  },
  {
   "cell_type": "code",
   "execution_count": null,
   "outputs": [],
   "source": [
    "print(f\"Elapsed time to run BayesSearchCV: {elapsed_time:.3f} seconds; {elapsed_time / 60:.1f} minutes\")"
   ],
   "metadata": {
    "collapsed": false,
    "pycharm": {
     "name": "#%%\n",
     "is_executing": true
    }
   }
  },
  {
   "cell_type": "code",
   "execution_count": null,
   "outputs": [],
   "source": [
    "print(bayes_search.best_score_)"
   ],
   "metadata": {
    "collapsed": false,
    "pycharm": {
     "name": "#%%\n",
     "is_executing": true
    }
   }
  },
  {
   "cell_type": "code",
   "execution_count": null,
   "outputs": [],
   "source": [
    "print(bayes_search.best_params_)"
   ],
   "metadata": {
    "collapsed": false,
    "pycharm": {
     "name": "#%%\n",
     "is_executing": true
    }
   }
  },
  {
   "cell_type": "code",
   "execution_count": null,
   "outputs": [],
   "source": [
    "results = hlp.sklearn_eval.MLExperimentResults.from_sklearn_search_cv(\n",
    "    searcher=bayes_search,\n",
    "    higher_score_is_better=False,\n",
    "    description='BayesSearchCV using Regression Search Space',\n",
    "    parameter_name_mappings=search_space.param_name_mappings()\n",
    ")"
   ],
   "metadata": {
    "collapsed": false,
    "pycharm": {
     "name": "#%%\n",
     "is_executing": true
    }
   }
  },
  {
   "cell_type": "code",
   "execution_count": null,
   "outputs": [],
   "source": [
    "results.best_score"
   ],
   "metadata": {
    "collapsed": false,
    "pycharm": {
     "name": "#%%\n",
     "is_executing": true
    }
   }
  },
  {
   "cell_type": "code",
   "execution_count": null,
   "outputs": [],
   "source": [
    "results.best_params"
   ],
   "metadata": {
    "collapsed": false,
    "pycharm": {
     "name": "#%%\n",
     "is_executing": true
    }
   }
  },
  {
   "cell_type": "code",
   "execution_count": null,
   "outputs": [],
   "source": [],
   "metadata": {
    "collapsed": false,
    "pycharm": {
     "name": "#%%\n",
     "is_executing": true
    }
   }
  },
  {
   "cell_type": "code",
   "execution_count": null,
   "outputs": [],
   "source": [
    "results.to_formatted_dataframe(return_style=True,\n",
    "                               include_rank=True,\n",
    "                               num_rows=1000)"
   ],
   "metadata": {
    "collapsed": false,
    "pycharm": {
     "name": "#%%\n",
     "is_executing": true
    }
   }
  },
  {
   "cell_type": "code",
   "execution_count": null,
   "outputs": [],
   "source": [
    "        search_space"
   ],
   "metadata": {
    "collapsed": false,
    "pycharm": {
     "name": "#%%\n"
    }
   }
  },
  {
   "cell_type": "code",
   "execution_count": null,
   "outputs": [],
   "source": [],
   "metadata": {
    "collapsed": false,
    "pycharm": {
     "name": "#%%\n"
    }
   }
  },
  {
   "cell_type": "code",
   "execution_count": null,
   "outputs": [],
   "source": [],
   "metadata": {
    "collapsed": false,
    "pycharm": {
     "name": "#%%\n"
    }
   }
  },
  {
   "cell_type": "code",
   "execution_count": null,
   "outputs": [],
   "source": [],
   "metadata": {
    "collapsed": false,
    "pycharm": {
     "name": "#%%\n"
    }
   }
  },
  {
   "cell_type": "code",
   "execution_count": null,
   "outputs": [],
   "source": [],
   "metadata": {
    "collapsed": false,
    "pycharm": {
     "name": "#%%\n"
    }
   }
  }
 ],
 "metadata": {
  "kernelspec": {
   "display_name": "Python 3 (ipykernel)",
   "language": "python",
   "name": "python3"
  },
  "language_info": {
   "codemirror_mode": {
    "name": "ipython",
    "version": 3
   },
   "file_extension": ".py",
   "mimetype": "text/x-python",
   "name": "python",
   "nbconvert_exporter": "python",
   "pygments_lexer": "ipython3",
   "version": "3.9.6"
  },
  "toc": {
   "base_numbering": 1,
   "nav_menu": {},
   "number_sections": false,
   "sideBar": true,
   "skip_h1_title": false,
   "title_cell": "Table of Contents",
   "title_sidebar": "Contents",
   "toc_cell": false,
   "toc_position": {
    "height": "calc(100% - 180px)",
    "left": "10px",
    "top": "150px",
    "width": "298px"
   },
   "toc_section_display": true,
   "toc_window_display": true
  }
 },
 "nbformat": 4,
 "nbformat_minor": 5
}