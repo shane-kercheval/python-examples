{
 "cells": [
  {
   "cell_type": "markdown",
   "id": "564aa887",
   "metadata": {
    "pycharm": {
     "name": "#%% md\n"
    }
   },
   "source": [
    "This files creates the training and test datasets for all other notebooks and scripts to reuse. This is the file I would typically use for an exploratory analysis."
   ]
  },
  {
   "cell_type": "code",
   "execution_count": 23,
   "id": "ec01c1ce",
   "metadata": {
    "pycharm": {
     "name": "#%%\n"
    }
   },
   "outputs": [],
   "source": [
    "import pickle\n",
    "import time\n",
    "\n",
    "import numpy as np\n",
    "from sklearn.datasets import fetch_openml\n",
    "from sklearn.model_selection import train_test_split\n",
    "\n",
    "import helpsk as hlp\n",
    "\n",
    "%matplotlib inline"
   ]
  },
  {
   "cell_type": "markdown",
   "id": "f055efe1",
   "metadata": {},
   "source": [
    "# Load Data"
   ]
  },
  {
   "cell_type": "code",
   "execution_count": 29,
   "outputs": [
    {
     "name": "stdout",
     "output_type": "stream",
     "text": [
      "(20640, 9)\n"
     ]
    },
    {
     "data": {
      "text/plain": "   median_income  housing_median_age  total_rooms  total_bedrooms  population  \\\n0         8.3252                41.0        880.0           129.0       322.0   \n1         8.3014                21.0       7099.0          1106.0      2401.0   \n2         7.2574                52.0       1467.0           190.0       496.0   \n3         5.6431                52.0       1274.0           235.0       558.0   \n4         3.8462                52.0       1627.0           280.0       565.0   \n\n   households  latitude  longitude    target  \n0       126.0     37.88    -122.23  452600.0  \n1      1138.0     37.86    -122.22  358500.0  \n2       177.0     37.85    -122.24  352100.0  \n3       219.0     37.85    -122.25  341300.0  \n4       259.0     37.85    -122.25  342200.0  ",
      "text/html": "<div>\n<style scoped>\n    .dataframe tbody tr th:only-of-type {\n        vertical-align: middle;\n    }\n\n    .dataframe tbody tr th {\n        vertical-align: top;\n    }\n\n    .dataframe thead th {\n        text-align: right;\n    }\n</style>\n<table border=\"1\" class=\"dataframe\">\n  <thead>\n    <tr style=\"text-align: right;\">\n      <th></th>\n      <th>median_income</th>\n      <th>housing_median_age</th>\n      <th>total_rooms</th>\n      <th>total_bedrooms</th>\n      <th>population</th>\n      <th>households</th>\n      <th>latitude</th>\n      <th>longitude</th>\n      <th>target</th>\n    </tr>\n  </thead>\n  <tbody>\n    <tr>\n      <th>0</th>\n      <td>8.3252</td>\n      <td>41.0</td>\n      <td>880.0</td>\n      <td>129.0</td>\n      <td>322.0</td>\n      <td>126.0</td>\n      <td>37.88</td>\n      <td>-122.23</td>\n      <td>452600.0</td>\n    </tr>\n    <tr>\n      <th>1</th>\n      <td>8.3014</td>\n      <td>21.0</td>\n      <td>7099.0</td>\n      <td>1106.0</td>\n      <td>2401.0</td>\n      <td>1138.0</td>\n      <td>37.86</td>\n      <td>-122.22</td>\n      <td>358500.0</td>\n    </tr>\n    <tr>\n      <th>2</th>\n      <td>7.2574</td>\n      <td>52.0</td>\n      <td>1467.0</td>\n      <td>190.0</td>\n      <td>496.0</td>\n      <td>177.0</td>\n      <td>37.85</td>\n      <td>-122.24</td>\n      <td>352100.0</td>\n    </tr>\n    <tr>\n      <th>3</th>\n      <td>5.6431</td>\n      <td>52.0</td>\n      <td>1274.0</td>\n      <td>235.0</td>\n      <td>558.0</td>\n      <td>219.0</td>\n      <td>37.85</td>\n      <td>-122.25</td>\n      <td>341300.0</td>\n    </tr>\n    <tr>\n      <th>4</th>\n      <td>3.8462</td>\n      <td>52.0</td>\n      <td>1627.0</td>\n      <td>280.0</td>\n      <td>565.0</td>\n      <td>259.0</td>\n      <td>37.85</td>\n      <td>-122.25</td>\n      <td>342200.0</td>\n    </tr>\n  </tbody>\n</table>\n</div>"
     },
     "execution_count": 29,
     "metadata": {},
     "output_type": "execute_result"
    }
   ],
   "source": [
    "# https://www.openml.org/d/537\n",
    "housing_g = fetch_openml('houses', version=1)\n",
    "\n",
    "housing = housing_g['data']\n",
    "housing['target'] = housing_g['target']\n",
    "del housing_g\n",
    "\n",
    "print(housing.shape)\n",
    "housing.head()"
   ],
   "metadata": {
    "collapsed": false,
    "pycharm": {
     "name": "#%%\n"
    }
   }
  },
  {
   "cell_type": "code",
   "execution_count": 30,
   "id": "efce506d",
   "metadata": {
    "pycharm": {
     "name": "#%%\n"
    }
   },
   "outputs": [],
   "source": [
    "## Create Missing Values\n",
    "housing['median_income'].iloc[0:46] = np.nan\n",
    "housing['housing_median_age'].iloc[25:75] = np.nan\n",
    "housing['total_rooms'].iloc[10:54] = 0"
   ]
  },
  {
   "cell_type": "code",
   "execution_count": 31,
   "id": "ebea0c53",
   "metadata": {
    "pycharm": {
     "name": "#%%\n"
    }
   },
   "outputs": [
    {
     "data": {
      "text/plain": "<pandas.io.formats.style.Styler at 0x7faa31fea340>",
      "text/html": "<style type=\"text/css\">\n#T_aa6d2_row0_col1, #T_aa6d2_row1_col1, #T_aa6d2_row2_col3 {\n  background-color: #EBB13E;\n}\n#T_aa6d2_row0_col2, #T_aa6d2_row0_col4, #T_aa6d2_row1_col2, #T_aa6d2_row1_col4, #T_aa6d2_row2_col2, #T_aa6d2_row2_col4, #T_aa6d2_row3_col2, #T_aa6d2_row3_col4, #T_aa6d2_row4_col2, #T_aa6d2_row4_col4, #T_aa6d2_row5_col2, #T_aa6d2_row5_col4, #T_aa6d2_row6_col2, #T_aa6d2_row6_col4, #T_aa6d2_row7_col2, #T_aa6d2_row7_col4, #T_aa6d2_row7_col7, #T_aa6d2_row8_col2, #T_aa6d2_row8_col4 {\n  width: 10em;\n  height: 80%;\n}\n#T_aa6d2_row0_col7 {\n  width: 10em;\n  height: 80%;\n  background: linear-gradient(90deg,#B4B7B9 49.0%, transparent 49.0%);\n}\n#T_aa6d2_row0_col8 {\n  width: 10em;\n  height: 80%;\n  background: linear-gradient(90deg, transparent 50.0%, #B4B7B9 50.0%, #B4B7B9 91.2%, transparent 91.2%);\n}\n#T_aa6d2_row1_col7 {\n  width: 10em;\n  height: 80%;\n  background: linear-gradient(90deg,#B4B7B9 44.0%, transparent 44.0%);\n}\n#T_aa6d2_row1_col8 {\n  width: 10em;\n  height: 80%;\n  background: linear-gradient(90deg, transparent 50.0%, #B4B7B9 50.0%, #B4B7B9 51.5%, transparent 51.5%);\n}\n#T_aa6d2_row2_col7 {\n  width: 10em;\n  height: 80%;\n  background: linear-gradient(90deg,#B4B7B9 83.0%, transparent 83.0%);\n}\n#T_aa6d2_row2_col8, #T_aa6d2_row3_col8, #T_aa6d2_row4_col8, #T_aa6d2_row5_col8 {\n  width: 10em;\n  height: 80%;\n  background: linear-gradient(90deg, transparent 50.0%, #B4B7B9 50.0%, #B4B7B9 100.0%, transparent 100.0%);\n}\n#T_aa6d2_row3_col7 {\n  width: 10em;\n  height: 80%;\n  background: linear-gradient(90deg,#B4B7B9 78.0%, transparent 78.0%);\n}\n#T_aa6d2_row4_col7 {\n  width: 10em;\n  height: 80%;\n  background: linear-gradient(90deg,#B4B7B9 79.0%, transparent 79.0%);\n}\n#T_aa6d2_row5_col7 {\n  width: 10em;\n  height: 80%;\n  background: linear-gradient(90deg,#B4B7B9 77.0%, transparent 77.0%);\n}\n#T_aa6d2_row6_col7 {\n  width: 10em;\n  height: 80%;\n  background: linear-gradient(90deg,#B4B7B9 6.0%, transparent 6.0%);\n}\n#T_aa6d2_row6_col8 {\n  width: 10em;\n  height: 80%;\n  background: linear-gradient(90deg, transparent 50.0%, #B4B7B9 50.0%, #B4B7B9 61.7%, transparent 61.7%);\n}\n#T_aa6d2_row7_col8 {\n  width: 10em;\n  height: 80%;\n  background: linear-gradient(90deg, transparent 42.5%, #B4B7B9 42.5%, #B4B7B9 50.0%, transparent 50.0%);\n}\n#T_aa6d2_row8_col7 {\n  width: 10em;\n  height: 80%;\n  background: linear-gradient(90deg,#B4B7B9 56.0%, transparent 56.0%);\n}\n#T_aa6d2_row8_col8 {\n  width: 10em;\n  height: 80%;\n  background: linear-gradient(90deg, transparent 50.0%, #B4B7B9 50.0%, #B4B7B9 74.5%, transparent 74.5%);\n}\n</style>\n<table id=\"T_aa6d2_\">\n  <thead>\n    <tr>\n      <th class=\"blank level0\" >&nbsp;</th>\n      <th class=\"col_heading level0 col0\" ># of Non-Nulls</th>\n      <th class=\"col_heading level0 col1\" ># of Nulls</th>\n      <th class=\"col_heading level0 col2\" >% Nulls</th>\n      <th class=\"col_heading level0 col3\" ># of Zeros</th>\n      <th class=\"col_heading level0 col4\" >% Zeros</th>\n      <th class=\"col_heading level0 col5\" >Mean</th>\n      <th class=\"col_heading level0 col6\" >St Dev.</th>\n      <th class=\"col_heading level0 col7\" >Coef of Var</th>\n      <th class=\"col_heading level0 col8\" >Skewness</th>\n      <th class=\"col_heading level0 col9\" >Kurtosis</th>\n      <th class=\"col_heading level0 col10\" >Min</th>\n      <th class=\"col_heading level0 col11\" >10%</th>\n      <th class=\"col_heading level0 col12\" >25%</th>\n      <th class=\"col_heading level0 col13\" >50%</th>\n      <th class=\"col_heading level0 col14\" >75%</th>\n      <th class=\"col_heading level0 col15\" >90%</th>\n      <th class=\"col_heading level0 col16\" >Max</th>\n    </tr>\n  </thead>\n  <tbody>\n    <tr>\n      <th id=\"T_aa6d2_level0_row0\" class=\"row_heading level0 row0\" >median_income</th>\n      <td id=\"T_aa6d2_row0_col0\" class=\"data row0 col0\" >20,594</td>\n      <td id=\"T_aa6d2_row0_col1\" class=\"data row0 col1\" >46</td>\n      <td id=\"T_aa6d2_row0_col2\" class=\"data row0 col2\" >0.0%</td>\n      <td id=\"T_aa6d2_row0_col3\" class=\"data row0 col3\" >0</td>\n      <td id=\"T_aa6d2_row0_col4\" class=\"data row0 col4\" >0.0%</td>\n      <td id=\"T_aa6d2_row0_col5\" class=\"data row0 col5\" >3.9</td>\n      <td id=\"T_aa6d2_row0_col6\" class=\"data row0 col6\" >1.9</td>\n      <td id=\"T_aa6d2_row0_col7\" class=\"data row0 col7\" >0.5</td>\n      <td id=\"T_aa6d2_row0_col8\" class=\"data row0 col8\" >1.6</td>\n      <td id=\"T_aa6d2_row0_col9\" class=\"data row0 col9\" >5.0</td>\n      <td id=\"T_aa6d2_row0_col10\" class=\"data row0 col10\" >0.5</td>\n      <td id=\"T_aa6d2_row0_col11\" class=\"data row0 col11\" >1.9</td>\n      <td id=\"T_aa6d2_row0_col12\" class=\"data row0 col12\" >2.6</td>\n      <td id=\"T_aa6d2_row0_col13\" class=\"data row0 col13\" >3.5</td>\n      <td id=\"T_aa6d2_row0_col14\" class=\"data row0 col14\" >4.8</td>\n      <td id=\"T_aa6d2_row0_col15\" class=\"data row0 col15\" >6.2</td>\n      <td id=\"T_aa6d2_row0_col16\" class=\"data row0 col16\" >15.0</td>\n    </tr>\n    <tr>\n      <th id=\"T_aa6d2_level0_row1\" class=\"row_heading level0 row1\" >housing_median_age</th>\n      <td id=\"T_aa6d2_row1_col0\" class=\"data row1 col0\" >20,590</td>\n      <td id=\"T_aa6d2_row1_col1\" class=\"data row1 col1\" >50</td>\n      <td id=\"T_aa6d2_row1_col2\" class=\"data row1 col2\" >0.0%</td>\n      <td id=\"T_aa6d2_row1_col3\" class=\"data row1 col3\" >0</td>\n      <td id=\"T_aa6d2_row1_col4\" class=\"data row1 col4\" >0.0%</td>\n      <td id=\"T_aa6d2_row1_col5\" class=\"data row1 col5\" >28.6</td>\n      <td id=\"T_aa6d2_row1_col6\" class=\"data row1 col6\" >12.6</td>\n      <td id=\"T_aa6d2_row1_col7\" class=\"data row1 col7\" >0.4</td>\n      <td id=\"T_aa6d2_row1_col8\" class=\"data row1 col8\" >0.1</td>\n      <td id=\"T_aa6d2_row1_col9\" class=\"data row1 col9\" >-0.8</td>\n      <td id=\"T_aa6d2_row1_col10\" class=\"data row1 col10\" >1.0</td>\n      <td id=\"T_aa6d2_row1_col11\" class=\"data row1 col11\" >12.0</td>\n      <td id=\"T_aa6d2_row1_col12\" class=\"data row1 col12\" >18.0</td>\n      <td id=\"T_aa6d2_row1_col13\" class=\"data row1 col13\" >29.0</td>\n      <td id=\"T_aa6d2_row1_col14\" class=\"data row1 col14\" >37.0</td>\n      <td id=\"T_aa6d2_row1_col15\" class=\"data row1 col15\" >46.0</td>\n      <td id=\"T_aa6d2_row1_col16\" class=\"data row1 col16\" >52.0</td>\n    </tr>\n    <tr>\n      <th id=\"T_aa6d2_level0_row2\" class=\"row_heading level0 row2\" >total_rooms</th>\n      <td id=\"T_aa6d2_row2_col0\" class=\"data row2 col0\" >20,640</td>\n      <td id=\"T_aa6d2_row2_col1\" class=\"data row2 col1\" >0</td>\n      <td id=\"T_aa6d2_row2_col2\" class=\"data row2 col2\" >0.0%</td>\n      <td id=\"T_aa6d2_row2_col3\" class=\"data row2 col3\" >44</td>\n      <td id=\"T_aa6d2_row2_col4\" class=\"data row2 col4\" >0.0%</td>\n      <td id=\"T_aa6d2_row2_col5\" class=\"data row2 col5\" >2,632.3</td>\n      <td id=\"T_aa6d2_row2_col6\" class=\"data row2 col6\" >2,184.3</td>\n      <td id=\"T_aa6d2_row2_col7\" class=\"data row2 col7\" >0.8</td>\n      <td id=\"T_aa6d2_row2_col8\" class=\"data row2 col8\" >4.1</td>\n      <td id=\"T_aa6d2_row2_col9\" class=\"data row2 col9\" >32.5</td>\n      <td id=\"T_aa6d2_row2_col10\" class=\"data row2 col10\" >0.0</td>\n      <td id=\"T_aa6d2_row2_col11\" class=\"data row2 col11\" >932.0</td>\n      <td id=\"T_aa6d2_row2_col12\" class=\"data row2 col12\" >1,444.0</td>\n      <td id=\"T_aa6d2_row2_col13\" class=\"data row2 col13\" >2,125.0</td>\n      <td id=\"T_aa6d2_row2_col14\" class=\"data row2 col14\" >3,146.2</td>\n      <td id=\"T_aa6d2_row2_col15\" class=\"data row2 col15\" >4,651.5</td>\n      <td id=\"T_aa6d2_row2_col16\" class=\"data row2 col16\" >39,320.0</td>\n    </tr>\n    <tr>\n      <th id=\"T_aa6d2_level0_row3\" class=\"row_heading level0 row3\" >total_bedrooms</th>\n      <td id=\"T_aa6d2_row3_col0\" class=\"data row3 col0\" >20,640</td>\n      <td id=\"T_aa6d2_row3_col1\" class=\"data row3 col1\" >0</td>\n      <td id=\"T_aa6d2_row3_col2\" class=\"data row3 col2\" >0.0%</td>\n      <td id=\"T_aa6d2_row3_col3\" class=\"data row3 col3\" >0</td>\n      <td id=\"T_aa6d2_row3_col4\" class=\"data row3 col4\" >0.0%</td>\n      <td id=\"T_aa6d2_row3_col5\" class=\"data row3 col5\" >537.9</td>\n      <td id=\"T_aa6d2_row3_col6\" class=\"data row3 col6\" >421.2</td>\n      <td id=\"T_aa6d2_row3_col7\" class=\"data row3 col7\" >0.8</td>\n      <td id=\"T_aa6d2_row3_col8\" class=\"data row3 col8\" >3.5</td>\n      <td id=\"T_aa6d2_row3_col9\" class=\"data row3 col9\" >21.9</td>\n      <td id=\"T_aa6d2_row3_col10\" class=\"data row3 col10\" >1.0</td>\n      <td id=\"T_aa6d2_row3_col11\" class=\"data row3 col11\" >198.0</td>\n      <td id=\"T_aa6d2_row3_col12\" class=\"data row3 col12\" >295.0</td>\n      <td id=\"T_aa6d2_row3_col13\" class=\"data row3 col13\" >435.0</td>\n      <td id=\"T_aa6d2_row3_col14\" class=\"data row3 col14\" >647.0</td>\n      <td id=\"T_aa6d2_row3_col15\" class=\"data row3 col15\" >966.0</td>\n      <td id=\"T_aa6d2_row3_col16\" class=\"data row3 col16\" >6,445.0</td>\n    </tr>\n    <tr>\n      <th id=\"T_aa6d2_level0_row4\" class=\"row_heading level0 row4\" >population</th>\n      <td id=\"T_aa6d2_row4_col0\" class=\"data row4 col0\" >20,640</td>\n      <td id=\"T_aa6d2_row4_col1\" class=\"data row4 col1\" >0</td>\n      <td id=\"T_aa6d2_row4_col2\" class=\"data row4 col2\" >0.0%</td>\n      <td id=\"T_aa6d2_row4_col3\" class=\"data row4 col3\" >0</td>\n      <td id=\"T_aa6d2_row4_col4\" class=\"data row4 col4\" >0.0%</td>\n      <td id=\"T_aa6d2_row4_col5\" class=\"data row4 col5\" >1,425.5</td>\n      <td id=\"T_aa6d2_row4_col6\" class=\"data row4 col6\" >1,132.5</td>\n      <td id=\"T_aa6d2_row4_col7\" class=\"data row4 col7\" >0.8</td>\n      <td id=\"T_aa6d2_row4_col8\" class=\"data row4 col8\" >4.9</td>\n      <td id=\"T_aa6d2_row4_col9\" class=\"data row4 col9\" >73.5</td>\n      <td id=\"T_aa6d2_row4_col10\" class=\"data row4 col10\" >3.0</td>\n      <td id=\"T_aa6d2_row4_col11\" class=\"data row4 col11\" >510.0</td>\n      <td id=\"T_aa6d2_row4_col12\" class=\"data row4 col12\" >787.0</td>\n      <td id=\"T_aa6d2_row4_col13\" class=\"data row4 col13\" >1,166.0</td>\n      <td id=\"T_aa6d2_row4_col14\" class=\"data row4 col14\" >1,725.0</td>\n      <td id=\"T_aa6d2_row4_col15\" class=\"data row4 col15\" >2,566.0</td>\n      <td id=\"T_aa6d2_row4_col16\" class=\"data row4 col16\" >35,682.0</td>\n    </tr>\n    <tr>\n      <th id=\"T_aa6d2_level0_row5\" class=\"row_heading level0 row5\" >households</th>\n      <td id=\"T_aa6d2_row5_col0\" class=\"data row5 col0\" >20,640</td>\n      <td id=\"T_aa6d2_row5_col1\" class=\"data row5 col1\" >0</td>\n      <td id=\"T_aa6d2_row5_col2\" class=\"data row5 col2\" >0.0%</td>\n      <td id=\"T_aa6d2_row5_col3\" class=\"data row5 col3\" >0</td>\n      <td id=\"T_aa6d2_row5_col4\" class=\"data row5 col4\" >0.0%</td>\n      <td id=\"T_aa6d2_row5_col5\" class=\"data row5 col5\" >499.5</td>\n      <td id=\"T_aa6d2_row5_col6\" class=\"data row5 col6\" >382.3</td>\n      <td id=\"T_aa6d2_row5_col7\" class=\"data row5 col7\" >0.8</td>\n      <td id=\"T_aa6d2_row5_col8\" class=\"data row5 col8\" >3.4</td>\n      <td id=\"T_aa6d2_row5_col9\" class=\"data row5 col9\" >22.1</td>\n      <td id=\"T_aa6d2_row5_col10\" class=\"data row5 col10\" >1.0</td>\n      <td id=\"T_aa6d2_row5_col11\" class=\"data row5 col11\" >184.0</td>\n      <td id=\"T_aa6d2_row5_col12\" class=\"data row5 col12\" >280.0</td>\n      <td id=\"T_aa6d2_row5_col13\" class=\"data row5 col13\" >409.0</td>\n      <td id=\"T_aa6d2_row5_col14\" class=\"data row5 col14\" >605.0</td>\n      <td id=\"T_aa6d2_row5_col15\" class=\"data row5 col15\" >890.0</td>\n      <td id=\"T_aa6d2_row5_col16\" class=\"data row5 col16\" >6,082.0</td>\n    </tr>\n    <tr>\n      <th id=\"T_aa6d2_level0_row6\" class=\"row_heading level0 row6\" >latitude</th>\n      <td id=\"T_aa6d2_row6_col0\" class=\"data row6 col0\" >20,640</td>\n      <td id=\"T_aa6d2_row6_col1\" class=\"data row6 col1\" >0</td>\n      <td id=\"T_aa6d2_row6_col2\" class=\"data row6 col2\" >0.0%</td>\n      <td id=\"T_aa6d2_row6_col3\" class=\"data row6 col3\" >0</td>\n      <td id=\"T_aa6d2_row6_col4\" class=\"data row6 col4\" >0.0%</td>\n      <td id=\"T_aa6d2_row6_col5\" class=\"data row6 col5\" >35.6</td>\n      <td id=\"T_aa6d2_row6_col6\" class=\"data row6 col6\" >2.1</td>\n      <td id=\"T_aa6d2_row6_col7\" class=\"data row6 col7\" >0.1</td>\n      <td id=\"T_aa6d2_row6_col8\" class=\"data row6 col8\" >0.5</td>\n      <td id=\"T_aa6d2_row6_col9\" class=\"data row6 col9\" >-1.1</td>\n      <td id=\"T_aa6d2_row6_col10\" class=\"data row6 col10\" >32.5</td>\n      <td id=\"T_aa6d2_row6_col11\" class=\"data row6 col11\" >33.6</td>\n      <td id=\"T_aa6d2_row6_col12\" class=\"data row6 col12\" >33.9</td>\n      <td id=\"T_aa6d2_row6_col13\" class=\"data row6 col13\" >34.3</td>\n      <td id=\"T_aa6d2_row6_col14\" class=\"data row6 col14\" >37.7</td>\n      <td id=\"T_aa6d2_row6_col15\" class=\"data row6 col15\" >38.5</td>\n      <td id=\"T_aa6d2_row6_col16\" class=\"data row6 col16\" >42.0</td>\n    </tr>\n    <tr>\n      <th id=\"T_aa6d2_level0_row7\" class=\"row_heading level0 row7\" >longitude</th>\n      <td id=\"T_aa6d2_row7_col0\" class=\"data row7 col0\" >20,640</td>\n      <td id=\"T_aa6d2_row7_col1\" class=\"data row7 col1\" >0</td>\n      <td id=\"T_aa6d2_row7_col2\" class=\"data row7 col2\" >0.0%</td>\n      <td id=\"T_aa6d2_row7_col3\" class=\"data row7 col3\" >0</td>\n      <td id=\"T_aa6d2_row7_col4\" class=\"data row7 col4\" >0.0%</td>\n      <td id=\"T_aa6d2_row7_col5\" class=\"data row7 col5\" >-119.6</td>\n      <td id=\"T_aa6d2_row7_col6\" class=\"data row7 col6\" >2.0</td>\n      <td id=\"T_aa6d2_row7_col7\" class=\"data row7 col7\" >-0.0</td>\n      <td id=\"T_aa6d2_row7_col8\" class=\"data row7 col8\" >-0.3</td>\n      <td id=\"T_aa6d2_row7_col9\" class=\"data row7 col9\" >-1.3</td>\n      <td id=\"T_aa6d2_row7_col10\" class=\"data row7 col10\" >-124.3</td>\n      <td id=\"T_aa6d2_row7_col11\" class=\"data row7 col11\" >-122.3</td>\n      <td id=\"T_aa6d2_row7_col12\" class=\"data row7 col12\" >-121.8</td>\n      <td id=\"T_aa6d2_row7_col13\" class=\"data row7 col13\" >-118.5</td>\n      <td id=\"T_aa6d2_row7_col14\" class=\"data row7 col14\" >-118.0</td>\n      <td id=\"T_aa6d2_row7_col15\" class=\"data row7 col15\" >-117.2</td>\n      <td id=\"T_aa6d2_row7_col16\" class=\"data row7 col16\" >-114.3</td>\n    </tr>\n    <tr>\n      <th id=\"T_aa6d2_level0_row8\" class=\"row_heading level0 row8\" >target</th>\n      <td id=\"T_aa6d2_row8_col0\" class=\"data row8 col0\" >20,640</td>\n      <td id=\"T_aa6d2_row8_col1\" class=\"data row8 col1\" >0</td>\n      <td id=\"T_aa6d2_row8_col2\" class=\"data row8 col2\" >0.0%</td>\n      <td id=\"T_aa6d2_row8_col3\" class=\"data row8 col3\" >0</td>\n      <td id=\"T_aa6d2_row8_col4\" class=\"data row8 col4\" >0.0%</td>\n      <td id=\"T_aa6d2_row8_col5\" class=\"data row8 col5\" >206,855.8</td>\n      <td id=\"T_aa6d2_row8_col6\" class=\"data row8 col6\" >115,395.6</td>\n      <td id=\"T_aa6d2_row8_col7\" class=\"data row8 col7\" >0.6</td>\n      <td id=\"T_aa6d2_row8_col8\" class=\"data row8 col8\" >1.0</td>\n      <td id=\"T_aa6d2_row8_col9\" class=\"data row8 col9\" >0.3</td>\n      <td id=\"T_aa6d2_row8_col10\" class=\"data row8 col10\" >14,999.0</td>\n      <td id=\"T_aa6d2_row8_col11\" class=\"data row8 col11\" >82,300.0</td>\n      <td id=\"T_aa6d2_row8_col12\" class=\"data row8 col12\" >119,600.0</td>\n      <td id=\"T_aa6d2_row8_col13\" class=\"data row8 col13\" >179,700.0</td>\n      <td id=\"T_aa6d2_row8_col14\" class=\"data row8 col14\" >264,725.0</td>\n      <td id=\"T_aa6d2_row8_col15\" class=\"data row8 col15\" >376,600.0</td>\n      <td id=\"T_aa6d2_row8_col16\" class=\"data row8 col16\" >500,001.0</td>\n    </tr>\n  </tbody>\n</table>\n"
     },
     "execution_count": 31,
     "metadata": {},
     "output_type": "execute_result"
    }
   ],
   "source": [
    "hlp.pandas.numeric_summary(housing)"
   ]
  },
  {
   "cell_type": "code",
   "execution_count": 32,
   "id": "81c892b0",
   "metadata": {
    "pycharm": {
     "name": "#%%\n"
    }
   },
   "outputs": [],
   "source": [
    "hlp.pandas.non_numeric_summary(housing)"
   ]
  },
  {
   "cell_type": "markdown",
   "id": "d298aa3c",
   "metadata": {},
   "source": [
    "# Training and Test Data"
   ]
  },
  {
   "cell_type": "code",
   "execution_count": 33,
   "id": "ca5943f3",
   "metadata": {
    "pycharm": {
     "name": "#%%\n"
    }
   },
   "outputs": [],
   "source": [
    "y_full = housing['target']\n",
    "X_full = housing.drop(columns='target')\n",
    "\n",
    "del housing"
   ]
  },
  {
   "cell_type": "code",
   "execution_count": 34,
   "outputs": [
    {
     "data": {
      "text/plain": "<AxesSubplot:ylabel='Frequency'>"
     },
     "execution_count": 34,
     "metadata": {},
     "output_type": "execute_result"
    },
    {
     "data": {
      "text/plain": "<Figure size 432x288 with 1 Axes>",
      "image/png": "[encoded data removed]"
     },
     "metadata": {
      "needs_background": "light"
     },
     "output_type": "display_data"
    }
   ],
   "source": [
    "y_full.plot.hist()"
   ],
   "metadata": {
    "collapsed": false,
    "pycharm": {
     "name": "#%%\n"
    }
   }
  },
  {
   "cell_type": "code",
   "execution_count": 35,
   "id": "c98fd62a",
   "metadata": {
    "pycharm": {
     "name": "#%%\n"
    }
   },
   "outputs": [
    {
     "data": {
      "text/plain": "0    452600.0\n1    358500.0\n2    352100.0\n3    341300.0\n4    342200.0\n5    269700.0\n6    299200.0\n7    241400.0\n8    226700.0\n9    261100.0\nName: target, dtype: float64"
     },
     "execution_count": 35,
     "metadata": {},
     "output_type": "execute_result"
    }
   ],
   "source": [
    "y_full[0:10]"
   ]
  },
  {
   "cell_type": "code",
   "execution_count": 36,
   "id": "da2dbd5f",
   "metadata": {
    "pycharm": {
     "name": "#%%\n"
    }
   },
   "outputs": [],
   "source": [
    "X_train, X_test, y_train, y_test = train_test_split(X_full, y_full, test_size=0.2, random_state=42)"
   ]
  },
  {
   "cell_type": "code",
   "execution_count": 37,
   "id": "6b662a42",
   "metadata": {
    "pycharm": {
     "name": "#%%\n"
    }
   },
   "outputs": [
    {
     "name": "stdout",
     "output_type": "stream",
     "text": [
      "(16512, 8)\n",
      "16512\n",
      "(4128, 8)\n",
      "4128\n"
     ]
    }
   ],
   "source": [
    "print(X_train.shape)\n",
    "print(len(y_train))\n",
    "\n",
    "print(X_test.shape)\n",
    "print(len(y_test))"
   ]
  },
  {
   "cell_type": "markdown",
   "source": [],
   "metadata": {
    "collapsed": false,
    "pycharm": {
     "name": "#%% md\n"
    }
   }
  },
  {
   "cell_type": "code",
   "execution_count": 38,
   "outputs": [],
   "source": [
    "from sklearn.metrics import make_scorer, mean_squared_error\n",
    "\n",
    "scores = {\n",
    "    'RMSE': make_scorer(mean_squared_error, greater_is_better=False, squared=False)\n",
    "}"
   ],
   "metadata": {
    "collapsed": false,
    "pycharm": {
     "name": "#%%\n"
    }
   }
  },
  {
   "cell_type": "code",
   "execution_count": 39,
   "outputs": [
    {
     "data": {
      "text/plain": "[({'model': Categorical(categories=(ElasticNet(random_state=42),), prior=None),\n   'model__alpha': Real(low=1e-05, high=10, prior='log-uniform', transform='identity'),\n   'model__l1_ratio': Real(low=0, high=1, prior='uniform', transform='identity'),\n   'prep__numeric__imputer__transformer': Categorical(categories=(SimpleImputer(), SimpleImputer(strategy='median'), SimpleImputer(strategy='most_frequent')), prior=[0.5, 0.25, 0.25]),\n   'prep__numeric__scaler__transformer': Categorical(categories=(StandardScaler(), MinMaxScaler()), prior=[0.65, 0.35]),\n   'prep__numeric__pca__transformer': Categorical(categories=(None, PCA(n_components='mle')), prior=None),\n   'prep__non_numeric__encoder__transformer': Categorical(categories=(OneHotEncoder(handle_unknown='ignore'), CustomOrdinalEncoder()), prior=[0.65, 0.35])},\n  3),\n ({'model': Categorical(categories=(ElasticNet(random_state=42),), prior=None),\n   'prep__numeric__imputer__transformer': Categorical(categories=(SimpleImputer(),), prior=None),\n   'prep__numeric__scaler__transformer': Categorical(categories=(StandardScaler(),), prior=None),\n   'prep__numeric__pca__transformer': Categorical(categories=(None,), prior=None),\n   'prep__non_numeric__encoder__transformer': Categorical(categories=(OneHotEncoder(handle_unknown='ignore'),), prior=None)},\n  1),\n ({'model': Categorical(categories=(ExtraTreesRegressor(bootstrap=True, n_estimators=500, random_state=42),), prior=None),\n   'model__max_features': Real(low=0.01, high=0.95, prior='uniform', transform='identity'),\n   'model__max_depth': Integer(low=1, high=100, prior='uniform', transform='identity'),\n   'model__n_estimators': Integer(low=500, high=2000, prior='uniform', transform='identity'),\n   'model__min_samples_split': Integer(low=2, high=50, prior='uniform', transform='identity'),\n   'model__min_samples_leaf': Integer(low=1, high=50, prior='uniform', transform='identity'),\n   'model__max_samples': Real(low=0.5, high=1.0, prior='uniform', transform='identity'),\n   'model__criterion': Categorical(categories=('squared_error', 'absolute_error', 'poisson'), prior=None),\n   'prep__numeric__imputer__transformer': Categorical(categories=(SimpleImputer(), SimpleImputer(strategy='median'), SimpleImputer(strategy='most_frequent')), prior=[0.5, 0.25, 0.25]),\n   'prep__numeric__scaler__transformer': Categorical(categories=(None,), prior=None),\n   'prep__numeric__pca__transformer': Categorical(categories=(None, PCA(n_components='mle')), prior=None),\n   'prep__non_numeric__encoder__transformer': Categorical(categories=(OneHotEncoder(handle_unknown='ignore'), CustomOrdinalEncoder()), prior=[0.65, 0.35])},\n  3),\n ({'model': Categorical(categories=(ExtraTreesRegressor(bootstrap=True, n_estimators=500, random_state=42),), prior=None),\n   'prep__numeric__imputer__transformer': Categorical(categories=(SimpleImputer(),), prior=None),\n   'prep__numeric__scaler__transformer': Categorical(categories=(None,), prior=None),\n   'prep__numeric__pca__transformer': Categorical(categories=(None,), prior=None),\n   'prep__non_numeric__encoder__transformer': Categorical(categories=(OneHotEncoder(handle_unknown='ignore'),), prior=None)},\n  1),\n ({'model': Categorical(categories=(RandomForestRegressor(n_estimators=500, random_state=42),), prior=None),\n   'model__max_features': Real(low=0.01, high=0.95, prior='uniform', transform='identity'),\n   'model__max_depth': Integer(low=1, high=100, prior='uniform', transform='identity'),\n   'model__n_estimators': Integer(low=500, high=2000, prior='uniform', transform='identity'),\n   'model__min_samples_split': Integer(low=2, high=50, prior='uniform', transform='identity'),\n   'model__min_samples_leaf': Integer(low=1, high=50, prior='uniform', transform='identity'),\n   'model__max_samples': Real(low=0.5, high=1.0, prior='uniform', transform='identity'),\n   'model__criterion': Categorical(categories=('squared_error', 'absolute_error', 'poisson'), prior=None),\n   'prep__numeric__imputer__transformer': Categorical(categories=(SimpleImputer(), SimpleImputer(strategy='median'), SimpleImputer(strategy='most_frequent')), prior=[0.5, 0.25, 0.25]),\n   'prep__numeric__scaler__transformer': Categorical(categories=(None,), prior=None),\n   'prep__numeric__pca__transformer': Categorical(categories=(None, PCA(n_components='mle')), prior=None),\n   'prep__non_numeric__encoder__transformer': Categorical(categories=(OneHotEncoder(handle_unknown='ignore'), CustomOrdinalEncoder()), prior=[0.65, 0.35])},\n  3),\n ({'model': Categorical(categories=(RandomForestRegressor(n_estimators=500, random_state=42),), prior=None),\n   'prep__numeric__imputer__transformer': Categorical(categories=(SimpleImputer(),), prior=None),\n   'prep__numeric__scaler__transformer': Categorical(categories=(None,), prior=None),\n   'prep__numeric__pca__transformer': Categorical(categories=(None,), prior=None),\n   'prep__non_numeric__encoder__transformer': Categorical(categories=(OneHotEncoder(handle_unknown='ignore'),), prior=None)},\n  1),\n ({'model': Categorical(categories=(XGBRegressor(base_score=None, booster=None, colsample_bylevel=None,\n                colsample_bynode=None, colsample_bytree=None,\n                enable_categorical=False, eval_metric='rmse', gamma=None,\n                gpu_id=None, importance_type=None, interaction_constraints=None,\n                learning_rate=None, max_delta_step=None, max_depth=None,\n                min_child_weight=None, missing=nan, monotone_constraints=None,\n                n_estimators=500, n_jobs=None, num_parallel_tree=None,\n                predictor=None, random_state=42, reg_alpha=None, reg_lambda=None,\n                scale_pos_weight=None, subsample=None, tree_method=None,\n                use_label_encoder=False, validate_parameters=None, verbosity=None),), prior=None),\n   'model__max_depth': Integer(low=1, high=20, prior='log-uniform', transform='identity'),\n   'model__learning_rate': Real(low=0.01, high=0.3, prior='log-uniform', transform='identity'),\n   'model__n_estimators': Integer(low=500, high=2000, prior='uniform', transform='identity'),\n   'model__min_child_weight': Integer(low=1, high=50, prior='log-uniform', transform='identity'),\n   'model__subsample': Real(low=0.5, high=1, prior='uniform', transform='identity'),\n   'model__colsample_bytree': Real(low=0.5, high=1, prior='uniform', transform='identity'),\n   'model__colsample_bylevel': Real(low=0.5, high=1, prior='uniform', transform='identity'),\n   'model__reg_alpha': Real(low=0.0001, high=1, prior='log-uniform', transform='identity'),\n   'model__reg_lambda': Real(low=1, high=4, prior='log-uniform', transform='identity'),\n   'prep__numeric__imputer__transformer': Categorical(categories=(SimpleImputer(), SimpleImputer(strategy='median'), SimpleImputer(strategy='most_frequent')), prior=[0.5, 0.25, 0.25]),\n   'prep__numeric__scaler__transformer': Categorical(categories=(None,), prior=None),\n   'prep__numeric__pca__transformer': Categorical(categories=(None, PCA(n_components='mle')), prior=None),\n   'prep__non_numeric__encoder__transformer': Categorical(categories=(OneHotEncoder(handle_unknown='ignore'), CustomOrdinalEncoder()), prior=[0.65, 0.35])},\n  3),\n ({'model': Categorical(categories=(XGBRegressor(base_score=None, booster=None, colsample_bylevel=None,\n                colsample_bynode=None, colsample_bytree=None,\n                enable_categorical=False, eval_metric='rmse', gamma=None,\n                gpu_id=None, importance_type=None, interaction_constraints=None,\n                learning_rate=None, max_delta_step=None, max_depth=None,\n                min_child_weight=None, missing=nan, monotone_constraints=None,\n                n_estimators=500, n_jobs=None, num_parallel_tree=None,\n                predictor=None, random_state=42, reg_alpha=None, reg_lambda=None,\n                scale_pos_weight=None, subsample=None, tree_method=None,\n                use_label_encoder=False, validate_parameters=None, verbosity=None),), prior=None),\n   'prep__numeric__imputer__transformer': Categorical(categories=(SimpleImputer(),), prior=None),\n   'prep__numeric__scaler__transformer': Categorical(categories=(None,), prior=None),\n   'prep__numeric__pca__transformer': Categorical(categories=(None,), prior=None),\n   'prep__non_numeric__encoder__transformer': Categorical(categories=(OneHotEncoder(handle_unknown='ignore'),), prior=None)},\n  1)]"
     },
     "execution_count": 39,
     "metadata": {},
     "output_type": "execute_result"
    }
   ],
   "source": [
    "search_space = hlp.sklearn_search_bayesian.BayesianSearchSpace(\n",
    "    data=X_train,\n",
    "    model_type='regression',\n",
    "    iterations=3,\n",
    "    random_state=42,\n",
    ")\n",
    "search_space.search_spaces()"
   ],
   "metadata": {
    "collapsed": false,
    "pycharm": {
     "name": "#%%\n"
    }
   }
  },
  {
   "cell_type": "code",
   "execution_count": 40,
   "outputs": [
    {
     "name": "stdout",
     "output_type": "stream",
     "text": [
      "(3303, 8)\n",
      "Fitting 5 folds for each of 1 candidates, totalling 5 fits\n",
      "[CV] END model=ElasticNet(random_state=42), model__alpha=3.3117333277546708, model__l1_ratio=0.49646670359671674, prep__non_numeric__encoder__transformer=CustomOrdinalEncoder(), prep__numeric__imputer__transformer=SimpleImputer(strategy='median'), prep__numeric__pca__transformer=None, prep__numeric__scaler__transformer=MinMaxScaler(); total time=   0.0s\n",
      "[CV] END model=ElasticNet(random_state=42), model__alpha=3.3117333277546708, model__l1_ratio=0.49646670359671674, prep__non_numeric__encoder__transformer=CustomOrdinalEncoder(), prep__numeric__imputer__transformer=SimpleImputer(strategy='median'), prep__numeric__pca__transformer=None, prep__numeric__scaler__transformer=MinMaxScaler(); total time=   0.0s\n",
      "[CV] END model=ElasticNet(random_state=42), model__alpha=3.3117333277546708, model__l1_ratio=0.49646670359671674, prep__non_numeric__encoder__transformer=CustomOrdinalEncoder(), prep__numeric__imputer__transformer=SimpleImputer(strategy='median'), prep__numeric__pca__transformer=None, prep__numeric__scaler__transformer=MinMaxScaler(); total time=   0.0s\n",
      "[CV] END model=ElasticNet(random_state=42), model__alpha=3.3117333277546708, model__l1_ratio=0.49646670359671674, prep__non_numeric__encoder__transformer=CustomOrdinalEncoder(), prep__numeric__imputer__transformer=SimpleImputer(strategy='median'), prep__numeric__pca__transformer=None, prep__numeric__scaler__transformer=MinMaxScaler(); total time=   0.0s\n",
      "[CV] END model=ElasticNet(random_state=42), model__alpha=3.3117333277546708, model__l1_ratio=0.49646670359671674, prep__non_numeric__encoder__transformer=CustomOrdinalEncoder(), prep__numeric__imputer__transformer=SimpleImputer(strategy='median'), prep__numeric__pca__transformer=None, prep__numeric__scaler__transformer=MinMaxScaler(); total time=   0.0s\n",
      "Fitting 5 folds for each of 1 candidates, totalling 5 fits\n",
      "[CV] END model=ElasticNet(random_state=42), model__alpha=0.1598558991826748, model__l1_ratio=0.871651928463215, prep__non_numeric__encoder__transformer=OneHotEncoder(handle_unknown='ignore'), prep__numeric__imputer__transformer=SimpleImputer(strategy='median'), prep__numeric__pca__transformer=None, prep__numeric__scaler__transformer=StandardScaler(); total time=   0.0s\n",
      "[CV] END model=ElasticNet(random_state=42), model__alpha=0.1598558991826748, model__l1_ratio=0.871651928463215, prep__non_numeric__encoder__transformer=OneHotEncoder(handle_unknown='ignore'), prep__numeric__imputer__transformer=SimpleImputer(strategy='median'), prep__numeric__pca__transformer=None, prep__numeric__scaler__transformer=StandardScaler(); total time=   0.0s\n",
      "[CV] END model=ElasticNet(random_state=42), model__alpha=0.1598558991826748, model__l1_ratio=0.871651928463215, prep__non_numeric__encoder__transformer=OneHotEncoder(handle_unknown='ignore'), prep__numeric__imputer__transformer=SimpleImputer(strategy='median'), prep__numeric__pca__transformer=None, prep__numeric__scaler__transformer=StandardScaler(); total time=   0.0s\n",
      "[CV] END model=ElasticNet(random_state=42), model__alpha=0.1598558991826748, model__l1_ratio=0.871651928463215, prep__non_numeric__encoder__transformer=OneHotEncoder(handle_unknown='ignore'), prep__numeric__imputer__transformer=SimpleImputer(strategy='median'), prep__numeric__pca__transformer=None, prep__numeric__scaler__transformer=StandardScaler(); total time=   0.0s\n",
      "[CV] END model=ElasticNet(random_state=42), model__alpha=0.1598558991826748, model__l1_ratio=0.871651928463215, prep__non_numeric__encoder__transformer=OneHotEncoder(handle_unknown='ignore'), prep__numeric__imputer__transformer=SimpleImputer(strategy='median'), prep__numeric__pca__transformer=None, prep__numeric__scaler__transformer=StandardScaler(); total time=   0.0s\n",
      "Fitting 5 folds for each of 1 candidates, totalling 5 fits\n",
      "[CV] END model=ElasticNet(random_state=42), model__alpha=0.8071980758451054, model__l1_ratio=0.7412827443680273, prep__non_numeric__encoder__transformer=OneHotEncoder(handle_unknown='ignore'), prep__numeric__imputer__transformer=SimpleImputer(strategy='median'), prep__numeric__pca__transformer=None, prep__numeric__scaler__transformer=StandardScaler(); total time=   0.0s\n",
      "[CV] END model=ElasticNet(random_state=42), model__alpha=0.8071980758451054, model__l1_ratio=0.7412827443680273, prep__non_numeric__encoder__transformer=OneHotEncoder(handle_unknown='ignore'), prep__numeric__imputer__transformer=SimpleImputer(strategy='median'), prep__numeric__pca__transformer=None, prep__numeric__scaler__transformer=StandardScaler(); total time=   0.0s\n",
      "[CV] END model=ElasticNet(random_state=42), model__alpha=0.8071980758451054, model__l1_ratio=0.7412827443680273, prep__non_numeric__encoder__transformer=OneHotEncoder(handle_unknown='ignore'), prep__numeric__imputer__transformer=SimpleImputer(strategy='median'), prep__numeric__pca__transformer=None, prep__numeric__scaler__transformer=StandardScaler(); total time=   0.0s\n",
      "[CV] END model=ElasticNet(random_state=42), model__alpha=0.8071980758451054, model__l1_ratio=0.7412827443680273, prep__non_numeric__encoder__transformer=OneHotEncoder(handle_unknown='ignore'), prep__numeric__imputer__transformer=SimpleImputer(strategy='median'), prep__numeric__pca__transformer=None, prep__numeric__scaler__transformer=StandardScaler(); total time=   0.0s\n",
      "[CV] END model=ElasticNet(random_state=42), model__alpha=0.8071980758451054, model__l1_ratio=0.7412827443680273, prep__non_numeric__encoder__transformer=OneHotEncoder(handle_unknown='ignore'), prep__numeric__imputer__transformer=SimpleImputer(strategy='median'), prep__numeric__pca__transformer=None, prep__numeric__scaler__transformer=StandardScaler(); total time=   0.0s\n",
      "Fitting 5 folds for each of 1 candidates, totalling 5 fits\n",
      "[CV] END model=ElasticNet(random_state=42), prep__non_numeric__encoder__transformer=OneHotEncoder(handle_unknown='ignore'), prep__numeric__imputer__transformer=SimpleImputer(), prep__numeric__pca__transformer=None, prep__numeric__scaler__transformer=StandardScaler(); total time=   0.0s\n",
      "[CV] END model=ElasticNet(random_state=42), prep__non_numeric__encoder__transformer=OneHotEncoder(handle_unknown='ignore'), prep__numeric__imputer__transformer=SimpleImputer(), prep__numeric__pca__transformer=None, prep__numeric__scaler__transformer=StandardScaler(); total time=   0.0s\n",
      "[CV] END model=ElasticNet(random_state=42), prep__non_numeric__encoder__transformer=OneHotEncoder(handle_unknown='ignore'), prep__numeric__imputer__transformer=SimpleImputer(), prep__numeric__pca__transformer=None, prep__numeric__scaler__transformer=StandardScaler(); total time=   0.0s\n",
      "[CV] END model=ElasticNet(random_state=42), prep__non_numeric__encoder__transformer=OneHotEncoder(handle_unknown='ignore'), prep__numeric__imputer__transformer=SimpleImputer(), prep__numeric__pca__transformer=None, prep__numeric__scaler__transformer=StandardScaler(); total time=   0.0s\n",
      "[CV] END model=ElasticNet(random_state=42), prep__non_numeric__encoder__transformer=OneHotEncoder(handle_unknown='ignore'), prep__numeric__imputer__transformer=SimpleImputer(), prep__numeric__pca__transformer=None, prep__numeric__scaler__transformer=StandardScaler(); total time=   0.0s\n",
      "Fitting 5 folds for each of 1 candidates, totalling 5 fits\n",
      "[CV] END model=ExtraTreesRegressor(bootstrap=True, n_estimators=500, random_state=42), model__criterion=poisson, model__max_depth=96, model__max_features=0.29997689949170153, model__max_samples=0.7455551022408218, model__min_samples_leaf=20, model__min_samples_split=21, model__n_estimators=824, prep__non_numeric__encoder__transformer=OneHotEncoder(handle_unknown='ignore'), prep__numeric__imputer__transformer=SimpleImputer(strategy='most_frequent'), prep__numeric__pca__transformer=PCA(n_components='mle'), prep__numeric__scaler__transformer=None; total time=   0.6s\n",
      "[CV] END model=ExtraTreesRegressor(bootstrap=True, n_estimators=500, random_state=42), model__criterion=poisson, model__max_depth=96, model__max_features=0.29997689949170153, model__max_samples=0.7455551022408218, model__min_samples_leaf=20, model__min_samples_split=21, model__n_estimators=824, prep__non_numeric__encoder__transformer=OneHotEncoder(handle_unknown='ignore'), prep__numeric__imputer__transformer=SimpleImputer(strategy='most_frequent'), prep__numeric__pca__transformer=PCA(n_components='mle'), prep__numeric__scaler__transformer=None; total time=   0.6s\n",
      "[CV] END model=ExtraTreesRegressor(bootstrap=True, n_estimators=500, random_state=42), model__criterion=poisson, model__max_depth=96, model__max_features=0.29997689949170153, model__max_samples=0.7455551022408218, model__min_samples_leaf=20, model__min_samples_split=21, model__n_estimators=824, prep__non_numeric__encoder__transformer=OneHotEncoder(handle_unknown='ignore'), prep__numeric__imputer__transformer=SimpleImputer(strategy='most_frequent'), prep__numeric__pca__transformer=PCA(n_components='mle'), prep__numeric__scaler__transformer=None; total time=   0.6s\n",
      "[CV] END model=ExtraTreesRegressor(bootstrap=True, n_estimators=500, random_state=42), model__criterion=poisson, model__max_depth=96, model__max_features=0.29997689949170153, model__max_samples=0.7455551022408218, model__min_samples_leaf=20, model__min_samples_split=21, model__n_estimators=824, prep__non_numeric__encoder__transformer=OneHotEncoder(handle_unknown='ignore'), prep__numeric__imputer__transformer=SimpleImputer(strategy='most_frequent'), prep__numeric__pca__transformer=PCA(n_components='mle'), prep__numeric__scaler__transformer=None; total time=   0.6s\n",
      "[CV] END model=ExtraTreesRegressor(bootstrap=True, n_estimators=500, random_state=42), model__criterion=poisson, model__max_depth=96, model__max_features=0.29997689949170153, model__max_samples=0.7455551022408218, model__min_samples_leaf=20, model__min_samples_split=21, model__n_estimators=824, prep__non_numeric__encoder__transformer=OneHotEncoder(handle_unknown='ignore'), prep__numeric__imputer__transformer=SimpleImputer(strategy='most_frequent'), prep__numeric__pca__transformer=PCA(n_components='mle'), prep__numeric__scaler__transformer=None; total time=   0.6s\n",
      "Fitting 5 folds for each of 1 candidates, totalling 5 fits\n",
      "[CV] END model=ExtraTreesRegressor(bootstrap=True, n_estimators=500, random_state=42), model__criterion=absolute_error, model__max_depth=85, model__max_features=0.36238465000657355, model__max_samples=0.8987194012367643, model__min_samples_leaf=10, model__min_samples_split=5, model__n_estimators=1378, prep__non_numeric__encoder__transformer=OneHotEncoder(handle_unknown='ignore'), prep__numeric__imputer__transformer=SimpleImputer(strategy='most_frequent'), prep__numeric__pca__transformer=PCA(n_components='mle'), prep__numeric__scaler__transformer=None; total time=  15.9s\n",
      "[CV] END model=ExtraTreesRegressor(bootstrap=True, n_estimators=500, random_state=42), model__criterion=absolute_error, model__max_depth=85, model__max_features=0.36238465000657355, model__max_samples=0.8987194012367643, model__min_samples_leaf=10, model__min_samples_split=5, model__n_estimators=1378, prep__non_numeric__encoder__transformer=OneHotEncoder(handle_unknown='ignore'), prep__numeric__imputer__transformer=SimpleImputer(strategy='most_frequent'), prep__numeric__pca__transformer=PCA(n_components='mle'), prep__numeric__scaler__transformer=None; total time=  15.3s\n",
      "[CV] END model=ExtraTreesRegressor(bootstrap=True, n_estimators=500, random_state=42), model__criterion=absolute_error, model__max_depth=85, model__max_features=0.36238465000657355, model__max_samples=0.8987194012367643, model__min_samples_leaf=10, model__min_samples_split=5, model__n_estimators=1378, prep__non_numeric__encoder__transformer=OneHotEncoder(handle_unknown='ignore'), prep__numeric__imputer__transformer=SimpleImputer(strategy='most_frequent'), prep__numeric__pca__transformer=PCA(n_components='mle'), prep__numeric__scaler__transformer=None; total time=  15.5s\n",
      "[CV] END model=ExtraTreesRegressor(bootstrap=True, n_estimators=500, random_state=42), model__criterion=absolute_error, model__max_depth=85, model__max_features=0.36238465000657355, model__max_samples=0.8987194012367643, model__min_samples_leaf=10, model__min_samples_split=5, model__n_estimators=1378, prep__non_numeric__encoder__transformer=OneHotEncoder(handle_unknown='ignore'), prep__numeric__imputer__transformer=SimpleImputer(strategy='most_frequent'), prep__numeric__pca__transformer=PCA(n_components='mle'), prep__numeric__scaler__transformer=None; total time=  15.1s\n",
      "[CV] END model=ExtraTreesRegressor(bootstrap=True, n_estimators=500, random_state=42), model__criterion=absolute_error, model__max_depth=85, model__max_features=0.36238465000657355, model__max_samples=0.8987194012367643, model__min_samples_leaf=10, model__min_samples_split=5, model__n_estimators=1378, prep__non_numeric__encoder__transformer=OneHotEncoder(handle_unknown='ignore'), prep__numeric__imputer__transformer=SimpleImputer(strategy='most_frequent'), prep__numeric__pca__transformer=PCA(n_components='mle'), prep__numeric__scaler__transformer=None; total time=  15.6s\n",
      "Fitting 5 folds for each of 1 candidates, totalling 5 fits\n",
      "[CV] END model=ExtraTreesRegressor(bootstrap=True, n_estimators=500, random_state=42), model__criterion=squared_error, model__max_depth=25, model__max_features=0.4734820214585714, model__max_samples=0.6308684032130806, model__min_samples_leaf=6, model__min_samples_split=48, model__n_estimators=834, prep__non_numeric__encoder__transformer=CustomOrdinalEncoder(), prep__numeric__imputer__transformer=SimpleImputer(), prep__numeric__pca__transformer=PCA(n_components='mle'), prep__numeric__scaler__transformer=None; total time=   0.7s\n",
      "[CV] END model=ExtraTreesRegressor(bootstrap=True, n_estimators=500, random_state=42), model__criterion=squared_error, model__max_depth=25, model__max_features=0.4734820214585714, model__max_samples=0.6308684032130806, model__min_samples_leaf=6, model__min_samples_split=48, model__n_estimators=834, prep__non_numeric__encoder__transformer=CustomOrdinalEncoder(), prep__numeric__imputer__transformer=SimpleImputer(), prep__numeric__pca__transformer=PCA(n_components='mle'), prep__numeric__scaler__transformer=None; total time=   0.7s\n",
      "[CV] END model=ExtraTreesRegressor(bootstrap=True, n_estimators=500, random_state=42), model__criterion=squared_error, model__max_depth=25, model__max_features=0.4734820214585714, model__max_samples=0.6308684032130806, model__min_samples_leaf=6, model__min_samples_split=48, model__n_estimators=834, prep__non_numeric__encoder__transformer=CustomOrdinalEncoder(), prep__numeric__imputer__transformer=SimpleImputer(), prep__numeric__pca__transformer=PCA(n_components='mle'), prep__numeric__scaler__transformer=None; total time=   0.8s\n",
      "[CV] END model=ExtraTreesRegressor(bootstrap=True, n_estimators=500, random_state=42), model__criterion=squared_error, model__max_depth=25, model__max_features=0.4734820214585714, model__max_samples=0.6308684032130806, model__min_samples_leaf=6, model__min_samples_split=48, model__n_estimators=834, prep__non_numeric__encoder__transformer=CustomOrdinalEncoder(), prep__numeric__imputer__transformer=SimpleImputer(), prep__numeric__pca__transformer=PCA(n_components='mle'), prep__numeric__scaler__transformer=None; total time=   0.7s\n",
      "[CV] END model=ExtraTreesRegressor(bootstrap=True, n_estimators=500, random_state=42), model__criterion=squared_error, model__max_depth=25, model__max_features=0.4734820214585714, model__max_samples=0.6308684032130806, model__min_samples_leaf=6, model__min_samples_split=48, model__n_estimators=834, prep__non_numeric__encoder__transformer=CustomOrdinalEncoder(), prep__numeric__imputer__transformer=SimpleImputer(), prep__numeric__pca__transformer=PCA(n_components='mle'), prep__numeric__scaler__transformer=None; total time=   0.7s\n",
      "Fitting 5 folds for each of 1 candidates, totalling 5 fits\n",
      "[CV] END model=ExtraTreesRegressor(bootstrap=True, n_estimators=500, random_state=42), prep__non_numeric__encoder__transformer=OneHotEncoder(handle_unknown='ignore'), prep__numeric__imputer__transformer=SimpleImputer(), prep__numeric__pca__transformer=None, prep__numeric__scaler__transformer=None; total time=   1.7s\n",
      "[CV] END model=ExtraTreesRegressor(bootstrap=True, n_estimators=500, random_state=42), prep__non_numeric__encoder__transformer=OneHotEncoder(handle_unknown='ignore'), prep__numeric__imputer__transformer=SimpleImputer(), prep__numeric__pca__transformer=None, prep__numeric__scaler__transformer=None; total time=   1.7s\n",
      "[CV] END model=ExtraTreesRegressor(bootstrap=True, n_estimators=500, random_state=42), prep__non_numeric__encoder__transformer=OneHotEncoder(handle_unknown='ignore'), prep__numeric__imputer__transformer=SimpleImputer(), prep__numeric__pca__transformer=None, prep__numeric__scaler__transformer=None; total time=   1.6s\n",
      "[CV] END model=ExtraTreesRegressor(bootstrap=True, n_estimators=500, random_state=42), prep__non_numeric__encoder__transformer=OneHotEncoder(handle_unknown='ignore'), prep__numeric__imputer__transformer=SimpleImputer(), prep__numeric__pca__transformer=None, prep__numeric__scaler__transformer=None; total time=   1.6s\n",
      "[CV] END model=ExtraTreesRegressor(bootstrap=True, n_estimators=500, random_state=42), prep__non_numeric__encoder__transformer=OneHotEncoder(handle_unknown='ignore'), prep__numeric__imputer__transformer=SimpleImputer(), prep__numeric__pca__transformer=None, prep__numeric__scaler__transformer=None; total time=   1.7s\n",
      "Fitting 5 folds for each of 1 candidates, totalling 5 fits\n",
      "[CV] END model=RandomForestRegressor(n_estimators=500, random_state=42), model__criterion=absolute_error, model__max_depth=30, model__max_features=0.856962325271055, model__max_samples=0.5625745905758682, model__min_samples_leaf=28, model__min_samples_split=17, model__n_estimators=879, prep__non_numeric__encoder__transformer=CustomOrdinalEncoder(), prep__numeric__imputer__transformer=SimpleImputer(strategy='median'), prep__numeric__pca__transformer=None, prep__numeric__scaler__transformer=None; total time=  37.7s\n",
      "[CV] END model=RandomForestRegressor(n_estimators=500, random_state=42), model__criterion=absolute_error, model__max_depth=30, model__max_features=0.856962325271055, model__max_samples=0.5625745905758682, model__min_samples_leaf=28, model__min_samples_split=17, model__n_estimators=879, prep__non_numeric__encoder__transformer=CustomOrdinalEncoder(), prep__numeric__imputer__transformer=SimpleImputer(strategy='median'), prep__numeric__pca__transformer=None, prep__numeric__scaler__transformer=None; total time=  37.1s\n",
      "[CV] END model=RandomForestRegressor(n_estimators=500, random_state=42), model__criterion=absolute_error, model__max_depth=30, model__max_features=0.856962325271055, model__max_samples=0.5625745905758682, model__min_samples_leaf=28, model__min_samples_split=17, model__n_estimators=879, prep__non_numeric__encoder__transformer=CustomOrdinalEncoder(), prep__numeric__imputer__transformer=SimpleImputer(strategy='median'), prep__numeric__pca__transformer=None, prep__numeric__scaler__transformer=None; total time=  36.2s\n",
      "[CV] END model=RandomForestRegressor(n_estimators=500, random_state=42), model__criterion=absolute_error, model__max_depth=30, model__max_features=0.856962325271055, model__max_samples=0.5625745905758682, model__min_samples_leaf=28, model__min_samples_split=17, model__n_estimators=879, prep__non_numeric__encoder__transformer=CustomOrdinalEncoder(), prep__numeric__imputer__transformer=SimpleImputer(strategy='median'), prep__numeric__pca__transformer=None, prep__numeric__scaler__transformer=None; total time=  36.3s\n",
      "[CV] END model=RandomForestRegressor(n_estimators=500, random_state=42), model__criterion=absolute_error, model__max_depth=30, model__max_features=0.856962325271055, model__max_samples=0.5625745905758682, model__min_samples_leaf=28, model__min_samples_split=17, model__n_estimators=879, prep__non_numeric__encoder__transformer=CustomOrdinalEncoder(), prep__numeric__imputer__transformer=SimpleImputer(strategy='median'), prep__numeric__pca__transformer=None, prep__numeric__scaler__transformer=None; total time=  35.6s\n",
      "Fitting 5 folds for each of 1 candidates, totalling 5 fits\n",
      "[CV] END model=RandomForestRegressor(n_estimators=500, random_state=42), model__criterion=poisson, model__max_depth=50, model__max_features=0.7812332723251562, model__max_samples=0.8455558039385863, model__min_samples_leaf=47, model__min_samples_split=35, model__n_estimators=590, prep__non_numeric__encoder__transformer=OneHotEncoder(handle_unknown='ignore'), prep__numeric__imputer__transformer=SimpleImputer(strategy='median'), prep__numeric__pca__transformer=PCA(n_components='mle'), prep__numeric__scaler__transformer=None; total time=   6.2s\n",
      "[CV] END model=RandomForestRegressor(n_estimators=500, random_state=42), model__criterion=poisson, model__max_depth=50, model__max_features=0.7812332723251562, model__max_samples=0.8455558039385863, model__min_samples_leaf=47, model__min_samples_split=35, model__n_estimators=590, prep__non_numeric__encoder__transformer=OneHotEncoder(handle_unknown='ignore'), prep__numeric__imputer__transformer=SimpleImputer(strategy='median'), prep__numeric__pca__transformer=PCA(n_components='mle'), prep__numeric__scaler__transformer=None; total time=   6.1s\n",
      "[CV] END model=RandomForestRegressor(n_estimators=500, random_state=42), model__criterion=poisson, model__max_depth=50, model__max_features=0.7812332723251562, model__max_samples=0.8455558039385863, model__min_samples_leaf=47, model__min_samples_split=35, model__n_estimators=590, prep__non_numeric__encoder__transformer=OneHotEncoder(handle_unknown='ignore'), prep__numeric__imputer__transformer=SimpleImputer(strategy='median'), prep__numeric__pca__transformer=PCA(n_components='mle'), prep__numeric__scaler__transformer=None; total time=   6.0s\n",
      "[CV] END model=RandomForestRegressor(n_estimators=500, random_state=42), model__criterion=poisson, model__max_depth=50, model__max_features=0.7812332723251562, model__max_samples=0.8455558039385863, model__min_samples_leaf=47, model__min_samples_split=35, model__n_estimators=590, prep__non_numeric__encoder__transformer=OneHotEncoder(handle_unknown='ignore'), prep__numeric__imputer__transformer=SimpleImputer(strategy='median'), prep__numeric__pca__transformer=PCA(n_components='mle'), prep__numeric__scaler__transformer=None; total time=   6.1s\n",
      "[CV] END model=RandomForestRegressor(n_estimators=500, random_state=42), model__criterion=poisson, model__max_depth=50, model__max_features=0.7812332723251562, model__max_samples=0.8455558039385863, model__min_samples_leaf=47, model__min_samples_split=35, model__n_estimators=590, prep__non_numeric__encoder__transformer=OneHotEncoder(handle_unknown='ignore'), prep__numeric__imputer__transformer=SimpleImputer(strategy='median'), prep__numeric__pca__transformer=PCA(n_components='mle'), prep__numeric__scaler__transformer=None; total time=   6.1s\n",
      "Fitting 5 folds for each of 1 candidates, totalling 5 fits\n",
      "[CV] END model=RandomForestRegressor(n_estimators=500, random_state=42), model__criterion=poisson, model__max_depth=81, model__max_features=0.6720263104468132, model__max_samples=0.9708723155369877, model__min_samples_leaf=34, model__min_samples_split=34, model__n_estimators=1136, prep__non_numeric__encoder__transformer=CustomOrdinalEncoder(), prep__numeric__imputer__transformer=SimpleImputer(strategy='median'), prep__numeric__pca__transformer=PCA(n_components='mle'), prep__numeric__scaler__transformer=None; total time=  13.8s\n",
      "[CV] END model=RandomForestRegressor(n_estimators=500, random_state=42), model__criterion=poisson, model__max_depth=81, model__max_features=0.6720263104468132, model__max_samples=0.9708723155369877, model__min_samples_leaf=34, model__min_samples_split=34, model__n_estimators=1136, prep__non_numeric__encoder__transformer=CustomOrdinalEncoder(), prep__numeric__imputer__transformer=SimpleImputer(strategy='median'), prep__numeric__pca__transformer=PCA(n_components='mle'), prep__numeric__scaler__transformer=None; total time=  13.4s\n",
      "[CV] END model=RandomForestRegressor(n_estimators=500, random_state=42), model__criterion=poisson, model__max_depth=81, model__max_features=0.6720263104468132, model__max_samples=0.9708723155369877, model__min_samples_leaf=34, model__min_samples_split=34, model__n_estimators=1136, prep__non_numeric__encoder__transformer=CustomOrdinalEncoder(), prep__numeric__imputer__transformer=SimpleImputer(strategy='median'), prep__numeric__pca__transformer=PCA(n_components='mle'), prep__numeric__scaler__transformer=None; total time=  13.3s\n",
      "[CV] END model=RandomForestRegressor(n_estimators=500, random_state=42), model__criterion=poisson, model__max_depth=81, model__max_features=0.6720263104468132, model__max_samples=0.9708723155369877, model__min_samples_leaf=34, model__min_samples_split=34, model__n_estimators=1136, prep__non_numeric__encoder__transformer=CustomOrdinalEncoder(), prep__numeric__imputer__transformer=SimpleImputer(strategy='median'), prep__numeric__pca__transformer=PCA(n_components='mle'), prep__numeric__scaler__transformer=None; total time=  13.5s\n",
      "[CV] END model=RandomForestRegressor(n_estimators=500, random_state=42), model__criterion=poisson, model__max_depth=81, model__max_features=0.6720263104468132, model__max_samples=0.9708723155369877, model__min_samples_leaf=34, model__min_samples_split=34, model__n_estimators=1136, prep__non_numeric__encoder__transformer=CustomOrdinalEncoder(), prep__numeric__imputer__transformer=SimpleImputer(strategy='median'), prep__numeric__pca__transformer=PCA(n_components='mle'), prep__numeric__scaler__transformer=None; total time=  13.7s\n",
      "Fitting 5 folds for each of 1 candidates, totalling 5 fits\n",
      "[CV] END model=RandomForestRegressor(n_estimators=500, random_state=42), prep__non_numeric__encoder__transformer=OneHotEncoder(handle_unknown='ignore'), prep__numeric__imputer__transformer=SimpleImputer(), prep__numeric__pca__transformer=None, prep__numeric__scaler__transformer=None; total time=   5.3s\n",
      "[CV] END model=RandomForestRegressor(n_estimators=500, random_state=42), prep__non_numeric__encoder__transformer=OneHotEncoder(handle_unknown='ignore'), prep__numeric__imputer__transformer=SimpleImputer(), prep__numeric__pca__transformer=None, prep__numeric__scaler__transformer=None; total time=   4.9s\n",
      "[CV] END model=RandomForestRegressor(n_estimators=500, random_state=42), prep__non_numeric__encoder__transformer=OneHotEncoder(handle_unknown='ignore'), prep__numeric__imputer__transformer=SimpleImputer(), prep__numeric__pca__transformer=None, prep__numeric__scaler__transformer=None; total time=   4.9s\n",
      "[CV] END model=RandomForestRegressor(n_estimators=500, random_state=42), prep__non_numeric__encoder__transformer=OneHotEncoder(handle_unknown='ignore'), prep__numeric__imputer__transformer=SimpleImputer(), prep__numeric__pca__transformer=None, prep__numeric__scaler__transformer=None; total time=   4.9s\n",
      "[CV] END model=RandomForestRegressor(n_estimators=500, random_state=42), prep__non_numeric__encoder__transformer=OneHotEncoder(handle_unknown='ignore'), prep__numeric__imputer__transformer=SimpleImputer(), prep__numeric__pca__transformer=None, prep__numeric__scaler__transformer=None; total time=   5.0s\n",
      "Fitting 5 folds for each of 1 candidates, totalling 5 fits\n",
      "[CV] END model=XGBRegressor(base_score=None, booster=None, colsample_bylevel=None,\n",
      "             colsample_bynode=None, colsample_bytree=None,\n",
      "             enable_categorical=False, eval_metric='rmse', gamma=None,\n",
      "             gpu_id=None, importance_type=None, interaction_constraints=None,\n",
      "             learning_rate=None, max_delta_step=None, max_depth=None,\n",
      "             min_child_weight=None, missing=nan, monotone_constraints=None,\n",
      "             n_estimators=500, n_jobs=None, num_parallel_tree=None,\n",
      "             predictor=None, random_state=42, reg_alpha=None, reg_lambda=None,\n",
      "             scale_pos_weight=None, subsample=None, tree_method=None,\n",
      "             use_label_encoder=False, validate_parameters=None, verbosity=None), model__colsample_bylevel=0.8670520936509356, model__colsample_bytree=0.8566242041195617, model__learning_rate=0.07290839937703011, model__max_depth=2, model__min_child_weight=12, model__n_estimators=1522, model__reg_alpha=0.016337420540548233, model__reg_lambda=1.6505620846039053, model__subsample=0.9757451412643567, prep__non_numeric__encoder__transformer=CustomOrdinalEncoder(), prep__numeric__imputer__transformer=SimpleImputer(strategy='most_frequent'), prep__numeric__pca__transformer=PCA(n_components='mle'), prep__numeric__scaler__transformer=None; total time=   1.1s\n",
      "[CV] END model=XGBRegressor(base_score=None, booster=None, colsample_bylevel=None,\n",
      "             colsample_bynode=None, colsample_bytree=None,\n",
      "             enable_categorical=False, eval_metric='rmse', gamma=None,\n",
      "             gpu_id=None, importance_type=None, interaction_constraints=None,\n",
      "             learning_rate=None, max_delta_step=None, max_depth=None,\n",
      "             min_child_weight=None, missing=nan, monotone_constraints=None,\n",
      "             n_estimators=500, n_jobs=None, num_parallel_tree=None,\n",
      "             predictor=None, random_state=42, reg_alpha=None, reg_lambda=None,\n",
      "             scale_pos_weight=None, subsample=None, tree_method=None,\n",
      "             use_label_encoder=False, validate_parameters=None, verbosity=None), model__colsample_bylevel=0.8670520936509356, model__colsample_bytree=0.8566242041195617, model__learning_rate=0.07290839937703011, model__max_depth=2, model__min_child_weight=12, model__n_estimators=1522, model__reg_alpha=0.016337420540548233, model__reg_lambda=1.6505620846039053, model__subsample=0.9757451412643567, prep__non_numeric__encoder__transformer=CustomOrdinalEncoder(), prep__numeric__imputer__transformer=SimpleImputer(strategy='most_frequent'), prep__numeric__pca__transformer=PCA(n_components='mle'), prep__numeric__scaler__transformer=None; total time=   1.0s\n",
      "[CV] END model=XGBRegressor(base_score=None, booster=None, colsample_bylevel=None,\n",
      "             colsample_bynode=None, colsample_bytree=None,\n",
      "             enable_categorical=False, eval_metric='rmse', gamma=None,\n",
      "             gpu_id=None, importance_type=None, interaction_constraints=None,\n",
      "             learning_rate=None, max_delta_step=None, max_depth=None,\n",
      "             min_child_weight=None, missing=nan, monotone_constraints=None,\n",
      "             n_estimators=500, n_jobs=None, num_parallel_tree=None,\n",
      "             predictor=None, random_state=42, reg_alpha=None, reg_lambda=None,\n",
      "             scale_pos_weight=None, subsample=None, tree_method=None,\n",
      "             use_label_encoder=False, validate_parameters=None, verbosity=None), model__colsample_bylevel=0.8670520936509356, model__colsample_bytree=0.8566242041195617, model__learning_rate=0.07290839937703011, model__max_depth=2, model__min_child_weight=12, model__n_estimators=1522, model__reg_alpha=0.016337420540548233, model__reg_lambda=1.6505620846039053, model__subsample=0.9757451412643567, prep__non_numeric__encoder__transformer=CustomOrdinalEncoder(), prep__numeric__imputer__transformer=SimpleImputer(strategy='most_frequent'), prep__numeric__pca__transformer=PCA(n_components='mle'), prep__numeric__scaler__transformer=None; total time=   1.0s\n",
      "[CV] END model=XGBRegressor(base_score=None, booster=None, colsample_bylevel=None,\n",
      "             colsample_bynode=None, colsample_bytree=None,\n",
      "             enable_categorical=False, eval_metric='rmse', gamma=None,\n",
      "             gpu_id=None, importance_type=None, interaction_constraints=None,\n",
      "             learning_rate=None, max_delta_step=None, max_depth=None,\n",
      "             min_child_weight=None, missing=nan, monotone_constraints=None,\n",
      "             n_estimators=500, n_jobs=None, num_parallel_tree=None,\n",
      "             predictor=None, random_state=42, reg_alpha=None, reg_lambda=None,\n",
      "             scale_pos_weight=None, subsample=None, tree_method=None,\n",
      "             use_label_encoder=False, validate_parameters=None, verbosity=None), model__colsample_bylevel=0.8670520936509356, model__colsample_bytree=0.8566242041195617, model__learning_rate=0.07290839937703011, model__max_depth=2, model__min_child_weight=12, model__n_estimators=1522, model__reg_alpha=0.016337420540548233, model__reg_lambda=1.6505620846039053, model__subsample=0.9757451412643567, prep__non_numeric__encoder__transformer=CustomOrdinalEncoder(), prep__numeric__imputer__transformer=SimpleImputer(strategy='most_frequent'), prep__numeric__pca__transformer=PCA(n_components='mle'), prep__numeric__scaler__transformer=None; total time=   1.0s\n",
      "[CV] END model=XGBRegressor(base_score=None, booster=None, colsample_bylevel=None,\n",
      "             colsample_bynode=None, colsample_bytree=None,\n",
      "             enable_categorical=False, eval_metric='rmse', gamma=None,\n",
      "             gpu_id=None, importance_type=None, interaction_constraints=None,\n",
      "             learning_rate=None, max_delta_step=None, max_depth=None,\n",
      "             min_child_weight=None, missing=nan, monotone_constraints=None,\n",
      "             n_estimators=500, n_jobs=None, num_parallel_tree=None,\n",
      "             predictor=None, random_state=42, reg_alpha=None, reg_lambda=None,\n",
      "             scale_pos_weight=None, subsample=None, tree_method=None,\n",
      "             use_label_encoder=False, validate_parameters=None, verbosity=None), model__colsample_bylevel=0.8670520936509356, model__colsample_bytree=0.8566242041195617, model__learning_rate=0.07290839937703011, model__max_depth=2, model__min_child_weight=12, model__n_estimators=1522, model__reg_alpha=0.016337420540548233, model__reg_lambda=1.6505620846039053, model__subsample=0.9757451412643567, prep__non_numeric__encoder__transformer=CustomOrdinalEncoder(), prep__numeric__imputer__transformer=SimpleImputer(strategy='most_frequent'), prep__numeric__pca__transformer=PCA(n_components='mle'), prep__numeric__scaler__transformer=None; total time=   1.0s\n",
      "Fitting 5 folds for each of 1 candidates, totalling 5 fits\n",
      "[CV] END model=XGBRegressor(base_score=None, booster=None, colsample_bylevel=None,\n",
      "             colsample_bynode=None, colsample_bytree=None,\n",
      "             enable_categorical=False, eval_metric='rmse', gamma=None,\n",
      "             gpu_id=None, importance_type=None, interaction_constraints=None,\n",
      "             learning_rate=None, max_delta_step=None, max_depth=None,\n",
      "             min_child_weight=None, missing=nan, monotone_constraints=None,\n",
      "             n_estimators=500, n_jobs=None, num_parallel_tree=None,\n",
      "             predictor=None, random_state=42, reg_alpha=None, reg_lambda=None,\n",
      "             scale_pos_weight=None, subsample=None, tree_method=None,\n",
      "             use_label_encoder=False, validate_parameters=None, verbosity=None), model__colsample_bylevel=0.5595896736452431, model__colsample_bytree=0.8499643507956931, model__learning_rate=0.014580843585437275, model__max_depth=1, model__min_child_weight=2, model__n_estimators=797, model__reg_alpha=0.0001383788225138922, model__reg_lambda=1.0791119821611992, model__subsample=0.7516298363816791, prep__non_numeric__encoder__transformer=CustomOrdinalEncoder(), prep__numeric__imputer__transformer=SimpleImputer(strategy='most_frequent'), prep__numeric__pca__transformer=None, prep__numeric__scaler__transformer=None; total time=   0.3s\n",
      "[CV] END model=XGBRegressor(base_score=None, booster=None, colsample_bylevel=None,\n",
      "             colsample_bynode=None, colsample_bytree=None,\n",
      "             enable_categorical=False, eval_metric='rmse', gamma=None,\n",
      "             gpu_id=None, importance_type=None, interaction_constraints=None,\n",
      "             learning_rate=None, max_delta_step=None, max_depth=None,\n",
      "             min_child_weight=None, missing=nan, monotone_constraints=None,\n",
      "             n_estimators=500, n_jobs=None, num_parallel_tree=None,\n",
      "             predictor=None, random_state=42, reg_alpha=None, reg_lambda=None,\n",
      "             scale_pos_weight=None, subsample=None, tree_method=None,\n",
      "             use_label_encoder=False, validate_parameters=None, verbosity=None), model__colsample_bylevel=0.5595896736452431, model__colsample_bytree=0.8499643507956931, model__learning_rate=0.014580843585437275, model__max_depth=1, model__min_child_weight=2, model__n_estimators=797, model__reg_alpha=0.0001383788225138922, model__reg_lambda=1.0791119821611992, model__subsample=0.7516298363816791, prep__non_numeric__encoder__transformer=CustomOrdinalEncoder(), prep__numeric__imputer__transformer=SimpleImputer(strategy='most_frequent'), prep__numeric__pca__transformer=None, prep__numeric__scaler__transformer=None; total time=   0.3s\n",
      "[CV] END model=XGBRegressor(base_score=None, booster=None, colsample_bylevel=None,\n",
      "             colsample_bynode=None, colsample_bytree=None,\n",
      "             enable_categorical=False, eval_metric='rmse', gamma=None,\n",
      "             gpu_id=None, importance_type=None, interaction_constraints=None,\n",
      "             learning_rate=None, max_delta_step=None, max_depth=None,\n",
      "             min_child_weight=None, missing=nan, monotone_constraints=None,\n",
      "             n_estimators=500, n_jobs=None, num_parallel_tree=None,\n",
      "             predictor=None, random_state=42, reg_alpha=None, reg_lambda=None,\n",
      "             scale_pos_weight=None, subsample=None, tree_method=None,\n",
      "             use_label_encoder=False, validate_parameters=None, verbosity=None), model__colsample_bylevel=0.5595896736452431, model__colsample_bytree=0.8499643507956931, model__learning_rate=0.014580843585437275, model__max_depth=1, model__min_child_weight=2, model__n_estimators=797, model__reg_alpha=0.0001383788225138922, model__reg_lambda=1.0791119821611992, model__subsample=0.7516298363816791, prep__non_numeric__encoder__transformer=CustomOrdinalEncoder(), prep__numeric__imputer__transformer=SimpleImputer(strategy='most_frequent'), prep__numeric__pca__transformer=None, prep__numeric__scaler__transformer=None; total time=   0.3s\n",
      "[CV] END model=XGBRegressor(base_score=None, booster=None, colsample_bylevel=None,\n",
      "             colsample_bynode=None, colsample_bytree=None,\n",
      "             enable_categorical=False, eval_metric='rmse', gamma=None,\n",
      "             gpu_id=None, importance_type=None, interaction_constraints=None,\n",
      "             learning_rate=None, max_delta_step=None, max_depth=None,\n",
      "             min_child_weight=None, missing=nan, monotone_constraints=None,\n",
      "             n_estimators=500, n_jobs=None, num_parallel_tree=None,\n",
      "             predictor=None, random_state=42, reg_alpha=None, reg_lambda=None,\n",
      "             scale_pos_weight=None, subsample=None, tree_method=None,\n",
      "             use_label_encoder=False, validate_parameters=None, verbosity=None), model__colsample_bylevel=0.5595896736452431, model__colsample_bytree=0.8499643507956931, model__learning_rate=0.014580843585437275, model__max_depth=1, model__min_child_weight=2, model__n_estimators=797, model__reg_alpha=0.0001383788225138922, model__reg_lambda=1.0791119821611992, model__subsample=0.7516298363816791, prep__non_numeric__encoder__transformer=CustomOrdinalEncoder(), prep__numeric__imputer__transformer=SimpleImputer(strategy='most_frequent'), prep__numeric__pca__transformer=None, prep__numeric__scaler__transformer=None; total time=   0.3s\n",
      "[CV] END model=XGBRegressor(base_score=None, booster=None, colsample_bylevel=None,\n",
      "             colsample_bynode=None, colsample_bytree=None,\n",
      "             enable_categorical=False, eval_metric='rmse', gamma=None,\n",
      "             gpu_id=None, importance_type=None, interaction_constraints=None,\n",
      "             learning_rate=None, max_delta_step=None, max_depth=None,\n",
      "             min_child_weight=None, missing=nan, monotone_constraints=None,\n",
      "             n_estimators=500, n_jobs=None, num_parallel_tree=None,\n",
      "             predictor=None, random_state=42, reg_alpha=None, reg_lambda=None,\n",
      "             scale_pos_weight=None, subsample=None, tree_method=None,\n",
      "             use_label_encoder=False, validate_parameters=None, verbosity=None), model__colsample_bylevel=0.5595896736452431, model__colsample_bytree=0.8499643507956931, model__learning_rate=0.014580843585437275, model__max_depth=1, model__min_child_weight=2, model__n_estimators=797, model__reg_alpha=0.0001383788225138922, model__reg_lambda=1.0791119821611992, model__subsample=0.7516298363816791, prep__non_numeric__encoder__transformer=CustomOrdinalEncoder(), prep__numeric__imputer__transformer=SimpleImputer(strategy='most_frequent'), prep__numeric__pca__transformer=None, prep__numeric__scaler__transformer=None; total time=   0.3s\n",
      "Fitting 5 folds for each of 1 candidates, totalling 5 fits\n",
      "[CV] END model=XGBRegressor(base_score=None, booster=None, colsample_bylevel=None,\n",
      "             colsample_bynode=None, colsample_bytree=None,\n",
      "             enable_categorical=False, eval_metric='rmse', gamma=None,\n",
      "             gpu_id=None, importance_type=None, interaction_constraints=None,\n",
      "             learning_rate=None, max_delta_step=None, max_depth=None,\n",
      "             min_child_weight=None, missing=nan, monotone_constraints=None,\n",
      "             n_estimators=500, n_jobs=None, num_parallel_tree=None,\n",
      "             predictor=None, random_state=42, reg_alpha=None, reg_lambda=None,\n",
      "             scale_pos_weight=None, subsample=None, tree_method=None,\n",
      "             use_label_encoder=False, validate_parameters=None, verbosity=None), model__colsample_bylevel=0.7966326611731813, model__colsample_bytree=0.6846296115318944, model__learning_rate=0.11342987956278644, model__max_depth=1, model__min_child_weight=2, model__n_estimators=1164, model__reg_alpha=0.03659614439235121, model__reg_lambda=2.423785179578518, model__subsample=0.708858429871442, prep__non_numeric__encoder__transformer=OneHotEncoder(handle_unknown='ignore'), prep__numeric__imputer__transformer=SimpleImputer(), prep__numeric__pca__transformer=PCA(n_components='mle'), prep__numeric__scaler__transformer=None; total time=   0.4s\n",
      "[CV] END model=XGBRegressor(base_score=None, booster=None, colsample_bylevel=None,\n",
      "             colsample_bynode=None, colsample_bytree=None,\n",
      "             enable_categorical=False, eval_metric='rmse', gamma=None,\n",
      "             gpu_id=None, importance_type=None, interaction_constraints=None,\n",
      "             learning_rate=None, max_delta_step=None, max_depth=None,\n",
      "             min_child_weight=None, missing=nan, monotone_constraints=None,\n",
      "             n_estimators=500, n_jobs=None, num_parallel_tree=None,\n",
      "             predictor=None, random_state=42, reg_alpha=None, reg_lambda=None,\n",
      "             scale_pos_weight=None, subsample=None, tree_method=None,\n",
      "             use_label_encoder=False, validate_parameters=None, verbosity=None), model__colsample_bylevel=0.7966326611731813, model__colsample_bytree=0.6846296115318944, model__learning_rate=0.11342987956278644, model__max_depth=1, model__min_child_weight=2, model__n_estimators=1164, model__reg_alpha=0.03659614439235121, model__reg_lambda=2.423785179578518, model__subsample=0.708858429871442, prep__non_numeric__encoder__transformer=OneHotEncoder(handle_unknown='ignore'), prep__numeric__imputer__transformer=SimpleImputer(), prep__numeric__pca__transformer=PCA(n_components='mle'), prep__numeric__scaler__transformer=None; total time=   0.4s\n",
      "[CV] END model=XGBRegressor(base_score=None, booster=None, colsample_bylevel=None,\n",
      "             colsample_bynode=None, colsample_bytree=None,\n",
      "             enable_categorical=False, eval_metric='rmse', gamma=None,\n",
      "             gpu_id=None, importance_type=None, interaction_constraints=None,\n",
      "             learning_rate=None, max_delta_step=None, max_depth=None,\n",
      "             min_child_weight=None, missing=nan, monotone_constraints=None,\n",
      "             n_estimators=500, n_jobs=None, num_parallel_tree=None,\n",
      "             predictor=None, random_state=42, reg_alpha=None, reg_lambda=None,\n",
      "             scale_pos_weight=None, subsample=None, tree_method=None,\n",
      "             use_label_encoder=False, validate_parameters=None, verbosity=None), model__colsample_bylevel=0.7966326611731813, model__colsample_bytree=0.6846296115318944, model__learning_rate=0.11342987956278644, model__max_depth=1, model__min_child_weight=2, model__n_estimators=1164, model__reg_alpha=0.03659614439235121, model__reg_lambda=2.423785179578518, model__subsample=0.708858429871442, prep__non_numeric__encoder__transformer=OneHotEncoder(handle_unknown='ignore'), prep__numeric__imputer__transformer=SimpleImputer(), prep__numeric__pca__transformer=PCA(n_components='mle'), prep__numeric__scaler__transformer=None; total time=   0.4s\n",
      "[CV] END model=XGBRegressor(base_score=None, booster=None, colsample_bylevel=None,\n",
      "             colsample_bynode=None, colsample_bytree=None,\n",
      "             enable_categorical=False, eval_metric='rmse', gamma=None,\n",
      "             gpu_id=None, importance_type=None, interaction_constraints=None,\n",
      "             learning_rate=None, max_delta_step=None, max_depth=None,\n",
      "             min_child_weight=None, missing=nan, monotone_constraints=None,\n",
      "             n_estimators=500, n_jobs=None, num_parallel_tree=None,\n",
      "             predictor=None, random_state=42, reg_alpha=None, reg_lambda=None,\n",
      "             scale_pos_weight=None, subsample=None, tree_method=None,\n",
      "             use_label_encoder=False, validate_parameters=None, verbosity=None), model__colsample_bylevel=0.7966326611731813, model__colsample_bytree=0.6846296115318944, model__learning_rate=0.11342987956278644, model__max_depth=1, model__min_child_weight=2, model__n_estimators=1164, model__reg_alpha=0.03659614439235121, model__reg_lambda=2.423785179578518, model__subsample=0.708858429871442, prep__non_numeric__encoder__transformer=OneHotEncoder(handle_unknown='ignore'), prep__numeric__imputer__transformer=SimpleImputer(), prep__numeric__pca__transformer=PCA(n_components='mle'), prep__numeric__scaler__transformer=None; total time=   0.4s\n",
      "[CV] END model=XGBRegressor(base_score=None, booster=None, colsample_bylevel=None,\n",
      "             colsample_bynode=None, colsample_bytree=None,\n",
      "             enable_categorical=False, eval_metric='rmse', gamma=None,\n",
      "             gpu_id=None, importance_type=None, interaction_constraints=None,\n",
      "             learning_rate=None, max_delta_step=None, max_depth=None,\n",
      "             min_child_weight=None, missing=nan, monotone_constraints=None,\n",
      "             n_estimators=500, n_jobs=None, num_parallel_tree=None,\n",
      "             predictor=None, random_state=42, reg_alpha=None, reg_lambda=None,\n",
      "             scale_pos_weight=None, subsample=None, tree_method=None,\n",
      "             use_label_encoder=False, validate_parameters=None, verbosity=None), model__colsample_bylevel=0.7966326611731813, model__colsample_bytree=0.6846296115318944, model__learning_rate=0.11342987956278644, model__max_depth=1, model__min_child_weight=2, model__n_estimators=1164, model__reg_alpha=0.03659614439235121, model__reg_lambda=2.423785179578518, model__subsample=0.708858429871442, prep__non_numeric__encoder__transformer=OneHotEncoder(handle_unknown='ignore'), prep__numeric__imputer__transformer=SimpleImputer(), prep__numeric__pca__transformer=PCA(n_components='mle'), prep__numeric__scaler__transformer=None; total time=   0.4s\n",
      "Fitting 5 folds for each of 1 candidates, totalling 5 fits\n",
      "[CV] END model=XGBRegressor(base_score=None, booster=None, colsample_bylevel=None,\n",
      "             colsample_bynode=None, colsample_bytree=None,\n",
      "             enable_categorical=False, eval_metric='rmse', gamma=None,\n",
      "             gpu_id=None, importance_type=None, interaction_constraints=None,\n",
      "             learning_rate=None, max_delta_step=None, max_depth=None,\n",
      "             min_child_weight=None, missing=nan, monotone_constraints=None,\n",
      "             n_estimators=500, n_jobs=None, num_parallel_tree=None,\n",
      "             predictor=None, random_state=42, reg_alpha=None, reg_lambda=None,\n",
      "             scale_pos_weight=None, subsample=None, tree_method=None,\n",
      "             use_label_encoder=False, validate_parameters=None, verbosity=None), prep__non_numeric__encoder__transformer=OneHotEncoder(handle_unknown='ignore'), prep__numeric__imputer__transformer=SimpleImputer(), prep__numeric__pca__transformer=None, prep__numeric__scaler__transformer=None; total time=   1.5s\n",
      "[CV] END model=XGBRegressor(base_score=None, booster=None, colsample_bylevel=None,\n",
      "             colsample_bynode=None, colsample_bytree=None,\n",
      "             enable_categorical=False, eval_metric='rmse', gamma=None,\n",
      "             gpu_id=None, importance_type=None, interaction_constraints=None,\n",
      "             learning_rate=None, max_delta_step=None, max_depth=None,\n",
      "             min_child_weight=None, missing=nan, monotone_constraints=None,\n",
      "             n_estimators=500, n_jobs=None, num_parallel_tree=None,\n",
      "             predictor=None, random_state=42, reg_alpha=None, reg_lambda=None,\n",
      "             scale_pos_weight=None, subsample=None, tree_method=None,\n",
      "             use_label_encoder=False, validate_parameters=None, verbosity=None), prep__non_numeric__encoder__transformer=OneHotEncoder(handle_unknown='ignore'), prep__numeric__imputer__transformer=SimpleImputer(), prep__numeric__pca__transformer=None, prep__numeric__scaler__transformer=None; total time=   1.5s\n",
      "[CV] END model=XGBRegressor(base_score=None, booster=None, colsample_bylevel=None,\n",
      "             colsample_bynode=None, colsample_bytree=None,\n",
      "             enable_categorical=False, eval_metric='rmse', gamma=None,\n",
      "             gpu_id=None, importance_type=None, interaction_constraints=None,\n",
      "             learning_rate=None, max_delta_step=None, max_depth=None,\n",
      "             min_child_weight=None, missing=nan, monotone_constraints=None,\n",
      "             n_estimators=500, n_jobs=None, num_parallel_tree=None,\n",
      "             predictor=None, random_state=42, reg_alpha=None, reg_lambda=None,\n",
      "             scale_pos_weight=None, subsample=None, tree_method=None,\n",
      "             use_label_encoder=False, validate_parameters=None, verbosity=None), prep__non_numeric__encoder__transformer=OneHotEncoder(handle_unknown='ignore'), prep__numeric__imputer__transformer=SimpleImputer(), prep__numeric__pca__transformer=None, prep__numeric__scaler__transformer=None; total time=   1.5s\n",
      "[CV] END model=XGBRegressor(base_score=None, booster=None, colsample_bylevel=None,\n",
      "             colsample_bynode=None, colsample_bytree=None,\n",
      "             enable_categorical=False, eval_metric='rmse', gamma=None,\n",
      "             gpu_id=None, importance_type=None, interaction_constraints=None,\n",
      "             learning_rate=None, max_delta_step=None, max_depth=None,\n",
      "             min_child_weight=None, missing=nan, monotone_constraints=None,\n",
      "             n_estimators=500, n_jobs=None, num_parallel_tree=None,\n",
      "             predictor=None, random_state=42, reg_alpha=None, reg_lambda=None,\n",
      "             scale_pos_weight=None, subsample=None, tree_method=None,\n",
      "             use_label_encoder=False, validate_parameters=None, verbosity=None), prep__non_numeric__encoder__transformer=OneHotEncoder(handle_unknown='ignore'), prep__numeric__imputer__transformer=SimpleImputer(), prep__numeric__pca__transformer=None, prep__numeric__scaler__transformer=None; total time=   1.5s\n",
      "[CV] END model=XGBRegressor(base_score=None, booster=None, colsample_bylevel=None,\n",
      "             colsample_bynode=None, colsample_bytree=None,\n",
      "             enable_categorical=False, eval_metric='rmse', gamma=None,\n",
      "             gpu_id=None, importance_type=None, interaction_constraints=None,\n",
      "             learning_rate=None, max_delta_step=None, max_depth=None,\n",
      "             min_child_weight=None, missing=nan, monotone_constraints=None,\n",
      "             n_estimators=500, n_jobs=None, num_parallel_tree=None,\n",
      "             predictor=None, random_state=42, reg_alpha=None, reg_lambda=None,\n",
      "             scale_pos_weight=None, subsample=None, tree_method=None,\n",
      "             use_label_encoder=False, validate_parameters=None, verbosity=None), prep__non_numeric__encoder__transformer=OneHotEncoder(handle_unknown='ignore'), prep__numeric__imputer__transformer=SimpleImputer(), prep__numeric__pca__transformer=None, prep__numeric__scaler__transformer=None; total time=   1.6s\n"
     ]
    }
   ],
   "source": [
    "# pip install scikit-optimize\n",
    "from skopt import BayesSearchCV\n",
    "from sklearn.model_selection import RepeatedKFold\n",
    "\n",
    "\n",
    "_, X_sample, _, y_sample = train_test_split(X_train, y_train, test_size=0.2, random_state=42)\n",
    "print(X_sample.shape)\n",
    "\n",
    "bayes_search = BayesSearchCV(\n",
    "    estimator=search_space.pipeline(),\n",
    "    search_spaces=search_space.search_spaces(),\n",
    "    cv=RepeatedKFold(n_splits=5, n_repeats=1, random_state=42),  # 5 fold 2 repeat CV\n",
    "    #scoring='neg_root_mean_squared_error',\n",
    "    scoring='neg_mean_absolute_error',\n",
    "    #scoring=scores,\n",
    "    refit=False,  # required if passing in multiple scorers\n",
    "    return_train_score=False,\n",
    "    #n_jobs=-1,\n",
    "    verbose=2,\n",
    "    random_state=42,\n",
    ")\n",
    "\n",
    "start_time = time.time()\n",
    "bayes_search.fit(X_sample, y_sample)\n",
    "elapsed_time = time.time() - start_time"
   ],
   "metadata": {
    "collapsed": false,
    "pycharm": {
     "name": "#%%\n"
    }
   }
  },
  {
   "cell_type": "code",
   "execution_count": 41,
   "outputs": [
    {
     "name": "stdout",
     "output_type": "stream",
     "text": [
      "Elapsed time to run BayesSearchCV: 415.714 seconds; 6.9 minutes\n"
     ]
    }
   ],
   "source": [
    "print(f\"Elapsed time to run BayesSearchCV: {elapsed_time:.3f} seconds; {elapsed_time / 60:.1f} minutes\")"
   ],
   "metadata": {
    "collapsed": false,
    "pycharm": {
     "name": "#%%\n"
    }
   }
  },
  {
   "cell_type": "code",
   "execution_count": 42,
   "outputs": [
    {
     "name": "stdout",
     "output_type": "stream",
     "text": [
      "-39744.36656903369\n"
     ]
    }
   ],
   "source": [
    "print(bayes_search.best_score_)"
   ],
   "metadata": {
    "collapsed": false,
    "pycharm": {
     "name": "#%%\n"
    }
   }
  },
  {
   "cell_type": "code",
   "execution_count": 43,
   "outputs": [
    {
     "name": "stdout",
     "output_type": "stream",
     "text": [
      "OrderedDict([('model', XGBRegressor(base_score=None, booster=None, colsample_bylevel=None,\n",
      "             colsample_bynode=None, colsample_bytree=None,\n",
      "             enable_categorical=False, eval_metric='rmse', gamma=None,\n",
      "             gpu_id=None, importance_type=None, interaction_constraints=None,\n",
      "             learning_rate=None, max_delta_step=None, max_depth=None,\n",
      "             min_child_weight=None, missing=nan, monotone_constraints=None,\n",
      "             n_estimators=500, n_jobs=None, num_parallel_tree=None,\n",
      "             predictor=None, random_state=42, reg_alpha=None, reg_lambda=None,\n",
      "             scale_pos_weight=None, subsample=None, tree_method=None,\n",
      "             use_label_encoder=False, validate_parameters=None, verbosity=None)), ('prep__non_numeric__encoder__transformer', OneHotEncoder(handle_unknown='ignore')), ('prep__numeric__imputer__transformer', SimpleImputer()), ('prep__numeric__pca__transformer', None), ('prep__numeric__scaler__transformer', None)])\n"
     ]
    }
   ],
   "source": [
    "print(bayes_search.best_params_)"
   ],
   "metadata": {
    "collapsed": false,
    "pycharm": {
     "name": "#%%\n"
    }
   }
  },
  {
   "cell_type": "code",
   "execution_count": 44,
   "outputs": [],
   "source": [
    "results = hlp.sklearn_eval.MLExperimentResults.from_sklearn_search_cv(\n",
    "    searcher=bayes_search,\n",
    "    higher_score_is_better=False,\n",
    "    description='BayesSearchCV using Regression Search Space',\n",
    "    parameter_name_mappings=search_space.param_name_mappings()\n",
    ")"
   ],
   "metadata": {
    "collapsed": false,
    "pycharm": {
     "name": "#%%\n"
    }
   }
  },
  {
   "cell_type": "code",
   "execution_count": 45,
   "outputs": [
    {
     "data": {
      "text/plain": "-39744.36656903369"
     },
     "execution_count": 45,
     "metadata": {},
     "output_type": "execute_result"
    }
   ],
   "source": [
    "results.best_score"
   ],
   "metadata": {
    "collapsed": false,
    "pycharm": {
     "name": "#%%\n"
    }
   }
  },
  {
   "cell_type": "code",
   "execution_count": 46,
   "outputs": [
    {
     "data": {
      "text/plain": "{'model': 'XGBRegressor()',\n 'imputer': 'SimpleImputer()',\n 'scaler': 'None',\n 'pca': 'None',\n 'encoder': 'OneHotEncoder()'}"
     },
     "execution_count": 46,
     "metadata": {},
     "output_type": "execute_result"
    }
   ],
   "source": [
    "results.best_params"
   ],
   "metadata": {
    "collapsed": false,
    "pycharm": {
     "name": "#%%\n"
    }
   }
  },
  {
   "cell_type": "code",
   "execution_count": 48,
   "outputs": [
    {
     "data": {
      "text/plain": "<pandas.io.formats.style.Styler at 0x7faa43828700>",
      "text/html": "<style type=\"text/css\">\n#T_d2470_row0_col1 {\n  width: 10em;\n  height: 80%;\n  background: linear-gradient(90deg,#1AAF54 100.0%, transparent 100.0%);\n}\n#T_d2470_row0_col2 {\n  width: 10em;\n  height: 80%;\n  background: linear-gradient(90deg,transparent 100.0%, #B4B7B9 100.0%);\n}\n#T_d2470_row0_col3 {\n  width: 10em;\n  height: 80%;\n  background: linear-gradient(90deg,#B4B7B9 99.9%, transparent 99.9%);\n}\n#T_d2470_row0_col4, #T_d2470_row0_col21, #T_d2470_row0_col22, #T_d2470_row0_col23, #T_d2470_row0_col24, #T_d2470_row1_col4, #T_d2470_row1_col21, #T_d2470_row1_col22, #T_d2470_row1_col23, #T_d2470_row1_col24, #T_d2470_row2_col4, #T_d2470_row2_col21, #T_d2470_row2_col22, #T_d2470_row2_col23, #T_d2470_row2_col24, #T_d2470_row3_col4, #T_d2470_row3_col7, #T_d2470_row3_col8, #T_d2470_row3_col9, #T_d2470_row3_col10, #T_d2470_row3_col11, #T_d2470_row3_col12, #T_d2470_row3_col13, #T_d2470_row3_col21, #T_d2470_row3_col22, #T_d2470_row3_col23, #T_d2470_row3_col24, #T_d2470_row4_col4, #T_d2470_row4_col8, #T_d2470_row4_col9, #T_d2470_row4_col14, #T_d2470_row4_col15, #T_d2470_row4_col16, #T_d2470_row4_col17, #T_d2470_row4_col18, #T_d2470_row4_col19, #T_d2470_row4_col20, #T_d2470_row4_col21, #T_d2470_row4_col22, #T_d2470_row4_col23, #T_d2470_row4_col24, #T_d2470_row5_col4, #T_d2470_row5_col8, #T_d2470_row5_col9, #T_d2470_row5_col14, #T_d2470_row5_col15, #T_d2470_row5_col16, #T_d2470_row5_col17, #T_d2470_row5_col18, #T_d2470_row5_col19, #T_d2470_row5_col20, #T_d2470_row5_col21, #T_d2470_row5_col22, #T_d2470_row5_col23, #T_d2470_row5_col24, #T_d2470_row6_col4, #T_d2470_row6_col5, #T_d2470_row6_col6, #T_d2470_row6_col21, #T_d2470_row6_col22, #T_d2470_row6_col23, #T_d2470_row6_col24, #T_d2470_row7_col4, #T_d2470_row7_col8, #T_d2470_row7_col9, #T_d2470_row7_col14, #T_d2470_row7_col15, #T_d2470_row7_col16, #T_d2470_row7_col17, #T_d2470_row7_col18, #T_d2470_row7_col19, #T_d2470_row7_col20, #T_d2470_row7_col21, #T_d2470_row7_col22, #T_d2470_row7_col23, #T_d2470_row7_col24, #T_d2470_row8_col4, #T_d2470_row8_col5, #T_d2470_row8_col6, #T_d2470_row8_col21, #T_d2470_row8_col22, #T_d2470_row8_col23, #T_d2470_row8_col24, #T_d2470_row9_col4, #T_d2470_row9_col7, #T_d2470_row9_col8, #T_d2470_row9_col9, #T_d2470_row9_col10, #T_d2470_row9_col11, #T_d2470_row9_col12, #T_d2470_row9_col13, #T_d2470_row9_col21, #T_d2470_row9_col22, #T_d2470_row9_col23, #T_d2470_row9_col24, #T_d2470_row10_col4, #T_d2470_row10_col7, #T_d2470_row10_col8, #T_d2470_row10_col9, #T_d2470_row10_col10, #T_d2470_row10_col11, #T_d2470_row10_col12, #T_d2470_row10_col13, #T_d2470_row10_col21, #T_d2470_row10_col22, #T_d2470_row10_col23, #T_d2470_row10_col24, #T_d2470_row11_col4, #T_d2470_row11_col21, #T_d2470_row11_col22, #T_d2470_row11_col23, #T_d2470_row11_col24, #T_d2470_row12_col4, #T_d2470_row12_col7, #T_d2470_row12_col8, #T_d2470_row12_col9, #T_d2470_row12_col10, #T_d2470_row12_col11, #T_d2470_row12_col12, #T_d2470_row12_col13, #T_d2470_row12_col21, #T_d2470_row12_col22, #T_d2470_row12_col23, #T_d2470_row12_col24, #T_d2470_row13_col4, #T_d2470_row13_col7, #T_d2470_row13_col8, #T_d2470_row13_col9, #T_d2470_row13_col10, #T_d2470_row13_col11, #T_d2470_row13_col12, #T_d2470_row13_col13, #T_d2470_row13_col21, #T_d2470_row13_col22, #T_d2470_row13_col23, #T_d2470_row13_col24, #T_d2470_row14_col4, #T_d2470_row14_col7, #T_d2470_row14_col8, #T_d2470_row14_col9, #T_d2470_row14_col10, #T_d2470_row14_col11, #T_d2470_row14_col12, #T_d2470_row14_col13, #T_d2470_row14_col21, #T_d2470_row14_col22, #T_d2470_row14_col23, #T_d2470_row14_col24, #T_d2470_row15_col4, #T_d2470_row15_col5, #T_d2470_row15_col6, #T_d2470_row15_col21, #T_d2470_row15_col22, #T_d2470_row15_col23, #T_d2470_row15_col24 {\n  background-color: #7AA9CF;\n}\n#T_d2470_row0_col5, #T_d2470_row0_col6, #T_d2470_row0_col7, #T_d2470_row0_col8, #T_d2470_row0_col9, #T_d2470_row0_col10, #T_d2470_row0_col11, #T_d2470_row0_col12, #T_d2470_row0_col13, #T_d2470_row0_col14, #T_d2470_row0_col15, #T_d2470_row0_col16, #T_d2470_row0_col17, #T_d2470_row0_col18, #T_d2470_row0_col19, #T_d2470_row0_col20, #T_d2470_row1_col5, #T_d2470_row1_col6, #T_d2470_row1_col7, #T_d2470_row1_col8, #T_d2470_row1_col9, #T_d2470_row1_col10, #T_d2470_row1_col11, #T_d2470_row1_col12, #T_d2470_row1_col13, #T_d2470_row1_col14, #T_d2470_row1_col15, #T_d2470_row1_col16, #T_d2470_row1_col17, #T_d2470_row1_col18, #T_d2470_row1_col19, #T_d2470_row1_col20, #T_d2470_row2_col5, #T_d2470_row2_col6, #T_d2470_row2_col7, #T_d2470_row2_col8, #T_d2470_row2_col9, #T_d2470_row2_col10, #T_d2470_row2_col11, #T_d2470_row2_col12, #T_d2470_row2_col13, #T_d2470_row2_col14, #T_d2470_row2_col15, #T_d2470_row2_col16, #T_d2470_row2_col17, #T_d2470_row2_col18, #T_d2470_row2_col19, #T_d2470_row2_col20, #T_d2470_row3_col5, #T_d2470_row3_col6, #T_d2470_row3_col14, #T_d2470_row3_col15, #T_d2470_row3_col16, #T_d2470_row3_col17, #T_d2470_row3_col18, #T_d2470_row3_col19, #T_d2470_row3_col20, #T_d2470_row4_col5, #T_d2470_row4_col6, #T_d2470_row4_col7, #T_d2470_row4_col10, #T_d2470_row4_col11, #T_d2470_row4_col12, #T_d2470_row4_col13, #T_d2470_row5_col5, #T_d2470_row5_col6, #T_d2470_row5_col7, #T_d2470_row5_col10, #T_d2470_row5_col11, #T_d2470_row5_col12, #T_d2470_row5_col13, #T_d2470_row6_col7, #T_d2470_row6_col8, #T_d2470_row6_col9, #T_d2470_row6_col10, #T_d2470_row6_col11, #T_d2470_row6_col12, #T_d2470_row6_col13, #T_d2470_row6_col14, #T_d2470_row6_col15, #T_d2470_row6_col16, #T_d2470_row6_col17, #T_d2470_row6_col18, #T_d2470_row6_col19, #T_d2470_row6_col20, #T_d2470_row7_col5, #T_d2470_row7_col6, #T_d2470_row7_col7, #T_d2470_row7_col10, #T_d2470_row7_col11, #T_d2470_row7_col12, #T_d2470_row7_col13, #T_d2470_row8_col7, #T_d2470_row8_col8, #T_d2470_row8_col9, #T_d2470_row8_col10, #T_d2470_row8_col11, #T_d2470_row8_col12, #T_d2470_row8_col13, #T_d2470_row8_col14, #T_d2470_row8_col15, #T_d2470_row8_col16, #T_d2470_row8_col17, #T_d2470_row8_col18, #T_d2470_row8_col19, #T_d2470_row8_col20, #T_d2470_row9_col5, #T_d2470_row9_col6, #T_d2470_row9_col14, #T_d2470_row9_col15, #T_d2470_row9_col16, #T_d2470_row9_col17, #T_d2470_row9_col18, #T_d2470_row9_col19, #T_d2470_row9_col20, #T_d2470_row10_col5, #T_d2470_row10_col6, #T_d2470_row10_col14, #T_d2470_row10_col15, #T_d2470_row10_col16, #T_d2470_row10_col17, #T_d2470_row10_col18, #T_d2470_row10_col19, #T_d2470_row10_col20, #T_d2470_row11_col5, #T_d2470_row11_col6, #T_d2470_row11_col7, #T_d2470_row11_col8, #T_d2470_row11_col9, #T_d2470_row11_col10, #T_d2470_row11_col11, #T_d2470_row11_col12, #T_d2470_row11_col13, #T_d2470_row11_col14, #T_d2470_row11_col15, #T_d2470_row11_col16, #T_d2470_row11_col17, #T_d2470_row11_col18, #T_d2470_row11_col19, #T_d2470_row11_col20, #T_d2470_row12_col5, #T_d2470_row12_col6, #T_d2470_row12_col14, #T_d2470_row12_col15, #T_d2470_row12_col16, #T_d2470_row12_col17, #T_d2470_row12_col18, #T_d2470_row12_col19, #T_d2470_row12_col20, #T_d2470_row13_col5, #T_d2470_row13_col6, #T_d2470_row13_col14, #T_d2470_row13_col15, #T_d2470_row13_col16, #T_d2470_row13_col17, #T_d2470_row13_col18, #T_d2470_row13_col19, #T_d2470_row13_col20, #T_d2470_row14_col5, #T_d2470_row14_col6, #T_d2470_row14_col14, #T_d2470_row14_col15, #T_d2470_row14_col16, #T_d2470_row14_col17, #T_d2470_row14_col18, #T_d2470_row14_col19, #T_d2470_row14_col20, #T_d2470_row15_col7, #T_d2470_row15_col8, #T_d2470_row15_col9, #T_d2470_row15_col10, #T_d2470_row15_col11, #T_d2470_row15_col12, #T_d2470_row15_col13, #T_d2470_row15_col14, #T_d2470_row15_col15, #T_d2470_row15_col16, #T_d2470_row15_col17, #T_d2470_row15_col18, #T_d2470_row15_col19, #T_d2470_row15_col20 {\n  background-color: #EBB13E;\n  background-color: #7AA9CF;\n}\n#T_d2470_row1_col1 {\n  width: 10em;\n  height: 80%;\n  background: linear-gradient(90deg,#1AAF54 98.9%, transparent 98.9%);\n}\n#T_d2470_row1_col2 {\n  width: 10em;\n  height: 80%;\n  background: linear-gradient(90deg,transparent 97.8%, #B4B7B9 97.8%);\n}\n#T_d2470_row1_col3 {\n  width: 10em;\n  height: 80%;\n  background: linear-gradient(90deg,#B4B7B9 100.0%, transparent 100.0%);\n}\n#T_d2470_row2_col1 {\n  width: 10em;\n  height: 80%;\n  background: linear-gradient(90deg,#1AAF54 91.5%, transparent 91.5%);\n}\n#T_d2470_row2_col2 {\n  width: 10em;\n  height: 80%;\n  background: linear-gradient(90deg,transparent 90.0%, #B4B7B9 90.0%);\n}\n#T_d2470_row2_col3 {\n  width: 10em;\n  height: 80%;\n  background: linear-gradient(90deg,#B4B7B9 93.1%, transparent 93.1%);\n}\n#T_d2470_row3_col1 {\n  width: 10em;\n  height: 80%;\n  background: linear-gradient(90deg,#1AAF54 85.6%, transparent 85.6%);\n}\n#T_d2470_row3_col2 {\n  width: 10em;\n  height: 80%;\n  background: linear-gradient(90deg,transparent 82.8%, #B4B7B9 82.8%);\n}\n#T_d2470_row3_col3 {\n  width: 10em;\n  height: 80%;\n  background: linear-gradient(90deg,#B4B7B9 88.7%, transparent 88.7%);\n}\n#T_d2470_row4_col1 {\n  width: 10em;\n  height: 80%;\n  background: linear-gradient(90deg,#1AAF54 81.3%, transparent 81.3%);\n}\n#T_d2470_row4_col2 {\n  width: 10em;\n  height: 80%;\n  background: linear-gradient(90deg,transparent 81.2%, #B4B7B9 81.2%);\n}\n#T_d2470_row4_col3 {\n  width: 10em;\n  height: 80%;\n  background: linear-gradient(90deg,#B4B7B9 81.3%, transparent 81.3%);\n}\n#T_d2470_row5_col1 {\n  width: 10em;\n  height: 80%;\n  background: linear-gradient(90deg,#1AAF54 76.5%, transparent 76.5%);\n}\n#T_d2470_row5_col2 {\n  width: 10em;\n  height: 80%;\n  background: linear-gradient(90deg,transparent 76.5%, #B4B7B9 76.5%);\n}\n#T_d2470_row5_col3 {\n  width: 10em;\n  height: 80%;\n  background: linear-gradient(90deg,#B4B7B9 76.4%, transparent 76.4%);\n}\n#T_d2470_row6_col1 {\n  width: 10em;\n  height: 80%;\n  background: linear-gradient(90deg,#1AAF54 75.5%, transparent 75.5%);\n}\n#T_d2470_row6_col2 {\n  width: 10em;\n  height: 80%;\n  background: linear-gradient(90deg,transparent 74.7%, #B4B7B9 74.7%);\n}\n#T_d2470_row6_col3 {\n  width: 10em;\n  height: 80%;\n  background: linear-gradient(90deg,#B4B7B9 76.3%, transparent 76.3%);\n}\n#T_d2470_row7_col1 {\n  width: 10em;\n  height: 80%;\n  background: linear-gradient(90deg,#1AAF54 70.7%, transparent 70.7%);\n}\n#T_d2470_row7_col2 {\n  width: 10em;\n  height: 80%;\n  background: linear-gradient(90deg,transparent 67.7%, #B4B7B9 67.7%);\n}\n#T_d2470_row7_col3 {\n  width: 10em;\n  height: 80%;\n  background: linear-gradient(90deg,#B4B7B9 73.9%, transparent 73.9%);\n}\n#T_d2470_row8_col1 {\n  width: 10em;\n  height: 80%;\n  background: linear-gradient(90deg,#1AAF54 64.4%, transparent 64.4%);\n}\n#T_d2470_row8_col2 {\n  width: 10em;\n  height: 80%;\n  background: linear-gradient(90deg,transparent 61.9%, #B4B7B9 61.9%);\n}\n#T_d2470_row8_col3 {\n  width: 10em;\n  height: 80%;\n  background: linear-gradient(90deg,#B4B7B9 67.1%, transparent 67.1%);\n}\n#T_d2470_row9_col1 {\n  width: 10em;\n  height: 80%;\n  background: linear-gradient(90deg,#1AAF54 55.1%, transparent 55.1%);\n}\n#T_d2470_row9_col2 {\n  width: 10em;\n  height: 80%;\n  background: linear-gradient(90deg,transparent 55.8%, #B4B7B9 55.8%);\n}\n#T_d2470_row9_col3 {\n  width: 10em;\n  height: 80%;\n  background: linear-gradient(90deg,#B4B7B9 54.2%, transparent 54.2%);\n}\n#T_d2470_row10_col1 {\n  width: 10em;\n  height: 80%;\n  background: linear-gradient(90deg,#1AAF54 54.7%, transparent 54.7%);\n}\n#T_d2470_row10_col2 {\n  width: 10em;\n  height: 80%;\n  background: linear-gradient(90deg,transparent 53.3%, #B4B7B9 53.3%);\n}\n#T_d2470_row10_col3 {\n  width: 10em;\n  height: 80%;\n  background: linear-gradient(90deg,#B4B7B9 56.3%, transparent 56.3%);\n}\n#T_d2470_row11_col1 {\n  width: 10em;\n  height: 80%;\n  background: linear-gradient(90deg,#1AAF54 53.7%, transparent 53.7%);\n}\n#T_d2470_row11_col2 {\n  width: 10em;\n  height: 80%;\n  background: linear-gradient(90deg,transparent 51.1%, #B4B7B9 51.1%);\n}\n#T_d2470_row11_col3 {\n  width: 10em;\n  height: 80%;\n  background: linear-gradient(90deg,#B4B7B9 56.6%, transparent 56.6%);\n}\n#T_d2470_row12_col1 {\n  width: 10em;\n  height: 80%;\n  background: linear-gradient(90deg,#1AAF54 53.4%, transparent 53.4%);\n}\n#T_d2470_row12_col2 {\n  width: 10em;\n  height: 80%;\n  background: linear-gradient(90deg,transparent 53.5%, #B4B7B9 53.5%);\n}\n#T_d2470_row12_col3 {\n  width: 10em;\n  height: 80%;\n  background: linear-gradient(90deg,#B4B7B9 53.2%, transparent 53.2%);\n}\n#T_d2470_row13_col1 {\n  width: 10em;\n  height: 80%;\n  background: linear-gradient(90deg,#1AAF54 32.8%, transparent 32.8%);\n}\n#T_d2470_row13_col2 {\n  width: 10em;\n  height: 80%;\n  background: linear-gradient(90deg,transparent 32.4%, #B4B7B9 32.4%);\n}\n#T_d2470_row13_col3 {\n  width: 10em;\n  height: 80%;\n  background: linear-gradient(90deg,#B4B7B9 33.2%, transparent 33.2%);\n}\n#T_d2470_row14_col1 {\n  width: 10em;\n  height: 80%;\n  background: linear-gradient(90deg,#1AAF54 13.8%, transparent 13.8%);\n}\n#T_d2470_row14_col2 {\n  width: 10em;\n  height: 80%;\n  background: linear-gradient(90deg,transparent 13.5%, #B4B7B9 13.5%);\n}\n#T_d2470_row14_col3 {\n  width: 10em;\n  height: 80%;\n  background: linear-gradient(90deg,#B4B7B9 14.2%, transparent 14.2%);\n}\n#T_d2470_row15_col1, #T_d2470_row15_col3 {\n  width: 10em;\n  height: 80%;\n}\n#T_d2470_row15_col2 {\n  width: 10em;\n  height: 80%;\n  background: linear-gradient(90deg, #B4B7B9 100.0%, transparent 100.0%, transparent 100.0%, #B4B7B9 100.0%);\n}\n</style>\n<table id=\"T_d2470_\">\n  <thead>\n    <tr>\n      <th class=\"col_heading level0 col0\" >rank</th>\n      <th class=\"col_heading level0 col1\" >neg_mean_absolute_error Mean</th>\n      <th class=\"col_heading level0 col2\" >neg_mean_absolute_error 95CI.LO</th>\n      <th class=\"col_heading level0 col3\" >neg_mean_absolute_error 95CI.HI</th>\n      <th class=\"col_heading level0 col4\" >model</th>\n      <th class=\"col_heading level0 col5\" >alpha</th>\n      <th class=\"col_heading level0 col6\" >l1_ratio</th>\n      <th class=\"col_heading level0 col7\" >max_features</th>\n      <th class=\"col_heading level0 col8\" >max_depth</th>\n      <th class=\"col_heading level0 col9\" >n_estimators</th>\n      <th class=\"col_heading level0 col10\" >min_samples_split</th>\n      <th class=\"col_heading level0 col11\" >min_samples_leaf</th>\n      <th class=\"col_heading level0 col12\" >max_samples</th>\n      <th class=\"col_heading level0 col13\" >criterion</th>\n      <th class=\"col_heading level0 col14\" >learning_rate</th>\n      <th class=\"col_heading level0 col15\" >min_child_weight</th>\n      <th class=\"col_heading level0 col16\" >subsample</th>\n      <th class=\"col_heading level0 col17\" >colsample_bytree</th>\n      <th class=\"col_heading level0 col18\" >colsample_bylevel</th>\n      <th class=\"col_heading level0 col19\" >reg_alpha</th>\n      <th class=\"col_heading level0 col20\" >reg_lambda</th>\n      <th class=\"col_heading level0 col21\" >imputer</th>\n      <th class=\"col_heading level0 col22\" >scaler</th>\n      <th class=\"col_heading level0 col23\" >pca</th>\n      <th class=\"col_heading level0 col24\" >encoder</th>\n    </tr>\n  </thead>\n  <tbody>\n    <tr>\n      <td id=\"T_d2470_row0_col0\" class=\"data row0 col0\" >1</td>\n      <td id=\"T_d2470_row0_col1\" class=\"data row0 col1\" >-39,744.367</td>\n      <td id=\"T_d2470_row0_col2\" class=\"data row0 col2\" >-40,967.598</td>\n      <td id=\"T_d2470_row0_col3\" class=\"data row0 col3\" >-38,521.135</td>\n      <td id=\"T_d2470_row0_col4\" class=\"data row0 col4\" >XGBRegressor()</td>\n      <td id=\"T_d2470_row0_col5\" class=\"data row0 col5\" >&lt;NA&gt;</td>\n      <td id=\"T_d2470_row0_col6\" class=\"data row0 col6\" >&lt;NA&gt;</td>\n      <td id=\"T_d2470_row0_col7\" class=\"data row0 col7\" >&lt;NA&gt;</td>\n      <td id=\"T_d2470_row0_col8\" class=\"data row0 col8\" >&lt;NA&gt;</td>\n      <td id=\"T_d2470_row0_col9\" class=\"data row0 col9\" >&lt;NA&gt;</td>\n      <td id=\"T_d2470_row0_col10\" class=\"data row0 col10\" >&lt;NA&gt;</td>\n      <td id=\"T_d2470_row0_col11\" class=\"data row0 col11\" >&lt;NA&gt;</td>\n      <td id=\"T_d2470_row0_col12\" class=\"data row0 col12\" >&lt;NA&gt;</td>\n      <td id=\"T_d2470_row0_col13\" class=\"data row0 col13\" >&lt;NA&gt;</td>\n      <td id=\"T_d2470_row0_col14\" class=\"data row0 col14\" >&lt;NA&gt;</td>\n      <td id=\"T_d2470_row0_col15\" class=\"data row0 col15\" >&lt;NA&gt;</td>\n      <td id=\"T_d2470_row0_col16\" class=\"data row0 col16\" >&lt;NA&gt;</td>\n      <td id=\"T_d2470_row0_col17\" class=\"data row0 col17\" >&lt;NA&gt;</td>\n      <td id=\"T_d2470_row0_col18\" class=\"data row0 col18\" >&lt;NA&gt;</td>\n      <td id=\"T_d2470_row0_col19\" class=\"data row0 col19\" >&lt;NA&gt;</td>\n      <td id=\"T_d2470_row0_col20\" class=\"data row0 col20\" >&lt;NA&gt;</td>\n      <td id=\"T_d2470_row0_col21\" class=\"data row0 col21\" >SimpleImputer()</td>\n      <td id=\"T_d2470_row0_col22\" class=\"data row0 col22\" >None</td>\n      <td id=\"T_d2470_row0_col23\" class=\"data row0 col23\" >None</td>\n      <td id=\"T_d2470_row0_col24\" class=\"data row0 col24\" >OneHotEncoder()</td>\n    </tr>\n    <tr>\n      <td id=\"T_d2470_row1_col0\" class=\"data row1 col0\" >2</td>\n      <td id=\"T_d2470_row1_col1\" class=\"data row1 col1\" >-40,311.908</td>\n      <td id=\"T_d2470_row1_col2\" class=\"data row1 col2\" >-42,170.969</td>\n      <td id=\"T_d2470_row1_col3\" class=\"data row1 col3\" >-38,452.847</td>\n      <td id=\"T_d2470_row1_col4\" class=\"data row1 col4\" >RandomForestRegressor()</td>\n      <td id=\"T_d2470_row1_col5\" class=\"data row1 col5\" >&lt;NA&gt;</td>\n      <td id=\"T_d2470_row1_col6\" class=\"data row1 col6\" >&lt;NA&gt;</td>\n      <td id=\"T_d2470_row1_col7\" class=\"data row1 col7\" >&lt;NA&gt;</td>\n      <td id=\"T_d2470_row1_col8\" class=\"data row1 col8\" >&lt;NA&gt;</td>\n      <td id=\"T_d2470_row1_col9\" class=\"data row1 col9\" >&lt;NA&gt;</td>\n      <td id=\"T_d2470_row1_col10\" class=\"data row1 col10\" >&lt;NA&gt;</td>\n      <td id=\"T_d2470_row1_col11\" class=\"data row1 col11\" >&lt;NA&gt;</td>\n      <td id=\"T_d2470_row1_col12\" class=\"data row1 col12\" >&lt;NA&gt;</td>\n      <td id=\"T_d2470_row1_col13\" class=\"data row1 col13\" >&lt;NA&gt;</td>\n      <td id=\"T_d2470_row1_col14\" class=\"data row1 col14\" >&lt;NA&gt;</td>\n      <td id=\"T_d2470_row1_col15\" class=\"data row1 col15\" >&lt;NA&gt;</td>\n      <td id=\"T_d2470_row1_col16\" class=\"data row1 col16\" >&lt;NA&gt;</td>\n      <td id=\"T_d2470_row1_col17\" class=\"data row1 col17\" >&lt;NA&gt;</td>\n      <td id=\"T_d2470_row1_col18\" class=\"data row1 col18\" >&lt;NA&gt;</td>\n      <td id=\"T_d2470_row1_col19\" class=\"data row1 col19\" >&lt;NA&gt;</td>\n      <td id=\"T_d2470_row1_col20\" class=\"data row1 col20\" >&lt;NA&gt;</td>\n      <td id=\"T_d2470_row1_col21\" class=\"data row1 col21\" >SimpleImputer()</td>\n      <td id=\"T_d2470_row1_col22\" class=\"data row1 col22\" >None</td>\n      <td id=\"T_d2470_row1_col23\" class=\"data row1 col23\" >None</td>\n      <td id=\"T_d2470_row1_col24\" class=\"data row1 col24\" >OneHotEncoder()</td>\n    </tr>\n    <tr>\n      <td id=\"T_d2470_row2_col0\" class=\"data row2 col0\" >3</td>\n      <td id=\"T_d2470_row2_col1\" class=\"data row2 col1\" >-44,224.480</td>\n      <td id=\"T_d2470_row2_col2\" class=\"data row2 col2\" >-46,567.980</td>\n      <td id=\"T_d2470_row2_col3\" class=\"data row2 col3\" >-41,880.981</td>\n      <td id=\"T_d2470_row2_col4\" class=\"data row2 col4\" >ExtraTreesRegressor()</td>\n      <td id=\"T_d2470_row2_col5\" class=\"data row2 col5\" >&lt;NA&gt;</td>\n      <td id=\"T_d2470_row2_col6\" class=\"data row2 col6\" >&lt;NA&gt;</td>\n      <td id=\"T_d2470_row2_col7\" class=\"data row2 col7\" >&lt;NA&gt;</td>\n      <td id=\"T_d2470_row2_col8\" class=\"data row2 col8\" >&lt;NA&gt;</td>\n      <td id=\"T_d2470_row2_col9\" class=\"data row2 col9\" >&lt;NA&gt;</td>\n      <td id=\"T_d2470_row2_col10\" class=\"data row2 col10\" >&lt;NA&gt;</td>\n      <td id=\"T_d2470_row2_col11\" class=\"data row2 col11\" >&lt;NA&gt;</td>\n      <td id=\"T_d2470_row2_col12\" class=\"data row2 col12\" >&lt;NA&gt;</td>\n      <td id=\"T_d2470_row2_col13\" class=\"data row2 col13\" >&lt;NA&gt;</td>\n      <td id=\"T_d2470_row2_col14\" class=\"data row2 col14\" >&lt;NA&gt;</td>\n      <td id=\"T_d2470_row2_col15\" class=\"data row2 col15\" >&lt;NA&gt;</td>\n      <td id=\"T_d2470_row2_col16\" class=\"data row2 col16\" >&lt;NA&gt;</td>\n      <td id=\"T_d2470_row2_col17\" class=\"data row2 col17\" >&lt;NA&gt;</td>\n      <td id=\"T_d2470_row2_col18\" class=\"data row2 col18\" >&lt;NA&gt;</td>\n      <td id=\"T_d2470_row2_col19\" class=\"data row2 col19\" >&lt;NA&gt;</td>\n      <td id=\"T_d2470_row2_col20\" class=\"data row2 col20\" >&lt;NA&gt;</td>\n      <td id=\"T_d2470_row2_col21\" class=\"data row2 col21\" >SimpleImputer()</td>\n      <td id=\"T_d2470_row2_col22\" class=\"data row2 col22\" >None</td>\n      <td id=\"T_d2470_row2_col23\" class=\"data row2 col23\" >None</td>\n      <td id=\"T_d2470_row2_col24\" class=\"data row2 col24\" >OneHotEncoder()</td>\n    </tr>\n    <tr>\n      <td id=\"T_d2470_row3_col0\" class=\"data row3 col0\" >4</td>\n      <td id=\"T_d2470_row3_col1\" class=\"data row3 col1\" >-47,330.279</td>\n      <td id=\"T_d2470_row3_col2\" class=\"data row3 col2\" >-50,585.281</td>\n      <td id=\"T_d2470_row3_col3\" class=\"data row3 col3\" >-44,075.277</td>\n      <td id=\"T_d2470_row3_col4\" class=\"data row3 col4\" >RandomForestRegressor()</td>\n      <td id=\"T_d2470_row3_col5\" class=\"data row3 col5\" >&lt;NA&gt;</td>\n      <td id=\"T_d2470_row3_col6\" class=\"data row3 col6\" >&lt;NA&gt;</td>\n      <td id=\"T_d2470_row3_col7\" class=\"data row3 col7\" >0.857</td>\n      <td id=\"T_d2470_row3_col8\" class=\"data row3 col8\" >30.000</td>\n      <td id=\"T_d2470_row3_col9\" class=\"data row3 col9\" >879.000</td>\n      <td id=\"T_d2470_row3_col10\" class=\"data row3 col10\" >17.000</td>\n      <td id=\"T_d2470_row3_col11\" class=\"data row3 col11\" >28.000</td>\n      <td id=\"T_d2470_row3_col12\" class=\"data row3 col12\" >0.563</td>\n      <td id=\"T_d2470_row3_col13\" class=\"data row3 col13\" >absolute_error</td>\n      <td id=\"T_d2470_row3_col14\" class=\"data row3 col14\" >&lt;NA&gt;</td>\n      <td id=\"T_d2470_row3_col15\" class=\"data row3 col15\" >&lt;NA&gt;</td>\n      <td id=\"T_d2470_row3_col16\" class=\"data row3 col16\" >&lt;NA&gt;</td>\n      <td id=\"T_d2470_row3_col17\" class=\"data row3 col17\" >&lt;NA&gt;</td>\n      <td id=\"T_d2470_row3_col18\" class=\"data row3 col18\" >&lt;NA&gt;</td>\n      <td id=\"T_d2470_row3_col19\" class=\"data row3 col19\" >&lt;NA&gt;</td>\n      <td id=\"T_d2470_row3_col20\" class=\"data row3 col20\" >&lt;NA&gt;</td>\n      <td id=\"T_d2470_row3_col21\" class=\"data row3 col21\" >SimpleImputer(strategy='median')</td>\n      <td id=\"T_d2470_row3_col22\" class=\"data row3 col22\" >None</td>\n      <td id=\"T_d2470_row3_col23\" class=\"data row3 col23\" >None</td>\n      <td id=\"T_d2470_row3_col24\" class=\"data row3 col24\" >CustomOrdinalEncoder()</td>\n    </tr>\n    <tr>\n      <td id=\"T_d2470_row4_col0\" class=\"data row4 col0\" >5</td>\n      <td id=\"T_d2470_row4_col1\" class=\"data row4 col1\" >-49,609.021</td>\n      <td id=\"T_d2470_row4_col2\" class=\"data row4 col2\" >-51,464.659</td>\n      <td id=\"T_d2470_row4_col3\" class=\"data row4 col3\" >-47,753.383</td>\n      <td id=\"T_d2470_row4_col4\" class=\"data row4 col4\" >XGBRegressor()</td>\n      <td id=\"T_d2470_row4_col5\" class=\"data row4 col5\" >&lt;NA&gt;</td>\n      <td id=\"T_d2470_row4_col6\" class=\"data row4 col6\" >&lt;NA&gt;</td>\n      <td id=\"T_d2470_row4_col7\" class=\"data row4 col7\" >&lt;NA&gt;</td>\n      <td id=\"T_d2470_row4_col8\" class=\"data row4 col8\" >2.000</td>\n      <td id=\"T_d2470_row4_col9\" class=\"data row4 col9\" >1,522.000</td>\n      <td id=\"T_d2470_row4_col10\" class=\"data row4 col10\" >&lt;NA&gt;</td>\n      <td id=\"T_d2470_row4_col11\" class=\"data row4 col11\" >&lt;NA&gt;</td>\n      <td id=\"T_d2470_row4_col12\" class=\"data row4 col12\" >&lt;NA&gt;</td>\n      <td id=\"T_d2470_row4_col13\" class=\"data row4 col13\" >&lt;NA&gt;</td>\n      <td id=\"T_d2470_row4_col14\" class=\"data row4 col14\" >0.073</td>\n      <td id=\"T_d2470_row4_col15\" class=\"data row4 col15\" >12.000</td>\n      <td id=\"T_d2470_row4_col16\" class=\"data row4 col16\" >0.976</td>\n      <td id=\"T_d2470_row4_col17\" class=\"data row4 col17\" >0.857</td>\n      <td id=\"T_d2470_row4_col18\" class=\"data row4 col18\" >0.867</td>\n      <td id=\"T_d2470_row4_col19\" class=\"data row4 col19\" >0.016</td>\n      <td id=\"T_d2470_row4_col20\" class=\"data row4 col20\" >1.651</td>\n      <td id=\"T_d2470_row4_col21\" class=\"data row4 col21\" >SimpleImputer(strategy='most_frequent')</td>\n      <td id=\"T_d2470_row4_col22\" class=\"data row4 col22\" >None</td>\n      <td id=\"T_d2470_row4_col23\" class=\"data row4 col23\" >PCA('mle')</td>\n      <td id=\"T_d2470_row4_col24\" class=\"data row4 col24\" >CustomOrdinalEncoder()</td>\n    </tr>\n    <tr>\n      <td id=\"T_d2470_row5_col0\" class=\"data row5 col0\" >6</td>\n      <td id=\"T_d2470_row5_col1\" class=\"data row5 col1\" >-52,153.840</td>\n      <td id=\"T_d2470_row5_col2\" class=\"data row5 col2\" >-54,074.373</td>\n      <td id=\"T_d2470_row5_col3\" class=\"data row5 col3\" >-50,233.306</td>\n      <td id=\"T_d2470_row5_col4\" class=\"data row5 col4\" >XGBRegressor()</td>\n      <td id=\"T_d2470_row5_col5\" class=\"data row5 col5\" >&lt;NA&gt;</td>\n      <td id=\"T_d2470_row5_col6\" class=\"data row5 col6\" >&lt;NA&gt;</td>\n      <td id=\"T_d2470_row5_col7\" class=\"data row5 col7\" >&lt;NA&gt;</td>\n      <td id=\"T_d2470_row5_col8\" class=\"data row5 col8\" >1.000</td>\n      <td id=\"T_d2470_row5_col9\" class=\"data row5 col9\" >1,164.000</td>\n      <td id=\"T_d2470_row5_col10\" class=\"data row5 col10\" >&lt;NA&gt;</td>\n      <td id=\"T_d2470_row5_col11\" class=\"data row5 col11\" >&lt;NA&gt;</td>\n      <td id=\"T_d2470_row5_col12\" class=\"data row5 col12\" >&lt;NA&gt;</td>\n      <td id=\"T_d2470_row5_col13\" class=\"data row5 col13\" >&lt;NA&gt;</td>\n      <td id=\"T_d2470_row5_col14\" class=\"data row5 col14\" >0.113</td>\n      <td id=\"T_d2470_row5_col15\" class=\"data row5 col15\" >2.000</td>\n      <td id=\"T_d2470_row5_col16\" class=\"data row5 col16\" >0.709</td>\n      <td id=\"T_d2470_row5_col17\" class=\"data row5 col17\" >0.685</td>\n      <td id=\"T_d2470_row5_col18\" class=\"data row5 col18\" >0.797</td>\n      <td id=\"T_d2470_row5_col19\" class=\"data row5 col19\" >0.037</td>\n      <td id=\"T_d2470_row5_col20\" class=\"data row5 col20\" >2.424</td>\n      <td id=\"T_d2470_row5_col21\" class=\"data row5 col21\" >SimpleImputer()</td>\n      <td id=\"T_d2470_row5_col22\" class=\"data row5 col22\" >None</td>\n      <td id=\"T_d2470_row5_col23\" class=\"data row5 col23\" >PCA('mle')</td>\n      <td id=\"T_d2470_row5_col24\" class=\"data row5 col24\" >OneHotEncoder()</td>\n    </tr>\n    <tr>\n      <td id=\"T_d2470_row6_col0\" class=\"data row6 col0\" >7</td>\n      <td id=\"T_d2470_row6_col1\" class=\"data row6 col1\" >-52,677.620</td>\n      <td id=\"T_d2470_row6_col2\" class=\"data row6 col2\" >-55,092.770</td>\n      <td id=\"T_d2470_row6_col3\" class=\"data row6 col3\" >-50,262.469</td>\n      <td id=\"T_d2470_row6_col4\" class=\"data row6 col4\" >ElasticNet(random_state=42)</td>\n      <td id=\"T_d2470_row6_col5\" class=\"data row6 col5\" >0.160</td>\n      <td id=\"T_d2470_row6_col6\" class=\"data row6 col6\" >0.872</td>\n      <td id=\"T_d2470_row6_col7\" class=\"data row6 col7\" >&lt;NA&gt;</td>\n      <td id=\"T_d2470_row6_col8\" class=\"data row6 col8\" >&lt;NA&gt;</td>\n      <td id=\"T_d2470_row6_col9\" class=\"data row6 col9\" >&lt;NA&gt;</td>\n      <td id=\"T_d2470_row6_col10\" class=\"data row6 col10\" >&lt;NA&gt;</td>\n      <td id=\"T_d2470_row6_col11\" class=\"data row6 col11\" >&lt;NA&gt;</td>\n      <td id=\"T_d2470_row6_col12\" class=\"data row6 col12\" >&lt;NA&gt;</td>\n      <td id=\"T_d2470_row6_col13\" class=\"data row6 col13\" >&lt;NA&gt;</td>\n      <td id=\"T_d2470_row6_col14\" class=\"data row6 col14\" >&lt;NA&gt;</td>\n      <td id=\"T_d2470_row6_col15\" class=\"data row6 col15\" >&lt;NA&gt;</td>\n      <td id=\"T_d2470_row6_col16\" class=\"data row6 col16\" >&lt;NA&gt;</td>\n      <td id=\"T_d2470_row6_col17\" class=\"data row6 col17\" >&lt;NA&gt;</td>\n      <td id=\"T_d2470_row6_col18\" class=\"data row6 col18\" >&lt;NA&gt;</td>\n      <td id=\"T_d2470_row6_col19\" class=\"data row6 col19\" >&lt;NA&gt;</td>\n      <td id=\"T_d2470_row6_col20\" class=\"data row6 col20\" >&lt;NA&gt;</td>\n      <td id=\"T_d2470_row6_col21\" class=\"data row6 col21\" >SimpleImputer(strategy='median')</td>\n      <td id=\"T_d2470_row6_col22\" class=\"data row6 col22\" >StandardScaler()</td>\n      <td id=\"T_d2470_row6_col23\" class=\"data row6 col23\" >None</td>\n      <td id=\"T_d2470_row6_col24\" class=\"data row6 col24\" >OneHotEncoder()</td>\n    </tr>\n    <tr>\n      <td id=\"T_d2470_row7_col0\" class=\"data row7 col0\" >8</td>\n      <td id=\"T_d2470_row7_col1\" class=\"data row7 col1\" >-55,212.079</td>\n      <td id=\"T_d2470_row7_col2\" class=\"data row7 col2\" >-58,971.771</td>\n      <td id=\"T_d2470_row7_col3\" class=\"data row7 col3\" >-51,452.386</td>\n      <td id=\"T_d2470_row7_col4\" class=\"data row7 col4\" >XGBRegressor()</td>\n      <td id=\"T_d2470_row7_col5\" class=\"data row7 col5\" >&lt;NA&gt;</td>\n      <td id=\"T_d2470_row7_col6\" class=\"data row7 col6\" >&lt;NA&gt;</td>\n      <td id=\"T_d2470_row7_col7\" class=\"data row7 col7\" >&lt;NA&gt;</td>\n      <td id=\"T_d2470_row7_col8\" class=\"data row7 col8\" >1.000</td>\n      <td id=\"T_d2470_row7_col9\" class=\"data row7 col9\" >797.000</td>\n      <td id=\"T_d2470_row7_col10\" class=\"data row7 col10\" >&lt;NA&gt;</td>\n      <td id=\"T_d2470_row7_col11\" class=\"data row7 col11\" >&lt;NA&gt;</td>\n      <td id=\"T_d2470_row7_col12\" class=\"data row7 col12\" >&lt;NA&gt;</td>\n      <td id=\"T_d2470_row7_col13\" class=\"data row7 col13\" >&lt;NA&gt;</td>\n      <td id=\"T_d2470_row7_col14\" class=\"data row7 col14\" >0.015</td>\n      <td id=\"T_d2470_row7_col15\" class=\"data row7 col15\" >2.000</td>\n      <td id=\"T_d2470_row7_col16\" class=\"data row7 col16\" >0.752</td>\n      <td id=\"T_d2470_row7_col17\" class=\"data row7 col17\" >0.850</td>\n      <td id=\"T_d2470_row7_col18\" class=\"data row7 col18\" >0.560</td>\n      <td id=\"T_d2470_row7_col19\" class=\"data row7 col19\" >0.000</td>\n      <td id=\"T_d2470_row7_col20\" class=\"data row7 col20\" >1.079</td>\n      <td id=\"T_d2470_row7_col21\" class=\"data row7 col21\" >SimpleImputer(strategy='most_frequent')</td>\n      <td id=\"T_d2470_row7_col22\" class=\"data row7 col22\" >None</td>\n      <td id=\"T_d2470_row7_col23\" class=\"data row7 col23\" >None</td>\n      <td id=\"T_d2470_row7_col24\" class=\"data row7 col24\" >CustomOrdinalEncoder()</td>\n    </tr>\n    <tr>\n      <td id=\"T_d2470_row8_col0\" class=\"data row8 col0\" >9</td>\n      <td id=\"T_d2470_row8_col1\" class=\"data row8 col1\" >-58,547.701</td>\n      <td id=\"T_d2470_row8_col2\" class=\"data row8 col2\" >-62,235.960</td>\n      <td id=\"T_d2470_row8_col3\" class=\"data row8 col3\" >-54,859.442</td>\n      <td id=\"T_d2470_row8_col4\" class=\"data row8 col4\" >ElasticNet(random_state=42)</td>\n      <td id=\"T_d2470_row8_col5\" class=\"data row8 col5\" >0.807</td>\n      <td id=\"T_d2470_row8_col6\" class=\"data row8 col6\" >0.741</td>\n      <td id=\"T_d2470_row8_col7\" class=\"data row8 col7\" >&lt;NA&gt;</td>\n      <td id=\"T_d2470_row8_col8\" class=\"data row8 col8\" >&lt;NA&gt;</td>\n      <td id=\"T_d2470_row8_col9\" class=\"data row8 col9\" >&lt;NA&gt;</td>\n      <td id=\"T_d2470_row8_col10\" class=\"data row8 col10\" >&lt;NA&gt;</td>\n      <td id=\"T_d2470_row8_col11\" class=\"data row8 col11\" >&lt;NA&gt;</td>\n      <td id=\"T_d2470_row8_col12\" class=\"data row8 col12\" >&lt;NA&gt;</td>\n      <td id=\"T_d2470_row8_col13\" class=\"data row8 col13\" >&lt;NA&gt;</td>\n      <td id=\"T_d2470_row8_col14\" class=\"data row8 col14\" >&lt;NA&gt;</td>\n      <td id=\"T_d2470_row8_col15\" class=\"data row8 col15\" >&lt;NA&gt;</td>\n      <td id=\"T_d2470_row8_col16\" class=\"data row8 col16\" >&lt;NA&gt;</td>\n      <td id=\"T_d2470_row8_col17\" class=\"data row8 col17\" >&lt;NA&gt;</td>\n      <td id=\"T_d2470_row8_col18\" class=\"data row8 col18\" >&lt;NA&gt;</td>\n      <td id=\"T_d2470_row8_col19\" class=\"data row8 col19\" >&lt;NA&gt;</td>\n      <td id=\"T_d2470_row8_col20\" class=\"data row8 col20\" >&lt;NA&gt;</td>\n      <td id=\"T_d2470_row8_col21\" class=\"data row8 col21\" >SimpleImputer(strategy='median')</td>\n      <td id=\"T_d2470_row8_col22\" class=\"data row8 col22\" >StandardScaler()</td>\n      <td id=\"T_d2470_row8_col23\" class=\"data row8 col23\" >None</td>\n      <td id=\"T_d2470_row8_col24\" class=\"data row8 col24\" >OneHotEncoder()</td>\n    </tr>\n    <tr>\n      <td id=\"T_d2470_row9_col0\" class=\"data row9 col0\" >10</td>\n      <td id=\"T_d2470_row9_col1\" class=\"data row9 col1\" >-63,443.298</td>\n      <td id=\"T_d2470_row9_col2\" class=\"data row9 col2\" >-65,613.901</td>\n      <td id=\"T_d2470_row9_col3\" class=\"data row9 col3\" >-61,272.694</td>\n      <td id=\"T_d2470_row9_col4\" class=\"data row9 col4\" >RandomForestRegressor()</td>\n      <td id=\"T_d2470_row9_col5\" class=\"data row9 col5\" >&lt;NA&gt;</td>\n      <td id=\"T_d2470_row9_col6\" class=\"data row9 col6\" >&lt;NA&gt;</td>\n      <td id=\"T_d2470_row9_col7\" class=\"data row9 col7\" >0.672</td>\n      <td id=\"T_d2470_row9_col8\" class=\"data row9 col8\" >81.000</td>\n      <td id=\"T_d2470_row9_col9\" class=\"data row9 col9\" >1,136.000</td>\n      <td id=\"T_d2470_row9_col10\" class=\"data row9 col10\" >34.000</td>\n      <td id=\"T_d2470_row9_col11\" class=\"data row9 col11\" >34.000</td>\n      <td id=\"T_d2470_row9_col12\" class=\"data row9 col12\" >0.971</td>\n      <td id=\"T_d2470_row9_col13\" class=\"data row9 col13\" >poisson</td>\n      <td id=\"T_d2470_row9_col14\" class=\"data row9 col14\" >&lt;NA&gt;</td>\n      <td id=\"T_d2470_row9_col15\" class=\"data row9 col15\" >&lt;NA&gt;</td>\n      <td id=\"T_d2470_row9_col16\" class=\"data row9 col16\" >&lt;NA&gt;</td>\n      <td id=\"T_d2470_row9_col17\" class=\"data row9 col17\" >&lt;NA&gt;</td>\n      <td id=\"T_d2470_row9_col18\" class=\"data row9 col18\" >&lt;NA&gt;</td>\n      <td id=\"T_d2470_row9_col19\" class=\"data row9 col19\" >&lt;NA&gt;</td>\n      <td id=\"T_d2470_row9_col20\" class=\"data row9 col20\" >&lt;NA&gt;</td>\n      <td id=\"T_d2470_row9_col21\" class=\"data row9 col21\" >SimpleImputer(strategy='median')</td>\n      <td id=\"T_d2470_row9_col22\" class=\"data row9 col22\" >None</td>\n      <td id=\"T_d2470_row9_col23\" class=\"data row9 col23\" >PCA('mle')</td>\n      <td id=\"T_d2470_row9_col24\" class=\"data row9 col24\" >CustomOrdinalEncoder()</td>\n    </tr>\n    <tr>\n      <td id=\"T_d2470_row10_col0\" class=\"data row10 col0\" >11</td>\n      <td id=\"T_d2470_row10_col1\" class=\"data row10 col1\" >-63,620.424</td>\n      <td id=\"T_d2470_row10_col2\" class=\"data row10 col2\" >-67,016.590</td>\n      <td id=\"T_d2470_row10_col3\" class=\"data row10 col3\" >-60,224.259</td>\n      <td id=\"T_d2470_row10_col4\" class=\"data row10 col4\" >ExtraTreesRegressor()</td>\n      <td id=\"T_d2470_row10_col5\" class=\"data row10 col5\" >&lt;NA&gt;</td>\n      <td id=\"T_d2470_row10_col6\" class=\"data row10 col6\" >&lt;NA&gt;</td>\n      <td id=\"T_d2470_row10_col7\" class=\"data row10 col7\" >0.473</td>\n      <td id=\"T_d2470_row10_col8\" class=\"data row10 col8\" >25.000</td>\n      <td id=\"T_d2470_row10_col9\" class=\"data row10 col9\" >834.000</td>\n      <td id=\"T_d2470_row10_col10\" class=\"data row10 col10\" >48.000</td>\n      <td id=\"T_d2470_row10_col11\" class=\"data row10 col11\" >6.000</td>\n      <td id=\"T_d2470_row10_col12\" class=\"data row10 col12\" >0.631</td>\n      <td id=\"T_d2470_row10_col13\" class=\"data row10 col13\" >squared_error</td>\n      <td id=\"T_d2470_row10_col14\" class=\"data row10 col14\" >&lt;NA&gt;</td>\n      <td id=\"T_d2470_row10_col15\" class=\"data row10 col15\" >&lt;NA&gt;</td>\n      <td id=\"T_d2470_row10_col16\" class=\"data row10 col16\" >&lt;NA&gt;</td>\n      <td id=\"T_d2470_row10_col17\" class=\"data row10 col17\" >&lt;NA&gt;</td>\n      <td id=\"T_d2470_row10_col18\" class=\"data row10 col18\" >&lt;NA&gt;</td>\n      <td id=\"T_d2470_row10_col19\" class=\"data row10 col19\" >&lt;NA&gt;</td>\n      <td id=\"T_d2470_row10_col20\" class=\"data row10 col20\" >&lt;NA&gt;</td>\n      <td id=\"T_d2470_row10_col21\" class=\"data row10 col21\" >SimpleImputer()</td>\n      <td id=\"T_d2470_row10_col22\" class=\"data row10 col22\" >None</td>\n      <td id=\"T_d2470_row10_col23\" class=\"data row10 col23\" >PCA('mle')</td>\n      <td id=\"T_d2470_row10_col24\" class=\"data row10 col24\" >CustomOrdinalEncoder()</td>\n    </tr>\n    <tr>\n      <td id=\"T_d2470_row11_col0\" class=\"data row11 col0\" >12</td>\n      <td id=\"T_d2470_row11_col1\" class=\"data row11 col1\" >-64,157.657</td>\n      <td id=\"T_d2470_row11_col2\" class=\"data row11 col2\" >-68,258.783</td>\n      <td id=\"T_d2470_row11_col3\" class=\"data row11 col3\" >-60,056.530</td>\n      <td id=\"T_d2470_row11_col4\" class=\"data row11 col4\" >ElasticNet(random_state=42)</td>\n      <td id=\"T_d2470_row11_col5\" class=\"data row11 col5\" >&lt;NA&gt;</td>\n      <td id=\"T_d2470_row11_col6\" class=\"data row11 col6\" >&lt;NA&gt;</td>\n      <td id=\"T_d2470_row11_col7\" class=\"data row11 col7\" >&lt;NA&gt;</td>\n      <td id=\"T_d2470_row11_col8\" class=\"data row11 col8\" >&lt;NA&gt;</td>\n      <td id=\"T_d2470_row11_col9\" class=\"data row11 col9\" >&lt;NA&gt;</td>\n      <td id=\"T_d2470_row11_col10\" class=\"data row11 col10\" >&lt;NA&gt;</td>\n      <td id=\"T_d2470_row11_col11\" class=\"data row11 col11\" >&lt;NA&gt;</td>\n      <td id=\"T_d2470_row11_col12\" class=\"data row11 col12\" >&lt;NA&gt;</td>\n      <td id=\"T_d2470_row11_col13\" class=\"data row11 col13\" >&lt;NA&gt;</td>\n      <td id=\"T_d2470_row11_col14\" class=\"data row11 col14\" >&lt;NA&gt;</td>\n      <td id=\"T_d2470_row11_col15\" class=\"data row11 col15\" >&lt;NA&gt;</td>\n      <td id=\"T_d2470_row11_col16\" class=\"data row11 col16\" >&lt;NA&gt;</td>\n      <td id=\"T_d2470_row11_col17\" class=\"data row11 col17\" >&lt;NA&gt;</td>\n      <td id=\"T_d2470_row11_col18\" class=\"data row11 col18\" >&lt;NA&gt;</td>\n      <td id=\"T_d2470_row11_col19\" class=\"data row11 col19\" >&lt;NA&gt;</td>\n      <td id=\"T_d2470_row11_col20\" class=\"data row11 col20\" >&lt;NA&gt;</td>\n      <td id=\"T_d2470_row11_col21\" class=\"data row11 col21\" >SimpleImputer()</td>\n      <td id=\"T_d2470_row11_col22\" class=\"data row11 col22\" >StandardScaler()</td>\n      <td id=\"T_d2470_row11_col23\" class=\"data row11 col23\" >None</td>\n      <td id=\"T_d2470_row11_col24\" class=\"data row11 col24\" >OneHotEncoder()</td>\n    </tr>\n    <tr>\n      <td id=\"T_d2470_row12_col0\" class=\"data row12 col0\" >13</td>\n      <td id=\"T_d2470_row12_col1\" class=\"data row12 col1\" >-64,330.981</td>\n      <td id=\"T_d2470_row12_col2\" class=\"data row12 col2\" >-66,913.593</td>\n      <td id=\"T_d2470_row12_col3\" class=\"data row12 col3\" >-61,748.368</td>\n      <td id=\"T_d2470_row12_col4\" class=\"data row12 col4\" >RandomForestRegressor()</td>\n      <td id=\"T_d2470_row12_col5\" class=\"data row12 col5\" >&lt;NA&gt;</td>\n      <td id=\"T_d2470_row12_col6\" class=\"data row12 col6\" >&lt;NA&gt;</td>\n      <td id=\"T_d2470_row12_col7\" class=\"data row12 col7\" >0.781</td>\n      <td id=\"T_d2470_row12_col8\" class=\"data row12 col8\" >50.000</td>\n      <td id=\"T_d2470_row12_col9\" class=\"data row12 col9\" >590.000</td>\n      <td id=\"T_d2470_row12_col10\" class=\"data row12 col10\" >35.000</td>\n      <td id=\"T_d2470_row12_col11\" class=\"data row12 col11\" >47.000</td>\n      <td id=\"T_d2470_row12_col12\" class=\"data row12 col12\" >0.846</td>\n      <td id=\"T_d2470_row12_col13\" class=\"data row12 col13\" >poisson</td>\n      <td id=\"T_d2470_row12_col14\" class=\"data row12 col14\" >&lt;NA&gt;</td>\n      <td id=\"T_d2470_row12_col15\" class=\"data row12 col15\" >&lt;NA&gt;</td>\n      <td id=\"T_d2470_row12_col16\" class=\"data row12 col16\" >&lt;NA&gt;</td>\n      <td id=\"T_d2470_row12_col17\" class=\"data row12 col17\" >&lt;NA&gt;</td>\n      <td id=\"T_d2470_row12_col18\" class=\"data row12 col18\" >&lt;NA&gt;</td>\n      <td id=\"T_d2470_row12_col19\" class=\"data row12 col19\" >&lt;NA&gt;</td>\n      <td id=\"T_d2470_row12_col20\" class=\"data row12 col20\" >&lt;NA&gt;</td>\n      <td id=\"T_d2470_row12_col21\" class=\"data row12 col21\" >SimpleImputer(strategy='median')</td>\n      <td id=\"T_d2470_row12_col22\" class=\"data row12 col22\" >None</td>\n      <td id=\"T_d2470_row12_col23\" class=\"data row12 col23\" >PCA('mle')</td>\n      <td id=\"T_d2470_row12_col24\" class=\"data row12 col24\" >OneHotEncoder()</td>\n    </tr>\n    <tr>\n      <td id=\"T_d2470_row13_col0\" class=\"data row13 col0\" >14</td>\n      <td id=\"T_d2470_row13_col1\" class=\"data row13 col1\" >-75,184.601</td>\n      <td id=\"T_d2470_row13_col2\" class=\"data row13 col2\" >-78,639.558</td>\n      <td id=\"T_d2470_row13_col3\" class=\"data row13 col3\" >-71,729.645</td>\n      <td id=\"T_d2470_row13_col4\" class=\"data row13 col4\" >ExtraTreesRegressor()</td>\n      <td id=\"T_d2470_row13_col5\" class=\"data row13 col5\" >&lt;NA&gt;</td>\n      <td id=\"T_d2470_row13_col6\" class=\"data row13 col6\" >&lt;NA&gt;</td>\n      <td id=\"T_d2470_row13_col7\" class=\"data row13 col7\" >0.362</td>\n      <td id=\"T_d2470_row13_col8\" class=\"data row13 col8\" >85.000</td>\n      <td id=\"T_d2470_row13_col9\" class=\"data row13 col9\" >1,378.000</td>\n      <td id=\"T_d2470_row13_col10\" class=\"data row13 col10\" >5.000</td>\n      <td id=\"T_d2470_row13_col11\" class=\"data row13 col11\" >10.000</td>\n      <td id=\"T_d2470_row13_col12\" class=\"data row13 col12\" >0.899</td>\n      <td id=\"T_d2470_row13_col13\" class=\"data row13 col13\" >absolute_error</td>\n      <td id=\"T_d2470_row13_col14\" class=\"data row13 col14\" >&lt;NA&gt;</td>\n      <td id=\"T_d2470_row13_col15\" class=\"data row13 col15\" >&lt;NA&gt;</td>\n      <td id=\"T_d2470_row13_col16\" class=\"data row13 col16\" >&lt;NA&gt;</td>\n      <td id=\"T_d2470_row13_col17\" class=\"data row13 col17\" >&lt;NA&gt;</td>\n      <td id=\"T_d2470_row13_col18\" class=\"data row13 col18\" >&lt;NA&gt;</td>\n      <td id=\"T_d2470_row13_col19\" class=\"data row13 col19\" >&lt;NA&gt;</td>\n      <td id=\"T_d2470_row13_col20\" class=\"data row13 col20\" >&lt;NA&gt;</td>\n      <td id=\"T_d2470_row13_col21\" class=\"data row13 col21\" >SimpleImputer(strategy='most_frequent')</td>\n      <td id=\"T_d2470_row13_col22\" class=\"data row13 col22\" >None</td>\n      <td id=\"T_d2470_row13_col23\" class=\"data row13 col23\" >PCA('mle')</td>\n      <td id=\"T_d2470_row13_col24\" class=\"data row13 col24\" >OneHotEncoder()</td>\n    </tr>\n    <tr>\n      <td id=\"T_d2470_row14_col0\" class=\"data row14 col0\" >15</td>\n      <td id=\"T_d2470_row14_col1\" class=\"data row14 col1\" >-85,205.378</td>\n      <td id=\"T_d2470_row14_col2\" class=\"data row14 col2\" >-89,229.245</td>\n      <td id=\"T_d2470_row14_col3\" class=\"data row14 col3\" >-81,181.511</td>\n      <td id=\"T_d2470_row14_col4\" class=\"data row14 col4\" >ExtraTreesRegressor()</td>\n      <td id=\"T_d2470_row14_col5\" class=\"data row14 col5\" >&lt;NA&gt;</td>\n      <td id=\"T_d2470_row14_col6\" class=\"data row14 col6\" >&lt;NA&gt;</td>\n      <td id=\"T_d2470_row14_col7\" class=\"data row14 col7\" >0.300</td>\n      <td id=\"T_d2470_row14_col8\" class=\"data row14 col8\" >96.000</td>\n      <td id=\"T_d2470_row14_col9\" class=\"data row14 col9\" >824.000</td>\n      <td id=\"T_d2470_row14_col10\" class=\"data row14 col10\" >21.000</td>\n      <td id=\"T_d2470_row14_col11\" class=\"data row14 col11\" >20.000</td>\n      <td id=\"T_d2470_row14_col12\" class=\"data row14 col12\" >0.746</td>\n      <td id=\"T_d2470_row14_col13\" class=\"data row14 col13\" >poisson</td>\n      <td id=\"T_d2470_row14_col14\" class=\"data row14 col14\" >&lt;NA&gt;</td>\n      <td id=\"T_d2470_row14_col15\" class=\"data row14 col15\" >&lt;NA&gt;</td>\n      <td id=\"T_d2470_row14_col16\" class=\"data row14 col16\" >&lt;NA&gt;</td>\n      <td id=\"T_d2470_row14_col17\" class=\"data row14 col17\" >&lt;NA&gt;</td>\n      <td id=\"T_d2470_row14_col18\" class=\"data row14 col18\" >&lt;NA&gt;</td>\n      <td id=\"T_d2470_row14_col19\" class=\"data row14 col19\" >&lt;NA&gt;</td>\n      <td id=\"T_d2470_row14_col20\" class=\"data row14 col20\" >&lt;NA&gt;</td>\n      <td id=\"T_d2470_row14_col21\" class=\"data row14 col21\" >SimpleImputer(strategy='most_frequent')</td>\n      <td id=\"T_d2470_row14_col22\" class=\"data row14 col22\" >None</td>\n      <td id=\"T_d2470_row14_col23\" class=\"data row14 col23\" >PCA('mle')</td>\n      <td id=\"T_d2470_row14_col24\" class=\"data row14 col24\" >OneHotEncoder()</td>\n    </tr>\n    <tr>\n      <td id=\"T_d2470_row15_col0\" class=\"data row15 col0\" >16</td>\n      <td id=\"T_d2470_row15_col1\" class=\"data row15 col1\" >-92,504.486</td>\n      <td id=\"T_d2470_row15_col2\" class=\"data row15 col2\" >-96,736.107</td>\n      <td id=\"T_d2470_row15_col3\" class=\"data row15 col3\" >-88,272.865</td>\n      <td id=\"T_d2470_row15_col4\" class=\"data row15 col4\" >ElasticNet(random_state=42)</td>\n      <td id=\"T_d2470_row15_col5\" class=\"data row15 col5\" >3.312</td>\n      <td id=\"T_d2470_row15_col6\" class=\"data row15 col6\" >0.496</td>\n      <td id=\"T_d2470_row15_col7\" class=\"data row15 col7\" >&lt;NA&gt;</td>\n      <td id=\"T_d2470_row15_col8\" class=\"data row15 col8\" >&lt;NA&gt;</td>\n      <td id=\"T_d2470_row15_col9\" class=\"data row15 col9\" >&lt;NA&gt;</td>\n      <td id=\"T_d2470_row15_col10\" class=\"data row15 col10\" >&lt;NA&gt;</td>\n      <td id=\"T_d2470_row15_col11\" class=\"data row15 col11\" >&lt;NA&gt;</td>\n      <td id=\"T_d2470_row15_col12\" class=\"data row15 col12\" >&lt;NA&gt;</td>\n      <td id=\"T_d2470_row15_col13\" class=\"data row15 col13\" >&lt;NA&gt;</td>\n      <td id=\"T_d2470_row15_col14\" class=\"data row15 col14\" >&lt;NA&gt;</td>\n      <td id=\"T_d2470_row15_col15\" class=\"data row15 col15\" >&lt;NA&gt;</td>\n      <td id=\"T_d2470_row15_col16\" class=\"data row15 col16\" >&lt;NA&gt;</td>\n      <td id=\"T_d2470_row15_col17\" class=\"data row15 col17\" >&lt;NA&gt;</td>\n      <td id=\"T_d2470_row15_col18\" class=\"data row15 col18\" >&lt;NA&gt;</td>\n      <td id=\"T_d2470_row15_col19\" class=\"data row15 col19\" >&lt;NA&gt;</td>\n      <td id=\"T_d2470_row15_col20\" class=\"data row15 col20\" >&lt;NA&gt;</td>\n      <td id=\"T_d2470_row15_col21\" class=\"data row15 col21\" >SimpleImputer(strategy='median')</td>\n      <td id=\"T_d2470_row15_col22\" class=\"data row15 col22\" >MinMaxScaler()</td>\n      <td id=\"T_d2470_row15_col23\" class=\"data row15 col23\" >None</td>\n      <td id=\"T_d2470_row15_col24\" class=\"data row15 col24\" >CustomOrdinalEncoder()</td>\n    </tr>\n  </tbody>\n</table>\n"
     },
     "execution_count": 48,
     "metadata": {},
     "output_type": "execute_result"
    }
   ],
   "source": [
    "results.to_formatted_dataframe(return_style=True,\n",
    "                               include_rank=True,\n",
    "                               num_rows=1000)"
   ],
   "metadata": {
    "collapsed": false,
    "pycharm": {
     "name": "#%%\n"
    }
   }
  },
  {
   "cell_type": "code",
   "execution_count": null,
   "outputs": [],
   "source": [],
   "metadata": {
    "collapsed": false,
    "pycharm": {
     "name": "#%%\n"
    }
   }
  }
 ],
 "metadata": {
  "kernelspec": {
   "display_name": "Python 3 (ipykernel)",
   "language": "python",
   "name": "python3"
  },
  "language_info": {
   "codemirror_mode": {
    "name": "ipython",
    "version": 3
   },
   "file_extension": ".py",
   "mimetype": "text/x-python",
   "name": "python",
   "nbconvert_exporter": "python",
   "pygments_lexer": "ipython3",
   "version": "3.9.6"
  },
  "toc": {
   "base_numbering": 1,
   "nav_menu": {},
   "number_sections": false,
   "sideBar": true,
   "skip_h1_title": false,
   "title_cell": "Table of Contents",
   "title_sidebar": "Contents",
   "toc_cell": false,
   "toc_position": {
    "height": "calc(100% - 180px)",
    "left": "10px",
    "top": "150px",
    "width": "298px"
   },
   "toc_section_display": true,
   "toc_window_display": true
  }
 },
 "nbformat": 4,
 "nbformat_minor": 5
}